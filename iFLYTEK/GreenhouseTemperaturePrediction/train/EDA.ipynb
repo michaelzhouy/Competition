{
 "cells": [
  {
   "cell_type": "code",
   "execution_count": 1,
   "metadata": {
    "ExecuteTime": {
     "end_time": "2020-07-15T09:45:11.614443Z",
     "start_time": "2020-07-15T09:45:10.627445Z"
    }
   },
   "outputs": [],
   "source": [
    "import numpy as np\n",
    "import pandas as pd\n",
    "import matplotlib.pyplot as plt\n",
    "import seaborn as sns\n",
    "import missingno as msno\n",
    "import scipy.stats as st"
   ]
  },
  {
   "cell_type": "code",
   "execution_count": 2,
   "metadata": {
    "ExecuteTime": {
     "end_time": "2020-07-15T09:45:11.627008Z",
     "start_time": "2020-07-15T09:45:11.615996Z"
    }
   },
   "outputs": [],
   "source": [
    "def reduce_mem_usage(df):\n",
    "    \"\"\"\n",
    "    iterate through all the columns of a dataframe and modify the data type to reduce memory usage.\n",
    "    @param df:\n",
    "    @return:\n",
    "    \"\"\"\n",
    "    start_mem = df.memory_usage().sum()\n",
    "    print('Memory usage of dataframe is {:.2f} MB'.format(start_mem))\n",
    "\n",
    "    for col in df.columns:\n",
    "        col_type = df[col].dtype\n",
    "\n",
    "        if col_type != object:\n",
    "            c_min = df[col].min()\n",
    "            c_max = df[col].max()\n",
    "            if str(col_type)[:3] == 'int':\n",
    "                if c_min > np.iinfo(np.int8).min and c_max < np.iinfo(np.int8).max:\n",
    "                    df[col] = df[col].astype(np.int8)\n",
    "                elif c_min > np.iinfo(np.int16).min and c_max < np.iinfo(np.int16).max:\n",
    "                    df[col] = df[col].astype(np.int16)\n",
    "                elif c_min > np.iinfo(np.int32).min and c_max < np.iinfo(np.int32).max:\n",
    "                    df[col] = df[col].astype(np.int32)\n",
    "                elif c_min > np.iinfo(np.int64).min and c_max < np.iinfo(np.int64).max:\n",
    "                    df[col] = df[col].astype(np.int64)\n",
    "            else:\n",
    "                if c_min > np.finfo(np.float16).min and c_max < np.finfo(np.float16).max:\n",
    "                    df[col] = df[col].astype(np.float16)\n",
    "                elif c_min > np.finfo(np.float32).min and c_max < np.finfo(np.float32).max:\n",
    "                    df[col] = df[col].astype(np.float32)\n",
    "                else:\n",
    "                    df[col] = df[col].astype(np.float64)\n",
    "        else:\n",
    "            df[col] = df[col].astype('category')\n",
    "            df[col] = df[col].astype('str')\n",
    "\n",
    "    end_mem = df.memory_usage().sum()\n",
    "    print('Memory usage after optimization is: {:.2f} MB'.format(end_mem))\n",
    "    print('Decreased by {:.1f}%'.format(100 * (start_mem - end_mem) / start_mem))\n",
    "    return df"
   ]
  },
  {
   "cell_type": "code",
   "execution_count": 3,
   "metadata": {
    "ExecuteTime": {
     "end_time": "2020-07-15T09:45:11.694160Z",
     "start_time": "2020-07-15T09:45:11.627963Z"
    }
   },
   "outputs": [
    {
     "name": "stdout",
     "output_type": "stream",
     "text": [
      "Memory usage of dataframe is 2651816.00 MB\n",
      "Memory usage after optimization is: 586559.00 MB\n",
      "Decreased by 77.9%\n",
      "Memory usage of dataframe is 39104.00 MB\n",
      "Memory usage after optimization is: 8654.00 MB\n",
      "Decreased by 77.9%\n"
     ]
    }
   ],
   "source": [
    "path = '../input/'\n",
    "train = reduce_mem_usage(pd.read_csv(path + 'train.csv'))\n",
    "test = reduce_mem_usage(pd.read_csv(path + 'test.csv'))"
   ]
  },
  {
   "cell_type": "code",
   "execution_count": 4,
   "metadata": {
    "ExecuteTime": {
     "end_time": "2020-07-15T09:45:11.701143Z",
     "start_time": "2020-07-15T09:45:11.695158Z"
    }
   },
   "outputs": [],
   "source": [
    "train.columns = ['time', 'year', 'month', 'day', 'hour', 'min', 'sec', 'outdoorTemp', 'outdoorHum', 'outdoorAtmo',\n",
    "                 'indoorHum', 'indoorAtmo', 'temperature']\n",
    "test.columns = ['time', 'year', 'month', 'day', 'hour', 'min', 'sec', 'outdoorTemp', 'outdoorHum', 'outdoorAtmo',\n",
    "                'indoorHum', 'indoorAtmo']"
   ]
  },
  {
   "cell_type": "code",
   "execution_count": 5,
   "metadata": {
    "ExecuteTime": {
     "end_time": "2020-07-15T09:45:11.709159Z",
     "start_time": "2020-07-15T09:45:11.702171Z"
    }
   },
   "outputs": [
    {
     "data": {
      "text/plain": [
       "((25497, 13), (406, 12))"
      ]
     },
     "execution_count": 5,
     "metadata": {},
     "output_type": "execute_result"
    }
   ],
   "source": [
    "train.shape, test.shape"
   ]
  },
  {
   "cell_type": "code",
   "execution_count": 6,
   "metadata": {
    "ExecuteTime": {
     "end_time": "2020-07-15T09:45:11.717131Z",
     "start_time": "2020-07-15T09:45:11.710118Z"
    }
   },
   "outputs": [],
   "source": [
    "train = train[train['temperature'].notnull()]"
   ]
  },
  {
   "cell_type": "code",
   "execution_count": 7,
   "metadata": {
    "ExecuteTime": {
     "end_time": "2020-07-15T09:45:11.738073Z",
     "start_time": "2020-07-15T09:45:11.719096Z"
    }
   },
   "outputs": [
    {
     "data": {
      "text/html": [
       "<div>\n",
       "<style scoped>\n",
       "    .dataframe tbody tr th:only-of-type {\n",
       "        vertical-align: middle;\n",
       "    }\n",
       "\n",
       "    .dataframe tbody tr th {\n",
       "        vertical-align: top;\n",
       "    }\n",
       "\n",
       "    .dataframe thead th {\n",
       "        text-align: right;\n",
       "    }\n",
       "</style>\n",
       "<table border=\"1\" class=\"dataframe\">\n",
       "  <thead>\n",
       "    <tr style=\"text-align: right;\">\n",
       "      <th></th>\n",
       "      <th>time</th>\n",
       "      <th>year</th>\n",
       "      <th>month</th>\n",
       "      <th>day</th>\n",
       "      <th>hour</th>\n",
       "      <th>min</th>\n",
       "      <th>sec</th>\n",
       "      <th>outdoorTemp</th>\n",
       "      <th>outdoorHum</th>\n",
       "      <th>outdoorAtmo</th>\n",
       "      <th>indoorHum</th>\n",
       "      <th>indoorAtmo</th>\n",
       "      <th>temperature</th>\n",
       "    </tr>\n",
       "  </thead>\n",
       "  <tbody>\n",
       "    <tr>\n",
       "      <th>0</th>\n",
       "      <td>1552496443</td>\n",
       "      <td>2019</td>\n",
       "      <td>3</td>\n",
       "      <td>14</td>\n",
       "      <td>1</td>\n",
       "      <td>0</td>\n",
       "      <td>43</td>\n",
       "      <td>14.601562</td>\n",
       "      <td>85.0</td>\n",
       "      <td>993.0</td>\n",
       "      <td>80.0</td>\n",
       "      <td>992.5</td>\n",
       "      <td>15.398438</td>\n",
       "    </tr>\n",
       "    <tr>\n",
       "      <th>1</th>\n",
       "      <td>1552496503</td>\n",
       "      <td>2019</td>\n",
       "      <td>3</td>\n",
       "      <td>14</td>\n",
       "      <td>1</td>\n",
       "      <td>1</td>\n",
       "      <td>43</td>\n",
       "      <td>14.703125</td>\n",
       "      <td>84.0</td>\n",
       "      <td>993.0</td>\n",
       "      <td>80.0</td>\n",
       "      <td>992.5</td>\n",
       "      <td>15.398438</td>\n",
       "    </tr>\n",
       "    <tr>\n",
       "      <th>2</th>\n",
       "      <td>1552496565</td>\n",
       "      <td>2019</td>\n",
       "      <td>3</td>\n",
       "      <td>14</td>\n",
       "      <td>1</td>\n",
       "      <td>2</td>\n",
       "      <td>45</td>\n",
       "      <td>14.703125</td>\n",
       "      <td>84.0</td>\n",
       "      <td>992.5</td>\n",
       "      <td>80.0</td>\n",
       "      <td>993.0</td>\n",
       "      <td>15.398438</td>\n",
       "    </tr>\n",
       "    <tr>\n",
       "      <th>3</th>\n",
       "      <td>1552496624</td>\n",
       "      <td>2019</td>\n",
       "      <td>3</td>\n",
       "      <td>14</td>\n",
       "      <td>1</td>\n",
       "      <td>3</td>\n",
       "      <td>44</td>\n",
       "      <td>14.601562</td>\n",
       "      <td>85.0</td>\n",
       "      <td>993.0</td>\n",
       "      <td>80.0</td>\n",
       "      <td>992.5</td>\n",
       "      <td>15.398438</td>\n",
       "    </tr>\n",
       "    <tr>\n",
       "      <th>4</th>\n",
       "      <td>1552496682</td>\n",
       "      <td>2019</td>\n",
       "      <td>3</td>\n",
       "      <td>14</td>\n",
       "      <td>1</td>\n",
       "      <td>4</td>\n",
       "      <td>42</td>\n",
       "      <td>14.601562</td>\n",
       "      <td>85.0</td>\n",
       "      <td>992.5</td>\n",
       "      <td>80.0</td>\n",
       "      <td>992.5</td>\n",
       "      <td>15.296875</td>\n",
       "    </tr>\n",
       "    <tr>\n",
       "      <th>25492</th>\n",
       "      <td>1554224151</td>\n",
       "      <td>2019</td>\n",
       "      <td>4</td>\n",
       "      <td>3</td>\n",
       "      <td>0</td>\n",
       "      <td>55</td>\n",
       "      <td>51</td>\n",
       "      <td>17.296875</td>\n",
       "      <td>78.0</td>\n",
       "      <td>984.0</td>\n",
       "      <td>75.0</td>\n",
       "      <td>982.0</td>\n",
       "      <td>17.406250</td>\n",
       "    </tr>\n",
       "    <tr>\n",
       "      <th>25493</th>\n",
       "      <td>1554224212</td>\n",
       "      <td>2019</td>\n",
       "      <td>4</td>\n",
       "      <td>3</td>\n",
       "      <td>0</td>\n",
       "      <td>56</td>\n",
       "      <td>52</td>\n",
       "      <td>17.296875</td>\n",
       "      <td>77.0</td>\n",
       "      <td>983.5</td>\n",
       "      <td>75.0</td>\n",
       "      <td>982.5</td>\n",
       "      <td>17.406250</td>\n",
       "    </tr>\n",
       "    <tr>\n",
       "      <th>25494</th>\n",
       "      <td>1554224272</td>\n",
       "      <td>2019</td>\n",
       "      <td>4</td>\n",
       "      <td>3</td>\n",
       "      <td>0</td>\n",
       "      <td>57</td>\n",
       "      <td>52</td>\n",
       "      <td>17.296875</td>\n",
       "      <td>77.0</td>\n",
       "      <td>983.0</td>\n",
       "      <td>75.0</td>\n",
       "      <td>982.0</td>\n",
       "      <td>17.406250</td>\n",
       "    </tr>\n",
       "    <tr>\n",
       "      <th>25495</th>\n",
       "      <td>1554224332</td>\n",
       "      <td>2019</td>\n",
       "      <td>4</td>\n",
       "      <td>3</td>\n",
       "      <td>0</td>\n",
       "      <td>58</td>\n",
       "      <td>52</td>\n",
       "      <td>17.296875</td>\n",
       "      <td>77.0</td>\n",
       "      <td>983.5</td>\n",
       "      <td>75.0</td>\n",
       "      <td>982.5</td>\n",
       "      <td>17.406250</td>\n",
       "    </tr>\n",
       "    <tr>\n",
       "      <th>25496</th>\n",
       "      <td>1554224391</td>\n",
       "      <td>2019</td>\n",
       "      <td>4</td>\n",
       "      <td>3</td>\n",
       "      <td>0</td>\n",
       "      <td>59</td>\n",
       "      <td>51</td>\n",
       "      <td>17.203125</td>\n",
       "      <td>77.0</td>\n",
       "      <td>983.0</td>\n",
       "      <td>75.0</td>\n",
       "      <td>982.5</td>\n",
       "      <td>17.406250</td>\n",
       "    </tr>\n",
       "  </tbody>\n",
       "</table>\n",
       "</div>"
      ],
      "text/plain": [
       "             time  year  month  day  hour  min  sec  outdoorTemp  outdoorHum  \\\n",
       "0      1552496443  2019      3   14     1    0   43    14.601562        85.0   \n",
       "1      1552496503  2019      3   14     1    1   43    14.703125        84.0   \n",
       "2      1552496565  2019      3   14     1    2   45    14.703125        84.0   \n",
       "3      1552496624  2019      3   14     1    3   44    14.601562        85.0   \n",
       "4      1552496682  2019      3   14     1    4   42    14.601562        85.0   \n",
       "25492  1554224151  2019      4    3     0   55   51    17.296875        78.0   \n",
       "25493  1554224212  2019      4    3     0   56   52    17.296875        77.0   \n",
       "25494  1554224272  2019      4    3     0   57   52    17.296875        77.0   \n",
       "25495  1554224332  2019      4    3     0   58   52    17.296875        77.0   \n",
       "25496  1554224391  2019      4    3     0   59   51    17.203125        77.0   \n",
       "\n",
       "       outdoorAtmo  indoorHum  indoorAtmo  temperature  \n",
       "0            993.0       80.0       992.5    15.398438  \n",
       "1            993.0       80.0       992.5    15.398438  \n",
       "2            992.5       80.0       993.0    15.398438  \n",
       "3            993.0       80.0       992.5    15.398438  \n",
       "4            992.5       80.0       992.5    15.296875  \n",
       "25492        984.0       75.0       982.0    17.406250  \n",
       "25493        983.5       75.0       982.5    17.406250  \n",
       "25494        983.0       75.0       982.0    17.406250  \n",
       "25495        983.5       75.0       982.5    17.406250  \n",
       "25496        983.0       75.0       982.5    17.406250  "
      ]
     },
     "execution_count": 7,
     "metadata": {},
     "output_type": "execute_result"
    }
   ],
   "source": [
    "train.head().append(train.tail())"
   ]
  },
  {
   "cell_type": "code",
   "execution_count": 8,
   "metadata": {
    "ExecuteTime": {
     "end_time": "2020-07-15T09:45:11.753004Z",
     "start_time": "2020-07-15T09:45:11.739042Z"
    }
   },
   "outputs": [
    {
     "data": {
      "text/html": [
       "<div>\n",
       "<style scoped>\n",
       "    .dataframe tbody tr th:only-of-type {\n",
       "        vertical-align: middle;\n",
       "    }\n",
       "\n",
       "    .dataframe tbody tr th {\n",
       "        vertical-align: top;\n",
       "    }\n",
       "\n",
       "    .dataframe thead th {\n",
       "        text-align: right;\n",
       "    }\n",
       "</style>\n",
       "<table border=\"1\" class=\"dataframe\">\n",
       "  <thead>\n",
       "    <tr style=\"text-align: right;\">\n",
       "      <th></th>\n",
       "      <th>time</th>\n",
       "      <th>year</th>\n",
       "      <th>month</th>\n",
       "      <th>day</th>\n",
       "      <th>hour</th>\n",
       "      <th>min</th>\n",
       "      <th>sec</th>\n",
       "      <th>outdoorTemp</th>\n",
       "      <th>outdoorHum</th>\n",
       "      <th>outdoorAtmo</th>\n",
       "      <th>indoorHum</th>\n",
       "      <th>indoorAtmo</th>\n",
       "    </tr>\n",
       "  </thead>\n",
       "  <tbody>\n",
       "    <tr>\n",
       "      <th>0</th>\n",
       "      <td>1554224413</td>\n",
       "      <td>2019</td>\n",
       "      <td>4</td>\n",
       "      <td>3</td>\n",
       "      <td>1</td>\n",
       "      <td>0</td>\n",
       "      <td>13</td>\n",
       "      <td>15.296875</td>\n",
       "      <td>91.0</td>\n",
       "      <td>988.0</td>\n",
       "      <td>88.0</td>\n",
       "      <td>988.5</td>\n",
       "    </tr>\n",
       "    <tr>\n",
       "      <th>1</th>\n",
       "      <td>1554226217</td>\n",
       "      <td>2019</td>\n",
       "      <td>4</td>\n",
       "      <td>3</td>\n",
       "      <td>1</td>\n",
       "      <td>30</td>\n",
       "      <td>17</td>\n",
       "      <td>15.398438</td>\n",
       "      <td>91.0</td>\n",
       "      <td>988.0</td>\n",
       "      <td>88.0</td>\n",
       "      <td>988.0</td>\n",
       "    </tr>\n",
       "    <tr>\n",
       "      <th>2</th>\n",
       "      <td>1554228020</td>\n",
       "      <td>2019</td>\n",
       "      <td>4</td>\n",
       "      <td>3</td>\n",
       "      <td>2</td>\n",
       "      <td>0</td>\n",
       "      <td>20</td>\n",
       "      <td>15.296875</td>\n",
       "      <td>92.0</td>\n",
       "      <td>988.0</td>\n",
       "      <td>89.0</td>\n",
       "      <td>988.5</td>\n",
       "    </tr>\n",
       "    <tr>\n",
       "      <th>3</th>\n",
       "      <td>1554229823</td>\n",
       "      <td>2019</td>\n",
       "      <td>4</td>\n",
       "      <td>3</td>\n",
       "      <td>2</td>\n",
       "      <td>30</td>\n",
       "      <td>23</td>\n",
       "      <td>15.203125</td>\n",
       "      <td>92.0</td>\n",
       "      <td>988.0</td>\n",
       "      <td>89.0</td>\n",
       "      <td>988.5</td>\n",
       "    </tr>\n",
       "    <tr>\n",
       "      <th>4</th>\n",
       "      <td>1554231625</td>\n",
       "      <td>2019</td>\n",
       "      <td>4</td>\n",
       "      <td>3</td>\n",
       "      <td>3</td>\n",
       "      <td>0</td>\n",
       "      <td>25</td>\n",
       "      <td>15.500000</td>\n",
       "      <td>91.0</td>\n",
       "      <td>988.0</td>\n",
       "      <td>88.0</td>\n",
       "      <td>988.0</td>\n",
       "    </tr>\n",
       "    <tr>\n",
       "      <th>401</th>\n",
       "      <td>1555081072</td>\n",
       "      <td>2019</td>\n",
       "      <td>4</td>\n",
       "      <td>12</td>\n",
       "      <td>22</td>\n",
       "      <td>57</td>\n",
       "      <td>52</td>\n",
       "      <td>21.906250</td>\n",
       "      <td>66.0</td>\n",
       "      <td>981.0</td>\n",
       "      <td>66.0</td>\n",
       "      <td>978.5</td>\n",
       "    </tr>\n",
       "    <tr>\n",
       "      <th>402</th>\n",
       "      <td>1555082935</td>\n",
       "      <td>2019</td>\n",
       "      <td>4</td>\n",
       "      <td>12</td>\n",
       "      <td>23</td>\n",
       "      <td>28</td>\n",
       "      <td>55</td>\n",
       "      <td>21.593750</td>\n",
       "      <td>66.0</td>\n",
       "      <td>981.5</td>\n",
       "      <td>65.0</td>\n",
       "      <td>979.5</td>\n",
       "    </tr>\n",
       "    <tr>\n",
       "      <th>403</th>\n",
       "      <td>1555084737</td>\n",
       "      <td>2019</td>\n",
       "      <td>4</td>\n",
       "      <td>12</td>\n",
       "      <td>23</td>\n",
       "      <td>58</td>\n",
       "      <td>57</td>\n",
       "      <td>22.093750</td>\n",
       "      <td>65.0</td>\n",
       "      <td>980.0</td>\n",
       "      <td>65.0</td>\n",
       "      <td>980.5</td>\n",
       "    </tr>\n",
       "    <tr>\n",
       "      <th>404</th>\n",
       "      <td>1555086487</td>\n",
       "      <td>2019</td>\n",
       "      <td>4</td>\n",
       "      <td>13</td>\n",
       "      <td>0</td>\n",
       "      <td>28</td>\n",
       "      <td>7</td>\n",
       "      <td>26.703125</td>\n",
       "      <td>44.0</td>\n",
       "      <td>976.0</td>\n",
       "      <td>48.0</td>\n",
       "      <td>977.0</td>\n",
       "    </tr>\n",
       "    <tr>\n",
       "      <th>405</th>\n",
       "      <td>1555088229</td>\n",
       "      <td>2019</td>\n",
       "      <td>4</td>\n",
       "      <td>13</td>\n",
       "      <td>0</td>\n",
       "      <td>57</td>\n",
       "      <td>9</td>\n",
       "      <td>27.093750</td>\n",
       "      <td>43.0</td>\n",
       "      <td>975.5</td>\n",
       "      <td>47.0</td>\n",
       "      <td>977.0</td>\n",
       "    </tr>\n",
       "  </tbody>\n",
       "</table>\n",
       "</div>"
      ],
      "text/plain": [
       "           time  year  month  day  hour  min  sec  outdoorTemp  outdoorHum  \\\n",
       "0    1554224413  2019      4    3     1    0   13    15.296875        91.0   \n",
       "1    1554226217  2019      4    3     1   30   17    15.398438        91.0   \n",
       "2    1554228020  2019      4    3     2    0   20    15.296875        92.0   \n",
       "3    1554229823  2019      4    3     2   30   23    15.203125        92.0   \n",
       "4    1554231625  2019      4    3     3    0   25    15.500000        91.0   \n",
       "401  1555081072  2019      4   12    22   57   52    21.906250        66.0   \n",
       "402  1555082935  2019      4   12    23   28   55    21.593750        66.0   \n",
       "403  1555084737  2019      4   12    23   58   57    22.093750        65.0   \n",
       "404  1555086487  2019      4   13     0   28    7    26.703125        44.0   \n",
       "405  1555088229  2019      4   13     0   57    9    27.093750        43.0   \n",
       "\n",
       "     outdoorAtmo  indoorHum  indoorAtmo  \n",
       "0          988.0       88.0       988.5  \n",
       "1          988.0       88.0       988.0  \n",
       "2          988.0       89.0       988.5  \n",
       "3          988.0       89.0       988.5  \n",
       "4          988.0       88.0       988.0  \n",
       "401        981.0       66.0       978.5  \n",
       "402        981.5       65.0       979.5  \n",
       "403        980.0       65.0       980.5  \n",
       "404        976.0       48.0       977.0  \n",
       "405        975.5       47.0       977.0  "
      ]
     },
     "execution_count": 8,
     "metadata": {},
     "output_type": "execute_result"
    }
   ],
   "source": [
    "test.head().append(test.tail())"
   ]
  },
  {
   "cell_type": "code",
   "execution_count": 9,
   "metadata": {
    "ExecuteTime": {
     "end_time": "2020-07-15T09:45:11.758989Z",
     "start_time": "2020-07-15T09:45:11.754002Z"
    }
   },
   "outputs": [
    {
     "data": {
      "text/plain": [
       "((24807, 13), (406, 12))"
      ]
     },
     "execution_count": 9,
     "metadata": {},
     "output_type": "execute_result"
    }
   ],
   "source": [
    "train.shape, test.shape"
   ]
  },
  {
   "cell_type": "code",
   "execution_count": 10,
   "metadata": {
    "ExecuteTime": {
     "end_time": "2020-07-15T09:45:11.812843Z",
     "start_time": "2020-07-15T09:45:11.759988Z"
    }
   },
   "outputs": [
    {
     "data": {
      "text/html": [
       "<div>\n",
       "<style scoped>\n",
       "    .dataframe tbody tr th:only-of-type {\n",
       "        vertical-align: middle;\n",
       "    }\n",
       "\n",
       "    .dataframe tbody tr th {\n",
       "        vertical-align: top;\n",
       "    }\n",
       "\n",
       "    .dataframe thead th {\n",
       "        text-align: right;\n",
       "    }\n",
       "</style>\n",
       "<table border=\"1\" class=\"dataframe\">\n",
       "  <thead>\n",
       "    <tr style=\"text-align: right;\">\n",
       "      <th></th>\n",
       "      <th>count</th>\n",
       "      <th>mean</th>\n",
       "      <th>std</th>\n",
       "      <th>min</th>\n",
       "      <th>25%</th>\n",
       "      <th>50%</th>\n",
       "      <th>75%</th>\n",
       "      <th>max</th>\n",
       "    </tr>\n",
       "  </thead>\n",
       "  <tbody>\n",
       "    <tr>\n",
       "      <th>time</th>\n",
       "      <td>24807.0</td>\n",
       "      <td>1.553341e+09</td>\n",
       "      <td>5.029136e+05</td>\n",
       "      <td>1.552496e+09</td>\n",
       "      <td>1.552913e+09</td>\n",
       "      <td>1.553333e+09</td>\n",
       "      <td>1.553775e+09</td>\n",
       "      <td>1.554224e+09</td>\n",
       "    </tr>\n",
       "    <tr>\n",
       "      <th>year</th>\n",
       "      <td>24807.0</td>\n",
       "      <td>2.019000e+03</td>\n",
       "      <td>0.000000e+00</td>\n",
       "      <td>2.019000e+03</td>\n",
       "      <td>2.019000e+03</td>\n",
       "      <td>2.019000e+03</td>\n",
       "      <td>2.019000e+03</td>\n",
       "      <td>2.019000e+03</td>\n",
       "    </tr>\n",
       "    <tr>\n",
       "      <th>month</th>\n",
       "      <td>24807.0</td>\n",
       "      <td>3.097069e+00</td>\n",
       "      <td>2.960582e-01</td>\n",
       "      <td>3.000000e+00</td>\n",
       "      <td>3.000000e+00</td>\n",
       "      <td>3.000000e+00</td>\n",
       "      <td>3.000000e+00</td>\n",
       "      <td>4.000000e+00</td>\n",
       "    </tr>\n",
       "    <tr>\n",
       "      <th>day</th>\n",
       "      <td>24807.0</td>\n",
       "      <td>2.028431e+01</td>\n",
       "      <td>7.939102e+00</td>\n",
       "      <td>1.000000e+00</td>\n",
       "      <td>1.600000e+01</td>\n",
       "      <td>2.200000e+01</td>\n",
       "      <td>2.600000e+01</td>\n",
       "      <td>3.100000e+01</td>\n",
       "    </tr>\n",
       "    <tr>\n",
       "      <th>hour</th>\n",
       "      <td>24807.0</td>\n",
       "      <td>1.209566e+01</td>\n",
       "      <td>6.894425e+00</td>\n",
       "      <td>0.000000e+00</td>\n",
       "      <td>6.000000e+00</td>\n",
       "      <td>1.300000e+01</td>\n",
       "      <td>1.800000e+01</td>\n",
       "      <td>2.300000e+01</td>\n",
       "    </tr>\n",
       "    <tr>\n",
       "      <th>min</th>\n",
       "      <td>24807.0</td>\n",
       "      <td>2.955561e+01</td>\n",
       "      <td>1.729006e+01</td>\n",
       "      <td>0.000000e+00</td>\n",
       "      <td>1.500000e+01</td>\n",
       "      <td>3.000000e+01</td>\n",
       "      <td>4.500000e+01</td>\n",
       "      <td>5.900000e+01</td>\n",
       "    </tr>\n",
       "    <tr>\n",
       "      <th>sec</th>\n",
       "      <td>24807.0</td>\n",
       "      <td>2.967437e+01</td>\n",
       "      <td>1.721648e+01</td>\n",
       "      <td>0.000000e+00</td>\n",
       "      <td>1.500000e+01</td>\n",
       "      <td>3.000000e+01</td>\n",
       "      <td>4.500000e+01</td>\n",
       "      <td>5.900000e+01</td>\n",
       "    </tr>\n",
       "    <tr>\n",
       "      <th>outdoorTemp</th>\n",
       "      <td>24389.0</td>\n",
       "      <td>inf</td>\n",
       "      <td>4.253906e+00</td>\n",
       "      <td>8.898438e+00</td>\n",
       "      <td>1.339844e+01</td>\n",
       "      <td>1.600000e+01</td>\n",
       "      <td>1.870312e+01</td>\n",
       "      <td>3.259375e+01</td>\n",
       "    </tr>\n",
       "    <tr>\n",
       "      <th>outdoorHum</th>\n",
       "      <td>24389.0</td>\n",
       "      <td>inf</td>\n",
       "      <td>1.639062e+01</td>\n",
       "      <td>2.300000e+01</td>\n",
       "      <td>6.300000e+01</td>\n",
       "      <td>7.800000e+01</td>\n",
       "      <td>8.800000e+01</td>\n",
       "      <td>9.600000e+01</td>\n",
       "    </tr>\n",
       "    <tr>\n",
       "      <th>outdoorAtmo</th>\n",
       "      <td>24389.0</td>\n",
       "      <td>inf</td>\n",
       "      <td>inf</td>\n",
       "      <td>4.002500e+02</td>\n",
       "      <td>9.800000e+02</td>\n",
       "      <td>9.860000e+02</td>\n",
       "      <td>9.905000e+02</td>\n",
       "      <td>1.082000e+03</td>\n",
       "    </tr>\n",
       "    <tr>\n",
       "      <th>indoorHum</th>\n",
       "      <td>24807.0</td>\n",
       "      <td>inf</td>\n",
       "      <td>1.405469e+01</td>\n",
       "      <td>2.500000e+01</td>\n",
       "      <td>6.400000e+01</td>\n",
       "      <td>7.600000e+01</td>\n",
       "      <td>8.400000e+01</td>\n",
       "      <td>9.100000e+01</td>\n",
       "    </tr>\n",
       "    <tr>\n",
       "      <th>indoorAtmo</th>\n",
       "      <td>24807.0</td>\n",
       "      <td>inf</td>\n",
       "      <td>inf</td>\n",
       "      <td>3.925000e+02</td>\n",
       "      <td>9.800000e+02</td>\n",
       "      <td>9.860000e+02</td>\n",
       "      <td>9.900000e+02</td>\n",
       "      <td>1.013500e+03</td>\n",
       "    </tr>\n",
       "    <tr>\n",
       "      <th>temperature</th>\n",
       "      <td>24807.0</td>\n",
       "      <td>inf</td>\n",
       "      <td>3.695312e+00</td>\n",
       "      <td>9.296875e+00</td>\n",
       "      <td>1.379688e+01</td>\n",
       "      <td>1.609375e+01</td>\n",
       "      <td>1.840625e+01</td>\n",
       "      <td>3.009375e+01</td>\n",
       "    </tr>\n",
       "  </tbody>\n",
       "</table>\n",
       "</div>"
      ],
      "text/plain": [
       "               count          mean           std           min           25%  \\\n",
       "time         24807.0  1.553341e+09  5.029136e+05  1.552496e+09  1.552913e+09   \n",
       "year         24807.0  2.019000e+03  0.000000e+00  2.019000e+03  2.019000e+03   \n",
       "month        24807.0  3.097069e+00  2.960582e-01  3.000000e+00  3.000000e+00   \n",
       "day          24807.0  2.028431e+01  7.939102e+00  1.000000e+00  1.600000e+01   \n",
       "hour         24807.0  1.209566e+01  6.894425e+00  0.000000e+00  6.000000e+00   \n",
       "min          24807.0  2.955561e+01  1.729006e+01  0.000000e+00  1.500000e+01   \n",
       "sec          24807.0  2.967437e+01  1.721648e+01  0.000000e+00  1.500000e+01   \n",
       "outdoorTemp  24389.0           inf  4.253906e+00  8.898438e+00  1.339844e+01   \n",
       "outdoorHum   24389.0           inf  1.639062e+01  2.300000e+01  6.300000e+01   \n",
       "outdoorAtmo  24389.0           inf           inf  4.002500e+02  9.800000e+02   \n",
       "indoorHum    24807.0           inf  1.405469e+01  2.500000e+01  6.400000e+01   \n",
       "indoorAtmo   24807.0           inf           inf  3.925000e+02  9.800000e+02   \n",
       "temperature  24807.0           inf  3.695312e+00  9.296875e+00  1.379688e+01   \n",
       "\n",
       "                      50%           75%           max  \n",
       "time         1.553333e+09  1.553775e+09  1.554224e+09  \n",
       "year         2.019000e+03  2.019000e+03  2.019000e+03  \n",
       "month        3.000000e+00  3.000000e+00  4.000000e+00  \n",
       "day          2.200000e+01  2.600000e+01  3.100000e+01  \n",
       "hour         1.300000e+01  1.800000e+01  2.300000e+01  \n",
       "min          3.000000e+01  4.500000e+01  5.900000e+01  \n",
       "sec          3.000000e+01  4.500000e+01  5.900000e+01  \n",
       "outdoorTemp  1.600000e+01  1.870312e+01  3.259375e+01  \n",
       "outdoorHum   7.800000e+01  8.800000e+01  9.600000e+01  \n",
       "outdoorAtmo  9.860000e+02  9.905000e+02  1.082000e+03  \n",
       "indoorHum    7.600000e+01  8.400000e+01  9.100000e+01  \n",
       "indoorAtmo   9.860000e+02  9.900000e+02  1.013500e+03  \n",
       "temperature  1.609375e+01  1.840625e+01  3.009375e+01  "
      ]
     },
     "execution_count": 10,
     "metadata": {},
     "output_type": "execute_result"
    }
   ],
   "source": [
    "train.describe().T"
   ]
  },
  {
   "cell_type": "code",
   "execution_count": 11,
   "metadata": {
    "ExecuteTime": {
     "end_time": "2020-07-15T09:45:11.854771Z",
     "start_time": "2020-07-15T09:45:11.813841Z"
    }
   },
   "outputs": [
    {
     "data": {
      "text/html": [
       "<div>\n",
       "<style scoped>\n",
       "    .dataframe tbody tr th:only-of-type {\n",
       "        vertical-align: middle;\n",
       "    }\n",
       "\n",
       "    .dataframe tbody tr th {\n",
       "        vertical-align: top;\n",
       "    }\n",
       "\n",
       "    .dataframe thead th {\n",
       "        text-align: right;\n",
       "    }\n",
       "</style>\n",
       "<table border=\"1\" class=\"dataframe\">\n",
       "  <thead>\n",
       "    <tr style=\"text-align: right;\">\n",
       "      <th></th>\n",
       "      <th>count</th>\n",
       "      <th>mean</th>\n",
       "      <th>std</th>\n",
       "      <th>min</th>\n",
       "      <th>25%</th>\n",
       "      <th>50%</th>\n",
       "      <th>75%</th>\n",
       "      <th>max</th>\n",
       "    </tr>\n",
       "  </thead>\n",
       "  <tbody>\n",
       "    <tr>\n",
       "      <th>time</th>\n",
       "      <td>406.0</td>\n",
       "      <td>1.554651e+09</td>\n",
       "      <td>2.583482e+05</td>\n",
       "      <td>1.554224e+09</td>\n",
       "      <td>1.554414e+09</td>\n",
       "      <td>1.554649e+09</td>\n",
       "      <td>1.554891e+09</td>\n",
       "      <td>1.555088e+09</td>\n",
       "    </tr>\n",
       "    <tr>\n",
       "      <th>year</th>\n",
       "      <td>406.0</td>\n",
       "      <td>2.019000e+03</td>\n",
       "      <td>0.000000e+00</td>\n",
       "      <td>2.019000e+03</td>\n",
       "      <td>2.019000e+03</td>\n",
       "      <td>2.019000e+03</td>\n",
       "      <td>2.019000e+03</td>\n",
       "      <td>2.019000e+03</td>\n",
       "    </tr>\n",
       "    <tr>\n",
       "      <th>month</th>\n",
       "      <td>406.0</td>\n",
       "      <td>4.000000e+00</td>\n",
       "      <td>0.000000e+00</td>\n",
       "      <td>4.000000e+00</td>\n",
       "      <td>4.000000e+00</td>\n",
       "      <td>4.000000e+00</td>\n",
       "      <td>4.000000e+00</td>\n",
       "      <td>4.000000e+00</td>\n",
       "    </tr>\n",
       "    <tr>\n",
       "      <th>day</th>\n",
       "      <td>406.0</td>\n",
       "      <td>7.463054e+00</td>\n",
       "      <td>2.972693e+00</td>\n",
       "      <td>3.000000e+00</td>\n",
       "      <td>5.000000e+00</td>\n",
       "      <td>7.000000e+00</td>\n",
       "      <td>1.000000e+01</td>\n",
       "      <td>1.300000e+01</td>\n",
       "    </tr>\n",
       "    <tr>\n",
       "      <th>hour</th>\n",
       "      <td>406.0</td>\n",
       "      <td>1.206650e+01</td>\n",
       "      <td>7.002857e+00</td>\n",
       "      <td>0.000000e+00</td>\n",
       "      <td>6.000000e+00</td>\n",
       "      <td>1.200000e+01</td>\n",
       "      <td>1.800000e+01</td>\n",
       "      <td>2.300000e+01</td>\n",
       "    </tr>\n",
       "    <tr>\n",
       "      <th>min</th>\n",
       "      <td>406.0</td>\n",
       "      <td>2.671429e+01</td>\n",
       "      <td>1.780254e+01</td>\n",
       "      <td>0.000000e+00</td>\n",
       "      <td>1.000000e+01</td>\n",
       "      <td>3.000000e+01</td>\n",
       "      <td>4.075000e+01</td>\n",
       "      <td>5.900000e+01</td>\n",
       "    </tr>\n",
       "    <tr>\n",
       "      <th>sec</th>\n",
       "      <td>406.0</td>\n",
       "      <td>2.896305e+01</td>\n",
       "      <td>1.712571e+01</td>\n",
       "      <td>0.000000e+00</td>\n",
       "      <td>1.400000e+01</td>\n",
       "      <td>2.800000e+01</td>\n",
       "      <td>4.400000e+01</td>\n",
       "      <td>5.900000e+01</td>\n",
       "    </tr>\n",
       "    <tr>\n",
       "      <th>outdoorTemp</th>\n",
       "      <td>404.0</td>\n",
       "      <td>2.135938e+01</td>\n",
       "      <td>5.558594e+00</td>\n",
       "      <td>1.310156e+01</td>\n",
       "      <td>1.659375e+01</td>\n",
       "      <td>2.059375e+01</td>\n",
       "      <td>2.509375e+01</td>\n",
       "      <td>3.668750e+01</td>\n",
       "    </tr>\n",
       "    <tr>\n",
       "      <th>outdoorHum</th>\n",
       "      <td>404.0</td>\n",
       "      <td>6.643750e+01</td>\n",
       "      <td>1.873438e+01</td>\n",
       "      <td>2.500000e+01</td>\n",
       "      <td>5.200000e+01</td>\n",
       "      <td>6.600000e+01</td>\n",
       "      <td>8.300000e+01</td>\n",
       "      <td>9.500000e+01</td>\n",
       "    </tr>\n",
       "    <tr>\n",
       "      <th>outdoorAtmo</th>\n",
       "      <td>404.0</td>\n",
       "      <td>inf</td>\n",
       "      <td>1.295312e+01</td>\n",
       "      <td>9.010000e+02</td>\n",
       "      <td>9.745000e+02</td>\n",
       "      <td>9.785000e+02</td>\n",
       "      <td>9.870000e+02</td>\n",
       "      <td>1.063000e+03</td>\n",
       "    </tr>\n",
       "    <tr>\n",
       "      <th>indoorHum</th>\n",
       "      <td>405.0</td>\n",
       "      <td>6.568750e+01</td>\n",
       "      <td>1.660938e+01</td>\n",
       "      <td>2.600000e+01</td>\n",
       "      <td>5.300000e+01</td>\n",
       "      <td>6.700000e+01</td>\n",
       "      <td>8.100000e+01</td>\n",
       "      <td>9.000000e+01</td>\n",
       "    </tr>\n",
       "    <tr>\n",
       "      <th>indoorAtmo</th>\n",
       "      <td>405.0</td>\n",
       "      <td>inf</td>\n",
       "      <td>inf</td>\n",
       "      <td>3.962500e+02</td>\n",
       "      <td>9.740000e+02</td>\n",
       "      <td>9.780000e+02</td>\n",
       "      <td>9.865000e+02</td>\n",
       "      <td>9.915000e+02</td>\n",
       "    </tr>\n",
       "  </tbody>\n",
       "</table>\n",
       "</div>"
      ],
      "text/plain": [
       "             count          mean           std           min           25%  \\\n",
       "time         406.0  1.554651e+09  2.583482e+05  1.554224e+09  1.554414e+09   \n",
       "year         406.0  2.019000e+03  0.000000e+00  2.019000e+03  2.019000e+03   \n",
       "month        406.0  4.000000e+00  0.000000e+00  4.000000e+00  4.000000e+00   \n",
       "day          406.0  7.463054e+00  2.972693e+00  3.000000e+00  5.000000e+00   \n",
       "hour         406.0  1.206650e+01  7.002857e+00  0.000000e+00  6.000000e+00   \n",
       "min          406.0  2.671429e+01  1.780254e+01  0.000000e+00  1.000000e+01   \n",
       "sec          406.0  2.896305e+01  1.712571e+01  0.000000e+00  1.400000e+01   \n",
       "outdoorTemp  404.0  2.135938e+01  5.558594e+00  1.310156e+01  1.659375e+01   \n",
       "outdoorHum   404.0  6.643750e+01  1.873438e+01  2.500000e+01  5.200000e+01   \n",
       "outdoorAtmo  404.0           inf  1.295312e+01  9.010000e+02  9.745000e+02   \n",
       "indoorHum    405.0  6.568750e+01  1.660938e+01  2.600000e+01  5.300000e+01   \n",
       "indoorAtmo   405.0           inf           inf  3.962500e+02  9.740000e+02   \n",
       "\n",
       "                      50%           75%           max  \n",
       "time         1.554649e+09  1.554891e+09  1.555088e+09  \n",
       "year         2.019000e+03  2.019000e+03  2.019000e+03  \n",
       "month        4.000000e+00  4.000000e+00  4.000000e+00  \n",
       "day          7.000000e+00  1.000000e+01  1.300000e+01  \n",
       "hour         1.200000e+01  1.800000e+01  2.300000e+01  \n",
       "min          3.000000e+01  4.075000e+01  5.900000e+01  \n",
       "sec          2.800000e+01  4.400000e+01  5.900000e+01  \n",
       "outdoorTemp  2.059375e+01  2.509375e+01  3.668750e+01  \n",
       "outdoorHum   6.600000e+01  8.300000e+01  9.500000e+01  \n",
       "outdoorAtmo  9.785000e+02  9.870000e+02  1.063000e+03  \n",
       "indoorHum    6.700000e+01  8.100000e+01  9.000000e+01  \n",
       "indoorAtmo   9.780000e+02  9.865000e+02  9.915000e+02  "
      ]
     },
     "execution_count": 11,
     "metadata": {},
     "output_type": "execute_result"
    }
   ],
   "source": [
    "test.describe().T"
   ]
  },
  {
   "cell_type": "code",
   "execution_count": 12,
   "metadata": {
    "ExecuteTime": {
     "end_time": "2020-07-15T09:47:00.736887Z",
     "start_time": "2020-07-15T09:47:00.725828Z"
    }
   },
   "outputs": [
    {
     "name": "stdout",
     "output_type": "stream",
     "text": [
      "<class 'pandas.core.frame.DataFrame'>\n",
      "Int64Index: 24807 entries, 0 to 25496\n",
      "Data columns (total 13 columns):\n",
      " #   Column       Non-Null Count  Dtype  \n",
      "---  ------       --------------  -----  \n",
      " 0   time         24807 non-null  int32  \n",
      " 1   year         24807 non-null  int16  \n",
      " 2   month        24807 non-null  int8   \n",
      " 3   day          24807 non-null  int8   \n",
      " 4   hour         24807 non-null  int8   \n",
      " 5   min          24807 non-null  int8   \n",
      " 6   sec          24807 non-null  int8   \n",
      " 7   outdoorTemp  24389 non-null  float16\n",
      " 8   outdoorHum   24389 non-null  float16\n",
      " 9   outdoorAtmo  24389 non-null  float16\n",
      " 10  indoorHum    24807 non-null  float16\n",
      " 11  indoorAtmo   24807 non-null  float16\n",
      " 12  temperature  24807 non-null  float16\n",
      "dtypes: float16(6), int16(1), int32(1), int8(5)\n",
      "memory usage: 1.4 MB\n"
     ]
    }
   ],
   "source": [
    "train.info()"
   ]
  },
  {
   "cell_type": "code",
   "execution_count": 13,
   "metadata": {
    "ExecuteTime": {
     "end_time": "2020-07-15T09:47:14.094637Z",
     "start_time": "2020-07-15T09:47:14.084629Z"
    }
   },
   "outputs": [
    {
     "name": "stdout",
     "output_type": "stream",
     "text": [
      "<class 'pandas.core.frame.DataFrame'>\n",
      "RangeIndex: 406 entries, 0 to 405\n",
      "Data columns (total 12 columns):\n",
      " #   Column       Non-Null Count  Dtype  \n",
      "---  ------       --------------  -----  \n",
      " 0   time         406 non-null    int32  \n",
      " 1   year         406 non-null    int16  \n",
      " 2   month        406 non-null    int8   \n",
      " 3   day          406 non-null    int8   \n",
      " 4   hour         406 non-null    int8   \n",
      " 5   min          406 non-null    int8   \n",
      " 6   sec          406 non-null    int8   \n",
      " 7   outdoorTemp  404 non-null    float16\n",
      " 8   outdoorHum   404 non-null    float16\n",
      " 9   outdoorAtmo  404 non-null    float16\n",
      " 10  indoorHum    405 non-null    float16\n",
      " 11  indoorAtmo   405 non-null    float16\n",
      "dtypes: float16(5), int16(1), int32(1), int8(5)\n",
      "memory usage: 8.5 KB\n"
     ]
    }
   ],
   "source": [
    "test.info()"
   ]
  },
  {
   "cell_type": "code",
   "execution_count": 14,
   "metadata": {
    "ExecuteTime": {
     "end_time": "2020-07-15T09:48:00.462430Z",
     "start_time": "2020-07-15T09:48:00.453942Z"
    }
   },
   "outputs": [
    {
     "data": {
      "text/plain": [
       "outdoorAtmo    418\n",
       "outdoorHum     418\n",
       "outdoorTemp    418\n",
       "temperature      0\n",
       "indoorAtmo       0\n",
       "indoorHum        0\n",
       "sec              0\n",
       "min              0\n",
       "hour             0\n",
       "day              0\n",
       "month            0\n",
       "year             0\n",
       "time             0\n",
       "dtype: int64"
      ]
     },
     "execution_count": 14,
     "metadata": {},
     "output_type": "execute_result"
    }
   ],
   "source": [
    "train.isnull().sum().sort_values(ascending=False)"
   ]
  },
  {
   "cell_type": "code",
   "execution_count": 15,
   "metadata": {
    "ExecuteTime": {
     "end_time": "2020-07-15T09:48:13.382584Z",
     "start_time": "2020-07-15T09:48:13.374602Z"
    }
   },
   "outputs": [
    {
     "data": {
      "text/plain": [
       "outdoorAtmo    2\n",
       "outdoorHum     2\n",
       "outdoorTemp    2\n",
       "indoorAtmo     1\n",
       "indoorHum      1\n",
       "sec            0\n",
       "min            0\n",
       "hour           0\n",
       "day            0\n",
       "month          0\n",
       "year           0\n",
       "time           0\n",
       "dtype: int64"
      ]
     },
     "execution_count": 15,
     "metadata": {},
     "output_type": "execute_result"
    }
   ],
   "source": [
    "test.isnull().sum().sort_values(ascending=False)"
   ]
  },
  {
   "cell_type": "code",
   "execution_count": 16,
   "metadata": {
    "ExecuteTime": {
     "end_time": "2020-07-15T09:51:44.374562Z",
     "start_time": "2020-07-15T09:51:42.378803Z"
    }
   },
   "outputs": [
    {
     "data": {
      "image/png": "[encoded data removed]",
      "text/plain": [
       "<Figure size 432x288 with 1 Axes>"
      ]
     },
     "metadata": {
      "needs_background": "light"
     },
     "output_type": "display_data"
    },
    {
     "data": {
      "image/png": "[encoded data removed]",
      "text/plain": [
       "<Figure size 432x288 with 1 Axes>"
      ]
     },
     "metadata": {
      "needs_background": "light"
     },
     "output_type": "display_data"
    },
    {
     "data": {
      "image/png": "[encoded data removed]",
      "text/plain": [
       "<Figure size 432x288 with 1 Axes>"
      ]
     },
     "metadata": {
      "needs_background": "light"
     },
     "output_type": "display_data"
    }
   ],
   "source": [
    "y = train['temperature']\n",
    "plt.figure(1)\n",
    "plt.title('Johnson SU')\n",
    "sns.distplot(y, kde=False, fit=st.johnsonsu)\n",
    "plt.figure(2)\n",
    "plt.title('Normal')\n",
    "sns.distplot(y, kde=False, fit=st.norm)\n",
    "plt.figure(3)\n",
    "plt.title('Log Normal')\n",
    "sns.distplot(y, kde=False, fit=st.lognorm);"
   ]
  },
  {
   "cell_type": "code",
   "execution_count": 18,
   "metadata": {
    "ExecuteTime": {
     "end_time": "2020-07-15T09:57:42.031100Z",
     "start_time": "2020-07-15T09:57:41.741259Z"
    }
   },
   "outputs": [
    {
     "name": "stdout",
     "output_type": "stream",
     "text": [
      "Skewness: 0.916504\n",
      "Kurtosis: 0.921875\n"
     ]
    },
    {
     "data": {
      "text/plain": [
       "(time            0.042563\n",
       " year            0.000000\n",
       " month           2.722189\n",
       " day            -0.971769\n",
       " hour           -0.145425\n",
       " min            -0.004005\n",
       " sec            -0.009804\n",
       " outdoorTemp     0.980120\n",
       " outdoorHum     -0.790642\n",
       " outdoorAtmo   -17.649543\n",
       " indoorHum      -0.917261\n",
       " indoorAtmo    -12.681333\n",
       " temperature     0.926150\n",
       " dtype: float64,\n",
       " time            -1.200271\n",
       " year             0.000000\n",
       " month            5.410747\n",
       " day              0.590072\n",
       " hour            -1.165767\n",
       " min             -1.197135\n",
       " sec             -1.180270\n",
       " outdoorTemp      1.025726\n",
       " outdoorHum      -0.196982\n",
       " outdoorAtmo    441.611436\n",
       " indoorHum        0.123061\n",
       " indoorAtmo     163.188938\n",
       " temperature      0.934083\n",
       " dtype: float64)"
      ]
     },
     "execution_count": 18,
     "metadata": {},
     "output_type": "execute_result"
    },
    {
     "data": {
      "image/png": "[encoded data removed]",
      "text/plain": [
       "<Figure size 432x288 with 1 Axes>"
      ]
     },
     "metadata": {
      "needs_background": "light"
     },
     "output_type": "display_data"
    }
   ],
   "source": [
    "sns.distplot(train['temperature']);\n",
    "print(\"Skewness: %f\" % train['temperature'].skew())\n",
    "print(\"Kurtosis: %f\" % train['temperature'].kurt())\n",
    "sns.distplot(train.skew(), color='blue', axlabel ='Skewness')\n",
    "sns.distplot(train.kurt(), color='orange', axlabel ='Kurtness')\n",
    "train.skew(), train.kurt()"
   ]
  },
  {
   "cell_type": "code",
   "execution_count": 19,
   "metadata": {
    "ExecuteTime": {
     "end_time": "2020-07-15T10:48:38.855317Z",
     "start_time": "2020-07-15T10:48:38.640736Z"
    }
   },
   "outputs": [
    {
     "data": {
      "image/png": "[encoded data removed]",
      "text/plain": [
       "<Figure size 432x288 with 1 Axes>"
      ]
     },
     "metadata": {
      "needs_background": "light"
     },
     "output_type": "display_data"
    },
    {
     "data": {
      "image/png": "[encoded data removed]",
      "text/plain": [
       "<Figure size 432x288 with 1 Axes>"
      ]
     },
     "metadata": {
      "needs_background": "light"
     },
     "output_type": "display_data"
    }
   ],
   "source": [
    "plt.hist(train['temperature'], orientation='vertical',histtype='bar', color='red')\n",
    "plt.show()\n",
    "plt.hist(np.log(train['temperature']), orientation='vertical',histtype='bar', color='blue')\n",
    "plt.show()"
   ]
  },
  {
   "cell_type": "code",
   "execution_count": null,
   "metadata": {},
   "outputs": [],
   "source": []
  }
 ],
 "metadata": {
  "kernelspec": {
   "display_name": "Python 3",
   "language": "python",
   "name": "python3"
  },
  "language_info": {
   "codemirror_mode": {
    "name": "ipython",
    "version": 3
   },
   "file_extension": ".py",
   "mimetype": "text/x-python",
   "name": "python",
   "nbconvert_exporter": "python",
   "pygments_lexer": "ipython3",
   "version": "3.7.3"
  },
  "toc": {
   "base_numbering": 1,
   "nav_menu": {},
   "number_sections": true,
   "sideBar": true,
   "skip_h1_title": false,
   "title_cell": "Table of Contents",
   "title_sidebar": "Contents",
   "toc_cell": false,
   "toc_position": {},
   "toc_section_display": true,
   "toc_window_display": false
  },
  "varInspector": {
   "cols": {
    "lenName": 16,
    "lenType": 16,
    "lenVar": 40
   },
   "kernels_config": {
    "python": {
     "delete_cmd_postfix": "",
     "delete_cmd_prefix": "del ",
     "library": "var_list.py",
     "varRefreshCmd": "print(var_dic_list())"
    },
    "r": {
     "delete_cmd_postfix": ") ",
     "delete_cmd_prefix": "rm(",
     "library": "var_list.r",
     "varRefreshCmd": "cat(var_dic_list()) "
    }
   },
   "types_to_exclude": [
    "module",
    "function",
    "builtin_function_or_method",
    "instance",
    "_Feature"
   ],
   "window_display": false
  }
 },
 "nbformat": 4,
 "nbformat_minor": 4
}
