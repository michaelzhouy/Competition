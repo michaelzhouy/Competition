{
 "cells": [
  {
   "cell_type": "code",
   "execution_count": 1,
   "metadata": {
    "ExecuteTime": {
     "end_time": "2020-07-31T05:55:31.927552Z",
     "start_time": "2020-07-31T05:55:30.478463Z"
    }
   },
   "outputs": [],
   "source": [
    "import pandas as pd\n",
    "import os\n",
    "import gc\n",
    "import lightgbm as lgb\n",
    "import xgboost as xgb\n",
    "from catboost import CatBoostRegressor\n",
    "from sklearn.linear_model import SGDRegressor, LinearRegression, Ridge\n",
    "from sklearn.preprocessing import MinMaxScaler\n",
    "import math\n",
    "import numpy as np\n",
    "from tqdm import tqdm\n",
    "from sklearn.model_selection import StratifiedKFold, KFold\n",
    "from sklearn.metrics import mean_absolute_error, mean_squared_error\n",
    "import matplotlib.pyplot as plt\n",
    "import time\n",
    "import warnings\n",
    "\n",
    "warnings.filterwarnings('ignore')"
   ]
  },
  {
   "cell_type": "code",
   "execution_count": 2,
   "metadata": {
    "ExecuteTime": {
     "end_time": "2020-07-31T05:55:31.969740Z",
     "start_time": "2020-07-31T05:55:31.927552Z"
    }
   },
   "outputs": [],
   "source": [
    "def get_psi(train,test,f_cols):\n",
    "    psi_res = pd.DataFrame()\n",
    "    psi_dict={}\n",
    "    for c in tqdm(f_cols):\n",
    "        try:\n",
    "            t_train = train[c].fillna(-998)\n",
    "            t_test = test[c].fillna(-998)\n",
    "            #获取切分点\n",
    "            bins=[]\n",
    "            for i in np.arange(0,1.1,0.2):\n",
    "                bins.append(t_train.quantile(i))\n",
    "            bins=sorted(set(bins))\n",
    "            bins[0]=-np.inf\n",
    "            bins[-1]=np.inf\n",
    "            #计算psi\n",
    "            t_psi = pd.DataFrame()\n",
    "            t_psi['train'] = pd.cut(t_train,bins).value_counts().sort_index()\n",
    "            t_psi['test'] = pd.cut(t_test,bins).value_counts()\n",
    "            if c == 'outdoorTemp':\n",
    "                print(t_psi['train'])\n",
    "                print(t_psi['test'])\n",
    "            t_psi.index=[str(x) for x in t_psi.index]\n",
    "            t_psi.loc['总计',:] = t_psi.sum()\n",
    "            t_psi['train_rate'] = t_psi['train']/t_psi.loc['总计','train']\n",
    "            t_psi['test_rate'] = t_psi['test']/t_psi.loc['总计','test']\n",
    "            t_psi['psi'] = (t_psi['test_rate']-t_psi['train_rate'])*(np.log(t_psi['test_rate'])-np.log(t_psi['train_rate']))\n",
    "            t_psi.loc['总计','psi'] = t_psi['psi'].sum()\n",
    "            t_psi.index.name=c\n",
    "            #汇总\n",
    "            t_res = pd.DataFrame([[c,t_psi.loc['总计','psi']]],\n",
    "                                 columns=['变量名','PSI'])\n",
    "            psi_res = pd.concat([psi_res,t_res])\n",
    "            psi_dict[c]=t_psi\n",
    "            print(c,'done')\n",
    "        except:\n",
    "            print(c,'error')\n",
    "    return psi_res,psi_dict"
   ]
  },
  {
   "cell_type": "code",
   "execution_count": 3,
   "metadata": {
    "ExecuteTime": {
     "end_time": "2020-07-31T05:55:32.019686Z",
     "start_time": "2020-07-31T05:55:31.970308Z"
    }
   },
   "outputs": [],
   "source": [
    "train_df = pd.read_csv('../input/train.csv')\n",
    "test_df = pd.read_csv('../input/test.csv')\n",
    "sub = pd.DataFrame(test_df['time'])"
   ]
  },
  {
   "cell_type": "code",
   "execution_count": 4,
   "metadata": {
    "ExecuteTime": {
     "end_time": "2020-07-31T05:55:32.030499Z",
     "start_time": "2020-07-31T05:55:32.020460Z"
    }
   },
   "outputs": [],
   "source": [
    "train_df = train_df[train_df['temperature'].notnull()]\n",
    "train_df = train_df.fillna(method='bfill')\n",
    "test_df = test_df.fillna(method='bfill')"
   ]
  },
  {
   "cell_type": "code",
   "execution_count": 5,
   "metadata": {
    "ExecuteTime": {
     "end_time": "2020-07-31T05:55:32.038425Z",
     "start_time": "2020-07-31T05:55:32.032431Z"
    }
   },
   "outputs": [],
   "source": [
    "train_df.columns = ['time', 'year', 'month', 'day', 'hour', 'min', 'sec', 'outdoorTemp', 'outdoorHum', 'outdoorAtmo',\n",
    "                    'indoorHum', 'indoorAtmo', 'temperature']\n",
    "test_df.columns = ['time', 'year', 'month', 'day', 'hour', 'min', 'sec', 'outdoorTemp', 'outdoorHum', 'outdoorAtmo',\n",
    "                   'indoorHum', 'indoorAtmo']"
   ]
  },
  {
   "cell_type": "code",
   "execution_count": 6,
   "metadata": {
    "ExecuteTime": {
     "end_time": "2020-07-31T05:55:32.052410Z",
     "start_time": "2020-07-31T05:55:32.039410Z"
    }
   },
   "outputs": [
    {
     "name": "stdout",
     "output_type": "stream",
     "text": [
      "train_df.shape:  (24807, 13)\n",
      "处理后 train_df.shape:  (19338, 13)\n"
     ]
    }
   ],
   "source": [
    "print('train_df.shape: ', train_df.shape)\n",
    "train_df = train_df.loc[(train_df['outdoorTemp'] >= test_df['outdoorTemp'].min()) & (train_df['outdoorTemp'] <= test_df['outdoorTemp'].max())]\n",
    "print('处理后 train_df.shape: ', train_df.shape)"
   ]
  },
  {
   "cell_type": "code",
   "execution_count": 7,
   "metadata": {
    "ExecuteTime": {
     "end_time": "2020-07-31T05:55:32.061385Z",
     "start_time": "2020-07-31T05:55:32.055405Z"
    }
   },
   "outputs": [],
   "source": [
    "data_df = pd.concat([train_df, test_df], axis=0, ignore_index=True)"
   ]
  },
  {
   "cell_type": "code",
   "execution_count": 8,
   "metadata": {
    "ExecuteTime": {
     "end_time": "2020-07-31T05:55:32.066336Z",
     "start_time": "2020-07-31T05:55:32.062348Z"
    }
   },
   "outputs": [],
   "source": [
    "# data_df['indoorAtmo-outdoorAtmo'] = data_df['indoorAtmo'] - data_df['outdoorAtmo']\n",
    "# data_df['indoorHum-outdoorHum'] = data_df['indoorHum'] - data_df['outdoorHum']"
   ]
  },
  {
   "cell_type": "code",
   "execution_count": 9,
   "metadata": {
    "ExecuteTime": {
     "end_time": "2020-07-31T05:55:32.249087Z",
     "start_time": "2020-07-31T05:55:32.067333Z"
    }
   },
   "outputs": [
    {
     "name": "stderr",
     "output_type": "stream",
     "text": [
      "100%|████████████████████████████████████████████████████████████████████████████████████| 5/5 [00:00<00:00, 29.62it/s]\n"
     ]
    }
   ],
   "source": [
    "# 基本聚合特征\n",
    "group_feats = []\n",
    "for f in tqdm(['outdoorTemp', 'outdoorHum', 'outdoorAtmo', 'indoorHum', 'indoorAtmo']):\n",
    "    data_df['MDH_{}_medi'.format(f)] = data_df.groupby(['month', 'day', 'hour'])[f].transform('median')\n",
    "    data_df['MDH_{}_mean'.format(f)] = data_df.groupby(['month', 'day', 'hour'])[f].transform('mean')\n",
    "    data_df['MDH_{}_max'.format(f)] = data_df.groupby(['month', 'day', 'hour'])[f].transform('max')\n",
    "    data_df['MDH_{}_min'.format(f)] = data_df.groupby(['month', 'day', 'hour'])[f].transform('min')\n",
    "    data_df['MDH_{}_std'.format(f)] = data_df.groupby(['month', 'day', 'hour'])[f].transform('std')\n",
    "\n",
    "    group_feats.append('MDH_{}_medi'.format(f))\n",
    "    group_feats.append('MDH_{}_mean'.format(f))"
   ]
  },
  {
   "cell_type": "code",
   "execution_count": 10,
   "metadata": {
    "ExecuteTime": {
     "end_time": "2020-07-31T05:55:32.415931Z",
     "start_time": "2020-07-31T05:55:32.250037Z"
    }
   },
   "outputs": [
    {
     "name": "stderr",
     "output_type": "stream",
     "text": [
      "100%|██████████████████████████████████████████████████████████████████████████████████| 15/15 [00:00<00:00, 95.01it/s]\n"
     ]
    }
   ],
   "source": [
    "# 基本交叉特征\n",
    "for f1 in tqdm(['outdoorTemp', 'outdoorHum', 'outdoorAtmo', 'indoorHum', 'indoorAtmo'] + group_feats):\n",
    "    for f2 in ['outdoorTemp', 'outdoorHum', 'outdoorAtmo', 'indoorHum', 'indoorAtmo'] + group_feats:\n",
    "        if f1 != f2:\n",
    "            colname = '{}_{}_ratio'.format(f1, f2)\n",
    "            data_df[colname] = data_df[f1].values / data_df[f2].values"
   ]
  },
  {
   "cell_type": "code",
   "execution_count": 11,
   "metadata": {
    "ExecuteTime": {
     "end_time": "2020-07-31T05:55:32.491686Z",
     "start_time": "2020-07-31T05:55:32.416861Z"
    }
   },
   "outputs": [],
   "source": [
    "data_df = data_df.fillna(method='bfill')"
   ]
  },
  {
   "cell_type": "code",
   "execution_count": 12,
   "metadata": {
    "ExecuteTime": {
     "end_time": "2020-07-31T05:55:36.551048Z",
     "start_time": "2020-07-31T05:55:32.492659Z"
    }
   },
   "outputs": [
    {
     "name": "stderr",
     "output_type": "stream",
     "text": [
      "100%|██████████████████████████████████████████████████████████████████████████████████| 30/30 [00:00<00:00, 51.32it/s]\n",
      "100%|██████████████████████████████████████████████████████████████████████████████████| 30/30 [00:00<00:00, 49.11it/s]\n",
      "100%|██████████████████████████████████████████████████████████████████████████████████| 30/30 [00:00<00:00, 48.75it/s]\n",
      "100%|██████████████████████████████████████████████████████████████████████████████████| 30/30 [00:00<00:00, 49.89it/s]\n",
      "100%|██████████████████████████████████████████████████████████████████████████████████| 30/30 [00:00<00:00, 48.85it/s]\n",
      "100%|██████████████████████████████████████████████████████████████████████████████████| 30/30 [00:00<00:00, 49.16it/s]\n"
     ]
    }
   ],
   "source": [
    "# 历史信息提取\n",
    "data_df['dt'] = data_df['day'].values + (data_df['month'].values - 3) * 31\n",
    "\n",
    "for f in ['outdoorTemp', 'outdoorHum', 'outdoorAtmo', 'indoorHum', 'indoorAtmo', 'temperature']:\n",
    "    tmp_df = pd.DataFrame()\n",
    "    for t in tqdm(range(15, 45)):\n",
    "        tmp = data_df[data_df['dt'] < t].groupby(['hour'])[f].agg({'mean'}).reset_index()\n",
    "        tmp.columns = ['hour', 'hit_{}_mean'.format(f)]\n",
    "        tmp['dt'] = t\n",
    "        tmp_df = tmp_df.append(tmp)\n",
    "\n",
    "    data_df = data_df.merge(tmp_df, on=['dt', 'hour'], how='left')"
   ]
  },
  {
   "cell_type": "code",
   "execution_count": 13,
   "metadata": {
    "ExecuteTime": {
     "end_time": "2020-07-31T05:55:36.628410Z",
     "start_time": "2020-07-31T05:55:36.551048Z"
    }
   },
   "outputs": [],
   "source": [
    "data_df = data_df.fillna(method='bfill')"
   ]
  },
  {
   "cell_type": "code",
   "execution_count": 14,
   "metadata": {
    "ExecuteTime": {
     "end_time": "2020-07-31T05:55:36.727322Z",
     "start_time": "2020-07-31T05:55:36.629357Z"
    }
   },
   "outputs": [],
   "source": [
    "# 离散化\n",
    "for f in ['outdoorTemp', 'outdoorHum', 'outdoorAtmo', 'indoorHum', 'indoorAtmo']:\n",
    "    data_df[f + '_20_bin'] = pd.cut(data_df[f], 20, duplicates='drop').apply(lambda x: x.left).astype(int)\n",
    "    data_df[f + '_50_bin'] = pd.cut(data_df[f], 50, duplicates='drop').apply(lambda x: x.left).astype(int)\n",
    "    data_df[f + '_100_bin'] = pd.cut(data_df[f], 100, duplicates='drop').apply(lambda x: x.left).astype(int)\n",
    "    data_df[f + '_200_bin'] = pd.cut(data_df[f], 200, duplicates='drop').apply(lambda x: x.left).astype(int)"
   ]
  },
  {
   "cell_type": "code",
   "execution_count": 15,
   "metadata": {
    "ExecuteTime": {
     "end_time": "2020-07-31T05:56:05.104920Z",
     "start_time": "2020-07-31T05:55:36.729103Z"
    }
   },
   "outputs": [
    {
     "name": "stderr",
     "output_type": "stream",
     "text": [
      "100%|████████████████████████████████████████████████████████████████████████████████████| 5/5 [00:04<00:00,  1.05it/s]\n",
      "100%|████████████████████████████████████████████████████████████████████████████████████| 5/5 [00:06<00:00,  1.26s/it]\n",
      "100%|████████████████████████████████████████████████████████████████████████████████████| 5/5 [00:07<00:00,  1.57s/it]\n",
      "100%|████████████████████████████████████████████████████████████████████████████████████| 5/5 [00:09<00:00,  1.88s/it]\n"
     ]
    }
   ],
   "source": [
    "for f1 in tqdm(['outdoorTemp_20_bin', 'outdoorHum_20_bin', 'outdoorAtmo_20_bin', 'indoorHum_20_bin', 'indoorAtmo_20_bin']):\n",
    "    for f2 in ['outdoorTemp', 'outdoorHum', 'outdoorAtmo', 'indoorHum', 'indoorAtmo']:\n",
    "        data_df['{}_{}_medi'.format(f1, f2)] = data_df.groupby([f1])[f2].transform('median')\n",
    "        data_df['{}_{}_mean'.format(f1, f2)] = data_df.groupby([f1])[f2].transform('mean')\n",
    "        data_df['{}_{}_max'.format(f1, f2)] = data_df.groupby([f1])[f2].transform('max')\n",
    "        data_df['{}_{}_min'.format(f1, f2)] = data_df.groupby([f1])[f2].transform('min')\n",
    "\n",
    "for f1 in tqdm(\n",
    "        ['outdoorTemp_50_bin', 'outdoorHum_50_bin', 'outdoorAtmo_50_bin', 'indoorHum_50_bin', 'indoorAtmo_50_bin']):\n",
    "    for f2 in ['outdoorTemp', 'outdoorHum', 'outdoorAtmo', 'indoorHum', 'indoorAtmo']:\n",
    "        data_df['{}_{}_medi'.format(f1, f2)] = data_df.groupby([f1])[f2].transform('median')\n",
    "        data_df['{}_{}_mean'.format(f1, f2)] = data_df.groupby([f1])[f2].transform('mean')\n",
    "        data_df['{}_{}_max'.format(f1, f2)] = data_df.groupby([f1])[f2].transform('max')\n",
    "        data_df['{}_{}_min'.format(f1, f2)] = data_df.groupby([f1])[f2].transform('min')\n",
    "\n",
    "for f1 in tqdm(['outdoorTemp_100_bin', 'outdoorHum_100_bin', 'outdoorAtmo_100_bin', 'indoorHum_100_bin',\n",
    "                'indoorAtmo_100_bin']):\n",
    "    for f2 in ['outdoorTemp', 'outdoorHum', 'outdoorAtmo', 'indoorHum', 'indoorAtmo']:\n",
    "        data_df['{}_{}_medi'.format(f1, f2)] = data_df.groupby([f1])[f2].transform('median')\n",
    "        data_df['{}_{}_mean'.format(f1, f2)] = data_df.groupby([f1])[f2].transform('mean')\n",
    "        data_df['{}_{}_max'.format(f1, f2)] = data_df.groupby([f1])[f2].transform('max')\n",
    "        data_df['{}_{}_min'.format(f1, f2)] = data_df.groupby([f1])[f2].transform('min')\n",
    "\n",
    "for f1 in tqdm(['outdoorTemp_200_bin', 'outdoorHum_200_bin', 'outdoorAtmo_200_bin', 'indoorHum_200_bin',\n",
    "                'indoorAtmo_200_bin']):\n",
    "    for f2 in ['outdoorTemp', 'outdoorHum', 'outdoorAtmo', 'indoorHum', 'indoorAtmo']:\n",
    "        data_df['{}_{}_medi'.format(f1, f2)] = data_df.groupby([f1])[f2].transform('median')\n",
    "        data_df['{}_{}_mean'.format(f1, f2)] = data_df.groupby([f1])[f2].transform('mean')\n",
    "        data_df['{}_{}_max'.format(f1, f2)] = data_df.groupby([f1])[f2].transform('max')\n",
    "        data_df['{}_{}_min'.format(f1, f2)] = data_df.groupby([f1])[f2].transform('min')"
   ]
  },
  {
   "cell_type": "code",
   "execution_count": 16,
   "metadata": {
    "ExecuteTime": {
     "end_time": "2020-07-31T05:56:05.129885Z",
     "start_time": "2020-07-31T05:56:05.105899Z"
    }
   },
   "outputs": [],
   "source": [
    "def single_model(clf, train_x, train_y, test_x, clf_name, class_num=1):\n",
    "    train = np.zeros((train_x.shape[0], class_num))\n",
    "    test = np.zeros((test_x.shape[0], class_num))\n",
    "\n",
    "    nums = int(train_x.shape[0] * 0.80)\n",
    "\n",
    "    if clf_name in ['sgd', 'ridge']:\n",
    "        print('MinMaxScaler...')\n",
    "        for col in features:\n",
    "            ss = MinMaxScaler()\n",
    "            ss.fit(np.vstack([train_x[[col]].values, test_x[[col]].values]))\n",
    "            train_x[col] = ss.transform(train_x[[col]].values).flatten()\n",
    "            test_x[col] = ss.transform(test_x[[col]].values).flatten()\n",
    "\n",
    "    trn_x, trn_y, val_x, val_y = train_x[:nums], train_y[:nums], train_x[nums:], train_y[nums:]\n",
    "\n",
    "    if clf_name == \"lgb\":\n",
    "        train_matrix = clf.Dataset(trn_x, label=trn_y)\n",
    "        valid_matrix = clf.Dataset(val_x, label=val_y)\n",
    "        data_matrix = clf.Dataset(train_x, label=train_y)\n",
    "\n",
    "        params = {\n",
    "            'boosting_type': 'gbdt',\n",
    "            'objective': 'mse',\n",
    "            'min_child_weight': 5,\n",
    "            'num_leaves': 2 ** 8,\n",
    "            'feature_fraction': 0.5,\n",
    "            'bagging_fraction': 0.5,\n",
    "            'bagging_freq': 1,\n",
    "            'learning_rate': 0.001,\n",
    "            'seed': 2020\n",
    "        }\n",
    "\n",
    "        model = clf.train(params, train_matrix, 50000, valid_sets=[train_matrix, valid_matrix], verbose_eval=500,\n",
    "                          early_stopping_rounds=1000)\n",
    "        model2 = clf.train(params, data_matrix, model.best_iteration)\n",
    "        val_pred = model.predict(val_x, num_iteration=model2.best_iteration).reshape(-1, 1)\n",
    "        test_pred = model.predict(test_x, num_iteration=model2.best_iteration).reshape(-1, 1)\n",
    "\n",
    "    if clf_name == \"xgb\":\n",
    "        train_matrix = clf.DMatrix(trn_x, label=trn_y, missing=np.nan)\n",
    "        valid_matrix = clf.DMatrix(val_x, label=val_y, missing=np.nan)\n",
    "        test_matrix = clf.DMatrix(test_x, label=val_y, missing=np.nan)\n",
    "        params = {'booster': 'gbtree',\n",
    "                  'eval_metric': 'mae',\n",
    "                  'min_child_weight': 5,\n",
    "                  'max_depth': 8,\n",
    "                  'subsample': 0.5,\n",
    "                  'colsample_bytree': 0.5,\n",
    "                  'eta': 0.001,\n",
    "                  'seed': 2020,\n",
    "                  'nthread': 36,\n",
    "                  'silent': True,\n",
    "                  }\n",
    "\n",
    "        watchlist = [(train_matrix, 'train'), (valid_matrix, 'eval')]\n",
    "\n",
    "        model = clf.train(params, train_matrix, num_boost_round=50000, evals=watchlist, verbose_eval=500,\n",
    "                          early_stopping_rounds=1000)\n",
    "        val_pred = model.predict(valid_matrix, ntree_limit=model.best_ntree_limit).reshape(-1, 1)\n",
    "        test_pred = model.predict(test_matrix, ntree_limit=model.best_ntree_limit).reshape(-1, 1)\n",
    "\n",
    "    if clf_name == \"cat\":\n",
    "        params = {'learning_rate': 0.001, 'depth': 5, 'l2_leaf_reg': 10, 'bootstrap_type': 'Bernoulli',\n",
    "                  'od_type': 'Iter', 'od_wait': 50, 'random_seed': 11, 'allow_writing_files': False}\n",
    "\n",
    "        model = clf(iterations=20000, **params)\n",
    "        model.fit(trn_x, trn_y, eval_set=(val_x, val_y),\n",
    "                  cat_features=[], use_best_model=True, verbose=500)\n",
    "\n",
    "        val_pred = model.predict(val_x)\n",
    "        test_pred = model.predict(test_x)\n",
    "\n",
    "    if clf_name == \"sgd\":\n",
    "        params = {\n",
    "            'loss': 'squared_loss',\n",
    "            'penalty': 'l2',\n",
    "            'alpha': 0.00001,\n",
    "            'random_state': 2020,\n",
    "        }\n",
    "        model = SGDRegressor(**params)\n",
    "        model.fit(trn_x, trn_y)\n",
    "        val_pred = model.predict(val_x)\n",
    "        test_pred = model.predict(test_x)\n",
    "\n",
    "    if clf_name == \"ridge\":\n",
    "        params = {\n",
    "            'alpha': 1.0,\n",
    "            'random_state': 2020,\n",
    "        }\n",
    "        model = Ridge(**params)\n",
    "        model.fit(trn_x, trn_y)\n",
    "        val_pred = model.predict(val_x)\n",
    "        test_pred = model.predict(test_x)\n",
    "    \n",
    "    mse = int(np.round(mean_squared_error(val_y, val_pred), 5) * 10000)\n",
    "    print(\"%s_mse_score:\" % clf_name, mse)\n",
    "\n",
    "    return val_pred, test_pred"
   ]
  },
  {
   "cell_type": "code",
   "execution_count": 17,
   "metadata": {
    "ExecuteTime": {
     "end_time": "2020-07-31T05:56:05.138605Z",
     "start_time": "2020-07-31T05:56:05.131603Z"
    }
   },
   "outputs": [],
   "source": [
    "def lgb_model(x_train, y_train, x_valid):\n",
    "    lgb_train, lgb_test = single_model(lgb, x_train, y_train, x_valid, \"lgb\", 1)\n",
    "    return lgb_train, lgb_test\n",
    "\n",
    "\n",
    "def xgb_model(x_train, y_train, x_valid):\n",
    "    xgb_train, xgb_test = single_model(xgb, x_train, y_train, x_valid, \"xgb\", 1)\n",
    "    return xgb_train, xgb_test\n",
    "\n",
    "\n",
    "def cat_model(x_train, y_train, x_valid):\n",
    "    cat_train, cat_test = single_model(CatBoostRegressor, x_train, y_train, x_valid, \"cat\", 1)\n",
    "    return cat_train, cat_test\n",
    "\n",
    "\n",
    "def sgd_model(x_train, y_train, x_valid):\n",
    "    sgd_train, sgd_test = single_model(SGDRegressor, x_train, y_train, x_valid, \"sgd\", 1)\n",
    "    return sgd_train, sgd_test\n",
    "\n",
    "\n",
    "def ridge_model(x_train, y_train, x_valid):\n",
    "    ridge_train, ridge_test = single_model(Ridge, x_train, y_train, x_valid, \"ridge\", 1)\n",
    "    return ridge_train, ridge_test"
   ]
  },
  {
   "cell_type": "code",
   "execution_count": 18,
   "metadata": {
    "ExecuteTime": {
     "end_time": "2020-07-31T05:56:05.385789Z",
     "start_time": "2020-07-31T05:56:05.140574Z"
    }
   },
   "outputs": [
    {
     "data": {
      "text/plain": [
       "40"
      ]
     },
     "execution_count": 18,
     "metadata": {},
     "output_type": "execute_result"
    }
   ],
   "source": [
    "train_count = train_df.shape[0]\n",
    "train_df = data_df[:train_count].copy().reset_index(drop=True)\n",
    "test_df = data_df[train_count:].copy().reset_index(drop=True)\n",
    "del data_df\n",
    "gc.collect()"
   ]
  },
  {
   "cell_type": "code",
   "execution_count": 19,
   "metadata": {
    "ExecuteTime": {
     "end_time": "2020-07-31T05:56:05.442176Z",
     "start_time": "2020-07-31T05:56:05.386786Z"
    }
   },
   "outputs": [],
   "source": [
    "drop_columns = [\"time\", \"year\", \"sec\", \"temperature\"]\n",
    "\n",
    "features = train_df[:1].drop(drop_columns, axis=1).columns\n",
    "x_train = train_df[features]\n",
    "x_test = test_df[features]"
   ]
  },
  {
   "cell_type": "code",
   "execution_count": 20,
   "metadata": {
    "ExecuteTime": {
     "end_time": "2020-07-31T05:56:05.454231Z",
     "start_time": "2020-07-31T05:56:05.443228Z"
    }
   },
   "outputs": [],
   "source": [
    "y_train = train_df['temperature'].values - train_df['outdoorTemp'].values"
   ]
  },
  {
   "cell_type": "code",
   "execution_count": 21,
   "metadata": {
    "ExecuteTime": {
     "end_time": "2020-07-31T05:56:20.416751Z",
     "start_time": "2020-07-31T05:56:05.455190Z"
    }
   },
   "outputs": [
    {
     "name": "stderr",
     "output_type": "stream",
     "text": [
      "  1%|▌                                                                                 | 5/671 [00:00<00:14, 45.15it/s]"
     ]
    },
    {
     "name": "stdout",
     "output_type": "stream",
     "text": [
      "month done\n",
      "day done\n",
      "hour done\n",
      "min done\n",
      "(-inf, 14.8]    4103\n",
      "(14.8, 16.2]    3733\n",
      "(16.2, 17.8]    4050\n",
      "(17.8, 20.4]    3678\n",
      "(20.4, inf]     3774\n",
      "Name: train, dtype: int64\n",
      "(-inf, 14.8]     47\n",
      "(14.8, 16.2]     42\n",
      "(16.2, 17.8]     47\n",
      "(17.8, 20.4]     57\n",
      "(20.4, inf]     213\n",
      "Name: test, dtype: int64\n",
      "outdoorTemp done\n",
      "outdoorHum done\n",
      "outdoorAtmo done\n",
      "indoorHum done\n",
      "indoorAtmo done\n"
     ]
    },
    {
     "name": "stderr",
     "output_type": "stream",
     "text": [
      "  2%|█▊                                                                               | 15/671 [00:00<00:14, 44.20it/s]"
     ]
    },
    {
     "name": "stdout",
     "output_type": "stream",
     "text": [
      "MDH_outdoorTemp_medi done\n",
      "MDH_outdoorTemp_mean done\n",
      "MDH_outdoorTemp_max done\n",
      "MDH_outdoorTemp_min done\n",
      "MDH_outdoorTemp_std done\n",
      "MDH_outdoorHum_medi done\n",
      "MDH_outdoorHum_mean done\n",
      "MDH_outdoorHum_max done\n",
      "MDH_outdoorHum_min done\n"
     ]
    },
    {
     "name": "stderr",
     "output_type": "stream",
     "text": [
      "  4%|███                                                                              | 25/671 [00:00<00:14, 44.23it/s]"
     ]
    },
    {
     "name": "stdout",
     "output_type": "stream",
     "text": [
      "MDH_outdoorHum_std done\n",
      "MDH_outdoorAtmo_medi done\n",
      "MDH_outdoorAtmo_mean done\n",
      "MDH_outdoorAtmo_max done\n",
      "MDH_outdoorAtmo_min done\n",
      "MDH_outdoorAtmo_std done\n",
      "MDH_indoorHum_medi done\n",
      "MDH_indoorHum_mean done\n",
      "MDH_indoorHum_max done\n",
      "MDH_indoorHum_min done\n"
     ]
    },
    {
     "name": "stderr",
     "output_type": "stream",
     "text": [
      "  5%|████▏                                                                            | 35/671 [00:00<00:14, 45.26it/s]"
     ]
    },
    {
     "name": "stdout",
     "output_type": "stream",
     "text": [
      "MDH_indoorHum_std done\n",
      "MDH_indoorAtmo_medi done\n",
      "MDH_indoorAtmo_mean done\n",
      "MDH_indoorAtmo_max done\n",
      "MDH_indoorAtmo_min done\n",
      "MDH_indoorAtmo_std done\n",
      "outdoorTemp_outdoorHum_ratio done\n",
      "outdoorTemp_outdoorAtmo_ratio done\n",
      "outdoorTemp_indoorHum_ratio done\n"
     ]
    },
    {
     "name": "stderr",
     "output_type": "stream",
     "text": [
      "  7%|█████▍                                                                           | 45/671 [00:01<00:14, 43.86it/s]"
     ]
    },
    {
     "name": "stdout",
     "output_type": "stream",
     "text": [
      "outdoorTemp_indoorAtmo_ratio done\n",
      "outdoorTemp_MDH_outdoorTemp_medi_ratio done\n",
      "outdoorTemp_MDH_outdoorTemp_mean_ratio done\n",
      "outdoorTemp_MDH_outdoorHum_medi_ratio done\n",
      "outdoorTemp_MDH_outdoorHum_mean_ratio done\n",
      "outdoorTemp_MDH_outdoorAtmo_medi_ratio done\n",
      "outdoorTemp_MDH_outdoorAtmo_mean_ratio done\n",
      "outdoorTemp_MDH_indoorHum_medi_ratio done\n",
      "outdoorTemp_MDH_indoorHum_mean_ratio done\n",
      "outdoorTemp_MDH_indoorAtmo_medi_ratio done\n"
     ]
    },
    {
     "name": "stderr",
     "output_type": "stream",
     "text": [
      "  8%|██████▋                                                                          | 55/671 [00:01<00:14, 43.29it/s]"
     ]
    },
    {
     "name": "stdout",
     "output_type": "stream",
     "text": [
      "outdoorTemp_MDH_indoorAtmo_mean_ratio done\n",
      "outdoorHum_outdoorTemp_ratio done\n",
      "outdoorHum_outdoorAtmo_ratio done\n",
      "outdoorHum_indoorHum_ratio done\n",
      "outdoorHum_indoorAtmo_ratio done\n",
      "outdoorHum_MDH_outdoorTemp_medi_ratio done\n",
      "outdoorHum_MDH_outdoorTemp_mean_ratio done\n",
      "outdoorHum_MDH_outdoorHum_medi_ratio done\n",
      "outdoorHum_MDH_outdoorHum_mean_ratio done\n"
     ]
    },
    {
     "name": "stderr",
     "output_type": "stream",
     "text": [
      " 10%|███████▊                                                                         | 65/671 [00:01<00:14, 43.06it/s]"
     ]
    },
    {
     "name": "stdout",
     "output_type": "stream",
     "text": [
      "outdoorHum_MDH_outdoorAtmo_medi_ratio done\n",
      "outdoorHum_MDH_outdoorAtmo_mean_ratio done\n",
      "outdoorHum_MDH_indoorHum_medi_ratio done\n",
      "outdoorHum_MDH_indoorHum_mean_ratio done\n",
      "outdoorHum_MDH_indoorAtmo_medi_ratio done\n",
      "outdoorHum_MDH_indoorAtmo_mean_ratio done\n",
      "outdoorAtmo_outdoorTemp_ratio done\n",
      "outdoorAtmo_outdoorHum_ratio done\n",
      "outdoorAtmo_indoorHum_ratio done\n",
      "outdoorAtmo_indoorAtmo_ratio done\n"
     ]
    },
    {
     "name": "stderr",
     "output_type": "stream",
     "text": [
      " 11%|█████████                                                                        | 75/671 [00:01<00:13, 43.25it/s]"
     ]
    },
    {
     "name": "stdout",
     "output_type": "stream",
     "text": [
      "outdoorAtmo_MDH_outdoorTemp_medi_ratio done\n",
      "outdoorAtmo_MDH_outdoorTemp_mean_ratio done\n",
      "outdoorAtmo_MDH_outdoorHum_medi_ratio done\n",
      "outdoorAtmo_MDH_outdoorHum_mean_ratio done\n",
      "outdoorAtmo_MDH_outdoorAtmo_medi_ratio done\n",
      "outdoorAtmo_MDH_outdoorAtmo_mean_ratio done\n",
      "outdoorAtmo_MDH_indoorHum_medi_ratio done\n",
      "outdoorAtmo_MDH_indoorHum_mean_ratio done\n",
      "outdoorAtmo_MDH_indoorAtmo_medi_ratio done\n"
     ]
    },
    {
     "name": "stderr",
     "output_type": "stream",
     "text": [
      "\r",
      " 12%|█████████▋                                                                       | 80/671 [00:01<00:13, 43.02it/s]"
     ]
    },
    {
     "name": "stdout",
     "output_type": "stream",
     "text": [
      "outdoorAtmo_MDH_indoorAtmo_mean_ratio done\n",
      "indoorHum_outdoorTemp_ratio done\n",
      "indoorHum_outdoorHum_ratio done\n",
      "indoorHum_outdoorAtmo_ratio done\n",
      "indoorHum_indoorAtmo_ratio done\n",
      "indoorHum_MDH_outdoorTemp_medi_ratio done\n",
      "indoorHum_MDH_outdoorTemp_mean_ratio done\n",
      "indoorHum_MDH_outdoorHum_medi_ratio done\n",
      "indoorHum_MDH_outdoorHum_mean_ratio done\n"
     ]
    },
    {
     "name": "stderr",
     "output_type": "stream",
     "text": [
      " 13%|██████████▊                                                                      | 90/671 [00:02<00:13, 43.19it/s]"
     ]
    },
    {
     "name": "stdout",
     "output_type": "stream",
     "text": [
      "indoorHum_MDH_outdoorAtmo_medi_ratio done\n",
      "indoorHum_MDH_outdoorAtmo_mean_ratio done\n",
      "indoorHum_MDH_indoorHum_medi_ratio done\n",
      "indoorHum_MDH_indoorHum_mean_ratio done\n",
      "indoorHum_MDH_indoorAtmo_medi_ratio done\n",
      "indoorHum_MDH_indoorAtmo_mean_ratio done\n",
      "indoorAtmo_outdoorTemp_ratio done\n",
      "indoorAtmo_outdoorHum_ratio done\n",
      "indoorAtmo_outdoorAtmo_ratio done\n",
      "indoorAtmo_indoorHum_ratio done\n"
     ]
    },
    {
     "name": "stderr",
     "output_type": "stream",
     "text": [
      " 15%|███████████▉                                                                    | 100/671 [00:02<00:13, 43.37it/s]"
     ]
    },
    {
     "name": "stdout",
     "output_type": "stream",
     "text": [
      "indoorAtmo_MDH_outdoorTemp_medi_ratio done\n",
      "indoorAtmo_MDH_outdoorTemp_mean_ratio done\n",
      "indoorAtmo_MDH_outdoorHum_medi_ratio done\n",
      "indoorAtmo_MDH_outdoorHum_mean_ratio done\n",
      "indoorAtmo_MDH_outdoorAtmo_medi_ratio done\n",
      "indoorAtmo_MDH_outdoorAtmo_mean_ratio done\n",
      "indoorAtmo_MDH_indoorHum_medi_ratio done\n",
      "indoorAtmo_MDH_indoorHum_mean_ratio done\n",
      "indoorAtmo_MDH_indoorAtmo_medi_ratio done\n"
     ]
    },
    {
     "name": "stderr",
     "output_type": "stream",
     "text": [
      " 16%|█████████████                                                                   | 110/671 [00:02<00:12, 43.37it/s]"
     ]
    },
    {
     "name": "stdout",
     "output_type": "stream",
     "text": [
      "indoorAtmo_MDH_indoorAtmo_mean_ratio done\n",
      "MDH_outdoorTemp_medi_outdoorTemp_ratio done\n",
      "MDH_outdoorTemp_medi_outdoorHum_ratio done\n",
      "MDH_outdoorTemp_medi_outdoorAtmo_ratio done\n",
      "MDH_outdoorTemp_medi_indoorHum_ratio done\n",
      "MDH_outdoorTemp_medi_indoorAtmo_ratio done\n",
      "MDH_outdoorTemp_medi_MDH_outdoorTemp_mean_ratio done\n",
      "MDH_outdoorTemp_medi_MDH_outdoorHum_medi_ratio done\n",
      "MDH_outdoorTemp_medi_MDH_outdoorHum_mean_ratio done\n",
      "MDH_outdoorTemp_medi_MDH_outdoorAtmo_medi_ratio done\n"
     ]
    },
    {
     "name": "stderr",
     "output_type": "stream",
     "text": [
      " 18%|██████████████▍                                                                 | 121/671 [00:02<00:12, 43.82it/s]"
     ]
    },
    {
     "name": "stdout",
     "output_type": "stream",
     "text": [
      "MDH_outdoorTemp_medi_MDH_outdoorAtmo_mean_ratio done\n",
      "MDH_outdoorTemp_medi_MDH_indoorHum_medi_ratio done\n",
      "MDH_outdoorTemp_medi_MDH_indoorHum_mean_ratio done\n",
      "MDH_outdoorTemp_medi_MDH_indoorAtmo_medi_ratio done\n",
      "MDH_outdoorTemp_medi_MDH_indoorAtmo_mean_ratio done\n",
      "MDH_outdoorTemp_mean_outdoorTemp_ratio done\n",
      "MDH_outdoorTemp_mean_outdoorHum_ratio done\n",
      "MDH_outdoorTemp_mean_outdoorAtmo_ratio done\n",
      "MDH_outdoorTemp_mean_indoorHum_ratio done\n"
     ]
    },
    {
     "name": "stderr",
     "output_type": "stream",
     "text": [
      " 20%|███████████████▌                                                                | 131/671 [00:03<00:12, 44.65it/s]"
     ]
    },
    {
     "name": "stdout",
     "output_type": "stream",
     "text": [
      "MDH_outdoorTemp_mean_indoorAtmo_ratio done\n",
      "MDH_outdoorTemp_mean_MDH_outdoorTemp_medi_ratio done\n",
      "MDH_outdoorTemp_mean_MDH_outdoorHum_medi_ratio done\n",
      "MDH_outdoorTemp_mean_MDH_outdoorHum_mean_ratio done\n",
      "MDH_outdoorTemp_mean_MDH_outdoorAtmo_medi_ratio done\n",
      "MDH_outdoorTemp_mean_MDH_outdoorAtmo_mean_ratio done\n",
      "MDH_outdoorTemp_mean_MDH_indoorHum_medi_ratio done\n",
      "MDH_outdoorTemp_mean_MDH_indoorHum_mean_ratio done\n",
      "MDH_outdoorTemp_mean_MDH_indoorAtmo_medi_ratio done\n"
     ]
    },
    {
     "name": "stderr",
     "output_type": "stream",
     "text": [
      " 21%|████████████████▊                                                               | 141/671 [00:03<00:12, 43.69it/s]"
     ]
    },
    {
     "name": "stdout",
     "output_type": "stream",
     "text": [
      "MDH_outdoorTemp_mean_MDH_indoorAtmo_mean_ratio done\n",
      "MDH_outdoorHum_medi_outdoorTemp_ratio done\n",
      "MDH_outdoorHum_medi_outdoorHum_ratio done\n",
      "MDH_outdoorHum_medi_outdoorAtmo_ratio done\n",
      "MDH_outdoorHum_medi_indoorHum_ratio done\n",
      "MDH_outdoorHum_medi_indoorAtmo_ratio done\n",
      "MDH_outdoorHum_medi_MDH_outdoorTemp_medi_ratio done\n",
      "MDH_outdoorHum_medi_MDH_outdoorTemp_mean_ratio done\n",
      "MDH_outdoorHum_medi_MDH_outdoorHum_mean_ratio done\n",
      "MDH_outdoorHum_medi_MDH_outdoorAtmo_medi_ratio done\n"
     ]
    },
    {
     "name": "stderr",
     "output_type": "stream",
     "text": [
      "\r",
      " 22%|█████████████████▍                                                              | 146/671 [00:03<00:12, 43.36it/s]"
     ]
    },
    {
     "name": "stdout",
     "output_type": "stream",
     "text": [
      "MDH_outdoorHum_medi_MDH_outdoorAtmo_mean_ratio done\n",
      "MDH_outdoorHum_medi_MDH_indoorHum_medi_ratio done\n",
      "MDH_outdoorHum_medi_MDH_indoorHum_mean_ratio done\n",
      "MDH_outdoorHum_medi_MDH_indoorAtmo_medi_ratio done\n",
      "MDH_outdoorHum_medi_MDH_indoorAtmo_mean_ratio done\n",
      "MDH_outdoorHum_mean_outdoorTemp_ratio done\n",
      "MDH_outdoorHum_mean_outdoorHum_ratio done\n",
      "MDH_outdoorHum_mean_outdoorAtmo_ratio done\n",
      "MDH_outdoorHum_mean_indoorHum_ratio done\n"
     ]
    },
    {
     "name": "stderr",
     "output_type": "stream",
     "text": [
      " 23%|██████████████████▌                                                             | 156/671 [00:03<00:11, 43.72it/s]"
     ]
    },
    {
     "name": "stdout",
     "output_type": "stream",
     "text": [
      "MDH_outdoorHum_mean_indoorAtmo_ratio done\n",
      "MDH_outdoorHum_mean_MDH_outdoorTemp_medi_ratio done\n",
      "MDH_outdoorHum_mean_MDH_outdoorTemp_mean_ratio done\n",
      "MDH_outdoorHum_mean_MDH_outdoorHum_medi_ratio done\n",
      "MDH_outdoorHum_mean_MDH_outdoorAtmo_medi_ratio done\n",
      "MDH_outdoorHum_mean_MDH_outdoorAtmo_mean_ratio done\n",
      "MDH_outdoorHum_mean_MDH_indoorHum_medi_ratio done\n",
      "MDH_outdoorHum_mean_MDH_indoorHum_mean_ratio done\n",
      "MDH_outdoorHum_mean_MDH_indoorAtmo_medi_ratio done\n"
     ]
    },
    {
     "name": "stderr",
     "output_type": "stream",
     "text": [
      " 25%|███████████████████▉                                                            | 167/671 [00:03<00:11, 44.03it/s]"
     ]
    },
    {
     "name": "stdout",
     "output_type": "stream",
     "text": [
      "MDH_outdoorHum_mean_MDH_indoorAtmo_mean_ratio done\n",
      "MDH_outdoorAtmo_medi_outdoorTemp_ratio done\n",
      "MDH_outdoorAtmo_medi_outdoorHum_ratio done\n",
      "MDH_outdoorAtmo_medi_outdoorAtmo_ratio done\n",
      "MDH_outdoorAtmo_medi_indoorHum_ratio done\n",
      "MDH_outdoorAtmo_medi_indoorAtmo_ratio done\n",
      "MDH_outdoorAtmo_medi_MDH_outdoorTemp_medi_ratio done\n",
      "MDH_outdoorAtmo_medi_MDH_outdoorTemp_mean_ratio done\n",
      "MDH_outdoorAtmo_medi_MDH_outdoorHum_medi_ratio done\n",
      "MDH_outdoorAtmo_medi_MDH_outdoorHum_mean_ratio done\n"
     ]
    },
    {
     "name": "stderr",
     "output_type": "stream",
     "text": [
      " 26%|█████████████████████                                                           | 177/671 [00:04<00:11, 43.48it/s]"
     ]
    },
    {
     "name": "stdout",
     "output_type": "stream",
     "text": [
      "MDH_outdoorAtmo_medi_MDH_outdoorAtmo_mean_ratio done\n",
      "MDH_outdoorAtmo_medi_MDH_indoorHum_medi_ratio done\n",
      "MDH_outdoorAtmo_medi_MDH_indoorHum_mean_ratio done\n",
      "MDH_outdoorAtmo_medi_MDH_indoorAtmo_medi_ratio done\n",
      "MDH_outdoorAtmo_medi_MDH_indoorAtmo_mean_ratio done\n",
      "MDH_outdoorAtmo_mean_outdoorTemp_ratio done\n",
      "MDH_outdoorAtmo_mean_outdoorHum_ratio done\n",
      "MDH_outdoorAtmo_mean_outdoorAtmo_ratio done\n",
      "MDH_outdoorAtmo_mean_indoorHum_ratio done\n"
     ]
    },
    {
     "name": "stderr",
     "output_type": "stream",
     "text": [
      " 28%|██████████████████████▎                                                         | 187/671 [00:04<00:10, 44.31it/s]"
     ]
    },
    {
     "name": "stdout",
     "output_type": "stream",
     "text": [
      "MDH_outdoorAtmo_mean_indoorAtmo_ratio done\n",
      "MDH_outdoorAtmo_mean_MDH_outdoorTemp_medi_ratio done\n",
      "MDH_outdoorAtmo_mean_MDH_outdoorTemp_mean_ratio done\n",
      "MDH_outdoorAtmo_mean_MDH_outdoorHum_medi_ratio done\n",
      "MDH_outdoorAtmo_mean_MDH_outdoorHum_mean_ratio done\n",
      "MDH_outdoorAtmo_mean_MDH_outdoorAtmo_medi_ratio done\n",
      "MDH_outdoorAtmo_mean_MDH_indoorHum_medi_ratio done\n",
      "MDH_outdoorAtmo_mean_MDH_indoorHum_mean_ratio done\n",
      "MDH_outdoorAtmo_mean_MDH_indoorAtmo_medi_ratio done\n"
     ]
    },
    {
     "name": "stderr",
     "output_type": "stream",
     "text": [
      " 29%|███████████████████████▍                                                        | 197/671 [00:04<00:10, 43.74it/s]"
     ]
    },
    {
     "name": "stdout",
     "output_type": "stream",
     "text": [
      "MDH_outdoorAtmo_mean_MDH_indoorAtmo_mean_ratio done\n",
      "MDH_indoorHum_medi_outdoorTemp_ratio done\n",
      "MDH_indoorHum_medi_outdoorHum_ratio done\n",
      "MDH_indoorHum_medi_outdoorAtmo_ratio done\n",
      "MDH_indoorHum_medi_indoorHum_ratio done\n",
      "MDH_indoorHum_medi_indoorAtmo_ratio done\n",
      "MDH_indoorHum_medi_MDH_outdoorTemp_medi_ratio done\n",
      "MDH_indoorHum_medi_MDH_outdoorTemp_mean_ratio done\n",
      "MDH_indoorHum_medi_MDH_outdoorHum_medi_ratio done\n",
      "MDH_indoorHum_medi_MDH_outdoorHum_mean_ratio done\n"
     ]
    },
    {
     "name": "stderr",
     "output_type": "stream",
     "text": [
      "\r",
      " 30%|████████████████████████                                                        | 202/671 [00:04<00:10, 43.49it/s]"
     ]
    },
    {
     "name": "stdout",
     "output_type": "stream",
     "text": [
      "MDH_indoorHum_medi_MDH_outdoorAtmo_medi_ratio done\n",
      "MDH_indoorHum_medi_MDH_outdoorAtmo_mean_ratio done\n",
      "MDH_indoorHum_medi_MDH_indoorHum_mean_ratio done\n",
      "MDH_indoorHum_medi_MDH_indoorAtmo_medi_ratio done\n",
      "MDH_indoorHum_medi_MDH_indoorAtmo_mean_ratio done\n",
      "MDH_indoorHum_mean_outdoorTemp_ratio done\n",
      "MDH_indoorHum_mean_outdoorHum_ratio done\n",
      "MDH_indoorHum_mean_outdoorAtmo_ratio done\n",
      "MDH_indoorHum_mean_indoorHum_ratio done\n"
     ]
    },
    {
     "name": "stderr",
     "output_type": "stream",
     "text": [
      " 32%|█████████████████████████▎                                                      | 212/671 [00:04<00:10, 43.49it/s]"
     ]
    },
    {
     "name": "stdout",
     "output_type": "stream",
     "text": [
      "MDH_indoorHum_mean_indoorAtmo_ratio done\n",
      "MDH_indoorHum_mean_MDH_outdoorTemp_medi_ratio done\n",
      "MDH_indoorHum_mean_MDH_outdoorTemp_mean_ratio done\n",
      "MDH_indoorHum_mean_MDH_outdoorHum_medi_ratio done\n",
      "MDH_indoorHum_mean_MDH_outdoorHum_mean_ratio done\n",
      "MDH_indoorHum_mean_MDH_outdoorAtmo_medi_ratio done\n",
      "MDH_indoorHum_mean_MDH_outdoorAtmo_mean_ratio done\n",
      "MDH_indoorHum_mean_MDH_indoorHum_medi_ratio done\n",
      "MDH_indoorHum_mean_MDH_indoorAtmo_medi_ratio done\n"
     ]
    },
    {
     "name": "stderr",
     "output_type": "stream",
     "text": [
      " 33%|██████████████████████████▍                                                     | 222/671 [00:05<00:10, 44.89it/s]"
     ]
    },
    {
     "name": "stdout",
     "output_type": "stream",
     "text": [
      "MDH_indoorHum_mean_MDH_indoorAtmo_mean_ratio done\n",
      "MDH_indoorAtmo_medi_outdoorTemp_ratio done\n",
      "MDH_indoorAtmo_medi_outdoorHum_ratio done\n",
      "MDH_indoorAtmo_medi_outdoorAtmo_ratio done\n",
      "MDH_indoorAtmo_medi_indoorHum_ratio done\n",
      "MDH_indoorAtmo_medi_indoorAtmo_ratio done\n",
      "MDH_indoorAtmo_medi_MDH_outdoorTemp_medi_ratio done\n",
      "MDH_indoorAtmo_medi_MDH_outdoorTemp_mean_ratio done\n",
      "MDH_indoorAtmo_medi_MDH_outdoorHum_medi_ratio done\n"
     ]
    },
    {
     "name": "stderr",
     "output_type": "stream",
     "text": [
      " 35%|███████████████████████████▋                                                    | 232/671 [00:05<00:09, 44.03it/s]"
     ]
    },
    {
     "name": "stdout",
     "output_type": "stream",
     "text": [
      "MDH_indoorAtmo_medi_MDH_outdoorHum_mean_ratio done\n",
      "MDH_indoorAtmo_medi_MDH_outdoorAtmo_medi_ratio done\n",
      "MDH_indoorAtmo_medi_MDH_outdoorAtmo_mean_ratio done\n",
      "MDH_indoorAtmo_medi_MDH_indoorHum_medi_ratio done\n",
      "MDH_indoorAtmo_medi_MDH_indoorHum_mean_ratio done\n",
      "MDH_indoorAtmo_medi_MDH_indoorAtmo_mean_ratio done\n",
      "MDH_indoorAtmo_mean_outdoorTemp_ratio done\n",
      "MDH_indoorAtmo_mean_outdoorHum_ratio done\n",
      "MDH_indoorAtmo_mean_outdoorAtmo_ratio done\n"
     ]
    },
    {
     "name": "stderr",
     "output_type": "stream",
     "text": [
      "\r",
      " 35%|████████████████████████████▎                                                   | 237/671 [00:05<00:09, 43.48it/s]"
     ]
    },
    {
     "name": "stdout",
     "output_type": "stream",
     "text": [
      "MDH_indoorAtmo_mean_indoorHum_ratio done\n",
      "MDH_indoorAtmo_mean_indoorAtmo_ratio done\n",
      "MDH_indoorAtmo_mean_MDH_outdoorTemp_medi_ratio done\n",
      "MDH_indoorAtmo_mean_MDH_outdoorTemp_mean_ratio done\n",
      "MDH_indoorAtmo_mean_MDH_outdoorHum_medi_ratio done\n",
      "MDH_indoorAtmo_mean_MDH_outdoorHum_mean_ratio done\n",
      "MDH_indoorAtmo_mean_MDH_outdoorAtmo_medi_ratio done\n",
      "MDH_indoorAtmo_mean_MDH_outdoorAtmo_mean_ratio done\n",
      "MDH_indoorAtmo_mean_MDH_indoorHum_medi_ratio done\n"
     ]
    },
    {
     "name": "stderr",
     "output_type": "stream",
     "text": [
      " 37%|█████████████████████████████▌                                                  | 248/671 [00:05<00:09, 43.50it/s]"
     ]
    },
    {
     "name": "stdout",
     "output_type": "stream",
     "text": [
      "MDH_indoorAtmo_mean_MDH_indoorHum_mean_ratio done\n",
      "MDH_indoorAtmo_mean_MDH_indoorAtmo_medi_ratio done\n",
      "dt done\n",
      "hit_outdoorTemp_mean done\n",
      "hit_outdoorHum_mean done\n",
      "hit_outdoorAtmo_mean done\n",
      "hit_indoorHum_mean done\n",
      "hit_indoorAtmo_mean done\n",
      "hit_temperature_mean done\n"
     ]
    },
    {
     "name": "stderr",
     "output_type": "stream",
     "text": [
      " 39%|██████████████████████████████▉                                                 | 259/671 [00:05<00:09, 43.98it/s]"
     ]
    },
    {
     "name": "stdout",
     "output_type": "stream",
     "text": [
      "outdoorTemp_20_bin done\n",
      "outdoorTemp_50_bin done\n",
      "outdoorTemp_100_bin done\n",
      "outdoorTemp_200_bin done\n",
      "outdoorHum_20_bin done\n",
      "outdoorHum_50_bin done\n",
      "outdoorHum_100_bin done\n",
      "outdoorHum_200_bin done\n",
      "outdoorAtmo_20_bin done\n",
      "outdoorAtmo_50_bin done\n"
     ]
    },
    {
     "name": "stderr",
     "output_type": "stream",
     "text": [
      " 40%|████████████████████████████████▏                                               | 270/671 [00:06<00:08, 45.75it/s]"
     ]
    },
    {
     "name": "stdout",
     "output_type": "stream",
     "text": [
      "outdoorAtmo_100_bin done\n",
      "outdoorAtmo_200_bin done\n",
      "indoorHum_20_bin done\n",
      "indoorHum_50_bin done\n",
      "indoorHum_100_bin done\n",
      "indoorHum_200_bin done\n",
      "indoorAtmo_20_bin done\n",
      "indoorAtmo_50_bin done\n",
      "indoorAtmo_100_bin done\n",
      "indoorAtmo_200_bin done\n"
     ]
    },
    {
     "name": "stderr",
     "output_type": "stream",
     "text": [
      " 42%|█████████████████████████████████▍                                              | 280/671 [00:06<00:08, 45.41it/s]"
     ]
    },
    {
     "name": "stdout",
     "output_type": "stream",
     "text": [
      "outdoorTemp_20_bin_outdoorTemp_medi done\n",
      "outdoorTemp_20_bin_outdoorTemp_mean done\n",
      "outdoorTemp_20_bin_outdoorTemp_max done\n",
      "outdoorTemp_20_bin_outdoorTemp_min done\n",
      "outdoorTemp_20_bin_outdoorHum_medi done\n",
      "outdoorTemp_20_bin_outdoorHum_mean done\n",
      "outdoorTemp_20_bin_outdoorHum_max done\n",
      "outdoorTemp_20_bin_outdoorHum_min done\n",
      "outdoorTemp_20_bin_outdoorAtmo_medi done\n",
      "outdoorTemp_20_bin_outdoorAtmo_mean done\n"
     ]
    },
    {
     "name": "stderr",
     "output_type": "stream",
     "text": [
      " 43%|██████████████████████████████████▌                                             | 290/671 [00:06<00:08, 44.30it/s]"
     ]
    },
    {
     "name": "stdout",
     "output_type": "stream",
     "text": [
      "outdoorTemp_20_bin_outdoorAtmo_max done\n",
      "outdoorTemp_20_bin_outdoorAtmo_min done\n",
      "outdoorTemp_20_bin_indoorHum_medi done\n",
      "outdoorTemp_20_bin_indoorHum_mean done\n",
      "outdoorTemp_20_bin_indoorHum_max done\n",
      "outdoorTemp_20_bin_indoorHum_min done\n",
      "outdoorTemp_20_bin_indoorAtmo_medi done\n",
      "outdoorTemp_20_bin_indoorAtmo_mean done\n",
      "outdoorTemp_20_bin_indoorAtmo_max done\n",
      "outdoorTemp_20_bin_indoorAtmo_min done\n"
     ]
    },
    {
     "name": "stderr",
     "output_type": "stream",
     "text": [
      " 45%|███████████████████████████████████▊                                            | 300/671 [00:06<00:08, 44.89it/s]"
     ]
    },
    {
     "name": "stdout",
     "output_type": "stream",
     "text": [
      "outdoorHum_20_bin_outdoorTemp_medi done\n",
      "outdoorHum_20_bin_outdoorTemp_mean done\n",
      "outdoorHum_20_bin_outdoorTemp_max done\n",
      "outdoorHum_20_bin_outdoorTemp_min done\n",
      "outdoorHum_20_bin_outdoorHum_medi done\n",
      "outdoorHum_20_bin_outdoorHum_mean done\n",
      "outdoorHum_20_bin_outdoorHum_max done\n",
      "outdoorHum_20_bin_outdoorHum_min done\n",
      "outdoorHum_20_bin_outdoorAtmo_medi done\n"
     ]
    },
    {
     "name": "stderr",
     "output_type": "stream",
     "text": [
      "\r",
      " 45%|████████████████████████████████████▎                                           | 305/671 [00:06<00:08, 44.26it/s]"
     ]
    },
    {
     "name": "stdout",
     "output_type": "stream",
     "text": [
      "outdoorHum_20_bin_outdoorAtmo_mean done\n",
      "outdoorHum_20_bin_outdoorAtmo_max done\n",
      "outdoorHum_20_bin_outdoorAtmo_min done\n",
      "outdoorHum_20_bin_indoorHum_medi done\n",
      "outdoorHum_20_bin_indoorHum_mean done\n",
      "outdoorHum_20_bin_indoorHum_max done\n",
      "outdoorHum_20_bin_indoorHum_min done\n",
      "outdoorHum_20_bin_indoorAtmo_medi done\n",
      "outdoorHum_20_bin_indoorAtmo_mean done\n"
     ]
    },
    {
     "name": "stderr",
     "output_type": "stream",
     "text": [
      " 47%|█████████████████████████████████████▋                                          | 316/671 [00:07<00:07, 45.78it/s]"
     ]
    },
    {
     "name": "stdout",
     "output_type": "stream",
     "text": [
      "outdoorHum_20_bin_indoorAtmo_max done\n",
      "outdoorHum_20_bin_indoorAtmo_min done\n",
      "outdoorAtmo_20_bin_outdoorTemp_medi done\n",
      "outdoorAtmo_20_bin_outdoorTemp_mean done\n",
      "outdoorAtmo_20_bin_outdoorTemp_max done\n",
      "outdoorAtmo_20_bin_outdoorTemp_min done\n",
      "outdoorAtmo_20_bin_outdoorHum_medi done\n",
      "outdoorAtmo_20_bin_outdoorHum_mean done\n",
      "outdoorAtmo_20_bin_outdoorHum_max done\n",
      "outdoorAtmo_20_bin_outdoorHum_min done\n",
      "outdoorAtmo_20_bin_outdoorAtmo_medi done\n",
      "outdoorAtmo_20_bin_outdoorAtmo_mean done\n"
     ]
    },
    {
     "name": "stderr",
     "output_type": "stream",
     "text": [
      " 49%|███████████████████████████████████████                                         | 328/671 [00:07<00:07, 48.75it/s]"
     ]
    },
    {
     "name": "stdout",
     "output_type": "stream",
     "text": [
      "outdoorAtmo_20_bin_outdoorAtmo_max done\n",
      "outdoorAtmo_20_bin_outdoorAtmo_min done\n",
      "outdoorAtmo_20_bin_indoorHum_medi done\n",
      "outdoorAtmo_20_bin_indoorHum_mean done\n",
      "outdoorAtmo_20_bin_indoorHum_max done\n",
      "outdoorAtmo_20_bin_indoorHum_min done\n",
      "outdoorAtmo_20_bin_indoorAtmo_medi done\n",
      "outdoorAtmo_20_bin_indoorAtmo_mean done\n",
      "outdoorAtmo_20_bin_indoorAtmo_max done\n",
      "outdoorAtmo_20_bin_indoorAtmo_min done\n",
      "indoorHum_20_bin_outdoorTemp_medi done\n"
     ]
    },
    {
     "name": "stderr",
     "output_type": "stream",
     "text": [
      " 50%|████████████████████████████████████████▎                                       | 338/671 [00:07<00:07, 47.29it/s]"
     ]
    },
    {
     "name": "stdout",
     "output_type": "stream",
     "text": [
      "indoorHum_20_bin_outdoorTemp_mean done\n",
      "indoorHum_20_bin_outdoorTemp_max done\n",
      "indoorHum_20_bin_outdoorTemp_min done\n",
      "indoorHum_20_bin_outdoorHum_medi done\n",
      "indoorHum_20_bin_outdoorHum_mean done\n",
      "indoorHum_20_bin_outdoorHum_max done\n",
      "indoorHum_20_bin_outdoorHum_min done\n",
      "indoorHum_20_bin_outdoorAtmo_medi done\n",
      "indoorHum_20_bin_outdoorAtmo_mean done\n"
     ]
    },
    {
     "name": "stderr",
     "output_type": "stream",
     "text": [
      " 52%|█████████████████████████████████████████▍                                      | 348/671 [00:07<00:06, 46.93it/s]"
     ]
    },
    {
     "name": "stdout",
     "output_type": "stream",
     "text": [
      "indoorHum_20_bin_outdoorAtmo_max done\n",
      "indoorHum_20_bin_outdoorAtmo_min done\n",
      "indoorHum_20_bin_indoorHum_medi done\n",
      "indoorHum_20_bin_indoorHum_mean done\n",
      "indoorHum_20_bin_indoorHum_max done\n",
      "indoorHum_20_bin_indoorHum_min done\n",
      "indoorHum_20_bin_indoorAtmo_medi done\n",
      "indoorHum_20_bin_indoorAtmo_mean done\n",
      "indoorHum_20_bin_indoorAtmo_max done\n"
     ]
    },
    {
     "name": "stderr",
     "output_type": "stream",
     "text": [
      " 54%|██████████████████████████████████████████▊                                     | 359/671 [00:08<00:06, 48.77it/s]"
     ]
    },
    {
     "name": "stdout",
     "output_type": "stream",
     "text": [
      "indoorHum_20_bin_indoorAtmo_min done\n",
      "indoorAtmo_20_bin_outdoorTemp_medi done\n",
      "indoorAtmo_20_bin_outdoorTemp_mean done\n",
      "indoorAtmo_20_bin_outdoorTemp_max done\n",
      "indoorAtmo_20_bin_outdoorTemp_min done\n",
      "indoorAtmo_20_bin_outdoorHum_medi done\n",
      "indoorAtmo_20_bin_outdoorHum_mean done\n",
      "indoorAtmo_20_bin_outdoorHum_max done\n",
      "indoorAtmo_20_bin_outdoorHum_min done\n",
      "indoorAtmo_20_bin_outdoorAtmo_medi done\n",
      "indoorAtmo_20_bin_outdoorAtmo_mean done\n"
     ]
    },
    {
     "name": "stderr",
     "output_type": "stream",
     "text": [
      " 55%|████████████████████████████████████████████▏                                   | 371/671 [00:08<00:05, 52.26it/s]"
     ]
    },
    {
     "name": "stdout",
     "output_type": "stream",
     "text": [
      "indoorAtmo_20_bin_outdoorAtmo_max done\n",
      "indoorAtmo_20_bin_outdoorAtmo_min done\n",
      "indoorAtmo_20_bin_indoorHum_medi done\n",
      "indoorAtmo_20_bin_indoorHum_mean done\n",
      "indoorAtmo_20_bin_indoorHum_max done\n",
      "indoorAtmo_20_bin_indoorHum_min done\n",
      "indoorAtmo_20_bin_indoorAtmo_medi done\n",
      "indoorAtmo_20_bin_indoorAtmo_mean done\n",
      "indoorAtmo_20_bin_indoorAtmo_max done\n",
      "indoorAtmo_20_bin_indoorAtmo_min done\n",
      "outdoorTemp_50_bin_outdoorTemp_medi done\n"
     ]
    },
    {
     "name": "stderr",
     "output_type": "stream",
     "text": [
      "\r",
      " 56%|████████████████████████████████████████████▉                                   | 377/671 [00:08<00:05, 49.56it/s]"
     ]
    },
    {
     "name": "stdout",
     "output_type": "stream",
     "text": [
      "outdoorTemp_50_bin_outdoorTemp_mean done\n",
      "outdoorTemp_50_bin_outdoorTemp_max done\n",
      "outdoorTemp_50_bin_outdoorTemp_min done\n",
      "outdoorTemp_50_bin_outdoorHum_medi done\n",
      "outdoorTemp_50_bin_outdoorHum_mean done\n",
      "outdoorTemp_50_bin_outdoorHum_max done\n",
      "outdoorTemp_50_bin_outdoorHum_min done\n",
      "outdoorTemp_50_bin_outdoorAtmo_medi done\n",
      "outdoorTemp_50_bin_outdoorAtmo_mean done\n",
      "outdoorTemp_50_bin_outdoorAtmo_max done\n"
     ]
    },
    {
     "name": "stderr",
     "output_type": "stream",
     "text": [
      " 58%|██████████████████████████████████████████████▎                                 | 388/671 [00:08<00:05, 47.32it/s]"
     ]
    },
    {
     "name": "stdout",
     "output_type": "stream",
     "text": [
      "outdoorTemp_50_bin_outdoorAtmo_min done\n",
      "outdoorTemp_50_bin_indoorHum_medi done\n",
      "outdoorTemp_50_bin_indoorHum_mean done\n",
      "outdoorTemp_50_bin_indoorHum_max done\n",
      "outdoorTemp_50_bin_indoorHum_min done\n",
      "outdoorTemp_50_bin_indoorAtmo_medi done\n",
      "outdoorTemp_50_bin_indoorAtmo_mean done\n",
      "outdoorTemp_50_bin_indoorAtmo_max done\n",
      "outdoorTemp_50_bin_indoorAtmo_min done\n"
     ]
    },
    {
     "name": "stderr",
     "output_type": "stream",
     "text": [
      " 59%|███████████████████████████████████████████████▍                                | 398/671 [00:08<00:06, 45.27it/s]"
     ]
    },
    {
     "name": "stdout",
     "output_type": "stream",
     "text": [
      "outdoorHum_50_bin_outdoorTemp_medi done\n",
      "outdoorHum_50_bin_outdoorTemp_mean done\n",
      "outdoorHum_50_bin_outdoorTemp_max done\n",
      "outdoorHum_50_bin_outdoorTemp_min done\n",
      "outdoorHum_50_bin_outdoorHum_medi done\n",
      "outdoorHum_50_bin_outdoorHum_mean done\n",
      "outdoorHum_50_bin_outdoorHum_max done\n",
      "outdoorHum_50_bin_outdoorHum_min done\n",
      "outdoorHum_50_bin_outdoorAtmo_medi done\n",
      "outdoorHum_50_bin_outdoorAtmo_mean done\n",
      "outdoorHum_50_bin_outdoorAtmo_max done\n"
     ]
    },
    {
     "name": "stderr",
     "output_type": "stream",
     "text": [
      " 61%|████████████████████████████████████████████████▋                               | 408/671 [00:09<00:05, 44.44it/s]"
     ]
    },
    {
     "name": "stdout",
     "output_type": "stream",
     "text": [
      "outdoorHum_50_bin_outdoorAtmo_min done\n",
      "outdoorHum_50_bin_indoorHum_medi done\n",
      "outdoorHum_50_bin_indoorHum_mean done\n",
      "outdoorHum_50_bin_indoorHum_max done\n",
      "outdoorHum_50_bin_indoorHum_min done\n",
      "outdoorHum_50_bin_indoorAtmo_medi done\n",
      "outdoorHum_50_bin_indoorAtmo_mean done\n",
      "outdoorHum_50_bin_indoorAtmo_max done\n",
      "outdoorHum_50_bin_indoorAtmo_min done\n"
     ]
    },
    {
     "name": "stderr",
     "output_type": "stream",
     "text": [
      " 63%|██████████████████████████████████████████████████                              | 420/671 [00:09<00:05, 47.81it/s]"
     ]
    },
    {
     "name": "stdout",
     "output_type": "stream",
     "text": [
      "outdoorAtmo_50_bin_outdoorTemp_medi done\n",
      "outdoorAtmo_50_bin_outdoorTemp_mean done\n",
      "outdoorAtmo_50_bin_outdoorTemp_max done\n",
      "outdoorAtmo_50_bin_outdoorTemp_min done\n",
      "outdoorAtmo_50_bin_outdoorHum_medi done\n",
      "outdoorAtmo_50_bin_outdoorHum_mean done\n",
      "outdoorAtmo_50_bin_outdoorHum_max done\n",
      "outdoorAtmo_50_bin_outdoorHum_min done\n",
      "outdoorAtmo_50_bin_outdoorAtmo_medi done\n",
      "outdoorAtmo_50_bin_outdoorAtmo_mean done\n",
      "outdoorAtmo_50_bin_outdoorAtmo_max "
     ]
    },
    {
     "name": "stderr",
     "output_type": "stream",
     "text": [
      " 64%|███████████████████████████████████████████████████▍                            | 431/671 [00:09<00:05, 47.69it/s]"
     ]
    },
    {
     "name": "stdout",
     "output_type": "stream",
     "text": [
      "done\n",
      "outdoorAtmo_50_bin_outdoorAtmo_min done\n",
      "outdoorAtmo_50_bin_indoorHum_medi done\n",
      "outdoorAtmo_50_bin_indoorHum_mean done\n",
      "outdoorAtmo_50_bin_indoorHum_max done\n",
      "outdoorAtmo_50_bin_indoorHum_min done\n",
      "outdoorAtmo_50_bin_indoorAtmo_medi done\n",
      "outdoorAtmo_50_bin_indoorAtmo_mean done\n",
      "outdoorAtmo_50_bin_indoorAtmo_max done\n",
      "outdoorAtmo_50_bin_indoorAtmo_min done\n",
      "indoorHum_50_bin_outdoorTemp_medi done\n"
     ]
    },
    {
     "name": "stderr",
     "output_type": "stream",
     "text": [
      " 66%|████████████████████████████████████████████████████▌                           | 441/671 [00:09<00:04, 46.62it/s]"
     ]
    },
    {
     "name": "stdout",
     "output_type": "stream",
     "text": [
      "indoorHum_50_bin_outdoorTemp_mean done\n",
      "indoorHum_50_bin_outdoorTemp_max done\n",
      "indoorHum_50_bin_outdoorTemp_min done\n",
      "indoorHum_50_bin_outdoorHum_medi done\n",
      "indoorHum_50_bin_outdoorHum_mean done\n",
      "indoorHum_50_bin_outdoorHum_max done\n",
      "indoorHum_50_bin_outdoorHum_min done\n",
      "indoorHum_50_bin_outdoorAtmo_medi done\n",
      "indoorHum_50_bin_outdoorAtmo_mean done\n"
     ]
    },
    {
     "name": "stderr",
     "output_type": "stream",
     "text": [
      "\r",
      " 66%|█████████████████████████████████████████████████████▏                          | 446/671 [00:09<00:04, 45.31it/s]"
     ]
    },
    {
     "name": "stdout",
     "output_type": "stream",
     "text": [
      "indoorHum_50_bin_outdoorAtmo_max done\n",
      "indoorHum_50_bin_outdoorAtmo_min done\n",
      "indoorHum_50_bin_indoorHum_medi done\n",
      "indoorHum_50_bin_indoorHum_mean done\n",
      "indoorHum_50_bin_indoorHum_max done\n",
      "indoorHum_50_bin_indoorHum_min done\n",
      "indoorHum_50_bin_indoorAtmo_medi done\n",
      "indoorHum_50_bin_indoorAtmo_mean done\n",
      "indoorHum_50_bin_indoorAtmo_max done\n"
     ]
    },
    {
     "name": "stderr",
     "output_type": "stream",
     "text": [
      " 68%|██████████████████████████████████████████████████████▍                         | 457/671 [00:10<00:04, 46.65it/s]"
     ]
    },
    {
     "name": "stdout",
     "output_type": "stream",
     "text": [
      "indoorHum_50_bin_indoorAtmo_min done\n",
      "indoorAtmo_50_bin_outdoorTemp_medi done\n",
      "indoorAtmo_50_bin_outdoorTemp_mean done\n",
      "indoorAtmo_50_bin_outdoorTemp_max done\n",
      "indoorAtmo_50_bin_outdoorTemp_min done\n",
      "indoorAtmo_50_bin_outdoorHum_medi done\n",
      "indoorAtmo_50_bin_outdoorHum_mean done\n",
      "indoorAtmo_50_bin_outdoorHum_max done\n",
      "indoorAtmo_50_bin_outdoorHum_min done\n",
      "indoorAtmo_50_bin_outdoorAtmo_medi done\n"
     ]
    },
    {
     "name": "stderr",
     "output_type": "stream",
     "text": [
      " 70%|███████████████████████████████████████████████████████▊                        | 468/671 [00:10<00:04, 48.68it/s]"
     ]
    },
    {
     "name": "stdout",
     "output_type": "stream",
     "text": [
      "indoorAtmo_50_bin_outdoorAtmo_mean done\n",
      "indoorAtmo_50_bin_outdoorAtmo_max done\n",
      "indoorAtmo_50_bin_outdoorAtmo_min done\n",
      "indoorAtmo_50_bin_indoorHum_medi done\n",
      "indoorAtmo_50_bin_indoorHum_mean done\n",
      "indoorAtmo_50_bin_indoorHum_max done\n",
      "indoorAtmo_50_bin_indoorHum_min done\n",
      "indoorAtmo_50_bin_indoorAtmo_medi done\n",
      "indoorAtmo_50_bin_indoorAtmo_mean done\n",
      "indoorAtmo_50_bin_indoorAtmo_max done\n",
      "indoorAtmo_50_bin_indoorAtmo_min done\n"
     ]
    },
    {
     "name": "stderr",
     "output_type": "stream",
     "text": [
      " 71%|████████████████████████████████████████████████████████▉                       | 478/671 [00:10<00:04, 47.78it/s]"
     ]
    },
    {
     "name": "stdout",
     "output_type": "stream",
     "text": [
      "outdoorTemp_100_bin_outdoorTemp_medi done\n",
      "outdoorTemp_100_bin_outdoorTemp_mean done\n",
      "outdoorTemp_100_bin_outdoorTemp_max done\n",
      "outdoorTemp_100_bin_outdoorTemp_min done\n",
      "outdoorTemp_100_bin_outdoorHum_medi done\n",
      "outdoorTemp_100_bin_outdoorHum_mean done\n",
      "outdoorTemp_100_bin_outdoorHum_max done\n",
      "outdoorTemp_100_bin_outdoorHum_min done\n",
      "outdoorTemp_100_bin_outdoorAtmo_medi done\n"
     ]
    },
    {
     "name": "stderr",
     "output_type": "stream",
     "text": [
      " 73%|██████████████████████████████████████████████████████████▏                     | 488/671 [00:10<00:04, 45.23it/s]"
     ]
    },
    {
     "name": "stdout",
     "output_type": "stream",
     "text": [
      "outdoorTemp_100_bin_outdoorAtmo_mean done\n",
      "outdoorTemp_100_bin_outdoorAtmo_max done\n",
      "outdoorTemp_100_bin_outdoorAtmo_min done\n",
      "outdoorTemp_100_bin_indoorHum_medi done\n",
      "outdoorTemp_100_bin_indoorHum_mean done\n",
      "outdoorTemp_100_bin_indoorHum_max done\n",
      "outdoorTemp_100_bin_indoorHum_min done\n",
      "outdoorTemp_100_bin_indoorAtmo_medi done\n",
      "outdoorTemp_100_bin_indoorAtmo_mean done\n"
     ]
    },
    {
     "name": "stderr",
     "output_type": "stream",
     "text": [
      " 74%|███████████████████████████████████████████████████████████▎                    | 498/671 [00:11<00:03, 44.13it/s]"
     ]
    },
    {
     "name": "stdout",
     "output_type": "stream",
     "text": [
      "outdoorTemp_100_bin_indoorAtmo_max done\n",
      "outdoorTemp_100_bin_indoorAtmo_min done\n",
      "outdoorHum_100_bin_outdoorTemp_medi done\n",
      "outdoorHum_100_bin_outdoorTemp_mean done\n",
      "outdoorHum_100_bin_outdoorTemp_max done\n",
      "outdoorHum_100_bin_outdoorTemp_min done\n",
      "outdoorHum_100_bin_outdoorHum_medi done\n",
      "outdoorHum_100_bin_outdoorHum_mean done\n",
      "outdoorHum_100_bin_outdoorHum_max done\n"
     ]
    },
    {
     "name": "stderr",
     "output_type": "stream",
     "text": [
      "\r",
      " 75%|███████████████████████████████████████████████████████████▉                    | 503/671 [00:11<00:03, 43.66it/s]"
     ]
    },
    {
     "name": "stdout",
     "output_type": "stream",
     "text": [
      "outdoorHum_100_bin_outdoorHum_min done\n",
      "outdoorHum_100_bin_outdoorAtmo_medi done\n",
      "outdoorHum_100_bin_outdoorAtmo_mean done\n",
      "outdoorHum_100_bin_outdoorAtmo_max done\n",
      "outdoorHum_100_bin_outdoorAtmo_min done\n",
      "outdoorHum_100_bin_indoorHum_medi done\n",
      "outdoorHum_100_bin_indoorHum_mean done\n",
      "outdoorHum_100_bin_indoorHum_max done\n",
      "outdoorHum_100_bin_indoorHum_min done\n",
      "outdoorHum_100_bin_indoorAtmo_medi done\n"
     ]
    },
    {
     "name": "stderr",
     "output_type": "stream",
     "text": [
      " 77%|█████████████████████████████████████████████████████████████▎                  | 514/671 [00:11<00:03, 43.77it/s]"
     ]
    },
    {
     "name": "stdout",
     "output_type": "stream",
     "text": [
      "outdoorHum_100_bin_indoorAtmo_mean done\n",
      "outdoorHum_100_bin_indoorAtmo_max done\n",
      "outdoorHum_100_bin_indoorAtmo_min done\n",
      "outdoorAtmo_100_bin_outdoorTemp_medi done\n",
      "outdoorAtmo_100_bin_outdoorTemp_mean done\n",
      "outdoorAtmo_100_bin_outdoorTemp_max done\n",
      "outdoorAtmo_100_bin_outdoorTemp_min done\n",
      "outdoorAtmo_100_bin_outdoorHum_medi done\n",
      "outdoorAtmo_100_bin_outdoorHum_mean done\n",
      "outdoorAtmo_100_bin_outdoorHum_max done\n"
     ]
    },
    {
     "name": "stderr",
     "output_type": "stream",
     "text": [
      " 78%|██████████████████████████████████████████████████████████████▍                 | 524/671 [00:11<00:03, 44.89it/s]"
     ]
    },
    {
     "name": "stdout",
     "output_type": "stream",
     "text": [
      "outdoorAtmo_100_bin_outdoorHum_min done\n",
      "outdoorAtmo_100_bin_outdoorAtmo_medi done\n",
      "outdoorAtmo_100_bin_outdoorAtmo_mean done\n",
      "outdoorAtmo_100_bin_outdoorAtmo_max done\n",
      "outdoorAtmo_100_bin_outdoorAtmo_min done\n",
      "outdoorAtmo_100_bin_indoorHum_medi done\n",
      "outdoorAtmo_100_bin_indoorHum_mean done\n",
      "outdoorAtmo_100_bin_indoorHum_max done\n",
      "outdoorAtmo_100_bin_indoorHum_min done\n",
      "outdoorAtmo_100_bin_indoorAtmo_medi done\n"
     ]
    },
    {
     "name": "stderr",
     "output_type": "stream",
     "text": [
      " 80%|███████████████████████████████████████████████████████████████▋                | 534/671 [00:11<00:03, 45.51it/s]"
     ]
    },
    {
     "name": "stdout",
     "output_type": "stream",
     "text": [
      "outdoorAtmo_100_bin_indoorAtmo_mean done\n",
      "outdoorAtmo_100_bin_indoorAtmo_max done\n",
      "outdoorAtmo_100_bin_indoorAtmo_min done\n",
      "indoorHum_100_bin_outdoorTemp_medi done\n",
      "indoorHum_100_bin_outdoorTemp_mean done\n",
      "indoorHum_100_bin_outdoorTemp_max done\n",
      "indoorHum_100_bin_outdoorTemp_min done\n",
      "indoorHum_100_bin_outdoorHum_medi done\n",
      "indoorHum_100_bin_outdoorHum_mean done\n"
     ]
    },
    {
     "name": "stderr",
     "output_type": "stream",
     "text": [
      " 81%|████████████████████████████████████████████████████████████████▉               | 545/671 [00:12<00:02, 44.92it/s]"
     ]
    },
    {
     "name": "stdout",
     "output_type": "stream",
     "text": [
      "indoorHum_100_bin_outdoorHum_max done\n",
      "indoorHum_100_bin_outdoorHum_min done\n",
      "indoorHum_100_bin_outdoorAtmo_medi done\n",
      "indoorHum_100_bin_outdoorAtmo_mean done\n",
      "indoorHum_100_bin_outdoorAtmo_max done\n",
      "indoorHum_100_bin_outdoorAtmo_min done\n",
      "indoorHum_100_bin_indoorHum_medi done\n",
      "indoorHum_100_bin_indoorHum_mean done\n",
      "indoorHum_100_bin_indoorHum_max done\n"
     ]
    },
    {
     "name": "stderr",
     "output_type": "stream",
     "text": [
      "\r",
      " 82%|█████████████████████████████████████████████████████████████████▌              | 550/671 [00:12<00:02, 43.87it/s]"
     ]
    },
    {
     "name": "stdout",
     "output_type": "stream",
     "text": [
      "indoorHum_100_bin_indoorHum_min done\n",
      "indoorHum_100_bin_indoorAtmo_medi done\n",
      "indoorHum_100_bin_indoorAtmo_mean done\n",
      "indoorHum_100_bin_indoorAtmo_max done\n",
      "indoorHum_100_bin_indoorAtmo_min done\n",
      "indoorAtmo_100_bin_outdoorTemp_medi done\n",
      "indoorAtmo_100_bin_outdoorTemp_mean done\n",
      "indoorAtmo_100_bin_outdoorTemp_max done\n",
      "indoorAtmo_100_bin_outdoorTemp_min done\n"
     ]
    },
    {
     "name": "stderr",
     "output_type": "stream",
     "text": [
      " 84%|██████████████████████████████████████████████████████████████████▉             | 561/671 [00:12<00:02, 45.49it/s]"
     ]
    },
    {
     "name": "stdout",
     "output_type": "stream",
     "text": [
      "indoorAtmo_100_bin_outdoorHum_medi done\n",
      "indoorAtmo_100_bin_outdoorHum_mean done\n",
      "indoorAtmo_100_bin_outdoorHum_max done\n",
      "indoorAtmo_100_bin_outdoorHum_min done\n",
      "indoorAtmo_100_bin_outdoorAtmo_medi done\n",
      "indoorAtmo_100_bin_outdoorAtmo_mean done\n",
      "indoorAtmo_100_bin_outdoorAtmo_max done\n",
      "indoorAtmo_100_bin_outdoorAtmo_min done\n",
      "indoorAtmo_100_bin_indoorHum_medi done\n",
      "indoorAtmo_100_bin_indoorHum_mean done\n",
      "indoorAtmo_100_bin_indoorHum_max done\n"
     ]
    },
    {
     "name": "stderr",
     "output_type": "stream",
     "text": [
      " 85%|████████████████████████████████████████████████████████████████████▏           | 572/671 [00:12<00:02, 46.60it/s]"
     ]
    },
    {
     "name": "stdout",
     "output_type": "stream",
     "text": [
      "indoorAtmo_100_bin_indoorHum_min done\n",
      "indoorAtmo_100_bin_indoorAtmo_medi done\n",
      "indoorAtmo_100_bin_indoorAtmo_mean done\n",
      "indoorAtmo_100_bin_indoorAtmo_max done\n",
      "indoorAtmo_100_bin_indoorAtmo_min done\n",
      "outdoorTemp_200_bin_outdoorTemp_medi done\n",
      "outdoorTemp_200_bin_outdoorTemp_mean done\n",
      "outdoorTemp_200_bin_outdoorTemp_max done\n",
      "outdoorTemp_200_bin_outdoorTemp_min done\n"
     ]
    },
    {
     "name": "stderr",
     "output_type": "stream",
     "text": [
      " 87%|█████████████████████████████████████████████████████████████████████▍          | 582/671 [00:12<00:02, 44.07it/s]"
     ]
    },
    {
     "name": "stdout",
     "output_type": "stream",
     "text": [
      "outdoorTemp_200_bin_outdoorHum_medi done\n",
      "outdoorTemp_200_bin_outdoorHum_mean done\n",
      "outdoorTemp_200_bin_outdoorHum_max done\n",
      "outdoorTemp_200_bin_outdoorHum_min done\n",
      "outdoorTemp_200_bin_outdoorAtmo_medi done\n",
      "outdoorTemp_200_bin_outdoorAtmo_mean done\n",
      "outdoorTemp_200_bin_outdoorAtmo_max done\n",
      "outdoorTemp_200_bin_outdoorAtmo_min done\n",
      "outdoorTemp_200_bin_indoorHum_medi done\n",
      "outdoorTemp_200_bin_indoorHum_mean done\n"
     ]
    },
    {
     "name": "stderr",
     "output_type": "stream",
     "text": [
      " 88%|██████████████████████████████████████████████████████████████████████▌         | 592/671 [00:13<00:01, 44.64it/s]"
     ]
    },
    {
     "name": "stdout",
     "output_type": "stream",
     "text": [
      "outdoorTemp_200_bin_indoorHum_max done\n",
      "outdoorTemp_200_bin_indoorHum_min done\n",
      "outdoorTemp_200_bin_indoorAtmo_medi done\n",
      "outdoorTemp_200_bin_indoorAtmo_mean done\n",
      "outdoorTemp_200_bin_indoorAtmo_max done\n",
      "outdoorTemp_200_bin_indoorAtmo_min done\n",
      "outdoorHum_200_bin_outdoorTemp_medi done\n",
      "outdoorHum_200_bin_outdoorTemp_mean done\n",
      "outdoorHum_200_bin_outdoorTemp_max done\n"
     ]
    },
    {
     "name": "stderr",
     "output_type": "stream",
     "text": [
      " 90%|███████████████████████████████████████████████████████████████████████▊        | 602/671 [00:13<00:01, 43.93it/s]"
     ]
    },
    {
     "name": "stdout",
     "output_type": "stream",
     "text": [
      "outdoorHum_200_bin_outdoorTemp_min done\n",
      "outdoorHum_200_bin_outdoorHum_medi done\n",
      "outdoorHum_200_bin_outdoorHum_mean done\n",
      "outdoorHum_200_bin_outdoorHum_max done\n",
      "outdoorHum_200_bin_outdoorHum_min done\n",
      "outdoorHum_200_bin_outdoorAtmo_medi done\n",
      "outdoorHum_200_bin_outdoorAtmo_mean done\n",
      "outdoorHum_200_bin_outdoorAtmo_max done\n",
      "outdoorHum_200_bin_outdoorAtmo_min done\n"
     ]
    },
    {
     "name": "stderr",
     "output_type": "stream",
     "text": [
      " 91%|████████████████████████████████████████████████████████████████████████▉       | 612/671 [00:13<00:01, 44.66it/s]"
     ]
    },
    {
     "name": "stdout",
     "output_type": "stream",
     "text": [
      "outdoorHum_200_bin_indoorHum_medi done\n",
      "outdoorHum_200_bin_indoorHum_mean done\n",
      "outdoorHum_200_bin_indoorHum_max done\n",
      "outdoorHum_200_bin_indoorHum_min done\n",
      "outdoorHum_200_bin_indoorAtmo_medi done\n",
      "outdoorHum_200_bin_indoorAtmo_mean done\n",
      "outdoorHum_200_bin_indoorAtmo_max done\n",
      "outdoorHum_200_bin_indoorAtmo_min done\n",
      "outdoorAtmo_200_bin_outdoorTemp_medi done\n"
     ]
    },
    {
     "name": "stderr",
     "output_type": "stream",
     "text": [
      " 93%|██████████████████████████████████████████████████████████████████████████▏     | 622/671 [00:13<00:01, 44.01it/s]"
     ]
    },
    {
     "name": "stdout",
     "output_type": "stream",
     "text": [
      "outdoorAtmo_200_bin_outdoorTemp_mean done\n",
      "outdoorAtmo_200_bin_outdoorTemp_max done\n",
      "outdoorAtmo_200_bin_outdoorTemp_min done\n",
      "outdoorAtmo_200_bin_outdoorHum_medi done\n",
      "outdoorAtmo_200_bin_outdoorHum_mean done\n",
      "outdoorAtmo_200_bin_outdoorHum_max done\n",
      "outdoorAtmo_200_bin_outdoorHum_min done\n",
      "outdoorAtmo_200_bin_outdoorAtmo_medi done\n",
      "outdoorAtmo_200_bin_outdoorAtmo_mean done\n",
      "outdoorAtmo_200_bin_outdoorAtmo_max done\n"
     ]
    },
    {
     "name": "stderr",
     "output_type": "stream",
     "text": [
      " 94%|███████████████████████████████████████████████████████████████████████████▎    | 632/671 [00:14<00:00, 44.72it/s]"
     ]
    },
    {
     "name": "stdout",
     "output_type": "stream",
     "text": [
      "outdoorAtmo_200_bin_outdoorAtmo_min done\n",
      "outdoorAtmo_200_bin_indoorHum_medi done\n",
      "outdoorAtmo_200_bin_indoorHum_mean done\n",
      "outdoorAtmo_200_bin_indoorHum_max done\n",
      "outdoorAtmo_200_bin_indoorHum_min done\n",
      "outdoorAtmo_200_bin_indoorAtmo_medi done\n",
      "outdoorAtmo_200_bin_indoorAtmo_mean done\n",
      "outdoorAtmo_200_bin_indoorAtmo_max done\n",
      "outdoorAtmo_200_bin_indoorAtmo_min done\n",
      "indoorHum_200_bin_outdoorTemp_medi done\n"
     ]
    },
    {
     "name": "stderr",
     "output_type": "stream",
     "text": [
      "\r",
      " 95%|███████████████████████████████████████████████████████████████████████████▉    | 637/671 [00:14<00:00, 44.10it/s]"
     ]
    },
    {
     "name": "stdout",
     "output_type": "stream",
     "text": [
      "indoorHum_200_bin_outdoorTemp_mean done\n",
      "indoorHum_200_bin_outdoorTemp_max done\n",
      "indoorHum_200_bin_outdoorTemp_min done\n",
      "indoorHum_200_bin_outdoorHum_medi done\n",
      "indoorHum_200_bin_outdoorHum_mean done\n",
      "indoorHum_200_bin_outdoorHum_max done\n",
      "indoorHum_200_bin_outdoorHum_min done\n",
      "indoorHum_200_bin_outdoorAtmo_medi done\n",
      "indoorHum_200_bin_outdoorAtmo_mean done\n"
     ]
    },
    {
     "name": "stderr",
     "output_type": "stream",
     "text": [
      " 96%|█████████████████████████████████████████████████████████████████████████████▏  | 647/671 [00:14<00:00, 43.45it/s]"
     ]
    },
    {
     "name": "stdout",
     "output_type": "stream",
     "text": [
      "indoorHum_200_bin_outdoorAtmo_max done\n",
      "indoorHum_200_bin_outdoorAtmo_min done\n",
      "indoorHum_200_bin_indoorHum_medi done\n",
      "indoorHum_200_bin_indoorHum_mean done\n",
      "indoorHum_200_bin_indoorHum_max done\n",
      "indoorHum_200_bin_indoorHum_min done\n",
      "indoorHum_200_bin_indoorAtmo_medi done\n",
      "indoorHum_200_bin_indoorAtmo_mean done\n",
      "indoorHum_200_bin_indoorAtmo_max done\n"
     ]
    },
    {
     "name": "stderr",
     "output_type": "stream",
     "text": [
      " 98%|██████████████████████████████████████████████████████████████████████████████▎ | 657/671 [00:14<00:00, 45.07it/s]"
     ]
    },
    {
     "name": "stdout",
     "output_type": "stream",
     "text": [
      "indoorHum_200_bin_indoorAtmo_min done\n",
      "indoorAtmo_200_bin_outdoorTemp_medi done\n",
      "indoorAtmo_200_bin_outdoorTemp_mean done\n",
      "indoorAtmo_200_bin_outdoorTemp_max done\n",
      "indoorAtmo_200_bin_outdoorTemp_min done\n",
      "indoorAtmo_200_bin_outdoorHum_medi done\n",
      "indoorAtmo_200_bin_outdoorHum_mean done\n",
      "indoorAtmo_200_bin_outdoorHum_max done\n",
      "indoorAtmo_200_bin_outdoorHum_min done\n",
      "indoorAtmo_200_bin_outdoorAtmo_medi done\n"
     ]
    },
    {
     "name": "stderr",
     "output_type": "stream",
     "text": [
      "100%|███████████████████████████████████████████████████████████████████████████████▋| 668/671 [00:14<00:00, 44.78it/s]"
     ]
    },
    {
     "name": "stdout",
     "output_type": "stream",
     "text": [
      "indoorAtmo_200_bin_outdoorAtmo_mean done\n",
      "indoorAtmo_200_bin_outdoorAtmo_max done\n",
      "indoorAtmo_200_bin_outdoorAtmo_min done\n",
      "indoorAtmo_200_bin_indoorHum_medi done\n",
      "indoorAtmo_200_bin_indoorHum_mean done\n",
      "indoorAtmo_200_bin_indoorHum_max done\n",
      "indoorAtmo_200_bin_indoorHum_min done\n",
      "indoorAtmo_200_bin_indoorAtmo_medi done\n",
      "indoorAtmo_200_bin_indoorAtmo_mean done\n"
     ]
    },
    {
     "name": "stderr",
     "output_type": "stream",
     "text": [
      "\r",
      "100%|████████████████████████████████████████████████████████████████████████████████| 671/671 [00:14<00:00, 44.87it/s]"
     ]
    },
    {
     "name": "stdout",
     "output_type": "stream",
     "text": [
      "indoorAtmo_200_bin_indoorAtmo_max done\n",
      "indoorAtmo_200_bin_indoorAtmo_min done\n"
     ]
    },
    {
     "name": "stderr",
     "output_type": "stream",
     "text": [
      "\n"
     ]
    }
   ],
   "source": [
    "psi_res, psi_dict = get_psi(x_train, x_test, features)"
   ]
  },
  {
   "cell_type": "code",
   "execution_count": 22,
   "metadata": {
    "ExecuteTime": {
     "end_time": "2020-07-31T05:56:20.425745Z",
     "start_time": "2020-07-31T05:56:20.420754Z"
    }
   },
   "outputs": [],
   "source": [
    "features = list(psi_res[psi_res['PSI'] <= 0.2]['变量名'].values) + ['outdoorTemp']"
   ]
  },
  {
   "cell_type": "code",
   "execution_count": 23,
   "metadata": {
    "ExecuteTime": {
     "end_time": "2020-07-31T06:17:20.684535Z",
     "start_time": "2020-07-31T05:56:20.427753Z"
    }
   },
   "outputs": [
    {
     "name": "stdout",
     "output_type": "stream",
     "text": [
      "[0]\ttrain-mae:0.73257\teval-mae:0.31790\n",
      "Multiple eval metrics have been passed: 'eval-mae' will be used for early stopping.\n",
      "\n",
      "Will train until eval-mae hasn't improved in 1000 rounds.\n",
      "[500]\ttrain-mae:0.45396\teval-mae:0.23049\n",
      "[1000]\ttrain-mae:0.28624\teval-mae:0.18424\n",
      "[1500]\ttrain-mae:0.18691\teval-mae:0.16248\n",
      "[2000]\ttrain-mae:0.12949\teval-mae:0.15233\n",
      "[2500]\ttrain-mae:0.09699\teval-mae:0.14810\n",
      "[3000]\ttrain-mae:0.07862\teval-mae:0.14602\n",
      "[3500]\ttrain-mae:0.06803\teval-mae:0.14500\n",
      "[4000]\ttrain-mae:0.06153\teval-mae:0.14449\n",
      "[4500]\ttrain-mae:0.05722\teval-mae:0.14430\n",
      "[5000]\ttrain-mae:0.05420\teval-mae:0.14410\n",
      "[5500]\ttrain-mae:0.05213\teval-mae:0.14405\n",
      "[6000]\ttrain-mae:0.05057\teval-mae:0.14402\n",
      "[6500]\ttrain-mae:0.04932\teval-mae:0.14401\n",
      "[7000]\ttrain-mae:0.04822\teval-mae:0.14403\n",
      "[7500]\ttrain-mae:0.04723\teval-mae:0.14406\n",
      "Stopping. Best iteration:\n",
      "[6626]\ttrain-mae:0.04902\teval-mae:0.14399\n",
      "\n",
      "xgb_mse_score: 324\n"
     ]
    }
   ],
   "source": [
    "# lr_train, lr_test = ridge_model(x_train, y_train, x_test)\n",
    "#\n",
    "# sgd_train, sgd_test = sgd_model(x_train, y_train, x_test)\n",
    "#\n",
    "# lgb_train, lgb_test = lgb_model(x_train, y_train, x_test)\n",
    "#\n",
    "xgb_train, xgb_test = xgb_model(x_train, y_train, x_test)\n",
    "#\n",
    "# cat_train, cat_test = cat_model(x_train, y_train, x_test)\n",
    "#\n",
    "# train_pred = (lr_train + sgd_train + lgb_train[:, 0] + xgb_train[:, 0] + cat_train) / 5\n",
    "# test_pred = (lr_test + sgd_test + lgb_test[:, 0] + xgb_test[:, 0] + cat_test) / 5\n",
    "#\n",
    "sub['temperature'] = xgb_test[:, 0] + test_df['outdoorTemp'].values\n",
    "sub.to_csv('../sub/sub_{}.csv'.format(time.strftime('%Y%m%d')), index=False)"
   ]
  }
 ],
 "metadata": {
  "kernelspec": {
   "display_name": "Python 3",
   "language": "python",
   "name": "python3"
  },
  "language_info": {
   "codemirror_mode": {
    "name": "ipython",
    "version": 3
   },
   "file_extension": ".py",
   "mimetype": "text/x-python",
   "name": "python",
   "nbconvert_exporter": "python",
   "pygments_lexer": "ipython3",
   "version": "3.7.3"
  },
  "toc": {
   "base_numbering": 1,
   "nav_menu": {},
   "number_sections": true,
   "sideBar": true,
   "skip_h1_title": false,
   "title_cell": "Table of Contents",
   "title_sidebar": "Contents",
   "toc_cell": false,
   "toc_position": {},
   "toc_section_display": true,
   "toc_window_display": false
  },
  "varInspector": {
   "cols": {
    "lenName": 16,
    "lenType": 16,
    "lenVar": 40
   },
   "kernels_config": {
    "python": {
     "delete_cmd_postfix": "",
     "delete_cmd_prefix": "del ",
     "library": "var_list.py",
     "varRefreshCmd": "print(var_dic_list())"
    },
    "r": {
     "delete_cmd_postfix": ") ",
     "delete_cmd_prefix": "rm(",
     "library": "var_list.r",
     "varRefreshCmd": "cat(var_dic_list()) "
    }
   },
   "types_to_exclude": [
    "module",
    "function",
    "builtin_function_or_method",
    "instance",
    "_Feature"
   ],
   "window_display": false
  }
 },
 "nbformat": 4,
 "nbformat_minor": 4
}
