{
 "cells": [
  {
   "cell_type": "code",
   "execution_count": 1,
   "metadata": {
    "ExecuteTime": {
     "end_time": "2020-07-28T08:10:07.319559Z",
     "start_time": "2020-07-28T08:10:05.979705Z"
    }
   },
   "outputs": [],
   "source": [
    "import numpy as np\n",
    "import pandas as pd\n",
    "import lightgbm as lgb\n",
    "import xgboost as xgb\n",
    "from tqdm import tqdm\n",
    "from sklearn.model_selection import StratifiedKFold, KFold\n",
    "from sklearn.metrics import mean_absolute_error, mean_squared_error\n",
    "import matplotlib.pyplot as plt\n",
    "import time\n",
    "import gc\n",
    "import warnings\n",
    "\n",
    "warnings.filterwarnings('ignore')"
   ]
  },
  {
   "cell_type": "code",
   "execution_count": 2,
   "metadata": {
    "ExecuteTime": {
     "end_time": "2020-07-28T08:10:07.335435Z",
     "start_time": "2020-07-28T08:10:07.322474Z"
    }
   },
   "outputs": [],
   "source": [
    "def get_psi(train,test,f_cols):\n",
    "    psi_res = pd.DataFrame()\n",
    "    psi_dict={}\n",
    "    for c in tqdm(f_cols):\n",
    "        try:\n",
    "            t_train = train[c].fillna(-998)\n",
    "            t_test = test[c].fillna(-998)\n",
    "            #获取切分点\n",
    "            bins=[]\n",
    "            for i in np.arange(0,1.1,0.2):\n",
    "                bins.append(t_train.quantile(i))\n",
    "            bins=sorted(set(bins))\n",
    "            bins[0]=-np.inf\n",
    "            bins[-1]=np.inf\n",
    "            #计算psi\n",
    "            t_psi = pd.DataFrame()\n",
    "            t_psi['train'] = pd.cut(t_train,bins).value_counts().sort_index()\n",
    "            t_psi['test'] = pd.cut(t_test,bins).value_counts()\n",
    "            if c == 'outdoorTemp':\n",
    "                print(t_psi['train'])\n",
    "                print(t_psi['test'])\n",
    "            t_psi.index=[str(x) for x in t_psi.index]\n",
    "            t_psi.loc['总计',:] = t_psi.sum()\n",
    "            t_psi['train_rate'] = t_psi['train']/t_psi.loc['总计','train']\n",
    "            t_psi['test_rate'] = t_psi['test']/t_psi.loc['总计','test']\n",
    "            t_psi['psi'] = (t_psi['test_rate']-t_psi['train_rate'])*(np.log(t_psi['test_rate'])-np.log(t_psi['train_rate']))\n",
    "            t_psi.loc['总计','psi'] = t_psi['psi'].sum()\n",
    "            t_psi.index.name=c\n",
    "            #汇总\n",
    "            t_res = pd.DataFrame([[c,t_psi.loc['总计','psi']]],\n",
    "                                 columns=['变量名','PSI'])\n",
    "            psi_res = pd.concat([psi_res,t_res])\n",
    "            psi_dict[c]=t_psi\n",
    "            print(c,'done')\n",
    "        except:\n",
    "            print(c,'error')\n",
    "    return psi_res,psi_dict"
   ]
  },
  {
   "cell_type": "code",
   "execution_count": 3,
   "metadata": {
    "ExecuteTime": {
     "end_time": "2020-07-28T08:10:07.372415Z",
     "start_time": "2020-07-28T08:10:07.337458Z"
    }
   },
   "outputs": [],
   "source": [
    "train = pd.read_csv('../input/train.csv')\n",
    "test = pd.read_csv('../input/test.csv')\n",
    "sub = pd.DataFrame(test['time'])"
   ]
  },
  {
   "cell_type": "code",
   "execution_count": 4,
   "metadata": {
    "ExecuteTime": {
     "end_time": "2020-07-28T08:10:07.383375Z",
     "start_time": "2020-07-28T08:10:07.373335Z"
    }
   },
   "outputs": [],
   "source": [
    "train = train[train['temperature'].notnull()]\n",
    "train = train.fillna(method='bfill')\n",
    "test = test.fillna(method='bfill')"
   ]
  },
  {
   "cell_type": "code",
   "execution_count": 5,
   "metadata": {
    "ExecuteTime": {
     "end_time": "2020-07-28T08:10:07.389292Z",
     "start_time": "2020-07-28T08:10:07.384305Z"
    }
   },
   "outputs": [],
   "source": [
    "train.columns = ['time', 'year', 'month', 'day', 'hour', 'min', 'sec',\n",
    "                 'outdoorTemp', 'outdoorHum', 'outdoorAtmo',\n",
    "                 'indoorHum', 'indoorAtmo', 'temperature']\n",
    "\n",
    "test.columns = ['time', 'year', 'month', 'day', 'hour', 'min', 'sec',\n",
    "                'outdoorTemp', 'outdoorHum', 'outdoorAtmo',\n",
    "                'indoorHum', 'indoorAtmo']"
   ]
  },
  {
   "cell_type": "code",
   "execution_count": 6,
   "metadata": {
    "ExecuteTime": {
     "end_time": "2020-07-28T08:10:07.397414Z",
     "start_time": "2020-07-28T08:10:07.390290Z"
    }
   },
   "outputs": [],
   "source": [
    "data = pd.concat([train, test])"
   ]
  },
  {
   "cell_type": "code",
   "execution_count": 7,
   "metadata": {
    "ExecuteTime": {
     "end_time": "2020-07-28T08:10:07.408239Z",
     "start_time": "2020-07-28T08:10:07.399301Z"
    }
   },
   "outputs": [],
   "source": [
    "data['indoorAtmo-outdoorAtmo'] = data['indoorAtmo'] - data['outdoorAtmo']\n",
    "data['indoorHum-outdoorHum'] = data['indoorHum'] - data['outdoorHum']\n",
    "\n",
    "data['indoorAtmo-outdoorAtmo_rate'] = data['indoorAtmo-outdoorAtmo'] / (data['outdoorAtmo'] + 0.001)\n",
    "data['indoorHum-outdoorHum_rate'] = data['indoorHum-outdoorHum'] / (data['outdoorHum'] + 0.001)"
   ]
  },
  {
   "cell_type": "code",
   "execution_count": 8,
   "metadata": {
    "ExecuteTime": {
     "end_time": "2020-07-28T08:10:07.418215Z",
     "start_time": "2020-07-28T08:10:07.410237Z"
    }
   },
   "outputs": [],
   "source": [
    "data.drop(['indoorAtmo', 'outdoorAtmo', 'indoorHum', 'outdoorHum'], axis=1, inplace=True)"
   ]
  },
  {
   "cell_type": "code",
   "execution_count": 9,
   "metadata": {
    "ExecuteTime": {
     "end_time": "2020-07-28T08:10:23.896906Z",
     "start_time": "2020-07-28T08:10:07.419211Z"
    }
   },
   "outputs": [
    {
     "name": "stderr",
     "output_type": "stream",
     "text": [
      "100%|████████████████████████████████████████████████████████████████████████████████████| 5/5 [00:16<00:00,  3.29s/it]\n"
     ]
    }
   ],
   "source": [
    "group_feats = []\n",
    "for i in tqdm(['outdoorTemp', 'indoorAtmo-outdoorAtmo', 'indoorHum-outdoorHum', 'indoorAtmo-outdoorAtmo_rate', 'indoorHum-outdoorHum_rate']):\n",
    "    data['MDH_{}_mean'.format(i)] = data.groupby(['month', 'day', 'hour'], as_index=False)[i].transform('mean')\n",
    "    data['MDH_{}_median'.format(i)] = data.groupby(['month', 'day', 'hour'], as_index=False)[i].transform('median')\n",
    "    data['MDH_{}_max'.format(i)] = data.groupby(['month', 'day', 'hour'], as_index=False)[i].transform('max')\n",
    "    data['MDH_{}_min'.format(i)] = data.groupby(['month', 'day', 'hour'], as_index=False)[i].transform('min')\n",
    "    data['MDH_{}_std'.format(i)] = data.groupby(['month', 'day', 'hour'], as_index=False)[i].transform('std')\n",
    "    data['MDH_{}_skew'.format(i)] = data.groupby(['month', 'day', 'hour'], as_index=False)[i].transform('skew')\n",
    "    \n",
    "    group_feats.append('MDH_{}_mean'.format(i))\n",
    "    group_feats.append('MDH_{}_median'.format(i))\n",
    "    group_feats.append('MDH_{}_std'.format(i))"
   ]
  },
  {
   "cell_type": "code",
   "execution_count": 10,
   "metadata": {
    "ExecuteTime": {
     "end_time": "2020-07-28T08:10:24.243961Z",
     "start_time": "2020-07-28T08:10:23.897852Z"
    }
   },
   "outputs": [
    {
     "name": "stderr",
     "output_type": "stream",
     "text": [
      "100%|██████████████████████████████████████████████████████████████████████████████████| 20/20 [00:00<00:00, 59.18it/s]\n"
     ]
    }
   ],
   "source": [
    "# 基本交叉特征\n",
    "for f1 in tqdm(['outdoorTemp', 'indoorAtmo-outdoorAtmo', 'indoorHum-outdoorHum', 'indoorAtmo-outdoorAtmo_rate', 'indoorHum-outdoorHum_rate'] + group_feats):\n",
    "    for f2 in ['outdoorTemp', 'indoorAtmo-outdoorAtmo', 'indoorHum-outdoorHum', 'indoorAtmo-outdoorAtmo_rate', 'indoorHum-outdoorHum_rate'] + group_feats:\n",
    "        if f1 != f2:\n",
    "            colname = '{}_{}_ratio'.format(f1, f2)\n",
    "            data[colname] = data[f1].values / data[f2].values"
   ]
  },
  {
   "cell_type": "code",
   "execution_count": 11,
   "metadata": {
    "ExecuteTime": {
     "end_time": "2020-07-28T08:10:24.355898Z",
     "start_time": "2020-07-28T08:10:24.244960Z"
    }
   },
   "outputs": [],
   "source": [
    "data.fillna(method='bfill', inplace=True)"
   ]
  },
  {
   "cell_type": "code",
   "execution_count": 12,
   "metadata": {
    "ExecuteTime": {
     "end_time": "2020-07-28T08:10:32.314898Z",
     "start_time": "2020-07-28T08:10:24.356822Z"
    }
   },
   "outputs": [
    {
     "name": "stderr",
     "output_type": "stream",
     "text": [
      "100%|██████████████████████████████████████████████████████████████████████████████████| 30/30 [00:01<00:00, 26.44it/s]\n",
      "100%|██████████████████████████████████████████████████████████████████████████████████| 30/30 [00:01<00:00, 24.97it/s]\n",
      "100%|██████████████████████████████████████████████████████████████████████████████████| 30/30 [00:01<00:00, 24.81it/s]\n",
      "100%|██████████████████████████████████████████████████████████████████████████████████| 30/30 [00:01<00:00, 25.02it/s]\n",
      "100%|██████████████████████████████████████████████████████████████████████████████████| 30/30 [00:01<00:00, 24.70it/s]\n",
      "100%|██████████████████████████████████████████████████████████████████████████████████| 30/30 [00:01<00:00, 24.96it/s]\n"
     ]
    }
   ],
   "source": [
    "# 历史信息提取\n",
    "# dt 14-44\n",
    "data['dt'] = data['day'].values + (data['month'].values - 3) * 31\n",
    "\n",
    "for f in ['outdoorTemp', 'indoorAtmo-outdoorAtmo', 'indoorHum-outdoorHum', 'indoorAtmo-outdoorAtmo_rate', 'indoorHum-outdoorHum_rate', 'temperature']:\n",
    "    tmp_df = pd.DataFrame()\n",
    "    for t in tqdm(range(15, 45)):\n",
    "        tmp = data[data['dt'] < t].groupby(['hour'])[f].agg({'mean'}).reset_index()\n",
    "        tmp.columns = ['hour', 'hit_{}_mean'.format(f)]\n",
    "        tmp['dt'] = t\n",
    "        tmp_df = tmp_df.append(tmp)\n",
    "\n",
    "    data = data.merge(tmp_df, on=['dt', 'hour'], how='left')"
   ]
  },
  {
   "cell_type": "code",
   "execution_count": 13,
   "metadata": {
    "ExecuteTime": {
     "end_time": "2020-07-28T08:10:32.429920Z",
     "start_time": "2020-07-28T08:10:32.315896Z"
    }
   },
   "outputs": [],
   "source": [
    "data.fillna(method='bfill', inplace=True)"
   ]
  },
  {
   "cell_type": "code",
   "execution_count": 14,
   "metadata": {
    "ExecuteTime": {
     "end_time": "2020-07-28T08:10:32.544683Z",
     "start_time": "2020-07-28T08:10:32.431590Z"
    }
   },
   "outputs": [],
   "source": [
    "# 离散化\n",
    "for f in ['outdoorTemp', 'indoorAtmo-outdoorAtmo', 'indoorHum-outdoorHum', 'indoorAtmo-outdoorAtmo_rate', 'indoorHum-outdoorHum_rate']:\n",
    "    data[f + '_20_bin'] = pd.cut(data[f], 20, duplicates='drop').apply(lambda x: x.left).astype(int)\n",
    "    data[f + '_50_bin'] = pd.cut(data[f], 50, duplicates='drop').apply(lambda x: x.left).astype(int)\n",
    "    data[f + '_100_bin'] = pd.cut(data[f], 100, duplicates='drop').apply(lambda x: x.left).astype(int)\n",
    "    data[f + '_200_bin'] = pd.cut(data[f], 200, duplicates='drop').apply(lambda x: x.left).astype(int)"
   ]
  },
  {
   "cell_type": "code",
   "execution_count": 15,
   "metadata": {
    "ExecuteTime": {
     "end_time": "2020-07-28T08:10:41.865010Z",
     "start_time": "2020-07-28T08:10:32.546280Z"
    }
   },
   "outputs": [
    {
     "name": "stderr",
     "output_type": "stream",
     "text": [
      "100%|████████████████████████████████████████████████████████████████████████████████████| 5/5 [00:09<00:00,  1.86s/it]\n"
     ]
    }
   ],
   "source": [
    "for f1 in tqdm(['outdoorTemp_20_bin', 'indoorAtmo-outdoorAtmo_20_bin', 'indoorHum-outdoorHum_20_bin', 'indoorAtmo-outdoorAtmo_rate_20_bin', 'indoorHum-outdoorHum_rate_20_bin']):\n",
    "    for f2 in ['outdoorTemp', 'indoorAtmo-outdoorAtmo', 'indoorHum-outdoorHum', 'indoorAtmo-outdoorAtmo_rate', 'indoorHum-outdoorHum_rate']:\n",
    "        data['{}_{}_median'.format(f1, f2)] = data.groupby([f1])[f2].transform('median')\n",
    "        data['{}_{}_mean'.format(f1, f2)] = data.groupby([f1])[f2].transform('mean')\n",
    "        data['{}_{}_max'.format(f1, f2)] = data.groupby([f1])[f2].transform('max')\n",
    "        data['{}_{}_min'.format(f1, f2)] = data.groupby([f1])[f2].transform('min')"
   ]
  },
  {
   "cell_type": "code",
   "execution_count": 16,
   "metadata": {
    "ExecuteTime": {
     "end_time": "2020-07-28T08:10:53.464579Z",
     "start_time": "2020-07-28T08:10:41.866985Z"
    }
   },
   "outputs": [
    {
     "name": "stderr",
     "output_type": "stream",
     "text": [
      "100%|████████████████████████████████████████████████████████████████████████████████████| 5/5 [00:11<00:00,  2.32s/it]\n"
     ]
    }
   ],
   "source": [
    "for f1 in tqdm(['outdoorTemp_50_bin', 'indoorAtmo-outdoorAtmo_50_bin', 'indoorHum-outdoorHum_50_bin', 'indoorAtmo-outdoorAtmo_rate_50_bin', 'indoorHum-outdoorHum_rate_50_bin']):\n",
    "    for f2 in ['outdoorTemp', 'indoorAtmo-outdoorAtmo', 'indoorHum-outdoorHum', 'indoorAtmo-outdoorAtmo_rate', 'indoorHum-outdoorHum_rate']:\n",
    "        data['{}_{}_median'.format(f1, f2)] = data.groupby([f1])[f2].transform('median')\n",
    "        data['{}_{}_mean'.format(f1, f2)] = data.groupby([f1])[f2].transform('mean')\n",
    "        data['{}_{}_max'.format(f1, f2)] = data.groupby([f1])[f2].transform('max')\n",
    "        data['{}_{}_min'.format(f1, f2)] = data.groupby([f1])[f2].transform('min')"
   ]
  },
  {
   "cell_type": "code",
   "execution_count": 17,
   "metadata": {
    "ExecuteTime": {
     "end_time": "2020-07-28T08:11:07.103673Z",
     "start_time": "2020-07-28T08:10:53.465607Z"
    }
   },
   "outputs": [
    {
     "name": "stderr",
     "output_type": "stream",
     "text": [
      "100%|████████████████████████████████████████████████████████████████████████████████████| 5/5 [00:13<00:00,  2.73s/it]\n"
     ]
    }
   ],
   "source": [
    "for f1 in tqdm(['outdoorTemp_100_bin', 'indoorAtmo-outdoorAtmo_100_bin', 'indoorHum-outdoorHum_100_bin', 'indoorAtmo-outdoorAtmo_rate_100_bin', 'indoorHum-outdoorHum_rate_100_bin']):\n",
    "    for f2 in ['outdoorTemp', 'indoorAtmo-outdoorAtmo', 'indoorHum-outdoorHum', 'indoorAtmo-outdoorAtmo_rate', 'indoorHum-outdoorHum_rate']:\n",
    "        data['{}_{}_median'.format(f1, f2)] = data.groupby([f1])[f2].transform('median')\n",
    "        data['{}_{}_mean'.format(f1, f2)] = data.groupby([f1])[f2].transform('mean')\n",
    "        data['{}_{}_max'.format(f1, f2)] = data.groupby([f1])[f2].transform('max')\n",
    "        data['{}_{}_min'.format(f1, f2)] = data.groupby([f1])[f2].transform('min')"
   ]
  },
  {
   "cell_type": "code",
   "execution_count": 18,
   "metadata": {
    "ExecuteTime": {
     "end_time": "2020-07-28T08:11:22.714577Z",
     "start_time": "2020-07-28T08:11:07.104671Z"
    }
   },
   "outputs": [
    {
     "name": "stderr",
     "output_type": "stream",
     "text": [
      "100%|████████████████████████████████████████████████████████████████████████████████████| 5/5 [00:15<00:00,  3.12s/it]\n"
     ]
    }
   ],
   "source": [
    "for f1 in tqdm(['outdoorTemp_200_bin', 'indoorAtmo-outdoorAtmo_200_bin', 'indoorHum-outdoorHum_200_bin', 'indoorAtmo-outdoorAtmo_rate_200_bin', 'indoorHum-outdoorHum_rate_200_bin']):\n",
    "    for f2 in ['outdoorTemp', 'indoorAtmo-outdoorAtmo', 'indoorHum-outdoorHum', 'indoorAtmo-outdoorAtmo_rate', 'indoorHum-outdoorHum_rate']:\n",
    "        data['{}_{}_median'.format(f1, f2)] = data.groupby([f1])[f2].transform('median')\n",
    "        data['{}_{}_mean'.format(f1, f2)] = data.groupby([f1])[f2].transform('mean')\n",
    "        data['{}_{}_max'.format(f1, f2)] = data.groupby([f1])[f2].transform('max')\n",
    "        data['{}_{}_min'.format(f1, f2)] = data.groupby([f1])[f2].transform('min')"
   ]
  },
  {
   "cell_type": "code",
   "execution_count": 19,
   "metadata": {
    "ExecuteTime": {
     "end_time": "2020-07-28T08:11:23.101652Z",
     "start_time": "2020-07-28T08:11:22.715574Z"
    }
   },
   "outputs": [
    {
     "data": {
      "text/plain": [
       "109"
      ]
     },
     "execution_count": 19,
     "metadata": {},
     "output_type": "execute_result"
    }
   ],
   "source": [
    "drop_columns = [\"time\", \"year\", \"sec\", \"temperature\"]\n",
    "\n",
    "train_count = train.shape[0]\n",
    "train = data[:train_count].copy().reset_index(drop=True)\n",
    "test = data[train_count:].copy().reset_index(drop=True)\n",
    "del data\n",
    "gc.collect()"
   ]
  },
  {
   "cell_type": "code",
   "execution_count": 20,
   "metadata": {
    "ExecuteTime": {
     "end_time": "2020-07-28T08:11:23.187690Z",
     "start_time": "2020-07-28T08:11:23.102635Z"
    }
   },
   "outputs": [],
   "source": [
    "features = train[:1].drop(drop_columns, axis=1).columns\n",
    "x_train = train[features]\n",
    "x_test = test[features]\n",
    "\n",
    "y_train = train['temperature'].values - train['outdoorTemp'].values"
   ]
  },
  {
   "cell_type": "code",
   "execution_count": 21,
   "metadata": {
    "ExecuteTime": {
     "end_time": "2020-07-28T08:11:40.682927Z",
     "start_time": "2020-07-28T08:11:23.188380Z"
    }
   },
   "outputs": [
    {
     "name": "stderr",
     "output_type": "stream",
     "text": [
      "  1%|▍                                                                                 | 5/846 [00:00<00:20, 41.47it/s]"
     ]
    },
    {
     "name": "stdout",
     "output_type": "stream",
     "text": [
      "month done\n",
      "day done\n",
      "hour done\n",
      "min done\n",
      "(-inf, 12.72]    4962\n",
      "(12.72, 15.0]    5155\n",
      "(15.0, 16.9]     4914\n",
      "(16.9, 19.7]     4922\n",
      "(19.7, inf]      4854\n",
      "Name: train, dtype: int64\n",
      "(-inf, 12.72]      0\n",
      "(12.72, 15.0]     53\n",
      "(15.0, 16.9]      64\n",
      "(16.9, 19.7]      64\n",
      "(19.7, inf]      225\n",
      "Name: test, dtype: int64\n",
      "outdoorTemp done\n",
      "indoorAtmo-outdoorAtmo done\n",
      "indoorHum-outdoorHum done\n",
      "indoorAtmo-outdoorAtmo_rate done\n"
     ]
    },
    {
     "name": "stderr",
     "output_type": "stream",
     "text": [
      "  2%|█▏                                                                               | 13/846 [00:00<00:20, 40.19it/s]"
     ]
    },
    {
     "name": "stdout",
     "output_type": "stream",
     "text": [
      "indoorHum-outdoorHum_rate done\n",
      "MDH_outdoorTemp_mean done\n",
      "MDH_outdoorTemp_median done\n",
      "MDH_outdoorTemp_max done\n",
      "MDH_outdoorTemp_min done\n",
      "MDH_outdoorTemp_std done\n",
      "MDH_outdoorTemp_skew done\n",
      "MDH_indoorAtmo-outdoorAtmo_mean done\n"
     ]
    },
    {
     "name": "stderr",
     "output_type": "stream",
     "text": [
      "  3%|██▏                                                                              | 23/846 [00:00<00:20, 40.70it/s]"
     ]
    },
    {
     "name": "stdout",
     "output_type": "stream",
     "text": [
      "MDH_indoorAtmo-outdoorAtmo_median done\n",
      "MDH_indoorAtmo-outdoorAtmo_max done\n",
      "MDH_indoorAtmo-outdoorAtmo_min done\n",
      "MDH_indoorAtmo-outdoorAtmo_std done\n",
      "MDH_indoorAtmo-outdoorAtmo_skew done\n",
      "MDH_indoorHum-outdoorHum_mean done\n",
      "MDH_indoorHum-outdoorHum_median done\n",
      "MDH_indoorHum-outdoorHum_max done\n",
      "MDH_indoorHum-outdoorHum_min done\n"
     ]
    },
    {
     "name": "stderr",
     "output_type": "stream",
     "text": [
      "  4%|███▏                                                                             | 33/846 [00:00<00:19, 40.70it/s]"
     ]
    },
    {
     "name": "stdout",
     "output_type": "stream",
     "text": [
      "MDH_indoorHum-outdoorHum_std done\n",
      "MDH_indoorHum-outdoorHum_skew done\n",
      "MDH_indoorAtmo-outdoorAtmo_rate_mean done\n",
      "MDH_indoorAtmo-outdoorAtmo_rate_median done\n",
      "MDH_indoorAtmo-outdoorAtmo_rate_max done\n",
      "MDH_indoorAtmo-outdoorAtmo_rate_min done\n",
      "MDH_indoorAtmo-outdoorAtmo_rate_std done\n",
      "MDH_indoorAtmo-outdoorAtmo_rate_skew done\n",
      "MDH_indoorHum-outdoorHum_rate_mean done\n"
     ]
    },
    {
     "name": "stderr",
     "output_type": "stream",
     "text": [
      "  5%|████                                                                             | 43/846 [00:01<00:18, 42.34it/s]"
     ]
    },
    {
     "name": "stdout",
     "output_type": "stream",
     "text": [
      "MDH_indoorHum-outdoorHum_rate_median done\n",
      "MDH_indoorHum-outdoorHum_rate_max done\n",
      "MDH_indoorHum-outdoorHum_rate_min done\n",
      "MDH_indoorHum-outdoorHum_rate_std done\n",
      "MDH_indoorHum-outdoorHum_rate_skew done\n",
      "outdoorTemp_indoorAtmo-outdoorAtmo_ratio done\n",
      "outdoorTemp_indoorHum-outdoorHum_ratio done\n",
      "outdoorTemp_indoorAtmo-outdoorAtmo_rate_ratio done\n",
      "outdoorTemp_indoorHum-outdoorHum_rate_ratio error\n"
     ]
    },
    {
     "name": "stderr",
     "output_type": "stream",
     "text": [
      "\r",
      "  6%|████▌                                                                            | 48/846 [00:01<00:19, 41.64it/s]"
     ]
    },
    {
     "name": "stdout",
     "output_type": "stream",
     "text": [
      "outdoorTemp_MDH_outdoorTemp_mean_ratio done\n",
      "outdoorTemp_MDH_outdoorTemp_median_ratio done\n",
      "outdoorTemp_MDH_outdoorTemp_std_ratio done\n",
      "outdoorTemp_MDH_indoorAtmo-outdoorAtmo_mean_ratio done\n",
      "outdoorTemp_MDH_indoorAtmo-outdoorAtmo_median_ratio done\n",
      "outdoorTemp_MDH_indoorAtmo-outdoorAtmo_std_ratio done\n",
      "outdoorTemp_MDH_indoorHum-outdoorHum_mean_ratio done\n",
      "outdoorTemp_MDH_indoorHum-outdoorHum_median_ratio done\n"
     ]
    },
    {
     "name": "stderr",
     "output_type": "stream",
     "text": [
      "  7%|█████▌                                                                           | 58/846 [00:01<00:19, 41.22it/s]"
     ]
    },
    {
     "name": "stdout",
     "output_type": "stream",
     "text": [
      "outdoorTemp_MDH_indoorHum-outdoorHum_std_ratio done\n",
      "outdoorTemp_MDH_indoorAtmo-outdoorAtmo_rate_mean_ratio done\n",
      "outdoorTemp_MDH_indoorAtmo-outdoorAtmo_rate_median_ratio done\n",
      "outdoorTemp_MDH_indoorAtmo-outdoorAtmo_rate_std_ratio done\n",
      "outdoorTemp_MDH_indoorHum-outdoorHum_rate_mean_ratio done\n",
      "outdoorTemp_MDH_indoorHum-outdoorHum_rate_median_ratio done\n",
      "outdoorTemp_MDH_indoorHum-outdoorHum_rate_std_ratio done\n",
      "indoorAtmo-outdoorAtmo_outdoorTemp_ratio done\n",
      "indoorAtmo-outdoorAtmo_indoorHum-outdoorHum_ratio done\n"
     ]
    },
    {
     "name": "stderr",
     "output_type": "stream",
     "text": [
      "  8%|██████▌                                                                          | 68/846 [00:01<00:18, 41.77it/s]"
     ]
    },
    {
     "name": "stdout",
     "output_type": "stream",
     "text": [
      "indoorAtmo-outdoorAtmo_indoorAtmo-outdoorAtmo_rate_ratio done\n",
      "indoorAtmo-outdoorAtmo_indoorHum-outdoorHum_rate_ratio error\n",
      "indoorAtmo-outdoorAtmo_MDH_outdoorTemp_mean_ratio done\n",
      "indoorAtmo-outdoorAtmo_MDH_outdoorTemp_median_ratio done\n",
      "indoorAtmo-outdoorAtmo_MDH_outdoorTemp_std_ratio done\n",
      "indoorAtmo-outdoorAtmo_MDH_indoorAtmo-outdoorAtmo_mean_ratio done\n",
      "indoorAtmo-outdoorAtmo_MDH_indoorAtmo-outdoorAtmo_median_ratio done\n",
      "indoorAtmo-outdoorAtmo_MDH_indoorAtmo-outdoorAtmo_std_ratio done\n",
      "indoorAtmo-outdoorAtmo_MDH_indoorHum-outdoorHum_mean_ratio done\n"
     ]
    },
    {
     "name": "stderr",
     "output_type": "stream",
     "text": [
      " 10%|███████▊                                                                         | 81/846 [00:01<00:15, 49.41it/s]"
     ]
    },
    {
     "name": "stdout",
     "output_type": "stream",
     "text": [
      "indoorAtmo-outdoorAtmo_MDH_indoorHum-outdoorHum_median_ratio done\n",
      "indoorAtmo-outdoorAtmo_MDH_indoorHum-outdoorHum_std_ratio error\n",
      "indoorAtmo-outdoorAtmo_MDH_indoorAtmo-outdoorAtmo_rate_mean_ratio done\n",
      "indoorAtmo-outdoorAtmo_MDH_indoorAtmo-outdoorAtmo_rate_median_ratio error\n",
      "indoorAtmo-outdoorAtmo_MDH_indoorAtmo-outdoorAtmo_rate_std_ratio done\n",
      "indoorAtmo-outdoorAtmo_MDH_indoorHum-outdoorHum_rate_mean_ratio done\n",
      "indoorAtmo-outdoorAtmo_MDH_indoorHum-outdoorHum_rate_median_ratio error\n",
      "indoorAtmo-outdoorAtmo_MDH_indoorHum-outdoorHum_rate_std_ratio error\n",
      "indoorHum-outdoorHum_outdoorTemp_ratio done\n",
      "indoorHum-outdoorHum_indoorAtmo-outdoorAtmo_ratio error\n",
      "indoorHum-outdoorHum_indoorAtmo-outdoorAtmo_rate_ratio error\n",
      "indoorHum-outdoorHum_indoorHum-outdoorHum_rate_ratio done\n",
      "indoorHum-outdoorHum_MDH_outdoorTemp_mean_ratio done\n"
     ]
    },
    {
     "name": "stderr",
     "output_type": "stream",
     "text": [
      " 11%|████████▊                                                                        | 92/846 [00:02<00:15, 48.04it/s]"
     ]
    },
    {
     "name": "stdout",
     "output_type": "stream",
     "text": [
      "indoorHum-outdoorHum_MDH_outdoorTemp_median_ratio done\n",
      "indoorHum-outdoorHum_MDH_outdoorTemp_std_ratio done\n",
      "indoorHum-outdoorHum_MDH_indoorAtmo-outdoorAtmo_mean_ratio done\n",
      "indoorHum-outdoorHum_MDH_indoorAtmo-outdoorAtmo_median_ratio error\n",
      "indoorHum-outdoorHum_MDH_indoorAtmo-outdoorAtmo_std_ratio done\n",
      "indoorHum-outdoorHum_MDH_indoorHum-outdoorHum_mean_ratio done\n",
      "indoorHum-outdoorHum_MDH_indoorHum-outdoorHum_median_ratio done\n",
      "indoorHum-outdoorHum_MDH_indoorHum-outdoorHum_std_ratio done\n",
      "indoorHum-outdoorHum_MDH_indoorAtmo-outdoorAtmo_rate_mean_ratio done\n",
      "indoorHum-outdoorHum_MDH_indoorAtmo-outdoorAtmo_rate_median_ratio error\n"
     ]
    },
    {
     "name": "stderr",
     "output_type": "stream",
     "text": [
      " 12%|█████████▋                                                                      | 103/846 [00:02<00:15, 49.22it/s]"
     ]
    },
    {
     "name": "stdout",
     "output_type": "stream",
     "text": [
      "indoorHum-outdoorHum_MDH_indoorAtmo-outdoorAtmo_rate_std_ratio done\n",
      "indoorHum-outdoorHum_MDH_indoorHum-outdoorHum_rate_mean_ratio done\n",
      "indoorHum-outdoorHum_MDH_indoorHum-outdoorHum_rate_median_ratio error\n",
      "indoorHum-outdoorHum_MDH_indoorHum-outdoorHum_rate_std_ratio done\n",
      "indoorAtmo-outdoorAtmo_rate_outdoorTemp_ratio done\n",
      "indoorAtmo-outdoorAtmo_rate_indoorAtmo-outdoorAtmo_ratio done\n",
      "indoorAtmo-outdoorAtmo_rate_indoorHum-outdoorHum_ratio error\n",
      "indoorAtmo-outdoorAtmo_rate_indoorHum-outdoorHum_rate_ratio error\n",
      "indoorAtmo-outdoorAtmo_rate_MDH_outdoorTemp_mean_ratio done\n",
      "indoorAtmo-outdoorAtmo_rate_MDH_outdoorTemp_median_ratio done\n",
      "indoorAtmo-outdoorAtmo_rate_MDH_outdoorTemp_std_ratio done\n"
     ]
    },
    {
     "name": "stderr",
     "output_type": "stream",
     "text": [
      " 14%|██████████▉                                                                     | 116/846 [00:02<00:13, 53.70it/s]"
     ]
    },
    {
     "name": "stdout",
     "output_type": "stream",
     "text": [
      "indoorAtmo-outdoorAtmo_rate_MDH_indoorAtmo-outdoorAtmo_mean_ratio done\n",
      "indoorAtmo-outdoorAtmo_rate_MDH_indoorAtmo-outdoorAtmo_median_ratio error\n",
      "indoorAtmo-outdoorAtmo_rate_MDH_indoorAtmo-outdoorAtmo_std_ratio done\n",
      "indoorAtmo-outdoorAtmo_rate_MDH_indoorHum-outdoorHum_mean_ratio error\n",
      "indoorAtmo-outdoorAtmo_rate_MDH_indoorHum-outdoorHum_median_ratio error\n",
      "indoorAtmo-outdoorAtmo_rate_MDH_indoorHum-outdoorHum_std_ratio error\n",
      "indoorAtmo-outdoorAtmo_rate_MDH_indoorAtmo-outdoorAtmo_rate_mean_ratio done\n",
      "indoorAtmo-outdoorAtmo_rate_MDH_indoorAtmo-outdoorAtmo_rate_median_ratio done\n",
      "indoorAtmo-outdoorAtmo_rate_MDH_indoorAtmo-outdoorAtmo_rate_std_ratio done\n",
      "indoorAtmo-outdoorAtmo_rate_MDH_indoorHum-outdoorHum_rate_mean_ratio done\n",
      "indoorAtmo-outdoorAtmo_rate_MDH_indoorHum-outdoorHum_rate_median_ratio error\n",
      "indoorAtmo-outdoorAtmo_rate_MDH_indoorHum-outdoorHum_rate_std_ratio error\n",
      "indoorHum-outdoorHum_rate_outdoorTemp_ratio done\n"
     ]
    },
    {
     "name": "stderr",
     "output_type": "stream",
     "text": [
      "\r",
      " 14%|███████████▌                                                                    | 122/846 [00:02<00:13, 53.99it/s]"
     ]
    },
    {
     "name": "stdout",
     "output_type": "stream",
     "text": [
      "indoorHum-outdoorHum_rate_indoorAtmo-outdoorAtmo_ratio error\n",
      "indoorHum-outdoorHum_rate_indoorHum-outdoorHum_ratio done\n",
      "indoorHum-outdoorHum_rate_indoorAtmo-outdoorAtmo_rate_ratio error\n",
      "indoorHum-outdoorHum_rate_MDH_outdoorTemp_mean_ratio done\n",
      "indoorHum-outdoorHum_rate_MDH_outdoorTemp_median_ratio done\n",
      "indoorHum-outdoorHum_rate_MDH_outdoorTemp_std_ratio done\n",
      "indoorHum-outdoorHum_rate_MDH_indoorAtmo-outdoorAtmo_mean_ratio done\n",
      "indoorHum-outdoorHum_rate_MDH_indoorAtmo-outdoorAtmo_median_ratio done\n",
      "indoorHum-outdoorHum_rate_MDH_indoorAtmo-outdoorAtmo_std_ratio done\n",
      "indoorHum-outdoorHum_rate_MDH_indoorHum-outdoorHum_mean_ratio error\n",
      "indoorHum-outdoorHum_rate_MDH_indoorHum-outdoorHum_median_ratio error"
     ]
    },
    {
     "name": "stderr",
     "output_type": "stream",
     "text": [
      " 16%|████████████▋                                                                   | 134/846 [00:02<00:13, 51.67it/s]"
     ]
    },
    {
     "name": "stdout",
     "output_type": "stream",
     "text": [
      "\n",
      "indoorHum-outdoorHum_rate_MDH_indoorHum-outdoorHum_std_ratio done\n",
      "indoorHum-outdoorHum_rate_MDH_indoorAtmo-outdoorAtmo_rate_mean_ratio done\n",
      "indoorHum-outdoorHum_rate_MDH_indoorAtmo-outdoorAtmo_rate_median_ratio error\n",
      "indoorHum-outdoorHum_rate_MDH_indoorAtmo-outdoorAtmo_rate_std_ratio done\n",
      "indoorHum-outdoorHum_rate_MDH_indoorHum-outdoorHum_rate_mean_ratio done\n",
      "indoorHum-outdoorHum_rate_MDH_indoorHum-outdoorHum_rate_median_ratio done\n",
      "indoorHum-outdoorHum_rate_MDH_indoorHum-outdoorHum_rate_std_ratio done\n",
      "MDH_outdoorTemp_mean_outdoorTemp_ratio done\n",
      "MDH_outdoorTemp_mean_indoorAtmo-outdoorAtmo_ratio error\n"
     ]
    },
    {
     "name": "stderr",
     "output_type": "stream",
     "text": [
      "\r",
      " 17%|█████████████▎                                                                  | 141/846 [00:03<00:13, 53.67it/s]"
     ]
    },
    {
     "name": "stdout",
     "output_type": "stream",
     "text": [
      "MDH_outdoorTemp_mean_indoorHum-outdoorHum_ratio done\n",
      "MDH_outdoorTemp_mean_indoorAtmo-outdoorAtmo_rate_ratio error\n",
      "MDH_outdoorTemp_mean_indoorHum-outdoorHum_rate_ratio error\n",
      "MDH_outdoorTemp_mean_MDH_outdoorTemp_median_ratio done\n",
      "MDH_outdoorTemp_mean_MDH_outdoorTemp_std_ratio done\n",
      "MDH_outdoorTemp_mean_MDH_indoorAtmo-outdoorAtmo_mean_ratio done\n",
      "MDH_outdoorTemp_mean_MDH_indoorAtmo-outdoorAtmo_median_ratio done\n",
      "MDH_outdoorTemp_mean_MDH_indoorAtmo-outdoorAtmo_std_ratio done\n",
      "MDH_outdoorTemp_mean_MDH_indoorHum-outdoorHum_mean_ratio done\n",
      "MDH_outdoorTemp_mean_MDH_indoorHum-outdoorHum_median_ratio done\n"
     ]
    },
    {
     "name": "stderr",
     "output_type": "stream",
     "text": [
      " 18%|██████████████▍                                                                 | 153/846 [00:03<00:14, 46.68it/s]"
     ]
    },
    {
     "name": "stdout",
     "output_type": "stream",
     "text": [
      "MDH_outdoorTemp_mean_MDH_indoorHum-outdoorHum_std_ratio done\n",
      "MDH_outdoorTemp_mean_MDH_indoorAtmo-outdoorAtmo_rate_mean_ratio done\n",
      "MDH_outdoorTemp_mean_MDH_indoorAtmo-outdoorAtmo_rate_median_ratio done\n",
      "MDH_outdoorTemp_mean_MDH_indoorAtmo-outdoorAtmo_rate_std_ratio done\n",
      "MDH_outdoorTemp_mean_MDH_indoorHum-outdoorHum_rate_mean_ratio done\n",
      "MDH_outdoorTemp_mean_MDH_indoorHum-outdoorHum_rate_median_ratio done\n",
      "MDH_outdoorTemp_mean_MDH_indoorHum-outdoorHum_rate_std_ratio done\n",
      "MDH_outdoorTemp_median_outdoorTemp_ratio done\n",
      "MDH_outdoorTemp_median_indoorAtmo-outdoorAtmo_ratio done\n"
     ]
    },
    {
     "name": "stderr",
     "output_type": "stream",
     "text": [
      " 19%|███████████████▍                                                                | 163/846 [00:03<00:15, 44.91it/s]"
     ]
    },
    {
     "name": "stdout",
     "output_type": "stream",
     "text": [
      "MDH_outdoorTemp_median_indoorHum-outdoorHum_ratio done\n",
      "MDH_outdoorTemp_median_indoorAtmo-outdoorAtmo_rate_ratio done\n",
      "MDH_outdoorTemp_median_indoorHum-outdoorHum_rate_ratio error\n",
      "MDH_outdoorTemp_median_MDH_outdoorTemp_mean_ratio done\n",
      "MDH_outdoorTemp_median_MDH_outdoorTemp_std_ratio done\n",
      "MDH_outdoorTemp_median_MDH_indoorAtmo-outdoorAtmo_mean_ratio done\n",
      "MDH_outdoorTemp_median_MDH_indoorAtmo-outdoorAtmo_median_ratio done\n",
      "MDH_outdoorTemp_median_MDH_indoorAtmo-outdoorAtmo_std_ratio done\n",
      "MDH_outdoorTemp_median_MDH_indoorHum-outdoorHum_mean_ratio done\n",
      "MDH_outdoorTemp_median_MDH_indoorHum-outdoorHum_median_ratio done\n"
     ]
    },
    {
     "name": "stderr",
     "output_type": "stream",
     "text": [
      " 20%|████████████████▎                                                               | 173/846 [00:03<00:14, 44.95it/s]"
     ]
    },
    {
     "name": "stdout",
     "output_type": "stream",
     "text": [
      "MDH_outdoorTemp_median_MDH_indoorHum-outdoorHum_std_ratio done\n",
      "MDH_outdoorTemp_median_MDH_indoorAtmo-outdoorAtmo_rate_mean_ratio done\n",
      "MDH_outdoorTemp_median_MDH_indoorAtmo-outdoorAtmo_rate_median_ratio done\n",
      "MDH_outdoorTemp_median_MDH_indoorAtmo-outdoorAtmo_rate_std_ratio done\n",
      "MDH_outdoorTemp_median_MDH_indoorHum-outdoorHum_rate_mean_ratio done\n",
      "MDH_outdoorTemp_median_MDH_indoorHum-outdoorHum_rate_median_ratio error\n",
      "MDH_outdoorTemp_median_MDH_indoorHum-outdoorHum_rate_std_ratio done\n",
      "MDH_outdoorTemp_std_outdoorTemp_ratio done\n",
      "MDH_outdoorTemp_std_indoorAtmo-outdoorAtmo_ratio done\n"
     ]
    },
    {
     "name": "stderr",
     "output_type": "stream",
     "text": [
      " 22%|█████████████████▎                                                              | 183/846 [00:03<00:14, 45.01it/s]"
     ]
    },
    {
     "name": "stdout",
     "output_type": "stream",
     "text": [
      "MDH_outdoorTemp_std_indoorHum-outdoorHum_ratio done\n",
      "MDH_outdoorTemp_std_indoorAtmo-outdoorAtmo_rate_ratio done\n",
      "MDH_outdoorTemp_std_indoorHum-outdoorHum_rate_ratio done\n",
      "MDH_outdoorTemp_std_MDH_outdoorTemp_mean_ratio done\n",
      "MDH_outdoorTemp_std_MDH_outdoorTemp_median_ratio done\n",
      "MDH_outdoorTemp_std_MDH_indoorAtmo-outdoorAtmo_mean_ratio done\n",
      "MDH_outdoorTemp_std_MDH_indoorAtmo-outdoorAtmo_median_ratio error\n",
      "MDH_outdoorTemp_std_MDH_indoorAtmo-outdoorAtmo_std_ratio done\n",
      "MDH_outdoorTemp_std_MDH_indoorHum-outdoorHum_mean_ratio done\n",
      "MDH_outdoorTemp_std_MDH_indoorHum-outdoorHum_median_ratio error\n"
     ]
    },
    {
     "name": "stderr",
     "output_type": "stream",
     "text": [
      " 23%|██████████████████▎                                                             | 193/846 [00:04<00:14, 46.56it/s]"
     ]
    },
    {
     "name": "stdout",
     "output_type": "stream",
     "text": [
      "MDH_outdoorTemp_std_MDH_indoorHum-outdoorHum_std_ratio done\n",
      "MDH_outdoorTemp_std_MDH_indoorAtmo-outdoorAtmo_rate_mean_ratio done\n",
      "MDH_outdoorTemp_std_MDH_indoorAtmo-outdoorAtmo_rate_median_ratio done\n",
      "MDH_outdoorTemp_std_MDH_indoorAtmo-outdoorAtmo_rate_std_ratio done\n",
      "MDH_outdoorTemp_std_MDH_indoorHum-outdoorHum_rate_mean_ratio done\n",
      "MDH_outdoorTemp_std_MDH_indoorHum-outdoorHum_rate_median_ratio done\n",
      "MDH_outdoorTemp_std_MDH_indoorHum-outdoorHum_rate_std_ratio done\n",
      "MDH_indoorAtmo-outdoorAtmo_mean_outdoorTemp_ratio done\n",
      "MDH_indoorAtmo-outdoorAtmo_mean_indoorAtmo-outdoorAtmo_ratio error\n"
     ]
    },
    {
     "name": "stderr",
     "output_type": "stream",
     "text": [
      " 24%|███████████████████▍                                                            | 205/846 [00:04<00:12, 50.76it/s]"
     ]
    },
    {
     "name": "stdout",
     "output_type": "stream",
     "text": [
      "MDH_indoorAtmo-outdoorAtmo_mean_indoorHum-outdoorHum_ratio done\n",
      "MDH_indoorAtmo-outdoorAtmo_mean_indoorAtmo-outdoorAtmo_rate_ratio error\n",
      "MDH_indoorAtmo-outdoorAtmo_mean_indoorHum-outdoorHum_rate_ratio error\n",
      "MDH_indoorAtmo-outdoorAtmo_mean_MDH_outdoorTemp_mean_ratio done\n",
      "MDH_indoorAtmo-outdoorAtmo_mean_MDH_outdoorTemp_median_ratio done\n",
      "MDH_indoorAtmo-outdoorAtmo_mean_MDH_outdoorTemp_std_ratio done\n",
      "MDH_indoorAtmo-outdoorAtmo_mean_MDH_indoorAtmo-outdoorAtmo_median_ratio error\n",
      "MDH_indoorAtmo-outdoorAtmo_mean_MDH_indoorAtmo-outdoorAtmo_std_ratio done\n",
      "MDH_indoorAtmo-outdoorAtmo_mean_MDH_indoorHum-outdoorHum_mean_ratio done\n",
      "MDH_indoorAtmo-outdoorAtmo_mean_MDH_indoorHum-outdoorHum_median_ratio error\n",
      "MDH_indoorAtmo-outdoorAtmo_mean_MDH_indoorHum-outdoorHum_std_ratio done\n",
      "MDH_indoorAtmo-outdoorAtmo_mean_MDH_indoorAtmo-outdoorAtmo_rate_mean_ratio done\n"
     ]
    },
    {
     "name": "stderr",
     "output_type": "stream",
     "text": [
      "\r",
      " 25%|███████████████████▉                                                            | 211/846 [00:04<00:12, 52.29it/s]"
     ]
    },
    {
     "name": "stdout",
     "output_type": "stream",
     "text": [
      "MDH_indoorAtmo-outdoorAtmo_mean_MDH_indoorAtmo-outdoorAtmo_rate_median_ratio error\n",
      "MDH_indoorAtmo-outdoorAtmo_mean_MDH_indoorAtmo-outdoorAtmo_rate_std_ratio done\n",
      "MDH_indoorAtmo-outdoorAtmo_mean_MDH_indoorHum-outdoorHum_rate_mean_ratio done\n",
      "MDH_indoorAtmo-outdoorAtmo_mean_MDH_indoorHum-outdoorHum_rate_median_ratio error\n",
      "MDH_indoorAtmo-outdoorAtmo_mean_MDH_indoorHum-outdoorHum_rate_std_ratio done\n",
      "MDH_indoorAtmo-outdoorAtmo_median_outdoorTemp_ratio done\n",
      "MDH_indoorAtmo-outdoorAtmo_median_indoorAtmo-outdoorAtmo_ratio done\n",
      "MDH_indoorAtmo-outdoorAtmo_median_indoorHum-outdoorHum_ratio done\n",
      "MDH_indoorAtmo-outdoorAtmo_median_indoorAtmo-outdoorAtmo_rate_ratio error\n",
      "MDH_indoorAtmo-outdoorAtmo_median_indoorHum-outdoorHum_rate_ratio error\n",
      "MDH_indoorAtmo-outdoorAtmo_median_MDH_outdoorTemp_mean_ratio done\n"
     ]
    },
    {
     "name": "stderr",
     "output_type": "stream",
     "text": [
      " 26%|█████████████████████                                                           | 223/846 [00:04<00:12, 48.72it/s]"
     ]
    },
    {
     "name": "stdout",
     "output_type": "stream",
     "text": [
      "MDH_indoorAtmo-outdoorAtmo_median_MDH_outdoorTemp_median_ratio done\n",
      "MDH_indoorAtmo-outdoorAtmo_median_MDH_outdoorTemp_std_ratio done\n",
      "MDH_indoorAtmo-outdoorAtmo_median_MDH_indoorAtmo-outdoorAtmo_mean_ratio done\n",
      "MDH_indoorAtmo-outdoorAtmo_median_MDH_indoorAtmo-outdoorAtmo_std_ratio done\n",
      "MDH_indoorAtmo-outdoorAtmo_median_MDH_indoorHum-outdoorHum_mean_ratio done\n",
      "MDH_indoorAtmo-outdoorAtmo_median_MDH_indoorHum-outdoorHum_median_ratio done\n",
      "MDH_indoorAtmo-outdoorAtmo_median_MDH_indoorHum-outdoorHum_std_ratio done\n",
      "MDH_indoorAtmo-outdoorAtmo_median_MDH_indoorAtmo-outdoorAtmo_rate_mean_ratio done\n",
      "MDH_indoorAtmo-outdoorAtmo_median_MDH_indoorAtmo-outdoorAtmo_rate_median_ratio done\n"
     ]
    },
    {
     "name": "stderr",
     "output_type": "stream",
     "text": [
      " 28%|██████████████████████                                                          | 233/846 [00:04<00:12, 48.40it/s]"
     ]
    },
    {
     "name": "stdout",
     "output_type": "stream",
     "text": [
      "MDH_indoorAtmo-outdoorAtmo_median_MDH_indoorAtmo-outdoorAtmo_rate_std_ratio done\n",
      "MDH_indoorAtmo-outdoorAtmo_median_MDH_indoorHum-outdoorHum_rate_mean_ratio done\n",
      "MDH_indoorAtmo-outdoorAtmo_median_MDH_indoorHum-outdoorHum_rate_median_ratio error\n",
      "MDH_indoorAtmo-outdoorAtmo_median_MDH_indoorHum-outdoorHum_rate_std_ratio done\n",
      "MDH_indoorAtmo-outdoorAtmo_std_outdoorTemp_ratio done\n",
      "MDH_indoorAtmo-outdoorAtmo_std_indoorAtmo-outdoorAtmo_ratio done\n",
      "MDH_indoorAtmo-outdoorAtmo_std_indoorHum-outdoorHum_ratio error\n",
      "MDH_indoorAtmo-outdoorAtmo_std_indoorAtmo-outdoorAtmo_rate_ratio done\n",
      "MDH_indoorAtmo-outdoorAtmo_std_indoorHum-outdoorHum_rate_ratio done\n",
      "MDH_indoorAtmo-outdoorAtmo_std_MDH_outdoorTemp_mean_ratio done\n",
      "MDH_indoorAtmo-outdoorAtmo_std_MDH_outdoorTemp_median_ratio done\n"
     ]
    },
    {
     "name": "stderr",
     "output_type": "stream",
     "text": [
      " 29%|███████████████████████▏                                                        | 245/846 [00:05<00:11, 51.61it/s]"
     ]
    },
    {
     "name": "stdout",
     "output_type": "stream",
     "text": [
      "MDH_indoorAtmo-outdoorAtmo_std_MDH_outdoorTemp_std_ratio error\n",
      "MDH_indoorAtmo-outdoorAtmo_std_MDH_indoorAtmo-outdoorAtmo_mean_ratio done\n",
      "MDH_indoorAtmo-outdoorAtmo_std_MDH_indoorAtmo-outdoorAtmo_median_ratio done\n",
      "MDH_indoorAtmo-outdoorAtmo_std_MDH_indoorHum-outdoorHum_mean_ratio error\n",
      "MDH_indoorAtmo-outdoorAtmo_std_MDH_indoorHum-outdoorHum_median_ratio error\n",
      "MDH_indoorAtmo-outdoorAtmo_std_MDH_indoorHum-outdoorHum_std_ratio error\n",
      "MDH_indoorAtmo-outdoorAtmo_std_MDH_indoorAtmo-outdoorAtmo_rate_mean_ratio done\n",
      "MDH_indoorAtmo-outdoorAtmo_std_MDH_indoorAtmo-outdoorAtmo_rate_median_ratio done\n",
      "MDH_indoorAtmo-outdoorAtmo_std_MDH_indoorAtmo-outdoorAtmo_rate_std_ratio done\n",
      "MDH_indoorAtmo-outdoorAtmo_std_MDH_indoorHum-outdoorHum_rate_mean_ratio done\n",
      "MDH_indoorAtmo-outdoorAtmo_std_MDH_indoorHum-outdoorHum_rate_median_ratio done\n"
     ]
    },
    {
     "name": "stderr",
     "output_type": "stream",
     "text": [
      " 30%|████████████████████████▎                                                       | 257/846 [00:05<00:11, 51.46it/s]"
     ]
    },
    {
     "name": "stdout",
     "output_type": "stream",
     "text": [
      "MDH_indoorAtmo-outdoorAtmo_std_MDH_indoorHum-outdoorHum_rate_std_ratio done\n",
      "MDH_indoorHum-outdoorHum_mean_outdoorTemp_ratio done\n",
      "MDH_indoorHum-outdoorHum_mean_indoorAtmo-outdoorAtmo_ratio error\n",
      "MDH_indoorHum-outdoorHum_mean_indoorHum-outdoorHum_ratio done\n",
      "MDH_indoorHum-outdoorHum_mean_indoorAtmo-outdoorAtmo_rate_ratio error\n",
      "MDH_indoorHum-outdoorHum_mean_indoorHum-outdoorHum_rate_ratio error\n",
      "MDH_indoorHum-outdoorHum_mean_MDH_outdoorTemp_mean_ratio done\n",
      "MDH_indoorHum-outdoorHum_mean_MDH_outdoorTemp_median_ratio done\n",
      "MDH_indoorHum-outdoorHum_mean_MDH_outdoorTemp_std_ratio done\n",
      "MDH_indoorHum-outdoorHum_mean_MDH_indoorAtmo-outdoorAtmo_mean_ratio done\n",
      "MDH_indoorHum-outdoorHum_mean_MDH_indoorAtmo-outdoorAtmo_median_ratio error\n",
      "MDH_indoorHum-outdoorHum_mean_MDH_indoorAtmo-outdoorAtmo_std_ratio done\n"
     ]
    },
    {
     "name": "stderr",
     "output_type": "stream",
     "text": [
      " 32%|█████████████████████████▍                                                      | 269/846 [00:05<00:10, 53.20it/s]"
     ]
    },
    {
     "name": "stdout",
     "output_type": "stream",
     "text": [
      "MDH_indoorHum-outdoorHum_mean_MDH_indoorHum-outdoorHum_median_ratio done\n",
      "MDH_indoorHum-outdoorHum_mean_MDH_indoorHum-outdoorHum_std_ratio done\n",
      "MDH_indoorHum-outdoorHum_mean_MDH_indoorAtmo-outdoorAtmo_rate_mean_ratio done\n",
      "MDH_indoorHum-outdoorHum_mean_MDH_indoorAtmo-outdoorAtmo_rate_median_ratio error\n",
      "MDH_indoorHum-outdoorHum_mean_MDH_indoorAtmo-outdoorAtmo_rate_std_ratio done\n",
      "MDH_indoorHum-outdoorHum_mean_MDH_indoorHum-outdoorHum_rate_mean_ratio done\n",
      "MDH_indoorHum-outdoorHum_mean_MDH_indoorHum-outdoorHum_rate_median_ratio error\n",
      "MDH_indoorHum-outdoorHum_mean_MDH_indoorHum-outdoorHum_rate_std_ratio done\n",
      "MDH_indoorHum-outdoorHum_median_outdoorTemp_ratio done\n",
      "MDH_indoorHum-outdoorHum_median_indoorAtmo-outdoorAtmo_ratio error\n",
      "MDH_indoorHum-outdoorHum_median_indoorHum-outdoorHum_ratio done\n"
     ]
    },
    {
     "name": "stderr",
     "output_type": "stream",
     "text": [
      "\r",
      " 33%|██████████████████████████                                                      | 275/846 [00:05<00:10, 53.35it/s]"
     ]
    },
    {
     "name": "stdout",
     "output_type": "stream",
     "text": [
      "MDH_indoorHum-outdoorHum_median_indoorAtmo-outdoorAtmo_rate_ratio error\n",
      "MDH_indoorHum-outdoorHum_median_indoorHum-outdoorHum_rate_ratio error\n",
      "MDH_indoorHum-outdoorHum_median_MDH_outdoorTemp_mean_ratio done\n",
      "MDH_indoorHum-outdoorHum_median_MDH_outdoorTemp_median_ratio done\n",
      "MDH_indoorHum-outdoorHum_median_MDH_outdoorTemp_std_ratio done\n",
      "MDH_indoorHum-outdoorHum_median_MDH_indoorAtmo-outdoorAtmo_mean_ratio done\n",
      "MDH_indoorHum-outdoorHum_median_MDH_indoorAtmo-outdoorAtmo_median_ratio error\n",
      "MDH_indoorHum-outdoorHum_median_MDH_indoorAtmo-outdoorAtmo_std_ratio done\n",
      "MDH_indoorHum-outdoorHum_median_MDH_indoorHum-outdoorHum_mean_ratio done\n",
      "MDH_indoorHum-outdoorHum_median_MDH_indoorHum-outdoorHum_std_ratio done\n"
     ]
    },
    {
     "name": "stderr",
     "output_type": "stream",
     "text": [
      " 34%|███████████████████████████▏                                                    | 287/846 [00:06<00:11, 50.09it/s]"
     ]
    },
    {
     "name": "stdout",
     "output_type": "stream",
     "text": [
      "MDH_indoorHum-outdoorHum_median_MDH_indoorAtmo-outdoorAtmo_rate_mean_ratio done\n",
      "MDH_indoorHum-outdoorHum_median_MDH_indoorAtmo-outdoorAtmo_rate_median_ratio error\n",
      "MDH_indoorHum-outdoorHum_median_MDH_indoorAtmo-outdoorAtmo_rate_std_ratio done\n",
      "MDH_indoorHum-outdoorHum_median_MDH_indoorHum-outdoorHum_rate_mean_ratio done\n",
      "MDH_indoorHum-outdoorHum_median_MDH_indoorHum-outdoorHum_rate_median_ratio done\n",
      "MDH_indoorHum-outdoorHum_median_MDH_indoorHum-outdoorHum_rate_std_ratio done\n",
      "MDH_indoorHum-outdoorHum_std_outdoorTemp_ratio done\n",
      "MDH_indoorHum-outdoorHum_std_indoorAtmo-outdoorAtmo_ratio error\n",
      "MDH_indoorHum-outdoorHum_std_indoorHum-outdoorHum_ratio done\n",
      "MDH_indoorHum-outdoorHum_std_indoorAtmo-outdoorAtmo_rate_ratio done\n"
     ]
    },
    {
     "name": "stderr",
     "output_type": "stream",
     "text": [
      " 35%|████████████████████████████▏                                                   | 298/846 [00:06<00:11, 49.02it/s]"
     ]
    },
    {
     "name": "stdout",
     "output_type": "stream",
     "text": [
      "MDH_indoorHum-outdoorHum_std_indoorHum-outdoorHum_rate_ratio done\n",
      "MDH_indoorHum-outdoorHum_std_MDH_outdoorTemp_mean_ratio done\n",
      "MDH_indoorHum-outdoorHum_std_MDH_outdoorTemp_median_ratio done\n",
      "MDH_indoorHum-outdoorHum_std_MDH_outdoorTemp_std_ratio done\n",
      "MDH_indoorHum-outdoorHum_std_MDH_indoorAtmo-outdoorAtmo_mean_ratio done\n",
      "MDH_indoorHum-outdoorHum_std_MDH_indoorAtmo-outdoorAtmo_median_ratio error\n",
      "MDH_indoorHum-outdoorHum_std_MDH_indoorAtmo-outdoorAtmo_std_ratio done\n",
      "MDH_indoorHum-outdoorHum_std_MDH_indoorHum-outdoorHum_mean_ratio done\n",
      "MDH_indoorHum-outdoorHum_std_MDH_indoorHum-outdoorHum_median_ratio error\n",
      "MDH_indoorHum-outdoorHum_std_MDH_indoorAtmo-outdoorAtmo_rate_mean_ratio done\n",
      "MDH_indoorHum-outdoorHum_std_MDH_indoorAtmo-outdoorAtmo_rate_median_ratio done\n"
     ]
    },
    {
     "name": "stderr",
     "output_type": "stream",
     "text": [
      " 37%|█████████████████████████████▍                                                  | 311/846 [00:06<00:10, 53.29it/s]"
     ]
    },
    {
     "name": "stdout",
     "output_type": "stream",
     "text": [
      "MDH_indoorHum-outdoorHum_std_MDH_indoorAtmo-outdoorAtmo_rate_std_ratio done\n",
      "MDH_indoorHum-outdoorHum_std_MDH_indoorHum-outdoorHum_rate_mean_ratio done\n",
      "MDH_indoorHum-outdoorHum_std_MDH_indoorHum-outdoorHum_rate_median_ratio done\n",
      "MDH_indoorHum-outdoorHum_std_MDH_indoorHum-outdoorHum_rate_std_ratio done\n",
      "MDH_indoorAtmo-outdoorAtmo_rate_mean_outdoorTemp_ratio done\n",
      "MDH_indoorAtmo-outdoorAtmo_rate_mean_indoorAtmo-outdoorAtmo_ratio error\n",
      "MDH_indoorAtmo-outdoorAtmo_rate_mean_indoorHum-outdoorHum_ratio error\n",
      "MDH_indoorAtmo-outdoorAtmo_rate_mean_indoorAtmo-outdoorAtmo_rate_ratio error\n",
      "MDH_indoorAtmo-outdoorAtmo_rate_mean_indoorHum-outdoorHum_rate_ratio error\n",
      "MDH_indoorAtmo-outdoorAtmo_rate_mean_MDH_outdoorTemp_mean_ratio done\n",
      "MDH_indoorAtmo-outdoorAtmo_rate_mean_MDH_outdoorTemp_median_ratio done\n",
      "MDH_indoorAtmo-outdoorAtmo_rate_mean_MDH_outdoorTemp_std_ratio done\n"
     ]
    },
    {
     "name": "stderr",
     "output_type": "stream",
     "text": [
      " 38%|██████████████████████████████▋                                                 | 324/846 [00:06<00:09, 53.95it/s]"
     ]
    },
    {
     "name": "stdout",
     "output_type": "stream",
     "text": [
      "MDH_indoorAtmo-outdoorAtmo_rate_mean_MDH_indoorAtmo-outdoorAtmo_mean_ratio done\n",
      "MDH_indoorAtmo-outdoorAtmo_rate_mean_MDH_indoorAtmo-outdoorAtmo_median_ratio error\n",
      "MDH_indoorAtmo-outdoorAtmo_rate_mean_MDH_indoorAtmo-outdoorAtmo_std_ratio done\n",
      "MDH_indoorAtmo-outdoorAtmo_rate_mean_MDH_indoorHum-outdoorHum_mean_ratio done\n",
      "MDH_indoorAtmo-outdoorAtmo_rate_mean_MDH_indoorHum-outdoorHum_median_ratio error\n",
      "MDH_indoorAtmo-outdoorAtmo_rate_mean_MDH_indoorHum-outdoorHum_std_ratio done\n",
      "MDH_indoorAtmo-outdoorAtmo_rate_mean_MDH_indoorAtmo-outdoorAtmo_rate_median_ratio error\n",
      "MDH_indoorAtmo-outdoorAtmo_rate_mean_MDH_indoorAtmo-outdoorAtmo_rate_std_ratio done\n",
      "MDH_indoorAtmo-outdoorAtmo_rate_mean_MDH_indoorHum-outdoorHum_rate_mean_ratio done\n",
      "MDH_indoorAtmo-outdoorAtmo_rate_mean_MDH_indoorHum-outdoorHum_rate_median_ratio error\n",
      "MDH_indoorAtmo-outdoorAtmo_rate_mean_MDH_indoorHum-outdoorHum_rate_std_ratio done\n",
      "MDH_indoorAtmo-outdoorAtmo_rate_median_outdoorTemp_ratio done\n"
     ]
    },
    {
     "name": "stderr",
     "output_type": "stream",
     "text": [
      "\r",
      " 39%|███████████████████████████████▎                                                | 331/846 [00:06<00:09, 55.37it/s]"
     ]
    },
    {
     "name": "stdout",
     "output_type": "stream",
     "text": [
      "MDH_indoorAtmo-outdoorAtmo_rate_median_indoorAtmo-outdoorAtmo_ratio error\n",
      "MDH_indoorAtmo-outdoorAtmo_rate_median_indoorHum-outdoorHum_ratio error\n",
      "MDH_indoorAtmo-outdoorAtmo_rate_median_indoorAtmo-outdoorAtmo_rate_ratio done\n",
      "MDH_indoorAtmo-outdoorAtmo_rate_median_indoorHum-outdoorHum_rate_ratio error\n",
      "MDH_indoorAtmo-outdoorAtmo_rate_median_MDH_outdoorTemp_mean_ratio done\n",
      "MDH_indoorAtmo-outdoorAtmo_rate_median_MDH_outdoorTemp_median_ratio done\n",
      "MDH_indoorAtmo-outdoorAtmo_rate_median_MDH_outdoorTemp_std_ratio done\n",
      "MDH_indoorAtmo-outdoorAtmo_rate_median_MDH_indoorAtmo-outdoorAtmo_mean_ratio done\n",
      "MDH_indoorAtmo-outdoorAtmo_rate_median_MDH_indoorAtmo-outdoorAtmo_median_ratio done\n",
      "MDH_indoorAtmo-outdoorAtmo_rate_median_MDH_indoorAtmo-outdoorAtmo_std_ratio done\n"
     ]
    },
    {
     "name": "stderr",
     "output_type": "stream",
     "text": [
      " 41%|████████████████████████████████▍                                               | 343/846 [00:07<00:09, 50.80it/s]"
     ]
    },
    {
     "name": "stdout",
     "output_type": "stream",
     "text": [
      "MDH_indoorAtmo-outdoorAtmo_rate_median_MDH_indoorHum-outdoorHum_mean_ratio done\n",
      "MDH_indoorAtmo-outdoorAtmo_rate_median_MDH_indoorHum-outdoorHum_median_ratio error\n",
      "MDH_indoorAtmo-outdoorAtmo_rate_median_MDH_indoorHum-outdoorHum_std_ratio done\n",
      "MDH_indoorAtmo-outdoorAtmo_rate_median_MDH_indoorAtmo-outdoorAtmo_rate_mean_ratio done\n",
      "MDH_indoorAtmo-outdoorAtmo_rate_median_MDH_indoorAtmo-outdoorAtmo_rate_std_ratio done\n",
      "MDH_indoorAtmo-outdoorAtmo_rate_median_MDH_indoorHum-outdoorHum_rate_mean_ratio done\n",
      "MDH_indoorAtmo-outdoorAtmo_rate_median_MDH_indoorHum-outdoorHum_rate_median_ratio error\n",
      "MDH_indoorAtmo-outdoorAtmo_rate_median_MDH_indoorHum-outdoorHum_rate_std_ratio done\n",
      "MDH_indoorAtmo-outdoorAtmo_rate_std_outdoorTemp_ratio done\n",
      "MDH_indoorAtmo-outdoorAtmo_rate_std_indoorAtmo-outdoorAtmo_ratio error\n",
      "MDH_indoorAtmo-outdoorAtmo_rate_std_indoorHum-outdoorHum_ratio error\n",
      "MDH_indoorAtmo-outdoorAtmo_rate_std_indoorAtmo-outdoorAtmo_rate_ratio done\n"
     ]
    },
    {
     "name": "stderr",
     "output_type": "stream",
     "text": [
      " 42%|█████████████████████████████████▌                                              | 355/846 [00:07<00:09, 50.41it/s]"
     ]
    },
    {
     "name": "stdout",
     "output_type": "stream",
     "text": [
      "MDH_indoorAtmo-outdoorAtmo_rate_std_indoorHum-outdoorHum_rate_ratio done\n",
      "MDH_indoorAtmo-outdoorAtmo_rate_std_MDH_outdoorTemp_mean_ratio done\n",
      "MDH_indoorAtmo-outdoorAtmo_rate_std_MDH_outdoorTemp_median_ratio done\n",
      "MDH_indoorAtmo-outdoorAtmo_rate_std_MDH_outdoorTemp_std_ratio done\n",
      "MDH_indoorAtmo-outdoorAtmo_rate_std_MDH_indoorAtmo-outdoorAtmo_mean_ratio done\n",
      "MDH_indoorAtmo-outdoorAtmo_rate_std_MDH_indoorAtmo-outdoorAtmo_median_ratio error\n",
      "MDH_indoorAtmo-outdoorAtmo_rate_std_MDH_indoorAtmo-outdoorAtmo_std_ratio done\n",
      "MDH_indoorAtmo-outdoorAtmo_rate_std_MDH_indoorHum-outdoorHum_mean_ratio done\n",
      "MDH_indoorAtmo-outdoorAtmo_rate_std_MDH_indoorHum-outdoorHum_median_ratio error\n",
      "MDH_indoorAtmo-outdoorAtmo_rate_std_MDH_indoorHum-outdoorHum_std_ratio done\n",
      "MDH_indoorAtmo-outdoorAtmo_rate_std_MDH_indoorAtmo-outdoorAtmo_rate_mean_ratio done\n"
     ]
    },
    {
     "name": "stderr",
     "output_type": "stream",
     "text": [
      " 43%|██████████████████████████████████▊                                             | 368/846 [00:07<00:09, 52.51it/s]"
     ]
    },
    {
     "name": "stdout",
     "output_type": "stream",
     "text": [
      "MDH_indoorAtmo-outdoorAtmo_rate_std_MDH_indoorAtmo-outdoorAtmo_rate_median_ratio done\n",
      "MDH_indoorAtmo-outdoorAtmo_rate_std_MDH_indoorHum-outdoorHum_rate_mean_ratio done\n",
      "MDH_indoorAtmo-outdoorAtmo_rate_std_MDH_indoorHum-outdoorHum_rate_median_ratio done\n",
      "MDH_indoorAtmo-outdoorAtmo_rate_std_MDH_indoorHum-outdoorHum_rate_std_ratio error\n",
      "MDH_indoorHum-outdoorHum_rate_mean_outdoorTemp_ratio done\n",
      "MDH_indoorHum-outdoorHum_rate_mean_indoorAtmo-outdoorAtmo_ratio done\n",
      "MDH_indoorHum-outdoorHum_rate_mean_indoorHum-outdoorHum_ratio error\n",
      "MDH_indoorHum-outdoorHum_rate_mean_indoorAtmo-outdoorAtmo_rate_ratio error\n",
      "MDH_indoorHum-outdoorHum_rate_mean_indoorHum-outdoorHum_rate_ratio done\n",
      "MDH_indoorHum-outdoorHum_rate_mean_MDH_outdoorTemp_mean_ratio done\n",
      "MDH_indoorHum-outdoorHum_rate_mean_MDH_outdoorTemp_median_ratio done\n"
     ]
    },
    {
     "name": "stderr",
     "output_type": "stream",
     "text": [
      "\r",
      " 44%|███████████████████████████████████▎                                            | 374/846 [00:07<00:09, 48.52it/s]"
     ]
    },
    {
     "name": "stdout",
     "output_type": "stream",
     "text": [
      "MDH_indoorHum-outdoorHum_rate_mean_MDH_outdoorTemp_std_ratio done\n",
      "MDH_indoorHum-outdoorHum_rate_mean_MDH_indoorAtmo-outdoorAtmo_mean_ratio done\n",
      "MDH_indoorHum-outdoorHum_rate_mean_MDH_indoorAtmo-outdoorAtmo_median_ratio done\n",
      "MDH_indoorHum-outdoorHum_rate_mean_MDH_indoorAtmo-outdoorAtmo_std_ratio done\n",
      "MDH_indoorHum-outdoorHum_rate_mean_MDH_indoorHum-outdoorHum_mean_ratio done\n",
      "MDH_indoorHum-outdoorHum_rate_mean_MDH_indoorHum-outdoorHum_median_ratio error\n",
      "MDH_indoorHum-outdoorHum_rate_mean_MDH_indoorHum-outdoorHum_std_ratio done\n",
      "MDH_indoorHum-outdoorHum_rate_mean_MDH_indoorAtmo-outdoorAtmo_rate_mean_ratio done\n",
      "MDH_indoorHum-outdoorHum_rate_mean_MDH_indoorAtmo-outdoorAtmo_rate_median_ratio error\n"
     ]
    },
    {
     "name": "stderr",
     "output_type": "stream",
     "text": [
      " 46%|████████████████████████████████████▌                                           | 387/846 [00:07<00:08, 52.70it/s]"
     ]
    },
    {
     "name": "stdout",
     "output_type": "stream",
     "text": [
      "MDH_indoorHum-outdoorHum_rate_mean_MDH_indoorAtmo-outdoorAtmo_rate_std_ratio done\n",
      "MDH_indoorHum-outdoorHum_rate_mean_MDH_indoorHum-outdoorHum_rate_median_ratio done\n",
      "MDH_indoorHum-outdoorHum_rate_mean_MDH_indoorHum-outdoorHum_rate_std_ratio done\n",
      "MDH_indoorHum-outdoorHum_rate_median_outdoorTemp_ratio done\n",
      "MDH_indoorHum-outdoorHum_rate_median_indoorAtmo-outdoorAtmo_ratio error\n",
      "MDH_indoorHum-outdoorHum_rate_median_indoorHum-outdoorHum_ratio error\n",
      "MDH_indoorHum-outdoorHum_rate_median_indoorAtmo-outdoorAtmo_rate_ratio error\n",
      "MDH_indoorHum-outdoorHum_rate_median_indoorHum-outdoorHum_rate_ratio done\n",
      "MDH_indoorHum-outdoorHum_rate_median_MDH_outdoorTemp_mean_ratio done\n",
      "MDH_indoorHum-outdoorHum_rate_median_MDH_outdoorTemp_median_ratio done\n",
      "MDH_indoorHum-outdoorHum_rate_median_MDH_outdoorTemp_std_ratio done\n"
     ]
    },
    {
     "name": "stderr",
     "output_type": "stream",
     "text": [
      " 47%|█████████████████████████████████████▋                                          | 399/846 [00:08<00:08, 49.92it/s]"
     ]
    },
    {
     "name": "stdout",
     "output_type": "stream",
     "text": [
      "MDH_indoorHum-outdoorHum_rate_median_MDH_indoorAtmo-outdoorAtmo_mean_ratio done\n",
      "MDH_indoorHum-outdoorHum_rate_median_MDH_indoorAtmo-outdoorAtmo_median_ratio error\n",
      "MDH_indoorHum-outdoorHum_rate_median_MDH_indoorAtmo-outdoorAtmo_std_ratio done\n",
      "MDH_indoorHum-outdoorHum_rate_median_MDH_indoorHum-outdoorHum_mean_ratio done\n",
      "MDH_indoorHum-outdoorHum_rate_median_MDH_indoorHum-outdoorHum_median_ratio done\n",
      "MDH_indoorHum-outdoorHum_rate_median_MDH_indoorHum-outdoorHum_std_ratio done\n",
      "MDH_indoorHum-outdoorHum_rate_median_MDH_indoorAtmo-outdoorAtmo_rate_mean_ratio done\n",
      "MDH_indoorHum-outdoorHum_rate_median_MDH_indoorAtmo-outdoorAtmo_rate_median_ratio error\n",
      "MDH_indoorHum-outdoorHum_rate_median_MDH_indoorAtmo-outdoorAtmo_rate_std_ratio done\n",
      "MDH_indoorHum-outdoorHum_rate_median_MDH_indoorHum-outdoorHum_rate_mean_ratio done\n"
     ]
    },
    {
     "name": "stderr",
     "output_type": "stream",
     "text": [
      "\r",
      " 48%|██████████████████████████████████████▎                                         | 405/846 [00:08<00:08, 49.12it/s]"
     ]
    },
    {
     "name": "stdout",
     "output_type": "stream",
     "text": [
      "MDH_indoorHum-outdoorHum_rate_median_MDH_indoorHum-outdoorHum_rate_std_ratio done\n",
      "MDH_indoorHum-outdoorHum_rate_std_outdoorTemp_ratio done\n",
      "MDH_indoorHum-outdoorHum_rate_std_indoorAtmo-outdoorAtmo_ratio done\n",
      "MDH_indoorHum-outdoorHum_rate_std_indoorHum-outdoorHum_ratio error\n",
      "MDH_indoorHum-outdoorHum_rate_std_indoorAtmo-outdoorAtmo_rate_ratio done\n",
      "MDH_indoorHum-outdoorHum_rate_std_indoorHum-outdoorHum_rate_ratio done\n",
      "MDH_indoorHum-outdoorHum_rate_std_MDH_outdoorTemp_mean_ratio done\n",
      "MDH_indoorHum-outdoorHum_rate_std_MDH_outdoorTemp_median_ratio done\n",
      "MDH_indoorHum-outdoorHum_rate_std_MDH_outdoorTemp_std_ratio done\n",
      "MDH_indoorHum-outdoorHum_rate_std_MDH_indoorAtmo-outdoorAtmo_mean_ratio done\n"
     ]
    },
    {
     "name": "stderr",
     "output_type": "stream",
     "text": [
      " 49%|███████████████████████████████████████▎                                        | 416/846 [00:08<00:08, 50.81it/s]"
     ]
    },
    {
     "name": "stdout",
     "output_type": "stream",
     "text": [
      "MDH_indoorHum-outdoorHum_rate_std_MDH_indoorAtmo-outdoorAtmo_median_ratio error\n",
      "MDH_indoorHum-outdoorHum_rate_std_MDH_indoorAtmo-outdoorAtmo_std_ratio done\n",
      "MDH_indoorHum-outdoorHum_rate_std_MDH_indoorHum-outdoorHum_mean_ratio error\n",
      "MDH_indoorHum-outdoorHum_rate_std_MDH_indoorHum-outdoorHum_median_ratio error\n",
      "MDH_indoorHum-outdoorHum_rate_std_MDH_indoorHum-outdoorHum_std_ratio done\n",
      "MDH_indoorHum-outdoorHum_rate_std_MDH_indoorAtmo-outdoorAtmo_rate_mean_ratio done\n",
      "MDH_indoorHum-outdoorHum_rate_std_MDH_indoorAtmo-outdoorAtmo_rate_median_ratio done\n",
      "MDH_indoorHum-outdoorHum_rate_std_MDH_indoorAtmo-outdoorAtmo_rate_std_ratio done\n",
      "MDH_indoorHum-outdoorHum_rate_std_MDH_indoorHum-outdoorHum_rate_mean_ratio done\n",
      "MDH_indoorHum-outdoorHum_rate_std_MDH_indoorHum-outdoorHum_rate_median_ratio error\n",
      "dt done\n"
     ]
    },
    {
     "name": "stderr",
     "output_type": "stream",
     "text": [
      " 50%|████████████████████████████████████████▍                                       | 427/846 [00:08<00:08, 46.70it/s]"
     ]
    },
    {
     "name": "stdout",
     "output_type": "stream",
     "text": [
      "hit_outdoorTemp_mean done\n",
      "hit_indoorAtmo-outdoorAtmo_mean done\n",
      "hit_indoorHum-outdoorHum_mean done\n",
      "hit_indoorAtmo-outdoorAtmo_rate_mean done\n",
      "hit_indoorHum-outdoorHum_rate_mean done\n",
      "hit_temperature_mean done\n",
      "outdoorTemp_20_bin done\n",
      "outdoorTemp_50_bin done\n",
      "outdoorTemp_100_bin done\n"
     ]
    },
    {
     "name": "stderr",
     "output_type": "stream",
     "text": [
      " 52%|█████████████████████████████████████████▎                                      | 437/846 [00:08<00:08, 46.38it/s]"
     ]
    },
    {
     "name": "stdout",
     "output_type": "stream",
     "text": [
      "outdoorTemp_200_bin done\n",
      "indoorAtmo-outdoorAtmo_20_bin done\n",
      "indoorAtmo-outdoorAtmo_50_bin done\n",
      "indoorAtmo-outdoorAtmo_100_bin done\n",
      "indoorAtmo-outdoorAtmo_200_bin done\n",
      "indoorHum-outdoorHum_20_bin done\n",
      "indoorHum-outdoorHum_50_bin done\n",
      "indoorHum-outdoorHum_100_bin done\n",
      "indoorHum-outdoorHum_200_bin done\n",
      "indoorAtmo-outdoorAtmo_rate_20_bin done\n"
     ]
    },
    {
     "name": "stderr",
     "output_type": "stream",
     "text": [
      " 53%|██████████████████████████████████████████▍                                     | 449/846 [00:09<00:08, 48.52it/s]"
     ]
    },
    {
     "name": "stdout",
     "output_type": "stream",
     "text": [
      "indoorAtmo-outdoorAtmo_rate_50_bin done\n",
      "indoorAtmo-outdoorAtmo_rate_100_bin done\n",
      "indoorAtmo-outdoorAtmo_rate_200_bin done\n",
      "indoorHum-outdoorHum_rate_20_bin done\n",
      "indoorHum-outdoorHum_rate_50_bin done\n",
      "indoorHum-outdoorHum_rate_100_bin done\n",
      "indoorHum-outdoorHum_rate_200_bin done\n",
      "outdoorTemp_20_bin_outdoorTemp_median done\n",
      "outdoorTemp_20_bin_outdoorTemp_mean done\n",
      "outdoorTemp_20_bin_outdoorTemp_max done\n",
      "outdoorTemp_20_bin_outdoorTemp_min done\n"
     ]
    },
    {
     "name": "stderr",
     "output_type": "stream",
     "text": [
      " 54%|███████████████████████████████████████████▍                                    | 459/846 [00:09<00:08, 44.94it/s]"
     ]
    },
    {
     "name": "stdout",
     "output_type": "stream",
     "text": [
      "outdoorTemp_20_bin_indoorAtmo-outdoorAtmo_median done\n",
      "outdoorTemp_20_bin_indoorAtmo-outdoorAtmo_mean done\n",
      "outdoorTemp_20_bin_indoorAtmo-outdoorAtmo_max done\n",
      "outdoorTemp_20_bin_indoorAtmo-outdoorAtmo_min done\n",
      "outdoorTemp_20_bin_indoorHum-outdoorHum_median done\n",
      "outdoorTemp_20_bin_indoorHum-outdoorHum_mean done\n",
      "outdoorTemp_20_bin_indoorHum-outdoorHum_max done\n",
      "outdoorTemp_20_bin_indoorHum-outdoorHum_min done\n",
      "outdoorTemp_20_bin_indoorAtmo-outdoorAtmo_rate_median done\n"
     ]
    },
    {
     "name": "stderr",
     "output_type": "stream",
     "text": [
      "\r",
      " 55%|███████████████████████████████████████████▉                                    | 464/846 [00:09<00:08, 43.94it/s]"
     ]
    },
    {
     "name": "stdout",
     "output_type": "stream",
     "text": [
      "outdoorTemp_20_bin_indoorAtmo-outdoorAtmo_rate_mean done\n",
      "outdoorTemp_20_bin_indoorAtmo-outdoorAtmo_rate_max done\n",
      "outdoorTemp_20_bin_indoorAtmo-outdoorAtmo_rate_min done\n",
      "outdoorTemp_20_bin_indoorHum-outdoorHum_rate_median done\n",
      "outdoorTemp_20_bin_indoorHum-outdoorHum_rate_mean done\n",
      "outdoorTemp_20_bin_indoorHum-outdoorHum_rate_max done\n",
      "outdoorTemp_20_bin_indoorHum-outdoorHum_rate_min done\n",
      "indoorAtmo-outdoorAtmo_20_bin_outdoorTemp_median done\n",
      "indoorAtmo-outdoorAtmo_20_bin_outdoorTemp_mean done\n"
     ]
    },
    {
     "name": "stderr",
     "output_type": "stream",
     "text": [
      " 56%|████████████████████████████████████████████▉                                   | 475/846 [00:09<00:07, 46.90it/s]"
     ]
    },
    {
     "name": "stdout",
     "output_type": "stream",
     "text": [
      "indoorAtmo-outdoorAtmo_20_bin_outdoorTemp_max done\n",
      "indoorAtmo-outdoorAtmo_20_bin_outdoorTemp_min done\n",
      "indoorAtmo-outdoorAtmo_20_bin_indoorAtmo-outdoorAtmo_median done\n",
      "indoorAtmo-outdoorAtmo_20_bin_indoorAtmo-outdoorAtmo_mean done\n",
      "indoorAtmo-outdoorAtmo_20_bin_indoorAtmo-outdoorAtmo_max done\n",
      "indoorAtmo-outdoorAtmo_20_bin_indoorAtmo-outdoorAtmo_min done\n",
      "indoorAtmo-outdoorAtmo_20_bin_indoorHum-outdoorHum_median done\n",
      "indoorAtmo-outdoorAtmo_20_bin_indoorHum-outdoorHum_mean done\n",
      "indoorAtmo-outdoorAtmo_20_bin_indoorHum-outdoorHum_max done\n",
      "indoorAtmo-outdoorAtmo_20_bin_indoorHum-outdoorHum_min done\n",
      "indoorAtmo-outdoorAtmo_20_bin_indoorAtmo-outdoorAtmo_rate_median done\n"
     ]
    },
    {
     "name": "stderr",
     "output_type": "stream",
     "text": [
      " 57%|█████████████████████████████████████████████▉                                  | 486/846 [00:10<00:07, 47.31it/s]"
     ]
    },
    {
     "name": "stdout",
     "output_type": "stream",
     "text": [
      "indoorAtmo-outdoorAtmo_20_bin_indoorAtmo-outdoorAtmo_rate_mean done\n",
      "indoorAtmo-outdoorAtmo_20_bin_indoorAtmo-outdoorAtmo_rate_max done\n",
      "indoorAtmo-outdoorAtmo_20_bin_indoorAtmo-outdoorAtmo_rate_min done\n",
      "indoorAtmo-outdoorAtmo_20_bin_indoorHum-outdoorHum_rate_median done\n",
      "indoorAtmo-outdoorAtmo_20_bin_indoorHum-outdoorHum_rate_mean done\n",
      "indoorAtmo-outdoorAtmo_20_bin_indoorHum-outdoorHum_rate_max done\n",
      "indoorAtmo-outdoorAtmo_20_bin_indoorHum-outdoorHum_rate_min done\n",
      "indoorHum-outdoorHum_20_bin_outdoorTemp_median done\n",
      "indoorHum-outdoorHum_20_bin_outdoorTemp_mean done\n"
     ]
    },
    {
     "name": "stderr",
     "output_type": "stream",
     "text": [
      " 59%|██████████████████████████████████████████████▉                                 | 496/846 [00:10<00:07, 44.07it/s]"
     ]
    },
    {
     "name": "stdout",
     "output_type": "stream",
     "text": [
      "indoorHum-outdoorHum_20_bin_outdoorTemp_max done\n",
      "indoorHum-outdoorHum_20_bin_outdoorTemp_min done\n",
      "indoorHum-outdoorHum_20_bin_indoorAtmo-outdoorAtmo_median done\n",
      "indoorHum-outdoorHum_20_bin_indoorAtmo-outdoorAtmo_mean done\n",
      "indoorHum-outdoorHum_20_bin_indoorAtmo-outdoorAtmo_max done\n",
      "indoorHum-outdoorHum_20_bin_indoorAtmo-outdoorAtmo_min done\n",
      "indoorHum-outdoorHum_20_bin_indoorHum-outdoorHum_median done\n",
      "indoorHum-outdoorHum_20_bin_indoorHum-outdoorHum_mean done\n",
      "indoorHum-outdoorHum_20_bin_indoorHum-outdoorHum_max done\n"
     ]
    },
    {
     "name": "stderr",
     "output_type": "stream",
     "text": [
      " 60%|███████████████████████████████████████████████▊                                | 506/846 [00:10<00:07, 43.09it/s]"
     ]
    },
    {
     "name": "stdout",
     "output_type": "stream",
     "text": [
      "indoorHum-outdoorHum_20_bin_indoorHum-outdoorHum_min done\n",
      "indoorHum-outdoorHum_20_bin_indoorAtmo-outdoorAtmo_rate_median done\n",
      "indoorHum-outdoorHum_20_bin_indoorAtmo-outdoorAtmo_rate_mean done\n",
      "indoorHum-outdoorHum_20_bin_indoorAtmo-outdoorAtmo_rate_max done\n",
      "indoorHum-outdoorHum_20_bin_indoorAtmo-outdoorAtmo_rate_min done\n",
      "indoorHum-outdoorHum_20_bin_indoorHum-outdoorHum_rate_median done\n",
      "indoorHum-outdoorHum_20_bin_indoorHum-outdoorHum_rate_mean done\n",
      "indoorHum-outdoorHum_20_bin_indoorHum-outdoorHum_rate_max done\n",
      "indoorHum-outdoorHum_20_bin_indoorHum-outdoorHum_rate_min done\n"
     ]
    },
    {
     "name": "stderr",
     "output_type": "stream",
     "text": [
      "\r",
      " 61%|████████████████████████████████████████████████▍                               | 512/846 [00:10<00:07, 45.71it/s]"
     ]
    },
    {
     "name": "stdout",
     "output_type": "stream",
     "text": [
      "indoorAtmo-outdoorAtmo_rate_20_bin_outdoorTemp_median done\n",
      "indoorAtmo-outdoorAtmo_rate_20_bin_outdoorTemp_mean done\n",
      "indoorAtmo-outdoorAtmo_rate_20_bin_outdoorTemp_max done\n",
      "indoorAtmo-outdoorAtmo_rate_20_bin_outdoorTemp_min done\n",
      "indoorAtmo-outdoorAtmo_rate_20_bin_indoorAtmo-outdoorAtmo_median done\n",
      "indoorAtmo-outdoorAtmo_rate_20_bin_indoorAtmo-outdoorAtmo_mean done\n",
      "indoorAtmo-outdoorAtmo_rate_20_bin_indoorAtmo-outdoorAtmo_max done\n",
      "indoorAtmo-outdoorAtmo_rate_20_bin_indoorAtmo-outdoorAtmo_min done\n",
      "indoorAtmo-outdoorAtmo_rate_20_bin_indoorHum-outdoorHum_median done\n",
      "indoorAtmo-outdoorAtmo_rate_20_bin_indoorHum-outdoorHum_mean done\n",
      "indoorAtmo-outdoorAtmo_rate_20_bin_indoorHum-outdoorHum_max done\n"
     ]
    },
    {
     "name": "stderr",
     "output_type": "stream",
     "text": [
      " 62%|█████████████████████████████████████████████████▌                              | 524/846 [00:10<00:06, 49.14it/s]"
     ]
    },
    {
     "name": "stdout",
     "output_type": "stream",
     "text": [
      "indoorAtmo-outdoorAtmo_rate_20_bin_indoorHum-outdoorHum_min done\n",
      "indoorAtmo-outdoorAtmo_rate_20_bin_indoorAtmo-outdoorAtmo_rate_median done\n",
      "indoorAtmo-outdoorAtmo_rate_20_bin_indoorAtmo-outdoorAtmo_rate_mean done\n",
      "indoorAtmo-outdoorAtmo_rate_20_bin_indoorAtmo-outdoorAtmo_rate_max done\n",
      "indoorAtmo-outdoorAtmo_rate_20_bin_indoorAtmo-outdoorAtmo_rate_min done\n",
      "indoorAtmo-outdoorAtmo_rate_20_bin_indoorHum-outdoorHum_rate_median done\n",
      "indoorAtmo-outdoorAtmo_rate_20_bin_indoorHum-outdoorHum_rate_mean done\n",
      "indoorAtmo-outdoorAtmo_rate_20_bin_indoorHum-outdoorHum_rate_max done\n",
      "indoorAtmo-outdoorAtmo_rate_20_bin_indoorHum-outdoorHum_rate_min done\n",
      "indoorHum-outdoorHum_rate_20_bin_outdoorTemp_median done\n",
      "indoorHum-outdoorHum_rate_20_bin_outdoorTemp_mean done\n"
     ]
    },
    {
     "name": "stderr",
     "output_type": "stream",
     "text": [
      " 63%|██████████████████████████████████████████████████▋                             | 536/846 [00:11<00:05, 52.93it/s]"
     ]
    },
    {
     "name": "stdout",
     "output_type": "stream",
     "text": [
      "indoorHum-outdoorHum_rate_20_bin_outdoorTemp_max done\n",
      "indoorHum-outdoorHum_rate_20_bin_outdoorTemp_min done\n",
      "indoorHum-outdoorHum_rate_20_bin_indoorAtmo-outdoorAtmo_median done\n",
      "indoorHum-outdoorHum_rate_20_bin_indoorAtmo-outdoorAtmo_mean done\n",
      "indoorHum-outdoorHum_rate_20_bin_indoorAtmo-outdoorAtmo_max done\n",
      "indoorHum-outdoorHum_rate_20_bin_indoorAtmo-outdoorAtmo_min done\n",
      "indoorHum-outdoorHum_rate_20_bin_indoorHum-outdoorHum_median done\n",
      "indoorHum-outdoorHum_rate_20_bin_indoorHum-outdoorHum_mean done\n",
      "indoorHum-outdoorHum_rate_20_bin_indoorHum-outdoorHum_max done\n",
      "indoorHum-outdoorHum_rate_20_bin_indoorHum-outdoorHum_min done\n",
      "indoorHum-outdoorHum_rate_20_bin_indoorAtmo-outdoorAtmo_rate_median done\n",
      "indoorHum-outdoorHum_rate_20_bin_indoorAtmo-outdoorAtmo_rate_mean done\n"
     ]
    },
    {
     "name": "stderr",
     "output_type": "stream",
     "text": [
      " 65%|███████████████████████████████████████████████████▊                            | 548/846 [00:11<00:05, 53.70it/s]"
     ]
    },
    {
     "name": "stdout",
     "output_type": "stream",
     "text": [
      "indoorHum-outdoorHum_rate_20_bin_indoorAtmo-outdoorAtmo_rate_max done\n",
      "indoorHum-outdoorHum_rate_20_bin_indoorAtmo-outdoorAtmo_rate_min done\n",
      "indoorHum-outdoorHum_rate_20_bin_indoorHum-outdoorHum_rate_median done\n",
      "indoorHum-outdoorHum_rate_20_bin_indoorHum-outdoorHum_rate_mean done\n",
      "indoorHum-outdoorHum_rate_20_bin_indoorHum-outdoorHum_rate_max done\n",
      "indoorHum-outdoorHum_rate_20_bin_indoorHum-outdoorHum_rate_min done\n",
      "outdoorTemp_50_bin_outdoorTemp_median done\n",
      "outdoorTemp_50_bin_outdoorTemp_mean done\n",
      "outdoorTemp_50_bin_outdoorTemp_max done\n",
      "outdoorTemp_50_bin_outdoorTemp_min done\n"
     ]
    },
    {
     "name": "stderr",
     "output_type": "stream",
     "text": [
      " 66%|████████████████████████████████████████████████████▉                           | 560/846 [00:11<00:06, 47.24it/s]"
     ]
    },
    {
     "name": "stdout",
     "output_type": "stream",
     "text": [
      "outdoorTemp_50_bin_indoorAtmo-outdoorAtmo_median done\n",
      "outdoorTemp_50_bin_indoorAtmo-outdoorAtmo_mean done\n",
      "outdoorTemp_50_bin_indoorAtmo-outdoorAtmo_max done\n",
      "outdoorTemp_50_bin_indoorAtmo-outdoorAtmo_min done\n",
      "outdoorTemp_50_bin_indoorHum-outdoorHum_median done\n",
      "outdoorTemp_50_bin_indoorHum-outdoorHum_mean done\n",
      "outdoorTemp_50_bin_indoorHum-outdoorHum_max done\n",
      "outdoorTemp_50_bin_indoorHum-outdoorHum_min done\n",
      "outdoorTemp_50_bin_indoorAtmo-outdoorAtmo_rate_median done\n",
      "outdoorTemp_50_bin_indoorAtmo-outdoorAtmo_rate_mean done\n"
     ]
    },
    {
     "name": "stderr",
     "output_type": "stream",
     "text": [
      "\r",
      " 67%|█████████████████████████████████████████████████████▍                          | 565/846 [00:11<00:06, 45.58it/s]"
     ]
    },
    {
     "name": "stdout",
     "output_type": "stream",
     "text": [
      "outdoorTemp_50_bin_indoorAtmo-outdoorAtmo_rate_max done\n",
      "outdoorTemp_50_bin_indoorAtmo-outdoorAtmo_rate_min done\n",
      "outdoorTemp_50_bin_indoorHum-outdoorHum_rate_median done\n",
      "outdoorTemp_50_bin_indoorHum-outdoorHum_rate_mean done\n",
      "outdoorTemp_50_bin_indoorHum-outdoorHum_rate_max done\n",
      "outdoorTemp_50_bin_indoorHum-outdoorHum_rate_min done\n",
      "indoorAtmo-outdoorAtmo_50_bin_outdoorTemp_median done\n",
      "indoorAtmo-outdoorAtmo_50_bin_outdoorTemp_mean done\n",
      "indoorAtmo-outdoorAtmo_50_bin_outdoorTemp_max done\n"
     ]
    },
    {
     "name": "stderr",
     "output_type": "stream",
     "text": [
      " 68%|██████████████████████████████████████████████████████▎                         | 575/846 [00:11<00:05, 47.16it/s]"
     ]
    },
    {
     "name": "stdout",
     "output_type": "stream",
     "text": [
      "indoorAtmo-outdoorAtmo_50_bin_outdoorTemp_min done\n",
      "indoorAtmo-outdoorAtmo_50_bin_indoorAtmo-outdoorAtmo_median done\n",
      "indoorAtmo-outdoorAtmo_50_bin_indoorAtmo-outdoorAtmo_mean done\n",
      "indoorAtmo-outdoorAtmo_50_bin_indoorAtmo-outdoorAtmo_max done\n",
      "indoorAtmo-outdoorAtmo_50_bin_indoorAtmo-outdoorAtmo_min done\n",
      "indoorAtmo-outdoorAtmo_50_bin_indoorHum-outdoorHum_median done\n",
      "indoorAtmo-outdoorAtmo_50_bin_indoorHum-outdoorHum_mean done\n",
      "indoorAtmo-outdoorAtmo_50_bin_indoorHum-outdoorHum_max done\n",
      "indoorAtmo-outdoorAtmo_50_bin_indoorHum-outdoorHum_min done\n",
      "indoorAtmo-outdoorAtmo_50_bin_indoorAtmo-outdoorAtmo_rate_median done\n"
     ]
    },
    {
     "name": "stderr",
     "output_type": "stream",
     "text": [
      " 69%|███████████████████████████████████████████████████████▎                        | 585/846 [00:12<00:05, 47.26it/s]"
     ]
    },
    {
     "name": "stdout",
     "output_type": "stream",
     "text": [
      "indoorAtmo-outdoorAtmo_50_bin_indoorAtmo-outdoorAtmo_rate_mean done\n",
      "indoorAtmo-outdoorAtmo_50_bin_indoorAtmo-outdoorAtmo_rate_max done\n",
      "indoorAtmo-outdoorAtmo_50_bin_indoorAtmo-outdoorAtmo_rate_min done\n",
      "indoorAtmo-outdoorAtmo_50_bin_indoorHum-outdoorHum_rate_median done\n",
      "indoorAtmo-outdoorAtmo_50_bin_indoorHum-outdoorHum_rate_mean done\n",
      "indoorAtmo-outdoorAtmo_50_bin_indoorHum-outdoorHum_rate_max done\n",
      "indoorAtmo-outdoorAtmo_50_bin_indoorHum-outdoorHum_rate_min done\n",
      "indoorHum-outdoorHum_50_bin_outdoorTemp_median done\n",
      "indoorHum-outdoorHum_50_bin_outdoorTemp_mean done\n",
      "indoorHum-outdoorHum_50_bin_outdoorTemp_max done\n"
     ]
    },
    {
     "name": "stderr",
     "output_type": "stream",
     "text": [
      " 70%|████████████████████████████████████████████████████████▎                       | 595/846 [00:12<00:05, 44.88it/s]"
     ]
    },
    {
     "name": "stdout",
     "output_type": "stream",
     "text": [
      "indoorHum-outdoorHum_50_bin_outdoorTemp_min done\n",
      "indoorHum-outdoorHum_50_bin_indoorAtmo-outdoorAtmo_median done\n",
      "indoorHum-outdoorHum_50_bin_indoorAtmo-outdoorAtmo_mean done\n",
      "indoorHum-outdoorHum_50_bin_indoorAtmo-outdoorAtmo_max done\n",
      "indoorHum-outdoorHum_50_bin_indoorAtmo-outdoorAtmo_min done\n",
      "indoorHum-outdoorHum_50_bin_indoorHum-outdoorHum_median done\n",
      "indoorHum-outdoorHum_50_bin_indoorHum-outdoorHum_mean done\n",
      "indoorHum-outdoorHum_50_bin_indoorHum-outdoorHum_max done\n",
      "indoorHum-outdoorHum_50_bin_indoorHum-outdoorHum_min done\n"
     ]
    },
    {
     "name": "stderr",
     "output_type": "stream",
     "text": [
      " 72%|█████████████████████████████████████████████████████████▏                      | 605/846 [00:12<00:05, 42.75it/s]"
     ]
    },
    {
     "name": "stdout",
     "output_type": "stream",
     "text": [
      "indoorHum-outdoorHum_50_bin_indoorAtmo-outdoorAtmo_rate_median done\n",
      "indoorHum-outdoorHum_50_bin_indoorAtmo-outdoorAtmo_rate_mean done\n",
      "indoorHum-outdoorHum_50_bin_indoorAtmo-outdoorAtmo_rate_max done\n",
      "indoorHum-outdoorHum_50_bin_indoorAtmo-outdoorAtmo_rate_min done\n",
      "indoorHum-outdoorHum_50_bin_indoorHum-outdoorHum_rate_median done\n",
      "indoorHum-outdoorHum_50_bin_indoorHum-outdoorHum_rate_mean done\n",
      "indoorHum-outdoorHum_50_bin_indoorHum-outdoorHum_rate_max done\n",
      "indoorHum-outdoorHum_50_bin_indoorHum-outdoorHum_rate_min done\n",
      "indoorAtmo-outdoorAtmo_rate_50_bin_outdoorTemp_median done\n"
     ]
    },
    {
     "name": "stderr",
     "output_type": "stream",
     "text": [
      " 73%|██████████████████████████████████████████████████████████▎                     | 616/846 [00:12<00:04, 46.92it/s]"
     ]
    },
    {
     "name": "stdout",
     "output_type": "stream",
     "text": [
      "indoorAtmo-outdoorAtmo_rate_50_bin_outdoorTemp_mean done\n",
      "indoorAtmo-outdoorAtmo_rate_50_bin_outdoorTemp_max done\n",
      "indoorAtmo-outdoorAtmo_rate_50_bin_outdoorTemp_min done\n",
      "indoorAtmo-outdoorAtmo_rate_50_bin_indoorAtmo-outdoorAtmo_median done\n",
      "indoorAtmo-outdoorAtmo_rate_50_bin_indoorAtmo-outdoorAtmo_mean done\n",
      "indoorAtmo-outdoorAtmo_rate_50_bin_indoorAtmo-outdoorAtmo_max done\n",
      "indoorAtmo-outdoorAtmo_rate_50_bin_indoorAtmo-outdoorAtmo_min done\n",
      "indoorAtmo-outdoorAtmo_rate_50_bin_indoorHum-outdoorHum_median done\n",
      "indoorAtmo-outdoorAtmo_rate_50_bin_indoorHum-outdoorHum_mean done\n",
      "indoorAtmo-outdoorAtmo_rate_50_bin_indoorHum-outdoorHum_max done\n",
      "indoorAtmo-outdoorAtmo_rate_50_bin_indoorHum-outdoorHum_min done\n"
     ]
    },
    {
     "name": "stderr",
     "output_type": "stream",
     "text": [
      " 74%|███████████████████████████████████████████████████████████▍                    | 628/846 [00:13<00:04, 50.39it/s]"
     ]
    },
    {
     "name": "stdout",
     "output_type": "stream",
     "text": [
      "indoorAtmo-outdoorAtmo_rate_50_bin_indoorAtmo-outdoorAtmo_rate_median done\n",
      "indoorAtmo-outdoorAtmo_rate_50_bin_indoorAtmo-outdoorAtmo_rate_mean done\n",
      "indoorAtmo-outdoorAtmo_rate_50_bin_indoorAtmo-outdoorAtmo_rate_max done\n",
      "indoorAtmo-outdoorAtmo_rate_50_bin_indoorAtmo-outdoorAtmo_rate_min done\n",
      "indoorAtmo-outdoorAtmo_rate_50_bin_indoorHum-outdoorHum_rate_median done\n",
      "indoorAtmo-outdoorAtmo_rate_50_bin_indoorHum-outdoorHum_rate_mean done\n",
      "indoorAtmo-outdoorAtmo_rate_50_bin_indoorHum-outdoorHum_rate_max done\n",
      "indoorAtmo-outdoorAtmo_rate_50_bin_indoorHum-outdoorHum_rate_min done\n",
      "indoorHum-outdoorHum_rate_50_bin_outdoorTemp_median done\n",
      "indoorHum-outdoorHum_rate_50_bin_outdoorTemp_mean done\n",
      "indoorHum-outdoorHum_rate_50_bin_outdoorTemp_max done\n"
     ]
    },
    {
     "name": "stderr",
     "output_type": "stream",
     "text": [
      " 76%|████████████████████████████████████████████████████████████▌                   | 640/846 [00:13<00:03, 53.94it/s]"
     ]
    },
    {
     "name": "stdout",
     "output_type": "stream",
     "text": [
      "indoorHum-outdoorHum_rate_50_bin_outdoorTemp_min done\n",
      "indoorHum-outdoorHum_rate_50_bin_indoorAtmo-outdoorAtmo_median done\n",
      "indoorHum-outdoorHum_rate_50_bin_indoorAtmo-outdoorAtmo_mean done\n",
      "indoorHum-outdoorHum_rate_50_bin_indoorAtmo-outdoorAtmo_max done\n",
      "indoorHum-outdoorHum_rate_50_bin_indoorAtmo-outdoorAtmo_min done\n",
      "indoorHum-outdoorHum_rate_50_bin_indoorHum-outdoorHum_median done\n",
      "indoorHum-outdoorHum_rate_50_bin_indoorHum-outdoorHum_mean done\n",
      "indoorHum-outdoorHum_rate_50_bin_indoorHum-outdoorHum_max done\n",
      "indoorHum-outdoorHum_rate_50_bin_indoorHum-outdoorHum_min done\n",
      "indoorHum-outdoorHum_rate_50_bin_indoorAtmo-outdoorAtmo_rate_median done\n",
      "indoorHum-outdoorHum_rate_50_bin_indoorAtmo-outdoorAtmo_rate_mean done\n",
      "indoorHum-outdoorHum_rate_50_bin_indoorAtmo-outdoorAtmo_rate_max done\n"
     ]
    },
    {
     "name": "stderr",
     "output_type": "stream",
     "text": [
      "\r",
      " 76%|█████████████████████████████████████████████████████████████                   | 646/846 [00:13<00:03, 55.12it/s]"
     ]
    },
    {
     "name": "stdout",
     "output_type": "stream",
     "text": [
      "indoorHum-outdoorHum_rate_50_bin_indoorAtmo-outdoorAtmo_rate_min done\n",
      "indoorHum-outdoorHum_rate_50_bin_indoorHum-outdoorHum_rate_median done\n",
      "indoorHum-outdoorHum_rate_50_bin_indoorHum-outdoorHum_rate_mean done\n",
      "indoorHum-outdoorHum_rate_50_bin_indoorHum-outdoorHum_rate_max done\n",
      "indoorHum-outdoorHum_rate_50_bin_indoorHum-outdoorHum_rate_min done\n",
      "outdoorTemp_100_bin_outdoorTemp_median done\n",
      "outdoorTemp_100_bin_outdoorTemp_mean done\n",
      "outdoorTemp_100_bin_outdoorTemp_max done\n",
      "outdoorTemp_100_bin_outdoorTemp_min done\n",
      "outdoorTemp_100_bin_indoorAtmo-outdoorAtmo_median done\n"
     ]
    },
    {
     "name": "stderr",
     "output_type": "stream",
     "text": [
      " 78%|██████████████████████████████████████████████████████████████▏                 | 658/846 [00:13<00:03, 47.38it/s]"
     ]
    },
    {
     "name": "stdout",
     "output_type": "stream",
     "text": [
      "outdoorTemp_100_bin_indoorAtmo-outdoorAtmo_mean done\n",
      "outdoorTemp_100_bin_indoorAtmo-outdoorAtmo_max done\n",
      "outdoorTemp_100_bin_indoorAtmo-outdoorAtmo_min done\n",
      "outdoorTemp_100_bin_indoorHum-outdoorHum_median done\n",
      "outdoorTemp_100_bin_indoorHum-outdoorHum_mean done\n",
      "outdoorTemp_100_bin_indoorHum-outdoorHum_max done\n",
      "outdoorTemp_100_bin_indoorHum-outdoorHum_min done\n",
      "outdoorTemp_100_bin_indoorAtmo-outdoorAtmo_rate_median done\n",
      "outdoorTemp_100_bin_indoorAtmo-outdoorAtmo_rate_mean done\n"
     ]
    },
    {
     "name": "stderr",
     "output_type": "stream",
     "text": [
      " 79%|███████████████████████████████████████████████████████████████▏                | 668/846 [00:13<00:03, 45.31it/s]"
     ]
    },
    {
     "name": "stdout",
     "output_type": "stream",
     "text": [
      "outdoorTemp_100_bin_indoorAtmo-outdoorAtmo_rate_max done\n",
      "outdoorTemp_100_bin_indoorAtmo-outdoorAtmo_rate_min done\n",
      "outdoorTemp_100_bin_indoorHum-outdoorHum_rate_median done\n",
      "outdoorTemp_100_bin_indoorHum-outdoorHum_rate_mean done\n",
      "outdoorTemp_100_bin_indoorHum-outdoorHum_rate_max done\n",
      "outdoorTemp_100_bin_indoorHum-outdoorHum_rate_min done\n",
      "indoorAtmo-outdoorAtmo_100_bin_outdoorTemp_median done\n",
      "indoorAtmo-outdoorAtmo_100_bin_outdoorTemp_mean done\n",
      "indoorAtmo-outdoorAtmo_100_bin_outdoorTemp_max done\n",
      "indoorAtmo-outdoorAtmo_100_bin_outdoorTemp_min done\n"
     ]
    },
    {
     "name": "stderr",
     "output_type": "stream",
     "text": [
      " 80%|████████████████████████████████████████████████████████████████▎               | 680/846 [00:14<00:03, 48.65it/s]"
     ]
    },
    {
     "name": "stdout",
     "output_type": "stream",
     "text": [
      "indoorAtmo-outdoorAtmo_100_bin_indoorAtmo-outdoorAtmo_median done\n",
      "indoorAtmo-outdoorAtmo_100_bin_indoorAtmo-outdoorAtmo_mean done\n",
      "indoorAtmo-outdoorAtmo_100_bin_indoorAtmo-outdoorAtmo_max done\n",
      "indoorAtmo-outdoorAtmo_100_bin_indoorAtmo-outdoorAtmo_min done\n",
      "indoorAtmo-outdoorAtmo_100_bin_indoorHum-outdoorHum_median done\n",
      "indoorAtmo-outdoorAtmo_100_bin_indoorHum-outdoorHum_mean done\n",
      "indoorAtmo-outdoorAtmo_100_bin_indoorHum-outdoorHum_max done\n",
      "indoorAtmo-outdoorAtmo_100_bin_indoorHum-outdoorHum_min done\n",
      "indoorAtmo-outdoorAtmo_100_bin_indoorAtmo-outdoorAtmo_rate_median done\n",
      "indoorAtmo-outdoorAtmo_100_bin_indoorAtmo-outdoorAtmo_rate_mean done\n",
      "indoorAtmo-outdoorAtmo_100_bin_indoorAtmo-outdoorAtmo_rate_max done\n"
     ]
    },
    {
     "name": "stderr",
     "output_type": "stream",
     "text": [
      " 82%|█████████████████████████████████████████████████████████████████▏              | 690/846 [00:14<00:03, 46.34it/s]"
     ]
    },
    {
     "name": "stdout",
     "output_type": "stream",
     "text": [
      "indoorAtmo-outdoorAtmo_100_bin_indoorAtmo-outdoorAtmo_rate_min done\n",
      "indoorAtmo-outdoorAtmo_100_bin_indoorHum-outdoorHum_rate_median done\n",
      "indoorAtmo-outdoorAtmo_100_bin_indoorHum-outdoorHum_rate_mean done\n",
      "indoorAtmo-outdoorAtmo_100_bin_indoorHum-outdoorHum_rate_max done\n",
      "indoorAtmo-outdoorAtmo_100_bin_indoorHum-outdoorHum_rate_min done\n",
      "indoorHum-outdoorHum_100_bin_outdoorTemp_median done\n",
      "indoorHum-outdoorHum_100_bin_outdoorTemp_mean done\n",
      "indoorHum-outdoorHum_100_bin_outdoorTemp_max done\n",
      "indoorHum-outdoorHum_100_bin_outdoorTemp_min done\n"
     ]
    },
    {
     "name": "stderr",
     "output_type": "stream",
     "text": [
      "\r",
      " 82%|█████████████████████████████████████████████████████████████████▋              | 695/846 [00:14<00:03, 44.63it/s]"
     ]
    },
    {
     "name": "stdout",
     "output_type": "stream",
     "text": [
      "indoorHum-outdoorHum_100_bin_indoorAtmo-outdoorAtmo_median done\n",
      "indoorHum-outdoorHum_100_bin_indoorAtmo-outdoorAtmo_mean done\n",
      "indoorHum-outdoorHum_100_bin_indoorAtmo-outdoorAtmo_max done\n",
      "indoorHum-outdoorHum_100_bin_indoorAtmo-outdoorAtmo_min done\n",
      "indoorHum-outdoorHum_100_bin_indoorHum-outdoorHum_median done\n",
      "indoorHum-outdoorHum_100_bin_indoorHum-outdoorHum_mean done\n",
      "indoorHum-outdoorHum_100_bin_indoorHum-outdoorHum_max done\n",
      "indoorHum-outdoorHum_100_bin_indoorHum-outdoorHum_min done\n",
      "indoorHum-outdoorHum_100_bin_indoorAtmo-outdoorAtmo_rate_median done\n"
     ]
    },
    {
     "name": "stderr",
     "output_type": "stream",
     "text": [
      " 83%|██████████████████████████████████████████████████████████████████▋             | 705/846 [00:14<00:03, 43.24it/s]"
     ]
    },
    {
     "name": "stdout",
     "output_type": "stream",
     "text": [
      "indoorHum-outdoorHum_100_bin_indoorAtmo-outdoorAtmo_rate_mean done\n",
      "indoorHum-outdoorHum_100_bin_indoorAtmo-outdoorAtmo_rate_max done\n",
      "indoorHum-outdoorHum_100_bin_indoorAtmo-outdoorAtmo_rate_min done\n",
      "indoorHum-outdoorHum_100_bin_indoorHum-outdoorHum_rate_median done\n",
      "indoorHum-outdoorHum_100_bin_indoorHum-outdoorHum_rate_mean done\n",
      "indoorHum-outdoorHum_100_bin_indoorHum-outdoorHum_rate_max done\n",
      "indoorHum-outdoorHum_100_bin_indoorHum-outdoorHum_rate_min done\n",
      "indoorAtmo-outdoorAtmo_rate_100_bin_outdoorTemp_median done\n",
      "indoorAtmo-outdoorAtmo_rate_100_bin_outdoorTemp_mean done\n"
     ]
    },
    {
     "name": "stderr",
     "output_type": "stream",
     "text": [
      " 85%|███████████████████████████████████████████████████████████████████▊            | 717/846 [00:14<00:02, 47.76it/s]"
     ]
    },
    {
     "name": "stdout",
     "output_type": "stream",
     "text": [
      "indoorAtmo-outdoorAtmo_rate_100_bin_outdoorTemp_max done\n",
      "indoorAtmo-outdoorAtmo_rate_100_bin_outdoorTemp_min done\n",
      "indoorAtmo-outdoorAtmo_rate_100_bin_indoorAtmo-outdoorAtmo_median done\n",
      "indoorAtmo-outdoorAtmo_rate_100_bin_indoorAtmo-outdoorAtmo_mean done\n",
      "indoorAtmo-outdoorAtmo_rate_100_bin_indoorAtmo-outdoorAtmo_max done\n",
      "indoorAtmo-outdoorAtmo_rate_100_bin_indoorAtmo-outdoorAtmo_min done\n",
      "indoorAtmo-outdoorAtmo_rate_100_bin_indoorHum-outdoorHum_median done\n",
      "indoorAtmo-outdoorAtmo_rate_100_bin_indoorHum-outdoorHum_mean done\n",
      "indoorAtmo-outdoorAtmo_rate_100_bin_indoorHum-outdoorHum_max done\n",
      "indoorAtmo-outdoorAtmo_rate_100_bin_indoorHum-outdoorHum_min done\n",
      "indoorAtmo-outdoorAtmo_rate_100_bin_indoorAtmo-outdoorAtmo_rate_median done\n"
     ]
    },
    {
     "name": "stderr",
     "output_type": "stream",
     "text": [
      " 86%|████████████████████████████████████████████████████████████████████▉           | 729/846 [00:15<00:02, 51.30it/s]"
     ]
    },
    {
     "name": "stdout",
     "output_type": "stream",
     "text": [
      "indoorAtmo-outdoorAtmo_rate_100_bin_indoorAtmo-outdoorAtmo_rate_mean done\n",
      "indoorAtmo-outdoorAtmo_rate_100_bin_indoorAtmo-outdoorAtmo_rate_max done\n",
      "indoorAtmo-outdoorAtmo_rate_100_bin_indoorAtmo-outdoorAtmo_rate_min done\n",
      "indoorAtmo-outdoorAtmo_rate_100_bin_indoorHum-outdoorHum_rate_median done\n",
      "indoorAtmo-outdoorAtmo_rate_100_bin_indoorHum-outdoorHum_rate_mean done\n",
      "indoorAtmo-outdoorAtmo_rate_100_bin_indoorHum-outdoorHum_rate_max done\n",
      "indoorAtmo-outdoorAtmo_rate_100_bin_indoorHum-outdoorHum_rate_min done\n",
      "indoorHum-outdoorHum_rate_100_bin_outdoorTemp_median done\n",
      "indoorHum-outdoorHum_rate_100_bin_outdoorTemp_mean done\n",
      "indoorHum-outdoorHum_rate_100_bin_outdoorTemp_max done\n",
      "indoorHum-outdoorHum_rate_100_bin_outdoorTemp_min "
     ]
    },
    {
     "name": "stderr",
     "output_type": "stream",
     "text": [
      " 88%|██████████████████████████████████████████████████████████████████████          | 741/846 [00:15<00:01, 54.11it/s]"
     ]
    },
    {
     "name": "stdout",
     "output_type": "stream",
     "text": [
      "done\n",
      "indoorHum-outdoorHum_rate_100_bin_indoorAtmo-outdoorAtmo_median done\n",
      "indoorHum-outdoorHum_rate_100_bin_indoorAtmo-outdoorAtmo_mean done\n",
      "indoorHum-outdoorHum_rate_100_bin_indoorAtmo-outdoorAtmo_max done\n",
      "indoorHum-outdoorHum_rate_100_bin_indoorAtmo-outdoorAtmo_min done\n",
      "indoorHum-outdoorHum_rate_100_bin_indoorHum-outdoorHum_median done\n",
      "indoorHum-outdoorHum_rate_100_bin_indoorHum-outdoorHum_mean done\n",
      "indoorHum-outdoorHum_rate_100_bin_indoorHum-outdoorHum_max done\n",
      "indoorHum-outdoorHum_rate_100_bin_indoorHum-outdoorHum_min done\n",
      "indoorHum-outdoorHum_rate_100_bin_indoorAtmo-outdoorAtmo_rate_median done\n",
      "indoorHum-outdoorHum_rate_100_bin_indoorAtmo-outdoorAtmo_rate_mean done\n",
      "indoorHum-outdoorHum_rate_100_bin_indoorAtmo-outdoorAtmo_rate_max done\n"
     ]
    },
    {
     "name": "stderr",
     "output_type": "stream",
     "text": [
      "\r",
      " 88%|██████████████████████████████████████████████████████████████████████▋         | 747/846 [00:15<00:01, 54.14it/s]"
     ]
    },
    {
     "name": "stdout",
     "output_type": "stream",
     "text": [
      "indoorHum-outdoorHum_rate_100_bin_indoorAtmo-outdoorAtmo_rate_min done\n",
      "indoorHum-outdoorHum_rate_100_bin_indoorHum-outdoorHum_rate_median done\n",
      "indoorHum-outdoorHum_rate_100_bin_indoorHum-outdoorHum_rate_mean done\n",
      "indoorHum-outdoorHum_rate_100_bin_indoorHum-outdoorHum_rate_max done\n",
      "indoorHum-outdoorHum_rate_100_bin_indoorHum-outdoorHum_rate_min done\n",
      "outdoorTemp_200_bin_outdoorTemp_median done\n",
      "outdoorTemp_200_bin_outdoorTemp_mean done\n",
      "outdoorTemp_200_bin_outdoorTemp_max done\n",
      "outdoorTemp_200_bin_outdoorTemp_min done\n",
      "outdoorTemp_200_bin_indoorAtmo-outdoorAtmo_median done\n"
     ]
    },
    {
     "name": "stderr",
     "output_type": "stream",
     "text": [
      " 90%|███████████████████████████████████████████████████████████████████████▊        | 759/846 [00:15<00:01, 47.49it/s]"
     ]
    },
    {
     "name": "stdout",
     "output_type": "stream",
     "text": [
      "outdoorTemp_200_bin_indoorAtmo-outdoorAtmo_mean done\n",
      "outdoorTemp_200_bin_indoorAtmo-outdoorAtmo_max done\n",
      "outdoorTemp_200_bin_indoorAtmo-outdoorAtmo_min done\n",
      "outdoorTemp_200_bin_indoorHum-outdoorHum_median done\n",
      "outdoorTemp_200_bin_indoorHum-outdoorHum_mean done\n",
      "outdoorTemp_200_bin_indoorHum-outdoorHum_max done\n",
      "outdoorTemp_200_bin_indoorHum-outdoorHum_min done\n",
      "outdoorTemp_200_bin_indoorAtmo-outdoorAtmo_rate_median done\n",
      "outdoorTemp_200_bin_indoorAtmo-outdoorAtmo_rate_mean done\n"
     ]
    },
    {
     "name": "stderr",
     "output_type": "stream",
     "text": [
      " 91%|████████████████████████████████████████████████████████████████████████▋       | 769/846 [00:15<00:01, 45.97it/s]"
     ]
    },
    {
     "name": "stdout",
     "output_type": "stream",
     "text": [
      "outdoorTemp_200_bin_indoorAtmo-outdoorAtmo_rate_max done\n",
      "outdoorTemp_200_bin_indoorAtmo-outdoorAtmo_rate_min done\n",
      "outdoorTemp_200_bin_indoorHum-outdoorHum_rate_median done\n",
      "outdoorTemp_200_bin_indoorHum-outdoorHum_rate_mean done\n",
      "outdoorTemp_200_bin_indoorHum-outdoorHum_rate_max done\n",
      "outdoorTemp_200_bin_indoorHum-outdoorHum_rate_min done\n",
      "indoorAtmo-outdoorAtmo_200_bin_outdoorTemp_median done\n",
      "indoorAtmo-outdoorAtmo_200_bin_outdoorTemp_mean done\n",
      "indoorAtmo-outdoorAtmo_200_bin_outdoorTemp_max done\n"
     ]
    },
    {
     "name": "stderr",
     "output_type": "stream",
     "text": [
      "\r",
      " 92%|█████████████████████████████████████████████████████████████████████████▎      | 775/846 [00:16<00:01, 47.70it/s]"
     ]
    },
    {
     "name": "stdout",
     "output_type": "stream",
     "text": [
      "indoorAtmo-outdoorAtmo_200_bin_outdoorTemp_min done\n",
      "indoorAtmo-outdoorAtmo_200_bin_indoorAtmo-outdoorAtmo_median done\n",
      "indoorAtmo-outdoorAtmo_200_bin_indoorAtmo-outdoorAtmo_mean done\n",
      "indoorAtmo-outdoorAtmo_200_bin_indoorAtmo-outdoorAtmo_max done\n",
      "indoorAtmo-outdoorAtmo_200_bin_indoorAtmo-outdoorAtmo_min done\n",
      "indoorAtmo-outdoorAtmo_200_bin_indoorHum-outdoorHum_median done\n",
      "indoorAtmo-outdoorAtmo_200_bin_indoorHum-outdoorHum_mean done\n",
      "indoorAtmo-outdoorAtmo_200_bin_indoorHum-outdoorHum_max done\n",
      "indoorAtmo-outdoorAtmo_200_bin_indoorHum-outdoorHum_min done\n",
      "indoorAtmo-outdoorAtmo_200_bin_indoorAtmo-outdoorAtmo_rate_median done\n",
      "indoorAtmo-outdoorAtmo_200_bin_indoorAtmo-outdoorAtmo_rate_mean done\n"
     ]
    },
    {
     "name": "stderr",
     "output_type": "stream",
     "text": [
      " 93%|██████████████████████████████████████████████████████████████████████████▎     | 786/846 [00:16<00:01, 48.77it/s]"
     ]
    },
    {
     "name": "stdout",
     "output_type": "stream",
     "text": [
      "indoorAtmo-outdoorAtmo_200_bin_indoorAtmo-outdoorAtmo_rate_max done\n",
      "indoorAtmo-outdoorAtmo_200_bin_indoorAtmo-outdoorAtmo_rate_min done\n",
      "indoorAtmo-outdoorAtmo_200_bin_indoorHum-outdoorHum_rate_median done\n",
      "indoorAtmo-outdoorAtmo_200_bin_indoorHum-outdoorHum_rate_mean done\n",
      "indoorAtmo-outdoorAtmo_200_bin_indoorHum-outdoorHum_rate_max done\n",
      "indoorAtmo-outdoorAtmo_200_bin_indoorHum-outdoorHum_rate_min done\n",
      "indoorHum-outdoorHum_200_bin_outdoorTemp_median done\n",
      "indoorHum-outdoorHum_200_bin_outdoorTemp_mean done\n",
      "indoorHum-outdoorHum_200_bin_outdoorTemp_max done\n",
      "indoorHum-outdoorHum_200_bin_outdoorTemp_min done\n"
     ]
    },
    {
     "name": "stderr",
     "output_type": "stream",
     "text": [
      " 94%|███████████████████████████████████████████████████████████████████████████▎    | 796/846 [00:16<00:01, 44.24it/s]"
     ]
    },
    {
     "name": "stdout",
     "output_type": "stream",
     "text": [
      "indoorHum-outdoorHum_200_bin_indoorAtmo-outdoorAtmo_median done\n",
      "indoorHum-outdoorHum_200_bin_indoorAtmo-outdoorAtmo_mean done\n",
      "indoorHum-outdoorHum_200_bin_indoorAtmo-outdoorAtmo_max done\n",
      "indoorHum-outdoorHum_200_bin_indoorAtmo-outdoorAtmo_min done\n",
      "indoorHum-outdoorHum_200_bin_indoorHum-outdoorHum_median done\n",
      "indoorHum-outdoorHum_200_bin_indoorHum-outdoorHum_mean done\n",
      "indoorHum-outdoorHum_200_bin_indoorHum-outdoorHum_max done\n",
      "indoorHum-outdoorHum_200_bin_indoorHum-outdoorHum_min done\n",
      "indoorHum-outdoorHum_200_bin_indoorAtmo-outdoorAtmo_rate_median done\n"
     ]
    },
    {
     "name": "stderr",
     "output_type": "stream",
     "text": [
      " 95%|████████████████████████████████████████████████████████████████████████████▏   | 806/846 [00:16<00:00, 42.72it/s]"
     ]
    },
    {
     "name": "stdout",
     "output_type": "stream",
     "text": [
      "indoorHum-outdoorHum_200_bin_indoorAtmo-outdoorAtmo_rate_mean done\n",
      "indoorHum-outdoorHum_200_bin_indoorAtmo-outdoorAtmo_rate_max done\n",
      "indoorHum-outdoorHum_200_bin_indoorAtmo-outdoorAtmo_rate_min done\n",
      "indoorHum-outdoorHum_200_bin_indoorHum-outdoorHum_rate_median done\n",
      "indoorHum-outdoorHum_200_bin_indoorHum-outdoorHum_rate_mean done\n",
      "indoorHum-outdoorHum_200_bin_indoorHum-outdoorHum_rate_max done\n",
      "indoorHum-outdoorHum_200_bin_indoorHum-outdoorHum_rate_min done\n",
      "indoorAtmo-outdoorAtmo_rate_200_bin_outdoorTemp_median done\n",
      "indoorAtmo-outdoorAtmo_rate_200_bin_outdoorTemp_mean done\n"
     ]
    },
    {
     "name": "stderr",
     "output_type": "stream",
     "text": [
      " 97%|█████████████████████████████████████████████████████████████████████████████▎  | 818/846 [00:16<00:00, 47.93it/s]"
     ]
    },
    {
     "name": "stdout",
     "output_type": "stream",
     "text": [
      "indoorAtmo-outdoorAtmo_rate_200_bin_outdoorTemp_max done\n",
      "indoorAtmo-outdoorAtmo_rate_200_bin_outdoorTemp_min done\n",
      "indoorAtmo-outdoorAtmo_rate_200_bin_indoorAtmo-outdoorAtmo_median done\n",
      "indoorAtmo-outdoorAtmo_rate_200_bin_indoorAtmo-outdoorAtmo_mean done\n",
      "indoorAtmo-outdoorAtmo_rate_200_bin_indoorAtmo-outdoorAtmo_max done\n",
      "indoorAtmo-outdoorAtmo_rate_200_bin_indoorAtmo-outdoorAtmo_min done\n",
      "indoorAtmo-outdoorAtmo_rate_200_bin_indoorHum-outdoorHum_median done\n",
      "indoorAtmo-outdoorAtmo_rate_200_bin_indoorHum-outdoorHum_mean done\n",
      "indoorAtmo-outdoorAtmo_rate_200_bin_indoorHum-outdoorHum_max done\n",
      "indoorAtmo-outdoorAtmo_rate_200_bin_indoorHum-outdoorHum_min done\n",
      "indoorAtmo-outdoorAtmo_rate_200_bin_indoorAtmo-outdoorAtmo_rate_median done\n"
     ]
    },
    {
     "name": "stderr",
     "output_type": "stream",
     "text": [
      " 98%|██████████████████████████████████████████████████████████████████████████████▍ | 830/846 [00:17<00:00, 51.35it/s]"
     ]
    },
    {
     "name": "stdout",
     "output_type": "stream",
     "text": [
      "indoorAtmo-outdoorAtmo_rate_200_bin_indoorAtmo-outdoorAtmo_rate_mean done\n",
      "indoorAtmo-outdoorAtmo_rate_200_bin_indoorAtmo-outdoorAtmo_rate_max done\n",
      "indoorAtmo-outdoorAtmo_rate_200_bin_indoorAtmo-outdoorAtmo_rate_min done\n",
      "indoorAtmo-outdoorAtmo_rate_200_bin_indoorHum-outdoorHum_rate_median done\n",
      "indoorAtmo-outdoorAtmo_rate_200_bin_indoorHum-outdoorHum_rate_mean done\n",
      "indoorAtmo-outdoorAtmo_rate_200_bin_indoorHum-outdoorHum_rate_max done\n",
      "indoorAtmo-outdoorAtmo_rate_200_bin_indoorHum-outdoorHum_rate_min done\n",
      "indoorHum-outdoorHum_rate_200_bin_outdoorTemp_median done\n",
      "indoorHum-outdoorHum_rate_200_bin_outdoorTemp_mean done\n",
      "indoorHum-outdoorHum_rate_200_bin_outdoorTemp_max done\n",
      "indoorHum-outdoorHum_rate_200_bin_outdoorTemp_min done\n"
     ]
    },
    {
     "name": "stderr",
     "output_type": "stream",
     "text": [
      "100%|███████████████████████████████████████████████████████████████████████████████▌| 842/846 [00:17<00:00, 53.44it/s]"
     ]
    },
    {
     "name": "stdout",
     "output_type": "stream",
     "text": [
      "indoorHum-outdoorHum_rate_200_bin_indoorAtmo-outdoorAtmo_median done\n",
      "indoorHum-outdoorHum_rate_200_bin_indoorAtmo-outdoorAtmo_mean done\n",
      "indoorHum-outdoorHum_rate_200_bin_indoorAtmo-outdoorAtmo_max done\n",
      "indoorHum-outdoorHum_rate_200_bin_indoorAtmo-outdoorAtmo_min done\n",
      "indoorHum-outdoorHum_rate_200_bin_indoorHum-outdoorHum_median done\n",
      "indoorHum-outdoorHum_rate_200_bin_indoorHum-outdoorHum_mean done\n",
      "indoorHum-outdoorHum_rate_200_bin_indoorHum-outdoorHum_max done\n",
      "indoorHum-outdoorHum_rate_200_bin_indoorHum-outdoorHum_min done\n",
      "indoorHum-outdoorHum_rate_200_bin_indoorAtmo-outdoorAtmo_rate_median done\n",
      "indoorHum-outdoorHum_rate_200_bin_indoorAtmo-outdoorAtmo_rate_mean done\n",
      "indoorHum-outdoorHum_rate_200_bin_indoorAtmo-outdoorAtmo_rate_max done\n",
      "indoorHum-outdoorHum_rate_200_bin_indoorAtmo-outdoorAtmo_rate_min done\n"
     ]
    },
    {
     "name": "stderr",
     "output_type": "stream",
     "text": [
      "\r",
      "100%|████████████████████████████████████████████████████████████████████████████████| 846/846 [00:17<00:00, 48.38it/s]"
     ]
    },
    {
     "name": "stdout",
     "output_type": "stream",
     "text": [
      "indoorHum-outdoorHum_rate_200_bin_indoorHum-outdoorHum_rate_median done\n",
      "indoorHum-outdoorHum_rate_200_bin_indoorHum-outdoorHum_rate_mean done\n",
      "indoorHum-outdoorHum_rate_200_bin_indoorHum-outdoorHum_rate_max done\n",
      "indoorHum-outdoorHum_rate_200_bin_indoorHum-outdoorHum_rate_min done\n"
     ]
    },
    {
     "name": "stderr",
     "output_type": "stream",
     "text": [
      "\n"
     ]
    }
   ],
   "source": [
    "psi_res, psi_dict = get_psi(x_train, x_test, features)\n",
    "features = list(psi_res[psi_res['PSI'] <= 0.2]['变量名'].values) + ['outdoorTemp']"
   ]
  },
  {
   "cell_type": "code",
   "execution_count": 22,
   "metadata": {
    "ExecuteTime": {
     "end_time": "2020-07-28T08:11:40.749259Z",
     "start_time": "2020-07-28T08:11:40.686917Z"
    }
   },
   "outputs": [],
   "source": [
    "x_train = train[features]\n",
    "x_test = test[features]"
   ]
  },
  {
   "cell_type": "code",
   "execution_count": 23,
   "metadata": {
    "ExecuteTime": {
     "end_time": "2020-07-28T08:15:11.120323Z",
     "start_time": "2020-07-28T08:11:40.752251Z"
    }
   },
   "outputs": [
    {
     "name": "stdout",
     "output_type": "stream",
     "text": [
      "[0]\ttrain-mae:0.57984\teval-mae:0.31204\n",
      "Multiple eval metrics have been passed: 'eval-mae' will be used for early stopping.\n",
      "\n",
      "Will train until eval-mae hasn't improved in 1000 rounds.\n",
      "[500]\ttrain-mae:0.02333\teval-mae:0.15558\n",
      "[1000]\ttrain-mae:0.01332\teval-mae:0.15568\n",
      "[1500]\ttrain-mae:0.00905\teval-mae:0.15623\n",
      "Stopping. Best iteration:\n",
      "[582]\ttrain-mae:0.02093\teval-mae:0.15548\n",
      "\n"
     ]
    }
   ],
   "source": [
    "nums = int(x_train.shape[0] * 0.8)\n",
    "\n",
    "trn_x, trn_y, val_x, val_y = x_train[:nums], y_train[:nums], x_train[nums:], y_train[nums:]\n",
    "\n",
    "train_matrix = xgb.DMatrix(trn_x, label=trn_y, missing=np.nan)\n",
    "valid_matrix = xgb.DMatrix(val_x, label=val_y, missing=np.nan)\n",
    "test_matrix = xgb.DMatrix(x_test, label=val_y, missing=np.nan)\n",
    "params = {\n",
    "    'booster': 'gbtree',\n",
    "    'eval_metric': 'mae',\n",
    "    'min_child_weight': 5,\n",
    "    'max_depth': 8,\n",
    "    'subsample': 0.5,\n",
    "    'colsample_bytree': 0.5,\n",
    "    'eta': 0.1,\n",
    "    'seed': 2020,\n",
    "    'nthread': 36,\n",
    "    'silent': True,\n",
    "}\n",
    "\n",
    "watchlist = [(train_matrix, 'train'), (valid_matrix, 'eval')]\n",
    "\n",
    "model = xgb.train(params,\n",
    "                  train_matrix,\n",
    "                  num_boost_round=50000,\n",
    "                  evals=watchlist,\n",
    "                  verbose_eval=500,\n",
    "                  early_stopping_rounds=1000)\n",
    "val_pred = model.predict(valid_matrix, ntree_limit=model.best_ntree_limit).reshape(-1, 1)\n",
    "test_pred = model.predict(test_matrix, ntree_limit=model.best_ntree_limit).reshape(-1, 1)"
   ]
  },
  {
   "cell_type": "code",
   "execution_count": 24,
   "metadata": {
    "ExecuteTime": {
     "end_time": "2020-07-28T08:15:11.141310Z",
     "start_time": "2020-07-28T08:15:11.123315Z"
    }
   },
   "outputs": [],
   "source": [
    "sub['temperature'] = test_pred[:, 0] + test['outdoorTemp'].values\n",
    "sub.to_csv('../sub/sub_diff.csv', index=False)"
   ]
  }
 ],
 "metadata": {
  "kernelspec": {
   "display_name": "Python 3",
   "language": "python",
   "name": "python3"
  },
  "language_info": {
   "codemirror_mode": {
    "name": "ipython",
    "version": 3
   },
   "file_extension": ".py",
   "mimetype": "text/x-python",
   "name": "python",
   "nbconvert_exporter": "python",
   "pygments_lexer": "ipython3",
   "version": "3.7.3"
  },
  "toc": {
   "base_numbering": 1,
   "nav_menu": {},
   "number_sections": true,
   "sideBar": true,
   "skip_h1_title": false,
   "title_cell": "Table of Contents",
   "title_sidebar": "Contents",
   "toc_cell": false,
   "toc_position": {},
   "toc_section_display": true,
   "toc_window_display": false
  },
  "varInspector": {
   "cols": {
    "lenName": 16,
    "lenType": 16,
    "lenVar": 40
   },
   "kernels_config": {
    "python": {
     "delete_cmd_postfix": "",
     "delete_cmd_prefix": "del ",
     "library": "var_list.py",
     "varRefreshCmd": "print(var_dic_list())"
    },
    "r": {
     "delete_cmd_postfix": ") ",
     "delete_cmd_prefix": "rm(",
     "library": "var_list.r",
     "varRefreshCmd": "cat(var_dic_list()) "
    }
   },
   "types_to_exclude": [
    "module",
    "function",
    "builtin_function_or_method",
    "instance",
    "_Feature"
   ],
   "window_display": false
  }
 },
 "nbformat": 4,
 "nbformat_minor": 4
}
