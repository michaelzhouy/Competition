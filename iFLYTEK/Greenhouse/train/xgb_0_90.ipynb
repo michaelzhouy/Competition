{
 "cells": [
  {
   "cell_type": "code",
   "execution_count": 1,
   "metadata": {
    "ExecuteTime": {
     "end_time": "2020-08-16T05:33:12.503184Z",
     "start_time": "2020-08-16T05:33:10.907188Z"
    }
   },
   "outputs": [],
   "source": [
    "import numpy as np\n",
    "import pandas as pd\n",
    "from datetime import datetime\n",
    "import os\n",
    "import gc\n",
    "import xgboost as xgb\n",
    "import math\n",
    "from joblib import Parallel, delayed\n",
    "\n",
    "from tqdm import tqdm\n",
    "from sklearn.model_selection import StratifiedKFold, KFold\n",
    "from sklearn.metrics import mean_absolute_error, mean_squared_error\n",
    "import matplotlib.pyplot as plt\n",
    "import time\n",
    "import warnings\n",
    "\n",
    "warnings.filterwarnings('ignore')\n",
    "\n",
    "pd.set_option('max_columns', None)\n",
    "pd.set_option('max_rows', None)"
   ]
  },
  {
   "cell_type": "code",
   "execution_count": 2,
   "metadata": {
    "ExecuteTime": {
     "end_time": "2020-08-16T05:33:12.510138Z",
     "start_time": "2020-08-16T05:33:12.504114Z"
    }
   },
   "outputs": [],
   "source": [
    "def correlation(df, threshold=0.98):\n",
    "    \"\"\"\n",
    "    特征相关性计算\n",
    "    @param df: \n",
    "    @param threshold: \n",
    "    @return: \n",
    "    \"\"\"\n",
    "    col_corr = set()\n",
    "    corr_matrix = df.corr()\n",
    "    for i in range(len(corr_matrix.columns)):\n",
    "        for j in range(i):\n",
    "            if abs(corr_matrix.iloc[i, j]) > threshold:\n",
    "                colName = corr_matrix.columns[i]\n",
    "                col_corr.add(colName)\n",
    "    return col_corr"
   ]
  },
  {
   "cell_type": "code",
   "execution_count": 3,
   "metadata": {
    "ExecuteTime": {
     "end_time": "2020-08-16T05:33:12.986216Z",
     "start_time": "2020-08-16T05:33:12.512092Z"
    }
   },
   "outputs": [],
   "source": [
    "# train_df = pd.read_hdf('../input/train.h5')\n",
    "test_df = pd.read_hdf('../input/test.h5')\n",
    "sub = pd.DataFrame(test_df['time'])"
   ]
  },
  {
   "cell_type": "code",
   "execution_count": 4,
   "metadata": {
    "ExecuteTime": {
     "end_time": "2020-08-16T05:33:13.025073Z",
     "start_time": "2020-08-16T05:33:12.987172Z"
    }
   },
   "outputs": [
    {
     "data": {
      "text/plain": [
       "31"
      ]
     },
     "execution_count": 4,
     "metadata": {},
     "output_type": "execute_result"
    }
   ],
   "source": [
    "# train_df = train_df[train_df['temperature'].notnull()]\n",
    "# train_df = train_df.fillna(method='bfill')\n",
    "test_df = test_df.fillna(method='bfill')\n",
    "gc.collect()"
   ]
  },
  {
   "cell_type": "code",
   "execution_count": 5,
   "metadata": {
    "ExecuteTime": {
     "end_time": "2020-08-16T05:33:13.031056Z",
     "start_time": "2020-08-16T05:33:13.027067Z"
    }
   },
   "outputs": [],
   "source": [
    "# train_df.columns = ['time', 'year', 'month', 'day', 'hour', 'min', 'sec', 'outdoorTemp', 'outdoorHum', 'outdoorAtmo',\n",
    "#                     'indoorHum', 'indoorAtmo', 'temperature']\n",
    "test_df.columns = ['time', 'year', 'month', 'day', 'hour', 'min', 'sec', 'outdoorTemp', 'outdoorHum', 'outdoorAtmo',\n",
    "                   'indoorHum', 'indoorAtmo']"
   ]
  },
  {
   "cell_type": "code",
   "execution_count": null,
   "metadata": {
    "ExecuteTime": {
     "start_time": "2020-08-16T05:33:10.901Z"
    }
   },
   "outputs": [],
   "source": [
    "x_train = pd.read_hdf('../input/train_features.h5')\n",
    "x_test = pd.read_hdf('../input/test_features.h5')\n",
    "y_train = pd.read_hdf('../input/y_train.h5')"
   ]
  },
  {
   "cell_type": "code",
   "execution_count": null,
   "metadata": {
    "ExecuteTime": {
     "start_time": "2020-08-16T05:33:10.902Z"
    }
   },
   "outputs": [],
   "source": [
    "col_corr = correlation(x_train, 0.98)\n",
    "# print(col_corr)"
   ]
  },
  {
   "cell_type": "code",
   "execution_count": null,
   "metadata": {
    "ExecuteTime": {
     "start_time": "2020-08-16T05:33:10.903Z"
    }
   },
   "outputs": [],
   "source": [
    "x_train.drop(list(col_corr), axis=1, inplace=True)\n",
    "x_test.drop(list(col_corr), axis=1, inplace=True)"
   ]
  },
  {
   "cell_type": "code",
   "execution_count": null,
   "metadata": {
    "ExecuteTime": {
     "start_time": "2020-08-16T05:33:10.904Z"
    }
   },
   "outputs": [],
   "source": [
    "x_train.to_hdf('../input/train_features_corr.h5', 'df')\n",
    "x_test.to_hdf('../input/test_features_corr.h5', 'df')"
   ]
  },
  {
   "cell_type": "code",
   "execution_count": null,
   "metadata": {
    "ExecuteTime": {
     "start_time": "2020-08-16T05:33:10.905Z"
    }
   },
   "outputs": [],
   "source": [
    "nums = int(x_train.shape[0] * 0.8)\n",
    "\n",
    "trn_x, trn_y, val_x, val_y = x_train[:nums], y_train[:nums], x_train[nums:], y_train[nums:]\n",
    "\n",
    "train_matrix = xgb.DMatrix(trn_x, label=trn_y, missing=np.nan)\n",
    "valid_matrix = xgb.DMatrix(val_x, label=val_y, missing=np.nan)\n",
    "train_all_matrix = xgb.DMatrix(x_train, y_train, missing=np.nan)\n",
    "test_matrix = xgb.DMatrix(x_test, label=val_y, missing=np.nan)\n",
    "\n",
    "params = {\n",
    "    'booster': 'gbtree',\n",
    "    'eval_metric': 'mae',\n",
    "    'min_child_weight': 5,\n",
    "    'max_depth': 8,\n",
    "    'subsample': 0.5,\n",
    "    'colsample_bytree': 0.5,\n",
    "    'eta': 0.01,\n",
    "    'seed': 2020,\n",
    "    'nthread': 36,\n",
    "    'silent': 1\n",
    "}\n",
    "\n",
    "watchlist = [(train_matrix, 'train'), (valid_matrix, 'eval')]\n",
    "\n",
    "model_eval = xgb.train(params,\n",
    "                       train_matrix,\n",
    "                       num_boost_round=50000,\n",
    "                       evals=watchlist,\n",
    "                       verbose_eval=500,\n",
    "                       early_stopping_rounds=1000)\n",
    "val_pred = model_eval.predict(valid_matrix, ntree_limit=model_eval.best_ntree_limit).reshape(-1, 1)"
   ]
  },
  {
   "cell_type": "code",
   "execution_count": null,
   "metadata": {
    "ExecuteTime": {
     "start_time": "2020-08-16T05:33:10.906Z"
    }
   },
   "outputs": [],
   "source": [
    "mse = mean_squared_error(val_y, val_pred)\n",
    "print(\"mse_score:\", mse)\n",
    "print(\"mse_score:\", str(mse)[2:7])"
   ]
  },
  {
   "cell_type": "code",
   "execution_count": null,
   "metadata": {
    "ExecuteTime": {
     "start_time": "2020-08-16T05:33:10.907Z"
    }
   },
   "outputs": [],
   "source": [
    "feat_imp_dict = model_eval.get_score(importance_type='gain')"
   ]
  },
  {
   "cell_type": "code",
   "execution_count": null,
   "metadata": {
    "ExecuteTime": {
     "start_time": "2020-08-16T05:33:10.909Z"
    }
   },
   "outputs": [],
   "source": [
    "feat_imp = pd.Series(feat_imp_dict).sort_values(ascending=False).reset_index().rename(columns={'index': 'feature',\n",
    "                                                                                               0: 'importance'})\n",
    "feat_imp['normalized_importance'] = feat_imp['importance'] / feat_imp['importance'].sum()\n",
    "feat_imp['cumulative_importance'] = np.cumsum(feat_imp['normalized_importance'])\n",
    "\n",
    "# feat_imp.to_csv('../input/feat_imp.csv', index=False)"
   ]
  },
  {
   "cell_type": "code",
   "execution_count": null,
   "metadata": {
    "ExecuteTime": {
     "start_time": "2020-08-16T05:33:10.910Z"
    }
   },
   "outputs": [],
   "source": [
    "record_low_importance = feat_imp[feat_imp['cumulative_importance'] > 0.90]\n",
    "to_drop = list(record_low_importance['feature'])\n",
    "print(to_drop)"
   ]
  },
  {
   "cell_type": "code",
   "execution_count": null,
   "metadata": {
    "ExecuteTime": {
     "start_time": "2020-08-16T05:33:10.911Z"
    }
   },
   "outputs": [],
   "source": [
    "x_train.drop(to_drop, axis=1, inplace=True)\n",
    "x_test.drop(to_drop, axis=1, inplace=True)\n",
    "gc.collect()"
   ]
  },
  {
   "cell_type": "code",
   "execution_count": null,
   "metadata": {
    "ExecuteTime": {
     "start_time": "2020-08-16T05:33:10.913Z"
    }
   },
   "outputs": [],
   "source": [
    "train_all_matrix = xgb.DMatrix(x_train, y_train, missing=np.nan)\n",
    "test_matrix = xgb.DMatrix(x_test, label=val_y, missing=np.nan)\n",
    "\n",
    "model = xgb.train(params,\n",
    "                  train_all_matrix,\n",
    "                  num_boost_round=model_eval.best_ntree_limit + 20)\n",
    "\n",
    "test_pred = model.predict(test_matrix, ntree_limit=model.best_ntree_limit).reshape(-1, 1)"
   ]
  },
  {
   "cell_type": "code",
   "execution_count": null,
   "metadata": {
    "ExecuteTime": {
     "start_time": "2020-08-16T05:33:10.914Z"
    }
   },
   "outputs": [],
   "source": [
    "sub['temperature'] = test_pred[:, 0] + test_df['outdoorTemp'].values\n",
    "sub.to_csv('../sub/sub_{}_{}.csv'.format(time.strftime('%Y%m%d'), str(mse)[2:7]), index=False)"
   ]
  }
 ],
 "metadata": {
  "kernelspec": {
   "display_name": "Python 3",
   "language": "python",
   "name": "python3"
  },
  "language_info": {
   "codemirror_mode": {
    "name": "ipython",
    "version": 3
   },
   "file_extension": ".py",
   "mimetype": "text/x-python",
   "name": "python",
   "nbconvert_exporter": "python",
   "pygments_lexer": "ipython3",
   "version": "3.7.3"
  },
  "toc": {
   "base_numbering": 1,
   "nav_menu": {},
   "number_sections": true,
   "sideBar": true,
   "skip_h1_title": false,
   "title_cell": "Table of Contents",
   "title_sidebar": "Contents",
   "toc_cell": false,
   "toc_position": {},
   "toc_section_display": true,
   "toc_window_display": false
  },
  "varInspector": {
   "cols": {
    "lenName": 16,
    "lenType": 16,
    "lenVar": 40
   },
   "kernels_config": {
    "python": {
     "delete_cmd_postfix": "",
     "delete_cmd_prefix": "del ",
     "library": "var_list.py",
     "varRefreshCmd": "print(var_dic_list())"
    },
    "r": {
     "delete_cmd_postfix": ") ",
     "delete_cmd_prefix": "rm(",
     "library": "var_list.r",
     "varRefreshCmd": "cat(var_dic_list()) "
    }
   },
   "types_to_exclude": [
    "module",
    "function",
    "builtin_function_or_method",
    "instance",
    "_Feature"
   ],
   "window_display": false
  }
 },
 "nbformat": 4,
 "nbformat_minor": 4
}
