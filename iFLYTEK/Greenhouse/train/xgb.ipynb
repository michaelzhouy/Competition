{
 "cells": [
  {
   "cell_type": "code",
   "execution_count": 1,
   "metadata": {
    "ExecuteTime": {
     "end_time": "2020-07-31T09:55:33.769547Z",
     "start_time": "2020-07-31T09:55:32.249066Z"
    }
   },
   "outputs": [],
   "source": [
    "import pandas as pd\n",
    "import os\n",
    "import gc\n",
    "import lightgbm as lgb\n",
    "import xgboost as xgb\n",
    "from catboost import CatBoostRegressor\n",
    "from sklearn.linear_model import SGDRegressor, LinearRegression, Ridge\n",
    "from sklearn.preprocessing import MinMaxScaler\n",
    "import math\n",
    "import numpy as np\n",
    "from tqdm import tqdm\n",
    "from sklearn.model_selection import StratifiedKFold, KFold\n",
    "from sklearn.metrics import mean_absolute_error, mean_squared_error\n",
    "import matplotlib.pyplot as plt\n",
    "import time\n",
    "import warnings\n",
    "\n",
    "warnings.filterwarnings('ignore')"
   ]
  },
  {
   "cell_type": "code",
   "execution_count": 2,
   "metadata": {
    "ExecuteTime": {
     "end_time": "2020-07-31T09:55:33.813030Z",
     "start_time": "2020-07-31T09:55:33.769547Z"
    }
   },
   "outputs": [],
   "source": [
    "def get_psi(train,test,f_cols):\n",
    "    psi_res = pd.DataFrame()\n",
    "    psi_dict={}\n",
    "    for c in tqdm(f_cols):\n",
    "        try:\n",
    "            t_train = train[c].fillna(-998)\n",
    "            t_test = test[c].fillna(-998)\n",
    "            #获取切分点\n",
    "            bins=[]\n",
    "            for i in np.arange(0,1.1,0.2):\n",
    "                bins.append(t_train.quantile(i))\n",
    "            bins=sorted(set(bins))\n",
    "            bins[0]=-np.inf\n",
    "            bins[-1]=np.inf\n",
    "            #计算psi\n",
    "            t_psi = pd.DataFrame()\n",
    "            t_psi['train'] = pd.cut(t_train,bins).value_counts().sort_index()\n",
    "            t_psi['test'] = pd.cut(t_test,bins).value_counts()\n",
    "            if c == 'outdoorTemp':\n",
    "                print(t_psi['train'])\n",
    "                print(t_psi['test'])\n",
    "            t_psi.index=[str(x) for x in t_psi.index]\n",
    "            t_psi.loc['总计',:] = t_psi.sum()\n",
    "            t_psi['train_rate'] = t_psi['train']/t_psi.loc['总计','train']\n",
    "            t_psi['test_rate'] = t_psi['test']/t_psi.loc['总计','test']\n",
    "            t_psi['psi'] = (t_psi['test_rate']-t_psi['train_rate'])*(np.log(t_psi['test_rate'])-np.log(t_psi['train_rate']))\n",
    "            t_psi.loc['总计','psi'] = t_psi['psi'].sum()\n",
    "            t_psi.index.name=c\n",
    "            #汇总\n",
    "            t_res = pd.DataFrame([[c,t_psi.loc['总计','psi']]],\n",
    "                                 columns=['变量名','PSI'])\n",
    "            psi_res = pd.concat([psi_res,t_res])\n",
    "            psi_dict[c]=t_psi\n",
    "            print(c,'done')\n",
    "        except:\n",
    "            print(c,'error')\n",
    "    return psi_res,psi_dict"
   ]
  },
  {
   "cell_type": "code",
   "execution_count": 3,
   "metadata": {
    "ExecuteTime": {
     "end_time": "2020-07-31T09:55:33.854984Z",
     "start_time": "2020-07-31T09:55:33.815024Z"
    }
   },
   "outputs": [],
   "source": [
    "train_df = pd.read_csv('../input/train.csv')\n",
    "test_df = pd.read_csv('../input/test.csv')\n",
    "sub = pd.DataFrame(test_df['time'])"
   ]
  },
  {
   "cell_type": "code",
   "execution_count": 4,
   "metadata": {
    "ExecuteTime": {
     "end_time": "2020-07-31T09:55:33.870875Z",
     "start_time": "2020-07-31T09:55:33.856913Z"
    }
   },
   "outputs": [],
   "source": [
    "train_df = train_df[train_df['temperature'].notnull()]\n",
    "train_df = train_df.fillna(method='bfill')\n",
    "test_df = test_df.fillna(method='bfill')"
   ]
  },
  {
   "cell_type": "code",
   "execution_count": 5,
   "metadata": {
    "ExecuteTime": {
     "end_time": "2020-07-31T09:55:33.876859Z",
     "start_time": "2020-07-31T09:55:33.871872Z"
    }
   },
   "outputs": [],
   "source": [
    "train_df.columns = ['time', 'year', 'month', 'day', 'hour', 'min', 'sec', 'outdoorTemp', 'outdoorHum', 'outdoorAtmo',\n",
    "                    'indoorHum', 'indoorAtmo', 'temperature']\n",
    "test_df.columns = ['time', 'year', 'month', 'day', 'hour', 'min', 'sec', 'outdoorTemp', 'outdoorHum', 'outdoorAtmo',\n",
    "                   'indoorHum', 'indoorAtmo']"
   ]
  },
  {
   "cell_type": "code",
   "execution_count": 6,
   "metadata": {
    "ExecuteTime": {
     "end_time": "2020-07-31T09:55:33.887867Z",
     "start_time": "2020-07-31T09:55:33.877856Z"
    }
   },
   "outputs": [
    {
     "name": "stdout",
     "output_type": "stream",
     "text": [
      "train_df.shape:  (24807, 13)\n",
      "处理后 train_df.shape:  (19338, 13)\n"
     ]
    }
   ],
   "source": [
    "print('train_df.shape: ', train_df.shape)\n",
    "train_df = train_df.loc[(train_df['outdoorTemp'] >= test_df['outdoorTemp'].min()) & (train_df['outdoorTemp'] <= test_df['outdoorTemp'].max())]\n",
    "print('处理后 train_df.shape: ', train_df.shape)"
   ]
  },
  {
   "cell_type": "code",
   "execution_count": 7,
   "metadata": {
    "ExecuteTime": {
     "end_time": "2020-07-31T09:55:33.895825Z",
     "start_time": "2020-07-31T09:55:33.889825Z"
    }
   },
   "outputs": [],
   "source": [
    "data_df = pd.concat([train_df, test_df], axis=0, ignore_index=True)"
   ]
  },
  {
   "cell_type": "code",
   "execution_count": 8,
   "metadata": {
    "ExecuteTime": {
     "end_time": "2020-07-31T09:55:33.900833Z",
     "start_time": "2020-07-31T09:55:33.897803Z"
    }
   },
   "outputs": [],
   "source": [
    "# data_df['indoorAtmo-outdoorAtmo'] = data_df['indoorAtmo'] - data_df['outdoorAtmo']\n",
    "# data_df['indoorHum-outdoorHum'] = data_df['indoorHum'] - data_df['outdoorHum']"
   ]
  },
  {
   "cell_type": "code",
   "execution_count": 9,
   "metadata": {
    "ExecuteTime": {
     "end_time": "2020-07-31T09:55:34.972736Z",
     "start_time": "2020-07-31T09:55:33.901792Z"
    }
   },
   "outputs": [
    {
     "name": "stderr",
     "output_type": "stream",
     "text": [
      "100%|████████████████████████████████████████████████████████████████████████████████████| 5/5 [00:01<00:00,  4.76it/s]\n"
     ]
    }
   ],
   "source": [
    "# 基本聚合特征\n",
    "group_feats = []\n",
    "for f in tqdm(['outdoorTemp', 'outdoorHum', 'outdoorAtmo', 'indoorHum', 'indoorAtmo']):\n",
    "    data_df['MDH_{}_medi'.format(f)] = data_df.groupby(['month', 'day', 'hour'])[f].transform('median')\n",
    "    data_df['MDH_{}_mean'.format(f)] = data_df.groupby(['month', 'day', 'hour'])[f].transform('mean')\n",
    "    data_df['MDH_{}_max'.format(f)] = data_df.groupby(['month', 'day', 'hour'])[f].transform('max')\n",
    "    data_df['MDH_{}_min'.format(f)] = data_df.groupby(['month', 'day', 'hour'])[f].transform('min')\n",
    "    data_df['MDH_{}_std'.format(f)] = data_df.groupby(['month', 'day', 'hour'])[f].transform('std')\n",
    "    data_df['MDH_{}_skew'.format(f)] = data_df.groupby(['month', 'day', 'hour'])[f].transform('skew')\n",
    "    \n",
    "    data_df['MD_{}_medi'.format(f)] = data_df.groupby(['month', 'day'])[f].transform('median')\n",
    "    data_df['MD_{}_mean'.format(f)] = data_df.groupby(['month', 'day'])[f].transform('mean')\n",
    "    data_df['MD_{}_max'.format(f)] = data_df.groupby(['month', 'day'])[f].transform('max')\n",
    "    data_df['MD_{}_min'.format(f)] = data_df.groupby(['month', 'day'])[f].transform('min')\n",
    "    data_df['MD_{}_std'.format(f)] = data_df.groupby(['month', 'day'])[f].transform('std')\n",
    "    data_df['MD_{}_skew'.format(f)] = data_df.groupby(['month', 'day'])[f].transform('skew')\n",
    "\n",
    "    group_feats.append('MDH_{}_medi'.format(f))\n",
    "    group_feats.append('MDH_{}_mean'.format(f))\n",
    "    \n",
    "    group_feats.append('MD_{}_medi'.format(f))\n",
    "    group_feats.append('MD_{}_mean'.format(f))"
   ]
  },
  {
   "cell_type": "code",
   "execution_count": 10,
   "metadata": {
    "ExecuteTime": {
     "end_time": "2020-07-31T09:55:35.707664Z",
     "start_time": "2020-07-31T09:55:34.973734Z"
    }
   },
   "outputs": [
    {
     "name": "stderr",
     "output_type": "stream",
     "text": [
      "100%|██████████████████████████████████████████████████████████████████████████████████| 25/25 [00:00<00:00, 35.13it/s]\n"
     ]
    }
   ],
   "source": [
    "# 基本交叉特征\n",
    "for f1 in tqdm(['outdoorTemp', 'outdoorHum', 'outdoorAtmo', 'indoorHum', 'indoorAtmo'] + group_feats):\n",
    "    for f2 in ['outdoorTemp', 'outdoorHum', 'outdoorAtmo', 'indoorHum', 'indoorAtmo'] + group_feats:\n",
    "        if f1 != f2:\n",
    "            colname = '{}_{}_ratio'.format(f1, f2)\n",
    "            data_df[colname] = data_df[f1].values / data_df[f2].values"
   ]
  },
  {
   "cell_type": "code",
   "execution_count": 11,
   "metadata": {
    "ExecuteTime": {
     "end_time": "2020-07-31T09:55:35.909160Z",
     "start_time": "2020-07-31T09:55:35.708661Z"
    }
   },
   "outputs": [],
   "source": [
    "data_df = data_df.fillna(method='bfill')"
   ]
  },
  {
   "cell_type": "code",
   "execution_count": 12,
   "metadata": {
    "ExecuteTime": {
     "end_time": "2020-07-31T09:55:52.183329Z",
     "start_time": "2020-07-31T09:55:35.910121Z"
    }
   },
   "outputs": [
    {
     "name": "stderr",
     "output_type": "stream",
     "text": [
      "100%|██████████████████████████████████████████████████████████████████████████████████| 30/30 [00:02<00:00, 11.55it/s]\n",
      "100%|██████████████████████████████████████████████████████████████████████████████████| 30/30 [00:02<00:00, 12.37it/s]\n",
      "100%|██████████████████████████████████████████████████████████████████████████████████| 30/30 [00:02<00:00, 12.19it/s]\n",
      "100%|██████████████████████████████████████████████████████████████████████████████████| 30/30 [00:02<00:00, 12.22it/s]\n",
      "100%|██████████████████████████████████████████████████████████████████████████████████| 30/30 [00:02<00:00, 11.71it/s]\n",
      "100%|██████████████████████████████████████████████████████████████████████████████████| 30/30 [00:02<00:00, 11.63it/s]\n"
     ]
    }
   ],
   "source": [
    "# 历史信息提取\n",
    "data_df['dt'] = data_df['day'].values + (data_df['month'].values - 3) * 31\n",
    "\n",
    "for f in ['outdoorTemp', 'outdoorHum', 'outdoorAtmo', 'indoorHum', 'indoorAtmo', 'temperature']:\n",
    "    tmp_df = pd.DataFrame()\n",
    "    for t in tqdm(range(15, 45)):\n",
    "        tmp = data_df.loc[data_df['dt'] < t, :].groupby(['hour'], as_index=False)[f].agg({\n",
    "            'hit_mean': 'mean',\n",
    "            'hit_median': 'median',\n",
    "            'hit_max': 'max',\n",
    "            'hit_min': 'min',\n",
    "            'hit_sum': 'sum',\n",
    "            'hit_std': 'std',\n",
    "            'hit_skew': 'skew'\n",
    "        })\n",
    "        tmp['dt'] = t\n",
    "        tmp_df = tmp_df.append(tmp)\n",
    "        del tmp\n",
    "        gc.collect()\n",
    "\n",
    "    data_df = data_df.merge(tmp_df, on=['dt', 'hour'], how='left')\n",
    "    del tmp_df\n",
    "    gc.collect()"
   ]
  },
  {
   "cell_type": "code",
   "execution_count": 13,
   "metadata": {
    "ExecuteTime": {
     "end_time": "2020-07-31T09:55:52.390774Z",
     "start_time": "2020-07-31T09:55:52.184325Z"
    }
   },
   "outputs": [],
   "source": [
    "data_df = data_df.fillna(method='bfill')"
   ]
  },
  {
   "cell_type": "code",
   "execution_count": 14,
   "metadata": {
    "ExecuteTime": {
     "end_time": "2020-07-31T09:55:52.518945Z",
     "start_time": "2020-07-31T09:55:52.391827Z"
    }
   },
   "outputs": [],
   "source": [
    "# 离散化\n",
    "for f in ['outdoorTemp', 'outdoorHum', 'outdoorAtmo', 'indoorHum', 'indoorAtmo']:\n",
    "    data_df[f + '_20_bin'] = pd.cut(data_df[f], 20, duplicates='drop').apply(lambda x: x.left).astype(int)\n",
    "    data_df[f + '_50_bin'] = pd.cut(data_df[f], 50, duplicates='drop').apply(lambda x: x.left).astype(int)\n",
    "    data_df[f + '_100_bin'] = pd.cut(data_df[f], 100, duplicates='drop').apply(lambda x: x.left).astype(int)\n",
    "    data_df[f + '_200_bin'] = pd.cut(data_df[f], 200, duplicates='drop').apply(lambda x: x.left).astype(int)"
   ]
  },
  {
   "cell_type": "code",
   "execution_count": 15,
   "metadata": {
    "ExecuteTime": {
     "end_time": "2020-07-31T09:56:50.658380Z",
     "start_time": "2020-07-31T09:55:52.519170Z"
    }
   },
   "outputs": [
    {
     "name": "stderr",
     "output_type": "stream",
     "text": [
      "100%|████████████████████████████████████████████████████████████████████████████████████| 5/5 [00:12<00:00,  2.42s/it]\n",
      "100%|████████████████████████████████████████████████████████████████████████████████████| 5/5 [00:13<00:00,  2.73s/it]\n",
      "100%|████████████████████████████████████████████████████████████████████████████████████| 5/5 [00:15<00:00,  3.07s/it]\n",
      "100%|████████████████████████████████████████████████████████████████████████████████████| 5/5 [00:17<00:00,  3.41s/it]\n"
     ]
    }
   ],
   "source": [
    "for f1 in tqdm(\n",
    "        ['outdoorTemp_20_bin', 'outdoorHum_20_bin', 'outdoorAtmo_20_bin', 'indoorHum_20_bin', 'indoorAtmo_20_bin']):\n",
    "    for f2 in ['outdoorTemp', 'outdoorHum', 'outdoorAtmo', 'indoorHum', 'indoorAtmo']:\n",
    "        data_df['{}_{}_medi'.format(f1, f2)] = data_df.groupby([f1])[f2].transform('median')\n",
    "        data_df['{}_{}_mean'.format(f1, f2)] = data_df.groupby([f1])[f2].transform('mean')\n",
    "        data_df['{}_{}_max'.format(f1, f2)] = data_df.groupby([f1])[f2].transform('max')\n",
    "        data_df['{}_{}_min'.format(f1, f2)] = data_df.groupby([f1])[f2].transform('min')\n",
    "\n",
    "for f1 in tqdm(\n",
    "        ['outdoorTemp_50_bin', 'outdoorHum_50_bin', 'outdoorAtmo_50_bin', 'indoorHum_50_bin', 'indoorAtmo_50_bin']):\n",
    "    for f2 in ['outdoorTemp', 'outdoorHum', 'outdoorAtmo', 'indoorHum', 'indoorAtmo']:\n",
    "        data_df['{}_{}_medi'.format(f1, f2)] = data_df.groupby([f1])[f2].transform('median')\n",
    "        data_df['{}_{}_mean'.format(f1, f2)] = data_df.groupby([f1])[f2].transform('mean')\n",
    "        data_df['{}_{}_max'.format(f1, f2)] = data_df.groupby([f1])[f2].transform('max')\n",
    "        data_df['{}_{}_min'.format(f1, f2)] = data_df.groupby([f1])[f2].transform('min')\n",
    "\n",
    "for f1 in tqdm(['outdoorTemp_100_bin', 'outdoorHum_100_bin', 'outdoorAtmo_100_bin', 'indoorHum_100_bin',\n",
    "                'indoorAtmo_100_bin']):\n",
    "    for f2 in ['outdoorTemp', 'outdoorHum', 'outdoorAtmo', 'indoorHum', 'indoorAtmo']:\n",
    "        data_df['{}_{}_medi'.format(f1, f2)] = data_df.groupby([f1])[f2].transform('median')\n",
    "        data_df['{}_{}_mean'.format(f1, f2)] = data_df.groupby([f1])[f2].transform('mean')\n",
    "        data_df['{}_{}_max'.format(f1, f2)] = data_df.groupby([f1])[f2].transform('max')\n",
    "        data_df['{}_{}_min'.format(f1, f2)] = data_df.groupby([f1])[f2].transform('min')\n",
    "\n",
    "for f1 in tqdm(['outdoorTemp_200_bin', 'outdoorHum_200_bin', 'outdoorAtmo_200_bin', 'indoorHum_200_bin',\n",
    "                'indoorAtmo_200_bin']):\n",
    "    for f2 in ['outdoorTemp', 'outdoorHum', 'outdoorAtmo', 'indoorHum', 'indoorAtmo']:\n",
    "        data_df['{}_{}_medi'.format(f1, f2)] = data_df.groupby([f1])[f2].transform('median')\n",
    "        data_df['{}_{}_mean'.format(f1, f2)] = data_df.groupby([f1])[f2].transform('mean')\n",
    "        data_df['{}_{}_max'.format(f1, f2)] = data_df.groupby([f1])[f2].transform('max')\n",
    "        data_df['{}_{}_min'.format(f1, f2)] = data_df.groupby([f1])[f2].transform('min')"
   ]
  },
  {
   "cell_type": "code",
   "execution_count": 16,
   "metadata": {
    "ExecuteTime": {
     "end_time": "2020-07-31T09:56:51.073357Z",
     "start_time": "2020-07-31T09:56:50.659347Z"
    }
   },
   "outputs": [
    {
     "data": {
      "text/plain": [
       "29"
      ]
     },
     "execution_count": 16,
     "metadata": {},
     "output_type": "execute_result"
    }
   ],
   "source": [
    "train_count = train_df.shape[0]\n",
    "train_df = data_df[:train_count].copy().reset_index(drop=True)\n",
    "test_df = data_df[train_count:].copy().reset_index(drop=True)\n",
    "del data_df\n",
    "gc.collect()"
   ]
  },
  {
   "cell_type": "code",
   "execution_count": 17,
   "metadata": {
    "ExecuteTime": {
     "end_time": "2020-07-31T09:56:51.171893Z",
     "start_time": "2020-07-31T09:56:51.074337Z"
    }
   },
   "outputs": [],
   "source": [
    "drop_columns = [\"time\", \"year\", \"sec\", \"temperature\"]\n",
    "\n",
    "features = train_df[:1].drop(drop_columns, axis=1).columns\n",
    "x_train = train_df[features]\n",
    "x_test = test_df[features]"
   ]
  },
  {
   "cell_type": "code",
   "execution_count": 18,
   "metadata": {
    "ExecuteTime": {
     "end_time": "2020-07-31T09:56:51.177830Z",
     "start_time": "2020-07-31T09:56:51.172848Z"
    }
   },
   "outputs": [],
   "source": [
    "y_train = train_df['temperature'].values - train_df['outdoorTemp'].values"
   ]
  },
  {
   "cell_type": "code",
   "execution_count": 19,
   "metadata": {
    "ExecuteTime": {
     "end_time": "2020-07-31T09:57:18.449657Z",
     "start_time": "2020-07-31T09:56:51.178828Z"
    }
   },
   "outputs": [
    {
     "name": "stderr",
     "output_type": "stream",
     "text": [
      "  1%|▌                                                                                | 8/1132 [00:00<00:28, 39.12it/s]"
     ]
    },
    {
     "name": "stdout",
     "output_type": "stream",
     "text": [
      "month done\n",
      "day done\n",
      "hour done\n",
      "min done\n",
      "(-inf, 14.8]    4103\n",
      "(14.8, 16.2]    3733\n",
      "(16.2, 17.8]    4050\n",
      "(17.8, 20.4]    3678\n",
      "(20.4, inf]     3774\n",
      "Name: train, dtype: int64\n",
      "(-inf, 14.8]     47\n",
      "(14.8, 16.2]     42\n",
      "(16.2, 17.8]     47\n",
      "(17.8, 20.4]     57\n",
      "(20.4, inf]     213\n",
      "Name: test, dtype: int64\n",
      "outdoorTemp done\n",
      "outdoorHum done\n",
      "outdoorAtmo done\n",
      "indoorHum done\n"
     ]
    },
    {
     "name": "stderr",
     "output_type": "stream",
     "text": [
      "  1%|█▏                                                                              | 16/1132 [00:00<00:28, 38.64it/s]"
     ]
    },
    {
     "name": "stdout",
     "output_type": "stream",
     "text": [
      "indoorAtmo done\n",
      "MDH_outdoorTemp_medi done\n",
      "MDH_outdoorTemp_mean done\n",
      "MDH_outdoorTemp_max done\n",
      "MDH_outdoorTemp_min done\n",
      "MDH_outdoorTemp_std done\n",
      "MDH_outdoorTemp_skew done\n",
      "MD_outdoorTemp_medi done\n"
     ]
    },
    {
     "name": "stderr",
     "output_type": "stream",
     "text": [
      "\r",
      "  2%|█▍                                                                              | 21/1132 [00:00<00:28, 39.62it/s]"
     ]
    },
    {
     "name": "stdout",
     "output_type": "stream",
     "text": [
      "MD_outdoorTemp_mean done\n",
      "MD_outdoorTemp_max done\n",
      "MD_outdoorTemp_min done\n",
      "MD_outdoorTemp_std done\n",
      "MD_outdoorTemp_skew done\n",
      "MDH_outdoorHum_medi done\n",
      "MDH_outdoorHum_mean done\n",
      "MDH_outdoorHum_max done\n"
     ]
    },
    {
     "name": "stderr",
     "output_type": "stream",
     "text": [
      "  3%|██                                                                              | 30/1132 [00:00<00:28, 39.29it/s]"
     ]
    },
    {
     "name": "stdout",
     "output_type": "stream",
     "text": [
      "MDH_outdoorHum_min done\n",
      "MDH_outdoorHum_std done\n",
      "MDH_outdoorHum_skew done\n",
      "MD_outdoorHum_medi done\n",
      "MD_outdoorHum_mean done\n",
      "MD_outdoorHum_max done\n",
      "MD_outdoorHum_min done\n",
      "MD_outdoorHum_std done\n"
     ]
    },
    {
     "name": "stderr",
     "output_type": "stream",
     "text": [
      "  3%|██▊                                                                             | 39/1132 [00:00<00:27, 40.40it/s]"
     ]
    },
    {
     "name": "stdout",
     "output_type": "stream",
     "text": [
      "MD_outdoorHum_skew done\n",
      "MDH_outdoorAtmo_medi done\n",
      "MDH_outdoorAtmo_mean done\n",
      "MDH_outdoorAtmo_max done\n",
      "MDH_outdoorAtmo_min done\n",
      "MDH_outdoorAtmo_std done\n",
      "MDH_outdoorAtmo_skew done\n",
      "MD_outdoorAtmo_medi done\n"
     ]
    },
    {
     "name": "stderr",
     "output_type": "stream",
     "text": [
      "  4%|███▎                                                                            | 47/1132 [00:01<00:28, 38.53it/s]"
     ]
    },
    {
     "name": "stdout",
     "output_type": "stream",
     "text": [
      "MD_outdoorAtmo_mean done\n",
      "MD_outdoorAtmo_max done\n",
      "MD_outdoorAtmo_min done\n",
      "MD_outdoorAtmo_std done\n",
      "MD_outdoorAtmo_skew done\n",
      "MDH_indoorHum_medi done\n",
      "MDH_indoorHum_mean done\n",
      "MDH_indoorHum_max done\n"
     ]
    },
    {
     "name": "stderr",
     "output_type": "stream",
     "text": [
      "  5%|███▉                                                                            | 56/1132 [00:01<00:27, 39.47it/s]"
     ]
    },
    {
     "name": "stdout",
     "output_type": "stream",
     "text": [
      "MDH_indoorHum_min done\n",
      "MDH_indoorHum_std done\n",
      "MDH_indoorHum_skew done\n",
      "MD_indoorHum_medi done\n",
      "MD_indoorHum_mean done\n",
      "MD_indoorHum_max done\n",
      "MD_indoorHum_min done\n",
      "MD_indoorHum_std done\n"
     ]
    },
    {
     "name": "stderr",
     "output_type": "stream",
     "text": [
      "\r",
      "  5%|████▏                                                                           | 60/1132 [00:01<00:28, 38.15it/s]"
     ]
    },
    {
     "name": "stdout",
     "output_type": "stream",
     "text": [
      "MD_indoorHum_skew done\n",
      "MDH_indoorAtmo_medi done\n",
      "MDH_indoorAtmo_mean done\n",
      "MDH_indoorAtmo_max done\n",
      "MDH_indoorAtmo_min done\n",
      "MDH_indoorAtmo_std done\n",
      "MDH_indoorAtmo_skew done\n",
      "MD_indoorAtmo_medi done\n"
     ]
    },
    {
     "name": "stderr",
     "output_type": "stream",
     "text": [
      "  6%|████▉                                                                           | 70/1132 [00:01<00:27, 39.10it/s]"
     ]
    },
    {
     "name": "stdout",
     "output_type": "stream",
     "text": [
      "MD_indoorAtmo_mean done\n",
      "MD_indoorAtmo_max done\n",
      "MD_indoorAtmo_min done\n",
      "MD_indoorAtmo_std done\n",
      "MD_indoorAtmo_skew done\n",
      "outdoorTemp_outdoorHum_ratio done\n",
      "outdoorTemp_outdoorAtmo_ratio done\n",
      "outdoorTemp_indoorHum_ratio done\n"
     ]
    },
    {
     "name": "stderr",
     "output_type": "stream",
     "text": [
      "  7%|█████▌                                                                          | 79/1132 [00:02<00:26, 39.00it/s]"
     ]
    },
    {
     "name": "stdout",
     "output_type": "stream",
     "text": [
      "outdoorTemp_indoorAtmo_ratio done\n",
      "outdoorTemp_MDH_outdoorTemp_medi_ratio done\n",
      "outdoorTemp_MDH_outdoorTemp_mean_ratio done\n",
      "outdoorTemp_MD_outdoorTemp_medi_ratio done\n",
      "outdoorTemp_MD_outdoorTemp_mean_ratio done\n",
      "outdoorTemp_MDH_outdoorHum_medi_ratio done\n",
      "outdoorTemp_MDH_outdoorHum_mean_ratio done\n",
      "outdoorTemp_MD_outdoorHum_medi_ratio done\n"
     ]
    },
    {
     "name": "stderr",
     "output_type": "stream",
     "text": [
      "  8%|██████▏                                                                         | 88/1132 [00:02<00:26, 39.90it/s]"
     ]
    },
    {
     "name": "stdout",
     "output_type": "stream",
     "text": [
      "outdoorTemp_MD_outdoorHum_mean_ratio done\n",
      "outdoorTemp_MDH_outdoorAtmo_medi_ratio done\n",
      "outdoorTemp_MDH_outdoorAtmo_mean_ratio done\n",
      "outdoorTemp_MD_outdoorAtmo_medi_ratio done\n",
      "outdoorTemp_MD_outdoorAtmo_mean_ratio done\n",
      "outdoorTemp_MDH_indoorHum_medi_ratio done\n",
      "outdoorTemp_MDH_indoorHum_mean_ratio done\n",
      "outdoorTemp_MD_indoorHum_medi_ratio done\n"
     ]
    },
    {
     "name": "stderr",
     "output_type": "stream",
     "text": [
      "  9%|██████▊                                                                         | 97/1132 [00:02<00:25, 40.77it/s]"
     ]
    },
    {
     "name": "stdout",
     "output_type": "stream",
     "text": [
      "outdoorTemp_MD_indoorHum_mean_ratio done\n",
      "outdoorTemp_MDH_indoorAtmo_medi_ratio done\n",
      "outdoorTemp_MDH_indoorAtmo_mean_ratio done\n",
      "outdoorTemp_MD_indoorAtmo_medi_ratio done\n",
      "outdoorTemp_MD_indoorAtmo_mean_ratio done\n",
      "outdoorHum_outdoorTemp_ratio done\n",
      "outdoorHum_outdoorAtmo_ratio done\n",
      "outdoorHum_indoorHum_ratio done\n",
      "outdoorHum_indoorAtmo_ratio done\n"
     ]
    },
    {
     "name": "stderr",
     "output_type": "stream",
     "text": [
      "\r",
      "  9%|███████                                                                        | 102/1132 [00:02<00:25, 39.81it/s]"
     ]
    },
    {
     "name": "stdout",
     "output_type": "stream",
     "text": [
      "outdoorHum_MDH_outdoorTemp_medi_ratio done\n",
      "outdoorHum_MDH_outdoorTemp_mean_ratio done\n",
      "outdoorHum_MD_outdoorTemp_medi_ratio done\n",
      "outdoorHum_MD_outdoorTemp_mean_ratio done\n",
      "outdoorHum_MDH_outdoorHum_medi_ratio done\n",
      "outdoorHum_MDH_outdoorHum_mean_ratio done\n",
      "outdoorHum_MD_outdoorHum_medi_ratio done\n",
      "outdoorHum_MD_outdoorHum_mean_ratio done\n",
      "outdoorHum_MDH_outdoorAtmo_medi_ratio done\n"
     ]
    },
    {
     "name": "stderr",
     "output_type": "stream",
     "text": [
      " 10%|███████▊                                                                       | 112/1132 [00:02<00:25, 40.14it/s]"
     ]
    },
    {
     "name": "stdout",
     "output_type": "stream",
     "text": [
      "outdoorHum_MDH_outdoorAtmo_mean_ratio done\n",
      "outdoorHum_MD_outdoorAtmo_medi_ratio done\n",
      "outdoorHum_MD_outdoorAtmo_mean_ratio done\n",
      "outdoorHum_MDH_indoorHum_medi_ratio done\n",
      "outdoorHum_MDH_indoorHum_mean_ratio done\n",
      "outdoorHum_MD_indoorHum_medi_ratio done\n",
      "outdoorHum_MD_indoorHum_mean_ratio done\n",
      "outdoorHum_MDH_indoorAtmo_medi_ratio done\n",
      "outdoorHum_MDH_indoorAtmo_mean_ratio done\n"
     ]
    },
    {
     "name": "stderr",
     "output_type": "stream",
     "text": [
      " 11%|████████▌                                                                      | 122/1132 [00:03<00:24, 41.78it/s]"
     ]
    },
    {
     "name": "stdout",
     "output_type": "stream",
     "text": [
      "outdoorHum_MD_indoorAtmo_medi_ratio done\n",
      "outdoorHum_MD_indoorAtmo_mean_ratio done\n",
      "outdoorAtmo_outdoorTemp_ratio done\n",
      "outdoorAtmo_outdoorHum_ratio done\n",
      "outdoorAtmo_indoorHum_ratio done\n",
      "outdoorAtmo_indoorAtmo_ratio done\n",
      "outdoorAtmo_MDH_outdoorTemp_medi_ratio done\n",
      "outdoorAtmo_MDH_outdoorTemp_mean_ratio done\n",
      "outdoorAtmo_MD_outdoorTemp_medi_ratio done\n"
     ]
    },
    {
     "name": "stderr",
     "output_type": "stream",
     "text": [
      " 12%|█████████▏                                                                     | 132/1132 [00:03<00:24, 41.08it/s]"
     ]
    },
    {
     "name": "stdout",
     "output_type": "stream",
     "text": [
      "outdoorAtmo_MD_outdoorTemp_mean_ratio done\n",
      "outdoorAtmo_MDH_outdoorHum_medi_ratio done\n",
      "outdoorAtmo_MDH_outdoorHum_mean_ratio done\n",
      "outdoorAtmo_MD_outdoorHum_medi_ratio done\n",
      "outdoorAtmo_MD_outdoorHum_mean_ratio done\n",
      "outdoorAtmo_MDH_outdoorAtmo_medi_ratio done\n",
      "outdoorAtmo_MDH_outdoorAtmo_mean_ratio done\n",
      "outdoorAtmo_MD_outdoorAtmo_medi_ratio done\n",
      "outdoorAtmo_MD_outdoorAtmo_mean_ratio done\n"
     ]
    },
    {
     "name": "stderr",
     "output_type": "stream",
     "text": [
      " 13%|█████████▉                                                                     | 142/1132 [00:03<00:24, 40.25it/s]"
     ]
    },
    {
     "name": "stdout",
     "output_type": "stream",
     "text": [
      "outdoorAtmo_MDH_indoorHum_medi_ratio done\n",
      "outdoorAtmo_MDH_indoorHum_mean_ratio done\n",
      "outdoorAtmo_MD_indoorHum_medi_ratio done\n",
      "outdoorAtmo_MD_indoorHum_mean_ratio done\n",
      "outdoorAtmo_MDH_indoorAtmo_medi_ratio done\n",
      "outdoorAtmo_MDH_indoorAtmo_mean_ratio done\n",
      "outdoorAtmo_MD_indoorAtmo_medi_ratio done\n",
      "outdoorAtmo_MD_indoorAtmo_mean_ratio done\n",
      "indoorHum_outdoorTemp_ratio done\n"
     ]
    },
    {
     "name": "stderr",
     "output_type": "stream",
     "text": [
      "\r",
      " 13%|██████████▎                                                                    | 147/1132 [00:03<00:24, 40.90it/s]"
     ]
    },
    {
     "name": "stdout",
     "output_type": "stream",
     "text": [
      "indoorHum_outdoorHum_ratio done\n",
      "indoorHum_outdoorAtmo_ratio done\n",
      "indoorHum_indoorAtmo_ratio done\n",
      "indoorHum_MDH_outdoorTemp_medi_ratio done\n",
      "indoorHum_MDH_outdoorTemp_mean_ratio done\n",
      "indoorHum_MD_outdoorTemp_medi_ratio done\n",
      "indoorHum_MD_outdoorTemp_mean_ratio done\n",
      "indoorHum_MDH_outdoorHum_medi_ratio done\n",
      "indoorHum_MDH_outdoorHum_mean_ratio done\n"
     ]
    },
    {
     "name": "stderr",
     "output_type": "stream",
     "text": [
      " 14%|██████████▉                                                                    | 157/1132 [00:03<00:24, 40.58it/s]"
     ]
    },
    {
     "name": "stdout",
     "output_type": "stream",
     "text": [
      "indoorHum_MD_outdoorHum_medi_ratio done\n",
      "indoorHum_MD_outdoorHum_mean_ratio done\n",
      "indoorHum_MDH_outdoorAtmo_medi_ratio done\n",
      "indoorHum_MDH_outdoorAtmo_mean_ratio done\n",
      "indoorHum_MD_outdoorAtmo_medi_ratio done\n",
      "indoorHum_MD_outdoorAtmo_mean_ratio done\n",
      "indoorHum_MDH_indoorHum_medi_ratio done\n",
      "indoorHum_MDH_indoorHum_mean_ratio done\n",
      "indoorHum_MD_indoorHum_medi_ratio done\n"
     ]
    },
    {
     "name": "stderr",
     "output_type": "stream",
     "text": [
      " 15%|███████████▋                                                                   | 167/1132 [00:04<00:23, 41.84it/s]"
     ]
    },
    {
     "name": "stdout",
     "output_type": "stream",
     "text": [
      "indoorHum_MD_indoorHum_mean_ratio done\n",
      "indoorHum_MDH_indoorAtmo_medi_ratio done\n",
      "indoorHum_MDH_indoorAtmo_mean_ratio done\n",
      "indoorHum_MD_indoorAtmo_medi_ratio done\n",
      "indoorHum_MD_indoorAtmo_mean_ratio done\n",
      "indoorAtmo_outdoorTemp_ratio done\n",
      "indoorAtmo_outdoorHum_ratio done\n",
      "indoorAtmo_outdoorAtmo_ratio done\n",
      "indoorAtmo_indoorHum_ratio done\n"
     ]
    },
    {
     "name": "stderr",
     "output_type": "stream",
     "text": [
      " 16%|████████████▎                                                                  | 177/1132 [00:04<00:23, 40.73it/s]"
     ]
    },
    {
     "name": "stdout",
     "output_type": "stream",
     "text": [
      "indoorAtmo_MDH_outdoorTemp_medi_ratio done\n",
      "indoorAtmo_MDH_outdoorTemp_mean_ratio done\n",
      "indoorAtmo_MD_outdoorTemp_medi_ratio done\n",
      "indoorAtmo_MD_outdoorTemp_mean_ratio done\n",
      "indoorAtmo_MDH_outdoorHum_medi_ratio done\n",
      "indoorAtmo_MDH_outdoorHum_mean_ratio done\n",
      "indoorAtmo_MD_outdoorHum_medi_ratio done\n",
      "indoorAtmo_MD_outdoorHum_mean_ratio done\n"
     ]
    },
    {
     "name": "stderr",
     "output_type": "stream",
     "text": [
      "\r",
      " 16%|████████████▋                                                                  | 182/1132 [00:04<00:23, 41.25it/s]"
     ]
    },
    {
     "name": "stdout",
     "output_type": "stream",
     "text": [
      "indoorAtmo_MDH_outdoorAtmo_medi_ratio done\n",
      "indoorAtmo_MDH_outdoorAtmo_mean_ratio done\n",
      "indoorAtmo_MD_outdoorAtmo_medi_ratio done\n",
      "indoorAtmo_MD_outdoorAtmo_mean_ratio done\n",
      "indoorAtmo_MDH_indoorHum_medi_ratio done\n",
      "indoorAtmo_MDH_indoorHum_mean_ratio done\n",
      "indoorAtmo_MD_indoorHum_medi_ratio done\n",
      "indoorAtmo_MD_indoorHum_mean_ratio done\n"
     ]
    },
    {
     "name": "stderr",
     "output_type": "stream",
     "text": [
      " 17%|█████████████▍                                                                 | 192/1132 [00:04<00:22, 41.00it/s]"
     ]
    },
    {
     "name": "stdout",
     "output_type": "stream",
     "text": [
      "indoorAtmo_MDH_indoorAtmo_medi_ratio done\n",
      "indoorAtmo_MDH_indoorAtmo_mean_ratio done\n",
      "indoorAtmo_MD_indoorAtmo_medi_ratio done\n",
      "indoorAtmo_MD_indoorAtmo_mean_ratio done\n",
      "MDH_outdoorTemp_medi_outdoorTemp_ratio done\n",
      "MDH_outdoorTemp_medi_outdoorHum_ratio done\n",
      "MDH_outdoorTemp_medi_outdoorAtmo_ratio done\n",
      "MDH_outdoorTemp_medi_indoorHum_ratio done\n",
      "MDH_outdoorTemp_medi_indoorAtmo_ratio done\n"
     ]
    },
    {
     "name": "stderr",
     "output_type": "stream",
     "text": [
      " 18%|██████████████                                                                 | 202/1132 [00:05<00:23, 40.34it/s]"
     ]
    },
    {
     "name": "stdout",
     "output_type": "stream",
     "text": [
      "MDH_outdoorTemp_medi_MDH_outdoorTemp_mean_ratio done\n",
      "MDH_outdoorTemp_medi_MD_outdoorTemp_medi_ratio done\n",
      "MDH_outdoorTemp_medi_MD_outdoorTemp_mean_ratio done\n",
      "MDH_outdoorTemp_medi_MDH_outdoorHum_medi_ratio done\n",
      "MDH_outdoorTemp_medi_MDH_outdoorHum_mean_ratio done\n",
      "MDH_outdoorTemp_medi_MD_outdoorHum_medi_ratio done\n",
      "MDH_outdoorTemp_medi_MD_outdoorHum_mean_ratio done\n",
      "MDH_outdoorTemp_medi_MDH_outdoorAtmo_medi_ratio done\n"
     ]
    },
    {
     "name": "stderr",
     "output_type": "stream",
     "text": [
      " 19%|██████████████▊                                                                | 212/1132 [00:05<00:22, 41.56it/s]"
     ]
    },
    {
     "name": "stdout",
     "output_type": "stream",
     "text": [
      "MDH_outdoorTemp_medi_MDH_outdoorAtmo_mean_ratio done\n",
      "MDH_outdoorTemp_medi_MD_outdoorAtmo_medi_ratio done\n",
      "MDH_outdoorTemp_medi_MD_outdoorAtmo_mean_ratio done\n",
      "MDH_outdoorTemp_medi_MDH_indoorHum_medi_ratio done\n",
      "MDH_outdoorTemp_medi_MDH_indoorHum_mean_ratio done\n",
      "MDH_outdoorTemp_medi_MD_indoorHum_medi_ratio done\n",
      "MDH_outdoorTemp_medi_MD_indoorHum_mean_ratio done\n",
      "MDH_outdoorTemp_medi_MDH_indoorAtmo_medi_ratio done\n",
      "MDH_outdoorTemp_medi_MDH_indoorAtmo_mean_ratio done\n",
      "MDH_outdoorTemp_medi_MD_indoorAtmo_medi_ratio done\n"
     ]
    },
    {
     "name": "stderr",
     "output_type": "stream",
     "text": [
      "\r",
      " 19%|███████████████▏                                                               | 217/1132 [00:05<00:22, 40.25it/s]"
     ]
    },
    {
     "name": "stdout",
     "output_type": "stream",
     "text": [
      "MDH_outdoorTemp_medi_MD_indoorAtmo_mean_ratio done\n",
      "MDH_outdoorTemp_mean_outdoorTemp_ratio done\n",
      "MDH_outdoorTemp_mean_outdoorHum_ratio done\n",
      "MDH_outdoorTemp_mean_outdoorAtmo_ratio done\n",
      "MDH_outdoorTemp_mean_indoorHum_ratio done\n",
      "MDH_outdoorTemp_mean_indoorAtmo_ratio done\n",
      "MDH_outdoorTemp_mean_MDH_outdoorTemp_medi_ratio done\n",
      "MDH_outdoorTemp_mean_MD_outdoorTemp_medi_ratio done\n",
      "MDH_outdoorTemp_mean_MD_outdoorTemp_mean_ratio done\n"
     ]
    },
    {
     "name": "stderr",
     "output_type": "stream",
     "text": [
      " 20%|███████████████▊                                                               | 227/1132 [00:05<00:21, 41.88it/s]"
     ]
    },
    {
     "name": "stdout",
     "output_type": "stream",
     "text": [
      "MDH_outdoorTemp_mean_MDH_outdoorHum_medi_ratio done\n",
      "MDH_outdoorTemp_mean_MDH_outdoorHum_mean_ratio done\n",
      "MDH_outdoorTemp_mean_MD_outdoorHum_medi_ratio done\n",
      "MDH_outdoorTemp_mean_MD_outdoorHum_mean_ratio done\n",
      "MDH_outdoorTemp_mean_MDH_outdoorAtmo_medi_ratio done\n",
      "MDH_outdoorTemp_mean_MDH_outdoorAtmo_mean_ratio done\n",
      "MDH_outdoorTemp_mean_MD_outdoorAtmo_medi_ratio done\n",
      "MDH_outdoorTemp_mean_MD_outdoorAtmo_mean_ratio done\n",
      "MDH_outdoorTemp_mean_MDH_indoorHum_medi_ratio done\n"
     ]
    },
    {
     "name": "stderr",
     "output_type": "stream",
     "text": [
      " 21%|████████████████▌                                                              | 237/1132 [00:05<00:21, 41.24it/s]"
     ]
    },
    {
     "name": "stdout",
     "output_type": "stream",
     "text": [
      "MDH_outdoorTemp_mean_MDH_indoorHum_mean_ratio done\n",
      "MDH_outdoorTemp_mean_MD_indoorHum_medi_ratio done\n",
      "MDH_outdoorTemp_mean_MD_indoorHum_mean_ratio done\n",
      "MDH_outdoorTemp_mean_MDH_indoorAtmo_medi_ratio done\n",
      "MDH_outdoorTemp_mean_MDH_indoorAtmo_mean_ratio done\n",
      "MDH_outdoorTemp_mean_MD_indoorAtmo_medi_ratio done\n",
      "MDH_outdoorTemp_mean_MD_indoorAtmo_mean_ratio done\n",
      "MD_outdoorTemp_medi_outdoorTemp_ratio done\n",
      "MD_outdoorTemp_medi_outdoorHum_ratio done\n"
     ]
    },
    {
     "name": "stderr",
     "output_type": "stream",
     "text": [
      " 22%|█████████████████▏                                                             | 247/1132 [00:06<00:21, 40.45it/s]"
     ]
    },
    {
     "name": "stdout",
     "output_type": "stream",
     "text": [
      "MD_outdoorTemp_medi_outdoorAtmo_ratio done\n",
      "MD_outdoorTemp_medi_indoorHum_ratio done\n",
      "MD_outdoorTemp_medi_indoorAtmo_ratio done\n",
      "MD_outdoorTemp_medi_MDH_outdoorTemp_medi_ratio done\n",
      "MD_outdoorTemp_medi_MDH_outdoorTemp_mean_ratio done\n",
      "MD_outdoorTemp_medi_MD_outdoorTemp_mean_ratio done\n",
      "MD_outdoorTemp_medi_MDH_outdoorHum_medi_ratio done\n",
      "MD_outdoorTemp_medi_MDH_outdoorHum_mean_ratio done\n",
      "MD_outdoorTemp_medi_MD_outdoorHum_medi_ratio done\n"
     ]
    },
    {
     "name": "stderr",
     "output_type": "stream",
     "text": [
      "\r",
      " 22%|█████████████████▌                                                             | 252/1132 [00:06<00:21, 40.86it/s]"
     ]
    },
    {
     "name": "stdout",
     "output_type": "stream",
     "text": [
      "MD_outdoorTemp_medi_MD_outdoorHum_mean_ratio done\n",
      "MD_outdoorTemp_medi_MDH_outdoorAtmo_medi_ratio done\n",
      "MD_outdoorTemp_medi_MDH_outdoorAtmo_mean_ratio done\n",
      "MD_outdoorTemp_medi_MD_outdoorAtmo_medi_ratio done\n",
      "MD_outdoorTemp_medi_MD_outdoorAtmo_mean_ratio done\n",
      "MD_outdoorTemp_medi_MDH_indoorHum_medi_ratio done\n",
      "MD_outdoorTemp_medi_MDH_indoorHum_mean_ratio done\n",
      "MD_outdoorTemp_medi_MD_indoorHum_medi_ratio done\n",
      "MD_outdoorTemp_medi_MD_indoorHum_mean_ratio "
     ]
    },
    {
     "name": "stderr",
     "output_type": "stream",
     "text": [
      " 23%|██████████████████▎                                                            | 262/1132 [00:06<00:21, 40.81it/s]"
     ]
    },
    {
     "name": "stdout",
     "output_type": "stream",
     "text": [
      "done\n",
      "MD_outdoorTemp_medi_MDH_indoorAtmo_medi_ratio done\n",
      "MD_outdoorTemp_medi_MDH_indoorAtmo_mean_ratio done\n",
      "MD_outdoorTemp_medi_MD_indoorAtmo_medi_ratio done\n",
      "MD_outdoorTemp_medi_MD_indoorAtmo_mean_ratio done\n",
      "MD_outdoorTemp_mean_outdoorTemp_ratio done\n",
      "MD_outdoorTemp_mean_outdoorHum_ratio done\n",
      "MD_outdoorTemp_mean_outdoorAtmo_ratio done\n"
     ]
    },
    {
     "name": "stderr",
     "output_type": "stream",
     "text": [
      " 24%|██████████████████▉                                                            | 272/1132 [00:06<00:21, 40.83it/s]"
     ]
    },
    {
     "name": "stdout",
     "output_type": "stream",
     "text": [
      "MD_outdoorTemp_mean_indoorHum_ratio done\n",
      "MD_outdoorTemp_mean_indoorAtmo_ratio done\n",
      "MD_outdoorTemp_mean_MDH_outdoorTemp_medi_ratio done\n",
      "MD_outdoorTemp_mean_MDH_outdoorTemp_mean_ratio done\n",
      "MD_outdoorTemp_mean_MD_outdoorTemp_medi_ratio done\n",
      "MD_outdoorTemp_mean_MDH_outdoorHum_medi_ratio done\n",
      "MD_outdoorTemp_mean_MDH_outdoorHum_mean_ratio done\n",
      "MD_outdoorTemp_mean_MD_outdoorHum_medi_ratio done\n",
      "MD_outdoorTemp_mean_MD_outdoorHum_mean_ratio done\n"
     ]
    },
    {
     "name": "stderr",
     "output_type": "stream",
     "text": [
      " 25%|███████████████████▋                                                           | 282/1132 [00:06<00:20, 40.68it/s]"
     ]
    },
    {
     "name": "stdout",
     "output_type": "stream",
     "text": [
      "MD_outdoorTemp_mean_MDH_outdoorAtmo_medi_ratio done\n",
      "MD_outdoorTemp_mean_MDH_outdoorAtmo_mean_ratio done\n",
      "MD_outdoorTemp_mean_MD_outdoorAtmo_medi_ratio done\n",
      "MD_outdoorTemp_mean_MD_outdoorAtmo_mean_ratio done\n",
      "MD_outdoorTemp_mean_MDH_indoorHum_medi_ratio done\n",
      "MD_outdoorTemp_mean_MDH_indoorHum_mean_ratio done\n",
      "MD_outdoorTemp_mean_MD_indoorHum_medi_ratio done\n",
      "MD_outdoorTemp_mean_MD_indoorHum_mean_ratio done\n",
      "MD_outdoorTemp_mean_MDH_indoorAtmo_medi_ratio done\n"
     ]
    },
    {
     "name": "stderr",
     "output_type": "stream",
     "text": [
      "\r",
      " 25%|████████████████████                                                           | 287/1132 [00:07<00:21, 39.81it/s]"
     ]
    },
    {
     "name": "stdout",
     "output_type": "stream",
     "text": [
      "MD_outdoorTemp_mean_MDH_indoorAtmo_mean_ratio done\n",
      "MD_outdoorTemp_mean_MD_indoorAtmo_medi_ratio done\n",
      "MD_outdoorTemp_mean_MD_indoorAtmo_mean_ratio done\n",
      "MDH_outdoorHum_medi_outdoorTemp_ratio done\n",
      "MDH_outdoorHum_medi_outdoorHum_ratio done\n",
      "MDH_outdoorHum_medi_outdoorAtmo_ratio done\n",
      "MDH_outdoorHum_medi_indoorHum_ratio done\n",
      "MDH_outdoorHum_medi_indoorAtmo_ratio done\n",
      "MDH_outdoorHum_medi_MDH_outdoorTemp_medi_ratio done\n"
     ]
    },
    {
     "name": "stderr",
     "output_type": "stream",
     "text": [
      " 26%|████████████████████▋                                                          | 297/1132 [00:07<00:20, 41.35it/s]"
     ]
    },
    {
     "name": "stdout",
     "output_type": "stream",
     "text": [
      "MDH_outdoorHum_medi_MDH_outdoorTemp_mean_ratio done\n",
      "MDH_outdoorHum_medi_MD_outdoorTemp_medi_ratio done\n",
      "MDH_outdoorHum_medi_MD_outdoorTemp_mean_ratio done\n",
      "MDH_outdoorHum_medi_MDH_outdoorHum_mean_ratio done\n",
      "MDH_outdoorHum_medi_MD_outdoorHum_medi_ratio done\n",
      "MDH_outdoorHum_medi_MD_outdoorHum_mean_ratio done\n",
      "MDH_outdoorHum_medi_MDH_outdoorAtmo_medi_ratio done\n",
      "MDH_outdoorHum_medi_MDH_outdoorAtmo_mean_ratio done\n",
      "MDH_outdoorHum_medi_MD_outdoorAtmo_medi_ratio done\n"
     ]
    },
    {
     "name": "stderr",
     "output_type": "stream",
     "text": [
      " 27%|█████████████████████▍                                                         | 307/1132 [00:07<00:20, 41.01it/s]"
     ]
    },
    {
     "name": "stdout",
     "output_type": "stream",
     "text": [
      "MDH_outdoorHum_medi_MD_outdoorAtmo_mean_ratio done\n",
      "MDH_outdoorHum_medi_MDH_indoorHum_medi_ratio done\n",
      "MDH_outdoorHum_medi_MDH_indoorHum_mean_ratio done\n",
      "MDH_outdoorHum_medi_MD_indoorHum_medi_ratio done\n",
      "MDH_outdoorHum_medi_MD_indoorHum_mean_ratio done\n",
      "MDH_outdoorHum_medi_MDH_indoorAtmo_medi_ratio done\n",
      "MDH_outdoorHum_medi_MDH_indoorAtmo_mean_ratio done\n",
      "MDH_outdoorHum_medi_MD_indoorAtmo_medi_ratio done\n",
      "MDH_outdoorHum_medi_MD_indoorAtmo_mean_ratio done\n"
     ]
    },
    {
     "name": "stderr",
     "output_type": "stream",
     "text": [
      " 28%|██████████████████████                                                         | 316/1132 [00:07<00:20, 39.79it/s]"
     ]
    },
    {
     "name": "stdout",
     "output_type": "stream",
     "text": [
      "MDH_outdoorHum_mean_outdoorTemp_ratio done\n",
      "MDH_outdoorHum_mean_outdoorHum_ratio done\n",
      "MDH_outdoorHum_mean_outdoorAtmo_ratio done\n",
      "MDH_outdoorHum_mean_indoorHum_ratio done\n",
      "MDH_outdoorHum_mean_indoorAtmo_ratio done\n",
      "MDH_outdoorHum_mean_MDH_outdoorTemp_medi_ratio done\n",
      "MDH_outdoorHum_mean_MDH_outdoorTemp_mean_ratio done\n",
      "MDH_outdoorHum_mean_MD_outdoorTemp_medi_ratio"
     ]
    },
    {
     "name": "stderr",
     "output_type": "stream",
     "text": [
      " 29%|██████████████████████▋                                                        | 325/1132 [00:08<00:20, 39.32it/s]"
     ]
    },
    {
     "name": "stdout",
     "output_type": "stream",
     "text": [
      " done\n",
      "MDH_outdoorHum_mean_MD_outdoorTemp_mean_ratio done\n",
      "MDH_outdoorHum_mean_MDH_outdoorHum_medi_ratio done\n",
      "MDH_outdoorHum_mean_MD_outdoorHum_medi_ratio done\n",
      "MDH_outdoorHum_mean_MD_outdoorHum_mean_ratio done\n",
      "MDH_outdoorHum_mean_MDH_outdoorAtmo_medi_ratio done\n",
      "MDH_outdoorHum_mean_MDH_outdoorAtmo_mean_ratio done\n",
      "MDH_outdoorHum_mean_MD_outdoorAtmo_medi_ratio done\n",
      "MDH_outdoorHum_mean_MD_outdoorAtmo_mean_ratio done\n"
     ]
    },
    {
     "name": "stderr",
     "output_type": "stream",
     "text": [
      " 30%|███████████████████████▎                                                       | 334/1132 [00:08<00:19, 40.55it/s]"
     ]
    },
    {
     "name": "stdout",
     "output_type": "stream",
     "text": [
      "MDH_outdoorHum_mean_MDH_indoorHum_medi_ratio done\n",
      "MDH_outdoorHum_mean_MDH_indoorHum_mean_ratio done\n",
      "MDH_outdoorHum_mean_MD_indoorHum_medi_ratio done\n",
      "MDH_outdoorHum_mean_MD_indoorHum_mean_ratio done\n",
      "MDH_outdoorHum_mean_MDH_indoorAtmo_medi_ratio done\n",
      "MDH_outdoorHum_mean_MDH_indoorAtmo_mean_ratio done\n",
      "MDH_outdoorHum_mean_MD_indoorAtmo_medi_ratio done\n",
      "MDH_outdoorHum_mean_MD_indoorAtmo_mean_ratio done\n",
      "MD_outdoorHum_medi_outdoorTemp_ratio done\n"
     ]
    },
    {
     "name": "stderr",
     "output_type": "stream",
     "text": [
      "\r",
      " 30%|███████████████████████▋                                                       | 339/1132 [00:08<00:20, 39.50it/s]"
     ]
    },
    {
     "name": "stdout",
     "output_type": "stream",
     "text": [
      "MD_outdoorHum_medi_outdoorHum_ratio done\n",
      "MD_outdoorHum_medi_outdoorAtmo_ratio done\n",
      "MD_outdoorHum_medi_indoorHum_ratio done\n",
      "MD_outdoorHum_medi_indoorAtmo_ratio done\n",
      "MD_outdoorHum_medi_MDH_outdoorTemp_medi_ratio done\n",
      "MD_outdoorHum_medi_MDH_outdoorTemp_mean_ratio done\n",
      "MD_outdoorHum_medi_MD_outdoorTemp_medi_ratio done\n",
      "MD_outdoorHum_medi_MD_outdoorTemp_mean_ratio done\n"
     ]
    },
    {
     "name": "stderr",
     "output_type": "stream",
     "text": [
      " 31%|████████████████████████▎                                                      | 348/1132 [00:08<00:19, 40.67it/s]"
     ]
    },
    {
     "name": "stdout",
     "output_type": "stream",
     "text": [
      "MD_outdoorHum_medi_MDH_outdoorHum_medi_ratio done\n",
      "MD_outdoorHum_medi_MDH_outdoorHum_mean_ratio done\n",
      "MD_outdoorHum_medi_MD_outdoorHum_mean_ratio done\n",
      "MD_outdoorHum_medi_MDH_outdoorAtmo_medi_ratio done\n",
      "MD_outdoorHum_medi_MDH_outdoorAtmo_mean_ratio done\n",
      "MD_outdoorHum_medi_MD_outdoorAtmo_medi_ratio done\n",
      "MD_outdoorHum_medi_MD_outdoorAtmo_mean_ratio done\n",
      "MD_outdoorHum_medi_MDH_indoorHum_medi_ratio done\n",
      "MD_outdoorHum_medi_MDH_indoorHum_mean_ratio done\n"
     ]
    },
    {
     "name": "stderr",
     "output_type": "stream",
     "text": [
      " 32%|████████████████████████▉                                                      | 358/1132 [00:08<00:18, 40.76it/s]"
     ]
    },
    {
     "name": "stdout",
     "output_type": "stream",
     "text": [
      "MD_outdoorHum_medi_MD_indoorHum_medi_ratio done\n",
      "MD_outdoorHum_medi_MD_indoorHum_mean_ratio done\n",
      "MD_outdoorHum_medi_MDH_indoorAtmo_medi_ratio done\n",
      "MD_outdoorHum_medi_MDH_indoorAtmo_mean_ratio done\n",
      "MD_outdoorHum_medi_MD_indoorAtmo_medi_ratio done\n",
      "MD_outdoorHum_medi_MD_indoorAtmo_mean_ratio done\n",
      "MD_outdoorHum_mean_outdoorTemp_ratio done\n",
      "MD_outdoorHum_mean_outdoorHum_ratio done\n"
     ]
    },
    {
     "name": "stderr",
     "output_type": "stream",
     "text": [
      " 33%|█████████████████████████▋                                                     | 368/1132 [00:09<00:18, 40.25it/s]"
     ]
    },
    {
     "name": "stdout",
     "output_type": "stream",
     "text": [
      "MD_outdoorHum_mean_outdoorAtmo_ratio done\n",
      "MD_outdoorHum_mean_indoorHum_ratio done\n",
      "MD_outdoorHum_mean_indoorAtmo_ratio done\n",
      "MD_outdoorHum_mean_MDH_outdoorTemp_medi_ratio done\n",
      "MD_outdoorHum_mean_MDH_outdoorTemp_mean_ratio done\n",
      "MD_outdoorHum_mean_MD_outdoorTemp_medi_ratio done\n",
      "MD_outdoorHum_mean_MD_outdoorTemp_mean_ratio done\n",
      "MD_outdoorHum_mean_MDH_outdoorHum_medi_ratio done\n",
      "MD_outdoorHum_mean_MDH_outdoorHum_mean_ratio done\n"
     ]
    },
    {
     "name": "stderr",
     "output_type": "stream",
     "text": [
      "\r",
      " 33%|██████████████████████████                                                     | 373/1132 [00:09<00:18, 40.77it/s]"
     ]
    },
    {
     "name": "stdout",
     "output_type": "stream",
     "text": [
      "MD_outdoorHum_mean_MD_outdoorHum_medi_ratio done\n",
      "MD_outdoorHum_mean_MDH_outdoorAtmo_medi_ratio done\n",
      "MD_outdoorHum_mean_MDH_outdoorAtmo_mean_ratio done\n",
      "MD_outdoorHum_mean_MD_outdoorAtmo_medi_ratio done\n",
      "MD_outdoorHum_mean_MD_outdoorAtmo_mean_ratio done\n",
      "MD_outdoorHum_mean_MDH_indoorHum_medi_ratio done\n",
      "MD_outdoorHum_mean_MDH_indoorHum_mean_ratio done\n",
      "MD_outdoorHum_mean_MD_indoorHum_medi_ratio done\n",
      "MD_outdoorHum_mean_MD_indoorHum_mean_ratio done\n"
     ]
    },
    {
     "name": "stderr",
     "output_type": "stream",
     "text": [
      " 34%|██████████████████████████▋                                                    | 383/1132 [00:09<00:18, 41.48it/s]"
     ]
    },
    {
     "name": "stdout",
     "output_type": "stream",
     "text": [
      "MD_outdoorHum_mean_MDH_indoorAtmo_medi_ratio done\n",
      "MD_outdoorHum_mean_MDH_indoorAtmo_mean_ratio done\n",
      "MD_outdoorHum_mean_MD_indoorAtmo_medi_ratio done\n",
      "MD_outdoorHum_mean_MD_indoorAtmo_mean_ratio done\n",
      "MDH_outdoorAtmo_medi_outdoorTemp_ratio done\n",
      "MDH_outdoorAtmo_medi_outdoorHum_ratio done\n",
      "MDH_outdoorAtmo_medi_outdoorAtmo_ratio done\n",
      "MDH_outdoorAtmo_medi_indoorHum_ratio done\n",
      "MDH_outdoorAtmo_medi_indoorAtmo_ratio done\n"
     ]
    },
    {
     "name": "stderr",
     "output_type": "stream",
     "text": [
      " 35%|███████████████████████████▍                                                   | 393/1132 [00:09<00:17, 41.79it/s]"
     ]
    },
    {
     "name": "stdout",
     "output_type": "stream",
     "text": [
      "MDH_outdoorAtmo_medi_MDH_outdoorTemp_medi_ratio done\n",
      "MDH_outdoorAtmo_medi_MDH_outdoorTemp_mean_ratio done\n",
      "MDH_outdoorAtmo_medi_MD_outdoorTemp_medi_ratio done\n",
      "MDH_outdoorAtmo_medi_MD_outdoorTemp_mean_ratio done\n",
      "MDH_outdoorAtmo_medi_MDH_outdoorHum_medi_ratio done\n",
      "MDH_outdoorAtmo_medi_MDH_outdoorHum_mean_ratio done\n",
      "MDH_outdoorAtmo_medi_MD_outdoorHum_medi_ratio done\n",
      "MDH_outdoorAtmo_medi_MD_outdoorHum_mean_ratio done\n",
      "MDH_outdoorAtmo_medi_MDH_outdoorAtmo_mean_ratio done\n"
     ]
    },
    {
     "name": "stderr",
     "output_type": "stream",
     "text": [
      " 36%|████████████████████████████                                                   | 403/1132 [00:09<00:17, 40.85it/s]"
     ]
    },
    {
     "name": "stdout",
     "output_type": "stream",
     "text": [
      "MDH_outdoorAtmo_medi_MD_outdoorAtmo_medi_ratio done\n",
      "MDH_outdoorAtmo_medi_MD_outdoorAtmo_mean_ratio done\n",
      "MDH_outdoorAtmo_medi_MDH_indoorHum_medi_ratio done\n",
      "MDH_outdoorAtmo_medi_MDH_indoorHum_mean_ratio done\n",
      "MDH_outdoorAtmo_medi_MD_indoorHum_medi_ratio done\n",
      "MDH_outdoorAtmo_medi_MD_indoorHum_mean_ratio done\n",
      "MDH_outdoorAtmo_medi_MDH_indoorAtmo_medi_ratio done\n",
      "MDH_outdoorAtmo_medi_MDH_indoorAtmo_mean_ratio done\n",
      "MDH_outdoorAtmo_medi_MD_indoorAtmo_medi_ratio done\n"
     ]
    },
    {
     "name": "stderr",
     "output_type": "stream",
     "text": [
      "\r",
      " 36%|████████████████████████████▍                                                  | 408/1132 [00:10<00:17, 41.26it/s]"
     ]
    },
    {
     "name": "stdout",
     "output_type": "stream",
     "text": [
      "MDH_outdoorAtmo_medi_MD_indoorAtmo_mean_ratio done\n",
      "MDH_outdoorAtmo_mean_outdoorTemp_ratio done\n",
      "MDH_outdoorAtmo_mean_outdoorHum_ratio done\n",
      "MDH_outdoorAtmo_mean_outdoorAtmo_ratio done\n",
      "MDH_outdoorAtmo_mean_indoorHum_ratio done\n",
      "MDH_outdoorAtmo_mean_indoorAtmo_ratio done\n",
      "MDH_outdoorAtmo_mean_MDH_outdoorTemp_medi_ratio done\n",
      "MDH_outdoorAtmo_mean_MDH_outdoorTemp_mean_ratio done\n"
     ]
    },
    {
     "name": "stderr",
     "output_type": "stream",
     "text": [
      " 37%|█████████████████████████████▏                                                 | 418/1132 [00:10<00:17, 40.95it/s]"
     ]
    },
    {
     "name": "stdout",
     "output_type": "stream",
     "text": [
      "MDH_outdoorAtmo_mean_MD_outdoorTemp_medi_ratio done\n",
      "MDH_outdoorAtmo_mean_MD_outdoorTemp_mean_ratio done\n",
      "MDH_outdoorAtmo_mean_MDH_outdoorHum_medi_ratio done\n",
      "MDH_outdoorAtmo_mean_MDH_outdoorHum_mean_ratio done\n",
      "MDH_outdoorAtmo_mean_MD_outdoorHum_medi_ratio done\n",
      "MDH_outdoorAtmo_mean_MD_outdoorHum_mean_ratio done\n",
      "MDH_outdoorAtmo_mean_MDH_outdoorAtmo_medi_ratio done\n",
      "MDH_outdoorAtmo_mean_MD_outdoorAtmo_medi_ratio done\n",
      "MDH_outdoorAtmo_mean_MD_outdoorAtmo_mean_ratio done\n"
     ]
    },
    {
     "name": "stderr",
     "output_type": "stream",
     "text": [
      " 38%|█████████████████████████████▊                                                 | 428/1132 [00:10<00:17, 40.48it/s]"
     ]
    },
    {
     "name": "stdout",
     "output_type": "stream",
     "text": [
      "MDH_outdoorAtmo_mean_MDH_indoorHum_medi_ratio done\n",
      "MDH_outdoorAtmo_mean_MDH_indoorHum_mean_ratio done\n",
      "MDH_outdoorAtmo_mean_MD_indoorHum_medi_ratio done\n",
      "MDH_outdoorAtmo_mean_MD_indoorHum_mean_ratio done\n",
      "MDH_outdoorAtmo_mean_MDH_indoorAtmo_medi_ratio done\n",
      "MDH_outdoorAtmo_mean_MDH_indoorAtmo_mean_ratio done\n",
      "MDH_outdoorAtmo_mean_MD_indoorAtmo_medi_ratio done\n",
      "MDH_outdoorAtmo_mean_MD_indoorAtmo_mean_ratio done\n",
      "MD_outdoorAtmo_medi_outdoorTemp_ratio done\n"
     ]
    },
    {
     "name": "stderr",
     "output_type": "stream",
     "text": [
      " 39%|██████████████████████████████▌                                                | 438/1132 [00:10<00:16, 41.71it/s]"
     ]
    },
    {
     "name": "stdout",
     "output_type": "stream",
     "text": [
      "MD_outdoorAtmo_medi_outdoorHum_ratio done\n",
      "MD_outdoorAtmo_medi_outdoorAtmo_ratio done\n",
      "MD_outdoorAtmo_medi_indoorHum_ratio done\n",
      "MD_outdoorAtmo_medi_indoorAtmo_ratio done\n",
      "MD_outdoorAtmo_medi_MDH_outdoorTemp_medi_ratio done\n",
      "MD_outdoorAtmo_medi_MDH_outdoorTemp_mean_ratio done\n",
      "MD_outdoorAtmo_medi_MD_outdoorTemp_medi_ratio done\n",
      "MD_outdoorAtmo_medi_MD_outdoorTemp_mean_ratio done\n",
      "MD_outdoorAtmo_medi_MDH_outdoorHum_medi_ratio done\n"
     ]
    },
    {
     "name": "stderr",
     "output_type": "stream",
     "text": [
      " 40%|███████████████████████████████▎                                               | 448/1132 [00:11<00:16, 40.82it/s]"
     ]
    },
    {
     "name": "stdout",
     "output_type": "stream",
     "text": [
      "MD_outdoorAtmo_medi_MDH_outdoorHum_mean_ratio done\n",
      "MD_outdoorAtmo_medi_MD_outdoorHum_medi_ratio done\n",
      "MD_outdoorAtmo_medi_MD_outdoorHum_mean_ratio done\n",
      "MD_outdoorAtmo_medi_MDH_outdoorAtmo_medi_ratio done\n",
      "MD_outdoorAtmo_medi_MDH_outdoorAtmo_mean_ratio done\n",
      "MD_outdoorAtmo_medi_MD_outdoorAtmo_mean_ratio done\n",
      "MD_outdoorAtmo_medi_MDH_indoorHum_medi_ratio done\n",
      "MD_outdoorAtmo_medi_MDH_indoorHum_mean_ratio done\n",
      "MD_outdoorAtmo_medi_MD_indoorHum_medi_ratio done\n"
     ]
    },
    {
     "name": "stderr",
     "output_type": "stream",
     "text": [
      "\r",
      " 40%|███████████████████████████████▌                                               | 453/1132 [00:11<00:16, 41.26it/s]"
     ]
    },
    {
     "name": "stdout",
     "output_type": "stream",
     "text": [
      "MD_outdoorAtmo_medi_MD_indoorHum_mean_ratio done\n",
      "MD_outdoorAtmo_medi_MDH_indoorAtmo_medi_ratio done\n",
      "MD_outdoorAtmo_medi_MDH_indoorAtmo_mean_ratio done\n",
      "MD_outdoorAtmo_medi_MD_indoorAtmo_medi_ratio done\n",
      "MD_outdoorAtmo_medi_MD_indoorAtmo_mean_ratio done\n",
      "MD_outdoorAtmo_mean_outdoorTemp_ratio done\n",
      "MD_outdoorAtmo_mean_outdoorHum_ratio done\n",
      "MD_outdoorAtmo_mean_outdoorAtmo_ratio done\n",
      "MD_outdoorAtmo_mean_indoorHum_ratio done\n"
     ]
    },
    {
     "name": "stderr",
     "output_type": "stream",
     "text": [
      " 41%|████████████████████████████████▎                                              | 463/1132 [00:11<00:16, 41.10it/s]"
     ]
    },
    {
     "name": "stdout",
     "output_type": "stream",
     "text": [
      "MD_outdoorAtmo_mean_indoorAtmo_ratio done\n",
      "MD_outdoorAtmo_mean_MDH_outdoorTemp_medi_ratio done\n",
      "MD_outdoorAtmo_mean_MDH_outdoorTemp_mean_ratio done\n",
      "MD_outdoorAtmo_mean_MD_outdoorTemp_medi_ratio done\n",
      "MD_outdoorAtmo_mean_MD_outdoorTemp_mean_ratio done\n",
      "MD_outdoorAtmo_mean_MDH_outdoorHum_medi_ratio done\n",
      "MD_outdoorAtmo_mean_MDH_outdoorHum_mean_ratio done\n",
      "MD_outdoorAtmo_mean_MD_outdoorHum_medi_ratio done\n"
     ]
    },
    {
     "name": "stderr",
     "output_type": "stream",
     "text": [
      " 42%|█████████████████████████████████                                              | 473/1132 [00:11<00:15, 41.55it/s]"
     ]
    },
    {
     "name": "stdout",
     "output_type": "stream",
     "text": [
      "MD_outdoorAtmo_mean_MD_outdoorHum_mean_ratio done\n",
      "MD_outdoorAtmo_mean_MDH_outdoorAtmo_medi_ratio done\n",
      "MD_outdoorAtmo_mean_MDH_outdoorAtmo_mean_ratio done\n",
      "MD_outdoorAtmo_mean_MD_outdoorAtmo_medi_ratio done\n",
      "MD_outdoorAtmo_mean_MDH_indoorHum_medi_ratio done\n",
      "MD_outdoorAtmo_mean_MDH_indoorHum_mean_ratio done\n",
      "MD_outdoorAtmo_mean_MD_indoorHum_medi_ratio done\n",
      "MD_outdoorAtmo_mean_MD_indoorHum_mean_ratio done\n",
      "MD_outdoorAtmo_mean_MDH_indoorAtmo_medi_ratio done\n"
     ]
    },
    {
     "name": "stderr",
     "output_type": "stream",
     "text": [
      " 43%|█████████████████████████████████▋                                             | 483/1132 [00:11<00:15, 41.01it/s]"
     ]
    },
    {
     "name": "stdout",
     "output_type": "stream",
     "text": [
      "MD_outdoorAtmo_mean_MDH_indoorAtmo_mean_ratio done\n",
      "MD_outdoorAtmo_mean_MD_indoorAtmo_medi_ratio done\n",
      "MD_outdoorAtmo_mean_MD_indoorAtmo_mean_ratio done\n",
      "MDH_indoorHum_medi_outdoorTemp_ratio done\n",
      "MDH_indoorHum_medi_outdoorHum_ratio done\n",
      "MDH_indoorHum_medi_outdoorAtmo_ratio done\n",
      "MDH_indoorHum_medi_indoorHum_ratio done\n",
      "MDH_indoorHum_medi_indoorAtmo_ratio done\n",
      "MDH_indoorHum_medi_MDH_outdoorTemp_medi_ratio done\n"
     ]
    },
    {
     "name": "stderr",
     "output_type": "stream",
     "text": [
      "\r",
      " 43%|██████████████████████████████████                                             | 488/1132 [00:12<00:15, 41.31it/s]"
     ]
    },
    {
     "name": "stdout",
     "output_type": "stream",
     "text": [
      "MDH_indoorHum_medi_MDH_outdoorTemp_mean_ratio done\n",
      "MDH_indoorHum_medi_MD_outdoorTemp_medi_ratio done\n",
      "MDH_indoorHum_medi_MD_outdoorTemp_mean_ratio done\n",
      "MDH_indoorHum_medi_MDH_outdoorHum_medi_ratio done\n",
      "MDH_indoorHum_medi_MDH_outdoorHum_mean_ratio done\n",
      "MDH_indoorHum_medi_MD_outdoorHum_medi_ratio done\n",
      "MDH_indoorHum_medi_MD_outdoorHum_mean_ratio done\n",
      "MDH_indoorHum_medi_MDH_outdoorAtmo_medi_ratio done\n",
      "MDH_indoorHum_medi_MDH_outdoorAtmo_mean_ratio done\n"
     ]
    },
    {
     "name": "stderr",
     "output_type": "stream",
     "text": [
      " 44%|██████████████████████████████████▊                                            | 498/1132 [00:12<00:15, 41.01it/s]"
     ]
    },
    {
     "name": "stdout",
     "output_type": "stream",
     "text": [
      "MDH_indoorHum_medi_MD_outdoorAtmo_medi_ratio done\n",
      "MDH_indoorHum_medi_MD_outdoorAtmo_mean_ratio done\n",
      "MDH_indoorHum_medi_MDH_indoorHum_mean_ratio done\n",
      "MDH_indoorHum_medi_MD_indoorHum_medi_ratio done\n",
      "MDH_indoorHum_medi_MD_indoorHum_mean_ratio done\n",
      "MDH_indoorHum_medi_MDH_indoorAtmo_medi_ratio done\n",
      "MDH_indoorHum_medi_MDH_indoorAtmo_mean_ratio done\n",
      "MDH_indoorHum_medi_MD_indoorAtmo_medi_ratio done\n",
      "MDH_indoorHum_medi_MD_indoorAtmo_mean_ratio done\n",
      "MDH_indoorHum_mean_outdoorTemp_ratio done\n"
     ]
    },
    {
     "name": "stderr",
     "output_type": "stream",
     "text": [
      " 45%|███████████████████████████████████▍                                           | 508/1132 [00:12<00:15, 40.79it/s]"
     ]
    },
    {
     "name": "stdout",
     "output_type": "stream",
     "text": [
      "MDH_indoorHum_mean_outdoorHum_ratio done\n",
      "MDH_indoorHum_mean_outdoorAtmo_ratio done\n",
      "MDH_indoorHum_mean_indoorHum_ratio done\n",
      "MDH_indoorHum_mean_indoorAtmo_ratio done\n",
      "MDH_indoorHum_mean_MDH_outdoorTemp_medi_ratio done\n",
      "MDH_indoorHum_mean_MDH_outdoorTemp_mean_ratio done\n",
      "MDH_indoorHum_mean_MD_outdoorTemp_medi_ratio done\n",
      "MDH_indoorHum_mean_MD_outdoorTemp_mean_ratio done\n",
      "MDH_indoorHum_mean_MDH_outdoorHum_medi_ratio done\n"
     ]
    },
    {
     "name": "stderr",
     "output_type": "stream",
     "text": [
      " 46%|████████████████████████████████████▏                                          | 518/1132 [00:12<00:14, 41.97it/s]"
     ]
    },
    {
     "name": "stdout",
     "output_type": "stream",
     "text": [
      "MDH_indoorHum_mean_MDH_outdoorHum_mean_ratio done\n",
      "MDH_indoorHum_mean_MD_outdoorHum_medi_ratio done\n",
      "MDH_indoorHum_mean_MD_outdoorHum_mean_ratio done\n",
      "MDH_indoorHum_mean_MDH_outdoorAtmo_medi_ratio done\n",
      "MDH_indoorHum_mean_MDH_outdoorAtmo_mean_ratio done\n",
      "MDH_indoorHum_mean_MD_outdoorAtmo_medi_ratio done\n",
      "MDH_indoorHum_mean_MD_outdoorAtmo_mean_ratio done\n",
      "MDH_indoorHum_mean_MDH_indoorHum_medi_ratio done\n",
      "MDH_indoorHum_mean_MD_indoorHum_medi_ratio done\n"
     ]
    },
    {
     "name": "stderr",
     "output_type": "stream",
     "text": [
      " 47%|████████████████████████████████████▊                                          | 528/1132 [00:13<00:14, 40.89it/s]"
     ]
    },
    {
     "name": "stdout",
     "output_type": "stream",
     "text": [
      "MDH_indoorHum_mean_MD_indoorHum_mean_ratio done\n",
      "MDH_indoorHum_mean_MDH_indoorAtmo_medi_ratio done\n",
      "MDH_indoorHum_mean_MDH_indoorAtmo_mean_ratio done\n",
      "MDH_indoorHum_mean_MD_indoorAtmo_medi_ratio done\n",
      "MDH_indoorHum_mean_MD_indoorAtmo_mean_ratio done\n",
      "MD_indoorHum_medi_outdoorTemp_ratio done\n",
      "MD_indoorHum_medi_outdoorHum_ratio done\n",
      "MD_indoorHum_medi_outdoorAtmo_ratio done\n",
      "MD_indoorHum_medi_indoorHum_ratio done\n"
     ]
    },
    {
     "name": "stderr",
     "output_type": "stream",
     "text": [
      " 48%|█████████████████████████████████████▌                                         | 538/1132 [00:13<00:14, 41.84it/s]"
     ]
    },
    {
     "name": "stdout",
     "output_type": "stream",
     "text": [
      "MD_indoorHum_medi_indoorAtmo_ratio done\n",
      "MD_indoorHum_medi_MDH_outdoorTemp_medi_ratio done\n",
      "MD_indoorHum_medi_MDH_outdoorTemp_mean_ratio done\n",
      "MD_indoorHum_medi_MD_outdoorTemp_medi_ratio done\n",
      "MD_indoorHum_medi_MD_outdoorTemp_mean_ratio done\n",
      "MD_indoorHum_medi_MDH_outdoorHum_medi_ratio done\n",
      "MD_indoorHum_medi_MDH_outdoorHum_mean_ratio done\n",
      "MD_indoorHum_medi_MD_outdoorHum_medi_ratio done\n",
      "MD_indoorHum_medi_MD_outdoorHum_mean_ratio done\n"
     ]
    },
    {
     "name": "stderr",
     "output_type": "stream",
     "text": [
      "\r",
      " 48%|█████████████████████████████████████▉                                         | 543/1132 [00:13<00:14, 40.31it/s]"
     ]
    },
    {
     "name": "stdout",
     "output_type": "stream",
     "text": [
      "MD_indoorHum_medi_MDH_outdoorAtmo_medi_ratio done\n",
      "MD_indoorHum_medi_MDH_outdoorAtmo_mean_ratio done\n",
      "MD_indoorHum_medi_MD_outdoorAtmo_medi_ratio done\n",
      "MD_indoorHum_medi_MD_outdoorAtmo_mean_ratio done\n",
      "MD_indoorHum_medi_MDH_indoorHum_medi_ratio done\n",
      "MD_indoorHum_medi_MDH_indoorHum_mean_ratio done\n",
      "MD_indoorHum_medi_MD_indoorHum_mean_ratio done\n",
      "MD_indoorHum_medi_MDH_indoorAtmo_medi_ratio done\n"
     ]
    },
    {
     "name": "stderr",
     "output_type": "stream",
     "text": [
      " 49%|██████████████████████████████████████▌                                        | 553/1132 [00:13<00:13, 42.10it/s]"
     ]
    },
    {
     "name": "stdout",
     "output_type": "stream",
     "text": [
      "MD_indoorHum_medi_MDH_indoorAtmo_mean_ratio done\n",
      "MD_indoorHum_medi_MD_indoorAtmo_medi_ratio done\n",
      "MD_indoorHum_medi_MD_indoorAtmo_mean_ratio done\n",
      "MD_indoorHum_mean_outdoorTemp_ratio done\n",
      "MD_indoorHum_mean_outdoorHum_ratio done\n",
      "MD_indoorHum_mean_outdoorAtmo_ratio done\n",
      "MD_indoorHum_mean_indoorHum_ratio done\n",
      "MD_indoorHum_mean_indoorAtmo_ratio done\n",
      "MD_indoorHum_mean_MDH_outdoorTemp_medi_ratio done\n"
     ]
    },
    {
     "name": "stderr",
     "output_type": "stream",
     "text": [
      " 50%|███████████████████████████████████████▎                                       | 563/1132 [00:13<00:13, 41.36it/s]"
     ]
    },
    {
     "name": "stdout",
     "output_type": "stream",
     "text": [
      "MD_indoorHum_mean_MDH_outdoorTemp_mean_ratio done\n",
      "MD_indoorHum_mean_MD_outdoorTemp_medi_ratio done\n",
      "MD_indoorHum_mean_MD_outdoorTemp_mean_ratio done\n",
      "MD_indoorHum_mean_MDH_outdoorHum_medi_ratio done\n",
      "MD_indoorHum_mean_MDH_outdoorHum_mean_ratio done\n",
      "MD_indoorHum_mean_MD_outdoorHum_medi_ratio done\n",
      "MD_indoorHum_mean_MD_outdoorHum_mean_ratio done\n",
      "MD_indoorHum_mean_MDH_outdoorAtmo_medi_ratio done\n",
      "MD_indoorHum_mean_MDH_outdoorAtmo_mean_ratio done\n"
     ]
    },
    {
     "name": "stderr",
     "output_type": "stream",
     "text": [
      " 51%|███████████████████████████████████████▉                                       | 573/1132 [00:14<00:13, 40.56it/s]"
     ]
    },
    {
     "name": "stdout",
     "output_type": "stream",
     "text": [
      "MD_indoorHum_mean_MD_outdoorAtmo_medi_ratio done\n",
      "MD_indoorHum_mean_MD_outdoorAtmo_mean_ratio done\n",
      "MD_indoorHum_mean_MDH_indoorHum_medi_ratio done\n",
      "MD_indoorHum_mean_MDH_indoorHum_mean_ratio done\n",
      "MD_indoorHum_mean_MD_indoorHum_medi_ratio done\n",
      "MD_indoorHum_mean_MDH_indoorAtmo_medi_ratio done\n",
      "MD_indoorHum_mean_MDH_indoorAtmo_mean_ratio done\n",
      "MD_indoorHum_mean_MD_indoorAtmo_medi_ratio done\n",
      "MD_indoorHum_mean_MD_indoorAtmo_mean_ratio done\n"
     ]
    },
    {
     "name": "stderr",
     "output_type": "stream",
     "text": [
      "\r",
      " 51%|████████████████████████████████████████▎                                      | 578/1132 [00:14<00:13, 40.27it/s]"
     ]
    },
    {
     "name": "stdout",
     "output_type": "stream",
     "text": [
      "MDH_indoorAtmo_medi_outdoorTemp_ratio done\n",
      "MDH_indoorAtmo_medi_outdoorHum_ratio done\n",
      "MDH_indoorAtmo_medi_outdoorAtmo_ratio done\n",
      "MDH_indoorAtmo_medi_indoorHum_ratio done\n",
      "MDH_indoorAtmo_medi_indoorAtmo_ratio done\n",
      "MDH_indoorAtmo_medi_MDH_outdoorTemp_medi_ratio done\n",
      "MDH_indoorAtmo_medi_MDH_outdoorTemp_mean_ratio done\n",
      "MDH_indoorAtmo_medi_MD_outdoorTemp_medi_ratio done\n",
      "MDH_indoorAtmo_medi_MD_outdoorTemp_mean_ratio done\n"
     ]
    },
    {
     "name": "stderr",
     "output_type": "stream",
     "text": [
      " 52%|█████████████████████████████████████████                                      | 588/1132 [00:14<00:13, 40.65it/s]"
     ]
    },
    {
     "name": "stdout",
     "output_type": "stream",
     "text": [
      "MDH_indoorAtmo_medi_MDH_outdoorHum_medi_ratio done\n",
      "MDH_indoorAtmo_medi_MDH_outdoorHum_mean_ratio done\n",
      "MDH_indoorAtmo_medi_MD_outdoorHum_medi_ratio done\n",
      "MDH_indoorAtmo_medi_MD_outdoorHum_mean_ratio done\n",
      "MDH_indoorAtmo_medi_MDH_outdoorAtmo_medi_ratio done\n",
      "MDH_indoorAtmo_medi_MDH_outdoorAtmo_mean_ratio done\n",
      "MDH_indoorAtmo_medi_MD_outdoorAtmo_medi_ratio done\n",
      "MDH_indoorAtmo_medi_MD_outdoorAtmo_mean_ratio done\n"
     ]
    },
    {
     "name": "stderr",
     "output_type": "stream",
     "text": [
      " 53%|█████████████████████████████████████████▋                                     | 598/1132 [00:14<00:13, 40.25it/s]"
     ]
    },
    {
     "name": "stdout",
     "output_type": "stream",
     "text": [
      "MDH_indoorAtmo_medi_MDH_indoorHum_medi_ratio done\n",
      "MDH_indoorAtmo_medi_MDH_indoorHum_mean_ratio done\n",
      "MDH_indoorAtmo_medi_MD_indoorHum_medi_ratio done\n",
      "MDH_indoorAtmo_medi_MD_indoorHum_mean_ratio done\n",
      "MDH_indoorAtmo_medi_MDH_indoorAtmo_mean_ratio done\n",
      "MDH_indoorAtmo_medi_MD_indoorAtmo_medi_ratio done\n",
      "MDH_indoorAtmo_medi_MD_indoorAtmo_mean_ratio done\n",
      "MDH_indoorAtmo_mean_outdoorTemp_ratio done\n"
     ]
    },
    {
     "name": "stderr",
     "output_type": "stream",
     "text": [
      "\r",
      " 53%|██████████████████████████████████████████                                     | 603/1132 [00:14<00:13, 40.66it/s]"
     ]
    },
    {
     "name": "stdout",
     "output_type": "stream",
     "text": [
      "MDH_indoorAtmo_mean_outdoorHum_ratio done\n",
      "MDH_indoorAtmo_mean_outdoorAtmo_ratio done\n",
      "MDH_indoorAtmo_mean_indoorHum_ratio done\n",
      "MDH_indoorAtmo_mean_indoorAtmo_ratio done\n",
      "MDH_indoorAtmo_mean_MDH_outdoorTemp_medi_ratio done\n",
      "MDH_indoorAtmo_mean_MDH_outdoorTemp_mean_ratio done\n",
      "MDH_indoorAtmo_mean_MD_outdoorTemp_medi_ratio done\n",
      "MDH_indoorAtmo_mean_MD_outdoorTemp_mean_ratio done\n",
      "MDH_indoorAtmo_mean_MDH_outdoorHum_medi_ratio done\n"
     ]
    },
    {
     "name": "stderr",
     "output_type": "stream",
     "text": [
      " 54%|██████████████████████████████████████████▊                                    | 613/1132 [00:15<00:12, 40.98it/s]"
     ]
    },
    {
     "name": "stdout",
     "output_type": "stream",
     "text": [
      "MDH_indoorAtmo_mean_MDH_outdoorHum_mean_ratio done\n",
      "MDH_indoorAtmo_mean_MD_outdoorHum_medi_ratio done\n",
      "MDH_indoorAtmo_mean_MD_outdoorHum_mean_ratio done\n",
      "MDH_indoorAtmo_mean_MDH_outdoorAtmo_medi_ratio done\n",
      "MDH_indoorAtmo_mean_MDH_outdoorAtmo_mean_ratio done\n",
      "MDH_indoorAtmo_mean_MD_outdoorAtmo_medi_ratio done\n",
      "MDH_indoorAtmo_mean_MD_outdoorAtmo_mean_ratio done\n",
      "MDH_indoorAtmo_mean_MDH_indoorHum_medi_ratio done\n",
      "MDH_indoorAtmo_mean_MDH_indoorHum_mean_ratio done\n"
     ]
    },
    {
     "name": "stderr",
     "output_type": "stream",
     "text": [
      " 55%|███████████████████████████████████████████▌                                   | 624/1132 [00:15<00:12, 41.44it/s]"
     ]
    },
    {
     "name": "stdout",
     "output_type": "stream",
     "text": [
      "MDH_indoorAtmo_mean_MD_indoorHum_medi_ratio done\n",
      "MDH_indoorAtmo_mean_MD_indoorHum_mean_ratio done\n",
      "MDH_indoorAtmo_mean_MDH_indoorAtmo_medi_ratio done\n",
      "MDH_indoorAtmo_mean_MD_indoorAtmo_medi_ratio done\n",
      "MDH_indoorAtmo_mean_MD_indoorAtmo_mean_ratio done\n",
      "MD_indoorAtmo_medi_outdoorTemp_ratio done\n",
      "MD_indoorAtmo_medi_outdoorHum_ratio done\n",
      "MD_indoorAtmo_medi_outdoorAtmo_ratio done\n",
      "MD_indoorAtmo_medi_indoorHum_ratio done\n"
     ]
    },
    {
     "name": "stderr",
     "output_type": "stream",
     "text": [
      " 56%|████████████████████████████████████████████▏                                  | 634/1132 [00:15<00:12, 40.52it/s]"
     ]
    },
    {
     "name": "stdout",
     "output_type": "stream",
     "text": [
      "MD_indoorAtmo_medi_indoorAtmo_ratio done\n",
      "MD_indoorAtmo_medi_MDH_outdoorTemp_medi_ratio done\n",
      "MD_indoorAtmo_medi_MDH_outdoorTemp_mean_ratio done\n",
      "MD_indoorAtmo_medi_MD_outdoorTemp_medi_ratio done\n",
      "MD_indoorAtmo_medi_MD_outdoorTemp_mean_ratio done\n",
      "MD_indoorAtmo_medi_MDH_outdoorHum_medi_ratio done\n",
      "MD_indoorAtmo_medi_MDH_outdoorHum_mean_ratio done\n",
      "MD_indoorAtmo_medi_MD_outdoorHum_medi_ratio done\n",
      "MD_indoorAtmo_medi_MD_outdoorHum_mean_ratio done\n"
     ]
    },
    {
     "name": "stderr",
     "output_type": "stream",
     "text": [
      "\r",
      " 56%|████████████████████████████████████████████▌                                  | 639/1132 [00:15<00:11, 41.11it/s]"
     ]
    },
    {
     "name": "stdout",
     "output_type": "stream",
     "text": [
      "MD_indoorAtmo_medi_MDH_outdoorAtmo_medi_ratio done\n",
      "MD_indoorAtmo_medi_MDH_outdoorAtmo_mean_ratio done\n",
      "MD_indoorAtmo_medi_MD_outdoorAtmo_medi_ratio done\n",
      "MD_indoorAtmo_medi_MD_outdoorAtmo_mean_ratio done\n",
      "MD_indoorAtmo_medi_MDH_indoorHum_medi_ratio done\n",
      "MD_indoorAtmo_medi_MDH_indoorHum_mean_ratio done\n",
      "MD_indoorAtmo_medi_MD_indoorHum_medi_ratio done\n",
      "MD_indoorAtmo_medi_MD_indoorHum_mean_ratio done\n",
      "MD_indoorAtmo_medi_MDH_indoorAtmo_medi_ratio done\n"
     ]
    },
    {
     "name": "stderr",
     "output_type": "stream",
     "text": [
      " 57%|█████████████████████████████████████████████▎                                 | 649/1132 [00:15<00:11, 41.47it/s]"
     ]
    },
    {
     "name": "stdout",
     "output_type": "stream",
     "text": [
      "MD_indoorAtmo_medi_MDH_indoorAtmo_mean_ratio done\n",
      "MD_indoorAtmo_medi_MD_indoorAtmo_mean_ratio done\n",
      "MD_indoorAtmo_mean_outdoorTemp_ratio done\n",
      "MD_indoorAtmo_mean_outdoorHum_ratio done\n",
      "MD_indoorAtmo_mean_outdoorAtmo_ratio done\n",
      "MD_indoorAtmo_mean_indoorHum_ratio done\n",
      "MD_indoorAtmo_mean_indoorAtmo_ratio done\n",
      "MD_indoorAtmo_mean_MDH_outdoorTemp_medi_ratio done\n"
     ]
    },
    {
     "name": "stderr",
     "output_type": "stream",
     "text": [
      " 58%|█████████████████████████████████████████████▉                                 | 659/1132 [00:16<00:11, 41.50it/s]"
     ]
    },
    {
     "name": "stdout",
     "output_type": "stream",
     "text": [
      "MD_indoorAtmo_mean_MDH_outdoorTemp_mean_ratio done\n",
      "MD_indoorAtmo_mean_MD_outdoorTemp_medi_ratio done\n",
      "MD_indoorAtmo_mean_MD_outdoorTemp_mean_ratio done\n",
      "MD_indoorAtmo_mean_MDH_outdoorHum_medi_ratio done\n",
      "MD_indoorAtmo_mean_MDH_outdoorHum_mean_ratio done\n",
      "MD_indoorAtmo_mean_MD_outdoorHum_medi_ratio done\n",
      "MD_indoorAtmo_mean_MD_outdoorHum_mean_ratio done\n",
      "MD_indoorAtmo_mean_MDH_outdoorAtmo_medi_ratio done\n",
      "MD_indoorAtmo_mean_MDH_outdoorAtmo_mean_ratio done\n"
     ]
    },
    {
     "name": "stderr",
     "output_type": "stream",
     "text": [
      "\r",
      " 59%|██████████████████████████████████████████████▎                                | 664/1132 [00:16<00:11, 41.83it/s]"
     ]
    },
    {
     "name": "stdout",
     "output_type": "stream",
     "text": [
      "MD_indoorAtmo_mean_MD_outdoorAtmo_medi_ratio done\n",
      "MD_indoorAtmo_mean_MD_outdoorAtmo_mean_ratio done\n",
      "MD_indoorAtmo_mean_MDH_indoorHum_medi_ratio done\n",
      "MD_indoorAtmo_mean_MDH_indoorHum_mean_ratio done\n",
      "MD_indoorAtmo_mean_MD_indoorHum_medi_ratio done\n",
      "MD_indoorAtmo_mean_MD_indoorHum_mean_ratio done\n",
      "MD_indoorAtmo_mean_MDH_indoorAtmo_medi_ratio done\n",
      "MD_indoorAtmo_mean_MDH_indoorAtmo_mean_ratio done\n"
     ]
    },
    {
     "name": "stderr",
     "output_type": "stream",
     "text": [
      " 60%|███████████████████████████████████████████████                                | 674/1132 [00:16<00:10, 42.81it/s]"
     ]
    },
    {
     "name": "stdout",
     "output_type": "stream",
     "text": [
      "MD_indoorAtmo_mean_MD_indoorAtmo_medi_ratio done\n",
      "dt done\n",
      "hit_mean_x error\n",
      "hit_median_x error\n",
      "hit_max_x error\n",
      "hit_min_x error\n",
      "hit_sum_x error\n",
      "hit_std_x error\n",
      "hit_skew_x error\n",
      "hit_mean_y error\n",
      "hit_median_y error\n"
     ]
    },
    {
     "name": "stderr",
     "output_type": "stream",
     "text": [
      " 61%|███████████████████████████████████████████████▊                               | 686/1132 [00:16<00:09, 47.24it/s]"
     ]
    },
    {
     "name": "stdout",
     "output_type": "stream",
     "text": [
      "hit_max_y error\n",
      "hit_min_y error\n",
      "hit_sum_y error\n",
      "hit_std_y error\n",
      "hit_skew_y error\n",
      "hit_mean_x error\n",
      "hit_median_x error\n",
      "hit_max_x error\n",
      "hit_min_x error\n",
      "hit_sum_x error\n",
      "hit_std_x error\n"
     ]
    },
    {
     "name": "stderr",
     "output_type": "stream",
     "text": [
      " 62%|████████████████████████████████████████████████▋                              | 697/1132 [00:17<00:08, 49.19it/s]"
     ]
    },
    {
     "name": "stdout",
     "output_type": "stream",
     "text": [
      "hit_skew_x error\n",
      "hit_mean_y error\n",
      "hit_median_y error\n",
      "hit_max_y error\n",
      "hit_min_y error\n",
      "hit_sum_y error\n",
      "hit_std_y error\n",
      "hit_skew_y error\n",
      "hit_mean_x error\n",
      "hit_median_x error\n",
      "hit_max_x error\n"
     ]
    },
    {
     "name": "stderr",
     "output_type": "stream",
     "text": [
      " 63%|█████████████████████████████████████████████████▍                             | 708/1132 [00:17<00:08, 50.17it/s]"
     ]
    },
    {
     "name": "stdout",
     "output_type": "stream",
     "text": [
      "hit_min_x error\n",
      "hit_sum_x error\n",
      "hit_std_x error\n",
      "hit_skew_x error\n",
      "hit_mean_y error\n",
      "hit_median_y error\n",
      "hit_max_y error\n",
      "hit_min_y error\n",
      "hit_sum_y error\n",
      "hit_std_y error\n",
      "hit_skew_y error\n"
     ]
    },
    {
     "name": "stderr",
     "output_type": "stream",
     "text": [
      " 64%|██████████████████████████████████████████████████▏                            | 719/1132 [00:17<00:08, 46.66it/s]"
     ]
    },
    {
     "name": "stdout",
     "output_type": "stream",
     "text": [
      "outdoorTemp_20_bin done\n",
      "outdoorTemp_50_bin done\n",
      "outdoorTemp_100_bin done\n",
      "outdoorTemp_200_bin done\n",
      "outdoorHum_20_bin done\n",
      "outdoorHum_50_bin done\n",
      "outdoorHum_100_bin done\n",
      "outdoorHum_200_bin done\n",
      "outdoorAtmo_20_bin done\n"
     ]
    },
    {
     "name": "stderr",
     "output_type": "stream",
     "text": [
      " 64%|██████████████████████████████████████████████████▉                            | 729/1132 [00:17<00:09, 44.21it/s]"
     ]
    },
    {
     "name": "stdout",
     "output_type": "stream",
     "text": [
      "outdoorAtmo_50_bin done\n",
      "outdoorAtmo_100_bin done\n",
      "outdoorAtmo_200_bin done\n",
      "indoorHum_20_bin done\n",
      "indoorHum_50_bin done\n",
      "indoorHum_100_bin done\n",
      "indoorHum_200_bin done\n",
      "indoorAtmo_20_bin done\n",
      "indoorAtmo_50_bin done\n"
     ]
    },
    {
     "name": "stderr",
     "output_type": "stream",
     "text": [
      " 65%|███████████████████████████████████████████████████▌                           | 739/1132 [00:17<00:09, 43.36it/s]"
     ]
    },
    {
     "name": "stdout",
     "output_type": "stream",
     "text": [
      "indoorAtmo_100_bin done\n",
      "indoorAtmo_200_bin done\n",
      "outdoorTemp_20_bin_outdoorTemp_medi done\n",
      "outdoorTemp_20_bin_outdoorTemp_mean done\n",
      "outdoorTemp_20_bin_outdoorTemp_max done\n",
      "outdoorTemp_20_bin_outdoorTemp_min done\n",
      "outdoorTemp_20_bin_outdoorHum_medi done\n",
      "outdoorTemp_20_bin_outdoorHum_mean done\n",
      "outdoorTemp_20_bin_outdoorHum_max done\n"
     ]
    },
    {
     "name": "stderr",
     "output_type": "stream",
     "text": [
      "\r",
      " 66%|███████████████████████████████████████████████████▉                           | 744/1132 [00:18<00:09, 41.49it/s]"
     ]
    },
    {
     "name": "stdout",
     "output_type": "stream",
     "text": [
      "outdoorTemp_20_bin_outdoorHum_min done\n",
      "outdoorTemp_20_bin_outdoorAtmo_medi done\n",
      "outdoorTemp_20_bin_outdoorAtmo_mean done\n",
      "outdoorTemp_20_bin_outdoorAtmo_max done\n",
      "outdoorTemp_20_bin_outdoorAtmo_min done\n",
      "outdoorTemp_20_bin_indoorHum_medi done\n",
      "outdoorTemp_20_bin_indoorHum_mean done\n",
      "outdoorTemp_20_bin_indoorHum_max done\n",
      "outdoorTemp_20_bin_indoorHum_min done\n"
     ]
    },
    {
     "name": "stderr",
     "output_type": "stream",
     "text": [
      " 67%|████████████████████████████████████████████████████▌                          | 754/1132 [00:18<00:09, 40.94it/s]"
     ]
    },
    {
     "name": "stdout",
     "output_type": "stream",
     "text": [
      "outdoorTemp_20_bin_indoorAtmo_medi done\n",
      "outdoorTemp_20_bin_indoorAtmo_mean done\n",
      "outdoorTemp_20_bin_indoorAtmo_max done\n",
      "outdoorTemp_20_bin_indoorAtmo_min done\n",
      "outdoorHum_20_bin_outdoorTemp_medi done\n",
      "outdoorHum_20_bin_outdoorTemp_mean done\n",
      "outdoorHum_20_bin_outdoorTemp_max done\n",
      "outdoorHum_20_bin_outdoorTemp_min done\n",
      "outdoorHum_20_bin_outdoorHum_medi done\n"
     ]
    },
    {
     "name": "stderr",
     "output_type": "stream",
     "text": [
      " 67%|█████████████████████████████████████████████████████▎                         | 764/1132 [00:18<00:08, 41.99it/s]"
     ]
    },
    {
     "name": "stdout",
     "output_type": "stream",
     "text": [
      "outdoorHum_20_bin_outdoorHum_mean done\n",
      "outdoorHum_20_bin_outdoorHum_max done\n",
      "outdoorHum_20_bin_outdoorHum_min done\n",
      "outdoorHum_20_bin_outdoorAtmo_medi done\n",
      "outdoorHum_20_bin_outdoorAtmo_mean done\n",
      "outdoorHum_20_bin_outdoorAtmo_max done\n",
      "outdoorHum_20_bin_outdoorAtmo_min done\n",
      "outdoorHum_20_bin_indoorHum_medi done\n",
      "outdoorHum_20_bin_indoorHum_mean done\n"
     ]
    },
    {
     "name": "stderr",
     "output_type": "stream",
     "text": [
      " 68%|██████████████████████████████████████████████████████                         | 774/1132 [00:18<00:08, 42.48it/s]"
     ]
    },
    {
     "name": "stdout",
     "output_type": "stream",
     "text": [
      "outdoorHum_20_bin_indoorHum_max done\n",
      "outdoorHum_20_bin_indoorHum_min done\n",
      "outdoorHum_20_bin_indoorAtmo_medi done\n",
      "outdoorHum_20_bin_indoorAtmo_mean done\n",
      "outdoorHum_20_bin_indoorAtmo_max done\n",
      "outdoorHum_20_bin_indoorAtmo_min done\n",
      "outdoorAtmo_20_bin_outdoorTemp_medi done\n",
      "outdoorAtmo_20_bin_outdoorTemp_mean done\n",
      "outdoorAtmo_20_bin_outdoorTemp_max done\n"
     ]
    },
    {
     "name": "stderr",
     "output_type": "stream",
     "text": [
      " 69%|██████████████████████████████████████████████████████▋                        | 784/1132 [00:19<00:07, 44.10it/s]"
     ]
    },
    {
     "name": "stdout",
     "output_type": "stream",
     "text": [
      "outdoorAtmo_20_bin_outdoorTemp_min done\n",
      "outdoorAtmo_20_bin_outdoorHum_medi done\n",
      "outdoorAtmo_20_bin_outdoorHum_mean done\n",
      "outdoorAtmo_20_bin_outdoorHum_max done\n",
      "outdoorAtmo_20_bin_outdoorHum_min done\n",
      "outdoorAtmo_20_bin_outdoorAtmo_medi done\n",
      "outdoorAtmo_20_bin_outdoorAtmo_mean done\n",
      "outdoorAtmo_20_bin_outdoorAtmo_max done\n",
      "outdoorAtmo_20_bin_outdoorAtmo_min done\n",
      "outdoorAtmo_20_bin_indoorHum_medi done\n"
     ]
    },
    {
     "name": "stderr",
     "output_type": "stream",
     "text": [
      " 70%|███████████████████████████████████████████████████████▍                       | 795/1132 [00:19<00:07, 45.79it/s]"
     ]
    },
    {
     "name": "stdout",
     "output_type": "stream",
     "text": [
      "outdoorAtmo_20_bin_indoorHum_mean done\n",
      "outdoorAtmo_20_bin_indoorHum_max done\n",
      "outdoorAtmo_20_bin_indoorHum_min done\n",
      "outdoorAtmo_20_bin_indoorAtmo_medi done\n",
      "outdoorAtmo_20_bin_indoorAtmo_mean done\n",
      "outdoorAtmo_20_bin_indoorAtmo_max done\n",
      "outdoorAtmo_20_bin_indoorAtmo_min done\n",
      "indoorHum_20_bin_outdoorTemp_medi done\n",
      "indoorHum_20_bin_outdoorTemp_mean done\n",
      "indoorHum_20_bin_outdoorTemp_max done\n",
      "indoorHum_20_bin_outdoorTemp_min done\n"
     ]
    },
    {
     "name": "stderr",
     "output_type": "stream",
     "text": [
      " 71%|████████████████████████████████████████████████████████▏                      | 805/1132 [00:19<00:07, 44.24it/s]"
     ]
    },
    {
     "name": "stdout",
     "output_type": "stream",
     "text": [
      "indoorHum_20_bin_outdoorHum_medi done\n",
      "indoorHum_20_bin_outdoorHum_mean done\n",
      "indoorHum_20_bin_outdoorHum_max done\n",
      "indoorHum_20_bin_outdoorHum_min done\n",
      "indoorHum_20_bin_outdoorAtmo_medi done\n",
      "indoorHum_20_bin_outdoorAtmo_mean done\n",
      "indoorHum_20_bin_outdoorAtmo_max done\n",
      "indoorHum_20_bin_outdoorAtmo_min done\n",
      "indoorHum_20_bin_indoorHum_medi done\n"
     ]
    },
    {
     "name": "stderr",
     "output_type": "stream",
     "text": [
      "\r",
      " 72%|████████████████████████████████████████████████████████▌                      | 810/1132 [00:19<00:07, 41.84it/s]"
     ]
    },
    {
     "name": "stdout",
     "output_type": "stream",
     "text": [
      "indoorHum_20_bin_indoorHum_mean done\n",
      "indoorHum_20_bin_indoorHum_max done\n",
      "indoorHum_20_bin_indoorHum_min done\n",
      "indoorHum_20_bin_indoorAtmo_medi done\n",
      "indoorHum_20_bin_indoorAtmo_mean done\n",
      "indoorHum_20_bin_indoorAtmo_max done\n",
      "indoorHum_20_bin_indoorAtmo_min done\n",
      "indoorAtmo_20_bin_outdoorTemp_medi done\n",
      "indoorAtmo_20_bin_outdoorTemp_mean done\n",
      "indoorAtmo_20_bin_outdoorTemp_max done\n"
     ]
    },
    {
     "name": "stderr",
     "output_type": "stream",
     "text": [
      " 73%|█████████████████████████████████████████████████████████▎                     | 822/1132 [00:19<00:06, 46.55it/s]"
     ]
    },
    {
     "name": "stdout",
     "output_type": "stream",
     "text": [
      "indoorAtmo_20_bin_outdoorTemp_min done\n",
      "indoorAtmo_20_bin_outdoorHum_medi done\n",
      "indoorAtmo_20_bin_outdoorHum_mean done\n",
      "indoorAtmo_20_bin_outdoorHum_max done\n",
      "indoorAtmo_20_bin_outdoorHum_min done\n",
      "indoorAtmo_20_bin_outdoorAtmo_medi done\n",
      "indoorAtmo_20_bin_outdoorAtmo_mean done\n",
      "indoorAtmo_20_bin_outdoorAtmo_max done\n",
      "indoorAtmo_20_bin_outdoorAtmo_min done\n",
      "indoorAtmo_20_bin_indoorHum_medi done\n",
      "indoorAtmo_20_bin_indoorHum_mean done\n"
     ]
    },
    {
     "name": "stderr",
     "output_type": "stream",
     "text": [
      " 74%|██████████████████████████████████████████████████████████▏                    | 833/1132 [00:20<00:06, 47.23it/s]"
     ]
    },
    {
     "name": "stdout",
     "output_type": "stream",
     "text": [
      "indoorAtmo_20_bin_indoorHum_max done\n",
      "indoorAtmo_20_bin_indoorHum_min done\n",
      "indoorAtmo_20_bin_indoorAtmo_medi done\n",
      "indoorAtmo_20_bin_indoorAtmo_mean done\n",
      "indoorAtmo_20_bin_indoorAtmo_max done\n",
      "indoorAtmo_20_bin_indoorAtmo_min done\n",
      "outdoorTemp_50_bin_outdoorTemp_medi done\n",
      "outdoorTemp_50_bin_outdoorTemp_mean done\n",
      "outdoorTemp_50_bin_outdoorTemp_max done\n",
      "outdoorTemp_50_bin_outdoorTemp_min done\n"
     ]
    },
    {
     "name": "stderr",
     "output_type": "stream",
     "text": [
      " 74%|██████████████████████████████████████████████████████████▊                    | 843/1132 [00:20<00:06, 44.83it/s]"
     ]
    },
    {
     "name": "stdout",
     "output_type": "stream",
     "text": [
      "outdoorTemp_50_bin_outdoorHum_medi done\n",
      "outdoorTemp_50_bin_outdoorHum_mean done\n",
      "outdoorTemp_50_bin_outdoorHum_max done\n",
      "outdoorTemp_50_bin_outdoorHum_min done\n",
      "outdoorTemp_50_bin_outdoorAtmo_medi done\n",
      "outdoorTemp_50_bin_outdoorAtmo_mean done\n",
      "outdoorTemp_50_bin_outdoorAtmo_max done\n",
      "outdoorTemp_50_bin_outdoorAtmo_min done\n",
      "outdoorTemp_50_bin_indoorHum_medi done\n"
     ]
    },
    {
     "name": "stderr",
     "output_type": "stream",
     "text": [
      " 75%|███████████████████████████████████████████████████████████▌                   | 853/1132 [00:20<00:06, 42.14it/s]"
     ]
    },
    {
     "name": "stdout",
     "output_type": "stream",
     "text": [
      "outdoorTemp_50_bin_indoorHum_mean done\n",
      "outdoorTemp_50_bin_indoorHum_max done\n",
      "outdoorTemp_50_bin_indoorHum_min done\n",
      "outdoorTemp_50_bin_indoorAtmo_medi done\n",
      "outdoorTemp_50_bin_indoorAtmo_mean done\n",
      "outdoorTemp_50_bin_indoorAtmo_max done\n",
      "outdoorTemp_50_bin_indoorAtmo_min done\n",
      "outdoorHum_50_bin_outdoorTemp_medi done\n",
      "outdoorHum_50_bin_outdoorTemp_mean done\n"
     ]
    },
    {
     "name": "stderr",
     "output_type": "stream",
     "text": [
      " 76%|████████████████████████████████████████████████████████████▏                  | 863/1132 [00:20<00:06, 41.48it/s]"
     ]
    },
    {
     "name": "stdout",
     "output_type": "stream",
     "text": [
      "outdoorHum_50_bin_outdoorTemp_max done\n",
      "outdoorHum_50_bin_outdoorTemp_min done\n",
      "outdoorHum_50_bin_outdoorHum_medi done\n",
      "outdoorHum_50_bin_outdoorHum_mean done\n",
      "outdoorHum_50_bin_outdoorHum_max done\n",
      "outdoorHum_50_bin_outdoorHum_min done\n",
      "outdoorHum_50_bin_outdoorAtmo_medi done\n",
      "outdoorHum_50_bin_outdoorAtmo_mean done\n",
      "outdoorHum_50_bin_outdoorAtmo_max done\n"
     ]
    },
    {
     "name": "stderr",
     "output_type": "stream",
     "text": [
      "\r",
      " 77%|████████████████████████████████████████████████████████████▌                  | 868/1132 [00:20<00:06, 41.11it/s]"
     ]
    },
    {
     "name": "stdout",
     "output_type": "stream",
     "text": [
      "outdoorHum_50_bin_outdoorAtmo_min done\n",
      "outdoorHum_50_bin_indoorHum_medi done\n",
      "outdoorHum_50_bin_indoorHum_mean done\n",
      "outdoorHum_50_bin_indoorHum_max done\n",
      "outdoorHum_50_bin_indoorHum_min done\n",
      "outdoorHum_50_bin_indoorAtmo_medi done\n",
      "outdoorHum_50_bin_indoorAtmo_mean done\n",
      "outdoorHum_50_bin_indoorAtmo_max done\n"
     ]
    },
    {
     "name": "stderr",
     "output_type": "stream",
     "text": [
      " 78%|█████████████████████████████████████████████████████████████▎                 | 878/1132 [00:21<00:05, 42.45it/s]"
     ]
    },
    {
     "name": "stdout",
     "output_type": "stream",
     "text": [
      "outdoorHum_50_bin_indoorAtmo_min done\n",
      "outdoorAtmo_50_bin_outdoorTemp_medi done\n",
      "outdoorAtmo_50_bin_outdoorTemp_mean done\n",
      "outdoorAtmo_50_bin_outdoorTemp_max done\n",
      "outdoorAtmo_50_bin_outdoorTemp_min done\n",
      "outdoorAtmo_50_bin_outdoorHum_medi done\n",
      "outdoorAtmo_50_bin_outdoorHum_mean done\n",
      "outdoorAtmo_50_bin_outdoorHum_max done\n",
      "outdoorAtmo_50_bin_outdoorHum_min done\n",
      "outdoorAtmo_50_bin_outdoorAtmo_medi done\n"
     ]
    },
    {
     "name": "stderr",
     "output_type": "stream",
     "text": [
      " 79%|██████████████████████████████████████████████████████████████                 | 889/1132 [00:21<00:05, 46.41it/s]"
     ]
    },
    {
     "name": "stdout",
     "output_type": "stream",
     "text": [
      "outdoorAtmo_50_bin_outdoorAtmo_mean done\n",
      "outdoorAtmo_50_bin_outdoorAtmo_max done\n",
      "outdoorAtmo_50_bin_outdoorAtmo_min done\n",
      "outdoorAtmo_50_bin_indoorHum_medi done\n",
      "outdoorAtmo_50_bin_indoorHum_mean done\n",
      "outdoorAtmo_50_bin_indoorHum_max done\n",
      "outdoorAtmo_50_bin_indoorHum_min done\n",
      "outdoorAtmo_50_bin_indoorAtmo_medi done\n",
      "outdoorAtmo_50_bin_indoorAtmo_mean done\n"
     ]
    },
    {
     "name": "stderr",
     "output_type": "stream",
     "text": [
      " 79%|██████████████████████████████████████████████████████████████▋                | 899/1132 [00:21<00:05, 42.56it/s]"
     ]
    },
    {
     "name": "stdout",
     "output_type": "stream",
     "text": [
      "outdoorAtmo_50_bin_indoorAtmo_max done\n",
      "outdoorAtmo_50_bin_indoorAtmo_min done\n",
      "indoorHum_50_bin_outdoorTemp_medi done\n",
      "indoorHum_50_bin_outdoorTemp_mean done\n",
      "indoorHum_50_bin_outdoorTemp_max done\n",
      "indoorHum_50_bin_outdoorTemp_min done\n",
      "indoorHum_50_bin_outdoorHum_medi done\n",
      "indoorHum_50_bin_outdoorHum_mean done\n",
      "indoorHum_50_bin_outdoorHum_max done\n"
     ]
    },
    {
     "name": "stderr",
     "output_type": "stream",
     "text": [
      "\r",
      " 80%|███████████████████████████████████████████████████████████████                | 904/1132 [00:21<00:05, 42.72it/s]"
     ]
    },
    {
     "name": "stdout",
     "output_type": "stream",
     "text": [
      "indoorHum_50_bin_outdoorHum_min done\n",
      "indoorHum_50_bin_outdoorAtmo_medi done\n",
      "indoorHum_50_bin_outdoorAtmo_mean done\n",
      "indoorHum_50_bin_outdoorAtmo_max done\n",
      "indoorHum_50_bin_outdoorAtmo_min done\n",
      "indoorHum_50_bin_indoorHum_medi done\n",
      "indoorHum_50_bin_indoorHum_mean done\n",
      "indoorHum_50_bin_indoorHum_max done\n",
      "indoorHum_50_bin_indoorHum_min done\n"
     ]
    },
    {
     "name": "stderr",
     "output_type": "stream",
     "text": [
      " 81%|███████████████████████████████████████████████████████████████▊               | 914/1132 [00:22<00:05, 41.25it/s]"
     ]
    },
    {
     "name": "stdout",
     "output_type": "stream",
     "text": [
      "indoorHum_50_bin_indoorAtmo_medi done\n",
      "indoorHum_50_bin_indoorAtmo_mean done\n",
      "indoorHum_50_bin_indoorAtmo_max done\n",
      "indoorHum_50_bin_indoorAtmo_min done\n",
      "indoorAtmo_50_bin_outdoorTemp_medi done\n",
      "indoorAtmo_50_bin_outdoorTemp_mean done\n",
      "indoorAtmo_50_bin_outdoorTemp_max done\n",
      "indoorAtmo_50_bin_outdoorTemp_min done\n"
     ]
    },
    {
     "name": "stderr",
     "output_type": "stream",
     "text": [
      " 82%|████████████████████████████████████████████████████████████████▌              | 925/1132 [00:22<00:04, 45.82it/s]"
     ]
    },
    {
     "name": "stdout",
     "output_type": "stream",
     "text": [
      "indoorAtmo_50_bin_outdoorHum_medi done\n",
      "indoorAtmo_50_bin_outdoorHum_mean done\n",
      "indoorAtmo_50_bin_outdoorHum_max done\n",
      "indoorAtmo_50_bin_outdoorHum_min done\n",
      "indoorAtmo_50_bin_outdoorAtmo_medi done\n",
      "indoorAtmo_50_bin_outdoorAtmo_mean done\n",
      "indoorAtmo_50_bin_outdoorAtmo_max done\n",
      "indoorAtmo_50_bin_outdoorAtmo_min done\n",
      "indoorAtmo_50_bin_indoorHum_medi done\n",
      "indoorAtmo_50_bin_indoorHum_mean done\n",
      "indoorAtmo_50_bin_indoorHum_max done\n"
     ]
    },
    {
     "name": "stderr",
     "output_type": "stream",
     "text": [
      " 83%|█████████████████████████████████████████████████████████████████▎             | 935/1132 [00:22<00:04, 42.55it/s]"
     ]
    },
    {
     "name": "stdout",
     "output_type": "stream",
     "text": [
      "indoorAtmo_50_bin_indoorHum_min done\n",
      "indoorAtmo_50_bin_indoorAtmo_medi done\n",
      "indoorAtmo_50_bin_indoorAtmo_mean done\n",
      "indoorAtmo_50_bin_indoorAtmo_max done\n",
      "indoorAtmo_50_bin_indoorAtmo_min done\n",
      "outdoorTemp_100_bin_outdoorTemp_medi done\n",
      "outdoorTemp_100_bin_outdoorTemp_mean done\n",
      "outdoorTemp_100_bin_outdoorTemp_max done\n",
      "outdoorTemp_100_bin_outdoorTemp_min done\n"
     ]
    },
    {
     "name": "stderr",
     "output_type": "stream",
     "text": [
      " 83%|█████████████████████████████████████████████████████████████████▉             | 945/1132 [00:22<00:04, 42.67it/s]"
     ]
    },
    {
     "name": "stdout",
     "output_type": "stream",
     "text": [
      "outdoorTemp_100_bin_outdoorHum_medi done\n",
      "outdoorTemp_100_bin_outdoorHum_mean done\n",
      "outdoorTemp_100_bin_outdoorHum_max done\n",
      "outdoorTemp_100_bin_outdoorHum_min done\n",
      "outdoorTemp_100_bin_outdoorAtmo_medi done\n",
      "outdoorTemp_100_bin_outdoorAtmo_mean done\n",
      "outdoorTemp_100_bin_outdoorAtmo_max done\n",
      "outdoorTemp_100_bin_outdoorAtmo_min done\n",
      "outdoorTemp_100_bin_indoorHum_medi done\n"
     ]
    },
    {
     "name": "stderr",
     "output_type": "stream",
     "text": [
      "\r",
      " 84%|██████████████████████████████████████████████████████████████████▎            | 950/1132 [00:22<00:04, 42.55it/s]"
     ]
    },
    {
     "name": "stdout",
     "output_type": "stream",
     "text": [
      "outdoorTemp_100_bin_indoorHum_mean done\n",
      "outdoorTemp_100_bin_indoorHum_max done\n",
      "outdoorTemp_100_bin_indoorHum_min done\n",
      "outdoorTemp_100_bin_indoorAtmo_medi done\n",
      "outdoorTemp_100_bin_indoorAtmo_mean done\n",
      "outdoorTemp_100_bin_indoorAtmo_max done\n",
      "outdoorTemp_100_bin_indoorAtmo_min done\n",
      "outdoorHum_100_bin_outdoorTemp_medi done\n",
      "outdoorHum_100_bin_outdoorTemp_mean done\n"
     ]
    },
    {
     "name": "stderr",
     "output_type": "stream",
     "text": [
      " 85%|██████████████████████████████████████████████████████████████████▉            | 960/1132 [00:23<00:04, 41.59it/s]"
     ]
    },
    {
     "name": "stdout",
     "output_type": "stream",
     "text": [
      "outdoorHum_100_bin_outdoorTemp_max done\n",
      "outdoorHum_100_bin_outdoorTemp_min done\n",
      "outdoorHum_100_bin_outdoorHum_medi done\n",
      "outdoorHum_100_bin_outdoorHum_mean done\n",
      "outdoorHum_100_bin_outdoorHum_max done\n",
      "outdoorHum_100_bin_outdoorHum_min done\n",
      "outdoorHum_100_bin_outdoorAtmo_medi done\n",
      "outdoorHum_100_bin_outdoorAtmo_mean done\n",
      "outdoorHum_100_bin_outdoorAtmo_max done\n"
     ]
    },
    {
     "name": "stderr",
     "output_type": "stream",
     "text": [
      " 86%|███████████████████████████████████████████████████████████████████▋           | 970/1132 [00:23<00:03, 42.35it/s]"
     ]
    },
    {
     "name": "stdout",
     "output_type": "stream",
     "text": [
      "outdoorHum_100_bin_outdoorAtmo_min done\n",
      "outdoorHum_100_bin_indoorHum_medi done\n",
      "outdoorHum_100_bin_indoorHum_mean done\n",
      "outdoorHum_100_bin_indoorHum_max done\n",
      "outdoorHum_100_bin_indoorHum_min done\n",
      "outdoorHum_100_bin_indoorAtmo_medi done\n",
      "outdoorHum_100_bin_indoorAtmo_mean done\n",
      "outdoorHum_100_bin_indoorAtmo_max done\n",
      "outdoorHum_100_bin_indoorAtmo_min done\n"
     ]
    },
    {
     "name": "stderr",
     "output_type": "stream",
     "text": [
      " 87%|████████████████████████████████████████████████████████████████████▍          | 980/1132 [00:23<00:03, 42.66it/s]"
     ]
    },
    {
     "name": "stdout",
     "output_type": "stream",
     "text": [
      "outdoorAtmo_100_bin_outdoorTemp_medi done\n",
      "outdoorAtmo_100_bin_outdoorTemp_mean done\n",
      "outdoorAtmo_100_bin_outdoorTemp_max done\n",
      "outdoorAtmo_100_bin_outdoorTemp_min done\n",
      "outdoorAtmo_100_bin_outdoorHum_medi done\n",
      "outdoorAtmo_100_bin_outdoorHum_mean done\n",
      "outdoorAtmo_100_bin_outdoorHum_max done\n",
      "outdoorAtmo_100_bin_outdoorHum_min done\n",
      "outdoorAtmo_100_bin_outdoorAtmo_medi done\n"
     ]
    },
    {
     "name": "stderr",
     "output_type": "stream",
     "text": [
      " 87%|█████████████████████████████████████████████████████████████████████          | 990/1132 [00:23<00:03, 42.83it/s]"
     ]
    },
    {
     "name": "stdout",
     "output_type": "stream",
     "text": [
      "outdoorAtmo_100_bin_outdoorAtmo_mean done\n",
      "outdoorAtmo_100_bin_outdoorAtmo_max done\n",
      "outdoorAtmo_100_bin_outdoorAtmo_min done\n",
      "outdoorAtmo_100_bin_indoorHum_medi done\n",
      "outdoorAtmo_100_bin_indoorHum_mean done\n",
      "outdoorAtmo_100_bin_indoorHum_max done\n",
      "outdoorAtmo_100_bin_indoorHum_min done\n",
      "outdoorAtmo_100_bin_indoorAtmo_medi done\n",
      "outdoorAtmo_100_bin_indoorAtmo_mean done\n"
     ]
    },
    {
     "name": "stderr",
     "output_type": "stream",
     "text": [
      "\r",
      " 88%|█████████████████████████████████████████████████████████████████████▍         | 995/1132 [00:23<00:03, 41.04it/s]"
     ]
    },
    {
     "name": "stdout",
     "output_type": "stream",
     "text": [
      "outdoorAtmo_100_bin_indoorAtmo_max done\n",
      "outdoorAtmo_100_bin_indoorAtmo_min done\n",
      "indoorHum_100_bin_outdoorTemp_medi done\n",
      "indoorHum_100_bin_outdoorTemp_mean done\n",
      "indoorHum_100_bin_outdoorTemp_max done\n",
      "indoorHum_100_bin_outdoorTemp_min done\n",
      "indoorHum_100_bin_outdoorHum_medi done\n",
      "indoorHum_100_bin_outdoorHum_mean done\n",
      "indoorHum_100_bin_outdoorHum_max done\n"
     ]
    },
    {
     "name": "stderr",
     "output_type": "stream",
     "text": [
      " 89%|█████████████████████████████████████████████████████████████████████▏        | 1005/1132 [00:24<00:03, 40.79it/s]"
     ]
    },
    {
     "name": "stdout",
     "output_type": "stream",
     "text": [
      "indoorHum_100_bin_outdoorHum_min done\n",
      "indoorHum_100_bin_outdoorAtmo_medi done\n",
      "indoorHum_100_bin_outdoorAtmo_mean done\n",
      "indoorHum_100_bin_outdoorAtmo_max done\n",
      "indoorHum_100_bin_outdoorAtmo_min done\n",
      "indoorHum_100_bin_indoorHum_medi done\n",
      "indoorHum_100_bin_indoorHum_mean done\n",
      "indoorHum_100_bin_indoorHum_max done\n",
      "indoorHum_100_bin_indoorHum_min done\n"
     ]
    },
    {
     "name": "stderr",
     "output_type": "stream",
     "text": [
      " 90%|█████████████████████████████████████████████████████████████████████▉        | 1015/1132 [00:24<00:02, 40.50it/s]"
     ]
    },
    {
     "name": "stdout",
     "output_type": "stream",
     "text": [
      "indoorHum_100_bin_indoorAtmo_medi done\n",
      "indoorHum_100_bin_indoorAtmo_mean done\n",
      "indoorHum_100_bin_indoorAtmo_max done\n",
      "indoorHum_100_bin_indoorAtmo_min done\n",
      "indoorAtmo_100_bin_outdoorTemp_medi done\n",
      "indoorAtmo_100_bin_outdoorTemp_mean done\n",
      "indoorAtmo_100_bin_outdoorTemp_max done\n",
      "indoorAtmo_100_bin_outdoorTemp_min done\n",
      "indoorAtmo_100_bin_outdoorHum_medi done\n"
     ]
    },
    {
     "name": "stderr",
     "output_type": "stream",
     "text": [
      " 91%|██████████████████████████████████████████████████████████████████████▋       | 1025/1132 [00:24<00:02, 42.89it/s]"
     ]
    },
    {
     "name": "stdout",
     "output_type": "stream",
     "text": [
      "indoorAtmo_100_bin_outdoorHum_mean done\n",
      "indoorAtmo_100_bin_outdoorHum_max done\n",
      "indoorAtmo_100_bin_outdoorHum_min done\n",
      "indoorAtmo_100_bin_outdoorAtmo_medi done\n",
      "indoorAtmo_100_bin_outdoorAtmo_mean done\n",
      "indoorAtmo_100_bin_outdoorAtmo_max done\n",
      "indoorAtmo_100_bin_outdoorAtmo_min done\n",
      "indoorAtmo_100_bin_indoorHum_medi done\n",
      "indoorAtmo_100_bin_indoorHum_mean done\n",
      "indoorAtmo_100_bin_indoorHum_max done\n"
     ]
    },
    {
     "name": "stderr",
     "output_type": "stream",
     "text": [
      " 91%|███████████████████████████████████████████████████████████████████████▎      | 1035/1132 [00:24<00:02, 41.29it/s]"
     ]
    },
    {
     "name": "stdout",
     "output_type": "stream",
     "text": [
      "indoorAtmo_100_bin_indoorHum_min done\n",
      "indoorAtmo_100_bin_indoorAtmo_medi done\n",
      "indoorAtmo_100_bin_indoorAtmo_mean done\n",
      "indoorAtmo_100_bin_indoorAtmo_max done\n",
      "indoorAtmo_100_bin_indoorAtmo_min done\n",
      "outdoorTemp_200_bin_outdoorTemp_medi done\n",
      "outdoorTemp_200_bin_outdoorTemp_mean done\n",
      "outdoorTemp_200_bin_outdoorTemp_max done\n"
     ]
    },
    {
     "name": "stderr",
     "output_type": "stream",
     "text": [
      "\r",
      " 92%|███████████████████████████████████████████████████████████████████████▋      | 1040/1132 [00:25<00:02, 41.54it/s]"
     ]
    },
    {
     "name": "stdout",
     "output_type": "stream",
     "text": [
      "outdoorTemp_200_bin_outdoorTemp_min done\n",
      "outdoorTemp_200_bin_outdoorHum_medi done\n",
      "outdoorTemp_200_bin_outdoorHum_mean done\n",
      "outdoorTemp_200_bin_outdoorHum_max done\n",
      "outdoorTemp_200_bin_outdoorHum_min done\n",
      "outdoorTemp_200_bin_outdoorAtmo_medi done\n",
      "outdoorTemp_200_bin_outdoorAtmo_mean done\n",
      "outdoorTemp_200_bin_outdoorAtmo_max done\n",
      "outdoorTemp_200_bin_outdoorAtmo_min done\n"
     ]
    },
    {
     "name": "stderr",
     "output_type": "stream",
     "text": [
      " 93%|████████████████████████████████████████████████████████████████████████▎     | 1050/1132 [00:25<00:01, 41.01it/s]"
     ]
    },
    {
     "name": "stdout",
     "output_type": "stream",
     "text": [
      "outdoorTemp_200_bin_indoorHum_medi done\n",
      "outdoorTemp_200_bin_indoorHum_mean done\n",
      "outdoorTemp_200_bin_indoorHum_max done\n",
      "outdoorTemp_200_bin_indoorHum_min done\n",
      "outdoorTemp_200_bin_indoorAtmo_medi done\n",
      "outdoorTemp_200_bin_indoorAtmo_mean done\n",
      "outdoorTemp_200_bin_indoorAtmo_max done\n",
      "outdoorTemp_200_bin_indoorAtmo_min done\n",
      "outdoorHum_200_bin_outdoorTemp_medi done\n"
     ]
    },
    {
     "name": "stderr",
     "output_type": "stream",
     "text": [
      " 94%|█████████████████████████████████████████████████████████████████████████     | 1060/1132 [00:25<00:01, 42.23it/s]"
     ]
    },
    {
     "name": "stdout",
     "output_type": "stream",
     "text": [
      "outdoorHum_200_bin_outdoorTemp_mean done\n",
      "outdoorHum_200_bin_outdoorTemp_max done\n",
      "outdoorHum_200_bin_outdoorTemp_min done\n",
      "outdoorHum_200_bin_outdoorHum_medi done\n",
      "outdoorHum_200_bin_outdoorHum_mean done\n",
      "outdoorHum_200_bin_outdoorHum_max done\n",
      "outdoorHum_200_bin_outdoorHum_min done\n",
      "outdoorHum_200_bin_outdoorAtmo_medi done\n",
      "outdoorHum_200_bin_outdoorAtmo_mean done\n"
     ]
    },
    {
     "name": "stderr",
     "output_type": "stream",
     "text": [
      " 95%|█████████████████████████████████████████████████████████████████████████▋    | 1070/1132 [00:25<00:01, 41.05it/s]"
     ]
    },
    {
     "name": "stdout",
     "output_type": "stream",
     "text": [
      "outdoorHum_200_bin_outdoorAtmo_max done\n",
      "outdoorHum_200_bin_outdoorAtmo_min done\n",
      "outdoorHum_200_bin_indoorHum_medi done\n",
      "outdoorHum_200_bin_indoorHum_mean done\n",
      "outdoorHum_200_bin_indoorHum_max done\n",
      "outdoorHum_200_bin_indoorHum_min done\n",
      "outdoorHum_200_bin_indoorAtmo_medi done\n",
      "outdoorHum_200_bin_indoorAtmo_mean done\n",
      "outdoorHum_200_bin_indoorAtmo_max done\n"
     ]
    },
    {
     "name": "stderr",
     "output_type": "stream",
     "text": [
      " 95%|██████████████████████████████████████████████████████████████████████████▍   | 1080/1132 [00:25<00:01, 41.89it/s]"
     ]
    },
    {
     "name": "stdout",
     "output_type": "stream",
     "text": [
      "outdoorHum_200_bin_indoorAtmo_min done\n",
      "outdoorAtmo_200_bin_outdoorTemp_medi done\n",
      "outdoorAtmo_200_bin_outdoorTemp_mean done\n",
      "outdoorAtmo_200_bin_outdoorTemp_max done\n",
      "outdoorAtmo_200_bin_outdoorTemp_min done\n",
      "outdoorAtmo_200_bin_outdoorHum_medi done\n",
      "outdoorAtmo_200_bin_outdoorHum_mean done\n",
      "outdoorAtmo_200_bin_outdoorHum_max done\n",
      "outdoorAtmo_200_bin_outdoorHum_min done\n"
     ]
    },
    {
     "name": "stderr",
     "output_type": "stream",
     "text": [
      "\r",
      " 96%|██████████████████████████████████████████████████████████████████████████▊   | 1085/1132 [00:26<00:01, 40.51it/s]"
     ]
    },
    {
     "name": "stdout",
     "output_type": "stream",
     "text": [
      "outdoorAtmo_200_bin_outdoorAtmo_medi done\n",
      "outdoorAtmo_200_bin_outdoorAtmo_mean done\n",
      "outdoorAtmo_200_bin_outdoorAtmo_max done\n",
      "outdoorAtmo_200_bin_outdoorAtmo_min done\n",
      "outdoorAtmo_200_bin_indoorHum_medi done\n",
      "outdoorAtmo_200_bin_indoorHum_mean done\n",
      "outdoorAtmo_200_bin_indoorHum_max done\n",
      "outdoorAtmo_200_bin_indoorHum_min done\n",
      "outdoorAtmo_200_bin_indoorAtmo_medi done\n"
     ]
    },
    {
     "name": "stderr",
     "output_type": "stream",
     "text": [
      " 97%|███████████████████████████████████████████████████████████████████████████▍  | 1095/1132 [00:26<00:00, 41.63it/s]"
     ]
    },
    {
     "name": "stdout",
     "output_type": "stream",
     "text": [
      "outdoorAtmo_200_bin_indoorAtmo_mean done\n",
      "outdoorAtmo_200_bin_indoorAtmo_max done\n",
      "outdoorAtmo_200_bin_indoorAtmo_min done\n",
      "indoorHum_200_bin_outdoorTemp_medi done\n",
      "indoorHum_200_bin_outdoorTemp_mean done\n",
      "indoorHum_200_bin_outdoorTemp_max done\n",
      "indoorHum_200_bin_outdoorTemp_min done\n",
      "indoorHum_200_bin_outdoorHum_medi done\n"
     ]
    },
    {
     "name": "stderr",
     "output_type": "stream",
     "text": [
      " 98%|████████████████████████████████████████████████████████████████████████████▏ | 1105/1132 [00:26<00:00, 41.13it/s]"
     ]
    },
    {
     "name": "stdout",
     "output_type": "stream",
     "text": [
      "indoorHum_200_bin_outdoorHum_mean done\n",
      "indoorHum_200_bin_outdoorHum_max done\n",
      "indoorHum_200_bin_outdoorHum_min done\n",
      "indoorHum_200_bin_outdoorAtmo_medi done\n",
      "indoorHum_200_bin_outdoorAtmo_mean done\n",
      "indoorHum_200_bin_outdoorAtmo_max done\n",
      "indoorHum_200_bin_outdoorAtmo_min done\n",
      "indoorHum_200_bin_indoorHum_medi done\n"
     ]
    },
    {
     "name": "stderr",
     "output_type": "stream",
     "text": [
      "\r",
      " 98%|████████████████████████████████████████████████████████████████████████████▍ | 1110/1132 [00:26<00:00, 39.95it/s]"
     ]
    },
    {
     "name": "stdout",
     "output_type": "stream",
     "text": [
      "indoorHum_200_bin_indoorHum_mean done\n",
      "indoorHum_200_bin_indoorHum_max done\n",
      "indoorHum_200_bin_indoorHum_min done\n",
      "indoorHum_200_bin_indoorAtmo_medi done\n",
      "indoorHum_200_bin_indoorAtmo_mean done\n",
      "indoorHum_200_bin_indoorAtmo_max done\n",
      "indoorHum_200_bin_indoorAtmo_min done\n",
      "indoorAtmo_200_bin_outdoorTemp_medi done\n"
     ]
    },
    {
     "name": "stderr",
     "output_type": "stream",
     "text": [
      " 99%|█████████████████████████████████████████████████████████████████████████████▏| 1120/1132 [00:26<00:00, 41.83it/s]"
     ]
    },
    {
     "name": "stdout",
     "output_type": "stream",
     "text": [
      "indoorAtmo_200_bin_outdoorTemp_mean done\n",
      "indoorAtmo_200_bin_outdoorTemp_max done\n",
      "indoorAtmo_200_bin_outdoorTemp_min done\n",
      "indoorAtmo_200_bin_outdoorHum_medi done\n",
      "indoorAtmo_200_bin_outdoorHum_mean done\n",
      "indoorAtmo_200_bin_outdoorHum_max done\n",
      "indoorAtmo_200_bin_outdoorHum_min done\n",
      "indoorAtmo_200_bin_outdoorAtmo_medi done\n",
      "indoorAtmo_200_bin_outdoorAtmo_mean done\n"
     ]
    },
    {
     "name": "stderr",
     "output_type": "stream",
     "text": [
      "100%|█████████████████████████████████████████████████████████████████████████████▊| 1130/1132 [00:27<00:00, 40.35it/s]"
     ]
    },
    {
     "name": "stdout",
     "output_type": "stream",
     "text": [
      "indoorAtmo_200_bin_outdoorAtmo_max done\n",
      "indoorAtmo_200_bin_outdoorAtmo_min done\n",
      "indoorAtmo_200_bin_indoorHum_medi done\n",
      "indoorAtmo_200_bin_indoorHum_mean done\n",
      "indoorAtmo_200_bin_indoorHum_max done\n",
      "indoorAtmo_200_bin_indoorHum_min done\n",
      "indoorAtmo_200_bin_indoorAtmo_medi done\n",
      "indoorAtmo_200_bin_indoorAtmo_mean done\n",
      "indoorAtmo_200_bin_indoorAtmo_max done\n"
     ]
    },
    {
     "name": "stderr",
     "output_type": "stream",
     "text": [
      "\r",
      "100%|██████████████████████████████████████████████████████████████████████████████| 1132/1132 [00:27<00:00, 41.52it/s]"
     ]
    },
    {
     "name": "stdout",
     "output_type": "stream",
     "text": [
      "indoorAtmo_200_bin_indoorAtmo_min done\n"
     ]
    },
    {
     "name": "stderr",
     "output_type": "stream",
     "text": [
      "\n"
     ]
    }
   ],
   "source": [
    "psi_res, psi_dict = get_psi(x_train, x_test, features)"
   ]
  },
  {
   "cell_type": "code",
   "execution_count": 20,
   "metadata": {
    "ExecuteTime": {
     "end_time": "2020-07-31T09:57:18.455667Z",
     "start_time": "2020-07-31T09:57:18.450653Z"
    }
   },
   "outputs": [],
   "source": [
    "features = list(psi_res[psi_res['PSI'] <= 0.2]['变量名'].values) + ['outdoorTemp']"
   ]
  },
  {
   "cell_type": "code",
   "execution_count": 21,
   "metadata": {
    "ExecuteTime": {
     "end_time": "2020-07-31T09:57:18.518473Z",
     "start_time": "2020-07-31T09:57:18.456638Z"
    }
   },
   "outputs": [],
   "source": [
    "x_train = x_train[features]\n",
    "x_test = x_test[features]"
   ]
  },
  {
   "cell_type": "code",
   "execution_count": 22,
   "metadata": {
    "ExecuteTime": {
     "end_time": "2020-07-31T10:00:53.053545Z",
     "start_time": "2020-07-31T09:57:18.523460Z"
    }
   },
   "outputs": [
    {
     "name": "stdout",
     "output_type": "stream",
     "text": [
      "[0]\ttrain-mae:0.72622\teval-mae:0.31583\n",
      "Multiple eval metrics have been passed: 'eval-mae' will be used for early stopping.\n",
      "\n",
      "Will train until eval-mae hasn't improved in 1000 rounds.\n",
      "[500]\ttrain-mae:0.05538\teval-mae:0.15453\n",
      "[1000]\ttrain-mae:0.04441\teval-mae:0.15462\n",
      "[1500]\ttrain-mae:0.03794\teval-mae:0.15487\n",
      "Stopping. Best iteration:\n",
      "[585]\ttrain-mae:0.05214\teval-mae:0.15428\n",
      "\n"
     ]
    }
   ],
   "source": [
    "nums = int(x_train.shape[0] * 0.8)\n",
    "\n",
    "trn_x, trn_y, val_x, val_y = x_train[:nums], y_train[:nums], x_train[nums:], y_train[nums:]\n",
    "\n",
    "train_matrix = xgb.DMatrix(trn_x, label=trn_y, missing=np.nan)\n",
    "valid_matrix = xgb.DMatrix(val_x, label=val_y, missing=np.nan)\n",
    "train_all_matrix = xgb.DMatrix(x_train, y_train, missing=np.nan)\n",
    "test_matrix = xgb.DMatrix(x_test, label=val_y, missing=np.nan)\n",
    "\n",
    "params = {\n",
    "    'booster': 'gbtree',\n",
    "    'eval_metric': 'mae',\n",
    "    'min_child_weight': 5,\n",
    "    'max_depth': 8,\n",
    "    'subsample': 0.5,\n",
    "    'colsample_bytree': 0.5,\n",
    "    'eta': 0.01,\n",
    "    'seed': 2020,\n",
    "    'nthread': 36,\n",
    "    'silent': 1\n",
    "}\n",
    "\n",
    "watchlist = [(train_matrix, 'train'), (valid_matrix, 'eval')]\n",
    "\n",
    "model_eval = xgb.train(params,\n",
    "                       train_matrix,\n",
    "                       num_boost_round=50000,\n",
    "                       evals=watchlist,\n",
    "                       verbose_eval=500,\n",
    "                       early_stopping_rounds=1000)\n",
    "val_pred = model_eval.predict(valid_matrix, ntree_limit=model_eval.best_ntree_limit).reshape(-1, 1)\n",
    "# test_pred = model.predict(test_matrix, ntree_limit=model.best_ntree_limit).reshape(-1, 1)"
   ]
  },
  {
   "cell_type": "code",
   "execution_count": 23,
   "metadata": {
    "ExecuteTime": {
     "end_time": "2020-07-31T10:00:53.067508Z",
     "start_time": "2020-07-31T10:00:53.058532Z"
    }
   },
   "outputs": [
    {
     "name": "stdout",
     "output_type": "stream",
     "text": [
      "mse_score: 0.03898079464169613\n",
      "mse_score: 03898\n"
     ]
    }
   ],
   "source": [
    "mse = mean_squared_error(val_y, val_pred)\n",
    "print(\"mse_score:\", mse)\n",
    "print(\"mse_score:\", str(mse)[2:7])"
   ]
  },
  {
   "cell_type": "code",
   "execution_count": 24,
   "metadata": {
    "ExecuteTime": {
     "end_time": "2020-07-31T10:02:29.795459Z",
     "start_time": "2020-07-31T10:00:53.070011Z"
    }
   },
   "outputs": [],
   "source": [
    "model = xgb.train(params,\n",
    "                  train_all_matrix,\n",
    "                  num_boost_round=model_eval.best_ntree_limit + 20)\n",
    "\n",
    "test_pred = model.predict(test_matrix, ntree_limit=model.best_ntree_limit).reshape(-1, 1)"
   ]
  },
  {
   "cell_type": "code",
   "execution_count": 25,
   "metadata": {
    "ExecuteTime": {
     "end_time": "2020-07-31T10:02:29.818420Z",
     "start_time": "2020-07-31T10:02:29.798452Z"
    }
   },
   "outputs": [],
   "source": [
    "sub['temperature'] = test_pred[:, 0] + test_df['outdoorTemp'].values\n",
    "sub.to_csv('../sub/sub_{}_{}.csv'.format(time.strftime('%Y%m%d'), str(mse)[2:7]), index=False)"
   ]
  }
 ],
 "metadata": {
  "kernelspec": {
   "display_name": "Python 3",
   "language": "python",
   "name": "python3"
  },
  "language_info": {
   "codemirror_mode": {
    "name": "ipython",
    "version": 3
   },
   "file_extension": ".py",
   "mimetype": "text/x-python",
   "name": "python",
   "nbconvert_exporter": "python",
   "pygments_lexer": "ipython3",
   "version": "3.7.3"
  },
  "toc": {
   "base_numbering": 1,
   "nav_menu": {},
   "number_sections": true,
   "sideBar": true,
   "skip_h1_title": false,
   "title_cell": "Table of Contents",
   "title_sidebar": "Contents",
   "toc_cell": false,
   "toc_position": {},
   "toc_section_display": true,
   "toc_window_display": false
  },
  "varInspector": {
   "cols": {
    "lenName": 16,
    "lenType": 16,
    "lenVar": 40
   },
   "kernels_config": {
    "python": {
     "delete_cmd_postfix": "",
     "delete_cmd_prefix": "del ",
     "library": "var_list.py",
     "varRefreshCmd": "print(var_dic_list())"
    },
    "r": {
     "delete_cmd_postfix": ") ",
     "delete_cmd_prefix": "rm(",
     "library": "var_list.r",
     "varRefreshCmd": "cat(var_dic_list()) "
    }
   },
   "types_to_exclude": [
    "module",
    "function",
    "builtin_function_or_method",
    "instance",
    "_Feature"
   ],
   "window_display": false
  }
 },
 "nbformat": 4,
 "nbformat_minor": 4
}
