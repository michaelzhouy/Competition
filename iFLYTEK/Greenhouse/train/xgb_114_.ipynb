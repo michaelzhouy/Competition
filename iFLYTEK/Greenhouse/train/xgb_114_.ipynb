{
 "cells": [
  {
   "cell_type": "code",
   "execution_count": 1,
   "metadata": {
    "ExecuteTime": {
     "end_time": "2020-08-16T14:40:11.565745Z",
     "start_time": "2020-08-16T14:40:08.990858Z"
    }
   },
   "outputs": [],
   "source": [
    "import numpy as np\n",
    "import pandas as pd\n",
    "from datetime import datetime\n",
    "import os\n",
    "import gc\n",
    "import xgboost as xgb\n",
    "import math\n",
    "from joblib import Parallel, delayed\n",
    "\n",
    "from tqdm import tqdm\n",
    "from sklearn.model_selection import StratifiedKFold, KFold\n",
    "from sklearn.metrics import mean_absolute_error, mean_squared_error\n",
    "import matplotlib.pyplot as plt\n",
    "import time\n",
    "import warnings\n",
    "\n",
    "warnings.filterwarnings('ignore')\n",
    "\n",
    "pd.set_option('max_columns', None)\n",
    "pd.set_option('max_rows', None)"
   ]
  },
  {
   "cell_type": "code",
   "execution_count": 2,
   "metadata": {
    "ExecuteTime": {
     "end_time": "2020-08-16T14:40:11.577628Z",
     "start_time": "2020-08-16T14:40:11.565745Z"
    }
   },
   "outputs": [],
   "source": [
    "def correlation(df, threshold=0.98):\n",
    "    \"\"\"\n",
    "    特征相关性计算\n",
    "    @param df: \n",
    "    @param threshold: \n",
    "    @return: \n",
    "    \"\"\"\n",
    "    col_corr = set()\n",
    "    corr_matrix = df.corr()\n",
    "    for i in range(len(corr_matrix.columns)):\n",
    "        for j in range(i):\n",
    "            if abs(corr_matrix.iloc[i, j]) > threshold:\n",
    "                colName = corr_matrix.columns[i]\n",
    "                col_corr.add(colName)\n",
    "    return col_corr"
   ]
  },
  {
   "cell_type": "code",
   "execution_count": 3,
   "metadata": {
    "ExecuteTime": {
     "end_time": "2020-08-16T14:40:11.795501Z",
     "start_time": "2020-08-16T14:40:11.583624Z"
    }
   },
   "outputs": [
    {
     "data": {
      "text/plain": [
       "7"
      ]
     },
     "execution_count": 3,
     "metadata": {},
     "output_type": "execute_result"
    }
   ],
   "source": [
    "# train_df = pd.read_hdf('../input/train.h5')\n",
    "test_df = pd.read_hdf('../input/test.h5')\n",
    "sub = pd.DataFrame(test_df['time'])\n",
    "gc.collect()"
   ]
  },
  {
   "cell_type": "code",
   "execution_count": 4,
   "metadata": {
    "ExecuteTime": {
     "end_time": "2020-08-16T14:40:11.803498Z",
     "start_time": "2020-08-16T14:40:11.798508Z"
    }
   },
   "outputs": [],
   "source": [
    "# train_df = train_df[train_df['temperature'].notnull()]\n",
    "# train_df = train_df.fillna(method='bfill')\n",
    "# test_df = test_df.fillna(method='bfill')\n",
    "# gc.collect()"
   ]
  },
  {
   "cell_type": "code",
   "execution_count": 5,
   "metadata": {
    "ExecuteTime": {
     "end_time": "2020-08-16T14:40:11.814491Z",
     "start_time": "2020-08-16T14:40:11.808493Z"
    }
   },
   "outputs": [],
   "source": [
    "# train_df.columns = ['time', 'year', 'month', 'day', 'hour', 'min', 'sec', 'outdoorTemp', 'outdoorHum', 'outdoorAtmo',\n",
    "#                     'indoorHum', 'indoorAtmo', 'temperature']\n",
    "test_df.columns = ['time', 'year', 'month', 'day', 'hour', 'min', 'sec', 'outdoorTemp', 'outdoorHum', 'outdoorAtmo',\n",
    "                   'indoorHum', 'indoorAtmo']"
   ]
  },
  {
   "cell_type": "code",
   "execution_count": 6,
   "metadata": {
    "ExecuteTime": {
     "end_time": "2020-08-16T14:40:11.823484Z",
     "start_time": "2020-08-16T14:40:11.818488Z"
    }
   },
   "outputs": [],
   "source": [
    "# print('train_df.shape: ', train_df.shape)\n",
    "# train_df = train_df.loc[(train_df['outdoorTemp'] >= test_df['outdoorTemp'].min()) & (train_df['outdoorTemp'] <= test_df['outdoorTemp'].max())]\n",
    "# print('处理后 train_df.shape: ', train_df.shape)"
   ]
  },
  {
   "cell_type": "code",
   "execution_count": 7,
   "metadata": {
    "ExecuteTime": {
     "end_time": "2020-08-16T14:40:11.836477Z",
     "start_time": "2020-08-16T14:40:11.827482Z"
    }
   },
   "outputs": [],
   "source": [
    "# y_train = train_df['temperature'] - train_df['outdoorTemp']\n",
    "# y_train.to_hdf('../input/y_train.h5', 'df')"
   ]
  },
  {
   "cell_type": "code",
   "execution_count": 8,
   "metadata": {
    "ExecuteTime": {
     "end_time": "2020-08-16T14:40:11.856464Z",
     "start_time": "2020-08-16T14:40:11.846470Z"
    }
   },
   "outputs": [],
   "source": [
    "# del train_df, test_df\n",
    "# gc.collect()"
   ]
  },
  {
   "cell_type": "code",
   "execution_count": 9,
   "metadata": {
    "ExecuteTime": {
     "end_time": "2020-08-16T14:40:13.450408Z",
     "start_time": "2020-08-16T14:40:11.860464Z"
    }
   },
   "outputs": [],
   "source": [
    "x_train = pd.read_hdf('../input/train_features_corr.h5')\n",
    "x_test = pd.read_hdf('../input/test_features_corr.h5')\n",
    "y_train = pd.read_hdf('../input/y_train.h5')"
   ]
  },
  {
   "cell_type": "code",
   "execution_count": 10,
   "metadata": {
    "ExecuteTime": {
     "end_time": "2020-08-16T14:46:39.959602Z",
     "start_time": "2020-08-16T14:40:13.450408Z"
    }
   },
   "outputs": [
    {
     "name": "stdout",
     "output_type": "stream",
     "text": [
      "{'MDH_indoorHum_diff_min_MD_outdoorHum_diff_sum_multyply', 'indoorAtmo_50_bin_outdoorHum_max', 'MDH_indoorHum_diff_sum_MDH_outdoorAtmo_min_multyply', 'outdoorTemp_MDH_indoorHum_diff_sum_ratio', 'indoorAtmo_MD_indoorHum_medi_multyply', 'outdoorHum_MDH_outdoorHum_diff_min_subtract', 'indoorHum_MD_outdoorHum_max_subtract', 'outdoorHum_100_bin_outdoorTemp_std', 'outdoorHum_MDH_indoorHum_diff_sum_ratio', 'MDH_outdoorTemp_diff_medi_MD_outdoorHum_diff_max_ratio', 'MDH_outdoorHum_max_MDH_indoorHum_max_subtract', 'indoorHum_50_bin_outdoorHum_min', 'outdoorHum_MDH_outdoorHum_diff_sum_ratio', 'MDH_outdoorAtmo_max_MD_outdoorHum_medi_multyply', 'MDH_outdoorHum_min_MDH_indoorHum_max_multyply', 'MDH_indoorAtmo_min_MDH_outdoorHum_diff_sum_ratio', 'MDH_outdoorTemp_diff_medi_MD_outdoorAtmo_diff_min_multyply', 'MDH_outdoorAtmo_diff_sum_MDH_indoorAtmo_diff_sum_subtract', 'MDH_indoorHum_max_MDH_indoorAtmo_medi_subtract', 'indoorHum_100_bin_indoorAtmo_mean', 'outdoorAtmo_MD_indoorHum_medi_multyply', 'MDH_indoorAtmo_min_MDH_indoorHum_diff_sum_ratio', 'outdoorTemp_MD_outdoorHum_max_subtract', 'indoorHum_diff_2D_rolling_sum', 'MD_outdoorHum_sum_MDH_outdoorAtmo_diff_mean_ratio', 'MDH_outdoorAtmo_mean_MD_outdoorAtmo_mean_multyply', 'MD_outdoorAtmo_mean_MDH_outdoorHum_diff_sum_subtract', 'MD_outdoorHum_medi_MDH_outdoorAtmo_mean_subtract', 'indoorHum_diff_MDH_outdoorTemp_diff_min_ratio', 'MD_indoorHum_max_MDH_indoorHum_max_multyply', 'outdoorTemp_MDH_outdoorTemp_diff_sum_ratio', 'MDH_outdoorHum_min_MDH_indoorHum_medi_subtract', 'outdoorAtmo_50_bin_outdoorHum_min', 'indoorHum_100_bin_outdoorAtmo_mean', 'outdoorTemp_MDH_outdoorTemp_mean_multyply', 'MDH_outdoorAtmo_diff_sum_MDH_indoorHum_diff_min_ratio', 'MDH_outdoorHum_medi_MDH_indoorHum_medi_subtract', 'MDH_indoorHum_diff_sum_MD_indoorAtmo_diff_sum_ratio', 'indoorAtmo_MDH_indoorHum_max_multyply', 'MDH_outdoorAtmo_diff_sum_MD_outdoorAtmo_diff_sum_ratio', 'MDH_indoorHum_max_MD_outdoorHum_medi_multyply', 'MDH_outdoorHum_diff_mean_MD_outdoorTemp_diff_medi_multyply', 'indoorHum_diff_3D_rolling_sum', 'MDH_outdoorAtmo_diff_sum_MDH_indoorHum_diff_max_ratio', 'MD_outdoorHum_sum_MDH_outdoorHum_diff_mean_ratio', 'outdoorHum_100_bin_outdoorAtmo_skew', 'MDH_outdoorAtmo_medi_outdoorAtmo_multyply', 'MDH_outdoorTemp_diff_medi_MD_outdoorAtmo_diff_mean_ratio', 'outdoorHum_20_bin_outdoorAtmo_skew', 'MDH_indoorHum_diff_max_MDH_indoorAtmo_diff_sum_ratio', 'MD_indoorHum_min_outdoorHum_multyply', 'MD_outdoorAtmo_diff_sum_MDH_indoorHum_diff_sum_subtract', 'MD_outdoorHum_diff_max_MDH_outdoorTemp_diff_sum_multyply', 'MDH_outdoorHum_medi_MDH_indoorHum_min_subtract', 'indoorHum_MD_outdoorHum_max_multyply', 'MD_indoorHum_medi_MD_outdoorHum_diff_sum_subtract', 'MD_outdoorTemp_min_MD_indoorHum_diff_max_subtract', 'indoorAtmo_50_bin_outdoorAtmo_sum', 'outdoorTemp_50_bin_outdoorAtmo_skew', 'indoorHum_20_bin_outdoorHum_min', 'outdoorAtmo_200_bin_outdoorTemp_min', 'indoorHum_MDH_indoorHum_mean_subtract', 'MD_outdoorTemp_sum_MDH_outdoorAtmo_diff_mean_ratio', 'MDH_indoorHum_diff_max_MDH_indoorHum_diff_sum_subtract', 'MD_outdoorHum_min_MDH_outdoorAtmo_diff_sum_ratio', 'MDH_outdoorTemp_diff_medi_MDH_outdoorHum_diff_min_ratio', 'MD_outdoorAtmo_mean_MDH_indoorHum_diff_max_subtract', 'outdoorHum_MDH_indoorHum_medi_subtract', 'outdoorHum_50_bin_outdoorAtmo_medi', 'MDH_outdoorAtmo_mean_MDH_outdoorHum_diff_sum_subtract', 'indoorHum_100_bin_outdoorAtmo_skew', 'MDH_outdoorHum_diff_sum_MDH_indoorHum_diff_sum_multyply', 'MDH_indoorAtmo_min_MD_indoorAtmo_diff_sum_multyply', 'MDH_indoorHum_diff_mean_MD_outdoorTemp_diff_medi_multyply', 'MDH_outdoorHum_medi_MDH_indoorHum_max_subtract', 'MDH_outdoorAtmo_mean_MDH_indoorHum_diff_max_subtract', 'MDH_outdoorTemp_diff_medi_MDH_outdoorHum_diff_max_multyply', 'indoorHum_20_bin_outdoorAtmo_mean', 'MDH_outdoorHum_diff_sum_MDH_outdoorAtmo_min_multyply', 'MDH_indoorHum_diff_mean_MD_outdoorAtmo_diff_mean_multyply', 'MDH_outdoorTemp_diff_medi_MDH_outdoorTemp_diff_mean_ratio', 'MDH_outdoorTemp_diff_medi_MD_indoorAtmo_diff_medi_subtract', 'outdoorAtmo_100_bin_outdoorHum_max', 'outdoorTemp_MDH_outdoorTemp_diff_medi_ratio', 'MD_outdoorTemp_diff_sum_MDH_indoorHum_diff_sum_subtract', 'outdoorAtmo_200_bin_indoorHum_max', 'outdoorTemp_MDH_outdoorHum_diff_sum_ratio', 'outdoorHum_50_bin_outdoorAtmo_sum', 'MD_indoorHum_diff_sum_MDH_outdoorHum_diff_min_multyply', 'outdoorHum_50_bin_indoorHum_max', 'MDH_indoorHum_diff_mean_MD_indoorAtmo_diff_mean_multyply', 'outdoorHum_MDH_outdoorTemp_diff_medi_ratio', 'outdoorAtmo_MDH_indoorHum_diff_sum_multyply', 'MD_outdoorHum_min_MDH_outdoorHum_diff_sum_ratio', 'MD_outdoorTemp_diff_min_MDH_outdoorTemp_diff_sum_multyply', 'MDH_outdoorTemp_diff_medi_MDH_outdoorAtmo_diff_max_multyply', 'MDH_indoorHum_diff_sum_MDH_outdoorHum_diff_sum_multyply', 'outdoorHum_MDH_outdoorAtmo_mean_subtract', 'MD_outdoorTemp_max_MD_indoorHum_diff_max_subtract', 'MD_outdoorTemp_min_MDH_outdoorHum_diff_sum_subtract', 'outdoorHum_100_bin_outdoorAtmo_mean', 'MD_outdoorAtmo_diff_sum_MDH_indoorHum_diff_min_subtract', 'MDH_indoorHum_diff_medi_MDH_indoorHum_diff_min_subtract', 'MDH_outdoorHum_diff_sum_MD_outdoorAtmo_min_multyply', 'MDH_outdoorHum_diff_max_MDH_outdoorAtmo_diff_sum_subtract', 'indoorHum_100_bin_outdoorAtmo_sum', 'MD_outdoorHum_medi_MDH_outdoorAtmo_diff_sum_ratio', 'MD_outdoorHum_min_outdoorHum_multyply', 'outdoorAtmo_diff_MD_outdoorHum_mean_subtract', 'outdoorHum_MDH_outdoorHum_medi_subtract', 'MDH_outdoorHum_max_MDH_indoorHum_mean_multyply', 'indoorHum_MD_outdoorHum_min_subtract', 'MD_outdoorHum_medi_indoorHum_multyply', 'outdoorHum_MDH_outdoorHum_diff_max_subtract', 'MD_outdoorHum_mean_MDH_outdoorAtmo_medi_subtract', 'outdoorHum_diff_MDH_outdoorTemp_diff_mean_ratio', 'MDH_outdoorTemp_diff_medi_MDH_outdoorHum_diff_mean_ratio', 'MD_outdoorHum_max_indoorHum_multyply', 'MDH_outdoorAtmo_diff_mean_MDH_indoorAtmo_diff_mean_multyply', 'MDH_outdoorAtmo_medi_MD_indoorHum_medi_subtract', 'outdoorAtmo_indoorAtmo_subtract', 'MD_outdoorAtmo_sum_MDH_outdoorTemp_sum_multyply', 'MD_outdoorHum_diff_sum_MDH_outdoorAtmo_diff_sum_multyply', 'MD_outdoorHum_min_MDH_indoorHum_diff_sum_ratio', 'outdoorHum_20_bin_outdoorTemp_medi', 'MDH_outdoorAtmo_diff_sum_MDH_indoorAtmo_min_multyply', 'MD_outdoorHum_mean_MDH_indoorAtmo_medi_subtract', 'outdoorHum_100_bin_indoorHum_std', 'MD_outdoorHum_min_MD_outdoorHum_max_multyply', 'outdoorHum_indoorAtmo_subtract', 'indoorHum_MDH_outdoorHum_min_subtract', 'MDH_indoorHum_diff_mean_MDH_outdoorAtmo_diff_mean_multyply', 'indoorHum_100_bin_outdoorTemp_skew', 'outdoorHum_MD_outdoorHum_min_subtract', 'MDH_indoorAtmo_medi_MD_outdoorTemp_diff_min_subtract', 'MDH_indoorHum_diff_sum_MDH_indoorAtmo_diff_sum_multyply', 'outdoorHum_MDH_outdoorTemp_diff_sum_ratio', 'MD_outdoorAtmo_diff_sum_MDH_indoorHum_diff_max_subtract', 'indoorAtmo_50_bin_outdoorTemp_skew', 'outdoorTemp_MD_indoorHum_min_ratio', 'outdoorAtmo_MDH_indoorHum_max_multyply', 'MD_outdoorHum_mean_MDH_outdoorAtmo_mean_subtract', 'MD_indoorHum_max_MDH_outdoorHum_diff_sum_subtract', 'outdoorHum_50_bin_outdoorAtmo_mean', 'MDH_indoorAtmo_min_MDH_outdoorAtmo_diff_sum_ratio', 'MD_outdoorHum_diff_sum_MDH_indoorHum_diff_sum_ratio', 'indoorHum_50_bin_outdoorAtmo_skew', 'MDH_indoorAtmo_min_MDH_outdoorTemp_diff_sum_ratio', 'MD_indoorHum_min_MDH_outdoorHum_diff_max_subtract', 'MD_outdoorHum_min_MDH_indoorHum_diff_sum_multyply', 'indoorHum_50_bin_outdoorAtmo_mean', 'MDH_indoorAtmo_min_MDH_outdoorTemp_diff_sum_multyply', 'MDH_outdoorHum_min_MDH_indoorHum_min_subtract', 'outdoorHum_MDH_indoorHum_max_subtract', 'MDH_outdoorTemp_diff_medi_MD_outdoorHum_diff_min_ratio', 'MD_indoorHum_min_indoorHum_multyply', 'MDH_outdoorTemp_min_MDH_indoorAtmo_mean_subtract', 'outdoorAtmo_MDH_outdoorTemp_diff_sum_multyply', 'outdoorHum_diff_MD_outdoorAtmo_diff_sum_subtract', 'outdoorTemp_diff_MDH_outdoorHum_diff_mean_ratio', 'outdoorHum_diff_MDH_outdoorTemp_diff_max_ratio', 'MDH_outdoorTemp_diff_sum_MD_indoorAtmo_diff_sum_ratio', 'MD_indoorHum_min_outdoorAtmo_multyply', 'MDH_indoorHum_diff_min_MD_indoorHum_diff_sum_ratio', 'MD_outdoorHum_diff_sum_MDH_indoorAtmo_diff_sum_multyply', 'MD_indoorHum_diff_mean_MDH_outdoorTemp_diff_mean_multyply', 'MD_outdoorHum_max_MD_outdoorTemp_diff_sum_subtract', 'MDH_indoorHum_diff_min_MDH_indoorHum_diff_sum_subtract', 'MDH_indoorAtmo_mean_MD_outdoorTemp_diff_min_subtract', 'MD_outdoorHum_min_indoorHum_multyply', 'MDH_outdoorHum_diff_sum_MDH_indoorHum_diff_min_subtract', 'MD_indoorHum_diff_min_MDH_outdoorTemp_diff_sum_multyply', 'indoorHum_MD_outdoorHum_medi_multyply', 'MDH_outdoorAtmo_mean_MDH_indoorAtmo_mean_ratio', 'outdoorAtmo_MD_outdoorTemp_diff_min_subtract', 'outdoorHum_20_bin_indoorHum_max', 'indoorHum_20_bin_indoorAtmo_mean', 'indoorHum_diff_MDH_outdoorTemp_diff_sum_ratio', 'indoorAtmo_MDH_outdoorAtmo_medi_multyply', 'MD_outdoorHum_medi_MDH_outdoorAtmo_max_multyply', 'MD_outdoorHum_sum_MDH_indoorHum_diff_mean_ratio', 'outdoorTemp_MDH_outdoorAtmo_diff_sum_ratio', 'outdoorTemp_diff_MDH_outdoorHum_diff_sum_ratio', 'MD_outdoorTemp_sum_MDH_outdoorTemp_diff_medi_ratio', 'MD_outdoorAtmo_diff_max_MD_indoorAtmo_diff_mean_ratio', 'MD_outdoorAtmo_diff_sum_MDH_indoorHum_diff_sum_multyply', 'MD_indoorAtmo_diff_mean_MDH_indoorAtmo_diff_mean_multyply', 'outdoorHum_MDH_indoorHum_min_subtract', 'MDH_indoorHum_max_MD_indoorHum_medi_multyply', 'MD_indoorHum_max_MDH_indoorHum_diff_sum_subtract', 'outdoorHum_50_bin_outdoorAtmo_skew', 'MDH_outdoorTemp_diff_sum_MDH_indoorHum_diff_sum_multyply', 'outdoorHum_MD_outdoorHum_max_ratio', 'outdoorHum_outdoorAtmo_multyply', 'indoorHum_20_bin_outdoorAtmo_skew', 'MDH_outdoorHum_diff_max_MDH_indoorAtmo_diff_sum_ratio', 'indoorHum_diff_MDH_indoorHum_diff_min_subtract', 'indoorAtmo_diff_MDH_outdoorAtmo_diff_sum_subtract', 'MDH_outdoorHum_diff_sum_MDH_indoorHum_diff_max_subtract', 'outdoorHum_20_bin_outdoorAtmo_mean', 'outdoorAtmo_MD_indoorAtmo_diff_sum_subtract', 'MDH_indoorHum_diff_sum_MD_outdoorHum_diff_sum_multyply', 'MDH_outdoorTemp_diff_medi_MDH_outdoorHum_diff_max_ratio', 'indoorHum_20_bin_outdoorAtmo_sum', 'MDH_outdoorHum_diff_sum_MD_indoorAtmo_diff_sum_ratio', 'MDH_indoorAtmo_diff_mean_MDH_outdoorAtmo_diff_mean_multyply', 'outdoorHum_indoorAtmo_ratio', 'MDH_outdoorTemp_diff_medi_MDH_outdoorAtmo_diff_medi_ratio', 'MD_outdoorHum_diff_min_MD_indoorAtmo_diff_sum_ratio', 'MD_outdoorAtmo_diff_sum_MDH_indoorHum_diff_sum_ratio', 'outdoorAtmo_diff_MD_indoorHum_min_subtract', 'indoorAtmo_50_bin_outdoorHum_min', 'MD_outdoorHum_mean_MD_outdoorAtmo_mean_subtract', 'MD_outdoorHum_medi_outdoorHum_multyply', 'indoorHum_MDH_outdoorHum_medi_subtract', 'MD_outdoorHum_mean_MDH_indoorAtmo_diff_sum_subtract', 'MD_indoorHum_medi_MDH_indoorAtmo_medi_subtract', 'outdoorAtmo_50_bin_outdoorAtmo_sum', 'outdoorHum_100_bin_indoorAtmo_max', 'MDH_outdoorAtmo_mean_MD_indoorHum_medi_subtract', 'MDH_outdoorHum_diff_mean_MD_indoorHum_diff_mean_multyply', 'outdoorHum_indoorAtmo_diff_subtract', 'MDH_outdoorTemp_diff_sum_MDH_outdoorAtmo_min_multyply', 'MDH_indoorAtmo_medi_MD_indoorAtmo_diff_sum_subtract', 'indoorHum_50_bin_outdoorAtmo_sum', 'MDH_outdoorHum_diff_sum_MD_outdoorHum_diff_sum_multyply', 'indoorHum_MDH_indoorAtmo_medi_subtract', 'outdoorTemp_MD_outdoorTemp_mean_multyply', 'outdoorHum_indoorHum_subtract', 'outdoorTemp_100_bin_outdoorHum_std', 'MDH_outdoorTemp_diff_medi_MDH_indoorHum_diff_max_ratio', 'MDH_outdoorAtmo_min_MDH_outdoorAtmo_diff_sum_ratio', 'MD_indoorHum_diff_max_MDH_outdoorTemp_diff_sum_multyply', 'MDH_indoorHum_diff_sum_MD_outdoorAtmo_min_multyply', 'MDH_outdoorHum_diff_sum_MD_indoorHum_diff_sum_multyply', 'outdoorAtmo_diff_MDH_outdoorHum_diff_sum_subtract', 'outdoorHum_MDH_outdoorAtmo_diff_sum_ratio', 'MDH_outdoorAtmo_sum_MD_outdoorHum_sum_multyply', 'outdoorHum_MDH_outdoorHum_mean_subtract', 'MD_indoorHum_mean', 'outdoorHum_MD_outdoorAtmo_medi_subtract', 'MD_indoorHum_medi_MDH_indoorAtmo_max_subtract', 'MD_outdoorHum_diff_sum_MDH_outdoorTemp_diff_sum_multyply', 'outdoorHum_diff_MDH_outdoorTemp_diff_sum_ratio', 'MD_outdoorHum_max_MDH_indoorHum_max_multyply', 'outdoorAtmo_diff_MDH_indoorAtmo_mean_subtract', 'MDH_indoorHum_diff_sum', 'MDH_outdoorHum_medi_outdoorHum_multyply', 'MDH_outdoorTemp_diff_sum_MD_outdoorAtmo_min_multyply', 'MD_outdoorHum_max_outdoorHum_multyply', 'MDH_indoorHum_diff_sum_MDH_indoorAtmo_min_multyply', 'MD_outdoorTemp_diff_sum_MDH_outdoorHum_diff_sum_subtract', 'outdoorAtmo_200_bin_outdoorHum_max', 'MDH_outdoorHum_diff_sum_MD_outdoorAtmo_diff_medi_ratio', 'MD_outdoorAtmo_min_MDH_outdoorTemp_diff_sum_multyply', 'MDH_indoorHum_diff_sum_MD_outdoorHum_diff_max_multyply', 'MDH_indoorHum_diff_sum_MD_outdoorAtmo_diff_sum_multyply'}"
     ]
    },
    {
     "name": "stdout",
     "output_type": "stream",
     "text": [
      "\n"
     ]
    }
   ],
   "source": [
    "col_corr = correlation(x_train, 0.95)\n",
    "print(col_corr)"
   ]
  },
  {
   "cell_type": "code",
   "execution_count": 11,
   "metadata": {
    "ExecuteTime": {
     "end_time": "2020-08-16T14:46:40.364405Z",
     "start_time": "2020-08-16T14:46:39.961599Z"
    }
   },
   "outputs": [
    {
     "data": {
      "text/plain": [
       "20"
      ]
     },
     "execution_count": 11,
     "metadata": {},
     "output_type": "execute_result"
    }
   ],
   "source": [
    "x_train.drop(list(col_corr), axis=1, inplace=True)\n",
    "x_test.drop(list(col_corr), axis=1, inplace=True)\n",
    "gc.collect()"
   ]
  },
  {
   "cell_type": "code",
   "execution_count": 13,
   "metadata": {
    "ExecuteTime": {
     "end_time": "2020-08-16T14:50:12.577951Z",
     "start_time": "2020-08-16T14:50:09.758128Z"
    }
   },
   "outputs": [],
   "source": [
    "x_train.to_hdf('../input/train_features_corr_95.h5', 'df')\n",
    "x_test.to_hdf('../input/test_features_corr_95.h5', 'df')"
   ]
  },
  {
   "cell_type": "code",
   "execution_count": null,
   "metadata": {},
   "outputs": [],
   "source": []
  }
 ],
 "metadata": {
  "kernelspec": {
   "display_name": "Python 3",
   "language": "python",
   "name": "python3"
  },
  "language_info": {
   "codemirror_mode": {
    "name": "ipython",
    "version": 3
   },
   "file_extension": ".py",
   "mimetype": "text/x-python",
   "name": "python",
   "nbconvert_exporter": "python",
   "pygments_lexer": "ipython3",
   "version": "3.7.3"
  },
  "toc": {
   "base_numbering": 1,
   "nav_menu": {},
   "number_sections": true,
   "sideBar": true,
   "skip_h1_title": false,
   "title_cell": "Table of Contents",
   "title_sidebar": "Contents",
   "toc_cell": false,
   "toc_position": {},
   "toc_section_display": true,
   "toc_window_display": false
  },
  "varInspector": {
   "cols": {
    "lenName": 16,
    "lenType": 16,
    "lenVar": 40
   },
   "kernels_config": {
    "python": {
     "delete_cmd_postfix": "",
     "delete_cmd_prefix": "del ",
     "library": "var_list.py",
     "varRefreshCmd": "print(var_dic_list())"
    },
    "r": {
     "delete_cmd_postfix": ") ",
     "delete_cmd_prefix": "rm(",
     "library": "var_list.r",
     "varRefreshCmd": "cat(var_dic_list()) "
    }
   },
   "types_to_exclude": [
    "module",
    "function",
    "builtin_function_or_method",
    "instance",
    "_Feature"
   ],
   "window_display": false
  }
 },
 "nbformat": 4,
 "nbformat_minor": 4
}
