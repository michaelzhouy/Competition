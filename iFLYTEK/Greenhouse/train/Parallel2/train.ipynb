{
 "cells": [
  {
   "cell_type": "code",
   "execution_count": 1,
   "metadata": {
    "ExecuteTime": {
     "end_time": "2020-08-07T07:29:32.556850Z",
     "start_time": "2020-08-07T07:29:31.220498Z"
    }
   },
   "outputs": [],
   "source": [
    "import numpy as np\n",
    "import pandas as pd\n",
    "from datetime import datetime\n",
    "import os\n",
    "import gc\n",
    "import xgboost as xgb\n",
    "import math\n",
    "from joblib import Parallel, delayed\n",
    "\n",
    "from tqdm import tqdm\n",
    "from sklearn.model_selection import StratifiedKFold, KFold\n",
    "from sklearn.metrics import mean_absolute_error, mean_squared_error\n",
    "import matplotlib.pyplot as plt\n",
    "import time\n",
    "import warnings\n",
    "\n",
    "warnings.filterwarnings('ignore')\n",
    "\n",
    "pd.set_option('max_columns', None)\n",
    "pd.set_option('max_rows', None)"
   ]
  },
  {
   "cell_type": "code",
   "execution_count": 2,
   "metadata": {
    "ExecuteTime": {
     "end_time": "2020-08-07T07:29:32.564354Z",
     "start_time": "2020-08-07T07:29:32.556850Z"
    }
   },
   "outputs": [],
   "source": [
    "def correlation(df, threshold=0.98):\n",
    "    \"\"\"\n",
    "    特征相关性计算\n",
    "    @param df: \n",
    "    @param threshold: \n",
    "    @return: \n",
    "    \"\"\"\n",
    "    col_corr = set()\n",
    "    corr_matrix = df.corr()\n",
    "    for i in range(len(corr_matrix.columns)):\n",
    "        for j in range(i):\n",
    "            if abs(corr_matrix.iloc[i, j]) > threshold:\n",
    "                colName = corr_matrix.columns[i]\n",
    "                col_corr.add(colName)\n",
    "    return col_corr"
   ]
  },
  {
   "cell_type": "code",
   "execution_count": 3,
   "metadata": {
    "ExecuteTime": {
     "end_time": "2020-08-07T07:29:32.979183Z",
     "start_time": "2020-08-07T07:29:32.566347Z"
    }
   },
   "outputs": [],
   "source": [
    "train_df = pd.read_hdf('../../input/train.h5')\n",
    "test_df = pd.read_hdf('../../input/test.h5')\n",
    "sub = pd.DataFrame(test_df['time'])"
   ]
  },
  {
   "cell_type": "code",
   "execution_count": 4,
   "metadata": {
    "ExecuteTime": {
     "end_time": "2020-08-07T07:29:33.021041Z",
     "start_time": "2020-08-07T07:29:32.980112Z"
    }
   },
   "outputs": [
    {
     "data": {
      "text/plain": [
       "64"
      ]
     },
     "execution_count": 4,
     "metadata": {},
     "output_type": "execute_result"
    }
   ],
   "source": [
    "train_df = train_df[train_df['temperature'].notnull()]\n",
    "train_df = train_df.fillna(method='bfill')\n",
    "test_df = test_df.fillna(method='bfill')\n",
    "gc.collect()"
   ]
  },
  {
   "cell_type": "code",
   "execution_count": 5,
   "metadata": {
    "ExecuteTime": {
     "end_time": "2020-08-07T07:29:33.027007Z",
     "start_time": "2020-08-07T07:29:33.022001Z"
    }
   },
   "outputs": [],
   "source": [
    "train_df.columns = ['time', 'year', 'month', 'day', 'hour', 'min', 'sec', 'outdoorTemp', 'outdoorHum', 'outdoorAtmo',\n",
    "                    'indoorHum', 'indoorAtmo', 'temperature']\n",
    "test_df.columns = ['time', 'year', 'month', 'day', 'hour', 'min', 'sec', 'outdoorTemp', 'outdoorHum', 'outdoorAtmo',\n",
    "                   'indoorHum', 'indoorAtmo']"
   ]
  },
  {
   "cell_type": "code",
   "execution_count": 6,
   "metadata": {
    "ExecuteTime": {
     "end_time": "2020-08-07T07:29:33.037960Z",
     "start_time": "2020-08-07T07:29:33.028005Z"
    }
   },
   "outputs": [
    {
     "name": "stdout",
     "output_type": "stream",
     "text": [
      "train_df.shape:  (24807, 13)\n",
      "处理后 train_df.shape:  (19338, 13)\n"
     ]
    }
   ],
   "source": [
    "print('train_df.shape: ', train_df.shape)\n",
    "train_df = train_df.loc[(train_df['outdoorTemp'] >= test_df['outdoorTemp'].min()) & (train_df['outdoorTemp'] <= test_df['outdoorTemp'].max())]\n",
    "print('处理后 train_df.shape: ', train_df.shape)"
   ]
  },
  {
   "cell_type": "code",
   "execution_count": 7,
   "metadata": {
    "ExecuteTime": {
     "end_time": "2020-08-07T07:29:33.077851Z",
     "start_time": "2020-08-07T07:29:33.039954Z"
    }
   },
   "outputs": [
    {
     "data": {
      "text/plain": [
       "60"
      ]
     },
     "execution_count": 7,
     "metadata": {},
     "output_type": "execute_result"
    }
   ],
   "source": [
    "train_count = train_df.shape[0]\n",
    "y_train = train_df['temperature'].values - train_df['outdoorTemp'].values\n",
    "test_temp = test_df['outdoorTemp'].values\n",
    "\n",
    "del train_df, test_df\n",
    "gc.collect()"
   ]
  },
  {
   "cell_type": "code",
   "execution_count": 8,
   "metadata": {
    "ExecuteTime": {
     "end_time": "2020-08-07T07:29:33.762381Z",
     "start_time": "2020-08-07T07:29:33.079847Z"
    }
   },
   "outputs": [],
   "source": [
    "rolling = pd.read_hdf('../../input/features/rolling.h5')\n",
    "agg = pd.read_hdf('../../input/features/agg.h5')\n",
    "combine = pd.read_hdf('../../input/features/combine.h5')"
   ]
  },
  {
   "cell_type": "code",
   "execution_count": 9,
   "metadata": {
    "ExecuteTime": {
     "end_time": "2020-08-07T07:29:33.950197Z",
     "start_time": "2020-08-07T07:29:33.762381Z"
    }
   },
   "outputs": [
    {
     "data": {
      "text/plain": [
       "150"
      ]
     },
     "execution_count": 9,
     "metadata": {},
     "output_type": "execute_result"
    }
   ],
   "source": [
    "combine.drop(['month', 'hour', 'min'], axis=1, inplace=True)\n",
    "gc.collect()"
   ]
  },
  {
   "cell_type": "code",
   "execution_count": 10,
   "metadata": {
    "ExecuteTime": {
     "end_time": "2020-08-07T07:29:33.956180Z",
     "start_time": "2020-08-07T07:29:33.951194Z"
    }
   },
   "outputs": [
    {
     "name": "stdout",
     "output_type": "stream",
     "text": [
      "(19744, 46)\n",
      "(19744, 209)\n",
      "(25213, 1561)\n"
     ]
    }
   ],
   "source": [
    "print(rolling.shape)\n",
    "print(agg.shape)\n",
    "print(combine.shape)"
   ]
  },
  {
   "cell_type": "code",
   "execution_count": 11,
   "metadata": {
    "ExecuteTime": {
     "end_time": "2020-08-07T07:29:34.587533Z",
     "start_time": "2020-08-07T07:29:33.957181Z"
    }
   },
   "outputs": [
    {
     "data": {
      "text/plain": [
       "0"
      ]
     },
     "execution_count": 11,
     "metadata": {},
     "output_type": "execute_result"
    }
   ],
   "source": [
    "data_df = pd.merge(rolling, agg, on='time')\n",
    "del rolling, agg\n",
    "gc.collect()\n",
    "\n",
    "data_df = pd.merge(data_df, combine, on='time')\n",
    "del combine\n",
    "gc.collect()"
   ]
  },
  {
   "cell_type": "code",
   "execution_count": 12,
   "metadata": {
    "ExecuteTime": {
     "end_time": "2020-08-07T07:29:34.593516Z",
     "start_time": "2020-08-07T07:29:34.588544Z"
    }
   },
   "outputs": [
    {
     "data": {
      "text/plain": [
       "(19744, 1814)"
      ]
     },
     "execution_count": 12,
     "metadata": {},
     "output_type": "execute_result"
    }
   ],
   "source": [
    "data_df.shape"
   ]
  },
  {
   "cell_type": "code",
   "execution_count": 13,
   "metadata": {
    "ExecuteTime": {
     "end_time": "2020-08-07T07:29:35.233066Z",
     "start_time": "2020-08-07T07:29:34.594519Z"
    }
   },
   "outputs": [
    {
     "data": {
      "text/plain": [
       "40"
      ]
     },
     "execution_count": 13,
     "metadata": {},
     "output_type": "execute_result"
    }
   ],
   "source": [
    "train_df = data_df[:train_count].copy().reset_index(drop=True)\n",
    "test_df = data_df[train_count:].copy().reset_index(drop=True)\n",
    "\n",
    "del data_df\n",
    "gc.collect()"
   ]
  },
  {
   "cell_type": "code",
   "execution_count": 14,
   "metadata": {
    "ExecuteTime": {
     "end_time": "2020-08-07T07:29:35.238053Z",
     "start_time": "2020-08-07T07:29:35.234063Z"
    }
   },
   "outputs": [
    {
     "name": "stdout",
     "output_type": "stream",
     "text": [
      "(19338, 1814)\n",
      "(406, 1814)\n"
     ]
    }
   ],
   "source": [
    "print(train_df.shape)\n",
    "print(test_df.shape)"
   ]
  },
  {
   "cell_type": "code",
   "execution_count": 15,
   "metadata": {
    "ExecuteTime": {
     "end_time": "2020-08-07T07:29:35.428094Z",
     "start_time": "2020-08-07T07:29:35.239049Z"
    }
   },
   "outputs": [
    {
     "data": {
      "text/plain": [
       "40"
      ]
     },
     "execution_count": 15,
     "metadata": {},
     "output_type": "execute_result"
    }
   ],
   "source": [
    "drop_columns = ['time']\n",
    "\n",
    "x_train = train_df.drop(drop_columns, axis=1)\n",
    "x_test = test_df.drop(drop_columns, axis=1)\n",
    "\n",
    "del train_df, test_df\n",
    "gc.collect()"
   ]
  },
  {
   "cell_type": "code",
   "execution_count": 16,
   "metadata": {
    "ExecuteTime": {
     "end_time": "2020-08-07T07:31:55.951370Z",
     "start_time": "2020-08-07T07:29:35.429054Z"
    }
   },
   "outputs": [
    {
     "name": "stdout",
     "output_type": "stream",
     "text": [
      "{'MDH_indoorHum_diff_min*MD_indoorHum_diff_sum', 'MDH_outdoorTemp_diff_sum/MDH_indoorAtmo_diff_sum', 'indoorAtmo*MDH_indoorAtmo_medi', 'MD_outdoorAtmo_diff_sum*MDH_indoorAtmo_diff_sum', 'MDH_outdoorTemp_diff_medi*MDH_outdoorTemp_diff_sum', 'indoorHum', 'MDH_outdoorTemp_diff_mean/MDH_outdoorAtmo_diff_min'}\n"
     ]
    }
   ],
   "source": [
    "col_corr = correlation(x_train, 0.98)\n",
    "print(col_corr)"
   ]
  },
  {
   "cell_type": "code",
   "execution_count": 17,
   "metadata": {
    "ExecuteTime": {
     "end_time": "2020-08-07T07:31:55.957354Z",
     "start_time": "2020-08-07T07:31:55.952368Z"
    }
   },
   "outputs": [
    {
     "name": "stdout",
     "output_type": "stream",
     "text": [
      "7\n"
     ]
    }
   ],
   "source": [
    "print(len(col_corr))"
   ]
  },
  {
   "cell_type": "code",
   "execution_count": 18,
   "metadata": {
    "ExecuteTime": {
     "end_time": "2020-08-07T07:31:56.180305Z",
     "start_time": "2020-08-07T07:31:55.958353Z"
    }
   },
   "outputs": [
    {
     "data": {
      "text/plain": [
       "40"
      ]
     },
     "execution_count": 18,
     "metadata": {},
     "output_type": "execute_result"
    }
   ],
   "source": [
    "x_train.drop(list(col_corr), axis=1, inplace=True)\n",
    "x_test.drop(list(col_corr), axis=1, inplace=True)\n",
    "gc.collect()"
   ]
  },
  {
   "cell_type": "code",
   "execution_count": 19,
   "metadata": {
    "ExecuteTime": {
     "end_time": "2020-08-07T07:41:50.313094Z",
     "start_time": "2020-08-07T07:31:56.181265Z"
    }
   },
   "outputs": [
    {
     "name": "stdout",
     "output_type": "stream",
     "text": [
      "[0]\ttrain-rmse:1.00065\teval-rmse:0.41772\n",
      "Multiple eval metrics have been passed: 'eval-rmse' will be used for early stopping.\n",
      "\n",
      "Will train until eval-rmse hasn't improved in 1000 rounds.\n",
      "[500]\ttrain-rmse:0.07173\teval-rmse:0.20304\n",
      "[1000]\ttrain-rmse:0.05227\teval-rmse:0.20381\n",
      "Stopping. Best iteration:\n",
      "[417]\ttrain-rmse:0.08016\teval-rmse:0.20286\n",
      "\n"
     ]
    }
   ],
   "source": [
    "nums = int(x_train.shape[0] * 0.8)\n",
    "\n",
    "trn_x, trn_y, val_x, val_y = x_train[:nums], y_train[:nums], x_train[nums:], y_train[nums:]\n",
    "\n",
    "train_matrix = xgb.DMatrix(trn_x, label=trn_y, missing=np.nan)\n",
    "valid_matrix = xgb.DMatrix(val_x, label=val_y, missing=np.nan)\n",
    "train_all_matrix = xgb.DMatrix(x_train, y_train, missing=np.nan)\n",
    "test_matrix = xgb.DMatrix(x_test, label=val_y, missing=np.nan)\n",
    "\n",
    "params = {\n",
    "    'booster': 'gbtree',\n",
    "    'eval_metric': 'rmse',\n",
    "    'min_child_weight': 5,\n",
    "    'max_depth': 8,\n",
    "    'subsample': 0.5,\n",
    "    'colsample_bytree': 0.5,\n",
    "    'eta': 0.01,\n",
    "    'seed': 2020,\n",
    "    'nthread': 36,\n",
    "    'silent': 1\n",
    "}\n",
    "\n",
    "watchlist = [(train_matrix, 'train'), (valid_matrix, 'eval')]\n",
    "\n",
    "model_eval = xgb.train(params,\n",
    "                       train_matrix,\n",
    "                       num_boost_round=50000,\n",
    "                       evals=watchlist,\n",
    "                       verbose_eval=500,\n",
    "                       early_stopping_rounds=1000)\n",
    "val_pred = model_eval.predict(valid_matrix, ntree_limit=model_eval.best_ntree_limit).reshape(-1, 1)"
   ]
  },
  {
   "cell_type": "code",
   "execution_count": 20,
   "metadata": {
    "ExecuteTime": {
     "end_time": "2020-08-07T07:41:50.342882Z",
     "start_time": "2020-08-07T07:41:50.313094Z"
    }
   },
   "outputs": [
    {
     "name": "stdout",
     "output_type": "stream",
     "text": [
      "mse_score: 0.041154087522244774\n",
      "mse_score: 04115\n"
     ]
    }
   ],
   "source": [
    "mse = mean_squared_error(val_y, val_pred)\n",
    "print(\"mse_score:\", mse)\n",
    "print(\"mse_score:\", str(mse)[2:7])"
   ]
  },
  {
   "cell_type": "code",
   "execution_count": 21,
   "metadata": {
    "ExecuteTime": {
     "end_time": "2020-08-07T07:41:50.358503Z",
     "start_time": "2020-08-07T07:41:50.342882Z"
    }
   },
   "outputs": [
    {
     "name": "stdout",
     "output_type": "stream",
     "text": [
      "mae_score: 0.16277104511533425\n",
      "mae_score: 16277\n"
     ]
    }
   ],
   "source": [
    "mae = mean_absolute_error(val_y, val_pred)\n",
    "print(\"mae_score:\", mae)\n",
    "print(\"mae_score:\", str(mae)[2:7])"
   ]
  },
  {
   "cell_type": "code",
   "execution_count": 22,
   "metadata": {
    "ExecuteTime": {
     "end_time": "2020-08-07T07:41:52.592662Z",
     "start_time": "2020-08-07T07:41:50.358503Z"
    }
   },
   "outputs": [],
   "source": [
    "feat_imp_dict = model_eval.get_score(importance_type='gain')"
   ]
  },
  {
   "cell_type": "code",
   "execution_count": 23,
   "metadata": {
    "ExecuteTime": {
     "end_time": "2020-08-07T07:41:52.607212Z",
     "start_time": "2020-08-07T07:41:52.592662Z"
    }
   },
   "outputs": [
    {
     "name": "stdout",
     "output_type": "stream",
     "text": [
      "['outdoorTemp*MD_outdoorTemp_max', 'MDH_indoorHum_diff_sum+MD_outdoorAtmo_diff_sum', 'MDH_indoorAtmo_sum*MD_indoorHum_sum', 'outdoorHum*MDH_outdoorHum_medi', 'MDH_outdoorHum_diff_sum*MD_outdoorTemp_diff_sum', 'MDH_indoorAtmo_diff_sum*MDH_indoorHum_diff_sum', 'outdoorTemp*MDH_indoorAtmo_diff_sum', 'outdoorHum_20_bin_outdoorTemp_skew', 'indoorHum_20_bin_outdoorAtmo_min', 'outdoorTemp*MDH_outdoorTemp_diff_sum', 'indoorHum_20_bin_outdoorHum_sum', 'indoorHum_50_bin_outdoorHum_min', 'indoorHum*MDH_outdoorTemp_diff_sum', 'indoorHum*MD_outdoorAtmo_diff_sum', 'MDH_outdoorHum_diff_min*MDH_indoorHum_diff_min', 'MD_outdoorTemp_diff_sum*MDH_outdoorTemp_diff_sum', 'MD_outdoorTemp_diff_mean*MD_outdoorAtmo_diff_mean', 'MDH_outdoorAtmo_diff_sum/MD_outdoorAtmo_diff_sum', 'MDH_outdoorHum_diff_mean*MDH_indoorHum_diff_mean', 'MDH_indoorAtmo_diff_mean*MDH_outdoorTemp_diff_mean', 'outdoorTemp_20_bin_outdoorAtmo_skew', 'MDH_indoorHum_diff_sum-MDH_outdoorHum_diff_sum', 'indoorHum_20_bin_outdoorHum_std', 'indoorHum_50_bin_outdoorAtmo_mean', 'indoorHum_20_bin_outdoorAtmo_std', 'MDH_outdoorAtmo_diff_mean*MD_indoorAtmo_diff_mean', 'MDH_outdoorTemp_diff_sum*MDH_indoorAtmo_diff_sum', 'MDH_outdoorAtmo_diff_mean*MDH_outdoorTemp_diff_mean', 'MDH_outdoorHum_diff_mean*MDH_indoorAtmo_diff_mean', 'outdoorTemp_diff_3D_rolling_sum', 'outdoorTemp_100_bin_outdoorAtmo_std', 'MD_outdoorTemp_max+MDH_outdoorAtmo_mean', 'outdoorHum_20_bin_outdoorHum_skew', 'outdoorHum_3D_rolling_median', 'outdoorTemp_diff_2D_rolling_sum', 'MDH_outdoorAtmo_diff_sum*MD_indoorHum_diff_sum', 'outdoorHum_50_bin_indoorAtmo_mean', 'outdoorTemp+MDH_indoorAtmo_medi', 'outdoorTemp_200_bin_outdoorAtmo_std', 'outdoorHum_diff_expanding_skew', 'outdoorHum_50_bin_indoorHum_std', 'outdoorTemp_20_bin_outdoorTemp_skew', 'outdoorTemp+MDH_outdoorAtmo_mean', 'MDH_indoorHum_diff_max*MD_outdoorTemp_diff_medi', 'indoorHum_20_bin_outdoorTemp_min', 'MDH_outdoorAtmo_diff_mean*MDH_indoorHum_diff_mean', 'MDH_outdoorAtmo_diff_sum*MDH_indoorHum_diff_max', 'MDH_outdoorAtmo_diff_sum*MD_outdoorHum_diff_sum', 'indoorAtmo*MD_indoorHum_max', 'outdoorTemp_50_bin_outdoorAtmo_skew', 'MDH_indoorAtmo_diff_sum*MDH_outdoorHum_diff_min', 'indoorAtmo_diff_expanding_skew', 'outdoorHum_3D_rolling_mean', 'MD_outdoorTemp_diff_sum*MDH_indoorAtmo_diff_sum', 'indoorHum_20_bin_outdoorTemp_sum', 'indoorHum_50_bin_outdoorAtmo_medi', 'MDH_outdoorAtmo_diff_mean*MD_outdoorHum_diff_mean', 'indoorHum_50_bin_outdoorTemp_max', 'MDH_indoorHum_diff_mean*MDH_indoorAtmo_diff_mean', 'indoorHum*MDH_indoorHum_medi', 'MD_outdoorTemp_diff_max*MDH_outdoorTemp_diff_sum', 'indoorHum_20_bin_indoorHum_std', 'MD_indoorHum_diff_mean/MD_indoorAtmo_diff_max', 'MDH_indoorAtmo_diff_sum*MDH_outdoorTemp_diff_sum', 'indoorAtmo_100_bin_outdoorAtmo_min', 'indoorHum_50_bin_outdoorHum_sum', 'MDH_outdoorTemp_diff_medi*MDH_outdoorTemp_diff_mean', 'MDH_indoorHum_diff_sum*MDH_outdoorAtmo_diff_sum', 'outdoorHum_20_bin_indoorAtmo_skew', 'MDH_outdoorAtmo_diff_mean*MD_indoorHum_diff_mean', 'outdoorHum_100_bin_outdoorTemp_sum', 'outdoorHum_20_bin_indoorAtmo_std', 'outdoorHum_50_bin_indoorAtmo_max', 'indoorHum_20_bin_indoorAtmo_mean', 'MDH_outdoorAtmo_diff_sum*MDH_outdoorHum_diff_max', 'outdoorTemp_diff_3D_rolling_skew', 'indoorHum_50_bin_indoorAtmo_mean', 'outdoorTemp_diff_expanding_mean', 'outdoorTemp*MDH_outdoorAtmo_diff_sum', 'outdoorAtmo_100_bin_outdoorHum_min', 'outdoorTemp_3D_rolling_std', 'indoorAtmo_3D_rolling_mean', 'outdoorHum_20_bin_outdoorAtmo_std', 'outdoorHum_20_bin_outdoorTemp_std', 'indoorHum_20_bin_indoorAtmo_skew', 'outdoorHum_100_bin_indoorAtmo_max', 'outdoorTemp_50_bin_outdoorAtmo_std', 'MDH_outdoorTemp_diff_sum*MD_outdoorHum_diff_sum', 'MDH_indoorAtmo_mean-MDH_outdoorAtmo_diff_sum', 'indoorHum_20_bin_outdoorAtmo_medi', 'indoorHum_diff_3D_rolling_sum', 'outdoorHum_100_bin_outdoorTemp_std', 'indoorHum_100_bin_indoorAtmo_mean', 'indoorHum_20_bin_outdoorHum_skew', 'indoorHum_20_bin_outdoorTemp_std', 'MD_indoorHum_diff_sum/MD_indoorAtmo_diff_sum', 'indoorAtmo_100_bin_indoorAtmo_std', 'outdoorHum_100_bin_outdoorAtmo_min', 'outdoorHum_100_bin_indoorHum_std', 'indoorHum_100_bin_outdoorAtmo_mean', 'indoorHum_50_bin_outdoorAtmo_sum', 'MDH_outdoorAtmo_diff_sum*MD_outdoorTemp_diff_sum', 'indoorHum_20_bin_outdoorHum_min', 'outdoorHum_20_bin_indoorHum_skew', 'outdoorHum_20_bin_indoorAtmo_min', 'outdoorHum_100_bin_indoorAtmo_mean', 'outdoorHum_2D_rolling_mean', 'outdoorHum_50_bin_indoorAtmo_skew', 'indoorHum_50_bin_outdoorTemp_std', 'outdoorHum_100_bin_indoorAtmo_std', 'indoorHum_20_bin_indoorAtmo_max', 'outdoorAtmo_100_bin_outdoorAtmo_std', 'indoorHum_50_bin_outdoorAtmo_max', 'outdoorHum_50_bin_outdoorAtmo_skew', 'indoorHum_diff_3D_rolling_skew', 'indoorHum_diff_2D_rolling_sum', 'indoorHum_diff_expanding_mean', 'outdoorAtmo_200_bin_outdoorHum_max', 'indoorAtmo_2D_rolling_mean', 'indoorHum_50_bin_indoorAtmo_max', 'indoorHum_20_bin_outdoorAtmo_sum', 'outdoorTemp_diff_2D_rolling_skew', 'indoorHum*indoorAtmo', 'indoorHum_100_bin_outdoorAtmo_sum', 'indoorHum_50_bin_indoorHum_skew', 'indoorHum_20_bin_outdoorAtmo_mean', 'indoorHum_20_bin_indoorAtmo_std', 'outdoorHum_3D_rolling_std', 'indoorHum_50_bin_outdoorAtmo_skew', 'outdoorHum_diff_2D_rolling_sum', 'indoorHum_20_bin_outdoorTemp_skew', 'indoorHum_50_bin_outdoorTemp_sum', 'indoorHum_50_bin_outdoorTemp_skew', 'indoorAtmo_100_bin_outdoorHum_std', 'indoorAtmo_100_bin_outdoorHum_min', 'outdoorAtmo_50_bin_indoorHum_std', 'outdoorAtmo_diff_expanding_skew', 'indoorHum_50_bin_indoorAtmo_std', 'indoorHum_50_bin_indoorAtmo_min', 'outdoorHum_diff_3D_rolling_sum', 'indoorHum_100_bin_outdoorTemp_skew', 'outdoorHum_50_bin_outdoorAtmo_sum', 'outdoorTemp_2D_rolling_std', 'indoorHum_100_bin_outdoorHum_skew', 'outdoorHum_100_bin_indoorAtmo_skew', 'outdoorHum_50_bin_outdoorTemp_skew', 'outdoorTemp_3D_rolling_skew', 'outdoorHum_20_bin_outdoorHum_std', 'MD_indoorHum_max*indoorAtmo', 'outdoorAtmo_50_bin_indoorAtmo_skew', 'indoorHum_50_bin_outdoorHum_std', 'indoorHum_100_bin_outdoorAtmo_skew', 'outdoorHum_50_bin_outdoorTemp_std', 'outdoorHum_50_bin_outdoorAtmo_min', 'outdoorHum_3D_rolling_skew', 'outdoorHum_diff_expanding_mean', 'indoorHum_3D_rolling_skew', 'outdoorHum_50_bin_indoorHum_skew', 'outdoorHum_20_bin_outdoorAtmo_skew', 'indoorAtmo_20_bin_outdoorTemp_max', 'min', 'outdoorHum_50_bin_outdoorAtmo_max', 'outdoorHum_2D_rolling_std', 'outdoorHum_100_bin_indoorAtmo_min', 'indoorHum_20_bin_indoorHum_skew', 'indoorHum_100_bin_indoorAtmo_min', 'outdoorHum_50_bin_indoorAtmo_min', 'outdoorHum_20_bin_outdoorTemp_sum', 'outdoorHum_50_bin_outdoorHum_skew', 'indoorAtmo*MD_outdoorTemp_diff_sum', 'indoorHum_50_bin_outdoorAtmo_min', 'MDH_outdoorTemp_diff_medi*MDH_indoorHum_diff_mean', 'indoorHum_100_bin_indoorAtmo_skew', 'indoorHum_100_bin_outdoorAtmo_min', 'indoorHum_50_bin_indoorAtmo_skew', 'outdoorAtmo_200_bin_outdoorAtmo_std', 'outdoorHum_50_bin_indoorAtmo_std', 'indoorHum_50_bin_outdoorHum_skew', 'indoorHum_100_bin_outdoorHum_std', 'outdoorHum_50_bin_outdoorAtmo_std', 'indoorAtmo_50_bin_outdoorAtmo_max', 'outdoorHum_100_bin_outdoorAtmo_std', 'outdoorAtmo_100_bin_outdoorTemp_min', 'indoorHum_100_bin_outdoorAtmo_max', 'indoorAtmo_diff_expanding_mean', 'outdoorHum_100_bin_outdoorAtmo_max', 'outdoorHum_100_bin_outdoorAtmo_skew', 'outdoorHum_100_bin_indoorHum_skew', 'outdoorHum_diff_1D_rolling_sum', 'indoorHum_50_bin_outdoorAtmo_std', 'indoorHum_100_bin_outdoorAtmo_std', 'indoorAtmo_100_bin_outdoorHum_max', 'outdoorHum_50_bin_outdoorTemp_sum', 'indoorAtmo_50_bin_outdoorAtmo_std', 'indoorAtmo_20_bin_outdoorTemp_sum', 'indoorAtmo_50_bin_outdoorAtmo_sum', 'indoorAtmo_50_bin_outdoorTemp_sum', 'indoorHum_50_bin_indoorHum_std', 'indoorHum_100_bin_indoorAtmo_std', 'outdoorAtmo_20_bin_indoorAtmo_min', 'indoorAtmo_diff_3D_rolling_sum', 'outdoorAtmo_50_bin_outdoorTemp_medi', 'outdoorAtmo_100_bin_outdoorHum_max', 'outdoorHum_20_bin_indoorHum_std', 'outdoorAtmo_20_bin_outdoorAtmo_medi', 'MDH_outdoorTemp_diff_medi/MDH_outdoorAtmo_diff_min', 'outdoorAtmo_200_bin_outdoorTemp_min', 'indoorAtmo_20_bin', 'outdoorAtmo_50_bin_indoorAtmo_min', 'MDH_outdoorTemp_diff_medi/MDH_outdoorTemp_diff_max', 'indoorAtmo_diff_2D_rolling_sum', 'outdoorAtmo_50_bin_outdoorAtmo_std', 'outdoorAtmo_200_bin_indoorHum_max', 'outdoorHum_50_bin_outdoorHum_std', 'outdoorAtmo_200_bin_outdoorHum_std', 'outdoorAtmo_diff_2D_rolling_sum', 'outdoorAtmo_50_bin_outdoorTemp_sum', 'outdoorAtmo_diff_3D_rolling_sum', 'indoorAtmo_20_bin_outdoorTemp_medi', 'outdoorAtmo_50_bin', 'outdoorAtmo*MDH_indoorAtmo_medi', 'outdoorAtmo_50_bin_outdoorHum_sum', 'outdoorAtmo_50_bin_outdoorAtmo_sum', 'indoorAtmo*outdoorAtmo', 'outdoorAtmo_20_bin_outdoorTemp_medi', 'outdoorAtmo_50_bin_outdoorTemp_min', 'outdoorAtmo_20_bin_outdoorTemp_min', 'outdoorAtmo_50_bin_outdoorHum_min', 'outdoorAtmo_50_bin_outdoorTemp_skew', 'outdoorAtmo_50_bin_outdoorTemp_max', 'outdoorAtmo_20_bin_outdoorAtmo_min', 'indoorAtmo_20_bin_outdoorAtmo_std', 'outdoorAtmo_50_bin_outdoorHum_max', 'outdoorAtmo_50_bin_indoorAtmo_max', 'indoorAtmo_20_bin_outdoorAtmo_max', 'outdoorAtmo_50_bin_indoorAtmo_std', 'outdoorAtmo_50_bin_indoorHum_max', 'outdoorAtmo_20_bin_indoorAtmo_skew']\n"
     ]
    }
   ],
   "source": [
    "feat_imp = pd.Series(feat_imp_dict).sort_values(ascending=False).reset_index().rename(columns={'index': 'feature',\n",
    "                                                                                               0: 'importance'})\n",
    "feat_imp['normalized_importance'] = feat_imp['importance'] / feat_imp['importance'].sum()\n",
    "feat_imp['cumulative_importance'] = np.cumsum(feat_imp['normalized_importance'])\n",
    "record_low_importance = feat_imp[feat_imp['cumulative_importance'] > 0.95]\n",
    "\n",
    "to_drop = list(record_low_importance['feature'])\n",
    "print(to_drop)"
   ]
  },
  {
   "cell_type": "code",
   "execution_count": 24,
   "metadata": {
    "ExecuteTime": {
     "end_time": "2020-08-07T07:41:52.743865Z",
     "start_time": "2020-08-07T07:41:52.609180Z"
    }
   },
   "outputs": [],
   "source": [
    "x_train.drop(to_drop, axis=1, inplace=True)\n",
    "x_test.drop(to_drop, axis=1, inplace=True)"
   ]
  },
  {
   "cell_type": "code",
   "execution_count": 25,
   "metadata": {
    "ExecuteTime": {
     "end_time": "2020-08-07T07:44:59.174579Z",
     "start_time": "2020-08-07T07:41:52.744814Z"
    }
   },
   "outputs": [],
   "source": [
    "train_all_matrix = xgb.DMatrix(x_train, y_train, missing=np.nan)\n",
    "test_matrix = xgb.DMatrix(x_test, label=val_y, missing=np.nan)\n",
    "\n",
    "model = xgb.train(params,\n",
    "                  train_all_matrix,\n",
    "                  num_boost_round=model_eval.best_ntree_limit + 20)\n",
    "\n",
    "test_pred = model.predict(test_matrix, ntree_limit=model.best_ntree_limit).reshape(-1, 1)"
   ]
  },
  {
   "cell_type": "code",
   "execution_count": 26,
   "metadata": {
    "ExecuteTime": {
     "end_time": "2020-08-07T07:44:59.205512Z",
     "start_time": "2020-08-07T07:44:59.177571Z"
    }
   },
   "outputs": [],
   "source": [
    "sub['temperature'] = test_pred[:, 0] + test_temp\n",
    "sub.to_csv('../../sub/sub_{}_{}.csv'.format(time.strftime('%Y%m%d'), str(mse)[2:7]), index=False)"
   ]
  },
  {
   "cell_type": "code",
   "execution_count": null,
   "metadata": {},
   "outputs": [],
   "source": []
  }
 ],
 "metadata": {
  "kernelspec": {
   "display_name": "Python 3",
   "language": "python",
   "name": "python3"
  },
  "language_info": {
   "codemirror_mode": {
    "name": "ipython",
    "version": 3
   },
   "file_extension": ".py",
   "mimetype": "text/x-python",
   "name": "python",
   "nbconvert_exporter": "python",
   "pygments_lexer": "ipython3",
   "version": "3.7.3"
  },
  "toc": {
   "base_numbering": 1,
   "nav_menu": {},
   "number_sections": true,
   "sideBar": true,
   "skip_h1_title": false,
   "title_cell": "Table of Contents",
   "title_sidebar": "Contents",
   "toc_cell": false,
   "toc_position": {},
   "toc_section_display": true,
   "toc_window_display": false
  },
  "varInspector": {
   "cols": {
    "lenName": 16,
    "lenType": 16,
    "lenVar": 40
   },
   "kernels_config": {
    "python": {
     "delete_cmd_postfix": "",
     "delete_cmd_prefix": "del ",
     "library": "var_list.py",
     "varRefreshCmd": "print(var_dic_list())"
    },
    "r": {
     "delete_cmd_postfix": ") ",
     "delete_cmd_prefix": "rm(",
     "library": "var_list.r",
     "varRefreshCmd": "cat(var_dic_list()) "
    }
   },
   "types_to_exclude": [
    "module",
    "function",
    "builtin_function_or_method",
    "instance",
    "_Feature"
   ],
   "window_display": false
  }
 },
 "nbformat": 4,
 "nbformat_minor": 4
}
