{
 "cells": [
  {
   "cell_type": "code",
   "execution_count": 1,
   "metadata": {
    "ExecuteTime": {
     "end_time": "2020-07-30T09:33:07.319414Z",
     "start_time": "2020-07-30T09:33:05.963629Z"
    }
   },
   "outputs": [],
   "source": [
    "import numpy as np\n",
    "import pandas as pd\n",
    "import lightgbm as lgb\n",
    "import xgboost as xgb\n",
    "from tqdm import tqdm\n",
    "from sklearn.model_selection import StratifiedKFold, KFold\n",
    "from sklearn.metrics import mean_absolute_error, mean_squared_error\n",
    "import matplotlib.pyplot as plt\n",
    "import time\n",
    "import gc\n",
    "import warnings\n",
    "\n",
    "warnings.filterwarnings('ignore')"
   ]
  },
  {
   "cell_type": "code",
   "execution_count": 2,
   "metadata": {
    "ExecuteTime": {
     "end_time": "2020-07-30T09:33:07.331339Z",
     "start_time": "2020-07-30T09:33:07.320367Z"
    }
   },
   "outputs": [],
   "source": [
    "def get_psi(train,test,f_cols):\n",
    "    psi_res = pd.DataFrame()\n",
    "    psi_dict={}\n",
    "    for c in tqdm(f_cols):\n",
    "        try:\n",
    "            t_train = train[c].fillna(-998)\n",
    "            t_test = test[c].fillna(-998)\n",
    "            #获取切分点\n",
    "            bins=[]\n",
    "            for i in np.arange(0,1.1,0.2):\n",
    "                bins.append(t_train.quantile(i))\n",
    "            bins=sorted(set(bins))\n",
    "            bins[0]=-np.inf\n",
    "            bins[-1]=np.inf\n",
    "            #计算psi\n",
    "            t_psi = pd.DataFrame()\n",
    "            t_psi['train'] = pd.cut(t_train,bins).value_counts().sort_index()\n",
    "            t_psi['test'] = pd.cut(t_test,bins).value_counts()\n",
    "            if c == 'outdoorTemp':\n",
    "                print(t_psi['train'])\n",
    "                print(t_psi['test'])\n",
    "            t_psi.index=[str(x) for x in t_psi.index]\n",
    "            t_psi.loc['总计',:] = t_psi.sum()\n",
    "            t_psi['train_rate'] = t_psi['train']/t_psi.loc['总计','train']\n",
    "            t_psi['test_rate'] = t_psi['test']/t_psi.loc['总计','test']\n",
    "            t_psi['psi'] = (t_psi['test_rate']-t_psi['train_rate'])*(np.log(t_psi['test_rate'])-np.log(t_psi['train_rate']))\n",
    "            t_psi.loc['总计','psi'] = t_psi['psi'].sum()\n",
    "            t_psi.index.name=c\n",
    "            #汇总\n",
    "            t_res = pd.DataFrame([[c,t_psi.loc['总计','psi']]],\n",
    "                                 columns=['变量名','PSI'])\n",
    "            psi_res = pd.concat([psi_res,t_res])\n",
    "            psi_dict[c]=t_psi\n",
    "            print(c,'done')\n",
    "        except:\n",
    "            print(c,'error')\n",
    "    return psi_res,psi_dict"
   ]
  },
  {
   "cell_type": "code",
   "execution_count": 3,
   "metadata": {
    "ExecuteTime": {
     "end_time": "2020-07-30T09:33:07.379796Z",
     "start_time": "2020-07-30T09:33:07.333333Z"
    }
   },
   "outputs": [],
   "source": [
    "train = pd.read_csv('../input/train.csv')\n",
    "test = pd.read_csv('../input/test.csv')\n",
    "sub = pd.DataFrame(test['time'])"
   ]
  },
  {
   "cell_type": "code",
   "execution_count": 4,
   "metadata": {
    "ExecuteTime": {
     "end_time": "2020-07-30T09:33:07.389783Z",
     "start_time": "2020-07-30T09:33:07.380740Z"
    }
   },
   "outputs": [],
   "source": [
    "train = train[train['temperature'].notnull()]\n",
    "train = train.fillna(method='bfill')\n",
    "test = test.fillna(method='bfill')"
   ]
  },
  {
   "cell_type": "code",
   "execution_count": 5,
   "metadata": {
    "ExecuteTime": {
     "end_time": "2020-07-30T09:33:07.396697Z",
     "start_time": "2020-07-30T09:33:07.391712Z"
    }
   },
   "outputs": [],
   "source": [
    "train.columns = ['time', 'year', 'month', 'day', 'hour', 'min', 'sec',\n",
    "                 'outdoorTemp', 'outdoorHum', 'outdoorAtmo',\n",
    "                 'indoorHum', 'indoorAtmo', 'temperature']\n",
    "\n",
    "test.columns = ['time', 'year', 'month', 'day', 'hour', 'min', 'sec',\n",
    "                'outdoorTemp', 'outdoorHum', 'outdoorAtmo',\n",
    "                'indoorHum', 'indoorAtmo']"
   ]
  },
  {
   "cell_type": "code",
   "execution_count": 6,
   "metadata": {
    "ExecuteTime": {
     "end_time": "2020-07-30T09:33:07.405981Z",
     "start_time": "2020-07-30T09:33:07.397695Z"
    }
   },
   "outputs": [],
   "source": [
    "data = pd.concat([train, test])"
   ]
  },
  {
   "cell_type": "code",
   "execution_count": 7,
   "metadata": {
    "ExecuteTime": {
     "end_time": "2020-07-30T09:33:07.412995Z",
     "start_time": "2020-07-30T09:33:07.407981Z"
    }
   },
   "outputs": [],
   "source": [
    "data['indoorAtmo-outdoorAtmo'] = data['indoorAtmo'] - data['outdoorAtmo']\n",
    "data['indoorHum-outdoorHum'] = data['indoorHum'] - data['outdoorHum']"
   ]
  },
  {
   "cell_type": "code",
   "execution_count": 8,
   "metadata": {
    "ExecuteTime": {
     "end_time": "2020-07-30T09:33:07.418976Z",
     "start_time": "2020-07-30T09:33:07.413963Z"
    }
   },
   "outputs": [],
   "source": [
    "numerical_features = ['outdoorTemp', 'outdoorHum', 'outdoorAtmo', 'indoorHum', 'indoorAtmo', 'indoorAtmo-outdoorAtmo', 'indoorHum-outdoorHum']"
   ]
  },
  {
   "cell_type": "code",
   "execution_count": 9,
   "metadata": {
    "ExecuteTime": {
     "end_time": "2020-07-30T09:33:07.428923Z",
     "start_time": "2020-07-30T09:33:07.419947Z"
    }
   },
   "outputs": [],
   "source": [
    "for i in numerical_features:\n",
    "    data['{}_diff'.format(i)] = data[i].diff()"
   ]
  },
  {
   "cell_type": "code",
   "execution_count": 10,
   "metadata": {
    "ExecuteTime": {
     "end_time": "2020-07-30T09:33:30.672714Z",
     "start_time": "2020-07-30T09:33:07.429922Z"
    }
   },
   "outputs": [
    {
     "name": "stderr",
     "output_type": "stream",
     "text": [
      "100%|████████████████████████████████████████████████████████████████████████████████████| 7/7 [00:23<00:00,  3.32s/it]\n"
     ]
    }
   ],
   "source": [
    "group_feats = []\n",
    "for i in tqdm(numerical_features):\n",
    "    data['MDH_{}_mean'.format(i)] = data.groupby(['month', 'day', 'hour'], as_index=False)[i].transform('mean')\n",
    "    data['MDH_{}_median'.format(i)] = data.groupby(['month', 'day', 'hour'], as_index=False)[i].transform('median')\n",
    "    data['MDH_{}_max'.format(i)] = data.groupby(['month', 'day', 'hour'], as_index=False)[i].transform('max')\n",
    "    data['MDH_{}_min'.format(i)] = data.groupby(['month', 'day', 'hour'], as_index=False)[i].transform('min')\n",
    "    data['MDH_{}_std'.format(i)] = data.groupby(['month', 'day', 'hour'], as_index=False)[i].transform('std')\n",
    "    data['MDH_{}_skew'.format(i)] = data.groupby(['month', 'day', 'hour'], as_index=False)[i].transform('skew')\n",
    "    \n",
    "    group_feats.append('MDH_{}_mean'.format(i))\n",
    "    group_feats.append('MDH_{}_median'.format(i))"
   ]
  },
  {
   "cell_type": "code",
   "execution_count": 11,
   "metadata": {
    "ExecuteTime": {
     "end_time": "2020-07-30T09:33:31.254199Z",
     "start_time": "2020-07-30T09:33:30.673712Z"
    }
   },
   "outputs": [
    {
     "name": "stderr",
     "output_type": "stream",
     "text": [
      "  0%|                                                                                           | 0/21 [00:00<?, ?it/s]\n",
      "100%|████████████████████████████████████████████████████████████████████████████████| 21/21 [00:00<00:00, 1914.17it/s]\u001b[A\n",
      "\n",
      "100%|████████████████████████████████████████████████████████████████████████████████| 21/21 [00:00<00:00, 1504.00it/s]\u001b[A\n",
      "\n",
      "100%|████████████████████████████████████████████████████████████████████████████████| 21/21 [00:00<00:00, 1754.73it/s]\u001b[A\n",
      "\n",
      "100%|████████████████████████████████████████████████████████████████████████████████| 21/21 [00:00<00:00, 1619.78it/s]\u001b[A\n",
      "\n",
      "100%|█████████████████████████████████████████████████████████████████████████████████| 21/21 [00:00<00:00, 447.75it/s]\u001b[A\n",
      " 24%|███████████████████▊                                                               | 5/21 [00:00<00:00, 45.98it/s]\n",
      "100%|████████████████████████████████████████████████████████████████████████████████| 21/21 [00:00<00:00, 1914.04it/s]\u001b[A\n",
      "\n",
      "100%|████████████████████████████████████████████████████████████████████████████████| 21/21 [00:00<00:00, 1755.01it/s]\u001b[A\n",
      "\n",
      "100%|████████████████████████████████████████████████████████████████████████████████| 21/21 [00:00<00:00, 1909.48it/s]\u001b[A\n",
      "\n",
      "100%|████████████████████████████████████████████████████████████████████████████████| 21/21 [00:00<00:00, 1754.66it/s]\u001b[A\n",
      "\n",
      "100%|█████████████████████████████████████████████████████████████████████████████████| 21/21 [00:00<00:00, 309.65it/s]\u001b[A\n",
      " 48%|███████████████████████████████████████                                           | 10/21 [00:00<00:00, 43.93it/s]\n",
      "100%|████████████████████████████████████████████████████████████████████████████████| 21/21 [00:00<00:00, 1921.10it/s]\u001b[A\n",
      "\n",
      "100%|████████████████████████████████████████████████████████████████████████████████| 21/21 [00:00<00:00, 1914.79it/s]\u001b[A\n",
      "\n",
      "100%|████████████████████████████████████████████████████████████████████████████████| 21/21 [00:00<00:00, 1754.41it/s]\u001b[A\n",
      "\n",
      "100%|████████████████████████████████████████████████████████████████████████████████| 21/21 [00:00<00:00, 1400.37it/s]\u001b[A\n",
      "\n",
      "100%|█████████████████████████████████████████████████████████████████████████████████| 21/21 [00:00<00:00, 239.21it/s]\u001b[A\n",
      " 71%|██████████████████████████████████████████████████████████▌                       | 15/21 [00:00<00:00, 39.95it/s]\n",
      "100%|████████████████████████████████████████████████████████████████████████████████| 21/21 [00:00<00:00, 1619.48it/s]\u001b[A\n",
      "\n",
      "100%|████████████████████████████████████████████████████████████████████████████████| 21/21 [00:00<00:00, 1754.69it/s]\u001b[A\n",
      "\n",
      "100%|████████████████████████████████████████████████████████████████████████████████| 21/21 [00:00<00:00, 1754.73it/s]\u001b[A\n",
      "\n",
      "100%|████████████████████████████████████████████████████████████████████████████████| 21/21 [00:00<00:00, 1749.36it/s]\u001b[A\n",
      "\n",
      "  0%|                                                                                           | 0/21 [00:00<?, ?it/s]\u001b[A\n",
      "100%|█████████████████████████████████████████████████████████████████████████████████| 21/21 [00:00<00:00, 191.42it/s]\u001b[A\n",
      " 95%|██████████████████████████████████████████████████████████████████████████████    | 20/21 [00:00<00:00, 36.03it/s]\n",
      "100%|████████████████████████████████████████████████████████████████████████████████| 21/21 [00:00<00:00, 1754.69it/s]\u001b[A\n",
      "100%|██████████████████████████████████████████████████████████████████████████████████| 21/21 [00:00<00:00, 36.68it/s]\n"
     ]
    }
   ],
   "source": [
    "# 基本交叉特征\n",
    "for f1 in tqdm(numerical_features + group_feats):\n",
    "    for f2 in tqdm(numerical_features + group_feats):\n",
    "        if f1 != f2:\n",
    "            colname = '{}_{}_ratio'.format(f1, f2)\n",
    "            data[colname] = data[f1].values / data[f2].values"
   ]
  },
  {
   "cell_type": "code",
   "execution_count": 12,
   "metadata": {
    "ExecuteTime": {
     "end_time": "2020-07-30T09:33:31.387158Z",
     "start_time": "2020-07-30T09:33:31.255156Z"
    }
   },
   "outputs": [],
   "source": [
    "data.fillna(method='bfill', inplace=True)"
   ]
  },
  {
   "cell_type": "code",
   "execution_count": 13,
   "metadata": {
    "ExecuteTime": {
     "end_time": "2020-07-30T09:33:44.175961Z",
     "start_time": "2020-07-30T09:33:31.388158Z"
    }
   },
   "outputs": [
    {
     "name": "stderr",
     "output_type": "stream",
     "text": [
      "100%|██████████████████████████████████████████████████████████████████████████████████| 30/30 [00:01<00:00, 22.61it/s]\n",
      "100%|██████████████████████████████████████████████████████████████████████████████████| 30/30 [00:01<00:00, 21.11it/s]\n",
      "100%|██████████████████████████████████████████████████████████████████████████████████| 30/30 [00:01<00:00, 21.16it/s]\n",
      "100%|██████████████████████████████████████████████████████████████████████████████████| 30/30 [00:01<00:00, 21.19it/s]\n",
      "100%|██████████████████████████████████████████████████████████████████████████████████| 30/30 [00:01<00:00, 21.08it/s]\n",
      "100%|██████████████████████████████████████████████████████████████████████████████████| 30/30 [00:01<00:00, 21.05it/s]\n",
      "100%|██████████████████████████████████████████████████████████████████████████████████| 30/30 [00:01<00:00, 20.94it/s]\n",
      "100%|██████████████████████████████████████████████████████████████████████████████████| 30/30 [00:01<00:00, 20.92it/s]\n"
     ]
    }
   ],
   "source": [
    "# 历史信息提取\n",
    "# dt 14-44\n",
    "data['dt'] = data['day'].values + (data['month'].values - 3) * 31\n",
    "\n",
    "for f in ['outdoorTemp', 'outdoorHum', 'outdoorAtmo', 'indoorHum', 'indoorAtmo', 'indoorAtmo-outdoorAtmo', 'indoorHum-outdoorHum', 'temperature']:\n",
    "    tmp_df = pd.DataFrame()\n",
    "    for t in tqdm(range(15, 45)):\n",
    "        tmp = data[data['dt'] < t].groupby(['hour'])[f].agg({'mean'}).reset_index()\n",
    "        tmp.columns = ['hour', 'hit_{}_mean'.format(f)]\n",
    "        tmp['dt'] = t\n",
    "        tmp_df = tmp_df.append(tmp)\n",
    "\n",
    "    data = data.merge(tmp_df, on=['dt', 'hour'], how='left')\n",
    "    del tmp, tmp_df\n",
    "    gc.collect()"
   ]
  },
  {
   "cell_type": "code",
   "execution_count": 14,
   "metadata": {
    "ExecuteTime": {
     "end_time": "2020-07-30T09:33:44.312099Z",
     "start_time": "2020-07-30T09:33:44.177014Z"
    }
   },
   "outputs": [],
   "source": [
    "data.fillna(method='bfill', inplace=True)"
   ]
  },
  {
   "cell_type": "code",
   "execution_count": 15,
   "metadata": {
    "ExecuteTime": {
     "end_time": "2020-07-30T09:33:44.456075Z",
     "start_time": "2020-07-30T09:33:44.313100Z"
    }
   },
   "outputs": [],
   "source": [
    "# 离散化\n",
    "for f in numerical_features:\n",
    "    data[f + '_20_bin'] = pd.cut(data[f], 20, duplicates='drop').apply(lambda x: x.left).astype(int)\n",
    "    data[f + '_50_bin'] = pd.cut(data[f], 50, duplicates='drop').apply(lambda x: x.left).astype(int)\n",
    "    data[f + '_100_bin'] = pd.cut(data[f], 100, duplicates='drop').apply(lambda x: x.left).astype(int)\n",
    "    data[f + '_200_bin'] = pd.cut(data[f], 200, duplicates='drop').apply(lambda x: x.left).astype(int)"
   ]
  },
  {
   "cell_type": "code",
   "execution_count": 16,
   "metadata": {
    "ExecuteTime": {
     "end_time": "2020-07-30T09:34:32.393008Z",
     "start_time": "2020-07-30T09:33:44.457713Z"
    }
   },
   "outputs": [
    {
     "name": "stderr",
     "output_type": "stream",
     "text": [
      "100%|████████████████████████████████████████████████████████████████████████████████████| 7/7 [00:47<00:00,  6.85s/it]\n"
     ]
    }
   ],
   "source": [
    "for f1 in tqdm(['{}_20_bin'.format(i) for i in numerical_features]):\n",
    "    for f2 in numerical_features:\n",
    "        data['{}_{}_median'.format(f1, f2)] = data.groupby([f1])[f2].transform('median')\n",
    "        data['{}_{}_mean'.format(f1, f2)] = data.groupby([f1])[f2].transform('mean')\n",
    "        data['{}_{}_max'.format(f1, f2)] = data.groupby([f1])[f2].transform('max')\n",
    "        data['{}_{}_min'.format(f1, f2)] = data.groupby([f1])[f2].transform('min')\n",
    "        data['{}_{}_std'.format(f1, f2)] = data.groupby([f1])[f2].transform('std')\n",
    "        data['{}_{}_sum'.format(f1, f2)] = data.groupby([f1])[f2].transform('sum')\n",
    "        data['{}_{}_skew'.format(f1, f2)] = data.groupby([f1])[f2].transform('skew')"
   ]
  },
  {
   "cell_type": "code",
   "execution_count": 17,
   "metadata": {
    "ExecuteTime": {
     "end_time": "2020-07-30T09:35:45.671065Z",
     "start_time": "2020-07-30T09:34:32.393980Z"
    }
   },
   "outputs": [
    {
     "name": "stderr",
     "output_type": "stream",
     "text": [
      "100%|████████████████████████████████████████████████████████████████████████████████████| 7/7 [01:13<00:00, 10.47s/it]\n"
     ]
    }
   ],
   "source": [
    "for f1 in tqdm(['{}_50_bin'.format(i) for i in numerical_features]):\n",
    "    for f2 in numerical_features:\n",
    "        data['{}_{}_median'.format(f1, f2)] = data.groupby([f1])[f2].transform('median')\n",
    "        data['{}_{}_mean'.format(f1, f2)] = data.groupby([f1])[f2].transform('mean')\n",
    "        data['{}_{}_max'.format(f1, f2)] = data.groupby([f1])[f2].transform('max')\n",
    "        data['{}_{}_min'.format(f1, f2)] = data.groupby([f1])[f2].transform('min')\n",
    "        data['{}_{}_std'.format(f1, f2)] = data.groupby([f1])[f2].transform('std')\n",
    "        data['{}_{}_sum'.format(f1, f2)] = data.groupby([f1])[f2].transform('sum')\n",
    "        data['{}_{}_skew'.format(f1, f2)] = data.groupby([f1])[f2].transform('skew')"
   ]
  },
  {
   "cell_type": "code",
   "execution_count": 18,
   "metadata": {
    "ExecuteTime": {
     "end_time": "2020-07-30T09:37:23.862538Z",
     "start_time": "2020-07-30T09:35:45.672063Z"
    }
   },
   "outputs": [
    {
     "name": "stderr",
     "output_type": "stream",
     "text": [
      "100%|████████████████████████████████████████████████████████████████████████████████████| 7/7 [01:38<00:00, 14.03s/it]\n"
     ]
    }
   ],
   "source": [
    "for f1 in tqdm(['{}_100_bin'.format(i) for i in numerical_features]):\n",
    "    for f2 in numerical_features:\n",
    "        data['{}_{}_median'.format(f1, f2)] = data.groupby([f1])[f2].transform('median')\n",
    "        data['{}_{}_mean'.format(f1, f2)] = data.groupby([f1])[f2].transform('mean')\n",
    "        data['{}_{}_max'.format(f1, f2)] = data.groupby([f1])[f2].transform('max')\n",
    "        data['{}_{}_min'.format(f1, f2)] = data.groupby([f1])[f2].transform('min')\n",
    "        data['{}_{}_std'.format(f1, f2)] = data.groupby([f1])[f2].transform('std')\n",
    "        data['{}_{}_sum'.format(f1, f2)] = data.groupby([f1])[f2].transform('sum')\n",
    "        data['{}_{}_skew'.format(f1, f2)] = data.groupby([f1])[f2].transform('skew')"
   ]
  },
  {
   "cell_type": "code",
   "execution_count": 19,
   "metadata": {
    "ExecuteTime": {
     "end_time": "2020-07-30T09:39:26.727707Z",
     "start_time": "2020-07-30T09:37:23.863519Z"
    }
   },
   "outputs": [
    {
     "name": "stderr",
     "output_type": "stream",
     "text": [
      "100%|████████████████████████████████████████████████████████████████████████████████████| 7/7 [02:02<00:00, 17.55s/it]\n"
     ]
    }
   ],
   "source": [
    "for f1 in tqdm(['{}_200_bin'.format(i) for i in numerical_features]):\n",
    "    for f2 in numerical_features:\n",
    "        data['{}_{}_median'.format(f1, f2)] = data.groupby([f1])[f2].transform('median')\n",
    "        data['{}_{}_mean'.format(f1, f2)] = data.groupby([f1])[f2].transform('mean')\n",
    "        data['{}_{}_max'.format(f1, f2)] = data.groupby([f1])[f2].transform('max')\n",
    "        data['{}_{}_min'.format(f1, f2)] = data.groupby([f1])[f2].transform('min')\n",
    "        data['{}_{}_std'.format(f1, f2)] = data.groupby([f1])[f2].transform('std')\n",
    "        data['{}_{}_sum'.format(f1, f2)] = data.groupby([f1])[f2].transform('sum')\n",
    "        data['{}_{}_skew'.format(f1, f2)] = data.groupby([f1])[f2].transform('skew')"
   ]
  },
  {
   "cell_type": "code",
   "execution_count": 20,
   "metadata": {
    "ExecuteTime": {
     "end_time": "2020-07-30T09:39:27.552845Z",
     "start_time": "2020-07-30T09:39:26.728678Z"
    }
   },
   "outputs": [
    {
     "data": {
      "text/plain": [
       "49"
      ]
     },
     "execution_count": 20,
     "metadata": {},
     "output_type": "execute_result"
    }
   ],
   "source": [
    "drop_columns = ['time', 'year', 'sec', 'temperature']\n",
    "\n",
    "train_count = train.shape[0]\n",
    "train = data[:train_count].copy().reset_index(drop=True)\n",
    "test = data[train_count:].copy().reset_index(drop=True)\n",
    "del data\n",
    "gc.collect()"
   ]
  },
  {
   "cell_type": "code",
   "execution_count": 21,
   "metadata": {
    "ExecuteTime": {
     "end_time": "2020-07-30T09:39:27.735035Z",
     "start_time": "2020-07-30T09:39:27.553805Z"
    }
   },
   "outputs": [],
   "source": [
    "features = train[:1].drop(drop_columns, axis=1).columns\n",
    "x_train = train[features]\n",
    "x_test = test[features]\n",
    "\n",
    "y_train = train['temperature'].values - train['outdoorTemp'].values"
   ]
  },
  {
   "cell_type": "code",
   "execution_count": 22,
   "metadata": {
    "ExecuteTime": {
     "end_time": "2020-07-30T09:40:12.602019Z",
     "start_time": "2020-07-30T09:39:27.739031Z"
    }
   },
   "outputs": [
    {
     "name": "stderr",
     "output_type": "stream",
     "text": [
      "  0%|▍                                                                                | 9/1889 [00:00<00:46, 40.80it/s]"
     ]
    },
    {
     "name": "stdout",
     "output_type": "stream",
     "text": [
      "month done\n",
      "day done\n",
      "hour done\n",
      "min done\n",
      "(-inf, 12.72]    4962\n",
      "(12.72, 15.0]    5155\n",
      "(15.0, 16.9]     4914\n",
      "(16.9, 19.7]     4922\n",
      "(19.7, inf]      4854\n",
      "Name: train, dtype: int64\n",
      "(-inf, 12.72]      0\n",
      "(12.72, 15.0]     53\n",
      "(15.0, 16.9]      64\n",
      "(16.9, 19.7]      64\n",
      "(19.7, inf]      225\n",
      "Name: test, dtype: int64\n",
      "outdoorTemp done\n",
      "outdoorHum done\n",
      "outdoorAtmo done\n",
      "indoorHum done\n",
      "indoorAtmo done\n"
     ]
    },
    {
     "name": "stderr",
     "output_type": "stream",
     "text": [
      "\r",
      "  1%|▌                                                                               | 14/1889 [00:00<00:45, 41.09it/s]"
     ]
    },
    {
     "name": "stdout",
     "output_type": "stream",
     "text": [
      "indoorAtmo-outdoorAtmo done\n",
      "indoorHum-outdoorHum done\n",
      "outdoorTemp_diff done\n",
      "outdoorHum_diff done\n",
      "outdoorAtmo_diff done\n",
      "indoorHum_diff done\n",
      "indoorAtmo_diff done\n",
      "indoorAtmo-outdoorAtmo_diff done\n",
      "indoorHum-outdoorHum_diff done\n"
     ]
    },
    {
     "name": "stderr",
     "output_type": "stream",
     "text": [
      "  1%|▉                                                                               | 23/1889 [00:00<00:45, 40.62it/s]"
     ]
    },
    {
     "name": "stdout",
     "output_type": "stream",
     "text": [
      "MDH_outdoorTemp_mean done\n",
      "MDH_outdoorTemp_median done\n",
      "MDH_outdoorTemp_max done\n",
      "MDH_outdoorTemp_min done\n",
      "MDH_outdoorTemp_std done\n",
      "MDH_outdoorTemp_skew done\n",
      "MDH_outdoorHum_mean done\n",
      "MDH_outdoorHum_median done\n"
     ]
    },
    {
     "name": "stderr",
     "output_type": "stream",
     "text": [
      "  2%|█▎                                                                              | 32/1889 [00:00<00:46, 40.20it/s]"
     ]
    },
    {
     "name": "stdout",
     "output_type": "stream",
     "text": [
      "MDH_outdoorHum_max done\n",
      "MDH_outdoorHum_min done\n",
      "MDH_outdoorHum_std done\n",
      "MDH_outdoorHum_skew done\n",
      "MDH_outdoorAtmo_mean done\n",
      "MDH_outdoorAtmo_median done\n",
      "MDH_outdoorAtmo_max done\n",
      "MDH_outdoorAtmo_min done\n",
      "MDH_outdoorAtmo_std done\n"
     ]
    },
    {
     "name": "stderr",
     "output_type": "stream",
     "text": [
      "  2%|█▊                                                                              | 44/1889 [00:01<00:46, 39.79it/s]"
     ]
    },
    {
     "name": "stdout",
     "output_type": "stream",
     "text": [
      "MDH_outdoorAtmo_skew done\n",
      "MDH_indoorHum_mean done\n",
      "MDH_indoorHum_median done\n",
      "MDH_indoorHum_max done\n",
      "MDH_indoorHum_min done\n",
      "MDH_indoorHum_std done\n",
      "MDH_indoorHum_skew done\n",
      "MDH_indoorAtmo_mean done\n",
      "MDH_indoorAtmo_median done\n"
     ]
    },
    {
     "name": "stderr",
     "output_type": "stream",
     "text": [
      "  3%|██▏                                                                             | 52/1889 [00:01<00:46, 39.55it/s]"
     ]
    },
    {
     "name": "stdout",
     "output_type": "stream",
     "text": [
      "MDH_indoorAtmo_max done\n",
      "MDH_indoorAtmo_min done\n",
      "MDH_indoorAtmo_std done\n",
      "MDH_indoorAtmo_skew done\n",
      "MDH_indoorAtmo-outdoorAtmo_mean done\n",
      "MDH_indoorAtmo-outdoorAtmo_median done\n",
      "MDH_indoorAtmo-outdoorAtmo_max done\n",
      "MDH_indoorAtmo-outdoorAtmo_min done\n"
     ]
    },
    {
     "name": "stderr",
     "output_type": "stream",
     "text": [
      "\r",
      "  3%|██▎                                                                             | 56/1889 [00:01<00:46, 39.42it/s]"
     ]
    },
    {
     "name": "stdout",
     "output_type": "stream",
     "text": [
      "MDH_indoorAtmo-outdoorAtmo_std done\n",
      "MDH_indoorAtmo-outdoorAtmo_skew done\n",
      "MDH_indoorHum-outdoorHum_mean done\n",
      "MDH_indoorHum-outdoorHum_median done\n",
      "MDH_indoorHum-outdoorHum_max done\n",
      "MDH_indoorHum-outdoorHum_min done\n",
      "MDH_indoorHum-outdoorHum_std done\n",
      "MDH_indoorHum-outdoorHum_skew done\n"
     ]
    },
    {
     "name": "stderr",
     "output_type": "stream",
     "text": [
      "  3%|██▊                                                                             | 65/1889 [00:01<00:46, 39.49it/s]"
     ]
    },
    {
     "name": "stdout",
     "output_type": "stream",
     "text": [
      "outdoorTemp_outdoorHum_ratio done\n",
      "outdoorTemp_outdoorAtmo_ratio done\n",
      "outdoorTemp_indoorHum_ratio done\n",
      "outdoorTemp_indoorAtmo_ratio done\n",
      "outdoorTemp_indoorAtmo-outdoorAtmo_ratio done\n",
      "outdoorTemp_indoorHum-outdoorHum_ratio done\n",
      "outdoorTemp_MDH_outdoorTemp_mean_ratio done\n",
      "outdoorTemp_MDH_outdoorTemp_median_ratio done\n"
     ]
    },
    {
     "name": "stderr",
     "output_type": "stream",
     "text": [
      "  4%|███                                                                             | 73/1889 [00:01<00:46, 39.06it/s]"
     ]
    },
    {
     "name": "stdout",
     "output_type": "stream",
     "text": [
      "outdoorTemp_MDH_outdoorHum_mean_ratio done\n",
      "outdoorTemp_MDH_outdoorHum_median_ratio done\n",
      "outdoorTemp_MDH_outdoorAtmo_mean_ratio done\n",
      "outdoorTemp_MDH_outdoorAtmo_median_ratio done\n",
      "outdoorTemp_MDH_indoorHum_mean_ratio done\n",
      "outdoorTemp_MDH_indoorHum_median_ratio done\n",
      "outdoorTemp_MDH_indoorAtmo_mean_ratio done\n",
      "outdoorTemp_MDH_indoorAtmo_median_ratio done\n"
     ]
    },
    {
     "name": "stderr",
     "output_type": "stream",
     "text": [
      "  5%|███▋                                                                            | 86/1889 [00:02<00:43, 41.11it/s]"
     ]
    },
    {
     "name": "stdout",
     "output_type": "stream",
     "text": [
      "outdoorTemp_MDH_indoorAtmo-outdoorAtmo_mean_ratio done\n",
      "outdoorTemp_MDH_indoorAtmo-outdoorAtmo_median_ratio done\n",
      "outdoorTemp_MDH_indoorHum-outdoorHum_mean_ratio done\n",
      "outdoorTemp_MDH_indoorHum-outdoorHum_median_ratio done\n",
      "outdoorHum_outdoorTemp_ratio done\n",
      "outdoorHum_outdoorAtmo_ratio done\n",
      "outdoorHum_indoorHum_ratio done\n",
      "outdoorHum_indoorAtmo_ratio done\n",
      "outdoorHum_indoorAtmo-outdoorAtmo_ratio error\n",
      "outdoorHum_indoorHum-outdoorHum_ratio done\n"
     ]
    },
    {
     "name": "stderr",
     "output_type": "stream",
     "text": [
      "\r",
      "  5%|███▊                                                                            | 91/1889 [00:02<00:44, 40.41it/s]"
     ]
    },
    {
     "name": "stdout",
     "output_type": "stream",
     "text": [
      "outdoorHum_MDH_outdoorTemp_mean_ratio done\n",
      "outdoorHum_MDH_outdoorTemp_median_ratio done\n",
      "outdoorHum_MDH_outdoorHum_mean_ratio done\n",
      "outdoorHum_MDH_outdoorHum_median_ratio done\n",
      "outdoorHum_MDH_outdoorAtmo_mean_ratio done\n",
      "outdoorHum_MDH_outdoorAtmo_median_ratio done\n",
      "outdoorHum_MDH_indoorHum_mean_ratio done\n",
      "outdoorHum_MDH_indoorHum_median_ratio done\n",
      "outdoorHum_MDH_indoorAtmo_mean_ratio done\n"
     ]
    },
    {
     "name": "stderr",
     "output_type": "stream",
     "text": [
      "  5%|████▏                                                                          | 101/1889 [00:02<00:43, 40.92it/s]"
     ]
    },
    {
     "name": "stdout",
     "output_type": "stream",
     "text": [
      "outdoorHum_MDH_indoorAtmo_median_ratio done\n",
      "outdoorHum_MDH_indoorAtmo-outdoorAtmo_mean_ratio done\n",
      "outdoorHum_MDH_indoorAtmo-outdoorAtmo_median_ratio done\n",
      "outdoorHum_MDH_indoorHum-outdoorHum_mean_ratio done\n",
      "outdoorHum_MDH_indoorHum-outdoorHum_median_ratio done\n",
      "outdoorAtmo_outdoorTemp_ratio done\n",
      "outdoorAtmo_outdoorHum_ratio done\n",
      "outdoorAtmo_indoorHum_ratio done\n",
      "outdoorAtmo_indoorAtmo_ratio done\n"
     ]
    },
    {
     "name": "stderr",
     "output_type": "stream",
     "text": [
      "  6%|████▋                                                                          | 111/1889 [00:02<00:43, 40.73it/s]"
     ]
    },
    {
     "name": "stdout",
     "output_type": "stream",
     "text": [
      "outdoorAtmo_indoorAtmo-outdoorAtmo_ratio done\n",
      "outdoorAtmo_indoorHum-outdoorHum_ratio done\n",
      "outdoorAtmo_MDH_outdoorTemp_mean_ratio done\n",
      "outdoorAtmo_MDH_outdoorTemp_median_ratio done\n",
      "outdoorAtmo_MDH_outdoorHum_mean_ratio done\n",
      "outdoorAtmo_MDH_outdoorHum_median_ratio done\n",
      "outdoorAtmo_MDH_outdoorAtmo_mean_ratio done\n",
      "outdoorAtmo_MDH_outdoorAtmo_median_ratio done\n",
      "outdoorAtmo_MDH_indoorHum_mean_ratio done\n"
     ]
    },
    {
     "name": "stderr",
     "output_type": "stream",
     "text": [
      "  6%|█████                                                                          | 121/1889 [00:02<00:41, 42.49it/s]"
     ]
    },
    {
     "name": "stdout",
     "output_type": "stream",
     "text": [
      "outdoorAtmo_MDH_indoorHum_median_ratio done\n",
      "outdoorAtmo_MDH_indoorAtmo_mean_ratio done\n",
      "outdoorAtmo_MDH_indoorAtmo_median_ratio done\n",
      "outdoorAtmo_MDH_indoorAtmo-outdoorAtmo_mean_ratio done\n",
      "outdoorAtmo_MDH_indoorAtmo-outdoorAtmo_median_ratio error\n",
      "outdoorAtmo_MDH_indoorHum-outdoorHum_mean_ratio done\n",
      "outdoorAtmo_MDH_indoorHum-outdoorHum_median_ratio done\n",
      "indoorHum_outdoorTemp_ratio done\n",
      "indoorHum_outdoorHum_ratio done\n"
     ]
    },
    {
     "name": "stderr",
     "output_type": "stream",
     "text": [
      "\r",
      "  7%|█████▎                                                                         | 126/1889 [00:03<00:42, 41.53it/s]"
     ]
    },
    {
     "name": "stdout",
     "output_type": "stream",
     "text": [
      "indoorHum_outdoorAtmo_ratio done\n",
      "indoorHum_indoorAtmo_ratio done\n",
      "indoorHum_indoorAtmo-outdoorAtmo_ratio done\n",
      "indoorHum_indoorHum-outdoorHum_ratio done\n",
      "indoorHum_MDH_outdoorTemp_mean_ratio done\n",
      "indoorHum_MDH_outdoorTemp_median_ratio done\n",
      "indoorHum_MDH_outdoorHum_mean_ratio done\n",
      "indoorHum_MDH_outdoorHum_median_ratio done\n"
     ]
    },
    {
     "name": "stderr",
     "output_type": "stream",
     "text": [
      "  7%|█████▋                                                                         | 136/1889 [00:03<00:42, 40.85it/s]"
     ]
    },
    {
     "name": "stdout",
     "output_type": "stream",
     "text": [
      "indoorHum_MDH_outdoorAtmo_mean_ratio done\n",
      "indoorHum_MDH_outdoorAtmo_median_ratio done\n",
      "indoorHum_MDH_indoorHum_mean_ratio done\n",
      "indoorHum_MDH_indoorHum_median_ratio done\n",
      "indoorHum_MDH_indoorAtmo_mean_ratio done\n",
      "indoorHum_MDH_indoorAtmo_median_ratio done\n",
      "indoorHum_MDH_indoorAtmo-outdoorAtmo_mean_ratio done\n",
      "indoorHum_MDH_indoorAtmo-outdoorAtmo_median_ratio done\n"
     ]
    },
    {
     "name": "stderr",
     "output_type": "stream",
     "text": [
      "  8%|██████                                                                         | 146/1889 [00:03<00:42, 40.93it/s]"
     ]
    },
    {
     "name": "stdout",
     "output_type": "stream",
     "text": [
      "indoorHum_MDH_indoorHum-outdoorHum_mean_ratio done\n",
      "indoorHum_MDH_indoorHum-outdoorHum_median_ratio done\n",
      "indoorAtmo_outdoorTemp_ratio done\n",
      "indoorAtmo_outdoorHum_ratio done\n",
      "indoorAtmo_outdoorAtmo_ratio done\n",
      "indoorAtmo_indoorHum_ratio done\n",
      "indoorAtmo_indoorAtmo-outdoorAtmo_ratio done\n",
      "indoorAtmo_indoorHum-outdoorHum_ratio done\n",
      "indoorAtmo_MDH_outdoorTemp_mean_ratio done\n"
     ]
    },
    {
     "name": "stderr",
     "output_type": "stream",
     "text": [
      "  8%|██████▌                                                                        | 156/1889 [00:03<00:42, 40.76it/s]"
     ]
    },
    {
     "name": "stdout",
     "output_type": "stream",
     "text": [
      "indoorAtmo_MDH_outdoorTemp_median_ratio done\n",
      "indoorAtmo_MDH_outdoorHum_mean_ratio done\n",
      "indoorAtmo_MDH_outdoorHum_median_ratio done\n",
      "indoorAtmo_MDH_outdoorAtmo_mean_ratio done\n",
      "indoorAtmo_MDH_outdoorAtmo_median_ratio done\n",
      "indoorAtmo_MDH_indoorHum_mean_ratio done\n",
      "indoorAtmo_MDH_indoorHum_median_ratio done\n",
      "indoorAtmo_MDH_indoorAtmo_mean_ratio done\n",
      "indoorAtmo_MDH_indoorAtmo_median_ratio done\n"
     ]
    },
    {
     "name": "stderr",
     "output_type": "stream",
     "text": [
      "\r",
      "  9%|██████▋                                                                        | 161/1889 [00:03<00:42, 40.75it/s]"
     ]
    },
    {
     "name": "stdout",
     "output_type": "stream",
     "text": [
      "indoorAtmo_MDH_indoorAtmo-outdoorAtmo_mean_ratio done\n",
      "indoorAtmo_MDH_indoorAtmo-outdoorAtmo_median_ratio done\n",
      "indoorAtmo_MDH_indoorHum-outdoorHum_mean_ratio done\n",
      "indoorAtmo_MDH_indoorHum-outdoorHum_median_ratio done\n",
      "indoorAtmo-outdoorAtmo_outdoorTemp_ratio done\n",
      "indoorAtmo-outdoorAtmo_outdoorHum_ratio done\n",
      "indoorAtmo-outdoorAtmo_outdoorAtmo_ratio done\n",
      "indoorAtmo-outdoorAtmo_indoorHum_ratio done\n",
      "indoorAtmo-outdoorAtmo_indoorAtmo_ratio done\n"
     ]
    },
    {
     "name": "stderr",
     "output_type": "stream",
     "text": [
      "  9%|███████▏                                                                       | 171/1889 [00:04<00:42, 40.25it/s]"
     ]
    },
    {
     "name": "stdout",
     "output_type": "stream",
     "text": [
      "indoorAtmo-outdoorAtmo_indoorHum-outdoorHum_ratio done\n",
      "indoorAtmo-outdoorAtmo_MDH_outdoorTemp_mean_ratio done\n",
      "indoorAtmo-outdoorAtmo_MDH_outdoorTemp_median_ratio done\n",
      "indoorAtmo-outdoorAtmo_MDH_outdoorHum_mean_ratio done\n",
      "indoorAtmo-outdoorAtmo_MDH_outdoorHum_median_ratio done\n",
      "indoorAtmo-outdoorAtmo_MDH_outdoorAtmo_mean_ratio done\n",
      "indoorAtmo-outdoorAtmo_MDH_outdoorAtmo_median_ratio done\n",
      "indoorAtmo-outdoorAtmo_MDH_indoorHum_mean_ratio done\n"
     ]
    },
    {
     "name": "stderr",
     "output_type": "stream",
     "text": [
      " 10%|███████▌                                                                       | 180/1889 [00:04<00:43, 39.44it/s]"
     ]
    },
    {
     "name": "stdout",
     "output_type": "stream",
     "text": [
      "indoorAtmo-outdoorAtmo_MDH_indoorHum_median_ratio done\n",
      "indoorAtmo-outdoorAtmo_MDH_indoorAtmo_mean_ratio done\n",
      "indoorAtmo-outdoorAtmo_MDH_indoorAtmo_median_ratio done\n",
      "indoorAtmo-outdoorAtmo_MDH_indoorAtmo-outdoorAtmo_mean_ratio done\n",
      "indoorAtmo-outdoorAtmo_MDH_indoorAtmo-outdoorAtmo_median_ratio done\n",
      "indoorAtmo-outdoorAtmo_MDH_indoorHum-outdoorHum_mean_ratio done\n",
      "indoorAtmo-outdoorAtmo_MDH_indoorHum-outdoorHum_median_ratio done\n",
      "indoorHum-outdoorHum_outdoorTemp_ratio done\n",
      "indoorHum-outdoorHum_outdoorHum_ratio done\n"
     ]
    },
    {
     "name": "stderr",
     "output_type": "stream",
     "text": [
      " 10%|███████▉                                                                       | 190/1889 [00:04<00:40, 41.73it/s]"
     ]
    },
    {
     "name": "stdout",
     "output_type": "stream",
     "text": [
      "indoorHum-outdoorHum_outdoorAtmo_ratio done\n",
      "indoorHum-outdoorHum_indoorHum_ratio done\n",
      "indoorHum-outdoorHum_indoorAtmo_ratio done\n",
      "indoorHum-outdoorHum_indoorAtmo-outdoorAtmo_ratio error\n",
      "indoorHum-outdoorHum_MDH_outdoorTemp_mean_ratio done\n",
      "indoorHum-outdoorHum_MDH_outdoorTemp_median_ratio done\n",
      "indoorHum-outdoorHum_MDH_outdoorHum_mean_ratio done\n",
      "indoorHum-outdoorHum_MDH_outdoorHum_median_ratio done\n",
      "indoorHum-outdoorHum_MDH_outdoorAtmo_mean_ratio done\n"
     ]
    },
    {
     "name": "stderr",
     "output_type": "stream",
     "text": [
      " 11%|████████▎                                                                      | 200/1889 [00:04<00:39, 42.72it/s]"
     ]
    },
    {
     "name": "stdout",
     "output_type": "stream",
     "text": [
      "indoorHum-outdoorHum_MDH_outdoorAtmo_median_ratio done\n",
      "indoorHum-outdoorHum_MDH_indoorHum_mean_ratio done\n",
      "indoorHum-outdoorHum_MDH_indoorHum_median_ratio done\n",
      "indoorHum-outdoorHum_MDH_indoorAtmo_mean_ratio done\n",
      "indoorHum-outdoorHum_MDH_indoorAtmo_median_ratio done\n",
      "indoorHum-outdoorHum_MDH_indoorAtmo-outdoorAtmo_mean_ratio done\n",
      "indoorHum-outdoorHum_MDH_indoorAtmo-outdoorAtmo_median_ratio error\n",
      "indoorHum-outdoorHum_MDH_indoorHum-outdoorHum_mean_ratio done\n",
      "indoorHum-outdoorHum_MDH_indoorHum-outdoorHum_median_ratio done\n"
     ]
    },
    {
     "name": "stderr",
     "output_type": "stream",
     "text": [
      " 11%|████████▊                                                                      | 210/1889 [00:05<00:38, 43.29it/s]"
     ]
    },
    {
     "name": "stdout",
     "output_type": "stream",
     "text": [
      "MDH_outdoorTemp_mean_outdoorTemp_ratio done\n",
      "MDH_outdoorTemp_mean_outdoorHum_ratio done\n",
      "MDH_outdoorTemp_mean_outdoorAtmo_ratio done\n",
      "MDH_outdoorTemp_mean_indoorHum_ratio done\n",
      "MDH_outdoorTemp_mean_indoorAtmo_ratio done\n",
      "MDH_outdoorTemp_mean_indoorAtmo-outdoorAtmo_ratio error\n",
      "MDH_outdoorTemp_mean_indoorHum-outdoorHum_ratio done\n",
      "MDH_outdoorTemp_mean_MDH_outdoorTemp_median_ratio done\n",
      "MDH_outdoorTemp_mean_MDH_outdoorHum_mean_ratio done\n",
      "MDH_outdoorTemp_mean_MDH_outdoorHum_median_ratio done\n"
     ]
    },
    {
     "name": "stderr",
     "output_type": "stream",
     "text": [
      "\r",
      " 11%|████████▉                                                                      | 215/1889 [00:05<00:39, 42.22it/s]"
     ]
    },
    {
     "name": "stdout",
     "output_type": "stream",
     "text": [
      "MDH_outdoorTemp_mean_MDH_outdoorAtmo_mean_ratio done\n",
      "MDH_outdoorTemp_mean_MDH_outdoorAtmo_median_ratio done\n",
      "MDH_outdoorTemp_mean_MDH_indoorHum_mean_ratio done\n",
      "MDH_outdoorTemp_mean_MDH_indoorHum_median_ratio done\n",
      "MDH_outdoorTemp_mean_MDH_indoorAtmo_mean_ratio done\n",
      "MDH_outdoorTemp_mean_MDH_indoorAtmo_median_ratio done\n",
      "MDH_outdoorTemp_mean_MDH_indoorAtmo-outdoorAtmo_mean_ratio done\n",
      "MDH_outdoorTemp_mean_MDH_indoorAtmo-outdoorAtmo_median_ratio done\n"
     ]
    },
    {
     "name": "stderr",
     "output_type": "stream",
     "text": [
      " 12%|█████████▍                                                                     | 225/1889 [00:05<00:40, 41.18it/s]"
     ]
    },
    {
     "name": "stdout",
     "output_type": "stream",
     "text": [
      "MDH_outdoorTemp_mean_MDH_indoorHum-outdoorHum_mean_ratio done\n",
      "MDH_outdoorTemp_mean_MDH_indoorHum-outdoorHum_median_ratio done\n",
      "MDH_outdoorTemp_median_outdoorTemp_ratio done\n",
      "MDH_outdoorTemp_median_outdoorHum_ratio done\n",
      "MDH_outdoorTemp_median_outdoorAtmo_ratio done\n",
      "MDH_outdoorTemp_median_indoorHum_ratio done\n",
      "MDH_outdoorTemp_median_indoorAtmo_ratio done\n",
      "MDH_outdoorTemp_median_indoorAtmo-outdoorAtmo_ratio done\n",
      "MDH_outdoorTemp_median_indoorHum-outdoorHum_ratio done\n"
     ]
    },
    {
     "name": "stderr",
     "output_type": "stream",
     "text": [
      " 12%|█████████▊                                                                     | 235/1889 [00:05<00:40, 40.53it/s]"
     ]
    },
    {
     "name": "stdout",
     "output_type": "stream",
     "text": [
      "MDH_outdoorTemp_median_MDH_outdoorTemp_mean_ratio done\n",
      "MDH_outdoorTemp_median_MDH_outdoorHum_mean_ratio done\n",
      "MDH_outdoorTemp_median_MDH_outdoorHum_median_ratio done\n",
      "MDH_outdoorTemp_median_MDH_outdoorAtmo_mean_ratio done\n",
      "MDH_outdoorTemp_median_MDH_outdoorAtmo_median_ratio done\n",
      "MDH_outdoorTemp_median_MDH_indoorHum_mean_ratio done\n",
      "MDH_outdoorTemp_median_MDH_indoorHum_median_ratio done\n",
      "MDH_outdoorTemp_median_MDH_indoorAtmo_mean_ratio done\n",
      "MDH_outdoorTemp_median_MDH_indoorAtmo_median_ratio done\n"
     ]
    },
    {
     "name": "stderr",
     "output_type": "stream",
     "text": [
      " 13%|██████████▏                                                                    | 245/1889 [00:06<00:40, 40.67it/s]"
     ]
    },
    {
     "name": "stdout",
     "output_type": "stream",
     "text": [
      "MDH_outdoorTemp_median_MDH_indoorAtmo-outdoorAtmo_mean_ratio done\n",
      "MDH_outdoorTemp_median_MDH_indoorAtmo-outdoorAtmo_median_ratio done\n",
      "MDH_outdoorTemp_median_MDH_indoorHum-outdoorHum_mean_ratio done\n",
      "MDH_outdoorTemp_median_MDH_indoorHum-outdoorHum_median_ratio done\n",
      "MDH_outdoorHum_mean_outdoorTemp_ratio done\n",
      "MDH_outdoorHum_mean_outdoorHum_ratio done\n",
      "MDH_outdoorHum_mean_outdoorAtmo_ratio done\n",
      "MDH_outdoorHum_mean_indoorHum_ratio done\n",
      "MDH_outdoorHum_mean_indoorAtmo_ratio done\n"
     ]
    },
    {
     "name": "stderr",
     "output_type": "stream",
     "text": [
      "\r",
      " 13%|██████████▍                                                                    | 250/1889 [00:06<00:40, 40.11it/s]"
     ]
    },
    {
     "name": "stdout",
     "output_type": "stream",
     "text": [
      "MDH_outdoorHum_mean_indoorAtmo-outdoorAtmo_ratio done\n",
      "MDH_outdoorHum_mean_indoorHum-outdoorHum_ratio done\n",
      "MDH_outdoorHum_mean_MDH_outdoorTemp_mean_ratio done\n",
      "MDH_outdoorHum_mean_MDH_outdoorTemp_median_ratio done\n",
      "MDH_outdoorHum_mean_MDH_outdoorHum_median_ratio done\n",
      "MDH_outdoorHum_mean_MDH_outdoorAtmo_mean_ratio done\n",
      "MDH_outdoorHum_mean_MDH_outdoorAtmo_median_ratio done\n",
      "MDH_outdoorHum_mean_MDH_indoorHum_mean_ratio done\n"
     ]
    },
    {
     "name": "stderr",
     "output_type": "stream",
     "text": [
      " 14%|██████████▊                                                                    | 260/1889 [00:06<00:38, 42.12it/s]"
     ]
    },
    {
     "name": "stdout",
     "output_type": "stream",
     "text": [
      "MDH_outdoorHum_mean_MDH_indoorHum_median_ratio done\n",
      "MDH_outdoorHum_mean_MDH_indoorAtmo_mean_ratio done\n",
      "MDH_outdoorHum_mean_MDH_indoorAtmo_median_ratio done\n",
      "MDH_outdoorHum_mean_MDH_indoorAtmo-outdoorAtmo_mean_ratio done\n",
      "MDH_outdoorHum_mean_MDH_indoorAtmo-outdoorAtmo_median_ratio error\n",
      "MDH_outdoorHum_mean_MDH_indoorHum-outdoorHum_mean_ratio done\n",
      "MDH_outdoorHum_mean_MDH_indoorHum-outdoorHum_median_ratio done\n",
      "MDH_outdoorHum_median_outdoorTemp_ratio done\n",
      "MDH_outdoorHum_median_outdoorHum_ratio done\n"
     ]
    },
    {
     "name": "stderr",
     "output_type": "stream",
     "text": [
      " 14%|███████████▎                                                                   | 270/1889 [00:06<00:38, 41.51it/s]"
     ]
    },
    {
     "name": "stdout",
     "output_type": "stream",
     "text": [
      "MDH_outdoorHum_median_outdoorAtmo_ratio done\n",
      "MDH_outdoorHum_median_indoorHum_ratio done\n",
      "MDH_outdoorHum_median_indoorAtmo_ratio done\n",
      "MDH_outdoorHum_median_indoorAtmo-outdoorAtmo_ratio done\n",
      "MDH_outdoorHum_median_indoorHum-outdoorHum_ratio done\n",
      "MDH_outdoorHum_median_MDH_outdoorTemp_mean_ratio done\n",
      "MDH_outdoorHum_median_MDH_outdoorTemp_median_ratio done\n",
      "MDH_outdoorHum_median_MDH_outdoorHum_mean_ratio done\n",
      "MDH_outdoorHum_median_MDH_outdoorAtmo_mean_ratio done\n"
     ]
    },
    {
     "name": "stderr",
     "output_type": "stream",
     "text": [
      " 15%|███████████▋                                                                   | 280/1889 [00:06<00:39, 41.16it/s]"
     ]
    },
    {
     "name": "stdout",
     "output_type": "stream",
     "text": [
      "MDH_outdoorHum_median_MDH_outdoorAtmo_median_ratio done\n",
      "MDH_outdoorHum_median_MDH_indoorHum_mean_ratio done\n",
      "MDH_outdoorHum_median_MDH_indoorHum_median_ratio done\n",
      "MDH_outdoorHum_median_MDH_indoorAtmo_mean_ratio done\n",
      "MDH_outdoorHum_median_MDH_indoorAtmo_median_ratio done\n",
      "MDH_outdoorHum_median_MDH_indoorAtmo-outdoorAtmo_mean_ratio done\n",
      "MDH_outdoorHum_median_MDH_indoorAtmo-outdoorAtmo_median_ratio done\n",
      "MDH_outdoorHum_median_MDH_indoorHum-outdoorHum_mean_ratio done\n",
      "MDH_outdoorHum_median_MDH_indoorHum-outdoorHum_median_ratio done\n"
     ]
    },
    {
     "name": "stderr",
     "output_type": "stream",
     "text": [
      "\r",
      " 15%|███████████▉                                                                   | 285/1889 [00:06<00:38, 41.31it/s]"
     ]
    },
    {
     "name": "stdout",
     "output_type": "stream",
     "text": [
      "MDH_outdoorAtmo_mean_outdoorTemp_ratio done\n",
      "MDH_outdoorAtmo_mean_outdoorHum_ratio done\n",
      "MDH_outdoorAtmo_mean_outdoorAtmo_ratio done\n",
      "MDH_outdoorAtmo_mean_indoorHum_ratio done\n",
      "MDH_outdoorAtmo_mean_indoorAtmo_ratio done\n",
      "MDH_outdoorAtmo_mean_indoorAtmo-outdoorAtmo_ratio done\n",
      "MDH_outdoorAtmo_mean_indoorHum-outdoorHum_ratio error\n",
      "MDH_outdoorAtmo_mean_MDH_outdoorTemp_mean_ratio done\n",
      "MDH_outdoorAtmo_mean_MDH_outdoorTemp_median_ratio done\n",
      "MDH_outdoorAtmo_mean_MDH_outdoorHum_mean_ratio done\n"
     ]
    },
    {
     "name": "stderr",
     "output_type": "stream",
     "text": [
      " 16%|████████████▍                                                                  | 296/1889 [00:07<00:37, 42.61it/s]"
     ]
    },
    {
     "name": "stdout",
     "output_type": "stream",
     "text": [
      "MDH_outdoorAtmo_mean_MDH_outdoorHum_median_ratio done\n",
      "MDH_outdoorAtmo_mean_MDH_outdoorAtmo_median_ratio done\n",
      "MDH_outdoorAtmo_mean_MDH_indoorHum_mean_ratio done\n",
      "MDH_outdoorAtmo_mean_MDH_indoorHum_median_ratio done\n",
      "MDH_outdoorAtmo_mean_MDH_indoorAtmo_mean_ratio done\n",
      "MDH_outdoorAtmo_mean_MDH_indoorAtmo_median_ratio done\n",
      "MDH_outdoorAtmo_mean_MDH_indoorAtmo-outdoorAtmo_mean_ratio done\n",
      "MDH_outdoorAtmo_mean_MDH_indoorAtmo-outdoorAtmo_median_ratio done\n",
      "MDH_outdoorAtmo_mean_MDH_indoorHum-outdoorHum_mean_ratio done\n"
     ]
    },
    {
     "name": "stderr",
     "output_type": "stream",
     "text": [
      " 16%|████████████▊                                                                  | 306/1889 [00:07<00:37, 41.73it/s]"
     ]
    },
    {
     "name": "stdout",
     "output_type": "stream",
     "text": [
      "MDH_outdoorAtmo_mean_MDH_indoorHum-outdoorHum_median_ratio done\n",
      "MDH_outdoorAtmo_median_outdoorTemp_ratio done\n",
      "MDH_outdoorAtmo_median_outdoorHum_ratio done\n",
      "MDH_outdoorAtmo_median_outdoorAtmo_ratio done\n",
      "MDH_outdoorAtmo_median_indoorHum_ratio done\n",
      "MDH_outdoorAtmo_median_indoorAtmo_ratio done\n",
      "MDH_outdoorAtmo_median_indoorAtmo-outdoorAtmo_ratio done\n",
      "MDH_outdoorAtmo_median_indoorHum-outdoorHum_ratio done\n",
      "MDH_outdoorAtmo_median_MDH_outdoorTemp_mean_ratio done\n"
     ]
    },
    {
     "name": "stderr",
     "output_type": "stream",
     "text": [
      " 17%|█████████████▏                                                                 | 316/1889 [00:07<00:37, 41.80it/s]"
     ]
    },
    {
     "name": "stdout",
     "output_type": "stream",
     "text": [
      "MDH_outdoorAtmo_median_MDH_outdoorTemp_median_ratio done\n",
      "MDH_outdoorAtmo_median_MDH_outdoorHum_mean_ratio done\n",
      "MDH_outdoorAtmo_median_MDH_outdoorHum_median_ratio done\n",
      "MDH_outdoorAtmo_median_MDH_outdoorAtmo_mean_ratio done\n",
      "MDH_outdoorAtmo_median_MDH_indoorHum_mean_ratio done\n",
      "MDH_outdoorAtmo_median_MDH_indoorHum_median_ratio done\n",
      "MDH_outdoorAtmo_median_MDH_indoorAtmo_mean_ratio done\n",
      "MDH_outdoorAtmo_median_MDH_indoorAtmo_median_ratio done\n",
      "MDH_outdoorAtmo_median_MDH_indoorAtmo-outdoorAtmo_mean_ratio done\n"
     ]
    },
    {
     "name": "stderr",
     "output_type": "stream",
     "text": [
      " 17%|█████████████▋                                                                 | 326/1889 [00:07<00:36, 42.38it/s]"
     ]
    },
    {
     "name": "stdout",
     "output_type": "stream",
     "text": [
      "MDH_outdoorAtmo_median_MDH_indoorAtmo-outdoorAtmo_median_ratio error\n",
      "MDH_outdoorAtmo_median_MDH_indoorHum-outdoorHum_mean_ratio done\n",
      "MDH_outdoorAtmo_median_MDH_indoorHum-outdoorHum_median_ratio done\n",
      "MDH_indoorHum_mean_outdoorTemp_ratio done\n",
      "MDH_indoorHum_mean_outdoorHum_ratio done\n",
      "MDH_indoorHum_mean_outdoorAtmo_ratio done\n",
      "MDH_indoorHum_mean_indoorHum_ratio done\n",
      "MDH_indoorHum_mean_indoorAtmo_ratio done\n",
      "MDH_indoorHum_mean_indoorAtmo-outdoorAtmo_ratio done\n"
     ]
    },
    {
     "name": "stderr",
     "output_type": "stream",
     "text": [
      "\r",
      " 18%|█████████████▊                                                                 | 331/1889 [00:08<00:37, 41.70it/s]"
     ]
    },
    {
     "name": "stdout",
     "output_type": "stream",
     "text": [
      "MDH_indoorHum_mean_indoorHum-outdoorHum_ratio done\n",
      "MDH_indoorHum_mean_MDH_outdoorTemp_mean_ratio done\n",
      "MDH_indoorHum_mean_MDH_outdoorTemp_median_ratio done\n",
      "MDH_indoorHum_mean_MDH_outdoorHum_mean_ratio done\n",
      "MDH_indoorHum_mean_MDH_outdoorHum_median_ratio done\n",
      "MDH_indoorHum_mean_MDH_outdoorAtmo_mean_ratio done\n",
      "MDH_indoorHum_mean_MDH_outdoorAtmo_median_ratio done\n",
      "MDH_indoorHum_mean_MDH_indoorHum_median_ratio done\n",
      "MDH_indoorHum_mean_MDH_indoorAtmo_mean_ratio done\n"
     ]
    },
    {
     "name": "stderr",
     "output_type": "stream",
     "text": [
      " 18%|██████████████▎                                                                | 341/1889 [00:08<00:37, 41.18it/s]"
     ]
    },
    {
     "name": "stdout",
     "output_type": "stream",
     "text": [
      "MDH_indoorHum_mean_MDH_indoorAtmo_median_ratio done\n",
      "MDH_indoorHum_mean_MDH_indoorAtmo-outdoorAtmo_mean_ratio done\n",
      "MDH_indoorHum_mean_MDH_indoorAtmo-outdoorAtmo_median_ratio done\n",
      "MDH_indoorHum_mean_MDH_indoorHum-outdoorHum_mean_ratio done\n",
      "MDH_indoorHum_mean_MDH_indoorHum-outdoorHum_median_ratio done\n",
      "MDH_indoorHum_median_outdoorTemp_ratio done\n",
      "MDH_indoorHum_median_outdoorHum_ratio done\n",
      "MDH_indoorHum_median_outdoorAtmo_ratio done\n",
      "MDH_indoorHum_median_indoorHum_ratio done\n"
     ]
    },
    {
     "name": "stderr",
     "output_type": "stream",
     "text": [
      " 19%|██████████████▋                                                                | 351/1889 [00:08<00:37, 40.88it/s]"
     ]
    },
    {
     "name": "stdout",
     "output_type": "stream",
     "text": [
      "MDH_indoorHum_median_indoorAtmo_ratio done\n",
      "MDH_indoorHum_median_indoorAtmo-outdoorAtmo_ratio done\n",
      "MDH_indoorHum_median_indoorHum-outdoorHum_ratio done\n",
      "MDH_indoorHum_median_MDH_outdoorTemp_mean_ratio done\n",
      "MDH_indoorHum_median_MDH_outdoorTemp_median_ratio done\n",
      "MDH_indoorHum_median_MDH_outdoorHum_mean_ratio done\n",
      "MDH_indoorHum_median_MDH_outdoorHum_median_ratio done\n",
      "MDH_indoorHum_median_MDH_outdoorAtmo_mean_ratio done\n"
     ]
    },
    {
     "name": "stderr",
     "output_type": "stream",
     "text": [
      " 19%|███████████████                                                                | 361/1889 [00:08<00:37, 41.11it/s]"
     ]
    },
    {
     "name": "stdout",
     "output_type": "stream",
     "text": [
      "MDH_indoorHum_median_MDH_outdoorAtmo_median_ratio done\n",
      "MDH_indoorHum_median_MDH_indoorHum_mean_ratio done\n",
      "MDH_indoorHum_median_MDH_indoorAtmo_mean_ratio done\n",
      "MDH_indoorHum_median_MDH_indoorAtmo_median_ratio done\n",
      "MDH_indoorHum_median_MDH_indoorAtmo-outdoorAtmo_mean_ratio done\n",
      "MDH_indoorHum_median_MDH_indoorAtmo-outdoorAtmo_median_ratio done\n",
      "MDH_indoorHum_median_MDH_indoorHum-outdoorHum_mean_ratio done\n",
      "MDH_indoorHum_median_MDH_indoorHum-outdoorHum_median_ratio done\n",
      "MDH_indoorAtmo_mean_outdoorTemp_ratio done\n"
     ]
    },
    {
     "name": "stderr",
     "output_type": "stream",
     "text": [
      "\r",
      " 19%|███████████████▎                                                               | 366/1889 [00:08<00:37, 40.51it/s]"
     ]
    },
    {
     "name": "stdout",
     "output_type": "stream",
     "text": [
      "MDH_indoorAtmo_mean_outdoorHum_ratio done\n",
      "MDH_indoorAtmo_mean_outdoorAtmo_ratio done\n",
      "MDH_indoorAtmo_mean_indoorHum_ratio done\n",
      "MDH_indoorAtmo_mean_indoorAtmo_ratio done\n",
      "MDH_indoorAtmo_mean_indoorAtmo-outdoorAtmo_ratio done\n",
      "MDH_indoorAtmo_mean_indoorHum-outdoorHum_ratio done\n",
      "MDH_indoorAtmo_mean_MDH_outdoorTemp_mean_ratio done\n",
      "MDH_indoorAtmo_mean_MDH_outdoorTemp_median_ratio done\n",
      "MDH_indoorAtmo_mean_MDH_outdoorHum_mean_ratio done\n"
     ]
    },
    {
     "name": "stderr",
     "output_type": "stream",
     "text": [
      " 20%|███████████████▋                                                               | 376/1889 [00:09<00:37, 40.82it/s]"
     ]
    },
    {
     "name": "stdout",
     "output_type": "stream",
     "text": [
      "MDH_indoorAtmo_mean_MDH_outdoorHum_median_ratio done\n",
      "MDH_indoorAtmo_mean_MDH_outdoorAtmo_mean_ratio done\n",
      "MDH_indoorAtmo_mean_MDH_outdoorAtmo_median_ratio done\n",
      "MDH_indoorAtmo_mean_MDH_indoorHum_mean_ratio done\n",
      "MDH_indoorAtmo_mean_MDH_indoorHum_median_ratio done\n",
      "MDH_indoorAtmo_mean_MDH_indoorAtmo_median_ratio done\n",
      "MDH_indoorAtmo_mean_MDH_indoorAtmo-outdoorAtmo_mean_ratio done\n",
      "MDH_indoorAtmo_mean_MDH_indoorAtmo-outdoorAtmo_median_ratio done\n"
     ]
    },
    {
     "name": "stderr",
     "output_type": "stream",
     "text": [
      " 20%|████████████████▏                                                              | 386/1889 [00:09<00:37, 40.53it/s]"
     ]
    },
    {
     "name": "stdout",
     "output_type": "stream",
     "text": [
      "MDH_indoorAtmo_mean_MDH_indoorHum-outdoorHum_mean_ratio done\n",
      "MDH_indoorAtmo_mean_MDH_indoorHum-outdoorHum_median_ratio done\n",
      "MDH_indoorAtmo_median_outdoorTemp_ratio done\n",
      "MDH_indoorAtmo_median_outdoorHum_ratio done\n",
      "MDH_indoorAtmo_median_outdoorAtmo_ratio done\n",
      "MDH_indoorAtmo_median_indoorHum_ratio done\n",
      "MDH_indoorAtmo_median_indoorAtmo_ratio done\n",
      "MDH_indoorAtmo_median_indoorAtmo-outdoorAtmo_ratio done\n",
      "MDH_indoorAtmo_median_indoorHum-outdoorHum_ratio done\n"
     ]
    },
    {
     "name": "stderr",
     "output_type": "stream",
     "text": [
      " 21%|████████████████▌                                                              | 396/1889 [00:09<00:36, 40.52it/s]"
     ]
    },
    {
     "name": "stdout",
     "output_type": "stream",
     "text": [
      "MDH_indoorAtmo_median_MDH_outdoorTemp_mean_ratio done\n",
      "MDH_indoorAtmo_median_MDH_outdoorTemp_median_ratio done\n",
      "MDH_indoorAtmo_median_MDH_outdoorHum_mean_ratio done\n",
      "MDH_indoorAtmo_median_MDH_outdoorHum_median_ratio done\n",
      "MDH_indoorAtmo_median_MDH_outdoorAtmo_mean_ratio done\n",
      "MDH_indoorAtmo_median_MDH_outdoorAtmo_median_ratio done\n",
      "MDH_indoorAtmo_median_MDH_indoorHum_mean_ratio done\n",
      "MDH_indoorAtmo_median_MDH_indoorHum_median_ratio done\n",
      "MDH_indoorAtmo_median_MDH_indoorAtmo_mean_ratio done\n"
     ]
    },
    {
     "name": "stderr",
     "output_type": "stream",
     "text": [
      "\r",
      " 21%|████████████████▊                                                              | 401/1889 [00:09<00:36, 40.30it/s]"
     ]
    },
    {
     "name": "stdout",
     "output_type": "stream",
     "text": [
      "MDH_indoorAtmo_median_MDH_indoorAtmo-outdoorAtmo_mean_ratio done\n",
      "MDH_indoorAtmo_median_MDH_indoorAtmo-outdoorAtmo_median_ratio done\n",
      "MDH_indoorAtmo_median_MDH_indoorHum-outdoorHum_mean_ratio done\n",
      "MDH_indoorAtmo_median_MDH_indoorHum-outdoorHum_median_ratio done\n",
      "MDH_indoorAtmo-outdoorAtmo_mean_outdoorTemp_ratio done\n",
      "MDH_indoorAtmo-outdoorAtmo_mean_outdoorHum_ratio done\n",
      "MDH_indoorAtmo-outdoorAtmo_mean_outdoorAtmo_ratio done\n",
      "MDH_indoorAtmo-outdoorAtmo_mean_indoorHum_ratio done\n",
      "MDH_indoorAtmo-outdoorAtmo_mean_indoorAtmo_ratio done\n"
     ]
    },
    {
     "name": "stderr",
     "output_type": "stream",
     "text": [
      " 22%|█████████████████▏                                                             | 411/1889 [00:10<00:35, 41.26it/s]"
     ]
    },
    {
     "name": "stdout",
     "output_type": "stream",
     "text": [
      "MDH_indoorAtmo-outdoorAtmo_mean_indoorAtmo-outdoorAtmo_ratio error\n",
      "MDH_indoorAtmo-outdoorAtmo_mean_indoorHum-outdoorHum_ratio done\n",
      "MDH_indoorAtmo-outdoorAtmo_mean_MDH_outdoorTemp_mean_ratio done\n",
      "MDH_indoorAtmo-outdoorAtmo_mean_MDH_outdoorTemp_median_ratio done\n",
      "MDH_indoorAtmo-outdoorAtmo_mean_MDH_outdoorHum_mean_ratio done\n",
      "MDH_indoorAtmo-outdoorAtmo_mean_MDH_outdoorHum_median_ratio done\n",
      "MDH_indoorAtmo-outdoorAtmo_mean_MDH_outdoorAtmo_mean_ratio done\n",
      "MDH_indoorAtmo-outdoorAtmo_mean_MDH_outdoorAtmo_median_ratio done\n"
     ]
    },
    {
     "name": "stderr",
     "output_type": "stream",
     "text": [
      " 22%|█████████████████▋                                                             | 422/1889 [00:10<00:33, 44.28it/s]"
     ]
    },
    {
     "name": "stdout",
     "output_type": "stream",
     "text": [
      "MDH_indoorAtmo-outdoorAtmo_mean_MDH_indoorHum_mean_ratio done\n",
      "MDH_indoorAtmo-outdoorAtmo_mean_MDH_indoorHum_median_ratio done\n",
      "MDH_indoorAtmo-outdoorAtmo_mean_MDH_indoorAtmo_mean_ratio done\n",
      "MDH_indoorAtmo-outdoorAtmo_mean_MDH_indoorAtmo_median_ratio done\n",
      "MDH_indoorAtmo-outdoorAtmo_mean_MDH_indoorAtmo-outdoorAtmo_median_ratio error\n",
      "MDH_indoorAtmo-outdoorAtmo_mean_MDH_indoorHum-outdoorHum_mean_ratio done\n",
      "MDH_indoorAtmo-outdoorAtmo_mean_MDH_indoorHum-outdoorHum_median_ratio error\n",
      "MDH_indoorAtmo-outdoorAtmo_median_outdoorTemp_ratio done\n",
      "MDH_indoorAtmo-outdoorAtmo_median_outdoorHum_ratio done\n",
      "MDH_indoorAtmo-outdoorAtmo_median_outdoorAtmo_ratio done\n"
     ]
    },
    {
     "name": "stderr",
     "output_type": "stream",
     "text": [
      " 23%|██████████████████                                                             | 432/1889 [00:10<00:34, 41.94it/s]"
     ]
    },
    {
     "name": "stdout",
     "output_type": "stream",
     "text": [
      "MDH_indoorAtmo-outdoorAtmo_median_indoorHum_ratio done\n",
      "MDH_indoorAtmo-outdoorAtmo_median_indoorAtmo_ratio done\n",
      "MDH_indoorAtmo-outdoorAtmo_median_indoorAtmo-outdoorAtmo_ratio done\n",
      "MDH_indoorAtmo-outdoorAtmo_median_indoorHum-outdoorHum_ratio done\n",
      "MDH_indoorAtmo-outdoorAtmo_median_MDH_outdoorTemp_mean_ratio done\n",
      "MDH_indoorAtmo-outdoorAtmo_median_MDH_outdoorTemp_median_ratio done\n",
      "MDH_indoorAtmo-outdoorAtmo_median_MDH_outdoorHum_mean_ratio done\n",
      "MDH_indoorAtmo-outdoorAtmo_median_MDH_outdoorHum_median_ratio done\n",
      "MDH_indoorAtmo-outdoorAtmo_median_MDH_outdoorAtmo_mean_ratio done\n"
     ]
    },
    {
     "name": "stderr",
     "output_type": "stream",
     "text": [
      "\r",
      " 23%|██████████████████▎                                                            | 437/1889 [00:10<00:35, 41.43it/s]"
     ]
    },
    {
     "name": "stdout",
     "output_type": "stream",
     "text": [
      "MDH_indoorAtmo-outdoorAtmo_median_MDH_outdoorAtmo_median_ratio done\n",
      "MDH_indoorAtmo-outdoorAtmo_median_MDH_indoorHum_mean_ratio done\n",
      "MDH_indoorAtmo-outdoorAtmo_median_MDH_indoorHum_median_ratio done\n",
      "MDH_indoorAtmo-outdoorAtmo_median_MDH_indoorAtmo_mean_ratio done\n",
      "MDH_indoorAtmo-outdoorAtmo_median_MDH_indoorAtmo_median_ratio done\n",
      "MDH_indoorAtmo-outdoorAtmo_median_MDH_indoorAtmo-outdoorAtmo_mean_ratio done\n",
      "MDH_indoorAtmo-outdoorAtmo_median_MDH_indoorHum-outdoorHum_mean_ratio done\n",
      "MDH_indoorAtmo-outdoorAtmo_median_MDH_indoorHum-outdoorHum_median_ratio done\n",
      "MDH_indoorHum-outdoorHum_mean_outdoorTemp_ratio done\n"
     ]
    },
    {
     "name": "stderr",
     "output_type": "stream",
     "text": [
      " 24%|██████████████████▋                                                            | 447/1889 [00:10<00:33, 42.59it/s]"
     ]
    },
    {
     "name": "stdout",
     "output_type": "stream",
     "text": [
      "MDH_indoorHum-outdoorHum_mean_outdoorHum_ratio done\n",
      "MDH_indoorHum-outdoorHum_mean_outdoorAtmo_ratio done\n",
      "MDH_indoorHum-outdoorHum_mean_indoorHum_ratio done\n",
      "MDH_indoorHum-outdoorHum_mean_indoorAtmo_ratio done\n",
      "MDH_indoorHum-outdoorHum_mean_indoorAtmo-outdoorAtmo_ratio error\n",
      "MDH_indoorHum-outdoorHum_mean_indoorHum-outdoorHum_ratio done\n",
      "MDH_indoorHum-outdoorHum_mean_MDH_outdoorTemp_mean_ratio done\n",
      "MDH_indoorHum-outdoorHum_mean_MDH_outdoorTemp_median_ratio done\n",
      "MDH_indoorHum-outdoorHum_mean_MDH_outdoorHum_mean_ratio done\n",
      "MDH_indoorHum-outdoorHum_mean_MDH_outdoorHum_median_ratio done\n"
     ]
    },
    {
     "name": "stderr",
     "output_type": "stream",
     "text": [
      " 24%|███████████████████                                                            | 457/1889 [00:11<00:34, 41.56it/s]"
     ]
    },
    {
     "name": "stdout",
     "output_type": "stream",
     "text": [
      "MDH_indoorHum-outdoorHum_mean_MDH_outdoorAtmo_mean_ratio done\n",
      "MDH_indoorHum-outdoorHum_mean_MDH_outdoorAtmo_median_ratio done\n",
      "MDH_indoorHum-outdoorHum_mean_MDH_indoorHum_mean_ratio done\n",
      "MDH_indoorHum-outdoorHum_mean_MDH_indoorHum_median_ratio done\n",
      "MDH_indoorHum-outdoorHum_mean_MDH_indoorAtmo_mean_ratio done\n",
      "MDH_indoorHum-outdoorHum_mean_MDH_indoorAtmo_median_ratio done\n",
      "MDH_indoorHum-outdoorHum_mean_MDH_indoorAtmo-outdoorAtmo_mean_ratio done\n",
      "MDH_indoorHum-outdoorHum_mean_MDH_indoorAtmo-outdoorAtmo_median_ratio error\n",
      "MDH_indoorHum-outdoorHum_mean_MDH_indoorHum-outdoorHum_median_ratio done\n"
     ]
    },
    {
     "name": "stderr",
     "output_type": "stream",
     "text": [
      " 25%|███████████████████▌                                                           | 467/1889 [00:11<00:31, 44.50it/s]"
     ]
    },
    {
     "name": "stdout",
     "output_type": "stream",
     "text": [
      "MDH_indoorHum-outdoorHum_median_outdoorTemp_ratio done\n",
      "MDH_indoorHum-outdoorHum_median_outdoorHum_ratio done\n",
      "MDH_indoorHum-outdoorHum_median_outdoorAtmo_ratio done\n",
      "MDH_indoorHum-outdoorHum_median_indoorHum_ratio done\n",
      "MDH_indoorHum-outdoorHum_median_indoorAtmo_ratio done\n",
      "MDH_indoorHum-outdoorHum_median_indoorAtmo-outdoorAtmo_ratio error\n",
      "MDH_indoorHum-outdoorHum_median_indoorHum-outdoorHum_ratio done\n",
      "MDH_indoorHum-outdoorHum_median_MDH_outdoorTemp_mean_ratio done\n",
      "MDH_indoorHum-outdoorHum_median_MDH_outdoorTemp_median_ratio done\n"
     ]
    },
    {
     "name": "stderr",
     "output_type": "stream",
     "text": [
      "\r",
      " 25%|███████████████████▋                                                           | 472/1889 [00:11<00:34, 41.07it/s]"
     ]
    },
    {
     "name": "stdout",
     "output_type": "stream",
     "text": [
      "MDH_indoorHum-outdoorHum_median_MDH_outdoorHum_mean_ratio done\n",
      "MDH_indoorHum-outdoorHum_median_MDH_outdoorHum_median_ratio done\n",
      "MDH_indoorHum-outdoorHum_median_MDH_outdoorAtmo_mean_ratio done\n",
      "MDH_indoorHum-outdoorHum_median_MDH_outdoorAtmo_median_ratio done\n",
      "MDH_indoorHum-outdoorHum_median_MDH_indoorHum_mean_ratio done\n",
      "MDH_indoorHum-outdoorHum_median_MDH_indoorHum_median_ratio done\n",
      "MDH_indoorHum-outdoorHum_median_MDH_indoorAtmo_mean_ratio done\n",
      "MDH_indoorHum-outdoorHum_median_MDH_indoorAtmo_median_ratio done\n"
     ]
    },
    {
     "name": "stderr",
     "output_type": "stream",
     "text": [
      " 26%|████████████████████▏                                                          | 482/1889 [00:11<00:33, 42.64it/s]"
     ]
    },
    {
     "name": "stdout",
     "output_type": "stream",
     "text": [
      "MDH_indoorHum-outdoorHum_median_MDH_indoorAtmo-outdoorAtmo_mean_ratio done\n",
      "MDH_indoorHum-outdoorHum_median_MDH_indoorAtmo-outdoorAtmo_median_ratio error\n",
      "MDH_indoorHum-outdoorHum_median_MDH_indoorHum-outdoorHum_mean_ratio done\n",
      "dt done\n",
      "hit_outdoorTemp_mean done\n",
      "hit_outdoorHum_mean done\n",
      "hit_outdoorAtmo_mean done\n",
      "hit_indoorHum_mean done\n",
      "hit_indoorAtmo_mean done\n"
     ]
    },
    {
     "name": "stderr",
     "output_type": "stream",
     "text": [
      " 26%|████████████████████▌                                                          | 492/1889 [00:11<00:33, 41.69it/s]"
     ]
    },
    {
     "name": "stdout",
     "output_type": "stream",
     "text": [
      "hit_indoorAtmo-outdoorAtmo_mean done\n",
      "hit_indoorHum-outdoorHum_mean done\n",
      "hit_temperature_mean done\n",
      "outdoorTemp_20_bin done\n",
      "outdoorTemp_50_bin done\n",
      "outdoorTemp_100_bin done\n",
      "outdoorTemp_200_bin done\n",
      "outdoorHum_20_bin done\n",
      "outdoorHum_50_bin done\n"
     ]
    },
    {
     "name": "stderr",
     "output_type": "stream",
     "text": [
      " 27%|████████████████████▉                                                          | 502/1889 [00:12<00:32, 42.19it/s]"
     ]
    },
    {
     "name": "stdout",
     "output_type": "stream",
     "text": [
      "outdoorHum_100_bin done\n",
      "outdoorHum_200_bin done\n",
      "outdoorAtmo_20_bin done\n",
      "outdoorAtmo_50_bin done\n",
      "outdoorAtmo_100_bin done\n",
      "outdoorAtmo_200_bin done\n",
      "indoorHum_20_bin done\n",
      "indoorHum_50_bin done\n",
      "indoorHum_100_bin done\n"
     ]
    },
    {
     "name": "stderr",
     "output_type": "stream",
     "text": [
      " 27%|█████████████████████▍                                                         | 512/1889 [00:12<00:30, 44.81it/s]"
     ]
    },
    {
     "name": "stdout",
     "output_type": "stream",
     "text": [
      "indoorHum_200_bin done\n",
      "indoorAtmo_20_bin done\n",
      "indoorAtmo_50_bin done\n",
      "indoorAtmo_100_bin done\n",
      "indoorAtmo_200_bin done\n",
      "indoorAtmo-outdoorAtmo_20_bin done\n",
      "indoorAtmo-outdoorAtmo_50_bin done\n",
      "indoorAtmo-outdoorAtmo_100_bin done\n",
      "indoorAtmo-outdoorAtmo_200_bin done\n",
      "indoorHum-outdoorHum_20_bin done\n"
     ]
    },
    {
     "name": "stderr",
     "output_type": "stream",
     "text": [
      " 28%|█████████████████████▊                                                         | 522/1889 [00:12<00:32, 42.68it/s]"
     ]
    },
    {
     "name": "stdout",
     "output_type": "stream",
     "text": [
      "indoorHum-outdoorHum_50_bin done\n",
      "indoorHum-outdoorHum_100_bin done\n",
      "indoorHum-outdoorHum_200_bin done\n",
      "outdoorTemp_20_bin_outdoorTemp_median done\n",
      "outdoorTemp_20_bin_outdoorTemp_mean done\n",
      "outdoorTemp_20_bin_outdoorTemp_max done\n",
      "outdoorTemp_20_bin_outdoorTemp_min done\n",
      "outdoorTemp_20_bin_outdoorTemp_std done\n",
      "outdoorTemp_20_bin_outdoorTemp_sum done\n"
     ]
    },
    {
     "name": "stderr",
     "output_type": "stream",
     "text": [
      " 28%|██████████████████████▏                                                        | 532/1889 [00:12<00:31, 43.20it/s]"
     ]
    },
    {
     "name": "stdout",
     "output_type": "stream",
     "text": [
      "outdoorTemp_20_bin_outdoorTemp_skew done\n",
      "outdoorTemp_20_bin_outdoorHum_median done\n",
      "outdoorTemp_20_bin_outdoorHum_mean done\n",
      "outdoorTemp_20_bin_outdoorHum_max done\n",
      "outdoorTemp_20_bin_outdoorHum_min done\n",
      "outdoorTemp_20_bin_outdoorHum_std done\n",
      "outdoorTemp_20_bin_outdoorHum_sum done\n",
      "outdoorTemp_20_bin_outdoorHum_skew done\n",
      "outdoorTemp_20_bin_outdoorAtmo_median done\n"
     ]
    },
    {
     "name": "stderr",
     "output_type": "stream",
     "text": [
      " 29%|██████████████████████▋                                                        | 542/1889 [00:13<00:30, 43.80it/s]"
     ]
    },
    {
     "name": "stdout",
     "output_type": "stream",
     "text": [
      "outdoorTemp_20_bin_outdoorAtmo_mean done\n",
      "outdoorTemp_20_bin_outdoorAtmo_max done\n",
      "outdoorTemp_20_bin_outdoorAtmo_min done\n",
      "outdoorTemp_20_bin_outdoorAtmo_std done\n",
      "outdoorTemp_20_bin_outdoorAtmo_sum done\n",
      "outdoorTemp_20_bin_outdoorAtmo_skew done\n",
      "outdoorTemp_20_bin_indoorHum_median done\n",
      "outdoorTemp_20_bin_indoorHum_mean done\n",
      "outdoorTemp_20_bin_indoorHum_max done\n",
      "outdoorTemp_20_bin_indoorHum_min done\n"
     ]
    },
    {
     "name": "stderr",
     "output_type": "stream",
     "text": [
      "\r",
      " 29%|██████████████████████▉                                                        | 547/1889 [00:13<00:30, 43.33it/s]"
     ]
    },
    {
     "name": "stdout",
     "output_type": "stream",
     "text": [
      "outdoorTemp_20_bin_indoorHum_std done\n",
      "outdoorTemp_20_bin_indoorHum_sum done\n",
      "outdoorTemp_20_bin_indoorHum_skew done\n",
      "outdoorTemp_20_bin_indoorAtmo_median done\n",
      "outdoorTemp_20_bin_indoorAtmo_mean done\n",
      "outdoorTemp_20_bin_indoorAtmo_max done\n",
      "outdoorTemp_20_bin_indoorAtmo_min done\n",
      "outdoorTemp_20_bin_indoorAtmo_std done\n",
      "outdoorTemp_20_bin_indoorAtmo_sum done\n"
     ]
    },
    {
     "name": "stderr",
     "output_type": "stream",
     "text": [
      " 29%|███████████████████████▎                                                       | 557/1889 [00:13<00:31, 41.77it/s]"
     ]
    },
    {
     "name": "stdout",
     "output_type": "stream",
     "text": [
      "outdoorTemp_20_bin_indoorAtmo_skew done\n",
      "outdoorTemp_20_bin_indoorAtmo-outdoorAtmo_median done\n",
      "outdoorTemp_20_bin_indoorAtmo-outdoorAtmo_mean done\n",
      "outdoorTemp_20_bin_indoorAtmo-outdoorAtmo_max done\n",
      "outdoorTemp_20_bin_indoorAtmo-outdoorAtmo_min done\n",
      "outdoorTemp_20_bin_indoorAtmo-outdoorAtmo_std done\n",
      "outdoorTemp_20_bin_indoorAtmo-outdoorAtmo_sum done\n",
      "outdoorTemp_20_bin_indoorAtmo-outdoorAtmo_skew done\n",
      "outdoorTemp_20_bin_indoorHum-outdoorHum_median done\n"
     ]
    },
    {
     "name": "stderr",
     "output_type": "stream",
     "text": [
      " 30%|███████████████████████▋                                                       | 567/1889 [00:13<00:31, 41.40it/s]"
     ]
    },
    {
     "name": "stdout",
     "output_type": "stream",
     "text": [
      "outdoorTemp_20_bin_indoorHum-outdoorHum_mean done\n",
      "outdoorTemp_20_bin_indoorHum-outdoorHum_max done\n",
      "outdoorTemp_20_bin_indoorHum-outdoorHum_min done\n",
      "outdoorTemp_20_bin_indoorHum-outdoorHum_std done\n",
      "outdoorTemp_20_bin_indoorHum-outdoorHum_sum done\n",
      "outdoorTemp_20_bin_indoorHum-outdoorHum_skew done\n",
      "outdoorHum_20_bin_outdoorTemp_median done\n",
      "outdoorHum_20_bin_outdoorTemp_mean done\n",
      "outdoorHum_20_bin_outdoorTemp_max done\n"
     ]
    },
    {
     "name": "stderr",
     "output_type": "stream",
     "text": [
      " 31%|████████████████████████▏                                                      | 577/1889 [00:13<00:31, 41.27it/s]"
     ]
    },
    {
     "name": "stdout",
     "output_type": "stream",
     "text": [
      "outdoorHum_20_bin_outdoorTemp_min done\n",
      "outdoorHum_20_bin_outdoorTemp_std done\n",
      "outdoorHum_20_bin_outdoorTemp_sum done\n",
      "outdoorHum_20_bin_outdoorTemp_skew done\n",
      "outdoorHum_20_bin_outdoorHum_median done\n",
      "outdoorHum_20_bin_outdoorHum_mean done\n",
      "outdoorHum_20_bin_outdoorHum_max done\n",
      "outdoorHum_20_bin_outdoorHum_min done\n",
      "outdoorHum_20_bin_outdoorHum_std done\n"
     ]
    },
    {
     "name": "stderr",
     "output_type": "stream",
     "text": [
      " 31%|████████████████████████▌                                                      | 587/1889 [00:14<00:31, 41.11it/s]"
     ]
    },
    {
     "name": "stdout",
     "output_type": "stream",
     "text": [
      "outdoorHum_20_bin_outdoorHum_sum done\n",
      "outdoorHum_20_bin_outdoorHum_skew done\n",
      "outdoorHum_20_bin_outdoorAtmo_median done\n",
      "outdoorHum_20_bin_outdoorAtmo_mean done\n",
      "outdoorHum_20_bin_outdoorAtmo_max done\n",
      "outdoorHum_20_bin_outdoorAtmo_min done\n",
      "outdoorHum_20_bin_outdoorAtmo_std done\n",
      "outdoorHum_20_bin_outdoorAtmo_sum done\n",
      "outdoorHum_20_bin_outdoorAtmo_skew done\n"
     ]
    },
    {
     "name": "stderr",
     "output_type": "stream",
     "text": [
      "\r",
      " 31%|████████████████████████▊                                                      | 592/1889 [00:14<00:31, 40.90it/s]"
     ]
    },
    {
     "name": "stdout",
     "output_type": "stream",
     "text": [
      "outdoorHum_20_bin_indoorHum_median done\n",
      "outdoorHum_20_bin_indoorHum_mean done\n",
      "outdoorHum_20_bin_indoorHum_max done\n",
      "outdoorHum_20_bin_indoorHum_min done\n",
      "outdoorHum_20_bin_indoorHum_std done\n",
      "outdoorHum_20_bin_indoorHum_sum done\n",
      "outdoorHum_20_bin_indoorHum_skew done\n",
      "outdoorHum_20_bin_indoorAtmo_median done\n",
      "outdoorHum_20_bin_indoorAtmo_mean done\n"
     ]
    },
    {
     "name": "stderr",
     "output_type": "stream",
     "text": [
      " 32%|█████████████████████████▏                                                     | 602/1889 [00:14<00:31, 40.56it/s]"
     ]
    },
    {
     "name": "stdout",
     "output_type": "stream",
     "text": [
      "outdoorHum_20_bin_indoorAtmo_max done\n",
      "outdoorHum_20_bin_indoorAtmo_min done\n",
      "outdoorHum_20_bin_indoorAtmo_std done\n",
      "outdoorHum_20_bin_indoorAtmo_sum done\n",
      "outdoorHum_20_bin_indoorAtmo_skew done\n",
      "outdoorHum_20_bin_indoorAtmo-outdoorAtmo_median done\n",
      "outdoorHum_20_bin_indoorAtmo-outdoorAtmo_mean done\n",
      "outdoorHum_20_bin_indoorAtmo-outdoorAtmo_max done\n"
     ]
    },
    {
     "name": "stderr",
     "output_type": "stream",
     "text": [
      " 32%|█████████████████████████▌                                                     | 612/1889 [00:14<00:31, 40.55it/s]"
     ]
    },
    {
     "name": "stdout",
     "output_type": "stream",
     "text": [
      "outdoorHum_20_bin_indoorAtmo-outdoorAtmo_min done\n",
      "outdoorHum_20_bin_indoorAtmo-outdoorAtmo_std done\n",
      "outdoorHum_20_bin_indoorAtmo-outdoorAtmo_sum done\n",
      "outdoorHum_20_bin_indoorAtmo-outdoorAtmo_skew done\n",
      "outdoorHum_20_bin_indoorHum-outdoorHum_median done\n",
      "outdoorHum_20_bin_indoorHum-outdoorHum_mean done\n",
      "outdoorHum_20_bin_indoorHum-outdoorHum_max done\n",
      "outdoorHum_20_bin_indoorHum-outdoorHum_min done\n",
      "outdoorHum_20_bin_indoorHum-outdoorHum_std done\n"
     ]
    },
    {
     "name": "stderr",
     "output_type": "stream",
     "text": [
      " 33%|██████████████████████████                                                     | 622/1889 [00:15<00:30, 41.89it/s]"
     ]
    },
    {
     "name": "stdout",
     "output_type": "stream",
     "text": [
      "outdoorHum_20_bin_indoorHum-outdoorHum_sum done\n",
      "outdoorHum_20_bin_indoorHum-outdoorHum_skew done\n",
      "outdoorAtmo_20_bin_outdoorTemp_median done\n",
      "outdoorAtmo_20_bin_outdoorTemp_mean done\n",
      "outdoorAtmo_20_bin_outdoorTemp_max done\n",
      "outdoorAtmo_20_bin_outdoorTemp_min done\n",
      "outdoorAtmo_20_bin_outdoorTemp_std done\n",
      "outdoorAtmo_20_bin_outdoorTemp_sum done\n",
      "outdoorAtmo_20_bin_outdoorTemp_skew done\n"
     ]
    },
    {
     "name": "stderr",
     "output_type": "stream",
     "text": [
      " 33%|██████████████████████████▍                                                    | 632/1889 [00:15<00:28, 43.97it/s]"
     ]
    },
    {
     "name": "stdout",
     "output_type": "stream",
     "text": [
      "outdoorAtmo_20_bin_outdoorHum_median done\n",
      "outdoorAtmo_20_bin_outdoorHum_mean done\n",
      "outdoorAtmo_20_bin_outdoorHum_max done\n",
      "outdoorAtmo_20_bin_outdoorHum_min done\n",
      "outdoorAtmo_20_bin_outdoorHum_std done\n",
      "outdoorAtmo_20_bin_outdoorHum_sum done\n",
      "outdoorAtmo_20_bin_outdoorHum_skew done\n",
      "outdoorAtmo_20_bin_outdoorAtmo_median done\n",
      "outdoorAtmo_20_bin_outdoorAtmo_mean done\n",
      "outdoorAtmo_20_bin_outdoorAtmo_max done\n"
     ]
    },
    {
     "name": "stderr",
     "output_type": "stream",
     "text": [
      " 34%|██████████████████████████▊                                                    | 642/1889 [00:15<00:27, 45.91it/s]"
     ]
    },
    {
     "name": "stdout",
     "output_type": "stream",
     "text": [
      "outdoorAtmo_20_bin_outdoorAtmo_min done\n",
      "outdoorAtmo_20_bin_outdoorAtmo_std done\n",
      "outdoorAtmo_20_bin_outdoorAtmo_sum done\n",
      "outdoorAtmo_20_bin_outdoorAtmo_skew done\n",
      "outdoorAtmo_20_bin_indoorHum_median done\n",
      "outdoorAtmo_20_bin_indoorHum_mean done\n",
      "outdoorAtmo_20_bin_indoorHum_max done\n",
      "outdoorAtmo_20_bin_indoorHum_min done\n",
      "outdoorAtmo_20_bin_indoorHum_std done\n",
      "outdoorAtmo_20_bin_indoorHum_sum done\n"
     ]
    },
    {
     "name": "stderr",
     "output_type": "stream",
     "text": [
      " 35%|███████████████████████████▎                                                   | 652/1889 [00:15<00:26, 46.15it/s]"
     ]
    },
    {
     "name": "stdout",
     "output_type": "stream",
     "text": [
      "outdoorAtmo_20_bin_indoorHum_skew done\n",
      "outdoorAtmo_20_bin_indoorAtmo_median done\n",
      "outdoorAtmo_20_bin_indoorAtmo_mean done\n",
      "outdoorAtmo_20_bin_indoorAtmo_max done\n",
      "outdoorAtmo_20_bin_indoorAtmo_min done\n",
      "outdoorAtmo_20_bin_indoorAtmo_std done\n",
      "outdoorAtmo_20_bin_indoorAtmo_sum done\n",
      "outdoorAtmo_20_bin_indoorAtmo_skew done\n",
      "outdoorAtmo_20_bin_indoorAtmo-outdoorAtmo_median done\n",
      "outdoorAtmo_20_bin_indoorAtmo-outdoorAtmo_mean done\n"
     ]
    },
    {
     "name": "stderr",
     "output_type": "stream",
     "text": [
      " 35%|███████████████████████████▋                                                   | 662/1889 [00:15<00:26, 46.44it/s]"
     ]
    },
    {
     "name": "stdout",
     "output_type": "stream",
     "text": [
      "outdoorAtmo_20_bin_indoorAtmo-outdoorAtmo_max done\n",
      "outdoorAtmo_20_bin_indoorAtmo-outdoorAtmo_min done\n",
      "outdoorAtmo_20_bin_indoorAtmo-outdoorAtmo_std done\n",
      "outdoorAtmo_20_bin_indoorAtmo-outdoorAtmo_sum done\n",
      "outdoorAtmo_20_bin_indoorAtmo-outdoorAtmo_skew done\n",
      "outdoorAtmo_20_bin_indoorHum-outdoorHum_median done\n",
      "outdoorAtmo_20_bin_indoorHum-outdoorHum_mean done\n",
      "outdoorAtmo_20_bin_indoorHum-outdoorHum_max done\n",
      "outdoorAtmo_20_bin_indoorHum-outdoorHum_min done\n",
      "outdoorAtmo_20_bin_indoorHum-outdoorHum_std done\n"
     ]
    },
    {
     "name": "stderr",
     "output_type": "stream",
     "text": [
      "\r",
      " 35%|███████████████████████████▉                                                   | 667/1889 [00:16<00:26, 45.73it/s]"
     ]
    },
    {
     "name": "stdout",
     "output_type": "stream",
     "text": [
      "outdoorAtmo_20_bin_indoorHum-outdoorHum_sum done\n",
      "outdoorAtmo_20_bin_indoorHum-outdoorHum_skew done\n",
      "indoorHum_20_bin_outdoorTemp_median done\n",
      "indoorHum_20_bin_outdoorTemp_mean done\n",
      "indoorHum_20_bin_outdoorTemp_max done\n",
      "indoorHum_20_bin_outdoorTemp_min done\n",
      "indoorHum_20_bin_outdoorTemp_std done\n",
      "indoorHum_20_bin_outdoorTemp_sum done\n",
      "indoorHum_20_bin_outdoorTemp_skew done\n"
     ]
    },
    {
     "name": "stderr",
     "output_type": "stream",
     "text": [
      " 36%|████████████████████████████▎                                                  | 677/1889 [00:16<00:28, 42.90it/s]"
     ]
    },
    {
     "name": "stdout",
     "output_type": "stream",
     "text": [
      "indoorHum_20_bin_outdoorHum_median done\n",
      "indoorHum_20_bin_outdoorHum_mean done\n",
      "indoorHum_20_bin_outdoorHum_max done\n",
      "indoorHum_20_bin_outdoorHum_min done\n",
      "indoorHum_20_bin_outdoorHum_std done\n",
      "indoorHum_20_bin_outdoorHum_sum done\n",
      "indoorHum_20_bin_outdoorHum_skew done\n",
      "indoorHum_20_bin_outdoorAtmo_median done\n",
      "indoorHum_20_bin_outdoorAtmo_mean done\n"
     ]
    },
    {
     "name": "stderr",
     "output_type": "stream",
     "text": [
      " 36%|████████████████████████████▋                                                  | 687/1889 [00:16<00:28, 41.72it/s]"
     ]
    },
    {
     "name": "stdout",
     "output_type": "stream",
     "text": [
      "indoorHum_20_bin_outdoorAtmo_max done\n",
      "indoorHum_20_bin_outdoorAtmo_min done\n",
      "indoorHum_20_bin_outdoorAtmo_std done\n",
      "indoorHum_20_bin_outdoorAtmo_sum done\n",
      "indoorHum_20_bin_outdoorAtmo_skew done\n",
      "indoorHum_20_bin_indoorHum_median done\n",
      "indoorHum_20_bin_indoorHum_mean done\n",
      "indoorHum_20_bin_indoorHum_max done\n",
      "indoorHum_20_bin_indoorHum_min done\n"
     ]
    },
    {
     "name": "stderr",
     "output_type": "stream",
     "text": [
      " 37%|█████████████████████████████▏                                                 | 697/1889 [00:16<00:29, 41.09it/s]"
     ]
    },
    {
     "name": "stdout",
     "output_type": "stream",
     "text": [
      "indoorHum_20_bin_indoorHum_std done\n",
      "indoorHum_20_bin_indoorHum_sum done\n",
      "indoorHum_20_bin_indoorHum_skew done\n",
      "indoorHum_20_bin_indoorAtmo_median done\n",
      "indoorHum_20_bin_indoorAtmo_mean done\n",
      "indoorHum_20_bin_indoorAtmo_max done\n",
      "indoorHum_20_bin_indoorAtmo_min done\n",
      "indoorHum_20_bin_indoorAtmo_std done\n",
      "indoorHum_20_bin_indoorAtmo_sum done\n"
     ]
    },
    {
     "name": "stderr",
     "output_type": "stream",
     "text": [
      " 37%|█████████████████████████████▌                                                 | 707/1889 [00:16<00:28, 41.26it/s]"
     ]
    },
    {
     "name": "stdout",
     "output_type": "stream",
     "text": [
      "indoorHum_20_bin_indoorAtmo_skew done\n",
      "indoorHum_20_bin_indoorAtmo-outdoorAtmo_median done\n",
      "indoorHum_20_bin_indoorAtmo-outdoorAtmo_mean done\n",
      "indoorHum_20_bin_indoorAtmo-outdoorAtmo_max done\n",
      "indoorHum_20_bin_indoorAtmo-outdoorAtmo_min done\n",
      "indoorHum_20_bin_indoorAtmo-outdoorAtmo_std done\n",
      "indoorHum_20_bin_indoorAtmo-outdoorAtmo_sum done\n",
      "indoorHum_20_bin_indoorAtmo-outdoorAtmo_skew done\n",
      "indoorHum_20_bin_indoorHum-outdoorHum_median done\n"
     ]
    },
    {
     "name": "stderr",
     "output_type": "stream",
     "text": [
      "\r",
      " 38%|█████████████████████████████▊                                                 | 712/1889 [00:17<00:28, 40.73it/s]"
     ]
    },
    {
     "name": "stdout",
     "output_type": "stream",
     "text": [
      "indoorHum_20_bin_indoorHum-outdoorHum_mean done\n",
      "indoorHum_20_bin_indoorHum-outdoorHum_max done\n",
      "indoorHum_20_bin_indoorHum-outdoorHum_min done\n",
      "indoorHum_20_bin_indoorHum-outdoorHum_std done\n",
      "indoorHum_20_bin_indoorHum-outdoorHum_sum done\n",
      "indoorHum_20_bin_indoorHum-outdoorHum_skew done\n",
      "indoorAtmo_20_bin_outdoorTemp_median done\n",
      "indoorAtmo_20_bin_outdoorTemp_mean done\n",
      "indoorAtmo_20_bin_outdoorTemp_max done\n"
     ]
    },
    {
     "name": "stderr",
     "output_type": "stream",
     "text": [
      " 38%|██████████████████████████████▏                                                | 722/1889 [00:17<00:27, 42.22it/s]"
     ]
    },
    {
     "name": "stdout",
     "output_type": "stream",
     "text": [
      "indoorAtmo_20_bin_outdoorTemp_min done\n",
      "indoorAtmo_20_bin_outdoorTemp_std done\n",
      "indoorAtmo_20_bin_outdoorTemp_sum done\n",
      "indoorAtmo_20_bin_outdoorTemp_skew done\n",
      "indoorAtmo_20_bin_outdoorHum_median done\n",
      "indoorAtmo_20_bin_outdoorHum_mean done\n",
      "indoorAtmo_20_bin_outdoorHum_max done\n",
      "indoorAtmo_20_bin_outdoorHum_min done\n",
      "indoorAtmo_20_bin_outdoorHum_std done\n",
      "indoorAtmo_20_bin_outdoorHum_sum done\n"
     ]
    },
    {
     "name": "stderr",
     "output_type": "stream",
     "text": [
      " 39%|██████████████████████████████▌                                                | 732/1889 [00:17<00:26, 44.23it/s]"
     ]
    },
    {
     "name": "stdout",
     "output_type": "stream",
     "text": [
      "indoorAtmo_20_bin_outdoorHum_skew done\n",
      "indoorAtmo_20_bin_outdoorAtmo_median done\n",
      "indoorAtmo_20_bin_outdoorAtmo_mean done\n",
      "indoorAtmo_20_bin_outdoorAtmo_max done\n",
      "indoorAtmo_20_bin_outdoorAtmo_min done\n",
      "indoorAtmo_20_bin_outdoorAtmo_std done\n",
      "indoorAtmo_20_bin_outdoorAtmo_sum done\n",
      "indoorAtmo_20_bin_outdoorAtmo_skew done\n",
      "indoorAtmo_20_bin_indoorHum_median done\n",
      "indoorAtmo_20_bin_indoorHum_mean done\n"
     ]
    },
    {
     "name": "stderr",
     "output_type": "stream",
     "text": [
      " 39%|███████████████████████████████                                                | 742/1889 [00:17<00:25, 44.80it/s]"
     ]
    },
    {
     "name": "stdout",
     "output_type": "stream",
     "text": [
      "indoorAtmo_20_bin_indoorHum_max done\n",
      "indoorAtmo_20_bin_indoorHum_min done\n",
      "indoorAtmo_20_bin_indoorHum_std done\n",
      "indoorAtmo_20_bin_indoorHum_sum done\n",
      "indoorAtmo_20_bin_indoorHum_skew done\n",
      "indoorAtmo_20_bin_indoorAtmo_median done\n",
      "indoorAtmo_20_bin_indoorAtmo_mean done\n",
      "indoorAtmo_20_bin_indoorAtmo_max done\n",
      "indoorAtmo_20_bin_indoorAtmo_min done\n",
      "indoorAtmo_20_bin_indoorAtmo_std done\n"
     ]
    },
    {
     "name": "stderr",
     "output_type": "stream",
     "text": [
      " 40%|███████████████████████████████▍                                               | 752/1889 [00:17<00:24, 46.06it/s]"
     ]
    },
    {
     "name": "stdout",
     "output_type": "stream",
     "text": [
      "indoorAtmo_20_bin_indoorAtmo_sum done\n",
      "indoorAtmo_20_bin_indoorAtmo_skew done\n",
      "indoorAtmo_20_bin_indoorAtmo-outdoorAtmo_median done\n",
      "indoorAtmo_20_bin_indoorAtmo-outdoorAtmo_mean done\n",
      "indoorAtmo_20_bin_indoorAtmo-outdoorAtmo_max done\n",
      "indoorAtmo_20_bin_indoorAtmo-outdoorAtmo_min done\n",
      "indoorAtmo_20_bin_indoorAtmo-outdoorAtmo_std done\n",
      "indoorAtmo_20_bin_indoorAtmo-outdoorAtmo_sum done\n",
      "indoorAtmo_20_bin_indoorAtmo-outdoorAtmo_skew done\n",
      "indoorAtmo_20_bin_indoorHum-outdoorHum_median done\n"
     ]
    },
    {
     "name": "stderr",
     "output_type": "stream",
     "text": [
      " 40%|███████████████████████████████▊                                               | 762/1889 [00:18<00:24, 46.38it/s]"
     ]
    },
    {
     "name": "stdout",
     "output_type": "stream",
     "text": [
      "indoorAtmo_20_bin_indoorHum-outdoorHum_mean done\n",
      "indoorAtmo_20_bin_indoorHum-outdoorHum_max done\n",
      "indoorAtmo_20_bin_indoorHum-outdoorHum_min done\n",
      "indoorAtmo_20_bin_indoorHum-outdoorHum_std done\n",
      "indoorAtmo_20_bin_indoorHum-outdoorHum_sum done\n",
      "indoorAtmo_20_bin_indoorHum-outdoorHum_skew done\n",
      "indoorAtmo-outdoorAtmo_20_bin_outdoorTemp_median done\n",
      "indoorAtmo-outdoorAtmo_20_bin_outdoorTemp_mean done\n",
      "indoorAtmo-outdoorAtmo_20_bin_outdoorTemp_max done\n",
      "indoorAtmo-outdoorAtmo_20_bin_outdoorTemp_min done\n"
     ]
    },
    {
     "name": "stderr",
     "output_type": "stream",
     "text": [
      " 41%|████████████████████████████████▎                                              | 774/1889 [00:18<00:22, 49.09it/s]"
     ]
    },
    {
     "name": "stdout",
     "output_type": "stream",
     "text": [
      "indoorAtmo-outdoorAtmo_20_bin_outdoorTemp_std done\n",
      "indoorAtmo-outdoorAtmo_20_bin_outdoorTemp_sum done\n",
      "indoorAtmo-outdoorAtmo_20_bin_outdoorTemp_skew done\n",
      "indoorAtmo-outdoorAtmo_20_bin_outdoorHum_median done\n",
      "indoorAtmo-outdoorAtmo_20_bin_outdoorHum_mean done\n",
      "indoorAtmo-outdoorAtmo_20_bin_outdoorHum_max done\n",
      "indoorAtmo-outdoorAtmo_20_bin_outdoorHum_min done\n",
      "indoorAtmo-outdoorAtmo_20_bin_outdoorHum_std done\n",
      "indoorAtmo-outdoorAtmo_20_bin_outdoorHum_sum done\n",
      "indoorAtmo-outdoorAtmo_20_bin_outdoorHum_skew done\n",
      "indoorAtmo-outdoorAtmo_20_bin_outdoorAtmo_median done\n"
     ]
    },
    {
     "name": "stderr",
     "output_type": "stream",
     "text": [
      " 42%|████████████████████████████████▊                                              | 785/1889 [00:18<00:22, 49.25it/s]"
     ]
    },
    {
     "name": "stdout",
     "output_type": "stream",
     "text": [
      "indoorAtmo-outdoorAtmo_20_bin_outdoorAtmo_mean done\n",
      "indoorAtmo-outdoorAtmo_20_bin_outdoorAtmo_max done\n",
      "indoorAtmo-outdoorAtmo_20_bin_outdoorAtmo_min done\n",
      "indoorAtmo-outdoorAtmo_20_bin_outdoorAtmo_std done\n",
      "indoorAtmo-outdoorAtmo_20_bin_outdoorAtmo_sum done\n",
      "indoorAtmo-outdoorAtmo_20_bin_outdoorAtmo_skew done\n",
      "indoorAtmo-outdoorAtmo_20_bin_indoorHum_median done\n",
      "indoorAtmo-outdoorAtmo_20_bin_indoorHum_mean done\n",
      "indoorAtmo-outdoorAtmo_20_bin_indoorHum_max done\n",
      "indoorAtmo-outdoorAtmo_20_bin_indoorHum_min done\n"
     ]
    },
    {
     "name": "stderr",
     "output_type": "stream",
     "text": [
      " 42%|█████████████████████████████████▏                                             | 795/1889 [00:18<00:23, 46.49it/s]"
     ]
    },
    {
     "name": "stdout",
     "output_type": "stream",
     "text": [
      "indoorAtmo-outdoorAtmo_20_bin_indoorHum_std done\n",
      "indoorAtmo-outdoorAtmo_20_bin_indoorHum_sum done\n",
      "indoorAtmo-outdoorAtmo_20_bin_indoorHum_skew done\n",
      "indoorAtmo-outdoorAtmo_20_bin_indoorAtmo_median done\n",
      "indoorAtmo-outdoorAtmo_20_bin_indoorAtmo_mean done\n",
      "indoorAtmo-outdoorAtmo_20_bin_indoorAtmo_max done\n",
      "indoorAtmo-outdoorAtmo_20_bin_indoorAtmo_min done\n",
      "indoorAtmo-outdoorAtmo_20_bin_indoorAtmo_std done\n",
      "indoorAtmo-outdoorAtmo_20_bin_indoorAtmo_sum done\n"
     ]
    },
    {
     "name": "stderr",
     "output_type": "stream",
     "text": [
      " 43%|█████████████████████████████████▋                                             | 807/1889 [00:19<00:22, 49.03it/s]"
     ]
    },
    {
     "name": "stdout",
     "output_type": "stream",
     "text": [
      "indoorAtmo-outdoorAtmo_20_bin_indoorAtmo_skew done\n",
      "indoorAtmo-outdoorAtmo_20_bin_indoorAtmo-outdoorAtmo_median done\n",
      "indoorAtmo-outdoorAtmo_20_bin_indoorAtmo-outdoorAtmo_mean done\n",
      "indoorAtmo-outdoorAtmo_20_bin_indoorAtmo-outdoorAtmo_max done\n",
      "indoorAtmo-outdoorAtmo_20_bin_indoorAtmo-outdoorAtmo_min done\n",
      "indoorAtmo-outdoorAtmo_20_bin_indoorAtmo-outdoorAtmo_std done\n",
      "indoorAtmo-outdoorAtmo_20_bin_indoorAtmo-outdoorAtmo_sum done\n",
      "indoorAtmo-outdoorAtmo_20_bin_indoorAtmo-outdoorAtmo_skew done\n",
      "indoorAtmo-outdoorAtmo_20_bin_indoorHum-outdoorHum_median done\n",
      "indoorAtmo-outdoorAtmo_20_bin_indoorHum-outdoorHum_mean done\n",
      "indoorAtmo-outdoorAtmo_20_bin_indoorHum-outdoorHum_max done\n"
     ]
    },
    {
     "name": "stderr",
     "output_type": "stream",
     "text": [
      " 43%|██████████████████████████████████▏                                            | 817/1889 [00:19<00:23, 46.03it/s]"
     ]
    },
    {
     "name": "stdout",
     "output_type": "stream",
     "text": [
      "indoorAtmo-outdoorAtmo_20_bin_indoorHum-outdoorHum_min done\n",
      "indoorAtmo-outdoorAtmo_20_bin_indoorHum-outdoorHum_std done\n",
      "indoorAtmo-outdoorAtmo_20_bin_indoorHum-outdoorHum_sum done\n",
      "indoorAtmo-outdoorAtmo_20_bin_indoorHum-outdoorHum_skew done\n",
      "indoorHum-outdoorHum_20_bin_outdoorTemp_median done\n",
      "indoorHum-outdoorHum_20_bin_outdoorTemp_mean done\n",
      "indoorHum-outdoorHum_20_bin_outdoorTemp_max done\n",
      "indoorHum-outdoorHum_20_bin_outdoorTemp_min done\n",
      "indoorHum-outdoorHum_20_bin_outdoorTemp_std done\n",
      "indoorHum-outdoorHum_20_bin_outdoorTemp_sum done\n"
     ]
    },
    {
     "name": "stderr",
     "output_type": "stream",
     "text": [
      "\r",
      " 44%|██████████████████████████████████▍                                            | 822/1889 [00:19<00:24, 44.19it/s]"
     ]
    },
    {
     "name": "stdout",
     "output_type": "stream",
     "text": [
      "indoorHum-outdoorHum_20_bin_outdoorTemp_skew done\n",
      "indoorHum-outdoorHum_20_bin_outdoorHum_median done\n",
      "indoorHum-outdoorHum_20_bin_outdoorHum_mean done\n",
      "indoorHum-outdoorHum_20_bin_outdoorHum_max done\n",
      "indoorHum-outdoorHum_20_bin_outdoorHum_min done\n",
      "indoorHum-outdoorHum_20_bin_outdoorHum_std done\n",
      "indoorHum-outdoorHum_20_bin_outdoorHum_sum done\n",
      "indoorHum-outdoorHum_20_bin_outdoorHum_skew done\n"
     ]
    },
    {
     "name": "stderr",
     "output_type": "stream",
     "text": [
      " 44%|██████████████████████████████████▊                                            | 832/1889 [00:19<00:25, 41.78it/s]"
     ]
    },
    {
     "name": "stdout",
     "output_type": "stream",
     "text": [
      "indoorHum-outdoorHum_20_bin_outdoorAtmo_median done\n",
      "indoorHum-outdoorHum_20_bin_outdoorAtmo_mean done\n",
      "indoorHum-outdoorHum_20_bin_outdoorAtmo_max done\n",
      "indoorHum-outdoorHum_20_bin_outdoorAtmo_min done\n",
      "indoorHum-outdoorHum_20_bin_outdoorAtmo_std done\n",
      "indoorHum-outdoorHum_20_bin_outdoorAtmo_sum done\n",
      "indoorHum-outdoorHum_20_bin_outdoorAtmo_skew done\n",
      "indoorHum-outdoorHum_20_bin_indoorHum_median done\n"
     ]
    },
    {
     "name": "stderr",
     "output_type": "stream",
     "text": [
      " 45%|███████████████████████████████████▏                                           | 842/1889 [00:19<00:25, 41.44it/s]"
     ]
    },
    {
     "name": "stdout",
     "output_type": "stream",
     "text": [
      "indoorHum-outdoorHum_20_bin_indoorHum_mean done\n",
      "indoorHum-outdoorHum_20_bin_indoorHum_max done\n",
      "indoorHum-outdoorHum_20_bin_indoorHum_min done\n",
      "indoorHum-outdoorHum_20_bin_indoorHum_std done\n",
      "indoorHum-outdoorHum_20_bin_indoorHum_sum done\n",
      "indoorHum-outdoorHum_20_bin_indoorHum_skew done\n",
      "indoorHum-outdoorHum_20_bin_indoorAtmo_median done\n",
      "indoorHum-outdoorHum_20_bin_indoorAtmo_mean done\n",
      "indoorHum-outdoorHum_20_bin_indoorAtmo_max done\n"
     ]
    },
    {
     "name": "stderr",
     "output_type": "stream",
     "text": [
      "\r",
      " 45%|███████████████████████████████████▍                                           | 847/1889 [00:20<00:25, 40.83it/s]"
     ]
    },
    {
     "name": "stdout",
     "output_type": "stream",
     "text": [
      "indoorHum-outdoorHum_20_bin_indoorAtmo_min done\n",
      "indoorHum-outdoorHum_20_bin_indoorAtmo_std done\n",
      "indoorHum-outdoorHum_20_bin_indoorAtmo_sum done\n",
      "indoorHum-outdoorHum_20_bin_indoorAtmo_skew done\n",
      "indoorHum-outdoorHum_20_bin_indoorAtmo-outdoorAtmo_median done\n",
      "indoorHum-outdoorHum_20_bin_indoorAtmo-outdoorAtmo_mean done\n",
      "indoorHum-outdoorHum_20_bin_indoorAtmo-outdoorAtmo_max done\n",
      "indoorHum-outdoorHum_20_bin_indoorAtmo-outdoorAtmo_min done\n",
      "indoorHum-outdoorHum_20_bin_indoorAtmo-outdoorAtmo_std done\n"
     ]
    },
    {
     "name": "stderr",
     "output_type": "stream",
     "text": [
      " 45%|███████████████████████████████████▊                                           | 857/1889 [00:20<00:25, 40.42it/s]"
     ]
    },
    {
     "name": "stdout",
     "output_type": "stream",
     "text": [
      "indoorHum-outdoorHum_20_bin_indoorAtmo-outdoorAtmo_sum done\n",
      "indoorHum-outdoorHum_20_bin_indoorAtmo-outdoorAtmo_skew done\n",
      "indoorHum-outdoorHum_20_bin_indoorHum-outdoorHum_median done\n",
      "indoorHum-outdoorHum_20_bin_indoorHum-outdoorHum_mean done\n",
      "indoorHum-outdoorHum_20_bin_indoorHum-outdoorHum_max done\n",
      "indoorHum-outdoorHum_20_bin_indoorHum-outdoorHum_min done\n",
      "indoorHum-outdoorHum_20_bin_indoorHum-outdoorHum_std done\n",
      "indoorHum-outdoorHum_20_bin_indoorHum-outdoorHum_sum done\n",
      "indoorHum-outdoorHum_20_bin_indoorHum-outdoorHum_skew done\n"
     ]
    },
    {
     "name": "stderr",
     "output_type": "stream",
     "text": [
      " 46%|████████████████████████████████████▎                                          | 867/1889 [00:20<00:25, 40.68it/s]"
     ]
    },
    {
     "name": "stdout",
     "output_type": "stream",
     "text": [
      "outdoorTemp_50_bin_outdoorTemp_median done\n",
      "outdoorTemp_50_bin_outdoorTemp_mean done\n",
      "outdoorTemp_50_bin_outdoorTemp_max done\n",
      "outdoorTemp_50_bin_outdoorTemp_min done\n",
      "outdoorTemp_50_bin_outdoorTemp_std done\n",
      "outdoorTemp_50_bin_outdoorTemp_sum done\n",
      "outdoorTemp_50_bin_outdoorTemp_skew done\n",
      "outdoorTemp_50_bin_outdoorHum_median done\n",
      "outdoorTemp_50_bin_outdoorHum_mean done\n"
     ]
    },
    {
     "name": "stderr",
     "output_type": "stream",
     "text": [
      " 46%|████████████████████████████████████▋                                          | 877/1889 [00:20<00:24, 42.15it/s]"
     ]
    },
    {
     "name": "stdout",
     "output_type": "stream",
     "text": [
      "outdoorTemp_50_bin_outdoorHum_max done\n",
      "outdoorTemp_50_bin_outdoorHum_min done\n",
      "outdoorTemp_50_bin_outdoorHum_std done\n",
      "outdoorTemp_50_bin_outdoorHum_sum done\n",
      "outdoorTemp_50_bin_outdoorHum_skew done\n",
      "outdoorTemp_50_bin_outdoorAtmo_median done\n",
      "outdoorTemp_50_bin_outdoorAtmo_mean done\n",
      "outdoorTemp_50_bin_outdoorAtmo_max done\n",
      "outdoorTemp_50_bin_outdoorAtmo_min done\n"
     ]
    },
    {
     "name": "stderr",
     "output_type": "stream",
     "text": [
      " 47%|█████████████████████████████████████                                          | 887/1889 [00:21<00:23, 42.86it/s]"
     ]
    },
    {
     "name": "stdout",
     "output_type": "stream",
     "text": [
      "outdoorTemp_50_bin_outdoorAtmo_std done\n",
      "outdoorTemp_50_bin_outdoorAtmo_sum done\n",
      "outdoorTemp_50_bin_outdoorAtmo_skew done\n",
      "outdoorTemp_50_bin_indoorHum_median done\n",
      "outdoorTemp_50_bin_indoorHum_mean done\n",
      "outdoorTemp_50_bin_indoorHum_max done\n",
      "outdoorTemp_50_bin_indoorHum_min done\n",
      "outdoorTemp_50_bin_indoorHum_std done\n",
      "outdoorTemp_50_bin_indoorHum_sum done\n"
     ]
    },
    {
     "name": "stderr",
     "output_type": "stream",
     "text": [
      "\r",
      " 47%|█████████████████████████████████████▎                                         | 892/1889 [00:21<00:23, 42.64it/s]"
     ]
    },
    {
     "name": "stdout",
     "output_type": "stream",
     "text": [
      "outdoorTemp_50_bin_indoorHum_skew done\n",
      "outdoorTemp_50_bin_indoorAtmo_median done\n",
      "outdoorTemp_50_bin_indoorAtmo_mean done\n",
      "outdoorTemp_50_bin_indoorAtmo_max done\n",
      "outdoorTemp_50_bin_indoorAtmo_min done\n",
      "outdoorTemp_50_bin_indoorAtmo_std done\n",
      "outdoorTemp_50_bin_indoorAtmo_sum done\n",
      "outdoorTemp_50_bin_indoorAtmo_skew done\n",
      "outdoorTemp_50_bin_indoorAtmo-outdoorAtmo_median done\n"
     ]
    },
    {
     "name": "stderr",
     "output_type": "stream",
     "text": [
      " 48%|█████████████████████████████████████▋                                         | 902/1889 [00:21<00:23, 41.23it/s]"
     ]
    },
    {
     "name": "stdout",
     "output_type": "stream",
     "text": [
      "outdoorTemp_50_bin_indoorAtmo-outdoorAtmo_mean done\n",
      "outdoorTemp_50_bin_indoorAtmo-outdoorAtmo_max done\n",
      "outdoorTemp_50_bin_indoorAtmo-outdoorAtmo_min done\n",
      "outdoorTemp_50_bin_indoorAtmo-outdoorAtmo_std done\n",
      "outdoorTemp_50_bin_indoorAtmo-outdoorAtmo_sum done\n",
      "outdoorTemp_50_bin_indoorAtmo-outdoorAtmo_skew done\n",
      "outdoorTemp_50_bin_indoorHum-outdoorHum_median done\n",
      "outdoorTemp_50_bin_indoorHum-outdoorHum_mean done\n",
      "outdoorTemp_50_bin_indoorHum-outdoorHum_max done\n"
     ]
    },
    {
     "name": "stderr",
     "output_type": "stream",
     "text": [
      " 48%|██████████████████████████████████████▏                                        | 912/1889 [00:21<00:24, 40.65it/s]"
     ]
    },
    {
     "name": "stdout",
     "output_type": "stream",
     "text": [
      "outdoorTemp_50_bin_indoorHum-outdoorHum_min done\n",
      "outdoorTemp_50_bin_indoorHum-outdoorHum_std done\n",
      "outdoorTemp_50_bin_indoorHum-outdoorHum_sum done\n",
      "outdoorTemp_50_bin_indoorHum-outdoorHum_skew done\n",
      "outdoorHum_50_bin_outdoorTemp_median done\n",
      "outdoorHum_50_bin_outdoorTemp_mean done\n",
      "outdoorHum_50_bin_outdoorTemp_max done\n",
      "outdoorHum_50_bin_outdoorTemp_min done\n"
     ]
    },
    {
     "name": "stderr",
     "output_type": "stream",
     "text": [
      " 49%|██████████████████████████████████████▌                                        | 922/1889 [00:21<00:23, 40.40it/s]"
     ]
    },
    {
     "name": "stdout",
     "output_type": "stream",
     "text": [
      "outdoorHum_50_bin_outdoorTemp_std done\n",
      "outdoorHum_50_bin_outdoorTemp_sum done\n",
      "outdoorHum_50_bin_outdoorTemp_skew done\n",
      "outdoorHum_50_bin_outdoorHum_median done\n",
      "outdoorHum_50_bin_outdoorHum_mean done\n",
      "outdoorHum_50_bin_outdoorHum_max done\n",
      "outdoorHum_50_bin_outdoorHum_min done\n",
      "outdoorHum_50_bin_outdoorHum_std done\n",
      "outdoorHum_50_bin_outdoorHum_sum done\n"
     ]
    },
    {
     "name": "stderr",
     "output_type": "stream",
     "text": [
      "\r",
      " 49%|██████████████████████████████████████▊                                        | 927/1889 [00:22<00:23, 40.53it/s]"
     ]
    },
    {
     "name": "stdout",
     "output_type": "stream",
     "text": [
      "outdoorHum_50_bin_outdoorHum_skew done\n",
      "outdoorHum_50_bin_outdoorAtmo_median done\n",
      "outdoorHum_50_bin_outdoorAtmo_mean done\n",
      "outdoorHum_50_bin_outdoorAtmo_max done\n",
      "outdoorHum_50_bin_outdoorAtmo_min done\n",
      "outdoorHum_50_bin_outdoorAtmo_std done\n",
      "outdoorHum_50_bin_outdoorAtmo_sum done\n",
      "outdoorHum_50_bin_outdoorAtmo_skew done\n",
      "outdoorHum_50_bin_indoorHum_median done\n"
     ]
    },
    {
     "name": "stderr",
     "output_type": "stream",
     "text": [
      " 50%|███████████████████████████████████████▏                                       | 937/1889 [00:22<00:23, 40.58it/s]"
     ]
    },
    {
     "name": "stdout",
     "output_type": "stream",
     "text": [
      "outdoorHum_50_bin_indoorHum_mean done\n",
      "outdoorHum_50_bin_indoorHum_max done\n",
      "outdoorHum_50_bin_indoorHum_min done\n",
      "outdoorHum_50_bin_indoorHum_std done\n",
      "outdoorHum_50_bin_indoorHum_sum done\n",
      "outdoorHum_50_bin_indoorHum_skew done\n",
      "outdoorHum_50_bin_indoorAtmo_median done\n",
      "outdoorHum_50_bin_indoorAtmo_mean done\n",
      "outdoorHum_50_bin_indoorAtmo_max done\n"
     ]
    },
    {
     "name": "stderr",
     "output_type": "stream",
     "text": [
      " 50%|███████████████████████████████████████▌                                       | 947/1889 [00:22<00:23, 40.57it/s]"
     ]
    },
    {
     "name": "stdout",
     "output_type": "stream",
     "text": [
      "outdoorHum_50_bin_indoorAtmo_min done\n",
      "outdoorHum_50_bin_indoorAtmo_std done\n",
      "outdoorHum_50_bin_indoorAtmo_sum done\n",
      "outdoorHum_50_bin_indoorAtmo_skew done\n",
      "outdoorHum_50_bin_indoorAtmo-outdoorAtmo_median done\n",
      "outdoorHum_50_bin_indoorAtmo-outdoorAtmo_mean done\n",
      "outdoorHum_50_bin_indoorAtmo-outdoorAtmo_max done\n",
      "outdoorHum_50_bin_indoorAtmo-outdoorAtmo_min done\n",
      "outdoorHum_50_bin_indoorAtmo-outdoorAtmo_std done\n"
     ]
    },
    {
     "name": "stderr",
     "output_type": "stream",
     "text": [
      " 51%|████████████████████████████████████████                                       | 957/1889 [00:22<00:23, 40.49it/s]"
     ]
    },
    {
     "name": "stdout",
     "output_type": "stream",
     "text": [
      "outdoorHum_50_bin_indoorAtmo-outdoorAtmo_sum done\n",
      "outdoorHum_50_bin_indoorAtmo-outdoorAtmo_skew done\n",
      "outdoorHum_50_bin_indoorHum-outdoorHum_median done\n",
      "outdoorHum_50_bin_indoorHum-outdoorHum_mean done\n",
      "outdoorHum_50_bin_indoorHum-outdoorHum_max done\n",
      "outdoorHum_50_bin_indoorHum-outdoorHum_min done\n",
      "outdoorHum_50_bin_indoorHum-outdoorHum_std done\n",
      "outdoorHum_50_bin_indoorHum-outdoorHum_sum done\n",
      "outdoorHum_50_bin_indoorHum-outdoorHum_skew done\n"
     ]
    },
    {
     "name": "stderr",
     "output_type": "stream",
     "text": [
      " 51%|████████████████████████████████████████▍                                      | 967/1889 [00:23<00:21, 42.15it/s]"
     ]
    },
    {
     "name": "stdout",
     "output_type": "stream",
     "text": [
      "outdoorAtmo_50_bin_outdoorTemp_median done\n",
      "outdoorAtmo_50_bin_outdoorTemp_mean done\n",
      "outdoorAtmo_50_bin_outdoorTemp_max done\n",
      "outdoorAtmo_50_bin_outdoorTemp_min done\n",
      "outdoorAtmo_50_bin_outdoorTemp_std done\n",
      "outdoorAtmo_50_bin_outdoorTemp_sum done\n",
      "outdoorAtmo_50_bin_outdoorTemp_skew done\n",
      "outdoorAtmo_50_bin_outdoorHum_median done\n",
      "outdoorAtmo_50_bin_outdoorHum_mean done\n"
     ]
    },
    {
     "name": "stderr",
     "output_type": "stream",
     "text": [
      "\r",
      " 51%|████████████████████████████████████████▋                                      | 972/1889 [00:23<00:21, 43.28it/s]"
     ]
    },
    {
     "name": "stdout",
     "output_type": "stream",
     "text": [
      "outdoorAtmo_50_bin_outdoorHum_max done\n",
      "outdoorAtmo_50_bin_outdoorHum_min done\n",
      "outdoorAtmo_50_bin_outdoorHum_std done\n",
      "outdoorAtmo_50_bin_outdoorHum_sum done\n",
      "outdoorAtmo_50_bin_outdoorHum_skew done\n",
      "outdoorAtmo_50_bin_outdoorAtmo_median done\n",
      "outdoorAtmo_50_bin_outdoorAtmo_mean done\n",
      "outdoorAtmo_50_bin_outdoorAtmo_max done\n",
      "outdoorAtmo_50_bin_outdoorAtmo_min done\n"
     ]
    },
    {
     "name": "stderr",
     "output_type": "stream",
     "text": [
      " 52%|█████████████████████████████████████████                                      | 982/1889 [00:23<00:21, 42.78it/s]"
     ]
    },
    {
     "name": "stdout",
     "output_type": "stream",
     "text": [
      "outdoorAtmo_50_bin_outdoorAtmo_std done\n",
      "outdoorAtmo_50_bin_outdoorAtmo_sum done\n",
      "outdoorAtmo_50_bin_outdoorAtmo_skew done\n",
      "outdoorAtmo_50_bin_indoorHum_median done\n",
      "outdoorAtmo_50_bin_indoorHum_mean done\n",
      "outdoorAtmo_50_bin_indoorHum_max done\n",
      "outdoorAtmo_50_bin_indoorHum_min done\n",
      "outdoorAtmo_50_bin_indoorHum_std done\n",
      "outdoorAtmo_50_bin_indoorHum_sum done\n",
      "outdoorAtmo_50_bin_indoorHum_skew done\n"
     ]
    },
    {
     "name": "stderr",
     "output_type": "stream",
     "text": [
      " 53%|█████████████████████████████████████████▍                                     | 992/1889 [00:23<00:20, 43.98it/s]"
     ]
    },
    {
     "name": "stdout",
     "output_type": "stream",
     "text": [
      "outdoorAtmo_50_bin_indoorAtmo_median done\n",
      "outdoorAtmo_50_bin_indoorAtmo_mean done\n",
      "outdoorAtmo_50_bin_indoorAtmo_max done\n",
      "outdoorAtmo_50_bin_indoorAtmo_min done\n",
      "outdoorAtmo_50_bin_indoorAtmo_std done\n",
      "outdoorAtmo_50_bin_indoorAtmo_sum done\n",
      "outdoorAtmo_50_bin_indoorAtmo_skew done\n",
      "outdoorAtmo_50_bin_indoorAtmo-outdoorAtmo_median done\n",
      "outdoorAtmo_50_bin_indoorAtmo-outdoorAtmo_mean done\n"
     ]
    },
    {
     "name": "stderr",
     "output_type": "stream",
     "text": [
      " 53%|█████████████████████████████████████████▎                                    | 1002/1889 [00:23<00:20, 43.45it/s]"
     ]
    },
    {
     "name": "stdout",
     "output_type": "stream",
     "text": [
      "outdoorAtmo_50_bin_indoorAtmo-outdoorAtmo_max done\n",
      "outdoorAtmo_50_bin_indoorAtmo-outdoorAtmo_min done\n",
      "outdoorAtmo_50_bin_indoorAtmo-outdoorAtmo_std done\n",
      "outdoorAtmo_50_bin_indoorAtmo-outdoorAtmo_sum done\n",
      "outdoorAtmo_50_bin_indoorAtmo-outdoorAtmo_skew done\n",
      "outdoorAtmo_50_bin_indoorHum-outdoorHum_median done\n",
      "outdoorAtmo_50_bin_indoorHum-outdoorHum_mean done\n",
      "outdoorAtmo_50_bin_indoorHum-outdoorHum_max done\n",
      "outdoorAtmo_50_bin_indoorHum-outdoorHum_min done\n"
     ]
    },
    {
     "name": "stderr",
     "output_type": "stream",
     "text": [
      " 54%|█████████████████████████████████████████▊                                    | 1012/1889 [00:24<00:20, 43.03it/s]"
     ]
    },
    {
     "name": "stdout",
     "output_type": "stream",
     "text": [
      "outdoorAtmo_50_bin_indoorHum-outdoorHum_std done\n",
      "outdoorAtmo_50_bin_indoorHum-outdoorHum_sum done\n",
      "outdoorAtmo_50_bin_indoorHum-outdoorHum_skew done\n",
      "indoorHum_50_bin_outdoorTemp_median done\n",
      "indoorHum_50_bin_outdoorTemp_mean done\n",
      "indoorHum_50_bin_outdoorTemp_max done\n",
      "indoorHum_50_bin_outdoorTemp_min done\n",
      "indoorHum_50_bin_outdoorTemp_std done\n",
      "indoorHum_50_bin_outdoorTemp_sum done\n"
     ]
    },
    {
     "name": "stderr",
     "output_type": "stream",
     "text": [
      " 54%|██████████████████████████████████████████▏                                   | 1022/1889 [00:24<00:20, 42.33it/s]"
     ]
    },
    {
     "name": "stdout",
     "output_type": "stream",
     "text": [
      "indoorHum_50_bin_outdoorTemp_skew done\n",
      "indoorHum_50_bin_outdoorHum_median done\n",
      "indoorHum_50_bin_outdoorHum_mean done\n",
      "indoorHum_50_bin_outdoorHum_max done\n",
      "indoorHum_50_bin_outdoorHum_min done\n",
      "indoorHum_50_bin_outdoorHum_std done\n",
      "indoorHum_50_bin_outdoorHum_sum done\n",
      "indoorHum_50_bin_outdoorHum_skew done\n",
      "indoorHum_50_bin_outdoorAtmo_median done\n"
     ]
    },
    {
     "name": "stderr",
     "output_type": "stream",
     "text": [
      "\r",
      " 54%|██████████████████████████████████████████▍                                   | 1027/1889 [00:24<00:20, 42.16it/s]"
     ]
    },
    {
     "name": "stdout",
     "output_type": "stream",
     "text": [
      "indoorHum_50_bin_outdoorAtmo_mean done\n",
      "indoorHum_50_bin_outdoorAtmo_max done\n",
      "indoorHum_50_bin_outdoorAtmo_min done\n",
      "indoorHum_50_bin_outdoorAtmo_std done\n",
      "indoorHum_50_bin_outdoorAtmo_sum done\n",
      "indoorHum_50_bin_outdoorAtmo_skew done\n",
      "indoorHum_50_bin_indoorHum_median done\n",
      "indoorHum_50_bin_indoorHum_mean done\n",
      "indoorHum_50_bin_indoorHum_max done\n"
     ]
    },
    {
     "name": "stderr",
     "output_type": "stream",
     "text": [
      " 55%|██████████████████████████████████████████▊                                   | 1037/1889 [00:24<00:20, 42.45it/s]"
     ]
    },
    {
     "name": "stdout",
     "output_type": "stream",
     "text": [
      "indoorHum_50_bin_indoorHum_min done\n",
      "indoorHum_50_bin_indoorHum_std done\n",
      "indoorHum_50_bin_indoorHum_sum done\n",
      "indoorHum_50_bin_indoorHum_skew done\n",
      "indoorHum_50_bin_indoorAtmo_median done\n",
      "indoorHum_50_bin_indoorAtmo_mean done\n",
      "indoorHum_50_bin_indoorAtmo_max done\n",
      "indoorHum_50_bin_indoorAtmo_min done\n",
      "indoorHum_50_bin_indoorAtmo_std done\n"
     ]
    },
    {
     "name": "stderr",
     "output_type": "stream",
     "text": [
      " 55%|███████████████████████████████████████████▏                                  | 1047/1889 [00:24<00:20, 41.91it/s]"
     ]
    },
    {
     "name": "stdout",
     "output_type": "stream",
     "text": [
      "indoorHum_50_bin_indoorAtmo_sum done\n",
      "indoorHum_50_bin_indoorAtmo_skew done\n",
      "indoorHum_50_bin_indoorAtmo-outdoorAtmo_median done\n",
      "indoorHum_50_bin_indoorAtmo-outdoorAtmo_mean done\n",
      "indoorHum_50_bin_indoorAtmo-outdoorAtmo_max done\n",
      "indoorHum_50_bin_indoorAtmo-outdoorAtmo_min done\n",
      "indoorHum_50_bin_indoorAtmo-outdoorAtmo_std done\n",
      "indoorHum_50_bin_indoorAtmo-outdoorAtmo_sum done\n",
      "indoorHum_50_bin_indoorAtmo-outdoorAtmo_skew done\n"
     ]
    },
    {
     "name": "stderr",
     "output_type": "stream",
     "text": [
      " 56%|███████████████████████████████████████████▋                                  | 1057/1889 [00:25<00:20, 40.93it/s]"
     ]
    },
    {
     "name": "stdout",
     "output_type": "stream",
     "text": [
      "indoorHum_50_bin_indoorHum-outdoorHum_median done\n",
      "indoorHum_50_bin_indoorHum-outdoorHum_mean done\n",
      "indoorHum_50_bin_indoorHum-outdoorHum_max done\n",
      "indoorHum_50_bin_indoorHum-outdoorHum_min done\n",
      "indoorHum_50_bin_indoorHum-outdoorHum_std done\n",
      "indoorHum_50_bin_indoorHum-outdoorHum_sum done\n",
      "indoorHum_50_bin_indoorHum-outdoorHum_skew done\n",
      "indoorAtmo_50_bin_outdoorTemp_median done\n"
     ]
    },
    {
     "name": "stderr",
     "output_type": "stream",
     "text": [
      "\r",
      " 56%|███████████████████████████████████████████▊                                  | 1062/1889 [00:25<00:20, 40.88it/s]"
     ]
    },
    {
     "name": "stdout",
     "output_type": "stream",
     "text": [
      "indoorAtmo_50_bin_outdoorTemp_mean done\n",
      "indoorAtmo_50_bin_outdoorTemp_max done\n",
      "indoorAtmo_50_bin_outdoorTemp_min done\n",
      "indoorAtmo_50_bin_outdoorTemp_std done\n",
      "indoorAtmo_50_bin_outdoorTemp_sum done\n",
      "indoorAtmo_50_bin_outdoorTemp_skew done\n",
      "indoorAtmo_50_bin_outdoorHum_median done\n",
      "indoorAtmo_50_bin_outdoorHum_mean done\n",
      "indoorAtmo_50_bin_outdoorHum_max done\n"
     ]
    },
    {
     "name": "stderr",
     "output_type": "stream",
     "text": [
      " 57%|████████████████████████████████████████████▎                                 | 1072/1889 [00:25<00:19, 41.54it/s]"
     ]
    },
    {
     "name": "stdout",
     "output_type": "stream",
     "text": [
      "indoorAtmo_50_bin_outdoorHum_min done\n",
      "indoorAtmo_50_bin_outdoorHum_std done\n",
      "indoorAtmo_50_bin_outdoorHum_sum done\n",
      "indoorAtmo_50_bin_outdoorHum_skew done\n",
      "indoorAtmo_50_bin_outdoorAtmo_median done\n",
      "indoorAtmo_50_bin_outdoorAtmo_mean done\n",
      "indoorAtmo_50_bin_outdoorAtmo_max done\n",
      "indoorAtmo_50_bin_outdoorAtmo_min done\n",
      "indoorAtmo_50_bin_outdoorAtmo_std done\n"
     ]
    },
    {
     "name": "stderr",
     "output_type": "stream",
     "text": [
      " 57%|████████████████████████████████████████████▋                                 | 1082/1889 [00:25<00:18, 43.49it/s]"
     ]
    },
    {
     "name": "stdout",
     "output_type": "stream",
     "text": [
      "indoorAtmo_50_bin_outdoorAtmo_sum done\n",
      "indoorAtmo_50_bin_outdoorAtmo_skew done\n",
      "indoorAtmo_50_bin_indoorHum_median done\n",
      "indoorAtmo_50_bin_indoorHum_mean done\n",
      "indoorAtmo_50_bin_indoorHum_max done\n",
      "indoorAtmo_50_bin_indoorHum_min done\n",
      "indoorAtmo_50_bin_indoorHum_std done\n",
      "indoorAtmo_50_bin_indoorHum_sum done\n",
      "indoorAtmo_50_bin_indoorHum_skew done\n",
      "indoorAtmo_50_bin_indoorAtmo_median done\n"
     ]
    },
    {
     "name": "stderr",
     "output_type": "stream",
     "text": [
      " 58%|█████████████████████████████████████████████                                 | 1092/1889 [00:25<00:17, 44.40it/s]"
     ]
    },
    {
     "name": "stdout",
     "output_type": "stream",
     "text": [
      "indoorAtmo_50_bin_indoorAtmo_mean done\n",
      "indoorAtmo_50_bin_indoorAtmo_max done\n",
      "indoorAtmo_50_bin_indoorAtmo_min done\n",
      "indoorAtmo_50_bin_indoorAtmo_std done\n",
      "indoorAtmo_50_bin_indoorAtmo_sum done\n",
      "indoorAtmo_50_bin_indoorAtmo_skew done\n",
      "indoorAtmo_50_bin_indoorAtmo-outdoorAtmo_median done\n",
      "indoorAtmo_50_bin_indoorAtmo-outdoorAtmo_mean done\n",
      "indoorAtmo_50_bin_indoorAtmo-outdoorAtmo_max done\n",
      "indoorAtmo_50_bin_indoorAtmo-outdoorAtmo_min done\n"
     ]
    },
    {
     "name": "stderr",
     "output_type": "stream",
     "text": [
      " 58%|█████████████████████████████████████████████▌                                | 1102/1889 [00:26<00:18, 43.48it/s]"
     ]
    },
    {
     "name": "stdout",
     "output_type": "stream",
     "text": [
      "indoorAtmo_50_bin_indoorAtmo-outdoorAtmo_std done\n",
      "indoorAtmo_50_bin_indoorAtmo-outdoorAtmo_sum done\n",
      "indoorAtmo_50_bin_indoorAtmo-outdoorAtmo_skew done\n",
      "indoorAtmo_50_bin_indoorHum-outdoorHum_median done\n",
      "indoorAtmo_50_bin_indoorHum-outdoorHum_mean done\n",
      "indoorAtmo_50_bin_indoorHum-outdoorHum_max done\n",
      "indoorAtmo_50_bin_indoorHum-outdoorHum_min done\n",
      "indoorAtmo_50_bin_indoorHum-outdoorHum_std done\n",
      "indoorAtmo_50_bin_indoorHum-outdoorHum_sum done\n"
     ]
    },
    {
     "name": "stderr",
     "output_type": "stream",
     "text": [
      " 59%|█████████████████████████████████████████████▉                                | 1113/1889 [00:26<00:16, 46.39it/s]"
     ]
    },
    {
     "name": "stdout",
     "output_type": "stream",
     "text": [
      "indoorAtmo_50_bin_indoorHum-outdoorHum_skew done\n",
      "indoorAtmo-outdoorAtmo_50_bin_outdoorTemp_median done\n",
      "indoorAtmo-outdoorAtmo_50_bin_outdoorTemp_mean done\n",
      "indoorAtmo-outdoorAtmo_50_bin_outdoorTemp_max done\n",
      "indoorAtmo-outdoorAtmo_50_bin_outdoorTemp_min done\n",
      "indoorAtmo-outdoorAtmo_50_bin_outdoorTemp_std done\n",
      "indoorAtmo-outdoorAtmo_50_bin_outdoorTemp_sum done\n",
      "indoorAtmo-outdoorAtmo_50_bin_outdoorTemp_skew done\n",
      "indoorAtmo-outdoorAtmo_50_bin_outdoorHum_median done\n",
      "indoorAtmo-outdoorAtmo_50_bin_outdoorHum_mean done\n"
     ]
    },
    {
     "name": "stderr",
     "output_type": "stream",
     "text": [
      " 60%|██████████████████████████████████████████████▍                               | 1124/1889 [00:26<00:16, 46.52it/s]"
     ]
    },
    {
     "name": "stdout",
     "output_type": "stream",
     "text": [
      "indoorAtmo-outdoorAtmo_50_bin_outdoorHum_max done\n",
      "indoorAtmo-outdoorAtmo_50_bin_outdoorHum_min done\n",
      "indoorAtmo-outdoorAtmo_50_bin_outdoorHum_std done\n",
      "indoorAtmo-outdoorAtmo_50_bin_outdoorHum_sum done\n",
      "indoorAtmo-outdoorAtmo_50_bin_outdoorHum_skew done\n",
      "indoorAtmo-outdoorAtmo_50_bin_outdoorAtmo_median done\n",
      "indoorAtmo-outdoorAtmo_50_bin_outdoorAtmo_mean done\n",
      "indoorAtmo-outdoorAtmo_50_bin_outdoorAtmo_max done\n",
      "indoorAtmo-outdoorAtmo_50_bin_outdoorAtmo_min done\n",
      "indoorAtmo-outdoorAtmo_50_bin_outdoorAtmo_std done\n"
     ]
    },
    {
     "name": "stderr",
     "output_type": "stream",
     "text": [
      "\r",
      " 60%|██████████████████████████████████████████████▌                               | 1129/1889 [00:26<00:16, 47.01it/s]"
     ]
    },
    {
     "name": "stdout",
     "output_type": "stream",
     "text": [
      "indoorAtmo-outdoorAtmo_50_bin_outdoorAtmo_sum done\n",
      "indoorAtmo-outdoorAtmo_50_bin_outdoorAtmo_skew done\n",
      "indoorAtmo-outdoorAtmo_50_bin_indoorHum_median done\n",
      "indoorAtmo-outdoorAtmo_50_bin_indoorHum_mean done\n",
      "indoorAtmo-outdoorAtmo_50_bin_indoorHum_max done\n",
      "indoorAtmo-outdoorAtmo_50_bin_indoorHum_min done\n",
      "indoorAtmo-outdoorAtmo_50_bin_indoorHum_std done\n",
      "indoorAtmo-outdoorAtmo_50_bin_indoorHum_sum done\n",
      "indoorAtmo-outdoorAtmo_50_bin_indoorHum_skew done\n"
     ]
    },
    {
     "name": "stderr",
     "output_type": "stream",
     "text": [
      " 60%|███████████████████████████████████████████████                               | 1139/1889 [00:26<00:16, 45.27it/s]"
     ]
    },
    {
     "name": "stdout",
     "output_type": "stream",
     "text": [
      "indoorAtmo-outdoorAtmo_50_bin_indoorAtmo_median done\n",
      "indoorAtmo-outdoorAtmo_50_bin_indoorAtmo_mean done\n",
      "indoorAtmo-outdoorAtmo_50_bin_indoorAtmo_max done\n",
      "indoorAtmo-outdoorAtmo_50_bin_indoorAtmo_min done\n",
      "indoorAtmo-outdoorAtmo_50_bin_indoorAtmo_std done\n",
      "indoorAtmo-outdoorAtmo_50_bin_indoorAtmo_sum done\n",
      "indoorAtmo-outdoorAtmo_50_bin_indoorAtmo_skew done\n",
      "indoorAtmo-outdoorAtmo_50_bin_indoorAtmo-outdoorAtmo_median done\n",
      "indoorAtmo-outdoorAtmo_50_bin_indoorAtmo-outdoorAtmo_mean done\n"
     ]
    },
    {
     "name": "stderr",
     "output_type": "stream",
     "text": [
      " 61%|███████████████████████████████████████████████▍                              | 1149/1889 [00:27<00:15, 46.56it/s]"
     ]
    },
    {
     "name": "stdout",
     "output_type": "stream",
     "text": [
      "indoorAtmo-outdoorAtmo_50_bin_indoorAtmo-outdoorAtmo_max done\n",
      "indoorAtmo-outdoorAtmo_50_bin_indoorAtmo-outdoorAtmo_min done\n",
      "indoorAtmo-outdoorAtmo_50_bin_indoorAtmo-outdoorAtmo_std done\n",
      "indoorAtmo-outdoorAtmo_50_bin_indoorAtmo-outdoorAtmo_sum done\n",
      "indoorAtmo-outdoorAtmo_50_bin_indoorAtmo-outdoorAtmo_skew done\n",
      "indoorAtmo-outdoorAtmo_50_bin_indoorHum-outdoorHum_median done\n",
      "indoorAtmo-outdoorAtmo_50_bin_indoorHum-outdoorHum_mean done\n",
      "indoorAtmo-outdoorAtmo_50_bin_indoorHum-outdoorHum_max done\n",
      "indoorAtmo-outdoorAtmo_50_bin_indoorHum-outdoorHum_min done\n",
      "indoorAtmo-outdoorAtmo_50_bin_indoorHum-outdoorHum_std done\n"
     ]
    },
    {
     "name": "stderr",
     "output_type": "stream",
     "text": [
      " 61%|███████████████████████████████████████████████▉                              | 1160/1889 [00:27<00:16, 45.14it/s]"
     ]
    },
    {
     "name": "stdout",
     "output_type": "stream",
     "text": [
      "indoorAtmo-outdoorAtmo_50_bin_indoorHum-outdoorHum_sum done\n",
      "indoorAtmo-outdoorAtmo_50_bin_indoorHum-outdoorHum_skew done\n",
      "indoorHum-outdoorHum_50_bin_outdoorTemp_median done\n",
      "indoorHum-outdoorHum_50_bin_outdoorTemp_mean done\n",
      "indoorHum-outdoorHum_50_bin_outdoorTemp_max done\n",
      "indoorHum-outdoorHum_50_bin_outdoorTemp_min done\n",
      "indoorHum-outdoorHum_50_bin_outdoorTemp_std done\n",
      "indoorHum-outdoorHum_50_bin_outdoorTemp_sum done\n"
     ]
    },
    {
     "name": "stderr",
     "output_type": "stream",
     "text": [
      "\r",
      " 62%|████████████████████████████████████████████████                              | 1165/1889 [00:27<00:16, 43.52it/s]"
     ]
    },
    {
     "name": "stdout",
     "output_type": "stream",
     "text": [
      "indoorHum-outdoorHum_50_bin_outdoorTemp_skew done\n",
      "indoorHum-outdoorHum_50_bin_outdoorHum_median done\n",
      "indoorHum-outdoorHum_50_bin_outdoorHum_mean done\n",
      "indoorHum-outdoorHum_50_bin_outdoorHum_max done\n",
      "indoorHum-outdoorHum_50_bin_outdoorHum_min done\n",
      "indoorHum-outdoorHum_50_bin_outdoorHum_std done\n",
      "indoorHum-outdoorHum_50_bin_outdoorHum_sum done\n",
      "indoorHum-outdoorHum_50_bin_outdoorHum_skew done\n",
      "indoorHum-outdoorHum_50_bin_outdoorAtmo_median done\n"
     ]
    },
    {
     "name": "stderr",
     "output_type": "stream",
     "text": [
      " 62%|████████████████████████████████████████████████▌                             | 1175/1889 [00:27<00:16, 42.61it/s]"
     ]
    },
    {
     "name": "stdout",
     "output_type": "stream",
     "text": [
      "indoorHum-outdoorHum_50_bin_outdoorAtmo_mean done\n",
      "indoorHum-outdoorHum_50_bin_outdoorAtmo_max done\n",
      "indoorHum-outdoorHum_50_bin_outdoorAtmo_min done\n",
      "indoorHum-outdoorHum_50_bin_outdoorAtmo_std done\n",
      "indoorHum-outdoorHum_50_bin_outdoorAtmo_sum done\n",
      "indoorHum-outdoorHum_50_bin_outdoorAtmo_skew done\n",
      "indoorHum-outdoorHum_50_bin_indoorHum_median done\n",
      "indoorHum-outdoorHum_50_bin_indoorHum_mean done\n",
      "indoorHum-outdoorHum_50_bin_indoorHum_max done\n"
     ]
    },
    {
     "name": "stderr",
     "output_type": "stream",
     "text": [
      " 63%|████████████████████████████████████████████████▉                             | 1185/1889 [00:28<00:16, 41.62it/s]"
     ]
    },
    {
     "name": "stdout",
     "output_type": "stream",
     "text": [
      "indoorHum-outdoorHum_50_bin_indoorHum_min done\n",
      "indoorHum-outdoorHum_50_bin_indoorHum_std done\n",
      "indoorHum-outdoorHum_50_bin_indoorHum_sum done\n",
      "indoorHum-outdoorHum_50_bin_indoorHum_skew done\n",
      "indoorHum-outdoorHum_50_bin_indoorAtmo_median done\n",
      "indoorHum-outdoorHum_50_bin_indoorAtmo_mean done\n",
      "indoorHum-outdoorHum_50_bin_indoorAtmo_max done\n",
      "indoorHum-outdoorHum_50_bin_indoorAtmo_min done\n",
      "indoorHum-outdoorHum_50_bin_indoorAtmo_std done\n"
     ]
    },
    {
     "name": "stderr",
     "output_type": "stream",
     "text": [
      " 63%|█████████████████████████████████████████████████▎                            | 1195/1889 [00:28<00:17, 40.27it/s]"
     ]
    },
    {
     "name": "stdout",
     "output_type": "stream",
     "text": [
      "indoorHum-outdoorHum_50_bin_indoorAtmo_sum done\n",
      "indoorHum-outdoorHum_50_bin_indoorAtmo_skew done\n",
      "indoorHum-outdoorHum_50_bin_indoorAtmo-outdoorAtmo_median done\n",
      "indoorHum-outdoorHum_50_bin_indoorAtmo-outdoorAtmo_mean done\n",
      "indoorHum-outdoorHum_50_bin_indoorAtmo-outdoorAtmo_max done\n",
      "indoorHum-outdoorHum_50_bin_indoorAtmo-outdoorAtmo_min done\n",
      "indoorHum-outdoorHum_50_bin_indoorAtmo-outdoorAtmo_std done\n",
      "indoorHum-outdoorHum_50_bin_indoorAtmo-outdoorAtmo_sum done\n",
      "indoorHum-outdoorHum_50_bin_indoorAtmo-outdoorAtmo_skew done\n"
     ]
    },
    {
     "name": "stderr",
     "output_type": "stream",
     "text": [
      " 64%|█████████████████████████████████████████████████▊                            | 1205/1889 [00:28<00:16, 41.03it/s]"
     ]
    },
    {
     "name": "stdout",
     "output_type": "stream",
     "text": [
      "indoorHum-outdoorHum_50_bin_indoorHum-outdoorHum_median done\n",
      "indoorHum-outdoorHum_50_bin_indoorHum-outdoorHum_mean done\n",
      "indoorHum-outdoorHum_50_bin_indoorHum-outdoorHum_max done\n",
      "indoorHum-outdoorHum_50_bin_indoorHum-outdoorHum_min done\n",
      "indoorHum-outdoorHum_50_bin_indoorHum-outdoorHum_std done\n",
      "indoorHum-outdoorHum_50_bin_indoorHum-outdoorHum_sum done\n",
      "indoorHum-outdoorHum_50_bin_indoorHum-outdoorHum_skew done\n",
      "outdoorTemp_100_bin_outdoorTemp_median done\n",
      "outdoorTemp_100_bin_outdoorTemp_mean done\n"
     ]
    },
    {
     "name": "stderr",
     "output_type": "stream",
     "text": [
      " 64%|██████████████████████████████████████████████████▏                           | 1215/1889 [00:28<00:15, 42.89it/s]"
     ]
    },
    {
     "name": "stdout",
     "output_type": "stream",
     "text": [
      "outdoorTemp_100_bin_outdoorTemp_max done\n",
      "outdoorTemp_100_bin_outdoorTemp_min done\n",
      "outdoorTemp_100_bin_outdoorTemp_std done\n",
      "outdoorTemp_100_bin_outdoorTemp_sum done\n",
      "outdoorTemp_100_bin_outdoorTemp_skew done\n",
      "outdoorTemp_100_bin_outdoorHum_median done\n",
      "outdoorTemp_100_bin_outdoorHum_mean done\n",
      "outdoorTemp_100_bin_outdoorHum_max done\n",
      "outdoorTemp_100_bin_outdoorHum_min done\n",
      "outdoorTemp_100_bin_outdoorHum_std done\n"
     ]
    },
    {
     "name": "stderr",
     "output_type": "stream",
     "text": [
      "\r",
      " 65%|██████████████████████████████████████████████████▍                           | 1220/1889 [00:28<00:15, 42.21it/s]"
     ]
    },
    {
     "name": "stdout",
     "output_type": "stream",
     "text": [
      "outdoorTemp_100_bin_outdoorHum_sum done\n",
      "outdoorTemp_100_bin_outdoorHum_skew done\n",
      "outdoorTemp_100_bin_outdoorAtmo_median done\n",
      "outdoorTemp_100_bin_outdoorAtmo_mean done\n",
      "outdoorTemp_100_bin_outdoorAtmo_max done\n",
      "outdoorTemp_100_bin_outdoorAtmo_min done\n",
      "outdoorTemp_100_bin_outdoorAtmo_std done\n",
      "outdoorTemp_100_bin_outdoorAtmo_sum done\n"
     ]
    },
    {
     "name": "stderr",
     "output_type": "stream",
     "text": [
      " 65%|██████████████████████████████████████████████████▊                           | 1230/1889 [00:29<00:15, 42.66it/s]"
     ]
    },
    {
     "name": "stdout",
     "output_type": "stream",
     "text": [
      "outdoorTemp_100_bin_outdoorAtmo_skew done\n",
      "outdoorTemp_100_bin_indoorHum_median done\n",
      "outdoorTemp_100_bin_indoorHum_mean done\n",
      "outdoorTemp_100_bin_indoorHum_max done\n",
      "outdoorTemp_100_bin_indoorHum_min done\n",
      "outdoorTemp_100_bin_indoorHum_std done\n",
      "outdoorTemp_100_bin_indoorHum_sum done\n",
      "outdoorTemp_100_bin_indoorHum_skew done\n",
      "outdoorTemp_100_bin_indoorAtmo_median done\n"
     ]
    },
    {
     "name": "stderr",
     "output_type": "stream",
     "text": [
      " 66%|███████████████████████████████████████████████████▏                          | 1240/1889 [00:29<00:15, 41.60it/s]"
     ]
    },
    {
     "name": "stdout",
     "output_type": "stream",
     "text": [
      "outdoorTemp_100_bin_indoorAtmo_mean done\n",
      "outdoorTemp_100_bin_indoorAtmo_max done\n",
      "outdoorTemp_100_bin_indoorAtmo_min done\n",
      "outdoorTemp_100_bin_indoorAtmo_std done\n",
      "outdoorTemp_100_bin_indoorAtmo_sum done\n",
      "outdoorTemp_100_bin_indoorAtmo_skew done\n",
      "outdoorTemp_100_bin_indoorAtmo-outdoorAtmo_median done\n",
      "outdoorTemp_100_bin_indoorAtmo-outdoorAtmo_mean done\n"
     ]
    },
    {
     "name": "stderr",
     "output_type": "stream",
     "text": [
      "\r",
      " 66%|███████████████████████████████████████████████████▍                          | 1245/1889 [00:29<00:15, 41.34it/s]"
     ]
    },
    {
     "name": "stdout",
     "output_type": "stream",
     "text": [
      "outdoorTemp_100_bin_indoorAtmo-outdoorAtmo_max done\n",
      "outdoorTemp_100_bin_indoorAtmo-outdoorAtmo_min done\n",
      "outdoorTemp_100_bin_indoorAtmo-outdoorAtmo_std done\n",
      "outdoorTemp_100_bin_indoorAtmo-outdoorAtmo_sum done\n",
      "outdoorTemp_100_bin_indoorAtmo-outdoorAtmo_skew done\n",
      "outdoorTemp_100_bin_indoorHum-outdoorHum_median done\n",
      "outdoorTemp_100_bin_indoorHum-outdoorHum_mean done\n",
      "outdoorTemp_100_bin_indoorHum-outdoorHum_max done\n",
      "outdoorTemp_100_bin_indoorHum-outdoorHum_min done\n"
     ]
    },
    {
     "name": "stderr",
     "output_type": "stream",
     "text": [
      " 66%|███████████████████████████████████████████████████▊                          | 1255/1889 [00:29<00:15, 40.84it/s]"
     ]
    },
    {
     "name": "stdout",
     "output_type": "stream",
     "text": [
      "outdoorTemp_100_bin_indoorHum-outdoorHum_std done\n",
      "outdoorTemp_100_bin_indoorHum-outdoorHum_sum done\n",
      "outdoorTemp_100_bin_indoorHum-outdoorHum_skew done\n",
      "outdoorHum_100_bin_outdoorTemp_median done\n",
      "outdoorHum_100_bin_outdoorTemp_mean done\n",
      "outdoorHum_100_bin_outdoorTemp_max done\n",
      "outdoorHum_100_bin_outdoorTemp_min done\n",
      "outdoorHum_100_bin_outdoorTemp_std done\n",
      "outdoorHum_100_bin_outdoorTemp_sum done\n"
     ]
    },
    {
     "name": "stderr",
     "output_type": "stream",
     "text": [
      " 67%|████████████████████████████████████████████████████▏                         | 1265/1889 [00:29<00:15, 41.35it/s]"
     ]
    },
    {
     "name": "stdout",
     "output_type": "stream",
     "text": [
      "outdoorHum_100_bin_outdoorTemp_skew done\n",
      "outdoorHum_100_bin_outdoorHum_median done\n",
      "outdoorHum_100_bin_outdoorHum_mean done\n",
      "outdoorHum_100_bin_outdoorHum_max done\n",
      "outdoorHum_100_bin_outdoorHum_min done\n",
      "outdoorHum_100_bin_outdoorHum_std done\n",
      "outdoorHum_100_bin_outdoorHum_sum done\n",
      "outdoorHum_100_bin_outdoorHum_skew done\n",
      "outdoorHum_100_bin_outdoorAtmo_median done\n"
     ]
    },
    {
     "name": "stderr",
     "output_type": "stream",
     "text": [
      " 67%|████████████████████████████████████████████████████▋                         | 1275/1889 [00:30<00:14, 41.61it/s]"
     ]
    },
    {
     "name": "stdout",
     "output_type": "stream",
     "text": [
      "outdoorHum_100_bin_outdoorAtmo_mean done\n",
      "outdoorHum_100_bin_outdoorAtmo_max done\n",
      "outdoorHum_100_bin_outdoorAtmo_min done\n",
      "outdoorHum_100_bin_outdoorAtmo_std done\n",
      "outdoorHum_100_bin_outdoorAtmo_sum done\n",
      "outdoorHum_100_bin_outdoorAtmo_skew done\n",
      "outdoorHum_100_bin_indoorHum_median done\n",
      "outdoorHum_100_bin_indoorHum_mean done\n",
      "outdoorHum_100_bin_indoorHum_max done\n"
     ]
    },
    {
     "name": "stderr",
     "output_type": "stream",
     "text": [
      " 68%|█████████████████████████████████████████████████████                         | 1285/1889 [00:30<00:14, 40.67it/s]"
     ]
    },
    {
     "name": "stdout",
     "output_type": "stream",
     "text": [
      "outdoorHum_100_bin_indoorHum_min done\n",
      "outdoorHum_100_bin_indoorHum_std done\n",
      "outdoorHum_100_bin_indoorHum_sum done\n",
      "outdoorHum_100_bin_indoorHum_skew done\n",
      "outdoorHum_100_bin_indoorAtmo_median done\n",
      "outdoorHum_100_bin_indoorAtmo_mean done\n",
      "outdoorHum_100_bin_indoorAtmo_max done\n",
      "outdoorHum_100_bin_indoorAtmo_min done\n",
      "outdoorHum_100_bin_indoorAtmo_std done\n"
     ]
    },
    {
     "name": "stderr",
     "output_type": "stream",
     "text": [
      "\r",
      " 68%|█████████████████████████████████████████████████████▎                        | 1290/1889 [00:30<00:14, 40.30it/s]"
     ]
    },
    {
     "name": "stdout",
     "output_type": "stream",
     "text": [
      "outdoorHum_100_bin_indoorAtmo_sum done\n",
      "outdoorHum_100_bin_indoorAtmo_skew done\n",
      "outdoorHum_100_bin_indoorAtmo-outdoorAtmo_median done\n",
      "outdoorHum_100_bin_indoorAtmo-outdoorAtmo_mean done\n",
      "outdoorHum_100_bin_indoorAtmo-outdoorAtmo_max done\n",
      "outdoorHum_100_bin_indoorAtmo-outdoorAtmo_min done\n",
      "outdoorHum_100_bin_indoorAtmo-outdoorAtmo_std done\n",
      "outdoorHum_100_bin_indoorAtmo-outdoorAtmo_sum done\n",
      "outdoorHum_100_bin_indoorAtmo-outdoorAtmo_skew done\n"
     ]
    },
    {
     "name": "stderr",
     "output_type": "stream",
     "text": [
      " 69%|█████████████████████████████████████████████████████▋                        | 1300/1889 [00:30<00:14, 40.14it/s]"
     ]
    },
    {
     "name": "stdout",
     "output_type": "stream",
     "text": [
      "outdoorHum_100_bin_indoorHum-outdoorHum_median done\n",
      "outdoorHum_100_bin_indoorHum-outdoorHum_mean done\n",
      "outdoorHum_100_bin_indoorHum-outdoorHum_max done\n",
      "outdoorHum_100_bin_indoorHum-outdoorHum_min done\n",
      "outdoorHum_100_bin_indoorHum-outdoorHum_std done\n",
      "outdoorHum_100_bin_indoorHum-outdoorHum_sum done\n",
      "outdoorHum_100_bin_indoorHum-outdoorHum_skew done\n",
      "outdoorAtmo_100_bin_outdoorTemp_median done\n",
      "outdoorAtmo_100_bin_outdoorTemp_mean done\n"
     ]
    },
    {
     "name": "stderr",
     "output_type": "stream",
     "text": [
      " 69%|██████████████████████████████████████████████████████                        | 1310/1889 [00:31<00:14, 40.15it/s]"
     ]
    },
    {
     "name": "stdout",
     "output_type": "stream",
     "text": [
      "outdoorAtmo_100_bin_outdoorTemp_max done\n",
      "outdoorAtmo_100_bin_outdoorTemp_min done\n",
      "outdoorAtmo_100_bin_outdoorTemp_std done\n",
      "outdoorAtmo_100_bin_outdoorTemp_sum done\n",
      "outdoorAtmo_100_bin_outdoorTemp_skew done\n",
      "outdoorAtmo_100_bin_outdoorHum_median done\n",
      "outdoorAtmo_100_bin_outdoorHum_mean done\n",
      "outdoorAtmo_100_bin_outdoorHum_max done\n",
      "outdoorAtmo_100_bin_outdoorHum_min done\n"
     ]
    },
    {
     "name": "stderr",
     "output_type": "stream",
     "text": [
      " 70%|██████████████████████████████████████████████████████▌                       | 1320/1889 [00:31<00:13, 41.08it/s]"
     ]
    },
    {
     "name": "stdout",
     "output_type": "stream",
     "text": [
      "outdoorAtmo_100_bin_outdoorHum_std done\n",
      "outdoorAtmo_100_bin_outdoorHum_sum done\n",
      "outdoorAtmo_100_bin_outdoorHum_skew done\n",
      "outdoorAtmo_100_bin_outdoorAtmo_median done\n",
      "outdoorAtmo_100_bin_outdoorAtmo_mean done\n",
      "outdoorAtmo_100_bin_outdoorAtmo_max done\n",
      "outdoorAtmo_100_bin_outdoorAtmo_min done\n",
      "outdoorAtmo_100_bin_outdoorAtmo_std done\n",
      "outdoorAtmo_100_bin_outdoorAtmo_sum done\n"
     ]
    },
    {
     "name": "stderr",
     "output_type": "stream",
     "text": [
      "\r",
      " 70%|██████████████████████████████████████████████████████▋                       | 1325/1889 [00:31<00:14, 38.09it/s]"
     ]
    },
    {
     "name": "stdout",
     "output_type": "stream",
     "text": [
      "outdoorAtmo_100_bin_outdoorAtmo_skew done\n",
      "outdoorAtmo_100_bin_indoorHum_median done\n",
      "outdoorAtmo_100_bin_indoorHum_mean done\n",
      "outdoorAtmo_100_bin_indoorHum_max done\n",
      "outdoorAtmo_100_bin_indoorHum_min done\n",
      "outdoorAtmo_100_bin_indoorHum_std done\n",
      "outdoorAtmo_100_bin_indoorHum_sum done\n"
     ]
    },
    {
     "name": "stderr",
     "output_type": "stream",
     "text": [
      " 71%|███████████████████████████████████████████████████████                       | 1334/1889 [00:31<00:14, 39.24it/s]"
     ]
    },
    {
     "name": "stdout",
     "output_type": "stream",
     "text": [
      "outdoorAtmo_100_bin_indoorHum_skew done\n",
      "outdoorAtmo_100_bin_indoorAtmo_median done\n",
      "outdoorAtmo_100_bin_indoorAtmo_mean done\n",
      "outdoorAtmo_100_bin_indoorAtmo_max done\n",
      "outdoorAtmo_100_bin_indoorAtmo_min done\n",
      "outdoorAtmo_100_bin_indoorAtmo_std done\n",
      "outdoorAtmo_100_bin_indoorAtmo_sum done\n",
      "outdoorAtmo_100_bin_indoorAtmo_skew done\n",
      "outdoorAtmo_100_bin_indoorAtmo-outdoorAtmo_median done\n"
     ]
    },
    {
     "name": "stderr",
     "output_type": "stream",
     "text": [
      " 71%|███████████████████████████████████████████████████████▍                      | 1343/1889 [00:31<00:13, 40.11it/s]"
     ]
    },
    {
     "name": "stdout",
     "output_type": "stream",
     "text": [
      "outdoorAtmo_100_bin_indoorAtmo-outdoorAtmo_mean done\n",
      "outdoorAtmo_100_bin_indoorAtmo-outdoorAtmo_max done\n",
      "outdoorAtmo_100_bin_indoorAtmo-outdoorAtmo_min done\n",
      "outdoorAtmo_100_bin_indoorAtmo-outdoorAtmo_std done\n",
      "outdoorAtmo_100_bin_indoorAtmo-outdoorAtmo_sum done\n",
      "outdoorAtmo_100_bin_indoorAtmo-outdoorAtmo_skew done\n",
      "outdoorAtmo_100_bin_indoorHum-outdoorHum_median done\n",
      "outdoorAtmo_100_bin_indoorHum-outdoorHum_mean done\n",
      "outdoorAtmo_100_bin_indoorHum-outdoorHum_max done\n"
     ]
    },
    {
     "name": "stderr",
     "output_type": "stream",
     "text": [
      " 72%|███████████████████████████████████████████████████████▊                      | 1353/1889 [00:32<00:13, 41.07it/s]"
     ]
    },
    {
     "name": "stdout",
     "output_type": "stream",
     "text": [
      "outdoorAtmo_100_bin_indoorHum-outdoorHum_min done\n",
      "outdoorAtmo_100_bin_indoorHum-outdoorHum_std done\n",
      "outdoorAtmo_100_bin_indoorHum-outdoorHum_sum done\n",
      "outdoorAtmo_100_bin_indoorHum-outdoorHum_skew done\n",
      "indoorHum_100_bin_outdoorTemp_median done\n",
      "indoorHum_100_bin_outdoorTemp_mean done\n",
      "indoorHum_100_bin_outdoorTemp_max done\n",
      "indoorHum_100_bin_outdoorTemp_min done\n",
      "indoorHum_100_bin_outdoorTemp_std done\n"
     ]
    },
    {
     "name": "stderr",
     "output_type": "stream",
     "text": [
      " 72%|████████████████████████████████████████████████████████▎                     | 1363/1889 [00:32<00:12, 40.57it/s]"
     ]
    },
    {
     "name": "stdout",
     "output_type": "stream",
     "text": [
      "indoorHum_100_bin_outdoorTemp_sum done\n",
      "indoorHum_100_bin_outdoorTemp_skew done\n",
      "indoorHum_100_bin_outdoorHum_median done\n",
      "indoorHum_100_bin_outdoorHum_mean done\n",
      "indoorHum_100_bin_outdoorHum_max done\n",
      "indoorHum_100_bin_outdoorHum_min done\n",
      "indoorHum_100_bin_outdoorHum_std done\n",
      "indoorHum_100_bin_outdoorHum_sum done\n",
      "indoorHum_100_bin_outdoorHum_skew done\n"
     ]
    },
    {
     "name": "stderr",
     "output_type": "stream",
     "text": [
      " 73%|████████████████████████████████████████████████████████▋                     | 1373/1889 [00:32<00:12, 40.07it/s]"
     ]
    },
    {
     "name": "stdout",
     "output_type": "stream",
     "text": [
      "indoorHum_100_bin_outdoorAtmo_median done\n",
      "indoorHum_100_bin_outdoorAtmo_mean done\n",
      "indoorHum_100_bin_outdoorAtmo_max done\n",
      "indoorHum_100_bin_outdoorAtmo_min done\n",
      "indoorHum_100_bin_outdoorAtmo_std done\n",
      "indoorHum_100_bin_outdoorAtmo_sum done\n",
      "indoorHum_100_bin_outdoorAtmo_skew done\n",
      "indoorHum_100_bin_indoorHum_median done\n",
      "indoorHum_100_bin_indoorHum_mean done\n"
     ]
    },
    {
     "name": "stderr",
     "output_type": "stream",
     "text": [
      "\r",
      " 73%|████████████████████████████████████████████████████████▉                     | 1378/1889 [00:32<00:12, 41.48it/s]"
     ]
    },
    {
     "name": "stdout",
     "output_type": "stream",
     "text": [
      "indoorHum_100_bin_indoorHum_max done\n",
      "indoorHum_100_bin_indoorHum_min done\n",
      "indoorHum_100_bin_indoorHum_std done\n",
      "indoorHum_100_bin_indoorHum_sum done\n",
      "indoorHum_100_bin_indoorHum_skew done\n",
      "indoorHum_100_bin_indoorAtmo_median done\n",
      "indoorHum_100_bin_indoorAtmo_mean done\n",
      "indoorHum_100_bin_indoorAtmo_max done\n",
      "indoorHum_100_bin_indoorAtmo_min done\n"
     ]
    },
    {
     "name": "stderr",
     "output_type": "stream",
     "text": [
      " 73%|█████████████████████████████████████████████████████████▎                    | 1388/1889 [00:32<00:12, 40.94it/s]"
     ]
    },
    {
     "name": "stdout",
     "output_type": "stream",
     "text": [
      "indoorHum_100_bin_indoorAtmo_std done\n",
      "indoorHum_100_bin_indoorAtmo_sum done\n",
      "indoorHum_100_bin_indoorAtmo_skew done\n",
      "indoorHum_100_bin_indoorAtmo-outdoorAtmo_median done\n",
      "indoorHum_100_bin_indoorAtmo-outdoorAtmo_mean done\n",
      "indoorHum_100_bin_indoorAtmo-outdoorAtmo_max done\n",
      "indoorHum_100_bin_indoorAtmo-outdoorAtmo_min done\n",
      "indoorHum_100_bin_indoorAtmo-outdoorAtmo_std done\n"
     ]
    },
    {
     "name": "stderr",
     "output_type": "stream",
     "text": [
      " 74%|█████████████████████████████████████████████████████████▋                    | 1398/1889 [00:33<00:12, 40.71it/s]"
     ]
    },
    {
     "name": "stdout",
     "output_type": "stream",
     "text": [
      "indoorHum_100_bin_indoorAtmo-outdoorAtmo_sum done\n",
      "indoorHum_100_bin_indoorAtmo-outdoorAtmo_skew done\n",
      "indoorHum_100_bin_indoorHum-outdoorHum_median done\n",
      "indoorHum_100_bin_indoorHum-outdoorHum_mean done\n",
      "indoorHum_100_bin_indoorHum-outdoorHum_max done\n",
      "indoorHum_100_bin_indoorHum-outdoorHum_min done\n",
      "indoorHum_100_bin_indoorHum-outdoorHum_std done\n",
      "indoorHum_100_bin_indoorHum-outdoorHum_sum done\n",
      "indoorHum_100_bin_indoorHum-outdoorHum_skew done\n"
     ]
    },
    {
     "name": "stderr",
     "output_type": "stream",
     "text": [
      " 75%|██████████████████████████████████████████████████████████▏                   | 1408/1889 [00:33<00:11, 42.13it/s]"
     ]
    },
    {
     "name": "stdout",
     "output_type": "stream",
     "text": [
      "indoorAtmo_100_bin_outdoorTemp_median done\n",
      "indoorAtmo_100_bin_outdoorTemp_mean done\n",
      "indoorAtmo_100_bin_outdoorTemp_max done\n",
      "indoorAtmo_100_bin_outdoorTemp_min done\n",
      "indoorAtmo_100_bin_outdoorTemp_std done\n",
      "indoorAtmo_100_bin_outdoorTemp_sum done\n",
      "indoorAtmo_100_bin_outdoorTemp_skew done\n",
      "indoorAtmo_100_bin_outdoorHum_median done\n",
      "indoorAtmo_100_bin_outdoorHum_mean done\n"
     ]
    },
    {
     "name": "stderr",
     "output_type": "stream",
     "text": [
      "\r",
      " 75%|██████████████████████████████████████████████████████████▎                   | 1413/1889 [00:33<00:10, 43.56it/s]"
     ]
    },
    {
     "name": "stdout",
     "output_type": "stream",
     "text": [
      "indoorAtmo_100_bin_outdoorHum_max done\n",
      "indoorAtmo_100_bin_outdoorHum_min done\n",
      "indoorAtmo_100_bin_outdoorHum_std done\n",
      "indoorAtmo_100_bin_outdoorHum_sum done\n",
      "indoorAtmo_100_bin_outdoorHum_skew done\n",
      "indoorAtmo_100_bin_outdoorAtmo_median done\n",
      "indoorAtmo_100_bin_outdoorAtmo_mean done\n",
      "indoorAtmo_100_bin_outdoorAtmo_max done\n",
      "indoorAtmo_100_bin_outdoorAtmo_min done\n"
     ]
    },
    {
     "name": "stderr",
     "output_type": "stream",
     "text": [
      " 75%|██████████████████████████████████████████████████████████▊                   | 1423/1889 [00:33<00:10, 43.33it/s]"
     ]
    },
    {
     "name": "stdout",
     "output_type": "stream",
     "text": [
      "indoorAtmo_100_bin_outdoorAtmo_std done\n",
      "indoorAtmo_100_bin_outdoorAtmo_sum done\n",
      "indoorAtmo_100_bin_outdoorAtmo_skew done\n",
      "indoorAtmo_100_bin_indoorHum_median done\n",
      "indoorAtmo_100_bin_indoorHum_mean done\n",
      "indoorAtmo_100_bin_indoorHum_max done\n",
      "indoorAtmo_100_bin_indoorHum_min done\n",
      "indoorAtmo_100_bin_indoorHum_std done\n",
      "indoorAtmo_100_bin_indoorHum_sum done\n",
      "indoorAtmo_100_bin_indoorHum_skew done\n"
     ]
    },
    {
     "name": "stderr",
     "output_type": "stream",
     "text": [
      " 76%|███████████████████████████████████████████████████████████▏                  | 1433/1889 [00:34<00:10, 44.02it/s]"
     ]
    },
    {
     "name": "stdout",
     "output_type": "stream",
     "text": [
      "indoorAtmo_100_bin_indoorAtmo_median done\n",
      "indoorAtmo_100_bin_indoorAtmo_mean done\n",
      "indoorAtmo_100_bin_indoorAtmo_max done\n",
      "indoorAtmo_100_bin_indoorAtmo_min done\n",
      "indoorAtmo_100_bin_indoorAtmo_std done\n",
      "indoorAtmo_100_bin_indoorAtmo_sum done\n",
      "indoorAtmo_100_bin_indoorAtmo_skew done\n",
      "indoorAtmo_100_bin_indoorAtmo-outdoorAtmo_median done\n",
      "indoorAtmo_100_bin_indoorAtmo-outdoorAtmo_mean done\n"
     ]
    },
    {
     "name": "stderr",
     "output_type": "stream",
     "text": [
      " 76%|███████████████████████████████████████████████████████████▌                  | 1443/1889 [00:34<00:10, 42.77it/s]"
     ]
    },
    {
     "name": "stdout",
     "output_type": "stream",
     "text": [
      "indoorAtmo_100_bin_indoorAtmo-outdoorAtmo_max done\n",
      "indoorAtmo_100_bin_indoorAtmo-outdoorAtmo_min done\n",
      "indoorAtmo_100_bin_indoorAtmo-outdoorAtmo_std done\n",
      "indoorAtmo_100_bin_indoorAtmo-outdoorAtmo_sum done\n",
      "indoorAtmo_100_bin_indoorAtmo-outdoorAtmo_skew done\n",
      "indoorAtmo_100_bin_indoorHum-outdoorHum_median done\n",
      "indoorAtmo_100_bin_indoorHum-outdoorHum_mean done\n",
      "indoorAtmo_100_bin_indoorHum-outdoorHum_max done\n",
      "indoorAtmo_100_bin_indoorHum-outdoorHum_min done\n"
     ]
    },
    {
     "name": "stderr",
     "output_type": "stream",
     "text": [
      " 77%|████████████████████████████████████████████████████████████                  | 1454/1889 [00:34<00:09, 44.55it/s]"
     ]
    },
    {
     "name": "stdout",
     "output_type": "stream",
     "text": [
      "indoorAtmo_100_bin_indoorHum-outdoorHum_std done\n",
      "indoorAtmo_100_bin_indoorHum-outdoorHum_sum done\n",
      "indoorAtmo_100_bin_indoorHum-outdoorHum_skew done\n",
      "indoorAtmo-outdoorAtmo_100_bin_outdoorTemp_median done\n",
      "indoorAtmo-outdoorAtmo_100_bin_outdoorTemp_mean done\n",
      "indoorAtmo-outdoorAtmo_100_bin_outdoorTemp_max done\n",
      "indoorAtmo-outdoorAtmo_100_bin_outdoorTemp_min done\n",
      "indoorAtmo-outdoorAtmo_100_bin_outdoorTemp_std done\n",
      "indoorAtmo-outdoorAtmo_100_bin_outdoorTemp_sum done\n",
      "indoorAtmo-outdoorAtmo_100_bin_outdoorTemp_skew done\n"
     ]
    },
    {
     "name": "stderr",
     "output_type": "stream",
     "text": [
      " 78%|████████████████████████████████████████████████████████████▍                 | 1465/1889 [00:34<00:09, 45.96it/s]"
     ]
    },
    {
     "name": "stdout",
     "output_type": "stream",
     "text": [
      "indoorAtmo-outdoorAtmo_100_bin_outdoorHum_median done\n",
      "indoorAtmo-outdoorAtmo_100_bin_outdoorHum_mean done\n",
      "indoorAtmo-outdoorAtmo_100_bin_outdoorHum_max done\n",
      "indoorAtmo-outdoorAtmo_100_bin_outdoorHum_min done\n",
      "indoorAtmo-outdoorAtmo_100_bin_outdoorHum_std done\n",
      "indoorAtmo-outdoorAtmo_100_bin_outdoorHum_sum done\n",
      "indoorAtmo-outdoorAtmo_100_bin_outdoorHum_skew done\n",
      "indoorAtmo-outdoorAtmo_100_bin_outdoorAtmo_median done\n",
      "indoorAtmo-outdoorAtmo_100_bin_outdoorAtmo_mean done\n",
      "indoorAtmo-outdoorAtmo_100_bin_outdoorAtmo_max done\n"
     ]
    },
    {
     "name": "stderr",
     "output_type": "stream",
     "text": [
      " 78%|████████████████████████████████████████████████████████████▉                 | 1476/1889 [00:34<00:08, 46.33it/s]"
     ]
    },
    {
     "name": "stdout",
     "output_type": "stream",
     "text": [
      "indoorAtmo-outdoorAtmo_100_bin_outdoorAtmo_min done\n",
      "indoorAtmo-outdoorAtmo_100_bin_outdoorAtmo_std done\n",
      "indoorAtmo-outdoorAtmo_100_bin_outdoorAtmo_sum done\n",
      "indoorAtmo-outdoorAtmo_100_bin_outdoorAtmo_skew done\n",
      "indoorAtmo-outdoorAtmo_100_bin_indoorHum_median done\n",
      "indoorAtmo-outdoorAtmo_100_bin_indoorHum_mean done\n",
      "indoorAtmo-outdoorAtmo_100_bin_indoorHum_max done\n",
      "indoorAtmo-outdoorAtmo_100_bin_indoorHum_min done\n",
      "indoorAtmo-outdoorAtmo_100_bin_indoorHum_std done\n",
      "indoorAtmo-outdoorAtmo_100_bin_indoorHum_sum done\n",
      "indoorAtmo-outdoorAtmo_100_bin_indoorHum_skew done\n"
     ]
    },
    {
     "name": "stderr",
     "output_type": "stream",
     "text": [
      " 79%|█████████████████████████████████████████████████████████████▎                | 1486/1889 [00:35<00:08, 46.22it/s]"
     ]
    },
    {
     "name": "stdout",
     "output_type": "stream",
     "text": [
      "indoorAtmo-outdoorAtmo_100_bin_indoorAtmo_median done\n",
      "indoorAtmo-outdoorAtmo_100_bin_indoorAtmo_mean done\n",
      "indoorAtmo-outdoorAtmo_100_bin_indoorAtmo_max done\n",
      "indoorAtmo-outdoorAtmo_100_bin_indoorAtmo_min done\n",
      "indoorAtmo-outdoorAtmo_100_bin_indoorAtmo_std done\n",
      "indoorAtmo-outdoorAtmo_100_bin_indoorAtmo_sum done\n",
      "indoorAtmo-outdoorAtmo_100_bin_indoorAtmo_skew done\n",
      "indoorAtmo-outdoorAtmo_100_bin_indoorAtmo-outdoorAtmo_median done\n",
      "indoorAtmo-outdoorAtmo_100_bin_indoorAtmo-outdoorAtmo_mean done\n",
      "indoorAtmo-outdoorAtmo_100_bin_indoorAtmo-outdoorAtmo_max done\n"
     ]
    },
    {
     "name": "stderr",
     "output_type": "stream",
     "text": [
      "\r",
      " 79%|█████████████████████████████████████████████████████████████▌                | 1491/1889 [00:35<00:08, 45.28it/s]"
     ]
    },
    {
     "name": "stdout",
     "output_type": "stream",
     "text": [
      "indoorAtmo-outdoorAtmo_100_bin_indoorAtmo-outdoorAtmo_min done\n",
      "indoorAtmo-outdoorAtmo_100_bin_indoorAtmo-outdoorAtmo_std done\n",
      "indoorAtmo-outdoorAtmo_100_bin_indoorAtmo-outdoorAtmo_sum done\n",
      "indoorAtmo-outdoorAtmo_100_bin_indoorAtmo-outdoorAtmo_skew done\n",
      "indoorAtmo-outdoorAtmo_100_bin_indoorHum-outdoorHum_median done\n",
      "indoorAtmo-outdoorAtmo_100_bin_indoorHum-outdoorHum_mean done\n",
      "indoorAtmo-outdoorAtmo_100_bin_indoorHum-outdoorHum_max done\n",
      "indoorAtmo-outdoorAtmo_100_bin_indoorHum-outdoorHum_min done\n",
      "indoorAtmo-outdoorAtmo_100_bin_indoorHum-outdoorHum_std done\n"
     ]
    },
    {
     "name": "stderr",
     "output_type": "stream",
     "text": [
      " 79%|█████████████████████████████████████████████████████████████▉                | 1501/1889 [00:35<00:08, 44.63it/s]"
     ]
    },
    {
     "name": "stdout",
     "output_type": "stream",
     "text": [
      "indoorAtmo-outdoorAtmo_100_bin_indoorHum-outdoorHum_sum done\n",
      "indoorAtmo-outdoorAtmo_100_bin_indoorHum-outdoorHum_skew done\n",
      "indoorHum-outdoorHum_100_bin_outdoorTemp_median done\n",
      "indoorHum-outdoorHum_100_bin_outdoorTemp_mean done\n",
      "indoorHum-outdoorHum_100_bin_outdoorTemp_max done\n",
      "indoorHum-outdoorHum_100_bin_outdoorTemp_min done\n",
      "indoorHum-outdoorHum_100_bin_outdoorTemp_std done\n",
      "indoorHum-outdoorHum_100_bin_outdoorTemp_sum done\n",
      "indoorHum-outdoorHum_100_bin_outdoorTemp_skew done\n"
     ]
    },
    {
     "name": "stderr",
     "output_type": "stream",
     "text": [
      " 80%|██████████████████████████████████████████████████████████████▍               | 1511/1889 [00:35<00:09, 40.87it/s]"
     ]
    },
    {
     "name": "stdout",
     "output_type": "stream",
     "text": [
      "indoorHum-outdoorHum_100_bin_outdoorHum_median done\n",
      "indoorHum-outdoorHum_100_bin_outdoorHum_mean done\n",
      "indoorHum-outdoorHum_100_bin_outdoorHum_max done\n",
      "indoorHum-outdoorHum_100_bin_outdoorHum_min done\n",
      "indoorHum-outdoorHum_100_bin_outdoorHum_std done\n",
      "indoorHum-outdoorHum_100_bin_outdoorHum_sum done\n",
      "indoorHum-outdoorHum_100_bin_outdoorHum_skew done\n",
      "indoorHum-outdoorHum_100_bin_outdoorAtmo_median done\n"
     ]
    },
    {
     "name": "stderr",
     "output_type": "stream",
     "text": [
      " 81%|██████████████████████████████████████████████████████████████▊               | 1521/1889 [00:36<00:09, 40.86it/s]"
     ]
    },
    {
     "name": "stdout",
     "output_type": "stream",
     "text": [
      "indoorHum-outdoorHum_100_bin_outdoorAtmo_mean done\n",
      "indoorHum-outdoorHum_100_bin_outdoorAtmo_max done\n",
      "indoorHum-outdoorHum_100_bin_outdoorAtmo_min done\n",
      "indoorHum-outdoorHum_100_bin_outdoorAtmo_std done\n",
      "indoorHum-outdoorHum_100_bin_outdoorAtmo_sum done\n",
      "indoorHum-outdoorHum_100_bin_outdoorAtmo_skew done\n",
      "indoorHum-outdoorHum_100_bin_indoorHum_median done\n",
      "indoorHum-outdoorHum_100_bin_indoorHum_mean done\n",
      "indoorHum-outdoorHum_100_bin_indoorHum_max done\n"
     ]
    },
    {
     "name": "stderr",
     "output_type": "stream",
     "text": [
      "\r",
      " 81%|███████████████████████████████████████████████████████████████               | 1526/1889 [00:36<00:08, 40.83it/s]"
     ]
    },
    {
     "name": "stdout",
     "output_type": "stream",
     "text": [
      "indoorHum-outdoorHum_100_bin_indoorHum_min done\n",
      "indoorHum-outdoorHum_100_bin_indoorHum_std done\n",
      "indoorHum-outdoorHum_100_bin_indoorHum_sum done\n",
      "indoorHum-outdoorHum_100_bin_indoorHum_skew done\n",
      "indoorHum-outdoorHum_100_bin_indoorAtmo_median done\n",
      "indoorHum-outdoorHum_100_bin_indoorAtmo_mean done\n",
      "indoorHum-outdoorHum_100_bin_indoorAtmo_max done\n",
      "indoorHum-outdoorHum_100_bin_indoorAtmo_min done\n"
     ]
    },
    {
     "name": "stderr",
     "output_type": "stream",
     "text": [
      " 81%|███████████████████████████████████████████████████████████████▍              | 1536/1889 [00:36<00:08, 39.71it/s]"
     ]
    },
    {
     "name": "stdout",
     "output_type": "stream",
     "text": [
      "indoorHum-outdoorHum_100_bin_indoorAtmo_std done\n",
      "indoorHum-outdoorHum_100_bin_indoorAtmo_sum done\n",
      "indoorHum-outdoorHum_100_bin_indoorAtmo_skew done\n",
      "indoorHum-outdoorHum_100_bin_indoorAtmo-outdoorAtmo_median done\n",
      "indoorHum-outdoorHum_100_bin_indoorAtmo-outdoorAtmo_mean done\n",
      "indoorHum-outdoorHum_100_bin_indoorAtmo-outdoorAtmo_max done\n",
      "indoorHum-outdoorHum_100_bin_indoorAtmo-outdoorAtmo_min done\n",
      "indoorHum-outdoorHum_100_bin_indoorAtmo-outdoorAtmo_std done\n"
     ]
    },
    {
     "name": "stderr",
     "output_type": "stream",
     "text": [
      " 82%|███████████████████████████████████████████████████████████████▊              | 1545/1889 [00:36<00:08, 40.30it/s]"
     ]
    },
    {
     "name": "stdout",
     "output_type": "stream",
     "text": [
      "indoorHum-outdoorHum_100_bin_indoorAtmo-outdoorAtmo_sum done\n",
      "indoorHum-outdoorHum_100_bin_indoorAtmo-outdoorAtmo_skew done\n",
      "indoorHum-outdoorHum_100_bin_indoorHum-outdoorHum_median done\n",
      "indoorHum-outdoorHum_100_bin_indoorHum-outdoorHum_mean done\n",
      "indoorHum-outdoorHum_100_bin_indoorHum-outdoorHum_max done\n",
      "indoorHum-outdoorHum_100_bin_indoorHum-outdoorHum_min done\n",
      "indoorHum-outdoorHum_100_bin_indoorHum-outdoorHum_std done\n",
      "indoorHum-outdoorHum_100_bin_indoorHum-outdoorHum_sum done\n",
      "indoorHum-outdoorHum_100_bin_indoorHum-outdoorHum_skew done\n"
     ]
    },
    {
     "name": "stderr",
     "output_type": "stream",
     "text": [
      " 82%|████████████████████████████████████████████████████████████████▏             | 1555/1889 [00:36<00:08, 41.57it/s]"
     ]
    },
    {
     "name": "stdout",
     "output_type": "stream",
     "text": [
      "outdoorTemp_200_bin_outdoorTemp_median done\n",
      "outdoorTemp_200_bin_outdoorTemp_mean done\n",
      "outdoorTemp_200_bin_outdoorTemp_max done\n",
      "outdoorTemp_200_bin_outdoorTemp_min done\n",
      "outdoorTemp_200_bin_outdoorTemp_std done\n",
      "outdoorTemp_200_bin_outdoorTemp_sum done\n",
      "outdoorTemp_200_bin_outdoorTemp_skew done\n",
      "outdoorTemp_200_bin_outdoorHum_median done\n",
      "outdoorTemp_200_bin_outdoorHum_mean done\n"
     ]
    },
    {
     "name": "stderr",
     "output_type": "stream",
     "text": [
      "\r",
      " 83%|████████████████████████████████████████████████████████████████▍             | 1560/1889 [00:36<00:07, 42.16it/s]"
     ]
    },
    {
     "name": "stdout",
     "output_type": "stream",
     "text": [
      "outdoorTemp_200_bin_outdoorHum_max done\n",
      "outdoorTemp_200_bin_outdoorHum_min done\n",
      "outdoorTemp_200_bin_outdoorHum_std done\n",
      "outdoorTemp_200_bin_outdoorHum_sum done\n",
      "outdoorTemp_200_bin_outdoorHum_skew done\n",
      "outdoorTemp_200_bin_outdoorAtmo_median done\n",
      "outdoorTemp_200_bin_outdoorAtmo_mean done\n",
      "outdoorTemp_200_bin_outdoorAtmo_max done\n",
      "outdoorTemp_200_bin_outdoorAtmo_min done\n"
     ]
    },
    {
     "name": "stderr",
     "output_type": "stream",
     "text": [
      " 83%|████████████████████████████████████████████████████████████████▊             | 1570/1889 [00:37<00:07, 42.50it/s]"
     ]
    },
    {
     "name": "stdout",
     "output_type": "stream",
     "text": [
      "outdoorTemp_200_bin_outdoorAtmo_std done\n",
      "outdoorTemp_200_bin_outdoorAtmo_sum done\n",
      "outdoorTemp_200_bin_outdoorAtmo_skew done\n",
      "outdoorTemp_200_bin_indoorHum_median done\n",
      "outdoorTemp_200_bin_indoorHum_mean done\n",
      "outdoorTemp_200_bin_indoorHum_max done\n",
      "outdoorTemp_200_bin_indoorHum_min done\n",
      "outdoorTemp_200_bin_indoorHum_std done\n",
      "outdoorTemp_200_bin_indoorHum_sum done\n",
      "outdoorTemp_200_bin_indoorHum_skew done\n"
     ]
    },
    {
     "name": "stderr",
     "output_type": "stream",
     "text": [
      " 84%|█████████████████████████████████████████████████████████████████▏            | 1580/1889 [00:37<00:07, 41.82it/s]"
     ]
    },
    {
     "name": "stdout",
     "output_type": "stream",
     "text": [
      "outdoorTemp_200_bin_indoorAtmo_median done\n",
      "outdoorTemp_200_bin_indoorAtmo_mean done\n",
      "outdoorTemp_200_bin_indoorAtmo_max done\n",
      "outdoorTemp_200_bin_indoorAtmo_min done\n",
      "outdoorTemp_200_bin_indoorAtmo_std done\n",
      "outdoorTemp_200_bin_indoorAtmo_sum done\n",
      "outdoorTemp_200_bin_indoorAtmo_skew done\n",
      "outdoorTemp_200_bin_indoorAtmo-outdoorAtmo_median done\n",
      "outdoorTemp_200_bin_indoorAtmo-outdoorAtmo_mean done\n"
     ]
    },
    {
     "name": "stderr",
     "output_type": "stream",
     "text": [
      " 84%|█████████████████████████████████████████████████████████████████▋            | 1590/1889 [00:37<00:07, 41.27it/s]"
     ]
    },
    {
     "name": "stdout",
     "output_type": "stream",
     "text": [
      "outdoorTemp_200_bin_indoorAtmo-outdoorAtmo_max done\n",
      "outdoorTemp_200_bin_indoorAtmo-outdoorAtmo_min done\n",
      "outdoorTemp_200_bin_indoorAtmo-outdoorAtmo_std done\n",
      "outdoorTemp_200_bin_indoorAtmo-outdoorAtmo_sum done\n",
      "outdoorTemp_200_bin_indoorAtmo-outdoorAtmo_skew done\n",
      "outdoorTemp_200_bin_indoorHum-outdoorHum_median done\n",
      "outdoorTemp_200_bin_indoorHum-outdoorHum_mean done\n",
      "outdoorTemp_200_bin_indoorHum-outdoorHum_max done\n"
     ]
    },
    {
     "name": "stderr",
     "output_type": "stream",
     "text": [
      " 85%|██████████████████████████████████████████████████████████████████            | 1600/1889 [00:37<00:07, 40.94it/s]"
     ]
    },
    {
     "name": "stdout",
     "output_type": "stream",
     "text": [
      "outdoorTemp_200_bin_indoorHum-outdoorHum_min done\n",
      "outdoorTemp_200_bin_indoorHum-outdoorHum_std done\n",
      "outdoorTemp_200_bin_indoorHum-outdoorHum_sum done\n",
      "outdoorTemp_200_bin_indoorHum-outdoorHum_skew done\n",
      "outdoorHum_200_bin_outdoorTemp_median done\n",
      "outdoorHum_200_bin_outdoorTemp_mean done\n",
      "outdoorHum_200_bin_outdoorTemp_max done\n",
      "outdoorHum_200_bin_outdoorTemp_min done\n",
      "outdoorHum_200_bin_outdoorTemp_std done\n"
     ]
    },
    {
     "name": "stderr",
     "output_type": "stream",
     "text": [
      " 85%|██████████████████████████████████████████████████████████████████▍           | 1610/1889 [00:38<00:06, 42.03it/s]"
     ]
    },
    {
     "name": "stdout",
     "output_type": "stream",
     "text": [
      "outdoorHum_200_bin_outdoorTemp_sum done\n",
      "outdoorHum_200_bin_outdoorTemp_skew done\n",
      "outdoorHum_200_bin_outdoorHum_median done\n",
      "outdoorHum_200_bin_outdoorHum_mean done\n",
      "outdoorHum_200_bin_outdoorHum_max done\n",
      "outdoorHum_200_bin_outdoorHum_min done\n",
      "outdoorHum_200_bin_outdoorHum_std done\n",
      "outdoorHum_200_bin_outdoorHum_sum done\n",
      "outdoorHum_200_bin_outdoorHum_skew done\n",
      "outdoorHum_200_bin_outdoorAtmo_median done\n"
     ]
    },
    {
     "name": "stderr",
     "output_type": "stream",
     "text": [
      "\r",
      " 85%|██████████████████████████████████████████████████████████████████▋           | 1615/1889 [00:38<00:06, 41.38it/s]"
     ]
    },
    {
     "name": "stdout",
     "output_type": "stream",
     "text": [
      "outdoorHum_200_bin_outdoorAtmo_mean done\n",
      "outdoorHum_200_bin_outdoorAtmo_max done\n",
      "outdoorHum_200_bin_outdoorAtmo_min done\n",
      "outdoorHum_200_bin_outdoorAtmo_std done\n",
      "outdoorHum_200_bin_outdoorAtmo_sum done\n",
      "outdoorHum_200_bin_outdoorAtmo_skew done\n",
      "outdoorHum_200_bin_indoorHum_median done\n",
      "outdoorHum_200_bin_indoorHum_mean done\n",
      "outdoorHum_200_bin_indoorHum_max done\n"
     ]
    },
    {
     "name": "stderr",
     "output_type": "stream",
     "text": [
      " 86%|███████████████████████████████████████████████████████████████████           | 1625/1889 [00:38<00:06, 41.11it/s]"
     ]
    },
    {
     "name": "stdout",
     "output_type": "stream",
     "text": [
      "outdoorHum_200_bin_indoorHum_min done\n",
      "outdoorHum_200_bin_indoorHum_std done\n",
      "outdoorHum_200_bin_indoorHum_sum done\n",
      "outdoorHum_200_bin_indoorHum_skew done\n",
      "outdoorHum_200_bin_indoorAtmo_median done\n",
      "outdoorHum_200_bin_indoorAtmo_mean done\n",
      "outdoorHum_200_bin_indoorAtmo_max done\n",
      "outdoorHum_200_bin_indoorAtmo_min done\n",
      "outdoorHum_200_bin_indoorAtmo_std done\n"
     ]
    },
    {
     "name": "stderr",
     "output_type": "stream",
     "text": [
      " 87%|███████████████████████████████████████████████████████████████████▌          | 1635/1889 [00:38<00:06, 40.61it/s]"
     ]
    },
    {
     "name": "stdout",
     "output_type": "stream",
     "text": [
      "outdoorHum_200_bin_indoorAtmo_sum done\n",
      "outdoorHum_200_bin_indoorAtmo_skew done\n",
      "outdoorHum_200_bin_indoorAtmo-outdoorAtmo_median done\n",
      "outdoorHum_200_bin_indoorAtmo-outdoorAtmo_mean done\n",
      "outdoorHum_200_bin_indoorAtmo-outdoorAtmo_max done\n",
      "outdoorHum_200_bin_indoorAtmo-outdoorAtmo_min done\n",
      "outdoorHum_200_bin_indoorAtmo-outdoorAtmo_std done\n",
      "outdoorHum_200_bin_indoorAtmo-outdoorAtmo_sum done\n",
      "outdoorHum_200_bin_indoorAtmo-outdoorAtmo_skew done\n"
     ]
    },
    {
     "name": "stderr",
     "output_type": "stream",
     "text": [
      " 87%|███████████████████████████████████████████████████████████████████▉          | 1645/1889 [00:39<00:06, 40.55it/s]"
     ]
    },
    {
     "name": "stdout",
     "output_type": "stream",
     "text": [
      "outdoorHum_200_bin_indoorHum-outdoorHum_median done\n",
      "outdoorHum_200_bin_indoorHum-outdoorHum_mean done\n",
      "outdoorHum_200_bin_indoorHum-outdoorHum_max done\n",
      "outdoorHum_200_bin_indoorHum-outdoorHum_min done\n",
      "outdoorHum_200_bin_indoorHum-outdoorHum_std done\n",
      "outdoorHum_200_bin_indoorHum-outdoorHum_sum done\n",
      "outdoorHum_200_bin_indoorHum-outdoorHum_skew done\n",
      "outdoorAtmo_200_bin_outdoorTemp_median done\n",
      "outdoorAtmo_200_bin_outdoorTemp_mean done\n"
     ]
    },
    {
     "name": "stderr",
     "output_type": "stream",
     "text": [
      " 88%|████████████████████████████████████████████████████████████████████▎         | 1655/1889 [00:39<00:05, 41.18it/s]"
     ]
    },
    {
     "name": "stdout",
     "output_type": "stream",
     "text": [
      "outdoorAtmo_200_bin_outdoorTemp_max done\n",
      "outdoorAtmo_200_bin_outdoorTemp_min done\n",
      "outdoorAtmo_200_bin_outdoorTemp_std done\n",
      "outdoorAtmo_200_bin_outdoorTemp_sum done\n",
      "outdoorAtmo_200_bin_outdoorTemp_skew done\n",
      "outdoorAtmo_200_bin_outdoorHum_median done\n",
      "outdoorAtmo_200_bin_outdoorHum_mean done\n",
      "outdoorAtmo_200_bin_outdoorHum_max done\n",
      "outdoorAtmo_200_bin_outdoorHum_min done\n"
     ]
    },
    {
     "name": "stderr",
     "output_type": "stream",
     "text": [
      "\r",
      " 88%|████████████████████████████████████████████████████████████████████▌         | 1660/1889 [00:39<00:05, 40.85it/s]"
     ]
    },
    {
     "name": "stdout",
     "output_type": "stream",
     "text": [
      "outdoorAtmo_200_bin_outdoorHum_std done\n",
      "outdoorAtmo_200_bin_outdoorHum_sum done\n",
      "outdoorAtmo_200_bin_outdoorHum_skew done\n",
      "outdoorAtmo_200_bin_outdoorAtmo_median done\n",
      "outdoorAtmo_200_bin_outdoorAtmo_mean done\n",
      "outdoorAtmo_200_bin_outdoorAtmo_max done\n",
      "outdoorAtmo_200_bin_outdoorAtmo_min done\n",
      "outdoorAtmo_200_bin_outdoorAtmo_std done\n",
      "outdoorAtmo_200_bin_outdoorAtmo_sum done\n"
     ]
    },
    {
     "name": "stderr",
     "output_type": "stream",
     "text": [
      " 88%|████████████████████████████████████████████████████████████████████▉         | 1670/1889 [00:39<00:05, 42.07it/s]"
     ]
    },
    {
     "name": "stdout",
     "output_type": "stream",
     "text": [
      "outdoorAtmo_200_bin_outdoorAtmo_skew done\n",
      "outdoorAtmo_200_bin_indoorHum_median done\n",
      "outdoorAtmo_200_bin_indoorHum_mean done\n",
      "outdoorAtmo_200_bin_indoorHum_max done\n",
      "outdoorAtmo_200_bin_indoorHum_min done\n",
      "outdoorAtmo_200_bin_indoorHum_std done\n",
      "outdoorAtmo_200_bin_indoorHum_sum done\n",
      "outdoorAtmo_200_bin_indoorHum_skew done\n",
      "outdoorAtmo_200_bin_indoorAtmo_median done\n"
     ]
    },
    {
     "name": "stderr",
     "output_type": "stream",
     "text": [
      " 89%|█████████████████████████████████████████████████████████████████████▎        | 1680/1889 [00:39<00:05, 41.42it/s]"
     ]
    },
    {
     "name": "stdout",
     "output_type": "stream",
     "text": [
      "outdoorAtmo_200_bin_indoorAtmo_mean done\n",
      "outdoorAtmo_200_bin_indoorAtmo_max done\n",
      "outdoorAtmo_200_bin_indoorAtmo_min done\n",
      "outdoorAtmo_200_bin_indoorAtmo_std done\n",
      "outdoorAtmo_200_bin_indoorAtmo_sum done\n",
      "outdoorAtmo_200_bin_indoorAtmo_skew done\n",
      "outdoorAtmo_200_bin_indoorAtmo-outdoorAtmo_median done\n",
      "outdoorAtmo_200_bin_indoorAtmo-outdoorAtmo_mean done\n",
      "outdoorAtmo_200_bin_indoorAtmo-outdoorAtmo_max done\n"
     ]
    },
    {
     "name": "stderr",
     "output_type": "stream",
     "text": [
      " 89%|█████████████████████████████████████████████████████████████████████▊        | 1690/1889 [00:40<00:04, 41.01it/s]"
     ]
    },
    {
     "name": "stdout",
     "output_type": "stream",
     "text": [
      "outdoorAtmo_200_bin_indoorAtmo-outdoorAtmo_min done\n",
      "outdoorAtmo_200_bin_indoorAtmo-outdoorAtmo_std done\n",
      "outdoorAtmo_200_bin_indoorAtmo-outdoorAtmo_sum done\n",
      "outdoorAtmo_200_bin_indoorAtmo-outdoorAtmo_skew done\n",
      "outdoorAtmo_200_bin_indoorHum-outdoorHum_median done\n",
      "outdoorAtmo_200_bin_indoorHum-outdoorHum_mean done\n",
      "outdoorAtmo_200_bin_indoorHum-outdoorHum_max done\n",
      "outdoorAtmo_200_bin_indoorHum-outdoorHum_min done\n",
      "outdoorAtmo_200_bin_indoorHum-outdoorHum_std done\n"
     ]
    },
    {
     "name": "stderr",
     "output_type": "stream",
     "text": [
      " 90%|██████████████████████████████████████████████████████████████████████▏       | 1700/1889 [00:40<00:04, 40.46it/s]"
     ]
    },
    {
     "name": "stdout",
     "output_type": "stream",
     "text": [
      "outdoorAtmo_200_bin_indoorHum-outdoorHum_sum done\n",
      "outdoorAtmo_200_bin_indoorHum-outdoorHum_skew done\n",
      "indoorHum_200_bin_outdoorTemp_median done\n",
      "indoorHum_200_bin_outdoorTemp_mean done\n",
      "indoorHum_200_bin_outdoorTemp_max done\n",
      "indoorHum_200_bin_outdoorTemp_min done\n",
      "indoorHum_200_bin_outdoorTemp_std done\n",
      "indoorHum_200_bin_outdoorTemp_sum done\n",
      "indoorHum_200_bin_outdoorTemp_skew done\n"
     ]
    },
    {
     "name": "stderr",
     "output_type": "stream",
     "text": [
      "\r",
      " 90%|██████████████████████████████████████████████████████████████████████▍       | 1705/1889 [00:40<00:04, 40.42it/s]"
     ]
    },
    {
     "name": "stdout",
     "output_type": "stream",
     "text": [
      "indoorHum_200_bin_outdoorHum_median done\n",
      "indoorHum_200_bin_outdoorHum_mean done\n",
      "indoorHum_200_bin_outdoorHum_max done\n",
      "indoorHum_200_bin_outdoorHum_min done\n",
      "indoorHum_200_bin_outdoorHum_std done\n",
      "indoorHum_200_bin_outdoorHum_sum done\n",
      "indoorHum_200_bin_outdoorHum_skew done\n",
      "indoorHum_200_bin_outdoorAtmo_median done\n",
      "indoorHum_200_bin_outdoorAtmo_mean done\n"
     ]
    },
    {
     "name": "stderr",
     "output_type": "stream",
     "text": [
      " 91%|██████████████████████████████████████████████████████████████████████▊       | 1715/1889 [00:40<00:04, 40.37it/s]"
     ]
    },
    {
     "name": "stdout",
     "output_type": "stream",
     "text": [
      "indoorHum_200_bin_outdoorAtmo_max done\n",
      "indoorHum_200_bin_outdoorAtmo_min done\n",
      "indoorHum_200_bin_outdoorAtmo_std done\n",
      "indoorHum_200_bin_outdoorAtmo_sum done\n",
      "indoorHum_200_bin_outdoorAtmo_skew done\n",
      "indoorHum_200_bin_indoorHum_median done\n",
      "indoorHum_200_bin_indoorHum_mean done\n",
      "indoorHum_200_bin_indoorHum_max done\n",
      "indoorHum_200_bin_indoorHum_min done\n"
     ]
    },
    {
     "name": "stderr",
     "output_type": "stream",
     "text": [
      " 91%|███████████████████████████████████████████████████████████████████████▏      | 1725/1889 [00:41<00:03, 41.70it/s]"
     ]
    },
    {
     "name": "stdout",
     "output_type": "stream",
     "text": [
      "indoorHum_200_bin_indoorHum_std done\n",
      "indoorHum_200_bin_indoorHum_sum done\n",
      "indoorHum_200_bin_indoorHum_skew done\n",
      "indoorHum_200_bin_indoorAtmo_median done\n",
      "indoorHum_200_bin_indoorAtmo_mean done\n",
      "indoorHum_200_bin_indoorAtmo_max done\n",
      "indoorHum_200_bin_indoorAtmo_min done\n",
      "indoorHum_200_bin_indoorAtmo_std done\n",
      "indoorHum_200_bin_indoorAtmo_sum done\n"
     ]
    },
    {
     "name": "stderr",
     "output_type": "stream",
     "text": [
      " 92%|███████████████████████████████████████████████████████████████████████▋      | 1735/1889 [00:41<00:03, 41.07it/s]"
     ]
    },
    {
     "name": "stdout",
     "output_type": "stream",
     "text": [
      "indoorHum_200_bin_indoorAtmo_skew done\n",
      "indoorHum_200_bin_indoorAtmo-outdoorAtmo_median done\n",
      "indoorHum_200_bin_indoorAtmo-outdoorAtmo_mean done\n",
      "indoorHum_200_bin_indoorAtmo-outdoorAtmo_max done\n",
      "indoorHum_200_bin_indoorAtmo-outdoorAtmo_min done\n",
      "indoorHum_200_bin_indoorAtmo-outdoorAtmo_std done\n",
      "indoorHum_200_bin_indoorAtmo-outdoorAtmo_sum done\n",
      "indoorHum_200_bin_indoorAtmo-outdoorAtmo_skew done\n"
     ]
    },
    {
     "name": "stderr",
     "output_type": "stream",
     "text": [
      "\r",
      " 92%|███████████████████████████████████████████████████████████████████████▊      | 1740/1889 [00:41<00:03, 40.97it/s]"
     ]
    },
    {
     "name": "stdout",
     "output_type": "stream",
     "text": [
      "indoorHum_200_bin_indoorHum-outdoorHum_median done\n",
      "indoorHum_200_bin_indoorHum-outdoorHum_mean done\n",
      "indoorHum_200_bin_indoorHum-outdoorHum_max done\n",
      "indoorHum_200_bin_indoorHum-outdoorHum_min done\n",
      "indoorHum_200_bin_indoorHum-outdoorHum_std done\n",
      "indoorHum_200_bin_indoorHum-outdoorHum_sum done\n",
      "indoorHum_200_bin_indoorHum-outdoorHum_skew done\n",
      "indoorAtmo_200_bin_outdoorTemp_median done\n",
      "indoorAtmo_200_bin_outdoorTemp_mean done\n"
     ]
    },
    {
     "name": "stderr",
     "output_type": "stream",
     "text": [
      " 93%|████████████████████████████████████████████████████████████████████████▎     | 1750/1889 [00:41<00:03, 41.09it/s]"
     ]
    },
    {
     "name": "stdout",
     "output_type": "stream",
     "text": [
      "indoorAtmo_200_bin_outdoorTemp_max done\n",
      "indoorAtmo_200_bin_outdoorTemp_min done\n",
      "indoorAtmo_200_bin_outdoorTemp_std done\n",
      "indoorAtmo_200_bin_outdoorTemp_sum done\n",
      "indoorAtmo_200_bin_outdoorTemp_skew done\n",
      "indoorAtmo_200_bin_outdoorHum_median done\n",
      "indoorAtmo_200_bin_outdoorHum_mean done\n",
      "indoorAtmo_200_bin_outdoorHum_max done\n",
      "indoorAtmo_200_bin_outdoorHum_min done\n"
     ]
    },
    {
     "name": "stderr",
     "output_type": "stream",
     "text": [
      " 93%|████████████████████████████████████████████████████████████████████████▋     | 1760/1889 [00:41<00:03, 41.39it/s]"
     ]
    },
    {
     "name": "stdout",
     "output_type": "stream",
     "text": [
      "indoorAtmo_200_bin_outdoorHum_std done\n",
      "indoorAtmo_200_bin_outdoorHum_sum done\n",
      "indoorAtmo_200_bin_outdoorHum_skew done\n",
      "indoorAtmo_200_bin_outdoorAtmo_median done\n",
      "indoorAtmo_200_bin_outdoorAtmo_mean done\n",
      "indoorAtmo_200_bin_outdoorAtmo_max done\n",
      "indoorAtmo_200_bin_outdoorAtmo_min done\n",
      "indoorAtmo_200_bin_outdoorAtmo_std done\n",
      "indoorAtmo_200_bin_outdoorAtmo_sum done\n"
     ]
    },
    {
     "name": "stderr",
     "output_type": "stream",
     "text": [
      " 94%|█████████████████████████████████████████████████████████████████████████     | 1770/1889 [00:42<00:02, 42.06it/s]"
     ]
    },
    {
     "name": "stdout",
     "output_type": "stream",
     "text": [
      "indoorAtmo_200_bin_outdoorAtmo_skew done\n",
      "indoorAtmo_200_bin_indoorHum_median done\n",
      "indoorAtmo_200_bin_indoorHum_mean done\n",
      "indoorAtmo_200_bin_indoorHum_max done\n",
      "indoorAtmo_200_bin_indoorHum_min done\n",
      "indoorAtmo_200_bin_indoorHum_std done\n",
      "indoorAtmo_200_bin_indoorHum_sum done\n",
      "indoorAtmo_200_bin_indoorHum_skew done\n",
      "indoorAtmo_200_bin_indoorAtmo_median done\n"
     ]
    },
    {
     "name": "stderr",
     "output_type": "stream",
     "text": [
      " 94%|█████████████████████████████████████████████████████████████████████████▍    | 1780/1889 [00:42<00:02, 41.27it/s]"
     ]
    },
    {
     "name": "stdout",
     "output_type": "stream",
     "text": [
      "indoorAtmo_200_bin_indoorAtmo_mean done\n",
      "indoorAtmo_200_bin_indoorAtmo_max done\n",
      "indoorAtmo_200_bin_indoorAtmo_min done\n",
      "indoorAtmo_200_bin_indoorAtmo_std done\n",
      "indoorAtmo_200_bin_indoorAtmo_sum done\n",
      "indoorAtmo_200_bin_indoorAtmo_skew done\n",
      "indoorAtmo_200_bin_indoorAtmo-outdoorAtmo_median done\n",
      "indoorAtmo_200_bin_indoorAtmo-outdoorAtmo_mean done\n",
      "indoorAtmo_200_bin_indoorAtmo-outdoorAtmo_max done\n"
     ]
    },
    {
     "name": "stderr",
     "output_type": "stream",
     "text": [
      "\r",
      " 94%|█████████████████████████████████████████████████████████████████████████▋    | 1785/1889 [00:42<00:02, 40.61it/s]"
     ]
    },
    {
     "name": "stdout",
     "output_type": "stream",
     "text": [
      "indoorAtmo_200_bin_indoorAtmo-outdoorAtmo_min done\n",
      "indoorAtmo_200_bin_indoorAtmo-outdoorAtmo_std done\n",
      "indoorAtmo_200_bin_indoorAtmo-outdoorAtmo_sum done\n",
      "indoorAtmo_200_bin_indoorAtmo-outdoorAtmo_skew done\n",
      "indoorAtmo_200_bin_indoorHum-outdoorHum_median done\n",
      "indoorAtmo_200_bin_indoorHum-outdoorHum_mean done\n",
      "indoorAtmo_200_bin_indoorHum-outdoorHum_max done\n",
      "indoorAtmo_200_bin_indoorHum-outdoorHum_min done\n",
      "indoorAtmo_200_bin_indoorHum-outdoorHum_std done\n"
     ]
    },
    {
     "name": "stderr",
     "output_type": "stream",
     "text": [
      " 95%|██████████████████████████████████████████████████████████████████████████    | 1795/1889 [00:42<00:02, 42.66it/s]"
     ]
    },
    {
     "name": "stdout",
     "output_type": "stream",
     "text": [
      "indoorAtmo_200_bin_indoorHum-outdoorHum_sum done\n",
      "indoorAtmo_200_bin_indoorHum-outdoorHum_skew done\n",
      "indoorAtmo-outdoorAtmo_200_bin_outdoorTemp_median done\n",
      "indoorAtmo-outdoorAtmo_200_bin_outdoorTemp_mean done\n",
      "indoorAtmo-outdoorAtmo_200_bin_outdoorTemp_max done\n",
      "indoorAtmo-outdoorAtmo_200_bin_outdoorTemp_min done\n",
      "indoorAtmo-outdoorAtmo_200_bin_outdoorTemp_std done\n",
      "indoorAtmo-outdoorAtmo_200_bin_outdoorTemp_sum done\n",
      "indoorAtmo-outdoorAtmo_200_bin_outdoorTemp_skew done\n",
      "indoorAtmo-outdoorAtmo_200_bin_outdoorHum_median"
     ]
    },
    {
     "name": "stderr",
     "output_type": "stream",
     "text": [
      " 96%|██████████████████████████████████████████████████████████████████████████▌   | 1805/1889 [00:42<00:01, 44.84it/s]"
     ]
    },
    {
     "name": "stdout",
     "output_type": "stream",
     "text": [
      " done\n",
      "indoorAtmo-outdoorAtmo_200_bin_outdoorHum_mean done\n",
      "indoorAtmo-outdoorAtmo_200_bin_outdoorHum_max done\n",
      "indoorAtmo-outdoorAtmo_200_bin_outdoorHum_min done\n",
      "indoorAtmo-outdoorAtmo_200_bin_outdoorHum_std done\n",
      "indoorAtmo-outdoorAtmo_200_bin_outdoorHum_sum done\n",
      "indoorAtmo-outdoorAtmo_200_bin_outdoorHum_skew done\n",
      "indoorAtmo-outdoorAtmo_200_bin_outdoorAtmo_median done\n",
      "indoorAtmo-outdoorAtmo_200_bin_outdoorAtmo_mean done\n"
     ]
    },
    {
     "name": "stderr",
     "output_type": "stream",
     "text": [
      " 96%|██████████████████████████████████████████████████████████████████████████▉   | 1815/1889 [00:43<00:01, 45.42it/s]"
     ]
    },
    {
     "name": "stdout",
     "output_type": "stream",
     "text": [
      "indoorAtmo-outdoorAtmo_200_bin_outdoorAtmo_max done\n",
      "indoorAtmo-outdoorAtmo_200_bin_outdoorAtmo_min done\n",
      "indoorAtmo-outdoorAtmo_200_bin_outdoorAtmo_std done\n",
      "indoorAtmo-outdoorAtmo_200_bin_outdoorAtmo_sum done\n",
      "indoorAtmo-outdoorAtmo_200_bin_outdoorAtmo_skew done\n",
      "indoorAtmo-outdoorAtmo_200_bin_indoorHum_median done\n",
      "indoorAtmo-outdoorAtmo_200_bin_indoorHum_mean done\n",
      "indoorAtmo-outdoorAtmo_200_bin_indoorHum_max done\n",
      "indoorAtmo-outdoorAtmo_200_bin_indoorHum_min done\n",
      "indoorAtmo-outdoorAtmo_200_bin_indoorHum_std done\n"
     ]
    },
    {
     "name": "stderr",
     "output_type": "stream",
     "text": [
      " 97%|███████████████████████████████████████████████████████████████████████████▍  | 1826/1889 [00:43<00:01, 45.77it/s]"
     ]
    },
    {
     "name": "stdout",
     "output_type": "stream",
     "text": [
      "indoorAtmo-outdoorAtmo_200_bin_indoorHum_sum done\n",
      "indoorAtmo-outdoorAtmo_200_bin_indoorHum_skew done\n",
      "indoorAtmo-outdoorAtmo_200_bin_indoorAtmo_median done\n",
      "indoorAtmo-outdoorAtmo_200_bin_indoorAtmo_mean done\n",
      "indoorAtmo-outdoorAtmo_200_bin_indoorAtmo_max done\n",
      "indoorAtmo-outdoorAtmo_200_bin_indoorAtmo_min done\n",
      "indoorAtmo-outdoorAtmo_200_bin_indoorAtmo_std done\n",
      "indoorAtmo-outdoorAtmo_200_bin_indoorAtmo_sum done\n",
      "indoorAtmo-outdoorAtmo_200_bin_indoorAtmo_skew done\n"
     ]
    },
    {
     "name": "stderr",
     "output_type": "stream",
     "text": [
      "\r",
      " 97%|███████████████████████████████████████████████████████████████████████████▋  | 1832/1889 [00:43<00:01, 46.65it/s]"
     ]
    },
    {
     "name": "stdout",
     "output_type": "stream",
     "text": [
      "indoorAtmo-outdoorAtmo_200_bin_indoorAtmo-outdoorAtmo_median done\n",
      "indoorAtmo-outdoorAtmo_200_bin_indoorAtmo-outdoorAtmo_mean done\n",
      "indoorAtmo-outdoorAtmo_200_bin_indoorAtmo-outdoorAtmo_max done\n",
      "indoorAtmo-outdoorAtmo_200_bin_indoorAtmo-outdoorAtmo_min done\n",
      "indoorAtmo-outdoorAtmo_200_bin_indoorAtmo-outdoorAtmo_std done\n",
      "indoorAtmo-outdoorAtmo_200_bin_indoorAtmo-outdoorAtmo_sum done\n",
      "indoorAtmo-outdoorAtmo_200_bin_indoorAtmo-outdoorAtmo_skew done\n",
      "indoorAtmo-outdoorAtmo_200_bin_indoorHum-outdoorHum_median done\n",
      "indoorAtmo-outdoorAtmo_200_bin_indoorHum-outdoorHum_mean done\n",
      "indoorAtmo-outdoorAtmo_200_bin_indoorHum-outdoorHum_max done\n"
     ]
    },
    {
     "name": "stderr",
     "output_type": "stream",
     "text": [
      " 98%|████████████████████████████████████████████████████████████████████████████  | 1842/1889 [00:43<00:01, 46.38it/s]"
     ]
    },
    {
     "name": "stdout",
     "output_type": "stream",
     "text": [
      "indoorAtmo-outdoorAtmo_200_bin_indoorHum-outdoorHum_min done\n",
      "indoorAtmo-outdoorAtmo_200_bin_indoorHum-outdoorHum_std done\n",
      "indoorAtmo-outdoorAtmo_200_bin_indoorHum-outdoorHum_sum done\n",
      "indoorAtmo-outdoorAtmo_200_bin_indoorHum-outdoorHum_skew done\n",
      "indoorHum-outdoorHum_200_bin_outdoorTemp_median done\n",
      "indoorHum-outdoorHum_200_bin_outdoorTemp_mean done\n",
      "indoorHum-outdoorHum_200_bin_outdoorTemp_max done\n",
      "indoorHum-outdoorHum_200_bin_outdoorTemp_min done\n",
      "indoorHum-outdoorHum_200_bin_outdoorTemp_std done\n"
     ]
    },
    {
     "name": "stderr",
     "output_type": "stream",
     "text": [
      " 98%|████████████████████████████████████████████████████████████████████████████▍ | 1852/1889 [00:43<00:00, 42.88it/s]"
     ]
    },
    {
     "name": "stdout",
     "output_type": "stream",
     "text": [
      "indoorHum-outdoorHum_200_bin_outdoorTemp_sum done\n",
      "indoorHum-outdoorHum_200_bin_outdoorTemp_skew done\n",
      "indoorHum-outdoorHum_200_bin_outdoorHum_median done\n",
      "indoorHum-outdoorHum_200_bin_outdoorHum_mean done\n",
      "indoorHum-outdoorHum_200_bin_outdoorHum_max done\n",
      "indoorHum-outdoorHum_200_bin_outdoorHum_min done\n",
      "indoorHum-outdoorHum_200_bin_outdoorHum_std done\n",
      "indoorHum-outdoorHum_200_bin_outdoorHum_sum done\n",
      "indoorHum-outdoorHum_200_bin_outdoorHum_skew done\n"
     ]
    },
    {
     "name": "stderr",
     "output_type": "stream",
     "text": [
      " 99%|████████████████████████████████████████████████████████████████████████████▉ | 1862/1889 [00:44<00:00, 42.68it/s]"
     ]
    },
    {
     "name": "stdout",
     "output_type": "stream",
     "text": [
      "indoorHum-outdoorHum_200_bin_outdoorAtmo_median done\n",
      "indoorHum-outdoorHum_200_bin_outdoorAtmo_mean done\n",
      "indoorHum-outdoorHum_200_bin_outdoorAtmo_max done\n",
      "indoorHum-outdoorHum_200_bin_outdoorAtmo_min done\n",
      "indoorHum-outdoorHum_200_bin_outdoorAtmo_std done\n",
      "indoorHum-outdoorHum_200_bin_outdoorAtmo_sum done\n",
      "indoorHum-outdoorHum_200_bin_outdoorAtmo_skew done\n",
      "indoorHum-outdoorHum_200_bin_indoorHum_median done\n",
      "indoorHum-outdoorHum_200_bin_indoorHum_mean done\n"
     ]
    },
    {
     "name": "stderr",
     "output_type": "stream",
     "text": [
      " 99%|█████████████████████████████████████████████████████████████████████████████▎| 1872/1889 [00:44<00:00, 41.50it/s]"
     ]
    },
    {
     "name": "stdout",
     "output_type": "stream",
     "text": [
      "indoorHum-outdoorHum_200_bin_indoorHum_max done\n",
      "indoorHum-outdoorHum_200_bin_indoorHum_min done\n",
      "indoorHum-outdoorHum_200_bin_indoorHum_std done\n",
      "indoorHum-outdoorHum_200_bin_indoorHum_sum done\n",
      "indoorHum-outdoorHum_200_bin_indoorHum_skew done\n",
      "indoorHum-outdoorHum_200_bin_indoorAtmo_median done\n",
      "indoorHum-outdoorHum_200_bin_indoorAtmo_mean done\n",
      "indoorHum-outdoorHum_200_bin_indoorAtmo_max done\n",
      "indoorHum-outdoorHum_200_bin_indoorAtmo_min done\n"
     ]
    },
    {
     "name": "stderr",
     "output_type": "stream",
     "text": [
      "\r",
      " 99%|█████████████████████████████████████████████████████████████████████████████▌| 1877/1889 [00:44<00:00, 40.97it/s]"
     ]
    },
    {
     "name": "stdout",
     "output_type": "stream",
     "text": [
      "indoorHum-outdoorHum_200_bin_indoorAtmo_std done\n",
      "indoorHum-outdoorHum_200_bin_indoorAtmo_sum done\n",
      "indoorHum-outdoorHum_200_bin_indoorAtmo_skew done\n",
      "indoorHum-outdoorHum_200_bin_indoorAtmo-outdoorAtmo_median done\n",
      "indoorHum-outdoorHum_200_bin_indoorAtmo-outdoorAtmo_mean done\n",
      "indoorHum-outdoorHum_200_bin_indoorAtmo-outdoorAtmo_max done\n",
      "indoorHum-outdoorHum_200_bin_indoorAtmo-outdoorAtmo_min done\n",
      "indoorHum-outdoorHum_200_bin_indoorAtmo-outdoorAtmo_std done\n",
      "indoorHum-outdoorHum_200_bin_indoorAtmo-outdoorAtmo_sum done\n"
     ]
    },
    {
     "name": "stderr",
     "output_type": "stream",
     "text": [
      "100%|██████████████████████████████████████████████████████████████████████████████| 1889/1889 [00:44<00:00, 42.11it/s]"
     ]
    },
    {
     "name": "stdout",
     "output_type": "stream",
     "text": [
      "indoorHum-outdoorHum_200_bin_indoorAtmo-outdoorAtmo_skew done\n",
      "indoorHum-outdoorHum_200_bin_indoorHum-outdoorHum_median done\n",
      "indoorHum-outdoorHum_200_bin_indoorHum-outdoorHum_mean done\n",
      "indoorHum-outdoorHum_200_bin_indoorHum-outdoorHum_max done\n",
      "indoorHum-outdoorHum_200_bin_indoorHum-outdoorHum_min done\n",
      "indoorHum-outdoorHum_200_bin_indoorHum-outdoorHum_std done\n",
      "indoorHum-outdoorHum_200_bin_indoorHum-outdoorHum_sum done\n",
      "indoorHum-outdoorHum_200_bin_indoorHum-outdoorHum_skew done\n"
     ]
    },
    {
     "name": "stderr",
     "output_type": "stream",
     "text": [
      "\n"
     ]
    }
   ],
   "source": [
    "psi_res, psi_dict = get_psi(x_train, x_test, features)\n",
    "features = list(psi_res[psi_res['PSI'] <= 0.2]['变量名'].values) + ['outdoorTemp']"
   ]
  },
  {
   "cell_type": "code",
   "execution_count": 23,
   "metadata": {
    "ExecuteTime": {
     "end_time": "2020-07-30T09:40:12.736985Z",
     "start_time": "2020-07-30T09:40:12.605017Z"
    }
   },
   "outputs": [],
   "source": [
    "x_train = train[features]\n",
    "x_test = test[features]"
   ]
  },
  {
   "cell_type": "code",
   "execution_count": 24,
   "metadata": {
    "ExecuteTime": {
     "end_time": "2020-07-30T10:33:53.741492Z",
     "start_time": "2020-07-30T09:40:12.737946Z"
    }
   },
   "outputs": [
    {
     "name": "stdout",
     "output_type": "stream",
     "text": [
      "[0]\ttrain-mae:0.63988\teval-mae:0.33539\n",
      "Multiple eval metrics have been passed: 'eval-mae' will be used for early stopping.\n",
      "\n",
      "Will train until eval-mae hasn't improved in 1000 rounds.\n",
      "[500]\ttrain-mae:0.39941\teval-mae:0.24970\n",
      "[1000]\ttrain-mae:0.25506\teval-mae:0.20759\n",
      "[1500]\ttrain-mae:0.16992\teval-mae:0.18802\n",
      "[2000]\ttrain-mae:0.12088\teval-mae:0.17943\n",
      "[2500]\ttrain-mae:0.09320\teval-mae:0.17522\n",
      "[3000]\ttrain-mae:0.07741\teval-mae:0.17304\n",
      "[3500]\ttrain-mae:0.06826\teval-mae:0.17201\n",
      "[4000]\ttrain-mae:0.06262\teval-mae:0.17141\n",
      "[4500]\ttrain-mae:0.05884\teval-mae:0.17111\n",
      "[5000]\ttrain-mae:0.05619\teval-mae:0.17086\n",
      "[5500]\ttrain-mae:0.05431\teval-mae:0.17063\n",
      "[6000]\ttrain-mae:0.05286\teval-mae:0.17053\n",
      "[6500]\ttrain-mae:0.05167\teval-mae:0.17042\n",
      "[7000]\ttrain-mae:0.05061\teval-mae:0.17037\n",
      "[7500]\ttrain-mae:0.04965\teval-mae:0.17034\n",
      "[8000]\ttrain-mae:0.04880\teval-mae:0.17030\n",
      "[8500]\ttrain-mae:0.04796\teval-mae:0.17029\n",
      "[9000]\ttrain-mae:0.04715\teval-mae:0.17027\n",
      "[9500]\ttrain-mae:0.04635\teval-mae:0.17028\n",
      "Stopping. Best iteration:\n",
      "[8830]\ttrain-mae:0.04742\teval-mae:0.17025\n",
      "\n"
     ]
    }
   ],
   "source": [
    "nums = int(x_train.shape[0] * 0.8)\n",
    "\n",
    "trn_x, trn_y, val_x, val_y = x_train[:nums], y_train[:nums], x_train[nums:], y_train[nums:]\n",
    "\n",
    "train_matrix = xgb.DMatrix(trn_x, label=trn_y, missing=np.nan)\n",
    "valid_matrix = xgb.DMatrix(val_x, label=val_y, missing=np.nan)\n",
    "test_matrix = xgb.DMatrix(x_test, label=val_y, missing=np.nan)\n",
    "params = {\n",
    "    'booster': 'gbtree',\n",
    "    'eval_metric': 'mae',\n",
    "    'min_child_weight': 5,\n",
    "    'max_depth': 8,\n",
    "    'subsample': 0.5,\n",
    "    'colsample_bytree': 0.5,\n",
    "    'eta': 0.001,\n",
    "    'seed': 2020,\n",
    "    'nthread': 36,\n",
    "    'silent': True,\n",
    "}\n",
    "\n",
    "watchlist = [(train_matrix, 'train'), (valid_matrix, 'eval')]\n",
    "\n",
    "model = xgb.train(params,\n",
    "                  train_matrix,\n",
    "                  num_boost_round=50000,\n",
    "                  evals=watchlist,\n",
    "                  verbose_eval=500,\n",
    "                  early_stopping_rounds=1000)\n",
    "val_pred = model.predict(valid_matrix, ntree_limit=model.best_ntree_limit).reshape(-1, 1)\n",
    "test_pred = model.predict(test_matrix, ntree_limit=model.best_ntree_limit).reshape(-1, 1)"
   ]
  },
  {
   "cell_type": "code",
   "execution_count": 25,
   "metadata": {
    "ExecuteTime": {
     "end_time": "2020-07-30T10:33:53.759983Z",
     "start_time": "2020-07-30T10:33:53.743994Z"
    }
   },
   "outputs": [],
   "source": [
    "sub[\"temperature\"] = test_pred[:, 0] + test['outdoorTemp'].values\n",
    "sub.to_csv('../sub/sub_temp.csv', index=False)"
   ]
  }
 ],
 "metadata": {
  "kernelspec": {
   "display_name": "Python 3",
   "language": "python",
   "name": "python3"
  },
  "language_info": {
   "codemirror_mode": {
    "name": "ipython",
    "version": 3
   },
   "file_extension": ".py",
   "mimetype": "text/x-python",
   "name": "python",
   "nbconvert_exporter": "python",
   "pygments_lexer": "ipython3",
   "version": "3.7.3"
  },
  "toc": {
   "base_numbering": 1,
   "nav_menu": {},
   "number_sections": true,
   "sideBar": true,
   "skip_h1_title": false,
   "title_cell": "Table of Contents",
   "title_sidebar": "Contents",
   "toc_cell": false,
   "toc_position": {},
   "toc_section_display": true,
   "toc_window_display": false
  },
  "varInspector": {
   "cols": {
    "lenName": 16,
    "lenType": 16,
    "lenVar": 40
   },
   "kernels_config": {
    "python": {
     "delete_cmd_postfix": "",
     "delete_cmd_prefix": "del ",
     "library": "var_list.py",
     "varRefreshCmd": "print(var_dic_list())"
    },
    "r": {
     "delete_cmd_postfix": ") ",
     "delete_cmd_prefix": "rm(",
     "library": "var_list.r",
     "varRefreshCmd": "cat(var_dic_list()) "
    }
   },
   "types_to_exclude": [
    "module",
    "function",
    "builtin_function_or_method",
    "instance",
    "_Feature"
   ],
   "window_display": false
  }
 },
 "nbformat": 4,
 "nbformat_minor": 4
}
