{
 "cells": [
  {
   "cell_type": "code",
   "execution_count": 1,
   "metadata": {
    "ExecuteTime": {
     "end_time": "2020-08-17T02:05:02.647075Z",
     "start_time": "2020-08-17T02:05:00.986919Z"
    }
   },
   "outputs": [],
   "source": [
    "import numpy as np\n",
    "import pandas as pd\n",
    "from datetime import datetime\n",
    "import os\n",
    "import gc\n",
    "import xgboost as xgb\n",
    "import math\n",
    "from joblib import Parallel, delayed\n",
    "\n",
    "from tqdm import tqdm\n",
    "from sklearn.model_selection import StratifiedKFold, KFold\n",
    "from sklearn.metrics import mean_absolute_error, mean_squared_error\n",
    "import matplotlib.pyplot as plt\n",
    "import time\n",
    "import warnings\n",
    "\n",
    "warnings.filterwarnings('ignore')\n",
    "\n",
    "pd.set_option('max_columns', None)\n",
    "pd.set_option('max_rows', None)"
   ]
  },
  {
   "cell_type": "code",
   "execution_count": 2,
   "metadata": {
    "ExecuteTime": {
     "end_time": "2020-08-17T02:05:02.654057Z",
     "start_time": "2020-08-17T02:05:02.648072Z"
    }
   },
   "outputs": [],
   "source": [
    "def correlation(df, threshold=0.98):\n",
    "    \"\"\"\n",
    "    特征相关性计算\n",
    "    @param df: \n",
    "    @param threshold: \n",
    "    @return: \n",
    "    \"\"\"\n",
    "    col_corr = set()\n",
    "    corr_matrix = df.corr()\n",
    "    for i in range(len(corr_matrix.columns)):\n",
    "        for j in range(i):\n",
    "            if abs(corr_matrix.iloc[i, j]) > threshold:\n",
    "                colName = corr_matrix.columns[i]\n",
    "                col_corr.add(colName)\n",
    "    return col_corr"
   ]
  },
  {
   "cell_type": "code",
   "execution_count": 3,
   "metadata": {
    "ExecuteTime": {
     "end_time": "2020-08-17T02:05:03.170878Z",
     "start_time": "2020-08-17T02:05:02.656050Z"
    }
   },
   "outputs": [
    {
     "data": {
      "text/plain": [
       "11"
      ]
     },
     "execution_count": 3,
     "metadata": {},
     "output_type": "execute_result"
    }
   ],
   "source": [
    "# train_df = pd.read_hdf('../input/train.h5')\n",
    "test_df = pd.read_hdf('../input/test.h5')\n",
    "sub = pd.DataFrame(test_df['time'])\n",
    "gc.collect()"
   ]
  },
  {
   "cell_type": "code",
   "execution_count": 4,
   "metadata": {
    "ExecuteTime": {
     "end_time": "2020-08-17T02:05:03.174866Z",
     "start_time": "2020-08-17T02:05:03.171874Z"
    }
   },
   "outputs": [],
   "source": [
    "# train_df = train_df[train_df['temperature'].notnull()]\n",
    "# train_df = train_df.fillna(method='bfill')\n",
    "# test_df = test_df.fillna(method='bfill')\n",
    "# gc.collect()"
   ]
  },
  {
   "cell_type": "code",
   "execution_count": 5,
   "metadata": {
    "ExecuteTime": {
     "end_time": "2020-08-17T02:05:03.189846Z",
     "start_time": "2020-08-17T02:05:03.176385Z"
    }
   },
   "outputs": [],
   "source": [
    "# train_df.columns = ['time', 'year', 'month', 'day', 'hour', 'min', 'sec', 'outdoorTemp', 'outdoorHum', 'outdoorAtmo',\n",
    "#                     'indoorHum', 'indoorAtmo', 'temperature']\n",
    "test_df.columns = ['time', 'year', 'month', 'day', 'hour', 'min', 'sec', 'outdoorTemp', 'outdoorHum', 'outdoorAtmo',\n",
    "                   'indoorHum', 'indoorAtmo']"
   ]
  },
  {
   "cell_type": "code",
   "execution_count": 6,
   "metadata": {
    "ExecuteTime": {
     "end_time": "2020-08-17T02:05:03.195831Z",
     "start_time": "2020-08-17T02:05:03.190844Z"
    }
   },
   "outputs": [],
   "source": [
    "# print('train_df.shape: ', train_df.shape)\n",
    "# train_df = train_df.loc[(train_df['outdoorTemp'] >= test_df['outdoorTemp'].min()) & (train_df['outdoorTemp'] <= test_df['outdoorTemp'].max())]\n",
    "# print('处理后 train_df.shape: ', train_df.shape)"
   ]
  },
  {
   "cell_type": "code",
   "execution_count": 7,
   "metadata": {
    "ExecuteTime": {
     "end_time": "2020-08-17T02:05:03.202811Z",
     "start_time": "2020-08-17T02:05:03.199819Z"
    }
   },
   "outputs": [],
   "source": [
    "# y_train = train_df['temperature'] - train_df['outdoorTemp']\n",
    "# y_train.to_hdf('../input/y_train.h5', 'df')"
   ]
  },
  {
   "cell_type": "code",
   "execution_count": 8,
   "metadata": {
    "ExecuteTime": {
     "end_time": "2020-08-17T02:05:03.208797Z",
     "start_time": "2020-08-17T02:05:03.204806Z"
    }
   },
   "outputs": [],
   "source": [
    "# del train_df, test_df\n",
    "# gc.collect()"
   ]
  },
  {
   "cell_type": "code",
   "execution_count": 9,
   "metadata": {
    "ExecuteTime": {
     "end_time": "2020-08-17T02:05:04.202271Z",
     "start_time": "2020-08-17T02:05:03.210791Z"
    }
   },
   "outputs": [],
   "source": [
    "x_train = pd.read_hdf('../input/train_features_corr.h5')\n",
    "x_test = pd.read_hdf('../input/test_features_corr.h5')\n",
    "y_train = pd.read_hdf('../input/y_train.h5')"
   ]
  },
  {
   "cell_type": "code",
   "execution_count": 10,
   "metadata": {
    "ExecuteTime": {
     "end_time": "2020-08-17T02:10:45.307339Z",
     "start_time": "2020-08-17T02:05:04.203268Z"
    }
   },
   "outputs": [
    {
     "name": "stdout",
     "output_type": "stream",
     "text": [
      "{'indoorHum_MD_outdoorHum_max_multyply', 'MD_outdoorHum_diff_sum_MDH_outdoorTemp_diff_sum_multyply', 'MDH_outdoorAtmo_mean_MDH_outdoorHum_diff_sum_subtract', 'MD_outdoorAtmo_diff_sum_MDH_indoorHum_diff_sum_subtract', 'outdoorHum_50_bin_outdoorAtmo_sum', 'MD_outdoorHum_max_MDH_indoorHum_max_multyply', 'MD_outdoorHum_diff_sum_MDH_indoorHum_diff_sum_ratio', 'MD_outdoorTemp_sum_MDH_outdoorAtmo_diff_mean_ratio', 'MDH_indoorHum_diff_sum_MD_outdoorAtmo_diff_sum_multyply', 'MD_outdoorAtmo_min_MDH_outdoorTemp_diff_sum_multyply', 'outdoorAtmo_MDH_indoorHum_max_multyply', 'outdoorAtmo_MD_indoorHum_medi_multyply', 'outdoorTemp_MDH_outdoorTemp_mean_multyply', 'MDH_indoorAtmo_diff_mean_MDH_outdoorAtmo_diff_mean_multyply', 'MDH_outdoorAtmo_min_MDH_outdoorAtmo_diff_sum_ratio', 'MDH_outdoorTemp_diff_sum_MDH_indoorHum_diff_sum_multyply', 'MDH_indoorHum_diff_sum_MD_outdoorAtmo_min_multyply', 'MD_outdoorHum_diff_max_MDH_outdoorTemp_diff_sum_multyply', 'MDH_outdoorHum_medi_MDH_indoorHum_medi_subtract', 'indoorHum_diff_MDH_outdoorTemp_diff_min_ratio', 'MDH_outdoorHum_diff_sum_MD_outdoorAtmo_diff_medi_ratio', 'MDH_outdoorTemp_diff_medi_MDH_outdoorHum_diff_mean_ratio', 'outdoorAtmo_MD_outdoorTemp_diff_min_subtract', 'MDH_outdoorHum_min_MDH_indoorHum_medi_subtract', 'outdoorHum_20_bin_outdoorTemp_medi', 'MDH_outdoorTemp_diff_medi_MDH_indoorHum_diff_max_ratio', 'outdoorTemp_MD_outdoorHum_max_subtract', 'MD_outdoorHum_diff_sum_MDH_outdoorAtmo_diff_sum_multyply', 'MD_outdoorHum_medi_MDH_outdoorAtmo_mean_subtract', 'MDH_outdoorAtmo_mean_MD_outdoorAtmo_mean_multyply', 'outdoorTemp_MD_indoorHum_min_ratio', 'MD_outdoorHum_min_MDH_outdoorAtmo_diff_sum_ratio', 'MD_outdoorHum_medi_outdoorHum_multyply', 'outdoorHum_50_bin_outdoorAtmo_skew', 'outdoorHum_20_bin_outdoorAtmo_skew', 'outdoorHum_100_bin_indoorHum_std', 'MDH_outdoorHum_max_MDH_indoorHum_mean_multyply', 'MD_indoorHum_medi_MD_outdoorHum_diff_sum_subtract', 'MDH_outdoorAtmo_mean_MDH_indoorAtmo_mean_ratio', 'MD_outdoorAtmo_diff_sum_MDH_indoorHum_diff_max_subtract', 'indoorAtmo_50_bin_outdoorHum_min', 'MDH_outdoorAtmo_diff_sum_MDH_indoorHum_diff_min_ratio', 'MD_indoorHum_diff_max_MDH_outdoorTemp_diff_sum_multyply', 'outdoorTemp_MDH_outdoorAtmo_diff_sum_ratio', 'MD_outdoorTemp_max_MD_indoorHum_diff_max_subtract', 'MDH_indoorHum_diff_min_MDH_indoorHum_diff_sum_subtract', 'MD_indoorHum_min_outdoorHum_multyply', 'MDH_outdoorAtmo_diff_sum_MD_outdoorAtmo_diff_sum_ratio', 'MD_outdoorTemp_min_MDH_outdoorHum_diff_sum_subtract', 'outdoorTemp_50_bin_outdoorAtmo_skew', 'outdoorHum_50_bin_outdoorAtmo_medi', 'outdoorHum_MDH_indoorHum_diff_sum_ratio', 'indoorHum_MDH_indoorHum_mean_subtract', 'outdoorHum_MDH_outdoorHum_diff_sum_ratio', 'MDH_outdoorAtmo_mean_MD_indoorHum_medi_subtract', 'MD_outdoorHum_mean_MDH_outdoorAtmo_medi_subtract', 'outdoorHum_MD_outdoorHum_min_subtract', 'MD_indoorHum_min_outdoorAtmo_multyply', 'MD_outdoorTemp_diff_sum_MDH_outdoorHum_diff_sum_subtract', 'outdoorAtmo_200_bin_indoorHum_max', 'outdoorAtmo_MD_indoorAtmo_diff_sum_subtract', 'MD_outdoorAtmo_mean_MDH_outdoorHum_diff_sum_subtract', 'outdoorAtmo_indoorAtmo_subtract', 'indoorHum_MD_outdoorHum_max_subtract', 'outdoorHum_100_bin_outdoorTemp_std', 'MDH_indoorHum_max_MD_outdoorHum_medi_multyply', 'MD_indoorHum_diff_min_MDH_outdoorTemp_diff_sum_multyply', 'MDH_outdoorHum_diff_sum_MDH_outdoorAtmo_min_multyply', 'MD_indoorHum_min_MDH_outdoorHum_diff_max_subtract', 'MDH_outdoorHum_diff_max_MDH_outdoorAtmo_diff_sum_subtract', 'outdoorHum_50_bin_indoorHum_max', 'MDH_outdoorTemp_diff_medi_MDH_outdoorTemp_diff_mean_ratio', 'MDH_outdoorAtmo_diff_sum_MDH_indoorHum_diff_max_ratio', 'outdoorHum_MDH_outdoorHum_mean_subtract', 'MDH_outdoorAtmo_sum_MD_outdoorHum_sum_multyply', 'MD_indoorHum_medi_MDH_indoorAtmo_max_subtract', 'outdoorHum_20_bin_outdoorAtmo_mean', 'indoorHum_100_bin_outdoorAtmo_mean', 'MD_outdoorHum_min_MDH_indoorHum_diff_sum_ratio', 'MDH_outdoorAtmo_diff_mean_MDH_indoorAtmo_diff_mean_multyply', 'MDH_indoorAtmo_medi_MD_indoorAtmo_diff_sum_subtract', 'indoorHum_MDH_indoorAtmo_medi_subtract', 'MDH_outdoorHum_diff_max_MDH_indoorAtmo_diff_sum_ratio', 'MDH_indoorAtmo_min_MDH_outdoorHum_diff_sum_ratio', 'outdoorAtmo_diff_MDH_indoorAtmo_mean_subtract', 'MDH_outdoorTemp_min_MDH_indoorAtmo_mean_subtract', 'MD_outdoorHum_sum_MDH_indoorHum_diff_mean_ratio', 'indoorHum_50_bin_outdoorAtmo_sum', 'MDH_outdoorHum_diff_mean_MD_outdoorTemp_diff_medi_multyply', 'outdoorTemp_MDH_indoorHum_diff_sum_ratio', 'MDH_indoorHum_diff_sum_MDH_indoorAtmo_diff_sum_multyply', 'MD_outdoorAtmo_diff_sum_MDH_indoorHum_diff_min_subtract', 'MDH_indoorAtmo_min_MDH_outdoorAtmo_diff_sum_ratio', 'MDH_indoorHum_diff_sum_MD_indoorAtmo_diff_sum_ratio', 'indoorAtmo_MDH_outdoorAtmo_medi_multyply', 'MDH_outdoorHum_medi_MDH_indoorHum_max_subtract', 'MD_outdoorAtmo_diff_max_MD_indoorAtmo_diff_mean_ratio', 'outdoorAtmo_50_bin_outdoorAtmo_sum', 'indoorHum_diff_3D_rolling_sum', 'indoorHum_50_bin_outdoorAtmo_mean', 'indoorHum_diff_MDH_outdoorTemp_diff_sum_ratio', 'MDH_indoorAtmo_min_MDH_indoorHum_diff_sum_ratio', 'MD_indoorAtmo_diff_mean_MDH_indoorAtmo_diff_mean_multyply', 'MDH_outdoorAtmo_medi_MD_indoorHum_medi_subtract', 'outdoorHum_MDH_indoorHum_max_subtract', 'MD_indoorHum_min_indoorHum_multyply', 'outdoorTemp_100_bin_outdoorHum_std', 'MDH_indoorAtmo_medi_MD_outdoorTemp_diff_min_subtract', 'outdoorTemp_diff_MDH_outdoorHum_diff_sum_ratio', 'outdoorHum_diff_MDH_outdoorTemp_diff_mean_ratio', 'MD_outdoorHum_sum_MDH_outdoorHum_diff_mean_ratio', 'outdoorAtmo_MDH_outdoorTemp_diff_sum_multyply', 'outdoorTemp_MDH_outdoorHum_diff_sum_ratio', 'MD_indoorHum_max_MDH_indoorHum_max_multyply', 'MDH_outdoorTemp_diff_sum_MD_outdoorAtmo_min_multyply', 'outdoorHum_MDH_outdoorTemp_diff_medi_ratio', 'MDH_indoorHum_diff_sum_MDH_outdoorAtmo_min_multyply', 'MD_outdoorHum_min_indoorHum_multyply', 'outdoorHum_100_bin_outdoorAtmo_mean', 'MD_outdoorHum_max_outdoorHum_multyply', 'MD_outdoorAtmo_mean_MDH_indoorHum_diff_max_subtract', 'outdoorHum_50_bin_outdoorAtmo_mean', 'MD_outdoorHum_max_indoorHum_multyply', 'outdoorAtmo_50_bin_outdoorHum_min', 'outdoorHum_indoorAtmo_subtract', 'outdoorHum_MDH_indoorHum_min_subtract', 'MDH_outdoorHum_min_MDH_indoorHum_min_subtract', 'indoorHum_20_bin_outdoorHum_min', 'MD_outdoorHum_medi_MDH_outdoorAtmo_diff_sum_ratio', 'MD_outdoorHum_mean_MDH_indoorAtmo_medi_subtract', 'outdoorTemp_MDH_outdoorTemp_diff_medi_ratio', 'outdoorHum_indoorHum_subtract', 'MD_outdoorHum_mean_MD_outdoorAtmo_mean_subtract', 'MD_outdoorHum_max_MD_outdoorTemp_diff_sum_subtract', 'outdoorAtmo_200_bin_outdoorHum_max', 'MD_outdoorHum_medi_indoorHum_multyply', 'indoorAtmo_diff_MDH_outdoorAtmo_diff_sum_subtract', 'MDH_outdoorTemp_diff_medi_MDH_outdoorAtmo_diff_max_multyply', 'MDH_indoorHum_diff_mean_MD_outdoorTemp_diff_medi_multyply', 'MDH_outdoorAtmo_diff_sum_MDH_indoorAtmo_min_multyply', 'MDH_indoorHum_diff_sum_MD_outdoorHum_diff_max_multyply', 'MDH_outdoorHum_diff_sum_MD_outdoorHum_diff_sum_multyply', 'outdoorHum_MDH_outdoorAtmo_mean_subtract', 'MD_outdoorHum_mean_MDH_outdoorAtmo_mean_subtract', 'outdoorTemp_MDH_outdoorTemp_diff_sum_ratio', 'MDH_indoorAtmo_min_MD_indoorAtmo_diff_sum_multyply', 'outdoorHum_20_bin_indoorHum_max', 'MDH_outdoorTemp_diff_medi_MD_outdoorAtmo_diff_mean_ratio', 'MD_indoorHum_diff_mean_MDH_outdoorTemp_diff_mean_multyply', 'indoorAtmo_MDH_indoorHum_max_multyply', 'outdoorHum_indoorAtmo_diff_subtract', 'MDH_outdoorAtmo_mean_MDH_indoorHum_diff_max_subtract', 'MDH_outdoorTemp_diff_sum_MD_indoorAtmo_diff_sum_ratio', 'MDH_indoorHum_diff_sum', 'indoorAtmo_50_bin_outdoorTemp_skew', 'MDH_indoorAtmo_mean_MD_outdoorTemp_diff_min_subtract', 'outdoorHum_MD_outdoorAtmo_medi_subtract', 'MD_indoorHum_mean', 'MDH_indoorHum_max_MD_indoorHum_medi_multyply', 'MD_outdoorAtmo_diff_sum_MDH_indoorHum_diff_sum_multyply', 'indoorHum_100_bin_outdoorTemp_skew', 'MDH_indoorHum_diff_min_MD_indoorHum_diff_sum_ratio', 'outdoorHum_100_bin_indoorAtmo_max', 'MD_outdoorTemp_diff_min_MDH_outdoorTemp_diff_sum_multyply', 'indoorHum_100_bin_indoorAtmo_mean', 'outdoorHum_diff_MDH_outdoorTemp_diff_sum_ratio', 'MD_outdoorAtmo_diff_sum_MDH_indoorHum_diff_sum_ratio', 'indoorAtmo_MD_indoorHum_medi_multyply', 'outdoorHum_MD_outdoorHum_max_ratio', 'MDH_outdoorHum_diff_mean_MD_indoorHum_diff_mean_multyply', 'outdoorHum_indoorAtmo_ratio', 'MD_outdoorHum_diff_sum_MDH_indoorAtmo_diff_sum_multyply', 'indoorHum_diff_MDH_indoorHum_diff_min_subtract', 'MDH_outdoorHum_medi_MDH_indoorHum_min_subtract', 'MDH_indoorHum_diff_mean_MD_outdoorAtmo_diff_mean_multyply', 'MDH_indoorHum_diff_max_MDH_indoorAtmo_diff_sum_ratio', 'MD_outdoorAtmo_sum_MDH_outdoorTemp_sum_multyply', 'MDH_indoorHum_diff_medi_MDH_indoorHum_diff_min_subtract', 'indoorHum_20_bin_indoorAtmo_mean', 'outdoorHum_MDH_indoorHum_medi_subtract', 'MD_indoorHum_diff_sum_MDH_outdoorHum_diff_min_multyply', 'MD_indoorHum_max_MDH_outdoorHum_diff_sum_subtract', 'indoorHum_50_bin_outdoorAtmo_skew', 'indoorAtmo_50_bin_outdoorHum_max', 'MDH_indoorAtmo_min_MDH_outdoorTemp_diff_sum_multyply', 'MDH_outdoorHum_diff_sum_MDH_indoorHum_diff_min_subtract', 'MDH_outdoorTemp_diff_medi_MDH_outdoorHum_diff_min_ratio', 'MDH_outdoorTemp_diff_medi_MD_outdoorHum_diff_max_ratio', 'indoorHum_MD_outdoorHum_medi_multyply', 'indoorHum_MDH_outdoorHum_min_subtract', 'MD_outdoorHum_min_outdoorHum_multyply', 'MDH_outdoorTemp_diff_sum_MDH_outdoorAtmo_min_multyply', 'MDH_outdoorHum_diff_sum_MD_indoorAtmo_diff_sum_ratio', 'MDH_outdoorHum_diff_sum_MDH_indoorHum_diff_max_subtract', 'outdoorAtmo_diff_MDH_outdoorHum_diff_sum_subtract', 'MDH_indoorHum_max_MDH_indoorAtmo_medi_subtract', 'MD_outdoorHum_min_MDH_outdoorHum_diff_sum_ratio', 'MD_outdoorTemp_min_MD_indoorHum_diff_max_subtract', 'MDH_outdoorTemp_diff_medi_MDH_outdoorAtmo_diff_medi_ratio', 'MDH_indoorHum_diff_sum_MDH_outdoorHum_diff_sum_multyply', 'indoorHum_20_bin_outdoorAtmo_sum', 'outdoorTemp_MD_outdoorTemp_mean_multyply', 'indoorHum_MDH_outdoorHum_medi_subtract', 'outdoorAtmo_MDH_indoorHum_diff_sum_multyply', 'MDH_outdoorHum_diff_sum_MDH_indoorHum_diff_sum_multyply', 'MDH_outdoorTemp_diff_medi_MD_indoorAtmo_diff_medi_subtract', 'MDH_outdoorTemp_diff_medi_MD_outdoorAtmo_diff_min_multyply', 'outdoorAtmo_100_bin_outdoorHum_max', 'indoorHum_100_bin_outdoorAtmo_skew', 'indoorHum_20_bin_outdoorAtmo_mean', 'MDH_outdoorHum_max_MDH_indoorHum_max_subtract', 'outdoorHum_MDH_outdoorHum_diff_min_subtract', 'outdoorHum_MDH_outdoorHum_medi_subtract', 'indoorHum_100_bin_outdoorAtmo_sum', 'MDH_outdoorAtmo_max_MD_outdoorHum_medi_multyply', 'MD_outdoorTemp_sum_MDH_outdoorTemp_diff_medi_ratio', 'MDH_outdoorHum_medi_outdoorHum_multyply', 'indoorHum_MD_outdoorHum_min_subtract', 'outdoorAtmo_diff_MD_outdoorHum_mean_subtract', 'MDH_indoorHum_diff_mean_MDH_outdoorAtmo_diff_mean_multyply', 'MDH_outdoorTemp_diff_medi_MD_outdoorHum_diff_min_ratio', 'MDH_indoorAtmo_min_MDH_outdoorTemp_diff_sum_ratio', 'MDH_outdoorAtmo_diff_sum_MDH_indoorAtmo_diff_sum_subtract', 'indoorHum_50_bin_outdoorHum_min', 'outdoorHum_MDH_outdoorAtmo_diff_sum_ratio', 'outdoorHum_diff_MDH_outdoorTemp_diff_max_ratio', 'MD_outdoorHum_min_MDH_indoorHum_diff_sum_multyply', 'MDH_indoorHum_diff_mean_MD_indoorAtmo_diff_mean_multyply', 'MD_outdoorHum_diff_min_MD_indoorAtmo_diff_sum_ratio', 'outdoorHum_MDH_outdoorHum_diff_max_subtract', 'MD_outdoorTemp_diff_sum_MDH_indoorHum_diff_sum_subtract', 'MDH_outdoorTemp_diff_medi_MDH_outdoorHum_diff_max_multyply', 'MDH_outdoorHum_diff_sum_MD_outdoorAtmo_min_multyply', 'outdoorAtmo_200_bin_outdoorTemp_min', 'MDH_outdoorHum_min_MDH_indoorHum_max_multyply', 'outdoorHum_100_bin_outdoorAtmo_skew', 'indoorHum_diff_2D_rolling_sum', 'MDH_outdoorHum_diff_sum_MD_indoorHum_diff_sum_multyply', 'MDH_indoorHum_diff_min_MD_outdoorHum_diff_sum_multyply', 'MDH_outdoorTemp_diff_medi_MDH_outdoorHum_diff_max_ratio', 'MD_outdoorHum_min_MD_outdoorHum_max_multyply', 'outdoorTemp_diff_MDH_outdoorHum_diff_mean_ratio', 'MDH_outdoorAtmo_medi_outdoorAtmo_multyply', 'outdoorHum_MDH_outdoorTemp_diff_sum_ratio', 'outdoorHum_diff_MD_outdoorAtmo_diff_sum_subtract', 'MD_indoorHum_medi_MDH_indoorAtmo_medi_subtract', 'MDH_indoorHum_diff_max_MDH_indoorHum_diff_sum_subtract', 'indoorAtmo_50_bin_outdoorAtmo_sum', 'outdoorAtmo_diff_MD_indoorHum_min_subtract', 'MDH_indoorHum_diff_sum_MD_outdoorHum_diff_sum_multyply', 'MD_outdoorHum_sum_MDH_outdoorAtmo_diff_mean_ratio', 'outdoorHum_outdoorAtmo_multyply', 'MDH_indoorHum_diff_sum_MDH_indoorAtmo_min_multyply', 'indoorHum_20_bin_outdoorAtmo_skew', 'MD_outdoorHum_mean_MDH_indoorAtmo_diff_sum_subtract', 'MD_indoorHum_max_MDH_indoorHum_diff_sum_subtract', 'MD_outdoorHum_medi_MDH_outdoorAtmo_max_multyply'}\n"
     ]
    }
   ],
   "source": [
    "col_corr = correlation(x_train, 0.95)\n",
    "print(col_corr)"
   ]
  },
  {
   "cell_type": "code",
   "execution_count": 11,
   "metadata": {
    "ExecuteTime": {
     "end_time": "2020-08-17T02:10:45.624547Z",
     "start_time": "2020-08-17T02:10:45.310296Z"
    }
   },
   "outputs": [
    {
     "data": {
      "text/plain": [
       "20"
      ]
     },
     "execution_count": 11,
     "metadata": {},
     "output_type": "execute_result"
    }
   ],
   "source": [
    "x_train.drop(list(col_corr), axis=1, inplace=True)\n",
    "x_test.drop(list(col_corr), axis=1, inplace=True)\n",
    "gc.collect()"
   ]
  },
  {
   "cell_type": "code",
   "execution_count": 12,
   "metadata": {
    "ExecuteTime": {
     "end_time": "2020-08-17T02:10:47.288251Z",
     "start_time": "2020-08-17T02:10:45.625509Z"
    }
   },
   "outputs": [],
   "source": [
    "x_train.to_hdf('../input/train_features_corr_95.h5', 'df')\n",
    "x_test.to_hdf('../input/test_features_corr_95.h5', 'df')"
   ]
  }
 ],
 "metadata": {
  "kernelspec": {
   "display_name": "Python 3",
   "language": "python",
   "name": "python3"
  },
  "language_info": {
   "codemirror_mode": {
    "name": "ipython",
    "version": 3
   },
   "file_extension": ".py",
   "mimetype": "text/x-python",
   "name": "python",
   "nbconvert_exporter": "python",
   "pygments_lexer": "ipython3",
   "version": "3.7.3"
  },
  "toc": {
   "base_numbering": 1,
   "nav_menu": {},
   "number_sections": true,
   "sideBar": true,
   "skip_h1_title": false,
   "title_cell": "Table of Contents",
   "title_sidebar": "Contents",
   "toc_cell": false,
   "toc_position": {},
   "toc_section_display": true,
   "toc_window_display": false
  },
  "varInspector": {
   "cols": {
    "lenName": 16,
    "lenType": 16,
    "lenVar": 40
   },
   "kernels_config": {
    "python": {
     "delete_cmd_postfix": "",
     "delete_cmd_prefix": "del ",
     "library": "var_list.py",
     "varRefreshCmd": "print(var_dic_list())"
    },
    "r": {
     "delete_cmd_postfix": ") ",
     "delete_cmd_prefix": "rm(",
     "library": "var_list.r",
     "varRefreshCmd": "cat(var_dic_list()) "
    }
   },
   "types_to_exclude": [
    "module",
    "function",
    "builtin_function_or_method",
    "instance",
    "_Feature"
   ],
   "window_display": false
  }
 },
 "nbformat": 4,
 "nbformat_minor": 4
}
