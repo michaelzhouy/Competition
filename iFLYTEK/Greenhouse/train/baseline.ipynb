{
 "cells": [
  {
   "cell_type": "code",
   "execution_count": 1,
   "metadata": {
    "ExecuteTime": {
     "end_time": "2020-07-28T05:56:28.076386Z",
     "start_time": "2020-07-28T05:56:25.920988Z"
    }
   },
   "outputs": [],
   "source": [
    "import numpy as np\n",
    "import pandas as pd\n",
    "import lightgbm as lgb\n",
    "import xgboost as xgb\n",
    "from tqdm import tqdm\n",
    "from sklearn.model_selection import StratifiedKFold, KFold\n",
    "from sklearn.metrics import mean_absolute_error, mean_squared_error\n",
    "import matplotlib.pyplot as plt\n",
    "import time\n",
    "import gc\n",
    "import warnings\n",
    "\n",
    "warnings.filterwarnings('ignore')"
   ]
  },
  {
   "cell_type": "code",
   "execution_count": 2,
   "metadata": {
    "ExecuteTime": {
     "end_time": "2020-07-28T05:56:28.089352Z",
     "start_time": "2020-07-28T05:56:28.077382Z"
    }
   },
   "outputs": [],
   "source": [
    "def get_psi(train,test,f_cols):\n",
    "    psi_res = pd.DataFrame()\n",
    "    psi_dict={}\n",
    "    for c in tqdm(f_cols):\n",
    "        try:\n",
    "            t_train = train[c].fillna(-998)\n",
    "            t_test = test[c].fillna(-998)\n",
    "            #获取切分点\n",
    "            bins=[]\n",
    "            for i in np.arange(0,1.1,0.2):\n",
    "                bins.append(t_train.quantile(i))\n",
    "            bins=sorted(set(bins))\n",
    "            bins[0]=-np.inf\n",
    "            bins[-1]=np.inf\n",
    "            #计算psi\n",
    "            t_psi = pd.DataFrame()\n",
    "            t_psi['train'] = pd.cut(t_train,bins).value_counts().sort_index()\n",
    "            t_psi['test'] = pd.cut(t_test,bins).value_counts()\n",
    "            if c == 'outdoorTemp':\n",
    "                print(t_psi['train'])\n",
    "                print(t_psi['test'])\n",
    "            t_psi.index=[str(x) for x in t_psi.index]\n",
    "            t_psi.loc['总计',:] = t_psi.sum()\n",
    "            t_psi['train_rate'] = t_psi['train']/t_psi.loc['总计','train']\n",
    "            t_psi['test_rate'] = t_psi['test']/t_psi.loc['总计','test']\n",
    "            t_psi['psi'] = (t_psi['test_rate']-t_psi['train_rate'])*(np.log(t_psi['test_rate'])-np.log(t_psi['train_rate']))\n",
    "            t_psi.loc['总计','psi'] = t_psi['psi'].sum()\n",
    "            t_psi.index.name=c\n",
    "            #汇总\n",
    "            t_res = pd.DataFrame([[c,t_psi.loc['总计','psi']]],\n",
    "                                 columns=['变量名','PSI'])\n",
    "            psi_res = pd.concat([psi_res,t_res])\n",
    "            psi_dict[c]=t_psi\n",
    "            print(c,'done')\n",
    "        except:\n",
    "            print(c,'error')\n",
    "    return psi_res,psi_dict"
   ]
  },
  {
   "cell_type": "code",
   "execution_count": 3,
   "metadata": {
    "ExecuteTime": {
     "end_time": "2020-07-28T05:56:28.141156Z",
     "start_time": "2020-07-28T05:56:28.090349Z"
    }
   },
   "outputs": [],
   "source": [
    "train = pd.read_csv('../input/train.csv')\n",
    "test = pd.read_csv('../input/test.csv')\n",
    "sub = pd.DataFrame(test['time'])"
   ]
  },
  {
   "cell_type": "code",
   "execution_count": 4,
   "metadata": {
    "ExecuteTime": {
     "end_time": "2020-07-28T05:56:28.158539Z",
     "start_time": "2020-07-28T05:56:28.142148Z"
    }
   },
   "outputs": [],
   "source": [
    "train = train[train['temperature'].notnull()]\n",
    "train = train.fillna(method='bfill')\n",
    "test = test.fillna(method='bfill')"
   ]
  },
  {
   "cell_type": "code",
   "execution_count": 5,
   "metadata": {
    "ExecuteTime": {
     "end_time": "2020-07-28T05:56:28.164530Z",
     "start_time": "2020-07-28T05:56:28.159511Z"
    }
   },
   "outputs": [],
   "source": [
    "train.columns = ['time', 'year', 'month', 'day', 'hour', 'min', 'sec',\n",
    "                 'outdoorTemp', 'outdoorHum', 'outdoorAtmo',\n",
    "                 'indoorHum', 'indoorAtmo', 'temperature']\n",
    "\n",
    "test.columns = ['time', 'year', 'month', 'day', 'hour', 'min', 'sec',\n",
    "                'outdoorTemp', 'outdoorHum', 'outdoorAtmo',\n",
    "                'indoorHum', 'indoorAtmo']"
   ]
  },
  {
   "cell_type": "code",
   "execution_count": 6,
   "metadata": {
    "ExecuteTime": {
     "end_time": "2020-07-28T05:56:28.173432Z",
     "start_time": "2020-07-28T05:56:28.165453Z"
    }
   },
   "outputs": [],
   "source": [
    "data = pd.concat([train, test])"
   ]
  },
  {
   "cell_type": "code",
   "execution_count": 7,
   "metadata": {
    "ExecuteTime": {
     "end_time": "2020-07-28T05:56:28.180415Z",
     "start_time": "2020-07-28T05:56:28.175428Z"
    }
   },
   "outputs": [],
   "source": [
    "data['indoorAtmo-outdoorAtmo'] = data['indoorAtmo'] - data['outdoorAtmo']\n",
    "data['indoorHum-outdoorHum'] = data['indoorHum'] - data['outdoorHum']"
   ]
  },
  {
   "cell_type": "code",
   "execution_count": 8,
   "metadata": {
    "ExecuteTime": {
     "end_time": "2020-07-28T05:56:59.510626Z",
     "start_time": "2020-07-28T05:56:28.182412Z"
    }
   },
   "outputs": [
    {
     "name": "stderr",
     "output_type": "stream",
     "text": [
      "100%|████████████████████████████████████████████████████████████████████████████████████| 7/7 [00:31<00:00,  4.47s/it]\n"
     ]
    }
   ],
   "source": [
    "group_feats = []\n",
    "for i in tqdm(['outdoorTemp', 'outdoorHum', 'outdoorAtmo', 'indoorHum', 'indoorAtmo', 'indoorAtmo-outdoorAtmo', 'indoorHum-outdoorHum']):\n",
    "    data['MDH_{}_mean'.format(i)] = data.groupby(['month', 'day', 'hour'], as_index=False)[i].transform('mean')\n",
    "    data['MDH_{}_median'.format(i)] = data.groupby(['month', 'day', 'hour'], as_index=False)[i].transform('median')\n",
    "    data['MDH_{}_max'.format(i)] = data.groupby(['month', 'day', 'hour'], as_index=False)[i].transform('max')\n",
    "    data['MDH_{}_min'.format(i)] = data.groupby(['month', 'day', 'hour'], as_index=False)[i].transform('min')\n",
    "    data['MDH_{}_std'.format(i)] = data.groupby(['month', 'day', 'hour'], as_index=False)[i].transform('std')\n",
    "    data['MDH_{}_skew'.format(i)] = data.groupby(['month', 'day', 'hour'], as_index=False)[i].transform('skew')\n",
    "    \n",
    "    group_feats.append('MDH_{}_mean'.format(i))\n",
    "    group_feats.append('MDH_{}_median'.format(i))"
   ]
  },
  {
   "cell_type": "code",
   "execution_count": 9,
   "metadata": {
    "ExecuteTime": {
     "end_time": "2020-07-28T05:57:00.156021Z",
     "start_time": "2020-07-28T05:56:59.512621Z"
    }
   },
   "outputs": [
    {
     "name": "stderr",
     "output_type": "stream",
     "text": [
      "100%|██████████████████████████████████████████████████████████████████████████████████| 21/21 [00:00<00:00, 33.10it/s]\n"
     ]
    }
   ],
   "source": [
    "# 基本交叉特征\n",
    "for f1 in tqdm(['outdoorTemp', 'outdoorHum', 'outdoorAtmo', 'indoorHum', 'indoorAtmo', 'indoorAtmo-outdoorAtmo', 'indoorHum-outdoorHum'] + group_feats):\n",
    "    for f2 in ['outdoorTemp', 'outdoorHum', 'outdoorAtmo', 'indoorHum', 'indoorAtmo', 'indoorAtmo-outdoorAtmo', 'indoorHum-outdoorHum'] + group_feats:\n",
    "        if f1 != f2:\n",
    "            colname = '{}_{}_ratio'.format(f1, f2)\n",
    "            data[colname] = data[f1].values / data[f2].values"
   ]
  },
  {
   "cell_type": "code",
   "execution_count": 10,
   "metadata": {
    "ExecuteTime": {
     "end_time": "2020-07-28T05:57:00.330064Z",
     "start_time": "2020-07-28T05:57:00.158015Z"
    }
   },
   "outputs": [],
   "source": [
    "data.fillna(method='bfill', inplace=True)"
   ]
  },
  {
   "cell_type": "code",
   "execution_count": 11,
   "metadata": {
    "ExecuteTime": {
     "end_time": "2020-07-28T05:57:16.135363Z",
     "start_time": "2020-07-28T05:57:00.332059Z"
    }
   },
   "outputs": [
    {
     "name": "stderr",
     "output_type": "stream",
     "text": [
      "100%|██████████████████████████████████████████████████████████████████████████████████| 30/30 [00:01<00:00, 18.01it/s]\n",
      "100%|██████████████████████████████████████████████████████████████████████████████████| 30/30 [00:01<00:00, 17.35it/s]\n",
      "100%|██████████████████████████████████████████████████████████████████████████████████| 30/30 [00:01<00:00, 17.46it/s]\n",
      "100%|██████████████████████████████████████████████████████████████████████████████████| 30/30 [00:01<00:00, 16.99it/s]\n",
      "100%|██████████████████████████████████████████████████████████████████████████████████| 30/30 [00:02<00:00, 14.69it/s]\n",
      "100%|██████████████████████████████████████████████████████████████████████████████████| 30/30 [00:01<00:00, 17.14it/s]\n",
      "100%|██████████████████████████████████████████████████████████████████████████████████| 30/30 [00:01<00:00, 17.14it/s]\n",
      "100%|██████████████████████████████████████████████████████████████████████████████████| 30/30 [00:01<00:00, 16.47it/s]\n"
     ]
    }
   ],
   "source": [
    "# 历史信息提取\n",
    "# dt 14-44\n",
    "data['dt'] = data['day'].values + (data['month'].values - 3) * 31\n",
    "\n",
    "for f in ['outdoorTemp', 'outdoorHum', 'outdoorAtmo', 'indoorHum', 'indoorAtmo', 'indoorAtmo-outdoorAtmo', 'indoorHum-outdoorHum', 'temperature']:\n",
    "    tmp_df = pd.DataFrame()\n",
    "    for t in tqdm(range(15, 45)):\n",
    "        tmp = data[data['dt'] < t].groupby(['hour'])[f].agg({'mean'}).reset_index()\n",
    "        tmp.columns = ['hour', 'hit_{}_mean'.format(f)]\n",
    "        tmp['dt'] = t\n",
    "        tmp_df = tmp_df.append(tmp)\n",
    "\n",
    "    data = data.merge(tmp_df, on=['dt', 'hour'], how='left')\n",
    "    del tmp, tmp_df\n",
    "    gc.collect()"
   ]
  },
  {
   "cell_type": "code",
   "execution_count": 12,
   "metadata": {
    "ExecuteTime": {
     "end_time": "2020-07-28T05:57:16.296965Z",
     "start_time": "2020-07-28T05:57:16.136361Z"
    }
   },
   "outputs": [],
   "source": [
    "data.fillna(method='bfill', inplace=True)"
   ]
  },
  {
   "cell_type": "code",
   "execution_count": 13,
   "metadata": {
    "ExecuteTime": {
     "end_time": "2020-07-28T05:57:16.502424Z",
     "start_time": "2020-07-28T05:57:16.297929Z"
    }
   },
   "outputs": [],
   "source": [
    "# 离散化\n",
    "for f in ['outdoorTemp', 'outdoorHum', 'outdoorAtmo', 'indoorHum', 'indoorAtmo', 'indoorAtmo-outdoorAtmo', 'indoorHum-outdoorHum']:\n",
    "    data[f + '_20_bin'] = pd.cut(data[f], 20, duplicates='drop').apply(lambda x: x.left).astype(int)\n",
    "    data[f + '_50_bin'] = pd.cut(data[f], 50, duplicates='drop').apply(lambda x: x.left).astype(int)\n",
    "    data[f + '_100_bin'] = pd.cut(data[f], 100, duplicates='drop').apply(lambda x: x.left).astype(int)\n",
    "    data[f + '_200_bin'] = pd.cut(data[f], 200, duplicates='drop').apply(lambda x: x.left).astype(int)"
   ]
  },
  {
   "cell_type": "code",
   "execution_count": 14,
   "metadata": {
    "ExecuteTime": {
     "end_time": "2020-07-28T05:57:35.526930Z",
     "start_time": "2020-07-28T05:57:16.504377Z"
    }
   },
   "outputs": [
    {
     "name": "stderr",
     "output_type": "stream",
     "text": [
      "100%|████████████████████████████████████████████████████████████████████████████████████| 5/5 [00:19<00:00,  3.80s/it]\n"
     ]
    }
   ],
   "source": [
    "for f1 in tqdm(['outdoorTemp_20_bin', 'outdoorHum_20_bin', 'outdoorAtmo_20_bin', 'indoorHum_20_bin', 'indoorAtmo_20_bin', 'indoorAtmo-outdoorAtmo_20_bin', 'indoorHum-outdoorHum_20_bin']):\n",
    "    for f2 in ['outdoorTemp', 'outdoorHum', 'outdoorAtmo', 'indoorHum', 'indoorAtmo', 'indoorAtmo-outdoorAtmo', 'indoorHum-outdoorHum']:\n",
    "        data['{}_{}_median'.format(f1, f2)] = data.groupby([f1])[f2].transform('median')\n",
    "        data['{}_{}_mean'.format(f1, f2)] = data.groupby([f1])[f2].transform('mean')\n",
    "        data['{}_{}_max'.format(f1, f2)] = data.groupby([f1])[f2].transform('max')\n",
    "        data['{}_{}_min'.format(f1, f2)] = data.groupby([f1])[f2].transform('min')"
   ]
  },
  {
   "cell_type": "code",
   "execution_count": 15,
   "metadata": {
    "ExecuteTime": {
     "end_time": "2020-07-28T05:58:03.126087Z",
     "start_time": "2020-07-28T05:57:35.528925Z"
    }
   },
   "outputs": [
    {
     "name": "stderr",
     "output_type": "stream",
     "text": [
      "100%|████████████████████████████████████████████████████████████████████████████████████| 5/5 [00:27<00:00,  5.52s/it]\n"
     ]
    }
   ],
   "source": [
    "for f1 in tqdm(['outdoorTemp_50_bin', 'outdoorHum_50_bin', 'outdoorAtmo_50_bin', 'indoorHum_50_bin', 'indoorAtmo_50_bin']):\n",
    "    for f2 in ['outdoorTemp', 'outdoorHum', 'outdoorAtmo', 'indoorHum', 'indoorAtmo', 'indoorAtmo-outdoorAtmo', 'indoorHum-outdoorHum']:\n",
    "        data['{}_{}_median'.format(f1, f2)] = data.groupby([f1])[f2].transform('median')\n",
    "        data['{}_{}_mean'.format(f1, f2)] = data.groupby([f1])[f2].transform('mean')\n",
    "        data['{}_{}_max'.format(f1, f2)] = data.groupby([f1])[f2].transform('max')\n",
    "        data['{}_{}_min'.format(f1, f2)] = data.groupby([f1])[f2].transform('min')"
   ]
  },
  {
   "cell_type": "code",
   "execution_count": 16,
   "metadata": {
    "ExecuteTime": {
     "end_time": "2020-07-28T05:58:32.828184Z",
     "start_time": "2020-07-28T05:58:03.128082Z"
    }
   },
   "outputs": [
    {
     "name": "stderr",
     "output_type": "stream",
     "text": [
      "100%|████████████████████████████████████████████████████████████████████████████████████| 5/5 [00:29<00:00,  5.94s/it]\n"
     ]
    }
   ],
   "source": [
    "for f1 in tqdm(['outdoorTemp_100_bin', 'outdoorHum_100_bin', 'outdoorAtmo_100_bin', 'indoorHum_100_bin', 'indoorAtmo_100_bin']):\n",
    "    for f2 in ['outdoorTemp', 'outdoorHum', 'outdoorAtmo', 'indoorHum', 'indoorAtmo', 'indoorAtmo-outdoorAtmo', 'indoorHum-outdoorHum']:\n",
    "        data['{}_{}_median'.format(f1, f2)] = data.groupby([f1])[f2].transform('median')\n",
    "        data['{}_{}_mean'.format(f1, f2)] = data.groupby([f1])[f2].transform('mean')\n",
    "        data['{}_{}_max'.format(f1, f2)] = data.groupby([f1])[f2].transform('max')\n",
    "        data['{}_{}_min'.format(f1, f2)] = data.groupby([f1])[f2].transform('min')"
   ]
  },
  {
   "cell_type": "code",
   "execution_count": 17,
   "metadata": {
    "ExecuteTime": {
     "end_time": "2020-07-28T05:59:07.193125Z",
     "start_time": "2020-07-28T05:58:32.831176Z"
    }
   },
   "outputs": [
    {
     "name": "stderr",
     "output_type": "stream",
     "text": [
      "100%|████████████████████████████████████████████████████████████████████████████████████| 5/5 [00:34<00:00,  6.87s/it]\n"
     ]
    }
   ],
   "source": [
    "for f1 in tqdm(['outdoorTemp_200_bin', 'outdoorHum_200_bin', 'outdoorAtmo_200_bin', 'indoorHum_200_bin', 'indoorAtmo_200_bin']):\n",
    "    for f2 in ['outdoorTemp', 'outdoorHum', 'outdoorAtmo', 'indoorHum', 'indoorAtmo', 'indoorAtmo-outdoorAtmo', 'indoorHum-outdoorHum']:\n",
    "        data['{}_{}_median'.format(f1, f2)] = data.groupby([f1])[f2].transform('median')\n",
    "        data['{}_{}_mean'.format(f1, f2)] = data.groupby([f1])[f2].transform('mean')\n",
    "        data['{}_{}_max'.format(f1, f2)] = data.groupby([f1])[f2].transform('max')\n",
    "        data['{}_{}_min'.format(f1, f2)] = data.groupby([f1])[f2].transform('min')"
   ]
  },
  {
   "cell_type": "code",
   "execution_count": 18,
   "metadata": {
    "ExecuteTime": {
     "end_time": "2020-07-28T05:59:07.792671Z",
     "start_time": "2020-07-28T05:59:07.195120Z"
    }
   },
   "outputs": [
    {
     "data": {
      "text/plain": [
       "109"
      ]
     },
     "execution_count": 18,
     "metadata": {},
     "output_type": "execute_result"
    }
   ],
   "source": [
    "drop_columns = [\"time\", \"year\", \"sec\", \"temperature\"]\n",
    "\n",
    "train_count = train.shape[0]\n",
    "train = data[:train_count].copy().reset_index(drop=True)\n",
    "test = data[train_count:].copy().reset_index(drop=True)\n",
    "del data\n",
    "gc.collect()"
   ]
  },
  {
   "cell_type": "code",
   "execution_count": 19,
   "metadata": {
    "ExecuteTime": {
     "end_time": "2020-07-28T05:59:07.930343Z",
     "start_time": "2020-07-28T05:59:07.794666Z"
    }
   },
   "outputs": [],
   "source": [
    "features = train[:1].drop(drop_columns, axis=1).columns\n",
    "x_train = train[features]\n",
    "x_test = test[features]\n",
    "\n",
    "y_train = train['temperature'].values - train['outdoorTemp'].values"
   ]
  },
  {
   "cell_type": "code",
   "execution_count": 20,
   "metadata": {
    "ExecuteTime": {
     "end_time": "2020-07-28T05:59:39.117219Z",
     "start_time": "2020-07-28T05:59:07.932298Z"
    }
   },
   "outputs": [
    {
     "name": "stderr",
     "output_type": "stream",
     "text": [
      "  0%|▎                                                                                | 4/1070 [00:00<00:35, 29.93it/s]"
     ]
    },
    {
     "name": "stdout",
     "output_type": "stream",
     "text": [
      "month done\n",
      "day done\n",
      "hour done\n",
      "min done\n",
      "(-inf, 12.72]    4962\n",
      "(12.72, 15.0]    5155\n",
      "(15.0, 16.9]     4914\n",
      "(16.9, 19.7]     4922\n",
      "(19.7, inf]      4854\n",
      "Name: train, dtype: int64\n",
      "(-inf, 12.72]      0\n",
      "(12.72, 15.0]     53\n",
      "(15.0, 16.9]      64\n",
      "(16.9, 19.7]      64\n",
      "(19.7, inf]      225\n",
      "Name: test, dtype: int64\n",
      "outdoorTemp done\n",
      "outdoorHum done\n"
     ]
    },
    {
     "name": "stderr",
     "output_type": "stream",
     "text": [
      "  1%|▋                                                                               | 10/1070 [00:00<00:36, 29.31it/s]"
     ]
    },
    {
     "name": "stdout",
     "output_type": "stream",
     "text": [
      "outdoorAtmo done\n",
      "indoorHum done\n",
      "indoorAtmo done\n",
      "indoorAtmo-outdoorAtmo done\n",
      "indoorHum-outdoorHum done\n",
      "MDH_outdoorTemp_mean done\n"
     ]
    },
    {
     "name": "stderr",
     "output_type": "stream",
     "text": [
      "  1%|█▏                                                                              | 16/1070 [00:00<00:36, 29.26it/s]"
     ]
    },
    {
     "name": "stdout",
     "output_type": "stream",
     "text": [
      "MDH_outdoorTemp_median done\n",
      "MDH_outdoorTemp_max done\n",
      "MDH_outdoorTemp_min done\n",
      "MDH_outdoorTemp_std done\n",
      "MDH_outdoorTemp_skew done\n",
      "MDH_outdoorHum_mean done\n"
     ]
    },
    {
     "name": "stderr",
     "output_type": "stream",
     "text": [
      "  2%|█▋                                                                              | 23/1070 [00:00<00:35, 29.85it/s]"
     ]
    },
    {
     "name": "stdout",
     "output_type": "stream",
     "text": [
      "MDH_outdoorHum_median done\n",
      "MDH_outdoorHum_max done\n",
      "MDH_outdoorHum_min done\n",
      "MDH_outdoorHum_std done\n",
      "MDH_outdoorHum_skew done\n",
      "MDH_outdoorAtmo_mean done\n"
     ]
    },
    {
     "name": "stderr",
     "output_type": "stream",
     "text": [
      "  3%|██▎                                                                             | 31/1070 [00:01<00:34, 29.80it/s]"
     ]
    },
    {
     "name": "stdout",
     "output_type": "stream",
     "text": [
      "MDH_outdoorAtmo_median done\n",
      "MDH_outdoorAtmo_max done\n",
      "MDH_outdoorAtmo_min done\n",
      "MDH_outdoorAtmo_std done\n",
      "MDH_outdoorAtmo_skew done\n",
      "MDH_indoorHum_mean done\n",
      "MDH_indoorHum_median done\n",
      "MDH_indoorHum_max done\n"
     ]
    },
    {
     "name": "stderr",
     "output_type": "stream",
     "text": [
      "\r",
      "  3%|██▌                                                                             | 35/1070 [00:01<00:34, 30.04it/s]"
     ]
    },
    {
     "name": "stdout",
     "output_type": "stream",
     "text": [
      "MDH_indoorHum_min done\n",
      "MDH_indoorHum_std done\n",
      "MDH_indoorHum_skew done\n",
      "MDH_indoorAtmo_mean done\n",
      "MDH_indoorAtmo_median done\n",
      "MDH_indoorAtmo_max done\n",
      "MDH_indoorAtmo_min"
     ]
    },
    {
     "name": "stderr",
     "output_type": "stream",
     "text": [
      "  4%|███▏                                                                            | 43/1070 [00:01<00:33, 31.05it/s]"
     ]
    },
    {
     "name": "stdout",
     "output_type": "stream",
     "text": [
      " done\n",
      "MDH_indoorAtmo_std done\n",
      "MDH_indoorAtmo_skew done\n",
      "MDH_indoorAtmo-outdoorAtmo_mean done\n",
      "MDH_indoorAtmo-outdoorAtmo_median done\n",
      "MDH_indoorAtmo-outdoorAtmo_max done\n",
      "MDH_indoorAtmo-outdoorAtmo_min done\n"
     ]
    },
    {
     "name": "stderr",
     "output_type": "stream",
     "text": [
      "  5%|███▊                                                                            | 51/1070 [00:01<00:32, 31.17it/s]"
     ]
    },
    {
     "name": "stdout",
     "output_type": "stream",
     "text": [
      "MDH_indoorAtmo-outdoorAtmo_std done\n",
      "MDH_indoorAtmo-outdoorAtmo_skew done\n",
      "MDH_indoorHum-outdoorHum_mean done\n",
      "MDH_indoorHum-outdoorHum_median done\n",
      "MDH_indoorHum-outdoorHum_max done\n",
      "MDH_indoorHum-outdoorHum_min done\n",
      "MDH_indoorHum-outdoorHum_std"
     ]
    },
    {
     "name": "stderr",
     "output_type": "stream",
     "text": [
      "\r",
      "  5%|████                                                                            | 55/1070 [00:01<00:32, 31.03it/s]"
     ]
    },
    {
     "name": "stdout",
     "output_type": "stream",
     "text": [
      " done\n",
      "MDH_indoorHum-outdoorHum_skew done\n",
      "outdoorTemp_outdoorHum_ratio done\n",
      "outdoorTemp_outdoorAtmo_ratio done\n",
      "outdoorTemp_indoorHum_ratio done\n",
      "outdoorTemp_indoorAtmo_ratio done\n"
     ]
    },
    {
     "name": "stderr",
     "output_type": "stream",
     "text": [
      "  6%|████▋                                                                           | 63/1070 [00:02<00:34, 29.16it/s]"
     ]
    },
    {
     "name": "stdout",
     "output_type": "stream",
     "text": [
      "outdoorTemp_indoorAtmo-outdoorAtmo_ratio done\n",
      "outdoorTemp_indoorHum-outdoorHum_ratio done\n",
      "outdoorTemp_MDH_outdoorTemp_mean_ratio done\n",
      "outdoorTemp_MDH_outdoorTemp_median_ratio done\n",
      "outdoorTemp_MDH_outdoorHum_mean_ratio done\n",
      "outdoorTemp_MDH_outdoorHum_median_ratio done\n",
      "outdoorTemp_MDH_outdoorAtmo_mean_ratio done\n"
     ]
    },
    {
     "name": "stderr",
     "output_type": "stream",
     "text": [
      "  7%|█████▏                                                                          | 70/1070 [00:02<00:33, 30.11it/s]"
     ]
    },
    {
     "name": "stdout",
     "output_type": "stream",
     "text": [
      "outdoorTemp_MDH_outdoorAtmo_median_ratio done\n",
      "outdoorTemp_MDH_indoorHum_mean_ratio done\n",
      "outdoorTemp_MDH_indoorHum_median_ratio done\n",
      "outdoorTemp_MDH_indoorAtmo_mean_ratio done\n",
      "outdoorTemp_MDH_indoorAtmo_median_ratio done\n",
      "outdoorTemp_MDH_indoorAtmo-outdoorAtmo_mean_ratio done\n",
      "outdoorTemp_MDH_indoorAtmo-outdoorAtmo_median_ratio done\n"
     ]
    },
    {
     "name": "stderr",
     "output_type": "stream",
     "text": [
      "  7%|█████▉                                                                          | 79/1070 [00:02<00:30, 32.65it/s]"
     ]
    },
    {
     "name": "stdout",
     "output_type": "stream",
     "text": [
      "outdoorTemp_MDH_indoorHum-outdoorHum_mean_ratio done\n",
      "outdoorTemp_MDH_indoorHum-outdoorHum_median_ratio done\n",
      "outdoorHum_outdoorTemp_ratio done\n",
      "outdoorHum_outdoorAtmo_ratio done\n",
      "outdoorHum_indoorHum_ratio done\n",
      "outdoorHum_indoorAtmo_ratio done\n",
      "outdoorHum_indoorAtmo-outdoorAtmo_ratio error\n",
      "outdoorHum_indoorHum-outdoorHum_ratio done\n"
     ]
    },
    {
     "name": "stderr",
     "output_type": "stream",
     "text": [
      "  8%|██████▌                                                                         | 87/1070 [00:02<00:29, 32.88it/s]"
     ]
    },
    {
     "name": "stdout",
     "output_type": "stream",
     "text": [
      "outdoorHum_MDH_outdoorTemp_mean_ratio done\n",
      "outdoorHum_MDH_outdoorTemp_median_ratio done\n",
      "outdoorHum_MDH_outdoorHum_mean_ratio done\n",
      "outdoorHum_MDH_outdoorHum_median_ratio done\n",
      "outdoorHum_MDH_outdoorAtmo_mean_ratio done\n",
      "outdoorHum_MDH_outdoorAtmo_median_ratio done\n",
      "outdoorHum_MDH_indoorHum_mean_ratio done\n",
      "outdoorHum_MDH_indoorHum_median_ratio done\n"
     ]
    },
    {
     "name": "stderr",
     "output_type": "stream",
     "text": [
      "  9%|███████                                                                         | 95/1070 [00:03<00:28, 33.72it/s]"
     ]
    },
    {
     "name": "stdout",
     "output_type": "stream",
     "text": [
      "outdoorHum_MDH_indoorAtmo_mean_ratio done\n",
      "outdoorHum_MDH_indoorAtmo_median_ratio done\n",
      "outdoorHum_MDH_indoorAtmo-outdoorAtmo_mean_ratio done\n",
      "outdoorHum_MDH_indoorAtmo-outdoorAtmo_median_ratio done\n",
      "outdoorHum_MDH_indoorHum-outdoorHum_mean_ratio done\n",
      "outdoorHum_MDH_indoorHum-outdoorHum_median_ratio done\n",
      "outdoorAtmo_outdoorTemp_ratio done\n",
      "outdoorAtmo_outdoorHum_ratio done\n"
     ]
    },
    {
     "name": "stderr",
     "output_type": "stream",
     "text": [
      "\r",
      "  9%|███████▍                                                                        | 99/1070 [00:03<00:29, 33.38it/s]"
     ]
    },
    {
     "name": "stdout",
     "output_type": "stream",
     "text": [
      "outdoorAtmo_indoorHum_ratio done\n",
      "outdoorAtmo_indoorAtmo_ratio done\n",
      "outdoorAtmo_indoorAtmo-outdoorAtmo_ratio done\n",
      "outdoorAtmo_indoorHum-outdoorHum_ratio done\n",
      "outdoorAtmo_MDH_outdoorTemp_mean_ratio done\n",
      "outdoorAtmo_MDH_outdoorTemp_median_ratio done\n",
      "outdoorAtmo_MDH_outdoorHum_mean_ratio done\n"
     ]
    },
    {
     "name": "stderr",
     "output_type": "stream",
     "text": [
      " 10%|███████▉                                                                       | 107/1070 [00:03<00:29, 32.21it/s]"
     ]
    },
    {
     "name": "stdout",
     "output_type": "stream",
     "text": [
      "outdoorAtmo_MDH_outdoorHum_median_ratio done\n",
      "outdoorAtmo_MDH_outdoorAtmo_mean_ratio done\n",
      "outdoorAtmo_MDH_outdoorAtmo_median_ratio done\n",
      "outdoorAtmo_MDH_indoorHum_mean_ratio done\n",
      "outdoorAtmo_MDH_indoorHum_median_ratio done\n",
      "outdoorAtmo_MDH_indoorAtmo_mean_ratio done\n"
     ]
    },
    {
     "name": "stderr",
     "output_type": "stream",
     "text": [
      " 11%|████████▍                                                                      | 115/1070 [00:03<00:28, 33.20it/s]"
     ]
    },
    {
     "name": "stdout",
     "output_type": "stream",
     "text": [
      "outdoorAtmo_MDH_indoorAtmo_median_ratio done\n",
      "outdoorAtmo_MDH_indoorAtmo-outdoorAtmo_mean_ratio done\n",
      "outdoorAtmo_MDH_indoorAtmo-outdoorAtmo_median_ratio error\n",
      "outdoorAtmo_MDH_indoorHum-outdoorHum_mean_ratio done\n",
      "outdoorAtmo_MDH_indoorHum-outdoorHum_median_ratio done\n",
      "indoorHum_outdoorTemp_ratio done\n",
      "indoorHum_outdoorHum_ratio done\n"
     ]
    },
    {
     "name": "stderr",
     "output_type": "stream",
     "text": [
      "\r",
      " 11%|████████▊                                                                      | 119/1070 [00:03<00:28, 32.86it/s]"
     ]
    },
    {
     "name": "stdout",
     "output_type": "stream",
     "text": [
      "indoorHum_outdoorAtmo_ratio done\n",
      "indoorHum_indoorAtmo_ratio done\n",
      "indoorHum_indoorAtmo-outdoorAtmo_ratio done\n",
      "indoorHum_indoorHum-outdoorHum_ratio done\n",
      "indoorHum_MDH_outdoorTemp_mean_ratio done\n",
      "indoorHum_MDH_outdoorTemp_median_ratio done\n",
      "indoorHum_MDH_outdoorHum_mean_ratio done\n"
     ]
    },
    {
     "name": "stderr",
     "output_type": "stream",
     "text": [
      " 12%|█████████▍                                                                     | 127/1070 [00:04<00:29, 31.50it/s]"
     ]
    },
    {
     "name": "stdout",
     "output_type": "stream",
     "text": [
      "indoorHum_MDH_outdoorHum_median_ratio done\n",
      "indoorHum_MDH_outdoorAtmo_mean_ratio done\n",
      "indoorHum_MDH_outdoorAtmo_median_ratio done\n",
      "indoorHum_MDH_indoorHum_mean_ratio done\n",
      "indoorHum_MDH_indoorHum_median_ratio done\n",
      "indoorHum_MDH_indoorAtmo_mean_ratio done\n",
      "indoorHum_MDH_indoorAtmo_median_ratio done\n"
     ]
    },
    {
     "name": "stderr",
     "output_type": "stream",
     "text": [
      " 13%|█████████▉                                                                     | 135/1070 [00:04<00:29, 32.17it/s]"
     ]
    },
    {
     "name": "stdout",
     "output_type": "stream",
     "text": [
      "indoorHum_MDH_indoorAtmo-outdoorAtmo_mean_ratio done\n",
      "indoorHum_MDH_indoorAtmo-outdoorAtmo_median_ratio done\n",
      "indoorHum_MDH_indoorHum-outdoorHum_mean_ratio done\n",
      "indoorHum_MDH_indoorHum-outdoorHum_median_ratio done\n",
      "indoorAtmo_outdoorTemp_ratio done\n",
      "indoorAtmo_outdoorHum_ratio done\n",
      "indoorAtmo_outdoorAtmo_ratio done\n"
     ]
    },
    {
     "name": "stderr",
     "output_type": "stream",
     "text": [
      " 13%|██████████▌                                                                    | 143/1070 [00:04<00:28, 31.97it/s]"
     ]
    },
    {
     "name": "stdout",
     "output_type": "stream",
     "text": [
      "indoorAtmo_indoorHum_ratio done\n",
      "indoorAtmo_indoorAtmo-outdoorAtmo_ratio done\n",
      "indoorAtmo_indoorHum-outdoorHum_ratio done\n",
      "indoorAtmo_MDH_outdoorTemp_mean_ratio done\n",
      "indoorAtmo_MDH_outdoorTemp_median_ratio done\n",
      "indoorAtmo_MDH_outdoorHum_mean_ratio done\n",
      "indoorAtmo_MDH_outdoorHum_median_ratio done\n"
     ]
    },
    {
     "name": "stderr",
     "output_type": "stream",
     "text": [
      "\r",
      " 14%|██████████▊                                                                    | 147/1070 [00:04<00:29, 31.68it/s]"
     ]
    },
    {
     "name": "stdout",
     "output_type": "stream",
     "text": [
      "indoorAtmo_MDH_outdoorAtmo_mean_ratio done\n",
      "indoorAtmo_MDH_outdoorAtmo_median_ratio done\n",
      "indoorAtmo_MDH_indoorHum_mean_ratio done\n",
      "indoorAtmo_MDH_indoorHum_median_ratio done\n",
      "indoorAtmo_MDH_indoorAtmo_mean_ratio done\n",
      "indoorAtmo_MDH_indoorAtmo_median_ratio done\n",
      "indoorAtmo_MDH_indoorAtmo-outdoorAtmo_mean_ratio done\n"
     ]
    },
    {
     "name": "stderr",
     "output_type": "stream",
     "text": [
      " 14%|███████████▍                                                                   | 155/1070 [00:04<00:29, 31.23it/s]"
     ]
    },
    {
     "name": "stdout",
     "output_type": "stream",
     "text": [
      "indoorAtmo_MDH_indoorAtmo-outdoorAtmo_median_ratio done\n",
      "indoorAtmo_MDH_indoorHum-outdoorHum_mean_ratio done\n",
      "indoorAtmo_MDH_indoorHum-outdoorHum_median_ratio done\n",
      "indoorAtmo-outdoorAtmo_outdoorTemp_ratio done\n",
      "indoorAtmo-outdoorAtmo_outdoorHum_ratio done\n",
      "indoorAtmo-outdoorAtmo_outdoorAtmo_ratio done\n"
     ]
    },
    {
     "name": "stderr",
     "output_type": "stream",
     "text": [
      " 15%|████████████                                                                   | 163/1070 [00:05<00:28, 31.28it/s]"
     ]
    },
    {
     "name": "stdout",
     "output_type": "stream",
     "text": [
      "indoorAtmo-outdoorAtmo_indoorHum_ratio done\n",
      "indoorAtmo-outdoorAtmo_indoorAtmo_ratio done\n",
      "indoorAtmo-outdoorAtmo_indoorHum-outdoorHum_ratio done\n",
      "indoorAtmo-outdoorAtmo_MDH_outdoorTemp_mean_ratio done\n",
      "indoorAtmo-outdoorAtmo_MDH_outdoorTemp_median_ratio done\n",
      "indoorAtmo-outdoorAtmo_MDH_outdoorHum_mean_ratio done\n",
      "indoorAtmo-outdoorAtmo_MDH_outdoorHum_median_ratio done\n"
     ]
    },
    {
     "name": "stderr",
     "output_type": "stream",
     "text": [
      "\r",
      " 16%|████████████▎                                                                  | 167/1070 [00:05<00:28, 31.50it/s]"
     ]
    },
    {
     "name": "stdout",
     "output_type": "stream",
     "text": [
      "indoorAtmo-outdoorAtmo_MDH_outdoorAtmo_mean_ratio done\n",
      "indoorAtmo-outdoorAtmo_MDH_outdoorAtmo_median_ratio done\n",
      "indoorAtmo-outdoorAtmo_MDH_indoorHum_mean_ratio done\n",
      "indoorAtmo-outdoorAtmo_MDH_indoorHum_median_ratio done\n",
      "indoorAtmo-outdoorAtmo_MDH_indoorAtmo_mean_ratio done\n",
      "indoorAtmo-outdoorAtmo_MDH_indoorAtmo_median_ratio done\n",
      "indoorAtmo-outdoorAtmo_MDH_indoorAtmo-outdoorAtmo_mean_ratio done\n"
     ]
    },
    {
     "name": "stderr",
     "output_type": "stream",
     "text": [
      " 16%|████████████▉                                                                  | 175/1070 [00:05<00:27, 32.06it/s]"
     ]
    },
    {
     "name": "stdout",
     "output_type": "stream",
     "text": [
      "indoorAtmo-outdoorAtmo_MDH_indoorAtmo-outdoorAtmo_median_ratio done\n",
      "indoorAtmo-outdoorAtmo_MDH_indoorHum-outdoorHum_mean_ratio done\n",
      "indoorAtmo-outdoorAtmo_MDH_indoorHum-outdoorHum_median_ratio done\n",
      "indoorHum-outdoorHum_outdoorTemp_ratio done\n",
      "indoorHum-outdoorHum_outdoorHum_ratio done\n",
      "indoorHum-outdoorHum_outdoorAtmo_ratio done\n",
      "indoorHum-outdoorHum_indoorHum_ratio done\n"
     ]
    },
    {
     "name": "stderr",
     "output_type": "stream",
     "text": [
      "\r",
      " 17%|█████████████▎                                                                 | 180/1070 [00:05<00:26, 33.36it/s]"
     ]
    },
    {
     "name": "stdout",
     "output_type": "stream",
     "text": [
      "indoorHum-outdoorHum_indoorAtmo_ratio done\n",
      "indoorHum-outdoorHum_indoorAtmo-outdoorAtmo_ratio error\n",
      "indoorHum-outdoorHum_MDH_outdoorTemp_mean_ratio done\n",
      "indoorHum-outdoorHum_MDH_outdoorTemp_median_ratio done\n",
      "indoorHum-outdoorHum_MDH_outdoorHum_mean_ratio done\n",
      "indoorHum-outdoorHum_MDH_outdoorHum_median_ratio done\n",
      "indoorHum-outdoorHum_MDH_outdoorAtmo_mean_ratio done"
     ]
    },
    {
     "name": "stderr",
     "output_type": "stream",
     "text": [
      " 18%|█████████████▉                                                                 | 188/1070 [00:05<00:28, 31.09it/s]"
     ]
    },
    {
     "name": "stdout",
     "output_type": "stream",
     "text": [
      "\n",
      "indoorHum-outdoorHum_MDH_outdoorAtmo_median_ratio done\n",
      "indoorHum-outdoorHum_MDH_indoorHum_mean_ratio done\n",
      "indoorHum-outdoorHum_MDH_indoorHum_median_ratio done\n",
      "indoorHum-outdoorHum_MDH_indoorAtmo_mean_ratio done\n",
      "indoorHum-outdoorHum_MDH_indoorAtmo_median_ratio done\n"
     ]
    },
    {
     "name": "stderr",
     "output_type": "stream",
     "text": [
      " 18%|██████████████▍                                                                | 196/1070 [00:06<00:26, 32.61it/s]"
     ]
    },
    {
     "name": "stdout",
     "output_type": "stream",
     "text": [
      "indoorHum-outdoorHum_MDH_indoorAtmo-outdoorAtmo_mean_ratio done\n",
      "indoorHum-outdoorHum_MDH_indoorAtmo-outdoorAtmo_median_ratio error\n",
      "indoorHum-outdoorHum_MDH_indoorHum-outdoorHum_mean_ratio done\n",
      "indoorHum-outdoorHum_MDH_indoorHum-outdoorHum_median_ratio done\n",
      "MDH_outdoorTemp_mean_outdoorTemp_ratio done\n",
      "MDH_outdoorTemp_mean_outdoorHum_ratio done\n",
      "MDH_outdoorTemp_mean_outdoorAtmo_ratio done\n"
     ]
    },
    {
     "name": "stderr",
     "output_type": "stream",
     "text": [
      " 19%|███████████████                                                                | 204/1070 [00:06<00:25, 33.83it/s]"
     ]
    },
    {
     "name": "stdout",
     "output_type": "stream",
     "text": [
      "MDH_outdoorTemp_mean_indoorHum_ratio done\n",
      "MDH_outdoorTemp_mean_indoorAtmo_ratio done\n",
      "MDH_outdoorTemp_mean_indoorAtmo-outdoorAtmo_ratio error\n",
      "MDH_outdoorTemp_mean_indoorHum-outdoorHum_ratio done\n",
      "MDH_outdoorTemp_mean_MDH_outdoorTemp_median_ratio done\n",
      "MDH_outdoorTemp_mean_MDH_outdoorHum_mean_ratio done\n",
      "MDH_outdoorTemp_mean_MDH_outdoorHum_median_ratio done\n",
      "MDH_outdoorTemp_mean_MDH_outdoorAtmo_mean_ratio done\n"
     ]
    },
    {
     "name": "stderr",
     "output_type": "stream",
     "text": [
      "\r",
      " 19%|███████████████▎                                                               | 208/1070 [00:06<00:25, 33.44it/s]"
     ]
    },
    {
     "name": "stdout",
     "output_type": "stream",
     "text": [
      "MDH_outdoorTemp_mean_MDH_outdoorAtmo_median_ratio done\n",
      "MDH_outdoorTemp_mean_MDH_indoorHum_mean_ratio done\n",
      "MDH_outdoorTemp_mean_MDH_indoorHum_median_ratio done\n",
      "MDH_outdoorTemp_mean_MDH_indoorAtmo_mean_ratio done\n",
      "MDH_outdoorTemp_mean_MDH_indoorAtmo_median_ratio done\n",
      "MDH_outdoorTemp_mean_MDH_indoorAtmo-outdoorAtmo_mean_ratio done\n",
      "MDH_outdoorTemp_mean_MDH_indoorAtmo-outdoorAtmo_median_ratio done\n"
     ]
    },
    {
     "name": "stderr",
     "output_type": "stream",
     "text": [
      " 20%|███████████████▉                                                               | 216/1070 [00:06<00:25, 33.59it/s]"
     ]
    },
    {
     "name": "stdout",
     "output_type": "stream",
     "text": [
      "MDH_outdoorTemp_mean_MDH_indoorHum-outdoorHum_mean_ratio done\n",
      "MDH_outdoorTemp_mean_MDH_indoorHum-outdoorHum_median_ratio done\n",
      "MDH_outdoorTemp_median_outdoorTemp_ratio done\n",
      "MDH_outdoorTemp_median_outdoorHum_ratio done\n",
      "MDH_outdoorTemp_median_outdoorAtmo_ratio done\n",
      "MDH_outdoorTemp_median_indoorHum_ratio done\n",
      "MDH_outdoorTemp_median_indoorAtmo_ratio done\n"
     ]
    },
    {
     "name": "stderr",
     "output_type": "stream",
     "text": [
      " 21%|████████████████▌                                                              | 224/1070 [00:07<00:26, 32.32it/s]"
     ]
    },
    {
     "name": "stdout",
     "output_type": "stream",
     "text": [
      "MDH_outdoorTemp_median_indoorAtmo-outdoorAtmo_ratio done\n",
      "MDH_outdoorTemp_median_indoorHum-outdoorHum_ratio done\n",
      "MDH_outdoorTemp_median_MDH_outdoorTemp_mean_ratio done\n",
      "MDH_outdoorTemp_median_MDH_outdoorHum_mean_ratio done\n",
      "MDH_outdoorTemp_median_MDH_outdoorHum_median_ratio done\n",
      "MDH_outdoorTemp_median_MDH_outdoorAtmo_mean_ratio done\n",
      "MDH_outdoorTemp_median_MDH_outdoorAtmo_median_ratio done\n"
     ]
    },
    {
     "name": "stderr",
     "output_type": "stream",
     "text": [
      " 22%|█████████████████▏                                                             | 232/1070 [00:07<00:25, 33.06it/s]"
     ]
    },
    {
     "name": "stdout",
     "output_type": "stream",
     "text": [
      "MDH_outdoorTemp_median_MDH_indoorHum_mean_ratio done\n",
      "MDH_outdoorTemp_median_MDH_indoorHum_median_ratio done\n",
      "MDH_outdoorTemp_median_MDH_indoorAtmo_mean_ratio done\n",
      "MDH_outdoorTemp_median_MDH_indoorAtmo_median_ratio done\n",
      "MDH_outdoorTemp_median_MDH_indoorAtmo-outdoorAtmo_mean_ratio done\n",
      "MDH_outdoorTemp_median_MDH_indoorAtmo-outdoorAtmo_median_ratio done\n",
      "MDH_outdoorTemp_median_MDH_indoorHum-outdoorHum_mean_ratio done\n"
     ]
    },
    {
     "name": "stderr",
     "output_type": "stream",
     "text": [
      "\r",
      " 22%|█████████████████▍                                                             | 236/1070 [00:07<00:25, 32.92it/s]"
     ]
    },
    {
     "name": "stdout",
     "output_type": "stream",
     "text": [
      "MDH_outdoorTemp_median_MDH_indoorHum-outdoorHum_median_ratio done\n",
      "MDH_outdoorHum_mean_outdoorTemp_ratio done\n",
      "MDH_outdoorHum_mean_outdoorHum_ratio done\n",
      "MDH_outdoorHum_mean_outdoorAtmo_ratio done\n",
      "MDH_outdoorHum_mean_indoorHum_ratio done\n",
      "MDH_outdoorHum_mean_indoorAtmo_ratio done\n",
      "MDH_outdoorHum_mean_indoorAtmo-outdoorAtmo_ratio done\n"
     ]
    },
    {
     "name": "stderr",
     "output_type": "stream",
     "text": [
      " 23%|██████████████████                                                             | 244/1070 [00:07<00:25, 32.95it/s]"
     ]
    },
    {
     "name": "stdout",
     "output_type": "stream",
     "text": [
      "MDH_outdoorHum_mean_indoorHum-outdoorHum_ratio done\n",
      "MDH_outdoorHum_mean_MDH_outdoorTemp_mean_ratio done\n",
      "MDH_outdoorHum_mean_MDH_outdoorTemp_median_ratio done\n",
      "MDH_outdoorHum_mean_MDH_outdoorHum_median_ratio done\n",
      "MDH_outdoorHum_mean_MDH_outdoorAtmo_mean_ratio done\n",
      "MDH_outdoorHum_mean_MDH_outdoorAtmo_median_ratio done\n",
      "MDH_outdoorHum_mean_MDH_indoorHum_mean_ratio done\n",
      "MDH_outdoorHum_mean_MDH_indoorHum_median_ratio done\n"
     ]
    },
    {
     "name": "stderr",
     "output_type": "stream",
     "text": [
      " 24%|██████████████████▋                                                            | 253/1070 [00:07<00:23, 34.89it/s]"
     ]
    },
    {
     "name": "stdout",
     "output_type": "stream",
     "text": [
      "MDH_outdoorHum_mean_MDH_indoorAtmo_mean_ratio done\n",
      "MDH_outdoorHum_mean_MDH_indoorAtmo_median_ratio done\n",
      "MDH_outdoorHum_mean_MDH_indoorAtmo-outdoorAtmo_mean_ratio done\n",
      "MDH_outdoorHum_mean_MDH_indoorAtmo-outdoorAtmo_median_ratio error\n",
      "MDH_outdoorHum_mean_MDH_indoorHum-outdoorHum_mean_ratio done\n",
      "MDH_outdoorHum_mean_MDH_indoorHum-outdoorHum_median_ratio done\n",
      "MDH_outdoorHum_median_outdoorTemp_ratio done\n",
      "MDH_outdoorHum_median_outdoorHum_ratio done\n"
     ]
    },
    {
     "name": "stderr",
     "output_type": "stream",
     "text": [
      " 24%|███████████████████▎                                                           | 261/1070 [00:08<00:23, 34.26it/s]"
     ]
    },
    {
     "name": "stdout",
     "output_type": "stream",
     "text": [
      "MDH_outdoorHum_median_outdoorAtmo_ratio done\n",
      "MDH_outdoorHum_median_indoorHum_ratio done\n",
      "MDH_outdoorHum_median_indoorAtmo_ratio done\n",
      "MDH_outdoorHum_median_indoorAtmo-outdoorAtmo_ratio done\n",
      "MDH_outdoorHum_median_indoorHum-outdoorHum_ratio done\n",
      "MDH_outdoorHum_median_MDH_outdoorTemp_mean_ratio done\n",
      "MDH_outdoorHum_median_MDH_outdoorTemp_median_ratio done\n"
     ]
    },
    {
     "name": "stderr",
     "output_type": "stream",
     "text": [
      " 25%|███████████████████▊                                                           | 269/1070 [00:08<00:23, 33.42it/s]"
     ]
    },
    {
     "name": "stdout",
     "output_type": "stream",
     "text": [
      "MDH_outdoorHum_median_MDH_outdoorHum_mean_ratio done\n",
      "MDH_outdoorHum_median_MDH_outdoorAtmo_mean_ratio done\n",
      "MDH_outdoorHum_median_MDH_outdoorAtmo_median_ratio done\n",
      "MDH_outdoorHum_median_MDH_indoorHum_mean_ratio done\n",
      "MDH_outdoorHum_median_MDH_indoorHum_median_ratio done\n",
      "MDH_outdoorHum_median_MDH_indoorAtmo_mean_ratio done\n",
      "MDH_outdoorHum_median_MDH_indoorAtmo_median_ratio done\n"
     ]
    },
    {
     "name": "stderr",
     "output_type": "stream",
     "text": [
      "\r",
      " 26%|████████████████████▏                                                          | 273/1070 [00:08<00:23, 33.34it/s]"
     ]
    },
    {
     "name": "stdout",
     "output_type": "stream",
     "text": [
      "MDH_outdoorHum_median_MDH_indoorAtmo-outdoorAtmo_mean_ratio done\n",
      "MDH_outdoorHum_median_MDH_indoorAtmo-outdoorAtmo_median_ratio done\n",
      "MDH_outdoorHum_median_MDH_indoorHum-outdoorHum_mean_ratio done\n",
      "MDH_outdoorHum_median_MDH_indoorHum-outdoorHum_median_ratio done\n",
      "MDH_outdoorAtmo_mean_outdoorTemp_ratio done\n",
      "MDH_outdoorAtmo_mean_outdoorHum_ratio done\n",
      "MDH_outdoorAtmo_mean_outdoorAtmo_ratio done\n"
     ]
    },
    {
     "name": "stderr",
     "output_type": "stream",
     "text": [
      " 26%|████████████████████▊                                                          | 282/1070 [00:08<00:21, 35.83it/s]"
     ]
    },
    {
     "name": "stdout",
     "output_type": "stream",
     "text": [
      "MDH_outdoorAtmo_mean_indoorHum_ratio done\n",
      "MDH_outdoorAtmo_mean_indoorAtmo_ratio done\n",
      "MDH_outdoorAtmo_mean_indoorAtmo-outdoorAtmo_ratio done\n",
      "MDH_outdoorAtmo_mean_indoorHum-outdoorHum_ratio error\n",
      "MDH_outdoorAtmo_mean_MDH_outdoorTemp_mean_ratio done\n",
      "MDH_outdoorAtmo_mean_MDH_outdoorTemp_median_ratio done\n",
      "MDH_outdoorAtmo_mean_MDH_outdoorHum_mean_ratio done\n",
      "MDH_outdoorAtmo_mean_MDH_outdoorHum_median_ratio"
     ]
    },
    {
     "name": "stderr",
     "output_type": "stream",
     "text": [
      " 27%|█████████████████████▍                                                         | 290/1070 [00:08<00:22, 34.09it/s]"
     ]
    },
    {
     "name": "stdout",
     "output_type": "stream",
     "text": [
      " done\n",
      "MDH_outdoorAtmo_mean_MDH_outdoorAtmo_median_ratio done\n",
      "MDH_outdoorAtmo_mean_MDH_indoorHum_mean_ratio done\n",
      "MDH_outdoorAtmo_mean_MDH_indoorHum_median_ratio done\n",
      "MDH_outdoorAtmo_mean_MDH_indoorAtmo_mean_ratio done\n",
      "MDH_outdoorAtmo_mean_MDH_indoorAtmo_median_ratio done\n",
      "MDH_outdoorAtmo_mean_MDH_indoorAtmo-outdoorAtmo_mean_ratio done\n"
     ]
    },
    {
     "name": "stderr",
     "output_type": "stream",
     "text": [
      "\r",
      " 27%|█████████████████████▋                                                         | 294/1070 [00:09<00:22, 34.06it/s]"
     ]
    },
    {
     "name": "stdout",
     "output_type": "stream",
     "text": [
      "MDH_outdoorAtmo_mean_MDH_indoorAtmo-outdoorAtmo_median_ratio done\n",
      "MDH_outdoorAtmo_mean_MDH_indoorHum-outdoorHum_mean_ratio done\n",
      "MDH_outdoorAtmo_mean_MDH_indoorHum-outdoorHum_median_ratio done\n",
      "MDH_outdoorAtmo_median_outdoorTemp_ratio done\n",
      "MDH_outdoorAtmo_median_outdoorHum_ratio done\n",
      "MDH_outdoorAtmo_median_outdoorAtmo_ratio done\n",
      "MDH_outdoorAtmo_median_indoorHum_ratio done\n"
     ]
    },
    {
     "name": "stderr",
     "output_type": "stream",
     "text": [
      " 28%|██████████████████████▎                                                        | 302/1070 [00:09<00:22, 34.40it/s]"
     ]
    },
    {
     "name": "stdout",
     "output_type": "stream",
     "text": [
      "MDH_outdoorAtmo_median_indoorAtmo_ratio done\n",
      "MDH_outdoorAtmo_median_indoorAtmo-outdoorAtmo_ratio done\n",
      "MDH_outdoorAtmo_median_indoorHum-outdoorHum_ratio done\n",
      "MDH_outdoorAtmo_median_MDH_outdoorTemp_mean_ratio done\n",
      "MDH_outdoorAtmo_median_MDH_outdoorTemp_median_ratio done\n",
      "MDH_outdoorAtmo_median_MDH_outdoorHum_mean_ratio done\n",
      "MDH_outdoorAtmo_median_MDH_outdoorHum_median_ratio done\n",
      "MDH_outdoorAtmo_median_MDH_outdoorAtmo_mean_ratio done\n"
     ]
    },
    {
     "name": "stderr",
     "output_type": "stream",
     "text": [
      " 29%|██████████████████████▉                                                        | 310/1070 [00:09<00:22, 33.67it/s]"
     ]
    },
    {
     "name": "stdout",
     "output_type": "stream",
     "text": [
      "MDH_outdoorAtmo_median_MDH_indoorHum_mean_ratio done\n",
      "MDH_outdoorAtmo_median_MDH_indoorHum_median_ratio done\n",
      "MDH_outdoorAtmo_median_MDH_indoorAtmo_mean_ratio done\n",
      "MDH_outdoorAtmo_median_MDH_indoorAtmo_median_ratio done\n",
      "MDH_outdoorAtmo_median_MDH_indoorAtmo-outdoorAtmo_mean_ratio done\n",
      "MDH_outdoorAtmo_median_MDH_indoorAtmo-outdoorAtmo_median_ratio error\n",
      "MDH_outdoorAtmo_median_MDH_indoorHum-outdoorHum_mean_ratio done\n",
      "MDH_outdoorAtmo_median_MDH_indoorHum-outdoorHum_median_ratio done\n"
     ]
    },
    {
     "name": "stderr",
     "output_type": "stream",
     "text": [
      " 30%|███████████████████████▌                                                       | 319/1070 [00:09<00:21, 35.24it/s]"
     ]
    },
    {
     "name": "stdout",
     "output_type": "stream",
     "text": [
      "MDH_indoorHum_mean_outdoorTemp_ratio done\n",
      "MDH_indoorHum_mean_outdoorHum_ratio done\n",
      "MDH_indoorHum_mean_outdoorAtmo_ratio done\n",
      "MDH_indoorHum_mean_indoorHum_ratio done\n",
      "MDH_indoorHum_mean_indoorAtmo_ratio done\n",
      "MDH_indoorHum_mean_indoorAtmo-outdoorAtmo_ratio done\n",
      "MDH_indoorHum_mean_indoorHum-outdoorHum_ratio done\n"
     ]
    },
    {
     "name": "stderr",
     "output_type": "stream",
     "text": [
      " 31%|████████████████████████▏                                                      | 327/1070 [00:10<00:21, 34.37it/s]"
     ]
    },
    {
     "name": "stdout",
     "output_type": "stream",
     "text": [
      "MDH_indoorHum_mean_MDH_outdoorTemp_mean_ratio done\n",
      "MDH_indoorHum_mean_MDH_outdoorTemp_median_ratio done\n",
      "MDH_indoorHum_mean_MDH_outdoorHum_mean_ratio done\n",
      "MDH_indoorHum_mean_MDH_outdoorHum_median_ratio done\n",
      "MDH_indoorHum_mean_MDH_outdoorAtmo_mean_ratio done\n",
      "MDH_indoorHum_mean_MDH_outdoorAtmo_median_ratio done\n",
      "MDH_indoorHum_mean_MDH_indoorHum_median_ratio done\n"
     ]
    },
    {
     "name": "stderr",
     "output_type": "stream",
     "text": [
      "\r",
      " 31%|████████████████████████▍                                                      | 331/1070 [00:10<00:22, 33.25it/s]"
     ]
    },
    {
     "name": "stdout",
     "output_type": "stream",
     "text": [
      "MDH_indoorHum_mean_MDH_indoorAtmo_mean_ratio done\n",
      "MDH_indoorHum_mean_MDH_indoorAtmo_median_ratio done\n",
      "MDH_indoorHum_mean_MDH_indoorAtmo-outdoorAtmo_mean_ratio done\n",
      "MDH_indoorHum_mean_MDH_indoorAtmo-outdoorAtmo_median_ratio done\n",
      "MDH_indoorHum_mean_MDH_indoorHum-outdoorHum_mean_ratio done\n",
      "MDH_indoorHum_mean_MDH_indoorHum-outdoorHum_median_ratio done\n",
      "MDH_indoorHum_median_outdoorTemp_ratio"
     ]
    },
    {
     "name": "stderr",
     "output_type": "stream",
     "text": [
      " 32%|█████████████████████████                                                      | 339/1070 [00:10<00:22, 33.16it/s]"
     ]
    },
    {
     "name": "stdout",
     "output_type": "stream",
     "text": [
      " done\n",
      "MDH_indoorHum_median_outdoorHum_ratio done\n",
      "MDH_indoorHum_median_outdoorAtmo_ratio done\n",
      "MDH_indoorHum_median_indoorHum_ratio done\n",
      "MDH_indoorHum_median_indoorAtmo_ratio done\n",
      "MDH_indoorHum_median_indoorAtmo-outdoorAtmo_ratio done\n",
      "MDH_indoorHum_median_indoorHum-outdoorHum_ratio"
     ]
    },
    {
     "name": "stderr",
     "output_type": "stream",
     "text": [
      " 32%|█████████████████████████▌                                                     | 347/1070 [00:10<00:21, 33.24it/s]"
     ]
    },
    {
     "name": "stdout",
     "output_type": "stream",
     "text": [
      " done\n",
      "MDH_indoorHum_median_MDH_outdoorTemp_mean_ratio done\n",
      "MDH_indoorHum_median_MDH_outdoorTemp_median_ratio done\n",
      "MDH_indoorHum_median_MDH_outdoorHum_mean_ratio done\n",
      "MDH_indoorHum_median_MDH_outdoorHum_median_ratio done\n",
      "MDH_indoorHum_median_MDH_outdoorAtmo_mean_ratio done\n",
      "MDH_indoorHum_median_MDH_outdoorAtmo_median_ratio done\n",
      "MDH_indoorHum_median_MDH_indoorHum_mean_ratio done\n"
     ]
    },
    {
     "name": "stderr",
     "output_type": "stream",
     "text": [
      "\r",
      " 33%|█████████████████████████▉                                                     | 351/1070 [00:10<00:21, 32.97it/s]"
     ]
    },
    {
     "name": "stdout",
     "output_type": "stream",
     "text": [
      "MDH_indoorHum_median_MDH_indoorAtmo_mean_ratio done\n",
      "MDH_indoorHum_median_MDH_indoorAtmo_median_ratio done\n",
      "MDH_indoorHum_median_MDH_indoorAtmo-outdoorAtmo_mean_ratio done\n",
      "MDH_indoorHum_median_MDH_indoorAtmo-outdoorAtmo_median_ratio done\n",
      "MDH_indoorHum_median_MDH_indoorHum-outdoorHum_mean_ratio done\n",
      "MDH_indoorHum_median_MDH_indoorHum-outdoorHum_median_ratio done\n",
      "MDH_indoorAtmo_mean_outdoorTemp_ratio done\n"
     ]
    },
    {
     "name": "stderr",
     "output_type": "stream",
     "text": [
      " 34%|██████████████████████████▌                                                    | 359/1070 [00:11<00:21, 33.54it/s]"
     ]
    },
    {
     "name": "stdout",
     "output_type": "stream",
     "text": [
      "MDH_indoorAtmo_mean_outdoorHum_ratio done\n",
      "MDH_indoorAtmo_mean_outdoorAtmo_ratio done\n",
      "MDH_indoorAtmo_mean_indoorHum_ratio done\n",
      "MDH_indoorAtmo_mean_indoorAtmo_ratio done\n",
      "MDH_indoorAtmo_mean_indoorAtmo-outdoorAtmo_ratio done\n",
      "MDH_indoorAtmo_mean_indoorHum-outdoorHum_ratio done\n",
      "MDH_indoorAtmo_mean_MDH_outdoorTemp_mean_ratio done\n"
     ]
    },
    {
     "name": "stderr",
     "output_type": "stream",
     "text": [
      " 34%|███████████████████████████                                                    | 367/1070 [00:11<00:20, 33.89it/s]"
     ]
    },
    {
     "name": "stdout",
     "output_type": "stream",
     "text": [
      "MDH_indoorAtmo_mean_MDH_outdoorTemp_median_ratio done\n",
      "MDH_indoorAtmo_mean_MDH_outdoorHum_mean_ratio done\n",
      "MDH_indoorAtmo_mean_MDH_outdoorHum_median_ratio done\n",
      "MDH_indoorAtmo_mean_MDH_outdoorAtmo_mean_ratio done\n",
      "MDH_indoorAtmo_mean_MDH_outdoorAtmo_median_ratio done\n",
      "MDH_indoorAtmo_mean_MDH_indoorHum_mean_ratio done\n",
      "MDH_indoorAtmo_mean_MDH_indoorHum_median_ratio done\n",
      "MDH_indoorAtmo_mean_MDH_indoorAtmo_median_ratio done\n"
     ]
    },
    {
     "name": "stderr",
     "output_type": "stream",
     "text": [
      " 35%|███████████████████████████▋                                                   | 375/1070 [00:11<00:20, 34.52it/s]"
     ]
    },
    {
     "name": "stdout",
     "output_type": "stream",
     "text": [
      "MDH_indoorAtmo_mean_MDH_indoorAtmo-outdoorAtmo_mean_ratio done\n",
      "MDH_indoorAtmo_mean_MDH_indoorAtmo-outdoorAtmo_median_ratio done\n",
      "MDH_indoorAtmo_mean_MDH_indoorHum-outdoorHum_mean_ratio done\n",
      "MDH_indoorAtmo_mean_MDH_indoorHum-outdoorHum_median_ratio done\n",
      "MDH_indoorAtmo_median_outdoorTemp_ratio done\n",
      "MDH_indoorAtmo_median_outdoorHum_ratio done\n",
      "MDH_indoorAtmo_median_outdoorAtmo_ratio done\n",
      "MDH_indoorAtmo_median_indoorHum_ratio done\n"
     ]
    },
    {
     "name": "stderr",
     "output_type": "stream",
     "text": [
      " 36%|████████████████████████████▎                                                  | 383/1070 [00:11<00:19, 35.03it/s]"
     ]
    },
    {
     "name": "stdout",
     "output_type": "stream",
     "text": [
      "MDH_indoorAtmo_median_indoorAtmo_ratio done\n",
      "MDH_indoorAtmo_median_indoorAtmo-outdoorAtmo_ratio done\n",
      "MDH_indoorAtmo_median_indoorHum-outdoorHum_ratio done\n",
      "MDH_indoorAtmo_median_MDH_outdoorTemp_mean_ratio done\n",
      "MDH_indoorAtmo_median_MDH_outdoorTemp_median_ratio done\n",
      "MDH_indoorAtmo_median_MDH_outdoorHum_mean_ratio done\n",
      "MDH_indoorAtmo_median_MDH_outdoorHum_median_ratio done\n"
     ]
    },
    {
     "name": "stderr",
     "output_type": "stream",
     "text": [
      " 37%|████████████████████████████▊                                                  | 391/1070 [00:11<00:20, 32.40it/s]"
     ]
    },
    {
     "name": "stdout",
     "output_type": "stream",
     "text": [
      "MDH_indoorAtmo_median_MDH_outdoorAtmo_mean_ratio done\n",
      "MDH_indoorAtmo_median_MDH_outdoorAtmo_median_ratio done\n",
      "MDH_indoorAtmo_median_MDH_indoorHum_mean_ratio done\n",
      "MDH_indoorAtmo_median_MDH_indoorHum_median_ratio done\n",
      "MDH_indoorAtmo_median_MDH_indoorAtmo_mean_ratio done\n",
      "MDH_indoorAtmo_median_MDH_indoorAtmo-outdoorAtmo_mean_ratio done\n",
      "MDH_indoorAtmo_median_MDH_indoorAtmo-outdoorAtmo_median_ratio done\n"
     ]
    },
    {
     "name": "stderr",
     "output_type": "stream",
     "text": [
      "\r",
      " 37%|█████████████████████████████▏                                                 | 395/1070 [00:12<00:20, 32.77it/s]"
     ]
    },
    {
     "name": "stdout",
     "output_type": "stream",
     "text": [
      "MDH_indoorAtmo_median_MDH_indoorHum-outdoorHum_mean_ratio done\n",
      "MDH_indoorAtmo_median_MDH_indoorHum-outdoorHum_median_ratio done\n",
      "MDH_indoorAtmo-outdoorAtmo_mean_outdoorTemp_ratio done\n",
      "MDH_indoorAtmo-outdoorAtmo_mean_outdoorHum_ratio done\n",
      "MDH_indoorAtmo-outdoorAtmo_mean_outdoorAtmo_ratio done\n",
      "MDH_indoorAtmo-outdoorAtmo_mean_indoorHum_ratio done\n",
      "MDH_indoorAtmo-outdoorAtmo_mean_indoorAtmo_ratio done\n",
      "MDH_indoorAtmo-outdoorAtmo_mean_indoorAtmo-outdoorAtmo_ratio error\n"
     ]
    },
    {
     "name": "stderr",
     "output_type": "stream",
     "text": [
      " 38%|█████████████████████████████▊                                                 | 404/1070 [00:12<00:19, 33.70it/s]"
     ]
    },
    {
     "name": "stdout",
     "output_type": "stream",
     "text": [
      "MDH_indoorAtmo-outdoorAtmo_mean_indoorHum-outdoorHum_ratio done\n",
      "MDH_indoorAtmo-outdoorAtmo_mean_MDH_outdoorTemp_mean_ratio done\n",
      "MDH_indoorAtmo-outdoorAtmo_mean_MDH_outdoorTemp_median_ratio done\n",
      "MDH_indoorAtmo-outdoorAtmo_mean_MDH_outdoorHum_mean_ratio done\n",
      "MDH_indoorAtmo-outdoorAtmo_mean_MDH_outdoorHum_median_ratio done\n",
      "MDH_indoorAtmo-outdoorAtmo_mean_MDH_outdoorAtmo_mean_ratio done\n",
      "MDH_indoorAtmo-outdoorAtmo_mean_MDH_outdoorAtmo_median_ratio done\n"
     ]
    },
    {
     "name": "stderr",
     "output_type": "stream",
     "text": [
      " 39%|██████████████████████████████▍                                                | 412/1070 [00:12<00:19, 34.20it/s]"
     ]
    },
    {
     "name": "stdout",
     "output_type": "stream",
     "text": [
      "MDH_indoorAtmo-outdoorAtmo_mean_MDH_indoorHum_mean_ratio done\n",
      "MDH_indoorAtmo-outdoorAtmo_mean_MDH_indoorHum_median_ratio done\n",
      "MDH_indoorAtmo-outdoorAtmo_mean_MDH_indoorAtmo_mean_ratio done\n",
      "MDH_indoorAtmo-outdoorAtmo_mean_MDH_indoorAtmo_median_ratio done\n",
      "MDH_indoorAtmo-outdoorAtmo_mean_MDH_indoorAtmo-outdoorAtmo_median_ratio error\n",
      "MDH_indoorAtmo-outdoorAtmo_mean_MDH_indoorHum-outdoorHum_mean_ratio done\n",
      "MDH_indoorAtmo-outdoorAtmo_mean_MDH_indoorHum-outdoorHum_median_ratio error\n",
      "MDH_indoorAtmo-outdoorAtmo_median_outdoorTemp_ratio done\n"
     ]
    },
    {
     "name": "stderr",
     "output_type": "stream",
     "text": [
      " 39%|███████████████████████████████                                                | 420/1070 [00:12<00:18, 34.35it/s]"
     ]
    },
    {
     "name": "stdout",
     "output_type": "stream",
     "text": [
      "MDH_indoorAtmo-outdoorAtmo_median_outdoorHum_ratio done\n",
      "MDH_indoorAtmo-outdoorAtmo_median_outdoorAtmo_ratio done\n",
      "MDH_indoorAtmo-outdoorAtmo_median_indoorHum_ratio done\n",
      "MDH_indoorAtmo-outdoorAtmo_median_indoorAtmo_ratio done\n",
      "MDH_indoorAtmo-outdoorAtmo_median_indoorAtmo-outdoorAtmo_ratio done\n",
      "MDH_indoorAtmo-outdoorAtmo_median_indoorHum-outdoorHum_ratio done\n",
      "MDH_indoorAtmo-outdoorAtmo_median_MDH_outdoorTemp_mean_ratio done\n"
     ]
    },
    {
     "name": "stderr",
     "output_type": "stream",
     "text": [
      " 40%|███████████████████████████████▌                                               | 428/1070 [00:13<00:19, 33.66it/s]"
     ]
    },
    {
     "name": "stdout",
     "output_type": "stream",
     "text": [
      "MDH_indoorAtmo-outdoorAtmo_median_MDH_outdoorTemp_median_ratio done\n",
      "MDH_indoorAtmo-outdoorAtmo_median_MDH_outdoorHum_mean_ratio done\n",
      "MDH_indoorAtmo-outdoorAtmo_median_MDH_outdoorHum_median_ratio done\n",
      "MDH_indoorAtmo-outdoorAtmo_median_MDH_outdoorAtmo_mean_ratio done\n",
      "MDH_indoorAtmo-outdoorAtmo_median_MDH_outdoorAtmo_median_ratio done\n",
      "MDH_indoorAtmo-outdoorAtmo_median_MDH_indoorHum_mean_ratio done\n",
      "MDH_indoorAtmo-outdoorAtmo_median_MDH_indoorHum_median_ratio done\n",
      "MDH_indoorAtmo-outdoorAtmo_median_MDH_indoorAtmo_mean_ratio done\n"
     ]
    },
    {
     "name": "stderr",
     "output_type": "stream",
     "text": [
      "\r",
      " 40%|███████████████████████████████▉                                               | 432/1070 [00:13<00:19, 32.76it/s]"
     ]
    },
    {
     "name": "stdout",
     "output_type": "stream",
     "text": [
      "MDH_indoorAtmo-outdoorAtmo_median_MDH_indoorAtmo_median_ratio done\n",
      "MDH_indoorAtmo-outdoorAtmo_median_MDH_indoorAtmo-outdoorAtmo_mean_ratio done\n",
      "MDH_indoorAtmo-outdoorAtmo_median_MDH_indoorHum-outdoorHum_mean_ratio done\n",
      "MDH_indoorAtmo-outdoorAtmo_median_MDH_indoorHum-outdoorHum_median_ratio done\n",
      "MDH_indoorHum-outdoorHum_mean_outdoorTemp_ratio done\n",
      "MDH_indoorHum-outdoorHum_mean_outdoorHum_ratio done\n"
     ]
    },
    {
     "name": "stderr",
     "output_type": "stream",
     "text": [
      " 41%|████████████████████████████████▍                                              | 440/1070 [00:13<00:19, 32.75it/s]"
     ]
    },
    {
     "name": "stdout",
     "output_type": "stream",
     "text": [
      "MDH_indoorHum-outdoorHum_mean_outdoorAtmo_ratio done\n",
      "MDH_indoorHum-outdoorHum_mean_indoorHum_ratio done\n",
      "MDH_indoorHum-outdoorHum_mean_indoorAtmo_ratio done\n",
      "MDH_indoorHum-outdoorHum_mean_indoorAtmo-outdoorAtmo_ratio error\n",
      "MDH_indoorHum-outdoorHum_mean_indoorHum-outdoorHum_ratio done\n",
      "MDH_indoorHum-outdoorHum_mean_MDH_outdoorTemp_mean_ratio done\n",
      "MDH_indoorHum-outdoorHum_mean_MDH_outdoorTemp_median_ratio done\n"
     ]
    },
    {
     "name": "stderr",
     "output_type": "stream",
     "text": [
      " 42%|█████████████████████████████████                                              | 448/1070 [00:13<00:19, 31.95it/s]"
     ]
    },
    {
     "name": "stdout",
     "output_type": "stream",
     "text": [
      "MDH_indoorHum-outdoorHum_mean_MDH_outdoorHum_mean_ratio done\n",
      "MDH_indoorHum-outdoorHum_mean_MDH_outdoorHum_median_ratio done\n",
      "MDH_indoorHum-outdoorHum_mean_MDH_outdoorAtmo_mean_ratio done\n",
      "MDH_indoorHum-outdoorHum_mean_MDH_outdoorAtmo_median_ratio done\n",
      "MDH_indoorHum-outdoorHum_mean_MDH_indoorHum_mean_ratio done\n",
      "MDH_indoorHum-outdoorHum_mean_MDH_indoorHum_median_ratio done\n",
      "MDH_indoorHum-outdoorHum_mean_MDH_indoorAtmo_mean_ratio done\n"
     ]
    },
    {
     "name": "stderr",
     "output_type": "stream",
     "text": [
      " 43%|█████████████████████████████████▋                                             | 456/1070 [00:13<00:19, 32.15it/s]"
     ]
    },
    {
     "name": "stdout",
     "output_type": "stream",
     "text": [
      "MDH_indoorHum-outdoorHum_mean_MDH_indoorAtmo_median_ratio done\n",
      "MDH_indoorHum-outdoorHum_mean_MDH_indoorAtmo-outdoorAtmo_mean_ratio done\n",
      "MDH_indoorHum-outdoorHum_mean_MDH_indoorAtmo-outdoorAtmo_median_ratio error\n",
      "MDH_indoorHum-outdoorHum_mean_MDH_indoorHum-outdoorHum_median_ratio done\n",
      "MDH_indoorHum-outdoorHum_median_outdoorTemp_ratio done\n",
      "MDH_indoorHum-outdoorHum_median_outdoorHum_ratio done\n",
      "MDH_indoorHum-outdoorHum_median_outdoorAtmo_ratio done\n"
     ]
    },
    {
     "name": "stderr",
     "output_type": "stream",
     "text": [
      " 43%|██████████████████████████████████▎                                            | 464/1070 [00:14<00:18, 32.42it/s]"
     ]
    },
    {
     "name": "stdout",
     "output_type": "stream",
     "text": [
      "MDH_indoorHum-outdoorHum_median_indoorHum_ratio done\n",
      "MDH_indoorHum-outdoorHum_median_indoorAtmo_ratio done\n",
      "MDH_indoorHum-outdoorHum_median_indoorAtmo-outdoorAtmo_ratio error\n",
      "MDH_indoorHum-outdoorHum_median_indoorHum-outdoorHum_ratio done\n",
      "MDH_indoorHum-outdoorHum_median_MDH_outdoorTemp_mean_ratio done\n",
      "MDH_indoorHum-outdoorHum_median_MDH_outdoorTemp_median_ratio done\n",
      "MDH_indoorHum-outdoorHum_median_MDH_outdoorHum_mean_ratio done\n",
      "MDH_indoorHum-outdoorHum_median_MDH_outdoorHum_median_ratio done\n"
     ]
    },
    {
     "name": "stderr",
     "output_type": "stream",
     "text": [
      "\r",
      " 44%|██████████████████████████████████▌                                            | 468/1070 [00:14<00:18, 32.16it/s]"
     ]
    },
    {
     "name": "stdout",
     "output_type": "stream",
     "text": [
      "MDH_indoorHum-outdoorHum_median_MDH_outdoorAtmo_mean_ratio done\n",
      "MDH_indoorHum-outdoorHum_median_MDH_outdoorAtmo_median_ratio done\n",
      "MDH_indoorHum-outdoorHum_median_MDH_indoorHum_mean_ratio done\n",
      "MDH_indoorHum-outdoorHum_median_MDH_indoorHum_median_ratio done\n",
      "MDH_indoorHum-outdoorHum_median_MDH_indoorAtmo_mean_ratio done\n",
      "MDH_indoorHum-outdoorHum_median_MDH_indoorAtmo_median_ratio done\n",
      "MDH_indoorHum-outdoorHum_median_MDH_indoorAtmo-outdoorAtmo_mean_ratio done\n"
     ]
    },
    {
     "name": "stderr",
     "output_type": "stream",
     "text": [
      " 44%|███████████████████████████████████▏                                           | 476/1070 [00:14<00:18, 32.28it/s]"
     ]
    },
    {
     "name": "stdout",
     "output_type": "stream",
     "text": [
      "MDH_indoorHum-outdoorHum_median_MDH_indoorAtmo-outdoorAtmo_median_ratio error\n",
      "MDH_indoorHum-outdoorHum_median_MDH_indoorHum-outdoorHum_mean_ratio done\n",
      "dt done\n",
      "hit_outdoorTemp_mean done\n",
      "hit_outdoorHum_mean done\n",
      "hit_outdoorAtmo_mean done\n"
     ]
    },
    {
     "name": "stderr",
     "output_type": "stream",
     "text": [
      " 45%|███████████████████████████████████▋                                           | 484/1070 [00:14<00:18, 31.99it/s]"
     ]
    },
    {
     "name": "stdout",
     "output_type": "stream",
     "text": [
      "hit_indoorHum_mean done\n",
      "hit_indoorAtmo_mean done\n",
      "hit_indoorAtmo-outdoorAtmo_mean done\n",
      "hit_indoorHum-outdoorHum_mean done\n",
      "hit_temperature_mean done\n",
      "outdoorTemp_20_bin done\n",
      "outdoorTemp_50_bin done\n"
     ]
    },
    {
     "name": "stderr",
     "output_type": "stream",
     "text": [
      "\r",
      " 46%|████████████████████████████████████                                           | 488/1070 [00:14<00:18, 31.49it/s]"
     ]
    },
    {
     "name": "stdout",
     "output_type": "stream",
     "text": [
      "outdoorTemp_100_bin done\n",
      "outdoorTemp_200_bin done\n",
      "outdoorHum_20_bin done\n",
      "outdoorHum_50_bin done\n",
      "outdoorHum_100_bin done\n",
      "outdoorHum_200_bin done\n",
      "outdoorAtmo_20_bin done\n"
     ]
    },
    {
     "name": "stderr",
     "output_type": "stream",
     "text": [
      " 46%|████████████████████████████████████▌                                          | 496/1070 [00:15<00:18, 31.79it/s]"
     ]
    },
    {
     "name": "stdout",
     "output_type": "stream",
     "text": [
      "outdoorAtmo_50_bin done\n",
      "outdoorAtmo_100_bin done\n",
      "outdoorAtmo_200_bin done\n",
      "indoorHum_20_bin done\n",
      "indoorHum_50_bin done\n",
      "indoorHum_100_bin done\n",
      "indoorHum_200_bin done\n"
     ]
    },
    {
     "name": "stderr",
     "output_type": "stream",
     "text": [
      " 47%|█████████████████████████████████████▏                                         | 504/1070 [00:15<00:16, 34.20it/s]"
     ]
    },
    {
     "name": "stdout",
     "output_type": "stream",
     "text": [
      "indoorAtmo_20_bin done\n",
      "indoorAtmo_50_bin done\n",
      "indoorAtmo_100_bin done\n",
      "indoorAtmo_200_bin done\n",
      "indoorAtmo-outdoorAtmo_20_bin done\n",
      "indoorAtmo-outdoorAtmo_50_bin done\n",
      "indoorAtmo-outdoorAtmo_100_bin done\n",
      "indoorAtmo-outdoorAtmo_200_bin done\n"
     ]
    },
    {
     "name": "stderr",
     "output_type": "stream",
     "text": [
      " 48%|█████████████████████████████████████▊                                         | 512/1070 [00:15<00:16, 34.04it/s]"
     ]
    },
    {
     "name": "stdout",
     "output_type": "stream",
     "text": [
      "indoorHum-outdoorHum_20_bin done\n",
      "indoorHum-outdoorHum_50_bin done\n",
      "indoorHum-outdoorHum_100_bin done\n",
      "indoorHum-outdoorHum_200_bin done\n",
      "outdoorTemp_20_bin_outdoorTemp_median done\n",
      "outdoorTemp_20_bin_outdoorTemp_mean done\n",
      "outdoorTemp_20_bin_outdoorTemp_max done\n"
     ]
    },
    {
     "name": "stderr",
     "output_type": "stream",
     "text": [
      " 49%|██████████████████████████████████████▍                                        | 520/1070 [00:15<00:16, 34.05it/s]"
     ]
    },
    {
     "name": "stdout",
     "output_type": "stream",
     "text": [
      "outdoorTemp_20_bin_outdoorTemp_min done\n",
      "outdoorTemp_20_bin_outdoorHum_median done\n",
      "outdoorTemp_20_bin_outdoorHum_mean done\n",
      "outdoorTemp_20_bin_outdoorHum_max done\n",
      "outdoorTemp_20_bin_outdoorHum_min done\n",
      "outdoorTemp_20_bin_outdoorAtmo_median done\n",
      "outdoorTemp_20_bin_outdoorAtmo_mean done\n"
     ]
    },
    {
     "name": "stderr",
     "output_type": "stream",
     "text": [
      " 49%|██████████████████████████████████████▉                                        | 528/1070 [00:16<00:15, 35.13it/s]"
     ]
    },
    {
     "name": "stdout",
     "output_type": "stream",
     "text": [
      "outdoorTemp_20_bin_outdoorAtmo_max done\n",
      "outdoorTemp_20_bin_outdoorAtmo_min done\n",
      "outdoorTemp_20_bin_indoorHum_median done\n",
      "outdoorTemp_20_bin_indoorHum_mean done\n",
      "outdoorTemp_20_bin_indoorHum_max done\n",
      "outdoorTemp_20_bin_indoorHum_min done\n",
      "outdoorTemp_20_bin_indoorAtmo_median done\n",
      "outdoorTemp_20_bin_indoorAtmo_mean done\n"
     ]
    },
    {
     "name": "stderr",
     "output_type": "stream",
     "text": [
      "\r",
      " 50%|███████████████████████████████████████▎                                       | 532/1070 [00:16<00:15, 34.13it/s]"
     ]
    },
    {
     "name": "stdout",
     "output_type": "stream",
     "text": [
      "outdoorTemp_20_bin_indoorAtmo_max done\n",
      "outdoorTemp_20_bin_indoorAtmo_min done\n",
      "outdoorTemp_20_bin_indoorAtmo-outdoorAtmo_median done\n",
      "outdoorTemp_20_bin_indoorAtmo-outdoorAtmo_mean done\n",
      "outdoorTemp_20_bin_indoorAtmo-outdoorAtmo_max done\n",
      "outdoorTemp_20_bin_indoorAtmo-outdoorAtmo_min done\n",
      "outdoorTemp_20_bin_indoorHum-outdoorHum_median done\n"
     ]
    },
    {
     "name": "stderr",
     "output_type": "stream",
     "text": [
      " 50%|███████████████████████████████████████▊                                       | 540/1070 [00:16<00:16, 33.12it/s]"
     ]
    },
    {
     "name": "stdout",
     "output_type": "stream",
     "text": [
      "outdoorTemp_20_bin_indoorHum-outdoorHum_mean done\n",
      "outdoorTemp_20_bin_indoorHum-outdoorHum_max done\n",
      "outdoorTemp_20_bin_indoorHum-outdoorHum_min done\n",
      "outdoorHum_20_bin_outdoorTemp_median done\n",
      "outdoorHum_20_bin_outdoorTemp_mean done\n",
      "outdoorHum_20_bin_outdoorTemp_max done\n",
      "outdoorHum_20_bin_outdoorTemp_min"
     ]
    },
    {
     "name": "stderr",
     "output_type": "stream",
     "text": [
      " 51%|████████████████████████████████████████▍                                      | 548/1070 [00:16<00:15, 33.10it/s]"
     ]
    },
    {
     "name": "stdout",
     "output_type": "stream",
     "text": [
      " done\n",
      "outdoorHum_20_bin_outdoorHum_median done\n",
      "outdoorHum_20_bin_outdoorHum_mean done\n",
      "outdoorHum_20_bin_outdoorHum_max done\n",
      "outdoorHum_20_bin_outdoorHum_min done\n",
      "outdoorHum_20_bin_outdoorAtmo_median done\n",
      "outdoorHum_20_bin_outdoorAtmo_mean done\n"
     ]
    },
    {
     "name": "stderr",
     "output_type": "stream",
     "text": [
      " 52%|█████████████████████████████████████████                                      | 556/1070 [00:16<00:15, 33.46it/s]"
     ]
    },
    {
     "name": "stdout",
     "output_type": "stream",
     "text": [
      "outdoorHum_20_bin_outdoorAtmo_max done\n",
      "outdoorHum_20_bin_outdoorAtmo_min done\n",
      "outdoorHum_20_bin_indoorHum_median done\n",
      "outdoorHum_20_bin_indoorHum_mean done\n",
      "outdoorHum_20_bin_indoorHum_max done\n",
      "outdoorHum_20_bin_indoorHum_min done\n",
      "outdoorHum_20_bin_indoorAtmo_median done\n",
      "outdoorHum_20_bin_indoorAtmo_mean done\n"
     ]
    },
    {
     "name": "stderr",
     "output_type": "stream",
     "text": [
      "\r",
      " 52%|█████████████████████████████████████████▎                                     | 560/1070 [00:17<00:15, 32.24it/s]"
     ]
    },
    {
     "name": "stdout",
     "output_type": "stream",
     "text": [
      "outdoorHum_20_bin_indoorAtmo_max done\n",
      "outdoorHum_20_bin_indoorAtmo_min done\n",
      "outdoorHum_20_bin_indoorAtmo-outdoorAtmo_median done\n",
      "outdoorHum_20_bin_indoorAtmo-outdoorAtmo_mean done\n",
      "outdoorHum_20_bin_indoorAtmo-outdoorAtmo_max done\n",
      "outdoorHum_20_bin_indoorAtmo-outdoorAtmo_min done\n"
     ]
    },
    {
     "name": "stderr",
     "output_type": "stream",
     "text": [
      " 53%|█████████████████████████████████████████▉                                     | 568/1070 [00:17<00:15, 31.73it/s]"
     ]
    },
    {
     "name": "stdout",
     "output_type": "stream",
     "text": [
      "outdoorHum_20_bin_indoorHum-outdoorHum_median done\n",
      "outdoorHum_20_bin_indoorHum-outdoorHum_mean done\n",
      "outdoorHum_20_bin_indoorHum-outdoorHum_max done\n",
      "outdoorHum_20_bin_indoorHum-outdoorHum_min done\n",
      "outdoorAtmo_20_bin_outdoorTemp_median done\n",
      "outdoorAtmo_20_bin_outdoorTemp_mean done\n",
      "outdoorAtmo_20_bin_outdoorTemp_max done\n"
     ]
    },
    {
     "name": "stderr",
     "output_type": "stream",
     "text": [
      " 54%|██████████████████████████████████████████▌                                    | 576/1070 [00:17<00:14, 34.38it/s]"
     ]
    },
    {
     "name": "stdout",
     "output_type": "stream",
     "text": [
      "outdoorAtmo_20_bin_outdoorTemp_min done\n",
      "outdoorAtmo_20_bin_outdoorHum_median done\n",
      "outdoorAtmo_20_bin_outdoorHum_mean done\n",
      "outdoorAtmo_20_bin_outdoorHum_max done\n",
      "outdoorAtmo_20_bin_outdoorHum_min done\n",
      "outdoorAtmo_20_bin_outdoorAtmo_median done\n",
      "outdoorAtmo_20_bin_outdoorAtmo_mean done\n",
      "outdoorAtmo_20_bin_outdoorAtmo_max done\n",
      "outdoorAtmo_20_bin_outdoorAtmo_min"
     ]
    },
    {
     "name": "stderr",
     "output_type": "stream",
     "text": [
      " 55%|███████████████████████████████████████████▏                                   | 585/1070 [00:17<00:13, 36.19it/s]"
     ]
    },
    {
     "name": "stdout",
     "output_type": "stream",
     "text": [
      " done\n",
      "outdoorAtmo_20_bin_indoorHum_median done\n",
      "outdoorAtmo_20_bin_indoorHum_mean done\n",
      "outdoorAtmo_20_bin_indoorHum_max done\n",
      "outdoorAtmo_20_bin_indoorHum_min done\n",
      "outdoorAtmo_20_bin_indoorAtmo_median done\n",
      "outdoorAtmo_20_bin_indoorAtmo_mean done\n",
      "outdoorAtmo_20_bin_indoorAtmo_max done\n"
     ]
    },
    {
     "name": "stderr",
     "output_type": "stream",
     "text": [
      "\r",
      " 55%|███████████████████████████████████████████▍                                   | 589/1070 [00:17<00:13, 34.58it/s]"
     ]
    },
    {
     "name": "stdout",
     "output_type": "stream",
     "text": [
      "outdoorAtmo_20_bin_indoorAtmo_min done\n",
      "outdoorAtmo_20_bin_indoorAtmo-outdoorAtmo_median done\n",
      "outdoorAtmo_20_bin_indoorAtmo-outdoorAtmo_mean done\n",
      "outdoorAtmo_20_bin_indoorAtmo-outdoorAtmo_max done\n",
      "outdoorAtmo_20_bin_indoorAtmo-outdoorAtmo_min done\n",
      "outdoorAtmo_20_bin_indoorHum-outdoorHum_median done\n",
      "outdoorAtmo_20_bin_indoorHum-outdoorHum_mean done\n"
     ]
    },
    {
     "name": "stderr",
     "output_type": "stream",
     "text": [
      " 56%|████████████████████████████████████████████                                   | 597/1070 [00:18<00:13, 34.83it/s]"
     ]
    },
    {
     "name": "stdout",
     "output_type": "stream",
     "text": [
      "outdoorAtmo_20_bin_indoorHum-outdoorHum_max done\n",
      "outdoorAtmo_20_bin_indoorHum-outdoorHum_min done\n",
      "indoorHum_20_bin_outdoorTemp_median done\n",
      "indoorHum_20_bin_outdoorTemp_mean done\n",
      "indoorHum_20_bin_outdoorTemp_max done\n",
      "indoorHum_20_bin_outdoorTemp_min done\n",
      "indoorHum_20_bin_outdoorHum_median done\n",
      "indoorHum_20_bin_outdoorHum_mean done\n"
     ]
    },
    {
     "name": "stderr",
     "output_type": "stream",
     "text": [
      " 57%|████████████████████████████████████████████▋                                  | 605/1070 [00:18<00:13, 33.86it/s]"
     ]
    },
    {
     "name": "stdout",
     "output_type": "stream",
     "text": [
      "indoorHum_20_bin_outdoorHum_max done\n",
      "indoorHum_20_bin_outdoorHum_min done\n",
      "indoorHum_20_bin_outdoorAtmo_median done\n",
      "indoorHum_20_bin_outdoorAtmo_mean done\n",
      "indoorHum_20_bin_outdoorAtmo_max done\n",
      "indoorHum_20_bin_outdoorAtmo_min done\n",
      "indoorHum_20_bin_indoorHum_median done\n"
     ]
    },
    {
     "name": "stderr",
     "output_type": "stream",
     "text": [
      " 57%|█████████████████████████████████████████████▎                                 | 613/1070 [00:18<00:14, 32.36it/s]"
     ]
    },
    {
     "name": "stdout",
     "output_type": "stream",
     "text": [
      "indoorHum_20_bin_indoorHum_mean done\n",
      "indoorHum_20_bin_indoorHum_max done\n",
      "indoorHum_20_bin_indoorHum_min done\n",
      "indoorHum_20_bin_indoorAtmo_median done\n",
      "indoorHum_20_bin_indoorAtmo_mean done\n",
      "indoorHum_20_bin_indoorAtmo_max done\n"
     ]
    },
    {
     "name": "stderr",
     "output_type": "stream",
     "text": [
      " 58%|█████████████████████████████████████████████▊                                 | 621/1070 [00:18<00:14, 31.42it/s]"
     ]
    },
    {
     "name": "stdout",
     "output_type": "stream",
     "text": [
      "indoorHum_20_bin_indoorAtmo_min done\n",
      "indoorHum_20_bin_indoorAtmo-outdoorAtmo_median done\n",
      "indoorHum_20_bin_indoorAtmo-outdoorAtmo_mean done\n",
      "indoorHum_20_bin_indoorAtmo-outdoorAtmo_max done\n",
      "indoorHum_20_bin_indoorAtmo-outdoorAtmo_min done\n",
      "indoorHum_20_bin_indoorHum-outdoorHum_median done\n",
      "indoorHum_20_bin_indoorHum-outdoorHum_mean done\n",
      "indoorHum_20_bin_indoorHum-outdoorHum_max done\n"
     ]
    },
    {
     "name": "stderr",
     "output_type": "stream",
     "text": [
      "\r",
      " 58%|██████████████████████████████████████████████▏                                | 625/1070 [00:19<00:14, 31.61it/s]"
     ]
    },
    {
     "name": "stdout",
     "output_type": "stream",
     "text": [
      "indoorHum_20_bin_indoorHum-outdoorHum_min done\n",
      "indoorAtmo_20_bin_outdoorTemp_median done\n",
      "indoorAtmo_20_bin_outdoorTemp_mean done\n",
      "indoorAtmo_20_bin_outdoorTemp_max done\n",
      "indoorAtmo_20_bin_outdoorTemp_min done\n",
      "indoorAtmo_20_bin_outdoorHum_median done\n",
      "indoorAtmo_20_bin_outdoorHum_mean done\n",
      "indoorAtmo_20_bin_outdoorHum_max done\n"
     ]
    },
    {
     "name": "stderr",
     "output_type": "stream",
     "text": [
      " 59%|██████████████████████████████████████████████▊                                | 634/1070 [00:19<00:12, 35.10it/s]"
     ]
    },
    {
     "name": "stdout",
     "output_type": "stream",
     "text": [
      "indoorAtmo_20_bin_outdoorHum_min done\n",
      "indoorAtmo_20_bin_outdoorAtmo_median done\n",
      "indoorAtmo_20_bin_outdoorAtmo_mean done\n",
      "indoorAtmo_20_bin_outdoorAtmo_max done\n",
      "indoorAtmo_20_bin_outdoorAtmo_min done\n",
      "indoorAtmo_20_bin_indoorHum_median done\n",
      "indoorAtmo_20_bin_indoorHum_mean done\n",
      "indoorAtmo_20_bin_indoorHum_max done\n"
     ]
    },
    {
     "name": "stderr",
     "output_type": "stream",
     "text": [
      " 60%|███████████████████████████████████████████████▍                               | 643/1070 [00:19<00:11, 36.87it/s]"
     ]
    },
    {
     "name": "stdout",
     "output_type": "stream",
     "text": [
      "indoorAtmo_20_bin_indoorHum_min done\n",
      "indoorAtmo_20_bin_indoorAtmo_median done\n",
      "indoorAtmo_20_bin_indoorAtmo_mean done\n",
      "indoorAtmo_20_bin_indoorAtmo_max done\n",
      "indoorAtmo_20_bin_indoorAtmo_min done\n",
      "indoorAtmo_20_bin_indoorAtmo-outdoorAtmo_median done\n",
      "indoorAtmo_20_bin_indoorAtmo-outdoorAtmo_mean done\n",
      "indoorAtmo_20_bin_indoorAtmo-outdoorAtmo_max done\n"
     ]
    },
    {
     "name": "stderr",
     "output_type": "stream",
     "text": [
      " 61%|████████████████████████████████████████████████                               | 651/1070 [00:19<00:11, 36.67it/s]"
     ]
    },
    {
     "name": "stdout",
     "output_type": "stream",
     "text": [
      "indoorAtmo_20_bin_indoorAtmo-outdoorAtmo_min done\n",
      "indoorAtmo_20_bin_indoorHum-outdoorHum_median done\n",
      "indoorAtmo_20_bin_indoorHum-outdoorHum_mean done\n",
      "indoorAtmo_20_bin_indoorHum-outdoorHum_max done\n",
      "indoorAtmo_20_bin_indoorHum-outdoorHum_min done\n",
      "outdoorTemp_50_bin_outdoorTemp_median done\n",
      "outdoorTemp_50_bin_outdoorTemp_mean done\n"
     ]
    },
    {
     "name": "stderr",
     "output_type": "stream",
     "text": [
      " 62%|████████████████████████████████████████████████▋                              | 659/1070 [00:19<00:11, 35.17it/s]"
     ]
    },
    {
     "name": "stdout",
     "output_type": "stream",
     "text": [
      "outdoorTemp_50_bin_outdoorTemp_max done\n",
      "outdoorTemp_50_bin_outdoorTemp_min done\n",
      "outdoorTemp_50_bin_outdoorHum_median done\n",
      "outdoorTemp_50_bin_outdoorHum_mean done\n",
      "outdoorTemp_50_bin_outdoorHum_max done\n",
      "outdoorTemp_50_bin_outdoorHum_min done\n",
      "outdoorTemp_50_bin_outdoorAtmo_median done\n"
     ]
    },
    {
     "name": "stderr",
     "output_type": "stream",
     "text": [
      "\r",
      " 62%|████████████████████████████████████████████████▉                              | 663/1070 [00:20<00:11, 34.58it/s]"
     ]
    },
    {
     "name": "stdout",
     "output_type": "stream",
     "text": [
      "outdoorTemp_50_bin_outdoorAtmo_mean done\n",
      "outdoorTemp_50_bin_outdoorAtmo_max done\n",
      "outdoorTemp_50_bin_outdoorAtmo_min done\n",
      "outdoorTemp_50_bin_indoorHum_median done\n",
      "outdoorTemp_50_bin_indoorHum_mean done\n",
      "outdoorTemp_50_bin_indoorHum_max done\n",
      "outdoorTemp_50_bin_indoorHum_min done\n"
     ]
    },
    {
     "name": "stderr",
     "output_type": "stream",
     "text": [
      " 63%|█████████████████████████████████████████████████▌                             | 671/1070 [00:20<00:11, 33.80it/s]"
     ]
    },
    {
     "name": "stdout",
     "output_type": "stream",
     "text": [
      "outdoorTemp_50_bin_indoorAtmo_median done\n",
      "outdoorTemp_50_bin_indoorAtmo_mean done\n",
      "outdoorTemp_50_bin_indoorAtmo_max done\n",
      "outdoorTemp_50_bin_indoorAtmo_min done\n",
      "outdoorTemp_50_bin_indoorAtmo-outdoorAtmo_median done\n",
      "outdoorTemp_50_bin_indoorAtmo-outdoorAtmo_mean done\n",
      "outdoorTemp_50_bin_indoorAtmo-outdoorAtmo_max done\n"
     ]
    },
    {
     "name": "stderr",
     "output_type": "stream",
     "text": [
      " 63%|██████████████████████████████████████████████████▏                            | 679/1070 [00:20<00:12, 31.63it/s]"
     ]
    },
    {
     "name": "stdout",
     "output_type": "stream",
     "text": [
      "outdoorTemp_50_bin_indoorAtmo-outdoorAtmo_min done\n",
      "outdoorTemp_50_bin_indoorHum-outdoorHum_median done\n",
      "outdoorTemp_50_bin_indoorHum-outdoorHum_mean done\n",
      "outdoorTemp_50_bin_indoorHum-outdoorHum_max done\n",
      "outdoorTemp_50_bin_indoorHum-outdoorHum_min done\n",
      "outdoorHum_50_bin_outdoorTemp_median done\n",
      "outdoorHum_50_bin_outdoorTemp_mean done\n"
     ]
    },
    {
     "name": "stderr",
     "output_type": "stream",
     "text": [
      " 64%|██████████████████████████████████████████████████▋                            | 687/1070 [00:20<00:11, 32.62it/s]"
     ]
    },
    {
     "name": "stdout",
     "output_type": "stream",
     "text": [
      "outdoorHum_50_bin_outdoorTemp_max done\n",
      "outdoorHum_50_bin_outdoorTemp_min done\n",
      "outdoorHum_50_bin_outdoorHum_median done\n",
      "outdoorHum_50_bin_outdoorHum_mean done\n",
      "outdoorHum_50_bin_outdoorHum_max done\n",
      "outdoorHum_50_bin_outdoorHum_min done\n",
      "outdoorHum_50_bin_outdoorAtmo_median done\n"
     ]
    },
    {
     "name": "stderr",
     "output_type": "stream",
     "text": [
      "\r",
      " 65%|███████████████████████████████████████████████████                            | 691/1070 [00:20<00:11, 32.86it/s]"
     ]
    },
    {
     "name": "stdout",
     "output_type": "stream",
     "text": [
      "outdoorHum_50_bin_outdoorAtmo_mean done\n",
      "outdoorHum_50_bin_outdoorAtmo_max done\n",
      "outdoorHum_50_bin_outdoorAtmo_min done\n",
      "outdoorHum_50_bin_indoorHum_median done\n",
      "outdoorHum_50_bin_indoorHum_mean done\n",
      "outdoorHum_50_bin_indoorHum_max done\n",
      "outdoorHum_50_bin_indoorHum_min"
     ]
    },
    {
     "name": "stderr",
     "output_type": "stream",
     "text": [
      " 65%|███████████████████████████████████████████████████▌                           | 699/1070 [00:21<00:10, 33.77it/s]"
     ]
    },
    {
     "name": "stdout",
     "output_type": "stream",
     "text": [
      " done\n",
      "outdoorHum_50_bin_indoorAtmo_median done\n",
      "outdoorHum_50_bin_indoorAtmo_mean done\n",
      "outdoorHum_50_bin_indoorAtmo_max done\n",
      "outdoorHum_50_bin_indoorAtmo_min done\n",
      "outdoorHum_50_bin_indoorAtmo-outdoorAtmo_median done\n",
      "outdoorHum_50_bin_indoorAtmo-outdoorAtmo_mean done\n",
      "outdoorHum_50_bin_indoorAtmo-outdoorAtmo_max done\n"
     ]
    },
    {
     "name": "stderr",
     "output_type": "stream",
     "text": [
      " 66%|████████████████████████████████████████████████████▏                          | 707/1070 [00:21<00:10, 33.17it/s]"
     ]
    },
    {
     "name": "stdout",
     "output_type": "stream",
     "text": [
      "outdoorHum_50_bin_indoorAtmo-outdoorAtmo_min done\n",
      "outdoorHum_50_bin_indoorHum-outdoorHum_median done\n",
      "outdoorHum_50_bin_indoorHum-outdoorHum_mean done\n",
      "outdoorHum_50_bin_indoorHum-outdoorHum_max done\n",
      "outdoorHum_50_bin_indoorHum-outdoorHum_min done\n",
      "outdoorAtmo_50_bin_outdoorTemp_median done\n",
      "outdoorAtmo_50_bin_outdoorTemp_mean done\n",
      "outdoorAtmo_50_bin_outdoorTemp_max done\n"
     ]
    },
    {
     "name": "stderr",
     "output_type": "stream",
     "text": [
      " 67%|████████████████████████████████████████████████████▊                          | 715/1070 [00:21<00:10, 35.33it/s]"
     ]
    },
    {
     "name": "stdout",
     "output_type": "stream",
     "text": [
      "outdoorAtmo_50_bin_outdoorTemp_min done\n",
      "outdoorAtmo_50_bin_outdoorHum_median done\n",
      "outdoorAtmo_50_bin_outdoorHum_mean done\n",
      "outdoorAtmo_50_bin_outdoorHum_max done\n",
      "outdoorAtmo_50_bin_outdoorHum_min done\n",
      "outdoorAtmo_50_bin_outdoorAtmo_median done\n",
      "outdoorAtmo_50_bin_outdoorAtmo_mean done\n",
      "outdoorAtmo_50_bin_outdoorAtmo_max done"
     ]
    },
    {
     "name": "stderr",
     "output_type": "stream",
     "text": [
      "\r",
      " 67%|█████████████████████████████████████████████████████                          | 719/1070 [00:21<00:10, 33.84it/s]"
     ]
    },
    {
     "name": "stdout",
     "output_type": "stream",
     "text": [
      "\n",
      "outdoorAtmo_50_bin_outdoorAtmo_min done\n",
      "outdoorAtmo_50_bin_indoorHum_median done\n",
      "outdoorAtmo_50_bin_indoorHum_mean done\n",
      "outdoorAtmo_50_bin_indoorHum_max done\n",
      "outdoorAtmo_50_bin_indoorHum_min done\n",
      "outdoorAtmo_50_bin_indoorAtmo_median"
     ]
    },
    {
     "name": "stderr",
     "output_type": "stream",
     "text": [
      " 68%|█████████████████████████████████████████████████████▋                         | 727/1070 [00:21<00:10, 33.75it/s]"
     ]
    },
    {
     "name": "stdout",
     "output_type": "stream",
     "text": [
      " done\n",
      "outdoorAtmo_50_bin_indoorAtmo_mean done\n",
      "outdoorAtmo_50_bin_indoorAtmo_max done\n",
      "outdoorAtmo_50_bin_indoorAtmo_min done\n",
      "outdoorAtmo_50_bin_indoorAtmo-outdoorAtmo_median done\n",
      "outdoorAtmo_50_bin_indoorAtmo-outdoorAtmo_mean done\n",
      "outdoorAtmo_50_bin_indoorAtmo-outdoorAtmo_max done\n",
      "outdoorAtmo_50_bin_indoorAtmo-outdoorAtmo_min done\n"
     ]
    },
    {
     "name": "stderr",
     "output_type": "stream",
     "text": [
      " 69%|██████████████████████████████████████████████████████▎                        | 735/1070 [00:22<00:09, 33.84it/s]"
     ]
    },
    {
     "name": "stdout",
     "output_type": "stream",
     "text": [
      "outdoorAtmo_50_bin_indoorHum-outdoorHum_median done\n",
      "outdoorAtmo_50_bin_indoorHum-outdoorHum_mean done\n",
      "outdoorAtmo_50_bin_indoorHum-outdoorHum_max done\n",
      "outdoorAtmo_50_bin_indoorHum-outdoorHum_min done\n",
      "indoorHum_50_bin_outdoorTemp_median done\n",
      "indoorHum_50_bin_outdoorTemp_mean done\n",
      "indoorHum_50_bin_outdoorTemp_max done\n"
     ]
    },
    {
     "name": "stderr",
     "output_type": "stream",
     "text": [
      " 69%|██████████████████████████████████████████████████████▊                        | 743/1070 [00:22<00:09, 32.96it/s]"
     ]
    },
    {
     "name": "stdout",
     "output_type": "stream",
     "text": [
      "indoorHum_50_bin_outdoorTemp_min done\n",
      "indoorHum_50_bin_outdoorHum_median done\n",
      "indoorHum_50_bin_outdoorHum_mean done\n",
      "indoorHum_50_bin_outdoorHum_max done\n",
      "indoorHum_50_bin_outdoorHum_min done\n",
      "indoorHum_50_bin_outdoorAtmo_median done\n",
      "indoorHum_50_bin_outdoorAtmo_mean"
     ]
    },
    {
     "name": "stderr",
     "output_type": "stream",
     "text": [
      " 70%|███████████████████████████████████████████████████████▍                       | 751/1070 [00:22<00:09, 33.01it/s]"
     ]
    },
    {
     "name": "stdout",
     "output_type": "stream",
     "text": [
      " done\n",
      "indoorHum_50_bin_outdoorAtmo_max done\n",
      "indoorHum_50_bin_outdoorAtmo_min done\n",
      "indoorHum_50_bin_indoorHum_median done\n",
      "indoorHum_50_bin_indoorHum_mean done\n",
      "indoorHum_50_bin_indoorHum_max done\n",
      "indoorHum_50_bin_indoorHum_min done\n",
      "indoorHum_50_bin_indoorAtmo_median done\n"
     ]
    },
    {
     "name": "stderr",
     "output_type": "stream",
     "text": [
      " 71%|████████████████████████████████████████████████████████                       | 759/1070 [00:22<00:09, 33.37it/s]"
     ]
    },
    {
     "name": "stdout",
     "output_type": "stream",
     "text": [
      "indoorHum_50_bin_indoorAtmo_mean done\n",
      "indoorHum_50_bin_indoorAtmo_max done\n",
      "indoorHum_50_bin_indoorAtmo_min done\n",
      "indoorHum_50_bin_indoorAtmo-outdoorAtmo_median done\n",
      "indoorHum_50_bin_indoorAtmo-outdoorAtmo_mean done\n",
      "indoorHum_50_bin_indoorAtmo-outdoorAtmo_max done\n",
      "indoorHum_50_bin_indoorAtmo-outdoorAtmo_min done\n",
      "indoorHum_50_bin_indoorHum-outdoorHum_median done\n"
     ]
    },
    {
     "name": "stderr",
     "output_type": "stream",
     "text": [
      " 72%|████████████████████████████████████████████████████████▋                      | 767/1070 [00:23<00:08, 34.45it/s]"
     ]
    },
    {
     "name": "stdout",
     "output_type": "stream",
     "text": [
      "indoorHum_50_bin_indoorHum-outdoorHum_mean done\n",
      "indoorHum_50_bin_indoorHum-outdoorHum_max done\n",
      "indoorHum_50_bin_indoorHum-outdoorHum_min done\n",
      "indoorAtmo_50_bin_outdoorTemp_median done\n",
      "indoorAtmo_50_bin_outdoorTemp_mean done\n",
      "indoorAtmo_50_bin_outdoorTemp_max done\n",
      "indoorAtmo_50_bin_outdoorTemp_min done\n",
      "indoorAtmo_50_bin_outdoorHum_median done\n"
     ]
    },
    {
     "name": "stderr",
     "output_type": "stream",
     "text": [
      " 72%|█████████████████████████████████████████████████████████▏                     | 775/1070 [00:23<00:08, 36.81it/s]"
     ]
    },
    {
     "name": "stdout",
     "output_type": "stream",
     "text": [
      "indoorAtmo_50_bin_outdoorHum_mean done\n",
      "indoorAtmo_50_bin_outdoorHum_max done\n",
      "indoorAtmo_50_bin_outdoorHum_min done\n",
      "indoorAtmo_50_bin_outdoorAtmo_median done\n",
      "indoorAtmo_50_bin_outdoorAtmo_mean done\n",
      "indoorAtmo_50_bin_outdoorAtmo_max done\n",
      "indoorAtmo_50_bin_outdoorAtmo_min done\n",
      "indoorAtmo_50_bin_indoorHum_median done\n"
     ]
    },
    {
     "name": "stderr",
     "output_type": "stream",
     "text": [
      "\r",
      " 73%|█████████████████████████████████████████████████████████▌                     | 780/1070 [00:23<00:07, 38.01it/s]"
     ]
    },
    {
     "name": "stdout",
     "output_type": "stream",
     "text": [
      "indoorAtmo_50_bin_indoorHum_mean done\n",
      "indoorAtmo_50_bin_indoorHum_max done\n",
      "indoorAtmo_50_bin_indoorHum_min done\n",
      "indoorAtmo_50_bin_indoorAtmo_median done\n",
      "indoorAtmo_50_bin_indoorAtmo_mean done\n",
      "indoorAtmo_50_bin_indoorAtmo_max done\n",
      "indoorAtmo_50_bin_indoorAtmo_min done\n",
      "indoorAtmo_50_bin_indoorAtmo-outdoorAtmo_median done\n"
     ]
    },
    {
     "name": "stderr",
     "output_type": "stream",
     "text": [
      " 74%|██████████████████████████████████████████████████████████▏                    | 788/1070 [00:23<00:07, 37.09it/s]"
     ]
    },
    {
     "name": "stdout",
     "output_type": "stream",
     "text": [
      "indoorAtmo_50_bin_indoorAtmo-outdoorAtmo_mean done\n",
      "indoorAtmo_50_bin_indoorAtmo-outdoorAtmo_max done\n",
      "indoorAtmo_50_bin_indoorAtmo-outdoorAtmo_min done\n",
      "indoorAtmo_50_bin_indoorHum-outdoorHum_median done\n",
      "indoorAtmo_50_bin_indoorHum-outdoorHum_mean done\n",
      "indoorAtmo_50_bin_indoorHum-outdoorHum_max done\n",
      "indoorAtmo_50_bin_indoorHum-outdoorHum_min done\n",
      "outdoorTemp_100_bin_outdoorTemp_median done\n"
     ]
    },
    {
     "name": "stderr",
     "output_type": "stream",
     "text": [
      " 74%|██████████████████████████████████████████████████████████▊                    | 796/1070 [00:23<00:07, 37.04it/s]"
     ]
    },
    {
     "name": "stdout",
     "output_type": "stream",
     "text": [
      "outdoorTemp_100_bin_outdoorTemp_mean done\n",
      "outdoorTemp_100_bin_outdoorTemp_max done\n",
      "outdoorTemp_100_bin_outdoorTemp_min done\n",
      "outdoorTemp_100_bin_outdoorHum_median done\n",
      "outdoorTemp_100_bin_outdoorHum_mean done\n",
      "outdoorTemp_100_bin_outdoorHum_max done\n",
      "outdoorTemp_100_bin_outdoorHum_min done\n",
      "outdoorTemp_100_bin_outdoorAtmo_median done\n"
     ]
    },
    {
     "name": "stderr",
     "output_type": "stream",
     "text": [
      " 75%|███████████████████████████████████████████████████████████▎                   | 804/1070 [00:24<00:07, 36.11it/s]"
     ]
    },
    {
     "name": "stdout",
     "output_type": "stream",
     "text": [
      "outdoorTemp_100_bin_outdoorAtmo_mean done\n",
      "outdoorTemp_100_bin_outdoorAtmo_max done\n",
      "outdoorTemp_100_bin_outdoorAtmo_min done\n",
      "outdoorTemp_100_bin_indoorHum_median done\n",
      "outdoorTemp_100_bin_indoorHum_mean done\n",
      "outdoorTemp_100_bin_indoorHum_max done\n",
      "outdoorTemp_100_bin_indoorHum_min done\n"
     ]
    },
    {
     "name": "stderr",
     "output_type": "stream",
     "text": [
      " 76%|███████████████████████████████████████████████████████████▉                   | 812/1070 [00:24<00:07, 34.36it/s]"
     ]
    },
    {
     "name": "stdout",
     "output_type": "stream",
     "text": [
      "outdoorTemp_100_bin_indoorAtmo_median done\n",
      "outdoorTemp_100_bin_indoorAtmo_mean done\n",
      "outdoorTemp_100_bin_indoorAtmo_max done\n",
      "outdoorTemp_100_bin_indoorAtmo_min done\n",
      "outdoorTemp_100_bin_indoorAtmo-outdoorAtmo_median done\n",
      "outdoorTemp_100_bin_indoorAtmo-outdoorAtmo_mean done\n",
      "outdoorTemp_100_bin_indoorAtmo-outdoorAtmo_max"
     ]
    },
    {
     "name": "stderr",
     "output_type": "stream",
     "text": [
      "\r",
      " 76%|████████████████████████████████████████████████████████████▏                  | 816/1070 [00:24<00:07, 33.68it/s]"
     ]
    },
    {
     "name": "stdout",
     "output_type": "stream",
     "text": [
      " done\n",
      "outdoorTemp_100_bin_indoorAtmo-outdoorAtmo_min done\n",
      "outdoorTemp_100_bin_indoorHum-outdoorHum_median done\n",
      "outdoorTemp_100_bin_indoorHum-outdoorHum_mean done\n",
      "outdoorTemp_100_bin_indoorHum-outdoorHum_max done\n",
      "outdoorTemp_100_bin_indoorHum-outdoorHum_min done\n",
      "outdoorHum_100_bin_outdoorTemp_median done\n"
     ]
    },
    {
     "name": "stderr",
     "output_type": "stream",
     "text": [
      " 77%|████████████████████████████████████████████████████████████▊                  | 824/1070 [00:24<00:07, 32.14it/s]"
     ]
    },
    {
     "name": "stdout",
     "output_type": "stream",
     "text": [
      "outdoorHum_100_bin_outdoorTemp_mean done\n",
      "outdoorHum_100_bin_outdoorTemp_max done\n",
      "outdoorHum_100_bin_outdoorTemp_min done\n",
      "outdoorHum_100_bin_outdoorHum_median done\n",
      "outdoorHum_100_bin_outdoorHum_mean done\n",
      "outdoorHum_100_bin_outdoorHum_max done\n"
     ]
    },
    {
     "name": "stderr",
     "output_type": "stream",
     "text": [
      " 78%|█████████████████████████████████████████████████████████████▍                 | 832/1070 [00:25<00:07, 32.04it/s]"
     ]
    },
    {
     "name": "stdout",
     "output_type": "stream",
     "text": [
      "outdoorHum_100_bin_outdoorHum_min done\n",
      "outdoorHum_100_bin_outdoorAtmo_median done\n",
      "outdoorHum_100_bin_outdoorAtmo_mean done\n",
      "outdoorHum_100_bin_outdoorAtmo_max done\n",
      "outdoorHum_100_bin_outdoorAtmo_min done\n",
      "outdoorHum_100_bin_indoorHum_median done\n",
      "outdoorHum_100_bin_indoorHum_mean done\n"
     ]
    },
    {
     "name": "stderr",
     "output_type": "stream",
     "text": [
      "\r",
      " 78%|█████████████████████████████████████████████████████████████▋                 | 836/1070 [00:25<00:07, 31.04it/s]"
     ]
    },
    {
     "name": "stdout",
     "output_type": "stream",
     "text": [
      "outdoorHum_100_bin_indoorHum_max done\n",
      "outdoorHum_100_bin_indoorHum_min done\n",
      "outdoorHum_100_bin_indoorAtmo_median done\n",
      "outdoorHum_100_bin_indoorAtmo_mean done\n",
      "outdoorHum_100_bin_indoorAtmo_max done\n",
      "outdoorHum_100_bin_indoorAtmo_min done\n"
     ]
    },
    {
     "name": "stderr",
     "output_type": "stream",
     "text": [
      " 79%|██████████████████████████████████████████████████████████████▎                | 844/1070 [00:25<00:07, 30.28it/s]"
     ]
    },
    {
     "name": "stdout",
     "output_type": "stream",
     "text": [
      "outdoorHum_100_bin_indoorAtmo-outdoorAtmo_median done\n",
      "outdoorHum_100_bin_indoorAtmo-outdoorAtmo_mean done\n",
      "outdoorHum_100_bin_indoorAtmo-outdoorAtmo_max done\n",
      "outdoorHum_100_bin_indoorAtmo-outdoorAtmo_min done\n",
      "outdoorHum_100_bin_indoorHum-outdoorHum_median done\n",
      "outdoorHum_100_bin_indoorHum-outdoorHum_mean done\n"
     ]
    },
    {
     "name": "stderr",
     "output_type": "stream",
     "text": [
      "\r",
      " 79%|██████████████████████████████████████████████████████████████▌                | 848/1070 [00:25<00:07, 30.66it/s]"
     ]
    },
    {
     "name": "stdout",
     "output_type": "stream",
     "text": [
      "outdoorHum_100_bin_indoorHum-outdoorHum_max done\n",
      "outdoorHum_100_bin_indoorHum-outdoorHum_min done\n",
      "outdoorAtmo_100_bin_outdoorTemp_median done\n",
      "outdoorAtmo_100_bin_outdoorTemp_mean done\n",
      "outdoorAtmo_100_bin_outdoorTemp_max done\n",
      "outdoorAtmo_100_bin_outdoorTemp_min done\n",
      "outdoorAtmo_100_bin_outdoorHum_median done\n"
     ]
    },
    {
     "name": "stderr",
     "output_type": "stream",
     "text": [
      " 80%|███████████████████████████████████████████████████████████████▏               | 856/1070 [00:25<00:06, 32.33it/s]"
     ]
    },
    {
     "name": "stdout",
     "output_type": "stream",
     "text": [
      "outdoorAtmo_100_bin_outdoorHum_mean done\n",
      "outdoorAtmo_100_bin_outdoorHum_max done\n",
      "outdoorAtmo_100_bin_outdoorHum_min done\n",
      "outdoorAtmo_100_bin_outdoorAtmo_median done\n",
      "outdoorAtmo_100_bin_outdoorAtmo_mean done\n",
      "outdoorAtmo_100_bin_outdoorAtmo_max done\n",
      "outdoorAtmo_100_bin_outdoorAtmo_min done\n",
      "outdoorAtmo_100_bin_indoorHum_median done\n"
     ]
    },
    {
     "name": "stderr",
     "output_type": "stream",
     "text": [
      " 81%|███████████████████████████████████████████████████████████████▊               | 864/1070 [00:26<00:06, 34.23it/s]"
     ]
    },
    {
     "name": "stdout",
     "output_type": "stream",
     "text": [
      "outdoorAtmo_100_bin_indoorHum_mean done\n",
      "outdoorAtmo_100_bin_indoorHum_max done\n",
      "outdoorAtmo_100_bin_indoorHum_min done\n",
      "outdoorAtmo_100_bin_indoorAtmo_median done\n",
      "outdoorAtmo_100_bin_indoorAtmo_mean done\n",
      "outdoorAtmo_100_bin_indoorAtmo_max done\n",
      "outdoorAtmo_100_bin_indoorAtmo_min done\n",
      "outdoorAtmo_100_bin_indoorAtmo-outdoorAtmo_median done\n"
     ]
    },
    {
     "name": "stderr",
     "output_type": "stream",
     "text": [
      " 81%|████████████████████████████████████████████████████████████████▍              | 872/1070 [00:26<00:05, 35.11it/s]"
     ]
    },
    {
     "name": "stdout",
     "output_type": "stream",
     "text": [
      "outdoorAtmo_100_bin_indoorAtmo-outdoorAtmo_mean done\n",
      "outdoorAtmo_100_bin_indoorAtmo-outdoorAtmo_max done\n",
      "outdoorAtmo_100_bin_indoorAtmo-outdoorAtmo_min done\n",
      "outdoorAtmo_100_bin_indoorHum-outdoorHum_median done\n",
      "outdoorAtmo_100_bin_indoorHum-outdoorHum_mean done\n",
      "outdoorAtmo_100_bin_indoorHum-outdoorHum_max done\n",
      "outdoorAtmo_100_bin_indoorHum-outdoorHum_min done\n",
      "indoorHum_100_bin_outdoorTemp_median done\n"
     ]
    },
    {
     "name": "stderr",
     "output_type": "stream",
     "text": [
      " 82%|████████████████████████████████████████████████████████████████▉              | 880/1070 [00:26<00:05, 36.93it/s]"
     ]
    },
    {
     "name": "stdout",
     "output_type": "stream",
     "text": [
      "indoorHum_100_bin_outdoorTemp_mean done\n",
      "indoorHum_100_bin_outdoorTemp_max done\n",
      "indoorHum_100_bin_outdoorTemp_min done\n",
      "indoorHum_100_bin_outdoorHum_median done\n",
      "indoorHum_100_bin_outdoorHum_mean done\n",
      "indoorHum_100_bin_outdoorHum_max done\n",
      "indoorHum_100_bin_outdoorHum_min done\n",
      "indoorHum_100_bin_outdoorAtmo_median done\n"
     ]
    },
    {
     "name": "stderr",
     "output_type": "stream",
     "text": [
      " 83%|█████████████████████████████████████████████████████████████████▌             | 888/1070 [00:26<00:04, 37.57it/s]"
     ]
    },
    {
     "name": "stdout",
     "output_type": "stream",
     "text": [
      "indoorHum_100_bin_outdoorAtmo_mean done\n",
      "indoorHum_100_bin_outdoorAtmo_max done\n",
      "indoorHum_100_bin_outdoorAtmo_min done\n",
      "indoorHum_100_bin_indoorHum_median done\n",
      "indoorHum_100_bin_indoorHum_mean done\n",
      "indoorHum_100_bin_indoorHum_max done\n",
      "indoorHum_100_bin_indoorHum_min done\n",
      "indoorHum_100_bin_indoorAtmo_median done\n"
     ]
    },
    {
     "name": "stderr",
     "output_type": "stream",
     "text": [
      " 84%|██████████████████████████████████████████████████████████████████▏            | 896/1070 [00:26<00:04, 37.95it/s]"
     ]
    },
    {
     "name": "stdout",
     "output_type": "stream",
     "text": [
      "indoorHum_100_bin_indoorAtmo_mean done\n",
      "indoorHum_100_bin_indoorAtmo_max done\n",
      "indoorHum_100_bin_indoorAtmo_min done\n",
      "indoorHum_100_bin_indoorAtmo-outdoorAtmo_median done\n",
      "indoorHum_100_bin_indoorAtmo-outdoorAtmo_mean done\n",
      "indoorHum_100_bin_indoorAtmo-outdoorAtmo_max done\n",
      "indoorHum_100_bin_indoorAtmo-outdoorAtmo_min done\n",
      "indoorHum_100_bin_indoorHum-outdoorHum_median done\n"
     ]
    },
    {
     "name": "stderr",
     "output_type": "stream",
     "text": [
      " 84%|██████████████████████████████████████████████████████████████████▋            | 904/1070 [00:27<00:04, 38.45it/s]"
     ]
    },
    {
     "name": "stdout",
     "output_type": "stream",
     "text": [
      "indoorHum_100_bin_indoorHum-outdoorHum_mean done\n",
      "indoorHum_100_bin_indoorHum-outdoorHum_max done\n",
      "indoorHum_100_bin_indoorHum-outdoorHum_min done\n",
      "indoorAtmo_100_bin_outdoorTemp_median done\n",
      "indoorAtmo_100_bin_outdoorTemp_mean done\n",
      "indoorAtmo_100_bin_outdoorTemp_max done\n",
      "indoorAtmo_100_bin_outdoorTemp_min done\n",
      "indoorAtmo_100_bin_outdoorHum_median done\n",
      "indoorAtmo_100_bin_outdoorHum_mean done\n"
     ]
    },
    {
     "name": "stderr",
     "output_type": "stream",
     "text": [
      " 85%|███████████████████████████████████████████████████████████████████▍           | 914/1070 [00:27<00:03, 41.10it/s]"
     ]
    },
    {
     "name": "stdout",
     "output_type": "stream",
     "text": [
      "indoorAtmo_100_bin_outdoorHum_max done\n",
      "indoorAtmo_100_bin_outdoorHum_min done\n",
      "indoorAtmo_100_bin_outdoorAtmo_median done\n",
      "indoorAtmo_100_bin_outdoorAtmo_mean done\n",
      "indoorAtmo_100_bin_outdoorAtmo_max done\n",
      "indoorAtmo_100_bin_outdoorAtmo_min done\n",
      "indoorAtmo_100_bin_indoorHum_median done\n",
      "indoorAtmo_100_bin_indoorHum_mean done\n",
      "indoorAtmo_100_bin_indoorHum_max done\n",
      "indoorAtmo_100_bin_indoorHum_min done\n"
     ]
    },
    {
     "name": "stderr",
     "output_type": "stream",
     "text": [
      " 86%|████████████████████████████████████████████████████████████████████▏          | 924/1070 [00:27<00:03, 42.85it/s]"
     ]
    },
    {
     "name": "stdout",
     "output_type": "stream",
     "text": [
      "indoorAtmo_100_bin_indoorAtmo_median done\n",
      "indoorAtmo_100_bin_indoorAtmo_mean done\n",
      "indoorAtmo_100_bin_indoorAtmo_max done\n",
      "indoorAtmo_100_bin_indoorAtmo_min done\n",
      "indoorAtmo_100_bin_indoorAtmo-outdoorAtmo_median done\n",
      "indoorAtmo_100_bin_indoorAtmo-outdoorAtmo_mean done\n",
      "indoorAtmo_100_bin_indoorAtmo-outdoorAtmo_max done\n",
      "indoorAtmo_100_bin_indoorAtmo-outdoorAtmo_min done\n",
      "indoorAtmo_100_bin_indoorHum-outdoorHum_median done\n"
     ]
    },
    {
     "name": "stderr",
     "output_type": "stream",
     "text": [
      " 87%|████████████████████████████████████████████████████████████████████▉          | 934/1070 [00:27<00:03, 41.02it/s]"
     ]
    },
    {
     "name": "stdout",
     "output_type": "stream",
     "text": [
      "indoorAtmo_100_bin_indoorHum-outdoorHum_mean done\n",
      "indoorAtmo_100_bin_indoorHum-outdoorHum_max done\n",
      "indoorAtmo_100_bin_indoorHum-outdoorHum_min done\n",
      "outdoorTemp_200_bin_outdoorTemp_median done\n",
      "outdoorTemp_200_bin_outdoorTemp_mean done\n",
      "outdoorTemp_200_bin_outdoorTemp_max done\n",
      "outdoorTemp_200_bin_outdoorTemp_min done\n",
      "outdoorTemp_200_bin_outdoorHum_median done\n",
      "outdoorTemp_200_bin_outdoorHum_mean done\n"
     ]
    },
    {
     "name": "stderr",
     "output_type": "stream",
     "text": [
      " 88%|█████████████████████████████████████████████████████████████████████▋         | 944/1070 [00:28<00:02, 42.80it/s]"
     ]
    },
    {
     "name": "stdout",
     "output_type": "stream",
     "text": [
      "outdoorTemp_200_bin_outdoorHum_max done\n",
      "outdoorTemp_200_bin_outdoorHum_min done\n",
      "outdoorTemp_200_bin_outdoorAtmo_median done\n",
      "outdoorTemp_200_bin_outdoorAtmo_mean done\n",
      "outdoorTemp_200_bin_outdoorAtmo_max done\n",
      "outdoorTemp_200_bin_outdoorAtmo_min done\n",
      "outdoorTemp_200_bin_indoorHum_median done\n",
      "outdoorTemp_200_bin_indoorHum_mean done\n",
      "outdoorTemp_200_bin_indoorHum_max done\n"
     ]
    },
    {
     "name": "stderr",
     "output_type": "stream",
     "text": [
      "\r",
      " 89%|██████████████████████████████████████████████████████████████████████         | 949/1070 [00:28<00:02, 41.43it/s]"
     ]
    },
    {
     "name": "stdout",
     "output_type": "stream",
     "text": [
      "outdoorTemp_200_bin_indoorHum_min done\n",
      "outdoorTemp_200_bin_indoorAtmo_median done\n",
      "outdoorTemp_200_bin_indoorAtmo_mean done\n",
      "outdoorTemp_200_bin_indoorAtmo_max done\n",
      "outdoorTemp_200_bin_indoorAtmo_min done\n",
      "outdoorTemp_200_bin_indoorAtmo-outdoorAtmo_median done\n",
      "outdoorTemp_200_bin_indoorAtmo-outdoorAtmo_mean done\n",
      "outdoorTemp_200_bin_indoorAtmo-outdoorAtmo_max done\n"
     ]
    },
    {
     "name": "stderr",
     "output_type": "stream",
     "text": [
      " 90%|██████████████████████████████████████████████████████████████████████▊        | 959/1070 [00:28<00:02, 39.71it/s]"
     ]
    },
    {
     "name": "stdout",
     "output_type": "stream",
     "text": [
      "outdoorTemp_200_bin_indoorAtmo-outdoorAtmo_min done\n",
      "outdoorTemp_200_bin_indoorHum-outdoorHum_median done\n",
      "outdoorTemp_200_bin_indoorHum-outdoorHum_mean done\n",
      "outdoorTemp_200_bin_indoorHum-outdoorHum_max done\n",
      "outdoorTemp_200_bin_indoorHum-outdoorHum_min done\n",
      "outdoorHum_200_bin_outdoorTemp_median done\n",
      "outdoorHum_200_bin_outdoorTemp_mean done\n",
      "outdoorHum_200_bin_outdoorTemp_max done\n",
      "outdoorHum_200_bin_outdoorTemp_min done\n"
     ]
    },
    {
     "name": "stderr",
     "output_type": "stream",
     "text": [
      " 90%|███████████████████████████████████████████████████████████████████████▍       | 967/1070 [00:28<00:02, 39.60it/s]"
     ]
    },
    {
     "name": "stdout",
     "output_type": "stream",
     "text": [
      "outdoorHum_200_bin_outdoorHum_median done\n",
      "outdoorHum_200_bin_outdoorHum_mean done\n",
      "outdoorHum_200_bin_outdoorHum_max done\n",
      "outdoorHum_200_bin_outdoorHum_min done\n",
      "outdoorHum_200_bin_outdoorAtmo_median done\n",
      "outdoorHum_200_bin_outdoorAtmo_mean done\n",
      "outdoorHum_200_bin_outdoorAtmo_max done\n",
      "outdoorHum_200_bin_outdoorAtmo_min done\n"
     ]
    },
    {
     "name": "stderr",
     "output_type": "stream",
     "text": [
      " 91%|████████████████████████████████████████████████████████████████████████       | 976/1070 [00:28<00:02, 38.70it/s]"
     ]
    },
    {
     "name": "stdout",
     "output_type": "stream",
     "text": [
      "outdoorHum_200_bin_indoorHum_median done\n",
      "outdoorHum_200_bin_indoorHum_mean done\n",
      "outdoorHum_200_bin_indoorHum_max done\n",
      "outdoorHum_200_bin_indoorHum_min done\n",
      "outdoorHum_200_bin_indoorAtmo_median done\n",
      "outdoorHum_200_bin_indoorAtmo_mean done\n",
      "outdoorHum_200_bin_indoorAtmo_max done\n",
      "outdoorHum_200_bin_indoorAtmo_min done\n"
     ]
    },
    {
     "name": "stderr",
     "output_type": "stream",
     "text": [
      " 92%|████████████████████████████████████████████████████████████████████████▋      | 984/1070 [00:29<00:02, 38.31it/s]"
     ]
    },
    {
     "name": "stdout",
     "output_type": "stream",
     "text": [
      "outdoorHum_200_bin_indoorAtmo-outdoorAtmo_median done\n",
      "outdoorHum_200_bin_indoorAtmo-outdoorAtmo_mean done\n",
      "outdoorHum_200_bin_indoorAtmo-outdoorAtmo_max done\n",
      "outdoorHum_200_bin_indoorAtmo-outdoorAtmo_min done\n",
      "outdoorHum_200_bin_indoorHum-outdoorHum_median done\n",
      "outdoorHum_200_bin_indoorHum-outdoorHum_mean done\n",
      "outdoorHum_200_bin_indoorHum-outdoorHum_max done\n",
      "outdoorHum_200_bin_indoorHum-outdoorHum_min done\n"
     ]
    },
    {
     "name": "stderr",
     "output_type": "stream",
     "text": [
      " 93%|█████████████████████████████████████████████████████████████████████████▎     | 993/1070 [00:29<00:01, 39.82it/s]"
     ]
    },
    {
     "name": "stdout",
     "output_type": "stream",
     "text": [
      "outdoorAtmo_200_bin_outdoorTemp_median done\n",
      "outdoorAtmo_200_bin_outdoorTemp_mean done\n",
      "outdoorAtmo_200_bin_outdoorTemp_max done\n",
      "outdoorAtmo_200_bin_outdoorTemp_min done\n",
      "outdoorAtmo_200_bin_outdoorHum_median done\n",
      "outdoorAtmo_200_bin_outdoorHum_mean done\n",
      "outdoorAtmo_200_bin_outdoorHum_max done\n",
      "outdoorAtmo_200_bin_outdoorHum_min done\n",
      "outdoorAtmo_200_bin_outdoorAtmo_median done\n"
     ]
    },
    {
     "name": "stderr",
     "output_type": "stream",
     "text": [
      " 94%|█████████████████████████████████████████████████████████████████████████     | 1002/1070 [00:29<00:01, 38.68it/s]"
     ]
    },
    {
     "name": "stdout",
     "output_type": "stream",
     "text": [
      "outdoorAtmo_200_bin_outdoorAtmo_mean done\n",
      "outdoorAtmo_200_bin_outdoorAtmo_max done\n",
      "outdoorAtmo_200_bin_outdoorAtmo_min done\n",
      "outdoorAtmo_200_bin_indoorHum_median done\n",
      "outdoorAtmo_200_bin_indoorHum_mean done\n",
      "outdoorAtmo_200_bin_indoorHum_max done\n",
      "outdoorAtmo_200_bin_indoorHum_min done\n",
      "outdoorAtmo_200_bin_indoorAtmo_median done\n"
     ]
    },
    {
     "name": "stderr",
     "output_type": "stream",
     "text": [
      " 94%|█████████████████████████████████████████████████████████████████████████▋    | 1011/1070 [00:29<00:01, 39.40it/s]"
     ]
    },
    {
     "name": "stdout",
     "output_type": "stream",
     "text": [
      "outdoorAtmo_200_bin_indoorAtmo_mean done\n",
      "outdoorAtmo_200_bin_indoorAtmo_max done\n",
      "outdoorAtmo_200_bin_indoorAtmo_min done\n",
      "outdoorAtmo_200_bin_indoorAtmo-outdoorAtmo_median done\n",
      "outdoorAtmo_200_bin_indoorAtmo-outdoorAtmo_mean done\n",
      "outdoorAtmo_200_bin_indoorAtmo-outdoorAtmo_max done\n",
      "outdoorAtmo_200_bin_indoorAtmo-outdoorAtmo_min done\n",
      "outdoorAtmo_200_bin_indoorHum-outdoorHum_median done\n",
      "outdoorAtmo_200_bin_indoorHum-outdoorHum_mean done\n"
     ]
    },
    {
     "name": "stderr",
     "output_type": "stream",
     "text": [
      "\r",
      " 95%|██████████████████████████████████████████████████████████████████████████    | 1016/1070 [00:29<00:01, 39.42it/s]"
     ]
    },
    {
     "name": "stdout",
     "output_type": "stream",
     "text": [
      "outdoorAtmo_200_bin_indoorHum-outdoorHum_max done\n",
      "outdoorAtmo_200_bin_indoorHum-outdoorHum_min done\n",
      "indoorHum_200_bin_outdoorTemp_median done\n",
      "indoorHum_200_bin_outdoorTemp_mean done\n",
      "indoorHum_200_bin_outdoorTemp_max done\n",
      "indoorHum_200_bin_outdoorTemp_min done\n",
      "indoorHum_200_bin_outdoorHum_median done\n",
      "indoorHum_200_bin_outdoorHum_mean done\n"
     ]
    },
    {
     "name": "stderr",
     "output_type": "stream",
     "text": [
      " 96%|██████████████████████████████████████████████████████████████████████████▋   | 1025/1070 [00:30<00:01, 39.78it/s]"
     ]
    },
    {
     "name": "stdout",
     "output_type": "stream",
     "text": [
      "indoorHum_200_bin_outdoorHum_max done\n",
      "indoorHum_200_bin_outdoorHum_min done\n",
      "indoorHum_200_bin_outdoorAtmo_median done\n",
      "indoorHum_200_bin_outdoorAtmo_mean done\n",
      "indoorHum_200_bin_outdoorAtmo_max done\n",
      "indoorHum_200_bin_outdoorAtmo_min done\n",
      "indoorHum_200_bin_indoorHum_median done\n",
      "indoorHum_200_bin_indoorHum_mean done\n",
      "indoorHum_200_bin_indoorHum_max done\n"
     ]
    },
    {
     "name": "stderr",
     "output_type": "stream",
     "text": [
      " 97%|███████████████████████████████████████████████████████████████████████████▍  | 1035/1070 [00:30<00:00, 40.21it/s]"
     ]
    },
    {
     "name": "stdout",
     "output_type": "stream",
     "text": [
      "indoorHum_200_bin_indoorHum_min done\n",
      "indoorHum_200_bin_indoorAtmo_median done\n",
      "indoorHum_200_bin_indoorAtmo_mean done\n",
      "indoorHum_200_bin_indoorAtmo_max done\n",
      "indoorHum_200_bin_indoorAtmo_min done\n",
      "indoorHum_200_bin_indoorAtmo-outdoorAtmo_median done\n",
      "indoorHum_200_bin_indoorAtmo-outdoorAtmo_mean done\n",
      "indoorHum_200_bin_indoorAtmo-outdoorAtmo_max done\n",
      "indoorHum_200_bin_indoorAtmo-outdoorAtmo_min done\n"
     ]
    },
    {
     "name": "stderr",
     "output_type": "stream",
     "text": [
      " 98%|████████████████████████████████████████████████████████████████████████████▏ | 1045/1070 [00:30<00:00, 40.22it/s]"
     ]
    },
    {
     "name": "stdout",
     "output_type": "stream",
     "text": [
      "indoorHum_200_bin_indoorHum-outdoorHum_median done\n",
      "indoorHum_200_bin_indoorHum-outdoorHum_mean done\n",
      "indoorHum_200_bin_indoorHum-outdoorHum_max done\n",
      "indoorHum_200_bin_indoorHum-outdoorHum_min done\n",
      "indoorAtmo_200_bin_outdoorTemp_median done\n",
      "indoorAtmo_200_bin_outdoorTemp_mean done\n",
      "indoorAtmo_200_bin_outdoorTemp_max done\n",
      "indoorAtmo_200_bin_outdoorTemp_min done\n",
      "indoorAtmo_200_bin_outdoorHum_median done\n"
     ]
    },
    {
     "name": "stderr",
     "output_type": "stream",
     "text": [
      " 99%|████████████████████████████████████████████████████████████████████████████▉ | 1055/1070 [00:30<00:00, 41.85it/s]"
     ]
    },
    {
     "name": "stdout",
     "output_type": "stream",
     "text": [
      "indoorAtmo_200_bin_outdoorHum_mean done\n",
      "indoorAtmo_200_bin_outdoorHum_max done\n",
      "indoorAtmo_200_bin_outdoorHum_min done\n",
      "indoorAtmo_200_bin_outdoorAtmo_median done\n",
      "indoorAtmo_200_bin_outdoorAtmo_mean done\n",
      "indoorAtmo_200_bin_outdoorAtmo_max done\n",
      "indoorAtmo_200_bin_outdoorAtmo_min done\n",
      "indoorAtmo_200_bin_indoorHum_median done\n",
      "indoorAtmo_200_bin_indoorHum_mean done\n",
      "indoorAtmo_200_bin_indoorHum_max done\n"
     ]
    },
    {
     "name": "stderr",
     "output_type": "stream",
     "text": [
      "100%|█████████████████████████████████████████████████████████████████████████████▋| 1065/1070 [00:31<00:00, 42.07it/s]"
     ]
    },
    {
     "name": "stdout",
     "output_type": "stream",
     "text": [
      "indoorAtmo_200_bin_indoorHum_min done\n",
      "indoorAtmo_200_bin_indoorAtmo_median done\n",
      "indoorAtmo_200_bin_indoorAtmo_mean done\n",
      "indoorAtmo_200_bin_indoorAtmo_max done\n",
      "indoorAtmo_200_bin_indoorAtmo_min done\n",
      "indoorAtmo_200_bin_indoorAtmo-outdoorAtmo_median done\n",
      "indoorAtmo_200_bin_indoorAtmo-outdoorAtmo_mean done\n",
      "indoorAtmo_200_bin_indoorAtmo-outdoorAtmo_max done\n",
      "indoorAtmo_200_bin_indoorAtmo-outdoorAtmo_min done\n"
     ]
    },
    {
     "name": "stderr",
     "output_type": "stream",
     "text": [
      "100%|██████████████████████████████████████████████████████████████████████████████| 1070/1070 [00:31<00:00, 34.32it/s]"
     ]
    },
    {
     "name": "stdout",
     "output_type": "stream",
     "text": [
      "indoorAtmo_200_bin_indoorHum-outdoorHum_median done\n",
      "indoorAtmo_200_bin_indoorHum-outdoorHum_mean done\n",
      "indoorAtmo_200_bin_indoorHum-outdoorHum_max done\n",
      "indoorAtmo_200_bin_indoorHum-outdoorHum_min done\n"
     ]
    },
    {
     "name": "stderr",
     "output_type": "stream",
     "text": [
      "\n"
     ]
    }
   ],
   "source": [
    "psi_res, psi_dict = get_psi(x_train,x_test,features)\n",
    "features = list(psi_res[psi_res['PSI'] <= 0.2]['变量名'].values) + ['outdoorTemp']"
   ]
  },
  {
   "cell_type": "code",
   "execution_count": 21,
   "metadata": {
    "ExecuteTime": {
     "end_time": "2020-07-28T05:59:39.179110Z",
     "start_time": "2020-07-28T05:59:39.118214Z"
    }
   },
   "outputs": [],
   "source": [
    "x_train = train[features]\n",
    "x_test = test[features]"
   ]
  },
  {
   "cell_type": "code",
   "execution_count": 22,
   "metadata": {
    "ExecuteTime": {
     "end_time": "2020-07-28T06:20:56.732987Z",
     "start_time": "2020-07-28T05:59:39.184059Z"
    }
   },
   "outputs": [
    {
     "name": "stdout",
     "output_type": "stream",
     "text": [
      "[0]\ttrain-mae:0.63988\teval-mae:0.33539\n",
      "Multiple eval metrics have been passed: 'eval-mae' will be used for early stopping.\n",
      "\n",
      "Will train until eval-mae hasn't improved in 1000 rounds.\n",
      "[500]\ttrain-mae:0.39946\teval-mae:0.25025\n",
      "[1000]\ttrain-mae:0.25527\teval-mae:0.20690\n",
      "[1500]\ttrain-mae:0.17041\teval-mae:0.18644\n",
      "[2000]\ttrain-mae:0.12163\teval-mae:0.17696\n",
      "[2500]\ttrain-mae:0.09410\teval-mae:0.17251\n",
      "[3000]\ttrain-mae:0.07833\teval-mae:0.17030\n",
      "[3500]\ttrain-mae:0.06912\teval-mae:0.16899\n",
      "[4000]\ttrain-mae:0.06353\teval-mae:0.16821\n",
      "[4500]\ttrain-mae:0.05972\teval-mae:0.16764\n",
      "[5000]\ttrain-mae:0.05704\teval-mae:0.16733\n",
      "[5500]\ttrain-mae:0.05515\teval-mae:0.16713\n",
      "[6000]\ttrain-mae:0.05372\teval-mae:0.16699\n",
      "[6500]\ttrain-mae:0.05258\teval-mae:0.16692\n",
      "[7000]\ttrain-mae:0.05157\teval-mae:0.16689\n",
      "[7500]\ttrain-mae:0.05070\teval-mae:0.16685\n",
      "[8000]\ttrain-mae:0.04988\teval-mae:0.16682\n",
      "[8500]\ttrain-mae:0.04912\teval-mae:0.16681\n",
      "[9000]\ttrain-mae:0.04836\teval-mae:0.16685\n",
      "Stopping. Best iteration:\n",
      "[8333]\ttrain-mae:0.04937\teval-mae:0.16681\n",
      "\n"
     ]
    }
   ],
   "source": [
    "nums = int(x_train.shape[0] * 0.8)\n",
    "\n",
    "trn_x, trn_y, val_x, val_y = x_train[:nums], y_train[:nums], x_train[nums:], y_train[nums:]\n",
    "\n",
    "train_matrix = xgb.DMatrix(trn_x, label=trn_y, missing=np.nan)\n",
    "valid_matrix = xgb.DMatrix(val_x, label=val_y, missing=np.nan)\n",
    "test_matrix = xgb.DMatrix(x_test, label=val_y, missing=np.nan)\n",
    "params = {\n",
    "    'booster': 'gbtree',\n",
    "    'eval_metric': 'mae',\n",
    "    'min_child_weight': 5,\n",
    "    'max_depth': 8,\n",
    "    'subsample': 0.5,\n",
    "    'colsample_bytree': 0.5,\n",
    "    'eta': 0.001,\n",
    "    'seed': 2020,\n",
    "    'nthread': 36,\n",
    "    'silent': True,\n",
    "}\n",
    "\n",
    "watchlist = [(train_matrix, 'train'), (valid_matrix, 'eval')]\n",
    "\n",
    "model = xgb.train(params,\n",
    "                  train_matrix,\n",
    "                  num_boost_round=50000,\n",
    "                  evals=watchlist,\n",
    "                  verbose_eval=500,\n",
    "                  early_stopping_rounds=1000)\n",
    "val_pred = model.predict(valid_matrix, ntree_limit=model.best_ntree_limit).reshape(-1, 1)\n",
    "test_pred = model.predict(test_matrix, ntree_limit=model.best_ntree_limit).reshape(-1, 1)"
   ]
  },
  {
   "cell_type": "code",
   "execution_count": 23,
   "metadata": {
    "ExecuteTime": {
     "end_time": "2020-07-28T06:20:56.764947Z",
     "start_time": "2020-07-28T06:20:56.736977Z"
    }
   },
   "outputs": [],
   "source": [
    "sub[\"temperature\"] = test_pred[:, 0] + test['outdoorTemp'].values\n",
    "sub.to_csv('../sub/sub_baseline_psi.csv', index=False)"
   ]
  }
 ],
 "metadata": {
  "kernelspec": {
   "display_name": "Python 3",
   "language": "python",
   "name": "python3"
  },
  "language_info": {
   "codemirror_mode": {
    "name": "ipython",
    "version": 3
   },
   "file_extension": ".py",
   "mimetype": "text/x-python",
   "name": "python",
   "nbconvert_exporter": "python",
   "pygments_lexer": "ipython3",
   "version": "3.7.3"
  },
  "toc": {
   "base_numbering": 1,
   "nav_menu": {},
   "number_sections": true,
   "sideBar": true,
   "skip_h1_title": false,
   "title_cell": "Table of Contents",
   "title_sidebar": "Contents",
   "toc_cell": false,
   "toc_position": {},
   "toc_section_display": true,
   "toc_window_display": false
  },
  "varInspector": {
   "cols": {
    "lenName": 16,
    "lenType": 16,
    "lenVar": 40
   },
   "kernels_config": {
    "python": {
     "delete_cmd_postfix": "",
     "delete_cmd_prefix": "del ",
     "library": "var_list.py",
     "varRefreshCmd": "print(var_dic_list())"
    },
    "r": {
     "delete_cmd_postfix": ") ",
     "delete_cmd_prefix": "rm(",
     "library": "var_list.r",
     "varRefreshCmd": "cat(var_dic_list()) "
    }
   },
   "types_to_exclude": [
    "module",
    "function",
    "builtin_function_or_method",
    "instance",
    "_Feature"
   ],
   "window_display": false
  }
 },
 "nbformat": 4,
 "nbformat_minor": 4
}
