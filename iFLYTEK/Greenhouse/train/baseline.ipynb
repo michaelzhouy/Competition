{
 "cells": [
  {
   "cell_type": "code",
   "execution_count": 1,
   "metadata": {
    "ExecuteTime": {
     "end_time": "2020-07-29T12:56:02.300424Z",
     "start_time": "2020-07-29T12:56:00.825037Z"
    }
   },
   "outputs": [],
   "source": [
    "import numpy as np\n",
    "import pandas as pd\n",
    "import lightgbm as lgb\n",
    "import xgboost as xgb\n",
    "from tqdm import tqdm\n",
    "from sklearn.model_selection import StratifiedKFold, KFold\n",
    "from sklearn.metrics import mean_absolute_error, mean_squared_error\n",
    "import matplotlib.pyplot as plt\n",
    "import time\n",
    "import gc\n",
    "import warnings\n",
    "\n",
    "warnings.filterwarnings('ignore')"
   ]
  },
  {
   "cell_type": "code",
   "execution_count": 2,
   "metadata": {
    "ExecuteTime": {
     "end_time": "2020-07-29T12:56:02.313058Z",
     "start_time": "2020-07-29T12:56:02.302087Z"
    }
   },
   "outputs": [],
   "source": [
    "def get_psi(train,test,f_cols):\n",
    "    psi_res = pd.DataFrame()\n",
    "    psi_dict={}\n",
    "    for c in tqdm(f_cols):\n",
    "        try:\n",
    "            t_train = train[c].fillna(-998)\n",
    "            t_test = test[c].fillna(-998)\n",
    "            #获取切分点\n",
    "            bins=[]\n",
    "            for i in np.arange(0,1.1,0.2):\n",
    "                bins.append(t_train.quantile(i))\n",
    "            bins=sorted(set(bins))\n",
    "            bins[0]=-np.inf\n",
    "            bins[-1]=np.inf\n",
    "            #计算psi\n",
    "            t_psi = pd.DataFrame()\n",
    "            t_psi['train'] = pd.cut(t_train,bins).value_counts().sort_index()\n",
    "            t_psi['test'] = pd.cut(t_test,bins).value_counts()\n",
    "            if c == 'outdoorTemp':\n",
    "                print(t_psi['train'])\n",
    "                print(t_psi['test'])\n",
    "            t_psi.index=[str(x) for x in t_psi.index]\n",
    "            t_psi.loc['总计',:] = t_psi.sum()\n",
    "            t_psi['train_rate'] = t_psi['train']/t_psi.loc['总计','train']\n",
    "            t_psi['test_rate'] = t_psi['test']/t_psi.loc['总计','test']\n",
    "            t_psi['psi'] = (t_psi['test_rate']-t_psi['train_rate'])*(np.log(t_psi['test_rate'])-np.log(t_psi['train_rate']))\n",
    "            t_psi.loc['总计','psi'] = t_psi['psi'].sum()\n",
    "            t_psi.index.name=c\n",
    "            #汇总\n",
    "            t_res = pd.DataFrame([[c,t_psi.loc['总计','psi']]],\n",
    "                                 columns=['变量名','PSI'])\n",
    "            psi_res = pd.concat([psi_res,t_res])\n",
    "            psi_dict[c]=t_psi\n",
    "            print(c,'done')\n",
    "        except:\n",
    "            print(c,'error')\n",
    "    return psi_res,psi_dict"
   ]
  },
  {
   "cell_type": "code",
   "execution_count": 3,
   "metadata": {
    "ExecuteTime": {
     "end_time": "2020-07-29T12:56:02.359001Z",
     "start_time": "2020-07-29T12:56:02.314055Z"
    }
   },
   "outputs": [],
   "source": [
    "train = pd.read_csv('../input/train.csv')\n",
    "test = pd.read_csv('../input/test.csv')\n",
    "sub = pd.DataFrame(test['time'])"
   ]
  },
  {
   "cell_type": "code",
   "execution_count": 4,
   "metadata": {
    "ExecuteTime": {
     "end_time": "2020-07-29T12:56:02.370968Z",
     "start_time": "2020-07-29T12:56:02.359931Z"
    }
   },
   "outputs": [],
   "source": [
    "train = train[train['temperature'].notnull()]\n",
    "train = train.fillna(method='bfill')\n",
    "test = test.fillna(method='bfill')"
   ]
  },
  {
   "cell_type": "code",
   "execution_count": 5,
   "metadata": {
    "ExecuteTime": {
     "end_time": "2020-07-29T12:56:02.376953Z",
     "start_time": "2020-07-29T12:56:02.371901Z"
    }
   },
   "outputs": [],
   "source": [
    "train.columns = ['time', 'year', 'month', 'day', 'hour', 'min', 'sec',\n",
    "                 'outdoorTemp', 'outdoorHum', 'outdoorAtmo',\n",
    "                 'indoorHum', 'indoorAtmo', 'temperature']\n",
    "\n",
    "test.columns = ['time', 'year', 'month', 'day', 'hour', 'min', 'sec',\n",
    "                'outdoorTemp', 'outdoorHum', 'outdoorAtmo',\n",
    "                'indoorHum', 'indoorAtmo']"
   ]
  },
  {
   "cell_type": "code",
   "execution_count": 6,
   "metadata": {
    "ExecuteTime": {
     "end_time": "2020-07-29T12:56:02.388853Z",
     "start_time": "2020-07-29T12:56:02.379878Z"
    }
   },
   "outputs": [],
   "source": [
    "data = pd.concat([train, test])"
   ]
  },
  {
   "cell_type": "code",
   "execution_count": 7,
   "metadata": {
    "ExecuteTime": {
     "end_time": "2020-07-29T12:56:02.397867Z",
     "start_time": "2020-07-29T12:56:02.391892Z"
    }
   },
   "outputs": [],
   "source": [
    "data['indoorAtmo-outdoorAtmo'] = data['indoorAtmo'] - data['outdoorAtmo']\n",
    "data['indoorHum-outdoorHum'] = data['indoorHum'] - data['outdoorHum']"
   ]
  },
  {
   "cell_type": "code",
   "execution_count": 8,
   "metadata": {
    "ExecuteTime": {
     "end_time": "2020-07-29T12:56:02.403815Z",
     "start_time": "2020-07-29T12:56:02.399826Z"
    }
   },
   "outputs": [],
   "source": [
    "numerical_features = ['outdoorTemp', 'outdoorHum', 'outdoorAtmo', 'indoorHum', 'indoorAtmo', 'indoorAtmo-outdoorAtmo', 'indoorHum-outdoorHum']"
   ]
  },
  {
   "cell_type": "code",
   "execution_count": 9,
   "metadata": {
    "ExecuteTime": {
     "end_time": "2020-07-29T12:56:02.414785Z",
     "start_time": "2020-07-29T12:56:02.404812Z"
    }
   },
   "outputs": [],
   "source": [
    "for i in numerical_features:\n",
    "    data['{}_diff'.format(i)] = data[i].diff()"
   ]
  },
  {
   "cell_type": "code",
   "execution_count": 10,
   "metadata": {
    "ExecuteTime": {
     "end_time": "2020-07-29T12:56:26.014329Z",
     "start_time": "2020-07-29T12:56:02.415783Z"
    }
   },
   "outputs": [
    {
     "name": "stderr",
     "output_type": "stream",
     "text": [
      "100%|████████████████████████████████████████████████████████████████████████████████████| 7/7 [00:23<00:00,  3.37s/it]\n"
     ]
    }
   ],
   "source": [
    "group_feats = []\n",
    "for i in tqdm(numerical_features):\n",
    "    data['MDH_{}_mean'.format(i)] = data.groupby(['month', 'day', 'hour'], as_index=False)[i].transform('mean')\n",
    "    data['MDH_{}_median'.format(i)] = data.groupby(['month', 'day', 'hour'], as_index=False)[i].transform('median')\n",
    "    data['MDH_{}_max'.format(i)] = data.groupby(['month', 'day', 'hour'], as_index=False)[i].transform('max')\n",
    "    data['MDH_{}_min'.format(i)] = data.groupby(['month', 'day', 'hour'], as_index=False)[i].transform('min')\n",
    "    data['MDH_{}_std'.format(i)] = data.groupby(['month', 'day', 'hour'], as_index=False)[i].transform('std')\n",
    "    data['MDH_{}_skew'.format(i)] = data.groupby(['month', 'day', 'hour'], as_index=False)[i].transform('skew')\n",
    "    \n",
    "    group_feats.append('MDH_{}_mean'.format(i))\n",
    "    group_feats.append('MDH_{}_median'.format(i))"
   ]
  },
  {
   "cell_type": "code",
   "execution_count": 11,
   "metadata": {
    "ExecuteTime": {
     "end_time": "2020-07-29T12:56:26.586798Z",
     "start_time": "2020-07-29T12:56:26.015326Z"
    }
   },
   "outputs": [
    {
     "name": "stderr",
     "output_type": "stream",
     "text": [
      "  0%|                                                                                           | 0/21 [00:00<?, ?it/s]\n",
      "100%|████████████████████████████████████████████████████████████████████████████████| 21/21 [00:00<00:00, 1907.62it/s]\u001b[A\n",
      "\n",
      "100%|████████████████████████████████████████████████████████████████████████████████| 21/21 [00:00<00:00, 1619.27it/s]\u001b[A\n",
      "\n",
      "100%|████████████████████████████████████████████████████████████████████████████████| 21/21 [00:00<00:00, 1749.01it/s]\u001b[A\n",
      "\n",
      "100%|████████████████████████████████████████████████████████████████████████████████| 21/21 [00:00<00:00, 1907.70it/s]\u001b[A\n",
      "\n",
      "100%|█████████████████████████████████████████████████████████████████████████████████| 21/21 [00:00<00:00, 457.74it/s]\u001b[A\n",
      " 24%|███████████████████▊                                                               | 5/21 [00:00<00:00, 47.75it/s]\n",
      "100%|████████████████████████████████████████████████████████████████████████████████| 21/21 [00:00<00:00, 1913.79it/s]\u001b[A\n",
      "\n",
      "100%|████████████████████████████████████████████████████████████████████████████████| 21/21 [00:00<00:00, 1914.33it/s]\u001b[A\n",
      "\n",
      "100%|████████████████████████████████████████████████████████████████████████████████| 21/21 [00:00<00:00, 1914.17it/s]\u001b[A\n",
      "\n",
      "100%|████████████████████████████████████████████████████████████████████████████████| 21/21 [00:00<00:00, 1749.61it/s]\u001b[A\n",
      "\n",
      "100%|█████████████████████████████████████████████████████████████████████████████████| 21/21 [00:00<00:00, 309.66it/s]\u001b[A\n",
      " 48%|███████████████████████████████████████                                           | 10/21 [00:00<00:00, 45.04it/s]\n",
      "100%|████████████████████████████████████████████████████████████████████████████████| 21/21 [00:00<00:00, 2101.81it/s]\u001b[A\n",
      "\n",
      "100%|████████████████████████████████████████████████████████████████████████████████| 21/21 [00:00<00:00, 1908.15it/s]\u001b[A\n",
      "\n",
      "100%|████████████████████████████████████████████████████████████████████████████████| 21/21 [00:00<00:00, 1748.91it/s]\u001b[A\n",
      "\n",
      "100%|████████████████████████████████████████████████████████████████████████████████| 21/21 [00:00<00:00, 1914.04it/s]\u001b[A\n",
      "\n",
      "100%|█████████████████████████████████████████████████████████████████████████████████| 21/21 [00:00<00:00, 242.03it/s]\u001b[A\n",
      " 71%|██████████████████████████████████████████████████████████▌                       | 15/21 [00:00<00:00, 41.19it/s]\n",
      "100%|████████████████████████████████████████████████████████████████████████████████| 21/21 [00:00<00:00, 1914.29it/s]\u001b[A\n",
      "\n",
      "100%|████████████████████████████████████████████████████████████████████████████████| 21/21 [00:00<00:00, 1754.66it/s]\u001b[A\n",
      "\n",
      "100%|████████████████████████████████████████████████████████████████████████████████| 21/21 [00:00<00:00, 1907.91it/s]\u001b[A\n",
      "\n",
      "100%|████████████████████████████████████████████████████████████████████████████████| 21/21 [00:00<00:00, 1615.24it/s]\u001b[A\n",
      "\n",
      "  0%|                                                                                           | 0/21 [00:00<?, ?it/s]\u001b[A\n",
      "100%|█████████████████████████████████████████████████████████████████████████████████| 21/21 [00:00<00:00, 188.00it/s]\u001b[A\n",
      " 95%|██████████████████████████████████████████████████████████████████████████████    | 20/21 [00:00<00:00, 36.65it/s]\n",
      "100%|████████████████████████████████████████████████████████████████████████████████| 21/21 [00:00<00:00, 1754.94it/s]\u001b[A\n",
      "100%|██████████████████████████████████████████████████████████████████████████████████| 21/21 [00:00<00:00, 37.27it/s]\n"
     ]
    }
   ],
   "source": [
    "# 基本交叉特征\n",
    "for f1 in tqdm(numerical_features + group_feats):\n",
    "    for f2 in tqdm(numerical_features + group_feats):\n",
    "        if f1 != f2:\n",
    "            colname = '{}_{}_ratio'.format(f1, f2)\n",
    "            data[colname] = data[f1].values / data[f2].values"
   ]
  },
  {
   "cell_type": "code",
   "execution_count": 12,
   "metadata": {
    "ExecuteTime": {
     "end_time": "2020-07-29T12:56:26.722795Z",
     "start_time": "2020-07-29T12:56:26.587795Z"
    }
   },
   "outputs": [],
   "source": [
    "data.fillna(method='bfill', inplace=True)"
   ]
  },
  {
   "cell_type": "code",
   "execution_count": 13,
   "metadata": {
    "ExecuteTime": {
     "end_time": "2020-07-29T12:56:39.456515Z",
     "start_time": "2020-07-29T12:56:26.724430Z"
    }
   },
   "outputs": [
    {
     "name": "stderr",
     "output_type": "stream",
     "text": [
      "100%|██████████████████████████████████████████████████████████████████████████████████| 30/30 [00:01<00:00, 22.86it/s]\n",
      "100%|██████████████████████████████████████████████████████████████████████████████████| 30/30 [00:01<00:00, 21.41it/s]\n",
      "100%|██████████████████████████████████████████████████████████████████████████████████| 30/30 [00:01<00:00, 21.38it/s]\n",
      "100%|██████████████████████████████████████████████████████████████████████████████████| 30/30 [00:01<00:00, 20.37it/s]\n",
      "100%|██████████████████████████████████████████████████████████████████████████████████| 30/30 [00:01<00:00, 21.33it/s]\n",
      "100%|██████████████████████████████████████████████████████████████████████████████████| 30/30 [00:01<00:00, 21.26it/s]\n",
      "100%|██████████████████████████████████████████████████████████████████████████████████| 30/30 [00:01<00:00, 21.21it/s]\n",
      "100%|██████████████████████████████████████████████████████████████████████████████████| 30/30 [00:01<00:00, 21.18it/s]\n"
     ]
    }
   ],
   "source": [
    "# 历史信息提取\n",
    "# dt 14-44\n",
    "data['dt'] = data['day'].values + (data['month'].values - 3) * 31\n",
    "\n",
    "for f in ['outdoorTemp', 'outdoorHum', 'outdoorAtmo', 'indoorHum', 'indoorAtmo', 'indoorAtmo-outdoorAtmo', 'indoorHum-outdoorHum', 'temperature']:\n",
    "    tmp_df = pd.DataFrame()\n",
    "    for t in tqdm(range(15, 45)):\n",
    "        tmp = data[data['dt'] < t].groupby(['hour'])[f].agg({'mean'}).reset_index()\n",
    "        tmp.columns = ['hour', 'hit_{}_mean'.format(f)]\n",
    "        tmp['dt'] = t\n",
    "        tmp_df = tmp_df.append(tmp)\n",
    "\n",
    "    data = data.merge(tmp_df, on=['dt', 'hour'], how='left')\n",
    "    del tmp, tmp_df\n",
    "    gc.collect()"
   ]
  },
  {
   "cell_type": "code",
   "execution_count": 14,
   "metadata": {
    "ExecuteTime": {
     "end_time": "2020-07-29T12:56:39.593135Z",
     "start_time": "2020-07-29T12:56:39.457195Z"
    }
   },
   "outputs": [],
   "source": [
    "data.fillna(method='bfill', inplace=True)"
   ]
  },
  {
   "cell_type": "code",
   "execution_count": 15,
   "metadata": {
    "ExecuteTime": {
     "end_time": "2020-07-29T12:56:39.735754Z",
     "start_time": "2020-07-29T12:56:39.594066Z"
    }
   },
   "outputs": [],
   "source": [
    "# 离散化\n",
    "for f in numerical_features:\n",
    "    data[f + '_20_bin'] = pd.cut(data[f], 20, duplicates='drop').apply(lambda x: x.left).astype(int)\n",
    "    data[f + '_50_bin'] = pd.cut(data[f], 50, duplicates='drop').apply(lambda x: x.left).astype(int)\n",
    "    data[f + '_100_bin'] = pd.cut(data[f], 100, duplicates='drop').apply(lambda x: x.left).astype(int)\n",
    "    data[f + '_200_bin'] = pd.cut(data[f], 200, duplicates='drop').apply(lambda x: x.left).astype(int)"
   ]
  },
  {
   "cell_type": "code",
   "execution_count": 16,
   "metadata": {
    "ExecuteTime": {
     "end_time": "2020-07-29T12:57:26.922105Z",
     "start_time": "2020-07-29T12:56:39.736686Z"
    }
   },
   "outputs": [
    {
     "name": "stderr",
     "output_type": "stream",
     "text": [
      "100%|████████████████████████████████████████████████████████████████████████████████████| 7/7 [00:47<00:00,  6.74s/it]\n"
     ]
    }
   ],
   "source": [
    "for f1 in tqdm(['{}_20_bin'.format(i) for i in numerical_features]):\n",
    "    for f2 in numerical_features:\n",
    "        data['{}_{}_median'.format(f1, f2)] = data.groupby([f1])[f2].transform('median')\n",
    "        data['{}_{}_mean'.format(f1, f2)] = data.groupby([f1])[f2].transform('mean')\n",
    "        data['{}_{}_max'.format(f1, f2)] = data.groupby([f1])[f2].transform('max')\n",
    "        data['{}_{}_min'.format(f1, f2)] = data.groupby([f1])[f2].transform('min')\n",
    "        data['{}_{}_std'.format(f1, f2)] = data.groupby([f1])[f2].transform('std')\n",
    "        data['{}_{}_sum'.format(f1, f2)] = data.groupby([f1])[f2].transform('sum')\n",
    "        data['{}_{}_skew'.format(f1, f2)] = data.groupby([f1])[f2].transform('skew')"
   ]
  },
  {
   "cell_type": "code",
   "execution_count": 17,
   "metadata": {
    "ExecuteTime": {
     "end_time": "2020-07-29T12:58:39.358981Z",
     "start_time": "2020-07-29T12:57:26.923102Z"
    }
   },
   "outputs": [
    {
     "name": "stderr",
     "output_type": "stream",
     "text": [
      "100%|████████████████████████████████████████████████████████████████████████████████████| 7/7 [01:12<00:00, 10.35s/it]\n"
     ]
    }
   ],
   "source": [
    "for f1 in tqdm(['{}_50_bin'.format(i) for i in numerical_features]):\n",
    "    for f2 in numerical_features:\n",
    "        data['{}_{}_median'.format(f1, f2)] = data.groupby([f1])[f2].transform('median')\n",
    "        data['{}_{}_mean'.format(f1, f2)] = data.groupby([f1])[f2].transform('mean')\n",
    "        data['{}_{}_max'.format(f1, f2)] = data.groupby([f1])[f2].transform('max')\n",
    "        data['{}_{}_min'.format(f1, f2)] = data.groupby([f1])[f2].transform('min')\n",
    "        data['{}_{}_std'.format(f1, f2)] = data.groupby([f1])[f2].transform('std')\n",
    "        data['{}_{}_sum'.format(f1, f2)] = data.groupby([f1])[f2].transform('sum')\n",
    "        data['{}_{}_skew'.format(f1, f2)] = data.groupby([f1])[f2].transform('skew')"
   ]
  },
  {
   "cell_type": "code",
   "execution_count": 18,
   "metadata": {
    "ExecuteTime": {
     "end_time": "2020-07-29T13:00:16.557724Z",
     "start_time": "2020-07-29T12:58:39.359978Z"
    }
   },
   "outputs": [
    {
     "name": "stderr",
     "output_type": "stream",
     "text": [
      "100%|████████████████████████████████████████████████████████████████████████████████████| 7/7 [01:37<00:00, 13.88s/it]\n"
     ]
    }
   ],
   "source": [
    "for f1 in tqdm(['{}_100_bin'.format(i) for i in numerical_features]):\n",
    "    for f2 in numerical_features:\n",
    "        data['{}_{}_median'.format(f1, f2)] = data.groupby([f1])[f2].transform('median')\n",
    "        data['{}_{}_mean'.format(f1, f2)] = data.groupby([f1])[f2].transform('mean')\n",
    "        data['{}_{}_max'.format(f1, f2)] = data.groupby([f1])[f2].transform('max')\n",
    "        data['{}_{}_min'.format(f1, f2)] = data.groupby([f1])[f2].transform('min')\n",
    "        data['{}_{}_std'.format(f1, f2)] = data.groupby([f1])[f2].transform('std')\n",
    "        data['{}_{}_sum'.format(f1, f2)] = data.groupby([f1])[f2].transform('sum')\n",
    "        data['{}_{}_skew'.format(f1, f2)] = data.groupby([f1])[f2].transform('skew')"
   ]
  },
  {
   "cell_type": "code",
   "execution_count": 19,
   "metadata": {
    "ExecuteTime": {
     "end_time": "2020-07-29T13:02:19.314271Z",
     "start_time": "2020-07-29T13:00:16.558700Z"
    }
   },
   "outputs": [
    {
     "name": "stderr",
     "output_type": "stream",
     "text": [
      "100%|████████████████████████████████████████████████████████████████████████████████████| 7/7 [02:02<00:00, 17.53s/it]\n"
     ]
    }
   ],
   "source": [
    "for f1 in tqdm(['{}_200_bin'.format(i) for i in numerical_features]):\n",
    "    for f2 in numerical_features:\n",
    "        data['{}_{}_median'.format(f1, f2)] = data.groupby([f1])[f2].transform('median')\n",
    "        data['{}_{}_mean'.format(f1, f2)] = data.groupby([f1])[f2].transform('mean')\n",
    "        data['{}_{}_max'.format(f1, f2)] = data.groupby([f1])[f2].transform('max')\n",
    "        data['{}_{}_min'.format(f1, f2)] = data.groupby([f1])[f2].transform('min')\n",
    "        data['{}_{}_std'.format(f1, f2)] = data.groupby([f1])[f2].transform('std')\n",
    "        data['{}_{}_sum'.format(f1, f2)] = data.groupby([f1])[f2].transform('sum')\n",
    "        data['{}_{}_skew'.format(f1, f2)] = data.groupby([f1])[f2].transform('skew')"
   ]
  },
  {
   "cell_type": "code",
   "execution_count": 20,
   "metadata": {
    "ExecuteTime": {
     "end_time": "2020-07-29T13:02:20.150396Z",
     "start_time": "2020-07-29T13:02:19.315267Z"
    }
   },
   "outputs": [
    {
     "data": {
      "text/plain": [
       "49"
      ]
     },
     "execution_count": 20,
     "metadata": {},
     "output_type": "execute_result"
    }
   ],
   "source": [
    "drop_columns = ['time', 'year', 'sec', 'temperature']\n",
    "\n",
    "train_count = train.shape[0]\n",
    "train = data[:train_count].copy().reset_index(drop=True)\n",
    "test = data[train_count:].copy().reset_index(drop=True)\n",
    "del data\n",
    "gc.collect()"
   ]
  },
  {
   "cell_type": "code",
   "execution_count": 21,
   "metadata": {
    "ExecuteTime": {
     "end_time": "2020-07-29T13:02:20.334740Z",
     "start_time": "2020-07-29T13:02:20.151393Z"
    }
   },
   "outputs": [],
   "source": [
    "features = train[:1].drop(drop_columns, axis=1).columns\n",
    "x_train = train[features]\n",
    "x_test = test[features]\n",
    "\n",
    "y_train = train['temperature'].values - train['outdoorTemp'].values"
   ]
  },
  {
   "cell_type": "code",
   "execution_count": 22,
   "metadata": {
    "ExecuteTime": {
     "end_time": "2020-07-29T13:03:07.269437Z",
     "start_time": "2020-07-29T13:02:20.338494Z"
    }
   },
   "outputs": [
    {
     "name": "stderr",
     "output_type": "stream",
     "text": [
      "  0%|▎                                                                                | 8/1889 [00:00<00:49, 37.86it/s]"
     ]
    },
    {
     "name": "stdout",
     "output_type": "stream",
     "text": [
      "month done\n",
      "day done\n",
      "hour done\n",
      "min done\n",
      "(-inf, 12.72]    4962\n",
      "(12.72, 15.0]    5155\n",
      "(15.0, 16.9]     4914\n",
      "(16.9, 19.7]     4922\n",
      "(19.7, inf]      4854\n",
      "Name: train, dtype: int64\n",
      "(-inf, 12.72]      0\n",
      "(12.72, 15.0]     53\n",
      "(15.0, 16.9]      64\n",
      "(16.9, 19.7]      64\n",
      "(19.7, inf]      225\n",
      "Name: test, dtype: int64\n",
      "outdoorTemp done\n",
      "outdoorHum done\n",
      "outdoorAtmo done\n",
      "indoorHum done\n"
     ]
    },
    {
     "name": "stderr",
     "output_type": "stream",
     "text": [
      "  1%|▋                                                                               | 17/1889 [00:00<00:47, 39.17it/s]"
     ]
    },
    {
     "name": "stdout",
     "output_type": "stream",
     "text": [
      "indoorAtmo done\n",
      "indoorAtmo-outdoorAtmo done\n",
      "indoorHum-outdoorHum done\n",
      "outdoorTemp_diff done\n",
      "outdoorHum_diff done\n",
      "outdoorAtmo_diff done\n",
      "indoorHum_diff done\n",
      "indoorAtmo_diff done\n",
      "indoorAtmo-outdoorAtmo_diff done\n"
     ]
    },
    {
     "name": "stderr",
     "output_type": "stream",
     "text": [
      "\r",
      "  1%|▉                                                                               | 22/1889 [00:00<00:46, 39.82it/s]"
     ]
    },
    {
     "name": "stdout",
     "output_type": "stream",
     "text": [
      "indoorHum-outdoorHum_diff done\n",
      "MDH_outdoorTemp_mean done\n",
      "MDH_outdoorTemp_median done\n",
      "MDH_outdoorTemp_max done\n",
      "MDH_outdoorTemp_min done\n",
      "MDH_outdoorTemp_std done\n",
      "MDH_outdoorTemp_skew done\n",
      "MDH_outdoorHum_mean done\n",
      "MDH_outdoorHum_median done\n"
     ]
    },
    {
     "name": "stderr",
     "output_type": "stream",
     "text": [
      "  2%|█▎                                                                              | 32/1889 [00:00<00:46, 40.24it/s]"
     ]
    },
    {
     "name": "stdout",
     "output_type": "stream",
     "text": [
      "MDH_outdoorHum_max done\n",
      "MDH_outdoorHum_min done\n",
      "MDH_outdoorHum_std done\n",
      "MDH_outdoorHum_skew done\n",
      "MDH_outdoorAtmo_mean done\n",
      "MDH_outdoorAtmo_median done\n",
      "MDH_outdoorAtmo_max done\n",
      "MDH_outdoorAtmo_min done\n",
      "MDH_outdoorAtmo_std done\n"
     ]
    },
    {
     "name": "stderr",
     "output_type": "stream",
     "text": [
      "  2%|█▋                                                                              | 41/1889 [00:01<00:45, 40.18it/s]"
     ]
    },
    {
     "name": "stdout",
     "output_type": "stream",
     "text": [
      "MDH_outdoorAtmo_skew done\n",
      "MDH_indoorHum_mean done\n",
      "MDH_indoorHum_median done\n",
      "MDH_indoorHum_max done\n",
      "MDH_indoorHum_min done\n",
      "MDH_indoorHum_std done\n",
      "MDH_indoorHum_skew done\n",
      "MDH_indoorAtmo_mean done\n",
      "MDH_indoorAtmo_median done\n"
     ]
    },
    {
     "name": "stderr",
     "output_type": "stream",
     "text": [
      "  3%|██                                                                              | 50/1889 [00:01<00:45, 40.07it/s]"
     ]
    },
    {
     "name": "stdout",
     "output_type": "stream",
     "text": [
      "MDH_indoorAtmo_max done\n",
      "MDH_indoorAtmo_min done\n",
      "MDH_indoorAtmo_std done\n",
      "MDH_indoorAtmo_skew done\n",
      "MDH_indoorAtmo-outdoorAtmo_mean done\n",
      "MDH_indoorAtmo-outdoorAtmo_median done\n",
      "MDH_indoorAtmo-outdoorAtmo_max done\n",
      "MDH_indoorAtmo-outdoorAtmo_min done\n",
      "MDH_indoorAtmo-outdoorAtmo_std done\n"
     ]
    },
    {
     "name": "stderr",
     "output_type": "stream",
     "text": [
      "  3%|██▍                                                                             | 59/1889 [00:01<00:45, 40.10it/s]"
     ]
    },
    {
     "name": "stdout",
     "output_type": "stream",
     "text": [
      "MDH_indoorAtmo-outdoorAtmo_skew done\n",
      "MDH_indoorHum-outdoorHum_mean done\n",
      "MDH_indoorHum-outdoorHum_median done\n",
      "MDH_indoorHum-outdoorHum_max done\n",
      "MDH_indoorHum-outdoorHum_min done\n",
      "MDH_indoorHum-outdoorHum_std done\n",
      "MDH_indoorHum-outdoorHum_skew done\n",
      "outdoorTemp_outdoorHum_ratio done\n",
      "outdoorTemp_outdoorAtmo_ratio done\n"
     ]
    },
    {
     "name": "stderr",
     "output_type": "stream",
     "text": [
      "  4%|██▉                                                                             | 69/1889 [00:01<00:45, 40.31it/s]"
     ]
    },
    {
     "name": "stdout",
     "output_type": "stream",
     "text": [
      "outdoorTemp_indoorHum_ratio done\n",
      "outdoorTemp_indoorAtmo_ratio done\n",
      "outdoorTemp_indoorAtmo-outdoorAtmo_ratio done\n",
      "outdoorTemp_indoorHum-outdoorHum_ratio done\n",
      "outdoorTemp_MDH_outdoorTemp_mean_ratio done\n",
      "outdoorTemp_MDH_outdoorTemp_median_ratio done\n",
      "outdoorTemp_MDH_outdoorHum_mean_ratio done\n",
      "outdoorTemp_MDH_outdoorHum_median_ratio done\n",
      "outdoorTemp_MDH_outdoorAtmo_mean_ratio done\n"
     ]
    },
    {
     "name": "stderr",
     "output_type": "stream",
     "text": [
      "  4%|███▎                                                                            | 79/1889 [00:01<00:44, 40.44it/s]"
     ]
    },
    {
     "name": "stdout",
     "output_type": "stream",
     "text": [
      "outdoorTemp_MDH_outdoorAtmo_median_ratio done\n",
      "outdoorTemp_MDH_indoorHum_mean_ratio done\n",
      "outdoorTemp_MDH_indoorHum_median_ratio done\n",
      "outdoorTemp_MDH_indoorAtmo_mean_ratio done\n",
      "outdoorTemp_MDH_indoorAtmo_median_ratio done\n",
      "outdoorTemp_MDH_indoorAtmo-outdoorAtmo_mean_ratio done\n",
      "outdoorTemp_MDH_indoorAtmo-outdoorAtmo_median_ratio done\n",
      "outdoorTemp_MDH_indoorHum-outdoorHum_mean_ratio done\n"
     ]
    },
    {
     "name": "stderr",
     "output_type": "stream",
     "text": [
      "\r",
      "  4%|███▌                                                                            | 84/1889 [00:02<00:44, 40.34it/s]"
     ]
    },
    {
     "name": "stdout",
     "output_type": "stream",
     "text": [
      "outdoorTemp_MDH_indoorHum-outdoorHum_median_ratio done\n",
      "outdoorHum_outdoorTemp_ratio done\n",
      "outdoorHum_outdoorAtmo_ratio done\n",
      "outdoorHum_indoorHum_ratio done\n",
      "outdoorHum_indoorAtmo_ratio done\n",
      "outdoorHum_indoorAtmo-outdoorAtmo_ratio error\n",
      "outdoorHum_indoorHum-outdoorHum_ratio done\n",
      "outdoorHum_MDH_outdoorTemp_mean_ratio done\n",
      "outdoorHum_MDH_outdoorTemp_median_ratio done\n"
     ]
    },
    {
     "name": "stderr",
     "output_type": "stream",
     "text": [
      "  5%|███▉                                                                            | 94/1889 [00:02<00:42, 41.97it/s]"
     ]
    },
    {
     "name": "stdout",
     "output_type": "stream",
     "text": [
      "outdoorHum_MDH_outdoorHum_mean_ratio done\n",
      "outdoorHum_MDH_outdoorHum_median_ratio done\n",
      "outdoorHum_MDH_outdoorAtmo_mean_ratio done\n",
      "outdoorHum_MDH_outdoorAtmo_median_ratio done\n",
      "outdoorHum_MDH_indoorHum_mean_ratio done\n",
      "outdoorHum_MDH_indoorHum_median_ratio done\n",
      "outdoorHum_MDH_indoorAtmo_mean_ratio done\n",
      "outdoorHum_MDH_indoorAtmo_median_ratio done\n",
      "outdoorHum_MDH_indoorAtmo-outdoorAtmo_mean_ratio done\n"
     ]
    },
    {
     "name": "stderr",
     "output_type": "stream",
     "text": [
      "  6%|████▎                                                                          | 104/1889 [00:02<00:42, 42.01it/s]"
     ]
    },
    {
     "name": "stdout",
     "output_type": "stream",
     "text": [
      "outdoorHum_MDH_indoorAtmo-outdoorAtmo_median_ratio done\n",
      "outdoorHum_MDH_indoorHum-outdoorHum_mean_ratio done\n",
      "outdoorHum_MDH_indoorHum-outdoorHum_median_ratio done\n",
      "outdoorAtmo_outdoorTemp_ratio done\n",
      "outdoorAtmo_outdoorHum_ratio done\n",
      "outdoorAtmo_indoorHum_ratio done\n",
      "outdoorAtmo_indoorAtmo_ratio done\n",
      "outdoorAtmo_indoorAtmo-outdoorAtmo_ratio done\n",
      "outdoorAtmo_indoorHum-outdoorHum_ratio done\n"
     ]
    },
    {
     "name": "stderr",
     "output_type": "stream",
     "text": [
      "  6%|████▊                                                                          | 114/1889 [00:02<00:42, 41.89it/s]"
     ]
    },
    {
     "name": "stdout",
     "output_type": "stream",
     "text": [
      "outdoorAtmo_MDH_outdoorTemp_mean_ratio done\n",
      "outdoorAtmo_MDH_outdoorTemp_median_ratio done\n",
      "outdoorAtmo_MDH_outdoorHum_mean_ratio done\n",
      "outdoorAtmo_MDH_outdoorHum_median_ratio done\n",
      "outdoorAtmo_MDH_outdoorAtmo_mean_ratio done\n",
      "outdoorAtmo_MDH_outdoorAtmo_median_ratio done\n",
      "outdoorAtmo_MDH_indoorHum_mean_ratio done\n",
      "outdoorAtmo_MDH_indoorHum_median_ratio done\n",
      "outdoorAtmo_MDH_indoorAtmo_mean_ratio done\n"
     ]
    },
    {
     "name": "stderr",
     "output_type": "stream",
     "text": [
      "  7%|█████▏                                                                         | 124/1889 [00:03<00:41, 42.67it/s]"
     ]
    },
    {
     "name": "stdout",
     "output_type": "stream",
     "text": [
      "outdoorAtmo_MDH_indoorAtmo_median_ratio done\n",
      "outdoorAtmo_MDH_indoorAtmo-outdoorAtmo_mean_ratio done\n",
      "outdoorAtmo_MDH_indoorAtmo-outdoorAtmo_median_ratio error\n",
      "outdoorAtmo_MDH_indoorHum-outdoorHum_mean_ratio done\n",
      "outdoorAtmo_MDH_indoorHum-outdoorHum_median_ratio done\n",
      "indoorHum_outdoorTemp_ratio done\n",
      "indoorHum_outdoorHum_ratio done\n",
      "indoorHum_outdoorAtmo_ratio done\n",
      "indoorHum_indoorAtmo_ratio done\n",
      "indoorHum_indoorAtmo-outdoorAtmo_ratio done\n"
     ]
    },
    {
     "name": "stderr",
     "output_type": "stream",
     "text": [
      "  7%|█████▌                                                                         | 134/1889 [00:03<00:41, 41.85it/s]"
     ]
    },
    {
     "name": "stdout",
     "output_type": "stream",
     "text": [
      "indoorHum_indoorHum-outdoorHum_ratio done\n",
      "indoorHum_MDH_outdoorTemp_mean_ratio done\n",
      "indoorHum_MDH_outdoorTemp_median_ratio done\n",
      "indoorHum_MDH_outdoorHum_mean_ratio done\n",
      "indoorHum_MDH_outdoorHum_median_ratio done\n",
      "indoorHum_MDH_outdoorAtmo_mean_ratio done\n",
      "indoorHum_MDH_outdoorAtmo_median_ratio done\n",
      "indoorHum_MDH_indoorHum_mean_ratio done\n",
      "indoorHum_MDH_indoorHum_median_ratio done\n"
     ]
    },
    {
     "name": "stderr",
     "output_type": "stream",
     "text": [
      "\r",
      "  7%|█████▊                                                                         | 139/1889 [00:03<00:42, 41.62it/s]"
     ]
    },
    {
     "name": "stdout",
     "output_type": "stream",
     "text": [
      "indoorHum_MDH_indoorAtmo_mean_ratio done\n",
      "indoorHum_MDH_indoorAtmo_median_ratio done\n",
      "indoorHum_MDH_indoorAtmo-outdoorAtmo_mean_ratio done\n",
      "indoorHum_MDH_indoorAtmo-outdoorAtmo_median_ratio done\n",
      "indoorHum_MDH_indoorHum-outdoorHum_mean_ratio done\n",
      "indoorHum_MDH_indoorHum-outdoorHum_median_ratio done\n",
      "indoorAtmo_outdoorTemp_ratio done\n",
      "indoorAtmo_outdoorHum_ratio done\n",
      "indoorAtmo_outdoorAtmo_ratio done\n"
     ]
    },
    {
     "name": "stderr",
     "output_type": "stream",
     "text": [
      "  8%|██████▏                                                                        | 149/1889 [00:03<00:41, 41.94it/s]"
     ]
    },
    {
     "name": "stdout",
     "output_type": "stream",
     "text": [
      "indoorAtmo_indoorHum_ratio done\n",
      "indoorAtmo_indoorAtmo-outdoorAtmo_ratio done\n",
      "indoorAtmo_indoorHum-outdoorHum_ratio done\n",
      "indoorAtmo_MDH_outdoorTemp_mean_ratio done\n",
      "indoorAtmo_MDH_outdoorTemp_median_ratio done\n",
      "indoorAtmo_MDH_outdoorHum_mean_ratio done\n",
      "indoorAtmo_MDH_outdoorHum_median_ratio done\n",
      "indoorAtmo_MDH_outdoorAtmo_mean_ratio done\n",
      "indoorAtmo_MDH_outdoorAtmo_median_ratio done\n"
     ]
    },
    {
     "name": "stderr",
     "output_type": "stream",
     "text": [
      "  8%|██████▋                                                                        | 159/1889 [00:03<00:41, 41.26it/s]"
     ]
    },
    {
     "name": "stdout",
     "output_type": "stream",
     "text": [
      "indoorAtmo_MDH_indoorHum_mean_ratio done\n",
      "indoorAtmo_MDH_indoorHum_median_ratio done\n",
      "indoorAtmo_MDH_indoorAtmo_mean_ratio done\n",
      "indoorAtmo_MDH_indoorAtmo_median_ratio done\n",
      "indoorAtmo_MDH_indoorAtmo-outdoorAtmo_mean_ratio done\n",
      "indoorAtmo_MDH_indoorAtmo-outdoorAtmo_median_ratio done\n",
      "indoorAtmo_MDH_indoorHum-outdoorHum_mean_ratio done\n",
      "indoorAtmo_MDH_indoorHum-outdoorHum_median_ratio done\n",
      "indoorAtmo-outdoorAtmo_outdoorTemp_ratio done\n"
     ]
    },
    {
     "name": "stderr",
     "output_type": "stream",
     "text": [
      "  9%|███████                                                                        | 169/1889 [00:04<00:42, 40.05it/s]"
     ]
    },
    {
     "name": "stdout",
     "output_type": "stream",
     "text": [
      "indoorAtmo-outdoorAtmo_outdoorHum_ratio done\n",
      "indoorAtmo-outdoorAtmo_outdoorAtmo_ratio done\n",
      "indoorAtmo-outdoorAtmo_indoorHum_ratio done\n",
      "indoorAtmo-outdoorAtmo_indoorAtmo_ratio done\n",
      "indoorAtmo-outdoorAtmo_indoorHum-outdoorHum_ratio done\n",
      "indoorAtmo-outdoorAtmo_MDH_outdoorTemp_mean_ratio done\n",
      "indoorAtmo-outdoorAtmo_MDH_outdoorTemp_median_ratio done\n",
      "indoorAtmo-outdoorAtmo_MDH_outdoorHum_mean_ratio done\n"
     ]
    },
    {
     "name": "stderr",
     "output_type": "stream",
     "text": [
      "\r",
      "  9%|███████▎                                                                       | 174/1889 [00:04<00:42, 40.07it/s]"
     ]
    },
    {
     "name": "stdout",
     "output_type": "stream",
     "text": [
      "indoorAtmo-outdoorAtmo_MDH_outdoorHum_median_ratio done\n",
      "indoorAtmo-outdoorAtmo_MDH_outdoorAtmo_mean_ratio done\n",
      "indoorAtmo-outdoorAtmo_MDH_outdoorAtmo_median_ratio done\n",
      "indoorAtmo-outdoorAtmo_MDH_indoorHum_mean_ratio done\n",
      "indoorAtmo-outdoorAtmo_MDH_indoorHum_median_ratio done\n",
      "indoorAtmo-outdoorAtmo_MDH_indoorAtmo_mean_ratio done\n",
      "indoorAtmo-outdoorAtmo_MDH_indoorAtmo_median_ratio done\n",
      "indoorAtmo-outdoorAtmo_MDH_indoorAtmo-outdoorAtmo_mean_ratio done\n"
     ]
    },
    {
     "name": "stderr",
     "output_type": "stream",
     "text": [
      " 10%|███████▋                                                                       | 184/1889 [00:04<00:42, 40.02it/s]"
     ]
    },
    {
     "name": "stdout",
     "output_type": "stream",
     "text": [
      "indoorAtmo-outdoorAtmo_MDH_indoorAtmo-outdoorAtmo_median_ratio done\n",
      "indoorAtmo-outdoorAtmo_MDH_indoorHum-outdoorHum_mean_ratio done\n",
      "indoorAtmo-outdoorAtmo_MDH_indoorHum-outdoorHum_median_ratio done\n",
      "indoorHum-outdoorHum_outdoorTemp_ratio done\n",
      "indoorHum-outdoorHum_outdoorHum_ratio done\n",
      "indoorHum-outdoorHum_outdoorAtmo_ratio done\n",
      "indoorHum-outdoorHum_indoorHum_ratio done\n",
      "indoorHum-outdoorHum_indoorAtmo_ratio done\n"
     ]
    },
    {
     "name": "stderr",
     "output_type": "stream",
     "text": [
      " 10%|████████                                                                       | 194/1889 [00:04<00:41, 41.29it/s]"
     ]
    },
    {
     "name": "stdout",
     "output_type": "stream",
     "text": [
      "indoorHum-outdoorHum_indoorAtmo-outdoorAtmo_ratio error\n",
      "indoorHum-outdoorHum_MDH_outdoorTemp_mean_ratio done\n",
      "indoorHum-outdoorHum_MDH_outdoorTemp_median_ratio done\n",
      "indoorHum-outdoorHum_MDH_outdoorHum_mean_ratio done\n",
      "indoorHum-outdoorHum_MDH_outdoorHum_median_ratio done\n",
      "indoorHum-outdoorHum_MDH_outdoorAtmo_mean_ratio done\n",
      "indoorHum-outdoorHum_MDH_outdoorAtmo_median_ratio done\n",
      "indoorHum-outdoorHum_MDH_indoorHum_mean_ratio done\n",
      "indoorHum-outdoorHum_MDH_indoorHum_median_ratio done\n"
     ]
    },
    {
     "name": "stderr",
     "output_type": "stream",
     "text": [
      "\r",
      " 11%|████████▎                                                                      | 199/1889 [00:04<00:39, 42.81it/s]"
     ]
    },
    {
     "name": "stdout",
     "output_type": "stream",
     "text": [
      "indoorHum-outdoorHum_MDH_indoorAtmo_mean_ratio done\n",
      "indoorHum-outdoorHum_MDH_indoorAtmo_median_ratio done\n",
      "indoorHum-outdoorHum_MDH_indoorAtmo-outdoorAtmo_mean_ratio done\n",
      "indoorHum-outdoorHum_MDH_indoorAtmo-outdoorAtmo_median_ratio error\n",
      "indoorHum-outdoorHum_MDH_indoorHum-outdoorHum_mean_ratio done\n",
      "indoorHum-outdoorHum_MDH_indoorHum-outdoorHum_median_ratio done\n",
      "MDH_outdoorTemp_mean_outdoorTemp_ratio done\n",
      "MDH_outdoorTemp_mean_outdoorHum_ratio done\n",
      "MDH_outdoorTemp_mean_outdoorAtmo_ratio done\n"
     ]
    },
    {
     "name": "stderr",
     "output_type": "stream",
     "text": [
      " 11%|████████▋                                                                      | 209/1889 [00:05<00:38, 43.71it/s]"
     ]
    },
    {
     "name": "stdout",
     "output_type": "stream",
     "text": [
      "MDH_outdoorTemp_mean_indoorHum_ratio done\n",
      "MDH_outdoorTemp_mean_indoorAtmo_ratio done\n",
      "MDH_outdoorTemp_mean_indoorAtmo-outdoorAtmo_ratio error\n",
      "MDH_outdoorTemp_mean_indoorHum-outdoorHum_ratio done\n",
      "MDH_outdoorTemp_mean_MDH_outdoorTemp_median_ratio done\n",
      "MDH_outdoorTemp_mean_MDH_outdoorHum_mean_ratio done\n",
      "MDH_outdoorTemp_mean_MDH_outdoorHum_median_ratio done\n",
      "MDH_outdoorTemp_mean_MDH_outdoorAtmo_mean_ratio done\n",
      "MDH_outdoorTemp_mean_MDH_outdoorAtmo_median_ratio done\n"
     ]
    },
    {
     "name": "stderr",
     "output_type": "stream",
     "text": [
      " 12%|█████████▏                                                                     | 219/1889 [00:05<00:39, 42.51it/s]"
     ]
    },
    {
     "name": "stdout",
     "output_type": "stream",
     "text": [
      "MDH_outdoorTemp_mean_MDH_indoorHum_mean_ratio done\n",
      "MDH_outdoorTemp_mean_MDH_indoorHum_median_ratio done\n",
      "MDH_outdoorTemp_mean_MDH_indoorAtmo_mean_ratio done\n",
      "MDH_outdoorTemp_mean_MDH_indoorAtmo_median_ratio done\n",
      "MDH_outdoorTemp_mean_MDH_indoorAtmo-outdoorAtmo_mean_ratio done\n",
      "MDH_outdoorTemp_mean_MDH_indoorAtmo-outdoorAtmo_median_ratio done\n",
      "MDH_outdoorTemp_mean_MDH_indoorHum-outdoorHum_mean_ratio done\n",
      "MDH_outdoorTemp_mean_MDH_indoorHum-outdoorHum_median_ratio done\n",
      "MDH_outdoorTemp_median_outdoorTemp_ratio done\n"
     ]
    },
    {
     "name": "stderr",
     "output_type": "stream",
     "text": [
      " 12%|█████████▌                                                                     | 229/1889 [00:05<00:39, 41.85it/s]"
     ]
    },
    {
     "name": "stdout",
     "output_type": "stream",
     "text": [
      "MDH_outdoorTemp_median_outdoorHum_ratio done\n",
      "MDH_outdoorTemp_median_outdoorAtmo_ratio done\n",
      "MDH_outdoorTemp_median_indoorHum_ratio done\n",
      "MDH_outdoorTemp_median_indoorAtmo_ratio done\n",
      "MDH_outdoorTemp_median_indoorAtmo-outdoorAtmo_ratio done\n",
      "MDH_outdoorTemp_median_indoorHum-outdoorHum_ratio done\n",
      "MDH_outdoorTemp_median_MDH_outdoorTemp_mean_ratio done\n",
      "MDH_outdoorTemp_median_MDH_outdoorHum_mean_ratio done\n",
      "MDH_outdoorTemp_median_MDH_outdoorHum_median_ratio done\n"
     ]
    },
    {
     "name": "stderr",
     "output_type": "stream",
     "text": [
      " 13%|█████████▉                                                                     | 239/1889 [00:05<00:39, 41.36it/s]"
     ]
    },
    {
     "name": "stdout",
     "output_type": "stream",
     "text": [
      "MDH_outdoorTemp_median_MDH_outdoorAtmo_mean_ratio done\n",
      "MDH_outdoorTemp_median_MDH_outdoorAtmo_median_ratio done\n",
      "MDH_outdoorTemp_median_MDH_indoorHum_mean_ratio done\n",
      "MDH_outdoorTemp_median_MDH_indoorHum_median_ratio done\n",
      "MDH_outdoorTemp_median_MDH_indoorAtmo_mean_ratio done\n",
      "MDH_outdoorTemp_median_MDH_indoorAtmo_median_ratio done\n",
      "MDH_outdoorTemp_median_MDH_indoorAtmo-outdoorAtmo_mean_ratio done\n",
      "MDH_outdoorTemp_median_MDH_indoorAtmo-outdoorAtmo_median_ratio done\n",
      "MDH_outdoorTemp_median_MDH_indoorHum-outdoorHum_mean_ratio done\n"
     ]
    },
    {
     "name": "stderr",
     "output_type": "stream",
     "text": [
      "\r",
      " 13%|██████████▏                                                                    | 244/1889 [00:05<00:39, 41.28it/s]"
     ]
    },
    {
     "name": "stdout",
     "output_type": "stream",
     "text": [
      "MDH_outdoorTemp_median_MDH_indoorHum-outdoorHum_median_ratio done\n",
      "MDH_outdoorHum_mean_outdoorTemp_ratio done\n",
      "MDH_outdoorHum_mean_outdoorHum_ratio done\n",
      "MDH_outdoorHum_mean_outdoorAtmo_ratio done\n",
      "MDH_outdoorHum_mean_indoorHum_ratio done\n",
      "MDH_outdoorHum_mean_indoorAtmo_ratio done\n",
      "MDH_outdoorHum_mean_indoorAtmo-outdoorAtmo_ratio done\n",
      "MDH_outdoorHum_mean_indoorHum-outdoorHum_ratio done\n",
      "MDH_outdoorHum_mean_MDH_outdoorTemp_mean_ratio done\n"
     ]
    },
    {
     "name": "stderr",
     "output_type": "stream",
     "text": [
      " 13%|██████████▌                                                                    | 254/1889 [00:06<00:39, 41.17it/s]"
     ]
    },
    {
     "name": "stdout",
     "output_type": "stream",
     "text": [
      "MDH_outdoorHum_mean_MDH_outdoorTemp_median_ratio done\n",
      "MDH_outdoorHum_mean_MDH_outdoorHum_median_ratio done\n",
      "MDH_outdoorHum_mean_MDH_outdoorAtmo_mean_ratio done\n",
      "MDH_outdoorHum_mean_MDH_outdoorAtmo_median_ratio done\n",
      "MDH_outdoorHum_mean_MDH_indoorHum_mean_ratio done\n",
      "MDH_outdoorHum_mean_MDH_indoorHum_median_ratio done\n",
      "MDH_outdoorHum_mean_MDH_indoorAtmo_mean_ratio done\n",
      "MDH_outdoorHum_mean_MDH_indoorAtmo_median_ratio done\n",
      "MDH_outdoorHum_mean_MDH_indoorAtmo-outdoorAtmo_mean_ratio done\n"
     ]
    },
    {
     "name": "stderr",
     "output_type": "stream",
     "text": [
      " 14%|███████████                                                                    | 264/1889 [00:06<00:38, 42.22it/s]"
     ]
    },
    {
     "name": "stdout",
     "output_type": "stream",
     "text": [
      "MDH_outdoorHum_mean_MDH_indoorAtmo-outdoorAtmo_median_ratio error\n",
      "MDH_outdoorHum_mean_MDH_indoorHum-outdoorHum_mean_ratio done\n",
      "MDH_outdoorHum_mean_MDH_indoorHum-outdoorHum_median_ratio done\n",
      "MDH_outdoorHum_median_outdoorTemp_ratio done\n",
      "MDH_outdoorHum_median_outdoorHum_ratio done\n",
      "MDH_outdoorHum_median_outdoorAtmo_ratio done\n",
      "MDH_outdoorHum_median_indoorHum_ratio done\n",
      "MDH_outdoorHum_median_indoorAtmo_ratio done\n",
      "MDH_outdoorHum_median_indoorAtmo-outdoorAtmo_ratio done\n"
     ]
    },
    {
     "name": "stderr",
     "output_type": "stream",
     "text": [
      " 15%|███████████▍                                                                   | 274/1889 [00:06<00:38, 41.46it/s]"
     ]
    },
    {
     "name": "stdout",
     "output_type": "stream",
     "text": [
      "MDH_outdoorHum_median_indoorHum-outdoorHum_ratio done\n",
      "MDH_outdoorHum_median_MDH_outdoorTemp_mean_ratio done\n",
      "MDH_outdoorHum_median_MDH_outdoorTemp_median_ratio done\n",
      "MDH_outdoorHum_median_MDH_outdoorHum_mean_ratio done\n",
      "MDH_outdoorHum_median_MDH_outdoorAtmo_mean_ratio done\n",
      "MDH_outdoorHum_median_MDH_outdoorAtmo_median_ratio done\n",
      "MDH_outdoorHum_median_MDH_indoorHum_mean_ratio done\n",
      "MDH_outdoorHum_median_MDH_indoorHum_median_ratio done\n",
      "MDH_outdoorHum_median_MDH_indoorAtmo_mean_ratio done\n"
     ]
    },
    {
     "name": "stderr",
     "output_type": "stream",
     "text": [
      " 15%|███████████▉                                                                   | 284/1889 [00:06<00:38, 41.84it/s]"
     ]
    },
    {
     "name": "stdout",
     "output_type": "stream",
     "text": [
      "MDH_outdoorHum_median_MDH_indoorAtmo_median_ratio done\n",
      "MDH_outdoorHum_median_MDH_indoorAtmo-outdoorAtmo_mean_ratio done\n",
      "MDH_outdoorHum_median_MDH_indoorAtmo-outdoorAtmo_median_ratio done\n",
      "MDH_outdoorHum_median_MDH_indoorHum-outdoorHum_mean_ratio done\n",
      "MDH_outdoorHum_median_MDH_indoorHum-outdoorHum_median_ratio done\n",
      "MDH_outdoorAtmo_mean_outdoorTemp_ratio done\n",
      "MDH_outdoorAtmo_mean_outdoorHum_ratio done\n",
      "MDH_outdoorAtmo_mean_outdoorAtmo_ratio done\n",
      "MDH_outdoorAtmo_mean_indoorHum_ratio done\n"
     ]
    },
    {
     "name": "stderr",
     "output_type": "stream",
     "text": [
      "\r",
      " 15%|████████████▏                                                                  | 290/1889 [00:06<00:36, 44.02it/s]"
     ]
    },
    {
     "name": "stdout",
     "output_type": "stream",
     "text": [
      "MDH_outdoorAtmo_mean_indoorAtmo_ratio done\n",
      "MDH_outdoorAtmo_mean_indoorAtmo-outdoorAtmo_ratio done\n",
      "MDH_outdoorAtmo_mean_indoorHum-outdoorHum_ratio error\n",
      "MDH_outdoorAtmo_mean_MDH_outdoorTemp_mean_ratio done\n",
      "MDH_outdoorAtmo_mean_MDH_outdoorTemp_median_ratio done\n",
      "MDH_outdoorAtmo_mean_MDH_outdoorHum_mean_ratio done\n",
      "MDH_outdoorAtmo_mean_MDH_outdoorHum_median_ratio done\n",
      "MDH_outdoorAtmo_mean_MDH_outdoorAtmo_median_ratio done\n",
      "MDH_outdoorAtmo_mean_MDH_indoorHum_mean_ratio done\n",
      "MDH_outdoorAtmo_mean_MDH_indoorHum_median_ratio done\n"
     ]
    },
    {
     "name": "stderr",
     "output_type": "stream",
     "text": [
      " 16%|████████████▌                                                                  | 300/1889 [00:07<00:37, 42.37it/s]"
     ]
    },
    {
     "name": "stdout",
     "output_type": "stream",
     "text": [
      "MDH_outdoorAtmo_mean_MDH_indoorAtmo_mean_ratio done\n",
      "MDH_outdoorAtmo_mean_MDH_indoorAtmo_median_ratio done\n",
      "MDH_outdoorAtmo_mean_MDH_indoorAtmo-outdoorAtmo_mean_ratio done\n",
      "MDH_outdoorAtmo_mean_MDH_indoorAtmo-outdoorAtmo_median_ratio done\n",
      "MDH_outdoorAtmo_mean_MDH_indoorHum-outdoorHum_mean_ratio done\n",
      "MDH_outdoorAtmo_mean_MDH_indoorHum-outdoorHum_median_ratio done\n",
      "MDH_outdoorAtmo_median_outdoorTemp_ratio done\n",
      "MDH_outdoorAtmo_median_outdoorHum_ratio done\n",
      "MDH_outdoorAtmo_median_outdoorAtmo_ratio done\n"
     ]
    },
    {
     "name": "stderr",
     "output_type": "stream",
     "text": [
      " 16%|████████████▉                                                                  | 310/1889 [00:07<00:36, 43.01it/s]"
     ]
    },
    {
     "name": "stdout",
     "output_type": "stream",
     "text": [
      "MDH_outdoorAtmo_median_indoorHum_ratio done\n",
      "MDH_outdoorAtmo_median_indoorAtmo_ratio done\n",
      "MDH_outdoorAtmo_median_indoorAtmo-outdoorAtmo_ratio done\n",
      "MDH_outdoorAtmo_median_indoorHum-outdoorHum_ratio done\n",
      "MDH_outdoorAtmo_median_MDH_outdoorTemp_mean_ratio done\n",
      "MDH_outdoorAtmo_median_MDH_outdoorTemp_median_ratio done\n",
      "MDH_outdoorAtmo_median_MDH_outdoorHum_mean_ratio done\n",
      "MDH_outdoorAtmo_median_MDH_outdoorHum_median_ratio done\n",
      "MDH_outdoorAtmo_median_MDH_outdoorAtmo_mean_ratio done\n"
     ]
    },
    {
     "name": "stderr",
     "output_type": "stream",
     "text": [
      " 17%|█████████████▍                                                                 | 320/1889 [00:07<00:35, 43.85it/s]"
     ]
    },
    {
     "name": "stdout",
     "output_type": "stream",
     "text": [
      "MDH_outdoorAtmo_median_MDH_indoorHum_mean_ratio done\n",
      "MDH_outdoorAtmo_median_MDH_indoorHum_median_ratio done\n",
      "MDH_outdoorAtmo_median_MDH_indoorAtmo_mean_ratio done\n",
      "MDH_outdoorAtmo_median_MDH_indoorAtmo_median_ratio done\n",
      "MDH_outdoorAtmo_median_MDH_indoorAtmo-outdoorAtmo_mean_ratio done\n",
      "MDH_outdoorAtmo_median_MDH_indoorAtmo-outdoorAtmo_median_ratio error\n",
      "MDH_outdoorAtmo_median_MDH_indoorHum-outdoorHum_mean_ratio done\n",
      "MDH_outdoorAtmo_median_MDH_indoorHum-outdoorHum_median_ratio done\n",
      "MDH_indoorHum_mean_outdoorTemp_ratio done\n"
     ]
    },
    {
     "name": "stderr",
     "output_type": "stream",
     "text": [
      " 17%|█████████████▊                                                                 | 330/1889 [00:07<00:36, 42.28it/s]"
     ]
    },
    {
     "name": "stdout",
     "output_type": "stream",
     "text": [
      "MDH_indoorHum_mean_outdoorHum_ratio done\n",
      "MDH_indoorHum_mean_outdoorAtmo_ratio done\n",
      "MDH_indoorHum_mean_indoorHum_ratio done\n",
      "MDH_indoorHum_mean_indoorAtmo_ratio done\n",
      "MDH_indoorHum_mean_indoorAtmo-outdoorAtmo_ratio done\n",
      "MDH_indoorHum_mean_indoorHum-outdoorHum_ratio done\n",
      "MDH_indoorHum_mean_MDH_outdoorTemp_mean_ratio done\n",
      "MDH_indoorHum_mean_MDH_outdoorTemp_median_ratio done\n",
      "MDH_indoorHum_mean_MDH_outdoorHum_mean_ratio done\n"
     ]
    },
    {
     "name": "stderr",
     "output_type": "stream",
     "text": [
      "\r",
      " 18%|██████████████                                                                 | 335/1889 [00:08<00:36, 42.13it/s]"
     ]
    },
    {
     "name": "stdout",
     "output_type": "stream",
     "text": [
      "MDH_indoorHum_mean_MDH_outdoorHum_median_ratio done\n",
      "MDH_indoorHum_mean_MDH_outdoorAtmo_mean_ratio done\n",
      "MDH_indoorHum_mean_MDH_outdoorAtmo_median_ratio done\n",
      "MDH_indoorHum_mean_MDH_indoorHum_median_ratio done\n",
      "MDH_indoorHum_mean_MDH_indoorAtmo_mean_ratio done\n",
      "MDH_indoorHum_mean_MDH_indoorAtmo_median_ratio done\n",
      "MDH_indoorHum_mean_MDH_indoorAtmo-outdoorAtmo_mean_ratio done\n",
      "MDH_indoorHum_mean_MDH_indoorAtmo-outdoorAtmo_median_ratio done\n",
      "MDH_indoorHum_mean_MDH_indoorHum-outdoorHum_mean_ratio done\n"
     ]
    },
    {
     "name": "stderr",
     "output_type": "stream",
     "text": [
      " 18%|██████████████▍                                                                | 345/1889 [00:08<00:37, 41.49it/s]"
     ]
    },
    {
     "name": "stdout",
     "output_type": "stream",
     "text": [
      "MDH_indoorHum_mean_MDH_indoorHum-outdoorHum_median_ratio done\n",
      "MDH_indoorHum_median_outdoorTemp_ratio done\n",
      "MDH_indoorHum_median_outdoorHum_ratio done\n",
      "MDH_indoorHum_median_outdoorAtmo_ratio done\n",
      "MDH_indoorHum_median_indoorHum_ratio done\n",
      "MDH_indoorHum_median_indoorAtmo_ratio done\n",
      "MDH_indoorHum_median_indoorAtmo-outdoorAtmo_ratio done\n",
      "MDH_indoorHum_median_indoorHum-outdoorHum_ratio done\n",
      "MDH_indoorHum_median_MDH_outdoorTemp_mean_ratio done\n"
     ]
    },
    {
     "name": "stderr",
     "output_type": "stream",
     "text": [
      " 19%|██████████████▊                                                                | 355/1889 [00:08<00:37, 40.98it/s]"
     ]
    },
    {
     "name": "stdout",
     "output_type": "stream",
     "text": [
      "MDH_indoorHum_median_MDH_outdoorTemp_median_ratio done\n",
      "MDH_indoorHum_median_MDH_outdoorHum_mean_ratio done\n",
      "MDH_indoorHum_median_MDH_outdoorHum_median_ratio done\n",
      "MDH_indoorHum_median_MDH_outdoorAtmo_mean_ratio done\n",
      "MDH_indoorHum_median_MDH_outdoorAtmo_median_ratio done\n",
      "MDH_indoorHum_median_MDH_indoorHum_mean_ratio done\n",
      "MDH_indoorHum_median_MDH_indoorAtmo_mean_ratio done\n",
      "MDH_indoorHum_median_MDH_indoorAtmo_median_ratio done\n",
      "MDH_indoorHum_median_MDH_indoorAtmo-outdoorAtmo_mean_ratio done\n"
     ]
    },
    {
     "name": "stderr",
     "output_type": "stream",
     "text": [
      " 19%|███████████████▎                                                               | 365/1889 [00:08<00:36, 41.45it/s]"
     ]
    },
    {
     "name": "stdout",
     "output_type": "stream",
     "text": [
      "MDH_indoorHum_median_MDH_indoorAtmo-outdoorAtmo_median_ratio done\n",
      "MDH_indoorHum_median_MDH_indoorHum-outdoorHum_mean_ratio done\n",
      "MDH_indoorHum_median_MDH_indoorHum-outdoorHum_median_ratio done\n",
      "MDH_indoorAtmo_mean_outdoorTemp_ratio done\n",
      "MDH_indoorAtmo_mean_outdoorHum_ratio done\n",
      "MDH_indoorAtmo_mean_outdoorAtmo_ratio done\n",
      "MDH_indoorAtmo_mean_indoorHum_ratio done\n",
      "MDH_indoorAtmo_mean_indoorAtmo_ratio done\n",
      "MDH_indoorAtmo_mean_indoorAtmo-outdoorAtmo_ratio done\n"
     ]
    },
    {
     "name": "stderr",
     "output_type": "stream",
     "text": [
      "\r",
      " 20%|███████████████▍                                                               | 370/1889 [00:08<00:36, 41.65it/s]"
     ]
    },
    {
     "name": "stdout",
     "output_type": "stream",
     "text": [
      "MDH_indoorAtmo_mean_indoorHum-outdoorHum_ratio done\n",
      "MDH_indoorAtmo_mean_MDH_outdoorTemp_mean_ratio done\n",
      "MDH_indoorAtmo_mean_MDH_outdoorTemp_median_ratio done\n",
      "MDH_indoorAtmo_mean_MDH_outdoorHum_mean_ratio done\n",
      "MDH_indoorAtmo_mean_MDH_outdoorHum_median_ratio done\n",
      "MDH_indoorAtmo_mean_MDH_outdoorAtmo_mean_ratio done\n",
      "MDH_indoorAtmo_mean_MDH_outdoorAtmo_median_ratio done\n",
      "MDH_indoorAtmo_mean_MDH_indoorHum_mean_ratio done\n"
     ]
    },
    {
     "name": "stderr",
     "output_type": "stream",
     "text": [
      " 20%|███████████████▉                                                               | 380/1889 [00:09<00:36, 41.15it/s]"
     ]
    },
    {
     "name": "stdout",
     "output_type": "stream",
     "text": [
      "MDH_indoorAtmo_mean_MDH_indoorHum_median_ratio done\n",
      "MDH_indoorAtmo_mean_MDH_indoorAtmo_median_ratio done\n",
      "MDH_indoorAtmo_mean_MDH_indoorAtmo-outdoorAtmo_mean_ratio done\n",
      "MDH_indoorAtmo_mean_MDH_indoorAtmo-outdoorAtmo_median_ratio done\n",
      "MDH_indoorAtmo_mean_MDH_indoorHum-outdoorHum_mean_ratio done\n",
      "MDH_indoorAtmo_mean_MDH_indoorHum-outdoorHum_median_ratio done\n",
      "MDH_indoorAtmo_median_outdoorTemp_ratio done\n",
      "MDH_indoorAtmo_median_outdoorHum_ratio done\n",
      "MDH_indoorAtmo_median_outdoorAtmo_ratio done\n"
     ]
    },
    {
     "name": "stderr",
     "output_type": "stream",
     "text": [
      " 21%|████████████████▎                                                              | 390/1889 [00:09<00:35, 42.28it/s]"
     ]
    },
    {
     "name": "stdout",
     "output_type": "stream",
     "text": [
      "MDH_indoorAtmo_median_indoorHum_ratio done\n",
      "MDH_indoorAtmo_median_indoorAtmo_ratio done\n",
      "MDH_indoorAtmo_median_indoorAtmo-outdoorAtmo_ratio done\n",
      "MDH_indoorAtmo_median_indoorHum-outdoorHum_ratio done\n",
      "MDH_indoorAtmo_median_MDH_outdoorTemp_mean_ratio done\n",
      "MDH_indoorAtmo_median_MDH_outdoorTemp_median_ratio done\n",
      "MDH_indoorAtmo_median_MDH_outdoorHum_mean_ratio done\n",
      "MDH_indoorAtmo_median_MDH_outdoorHum_median_ratio done\n",
      "MDH_indoorAtmo_median_MDH_outdoorAtmo_mean_ratio done\n"
     ]
    },
    {
     "name": "stderr",
     "output_type": "stream",
     "text": [
      " 21%|████████████████▋                                                              | 400/1889 [00:09<00:35, 41.87it/s]"
     ]
    },
    {
     "name": "stdout",
     "output_type": "stream",
     "text": [
      "MDH_indoorAtmo_median_MDH_outdoorAtmo_median_ratio done\n",
      "MDH_indoorAtmo_median_MDH_indoorHum_mean_ratio done\n",
      "MDH_indoorAtmo_median_MDH_indoorHum_median_ratio done\n",
      "MDH_indoorAtmo_median_MDH_indoorAtmo_mean_ratio done\n",
      "MDH_indoorAtmo_median_MDH_indoorAtmo-outdoorAtmo_mean_ratio done\n",
      "MDH_indoorAtmo_median_MDH_indoorAtmo-outdoorAtmo_median_ratio done\n",
      "MDH_indoorAtmo_median_MDH_indoorHum-outdoorHum_mean_ratio done\n",
      "MDH_indoorAtmo_median_MDH_indoorHum-outdoorHum_median_ratio done\n",
      "MDH_indoorAtmo-outdoorAtmo_mean_outdoorTemp_ratio done\n"
     ]
    },
    {
     "name": "stderr",
     "output_type": "stream",
     "text": [
      " 22%|█████████████████▏                                                             | 410/1889 [00:09<00:34, 43.44it/s]"
     ]
    },
    {
     "name": "stdout",
     "output_type": "stream",
     "text": [
      "MDH_indoorAtmo-outdoorAtmo_mean_outdoorHum_ratio done\n",
      "MDH_indoorAtmo-outdoorAtmo_mean_outdoorAtmo_ratio done\n",
      "MDH_indoorAtmo-outdoorAtmo_mean_indoorHum_ratio done\n",
      "MDH_indoorAtmo-outdoorAtmo_mean_indoorAtmo_ratio done\n",
      "MDH_indoorAtmo-outdoorAtmo_mean_indoorAtmo-outdoorAtmo_ratio error\n",
      "MDH_indoorAtmo-outdoorAtmo_mean_indoorHum-outdoorHum_ratio done\n",
      "MDH_indoorAtmo-outdoorAtmo_mean_MDH_outdoorTemp_mean_ratio done\n",
      "MDH_indoorAtmo-outdoorAtmo_mean_MDH_outdoorTemp_median_ratio done\n",
      "MDH_indoorAtmo-outdoorAtmo_mean_MDH_outdoorHum_mean_ratio done\n",
      "MDH_indoorAtmo-outdoorAtmo_mean_MDH_outdoorHum_median_ratio done\n"
     ]
    },
    {
     "name": "stderr",
     "output_type": "stream",
     "text": [
      " 22%|█████████████████▌                                                             | 421/1889 [00:10<00:32, 45.80it/s]"
     ]
    },
    {
     "name": "stdout",
     "output_type": "stream",
     "text": [
      "MDH_indoorAtmo-outdoorAtmo_mean_MDH_outdoorAtmo_mean_ratio done\n",
      "MDH_indoorAtmo-outdoorAtmo_mean_MDH_outdoorAtmo_median_ratio done\n",
      "MDH_indoorAtmo-outdoorAtmo_mean_MDH_indoorHum_mean_ratio done\n",
      "MDH_indoorAtmo-outdoorAtmo_mean_MDH_indoorHum_median_ratio done\n",
      "MDH_indoorAtmo-outdoorAtmo_mean_MDH_indoorAtmo_mean_ratio done\n",
      "MDH_indoorAtmo-outdoorAtmo_mean_MDH_indoorAtmo_median_ratio done\n",
      "MDH_indoorAtmo-outdoorAtmo_mean_MDH_indoorAtmo-outdoorAtmo_median_ratio error\n",
      "MDH_indoorAtmo-outdoorAtmo_mean_MDH_indoorHum-outdoorHum_mean_ratio done\n",
      "MDH_indoorAtmo-outdoorAtmo_mean_MDH_indoorHum-outdoorHum_median_ratio error\n",
      "MDH_indoorAtmo-outdoorAtmo_median_outdoorTemp_ratio done\n"
     ]
    },
    {
     "name": "stderr",
     "output_type": "stream",
     "text": [
      "\r",
      " 23%|█████████████████▊                                                             | 426/1889 [00:10<00:33, 44.16it/s]"
     ]
    },
    {
     "name": "stdout",
     "output_type": "stream",
     "text": [
      "MDH_indoorAtmo-outdoorAtmo_median_outdoorHum_ratio done\n",
      "MDH_indoorAtmo-outdoorAtmo_median_outdoorAtmo_ratio done\n",
      "MDH_indoorAtmo-outdoorAtmo_median_indoorHum_ratio done\n",
      "MDH_indoorAtmo-outdoorAtmo_median_indoorAtmo_ratio done\n",
      "MDH_indoorAtmo-outdoorAtmo_median_indoorAtmo-outdoorAtmo_ratio done\n",
      "MDH_indoorAtmo-outdoorAtmo_median_indoorHum-outdoorHum_ratio done\n",
      "MDH_indoorAtmo-outdoorAtmo_median_MDH_outdoorTemp_mean_ratio done\n",
      "MDH_indoorAtmo-outdoorAtmo_median_MDH_outdoorTemp_median_ratio done\n",
      "MDH_indoorAtmo-outdoorAtmo_median_MDH_outdoorHum_mean_ratio done\n"
     ]
    },
    {
     "name": "stderr",
     "output_type": "stream",
     "text": [
      " 23%|██████████████████▏                                                            | 436/1889 [00:10<00:34, 42.68it/s]"
     ]
    },
    {
     "name": "stdout",
     "output_type": "stream",
     "text": [
      "MDH_indoorAtmo-outdoorAtmo_median_MDH_outdoorHum_median_ratio done\n",
      "MDH_indoorAtmo-outdoorAtmo_median_MDH_outdoorAtmo_mean_ratio done\n",
      "MDH_indoorAtmo-outdoorAtmo_median_MDH_outdoorAtmo_median_ratio done\n",
      "MDH_indoorAtmo-outdoorAtmo_median_MDH_indoorHum_mean_ratio done\n",
      "MDH_indoorAtmo-outdoorAtmo_median_MDH_indoorHum_median_ratio done\n",
      "MDH_indoorAtmo-outdoorAtmo_median_MDH_indoorAtmo_mean_ratio done\n",
      "MDH_indoorAtmo-outdoorAtmo_median_MDH_indoorAtmo_median_ratio done\n",
      "MDH_indoorAtmo-outdoorAtmo_median_MDH_indoorAtmo-outdoorAtmo_mean_ratio done\n",
      "MDH_indoorAtmo-outdoorAtmo_median_MDH_indoorHum-outdoorHum_mean_ratio done\n"
     ]
    },
    {
     "name": "stderr",
     "output_type": "stream",
     "text": [
      " 24%|██████████████████▋                                                            | 446/1889 [00:10<00:32, 43.83it/s]"
     ]
    },
    {
     "name": "stdout",
     "output_type": "stream",
     "text": [
      "MDH_indoorAtmo-outdoorAtmo_median_MDH_indoorHum-outdoorHum_median_ratio done\n",
      "MDH_indoorHum-outdoorHum_mean_outdoorTemp_ratio done\n",
      "MDH_indoorHum-outdoorHum_mean_outdoorHum_ratio done\n",
      "MDH_indoorHum-outdoorHum_mean_outdoorAtmo_ratio done\n",
      "MDH_indoorHum-outdoorHum_mean_indoorHum_ratio done\n",
      "MDH_indoorHum-outdoorHum_mean_indoorAtmo_ratio done\n",
      "MDH_indoorHum-outdoorHum_mean_indoorAtmo-outdoorAtmo_ratio error\n",
      "MDH_indoorHum-outdoorHum_mean_indoorHum-outdoorHum_ratio done\n",
      "MDH_indoorHum-outdoorHum_mean_MDH_outdoorTemp_mean_ratio done\n"
     ]
    },
    {
     "name": "stderr",
     "output_type": "stream",
     "text": [
      " 24%|███████████████████                                                            | 456/1889 [00:10<00:33, 42.42it/s]"
     ]
    },
    {
     "name": "stdout",
     "output_type": "stream",
     "text": [
      "MDH_indoorHum-outdoorHum_mean_MDH_outdoorTemp_median_ratio done\n",
      "MDH_indoorHum-outdoorHum_mean_MDH_outdoorHum_mean_ratio done\n",
      "MDH_indoorHum-outdoorHum_mean_MDH_outdoorHum_median_ratio done\n",
      "MDH_indoorHum-outdoorHum_mean_MDH_outdoorAtmo_mean_ratio done\n",
      "MDH_indoorHum-outdoorHum_mean_MDH_outdoorAtmo_median_ratio done\n",
      "MDH_indoorHum-outdoorHum_mean_MDH_indoorHum_mean_ratio done\n",
      "MDH_indoorHum-outdoorHum_mean_MDH_indoorHum_median_ratio done\n",
      "MDH_indoorHum-outdoorHum_mean_MDH_indoorAtmo_mean_ratio done\n",
      "MDH_indoorHum-outdoorHum_mean_MDH_indoorAtmo_median_ratio done\n"
     ]
    },
    {
     "name": "stderr",
     "output_type": "stream",
     "text": [
      " 25%|███████████████████▍                                                           | 466/1889 [00:11<00:31, 44.90it/s]"
     ]
    },
    {
     "name": "stdout",
     "output_type": "stream",
     "text": [
      "MDH_indoorHum-outdoorHum_mean_MDH_indoorAtmo-outdoorAtmo_mean_ratio done\n",
      "MDH_indoorHum-outdoorHum_mean_MDH_indoorAtmo-outdoorAtmo_median_ratio error\n",
      "MDH_indoorHum-outdoorHum_mean_MDH_indoorHum-outdoorHum_median_ratio done\n",
      "MDH_indoorHum-outdoorHum_median_outdoorTemp_ratio done\n",
      "MDH_indoorHum-outdoorHum_median_outdoorHum_ratio done\n",
      "MDH_indoorHum-outdoorHum_median_outdoorAtmo_ratio done\n",
      "MDH_indoorHum-outdoorHum_median_indoorHum_ratio done\n",
      "MDH_indoorHum-outdoorHum_median_indoorAtmo_ratio done\n",
      "MDH_indoorHum-outdoorHum_median_indoorAtmo-outdoorAtmo_ratio error\n",
      "MDH_indoorHum-outdoorHum_median_indoorHum-outdoorHum_ratio done\n",
      "MDH_indoorHum-outdoorHum_median_MDH_outdoorTemp_mean_ratio done\n"
     ]
    },
    {
     "name": "stderr",
     "output_type": "stream",
     "text": [
      " 25%|███████████████████▉                                                           | 476/1889 [00:11<00:32, 42.98it/s]"
     ]
    },
    {
     "name": "stdout",
     "output_type": "stream",
     "text": [
      "MDH_indoorHum-outdoorHum_median_MDH_outdoorTemp_median_ratio done\n",
      "MDH_indoorHum-outdoorHum_median_MDH_outdoorHum_mean_ratio done\n",
      "MDH_indoorHum-outdoorHum_median_MDH_outdoorHum_median_ratio done\n",
      "MDH_indoorHum-outdoorHum_median_MDH_outdoorAtmo_mean_ratio done\n",
      "MDH_indoorHum-outdoorHum_median_MDH_outdoorAtmo_median_ratio done\n",
      "MDH_indoorHum-outdoorHum_median_MDH_indoorHum_mean_ratio done\n",
      "MDH_indoorHum-outdoorHum_median_MDH_indoorHum_median_ratio done\n",
      "MDH_indoorHum-outdoorHum_median_MDH_indoorAtmo_mean_ratio done\n",
      "MDH_indoorHum-outdoorHum_median_MDH_indoorAtmo_median_ratio done\n"
     ]
    },
    {
     "name": "stderr",
     "output_type": "stream",
     "text": [
      " 26%|████████████████████▎                                                          | 486/1889 [00:11<00:32, 43.52it/s]"
     ]
    },
    {
     "name": "stdout",
     "output_type": "stream",
     "text": [
      "MDH_indoorHum-outdoorHum_median_MDH_indoorAtmo-outdoorAtmo_mean_ratio done\n",
      "MDH_indoorHum-outdoorHum_median_MDH_indoorAtmo-outdoorAtmo_median_ratio error\n",
      "MDH_indoorHum-outdoorHum_median_MDH_indoorHum-outdoorHum_mean_ratio done\n",
      "dt done\n",
      "hit_outdoorTemp_mean done\n",
      "hit_outdoorHum_mean done\n",
      "hit_outdoorAtmo_mean done\n",
      "hit_indoorHum_mean done\n",
      "hit_indoorAtmo_mean done\n"
     ]
    },
    {
     "name": "stderr",
     "output_type": "stream",
     "text": [
      "\r",
      " 26%|████████████████████▌                                                          | 491/1889 [00:11<00:32, 42.76it/s]"
     ]
    },
    {
     "name": "stdout",
     "output_type": "stream",
     "text": [
      "hit_indoorAtmo-outdoorAtmo_mean done\n",
      "hit_indoorHum-outdoorHum_mean done\n",
      "hit_temperature_mean done\n",
      "outdoorTemp_20_bin done\n",
      "outdoorTemp_50_bin done\n",
      "outdoorTemp_100_bin done\n",
      "outdoorTemp_200_bin done\n",
      "outdoorHum_20_bin done\n",
      "outdoorHum_50_bin done\n"
     ]
    },
    {
     "name": "stderr",
     "output_type": "stream",
     "text": [
      " 27%|████████████████████▉                                                          | 501/1889 [00:11<00:32, 43.05it/s]"
     ]
    },
    {
     "name": "stdout",
     "output_type": "stream",
     "text": [
      "outdoorHum_100_bin done\n",
      "outdoorHum_200_bin done\n",
      "outdoorAtmo_20_bin done\n",
      "outdoorAtmo_50_bin done\n",
      "outdoorAtmo_100_bin done\n",
      "outdoorAtmo_200_bin done\n",
      "indoorHum_20_bin done\n",
      "indoorHum_50_bin done\n",
      "indoorHum_100_bin done\n"
     ]
    },
    {
     "name": "stderr",
     "output_type": "stream",
     "text": [
      " 27%|█████████████████████▍                                                         | 512/1889 [00:12<00:30, 45.39it/s]"
     ]
    },
    {
     "name": "stdout",
     "output_type": "stream",
     "text": [
      "indoorHum_200_bin done\n",
      "indoorAtmo_20_bin done\n",
      "indoorAtmo_50_bin done\n",
      "indoorAtmo_100_bin done\n",
      "indoorAtmo_200_bin done\n",
      "indoorAtmo-outdoorAtmo_20_bin done\n",
      "indoorAtmo-outdoorAtmo_50_bin done\n",
      "indoorAtmo-outdoorAtmo_100_bin done\n",
      "indoorAtmo-outdoorAtmo_200_bin done\n",
      "indoorHum-outdoorHum_20_bin done\n"
     ]
    },
    {
     "name": "stderr",
     "output_type": "stream",
     "text": [
      " 28%|█████████████████████▊                                                         | 522/1889 [00:12<00:31, 43.87it/s]"
     ]
    },
    {
     "name": "stdout",
     "output_type": "stream",
     "text": [
      "indoorHum-outdoorHum_50_bin done\n",
      "indoorHum-outdoorHum_100_bin done\n",
      "indoorHum-outdoorHum_200_bin done\n",
      "outdoorTemp_20_bin_outdoorTemp_median done\n",
      "outdoorTemp_20_bin_outdoorTemp_mean done\n",
      "outdoorTemp_20_bin_outdoorTemp_max done\n",
      "outdoorTemp_20_bin_outdoorTemp_min done\n",
      "outdoorTemp_20_bin_outdoorTemp_std done\n",
      "outdoorTemp_20_bin_outdoorTemp_sum done\n"
     ]
    },
    {
     "name": "stderr",
     "output_type": "stream",
     "text": [
      " 28%|██████████████████████▏                                                        | 532/1889 [00:12<00:30, 44.21it/s]"
     ]
    },
    {
     "name": "stdout",
     "output_type": "stream",
     "text": [
      "outdoorTemp_20_bin_outdoorTemp_skew done\n",
      "outdoorTemp_20_bin_outdoorHum_median done\n",
      "outdoorTemp_20_bin_outdoorHum_mean done\n",
      "outdoorTemp_20_bin_outdoorHum_max done\n",
      "outdoorTemp_20_bin_outdoorHum_min done\n",
      "outdoorTemp_20_bin_outdoorHum_std done\n",
      "outdoorTemp_20_bin_outdoorHum_sum done\n",
      "outdoorTemp_20_bin_outdoorHum_skew done\n",
      "outdoorTemp_20_bin_outdoorAtmo_median done\n",
      "outdoorTemp_20_bin_outdoorAtmo_mean done\n"
     ]
    },
    {
     "name": "stderr",
     "output_type": "stream",
     "text": [
      " 29%|██████████████████████▋                                                        | 542/1889 [00:12<00:30, 44.72it/s]"
     ]
    },
    {
     "name": "stdout",
     "output_type": "stream",
     "text": [
      "outdoorTemp_20_bin_outdoorAtmo_max done\n",
      "outdoorTemp_20_bin_outdoorAtmo_min done\n",
      "outdoorTemp_20_bin_outdoorAtmo_std done\n",
      "outdoorTemp_20_bin_outdoorAtmo_sum done\n",
      "outdoorTemp_20_bin_outdoorAtmo_skew done\n",
      "outdoorTemp_20_bin_indoorHum_median done\n",
      "outdoorTemp_20_bin_indoorHum_mean done\n",
      "outdoorTemp_20_bin_indoorHum_max done\n",
      "outdoorTemp_20_bin_indoorHum_min done\n",
      "outdoorTemp_20_bin_indoorHum_std done\n"
     ]
    },
    {
     "name": "stderr",
     "output_type": "stream",
     "text": [
      " 29%|███████████████████████                                                        | 552/1889 [00:13<00:30, 43.21it/s]"
     ]
    },
    {
     "name": "stdout",
     "output_type": "stream",
     "text": [
      "outdoorTemp_20_bin_indoorHum_sum done\n",
      "outdoorTemp_20_bin_indoorHum_skew done\n",
      "outdoorTemp_20_bin_indoorAtmo_median done\n",
      "outdoorTemp_20_bin_indoorAtmo_mean done\n",
      "outdoorTemp_20_bin_indoorAtmo_max done\n",
      "outdoorTemp_20_bin_indoorAtmo_min done\n",
      "outdoorTemp_20_bin_indoorAtmo_std done\n",
      "outdoorTemp_20_bin_indoorAtmo_sum done\n",
      "outdoorTemp_20_bin_indoorAtmo_skew done\n"
     ]
    },
    {
     "name": "stderr",
     "output_type": "stream",
     "text": [
      "\r",
      " 29%|███████████████████████▎                                                       | 557/1889 [00:13<00:31, 42.45it/s]"
     ]
    },
    {
     "name": "stdout",
     "output_type": "stream",
     "text": [
      "outdoorTemp_20_bin_indoorAtmo-outdoorAtmo_median done\n",
      "outdoorTemp_20_bin_indoorAtmo-outdoorAtmo_mean done\n",
      "outdoorTemp_20_bin_indoorAtmo-outdoorAtmo_max done\n",
      "outdoorTemp_20_bin_indoorAtmo-outdoorAtmo_min done\n",
      "outdoorTemp_20_bin_indoorAtmo-outdoorAtmo_std done\n",
      "outdoorTemp_20_bin_indoorAtmo-outdoorAtmo_sum done\n",
      "outdoorTemp_20_bin_indoorAtmo-outdoorAtmo_skew done\n",
      "outdoorTemp_20_bin_indoorHum-outdoorHum_median done\n",
      "outdoorTemp_20_bin_indoorHum-outdoorHum_mean done\n"
     ]
    },
    {
     "name": "stderr",
     "output_type": "stream",
     "text": [
      " 30%|███████████████████████▋                                                       | 567/1889 [00:13<00:31, 41.89it/s]"
     ]
    },
    {
     "name": "stdout",
     "output_type": "stream",
     "text": [
      "outdoorTemp_20_bin_indoorHum-outdoorHum_max done\n",
      "outdoorTemp_20_bin_indoorHum-outdoorHum_min done\n",
      "outdoorTemp_20_bin_indoorHum-outdoorHum_std done\n",
      "outdoorTemp_20_bin_indoorHum-outdoorHum_sum done\n",
      "outdoorTemp_20_bin_indoorHum-outdoorHum_skew done\n",
      "outdoorHum_20_bin_outdoorTemp_median done\n",
      "outdoorHum_20_bin_outdoorTemp_mean done\n",
      "outdoorHum_20_bin_outdoorTemp_max done\n",
      "outdoorHum_20_bin_outdoorTemp_min done\n"
     ]
    },
    {
     "name": "stderr",
     "output_type": "stream",
     "text": [
      " 31%|████████████████████████▏                                                      | 577/1889 [00:13<00:31, 41.51it/s]"
     ]
    },
    {
     "name": "stdout",
     "output_type": "stream",
     "text": [
      "outdoorHum_20_bin_outdoorTemp_std done\n",
      "outdoorHum_20_bin_outdoorTemp_sum done\n",
      "outdoorHum_20_bin_outdoorTemp_skew done\n",
      "outdoorHum_20_bin_outdoorHum_median done\n",
      "outdoorHum_20_bin_outdoorHum_mean done\n",
      "outdoorHum_20_bin_outdoorHum_max done\n",
      "outdoorHum_20_bin_outdoorHum_min done\n",
      "outdoorHum_20_bin_outdoorHum_std done\n",
      "outdoorHum_20_bin_outdoorHum_sum done\n"
     ]
    },
    {
     "name": "stderr",
     "output_type": "stream",
     "text": [
      " 31%|████████████████████████▌                                                      | 587/1889 [00:13<00:31, 40.99it/s]"
     ]
    },
    {
     "name": "stdout",
     "output_type": "stream",
     "text": [
      "outdoorHum_20_bin_outdoorHum_skew done\n",
      "outdoorHum_20_bin_outdoorAtmo_median done\n",
      "outdoorHum_20_bin_outdoorAtmo_mean done\n",
      "outdoorHum_20_bin_outdoorAtmo_max done\n",
      "outdoorHum_20_bin_outdoorAtmo_min done\n",
      "outdoorHum_20_bin_outdoorAtmo_std done\n",
      "outdoorHum_20_bin_outdoorAtmo_sum done\n",
      "outdoorHum_20_bin_outdoorAtmo_skew done\n",
      "outdoorHum_20_bin_indoorHum_median done\n"
     ]
    },
    {
     "name": "stderr",
     "output_type": "stream",
     "text": [
      " 32%|████████████████████████▉                                                      | 597/1889 [00:14<00:31, 41.14it/s]"
     ]
    },
    {
     "name": "stdout",
     "output_type": "stream",
     "text": [
      "outdoorHum_20_bin_indoorHum_mean done\n",
      "outdoorHum_20_bin_indoorHum_max done\n",
      "outdoorHum_20_bin_indoorHum_min done\n",
      "outdoorHum_20_bin_indoorHum_std done\n",
      "outdoorHum_20_bin_indoorHum_sum done\n",
      "outdoorHum_20_bin_indoorHum_skew done\n",
      "outdoorHum_20_bin_indoorAtmo_median done\n",
      "outdoorHum_20_bin_indoorAtmo_mean done\n",
      "outdoorHum_20_bin_indoorAtmo_max done\n"
     ]
    },
    {
     "name": "stderr",
     "output_type": "stream",
     "text": [
      "\r",
      " 32%|█████████████████████████▏                                                     | 602/1889 [00:14<00:31, 40.93it/s]"
     ]
    },
    {
     "name": "stdout",
     "output_type": "stream",
     "text": [
      "outdoorHum_20_bin_indoorAtmo_min done\n",
      "outdoorHum_20_bin_indoorAtmo_std done\n",
      "outdoorHum_20_bin_indoorAtmo_sum done\n",
      "outdoorHum_20_bin_indoorAtmo_skew done\n",
      "outdoorHum_20_bin_indoorAtmo-outdoorAtmo_median done\n",
      "outdoorHum_20_bin_indoorAtmo-outdoorAtmo_mean done\n",
      "outdoorHum_20_bin_indoorAtmo-outdoorAtmo_max done\n",
      "outdoorHum_20_bin_indoorAtmo-outdoorAtmo_min done\n",
      "outdoorHum_20_bin_indoorAtmo-outdoorAtmo_std done\n"
     ]
    },
    {
     "name": "stderr",
     "output_type": "stream",
     "text": [
      " 32%|█████████████████████████▌                                                     | 612/1889 [00:14<00:31, 41.04it/s]"
     ]
    },
    {
     "name": "stdout",
     "output_type": "stream",
     "text": [
      "outdoorHum_20_bin_indoorAtmo-outdoorAtmo_sum done\n",
      "outdoorHum_20_bin_indoorAtmo-outdoorAtmo_skew done\n",
      "outdoorHum_20_bin_indoorHum-outdoorHum_median done\n",
      "outdoorHum_20_bin_indoorHum-outdoorHum_mean done\n",
      "outdoorHum_20_bin_indoorHum-outdoorHum_max done\n",
      "outdoorHum_20_bin_indoorHum-outdoorHum_min done\n",
      "outdoorHum_20_bin_indoorHum-outdoorHum_std done\n",
      "outdoorHum_20_bin_indoorHum-outdoorHum_sum done\n",
      "outdoorHum_20_bin_indoorHum-outdoorHum_skew done\n"
     ]
    },
    {
     "name": "stderr",
     "output_type": "stream",
     "text": [
      " 33%|██████████████████████████                                                     | 622/1889 [00:14<00:29, 42.48it/s]"
     ]
    },
    {
     "name": "stdout",
     "output_type": "stream",
     "text": [
      "outdoorAtmo_20_bin_outdoorTemp_median done\n",
      "outdoorAtmo_20_bin_outdoorTemp_mean done\n",
      "outdoorAtmo_20_bin_outdoorTemp_max done\n",
      "outdoorAtmo_20_bin_outdoorTemp_min done\n",
      "outdoorAtmo_20_bin_outdoorTemp_std done\n",
      "outdoorAtmo_20_bin_outdoorTemp_sum done\n",
      "outdoorAtmo_20_bin_outdoorTemp_skew done\n",
      "outdoorAtmo_20_bin_outdoorHum_median done\n",
      "outdoorAtmo_20_bin_outdoorHum_mean done\n",
      "outdoorAtmo_20_bin_outdoorHum_max done\n"
     ]
    },
    {
     "name": "stderr",
     "output_type": "stream",
     "text": [
      " 33%|██████████████████████████▍                                                    | 632/1889 [00:15<00:28, 44.58it/s]"
     ]
    },
    {
     "name": "stdout",
     "output_type": "stream",
     "text": [
      "outdoorAtmo_20_bin_outdoorHum_min done\n",
      "outdoorAtmo_20_bin_outdoorHum_std done\n",
      "outdoorAtmo_20_bin_outdoorHum_sum done\n",
      "outdoorAtmo_20_bin_outdoorHum_skew done\n",
      "outdoorAtmo_20_bin_outdoorAtmo_median done\n",
      "outdoorAtmo_20_bin_outdoorAtmo_mean done\n",
      "outdoorAtmo_20_bin_outdoorAtmo_max done\n",
      "outdoorAtmo_20_bin_outdoorAtmo_min done\n",
      "outdoorAtmo_20_bin_outdoorAtmo_std done\n"
     ]
    },
    {
     "name": "stderr",
     "output_type": "stream",
     "text": [
      " 34%|██████████████████████████▊                                                    | 642/1889 [00:15<00:27, 46.18it/s]"
     ]
    },
    {
     "name": "stdout",
     "output_type": "stream",
     "text": [
      "outdoorAtmo_20_bin_outdoorAtmo_sum done\n",
      "outdoorAtmo_20_bin_outdoorAtmo_skew done\n",
      "outdoorAtmo_20_bin_indoorHum_median done\n",
      "outdoorAtmo_20_bin_indoorHum_mean done\n",
      "outdoorAtmo_20_bin_indoorHum_max done\n",
      "outdoorAtmo_20_bin_indoorHum_min done\n",
      "outdoorAtmo_20_bin_indoorHum_std done\n",
      "outdoorAtmo_20_bin_indoorHum_sum done\n",
      "outdoorAtmo_20_bin_indoorHum_skew done\n",
      "outdoorAtmo_20_bin_indoorAtmo_median done\n"
     ]
    },
    {
     "name": "stderr",
     "output_type": "stream",
     "text": [
      " 35%|███████████████████████████▎                                                   | 652/1889 [00:15<00:26, 46.51it/s]"
     ]
    },
    {
     "name": "stdout",
     "output_type": "stream",
     "text": [
      "outdoorAtmo_20_bin_indoorAtmo_mean done\n",
      "outdoorAtmo_20_bin_indoorAtmo_max done\n",
      "outdoorAtmo_20_bin_indoorAtmo_min done\n",
      "outdoorAtmo_20_bin_indoorAtmo_std done\n",
      "outdoorAtmo_20_bin_indoorAtmo_sum done\n",
      "outdoorAtmo_20_bin_indoorAtmo_skew done\n",
      "outdoorAtmo_20_bin_indoorAtmo-outdoorAtmo_median done\n",
      "outdoorAtmo_20_bin_indoorAtmo-outdoorAtmo_mean done\n",
      "outdoorAtmo_20_bin_indoorAtmo-outdoorAtmo_max done\n",
      "outdoorAtmo_20_bin_indoorAtmo-outdoorAtmo_min done\n"
     ]
    },
    {
     "name": "stderr",
     "output_type": "stream",
     "text": [
      " 35%|███████████████████████████▋                                                   | 662/1889 [00:15<00:26, 46.57it/s]"
     ]
    },
    {
     "name": "stdout",
     "output_type": "stream",
     "text": [
      "outdoorAtmo_20_bin_indoorAtmo-outdoorAtmo_std done\n",
      "outdoorAtmo_20_bin_indoorAtmo-outdoorAtmo_sum done\n",
      "outdoorAtmo_20_bin_indoorAtmo-outdoorAtmo_skew done\n",
      "outdoorAtmo_20_bin_indoorHum-outdoorHum_median done\n",
      "outdoorAtmo_20_bin_indoorHum-outdoorHum_mean done\n",
      "outdoorAtmo_20_bin_indoorHum-outdoorHum_max done\n",
      "outdoorAtmo_20_bin_indoorHum-outdoorHum_min done\n",
      "outdoorAtmo_20_bin_indoorHum-outdoorHum_std done\n",
      "outdoorAtmo_20_bin_indoorHum-outdoorHum_sum done\n",
      "outdoorAtmo_20_bin_indoorHum-outdoorHum_skew done\n"
     ]
    },
    {
     "name": "stderr",
     "output_type": "stream",
     "text": [
      " 36%|████████████████████████████                                                   | 672/1889 [00:15<00:27, 44.65it/s]"
     ]
    },
    {
     "name": "stdout",
     "output_type": "stream",
     "text": [
      "indoorHum_20_bin_outdoorTemp_median done\n",
      "indoorHum_20_bin_outdoorTemp_mean done\n",
      "indoorHum_20_bin_outdoorTemp_max done\n",
      "indoorHum_20_bin_outdoorTemp_min done\n",
      "indoorHum_20_bin_outdoorTemp_std done\n",
      "indoorHum_20_bin_outdoorTemp_sum done\n",
      "indoorHum_20_bin_outdoorTemp_skew done\n",
      "indoorHum_20_bin_outdoorHum_median done\n",
      "indoorHum_20_bin_outdoorHum_mean done\n"
     ]
    },
    {
     "name": "stderr",
     "output_type": "stream",
     "text": [
      " 36%|████████████████████████████▌                                                  | 682/1889 [00:16<00:28, 42.69it/s]"
     ]
    },
    {
     "name": "stdout",
     "output_type": "stream",
     "text": [
      "indoorHum_20_bin_outdoorHum_max done\n",
      "indoorHum_20_bin_outdoorHum_min done\n",
      "indoorHum_20_bin_outdoorHum_std done\n",
      "indoorHum_20_bin_outdoorHum_sum done\n",
      "indoorHum_20_bin_outdoorHum_skew done\n",
      "indoorHum_20_bin_outdoorAtmo_median done\n",
      "indoorHum_20_bin_outdoorAtmo_mean done\n",
      "indoorHum_20_bin_outdoorAtmo_max done\n",
      "indoorHum_20_bin_outdoorAtmo_min done\n"
     ]
    },
    {
     "name": "stderr",
     "output_type": "stream",
     "text": [
      "\r",
      " 36%|████████████████████████████▋                                                  | 687/1889 [00:16<00:28, 42.52it/s]"
     ]
    },
    {
     "name": "stdout",
     "output_type": "stream",
     "text": [
      "indoorHum_20_bin_outdoorAtmo_std done\n",
      "indoorHum_20_bin_outdoorAtmo_sum done\n",
      "indoorHum_20_bin_outdoorAtmo_skew done\n",
      "indoorHum_20_bin_indoorHum_median done\n",
      "indoorHum_20_bin_indoorHum_mean done\n",
      "indoorHum_20_bin_indoorHum_max done\n",
      "indoorHum_20_bin_indoorHum_min done\n",
      "indoorHum_20_bin_indoorHum_std done\n",
      "indoorHum_20_bin_indoorHum_sum done\n"
     ]
    },
    {
     "name": "stderr",
     "output_type": "stream",
     "text": [
      " 37%|█████████████████████████████▏                                                 | 697/1889 [00:16<00:28, 41.68it/s]"
     ]
    },
    {
     "name": "stdout",
     "output_type": "stream",
     "text": [
      "indoorHum_20_bin_indoorHum_skew done\n",
      "indoorHum_20_bin_indoorAtmo_median done\n",
      "indoorHum_20_bin_indoorAtmo_mean done\n",
      "indoorHum_20_bin_indoorAtmo_max done\n",
      "indoorHum_20_bin_indoorAtmo_min done\n",
      "indoorHum_20_bin_indoorAtmo_std done\n",
      "indoorHum_20_bin_indoorAtmo_sum done\n",
      "indoorHum_20_bin_indoorAtmo_skew done\n",
      "indoorHum_20_bin_indoorAtmo-outdoorAtmo_median done\n"
     ]
    },
    {
     "name": "stderr",
     "output_type": "stream",
     "text": [
      " 37%|█████████████████████████████▌                                                 | 707/1889 [00:16<00:28, 41.55it/s]"
     ]
    },
    {
     "name": "stdout",
     "output_type": "stream",
     "text": [
      "indoorHum_20_bin_indoorAtmo-outdoorAtmo_mean done\n",
      "indoorHum_20_bin_indoorAtmo-outdoorAtmo_max done\n",
      "indoorHum_20_bin_indoorAtmo-outdoorAtmo_min done\n",
      "indoorHum_20_bin_indoorAtmo-outdoorAtmo_std done\n",
      "indoorHum_20_bin_indoorAtmo-outdoorAtmo_sum done\n",
      "indoorHum_20_bin_indoorAtmo-outdoorAtmo_skew done\n",
      "indoorHum_20_bin_indoorHum-outdoorHum_median done\n",
      "indoorHum_20_bin_indoorHum-outdoorHum_mean done\n",
      "indoorHum_20_bin_indoorHum-outdoorHum_max done\n"
     ]
    },
    {
     "name": "stderr",
     "output_type": "stream",
     "text": [
      " 38%|█████████████████████████████▉                                                 | 717/1889 [00:16<00:28, 41.58it/s]"
     ]
    },
    {
     "name": "stdout",
     "output_type": "stream",
     "text": [
      "indoorHum_20_bin_indoorHum-outdoorHum_min done\n",
      "indoorHum_20_bin_indoorHum-outdoorHum_std done\n",
      "indoorHum_20_bin_indoorHum-outdoorHum_sum done\n",
      "indoorHum_20_bin_indoorHum-outdoorHum_skew done\n",
      "indoorAtmo_20_bin_outdoorTemp_median done\n",
      "indoorAtmo_20_bin_outdoorTemp_mean done\n",
      "indoorAtmo_20_bin_outdoorTemp_max done\n",
      "indoorAtmo_20_bin_outdoorTemp_min done\n",
      "indoorAtmo_20_bin_outdoorTemp_std done\n"
     ]
    },
    {
     "name": "stderr",
     "output_type": "stream",
     "text": [
      " 38%|██████████████████████████████▍                                                | 727/1889 [00:17<00:26, 44.18it/s]"
     ]
    },
    {
     "name": "stdout",
     "output_type": "stream",
     "text": [
      "indoorAtmo_20_bin_outdoorTemp_sum done\n",
      "indoorAtmo_20_bin_outdoorTemp_skew done\n",
      "indoorAtmo_20_bin_outdoorHum_median done\n",
      "indoorAtmo_20_bin_outdoorHum_mean done\n",
      "indoorAtmo_20_bin_outdoorHum_max done\n",
      "indoorAtmo_20_bin_outdoorHum_min done\n",
      "indoorAtmo_20_bin_outdoorHum_std done\n",
      "indoorAtmo_20_bin_outdoorHum_sum done\n",
      "indoorAtmo_20_bin_outdoorHum_skew done\n",
      "indoorAtmo_20_bin_outdoorAtmo_median done\n"
     ]
    },
    {
     "name": "stderr",
     "output_type": "stream",
     "text": [
      " 39%|██████████████████████████████▊                                                | 737/1889 [00:17<00:25, 45.67it/s]"
     ]
    },
    {
     "name": "stdout",
     "output_type": "stream",
     "text": [
      "indoorAtmo_20_bin_outdoorAtmo_mean done\n",
      "indoorAtmo_20_bin_outdoorAtmo_max done\n",
      "indoorAtmo_20_bin_outdoorAtmo_min done\n",
      "indoorAtmo_20_bin_outdoorAtmo_std done\n",
      "indoorAtmo_20_bin_outdoorAtmo_sum done\n",
      "indoorAtmo_20_bin_outdoorAtmo_skew done\n",
      "indoorAtmo_20_bin_indoorHum_median done\n",
      "indoorAtmo_20_bin_indoorHum_mean done\n",
      "indoorAtmo_20_bin_indoorHum_max done\n",
      "indoorAtmo_20_bin_indoorHum_min done\n"
     ]
    },
    {
     "name": "stderr",
     "output_type": "stream",
     "text": [
      " 40%|███████████████████████████████▏                                               | 747/1889 [00:17<00:24, 45.93it/s]"
     ]
    },
    {
     "name": "stdout",
     "output_type": "stream",
     "text": [
      "indoorAtmo_20_bin_indoorHum_std done\n",
      "indoorAtmo_20_bin_indoorHum_sum done\n",
      "indoorAtmo_20_bin_indoorHum_skew done\n",
      "indoorAtmo_20_bin_indoorAtmo_median done\n",
      "indoorAtmo_20_bin_indoorAtmo_mean done\n",
      "indoorAtmo_20_bin_indoorAtmo_max done\n",
      "indoorAtmo_20_bin_indoorAtmo_min done\n",
      "indoorAtmo_20_bin_indoorAtmo_std done\n",
      "indoorAtmo_20_bin_indoorAtmo_sum done\n",
      "indoorAtmo_20_bin_indoorAtmo_skew done\n"
     ]
    },
    {
     "name": "stderr",
     "output_type": "stream",
     "text": [
      " 40%|███████████████████████████████▋                                               | 757/1889 [00:17<00:23, 47.35it/s]"
     ]
    },
    {
     "name": "stdout",
     "output_type": "stream",
     "text": [
      "indoorAtmo_20_bin_indoorAtmo-outdoorAtmo_median done\n",
      "indoorAtmo_20_bin_indoorAtmo-outdoorAtmo_mean done\n",
      "indoorAtmo_20_bin_indoorAtmo-outdoorAtmo_max done\n",
      "indoorAtmo_20_bin_indoorAtmo-outdoorAtmo_min done\n",
      "indoorAtmo_20_bin_indoorAtmo-outdoorAtmo_std done\n",
      "indoorAtmo_20_bin_indoorAtmo-outdoorAtmo_sum done\n",
      "indoorAtmo_20_bin_indoorAtmo-outdoorAtmo_skew done\n",
      "indoorAtmo_20_bin_indoorHum-outdoorHum_median done\n",
      "indoorAtmo_20_bin_indoorHum-outdoorHum_mean done\n",
      "indoorAtmo_20_bin_indoorHum-outdoorHum_max done\n"
     ]
    },
    {
     "name": "stderr",
     "output_type": "stream",
     "text": [
      " 41%|████████████████████████████████                                               | 768/1889 [00:18<00:23, 48.66it/s]"
     ]
    },
    {
     "name": "stdout",
     "output_type": "stream",
     "text": [
      "indoorAtmo_20_bin_indoorHum-outdoorHum_min done\n",
      "indoorAtmo_20_bin_indoorHum-outdoorHum_std done\n",
      "indoorAtmo_20_bin_indoorHum-outdoorHum_sum done\n",
      "indoorAtmo_20_bin_indoorHum-outdoorHum_skew done\n",
      "indoorAtmo-outdoorAtmo_20_bin_outdoorTemp_median done\n",
      "indoorAtmo-outdoorAtmo_20_bin_outdoorTemp_mean done\n",
      "indoorAtmo-outdoorAtmo_20_bin_outdoorTemp_max done\n",
      "indoorAtmo-outdoorAtmo_20_bin_outdoorTemp_min done\n",
      "indoorAtmo-outdoorAtmo_20_bin_outdoorTemp_std done\n",
      "indoorAtmo-outdoorAtmo_20_bin_outdoorTemp_sum done\n",
      "indoorAtmo-outdoorAtmo_20_bin_outdoorTemp_skew done\n"
     ]
    },
    {
     "name": "stderr",
     "output_type": "stream",
     "text": [
      " 41%|████████████████████████████████▌                                              | 779/1889 [00:18<00:22, 49.31it/s]"
     ]
    },
    {
     "name": "stdout",
     "output_type": "stream",
     "text": [
      "indoorAtmo-outdoorAtmo_20_bin_outdoorHum_median done\n",
      "indoorAtmo-outdoorAtmo_20_bin_outdoorHum_mean done\n",
      "indoorAtmo-outdoorAtmo_20_bin_outdoorHum_max done\n",
      "indoorAtmo-outdoorAtmo_20_bin_outdoorHum_min done\n",
      "indoorAtmo-outdoorAtmo_20_bin_outdoorHum_std done\n",
      "indoorAtmo-outdoorAtmo_20_bin_outdoorHum_sum done\n",
      "indoorAtmo-outdoorAtmo_20_bin_outdoorHum_skew done\n",
      "indoorAtmo-outdoorAtmo_20_bin_outdoorAtmo_median done\n",
      "indoorAtmo-outdoorAtmo_20_bin_outdoorAtmo_mean done\n",
      "indoorAtmo-outdoorAtmo_20_bin_outdoorAtmo_max done\n"
     ]
    },
    {
     "name": "stderr",
     "output_type": "stream",
     "text": [
      "\r",
      " 42%|████████████████████████████████▊                                              | 785/1889 [00:18<00:22, 50.17it/s]"
     ]
    },
    {
     "name": "stdout",
     "output_type": "stream",
     "text": [
      "indoorAtmo-outdoorAtmo_20_bin_outdoorAtmo_min done\n",
      "indoorAtmo-outdoorAtmo_20_bin_outdoorAtmo_std done\n",
      "indoorAtmo-outdoorAtmo_20_bin_outdoorAtmo_sum done\n",
      "indoorAtmo-outdoorAtmo_20_bin_outdoorAtmo_skew done\n",
      "indoorAtmo-outdoorAtmo_20_bin_indoorHum_median done\n",
      "indoorAtmo-outdoorAtmo_20_bin_indoorHum_mean done\n",
      "indoorAtmo-outdoorAtmo_20_bin_indoorHum_max done\n",
      "indoorAtmo-outdoorAtmo_20_bin_indoorHum_min done\n",
      "indoorAtmo-outdoorAtmo_20_bin_indoorHum_std done\n",
      "indoorAtmo-outdoorAtmo_20_bin_indoorHum_sum done\n"
     ]
    },
    {
     "name": "stderr",
     "output_type": "stream",
     "text": [
      " 42%|█████████████████████████████████▎                                             | 796/1889 [00:18<00:22, 47.76it/s]"
     ]
    },
    {
     "name": "stdout",
     "output_type": "stream",
     "text": [
      "indoorAtmo-outdoorAtmo_20_bin_indoorHum_skew done\n",
      "indoorAtmo-outdoorAtmo_20_bin_indoorAtmo_median done\n",
      "indoorAtmo-outdoorAtmo_20_bin_indoorAtmo_mean done\n",
      "indoorAtmo-outdoorAtmo_20_bin_indoorAtmo_max done\n",
      "indoorAtmo-outdoorAtmo_20_bin_indoorAtmo_min done\n",
      "indoorAtmo-outdoorAtmo_20_bin_indoorAtmo_std done\n",
      "indoorAtmo-outdoorAtmo_20_bin_indoorAtmo_sum done\n",
      "indoorAtmo-outdoorAtmo_20_bin_indoorAtmo_skew done\n",
      "indoorAtmo-outdoorAtmo_20_bin_indoorAtmo-outdoorAtmo_median done\n",
      "indoorAtmo-outdoorAtmo_20_bin_indoorAtmo-outdoorAtmo_mean"
     ]
    },
    {
     "name": "stderr",
     "output_type": "stream",
     "text": [
      " 43%|█████████████████████████████████▊                                             | 808/1889 [00:18<00:21, 50.10it/s]"
     ]
    },
    {
     "name": "stdout",
     "output_type": "stream",
     "text": [
      " done\n",
      "indoorAtmo-outdoorAtmo_20_bin_indoorAtmo-outdoorAtmo_max done\n",
      "indoorAtmo-outdoorAtmo_20_bin_indoorAtmo-outdoorAtmo_min done\n",
      "indoorAtmo-outdoorAtmo_20_bin_indoorAtmo-outdoorAtmo_std done\n",
      "indoorAtmo-outdoorAtmo_20_bin_indoorAtmo-outdoorAtmo_sum done\n",
      "indoorAtmo-outdoorAtmo_20_bin_indoorAtmo-outdoorAtmo_skew done\n",
      "indoorAtmo-outdoorAtmo_20_bin_indoorHum-outdoorHum_median done\n",
      "indoorAtmo-outdoorAtmo_20_bin_indoorHum-outdoorHum_mean done\n",
      "indoorAtmo-outdoorAtmo_20_bin_indoorHum-outdoorHum_max done\n",
      "indoorAtmo-outdoorAtmo_20_bin_indoorHum-outdoorHum_min done\n",
      "indoorAtmo-outdoorAtmo_20_bin_indoorHum-outdoorHum_std done\n"
     ]
    },
    {
     "name": "stderr",
     "output_type": "stream",
     "text": [
      "\r",
      " 43%|██████████████████████████████████                                             | 814/1889 [00:18<00:22, 48.77it/s]"
     ]
    },
    {
     "name": "stdout",
     "output_type": "stream",
     "text": [
      "indoorAtmo-outdoorAtmo_20_bin_indoorHum-outdoorHum_sum done\n",
      "indoorAtmo-outdoorAtmo_20_bin_indoorHum-outdoorHum_skew done\n",
      "indoorHum-outdoorHum_20_bin_outdoorTemp_median done\n",
      "indoorHum-outdoorHum_20_bin_outdoorTemp_mean done\n",
      "indoorHum-outdoorHum_20_bin_outdoorTemp_max done\n",
      "indoorHum-outdoorHum_20_bin_outdoorTemp_min done\n",
      "indoorHum-outdoorHum_20_bin_outdoorTemp_std done\n",
      "indoorHum-outdoorHum_20_bin_outdoorTemp_sum done\n",
      "indoorHum-outdoorHum_20_bin_outdoorTemp_skew done\n"
     ]
    },
    {
     "name": "stderr",
     "output_type": "stream",
     "text": [
      " 44%|██████████████████████████████████▍                                            | 824/1889 [00:19<00:23, 44.41it/s]"
     ]
    },
    {
     "name": "stdout",
     "output_type": "stream",
     "text": [
      "indoorHum-outdoorHum_20_bin_outdoorHum_median done\n",
      "indoorHum-outdoorHum_20_bin_outdoorHum_mean done\n",
      "indoorHum-outdoorHum_20_bin_outdoorHum_max done\n",
      "indoorHum-outdoorHum_20_bin_outdoorHum_min done\n",
      "indoorHum-outdoorHum_20_bin_outdoorHum_std done\n",
      "indoorHum-outdoorHum_20_bin_outdoorHum_sum done\n",
      "indoorHum-outdoorHum_20_bin_outdoorHum_skew done\n",
      "indoorHum-outdoorHum_20_bin_outdoorAtmo_median done\n",
      "indoorHum-outdoorHum_20_bin_outdoorAtmo_mean done\n"
     ]
    },
    {
     "name": "stderr",
     "output_type": "stream",
     "text": [
      " 44%|██████████████████████████████████▉                                            | 834/1889 [00:19<00:24, 42.61it/s]"
     ]
    },
    {
     "name": "stdout",
     "output_type": "stream",
     "text": [
      "indoorHum-outdoorHum_20_bin_outdoorAtmo_max done\n",
      "indoorHum-outdoorHum_20_bin_outdoorAtmo_min done\n",
      "indoorHum-outdoorHum_20_bin_outdoorAtmo_std done\n",
      "indoorHum-outdoorHum_20_bin_outdoorAtmo_sum done\n",
      "indoorHum-outdoorHum_20_bin_outdoorAtmo_skew done\n",
      "indoorHum-outdoorHum_20_bin_indoorHum_median done\n",
      "indoorHum-outdoorHum_20_bin_indoorHum_mean done\n",
      "indoorHum-outdoorHum_20_bin_indoorHum_max done\n",
      "indoorHum-outdoorHum_20_bin_indoorHum_min done\n"
     ]
    },
    {
     "name": "stderr",
     "output_type": "stream",
     "text": [
      " 45%|███████████████████████████████████▎                                           | 844/1889 [00:19<00:24, 42.01it/s]"
     ]
    },
    {
     "name": "stdout",
     "output_type": "stream",
     "text": [
      "indoorHum-outdoorHum_20_bin_indoorHum_std done\n",
      "indoorHum-outdoorHum_20_bin_indoorHum_sum done\n",
      "indoorHum-outdoorHum_20_bin_indoorHum_skew done\n",
      "indoorHum-outdoorHum_20_bin_indoorAtmo_median done\n",
      "indoorHum-outdoorHum_20_bin_indoorAtmo_mean done\n",
      "indoorHum-outdoorHum_20_bin_indoorAtmo_max done\n",
      "indoorHum-outdoorHum_20_bin_indoorAtmo_min done\n",
      "indoorHum-outdoorHum_20_bin_indoorAtmo_std done\n",
      "indoorHum-outdoorHum_20_bin_indoorAtmo_sum done\n"
     ]
    },
    {
     "name": "stderr",
     "output_type": "stream",
     "text": [
      " 45%|███████████████████████████████████▋                                           | 854/1889 [00:19<00:24, 41.42it/s]"
     ]
    },
    {
     "name": "stdout",
     "output_type": "stream",
     "text": [
      "indoorHum-outdoorHum_20_bin_indoorAtmo_skew done\n",
      "indoorHum-outdoorHum_20_bin_indoorAtmo-outdoorAtmo_median done\n",
      "indoorHum-outdoorHum_20_bin_indoorAtmo-outdoorAtmo_mean done\n",
      "indoorHum-outdoorHum_20_bin_indoorAtmo-outdoorAtmo_max done\n",
      "indoorHum-outdoorHum_20_bin_indoorAtmo-outdoorAtmo_min done\n",
      "indoorHum-outdoorHum_20_bin_indoorAtmo-outdoorAtmo_std done\n",
      "indoorHum-outdoorHum_20_bin_indoorAtmo-outdoorAtmo_sum done\n",
      "indoorHum-outdoorHum_20_bin_indoorAtmo-outdoorAtmo_skew done\n",
      "indoorHum-outdoorHum_20_bin_indoorHum-outdoorHum_median done\n"
     ]
    },
    {
     "name": "stderr",
     "output_type": "stream",
     "text": [
      "\r",
      " 45%|███████████████████████████████████▉                                           | 859/1889 [00:20<00:25, 41.12it/s]"
     ]
    },
    {
     "name": "stdout",
     "output_type": "stream",
     "text": [
      "indoorHum-outdoorHum_20_bin_indoorHum-outdoorHum_mean done\n",
      "indoorHum-outdoorHum_20_bin_indoorHum-outdoorHum_max done\n",
      "indoorHum-outdoorHum_20_bin_indoorHum-outdoorHum_min done\n",
      "indoorHum-outdoorHum_20_bin_indoorHum-outdoorHum_std done\n",
      "indoorHum-outdoorHum_20_bin_indoorHum-outdoorHum_sum done\n",
      "indoorHum-outdoorHum_20_bin_indoorHum-outdoorHum_skew done\n",
      "outdoorTemp_50_bin_outdoorTemp_median done\n",
      "outdoorTemp_50_bin_outdoorTemp_mean done\n",
      "outdoorTemp_50_bin_outdoorTemp_max done\n"
     ]
    },
    {
     "name": "stderr",
     "output_type": "stream",
     "text": [
      " 46%|████████████████████████████████████▎                                          | 869/1889 [00:20<00:24, 42.04it/s]"
     ]
    },
    {
     "name": "stdout",
     "output_type": "stream",
     "text": [
      "outdoorTemp_50_bin_outdoorTemp_min done\n",
      "outdoorTemp_50_bin_outdoorTemp_std done\n",
      "outdoorTemp_50_bin_outdoorTemp_sum done\n",
      "outdoorTemp_50_bin_outdoorTemp_skew done\n",
      "outdoorTemp_50_bin_outdoorHum_median done\n",
      "outdoorTemp_50_bin_outdoorHum_mean done\n",
      "outdoorTemp_50_bin_outdoorHum_max done\n",
      "outdoorTemp_50_bin_outdoorHum_min done\n",
      "outdoorTemp_50_bin_outdoorHum_std done\n",
      "outdoorTemp_50_bin_outdoorHum_sum done\n"
     ]
    },
    {
     "name": "stderr",
     "output_type": "stream",
     "text": [
      " 47%|████████████████████████████████████▊                                          | 879/1889 [00:20<00:23, 42.11it/s]"
     ]
    },
    {
     "name": "stdout",
     "output_type": "stream",
     "text": [
      "outdoorTemp_50_bin_outdoorHum_skew done\n",
      "outdoorTemp_50_bin_outdoorAtmo_median done\n",
      "outdoorTemp_50_bin_outdoorAtmo_mean done\n",
      "outdoorTemp_50_bin_outdoorAtmo_max done\n",
      "outdoorTemp_50_bin_outdoorAtmo_min done\n",
      "outdoorTemp_50_bin_outdoorAtmo_std done\n",
      "outdoorTemp_50_bin_outdoorAtmo_sum done\n",
      "outdoorTemp_50_bin_outdoorAtmo_skew done\n",
      "outdoorTemp_50_bin_indoorHum_median done\n"
     ]
    },
    {
     "name": "stderr",
     "output_type": "stream",
     "text": [
      " 47%|█████████████████████████████████████▏                                         | 889/1889 [00:20<00:23, 42.68it/s]"
     ]
    },
    {
     "name": "stdout",
     "output_type": "stream",
     "text": [
      "outdoorTemp_50_bin_indoorHum_mean done\n",
      "outdoorTemp_50_bin_indoorHum_max done\n",
      "outdoorTemp_50_bin_indoorHum_min done\n",
      "outdoorTemp_50_bin_indoorHum_std done\n",
      "outdoorTemp_50_bin_indoorHum_sum done\n",
      "outdoorTemp_50_bin_indoorHum_skew done\n",
      "outdoorTemp_50_bin_indoorAtmo_median done\n",
      "outdoorTemp_50_bin_indoorAtmo_mean done\n",
      "outdoorTemp_50_bin_indoorAtmo_max done\n"
     ]
    },
    {
     "name": "stderr",
     "output_type": "stream",
     "text": [
      " 48%|█████████████████████████████████████▌                                         | 899/1889 [00:21<00:23, 42.08it/s]"
     ]
    },
    {
     "name": "stdout",
     "output_type": "stream",
     "text": [
      "outdoorTemp_50_bin_indoorAtmo_min done\n",
      "outdoorTemp_50_bin_indoorAtmo_std done\n",
      "outdoorTemp_50_bin_indoorAtmo_sum done\n",
      "outdoorTemp_50_bin_indoorAtmo_skew done\n",
      "outdoorTemp_50_bin_indoorAtmo-outdoorAtmo_median done\n",
      "outdoorTemp_50_bin_indoorAtmo-outdoorAtmo_mean done\n",
      "outdoorTemp_50_bin_indoorAtmo-outdoorAtmo_max done\n",
      "outdoorTemp_50_bin_indoorAtmo-outdoorAtmo_min done\n",
      "outdoorTemp_50_bin_indoorAtmo-outdoorAtmo_std done\n"
     ]
    },
    {
     "name": "stderr",
     "output_type": "stream",
     "text": [
      " 48%|██████████████████████████████████████                                         | 909/1889 [00:21<00:23, 41.50it/s]"
     ]
    },
    {
     "name": "stdout",
     "output_type": "stream",
     "text": [
      "outdoorTemp_50_bin_indoorAtmo-outdoorAtmo_sum done\n",
      "outdoorTemp_50_bin_indoorAtmo-outdoorAtmo_skew done\n",
      "outdoorTemp_50_bin_indoorHum-outdoorHum_median done\n",
      "outdoorTemp_50_bin_indoorHum-outdoorHum_mean done\n",
      "outdoorTemp_50_bin_indoorHum-outdoorHum_max done\n",
      "outdoorTemp_50_bin_indoorHum-outdoorHum_min done\n",
      "outdoorTemp_50_bin_indoorHum-outdoorHum_std done\n",
      "outdoorTemp_50_bin_indoorHum-outdoorHum_sum done\n",
      "outdoorTemp_50_bin_indoorHum-outdoorHum_skew done\n"
     ]
    },
    {
     "name": "stderr",
     "output_type": "stream",
     "text": [
      "\r",
      " 48%|██████████████████████████████████████▏                                        | 914/1889 [00:21<00:23, 41.37it/s]"
     ]
    },
    {
     "name": "stdout",
     "output_type": "stream",
     "text": [
      "outdoorHum_50_bin_outdoorTemp_median done\n",
      "outdoorHum_50_bin_outdoorTemp_mean done\n",
      "outdoorHum_50_bin_outdoorTemp_max done\n",
      "outdoorHum_50_bin_outdoorTemp_min done\n",
      "outdoorHum_50_bin_outdoorTemp_std done\n",
      "outdoorHum_50_bin_outdoorTemp_sum done\n",
      "outdoorHum_50_bin_outdoorTemp_skew done\n",
      "outdoorHum_50_bin_outdoorHum_median done\n",
      "outdoorHum_50_bin_outdoorHum_mean done\n"
     ]
    },
    {
     "name": "stderr",
     "output_type": "stream",
     "text": [
      " 49%|██████████████████████████████████████▋                                        | 924/1889 [00:21<00:23, 41.26it/s]"
     ]
    },
    {
     "name": "stdout",
     "output_type": "stream",
     "text": [
      "outdoorHum_50_bin_outdoorHum_max done\n",
      "outdoorHum_50_bin_outdoorHum_min done\n",
      "outdoorHum_50_bin_outdoorHum_std done\n",
      "outdoorHum_50_bin_outdoorHum_sum done\n",
      "outdoorHum_50_bin_outdoorHum_skew done\n",
      "outdoorHum_50_bin_outdoorAtmo_median done\n",
      "outdoorHum_50_bin_outdoorAtmo_mean done\n",
      "outdoorHum_50_bin_outdoorAtmo_max done\n",
      "outdoorHum_50_bin_outdoorAtmo_min done\n"
     ]
    },
    {
     "name": "stderr",
     "output_type": "stream",
     "text": [
      " 49%|███████████████████████████████████████                                        | 934/1889 [00:21<00:23, 40.96it/s]"
     ]
    },
    {
     "name": "stdout",
     "output_type": "stream",
     "text": [
      "outdoorHum_50_bin_outdoorAtmo_std done\n",
      "outdoorHum_50_bin_outdoorAtmo_sum done\n",
      "outdoorHum_50_bin_outdoorAtmo_skew done\n",
      "outdoorHum_50_bin_indoorHum_median done\n",
      "outdoorHum_50_bin_indoorHum_mean done\n",
      "outdoorHum_50_bin_indoorHum_max done\n",
      "outdoorHum_50_bin_indoorHum_min done\n",
      "outdoorHum_50_bin_indoorHum_std done\n",
      "outdoorHum_50_bin_indoorHum_sum done\n"
     ]
    },
    {
     "name": "stderr",
     "output_type": "stream",
     "text": [
      " 50%|███████████████████████████████████████▍                                       | 944/1889 [00:22<00:23, 40.79it/s]"
     ]
    },
    {
     "name": "stdout",
     "output_type": "stream",
     "text": [
      "outdoorHum_50_bin_indoorHum_skew done\n",
      "outdoorHum_50_bin_indoorAtmo_median done\n",
      "outdoorHum_50_bin_indoorAtmo_mean done\n",
      "outdoorHum_50_bin_indoorAtmo_max done\n",
      "outdoorHum_50_bin_indoorAtmo_min done\n",
      "outdoorHum_50_bin_indoorAtmo_std done\n",
      "outdoorHum_50_bin_indoorAtmo_sum done\n",
      "outdoorHum_50_bin_indoorAtmo_skew done\n",
      "outdoorHum_50_bin_indoorAtmo-outdoorAtmo_median done\n"
     ]
    },
    {
     "name": "stderr",
     "output_type": "stream",
     "text": [
      " 51%|███████████████████████████████████████▉                                       | 954/1889 [00:22<00:22, 40.97it/s]"
     ]
    },
    {
     "name": "stdout",
     "output_type": "stream",
     "text": [
      "outdoorHum_50_bin_indoorAtmo-outdoorAtmo_mean done\n",
      "outdoorHum_50_bin_indoorAtmo-outdoorAtmo_max done\n",
      "outdoorHum_50_bin_indoorAtmo-outdoorAtmo_min done\n",
      "outdoorHum_50_bin_indoorAtmo-outdoorAtmo_std done\n",
      "outdoorHum_50_bin_indoorAtmo-outdoorAtmo_sum done\n",
      "outdoorHum_50_bin_indoorAtmo-outdoorAtmo_skew done\n",
      "outdoorHum_50_bin_indoorHum-outdoorHum_median done\n",
      "outdoorHum_50_bin_indoorHum-outdoorHum_mean done\n",
      "outdoorHum_50_bin_indoorHum-outdoorHum_max done\n"
     ]
    },
    {
     "name": "stderr",
     "output_type": "stream",
     "text": [
      "\r",
      " 51%|████████████████████████████████████████                                       | 959/1889 [00:22<00:22, 40.91it/s]"
     ]
    },
    {
     "name": "stdout",
     "output_type": "stream",
     "text": [
      "outdoorHum_50_bin_indoorHum-outdoorHum_min done\n",
      "outdoorHum_50_bin_indoorHum-outdoorHum_std done\n",
      "outdoorHum_50_bin_indoorHum-outdoorHum_sum done\n",
      "outdoorHum_50_bin_indoorHum-outdoorHum_skew done\n",
      "outdoorAtmo_50_bin_outdoorTemp_median done\n",
      "outdoorAtmo_50_bin_outdoorTemp_mean done\n",
      "outdoorAtmo_50_bin_outdoorTemp_max done\n",
      "outdoorAtmo_50_bin_outdoorTemp_min done\n",
      "outdoorAtmo_50_bin_outdoorTemp_std done\n"
     ]
    },
    {
     "name": "stderr",
     "output_type": "stream",
     "text": [
      " 51%|████████████████████████████████████████▌                                      | 969/1889 [00:22<00:21, 43.48it/s]"
     ]
    },
    {
     "name": "stdout",
     "output_type": "stream",
     "text": [
      "outdoorAtmo_50_bin_outdoorTemp_sum done\n",
      "outdoorAtmo_50_bin_outdoorTemp_skew done\n",
      "outdoorAtmo_50_bin_outdoorHum_median done\n",
      "outdoorAtmo_50_bin_outdoorHum_mean done\n",
      "outdoorAtmo_50_bin_outdoorHum_max done\n",
      "outdoorAtmo_50_bin_outdoorHum_min done\n",
      "outdoorAtmo_50_bin_outdoorHum_std done\n",
      "outdoorAtmo_50_bin_outdoorHum_sum done\n",
      "outdoorAtmo_50_bin_outdoorHum_skew done\n",
      "outdoorAtmo_50_bin_outdoorAtmo_median done\n"
     ]
    },
    {
     "name": "stderr",
     "output_type": "stream",
     "text": [
      " 52%|████████████████████████████████████████▉                                      | 979/1889 [00:22<00:21, 42.04it/s]"
     ]
    },
    {
     "name": "stdout",
     "output_type": "stream",
     "text": [
      "outdoorAtmo_50_bin_outdoorAtmo_mean done\n",
      "outdoorAtmo_50_bin_outdoorAtmo_max done\n",
      "outdoorAtmo_50_bin_outdoorAtmo_min done\n",
      "outdoorAtmo_50_bin_outdoorAtmo_std done\n",
      "outdoorAtmo_50_bin_outdoorAtmo_sum done\n",
      "outdoorAtmo_50_bin_outdoorAtmo_skew done\n",
      "outdoorAtmo_50_bin_indoorHum_median done\n",
      "outdoorAtmo_50_bin_indoorHum_mean done\n",
      "outdoorAtmo_50_bin_indoorHum_max done\n"
     ]
    },
    {
     "name": "stderr",
     "output_type": "stream",
     "text": [
      " 52%|█████████████████████████████████████████▎                                     | 989/1889 [00:23<00:20, 43.97it/s]"
     ]
    },
    {
     "name": "stdout",
     "output_type": "stream",
     "text": [
      "outdoorAtmo_50_bin_indoorHum_min done\n",
      "outdoorAtmo_50_bin_indoorHum_std done\n",
      "outdoorAtmo_50_bin_indoorHum_sum done\n",
      "outdoorAtmo_50_bin_indoorHum_skew done\n",
      "outdoorAtmo_50_bin_indoorAtmo_median done\n",
      "outdoorAtmo_50_bin_indoorAtmo_mean done\n",
      "outdoorAtmo_50_bin_indoorAtmo_max done\n",
      "outdoorAtmo_50_bin_indoorAtmo_min done\n",
      "outdoorAtmo_50_bin_indoorAtmo_std done\n"
     ]
    },
    {
     "name": "stderr",
     "output_type": "stream",
     "text": [
      " 53%|█████████████████████████████████████████▊                                     | 999/1889 [00:23<00:19, 44.92it/s]"
     ]
    },
    {
     "name": "stdout",
     "output_type": "stream",
     "text": [
      "outdoorAtmo_50_bin_indoorAtmo_sum done\n",
      "outdoorAtmo_50_bin_indoorAtmo_skew done\n",
      "outdoorAtmo_50_bin_indoorAtmo-outdoorAtmo_median done\n",
      "outdoorAtmo_50_bin_indoorAtmo-outdoorAtmo_mean done\n",
      "outdoorAtmo_50_bin_indoorAtmo-outdoorAtmo_max done\n",
      "outdoorAtmo_50_bin_indoorAtmo-outdoorAtmo_min done\n",
      "outdoorAtmo_50_bin_indoorAtmo-outdoorAtmo_std done\n",
      "outdoorAtmo_50_bin_indoorAtmo-outdoorAtmo_sum done\n",
      "outdoorAtmo_50_bin_indoorAtmo-outdoorAtmo_skew done\n"
     ]
    },
    {
     "name": "stderr",
     "output_type": "stream",
     "text": [
      " 53%|█████████████████████████████████████████▋                                    | 1009/1889 [00:23<00:19, 44.10it/s]"
     ]
    },
    {
     "name": "stdout",
     "output_type": "stream",
     "text": [
      "outdoorAtmo_50_bin_indoorHum-outdoorHum_median done\n",
      "outdoorAtmo_50_bin_indoorHum-outdoorHum_mean done\n",
      "outdoorAtmo_50_bin_indoorHum-outdoorHum_max done\n",
      "outdoorAtmo_50_bin_indoorHum-outdoorHum_min done\n",
      "outdoorAtmo_50_bin_indoorHum-outdoorHum_std done\n",
      "outdoorAtmo_50_bin_indoorHum-outdoorHum_sum done\n",
      "outdoorAtmo_50_bin_indoorHum-outdoorHum_skew done\n",
      "indoorHum_50_bin_outdoorTemp_median done\n",
      "indoorHum_50_bin_outdoorTemp_mean done\n"
     ]
    },
    {
     "name": "stderr",
     "output_type": "stream",
     "text": [
      "\r",
      " 54%|█████████████████████████████████████████▊                                    | 1014/1889 [00:23<00:20, 43.15it/s]"
     ]
    },
    {
     "name": "stdout",
     "output_type": "stream",
     "text": [
      "indoorHum_50_bin_outdoorTemp_max done\n",
      "indoorHum_50_bin_outdoorTemp_min done\n",
      "indoorHum_50_bin_outdoorTemp_std done\n",
      "indoorHum_50_bin_outdoorTemp_sum done\n",
      "indoorHum_50_bin_outdoorTemp_skew done\n",
      "indoorHum_50_bin_outdoorHum_median done\n",
      "indoorHum_50_bin_outdoorHum_mean done\n",
      "indoorHum_50_bin_outdoorHum_max done\n",
      "indoorHum_50_bin_outdoorHum_min done\n"
     ]
    },
    {
     "name": "stderr",
     "output_type": "stream",
     "text": [
      " 54%|██████████████████████████████████████████▎                                   | 1024/1889 [00:23<00:20, 42.38it/s]"
     ]
    },
    {
     "name": "stdout",
     "output_type": "stream",
     "text": [
      "indoorHum_50_bin_outdoorHum_std done\n",
      "indoorHum_50_bin_outdoorHum_sum done\n",
      "indoorHum_50_bin_outdoorHum_skew done\n",
      "indoorHum_50_bin_outdoorAtmo_median done\n",
      "indoorHum_50_bin_outdoorAtmo_mean done\n",
      "indoorHum_50_bin_outdoorAtmo_max done\n",
      "indoorHum_50_bin_outdoorAtmo_min done\n",
      "indoorHum_50_bin_outdoorAtmo_std done\n",
      "indoorHum_50_bin_outdoorAtmo_sum done\n"
     ]
    },
    {
     "name": "stderr",
     "output_type": "stream",
     "text": [
      " 55%|██████████████████████████████████████████▋                                   | 1034/1889 [00:24<00:20, 42.39it/s]"
     ]
    },
    {
     "name": "stdout",
     "output_type": "stream",
     "text": [
      "indoorHum_50_bin_outdoorAtmo_skew done\n",
      "indoorHum_50_bin_indoorHum_median done\n",
      "indoorHum_50_bin_indoorHum_mean done\n",
      "indoorHum_50_bin_indoorHum_max done\n",
      "indoorHum_50_bin_indoorHum_min done\n",
      "indoorHum_50_bin_indoorHum_std done\n",
      "indoorHum_50_bin_indoorHum_sum done\n",
      "indoorHum_50_bin_indoorHum_skew done\n",
      "indoorHum_50_bin_indoorAtmo_median done\n"
     ]
    },
    {
     "name": "stderr",
     "output_type": "stream",
     "text": [
      " 55%|███████████████████████████████████████████                                   | 1044/1889 [00:24<00:19, 42.47it/s]"
     ]
    },
    {
     "name": "stdout",
     "output_type": "stream",
     "text": [
      "indoorHum_50_bin_indoorAtmo_mean done\n",
      "indoorHum_50_bin_indoorAtmo_max done\n",
      "indoorHum_50_bin_indoorAtmo_min done\n",
      "indoorHum_50_bin_indoorAtmo_std done\n",
      "indoorHum_50_bin_indoorAtmo_sum done\n",
      "indoorHum_50_bin_indoorAtmo_skew done\n",
      "indoorHum_50_bin_indoorAtmo-outdoorAtmo_median done\n",
      "indoorHum_50_bin_indoorAtmo-outdoorAtmo_mean done\n",
      "indoorHum_50_bin_indoorAtmo-outdoorAtmo_max done\n"
     ]
    },
    {
     "name": "stderr",
     "output_type": "stream",
     "text": [
      " 56%|███████████████████████████████████████████▌                                  | 1054/1889 [00:24<00:20, 41.61it/s]"
     ]
    },
    {
     "name": "stdout",
     "output_type": "stream",
     "text": [
      "indoorHum_50_bin_indoorAtmo-outdoorAtmo_min done\n",
      "indoorHum_50_bin_indoorAtmo-outdoorAtmo_std done\n",
      "indoorHum_50_bin_indoorAtmo-outdoorAtmo_sum done\n",
      "indoorHum_50_bin_indoorAtmo-outdoorAtmo_skew done\n",
      "indoorHum_50_bin_indoorHum-outdoorHum_median done\n",
      "indoorHum_50_bin_indoorHum-outdoorHum_mean done\n",
      "indoorHum_50_bin_indoorHum-outdoorHum_max done\n",
      "indoorHum_50_bin_indoorHum-outdoorHum_min done\n",
      "indoorHum_50_bin_indoorHum-outdoorHum_std done\n"
     ]
    },
    {
     "name": "stderr",
     "output_type": "stream",
     "text": [
      "\r",
      " 56%|███████████████████████████████████████████▋                                  | 1059/1889 [00:24<00:20, 40.95it/s]"
     ]
    },
    {
     "name": "stdout",
     "output_type": "stream",
     "text": [
      "indoorHum_50_bin_indoorHum-outdoorHum_sum done\n",
      "indoorHum_50_bin_indoorHum-outdoorHum_skew done\n",
      "indoorAtmo_50_bin_outdoorTemp_median done\n",
      "indoorAtmo_50_bin_outdoorTemp_mean done\n",
      "indoorAtmo_50_bin_outdoorTemp_max done\n",
      "indoorAtmo_50_bin_outdoorTemp_min done\n",
      "indoorAtmo_50_bin_outdoorTemp_std done\n",
      "indoorAtmo_50_bin_outdoorTemp_sum done\n",
      "indoorAtmo_50_bin_outdoorTemp_skew done\n"
     ]
    },
    {
     "name": "stderr",
     "output_type": "stream",
     "text": [
      " 57%|████████████████████████████████████████████▏                                 | 1069/1889 [00:25<00:19, 42.64it/s]"
     ]
    },
    {
     "name": "stdout",
     "output_type": "stream",
     "text": [
      "indoorAtmo_50_bin_outdoorHum_median done\n",
      "indoorAtmo_50_bin_outdoorHum_mean done\n",
      "indoorAtmo_50_bin_outdoorHum_max done\n",
      "indoorAtmo_50_bin_outdoorHum_min done\n",
      "indoorAtmo_50_bin_outdoorHum_std done\n",
      "indoorAtmo_50_bin_outdoorHum_sum done\n",
      "indoorAtmo_50_bin_outdoorHum_skew done\n",
      "indoorAtmo_50_bin_outdoorAtmo_median done\n",
      "indoorAtmo_50_bin_outdoorAtmo_mean done\n"
     ]
    },
    {
     "name": "stderr",
     "output_type": "stream",
     "text": [
      " 57%|████████████████████████████████████████████▌                                 | 1079/1889 [00:25<00:18, 43.41it/s]"
     ]
    },
    {
     "name": "stdout",
     "output_type": "stream",
     "text": [
      "indoorAtmo_50_bin_outdoorAtmo_max done\n",
      "indoorAtmo_50_bin_outdoorAtmo_min done\n",
      "indoorAtmo_50_bin_outdoorAtmo_std done\n",
      "indoorAtmo_50_bin_outdoorAtmo_sum done\n",
      "indoorAtmo_50_bin_outdoorAtmo_skew done\n",
      "indoorAtmo_50_bin_indoorHum_median done\n",
      "indoorAtmo_50_bin_indoorHum_mean done\n",
      "indoorAtmo_50_bin_indoorHum_max done\n",
      "indoorAtmo_50_bin_indoorHum_min done\n",
      "indoorAtmo_50_bin_indoorHum_std done\n"
     ]
    },
    {
     "name": "stderr",
     "output_type": "stream",
     "text": [
      " 58%|████████████████████████████████████████████▉                                 | 1089/1889 [00:25<00:17, 44.57it/s]"
     ]
    },
    {
     "name": "stdout",
     "output_type": "stream",
     "text": [
      "indoorAtmo_50_bin_indoorHum_sum done\n",
      "indoorAtmo_50_bin_indoorHum_skew done\n",
      "indoorAtmo_50_bin_indoorAtmo_median done\n",
      "indoorAtmo_50_bin_indoorAtmo_mean done\n",
      "indoorAtmo_50_bin_indoorAtmo_max done\n",
      "indoorAtmo_50_bin_indoorAtmo_min done\n",
      "indoorAtmo_50_bin_indoorAtmo_std done\n",
      "indoorAtmo_50_bin_indoorAtmo_sum done\n",
      "indoorAtmo_50_bin_indoorAtmo_skew done\n"
     ]
    },
    {
     "name": "stderr",
     "output_type": "stream",
     "text": [
      " 58%|█████████████████████████████████████████████▍                                | 1099/1889 [00:25<00:17, 43.97it/s]"
     ]
    },
    {
     "name": "stdout",
     "output_type": "stream",
     "text": [
      "indoorAtmo_50_bin_indoorAtmo-outdoorAtmo_median done\n",
      "indoorAtmo_50_bin_indoorAtmo-outdoorAtmo_mean done\n",
      "indoorAtmo_50_bin_indoorAtmo-outdoorAtmo_max done\n",
      "indoorAtmo_50_bin_indoorAtmo-outdoorAtmo_min done\n",
      "indoorAtmo_50_bin_indoorAtmo-outdoorAtmo_std done\n",
      "indoorAtmo_50_bin_indoorAtmo-outdoorAtmo_sum done\n",
      "indoorAtmo_50_bin_indoorAtmo-outdoorAtmo_skew done\n",
      "indoorAtmo_50_bin_indoorHum-outdoorHum_median done\n",
      "indoorAtmo_50_bin_indoorHum-outdoorHum_mean done\n"
     ]
    },
    {
     "name": "stderr",
     "output_type": "stream",
     "text": [
      " 59%|█████████████████████████████████████████████▊                                | 1110/1889 [00:25<00:16, 46.03it/s]"
     ]
    },
    {
     "name": "stdout",
     "output_type": "stream",
     "text": [
      "indoorAtmo_50_bin_indoorHum-outdoorHum_max done\n",
      "indoorAtmo_50_bin_indoorHum-outdoorHum_min done\n",
      "indoorAtmo_50_bin_indoorHum-outdoorHum_std done\n",
      "indoorAtmo_50_bin_indoorHum-outdoorHum_sum done\n",
      "indoorAtmo_50_bin_indoorHum-outdoorHum_skew done\n",
      "indoorAtmo-outdoorAtmo_50_bin_outdoorTemp_median done\n",
      "indoorAtmo-outdoorAtmo_50_bin_outdoorTemp_mean done\n",
      "indoorAtmo-outdoorAtmo_50_bin_outdoorTemp_max done\n",
      "indoorAtmo-outdoorAtmo_50_bin_outdoorTemp_min done\n",
      "indoorAtmo-outdoorAtmo_50_bin_outdoorTemp_std done\n",
      "indoorAtmo-outdoorAtmo_50_bin_outdoorTemp_sum done\n"
     ]
    },
    {
     "name": "stderr",
     "output_type": "stream",
     "text": [
      " 59%|██████████████████████████████████████████████▎                               | 1122/1889 [00:26<00:15, 48.32it/s]"
     ]
    },
    {
     "name": "stdout",
     "output_type": "stream",
     "text": [
      "indoorAtmo-outdoorAtmo_50_bin_outdoorTemp_skew done\n",
      "indoorAtmo-outdoorAtmo_50_bin_outdoorHum_median done\n",
      "indoorAtmo-outdoorAtmo_50_bin_outdoorHum_mean done\n",
      "indoorAtmo-outdoorAtmo_50_bin_outdoorHum_max done\n",
      "indoorAtmo-outdoorAtmo_50_bin_outdoorHum_min done\n",
      "indoorAtmo-outdoorAtmo_50_bin_outdoorHum_std done\n",
      "indoorAtmo-outdoorAtmo_50_bin_outdoorHum_sum done\n",
      "indoorAtmo-outdoorAtmo_50_bin_outdoorHum_skew done\n",
      "indoorAtmo-outdoorAtmo_50_bin_outdoorAtmo_median done\n",
      "indoorAtmo-outdoorAtmo_50_bin_outdoorAtmo_mean done\n",
      "indoorAtmo-outdoorAtmo_50_bin_outdoorAtmo_max done\n"
     ]
    },
    {
     "name": "stderr",
     "output_type": "stream",
     "text": [
      " 60%|██████████████████████████████████████████████▋                               | 1132/1889 [00:26<00:15, 47.63it/s]"
     ]
    },
    {
     "name": "stdout",
     "output_type": "stream",
     "text": [
      "indoorAtmo-outdoorAtmo_50_bin_outdoorAtmo_min done\n",
      "indoorAtmo-outdoorAtmo_50_bin_outdoorAtmo_std done\n",
      "indoorAtmo-outdoorAtmo_50_bin_outdoorAtmo_sum done\n",
      "indoorAtmo-outdoorAtmo_50_bin_outdoorAtmo_skew done\n",
      "indoorAtmo-outdoorAtmo_50_bin_indoorHum_median done\n",
      "indoorAtmo-outdoorAtmo_50_bin_indoorHum_mean done\n",
      "indoorAtmo-outdoorAtmo_50_bin_indoorHum_max done\n",
      "indoorAtmo-outdoorAtmo_50_bin_indoorHum_min done\n",
      "indoorAtmo-outdoorAtmo_50_bin_indoorHum_std done\n",
      "indoorAtmo-outdoorAtmo_50_bin_indoorHum_sum done\n"
     ]
    },
    {
     "name": "stderr",
     "output_type": "stream",
     "text": [
      " 60%|███████████████████████████████████████████████▏                              | 1142/1889 [00:26<00:16, 45.72it/s]"
     ]
    },
    {
     "name": "stdout",
     "output_type": "stream",
     "text": [
      "indoorAtmo-outdoorAtmo_50_bin_indoorHum_skew done\n",
      "indoorAtmo-outdoorAtmo_50_bin_indoorAtmo_median done\n",
      "indoorAtmo-outdoorAtmo_50_bin_indoorAtmo_mean done\n",
      "indoorAtmo-outdoorAtmo_50_bin_indoorAtmo_max done\n",
      "indoorAtmo-outdoorAtmo_50_bin_indoorAtmo_min done\n",
      "indoorAtmo-outdoorAtmo_50_bin_indoorAtmo_std done\n",
      "indoorAtmo-outdoorAtmo_50_bin_indoorAtmo_sum done\n",
      "indoorAtmo-outdoorAtmo_50_bin_indoorAtmo_skew done\n",
      "indoorAtmo-outdoorAtmo_50_bin_indoorAtmo-outdoorAtmo_median done\n",
      "indoorAtmo-outdoorAtmo_50_bin_indoorAtmo-outdoorAtmo_mean done\n"
     ]
    },
    {
     "name": "stderr",
     "output_type": "stream",
     "text": [
      "\r",
      " 61%|███████████████████████████████████████████████▍                              | 1148/1889 [00:26<00:15, 47.29it/s]"
     ]
    },
    {
     "name": "stdout",
     "output_type": "stream",
     "text": [
      "indoorAtmo-outdoorAtmo_50_bin_indoorAtmo-outdoorAtmo_max done\n",
      "indoorAtmo-outdoorAtmo_50_bin_indoorAtmo-outdoorAtmo_min done\n",
      "indoorAtmo-outdoorAtmo_50_bin_indoorAtmo-outdoorAtmo_std done\n",
      "indoorAtmo-outdoorAtmo_50_bin_indoorAtmo-outdoorAtmo_sum done\n",
      "indoorAtmo-outdoorAtmo_50_bin_indoorAtmo-outdoorAtmo_skew done\n",
      "indoorAtmo-outdoorAtmo_50_bin_indoorHum-outdoorHum_median done\n",
      "indoorAtmo-outdoorAtmo_50_bin_indoorHum-outdoorHum_mean done\n",
      "indoorAtmo-outdoorAtmo_50_bin_indoorHum-outdoorHum_max done\n",
      "indoorAtmo-outdoorAtmo_50_bin_indoorHum-outdoorHum_min done\n",
      "indoorAtmo-outdoorAtmo_50_bin_indoorHum-outdoorHum_std done\n"
     ]
    },
    {
     "name": "stderr",
     "output_type": "stream",
     "text": [
      " 61%|███████████████████████████████████████████████▊                              | 1158/1889 [00:26<00:15, 46.17it/s]"
     ]
    },
    {
     "name": "stdout",
     "output_type": "stream",
     "text": [
      "indoorAtmo-outdoorAtmo_50_bin_indoorHum-outdoorHum_sum done\n",
      "indoorAtmo-outdoorAtmo_50_bin_indoorHum-outdoorHum_skew done\n",
      "indoorHum-outdoorHum_50_bin_outdoorTemp_median done\n",
      "indoorHum-outdoorHum_50_bin_outdoorTemp_mean done\n",
      "indoorHum-outdoorHum_50_bin_outdoorTemp_max done\n",
      "indoorHum-outdoorHum_50_bin_outdoorTemp_min done\n",
      "indoorHum-outdoorHum_50_bin_outdoorTemp_std done\n",
      "indoorHum-outdoorHum_50_bin_outdoorTemp_sum done\n",
      "indoorHum-outdoorHum_50_bin_outdoorTemp_skew done\n"
     ]
    },
    {
     "name": "stderr",
     "output_type": "stream",
     "text": [
      " 62%|████████████████████████████████████████████████▏                             | 1168/1889 [00:27<00:16, 43.68it/s]"
     ]
    },
    {
     "name": "stdout",
     "output_type": "stream",
     "text": [
      "indoorHum-outdoorHum_50_bin_outdoorHum_median done\n",
      "indoorHum-outdoorHum_50_bin_outdoorHum_mean done\n",
      "indoorHum-outdoorHum_50_bin_outdoorHum_max done\n",
      "indoorHum-outdoorHum_50_bin_outdoorHum_min done\n",
      "indoorHum-outdoorHum_50_bin_outdoorHum_std done\n",
      "indoorHum-outdoorHum_50_bin_outdoorHum_sum done\n",
      "indoorHum-outdoorHum_50_bin_outdoorHum_skew done\n",
      "indoorHum-outdoorHum_50_bin_outdoorAtmo_median done\n",
      "indoorHum-outdoorHum_50_bin_outdoorAtmo_mean done\n"
     ]
    },
    {
     "name": "stderr",
     "output_type": "stream",
     "text": [
      " 62%|████████████████████████████████████████████████▋                             | 1178/1889 [00:27<00:16, 42.90it/s]"
     ]
    },
    {
     "name": "stdout",
     "output_type": "stream",
     "text": [
      "indoorHum-outdoorHum_50_bin_outdoorAtmo_max done\n",
      "indoorHum-outdoorHum_50_bin_outdoorAtmo_min done\n",
      "indoorHum-outdoorHum_50_bin_outdoorAtmo_std done\n",
      "indoorHum-outdoorHum_50_bin_outdoorAtmo_sum done\n",
      "indoorHum-outdoorHum_50_bin_outdoorAtmo_skew done\n",
      "indoorHum-outdoorHum_50_bin_indoorHum_median done\n",
      "indoorHum-outdoorHum_50_bin_indoorHum_mean done\n",
      "indoorHum-outdoorHum_50_bin_indoorHum_max done\n",
      "indoorHum-outdoorHum_50_bin_indoorHum_min done\n"
     ]
    },
    {
     "name": "stderr",
     "output_type": "stream",
     "text": [
      " 63%|█████████████████████████████████████████████████                             | 1188/1889 [00:27<00:16, 41.97it/s]"
     ]
    },
    {
     "name": "stdout",
     "output_type": "stream",
     "text": [
      "indoorHum-outdoorHum_50_bin_indoorHum_std done\n",
      "indoorHum-outdoorHum_50_bin_indoorHum_sum done\n",
      "indoorHum-outdoorHum_50_bin_indoorHum_skew done\n",
      "indoorHum-outdoorHum_50_bin_indoorAtmo_median done\n",
      "indoorHum-outdoorHum_50_bin_indoorAtmo_mean done\n",
      "indoorHum-outdoorHum_50_bin_indoorAtmo_max done\n",
      "indoorHum-outdoorHum_50_bin_indoorAtmo_min done\n",
      "indoorHum-outdoorHum_50_bin_indoorAtmo_std done\n",
      "indoorHum-outdoorHum_50_bin_indoorAtmo_sum done\n"
     ]
    },
    {
     "name": "stderr",
     "output_type": "stream",
     "text": [
      "\r",
      " 63%|█████████████████████████████████████████████████▎                            | 1193/1889 [00:27<00:16, 41.12it/s]"
     ]
    },
    {
     "name": "stdout",
     "output_type": "stream",
     "text": [
      "indoorHum-outdoorHum_50_bin_indoorAtmo_skew done\n",
      "indoorHum-outdoorHum_50_bin_indoorAtmo-outdoorAtmo_median done\n",
      "indoorHum-outdoorHum_50_bin_indoorAtmo-outdoorAtmo_mean done\n",
      "indoorHum-outdoorHum_50_bin_indoorAtmo-outdoorAtmo_max done\n",
      "indoorHum-outdoorHum_50_bin_indoorAtmo-outdoorAtmo_min done\n",
      "indoorHum-outdoorHum_50_bin_indoorAtmo-outdoorAtmo_std done\n",
      "indoorHum-outdoorHum_50_bin_indoorAtmo-outdoorAtmo_sum done\n",
      "indoorHum-outdoorHum_50_bin_indoorAtmo-outdoorAtmo_skew done\n",
      "indoorHum-outdoorHum_50_bin_indoorHum-outdoorHum_median done\n"
     ]
    },
    {
     "name": "stderr",
     "output_type": "stream",
     "text": [
      " 64%|█████████████████████████████████████████████████▋                            | 1203/1889 [00:28<00:16, 41.64it/s]"
     ]
    },
    {
     "name": "stdout",
     "output_type": "stream",
     "text": [
      "indoorHum-outdoorHum_50_bin_indoorHum-outdoorHum_mean done\n",
      "indoorHum-outdoorHum_50_bin_indoorHum-outdoorHum_max done\n",
      "indoorHum-outdoorHum_50_bin_indoorHum-outdoorHum_min done\n",
      "indoorHum-outdoorHum_50_bin_indoorHum-outdoorHum_std done\n",
      "indoorHum-outdoorHum_50_bin_indoorHum-outdoorHum_sum done\n",
      "indoorHum-outdoorHum_50_bin_indoorHum-outdoorHum_skew done\n",
      "outdoorTemp_100_bin_outdoorTemp_median done\n",
      "outdoorTemp_100_bin_outdoorTemp_mean done\n",
      "outdoorTemp_100_bin_outdoorTemp_max done\n"
     ]
    },
    {
     "name": "stderr",
     "output_type": "stream",
     "text": [
      " 64%|██████████████████████████████████████████████████                            | 1213/1889 [00:28<00:15, 42.66it/s]"
     ]
    },
    {
     "name": "stdout",
     "output_type": "stream",
     "text": [
      "outdoorTemp_100_bin_outdoorTemp_min done\n",
      "outdoorTemp_100_bin_outdoorTemp_std done\n",
      "outdoorTemp_100_bin_outdoorTemp_sum done\n",
      "outdoorTemp_100_bin_outdoorTemp_skew done\n",
      "outdoorTemp_100_bin_outdoorHum_median done\n",
      "outdoorTemp_100_bin_outdoorHum_mean done\n",
      "outdoorTemp_100_bin_outdoorHum_max done\n",
      "outdoorTemp_100_bin_outdoorHum_min done\n",
      "outdoorTemp_100_bin_outdoorHum_std done\n"
     ]
    },
    {
     "name": "stderr",
     "output_type": "stream",
     "text": [
      " 65%|██████████████████████████████████████████████████▍                           | 1223/1889 [00:28<00:15, 42.24it/s]"
     ]
    },
    {
     "name": "stdout",
     "output_type": "stream",
     "text": [
      "outdoorTemp_100_bin_outdoorHum_sum done\n",
      "outdoorTemp_100_bin_outdoorHum_skew done\n",
      "outdoorTemp_100_bin_outdoorAtmo_median done\n",
      "outdoorTemp_100_bin_outdoorAtmo_mean done\n",
      "outdoorTemp_100_bin_outdoorAtmo_max done\n",
      "outdoorTemp_100_bin_outdoorAtmo_min done\n",
      "outdoorTemp_100_bin_outdoorAtmo_std done\n",
      "outdoorTemp_100_bin_outdoorAtmo_sum done\n",
      "outdoorTemp_100_bin_outdoorAtmo_skew done\n"
     ]
    },
    {
     "name": "stderr",
     "output_type": "stream",
     "text": [
      " 65%|██████████████████████████████████████████████████▉                           | 1233/1889 [00:28<00:15, 42.44it/s]"
     ]
    },
    {
     "name": "stdout",
     "output_type": "stream",
     "text": [
      "outdoorTemp_100_bin_indoorHum_median done\n",
      "outdoorTemp_100_bin_indoorHum_mean done\n",
      "outdoorTemp_100_bin_indoorHum_max done\n",
      "outdoorTemp_100_bin_indoorHum_min done\n",
      "outdoorTemp_100_bin_indoorHum_std done\n",
      "outdoorTemp_100_bin_indoorHum_sum done\n",
      "outdoorTemp_100_bin_indoorHum_skew done\n",
      "outdoorTemp_100_bin_indoorAtmo_median done\n",
      "outdoorTemp_100_bin_indoorAtmo_mean done\n"
     ]
    },
    {
     "name": "stderr",
     "output_type": "stream",
     "text": [
      "\r",
      " 66%|███████████████████████████████████████████████████                           | 1238/1889 [00:28<00:15, 42.56it/s]"
     ]
    },
    {
     "name": "stdout",
     "output_type": "stream",
     "text": [
      "outdoorTemp_100_bin_indoorAtmo_max done\n",
      "outdoorTemp_100_bin_indoorAtmo_min done\n",
      "outdoorTemp_100_bin_indoorAtmo_std done\n",
      "outdoorTemp_100_bin_indoorAtmo_sum done\n",
      "outdoorTemp_100_bin_indoorAtmo_skew done\n",
      "outdoorTemp_100_bin_indoorAtmo-outdoorAtmo_median done\n",
      "outdoorTemp_100_bin_indoorAtmo-outdoorAtmo_mean done\n",
      "outdoorTemp_100_bin_indoorAtmo-outdoorAtmo_max done\n",
      "outdoorTemp_100_bin_indoorAtmo-outdoorAtmo_min done\n"
     ]
    },
    {
     "name": "stderr",
     "output_type": "stream",
     "text": [
      " 66%|███████████████████████████████████████████████████▌                          | 1248/1889 [00:29<00:15, 41.34it/s]"
     ]
    },
    {
     "name": "stdout",
     "output_type": "stream",
     "text": [
      "outdoorTemp_100_bin_indoorAtmo-outdoorAtmo_std done\n",
      "outdoorTemp_100_bin_indoorAtmo-outdoorAtmo_sum done\n",
      "outdoorTemp_100_bin_indoorAtmo-outdoorAtmo_skew done\n",
      "outdoorTemp_100_bin_indoorHum-outdoorHum_median done\n",
      "outdoorTemp_100_bin_indoorHum-outdoorHum_mean done\n",
      "outdoorTemp_100_bin_indoorHum-outdoorHum_max done\n",
      "outdoorTemp_100_bin_indoorHum-outdoorHum_min done\n",
      "outdoorTemp_100_bin_indoorHum-outdoorHum_std done\n",
      "outdoorTemp_100_bin_indoorHum-outdoorHum_sum done\n"
     ]
    },
    {
     "name": "stderr",
     "output_type": "stream",
     "text": [
      " 67%|███████████████████████████████████████████████████▉                          | 1258/1889 [00:29<00:15, 40.70it/s]"
     ]
    },
    {
     "name": "stdout",
     "output_type": "stream",
     "text": [
      "outdoorTemp_100_bin_indoorHum-outdoorHum_skew done\n",
      "outdoorHum_100_bin_outdoorTemp_median done\n",
      "outdoorHum_100_bin_outdoorTemp_mean done\n",
      "outdoorHum_100_bin_outdoorTemp_max done\n",
      "outdoorHum_100_bin_outdoorTemp_min done\n",
      "outdoorHum_100_bin_outdoorTemp_std done\n",
      "outdoorHum_100_bin_outdoorTemp_sum done\n",
      "outdoorHum_100_bin_outdoorTemp_skew done\n"
     ]
    },
    {
     "name": "stderr",
     "output_type": "stream",
     "text": [
      " 67%|████████████████████████████████████████████████████▎                         | 1268/1889 [00:29<00:15, 40.84it/s]"
     ]
    },
    {
     "name": "stdout",
     "output_type": "stream",
     "text": [
      "outdoorHum_100_bin_outdoorHum_median done\n",
      "outdoorHum_100_bin_outdoorHum_mean done\n",
      "outdoorHum_100_bin_outdoorHum_max done\n",
      "outdoorHum_100_bin_outdoorHum_min done\n",
      "outdoorHum_100_bin_outdoorHum_std done\n",
      "outdoorHum_100_bin_outdoorHum_sum done\n",
      "outdoorHum_100_bin_outdoorHum_skew done\n",
      "outdoorHum_100_bin_outdoorAtmo_median done\n",
      "outdoorHum_100_bin_outdoorAtmo_mean done\n"
     ]
    },
    {
     "name": "stderr",
     "output_type": "stream",
     "text": [
      "\r",
      " 67%|████████████████████████████████████████████████████▌                         | 1273/1889 [00:29<00:15, 40.33it/s]"
     ]
    },
    {
     "name": "stdout",
     "output_type": "stream",
     "text": [
      "outdoorHum_100_bin_outdoorAtmo_max done\n",
      "outdoorHum_100_bin_outdoorAtmo_min done\n",
      "outdoorHum_100_bin_outdoorAtmo_std done\n",
      "outdoorHum_100_bin_outdoorAtmo_sum done\n",
      "outdoorHum_100_bin_outdoorAtmo_skew done\n",
      "outdoorHum_100_bin_indoorHum_median done\n",
      "outdoorHum_100_bin_indoorHum_mean done\n",
      "outdoorHum_100_bin_indoorHum_max done\n",
      "outdoorHum_100_bin_indoorHum_min done\n"
     ]
    },
    {
     "name": "stderr",
     "output_type": "stream",
     "text": [
      " 68%|████████████████████████████████████████████████████▉                         | 1283/1889 [00:29<00:15, 40.00it/s]"
     ]
    },
    {
     "name": "stdout",
     "output_type": "stream",
     "text": [
      "outdoorHum_100_bin_indoorHum_std done\n",
      "outdoorHum_100_bin_indoorHum_sum done\n",
      "outdoorHum_100_bin_indoorHum_skew done\n",
      "outdoorHum_100_bin_indoorAtmo_median done\n",
      "outdoorHum_100_bin_indoorAtmo_mean done\n",
      "outdoorHum_100_bin_indoorAtmo_max done\n",
      "outdoorHum_100_bin_indoorAtmo_min done\n",
      "outdoorHum_100_bin_indoorAtmo_std done\n"
     ]
    },
    {
     "name": "stderr",
     "output_type": "stream",
     "text": [
      " 68%|█████████████████████████████████████████████████████▎                        | 1292/1889 [00:30<00:15, 39.29it/s]"
     ]
    },
    {
     "name": "stdout",
     "output_type": "stream",
     "text": [
      "outdoorHum_100_bin_indoorAtmo_sum done\n",
      "outdoorHum_100_bin_indoorAtmo_skew done\n",
      "outdoorHum_100_bin_indoorAtmo-outdoorAtmo_median done\n",
      "outdoorHum_100_bin_indoorAtmo-outdoorAtmo_mean done\n",
      "outdoorHum_100_bin_indoorAtmo-outdoorAtmo_max done\n",
      "outdoorHum_100_bin_indoorAtmo-outdoorAtmo_min done\n",
      "outdoorHum_100_bin_indoorAtmo-outdoorAtmo_std done\n",
      "outdoorHum_100_bin_indoorAtmo-outdoorAtmo_sum done\n"
     ]
    },
    {
     "name": "stderr",
     "output_type": "stream",
     "text": [
      " 69%|█████████████████████████████████████████████████████▋                        | 1300/1889 [00:30<00:15, 38.70it/s]"
     ]
    },
    {
     "name": "stdout",
     "output_type": "stream",
     "text": [
      "outdoorHum_100_bin_indoorAtmo-outdoorAtmo_skew done\n",
      "outdoorHum_100_bin_indoorHum-outdoorHum_median done\n",
      "outdoorHum_100_bin_indoorHum-outdoorHum_mean done\n",
      "outdoorHum_100_bin_indoorHum-outdoorHum_max done\n",
      "outdoorHum_100_bin_indoorHum-outdoorHum_min done\n",
      "outdoorHum_100_bin_indoorHum-outdoorHum_std done\n",
      "outdoorHum_100_bin_indoorHum-outdoorHum_sum done\n",
      "outdoorHum_100_bin_indoorHum-outdoorHum_skew"
     ]
    },
    {
     "name": "stderr",
     "output_type": "stream",
     "text": [
      " 69%|██████████████████████████████████████████████████████                        | 1308/1889 [00:30<00:14, 38.78it/s]"
     ]
    },
    {
     "name": "stdout",
     "output_type": "stream",
     "text": [
      " done\n",
      "outdoorAtmo_100_bin_outdoorTemp_median done\n",
      "outdoorAtmo_100_bin_outdoorTemp_mean done\n",
      "outdoorAtmo_100_bin_outdoorTemp_max done\n",
      "outdoorAtmo_100_bin_outdoorTemp_min done\n",
      "outdoorAtmo_100_bin_outdoorTemp_std done\n",
      "outdoorAtmo_100_bin_outdoorTemp_sum done\n",
      "outdoorAtmo_100_bin_outdoorTemp_skew done\n"
     ]
    },
    {
     "name": "stderr",
     "output_type": "stream",
     "text": [
      " 70%|██████████████████████████████████████████████████████▍                       | 1317/1889 [00:30<00:14, 39.25it/s]"
     ]
    },
    {
     "name": "stdout",
     "output_type": "stream",
     "text": [
      "outdoorAtmo_100_bin_outdoorHum_median done\n",
      "outdoorAtmo_100_bin_outdoorHum_mean done\n",
      "outdoorAtmo_100_bin_outdoorHum_max done\n",
      "outdoorAtmo_100_bin_outdoorHum_min done\n",
      "outdoorAtmo_100_bin_outdoorHum_std done\n",
      "outdoorAtmo_100_bin_outdoorHum_sum done\n",
      "outdoorAtmo_100_bin_outdoorHum_skew done\n",
      "outdoorAtmo_100_bin_outdoorAtmo_median done\n",
      "outdoorAtmo_100_bin_outdoorAtmo_mean done\n"
     ]
    },
    {
     "name": "stderr",
     "output_type": "stream",
     "text": [
      "\r",
      " 70%|██████████████████████████████████████████████████████▌                       | 1322/1889 [00:30<00:14, 39.88it/s]"
     ]
    },
    {
     "name": "stdout",
     "output_type": "stream",
     "text": [
      "outdoorAtmo_100_bin_outdoorAtmo_max done\n",
      "outdoorAtmo_100_bin_outdoorAtmo_min done\n",
      "outdoorAtmo_100_bin_outdoorAtmo_std done\n",
      "outdoorAtmo_100_bin_outdoorAtmo_sum done\n",
      "outdoorAtmo_100_bin_outdoorAtmo_skew done\n",
      "outdoorAtmo_100_bin_indoorHum_median done\n",
      "outdoorAtmo_100_bin_indoorHum_mean done\n",
      "outdoorAtmo_100_bin_indoorHum_max done\n"
     ]
    },
    {
     "name": "stderr",
     "output_type": "stream",
     "text": [
      " 70%|██████████████████████████████████████████████████████▉                       | 1331/1889 [00:31<00:14, 37.61it/s]"
     ]
    },
    {
     "name": "stdout",
     "output_type": "stream",
     "text": [
      "outdoorAtmo_100_bin_indoorHum_min done\n",
      "outdoorAtmo_100_bin_indoorHum_std done\n",
      "outdoorAtmo_100_bin_indoorHum_sum done\n",
      "outdoorAtmo_100_bin_indoorHum_skew done\n",
      "outdoorAtmo_100_bin_indoorAtmo_median done\n",
      "outdoorAtmo_100_bin_indoorAtmo_mean done\n",
      "outdoorAtmo_100_bin_indoorAtmo_max done\n",
      "outdoorAtmo_100_bin_indoorAtmo_min done\n",
      "outdoorAtmo_100_bin_indoorAtmo_std done\n"
     ]
    },
    {
     "name": "stderr",
     "output_type": "stream",
     "text": [
      " 71%|███████████████████████████████████████████████████████▎                      | 1340/1889 [00:31<00:14, 38.70it/s]"
     ]
    },
    {
     "name": "stdout",
     "output_type": "stream",
     "text": [
      "outdoorAtmo_100_bin_indoorAtmo_sum done\n",
      "outdoorAtmo_100_bin_indoorAtmo_skew done\n",
      "outdoorAtmo_100_bin_indoorAtmo-outdoorAtmo_median done\n",
      "outdoorAtmo_100_bin_indoorAtmo-outdoorAtmo_mean done\n",
      "outdoorAtmo_100_bin_indoorAtmo-outdoorAtmo_max done\n",
      "outdoorAtmo_100_bin_indoorAtmo-outdoorAtmo_min done\n",
      "outdoorAtmo_100_bin_indoorAtmo-outdoorAtmo_std done\n",
      "outdoorAtmo_100_bin_indoorAtmo-outdoorAtmo_sum done\n",
      "outdoorAtmo_100_bin_indoorAtmo-outdoorAtmo_skew done\n"
     ]
    },
    {
     "name": "stderr",
     "output_type": "stream",
     "text": [
      " 71%|███████████████████████████████████████████████████████▋                      | 1350/1889 [00:31<00:13, 39.71it/s]"
     ]
    },
    {
     "name": "stdout",
     "output_type": "stream",
     "text": [
      "outdoorAtmo_100_bin_indoorHum-outdoorHum_median done\n",
      "outdoorAtmo_100_bin_indoorHum-outdoorHum_mean done\n",
      "outdoorAtmo_100_bin_indoorHum-outdoorHum_max done\n",
      "outdoorAtmo_100_bin_indoorHum-outdoorHum_min done\n",
      "outdoorAtmo_100_bin_indoorHum-outdoorHum_std done\n",
      "outdoorAtmo_100_bin_indoorHum-outdoorHum_sum done\n",
      "outdoorAtmo_100_bin_indoorHum-outdoorHum_skew done\n",
      "indoorHum_100_bin_outdoorTemp_median done\n",
      "indoorHum_100_bin_outdoorTemp_mean done\n"
     ]
    },
    {
     "name": "stderr",
     "output_type": "stream",
     "text": [
      " 72%|████████████████████████████████████████████████████████                      | 1358/1889 [00:31<00:13, 38.22it/s]"
     ]
    },
    {
     "name": "stdout",
     "output_type": "stream",
     "text": [
      "indoorHum_100_bin_outdoorTemp_max done\n",
      "indoorHum_100_bin_outdoorTemp_min done\n",
      "indoorHum_100_bin_outdoorTemp_std done\n",
      "indoorHum_100_bin_outdoorTemp_sum done\n",
      "indoorHum_100_bin_outdoorTemp_skew done\n",
      "indoorHum_100_bin_outdoorHum_median done\n",
      "indoorHum_100_bin_outdoorHum_mean done\n",
      "indoorHum_100_bin_outdoorHum_max"
     ]
    },
    {
     "name": "stderr",
     "output_type": "stream",
     "text": [
      " 72%|████████████████████████████████████████████████████████▍                     | 1366/1889 [00:32<00:13, 37.51it/s]"
     ]
    },
    {
     "name": "stdout",
     "output_type": "stream",
     "text": [
      " done\n",
      "indoorHum_100_bin_outdoorHum_min done\n",
      "indoorHum_100_bin_outdoorHum_std done\n",
      "indoorHum_100_bin_outdoorHum_sum done\n",
      "indoorHum_100_bin_outdoorHum_skew done\n",
      "indoorHum_100_bin_outdoorAtmo_median done\n",
      "indoorHum_100_bin_outdoorAtmo_mean done\n",
      "indoorHum_100_bin_outdoorAtmo_max done\n"
     ]
    },
    {
     "name": "stderr",
     "output_type": "stream",
     "text": [
      " 73%|████████████████████████████████████████████████████████▋                     | 1374/1889 [00:32<00:13, 37.71it/s]"
     ]
    },
    {
     "name": "stdout",
     "output_type": "stream",
     "text": [
      "indoorHum_100_bin_outdoorAtmo_min done\n",
      "indoorHum_100_bin_outdoorAtmo_std done\n",
      "indoorHum_100_bin_outdoorAtmo_sum done\n",
      "indoorHum_100_bin_outdoorAtmo_skew done\n",
      "indoorHum_100_bin_indoorHum_median done\n",
      "indoorHum_100_bin_indoorHum_mean done\n",
      "indoorHum_100_bin_indoorHum_max done\n",
      "indoorHum_100_bin_indoorHum_min done\n",
      "indoorHum_100_bin_indoorHum_std done\n"
     ]
    },
    {
     "name": "stderr",
     "output_type": "stream",
     "text": [
      " 73%|█████████████████████████████████████████████████████████                     | 1383/1889 [00:32<00:13, 38.01it/s]"
     ]
    },
    {
     "name": "stdout",
     "output_type": "stream",
     "text": [
      "indoorHum_100_bin_indoorHum_sum done\n",
      "indoorHum_100_bin_indoorHum_skew done\n",
      "indoorHum_100_bin_indoorAtmo_median done\n",
      "indoorHum_100_bin_indoorAtmo_mean done\n",
      "indoorHum_100_bin_indoorAtmo_max done\n",
      "indoorHum_100_bin_indoorAtmo_min done\n",
      "indoorHum_100_bin_indoorAtmo_std done\n",
      "indoorHum_100_bin_indoorAtmo_sum done\n"
     ]
    },
    {
     "name": "stderr",
     "output_type": "stream",
     "text": [
      " 74%|█████████████████████████████████████████████████████████▍                    | 1391/1889 [00:32<00:12, 38.32it/s]"
     ]
    },
    {
     "name": "stdout",
     "output_type": "stream",
     "text": [
      "indoorHum_100_bin_indoorAtmo_skew done\n",
      "indoorHum_100_bin_indoorAtmo-outdoorAtmo_median done\n",
      "indoorHum_100_bin_indoorAtmo-outdoorAtmo_mean done\n",
      "indoorHum_100_bin_indoorAtmo-outdoorAtmo_max done\n",
      "indoorHum_100_bin_indoorAtmo-outdoorAtmo_min done\n",
      "indoorHum_100_bin_indoorAtmo-outdoorAtmo_std done\n",
      "indoorHum_100_bin_indoorAtmo-outdoorAtmo_sum done\n",
      "indoorHum_100_bin_indoorAtmo-outdoorAtmo_skew done\n",
      "indoorHum_100_bin_indoorHum-outdoorHum_median done\n"
     ]
    },
    {
     "name": "stderr",
     "output_type": "stream",
     "text": [
      " 74%|█████████████████████████████████████████████████████████▊                    | 1399/1889 [00:33<00:12, 38.46it/s]"
     ]
    },
    {
     "name": "stdout",
     "output_type": "stream",
     "text": [
      "indoorHum_100_bin_indoorHum-outdoorHum_mean done\n",
      "indoorHum_100_bin_indoorHum-outdoorHum_max done\n",
      "indoorHum_100_bin_indoorHum-outdoorHum_min done\n",
      "indoorHum_100_bin_indoorHum-outdoorHum_std done\n",
      "indoorHum_100_bin_indoorHum-outdoorHum_sum done\n",
      "indoorHum_100_bin_indoorHum-outdoorHum_skew done\n",
      "indoorAtmo_100_bin_outdoorTemp_median done\n",
      "indoorAtmo_100_bin_outdoorTemp_mean done\n"
     ]
    },
    {
     "name": "stderr",
     "output_type": "stream",
     "text": [
      " 75%|██████████████████████████████████████████████████████████▏                   | 1408/1889 [00:33<00:12, 39.81it/s]"
     ]
    },
    {
     "name": "stdout",
     "output_type": "stream",
     "text": [
      "indoorAtmo_100_bin_outdoorTemp_max done\n",
      "indoorAtmo_100_bin_outdoorTemp_min done\n",
      "indoorAtmo_100_bin_outdoorTemp_std done\n",
      "indoorAtmo_100_bin_outdoorTemp_sum done\n",
      "indoorAtmo_100_bin_outdoorTemp_skew done\n",
      "indoorAtmo_100_bin_outdoorHum_median done\n",
      "indoorAtmo_100_bin_outdoorHum_mean done\n",
      "indoorAtmo_100_bin_outdoorHum_max done\n",
      "indoorAtmo_100_bin_outdoorHum_min done\n",
      "indoorAtmo_100_bin_outdoorHum_std done\n"
     ]
    },
    {
     "name": "stderr",
     "output_type": "stream",
     "text": [
      " 75%|██████████████████████████████████████████████████████████▌                   | 1418/1889 [00:33<00:11, 40.37it/s]"
     ]
    },
    {
     "name": "stdout",
     "output_type": "stream",
     "text": [
      "indoorAtmo_100_bin_outdoorHum_sum done\n",
      "indoorAtmo_100_bin_outdoorHum_skew done\n",
      "indoorAtmo_100_bin_outdoorAtmo_median done\n",
      "indoorAtmo_100_bin_outdoorAtmo_mean done\n",
      "indoorAtmo_100_bin_outdoorAtmo_max done\n",
      "indoorAtmo_100_bin_outdoorAtmo_min done\n",
      "indoorAtmo_100_bin_outdoorAtmo_std done\n",
      "indoorAtmo_100_bin_outdoorAtmo_sum done\n"
     ]
    },
    {
     "name": "stderr",
     "output_type": "stream",
     "text": [
      " 76%|██████████████████████████████████████████████████████████▉                   | 1428/1889 [00:33<00:10, 42.50it/s]"
     ]
    },
    {
     "name": "stdout",
     "output_type": "stream",
     "text": [
      "indoorAtmo_100_bin_outdoorAtmo_skew done\n",
      "indoorAtmo_100_bin_indoorHum_median done\n",
      "indoorAtmo_100_bin_indoorHum_mean done\n",
      "indoorAtmo_100_bin_indoorHum_max done\n",
      "indoorAtmo_100_bin_indoorHum_min done\n",
      "indoorAtmo_100_bin_indoorHum_std done\n",
      "indoorAtmo_100_bin_indoorHum_sum done\n",
      "indoorAtmo_100_bin_indoorHum_skew done\n",
      "indoorAtmo_100_bin_indoorAtmo_median done\n"
     ]
    },
    {
     "name": "stderr",
     "output_type": "stream",
     "text": [
      "\r",
      " 76%|███████████████████████████████████████████████████████████▏                  | 1433/1889 [00:33<00:10, 42.60it/s]"
     ]
    },
    {
     "name": "stdout",
     "output_type": "stream",
     "text": [
      "indoorAtmo_100_bin_indoorAtmo_mean done\n",
      "indoorAtmo_100_bin_indoorAtmo_max done\n",
      "indoorAtmo_100_bin_indoorAtmo_min done\n",
      "indoorAtmo_100_bin_indoorAtmo_std done\n",
      "indoorAtmo_100_bin_indoorAtmo_sum done\n",
      "indoorAtmo_100_bin_indoorAtmo_skew done\n",
      "indoorAtmo_100_bin_indoorAtmo-outdoorAtmo_median done\n",
      "indoorAtmo_100_bin_indoorAtmo-outdoorAtmo_mean done\n",
      "indoorAtmo_100_bin_indoorAtmo-outdoorAtmo_max done\n"
     ]
    },
    {
     "name": "stderr",
     "output_type": "stream",
     "text": [
      " 76%|███████████████████████████████████████████████████████████▌                  | 1443/1889 [00:34<00:10, 41.19it/s]"
     ]
    },
    {
     "name": "stdout",
     "output_type": "stream",
     "text": [
      "indoorAtmo_100_bin_indoorAtmo-outdoorAtmo_min done\n",
      "indoorAtmo_100_bin_indoorAtmo-outdoorAtmo_std done\n",
      "indoorAtmo_100_bin_indoorAtmo-outdoorAtmo_sum done\n",
      "indoorAtmo_100_bin_indoorAtmo-outdoorAtmo_skew done\n",
      "indoorAtmo_100_bin_indoorHum-outdoorHum_median done\n",
      "indoorAtmo_100_bin_indoorHum-outdoorHum_mean done\n",
      "indoorAtmo_100_bin_indoorHum-outdoorHum_max done\n",
      "indoorAtmo_100_bin_indoorHum-outdoorHum_min done\n",
      "indoorAtmo_100_bin_indoorHum-outdoorHum_std done\n"
     ]
    },
    {
     "name": "stderr",
     "output_type": "stream",
     "text": [
      " 77%|████████████████████████████████████████████████████████████                  | 1454/1889 [00:34<00:10, 43.12it/s]"
     ]
    },
    {
     "name": "stdout",
     "output_type": "stream",
     "text": [
      "indoorAtmo_100_bin_indoorHum-outdoorHum_sum done\n",
      "indoorAtmo_100_bin_indoorHum-outdoorHum_skew done\n",
      "indoorAtmo-outdoorAtmo_100_bin_outdoorTemp_median done\n",
      "indoorAtmo-outdoorAtmo_100_bin_outdoorTemp_mean done\n",
      "indoorAtmo-outdoorAtmo_100_bin_outdoorTemp_max done\n",
      "indoorAtmo-outdoorAtmo_100_bin_outdoorTemp_min done\n",
      "indoorAtmo-outdoorAtmo_100_bin_outdoorTemp_std done\n",
      "indoorAtmo-outdoorAtmo_100_bin_outdoorTemp_sum done\n",
      "indoorAtmo-outdoorAtmo_100_bin_outdoorTemp_skew done\n",
      "indoorAtmo-outdoorAtmo_100_bin_outdoorHum_median done\n"
     ]
    },
    {
     "name": "stderr",
     "output_type": "stream",
     "text": [
      " 78%|████████████████████████████████████████████████████████████▍                 | 1465/1889 [00:34<00:09, 44.83it/s]"
     ]
    },
    {
     "name": "stdout",
     "output_type": "stream",
     "text": [
      "indoorAtmo-outdoorAtmo_100_bin_outdoorHum_mean done\n",
      "indoorAtmo-outdoorAtmo_100_bin_outdoorHum_max done\n",
      "indoorAtmo-outdoorAtmo_100_bin_outdoorHum_min done\n",
      "indoorAtmo-outdoorAtmo_100_bin_outdoorHum_std done\n",
      "indoorAtmo-outdoorAtmo_100_bin_outdoorHum_sum done\n",
      "indoorAtmo-outdoorAtmo_100_bin_outdoorHum_skew done\n",
      "indoorAtmo-outdoorAtmo_100_bin_outdoorAtmo_median done\n",
      "indoorAtmo-outdoorAtmo_100_bin_outdoorAtmo_mean done\n",
      "indoorAtmo-outdoorAtmo_100_bin_outdoorAtmo_max done\n"
     ]
    },
    {
     "name": "stderr",
     "output_type": "stream",
     "text": [
      "\r",
      " 78%|████████████████████████████████████████████████████████████▋                 | 1471/1889 [00:34<00:09, 46.41it/s]"
     ]
    },
    {
     "name": "stdout",
     "output_type": "stream",
     "text": [
      "indoorAtmo-outdoorAtmo_100_bin_outdoorAtmo_min done\n",
      "indoorAtmo-outdoorAtmo_100_bin_outdoorAtmo_std done\n",
      "indoorAtmo-outdoorAtmo_100_bin_outdoorAtmo_sum done\n",
      "indoorAtmo-outdoorAtmo_100_bin_outdoorAtmo_skew done\n",
      "indoorAtmo-outdoorAtmo_100_bin_indoorHum_median done\n",
      "indoorAtmo-outdoorAtmo_100_bin_indoorHum_mean done\n",
      "indoorAtmo-outdoorAtmo_100_bin_indoorHum_max done\n",
      "indoorAtmo-outdoorAtmo_100_bin_indoorHum_min done\n",
      "indoorAtmo-outdoorAtmo_100_bin_indoorHum_std done\n",
      "indoorAtmo-outdoorAtmo_100_bin_indoorHum_sum done\n"
     ]
    },
    {
     "name": "stderr",
     "output_type": "stream",
     "text": [
      " 78%|█████████████████████████████████████████████████████████████▏                | 1481/1889 [00:34<00:09, 44.82it/s]"
     ]
    },
    {
     "name": "stdout",
     "output_type": "stream",
     "text": [
      "indoorAtmo-outdoorAtmo_100_bin_indoorHum_skew done\n",
      "indoorAtmo-outdoorAtmo_100_bin_indoorAtmo_median done\n",
      "indoorAtmo-outdoorAtmo_100_bin_indoorAtmo_mean done\n",
      "indoorAtmo-outdoorAtmo_100_bin_indoorAtmo_max done\n",
      "indoorAtmo-outdoorAtmo_100_bin_indoorAtmo_min done\n",
      "indoorAtmo-outdoorAtmo_100_bin_indoorAtmo_std done\n",
      "indoorAtmo-outdoorAtmo_100_bin_indoorAtmo_sum done\n",
      "indoorAtmo-outdoorAtmo_100_bin_indoorAtmo_skew done\n",
      "indoorAtmo-outdoorAtmo_100_bin_indoorAtmo-outdoorAtmo_median done\n",
      "indoorAtmo-outdoorAtmo_100_bin_indoorAtmo-outdoorAtmo_mean done\n"
     ]
    },
    {
     "name": "stderr",
     "output_type": "stream",
     "text": [
      " 79%|█████████████████████████████████████████████████████████████▌                | 1491/1889 [00:35<00:08, 44.70it/s]"
     ]
    },
    {
     "name": "stdout",
     "output_type": "stream",
     "text": [
      "indoorAtmo-outdoorAtmo_100_bin_indoorAtmo-outdoorAtmo_max done\n",
      "indoorAtmo-outdoorAtmo_100_bin_indoorAtmo-outdoorAtmo_min done\n",
      "indoorAtmo-outdoorAtmo_100_bin_indoorAtmo-outdoorAtmo_std done\n",
      "indoorAtmo-outdoorAtmo_100_bin_indoorAtmo-outdoorAtmo_sum done\n",
      "indoorAtmo-outdoorAtmo_100_bin_indoorAtmo-outdoorAtmo_skew done\n",
      "indoorAtmo-outdoorAtmo_100_bin_indoorHum-outdoorHum_median done\n",
      "indoorAtmo-outdoorAtmo_100_bin_indoorHum-outdoorHum_mean done\n",
      "indoorAtmo-outdoorAtmo_100_bin_indoorHum-outdoorHum_max done\n",
      "indoorAtmo-outdoorAtmo_100_bin_indoorHum-outdoorHum_min done\n"
     ]
    },
    {
     "name": "stderr",
     "output_type": "stream",
     "text": [
      " 79%|█████████████████████████████████████████████████████████████▉                | 1501/1889 [00:35<00:09, 42.15it/s]"
     ]
    },
    {
     "name": "stdout",
     "output_type": "stream",
     "text": [
      "indoorAtmo-outdoorAtmo_100_bin_indoorHum-outdoorHum_std done\n",
      "indoorAtmo-outdoorAtmo_100_bin_indoorHum-outdoorHum_sum done\n",
      "indoorAtmo-outdoorAtmo_100_bin_indoorHum-outdoorHum_skew done\n",
      "indoorHum-outdoorHum_100_bin_outdoorTemp_median done\n",
      "indoorHum-outdoorHum_100_bin_outdoorTemp_mean done\n",
      "indoorHum-outdoorHum_100_bin_outdoorTemp_max done\n",
      "indoorHum-outdoorHum_100_bin_outdoorTemp_min done\n",
      "indoorHum-outdoorHum_100_bin_outdoorTemp_std done\n"
     ]
    },
    {
     "name": "stderr",
     "output_type": "stream",
     "text": [
      " 80%|██████████████████████████████████████████████████████████████▎               | 1510/1889 [00:35<00:09, 38.74it/s]"
     ]
    },
    {
     "name": "stdout",
     "output_type": "stream",
     "text": [
      "indoorHum-outdoorHum_100_bin_outdoorTemp_sum done\n",
      "indoorHum-outdoorHum_100_bin_outdoorTemp_skew done\n",
      "indoorHum-outdoorHum_100_bin_outdoorHum_median done\n",
      "indoorHum-outdoorHum_100_bin_outdoorHum_mean done\n",
      "indoorHum-outdoorHum_100_bin_outdoorHum_max done\n",
      "indoorHum-outdoorHum_100_bin_outdoorHum_min done\n",
      "indoorHum-outdoorHum_100_bin_outdoorHum_std done\n",
      "indoorHum-outdoorHum_100_bin_outdoorHum_sum done\n"
     ]
    },
    {
     "name": "stderr",
     "output_type": "stream",
     "text": [
      "\r",
      " 80%|██████████████████████████████████████████████████████████████▌               | 1514/1889 [00:35<00:10, 37.39it/s]"
     ]
    },
    {
     "name": "stdout",
     "output_type": "stream",
     "text": [
      "indoorHum-outdoorHum_100_bin_outdoorHum_skew done\n",
      "indoorHum-outdoorHum_100_bin_outdoorAtmo_median done\n",
      "indoorHum-outdoorHum_100_bin_outdoorAtmo_mean done\n",
      "indoorHum-outdoorHum_100_bin_outdoorAtmo_max done\n",
      "indoorHum-outdoorHum_100_bin_outdoorAtmo_min done\n",
      "indoorHum-outdoorHum_100_bin_outdoorAtmo_std done\n"
     ]
    },
    {
     "name": "stderr",
     "output_type": "stream",
     "text": [
      " 81%|██████████████████████████████████████████████████████████████▊               | 1522/1889 [00:35<00:09, 36.71it/s]"
     ]
    },
    {
     "name": "stdout",
     "output_type": "stream",
     "text": [
      "indoorHum-outdoorHum_100_bin_outdoorAtmo_sum done\n",
      "indoorHum-outdoorHum_100_bin_outdoorAtmo_skew done\n",
      "indoorHum-outdoorHum_100_bin_indoorHum_median done\n",
      "indoorHum-outdoorHum_100_bin_indoorHum_mean done\n",
      "indoorHum-outdoorHum_100_bin_indoorHum_max done\n",
      "indoorHum-outdoorHum_100_bin_indoorHum_min done\n",
      "indoorHum-outdoorHum_100_bin_indoorHum_std done\n",
      "indoorHum-outdoorHum_100_bin_indoorHum_sum done"
     ]
    },
    {
     "name": "stderr",
     "output_type": "stream",
     "text": [
      " 81%|███████████████████████████████████████████████████████████████▏              | 1530/1889 [00:36<00:09, 37.16it/s]"
     ]
    },
    {
     "name": "stdout",
     "output_type": "stream",
     "text": [
      "\n",
      "indoorHum-outdoorHum_100_bin_indoorHum_skew done\n",
      "indoorHum-outdoorHum_100_bin_indoorAtmo_median done\n",
      "indoorHum-outdoorHum_100_bin_indoorAtmo_mean done\n",
      "indoorHum-outdoorHum_100_bin_indoorAtmo_max done\n",
      "indoorHum-outdoorHum_100_bin_indoorAtmo_min done\n",
      "indoorHum-outdoorHum_100_bin_indoorAtmo_std done\n",
      "indoorHum-outdoorHum_100_bin_indoorAtmo_sum done\n"
     ]
    },
    {
     "name": "stderr",
     "output_type": "stream",
     "text": [
      " 81%|███████████████████████████████████████████████████████████████▌              | 1538/1889 [00:36<00:09, 37.49it/s]"
     ]
    },
    {
     "name": "stdout",
     "output_type": "stream",
     "text": [
      "indoorHum-outdoorHum_100_bin_indoorAtmo_skew done\n",
      "indoorHum-outdoorHum_100_bin_indoorAtmo-outdoorAtmo_median done\n",
      "indoorHum-outdoorHum_100_bin_indoorAtmo-outdoorAtmo_mean done\n",
      "indoorHum-outdoorHum_100_bin_indoorAtmo-outdoorAtmo_max done\n",
      "indoorHum-outdoorHum_100_bin_indoorAtmo-outdoorAtmo_min done\n",
      "indoorHum-outdoorHum_100_bin_indoorAtmo-outdoorAtmo_std done\n",
      "indoorHum-outdoorHum_100_bin_indoorAtmo-outdoorAtmo_sum done\n",
      "indoorHum-outdoorHum_100_bin_indoorAtmo-outdoorAtmo_skew done\n"
     ]
    },
    {
     "name": "stderr",
     "output_type": "stream",
     "text": [
      " 82%|███████████████████████████████████████████████████████████████▉              | 1547/1889 [00:36<00:08, 39.54it/s]"
     ]
    },
    {
     "name": "stdout",
     "output_type": "stream",
     "text": [
      "indoorHum-outdoorHum_100_bin_indoorHum-outdoorHum_median done\n",
      "indoorHum-outdoorHum_100_bin_indoorHum-outdoorHum_mean done\n",
      "indoorHum-outdoorHum_100_bin_indoorHum-outdoorHum_max done\n",
      "indoorHum-outdoorHum_100_bin_indoorHum-outdoorHum_min done\n",
      "indoorHum-outdoorHum_100_bin_indoorHum-outdoorHum_std done\n",
      "indoorHum-outdoorHum_100_bin_indoorHum-outdoorHum_sum done\n",
      "indoorHum-outdoorHum_100_bin_indoorHum-outdoorHum_skew done\n",
      "outdoorTemp_200_bin_outdoorTemp_median done\n",
      "outdoorTemp_200_bin_outdoorTemp_mean done\n"
     ]
    },
    {
     "name": "stderr",
     "output_type": "stream",
     "text": [
      " 82%|████████████████████████████████████████████████████████████████▏             | 1556/1889 [00:36<00:08, 40.73it/s]"
     ]
    },
    {
     "name": "stdout",
     "output_type": "stream",
     "text": [
      "outdoorTemp_200_bin_outdoorTemp_max done\n",
      "outdoorTemp_200_bin_outdoorTemp_min done\n",
      "outdoorTemp_200_bin_outdoorTemp_std done\n",
      "outdoorTemp_200_bin_outdoorTemp_sum done\n",
      "outdoorTemp_200_bin_outdoorTemp_skew done\n",
      "outdoorTemp_200_bin_outdoorHum_median done\n",
      "outdoorTemp_200_bin_outdoorHum_mean done\n",
      "outdoorTemp_200_bin_outdoorHum_max done\n",
      "outdoorTemp_200_bin_outdoorHum_min done\n"
     ]
    },
    {
     "name": "stderr",
     "output_type": "stream",
     "text": [
      "\r",
      " 83%|████████████████████████████████████████████████████████████████▍             | 1561/1889 [00:36<00:08, 39.58it/s]"
     ]
    },
    {
     "name": "stdout",
     "output_type": "stream",
     "text": [
      "outdoorTemp_200_bin_outdoorHum_std done\n",
      "outdoorTemp_200_bin_outdoorHum_sum done\n",
      "outdoorTemp_200_bin_outdoorHum_skew done\n",
      "outdoorTemp_200_bin_outdoorAtmo_median done\n",
      "outdoorTemp_200_bin_outdoorAtmo_mean done\n",
      "outdoorTemp_200_bin_outdoorAtmo_max done\n",
      "outdoorTemp_200_bin_outdoorAtmo_min"
     ]
    },
    {
     "name": "stderr",
     "output_type": "stream",
     "text": [
      " 83%|████████████████████████████████████████████████████████████████▊             | 1569/1889 [00:37<00:08, 37.35it/s]"
     ]
    },
    {
     "name": "stdout",
     "output_type": "stream",
     "text": [
      " done\n",
      "outdoorTemp_200_bin_outdoorAtmo_std done\n",
      "outdoorTemp_200_bin_outdoorAtmo_sum done\n",
      "outdoorTemp_200_bin_outdoorAtmo_skew done\n",
      "outdoorTemp_200_bin_indoorHum_median done\n",
      "outdoorTemp_200_bin_indoorHum_mean done\n",
      "outdoorTemp_200_bin_indoorHum_max done\n",
      "outdoorTemp_200_bin_indoorHum_min done\n"
     ]
    },
    {
     "name": "stderr",
     "output_type": "stream",
     "text": [
      " 83%|█████████████████████████████████████████████████████████████████             | 1577/1889 [00:37<00:08, 35.28it/s]"
     ]
    },
    {
     "name": "stdout",
     "output_type": "stream",
     "text": [
      "outdoorTemp_200_bin_indoorHum_std done\n",
      "outdoorTemp_200_bin_indoorHum_sum done\n",
      "outdoorTemp_200_bin_indoorHum_skew done\n",
      "outdoorTemp_200_bin_indoorAtmo_median done\n",
      "outdoorTemp_200_bin_indoorAtmo_mean done\n",
      "outdoorTemp_200_bin_indoorAtmo_max done\n",
      "outdoorTemp_200_bin_indoorAtmo_min done\n"
     ]
    },
    {
     "name": "stderr",
     "output_type": "stream",
     "text": [
      "\r",
      " 84%|█████████████████████████████████████████████████████████████████▎            | 1581/1889 [00:37<00:09, 32.17it/s]"
     ]
    },
    {
     "name": "stdout",
     "output_type": "stream",
     "text": [
      "outdoorTemp_200_bin_indoorAtmo_std done\n",
      "outdoorTemp_200_bin_indoorAtmo_sum done\n",
      "outdoorTemp_200_bin_indoorAtmo_skew done\n",
      "outdoorTemp_200_bin_indoorAtmo-outdoorAtmo_median done\n",
      "outdoorTemp_200_bin_indoorAtmo-outdoorAtmo_mean done\n",
      "outdoorTemp_200_bin_indoorAtmo-outdoorAtmo_max done\n"
     ]
    },
    {
     "name": "stderr",
     "output_type": "stream",
     "text": [
      "\r",
      " 84%|█████████████████████████████████████████████████████████████████▍            | 1585/1889 [00:37<00:09, 30.95it/s]"
     ]
    },
    {
     "name": "stdout",
     "output_type": "stream",
     "text": [
      "outdoorTemp_200_bin_indoorAtmo-outdoorAtmo_min done\n",
      "outdoorTemp_200_bin_indoorAtmo-outdoorAtmo_std done\n",
      "outdoorTemp_200_bin_indoorAtmo-outdoorAtmo_sum done\n",
      "outdoorTemp_200_bin_indoorAtmo-outdoorAtmo_skew done\n"
     ]
    },
    {
     "name": "stderr",
     "output_type": "stream",
     "text": [
      " 84%|█████████████████████████████████████████████████████████████████▋            | 1592/1889 [00:37<00:10, 27.54it/s]"
     ]
    },
    {
     "name": "stdout",
     "output_type": "stream",
     "text": [
      "outdoorTemp_200_bin_indoorHum-outdoorHum_median done\n",
      "outdoorTemp_200_bin_indoorHum-outdoorHum_mean done\n",
      "outdoorTemp_200_bin_indoorHum-outdoorHum_max done\n",
      "outdoorTemp_200_bin_indoorHum-outdoorHum_min done\n",
      "outdoorTemp_200_bin_indoorHum-outdoorHum_std done\n",
      "outdoorTemp_200_bin_indoorHum-outdoorHum_sum done\n"
     ]
    },
    {
     "name": "stderr",
     "output_type": "stream",
     "text": [
      " 85%|██████████████████████████████████████████████████████████████████            | 1599/1889 [00:38<00:10, 28.32it/s]"
     ]
    },
    {
     "name": "stdout",
     "output_type": "stream",
     "text": [
      "outdoorTemp_200_bin_indoorHum-outdoorHum_skew done\n",
      "outdoorHum_200_bin_outdoorTemp_median done\n",
      "outdoorHum_200_bin_outdoorTemp_mean done\n",
      "outdoorHum_200_bin_outdoorTemp_max done\n",
      "outdoorHum_200_bin_outdoorTemp_min done\n",
      "outdoorHum_200_bin_outdoorTemp_std done\n"
     ]
    },
    {
     "name": "stderr",
     "output_type": "stream",
     "text": [
      "\r",
      " 85%|██████████████████████████████████████████████████████████████████▏           | 1602/1889 [00:38<00:10, 26.12it/s]"
     ]
    },
    {
     "name": "stdout",
     "output_type": "stream",
     "text": [
      "outdoorHum_200_bin_outdoorTemp_sum done\n",
      "outdoorHum_200_bin_outdoorTemp_skew done\n",
      "outdoorHum_200_bin_outdoorHum_median done\n",
      "outdoorHum_200_bin_outdoorHum_mean done\n"
     ]
    },
    {
     "name": "stderr",
     "output_type": "stream",
     "text": [
      " 85%|██████████████████████████████████████████████████████████████████▍           | 1608/1889 [00:38<00:11, 23.69it/s]"
     ]
    },
    {
     "name": "stdout",
     "output_type": "stream",
     "text": [
      "outdoorHum_200_bin_outdoorHum_max done\n",
      "outdoorHum_200_bin_outdoorHum_min done\n",
      "outdoorHum_200_bin_outdoorHum_std done\n",
      "outdoorHum_200_bin_outdoorHum_sum done\n",
      "outdoorHum_200_bin_outdoorHum_skew done\n"
     ]
    },
    {
     "name": "stderr",
     "output_type": "stream",
     "text": [
      " 85%|██████████████████████████████████████████████████████████████████▋           | 1614/1889 [00:38<00:11, 23.57it/s]"
     ]
    },
    {
     "name": "stdout",
     "output_type": "stream",
     "text": [
      "outdoorHum_200_bin_outdoorAtmo_median done\n",
      "outdoorHum_200_bin_outdoorAtmo_mean done\n",
      "outdoorHum_200_bin_outdoorAtmo_max done\n",
      "outdoorHum_200_bin_outdoorAtmo_min done\n",
      "outdoorHum_200_bin_outdoorAtmo_std done\n",
      "outdoorHum_200_bin_outdoorAtmo_sum"
     ]
    },
    {
     "name": "stderr",
     "output_type": "stream",
     "text": [
      " 86%|██████████████████████████████████████████████████████████████████▉           | 1620/1889 [00:39<00:10, 26.03it/s]"
     ]
    },
    {
     "name": "stdout",
     "output_type": "stream",
     "text": [
      " done\n",
      "outdoorHum_200_bin_outdoorAtmo_skew done\n",
      "outdoorHum_200_bin_indoorHum_median done\n",
      "outdoorHum_200_bin_indoorHum_mean done\n",
      "outdoorHum_200_bin_indoorHum_max done\n",
      "outdoorHum_200_bin_indoorHum_min done\n"
     ]
    },
    {
     "name": "stderr",
     "output_type": "stream",
     "text": [
      " 86%|███████████████████████████████████████████████████████████████████▏          | 1626/1889 [00:39<00:09, 27.46it/s]"
     ]
    },
    {
     "name": "stdout",
     "output_type": "stream",
     "text": [
      "outdoorHum_200_bin_indoorHum_std done\n",
      "outdoorHum_200_bin_indoorHum_sum done\n",
      "outdoorHum_200_bin_indoorHum_skew done\n",
      "outdoorHum_200_bin_indoorAtmo_median done\n",
      "outdoorHum_200_bin_indoorAtmo_mean done\n",
      "outdoorHum_200_bin_indoorAtmo_max done\n"
     ]
    },
    {
     "name": "stderr",
     "output_type": "stream",
     "text": [
      "\r",
      " 86%|███████████████████████████████████████████████████████████████████▎          | 1630/1889 [00:39<00:09, 28.39it/s]"
     ]
    },
    {
     "name": "stdout",
     "output_type": "stream",
     "text": [
      "outdoorHum_200_bin_indoorAtmo_min done\n",
      "outdoorHum_200_bin_indoorAtmo_std done\n",
      "outdoorHum_200_bin_indoorAtmo_sum done\n",
      "outdoorHum_200_bin_indoorAtmo_skew done\n",
      "outdoorHum_200_bin_indoorAtmo-outdoorAtmo_median done\n",
      "outdoorHum_200_bin_indoorAtmo-outdoorAtmo_mean done\n"
     ]
    },
    {
     "name": "stderr",
     "output_type": "stream",
     "text": [
      " 87%|███████████████████████████████████████████████████████████████████▌          | 1636/1889 [00:39<00:09, 25.65it/s]"
     ]
    },
    {
     "name": "stdout",
     "output_type": "stream",
     "text": [
      "outdoorHum_200_bin_indoorAtmo-outdoorAtmo_max done\n",
      "outdoorHum_200_bin_indoorAtmo-outdoorAtmo_min done\n",
      "outdoorHum_200_bin_indoorAtmo-outdoorAtmo_std done\n",
      "outdoorHum_200_bin_indoorAtmo-outdoorAtmo_sum done\n",
      "outdoorHum_200_bin_indoorAtmo-outdoorAtmo_skew done\n"
     ]
    },
    {
     "name": "stderr",
     "output_type": "stream",
     "text": [
      " 87%|███████████████████████████████████████████████████████████████████▊          | 1642/1889 [00:39<00:09, 25.95it/s]"
     ]
    },
    {
     "name": "stdout",
     "output_type": "stream",
     "text": [
      "outdoorHum_200_bin_indoorHum-outdoorHum_median done\n",
      "outdoorHum_200_bin_indoorHum-outdoorHum_mean done\n",
      "outdoorHum_200_bin_indoorHum-outdoorHum_max done\n",
      "outdoorHum_200_bin_indoorHum-outdoorHum_min done\n",
      "outdoorHum_200_bin_indoorHum-outdoorHum_std done\n",
      "outdoorHum_200_bin_indoorHum-outdoorHum_sum done\n"
     ]
    },
    {
     "name": "stderr",
     "output_type": "stream",
     "text": [
      " 87%|████████████████████████████████████████████████████████████████████▏         | 1650/1889 [00:40<00:08, 29.10it/s]"
     ]
    },
    {
     "name": "stdout",
     "output_type": "stream",
     "text": [
      "outdoorHum_200_bin_indoorHum-outdoorHum_skew done\n",
      "outdoorAtmo_200_bin_outdoorTemp_median done\n",
      "outdoorAtmo_200_bin_outdoorTemp_mean done\n",
      "outdoorAtmo_200_bin_outdoorTemp_max done\n",
      "outdoorAtmo_200_bin_outdoorTemp_min done\n",
      "outdoorAtmo_200_bin_outdoorTemp_std done\n",
      "outdoorAtmo_200_bin_outdoorTemp_sum done\n"
     ]
    },
    {
     "name": "stderr",
     "output_type": "stream",
     "text": [
      " 88%|████████████████████████████████████████████████████████████████████▍         | 1658/1889 [00:40<00:07, 32.86it/s]"
     ]
    },
    {
     "name": "stdout",
     "output_type": "stream",
     "text": [
      "outdoorAtmo_200_bin_outdoorTemp_skew done\n",
      "outdoorAtmo_200_bin_outdoorHum_median done\n",
      "outdoorAtmo_200_bin_outdoorHum_mean done\n",
      "outdoorAtmo_200_bin_outdoorHum_max done\n",
      "outdoorAtmo_200_bin_outdoorHum_min done\n",
      "outdoorAtmo_200_bin_outdoorHum_std done\n",
      "outdoorAtmo_200_bin_outdoorHum_sum done\n",
      "outdoorAtmo_200_bin_outdoorHum_skew done\n"
     ]
    },
    {
     "name": "stderr",
     "output_type": "stream",
     "text": [
      " 88%|████████████████████████████████████████████████████████████████████▊         | 1666/1889 [00:40<00:06, 35.20it/s]"
     ]
    },
    {
     "name": "stdout",
     "output_type": "stream",
     "text": [
      "outdoorAtmo_200_bin_outdoorAtmo_median done\n",
      "outdoorAtmo_200_bin_outdoorAtmo_mean done\n",
      "outdoorAtmo_200_bin_outdoorAtmo_max done\n",
      "outdoorAtmo_200_bin_outdoorAtmo_min done\n",
      "outdoorAtmo_200_bin_outdoorAtmo_std done\n",
      "outdoorAtmo_200_bin_outdoorAtmo_sum done\n",
      "outdoorAtmo_200_bin_outdoorAtmo_skew done\n",
      "outdoorAtmo_200_bin_indoorHum_median done\n"
     ]
    },
    {
     "name": "stderr",
     "output_type": "stream",
     "text": [
      "\r",
      " 88%|████████████████████████████████████████████████████████████████████▉         | 1671/1889 [00:40<00:05, 36.87it/s]"
     ]
    },
    {
     "name": "stdout",
     "output_type": "stream",
     "text": [
      "outdoorAtmo_200_bin_indoorHum_mean done\n",
      "outdoorAtmo_200_bin_indoorHum_max done\n",
      "outdoorAtmo_200_bin_indoorHum_min done\n",
      "outdoorAtmo_200_bin_indoorHum_std done\n",
      "outdoorAtmo_200_bin_indoorHum_sum done\n",
      "outdoorAtmo_200_bin_indoorHum_skew done\n",
      "outdoorAtmo_200_bin_indoorAtmo_median done\n",
      "outdoorAtmo_200_bin_indoorAtmo_mean done\n"
     ]
    },
    {
     "name": "stderr",
     "output_type": "stream",
     "text": [
      " 89%|█████████████████████████████████████████████████████████████████████▎        | 1679/1889 [00:40<00:05, 36.25it/s]"
     ]
    },
    {
     "name": "stdout",
     "output_type": "stream",
     "text": [
      "outdoorAtmo_200_bin_indoorAtmo_max done\n",
      "outdoorAtmo_200_bin_indoorAtmo_min done\n",
      "outdoorAtmo_200_bin_indoorAtmo_std done\n",
      "outdoorAtmo_200_bin_indoorAtmo_sum done\n",
      "outdoorAtmo_200_bin_indoorAtmo_skew done\n",
      "outdoorAtmo_200_bin_indoorAtmo-outdoorAtmo_median done\n",
      "outdoorAtmo_200_bin_indoorAtmo-outdoorAtmo_mean done\n",
      "outdoorAtmo_200_bin_indoorAtmo-outdoorAtmo_max done\n"
     ]
    },
    {
     "name": "stderr",
     "output_type": "stream",
     "text": [
      " 89%|█████████████████████████████████████████████████████████████████████▋        | 1687/1889 [00:41<00:05, 37.18it/s]"
     ]
    },
    {
     "name": "stdout",
     "output_type": "stream",
     "text": [
      "outdoorAtmo_200_bin_indoorAtmo-outdoorAtmo_min done\n",
      "outdoorAtmo_200_bin_indoorAtmo-outdoorAtmo_std done\n",
      "outdoorAtmo_200_bin_indoorAtmo-outdoorAtmo_sum done\n",
      "outdoorAtmo_200_bin_indoorAtmo-outdoorAtmo_skew done\n",
      "outdoorAtmo_200_bin_indoorHum-outdoorHum_median done\n",
      "outdoorAtmo_200_bin_indoorHum-outdoorHum_mean done\n",
      "outdoorAtmo_200_bin_indoorHum-outdoorHum_max done\n",
      "outdoorAtmo_200_bin_indoorHum-outdoorHum_min done\n"
     ]
    },
    {
     "name": "stderr",
     "output_type": "stream",
     "text": [
      " 90%|█████████████████████████████████████████████████████████████████████▉        | 1695/1889 [00:41<00:05, 37.16it/s]"
     ]
    },
    {
     "name": "stdout",
     "output_type": "stream",
     "text": [
      "outdoorAtmo_200_bin_indoorHum-outdoorHum_std done\n",
      "outdoorAtmo_200_bin_indoorHum-outdoorHum_sum done\n",
      "outdoorAtmo_200_bin_indoorHum-outdoorHum_skew done\n",
      "indoorHum_200_bin_outdoorTemp_median done\n",
      "indoorHum_200_bin_outdoorTemp_mean done\n",
      "indoorHum_200_bin_outdoorTemp_max done\n",
      "indoorHum_200_bin_outdoorTemp_min done\n",
      "indoorHum_200_bin_outdoorTemp_std done\n"
     ]
    },
    {
     "name": "stderr",
     "output_type": "stream",
     "text": [
      " 90%|██████████████████████████████████████████████████████████████████████▎       | 1703/1889 [00:41<00:05, 36.45it/s]"
     ]
    },
    {
     "name": "stdout",
     "output_type": "stream",
     "text": [
      "indoorHum_200_bin_outdoorTemp_sum done\n",
      "indoorHum_200_bin_outdoorTemp_skew done\n",
      "indoorHum_200_bin_outdoorHum_median done\n",
      "indoorHum_200_bin_outdoorHum_mean done\n",
      "indoorHum_200_bin_outdoorHum_max done\n",
      "indoorHum_200_bin_outdoorHum_min done\n",
      "indoorHum_200_bin_outdoorHum_std done\n",
      "indoorHum_200_bin_outdoorHum_sum done\n"
     ]
    },
    {
     "name": "stderr",
     "output_type": "stream",
     "text": [
      " 91%|██████████████████████████████████████████████████████████████████████▋       | 1711/1889 [00:41<00:04, 36.83it/s]"
     ]
    },
    {
     "name": "stdout",
     "output_type": "stream",
     "text": [
      "indoorHum_200_bin_outdoorHum_skew done\n",
      "indoorHum_200_bin_outdoorAtmo_median done\n",
      "indoorHum_200_bin_outdoorAtmo_mean done\n",
      "indoorHum_200_bin_outdoorAtmo_max done\n",
      "indoorHum_200_bin_outdoorAtmo_min done\n",
      "indoorHum_200_bin_outdoorAtmo_std done\n",
      "indoorHum_200_bin_outdoorAtmo_sum done\n",
      "indoorHum_200_bin_outdoorAtmo_skew done\n"
     ]
    },
    {
     "name": "stderr",
     "output_type": "stream",
     "text": [
      " 91%|██████████████████████████████████████████████████████████████████████▉       | 1719/1889 [00:42<00:04, 37.39it/s]"
     ]
    },
    {
     "name": "stdout",
     "output_type": "stream",
     "text": [
      "indoorHum_200_bin_indoorHum_median done\n",
      "indoorHum_200_bin_indoorHum_mean done\n",
      "indoorHum_200_bin_indoorHum_max done\n",
      "indoorHum_200_bin_indoorHum_min done\n",
      "indoorHum_200_bin_indoorHum_std done\n",
      "indoorHum_200_bin_indoorHum_sum done\n",
      "indoorHum_200_bin_indoorHum_skew done\n",
      "indoorHum_200_bin_indoorAtmo_median done\n",
      "indoorHum_200_bin_indoorAtmo_mean done\n"
     ]
    },
    {
     "name": "stderr",
     "output_type": "stream",
     "text": [
      " 92%|███████████████████████████████████████████████████████████████████████▌      | 1732/1889 [00:42<00:04, 38.63it/s]"
     ]
    },
    {
     "name": "stdout",
     "output_type": "stream",
     "text": [
      "indoorHum_200_bin_indoorAtmo_max done\n",
      "indoorHum_200_bin_indoorAtmo_min done\n",
      "indoorHum_200_bin_indoorAtmo_std done\n",
      "indoorHum_200_bin_indoorAtmo_sum done\n",
      "indoorHum_200_bin_indoorAtmo_skew done\n",
      "indoorHum_200_bin_indoorAtmo-outdoorAtmo_median done\n",
      "indoorHum_200_bin_indoorAtmo-outdoorAtmo_mean done\n",
      "indoorHum_200_bin_indoorAtmo-outdoorAtmo_max done\n",
      "indoorHum_200_bin_indoorAtmo-outdoorAtmo_min done\n"
     ]
    },
    {
     "name": "stderr",
     "output_type": "stream",
     "text": [
      " 92%|███████████████████████████████████████████████████████████████████████▊      | 1740/1889 [00:42<00:03, 38.68it/s]"
     ]
    },
    {
     "name": "stdout",
     "output_type": "stream",
     "text": [
      "indoorHum_200_bin_indoorAtmo-outdoorAtmo_std done\n",
      "indoorHum_200_bin_indoorAtmo-outdoorAtmo_sum done\n",
      "indoorHum_200_bin_indoorAtmo-outdoorAtmo_skew done\n",
      "indoorHum_200_bin_indoorHum-outdoorHum_median done\n",
      "indoorHum_200_bin_indoorHum-outdoorHum_mean done\n",
      "indoorHum_200_bin_indoorHum-outdoorHum_max done\n",
      "indoorHum_200_bin_indoorHum-outdoorHum_min done\n",
      "indoorHum_200_bin_indoorHum-outdoorHum_std done\n"
     ]
    },
    {
     "name": "stderr",
     "output_type": "stream",
     "text": [
      " 93%|████████████████████████████████████████████████████████████████████████▏     | 1748/1889 [00:42<00:03, 38.76it/s]"
     ]
    },
    {
     "name": "stdout",
     "output_type": "stream",
     "text": [
      "indoorHum_200_bin_indoorHum-outdoorHum_sum done\n",
      "indoorHum_200_bin_indoorHum-outdoorHum_skew done\n",
      "indoorAtmo_200_bin_outdoorTemp_median done\n",
      "indoorAtmo_200_bin_outdoorTemp_mean done\n",
      "indoorAtmo_200_bin_outdoorTemp_max done\n",
      "indoorAtmo_200_bin_outdoorTemp_min done\n",
      "indoorAtmo_200_bin_outdoorTemp_std done\n",
      "indoorAtmo_200_bin_outdoorTemp_sum done\n",
      "indoorAtmo_200_bin_outdoorTemp_skew done\n"
     ]
    },
    {
     "name": "stderr",
     "output_type": "stream",
     "text": [
      " 93%|████████████████████████████████████████████████████████████████████████▌     | 1758/1889 [00:43<00:03, 39.49it/s]"
     ]
    },
    {
     "name": "stdout",
     "output_type": "stream",
     "text": [
      "indoorAtmo_200_bin_outdoorHum_median done\n",
      "indoorAtmo_200_bin_outdoorHum_mean done\n",
      "indoorAtmo_200_bin_outdoorHum_max done\n",
      "indoorAtmo_200_bin_outdoorHum_min done\n",
      "indoorAtmo_200_bin_outdoorHum_std done\n",
      "indoorAtmo_200_bin_outdoorHum_sum done\n",
      "indoorAtmo_200_bin_outdoorHum_skew done\n",
      "indoorAtmo_200_bin_outdoorAtmo_median done\n",
      "indoorAtmo_200_bin_outdoorAtmo_mean done\n"
     ]
    },
    {
     "name": "stderr",
     "output_type": "stream",
     "text": [
      " 94%|████████████████████████████████████████████████████████████████████████▉     | 1767/1889 [00:43<00:03, 39.71it/s]"
     ]
    },
    {
     "name": "stdout",
     "output_type": "stream",
     "text": [
      "indoorAtmo_200_bin_outdoorAtmo_max done\n",
      "indoorAtmo_200_bin_outdoorAtmo_min done\n",
      "indoorAtmo_200_bin_outdoorAtmo_std done\n",
      "indoorAtmo_200_bin_outdoorAtmo_sum done\n",
      "indoorAtmo_200_bin_outdoorAtmo_skew done\n",
      "indoorAtmo_200_bin_indoorHum_median done\n",
      "indoorAtmo_200_bin_indoorHum_mean done\n",
      "indoorAtmo_200_bin_indoorHum_max done\n",
      "indoorAtmo_200_bin_indoorHum_min done\n"
     ]
    },
    {
     "name": "stderr",
     "output_type": "stream",
     "text": [
      " 94%|█████████████████████████████████████████████████████████████████████████▎    | 1775/1889 [00:43<00:02, 39.04it/s]"
     ]
    },
    {
     "name": "stdout",
     "output_type": "stream",
     "text": [
      "indoorAtmo_200_bin_indoorHum_std done\n",
      "indoorAtmo_200_bin_indoorHum_sum done\n",
      "indoorAtmo_200_bin_indoorHum_skew done\n",
      "indoorAtmo_200_bin_indoorAtmo_median done\n",
      "indoorAtmo_200_bin_indoorAtmo_mean done\n",
      "indoorAtmo_200_bin_indoorAtmo_max done\n",
      "indoorAtmo_200_bin_indoorAtmo_min done\n",
      "indoorAtmo_200_bin_indoorAtmo_std done\n"
     ]
    },
    {
     "name": "stderr",
     "output_type": "stream",
     "text": [
      "\r",
      " 94%|█████████████████████████████████████████████████████████████████████████▍    | 1780/1889 [00:43<00:02, 39.35it/s]"
     ]
    },
    {
     "name": "stdout",
     "output_type": "stream",
     "text": [
      "indoorAtmo_200_bin_indoorAtmo_sum done\n",
      "indoorAtmo_200_bin_indoorAtmo_skew done\n",
      "indoorAtmo_200_bin_indoorAtmo-outdoorAtmo_median done\n",
      "indoorAtmo_200_bin_indoorAtmo-outdoorAtmo_mean done\n",
      "indoorAtmo_200_bin_indoorAtmo-outdoorAtmo_max done\n",
      "indoorAtmo_200_bin_indoorAtmo-outdoorAtmo_min done\n",
      "indoorAtmo_200_bin_indoorAtmo-outdoorAtmo_std done\n",
      "indoorAtmo_200_bin_indoorAtmo-outdoorAtmo_sum done\n"
     ]
    },
    {
     "name": "stderr",
     "output_type": "stream",
     "text": [
      " 95%|█████████████████████████████████████████████████████████████████████████▊    | 1788/1889 [00:43<00:02, 39.09it/s]"
     ]
    },
    {
     "name": "stdout",
     "output_type": "stream",
     "text": [
      "indoorAtmo_200_bin_indoorAtmo-outdoorAtmo_skew done\n",
      "indoorAtmo_200_bin_indoorHum-outdoorHum_median done\n",
      "indoorAtmo_200_bin_indoorHum-outdoorHum_mean done\n",
      "indoorAtmo_200_bin_indoorHum-outdoorHum_max done\n",
      "indoorAtmo_200_bin_indoorHum-outdoorHum_min done\n",
      "indoorAtmo_200_bin_indoorHum-outdoorHum_std done\n",
      "indoorAtmo_200_bin_indoorHum-outdoorHum_sum done\n",
      "indoorAtmo_200_bin_indoorHum-outdoorHum_skew"
     ]
    },
    {
     "name": "stderr",
     "output_type": "stream",
     "text": [
      " 95%|██████████████████████████████████████████████████████████████████████████▏   | 1798/1889 [00:44<00:02, 41.71it/s]"
     ]
    },
    {
     "name": "stdout",
     "output_type": "stream",
     "text": [
      " done\n",
      "indoorAtmo-outdoorAtmo_200_bin_outdoorTemp_median done\n",
      "indoorAtmo-outdoorAtmo_200_bin_outdoorTemp_mean done\n",
      "indoorAtmo-outdoorAtmo_200_bin_outdoorTemp_max done\n",
      "indoorAtmo-outdoorAtmo_200_bin_outdoorTemp_min done\n",
      "indoorAtmo-outdoorAtmo_200_bin_outdoorTemp_std done\n",
      "indoorAtmo-outdoorAtmo_200_bin_outdoorTemp_sum done\n",
      "indoorAtmo-outdoorAtmo_200_bin_outdoorTemp_skew done\n",
      "indoorAtmo-outdoorAtmo_200_bin_outdoorHum_median done\n",
      "indoorAtmo-outdoorAtmo_200_bin_outdoorHum_mean done\n"
     ]
    },
    {
     "name": "stderr",
     "output_type": "stream",
     "text": [
      " 96%|██████████████████████████████████████████████████████████████████████████▋   | 1809/1889 [00:44<00:01, 43.07it/s]"
     ]
    },
    {
     "name": "stdout",
     "output_type": "stream",
     "text": [
      "indoorAtmo-outdoorAtmo_200_bin_outdoorHum_max done\n",
      "indoorAtmo-outdoorAtmo_200_bin_outdoorHum_min done\n",
      "indoorAtmo-outdoorAtmo_200_bin_outdoorHum_std done\n",
      "indoorAtmo-outdoorAtmo_200_bin_outdoorHum_sum done\n",
      "indoorAtmo-outdoorAtmo_200_bin_outdoorHum_skew done\n",
      "indoorAtmo-outdoorAtmo_200_bin_outdoorAtmo_median done\n",
      "indoorAtmo-outdoorAtmo_200_bin_outdoorAtmo_mean done\n",
      "indoorAtmo-outdoorAtmo_200_bin_outdoorAtmo_max done\n",
      "indoorAtmo-outdoorAtmo_200_bin_outdoorAtmo_min done\n"
     ]
    },
    {
     "name": "stderr",
     "output_type": "stream",
     "text": [
      " 96%|███████████████████████████████████████████████████████████████████████████▏  | 1820/1889 [00:44<00:01, 46.67it/s]"
     ]
    },
    {
     "name": "stdout",
     "output_type": "stream",
     "text": [
      "indoorAtmo-outdoorAtmo_200_bin_outdoorAtmo_std done\n",
      "indoorAtmo-outdoorAtmo_200_bin_outdoorAtmo_sum done\n",
      "indoorAtmo-outdoorAtmo_200_bin_outdoorAtmo_skew done\n",
      "indoorAtmo-outdoorAtmo_200_bin_indoorHum_median done\n",
      "indoorAtmo-outdoorAtmo_200_bin_indoorHum_mean done\n",
      "indoorAtmo-outdoorAtmo_200_bin_indoorHum_max done\n",
      "indoorAtmo-outdoorAtmo_200_bin_indoorHum_min done\n",
      "indoorAtmo-outdoorAtmo_200_bin_indoorHum_std done\n",
      "indoorAtmo-outdoorAtmo_200_bin_indoorHum_sum done\n",
      "indoorAtmo-outdoorAtmo_200_bin_indoorHum_skew done\n",
      "indoorAtmo-outdoorAtmo_200_bin_indoorAtmo_median done\n"
     ]
    },
    {
     "name": "stderr",
     "output_type": "stream",
     "text": [
      "\r",
      " 97%|███████████████████████████████████████████████████████████████████████████▎  | 1825/1889 [00:44<00:01, 45.21it/s]"
     ]
    },
    {
     "name": "stdout",
     "output_type": "stream",
     "text": [
      "indoorAtmo-outdoorAtmo_200_bin_indoorAtmo_mean done\n",
      "indoorAtmo-outdoorAtmo_200_bin_indoorAtmo_max done\n",
      "indoorAtmo-outdoorAtmo_200_bin_indoorAtmo_min done\n",
      "indoorAtmo-outdoorAtmo_200_bin_indoorAtmo_std done\n",
      "indoorAtmo-outdoorAtmo_200_bin_indoorAtmo_sum done\n",
      "indoorAtmo-outdoorAtmo_200_bin_indoorAtmo_skew done\n",
      "indoorAtmo-outdoorAtmo_200_bin_indoorAtmo-outdoorAtmo_median done\n",
      "indoorAtmo-outdoorAtmo_200_bin_indoorAtmo-outdoorAtmo_mean done\n",
      "indoorAtmo-outdoorAtmo_200_bin_indoorAtmo-outdoorAtmo_max done\n",
      "indoorAtmo-outdoorAtmo_200_bin_indoorAtmo-outdoorAtmo_min done\n"
     ]
    },
    {
     "name": "stderr",
     "output_type": "stream",
     "text": [
      " 97%|███████████████████████████████████████████████████████████████████████████▊  | 1836/1889 [00:44<00:01, 44.83it/s]"
     ]
    },
    {
     "name": "stdout",
     "output_type": "stream",
     "text": [
      "indoorAtmo-outdoorAtmo_200_bin_indoorAtmo-outdoorAtmo_std done\n",
      "indoorAtmo-outdoorAtmo_200_bin_indoorAtmo-outdoorAtmo_sum done\n",
      "indoorAtmo-outdoorAtmo_200_bin_indoorAtmo-outdoorAtmo_skew done\n",
      "indoorAtmo-outdoorAtmo_200_bin_indoorHum-outdoorHum_median done\n",
      "indoorAtmo-outdoorAtmo_200_bin_indoorHum-outdoorHum_mean done\n",
      "indoorAtmo-outdoorAtmo_200_bin_indoorHum-outdoorHum_max done\n",
      "indoorAtmo-outdoorAtmo_200_bin_indoorHum-outdoorHum_min done\n",
      "indoorAtmo-outdoorAtmo_200_bin_indoorHum-outdoorHum_std done\n"
     ]
    },
    {
     "name": "stderr",
     "output_type": "stream",
     "text": [
      "\r",
      " 97%|████████████████████████████████████████████████████████████████████████████  | 1841/1889 [00:44<00:01, 39.61it/s]"
     ]
    },
    {
     "name": "stdout",
     "output_type": "stream",
     "text": [
      "indoorAtmo-outdoorAtmo_200_bin_indoorHum-outdoorHum_sum done\n",
      "indoorAtmo-outdoorAtmo_200_bin_indoorHum-outdoorHum_skew done\n",
      "indoorHum-outdoorHum_200_bin_outdoorTemp_median done\n",
      "indoorHum-outdoorHum_200_bin_outdoorTemp_mean done\n",
      "indoorHum-outdoorHum_200_bin_outdoorTemp_max done\n",
      "indoorHum-outdoorHum_200_bin_outdoorTemp_min done\n"
     ]
    },
    {
     "name": "stderr",
     "output_type": "stream",
     "text": [
      " 98%|████████████████████████████████████████████████████████████████████████████▍ | 1850/1889 [00:45<00:01, 34.23it/s]"
     ]
    },
    {
     "name": "stdout",
     "output_type": "stream",
     "text": [
      "indoorHum-outdoorHum_200_bin_outdoorTemp_std done\n",
      "indoorHum-outdoorHum_200_bin_outdoorTemp_sum done\n",
      "indoorHum-outdoorHum_200_bin_outdoorTemp_skew done\n",
      "indoorHum-outdoorHum_200_bin_outdoorHum_median done\n",
      "indoorHum-outdoorHum_200_bin_outdoorHum_mean done\n",
      "indoorHum-outdoorHum_200_bin_outdoorHum_max done\n",
      "indoorHum-outdoorHum_200_bin_outdoorHum_min done\n"
     ]
    },
    {
     "name": "stderr",
     "output_type": "stream",
     "text": [
      "\r",
      " 98%|████████████████████████████████████████████████████████████████████████████▌ | 1854/1889 [00:45<00:01, 31.65it/s]"
     ]
    },
    {
     "name": "stdout",
     "output_type": "stream",
     "text": [
      "indoorHum-outdoorHum_200_bin_outdoorHum_std done\n",
      "indoorHum-outdoorHum_200_bin_outdoorHum_sum done\n",
      "indoorHum-outdoorHum_200_bin_outdoorHum_skew done\n",
      "indoorHum-outdoorHum_200_bin_outdoorAtmo_median done\n",
      "indoorHum-outdoorHum_200_bin_outdoorAtmo_mean done\n",
      "indoorHum-outdoorHum_200_bin_outdoorAtmo_max done\n"
     ]
    },
    {
     "name": "stderr",
     "output_type": "stream",
     "text": [
      " 99%|████████████████████████████████████████████████████████████████████████████▉ | 1862/1889 [00:45<00:01, 26.88it/s]"
     ]
    },
    {
     "name": "stdout",
     "output_type": "stream",
     "text": [
      "indoorHum-outdoorHum_200_bin_outdoorAtmo_min done\n",
      "indoorHum-outdoorHum_200_bin_outdoorAtmo_std done\n",
      "indoorHum-outdoorHum_200_bin_outdoorAtmo_sum done\n",
      "indoorHum-outdoorHum_200_bin_outdoorAtmo_skew done\n",
      "indoorHum-outdoorHum_200_bin_indoorHum_median done\n"
     ]
    },
    {
     "name": "stderr",
     "output_type": "stream",
     "text": [
      "\r",
      " 99%|█████████████████████████████████████████████████████████████████████████████ | 1865/1889 [00:45<00:00, 26.24it/s]"
     ]
    },
    {
     "name": "stdout",
     "output_type": "stream",
     "text": [
      "indoorHum-outdoorHum_200_bin_indoorHum_mean done\n",
      "indoorHum-outdoorHum_200_bin_indoorHum_max done\n",
      "indoorHum-outdoorHum_200_bin_indoorHum_min done\n",
      "indoorHum-outdoorHum_200_bin_indoorHum_std done\n",
      "indoorHum-outdoorHum_200_bin_indoorHum_sum done\n"
     ]
    },
    {
     "name": "stderr",
     "output_type": "stream",
     "text": [
      " 99%|█████████████████████████████████████████████████████████████████████████████▎| 1871/1889 [00:46<00:00, 25.17it/s]"
     ]
    },
    {
     "name": "stdout",
     "output_type": "stream",
     "text": [
      "indoorHum-outdoorHum_200_bin_indoorHum_skew done\n",
      "indoorHum-outdoorHum_200_bin_indoorAtmo_median done\n",
      "indoorHum-outdoorHum_200_bin_indoorAtmo_mean done\n",
      "indoorHum-outdoorHum_200_bin_indoorAtmo_max done\n",
      "indoorHum-outdoorHum_200_bin_indoorAtmo_min done\n"
     ]
    },
    {
     "name": "stderr",
     "output_type": "stream",
     "text": [
      " 99%|█████████████████████████████████████████████████████████████████████████████▌| 1877/1889 [00:46<00:00, 23.99it/s]"
     ]
    },
    {
     "name": "stdout",
     "output_type": "stream",
     "text": [
      "indoorHum-outdoorHum_200_bin_indoorAtmo_std done\n",
      "indoorHum-outdoorHum_200_bin_indoorAtmo_sum done\n",
      "indoorHum-outdoorHum_200_bin_indoorAtmo_skew done\n",
      "indoorHum-outdoorHum_200_bin_indoorAtmo-outdoorAtmo_median done\n",
      "indoorHum-outdoorHum_200_bin_indoorAtmo-outdoorAtmo_mean done\n"
     ]
    },
    {
     "name": "stderr",
     "output_type": "stream",
     "text": [
      "100%|█████████████████████████████████████████████████████████████████████████████▊| 1883/1889 [00:46<00:00, 24.79it/s]"
     ]
    },
    {
     "name": "stdout",
     "output_type": "stream",
     "text": [
      "indoorHum-outdoorHum_200_bin_indoorAtmo-outdoorAtmo_max done\n",
      "indoorHum-outdoorHum_200_bin_indoorAtmo-outdoorAtmo_min done\n",
      "indoorHum-outdoorHum_200_bin_indoorAtmo-outdoorAtmo_std done\n",
      "indoorHum-outdoorHum_200_bin_indoorAtmo-outdoorAtmo_sum done\n",
      "indoorHum-outdoorHum_200_bin_indoorAtmo-outdoorAtmo_skew done\n",
      "indoorHum-outdoorHum_200_bin_indoorHum-outdoorHum_median done\n"
     ]
    },
    {
     "name": "stderr",
     "output_type": "stream",
     "text": [
      "\r",
      "100%|█████████████████████████████████████████████████████████████████████████████▉| 1886/1889 [00:46<00:00, 23.53it/s]"
     ]
    },
    {
     "name": "stdout",
     "output_type": "stream",
     "text": [
      "indoorHum-outdoorHum_200_bin_indoorHum-outdoorHum_mean done\n",
      "indoorHum-outdoorHum_200_bin_indoorHum-outdoorHum_max done\n",
      "indoorHum-outdoorHum_200_bin_indoorHum-outdoorHum_min done\n",
      "indoorHum-outdoorHum_200_bin_indoorHum-outdoorHum_std done\n",
      "indoorHum-outdoorHum_200_bin_indoorHum-outdoorHum_sum done\n"
     ]
    },
    {
     "name": "stderr",
     "output_type": "stream",
     "text": [
      "100%|██████████████████████████████████████████████████████████████████████████████| 1889/1889 [00:46<00:00, 40.26it/s]"
     ]
    },
    {
     "name": "stdout",
     "output_type": "stream",
     "text": [
      "indoorHum-outdoorHum_200_bin_indoorHum-outdoorHum_skew done\n"
     ]
    },
    {
     "name": "stderr",
     "output_type": "stream",
     "text": [
      "\n"
     ]
    }
   ],
   "source": [
    "psi_res, psi_dict = get_psi(x_train,x_test,features)\n",
    "features = list(psi_res[psi_res['PSI'] <= 0.2]['变量名'].values) + ['outdoorTemp']"
   ]
  },
  {
   "cell_type": "code",
   "execution_count": 23,
   "metadata": {
    "ExecuteTime": {
     "end_time": "2020-07-29T13:03:07.513816Z",
     "start_time": "2020-07-29T13:03:07.273423Z"
    }
   },
   "outputs": [],
   "source": [
    "x_train = train[features]\n",
    "x_test = test[features]"
   ]
  },
  {
   "cell_type": "code",
   "execution_count": 24,
   "metadata": {
    "ExecuteTime": {
     "end_time": "2020-07-29T13:09:05.939943Z",
     "start_time": "2020-07-29T13:03:07.518801Z"
    }
   },
   "outputs": [
    {
     "name": "stdout",
     "output_type": "stream",
     "text": [
      "[0]\ttrain-mae:0.57938\teval-mae:0.31365\n",
      "Multiple eval metrics have been passed: 'eval-mae' will be used for early stopping.\n",
      "\n",
      "Will train until eval-mae hasn't improved in 1000 rounds.\n",
      "[500]\ttrain-mae:0.01870\teval-mae:0.17339\n",
      "[1000]\ttrain-mae:0.01001\teval-mae:0.17389\n",
      "Stopping. Best iteration:\n",
      "[83]\ttrain-mae:0.05154\teval-mae:0.17178\n",
      "\n"
     ]
    }
   ],
   "source": [
    "nums = int(x_train.shape[0] * 0.8)\n",
    "\n",
    "trn_x, trn_y, val_x, val_y = x_train[:nums], y_train[:nums], x_train[nums:], y_train[nums:]\n",
    "\n",
    "train_matrix = xgb.DMatrix(trn_x, label=trn_y, missing=np.nan)\n",
    "valid_matrix = xgb.DMatrix(val_x, label=val_y, missing=np.nan)\n",
    "test_matrix = xgb.DMatrix(x_test, label=val_y, missing=np.nan)\n",
    "params = {\n",
    "    'booster': 'gbtree',\n",
    "    'eval_metric': 'mae',\n",
    "    'min_child_weight': 5,\n",
    "    'max_depth': 8,\n",
    "    'subsample': 0.5,\n",
    "    'colsample_bytree': 0.5,\n",
    "    'eta': 0.1,\n",
    "    'seed': 2020,\n",
    "    'nthread': 36,\n",
    "    'silent': True,\n",
    "}\n",
    "\n",
    "watchlist = [(train_matrix, 'train'), (valid_matrix, 'eval')]\n",
    "\n",
    "model = xgb.train(params,\n",
    "                  train_matrix,\n",
    "                  num_boost_round=50000,\n",
    "                  evals=watchlist,\n",
    "                  verbose_eval=500,\n",
    "                  early_stopping_rounds=1000)\n",
    "val_pred = model.predict(valid_matrix, ntree_limit=model.best_ntree_limit).reshape(-1, 1)\n",
    "test_pred = model.predict(test_matrix, ntree_limit=model.best_ntree_limit).reshape(-1, 1)"
   ]
  },
  {
   "cell_type": "code",
   "execution_count": 25,
   "metadata": {
    "ExecuteTime": {
     "end_time": "2020-07-29T13:09:05.961400Z",
     "start_time": "2020-07-29T13:09:05.942935Z"
    }
   },
   "outputs": [],
   "source": [
    "sub[\"temperature\"] = test_pred[:, 0] + test['outdoorTemp'].values\n",
    "sub.to_csv('../sub/sub_baseline_psi.csv', index=False)"
   ]
  }
 ],
 "metadata": {
  "kernelspec": {
   "display_name": "Python 3",
   "language": "python",
   "name": "python3"
  },
  "language_info": {
   "codemirror_mode": {
    "name": "ipython",
    "version": 3
   },
   "file_extension": ".py",
   "mimetype": "text/x-python",
   "name": "python",
   "nbconvert_exporter": "python",
   "pygments_lexer": "ipython3",
   "version": "3.7.3"
  },
  "toc": {
   "base_numbering": 1,
   "nav_menu": {},
   "number_sections": true,
   "sideBar": true,
   "skip_h1_title": false,
   "title_cell": "Table of Contents",
   "title_sidebar": "Contents",
   "toc_cell": false,
   "toc_position": {},
   "toc_section_display": true,
   "toc_window_display": false
  },
  "varInspector": {
   "cols": {
    "lenName": 16,
    "lenType": 16,
    "lenVar": 40
   },
   "kernels_config": {
    "python": {
     "delete_cmd_postfix": "",
     "delete_cmd_prefix": "del ",
     "library": "var_list.py",
     "varRefreshCmd": "print(var_dic_list())"
    },
    "r": {
     "delete_cmd_postfix": ") ",
     "delete_cmd_prefix": "rm(",
     "library": "var_list.r",
     "varRefreshCmd": "cat(var_dic_list()) "
    }
   },
   "types_to_exclude": [
    "module",
    "function",
    "builtin_function_or_method",
    "instance",
    "_Feature"
   ],
   "window_display": false
  }
 },
 "nbformat": 4,
 "nbformat_minor": 4
}
