{
 "cells": [
  {
   "cell_type": "code",
   "execution_count": 1,
   "metadata": {
    "ExecuteTime": {
     "end_time": "2020-07-27T15:57:40.563021Z",
     "start_time": "2020-07-27T15:57:38.261278Z"
    }
   },
   "outputs": [],
   "source": [
    "import numpy as np\n",
    "import pandas as pd\n",
    "import lightgbm as lgb\n",
    "import xgboost as xgb\n",
    "from tqdm import tqdm\n",
    "from sklearn.model_selection import StratifiedKFold, KFold\n",
    "from sklearn.metrics import mean_absolute_error, mean_squared_error\n",
    "import matplotlib.pyplot as plt\n",
    "import time\n",
    "import gc\n",
    "import warnings\n",
    "\n",
    "warnings.filterwarnings('ignore')"
   ]
  },
  {
   "cell_type": "code",
   "execution_count": 2,
   "metadata": {
    "ExecuteTime": {
     "end_time": "2020-07-27T15:57:40.583848Z",
     "start_time": "2020-07-27T15:57:40.563021Z"
    }
   },
   "outputs": [],
   "source": [
    "def get_psi(train,test,f_cols):\n",
    "    psi_res = pd.DataFrame()\n",
    "    psi_dict={}\n",
    "    for c in tqdm(f_cols):\n",
    "        try:\n",
    "            t_train = train[c].fillna(-998)\n",
    "            t_test = test[c].fillna(-998)\n",
    "            #获取切分点\n",
    "            bins=[]\n",
    "            for i in np.arange(0,1.1,0.2):\n",
    "                bins.append(t_train.quantile(i))\n",
    "            bins=sorted(set(bins))\n",
    "            bins[0]=-np.inf\n",
    "            bins[-1]=np.inf\n",
    "            #计算psi\n",
    "            t_psi = pd.DataFrame()\n",
    "            t_psi['train'] = pd.cut(t_train,bins).value_counts().sort_index()\n",
    "            t_psi['test'] = pd.cut(t_test,bins).value_counts()\n",
    "            if c == 'outdoorTemp':\n",
    "                print(t_psi['train'])\n",
    "                print(t_psi['test'])\n",
    "            t_psi.index=[str(x) for x in t_psi.index]\n",
    "            t_psi.loc['总计',:] = t_psi.sum()\n",
    "            t_psi['train_rate'] = t_psi['train']/t_psi.loc['总计','train']\n",
    "            t_psi['test_rate'] = t_psi['test']/t_psi.loc['总计','test']\n",
    "            t_psi['psi'] = (t_psi['test_rate']-t_psi['train_rate'])*(np.log(t_psi['test_rate'])-np.log(t_psi['train_rate']))\n",
    "            t_psi.loc['总计','psi'] = t_psi['psi'].sum()\n",
    "            t_psi.index.name=c\n",
    "            #汇总\n",
    "            t_res = pd.DataFrame([[c,t_psi.loc['总计','psi']]],\n",
    "                                 columns=['变量名','PSI'])\n",
    "            psi_res = pd.concat([psi_res,t_res])\n",
    "            psi_dict[c]=t_psi\n",
    "            print(c,'done')\n",
    "        except:\n",
    "            print(c,'error')\n",
    "    return psi_res,psi_dict"
   ]
  },
  {
   "cell_type": "code",
   "execution_count": 3,
   "metadata": {
    "ExecuteTime": {
     "end_time": "2020-07-27T15:57:40.641814Z",
     "start_time": "2020-07-27T15:57:40.588846Z"
    }
   },
   "outputs": [],
   "source": [
    "train = pd.read_csv('../input/train.csv')\n",
    "test = pd.read_csv('../input/test.csv')\n",
    "sub = pd.DataFrame(test['time'])"
   ]
  },
  {
   "cell_type": "code",
   "execution_count": 4,
   "metadata": {
    "ExecuteTime": {
     "end_time": "2020-07-27T15:57:40.657806Z",
     "start_time": "2020-07-27T15:57:40.643815Z"
    }
   },
   "outputs": [],
   "source": [
    "train = train[train['temperature'].notnull()]\n",
    "train = train.fillna(method='bfill')\n",
    "test = test.fillna(method='bfill')"
   ]
  },
  {
   "cell_type": "code",
   "execution_count": 5,
   "metadata": {
    "ExecuteTime": {
     "end_time": "2020-07-27T15:57:40.667805Z",
     "start_time": "2020-07-27T15:57:40.659805Z"
    }
   },
   "outputs": [],
   "source": [
    "train.columns = ['time', 'year', 'month', 'day', 'hour', 'min', 'sec',\n",
    "                 'outdoorTemp', 'outdoorHum', 'outdoorAtmo',\n",
    "                 'indoorHum', 'indoorAtmo', 'temperature']\n",
    "test.columns = ['time', 'year', 'month', 'day', 'hour', 'min', 'sec',\n",
    "                'outdoorTemp', 'outdoorHum', 'outdoorAtmo',\n",
    "                'indoorHum', 'indoorAtmo']"
   ]
  },
  {
   "cell_type": "code",
   "execution_count": 6,
   "metadata": {
    "ExecuteTime": {
     "end_time": "2020-07-27T15:57:40.680792Z",
     "start_time": "2020-07-27T15:57:40.670798Z"
    }
   },
   "outputs": [],
   "source": [
    "data = pd.concat([train, test])"
   ]
  },
  {
   "cell_type": "code",
   "execution_count": 7,
   "metadata": {
    "ExecuteTime": {
     "end_time": "2020-07-27T15:57:40.710774Z",
     "start_time": "2020-07-27T15:57:40.684790Z"
    }
   },
   "outputs": [],
   "source": [
    "data['indoorAtmo-outdoorAtmo'] = data['indoorAtmo'] - data['outdoorAtmo']\n",
    "data['indoorHum-outdoorHum'] = data['indoorHum'] - data['outdoorHum']"
   ]
  },
  {
   "cell_type": "code",
   "execution_count": 8,
   "metadata": {
    "ExecuteTime": {
     "end_time": "2020-07-27T15:58:12.157092Z",
     "start_time": "2020-07-27T15:57:40.715773Z"
    }
   },
   "outputs": [
    {
     "name": "stderr",
     "output_type": "stream",
     "text": [
      "100%|████████████████████████████████████████████████████████████████████████████████████| 7/7 [00:31<00:00,  4.50s/it]\n"
     ]
    }
   ],
   "source": [
    "group_feats = []\n",
    "for i in tqdm(['outdoorTemp', 'outdoorHum', 'outdoorAtmo', 'indoorHum', 'indoorAtmo', 'indoorAtmo-outdoorAtmo', 'indoorHum-outdoorHum']):\n",
    "    data['MDH_{}_mean'.format(i)] = data.groupby(['month', 'day', 'hour'], as_index=False)[i].transform('mean')\n",
    "    data['MDH_{}_median'.format(i)] = data.groupby(['month', 'day', 'hour'], as_index=False)[i].transform('median')\n",
    "    data['MDH_{}_max'.format(i)] = data.groupby(['month', 'day', 'hour'], as_index=False)[i].transform('max')\n",
    "    data['MDH_{}_min'.format(i)] = data.groupby(['month', 'day', 'hour'], as_index=False)[i].transform('min')\n",
    "    data['MDH_{}_std'.format(i)] = data.groupby(['month', 'day', 'hour'], as_index=False)[i].transform('std')\n",
    "    data['MDH_{}_skew'.format(i)] = data.groupby(['month', 'day', 'hour'], as_index=False)[i].transform('skew')\n",
    "    \n",
    "    group_feats.append('MDH_{}_mean'.format(i))\n",
    "    group_feats.append('MDH_{}_median'.format(i))"
   ]
  },
  {
   "cell_type": "code",
   "execution_count": 9,
   "metadata": {
    "ExecuteTime": {
     "end_time": "2020-07-27T15:58:12.806998Z",
     "start_time": "2020-07-27T15:58:12.161168Z"
    }
   },
   "outputs": [
    {
     "name": "stderr",
     "output_type": "stream",
     "text": [
      "100%|██████████████████████████████████████████████████████████████████████████████████| 21/21 [00:00<00:00, 34.15it/s]\n"
     ]
    }
   ],
   "source": [
    "# 基本交叉特征\n",
    "for f1 in tqdm(['outdoorTemp', 'outdoorHum', 'outdoorAtmo', 'indoorHum', 'indoorAtmo', 'indoorAtmo-outdoorAtmo', 'indoorHum-outdoorHum'] + group_feats):\n",
    "    for f2 in ['outdoorTemp', 'outdoorHum', 'outdoorAtmo', 'indoorHum', 'indoorAtmo', 'indoorAtmo-outdoorAtmo', 'indoorHum-outdoorHum'] + group_feats:\n",
    "        if f1 != f2:\n",
    "            colname = '{}_{}_ratio'.format(f1, f2)\n",
    "            data[colname] = data[f1].values / data[f2].values"
   ]
  },
  {
   "cell_type": "code",
   "execution_count": 10,
   "metadata": {
    "ExecuteTime": {
     "end_time": "2020-07-27T15:58:12.958935Z",
     "start_time": "2020-07-27T15:58:12.809996Z"
    }
   },
   "outputs": [],
   "source": [
    "data.fillna(method='bfill', inplace=True)"
   ]
  },
  {
   "cell_type": "code",
   "execution_count": 11,
   "metadata": {
    "ExecuteTime": {
     "end_time": "2020-07-27T15:58:27.856451Z",
     "start_time": "2020-07-27T15:58:12.960932Z"
    }
   },
   "outputs": [
    {
     "name": "stderr",
     "output_type": "stream",
     "text": [
      "100%|██████████████████████████████████████████████████████████████████████████████████| 30/30 [00:01<00:00, 14.45it/s]\n",
      "100%|██████████████████████████████████████████████████████████████████████████████████| 30/30 [00:01<00:00, 14.16it/s]\n",
      "100%|██████████████████████████████████████████████████████████████████████████████████| 30/30 [00:01<00:00, 17.74it/s]\n",
      "100%|██████████████████████████████████████████████████████████████████████████████████| 30/30 [00:01<00:00, 14.06it/s]\n",
      "100%|██████████████████████████████████████████████████████████████████████████████████| 30/30 [00:01<00:00, 17.74it/s]\n",
      "100%|██████████████████████████████████████████████████████████████████████████████████| 30/30 [00:01<00:00, 14.01it/s]\n",
      "100%|██████████████████████████████████████████████████████████████████████████████████| 30/30 [00:01<00:00, 17.41it/s]\n",
      "100%|██████████████████████████████████████████████████████████████████████████████████| 30/30 [00:01<00:00, 17.73it/s]\n"
     ]
    }
   ],
   "source": [
    "# 历史信息提取\n",
    "# dt 14-44\n",
    "data['dt'] = data['day'].values + (data['month'].values - 3) * 31\n",
    "\n",
    "for f in ['outdoorTemp', 'outdoorHum', 'outdoorAtmo', 'indoorHum', 'indoorAtmo', 'indoorAtmo-outdoorAtmo', 'indoorHum-outdoorHum', 'temperature']:\n",
    "    tmp_df = pd.DataFrame()\n",
    "    for t in tqdm(range(15, 45)):\n",
    "        tmp = data[data['dt'] < t].groupby(['hour'])[f].agg({'mean'}).reset_index()\n",
    "        tmp.columns = ['hour', 'hit_{}_mean'.format(f)]\n",
    "        tmp['dt'] = t\n",
    "        tmp_df = tmp_df.append(tmp)\n",
    "\n",
    "    data = data.merge(tmp_df, on=['dt', 'hour'], how='left')"
   ]
  },
  {
   "cell_type": "code",
   "execution_count": 12,
   "metadata": {
    "ExecuteTime": {
     "end_time": "2020-07-27T15:58:28.014071Z",
     "start_time": "2020-07-27T15:58:27.856451Z"
    }
   },
   "outputs": [],
   "source": [
    "data.fillna(method='bfill', inplace=True)"
   ]
  },
  {
   "cell_type": "code",
   "execution_count": 13,
   "metadata": {
    "ExecuteTime": {
     "end_time": "2020-07-27T15:58:28.222966Z",
     "start_time": "2020-07-27T15:58:28.016071Z"
    }
   },
   "outputs": [],
   "source": [
    "# 离散化\n",
    "for f in ['outdoorTemp', 'outdoorHum', 'outdoorAtmo', 'indoorHum', 'indoorAtmo', 'indoorAtmo-outdoorAtmo', 'indoorHum-outdoorHum']:\n",
    "    data[f + '_20_bin'] = pd.cut(data[f], 20, duplicates='drop').apply(lambda x: x.left).astype(int)\n",
    "    data[f + '_50_bin'] = pd.cut(data[f], 50, duplicates='drop').apply(lambda x: x.left).astype(int)\n",
    "    data[f + '_100_bin'] = pd.cut(data[f], 100, duplicates='drop').apply(lambda x: x.left).astype(int)\n",
    "    data[f + '_200_bin'] = pd.cut(data[f], 200, duplicates='drop').apply(lambda x: x.left).astype(int)"
   ]
  },
  {
   "cell_type": "code",
   "execution_count": 14,
   "metadata": {
    "ExecuteTime": {
     "end_time": "2020-07-27T15:58:45.502652Z",
     "start_time": "2020-07-27T15:58:28.224951Z"
    }
   },
   "outputs": [
    {
     "name": "stderr",
     "output_type": "stream",
     "text": [
      "100%|████████████████████████████████████████████████████████████████████████████████████| 5/5 [00:17<00:00,  3.48s/it]\n"
     ]
    }
   ],
   "source": [
    "for f1 in tqdm(['outdoorTemp_20_bin', 'outdoorHum_20_bin', 'outdoorAtmo_20_bin', 'indoorHum_20_bin', 'indoorAtmo_20_bin']):\n",
    "    for f2 in ['outdoorTemp', 'outdoorHum', 'outdoorAtmo', 'indoorHum', 'indoorAtmo', 'indoorAtmo-outdoorAtmo', 'indoorHum-outdoorHum']:\n",
    "        data['{}_{}_median'.format(f1, f2)] = data.groupby([f1])[f2].transform('median')\n",
    "        data['{}_{}_mean'.format(f1, f2)] = data.groupby([f1])[f2].transform('mean')\n",
    "        data['{}_{}_max'.format(f1, f2)] = data.groupby([f1])[f2].transform('max')\n",
    "        data['{}_{}_min'.format(f1, f2)] = data.groupby([f1])[f2].transform('min')"
   ]
  },
  {
   "cell_type": "code",
   "execution_count": 15,
   "metadata": {
    "ExecuteTime": {
     "end_time": "2020-07-27T15:59:07.411183Z",
     "start_time": "2020-07-27T15:58:45.505649Z"
    }
   },
   "outputs": [
    {
     "name": "stderr",
     "output_type": "stream",
     "text": [
      "100%|████████████████████████████████████████████████████████████████████████████████████| 5/5 [00:21<00:00,  4.41s/it]\n"
     ]
    }
   ],
   "source": [
    "for f1 in tqdm(['outdoorTemp_50_bin', 'outdoorHum_50_bin', 'outdoorAtmo_50_bin', 'indoorHum_50_bin', 'indoorAtmo_50_bin']):\n",
    "    for f2 in ['outdoorTemp', 'outdoorHum', 'outdoorAtmo', 'indoorHum', 'indoorAtmo', 'indoorAtmo-outdoorAtmo', 'indoorHum-outdoorHum']:\n",
    "        data['{}_{}_median'.format(f1, f2)] = data.groupby([f1])[f2].transform('median')\n",
    "        data['{}_{}_mean'.format(f1, f2)] = data.groupby([f1])[f2].transform('mean')\n",
    "        data['{}_{}_max'.format(f1, f2)] = data.groupby([f1])[f2].transform('max')\n",
    "        data['{}_{}_min'.format(f1, f2)] = data.groupby([f1])[f2].transform('min')"
   ]
  },
  {
   "cell_type": "code",
   "execution_count": 16,
   "metadata": {
    "ExecuteTime": {
     "end_time": "2020-07-27T15:59:33.545152Z",
     "start_time": "2020-07-27T15:59:07.414178Z"
    }
   },
   "outputs": [
    {
     "name": "stderr",
     "output_type": "stream",
     "text": [
      "100%|████████████████████████████████████████████████████████████████████████████████████| 5/5 [00:26<00:00,  5.27s/it]\n"
     ]
    }
   ],
   "source": [
    "for f1 in tqdm(['outdoorTemp_100_bin', 'outdoorHum_100_bin', 'outdoorAtmo_100_bin', 'indoorHum_100_bin', 'indoorAtmo_100_bin']):\n",
    "    for f2 in ['outdoorTemp', 'outdoorHum', 'outdoorAtmo', 'indoorHum', 'indoorAtmo', 'indoorAtmo-outdoorAtmo', 'indoorHum-outdoorHum']:\n",
    "        data['{}_{}_median'.format(f1, f2)] = data.groupby([f1])[f2].transform('median')\n",
    "        data['{}_{}_mean'.format(f1, f2)] = data.groupby([f1])[f2].transform('mean')\n",
    "        data['{}_{}_max'.format(f1, f2)] = data.groupby([f1])[f2].transform('max')\n",
    "        data['{}_{}_min'.format(f1, f2)] = data.groupby([f1])[f2].transform('min')"
   ]
  },
  {
   "cell_type": "code",
   "execution_count": 17,
   "metadata": {
    "ExecuteTime": {
     "end_time": "2020-07-27T16:00:04.303514Z",
     "start_time": "2020-07-27T15:59:33.548151Z"
    }
   },
   "outputs": [
    {
     "name": "stderr",
     "output_type": "stream",
     "text": [
      "100%|████████████████████████████████████████████████████████████████████████████████████| 5/5 [00:30<00:00,  6.21s/it]\n"
     ]
    }
   ],
   "source": [
    "for f1 in tqdm(['outdoorTemp_200_bin', 'outdoorHum_200_bin', 'outdoorAtmo_200_bin', 'indoorHum_200_bin', 'indoorAtmo_200_bin']):\n",
    "    for f2 in ['outdoorTemp', 'outdoorHum', 'outdoorAtmo', 'indoorHum', 'indoorAtmo', 'indoorAtmo-outdoorAtmo', 'indoorHum-outdoorHum']:\n",
    "        data['{}_{}_median'.format(f1, f2)] = data.groupby([f1])[f2].transform('median')\n",
    "        data['{}_{}_mean'.format(f1, f2)] = data.groupby([f1])[f2].transform('mean')\n",
    "        data['{}_{}_max'.format(f1, f2)] = data.groupby([f1])[f2].transform('max')\n",
    "        data['{}_{}_min'.format(f1, f2)] = data.groupby([f1])[f2].transform('min')"
   ]
  },
  {
   "cell_type": "code",
   "execution_count": 18,
   "metadata": {
    "ExecuteTime": {
     "end_time": "2020-07-27T16:00:04.863543Z",
     "start_time": "2020-07-27T16:00:04.306512Z"
    }
   },
   "outputs": [
    {
     "data": {
      "text/plain": [
       "109"
      ]
     },
     "execution_count": 18,
     "metadata": {},
     "output_type": "execute_result"
    }
   ],
   "source": [
    "drop_columns = [\"time\", \"year\", \"sec\", \"temperature\"]\n",
    "\n",
    "train_count = train.shape[0]\n",
    "train = data[:train_count].copy().reset_index(drop=True)\n",
    "test = data[train_count:].copy().reset_index(drop=True)\n",
    "del data\n",
    "gc.collect()"
   ]
  },
  {
   "cell_type": "code",
   "execution_count": 19,
   "metadata": {
    "ExecuteTime": {
     "end_time": "2020-07-27T16:00:04.986595Z",
     "start_time": "2020-07-27T16:00:04.866540Z"
    }
   },
   "outputs": [],
   "source": [
    "features = train[:1].drop(drop_columns, axis=1).columns\n",
    "x_train = train[features]\n",
    "x_test = test[features]\n",
    "\n",
    "y_train = train['temperature'].values - train['outdoorTemp'].values"
   ]
  },
  {
   "cell_type": "code",
   "execution_count": 20,
   "metadata": {
    "ExecuteTime": {
     "end_time": "2020-07-27T16:00:53.056567Z",
     "start_time": "2020-07-27T16:00:04.988579Z"
    }
   },
   "outputs": [
    {
     "name": "stderr",
     "output_type": "stream",
     "text": [
      "\r",
      "  0%|                                                                                         | 0/1070 [00:00<?, ?it/s]"
     ]
    },
    {
     "name": "stdout",
     "output_type": "stream",
     "text": [
      "month done\n",
      "day done\n",
      "hour done\n"
     ]
    },
    {
     "name": "stderr",
     "output_type": "stream",
     "text": [
      "\r",
      "  0%|▏                                                                                | 3/1070 [00:00<00:48, 22.07it/s]"
     ]
    },
    {
     "name": "stdout",
     "output_type": "stream",
     "text": [
      "min done\n",
      "(-inf, 12.72]    4962\n",
      "(12.72, 15.0]    5155\n",
      "(15.0, 16.9]     4914\n",
      "(16.9, 19.7]     4922\n",
      "(19.7, inf]      4854\n",
      "Name: train, dtype: int64\n",
      "(-inf, 12.72]      0\n",
      "(12.72, 15.0]     53\n",
      "(15.0, 16.9]      64\n",
      "(16.9, 19.7]      64\n",
      "(19.7, inf]      225\n",
      "Name: test, dtype: int64\n",
      "outdoorTemp done\n"
     ]
    },
    {
     "name": "stderr",
     "output_type": "stream",
     "text": [
      "\r",
      "  0%|▍                                                                                | 5/1070 [00:00<00:50, 21.07it/s]"
     ]
    },
    {
     "name": "stdout",
     "output_type": "stream",
     "text": [
      "outdoorHum done\n",
      "outdoorAtmo done\n"
     ]
    },
    {
     "name": "stderr",
     "output_type": "stream",
     "text": [
      "\r",
      "  1%|▌                                                                                | 7/1070 [00:00<00:55, 19.19it/s]"
     ]
    },
    {
     "name": "stdout",
     "output_type": "stream",
     "text": [
      "indoorHum done\n",
      "indoorAtmo done\n"
     ]
    },
    {
     "name": "stderr",
     "output_type": "stream",
     "text": [
      "\r",
      "  1%|▋                                                                                | 9/1070 [00:00<00:56, 18.77it/s]"
     ]
    },
    {
     "name": "stdout",
     "output_type": "stream",
     "text": [
      "indoorAtmo-outdoorAtmo done\n",
      "indoorHum-outdoorHum done\n"
     ]
    },
    {
     "name": "stderr",
     "output_type": "stream",
     "text": [
      "\r",
      "  1%|▊                                                                               | 11/1070 [00:00<00:57, 18.34it/s]"
     ]
    },
    {
     "name": "stdout",
     "output_type": "stream",
     "text": [
      "MDH_outdoorTemp_mean done\n",
      "MDH_outdoorTemp_median done\n"
     ]
    },
    {
     "name": "stderr",
     "output_type": "stream",
     "text": [
      "\r",
      "  1%|▉                                                                               | 13/1070 [00:00<00:58, 17.95it/s]"
     ]
    },
    {
     "name": "stdout",
     "output_type": "stream",
     "text": [
      "MDH_outdoorTemp_max done\n",
      "MDH_outdoorTemp_min done\n"
     ]
    },
    {
     "name": "stderr",
     "output_type": "stream",
     "text": [
      "\r",
      "  1%|█                                                                               | 15/1070 [00:00<01:00, 17.55it/s]"
     ]
    },
    {
     "name": "stdout",
     "output_type": "stream",
     "text": [
      "MDH_outdoorTemp_std done\n",
      "MDH_outdoorTemp_skew done\n"
     ]
    },
    {
     "name": "stderr",
     "output_type": "stream",
     "text": [
      "\r",
      "  2%|█▎                                                                              | 17/1070 [00:00<00:59, 17.60it/s]"
     ]
    },
    {
     "name": "stdout",
     "output_type": "stream",
     "text": [
      "MDH_outdoorHum_mean done\n",
      "MDH_outdoorHum_median done\n"
     ]
    },
    {
     "name": "stderr",
     "output_type": "stream",
     "text": [
      "\r",
      "  2%|█▍                                                                              | 19/1070 [00:01<01:00, 17.31it/s]"
     ]
    },
    {
     "name": "stdout",
     "output_type": "stream",
     "text": [
      "MDH_outdoorHum_max done\n",
      "MDH_outdoorHum_min done\n"
     ]
    },
    {
     "name": "stderr",
     "output_type": "stream",
     "text": [
      "\r",
      "  2%|█▌                                                                              | 21/1070 [00:01<01:00, 17.47it/s]"
     ]
    },
    {
     "name": "stdout",
     "output_type": "stream",
     "text": [
      "MDH_outdoorHum_std done\n",
      "MDH_outdoorHum_skew done\n"
     ]
    },
    {
     "name": "stderr",
     "output_type": "stream",
     "text": [
      "\r",
      "  2%|█▋                                                                              | 23/1070 [00:01<01:00, 17.23it/s]"
     ]
    },
    {
     "name": "stdout",
     "output_type": "stream",
     "text": [
      "MDH_outdoorAtmo_mean done\n",
      "MDH_outdoorAtmo_median done\n"
     ]
    },
    {
     "name": "stderr",
     "output_type": "stream",
     "text": [
      "\r",
      "  2%|█▊                                                                              | 25/1070 [00:01<01:00, 17.29it/s]"
     ]
    },
    {
     "name": "stdout",
     "output_type": "stream",
     "text": [
      "MDH_outdoorAtmo_max done\n",
      "MDH_outdoorAtmo_min done\n"
     ]
    },
    {
     "name": "stderr",
     "output_type": "stream",
     "text": [
      "\r",
      "  3%|██                                                                              | 27/1070 [00:01<01:00, 17.19it/s]"
     ]
    },
    {
     "name": "stdout",
     "output_type": "stream",
     "text": [
      "MDH_outdoorAtmo_std done\n",
      "MDH_outdoorAtmo_skew done\n"
     ]
    },
    {
     "name": "stderr",
     "output_type": "stream",
     "text": [
      "\r",
      "  3%|██▏                                                                             | 29/1070 [00:01<01:01, 16.99it/s]"
     ]
    },
    {
     "name": "stdout",
     "output_type": "stream",
     "text": [
      "MDH_indoorHum_mean done\n",
      "MDH_indoorHum_median done\n"
     ]
    },
    {
     "name": "stderr",
     "output_type": "stream",
     "text": [
      "\r",
      "  3%|██▎                                                                             | 31/1070 [00:01<01:00, 17.15it/s]"
     ]
    },
    {
     "name": "stdout",
     "output_type": "stream",
     "text": [
      "MDH_indoorHum_max done\n",
      "MDH_indoorHum_min done\n"
     ]
    },
    {
     "name": "stderr",
     "output_type": "stream",
     "text": [
      "\r",
      "  3%|██▍                                                                             | 33/1070 [00:01<01:03, 16.34it/s]"
     ]
    },
    {
     "name": "stdout",
     "output_type": "stream",
     "text": [
      "MDH_indoorHum_std done\n",
      "MDH_indoorHum_skew done\n"
     ]
    },
    {
     "name": "stderr",
     "output_type": "stream",
     "text": [
      "\r",
      "  3%|██▌                                                                             | 35/1070 [00:02<01:05, 15.88it/s]"
     ]
    },
    {
     "name": "stdout",
     "output_type": "stream",
     "text": [
      "MDH_indoorAtmo_mean done\n",
      "MDH_indoorAtmo_median done\n"
     ]
    },
    {
     "name": "stderr",
     "output_type": "stream",
     "text": [
      "\r",
      "  3%|██▊                                                                             | 37/1070 [00:02<01:01, 16.67it/s]"
     ]
    },
    {
     "name": "stdout",
     "output_type": "stream",
     "text": [
      "MDH_indoorAtmo_max done\n",
      "MDH_indoorAtmo_min done\n"
     ]
    },
    {
     "name": "stderr",
     "output_type": "stream",
     "text": [
      "\r",
      "  4%|██▉                                                                             | 39/1070 [00:02<00:59, 17.28it/s]"
     ]
    },
    {
     "name": "stdout",
     "output_type": "stream",
     "text": [
      "MDH_indoorAtmo_std done\n",
      "MDH_indoorAtmo_skew done\n"
     ]
    },
    {
     "name": "stderr",
     "output_type": "stream",
     "text": [
      "\r",
      "  4%|███                                                                             | 41/1070 [00:02<00:59, 17.36it/s]"
     ]
    },
    {
     "name": "stdout",
     "output_type": "stream",
     "text": [
      "MDH_indoorAtmo-outdoorAtmo_mean done\n",
      "MDH_indoorAtmo-outdoorAtmo_median done\n"
     ]
    },
    {
     "name": "stderr",
     "output_type": "stream",
     "text": [
      "\r",
      "  4%|███▏                                                                            | 43/1070 [00:02<00:58, 17.46it/s]"
     ]
    },
    {
     "name": "stdout",
     "output_type": "stream",
     "text": [
      "MDH_indoorAtmo-outdoorAtmo_max done\n",
      "MDH_indoorAtmo-outdoorAtmo_min done\n",
      "MDH_indoorAtmo-outdoorAtmo_std done\n"
     ]
    },
    {
     "name": "stderr",
     "output_type": "stream",
     "text": [
      "\r",
      "  4%|███▍                                                                            | 46/1070 [00:02<00:54, 18.81it/s]"
     ]
    },
    {
     "name": "stdout",
     "output_type": "stream",
     "text": [
      "MDH_indoorAtmo-outdoorAtmo_skew done\n",
      "MDH_indoorHum-outdoorHum_mean done\n",
      "MDH_indoorHum-outdoorHum_median done\n"
     ]
    },
    {
     "name": "stderr",
     "output_type": "stream",
     "text": [
      "\r",
      "  5%|███▋                                                                            | 49/1070 [00:02<00:51, 19.87it/s]"
     ]
    },
    {
     "name": "stdout",
     "output_type": "stream",
     "text": [
      "MDH_indoorHum-outdoorHum_max done\n",
      "MDH_indoorHum-outdoorHum_min done\n",
      "MDH_indoorHum-outdoorHum_std done\n"
     ]
    },
    {
     "name": "stderr",
     "output_type": "stream",
     "text": [
      "\r",
      "  5%|███▉                                                                            | 52/1070 [00:02<00:49, 20.44it/s]"
     ]
    },
    {
     "name": "stdout",
     "output_type": "stream",
     "text": [
      "MDH_indoorHum-outdoorHum_skew done\n",
      "outdoorTemp_outdoorHum_ratio done\n",
      "outdoorTemp_outdoorAtmo_ratio done\n"
     ]
    },
    {
     "name": "stderr",
     "output_type": "stream",
     "text": [
      "\r",
      "  5%|████                                                                            | 55/1070 [00:03<00:48, 20.99it/s]"
     ]
    },
    {
     "name": "stdout",
     "output_type": "stream",
     "text": [
      "outdoorTemp_indoorHum_ratio done\n",
      "outdoorTemp_indoorAtmo_ratio done\n",
      "outdoorTemp_indoorAtmo-outdoorAtmo_ratio done\n"
     ]
    },
    {
     "name": "stderr",
     "output_type": "stream",
     "text": [
      "\r",
      "  5%|████▎                                                                           | 58/1070 [00:03<00:46, 21.68it/s]"
     ]
    },
    {
     "name": "stdout",
     "output_type": "stream",
     "text": [
      "outdoorTemp_indoorHum-outdoorHum_ratio done\n",
      "outdoorTemp_MDH_outdoorTemp_mean_ratio done\n",
      "outdoorTemp_MDH_outdoorTemp_median_ratio done\n"
     ]
    },
    {
     "name": "stderr",
     "output_type": "stream",
     "text": [
      "\r",
      "  6%|████▌                                                                           | 61/1070 [00:03<00:45, 21.98it/s]"
     ]
    },
    {
     "name": "stdout",
     "output_type": "stream",
     "text": [
      "outdoorTemp_MDH_outdoorHum_mean_ratio done\n",
      "outdoorTemp_MDH_outdoorHum_median_ratio done\n",
      "outdoorTemp_MDH_outdoorAtmo_mean_ratio done\n"
     ]
    },
    {
     "name": "stderr",
     "output_type": "stream",
     "text": [
      "\r",
      "  6%|████▊                                                                           | 64/1070 [00:03<00:45, 22.21it/s]"
     ]
    },
    {
     "name": "stdout",
     "output_type": "stream",
     "text": [
      "outdoorTemp_MDH_outdoorAtmo_median_ratio done\n",
      "outdoorTemp_MDH_indoorHum_mean_ratio done\n",
      "outdoorTemp_MDH_indoorHum_median_ratio done\n"
     ]
    },
    {
     "name": "stderr",
     "output_type": "stream",
     "text": [
      "\r",
      "  6%|█████                                                                           | 67/1070 [00:03<00:45, 22.07it/s]"
     ]
    },
    {
     "name": "stdout",
     "output_type": "stream",
     "text": [
      "outdoorTemp_MDH_indoorAtmo_mean_ratio done\n",
      "outdoorTemp_MDH_indoorAtmo_median_ratio done\n",
      "outdoorTemp_MDH_indoorAtmo-outdoorAtmo_mean_ratio done\n"
     ]
    },
    {
     "name": "stderr",
     "output_type": "stream",
     "text": [
      "\r",
      "  7%|█████▏                                                                          | 70/1070 [00:03<00:45, 21.88it/s]"
     ]
    },
    {
     "name": "stdout",
     "output_type": "stream",
     "text": [
      "outdoorTemp_MDH_indoorAtmo-outdoorAtmo_median_ratio done\n",
      "outdoorTemp_MDH_indoorHum-outdoorHum_mean_ratio done\n",
      "outdoorTemp_MDH_indoorHum-outdoorHum_median_ratio done\n"
     ]
    },
    {
     "name": "stderr",
     "output_type": "stream",
     "text": [
      "\r",
      "  7%|█████▍                                                                          | 73/1070 [00:03<00:44, 22.33it/s]"
     ]
    },
    {
     "name": "stdout",
     "output_type": "stream",
     "text": [
      "outdoorHum_outdoorTemp_ratio done\n",
      "outdoorHum_outdoorAtmo_ratio done\n",
      "outdoorHum_indoorHum_ratio done\n"
     ]
    },
    {
     "name": "stderr",
     "output_type": "stream",
     "text": [
      "\r",
      "  7%|█████▋                                                                          | 76/1070 [00:03<00:44, 22.35it/s]"
     ]
    },
    {
     "name": "stdout",
     "output_type": "stream",
     "text": [
      "outdoorHum_indoorAtmo_ratio done\n",
      "outdoorHum_indoorAtmo-outdoorAtmo_ratio error\n",
      "outdoorHum_indoorHum-outdoorHum_ratio done\n"
     ]
    },
    {
     "name": "stderr",
     "output_type": "stream",
     "text": [
      "\r",
      "  7%|█████▉                                                                          | 79/1070 [00:04<00:41, 23.80it/s]"
     ]
    },
    {
     "name": "stdout",
     "output_type": "stream",
     "text": [
      "outdoorHum_MDH_outdoorTemp_mean_ratio done\n",
      "outdoorHum_MDH_outdoorTemp_median_ratio done\n",
      "outdoorHum_MDH_outdoorHum_mean_ratio done\n"
     ]
    },
    {
     "name": "stderr",
     "output_type": "stream",
     "text": [
      "\r",
      "  8%|██████▏                                                                         | 82/1070 [00:04<00:42, 23.42it/s]"
     ]
    },
    {
     "name": "stdout",
     "output_type": "stream",
     "text": [
      "outdoorHum_MDH_outdoorHum_median_ratio done\n",
      "outdoorHum_MDH_outdoorAtmo_mean_ratio done\n",
      "outdoorHum_MDH_outdoorAtmo_median_ratio done\n"
     ]
    },
    {
     "name": "stderr",
     "output_type": "stream",
     "text": [
      "\r",
      "  8%|██████▎                                                                         | 85/1070 [00:04<00:42, 23.00it/s]"
     ]
    },
    {
     "name": "stdout",
     "output_type": "stream",
     "text": [
      "outdoorHum_MDH_indoorHum_mean_ratio done\n",
      "outdoorHum_MDH_indoorHum_median_ratio done\n",
      "outdoorHum_MDH_indoorAtmo_mean_ratio done\n"
     ]
    },
    {
     "name": "stderr",
     "output_type": "stream",
     "text": [
      "\r",
      "  8%|██████▌                                                                         | 88/1070 [00:04<00:43, 22.76it/s]"
     ]
    },
    {
     "name": "stdout",
     "output_type": "stream",
     "text": [
      "outdoorHum_MDH_indoorAtmo_median_ratio done\n",
      "outdoorHum_MDH_indoorAtmo-outdoorAtmo_mean_ratio done\n",
      "outdoorHum_MDH_indoorAtmo-outdoorAtmo_median_ratio done\n"
     ]
    },
    {
     "name": "stderr",
     "output_type": "stream",
     "text": [
      "\r",
      "  9%|██████▊                                                                         | 91/1070 [00:04<00:43, 22.65it/s]"
     ]
    },
    {
     "name": "stdout",
     "output_type": "stream",
     "text": [
      "outdoorHum_MDH_indoorHum-outdoorHum_mean_ratio done\n",
      "outdoorHum_MDH_indoorHum-outdoorHum_median_ratio done\n",
      "outdoorAtmo_outdoorTemp_ratio done\n"
     ]
    },
    {
     "name": "stderr",
     "output_type": "stream",
     "text": [
      "\r",
      "  9%|███████                                                                         | 94/1070 [00:04<00:42, 22.83it/s]"
     ]
    },
    {
     "name": "stdout",
     "output_type": "stream",
     "text": [
      "outdoorAtmo_outdoorHum_ratio done\n",
      "outdoorAtmo_indoorHum_ratio done\n",
      "outdoorAtmo_indoorAtmo_ratio done\n"
     ]
    },
    {
     "name": "stderr",
     "output_type": "stream",
     "text": [
      "\r",
      "  9%|███████▎                                                                        | 97/1070 [00:04<00:41, 23.18it/s]"
     ]
    },
    {
     "name": "stdout",
     "output_type": "stream",
     "text": [
      "outdoorAtmo_indoorAtmo-outdoorAtmo_ratio done\n",
      "outdoorAtmo_indoorHum-outdoorHum_ratio done\n",
      "outdoorAtmo_MDH_outdoorTemp_mean_ratio done\n"
     ]
    },
    {
     "name": "stderr",
     "output_type": "stream",
     "text": [
      "\r",
      "  9%|███████▍                                                                       | 100/1070 [00:04<00:41, 23.10it/s]"
     ]
    },
    {
     "name": "stdout",
     "output_type": "stream",
     "text": [
      "outdoorAtmo_MDH_outdoorTemp_median_ratio done\n",
      "outdoorAtmo_MDH_outdoorHum_mean_ratio done\n",
      "outdoorAtmo_MDH_outdoorHum_median_ratio done\n"
     ]
    },
    {
     "name": "stderr",
     "output_type": "stream",
     "text": [
      "\r",
      " 10%|███████▌                                                                       | 103/1070 [00:05<00:41, 23.20it/s]"
     ]
    },
    {
     "name": "stdout",
     "output_type": "stream",
     "text": [
      "outdoorAtmo_MDH_outdoorAtmo_mean_ratio done\n",
      "outdoorAtmo_MDH_outdoorAtmo_median_ratio done\n",
      "outdoorAtmo_MDH_indoorHum_mean_ratio done\n"
     ]
    },
    {
     "name": "stderr",
     "output_type": "stream",
     "text": [
      "\r",
      " 10%|███████▊                                                                       | 106/1070 [00:05<00:41, 22.96it/s]"
     ]
    },
    {
     "name": "stdout",
     "output_type": "stream",
     "text": [
      "outdoorAtmo_MDH_indoorHum_median_ratio done\n",
      "outdoorAtmo_MDH_indoorAtmo_mean_ratio done\n",
      "outdoorAtmo_MDH_indoorAtmo_median_ratio done\n"
     ]
    },
    {
     "name": "stderr",
     "output_type": "stream",
     "text": [
      "\r",
      " 10%|████████                                                                       | 109/1070 [00:05<00:41, 23.00it/s]"
     ]
    },
    {
     "name": "stdout",
     "output_type": "stream",
     "text": [
      "outdoorAtmo_MDH_indoorAtmo-outdoorAtmo_mean_ratio done\n",
      "outdoorAtmo_MDH_indoorAtmo-outdoorAtmo_median_ratio error\n",
      "outdoorAtmo_MDH_indoorHum-outdoorHum_mean_ratio done\n"
     ]
    },
    {
     "name": "stderr",
     "output_type": "stream",
     "text": [
      "\r",
      " 10%|████████▎                                                                      | 112/1070 [00:05<00:41, 22.87it/s]"
     ]
    },
    {
     "name": "stdout",
     "output_type": "stream",
     "text": [
      "outdoorAtmo_MDH_indoorHum-outdoorHum_median_ratio done\n",
      "indoorHum_outdoorTemp_ratio done\n",
      "indoorHum_outdoorHum_ratio done\n"
     ]
    },
    {
     "name": "stderr",
     "output_type": "stream",
     "text": [
      "\r",
      " 11%|████████▍                                                                      | 115/1070 [00:05<00:41, 23.04it/s]"
     ]
    },
    {
     "name": "stdout",
     "output_type": "stream",
     "text": [
      "indoorHum_outdoorAtmo_ratio done\n",
      "indoorHum_indoorAtmo_ratio done\n",
      "indoorHum_indoorAtmo-outdoorAtmo_ratio done\n"
     ]
    },
    {
     "name": "stderr",
     "output_type": "stream",
     "text": [
      "\r",
      " 11%|████████▋                                                                      | 118/1070 [00:05<00:41, 22.74it/s]"
     ]
    },
    {
     "name": "stdout",
     "output_type": "stream",
     "text": [
      "indoorHum_indoorHum-outdoorHum_ratio done\n",
      "indoorHum_MDH_outdoorTemp_mean_ratio done\n",
      "indoorHum_MDH_outdoorTemp_median_ratio done\n"
     ]
    },
    {
     "name": "stderr",
     "output_type": "stream",
     "text": [
      "\r",
      " 11%|████████▉                                                                      | 121/1070 [00:05<00:41, 22.69it/s]"
     ]
    },
    {
     "name": "stdout",
     "output_type": "stream",
     "text": [
      "indoorHum_MDH_outdoorHum_mean_ratio done\n",
      "indoorHum_MDH_outdoorHum_median_ratio done\n",
      "indoorHum_MDH_outdoorAtmo_mean_ratio done\n"
     ]
    },
    {
     "name": "stderr",
     "output_type": "stream",
     "text": [
      "\r",
      " 12%|█████████▏                                                                     | 124/1070 [00:06<00:41, 22.76it/s]"
     ]
    },
    {
     "name": "stdout",
     "output_type": "stream",
     "text": [
      "indoorHum_MDH_outdoorAtmo_median_ratio done\n",
      "indoorHum_MDH_indoorHum_mean_ratio done\n",
      "indoorHum_MDH_indoorHum_median_ratio done\n"
     ]
    },
    {
     "name": "stderr",
     "output_type": "stream",
     "text": [
      "\r",
      " 12%|█████████▍                                                                     | 127/1070 [00:06<00:41, 22.75it/s]"
     ]
    },
    {
     "name": "stdout",
     "output_type": "stream",
     "text": [
      "indoorHum_MDH_indoorAtmo_mean_ratio done\n",
      "indoorHum_MDH_indoorAtmo_median_ratio done\n",
      "indoorHum_MDH_indoorAtmo-outdoorAtmo_mean_ratio done\n"
     ]
    },
    {
     "name": "stderr",
     "output_type": "stream",
     "text": [
      "\r",
      " 12%|█████████▌                                                                     | 130/1070 [00:06<00:41, 22.56it/s]"
     ]
    },
    {
     "name": "stdout",
     "output_type": "stream",
     "text": [
      "indoorHum_MDH_indoorAtmo-outdoorAtmo_median_ratio done\n",
      "indoorHum_MDH_indoorHum-outdoorHum_mean_ratio done\n",
      "indoorHum_MDH_indoorHum-outdoorHum_median_ratio done\n"
     ]
    },
    {
     "name": "stderr",
     "output_type": "stream",
     "text": [
      "\r",
      " 12%|█████████▊                                                                     | 133/1070 [00:06<00:42, 22.16it/s]"
     ]
    },
    {
     "name": "stdout",
     "output_type": "stream",
     "text": [
      "indoorAtmo_outdoorTemp_ratio done\n",
      "indoorAtmo_outdoorHum_ratio done\n",
      "indoorAtmo_outdoorAtmo_ratio done\n"
     ]
    },
    {
     "name": "stderr",
     "output_type": "stream",
     "text": [
      "\r",
      " 13%|██████████                                                                     | 136/1070 [00:06<00:41, 22.63it/s]"
     ]
    },
    {
     "name": "stdout",
     "output_type": "stream",
     "text": [
      "indoorAtmo_indoorHum_ratio done\n",
      "indoorAtmo_indoorAtmo-outdoorAtmo_ratio done\n",
      "indoorAtmo_indoorHum-outdoorHum_ratio done\n"
     ]
    },
    {
     "name": "stderr",
     "output_type": "stream",
     "text": [
      "\r",
      " 13%|██████████▎                                                                    | 139/1070 [00:06<00:41, 22.51it/s]"
     ]
    },
    {
     "name": "stdout",
     "output_type": "stream",
     "text": [
      "indoorAtmo_MDH_outdoorTemp_mean_ratio done\n",
      "indoorAtmo_MDH_outdoorTemp_median_ratio done\n",
      "indoorAtmo_MDH_outdoorHum_mean_ratio done\n"
     ]
    },
    {
     "name": "stderr",
     "output_type": "stream",
     "text": [
      "\r",
      " 13%|██████████▍                                                                    | 142/1070 [00:06<00:40, 22.84it/s]"
     ]
    },
    {
     "name": "stdout",
     "output_type": "stream",
     "text": [
      "indoorAtmo_MDH_outdoorHum_median_ratio done\n",
      "indoorAtmo_MDH_outdoorAtmo_mean_ratio done\n",
      "indoorAtmo_MDH_outdoorAtmo_median_ratio done\n"
     ]
    },
    {
     "name": "stderr",
     "output_type": "stream",
     "text": [
      "\r",
      " 14%|██████████▋                                                                    | 145/1070 [00:06<00:40, 22.88it/s]"
     ]
    },
    {
     "name": "stdout",
     "output_type": "stream",
     "text": [
      "indoorAtmo_MDH_indoorHum_mean_ratio done\n",
      "indoorAtmo_MDH_indoorHum_median_ratio done\n",
      "indoorAtmo_MDH_indoorAtmo_mean_ratio done\n"
     ]
    },
    {
     "name": "stderr",
     "output_type": "stream",
     "text": [
      "\r",
      " 14%|██████████▉                                                                    | 148/1070 [00:07<00:40, 22.53it/s]"
     ]
    },
    {
     "name": "stdout",
     "output_type": "stream",
     "text": [
      "indoorAtmo_MDH_indoorAtmo_median_ratio done\n",
      "indoorAtmo_MDH_indoorAtmo-outdoorAtmo_mean_ratio done\n",
      "indoorAtmo_MDH_indoorAtmo-outdoorAtmo_median_ratio done\n"
     ]
    },
    {
     "name": "stderr",
     "output_type": "stream",
     "text": [
      "\r",
      " 14%|███████████▏                                                                   | 151/1070 [00:07<00:41, 22.29it/s]"
     ]
    },
    {
     "name": "stdout",
     "output_type": "stream",
     "text": [
      "indoorAtmo_MDH_indoorHum-outdoorHum_mean_ratio done\n",
      "indoorAtmo_MDH_indoorHum-outdoorHum_median_ratio done\n",
      "indoorAtmo-outdoorAtmo_outdoorTemp_ratio done\n"
     ]
    },
    {
     "name": "stderr",
     "output_type": "stream",
     "text": [
      "\r",
      " 14%|███████████▎                                                                   | 154/1070 [00:07<00:41, 22.18it/s]"
     ]
    },
    {
     "name": "stdout",
     "output_type": "stream",
     "text": [
      "indoorAtmo-outdoorAtmo_outdoorHum_ratio done\n",
      "indoorAtmo-outdoorAtmo_outdoorAtmo_ratio done\n",
      "indoorAtmo-outdoorAtmo_indoorHum_ratio done\n"
     ]
    },
    {
     "name": "stderr",
     "output_type": "stream",
     "text": [
      "\r",
      " 15%|███████████▌                                                                   | 157/1070 [00:07<00:41, 21.90it/s]"
     ]
    },
    {
     "name": "stdout",
     "output_type": "stream",
     "text": [
      "indoorAtmo-outdoorAtmo_indoorAtmo_ratio done\n",
      "indoorAtmo-outdoorAtmo_indoorHum-outdoorHum_ratio done\n",
      "indoorAtmo-outdoorAtmo_MDH_outdoorTemp_mean_ratio done\n"
     ]
    },
    {
     "name": "stderr",
     "output_type": "stream",
     "text": [
      "\r",
      " 15%|███████████▊                                                                   | 160/1070 [00:07<00:41, 21.76it/s]"
     ]
    },
    {
     "name": "stdout",
     "output_type": "stream",
     "text": [
      "indoorAtmo-outdoorAtmo_MDH_outdoorTemp_median_ratio done\n",
      "indoorAtmo-outdoorAtmo_MDH_outdoorHum_mean_ratio done\n",
      "indoorAtmo-outdoorAtmo_MDH_outdoorHum_median_ratio done\n"
     ]
    },
    {
     "name": "stderr",
     "output_type": "stream",
     "text": [
      "\r",
      " 15%|████████████                                                                   | 163/1070 [00:07<00:41, 21.90it/s]"
     ]
    },
    {
     "name": "stdout",
     "output_type": "stream",
     "text": [
      "indoorAtmo-outdoorAtmo_MDH_outdoorAtmo_mean_ratio done\n",
      "indoorAtmo-outdoorAtmo_MDH_outdoorAtmo_median_ratio done\n",
      "indoorAtmo-outdoorAtmo_MDH_indoorHum_mean_ratio done\n"
     ]
    },
    {
     "name": "stderr",
     "output_type": "stream",
     "text": [
      "\r",
      " 16%|████████████▎                                                                  | 166/1070 [00:07<00:41, 21.90it/s]"
     ]
    },
    {
     "name": "stdout",
     "output_type": "stream",
     "text": [
      "indoorAtmo-outdoorAtmo_MDH_indoorHum_median_ratio done\n",
      "indoorAtmo-outdoorAtmo_MDH_indoorAtmo_mean_ratio done\n",
      "indoorAtmo-outdoorAtmo_MDH_indoorAtmo_median_ratio done\n"
     ]
    },
    {
     "name": "stderr",
     "output_type": "stream",
     "text": [
      "\r",
      " 16%|████████████▍                                                                  | 169/1070 [00:08<00:40, 22.05it/s]"
     ]
    },
    {
     "name": "stdout",
     "output_type": "stream",
     "text": [
      "indoorAtmo-outdoorAtmo_MDH_indoorAtmo-outdoorAtmo_mean_ratio done\n",
      "indoorAtmo-outdoorAtmo_MDH_indoorAtmo-outdoorAtmo_median_ratio done\n",
      "indoorAtmo-outdoorAtmo_MDH_indoorHum-outdoorHum_mean_ratio done\n"
     ]
    },
    {
     "name": "stderr",
     "output_type": "stream",
     "text": [
      "\r",
      " 16%|████████████▋                                                                  | 172/1070 [00:08<00:40, 22.15it/s]"
     ]
    },
    {
     "name": "stdout",
     "output_type": "stream",
     "text": [
      "indoorAtmo-outdoorAtmo_MDH_indoorHum-outdoorHum_median_ratio done\n",
      "indoorHum-outdoorHum_outdoorTemp_ratio done\n",
      "indoorHum-outdoorHum_outdoorHum_ratio done\n"
     ]
    },
    {
     "name": "stderr",
     "output_type": "stream",
     "text": [
      "\r",
      " 16%|████████████▉                                                                  | 175/1070 [00:08<00:40, 22.28it/s]"
     ]
    },
    {
     "name": "stdout",
     "output_type": "stream",
     "text": [
      "indoorHum-outdoorHum_outdoorAtmo_ratio done\n",
      "indoorHum-outdoorHum_indoorHum_ratio done\n",
      "indoorHum-outdoorHum_indoorAtmo_ratio done\n"
     ]
    },
    {
     "name": "stderr",
     "output_type": "stream",
     "text": [
      "\r",
      " 17%|█████████████▏                                                                 | 178/1070 [00:08<00:40, 22.12it/s]"
     ]
    },
    {
     "name": "stdout",
     "output_type": "stream",
     "text": [
      "indoorHum-outdoorHum_indoorAtmo-outdoorAtmo_ratio error\n",
      "indoorHum-outdoorHum_MDH_outdoorTemp_mean_ratio done\n",
      "indoorHum-outdoorHum_MDH_outdoorTemp_median_ratio done\n"
     ]
    },
    {
     "name": "stderr",
     "output_type": "stream",
     "text": [
      "\r",
      " 17%|█████████████▎                                                                 | 181/1070 [00:08<00:37, 23.67it/s]"
     ]
    },
    {
     "name": "stdout",
     "output_type": "stream",
     "text": [
      "indoorHum-outdoorHum_MDH_outdoorHum_mean_ratio done\n",
      "indoorHum-outdoorHum_MDH_outdoorHum_median_ratio done\n",
      "indoorHum-outdoorHum_MDH_outdoorAtmo_mean_ratio done\n"
     ]
    },
    {
     "name": "stderr",
     "output_type": "stream",
     "text": [
      "\r",
      " 17%|█████████████▌                                                                 | 184/1070 [00:08<00:38, 23.06it/s]"
     ]
    },
    {
     "name": "stdout",
     "output_type": "stream",
     "text": [
      "indoorHum-outdoorHum_MDH_outdoorAtmo_median_ratio done\n",
      "indoorHum-outdoorHum_MDH_indoorHum_mean_ratio done\n",
      "indoorHum-outdoorHum_MDH_indoorHum_median_ratio done\n"
     ]
    },
    {
     "name": "stderr",
     "output_type": "stream",
     "text": [
      "\r",
      " 17%|█████████████▊                                                                 | 187/1070 [00:08<00:38, 22.86it/s]"
     ]
    },
    {
     "name": "stdout",
     "output_type": "stream",
     "text": [
      "indoorHum-outdoorHum_MDH_indoorAtmo_mean_ratio done\n",
      "indoorHum-outdoorHum_MDH_indoorAtmo_median_ratio done\n",
      "indoorHum-outdoorHum_MDH_indoorAtmo-outdoorAtmo_mean_ratio done\n"
     ]
    },
    {
     "name": "stderr",
     "output_type": "stream",
     "text": [
      "\r",
      " 18%|██████████████                                                                 | 190/1070 [00:08<00:38, 22.82it/s]"
     ]
    },
    {
     "name": "stdout",
     "output_type": "stream",
     "text": [
      "indoorHum-outdoorHum_MDH_indoorAtmo-outdoorAtmo_median_ratio error\n",
      "indoorHum-outdoorHum_MDH_indoorHum-outdoorHum_mean_ratio done\n",
      "indoorHum-outdoorHum_MDH_indoorHum-outdoorHum_median_ratio done\n"
     ]
    },
    {
     "name": "stderr",
     "output_type": "stream",
     "text": [
      "\r",
      " 18%|██████████████▏                                                                | 193/1070 [00:09<00:36, 24.18it/s]"
     ]
    },
    {
     "name": "stdout",
     "output_type": "stream",
     "text": [
      "MDH_outdoorTemp_mean_outdoorTemp_ratio done\n",
      "MDH_outdoorTemp_mean_outdoorHum_ratio done\n",
      "MDH_outdoorTemp_mean_outdoorAtmo_ratio done\n"
     ]
    },
    {
     "name": "stderr",
     "output_type": "stream",
     "text": [
      "\r",
      " 18%|██████████████▍                                                                | 196/1070 [00:09<00:36, 23.73it/s]"
     ]
    },
    {
     "name": "stdout",
     "output_type": "stream",
     "text": [
      "MDH_outdoorTemp_mean_indoorHum_ratio done\n",
      "MDH_outdoorTemp_mean_indoorAtmo_ratio done\n",
      "MDH_outdoorTemp_mean_indoorAtmo-outdoorAtmo_ratio error\n"
     ]
    },
    {
     "name": "stderr",
     "output_type": "stream",
     "text": [
      "\r",
      " 19%|██████████████▋                                                                | 199/1070 [00:09<00:35, 24.88it/s]"
     ]
    },
    {
     "name": "stdout",
     "output_type": "stream",
     "text": [
      "MDH_outdoorTemp_mean_indoorHum-outdoorHum_ratio done\n",
      "MDH_outdoorTemp_mean_MDH_outdoorTemp_median_ratio done\n",
      "MDH_outdoorTemp_mean_MDH_outdoorHum_mean_ratio done\n"
     ]
    },
    {
     "name": "stderr",
     "output_type": "stream",
     "text": [
      "\r",
      " 19%|██████████████▉                                                                | 202/1070 [00:09<00:35, 24.31it/s]"
     ]
    },
    {
     "name": "stdout",
     "output_type": "stream",
     "text": [
      "MDH_outdoorTemp_mean_MDH_outdoorHum_median_ratio done\n",
      "MDH_outdoorTemp_mean_MDH_outdoorAtmo_mean_ratio done\n",
      "MDH_outdoorTemp_mean_MDH_outdoorAtmo_median_ratio done\n"
     ]
    },
    {
     "name": "stderr",
     "output_type": "stream",
     "text": [
      "\r",
      " 19%|███████████████▏                                                               | 205/1070 [00:09<00:36, 23.59it/s]"
     ]
    },
    {
     "name": "stdout",
     "output_type": "stream",
     "text": [
      "MDH_outdoorTemp_mean_MDH_indoorHum_mean_ratio done\n",
      "MDH_outdoorTemp_mean_MDH_indoorHum_median_ratio done\n",
      "MDH_outdoorTemp_mean_MDH_indoorAtmo_mean_ratio done\n"
     ]
    },
    {
     "name": "stderr",
     "output_type": "stream",
     "text": [
      "\r",
      " 19%|███████████████▎                                                               | 208/1070 [00:09<00:37, 23.12it/s]"
     ]
    },
    {
     "name": "stdout",
     "output_type": "stream",
     "text": [
      "MDH_outdoorTemp_mean_MDH_indoorAtmo_median_ratio done\n",
      "MDH_outdoorTemp_mean_MDH_indoorAtmo-outdoorAtmo_mean_ratio done\n",
      "MDH_outdoorTemp_mean_MDH_indoorAtmo-outdoorAtmo_median_ratio done\n"
     ]
    },
    {
     "name": "stderr",
     "output_type": "stream",
     "text": [
      "\r",
      " 20%|███████████████▌                                                               | 211/1070 [00:09<00:37, 22.95it/s]"
     ]
    },
    {
     "name": "stdout",
     "output_type": "stream",
     "text": [
      "MDH_outdoorTemp_mean_MDH_indoorHum-outdoorHum_mean_ratio done\n",
      "MDH_outdoorTemp_mean_MDH_indoorHum-outdoorHum_median_ratio done\n",
      "MDH_outdoorTemp_median_outdoorTemp_ratio done\n"
     ]
    },
    {
     "name": "stderr",
     "output_type": "stream",
     "text": [
      "\r",
      " 20%|███████████████▊                                                               | 214/1070 [00:09<00:37, 22.63it/s]"
     ]
    },
    {
     "name": "stdout",
     "output_type": "stream",
     "text": [
      "MDH_outdoorTemp_median_outdoorHum_ratio done\n",
      "MDH_outdoorTemp_median_outdoorAtmo_ratio done\n",
      "MDH_outdoorTemp_median_indoorHum_ratio done\n"
     ]
    },
    {
     "name": "stderr",
     "output_type": "stream",
     "text": [
      "\r",
      " 20%|████████████████                                                               | 217/1070 [00:10<00:37, 22.46it/s]"
     ]
    },
    {
     "name": "stdout",
     "output_type": "stream",
     "text": [
      "MDH_outdoorTemp_median_indoorAtmo_ratio done\n",
      "MDH_outdoorTemp_median_indoorAtmo-outdoorAtmo_ratio done\n",
      "MDH_outdoorTemp_median_indoorHum-outdoorHum_ratio done\n"
     ]
    },
    {
     "name": "stderr",
     "output_type": "stream",
     "text": [
      "\r",
      " 21%|████████████████▏                                                              | 220/1070 [00:10<00:37, 22.39it/s]"
     ]
    },
    {
     "name": "stdout",
     "output_type": "stream",
     "text": [
      "MDH_outdoorTemp_median_MDH_outdoorTemp_mean_ratio done\n",
      "MDH_outdoorTemp_median_MDH_outdoorHum_mean_ratio done\n",
      "MDH_outdoorTemp_median_MDH_outdoorHum_median_ratio done\n"
     ]
    },
    {
     "name": "stderr",
     "output_type": "stream",
     "text": [
      "\r",
      " 21%|████████████████▍                                                              | 223/1070 [00:10<00:37, 22.49it/s]"
     ]
    },
    {
     "name": "stdout",
     "output_type": "stream",
     "text": [
      "MDH_outdoorTemp_median_MDH_outdoorAtmo_mean_ratio done\n",
      "MDH_outdoorTemp_median_MDH_outdoorAtmo_median_ratio done\n",
      "MDH_outdoorTemp_median_MDH_indoorHum_mean_ratio done\n"
     ]
    },
    {
     "name": "stderr",
     "output_type": "stream",
     "text": [
      "\r",
      " 21%|████████████████▋                                                              | 226/1070 [00:10<00:37, 22.41it/s]"
     ]
    },
    {
     "name": "stdout",
     "output_type": "stream",
     "text": [
      "MDH_outdoorTemp_median_MDH_indoorHum_median_ratio done\n",
      "MDH_outdoorTemp_median_MDH_indoorAtmo_mean_ratio done\n",
      "MDH_outdoorTemp_median_MDH_indoorAtmo_median_ratio done\n"
     ]
    },
    {
     "name": "stderr",
     "output_type": "stream",
     "text": [
      "\r",
      " 21%|████████████████▉                                                              | 229/1070 [00:10<00:38, 22.02it/s]"
     ]
    },
    {
     "name": "stdout",
     "output_type": "stream",
     "text": [
      "MDH_outdoorTemp_median_MDH_indoorAtmo-outdoorAtmo_mean_ratio done\n",
      "MDH_outdoorTemp_median_MDH_indoorAtmo-outdoorAtmo_median_ratio done\n",
      "MDH_outdoorTemp_median_MDH_indoorHum-outdoorHum_mean_ratio done\n"
     ]
    },
    {
     "name": "stderr",
     "output_type": "stream",
     "text": [
      "\r",
      " 22%|█████████████████▏                                                             | 232/1070 [00:10<00:37, 22.28it/s]"
     ]
    },
    {
     "name": "stdout",
     "output_type": "stream",
     "text": [
      "MDH_outdoorTemp_median_MDH_indoorHum-outdoorHum_median_ratio done\n",
      "MDH_outdoorHum_mean_outdoorTemp_ratio done\n",
      "MDH_outdoorHum_mean_outdoorHum_ratio done\n"
     ]
    },
    {
     "name": "stderr",
     "output_type": "stream",
     "text": [
      "\r",
      " 22%|█████████████████▎                                                             | 235/1070 [00:10<00:37, 22.52it/s]"
     ]
    },
    {
     "name": "stdout",
     "output_type": "stream",
     "text": [
      "MDH_outdoorHum_mean_outdoorAtmo_ratio done\n",
      "MDH_outdoorHum_mean_indoorHum_ratio done\n",
      "MDH_outdoorHum_mean_indoorAtmo_ratio done\n"
     ]
    },
    {
     "name": "stderr",
     "output_type": "stream",
     "text": [
      "\r",
      " 22%|█████████████████▌                                                             | 238/1070 [00:11<00:36, 22.58it/s]"
     ]
    },
    {
     "name": "stdout",
     "output_type": "stream",
     "text": [
      "MDH_outdoorHum_mean_indoorAtmo-outdoorAtmo_ratio done\n",
      "MDH_outdoorHum_mean_indoorHum-outdoorHum_ratio done\n",
      "MDH_outdoorHum_mean_MDH_outdoorTemp_mean_ratio done\n"
     ]
    },
    {
     "name": "stderr",
     "output_type": "stream",
     "text": [
      "\r",
      " 23%|█████████████████▊                                                             | 241/1070 [00:11<00:36, 22.48it/s]"
     ]
    },
    {
     "name": "stdout",
     "output_type": "stream",
     "text": [
      "MDH_outdoorHum_mean_MDH_outdoorTemp_median_ratio done\n",
      "MDH_outdoorHum_mean_MDH_outdoorHum_median_ratio done\n",
      "MDH_outdoorHum_mean_MDH_outdoorAtmo_mean_ratio done\n"
     ]
    },
    {
     "name": "stderr",
     "output_type": "stream",
     "text": [
      "\r",
      " 23%|██████████████████                                                             | 244/1070 [00:11<00:36, 22.56it/s]"
     ]
    },
    {
     "name": "stdout",
     "output_type": "stream",
     "text": [
      "MDH_outdoorHum_mean_MDH_outdoorAtmo_median_ratio done\n",
      "MDH_outdoorHum_mean_MDH_indoorHum_mean_ratio done\n",
      "MDH_outdoorHum_mean_MDH_indoorHum_median_ratio done\n"
     ]
    },
    {
     "name": "stderr",
     "output_type": "stream",
     "text": [
      "\r",
      " 23%|██████████████████▏                                                            | 247/1070 [00:11<00:37, 22.16it/s]"
     ]
    },
    {
     "name": "stdout",
     "output_type": "stream",
     "text": [
      "MDH_outdoorHum_mean_MDH_indoorAtmo_mean_ratio done\n",
      "MDH_outdoorHum_mean_MDH_indoorAtmo_median_ratio done\n",
      "MDH_outdoorHum_mean_MDH_indoorAtmo-outdoorAtmo_mean_ratio done\n"
     ]
    },
    {
     "name": "stderr",
     "output_type": "stream",
     "text": [
      "\r",
      " 23%|██████████████████▍                                                            | 250/1070 [00:11<00:36, 22.28it/s]"
     ]
    },
    {
     "name": "stdout",
     "output_type": "stream",
     "text": [
      "MDH_outdoorHum_mean_MDH_indoorAtmo-outdoorAtmo_median_ratio error\n",
      "MDH_outdoorHum_mean_MDH_indoorHum-outdoorHum_mean_ratio done\n",
      "MDH_outdoorHum_mean_MDH_indoorHum-outdoorHum_median_ratio done\n"
     ]
    },
    {
     "name": "stderr",
     "output_type": "stream",
     "text": [
      "\r",
      " 24%|██████████████████▋                                                            | 253/1070 [00:11<00:34, 23.86it/s]"
     ]
    },
    {
     "name": "stdout",
     "output_type": "stream",
     "text": [
      "MDH_outdoorHum_median_outdoorTemp_ratio done\n",
      "MDH_outdoorHum_median_outdoorHum_ratio done\n",
      "MDH_outdoorHum_median_outdoorAtmo_ratio done\n"
     ]
    },
    {
     "name": "stderr",
     "output_type": "stream",
     "text": [
      "\r",
      " 24%|██████████████████▉                                                            | 256/1070 [00:11<00:34, 23.29it/s]"
     ]
    },
    {
     "name": "stdout",
     "output_type": "stream",
     "text": [
      "MDH_outdoorHum_median_indoorHum_ratio done\n",
      "MDH_outdoorHum_median_indoorAtmo_ratio done\n",
      "MDH_outdoorHum_median_indoorAtmo-outdoorAtmo_ratio done\n"
     ]
    },
    {
     "name": "stderr",
     "output_type": "stream",
     "text": [
      "\r",
      " 24%|███████████████████                                                            | 259/1070 [00:11<00:35, 23.07it/s]"
     ]
    },
    {
     "name": "stdout",
     "output_type": "stream",
     "text": [
      "MDH_outdoorHum_median_indoorHum-outdoorHum_ratio done\n",
      "MDH_outdoorHum_median_MDH_outdoorTemp_mean_ratio done\n",
      "MDH_outdoorHum_median_MDH_outdoorTemp_median_ratio done\n"
     ]
    },
    {
     "name": "stderr",
     "output_type": "stream",
     "text": [
      "\r",
      " 24%|███████████████████▎                                                           | 262/1070 [00:12<00:35, 22.71it/s]"
     ]
    },
    {
     "name": "stdout",
     "output_type": "stream",
     "text": [
      "MDH_outdoorHum_median_MDH_outdoorHum_mean_ratio done\n",
      "MDH_outdoorHum_median_MDH_outdoorAtmo_mean_ratio done\n",
      "MDH_outdoorHum_median_MDH_outdoorAtmo_median_ratio done\n"
     ]
    },
    {
     "name": "stderr",
     "output_type": "stream",
     "text": [
      "\r",
      " 25%|███████████████████▌                                                           | 265/1070 [00:12<00:35, 22.57it/s]"
     ]
    },
    {
     "name": "stdout",
     "output_type": "stream",
     "text": [
      "MDH_outdoorHum_median_MDH_indoorHum_mean_ratio done\n",
      "MDH_outdoorHum_median_MDH_indoorHum_median_ratio done\n",
      "MDH_outdoorHum_median_MDH_indoorAtmo_mean_ratio done\n"
     ]
    },
    {
     "name": "stderr",
     "output_type": "stream",
     "text": [
      "\r",
      " 25%|███████████████████▊                                                           | 268/1070 [00:12<00:35, 22.37it/s]"
     ]
    },
    {
     "name": "stdout",
     "output_type": "stream",
     "text": [
      "MDH_outdoorHum_median_MDH_indoorAtmo_median_ratio done\n",
      "MDH_outdoorHum_median_MDH_indoorAtmo-outdoorAtmo_mean_ratio done\n",
      "MDH_outdoorHum_median_MDH_indoorAtmo-outdoorAtmo_median_ratio done\n"
     ]
    },
    {
     "name": "stderr",
     "output_type": "stream",
     "text": [
      "\r",
      " 25%|████████████████████                                                           | 271/1070 [00:12<00:35, 22.38it/s]"
     ]
    },
    {
     "name": "stdout",
     "output_type": "stream",
     "text": [
      "MDH_outdoorHum_median_MDH_indoorHum-outdoorHum_mean_ratio done\n",
      "MDH_outdoorHum_median_MDH_indoorHum-outdoorHum_median_ratio done\n",
      "MDH_outdoorAtmo_mean_outdoorTemp_ratio done\n"
     ]
    },
    {
     "name": "stderr",
     "output_type": "stream",
     "text": [
      "\r",
      " 26%|████████████████████▏                                                          | 274/1070 [00:12<00:35, 22.59it/s]"
     ]
    },
    {
     "name": "stdout",
     "output_type": "stream",
     "text": [
      "MDH_outdoorAtmo_mean_outdoorHum_ratio done\n",
      "MDH_outdoorAtmo_mean_outdoorAtmo_ratio done\n",
      "MDH_outdoorAtmo_mean_indoorHum_ratio done\n"
     ]
    },
    {
     "name": "stderr",
     "output_type": "stream",
     "text": [
      "\r",
      " 26%|████████████████████▍                                                          | 277/1070 [00:12<00:35, 22.33it/s]"
     ]
    },
    {
     "name": "stdout",
     "output_type": "stream",
     "text": [
      "MDH_outdoorAtmo_mean_indoorAtmo_ratio done\n",
      "MDH_outdoorAtmo_mean_indoorAtmo-outdoorAtmo_ratio done\n",
      "MDH_outdoorAtmo_mean_indoorHum-outdoorHum_ratio error\n"
     ]
    },
    {
     "name": "stderr",
     "output_type": "stream",
     "text": [
      "\r",
      " 26%|████████████████████▋                                                          | 280/1070 [00:12<00:33, 23.62it/s]"
     ]
    },
    {
     "name": "stdout",
     "output_type": "stream",
     "text": [
      "MDH_outdoorAtmo_mean_MDH_outdoorTemp_mean_ratio done\n",
      "MDH_outdoorAtmo_mean_MDH_outdoorTemp_median_ratio done\n",
      "MDH_outdoorAtmo_mean_MDH_outdoorHum_mean_ratio done\n"
     ]
    },
    {
     "name": "stderr",
     "output_type": "stream",
     "text": [
      "\r",
      " 26%|████████████████████▉                                                          | 283/1070 [00:13<00:32, 24.02it/s]"
     ]
    },
    {
     "name": "stdout",
     "output_type": "stream",
     "text": [
      "MDH_outdoorAtmo_mean_MDH_outdoorHum_median_ratio done\n",
      "MDH_outdoorAtmo_mean_MDH_outdoorAtmo_median_ratio done\n",
      "MDH_outdoorAtmo_mean_MDH_indoorHum_mean_ratio done\n"
     ]
    },
    {
     "name": "stderr",
     "output_type": "stream",
     "text": [
      "\r",
      " 27%|█████████████████████                                                          | 286/1070 [00:13<00:33, 23.24it/s]"
     ]
    },
    {
     "name": "stdout",
     "output_type": "stream",
     "text": [
      "MDH_outdoorAtmo_mean_MDH_indoorHum_median_ratio done\n",
      "MDH_outdoorAtmo_mean_MDH_indoorAtmo_mean_ratio done\n",
      "MDH_outdoorAtmo_mean_MDH_indoorAtmo_median_ratio done\n"
     ]
    },
    {
     "name": "stderr",
     "output_type": "stream",
     "text": [
      "\r",
      " 27%|█████████████████████▎                                                         | 289/1070 [00:13<00:33, 23.14it/s]"
     ]
    },
    {
     "name": "stdout",
     "output_type": "stream",
     "text": [
      "MDH_outdoorAtmo_mean_MDH_indoorAtmo-outdoorAtmo_mean_ratio done\n",
      "MDH_outdoorAtmo_mean_MDH_indoorAtmo-outdoorAtmo_median_ratio done\n",
      "MDH_outdoorAtmo_mean_MDH_indoorHum-outdoorHum_mean_ratio done\n"
     ]
    },
    {
     "name": "stderr",
     "output_type": "stream",
     "text": [
      "\r",
      " 27%|█████████████████████▌                                                         | 292/1070 [00:13<00:33, 23.02it/s]"
     ]
    },
    {
     "name": "stdout",
     "output_type": "stream",
     "text": [
      "MDH_outdoorAtmo_mean_MDH_indoorHum-outdoorHum_median_ratio done\n",
      "MDH_outdoorAtmo_median_outdoorTemp_ratio done\n",
      "MDH_outdoorAtmo_median_outdoorHum_ratio done\n"
     ]
    },
    {
     "name": "stderr",
     "output_type": "stream",
     "text": [
      "\r",
      " 28%|█████████████████████▊                                                         | 295/1070 [00:13<00:33, 23.04it/s]"
     ]
    },
    {
     "name": "stdout",
     "output_type": "stream",
     "text": [
      "MDH_outdoorAtmo_median_outdoorAtmo_ratio done\n",
      "MDH_outdoorAtmo_median_indoorHum_ratio done\n",
      "MDH_outdoorAtmo_median_indoorAtmo_ratio done\n"
     ]
    },
    {
     "name": "stderr",
     "output_type": "stream",
     "text": [
      "\r",
      " 28%|██████████████████████                                                         | 298/1070 [00:13<00:34, 22.64it/s]"
     ]
    },
    {
     "name": "stdout",
     "output_type": "stream",
     "text": [
      "MDH_outdoorAtmo_median_indoorAtmo-outdoorAtmo_ratio done\n",
      "MDH_outdoorAtmo_median_indoorHum-outdoorHum_ratio done\n",
      "MDH_outdoorAtmo_median_MDH_outdoorTemp_mean_ratio done\n"
     ]
    },
    {
     "name": "stderr",
     "output_type": "stream",
     "text": [
      "\r",
      " 28%|██████████████████████▏                                                        | 301/1070 [00:13<00:33, 22.93it/s]"
     ]
    },
    {
     "name": "stdout",
     "output_type": "stream",
     "text": [
      "MDH_outdoorAtmo_median_MDH_outdoorTemp_median_ratio done\n",
      "MDH_outdoorAtmo_median_MDH_outdoorHum_mean_ratio done\n",
      "MDH_outdoorAtmo_median_MDH_outdoorHum_median_ratio done\n"
     ]
    },
    {
     "name": "stderr",
     "output_type": "stream",
     "text": [
      "\r",
      " 28%|██████████████████████▍                                                        | 304/1070 [00:13<00:33, 22.92it/s]"
     ]
    },
    {
     "name": "stdout",
     "output_type": "stream",
     "text": [
      "MDH_outdoorAtmo_median_MDH_outdoorAtmo_mean_ratio done\n",
      "MDH_outdoorAtmo_median_MDH_indoorHum_mean_ratio done\n",
      "MDH_outdoorAtmo_median_MDH_indoorHum_median_ratio done\n"
     ]
    },
    {
     "name": "stderr",
     "output_type": "stream",
     "text": [
      "\r",
      " 29%|██████████████████████▋                                                        | 307/1070 [00:14<00:33, 22.71it/s]"
     ]
    },
    {
     "name": "stdout",
     "output_type": "stream",
     "text": [
      "MDH_outdoorAtmo_median_MDH_indoorAtmo_mean_ratio done\n",
      "MDH_outdoorAtmo_median_MDH_indoorAtmo_median_ratio done\n",
      "MDH_outdoorAtmo_median_MDH_indoorAtmo-outdoorAtmo_mean_ratio done\n"
     ]
    },
    {
     "name": "stderr",
     "output_type": "stream",
     "text": [
      "\r",
      " 29%|██████████████████████▉                                                        | 310/1070 [00:14<00:33, 22.47it/s]"
     ]
    },
    {
     "name": "stdout",
     "output_type": "stream",
     "text": [
      "MDH_outdoorAtmo_median_MDH_indoorAtmo-outdoorAtmo_median_ratio error\n",
      "MDH_outdoorAtmo_median_MDH_indoorHum-outdoorHum_mean_ratio done\n",
      "MDH_outdoorAtmo_median_MDH_indoorHum-outdoorHum_median_ratio done\n"
     ]
    },
    {
     "name": "stderr",
     "output_type": "stream",
     "text": [
      "\r",
      " 29%|███████████████████████                                                        | 313/1070 [00:14<00:31, 23.95it/s]"
     ]
    },
    {
     "name": "stdout",
     "output_type": "stream",
     "text": [
      "MDH_indoorHum_mean_outdoorTemp_ratio done\n",
      "MDH_indoorHum_mean_outdoorHum_ratio done\n",
      "MDH_indoorHum_mean_outdoorAtmo_ratio done\n"
     ]
    },
    {
     "name": "stderr",
     "output_type": "stream",
     "text": [
      "\r",
      " 30%|███████████████████████▎                                                       | 316/1070 [00:14<00:32, 23.30it/s]"
     ]
    },
    {
     "name": "stdout",
     "output_type": "stream",
     "text": [
      "MDH_indoorHum_mean_indoorHum_ratio done\n",
      "MDH_indoorHum_mean_indoorAtmo_ratio done\n",
      "MDH_indoorHum_mean_indoorAtmo-outdoorAtmo_ratio done\n"
     ]
    },
    {
     "name": "stderr",
     "output_type": "stream",
     "text": [
      "\r",
      " 30%|███████████████████████▌                                                       | 319/1070 [00:14<00:32, 23.02it/s]"
     ]
    },
    {
     "name": "stdout",
     "output_type": "stream",
     "text": [
      "MDH_indoorHum_mean_indoorHum-outdoorHum_ratio done\n",
      "MDH_indoorHum_mean_MDH_outdoorTemp_mean_ratio done\n",
      "MDH_indoorHum_mean_MDH_outdoorTemp_median_ratio done\n"
     ]
    },
    {
     "name": "stderr",
     "output_type": "stream",
     "text": [
      "\r",
      " 30%|███████████████████████▊                                                       | 322/1070 [00:14<00:32, 22.88it/s]"
     ]
    },
    {
     "name": "stdout",
     "output_type": "stream",
     "text": [
      "MDH_indoorHum_mean_MDH_outdoorHum_mean_ratio done\n",
      "MDH_indoorHum_mean_MDH_outdoorHum_median_ratio done\n",
      "MDH_indoorHum_mean_MDH_outdoorAtmo_mean_ratio done\n"
     ]
    },
    {
     "name": "stderr",
     "output_type": "stream",
     "text": [
      "\r",
      " 30%|███████████████████████▉                                                       | 325/1070 [00:14<00:32, 22.74it/s]"
     ]
    },
    {
     "name": "stdout",
     "output_type": "stream",
     "text": [
      "MDH_indoorHum_mean_MDH_outdoorAtmo_median_ratio done\n",
      "MDH_indoorHum_mean_MDH_indoorHum_median_ratio done\n",
      "MDH_indoorHum_mean_MDH_indoorAtmo_mean_ratio done\n"
     ]
    },
    {
     "name": "stderr",
     "output_type": "stream",
     "text": [
      "\r",
      " 31%|████████████████████████▏                                                      | 328/1070 [00:14<00:33, 22.43it/s]"
     ]
    },
    {
     "name": "stdout",
     "output_type": "stream",
     "text": [
      "MDH_indoorHum_mean_MDH_indoorAtmo_median_ratio done\n",
      "MDH_indoorHum_mean_MDH_indoorAtmo-outdoorAtmo_mean_ratio done\n",
      "MDH_indoorHum_mean_MDH_indoorAtmo-outdoorAtmo_median_ratio done\n"
     ]
    },
    {
     "name": "stderr",
     "output_type": "stream",
     "text": [
      "\r",
      " 31%|████████████████████████▍                                                      | 331/1070 [00:15<00:32, 22.47it/s]"
     ]
    },
    {
     "name": "stdout",
     "output_type": "stream",
     "text": [
      "MDH_indoorHum_mean_MDH_indoorHum-outdoorHum_mean_ratio done\n",
      "MDH_indoorHum_mean_MDH_indoorHum-outdoorHum_median_ratio done\n",
      "MDH_indoorHum_median_outdoorTemp_ratio done\n"
     ]
    },
    {
     "name": "stderr",
     "output_type": "stream",
     "text": [
      "\r",
      " 31%|████████████████████████▋                                                      | 334/1070 [00:15<00:32, 22.50it/s]"
     ]
    },
    {
     "name": "stdout",
     "output_type": "stream",
     "text": [
      "MDH_indoorHum_median_outdoorHum_ratio done\n",
      "MDH_indoorHum_median_outdoorAtmo_ratio done\n",
      "MDH_indoorHum_median_indoorHum_ratio done\n"
     ]
    },
    {
     "name": "stderr",
     "output_type": "stream",
     "text": [
      "\r",
      " 31%|████████████████████████▉                                                      | 337/1070 [00:15<00:32, 22.57it/s]"
     ]
    },
    {
     "name": "stdout",
     "output_type": "stream",
     "text": [
      "MDH_indoorHum_median_indoorAtmo_ratio done\n",
      "MDH_indoorHum_median_indoorAtmo-outdoorAtmo_ratio done\n",
      "MDH_indoorHum_median_indoorHum-outdoorHum_ratio done\n"
     ]
    },
    {
     "name": "stderr",
     "output_type": "stream",
     "text": [
      "\r",
      " 32%|█████████████████████████                                                      | 340/1070 [00:15<00:32, 22.27it/s]"
     ]
    },
    {
     "name": "stdout",
     "output_type": "stream",
     "text": [
      "MDH_indoorHum_median_MDH_outdoorTemp_mean_ratio done\n",
      "MDH_indoorHum_median_MDH_outdoorTemp_median_ratio done\n",
      "MDH_indoorHum_median_MDH_outdoorHum_mean_ratio done\n"
     ]
    },
    {
     "name": "stderr",
     "output_type": "stream",
     "text": [
      "\r",
      " 32%|█████████████████████████▎                                                     | 343/1070 [00:15<00:33, 21.92it/s]"
     ]
    },
    {
     "name": "stdout",
     "output_type": "stream",
     "text": [
      "MDH_indoorHum_median_MDH_outdoorHum_median_ratio done\n",
      "MDH_indoorHum_median_MDH_outdoorAtmo_mean_ratio done\n",
      "MDH_indoorHum_median_MDH_outdoorAtmo_median_ratio done\n"
     ]
    },
    {
     "name": "stderr",
     "output_type": "stream",
     "text": [
      "\r",
      " 32%|█████████████████████████▌                                                     | 346/1070 [00:15<00:32, 22.21it/s]"
     ]
    },
    {
     "name": "stdout",
     "output_type": "stream",
     "text": [
      "MDH_indoorHum_median_MDH_indoorHum_mean_ratio done\n",
      "MDH_indoorHum_median_MDH_indoorAtmo_mean_ratio done\n",
      "MDH_indoorHum_median_MDH_indoorAtmo_median_ratio done\n"
     ]
    },
    {
     "name": "stderr",
     "output_type": "stream",
     "text": [
      "\r",
      " 33%|█████████████████████████▊                                                     | 349/1070 [00:15<00:32, 22.12it/s]"
     ]
    },
    {
     "name": "stdout",
     "output_type": "stream",
     "text": [
      "MDH_indoorHum_median_MDH_indoorAtmo-outdoorAtmo_mean_ratio done\n",
      "MDH_indoorHum_median_MDH_indoorAtmo-outdoorAtmo_median_ratio done\n",
      "MDH_indoorHum_median_MDH_indoorHum-outdoorHum_mean_ratio done\n"
     ]
    },
    {
     "name": "stderr",
     "output_type": "stream",
     "text": [
      "\r",
      " 33%|█████████████████████████▉                                                     | 352/1070 [00:16<00:32, 22.15it/s]"
     ]
    },
    {
     "name": "stdout",
     "output_type": "stream",
     "text": [
      "MDH_indoorHum_median_MDH_indoorHum-outdoorHum_median_ratio done\n",
      "MDH_indoorAtmo_mean_outdoorTemp_ratio done\n",
      "MDH_indoorAtmo_mean_outdoorHum_ratio done\n"
     ]
    },
    {
     "name": "stderr",
     "output_type": "stream",
     "text": [
      "\r",
      " 33%|██████████████████████████▏                                                    | 355/1070 [00:16<00:31, 22.73it/s]"
     ]
    },
    {
     "name": "stdout",
     "output_type": "stream",
     "text": [
      "MDH_indoorAtmo_mean_outdoorAtmo_ratio done\n",
      "MDH_indoorAtmo_mean_indoorHum_ratio done\n",
      "MDH_indoorAtmo_mean_indoorAtmo_ratio done\n"
     ]
    },
    {
     "name": "stderr",
     "output_type": "stream",
     "text": [
      "\r",
      " 33%|██████████████████████████▍                                                    | 358/1070 [00:16<00:31, 22.84it/s]"
     ]
    },
    {
     "name": "stdout",
     "output_type": "stream",
     "text": [
      "MDH_indoorAtmo_mean_indoorAtmo-outdoorAtmo_ratio done\n",
      "MDH_indoorAtmo_mean_indoorHum-outdoorHum_ratio done\n",
      "MDH_indoorAtmo_mean_MDH_outdoorTemp_mean_ratio done\n"
     ]
    },
    {
     "name": "stderr",
     "output_type": "stream",
     "text": [
      "\r",
      " 34%|██████████████████████████▋                                                    | 361/1070 [00:16<00:31, 22.40it/s]"
     ]
    },
    {
     "name": "stdout",
     "output_type": "stream",
     "text": [
      "MDH_indoorAtmo_mean_MDH_outdoorTemp_median_ratio done\n",
      "MDH_indoorAtmo_mean_MDH_outdoorHum_mean_ratio done\n",
      "MDH_indoorAtmo_mean_MDH_outdoorHum_median_ratio done\n"
     ]
    },
    {
     "name": "stderr",
     "output_type": "stream",
     "text": [
      "\r",
      " 34%|██████████████████████████▊                                                    | 364/1070 [00:16<00:30, 22.91it/s]"
     ]
    },
    {
     "name": "stdout",
     "output_type": "stream",
     "text": [
      "MDH_indoorAtmo_mean_MDH_outdoorAtmo_mean_ratio done\n",
      "MDH_indoorAtmo_mean_MDH_outdoorAtmo_median_ratio done\n",
      "MDH_indoorAtmo_mean_MDH_indoorHum_mean_ratio done\n"
     ]
    },
    {
     "name": "stderr",
     "output_type": "stream",
     "text": [
      "\r",
      " 34%|███████████████████████████                                                    | 367/1070 [00:16<00:31, 22.65it/s]"
     ]
    },
    {
     "name": "stdout",
     "output_type": "stream",
     "text": [
      "MDH_indoorAtmo_mean_MDH_indoorHum_median_ratio done\n",
      "MDH_indoorAtmo_mean_MDH_indoorAtmo_median_ratio done\n",
      "MDH_indoorAtmo_mean_MDH_indoorAtmo-outdoorAtmo_mean_ratio done\n"
     ]
    },
    {
     "name": "stderr",
     "output_type": "stream",
     "text": [
      "\r",
      " 35%|███████████████████████████▎                                                   | 370/1070 [00:16<00:30, 22.78it/s]"
     ]
    },
    {
     "name": "stdout",
     "output_type": "stream",
     "text": [
      "MDH_indoorAtmo_mean_MDH_indoorAtmo-outdoorAtmo_median_ratio done\n",
      "MDH_indoorAtmo_mean_MDH_indoorHum-outdoorHum_mean_ratio done\n",
      "MDH_indoorAtmo_mean_MDH_indoorHum-outdoorHum_median_ratio done\n"
     ]
    },
    {
     "name": "stderr",
     "output_type": "stream",
     "text": [
      "\r",
      " 35%|███████████████████████████▌                                                   | 373/1070 [00:16<00:31, 22.14it/s]"
     ]
    },
    {
     "name": "stdout",
     "output_type": "stream",
     "text": [
      "MDH_indoorAtmo_median_outdoorTemp_ratio done\n",
      "MDH_indoorAtmo_median_outdoorHum_ratio done\n",
      "MDH_indoorAtmo_median_outdoorAtmo_ratio done\n"
     ]
    },
    {
     "name": "stderr",
     "output_type": "stream",
     "text": [
      "\r",
      " 35%|███████████████████████████▊                                                   | 376/1070 [00:17<00:31, 22.37it/s]"
     ]
    },
    {
     "name": "stdout",
     "output_type": "stream",
     "text": [
      "MDH_indoorAtmo_median_indoorHum_ratio done\n",
      "MDH_indoorAtmo_median_indoorAtmo_ratio done\n",
      "MDH_indoorAtmo_median_indoorAtmo-outdoorAtmo_ratio done\n"
     ]
    },
    {
     "name": "stderr",
     "output_type": "stream",
     "text": [
      "\r",
      " 35%|███████████████████████████▉                                                   | 379/1070 [00:17<00:30, 22.43it/s]"
     ]
    },
    {
     "name": "stdout",
     "output_type": "stream",
     "text": [
      "MDH_indoorAtmo_median_indoorHum-outdoorHum_ratio done\n",
      "MDH_indoorAtmo_median_MDH_outdoorTemp_mean_ratio done\n",
      "MDH_indoorAtmo_median_MDH_outdoorTemp_median_ratio done\n"
     ]
    },
    {
     "name": "stderr",
     "output_type": "stream",
     "text": [
      "\r",
      " 36%|████████████████████████████▏                                                  | 382/1070 [00:17<00:29, 23.04it/s]"
     ]
    },
    {
     "name": "stdout",
     "output_type": "stream",
     "text": [
      "MDH_indoorAtmo_median_MDH_outdoorHum_mean_ratio done\n",
      "MDH_indoorAtmo_median_MDH_outdoorHum_median_ratio done\n",
      "MDH_indoorAtmo_median_MDH_outdoorAtmo_mean_ratio done\n"
     ]
    },
    {
     "name": "stderr",
     "output_type": "stream",
     "text": [
      "\r",
      " 36%|████████████████████████████▍                                                  | 385/1070 [00:17<00:30, 22.59it/s]"
     ]
    },
    {
     "name": "stdout",
     "output_type": "stream",
     "text": [
      "MDH_indoorAtmo_median_MDH_outdoorAtmo_median_ratio done\n",
      "MDH_indoorAtmo_median_MDH_indoorHum_mean_ratio done\n",
      "MDH_indoorAtmo_median_MDH_indoorHum_median_ratio done\n"
     ]
    },
    {
     "name": "stderr",
     "output_type": "stream",
     "text": [
      "\r",
      " 36%|████████████████████████████▋                                                  | 388/1070 [00:17<00:30, 22.13it/s]"
     ]
    },
    {
     "name": "stdout",
     "output_type": "stream",
     "text": [
      "MDH_indoorAtmo_median_MDH_indoorAtmo_mean_ratio done\n",
      "MDH_indoorAtmo_median_MDH_indoorAtmo-outdoorAtmo_mean_ratio done\n",
      "MDH_indoorAtmo_median_MDH_indoorAtmo-outdoorAtmo_median_ratio done\n"
     ]
    },
    {
     "name": "stderr",
     "output_type": "stream",
     "text": [
      "\r",
      " 37%|████████████████████████████▊                                                  | 391/1070 [00:17<00:30, 22.26it/s]"
     ]
    },
    {
     "name": "stdout",
     "output_type": "stream",
     "text": [
      "MDH_indoorAtmo_median_MDH_indoorHum-outdoorHum_mean_ratio done\n",
      "MDH_indoorAtmo_median_MDH_indoorHum-outdoorHum_median_ratio done\n",
      "MDH_indoorAtmo-outdoorAtmo_mean_outdoorTemp_ratio done\n"
     ]
    },
    {
     "name": "stderr",
     "output_type": "stream",
     "text": [
      "\r",
      " 37%|█████████████████████████████                                                  | 394/1070 [00:17<00:31, 21.40it/s]"
     ]
    },
    {
     "name": "stdout",
     "output_type": "stream",
     "text": [
      "MDH_indoorAtmo-outdoorAtmo_mean_outdoorHum_ratio done\n",
      "MDH_indoorAtmo-outdoorAtmo_mean_outdoorAtmo_ratio done\n",
      "MDH_indoorAtmo-outdoorAtmo_mean_indoorHum_ratio done\n"
     ]
    },
    {
     "name": "stderr",
     "output_type": "stream",
     "text": [
      "\r",
      " 37%|█████████████████████████████▎                                                 | 397/1070 [00:18<00:31, 21.46it/s]"
     ]
    },
    {
     "name": "stdout",
     "output_type": "stream",
     "text": [
      "MDH_indoorAtmo-outdoorAtmo_mean_indoorAtmo_ratio done\n",
      "MDH_indoorAtmo-outdoorAtmo_mean_indoorAtmo-outdoorAtmo_ratio error\n",
      "MDH_indoorAtmo-outdoorAtmo_mean_indoorHum-outdoorHum_ratio done\n"
     ]
    },
    {
     "name": "stderr",
     "output_type": "stream",
     "text": [
      "\r",
      " 37%|█████████████████████████████▌                                                 | 400/1070 [00:18<00:28, 23.30it/s]"
     ]
    },
    {
     "name": "stdout",
     "output_type": "stream",
     "text": [
      "MDH_indoorAtmo-outdoorAtmo_mean_MDH_outdoorTemp_mean_ratio done\n",
      "MDH_indoorAtmo-outdoorAtmo_mean_MDH_outdoorTemp_median_ratio done\n",
      "MDH_indoorAtmo-outdoorAtmo_mean_MDH_outdoorHum_mean_ratio done\n"
     ]
    },
    {
     "name": "stderr",
     "output_type": "stream",
     "text": [
      "\r",
      " 38%|█████████████████████████████▊                                                 | 403/1070 [00:18<00:29, 22.66it/s]"
     ]
    },
    {
     "name": "stdout",
     "output_type": "stream",
     "text": [
      "MDH_indoorAtmo-outdoorAtmo_mean_MDH_outdoorHum_median_ratio done\n",
      "MDH_indoorAtmo-outdoorAtmo_mean_MDH_outdoorAtmo_mean_ratio done\n",
      "MDH_indoorAtmo-outdoorAtmo_mean_MDH_outdoorAtmo_median_ratio done\n"
     ]
    },
    {
     "name": "stderr",
     "output_type": "stream",
     "text": [
      "\r",
      " 38%|█████████████████████████████▉                                                 | 406/1070 [00:18<00:29, 22.38it/s]"
     ]
    },
    {
     "name": "stdout",
     "output_type": "stream",
     "text": [
      "MDH_indoorAtmo-outdoorAtmo_mean_MDH_indoorHum_mean_ratio done\n",
      "MDH_indoorAtmo-outdoorAtmo_mean_MDH_indoorHum_median_ratio done\n",
      "MDH_indoorAtmo-outdoorAtmo_mean_MDH_indoorAtmo_mean_ratio done\n"
     ]
    },
    {
     "name": "stderr",
     "output_type": "stream",
     "text": [
      "\r",
      " 38%|██████████████████████████████▏                                                | 409/1070 [00:18<00:29, 22.38it/s]"
     ]
    },
    {
     "name": "stdout",
     "output_type": "stream",
     "text": [
      "MDH_indoorAtmo-outdoorAtmo_mean_MDH_indoorAtmo_median_ratio done\n",
      "MDH_indoorAtmo-outdoorAtmo_mean_MDH_indoorAtmo-outdoorAtmo_median_ratio error\n",
      "MDH_indoorAtmo-outdoorAtmo_mean_MDH_indoorHum-outdoorHum_mean_ratio done\n"
     ]
    },
    {
     "name": "stderr",
     "output_type": "stream",
     "text": [
      "\r",
      " 39%|██████████████████████████████▍                                                | 412/1070 [00:18<00:27, 23.77it/s]"
     ]
    },
    {
     "name": "stdout",
     "output_type": "stream",
     "text": [
      "MDH_indoorAtmo-outdoorAtmo_mean_MDH_indoorHum-outdoorHum_median_ratio error\n",
      "MDH_indoorAtmo-outdoorAtmo_median_outdoorTemp_ratio done\n",
      "MDH_indoorAtmo-outdoorAtmo_median_outdoorHum_ratio done\n"
     ]
    },
    {
     "name": "stderr",
     "output_type": "stream",
     "text": [
      "\r",
      " 39%|██████████████████████████████▋                                                | 415/1070 [00:18<00:26, 24.98it/s]"
     ]
    },
    {
     "name": "stdout",
     "output_type": "stream",
     "text": [
      "MDH_indoorAtmo-outdoorAtmo_median_outdoorAtmo_ratio done\n",
      "MDH_indoorAtmo-outdoorAtmo_median_indoorHum_ratio done\n",
      "MDH_indoorAtmo-outdoorAtmo_median_indoorAtmo_ratio done\n"
     ]
    },
    {
     "name": "stderr",
     "output_type": "stream",
     "text": [
      "\r",
      " 39%|██████████████████████████████▊                                                | 418/1070 [00:18<00:27, 24.03it/s]"
     ]
    },
    {
     "name": "stdout",
     "output_type": "stream",
     "text": [
      "MDH_indoorAtmo-outdoorAtmo_median_indoorAtmo-outdoorAtmo_ratio done\n",
      "MDH_indoorAtmo-outdoorAtmo_median_indoorHum-outdoorHum_ratio done\n",
      "MDH_indoorAtmo-outdoorAtmo_median_MDH_outdoorTemp_mean_ratio done\n"
     ]
    },
    {
     "name": "stderr",
     "output_type": "stream",
     "text": [
      "\r",
      " 39%|███████████████████████████████                                                | 421/1070 [00:19<00:27, 23.61it/s]"
     ]
    },
    {
     "name": "stdout",
     "output_type": "stream",
     "text": [
      "MDH_indoorAtmo-outdoorAtmo_median_MDH_outdoorTemp_median_ratio done\n",
      "MDH_indoorAtmo-outdoorAtmo_median_MDH_outdoorHum_mean_ratio done\n",
      "MDH_indoorAtmo-outdoorAtmo_median_MDH_outdoorHum_median_ratio done\n"
     ]
    },
    {
     "name": "stderr",
     "output_type": "stream",
     "text": [
      "\r",
      " 40%|███████████████████████████████▎                                               | 424/1070 [00:19<00:27, 23.07it/s]"
     ]
    },
    {
     "name": "stdout",
     "output_type": "stream",
     "text": [
      "MDH_indoorAtmo-outdoorAtmo_median_MDH_outdoorAtmo_mean_ratio done\n",
      "MDH_indoorAtmo-outdoorAtmo_median_MDH_outdoorAtmo_median_ratio done\n",
      "MDH_indoorAtmo-outdoorAtmo_median_MDH_indoorHum_mean_ratio done\n"
     ]
    },
    {
     "name": "stderr",
     "output_type": "stream",
     "text": [
      "\r",
      " 40%|███████████████████████████████▌                                               | 427/1070 [00:19<00:28, 22.56it/s]"
     ]
    },
    {
     "name": "stdout",
     "output_type": "stream",
     "text": [
      "MDH_indoorAtmo-outdoorAtmo_median_MDH_indoorHum_median_ratio done\n",
      "MDH_indoorAtmo-outdoorAtmo_median_MDH_indoorAtmo_mean_ratio done\n",
      "MDH_indoorAtmo-outdoorAtmo_median_MDH_indoorAtmo_median_ratio done\n"
     ]
    },
    {
     "name": "stderr",
     "output_type": "stream",
     "text": [
      "\r",
      " 40%|███████████████████████████████▋                                               | 430/1070 [00:19<00:28, 22.31it/s]"
     ]
    },
    {
     "name": "stdout",
     "output_type": "stream",
     "text": [
      "MDH_indoorAtmo-outdoorAtmo_median_MDH_indoorAtmo-outdoorAtmo_mean_ratio done\n",
      "MDH_indoorAtmo-outdoorAtmo_median_MDH_indoorHum-outdoorHum_mean_ratio done\n",
      "MDH_indoorAtmo-outdoorAtmo_median_MDH_indoorHum-outdoorHum_median_ratio done\n"
     ]
    },
    {
     "name": "stderr",
     "output_type": "stream",
     "text": [
      "\r",
      " 40%|███████████████████████████████▉                                               | 433/1070 [00:19<00:28, 22.19it/s]"
     ]
    },
    {
     "name": "stdout",
     "output_type": "stream",
     "text": [
      "MDH_indoorHum-outdoorHum_mean_outdoorTemp_ratio done\n",
      "MDH_indoorHum-outdoorHum_mean_outdoorHum_ratio done\n",
      "MDH_indoorHum-outdoorHum_mean_outdoorAtmo_ratio done\n"
     ]
    },
    {
     "name": "stderr",
     "output_type": "stream",
     "text": [
      "\r",
      " 41%|████████████████████████████████▏                                              | 436/1070 [00:19<00:29, 21.82it/s]"
     ]
    },
    {
     "name": "stdout",
     "output_type": "stream",
     "text": [
      "MDH_indoorHum-outdoorHum_mean_indoorHum_ratio done\n",
      "MDH_indoorHum-outdoorHum_mean_indoorAtmo_ratio done\n",
      "MDH_indoorHum-outdoorHum_mean_indoorAtmo-outdoorAtmo_ratio error\n"
     ]
    },
    {
     "name": "stderr",
     "output_type": "stream",
     "text": [
      "\r",
      " 41%|████████████████████████████████▍                                              | 439/1070 [00:19<00:26, 23.37it/s]"
     ]
    },
    {
     "name": "stdout",
     "output_type": "stream",
     "text": [
      "MDH_indoorHum-outdoorHum_mean_indoorHum-outdoorHum_ratio done\n",
      "MDH_indoorHum-outdoorHum_mean_MDH_outdoorTemp_mean_ratio done\n",
      "MDH_indoorHum-outdoorHum_mean_MDH_outdoorTemp_median_ratio done\n"
     ]
    },
    {
     "name": "stderr",
     "output_type": "stream",
     "text": [
      "\r",
      " 41%|████████████████████████████████▋                                              | 442/1070 [00:20<00:28, 22.35it/s]"
     ]
    },
    {
     "name": "stdout",
     "output_type": "stream",
     "text": [
      "MDH_indoorHum-outdoorHum_mean_MDH_outdoorHum_mean_ratio done\n",
      "MDH_indoorHum-outdoorHum_mean_MDH_outdoorHum_median_ratio done\n",
      "MDH_indoorHum-outdoorHum_mean_MDH_outdoorAtmo_mean_ratio done\n"
     ]
    },
    {
     "name": "stderr",
     "output_type": "stream",
     "text": [
      "\r",
      " 42%|████████████████████████████████▊                                              | 445/1070 [00:20<00:28, 22.07it/s]"
     ]
    },
    {
     "name": "stdout",
     "output_type": "stream",
     "text": [
      "MDH_indoorHum-outdoorHum_mean_MDH_outdoorAtmo_median_ratio done\n",
      "MDH_indoorHum-outdoorHum_mean_MDH_indoorHum_mean_ratio done\n",
      "MDH_indoorHum-outdoorHum_mean_MDH_indoorHum_median_ratio done\n"
     ]
    },
    {
     "name": "stderr",
     "output_type": "stream",
     "text": [
      "\r",
      " 42%|█████████████████████████████████                                              | 448/1070 [00:20<00:28, 21.88it/s]"
     ]
    },
    {
     "name": "stdout",
     "output_type": "stream",
     "text": [
      "MDH_indoorHum-outdoorHum_mean_MDH_indoorAtmo_mean_ratio done\n",
      "MDH_indoorHum-outdoorHum_mean_MDH_indoorAtmo_median_ratio done\n",
      "MDH_indoorHum-outdoorHum_mean_MDH_indoorAtmo-outdoorAtmo_mean_ratio done\n"
     ]
    },
    {
     "name": "stderr",
     "output_type": "stream",
     "text": [
      "\r",
      " 42%|█████████████████████████████████▎                                             | 451/1070 [00:20<00:28, 21.94it/s]"
     ]
    },
    {
     "name": "stdout",
     "output_type": "stream",
     "text": [
      "MDH_indoorHum-outdoorHum_mean_MDH_indoorAtmo-outdoorAtmo_median_ratio error\n",
      "MDH_indoorHum-outdoorHum_mean_MDH_indoorHum-outdoorHum_median_ratio done\n",
      "MDH_indoorHum-outdoorHum_median_outdoorTemp_ratio done\n"
     ]
    },
    {
     "name": "stderr",
     "output_type": "stream",
     "text": [
      "\r",
      " 42%|█████████████████████████████████▌                                             | 454/1070 [00:20<00:26, 23.37it/s]"
     ]
    },
    {
     "name": "stdout",
     "output_type": "stream",
     "text": [
      "MDH_indoorHum-outdoorHum_median_outdoorHum_ratio done\n",
      "MDH_indoorHum-outdoorHum_median_outdoorAtmo_ratio done\n",
      "MDH_indoorHum-outdoorHum_median_indoorHum_ratio done\n"
     ]
    },
    {
     "name": "stderr",
     "output_type": "stream",
     "text": [
      "\r",
      " 43%|█████████████████████████████████▋                                             | 457/1070 [00:20<00:26, 22.91it/s]"
     ]
    },
    {
     "name": "stdout",
     "output_type": "stream",
     "text": [
      "MDH_indoorHum-outdoorHum_median_indoorAtmo_ratio done\n",
      "MDH_indoorHum-outdoorHum_median_indoorAtmo-outdoorAtmo_ratio error\n",
      "MDH_indoorHum-outdoorHum_median_indoorHum-outdoorHum_ratio done\n"
     ]
    },
    {
     "name": "stderr",
     "output_type": "stream",
     "text": [
      "\r",
      " 43%|█████████████████████████████████▉                                             | 460/1070 [00:20<00:25, 24.24it/s]"
     ]
    },
    {
     "name": "stdout",
     "output_type": "stream",
     "text": [
      "MDH_indoorHum-outdoorHum_median_MDH_outdoorTemp_mean_ratio done\n",
      "MDH_indoorHum-outdoorHum_median_MDH_outdoorTemp_median_ratio done\n",
      "MDH_indoorHum-outdoorHum_median_MDH_outdoorHum_mean_ratio done\n"
     ]
    },
    {
     "name": "stderr",
     "output_type": "stream",
     "text": [
      "\r",
      " 43%|██████████████████████████████████▏                                            | 463/1070 [00:20<00:25, 23.83it/s]"
     ]
    },
    {
     "name": "stdout",
     "output_type": "stream",
     "text": [
      "MDH_indoorHum-outdoorHum_median_MDH_outdoorHum_median_ratio done\n",
      "MDH_indoorHum-outdoorHum_median_MDH_outdoorAtmo_mean_ratio done\n",
      "MDH_indoorHum-outdoorHum_median_MDH_outdoorAtmo_median_ratio done\n"
     ]
    },
    {
     "name": "stderr",
     "output_type": "stream",
     "text": [
      "\r",
      " 44%|██████████████████████████████████▍                                            | 466/1070 [00:21<00:25, 23.33it/s]"
     ]
    },
    {
     "name": "stdout",
     "output_type": "stream",
     "text": [
      "MDH_indoorHum-outdoorHum_median_MDH_indoorHum_mean_ratio done\n",
      "MDH_indoorHum-outdoorHum_median_MDH_indoorHum_median_ratio done\n",
      "MDH_indoorHum-outdoorHum_median_MDH_indoorAtmo_mean_ratio done\n"
     ]
    },
    {
     "name": "stderr",
     "output_type": "stream",
     "text": [
      "\r",
      " 44%|██████████████████████████████████▋                                            | 469/1070 [00:21<00:26, 22.94it/s]"
     ]
    },
    {
     "name": "stdout",
     "output_type": "stream",
     "text": [
      "MDH_indoorHum-outdoorHum_median_MDH_indoorAtmo_median_ratio done\n",
      "MDH_indoorHum-outdoorHum_median_MDH_indoorAtmo-outdoorAtmo_mean_ratio done\n",
      "MDH_indoorHum-outdoorHum_median_MDH_indoorAtmo-outdoorAtmo_median_ratio error\n"
     ]
    },
    {
     "name": "stderr",
     "output_type": "stream",
     "text": [
      "\r",
      " 44%|██████████████████████████████████▊                                            | 472/1070 [00:21<00:24, 24.26it/s]"
     ]
    },
    {
     "name": "stdout",
     "output_type": "stream",
     "text": [
      "MDH_indoorHum-outdoorHum_median_MDH_indoorHum-outdoorHum_mean_ratio done\n",
      "dt done\n",
      "hit_outdoorTemp_mean done\n"
     ]
    },
    {
     "name": "stderr",
     "output_type": "stream",
     "text": [
      "\r",
      " 44%|███████████████████████████████████                                            | 475/1070 [00:21<00:25, 23.67it/s]"
     ]
    },
    {
     "name": "stdout",
     "output_type": "stream",
     "text": [
      "hit_outdoorHum_mean done\n",
      "hit_outdoorAtmo_mean done\n",
      "hit_indoorHum_mean done\n"
     ]
    },
    {
     "name": "stderr",
     "output_type": "stream",
     "text": [
      "\r",
      " 45%|███████████████████████████████████▎                                           | 478/1070 [00:21<00:25, 23.22it/s]"
     ]
    },
    {
     "name": "stdout",
     "output_type": "stream",
     "text": [
      "hit_indoorAtmo_mean done\n",
      "hit_indoorAtmo-outdoorAtmo_mean done\n",
      "hit_indoorHum-outdoorHum_mean done\n"
     ]
    },
    {
     "name": "stderr",
     "output_type": "stream",
     "text": [
      "\r",
      " 45%|███████████████████████████████████▌                                           | 481/1070 [00:21<00:26, 22.50it/s]"
     ]
    },
    {
     "name": "stdout",
     "output_type": "stream",
     "text": [
      "hit_temperature_mean done\n",
      "outdoorTemp_20_bin done\n",
      "outdoorTemp_50_bin done\n"
     ]
    },
    {
     "name": "stderr",
     "output_type": "stream",
     "text": [
      "\r",
      " 45%|███████████████████████████████████▋                                           | 484/1070 [00:21<00:26, 22.24it/s]"
     ]
    },
    {
     "name": "stdout",
     "output_type": "stream",
     "text": [
      "outdoorTemp_100_bin done\n",
      "outdoorTemp_200_bin done\n",
      "outdoorHum_20_bin done\n"
     ]
    },
    {
     "name": "stderr",
     "output_type": "stream",
     "text": [
      "\r",
      " 46%|███████████████████████████████████▉                                           | 487/1070 [00:21<00:26, 22.24it/s]"
     ]
    },
    {
     "name": "stdout",
     "output_type": "stream",
     "text": [
      "outdoorHum_50_bin done\n",
      "outdoorHum_100_bin done\n",
      "outdoorHum_200_bin done\n"
     ]
    },
    {
     "name": "stderr",
     "output_type": "stream",
     "text": [
      "\r",
      " 46%|████████████████████████████████████▏                                          | 490/1070 [00:22<00:25, 22.34it/s]"
     ]
    },
    {
     "name": "stdout",
     "output_type": "stream",
     "text": [
      "outdoorAtmo_20_bin done\n",
      "outdoorAtmo_50_bin done\n",
      "outdoorAtmo_100_bin done\n"
     ]
    },
    {
     "name": "stderr",
     "output_type": "stream",
     "text": [
      "\r",
      " 46%|████████████████████████████████████▍                                          | 493/1070 [00:22<00:24, 23.35it/s]"
     ]
    },
    {
     "name": "stdout",
     "output_type": "stream",
     "text": [
      "outdoorAtmo_200_bin done\n",
      "indoorHum_20_bin done\n",
      "indoorHum_50_bin done\n"
     ]
    },
    {
     "name": "stderr",
     "output_type": "stream",
     "text": [
      "\r",
      " 46%|████████████████████████████████████▌                                          | 496/1070 [00:22<00:25, 22.64it/s]"
     ]
    },
    {
     "name": "stdout",
     "output_type": "stream",
     "text": [
      "indoorHum_100_bin done\n",
      "indoorHum_200_bin done\n",
      "indoorAtmo_20_bin done\n"
     ]
    },
    {
     "name": "stderr",
     "output_type": "stream",
     "text": [
      "\r",
      " 47%|████████████████████████████████████▊                                          | 499/1070 [00:22<00:25, 22.82it/s]"
     ]
    },
    {
     "name": "stdout",
     "output_type": "stream",
     "text": [
      "indoorAtmo_50_bin done\n",
      "indoorAtmo_100_bin done\n",
      "indoorAtmo_200_bin done\n"
     ]
    },
    {
     "name": "stderr",
     "output_type": "stream",
     "text": [
      "\r",
      " 47%|█████████████████████████████████████                                          | 502/1070 [00:22<00:24, 22.80it/s]"
     ]
    },
    {
     "name": "stdout",
     "output_type": "stream",
     "text": [
      "indoorAtmo-outdoorAtmo_20_bin done\n",
      "indoorAtmo-outdoorAtmo_50_bin done\n",
      "indoorAtmo-outdoorAtmo_100_bin done\n"
     ]
    },
    {
     "name": "stderr",
     "output_type": "stream",
     "text": [
      "\r",
      " 47%|█████████████████████████████████████▎                                         | 505/1070 [00:22<00:23, 24.10it/s]"
     ]
    },
    {
     "name": "stdout",
     "output_type": "stream",
     "text": [
      "indoorAtmo-outdoorAtmo_200_bin done\n",
      "indoorHum-outdoorHum_20_bin done\n",
      "indoorHum-outdoorHum_50_bin done\n"
     ]
    },
    {
     "name": "stderr",
     "output_type": "stream",
     "text": [
      "\r",
      " 47%|█████████████████████████████████████▌                                         | 508/1070 [00:22<00:23, 24.07it/s]"
     ]
    },
    {
     "name": "stdout",
     "output_type": "stream",
     "text": [
      "indoorHum-outdoorHum_100_bin done\n",
      "indoorHum-outdoorHum_200_bin done\n",
      "outdoorTemp_20_bin_outdoorTemp_median done\n"
     ]
    },
    {
     "name": "stderr",
     "output_type": "stream",
     "text": [
      "\r",
      " 48%|█████████████████████████████████████▋                                         | 511/1070 [00:23<00:23, 23.55it/s]"
     ]
    },
    {
     "name": "stdout",
     "output_type": "stream",
     "text": [
      "outdoorTemp_20_bin_outdoorTemp_mean done\n",
      "outdoorTemp_20_bin_outdoorTemp_max done\n",
      "outdoorTemp_20_bin_outdoorTemp_min done\n"
     ]
    },
    {
     "name": "stderr",
     "output_type": "stream",
     "text": [
      "\r",
      " 48%|█████████████████████████████████████▉                                         | 514/1070 [00:23<00:23, 23.19it/s]"
     ]
    },
    {
     "name": "stdout",
     "output_type": "stream",
     "text": [
      "outdoorTemp_20_bin_outdoorHum_median done\n",
      "outdoorTemp_20_bin_outdoorHum_mean done\n",
      "outdoorTemp_20_bin_outdoorHum_max done\n"
     ]
    },
    {
     "name": "stderr",
     "output_type": "stream",
     "text": [
      "\r",
      " 48%|██████████████████████████████████████▏                                        | 517/1070 [00:23<00:22, 24.34it/s]"
     ]
    },
    {
     "name": "stdout",
     "output_type": "stream",
     "text": [
      "outdoorTemp_20_bin_outdoorHum_min done\n",
      "outdoorTemp_20_bin_outdoorAtmo_median done\n",
      "outdoorTemp_20_bin_outdoorAtmo_mean done\n"
     ]
    },
    {
     "name": "stderr",
     "output_type": "stream",
     "text": [
      "\r",
      " 49%|██████████████████████████████████████▍                                        | 520/1070 [00:23<00:22, 24.07it/s]"
     ]
    },
    {
     "name": "stdout",
     "output_type": "stream",
     "text": [
      "outdoorTemp_20_bin_outdoorAtmo_max done\n",
      "outdoorTemp_20_bin_outdoorAtmo_min done\n",
      "outdoorTemp_20_bin_indoorHum_median done\n"
     ]
    },
    {
     "name": "stderr",
     "output_type": "stream",
     "text": [
      "\r",
      " 49%|██████████████████████████████████████▌                                        | 523/1070 [00:23<00:22, 23.88it/s]"
     ]
    },
    {
     "name": "stdout",
     "output_type": "stream",
     "text": [
      "outdoorTemp_20_bin_indoorHum_mean done\n",
      "outdoorTemp_20_bin_indoorHum_max done\n",
      "outdoorTemp_20_bin_indoorHum_min done\n"
     ]
    },
    {
     "name": "stderr",
     "output_type": "stream",
     "text": [
      "\r",
      " 49%|██████████████████████████████████████▊                                        | 526/1070 [00:23<00:21, 24.75it/s]"
     ]
    },
    {
     "name": "stdout",
     "output_type": "stream",
     "text": [
      "outdoorTemp_20_bin_indoorAtmo_median done\n",
      "outdoorTemp_20_bin_indoorAtmo_mean done\n",
      "outdoorTemp_20_bin_indoorAtmo_max done\n"
     ]
    },
    {
     "name": "stderr",
     "output_type": "stream",
     "text": [
      "\r",
      " 49%|███████████████████████████████████████                                        | 529/1070 [00:23<00:22, 24.17it/s]"
     ]
    },
    {
     "name": "stdout",
     "output_type": "stream",
     "text": [
      "outdoorTemp_20_bin_indoorAtmo_min done\n",
      "outdoorTemp_20_bin_indoorAtmo-outdoorAtmo_median done\n",
      "outdoorTemp_20_bin_indoorAtmo-outdoorAtmo_mean done\n"
     ]
    },
    {
     "name": "stderr",
     "output_type": "stream",
     "text": [
      "\r",
      " 50%|███████████████████████████████████████▎                                       | 532/1070 [00:23<00:22, 23.51it/s]"
     ]
    },
    {
     "name": "stdout",
     "output_type": "stream",
     "text": [
      "outdoorTemp_20_bin_indoorAtmo-outdoorAtmo_max done\n",
      "outdoorTemp_20_bin_indoorAtmo-outdoorAtmo_min done\n",
      "outdoorTemp_20_bin_indoorHum-outdoorHum_median done\n"
     ]
    },
    {
     "name": "stderr",
     "output_type": "stream",
     "text": [
      "\r",
      " 50%|███████████████████████████████████████▌                                       | 535/1070 [00:24<00:23, 22.90it/s]"
     ]
    },
    {
     "name": "stdout",
     "output_type": "stream",
     "text": [
      "outdoorTemp_20_bin_indoorHum-outdoorHum_mean done\n",
      "outdoorTemp_20_bin_indoorHum-outdoorHum_max done\n",
      "outdoorTemp_20_bin_indoorHum-outdoorHum_min done\n"
     ]
    },
    {
     "name": "stderr",
     "output_type": "stream",
     "text": [
      "\r",
      " 50%|███████████████████████████████████████▋                                       | 538/1070 [00:24<00:23, 22.96it/s]"
     ]
    },
    {
     "name": "stdout",
     "output_type": "stream",
     "text": [
      "outdoorHum_20_bin_outdoorTemp_median done\n",
      "outdoorHum_20_bin_outdoorTemp_mean done\n",
      "outdoorHum_20_bin_outdoorTemp_max done\n"
     ]
    },
    {
     "name": "stderr",
     "output_type": "stream",
     "text": [
      "\r",
      " 51%|███████████████████████████████████████▉                                       | 541/1070 [00:24<00:23, 22.48it/s]"
     ]
    },
    {
     "name": "stdout",
     "output_type": "stream",
     "text": [
      "outdoorHum_20_bin_outdoorTemp_min done\n",
      "outdoorHum_20_bin_outdoorHum_median done\n",
      "outdoorHum_20_bin_outdoorHum_mean done\n"
     ]
    },
    {
     "name": "stderr",
     "output_type": "stream",
     "text": [
      "\r",
      " 51%|████████████████████████████████████████▏                                      | 544/1070 [00:24<00:23, 22.21it/s]"
     ]
    },
    {
     "name": "stdout",
     "output_type": "stream",
     "text": [
      "outdoorHum_20_bin_outdoorHum_max done\n",
      "outdoorHum_20_bin_outdoorHum_min done\n",
      "outdoorHum_20_bin_outdoorAtmo_median done\n"
     ]
    },
    {
     "name": "stderr",
     "output_type": "stream",
     "text": [
      "\r",
      " 51%|████████████████████████████████████████▍                                      | 547/1070 [00:24<00:23, 22.27it/s]"
     ]
    },
    {
     "name": "stdout",
     "output_type": "stream",
     "text": [
      "outdoorHum_20_bin_outdoorAtmo_mean done\n",
      "outdoorHum_20_bin_outdoorAtmo_max done\n",
      "outdoorHum_20_bin_outdoorAtmo_min done\n"
     ]
    },
    {
     "name": "stderr",
     "output_type": "stream",
     "text": [
      "\r",
      " 51%|████████████████████████████████████████▌                                      | 550/1070 [00:24<00:23, 22.11it/s]"
     ]
    },
    {
     "name": "stdout",
     "output_type": "stream",
     "text": [
      "outdoorHum_20_bin_indoorHum_median done\n",
      "outdoorHum_20_bin_indoorHum_mean done\n",
      "outdoorHum_20_bin_indoorHum_max done\n"
     ]
    },
    {
     "name": "stderr",
     "output_type": "stream",
     "text": [
      "\r",
      " 52%|████████████████████████████████████████▊                                      | 553/1070 [00:24<00:23, 22.29it/s]"
     ]
    },
    {
     "name": "stdout",
     "output_type": "stream",
     "text": [
      "outdoorHum_20_bin_indoorHum_min done\n",
      "outdoorHum_20_bin_indoorAtmo_median done\n",
      "outdoorHum_20_bin_indoorAtmo_mean done\n"
     ]
    },
    {
     "name": "stderr",
     "output_type": "stream",
     "text": [
      "\r",
      " 52%|█████████████████████████████████████████                                      | 556/1070 [00:24<00:23, 22.28it/s]"
     ]
    },
    {
     "name": "stdout",
     "output_type": "stream",
     "text": [
      "outdoorHum_20_bin_indoorAtmo_max done\n",
      "outdoorHum_20_bin_indoorAtmo_min done\n",
      "outdoorHum_20_bin_indoorAtmo-outdoorAtmo_median done\n"
     ]
    },
    {
     "name": "stderr",
     "output_type": "stream",
     "text": [
      "\r",
      " 52%|█████████████████████████████████████████▎                                     | 559/1070 [00:25<00:23, 21.92it/s]"
     ]
    },
    {
     "name": "stdout",
     "output_type": "stream",
     "text": [
      "outdoorHum_20_bin_indoorAtmo-outdoorAtmo_mean done\n",
      "outdoorHum_20_bin_indoorAtmo-outdoorAtmo_max done\n",
      "outdoorHum_20_bin_indoorAtmo-outdoorAtmo_min done\n"
     ]
    },
    {
     "name": "stderr",
     "output_type": "stream",
     "text": [
      "\r",
      " 53%|█████████████████████████████████████████▍                                     | 562/1070 [00:25<00:23, 22.02it/s]"
     ]
    },
    {
     "name": "stdout",
     "output_type": "stream",
     "text": [
      "outdoorHum_20_bin_indoorHum-outdoorHum_median done\n",
      "outdoorHum_20_bin_indoorHum-outdoorHum_mean done\n",
      "outdoorHum_20_bin_indoorHum-outdoorHum_max done\n"
     ]
    },
    {
     "name": "stderr",
     "output_type": "stream",
     "text": [
      "\r",
      " 53%|█████████████████████████████████████████▋                                     | 565/1070 [00:25<00:22, 22.03it/s]"
     ]
    },
    {
     "name": "stdout",
     "output_type": "stream",
     "text": [
      "outdoorHum_20_bin_indoorHum-outdoorHum_min done\n",
      "outdoorAtmo_20_bin_outdoorTemp_median done\n",
      "outdoorAtmo_20_bin_outdoorTemp_mean done\n"
     ]
    },
    {
     "name": "stderr",
     "output_type": "stream",
     "text": [
      "\r",
      " 53%|█████████████████████████████████████████▉                                     | 568/1070 [00:25<00:23, 21.80it/s]"
     ]
    },
    {
     "name": "stdout",
     "output_type": "stream",
     "text": [
      "outdoorAtmo_20_bin_outdoorTemp_max done\n",
      "outdoorAtmo_20_bin_outdoorTemp_min done\n",
      "outdoorAtmo_20_bin_outdoorHum_median done\n"
     ]
    },
    {
     "name": "stderr",
     "output_type": "stream",
     "text": [
      "\r",
      " 53%|██████████████████████████████████████████▏                                    | 571/1070 [00:25<00:22, 22.57it/s]"
     ]
    },
    {
     "name": "stdout",
     "output_type": "stream",
     "text": [
      "outdoorAtmo_20_bin_outdoorHum_mean done\n",
      "outdoorAtmo_20_bin_outdoorHum_max done\n",
      "outdoorAtmo_20_bin_outdoorHum_min done\n"
     ]
    },
    {
     "name": "stderr",
     "output_type": "stream",
     "text": [
      "\r",
      " 54%|██████████████████████████████████████████▍                                    | 574/1070 [00:25<00:21, 23.42it/s]"
     ]
    },
    {
     "name": "stdout",
     "output_type": "stream",
     "text": [
      "outdoorAtmo_20_bin_outdoorAtmo_median done\n",
      "outdoorAtmo_20_bin_outdoorAtmo_mean done\n",
      "outdoorAtmo_20_bin_outdoorAtmo_max done\n"
     ]
    },
    {
     "name": "stderr",
     "output_type": "stream",
     "text": [
      "\r",
      " 54%|██████████████████████████████████████████▌                                    | 577/1070 [00:25<00:20, 23.59it/s]"
     ]
    },
    {
     "name": "stdout",
     "output_type": "stream",
     "text": [
      "outdoorAtmo_20_bin_outdoorAtmo_min done\n",
      "outdoorAtmo_20_bin_indoorHum_median done\n",
      "outdoorAtmo_20_bin_indoorHum_mean done\n"
     ]
    },
    {
     "name": "stderr",
     "output_type": "stream",
     "text": [
      "\r",
      " 54%|██████████████████████████████████████████▊                                    | 580/1070 [00:26<00:20, 24.50it/s]"
     ]
    },
    {
     "name": "stdout",
     "output_type": "stream",
     "text": [
      "outdoorAtmo_20_bin_indoorHum_max done\n",
      "outdoorAtmo_20_bin_indoorHum_min done\n",
      "outdoorAtmo_20_bin_indoorAtmo_median done\n"
     ]
    },
    {
     "name": "stderr",
     "output_type": "stream",
     "text": [
      "\r",
      " 54%|███████████████████████████████████████████                                    | 583/1070 [00:26<00:19, 24.71it/s]"
     ]
    },
    {
     "name": "stdout",
     "output_type": "stream",
     "text": [
      "outdoorAtmo_20_bin_indoorAtmo_mean done\n",
      "outdoorAtmo_20_bin_indoorAtmo_max done\n",
      "outdoorAtmo_20_bin_indoorAtmo_min done\n"
     ]
    },
    {
     "name": "stderr",
     "output_type": "stream",
     "text": [
      "\r",
      " 55%|███████████████████████████████████████████▎                                   | 586/1070 [00:26<00:19, 24.44it/s]"
     ]
    },
    {
     "name": "stdout",
     "output_type": "stream",
     "text": [
      "outdoorAtmo_20_bin_indoorAtmo-outdoorAtmo_median done\n",
      "outdoorAtmo_20_bin_indoorAtmo-outdoorAtmo_mean done\n",
      "outdoorAtmo_20_bin_indoorAtmo-outdoorAtmo_max done\n"
     ]
    },
    {
     "name": "stderr",
     "output_type": "stream",
     "text": [
      "\r",
      " 55%|███████████████████████████████████████████▍                                   | 589/1070 [00:26<00:20, 23.62it/s]"
     ]
    },
    {
     "name": "stdout",
     "output_type": "stream",
     "text": [
      "outdoorAtmo_20_bin_indoorAtmo-outdoorAtmo_min done\n",
      "outdoorAtmo_20_bin_indoorHum-outdoorHum_median done\n",
      "outdoorAtmo_20_bin_indoorHum-outdoorHum_mean done\n"
     ]
    },
    {
     "name": "stderr",
     "output_type": "stream",
     "text": [
      "\r",
      " 55%|███████████████████████████████████████████▋                                   | 592/1070 [00:26<00:19, 24.08it/s]"
     ]
    },
    {
     "name": "stdout",
     "output_type": "stream",
     "text": [
      "outdoorAtmo_20_bin_indoorHum-outdoorHum_max done\n",
      "outdoorAtmo_20_bin_indoorHum-outdoorHum_min done\n",
      "indoorHum_20_bin_outdoorTemp_median done\n"
     ]
    },
    {
     "name": "stderr",
     "output_type": "stream",
     "text": [
      "\r",
      " 56%|███████████████████████████████████████████▉                                   | 595/1070 [00:26<00:20, 23.49it/s]"
     ]
    },
    {
     "name": "stdout",
     "output_type": "stream",
     "text": [
      "indoorHum_20_bin_outdoorTemp_mean done\n",
      "indoorHum_20_bin_outdoorTemp_max done\n",
      "indoorHum_20_bin_outdoorTemp_min done\n"
     ]
    },
    {
     "name": "stderr",
     "output_type": "stream",
     "text": [
      "\r",
      " 56%|████████████████████████████████████████████▏                                  | 598/1070 [00:26<00:20, 22.89it/s]"
     ]
    },
    {
     "name": "stdout",
     "output_type": "stream",
     "text": [
      "indoorHum_20_bin_outdoorHum_median done\n",
      "indoorHum_20_bin_outdoorHum_mean done\n",
      "indoorHum_20_bin_outdoorHum_max done\n"
     ]
    },
    {
     "name": "stderr",
     "output_type": "stream",
     "text": [
      "\r",
      " 56%|████████████████████████████████████████████▎                                  | 601/1070 [00:26<00:20, 22.59it/s]"
     ]
    },
    {
     "name": "stdout",
     "output_type": "stream",
     "text": [
      "indoorHum_20_bin_outdoorHum_min done\n",
      "indoorHum_20_bin_outdoorAtmo_median done\n",
      "indoorHum_20_bin_outdoorAtmo_mean done\n"
     ]
    },
    {
     "name": "stderr",
     "output_type": "stream",
     "text": [
      "\r",
      " 56%|████████████████████████████████████████████▌                                  | 604/1070 [00:27<00:20, 22.58it/s]"
     ]
    },
    {
     "name": "stdout",
     "output_type": "stream",
     "text": [
      "indoorHum_20_bin_outdoorAtmo_max done\n",
      "indoorHum_20_bin_outdoorAtmo_min done\n",
      "indoorHum_20_bin_indoorHum_median done\n"
     ]
    },
    {
     "name": "stderr",
     "output_type": "stream",
     "text": [
      "\r",
      " 57%|████████████████████████████████████████████▊                                  | 607/1070 [00:27<00:20, 22.33it/s]"
     ]
    },
    {
     "name": "stdout",
     "output_type": "stream",
     "text": [
      "indoorHum_20_bin_indoorHum_mean done\n",
      "indoorHum_20_bin_indoorHum_max done\n",
      "indoorHum_20_bin_indoorHum_min done\n"
     ]
    },
    {
     "name": "stderr",
     "output_type": "stream",
     "text": [
      "\r",
      " 57%|█████████████████████████████████████████████                                  | 610/1070 [00:27<00:20, 22.43it/s]"
     ]
    },
    {
     "name": "stdout",
     "output_type": "stream",
     "text": [
      "indoorHum_20_bin_indoorAtmo_median done\n",
      "indoorHum_20_bin_indoorAtmo_mean done\n",
      "indoorHum_20_bin_indoorAtmo_max done\n"
     ]
    },
    {
     "name": "stderr",
     "output_type": "stream",
     "text": [
      "\r",
      " 57%|█████████████████████████████████████████████▎                                 | 613/1070 [00:27<00:20, 22.12it/s]"
     ]
    },
    {
     "name": "stdout",
     "output_type": "stream",
     "text": [
      "indoorHum_20_bin_indoorAtmo_min done\n",
      "indoorHum_20_bin_indoorAtmo-outdoorAtmo_median done\n",
      "indoorHum_20_bin_indoorAtmo-outdoorAtmo_mean done\n"
     ]
    },
    {
     "name": "stderr",
     "output_type": "stream",
     "text": [
      "\r",
      " 58%|█████████████████████████████████████████████▍                                 | 616/1070 [00:27<00:20, 21.91it/s]"
     ]
    },
    {
     "name": "stdout",
     "output_type": "stream",
     "text": [
      "indoorHum_20_bin_indoorAtmo-outdoorAtmo_max done\n",
      "indoorHum_20_bin_indoorAtmo-outdoorAtmo_min done\n",
      "indoorHum_20_bin_indoorHum-outdoorHum_median done\n"
     ]
    },
    {
     "name": "stderr",
     "output_type": "stream",
     "text": [
      "\r",
      " 58%|█████████████████████████████████████████████▋                                 | 619/1070 [00:27<00:20, 21.91it/s]"
     ]
    },
    {
     "name": "stdout",
     "output_type": "stream",
     "text": [
      "indoorHum_20_bin_indoorHum-outdoorHum_mean done\n",
      "indoorHum_20_bin_indoorHum-outdoorHum_max done\n",
      "indoorHum_20_bin_indoorHum-outdoorHum_min done\n"
     ]
    },
    {
     "name": "stderr",
     "output_type": "stream",
     "text": [
      "\r",
      " 58%|█████████████████████████████████████████████▉                                 | 622/1070 [00:27<00:20, 22.06it/s]"
     ]
    },
    {
     "name": "stdout",
     "output_type": "stream",
     "text": [
      "indoorAtmo_20_bin_outdoorTemp_median done\n",
      "indoorAtmo_20_bin_outdoorTemp_mean done\n",
      "indoorAtmo_20_bin_outdoorTemp_max done\n"
     ]
    },
    {
     "name": "stderr",
     "output_type": "stream",
     "text": [
      "\r",
      " 58%|██████████████████████████████████████████████▏                                | 625/1070 [00:28<00:20, 22.16it/s]"
     ]
    },
    {
     "name": "stdout",
     "output_type": "stream",
     "text": [
      "indoorAtmo_20_bin_outdoorTemp_min done\n",
      "indoorAtmo_20_bin_outdoorHum_median done\n",
      "indoorAtmo_20_bin_outdoorHum_mean done\n"
     ]
    },
    {
     "name": "stderr",
     "output_type": "stream",
     "text": [
      "\r",
      " 59%|██████████████████████████████████████████████▎                                | 628/1070 [00:28<00:19, 23.05it/s]"
     ]
    },
    {
     "name": "stdout",
     "output_type": "stream",
     "text": [
      "indoorAtmo_20_bin_outdoorHum_max done\n",
      "indoorAtmo_20_bin_outdoorHum_min done\n",
      "indoorAtmo_20_bin_outdoorAtmo_median done\n"
     ]
    },
    {
     "name": "stderr",
     "output_type": "stream",
     "text": [
      "\r",
      " 59%|██████████████████████████████████████████████▌                                | 631/1070 [00:28<00:18, 24.02it/s]"
     ]
    },
    {
     "name": "stdout",
     "output_type": "stream",
     "text": [
      "indoorAtmo_20_bin_outdoorAtmo_mean done\n",
      "indoorAtmo_20_bin_outdoorAtmo_max done\n",
      "indoorAtmo_20_bin_outdoorAtmo_min done\n"
     ]
    },
    {
     "name": "stderr",
     "output_type": "stream",
     "text": [
      "\r",
      " 59%|██████████████████████████████████████████████▊                                | 634/1070 [00:28<00:17, 24.25it/s]"
     ]
    },
    {
     "name": "stdout",
     "output_type": "stream",
     "text": [
      "indoorAtmo_20_bin_indoorHum_median done\n",
      "indoorAtmo_20_bin_indoorHum_mean done\n",
      "indoorAtmo_20_bin_indoorHum_max done\n"
     ]
    },
    {
     "name": "stderr",
     "output_type": "stream",
     "text": [
      "\r",
      " 60%|███████████████████████████████████████████████                                | 637/1070 [00:28<00:17, 24.84it/s]"
     ]
    },
    {
     "name": "stdout",
     "output_type": "stream",
     "text": [
      "indoorAtmo_20_bin_indoorHum_min done\n",
      "indoorAtmo_20_bin_indoorAtmo_median done\n",
      "indoorAtmo_20_bin_indoorAtmo_mean done\n"
     ]
    },
    {
     "name": "stderr",
     "output_type": "stream",
     "text": [
      "\r",
      " 60%|███████████████████████████████████████████████▎                               | 640/1070 [00:28<00:17, 24.11it/s]"
     ]
    },
    {
     "name": "stdout",
     "output_type": "stream",
     "text": [
      "indoorAtmo_20_bin_indoorAtmo_max done\n",
      "indoorAtmo_20_bin_indoorAtmo_min done\n",
      "indoorAtmo_20_bin_indoorAtmo-outdoorAtmo_median done\n"
     ]
    },
    {
     "name": "stderr",
     "output_type": "stream",
     "text": [
      "\r",
      " 60%|███████████████████████████████████████████████▍                               | 643/1070 [00:28<00:17, 24.62it/s]"
     ]
    },
    {
     "name": "stdout",
     "output_type": "stream",
     "text": [
      "indoorAtmo_20_bin_indoorAtmo-outdoorAtmo_mean done\n",
      "indoorAtmo_20_bin_indoorAtmo-outdoorAtmo_max done\n",
      "indoorAtmo_20_bin_indoorAtmo-outdoorAtmo_min done\n"
     ]
    },
    {
     "name": "stderr",
     "output_type": "stream",
     "text": [
      "\r",
      " 60%|███████████████████████████████████████████████▋                               | 646/1070 [00:28<00:17, 24.31it/s]"
     ]
    },
    {
     "name": "stdout",
     "output_type": "stream",
     "text": [
      "indoorAtmo_20_bin_indoorHum-outdoorHum_median done\n",
      "indoorAtmo_20_bin_indoorHum-outdoorHum_mean done\n",
      "indoorAtmo_20_bin_indoorHum-outdoorHum_max done\n"
     ]
    },
    {
     "name": "stderr",
     "output_type": "stream",
     "text": [
      "\r",
      " 61%|███████████████████████████████████████████████▉                               | 649/1070 [00:28<00:18, 23.27it/s]"
     ]
    },
    {
     "name": "stdout",
     "output_type": "stream",
     "text": [
      "indoorAtmo_20_bin_indoorHum-outdoorHum_min done\n",
      "outdoorTemp_50_bin_outdoorTemp_median done\n",
      "outdoorTemp_50_bin_outdoorTemp_mean done\n"
     ]
    },
    {
     "name": "stderr",
     "output_type": "stream",
     "text": [
      "\r",
      " 61%|████████████████████████████████████████████████▏                              | 652/1070 [00:29<00:17, 23.38it/s]"
     ]
    },
    {
     "name": "stdout",
     "output_type": "stream",
     "text": [
      "outdoorTemp_50_bin_outdoorTemp_max done\n",
      "outdoorTemp_50_bin_outdoorTemp_min done\n",
      "outdoorTemp_50_bin_outdoorHum_median done\n"
     ]
    },
    {
     "name": "stderr",
     "output_type": "stream",
     "text": [
      "\r",
      " 61%|████████████████████████████████████████████████▎                              | 655/1070 [00:29<00:17, 23.40it/s]"
     ]
    },
    {
     "name": "stdout",
     "output_type": "stream",
     "text": [
      "outdoorTemp_50_bin_outdoorHum_mean done\n",
      "outdoorTemp_50_bin_outdoorHum_max done\n",
      "outdoorTemp_50_bin_outdoorHum_min done\n"
     ]
    },
    {
     "name": "stderr",
     "output_type": "stream",
     "text": [
      "\r",
      " 61%|████████████████████████████████████████████████▌                              | 658/1070 [00:29<00:17, 23.64it/s]"
     ]
    },
    {
     "name": "stdout",
     "output_type": "stream",
     "text": [
      "outdoorTemp_50_bin_outdoorAtmo_median done\n",
      "outdoorTemp_50_bin_outdoorAtmo_mean done\n",
      "outdoorTemp_50_bin_outdoorAtmo_max done\n"
     ]
    },
    {
     "name": "stderr",
     "output_type": "stream",
     "text": [
      "\r",
      " 62%|████████████████████████████████████████████████▊                              | 661/1070 [00:29<00:17, 22.88it/s]"
     ]
    },
    {
     "name": "stdout",
     "output_type": "stream",
     "text": [
      "outdoorTemp_50_bin_outdoorAtmo_min done\n",
      "outdoorTemp_50_bin_indoorHum_median done\n",
      "outdoorTemp_50_bin_indoorHum_mean done\n"
     ]
    },
    {
     "name": "stderr",
     "output_type": "stream",
     "text": [
      "\r",
      " 62%|█████████████████████████████████████████████████                              | 664/1070 [00:29<00:17, 23.48it/s]"
     ]
    },
    {
     "name": "stdout",
     "output_type": "stream",
     "text": [
      "outdoorTemp_50_bin_indoorHum_max done\n",
      "outdoorTemp_50_bin_indoorHum_min done\n",
      "outdoorTemp_50_bin_indoorAtmo_median done\n"
     ]
    },
    {
     "name": "stderr",
     "output_type": "stream",
     "text": [
      "\r",
      " 62%|█████████████████████████████████████████████████▏                             | 667/1070 [00:29<00:17, 23.26it/s]"
     ]
    },
    {
     "name": "stdout",
     "output_type": "stream",
     "text": [
      "outdoorTemp_50_bin_indoorAtmo_mean done\n",
      "outdoorTemp_50_bin_indoorAtmo_max done\n",
      "outdoorTemp_50_bin_indoorAtmo_min done\n"
     ]
    },
    {
     "name": "stderr",
     "output_type": "stream",
     "text": [
      "\r",
      " 63%|█████████████████████████████████████████████████▍                             | 670/1070 [00:29<00:17, 23.15it/s]"
     ]
    },
    {
     "name": "stdout",
     "output_type": "stream",
     "text": [
      "outdoorTemp_50_bin_indoorAtmo-outdoorAtmo_median done\n",
      "outdoorTemp_50_bin_indoorAtmo-outdoorAtmo_mean done\n",
      "outdoorTemp_50_bin_indoorAtmo-outdoorAtmo_max done\n"
     ]
    },
    {
     "name": "stderr",
     "output_type": "stream",
     "text": [
      "\r",
      " 63%|█████████████████████████████████████████████████▋                             | 673/1070 [00:30<00:17, 22.56it/s]"
     ]
    },
    {
     "name": "stdout",
     "output_type": "stream",
     "text": [
      "outdoorTemp_50_bin_indoorAtmo-outdoorAtmo_min done\n",
      "outdoorTemp_50_bin_indoorHum-outdoorHum_median done\n",
      "outdoorTemp_50_bin_indoorHum-outdoorHum_mean done\n"
     ]
    },
    {
     "name": "stderr",
     "output_type": "stream",
     "text": [
      "\r",
      " 63%|█████████████████████████████████████████████████▉                             | 676/1070 [00:30<00:17, 22.26it/s]"
     ]
    },
    {
     "name": "stdout",
     "output_type": "stream",
     "text": [
      "outdoorTemp_50_bin_indoorHum-outdoorHum_max done\n",
      "outdoorTemp_50_bin_indoorHum-outdoorHum_min done\n",
      "outdoorHum_50_bin_outdoorTemp_median done\n"
     ]
    },
    {
     "name": "stderr",
     "output_type": "stream",
     "text": [
      "\r",
      " 63%|██████████████████████████████████████████████████▏                            | 679/1070 [00:30<00:17, 22.55it/s]"
     ]
    },
    {
     "name": "stdout",
     "output_type": "stream",
     "text": [
      "outdoorHum_50_bin_outdoorTemp_mean done\n",
      "outdoorHum_50_bin_outdoorTemp_max done\n",
      "outdoorHum_50_bin_outdoorTemp_min done\n"
     ]
    },
    {
     "name": "stderr",
     "output_type": "stream",
     "text": [
      "\r",
      " 64%|██████████████████████████████████████████████████▎                            | 682/1070 [00:30<00:17, 22.20it/s]"
     ]
    },
    {
     "name": "stdout",
     "output_type": "stream",
     "text": [
      "outdoorHum_50_bin_outdoorHum_median done\n",
      "outdoorHum_50_bin_outdoorHum_mean done\n",
      "outdoorHum_50_bin_outdoorHum_max done\n"
     ]
    },
    {
     "name": "stderr",
     "output_type": "stream",
     "text": [
      "\r",
      " 64%|██████████████████████████████████████████████████▌                            | 685/1070 [00:30<00:17, 22.16it/s]"
     ]
    },
    {
     "name": "stdout",
     "output_type": "stream",
     "text": [
      "outdoorHum_50_bin_outdoorHum_min done\n",
      "outdoorHum_50_bin_outdoorAtmo_median done\n",
      "outdoorHum_50_bin_outdoorAtmo_mean done\n"
     ]
    },
    {
     "name": "stderr",
     "output_type": "stream",
     "text": [
      "\r",
      " 64%|██████████████████████████████████████████████████▊                            | 688/1070 [00:30<00:17, 21.66it/s]"
     ]
    },
    {
     "name": "stdout",
     "output_type": "stream",
     "text": [
      "outdoorHum_50_bin_outdoorAtmo_max done\n",
      "outdoorHum_50_bin_outdoorAtmo_min done\n",
      "outdoorHum_50_bin_indoorHum_median done\n"
     ]
    },
    {
     "name": "stderr",
     "output_type": "stream",
     "text": [
      "\r",
      " 65%|███████████████████████████████████████████████████                            | 691/1070 [00:30<00:17, 21.73it/s]"
     ]
    },
    {
     "name": "stdout",
     "output_type": "stream",
     "text": [
      "outdoorHum_50_bin_indoorHum_mean done\n",
      "outdoorHum_50_bin_indoorHum_max done\n",
      "outdoorHum_50_bin_indoorHum_min done\n"
     ]
    },
    {
     "name": "stderr",
     "output_type": "stream",
     "text": [
      "\r",
      " 65%|███████████████████████████████████████████████████▏                           | 694/1070 [00:30<00:17, 21.98it/s]"
     ]
    },
    {
     "name": "stdout",
     "output_type": "stream",
     "text": [
      "outdoorHum_50_bin_indoorAtmo_median done\n",
      "outdoorHum_50_bin_indoorAtmo_mean done\n",
      "outdoorHum_50_bin_indoorAtmo_max done\n"
     ]
    },
    {
     "name": "stderr",
     "output_type": "stream",
     "text": [
      "\r",
      " 65%|███████████████████████████████████████████████████▍                           | 697/1070 [00:31<00:17, 21.91it/s]"
     ]
    },
    {
     "name": "stdout",
     "output_type": "stream",
     "text": [
      "outdoorHum_50_bin_indoorAtmo_min done\n",
      "outdoorHum_50_bin_indoorAtmo-outdoorAtmo_median done\n",
      "outdoorHum_50_bin_indoorAtmo-outdoorAtmo_mean done\n"
     ]
    },
    {
     "name": "stderr",
     "output_type": "stream",
     "text": [
      "\r",
      " 65%|███████████████████████████████████████████████████▋                           | 700/1070 [00:31<00:17, 21.53it/s]"
     ]
    },
    {
     "name": "stdout",
     "output_type": "stream",
     "text": [
      "outdoorHum_50_bin_indoorAtmo-outdoorAtmo_max done\n",
      "outdoorHum_50_bin_indoorAtmo-outdoorAtmo_min done\n",
      "outdoorHum_50_bin_indoorHum-outdoorHum_median done\n"
     ]
    },
    {
     "name": "stderr",
     "output_type": "stream",
     "text": [
      "\r",
      " 66%|███████████████████████████████████████████████████▉                           | 703/1070 [00:31<00:16, 21.79it/s]"
     ]
    },
    {
     "name": "stdout",
     "output_type": "stream",
     "text": [
      "outdoorHum_50_bin_indoorHum-outdoorHum_mean done\n",
      "outdoorHum_50_bin_indoorHum-outdoorHum_max done\n",
      "outdoorHum_50_bin_indoorHum-outdoorHum_min done\n"
     ]
    },
    {
     "name": "stderr",
     "output_type": "stream",
     "text": [
      "\r",
      " 66%|████████████████████████████████████████████████████▏                          | 706/1070 [00:31<00:16, 22.21it/s]"
     ]
    },
    {
     "name": "stdout",
     "output_type": "stream",
     "text": [
      "outdoorAtmo_50_bin_outdoorTemp_median done\n",
      "outdoorAtmo_50_bin_outdoorTemp_mean done\n",
      "outdoorAtmo_50_bin_outdoorTemp_max done\n"
     ]
    },
    {
     "name": "stderr",
     "output_type": "stream",
     "text": [
      "\r",
      " 66%|████████████████████████████████████████████████████▎                          | 709/1070 [00:31<00:16, 22.07it/s]"
     ]
    },
    {
     "name": "stdout",
     "output_type": "stream",
     "text": [
      "outdoorAtmo_50_bin_outdoorTemp_min done\n",
      "outdoorAtmo_50_bin_outdoorHum_median done\n",
      "outdoorAtmo_50_bin_outdoorHum_mean done\n"
     ]
    },
    {
     "name": "stderr",
     "output_type": "stream",
     "text": [
      "\r",
      " 67%|████████████████████████████████████████████████████▌                          | 712/1070 [00:31<00:15, 22.98it/s]"
     ]
    },
    {
     "name": "stdout",
     "output_type": "stream",
     "text": [
      "outdoorAtmo_50_bin_outdoorHum_max done\n",
      "outdoorAtmo_50_bin_outdoorHum_min done\n",
      "outdoorAtmo_50_bin_outdoorAtmo_median done\n"
     ]
    },
    {
     "name": "stderr",
     "output_type": "stream",
     "text": [
      "\r",
      " 67%|████████████████████████████████████████████████████▊                          | 715/1070 [00:31<00:15, 23.23it/s]"
     ]
    },
    {
     "name": "stdout",
     "output_type": "stream",
     "text": [
      "outdoorAtmo_50_bin_outdoorAtmo_mean done\n",
      "outdoorAtmo_50_bin_outdoorAtmo_max done\n",
      "outdoorAtmo_50_bin_outdoorAtmo_min done\n"
     ]
    },
    {
     "name": "stderr",
     "output_type": "stream",
     "text": [
      "\r",
      " 67%|█████████████████████████████████████████████████████                          | 718/1070 [00:32<00:15, 22.31it/s]"
     ]
    },
    {
     "name": "stdout",
     "output_type": "stream",
     "text": [
      "outdoorAtmo_50_bin_indoorHum_median done\n",
      "outdoorAtmo_50_bin_indoorHum_mean done\n",
      "outdoorAtmo_50_bin_indoorHum_max done\n"
     ]
    },
    {
     "name": "stderr",
     "output_type": "stream",
     "text": [
      "\r",
      " 67%|█████████████████████████████████████████████████████▏                         | 721/1070 [00:32<00:15, 22.69it/s]"
     ]
    },
    {
     "name": "stdout",
     "output_type": "stream",
     "text": [
      "outdoorAtmo_50_bin_indoorHum_min done\n",
      "outdoorAtmo_50_bin_indoorAtmo_median done\n",
      "outdoorAtmo_50_bin_indoorAtmo_mean done\n"
     ]
    },
    {
     "name": "stderr",
     "output_type": "stream",
     "text": [
      "\r",
      " 68%|█████████████████████████████████████████████████████▍                         | 724/1070 [00:32<00:14, 23.29it/s]"
     ]
    },
    {
     "name": "stdout",
     "output_type": "stream",
     "text": [
      "outdoorAtmo_50_bin_indoorAtmo_max done\n",
      "outdoorAtmo_50_bin_indoorAtmo_min done\n",
      "outdoorAtmo_50_bin_indoorAtmo-outdoorAtmo_median done\n"
     ]
    },
    {
     "name": "stderr",
     "output_type": "stream",
     "text": [
      "\r",
      " 68%|█████████████████████████████████████████████████████▋                         | 727/1070 [00:32<00:14, 23.61it/s]"
     ]
    },
    {
     "name": "stdout",
     "output_type": "stream",
     "text": [
      "outdoorAtmo_50_bin_indoorAtmo-outdoorAtmo_mean done\n",
      "outdoorAtmo_50_bin_indoorAtmo-outdoorAtmo_max done\n",
      "outdoorAtmo_50_bin_indoorAtmo-outdoorAtmo_min done\n"
     ]
    },
    {
     "name": "stderr",
     "output_type": "stream",
     "text": [
      "\r",
      " 68%|█████████████████████████████████████████████████████▉                         | 730/1070 [00:32<00:14, 24.00it/s]"
     ]
    },
    {
     "name": "stdout",
     "output_type": "stream",
     "text": [
      "outdoorAtmo_50_bin_indoorHum-outdoorHum_median done\n",
      "outdoorAtmo_50_bin_indoorHum-outdoorHum_mean done\n",
      "outdoorAtmo_50_bin_indoorHum-outdoorHum_max done\n"
     ]
    },
    {
     "name": "stderr",
     "output_type": "stream",
     "text": [
      "\r",
      " 69%|██████████████████████████████████████████████████████                         | 733/1070 [00:32<00:14, 23.44it/s]"
     ]
    },
    {
     "name": "stdout",
     "output_type": "stream",
     "text": [
      "outdoorAtmo_50_bin_indoorHum-outdoorHum_min done\n",
      "indoorHum_50_bin_outdoorTemp_median done\n",
      "indoorHum_50_bin_outdoorTemp_mean done\n"
     ]
    },
    {
     "name": "stderr",
     "output_type": "stream",
     "text": [
      "\r",
      " 69%|██████████████████████████████████████████████████████▎                        | 736/1070 [00:32<00:14, 23.50it/s]"
     ]
    },
    {
     "name": "stdout",
     "output_type": "stream",
     "text": [
      "indoorHum_50_bin_outdoorTemp_max done\n",
      "indoorHum_50_bin_outdoorTemp_min done\n",
      "indoorHum_50_bin_outdoorHum_median done\n"
     ]
    },
    {
     "name": "stderr",
     "output_type": "stream",
     "text": [
      "\r",
      " 69%|██████████████████████████████████████████████████████▌                        | 739/1070 [00:32<00:15, 21.94it/s]"
     ]
    },
    {
     "name": "stdout",
     "output_type": "stream",
     "text": [
      "indoorHum_50_bin_outdoorHum_mean done\n",
      "indoorHum_50_bin_outdoorHum_max done\n",
      "indoorHum_50_bin_outdoorHum_min done\n"
     ]
    },
    {
     "name": "stderr",
     "output_type": "stream",
     "text": [
      "\r",
      " 69%|██████████████████████████████████████████████████████▊                        | 742/1070 [00:33<00:14, 22.03it/s]"
     ]
    },
    {
     "name": "stdout",
     "output_type": "stream",
     "text": [
      "indoorHum_50_bin_outdoorAtmo_median done\n",
      "indoorHum_50_bin_outdoorAtmo_mean done\n",
      "indoorHum_50_bin_outdoorAtmo_max done\n"
     ]
    },
    {
     "name": "stderr",
     "output_type": "stream",
     "text": [
      "\r",
      " 70%|███████████████████████████████████████████████████████                        | 745/1070 [00:33<00:14, 21.94it/s]"
     ]
    },
    {
     "name": "stdout",
     "output_type": "stream",
     "text": [
      "indoorHum_50_bin_outdoorAtmo_min done\n",
      "indoorHum_50_bin_indoorHum_median done\n",
      "indoorHum_50_bin_indoorHum_mean done\n"
     ]
    },
    {
     "name": "stderr",
     "output_type": "stream",
     "text": [
      "\r",
      " 70%|███████████████████████████████████████████████████████▏                       | 748/1070 [00:33<00:14, 21.51it/s]"
     ]
    },
    {
     "name": "stdout",
     "output_type": "stream",
     "text": [
      "indoorHum_50_bin_indoorHum_max done\n",
      "indoorHum_50_bin_indoorHum_min done\n",
      "indoorHum_50_bin_indoorAtmo_median done\n"
     ]
    },
    {
     "name": "stderr",
     "output_type": "stream",
     "text": [
      "\r",
      " 70%|███████████████████████████████████████████████████████▍                       | 751/1070 [00:33<00:14, 21.86it/s]"
     ]
    },
    {
     "name": "stdout",
     "output_type": "stream",
     "text": [
      "indoorHum_50_bin_indoorAtmo_mean done\n",
      "indoorHum_50_bin_indoorAtmo_max done\n",
      "indoorHum_50_bin_indoorAtmo_min done\n"
     ]
    },
    {
     "name": "stderr",
     "output_type": "stream",
     "text": [
      "\r",
      " 70%|███████████████████████████████████████████████████████▋                       | 754/1070 [00:33<00:14, 21.93it/s]"
     ]
    },
    {
     "name": "stdout",
     "output_type": "stream",
     "text": [
      "indoorHum_50_bin_indoorAtmo-outdoorAtmo_median done\n",
      "indoorHum_50_bin_indoorAtmo-outdoorAtmo_mean done\n",
      "indoorHum_50_bin_indoorAtmo-outdoorAtmo_max done\n"
     ]
    },
    {
     "name": "stderr",
     "output_type": "stream",
     "text": [
      "\r",
      " 71%|███████████████████████████████████████████████████████▉                       | 757/1070 [00:33<00:14, 22.12it/s]"
     ]
    },
    {
     "name": "stdout",
     "output_type": "stream",
     "text": [
      "indoorHum_50_bin_indoorAtmo-outdoorAtmo_min done\n",
      "indoorHum_50_bin_indoorHum-outdoorHum_median done\n",
      "indoorHum_50_bin_indoorHum-outdoorHum_mean done\n"
     ]
    },
    {
     "name": "stderr",
     "output_type": "stream",
     "text": [
      "\r",
      " 71%|████████████████████████████████████████████████████████                       | 760/1070 [00:33<00:14, 21.96it/s]"
     ]
    },
    {
     "name": "stdout",
     "output_type": "stream",
     "text": [
      "indoorHum_50_bin_indoorHum-outdoorHum_max done\n",
      "indoorHum_50_bin_indoorHum-outdoorHum_min done\n",
      "indoorAtmo_50_bin_outdoorTemp_median done\n"
     ]
    },
    {
     "name": "stderr",
     "output_type": "stream",
     "text": [
      "\r",
      " 71%|████████████████████████████████████████████████████████▎                      | 763/1070 [00:34<00:13, 22.14it/s]"
     ]
    },
    {
     "name": "stdout",
     "output_type": "stream",
     "text": [
      "indoorAtmo_50_bin_outdoorTemp_mean done\n",
      "indoorAtmo_50_bin_outdoorTemp_max done\n",
      "indoorAtmo_50_bin_outdoorTemp_min done\n"
     ]
    },
    {
     "name": "stderr",
     "output_type": "stream",
     "text": [
      "\r",
      " 72%|████████████████████████████████████████████████████████▌                      | 766/1070 [00:34<00:13, 22.17it/s]"
     ]
    },
    {
     "name": "stdout",
     "output_type": "stream",
     "text": [
      "indoorAtmo_50_bin_outdoorHum_median done\n",
      "indoorAtmo_50_bin_outdoorHum_mean done\n",
      "indoorAtmo_50_bin_outdoorHum_max done\n"
     ]
    },
    {
     "name": "stderr",
     "output_type": "stream",
     "text": [
      "\r",
      " 72%|████████████████████████████████████████████████████████▊                      | 769/1070 [00:34<00:13, 22.79it/s]"
     ]
    },
    {
     "name": "stdout",
     "output_type": "stream",
     "text": [
      "indoorAtmo_50_bin_outdoorHum_min done\n",
      "indoorAtmo_50_bin_outdoorAtmo_median done\n",
      "indoorAtmo_50_bin_outdoorAtmo_mean done\n"
     ]
    },
    {
     "name": "stderr",
     "output_type": "stream",
     "text": [
      "\r",
      " 72%|████████████████████████████████████████████████████████▉                      | 772/1070 [00:34<00:12, 23.09it/s]"
     ]
    },
    {
     "name": "stdout",
     "output_type": "stream",
     "text": [
      "indoorAtmo_50_bin_outdoorAtmo_max done\n",
      "indoorAtmo_50_bin_outdoorAtmo_min done\n",
      "indoorAtmo_50_bin_indoorHum_median done\n"
     ]
    },
    {
     "name": "stderr",
     "output_type": "stream",
     "text": [
      "\r",
      " 72%|█████████████████████████████████████████████████████████▏                     | 775/1070 [00:34<00:12, 23.42it/s]"
     ]
    },
    {
     "name": "stdout",
     "output_type": "stream",
     "text": [
      "indoorAtmo_50_bin_indoorHum_mean done\n",
      "indoorAtmo_50_bin_indoorHum_max done\n",
      "indoorAtmo_50_bin_indoorHum_min done\n"
     ]
    },
    {
     "name": "stderr",
     "output_type": "stream",
     "text": [
      "\r",
      " 73%|█████████████████████████████████████████████████████████▍                     | 778/1070 [00:34<00:12, 23.99it/s]"
     ]
    },
    {
     "name": "stdout",
     "output_type": "stream",
     "text": [
      "indoorAtmo_50_bin_indoorAtmo_median done\n",
      "indoorAtmo_50_bin_indoorAtmo_mean done\n",
      "indoorAtmo_50_bin_indoorAtmo_max done\n"
     ]
    },
    {
     "name": "stderr",
     "output_type": "stream",
     "text": [
      "\r",
      " 73%|█████████████████████████████████████████████████████████▋                     | 781/1070 [00:34<00:12, 23.82it/s]"
     ]
    },
    {
     "name": "stdout",
     "output_type": "stream",
     "text": [
      "indoorAtmo_50_bin_indoorAtmo_min done\n",
      "indoorAtmo_50_bin_indoorAtmo-outdoorAtmo_median done\n",
      "indoorAtmo_50_bin_indoorAtmo-outdoorAtmo_mean done\n"
     ]
    },
    {
     "name": "stderr",
     "output_type": "stream",
     "text": [
      "\r",
      " 73%|█████████████████████████████████████████████████████████▉                     | 784/1070 [00:34<00:12, 23.77it/s]"
     ]
    },
    {
     "name": "stdout",
     "output_type": "stream",
     "text": [
      "indoorAtmo_50_bin_indoorAtmo-outdoorAtmo_max done\n",
      "indoorAtmo_50_bin_indoorAtmo-outdoorAtmo_min done\n",
      "indoorAtmo_50_bin_indoorHum-outdoorHum_median done\n"
     ]
    },
    {
     "name": "stderr",
     "output_type": "stream",
     "text": [
      "\r",
      " 74%|██████████████████████████████████████████████████████████                     | 787/1070 [00:35<00:12, 23.50it/s]"
     ]
    },
    {
     "name": "stdout",
     "output_type": "stream",
     "text": [
      "indoorAtmo_50_bin_indoorHum-outdoorHum_mean done\n",
      "indoorAtmo_50_bin_indoorHum-outdoorHum_max done\n",
      "indoorAtmo_50_bin_indoorHum-outdoorHum_min done\n"
     ]
    },
    {
     "name": "stderr",
     "output_type": "stream",
     "text": [
      "\r",
      " 74%|██████████████████████████████████████████████████████████▎                    | 790/1070 [00:35<00:11, 23.49it/s]"
     ]
    },
    {
     "name": "stdout",
     "output_type": "stream",
     "text": [
      "outdoorTemp_100_bin_outdoorTemp_median done\n",
      "outdoorTemp_100_bin_outdoorTemp_mean done\n",
      "outdoorTemp_100_bin_outdoorTemp_max done\n"
     ]
    },
    {
     "name": "stderr",
     "output_type": "stream",
     "text": [
      "\r",
      " 74%|██████████████████████████████████████████████████████████▌                    | 793/1070 [00:35<00:12, 23.04it/s]"
     ]
    },
    {
     "name": "stdout",
     "output_type": "stream",
     "text": [
      "outdoorTemp_100_bin_outdoorTemp_min done\n",
      "outdoorTemp_100_bin_outdoorHum_median done\n",
      "outdoorTemp_100_bin_outdoorHum_mean done\n"
     ]
    },
    {
     "name": "stderr",
     "output_type": "stream",
     "text": [
      "\r",
      " 74%|██████████████████████████████████████████████████████████▊                    | 796/1070 [00:35<00:11, 22.85it/s]"
     ]
    },
    {
     "name": "stdout",
     "output_type": "stream",
     "text": [
      "outdoorTemp_100_bin_outdoorHum_max done\n",
      "outdoorTemp_100_bin_outdoorHum_min done\n",
      "outdoorTemp_100_bin_outdoorAtmo_median done\n"
     ]
    },
    {
     "name": "stderr",
     "output_type": "stream",
     "text": [
      "\r",
      " 75%|██████████████████████████████████████████████████████████▉                    | 799/1070 [00:35<00:11, 23.13it/s]"
     ]
    },
    {
     "name": "stdout",
     "output_type": "stream",
     "text": [
      "outdoorTemp_100_bin_outdoorAtmo_mean done\n",
      "outdoorTemp_100_bin_outdoorAtmo_max done\n",
      "outdoorTemp_100_bin_outdoorAtmo_min done\n"
     ]
    },
    {
     "name": "stderr",
     "output_type": "stream",
     "text": [
      "\r",
      " 75%|███████████████████████████████████████████████████████████▏                   | 802/1070 [00:35<00:12, 22.05it/s]"
     ]
    },
    {
     "name": "stdout",
     "output_type": "stream",
     "text": [
      "outdoorTemp_100_bin_indoorHum_median done\n",
      "outdoorTemp_100_bin_indoorHum_mean done\n",
      "outdoorTemp_100_bin_indoorHum_max done\n"
     ]
    },
    {
     "name": "stderr",
     "output_type": "stream",
     "text": [
      "\r",
      " 75%|███████████████████████████████████████████████████████████▍                   | 805/1070 [00:35<00:11, 22.81it/s]"
     ]
    },
    {
     "name": "stdout",
     "output_type": "stream",
     "text": [
      "outdoorTemp_100_bin_indoorHum_min done\n",
      "outdoorTemp_100_bin_indoorAtmo_median done\n",
      "outdoorTemp_100_bin_indoorAtmo_mean done\n"
     ]
    },
    {
     "name": "stderr",
     "output_type": "stream",
     "text": [
      "\r",
      " 76%|███████████████████████████████████████████████████████████▋                   | 808/1070 [00:36<00:11, 22.53it/s]"
     ]
    },
    {
     "name": "stdout",
     "output_type": "stream",
     "text": [
      "outdoorTemp_100_bin_indoorAtmo_max done\n",
      "outdoorTemp_100_bin_indoorAtmo_min done\n",
      "outdoorTemp_100_bin_indoorAtmo-outdoorAtmo_median done\n"
     ]
    },
    {
     "name": "stderr",
     "output_type": "stream",
     "text": [
      "\r",
      " 76%|███████████████████████████████████████████████████████████▉                   | 811/1070 [00:36<00:11, 22.19it/s]"
     ]
    },
    {
     "name": "stdout",
     "output_type": "stream",
     "text": [
      "outdoorTemp_100_bin_indoorAtmo-outdoorAtmo_mean done\n",
      "outdoorTemp_100_bin_indoorAtmo-outdoorAtmo_max done\n",
      "outdoorTemp_100_bin_indoorAtmo-outdoorAtmo_min done\n"
     ]
    },
    {
     "name": "stderr",
     "output_type": "stream",
     "text": [
      "\r",
      " 76%|████████████████████████████████████████████████████████████                   | 814/1070 [00:36<00:11, 22.06it/s]"
     ]
    },
    {
     "name": "stdout",
     "output_type": "stream",
     "text": [
      "outdoorTemp_100_bin_indoorHum-outdoorHum_median done\n",
      "outdoorTemp_100_bin_indoorHum-outdoorHum_mean done\n",
      "outdoorTemp_100_bin_indoorHum-outdoorHum_max done\n"
     ]
    },
    {
     "name": "stderr",
     "output_type": "stream",
     "text": [
      "\r",
      " 76%|████████████████████████████████████████████████████████████▎                  | 817/1070 [00:36<00:11, 22.01it/s]"
     ]
    },
    {
     "name": "stdout",
     "output_type": "stream",
     "text": [
      "outdoorTemp_100_bin_indoorHum-outdoorHum_min done\n",
      "outdoorHum_100_bin_outdoorTemp_median done\n",
      "outdoorHum_100_bin_outdoorTemp_mean done\n"
     ]
    },
    {
     "name": "stderr",
     "output_type": "stream",
     "text": [
      "\r",
      " 77%|████████████████████████████████████████████████████████████▌                  | 820/1070 [00:36<00:11, 21.98it/s]"
     ]
    },
    {
     "name": "stdout",
     "output_type": "stream",
     "text": [
      "outdoorHum_100_bin_outdoorTemp_max done\n",
      "outdoorHum_100_bin_outdoorTemp_min done\n",
      "outdoorHum_100_bin_outdoorHum_median done\n"
     ]
    },
    {
     "name": "stderr",
     "output_type": "stream",
     "text": [
      "\r",
      " 77%|████████████████████████████████████████████████████████████▊                  | 823/1070 [00:36<00:11, 22.06it/s]"
     ]
    },
    {
     "name": "stdout",
     "output_type": "stream",
     "text": [
      "outdoorHum_100_bin_outdoorHum_mean done\n",
      "outdoorHum_100_bin_outdoorHum_max done\n",
      "outdoorHum_100_bin_outdoorHum_min done\n"
     ]
    },
    {
     "name": "stderr",
     "output_type": "stream",
     "text": [
      "\r",
      " 77%|████████████████████████████████████████████████████████████▉                  | 826/1070 [00:36<00:11, 21.87it/s]"
     ]
    },
    {
     "name": "stdout",
     "output_type": "stream",
     "text": [
      "outdoorHum_100_bin_outdoorAtmo_median done\n",
      "outdoorHum_100_bin_outdoorAtmo_mean done\n",
      "outdoorHum_100_bin_outdoorAtmo_max done\n"
     ]
    },
    {
     "name": "stderr",
     "output_type": "stream",
     "text": [
      "\r",
      " 77%|█████████████████████████████████████████████████████████████▏                 | 829/1070 [00:36<00:11, 21.69it/s]"
     ]
    },
    {
     "name": "stdout",
     "output_type": "stream",
     "text": [
      "outdoorHum_100_bin_outdoorAtmo_min done\n",
      "outdoorHum_100_bin_indoorHum_median done\n",
      "outdoorHum_100_bin_indoorHum_mean done\n"
     ]
    },
    {
     "name": "stderr",
     "output_type": "stream",
     "text": [
      "\r",
      " 78%|█████████████████████████████████████████████████████████████▍                 | 832/1070 [00:37<00:10, 21.95it/s]"
     ]
    },
    {
     "name": "stdout",
     "output_type": "stream",
     "text": [
      "outdoorHum_100_bin_indoorHum_max done\n",
      "outdoorHum_100_bin_indoorHum_min done\n",
      "outdoorHum_100_bin_indoorAtmo_median done\n"
     ]
    },
    {
     "name": "stderr",
     "output_type": "stream",
     "text": [
      "\r",
      " 78%|█████████████████████████████████████████████████████████████▋                 | 835/1070 [00:37<00:10, 21.98it/s]"
     ]
    },
    {
     "name": "stdout",
     "output_type": "stream",
     "text": [
      "outdoorHum_100_bin_indoorAtmo_mean done\n",
      "outdoorHum_100_bin_indoorAtmo_max done\n",
      "outdoorHum_100_bin_indoorAtmo_min done\n"
     ]
    },
    {
     "name": "stderr",
     "output_type": "stream",
     "text": [
      "\r",
      " 78%|█████████████████████████████████████████████████████████████▊                 | 838/1070 [00:37<00:10, 22.01it/s]"
     ]
    },
    {
     "name": "stdout",
     "output_type": "stream",
     "text": [
      "outdoorHum_100_bin_indoorAtmo-outdoorAtmo_median done\n",
      "outdoorHum_100_bin_indoorAtmo-outdoorAtmo_mean done\n",
      "outdoorHum_100_bin_indoorAtmo-outdoorAtmo_max done\n"
     ]
    },
    {
     "name": "stderr",
     "output_type": "stream",
     "text": [
      "\r",
      " 79%|██████████████████████████████████████████████████████████████                 | 841/1070 [00:37<00:10, 21.42it/s]"
     ]
    },
    {
     "name": "stdout",
     "output_type": "stream",
     "text": [
      "outdoorHum_100_bin_indoorAtmo-outdoorAtmo_min done\n",
      "outdoorHum_100_bin_indoorHum-outdoorHum_median done\n",
      "outdoorHum_100_bin_indoorHum-outdoorHum_mean done\n"
     ]
    },
    {
     "name": "stderr",
     "output_type": "stream",
     "text": [
      "\r",
      " 79%|██████████████████████████████████████████████████████████████▎                | 844/1070 [00:37<00:10, 20.84it/s]"
     ]
    },
    {
     "name": "stdout",
     "output_type": "stream",
     "text": [
      "outdoorHum_100_bin_indoorHum-outdoorHum_max done\n",
      "outdoorHum_100_bin_indoorHum-outdoorHum_min done\n",
      "outdoorAtmo_100_bin_outdoorTemp_median done\n"
     ]
    },
    {
     "name": "stderr",
     "output_type": "stream",
     "text": [
      "\r",
      " 79%|██████████████████████████████████████████████████████████████▌                | 847/1070 [00:37<00:10, 20.67it/s]"
     ]
    },
    {
     "name": "stdout",
     "output_type": "stream",
     "text": [
      "outdoorAtmo_100_bin_outdoorTemp_mean done\n",
      "outdoorAtmo_100_bin_outdoorTemp_max done\n",
      "outdoorAtmo_100_bin_outdoorTemp_min done\n"
     ]
    },
    {
     "name": "stderr",
     "output_type": "stream",
     "text": [
      "\r",
      " 79%|██████████████████████████████████████████████████████████████▊                | 850/1070 [00:37<00:10, 20.77it/s]"
     ]
    },
    {
     "name": "stdout",
     "output_type": "stream",
     "text": [
      "outdoorAtmo_100_bin_outdoorHum_median done\n",
      "outdoorAtmo_100_bin_outdoorHum_mean done\n",
      "outdoorAtmo_100_bin_outdoorHum_max done\n"
     ]
    },
    {
     "name": "stderr",
     "output_type": "stream",
     "text": [
      "\r",
      " 80%|██████████████████████████████████████████████████████████████▉                | 853/1070 [00:38<00:10, 21.51it/s]"
     ]
    },
    {
     "name": "stdout",
     "output_type": "stream",
     "text": [
      "outdoorAtmo_100_bin_outdoorHum_min done\n",
      "outdoorAtmo_100_bin_outdoorAtmo_median done\n",
      "outdoorAtmo_100_bin_outdoorAtmo_mean done\n"
     ]
    },
    {
     "name": "stderr",
     "output_type": "stream",
     "text": [
      "\r",
      " 80%|███████████████████████████████████████████████████████████████▏               | 856/1070 [00:38<00:09, 21.44it/s]"
     ]
    },
    {
     "name": "stdout",
     "output_type": "stream",
     "text": [
      "outdoorAtmo_100_bin_outdoorAtmo_max done\n",
      "outdoorAtmo_100_bin_outdoorAtmo_min done\n",
      "outdoorAtmo_100_bin_indoorHum_median done\n"
     ]
    },
    {
     "name": "stderr",
     "output_type": "stream",
     "text": [
      "\r",
      " 80%|███████████████████████████████████████████████████████████████▍               | 859/1070 [00:38<00:09, 21.58it/s]"
     ]
    },
    {
     "name": "stdout",
     "output_type": "stream",
     "text": [
      "outdoorAtmo_100_bin_indoorHum_mean done\n",
      "outdoorAtmo_100_bin_indoorHum_max done\n",
      "outdoorAtmo_100_bin_indoorHum_min done\n"
     ]
    },
    {
     "name": "stderr",
     "output_type": "stream",
     "text": [
      "\r",
      " 81%|███████████████████████████████████████████████████████████████▋               | 862/1070 [00:38<00:09, 22.36it/s]"
     ]
    },
    {
     "name": "stdout",
     "output_type": "stream",
     "text": [
      "outdoorAtmo_100_bin_indoorAtmo_median done\n",
      "outdoorAtmo_100_bin_indoorAtmo_mean done\n",
      "outdoorAtmo_100_bin_indoorAtmo_max done\n"
     ]
    },
    {
     "name": "stderr",
     "output_type": "stream",
     "text": [
      "\r",
      " 81%|███████████████████████████████████████████████████████████████▊               | 865/1070 [00:38<00:09, 21.55it/s]"
     ]
    },
    {
     "name": "stdout",
     "output_type": "stream",
     "text": [
      "outdoorAtmo_100_bin_indoorAtmo_min done\n",
      "outdoorAtmo_100_bin_indoorAtmo-outdoorAtmo_median done\n",
      "outdoorAtmo_100_bin_indoorAtmo-outdoorAtmo_mean done\n"
     ]
    },
    {
     "name": "stderr",
     "output_type": "stream",
     "text": [
      "\r",
      " 81%|████████████████████████████████████████████████████████████████               | 868/1070 [00:38<00:09, 21.61it/s]"
     ]
    },
    {
     "name": "stdout",
     "output_type": "stream",
     "text": [
      "outdoorAtmo_100_bin_indoorAtmo-outdoorAtmo_max done\n",
      "outdoorAtmo_100_bin_indoorAtmo-outdoorAtmo_min done\n",
      "outdoorAtmo_100_bin_indoorHum-outdoorHum_median done\n"
     ]
    },
    {
     "name": "stderr",
     "output_type": "stream",
     "text": [
      "\r",
      " 81%|████████████████████████████████████████████████████████████████▎              | 871/1070 [00:38<00:09, 22.08it/s]"
     ]
    },
    {
     "name": "stdout",
     "output_type": "stream",
     "text": [
      "outdoorAtmo_100_bin_indoorHum-outdoorHum_mean done\n",
      "outdoorAtmo_100_bin_indoorHum-outdoorHum_max done\n",
      "outdoorAtmo_100_bin_indoorHum-outdoorHum_min done\n"
     ]
    },
    {
     "name": "stderr",
     "output_type": "stream",
     "text": [
      "\r",
      " 82%|████████████████████████████████████████████████████████████████▌              | 874/1070 [00:39<00:08, 22.03it/s]"
     ]
    },
    {
     "name": "stdout",
     "output_type": "stream",
     "text": [
      "indoorHum_100_bin_outdoorTemp_median done\n",
      "indoorHum_100_bin_outdoorTemp_mean done\n",
      "indoorHum_100_bin_outdoorTemp_max done\n"
     ]
    },
    {
     "name": "stderr",
     "output_type": "stream",
     "text": [
      "\r",
      " 82%|████████████████████████████████████████████████████████████████▊              | 877/1070 [00:39<00:08, 22.39it/s]"
     ]
    },
    {
     "name": "stdout",
     "output_type": "stream",
     "text": [
      "indoorHum_100_bin_outdoorTemp_min done\n",
      "indoorHum_100_bin_outdoorHum_median done\n",
      "indoorHum_100_bin_outdoorHum_mean done\n"
     ]
    },
    {
     "name": "stderr",
     "output_type": "stream",
     "text": [
      "\r",
      " 82%|████████████████████████████████████████████████████████████████▉              | 880/1070 [00:39<00:08, 22.49it/s]"
     ]
    },
    {
     "name": "stdout",
     "output_type": "stream",
     "text": [
      "indoorHum_100_bin_outdoorHum_max done\n",
      "indoorHum_100_bin_outdoorHum_min done\n",
      "indoorHum_100_bin_outdoorAtmo_median done\n"
     ]
    },
    {
     "name": "stderr",
     "output_type": "stream",
     "text": [
      "\r",
      " 83%|█████████████████████████████████████████████████████████████████▏             | 883/1070 [00:39<00:08, 22.41it/s]"
     ]
    },
    {
     "name": "stdout",
     "output_type": "stream",
     "text": [
      "indoorHum_100_bin_outdoorAtmo_mean done\n",
      "indoorHum_100_bin_outdoorAtmo_max done\n",
      "indoorHum_100_bin_outdoorAtmo_min done\n"
     ]
    },
    {
     "name": "stderr",
     "output_type": "stream",
     "text": [
      "\r",
      " 83%|█████████████████████████████████████████████████████████████████▍             | 886/1070 [00:39<00:08, 21.36it/s]"
     ]
    },
    {
     "name": "stdout",
     "output_type": "stream",
     "text": [
      "indoorHum_100_bin_indoorHum_median done\n",
      "indoorHum_100_bin_indoorHum_mean done\n",
      "indoorHum_100_bin_indoorHum_max done\n"
     ]
    },
    {
     "name": "stderr",
     "output_type": "stream",
     "text": [
      "\r",
      " 83%|█████████████████████████████████████████████████████████████████▋             | 889/1070 [00:39<00:08, 20.94it/s]"
     ]
    },
    {
     "name": "stdout",
     "output_type": "stream",
     "text": [
      "indoorHum_100_bin_indoorHum_min done\n",
      "indoorHum_100_bin_indoorAtmo_median done\n",
      "indoorHum_100_bin_indoorAtmo_mean done\n"
     ]
    },
    {
     "name": "stderr",
     "output_type": "stream",
     "text": [
      "\r",
      " 83%|█████████████████████████████████████████████████████████████████▊             | 892/1070 [00:39<00:08, 21.00it/s]"
     ]
    },
    {
     "name": "stdout",
     "output_type": "stream",
     "text": [
      "indoorHum_100_bin_indoorAtmo_max done\n",
      "indoorHum_100_bin_indoorAtmo_min done\n",
      "indoorHum_100_bin_indoorAtmo-outdoorAtmo_median done\n"
     ]
    },
    {
     "name": "stderr",
     "output_type": "stream",
     "text": [
      "\r",
      " 84%|██████████████████████████████████████████████████████████████████             | 895/1070 [00:40<00:08, 21.13it/s]"
     ]
    },
    {
     "name": "stdout",
     "output_type": "stream",
     "text": [
      "indoorHum_100_bin_indoorAtmo-outdoorAtmo_mean done\n",
      "indoorHum_100_bin_indoorAtmo-outdoorAtmo_max done\n",
      "indoorHum_100_bin_indoorAtmo-outdoorAtmo_min done\n"
     ]
    },
    {
     "name": "stderr",
     "output_type": "stream",
     "text": [
      "\r",
      " 84%|██████████████████████████████████████████████████████████████████▎            | 898/1070 [00:40<00:08, 21.49it/s]"
     ]
    },
    {
     "name": "stdout",
     "output_type": "stream",
     "text": [
      "indoorHum_100_bin_indoorHum-outdoorHum_median done\n",
      "indoorHum_100_bin_indoorHum-outdoorHum_mean done\n",
      "indoorHum_100_bin_indoorHum-outdoorHum_max done\n"
     ]
    },
    {
     "name": "stderr",
     "output_type": "stream",
     "text": [
      "\r",
      " 84%|██████████████████████████████████████████████████████████████████▌            | 901/1070 [00:40<00:07, 21.43it/s]"
     ]
    },
    {
     "name": "stdout",
     "output_type": "stream",
     "text": [
      "indoorHum_100_bin_indoorHum-outdoorHum_min done\n",
      "indoorAtmo_100_bin_outdoorTemp_median done\n",
      "indoorAtmo_100_bin_outdoorTemp_mean done\n"
     ]
    },
    {
     "name": "stderr",
     "output_type": "stream",
     "text": [
      "\r",
      " 84%|██████████████████████████████████████████████████████████████████▋            | 904/1070 [00:40<00:08, 20.43it/s]"
     ]
    },
    {
     "name": "stdout",
     "output_type": "stream",
     "text": [
      "indoorAtmo_100_bin_outdoorTemp_max done\n",
      "indoorAtmo_100_bin_outdoorTemp_min done\n",
      "indoorAtmo_100_bin_outdoorHum_median done\n"
     ]
    },
    {
     "name": "stderr",
     "output_type": "stream",
     "text": [
      "\r",
      " 85%|██████████████████████████████████████████████████████████████████▉            | 907/1070 [00:40<00:07, 21.30it/s]"
     ]
    },
    {
     "name": "stdout",
     "output_type": "stream",
     "text": [
      "indoorAtmo_100_bin_outdoorHum_mean done\n",
      "indoorAtmo_100_bin_outdoorHum_max done\n",
      "indoorAtmo_100_bin_outdoorHum_min done\n"
     ]
    },
    {
     "name": "stderr",
     "output_type": "stream",
     "text": [
      "\r",
      " 85%|███████████████████████████████████████████████████████████████████▏           | 910/1070 [00:40<00:07, 22.59it/s]"
     ]
    },
    {
     "name": "stdout",
     "output_type": "stream",
     "text": [
      "indoorAtmo_100_bin_outdoorAtmo_median done\n",
      "indoorAtmo_100_bin_outdoorAtmo_mean done\n",
      "indoorAtmo_100_bin_outdoorAtmo_max done\n"
     ]
    },
    {
     "name": "stderr",
     "output_type": "stream",
     "text": [
      "\r",
      " 85%|███████████████████████████████████████████████████████████████████▍           | 913/1070 [00:40<00:06, 22.58it/s]"
     ]
    },
    {
     "name": "stdout",
     "output_type": "stream",
     "text": [
      "indoorAtmo_100_bin_outdoorAtmo_min done\n",
      "indoorAtmo_100_bin_indoorHum_median done\n",
      "indoorAtmo_100_bin_indoorHum_mean done\n"
     ]
    },
    {
     "name": "stderr",
     "output_type": "stream",
     "text": [
      "\r",
      " 86%|███████████████████████████████████████████████████████████████████▋           | 916/1070 [00:40<00:06, 23.10it/s]"
     ]
    },
    {
     "name": "stdout",
     "output_type": "stream",
     "text": [
      "indoorAtmo_100_bin_indoorHum_max done\n",
      "indoorAtmo_100_bin_indoorHum_min done\n",
      "indoorAtmo_100_bin_indoorAtmo_median done\n"
     ]
    },
    {
     "name": "stderr",
     "output_type": "stream",
     "text": [
      "\r",
      " 86%|███████████████████████████████████████████████████████████████████▊           | 919/1070 [00:41<00:06, 23.21it/s]"
     ]
    },
    {
     "name": "stdout",
     "output_type": "stream",
     "text": [
      "indoorAtmo_100_bin_indoorAtmo_mean done\n",
      "indoorAtmo_100_bin_indoorAtmo_max done\n",
      "indoorAtmo_100_bin_indoorAtmo_min done\n"
     ]
    },
    {
     "name": "stderr",
     "output_type": "stream",
     "text": [
      "\r",
      " 86%|████████████████████████████████████████████████████████████████████           | 922/1070 [00:41<00:06, 23.16it/s]"
     ]
    },
    {
     "name": "stdout",
     "output_type": "stream",
     "text": [
      "indoorAtmo_100_bin_indoorAtmo-outdoorAtmo_median done\n",
      "indoorAtmo_100_bin_indoorAtmo-outdoorAtmo_mean done\n",
      "indoorAtmo_100_bin_indoorAtmo-outdoorAtmo_max done\n"
     ]
    },
    {
     "name": "stderr",
     "output_type": "stream",
     "text": [
      "\r",
      " 86%|████████████████████████████████████████████████████████████████████▎          | 925/1070 [00:41<00:06, 22.77it/s]"
     ]
    },
    {
     "name": "stdout",
     "output_type": "stream",
     "text": [
      "indoorAtmo_100_bin_indoorAtmo-outdoorAtmo_min done\n",
      "indoorAtmo_100_bin_indoorHum-outdoorHum_median done\n",
      "indoorAtmo_100_bin_indoorHum-outdoorHum_mean done\n"
     ]
    },
    {
     "name": "stderr",
     "output_type": "stream",
     "text": [
      "\r",
      " 87%|████████████████████████████████████████████████████████████████████▌          | 928/1070 [00:41<00:06, 22.51it/s]"
     ]
    },
    {
     "name": "stdout",
     "output_type": "stream",
     "text": [
      "indoorAtmo_100_bin_indoorHum-outdoorHum_max done\n",
      "indoorAtmo_100_bin_indoorHum-outdoorHum_min done\n",
      "outdoorTemp_200_bin_outdoorTemp_median done\n"
     ]
    },
    {
     "name": "stderr",
     "output_type": "stream",
     "text": [
      "\r",
      " 87%|████████████████████████████████████████████████████████████████████▋          | 931/1070 [00:41<00:06, 22.23it/s]"
     ]
    },
    {
     "name": "stdout",
     "output_type": "stream",
     "text": [
      "outdoorTemp_200_bin_outdoorTemp_mean done\n",
      "outdoorTemp_200_bin_outdoorTemp_max done\n",
      "outdoorTemp_200_bin_outdoorTemp_min done\n"
     ]
    },
    {
     "name": "stderr",
     "output_type": "stream",
     "text": [
      "\r",
      " 87%|████████████████████████████████████████████████████████████████████▉          | 934/1070 [00:41<00:06, 21.60it/s]"
     ]
    },
    {
     "name": "stdout",
     "output_type": "stream",
     "text": [
      "outdoorTemp_200_bin_outdoorHum_median done\n",
      "outdoorTemp_200_bin_outdoorHum_mean done\n",
      "outdoorTemp_200_bin_outdoorHum_max done\n"
     ]
    },
    {
     "name": "stderr",
     "output_type": "stream",
     "text": [
      "\r",
      " 88%|█████████████████████████████████████████████████████████████████████▏         | 937/1070 [00:41<00:05, 22.28it/s]"
     ]
    },
    {
     "name": "stdout",
     "output_type": "stream",
     "text": [
      "outdoorTemp_200_bin_outdoorHum_min done\n",
      "outdoorTemp_200_bin_outdoorAtmo_median done\n",
      "outdoorTemp_200_bin_outdoorAtmo_mean done\n"
     ]
    },
    {
     "name": "stderr",
     "output_type": "stream",
     "text": [
      "\r",
      " 88%|█████████████████████████████████████████████████████████████████████▍         | 940/1070 [00:42<00:05, 22.51it/s]"
     ]
    },
    {
     "name": "stdout",
     "output_type": "stream",
     "text": [
      "outdoorTemp_200_bin_outdoorAtmo_max done\n",
      "outdoorTemp_200_bin_outdoorAtmo_min done\n",
      "outdoorTemp_200_bin_indoorHum_median done\n"
     ]
    },
    {
     "name": "stderr",
     "output_type": "stream",
     "text": [
      "\r",
      " 88%|█████████████████████████████████████████████████████████████████████▌         | 943/1070 [00:42<00:05, 22.13it/s]"
     ]
    },
    {
     "name": "stdout",
     "output_type": "stream",
     "text": [
      "outdoorTemp_200_bin_indoorHum_mean done\n",
      "outdoorTemp_200_bin_indoorHum_max done\n",
      "outdoorTemp_200_bin_indoorHum_min done\n"
     ]
    },
    {
     "name": "stderr",
     "output_type": "stream",
     "text": [
      "\r",
      " 88%|█████████████████████████████████████████████████████████████████████▊         | 946/1070 [00:42<00:05, 22.56it/s]"
     ]
    },
    {
     "name": "stdout",
     "output_type": "stream",
     "text": [
      "outdoorTemp_200_bin_indoorAtmo_median done\n",
      "outdoorTemp_200_bin_indoorAtmo_mean done\n",
      "outdoorTemp_200_bin_indoorAtmo_max done\n"
     ]
    },
    {
     "name": "stderr",
     "output_type": "stream",
     "text": [
      "\r",
      " 89%|██████████████████████████████████████████████████████████████████████         | 949/1070 [00:42<00:05, 22.26it/s]"
     ]
    },
    {
     "name": "stdout",
     "output_type": "stream",
     "text": [
      "outdoorTemp_200_bin_indoorAtmo_min done\n",
      "outdoorTemp_200_bin_indoorAtmo-outdoorAtmo_median done\n",
      "outdoorTemp_200_bin_indoorAtmo-outdoorAtmo_mean done\n"
     ]
    },
    {
     "name": "stderr",
     "output_type": "stream",
     "text": [
      "\r",
      " 89%|██████████████████████████████████████████████████████████████████████▎        | 952/1070 [00:42<00:05, 22.01it/s]"
     ]
    },
    {
     "name": "stdout",
     "output_type": "stream",
     "text": [
      "outdoorTemp_200_bin_indoorAtmo-outdoorAtmo_max done\n",
      "outdoorTemp_200_bin_indoorAtmo-outdoorAtmo_min done\n",
      "outdoorTemp_200_bin_indoorHum-outdoorHum_median done\n"
     ]
    },
    {
     "name": "stderr",
     "output_type": "stream",
     "text": [
      "\r",
      " 89%|██████████████████████████████████████████████████████████████████████▌        | 955/1070 [00:42<00:05, 22.22it/s]"
     ]
    },
    {
     "name": "stdout",
     "output_type": "stream",
     "text": [
      "outdoorTemp_200_bin_indoorHum-outdoorHum_mean done\n",
      "outdoorTemp_200_bin_indoorHum-outdoorHum_max done\n",
      "outdoorTemp_200_bin_indoorHum-outdoorHum_min done\n"
     ]
    },
    {
     "name": "stderr",
     "output_type": "stream",
     "text": [
      "\r",
      " 90%|██████████████████████████████████████████████████████████████████████▋        | 958/1070 [00:42<00:05, 21.79it/s]"
     ]
    },
    {
     "name": "stdout",
     "output_type": "stream",
     "text": [
      "outdoorHum_200_bin_outdoorTemp_median done\n",
      "outdoorHum_200_bin_outdoorTemp_mean done\n",
      "outdoorHum_200_bin_outdoorTemp_max done\n"
     ]
    },
    {
     "name": "stderr",
     "output_type": "stream",
     "text": [
      "\r",
      " 90%|██████████████████████████████████████████████████████████████████████▉        | 961/1070 [00:43<00:04, 22.07it/s]"
     ]
    },
    {
     "name": "stdout",
     "output_type": "stream",
     "text": [
      "outdoorHum_200_bin_outdoorTemp_min done\n",
      "outdoorHum_200_bin_outdoorHum_median done\n",
      "outdoorHum_200_bin_outdoorHum_mean done\n"
     ]
    },
    {
     "name": "stderr",
     "output_type": "stream",
     "text": [
      "\r",
      " 90%|███████████████████████████████████████████████████████████████████████▏       | 964/1070 [00:43<00:04, 21.97it/s]"
     ]
    },
    {
     "name": "stdout",
     "output_type": "stream",
     "text": [
      "outdoorHum_200_bin_outdoorHum_max done\n",
      "outdoorHum_200_bin_outdoorHum_min done\n",
      "outdoorHum_200_bin_outdoorAtmo_median done\n"
     ]
    },
    {
     "name": "stderr",
     "output_type": "stream",
     "text": [
      "\r",
      " 90%|███████████████████████████████████████████████████████████████████████▍       | 967/1070 [00:43<00:04, 21.86it/s]"
     ]
    },
    {
     "name": "stdout",
     "output_type": "stream",
     "text": [
      "outdoorHum_200_bin_outdoorAtmo_mean done\n",
      "outdoorHum_200_bin_outdoorAtmo_max done\n",
      "outdoorHum_200_bin_outdoorAtmo_min done\n"
     ]
    },
    {
     "name": "stderr",
     "output_type": "stream",
     "text": [
      "\r",
      " 91%|███████████████████████████████████████████████████████████████████████▌       | 970/1070 [00:43<00:04, 21.68it/s]"
     ]
    },
    {
     "name": "stdout",
     "output_type": "stream",
     "text": [
      "outdoorHum_200_bin_indoorHum_median done\n",
      "outdoorHum_200_bin_indoorHum_mean done\n",
      "outdoorHum_200_bin_indoorHum_max done\n"
     ]
    },
    {
     "name": "stderr",
     "output_type": "stream",
     "text": [
      "\r",
      " 91%|███████████████████████████████████████████████████████████████████████▊       | 973/1070 [00:43<00:04, 22.23it/s]"
     ]
    },
    {
     "name": "stdout",
     "output_type": "stream",
     "text": [
      "outdoorHum_200_bin_indoorHum_min done\n",
      "outdoorHum_200_bin_indoorAtmo_median done\n",
      "outdoorHum_200_bin_indoorAtmo_mean done\n"
     ]
    },
    {
     "name": "stderr",
     "output_type": "stream",
     "text": [
      "\r",
      " 91%|████████████████████████████████████████████████████████████████████████       | 976/1070 [00:43<00:04, 21.29it/s]"
     ]
    },
    {
     "name": "stdout",
     "output_type": "stream",
     "text": [
      "outdoorHum_200_bin_indoorAtmo_max done\n",
      "outdoorHum_200_bin_indoorAtmo_min done\n",
      "outdoorHum_200_bin_indoorAtmo-outdoorAtmo_median done\n"
     ]
    },
    {
     "name": "stderr",
     "output_type": "stream",
     "text": [
      "\r",
      " 91%|████████████████████████████████████████████████████████████████████████▎      | 979/1070 [00:43<00:04, 21.11it/s]"
     ]
    },
    {
     "name": "stdout",
     "output_type": "stream",
     "text": [
      "outdoorHum_200_bin_indoorAtmo-outdoorAtmo_mean done\n",
      "outdoorHum_200_bin_indoorAtmo-outdoorAtmo_max done\n",
      "outdoorHum_200_bin_indoorAtmo-outdoorAtmo_min done\n"
     ]
    },
    {
     "name": "stderr",
     "output_type": "stream",
     "text": [
      "\r",
      " 92%|████████████████████████████████████████████████████████████████████████▌      | 982/1070 [00:43<00:04, 20.94it/s]"
     ]
    },
    {
     "name": "stdout",
     "output_type": "stream",
     "text": [
      "outdoorHum_200_bin_indoorHum-outdoorHum_median done\n",
      "outdoorHum_200_bin_indoorHum-outdoorHum_mean done\n",
      "outdoorHum_200_bin_indoorHum-outdoorHum_max done\n"
     ]
    },
    {
     "name": "stderr",
     "output_type": "stream",
     "text": [
      "\r",
      " 92%|████████████████████████████████████████████████████████████████████████▋      | 985/1070 [00:44<00:04, 20.96it/s]"
     ]
    },
    {
     "name": "stdout",
     "output_type": "stream",
     "text": [
      "outdoorHum_200_bin_indoorHum-outdoorHum_min done\n",
      "outdoorAtmo_200_bin_outdoorTemp_median done\n",
      "outdoorAtmo_200_bin_outdoorTemp_mean done\n"
     ]
    },
    {
     "name": "stderr",
     "output_type": "stream",
     "text": [
      "\r",
      " 92%|████████████████████████████████████████████████████████████████████████▉      | 988/1070 [00:44<00:03, 21.10it/s]"
     ]
    },
    {
     "name": "stdout",
     "output_type": "stream",
     "text": [
      "outdoorAtmo_200_bin_outdoorTemp_max done\n",
      "outdoorAtmo_200_bin_outdoorTemp_min done\n",
      "outdoorAtmo_200_bin_outdoorHum_median done\n"
     ]
    },
    {
     "name": "stderr",
     "output_type": "stream",
     "text": [
      "\r",
      " 93%|█████████████████████████████████████████████████████████████████████████▏     | 991/1070 [00:44<00:03, 21.75it/s]"
     ]
    },
    {
     "name": "stdout",
     "output_type": "stream",
     "text": [
      "outdoorAtmo_200_bin_outdoorHum_mean done\n",
      "outdoorAtmo_200_bin_outdoorHum_max done\n",
      "outdoorAtmo_200_bin_outdoorHum_min done\n"
     ]
    },
    {
     "name": "stderr",
     "output_type": "stream",
     "text": [
      "\r",
      " 93%|█████████████████████████████████████████████████████████████████████████▍     | 994/1070 [00:44<00:03, 21.80it/s]"
     ]
    },
    {
     "name": "stdout",
     "output_type": "stream",
     "text": [
      "outdoorAtmo_200_bin_outdoorAtmo_median done\n",
      "outdoorAtmo_200_bin_outdoorAtmo_mean done\n",
      "outdoorAtmo_200_bin_outdoorAtmo_max done\n"
     ]
    },
    {
     "name": "stderr",
     "output_type": "stream",
     "text": [
      "\r",
      " 93%|█████████████████████████████████████████████████████████████████████████▌     | 997/1070 [00:44<00:03, 21.79it/s]"
     ]
    },
    {
     "name": "stdout",
     "output_type": "stream",
     "text": [
      "outdoorAtmo_200_bin_outdoorAtmo_min done\n",
      "outdoorAtmo_200_bin_indoorHum_median done\n",
      "outdoorAtmo_200_bin_indoorHum_mean done\n"
     ]
    },
    {
     "name": "stderr",
     "output_type": "stream",
     "text": [
      "\r",
      " 93%|████████████████████████████████████████████████████████████████████████▉     | 1000/1070 [00:44<00:03, 22.26it/s]"
     ]
    },
    {
     "name": "stdout",
     "output_type": "stream",
     "text": [
      "outdoorAtmo_200_bin_indoorHum_max done\n",
      "outdoorAtmo_200_bin_indoorHum_min done\n",
      "outdoorAtmo_200_bin_indoorAtmo_median done\n"
     ]
    },
    {
     "name": "stderr",
     "output_type": "stream",
     "text": [
      "\r",
      " 94%|█████████████████████████████████████████████████████████████████████████     | 1003/1070 [00:44<00:02, 22.71it/s]"
     ]
    },
    {
     "name": "stdout",
     "output_type": "stream",
     "text": [
      "outdoorAtmo_200_bin_indoorAtmo_mean done\n",
      "outdoorAtmo_200_bin_indoorAtmo_max done\n",
      "outdoorAtmo_200_bin_indoorAtmo_min done\n"
     ]
    },
    {
     "name": "stderr",
     "output_type": "stream",
     "text": [
      "\r",
      " 94%|█████████████████████████████████████████████████████████████████████████▎    | 1006/1070 [00:45<00:02, 21.92it/s]"
     ]
    },
    {
     "name": "stdout",
     "output_type": "stream",
     "text": [
      "outdoorAtmo_200_bin_indoorAtmo-outdoorAtmo_median done\n",
      "outdoorAtmo_200_bin_indoorAtmo-outdoorAtmo_mean done\n",
      "outdoorAtmo_200_bin_indoorAtmo-outdoorAtmo_max done\n"
     ]
    },
    {
     "name": "stderr",
     "output_type": "stream",
     "text": [
      "\r",
      " 94%|█████████████████████████████████████████████████████████████████████████▌    | 1009/1070 [00:45<00:02, 21.59it/s]"
     ]
    },
    {
     "name": "stdout",
     "output_type": "stream",
     "text": [
      "outdoorAtmo_200_bin_indoorAtmo-outdoorAtmo_min done\n",
      "outdoorAtmo_200_bin_indoorHum-outdoorHum_median done\n",
      "outdoorAtmo_200_bin_indoorHum-outdoorHum_mean done\n"
     ]
    },
    {
     "name": "stderr",
     "output_type": "stream",
     "text": [
      "\r",
      " 95%|█████████████████████████████████████████████████████████████████████████▊    | 1012/1070 [00:45<00:02, 22.02it/s]"
     ]
    },
    {
     "name": "stdout",
     "output_type": "stream",
     "text": [
      "outdoorAtmo_200_bin_indoorHum-outdoorHum_max done\n",
      "outdoorAtmo_200_bin_indoorHum-outdoorHum_min done\n",
      "indoorHum_200_bin_outdoorTemp_median done\n"
     ]
    },
    {
     "name": "stderr",
     "output_type": "stream",
     "text": [
      "\r",
      " 95%|█████████████████████████████████████████████████████████████████████████▉    | 1015/1070 [00:45<00:02, 22.18it/s]"
     ]
    },
    {
     "name": "stdout",
     "output_type": "stream",
     "text": [
      "indoorHum_200_bin_outdoorTemp_mean done\n",
      "indoorHum_200_bin_outdoorTemp_max done\n",
      "indoorHum_200_bin_outdoorTemp_min done\n"
     ]
    },
    {
     "name": "stderr",
     "output_type": "stream",
     "text": [
      "\r",
      " 95%|██████████████████████████████████████████████████████████████████████████▏   | 1018/1070 [00:45<00:02, 22.34it/s]"
     ]
    },
    {
     "name": "stdout",
     "output_type": "stream",
     "text": [
      "indoorHum_200_bin_outdoorHum_median done\n",
      "indoorHum_200_bin_outdoorHum_mean done\n",
      "indoorHum_200_bin_outdoorHum_max done\n"
     ]
    },
    {
     "name": "stderr",
     "output_type": "stream",
     "text": [
      "\r",
      " 95%|██████████████████████████████████████████████████████████████████████████▍   | 1021/1070 [00:45<00:02, 21.50it/s]"
     ]
    },
    {
     "name": "stdout",
     "output_type": "stream",
     "text": [
      "indoorHum_200_bin_outdoorHum_min done\n",
      "indoorHum_200_bin_outdoorAtmo_median done\n",
      "indoorHum_200_bin_outdoorAtmo_mean done\n"
     ]
    },
    {
     "name": "stderr",
     "output_type": "stream",
     "text": [
      "\r",
      " 96%|██████████████████████████████████████████████████████████████████████████▋   | 1024/1070 [00:45<00:02, 21.34it/s]"
     ]
    },
    {
     "name": "stdout",
     "output_type": "stream",
     "text": [
      "indoorHum_200_bin_outdoorAtmo_max done\n",
      "indoorHum_200_bin_outdoorAtmo_min done\n",
      "indoorHum_200_bin_indoorHum_median done\n"
     ]
    },
    {
     "name": "stderr",
     "output_type": "stream",
     "text": [
      "\r",
      " 96%|██████████████████████████████████████████████████████████████████████████▊   | 1027/1070 [00:46<00:02, 21.06it/s]"
     ]
    },
    {
     "name": "stdout",
     "output_type": "stream",
     "text": [
      "indoorHum_200_bin_indoorHum_mean done\n",
      "indoorHum_200_bin_indoorHum_max done\n",
      "indoorHum_200_bin_indoorHum_min done\n"
     ]
    },
    {
     "name": "stderr",
     "output_type": "stream",
     "text": [
      "\r",
      " 96%|███████████████████████████████████████████████████████████████████████████   | 1030/1070 [00:46<00:01, 21.04it/s]"
     ]
    },
    {
     "name": "stdout",
     "output_type": "stream",
     "text": [
      "indoorHum_200_bin_indoorAtmo_median done\n",
      "indoorHum_200_bin_indoorAtmo_mean done\n",
      "indoorHum_200_bin_indoorAtmo_max done\n"
     ]
    },
    {
     "name": "stderr",
     "output_type": "stream",
     "text": [
      "\r",
      " 97%|███████████████████████████████████████████████████████████████████████████▎  | 1033/1070 [00:46<00:01, 20.63it/s]"
     ]
    },
    {
     "name": "stdout",
     "output_type": "stream",
     "text": [
      "indoorHum_200_bin_indoorAtmo_min done\n",
      "indoorHum_200_bin_indoorAtmo-outdoorAtmo_median done\n",
      "indoorHum_200_bin_indoorAtmo-outdoorAtmo_mean done\n"
     ]
    },
    {
     "name": "stderr",
     "output_type": "stream",
     "text": [
      "\r",
      " 97%|███████████████████████████████████████████████████████████████████████████▌  | 1036/1070 [00:46<00:01, 20.53it/s]"
     ]
    },
    {
     "name": "stdout",
     "output_type": "stream",
     "text": [
      "indoorHum_200_bin_indoorAtmo-outdoorAtmo_max done\n",
      "indoorHum_200_bin_indoorAtmo-outdoorAtmo_min done\n",
      "indoorHum_200_bin_indoorHum-outdoorHum_median done\n"
     ]
    },
    {
     "name": "stderr",
     "output_type": "stream",
     "text": [
      "\r",
      " 97%|███████████████████████████████████████████████████████████████████████████▋  | 1039/1070 [00:46<00:01, 20.92it/s]"
     ]
    },
    {
     "name": "stdout",
     "output_type": "stream",
     "text": [
      "indoorHum_200_bin_indoorHum-outdoorHum_mean done\n",
      "indoorHum_200_bin_indoorHum-outdoorHum_max done\n",
      "indoorHum_200_bin_indoorHum-outdoorHum_min done\n"
     ]
    },
    {
     "name": "stderr",
     "output_type": "stream",
     "text": [
      "\r",
      " 97%|███████████████████████████████████████████████████████████████████████████▉  | 1042/1070 [00:46<00:01, 21.12it/s]"
     ]
    },
    {
     "name": "stdout",
     "output_type": "stream",
     "text": [
      "indoorAtmo_200_bin_outdoorTemp_median done\n",
      "indoorAtmo_200_bin_outdoorTemp_mean done\n",
      "indoorAtmo_200_bin_outdoorTemp_max done\n"
     ]
    },
    {
     "name": "stderr",
     "output_type": "stream",
     "text": [
      "\r",
      " 98%|████████████████████████████████████████████████████████████████████████████▏ | 1045/1070 [00:46<00:01, 21.44it/s]"
     ]
    },
    {
     "name": "stdout",
     "output_type": "stream",
     "text": [
      "indoorAtmo_200_bin_outdoorTemp_min done\n",
      "indoorAtmo_200_bin_outdoorHum_median done\n",
      "indoorAtmo_200_bin_outdoorHum_mean done\n"
     ]
    },
    {
     "name": "stderr",
     "output_type": "stream",
     "text": [
      "\r",
      " 98%|████████████████████████████████████████████████████████████████████████████▍ | 1048/1070 [00:47<00:00, 22.01it/s]"
     ]
    },
    {
     "name": "stdout",
     "output_type": "stream",
     "text": [
      "indoorAtmo_200_bin_outdoorHum_max done\n",
      "indoorAtmo_200_bin_outdoorHum_min done\n",
      "indoorAtmo_200_bin_outdoorAtmo_median done\n"
     ]
    },
    {
     "name": "stderr",
     "output_type": "stream",
     "text": [
      "\r",
      " 98%|████████████████████████████████████████████████████████████████████████████▌ | 1051/1070 [00:47<00:00, 22.27it/s]"
     ]
    },
    {
     "name": "stdout",
     "output_type": "stream",
     "text": [
      "indoorAtmo_200_bin_outdoorAtmo_mean done\n",
      "indoorAtmo_200_bin_outdoorAtmo_max done\n",
      "indoorAtmo_200_bin_outdoorAtmo_min done\n"
     ]
    },
    {
     "name": "stderr",
     "output_type": "stream",
     "text": [
      "\r",
      " 99%|████████████████████████████████████████████████████████████████████████████▊ | 1054/1070 [00:47<00:00, 21.59it/s]"
     ]
    },
    {
     "name": "stdout",
     "output_type": "stream",
     "text": [
      "indoorAtmo_200_bin_indoorHum_median done\n",
      "indoorAtmo_200_bin_indoorHum_mean done\n",
      "indoorAtmo_200_bin_indoorHum_max done\n"
     ]
    },
    {
     "name": "stderr",
     "output_type": "stream",
     "text": [
      "\r",
      " 99%|█████████████████████████████████████████████████████████████████████████████ | 1057/1070 [00:47<00:00, 22.16it/s]"
     ]
    },
    {
     "name": "stdout",
     "output_type": "stream",
     "text": [
      "indoorAtmo_200_bin_indoorHum_min done\n",
      "indoorAtmo_200_bin_indoorAtmo_median done\n",
      "indoorAtmo_200_bin_indoorAtmo_mean done\n"
     ]
    },
    {
     "name": "stderr",
     "output_type": "stream",
     "text": [
      "\r",
      " 99%|█████████████████████████████████████████████████████████████████████████████▎| 1060/1070 [00:47<00:00, 22.48it/s]"
     ]
    },
    {
     "name": "stdout",
     "output_type": "stream",
     "text": [
      "indoorAtmo_200_bin_indoorAtmo_max done\n",
      "indoorAtmo_200_bin_indoorAtmo_min done\n",
      "indoorAtmo_200_bin_indoorAtmo-outdoorAtmo_median done\n"
     ]
    },
    {
     "name": "stderr",
     "output_type": "stream",
     "text": [
      "\r",
      " 99%|█████████████████████████████████████████████████████████████████████████████▍| 1063/1070 [00:47<00:00, 21.82it/s]"
     ]
    },
    {
     "name": "stdout",
     "output_type": "stream",
     "text": [
      "indoorAtmo_200_bin_indoorAtmo-outdoorAtmo_mean done\n",
      "indoorAtmo_200_bin_indoorAtmo-outdoorAtmo_max done\n",
      "indoorAtmo_200_bin_indoorAtmo-outdoorAtmo_min done\n"
     ]
    },
    {
     "name": "stderr",
     "output_type": "stream",
     "text": [
      "\r",
      "100%|█████████████████████████████████████████████████████████████████████████████▋| 1066/1070 [00:47<00:00, 21.34it/s]"
     ]
    },
    {
     "name": "stdout",
     "output_type": "stream",
     "text": [
      "indoorAtmo_200_bin_indoorHum-outdoorHum_median done\n",
      "indoorAtmo_200_bin_indoorHum-outdoorHum_mean done\n",
      "indoorAtmo_200_bin_indoorHum-outdoorHum_max done\n"
     ]
    },
    {
     "name": "stderr",
     "output_type": "stream",
     "text": [
      "\r",
      "100%|█████████████████████████████████████████████████████████████████████████████▉| 1069/1070 [00:48<00:00, 21.88it/s]"
     ]
    },
    {
     "name": "stdout",
     "output_type": "stream",
     "text": [
      "indoorAtmo_200_bin_indoorHum-outdoorHum_min done\n"
     ]
    },
    {
     "name": "stderr",
     "output_type": "stream",
     "text": [
      "100%|██████████████████████████████████████████████████████████████████████████████| 1070/1070 [00:48<00:00, 22.27it/s]\n"
     ]
    }
   ],
   "source": [
    "psi_res, psi_dict = get_psi(x_train,x_test,features)\n",
    "features = list(psi_res[psi_res['PSI'] <= 0.2]['变量名'].values) + ['outdoorTemp']"
   ]
  },
  {
   "cell_type": "code",
   "execution_count": 21,
   "metadata": {
    "ExecuteTime": {
     "end_time": "2020-07-27T16:00:53.146514Z",
     "start_time": "2020-07-27T16:00:53.059565Z"
    }
   },
   "outputs": [],
   "source": [
    "x_train = train[features]\n",
    "x_test = test[features]"
   ]
  },
  {
   "cell_type": "code",
   "execution_count": null,
   "metadata": {
    "ExecuteTime": {
     "start_time": "2020-07-27T15:57:38.346Z"
    }
   },
   "outputs": [],
   "source": [
    "nums = int(x_train.shape[0] * 0.8)\n",
    "\n",
    "trn_x, trn_y, val_x, val_y = x_train[:nums], y_train[:nums], x_train[nums:], y_train[nums:]\n",
    "\n",
    "train_matrix = xgb.DMatrix(trn_x, label=trn_y, missing=np.nan)\n",
    "valid_matrix = xgb.DMatrix(val_x, label=val_y, missing=np.nan)\n",
    "test_matrix = xgb.DMatrix(x_test, label=val_y, missing=np.nan)\n",
    "params = {\n",
    "    'booster': 'gbtree',\n",
    "    'eval_metric': 'mae',\n",
    "    'min_child_weight': 5,\n",
    "    'max_depth': 8,\n",
    "    'subsample': 0.5,\n",
    "    'colsample_bytree': 0.5,\n",
    "    'eta': 0.001,\n",
    "    'seed': 2020,\n",
    "    'nthread': 36,\n",
    "    'silent': True,\n",
    "}\n",
    "\n",
    "watchlist = [(train_matrix, 'train'), (valid_matrix, 'eval')]\n",
    "\n",
    "model = xgb.train(params,\n",
    "                  train_matrix,\n",
    "                  num_boost_round=50000,\n",
    "                  evals=watchlist,\n",
    "                  verbose_eval=500,\n",
    "                  early_stopping_rounds=1000)\n",
    "val_pred = model.predict(valid_matrix, ntree_limit=model.best_ntree_limit).reshape(-1, 1)\n",
    "test_pred = model.predict(test_matrix, ntree_limit=model.best_ntree_limit).reshape(-1, 1)"
   ]
  },
  {
   "cell_type": "code",
   "execution_count": null,
   "metadata": {
    "ExecuteTime": {
     "start_time": "2020-07-27T15:57:38.349Z"
    }
   },
   "outputs": [],
   "source": [
    "sub[\"temperature\"] = test_pred[:, 0] + test['outdoorTemp'].values\n",
    "sub.to_csv('../sub/sub_baseline_psi.csv', index=False)"
   ]
  }
 ],
 "metadata": {
  "kernelspec": {
   "display_name": "Python 3",
   "language": "python",
   "name": "python3"
  },
  "language_info": {
   "codemirror_mode": {
    "name": "ipython",
    "version": 3
   },
   "file_extension": ".py",
   "mimetype": "text/x-python",
   "name": "python",
   "nbconvert_exporter": "python",
   "pygments_lexer": "ipython3",
   "version": "3.7.3"
  },
  "toc": {
   "base_numbering": 1,
   "nav_menu": {},
   "number_sections": true,
   "sideBar": true,
   "skip_h1_title": false,
   "title_cell": "Table of Contents",
   "title_sidebar": "Contents",
   "toc_cell": false,
   "toc_position": {},
   "toc_section_display": true,
   "toc_window_display": false
  },
  "varInspector": {
   "cols": {
    "lenName": 16,
    "lenType": 16,
    "lenVar": 40
   },
   "kernels_config": {
    "python": {
     "delete_cmd_postfix": "",
     "delete_cmd_prefix": "del ",
     "library": "var_list.py",
     "varRefreshCmd": "print(var_dic_list())"
    },
    "r": {
     "delete_cmd_postfix": ") ",
     "delete_cmd_prefix": "rm(",
     "library": "var_list.r",
     "varRefreshCmd": "cat(var_dic_list()) "
    }
   },
   "types_to_exclude": [
    "module",
    "function",
    "builtin_function_or_method",
    "instance",
    "_Feature"
   ],
   "window_display": false
  }
 },
 "nbformat": 4,
 "nbformat_minor": 4
}
