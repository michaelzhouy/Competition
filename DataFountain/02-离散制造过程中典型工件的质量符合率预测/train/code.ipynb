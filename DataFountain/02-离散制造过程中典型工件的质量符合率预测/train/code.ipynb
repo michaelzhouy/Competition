{
 "cells": [
  {
   "cell_type": "code",
   "execution_count": 1,
   "metadata": {
    "ExecuteTime": {
     "end_time": "2020-08-13T12:48:01.599097Z",
     "start_time": "2020-08-13T12:48:00.355871Z"
    }
   },
   "outputs": [],
   "source": [
    "import os, re, json, gc, itertools\n",
    "import time\n",
    "from datetime import datetime\n",
    "\n",
    "import pandas as pd\n",
    "import numpy as np\n",
    "\n",
    "from sklearn.model_selection import train_test_split, KFold, StratifiedKFold\n",
    "\n",
    "import joblib\n",
    "import xgboost as xgb\n",
    "import lightgbm as lgb\n",
    "\n",
    "from sklearn.preprocessing import LabelEncoder\n",
    "from sklearn.metrics import log_loss, accuracy_score\n",
    "\n",
    "import warnings\n",
    "warnings.filterwarnings('ignore')\n",
    "pd.set_option('max_columns', None)\n",
    "pd.set_option('max_rows', None)"
   ]
  },
  {
   "cell_type": "markdown",
   "metadata": {},
   "source": [
    "# preprocessing"
   ]
  },
  {
   "cell_type": "code",
   "execution_count": 2,
   "metadata": {
    "ExecuteTime": {
     "end_time": "2020-08-13T12:48:01.679360Z",
     "start_time": "2020-08-13T12:48:01.600022Z"
    }
   },
   "outputs": [],
   "source": [
    "# load data\n",
    "train = pd.read_csv('../input/second_round_training_data.csv')\n",
    "test = pd.read_csv('../input/second_round_testing_data.csv')"
   ]
  },
  {
   "cell_type": "code",
   "execution_count": 3,
   "metadata": {
    "ExecuteTime": {
     "end_time": "2020-08-13T12:48:01.703301Z",
     "start_time": "2020-08-13T12:48:01.680363Z"
    }
   },
   "outputs": [
    {
     "data": {
      "text/html": [
       "<div>\n",
       "<style scoped>\n",
       "    .dataframe tbody tr th:only-of-type {\n",
       "        vertical-align: middle;\n",
       "    }\n",
       "\n",
       "    .dataframe tbody tr th {\n",
       "        vertical-align: top;\n",
       "    }\n",
       "\n",
       "    .dataframe thead th {\n",
       "        text-align: right;\n",
       "    }\n",
       "</style>\n",
       "<table border=\"1\" class=\"dataframe\">\n",
       "  <thead>\n",
       "    <tr style=\"text-align: right;\">\n",
       "      <th></th>\n",
       "      <th>Parameter1</th>\n",
       "      <th>Parameter2</th>\n",
       "      <th>Parameter3</th>\n",
       "      <th>Parameter4</th>\n",
       "      <th>Parameter5</th>\n",
       "      <th>Parameter6</th>\n",
       "      <th>Parameter7</th>\n",
       "      <th>Parameter8</th>\n",
       "      <th>Parameter9</th>\n",
       "      <th>Parameter10</th>\n",
       "      <th>Attribute1</th>\n",
       "      <th>Attribute2</th>\n",
       "      <th>Attribute3</th>\n",
       "      <th>Attribute4</th>\n",
       "      <th>Attribute5</th>\n",
       "      <th>Attribute6</th>\n",
       "      <th>Attribute7</th>\n",
       "      <th>Attribute8</th>\n",
       "      <th>Attribute9</th>\n",
       "      <th>Attribute10</th>\n",
       "      <th>Quality_label</th>\n",
       "    </tr>\n",
       "  </thead>\n",
       "  <tbody>\n",
       "    <tr>\n",
       "      <th>0</th>\n",
       "      <td>0.167898</td>\n",
       "      <td>104.443982</td>\n",
       "      <td>2.772825</td>\n",
       "      <td>0.146548</td>\n",
       "      <td>0.000421</td>\n",
       "      <td>0.000612</td>\n",
       "      <td>2286.523413</td>\n",
       "      <td>0.035407</td>\n",
       "      <td>0.593081</td>\n",
       "      <td>1.010385</td>\n",
       "      <td>0.323881</td>\n",
       "      <td>2.597820</td>\n",
       "      <td>41.506485</td>\n",
       "      <td>36.955992</td>\n",
       "      <td>8.454598</td>\n",
       "      <td>11.438066</td>\n",
       "      <td>177.243120</td>\n",
       "      <td>338.729256</td>\n",
       "      <td>2.021704</td>\n",
       "      <td>0.079526</td>\n",
       "      <td>Pass</td>\n",
       "    </tr>\n",
       "    <tr>\n",
       "      <th>1</th>\n",
       "      <td>252.483066</td>\n",
       "      <td>0.343232</td>\n",
       "      <td>0.066873</td>\n",
       "      <td>0.002495</td>\n",
       "      <td>0.000909</td>\n",
       "      <td>0.002397</td>\n",
       "      <td>2286.523413</td>\n",
       "      <td>0.035407</td>\n",
       "      <td>0.593081</td>\n",
       "      <td>1.010385</td>\n",
       "      <td>0.004594</td>\n",
       "      <td>0.004243</td>\n",
       "      <td>0.135967</td>\n",
       "      <td>225.632949</td>\n",
       "      <td>0.481860</td>\n",
       "      <td>20597.447822</td>\n",
       "      <td>3.723330</td>\n",
       "      <td>15.376190</td>\n",
       "      <td>0.986973</td>\n",
       "      <td>4.634376</td>\n",
       "      <td>Fail</td>\n",
       "    </tr>\n",
       "    <tr>\n",
       "      <th>2</th>\n",
       "      <td>4.124654</td>\n",
       "      <td>0.170534</td>\n",
       "      <td>0.383800</td>\n",
       "      <td>0.000004</td>\n",
       "      <td>0.000909</td>\n",
       "      <td>0.001972</td>\n",
       "      <td>2286.523413</td>\n",
       "      <td>0.035407</td>\n",
       "      <td>0.593081</td>\n",
       "      <td>1.010385</td>\n",
       "      <td>0.031295</td>\n",
       "      <td>0.951186</td>\n",
       "      <td>0.000423</td>\n",
       "      <td>2.208138</td>\n",
       "      <td>0.073525</td>\n",
       "      <td>236.079314</td>\n",
       "      <td>0.064196</td>\n",
       "      <td>0.576302</td>\n",
       "      <td>33.875790</td>\n",
       "      <td>1.813727</td>\n",
       "      <td>Fail</td>\n",
       "    </tr>\n",
       "    <tr>\n",
       "      <th>3</th>\n",
       "      <td>294.656750</td>\n",
       "      <td>6.153711</td>\n",
       "      <td>0.014716</td>\n",
       "      <td>4284.326273</td>\n",
       "      <td>0.000909</td>\n",
       "      <td>0.002397</td>\n",
       "      <td>2286.523413</td>\n",
       "      <td>0.035407</td>\n",
       "      <td>0.593081</td>\n",
       "      <td>1.010385</td>\n",
       "      <td>1.480634</td>\n",
       "      <td>0.000122</td>\n",
       "      <td>0.000084</td>\n",
       "      <td>0.654517</td>\n",
       "      <td>0.025872</td>\n",
       "      <td>176.948915</td>\n",
       "      <td>0.029777</td>\n",
       "      <td>0.246726</td>\n",
       "      <td>27.117165</td>\n",
       "      <td>0.081819</td>\n",
       "      <td>Fail</td>\n",
       "    </tr>\n",
       "    <tr>\n",
       "      <th>4</th>\n",
       "      <td>0.026284</td>\n",
       "      <td>0.166810</td>\n",
       "      <td>7.587398</td>\n",
       "      <td>0.002202</td>\n",
       "      <td>0.000909</td>\n",
       "      <td>0.002397</td>\n",
       "      <td>2286.523413</td>\n",
       "      <td>0.035407</td>\n",
       "      <td>0.593081</td>\n",
       "      <td>1.010385</td>\n",
       "      <td>867.342323</td>\n",
       "      <td>0.827308</td>\n",
       "      <td>0.040846</td>\n",
       "      <td>0.260989</td>\n",
       "      <td>0.009380</td>\n",
       "      <td>194.798039</td>\n",
       "      <td>0.055053</td>\n",
       "      <td>0.014725</td>\n",
       "      <td>13.569707</td>\n",
       "      <td>18.138496</td>\n",
       "      <td>Fail</td>\n",
       "    </tr>\n",
       "  </tbody>\n",
       "</table>\n",
       "</div>"
      ],
      "text/plain": [
       "   Parameter1  Parameter2  Parameter3   Parameter4  Parameter5  Parameter6  \\\n",
       "0    0.167898  104.443982    2.772825     0.146548    0.000421    0.000612   \n",
       "1  252.483066    0.343232    0.066873     0.002495    0.000909    0.002397   \n",
       "2    4.124654    0.170534    0.383800     0.000004    0.000909    0.001972   \n",
       "3  294.656750    6.153711    0.014716  4284.326273    0.000909    0.002397   \n",
       "4    0.026284    0.166810    7.587398     0.002202    0.000909    0.002397   \n",
       "\n",
       "    Parameter7  Parameter8  Parameter9  Parameter10  Attribute1  Attribute2  \\\n",
       "0  2286.523413    0.035407    0.593081     1.010385    0.323881    2.597820   \n",
       "1  2286.523413    0.035407    0.593081     1.010385    0.004594    0.004243   \n",
       "2  2286.523413    0.035407    0.593081     1.010385    0.031295    0.951186   \n",
       "3  2286.523413    0.035407    0.593081     1.010385    1.480634    0.000122   \n",
       "4  2286.523413    0.035407    0.593081     1.010385  867.342323    0.827308   \n",
       "\n",
       "   Attribute3  Attribute4  Attribute5    Attribute6  Attribute7  Attribute8  \\\n",
       "0   41.506485   36.955992    8.454598     11.438066  177.243120  338.729256   \n",
       "1    0.135967  225.632949    0.481860  20597.447822    3.723330   15.376190   \n",
       "2    0.000423    2.208138    0.073525    236.079314    0.064196    0.576302   \n",
       "3    0.000084    0.654517    0.025872    176.948915    0.029777    0.246726   \n",
       "4    0.040846    0.260989    0.009380    194.798039    0.055053    0.014725   \n",
       "\n",
       "   Attribute9  Attribute10 Quality_label  \n",
       "0    2.021704     0.079526          Pass  \n",
       "1    0.986973     4.634376          Fail  \n",
       "2   33.875790     1.813727          Fail  \n",
       "3   27.117165     0.081819          Fail  \n",
       "4   13.569707    18.138496          Fail  "
      ]
     },
     "execution_count": 3,
     "metadata": {},
     "output_type": "execute_result"
    }
   ],
   "source": [
    "train.head(5)"
   ]
  },
  {
   "cell_type": "code",
   "execution_count": 4,
   "metadata": {
    "ExecuteTime": {
     "end_time": "2020-08-13T12:48:01.709287Z",
     "start_time": "2020-08-13T12:48:01.704261Z"
    }
   },
   "outputs": [
    {
     "data": {
      "text/plain": [
       "0"
      ]
     },
     "execution_count": 4,
     "metadata": {},
     "output_type": "execute_result"
    }
   ],
   "source": [
    "train['Parameter9'].isnull().sum()"
   ]
  },
  {
   "cell_type": "code",
   "execution_count": 5,
   "metadata": {
    "ExecuteTime": {
     "end_time": "2020-08-13T12:48:01.723210Z",
     "start_time": "2020-08-13T12:48:01.710282Z"
    }
   },
   "outputs": [
    {
     "data": {
      "text/html": [
       "<div>\n",
       "<style scoped>\n",
       "    .dataframe tbody tr th:only-of-type {\n",
       "        vertical-align: middle;\n",
       "    }\n",
       "\n",
       "    .dataframe tbody tr th {\n",
       "        vertical-align: top;\n",
       "    }\n",
       "\n",
       "    .dataframe thead th {\n",
       "        text-align: right;\n",
       "    }\n",
       "</style>\n",
       "<table border=\"1\" class=\"dataframe\">\n",
       "  <thead>\n",
       "    <tr style=\"text-align: right;\">\n",
       "      <th></th>\n",
       "      <th>Group</th>\n",
       "      <th>Parameter1</th>\n",
       "      <th>Parameter10</th>\n",
       "      <th>Parameter2</th>\n",
       "      <th>Parameter3</th>\n",
       "      <th>Parameter4</th>\n",
       "      <th>Parameter5</th>\n",
       "      <th>Parameter6</th>\n",
       "      <th>Parameter7</th>\n",
       "      <th>Parameter8</th>\n",
       "      <th>Parameter9</th>\n",
       "    </tr>\n",
       "  </thead>\n",
       "  <tbody>\n",
       "    <tr>\n",
       "      <th>0</th>\n",
       "      <td>0</td>\n",
       "      <td>2.167762</td>\n",
       "      <td>10.060093</td>\n",
       "      <td>0.035811</td>\n",
       "      <td>0.459938</td>\n",
       "      <td>7.460600</td>\n",
       "      <td>17.962176</td>\n",
       "      <td>18.872982</td>\n",
       "      <td>0.152059</td>\n",
       "      <td>0.035407</td>\n",
       "      <td>0.593081</td>\n",
       "    </tr>\n",
       "    <tr>\n",
       "      <th>1</th>\n",
       "      <td>0</td>\n",
       "      <td>0.006197</td>\n",
       "      <td>0.052625</td>\n",
       "      <td>0.047829</td>\n",
       "      <td>0.322457</td>\n",
       "      <td>0.207077</td>\n",
       "      <td>0.664442</td>\n",
       "      <td>0.314162</td>\n",
       "      <td>0.038483</td>\n",
       "      <td>17.850021</td>\n",
       "      <td>0.593081</td>\n",
       "    </tr>\n",
       "    <tr>\n",
       "      <th>2</th>\n",
       "      <td>0</td>\n",
       "      <td>1.179951</td>\n",
       "      <td>0.052625</td>\n",
       "      <td>0.075537</td>\n",
       "      <td>26.113194</td>\n",
       "      <td>0.304415</td>\n",
       "      <td>0.664442</td>\n",
       "      <td>0.258497</td>\n",
       "      <td>0.038483</td>\n",
       "      <td>17.850021</td>\n",
       "      <td>0.593081</td>\n",
       "    </tr>\n",
       "    <tr>\n",
       "      <th>3</th>\n",
       "      <td>0</td>\n",
       "      <td>0.007218</td>\n",
       "      <td>1.010385</td>\n",
       "      <td>5.081092</td>\n",
       "      <td>1.132919</td>\n",
       "      <td>931.721241</td>\n",
       "      <td>2.225808</td>\n",
       "      <td>2.208755</td>\n",
       "      <td>0.038483</td>\n",
       "      <td>2.931083</td>\n",
       "      <td>NaN</td>\n",
       "    </tr>\n",
       "    <tr>\n",
       "      <th>4</th>\n",
       "      <td>0</td>\n",
       "      <td>3.355337</td>\n",
       "      <td>0.377332</td>\n",
       "      <td>0.076572</td>\n",
       "      <td>23.199547</td>\n",
       "      <td>1.172201</td>\n",
       "      <td>3.095123</td>\n",
       "      <td>2.684398</td>\n",
       "      <td>0.038483</td>\n",
       "      <td>2.931083</td>\n",
       "      <td>NaN</td>\n",
       "    </tr>\n",
       "  </tbody>\n",
       "</table>\n",
       "</div>"
      ],
      "text/plain": [
       "   Group  Parameter1  Parameter10  Parameter2  Parameter3  Parameter4  \\\n",
       "0      0    2.167762    10.060093    0.035811    0.459938    7.460600   \n",
       "1      0    0.006197     0.052625    0.047829    0.322457    0.207077   \n",
       "2      0    1.179951     0.052625    0.075537   26.113194    0.304415   \n",
       "3      0    0.007218     1.010385    5.081092    1.132919  931.721241   \n",
       "4      0    3.355337     0.377332    0.076572   23.199547    1.172201   \n",
       "\n",
       "   Parameter5  Parameter6  Parameter7  Parameter8  Parameter9  \n",
       "0   17.962176   18.872982    0.152059    0.035407    0.593081  \n",
       "1    0.664442    0.314162    0.038483   17.850021    0.593081  \n",
       "2    0.664442    0.258497    0.038483   17.850021    0.593081  \n",
       "3    2.225808    2.208755    0.038483    2.931083         NaN  \n",
       "4    3.095123    2.684398    0.038483    2.931083         NaN  "
      ]
     },
     "execution_count": 5,
     "metadata": {},
     "output_type": "execute_result"
    }
   ],
   "source": [
    "test.head(5)"
   ]
  },
  {
   "cell_type": "code",
   "execution_count": 6,
   "metadata": {
    "ExecuteTime": {
     "end_time": "2020-08-13T12:48:01.732187Z",
     "start_time": "2020-08-13T12:48:01.725206Z"
    }
   },
   "outputs": [
    {
     "data": {
      "text/plain": [
       "3000"
      ]
     },
     "execution_count": 6,
     "metadata": {},
     "output_type": "execute_result"
    }
   ],
   "source": [
    "test['Parameter9'].isnull().sum()"
   ]
  },
  {
   "cell_type": "code",
   "execution_count": 7,
   "metadata": {
    "ExecuteTime": {
     "end_time": "2020-08-13T12:48:01.738170Z",
     "start_time": "2020-08-13T12:48:01.734182Z"
    }
   },
   "outputs": [],
   "source": [
    "# train 分离 target\n",
    "target = train.pop('Quality_label')"
   ]
  },
  {
   "cell_type": "code",
   "execution_count": 8,
   "metadata": {
    "ExecuteTime": {
     "end_time": "2020-08-13T12:48:01.744182Z",
     "start_time": "2020-08-13T12:48:01.739167Z"
    }
   },
   "outputs": [
    {
     "data": {
      "text/plain": [
       "array(['Pass', 'Fail', 'Good', 'Excellent'], dtype=object)"
      ]
     },
     "execution_count": 8,
     "metadata": {},
     "output_type": "execute_result"
    }
   ],
   "source": [
    "target.unique()"
   ]
  },
  {
   "cell_type": "code",
   "execution_count": 9,
   "metadata": {
    "ExecuteTime": {
     "end_time": "2020-08-13T12:48:01.752132Z",
     "start_time": "2020-08-13T12:48:01.745151Z"
    }
   },
   "outputs": [],
   "source": [
    "# target 编码\n",
    "target = (target.astype(\"category\")\n",
    "          .cat.set_categories([\"Fail\", \"Pass\", \"Good\", \"Excellent\"])\n",
    "          .cat.codes)\n",
    "target = target.rename('target')"
   ]
  },
  {
   "cell_type": "code",
   "execution_count": 10,
   "metadata": {
    "ExecuteTime": {
     "end_time": "2020-08-13T12:48:01.759113Z",
     "start_time": "2020-08-13T12:48:01.753130Z"
    }
   },
   "outputs": [
    {
     "data": {
      "text/plain": [
       "0    1\n",
       "1    0\n",
       "2    0\n",
       "3    0\n",
       "4    0\n",
       "Name: target, dtype: int8"
      ]
     },
     "execution_count": 10,
     "metadata": {},
     "output_type": "execute_result"
    }
   ],
   "source": [
    "target.head(5)"
   ]
  },
  {
   "cell_type": "code",
   "execution_count": 11,
   "metadata": {
    "ExecuteTime": {
     "end_time": "2020-08-13T12:48:01.768092Z",
     "start_time": "2020-08-13T12:48:01.760110Z"
    }
   },
   "outputs": [],
   "source": [
    "# train 分离 parameter 和 attribute\n",
    "col_attr = [f'Attribute{x}' for x in range(1,11)]\n",
    "attr = train[col_attr]\n",
    "train = train.drop(columns=col_attr)"
   ]
  },
  {
   "cell_type": "code",
   "execution_count": 12,
   "metadata": {
    "ExecuteTime": {
     "end_time": "2020-08-13T12:48:01.775072Z",
     "start_time": "2020-08-13T12:48:01.769088Z"
    }
   },
   "outputs": [],
   "source": [
    "# test 分离 group\n",
    "group = test.pop('Group')\n",
    "group = group.rename('group')"
   ]
  },
  {
   "cell_type": "code",
   "execution_count": 13,
   "metadata": {
    "ExecuteTime": {
     "end_time": "2020-08-13T12:48:01.782084Z",
     "start_time": "2020-08-13T12:48:01.776119Z"
    }
   },
   "outputs": [],
   "source": [
    "# test 调整参数顺序，与 train 保持一致\n",
    "col_test = [f\"Parameter{x}\" for x in range(1, 11)]\n",
    "test = test[col_test]"
   ]
  },
  {
   "cell_type": "code",
   "execution_count": 14,
   "metadata": {
    "ExecuteTime": {
     "end_time": "2020-08-13T12:48:01.790070Z",
     "start_time": "2020-08-13T12:48:01.783050Z"
    }
   },
   "outputs": [],
   "source": [
    "# 简化列名\n",
    "colnames = [f'p{i}' for i in range(1,11)]\n",
    "train.columns = colnames\n",
    "test.columns = colnames\n",
    "colnames = [f'a{i}' for i in range(1,11)]\n",
    "attr.columns = colnames"
   ]
  },
  {
   "cell_type": "markdown",
   "metadata": {},
   "source": [
    "# FE"
   ]
  },
  {
   "cell_type": "code",
   "execution_count": 15,
   "metadata": {
    "ExecuteTime": {
     "end_time": "2020-08-13T12:48:01.809978Z",
     "start_time": "2020-08-13T12:48:01.791059Z"
    }
   },
   "outputs": [],
   "source": [
    "# rounding\n",
    "round_fmt = {1: 11, 2: 11, 3: 11, 4: 11, 5: 8,\n",
    "             6: 8, 7: 8, 8: 8, 9: 8, 10: 8}\n",
    "for i, r in round_fmt.items():\n",
    "    train[f'p{i}'] = train[f'p{i}'].round(r)\n",
    "    test[f'p{i}'] = test[f'p{i}'].round(r)"
   ]
  },
  {
   "cell_type": "code",
   "execution_count": 16,
   "metadata": {
    "ExecuteTime": {
     "end_time": "2020-08-13T12:48:01.820988Z",
     "start_time": "2020-08-13T12:48:01.810975Z"
    }
   },
   "outputs": [],
   "source": [
    "# transform log2\n",
    "# 对数转换和归一化后存在负数，影响加减乘除的结果\n",
    "# 需要测试对数转换前的效果\n",
    "train = train.apply(np.log2)\n",
    "attr = attr.apply(np.log2)\n",
    "test = test.apply(np.log2)"
   ]
  },
  {
   "cell_type": "code",
   "execution_count": 17,
   "metadata": {
    "ExecuteTime": {
     "end_time": "2020-08-13T12:48:01.827929Z",
     "start_time": "2020-08-13T12:48:01.821945Z"
    }
   },
   "outputs": [],
   "source": [
    "# 保留 P5-P10\n",
    "train = train.drop(columns=[f'p{i}' for i in range(1, 5)])\n",
    "test = test.drop(columns=[f'p{i}' for i in range(1, 5)])"
   ]
  },
  {
   "cell_type": "code",
   "execution_count": 18,
   "metadata": {
    "ExecuteTime": {
     "end_time": "2020-08-13T12:48:01.835908Z",
     "start_time": "2020-08-13T12:48:01.830922Z"
    }
   },
   "outputs": [
    {
     "name": "stdout",
     "output_type": "stream",
     "text": [
      "(12934, 6) (6000, 6)\n"
     ]
    }
   ],
   "source": [
    "print(train.shape, test.shape)"
   ]
  },
  {
   "cell_type": "code",
   "execution_count": 19,
   "metadata": {
    "ExecuteTime": {
     "end_time": "2020-08-13T12:48:01.917753Z",
     "start_time": "2020-08-13T12:48:01.837903Z"
    }
   },
   "outputs": [],
   "source": [
    "# 对 p9 进行label encoder，保留test中的缺失情况\n",
    "test['p9_isnull'] = test['p9'].isna()\n",
    "test_na=test[test['p9_isnull'] == False]\n",
    "lbl=LabelEncoder()\n",
    "lbl.fit(list(test_na['p9']) + list(train['p9']))\n",
    "test_na['p9']=lbl.transform(test_na['p9'])\n",
    "train['p9']=lbl.transform(train['p9'])\n",
    "test.loc[test['p9_isnull'] == False, 'p9']=test_na\n",
    "del test_na"
   ]
  },
  {
   "cell_type": "markdown",
   "metadata": {},
   "source": [
    "# predict A4-A6 and P9"
   ]
  },
  {
   "cell_type": "markdown",
   "metadata": {},
   "source": [
    "## P9"
   ]
  },
  {
   "cell_type": "code",
   "execution_count": 20,
   "metadata": {
    "ExecuteTime": {
     "end_time": "2020-08-13T12:48:02.000493Z",
     "start_time": "2020-08-13T12:48:01.919718Z"
    }
   },
   "outputs": [],
   "source": [
    "test['p9_isnull'] = test['p9'].isna()\n",
    "test_not_na = test[test['p9_isnull']==False]\n",
    "lbl = LabelEncoder()\n",
    "lbl.fit(list(test_not_na['p9']) + list(train['p9']))\n",
    "test_not_na['p9'] = lbl.transform(test_not_na['p9'])\n",
    "train['p9'] = lbl.transform(train['p9'])\n",
    "test.loc[test['p9_isnull'] == False, 'p9'] = test_not_na\n",
    "del test_not_na"
   ]
  },
  {
   "cell_type": "code",
   "execution_count": 21,
   "metadata": {
    "ExecuteTime": {
     "end_time": "2020-08-13T12:48:02.005455Z",
     "start_time": "2020-08-13T12:48:02.001505Z"
    }
   },
   "outputs": [],
   "source": [
    "parameter='p9'"
   ]
  },
  {
   "cell_type": "code",
   "execution_count": 22,
   "metadata": {
    "ExecuteTime": {
     "end_time": "2020-08-13T12:48:02.012469Z",
     "start_time": "2020-08-13T12:48:02.006453Z"
    }
   },
   "outputs": [],
   "source": [
    "p9=train['p9']\n",
    "train=train.drop(columns='p9')\n",
    "df=train.join(p9)"
   ]
  },
  {
   "cell_type": "code",
   "execution_count": 23,
   "metadata": {
    "ExecuteTime": {
     "end_time": "2020-08-13T12:48:02.022439Z",
     "start_time": "2020-08-13T12:48:02.013462Z"
    }
   },
   "outputs": [],
   "source": [
    "test_not_na = test[test['p9_isnull'] == True]"
   ]
  },
  {
   "cell_type": "code",
   "execution_count": 24,
   "metadata": {
    "ExecuteTime": {
     "end_time": "2020-08-13T12:48:02.027431Z",
     "start_time": "2020-08-13T12:48:02.023408Z"
    }
   },
   "outputs": [],
   "source": [
    "test_not_na=test_not_na.drop(columns=['p9', 'p9_isnull'])"
   ]
  },
  {
   "cell_type": "markdown",
   "metadata": {
    "ExecuteTime": {
     "end_time": "2019-11-28T13:49:37.244787Z",
     "start_time": "2019-11-28T13:49:36.994732Z"
    }
   },
   "source": [
    "### LGB"
   ]
  },
  {
   "cell_type": "code",
   "execution_count": 25,
   "metadata": {
    "ExecuteTime": {
     "end_time": "2020-08-13T12:48:02.033413Z",
     "start_time": "2020-08-13T12:48:02.028394Z"
    }
   },
   "outputs": [],
   "source": [
    "best_hp={'boosting_type': 'gbdt',\n",
    " 'num_leaves': 111,\n",
    " 'max_depth': -1,\n",
    " 'learning_rate': 0.1,\n",
    " 'n_estimators': 639,\n",
    " 'subsample_for_bin': 200000,\n",
    " 'objective': 'multiclass',\n",
    " 'min_split_gain': 0,\n",
    " 'min_child_weight': 0.001,\n",
    " 'min_child_samples': 5,\n",
    " 'subsample': 1.0,\n",
    " 'subsample_freq': 0,\n",
    " 'colsample_bytree': 1,\n",
    " 'reg_alpha': 0.20174465129035402,\n",
    " 'reg_lambda': 0.18200878389736302,\n",
    " 'n_jobs': -1,\n",
    " 'silent': True,\n",
    " 'importance_type': 'split',\n",
    " 'num_class': 17}"
   ]
  },
  {
   "cell_type": "code",
   "execution_count": 26,
   "metadata": {
    "ExecuteTime": {
     "end_time": "2020-08-13T12:48:07.507401Z",
     "start_time": "2020-08-13T12:48:02.034377Z"
    }
   },
   "outputs": [
    {
     "data": {
      "text/plain": [
       "LGBMClassifier(colsample_bytree=1, min_child_samples=5, min_split_gain=0,\n",
       "               n_estimators=639, num_class=17, num_leaves=111,\n",
       "               objective='multiclass', reg_alpha=0.20174465129035402,\n",
       "               reg_lambda=0.18200878389736302)"
      ]
     },
     "execution_count": 26,
     "metadata": {},
     "output_type": "execute_result"
    }
   ],
   "source": [
    "m = lgb.LGBMClassifier().set_params(**best_hp)\n",
    "m.fit(train,p9)"
   ]
  },
  {
   "cell_type": "code",
   "execution_count": 27,
   "metadata": {
    "ExecuteTime": {
     "end_time": "2020-08-13T12:48:07.863566Z",
     "start_time": "2020-08-13T12:48:07.508399Z"
    }
   },
   "outputs": [],
   "source": [
    "res=m.predict(test_not_na)"
   ]
  },
  {
   "cell_type": "code",
   "execution_count": 28,
   "metadata": {
    "ExecuteTime": {
     "end_time": "2020-08-13T12:48:07.985239Z",
     "start_time": "2020-08-13T12:48:07.865560Z"
    }
   },
   "outputs": [],
   "source": [
    "test.loc[test['p9_isnull']==True,'p9']=res"
   ]
  },
  {
   "cell_type": "code",
   "execution_count": 29,
   "metadata": {
    "ExecuteTime": {
     "end_time": "2020-08-13T12:48:07.992221Z",
     "start_time": "2020-08-13T12:48:07.986237Z"
    }
   },
   "outputs": [],
   "source": [
    "test['p9']=test['p9'].astype(int)\n",
    "test=test.drop(columns='p9_isnull')"
   ]
  },
  {
   "cell_type": "code",
   "execution_count": 30,
   "metadata": {
    "ExecuteTime": {
     "end_time": "2020-08-13T12:48:08.001197Z",
     "start_time": "2020-08-13T12:48:07.993218Z"
    }
   },
   "outputs": [],
   "source": [
    "p10=train['p10']\n",
    "train=train.drop(columns='p10')\n",
    "train=train.join(p9)\n",
    "train=train.join(p10)"
   ]
  },
  {
   "cell_type": "code",
   "execution_count": 31,
   "metadata": {
    "ExecuteTime": {
     "end_time": "2020-08-13T12:48:08.008178Z",
     "start_time": "2020-08-13T12:48:08.003192Z"
    }
   },
   "outputs": [
    {
     "data": {
      "text/plain": [
       "0"
      ]
     },
     "execution_count": 31,
     "metadata": {},
     "output_type": "execute_result"
    }
   ],
   "source": [
    "train['p9'].min()"
   ]
  },
  {
   "cell_type": "markdown",
   "metadata": {},
   "source": [
    "## A4"
   ]
  },
  {
   "cell_type": "code",
   "execution_count": 32,
   "metadata": {
    "ExecuteTime": {
     "end_time": "2020-08-13T12:48:08.015200Z",
     "start_time": "2020-08-13T12:48:08.009176Z"
    }
   },
   "outputs": [],
   "source": [
    "attribute='a4'\n",
    "df = train.join(attr[attribute])"
   ]
  },
  {
   "cell_type": "code",
   "execution_count": 33,
   "metadata": {
    "ExecuteTime": {
     "end_time": "2020-08-13T12:48:08.026131Z",
     "start_time": "2020-08-13T12:48:08.016157Z"
    }
   },
   "outputs": [],
   "source": [
    "best_hp={'max_depth': 5,\n",
    " 'learning_rate': 0.1,\n",
    " 'n_estimators': 571,\n",
    " 'verbosity': 1,\n",
    " 'objective': 'reg:squarederror',\n",
    " 'booster': 'dart',\n",
    " 'n_jobs': -1,\n",
    " 'gamma': 0,\n",
    " 'min_child_weight': 1,\n",
    " 'max_delta_step': 0,\n",
    " 'subsample': 1,\n",
    " 'colsample_bytree': 1,\n",
    " 'colsample_bylevel': 1,\n",
    " 'colsample_bynode': 1,\n",
    " 'reg_alpha': 6.345561548486771,\n",
    " 'reg_lambda': 2.808394786832976,\n",
    " 'scale_pos_weight': 1,\n",
    " 'base_score': 0.5,\n",
    " 'importance_type': 'gain',\n",
    " 'num_round': 223}\n"
   ]
  },
  {
   "cell_type": "code",
   "execution_count": 34,
   "metadata": {
    "ExecuteTime": {
     "end_time": "2020-08-13T12:48:31.518001Z",
     "start_time": "2020-08-13T12:48:08.027128Z"
    }
   },
   "outputs": [
    {
     "data": {
      "text/plain": [
       "XGBRegressor(base_score=0.5, booster='dart', colsample_bylevel=1,\n",
       "             colsample_bynode=1, colsample_bytree=1, gamma=0, gpu_id=-1,\n",
       "             importance_type='gain', interaction_constraints=None,\n",
       "             learning_rate=0.1, max_delta_step=0, max_depth=5,\n",
       "             min_child_weight=1, missing=nan, monotone_constraints=None,\n",
       "             n_estimators=571, n_jobs=-1, num_parallel_tree=1, num_round=223,\n",
       "             random_state=0, reg_alpha=6.345561548486771,\n",
       "             reg_lambda=2.808394786832976, scale_pos_weight=1, subsample=1,\n",
       "             tree_method=None, validate_parameters=False, verbosity=1)"
      ]
     },
     "execution_count": 34,
     "metadata": {},
     "output_type": "execute_result"
    }
   ],
   "source": [
    "x_trn,x_val,y_trn,y_val = train_test_split(train, attr.a4, test_size=1000)\n",
    "m = xgb.XGBRegressor().set_params(**best_hp)\n",
    "m.fit(x_trn,y_trn)"
   ]
  },
  {
   "cell_type": "code",
   "execution_count": 35,
   "metadata": {
    "ExecuteTime": {
     "end_time": "2020-08-13T12:48:31.540966Z",
     "start_time": "2020-08-13T12:48:31.520992Z"
    }
   },
   "outputs": [
    {
     "data": {
      "text/plain": [
       "['../model/tp3_a4.m']"
      ]
     },
     "execution_count": 35,
     "metadata": {},
     "output_type": "execute_result"
    }
   ],
   "source": [
    "# 保存模型\n",
    "joblib.dump(m,f'../model/tp3_{attribute}.m')"
   ]
  },
  {
   "cell_type": "markdown",
   "metadata": {},
   "source": [
    "## A5"
   ]
  },
  {
   "cell_type": "code",
   "execution_count": 36,
   "metadata": {
    "ExecuteTime": {
     "end_time": "2020-08-13T12:48:31.548944Z",
     "start_time": "2020-08-13T12:48:31.543958Z"
    }
   },
   "outputs": [],
   "source": [
    "attribute='a5'"
   ]
  },
  {
   "cell_type": "code",
   "execution_count": 37,
   "metadata": {
    "ExecuteTime": {
     "end_time": "2020-08-13T12:48:31.561909Z",
     "start_time": "2020-08-13T12:48:31.551936Z"
    }
   },
   "outputs": [],
   "source": [
    "df = train.join(attr[attribute])"
   ]
  },
  {
   "cell_type": "code",
   "execution_count": 38,
   "metadata": {
    "ExecuteTime": {
     "end_time": "2020-08-13T12:48:31.574875Z",
     "start_time": "2020-08-13T12:48:31.563904Z"
    }
   },
   "outputs": [],
   "source": [
    "best_hp={'max_depth': 4,\n",
    " 'learning_rate': 0.1,\n",
    " 'n_estimators': 749,\n",
    " 'verbosity': 1,\n",
    " 'objective': 'reg:squarederror',\n",
    " 'booster': 'dart',\n",
    " 'n_jobs': -1,\n",
    " 'gamma': 0,\n",
    " 'min_child_weight': 1,\n",
    " 'max_delta_step': 0,\n",
    " 'subsample': 1,\n",
    " 'colsample_bytree': 1,\n",
    " 'colsample_bylevel': 1,\n",
    " 'colsample_bynode': 1,\n",
    " 'reg_alpha': 7.819025434063891,\n",
    " 'reg_lambda': 0.005996946163704,\n",
    " 'scale_pos_weight': 1,\n",
    " 'base_score': 0.5,\n",
    " 'importance_type': 'gain',\n",
    " 'num_round': 934}"
   ]
  },
  {
   "cell_type": "code",
   "execution_count": 39,
   "metadata": {
    "ExecuteTime": {
     "end_time": "2020-08-13T12:49:06.882096Z",
     "start_time": "2020-08-13T12:48:31.578864Z"
    }
   },
   "outputs": [
    {
     "data": {
      "text/plain": [
       "XGBRegressor(base_score=0.5, booster='dart', colsample_bylevel=1,\n",
       "             colsample_bynode=1, colsample_bytree=1, gamma=0, gpu_id=-1,\n",
       "             importance_type='gain', interaction_constraints=None,\n",
       "             learning_rate=0.1, max_delta_step=0, max_depth=4,\n",
       "             min_child_weight=1, missing=nan, monotone_constraints=None,\n",
       "             n_estimators=749, n_jobs=-1, num_parallel_tree=1, num_round=934,\n",
       "             random_state=0, reg_alpha=7.819025434063891,\n",
       "             reg_lambda=0.005996946163704, scale_pos_weight=1, subsample=1,\n",
       "             tree_method=None, validate_parameters=False, verbosity=1)"
      ]
     },
     "execution_count": 39,
     "metadata": {},
     "output_type": "execute_result"
    }
   ],
   "source": [
    "x_trn,x_val,y_trn,y_val = train_test_split(train, attr.a5, test_size=1000)\n",
    "m = xgb.XGBRegressor().set_params(**best_hp)\n",
    "m.fit(x_trn,y_trn)"
   ]
  },
  {
   "cell_type": "code",
   "execution_count": 40,
   "metadata": {
    "ExecuteTime": {
     "end_time": "2020-08-13T12:49:06.902060Z",
     "start_time": "2020-08-13T12:49:06.885087Z"
    }
   },
   "outputs": [
    {
     "data": {
      "text/plain": [
       "['../model/tp3_a5.m']"
      ]
     },
     "execution_count": 40,
     "metadata": {},
     "output_type": "execute_result"
    }
   ],
   "source": [
    "# 保存模型\n",
    "joblib.dump(m,f'../model/tp3_{attribute}.m')"
   ]
  },
  {
   "cell_type": "markdown",
   "metadata": {},
   "source": [
    "## A6 "
   ]
  },
  {
   "cell_type": "code",
   "execution_count": 41,
   "metadata": {
    "ExecuteTime": {
     "end_time": "2020-08-13T12:49:06.909041Z",
     "start_time": "2020-08-13T12:49:06.905051Z"
    }
   },
   "outputs": [],
   "source": [
    "attribute='a6'"
   ]
  },
  {
   "cell_type": "code",
   "execution_count": 42,
   "metadata": {
    "ExecuteTime": {
     "end_time": "2020-08-13T12:49:06.920011Z",
     "start_time": "2020-08-13T12:49:06.911036Z"
    }
   },
   "outputs": [],
   "source": [
    "df = train.join(attr[attribute])"
   ]
  },
  {
   "cell_type": "code",
   "execution_count": 43,
   "metadata": {
    "ExecuteTime": {
     "end_time": "2020-08-13T12:49:06.932978Z",
     "start_time": "2020-08-13T12:49:06.923004Z"
    }
   },
   "outputs": [],
   "source": [
    "best_hp={'max_depth': 4,\n",
    " 'learning_rate': 0.1,\n",
    " 'n_estimators': 731,\n",
    " 'verbosity': 1,\n",
    " 'objective': 'reg:squarederror',\n",
    " 'booster': 'dart',\n",
    " 'n_jobs': -1,\n",
    " 'gamma': 0,\n",
    " 'min_child_weight': 1,\n",
    " 'max_delta_step': 0,\n",
    " 'subsample': 1,\n",
    " 'colsample_bytree': 1,\n",
    " 'colsample_bylevel': 1,\n",
    " 'colsample_bynode': 1,\n",
    " 'reg_alpha': 9.299861941127418,\n",
    " 'reg_lambda': 8.762447153395918,\n",
    " 'scale_pos_weight': 1,\n",
    " 'base_score': 0.5,\n",
    " 'importance_type': 'gain',\n",
    " 'num_round': 917}"
   ]
  },
  {
   "cell_type": "code",
   "execution_count": 44,
   "metadata": {
    "ExecuteTime": {
     "end_time": "2020-08-13T12:49:37.260325Z",
     "start_time": "2020-08-13T12:49:06.935970Z"
    }
   },
   "outputs": [
    {
     "data": {
      "text/plain": [
       "XGBRegressor(base_score=0.5, booster='dart', colsample_bylevel=1,\n",
       "             colsample_bynode=1, colsample_bytree=1, gamma=0, gpu_id=-1,\n",
       "             importance_type='gain', interaction_constraints=None,\n",
       "             learning_rate=0.1, max_delta_step=0, max_depth=4,\n",
       "             min_child_weight=1, missing=nan, monotone_constraints=None,\n",
       "             n_estimators=731, n_jobs=-1, num_parallel_tree=1, num_round=917,\n",
       "             random_state=0, reg_alpha=9.299861941127418,\n",
       "             reg_lambda=8.762447153395918, scale_pos_weight=1, subsample=1,\n",
       "             tree_method=None, validate_parameters=False, verbosity=1)"
      ]
     },
     "execution_count": 44,
     "metadata": {},
     "output_type": "execute_result"
    }
   ],
   "source": [
    "x_trn,x_val,y_trn,y_val = train_test_split(train, attr.a6, test_size=1000)\n",
    "m = xgb.XGBRegressor().set_params(**best_hp)\n",
    "m.fit(x_trn,y_trn)"
   ]
  },
  {
   "cell_type": "code",
   "execution_count": 45,
   "metadata": {
    "ExecuteTime": {
     "end_time": "2020-08-13T12:49:37.278333Z",
     "start_time": "2020-08-13T12:49:37.263317Z"
    },
    "scrolled": true
   },
   "outputs": [
    {
     "data": {
      "text/plain": [
       "['../model/tp3_a6.m']"
      ]
     },
     "execution_count": 45,
     "metadata": {},
     "output_type": "execute_result"
    }
   ],
   "source": [
    "# 保存模型\n",
    "joblib.dump(m, f'../model/tp3_{attribute}.m')"
   ]
  },
  {
   "cell_type": "markdown",
   "metadata": {},
   "source": [
    "# attribute stacking"
   ]
  },
  {
   "cell_type": "code",
   "execution_count": 46,
   "metadata": {
    "ExecuteTime": {
     "end_time": "2020-08-13T12:57:37.250714Z",
     "start_time": "2020-08-13T12:49:37.281325Z"
    }
   },
   "outputs": [
    {
     "name": "stdout",
     "output_type": "stream",
     "text": [
      "a4\n",
      "a5\n",
      "a6\n"
     ]
    }
   ],
   "source": [
    "# stacking 建立 attr 特征\n",
    "cv = KFold(6, shuffle=True, random_state=1)\n",
    "attrs = [f'a{i}' for i in range(4, 7)]\n",
    "trn_res = None\n",
    "tst_res = None\n",
    "for attribute in attrs:\n",
    "    print(attribute)\n",
    "    m = joblib.load(f'../model/tp3_{attribute}.m')\n",
    "    trn_attr = None\n",
    "    tst_attr = None\n",
    "    for index, (trn_idx, val_idx) in enumerate(cv.split(train, attr[attribute])):\n",
    "        x_trn, x_val = train.iloc[trn_idx], train.iloc[val_idx]\n",
    "        y_trn, y_val = attr[attribute].iloc[trn_idx], attr[attribute].iloc[val_idx]\n",
    "        m.fit(x_trn, y_trn)\n",
    "        if trn_attr is None:\n",
    "            trn_attr = np.c_[val_idx, m.predict(x_val)]\n",
    "            tst_attr = m.predict(test)/cv.n_splits\n",
    "        else:\n",
    "            trn_attr = np.r_[trn_attr, np.c_[val_idx, m.predict(x_val)]]\n",
    "            tst_attr += m.predict(test)/cv.n_splits\n",
    "    trn_attr = pd.DataFrame(trn_attr).set_index(0)\n",
    "    trn_attr.index = trn_attr.index.astype('int')\n",
    "    trn_attr.columns = [attribute]\n",
    "    if trn_res is None:\n",
    "        trn_res = trn_attr\n",
    "        tst_res = tst_attr\n",
    "    else:\n",
    "        trn_res = trn_res.join(trn_attr)\n",
    "        tst_res = np.c_[tst_res,tst_attr]"
   ]
  },
  {
   "cell_type": "code",
   "execution_count": 47,
   "metadata": {
    "ExecuteTime": {
     "end_time": "2020-08-13T12:57:37.271172Z",
     "start_time": "2020-08-13T12:57:37.253708Z"
    }
   },
   "outputs": [],
   "source": [
    "train = train.join(trn_res)\n",
    "tst_res = pd.DataFrame(tst_res)\n",
    "tst_res.columns = [f'a{i}' for i in range(4,7)]\n",
    "test = test.join(tst_res)"
   ]
  },
  {
   "cell_type": "code",
   "execution_count": 48,
   "metadata": {
    "ExecuteTime": {
     "end_time": "2020-08-13T12:57:37.840151Z",
     "start_time": "2020-08-13T12:57:37.274163Z"
    }
   },
   "outputs": [],
   "source": [
    "# save data\n",
    "save_path = '../data/tp6.h5'\n",
    "train.to_hdf(save_path,'train')\n",
    "target.to_hdf(save_path,'target')\n",
    "test.to_hdf(save_path,'test')\n",
    "attr.to_hdf(save_path,'attr')\n",
    "group.to_hdf(save_path,'group')"
   ]
  },
  {
   "cell_type": "markdown",
   "metadata": {},
   "source": [
    "# predict Quality_label"
   ]
  },
  {
   "cell_type": "code",
   "execution_count": 49,
   "metadata": {
    "ExecuteTime": {
     "end_time": "2020-08-13T12:57:37.879142Z",
     "start_time": "2020-08-13T12:57:37.841127Z"
    }
   },
   "outputs": [],
   "source": [
    "# load data\n",
    "load_path = '../data/tp6.h5'\n",
    "train = pd.read_hdf(load_path,'train')\n",
    "target = pd.read_hdf(load_path,'target')\n",
    "test = pd.read_hdf(load_path,'test')\n",
    "attr = pd.read_hdf(load_path,'attr')\n",
    "group = pd.read_hdf(load_path,'group')"
   ]
  },
  {
   "cell_type": "markdown",
   "metadata": {},
   "source": [
    "## FE"
   ]
  },
  {
   "cell_type": "code",
   "execution_count": 50,
   "metadata": {
    "ExecuteTime": {
     "end_time": "2020-08-13T12:57:37.894037Z",
     "start_time": "2020-08-13T12:57:37.882068Z"
    }
   },
   "outputs": [],
   "source": [
    "def create_uid(df,cols,uid_name):\n",
    "    df[uid_name]=df[cols[0]].astype(str)\n",
    "    if len(cols)>1:\n",
    "        for c in cols[1:]:\n",
    "            df[uid_name]=df[uid_name]+df[c].astype(str)\n",
    "    return df\n",
    "\n",
    "def uid_aggregation(train,test,main_cols,uid,agg_method):\n",
    "    for main_col in main_cols:\n",
    "        new_col_name=uid+'_'+main_col+'_'+agg_method\n",
    "        train[new_col_name]=train.groupby([uid])[main_col].transform(agg_method)\n",
    "        test[new_col_name]=test.groupby([uid])[main_col].transform(agg_method)\n",
    "\n",
    "def frequency_encoding(train,test,cols):\n",
    "    for c in cols:\n",
    "        new_col_name=c+'_freq'\n",
    "        train[new_col_name] = train[c].map(train[c].value_counts())\n",
    "        test[new_col_name] = test[c].map(test[c].value_counts())\n",
    "\n",
    "def nunique_encoding(train,test,main_cols,col):\n",
    "    for main_col in main_cols:\n",
    "        new_col_name=main_col+'_'+col+'_nunique'\n",
    "        train[new_col_name]= train[col].map(train.groupby(col)[main_col].nunique())\n",
    "        test[new_col_name]= test[col].map(test.groupby(col)[main_col].nunique())"
   ]
  },
  {
   "cell_type": "code",
   "execution_count": 51,
   "metadata": {
    "ExecuteTime": {
     "end_time": "2020-08-13T12:57:38.319902Z",
     "start_time": "2020-08-13T12:57:37.895058Z"
    }
   },
   "outputs": [],
   "source": [
    "for c in range(4,7):\n",
    "    col='a'+str(c)\n",
    "    train[col]=train[col].round(3)\n",
    "    test[col]=test[col].round(3)\n",
    "\n",
    "# creat uids\n",
    "for key,value in {'uid1':['p5','p6'],'uid2':['p7','p9','p10'],'uid3':['p5','p6','p7','p8','p9'],'uid4':['p10', 'p9', 'p8', 'p7']}.items():\n",
    "    train=create_uid(train,cols=value,uid_name=key)\n",
    "    test=create_uid(test,cols=value,uid_name=key)\n",
    "    \n",
    "# apply uid_aggregation\n",
    "uid_aggregation(train,test,main_cols=['a4','a5'],uid='p7',agg_method='mean')\n",
    "uid_aggregation(train,test,main_cols=['a4','a5','a6'],uid='uid4',agg_method='mean')\n",
    "uid_aggregation(train,test,main_cols=['a4'],uid='uid4',agg_method='std')\n",
    "uid_aggregation(train,test,main_cols=['p5','p6'],uid='uid4',agg_method='sum')\n",
    "\n",
    "# apply frequency_encoding\n",
    "frequency_encoding(train,test,cols=['p7','p8','p10'])\n",
    "\n",
    "# apply unique_encoding\n",
    "nunique_encoding(train,test,main_cols=['p8','p9','p10'],col='p7')\n",
    "nunique_encoding(train,test,main_cols=['p9'],col='p8')\n",
    "nunique_encoding(train,test,main_cols=['uid2','uid3'],col='uid1')\n",
    "nunique_encoding(train,test,main_cols=['uid3'],col='uid2')\n",
    "\n",
    "# a4+a5+a6\n",
    "train['a4_plus_a5_plus_a6']=train['a4']+train['a5']+train['a6']\n",
    "test['a4_plus_a5_plus_a6']=test['a4']+test['a5']+test['a6']\n",
    "\n",
    "# majic_fe\n",
    "train['majic_fe']=train['uid4_p5_sum']*train['uid4_p6_sum']\n",
    "test['majic_fe']=test['uid4_p5_sum']*test['uid4_p6_sum']\n",
    "\n",
    "# drop_cols\n",
    "drop_cols=['uid1','uid2','uid3','uid4','uid4_p5_sum','uid4_p6_sum']\n",
    "train =train.drop(columns=drop_cols)\n",
    "test =test.drop(columns=drop_cols)"
   ]
  },
  {
   "cell_type": "code",
   "execution_count": 52,
   "metadata": {
    "ExecuteTime": {
     "end_time": "2020-08-13T12:57:38.327885Z",
     "start_time": "2020-08-13T12:57:38.320902Z"
    }
   },
   "outputs": [],
   "source": [
    "best_hp={'max_depth': 3,\n",
    " 'learning_rate': 0.1,\n",
    " 'n_estimators': 203,\n",
    " 'verbosity': 1,\n",
    " 'objective': 'multi:softmax',\n",
    " 'booster': 'dart',\n",
    " 'n_jobs': -1,\n",
    " 'gamma': 0,\n",
    " 'min_child_weight': 1,\n",
    " 'max_delta_step': 0,\n",
    " 'subsample': 1,\n",
    " 'colsample_bytree': 1,\n",
    " 'colsample_bylevel': 1,\n",
    " 'colsample_bynode': 1,\n",
    " 'reg_alpha': 6.736871781492226,\n",
    " 'reg_lambda': 0.073512560432491,\n",
    " 'scale_pos_weight': 1,\n",
    " 'base_score': 0.5,\n",
    " 'num_class': 4,\n",
    " 'num_round': 295}"
   ]
  },
  {
   "cell_type": "code",
   "execution_count": 53,
   "metadata": {
    "ExecuteTime": {
     "end_time": "2020-08-13T13:00:24.257904Z",
     "start_time": "2020-08-13T12:57:38.328882Z"
    }
   },
   "outputs": [
    {
     "name": "stdout",
     "output_type": "stream",
     "text": [
      "开始训练第1个模型：\n",
      "正在训练第1折\n",
      "正在训练第2折\n",
      "正在训练第3折\n",
      "正在训练第4折\n",
      "正在训练第5折\n",
      "logloss 1.0500998759789058\n",
      "ac 0.5496366166692439\n",
      "开始训练第2个模型：\n",
      "正在训练第1折\n",
      "正在训练第2折\n",
      "正在训练第3折\n",
      "正在训练第4折\n",
      "正在训练第5折\n",
      "logloss 1.0490238778394991\n",
      "ac 0.5495593010669553\n",
      "开始训练第3个模型：\n",
      "正在训练第1折\n",
      "正在训练第2折\n",
      "正在训练第3折\n",
      "正在训练第4折\n",
      "正在训练第5折\n",
      "logloss 1.0490068792627605\n",
      "ac 0.551646822328746\n",
      "******************************\n",
      "mean_logloss 1.0475657105802867\n",
      "mean_ac 0.5514921911241688\n"
     ]
    }
   ],
   "source": [
    "oof = np.zeros((train.shape[0], 4))\n",
    "prediction = np.zeros((test.shape[0], 4))\n",
    "seeds = [123456, 87654, 676767]\n",
    "num_model_seed = 3\n",
    "for model_seed in range(num_model_seed):\n",
    "    print(\"开始训练第%d个模型：\" % (model_seed + 1))\n",
    "    oof_cat = np.zeros((train.shape[0], 4))\n",
    "    prediction_cat = np.zeros((test.shape[0], 4))\n",
    "    skf = StratifiedKFold(n_splits=5, random_state=seeds[model_seed], shuffle=True)\n",
    "    for index, (train_index, test_index) in enumerate(skf.split(train, target)):\n",
    "        print(\"正在训练第%d折\" % (index + 1))\n",
    "        train_x, test_x, train_y, test_y = train.iloc[train_index], train.iloc[test_index], target.iloc[train_index], \\\n",
    "                                           target.iloc[test_index]\n",
    "        gc.collect()\n",
    "        m = xgb.XGBClassifier().set_params(**best_hp).set_params(n_jobs=-1,learning_rate=0.05)\n",
    "        m.fit(train_x, train_y) # xgb需要接受的是字典\n",
    "        oof_cat[test_index] += m.predict_proba(test_x)\n",
    "        prediction_cat += m.predict_proba(test) / skf.n_splits\n",
    "        gc.collect()\n",
    "    oof += oof_cat / num_model_seed\n",
    "    prediction += prediction_cat / num_model_seed\n",
    "    print('logloss', log_loss(pd.get_dummies(target).values, oof_cat))\n",
    "    print('ac', accuracy_score(target, np.argmax(oof_cat, axis=1)))\n",
    "print(\"*\" * 30)\n",
    "print('mean_logloss', log_loss(pd.get_dummies(target).values, oof))\n",
    "print('mean_ac', accuracy_score(target, np.argmax(oof, axis=1)))\n",
    "\n",
    "group_size=50\n",
    "mname='CCF_model_xgb'\n",
    "res_prob = pd.DataFrame(np.c_[group,prediction])\n",
    "res_prob.columns=['Group', 'Fail ratio', 'Pass ratio', 'Good ratio', 'Excellent ratio']\n",
    "res_prob = res_prob[['Group', 'Excellent ratio','Good ratio', 'Pass ratio','Fail ratio']]\n",
    "res_prob =(res_prob.groupby('Group').sum()/group_size).reset_index()\n",
    "res_prob.to_csv(f'../sub/{mname}_prob.csv',index=False,encoding='utf-8')"
   ]
  },
  {
   "cell_type": "code",
   "execution_count": 54,
   "metadata": {
    "ExecuteTime": {
     "end_time": "2020-08-13T13:00:24.272476Z",
     "start_time": "2020-08-13T13:00:24.265883Z"
    }
   },
   "outputs": [
    {
     "data": {
      "text/plain": [
       "27"
      ]
     },
     "execution_count": 54,
     "metadata": {},
     "output_type": "execute_result"
    }
   ],
   "source": [
    "len(train.columns)"
   ]
  },
  {
   "cell_type": "code",
   "execution_count": 55,
   "metadata": {
    "ExecuteTime": {
     "end_time": "2020-08-13T13:00:24.289941Z",
     "start_time": "2020-08-13T13:00:24.278970Z"
    }
   },
   "outputs": [
    {
     "data": {
      "text/plain": [
       "Index(['p5', 'p6', 'p7', 'p8', 'p9', 'p10', 'a4', 'a5', 'a6', 'p7_a4_mean',\n",
       "       'p7_a5_mean', 'uid4_a4_mean', 'uid4_a5_mean', 'uid4_a6_mean',\n",
       "       'uid4_a4_std', 'p7_freq', 'p8_freq', 'p10_freq', 'p8_p7_nunique',\n",
       "       'p9_p7_nunique', 'p10_p7_nunique', 'p9_p8_nunique', 'uid2_uid1_nunique',\n",
       "       'uid3_uid1_nunique', 'uid3_uid2_nunique', 'a4_plus_a5_plus_a6',\n",
       "       'majic_fe'],\n",
       "      dtype='object')"
      ]
     },
     "execution_count": 55,
     "metadata": {},
     "output_type": "execute_result"
    }
   ],
   "source": [
    "train.columns"
   ]
  }
 ],
 "metadata": {
  "kernelspec": {
   "display_name": "Python 3",
   "language": "python",
   "name": "python3"
  },
  "language_info": {
   "codemirror_mode": {
    "name": "ipython",
    "version": 3
   },
   "file_extension": ".py",
   "mimetype": "text/x-python",
   "name": "python",
   "nbconvert_exporter": "python",
   "pygments_lexer": "ipython3",
   "version": "3.7.3"
  },
  "toc": {
   "base_numbering": 1,
   "nav_menu": {},
   "number_sections": true,
   "sideBar": true,
   "skip_h1_title": false,
   "title_cell": "Table of Contents",
   "title_sidebar": "Contents",
   "toc_cell": false,
   "toc_position": {
    "height": "calc(100% - 180px)",
    "left": "10px",
    "top": "150px",
    "width": "413.976px"
   },
   "toc_section_display": true,
   "toc_window_display": false
  },
  "varInspector": {
   "cols": {
    "lenName": 16,
    "lenType": 16,
    "lenVar": 40
   },
   "kernels_config": {
    "python": {
     "delete_cmd_postfix": "",
     "delete_cmd_prefix": "del ",
     "library": "var_list.py",
     "varRefreshCmd": "print(var_dic_list())"
    },
    "r": {
     "delete_cmd_postfix": ") ",
     "delete_cmd_prefix": "rm(",
     "library": "var_list.r",
     "varRefreshCmd": "cat(var_dic_list()) "
    }
   },
   "types_to_exclude": [
    "module",
    "function",
    "builtin_function_or_method",
    "instance",
    "_Feature"
   ],
   "window_display": false
  }
 },
 "nbformat": 4,
 "nbformat_minor": 2
}
