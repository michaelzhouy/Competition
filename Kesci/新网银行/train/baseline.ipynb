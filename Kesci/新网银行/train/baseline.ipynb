{
 "cells": [
  {
   "cell_type": "code",
   "execution_count": 1,
   "metadata": {
    "ExecuteTime": {
     "end_time": "2020-06-23T09:23:16.981841Z",
     "start_time": "2020-06-23T09:23:15.897496Z"
    }
   },
   "outputs": [],
   "source": [
    "import numpy as np\n",
    "import pandas as pd\n",
    "import lightgbm as lgb\n",
    "from sklearn.model_selection import StratifiedKFold\n",
    "from sklearn.metrics import f1_score, precision_score, recall_score, accuracy_score\n",
    "from sklearn.preprocessing import LabelEncoder\n",
    "import seaborn as sns\n",
    "import matplotlib.pyplot as plt\n",
    "from scipy.stats import entropy\n",
    "import gc\n",
    "import os\n",
    "from tqdm import tqdm\n",
    "pd.set_option('display.max_columns', 600)\n",
    "pd.set_option('display.max_rows', 600)\n",
    "from IPython.core.interactiveshell import InteractiveShell\n",
    "InteractiveShell.ast_node_interactivity = \"all\""
   ]
  },
  {
   "cell_type": "code",
   "execution_count": 2,
   "metadata": {
    "ExecuteTime": {
     "end_time": "2020-06-23T09:23:17.415056Z",
     "start_time": "2020-06-23T09:23:16.981841Z"
    }
   },
   "outputs": [],
   "source": [
    "data_path = '../input/'\n",
    "data_train = pd.read_csv(data_path + 'sensor_train/sensor_train.csv')\n",
    "data_test = pd.read_csv(data_path + 'sensor_test/sensor_test.csv')\n",
    "data_test['fragment_id'] += 10000\n",
    "label = 'behavior_id'"
   ]
  },
  {
   "cell_type": "code",
   "execution_count": 3,
   "metadata": {
    "ExecuteTime": {
     "end_time": "2020-06-23T09:23:17.461674Z",
     "start_time": "2020-06-23T09:23:17.416787Z"
    }
   },
   "outputs": [],
   "source": [
    "data = pd.concat([data_train, data_test], sort=False)"
   ]
  },
  {
   "cell_type": "code",
   "execution_count": 4,
   "metadata": {
    "ExecuteTime": {
     "end_time": "2020-06-23T09:23:17.549400Z",
     "start_time": "2020-06-23T09:23:17.462634Z"
    }
   },
   "outputs": [],
   "source": [
    "df = data.drop_duplicates(subset=['fragment_id']).reset_index(drop=True)[['fragment_id', 'behavior_id']]"
   ]
  },
  {
   "cell_type": "code",
   "execution_count": 5,
   "metadata": {
    "ExecuteTime": {
     "end_time": "2020-06-23T09:23:17.618948Z",
     "start_time": "2020-06-23T09:23:17.550399Z"
    }
   },
   "outputs": [],
   "source": [
    "data['acc'] = (data['acc_x'] ** 2 + data['acc_y'] ** 2 + data['acc_z'] ** 2) ** 0.5\n",
    "data['accg'] = (data['acc_xg'] ** 2 + data['acc_yg'] ** 2 + data['acc_zg'] ** 2) ** 0.5"
   ]
  },
  {
   "cell_type": "code",
   "execution_count": 6,
   "metadata": {
    "ExecuteTime": {
     "end_time": "2020-06-23T09:23:37.671951Z",
     "start_time": "2020-06-23T09:23:17.619833Z"
    }
   },
   "outputs": [
    {
     "name": "stderr",
     "output_type": "stream",
     "text": [
      "100%|████████████████████████████████████████████████████████████████████████████████████| 8/8 [00:20<00:00,  2.50s/it]\n"
     ]
    }
   ],
   "source": [
    "for f in tqdm([f for f in data.columns if 'acc' in f]):\n",
    "    for stat in ['min', 'max', 'mean', 'median', 'std', 'skew']:\n",
    "        df[f+'_'+stat] = data.groupby('fragment_id')[f].agg(stat).values"
   ]
  },
  {
   "cell_type": "code",
   "execution_count": 7,
   "metadata": {
    "ExecuteTime": {
     "end_time": "2020-06-23T09:23:37.700210Z",
     "start_time": "2020-06-23T09:23:37.674949Z"
    }
   },
   "outputs": [
    {
     "name": "stdout",
     "output_type": "stream",
     "text": [
      "48\n",
      "['acc_x_min', 'acc_x_max', 'acc_x_mean', 'acc_x_median', 'acc_x_std', 'acc_x_skew', 'acc_y_min', 'acc_y_max', 'acc_y_mean', 'acc_y_median', 'acc_y_std', 'acc_y_skew', 'acc_z_min', 'acc_z_max', 'acc_z_mean', 'acc_z_median', 'acc_z_std', 'acc_z_skew', 'acc_xg_min', 'acc_xg_max', 'acc_xg_mean', 'acc_xg_median', 'acc_xg_std', 'acc_xg_skew', 'acc_yg_min', 'acc_yg_max', 'acc_yg_mean', 'acc_yg_median', 'acc_yg_std', 'acc_yg_skew', 'acc_zg_min', 'acc_zg_max', 'acc_zg_mean', 'acc_zg_median', 'acc_zg_std', 'acc_zg_skew', 'acc_min', 'acc_max', 'acc_mean', 'acc_median', 'acc_std', 'acc_skew', 'accg_min', 'accg_max', 'accg_mean', 'accg_median', 'accg_std', 'accg_skew']\n"
     ]
    }
   ],
   "source": [
    "train_df = df[df[label].isna()==False].reset_index(drop=True)\n",
    "test_df = df[df[label].isna()==True].reset_index(drop=True)\n",
    "\n",
    "drop_feat = []\n",
    "used_feat = [f for f in train_df.columns if f not in (['fragment_id', label] + drop_feat)]\n",
    "print(len(used_feat))\n",
    "print(used_feat)\n",
    "\n",
    "train_x = train_df[used_feat]\n",
    "train_y = train_df[label]\n",
    "test_x = test_df[used_feat]"
   ]
  },
  {
   "cell_type": "code",
   "execution_count": 8,
   "metadata": {
    "ExecuteTime": {
     "end_time": "2020-06-23T09:24:52.073754Z",
     "start_time": "2020-06-23T09:23:37.702170Z"
    }
   },
   "outputs": [
    {
     "name": "stdout",
     "output_type": "stream",
     "text": [
      "Training until validation scores don't improve for 50 rounds\n",
      "[20]\ttraining's multi_error: 0.105949\tvalid_1's multi_error: 0.328307\n",
      "[40]\ttraining's multi_error: 0.0317161\tvalid_1's multi_error: 0.305003\n",
      "[60]\ttraining's multi_error: 0.00531459\tvalid_1's multi_error: 0.289925\n",
      "[80]\ttraining's multi_error: 0.00154295\tvalid_1's multi_error: 0.29061\n",
      "[100]\ttraining's multi_error: 0.00120007\tvalid_1's multi_error: 0.283071\n",
      "[120]\ttraining's multi_error: 0.00120007\tvalid_1's multi_error: 0.278958\n",
      "[140]\ttraining's multi_error: 0.000514315\tvalid_1's multi_error: 0.276217\n",
      "[160]\ttraining's multi_error: 0.000342877\tvalid_1's multi_error: 0.273475\n",
      "[180]\ttraining's multi_error: 0.000342877\tvalid_1's multi_error: 0.273475\n",
      "[200]\ttraining's multi_error: 0.000342877\tvalid_1's multi_error: 0.27416\n",
      "[220]\ttraining's multi_error: 0.000171438\tvalid_1's multi_error: 0.273475\n",
      "[240]\ttraining's multi_error: 0.000171438\tvalid_1's multi_error: 0.268677\n",
      "[260]\ttraining's multi_error: 0.000171438\tvalid_1's multi_error: 0.269363\n",
      "[280]\ttraining's multi_error: 0.000171438\tvalid_1's multi_error: 0.271419\n",
      "Early stopping, best iteration is:\n",
      "[243]\ttraining's multi_error: 0.000171438\tvalid_1's multi_error: 0.266621\n"
     ]
    },
    {
     "data": {
      "text/plain": [
       "192"
      ]
     },
     "execution_count": 8,
     "metadata": {},
     "output_type": "execute_result"
    },
    {
     "name": "stdout",
     "output_type": "stream",
     "text": [
      "Training until validation scores don't improve for 50 rounds\n",
      "[20]\ttraining's multi_error: 0.106635\tvalid_1's multi_error: 0.342015\n",
      "[40]\ttraining's multi_error: 0.0334305\tvalid_1's multi_error: 0.306374\n",
      "[60]\ttraining's multi_error: 0.00754329\tvalid_1's multi_error: 0.291981\n",
      "[80]\ttraining's multi_error: 0.00188582\tvalid_1's multi_error: 0.287183\n",
      "[100]\ttraining's multi_error: 0.00102863\tvalid_1's multi_error: 0.287183\n",
      "[120]\ttraining's multi_error: 0.000171438\tvalid_1's multi_error: 0.288554\n",
      "[140]\ttraining's multi_error: 0.000171438\tvalid_1's multi_error: 0.285812\n",
      "[160]\ttraining's multi_error: 0.000171438\tvalid_1's multi_error: 0.289239\n",
      "[180]\ttraining's multi_error: 0.000171438\tvalid_1's multi_error: 0.289239\n",
      "Early stopping, best iteration is:\n",
      "[139]\ttraining's multi_error: 0.000171438\tvalid_1's multi_error: 0.283756\n"
     ]
    },
    {
     "data": {
      "text/plain": [
       "488"
      ]
     },
     "execution_count": 8,
     "metadata": {},
     "output_type": "execute_result"
    },
    {
     "name": "stdout",
     "output_type": "stream",
     "text": [
      "Training until validation scores don't improve for 50 rounds\n",
      "[20]\ttraining's multi_error: 0.105245\tvalid_1's multi_error: 0.320302\n",
      "[40]\ttraining's multi_error: 0.0320535\tvalid_1's multi_error: 0.305213\n",
      "[60]\ttraining's multi_error: 0.00719918\tvalid_1's multi_error: 0.290809\n",
      "[80]\ttraining's multi_error: 0.00154268\tvalid_1's multi_error: 0.281893\n",
      "[100]\ttraining's multi_error: 0.000342818\tvalid_1's multi_error: 0.275034\n",
      "[120]\ttraining's multi_error: 0.000171409\tvalid_1's multi_error: 0.272977\n",
      "[140]\ttraining's multi_error: 0.000171409\tvalid_1's multi_error: 0.26749\n",
      "[160]\ttraining's multi_error: 0.000171409\tvalid_1's multi_error: 0.266804\n",
      "[180]\ttraining's multi_error: 0.000171409\tvalid_1's multi_error: 0.266118\n",
      "[200]\ttraining's multi_error: 0.000171409\tvalid_1's multi_error: 0.268176\n",
      "[220]\ttraining's multi_error: 0.000171409\tvalid_1's multi_error: 0.26749\n",
      "Early stopping, best iteration is:\n",
      "[176]\ttraining's multi_error: 0.000171409\tvalid_1's multi_error: 0.263374\n"
     ]
    },
    {
     "data": {
      "text/plain": [
       "552"
      ]
     },
     "execution_count": 8,
     "metadata": {},
     "output_type": "execute_result"
    },
    {
     "name": "stdout",
     "output_type": "stream",
     "text": [
      "Training until validation scores don't improve for 50 rounds\n",
      "[20]\ttraining's multi_error: 0.10953\tvalid_1's multi_error: 0.319616\n",
      "[40]\ttraining's multi_error: 0.0349674\tvalid_1's multi_error: 0.29904\n",
      "[60]\ttraining's multi_error: 0.00617072\tvalid_1's multi_error: 0.282579\n",
      "[80]\ttraining's multi_error: 0.00137127\tvalid_1's multi_error: 0.27915\n",
      "[100]\ttraining's multi_error: 0.000857045\tvalid_1's multi_error: 0.273663\n",
      "[120]\ttraining's multi_error: 0.000342818\tvalid_1's multi_error: 0.275034\n",
      "[140]\ttraining's multi_error: 0.000514227\tvalid_1's multi_error: 0.27572\n",
      "[160]\ttraining's multi_error: 0.000171409\tvalid_1's multi_error: 0.270233\n",
      "[180]\ttraining's multi_error: 0.000171409\tvalid_1's multi_error: 0.268176\n",
      "[200]\ttraining's multi_error: 0.000171409\tvalid_1's multi_error: 0.270233\n",
      "[220]\ttraining's multi_error: 0\tvalid_1's multi_error: 0.268176\n",
      "Early stopping, best iteration is:\n",
      "[176]\ttraining's multi_error: 0.000171409\tvalid_1's multi_error: 0.268176\n"
     ]
    },
    {
     "data": {
      "text/plain": [
       "552"
      ]
     },
     "execution_count": 8,
     "metadata": {},
     "output_type": "execute_result"
    },
    {
     "name": "stdout",
     "output_type": "stream",
     "text": [
      "Training until validation scores don't improve for 50 rounds\n",
      "[20]\ttraining's multi_error: 0.112616\tvalid_1's multi_error: 0.340878\n",
      "[40]\ttraining's multi_error: 0.0325677\tvalid_1's multi_error: 0.299726\n",
      "[60]\ttraining's multi_error: 0.00685636\tvalid_1's multi_error: 0.282579\n",
      "[80]\ttraining's multi_error: 0.00171409\tvalid_1's multi_error: 0.277092\n",
      "[100]\ttraining's multi_error: 0.000685636\tvalid_1's multi_error: 0.275034\n",
      "[120]\ttraining's multi_error: 0.000171409\tvalid_1's multi_error: 0.269547\n",
      "[140]\ttraining's multi_error: 0\tvalid_1's multi_error: 0.26406\n",
      "[160]\ttraining's multi_error: 0\tvalid_1's multi_error: 0.264746\n",
      "[180]\ttraining's multi_error: 0\tvalid_1's multi_error: 0.263374\n",
      "Early stopping, best iteration is:\n",
      "[148]\ttraining's multi_error: 0\tvalid_1's multi_error: 0.262689\n"
     ]
    },
    {
     "data": {
      "text/plain": [
       "440"
      ]
     },
     "execution_count": 8,
     "metadata": {},
     "output_type": "execute_result"
    }
   ],
   "source": [
    "scores = []\n",
    "imp = pd.DataFrame()\n",
    "imp['feat'] = used_feat\n",
    "\n",
    "params = {\n",
    "    'learning_rate': 0.1,\n",
    "    'metric': 'multi_error',\n",
    "    'objective': 'multiclass',\n",
    "    'num_class': 19,\n",
    "    'feature_fraction': 0.80,\n",
    "    'bagging_fraction': 0.75,\n",
    "    'bagging_freq': 2,\n",
    "    'n_jobs': 4,\n",
    "    'seed': 2020,\n",
    "    'max_depth': 10,\n",
    "    'num_leaves': 64,\n",
    "    'lambda_l1': 0.5,\n",
    "    'lambda_l2': 0.5,\n",
    "}\n",
    "\n",
    "oof_train = np.zeros((len(train_x), 19))\n",
    "preds = np.zeros((len(test_x), 19))\n",
    "folds = 5\n",
    "seeds = [44]#, 2020, 527, 1527]\n",
    "for seed in seeds:\n",
    "    kfold = StratifiedKFold(n_splits=folds, shuffle=True, random_state=seed)\n",
    "    for fold, (trn_idx, val_idx) in enumerate(kfold.split(train_x, train_y)):\n",
    "        x_trn, y_trn, x_val, y_val = train_x.iloc[trn_idx], train_y.iloc[trn_idx], train_x.iloc[val_idx], train_y.iloc[val_idx]\n",
    "        train_set = lgb.Dataset(x_trn, y_trn)\n",
    "        val_set = lgb.Dataset(x_val, y_val)\n",
    "\n",
    "        model = lgb.train(params, train_set, num_boost_round=500000,\n",
    "                          valid_sets=(train_set, val_set), early_stopping_rounds=50,\n",
    "                          verbose_eval=20)\n",
    "        oof_train[val_idx] += model.predict(x_val) / len(seeds)\n",
    "        preds += model.predict(test_x) / folds / len(seeds)\n",
    "        scores.append(model.best_score['valid_1']['multi_error'])\n",
    "        imp['gain' + str(fold + 1)] = model.feature_importance(importance_type='gain')\n",
    "        imp['split' + str(fold + 1)] = model.feature_importance(importance_type='split')\n",
    "        del x_trn, y_trn, x_val, y_val, model, train_set, val_set\n",
    "        gc.collect()"
   ]
  },
  {
   "cell_type": "code",
   "execution_count": 9,
   "metadata": {
    "ExecuteTime": {
     "end_time": "2020-06-23T09:24:52.123742Z",
     "start_time": "2020-06-23T09:24:52.074752Z"
    }
   },
   "outputs": [
    {
     "data": {
      "text/html": [
       "<div>\n",
       "<style scoped>\n",
       "    .dataframe tbody tr th:only-of-type {\n",
       "        vertical-align: middle;\n",
       "    }\n",
       "\n",
       "    .dataframe tbody tr th {\n",
       "        vertical-align: top;\n",
       "    }\n",
       "\n",
       "    .dataframe thead th {\n",
       "        text-align: right;\n",
       "    }\n",
       "</style>\n",
       "<table border=\"1\" class=\"dataframe\">\n",
       "  <thead>\n",
       "    <tr style=\"text-align: right;\">\n",
       "      <th></th>\n",
       "      <th>feat</th>\n",
       "      <th>gain</th>\n",
       "      <th>split</th>\n",
       "    </tr>\n",
       "  </thead>\n",
       "  <tbody>\n",
       "    <tr>\n",
       "      <th>25</th>\n",
       "      <td>acc_yg_max</td>\n",
       "      <td>9355.456782</td>\n",
       "      <td>14224</td>\n",
       "    </tr>\n",
       "    <tr>\n",
       "      <th>39</th>\n",
       "      <td>acc_median</td>\n",
       "      <td>8799.601447</td>\n",
       "      <td>10904</td>\n",
       "    </tr>\n",
       "    <tr>\n",
       "      <th>24</th>\n",
       "      <td>acc_yg_min</td>\n",
       "      <td>7910.470309</td>\n",
       "      <td>16734</td>\n",
       "    </tr>\n",
       "    <tr>\n",
       "      <th>28</th>\n",
       "      <td>acc_yg_std</td>\n",
       "      <td>7166.229267</td>\n",
       "      <td>15212</td>\n",
       "    </tr>\n",
       "    <tr>\n",
       "      <th>10</th>\n",
       "      <td>acc_y_std</td>\n",
       "      <td>6494.557421</td>\n",
       "      <td>14498</td>\n",
       "    </tr>\n",
       "    <tr>\n",
       "      <th>26</th>\n",
       "      <td>acc_yg_mean</td>\n",
       "      <td>5972.458362</td>\n",
       "      <td>16512</td>\n",
       "    </tr>\n",
       "    <tr>\n",
       "      <th>32</th>\n",
       "      <td>acc_zg_mean</td>\n",
       "      <td>5636.713321</td>\n",
       "      <td>17169</td>\n",
       "    </tr>\n",
       "    <tr>\n",
       "      <th>44</th>\n",
       "      <td>accg_mean</td>\n",
       "      <td>5529.527941</td>\n",
       "      <td>23771</td>\n",
       "    </tr>\n",
       "    <tr>\n",
       "      <th>20</th>\n",
       "      <td>acc_xg_mean</td>\n",
       "      <td>5424.921720</td>\n",
       "      <td>18770</td>\n",
       "    </tr>\n",
       "    <tr>\n",
       "      <th>19</th>\n",
       "      <td>acc_xg_max</td>\n",
       "      <td>4925.722524</td>\n",
       "      <td>14545</td>\n",
       "    </tr>\n",
       "    <tr>\n",
       "      <th>22</th>\n",
       "      <td>acc_xg_std</td>\n",
       "      <td>4314.354954</td>\n",
       "      <td>15351</td>\n",
       "    </tr>\n",
       "    <tr>\n",
       "      <th>27</th>\n",
       "      <td>acc_yg_median</td>\n",
       "      <td>3824.460978</td>\n",
       "      <td>10979</td>\n",
       "    </tr>\n",
       "    <tr>\n",
       "      <th>45</th>\n",
       "      <td>accg_median</td>\n",
       "      <td>3625.301158</td>\n",
       "      <td>20763</td>\n",
       "    </tr>\n",
       "    <tr>\n",
       "      <th>30</th>\n",
       "      <td>acc_zg_min</td>\n",
       "      <td>3610.067122</td>\n",
       "      <td>10908</td>\n",
       "    </tr>\n",
       "    <tr>\n",
       "      <th>21</th>\n",
       "      <td>acc_xg_median</td>\n",
       "      <td>3560.630760</td>\n",
       "      <td>11803</td>\n",
       "    </tr>\n",
       "    <tr>\n",
       "      <th>18</th>\n",
       "      <td>acc_xg_min</td>\n",
       "      <td>3478.204894</td>\n",
       "      <td>14198</td>\n",
       "    </tr>\n",
       "    <tr>\n",
       "      <th>8</th>\n",
       "      <td>acc_y_mean</td>\n",
       "      <td>3287.453714</td>\n",
       "      <td>19969</td>\n",
       "    </tr>\n",
       "    <tr>\n",
       "      <th>2</th>\n",
       "      <td>acc_x_mean</td>\n",
       "      <td>2785.699606</td>\n",
       "      <td>20212</td>\n",
       "    </tr>\n",
       "    <tr>\n",
       "      <th>4</th>\n",
       "      <td>acc_x_std</td>\n",
       "      <td>2781.345586</td>\n",
       "      <td>10889</td>\n",
       "    </tr>\n",
       "    <tr>\n",
       "      <th>33</th>\n",
       "      <td>acc_zg_median</td>\n",
       "      <td>2737.376870</td>\n",
       "      <td>8741</td>\n",
       "    </tr>\n",
       "    <tr>\n",
       "      <th>34</th>\n",
       "      <td>acc_zg_std</td>\n",
       "      <td>2404.893300</td>\n",
       "      <td>8193</td>\n",
       "    </tr>\n",
       "    <tr>\n",
       "      <th>38</th>\n",
       "      <td>acc_mean</td>\n",
       "      <td>2352.090557</td>\n",
       "      <td>6513</td>\n",
       "    </tr>\n",
       "    <tr>\n",
       "      <th>14</th>\n",
       "      <td>acc_z_mean</td>\n",
       "      <td>2163.237084</td>\n",
       "      <td>18562</td>\n",
       "    </tr>\n",
       "    <tr>\n",
       "      <th>41</th>\n",
       "      <td>acc_skew</td>\n",
       "      <td>1677.773258</td>\n",
       "      <td>16780</td>\n",
       "    </tr>\n",
       "    <tr>\n",
       "      <th>11</th>\n",
       "      <td>acc_y_skew</td>\n",
       "      <td>1560.294262</td>\n",
       "      <td>16559</td>\n",
       "    </tr>\n",
       "    <tr>\n",
       "      <th>29</th>\n",
       "      <td>acc_yg_skew</td>\n",
       "      <td>1520.329550</td>\n",
       "      <td>16541</td>\n",
       "    </tr>\n",
       "    <tr>\n",
       "      <th>7</th>\n",
       "      <td>acc_y_max</td>\n",
       "      <td>1513.946394</td>\n",
       "      <td>4974</td>\n",
       "    </tr>\n",
       "    <tr>\n",
       "      <th>23</th>\n",
       "      <td>acc_xg_skew</td>\n",
       "      <td>1477.942782</td>\n",
       "      <td>16756</td>\n",
       "    </tr>\n",
       "    <tr>\n",
       "      <th>46</th>\n",
       "      <td>accg_std</td>\n",
       "      <td>1471.865276</td>\n",
       "      <td>7134</td>\n",
       "    </tr>\n",
       "    <tr>\n",
       "      <th>16</th>\n",
       "      <td>acc_z_std</td>\n",
       "      <td>1346.246318</td>\n",
       "      <td>7399</td>\n",
       "    </tr>\n",
       "    <tr>\n",
       "      <th>40</th>\n",
       "      <td>acc_std</td>\n",
       "      <td>1300.307026</td>\n",
       "      <td>6379</td>\n",
       "    </tr>\n",
       "    <tr>\n",
       "      <th>31</th>\n",
       "      <td>acc_zg_max</td>\n",
       "      <td>1288.307960</td>\n",
       "      <td>9117</td>\n",
       "    </tr>\n",
       "    <tr>\n",
       "      <th>5</th>\n",
       "      <td>acc_x_skew</td>\n",
       "      <td>1273.812363</td>\n",
       "      <td>16207</td>\n",
       "    </tr>\n",
       "    <tr>\n",
       "      <th>42</th>\n",
       "      <td>accg_min</td>\n",
       "      <td>1193.548545</td>\n",
       "      <td>9751</td>\n",
       "    </tr>\n",
       "    <tr>\n",
       "      <th>36</th>\n",
       "      <td>acc_min</td>\n",
       "      <td>1092.955342</td>\n",
       "      <td>4441</td>\n",
       "    </tr>\n",
       "    <tr>\n",
       "      <th>35</th>\n",
       "      <td>acc_zg_skew</td>\n",
       "      <td>1087.829041</td>\n",
       "      <td>13921</td>\n",
       "    </tr>\n",
       "    <tr>\n",
       "      <th>47</th>\n",
       "      <td>accg_skew</td>\n",
       "      <td>1077.232179</td>\n",
       "      <td>13666</td>\n",
       "    </tr>\n",
       "    <tr>\n",
       "      <th>17</th>\n",
       "      <td>acc_z_skew</td>\n",
       "      <td>1064.451434</td>\n",
       "      <td>14105</td>\n",
       "    </tr>\n",
       "    <tr>\n",
       "      <th>6</th>\n",
       "      <td>acc_y_min</td>\n",
       "      <td>996.967034</td>\n",
       "      <td>4307</td>\n",
       "    </tr>\n",
       "    <tr>\n",
       "      <th>43</th>\n",
       "      <td>accg_max</td>\n",
       "      <td>827.940007</td>\n",
       "      <td>8397</td>\n",
       "    </tr>\n",
       "    <tr>\n",
       "      <th>1</th>\n",
       "      <td>acc_x_max</td>\n",
       "      <td>779.443661</td>\n",
       "      <td>4896</td>\n",
       "    </tr>\n",
       "    <tr>\n",
       "      <th>37</th>\n",
       "      <td>acc_max</td>\n",
       "      <td>641.831185</td>\n",
       "      <td>5524</td>\n",
       "    </tr>\n",
       "    <tr>\n",
       "      <th>0</th>\n",
       "      <td>acc_x_min</td>\n",
       "      <td>557.527840</td>\n",
       "      <td>4517</td>\n",
       "    </tr>\n",
       "    <tr>\n",
       "      <th>12</th>\n",
       "      <td>acc_z_min</td>\n",
       "      <td>468.603489</td>\n",
       "      <td>4384</td>\n",
       "    </tr>\n",
       "    <tr>\n",
       "      <th>9</th>\n",
       "      <td>acc_y_median</td>\n",
       "      <td>346.888869</td>\n",
       "      <td>2275</td>\n",
       "    </tr>\n",
       "    <tr>\n",
       "      <th>13</th>\n",
       "      <td>acc_z_max</td>\n",
       "      <td>346.460109</td>\n",
       "      <td>3529</td>\n",
       "    </tr>\n",
       "    <tr>\n",
       "      <th>3</th>\n",
       "      <td>acc_x_median</td>\n",
       "      <td>334.402023</td>\n",
       "      <td>3020</td>\n",
       "    </tr>\n",
       "    <tr>\n",
       "      <th>15</th>\n",
       "      <td>acc_z_median</td>\n",
       "      <td>322.202815</td>\n",
       "      <td>3181</td>\n",
       "    </tr>\n",
       "  </tbody>\n",
       "</table>\n",
       "</div>"
      ],
      "text/plain": [
       "             feat         gain  split\n",
       "25     acc_yg_max  9355.456782  14224\n",
       "39     acc_median  8799.601447  10904\n",
       "24     acc_yg_min  7910.470309  16734\n",
       "28     acc_yg_std  7166.229267  15212\n",
       "10      acc_y_std  6494.557421  14498\n",
       "26    acc_yg_mean  5972.458362  16512\n",
       "32    acc_zg_mean  5636.713321  17169\n",
       "44      accg_mean  5529.527941  23771\n",
       "20    acc_xg_mean  5424.921720  18770\n",
       "19     acc_xg_max  4925.722524  14545\n",
       "22     acc_xg_std  4314.354954  15351\n",
       "27  acc_yg_median  3824.460978  10979\n",
       "45    accg_median  3625.301158  20763\n",
       "30     acc_zg_min  3610.067122  10908\n",
       "21  acc_xg_median  3560.630760  11803\n",
       "18     acc_xg_min  3478.204894  14198\n",
       "8      acc_y_mean  3287.453714  19969\n",
       "2      acc_x_mean  2785.699606  20212\n",
       "4       acc_x_std  2781.345586  10889\n",
       "33  acc_zg_median  2737.376870   8741\n",
       "34     acc_zg_std  2404.893300   8193\n",
       "38       acc_mean  2352.090557   6513\n",
       "14     acc_z_mean  2163.237084  18562\n",
       "41       acc_skew  1677.773258  16780\n",
       "11     acc_y_skew  1560.294262  16559\n",
       "29    acc_yg_skew  1520.329550  16541\n",
       "7       acc_y_max  1513.946394   4974\n",
       "23    acc_xg_skew  1477.942782  16756\n",
       "46       accg_std  1471.865276   7134\n",
       "16      acc_z_std  1346.246318   7399\n",
       "40        acc_std  1300.307026   6379\n",
       "31     acc_zg_max  1288.307960   9117\n",
       "5      acc_x_skew  1273.812363  16207\n",
       "42       accg_min  1193.548545   9751\n",
       "36        acc_min  1092.955342   4441\n",
       "35    acc_zg_skew  1087.829041  13921\n",
       "47      accg_skew  1077.232179  13666\n",
       "17     acc_z_skew  1064.451434  14105\n",
       "6       acc_y_min   996.967034   4307\n",
       "43       accg_max   827.940007   8397\n",
       "1       acc_x_max   779.443661   4896\n",
       "37        acc_max   641.831185   5524\n",
       "0       acc_x_min   557.527840   4517\n",
       "12      acc_z_min   468.603489   4384\n",
       "9    acc_y_median   346.888869   2275\n",
       "13      acc_z_max   346.460109   3529\n",
       "3    acc_x_median   334.402023   3020\n",
       "15   acc_z_median   322.202815   3181"
      ]
     },
     "execution_count": 9,
     "metadata": {},
     "output_type": "execute_result"
    },
    {
     "data": {
      "text/html": [
       "<div>\n",
       "<style scoped>\n",
       "    .dataframe tbody tr th:only-of-type {\n",
       "        vertical-align: middle;\n",
       "    }\n",
       "\n",
       "    .dataframe tbody tr th {\n",
       "        vertical-align: top;\n",
       "    }\n",
       "\n",
       "    .dataframe thead th {\n",
       "        text-align: right;\n",
       "    }\n",
       "</style>\n",
       "<table border=\"1\" class=\"dataframe\">\n",
       "  <thead>\n",
       "    <tr style=\"text-align: right;\">\n",
       "      <th></th>\n",
       "      <th>feat</th>\n",
       "      <th>gain</th>\n",
       "      <th>split</th>\n",
       "    </tr>\n",
       "  </thead>\n",
       "  <tbody>\n",
       "    <tr>\n",
       "      <th>44</th>\n",
       "      <td>accg_mean</td>\n",
       "      <td>5529.527941</td>\n",
       "      <td>23771</td>\n",
       "    </tr>\n",
       "    <tr>\n",
       "      <th>45</th>\n",
       "      <td>accg_median</td>\n",
       "      <td>3625.301158</td>\n",
       "      <td>20763</td>\n",
       "    </tr>\n",
       "    <tr>\n",
       "      <th>2</th>\n",
       "      <td>acc_x_mean</td>\n",
       "      <td>2785.699606</td>\n",
       "      <td>20212</td>\n",
       "    </tr>\n",
       "    <tr>\n",
       "      <th>8</th>\n",
       "      <td>acc_y_mean</td>\n",
       "      <td>3287.453714</td>\n",
       "      <td>19969</td>\n",
       "    </tr>\n",
       "    <tr>\n",
       "      <th>20</th>\n",
       "      <td>acc_xg_mean</td>\n",
       "      <td>5424.921720</td>\n",
       "      <td>18770</td>\n",
       "    </tr>\n",
       "    <tr>\n",
       "      <th>14</th>\n",
       "      <td>acc_z_mean</td>\n",
       "      <td>2163.237084</td>\n",
       "      <td>18562</td>\n",
       "    </tr>\n",
       "    <tr>\n",
       "      <th>32</th>\n",
       "      <td>acc_zg_mean</td>\n",
       "      <td>5636.713321</td>\n",
       "      <td>17169</td>\n",
       "    </tr>\n",
       "    <tr>\n",
       "      <th>41</th>\n",
       "      <td>acc_skew</td>\n",
       "      <td>1677.773258</td>\n",
       "      <td>16780</td>\n",
       "    </tr>\n",
       "    <tr>\n",
       "      <th>23</th>\n",
       "      <td>acc_xg_skew</td>\n",
       "      <td>1477.942782</td>\n",
       "      <td>16756</td>\n",
       "    </tr>\n",
       "    <tr>\n",
       "      <th>24</th>\n",
       "      <td>acc_yg_min</td>\n",
       "      <td>7910.470309</td>\n",
       "      <td>16734</td>\n",
       "    </tr>\n",
       "    <tr>\n",
       "      <th>11</th>\n",
       "      <td>acc_y_skew</td>\n",
       "      <td>1560.294262</td>\n",
       "      <td>16559</td>\n",
       "    </tr>\n",
       "    <tr>\n",
       "      <th>29</th>\n",
       "      <td>acc_yg_skew</td>\n",
       "      <td>1520.329550</td>\n",
       "      <td>16541</td>\n",
       "    </tr>\n",
       "    <tr>\n",
       "      <th>26</th>\n",
       "      <td>acc_yg_mean</td>\n",
       "      <td>5972.458362</td>\n",
       "      <td>16512</td>\n",
       "    </tr>\n",
       "    <tr>\n",
       "      <th>5</th>\n",
       "      <td>acc_x_skew</td>\n",
       "      <td>1273.812363</td>\n",
       "      <td>16207</td>\n",
       "    </tr>\n",
       "    <tr>\n",
       "      <th>22</th>\n",
       "      <td>acc_xg_std</td>\n",
       "      <td>4314.354954</td>\n",
       "      <td>15351</td>\n",
       "    </tr>\n",
       "    <tr>\n",
       "      <th>28</th>\n",
       "      <td>acc_yg_std</td>\n",
       "      <td>7166.229267</td>\n",
       "      <td>15212</td>\n",
       "    </tr>\n",
       "    <tr>\n",
       "      <th>19</th>\n",
       "      <td>acc_xg_max</td>\n",
       "      <td>4925.722524</td>\n",
       "      <td>14545</td>\n",
       "    </tr>\n",
       "    <tr>\n",
       "      <th>10</th>\n",
       "      <td>acc_y_std</td>\n",
       "      <td>6494.557421</td>\n",
       "      <td>14498</td>\n",
       "    </tr>\n",
       "    <tr>\n",
       "      <th>25</th>\n",
       "      <td>acc_yg_max</td>\n",
       "      <td>9355.456782</td>\n",
       "      <td>14224</td>\n",
       "    </tr>\n",
       "    <tr>\n",
       "      <th>18</th>\n",
       "      <td>acc_xg_min</td>\n",
       "      <td>3478.204894</td>\n",
       "      <td>14198</td>\n",
       "    </tr>\n",
       "    <tr>\n",
       "      <th>17</th>\n",
       "      <td>acc_z_skew</td>\n",
       "      <td>1064.451434</td>\n",
       "      <td>14105</td>\n",
       "    </tr>\n",
       "    <tr>\n",
       "      <th>35</th>\n",
       "      <td>acc_zg_skew</td>\n",
       "      <td>1087.829041</td>\n",
       "      <td>13921</td>\n",
       "    </tr>\n",
       "    <tr>\n",
       "      <th>47</th>\n",
       "      <td>accg_skew</td>\n",
       "      <td>1077.232179</td>\n",
       "      <td>13666</td>\n",
       "    </tr>\n",
       "    <tr>\n",
       "      <th>21</th>\n",
       "      <td>acc_xg_median</td>\n",
       "      <td>3560.630760</td>\n",
       "      <td>11803</td>\n",
       "    </tr>\n",
       "    <tr>\n",
       "      <th>27</th>\n",
       "      <td>acc_yg_median</td>\n",
       "      <td>3824.460978</td>\n",
       "      <td>10979</td>\n",
       "    </tr>\n",
       "    <tr>\n",
       "      <th>30</th>\n",
       "      <td>acc_zg_min</td>\n",
       "      <td>3610.067122</td>\n",
       "      <td>10908</td>\n",
       "    </tr>\n",
       "    <tr>\n",
       "      <th>39</th>\n",
       "      <td>acc_median</td>\n",
       "      <td>8799.601447</td>\n",
       "      <td>10904</td>\n",
       "    </tr>\n",
       "    <tr>\n",
       "      <th>4</th>\n",
       "      <td>acc_x_std</td>\n",
       "      <td>2781.345586</td>\n",
       "      <td>10889</td>\n",
       "    </tr>\n",
       "    <tr>\n",
       "      <th>42</th>\n",
       "      <td>accg_min</td>\n",
       "      <td>1193.548545</td>\n",
       "      <td>9751</td>\n",
       "    </tr>\n",
       "    <tr>\n",
       "      <th>31</th>\n",
       "      <td>acc_zg_max</td>\n",
       "      <td>1288.307960</td>\n",
       "      <td>9117</td>\n",
       "    </tr>\n",
       "    <tr>\n",
       "      <th>33</th>\n",
       "      <td>acc_zg_median</td>\n",
       "      <td>2737.376870</td>\n",
       "      <td>8741</td>\n",
       "    </tr>\n",
       "    <tr>\n",
       "      <th>43</th>\n",
       "      <td>accg_max</td>\n",
       "      <td>827.940007</td>\n",
       "      <td>8397</td>\n",
       "    </tr>\n",
       "    <tr>\n",
       "      <th>34</th>\n",
       "      <td>acc_zg_std</td>\n",
       "      <td>2404.893300</td>\n",
       "      <td>8193</td>\n",
       "    </tr>\n",
       "    <tr>\n",
       "      <th>16</th>\n",
       "      <td>acc_z_std</td>\n",
       "      <td>1346.246318</td>\n",
       "      <td>7399</td>\n",
       "    </tr>\n",
       "    <tr>\n",
       "      <th>46</th>\n",
       "      <td>accg_std</td>\n",
       "      <td>1471.865276</td>\n",
       "      <td>7134</td>\n",
       "    </tr>\n",
       "    <tr>\n",
       "      <th>38</th>\n",
       "      <td>acc_mean</td>\n",
       "      <td>2352.090557</td>\n",
       "      <td>6513</td>\n",
       "    </tr>\n",
       "    <tr>\n",
       "      <th>40</th>\n",
       "      <td>acc_std</td>\n",
       "      <td>1300.307026</td>\n",
       "      <td>6379</td>\n",
       "    </tr>\n",
       "    <tr>\n",
       "      <th>37</th>\n",
       "      <td>acc_max</td>\n",
       "      <td>641.831185</td>\n",
       "      <td>5524</td>\n",
       "    </tr>\n",
       "    <tr>\n",
       "      <th>7</th>\n",
       "      <td>acc_y_max</td>\n",
       "      <td>1513.946394</td>\n",
       "      <td>4974</td>\n",
       "    </tr>\n",
       "    <tr>\n",
       "      <th>1</th>\n",
       "      <td>acc_x_max</td>\n",
       "      <td>779.443661</td>\n",
       "      <td>4896</td>\n",
       "    </tr>\n",
       "    <tr>\n",
       "      <th>0</th>\n",
       "      <td>acc_x_min</td>\n",
       "      <td>557.527840</td>\n",
       "      <td>4517</td>\n",
       "    </tr>\n",
       "    <tr>\n",
       "      <th>36</th>\n",
       "      <td>acc_min</td>\n",
       "      <td>1092.955342</td>\n",
       "      <td>4441</td>\n",
       "    </tr>\n",
       "    <tr>\n",
       "      <th>12</th>\n",
       "      <td>acc_z_min</td>\n",
       "      <td>468.603489</td>\n",
       "      <td>4384</td>\n",
       "    </tr>\n",
       "    <tr>\n",
       "      <th>6</th>\n",
       "      <td>acc_y_min</td>\n",
       "      <td>996.967034</td>\n",
       "      <td>4307</td>\n",
       "    </tr>\n",
       "    <tr>\n",
       "      <th>13</th>\n",
       "      <td>acc_z_max</td>\n",
       "      <td>346.460109</td>\n",
       "      <td>3529</td>\n",
       "    </tr>\n",
       "    <tr>\n",
       "      <th>15</th>\n",
       "      <td>acc_z_median</td>\n",
       "      <td>322.202815</td>\n",
       "      <td>3181</td>\n",
       "    </tr>\n",
       "    <tr>\n",
       "      <th>3</th>\n",
       "      <td>acc_x_median</td>\n",
       "      <td>334.402023</td>\n",
       "      <td>3020</td>\n",
       "    </tr>\n",
       "    <tr>\n",
       "      <th>9</th>\n",
       "      <td>acc_y_median</td>\n",
       "      <td>346.888869</td>\n",
       "      <td>2275</td>\n",
       "    </tr>\n",
       "  </tbody>\n",
       "</table>\n",
       "</div>"
      ],
      "text/plain": [
       "             feat         gain  split\n",
       "44      accg_mean  5529.527941  23771\n",
       "45    accg_median  3625.301158  20763\n",
       "2      acc_x_mean  2785.699606  20212\n",
       "8      acc_y_mean  3287.453714  19969\n",
       "20    acc_xg_mean  5424.921720  18770\n",
       "14     acc_z_mean  2163.237084  18562\n",
       "32    acc_zg_mean  5636.713321  17169\n",
       "41       acc_skew  1677.773258  16780\n",
       "23    acc_xg_skew  1477.942782  16756\n",
       "24     acc_yg_min  7910.470309  16734\n",
       "11     acc_y_skew  1560.294262  16559\n",
       "29    acc_yg_skew  1520.329550  16541\n",
       "26    acc_yg_mean  5972.458362  16512\n",
       "5      acc_x_skew  1273.812363  16207\n",
       "22     acc_xg_std  4314.354954  15351\n",
       "28     acc_yg_std  7166.229267  15212\n",
       "19     acc_xg_max  4925.722524  14545\n",
       "10      acc_y_std  6494.557421  14498\n",
       "25     acc_yg_max  9355.456782  14224\n",
       "18     acc_xg_min  3478.204894  14198\n",
       "17     acc_z_skew  1064.451434  14105\n",
       "35    acc_zg_skew  1087.829041  13921\n",
       "47      accg_skew  1077.232179  13666\n",
       "21  acc_xg_median  3560.630760  11803\n",
       "27  acc_yg_median  3824.460978  10979\n",
       "30     acc_zg_min  3610.067122  10908\n",
       "39     acc_median  8799.601447  10904\n",
       "4       acc_x_std  2781.345586  10889\n",
       "42       accg_min  1193.548545   9751\n",
       "31     acc_zg_max  1288.307960   9117\n",
       "33  acc_zg_median  2737.376870   8741\n",
       "43       accg_max   827.940007   8397\n",
       "34     acc_zg_std  2404.893300   8193\n",
       "16      acc_z_std  1346.246318   7399\n",
       "46       accg_std  1471.865276   7134\n",
       "38       acc_mean  2352.090557   6513\n",
       "40        acc_std  1300.307026   6379\n",
       "37        acc_max   641.831185   5524\n",
       "7       acc_y_max  1513.946394   4974\n",
       "1       acc_x_max   779.443661   4896\n",
       "0       acc_x_min   557.527840   4517\n",
       "36        acc_min  1092.955342   4441\n",
       "12      acc_z_min   468.603489   4384\n",
       "6       acc_y_min   996.967034   4307\n",
       "13      acc_z_max   346.460109   3529\n",
       "15   acc_z_median   322.202815   3181\n",
       "3    acc_x_median   334.402023   3020\n",
       "9    acc_y_median   346.888869   2275"
      ]
     },
     "execution_count": 9,
     "metadata": {},
     "output_type": "execute_result"
    }
   ],
   "source": [
    "imp['gain'] = imp[[f for f in imp.columns if 'gain' in f]].sum(axis=1) / folds\n",
    "imp['split'] = imp[[f for f in imp.columns if 'split' in f]].sum(axis=1)\n",
    "imp = imp.sort_values(by=['gain'], ascending=False)\n",
    "imp[['feat', 'gain', 'split']]\n",
    "imp = imp.sort_values(by=['split'], ascending=False)\n",
    "imp[['feat', 'gain', 'split']]"
   ]
  },
  {
   "cell_type": "code",
   "execution_count": 10,
   "metadata": {
    "ExecuteTime": {
     "end_time": "2020-06-23T09:24:52.132711Z",
     "start_time": "2020-06-23T09:24:52.125735Z"
    }
   },
   "outputs": [],
   "source": [
    "def acc_combo(y, y_pred):\n",
    "    # 数值ID与行为编码的对应关系\n",
    "    mapping = {0: 'A_0', 1: 'A_1', 2: 'A_2', 3: 'A_3', \n",
    "        4: 'D_4', 5: 'A_5', 6: 'B_1',7: 'B_5', \n",
    "        8: 'B_2', 9: 'B_3', 10: 'B_0', 11: 'A_6', \n",
    "        12: 'C_1', 13: 'C_3', 14: 'C_0', 15: 'B_6', \n",
    "        16: 'C_2', 17: 'C_5', 18: 'C_6'}\n",
    "    # 将行为ID转为编码\n",
    "    code_y, code_y_pred = mapping[y], mapping[y_pred]\n",
    "    if code_y == code_y_pred: #编码完全相同得分1.0\n",
    "        return 1.0\n",
    "    elif code_y.split(\"_\")[0] == code_y_pred.split(\"_\")[0]: #编码仅字母部分相同得分1.0/7\n",
    "        return 1.0/7\n",
    "    elif code_y.split(\"_\")[1] == code_y_pred.split(\"_\")[1]: #编码仅数字部分相同得分1.0/3\n",
    "        return 1.0/3\n",
    "    else:\n",
    "        return 0.0"
   ]
  },
  {
   "cell_type": "code",
   "execution_count": 11,
   "metadata": {
    "ExecuteTime": {
     "end_time": "2020-06-23T09:24:52.143677Z",
     "start_time": "2020-06-23T09:24:52.134703Z"
    }
   },
   "outputs": [],
   "source": [
    "labels = np.argmax(preds, axis=1)\n",
    "oof_y = np.argmax(oof_train, axis=1)"
   ]
  },
  {
   "cell_type": "code",
   "execution_count": 12,
   "metadata": {
    "ExecuteTime": {
     "end_time": "2020-06-23T09:24:52.153619Z",
     "start_time": "2020-06-23T09:24:52.145639Z"
    }
   },
   "outputs": [
    {
     "data": {
      "text/plain": [
       "0.73108"
      ]
     },
     "execution_count": 12,
     "metadata": {},
     "output_type": "execute_result"
    }
   ],
   "source": [
    "round(accuracy_score(train_y, oof_y), 5)"
   ]
  },
  {
   "cell_type": "code",
   "execution_count": 13,
   "metadata": {
    "ExecuteTime": {
     "end_time": "2020-06-23T09:24:52.175597Z",
     "start_time": "2020-06-23T09:24:52.155614Z"
    }
   },
   "outputs": [
    {
     "data": {
      "text/plain": [
       "0.77043"
      ]
     },
     "execution_count": 13,
     "metadata": {},
     "output_type": "execute_result"
    }
   ],
   "source": [
    "score = sum(acc_combo(y_true, y_pred) for y_true, y_pred in zip(train_y, oof_y)) / oof_y.shape[0]\n",
    "round(score, 5)"
   ]
  },
  {
   "cell_type": "code",
   "execution_count": 14,
   "metadata": {
    "ExecuteTime": {
     "end_time": "2020-06-23T09:24:52.634853Z",
     "start_time": "2020-06-23T09:24:52.177553Z"
    }
   },
   "outputs": [
    {
     "data": {
      "text/plain": [
       "<matplotlib.axes._subplots.AxesSubplot at 0x27227148ef0>"
      ]
     },
     "execution_count": 14,
     "metadata": {},
     "output_type": "execute_result"
    },
    {
     "data": {
      "image/png": "[encoded data removed]",
      "text/plain": [
       "<Figure size 432x288 with 1 Axes>"
      ]
     },
     "metadata": {
      "needs_background": "light"
     },
     "output_type": "display_data"
    },
    {
     "data": {
      "text/plain": [
       "<matplotlib.axes._subplots.AxesSubplot at 0x272293c9080>"
      ]
     },
     "execution_count": 14,
     "metadata": {},
     "output_type": "execute_result"
    },
    {
     "data": {
      "image/png": "[encoded data removed]",
      "text/plain": [
       "<Figure size 432x288 with 1 Axes>"
      ]
     },
     "metadata": {
      "needs_background": "light"
     },
     "output_type": "display_data"
    }
   ],
   "source": [
    "sub = pd.read_csv(data_path+'提交结果示例.csv')\n",
    "\n",
    "sub['behavior_id'] = labels\n",
    "\n",
    "vc = data_train['behavior_id'].value_counts().sort_index()\n",
    "sns.barplot(vc.index, vc.values)\n",
    "plt.show()\n",
    "vc = sub['behavior_id'].value_counts().sort_index()\n",
    "sns.barplot(vc.index, vc.values)\n",
    "plt.show()"
   ]
  },
  {
   "cell_type": "code",
   "execution_count": 15,
   "metadata": {
    "ExecuteTime": {
     "end_time": "2020-06-23T09:24:52.650821Z",
     "start_time": "2020-06-23T09:24:52.635809Z"
    }
   },
   "outputs": [],
   "source": [
    "sub.to_csv('../sub/sub_%.5f.csv' % score, index=False)"
   ]
  },
  {
   "cell_type": "code",
   "execution_count": null,
   "metadata": {},
   "outputs": [],
   "source": []
  }
 ],
 "metadata": {
  "kernelspec": {
   "display_name": "Python 3",
   "language": "python",
   "name": "python3"
  },
  "language_info": {
   "codemirror_mode": {
    "name": "ipython",
    "version": 3
   },
   "file_extension": ".py",
   "mimetype": "text/x-python",
   "name": "python",
   "nbconvert_exporter": "python",
   "pygments_lexer": "ipython3",
   "version": "3.7.3"
  },
  "toc": {
   "base_numbering": 1,
   "nav_menu": {},
   "number_sections": true,
   "sideBar": true,
   "skip_h1_title": false,
   "title_cell": "Table of Contents",
   "title_sidebar": "Contents",
   "toc_cell": false,
   "toc_position": {},
   "toc_section_display": true,
   "toc_window_display": false
  },
  "varInspector": {
   "cols": {
    "lenName": 16,
    "lenType": 16,
    "lenVar": 40
   },
   "kernels_config": {
    "python": {
     "delete_cmd_postfix": "",
     "delete_cmd_prefix": "del ",
     "library": "var_list.py",
     "varRefreshCmd": "print(var_dic_list())"
    },
    "r": {
     "delete_cmd_postfix": ") ",
     "delete_cmd_prefix": "rm(",
     "library": "var_list.r",
     "varRefreshCmd": "cat(var_dic_list()) "
    }
   },
   "types_to_exclude": [
    "module",
    "function",
    "builtin_function_or_method",
    "instance",
    "_Feature"
   ],
   "window_display": false
  }
 },
 "nbformat": 4,
 "nbformat_minor": 4
}
