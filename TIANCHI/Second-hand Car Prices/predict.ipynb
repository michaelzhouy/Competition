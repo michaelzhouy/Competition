{
 "cells": [
  {
   "cell_type": "code",
   "execution_count": 1,
   "metadata": {
    "ExecuteTime": {
     "end_time": "2020-04-26T15:38:23.142403Z",
     "start_time": "2020-04-26T15:38:19.802818Z"
    }
   },
   "outputs": [],
   "source": [
    "import numpy as np\n",
    "import pandas as pd\n",
    "from sklearn.model_selection import KFold\n",
    "from sklearn.metrics import mean_absolute_error\n",
    "import warnings\n",
    "warnings.filterwarnings('ignore')\n",
    "import gc\n",
    "\n",
    "import lightgbm as lgb\n",
    "from catboost import CatBoostRegressor"
   ]
  },
  {
   "cell_type": "code",
   "execution_count": 2,
   "metadata": {
    "ExecuteTime": {
     "end_time": "2020-04-26T15:38:23.747485Z",
     "start_time": "2020-04-26T15:38:23.142403Z"
    }
   },
   "outputs": [],
   "source": [
    "Train_data = pd.read_hdf('output/train_tree.h5', 'df')\n",
    "Test_data = pd.read_hdf('output/test_tree.h5', 'df')"
   ]
  },
  {
   "cell_type": "code",
   "execution_count": 3,
   "metadata": {
    "ExecuteTime": {
     "end_time": "2020-04-26T15:38:23.757032Z",
     "start_time": "2020-04-26T15:38:23.747485Z"
    }
   },
   "outputs": [],
   "source": [
    "numerical_cols = Train_data.columns\n",
    "feature_cols = [col for col in numerical_cols if col not in ['price','SaleID']]"
   ]
  },
  {
   "cell_type": "code",
   "execution_count": 4,
   "metadata": {
    "ExecuteTime": {
     "end_time": "2020-04-26T15:38:23.852784Z",
     "start_time": "2020-04-26T15:38:23.760031Z"
    }
   },
   "outputs": [
    {
     "name": "stdout",
     "output_type": "stream",
     "text": [
      "(149999, 83)\n",
      "(50000, 83)\n"
     ]
    }
   ],
   "source": [
    "X_data = Train_data[feature_cols]\n",
    "X_test = Test_data[feature_cols]\n",
    "print(X_data.shape)\n",
    "print(X_test.shape)"
   ]
  },
  {
   "cell_type": "code",
   "execution_count": 5,
   "metadata": {
    "ExecuteTime": {
     "end_time": "2020-04-26T15:38:24.208825Z",
     "start_time": "2020-04-26T15:38:23.854784Z"
    }
   },
   "outputs": [],
   "source": [
    "X_data = np.array(X_data)\n",
    "X_test = np.array(X_test)\n",
    "Y_data = np.array(Train_data['price'])"
   ]
  },
  {
   "cell_type": "code",
   "execution_count": 6,
   "metadata": {
    "ExecuteTime": {
     "end_time": "2020-04-26T15:38:24.217820Z",
     "start_time": "2020-04-26T15:38:24.210823Z"
    }
   },
   "outputs": [],
   "source": [
    "# 自定义损失函数\n",
    "def myFeval(preds, xgbtrain):\n",
    "    label = xgbtrain.get_label()\n",
    "    score = mean_absolute_error(np.expm1(label), np.expm1(preds))\n",
    "    return 'myFeval', score, False"
   ]
  },
  {
   "cell_type": "code",
   "execution_count": 7,
   "metadata": {
    "ExecuteTime": {
     "end_time": "2020-04-26T15:38:24.228815Z",
     "start_time": "2020-04-26T15:38:24.222818Z"
    }
   },
   "outputs": [],
   "source": [
    "param = {'boosting_type': 'gbdt',\n",
    "         'num_leaves': 31,\n",
    "         'max_depth': -1,\n",
    "         \"lambda_l2\": 2,  # 防止过拟合\n",
    "         'min_data_in_leaf': 20,  # 防止过拟合，好像都不用怎么调\n",
    "         'objective': 'regression_l1',\n",
    "         'learning_rate': 0.01,\n",
    "         \"min_child_samples\": 20,\n",
    "\n",
    "         \"feature_fraction\": 0.8,\n",
    "         \"bagging_freq\": 1,\n",
    "         \"bagging_fraction\": 0.8,\n",
    "         \"bagging_seed\": 11,\n",
    "         \"metric\": 'mae',\n",
    "         }"
   ]
  },
  {
   "cell_type": "code",
   "execution_count": null,
   "metadata": {
    "ExecuteTime": {
     "start_time": "2020-04-26T15:38:19.807Z"
    }
   },
   "outputs": [
    {
     "name": "stdout",
     "output_type": "stream",
     "text": [
      "fold n°1\n",
      "Training until validation scores don't improve for 600 rounds\n",
      "[300]\ttraining's l1: 0.20224\ttraining's myFeval: 1215.74\tvalid_1's l1: 0.206036\tvalid_1's myFeval: 1232.25\n"
     ]
    }
   ],
   "source": [
    "folds = KFold(n_splits=10, shuffle=True, random_state=2018)\n",
    "oof_lgb = np.zeros(len(X_data))\n",
    "predictions_lgb = np.zeros(len(X_test))\n",
    "predictions_train_lgb = np.zeros(len(X_data))\n",
    "for fold_, (trn_idx, val_idx) in enumerate(folds.split(X_data, Y_data)):\n",
    "    print(\"fold n°{}\".format(fold_ + 1))\n",
    "    trn_data = lgb.Dataset(X_data[trn_idx], Y_data[trn_idx])\n",
    "    val_data = lgb.Dataset(X_data[val_idx], Y_data[val_idx])\n",
    "\n",
    "    num_round = 100000000\n",
    "    clf = lgb.train(param, trn_data, num_round, valid_sets=[trn_data, val_data], verbose_eval=300,\n",
    "                    early_stopping_rounds=600, feval=myFeval)\n",
    "    oof_lgb[val_idx] = clf.predict(X_data[val_idx], num_iteration=clf.best_iteration)\n",
    "    predictions_lgb += clf.predict(X_test, num_iteration=clf.best_iteration) / folds.n_splits\n",
    "    predictions_train_lgb += clf.predict(X_data, num_iteration=clf.best_iteration) / folds.n_splits\n",
    "\n",
    "print(\"lightgbm score: {:<8.8f}\".format(mean_absolute_error(np.expm1(oof_lgb), np.expm1(Y_data))))"
   ]
  },
  {
   "cell_type": "code",
   "execution_count": null,
   "metadata": {
    "ExecuteTime": {
     "start_time": "2020-04-26T15:38:19.813Z"
    }
   },
   "outputs": [],
   "source": [
    "# 测试集输出\n",
    "predictions = predictions_lgb\n",
    "predictions[predictions < 0] = 0\n",
    "sub = pd.DataFrame()\n",
    "sub['SaleID'] = TestA_data.SaleID\n",
    "sub['price'] = predictions\n",
    "sub.to_csv('submit/lgb_test.csv', index=False)"
   ]
  },
  {
   "cell_type": "code",
   "execution_count": null,
   "metadata": {
    "ExecuteTime": {
     "start_time": "2020-04-26T15:38:19.817Z"
    }
   },
   "outputs": [],
   "source": [
    "oof_lgb[oof_lgb < 0] = 0\n",
    "sub = pd.DataFrame()\n",
    "sub['SaleID'] = Train_data.SaleID\n",
    "sub['price'] = oof_lgb\n",
    "sub.to_csv('submit/lgb_train.csv', index=False)"
   ]
  },
  {
   "cell_type": "code",
   "execution_count": null,
   "metadata": {
    "ExecuteTime": {
     "start_time": "2020-04-26T15:38:19.823Z"
    }
   },
   "outputs": [],
   "source": [
    "kfolder = KFold(n_splits=10, shuffle=True, random_state=2018)\n",
    "oof_cb = np.zeros(len(X_data))\n",
    "predictions_cb = np.zeros(len(X_test))\n",
    "predictions_train_cb = np.zeros(len(X_data))\n",
    "kfold = kfolder.split(X_data, Y_data)\n",
    "fold_ = 0\n",
    "for train_index, vali_index in kfold:\n",
    "    fold_ = fold_ + 1\n",
    "    print(\"fold n°{}\".format(fold_))\n",
    "    k_x_train = X_data[train_index]\n",
    "    k_y_train = Y_data[train_index]\n",
    "    k_x_vali = X_data[vali_index]\n",
    "    k_y_vali = Y_data[vali_index]\n",
    "    cb_params = {\n",
    "        'n_estimators': 100000000,\n",
    "        'loss_function': 'MAE',\n",
    "        'eval_metric': 'MAE',\n",
    "        'learning_rate': 0.01,\n",
    "        'depth': 6,\n",
    "        'use_best_model': True,\n",
    "        'subsample': 0.6,\n",
    "        'bootstrap_type': 'Bernoulli',\n",
    "        'reg_lambda': 3,\n",
    "        'one_hot_max_size': 2,\n",
    "    }\n",
    "    model_cb = CatBoostRegressor(**cb_params)\n",
    "    # train the model\n",
    "    model_cb.fit(k_x_train, k_y_train, eval_set=[(k_x_vali, k_y_vali)], verbose=300, early_stopping_rounds=600)\n",
    "    oof_cb[vali_index] = model_cb.predict(k_x_vali, ntree_end=model_cb.best_iteration_)\n",
    "    predictions_cb += model_cb.predict(X_test, ntree_end=model_cb.best_iteration_) / kfolder.n_splits\n",
    "    predictions_train_cb += model_cb.predict(X_data, ntree_end=model_cb.best_iteration_) / kfolder.n_splits\n",
    "\n",
    "print(\"catboost score: {:<8.8f}\".format(mean_absolute_error(np.expm1(oof_cb), np.expm1(Y_data))))"
   ]
  },
  {
   "cell_type": "code",
   "execution_count": null,
   "metadata": {
    "ExecuteTime": {
     "start_time": "2020-04-26T15:38:19.827Z"
    }
   },
   "outputs": [],
   "source": [
    "# 测试集输出\n",
    "predictions = predictions_cb\n",
    "predictions[predictions < 0] = 0\n",
    "sub = pd.DataFrame()\n",
    "sub['SaleID'] = TestA_data.SaleID\n",
    "sub['price'] = predictions\n",
    "sub.to_csv('submit/cab_test.csv', index=False)"
   ]
  },
  {
   "cell_type": "code",
   "execution_count": null,
   "metadata": {
    "ExecuteTime": {
     "start_time": "2020-04-26T15:38:19.830Z"
    }
   },
   "outputs": [],
   "source": [
    "# 验证集输出\n",
    "oof_cb[oof_cb < 0] = 0\n",
    "sub = pd.DataFrame()\n",
    "sub['SaleID'] = Train_data.SaleID\n",
    "sub['price'] = oof_cb\n",
    "sub.to_csv('submit/cab_train.csv', index=False)"
   ]
  },
  {
   "cell_type": "code",
   "execution_count": null,
   "metadata": {},
   "outputs": [],
   "source": []
  }
 ],
 "metadata": {
  "kernelspec": {
   "display_name": "Python 3",
   "language": "python",
   "name": "python3"
  },
  "language_info": {
   "codemirror_mode": {
    "name": "ipython",
    "version": 3
   },
   "file_extension": ".py",
   "mimetype": "text/x-python",
   "name": "python",
   "nbconvert_exporter": "python",
   "pygments_lexer": "ipython3",
   "version": "3.7.3"
  },
  "toc": {
   "base_numbering": 1,
   "nav_menu": {},
   "number_sections": true,
   "sideBar": true,
   "skip_h1_title": false,
   "title_cell": "Table of Contents",
   "title_sidebar": "Contents",
   "toc_cell": false,
   "toc_position": {},
   "toc_section_display": true,
   "toc_window_display": false
  },
  "varInspector": {
   "cols": {
    "lenName": 16,
    "lenType": 16,
    "lenVar": 40
   },
   "kernels_config": {
    "python": {
     "delete_cmd_postfix": "",
     "delete_cmd_prefix": "del ",
     "library": "var_list.py",
     "varRefreshCmd": "print(var_dic_list())"
    },
    "r": {
     "delete_cmd_postfix": ") ",
     "delete_cmd_prefix": "rm(",
     "library": "var_list.r",
     "varRefreshCmd": "cat(var_dic_list()) "
    }
   },
   "types_to_exclude": [
    "module",
    "function",
    "builtin_function_or_method",
    "instance",
    "_Feature"
   ],
   "window_display": false
  }
 },
 "nbformat": 4,
 "nbformat_minor": 2
}
