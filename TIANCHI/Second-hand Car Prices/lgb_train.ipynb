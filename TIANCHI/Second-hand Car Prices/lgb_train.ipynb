{
 "cells": [
  {
   "cell_type": "code",
   "execution_count": 1,
   "metadata": {
    "ExecuteTime": {
     "end_time": "2020-04-28T15:20:28.518797Z",
     "start_time": "2020-04-28T15:20:24.386782Z"
    }
   },
   "outputs": [],
   "source": [
    "import numpy as np\n",
    "import pandas as pd\n",
    "import matplotlib.pyplot as plt\n",
    "import time\n",
    "from tqdm import tqdm\n",
    "import itertools\n",
    "import warnings\n",
    "\n",
    "%matplotlib inline\n",
    "warnings.filterwarnings('ignore')\n",
    "pd.set_option('max_columns', None)\n",
    "pd.set_option('max_rows', None)\n",
    "\n",
    "from sklearn import preprocessing\n",
    "from sklearn.decomposition import PCA\n",
    "from sklearn.model_selection import StratifiedKFold, KFold\n",
    "from sklearn.metrics import mean_absolute_error, mean_squared_error\n",
    "\n",
    "import lightgbm as lgb"
   ]
  },
  {
   "cell_type": "code",
   "execution_count": 2,
   "metadata": {
    "ExecuteTime": {
     "end_time": "2020-04-28T15:20:28.576771Z",
     "start_time": "2020-04-28T15:20:28.532788Z"
    }
   },
   "outputs": [],
   "source": [
    "# 读文件\n",
    "def reduce_mem_usage(df):\n",
    "\t\"\"\"\n",
    "\titerate through all the columns of a dataframe and modify the data type to reduce memory usage.\n",
    "\t:param df:\n",
    "\t:return:\n",
    "\t\"\"\"\n",
    "\tstart_mem = df.memory_usage().sum()\n",
    "\tprint('Memory usage of dataframe is {:.2f} MB'.format(start_mem))\n",
    "\n",
    "\tfor col in df.columns:\n",
    "\t\tcol_type = df[col].dtype\n",
    "\n",
    "\t\tif col_type != object:\n",
    "\t\t\tc_min = df[col].min()\n",
    "\t\t\tc_max = df[col].max()\n",
    "\t\t\tif str(col_type)[:3] == 'int':\n",
    "\t\t\t\tif c_min > np.iinfo(np.int8).min and c_max < np.iinfo(np.int8).max:\n",
    "\t\t\t\t\tdf[col] = df[col].astype(np.int8)\n",
    "\t\t\t\telif c_min > np.iinfo(np.int16).min and c_max < np.iinfo(np.int16).max:\n",
    "\t\t\t\t\tdf[col] = df[col].astype(np.int16)\n",
    "\t\t\t\telif c_min > np.iinfo(np.int32).min and c_max < np.iinfo(np.int32).max:\n",
    "\t\t\t\t\tdf[col] = df[col].astype(np.int32)\n",
    "\t\t\t\telif c_min > np.iinfo(np.int64).min and c_max < np.iinfo(np.int64).max:\n",
    "\t\t\t\t\tdf[col] = df[col].astype(np.int64)\n",
    "\t\t\telse:\n",
    "\t\t\t\tif c_min > np.finfo(np.float16).min and c_max < np.finfo(np.float16).max:\n",
    "\t\t\t\t\tdf[col] = df[col].astype(np.float16)\n",
    "\t\t\t\telif c_min > np.finfo(np.float32).min and c_max < np.finfo(np.float32).max:\n",
    "\t\t\t\t\tdf[col] = df[col].astype(np.float32)\n",
    "\t\t\t\telse:\n",
    "\t\t\t\t\tdf[col] = df[col].astype(np.float64)\n",
    "\t\telse:\n",
    "\t\t\tdf[col] = df[col].astype('category')\n",
    "\n",
    "\tend_mem = df.memory_usage().sum()\n",
    "\tprint('Memory usage after optimization is: {:.2f} MB'.format(end_mem))\n",
    "\tprint('Decreased by {:.1f}%'.format(100 * (start_mem - end_mem) / start_mem))\n",
    "\treturn df"
   ]
  },
  {
   "cell_type": "code",
   "execution_count": 3,
   "metadata": {
    "ExecuteTime": {
     "end_time": "2020-04-28T15:20:28.616741Z",
     "start_time": "2020-04-28T15:20:28.594752Z"
    }
   },
   "outputs": [],
   "source": [
    "def date_proc(x):\n",
    "    # '20200426' '20200026'\n",
    "    m = int(x[4:6])\n",
    "    if m == 0:\n",
    "        m = 1\n",
    "    return x[:4] + '-' + str(m) + '-' + x[6:]\n",
    "\n",
    "# 定义日期提取函数\n",
    "def date_tran(df,fea_col):\n",
    "    for f in tqdm(fea_col):\n",
    "        df[f] = pd.to_datetime(df[f].astype('str').apply(date_proc))\n",
    "        df[f + '_year'] = df[f].dt.year # 年份\n",
    "        df[f + '_month'] = df[f].dt.month # 月份\n",
    "        df[f + '_day'] = df[f].dt.day # 多少号\n",
    "        df[f + '_dayofweek'] = df[f].dt.dayofweek # 周几\n",
    "    return df\n",
    "\n",
    "# 分桶操作\n",
    "def cut_group(df, cols, num_bins=50):\n",
    "    for col in cols:\n",
    "#         all_range = int(df[col].max() - df[col].min())\n",
    "#         bin = [i * all_range / num_bins for i in range(num_bins)]\n",
    "        df[col + '_bin'] = pd.cut(df[col], num_bins, labels=False)\n",
    "    return df\n",
    "\n",
    "# count编码\n",
    "def count_coding(df, fea_col):\n",
    "    for f in fea_col:\n",
    "        df[f + '_count'] = df[f].map(df[f].value_counts())\n",
    "    return df\n",
    "\n",
    "# 定义交叉特征统计\n",
    "def cross_cat_num(df, num_col, cat_col):\n",
    "    for f1 in tqdm(cat_col):\n",
    "        g = df.groupby(f1, as_index=False)\n",
    "        for f2 in tqdm(num_col):\n",
    "            feat = g[f2].agg({\n",
    "                '{}_{}_max'.format(f1, f2): 'max', # 最大值\n",
    "                '{}_{}_min'.format(f1, f2): 'min', # 最小值\n",
    "                '{}_{}_median'.format(f1, f2): 'median', # 中位数\n",
    "            })\n",
    "            df = df.merge(feat, on=f1, how='left')\n",
    "    return df"
   ]
  },
  {
   "cell_type": "code",
   "execution_count": 4,
   "metadata": {
    "ExecuteTime": {
     "end_time": "2020-04-28T15:20:31.106018Z",
     "start_time": "2020-04-28T15:20:28.620738Z"
    }
   },
   "outputs": [
    {
     "name": "stdout",
     "output_type": "stream",
     "text": [
      "Memory usage of dataframe is 37200080.00 MB\n",
      "Memory usage after optimization is: 10200184.00 MB\n",
      "Decreased by 72.6%\n",
      "Memory usage of dataframe is 12000080.00 MB\n",
      "Memory usage after optimization is: 3200184.00 MB\n",
      "Decreased by 73.3%\n",
      "Train data shape: (150000, 31)\n",
      "TestA_data shape: (50000, 30)\n"
     ]
    }
   ],
   "source": [
    "Train_data = reduce_mem_usage(pd.read_csv('input/used_car_train_20200313.csv',\n",
    "                                          sep=' '))\n",
    "TestA_data = reduce_mem_usage(pd.read_csv('input/used_car_testB_20200421.csv',\n",
    "                                          sep=' '))\n",
    "\n",
    "print('Train data shape: {}'.format(Train_data.shape))\n",
    "print('TestA_data shape: {}'.format(TestA_data.shape))"
   ]
  },
  {
   "cell_type": "code",
   "execution_count": 5,
   "metadata": {
    "ExecuteTime": {
     "end_time": "2020-04-28T15:23:53.236629Z",
     "start_time": "2020-04-28T15:23:52.855000Z"
    }
   },
   "outputs": [],
   "source": [
    "# 合并数据集\n",
    "concat_data = pd.concat([Train_data, TestA_data],\n",
    "                        ignore_index=True) # 重新生成索引\n",
    "\n",
    "# 'notRepairedDamage'中的'-'用0替换\n",
    "concat_data['notRepairedDamage'] = concat_data['notRepairedDamage'].replace('-', 0).astype('float16')"
   ]
  },
  {
   "cell_type": "code",
   "execution_count": null,
   "metadata": {
    "ExecuteTime": {
     "start_time": "2020-04-28T15:29:43.118Z"
    }
   },
   "outputs": [],
   "source": [
    "# 每列中的缺失值用每列的众数填充\n",
    "concat_data = concat_data.fillna(concat_data.mode().iloc[0, :])"
   ]
  },
  {
   "cell_type": "code",
   "execution_count": null,
   "metadata": {},
   "outputs": [],
   "source": []
  }
 ],
 "metadata": {
  "kernelspec": {
   "display_name": "Python 3",
   "language": "python",
   "name": "python3"
  },
  "language_info": {
   "codemirror_mode": {
    "name": "ipython",
    "version": 3
   },
   "file_extension": ".py",
   "mimetype": "text/x-python",
   "name": "python",
   "nbconvert_exporter": "python",
   "pygments_lexer": "ipython3",
   "version": "3.7.3"
  },
  "toc": {
   "base_numbering": 1,
   "nav_menu": {},
   "number_sections": true,
   "sideBar": true,
   "skip_h1_title": false,
   "title_cell": "Table of Contents",
   "title_sidebar": "Contents",
   "toc_cell": false,
   "toc_position": {},
   "toc_section_display": true,
   "toc_window_display": false
  },
  "varInspector": {
   "cols": {
    "lenName": 16,
    "lenType": 16,
    "lenVar": 40
   },
   "kernels_config": {
    "python": {
     "delete_cmd_postfix": "",
     "delete_cmd_prefix": "del ",
     "library": "var_list.py",
     "varRefreshCmd": "print(var_dic_list())"
    },
    "r": {
     "delete_cmd_postfix": ") ",
     "delete_cmd_prefix": "rm(",
     "library": "var_list.r",
     "varRefreshCmd": "cat(var_dic_list()) "
    }
   },
   "types_to_exclude": [
    "module",
    "function",
    "builtin_function_or_method",
    "instance",
    "_Feature"
   ],
   "window_display": false
  }
 },
 "nbformat": 4,
 "nbformat_minor": 2
}
