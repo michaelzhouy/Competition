{
 "cells": [
  {
   "cell_type": "code",
   "execution_count": 1,
   "metadata": {
    "ExecuteTime": {
     "end_time": "2020-09-08T08:17:58.358152Z",
     "start_time": "2020-09-08T08:17:57.508473Z"
    }
   },
   "outputs": [],
   "source": [
    "import numpy as np\n",
    "import pandas as pd\n",
    "import matplotlib.pyplot as plt\n",
    "import banpei\n",
    "import warnings\n",
    "\n",
    "warnings.filterwarnings('ignore')"
   ]
  },
  {
   "cell_type": "code",
   "execution_count": 2,
   "metadata": {
    "ExecuteTime": {
     "end_time": "2020-09-08T08:17:58.666813Z",
     "start_time": "2020-09-08T08:17:58.359083Z"
    }
   },
   "outputs": [
    {
     "data": {
      "text/html": [
       "<div>\n",
       "<style scoped>\n",
       "    .dataframe tbody tr th:only-of-type {\n",
       "        vertical-align: middle;\n",
       "    }\n",
       "\n",
       "    .dataframe tbody tr th {\n",
       "        vertical-align: top;\n",
       "    }\n",
       "\n",
       "    .dataframe thead th {\n",
       "        text-align: right;\n",
       "    }\n",
       "</style>\n",
       "<table border=\"1\" class=\"dataframe\">\n",
       "  <thead>\n",
       "    <tr style=\"text-align: right;\">\n",
       "      <th></th>\n",
       "      <th>WindNumber</th>\n",
       "      <th>Time</th>\n",
       "      <th>WindSpeed</th>\n",
       "      <th>Power</th>\n",
       "      <th>RotorSpeed</th>\n",
       "    </tr>\n",
       "  </thead>\n",
       "  <tbody>\n",
       "    <tr>\n",
       "      <th>0</th>\n",
       "      <td>1</td>\n",
       "      <td>2017/11/1 0:20</td>\n",
       "      <td>4.188333</td>\n",
       "      <td>65.750000</td>\n",
       "      <td>5.779167</td>\n",
       "    </tr>\n",
       "    <tr>\n",
       "      <th>1</th>\n",
       "      <td>1</td>\n",
       "      <td>2017/11/1 0:30</td>\n",
       "      <td>4.042500</td>\n",
       "      <td>120.700000</td>\n",
       "      <td>8.636500</td>\n",
       "    </tr>\n",
       "    <tr>\n",
       "      <th>2</th>\n",
       "      <td>1</td>\n",
       "      <td>2017/11/1 0:40</td>\n",
       "      <td>4.137368</td>\n",
       "      <td>135.157895</td>\n",
       "      <td>8.668421</td>\n",
       "    </tr>\n",
       "    <tr>\n",
       "      <th>3</th>\n",
       "      <td>1</td>\n",
       "      <td>2017/11/1 0:50</td>\n",
       "      <td>4.274737</td>\n",
       "      <td>157.315789</td>\n",
       "      <td>8.727895</td>\n",
       "    </tr>\n",
       "    <tr>\n",
       "      <th>4</th>\n",
       "      <td>1</td>\n",
       "      <td>2017/11/1 1:00</td>\n",
       "      <td>4.108947</td>\n",
       "      <td>129.894737</td>\n",
       "      <td>8.656842</td>\n",
       "    </tr>\n",
       "  </tbody>\n",
       "</table>\n",
       "</div>"
      ],
      "text/plain": [
       "   WindNumber            Time  WindSpeed       Power  RotorSpeed\n",
       "0           1  2017/11/1 0:20   4.188333   65.750000    5.779167\n",
       "1           1  2017/11/1 0:30   4.042500  120.700000    8.636500\n",
       "2           1  2017/11/1 0:40   4.137368  135.157895    8.668421\n",
       "3           1  2017/11/1 0:50   4.274737  157.315789    8.727895\n",
       "4           1  2017/11/1 1:00   4.108947  129.894737    8.656842"
      ]
     },
     "execution_count": 2,
     "metadata": {},
     "output_type": "execute_result"
    }
   ],
   "source": [
    "df = pd.read_csv('../input/dataset.csv')\n",
    "df.head()"
   ]
  },
  {
   "cell_type": "code",
   "execution_count": 3,
   "metadata": {
    "ExecuteTime": {
     "end_time": "2020-09-08T08:17:58.733171Z",
     "start_time": "2020-09-08T08:17:58.667771Z"
    }
   },
   "outputs": [
    {
     "data": {
      "text/plain": [
       "((40727, 5),\n",
       " (38855, 5),\n",
       " (38995, 5),\n",
       " (44335, 5),\n",
       " (50962, 5),\n",
       " (45592, 5),\n",
       " (43324, 5),\n",
       " (38470, 5),\n",
       " (42824, 5),\n",
       " (30184, 5),\n",
       " (36848, 5),\n",
       " (46721, 5))"
      ]
     },
     "execution_count": 3,
     "metadata": {},
     "output_type": "execute_result"
    }
   ],
   "source": [
    "df1 = df.loc[df['WindNumber'] == 1, :]\n",
    "sub1 = df1[['WindNumber', 'Time']]\n",
    "\n",
    "df2 = df.loc[df['WindNumber'] == 2, :]\n",
    "sub2 = df2[['WindNumber', 'Time']]\n",
    "\n",
    "df3 = df.loc[df['WindNumber'] == 3, :]\n",
    "sub3 = df3[['WindNumber', 'Time']]\n",
    "\n",
    "df4 = df.loc[df['WindNumber'] == 4, :]\n",
    "sub4 = df4[['WindNumber', 'Time']]\n",
    "\n",
    "df5 = df.loc[df['WindNumber'] == 5, :]\n",
    "sub5 = df5[['WindNumber', 'Time']]\n",
    "\n",
    "df6 = df.loc[df['WindNumber'] == 6, :]\n",
    "sub6 = df6[['WindNumber', 'Time']]\n",
    "\n",
    "df7 = df.loc[df['WindNumber'] == 7, :]\n",
    "sub7 = df7[['WindNumber', 'Time']]\n",
    "\n",
    "df8 = df.loc[df['WindNumber'] == 8, :]\n",
    "sub8 = df8[['WindNumber', 'Time']]\n",
    "\n",
    "df9 = df.loc[df['WindNumber'] == 9, :]\n",
    "sub9 = df9[['WindNumber', 'Time']]\n",
    "\n",
    "df10 = df.loc[df['WindNumber'] == 10, :]\n",
    "sub10 = df10[['WindNumber', 'Time']]\n",
    "\n",
    "df11 = df.loc[df['WindNumber'] == 11, :]\n",
    "sub11 = df11[['WindNumber', 'Time']]\n",
    "\n",
    "df12 = df.loc[df['WindNumber'] == 12, :]\n",
    "sub12 = df12[['WindNumber', 'Time']]\n",
    "\n",
    "df1.shape, df2.shape, df3.shape, df4.shape, df5.shape, df6.shape, df7.shape, df8.shape, df9.shape, df10.shape, df11.shape, df12.shape"
   ]
  },
  {
   "cell_type": "code",
   "execution_count": 4,
   "metadata": {
    "ExecuteTime": {
     "end_time": "2020-09-08T08:17:58.739130Z",
     "start_time": "2020-09-08T08:17:58.734143Z"
    }
   },
   "outputs": [],
   "source": [
    "data1 = df1['RotorSpeed']\n",
    "data2 = df2['RotorSpeed']\n",
    "data3 = df3['RotorSpeed']\n",
    "data4 = df4['RotorSpeed']\n",
    "data5 = df5['RotorSpeed']\n",
    "data6 = df6['RotorSpeed']\n",
    "data7 = df7['RotorSpeed']\n",
    "data8 = df8['RotorSpeed']\n",
    "data9 = df9['RotorSpeed']\n",
    "data10 = df10['RotorSpeed']\n",
    "data11 = df11['RotorSpeed']\n",
    "data12 = df12['RotorSpeed']"
   ]
  },
  {
   "cell_type": "code",
   "execution_count": 5,
   "metadata": {
    "ExecuteTime": {
     "end_time": "2020-09-08T08:20:49.024653Z",
     "start_time": "2020-09-08T08:17:58.740127Z"
    }
   },
   "outputs": [],
   "source": [
    "model1 = banpei.SST(w=50)\n",
    "sub1['label'] = model1.detect(data1)\n",
    "\n",
    "model2 = banpei.SST(w=50)\n",
    "sub2['label'] = model2.detect(data2)\n",
    "\n",
    "model3 = banpei.SST(w=50)\n",
    "sub3['label'] = model3.detect(data3)\n",
    "\n",
    "model4 = banpei.SST(w=50)\n",
    "sub4['label'] = model4.detect(data4)\n",
    "\n",
    "model5 = banpei.SST(w=50)\n",
    "sub5['label'] = model5.detect(data5)\n",
    "\n",
    "model6 = banpei.SST(w=50)\n",
    "sub6['label'] = model6.detect(data6)\n",
    "\n",
    "model7 = banpei.SST(w=50)\n",
    "sub7['label'] = model7.detect(data7)\n",
    "\n",
    "model8 = banpei.SST(w=50)\n",
    "sub8['label'] = model8.detect(data8)\n",
    "\n",
    "model9 = banpei.SST(w=50)\n",
    "sub9['label'] = model9.detect(data9)\n",
    "\n",
    "model10 = banpei.SST(w=50)\n",
    "sub10['label'] = model10.detect(data10)\n",
    "\n",
    "model11 = banpei.SST(w=50)\n",
    "sub11['label'] = model11.detect(data11)\n",
    "\n",
    "model12 = banpei.SST(w=50)\n",
    "sub12['label'] = model12.detect(data12)"
   ]
  },
  {
   "cell_type": "code",
   "execution_count": 6,
   "metadata": {
    "ExecuteTime": {
     "end_time": "2020-09-08T08:20:49.047871Z",
     "start_time": "2020-09-08T08:20:49.026312Z"
    }
   },
   "outputs": [
    {
     "data": {
      "text/html": [
       "<div>\n",
       "<style scoped>\n",
       "    .dataframe tbody tr th:only-of-type {\n",
       "        vertical-align: middle;\n",
       "    }\n",
       "\n",
       "    .dataframe tbody tr th {\n",
       "        vertical-align: top;\n",
       "    }\n",
       "\n",
       "    .dataframe thead th {\n",
       "        text-align: right;\n",
       "    }\n",
       "</style>\n",
       "<table border=\"1\" class=\"dataframe\">\n",
       "  <thead>\n",
       "    <tr style=\"text-align: right;\">\n",
       "      <th></th>\n",
       "      <th>WindNumber</th>\n",
       "      <th>Time</th>\n",
       "      <th>label</th>\n",
       "    </tr>\n",
       "  </thead>\n",
       "  <tbody>\n",
       "    <tr>\n",
       "      <th>0</th>\n",
       "      <td>1</td>\n",
       "      <td>2017/11/1 0:20</td>\n",
       "      <td>0.0</td>\n",
       "    </tr>\n",
       "    <tr>\n",
       "      <th>1</th>\n",
       "      <td>1</td>\n",
       "      <td>2017/11/1 0:30</td>\n",
       "      <td>0.0</td>\n",
       "    </tr>\n",
       "    <tr>\n",
       "      <th>2</th>\n",
       "      <td>1</td>\n",
       "      <td>2017/11/1 0:40</td>\n",
       "      <td>0.0</td>\n",
       "    </tr>\n",
       "    <tr>\n",
       "      <th>3</th>\n",
       "      <td>1</td>\n",
       "      <td>2017/11/1 0:50</td>\n",
       "      <td>0.0</td>\n",
       "    </tr>\n",
       "    <tr>\n",
       "      <th>4</th>\n",
       "      <td>1</td>\n",
       "      <td>2017/11/1 1:00</td>\n",
       "      <td>0.0</td>\n",
       "    </tr>\n",
       "  </tbody>\n",
       "</table>\n",
       "</div>"
      ],
      "text/plain": [
       "   WindNumber            Time  label\n",
       "0           1  2017/11/1 0:20    0.0\n",
       "1           1  2017/11/1 0:30    0.0\n",
       "2           1  2017/11/1 0:40    0.0\n",
       "3           1  2017/11/1 0:50    0.0\n",
       "4           1  2017/11/1 1:00    0.0"
      ]
     },
     "execution_count": 6,
     "metadata": {},
     "output_type": "execute_result"
    }
   ],
   "source": [
    "sub = pd.concat([sub1, sub2, sub3, sub4, sub5, sub6, sub7, sub8, sub9, sub10, sub11, sub12], ignore_index=False, axis=0)\n",
    "sub.head()"
   ]
  },
  {
   "cell_type": "code",
   "execution_count": 7,
   "metadata": {
    "ExecuteTime": {
     "end_time": "2020-09-08T08:20:49.057799Z",
     "start_time": "2020-09-08T08:20:49.049821Z"
    }
   },
   "outputs": [
    {
     "data": {
      "text/plain": [
       "(459, 3)"
      ]
     },
     "execution_count": 7,
     "metadata": {},
     "output_type": "execute_result"
    }
   ],
   "source": [
    "sub[sub['label'] == 1].shape"
   ]
  },
  {
   "cell_type": "code",
   "execution_count": 8,
   "metadata": {
    "ExecuteTime": {
     "end_time": "2020-09-08T08:20:50.461455Z",
     "start_time": "2020-09-08T08:20:49.059794Z"
    }
   },
   "outputs": [],
   "source": [
    "sub.to_csv('../sub/sub_banpei.csv', index=False)"
   ]
  }
 ],
 "metadata": {
  "kernelspec": {
   "display_name": "Python 3",
   "language": "python",
   "name": "python3"
  },
  "language_info": {
   "codemirror_mode": {
    "name": "ipython",
    "version": 3
   },
   "file_extension": ".py",
   "mimetype": "text/x-python",
   "name": "python",
   "nbconvert_exporter": "python",
   "pygments_lexer": "ipython3",
   "version": "3.7.3"
  },
  "toc": {
   "base_numbering": 1,
   "nav_menu": {},
   "number_sections": true,
   "sideBar": true,
   "skip_h1_title": false,
   "title_cell": "Table of Contents",
   "title_sidebar": "Contents",
   "toc_cell": false,
   "toc_position": {},
   "toc_section_display": true,
   "toc_window_display": false
  },
  "varInspector": {
   "cols": {
    "lenName": 16,
    "lenType": 16,
    "lenVar": 40
   },
   "kernels_config": {
    "python": {
     "delete_cmd_postfix": "",
     "delete_cmd_prefix": "del ",
     "library": "var_list.py",
     "varRefreshCmd": "print(var_dic_list())"
    },
    "r": {
     "delete_cmd_postfix": ") ",
     "delete_cmd_prefix": "rm(",
     "library": "var_list.r",
     "varRefreshCmd": "cat(var_dic_list()) "
    }
   },
   "types_to_exclude": [
    "module",
    "function",
    "builtin_function_or_method",
    "instance",
    "_Feature"
   ],
   "window_display": false
  }
 },
 "nbformat": 4,
 "nbformat_minor": 4
}
