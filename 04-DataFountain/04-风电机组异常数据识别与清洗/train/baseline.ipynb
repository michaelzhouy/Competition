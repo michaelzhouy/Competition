{
 "cells": [
  {
   "cell_type": "code",
   "execution_count": 1,
   "metadata": {
    "ExecuteTime": {
     "end_time": "2020-09-07T14:55:05.324491Z",
     "start_time": "2020-09-07T14:55:02.981057Z"
    }
   },
   "outputs": [],
   "source": [
    "import numpy as np\n",
    "import pandas as pd\n",
    "import matplotlib.pyplot as plt\n",
    "from sklearn.ensemble import IsolationForest"
   ]
  },
  {
   "cell_type": "code",
   "execution_count": 2,
   "metadata": {
    "ExecuteTime": {
     "end_time": "2020-09-07T14:55:05.771688Z",
     "start_time": "2020-09-07T14:55:05.324491Z"
    }
   },
   "outputs": [
    {
     "data": {
      "text/html": [
       "<div>\n",
       "<style scoped>\n",
       "    .dataframe tbody tr th:only-of-type {\n",
       "        vertical-align: middle;\n",
       "    }\n",
       "\n",
       "    .dataframe tbody tr th {\n",
       "        vertical-align: top;\n",
       "    }\n",
       "\n",
       "    .dataframe thead th {\n",
       "        text-align: right;\n",
       "    }\n",
       "</style>\n",
       "<table border=\"1\" class=\"dataframe\">\n",
       "  <thead>\n",
       "    <tr style=\"text-align: right;\">\n",
       "      <th></th>\n",
       "      <th>WindNumber</th>\n",
       "      <th>Time</th>\n",
       "      <th>WindSpeed</th>\n",
       "      <th>Power</th>\n",
       "      <th>RotorSpeed</th>\n",
       "    </tr>\n",
       "  </thead>\n",
       "  <tbody>\n",
       "    <tr>\n",
       "      <th>0</th>\n",
       "      <td>1</td>\n",
       "      <td>2017/11/1 0:20</td>\n",
       "      <td>4.188333</td>\n",
       "      <td>65.750000</td>\n",
       "      <td>5.779167</td>\n",
       "    </tr>\n",
       "    <tr>\n",
       "      <th>1</th>\n",
       "      <td>1</td>\n",
       "      <td>2017/11/1 0:30</td>\n",
       "      <td>4.042500</td>\n",
       "      <td>120.700000</td>\n",
       "      <td>8.636500</td>\n",
       "    </tr>\n",
       "    <tr>\n",
       "      <th>2</th>\n",
       "      <td>1</td>\n",
       "      <td>2017/11/1 0:40</td>\n",
       "      <td>4.137368</td>\n",
       "      <td>135.157895</td>\n",
       "      <td>8.668421</td>\n",
       "    </tr>\n",
       "    <tr>\n",
       "      <th>3</th>\n",
       "      <td>1</td>\n",
       "      <td>2017/11/1 0:50</td>\n",
       "      <td>4.274737</td>\n",
       "      <td>157.315789</td>\n",
       "      <td>8.727895</td>\n",
       "    </tr>\n",
       "    <tr>\n",
       "      <th>4</th>\n",
       "      <td>1</td>\n",
       "      <td>2017/11/1 1:00</td>\n",
       "      <td>4.108947</td>\n",
       "      <td>129.894737</td>\n",
       "      <td>8.656842</td>\n",
       "    </tr>\n",
       "  </tbody>\n",
       "</table>\n",
       "</div>"
      ],
      "text/plain": [
       "   WindNumber            Time  WindSpeed       Power  RotorSpeed\n",
       "0           1  2017/11/1 0:20   4.188333   65.750000    5.779167\n",
       "1           1  2017/11/1 0:30   4.042500  120.700000    8.636500\n",
       "2           1  2017/11/1 0:40   4.137368  135.157895    8.668421\n",
       "3           1  2017/11/1 0:50   4.274737  157.315789    8.727895\n",
       "4           1  2017/11/1 1:00   4.108947  129.894737    8.656842"
      ]
     },
     "execution_count": 2,
     "metadata": {},
     "output_type": "execute_result"
    }
   ],
   "source": [
    "df = pd.read_csv('../input/dataset.csv')\n",
    "df.head()"
   ]
  },
  {
   "cell_type": "code",
   "execution_count": 3,
   "metadata": {
    "ExecuteTime": {
     "end_time": "2020-09-07T14:55:05.831652Z",
     "start_time": "2020-09-07T14:55:05.774685Z"
    }
   },
   "outputs": [
    {
     "name": "stdout",
     "output_type": "stream",
     "text": [
      "<class 'pandas.core.frame.DataFrame'>\n",
      "RangeIndex: 497837 entries, 0 to 497836\n",
      "Data columns (total 5 columns):\n",
      " #   Column      Non-Null Count   Dtype  \n",
      "---  ------      --------------   -----  \n",
      " 0   WindNumber  497837 non-null  int64  \n",
      " 1   Time        497837 non-null  object \n",
      " 2   WindSpeed   497837 non-null  float64\n",
      " 3   Power       497837 non-null  float64\n",
      " 4   RotorSpeed  497837 non-null  float64\n",
      "dtypes: float64(3), int64(1), object(1)\n",
      "memory usage: 19.0+ MB\n"
     ]
    }
   ],
   "source": [
    "df.info()"
   ]
  },
  {
   "cell_type": "code",
   "execution_count": 4,
   "metadata": {
    "ExecuteTime": {
     "end_time": "2020-09-07T14:55:05.857637Z",
     "start_time": "2020-09-07T14:55:05.835651Z"
    }
   },
   "outputs": [],
   "source": [
    "sub = df[['WindNumber', 'Time']]"
   ]
  },
  {
   "cell_type": "code",
   "execution_count": 5,
   "metadata": {
    "ExecuteTime": {
     "end_time": "2020-09-07T14:55:05.887619Z",
     "start_time": "2020-09-07T14:55:05.862645Z"
    }
   },
   "outputs": [],
   "source": [
    "df['Power_overload'] = np.where(df['Power'] > 2000, 1, 0)"
   ]
  },
  {
   "cell_type": "code",
   "execution_count": 6,
   "metadata": {
    "ExecuteTime": {
     "end_time": "2020-09-07T14:55:05.905609Z",
     "start_time": "2020-09-07T14:55:05.890618Z"
    }
   },
   "outputs": [],
   "source": [
    "def RotorSpeed_process(x):\n",
    "    if x['WindNumber'] in [1, 2, 3, 4, 6, 7, 8, 9, 10] and x['RotorSpeed'] > 16.8:\n",
    "        return 1\n",
    "    elif x['WindNumber'] == 5 and x['RotorSpeed'] > 19:\n",
    "        return 1\n",
    "    elif x['WindNumber'] == 11 and x['RotorSpeed'] > 14:\n",
    "        return 1\n",
    "    elif x['WindNumber'] == 12 and x['RotorSpeed'] > 17:\n",
    "        return 1\n",
    "    else:\n",
    "        return 0"
   ]
  },
  {
   "cell_type": "code",
   "execution_count": 7,
   "metadata": {
    "ExecuteTime": {
     "end_time": "2020-09-07T14:55:39.057593Z",
     "start_time": "2020-09-07T14:55:05.909606Z"
    }
   },
   "outputs": [],
   "source": [
    "df['RotorSpeed_overload'] = df.apply(RotorSpeed_process, axis=1)"
   ]
  },
  {
   "cell_type": "code",
   "execution_count": 8,
   "metadata": {
    "ExecuteTime": {
     "end_time": "2020-09-07T14:55:39.106823Z",
     "start_time": "2020-09-07T14:55:39.061774Z"
    }
   },
   "outputs": [],
   "source": [
    "df.drop(['Time'], axis=1, inplace=True)"
   ]
  },
  {
   "cell_type": "code",
   "execution_count": 9,
   "metadata": {
    "ExecuteTime": {
     "end_time": "2020-09-07T14:55:39.144800Z",
     "start_time": "2020-09-07T14:55:39.112820Z"
    }
   },
   "outputs": [
    {
     "name": "stdout",
     "output_type": "stream",
     "text": [
      "<class 'pandas.core.frame.DataFrame'>\n",
      "RangeIndex: 497837 entries, 0 to 497836\n",
      "Data columns (total 6 columns):\n",
      " #   Column               Non-Null Count   Dtype  \n",
      "---  ------               --------------   -----  \n",
      " 0   WindNumber           497837 non-null  int64  \n",
      " 1   WindSpeed            497837 non-null  float64\n",
      " 2   Power                497837 non-null  float64\n",
      " 3   RotorSpeed           497837 non-null  float64\n",
      " 4   Power_overload       497837 non-null  int32  \n",
      " 5   RotorSpeed_overload  497837 non-null  int64  \n",
      "dtypes: float64(3), int32(1), int64(2)\n",
      "memory usage: 20.9 MB\n"
     ]
    }
   ],
   "source": [
    "df.info()"
   ]
  },
  {
   "cell_type": "code",
   "execution_count": 10,
   "metadata": {
    "ExecuteTime": {
     "end_time": "2020-09-07T14:55:39.170785Z",
     "start_time": "2020-09-07T14:55:39.146807Z"
    }
   },
   "outputs": [],
   "source": [
    "X = np.asarray(df)"
   ]
  },
  {
   "cell_type": "code",
   "execution_count": 11,
   "metadata": {
    "ExecuteTime": {
     "end_time": "2020-09-07T14:56:19.571734Z",
     "start_time": "2020-09-07T14:55:39.175782Z"
    }
   },
   "outputs": [],
   "source": [
    "clf = IsolationForest(n_estimators=200,\n",
    "                      random_state=2020,\n",
    "                      n_jobs=-1)\n",
    "clf.fit(X)\n",
    "y_pred = clf.predict(X)"
   ]
  },
  {
   "cell_type": "code",
   "execution_count": 12,
   "metadata": {
    "ExecuteTime": {
     "end_time": "2020-09-07T14:56:19.580819Z",
     "start_time": "2020-09-07T14:56:19.571734Z"
    }
   },
   "outputs": [],
   "source": [
    "y_pred = np.where(y_pred == -1, 0, 1)"
   ]
  },
  {
   "cell_type": "code",
   "execution_count": 13,
   "metadata": {
    "ExecuteTime": {
     "end_time": "2020-09-07T14:56:20.496195Z",
     "start_time": "2020-09-07T14:56:19.580819Z"
    }
   },
   "outputs": [
    {
     "name": "stderr",
     "output_type": "stream",
     "text": [
      "C:\\Users\\z\\Anaconda3\\lib\\site-packages\\ipykernel_launcher.py:1: SettingWithCopyWarning: \n",
      "A value is trying to be set on a copy of a slice from a DataFrame.\n",
      "Try using .loc[row_indexer,col_indexer] = value instead\n",
      "\n",
      "See the caveats in the documentation: https://pandas.pydata.org/pandas-docs/stable/user_guide/indexing.html#returning-a-view-versus-a-copy\n",
      "  \"\"\"Entry point for launching an IPython kernel.\n"
     ]
    }
   ],
   "source": [
    "sub['label'] = y_pred\n",
    "sub.to_csv('../sub/baseline.csv', index=False)"
   ]
  }
 ],
 "metadata": {
  "kernelspec": {
   "display_name": "Python 3",
   "language": "python",
   "name": "python3"
  },
  "language_info": {
   "codemirror_mode": {
    "name": "ipython",
    "version": 3
   },
   "file_extension": ".py",
   "mimetype": "text/x-python",
   "name": "python",
   "nbconvert_exporter": "python",
   "pygments_lexer": "ipython3",
   "version": "3.7.3"
  },
  "toc": {
   "base_numbering": 1,
   "nav_menu": {},
   "number_sections": true,
   "sideBar": true,
   "skip_h1_title": false,
   "title_cell": "Table of Contents",
   "title_sidebar": "Contents",
   "toc_cell": false,
   "toc_position": {},
   "toc_section_display": true,
   "toc_window_display": false
  },
  "varInspector": {
   "cols": {
    "lenName": 16,
    "lenType": 16,
    "lenVar": 40
   },
   "kernels_config": {
    "python": {
     "delete_cmd_postfix": "",
     "delete_cmd_prefix": "del ",
     "library": "var_list.py",
     "varRefreshCmd": "print(var_dic_list())"
    },
    "r": {
     "delete_cmd_postfix": ") ",
     "delete_cmd_prefix": "rm(",
     "library": "var_list.r",
     "varRefreshCmd": "cat(var_dic_list()) "
    }
   },
   "types_to_exclude": [
    "module",
    "function",
    "builtin_function_or_method",
    "instance",
    "_Feature"
   ],
   "window_display": false
  }
 },
 "nbformat": 4,
 "nbformat_minor": 2
}
