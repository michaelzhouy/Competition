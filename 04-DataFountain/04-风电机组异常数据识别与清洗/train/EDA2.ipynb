{
 "cells": [
  {
   "cell_type": "code",
   "execution_count": 1,
   "metadata": {
    "ExecuteTime": {
     "end_time": "2020-09-23T15:51:54.212781Z",
     "start_time": "2020-09-23T15:51:52.422312Z"
    }
   },
   "outputs": [
    {
     "name": "stderr",
     "output_type": "stream",
     "text": [
      "C:\\Users\\z\\Anaconda3\\lib\\site-packages\\statsmodels\\tools\\_testing.py:19: FutureWarning: pandas.util.testing is deprecated. Use the functions in the public API at pandas.testing instead.\n",
      "  import pandas.util.testing as tm\n"
     ]
    }
   ],
   "source": [
    "import numpy as np\n",
    "import pandas as pd\n",
    "import matplotlib.pyplot as plt\n",
    "import seaborn as sns\n",
    "from scipy import stats\n",
    "\n",
    "import warnings\n",
    "warnings.filterwarnings('ignore')\n",
    "%matplotlib inline"
   ]
  },
  {
   "cell_type": "code",
   "execution_count": 2,
   "metadata": {
    "ExecuteTime": {
     "end_time": "2020-09-23T15:51:55.079283Z",
     "start_time": "2020-09-23T15:51:54.215780Z"
    }
   },
   "outputs": [
    {
     "data": {
      "text/html": [
       "<div>\n",
       "<style scoped>\n",
       "    .dataframe tbody tr th:only-of-type {\n",
       "        vertical-align: middle;\n",
       "    }\n",
       "\n",
       "    .dataframe tbody tr th {\n",
       "        vertical-align: top;\n",
       "    }\n",
       "\n",
       "    .dataframe thead th {\n",
       "        text-align: right;\n",
       "    }\n",
       "</style>\n",
       "<table border=\"1\" class=\"dataframe\">\n",
       "  <thead>\n",
       "    <tr style=\"text-align: right;\">\n",
       "      <th></th>\n",
       "      <th>WindNumber</th>\n",
       "      <th>Time</th>\n",
       "      <th>WindSpeed</th>\n",
       "      <th>Power</th>\n",
       "      <th>RotorSpeed</th>\n",
       "    </tr>\n",
       "  </thead>\n",
       "  <tbody>\n",
       "    <tr>\n",
       "      <th>0</th>\n",
       "      <td>1</td>\n",
       "      <td>2017/11/1 0:20</td>\n",
       "      <td>4.188333</td>\n",
       "      <td>65.750000</td>\n",
       "      <td>5.779167</td>\n",
       "    </tr>\n",
       "    <tr>\n",
       "      <th>1</th>\n",
       "      <td>1</td>\n",
       "      <td>2017/11/1 0:30</td>\n",
       "      <td>4.042500</td>\n",
       "      <td>120.700000</td>\n",
       "      <td>8.636500</td>\n",
       "    </tr>\n",
       "    <tr>\n",
       "      <th>2</th>\n",
       "      <td>1</td>\n",
       "      <td>2017/11/1 0:40</td>\n",
       "      <td>4.137368</td>\n",
       "      <td>135.157895</td>\n",
       "      <td>8.668421</td>\n",
       "    </tr>\n",
       "    <tr>\n",
       "      <th>3</th>\n",
       "      <td>1</td>\n",
       "      <td>2017/11/1 0:50</td>\n",
       "      <td>4.274737</td>\n",
       "      <td>157.315789</td>\n",
       "      <td>8.727895</td>\n",
       "    </tr>\n",
       "    <tr>\n",
       "      <th>4</th>\n",
       "      <td>1</td>\n",
       "      <td>2017/11/1 1:00</td>\n",
       "      <td>4.108947</td>\n",
       "      <td>129.894737</td>\n",
       "      <td>8.656842</td>\n",
       "    </tr>\n",
       "  </tbody>\n",
       "</table>\n",
       "</div>"
      ],
      "text/plain": [
       "   WindNumber            Time  WindSpeed       Power  RotorSpeed\n",
       "0           1  2017/11/1 0:20   4.188333   65.750000    5.779167\n",
       "1           1  2017/11/1 0:30   4.042500  120.700000    8.636500\n",
       "2           1  2017/11/1 0:40   4.137368  135.157895    8.668421\n",
       "3           1  2017/11/1 0:50   4.274737  157.315789    8.727895\n",
       "4           1  2017/11/1 1:00   4.108947  129.894737    8.656842"
      ]
     },
     "execution_count": 2,
     "metadata": {},
     "output_type": "execute_result"
    }
   ],
   "source": [
    "df = pd.read_csv('../input/dataset.csv')\n",
    "sub = pd.read_csv('../input/submission.csv')\n",
    "df.head()"
   ]
  },
  {
   "cell_type": "code",
   "execution_count": 3,
   "metadata": {
    "ExecuteTime": {
     "end_time": "2020-09-23T15:51:55.191229Z",
     "start_time": "2020-09-23T15:51:55.084279Z"
    }
   },
   "outputs": [],
   "source": [
    "df1 = df.loc[df['WindNumber'] == 1, :]\n",
    "df2 = df.loc[df['WindNumber'] == 2, :]\n",
    "df3 = df.loc[df['WindNumber'] == 3, :]\n",
    "df4 = df.loc[df['WindNumber'] == 4, :]\n",
    "df5 = df.loc[df['WindNumber'] == 5, :]\n",
    "df6 = df.loc[df['WindNumber'] == 6, :]\n",
    "df7 = df.loc[df['WindNumber'] == 7, :]\n",
    "df8 = df.loc[df['WindNumber'] == 8, :]\n",
    "df9 = df.loc[df['WindNumber'] == 9, :]\n",
    "df10 = df.loc[df['WindNumber'] == 10, :]\n",
    "df11 = df.loc[df['WindNumber'] == 11, :]\n",
    "df12 = df.loc[df['WindNumber'] == 12, :]"
   ]
  },
  {
   "cell_type": "code",
   "execution_count": 4,
   "metadata": {
    "ExecuteTime": {
     "end_time": "2020-09-23T15:51:55.201212Z",
     "start_time": "2020-09-23T15:51:55.196221Z"
    }
   },
   "outputs": [],
   "source": [
    "# fig = plt.figure(figsize=(20, 15))\n",
    "\n",
    "# for i in range(1, 13):\n",
    "#     plt.subplot(3, 4, i)\n",
    "#     plt.scatter(df.loc[df['WindNumber'] == i, :]['WindSpeed'], df.loc[df['WindNumber'] == i, :]['Power'], s=5, c='r', cmap='viridis')\n",
    "#     plt.xlabel('Wind Speed({})'.format(i))\n",
    "#     plt.ylabel('Power')\n",
    "# plt.show()"
   ]
  },
  {
   "cell_type": "code",
   "execution_count": 5,
   "metadata": {
    "ExecuteTime": {
     "end_time": "2020-09-23T15:51:55.239512Z",
     "start_time": "2020-09-23T15:51:55.212205Z"
    }
   },
   "outputs": [
    {
     "data": {
      "text/html": [
       "<div>\n",
       "<style scoped>\n",
       "    .dataframe tbody tr th:only-of-type {\n",
       "        vertical-align: middle;\n",
       "    }\n",
       "\n",
       "    .dataframe tbody tr th {\n",
       "        vertical-align: top;\n",
       "    }\n",
       "\n",
       "    .dataframe thead th {\n",
       "        text-align: right;\n",
       "    }\n",
       "</style>\n",
       "<table border=\"1\" class=\"dataframe\">\n",
       "  <thead>\n",
       "    <tr style=\"text-align: right;\">\n",
       "      <th></th>\n",
       "      <th>WindNumber</th>\n",
       "      <th>Time</th>\n",
       "      <th>WindSpeed</th>\n",
       "      <th>Power</th>\n",
       "      <th>RotorSpeed</th>\n",
       "    </tr>\n",
       "  </thead>\n",
       "  <tbody>\n",
       "    <tr>\n",
       "      <th>0</th>\n",
       "      <td>1</td>\n",
       "      <td>2017/11/1 0:20</td>\n",
       "      <td>4.188333</td>\n",
       "      <td>65.750000</td>\n",
       "      <td>5.779167</td>\n",
       "    </tr>\n",
       "    <tr>\n",
       "      <th>1</th>\n",
       "      <td>1</td>\n",
       "      <td>2017/11/1 0:30</td>\n",
       "      <td>4.042500</td>\n",
       "      <td>120.700000</td>\n",
       "      <td>8.636500</td>\n",
       "    </tr>\n",
       "    <tr>\n",
       "      <th>2</th>\n",
       "      <td>1</td>\n",
       "      <td>2017/11/1 0:40</td>\n",
       "      <td>4.137368</td>\n",
       "      <td>135.157895</td>\n",
       "      <td>8.668421</td>\n",
       "    </tr>\n",
       "    <tr>\n",
       "      <th>3</th>\n",
       "      <td>1</td>\n",
       "      <td>2017/11/1 0:50</td>\n",
       "      <td>4.274737</td>\n",
       "      <td>157.315789</td>\n",
       "      <td>8.727895</td>\n",
       "    </tr>\n",
       "    <tr>\n",
       "      <th>4</th>\n",
       "      <td>1</td>\n",
       "      <td>2017/11/1 1:00</td>\n",
       "      <td>4.108947</td>\n",
       "      <td>129.894737</td>\n",
       "      <td>8.656842</td>\n",
       "    </tr>\n",
       "  </tbody>\n",
       "</table>\n",
       "</div>"
      ],
      "text/plain": [
       "   WindNumber            Time  WindSpeed       Power  RotorSpeed\n",
       "0           1  2017/11/1 0:20   4.188333   65.750000    5.779167\n",
       "1           1  2017/11/1 0:30   4.042500  120.700000    8.636500\n",
       "2           1  2017/11/1 0:40   4.137368  135.157895    8.668421\n",
       "3           1  2017/11/1 0:50   4.274737  157.315789    8.727895\n",
       "4           1  2017/11/1 1:00   4.108947  129.894737    8.656842"
      ]
     },
     "execution_count": 5,
     "metadata": {},
     "output_type": "execute_result"
    }
   ],
   "source": [
    "df1.head()"
   ]
  },
  {
   "cell_type": "code",
   "execution_count": 6,
   "metadata": {
    "ExecuteTime": {
     "end_time": "2020-09-23T15:51:55.282014Z",
     "start_time": "2020-09-23T15:51:55.248508Z"
    }
   },
   "outputs": [],
   "source": [
    "df1['WindSpeed_bins'] = pd.cut(df1['WindSpeed'], 50, labels=range(1, 51))\n",
    "df1['Power_bins'] = pd.cut(df1['Power'], 90, labels=range(1, 91))"
   ]
  },
  {
   "cell_type": "code",
   "execution_count": 7,
   "metadata": {
    "ExecuteTime": {
     "end_time": "2020-09-23T15:51:55.296004Z",
     "start_time": "2020-09-23T15:51:55.285013Z"
    }
   },
   "outputs": [
    {
     "data": {
      "text/plain": [
       "(-0.05, 26.54181818)"
      ]
     },
     "execution_count": 7,
     "metadata": {},
     "output_type": "execute_result"
    }
   ],
   "source": [
    "df1['WindSpeed'].min(), df1['WindSpeed'].max()"
   ]
  },
  {
   "cell_type": "code",
   "execution_count": 8,
   "metadata": {
    "ExecuteTime": {
     "end_time": "2020-09-23T15:51:55.315992Z",
     "start_time": "2020-09-23T15:51:55.300001Z"
    }
   },
   "outputs": [
    {
     "data": {
      "text/plain": [
       "(-53.0, 2174.4)"
      ]
     },
     "execution_count": 8,
     "metadata": {},
     "output_type": "execute_result"
    }
   ],
   "source": [
    "df1['Power'].min(), df1['Power'].max()"
   ]
  },
  {
   "cell_type": "code",
   "execution_count": 9,
   "metadata": {
    "ExecuteTime": {
     "end_time": "2020-09-23T15:51:55.355968Z",
     "start_time": "2020-09-23T15:51:55.320991Z"
    }
   },
   "outputs": [
    {
     "data": {
      "text/html": [
       "<div>\n",
       "<style scoped>\n",
       "    .dataframe tbody tr th:only-of-type {\n",
       "        vertical-align: middle;\n",
       "    }\n",
       "\n",
       "    .dataframe tbody tr th {\n",
       "        vertical-align: top;\n",
       "    }\n",
       "\n",
       "    .dataframe thead th {\n",
       "        text-align: right;\n",
       "    }\n",
       "</style>\n",
       "<table border=\"1\" class=\"dataframe\">\n",
       "  <thead>\n",
       "    <tr style=\"text-align: right;\">\n",
       "      <th></th>\n",
       "      <th>WindNumber</th>\n",
       "      <th>Time</th>\n",
       "      <th>WindSpeed</th>\n",
       "      <th>Power</th>\n",
       "      <th>RotorSpeed</th>\n",
       "      <th>WindSpeed_bins</th>\n",
       "      <th>Power_bins</th>\n",
       "    </tr>\n",
       "  </thead>\n",
       "  <tbody>\n",
       "    <tr>\n",
       "      <th>0</th>\n",
       "      <td>1</td>\n",
       "      <td>2017/11/1 0:20</td>\n",
       "      <td>4.188333</td>\n",
       "      <td>65.750000</td>\n",
       "      <td>5.779167</td>\n",
       "      <td>8</td>\n",
       "      <td>5</td>\n",
       "    </tr>\n",
       "    <tr>\n",
       "      <th>1</th>\n",
       "      <td>1</td>\n",
       "      <td>2017/11/1 0:30</td>\n",
       "      <td>4.042500</td>\n",
       "      <td>120.700000</td>\n",
       "      <td>8.636500</td>\n",
       "      <td>8</td>\n",
       "      <td>8</td>\n",
       "    </tr>\n",
       "    <tr>\n",
       "      <th>2</th>\n",
       "      <td>1</td>\n",
       "      <td>2017/11/1 0:40</td>\n",
       "      <td>4.137368</td>\n",
       "      <td>135.157895</td>\n",
       "      <td>8.668421</td>\n",
       "      <td>8</td>\n",
       "      <td>8</td>\n",
       "    </tr>\n",
       "    <tr>\n",
       "      <th>3</th>\n",
       "      <td>1</td>\n",
       "      <td>2017/11/1 0:50</td>\n",
       "      <td>4.274737</td>\n",
       "      <td>157.315789</td>\n",
       "      <td>8.727895</td>\n",
       "      <td>9</td>\n",
       "      <td>9</td>\n",
       "    </tr>\n",
       "    <tr>\n",
       "      <th>4</th>\n",
       "      <td>1</td>\n",
       "      <td>2017/11/1 1:00</td>\n",
       "      <td>4.108947</td>\n",
       "      <td>129.894737</td>\n",
       "      <td>8.656842</td>\n",
       "      <td>8</td>\n",
       "      <td>8</td>\n",
       "    </tr>\n",
       "  </tbody>\n",
       "</table>\n",
       "</div>"
      ],
      "text/plain": [
       "   WindNumber            Time  WindSpeed       Power  RotorSpeed  \\\n",
       "0           1  2017/11/1 0:20   4.188333   65.750000    5.779167   \n",
       "1           1  2017/11/1 0:30   4.042500  120.700000    8.636500   \n",
       "2           1  2017/11/1 0:40   4.137368  135.157895    8.668421   \n",
       "3           1  2017/11/1 0:50   4.274737  157.315789    8.727895   \n",
       "4           1  2017/11/1 1:00   4.108947  129.894737    8.656842   \n",
       "\n",
       "  WindSpeed_bins Power_bins  \n",
       "0              8          5  \n",
       "1              8          8  \n",
       "2              8          8  \n",
       "3              9          9  \n",
       "4              8          8  "
      ]
     },
     "execution_count": 9,
     "metadata": {},
     "output_type": "execute_result"
    }
   ],
   "source": [
    "df1.head()"
   ]
  },
  {
   "cell_type": "code",
   "execution_count": 10,
   "metadata": {
    "ExecuteTime": {
     "end_time": "2020-09-23T15:51:56.878846Z",
     "start_time": "2020-09-23T15:51:55.359969Z"
    }
   },
   "outputs": [
    {
     "data": {
      "image/png": "[encoded data removed]",
      "text/plain": [
       "<Figure size 432x288 with 1 Axes>"
      ]
     },
     "metadata": {
      "needs_background": "light"
     },
     "output_type": "display_data"
    }
   ],
   "source": [
    "data1 = pd.DataFrame()\n",
    "for i in range(1, 51):\n",
    "    bin = df1.loc[df1['WindSpeed_bins'] == i, :]\n",
    "    q1 = bin['Power'].quantile(0.25)\n",
    "    q3 = bin['Power'].quantile(0.75)\n",
    "    iqr = q3 - q1\n",
    "    low = q1 - 1.5 * iqr\n",
    "    high = q3 + 1.5 * iqr\n",
    "    bin['label_1'] = bin['Power'].apply(lambda x: 1 if x > high else 0).astype(int)\n",
    "    data1 = pd.concat([data1, bin], axis=0, ignore_index=True)\n",
    "\n",
    "fig = plt.figure()\n",
    "data_0 = data1.loc[data1['label_1'] == 0, :]\n",
    "data_1 = data1.loc[data1['label_1'] == 1, :]\n",
    "plt.scatter(data_0['WindSpeed'], data_0['Power'], s=5, c='r', cmap='viridis', label='0')\n",
    "plt.scatter(data_1['WindSpeed'], data_1['Power'], s=5, c='b', cmap='viridis', label='1')\n",
    "plt.xlabel('Wind Speed')\n",
    "plt.ylabel('Power')\n",
    "plt.legend(loc='best')\n",
    "plt.show()"
   ]
  },
  {
   "cell_type": "code",
   "execution_count": 11,
   "metadata": {
    "ExecuteTime": {
     "end_time": "2020-09-23T15:51:58.998563Z",
     "start_time": "2020-09-23T15:51:56.882841Z"
    }
   },
   "outputs": [
    {
     "data": {
      "image/png": "[encoded data removed]",
      "text/plain": [
       "<Figure size 432x288 with 1 Axes>"
      ]
     },
     "metadata": {
      "needs_background": "light"
     },
     "output_type": "display_data"
    }
   ],
   "source": [
    "data2 = pd.DataFrame()\n",
    "for i in range(1, 91):\n",
    "    bin = df1.loc[df1['Power_bins'] == i, :]\n",
    "    q1 = bin['WindSpeed'].quantile(0.25)\n",
    "    q3 = bin['WindSpeed'].quantile(0.75)\n",
    "    iqr = q3 - q1\n",
    "    left = q1 - 1.5 * iqr\n",
    "    right = q3 + 1.5 * iqr\n",
    "    bin['label_2'] = bin['WindSpeed'].apply(lambda x: 1 if x < left or x > right else 0).astype(int)\n",
    "    data2 = pd.concat([data2, bin], axis=0, ignore_index=True)\n",
    "\n",
    "fig = plt.figure()\n",
    "data_0 = data2.loc[data2['label_2'] == 0, :]\n",
    "data_1 = data2.loc[data2['label_2'] == 1, :]\n",
    "plt.scatter(data_0['WindSpeed'], data_0['Power'], s=5, c='r', cmap='viridis', label='0')\n",
    "plt.scatter(data_1['WindSpeed'], data_1['Power'], s=5, c='b', cmap='viridis', label='1')\n",
    "plt.xlabel('Wind Speed')\n",
    "plt.ylabel('Power')\n",
    "plt.legend(loc='best')\n",
    "plt.show()"
   ]
  },
  {
   "cell_type": "code",
   "execution_count": 12,
   "metadata": {
    "ExecuteTime": {
     "end_time": "2020-09-23T15:51:59.192230Z",
     "start_time": "2020-09-23T15:51:59.000563Z"
    }
   },
   "outputs": [
    {
     "data": {
      "text/html": [
       "<div>\n",
       "<style scoped>\n",
       "    .dataframe tbody tr th:only-of-type {\n",
       "        vertical-align: middle;\n",
       "    }\n",
       "\n",
       "    .dataframe tbody tr th {\n",
       "        vertical-align: top;\n",
       "    }\n",
       "\n",
       "    .dataframe thead th {\n",
       "        text-align: right;\n",
       "    }\n",
       "</style>\n",
       "<table border=\"1\" class=\"dataframe\">\n",
       "  <thead>\n",
       "    <tr style=\"text-align: right;\">\n",
       "      <th></th>\n",
       "      <th>WindNumber</th>\n",
       "      <th>Time</th>\n",
       "      <th>WindSpeed</th>\n",
       "      <th>Power</th>\n",
       "      <th>RotorSpeed</th>\n",
       "      <th>WindSpeed_bins</th>\n",
       "      <th>Power_bins</th>\n",
       "      <th>label_1</th>\n",
       "      <th>label_2</th>\n",
       "    </tr>\n",
       "  </thead>\n",
       "  <tbody>\n",
       "    <tr>\n",
       "      <th>0</th>\n",
       "      <td>1</td>\n",
       "      <td>2017/11/3 5:20</td>\n",
       "      <td>0.1925</td>\n",
       "      <td>-9.5</td>\n",
       "      <td>0.0425</td>\n",
       "      <td>1</td>\n",
       "      <td>2</td>\n",
       "      <td>0</td>\n",
       "      <td>0</td>\n",
       "    </tr>\n",
       "    <tr>\n",
       "      <th>1</th>\n",
       "      <td>1</td>\n",
       "      <td>2017/11/3 5:30</td>\n",
       "      <td>0.4150</td>\n",
       "      <td>-9.5</td>\n",
       "      <td>0.0425</td>\n",
       "      <td>1</td>\n",
       "      <td>2</td>\n",
       "      <td>0</td>\n",
       "      <td>0</td>\n",
       "    </tr>\n",
       "    <tr>\n",
       "      <th>2</th>\n",
       "      <td>1</td>\n",
       "      <td>2017/11/3 5:40</td>\n",
       "      <td>0.2100</td>\n",
       "      <td>-9.5</td>\n",
       "      <td>0.0450</td>\n",
       "      <td>1</td>\n",
       "      <td>2</td>\n",
       "      <td>0</td>\n",
       "      <td>0</td>\n",
       "    </tr>\n",
       "    <tr>\n",
       "      <th>3</th>\n",
       "      <td>1</td>\n",
       "      <td>2017/11/4 6:40</td>\n",
       "      <td>0.4500</td>\n",
       "      <td>-9.0</td>\n",
       "      <td>0.0700</td>\n",
       "      <td>1</td>\n",
       "      <td>2</td>\n",
       "      <td>0</td>\n",
       "      <td>0</td>\n",
       "    </tr>\n",
       "    <tr>\n",
       "      <th>4</th>\n",
       "      <td>1</td>\n",
       "      <td>2017/11/4 18:20</td>\n",
       "      <td>0.3500</td>\n",
       "      <td>-9.5</td>\n",
       "      <td>0.0450</td>\n",
       "      <td>1</td>\n",
       "      <td>2</td>\n",
       "      <td>0</td>\n",
       "      <td>0</td>\n",
       "    </tr>\n",
       "  </tbody>\n",
       "</table>\n",
       "</div>"
      ],
      "text/plain": [
       "   WindNumber             Time  WindSpeed  Power  RotorSpeed WindSpeed_bins  \\\n",
       "0           1   2017/11/3 5:20     0.1925   -9.5      0.0425              1   \n",
       "1           1   2017/11/3 5:30     0.4150   -9.5      0.0425              1   \n",
       "2           1   2017/11/3 5:40     0.2100   -9.5      0.0450              1   \n",
       "3           1   2017/11/4 6:40     0.4500   -9.0      0.0700              1   \n",
       "4           1  2017/11/4 18:20     0.3500   -9.5      0.0450              1   \n",
       "\n",
       "  Power_bins  label_1  label_2  \n",
       "0          2        0        0  \n",
       "1          2        0        0  \n",
       "2          2        0        0  \n",
       "3          2        0        0  \n",
       "4          2        0        0  "
      ]
     },
     "execution_count": 12,
     "metadata": {},
     "output_type": "execute_result"
    }
   ],
   "source": [
    "data = pd.merge(data1, data2, on=['WindNumber', 'Time', 'WindSpeed', 'Power', 'RotorSpeed', 'WindSpeed_bins', 'Power_bins'], how='inner')\n",
    "data.head()"
   ]
  },
  {
   "cell_type": "code",
   "execution_count": 13,
   "metadata": {
    "ExecuteTime": {
     "end_time": "2020-09-23T15:52:03.744025Z",
     "start_time": "2020-09-23T15:51:59.194228Z"
    }
   },
   "outputs": [],
   "source": [
    "data['label'] = data.apply(lambda x: 1 if x['label_1'] == 1 or x['label_2'] == 1 else 0, axis=1)"
   ]
  },
  {
   "cell_type": "code",
   "execution_count": 14,
   "metadata": {
    "ExecuteTime": {
     "end_time": "2020-09-23T15:52:04.688053Z",
     "start_time": "2020-09-23T15:52:03.746029Z"
    }
   },
   "outputs": [
    {
     "data": {
      "image/png": "[encoded data removed]",
      "text/plain": [
       "<Figure size 432x288 with 1 Axes>"
      ]
     },
     "metadata": {
      "needs_background": "light"
     },
     "output_type": "display_data"
    }
   ],
   "source": [
    "fig = plt.figure()\n",
    "data_0 = data.loc[data['label'] == 0, :]\n",
    "data_1 = data.loc[data['label'] == 1, :]\n",
    "plt.scatter(data_0['WindSpeed'], data_0['Power'], s=5, c='r', cmap='viridis', label='0')\n",
    "plt.scatter(data_1['WindSpeed'], data_1['Power'], s=5, c='b', cmap='viridis', label='1')\n",
    "plt.xlabel('Wind Speed')\n",
    "plt.ylabel('Power')\n",
    "plt.legend(loc='best')\n",
    "plt.show()"
   ]
  },
  {
   "cell_type": "code",
   "execution_count": null,
   "metadata": {},
   "outputs": [],
   "source": []
  }
 ],
 "metadata": {
  "kernelspec": {
   "display_name": "Python 3",
   "language": "python",
   "name": "python3"
  },
  "language_info": {
   "codemirror_mode": {
    "name": "ipython",
    "version": 3
   },
   "file_extension": ".py",
   "mimetype": "text/x-python",
   "name": "python",
   "nbconvert_exporter": "python",
   "pygments_lexer": "ipython3",
   "version": "3.7.3"
  },
  "toc": {
   "base_numbering": 1,
   "nav_menu": {},
   "number_sections": true,
   "sideBar": true,
   "skip_h1_title": false,
   "title_cell": "Table of Contents",
   "title_sidebar": "Contents",
   "toc_cell": false,
   "toc_position": {},
   "toc_section_display": true,
   "toc_window_display": false
  },
  "varInspector": {
   "cols": {
    "lenName": 16,
    "lenType": 16,
    "lenVar": 40
   },
   "kernels_config": {
    "python": {
     "delete_cmd_postfix": "",
     "delete_cmd_prefix": "del ",
     "library": "var_list.py",
     "varRefreshCmd": "print(var_dic_list())"
    },
    "r": {
     "delete_cmd_postfix": ") ",
     "delete_cmd_prefix": "rm(",
     "library": "var_list.r",
     "varRefreshCmd": "cat(var_dic_list()) "
    }
   },
   "types_to_exclude": [
    "module",
    "function",
    "builtin_function_or_method",
    "instance",
    "_Feature"
   ],
   "window_display": false
  }
 },
 "nbformat": 4,
 "nbformat_minor": 4
}
