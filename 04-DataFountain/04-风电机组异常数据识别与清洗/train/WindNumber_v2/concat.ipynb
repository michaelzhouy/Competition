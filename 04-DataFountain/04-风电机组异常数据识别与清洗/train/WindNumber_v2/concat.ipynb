{
 "cells": [
  {
   "cell_type": "code",
   "execution_count": 1,
   "metadata": {
    "ExecuteTime": {
     "end_time": "2020-09-26T10:10:14.592518Z",
     "start_time": "2020-09-26T10:10:14.226800Z"
    }
   },
   "outputs": [],
   "source": [
    "import pandas as pd"
   ]
  },
  {
   "cell_type": "code",
   "execution_count": 2,
   "metadata": {
    "ExecuteTime": {
     "end_time": "2020-09-26T10:10:14.946584Z",
     "start_time": "2020-09-26T10:10:14.593451Z"
    }
   },
   "outputs": [
    {
     "data": {
      "text/html": [
       "<div>\n",
       "<style scoped>\n",
       "    .dataframe tbody tr th:only-of-type {\n",
       "        vertical-align: middle;\n",
       "    }\n",
       "\n",
       "    .dataframe tbody tr th {\n",
       "        vertical-align: top;\n",
       "    }\n",
       "\n",
       "    .dataframe thead th {\n",
       "        text-align: right;\n",
       "    }\n",
       "</style>\n",
       "<table border=\"1\" class=\"dataframe\">\n",
       "  <thead>\n",
       "    <tr style=\"text-align: right;\">\n",
       "      <th></th>\n",
       "      <th>WindNumber</th>\n",
       "      <th>Time</th>\n",
       "      <th>label</th>\n",
       "    </tr>\n",
       "  </thead>\n",
       "  <tbody>\n",
       "    <tr>\n",
       "      <th>0</th>\n",
       "      <td>1</td>\n",
       "      <td>2017/11/1 0:20</td>\n",
       "      <td>0</td>\n",
       "    </tr>\n",
       "    <tr>\n",
       "      <th>1</th>\n",
       "      <td>1</td>\n",
       "      <td>2017/11/1 0:30</td>\n",
       "      <td>0</td>\n",
       "    </tr>\n",
       "    <tr>\n",
       "      <th>2</th>\n",
       "      <td>1</td>\n",
       "      <td>2017/11/1 0:40</td>\n",
       "      <td>0</td>\n",
       "    </tr>\n",
       "    <tr>\n",
       "      <th>3</th>\n",
       "      <td>1</td>\n",
       "      <td>2017/11/1 0:50</td>\n",
       "      <td>0</td>\n",
       "    </tr>\n",
       "    <tr>\n",
       "      <th>4</th>\n",
       "      <td>1</td>\n",
       "      <td>2017/11/1 1:00</td>\n",
       "      <td>0</td>\n",
       "    </tr>\n",
       "  </tbody>\n",
       "</table>\n",
       "</div>"
      ],
      "text/plain": [
       "   WindNumber            Time  label\n",
       "0           1  2017/11/1 0:20      0\n",
       "1           1  2017/11/1 0:30      0\n",
       "2           1  2017/11/1 0:40      0\n",
       "3           1  2017/11/1 0:50      0\n",
       "4           1  2017/11/1 1:00      0"
      ]
     },
     "execution_count": 2,
     "metadata": {},
     "output_type": "execute_result"
    }
   ],
   "source": [
    "df1 = pd.read_csv('sub/WindNumber1.csv')\n",
    "df2 = pd.read_csv('sub/WindNumber2.csv')\n",
    "df3 = pd.read_csv('sub/WindNumber3.csv')\n",
    "df4 = pd.read_csv('sub/WindNumber4.csv')\n",
    "df5 = pd.read_csv('sub/WindNumber5.csv')\n",
    "df6 = pd.read_csv('sub/WindNumber6.csv')\n",
    "df7 = pd.read_csv('sub/WindNumber7.csv')\n",
    "df8 = pd.read_csv('sub/WindNumber8.csv')\n",
    "df9 = pd.read_csv('sub/WindNumber9.csv')\n",
    "df10 = pd.read_csv('sub/WindNumber10.csv')\n",
    "df11 = pd.read_csv('sub/WindNumber11.csv')\n",
    "df12 = pd.read_csv('sub/WindNumber12.csv')\n",
    "\n",
    "df = pd.concat([df1, df2, df3, df4, df5, df6, df7, df8, df9, df10, df11, df12], axis=0, ignore_index=True)\n",
    "df['label'] = df['label'].astype(int)\n",
    "df.head()"
   ]
  },
  {
   "cell_type": "code",
   "execution_count": 3,
   "metadata": {
    "ExecuteTime": {
     "end_time": "2020-09-26T10:10:14.951570Z",
     "start_time": "2020-09-26T10:10:14.947582Z"
    }
   },
   "outputs": [
    {
     "data": {
      "text/plain": [
       "(497837, 3)"
      ]
     },
     "execution_count": 3,
     "metadata": {},
     "output_type": "execute_result"
    }
   ],
   "source": [
    "df.shape"
   ]
  },
  {
   "cell_type": "code",
   "execution_count": 4,
   "metadata": {
    "ExecuteTime": {
     "end_time": "2020-09-26T10:10:15.619398Z",
     "start_time": "2020-09-26T10:10:14.952568Z"
    }
   },
   "outputs": [],
   "source": [
    "df.to_csv('sub/sub.csv', index=False)"
   ]
  }
 ],
 "metadata": {
  "kernelspec": {
   "display_name": "Python 3",
   "language": "python",
   "name": "python3"
  },
  "language_info": {
   "codemirror_mode": {
    "name": "ipython",
    "version": 3
   },
   "file_extension": ".py",
   "mimetype": "text/x-python",
   "name": "python",
   "nbconvert_exporter": "python",
   "pygments_lexer": "ipython3",
   "version": "3.7.3"
  },
  "toc": {
   "base_numbering": 1,
   "nav_menu": {},
   "number_sections": true,
   "sideBar": true,
   "skip_h1_title": false,
   "title_cell": "Table of Contents",
   "title_sidebar": "Contents",
   "toc_cell": false,
   "toc_position": {},
   "toc_section_display": true,
   "toc_window_display": false
  }
 },
 "nbformat": 4,
 "nbformat_minor": 4
}
