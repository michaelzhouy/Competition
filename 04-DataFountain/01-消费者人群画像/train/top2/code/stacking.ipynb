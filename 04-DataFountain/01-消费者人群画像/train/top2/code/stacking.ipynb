{
 "cells": [
  {
   "cell_type": "code",
   "execution_count": 1,
   "metadata": {},
   "outputs": [],
   "source": [
    "import os\n",
    "import numpy as np\n",
    "import pandas as pd\n",
    "from sklearn.metrics import mean_absolute_error\n",
    "from sklearn.model_selection import StratifiedKFold, KFold\n",
    "from sklearn.isotonic import IsotonicRegression\n",
    "import sklearn.linear_model as linear_model\n",
    "import sklearn.ensemble as tree_model\n",
    "import sklearn.svm as svm\n",
    "from utils import make_dir, score, timer, kf_lgbm\n",
    "pd.set_option('display.max_column',100)"
   ]
  },
  {
   "cell_type": "code",
   "execution_count": 2,
   "metadata": {},
   "outputs": [],
   "source": [
    "def load(meta_dir, filename):\n",
    "    return np.load(os.path.join(meta_dir, filename))\n",
    "\n",
    "def load_val_test(name, input_dir='./stacking_files/'):\n",
    "    val = load(input_dir, f'val.{name}.npy')\n",
    "    test = load(input_dir, f'test.{name}.npy')\n",
    "    return val, test"
   ]
  },
  {
   "cell_type": "code",
   "execution_count": 4,
   "metadata": {},
   "outputs": [],
   "source": [
    "liuxin_stack_files = [\n",
    "                     'test.justai_ctb.npy',\n",
    "                     'test.justai_lgb.npy',\n",
    "                     'test.luoling_ctb.npy',\n",
    "                     'test.luoling_xgb.npy',\n",
    "                     'val.justai_ctb.npy',\n",
    "                     'val.justai_lgb.npy',\n",
    "                     'val.luoling_ctb.npy',\n",
    "                     'val.luoling_xgb.npy']\n",
    "for f in liuxin_stack_files:\n",
    "    npf = np.load(os.path.join('./liuxin/stack/',f))\n",
    "    np.save(os.path.join('./stacking_files/',f),npf)"
   ]
  },
  {
   "cell_type": "code",
   "execution_count": 5,
   "metadata": {},
   "outputs": [],
   "source": [
    "a = np.load('./stacking_files/test.neil_lgb.npy')\n",
    "b = np.load('./stacking_files/val.neil_lgb.npy')\n",
    "np.save('./stacking_files/test.neil_lgb_rounded.npy',np.round(a))\n",
    "np.save('./stacking_files/val.neil_lgb_rounded.npy',np.round(b))"
   ]
  },
  {
   "cell_type": "code",
   "execution_count": 6,
   "metadata": {},
   "outputs": [],
   "source": [
    "a = np.load('./stacking_files/test.neil_xgb.npy')\n",
    "b = np.load('./stacking_files/val.neil_xgb.npy')\n",
    "np.save('./stacking_files/test.neil_xgb_rounded.npy',np.round(a))\n",
    "np.save('./stacking_files/val.neil_xgb_rounded.npy',np.round(b))"
   ]
  },
  {
   "cell_type": "code",
   "execution_count": 7,
   "metadata": {},
   "outputs": [],
   "source": [
    "name_list = [\n",
    "             'neil_lgb_rounded', \n",
    "             'neil_ctb', \n",
    "             'neil_rf',  \n",
    "             'gotcha_lgb1',\n",
    "             'gotcha_lgb2',\n",
    "             'gotcha_lgb3',\n",
    "             'gotcha_lgb4',\n",
    "             'gotcha_lgb5',\n",
    "             'justai_lgb', \n",
    "             'justai_ctb',\n",
    "             'gotcha_lgb6', \n",
    "             'gotcha_ctb1',\n",
    "             'luoling_xgb',\n",
    "             'luoling_ctb',\n",
    "             'neil_xgb_rounded',\n",
    "             'gotcha_gbdt1',\n",
    "             'neil_gbm',\n",
    "            ]\n",
    "val_list = []\n",
    "test_list = []\n",
    "for name in name_list:\n",
    "    val,test = load_val_test(name)\n",
    "    val_list.append(val)\n",
    "    test_list.append(test)\n",
    "    \n",
    "X = np.stack(val_list,axis=1)\n",
    "X_test = np.stack(test_list,axis=1)"
   ]
  },
  {
   "cell_type": "code",
   "execution_count": 8,
   "metadata": {},
   "outputs": [],
   "source": [
    "train_df = pd.read_csv('../input/train_dataset.csv')\n",
    "test_df = pd.read_csv('../input/test_dataset.csv')\n",
    "y = train_df['信用分'].values"
   ]
  },
  {
   "cell_type": "code",
   "execution_count": 9,
   "metadata": {},
   "outputs": [],
   "source": [
    "n_folds = 10\n",
    "kf = StratifiedKFold(n_splits=n_folds, shuffle=True, random_state=8888)\n",
    "idx = y.argsort()\n",
    "y_lab = np.repeat(list(range(2500)),20)\n",
    "y_lab = np.asarray(sorted(list(zip(idx,y_lab))))[:,-1].astype(np.int32)"
   ]
  },
  {
   "cell_type": "code",
   "execution_count": 10,
   "metadata": {},
   "outputs": [
    {
     "name": "stdout",
     "output_type": "stream",
     "text": [
      "[ 0.18782236  0.08440949 -0.07499657  0.0854136   0.0571727   0.26825906\n",
      "  0.00047739 -0.00870643  0.11709785  0.06996875 -0.19370151  0.03056669\n",
      " -0.21348534  0.26796086  0.19221551  0.10005298  0.03036265]\n",
      "0.06423185\n",
      "[ 0.14182068  0.08366123 -0.0877543   0.057904    0.05779548  0.12845944\n",
      "  0.06001826 -0.00222432  0.19160917  0.05941438 -0.15257817  0.01513275\n",
      " -0.13813405  0.17231293  0.19962995  0.16969107  0.04416838]\n",
      "0.06481553\n",
      "[ 0.17849782  0.11273179 -0.05529195  0.05931097  0.07092916  0.21764503\n",
      "  0.08112405 -0.0365708   0.11113912  0.02802364 -0.18403921  0.05120347\n",
      " -0.2266663   0.25977299  0.18839958  0.12323985  0.02138736]\n",
      "0.06477355\n",
      "[ 0.17836063  0.14153274 -0.05908758  0.08940667  0.07406125  0.24055521\n",
      "  0.045601   -0.00446695  0.09094376  0.07834079 -0.24308247  0.01866421\n",
      " -0.21955273  0.24112503  0.18529931  0.11657618  0.02649879]\n",
      "0.06353644\n",
      "[ 0.15596346  0.05649074 -0.06848513  0.11661149  0.08375517  0.23676143\n",
      "  0.02096904 -0.02696991  0.1590024   0.04396593 -0.20381082  0.08272422\n",
      " -0.23591636  0.25928882  0.20889289  0.10848061  0.00317566]\n",
      "0.06503473\n",
      "[ 0.18092952  0.09527882 -0.07004881  0.1259863   0.11837753  0.24586047\n",
      "  0.03718307 -0.00352152  0.11276903  0.04516108 -0.23107114  0.02204182\n",
      " -0.20048709  0.23977859  0.18765055  0.11067056 -0.01561783]\n",
      "0.0640574\n",
      "[ 0.17931358  0.10763909 -0.06707142  0.08123732  0.09779174  0.2585395\n",
      "  0.02425661 -0.04179036  0.11407105  0.0163185  -0.20491226  0.05780873\n",
      " -0.20624439  0.24636802  0.17425012  0.13697037  0.02619985]\n",
      "0.06354936\n",
      "[ 0.18569889  0.10985343 -0.08717247  0.0817427   0.06806571  0.14082998\n",
      "  0.04711438  0.00680465  0.19595226  0.08030804 -0.16909955  0.03481252\n",
      " -0.23611422  0.2138089   0.19114477  0.11063171  0.026342  ]\n",
      "0.06455111\n",
      "[ 0.195908    0.13869496 -0.05480212  0.07050336  0.07001269  0.21897867\n",
      "  0.08374934 -0.00061507  0.12818028  0.01730159 -0.21221544  0.03551794\n",
      " -0.21534251  0.23736782  0.16742776  0.13015652 -0.01005895]\n",
      "0.06423185\n",
      "[ 0.22350549  0.08531783 -0.05391291  0.10093704  0.09657581  0.21312641\n",
      "  0.05546587 -0.02959411  0.15246983  0.02145991 -0.23292759  0.06150388\n",
      " -0.20859378  0.22914925  0.16156973  0.12289842  0.0018456 ]\n",
      "0.06540137\n"
     ]
    }
   ],
   "source": [
    "test_pred = np.zeros(len(X_test))\n",
    "val_pred = np.zeros(len(X))\n",
    "scores = []\n",
    "for fold_idx, (train_idx, valid_idx) in enumerate(kf.split(X,y_lab)):\n",
    "    X_train, X_valid = X[train_idx], X[valid_idx]\n",
    "    y_train, y_valid = y[train_idx], y[valid_idx]\n",
    "    model = linear_model.HuberRegressor(epsilon=1.01, alpha=1e-5)\n",
    "    model.fit(X_train,y_train)\n",
    "    val_pred_fold = model.predict(X_valid)\n",
    "    val_pred[valid_idx] = val_pred_fold\n",
    "    s = score(np.round(val_pred_fold),y_valid)\n",
    "    scores.append(s)\n",
    "    test_pred += model.predict(X_test)/10\n",
    "    print(model.coef_)\n",
    "    print(np.round(s,8))"
   ]
  },
  {
   "cell_type": "code",
   "execution_count": 11,
   "metadata": {},
   "outputs": [],
   "source": [
    "def postprocess(pred):\n",
    "    print('='*10,'postprocess', '='*10)\n",
    "    new_pred = pred.copy()\n",
    "    \n",
    "    mask = (pred<619)\n",
    "    new_pred = np.where(mask, np.round(pred+0.1), new_pred)\n",
    "    num_change_value = (np.round(new_pred)!=np.round(pred))[mask].sum()\n",
    "    print('%d/%d values are changed'%(num_change_value,sum(mask)))   \n",
    "    \n",
    "    mask = (pred>619)\n",
    "    new_pred = np.where(mask, np.round(pred+0.02), new_pred)\n",
    "    num_change_value = (np.round(new_pred)!=np.round(pred))[mask].sum()\n",
    "    print('%d/%d values are changed'%(num_change_value,sum(mask)))   \n",
    "     \n",
    "    new_pred = np.round(new_pred).astype(int)\n",
    "\n",
    "    return new_pred"
   ]
  },
  {
   "cell_type": "code",
   "execution_count": 12,
   "metadata": {},
   "outputs": [
    {
     "name": "stdout",
     "output_type": "stream",
     "text": [
      "未round: 0.06439770406956541\n",
      "round: 0.06441306812326085\n",
      "========== postprocess ==========\n",
      "2080/20343 values are changed\n",
      "590/29657 values are changed\n",
      "后处理（小于619,+0.1, 大于619, +0.02）: 0.06441904329990414\n"
     ]
    }
   ],
   "source": [
    "print('未round:',score(val_pred, y))\n",
    "print('round:',score(np.round(val_pred), y))\n",
    "print('后处理（小于619,+0.1, 大于619, +0.02）:',score(postprocess(val_pred), y))"
   ]
  },
  {
   "cell_type": "code",
   "execution_count": 13,
   "metadata": {},
   "outputs": [
    {
     "name": "stdout",
     "output_type": "stream",
     "text": [
      "========== postprocess ==========\n",
      "2012/20439 values are changed\n",
      "593/29561 values are changed\n"
     ]
    }
   ],
   "source": [
    "sub = pd.read_csv('../input/submit_example.csv')\n",
    "sub[' score'] = np.round(postprocess(test_pred)).astype(int)"
   ]
  },
  {
   "cell_type": "code",
   "execution_count": 14,
   "metadata": {},
   "outputs": [],
   "source": [
    "sub.to_csv('cv0.644190_pb64107.csv',index=False)"
   ]
  },
  {
   "cell_type": "code",
   "execution_count": 15,
   "metadata": {},
   "outputs": [
    {
     "data": {
      "text/html": [
       "<div>\n",
       "<style scoped>\n",
       "    .dataframe tbody tr th:only-of-type {\n",
       "        vertical-align: middle;\n",
       "    }\n",
       "\n",
       "    .dataframe tbody tr th {\n",
       "        vertical-align: top;\n",
       "    }\n",
       "\n",
       "    .dataframe thead th {\n",
       "        text-align: right;\n",
       "    }\n",
       "</style>\n",
       "<table border=\"1\" class=\"dataframe\">\n",
       "  <thead>\n",
       "    <tr style=\"text-align: right;\">\n",
       "      <th></th>\n",
       "      <th>id</th>\n",
       "      <th>score</th>\n",
       "    </tr>\n",
       "  </thead>\n",
       "  <tbody>\n",
       "    <tr>\n",
       "      <th>0</th>\n",
       "      <td>7171737d49b143d1b38883a39e4a5730</td>\n",
       "      <td>601</td>\n",
       "    </tr>\n",
       "    <tr>\n",
       "      <th>1</th>\n",
       "      <td>3af0a449d5424488912e8fb2bf4b9faa</td>\n",
       "      <td>529</td>\n",
       "    </tr>\n",
       "    <tr>\n",
       "      <th>2</th>\n",
       "      <td>eb2cf02e0d5c4d1294dd73e776dbb441</td>\n",
       "      <td>670</td>\n",
       "    </tr>\n",
       "    <tr>\n",
       "      <th>3</th>\n",
       "      <td>9c0f780ecb254670a11aa9e3f10777c5</td>\n",
       "      <td>676</td>\n",
       "    </tr>\n",
       "    <tr>\n",
       "      <th>4</th>\n",
       "      <td>d794eed46c1e44f785a575f18b3023a5</td>\n",
       "      <td>659</td>\n",
       "    </tr>\n",
       "  </tbody>\n",
       "</table>\n",
       "</div>"
      ],
      "text/plain": [
       "                                 id   score\n",
       "0  7171737d49b143d1b38883a39e4a5730     601\n",
       "1  3af0a449d5424488912e8fb2bf4b9faa     529\n",
       "2  eb2cf02e0d5c4d1294dd73e776dbb441     670\n",
       "3  9c0f780ecb254670a11aa9e3f10777c5     676\n",
       "4  d794eed46c1e44f785a575f18b3023a5     659"
      ]
     },
     "execution_count": 15,
     "metadata": {},
     "output_type": "execute_result"
    }
   ],
   "source": [
    "sub.head()"
   ]
  },
  {
   "cell_type": "code",
   "execution_count": null,
   "metadata": {},
   "outputs": [],
   "source": []
  }
 ],
 "metadata": {
  "kernelspec": {
   "display_name": "Python 3",
   "language": "python",
   "name": "python3"
  },
  "language_info": {
   "codemirror_mode": {
    "name": "ipython",
    "version": 3
   },
   "file_extension": ".py",
   "mimetype": "text/x-python",
   "name": "python",
   "nbconvert_exporter": "python",
   "pygments_lexer": "ipython3",
   "version": "3.7.0"
  }
 },
 "nbformat": 4,
 "nbformat_minor": 2
}
