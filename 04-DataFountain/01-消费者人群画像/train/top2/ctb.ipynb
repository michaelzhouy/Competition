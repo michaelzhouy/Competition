{
 "cells": [
  {
   "cell_type": "code",
   "execution_count": 1,
   "metadata": {
    "ExecuteTime": {
     "end_time": "2020-09-21T14:52:56.036090Z",
     "start_time": "2020-09-21T14:52:55.100390Z"
    }
   },
   "outputs": [
    {
     "data": {
      "text/plain": [
       "'0.23'"
      ]
     },
     "execution_count": 1,
     "metadata": {},
     "output_type": "execute_result"
    }
   ],
   "source": [
    "import catboost\n",
    "catboost.__version__"
   ]
  },
  {
   "cell_type": "code",
   "execution_count": 2,
   "metadata": {
    "ExecuteTime": {
     "end_time": "2020-09-21T14:52:57.597131Z",
     "start_time": "2020-09-21T14:52:56.039087Z"
    }
   },
   "outputs": [],
   "source": [
    "import os\n",
    "import warnings\n",
    "import numpy as np\n",
    "import pandas as pd\n",
    "import matplotlib.pyplot as plt\n",
    "import lightgbm as lgb\n",
    "import time\n",
    "from sklearn.linear_model import HuberRegressor\n",
    "import sklearn.ensemble as tree_model\n",
    "from tqdm import tqdm\n",
    "import datetime\n",
    "pd.set_option('display.max_column',100)\n",
    "warnings.filterwarnings('ignore')\n",
    "\n",
    "%load_ext autoreload\n",
    "%autoreload 2\n",
    "from utils import make_dir, score, timer, kf_lgbm, kf_xgbm, kf_ctbm, kf_sklearn"
   ]
  },
  {
   "cell_type": "code",
   "execution_count": 3,
   "metadata": {
    "ExecuteTime": {
     "end_time": "2020-09-21T14:52:57.694358Z",
     "start_time": "2020-09-21T14:52:57.597131Z"
    }
   },
   "outputs": [],
   "source": [
    "def make_features(df):\n",
    "    app_feature = [\n",
    "        '当月网购类应用使用次数',\n",
    "        '当月物流快递类应用使用次数',\n",
    "        '当月金融理财类应用使用总次数',\n",
    "        '当月视频播放类应用使用次数',\n",
    "        '当月飞机类应用使用次数',\n",
    "        '当月火车类应用使用次数',\n",
    "        '当月旅游资讯类应用使用次数',\n",
    "    ]\n",
    "    \n",
    "    for f in app_feature:\n",
    "        df['round_log1p'+f] = np.round(np.log1p(df[f])).astype(int)\n",
    "    \n",
    "    df['前五个月消费总费用'] = 6*df['用户近6个月平均消费值（元）'] - df['用户账单当月总费用（元）']\n",
    "    df['前五个月消费平均费用'] = df['前五个月消费总费用'] / 5\n",
    "    df['当月费用/前五个月消费平均费用'] = (df['用户账单当月总费用（元）']) / (1+df['前五个月消费平均费用'])\n",
    "    df['当月费用-前五个月消费平均费用'] = df['用户账单当月总费用（元）'] - df['前五个月消费平均费用']\n",
    "        \n",
    "    def make_count_feature(df, col, fea_name):\n",
    "        df['idx'] = range(len(df))\n",
    "        tmp = df.groupby(col)['用户编码'].agg([\n",
    "            (fea_name,'count')]).reset_index()\n",
    "        df = df.merge(tmp)\n",
    "        df = df.sort_values('idx').drop('idx',axis=1).reset_index(drop=True)\n",
    "        return df\n",
    "        \n",
    "    df = make_count_feature(df, '缴费用户最近一次缴费金额（元）','count_缴费')\n",
    "    df = make_count_feature(df, '用户账单当月总费用（元）','count_当月费用')\n",
    "    df = make_count_feature(df, '前五个月消费总费用', 'count_总费用')\n",
    "    df = make_count_feature(df, '当月费用-前五个月消费平均费用', 'count_费用差')\n",
    "    df = make_count_feature(df, '用户近6个月平均消费值（元）', 'count_平均费用')\n",
    "    df = make_count_feature(df, ['用户账单当月总费用（元）','用户近6个月平均消费值（元）'],\n",
    "                            'count_当月费用_平均费用')\n",
    "            \n",
    "    arr = df['缴费用户最近一次缴费金额（元）']\n",
    "    df['是否998折'] = ((arr/0.998)%1==0)&(arr!=0)\n",
    "    \n",
    "    df['年龄_0_as_nan'] = np.where(df['用户年龄']==0, [np.nan]*len(df), df['用户年龄'])\n",
    "    \n",
    "#     df['用户话费敏感度_0_as_nan'] = np.where(df['用户话费敏感度']==0, [np.nan]*len(df), df['用户话费敏感度'])\n",
    "    \n",
    "    return df\n",
    "    \n",
    "def load_df_and_make_features():\n",
    "    train_df = pd.read_csv('../../input/train_dataset.csv')\n",
    "    test_df = pd.read_csv('../../input/test_dataset.csv')\n",
    "    train_df['train'] = 1\n",
    "    test_df['train'] = 0\n",
    "    df = pd.concat([train_df,test_df])\n",
    "    df = make_features(df)\n",
    "    return df"
   ]
  },
  {
   "cell_type": "code",
   "execution_count": 4,
   "metadata": {
    "ExecuteTime": {
     "end_time": "2020-09-21T14:52:57.771294Z",
     "start_time": "2020-09-21T14:52:57.697337Z"
    }
   },
   "outputs": [],
   "source": [
    "feature_name1 = \\\n",
    "['用户年龄',\n",
    " '用户网龄（月）',\n",
    " '用户实名制是否通过核实',\n",
    " '是否大学生客户',\n",
    " '是否4G不健康客户',\n",
    " '用户最近一次缴费距今时长（月）',\n",
    " '缴费用户最近一次缴费金额（元）',\n",
    " '用户近6个月平均消费值（元）',\n",
    " '用户账单当月总费用（元）',\n",
    " '用户当月账户余额（元）',\n",
    " '用户话费敏感度',\n",
    " '当月费用-前五个月消费平均费用',\n",
    " '前五个月消费总费用',\n",
    " 'count_缴费',\n",
    " 'count_当月费用',\n",
    " 'count_费用差',\n",
    " 'count_平均费用',\n",
    " 'count_当月费用_平均费用',\n",
    " '是否998折',\n",
    " '当月通话交往圈人数',\n",
    " '近三个月月均商场出现次数',\n",
    " '当月网购类应用使用次数',\n",
    " '当月物流快递类应用使用次数',\n",
    " '当月金融理财类应用使用总次数',\n",
    " '当月视频播放类应用使用次数',\n",
    " '当月飞机类应用使用次数',\n",
    " '当月火车类应用使用次数',\n",
    " '当月旅游资讯类应用使用次数',\n",
    " '当月是否逛过福州仓山万达',\n",
    " '当月是否到过福州山姆会员店',\n",
    " '当月是否看电影',\n",
    " '当月是否景点游览',\n",
    " '当月是否体育场馆消费',\n",
    " '是否经常逛商场的人',\n",
    " '是否黑名单客户',\n",
    " '缴费用户当前是否欠费缴费']"
   ]
  },
  {
   "cell_type": "code",
   "execution_count": 5,
   "metadata": {
    "ExecuteTime": {
     "end_time": "2020-09-21T14:53:01.612334Z",
     "start_time": "2020-09-21T14:52:57.774292Z"
    }
   },
   "outputs": [],
   "source": [
    "df = load_df_and_make_features()\n",
    "train_df = df[df['train']==1]\n",
    "test_df = df[df['train']!=1]"
   ]
  },
  {
   "cell_type": "code",
   "execution_count": 6,
   "metadata": {
    "ExecuteTime": {
     "end_time": "2020-09-21T14:53:01.695809Z",
     "start_time": "2020-09-21T14:53:01.612334Z"
    }
   },
   "outputs": [],
   "source": [
    "output_dir = './stacking_files/'"
   ]
  },
  {
   "cell_type": "code",
   "execution_count": 7,
   "metadata": {
    "ExecuteTime": {
     "end_time": "2020-09-21T15:05:41.306522Z",
     "start_time": "2020-09-21T14:53:01.702805Z"
    }
   },
   "outputs": [
    {
     "name": "stdout",
     "output_type": "stream",
     "text": [
      "\n",
      "================================================== Fold 1 ==================================================\n",
      "0:\tlearn: 3.3816786\ttest: 3.3825730\tbest: 3.3825730 (0)\ttotal: 221ms\tremaining: 1h 13m 41s\n",
      "1000:\tlearn: 1.3882032\ttest: 1.5723344\tbest: 1.5718877 (911)\ttotal: 48s\tremaining: 15m 11s\n",
      "Stopped by overfitting detector  (200 iterations wait)\n",
      "\n",
      "bestTest = 1.57188773\n",
      "bestIteration = 911\n",
      "\n",
      "Shrink model to first 912 iterations.\n",
      "\n",
      "================================================== Fold 2 ==================================================\n",
      "0:\tlearn: 3.3828621\ttest: 3.3802286\tbest: 3.3802286 (0)\ttotal: 56ms\tremaining: 18m 40s\n",
      "1000:\tlearn: 1.3883101\ttest: 1.5271197\tbest: 1.5269882 (965)\ttotal: 47.8s\tremaining: 15m 8s\n",
      "Stopped by overfitting detector  (200 iterations wait)\n",
      "\n",
      "bestTest = 1.525751995\n",
      "bestIteration = 1055\n",
      "\n",
      "Shrink model to first 1056 iterations.\n",
      "\n",
      "================================================== Fold 3 ==================================================\n",
      "0:\tlearn: 3.3821001\ttest: 3.3831285\tbest: 3.3831285 (0)\ttotal: 67.4ms\tremaining: 22m 28s\n",
      "1000:\tlearn: 1.3839131\ttest: 1.5639489\tbest: 1.5636502 (991)\ttotal: 48.2s\tremaining: 15m 13s\n",
      "Stopped by overfitting detector  (200 iterations wait)\n",
      "\n",
      "bestTest = 1.562544395\n",
      "bestIteration = 1356\n",
      "\n",
      "Shrink model to first 1357 iterations.\n",
      "\n",
      "================================================== Fold 4 ==================================================\n",
      "0:\tlearn: 3.3815688\ttest: 3.3829314\tbest: 3.3829314 (0)\ttotal: 60ms\tremaining: 20m\n",
      "1000:\tlearn: 1.3931398\ttest: 1.5706597\tbest: 1.5705853 (999)\ttotal: 56.2s\tremaining: 17m 47s\n",
      "2000:\tlearn: 1.2952796\ttest: 1.5674523\tbest: 1.5673391 (1995)\ttotal: 1m 45s\tremaining: 15m 49s\n",
      "Stopped by overfitting detector  (200 iterations wait)\n",
      "\n",
      "bestTest = 1.567138571\n",
      "bestIteration = 2087\n",
      "\n",
      "Shrink model to first 2088 iterations.\n",
      "\n",
      "================================================== Fold 5 ==================================================\n",
      "0:\tlearn: 3.3823960\ttest: 3.3823512\tbest: 3.3823512 (0)\ttotal: 52.6ms\tremaining: 17m 31s\n",
      "1000:\tlearn: 1.3830632\ttest: 1.5726033\tbest: 1.5726033 (1000)\ttotal: 48.1s\tremaining: 15m 13s\n",
      "Stopped by overfitting detector  (200 iterations wait)\n",
      "\n",
      "bestTest = 1.571670596\n",
      "bestIteration = 1204\n",
      "\n",
      "Shrink model to first 1205 iterations.\n",
      "\n",
      "================================================== Fold 6 ==================================================\n",
      "0:\tlearn: 3.3822140\ttest: 3.3838063\tbest: 3.3838063 (0)\ttotal: 53.5ms\tremaining: 17m 48s\n",
      "1000:\tlearn: 1.3854745\ttest: 1.5854017\tbest: 1.5851632 (936)\ttotal: 47.8s\tremaining: 15m 7s\n",
      "2000:\tlearn: 1.2867211\ttest: 1.5819300\tbest: 1.5817002 (1953)\ttotal: 1m 36s\tremaining: 14m 28s\n",
      "Stopped by overfitting detector  (200 iterations wait)\n",
      "\n",
      "bestTest = 1.581672355\n",
      "bestIteration = 2141\n",
      "\n",
      "Shrink model to first 2142 iterations.\n",
      "\n",
      "================================================== Fold 7 ==================================================\n",
      "0:\tlearn: 3.3819119\ttest: 3.3805605\tbest: 3.3805605 (0)\ttotal: 53.5ms\tremaining: 17m 50s\n",
      "1000:\tlearn: 1.3852095\ttest: 1.5779290\tbest: 1.5778315 (953)\ttotal: 47.1s\tremaining: 14m 53s\n",
      "Stopped by overfitting detector  (200 iterations wait)\n",
      "\n",
      "bestTest = 1.57589614\n",
      "bestIteration = 1649\n",
      "\n",
      "Shrink model to first 1650 iterations.\n",
      "\n",
      "================================================== Fold 8 ==================================================\n",
      "0:\tlearn: 3.3825459\ttest: 3.3821358\tbest: 3.3821358 (0)\ttotal: 64.9ms\tremaining: 21m 37s\n",
      "1000:\tlearn: 1.3888770\ttest: 1.5455657\tbest: 1.5454264 (996)\ttotal: 48s\tremaining: 15m 10s\n",
      "Stopped by overfitting detector  (200 iterations wait)\n",
      "\n",
      "bestTest = 1.545329574\n",
      "bestIteration = 1055\n",
      "\n",
      "Shrink model to first 1056 iterations.\n",
      "\n",
      "================================================== Fold 9 ==================================================\n",
      "0:\tlearn: 3.3819827\ttest: 3.3851157\tbest: 3.3851157 (0)\ttotal: 53.6ms\tremaining: 17m 51s\n",
      "1000:\tlearn: 1.3802167\ttest: 1.6009366\tbest: 1.6007618 (981)\ttotal: 47.7s\tremaining: 15m 4s\n",
      "Stopped by overfitting detector  (200 iterations wait)\n",
      "\n",
      "bestTest = 1.600761611\n",
      "bestIteration = 1005\n",
      "\n",
      "Shrink model to first 1006 iterations.\n",
      "\n",
      "================================================== Fold 10 ==================================================\n",
      "0:\tlearn: 3.3819681\ttest: 3.3798323\tbest: 3.3798323 (0)\ttotal: 53.9ms\tremaining: 17m 57s\n",
      "1000:\tlearn: 1.3838237\ttest: 1.5543537\tbest: 1.5535511 (927)\ttotal: 48.9s\tremaining: 15m 27s\n",
      "Stopped by overfitting detector  (200 iterations wait)\n",
      "\n",
      "bestTest = 1.553551072\n",
      "bestIteration = 927\n",
      "\n",
      "Shrink model to first 928 iterations.\n",
      "====================================================================================================\n",
      "0.06371598663536472\t0.06566193009652602\t0.06379783405331928\t0.06390363356371441\t0.06367153429350512\t0.06359452053668657\t0.06366436716537989\t0.06479013852057512\t0.0625671775617724\t0.06426067135052836\n",
      "min score: 0.062567\n",
      "max score: 0.065662\n",
      "median score: 0.063757\n",
      "mean score: 0.063963\n",
      "[601.60261066 536.41120434 669.75968733 675.18648775 659.49422239\n",
      " 613.87909521 640.39603168 573.22220328 671.35624295 589.55786516]\n"
     ]
    }
   ],
   "source": [
    "x, y = train_df[feature_name1], train_df['信用分'].values\n",
    "x_test = test_df[feature_name1]\n",
    "\n",
    "def fn_transform(x):\n",
    "    return np.power(1.005, x)\n",
    "def fn_reverse_transform(x):\n",
    "    ret = np.log(x)/np.log(1.005)\n",
    "    return ret\n",
    "\n",
    "y = fn_transform(y)\n",
    "\n",
    "model = kf_ctbm(x=x,y=y,x_test=x_test, output_dir=output_dir,name='gotcha_ctb1',\n",
    "                cat_features_idx=[10],\n",
    "                task_type='CPU',\n",
    "                fn_reverse_transform=fn_reverse_transform,\n",
    "                use_best_model=True,\n",
    "                n_estimators=20000,\n",
    "                early_stopping_rounds=200,\n",
    "                depth=7,\n",
    "                learning_rate=0.05,\n",
    "                bootstrap_type='Bernoulli',\n",
    "                l2_leaf_reg=50,\n",
    "                subsample=0.6,\n",
    "                verbose=1000,\n",
    "                loss_function='MAE',\n",
    "                random_state=2019,\n",
    "                thread_count=4)"
   ]
  }
 ],
 "metadata": {
  "kernelspec": {
   "display_name": "Python 3",
   "language": "python",
   "name": "python3"
  },
  "language_info": {
   "codemirror_mode": {
    "name": "ipython",
    "version": 3
   },
   "file_extension": ".py",
   "mimetype": "text/x-python",
   "name": "python",
   "nbconvert_exporter": "python",
   "pygments_lexer": "ipython3",
   "version": "3.7.3"
  },
  "toc": {
   "base_numbering": 1,
   "nav_menu": {},
   "number_sections": true,
   "sideBar": true,
   "skip_h1_title": false,
   "title_cell": "Table of Contents",
   "title_sidebar": "Contents",
   "toc_cell": false,
   "toc_position": {},
   "toc_section_display": true,
   "toc_window_display": false
  },
  "varInspector": {
   "cols": {
    "lenName": 16,
    "lenType": 16,
    "lenVar": 40
   },
   "kernels_config": {
    "python": {
     "delete_cmd_postfix": "",
     "delete_cmd_prefix": "del ",
     "library": "var_list.py",
     "varRefreshCmd": "print(var_dic_list())"
    },
    "r": {
     "delete_cmd_postfix": ") ",
     "delete_cmd_prefix": "rm(",
     "library": "var_list.r",
     "varRefreshCmd": "cat(var_dic_list()) "
    }
   },
   "types_to_exclude": [
    "module",
    "function",
    "builtin_function_or_method",
    "instance",
    "_Feature"
   ],
   "window_display": false
  }
 },
 "nbformat": 4,
 "nbformat_minor": 2
}
