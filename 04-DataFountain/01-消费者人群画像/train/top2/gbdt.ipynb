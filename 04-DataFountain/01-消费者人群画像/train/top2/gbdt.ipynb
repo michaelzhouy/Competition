{
 "cells": [
  {
   "cell_type": "code",
   "execution_count": 1,
   "metadata": {
    "ExecuteTime": {
     "end_time": "2020-09-21T14:31:44.709750Z",
     "start_time": "2020-09-21T14:31:42.245134Z"
    }
   },
   "outputs": [],
   "source": [
    "import os\n",
    "import warnings\n",
    "import numpy as np\n",
    "import pandas as pd\n",
    "import matplotlib.pyplot as plt\n",
    "import lightgbm as lgb\n",
    "import time\n",
    "from sklearn.linear_model import HuberRegressor\n",
    "import sklearn.ensemble as tree_model\n",
    "from tqdm import tqdm\n",
    "import datetime\n",
    "pd.set_option('display.max_column',100)\n",
    "warnings.filterwarnings('ignore')\n",
    "\n",
    "%load_ext autoreload\n",
    "%autoreload 2\n",
    "from utils import make_dir, score, timer, kf_lgbm, kf_xgbm, kf_ctbm, kf_sklearn"
   ]
  },
  {
   "cell_type": "code",
   "execution_count": 2,
   "metadata": {
    "ExecuteTime": {
     "end_time": "2020-09-21T14:31:44.793173Z",
     "start_time": "2020-09-21T14:31:44.709750Z"
    }
   },
   "outputs": [
    {
     "data": {
      "text/plain": [
       "'0.21.2'"
      ]
     },
     "execution_count": 2,
     "metadata": {},
     "output_type": "execute_result"
    }
   ],
   "source": [
    "import sklearn\n",
    "sklearn.__version__"
   ]
  },
  {
   "cell_type": "code",
   "execution_count": 3,
   "metadata": {
    "ExecuteTime": {
     "end_time": "2020-09-21T14:31:44.885120Z",
     "start_time": "2020-09-21T14:31:44.800170Z"
    }
   },
   "outputs": [],
   "source": [
    "def make_features(df):\n",
    "    app_feature = [\n",
    "        '当月网购类应用使用次数',\n",
    "        '当月物流快递类应用使用次数',\n",
    "        '当月金融理财类应用使用总次数',\n",
    "        '当月视频播放类应用使用次数',\n",
    "        '当月飞机类应用使用次数',\n",
    "        '当月火车类应用使用次数',\n",
    "        '当月旅游资讯类应用使用次数',\n",
    "    ]\n",
    "    \n",
    "    for f in app_feature:\n",
    "        df['round_log1p'+f] = np.round(np.log1p(df[f])).astype(int)\n",
    "    \n",
    "    df['前五个月消费总费用'] = 6 * df['用户近6个月平均消费值（元）'] - df['用户账单当月总费用（元）']\n",
    "    df['前五个月消费平均费用'] = df['前五个月消费总费用'] / 5\n",
    "    df['当月费用/前五个月消费平均费用'] = (df['用户账单当月总费用（元）'] / (1+df['前五个月消费平均费用']))\n",
    "    df['当月费用-前五个月消费平均费用'] = df['用户账单当月总费用（元）'] - df['前五个月消费平均费用']\n",
    "        \n",
    "    def make_count_feature(df, col, fea_name):\n",
    "        df['idx'] = range(len(df))\n",
    "        tmp = df.groupby(col)['用户编码'].agg([\n",
    "            (fea_name,'count')]).reset_index()\n",
    "        df = df.merge(tmp)\n",
    "        df = df.sort_values('idx').drop('idx', axis=1).reset_index(drop=True)\n",
    "        return df\n",
    "        \n",
    "    df = make_count_feature(df, '缴费用户最近一次缴费金额（元）','count_缴费')\n",
    "    df = make_count_feature(df, '用户账单当月总费用（元）','count_当月费用')\n",
    "    df = make_count_feature(df, '前五个月消费总费用', 'count_总费用')\n",
    "    df = make_count_feature(df, '当月费用-前五个月消费平均费用', 'count_费用差')\n",
    "    df = make_count_feature(df, '用户近6个月平均消费值（元）', 'count_平均费用')\n",
    "    df = make_count_feature(df, ['用户账单当月总费用（元）','用户近6个月平均消费值（元）'],\n",
    "                            'count_当月费用_平均费用')\n",
    "            \n",
    "    arr = df['缴费用户最近一次缴费金额（元）']\n",
    "    df['是否998折'] = ((arr/0.998)%1==0)&(arr!=0)\n",
    "    \n",
    "    df['年龄_0_as_nan'] = np.where(df['用户年龄']==0, [np.nan]*len(df), df['用户年龄'])\n",
    "    \n",
    "    return df\n",
    "    \n",
    "def load_df_and_make_features():\n",
    "    train_df = pd.read_csv('../../input/train_dataset.csv')\n",
    "    test_df = pd.read_csv('../../input/test_dataset.csv')\n",
    "    train_df['train'] = 1\n",
    "    test_df['train'] = 0\n",
    "    df = pd.concat([train_df,test_df])\n",
    "    df = make_features(df)\n",
    "    return df"
   ]
  },
  {
   "cell_type": "code",
   "execution_count": 4,
   "metadata": {
    "ExecuteTime": {
     "end_time": "2020-09-21T14:31:44.968072Z",
     "start_time": "2020-09-21T14:31:44.889118Z"
    }
   },
   "outputs": [],
   "source": [
    "feature_name1 = \\\n",
    "['用户年龄',\n",
    " '用户网龄（月）',\n",
    " '用户实名制是否通过核实',\n",
    " '是否大学生客户',\n",
    " '是否4G不健康客户',\n",
    " '用户最近一次缴费距今时长（月）',\n",
    " '缴费用户最近一次缴费金额（元）',\n",
    " '用户近6个月平均消费值（元）',\n",
    " '用户账单当月总费用（元）',\n",
    " '用户当月账户余额（元）',\n",
    " '用户话费敏感度',\n",
    " '当月费用-前五个月消费平均费用',\n",
    " '前五个月消费总费用',\n",
    " 'count_缴费',\n",
    " 'count_当月费用',\n",
    " 'count_费用差',\n",
    " 'count_平均费用',\n",
    " 'count_当月费用_平均费用',\n",
    " '是否998折',\n",
    " '当月通话交往圈人数',\n",
    " '近三个月月均商场出现次数',\n",
    " '当月网购类应用使用次数',\n",
    " '当月物流快递类应用使用次数',\n",
    " '当月金融理财类应用使用总次数',\n",
    " '当月视频播放类应用使用次数',\n",
    " '当月飞机类应用使用次数',\n",
    " '当月火车类应用使用次数',\n",
    " '当月旅游资讯类应用使用次数',\n",
    " '当月是否逛过福州仓山万达',\n",
    " '当月是否到过福州山姆会员店',\n",
    " '当月是否看电影',\n",
    " '当月是否景点游览',\n",
    " '当月是否体育场馆消费',\n",
    " '是否经常逛商场的人',\n",
    " '是否黑名单客户',\n",
    " '缴费用户当前是否欠费缴费']"
   ]
  },
  {
   "cell_type": "code",
   "execution_count": 5,
   "metadata": {
    "ExecuteTime": {
     "end_time": "2020-09-21T14:31:48.638336Z",
     "start_time": "2020-09-21T14:31:44.971071Z"
    }
   },
   "outputs": [],
   "source": [
    "df = load_df_and_make_features()\n",
    "train_df = df[df['train']==1]\n",
    "test_df = df[df['train']!=1]"
   ]
  },
  {
   "cell_type": "code",
   "execution_count": 6,
   "metadata": {
    "ExecuteTime": {
     "end_time": "2020-09-21T14:31:56.495180Z",
     "start_time": "2020-09-21T14:31:56.405248Z"
    }
   },
   "outputs": [],
   "source": [
    "output_dir = './stacking_files/' "
   ]
  },
  {
   "cell_type": "code",
   "execution_count": 7,
   "metadata": {
    "ExecuteTime": {
     "end_time": "2020-09-21T14:46:59.885836Z",
     "start_time": "2020-09-21T14:32:01.873153Z"
    }
   },
   "outputs": [
    {
     "name": "stdout",
     "output_type": "stream",
     "text": [
      "\n",
      "================================================== Fold 1 ==================================================\n",
      "\n",
      "================================================== Fold 2 ==================================================\n",
      "\n",
      "================================================== Fold 3 ==================================================\n",
      "\n",
      "================================================== Fold 4 ==================================================\n",
      "\n",
      "================================================== Fold 5 ==================================================\n",
      "\n",
      "================================================== Fold 6 ==================================================\n",
      "\n",
      "================================================== Fold 7 ==================================================\n",
      "\n",
      "================================================== Fold 8 ==================================================\n",
      "\n",
      "================================================== Fold 9 ==================================================\n",
      "\n",
      "================================================== Fold 10 ==================================================\n",
      "====================================================================================================\n",
      "0.06324402798764756\t0.06467305928360621\t0.06316759004119493\t0.06293936759760424\t0.06298253318369931\t0.06300960669643738\t0.06257106810373973\t0.06425521779322262\t0.06193443162686104\t0.06357533738336087\n",
      "min score: 0.061934\n",
      "max score: 0.064673\n",
      "median score: 0.063089\n",
      "mean score: 0.063235\n",
      "[603.07159501 542.80130713 669.43226083 676.86287645 656.35332729\n",
      " 614.78635223 639.77509938 567.34912497 673.08030898 589.42860921]\n"
     ]
    }
   ],
   "source": [
    "x, y = train_df[feature_name1], train_df['信用分'].values\n",
    "x_test = test_df[feature_name1]\n",
    "\n",
    "model = kf_sklearn(x=x,y=y,x_test=x_test,output_dir=output_dir,name=\"gotcha_gbdt1\",\n",
    "                   model_class=tree_model.GradientBoostingRegressor, \n",
    "                   n_estimators=250,subsample=0.8,min_samples_leaf=10,\n",
    "                   max_depth=7,loss='huber',random_state=2019)"
   ]
  }
 ],
 "metadata": {
  "kernelspec": {
   "display_name": "Python 3",
   "language": "python",
   "name": "python3"
  },
  "language_info": {
   "codemirror_mode": {
    "name": "ipython",
    "version": 3
   },
   "file_extension": ".py",
   "mimetype": "text/x-python",
   "name": "python",
   "nbconvert_exporter": "python",
   "pygments_lexer": "ipython3",
   "version": "3.7.3"
  },
  "toc": {
   "base_numbering": 1,
   "nav_menu": {},
   "number_sections": true,
   "sideBar": true,
   "skip_h1_title": false,
   "title_cell": "Table of Contents",
   "title_sidebar": "Contents",
   "toc_cell": false,
   "toc_position": {},
   "toc_section_display": true,
   "toc_window_display": false
  },
  "varInspector": {
   "cols": {
    "lenName": 16,
    "lenType": 16,
    "lenVar": 40
   },
   "kernels_config": {
    "python": {
     "delete_cmd_postfix": "",
     "delete_cmd_prefix": "del ",
     "library": "var_list.py",
     "varRefreshCmd": "print(var_dic_list())"
    },
    "r": {
     "delete_cmd_postfix": ") ",
     "delete_cmd_prefix": "rm(",
     "library": "var_list.r",
     "varRefreshCmd": "cat(var_dic_list()) "
    }
   },
   "types_to_exclude": [
    "module",
    "function",
    "builtin_function_or_method",
    "instance",
    "_Feature"
   ],
   "window_display": false
  }
 },
 "nbformat": 4,
 "nbformat_minor": 2
}
