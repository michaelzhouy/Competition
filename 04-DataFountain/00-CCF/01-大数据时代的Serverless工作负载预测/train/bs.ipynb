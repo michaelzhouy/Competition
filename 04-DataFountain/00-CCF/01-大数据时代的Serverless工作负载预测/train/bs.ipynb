{
 "cells": [
  {
   "cell_type": "code",
   "execution_count": 1,
   "metadata": {
    "ExecuteTime": {
     "end_time": "2020-10-31T03:51:16.667181Z",
     "start_time": "2020-10-31T03:51:15.875409Z"
    }
   },
   "outputs": [],
   "source": [
    "import numpy as np\n",
    "import pandas as pd\n",
    "pd.set_option('max_columns', 100)\n",
    "pd.set_option('max_rows', 100)\n",
    "from tqdm.notebook import tqdm\n",
    "from sklearn.preprocessing import LabelEncoder\n",
    "from sklearn.model_selection import GroupKFold, KFold\n",
    "from sklearn.metrics import mean_squared_error\n",
    "import lightgbm as lgb\n",
    "import gc\n",
    "import warnings\n",
    "warnings.simplefilter('ignore')"
   ]
  },
  {
   "cell_type": "code",
   "execution_count": null,
   "metadata": {},
   "outputs": [],
   "source": []
  },
  {
   "cell_type": "code",
   "execution_count": 2,
   "metadata": {
    "ExecuteTime": {
     "end_time": "2020-10-31T03:51:17.388475Z",
     "start_time": "2020-10-31T03:51:16.669122Z"
    }
   },
   "outputs": [],
   "source": [
    "train = pd.read_csv('../input/train.csv')\n",
    "train = train.sort_values(by=['QUEUE_ID', 'DOTTING_TIME']).reset_index(drop=True)\n",
    "\n",
    "test = pd.read_csv('../input/evaluation_public.csv')\n",
    "test = test.sort_values(by=['ID', 'DOTTING_TIME']).reset_index(drop=True)\n",
    "\n",
    "sub_sample = pd.read_csv('../input/submit_example.csv')"
   ]
  },
  {
   "cell_type": "code",
   "execution_count": 3,
   "metadata": {
    "ExecuteTime": {
     "end_time": "2020-10-31T03:51:17.409168Z",
     "start_time": "2020-10-31T03:51:17.390168Z"
    }
   },
   "outputs": [
    {
     "data": {
      "text/html": [
       "<div>\n",
       "<style scoped>\n",
       "    .dataframe tbody tr th:only-of-type {\n",
       "        vertical-align: middle;\n",
       "    }\n",
       "\n",
       "    .dataframe tbody tr th {\n",
       "        vertical-align: top;\n",
       "    }\n",
       "\n",
       "    .dataframe thead th {\n",
       "        text-align: right;\n",
       "    }\n",
       "</style>\n",
       "<table border=\"1\" class=\"dataframe\">\n",
       "  <thead>\n",
       "    <tr style=\"text-align: right;\">\n",
       "      <th></th>\n",
       "      <th>QUEUE_ID</th>\n",
       "      <th>CU</th>\n",
       "      <th>STATUS</th>\n",
       "      <th>QUEUE_TYPE</th>\n",
       "      <th>PLATFORM</th>\n",
       "      <th>CPU_USAGE</th>\n",
       "      <th>MEM_USAGE</th>\n",
       "      <th>LAUNCHING_JOB_NUMS</th>\n",
       "      <th>RUNNING_JOB_NUMS</th>\n",
       "      <th>SUCCEED_JOB_NUMS</th>\n",
       "      <th>CANCELLED_JOB_NUMS</th>\n",
       "      <th>FAILED_JOB_NUMS</th>\n",
       "      <th>DOTTING_TIME</th>\n",
       "      <th>RESOURCE_TYPE</th>\n",
       "      <th>DISK_USAGE</th>\n",
       "    </tr>\n",
       "  </thead>\n",
       "  <tbody>\n",
       "    <tr>\n",
       "      <th>0</th>\n",
       "      <td>2</td>\n",
       "      <td>16</td>\n",
       "      <td>available</td>\n",
       "      <td>sql</td>\n",
       "      <td>x86_64</td>\n",
       "      <td>3</td>\n",
       "      <td>54</td>\n",
       "      <td>0</td>\n",
       "      <td>0</td>\n",
       "      <td>0</td>\n",
       "      <td>0</td>\n",
       "      <td>0</td>\n",
       "      <td>1590683100000</td>\n",
       "      <td>vm</td>\n",
       "      <td>20.0</td>\n",
       "    </tr>\n",
       "    <tr>\n",
       "      <th>1</th>\n",
       "      <td>2</td>\n",
       "      <td>16</td>\n",
       "      <td>available</td>\n",
       "      <td>sql</td>\n",
       "      <td>x86_64</td>\n",
       "      <td>2</td>\n",
       "      <td>54</td>\n",
       "      <td>0</td>\n",
       "      <td>0</td>\n",
       "      <td>0</td>\n",
       "      <td>0</td>\n",
       "      <td>0</td>\n",
       "      <td>1590683400000</td>\n",
       "      <td>vm</td>\n",
       "      <td>20.0</td>\n",
       "    </tr>\n",
       "    <tr>\n",
       "      <th>2</th>\n",
       "      <td>2</td>\n",
       "      <td>16</td>\n",
       "      <td>available</td>\n",
       "      <td>sql</td>\n",
       "      <td>x86_64</td>\n",
       "      <td>7</td>\n",
       "      <td>54</td>\n",
       "      <td>0</td>\n",
       "      <td>0</td>\n",
       "      <td>0</td>\n",
       "      <td>0</td>\n",
       "      <td>0</td>\n",
       "      <td>1590683700000</td>\n",
       "      <td>vm</td>\n",
       "      <td>20.0</td>\n",
       "    </tr>\n",
       "    <tr>\n",
       "      <th>3</th>\n",
       "      <td>2</td>\n",
       "      <td>16</td>\n",
       "      <td>available</td>\n",
       "      <td>sql</td>\n",
       "      <td>x86_64</td>\n",
       "      <td>4</td>\n",
       "      <td>54</td>\n",
       "      <td>0</td>\n",
       "      <td>0</td>\n",
       "      <td>0</td>\n",
       "      <td>0</td>\n",
       "      <td>0</td>\n",
       "      <td>1590684000000</td>\n",
       "      <td>vm</td>\n",
       "      <td>20.0</td>\n",
       "    </tr>\n",
       "    <tr>\n",
       "      <th>4</th>\n",
       "      <td>2</td>\n",
       "      <td>16</td>\n",
       "      <td>available</td>\n",
       "      <td>sql</td>\n",
       "      <td>x86_64</td>\n",
       "      <td>5</td>\n",
       "      <td>54</td>\n",
       "      <td>0</td>\n",
       "      <td>0</td>\n",
       "      <td>0</td>\n",
       "      <td>0</td>\n",
       "      <td>0</td>\n",
       "      <td>1590684120000</td>\n",
       "      <td>vm</td>\n",
       "      <td>20.0</td>\n",
       "    </tr>\n",
       "  </tbody>\n",
       "</table>\n",
       "</div>"
      ],
      "text/plain": [
       "   QUEUE_ID  CU     STATUS QUEUE_TYPE PLATFORM  CPU_USAGE  MEM_USAGE  \\\n",
       "0         2  16  available        sql   x86_64          3         54   \n",
       "1         2  16  available        sql   x86_64          2         54   \n",
       "2         2  16  available        sql   x86_64          7         54   \n",
       "3         2  16  available        sql   x86_64          4         54   \n",
       "4         2  16  available        sql   x86_64          5         54   \n",
       "\n",
       "   LAUNCHING_JOB_NUMS  RUNNING_JOB_NUMS  SUCCEED_JOB_NUMS  CANCELLED_JOB_NUMS  \\\n",
       "0                   0                 0                 0                   0   \n",
       "1                   0                 0                 0                   0   \n",
       "2                   0                 0                 0                   0   \n",
       "3                   0                 0                 0                   0   \n",
       "4                   0                 0                 0                   0   \n",
       "\n",
       "   FAILED_JOB_NUMS   DOTTING_TIME RESOURCE_TYPE  DISK_USAGE  \n",
       "0                0  1590683100000            vm        20.0  \n",
       "1                0  1590683400000            vm        20.0  \n",
       "2                0  1590683700000            vm        20.0  \n",
       "3                0  1590684000000            vm        20.0  \n",
       "4                0  1590684120000            vm        20.0  "
      ]
     },
     "execution_count": 3,
     "metadata": {},
     "output_type": "execute_result"
    }
   ],
   "source": [
    "train.head()"
   ]
  },
  {
   "cell_type": "code",
   "execution_count": 4,
   "metadata": {
    "ExecuteTime": {
     "end_time": "2020-10-31T03:51:17.423115Z",
     "start_time": "2020-10-31T03:51:17.410113Z"
    }
   },
   "outputs": [
    {
     "data": {
      "text/html": [
       "<div>\n",
       "<style scoped>\n",
       "    .dataframe tbody tr th:only-of-type {\n",
       "        vertical-align: middle;\n",
       "    }\n",
       "\n",
       "    .dataframe tbody tr th {\n",
       "        vertical-align: top;\n",
       "    }\n",
       "\n",
       "    .dataframe thead th {\n",
       "        text-align: right;\n",
       "    }\n",
       "</style>\n",
       "<table border=\"1\" class=\"dataframe\">\n",
       "  <thead>\n",
       "    <tr style=\"text-align: right;\">\n",
       "      <th></th>\n",
       "      <th>ID</th>\n",
       "      <th>QUEUE_ID</th>\n",
       "      <th>CU</th>\n",
       "      <th>STATUS</th>\n",
       "      <th>QUEUE_TYPE</th>\n",
       "      <th>PLATFORM</th>\n",
       "      <th>CPU_USAGE</th>\n",
       "      <th>MEM_USAGE</th>\n",
       "      <th>LAUNCHING_JOB_NUMS</th>\n",
       "      <th>RUNNING_JOB_NUMS</th>\n",
       "      <th>SUCCEED_JOB_NUMS</th>\n",
       "      <th>CANCELLED_JOB_NUMS</th>\n",
       "      <th>FAILED_JOB_NUMS</th>\n",
       "      <th>DOTTING_TIME</th>\n",
       "      <th>RESOURCE_TYPE</th>\n",
       "      <th>DISK_USAGE</th>\n",
       "    </tr>\n",
       "  </thead>\n",
       "  <tbody>\n",
       "    <tr>\n",
       "      <th>0</th>\n",
       "      <td>1</td>\n",
       "      <td>297</td>\n",
       "      <td>16</td>\n",
       "      <td>available</td>\n",
       "      <td>sql</td>\n",
       "      <td>x86_64</td>\n",
       "      <td>60</td>\n",
       "      <td>69</td>\n",
       "      <td>0</td>\n",
       "      <td>5</td>\n",
       "      <td>5</td>\n",
       "      <td>0</td>\n",
       "      <td>0</td>\n",
       "      <td>1662213420000</td>\n",
       "      <td>vm</td>\n",
       "      <td>9</td>\n",
       "    </tr>\n",
       "    <tr>\n",
       "      <th>1</th>\n",
       "      <td>1</td>\n",
       "      <td>297</td>\n",
       "      <td>16</td>\n",
       "      <td>available</td>\n",
       "      <td>sql</td>\n",
       "      <td>x86_64</td>\n",
       "      <td>58</td>\n",
       "      <td>69</td>\n",
       "      <td>0</td>\n",
       "      <td>9</td>\n",
       "      <td>4</td>\n",
       "      <td>0</td>\n",
       "      <td>0</td>\n",
       "      <td>1662213720000</td>\n",
       "      <td>vm</td>\n",
       "      <td>9</td>\n",
       "    </tr>\n",
       "    <tr>\n",
       "      <th>2</th>\n",
       "      <td>1</td>\n",
       "      <td>297</td>\n",
       "      <td>16</td>\n",
       "      <td>available</td>\n",
       "      <td>sql</td>\n",
       "      <td>x86_64</td>\n",
       "      <td>80</td>\n",
       "      <td>67</td>\n",
       "      <td>0</td>\n",
       "      <td>9</td>\n",
       "      <td>1</td>\n",
       "      <td>0</td>\n",
       "      <td>0</td>\n",
       "      <td>1662214020000</td>\n",
       "      <td>vm</td>\n",
       "      <td>9</td>\n",
       "    </tr>\n",
       "    <tr>\n",
       "      <th>3</th>\n",
       "      <td>1</td>\n",
       "      <td>297</td>\n",
       "      <td>16</td>\n",
       "      <td>available</td>\n",
       "      <td>sql</td>\n",
       "      <td>x86_64</td>\n",
       "      <td>100</td>\n",
       "      <td>65</td>\n",
       "      <td>0</td>\n",
       "      <td>7</td>\n",
       "      <td>2</td>\n",
       "      <td>0</td>\n",
       "      <td>1</td>\n",
       "      <td>1662214320000</td>\n",
       "      <td>vm</td>\n",
       "      <td>9</td>\n",
       "    </tr>\n",
       "    <tr>\n",
       "      <th>4</th>\n",
       "      <td>1</td>\n",
       "      <td>297</td>\n",
       "      <td>16</td>\n",
       "      <td>available</td>\n",
       "      <td>sql</td>\n",
       "      <td>x86_64</td>\n",
       "      <td>98</td>\n",
       "      <td>67</td>\n",
       "      <td>0</td>\n",
       "      <td>10</td>\n",
       "      <td>3</td>\n",
       "      <td>0</td>\n",
       "      <td>1</td>\n",
       "      <td>1662214620000</td>\n",
       "      <td>vm</td>\n",
       "      <td>9</td>\n",
       "    </tr>\n",
       "  </tbody>\n",
       "</table>\n",
       "</div>"
      ],
      "text/plain": [
       "   ID  QUEUE_ID  CU     STATUS QUEUE_TYPE PLATFORM  CPU_USAGE  MEM_USAGE  \\\n",
       "0   1       297  16  available        sql   x86_64         60         69   \n",
       "1   1       297  16  available        sql   x86_64         58         69   \n",
       "2   1       297  16  available        sql   x86_64         80         67   \n",
       "3   1       297  16  available        sql   x86_64        100         65   \n",
       "4   1       297  16  available        sql   x86_64         98         67   \n",
       "\n",
       "   LAUNCHING_JOB_NUMS  RUNNING_JOB_NUMS  SUCCEED_JOB_NUMS  CANCELLED_JOB_NUMS  \\\n",
       "0                   0                 5                 5                   0   \n",
       "1                   0                 9                 4                   0   \n",
       "2                   0                 9                 1                   0   \n",
       "3                   0                 7                 2                   0   \n",
       "4                   0                10                 3                   0   \n",
       "\n",
       "   FAILED_JOB_NUMS   DOTTING_TIME RESOURCE_TYPE  DISK_USAGE  \n",
       "0                0  1662213420000            vm           9  \n",
       "1                0  1662213720000            vm           9  \n",
       "2                0  1662214020000            vm           9  \n",
       "3                1  1662214320000            vm           9  \n",
       "4                1  1662214620000            vm           9  "
      ]
     },
     "execution_count": 4,
     "metadata": {},
     "output_type": "execute_result"
    }
   ],
   "source": [
    "test.head()"
   ]
  },
  {
   "cell_type": "code",
   "execution_count": 5,
   "metadata": {
    "ExecuteTime": {
     "end_time": "2020-10-31T03:51:17.434050Z",
     "start_time": "2020-10-31T03:51:17.424102Z"
    },
    "scrolled": true
   },
   "outputs": [
    {
     "data": {
      "text/html": [
       "<div>\n",
       "<style scoped>\n",
       "    .dataframe tbody tr th:only-of-type {\n",
       "        vertical-align: middle;\n",
       "    }\n",
       "\n",
       "    .dataframe tbody tr th {\n",
       "        vertical-align: top;\n",
       "    }\n",
       "\n",
       "    .dataframe thead th {\n",
       "        text-align: right;\n",
       "    }\n",
       "</style>\n",
       "<table border=\"1\" class=\"dataframe\">\n",
       "  <thead>\n",
       "    <tr style=\"text-align: right;\">\n",
       "      <th></th>\n",
       "      <th>ID</th>\n",
       "      <th>CPU_USAGE_1</th>\n",
       "      <th>LAUNCHING_JOB_NUMS_1</th>\n",
       "      <th>CPU_USAGE_2</th>\n",
       "      <th>LAUNCHING_JOB_NUMS_2</th>\n",
       "      <th>CPU_USAGE_3</th>\n",
       "      <th>LAUNCHING_JOB_NUMS_3</th>\n",
       "      <th>CPU_USAGE_4</th>\n",
       "      <th>LAUNCHING_JOB_NUMS_4</th>\n",
       "      <th>CPU_USAGE_5</th>\n",
       "      <th>LAUNCHING_JOB_NUMS_5</th>\n",
       "    </tr>\n",
       "  </thead>\n",
       "  <tbody>\n",
       "    <tr>\n",
       "      <th>0</th>\n",
       "      <td>1</td>\n",
       "      <td>0</td>\n",
       "      <td>0</td>\n",
       "      <td>0</td>\n",
       "      <td>0</td>\n",
       "      <td>0</td>\n",
       "      <td>0</td>\n",
       "      <td>0</td>\n",
       "      <td>0</td>\n",
       "      <td>0</td>\n",
       "      <td>0</td>\n",
       "    </tr>\n",
       "    <tr>\n",
       "      <th>1</th>\n",
       "      <td>2</td>\n",
       "      <td>0</td>\n",
       "      <td>0</td>\n",
       "      <td>0</td>\n",
       "      <td>0</td>\n",
       "      <td>0</td>\n",
       "      <td>0</td>\n",
       "      <td>0</td>\n",
       "      <td>0</td>\n",
       "      <td>0</td>\n",
       "      <td>0</td>\n",
       "    </tr>\n",
       "    <tr>\n",
       "      <th>2</th>\n",
       "      <td>3</td>\n",
       "      <td>0</td>\n",
       "      <td>0</td>\n",
       "      <td>0</td>\n",
       "      <td>0</td>\n",
       "      <td>0</td>\n",
       "      <td>0</td>\n",
       "      <td>0</td>\n",
       "      <td>0</td>\n",
       "      <td>0</td>\n",
       "      <td>0</td>\n",
       "    </tr>\n",
       "    <tr>\n",
       "      <th>3</th>\n",
       "      <td>4</td>\n",
       "      <td>0</td>\n",
       "      <td>0</td>\n",
       "      <td>0</td>\n",
       "      <td>0</td>\n",
       "      <td>0</td>\n",
       "      <td>0</td>\n",
       "      <td>0</td>\n",
       "      <td>0</td>\n",
       "      <td>0</td>\n",
       "      <td>0</td>\n",
       "    </tr>\n",
       "    <tr>\n",
       "      <th>4</th>\n",
       "      <td>5</td>\n",
       "      <td>0</td>\n",
       "      <td>0</td>\n",
       "      <td>0</td>\n",
       "      <td>0</td>\n",
       "      <td>0</td>\n",
       "      <td>0</td>\n",
       "      <td>0</td>\n",
       "      <td>0</td>\n",
       "      <td>0</td>\n",
       "      <td>0</td>\n",
       "    </tr>\n",
       "  </tbody>\n",
       "</table>\n",
       "</div>"
      ],
      "text/plain": [
       "   ID  CPU_USAGE_1  LAUNCHING_JOB_NUMS_1  CPU_USAGE_2  LAUNCHING_JOB_NUMS_2  \\\n",
       "0   1            0                     0            0                     0   \n",
       "1   2            0                     0            0                     0   \n",
       "2   3            0                     0            0                     0   \n",
       "3   4            0                     0            0                     0   \n",
       "4   5            0                     0            0                     0   \n",
       "\n",
       "   CPU_USAGE_3  LAUNCHING_JOB_NUMS_3  CPU_USAGE_4  LAUNCHING_JOB_NUMS_4  \\\n",
       "0            0                     0            0                     0   \n",
       "1            0                     0            0                     0   \n",
       "2            0                     0            0                     0   \n",
       "3            0                     0            0                     0   \n",
       "4            0                     0            0                     0   \n",
       "\n",
       "   CPU_USAGE_5  LAUNCHING_JOB_NUMS_5  \n",
       "0            0                     0  \n",
       "1            0                     0  \n",
       "2            0                     0  \n",
       "3            0                     0  \n",
       "4            0                     0  "
      ]
     },
     "execution_count": 5,
     "metadata": {},
     "output_type": "execute_result"
    }
   ],
   "source": [
    "sub_sample.head()"
   ]
  },
  {
   "cell_type": "code",
   "execution_count": 6,
   "metadata": {
    "ExecuteTime": {
     "end_time": "2020-10-31T03:51:17.441032Z",
     "start_time": "2020-10-31T03:51:17.435047Z"
    }
   },
   "outputs": [
    {
     "data": {
      "text/plain": [
       "((501730, 15), (14980, 16), (2996, 11))"
      ]
     },
     "execution_count": 6,
     "metadata": {},
     "output_type": "execute_result"
    }
   ],
   "source": [
    "train.shape, test.shape, sub_sample.shape"
   ]
  },
  {
   "cell_type": "code",
   "execution_count": 7,
   "metadata": {
    "ExecuteTime": {
     "end_time": "2020-10-31T03:51:17.498925Z",
     "start_time": "2020-10-31T03:51:17.443025Z"
    }
   },
   "outputs": [
    {
     "data": {
      "text/plain": [
       "20"
      ]
     },
     "execution_count": 7,
     "metadata": {},
     "output_type": "execute_result"
    }
   ],
   "source": [
    "to_drop = ['STATUS', 'PLATFORM', 'RESOURCE_TYPE']\n",
    "train.drop(to_drop, axis=1, inplace=True)\n",
    "test.drop(to_drop, axis=1, inplace=True)\n",
    "gc.collect()"
   ]
  },
  {
   "cell_type": "code",
   "execution_count": 8,
   "metadata": {
    "ExecuteTime": {
     "end_time": "2020-10-31T03:51:17.559142Z",
     "start_time": "2020-10-31T03:51:17.499875Z"
    }
   },
   "outputs": [
    {
     "data": {
      "text/plain": [
       "20"
      ]
     },
     "execution_count": 8,
     "metadata": {},
     "output_type": "execute_result"
    }
   ],
   "source": [
    "train.drop('DOTTING_TIME', axis=1, inplace=True)\n",
    "test.drop('DOTTING_TIME', axis=1, inplace=True)\n",
    "gc.collect()"
   ]
  },
  {
   "cell_type": "code",
   "execution_count": null,
   "metadata": {},
   "outputs": [],
   "source": [
    "num_cols = ['CU', 'CPU_USAGE', 'MEM_USAGE', 'LAUNCHING_JOB_NUMS', 'RUNNING_JOB_NUMS',\n",
    "            'SUCCEED_JOB_NUMS', 'CANCELLED_JOB_NUMS', 'FAILED_JOB_NUMS', 'DISK_USAGE']"
   ]
  },
  {
   "cell_type": "code",
   "execution_count": 9,
   "metadata": {
    "ExecuteTime": {
     "end_time": "2020-10-31T03:51:17.706133Z",
     "start_time": "2020-10-31T03:51:17.560113Z"
    }
   },
   "outputs": [],
   "source": [
    "# Label Encoding\n",
    "le = LabelEncoder()\n",
    "train['QUEUE_TYPE'] = le.fit_transform(train['QUEUE_TYPE'].astype(str))\n",
    "test['QUEUE_TYPE'] = le.transform(test['QUEUE_TYPE'].astype(str))\n",
    "\n",
    "train['QUEUE_TYPE'] = train['QUEUE_TYPE'].astype('category')\n",
    "test['QUEUE_TYPE'] = test['QUEUE_TYPE'].astype('category')"
   ]
  },
  {
   "cell_type": "code",
   "execution_count": 10,
   "metadata": {
    "ExecuteTime": {
     "end_time": "2020-10-31T04:03:11.442099Z",
     "start_time": "2020-10-31T04:03:11.414591Z"
    }
   },
   "outputs": [],
   "source": [
    "# 1 CU = 1 CPU 4G MEM\n",
    "train['used_cpu'] = train['CU'] * train['CPU_USAGE']\n",
    "train['used_mem'] = train['CU'] * 4 * train['MEM_USAGE']\n",
    "\n",
    "test['used_cpu'] = test['CU'] * test['CPU_USAGE']\n",
    "test['used_mem'] = test['CU'] * 4 * test['MEM_USAGE']"
   ]
  },
  {
   "cell_type": "code",
   "execution_count": 11,
   "metadata": {
    "ExecuteTime": {
     "end_time": "2020-10-31T04:03:27.287751Z",
     "start_time": "2020-10-31T04:03:27.282766Z"
    }
   },
   "outputs": [
    {
     "data": {
      "text/plain": [
       "Index(['QUEUE_ID', 'CU', 'QUEUE_TYPE', 'CPU_USAGE', 'MEM_USAGE',\n",
       "       'LAUNCHING_JOB_NUMS', 'RUNNING_JOB_NUMS', 'SUCCEED_JOB_NUMS',\n",
       "       'CANCELLED_JOB_NUMS', 'FAILED_JOB_NUMS', 'DISK_USAGE', 'used_cpu',\n",
       "       'used_mem'],\n",
       "      dtype='object')"
      ]
     },
     "execution_count": 11,
     "metadata": {},
     "output_type": "execute_result"
    }
   ],
   "source": [
    "num_cols += ['used_cpu', 'used_mem']"
   ]
  },
  {
   "cell_type": "code",
   "execution_count": null,
   "metadata": {},
   "outputs": [],
   "source": [
    "def arithmetic(df, cross_features):\n",
    "    \"\"\"\n",
    "    数值特征之间的加减乘除\n",
    "    @param df:\n",
    "    @param cross_features: 交叉用的数值特征\n",
    "    @return:\n",
    "    \"\"\"\n",
    "    cols = []\n",
    "    for i in tqdm(range(len(cross_features))):\n",
    "        for j in range(i + 1, len(cross_features)):\n",
    "            colname_add = '{}_{}_add'.format(cross_features[i], cross_features[j])\n",
    "            cols.append(colname_add)\n",
    "            colname_substract = '{}_{}_subtract'.format(cross_features[i], cross_features[j])\n",
    "            cols.append(colname_substract)\n",
    "            colname_multiply = '{}_{}c_multiply'.format(cross_features[i], cross_features[j])\n",
    "            cols.append(colname_multiply)\n",
    "            df[colname_add] = df[cross_features[i]] + df[cross_features[j]]\n",
    "            df[colname_substract] = df[cross_features[i]] - df[cross_features[j]]\n",
    "            df[colname_multiply] = df[cross_features[i]] * df[cross_features[j]]\n",
    "\n",
    "    for f1 in tqdm(cross_features):\n",
    "        for f2 in cross_features:\n",
    "            if f1 != f2:\n",
    "                colname_ratio = '{}_{}_ratio'.format(f1, f2)\n",
    "                cols.append(colname_ratio)\n",
    "                df[colname_ratio] = df[f1].values / (df[f2].values + 0.001)\n",
    "    return df, cols"
   ]
  },
  {
   "cell_type": "code",
   "execution_count": null,
   "metadata": {},
   "outputs": [],
   "source": [
    "train, cols = arithmetic(train, num_cols)\n",
    "test, _ = arithmetic(test, num_cols)\n",
    "num_cols += cols"
   ]
  },
  {
   "cell_type": "code",
   "execution_count": 12,
   "metadata": {
    "ExecuteTime": {
     "end_time": "2020-10-31T04:05:15.762688Z",
     "start_time": "2020-10-31T04:05:15.758678Z"
    }
   },
   "outputs": [],
   "source": [
    "for data in [train, test]:\n",
    "    for col in num_cols:\n",
    "        for n in [1, 2, 3, -1, -2, -3]\n",
    "        data[col + '_diff{}'.format(n)] = data.groupby('QUEUE_ID')[col].diff(n)\n",
    "        data[col + '_shift{}'.format(n)] = data.groupby('QUEUE_ID')[col].shift(n)  "
   ]
  },
  {
   "cell_type": "code",
   "execution_count": null,
   "metadata": {},
   "outputs": [],
   "source": [
    "# 加个 id 后面方便处理\n",
    "train['myid'] = train.index\n",
    "test['myid'] = test.index"
   ]
  },
  {
   "cell_type": "code",
   "execution_count": null,
   "metadata": {},
   "outputs": [],
   "source": [
    "# 生成 target 列\n",
    "df_train = pd.DataFrame()\n",
    "for id_ in tqdm(train.QUEUE_ID.unique()):\n",
    "    tmp = train[train.QUEUE_ID == id_]\n",
    "    tmp['CPU_USAGE_next25mins'] = tmp['CPU_USAGE'].shift(-5)\n",
    "    tmp['LAUNCHING_JOB_NUMS_next25mins'] = tmp['LAUNCHING_JOB_NUMS'].shift(-5)\n",
    "    df_train = df_train.append(tmp)"
   ]
  },
  {
   "cell_type": "code",
   "execution_count": null,
   "metadata": {},
   "outputs": [],
   "source": [
    "df_train = df_train[df_train.CPU_USAGE_next25mins.notna()]\n",
    "print(df_train.shape)\n",
    "df_train.head()"
   ]
  },
  {
   "cell_type": "code",
   "execution_count": null,
   "metadata": {},
   "outputs": [],
   "source": [
    "used_cols = [i for i in df_train.columns if i not in ['CPU_USAGE_next25mins', 'LAUNCHING_JOB_NUMS_next25mins', 'QUEUE_ID', 'myid']]\n"
   ]
  }
 ],
 "metadata": {
  "kernelspec": {
   "display_name": "Python 3",
   "language": "python",
   "name": "python3"
  },
  "language_info": {
   "codemirror_mode": {
    "name": "ipython",
    "version": 3
   },
   "file_extension": ".py",
   "mimetype": "text/x-python",
   "name": "python",
   "nbconvert_exporter": "python",
   "pygments_lexer": "ipython3",
   "version": "3.7.3"
  },
  "toc": {
   "base_numbering": 1,
   "nav_menu": {},
   "number_sections": true,
   "sideBar": true,
   "skip_h1_title": false,
   "title_cell": "Table of Contents",
   "title_sidebar": "Contents",
   "toc_cell": false,
   "toc_position": {},
   "toc_section_display": true,
   "toc_window_display": false
  }
 },
 "nbformat": 4,
 "nbformat_minor": 4
}
