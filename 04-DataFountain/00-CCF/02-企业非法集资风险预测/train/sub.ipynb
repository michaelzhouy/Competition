{
 "cells": [
  {
   "cell_type": "code",
   "execution_count": 1,
   "metadata": {
    "ExecuteTime": {
     "end_time": "2020-11-16T12:55:34.550348Z",
     "start_time": "2020-11-16T12:55:33.743997Z"
    }
   },
   "outputs": [],
   "source": [
    "import time\n",
    "import numpy as np\n",
    "import pandas as pd\n",
    "from tqdm import tqdm\n",
    "from sklearn.preprocessing import LabelEncoder\n",
    "from sklearn.model_selection import train_test_split\n",
    "from sklearn.metrics import f1_score\n",
    "import lightgbm as lgb\n",
    "import gc\n",
    "from joblib import Parallel, delayed\n",
    "from util import *\n",
    "import warnings\n",
    "warnings.filterwarnings('ignore')"
   ]
  },
  {
   "cell_type": "code",
   "execution_count": 2,
   "metadata": {
    "ExecuteTime": {
     "end_time": "2020-11-16T12:55:34.558119Z",
     "start_time": "2020-11-16T12:55:34.550348Z"
    }
   },
   "outputs": [],
   "source": [
    "def label_encode(df, cols, verbose=True):\n",
    "    \"\"\"\n",
    "    label encode\n",
    "    @param df:\n",
    "    @param cols:\n",
    "    @param verbose:\n",
    "    @return:\n",
    "    \"\"\"\n",
    "    for col in cols:\n",
    "        df[col], _ = df[col].astype(str).factorize(sort=True)\n",
    "        if df[col].max() > 32000:\n",
    "            df[col] = df[col].astype('int32')\n",
    "        else:\n",
    "            df[col] = df[col].astype('int16')\n",
    "        if verbose:\n",
    "            print(col)\n",
    "    return df"
   ]
  },
  {
   "cell_type": "code",
   "execution_count": 3,
   "metadata": {
    "ExecuteTime": {
     "end_time": "2020-11-16T12:55:34.591062Z",
     "start_time": "2020-11-16T12:55:34.560157Z"
    }
   },
   "outputs": [
    {
     "name": "stdout",
     "output_type": "stream",
     "text": [
      "(14865, 2)\n"
     ]
    },
    {
     "data": {
      "text/html": [
       "<div>\n",
       "<style scoped>\n",
       "    .dataframe tbody tr th:only-of-type {\n",
       "        vertical-align: middle;\n",
       "    }\n",
       "\n",
       "    .dataframe tbody tr th {\n",
       "        vertical-align: top;\n",
       "    }\n",
       "\n",
       "    .dataframe thead th {\n",
       "        text-align: right;\n",
       "    }\n",
       "</style>\n",
       "<table border=\"1\" class=\"dataframe\">\n",
       "  <thead>\n",
       "    <tr style=\"text-align: right;\">\n",
       "      <th></th>\n",
       "      <th>id</th>\n",
       "      <th>label</th>\n",
       "    </tr>\n",
       "  </thead>\n",
       "  <tbody>\n",
       "    <tr>\n",
       "      <th>0</th>\n",
       "      <td>59b38c56de3836831ff90a77d892a13523b7494f6ed09ff7</td>\n",
       "      <td>1</td>\n",
       "    </tr>\n",
       "    <tr>\n",
       "      <th>1</th>\n",
       "      <td>da8691b210adb3f6be8064e006f220070565db287275ad38</td>\n",
       "      <td>0</td>\n",
       "    </tr>\n",
       "    <tr>\n",
       "      <th>2</th>\n",
       "      <td>82750f1b9d122350918121f97c99bf96e11aa24ee91504a9</td>\n",
       "      <td>0</td>\n",
       "    </tr>\n",
       "    <tr>\n",
       "      <th>3</th>\n",
       "      <td>f000950527a6feb6b2c6de6f85c1e7438ba5590be931e2ec</td>\n",
       "      <td>0</td>\n",
       "    </tr>\n",
       "    <tr>\n",
       "      <th>4</th>\n",
       "      <td>f1c1045b13d1832927e3743e49d2917f2d98424f0849a373</td>\n",
       "      <td>0</td>\n",
       "    </tr>\n",
       "  </tbody>\n",
       "</table>\n",
       "</div>"
      ],
      "text/plain": [
       "                                                 id  label\n",
       "0  59b38c56de3836831ff90a77d892a13523b7494f6ed09ff7      1\n",
       "1  da8691b210adb3f6be8064e006f220070565db287275ad38      0\n",
       "2  82750f1b9d122350918121f97c99bf96e11aa24ee91504a9      0\n",
       "3  f000950527a6feb6b2c6de6f85c1e7438ba5590be931e2ec      0\n",
       "4  f1c1045b13d1832927e3743e49d2917f2d98424f0849a373      0"
      ]
     },
     "execution_count": 3,
     "metadata": {},
     "output_type": "execute_result"
    }
   ],
   "source": [
    "# 数据集7：entprise_info.csv\n",
    "# 带标注的企业数据。每一行代表一个企业，每一行2列，其中id列为企业唯一标识，label列为标注（1：有非法集资风险，0：无非法集资风险），列之间采用“,”分隔符分割。\n",
    "# 训练集 id 及标签\n",
    "entprise_info = pd.read_csv('../input/train/entprise_info.csv')\n",
    "print(entprise_info.shape)\n",
    "entprise_info.head()"
   ]
  },
  {
   "cell_type": "code",
   "execution_count": 4,
   "metadata": {
    "ExecuteTime": {
     "end_time": "2020-11-16T12:55:34.614001Z",
     "start_time": "2020-11-16T12:55:34.592041Z"
    }
   },
   "outputs": [
    {
     "name": "stdout",
     "output_type": "stream",
     "text": [
      "(10000, 2)\n"
     ]
    },
    {
     "data": {
      "text/html": [
       "<div>\n",
       "<style scoped>\n",
       "    .dataframe tbody tr th:only-of-type {\n",
       "        vertical-align: middle;\n",
       "    }\n",
       "\n",
       "    .dataframe tbody tr th {\n",
       "        vertical-align: top;\n",
       "    }\n",
       "\n",
       "    .dataframe thead th {\n",
       "        text-align: right;\n",
       "    }\n",
       "</style>\n",
       "<table border=\"1\" class=\"dataframe\">\n",
       "  <thead>\n",
       "    <tr style=\"text-align: right;\">\n",
       "      <th></th>\n",
       "      <th>id</th>\n",
       "      <th>label</th>\n",
       "    </tr>\n",
       "  </thead>\n",
       "  <tbody>\n",
       "    <tr>\n",
       "      <th>0</th>\n",
       "      <td>82750f1b9d1223508ee329d47e27d35176c93eb9f35e9c1a</td>\n",
       "      <td>NaN</td>\n",
       "    </tr>\n",
       "    <tr>\n",
       "      <th>1</th>\n",
       "      <td>f000950527a6feb670cc1c87c2025f3922aaa4a0206a0a33</td>\n",
       "      <td>NaN</td>\n",
       "    </tr>\n",
       "    <tr>\n",
       "      <th>2</th>\n",
       "      <td>e9f7b28ec10e04700ef4db75a494f9a1e8e8b09555e6afa1</td>\n",
       "      <td>NaN</td>\n",
       "    </tr>\n",
       "    <tr>\n",
       "      <th>3</th>\n",
       "      <td>beb4aaaa89e0a0ae9d77bd5d7665be6342f552f51840cf19</td>\n",
       "      <td>NaN</td>\n",
       "    </tr>\n",
       "    <tr>\n",
       "      <th>4</th>\n",
       "      <td>e9f7b28ec10e0470ee4172cec0133b6826c34f27d3dff204</td>\n",
       "      <td>NaN</td>\n",
       "    </tr>\n",
       "  </tbody>\n",
       "</table>\n",
       "</div>"
      ],
      "text/plain": [
       "                                                 id  label\n",
       "0  82750f1b9d1223508ee329d47e27d35176c93eb9f35e9c1a    NaN\n",
       "1  f000950527a6feb670cc1c87c2025f3922aaa4a0206a0a33    NaN\n",
       "2  e9f7b28ec10e04700ef4db75a494f9a1e8e8b09555e6afa1    NaN\n",
       "3  beb4aaaa89e0a0ae9d77bd5d7665be6342f552f51840cf19    NaN\n",
       "4  e9f7b28ec10e0470ee4172cec0133b6826c34f27d3dff204    NaN"
      ]
     },
     "execution_count": 4,
     "metadata": {},
     "output_type": "execute_result"
    }
   ],
   "source": [
    "# 数据集8（验证集）：entprise_evaluate.csv\n",
    "# 未标注企业数据。参赛队伍需提交的最终结果数据集，每一行代表一个企业，每一行有 2 列, 其中id列为企业唯一标识，score列为空，列之间采用“,”分隔符分割。\n",
    "# 测试集 id score\n",
    "entprise_evaluate = pd.read_csv('../input/entprise_evaluate.csv')\n",
    "\n",
    "entprise_evaluate.rename(columns={'score': 'label'}, inplace=True)\n",
    "\n",
    "print(entprise_evaluate.shape)\n",
    "entprise_evaluate.head()"
   ]
  },
  {
   "cell_type": "code",
   "execution_count": 5,
   "metadata": {
    "ExecuteTime": {
     "end_time": "2020-11-16T12:55:34.619986Z",
     "start_time": "2020-11-16T12:55:34.615022Z"
    }
   },
   "outputs": [],
   "source": [
    "data = pd.concat([entprise_info, entprise_evaluate], axis=0, ignore_index=True)"
   ]
  },
  {
   "cell_type": "code",
   "execution_count": 6,
   "metadata": {
    "ExecuteTime": {
     "end_time": "2020-11-16T12:55:34.626936Z",
     "start_time": "2020-11-16T12:55:34.620954Z"
    }
   },
   "outputs": [
    {
     "data": {
      "text/plain": [
       "(24865, 2)"
      ]
     },
     "execution_count": 6,
     "metadata": {},
     "output_type": "execute_result"
    }
   ],
   "source": [
    "data.shape"
   ]
  },
  {
   "cell_type": "code",
   "execution_count": 7,
   "metadata": {
    "ExecuteTime": {
     "end_time": "2020-11-16T12:55:34.901202Z",
     "start_time": "2020-11-16T12:55:34.628931Z"
    }
   },
   "outputs": [
    {
     "name": "stdout",
     "output_type": "stream",
     "text": [
      "(24865, 33)\n",
      "<class 'pandas.core.frame.DataFrame'>\n",
      "RangeIndex: 24865 entries, 0 to 24864\n",
      "Data columns (total 33 columns):\n",
      " #   Column         Non-Null Count  Dtype  \n",
      "---  ------         --------------  -----  \n",
      " 0   id             24865 non-null  object \n",
      " 1   oplocdistrict  24865 non-null  int64  \n",
      " 2   industryphy    24865 non-null  object \n",
      " 3   industryco     24864 non-null  float64\n",
      " 4   dom            24865 non-null  object \n",
      " 5   opscope        24865 non-null  object \n",
      " 6   enttype        24865 non-null  int64  \n",
      " 7   enttypeitem    16651 non-null  float64\n",
      " 8   opfrom         24865 non-null  object \n",
      " 9   opto           8825 non-null   object \n",
      " 10  state          24865 non-null  int64  \n",
      " 11  orgid          24865 non-null  int64  \n",
      " 12  jobid          24865 non-null  int64  \n",
      " 13  adbusign       24865 non-null  int64  \n",
      " 14  townsign       24865 non-null  int64  \n",
      " 15  regtype        24865 non-null  int64  \n",
      " 16  empnum         19615 non-null  float64\n",
      " 17  compform       10631 non-null  float64\n",
      " 18  parnum         2339 non-null   float64\n",
      " 19  exenum         1378 non-null   float64\n",
      " 20  opform         9000 non-null   object \n",
      " 21  ptbusscope     0 non-null      float64\n",
      " 22  venind         8437 non-null   float64\n",
      " 23  enttypeminu    7270 non-null   float64\n",
      " 24  midpreindcode  0 non-null      float64\n",
      " 25  protype        34 non-null     float64\n",
      " 26  oploc          24865 non-null  object \n",
      " 27  regcap         24674 non-null  float64\n",
      " 28  reccap         7084 non-null   float64\n",
      " 29  forreccap      227 non-null    float64\n",
      " 30  forregcap      250 non-null    float64\n",
      " 31  congro         249 non-null    float64\n",
      " 32  enttypegb      24865 non-null  int64  \n",
      "dtypes: float64(16), int64(9), object(8)\n",
      "memory usage: 6.3+ MB\n"
     ]
    }
   ],
   "source": [
    "# 数据集1：base_info.csv\n",
    "# 包含数据集7和8中涉及到的所有企业的基本信息，每一行代表一个企业的基本数据，每一行有33列，其中id列为企业唯一标识，列之间采用“,”分隔符分割。\n",
    "# 数据格式如下：\n",
    "# [id:企业唯一标识, oplocdistrict:行政区划代码, industryphy:行业类别代码, industryco:行业细类代码, dom:经营地址, opscope:经营范围, enttype:企业类型, enttypeitem:企业类型小类, opfrom:经营期限起, opto:经营期限止, state:状态, orgid:机构标识, jobid:职位标识, adbusign:是否广告经营, townsign:是否城镇, regtype:主题登记类型, empnum:从业人数, compform:组织形式, parnum:合伙人数, exenum:执行人数, opform:经营方式, ptbusscope:兼营范围, venind:风险行业, enttypeminu:企业类型细类, midpreindcode:中西部优势产业代码, protype:项目类型, oploc:经营场所, regcap:注册资本（金）, reccap:实缴资本, forreccap:实缴资本（外方）, forregcap:注册资本（外方）, congro:投资总额, enttypegb:企业（机构）类型]\n",
    "# 基础信息表\n",
    "base_info = pd.read_csv('../input/train/base_info.csv')\n",
    "print(base_info.shape)\n",
    "base_info.info()"
   ]
  },
  {
   "cell_type": "code",
   "execution_count": 8,
   "metadata": {
    "ExecuteTime": {
     "end_time": "2020-11-16T12:55:34.922147Z",
     "start_time": "2020-11-16T12:55:34.903198Z"
    }
   },
   "outputs": [
    {
     "data": {
      "text/plain": [
       "24865"
      ]
     },
     "execution_count": 8,
     "metadata": {},
     "output_type": "execute_result"
    }
   ],
   "source": [
    "len(set(data['id']) & set(base_info['id']))"
   ]
  },
  {
   "cell_type": "code",
   "execution_count": 9,
   "metadata": {
    "ExecuteTime": {
     "end_time": "2020-11-16T12:55:34.960083Z",
     "start_time": "2020-11-16T12:55:34.924143Z"
    }
   },
   "outputs": [
    {
     "data": {
      "text/plain": [
       "40"
      ]
     },
     "execution_count": 9,
     "metadata": {},
     "output_type": "execute_result"
    }
   ],
   "source": [
    "single_cols = ['ptbusscope', 'midpreindcode']\n",
    "many_cols = ['dom', 'opscope']\n",
    "to_drop = single_cols + many_cols\n",
    "base_info.drop(to_drop, axis=1, inplace=True)\n",
    "gc.collect()"
   ]
  },
  {
   "cell_type": "code",
   "execution_count": 10,
   "metadata": {
    "ExecuteTime": {
     "end_time": "2020-11-16T12:55:34.969031Z",
     "start_time": "2020-11-16T12:55:34.961082Z"
    }
   },
   "outputs": [],
   "source": [
    "base_info['opform'] = base_info['opform'].replace('01', '01-以个人财产出资').replace('02', '02-以家庭共有财产作为个人出资').replace('   ', np.nan)"
   ]
  },
  {
   "cell_type": "code",
   "execution_count": 11,
   "metadata": {
    "ExecuteTime": {
     "end_time": "2020-11-16T12:55:34.975005Z",
     "start_time": "2020-11-16T12:55:34.970018Z"
    }
   },
   "outputs": [],
   "source": [
    "def identify_missing(df, missing_threshold):\n",
    "    \"\"\"\n",
    "    缺失率\n",
    "    @param df:\n",
    "    @param missing_threshold:\n",
    "    @return:\n",
    "    \"\"\"\n",
    "    missing_rate = df.isnull().sum() / len(df)\n",
    "    missing_rate = missing_rate.sort_values(ascending=False)\n",
    "    print(missing_rate)\n",
    "    to_drop = missing_rate[missing_rate > missing_threshold].index.to_list()\n",
    "    print('{} features with greater than {} missing values.\\n'.format(len(to_drop), missing_threshold))\n",
    "    return to_drop"
   ]
  },
  {
   "cell_type": "code",
   "execution_count": 12,
   "metadata": {
    "ExecuteTime": {
     "end_time": "2020-11-16T12:55:35.003950Z",
     "start_time": "2020-11-16T12:55:34.976002Z"
    }
   },
   "outputs": [
    {
     "name": "stdout",
     "output_type": "stream",
     "text": [
      "protype          0.998633\n",
      "forreccap        0.990871\n",
      "congro           0.989986\n",
      "forregcap        0.989946\n",
      "exenum           0.944581\n",
      "parnum           0.905932\n",
      "reccap           0.715102\n",
      "enttypeminu      0.707621\n",
      "venind           0.660688\n",
      "opto             0.645083\n",
      "opform           0.638086\n",
      "compform         0.572451\n",
      "enttypeitem      0.330344\n",
      "empnum           0.211140\n",
      "regcap           0.007681\n",
      "industryco       0.000040\n",
      "oplocdistrict    0.000000\n",
      "industryphy      0.000000\n",
      "enttype          0.000000\n",
      "opfrom           0.000000\n",
      "enttypegb        0.000000\n",
      "state            0.000000\n",
      "orgid            0.000000\n",
      "jobid            0.000000\n",
      "adbusign         0.000000\n",
      "townsign         0.000000\n",
      "regtype          0.000000\n",
      "oploc            0.000000\n",
      "id               0.000000\n",
      "dtype: float64\n",
      "12 features with greater than 0.5 missing values.\n",
      "\n"
     ]
    },
    {
     "data": {
      "text/plain": [
       "['protype',\n",
       " 'forreccap',\n",
       " 'congro',\n",
       " 'forregcap',\n",
       " 'exenum',\n",
       " 'parnum',\n",
       " 'reccap',\n",
       " 'enttypeminu',\n",
       " 'venind',\n",
       " 'opto',\n",
       " 'opform',\n",
       " 'compform']"
      ]
     },
     "execution_count": 12,
     "metadata": {},
     "output_type": "execute_result"
    }
   ],
   "source": [
    "to_drop = identify_missing(base_info, missing_threshold=0.5)\n",
    "base_info.drop(to_drop, axis=1, inplace=True)\n",
    "to_drop"
   ]
  },
  {
   "cell_type": "code",
   "execution_count": 13,
   "metadata": {
    "ExecuteTime": {
     "end_time": "2020-11-16T12:55:35.009952Z",
     "start_time": "2020-11-16T12:55:35.004926Z"
    }
   },
   "outputs": [],
   "source": [
    "num_cols = [i for i in ['empnum', 'parnum', 'exenum', 'regcap', 'reccap', 'forreccap', 'forregcap', 'congro'] if i not in to_drop]\n",
    "le_cols = [i for i in ['oplocdistrict', 'industryphy', 'industryco', 'enttype', 'enttypeitem', 'state',\n",
    "           'orgid', 'jobid', 'regtype', 'compform', 'opform', 'venind', 'enttypeminu',\n",
    "           'protype', 'oploc', 'enttypegb'] if i not in to_drop]\n",
    "one_zero_cols = ['adbusign', 'townsign']\n",
    "cat_cols = le_cols + one_zero_cols\n",
    "# dt_cols = ['opfrom', 'opto']"
   ]
  },
  {
   "cell_type": "code",
   "execution_count": 14,
   "metadata": {
    "ExecuteTime": {
     "end_time": "2020-11-16T12:55:35.057784Z",
     "start_time": "2020-11-16T12:55:35.010909Z"
    }
   },
   "outputs": [
    {
     "data": {
      "text/plain": [
       "12"
      ]
     },
     "execution_count": 14,
     "metadata": {},
     "output_type": "execute_result"
    }
   ],
   "source": [
    "# 时间转换, 暂时先抽取年份特征\n",
    "base_info['opfrom'] = pd.to_datetime(base_info.opfrom)\n",
    "base_info['opfrom_year'] = base_info['opfrom'].dt.year.astype('int')\n",
    "\n",
    "# base_info['opto'] = pd.to_datetime(base_info.opto)\n",
    "# base_info['opto_year'] = base_info['opto'].dt.year.fillna(-1).astype('int')\n",
    "\n",
    "del base_info['opfrom']\n",
    "# del base_info['opto']\n",
    "gc.collect()"
   ]
  },
  {
   "cell_type": "code",
   "execution_count": 15,
   "metadata": {
    "ExecuteTime": {
     "end_time": "2020-11-16T12:55:35.062770Z",
     "start_time": "2020-11-16T12:55:35.058781Z"
    }
   },
   "outputs": [],
   "source": [
    "le_cols += ['opfrom_year']"
   ]
  },
  {
   "cell_type": "code",
   "execution_count": 16,
   "metadata": {
    "ExecuteTime": {
     "end_time": "2020-11-16T12:55:35.165531Z",
     "start_time": "2020-11-16T12:55:35.063768Z"
    }
   },
   "outputs": [
    {
     "name": "stdout",
     "output_type": "stream",
     "text": [
      "oplocdistrict\n",
      "industryphy\n",
      "industryco\n",
      "enttype\n",
      "enttypeitem\n",
      "state\n",
      "orgid\n",
      "jobid\n",
      "regtype\n",
      "oploc\n",
      "enttypegb\n",
      "opfrom_year\n"
     ]
    }
   ],
   "source": [
    "base_info = label_encode(base_info, le_cols, verbose=True)"
   ]
  },
  {
   "cell_type": "code",
   "execution_count": 17,
   "metadata": {
    "ExecuteTime": {
     "end_time": "2020-11-16T12:55:35.207385Z",
     "start_time": "2020-11-16T12:55:35.166493Z"
    }
   },
   "outputs": [
    {
     "name": "stdout",
     "output_type": "stream",
     "text": [
      "(24865, 18)\n"
     ]
    },
    {
     "data": {
      "text/html": [
       "<div>\n",
       "<style scoped>\n",
       "    .dataframe tbody tr th:only-of-type {\n",
       "        vertical-align: middle;\n",
       "    }\n",
       "\n",
       "    .dataframe tbody tr th {\n",
       "        vertical-align: top;\n",
       "    }\n",
       "\n",
       "    .dataframe thead th {\n",
       "        text-align: right;\n",
       "    }\n",
       "</style>\n",
       "<table border=\"1\" class=\"dataframe\">\n",
       "  <thead>\n",
       "    <tr style=\"text-align: right;\">\n",
       "      <th></th>\n",
       "      <th>id</th>\n",
       "      <th>label</th>\n",
       "      <th>oplocdistrict</th>\n",
       "      <th>industryphy</th>\n",
       "      <th>industryco</th>\n",
       "      <th>enttype</th>\n",
       "      <th>enttypeitem</th>\n",
       "      <th>state</th>\n",
       "      <th>orgid</th>\n",
       "      <th>jobid</th>\n",
       "      <th>adbusign</th>\n",
       "      <th>townsign</th>\n",
       "      <th>regtype</th>\n",
       "      <th>empnum</th>\n",
       "      <th>oploc</th>\n",
       "      <th>regcap</th>\n",
       "      <th>enttypegb</th>\n",
       "      <th>opfrom_year</th>\n",
       "    </tr>\n",
       "  </thead>\n",
       "  <tbody>\n",
       "    <tr>\n",
       "      <th>0</th>\n",
       "      <td>59b38c56de3836831ff90a77d892a13523b7494f6ed09ff7</td>\n",
       "      <td>1.0</td>\n",
       "      <td>3</td>\n",
       "      <td>9</td>\n",
       "      <td>122</td>\n",
       "      <td>9</td>\n",
       "      <td>17</td>\n",
       "      <td>4</td>\n",
       "      <td>32</td>\n",
       "      <td>150</td>\n",
       "      <td>0</td>\n",
       "      <td>1</td>\n",
       "      <td>0</td>\n",
       "      <td>2.0</td>\n",
       "      <td>108</td>\n",
       "      <td>42205.0</td>\n",
       "      <td>38</td>\n",
       "      <td>30</td>\n",
       "    </tr>\n",
       "    <tr>\n",
       "      <th>1</th>\n",
       "      <td>da8691b210adb3f6be8064e006f220070565db287275ad38</td>\n",
       "      <td>0.0</td>\n",
       "      <td>6</td>\n",
       "      <td>14</td>\n",
       "      <td>240</td>\n",
       "      <td>16</td>\n",
       "      <td>31</td>\n",
       "      <td>4</td>\n",
       "      <td>46</td>\n",
       "      <td>175</td>\n",
       "      <td>0</td>\n",
       "      <td>1</td>\n",
       "      <td>0</td>\n",
       "      <td>2.0</td>\n",
       "      <td>2547</td>\n",
       "      <td>10.0</td>\n",
       "      <td>52</td>\n",
       "      <td>33</td>\n",
       "    </tr>\n",
       "    <tr>\n",
       "      <th>2</th>\n",
       "      <td>82750f1b9d122350918121f97c99bf96e11aa24ee91504a9</td>\n",
       "      <td>0.0</td>\n",
       "      <td>7</td>\n",
       "      <td>12</td>\n",
       "      <td>206</td>\n",
       "      <td>0</td>\n",
       "      <td>2</td>\n",
       "      <td>4</td>\n",
       "      <td>40</td>\n",
       "      <td>424</td>\n",
       "      <td>0</td>\n",
       "      <td>0</td>\n",
       "      <td>0</td>\n",
       "      <td>3.0</td>\n",
       "      <td>108</td>\n",
       "      <td>100.0</td>\n",
       "      <td>4</td>\n",
       "      <td>34</td>\n",
       "    </tr>\n",
       "    <tr>\n",
       "      <th>3</th>\n",
       "      <td>f000950527a6feb6b2c6de6f85c1e7438ba5590be931e2ec</td>\n",
       "      <td>0.0</td>\n",
       "      <td>3</td>\n",
       "      <td>12</td>\n",
       "      <td>198</td>\n",
       "      <td>0</td>\n",
       "      <td>4</td>\n",
       "      <td>4</td>\n",
       "      <td>1</td>\n",
       "      <td>367</td>\n",
       "      <td>0</td>\n",
       "      <td>0</td>\n",
       "      <td>0</td>\n",
       "      <td>3.0</td>\n",
       "      <td>108</td>\n",
       "      <td>1285.0</td>\n",
       "      <td>6</td>\n",
       "      <td>33</td>\n",
       "    </tr>\n",
       "    <tr>\n",
       "      <th>4</th>\n",
       "      <td>f1c1045b13d1832927e3743e49d2917f2d98424f0849a373</td>\n",
       "      <td>0.0</td>\n",
       "      <td>12</td>\n",
       "      <td>14</td>\n",
       "      <td>245</td>\n",
       "      <td>16</td>\n",
       "      <td>31</td>\n",
       "      <td>4</td>\n",
       "      <td>70</td>\n",
       "      <td>404</td>\n",
       "      <td>0</td>\n",
       "      <td>1</td>\n",
       "      <td>0</td>\n",
       "      <td>2.0</td>\n",
       "      <td>2291</td>\n",
       "      <td>100.0</td>\n",
       "      <td>52</td>\n",
       "      <td>34</td>\n",
       "    </tr>\n",
       "  </tbody>\n",
       "</table>\n",
       "</div>"
      ],
      "text/plain": [
       "                                                 id  label  oplocdistrict  \\\n",
       "0  59b38c56de3836831ff90a77d892a13523b7494f6ed09ff7    1.0              3   \n",
       "1  da8691b210adb3f6be8064e006f220070565db287275ad38    0.0              6   \n",
       "2  82750f1b9d122350918121f97c99bf96e11aa24ee91504a9    0.0              7   \n",
       "3  f000950527a6feb6b2c6de6f85c1e7438ba5590be931e2ec    0.0              3   \n",
       "4  f1c1045b13d1832927e3743e49d2917f2d98424f0849a373    0.0             12   \n",
       "\n",
       "   industryphy  industryco  enttype  enttypeitem  state  orgid  jobid  \\\n",
       "0            9         122        9           17      4     32    150   \n",
       "1           14         240       16           31      4     46    175   \n",
       "2           12         206        0            2      4     40    424   \n",
       "3           12         198        0            4      4      1    367   \n",
       "4           14         245       16           31      4     70    404   \n",
       "\n",
       "   adbusign  townsign  regtype  empnum  oploc   regcap  enttypegb  opfrom_year  \n",
       "0         0         1        0     2.0    108  42205.0         38           30  \n",
       "1         0         1        0     2.0   2547     10.0         52           33  \n",
       "2         0         0        0     3.0    108    100.0          4           34  \n",
       "3         0         0        0     3.0    108   1285.0          6           33  \n",
       "4         0         1        0     2.0   2291    100.0         52           34  "
      ]
     },
     "execution_count": 17,
     "metadata": {},
     "output_type": "execute_result"
    }
   ],
   "source": [
    "# 划分训练集和测试集\n",
    "entprise_evaluate.columns = ['id', 'label']\n",
    "data = pd.concat([entprise_info, entprise_evaluate])\n",
    "df = pd.merge(data, base_info, on='id', how='left')\n",
    "\n",
    "print(df.shape)\n",
    "df.head()"
   ]
  },
  {
   "cell_type": "code",
   "execution_count": 18,
   "metadata": {
    "ExecuteTime": {
     "end_time": "2020-11-16T12:55:35.218354Z",
     "start_time": "2020-11-16T12:55:35.209391Z"
    }
   },
   "outputs": [
    {
     "name": "stdout",
     "output_type": "stream",
     "text": [
      "(14865, 18) (10000, 18)\n"
     ]
    }
   ],
   "source": [
    "train = df[df.label.notna()]\n",
    "test = df[df.label.isna()]\n",
    "\n",
    "print(train.shape, test.shape)"
   ]
  },
  {
   "cell_type": "code",
   "execution_count": 19,
   "metadata": {
    "ExecuteTime": {
     "end_time": "2020-11-16T12:55:35.227330Z",
     "start_time": "2020-11-16T12:55:35.219352Z"
    }
   },
   "outputs": [],
   "source": [
    "y = train['label'].astype(int)\n",
    "sub = test[['id']]\n",
    "used_cols = [i for i in train.columns if i not in ['id', 'label']]\n",
    "train = train[used_cols]\n",
    "test = test[used_cols]"
   ]
  },
  {
   "cell_type": "code",
   "execution_count": 20,
   "metadata": {
    "ExecuteTime": {
     "end_time": "2020-11-16T12:55:37.556285Z",
     "start_time": "2020-11-16T12:55:35.228327Z"
    }
   },
   "outputs": [
    {
     "name": "stdout",
     "output_type": "stream",
     "text": [
      "oplocdistrict\n",
      "Training until validation scores don't improve for 50 rounds\n",
      "Early stopping, best iteration is:\n",
      "[8]\ttraining's auc: 0.800172\tvalid_0's auc: 0.784394\n",
      "Evaluated only: auc\n",
      "**********\n",
      "0.784394131780055\n",
      "industryphy\n",
      "Training until validation scores don't improve for 50 rounds\n",
      "Early stopping, best iteration is:\n",
      "[33]\ttraining's auc: 0.977366\tvalid_0's auc: 0.967944\n",
      "Evaluated only: auc\n",
      "**********\n",
      "0.9679441641137959\n",
      "industryco\n",
      "Training until validation scores don't improve for 50 rounds\n",
      "Early stopping, best iteration is:\n",
      "[104]\ttraining's auc: 0.986598\tvalid_0's auc: 0.975303\n",
      "Evaluated only: auc\n",
      "**********\n",
      "0.9753030403156906\n",
      "enttype\n",
      "Training until validation scores don't improve for 50 rounds\n",
      "Early stopping, best iteration is:\n",
      "[52]\ttraining's auc: 0.866492\tvalid_0's auc: 0.846703\n",
      "Evaluated only: auc\n",
      "**********\n",
      "0.8467026664715628\n",
      "enttypeitem\n",
      "Training until validation scores don't improve for 50 rounds\n",
      "Early stopping, best iteration is:\n",
      "[14]\ttraining's auc: 0.910801\tvalid_0's auc: 0.88193\n",
      "Evaluated only: auc\n",
      "**********\n",
      "0.8819299231070601\n",
      "state\n",
      "Training until validation scores don't improve for 50 rounds\n",
      "Early stopping, best iteration is:\n",
      "[1]\ttraining's auc: 0.551893\tvalid_0's auc: 0.538579\n",
      "Evaluated only: auc\n",
      "**********\n",
      "0.5385792271055874\n",
      "orgid\n",
      "Training until validation scores don't improve for 50 rounds\n",
      "Early stopping, best iteration is:\n",
      "[3]\ttraining's auc: 0.822389\tvalid_0's auc: 0.804703\n",
      "Evaluated only: auc\n",
      "**********\n",
      "0.8047030252108773\n",
      "jobid\n",
      "Training until validation scores don't improve for 50 rounds\n",
      "Early stopping, best iteration is:\n",
      "[49]\ttraining's auc: 0.931202\tvalid_0's auc: 0.921548\n",
      "Evaluated only: auc\n",
      "**********\n",
      "0.9215481961548809\n",
      "adbusign\n",
      "Training until validation scores don't improve for 50 rounds\n",
      "Early stopping, best iteration is:\n",
      "[1]\ttraining's auc: 0.504803\tvalid_0's auc: 0.501185\n",
      "Evaluated only: auc\n",
      "**********\n",
      "0.5011853738205265\n",
      "townsign\n",
      "Training until validation scores don't improve for 50 rounds\n",
      "Early stopping, best iteration is:\n",
      "[1]\ttraining's auc: 0.743673\tvalid_0's auc: 0.749927\n",
      "Evaluated only: auc\n",
      "**********\n",
      "0.7499268360608535\n",
      "regtype\n",
      "Training until validation scores don't improve for 50 rounds\n",
      "Early stopping, best iteration is:\n",
      "[1]\ttraining's auc: 0.5\tvalid_0's auc: 0.5\n",
      "Evaluated only: auc\n",
      "**********\n",
      "0.5\n",
      "empnum\n",
      "Training until validation scores don't improve for 50 rounds\n",
      "Early stopping, best iteration is:\n",
      "[3]\ttraining's auc: 0.718671\tvalid_0's auc: 0.694932\n",
      "Evaluated only: auc\n",
      "**********\n",
      "0.6949323351569249\n",
      "oploc\n",
      "Training until validation scores don't improve for 50 rounds\n",
      "Early stopping, best iteration is:\n",
      "[2]\ttraining's auc: 0.622877\tvalid_0's auc: 0.619168\n",
      "Evaluated only: auc\n",
      "**********\n",
      "0.6191675359801372\n",
      "regcap\n",
      "Training until validation scores don't improve for 50 rounds\n",
      "Early stopping, best iteration is:\n",
      "[93]\ttraining's auc: 0.892852\tvalid_0's auc: 0.844544\n",
      "Evaluated only: auc\n",
      "**********\n",
      "0.8445443302667416\n",
      "enttypegb\n",
      "Training until validation scores don't improve for 50 rounds\n",
      "Early stopping, best iteration is:\n",
      "[8]\ttraining's auc: 0.943966\tvalid_0's auc: 0.915788\n",
      "Evaluated only: auc\n",
      "**********\n",
      "0.91578771601063\n",
      "opfrom_year\n",
      "Training until validation scores don't improve for 50 rounds\n",
      "Early stopping, best iteration is:\n",
      "[19]\ttraining's auc: 0.881133\tvalid_0's auc: 0.892669\n",
      "Evaluated only: auc\n",
      "**********\n",
      "0.8926685012721085\n",
      "AUC useless_cols: \n",
      " ['adbusign', 'regtype']\n"
     ]
    }
   ],
   "source": [
    "X_train, X_valid, y_train, y_valid = train_test_split(train, y, test_size=0.25, random_state=2020)\n",
    "\n",
    "cols = X_train.columns\n",
    "useful_dict, useless_dict, useful_cols, useless_cols = auc_select(X_train, y_train, X_valid, y_valid, cols, threshold=0.52)\n",
    "print('AUC useless_cols: \\n', useless_cols)"
   ]
  },
  {
   "cell_type": "code",
   "execution_count": 21,
   "metadata": {
    "ExecuteTime": {
     "end_time": "2020-11-16T12:55:37.568255Z",
     "start_time": "2020-11-16T12:55:37.558280Z"
    }
   },
   "outputs": [],
   "source": [
    "X_train = X_train[useful_cols]\n",
    "X_valid = X_valid[useful_cols]\n",
    "test = test[useful_cols]"
   ]
  },
  {
   "cell_type": "code",
   "execution_count": 22,
   "metadata": {
    "ExecuteTime": {
     "end_time": "2020-11-16T12:55:38.335136Z",
     "start_time": "2020-11-16T12:55:37.571761Z"
    }
   },
   "outputs": [
    {
     "name": "stdout",
     "output_type": "stream",
     "text": [
      "Final cols: \n",
      " 14\n",
      "Training until validation scores don't improve for 200 rounds\n",
      "Did not meet early stopping. Best iteration is:\n",
      "[100]\ttraining's auc: 0.998773\tvalid_1's auc: 0.98725\n",
      "Evaluated only: auc\n",
      "Valid F1:  0.78417\n",
      "Valid mean label:  0.08393866020984665\n",
      "Test mean label:  0.1338\n"
     ]
    }
   ],
   "source": [
    "cols = X_train.columns.to_list()\n",
    "print('Final cols: \\n', len(cols))\n",
    "train_dataset = lgb.Dataset(X_train, y_train)\n",
    "valid_dataset = lgb.Dataset(X_valid, y_valid, reference=train_dataset)\n",
    "all_dataset = lgb.Dataset(train[cols], y, reference=train_dataset)\n",
    "\n",
    "\n",
    "def lgb_f1_score(y_hat, data):\n",
    "    y_true = data.get_label()\n",
    "    y_hat = np.where(y_hat > 0.5, 1, 0)  \n",
    "    return 'f1', f1_score(y_true, y_hat), True\n",
    "\n",
    "\n",
    "def f1_loss(y, pred):\n",
    "    beta = 2\n",
    "    p = 1. / (1 + np.exp(-pred))\n",
    "    grad = p * ((beta - 1) * y + 1) - beta * y\n",
    "    hess = ((beta - 1) * y + 1) * p * (1.0 - p)\n",
    "    return grad, hess\n",
    "\n",
    "\n",
    "params = {\n",
    "    'objective': 'binary',\n",
    "    'boosting': 'gbdt',\n",
    "    'metric': 'auc',\n",
    "#     'metric': 'None',  # 用自定义评估函数是将metric设置为'None'\n",
    "    'learning_rate': 0.1,\n",
    "    'num_leaves': 31,\n",
    "    'lambda_l1': 0,\n",
    "    'lambda_l2': 1,\n",
    "    'num_threads': 23,\n",
    "    'min_data_in_leaf': 20,\n",
    "    'first_metric_only': True,\n",
    "    'is_unbalance': True,\n",
    "    'max_depth': -1,\n",
    "    'seed': 2020\n",
    "}\n",
    "\n",
    "valid_model = lgb.train(\n",
    "    params,\n",
    "    train_dataset,\n",
    "    valid_sets=[train_dataset, valid_dataset],\n",
    "    early_stopping_rounds=200,\n",
    "    verbose_eval=300,\n",
    "#     feval=lgb_f1_score,\n",
    "#     fobj=f1_loss\n",
    "    \n",
    "    \n",
    ")\n",
    "pred = valid_model.predict(X_valid)\n",
    "y_valid_pred = np.where(pred > 0.5, 1, 0)\n",
    "F1 = np.round(f1_score(y_valid, y_valid_pred), 5)\n",
    "print('Valid F1: ', F1)\n",
    "print('Valid mean label: ', np.mean(y_valid_pred))\n",
    "\n",
    "train_model = lgb.train(\n",
    "    params,\n",
    "    all_dataset,\n",
    "    num_boost_round=valid_model.best_iteration+20,\n",
    "#     feval=lgb_f1_score,\n",
    "#     fobj=f1_loss\n",
    ")\n",
    "y_test_pred = np.where(train_model.predict(test) > 0.5, 1, 0)\n",
    "\n",
    "print('Test mean label: ', np.mean(y_test_pred))\n",
    "sub['score'] = y_test_pred\n",
    "sub.to_csv('../sub/baseline_{}_{}.csv'.format(time.strftime('%Y%m%d'), str(F1)), index=False)"
   ]
  }
 ],
 "metadata": {
  "kernelspec": {
   "display_name": "Python 3",
   "language": "python",
   "name": "python3"
  },
  "language_info": {
   "codemirror_mode": {
    "name": "ipython",
    "version": 3
   },
   "file_extension": ".py",
   "mimetype": "text/x-python",
   "name": "python",
   "nbconvert_exporter": "python",
   "pygments_lexer": "ipython3",
   "version": "3.7.3"
  },
  "toc": {
   "base_numbering": 1,
   "nav_menu": {},
   "number_sections": true,
   "sideBar": true,
   "skip_h1_title": false,
   "title_cell": "Table of Contents",
   "title_sidebar": "Contents",
   "toc_cell": false,
   "toc_position": {},
   "toc_section_display": true,
   "toc_window_display": false
  }
 },
 "nbformat": 4,
 "nbformat_minor": 4
}
