{
 "cells": [
  {
   "cell_type": "code",
   "execution_count": 1,
   "metadata": {
    "ExecuteTime": {
     "end_time": "2020-11-18T08:32:22.874915Z",
     "start_time": "2020-11-18T08:32:22.070559Z"
    }
   },
   "outputs": [],
   "source": [
    "import time\n",
    "import numpy as np\n",
    "import pandas as pd\n",
    "from tqdm import tqdm\n",
    "import json\n",
    "import lightgbm as lgb\n",
    "from catboost import CatBoostClassifier\n",
    "from sklearn.model_selection import train_test_split, StratifiedKFold\n",
    "from sklearn.preprocessing import LabelEncoder\n",
    "from sklearn.metrics import f1_score\n",
    "import warnings\n",
    "warnings.filterwarnings('ignore')\n",
    "from util import *"
   ]
  },
  {
   "cell_type": "code",
   "execution_count": 2,
   "metadata": {
    "ExecuteTime": {
     "end_time": "2020-11-18T08:32:23.040821Z",
     "start_time": "2020-11-18T08:32:22.876868Z"
    }
   },
   "outputs": [],
   "source": [
    "data = pd.read_csv('../input/data.csv')\n",
    "base_info = pd.read_csv('../input/base_info.csv')\n",
    "annual_report_info = pd.read_csv('../input/annual_report_info.csv')\n",
    "tax_info = pd.read_csv('../input/tax_info.csv')\n",
    "change_info = pd.read_csv('../input/change_info.csv')\n",
    "news_info = pd.read_csv('../input/news_info.csv')\n",
    "other_info = pd.read_csv('../input/other_info.csv')"
   ]
  },
  {
   "cell_type": "code",
   "execution_count": 3,
   "metadata": {
    "ExecuteTime": {
     "end_time": "2020-11-18T08:32:23.191376Z",
     "start_time": "2020-11-18T08:32:23.041752Z"
    }
   },
   "outputs": [
    {
     "data": {
      "text/plain": [
       "(24865, 87)"
      ]
     },
     "execution_count": 3,
     "metadata": {},
     "output_type": "execute_result"
    }
   ],
   "source": [
    "data = data.merge(base_info, how='left', on='id')\n",
    "data = data.merge(annual_report_info, how='left', on='id')\n",
    "data = data.merge(tax_info, how='left', on='id')\n",
    "data = data.merge(change_info, how='left', on='id')\n",
    "data = data.merge(news_info, how='left', on='id')\n",
    "data = data.merge(other_info, how='left', on='id')\n",
    "data.shape"
   ]
  },
  {
   "cell_type": "code",
   "execution_count": 4,
   "metadata": {
    "ExecuteTime": {
     "end_time": "2020-11-18T08:32:23.198332Z",
     "start_time": "2020-11-18T08:32:23.192348Z"
    }
   },
   "outputs": [
    {
     "data": {
      "text/plain": [
       "Index(['id', 'label', 'oplocdistrict', 'industryphy', 'industryco', 'dom',\n",
       "       'opscope', 'enttype', 'enttypeitem', 'opfrom', 'opto', 'state', 'orgid',\n",
       "       'jobid', 'adbusign', 'townsign', 'regtype', 'empnum', 'compform',\n",
       "       'opform', 'venind', 'enttypeminu', 'oploc', 'regcap', 'reccap',\n",
       "       'enttypegb', 'ANCHEYEAR', 'FUNDAM', 'EMPNUM', 'EMPNUMSIGN', 'BUSSTNAME',\n",
       "       'COLGRANUM', 'UNENUM', 'COLEMPLNUM', 'RETEMPLNUM', 'UNEEMPLNUM',\n",
       "       'WEBSITSIGN', 'FORINVESTSIGN', 'STOCKTRANSIGN', 'PUBSTATE',\n",
       "       'COLGRANUM+COLEMPLNUM', 'RETSOLNUM+RETEMPLNUM', 'DISPERNUM+DISEMPLNUM',\n",
       "       'UNENUM+UNEEMPLNUM', 'ALLNUM', 'TAX_AMOUNT_sum', 'bgxmdm_mode',\n",
       "       'bgxmdm_cnt', 'bgxmdm_nunique', 'bgxmdm_110.0', 'bgxmdm_111.0',\n",
       "       'bgxmdm_113.0', 'bgxmdm_115.0', 'bgxmdm_117.0', 'bgxmdm_118.0',\n",
       "       'bgxmdm_120.0', 'bgxmdm_121.0', 'bgxmdm_129.0', 'bgxmdm_131.0',\n",
       "       'bgxmdm_133.0', 'bgxmdm_137.0', 'bgxmdm_190.0', 'bgxmdm_930.0',\n",
       "       'bgxmdm_939.0', 'bgxmdm_cnt_max', 'bgxmdm_cnt_min', 'bgxmdm_cnt_mean',\n",
       "       'bgxmdm_cnt_median', 'bgxmdm_cnt_std', 'bgxmdm_cnt_skew',\n",
       "       'positive_negtive_mean', 'positive_negtive_median',\n",
       "       'positive_negtive_sum', 'positive_negtive_count',\n",
       "       'positive_negtive_max', 'positive_negtive_min',\n",
       "       'positive_negtive_nunique', 'positive_negtive_-1', 'positive_negtive_0',\n",
       "       'positive_negtive_1', 'rate_0', 'rate_1', '-1_1', '-1_0',\n",
       "       'legal_judgment_num', 'brand_num', 'patent_num'],\n",
       "      dtype='object')"
      ]
     },
     "execution_count": 4,
     "metadata": {},
     "output_type": "execute_result"
    }
   ],
   "source": [
    "data.columns"
   ]
  },
  {
   "cell_type": "code",
   "execution_count": 5,
   "metadata": {
    "ExecuteTime": {
     "end_time": "2020-11-18T08:32:23.240522Z",
     "start_time": "2020-11-18T08:32:23.199329Z"
    }
   },
   "outputs": [],
   "source": [
    "cat_cols = ['oplocdistrict', 'industryphy', 'industryco', 'enttype', 'enttypeitem', 'state', 'orgid', 'jobid', 'regtype', 'opform', 'venind', 'enttypeminu', 'oploc', 'enttypegb']\n",
    "two_values = ['adbusign', 'townsign', 'compform', 'protype']\n",
    "num_cols = ['empnum', 'parnum', 'exenum', 'regcap', 'reccap', 'forreccap', 'forregcap', 'congro']\n",
    "many_cols = ['dom', 'opscope']\n",
    "dt_cols = ['opfrom', 'opto']\n",
    "null_to_drop = ['midpreindcode', 'ptbusscope', 'protype', 'forreccap', 'congro', 'forregcap', 'exenum', 'parnum']\n",
    "imp_to_drop = ['adbusign', 'regtype', 'opform', 'venind', 'oploc', 'state']\n",
    "\n",
    "cat_cols = [i for i in cat_cols if i not in null_to_drop]\n",
    "two_values = [i for i in two_values if i not in null_to_drop]\n",
    "num_cols = [i for i in num_cols if i not in null_to_drop]\n",
    "\n",
    "# cat_cols = [i for i in cat_cols if i not in imp_to_drop]\n",
    "# two_values = [i for i in two_values if i not in imp_to_drop]\n",
    "# num_cols = [i for i in num_cols if i not in imp_to_drop]\n",
    "\n",
    "# data.drop(imp_to_drop, axis=1, inplace=True)"
   ]
  },
  {
   "cell_type": "code",
   "execution_count": null,
   "metadata": {},
   "outputs": [],
   "source": [
    "# industryphy_industryco_enttypeminu\n",
    "data['industryphy_industryco_enttypeminu'] = data['industryphy'].astype(str) + '_' + data['industryco'].astype(str) + '_' + data['enttypeminu'].astype(str)\n",
    "cat_cols.append('industryphy_industryco_enttypeminu')\n",
    "\n",
    "# enttype_enttypeitem\n",
    "data['enttype_enttypeitem'] = data['enttype'].astype(str) + '_' + data['enttypeitem'].astype(str)\n",
    "cat_cols.append('enttype_enttypeitem')"
   ]
  },
  {
   "cell_type": "code",
   "execution_count": null,
   "metadata": {},
   "outputs": [],
   "source": [
    "for i in tqdm(cat_cols + many_cols:\n",
    "    le = LabelEncoder()\n",
    "    data[i] = le.fit_transform(data[i].astype(str))"
   ]
  },
  {
   "cell_type": "code",
   "execution_count": 6,
   "metadata": {
    "ExecuteTime": {
     "end_time": "2020-11-18T08:32:23.309035Z",
     "start_time": "2020-11-18T08:32:23.241217Z"
    }
   },
   "outputs": [
    {
     "name": "stderr",
     "output_type": "stream",
     "text": [
      "100%|█████████████████████████████████████████████████████████████████████████████████| 11/11 [00:00<00:00, 180.69it/s]\n"
     ]
    }
   ],
   "source": [
    "for i in tqdm(cat_cols + many_cols):\n",
    "    data[i] = data[i].astype('str')"
   ]
  },
  {
   "cell_type": "code",
   "execution_count": 7,
   "metadata": {
    "ExecuteTime": {
     "end_time": "2020-11-18T08:32:23.352000Z",
     "start_time": "2020-11-18T08:32:23.310034Z"
    }
   },
   "outputs": [],
   "source": [
    "train = data[data['label'].notnull()]\n",
    "test = data[data['label'].isnull()]\n",
    "sub = test[['id']]\n",
    "# train.shape, test.shape\n",
    "\n",
    "used_cols = [i for i in train.columns if i not in ['id', 'label', 'opfrom', 'opto']]\n",
    "y = train['label']\n",
    "train = train[used_cols]\n",
    "test = test[used_cols]"
   ]
  },
  {
   "cell_type": "code",
   "execution_count": 8,
   "metadata": {
    "ExecuteTime": {
     "end_time": "2020-11-18T08:36:40.744534Z",
     "start_time": "2020-11-18T08:32:23.352919Z"
    }
   },
   "outputs": [
    {
     "name": "stdout",
     "output_type": "stream",
     "text": [
      "0:\tlearn: 0.7590881\ttest: 0.7178218\tbest: 0.7178218 (0)\ttotal: 113ms\tremaining: 3h 8m 22s\n",
      "300:\tlearn: 0.8823529\ttest: 0.7979798\tbest: 0.8070175 (131)\ttotal: 14.8s\tremaining: 1h 21m 38s\n",
      "600:\tlearn: 0.9175582\ttest: 0.8113695\tbest: 0.8153846 (423)\ttotal: 33.5s\tremaining: 1h 32m 20s\n",
      "900:\tlearn: 0.9460317\ttest: 0.8195876\tbest: 0.8226221 (874)\ttotal: 51.1s\tremaining: 1h 33m 37s\n",
      "1200:\tlearn: 0.9648562\ttest: 0.8195876\tbest: 0.8226221 (874)\ttotal: 1m 8s\tremaining: 1h 34m 32s\n",
      "Stopped by overfitting detector  (500 iterations wait)\n",
      "\n",
      "bestTest = 0.822622108\n",
      "bestIteration = 874\n",
      "\n",
      "Shrink model to first 875 iterations.\n",
      "0:\tlearn: 0.7487624\ttest: 0.7785888\tbest: 0.7785888 (0)\ttotal: 62.7ms\tremaining: 1h 44m 32s\n",
      "300:\tlearn: 0.8826531\ttest: 0.8571429\tbest: 0.8606357 (178)\ttotal: 17.4s\tremaining: 1h 36m 13s\n",
      "600:\tlearn: 0.9173028\ttest: 0.8502415\tbest: 0.8606357 (178)\ttotal: 34.3s\tremaining: 1h 34m 40s\n",
      "Stopped by overfitting detector  (500 iterations wait)\n",
      "\n",
      "bestTest = 0.8606356968\n",
      "bestIteration = 178\n",
      "\n",
      "Shrink model to first 179 iterations.\n",
      "0:\tlearn: 0.7659115\ttest: 0.7849687\tbest: 0.7849687 (0)\ttotal: 51.4ms\tremaining: 1h 25m 40s\n",
      "300:\tlearn: 0.8766603\ttest: 0.8625592\tbest: 0.8666667 (240)\ttotal: 17.4s\tremaining: 1h 35m 48s\n",
      "600:\tlearn: 0.9121920\ttest: 0.8619048\tbest: 0.8666667 (240)\ttotal: 35s\tremaining: 1h 36m 29s\n",
      "Stopped by overfitting detector  (500 iterations wait)\n",
      "\n",
      "bestTest = 0.8666666667\n",
      "bestIteration = 240\n",
      "\n",
      "Shrink model to first 241 iterations.\n",
      "0:\tlearn: 0.7461011\ttest: 0.7468031\tbest: 0.7468031 (0)\ttotal: 51ms\tremaining: 1h 24m 58s\n",
      "300:\tlearn: 0.8696742\ttest: 0.8535354\tbest: 0.8629442 (151)\ttotal: 16.9s\tremaining: 1h 33m 30s\n",
      "600:\tlearn: 0.9045226\ttest: 0.8542714\tbest: 0.8629442 (151)\ttotal: 33.7s\tremaining: 1h 32m 57s\n",
      "Stopped by overfitting detector  (500 iterations wait)\n",
      "\n",
      "bestTest = 0.8629441624\n",
      "bestIteration = 151\n",
      "\n",
      "Shrink model to first 152 iterations.\n",
      "0:\tlearn: 0.7487685\ttest: 0.7407407\tbest: 0.7407407 (0)\ttotal: 51.9ms\tremaining: 1h 26m 26s\n",
      "300:\tlearn: 0.8843027\ttest: 0.8113695\tbest: 0.8155844 (217)\ttotal: 17.1s\tremaining: 1h 34m 18s\n",
      "600:\tlearn: 0.9109159\ttest: 0.8115183\tbest: 0.8177083 (505)\ttotal: 34.4s\tremaining: 1h 34m 50s\n",
      "900:\tlearn: 0.9380531\ttest: 0.8146214\tbest: 0.8177083 (505)\ttotal: 51.3s\tremaining: 1h 34m 2s\n",
      "Stopped by overfitting detector  (500 iterations wait)\n",
      "\n",
      "bestTest = 0.8177083333\n",
      "bestIteration = 505\n",
      "\n",
      "Shrink model to first 506 iterations.\n",
      "OOF-MEAN-F1:0.846115, OOF-STD-F1:0.021332\n",
      "feature importance:\n",
      "feature\n",
      "industryphy           28.769800\n",
      "regcap                 6.335881\n",
      "enttypegb              6.158621\n",
      "opscope                6.155079\n",
      "dom                    3.854871\n",
      "                        ...    \n",
      "rate_0                 0.079305\n",
      "legal_judgment_num     0.064746\n",
      "FUNDAM                 0.045497\n",
      "brand_num              0.028861\n",
      "patent_num             0.026028\n",
      "Name: importance, Length: 77, dtype: float64\n"
     ]
    }
   ],
   "source": [
    "num_folds=5\n",
    "kfold = StratifiedKFold(n_splits=num_folds, random_state=1024, shuffle=True)\n",
    "\n",
    "oof_probs = np.zeros(train.shape[0])\n",
    "output_probs = np.zeros((test.shape[0], 5))\n",
    "offline_score = []\n",
    "feature_importance_df = pd.DataFrame()\n",
    "\n",
    "for fold, (train_idx, valid_idx) in enumerate(kfold.split(train, y)):\n",
    "    X_train, y_train = train.iloc[train_idx], y.iloc[train_idx]\n",
    "    X_valid, y_valid = train.iloc[valid_idx], y.iloc[valid_idx]\n",
    "    \n",
    "    model=CatBoostClassifier(\n",
    "        loss_function=\"Logloss\",\n",
    "        eval_metric=\"F1\",\n",
    "        task_type=\"CPU\",\n",
    "        learning_rate=0.01,\n",
    "        iterations=100000,\n",
    "        random_seed=2020,\n",
    "        od_type=\"Iter\",\n",
    "        depth=8,\n",
    "        early_stopping_rounds=500\n",
    "    )\n",
    "\n",
    "    clf = model.fit(X_train, y_train, eval_set=(X_valid,y_valid), verbose=500, cat_features=cat_cols)\n",
    "    yy_pred_valid=clf.predict(X_valid)\n",
    "    y_pred_valid = clf.predict(X_valid, prediction_type='Probability')[:, -1]\n",
    "    oof_probs[valid_idx] = y_pred_valid\n",
    "    offline_score.append(f1_score(y_valid, yy_pred_valid))\n",
    "    output_probs[:, fold] = clf.predict(test, prediction_type='Probability')[:,-1]\n",
    "    \n",
    "    # feature importance\n",
    "    fold_importance_df = pd.DataFrame()\n",
    "    fold_importance_df[\"feature\"] = model.feature_names_\n",
    "    fold_importance_df[\"importance\"] = model.feature_importances_\n",
    "    fold_importance_df[\"fold\"] = fold + 1\n",
    "    feature_importance_df = pd.concat([feature_importance_df, fold_importance_df], axis=0)\n",
    "\n",
    "print('OOF-MEAN-F1:%.6f, OOF-STD-F1:%.6f' % (np.mean(offline_score), np.std(offline_score)))\n",
    "print('feature importance:')\n",
    "feature_importance_df_ = feature_importance_df.groupby(['feature'])['importance'].mean().sort_values(ascending=False)\n",
    "# print(feature_importance_df_.head(15))\n",
    "print(feature_importance_df_)\n",
    "# feature_importance_df_.to_csv(\"./importance.csv\")"
   ]
  },
  {
   "cell_type": "code",
   "execution_count": 9,
   "metadata": {
    "ExecuteTime": {
     "end_time": "2020-11-18T08:36:40.802540Z",
     "start_time": "2020-11-18T08:36:40.745498Z"
    }
   },
   "outputs": [
    {
     "name": "stdout",
     "output_type": "stream",
     "text": [
      "14865    0.027647\n",
      "14866    0.545379\n",
      "14867    0.001697\n",
      "14868    0.002085\n",
      "14869    0.003440\n",
      "           ...   \n",
      "24860    0.120857\n",
      "24861    0.096247\n",
      "24862    0.020782\n",
      "24863    0.001753\n",
      "24864    0.902471\n",
      "Name: score, Length: 10000, dtype: float64\n"
     ]
    }
   ],
   "source": [
    "sub['score'] = np.mean(output_probs, axis=1)\n",
    "print(sub['score'])\n",
    "sub.to_csv('../sub/cat_sub.csv')"
   ]
  }
 ],
 "metadata": {
  "kernelspec": {
   "display_name": "Python 3",
   "language": "python",
   "name": "python3"
  },
  "language_info": {
   "codemirror_mode": {
    "name": "ipython",
    "version": 3
   },
   "file_extension": ".py",
   "mimetype": "text/x-python",
   "name": "python",
   "nbconvert_exporter": "python",
   "pygments_lexer": "ipython3",
   "version": "3.7.3"
  },
  "toc": {
   "base_numbering": 1,
   "nav_menu": {},
   "number_sections": true,
   "sideBar": true,
   "skip_h1_title": false,
   "title_cell": "Table of Contents",
   "title_sidebar": "Contents",
   "toc_cell": false,
   "toc_position": {},
   "toc_section_display": true,
   "toc_window_display": false
  }
 },
 "nbformat": 4,
 "nbformat_minor": 4
}
