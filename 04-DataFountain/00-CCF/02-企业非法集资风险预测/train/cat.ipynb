{
 "cells": [
  {
   "cell_type": "code",
   "execution_count": 1,
   "metadata": {
    "ExecuteTime": {
     "end_time": "2020-11-18T10:09:58.131916Z",
     "start_time": "2020-11-18T10:09:57.301976Z"
    }
   },
   "outputs": [],
   "source": [
    "import time\n",
    "import numpy as np\n",
    "import pandas as pd\n",
    "from tqdm import tqdm\n",
    "import json\n",
    "import lightgbm as lgb\n",
    "from catboost import CatBoostClassifier\n",
    "from sklearn.model_selection import train_test_split, StratifiedKFold\n",
    "from sklearn.preprocessing import LabelEncoder\n",
    "from sklearn.metrics import f1_score\n",
    "import warnings\n",
    "warnings.filterwarnings('ignore')\n",
    "from util import *"
   ]
  },
  {
   "cell_type": "code",
   "execution_count": 2,
   "metadata": {
    "ExecuteTime": {
     "end_time": "2020-11-18T10:09:58.439885Z",
     "start_time": "2020-11-18T10:09:58.133661Z"
    }
   },
   "outputs": [],
   "source": [
    "data = pd.read_csv('../input/data.csv')\n",
    "base_info = pd.read_csv('../input/base_info.csv')\n",
    "annual_report_info = pd.read_csv('../input/annual_report_info.csv')\n",
    "tax_info = pd.read_csv('../input/tax_info.csv')\n",
    "change_info = pd.read_csv('../input/change_info.csv')\n",
    "news_info = pd.read_csv('../input/news_info.csv')\n",
    "other_info = pd.read_csv('../input/other_info.csv')"
   ]
  },
  {
   "cell_type": "code",
   "execution_count": 3,
   "metadata": {
    "ExecuteTime": {
     "end_time": "2020-11-18T10:09:58.635275Z",
     "start_time": "2020-11-18T10:09:58.441551Z"
    }
   },
   "outputs": [
    {
     "data": {
      "text/plain": [
       "(24865, 87)"
      ]
     },
     "execution_count": 3,
     "metadata": {},
     "output_type": "execute_result"
    }
   ],
   "source": [
    "data = data.merge(base_info, how='left', on='id')\n",
    "data = data.merge(annual_report_info, how='left', on='id')\n",
    "data = data.merge(tax_info, how='left', on='id')\n",
    "data = data.merge(change_info, how='left', on='id')\n",
    "data = data.merge(news_info, how='left', on='id')\n",
    "data = data.merge(other_info, how='left', on='id')\n",
    "data.shape"
   ]
  },
  {
   "cell_type": "code",
   "execution_count": 4,
   "metadata": {
    "ExecuteTime": {
     "end_time": "2020-11-18T10:09:58.642216Z",
     "start_time": "2020-11-18T10:09:58.636231Z"
    }
   },
   "outputs": [
    {
     "data": {
      "text/plain": [
       "Index(['id', 'label', 'oplocdistrict', 'industryphy', 'industryco', 'dom',\n",
       "       'opscope', 'enttype', 'enttypeitem', 'opfrom', 'opto', 'state', 'orgid',\n",
       "       'jobid', 'adbusign', 'townsign', 'regtype', 'empnum', 'compform',\n",
       "       'opform', 'venind', 'enttypeminu', 'oploc', 'regcap', 'reccap',\n",
       "       'enttypegb', 'ANCHEYEAR', 'FUNDAM', 'EMPNUM', 'EMPNUMSIGN', 'BUSSTNAME',\n",
       "       'COLGRANUM', 'UNENUM', 'COLEMPLNUM', 'RETEMPLNUM', 'UNEEMPLNUM',\n",
       "       'WEBSITSIGN', 'FORINVESTSIGN', 'STOCKTRANSIGN', 'PUBSTATE',\n",
       "       'COLGRANUM+COLEMPLNUM', 'RETSOLNUM+RETEMPLNUM', 'DISPERNUM+DISEMPLNUM',\n",
       "       'UNENUM+UNEEMPLNUM', 'ALLNUM', 'TAX_AMOUNT_sum', 'bgxmdm_mode',\n",
       "       'bgxmdm_cnt', 'bgxmdm_nunique', 'bgxmdm_110.0', 'bgxmdm_111.0',\n",
       "       'bgxmdm_113.0', 'bgxmdm_115.0', 'bgxmdm_117.0', 'bgxmdm_118.0',\n",
       "       'bgxmdm_120.0', 'bgxmdm_121.0', 'bgxmdm_129.0', 'bgxmdm_131.0',\n",
       "       'bgxmdm_133.0', 'bgxmdm_137.0', 'bgxmdm_190.0', 'bgxmdm_930.0',\n",
       "       'bgxmdm_939.0', 'bgxmdm_cnt_max', 'bgxmdm_cnt_min', 'bgxmdm_cnt_mean',\n",
       "       'bgxmdm_cnt_median', 'bgxmdm_cnt_std', 'bgxmdm_cnt_skew',\n",
       "       'positive_negtive_mean', 'positive_negtive_median',\n",
       "       'positive_negtive_sum', 'positive_negtive_count',\n",
       "       'positive_negtive_max', 'positive_negtive_min',\n",
       "       'positive_negtive_nunique', 'positive_negtive_-1', 'positive_negtive_0',\n",
       "       'positive_negtive_1', 'rate_0', 'rate_1', '-1_1', '-1_0',\n",
       "       'legal_judgment_num', 'brand_num', 'patent_num'],\n",
       "      dtype='object')"
      ]
     },
     "execution_count": 4,
     "metadata": {},
     "output_type": "execute_result"
    }
   ],
   "source": [
    "data.columns"
   ]
  },
  {
   "cell_type": "code",
   "execution_count": 5,
   "metadata": {
    "ExecuteTime": {
     "end_time": "2020-11-18T10:09:58.650226Z",
     "start_time": "2020-11-18T10:09:58.643214Z"
    }
   },
   "outputs": [],
   "source": [
    "cat_cols = ['oplocdistrict', 'industryphy', 'industryco', 'enttype', 'enttypeitem', 'state', 'orgid', 'jobid', 'regtype', 'opform', 'venind', 'enttypeminu', 'oploc', 'enttypegb']\n",
    "two_values = ['adbusign', 'townsign', 'compform', 'protype']\n",
    "num_cols = ['empnum', 'parnum', 'exenum', 'regcap', 'reccap', 'forreccap', 'forregcap', 'congro']\n",
    "many_cols = ['dom', 'opscope']\n",
    "dt_cols = ['opfrom', 'opto']\n",
    "null_to_drop = ['midpreindcode', 'ptbusscope', 'protype', 'forreccap', 'congro', 'forregcap', 'exenum', 'parnum']\n",
    "imp_to_drop = ['adbusign', 'regtype', 'opform', 'venind', 'oploc', 'state']\n",
    "\n",
    "cat_cols = [i for i in cat_cols if i not in null_to_drop]\n",
    "two_values = [i for i in two_values if i not in null_to_drop]\n",
    "num_cols = [i for i in num_cols if i not in null_to_drop]\n",
    "\n",
    "# cat_cols = [i for i in cat_cols if i not in imp_to_drop]\n",
    "# two_values = [i for i in two_values if i not in imp_to_drop]\n",
    "# num_cols = [i for i in num_cols if i not in imp_to_drop]\n",
    "\n",
    "# data.drop(imp_to_drop, axis=1, inplace=True)"
   ]
  },
  {
   "cell_type": "code",
   "execution_count": 6,
   "metadata": {
    "ExecuteTime": {
     "end_time": "2020-11-18T10:09:58.656179Z",
     "start_time": "2020-11-18T10:09:58.652189Z"
    }
   },
   "outputs": [],
   "source": [
    "# data.drop(many_cols, axis=1, inplace=True)"
   ]
  },
  {
   "cell_type": "code",
   "execution_count": 7,
   "metadata": {
    "ExecuteTime": {
     "end_time": "2020-11-18T10:09:58.722622Z",
     "start_time": "2020-11-18T10:09:58.659172Z"
    }
   },
   "outputs": [],
   "source": [
    "# industryphy_industryco_enttypeminu\n",
    "data['industryphy_industryco_enttypeminu'] = data['industryphy'].astype(str) + '_' + data['industryco'].astype(str) + '_' + data['enttypeminu'].astype(str)\n",
    "cat_cols.append('industryphy_industryco_enttypeminu')\n",
    "\n",
    "# enttype_enttypeitem\n",
    "data['enttype_enttypeitem'] = data['enttype'].astype(str) + '_' + data['enttypeitem'].astype(str)\n",
    "cat_cols.append('enttype_enttypeitem')\n",
    "\n",
    "# enttypegb_enttype\n",
    "data['enttypegb_enttype'] = data['enttypegb'].astype(str) + '_' + data['enttype'].astype(str)\n",
    "cat_cols.append('enttypegb_enttype')\n",
    "\n",
    "data['regcap+reccap'] = data['regcap'] + data['reccap']"
   ]
  },
  {
   "cell_type": "code",
   "execution_count": 8,
   "metadata": {
    "ExecuteTime": {
     "end_time": "2020-11-18T10:09:58.923303Z",
     "start_time": "2020-11-18T10:09:58.723612Z"
    }
   },
   "outputs": [
    {
     "name": "stderr",
     "output_type": "stream",
     "text": [
      "100%|██████████████████████████████████████████████████████████████████████████████████| 19/19 [00:00<00:00, 99.08it/s]\n"
     ]
    }
   ],
   "source": [
    "for i in tqdm(cat_cols + many_cols):\n",
    "    le = LabelEncoder()\n",
    "    data[i] = le.fit_transform(data[i].astype(str))"
   ]
  },
  {
   "cell_type": "code",
   "execution_count": 9,
   "metadata": {
    "ExecuteTime": {
     "end_time": "2020-11-18T10:09:59.016095Z",
     "start_time": "2020-11-18T10:09:58.924300Z"
    }
   },
   "outputs": [
    {
     "name": "stderr",
     "output_type": "stream",
     "text": [
      "100%|█████████████████████████████████████████████████████████████████████████████████| 19/19 [00:00<00:00, 216.49it/s]\n"
     ]
    }
   ],
   "source": [
    "for i in tqdm(cat_cols + many_cols):\n",
    "    data[i] = data[i].astype('str')"
   ]
  },
  {
   "cell_type": "code",
   "execution_count": 10,
   "metadata": {
    "ExecuteTime": {
     "end_time": "2020-11-18T10:09:59.083942Z",
     "start_time": "2020-11-18T10:09:59.017053Z"
    }
   },
   "outputs": [],
   "source": [
    "train = data[data['label'].notnull()]\n",
    "test = data[data['label'].isnull()]\n",
    "sub = test[['id']]\n",
    "# train.shape, test.shape\n",
    "\n",
    "used_cols = [i for i in train.columns if i not in ['id', 'label', 'opfrom', 'opto']]\n",
    "y = train['label']\n",
    "train = train[used_cols]\n",
    "test = test[used_cols]"
   ]
  },
  {
   "cell_type": "code",
   "execution_count": 11,
   "metadata": {
    "ExecuteTime": {
     "end_time": "2020-11-18T10:22:12.497095Z",
     "start_time": "2020-11-18T10:09:59.084870Z"
    }
   },
   "outputs": [
    {
     "name": "stdout",
     "output_type": "stream",
     "text": [
      "0:\tlearn: 0.8188002\ttest: 0.8238213\tbest: 0.8238213 (0)\ttotal: 274ms\tremaining: 7h 36m 34s\n",
      "500:\tlearn: 0.8754717\ttest: 0.8235294\tbest: 0.8295165 (315)\ttotal: 1m 55s\tremaining: 6h 22m 46s\n",
      "1000:\tlearn: 0.9094364\ttest: 0.8247423\tbest: 0.8316327 (774)\ttotal: 3m 49s\tremaining: 6h 17m 34s\n",
      "bestTest = 0.8316326531\n",
      "bestIteration = 774\n",
      "Shrink model to first 775 iterations.\n",
      "0:\tlearn: 0.8309693\ttest: 0.8390244\tbest: 0.8390244 (0)\ttotal: 236ms\tremaining: 6h 33m 50s\n",
      "500:\tlearn: 0.8776529\ttest: 0.8550000\tbest: 0.8578554 (249)\ttotal: 1m 57s\tremaining: 6h 27m 26s\n",
      "1000:\tlearn: 0.9065831\ttest: 0.8606965\tbest: 0.8606965 (548)\ttotal: 3m 50s\tremaining: 6h 20m 5s\n",
      "bestTest = 0.8606965174\n",
      "bestIteration = 548\n",
      "Shrink model to first 549 iterations.\n",
      "0:\tlearn: 0.8023256\ttest: 0.7864583\tbest: 0.7864583 (0)\ttotal: 201ms\tremaining: 5h 35m 48s\n",
      "500:\tlearn: 0.8807453\ttest: 0.8264059\tbest: 0.8296296 (63)\ttotal: 1m 58s\tremaining: 6h 32m 19s\n",
      "bestTest = 0.8296296296\n",
      "bestIteration = 63\n",
      "Shrink model to first 64 iterations.\n",
      "0:\tlearn: 0.8063291\ttest: 0.8363636\tbest: 0.8363636 (0)\ttotal: 219ms\tremaining: 6h 5m 14s\n"
     ]
    },
    {
     "ename": "KeyboardInterrupt",
     "evalue": "",
     "output_type": "error",
     "traceback": [
      "\u001b[1;31m---------------------------------------------------------------------------\u001b[0m",
      "\u001b[1;31mKeyboardInterrupt\u001b[0m                         Traceback (most recent call last)",
      "\u001b[1;32m<ipython-input-11-04d6ce0c23dd>\u001b[0m in \u001b[0;36m<module>\u001b[1;34m\u001b[0m\n\u001b[0;32m     23\u001b[0m     )\n\u001b[0;32m     24\u001b[0m \u001b[1;33m\u001b[0m\u001b[0m\n\u001b[1;32m---> 25\u001b[1;33m     \u001b[0mclf\u001b[0m \u001b[1;33m=\u001b[0m \u001b[0mmodel\u001b[0m\u001b[1;33m.\u001b[0m\u001b[0mfit\u001b[0m\u001b[1;33m(\u001b[0m\u001b[0mX_train\u001b[0m\u001b[1;33m,\u001b[0m \u001b[0my_train\u001b[0m\u001b[1;33m,\u001b[0m \u001b[0meval_set\u001b[0m\u001b[1;33m=\u001b[0m\u001b[1;33m(\u001b[0m\u001b[0mX_valid\u001b[0m\u001b[1;33m,\u001b[0m\u001b[0my_valid\u001b[0m\u001b[1;33m)\u001b[0m\u001b[1;33m,\u001b[0m \u001b[0mverbose\u001b[0m\u001b[1;33m=\u001b[0m\u001b[1;36m500\u001b[0m\u001b[1;33m,\u001b[0m \u001b[0mcat_features\u001b[0m\u001b[1;33m=\u001b[0m\u001b[0mcat_cols\u001b[0m\u001b[1;33m)\u001b[0m\u001b[1;33m\u001b[0m\u001b[1;33m\u001b[0m\u001b[0m\n\u001b[0m\u001b[0;32m     26\u001b[0m     \u001b[0myy_pred_valid\u001b[0m\u001b[1;33m=\u001b[0m\u001b[0mclf\u001b[0m\u001b[1;33m.\u001b[0m\u001b[0mpredict\u001b[0m\u001b[1;33m(\u001b[0m\u001b[0mX_valid\u001b[0m\u001b[1;33m)\u001b[0m\u001b[1;33m\u001b[0m\u001b[1;33m\u001b[0m\u001b[0m\n\u001b[0;32m     27\u001b[0m     \u001b[0my_pred_valid\u001b[0m \u001b[1;33m=\u001b[0m \u001b[0mclf\u001b[0m\u001b[1;33m.\u001b[0m\u001b[0mpredict\u001b[0m\u001b[1;33m(\u001b[0m\u001b[0mX_valid\u001b[0m\u001b[1;33m,\u001b[0m \u001b[0mprediction_type\u001b[0m\u001b[1;33m=\u001b[0m\u001b[1;34m'Probability'\u001b[0m\u001b[1;33m)\u001b[0m\u001b[1;33m[\u001b[0m\u001b[1;33m:\u001b[0m\u001b[1;33m,\u001b[0m \u001b[1;33m-\u001b[0m\u001b[1;36m1\u001b[0m\u001b[1;33m]\u001b[0m\u001b[1;33m\u001b[0m\u001b[1;33m\u001b[0m\u001b[0m\n",
      "\u001b[1;32m~\\Anaconda3\\lib\\site-packages\\catboost\\core.py\u001b[0m in \u001b[0;36mfit\u001b[1;34m(self, X, y, cat_features, text_features, sample_weight, baseline, use_best_model, eval_set, verbose, logging_level, plot, column_description, verbose_eval, metric_period, silent, early_stopping_rounds, save_snapshot, snapshot_file, snapshot_interval, init_model)\u001b[0m\n\u001b[0;32m   3957\u001b[0m         self._fit(X, y, cat_features, text_features, None, sample_weight, None, None, None, None, baseline, use_best_model,\n\u001b[0;32m   3958\u001b[0m                   \u001b[0meval_set\u001b[0m\u001b[1;33m,\u001b[0m \u001b[0mverbose\u001b[0m\u001b[1;33m,\u001b[0m \u001b[0mlogging_level\u001b[0m\u001b[1;33m,\u001b[0m \u001b[0mplot\u001b[0m\u001b[1;33m,\u001b[0m \u001b[0mcolumn_description\u001b[0m\u001b[1;33m,\u001b[0m \u001b[0mverbose_eval\u001b[0m\u001b[1;33m,\u001b[0m \u001b[0mmetric_period\u001b[0m\u001b[1;33m,\u001b[0m\u001b[1;33m\u001b[0m\u001b[1;33m\u001b[0m\u001b[0m\n\u001b[1;32m-> 3959\u001b[1;33m                   silent, early_stopping_rounds, save_snapshot, snapshot_file, snapshot_interval, init_model)\n\u001b[0m\u001b[0;32m   3960\u001b[0m         \u001b[1;32mreturn\u001b[0m \u001b[0mself\u001b[0m\u001b[1;33m\u001b[0m\u001b[1;33m\u001b[0m\u001b[0m\n\u001b[0;32m   3961\u001b[0m \u001b[1;33m\u001b[0m\u001b[0m\n",
      "\u001b[1;32m~\\Anaconda3\\lib\\site-packages\\catboost\\core.py\u001b[0m in \u001b[0;36m_fit\u001b[1;34m(self, X, y, cat_features, text_features, pairs, sample_weight, group_id, group_weight, subgroup_id, pairs_weight, baseline, use_best_model, eval_set, verbose, logging_level, plot, column_description, verbose_eval, metric_period, silent, early_stopping_rounds, save_snapshot, snapshot_file, snapshot_interval, init_model)\u001b[0m\n\u001b[0;32m   1711\u001b[0m                 \u001b[0mparams\u001b[0m\u001b[1;33m,\u001b[0m\u001b[1;33m\u001b[0m\u001b[1;33m\u001b[0m\u001b[0m\n\u001b[0;32m   1712\u001b[0m                 \u001b[0mallow_clear_pool\u001b[0m\u001b[1;33m,\u001b[0m\u001b[1;33m\u001b[0m\u001b[1;33m\u001b[0m\u001b[0m\n\u001b[1;32m-> 1713\u001b[1;33m                 \u001b[0mtrain_params\u001b[0m\u001b[1;33m[\u001b[0m\u001b[1;34m\"init_model\"\u001b[0m\u001b[1;33m]\u001b[0m\u001b[1;33m\u001b[0m\u001b[1;33m\u001b[0m\u001b[0m\n\u001b[0m\u001b[0;32m   1714\u001b[0m             )\n\u001b[0;32m   1715\u001b[0m \u001b[1;33m\u001b[0m\u001b[0m\n",
      "\u001b[1;32m~\\Anaconda3\\lib\\site-packages\\catboost\\core.py\u001b[0m in \u001b[0;36m_train\u001b[1;34m(self, train_pool, test_pool, params, allow_clear_pool, init_model)\u001b[0m\n\u001b[0;32m   1227\u001b[0m \u001b[1;33m\u001b[0m\u001b[0m\n\u001b[0;32m   1228\u001b[0m     \u001b[1;32mdef\u001b[0m \u001b[0m_train\u001b[0m\u001b[1;33m(\u001b[0m\u001b[0mself\u001b[0m\u001b[1;33m,\u001b[0m \u001b[0mtrain_pool\u001b[0m\u001b[1;33m,\u001b[0m \u001b[0mtest_pool\u001b[0m\u001b[1;33m,\u001b[0m \u001b[0mparams\u001b[0m\u001b[1;33m,\u001b[0m \u001b[0mallow_clear_pool\u001b[0m\u001b[1;33m,\u001b[0m \u001b[0minit_model\u001b[0m\u001b[1;33m)\u001b[0m\u001b[1;33m:\u001b[0m\u001b[1;33m\u001b[0m\u001b[1;33m\u001b[0m\u001b[0m\n\u001b[1;32m-> 1229\u001b[1;33m         \u001b[0mself\u001b[0m\u001b[1;33m.\u001b[0m\u001b[0m_object\u001b[0m\u001b[1;33m.\u001b[0m\u001b[0m_train\u001b[0m\u001b[1;33m(\u001b[0m\u001b[0mtrain_pool\u001b[0m\u001b[1;33m,\u001b[0m \u001b[0mtest_pool\u001b[0m\u001b[1;33m,\u001b[0m \u001b[0mparams\u001b[0m\u001b[1;33m,\u001b[0m \u001b[0mallow_clear_pool\u001b[0m\u001b[1;33m,\u001b[0m \u001b[0minit_model\u001b[0m\u001b[1;33m.\u001b[0m\u001b[0m_object\u001b[0m \u001b[1;32mif\u001b[0m \u001b[0minit_model\u001b[0m \u001b[1;32melse\u001b[0m \u001b[1;32mNone\u001b[0m\u001b[1;33m)\u001b[0m\u001b[1;33m\u001b[0m\u001b[1;33m\u001b[0m\u001b[0m\n\u001b[0m\u001b[0;32m   1230\u001b[0m         \u001b[0mself\u001b[0m\u001b[1;33m.\u001b[0m\u001b[0m_set_trained_model_attributes\u001b[0m\u001b[1;33m(\u001b[0m\u001b[1;33m)\u001b[0m\u001b[1;33m\u001b[0m\u001b[1;33m\u001b[0m\u001b[0m\n\u001b[0;32m   1231\u001b[0m \u001b[1;33m\u001b[0m\u001b[0m\n",
      "\u001b[1;32m_catboost.pyx\u001b[0m in \u001b[0;36m_catboost._CatBoost._train\u001b[1;34m()\u001b[0m\n",
      "\u001b[1;32m_catboost.pyx\u001b[0m in \u001b[0;36m_catboost._CatBoost._train\u001b[1;34m()\u001b[0m\n",
      "\u001b[1;31mKeyboardInterrupt\u001b[0m: "
     ]
    }
   ],
   "source": [
    "num_folds=5\n",
    "kfold = StratifiedKFold(n_splits=num_folds, random_state=1024, shuffle=True)\n",
    "\n",
    "oof_probs = np.zeros(train.shape[0])\n",
    "output_probs = np.zeros((test.shape[0], 5))\n",
    "offline_score = []\n",
    "feature_importance_df = pd.DataFrame()\n",
    "\n",
    "for fold, (train_idx, valid_idx) in enumerate(kfold.split(train, y)):\n",
    "    X_train, y_train = train.iloc[train_idx], y.iloc[train_idx]\n",
    "    X_valid, y_valid = train.iloc[valid_idx], y.iloc[valid_idx]\n",
    "    \n",
    "    model=CatBoostClassifier(\n",
    "        loss_function=\"Logloss\",\n",
    "        eval_metric=\"F1\",\n",
    "        task_type=\"GPU\",\n",
    "        learning_rate=0.01,\n",
    "        iterations=100000,\n",
    "        random_seed=2020,\n",
    "        od_type=\"Iter\",\n",
    "        depth=8,\n",
    "        early_stopping_rounds=500\n",
    "    )\n",
    "\n",
    "    clf = model.fit(X_train, y_train, eval_set=(X_valid,y_valid), verbose=500, cat_features=cat_cols)\n",
    "    yy_pred_valid=clf.predict(X_valid)\n",
    "    y_pred_valid = clf.predict(X_valid, prediction_type='Probability')[:, -1]\n",
    "    oof_probs[valid_idx] = y_pred_valid\n",
    "    offline_score.append(f1_score(y_valid, yy_pred_valid))\n",
    "    output_probs[:, fold] = clf.predict(test, prediction_type='Probability')[:,-1]\n",
    "    \n",
    "    # feature importance\n",
    "    fold_importance_df = pd.DataFrame()\n",
    "    fold_importance_df[\"feature\"] = model.feature_names_\n",
    "    fold_importance_df[\"importance\"] = model.feature_importances_\n",
    "    fold_importance_df[\"fold\"] = fold + 1\n",
    "    feature_importance_df = pd.concat([feature_importance_df, fold_importance_df], axis=0)\n",
    "\n",
    "print('OOF-MEAN-F1:%.6f, OOF-STD-F1:%.6f' % (np.mean(offline_score), np.std(offline_score)))\n",
    "print('feature importance:')\n",
    "feature_importance_df_ = feature_importance_df.groupby(['feature'])['importance'].mean().sort_values(ascending=False)\n",
    "print(feature_importance_df_.head(15))\n",
    "# print(feature_importance_df_)\n",
    "# feature_importance_df_.to_csv(\"./importance.csv\")"
   ]
  },
  {
   "cell_type": "code",
   "execution_count": null,
   "metadata": {
    "ExecuteTime": {
     "end_time": "2020-11-18T10:22:12.499089Z",
     "start_time": "2020-11-18T10:09:57.297Z"
    }
   },
   "outputs": [],
   "source": [
    "sub['score'] = np.mean(output_probs, axis=1)\n",
    "print(sub['score'])\n",
    "sub.to_csv('../sub/cat_sub.csv')"
   ]
  }
 ],
 "metadata": {
  "kernelspec": {
   "display_name": "Python 3",
   "language": "python",
   "name": "python3"
  },
  "language_info": {
   "codemirror_mode": {
    "name": "ipython",
    "version": 3
   },
   "file_extension": ".py",
   "mimetype": "text/x-python",
   "name": "python",
   "nbconvert_exporter": "python",
   "pygments_lexer": "ipython3",
   "version": "3.7.3"
  },
  "toc": {
   "base_numbering": 1,
   "nav_menu": {},
   "number_sections": true,
   "sideBar": true,
   "skip_h1_title": false,
   "title_cell": "Table of Contents",
   "title_sidebar": "Contents",
   "toc_cell": false,
   "toc_position": {},
   "toc_section_display": true,
   "toc_window_display": false
  }
 },
 "nbformat": 4,
 "nbformat_minor": 4
}
