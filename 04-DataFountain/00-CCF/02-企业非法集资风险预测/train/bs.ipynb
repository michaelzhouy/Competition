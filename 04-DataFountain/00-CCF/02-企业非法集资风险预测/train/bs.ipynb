{
 "cells": [
  {
   "cell_type": "code",
   "execution_count": 1,
   "metadata": {
    "ExecuteTime": {
     "end_time": "2020-10-31T03:20:20.246504Z",
     "start_time": "2020-10-31T03:20:19.443884Z"
    }
   },
   "outputs": [],
   "source": [
    "import time\n",
    "import numpy as np\n",
    "import pandas as pd\n",
    "from tqdm.notebook import tqdm\n",
    "from sklearn.preprocessing import LabelEncoder\n",
    "from sklearn.model_selection import train_test_split\n",
    "from sklearn.metrics import f1_score\n",
    "import lightgbm as lgb\n",
    "import gc\n",
    "import warnings\n",
    "warnings.filterwarnings('ignore')"
   ]
  },
  {
   "cell_type": "code",
   "execution_count": 2,
   "metadata": {
    "ExecuteTime": {
     "end_time": "2020-10-31T03:20:20.263390Z",
     "start_time": "2020-10-31T03:20:20.247433Z"
    }
   },
   "outputs": [],
   "source": [
    "def count_encode(df, cols=[]):\n",
    "    \"\"\"\n",
    "    count编码\n",
    "    @param df:\n",
    "    @param cols:\n",
    "    @return:\n",
    "    \"\"\"\n",
    "    for col in cols:\n",
    "        print(col)\n",
    "        vc = df[col].value_counts(dropna=True, normalize=True)\n",
    "        df[col + '_count'] = df[col].map(vc).astype('float32')\n",
    "    return df\n",
    "\n",
    "def label_encode(df, cols, verbose=True):\n",
    "    \"\"\"\n",
    "    label encode\n",
    "    @param df:\n",
    "    @param cols:\n",
    "    @param verbose:\n",
    "    @return:\n",
    "    \"\"\"\n",
    "    for col in cols:\n",
    "        df[col], _ = df[col].astype(str).factorize(sort=True)\n",
    "        if df[col].max() > 32000:\n",
    "            df[col] = df[col].astype('int32')\n",
    "        else:\n",
    "            df[col] = df[col].astype('int16')\n",
    "        if verbose:\n",
    "            print(col)\n",
    "    return df\n",
    "\n",
    "\n",
    "def cross_cat_num(df, cat_cols, num_cols):\n",
    "    \"\"\"\n",
    "    类别特征与数据特征groupby统计\n",
    "    @param df:\n",
    "    @param cat_col: 类别特征\n",
    "    @param num_col: 数值特征\n",
    "    @return:\n",
    "    \"\"\"\n",
    "    def max_min(s):\n",
    "        return s.max() - s.min()\n",
    "\n",
    "    def quantile(s, q=0.25):\n",
    "        return s.quantile(q)\n",
    "\n",
    "    for f1 in tqdm(cat_cols):\n",
    "        g = df.groupby(f1, as_index=False)\n",
    "        for f2 in tqdm(num_cols):\n",
    "            tmp = g[f2].agg({\n",
    "                '{}_{}_count'.format(f1, f2): 'count',\n",
    "                '{}_{}_max'.format(f1, f2): 'max',\n",
    "                '{}_{}_min'.format(f1, f2): 'min',\n",
    "                '{}_{}_median'.format(f1, f2): 'median',\n",
    "                '{}_{}_mean'.format(f1, f2): 'mean',\n",
    "                '{}_{}_sum'.format(f1, f2): 'sum',\n",
    "                '{}_{}_skew'.format(f1, f2): 'skew',\n",
    "                '{}_{}_std'.format(f1, f2): 'std',\n",
    "                '{}_{}_nunique'.format(f1, f2): 'nunique',\n",
    "                '{}_{}_max_min'.format(f1, f2): max_min,\n",
    "                '{}_{}_quantile_25'.format(f1, f2): lambda x: quantile(x, 0.25),\n",
    "                '{}_{}_quantile_75'.format(f1, f2): lambda x: quantile(x, 0.75)\n",
    "            })\n",
    "            df = df.merge(tmp, on=f1, how='left')\n",
    "            del tmp\n",
    "            gc.collect()\n",
    "    return df\n",
    "\n",
    "\n",
    "def arithmetic(df, cross_features):\n",
    "    \"\"\"\n",
    "    数值特征之间的加减乘除\n",
    "    @param df:\n",
    "    @param cross_features: 交叉用的数值特征\n",
    "    @return:\n",
    "    \"\"\"\n",
    "    for i in tqdm(range(len(cross_features))):\n",
    "        for j in range(i + 1, len(cross_features)):\n",
    "            colname_add = '{}_{}_add'.format(cross_features[i], cross_features[j])\n",
    "            colname_substract = '{}_{}_subtract'.format(cross_features[i], cross_features[j])\n",
    "            colname_multiply = '{}_{}c_multiply'.format(cross_features[i], cross_features[j])\n",
    "            df[colname_add] = df[cross_features[i]] + df[cross_features[j]]\n",
    "            df[colname_substract] = df[cross_features[i]] - df[cross_features[j]]\n",
    "            df[colname_multiply] = df[cross_features[i]] * df[cross_features[j]]\n",
    "\n",
    "    for f1 in tqdm(cross_features):\n",
    "        for f2 in cross_features:\n",
    "            if f1 != f2:\n",
    "                colname_ratio = '{}_{}_ratio'.format(f1, f2)\n",
    "                df[colname_ratio] = df[f1].values / (df[f2].values + 0.001)\n",
    "    return df"
   ]
  },
  {
   "cell_type": "code",
   "execution_count": 3,
   "metadata": {
    "ExecuteTime": {
     "end_time": "2020-10-31T03:20:20.296330Z",
     "start_time": "2020-10-31T03:20:20.264388Z"
    }
   },
   "outputs": [
    {
     "name": "stdout",
     "output_type": "stream",
     "text": [
      "(14865, 2)\n"
     ]
    },
    {
     "data": {
      "text/html": [
       "<div>\n",
       "<style scoped>\n",
       "    .dataframe tbody tr th:only-of-type {\n",
       "        vertical-align: middle;\n",
       "    }\n",
       "\n",
       "    .dataframe tbody tr th {\n",
       "        vertical-align: top;\n",
       "    }\n",
       "\n",
       "    .dataframe thead th {\n",
       "        text-align: right;\n",
       "    }\n",
       "</style>\n",
       "<table border=\"1\" class=\"dataframe\">\n",
       "  <thead>\n",
       "    <tr style=\"text-align: right;\">\n",
       "      <th></th>\n",
       "      <th>id</th>\n",
       "      <th>label</th>\n",
       "    </tr>\n",
       "  </thead>\n",
       "  <tbody>\n",
       "    <tr>\n",
       "      <th>0</th>\n",
       "      <td>59b38c56de3836831ff90a77d892a13523b7494f6ed09ff7</td>\n",
       "      <td>1</td>\n",
       "    </tr>\n",
       "    <tr>\n",
       "      <th>1</th>\n",
       "      <td>da8691b210adb3f6be8064e006f220070565db287275ad38</td>\n",
       "      <td>0</td>\n",
       "    </tr>\n",
       "    <tr>\n",
       "      <th>2</th>\n",
       "      <td>82750f1b9d122350918121f97c99bf96e11aa24ee91504a9</td>\n",
       "      <td>0</td>\n",
       "    </tr>\n",
       "    <tr>\n",
       "      <th>3</th>\n",
       "      <td>f000950527a6feb6b2c6de6f85c1e7438ba5590be931e2ec</td>\n",
       "      <td>0</td>\n",
       "    </tr>\n",
       "    <tr>\n",
       "      <th>4</th>\n",
       "      <td>f1c1045b13d1832927e3743e49d2917f2d98424f0849a373</td>\n",
       "      <td>0</td>\n",
       "    </tr>\n",
       "  </tbody>\n",
       "</table>\n",
       "</div>"
      ],
      "text/plain": [
       "                                                 id  label\n",
       "0  59b38c56de3836831ff90a77d892a13523b7494f6ed09ff7      1\n",
       "1  da8691b210adb3f6be8064e006f220070565db287275ad38      0\n",
       "2  82750f1b9d122350918121f97c99bf96e11aa24ee91504a9      0\n",
       "3  f000950527a6feb6b2c6de6f85c1e7438ba5590be931e2ec      0\n",
       "4  f1c1045b13d1832927e3743e49d2917f2d98424f0849a373      0"
      ]
     },
     "execution_count": 3,
     "metadata": {},
     "output_type": "execute_result"
    }
   ],
   "source": [
    "# 数据集7：entprise_info.csv\n",
    "# 带标注的企业数据。每一行代表一个企业，每一行2列，其中id列为企业唯一标识，label列为标注（1：有非法集资风险，0：无非法集资风险），列之间采用“,”分隔符分割。\n",
    "# 训练集 id 及标签\n",
    "entprise_info = pd.read_csv('../input/train/entprise_info.csv')\n",
    "print(entprise_info.shape)\n",
    "entprise_info.head()"
   ]
  },
  {
   "cell_type": "code",
   "execution_count": 4,
   "metadata": {
    "ExecuteTime": {
     "end_time": "2020-10-31T03:20:20.318244Z",
     "start_time": "2020-10-31T03:20:20.297300Z"
    }
   },
   "outputs": [
    {
     "name": "stdout",
     "output_type": "stream",
     "text": [
      "(10000, 2)\n"
     ]
    },
    {
     "data": {
      "text/html": [
       "<div>\n",
       "<style scoped>\n",
       "    .dataframe tbody tr th:only-of-type {\n",
       "        vertical-align: middle;\n",
       "    }\n",
       "\n",
       "    .dataframe tbody tr th {\n",
       "        vertical-align: top;\n",
       "    }\n",
       "\n",
       "    .dataframe thead th {\n",
       "        text-align: right;\n",
       "    }\n",
       "</style>\n",
       "<table border=\"1\" class=\"dataframe\">\n",
       "  <thead>\n",
       "    <tr style=\"text-align: right;\">\n",
       "      <th></th>\n",
       "      <th>id</th>\n",
       "      <th>score</th>\n",
       "    </tr>\n",
       "  </thead>\n",
       "  <tbody>\n",
       "    <tr>\n",
       "      <th>0</th>\n",
       "      <td>82750f1b9d1223508ee329d47e27d35176c93eb9f35e9c1a</td>\n",
       "      <td>NaN</td>\n",
       "    </tr>\n",
       "    <tr>\n",
       "      <th>1</th>\n",
       "      <td>f000950527a6feb670cc1c87c2025f3922aaa4a0206a0a33</td>\n",
       "      <td>NaN</td>\n",
       "    </tr>\n",
       "    <tr>\n",
       "      <th>2</th>\n",
       "      <td>e9f7b28ec10e04700ef4db75a494f9a1e8e8b09555e6afa1</td>\n",
       "      <td>NaN</td>\n",
       "    </tr>\n",
       "    <tr>\n",
       "      <th>3</th>\n",
       "      <td>beb4aaaa89e0a0ae9d77bd5d7665be6342f552f51840cf19</td>\n",
       "      <td>NaN</td>\n",
       "    </tr>\n",
       "    <tr>\n",
       "      <th>4</th>\n",
       "      <td>e9f7b28ec10e0470ee4172cec0133b6826c34f27d3dff204</td>\n",
       "      <td>NaN</td>\n",
       "    </tr>\n",
       "  </tbody>\n",
       "</table>\n",
       "</div>"
      ],
      "text/plain": [
       "                                                 id  score\n",
       "0  82750f1b9d1223508ee329d47e27d35176c93eb9f35e9c1a    NaN\n",
       "1  f000950527a6feb670cc1c87c2025f3922aaa4a0206a0a33    NaN\n",
       "2  e9f7b28ec10e04700ef4db75a494f9a1e8e8b09555e6afa1    NaN\n",
       "3  beb4aaaa89e0a0ae9d77bd5d7665be6342f552f51840cf19    NaN\n",
       "4  e9f7b28ec10e0470ee4172cec0133b6826c34f27d3dff204    NaN"
      ]
     },
     "execution_count": 4,
     "metadata": {},
     "output_type": "execute_result"
    }
   ],
   "source": [
    "# 数据集8（验证集）：entprise_evaluate.csv\n",
    "# 未标注企业数据。参赛队伍需提交的最终结果数据集，每一行代表一个企业，每一行有 2 列, 其中id列为企业唯一标识，score列为空，列之间采用“,”分隔符分割。\n",
    "# 测试集 id score\n",
    "entprise_evaluate = pd.read_csv('../input/entprise_evaluate.csv')\n",
    "\n",
    "print(entprise_evaluate.shape)\n",
    "entprise_evaluate.head()"
   ]
  },
  {
   "cell_type": "code",
   "execution_count": 5,
   "metadata": {
    "ExecuteTime": {
     "end_time": "2020-10-31T03:20:20.553639Z",
     "start_time": "2020-10-31T03:20:20.319242Z"
    }
   },
   "outputs": [
    {
     "name": "stdout",
     "output_type": "stream",
     "text": [
      "(24865, 33)\n",
      "<class 'pandas.core.frame.DataFrame'>\n",
      "RangeIndex: 24865 entries, 0 to 24864\n",
      "Data columns (total 33 columns):\n",
      " #   Column         Non-Null Count  Dtype  \n",
      "---  ------         --------------  -----  \n",
      " 0   id             24865 non-null  object \n",
      " 1   oplocdistrict  24865 non-null  int64  \n",
      " 2   industryphy    24865 non-null  object \n",
      " 3   industryco     24864 non-null  float64\n",
      " 4   dom            24865 non-null  object \n",
      " 5   opscope        24865 non-null  object \n",
      " 6   enttype        24865 non-null  int64  \n",
      " 7   enttypeitem    16651 non-null  float64\n",
      " 8   opfrom         24865 non-null  object \n",
      " 9   opto           8825 non-null   object \n",
      " 10  state          24865 non-null  int64  \n",
      " 11  orgid          24865 non-null  int64  \n",
      " 12  jobid          24865 non-null  int64  \n",
      " 13  adbusign       24865 non-null  int64  \n",
      " 14  townsign       24865 non-null  int64  \n",
      " 15  regtype        24865 non-null  int64  \n",
      " 16  empnum         19615 non-null  float64\n",
      " 17  compform       10631 non-null  float64\n",
      " 18  parnum         2339 non-null   float64\n",
      " 19  exenum         1378 non-null   float64\n",
      " 20  opform         9000 non-null   object \n",
      " 21  ptbusscope     0 non-null      float64\n",
      " 22  venind         8437 non-null   float64\n",
      " 23  enttypeminu    7270 non-null   float64\n",
      " 24  midpreindcode  0 non-null      float64\n",
      " 25  protype        34 non-null     float64\n",
      " 26  oploc          24865 non-null  object \n",
      " 27  regcap         24674 non-null  float64\n",
      " 28  reccap         7084 non-null   float64\n",
      " 29  forreccap      227 non-null    float64\n",
      " 30  forregcap      250 non-null    float64\n",
      " 31  congro         249 non-null    float64\n",
      " 32  enttypegb      24865 non-null  int64  \n",
      "dtypes: float64(16), int64(9), object(8)\n",
      "memory usage: 6.3+ MB\n"
     ]
    }
   ],
   "source": [
    "# 数据集1：base_info.csv\n",
    "# 包含数据集7和8中涉及到的所有企业的基本信息，每一行代表一个企业的基本数据，每一行有33列，其中id列为企业唯一标识，列之间采用“,”分隔符分割。\n",
    "# 数据格式如下：\n",
    "# [id:企业唯一标识, oplocdistrict:行政区划代码, industryphy:行业类别代码, industryco:行业细类代码, dom:经营地址, opscope:经营范围, enttype:企业类型, enttypeitem:企业类型小类, opfrom:经营期限起, opto:经营期限止, state:状态, orgid:机构标识, jobid:职位标识, adbusign:是否广告经营, townsign:是否城镇, regtype:主题登记类型, empnum:从业人数, compform:组织形式, parnum:合伙人数, exenum:执行人数, opform:经营方式, ptbusscope:兼营范围, venind:风险行业, enttypeminu:企业类型细类, midpreindcode:中西部优势产业代码, protype:项目类型, oploc:经营场所, regcap:注册资本（金）, reccap:实缴资本, forreccap:实缴资本（外方）, forregcap:注册资本（外方）, congro:投资总额, enttypegb:企业（机构）类型]\n",
    "# 基础信息表\n",
    "base_info = pd.read_csv('../input/train/base_info.csv')\n",
    "print(base_info.shape)\n",
    "base_info.info()"
   ]
  },
  {
   "cell_type": "code",
   "execution_count": 6,
   "metadata": {
    "ExecuteTime": {
     "end_time": "2020-10-31T03:20:20.593543Z",
     "start_time": "2020-10-31T03:20:20.554646Z"
    }
   },
   "outputs": [
    {
     "data": {
      "text/plain": [
       "20"
      ]
     },
     "execution_count": 6,
     "metadata": {},
     "output_type": "execute_result"
    }
   ],
   "source": [
    "single_cols = ['ptbusscope', 'midpreindcode']\n",
    "many_cols = ['dom', 'opscope']\n",
    "to_drop = single_cols + many_cols\n",
    "base_info.drop(to_drop, axis=1, inplace=True)\n",
    "gc.collect()"
   ]
  },
  {
   "cell_type": "code",
   "execution_count": 7,
   "metadata": {
    "ExecuteTime": {
     "end_time": "2020-10-31T03:20:20.603511Z",
     "start_time": "2020-10-31T03:20:20.595501Z"
    }
   },
   "outputs": [],
   "source": [
    "base_info['opform'] = base_info['opform'].replace('01', '01-以个人财产出资').replace('02', '02-以家庭共有财产作为个人出资').replace('   ', np.nan)"
   ]
  },
  {
   "cell_type": "code",
   "execution_count": 8,
   "metadata": {
    "ExecuteTime": {
     "end_time": "2020-10-31T03:20:20.609496Z",
     "start_time": "2020-10-31T03:20:20.605476Z"
    }
   },
   "outputs": [],
   "source": [
    "def identify_missing(df, missing_threshold):\n",
    "    \"\"\"\n",
    "    缺失率\n",
    "    @param df:\n",
    "    @param missing_threshold:\n",
    "    @return:\n",
    "    \"\"\"\n",
    "    missing_rate = df.isnull().sum() / len(df)\n",
    "    missing_rate = missing_rate.sort_values(ascending=False)\n",
    "    print(missing_rate)\n",
    "    to_drop = missing_rate[missing_rate > missing_threshold].index.to_list()\n",
    "    print('{} features with greater than {} missing values.\\n'.format(len(to_drop), missing_threshold))\n",
    "    return to_drop"
   ]
  },
  {
   "cell_type": "code",
   "execution_count": 9,
   "metadata": {
    "ExecuteTime": {
     "end_time": "2020-10-31T03:20:20.634428Z",
     "start_time": "2020-10-31T03:20:20.610462Z"
    }
   },
   "outputs": [
    {
     "name": "stdout",
     "output_type": "stream",
     "text": [
      "protype          0.998633\n",
      "forreccap        0.990871\n",
      "congro           0.989986\n",
      "forregcap        0.989946\n",
      "exenum           0.944581\n",
      "parnum           0.905932\n",
      "reccap           0.715102\n",
      "enttypeminu      0.707621\n",
      "venind           0.660688\n",
      "opto             0.645083\n",
      "opform           0.638086\n",
      "compform         0.572451\n",
      "enttypeitem      0.330344\n",
      "empnum           0.211140\n",
      "regcap           0.007681\n",
      "industryco       0.000040\n",
      "oplocdistrict    0.000000\n",
      "industryphy      0.000000\n",
      "enttype          0.000000\n",
      "opfrom           0.000000\n",
      "enttypegb        0.000000\n",
      "state            0.000000\n",
      "orgid            0.000000\n",
      "jobid            0.000000\n",
      "adbusign         0.000000\n",
      "townsign         0.000000\n",
      "regtype          0.000000\n",
      "oploc            0.000000\n",
      "id               0.000000\n",
      "dtype: float64\n",
      "6 features with greater than 0.9 missing values.\n",
      "\n"
     ]
    },
    {
     "data": {
      "text/plain": [
       "['protype', 'forreccap', 'congro', 'forregcap', 'exenum', 'parnum']"
      ]
     },
     "execution_count": 9,
     "metadata": {},
     "output_type": "execute_result"
    }
   ],
   "source": [
    "to_drop = identify_missing(base_info, missing_threshold=0.9)\n",
    "to_drop"
   ]
  },
  {
   "cell_type": "code",
   "execution_count": 10,
   "metadata": {
    "ExecuteTime": {
     "end_time": "2020-10-31T03:20:20.641379Z",
     "start_time": "2020-10-31T03:20:20.635395Z"
    }
   },
   "outputs": [],
   "source": [
    "num_cols = [i for i in ['empnum', 'parnum', 'exenum', 'regcap', 'reccap', 'forreccap', 'forregcap', 'congro'] if i not in to_drop]\n",
    "le_cols = [i for i in ['oplocdistrict', 'industryphy', 'industryco', 'enttype', 'enttypeitem', 'state',\n",
    "           'orgid', 'jobid', 'regtype', 'compform', 'opform', 'venind', 'enttypeminu',\n",
    "           'protype', 'oploc', 'enttypegb'] if i not in to_drop]\n",
    "one_zero_cols = ['adbusign', 'townsign']\n",
    "cat_cols = le_cols + one_zero_cols\n",
    "dt_cols = ['opfrom', 'opto']"
   ]
  },
  {
   "cell_type": "code",
   "execution_count": 11,
   "metadata": {
    "ExecuteTime": {
     "end_time": "2020-10-31T03:20:20.701218Z",
     "start_time": "2020-10-31T03:20:20.642377Z"
    }
   },
   "outputs": [
    {
     "data": {
      "text/plain": [
       "43"
      ]
     },
     "execution_count": 11,
     "metadata": {},
     "output_type": "execute_result"
    }
   ],
   "source": [
    "# 时间转换, 暂时先抽取年份特征\n",
    "base_info['opfrom'] = pd.to_datetime(base_info.opfrom)\n",
    "base_info['opfrom_year'] = base_info['opfrom'].dt.year.astype('int')\n",
    "\n",
    "base_info['opto'] = pd.to_datetime(base_info.opto)\n",
    "base_info['opto_year'] = base_info['opto'].dt.year.fillna(-1).astype('int')\n",
    "\n",
    "del base_info['opfrom']\n",
    "del base_info['opto']\n",
    "gc.collect()"
   ]
  },
  {
   "cell_type": "code",
   "execution_count": 12,
   "metadata": {
    "ExecuteTime": {
     "end_time": "2020-10-31T03:20:20.706206Z",
     "start_time": "2020-10-31T03:20:20.702217Z"
    }
   },
   "outputs": [],
   "source": [
    "cat_cols += ['opfrom_year', 'opto_year']"
   ]
  },
  {
   "cell_type": "code",
   "execution_count": 13,
   "metadata": {
    "ExecuteTime": {
     "end_time": "2020-10-31T03:20:20.711193Z",
     "start_time": "2020-10-31T03:20:20.707203Z"
    }
   },
   "outputs": [],
   "source": [
    "# for col in tqdm(base_info.select_dtypes(['float64']).columns):\n",
    "#     base_info[col] = base_info[col].fillna(base_info[col].median())"
   ]
  },
  {
   "cell_type": "code",
   "execution_count": 14,
   "metadata": {
    "ExecuteTime": {
     "end_time": "2020-10-31T03:20:20.767110Z",
     "start_time": "2020-10-31T03:20:20.712190Z"
    }
   },
   "outputs": [
    {
     "name": "stdout",
     "output_type": "stream",
     "text": [
      "oplocdistrict\n",
      "industryphy\n",
      "industryco\n",
      "enttype\n",
      "enttypeitem\n",
      "state\n",
      "orgid\n",
      "jobid\n",
      "regtype\n",
      "compform\n",
      "opform\n",
      "venind\n",
      "enttypeminu\n",
      "oploc\n",
      "enttypegb\n",
      "adbusign\n",
      "townsign\n",
      "opfrom_year\n",
      "opto_year\n"
     ]
    }
   ],
   "source": [
    "base_info = count_encode(base_info, cat_cols)"
   ]
  },
  {
   "cell_type": "code",
   "execution_count": 15,
   "metadata": {
    "ExecuteTime": {
     "end_time": "2020-10-31T03:20:46.441296Z",
     "start_time": "2020-10-31T03:20:20.768078Z"
    }
   },
   "outputs": [
    {
     "data": {
      "application/vnd.jupyter.widget-view+json": {
       "model_id": "e11ee867dab448a295fcb7fcb5d234cd",
       "version_major": 2,
       "version_minor": 0
      },
      "text/plain": [
       "HBox(children=(FloatProgress(value=0.0, max=19.0), HTML(value='')))"
      ]
     },
     "metadata": {},
     "output_type": "display_data"
    },
    {
     "data": {
      "application/vnd.jupyter.widget-view+json": {
       "model_id": "f0033964a2424529b3ebf55fea8ece9e",
       "version_major": 2,
       "version_minor": 0
      },
      "text/plain": [
       "HBox(children=(FloatProgress(value=0.0, max=3.0), HTML(value='')))"
      ]
     },
     "metadata": {},
     "output_type": "display_data"
    },
    {
     "name": "stdout",
     "output_type": "stream",
     "text": [
      "\n"
     ]
    },
    {
     "data": {
      "application/vnd.jupyter.widget-view+json": {
       "model_id": "401368db13634c45814aeb3c127a79c9",
       "version_major": 2,
       "version_minor": 0
      },
      "text/plain": [
       "HBox(children=(FloatProgress(value=0.0, max=3.0), HTML(value='')))"
      ]
     },
     "metadata": {},
     "output_type": "display_data"
    },
    {
     "name": "stdout",
     "output_type": "stream",
     "text": [
      "\n"
     ]
    },
    {
     "data": {
      "application/vnd.jupyter.widget-view+json": {
       "model_id": "65d2aa8f62e045b4935d4add47f0d84e",
       "version_major": 2,
       "version_minor": 0
      },
      "text/plain": [
       "HBox(children=(FloatProgress(value=0.0, max=3.0), HTML(value='')))"
      ]
     },
     "metadata": {},
     "output_type": "display_data"
    },
    {
     "name": "stdout",
     "output_type": "stream",
     "text": [
      "\n"
     ]
    },
    {
     "data": {
      "application/vnd.jupyter.widget-view+json": {
       "model_id": "620b724adc57489bb39dfbefae427919",
       "version_major": 2,
       "version_minor": 0
      },
      "text/plain": [
       "HBox(children=(FloatProgress(value=0.0, max=3.0), HTML(value='')))"
      ]
     },
     "metadata": {},
     "output_type": "display_data"
    },
    {
     "name": "stdout",
     "output_type": "stream",
     "text": [
      "\n"
     ]
    },
    {
     "data": {
      "application/vnd.jupyter.widget-view+json": {
       "model_id": "f7339cb57ee74806b6a7a86cfd5a4d43",
       "version_major": 2,
       "version_minor": 0
      },
      "text/plain": [
       "HBox(children=(FloatProgress(value=0.0, max=3.0), HTML(value='')))"
      ]
     },
     "metadata": {},
     "output_type": "display_data"
    },
    {
     "name": "stdout",
     "output_type": "stream",
     "text": [
      "\n"
     ]
    },
    {
     "data": {
      "application/vnd.jupyter.widget-view+json": {
       "model_id": "845a4c42a4f141f0bd6ca59667880695",
       "version_major": 2,
       "version_minor": 0
      },
      "text/plain": [
       "HBox(children=(FloatProgress(value=0.0, max=3.0), HTML(value='')))"
      ]
     },
     "metadata": {},
     "output_type": "display_data"
    },
    {
     "name": "stdout",
     "output_type": "stream",
     "text": [
      "\n"
     ]
    },
    {
     "data": {
      "application/vnd.jupyter.widget-view+json": {
       "model_id": "5f152a2bc60f40cd9de792fb0e84b4ad",
       "version_major": 2,
       "version_minor": 0
      },
      "text/plain": [
       "HBox(children=(FloatProgress(value=0.0, max=3.0), HTML(value='')))"
      ]
     },
     "metadata": {},
     "output_type": "display_data"
    },
    {
     "name": "stdout",
     "output_type": "stream",
     "text": [
      "\n"
     ]
    },
    {
     "data": {
      "application/vnd.jupyter.widget-view+json": {
       "model_id": "eead2196032f4c70801135e600adcc3a",
       "version_major": 2,
       "version_minor": 0
      },
      "text/plain": [
       "HBox(children=(FloatProgress(value=0.0, max=3.0), HTML(value='')))"
      ]
     },
     "metadata": {},
     "output_type": "display_data"
    },
    {
     "name": "stdout",
     "output_type": "stream",
     "text": [
      "\n"
     ]
    },
    {
     "data": {
      "application/vnd.jupyter.widget-view+json": {
       "model_id": "a9f9a482b240412989e0f1a9c7acbd6c",
       "version_major": 2,
       "version_minor": 0
      },
      "text/plain": [
       "HBox(children=(FloatProgress(value=0.0, max=3.0), HTML(value='')))"
      ]
     },
     "metadata": {},
     "output_type": "display_data"
    },
    {
     "name": "stdout",
     "output_type": "stream",
     "text": [
      "\n"
     ]
    },
    {
     "data": {
      "application/vnd.jupyter.widget-view+json": {
       "model_id": "01c4d4a8e9f74073a0a250655ee16e0b",
       "version_major": 2,
       "version_minor": 0
      },
      "text/plain": [
       "HBox(children=(FloatProgress(value=0.0, max=3.0), HTML(value='')))"
      ]
     },
     "metadata": {},
     "output_type": "display_data"
    },
    {
     "name": "stdout",
     "output_type": "stream",
     "text": [
      "\n"
     ]
    },
    {
     "data": {
      "application/vnd.jupyter.widget-view+json": {
       "model_id": "fb93af87c6e74362b64f78d59bfe21cb",
       "version_major": 2,
       "version_minor": 0
      },
      "text/plain": [
       "HBox(children=(FloatProgress(value=0.0, max=3.0), HTML(value='')))"
      ]
     },
     "metadata": {},
     "output_type": "display_data"
    },
    {
     "name": "stdout",
     "output_type": "stream",
     "text": [
      "\n"
     ]
    },
    {
     "data": {
      "application/vnd.jupyter.widget-view+json": {
       "model_id": "b40f4c0f8d70472d92f6ce851bae2ae3",
       "version_major": 2,
       "version_minor": 0
      },
      "text/plain": [
       "HBox(children=(FloatProgress(value=0.0, max=3.0), HTML(value='')))"
      ]
     },
     "metadata": {},
     "output_type": "display_data"
    },
    {
     "name": "stdout",
     "output_type": "stream",
     "text": [
      "\n"
     ]
    },
    {
     "data": {
      "application/vnd.jupyter.widget-view+json": {
       "model_id": "fe3c02475fa542aab22adb4c916405ed",
       "version_major": 2,
       "version_minor": 0
      },
      "text/plain": [
       "HBox(children=(FloatProgress(value=0.0, max=3.0), HTML(value='')))"
      ]
     },
     "metadata": {},
     "output_type": "display_data"
    },
    {
     "name": "stdout",
     "output_type": "stream",
     "text": [
      "\n"
     ]
    },
    {
     "data": {
      "application/vnd.jupyter.widget-view+json": {
       "model_id": "324a8d2bfa49496fa2563253ddb1571f",
       "version_major": 2,
       "version_minor": 0
      },
      "text/plain": [
       "HBox(children=(FloatProgress(value=0.0, max=3.0), HTML(value='')))"
      ]
     },
     "metadata": {},
     "output_type": "display_data"
    },
    {
     "name": "stdout",
     "output_type": "stream",
     "text": [
      "\n"
     ]
    },
    {
     "data": {
      "application/vnd.jupyter.widget-view+json": {
       "model_id": "ec192d58c1a04d23857ba4f0b2f8b080",
       "version_major": 2,
       "version_minor": 0
      },
      "text/plain": [
       "HBox(children=(FloatProgress(value=0.0, max=3.0), HTML(value='')))"
      ]
     },
     "metadata": {},
     "output_type": "display_data"
    },
    {
     "name": "stdout",
     "output_type": "stream",
     "text": [
      "\n"
     ]
    },
    {
     "data": {
      "application/vnd.jupyter.widget-view+json": {
       "model_id": "09b887401afe48f28637be044257f964",
       "version_major": 2,
       "version_minor": 0
      },
      "text/plain": [
       "HBox(children=(FloatProgress(value=0.0, max=3.0), HTML(value='')))"
      ]
     },
     "metadata": {},
     "output_type": "display_data"
    },
    {
     "name": "stdout",
     "output_type": "stream",
     "text": [
      "\n"
     ]
    },
    {
     "data": {
      "application/vnd.jupyter.widget-view+json": {
       "model_id": "5d0ff23b5a194b5cb96cc627e1468aed",
       "version_major": 2,
       "version_minor": 0
      },
      "text/plain": [
       "HBox(children=(FloatProgress(value=0.0, max=3.0), HTML(value='')))"
      ]
     },
     "metadata": {},
     "output_type": "display_data"
    },
    {
     "name": "stdout",
     "output_type": "stream",
     "text": [
      "\n"
     ]
    },
    {
     "data": {
      "application/vnd.jupyter.widget-view+json": {
       "model_id": "0a4acdd07b3b42b5b106a141797109f4",
       "version_major": 2,
       "version_minor": 0
      },
      "text/plain": [
       "HBox(children=(FloatProgress(value=0.0, max=3.0), HTML(value='')))"
      ]
     },
     "metadata": {},
     "output_type": "display_data"
    },
    {
     "name": "stdout",
     "output_type": "stream",
     "text": [
      "\n"
     ]
    },
    {
     "data": {
      "application/vnd.jupyter.widget-view+json": {
       "model_id": "a7fec82bccc54a5793b8ceebd4e41417",
       "version_major": 2,
       "version_minor": 0
      },
      "text/plain": [
       "HBox(children=(FloatProgress(value=0.0, max=3.0), HTML(value='')))"
      ]
     },
     "metadata": {},
     "output_type": "display_data"
    },
    {
     "name": "stdout",
     "output_type": "stream",
     "text": [
      "\n",
      "\n"
     ]
    }
   ],
   "source": [
    "base_info = cross_cat_num(base_info, cat_cols, num_cols)"
   ]
  },
  {
   "cell_type": "code",
   "execution_count": 16,
   "metadata": {
    "ExecuteTime": {
     "end_time": "2020-10-31T03:20:46.654252Z",
     "start_time": "2020-10-31T03:20:46.442268Z"
    }
   },
   "outputs": [
    {
     "data": {
      "application/vnd.jupyter.widget-view+json": {
       "model_id": "9d60a5b9aa5744a5bcdf608b662c7576",
       "version_major": 2,
       "version_minor": 0
      },
      "text/plain": [
       "HBox(children=(FloatProgress(value=0.0, max=3.0), HTML(value='')))"
      ]
     },
     "metadata": {},
     "output_type": "display_data"
    },
    {
     "name": "stdout",
     "output_type": "stream",
     "text": [
      "\n"
     ]
    },
    {
     "data": {
      "application/vnd.jupyter.widget-view+json": {
       "model_id": "d1ab0e0d500245c8b66651f8a0c10754",
       "version_major": 2,
       "version_minor": 0
      },
      "text/plain": [
       "HBox(children=(FloatProgress(value=0.0, max=3.0), HTML(value='')))"
      ]
     },
     "metadata": {},
     "output_type": "display_data"
    },
    {
     "name": "stdout",
     "output_type": "stream",
     "text": [
      "\n"
     ]
    }
   ],
   "source": [
    "base_info = arithmetic(base_info, num_cols)"
   ]
  },
  {
   "cell_type": "code",
   "execution_count": 17,
   "metadata": {
    "ExecuteTime": {
     "end_time": "2020-10-31T03:20:47.197302Z",
     "start_time": "2020-10-31T03:20:46.656248Z"
    }
   },
   "outputs": [
    {
     "name": "stdout",
     "output_type": "stream",
     "text": [
      "oplocdistrict\n",
      "industryphy\n",
      "industryco\n",
      "enttype\n",
      "enttypeitem\n",
      "state\n",
      "orgid\n",
      "jobid\n",
      "regtype\n",
      "compform\n",
      "opform\n",
      "venind\n",
      "enttypeminu\n",
      "oploc\n",
      "enttypegb\n",
      "adbusign\n",
      "townsign\n",
      "opfrom_year\n",
      "opto_year\n"
     ]
    }
   ],
   "source": [
    "base_info = label_encode(base_info, cat_cols, verbose=True)"
   ]
  },
  {
   "cell_type": "code",
   "execution_count": 18,
   "metadata": {
    "ExecuteTime": {
     "end_time": "2020-10-31T03:20:47.223776Z",
     "start_time": "2020-10-31T03:20:47.198299Z"
    }
   },
   "outputs": [
    {
     "name": "stdout",
     "output_type": "stream",
     "text": [
      "<class 'pandas.core.frame.DataFrame'>\n",
      "Int64Index: 24865 entries, 0 to 24864\n",
      "Columns: 747 entries, id to reccap_regcap_ratio\n",
      "dtypes: float32(19), float64(630), int16(19), int64(78), object(1)\n",
      "memory usage: 137.4+ MB\n"
     ]
    }
   ],
   "source": [
    "base_info.info()"
   ]
  },
  {
   "cell_type": "code",
   "execution_count": 19,
   "metadata": {
    "ExecuteTime": {
     "end_time": "2020-10-31T03:20:56.456488Z",
     "start_time": "2020-10-31T03:20:47.224774Z"
    }
   },
   "outputs": [
    {
     "name": "stdout",
     "output_type": "stream",
     "text": [
      "(24865, 748)\n"
     ]
    },
    {
     "data": {
      "text/html": [
       "<div>\n",
       "<style scoped>\n",
       "    .dataframe tbody tr th:only-of-type {\n",
       "        vertical-align: middle;\n",
       "    }\n",
       "\n",
       "    .dataframe tbody tr th {\n",
       "        vertical-align: top;\n",
       "    }\n",
       "\n",
       "    .dataframe thead th {\n",
       "        text-align: right;\n",
       "    }\n",
       "</style>\n",
       "<table border=\"1\" class=\"dataframe\">\n",
       "  <thead>\n",
       "    <tr style=\"text-align: right;\">\n",
       "      <th></th>\n",
       "      <th>id</th>\n",
       "      <th>label</th>\n",
       "      <th>oplocdistrict</th>\n",
       "      <th>industryphy</th>\n",
       "      <th>industryco</th>\n",
       "      <th>enttype</th>\n",
       "      <th>enttypeitem</th>\n",
       "      <th>state</th>\n",
       "      <th>orgid</th>\n",
       "      <th>jobid</th>\n",
       "      <th>...</th>\n",
       "      <th>empnum_reccapc_multiply</th>\n",
       "      <th>regcap_reccap_add</th>\n",
       "      <th>regcap_reccap_subtract</th>\n",
       "      <th>regcap_reccapc_multiply</th>\n",
       "      <th>empnum_regcap_ratio</th>\n",
       "      <th>empnum_reccap_ratio</th>\n",
       "      <th>regcap_empnum_ratio</th>\n",
       "      <th>regcap_reccap_ratio</th>\n",
       "      <th>reccap_empnum_ratio</th>\n",
       "      <th>reccap_regcap_ratio</th>\n",
       "    </tr>\n",
       "  </thead>\n",
       "  <tbody>\n",
       "    <tr>\n",
       "      <th>0</th>\n",
       "      <td>59b38c56de3836831ff90a77d892a13523b7494f6ed09ff7</td>\n",
       "      <td>1.0</td>\n",
       "      <td>3</td>\n",
       "      <td>9</td>\n",
       "      <td>122</td>\n",
       "      <td>9</td>\n",
       "      <td>17</td>\n",
       "      <td>4</td>\n",
       "      <td>32</td>\n",
       "      <td>150</td>\n",
       "      <td>...</td>\n",
       "      <td>75960.0</td>\n",
       "      <td>80185.0</td>\n",
       "      <td>4225.0</td>\n",
       "      <td>1.602946e+09</td>\n",
       "      <td>0.000047</td>\n",
       "      <td>0.000053</td>\n",
       "      <td>21091.954023</td>\n",
       "      <td>1.111243</td>\n",
       "      <td>18980.509745</td>\n",
       "      <td>0.899893</td>\n",
       "    </tr>\n",
       "    <tr>\n",
       "      <th>1</th>\n",
       "      <td>da8691b210adb3f6be8064e006f220070565db287275ad38</td>\n",
       "      <td>0.0</td>\n",
       "      <td>6</td>\n",
       "      <td>14</td>\n",
       "      <td>240</td>\n",
       "      <td>16</td>\n",
       "      <td>31</td>\n",
       "      <td>4</td>\n",
       "      <td>46</td>\n",
       "      <td>175</td>\n",
       "      <td>...</td>\n",
       "      <td>NaN</td>\n",
       "      <td>NaN</td>\n",
       "      <td>NaN</td>\n",
       "      <td>NaN</td>\n",
       "      <td>0.199980</td>\n",
       "      <td>NaN</td>\n",
       "      <td>4.997501</td>\n",
       "      <td>NaN</td>\n",
       "      <td>NaN</td>\n",
       "      <td>NaN</td>\n",
       "    </tr>\n",
       "    <tr>\n",
       "      <th>2</th>\n",
       "      <td>82750f1b9d122350918121f97c99bf96e11aa24ee91504a9</td>\n",
       "      <td>0.0</td>\n",
       "      <td>7</td>\n",
       "      <td>12</td>\n",
       "      <td>206</td>\n",
       "      <td>0</td>\n",
       "      <td>2</td>\n",
       "      <td>4</td>\n",
       "      <td>40</td>\n",
       "      <td>424</td>\n",
       "      <td>...</td>\n",
       "      <td>NaN</td>\n",
       "      <td>NaN</td>\n",
       "      <td>NaN</td>\n",
       "      <td>NaN</td>\n",
       "      <td>0.030000</td>\n",
       "      <td>NaN</td>\n",
       "      <td>33.322226</td>\n",
       "      <td>NaN</td>\n",
       "      <td>NaN</td>\n",
       "      <td>NaN</td>\n",
       "    </tr>\n",
       "    <tr>\n",
       "      <th>3</th>\n",
       "      <td>f000950527a6feb6b2c6de6f85c1e7438ba5590be931e2ec</td>\n",
       "      <td>0.0</td>\n",
       "      <td>3</td>\n",
       "      <td>12</td>\n",
       "      <td>198</td>\n",
       "      <td>0</td>\n",
       "      <td>4</td>\n",
       "      <td>4</td>\n",
       "      <td>1</td>\n",
       "      <td>367</td>\n",
       "      <td>...</td>\n",
       "      <td>NaN</td>\n",
       "      <td>NaN</td>\n",
       "      <td>NaN</td>\n",
       "      <td>NaN</td>\n",
       "      <td>0.002335</td>\n",
       "      <td>NaN</td>\n",
       "      <td>428.190603</td>\n",
       "      <td>NaN</td>\n",
       "      <td>NaN</td>\n",
       "      <td>NaN</td>\n",
       "    </tr>\n",
       "    <tr>\n",
       "      <th>4</th>\n",
       "      <td>f1c1045b13d1832927e3743e49d2917f2d98424f0849a373</td>\n",
       "      <td>0.0</td>\n",
       "      <td>12</td>\n",
       "      <td>14</td>\n",
       "      <td>245</td>\n",
       "      <td>16</td>\n",
       "      <td>31</td>\n",
       "      <td>4</td>\n",
       "      <td>70</td>\n",
       "      <td>404</td>\n",
       "      <td>...</td>\n",
       "      <td>NaN</td>\n",
       "      <td>NaN</td>\n",
       "      <td>NaN</td>\n",
       "      <td>NaN</td>\n",
       "      <td>0.020000</td>\n",
       "      <td>NaN</td>\n",
       "      <td>49.975012</td>\n",
       "      <td>NaN</td>\n",
       "      <td>NaN</td>\n",
       "      <td>NaN</td>\n",
       "    </tr>\n",
       "  </tbody>\n",
       "</table>\n",
       "<p>5 rows × 748 columns</p>\n",
       "</div>"
      ],
      "text/plain": [
       "                                                 id  label  oplocdistrict  \\\n",
       "0  59b38c56de3836831ff90a77d892a13523b7494f6ed09ff7    1.0              3   \n",
       "1  da8691b210adb3f6be8064e006f220070565db287275ad38    0.0              6   \n",
       "2  82750f1b9d122350918121f97c99bf96e11aa24ee91504a9    0.0              7   \n",
       "3  f000950527a6feb6b2c6de6f85c1e7438ba5590be931e2ec    0.0              3   \n",
       "4  f1c1045b13d1832927e3743e49d2917f2d98424f0849a373    0.0             12   \n",
       "\n",
       "   industryphy  industryco  enttype  enttypeitem  state  orgid  jobid  ...  \\\n",
       "0            9         122        9           17      4     32    150  ...   \n",
       "1           14         240       16           31      4     46    175  ...   \n",
       "2           12         206        0            2      4     40    424  ...   \n",
       "3           12         198        0            4      4      1    367  ...   \n",
       "4           14         245       16           31      4     70    404  ...   \n",
       "\n",
       "   empnum_reccapc_multiply  regcap_reccap_add  regcap_reccap_subtract  \\\n",
       "0                  75960.0            80185.0                  4225.0   \n",
       "1                      NaN                NaN                     NaN   \n",
       "2                      NaN                NaN                     NaN   \n",
       "3                      NaN                NaN                     NaN   \n",
       "4                      NaN                NaN                     NaN   \n",
       "\n",
       "   regcap_reccapc_multiply  empnum_regcap_ratio  empnum_reccap_ratio  \\\n",
       "0             1.602946e+09             0.000047             0.000053   \n",
       "1                      NaN             0.199980                  NaN   \n",
       "2                      NaN             0.030000                  NaN   \n",
       "3                      NaN             0.002335                  NaN   \n",
       "4                      NaN             0.020000                  NaN   \n",
       "\n",
       "   regcap_empnum_ratio  regcap_reccap_ratio  reccap_empnum_ratio  \\\n",
       "0         21091.954023             1.111243         18980.509745   \n",
       "1             4.997501                  NaN                  NaN   \n",
       "2            33.322226                  NaN                  NaN   \n",
       "3           428.190603                  NaN                  NaN   \n",
       "4            49.975012                  NaN                  NaN   \n",
       "\n",
       "   reccap_regcap_ratio  \n",
       "0             0.899893  \n",
       "1                  NaN  \n",
       "2                  NaN  \n",
       "3                  NaN  \n",
       "4                  NaN  \n",
       "\n",
       "[5 rows x 748 columns]"
      ]
     },
     "execution_count": 19,
     "metadata": {},
     "output_type": "execute_result"
    }
   ],
   "source": [
    "# 划分训练集和测试集\n",
    "entprise_evaluate.columns = ['id', 'label']\n",
    "data = pd.concat([entprise_info, entprise_evaluate])\n",
    "df = pd.merge(data, base_info, on='id', how='left')\n",
    "\n",
    "print(df.shape)\n",
    "df.head()"
   ]
  },
  {
   "cell_type": "code",
   "execution_count": 20,
   "metadata": {
    "ExecuteTime": {
     "end_time": "2020-10-31T03:20:56.679918Z",
     "start_time": "2020-10-31T03:20:56.457489Z"
    }
   },
   "outputs": [
    {
     "name": "stdout",
     "output_type": "stream",
     "text": [
      "(14865, 748) (10000, 748)\n"
     ]
    }
   ],
   "source": [
    "train = df[df.label.notna()]\n",
    "test = df[df.label.isna()]\n",
    "\n",
    "print(train.shape, test.shape)"
   ]
  },
  {
   "cell_type": "code",
   "execution_count": 21,
   "metadata": {
    "ExecuteTime": {
     "end_time": "2020-10-31T03:20:56.766710Z",
     "start_time": "2020-10-31T03:20:56.680887Z"
    }
   },
   "outputs": [],
   "source": [
    "y = train['label'].astype(int)\n",
    "sub = test[['id']]\n",
    "used_cols = [i for i in train.columns if i not in ['id', 'label']]\n",
    "train = train[used_cols]\n",
    "test = test[used_cols]"
   ]
  },
  {
   "cell_type": "code",
   "execution_count": 22,
   "metadata": {
    "ExecuteTime": {
     "end_time": "2020-10-31T03:21:01.842562Z",
     "start_time": "2020-10-31T03:20:56.769650Z"
    }
   },
   "outputs": [
    {
     "name": "stdout",
     "output_type": "stream",
     "text": [
      "Training until validation scores don't improve for 200 rounds\n",
      "Did not meet early stopping. Best iteration is:\n",
      "[100]\ttraining's auc: 0.999929\tvalid_1's auc: 0.990565\n",
      "Evaluated only: auc\n",
      "Valid F1:  0.79845\n",
      "Valid mean label:  0.07317729351627657\n",
      "Test mean label:  0.1186\n"
     ]
    }
   ],
   "source": [
    "X_train, X_valid, y_train, y_valid = train_test_split(train, y, test_size=0.25, random_state=2020)\n",
    "\n",
    "train_dataset = lgb.Dataset(X_train, y_train)\n",
    "valid_dataset = lgb.Dataset(X_valid, y_valid, reference=train_dataset)\n",
    "all_dataset = lgb.Dataset(train, y, reference=train_dataset)\n",
    "\n",
    "# def self_metric(preds, train_data):\n",
    "#     # 自定义评估函数（特定阈值下的f1）\n",
    "#     labels = train_data.get_label()\n",
    "#     y_preds = np.where(preds > 0.5, 1, 0)\n",
    "#     f1 = f1_score(labels, y_preds)\n",
    "#     return 'self_metric', f1, True\n",
    "\n",
    "params = {\n",
    "    'objective': 'binary',\n",
    "    'boosting': 'gbdt',\n",
    "    'metric': 'auc',\n",
    "    # 'metric': 'None',  # 用自定义评估函数是将metric设置为'None'\n",
    "    'learning_rate': 0.1,\n",
    "    'num_leaves': 31,\n",
    "    'lambda_l1': 0,\n",
    "    'lambda_l2': 1,\n",
    "    'num_threads': 23,\n",
    "    'min_data_in_leaf': 20,\n",
    "    'first_metric_only': True,\n",
    "    'is_unbalance': True,\n",
    "    'max_depth': -1,\n",
    "    'seed': 2020\n",
    "}\n",
    "\n",
    "valid_model = lgb.train(\n",
    "    params,\n",
    "    train_dataset,\n",
    "    valid_sets=[train_dataset, valid_dataset],\n",
    "    early_stopping_rounds=200,\n",
    "    verbose_eval=300\n",
    ")\n",
    "pred = valid_model.predict(X_valid)\n",
    "y_valid_pred = np.where(pred > 0.5, 1, 0)\n",
    "F1 = np.round(f1_score(y_valid, y_valid_pred), 5)\n",
    "print('Valid F1: ', F1)\n",
    "print('Valid mean label: ', np.mean(y_valid_pred))\n",
    "\n",
    "train_model = lgb.train(\n",
    "    params,\n",
    "    all_dataset,\n",
    "    num_boost_round=valid_model.best_iteration+20\n",
    ")\n",
    "y_test_pred = np.where(train_model.predict(test) > 0.5, 1, 0)\n",
    "\n",
    "print('Test mean label: ', np.mean(y_test_pred))\n",
    "sub['score'] = y_test_pred\n",
    "sub.to_csv('../sub/baseline_{}_{}.csv'.format(time.strftime('%Y%m%d'), str(F1)), index=False)"
   ]
  }
 ],
 "metadata": {
  "kernelspec": {
   "display_name": "Python 3",
   "language": "python",
   "name": "python3"
  },
  "language_info": {
   "codemirror_mode": {
    "name": "ipython",
    "version": 3
   },
   "file_extension": ".py",
   "mimetype": "text/x-python",
   "name": "python",
   "nbconvert_exporter": "python",
   "pygments_lexer": "ipython3",
   "version": "3.7.3"
  },
  "toc": {
   "base_numbering": 1,
   "nav_menu": {},
   "number_sections": true,
   "sideBar": true,
   "skip_h1_title": false,
   "title_cell": "Table of Contents",
   "title_sidebar": "Contents",
   "toc_cell": false,
   "toc_position": {},
   "toc_section_display": true,
   "toc_window_display": false
  }
 },
 "nbformat": 4,
 "nbformat_minor": 4
}
