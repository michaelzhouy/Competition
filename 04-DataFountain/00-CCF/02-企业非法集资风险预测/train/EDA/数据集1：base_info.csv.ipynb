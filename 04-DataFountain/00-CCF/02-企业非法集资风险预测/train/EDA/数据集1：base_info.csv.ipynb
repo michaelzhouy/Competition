{
 "cells": [
  {
   "cell_type": "code",
   "execution_count": 1,
   "metadata": {
    "ExecuteTime": {
     "end_time": "2020-11-18T03:26:51.308460Z",
     "start_time": "2020-11-18T03:26:50.528610Z"
    }
   },
   "outputs": [],
   "source": [
    "import time\n",
    "import numpy as np\n",
    "import pandas as pd\n",
    "from tqdm import tqdm\n",
    "from sklearn.model_selection import train_test_split\n",
    "from sklearn.preprocessing import LabelEncoder\n",
    "from sklearn.metrics import f1_score\n",
    "import lightgbm as lgb\n",
    "import warnings\n",
    "warnings.filterwarnings('ignore')\n",
    "from util import *"
   ]
  },
  {
   "cell_type": "code",
   "execution_count": 2,
   "metadata": {
    "ExecuteTime": {
     "end_time": "2020-11-18T03:26:51.336370Z",
     "start_time": "2020-11-18T03:26:51.310372Z"
    }
   },
   "outputs": [],
   "source": [
    "data = pd.read_csv('../../input/data.csv')"
   ]
  },
  {
   "cell_type": "code",
   "execution_count": 3,
   "metadata": {
    "ExecuteTime": {
     "end_time": "2020-11-18T03:26:51.566712Z",
     "start_time": "2020-11-18T03:26:51.337300Z"
    }
   },
   "outputs": [
    {
     "name": "stdout",
     "output_type": "stream",
     "text": [
      "(24865, 33)\n",
      "<class 'pandas.core.frame.DataFrame'>\n",
      "RangeIndex: 24865 entries, 0 to 24864\n",
      "Data columns (total 33 columns):\n",
      " #   Column         Non-Null Count  Dtype  \n",
      "---  ------         --------------  -----  \n",
      " 0   id             24865 non-null  object \n",
      " 1   oplocdistrict  24865 non-null  int64  \n",
      " 2   industryphy    24865 non-null  object \n",
      " 3   industryco     24864 non-null  float64\n",
      " 4   dom            24865 non-null  object \n",
      " 5   opscope        24865 non-null  object \n",
      " 6   enttype        24865 non-null  int64  \n",
      " 7   enttypeitem    16651 non-null  float64\n",
      " 8   opfrom         24865 non-null  object \n",
      " 9   opto           8825 non-null   object \n",
      " 10  state          24865 non-null  int64  \n",
      " 11  orgid          24865 non-null  int64  \n",
      " 12  jobid          24865 non-null  int64  \n",
      " 13  adbusign       24865 non-null  int64  \n",
      " 14  townsign       24865 non-null  int64  \n",
      " 15  regtype        24865 non-null  int64  \n",
      " 16  empnum         19615 non-null  float64\n",
      " 17  compform       10631 non-null  float64\n",
      " 18  parnum         2339 non-null   float64\n",
      " 19  exenum         1378 non-null   float64\n",
      " 20  opform         9000 non-null   object \n",
      " 21  ptbusscope     0 non-null      float64\n",
      " 22  venind         8437 non-null   float64\n",
      " 23  enttypeminu    7270 non-null   float64\n",
      " 24  midpreindcode  0 non-null      float64\n",
      " 25  protype        34 non-null     float64\n",
      " 26  oploc          24865 non-null  object \n",
      " 27  regcap         24674 non-null  float64\n",
      " 28  reccap         7084 non-null   float64\n",
      " 29  forreccap      227 non-null    float64\n",
      " 30  forregcap      250 non-null    float64\n",
      " 31  congro         249 non-null    float64\n",
      " 32  enttypegb      24865 non-null  int64  \n",
      "dtypes: float64(16), int64(9), object(8)\n",
      "memory usage: 6.3+ MB\n"
     ]
    }
   ],
   "source": [
    "# 数据集1：base_info.csv\n",
    "# 包含数据集7和8中涉及到的所有企业的基本信息，每一行代表一个企业的基本数据，每一行有33列，其中id列为企业唯一标识，列之间采用“,”分隔符分割。\n",
    "# 数据格式如下：\n",
    "# [id:企业唯一标识, oplocdistrict:行政区划代码, industryphy:行业类别代码, industryco:行业细类代码, dom:经营地址, opscope:经营范围, enttype:企业类型, enttypeitem:企业类型小类, opfrom:经营期限起, opto:经营期限止, state:状态, orgid:机构标识, jobid:职位标识, adbusign:是否广告经营, townsign:是否城镇, regtype:主题登记类型, empnum:从业人数, compform:组织形式, parnum:合伙人数, exenum:执行人数, opform:经营方式, ptbusscope:兼营范围, venind:风险行业, enttypeminu:企业类型细类, midpreindcode:中西部优势产业代码, protype:项目类型, oploc:经营场所, regcap:注册资本（金）, reccap:实缴资本, forreccap:实缴资本（外方）, forregcap:注册资本（外方）, congro:投资总额, enttypegb:企业（机构）类型]\n",
    "\n",
    "base_info = pd.read_csv('../../input/train/base_info.csv')\n",
    "print(base_info.shape)\n",
    "base_info.info()"
   ]
  },
  {
   "cell_type": "code",
   "execution_count": 4,
   "metadata": {
    "ExecuteTime": {
     "end_time": "2020-11-18T03:26:51.572671Z",
     "start_time": "2020-11-18T03:26:51.567684Z"
    }
   },
   "outputs": [],
   "source": [
    "def identify_missing(df, missing_threshold):\n",
    "    \"\"\"\n",
    "    缺失率\n",
    "    @param df:\n",
    "    @param missing_threshold:\n",
    "    @return:\n",
    "    \"\"\"\n",
    "    missing_rate = df.isnull().sum() / len(df)\n",
    "    missing_rate = missing_rate.sort_values(ascending=False)\n",
    "    print(missing_rate)\n",
    "    to_drop = missing_rate[missing_rate > missing_threshold].index.to_list()\n",
    "    print('{} features with greater than {} missing values.\\n'.format(len(to_drop), missing_threshold))\n",
    "    return to_drop"
   ]
  },
  {
   "cell_type": "code",
   "execution_count": 5,
   "metadata": {
    "ExecuteTime": {
     "end_time": "2020-11-18T03:26:51.614545Z",
     "start_time": "2020-11-18T03:26:51.573669Z"
    },
    "scrolled": true
   },
   "outputs": [
    {
     "name": "stdout",
     "output_type": "stream",
     "text": [
      "midpreindcode    1.000000\n",
      "ptbusscope       1.000000\n",
      "protype          0.998633\n",
      "forreccap        0.990871\n",
      "congro           0.989986\n",
      "forregcap        0.989946\n",
      "exenum           0.944581\n",
      "parnum           0.905932\n",
      "reccap           0.715102\n",
      "enttypeminu      0.707621\n",
      "venind           0.660688\n",
      "opto             0.645083\n",
      "opform           0.638045\n",
      "compform         0.572451\n",
      "enttypeitem      0.330344\n",
      "empnum           0.211140\n",
      "regcap           0.007681\n",
      "industryco       0.000040\n",
      "opfrom           0.000000\n",
      "oplocdistrict    0.000000\n",
      "industryphy      0.000000\n",
      "dom              0.000000\n",
      "opscope          0.000000\n",
      "enttype          0.000000\n",
      "enttypegb        0.000000\n",
      "state            0.000000\n",
      "orgid            0.000000\n",
      "jobid            0.000000\n",
      "adbusign         0.000000\n",
      "townsign         0.000000\n",
      "regtype          0.000000\n",
      "oploc            0.000000\n",
      "id               0.000000\n",
      "dtype: float64\n",
      "8 features with greater than 0.9 missing values.\n",
      "\n"
     ]
    },
    {
     "data": {
      "text/plain": [
       "['midpreindcode',\n",
       " 'ptbusscope',\n",
       " 'protype',\n",
       " 'forreccap',\n",
       " 'congro',\n",
       " 'forregcap',\n",
       " 'exenum',\n",
       " 'parnum']"
      ]
     },
     "execution_count": 5,
     "metadata": {},
     "output_type": "execute_result"
    }
   ],
   "source": [
    "to_drop = identify_missing(base_info, missing_threshold=0.9)\n",
    "base_info.drop(to_drop, axis=1, inplace=True)\n",
    "to_drop"
   ]
  },
  {
   "cell_type": "code",
   "execution_count": 6,
   "metadata": {
    "ExecuteTime": {
     "end_time": "2020-11-18T03:26:51.626479Z",
     "start_time": "2020-11-18T03:26:51.615502Z"
    }
   },
   "outputs": [
    {
     "data": {
      "text/plain": [
       "24865"
      ]
     },
     "execution_count": 6,
     "metadata": {},
     "output_type": "execute_result"
    }
   ],
   "source": [
    "base_info['id'].nunique()"
   ]
  },
  {
   "cell_type": "code",
   "execution_count": 7,
   "metadata": {
    "ExecuteTime": {
     "end_time": "2020-11-18T03:26:51.633492Z",
     "start_time": "2020-11-18T03:26:51.627470Z"
    }
   },
   "outputs": [],
   "source": [
    "base_info['opform'] = base_info['opform'].replace('01', '01-以个人财产出资').replace('02', '02-以家庭共有财产作为个人出资')"
   ]
  },
  {
   "cell_type": "code",
   "execution_count": 8,
   "metadata": {
    "ExecuteTime": {
     "end_time": "2020-11-18T03:26:51.647445Z",
     "start_time": "2020-11-18T03:26:51.634451Z"
    }
   },
   "outputs": [
    {
     "data": {
      "text/plain": [
       "(['id', 'industryphy', 'dom', 'opscope', 'opfrom', 'opto', 'opform', 'oploc'],\n",
       " ['oplocdistrict',\n",
       "  'industryco',\n",
       "  'enttype',\n",
       "  'enttypeitem',\n",
       "  'state',\n",
       "  'orgid',\n",
       "  'jobid',\n",
       "  'adbusign',\n",
       "  'townsign',\n",
       "  'regtype',\n",
       "  'empnum',\n",
       "  'compform',\n",
       "  'venind',\n",
       "  'enttypeminu',\n",
       "  'regcap',\n",
       "  'reccap',\n",
       "  'enttypegb'])"
      ]
     },
     "execution_count": 8,
     "metadata": {},
     "output_type": "execute_result"
    }
   ],
   "source": [
    "cat_cols = base_info.select_dtypes(include=['object']).columns.to_list()\n",
    "num_cols = base_info.select_dtypes(exclude=['object']).columns.to_list()\n",
    "cat_cols, num_cols"
   ]
  },
  {
   "cell_type": "code",
   "execution_count": 9,
   "metadata": {
    "ExecuteTime": {
     "end_time": "2020-11-18T03:26:51.660449Z",
     "start_time": "2020-11-18T03:26:51.648445Z"
    }
   },
   "outputs": [],
   "source": [
    "# dom, opscope, opfrom, opto\n",
    "# 'dom', 'opscope' 取值太多\n",
    "base_info.drop(['dom', 'opscope', 'opfrom', 'opto'], axis=1, inplace=True)"
   ]
  },
  {
   "cell_type": "code",
   "execution_count": 10,
   "metadata": {
    "ExecuteTime": {
     "end_time": "2020-11-18T03:26:51.669383Z",
     "start_time": "2020-11-18T03:26:51.661389Z"
    }
   },
   "outputs": [],
   "source": [
    "base_info.drop(['compform', 'regtype', 'state', 'adbusign', 'oploc', 'opform', 'venind'], axis=1, inplace=True)"
   ]
  },
  {
   "cell_type": "code",
   "execution_count": 11,
   "metadata": {
    "ExecuteTime": {
     "end_time": "2020-11-18T03:26:51.749179Z",
     "start_time": "2020-11-18T03:26:51.670362Z"
    }
   },
   "outputs": [
    {
     "name": "stderr",
     "output_type": "stream",
     "text": [
      "100%|███████████████████████████████████████████████████████████████████████████████████| 8/8 [00:00<00:00, 111.41it/s]\n"
     ]
    }
   ],
   "source": [
    "for i in tqdm(['industryphy', 'orgid', 'jobid', 'oplocdistrict', 'enttypegb', 'industryco', 'enttype', 'enttypeitem']):\n",
    "    le = LabelEncoder()\n",
    "    base_info[i] = le.fit_transform(base_info[i].astype(str))"
   ]
  },
  {
   "cell_type": "code",
   "execution_count": 12,
   "metadata": {
    "ExecuteTime": {
     "end_time": "2020-11-18T03:26:51.772392Z",
     "start_time": "2020-11-18T03:26:51.750142Z"
    }
   },
   "outputs": [],
   "source": [
    "data = data.merge(base_info, how='left', on='id')"
   ]
  },
  {
   "cell_type": "code",
   "execution_count": 13,
   "metadata": {
    "ExecuteTime": {
     "end_time": "2020-11-18T03:26:53.988155Z",
     "start_time": "2020-11-18T03:26:51.774079Z"
    }
   },
   "outputs": [
    {
     "name": "stdout",
     "output_type": "stream",
     "text": [
      "oplocdistrict\n",
      "Training until validation scores don't improve for 50 rounds\n",
      "Early stopping, best iteration is:\n",
      "[8]\ttraining's auc: 0.800172\tvalid_0's auc: 0.784394\n",
      "Evaluated only: auc\n",
      "**********\n",
      "0.784394131780055\n",
      "industryphy\n",
      "Training until validation scores don't improve for 50 rounds\n",
      "Early stopping, best iteration is:\n",
      "[33]\ttraining's auc: 0.977366\tvalid_0's auc: 0.967944\n",
      "Evaluated only: auc\n",
      "**********\n",
      "0.9679441641137959\n",
      "industryco\n",
      "Training until validation scores don't improve for 50 rounds\n",
      "Early stopping, best iteration is:\n",
      "[104]\ttraining's auc: 0.986598\tvalid_0's auc: 0.975303\n",
      "Evaluated only: auc\n",
      "**********\n",
      "0.9753030403156906\n",
      "enttype\n",
      "Training until validation scores don't improve for 50 rounds\n",
      "Early stopping, best iteration is:\n",
      "[52]\ttraining's auc: 0.866492\tvalid_0's auc: 0.846703\n",
      "Evaluated only: auc\n",
      "**********\n",
      "0.8467026664715628\n",
      "enttypeitem\n",
      "Training until validation scores don't improve for 50 rounds\n",
      "Early stopping, best iteration is:\n",
      "[14]\ttraining's auc: 0.910801\tvalid_0's auc: 0.88193\n",
      "Evaluated only: auc\n",
      "**********\n",
      "0.8819299231070601\n",
      "orgid\n",
      "Training until validation scores don't improve for 50 rounds\n",
      "Early stopping, best iteration is:\n",
      "[3]\ttraining's auc: 0.822389\tvalid_0's auc: 0.804703\n",
      "Evaluated only: auc\n",
      "**********\n",
      "0.8047030252108773\n",
      "jobid\n",
      "Training until validation scores don't improve for 50 rounds\n",
      "Early stopping, best iteration is:\n",
      "[49]\ttraining's auc: 0.931202\tvalid_0's auc: 0.921548\n",
      "Evaluated only: auc\n",
      "**********\n",
      "0.9215481961548809\n",
      "townsign\n",
      "Training until validation scores don't improve for 50 rounds\n",
      "Early stopping, best iteration is:\n",
      "[1]\ttraining's auc: 0.743673\tvalid_0's auc: 0.749927\n",
      "Evaluated only: auc\n",
      "**********\n",
      "0.7499268360608535\n",
      "empnum\n",
      "Training until validation scores don't improve for 50 rounds\n",
      "Early stopping, best iteration is:\n",
      "[3]\ttraining's auc: 0.718671\tvalid_0's auc: 0.694932\n",
      "Evaluated only: auc\n",
      "**********\n",
      "0.6949323351569249\n",
      "enttypeminu\n",
      "Training until validation scores don't improve for 50 rounds\n",
      "Early stopping, best iteration is:\n",
      "[7]\ttraining's auc: 0.849719\tvalid_0's auc: 0.825854\n",
      "Evaluated only: auc\n",
      "**********\n",
      "0.8258538939736515\n",
      "regcap\n",
      "Training until validation scores don't improve for 50 rounds\n",
      "Early stopping, best iteration is:\n",
      "[93]\ttraining's auc: 0.892852\tvalid_0's auc: 0.844544\n",
      "Evaluated only: auc\n",
      "**********\n",
      "0.8445443302667416\n",
      "reccap\n",
      "Training until validation scores don't improve for 50 rounds\n",
      "Early stopping, best iteration is:\n",
      "[10]\ttraining's auc: 0.83891\tvalid_0's auc: 0.826177\n",
      "Evaluated only: auc\n",
      "**********\n",
      "0.8261772313821376\n",
      "enttypegb\n",
      "Training until validation scores don't improve for 50 rounds\n",
      "Early stopping, best iteration is:\n",
      "[8]\ttraining's auc: 0.943966\tvalid_0's auc: 0.915788\n",
      "Evaluated only: auc\n",
      "**********\n",
      "0.91578771601063\n",
      "AUC useless_cols: \n",
      " []\n",
      "Training until validation scores don't improve for 50 rounds\n",
      "Did not meet early stopping. Best iteration is:\n",
      "[100]\ttraining's auc: 0.998882\tvalid_1's auc: 0.987386\n",
      "Evaluated only: auc\n"
     ]
    }
   ],
   "source": [
    "train = data[data['label'].notnull()]\n",
    "test = data[data['label'].isnull()]\n",
    "sub = test[['id']]\n",
    "# train.shape, test.shape\n",
    "\n",
    "used_cols = [i for i in train.columns if i not in ['id', 'label']]\n",
    "y = train['label']\n",
    "train = train[used_cols]\n",
    "test = test[used_cols]\n",
    "\n",
    "X_train, X_valid, y_train, y_valid = train_test_split(train, y, test_size=0.25, random_state=2020)\n",
    "\n",
    "cols = X_train.columns\n",
    "useful_dict, useless_dict, useful_cols, useless_cols = auc_select(X_train, y_train, X_valid, y_valid, cols, threshold=0.52)\n",
    "print('AUC useless_cols: \\n', useless_cols)\n",
    "\n",
    "dtrain = lgb.Dataset(X_train, y_train)\n",
    "dvalid = lgb.Dataset(X_valid, y_valid, reference=dtrain)\n",
    "\n",
    "params = {\n",
    "    'objective': 'binary',\n",
    "    'boosting': 'gbdt',\n",
    "    'metric': 'auc',\n",
    "#     'metric': 'None',  # 用自定义评估函数是将metric设置为'None'\n",
    "    'learning_rate': 0.1,\n",
    "    'num_leaves': 31,\n",
    "    'lambda_l1': 0,\n",
    "    'lambda_l2': 1,\n",
    "    'num_threads': 23,\n",
    "    'min_data_in_leaf': 20,\n",
    "    'first_metric_only': True,\n",
    "    'is_unbalance': True,\n",
    "    'max_depth': -1,\n",
    "    'seed': 2020\n",
    "}\n",
    "\n",
    "valid_model = lgb.train(\n",
    "    params,\n",
    "    dtrain,\n",
    "    valid_sets=[dtrain, dvalid],\n",
    "    early_stopping_rounds=50,\n",
    "    verbose_eval=300 \n",
    ")"
   ]
  },
  {
   "cell_type": "code",
   "execution_count": 14,
   "metadata": {
    "ExecuteTime": {
     "end_time": "2020-11-18T03:26:54.016100Z",
     "start_time": "2020-11-18T03:26:53.990150Z"
    }
   },
   "outputs": [
    {
     "data": {
      "text/html": [
       "<div>\n",
       "<style scoped>\n",
       "    .dataframe tbody tr th:only-of-type {\n",
       "        vertical-align: middle;\n",
       "    }\n",
       "\n",
       "    .dataframe tbody tr th {\n",
       "        vertical-align: top;\n",
       "    }\n",
       "\n",
       "    .dataframe thead th {\n",
       "        text-align: right;\n",
       "    }\n",
       "</style>\n",
       "<table border=\"1\" class=\"dataframe\">\n",
       "  <thead>\n",
       "    <tr style=\"text-align: right;\">\n",
       "      <th></th>\n",
       "      <th>feature_name</th>\n",
       "      <th>importance</th>\n",
       "      <th>normalized_importance</th>\n",
       "      <th>cumulative_importance</th>\n",
       "    </tr>\n",
       "  </thead>\n",
       "  <tbody>\n",
       "    <tr>\n",
       "      <th>1</th>\n",
       "      <td>industryphy</td>\n",
       "      <td>115227.075478</td>\n",
       "      <td>0.859909</td>\n",
       "      <td>0.859909</td>\n",
       "    </tr>\n",
       "    <tr>\n",
       "      <th>10</th>\n",
       "      <td>regcap</td>\n",
       "      <td>4860.385280</td>\n",
       "      <td>0.036272</td>\n",
       "      <td>0.896181</td>\n",
       "    </tr>\n",
       "    <tr>\n",
       "      <th>11</th>\n",
       "      <td>reccap</td>\n",
       "      <td>2713.114652</td>\n",
       "      <td>0.020247</td>\n",
       "      <td>0.916428</td>\n",
       "    </tr>\n",
       "    <tr>\n",
       "      <th>2</th>\n",
       "      <td>industryco</td>\n",
       "      <td>1965.574881</td>\n",
       "      <td>0.014669</td>\n",
       "      <td>0.931097</td>\n",
       "    </tr>\n",
       "    <tr>\n",
       "      <th>8</th>\n",
       "      <td>empnum</td>\n",
       "      <td>1553.426590</td>\n",
       "      <td>0.011593</td>\n",
       "      <td>0.942689</td>\n",
       "    </tr>\n",
       "    <tr>\n",
       "      <th>6</th>\n",
       "      <td>jobid</td>\n",
       "      <td>1549.273748</td>\n",
       "      <td>0.011562</td>\n",
       "      <td>0.954251</td>\n",
       "    </tr>\n",
       "    <tr>\n",
       "      <th>12</th>\n",
       "      <td>enttypegb</td>\n",
       "      <td>1104.965834</td>\n",
       "      <td>0.008246</td>\n",
       "      <td>0.962497</td>\n",
       "    </tr>\n",
       "    <tr>\n",
       "      <th>9</th>\n",
       "      <td>enttypeminu</td>\n",
       "      <td>1084.066348</td>\n",
       "      <td>0.008090</td>\n",
       "      <td>0.970587</td>\n",
       "    </tr>\n",
       "    <tr>\n",
       "      <th>0</th>\n",
       "      <td>oplocdistrict</td>\n",
       "      <td>994.922867</td>\n",
       "      <td>0.007425</td>\n",
       "      <td>0.978012</td>\n",
       "    </tr>\n",
       "    <tr>\n",
       "      <th>4</th>\n",
       "      <td>enttypeitem</td>\n",
       "      <td>980.057485</td>\n",
       "      <td>0.007314</td>\n",
       "      <td>0.985326</td>\n",
       "    </tr>\n",
       "    <tr>\n",
       "      <th>7</th>\n",
       "      <td>townsign</td>\n",
       "      <td>806.530537</td>\n",
       "      <td>0.006019</td>\n",
       "      <td>0.991345</td>\n",
       "    </tr>\n",
       "    <tr>\n",
       "      <th>3</th>\n",
       "      <td>enttype</td>\n",
       "      <td>616.633541</td>\n",
       "      <td>0.004602</td>\n",
       "      <td>0.995947</td>\n",
       "    </tr>\n",
       "    <tr>\n",
       "      <th>5</th>\n",
       "      <td>orgid</td>\n",
       "      <td>543.117151</td>\n",
       "      <td>0.004053</td>\n",
       "      <td>1.000000</td>\n",
       "    </tr>\n",
       "  </tbody>\n",
       "</table>\n",
       "</div>"
      ],
      "text/plain": [
       "     feature_name     importance  normalized_importance  cumulative_importance\n",
       "1     industryphy  115227.075478               0.859909               0.859909\n",
       "10         regcap    4860.385280               0.036272               0.896181\n",
       "11         reccap    2713.114652               0.020247               0.916428\n",
       "2      industryco    1965.574881               0.014669               0.931097\n",
       "8          empnum    1553.426590               0.011593               0.942689\n",
       "6           jobid    1549.273748               0.011562               0.954251\n",
       "12      enttypegb    1104.965834               0.008246               0.962497\n",
       "9     enttypeminu    1084.066348               0.008090               0.970587\n",
       "0   oplocdistrict     994.922867               0.007425               0.978012\n",
       "4     enttypeitem     980.057485               0.007314               0.985326\n",
       "7        townsign     806.530537               0.006019               0.991345\n",
       "3         enttype     616.633541               0.004602               0.995947\n",
       "5           orgid     543.117151               0.004053               1.000000"
      ]
     },
     "execution_count": 14,
     "metadata": {},
     "output_type": "execute_result"
    }
   ],
   "source": [
    "importance = valid_model.feature_importance(importance_type='gain')\n",
    "feature_name = valid_model.feature_name()\n",
    "\n",
    "df_importance = pd.DataFrame({\n",
    "    'feature_name': feature_name,\n",
    "    'importance': importance\n",
    "}).sort_values(by='importance', ascending=False)\n",
    "df_importance['normalized_importance'] = df_importance['importance'] / df_importance['importance'].sum()\n",
    "df_importance['cumulative_importance'] = np.cumsum(df_importance['normalized_importance'])\n",
    "df_importance"
   ]
  },
  {
   "cell_type": "code",
   "execution_count": 15,
   "metadata": {
    "ExecuteTime": {
     "end_time": "2020-11-18T03:26:54.205610Z",
     "start_time": "2020-11-18T03:26:54.018095Z"
    }
   },
   "outputs": [
    {
     "name": "stdout",
     "output_type": "stream",
     "text": [
      "['orgid']\n"
     ]
    }
   ],
   "source": [
    "record_low_importance = df_importance[df_importance['cumulative_importance'] > 0.999]\n",
    "to_drop = list(record_low_importance['feature_name'])\n",
    "print(to_drop)\n",
    "\n",
    "# base_info.drop(to_drop, axis=1, inplace=True)\n",
    "base_info.to_csv('../../input/base_info.csv', index=False)"
   ]
  },
  {
   "cell_type": "code",
   "execution_count": 16,
   "metadata": {
    "ExecuteTime": {
     "end_time": "2020-11-18T03:26:54.283385Z",
     "start_time": "2020-11-18T03:26:54.206591Z"
    }
   },
   "outputs": [
    {
     "name": "stdout",
     "output_type": "stream",
     "text": [
      "Test mean label:  0.1233\n"
     ]
    }
   ],
   "source": [
    "y_test_pred = np.where(valid_model.predict(test) > 0.5, 1, 0)\n",
    "\n",
    "print('Test mean label: ', np.mean(y_test_pred))\n",
    "sub['score'] = y_test_pred\n",
    "sub.to_csv('../../sub/baseline_{}.csv'.format(time.strftime('%Y%m%d')), index=False)"
   ]
  },
  {
   "cell_type": "code",
   "execution_count": null,
   "metadata": {},
   "outputs": [],
   "source": []
  }
 ],
 "metadata": {
  "kernelspec": {
   "display_name": "Python 3",
   "language": "python",
   "name": "python3"
  },
  "language_info": {
   "codemirror_mode": {
    "name": "ipython",
    "version": 3
   },
   "file_extension": ".py",
   "mimetype": "text/x-python",
   "name": "python",
   "nbconvert_exporter": "python",
   "pygments_lexer": "ipython3",
   "version": "3.7.3"
  },
  "toc": {
   "base_numbering": 1,
   "nav_menu": {},
   "number_sections": true,
   "sideBar": true,
   "skip_h1_title": false,
   "title_cell": "Table of Contents",
   "title_sidebar": "Contents",
   "toc_cell": false,
   "toc_position": {},
   "toc_section_display": true,
   "toc_window_display": false
  }
 },
 "nbformat": 4,
 "nbformat_minor": 4
}
