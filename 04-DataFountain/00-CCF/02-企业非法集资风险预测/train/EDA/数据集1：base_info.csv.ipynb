{
 "cells": [
  {
   "cell_type": "code",
   "execution_count": 1,
   "metadata": {
    "ExecuteTime": {
     "end_time": "2020-11-17T02:05:45.842025Z",
     "start_time": "2020-11-17T02:05:45.474214Z"
    }
   },
   "outputs": [],
   "source": [
    "import numpy as np\n",
    "import pandas as pd\n",
    "from tqdm import tqdm\n",
    "import warnings\n",
    "warnings.filterwarnings('ignore')"
   ]
  },
  {
   "cell_type": "code",
   "execution_count": 2,
   "metadata": {
    "ExecuteTime": {
     "end_time": "2020-11-17T02:05:46.096921Z",
     "start_time": "2020-11-17T02:05:45.842956Z"
    }
   },
   "outputs": [
    {
     "name": "stdout",
     "output_type": "stream",
     "text": [
      "(24865, 33)\n",
      "<class 'pandas.core.frame.DataFrame'>\n",
      "RangeIndex: 24865 entries, 0 to 24864\n",
      "Data columns (total 33 columns):\n",
      " #   Column         Non-Null Count  Dtype  \n",
      "---  ------         --------------  -----  \n",
      " 0   id             24865 non-null  object \n",
      " 1   oplocdistrict  24865 non-null  int64  \n",
      " 2   industryphy    24865 non-null  object \n",
      " 3   industryco     24864 non-null  float64\n",
      " 4   dom            24865 non-null  object \n",
      " 5   opscope        24865 non-null  object \n",
      " 6   enttype        24865 non-null  int64  \n",
      " 7   enttypeitem    16651 non-null  float64\n",
      " 8   opfrom         24865 non-null  object \n",
      " 9   opto           8825 non-null   object \n",
      " 10  state          24865 non-null  int64  \n",
      " 11  orgid          24865 non-null  int64  \n",
      " 12  jobid          24865 non-null  int64  \n",
      " 13  adbusign       24865 non-null  int64  \n",
      " 14  townsign       24865 non-null  int64  \n",
      " 15  regtype        24865 non-null  int64  \n",
      " 16  empnum         19615 non-null  float64\n",
      " 17  compform       10631 non-null  float64\n",
      " 18  parnum         2339 non-null   float64\n",
      " 19  exenum         1378 non-null   float64\n",
      " 20  opform         9000 non-null   object \n",
      " 21  ptbusscope     0 non-null      float64\n",
      " 22  venind         8437 non-null   float64\n",
      " 23  enttypeminu    7270 non-null   float64\n",
      " 24  midpreindcode  0 non-null      float64\n",
      " 25  protype        34 non-null     float64\n",
      " 26  oploc          24865 non-null  object \n",
      " 27  regcap         24674 non-null  float64\n",
      " 28  reccap         7084 non-null   float64\n",
      " 29  forreccap      227 non-null    float64\n",
      " 30  forregcap      250 non-null    float64\n",
      " 31  congro         249 non-null    float64\n",
      " 32  enttypegb      24865 non-null  int64  \n",
      "dtypes: float64(16), int64(9), object(8)\n",
      "memory usage: 6.3+ MB\n"
     ]
    }
   ],
   "source": [
    "# 数据集1：base_info.csv\n",
    "# 包含数据集7和8中涉及到的所有企业的基本信息，每一行代表一个企业的基本数据，每一行有33列，其中id列为企业唯一标识，列之间采用“,”分隔符分割。\n",
    "# 数据格式如下：\n",
    "# [id:企业唯一标识, oplocdistrict:行政区划代码, industryphy:行业类别代码, industryco:行业细类代码, dom:经营地址, opscope:经营范围, enttype:企业类型, enttypeitem:企业类型小类, opfrom:经营期限起, opto:经营期限止, state:状态, orgid:机构标识, jobid:职位标识, adbusign:是否广告经营, townsign:是否城镇, regtype:主题登记类型, empnum:从业人数, compform:组织形式, parnum:合伙人数, exenum:执行人数, opform:经营方式, ptbusscope:兼营范围, venind:风险行业, enttypeminu:企业类型细类, midpreindcode:中西部优势产业代码, protype:项目类型, oploc:经营场所, regcap:注册资本（金）, reccap:实缴资本, forreccap:实缴资本（外方）, forregcap:注册资本（外方）, congro:投资总额, enttypegb:企业（机构）类型]\n",
    "\n",
    "base_info = pd.read_csv('../../input/train/base_info.csv')\n",
    "print(base_info.shape)\n",
    "base_info.info()"
   ]
  },
  {
   "cell_type": "code",
   "execution_count": 3,
   "metadata": {
    "ExecuteTime": {
     "end_time": "2020-11-17T02:05:46.102865Z",
     "start_time": "2020-11-17T02:05:46.097879Z"
    }
   },
   "outputs": [],
   "source": [
    "def identify_missing(df, missing_threshold):\n",
    "    \"\"\"\n",
    "    缺失率\n",
    "    @param df:\n",
    "    @param missing_threshold:\n",
    "    @return:\n",
    "    \"\"\"\n",
    "    missing_rate = df.isnull().sum() / len(df)\n",
    "    missing_rate = missing_rate.sort_values(ascending=False)\n",
    "    print(missing_rate)\n",
    "    to_drop = missing_rate[missing_rate > missing_threshold].index.to_list()\n",
    "    print('{} features with greater than {} missing values.\\n'.format(len(to_drop), missing_threshold))\n",
    "    return to_drop"
   ]
  },
  {
   "cell_type": "code",
   "execution_count": 4,
   "metadata": {
    "ExecuteTime": {
     "end_time": "2020-11-17T02:05:46.145424Z",
     "start_time": "2020-11-17T02:05:46.103862Z"
    },
    "scrolled": true
   },
   "outputs": [
    {
     "name": "stdout",
     "output_type": "stream",
     "text": [
      "midpreindcode    1.000000\n",
      "ptbusscope       1.000000\n",
      "protype          0.998633\n",
      "forreccap        0.990871\n",
      "congro           0.989986\n",
      "forregcap        0.989946\n",
      "exenum           0.944581\n",
      "parnum           0.905932\n",
      "reccap           0.715102\n",
      "enttypeminu      0.707621\n",
      "venind           0.660688\n",
      "opto             0.645083\n",
      "opform           0.638045\n",
      "compform         0.572451\n",
      "enttypeitem      0.330344\n",
      "empnum           0.211140\n",
      "regcap           0.007681\n",
      "industryco       0.000040\n",
      "opfrom           0.000000\n",
      "oplocdistrict    0.000000\n",
      "industryphy      0.000000\n",
      "dom              0.000000\n",
      "opscope          0.000000\n",
      "enttype          0.000000\n",
      "enttypegb        0.000000\n",
      "state            0.000000\n",
      "orgid            0.000000\n",
      "jobid            0.000000\n",
      "adbusign         0.000000\n",
      "townsign         0.000000\n",
      "regtype          0.000000\n",
      "oploc            0.000000\n",
      "id               0.000000\n",
      "dtype: float64\n",
      "14 features with greater than 0.5 missing values.\n",
      "\n"
     ]
    },
    {
     "data": {
      "text/plain": [
       "['midpreindcode',\n",
       " 'ptbusscope',\n",
       " 'protype',\n",
       " 'forreccap',\n",
       " 'congro',\n",
       " 'forregcap',\n",
       " 'exenum',\n",
       " 'parnum',\n",
       " 'reccap',\n",
       " 'enttypeminu',\n",
       " 'venind',\n",
       " 'opto',\n",
       " 'opform',\n",
       " 'compform']"
      ]
     },
     "execution_count": 4,
     "metadata": {},
     "output_type": "execute_result"
    }
   ],
   "source": [
    "to_drop = identify_missing(base_info, missing_threshold=0.9)\n",
    "base_info.drop(to_drop, axis=1, inplace=True)\n",
    "to_drop"
   ]
  },
  {
   "cell_type": "code",
   "execution_count": 5,
   "metadata": {
    "ExecuteTime": {
     "end_time": "2020-11-17T02:05:46.157392Z",
     "start_time": "2020-11-17T02:05:46.146422Z"
    }
   },
   "outputs": [
    {
     "data": {
      "text/plain": [
       "24865"
      ]
     },
     "execution_count": 5,
     "metadata": {},
     "output_type": "execute_result"
    }
   ],
   "source": [
    "base_info['id'].nunique()"
   ]
  },
  {
   "cell_type": "code",
   "execution_count": null,
   "metadata": {},
   "outputs": [],
   "source": []
  },
  {
   "cell_type": "code",
   "execution_count": null,
   "metadata": {},
   "outputs": [],
   "source": []
  }
 ],
 "metadata": {
  "kernelspec": {
   "display_name": "Python 3",
   "language": "python",
   "name": "python3"
  },
  "language_info": {
   "codemirror_mode": {
    "name": "ipython",
    "version": 3
   },
   "file_extension": ".py",
   "mimetype": "text/x-python",
   "name": "python",
   "nbconvert_exporter": "python",
   "pygments_lexer": "ipython3",
   "version": "3.7.3"
  },
  "toc": {
   "base_numbering": 1,
   "nav_menu": {},
   "number_sections": true,
   "sideBar": true,
   "skip_h1_title": false,
   "title_cell": "Table of Contents",
   "title_sidebar": "Contents",
   "toc_cell": false,
   "toc_position": {},
   "toc_section_display": true,
   "toc_window_display": false
  }
 },
 "nbformat": 4,
 "nbformat_minor": 4
}
