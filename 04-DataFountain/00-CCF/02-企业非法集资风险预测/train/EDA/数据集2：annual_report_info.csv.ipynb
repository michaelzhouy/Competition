{
 "cells": [
  {
   "cell_type": "code",
   "execution_count": 1,
   "metadata": {
    "ExecuteTime": {
     "end_time": "2020-11-17T08:58:54.690894Z",
     "start_time": "2020-11-17T08:58:53.868830Z"
    }
   },
   "outputs": [],
   "source": [
    "import numpy as np\n",
    "import pandas as pd\n",
    "from tqdm import tqdm\n",
    "from sklearn.model_selection import train_test_split\n",
    "import lightgbm as lgb\n",
    "import warnings\n",
    "warnings.filterwarnings('ignore')\n",
    "from util import *"
   ]
  },
  {
   "cell_type": "code",
   "execution_count": 2,
   "metadata": {
    "ExecuteTime": {
     "end_time": "2020-11-17T08:58:54.718452Z",
     "start_time": "2020-11-17T08:58:54.691852Z"
    }
   },
   "outputs": [],
   "source": [
    "data = pd.read_csv('../../input/data.csv')"
   ]
  },
  {
   "cell_type": "code",
   "execution_count": 3,
   "metadata": {
    "ExecuteTime": {
     "end_time": "2020-11-17T08:58:54.789182Z",
     "start_time": "2020-11-17T08:58:54.720338Z"
    }
   },
   "outputs": [
    {
     "name": "stdout",
     "output_type": "stream",
     "text": [
      "(22550, 23)\n",
      "<class 'pandas.core.frame.DataFrame'>\n",
      "RangeIndex: 22550 entries, 0 to 22549\n",
      "Data columns (total 23 columns):\n",
      " #   Column         Non-Null Count  Dtype  \n",
      "---  ------         --------------  -----  \n",
      " 0   id             22550 non-null  object \n",
      " 1   ANCHEYEAR      22550 non-null  float64\n",
      " 2   STATE          22545 non-null  float64\n",
      " 3   FUNDAM         5702 non-null   float64\n",
      " 4   MEMNUM         29 non-null     float64\n",
      " 5   FARNUM         29 non-null     float64\n",
      " 6   ANNNEWMEMNUM   29 non-null     float64\n",
      " 7   ANNREDMEMNUM   29 non-null     float64\n",
      " 8   EMPNUM         22535 non-null  float64\n",
      " 9   EMPNUMSIGN     16833 non-null  float64\n",
      " 10  BUSSTNAME      17680 non-null  object \n",
      " 11  COLGRANUM      20041 non-null  float64\n",
      " 12  RETSOLNUM      20041 non-null  float64\n",
      " 13  DISPERNUM      20041 non-null  float64\n",
      " 14  UNENUM         20041 non-null  float64\n",
      " 15  COLEMPLNUM     20041 non-null  float64\n",
      " 16  RETEMPLNUM     20041 non-null  float64\n",
      " 17  DISEMPLNUM     20041 non-null  float64\n",
      " 18  UNEEMPLNUM     20041 non-null  float64\n",
      " 19  WEBSITSIGN     22517 non-null  float64\n",
      " 20  FORINVESTSIGN  16489 non-null  float64\n",
      " 21  STOCKTRANSIGN  13507 non-null  float64\n",
      " 22  PUBSTATE       22530 non-null  float64\n",
      "dtypes: float64(21), object(2)\n",
      "memory usage: 4.0+ MB\n"
     ]
    }
   ],
   "source": [
    "# 数据集2：annual_report_info.csv\n",
    "# 包含数据集7和8中涉及到的企业的年报基本信息，每一行代表一个企业的年报基本数据，每一行有23列，其中id列为企业唯一标识，列之间采用“,”分隔符分割。\n",
    "# 数据格式如下：\n",
    "# [id:企业唯一标识, ANCHEYEAR:年度, STATE:状态, FUNDAM:资金数额, MEMNUM:成员人数, FARNUM:农民人数, ANNNEWMEMNUM:本年度新增成员人数, ANNREDMEMNUM:本年度退出成员人数, EMPNUM:从业人数, EMPNUMSIGN:从业人数是否公示, BUSSTNAME:经营状态名称, COLGRANUM:其中高校毕业生人数经营者, RETSOLNUM:其中退役士兵人数经营者, DISPERNUM:其中残疾人人数经营者, UNENUM:其中下岗失业人数经营者, COLEMPLNUM:其中高校毕业生人数雇员, RETEMPLNUM:其中退役士兵人数雇员, DISEMPLNUM:其中残疾人人数雇员, UNEEMPLNUM:其中下岗失业人数雇员, WEBSITSIGN:是否有网站标志, FORINVESTSIGN:是否有对外投资企业标志, STOCKTRANSIGN:有限责任公司本年度是否发生股东股权转让标志, PUBSTATE:公示状态：1 全部公示，2部分公示,3全部不公示]\n",
    "annual_report_info = pd.read_csv('../../input/train/annual_report_info.csv')\n",
    "print(annual_report_info.shape)\n",
    "annual_report_info.info()"
   ]
  },
  {
   "cell_type": "code",
   "execution_count": 4,
   "metadata": {
    "ExecuteTime": {
     "end_time": "2020-11-17T08:58:54.816851Z",
     "start_time": "2020-11-17T08:58:54.790149Z"
    },
    "scrolled": true
   },
   "outputs": [
    {
     "data": {
      "text/html": [
       "<div>\n",
       "<style scoped>\n",
       "    .dataframe tbody tr th:only-of-type {\n",
       "        vertical-align: middle;\n",
       "    }\n",
       "\n",
       "    .dataframe tbody tr th {\n",
       "        vertical-align: top;\n",
       "    }\n",
       "\n",
       "    .dataframe thead th {\n",
       "        text-align: right;\n",
       "    }\n",
       "</style>\n",
       "<table border=\"1\" class=\"dataframe\">\n",
       "  <thead>\n",
       "    <tr style=\"text-align: right;\">\n",
       "      <th></th>\n",
       "      <th>id</th>\n",
       "      <th>ANCHEYEAR</th>\n",
       "      <th>STATE</th>\n",
       "      <th>FUNDAM</th>\n",
       "      <th>MEMNUM</th>\n",
       "      <th>FARNUM</th>\n",
       "      <th>ANNNEWMEMNUM</th>\n",
       "      <th>ANNREDMEMNUM</th>\n",
       "      <th>EMPNUM</th>\n",
       "      <th>EMPNUMSIGN</th>\n",
       "      <th>...</th>\n",
       "      <th>DISPERNUM</th>\n",
       "      <th>UNENUM</th>\n",
       "      <th>COLEMPLNUM</th>\n",
       "      <th>RETEMPLNUM</th>\n",
       "      <th>DISEMPLNUM</th>\n",
       "      <th>UNEEMPLNUM</th>\n",
       "      <th>WEBSITSIGN</th>\n",
       "      <th>FORINVESTSIGN</th>\n",
       "      <th>STOCKTRANSIGN</th>\n",
       "      <th>PUBSTATE</th>\n",
       "    </tr>\n",
       "  </thead>\n",
       "  <tbody>\n",
       "    <tr>\n",
       "      <th>0</th>\n",
       "      <td>9c7fa510616a683058ce97d0bc768a621cd85ab1e87da2a3</td>\n",
       "      <td>2017.0</td>\n",
       "      <td>2.0</td>\n",
       "      <td>5.0</td>\n",
       "      <td>NaN</td>\n",
       "      <td>NaN</td>\n",
       "      <td>NaN</td>\n",
       "      <td>NaN</td>\n",
       "      <td>10.0</td>\n",
       "      <td>NaN</td>\n",
       "      <td>...</td>\n",
       "      <td>0.0</td>\n",
       "      <td>0.0</td>\n",
       "      <td>0.0</td>\n",
       "      <td>0.0</td>\n",
       "      <td>0.0</td>\n",
       "      <td>0.0</td>\n",
       "      <td>2.0</td>\n",
       "      <td>NaN</td>\n",
       "      <td>NaN</td>\n",
       "      <td>3.0</td>\n",
       "    </tr>\n",
       "    <tr>\n",
       "      <th>1</th>\n",
       "      <td>9c7fa510616a683058ce97d0bc768a621cd85ab1e87da2a3</td>\n",
       "      <td>2018.0</td>\n",
       "      <td>2.0</td>\n",
       "      <td>2.0</td>\n",
       "      <td>NaN</td>\n",
       "      <td>NaN</td>\n",
       "      <td>NaN</td>\n",
       "      <td>NaN</td>\n",
       "      <td>2.0</td>\n",
       "      <td>NaN</td>\n",
       "      <td>...</td>\n",
       "      <td>0.0</td>\n",
       "      <td>0.0</td>\n",
       "      <td>0.0</td>\n",
       "      <td>0.0</td>\n",
       "      <td>0.0</td>\n",
       "      <td>0.0</td>\n",
       "      <td>2.0</td>\n",
       "      <td>NaN</td>\n",
       "      <td>NaN</td>\n",
       "      <td>3.0</td>\n",
       "    </tr>\n",
       "    <tr>\n",
       "      <th>2</th>\n",
       "      <td>f000950527a6feb63ee1ce82bb22ddd1ab8b8fdffa3b91fb</td>\n",
       "      <td>2017.0</td>\n",
       "      <td>2.0</td>\n",
       "      <td>NaN</td>\n",
       "      <td>NaN</td>\n",
       "      <td>NaN</td>\n",
       "      <td>NaN</td>\n",
       "      <td>NaN</td>\n",
       "      <td>4.0</td>\n",
       "      <td>2.0</td>\n",
       "      <td>...</td>\n",
       "      <td>0.0</td>\n",
       "      <td>0.0</td>\n",
       "      <td>1.0</td>\n",
       "      <td>0.0</td>\n",
       "      <td>0.0</td>\n",
       "      <td>0.0</td>\n",
       "      <td>2.0</td>\n",
       "      <td>2.0</td>\n",
       "      <td>2.0</td>\n",
       "      <td>3.0</td>\n",
       "    </tr>\n",
       "    <tr>\n",
       "      <th>3</th>\n",
       "      <td>f000950527a6feb63ee1ce82bb22ddd1ab8b8fdffa3b91fb</td>\n",
       "      <td>2018.0</td>\n",
       "      <td>2.0</td>\n",
       "      <td>NaN</td>\n",
       "      <td>NaN</td>\n",
       "      <td>NaN</td>\n",
       "      <td>NaN</td>\n",
       "      <td>NaN</td>\n",
       "      <td>3.0</td>\n",
       "      <td>2.0</td>\n",
       "      <td>...</td>\n",
       "      <td>0.0</td>\n",
       "      <td>0.0</td>\n",
       "      <td>2.0</td>\n",
       "      <td>0.0</td>\n",
       "      <td>0.0</td>\n",
       "      <td>0.0</td>\n",
       "      <td>2.0</td>\n",
       "      <td>2.0</td>\n",
       "      <td>2.0</td>\n",
       "      <td>3.0</td>\n",
       "    </tr>\n",
       "    <tr>\n",
       "      <th>4</th>\n",
       "      <td>9c7fa510616a68309e4badf2a7a3123c0462fb85bf28ef17</td>\n",
       "      <td>2017.0</td>\n",
       "      <td>2.0</td>\n",
       "      <td>5.0</td>\n",
       "      <td>NaN</td>\n",
       "      <td>NaN</td>\n",
       "      <td>NaN</td>\n",
       "      <td>NaN</td>\n",
       "      <td>10.0</td>\n",
       "      <td>NaN</td>\n",
       "      <td>...</td>\n",
       "      <td>0.0</td>\n",
       "      <td>0.0</td>\n",
       "      <td>0.0</td>\n",
       "      <td>0.0</td>\n",
       "      <td>0.0</td>\n",
       "      <td>0.0</td>\n",
       "      <td>2.0</td>\n",
       "      <td>NaN</td>\n",
       "      <td>NaN</td>\n",
       "      <td>3.0</td>\n",
       "    </tr>\n",
       "  </tbody>\n",
       "</table>\n",
       "<p>5 rows × 23 columns</p>\n",
       "</div>"
      ],
      "text/plain": [
       "                                                 id  ANCHEYEAR  STATE  FUNDAM  \\\n",
       "0  9c7fa510616a683058ce97d0bc768a621cd85ab1e87da2a3     2017.0    2.0     5.0   \n",
       "1  9c7fa510616a683058ce97d0bc768a621cd85ab1e87da2a3     2018.0    2.0     2.0   \n",
       "2  f000950527a6feb63ee1ce82bb22ddd1ab8b8fdffa3b91fb     2017.0    2.0     NaN   \n",
       "3  f000950527a6feb63ee1ce82bb22ddd1ab8b8fdffa3b91fb     2018.0    2.0     NaN   \n",
       "4  9c7fa510616a68309e4badf2a7a3123c0462fb85bf28ef17     2017.0    2.0     5.0   \n",
       "\n",
       "   MEMNUM  FARNUM  ANNNEWMEMNUM  ANNREDMEMNUM  EMPNUM  EMPNUMSIGN  ...  \\\n",
       "0     NaN     NaN           NaN           NaN    10.0         NaN  ...   \n",
       "1     NaN     NaN           NaN           NaN     2.0         NaN  ...   \n",
       "2     NaN     NaN           NaN           NaN     4.0         2.0  ...   \n",
       "3     NaN     NaN           NaN           NaN     3.0         2.0  ...   \n",
       "4     NaN     NaN           NaN           NaN    10.0         NaN  ...   \n",
       "\n",
       "  DISPERNUM  UNENUM  COLEMPLNUM  RETEMPLNUM  DISEMPLNUM  UNEEMPLNUM  \\\n",
       "0       0.0     0.0         0.0         0.0         0.0         0.0   \n",
       "1       0.0     0.0         0.0         0.0         0.0         0.0   \n",
       "2       0.0     0.0         1.0         0.0         0.0         0.0   \n",
       "3       0.0     0.0         2.0         0.0         0.0         0.0   \n",
       "4       0.0     0.0         0.0         0.0         0.0         0.0   \n",
       "\n",
       "   WEBSITSIGN  FORINVESTSIGN  STOCKTRANSIGN  PUBSTATE  \n",
       "0         2.0            NaN            NaN       3.0  \n",
       "1         2.0            NaN            NaN       3.0  \n",
       "2         2.0            2.0            2.0       3.0  \n",
       "3         2.0            2.0            2.0       3.0  \n",
       "4         2.0            NaN            NaN       3.0  \n",
       "\n",
       "[5 rows x 23 columns]"
      ]
     },
     "execution_count": 4,
     "metadata": {},
     "output_type": "execute_result"
    }
   ],
   "source": [
    "annual_report_info.head()"
   ]
  },
  {
   "cell_type": "code",
   "execution_count": 5,
   "metadata": {
    "ExecuteTime": {
     "end_time": "2020-11-17T08:58:54.822839Z",
     "start_time": "2020-11-17T08:58:54.817811Z"
    }
   },
   "outputs": [],
   "source": [
    "def identify_missing(df, missing_threshold):\n",
    "    \"\"\"\n",
    "    缺失率\n",
    "    @param df:\n",
    "    @param missing_threshold:\n",
    "    @return:\n",
    "    \"\"\"\n",
    "    missing_rate = df.isnull().sum() / len(df)\n",
    "    missing_rate = missing_rate.sort_values(ascending=False)\n",
    "    print(missing_rate)\n",
    "    to_drop = missing_rate[missing_rate > missing_threshold].index.to_list()\n",
    "    print('{} features with greater than {} missing values.\\n'.format(\n",
    "        len(to_drop), missing_threshold))\n",
    "    return to_drop"
   ]
  },
  {
   "cell_type": "code",
   "execution_count": 6,
   "metadata": {
    "ExecuteTime": {
     "end_time": "2020-11-17T08:58:54.847760Z",
     "start_time": "2020-11-17T08:58:54.824792Z"
    }
   },
   "outputs": [
    {
     "name": "stdout",
     "output_type": "stream",
     "text": [
      "FARNUM           0.998714\n",
      "ANNNEWMEMNUM     0.998714\n",
      "ANNREDMEMNUM     0.998714\n",
      "MEMNUM           0.998714\n",
      "FUNDAM           0.747140\n",
      "STOCKTRANSIGN    0.401020\n",
      "FORINVESTSIGN    0.268780\n",
      "EMPNUMSIGN       0.253525\n",
      "BUSSTNAME        0.215965\n",
      "RETSOLNUM        0.111264\n",
      "COLGRANUM        0.111264\n",
      "UNENUM           0.111264\n",
      "COLEMPLNUM       0.111264\n",
      "RETEMPLNUM       0.111264\n",
      "DISEMPLNUM       0.111264\n",
      "UNEEMPLNUM       0.111264\n",
      "DISPERNUM        0.111264\n",
      "WEBSITSIGN       0.001463\n",
      "PUBSTATE         0.000887\n",
      "EMPNUM           0.000665\n",
      "STATE            0.000222\n",
      "ANCHEYEAR        0.000000\n",
      "id               0.000000\n",
      "dtype: float64\n",
      "4 features with greater than 0.9 missing values.\n",
      "\n"
     ]
    },
    {
     "data": {
      "text/plain": [
       "['FARNUM', 'ANNNEWMEMNUM', 'ANNREDMEMNUM', 'MEMNUM']"
      ]
     },
     "execution_count": 6,
     "metadata": {},
     "output_type": "execute_result"
    }
   ],
   "source": [
    "to_drop = identify_missing(annual_report_info, missing_threshold=0.9)\n",
    "annual_report_info.drop(to_drop, axis=1, inplace=True)\n",
    "to_drop"
   ]
  },
  {
   "cell_type": "code",
   "execution_count": 7,
   "metadata": {
    "ExecuteTime": {
     "end_time": "2020-11-17T08:58:54.858701Z",
     "start_time": "2020-11-17T08:58:54.848729Z"
    }
   },
   "outputs": [
    {
     "data": {
      "text/plain": [
       "8937"
      ]
     },
     "execution_count": 7,
     "metadata": {},
     "output_type": "execute_result"
    }
   ],
   "source": [
    "annual_report_info['id'].nunique()"
   ]
  },
  {
   "cell_type": "code",
   "execution_count": 8,
   "metadata": {
    "ExecuteTime": {
     "end_time": "2020-11-17T09:03:39.884851Z",
     "start_time": "2020-11-17T09:03:39.865859Z"
    }
   },
   "outputs": [
    {
     "data": {
      "text/html": [
       "<div>\n",
       "<style scoped>\n",
       "    .dataframe tbody tr th:only-of-type {\n",
       "        vertical-align: middle;\n",
       "    }\n",
       "\n",
       "    .dataframe tbody tr th {\n",
       "        vertical-align: top;\n",
       "    }\n",
       "\n",
       "    .dataframe thead th {\n",
       "        text-align: right;\n",
       "    }\n",
       "</style>\n",
       "<table border=\"1\" class=\"dataframe\">\n",
       "  <thead>\n",
       "    <tr style=\"text-align: right;\">\n",
       "      <th></th>\n",
       "      <th>id</th>\n",
       "      <th>ANCHEYEAR</th>\n",
       "      <th>STATE</th>\n",
       "      <th>FUNDAM</th>\n",
       "      <th>EMPNUM</th>\n",
       "      <th>EMPNUMSIGN</th>\n",
       "      <th>BUSSTNAME</th>\n",
       "      <th>COLGRANUM</th>\n",
       "      <th>RETSOLNUM</th>\n",
       "      <th>DISPERNUM</th>\n",
       "      <th>UNENUM</th>\n",
       "      <th>COLEMPLNUM</th>\n",
       "      <th>RETEMPLNUM</th>\n",
       "      <th>DISEMPLNUM</th>\n",
       "      <th>UNEEMPLNUM</th>\n",
       "      <th>WEBSITSIGN</th>\n",
       "      <th>FORINVESTSIGN</th>\n",
       "      <th>STOCKTRANSIGN</th>\n",
       "      <th>PUBSTATE</th>\n",
       "    </tr>\n",
       "  </thead>\n",
       "  <tbody>\n",
       "    <tr>\n",
       "      <th>0</th>\n",
       "      <td>9c7fa510616a683058ce97d0bc768a621cd85ab1e87da2a3</td>\n",
       "      <td>2017.0</td>\n",
       "      <td>2.0</td>\n",
       "      <td>5.0</td>\n",
       "      <td>10.0</td>\n",
       "      <td>NaN</td>\n",
       "      <td>NaN</td>\n",
       "      <td>0.0</td>\n",
       "      <td>0.0</td>\n",
       "      <td>0.0</td>\n",
       "      <td>0.0</td>\n",
       "      <td>0.0</td>\n",
       "      <td>0.0</td>\n",
       "      <td>0.0</td>\n",
       "      <td>0.0</td>\n",
       "      <td>2.0</td>\n",
       "      <td>NaN</td>\n",
       "      <td>NaN</td>\n",
       "      <td>3.0</td>\n",
       "    </tr>\n",
       "    <tr>\n",
       "      <th>1</th>\n",
       "      <td>9c7fa510616a683058ce97d0bc768a621cd85ab1e87da2a3</td>\n",
       "      <td>2018.0</td>\n",
       "      <td>2.0</td>\n",
       "      <td>2.0</td>\n",
       "      <td>2.0</td>\n",
       "      <td>NaN</td>\n",
       "      <td>NaN</td>\n",
       "      <td>0.0</td>\n",
       "      <td>0.0</td>\n",
       "      <td>0.0</td>\n",
       "      <td>0.0</td>\n",
       "      <td>0.0</td>\n",
       "      <td>0.0</td>\n",
       "      <td>0.0</td>\n",
       "      <td>0.0</td>\n",
       "      <td>2.0</td>\n",
       "      <td>NaN</td>\n",
       "      <td>NaN</td>\n",
       "      <td>3.0</td>\n",
       "    </tr>\n",
       "    <tr>\n",
       "      <th>2</th>\n",
       "      <td>f000950527a6feb63ee1ce82bb22ddd1ab8b8fdffa3b91fb</td>\n",
       "      <td>2017.0</td>\n",
       "      <td>2.0</td>\n",
       "      <td>NaN</td>\n",
       "      <td>4.0</td>\n",
       "      <td>2.0</td>\n",
       "      <td>开业</td>\n",
       "      <td>3.0</td>\n",
       "      <td>0.0</td>\n",
       "      <td>0.0</td>\n",
       "      <td>0.0</td>\n",
       "      <td>1.0</td>\n",
       "      <td>0.0</td>\n",
       "      <td>0.0</td>\n",
       "      <td>0.0</td>\n",
       "      <td>2.0</td>\n",
       "      <td>2.0</td>\n",
       "      <td>2.0</td>\n",
       "      <td>3.0</td>\n",
       "    </tr>\n",
       "    <tr>\n",
       "      <th>3</th>\n",
       "      <td>f000950527a6feb63ee1ce82bb22ddd1ab8b8fdffa3b91fb</td>\n",
       "      <td>2018.0</td>\n",
       "      <td>2.0</td>\n",
       "      <td>NaN</td>\n",
       "      <td>3.0</td>\n",
       "      <td>2.0</td>\n",
       "      <td>开业</td>\n",
       "      <td>1.0</td>\n",
       "      <td>0.0</td>\n",
       "      <td>0.0</td>\n",
       "      <td>0.0</td>\n",
       "      <td>2.0</td>\n",
       "      <td>0.0</td>\n",
       "      <td>0.0</td>\n",
       "      <td>0.0</td>\n",
       "      <td>2.0</td>\n",
       "      <td>2.0</td>\n",
       "      <td>2.0</td>\n",
       "      <td>3.0</td>\n",
       "    </tr>\n",
       "    <tr>\n",
       "      <th>4</th>\n",
       "      <td>9c7fa510616a68309e4badf2a7a3123c0462fb85bf28ef17</td>\n",
       "      <td>2017.0</td>\n",
       "      <td>2.0</td>\n",
       "      <td>5.0</td>\n",
       "      <td>10.0</td>\n",
       "      <td>NaN</td>\n",
       "      <td>NaN</td>\n",
       "      <td>0.0</td>\n",
       "      <td>0.0</td>\n",
       "      <td>0.0</td>\n",
       "      <td>0.0</td>\n",
       "      <td>0.0</td>\n",
       "      <td>0.0</td>\n",
       "      <td>0.0</td>\n",
       "      <td>0.0</td>\n",
       "      <td>2.0</td>\n",
       "      <td>NaN</td>\n",
       "      <td>NaN</td>\n",
       "      <td>3.0</td>\n",
       "    </tr>\n",
       "  </tbody>\n",
       "</table>\n",
       "</div>"
      ],
      "text/plain": [
       "                                                 id  ANCHEYEAR  STATE  FUNDAM  \\\n",
       "0  9c7fa510616a683058ce97d0bc768a621cd85ab1e87da2a3     2017.0    2.0     5.0   \n",
       "1  9c7fa510616a683058ce97d0bc768a621cd85ab1e87da2a3     2018.0    2.0     2.0   \n",
       "2  f000950527a6feb63ee1ce82bb22ddd1ab8b8fdffa3b91fb     2017.0    2.0     NaN   \n",
       "3  f000950527a6feb63ee1ce82bb22ddd1ab8b8fdffa3b91fb     2018.0    2.0     NaN   \n",
       "4  9c7fa510616a68309e4badf2a7a3123c0462fb85bf28ef17     2017.0    2.0     5.0   \n",
       "\n",
       "   EMPNUM  EMPNUMSIGN BUSSTNAME  COLGRANUM  RETSOLNUM  DISPERNUM  UNENUM  \\\n",
       "0    10.0         NaN       NaN        0.0        0.0        0.0     0.0   \n",
       "1     2.0         NaN       NaN        0.0        0.0        0.0     0.0   \n",
       "2     4.0         2.0        开业        3.0        0.0        0.0     0.0   \n",
       "3     3.0         2.0        开业        1.0        0.0        0.0     0.0   \n",
       "4    10.0         NaN       NaN        0.0        0.0        0.0     0.0   \n",
       "\n",
       "   COLEMPLNUM  RETEMPLNUM  DISEMPLNUM  UNEEMPLNUM  WEBSITSIGN  FORINVESTSIGN  \\\n",
       "0         0.0         0.0         0.0         0.0         2.0            NaN   \n",
       "1         0.0         0.0         0.0         0.0         2.0            NaN   \n",
       "2         1.0         0.0         0.0         0.0         2.0            2.0   \n",
       "3         2.0         0.0         0.0         0.0         2.0            2.0   \n",
       "4         0.0         0.0         0.0         0.0         2.0            NaN   \n",
       "\n",
       "   STOCKTRANSIGN  PUBSTATE  \n",
       "0            NaN       3.0  \n",
       "1            NaN       3.0  \n",
       "2            2.0       3.0  \n",
       "3            2.0       3.0  \n",
       "4            NaN       3.0  "
      ]
     },
     "execution_count": 8,
     "metadata": {},
     "output_type": "execute_result"
    }
   ],
   "source": [
    "annual_report_info.head()"
   ]
  },
  {
   "cell_type": "code",
   "execution_count": 9,
   "metadata": {
    "ExecuteTime": {
     "end_time": "2020-11-17T09:04:13.266608Z",
     "start_time": "2020-11-17T09:04:13.240275Z"
    }
   },
   "outputs": [
    {
     "data": {
      "text/plain": [
       "id               8937\n",
       "ANCHEYEAR           4\n",
       "STATE               2\n",
       "FUNDAM            167\n",
       "EMPNUM            270\n",
       "EMPNUMSIGN          2\n",
       "BUSSTNAME           4\n",
       "COLGRANUM          43\n",
       "RETSOLNUM          14\n",
       "DISPERNUM           5\n",
       "UNENUM             35\n",
       "COLEMPLNUM         94\n",
       "RETEMPLNUM         26\n",
       "DISEMPLNUM         16\n",
       "UNEEMPLNUM         72\n",
       "WEBSITSIGN          2\n",
       "FORINVESTSIGN       2\n",
       "STOCKTRANSIGN       2\n",
       "PUBSTATE            3\n",
       "dtype: int64"
      ]
     },
     "execution_count": 9,
     "metadata": {},
     "output_type": "execute_result"
    }
   ],
   "source": [
    "annual_report_info.nunique()"
   ]
  },
  {
   "cell_type": "code",
   "execution_count": null,
   "metadata": {},
   "outputs": [],
   "source": []
  },
  {
   "cell_type": "code",
   "execution_count": null,
   "metadata": {},
   "outputs": [],
   "source": []
  }
 ],
 "metadata": {
  "kernelspec": {
   "display_name": "Python 3",
   "language": "python",
   "name": "python3"
  },
  "language_info": {
   "codemirror_mode": {
    "name": "ipython",
    "version": 3
   },
   "file_extension": ".py",
   "mimetype": "text/x-python",
   "name": "python",
   "nbconvert_exporter": "python",
   "pygments_lexer": "ipython3",
   "version": "3.7.3"
  },
  "toc": {
   "base_numbering": 1,
   "nav_menu": {},
   "number_sections": true,
   "sideBar": true,
   "skip_h1_title": false,
   "title_cell": "Table of Contents",
   "title_sidebar": "Contents",
   "toc_cell": false,
   "toc_position": {},
   "toc_section_display": true,
   "toc_window_display": false
  }
 },
 "nbformat": 4,
 "nbformat_minor": 4
}
