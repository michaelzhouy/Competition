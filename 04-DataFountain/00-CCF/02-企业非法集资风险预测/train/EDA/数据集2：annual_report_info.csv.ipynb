{
 "cells": [
  {
   "cell_type": "code",
   "execution_count": 1,
   "metadata": {
    "ExecuteTime": {
     "end_time": "2020-11-16T13:00:51.190726Z",
     "start_time": "2020-11-16T13:00:50.825888Z"
    }
   },
   "outputs": [],
   "source": [
    "import numpy as np\n",
    "import pandas as pd\n",
    "from tqdm import tqdm\n",
    "import warnings\n",
    "warnings.filterwarnings('ignore')"
   ]
  },
  {
   "cell_type": "code",
   "execution_count": 2,
   "metadata": {
    "ExecuteTime": {
     "end_time": "2020-11-16T13:00:51.272404Z",
     "start_time": "2020-11-16T13:00:51.190726Z"
    }
   },
   "outputs": [
    {
     "name": "stdout",
     "output_type": "stream",
     "text": [
      "(22550, 23)\n",
      "<class 'pandas.core.frame.DataFrame'>\n",
      "RangeIndex: 22550 entries, 0 to 22549\n",
      "Data columns (total 23 columns):\n",
      " #   Column         Non-Null Count  Dtype  \n",
      "---  ------         --------------  -----  \n",
      " 0   id             22550 non-null  object \n",
      " 1   ANCHEYEAR      22550 non-null  float64\n",
      " 2   STATE          22545 non-null  float64\n",
      " 3   FUNDAM         5702 non-null   float64\n",
      " 4   MEMNUM         29 non-null     float64\n",
      " 5   FARNUM         29 non-null     float64\n",
      " 6   ANNNEWMEMNUM   29 non-null     float64\n",
      " 7   ANNREDMEMNUM   29 non-null     float64\n",
      " 8   EMPNUM         22535 non-null  float64\n",
      " 9   EMPNUMSIGN     16833 non-null  float64\n",
      " 10  BUSSTNAME      17680 non-null  object \n",
      " 11  COLGRANUM      20041 non-null  float64\n",
      " 12  RETSOLNUM      20041 non-null  float64\n",
      " 13  DISPERNUM      20041 non-null  float64\n",
      " 14  UNENUM         20041 non-null  float64\n",
      " 15  COLEMPLNUM     20041 non-null  float64\n",
      " 16  RETEMPLNUM     20041 non-null  float64\n",
      " 17  DISEMPLNUM     20041 non-null  float64\n",
      " 18  UNEEMPLNUM     20041 non-null  float64\n",
      " 19  WEBSITSIGN     22517 non-null  float64\n",
      " 20  FORINVESTSIGN  16489 non-null  float64\n",
      " 21  STOCKTRANSIGN  13507 non-null  float64\n",
      " 22  PUBSTATE       22530 non-null  float64\n",
      "dtypes: float64(21), object(2)\n",
      "memory usage: 4.0+ MB\n"
     ]
    }
   ],
   "source": [
    "# 数据集2：annual_report_info.csv\n",
    "# 包含数据集7和8中涉及到的企业的年报基本信息，每一行代表一个企业的年报基本数据，每一行有23列，其中id列为企业唯一标识，列之间采用“,”分隔符分割。\n",
    "# 数据格式如下：\n",
    "# [id:企业唯一标识, ANCHEYEAR:年度, STATE:状态, FUNDAM:资金数额, MEMNUM:成员人数, FARNUM:农民人数, ANNNEWMEMNUM:本年度新增成员人数, ANNREDMEMNUM:本年度退出成员人数, EMPNUM:从业人数, EMPNUMSIGN:从业人数是否公示, BUSSTNAME:经营状态名称, COLGRANUM:其中高校毕业生人数经营者, RETSOLNUM:其中退役士兵人数经营者, DISPERNUM:其中残疾人人数经营者, UNENUM:其中下岗失业人数经营者, COLEMPLNUM:其中高校毕业生人数雇员, RETEMPLNUM:其中退役士兵人数雇员, DISEMPLNUM:其中残疾人人数雇员, UNEEMPLNUM:其中下岗失业人数雇员, WEBSITSIGN:是否有网站标志, FORINVESTSIGN:是否有对外投资企业标志, STOCKTRANSIGN:有限责任公司本年度是否发生股东股权转让标志, PUBSTATE:公示状态：1 全部公示，2部分公示,3全部不公示]\n",
    "annual_report_info = pd.read_csv('../input/train/annual_report_info.csv')\n",
    "print(annual_report_info.shape)\n",
    "annual_report_info.info()"
   ]
  },
  {
   "cell_type": "code",
   "execution_count": 3,
   "metadata": {
    "ExecuteTime": {
     "end_time": "2020-11-16T13:00:51.278337Z",
     "start_time": "2020-11-16T13:00:51.273350Z"
    }
   },
   "outputs": [],
   "source": [
    "def identify_missing(df, missing_threshold):\n",
    "    \"\"\"\n",
    "    缺失率\n",
    "    @param df:\n",
    "    @param missing_threshold:\n",
    "    @return:\n",
    "    \"\"\"\n",
    "    missing_rate = df.isnull().sum() / len(df)\n",
    "    missing_rate = missing_rate.sort_values(ascending=False)\n",
    "    print(missing_rate)\n",
    "    to_drop = missing_rate[missing_rate > missing_threshold].index.to_list()\n",
    "    print('{} features with greater than {} missing values.\\n'.format(len(to_drop), missing_threshold))\n",
    "    return to_drop"
   ]
  },
  {
   "cell_type": "code",
   "execution_count": 4,
   "metadata": {
    "ExecuteTime": {
     "end_time": "2020-11-16T13:00:51.306263Z",
     "start_time": "2020-11-16T13:00:51.280332Z"
    }
   },
   "outputs": [
    {
     "name": "stdout",
     "output_type": "stream",
     "text": [
      "FARNUM           0.998714\n",
      "ANNNEWMEMNUM     0.998714\n",
      "ANNREDMEMNUM     0.998714\n",
      "MEMNUM           0.998714\n",
      "FUNDAM           0.747140\n",
      "STOCKTRANSIGN    0.401020\n",
      "FORINVESTSIGN    0.268780\n",
      "EMPNUMSIGN       0.253525\n",
      "BUSSTNAME        0.215965\n",
      "RETSOLNUM        0.111264\n",
      "COLGRANUM        0.111264\n",
      "UNENUM           0.111264\n",
      "COLEMPLNUM       0.111264\n",
      "RETEMPLNUM       0.111264\n",
      "DISEMPLNUM       0.111264\n",
      "UNEEMPLNUM       0.111264\n",
      "DISPERNUM        0.111264\n",
      "WEBSITSIGN       0.001463\n",
      "PUBSTATE         0.000887\n",
      "EMPNUM           0.000665\n",
      "STATE            0.000222\n",
      "ANCHEYEAR        0.000000\n",
      "id               0.000000\n",
      "dtype: float64\n",
      "5 features with greater than 0.5 missing values.\n",
      "\n"
     ]
    },
    {
     "data": {
      "text/plain": [
       "['FARNUM', 'ANNNEWMEMNUM', 'ANNREDMEMNUM', 'MEMNUM', 'FUNDAM']"
      ]
     },
     "execution_count": 4,
     "metadata": {},
     "output_type": "execute_result"
    }
   ],
   "source": [
    "to_drop = identify_missing(annual_report_info, missing_threshold=0.5)\n",
    "annual_report_info.drop(to_drop, axis=1, inplace=True)\n",
    "to_drop"
   ]
  },
  {
   "cell_type": "code",
   "execution_count": null,
   "metadata": {},
   "outputs": [],
   "source": []
  }
 ],
 "metadata": {
  "kernelspec": {
   "display_name": "Python 3",
   "language": "python",
   "name": "python3"
  },
  "language_info": {
   "codemirror_mode": {
    "name": "ipython",
    "version": 3
   },
   "file_extension": ".py",
   "mimetype": "text/x-python",
   "name": "python",
   "nbconvert_exporter": "python",
   "pygments_lexer": "ipython3",
   "version": "3.7.3"
  },
  "toc": {
   "base_numbering": 1,
   "nav_menu": {},
   "number_sections": true,
   "sideBar": true,
   "skip_h1_title": false,
   "title_cell": "Table of Contents",
   "title_sidebar": "Contents",
   "toc_cell": false,
   "toc_position": {},
   "toc_section_display": true,
   "toc_window_display": false
  }
 },
 "nbformat": 4,
 "nbformat_minor": 4
}
