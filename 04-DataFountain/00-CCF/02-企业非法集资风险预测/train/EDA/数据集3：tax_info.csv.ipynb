{
 "cells": [
  {
   "cell_type": "code",
   "execution_count": 1,
   "metadata": {
    "ExecuteTime": {
     "end_time": "2020-11-16T13:02:53.866654Z",
     "start_time": "2020-11-16T13:02:53.494488Z"
    }
   },
   "outputs": [],
   "source": [
    "import numpy as np\n",
    "import pandas as pd\n",
    "from tqdm import tqdm\n",
    "import warnings\n",
    "warnings.filterwarnings('ignore')"
   ]
  },
  {
   "cell_type": "code",
   "execution_count": 2,
   "metadata": {
    "ExecuteTime": {
     "end_time": "2020-11-16T13:02:53.936528Z",
     "start_time": "2020-11-16T13:02:53.867670Z"
    }
   },
   "outputs": [
    {
     "name": "stdout",
     "output_type": "stream",
     "text": [
      "(29195, 9)\n",
      "<class 'pandas.core.frame.DataFrame'>\n",
      "RangeIndex: 29195 entries, 0 to 29194\n",
      "Data columns (total 9 columns):\n",
      " #   Column          Non-Null Count  Dtype  \n",
      "---  ------          --------------  -----  \n",
      " 0   id              29195 non-null  object \n",
      " 1   START_DATE      29195 non-null  object \n",
      " 2   END_DATE        29195 non-null  object \n",
      " 3   TAX_CATEGORIES  29195 non-null  object \n",
      " 4   TAX_ITEMS       29195 non-null  object \n",
      " 5   TAXATION_BASIS  25816 non-null  float64\n",
      " 6   TAX_RATE        25816 non-null  float64\n",
      " 7   DEDUCTION       24235 non-null  float64\n",
      " 8   TAX_AMOUNT      29195 non-null  float64\n",
      "dtypes: float64(4), object(5)\n",
      "memory usage: 2.0+ MB\n"
     ]
    }
   ],
   "source": [
    "# 数据集3：tax_info.csv\n",
    "# 包含数据集7和8中涉及到的企业的纳税信息，每一行代表一个企业的纳税信息，每一行有9列，其中id列为企业唯一标识，列之间采用“,”分隔符分割。\n",
    "# 数据格式如下：\n",
    "# [id:企业唯一标识, START_DATE:起始时间, END_DATE:终止时间, TAX_CATEGORIES:税种, TAX_ITEMS:税目, TAXATION_BASIS:计税依据, TAX_RATE:税率, DEDUCTION:扣除数, TAX_AMOUNT:税额]\n",
    "tax_info = pd.read_csv('../input/train/tax_info.csv')\n",
    "print(tax_info.shape)\n",
    "tax_info.info()"
   ]
  },
  {
   "cell_type": "code",
   "execution_count": 3,
   "metadata": {
    "ExecuteTime": {
     "end_time": "2020-11-16T13:02:53.942505Z",
     "start_time": "2020-11-16T13:02:53.937518Z"
    }
   },
   "outputs": [],
   "source": [
    "def identify_missing(df, missing_threshold):\n",
    "    \"\"\"\n",
    "    缺失率\n",
    "    @param df:\n",
    "    @param missing_threshold:\n",
    "    @return:\n",
    "    \"\"\"\n",
    "    missing_rate = df.isnull().sum() / len(df)\n",
    "    missing_rate = missing_rate.sort_values(ascending=False)\n",
    "    print(missing_rate)\n",
    "    to_drop = missing_rate[missing_rate > missing_threshold].index.to_list()\n",
    "    print('{} features with greater than {} missing values.\\n'.format(len(to_drop), missing_threshold))\n",
    "    return to_drop"
   ]
  },
  {
   "cell_type": "code",
   "execution_count": 4,
   "metadata": {
    "ExecuteTime": {
     "end_time": "2020-11-16T13:02:53.970468Z",
     "start_time": "2020-11-16T13:02:53.943503Z"
    }
   },
   "outputs": [
    {
     "name": "stdout",
     "output_type": "stream",
     "text": [
      "DEDUCTION         0.169892\n",
      "TAX_RATE          0.115739\n",
      "TAXATION_BASIS    0.115739\n",
      "TAX_AMOUNT        0.000000\n",
      "TAX_ITEMS         0.000000\n",
      "TAX_CATEGORIES    0.000000\n",
      "END_DATE          0.000000\n",
      "START_DATE        0.000000\n",
      "id                0.000000\n",
      "dtype: float64\n",
      "0 features with greater than 0.5 missing values.\n",
      "\n"
     ]
    },
    {
     "data": {
      "text/plain": [
       "[]"
      ]
     },
     "execution_count": 4,
     "metadata": {},
     "output_type": "execute_result"
    }
   ],
   "source": [
    "to_drop = identify_missing(tax_info, missing_threshold=0.5)\n",
    "tax_info.drop(to_drop, axis=1, inplace=True)\n",
    "to_drop"
   ]
  }
 ],
 "metadata": {
  "kernelspec": {
   "display_name": "Python 3",
   "language": "python",
   "name": "python3"
  },
  "language_info": {
   "codemirror_mode": {
    "name": "ipython",
    "version": 3
   },
   "file_extension": ".py",
   "mimetype": "text/x-python",
   "name": "python",
   "nbconvert_exporter": "python",
   "pygments_lexer": "ipython3",
   "version": "3.7.3"
  },
  "toc": {
   "base_numbering": 1,
   "nav_menu": {},
   "number_sections": true,
   "sideBar": true,
   "skip_h1_title": false,
   "title_cell": "Table of Contents",
   "title_sidebar": "Contents",
   "toc_cell": false,
   "toc_position": {},
   "toc_section_display": true,
   "toc_window_display": false
  }
 },
 "nbformat": 4,
 "nbformat_minor": 4
}
