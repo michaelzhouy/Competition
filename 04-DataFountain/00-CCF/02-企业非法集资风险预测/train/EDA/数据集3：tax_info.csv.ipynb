{
 "cells": [
  {
   "cell_type": "code",
   "execution_count": 1,
   "metadata": {
    "ExecuteTime": {
     "end_time": "2020-11-17T14:38:39.910290Z",
     "start_time": "2020-11-17T14:38:37.950273Z"
    }
   },
   "outputs": [],
   "source": [
    "import numpy as np\n",
    "import pandas as pd\n",
    "from tqdm import tqdm\n",
    "from sklearn.model_selection import train_test_split\n",
    "import lightgbm as lgb\n",
    "import warnings\n",
    "warnings.filterwarnings('ignore')\n",
    "from util import *"
   ]
  },
  {
   "cell_type": "code",
   "execution_count": 2,
   "metadata": {
    "ExecuteTime": {
     "end_time": "2020-11-17T14:38:39.950265Z",
     "start_time": "2020-11-17T14:38:39.912272Z"
    }
   },
   "outputs": [],
   "source": [
    "data = pd.read_csv('../../input/data.csv')"
   ]
  },
  {
   "cell_type": "code",
   "execution_count": 3,
   "metadata": {
    "ExecuteTime": {
     "end_time": "2020-11-17T14:38:40.034204Z",
     "start_time": "2020-11-17T14:38:39.953251Z"
    }
   },
   "outputs": [
    {
     "name": "stdout",
     "output_type": "stream",
     "text": [
      "(29195, 9)\n",
      "<class 'pandas.core.frame.DataFrame'>\n",
      "RangeIndex: 29195 entries, 0 to 29194\n",
      "Data columns (total 9 columns):\n",
      " #   Column          Non-Null Count  Dtype  \n",
      "---  ------          --------------  -----  \n",
      " 0   id              29195 non-null  object \n",
      " 1   START_DATE      29195 non-null  object \n",
      " 2   END_DATE        29195 non-null  object \n",
      " 3   TAX_CATEGORIES  29195 non-null  object \n",
      " 4   TAX_ITEMS       29195 non-null  object \n",
      " 5   TAXATION_BASIS  25816 non-null  float64\n",
      " 6   TAX_RATE        25816 non-null  float64\n",
      " 7   DEDUCTION       24235 non-null  float64\n",
      " 8   TAX_AMOUNT      29195 non-null  float64\n",
      "dtypes: float64(4), object(5)\n",
      "memory usage: 2.0+ MB\n"
     ]
    }
   ],
   "source": [
    "# 数据集3：tax_info.csv\n",
    "# 包含数据集7和8中涉及到的企业的纳税信息，每一行代表一个企业的纳税信息，每一行有9列，其中id列为企业唯一标识，列之间采用“,”分隔符分割。\n",
    "# 数据格式如下：\n",
    "# [id:企业唯一标识, START_DATE:起始时间, END_DATE:终止时间, TAX_CATEGORIES:税种, TAX_ITEMS:税目, TAXATION_BASIS:计税依据, TAX_RATE:税率, DEDUCTION:扣除数, TAX_AMOUNT:税额]\n",
    "tax_info = pd.read_csv('../../input/train/tax_info.csv')\n",
    "print(tax_info.shape)\n",
    "tax_info.info()"
   ]
  },
  {
   "cell_type": "code",
   "execution_count": 4,
   "metadata": {
    "ExecuteTime": {
     "end_time": "2020-11-17T14:38:40.066185Z",
     "start_time": "2020-11-17T14:38:40.036202Z"
    }
   },
   "outputs": [
    {
     "data": {
      "text/html": [
       "<div>\n",
       "<style scoped>\n",
       "    .dataframe tbody tr th:only-of-type {\n",
       "        vertical-align: middle;\n",
       "    }\n",
       "\n",
       "    .dataframe tbody tr th {\n",
       "        vertical-align: top;\n",
       "    }\n",
       "\n",
       "    .dataframe thead th {\n",
       "        text-align: right;\n",
       "    }\n",
       "</style>\n",
       "<table border=\"1\" class=\"dataframe\">\n",
       "  <thead>\n",
       "    <tr style=\"text-align: right;\">\n",
       "      <th></th>\n",
       "      <th>id</th>\n",
       "      <th>START_DATE</th>\n",
       "      <th>END_DATE</th>\n",
       "      <th>TAX_CATEGORIES</th>\n",
       "      <th>TAX_ITEMS</th>\n",
       "      <th>TAXATION_BASIS</th>\n",
       "      <th>TAX_RATE</th>\n",
       "      <th>DEDUCTION</th>\n",
       "      <th>TAX_AMOUNT</th>\n",
       "    </tr>\n",
       "  </thead>\n",
       "  <tbody>\n",
       "    <tr>\n",
       "      <th>0</th>\n",
       "      <td>f000950527a6feb6c2f40c9d8477e73a439dfa0897830397</td>\n",
       "      <td>2015/09/01</td>\n",
       "      <td>2015/09/30</td>\n",
       "      <td>印花税</td>\n",
       "      <td>工伤保险（单位）</td>\n",
       "      <td>72530.75</td>\n",
       "      <td>0.0003</td>\n",
       "      <td>-0.04</td>\n",
       "      <td>21.80</td>\n",
       "    </tr>\n",
       "    <tr>\n",
       "      <th>1</th>\n",
       "      <td>f000950527a6feb6c2f40c9d8477e73a439dfa0897830397</td>\n",
       "      <td>2015/09/01</td>\n",
       "      <td>2015/09/30</td>\n",
       "      <td>印花税</td>\n",
       "      <td>失业保险（单位）</td>\n",
       "      <td>72530.75</td>\n",
       "      <td>0.0003</td>\n",
       "      <td>-0.04</td>\n",
       "      <td>21.80</td>\n",
       "    </tr>\n",
       "    <tr>\n",
       "      <th>2</th>\n",
       "      <td>f000950527a6feb6c2f40c9d8477e73a439dfa0897830397</td>\n",
       "      <td>2015/09/01</td>\n",
       "      <td>2015/09/30</td>\n",
       "      <td>印花税</td>\n",
       "      <td>医疗保险（单位）</td>\n",
       "      <td>72530.75</td>\n",
       "      <td>0.0003</td>\n",
       "      <td>-0.04</td>\n",
       "      <td>21.80</td>\n",
       "    </tr>\n",
       "    <tr>\n",
       "      <th>3</th>\n",
       "      <td>f000950527a6feb6c2f40c9d8477e73a439dfa0897830397</td>\n",
       "      <td>2015/09/01</td>\n",
       "      <td>2015/09/30</td>\n",
       "      <td>印花税</td>\n",
       "      <td>企业养老保险基金（单位）</td>\n",
       "      <td>72530.75</td>\n",
       "      <td>0.0003</td>\n",
       "      <td>-0.04</td>\n",
       "      <td>21.80</td>\n",
       "    </tr>\n",
       "    <tr>\n",
       "      <th>4</th>\n",
       "      <td>f000950527a6feb6c2f40c9d8477e73a439dfa0897830397</td>\n",
       "      <td>2015/09/01</td>\n",
       "      <td>2015/09/30</td>\n",
       "      <td>印花税</td>\n",
       "      <td>烟叶收购</td>\n",
       "      <td>72530.75</td>\n",
       "      <td>0.0003</td>\n",
       "      <td>-0.04</td>\n",
       "      <td>21.80</td>\n",
       "    </tr>\n",
       "    <tr>\n",
       "      <th>5</th>\n",
       "      <td>f000950527a6feb6c2f40c9d8477e73a439dfa0897830397</td>\n",
       "      <td>2015/09/01</td>\n",
       "      <td>2015/09/30</td>\n",
       "      <td>印花税</td>\n",
       "      <td>原油</td>\n",
       "      <td>72530.75</td>\n",
       "      <td>0.0003</td>\n",
       "      <td>-0.04</td>\n",
       "      <td>21.80</td>\n",
       "    </tr>\n",
       "    <tr>\n",
       "      <th>6</th>\n",
       "      <td>f000950527a6feb6c2f40c9d8477e73a439dfa0897830397</td>\n",
       "      <td>2015/09/01</td>\n",
       "      <td>2015/09/30</td>\n",
       "      <td>印花税</td>\n",
       "      <td>技术合同</td>\n",
       "      <td>72530.75</td>\n",
       "      <td>0.0003</td>\n",
       "      <td>-0.04</td>\n",
       "      <td>21.80</td>\n",
       "    </tr>\n",
       "    <tr>\n",
       "      <th>7</th>\n",
       "      <td>f000950527a6feb6c2f40c9d8477e73a439dfa0897830397</td>\n",
       "      <td>2015/09/01</td>\n",
       "      <td>2015/09/30</td>\n",
       "      <td>城市维护建设税</td>\n",
       "      <td>金融保险营业税额</td>\n",
       "      <td>2112.56</td>\n",
       "      <td>0.0700</td>\n",
       "      <td>0.00</td>\n",
       "      <td>147.88</td>\n",
       "    </tr>\n",
       "    <tr>\n",
       "      <th>8</th>\n",
       "      <td>f000950527a6feb6c2f40c9d8477e73a439dfa0897830397</td>\n",
       "      <td>2015/09/01</td>\n",
       "      <td>2015/09/30</td>\n",
       "      <td>城市维护建设税</td>\n",
       "      <td>优惠税率１</td>\n",
       "      <td>2112.56</td>\n",
       "      <td>0.0700</td>\n",
       "      <td>0.00</td>\n",
       "      <td>147.88</td>\n",
       "    </tr>\n",
       "    <tr>\n",
       "      <th>9</th>\n",
       "      <td>f000950527a6feb6c2f40c9d8477e73a439dfa0897830397</td>\n",
       "      <td>2015/09/01</td>\n",
       "      <td>2015/09/30</td>\n",
       "      <td>城市维护建设税</td>\n",
       "      <td>铁路运输</td>\n",
       "      <td>2112.56</td>\n",
       "      <td>0.0700</td>\n",
       "      <td>0.00</td>\n",
       "      <td>147.88</td>\n",
       "    </tr>\n",
       "    <tr>\n",
       "      <th>10</th>\n",
       "      <td>f000950527a6feb6c2f40c9d8477e73a439dfa0897830397</td>\n",
       "      <td>2015/09/01</td>\n",
       "      <td>2015/09/30</td>\n",
       "      <td>城市维护建设税</td>\n",
       "      <td>一类地区</td>\n",
       "      <td>2112.56</td>\n",
       "      <td>0.0700</td>\n",
       "      <td>0.00</td>\n",
       "      <td>147.88</td>\n",
       "    </tr>\n",
       "    <tr>\n",
       "      <th>11</th>\n",
       "      <td>f000950527a6feb6c2f40c9d8477e73a439dfa0897830397</td>\n",
       "      <td>2015/09/01</td>\n",
       "      <td>2015/09/30</td>\n",
       "      <td>城市维护建设税</td>\n",
       "      <td>增值税附征(市区)</td>\n",
       "      <td>2112.56</td>\n",
       "      <td>0.0700</td>\n",
       "      <td>0.00</td>\n",
       "      <td>147.88</td>\n",
       "    </tr>\n",
       "    <tr>\n",
       "      <th>12</th>\n",
       "      <td>f000950527a6feb6c2f40c9d8477e73a439dfa0897830397</td>\n",
       "      <td>2015/09/01</td>\n",
       "      <td>2015/09/30</td>\n",
       "      <td>城市维护建设税</td>\n",
       "      <td>土地增值额（未超过50%）</td>\n",
       "      <td>2112.56</td>\n",
       "      <td>0.0700</td>\n",
       "      <td>0.00</td>\n",
       "      <td>147.88</td>\n",
       "    </tr>\n",
       "    <tr>\n",
       "      <th>13</th>\n",
       "      <td>f000950527a6feb6c2f40c9d8477e73a439dfa0897830397</td>\n",
       "      <td>2015/09/01</td>\n",
       "      <td>2015/09/30</td>\n",
       "      <td>城市维护建设税</td>\n",
       "      <td>20人以上汽车及2.2升以上小轿车</td>\n",
       "      <td>2112.56</td>\n",
       "      <td>0.0700</td>\n",
       "      <td>0.00</td>\n",
       "      <td>147.88</td>\n",
       "    </tr>\n",
       "    <tr>\n",
       "      <th>14</th>\n",
       "      <td>f000950527a6feb6c2f40c9d8477e73a439dfa0897830397</td>\n",
       "      <td>2015/09/01</td>\n",
       "      <td>2015/09/30</td>\n",
       "      <td>印花税</td>\n",
       "      <td>商业销售收入</td>\n",
       "      <td>72530.75</td>\n",
       "      <td>0.0003</td>\n",
       "      <td>-0.04</td>\n",
       "      <td>21.80</td>\n",
       "    </tr>\n",
       "    <tr>\n",
       "      <th>15</th>\n",
       "      <td>f000950527a6feb6c2f40c9d8477e73a439dfa0897830397</td>\n",
       "      <td>2015/09/01</td>\n",
       "      <td>2015/09/30</td>\n",
       "      <td>印花税</td>\n",
       "      <td>偶然所得</td>\n",
       "      <td>72530.75</td>\n",
       "      <td>0.0003</td>\n",
       "      <td>-0.04</td>\n",
       "      <td>21.80</td>\n",
       "    </tr>\n",
       "    <tr>\n",
       "      <th>16</th>\n",
       "      <td>f000950527a6feb6c2f40c9d8477e73a439dfa0897830397</td>\n",
       "      <td>2015/09/01</td>\n",
       "      <td>2015/09/30</td>\n",
       "      <td>印花税</td>\n",
       "      <td>住宿费</td>\n",
       "      <td>72530.75</td>\n",
       "      <td>0.0003</td>\n",
       "      <td>-0.04</td>\n",
       "      <td>21.80</td>\n",
       "    </tr>\n",
       "    <tr>\n",
       "      <th>17</th>\n",
       "      <td>f000950527a6feb6c2f40c9d8477e73a439dfa0897830397</td>\n",
       "      <td>2015/09/01</td>\n",
       "      <td>2015/09/30</td>\n",
       "      <td>印花税</td>\n",
       "      <td>大额医疗统筹(单位)</td>\n",
       "      <td>72530.75</td>\n",
       "      <td>0.0003</td>\n",
       "      <td>-0.04</td>\n",
       "      <td>21.80</td>\n",
       "    </tr>\n",
       "    <tr>\n",
       "      <th>18</th>\n",
       "      <td>f000950527a6feb6c2f40c9d8477e73a439dfa0897830397</td>\n",
       "      <td>2015/09/01</td>\n",
       "      <td>2015/09/30</td>\n",
       "      <td>印花税</td>\n",
       "      <td>职工标准工资</td>\n",
       "      <td>72530.75</td>\n",
       "      <td>0.0003</td>\n",
       "      <td>-0.04</td>\n",
       "      <td>21.80</td>\n",
       "    </tr>\n",
       "    <tr>\n",
       "      <th>19</th>\n",
       "      <td>f000950527a6feb6c2f40c9d8477e73a439dfa0897830397</td>\n",
       "      <td>2015/09/01</td>\n",
       "      <td>2015/09/30</td>\n",
       "      <td>印花税</td>\n",
       "      <td>计费折旧总值</td>\n",
       "      <td>72530.75</td>\n",
       "      <td>0.0003</td>\n",
       "      <td>-0.04</td>\n",
       "      <td>21.80</td>\n",
       "    </tr>\n",
       "  </tbody>\n",
       "</table>\n",
       "</div>"
      ],
      "text/plain": [
       "                                                  id  START_DATE    END_DATE  \\\n",
       "0   f000950527a6feb6c2f40c9d8477e73a439dfa0897830397  2015/09/01  2015/09/30   \n",
       "1   f000950527a6feb6c2f40c9d8477e73a439dfa0897830397  2015/09/01  2015/09/30   \n",
       "2   f000950527a6feb6c2f40c9d8477e73a439dfa0897830397  2015/09/01  2015/09/30   \n",
       "3   f000950527a6feb6c2f40c9d8477e73a439dfa0897830397  2015/09/01  2015/09/30   \n",
       "4   f000950527a6feb6c2f40c9d8477e73a439dfa0897830397  2015/09/01  2015/09/30   \n",
       "5   f000950527a6feb6c2f40c9d8477e73a439dfa0897830397  2015/09/01  2015/09/30   \n",
       "6   f000950527a6feb6c2f40c9d8477e73a439dfa0897830397  2015/09/01  2015/09/30   \n",
       "7   f000950527a6feb6c2f40c9d8477e73a439dfa0897830397  2015/09/01  2015/09/30   \n",
       "8   f000950527a6feb6c2f40c9d8477e73a439dfa0897830397  2015/09/01  2015/09/30   \n",
       "9   f000950527a6feb6c2f40c9d8477e73a439dfa0897830397  2015/09/01  2015/09/30   \n",
       "10  f000950527a6feb6c2f40c9d8477e73a439dfa0897830397  2015/09/01  2015/09/30   \n",
       "11  f000950527a6feb6c2f40c9d8477e73a439dfa0897830397  2015/09/01  2015/09/30   \n",
       "12  f000950527a6feb6c2f40c9d8477e73a439dfa0897830397  2015/09/01  2015/09/30   \n",
       "13  f000950527a6feb6c2f40c9d8477e73a439dfa0897830397  2015/09/01  2015/09/30   \n",
       "14  f000950527a6feb6c2f40c9d8477e73a439dfa0897830397  2015/09/01  2015/09/30   \n",
       "15  f000950527a6feb6c2f40c9d8477e73a439dfa0897830397  2015/09/01  2015/09/30   \n",
       "16  f000950527a6feb6c2f40c9d8477e73a439dfa0897830397  2015/09/01  2015/09/30   \n",
       "17  f000950527a6feb6c2f40c9d8477e73a439dfa0897830397  2015/09/01  2015/09/30   \n",
       "18  f000950527a6feb6c2f40c9d8477e73a439dfa0897830397  2015/09/01  2015/09/30   \n",
       "19  f000950527a6feb6c2f40c9d8477e73a439dfa0897830397  2015/09/01  2015/09/30   \n",
       "\n",
       "   TAX_CATEGORIES          TAX_ITEMS  TAXATION_BASIS  TAX_RATE  DEDUCTION  \\\n",
       "0             印花税           工伤保险（单位）        72530.75    0.0003      -0.04   \n",
       "1             印花税           失业保险（单位）        72530.75    0.0003      -0.04   \n",
       "2             印花税           医疗保险（单位）        72530.75    0.0003      -0.04   \n",
       "3             印花税       企业养老保险基金（单位）        72530.75    0.0003      -0.04   \n",
       "4             印花税               烟叶收购        72530.75    0.0003      -0.04   \n",
       "5             印花税                 原油        72530.75    0.0003      -0.04   \n",
       "6             印花税               技术合同        72530.75    0.0003      -0.04   \n",
       "7         城市维护建设税           金融保险营业税额         2112.56    0.0700       0.00   \n",
       "8         城市维护建设税              优惠税率１         2112.56    0.0700       0.00   \n",
       "9         城市维护建设税               铁路运输         2112.56    0.0700       0.00   \n",
       "10        城市维护建设税               一类地区         2112.56    0.0700       0.00   \n",
       "11        城市维护建设税          增值税附征(市区)         2112.56    0.0700       0.00   \n",
       "12        城市维护建设税      土地增值额（未超过50%）         2112.56    0.0700       0.00   \n",
       "13        城市维护建设税  20人以上汽车及2.2升以上小轿车         2112.56    0.0700       0.00   \n",
       "14            印花税             商业销售收入        72530.75    0.0003      -0.04   \n",
       "15            印花税               偶然所得        72530.75    0.0003      -0.04   \n",
       "16            印花税                住宿费        72530.75    0.0003      -0.04   \n",
       "17            印花税         大额医疗统筹(单位)        72530.75    0.0003      -0.04   \n",
       "18            印花税             职工标准工资        72530.75    0.0003      -0.04   \n",
       "19            印花税             计费折旧总值        72530.75    0.0003      -0.04   \n",
       "\n",
       "    TAX_AMOUNT  \n",
       "0        21.80  \n",
       "1        21.80  \n",
       "2        21.80  \n",
       "3        21.80  \n",
       "4        21.80  \n",
       "5        21.80  \n",
       "6        21.80  \n",
       "7       147.88  \n",
       "8       147.88  \n",
       "9       147.88  \n",
       "10      147.88  \n",
       "11      147.88  \n",
       "12      147.88  \n",
       "13      147.88  \n",
       "14       21.80  \n",
       "15       21.80  \n",
       "16       21.80  \n",
       "17       21.80  \n",
       "18       21.80  \n",
       "19       21.80  "
      ]
     },
     "execution_count": 4,
     "metadata": {},
     "output_type": "execute_result"
    }
   ],
   "source": [
    "tax_info.head(20)"
   ]
  },
  {
   "cell_type": "code",
   "execution_count": 5,
   "metadata": {
    "ExecuteTime": {
     "end_time": "2020-11-17T14:38:40.083176Z",
     "start_time": "2020-11-17T14:38:40.068182Z"
    }
   },
   "outputs": [
    {
     "data": {
      "text/plain": [
       "(17, 275, 28, 247)"
      ]
     },
     "execution_count": 5,
     "metadata": {},
     "output_type": "execute_result"
    }
   ],
   "source": [
    "tax_info['TAX_CATEGORIES'].nunique(), tax_info['TAX_ITEMS'].nunique(), tax_info['TAX_RATE'].nunique(), tax_info['DEDUCTION'].nunique()"
   ]
  },
  {
   "cell_type": "code",
   "execution_count": 6,
   "metadata": {
    "ExecuteTime": {
     "end_time": "2020-11-17T14:38:40.106162Z",
     "start_time": "2020-11-17T14:38:40.086173Z"
    }
   },
   "outputs": [
    {
     "data": {
      "text/plain": [
       "(array(['印花税', '城市维护建设税', '教育费附加', '地方教育附加', '水利建设专项收入', '个人所得税', '企业所得税',\n",
       "        '营业税', '房产税', '城镇土地使用税', '契税', '土地增值税', '残疾人就业保障金', '税务部门罚没收入',\n",
       "        '耕地占用税', '其他收入', '其他专项收入'], dtype=object),\n",
       " array(['工伤保险（单位）', '失业保险（单位）', '医疗保险（单位）', '企业养老保险基金（单位）', '烟叶收购', '原油',\n",
       "        '技术合同', '金融保险营业税额', '优惠税率１', '铁路运输', '一类地区', '增值税附征(市区)',\n",
       "        '土地增值额（未超过50%）', '20人以上汽车及2.2升以上小轿车', '商业销售收入', '偶然所得', '住宿费',\n",
       "        '大额医疗统筹(单位)', '职工标准工资', '计费折旧总值', '营业税随征', '残疾人保障金', '税务代保管资金利息',\n",
       "        '城镇居民医疗保险费', '生育保险（机关事业）', '增值税教育费附加', '增值税地方教育附加', '市区（增值税附征）',\n",
       "        '地方水利建设基金', '工资薪金所得', '滞纳金', '资金账簿', '购销合同', '营业税附征', '增值税随征',\n",
       "        '市区、县、镇 1%', '土地增值税', '一等', '机关事业单位养老保险基金（全额单位）', '代收工会经费（2％）',\n",
       "        '生猪', '各类非银行金融机构营业收入', '营业额', '生产用房', '餐饮、住宿、娱乐营业额随征', '增值税附征',\n",
       "        '国有土地使用权出让', '发票违章罚款', '娱乐业', '工伤保险趸交', '应纳税所得额（随征）',\n",
       "        '城镇居民医疗保险费利息', '生育保险利息', '失业保险利息', '医疗保险利息', '养老保险利息', '其他',\n",
       "        '建筑业营业收入(个)', '建筑', '土地使用权转让（出售）', '一类地区（占用基本农田）', '增值税附征(县城、镇)',\n",
       "        '各类非银行金融机构营业收入(全)', '优惠税率２', '道路运输', '二类地区', '营业税附征(市区)',\n",
       "        '土地增值额（超过50%-100%）', '20人以下乘人汽车', '其它营业收入', '劳务报酬所得', '增值税免抵额附征',\n",
       "        '房屋赠与', '其他税务违章行为罚款', '事业单位养老保险基金（个人）', '四等', '机关事业单位养老保险基金（代理）',\n",
       "        '建筑安装工程承包合同', '10吨以下非机动船', '职工用房', '应纳税所得额', '从价计征', '城市土地使用税等级1',\n",
       "        '其他利息、股息、红利所得', '县城土地使用税等级1', '货物运输合同(按运输费用万分之五贴花)', '县城、镇（增值税附征）',\n",
       "        '保险', '购买其他房屋', '公路线路', '营业税附征(非市区、县城、镇)', '其他服务业—其他', '个体户生产经营所得',\n",
       "        '加收滞纳金', '城镇居民医保滞纳金', '生育保险滞纳金', '工伤保险滞纳金', '失业保险滞纳金', '医疗保险滞纳金',\n",
       "        '养老保险滞纳金', '财产租赁合同', '借款合同', '城市土地使用税等级2', '其他营业账簿', '国有土地使用权出让契税',\n",
       "        '产权转移书据', '非机动车', '建设工程勘察设计合同', '150吨以下机动船', '加工承揽合同', '菜牛', '羊',\n",
       "        '工会筹备金', '二等', '机关事业单位养老保险基金（差额单位）', '机关事业单位养老保险基金（个人）', '三等',\n",
       "        '转让国有土地使用权', '转让地上建筑物及附着', '消费税随征', '事业单位养老保险基金（单位）', '消费税附征',\n",
       "        '广告业', '逾期申报罚款', '逾期登记罚款', '土地使用权转让（出售、赠与和交换）', '大额医疗统筹(个人)',\n",
       "        '房屋买卖', '对企事业单位的承包、承租经营所得', '个体工商户生产、经营所得', '营业用房', '办公用房',\n",
       "        '建筑业营业收入', '人数（其他企业）', '预提所得税', '面积（旅店业、餐饮业、娱乐业）', '服务业营业收入',\n",
       "        '拆迁安置住房', '飞机场跑道、停机坪', '消费税附征(非市区、县城、镇)', '证券', '权利、许可证照',\n",
       "        '增消营税额（0.5%）', '价格调节基金', '普通标准住宅', '按5%税率征收基建', '按5%税率征收其它',\n",
       "        '一等（县区）', '转让商标权', '三等（县区）', '销售商品房', '旅店业', '国有职工数', '固定资产原值',\n",
       "        '价格调节基金(0.3%)', '五等（县区）', '装璜业', '资金帐簿、实收资本、资本公积', '普通住宅（预征）',\n",
       "        '城市土地使用税等级3', '消费税', '增值税', '契税', '文化事业建设费收入', '教育费附加', '城市维护建设税',\n",
       "        '地下热水', '企事业承包承租经营所得', '其他金融业务', '电力销售收入', '财产租赁所得', '土地使用权作价入股',\n",
       "        '房产余值', '仓储保管合同', '房屋出租', '财产保险合同', '没收非法所得', '单位补充养老保险（5%）', '五等',\n",
       "        '个人养老保险费', '房屋交换', '房屋作价入股', '职工个人（合肥市）', '房屋租赁', '转让非专利技术',\n",
       "        '销售建筑物或构筑物', '财产转让所得', '房屋转让所得', '稿酬所得', '机械制造销售收入(个)', '卷烟销售收入',\n",
       "        '机械制造销售收入', '非普通住宅（预征）', '营业帐簿', '罚款', '房产出租收入', '违章罚款', '矿泉水',\n",
       "        '养老保险违章罚款', '违章所得', '工伤保险违章罚款', '医疗保险违章罚款', '失业保险违章罚款', '生育保险违章罚款',\n",
       "        '城镇居民医保违章罚款', '不依据三税附征', '租赁业', '其他行业', '其他所得', '从租计征',\n",
       "        '其他类型房地产（预征）', '煤炭销售收入', '利息、股息、红利所得', '补缴保险费额', '其他土地转移形式',\n",
       "        '企业养老保险基金（协保）', '县城、建制镇（工矿区）以下土地', '其他类型房地产', '其他商务服务', '转让著作权',\n",
       "        '县城土地使用税等级3', '残疾人就业保障金', '税务部门罚没收入', '服务业营业收入(个)', '金融',\n",
       "        '购买家庭唯一普通住房', '铁路线路', '增值税附征(非市区、县城、镇)', '保障性住房', '转让土地使用权',\n",
       "        '个人出租住房所得', '电力销售收入(个)', '其他农业用地', '城市土地使用税等级4', '饮食业', '其他房屋买卖',\n",
       "        '住房买卖', '文化业', '单位补充养老保险（10%）', '基本养老保险（个体）', '单套畜力车', '一般房屋出租',\n",
       "        '卷烟销售收入(个)', '市区（营业税附征）', '装卸搬运', '营业税地方教育附加', '按5%税率征收更改',\n",
       "        '增消营税额（1%）', '销售额或营业额', '餐饮业', '二等（县区）', '房产税补差', '纺织销售收入',\n",
       "        '特许权使用费所得', '其他房屋转移形式', '失地农民养老保险费', '六等', '个人储蓄保险（5%）',\n",
       "        '货物运输合同（按运输费用万分之五贴花）', '纺织销售收入(个)', '歌厅、舞厅、卡拉OK歌舞厅', '个人储蓄保险（10%）',\n",
       "        '旅游业', '仓储业', '体育业', '双套畜力车', '个人出租住房', '县城、镇（营业税附征）', '营业税教育费附加',\n",
       "        '安装', '土地使用权转让（赠与）', '二类地区（占用基本农田）', '营业税附征(县城、镇)', '工会经费',\n",
       "        '城市生活垃圾处置费'], dtype=object),\n",
       " array([-4.00000000e-02,  0.00000000e+00,             nan, -5.00000000e-02,\n",
       "        -1.00000000e-02,  3.00000000e-02, -3.00000000e-02,  1.05000000e+02,\n",
       "         5.55000000e+02,  2.01000000e+03,  3.01500000e+03,  3.15000000e+02,\n",
       "         1.11000000e+03,  4.20000000e+02,  1.00000000e-02,  1.00500000e+03,\n",
       "         2.22000000e+03,  4.00000000e-02,  3.13192770e+06, -2.00000000e-02,\n",
       "        -1.70833700e+04,  2.10000000e+02,  2.00000000e-02,  6.30000000e+02,\n",
       "         2.77500000e+03,  2.77501000e+03,  5.25000000e+02,  5.00000000e-02,\n",
       "         1.66500000e+03,  3.88500000e+03,  1.13798674e+06,  1.25050750e+06,\n",
       "         2.75500000e+03,  2.75250000e+04,  1.10100000e+04,  2.81400400e+04,\n",
       "         2.26800400e+04,  1.35050000e+04,  2.44199700e+04,  2.11050000e+04,\n",
       "         1.38750100e+04,  8.50498000e+03,  8.60998000e+03,  1.10099900e+04,\n",
       "         1.55400000e+04,  1.90950000e+04,  2.12756845e+06,  2.21598876e+06,\n",
       "         3.01599000e+05,  1.10091318e+07,  1.10033205e+07,  8.88000000e+03,\n",
       "         5.50500000e+03,  4.93500000e+03, -6.00000000e-02, -5.69807900e+04,\n",
       "         2.00999600e+04,  1.10122513e+07, -7.31978000e+03,  1.90949400e+04,\n",
       "         1.33200000e+04,  4.72500000e+03,  1.27650100e+04,  1.70849500e+04,\n",
       "         4.72501000e+03,  1.15500000e+03,  2.10010000e+02,  7.35000000e+02,\n",
       "         2.95214220e+05, -2.01110000e+02,  4.11757048e+06,  1.03334098e+07,\n",
       "         1.03401963e+07,  1.15499000e+03,  5.55000000e+03,  3.01499000e+03,\n",
       "         4.99500000e+03,  1.05000000e+03,  7.65424000e+05,  1.96363803e+06,\n",
       "         1.00499000e+03,  7.12822000e+05,  2.42114378e+06,  2.48630023e+06,\n",
       "         2.45515121e+06,  1.99499000e+03,  6.02999000e+03,  2.77499000e+03,\n",
       "         2.62500000e+03,  3.88499000e+03,  1.89000000e+03,  1.67286068e+06,\n",
       "         9.70540480e+05,  1.10999000e+03,  1.61100000e+02,  5.49112000e+03,\n",
       "         9.45000000e+02,  3.02154900e+04,  1.91148650e+06,  7.53228600e+04,\n",
       "         1.14813600e+06,  3.14990000e+02,  5.02499000e+03,  3.32999000e+03,\n",
       "         1.40699900e+04,  6.30010000e+02,  1.59044250e+05,  1.41591648e+06,\n",
       "         1.02480000e+05,  1.33200200e+04,  1.27650200e+04,  5.02500000e+03,\n",
       "         1.78499000e+03,  4.02000000e+03,  4.44002000e+03,  2.83040000e+03,\n",
       "         3.97949600e+04,  1.13219960e+05, -4.24883600e+04,  4.05150100e+04,\n",
       "        -5.12889200e+04,  2.10044890e+05, -1.30952770e+05,  3.30299900e+04,\n",
       "         2.83919831e+06,  1.66499000e+03,  5.24990000e+02,  9.94523221e+06,\n",
       "         5.90015260e+05,  3.13200000e+04,  1.14787200e+06,  3.80169100e+04,\n",
       "         1.74386960e+05,  2.56964200e+04,  2.09959875e+06,  5.51000000e+03,\n",
       "         8.32501000e+03,  1.40699500e+04,  4.82992000e+03,  3.84672640e+05,\n",
       "         1.23796926e+06,  4.19980000e+02,  2.43806300e+04,  1.15495000e+03,\n",
       "         5.16172668e+06,  8.04914000e+05,  1.00499800e+04,  3.33000000e+03,\n",
       "         2.93989000e+03,  3.44391480e+05,  2.00999000e+03,  1.39824450e+05,\n",
       "         6.29980000e+02, -6.95234000e+03,  1.46999000e+03,  1.86920330e+05,\n",
       "         1.26000000e+03,  9.04498000e+03,  7.00000000e-02,  4.44000000e+03,\n",
       "        -7.88461000e+03,  2.51993000e+03,  2.37083066e+06,  7.73770730e+05,\n",
       "         8.65585600e+05,  1.35049900e+04,  4.00000000e+03,  1.80899600e+04,\n",
       "         7.00000000e+03, -2.01924900e+04, -3.04819600e+04,  1.40699600e+04,\n",
       "         5.06604000e+04,  5.59536790e+05,  1.55601000e+04,  3.88891250e+05,\n",
       "         1.17600000e+04,  1.30199600e+04,  5.84362200e+05,  7.77230700e+04,\n",
       "         2.71596820e+05,  1.36499000e+03,  4.78562700e+05,  1.23637280e+05,\n",
       "         1.17333920e+06,  3.04500000e+03,  2.68712000e+03,  1.79643900e+04,\n",
       "         7.13995000e+03,  1.16550000e+04,  1.80899800e+04,  2.25111957e+07,\n",
       "         2.25186416e+07,  2.83500000e+03,  1.70849400e+04,  9.99000000e+03,\n",
       "         3.36000000e+03,  7.77000000e+03, -1.93314600e+04,  1.70849300e+04,\n",
       "         2.72990000e+03,  2.68463900e+04,  1.11256000e+05,  8.40000000e+02,\n",
       "         4.39160960e+05,  9.29210400e+04,  4.48094000e+03,  2.93334800e+05,\n",
       "         1.26578000e+03, -4.02500000e+02,  4.79400000e+02,  1.52582100e+06,\n",
       "         9.00748273e+06,  2.31652000e+03,  2.25000000e+05,  1.15498000e+03,\n",
       "         3.33001000e+03,  3.66671250e+05,  2.21999000e+03,  7.21025500e+04,\n",
       "         5.21905000e+03,  9.57480000e+03,  5.96442647e+06,  1.35449900e+04,\n",
       "         1.49849900e+04,  2.09990000e+02,  1.00836870e+05,  1.48455560e+06,\n",
       "         1.39660000e+02,  6.24000000e+02, -3.47346000e+03,  3.72828500e+04,\n",
       "         1.80000000e-01,  1.57501000e+03,  6.10500000e+03,  1.67997000e+03,\n",
       "         2.33100000e+04,  5.51001000e+03,  1.50749700e+04,  2.42548600e+04,\n",
       "         5.49564069e+06,  2.81729100e+04,  6.41821500e+05,  4.46000000e+02,\n",
       "        -7.28250000e+03,  4.93309670e+05,  5.23368740e+05,  4.94380440e+05]))"
      ]
     },
     "execution_count": 6,
     "metadata": {},
     "output_type": "execute_result"
    }
   ],
   "source": [
    "tax_info['TAX_CATEGORIES'].unique(), tax_info['TAX_ITEMS'].unique(), tax_info['DEDUCTION'].unique()"
   ]
  },
  {
   "cell_type": "code",
   "execution_count": 7,
   "metadata": {
    "ExecuteTime": {
     "end_time": "2020-11-17T14:38:40.116154Z",
     "start_time": "2020-11-17T14:38:40.109160Z"
    }
   },
   "outputs": [],
   "source": [
    "def identify_missing(df, missing_threshold):\n",
    "    \"\"\"\n",
    "    缺失率\n",
    "    @param df:\n",
    "    @param missing_threshold:\n",
    "    @return:\n",
    "    \"\"\"\n",
    "    missing_rate = df.isnull().sum() / len(df)\n",
    "    missing_rate = missing_rate.sort_values(ascending=False)\n",
    "    print(missing_rate)\n",
    "    to_drop = missing_rate[missing_rate > missing_threshold].index.to_list()\n",
    "    print('{} features with greater than {} missing values.\\n'.format(len(to_drop), missing_threshold))\n",
    "    return to_drop"
   ]
  },
  {
   "cell_type": "code",
   "execution_count": 8,
   "metadata": {
    "ExecuteTime": {
     "end_time": "2020-11-17T14:38:40.156133Z",
     "start_time": "2020-11-17T14:38:40.121152Z"
    }
   },
   "outputs": [
    {
     "name": "stdout",
     "output_type": "stream",
     "text": [
      "DEDUCTION         0.169892\n",
      "TAX_RATE          0.115739\n",
      "TAXATION_BASIS    0.115739\n",
      "TAX_AMOUNT        0.000000\n",
      "TAX_ITEMS         0.000000\n",
      "TAX_CATEGORIES    0.000000\n",
      "END_DATE          0.000000\n",
      "START_DATE        0.000000\n",
      "id                0.000000\n",
      "dtype: float64\n",
      "0 features with greater than 0.5 missing values.\n",
      "\n"
     ]
    },
    {
     "data": {
      "text/plain": [
       "[]"
      ]
     },
     "execution_count": 8,
     "metadata": {},
     "output_type": "execute_result"
    }
   ],
   "source": [
    "to_drop = identify_missing(tax_info, missing_threshold=0.5)\n",
    "tax_info.drop(to_drop, axis=1, inplace=True)\n",
    "to_drop"
   ]
  },
  {
   "cell_type": "code",
   "execution_count": 9,
   "metadata": {
    "ExecuteTime": {
     "end_time": "2020-11-17T14:38:40.171124Z",
     "start_time": "2020-11-17T14:38:40.159131Z"
    }
   },
   "outputs": [
    {
     "data": {
      "text/plain": [
       "808"
      ]
     },
     "execution_count": 9,
     "metadata": {},
     "output_type": "execute_result"
    }
   ],
   "source": [
    "tax_info['id'].nunique()"
   ]
  },
  {
   "cell_type": "code",
   "execution_count": 10,
   "metadata": {
    "ExecuteTime": {
     "end_time": "2020-11-17T14:38:40.189115Z",
     "start_time": "2020-11-17T14:38:40.174122Z"
    }
   },
   "outputs": [
    {
     "data": {
      "text/plain": [
       "(808, 1)"
      ]
     },
     "execution_count": 10,
     "metadata": {},
     "output_type": "execute_result"
    }
   ],
   "source": [
    "df = pd.DataFrame(tax_info['id'].unique())\n",
    "df.columns = ['id']\n",
    "df.shape"
   ]
  },
  {
   "cell_type": "code",
   "execution_count": 11,
   "metadata": {
    "ExecuteTime": {
     "end_time": "2020-11-17T14:38:40.197110Z",
     "start_time": "2020-11-17T14:38:40.193110Z"
    }
   },
   "outputs": [],
   "source": [
    "# tmp = tax_info.groupby('id', as_index=False)['TAXATION_BASIS'].agg({\n",
    "#     'TAXATION_BASIS_sum': 'sum'\n",
    "# })\n",
    "\n",
    "# df = df.merge(tmp, on='id', how='left')"
   ]
  },
  {
   "cell_type": "code",
   "execution_count": 12,
   "metadata": {
    "ExecuteTime": {
     "end_time": "2020-11-17T14:38:40.233094Z",
     "start_time": "2020-11-17T14:38:40.203105Z"
    }
   },
   "outputs": [],
   "source": [
    "tmp = tax_info.groupby('id', as_index=False)['TAX_AMOUNT'].agg({\n",
    "    'TAX_AMOUNT_sum': 'sum'\n",
    "})\n",
    "\n",
    "df = df.merge(tmp, on='id', how='left')"
   ]
  },
  {
   "cell_type": "code",
   "execution_count": 13,
   "metadata": {
    "ExecuteTime": {
     "end_time": "2020-11-17T14:38:40.241083Z",
     "start_time": "2020-11-17T14:38:40.237087Z"
    }
   },
   "outputs": [],
   "source": [
    "# df['TAX_AMOUNT_sum/TAXATION_BASIS_sum'] = df['TAX_AMOUNT_sum'] / df['TAXATION_BASIS_sum']"
   ]
  },
  {
   "cell_type": "code",
   "execution_count": 14,
   "metadata": {
    "ExecuteTime": {
     "end_time": "2020-11-17T14:38:40.262071Z",
     "start_time": "2020-11-17T14:38:40.244081Z"
    }
   },
   "outputs": [],
   "source": [
    "df.to_csv('../../input/tax_info.csv', index=False)"
   ]
  },
  {
   "cell_type": "code",
   "execution_count": 15,
   "metadata": {
    "ExecuteTime": {
     "end_time": "2020-11-17T14:38:40.296052Z",
     "start_time": "2020-11-17T14:38:40.265072Z"
    }
   },
   "outputs": [],
   "source": [
    "data = data.merge(df, how='left', on='id')"
   ]
  },
  {
   "cell_type": "code",
   "execution_count": 16,
   "metadata": {
    "ExecuteTime": {
     "end_time": "2020-11-17T14:38:40.318039Z",
     "start_time": "2020-11-17T14:38:40.303047Z"
    }
   },
   "outputs": [
    {
     "data": {
      "text/plain": [
       "((14865, 3), (10000, 3))"
      ]
     },
     "execution_count": 16,
     "metadata": {},
     "output_type": "execute_result"
    }
   ],
   "source": [
    "train = data[data['label'].notnull()]\n",
    "test = data[data['label'].isnull()]\n",
    "train.shape, test.shape"
   ]
  },
  {
   "cell_type": "code",
   "execution_count": 17,
   "metadata": {
    "ExecuteTime": {
     "end_time": "2020-11-17T14:38:40.330031Z",
     "start_time": "2020-11-17T14:38:40.322036Z"
    }
   },
   "outputs": [],
   "source": [
    "used_cols = [i for i in train.columns if i not in ['id', 'label']]\n",
    "y = train['label']\n",
    "train = train[used_cols]\n",
    "test = test[used_cols]"
   ]
  },
  {
   "cell_type": "code",
   "execution_count": 18,
   "metadata": {
    "ExecuteTime": {
     "end_time": "2020-11-17T14:38:40.432554Z",
     "start_time": "2020-11-17T14:38:40.333030Z"
    }
   },
   "outputs": [
    {
     "name": "stdout",
     "output_type": "stream",
     "text": [
      "TAX_AMOUNT_sum\n",
      "Training until validation scores don't improve for 50 rounds\n",
      "Early stopping, best iteration is:\n",
      "[3]\ttraining's auc: 0.532674\tvalid_0's auc: 0.541695\n",
      "Evaluated only: auc\n",
      "**********\n",
      "0.541694594836986\n",
      "AUC useless_cols: \n",
      " []\n"
     ]
    }
   ],
   "source": [
    "X_train, X_valid, y_train, y_valid = train_test_split(train, y, test_size=0.25, random_state=2020)\n",
    "\n",
    "cols = X_train.columns\n",
    "useful_dict, useless_dict, useful_cols, useless_cols = auc_select(X_train, y_train, X_valid, y_valid, cols, threshold=0.52)\n",
    "print('AUC useless_cols: \\n', useless_cols)"
   ]
  },
  {
   "cell_type": "code",
   "execution_count": 19,
   "metadata": {
    "ExecuteTime": {
     "end_time": "2020-11-17T14:38:40.533688Z",
     "start_time": "2020-11-17T14:38:40.435104Z"
    }
   },
   "outputs": [
    {
     "name": "stdout",
     "output_type": "stream",
     "text": [
      "Training until validation scores don't improve for 50 rounds\n",
      "Early stopping, best iteration is:\n",
      "[3]\ttraining's auc: 0.532674\tvalid_1's auc: 0.541695\n",
      "Evaluated only: auc\n"
     ]
    }
   ],
   "source": [
    "dtrain = lgb.Dataset(X_train, y_train)\n",
    "dvalid = lgb.Dataset(X_valid, y_valid, reference=dtrain)\n",
    "\n",
    "params = {\n",
    "    'objective': 'binary',\n",
    "    'boosting': 'gbdt',\n",
    "    'metric': 'auc',\n",
    "#     'metric': 'None',  # 用自定义评估函数是将metric设置为'None'\n",
    "    'learning_rate': 0.1,\n",
    "    'num_leaves': 31,\n",
    "    'lambda_l1': 0,\n",
    "    'lambda_l2': 1,\n",
    "    'num_threads': 23,\n",
    "    'min_data_in_leaf': 20,\n",
    "    'first_metric_only': True,\n",
    "    'is_unbalance': True,\n",
    "    'max_depth': -1,\n",
    "    'seed': 2020\n",
    "}\n",
    "\n",
    "valid_model = lgb.train(\n",
    "    params,\n",
    "    dtrain,\n",
    "    valid_sets=[dtrain, dvalid],\n",
    "    early_stopping_rounds=50,\n",
    "    verbose_eval=300 \n",
    ")"
   ]
  },
  {
   "cell_type": "code",
   "execution_count": 20,
   "metadata": {
    "ExecuteTime": {
     "end_time": "2020-11-17T14:38:40.558468Z",
     "start_time": "2020-11-17T14:38:40.535685Z"
    }
   },
   "outputs": [
    {
     "data": {
      "text/html": [
       "<div>\n",
       "<style scoped>\n",
       "    .dataframe tbody tr th:only-of-type {\n",
       "        vertical-align: middle;\n",
       "    }\n",
       "\n",
       "    .dataframe tbody tr th {\n",
       "        vertical-align: top;\n",
       "    }\n",
       "\n",
       "    .dataframe thead th {\n",
       "        text-align: right;\n",
       "    }\n",
       "</style>\n",
       "<table border=\"1\" class=\"dataframe\">\n",
       "  <thead>\n",
       "    <tr style=\"text-align: right;\">\n",
       "      <th></th>\n",
       "      <th>feature_name</th>\n",
       "      <th>importance</th>\n",
       "      <th>normalized_importance</th>\n",
       "      <th>cumulative_importance</th>\n",
       "    </tr>\n",
       "  </thead>\n",
       "  <tbody>\n",
       "    <tr>\n",
       "      <th>0</th>\n",
       "      <td>TAX_AMOUNT_sum</td>\n",
       "      <td>2327.931389</td>\n",
       "      <td>1.0</td>\n",
       "      <td>1.0</td>\n",
       "    </tr>\n",
       "  </tbody>\n",
       "</table>\n",
       "</div>"
      ],
      "text/plain": [
       "     feature_name   importance  normalized_importance  cumulative_importance\n",
       "0  TAX_AMOUNT_sum  2327.931389                    1.0                    1.0"
      ]
     },
     "execution_count": 20,
     "metadata": {},
     "output_type": "execute_result"
    }
   ],
   "source": [
    "importance = valid_model.feature_importance(importance_type='gain')\n",
    "feature_name = valid_model.feature_name()\n",
    "\n",
    "df_importance = pd.DataFrame({\n",
    "    'feature_name': feature_name,\n",
    "    'importance': importance\n",
    "}).sort_values(by='importance', ascending=False)\n",
    "df_importance['normalized_importance'] = df_importance['importance'] / df_importance['importance'].sum()\n",
    "df_importance['cumulative_importance'] = np.cumsum(df_importance['normalized_importance'])\n",
    "df_importance"
   ]
  },
  {
   "cell_type": "code",
   "execution_count": null,
   "metadata": {},
   "outputs": [],
   "source": []
  }
 ],
 "metadata": {
  "kernelspec": {
   "display_name": "Python 3",
   "language": "python",
   "name": "python3"
  },
  "language_info": {
   "codemirror_mode": {
    "name": "ipython",
    "version": 3
   },
   "file_extension": ".py",
   "mimetype": "text/x-python",
   "name": "python",
   "nbconvert_exporter": "python",
   "pygments_lexer": "ipython3",
   "version": "3.7.3"
  },
  "toc": {
   "base_numbering": 1,
   "nav_menu": {},
   "number_sections": true,
   "sideBar": true,
   "skip_h1_title": false,
   "title_cell": "Table of Contents",
   "title_sidebar": "Contents",
   "toc_cell": false,
   "toc_position": {},
   "toc_section_display": true,
   "toc_window_display": false
  }
 },
 "nbformat": 4,
 "nbformat_minor": 4
}
