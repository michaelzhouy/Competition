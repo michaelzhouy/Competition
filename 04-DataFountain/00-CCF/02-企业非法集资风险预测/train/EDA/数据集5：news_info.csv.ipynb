{
 "cells": [
  {
   "cell_type": "code",
   "execution_count": 1,
   "metadata": {
    "ExecuteTime": {
     "end_time": "2020-11-17T14:31:30.072089Z",
     "start_time": "2020-11-17T14:31:27.657342Z"
    }
   },
   "outputs": [],
   "source": [
    "import numpy as np\n",
    "import pandas as pd\n",
    "from tqdm import tqdm\n",
    "from sklearn.model_selection import train_test_split\n",
    "import lightgbm as lgb\n",
    "import warnings\n",
    "warnings.filterwarnings('ignore')\n",
    "from util import *"
   ]
  },
  {
   "cell_type": "code",
   "execution_count": 2,
   "metadata": {
    "ExecuteTime": {
     "end_time": "2020-11-17T14:31:30.115022Z",
     "start_time": "2020-11-17T14:31:30.074045Z"
    }
   },
   "outputs": [],
   "source": [
    "data = pd.read_csv('../../input/data.csv')"
   ]
  },
  {
   "cell_type": "code",
   "execution_count": 3,
   "metadata": {
    "ExecuteTime": {
     "end_time": "2020-11-17T14:31:30.136007Z",
     "start_time": "2020-11-17T14:31:30.117018Z"
    }
   },
   "outputs": [
    {
     "data": {
      "text/plain": [
       "id           0\n",
       "label    10000\n",
       "dtype: int64"
      ]
     },
     "execution_count": 3,
     "metadata": {},
     "output_type": "execute_result"
    }
   ],
   "source": [
    "data.isnull().sum()"
   ]
  },
  {
   "cell_type": "code",
   "execution_count": 4,
   "metadata": {
    "ExecuteTime": {
     "end_time": "2020-11-17T14:31:30.184983Z",
     "start_time": "2020-11-17T14:31:30.140006Z"
    }
   },
   "outputs": [
    {
     "name": "stdout",
     "output_type": "stream",
     "text": [
      "(10518, 3)\n",
      "<class 'pandas.core.frame.DataFrame'>\n",
      "RangeIndex: 10518 entries, 0 to 10517\n",
      "Data columns (total 3 columns):\n",
      " #   Column            Non-Null Count  Dtype \n",
      "---  ------            --------------  ----- \n",
      " 0   id                10518 non-null  object\n",
      " 1   positive_negtive  10518 non-null  object\n",
      " 2   public_date       10518 non-null  object\n",
      "dtypes: object(3)\n",
      "memory usage: 246.6+ KB\n"
     ]
    }
   ],
   "source": [
    "# 数据集5：news_info.csv\n",
    "# 包含数据集7和8中涉及到的企业的新闻舆情信息，每一行代表一个企业新闻舆情，每一行3列，其中id列为企业唯一标识，列之间采用“,”分隔符分割。\n",
    "# 数据格式如下：\n",
    "# [id:企业唯一标识, positive_negtive:新闻正负面性, public_date:发布日期]\n",
    "news_info = pd.read_csv('../../input/train/news_info.csv')\n",
    "print(news_info.shape)\n",
    "news_info.info()"
   ]
  },
  {
   "cell_type": "code",
   "execution_count": 5,
   "metadata": {
    "ExecuteTime": {
     "end_time": "2020-11-17T14:31:30.211966Z",
     "start_time": "2020-11-17T14:31:30.188979Z"
    }
   },
   "outputs": [
    {
     "data": {
      "text/html": [
       "<div>\n",
       "<style scoped>\n",
       "    .dataframe tbody tr th:only-of-type {\n",
       "        vertical-align: middle;\n",
       "    }\n",
       "\n",
       "    .dataframe tbody tr th {\n",
       "        vertical-align: top;\n",
       "    }\n",
       "\n",
       "    .dataframe thead th {\n",
       "        text-align: right;\n",
       "    }\n",
       "</style>\n",
       "<table border=\"1\" class=\"dataframe\">\n",
       "  <thead>\n",
       "    <tr style=\"text-align: right;\">\n",
       "      <th></th>\n",
       "      <th>id</th>\n",
       "      <th>positive_negtive</th>\n",
       "      <th>public_date</th>\n",
       "    </tr>\n",
       "  </thead>\n",
       "  <tbody>\n",
       "    <tr>\n",
       "      <th>0</th>\n",
       "      <td>f000950527a6feb62669d6a175fe6fdccd1eb4f7ca8e5016</td>\n",
       "      <td>积极</td>\n",
       "      <td>2016-12-30</td>\n",
       "    </tr>\n",
       "    <tr>\n",
       "      <th>1</th>\n",
       "      <td>f000950527a6feb6e8bd9919e2ca363359bcfa997a0f9de7</td>\n",
       "      <td>中立</td>\n",
       "      <td>2017-08-09</td>\n",
       "    </tr>\n",
       "    <tr>\n",
       "      <th>2</th>\n",
       "      <td>f000950527a6feb6e8bd9919e2ca363359bcfa997a0f9de7</td>\n",
       "      <td>消极</td>\n",
       "      <td>2016-02-29</td>\n",
       "    </tr>\n",
       "    <tr>\n",
       "      <th>3</th>\n",
       "      <td>d8071a739aa75a3bcf6fb0041ee883243251d30025ab9d45</td>\n",
       "      <td>中立</td>\n",
       "      <td>2018-06-08</td>\n",
       "    </tr>\n",
       "    <tr>\n",
       "      <th>4</th>\n",
       "      <td>f000950527a6feb6d71de3382afa0bc5ff87bb65477f698a</td>\n",
       "      <td>积极</td>\n",
       "      <td>2015-06-29</td>\n",
       "    </tr>\n",
       "  </tbody>\n",
       "</table>\n",
       "</div>"
      ],
      "text/plain": [
       "                                                 id positive_negtive  \\\n",
       "0  f000950527a6feb62669d6a175fe6fdccd1eb4f7ca8e5016               积极   \n",
       "1  f000950527a6feb6e8bd9919e2ca363359bcfa997a0f9de7               中立   \n",
       "2  f000950527a6feb6e8bd9919e2ca363359bcfa997a0f9de7               消极   \n",
       "3  d8071a739aa75a3bcf6fb0041ee883243251d30025ab9d45               中立   \n",
       "4  f000950527a6feb6d71de3382afa0bc5ff87bb65477f698a               积极   \n",
       "\n",
       "  public_date  \n",
       "0  2016-12-30  \n",
       "1  2017-08-09  \n",
       "2  2016-02-29  \n",
       "3  2018-06-08  \n",
       "4  2015-06-29  "
      ]
     },
     "execution_count": 5,
     "metadata": {},
     "output_type": "execute_result"
    }
   ],
   "source": [
    "news_info.head()"
   ]
  },
  {
   "cell_type": "code",
   "execution_count": 6,
   "metadata": {
    "ExecuteTime": {
     "end_time": "2020-11-17T14:31:30.222957Z",
     "start_time": "2020-11-17T14:31:30.214962Z"
    }
   },
   "outputs": [
    {
     "data": {
      "text/plain": [
       "array(['积极', '中立', '消极'], dtype=object)"
      ]
     },
     "execution_count": 6,
     "metadata": {},
     "output_type": "execute_result"
    }
   ],
   "source": [
    "news_info['positive_negtive'].unique()"
   ]
  },
  {
   "cell_type": "code",
   "execution_count": 7,
   "metadata": {
    "ExecuteTime": {
     "end_time": "2020-11-17T14:31:30.234951Z",
     "start_time": "2020-11-17T14:31:30.226955Z"
    }
   },
   "outputs": [],
   "source": [
    "news_info['positive_negtive'] = news_info['positive_negtive'].map({'积极': 1, '中立': 0, '消极': -1})"
   ]
  },
  {
   "cell_type": "code",
   "execution_count": 8,
   "metadata": {
    "ExecuteTime": {
     "end_time": "2020-11-17T14:31:30.246943Z",
     "start_time": "2020-11-17T14:31:30.239950Z"
    }
   },
   "outputs": [],
   "source": [
    "def identify_missing(df, missing_threshold):\n",
    "    \"\"\"\n",
    "    缺失率\n",
    "    @param df:\n",
    "    @param missing_threshold:\n",
    "    @return:\n",
    "    \"\"\"\n",
    "    missing_rate = df.isnull().sum() / len(df)\n",
    "    missing_rate = missing_rate.sort_values(ascending=False)\n",
    "    print(missing_rate)\n",
    "    to_drop = missing_rate[missing_rate > missing_threshold].index.to_list()\n",
    "    print('{} features with greater than {} missing values.\\n'.format(len(to_drop), missing_threshold))\n",
    "    return to_drop"
   ]
  },
  {
   "cell_type": "code",
   "execution_count": 9,
   "metadata": {
    "ExecuteTime": {
     "end_time": "2020-11-17T14:31:30.294917Z",
     "start_time": "2020-11-17T14:31:30.250941Z"
    }
   },
   "outputs": [
    {
     "name": "stdout",
     "output_type": "stream",
     "text": [
      "public_date         0.0\n",
      "positive_negtive    0.0\n",
      "id                  0.0\n",
      "dtype: float64\n",
      "0 features with greater than 0.5 missing values.\n",
      "\n"
     ]
    },
    {
     "data": {
      "text/plain": [
       "[]"
      ]
     },
     "execution_count": 9,
     "metadata": {},
     "output_type": "execute_result"
    }
   ],
   "source": [
    "to_drop = identify_missing(news_info, missing_threshold=0.5)\n",
    "news_info.drop(to_drop, axis=1, inplace=True)\n",
    "to_drop"
   ]
  },
  {
   "cell_type": "code",
   "execution_count": 10,
   "metadata": {
    "ExecuteTime": {
     "end_time": "2020-11-17T14:31:30.305910Z",
     "start_time": "2020-11-17T14:31:30.296916Z"
    }
   },
   "outputs": [
    {
     "data": {
      "text/plain": [
       "927"
      ]
     },
     "execution_count": 10,
     "metadata": {},
     "output_type": "execute_result"
    }
   ],
   "source": [
    "news_info['id'].nunique()"
   ]
  },
  {
   "cell_type": "code",
   "execution_count": 11,
   "metadata": {
    "ExecuteTime": {
     "end_time": "2020-11-17T14:31:30.321900Z",
     "start_time": "2020-11-17T14:31:30.309907Z"
    }
   },
   "outputs": [
    {
     "data": {
      "text/plain": [
       "(927, 1)"
      ]
     },
     "execution_count": 11,
     "metadata": {},
     "output_type": "execute_result"
    }
   ],
   "source": [
    "df = pd.DataFrame(news_info['id'].unique())\n",
    "df.columns = ['id']\n",
    "df.shape"
   ]
  },
  {
   "cell_type": "code",
   "execution_count": 12,
   "metadata": {
    "ExecuteTime": {
     "end_time": "2020-11-17T14:31:30.359884Z",
     "start_time": "2020-11-17T14:31:30.324899Z"
    }
   },
   "outputs": [],
   "source": [
    "tmp = news_info.groupby('id', as_index=False)['positive_negtive'].agg({\n",
    "#     'positive_negtive_mean': 'mean',\n",
    "#     'positive_negtive_median': 'median',\n",
    "#     'positive_negtive_sum': 'sum',\n",
    "    'positive_negtive_count': 'count',\n",
    "#     'positive_negtive_max': 'max',\n",
    "#     'positive_negtive_min': 'min',\n",
    "    'positive_negtive_nunique': 'nunique',\n",
    "})\n",
    "\n",
    "df = df.merge(tmp, on='id', how='left')"
   ]
  },
  {
   "cell_type": "code",
   "execution_count": 13,
   "metadata": {
    "ExecuteTime": {
     "end_time": "2020-11-17T14:31:30.367873Z",
     "start_time": "2020-11-17T14:31:30.362877Z"
    }
   },
   "outputs": [],
   "source": [
    "# tmp['positive_negtive_max'].unique(), tmp['positive_negtive_min'].unique(), tmp['positive_negtive_median'].unique()"
   ]
  },
  {
   "cell_type": "code",
   "execution_count": 14,
   "metadata": {
    "ExecuteTime": {
     "end_time": "2020-11-17T14:31:30.415847Z",
     "start_time": "2020-11-17T14:31:30.370873Z"
    }
   },
   "outputs": [],
   "source": [
    "news_info['tmp'] = 1\n",
    "tmp = news_info.pivot_table(values='tmp', index='id', columns='positive_negtive', aggfunc=np.sum).fillna(0)\n",
    "tmp.columns = ['positive_negtive_{}'.format(f) for f in tmp.columns]\n",
    "tmp.reset_index(inplace=True)\n",
    "\n",
    "df = df.merge(tmp, on='id', how='left')"
   ]
  },
  {
   "cell_type": "code",
   "execution_count": 15,
   "metadata": {
    "ExecuteTime": {
     "end_time": "2020-11-17T14:31:30.433835Z",
     "start_time": "2020-11-17T14:31:30.419844Z"
    }
   },
   "outputs": [],
   "source": [
    "# df['rate_-1'] = df['positive_negtive_-1'] / df['positive_negtive_count']\n",
    "df['rate_0'] = df['positive_negtive_0'] / df['positive_negtive_count']\n",
    "df['rate_1'] = df['positive_negtive_1'] / df['positive_negtive_count']\n",
    "\n",
    "df['-1_1'] = df['positive_negtive_-1'] / df['positive_negtive_1']\n",
    "df['-1_0'] = df['positive_negtive_-1'] / df['positive_negtive_0']"
   ]
  },
  {
   "cell_type": "code",
   "execution_count": 16,
   "metadata": {
    "ExecuteTime": {
     "end_time": "2020-11-17T14:31:30.457822Z",
     "start_time": "2020-11-17T14:31:30.436834Z"
    }
   },
   "outputs": [],
   "source": [
    "df.to_csv('../../input/news_info.csv', index=False)"
   ]
  },
  {
   "cell_type": "code",
   "execution_count": 17,
   "metadata": {
    "ExecuteTime": {
     "end_time": "2020-11-17T14:31:30.496800Z",
     "start_time": "2020-11-17T14:31:30.464822Z"
    }
   },
   "outputs": [
    {
     "data": {
      "text/html": [
       "<div>\n",
       "<style scoped>\n",
       "    .dataframe tbody tr th:only-of-type {\n",
       "        vertical-align: middle;\n",
       "    }\n",
       "\n",
       "    .dataframe tbody tr th {\n",
       "        vertical-align: top;\n",
       "    }\n",
       "\n",
       "    .dataframe thead th {\n",
       "        text-align: right;\n",
       "    }\n",
       "</style>\n",
       "<table border=\"1\" class=\"dataframe\">\n",
       "  <thead>\n",
       "    <tr style=\"text-align: right;\">\n",
       "      <th></th>\n",
       "      <th>positive_negtive_count</th>\n",
       "      <th>positive_negtive_nunique</th>\n",
       "      <th>positive_negtive_-1</th>\n",
       "      <th>positive_negtive_0</th>\n",
       "      <th>positive_negtive_1</th>\n",
       "      <th>rate_0</th>\n",
       "      <th>rate_1</th>\n",
       "      <th>-1_1</th>\n",
       "      <th>-1_0</th>\n",
       "    </tr>\n",
       "  </thead>\n",
       "  <tbody>\n",
       "    <tr>\n",
       "      <th>positive_negtive_count</th>\n",
       "      <td>1.000000</td>\n",
       "      <td>0.324135</td>\n",
       "      <td>0.562068</td>\n",
       "      <td>0.940853</td>\n",
       "      <td>0.951994</td>\n",
       "      <td>-0.015382</td>\n",
       "      <td>0.018429</td>\n",
       "      <td>0.081147</td>\n",
       "      <td>0.011592</td>\n",
       "    </tr>\n",
       "    <tr>\n",
       "      <th>positive_negtive_nunique</th>\n",
       "      <td>0.324135</td>\n",
       "      <td>1.000000</td>\n",
       "      <td>0.315632</td>\n",
       "      <td>0.342719</td>\n",
       "      <td>0.260960</td>\n",
       "      <td>-0.003635</td>\n",
       "      <td>-0.061744</td>\n",
       "      <td>0.387258</td>\n",
       "      <td>0.263417</td>\n",
       "    </tr>\n",
       "    <tr>\n",
       "      <th>positive_negtive_-1</th>\n",
       "      <td>0.562068</td>\n",
       "      <td>0.315632</td>\n",
       "      <td>1.000000</td>\n",
       "      <td>0.637680</td>\n",
       "      <td>0.346353</td>\n",
       "      <td>-0.009227</td>\n",
       "      <td>-0.120743</td>\n",
       "      <td>0.368631</td>\n",
       "      <td>0.240706</td>\n",
       "    </tr>\n",
       "    <tr>\n",
       "      <th>positive_negtive_0</th>\n",
       "      <td>0.940853</td>\n",
       "      <td>0.342719</td>\n",
       "      <td>0.637680</td>\n",
       "      <td>1.000000</td>\n",
       "      <td>0.801947</td>\n",
       "      <td>0.070790</td>\n",
       "      <td>-0.064522</td>\n",
       "      <td>0.143393</td>\n",
       "      <td>-0.001959</td>\n",
       "    </tr>\n",
       "    <tr>\n",
       "      <th>positive_negtive_1</th>\n",
       "      <td>0.951994</td>\n",
       "      <td>0.260960</td>\n",
       "      <td>0.346353</td>\n",
       "      <td>0.801947</td>\n",
       "      <td>1.000000</td>\n",
       "      <td>-0.070270</td>\n",
       "      <td>0.093581</td>\n",
       "      <td>-0.018481</td>\n",
       "      <td>-0.019669</td>\n",
       "    </tr>\n",
       "    <tr>\n",
       "      <th>rate_0</th>\n",
       "      <td>-0.015382</td>\n",
       "      <td>-0.003635</td>\n",
       "      <td>-0.009227</td>\n",
       "      <td>0.070790</td>\n",
       "      <td>-0.070270</td>\n",
       "      <td>1.000000</td>\n",
       "      <td>-0.822316</td>\n",
       "      <td>0.269479</td>\n",
       "      <td>-0.299540</td>\n",
       "    </tr>\n",
       "    <tr>\n",
       "      <th>rate_1</th>\n",
       "      <td>0.018429</td>\n",
       "      <td>-0.061744</td>\n",
       "      <td>-0.120743</td>\n",
       "      <td>-0.064522</td>\n",
       "      <td>0.093581</td>\n",
       "      <td>-0.822316</td>\n",
       "      <td>1.000000</td>\n",
       "      <td>-0.478867</td>\n",
       "      <td>-0.110755</td>\n",
       "    </tr>\n",
       "    <tr>\n",
       "      <th>-1_1</th>\n",
       "      <td>0.081147</td>\n",
       "      <td>0.387258</td>\n",
       "      <td>0.368631</td>\n",
       "      <td>0.143393</td>\n",
       "      <td>-0.018481</td>\n",
       "      <td>0.269479</td>\n",
       "      <td>-0.478867</td>\n",
       "      <td>1.000000</td>\n",
       "      <td>0.512606</td>\n",
       "    </tr>\n",
       "    <tr>\n",
       "      <th>-1_0</th>\n",
       "      <td>0.011592</td>\n",
       "      <td>0.263417</td>\n",
       "      <td>0.240706</td>\n",
       "      <td>-0.001959</td>\n",
       "      <td>-0.019669</td>\n",
       "      <td>-0.299540</td>\n",
       "      <td>-0.110755</td>\n",
       "      <td>0.512606</td>\n",
       "      <td>1.000000</td>\n",
       "    </tr>\n",
       "  </tbody>\n",
       "</table>\n",
       "</div>"
      ],
      "text/plain": [
       "                          positive_negtive_count  positive_negtive_nunique  \\\n",
       "positive_negtive_count                  1.000000                  0.324135   \n",
       "positive_negtive_nunique                0.324135                  1.000000   \n",
       "positive_negtive_-1                     0.562068                  0.315632   \n",
       "positive_negtive_0                      0.940853                  0.342719   \n",
       "positive_negtive_1                      0.951994                  0.260960   \n",
       "rate_0                                 -0.015382                 -0.003635   \n",
       "rate_1                                  0.018429                 -0.061744   \n",
       "-1_1                                    0.081147                  0.387258   \n",
       "-1_0                                    0.011592                  0.263417   \n",
       "\n",
       "                          positive_negtive_-1  positive_negtive_0  \\\n",
       "positive_negtive_count               0.562068            0.940853   \n",
       "positive_negtive_nunique             0.315632            0.342719   \n",
       "positive_negtive_-1                  1.000000            0.637680   \n",
       "positive_negtive_0                   0.637680            1.000000   \n",
       "positive_negtive_1                   0.346353            0.801947   \n",
       "rate_0                              -0.009227            0.070790   \n",
       "rate_1                              -0.120743           -0.064522   \n",
       "-1_1                                 0.368631            0.143393   \n",
       "-1_0                                 0.240706           -0.001959   \n",
       "\n",
       "                          positive_negtive_1    rate_0    rate_1      -1_1  \\\n",
       "positive_negtive_count              0.951994 -0.015382  0.018429  0.081147   \n",
       "positive_negtive_nunique            0.260960 -0.003635 -0.061744  0.387258   \n",
       "positive_negtive_-1                 0.346353 -0.009227 -0.120743  0.368631   \n",
       "positive_negtive_0                  0.801947  0.070790 -0.064522  0.143393   \n",
       "positive_negtive_1                  1.000000 -0.070270  0.093581 -0.018481   \n",
       "rate_0                             -0.070270  1.000000 -0.822316  0.269479   \n",
       "rate_1                              0.093581 -0.822316  1.000000 -0.478867   \n",
       "-1_1                               -0.018481  0.269479 -0.478867  1.000000   \n",
       "-1_0                               -0.019669 -0.299540 -0.110755  0.512606   \n",
       "\n",
       "                              -1_0  \n",
       "positive_negtive_count    0.011592  \n",
       "positive_negtive_nunique  0.263417  \n",
       "positive_negtive_-1       0.240706  \n",
       "positive_negtive_0       -0.001959  \n",
       "positive_negtive_1       -0.019669  \n",
       "rate_0                   -0.299540  \n",
       "rate_1                   -0.110755  \n",
       "-1_1                      0.512606  \n",
       "-1_0                      1.000000  "
      ]
     },
     "execution_count": 17,
     "metadata": {},
     "output_type": "execute_result"
    }
   ],
   "source": [
    "df.corr()"
   ]
  },
  {
   "cell_type": "code",
   "execution_count": 18,
   "metadata": {
    "ExecuteTime": {
     "end_time": "2020-11-17T14:31:30.525783Z",
     "start_time": "2020-11-17T14:31:30.499799Z"
    }
   },
   "outputs": [],
   "source": [
    "df.to_csv('news_info.csv', index=False)"
   ]
  },
  {
   "cell_type": "code",
   "execution_count": 19,
   "metadata": {
    "ExecuteTime": {
     "end_time": "2020-11-17T14:31:30.556765Z",
     "start_time": "2020-11-17T14:31:30.528781Z"
    }
   },
   "outputs": [],
   "source": [
    "data = data.merge(df, how='left', on='id')"
   ]
  },
  {
   "cell_type": "code",
   "execution_count": 20,
   "metadata": {
    "ExecuteTime": {
     "end_time": "2020-11-17T14:31:30.564760Z",
     "start_time": "2020-11-17T14:31:30.560763Z"
    }
   },
   "outputs": [],
   "source": [
    "# data['positive_negtive'].fillna(data['positive_negtive'].mean(), inplace=True)"
   ]
  },
  {
   "cell_type": "code",
   "execution_count": 21,
   "metadata": {
    "ExecuteTime": {
     "end_time": "2020-11-17T14:31:30.584748Z",
     "start_time": "2020-11-17T14:31:30.567758Z"
    }
   },
   "outputs": [
    {
     "data": {
      "text/plain": [
       "((14865, 11), (10000, 11))"
      ]
     },
     "execution_count": 21,
     "metadata": {},
     "output_type": "execute_result"
    }
   ],
   "source": [
    "train = data[data['label'].notnull()]\n",
    "test = data[data['label'].isnull()]\n",
    "train.shape, test.shape"
   ]
  },
  {
   "cell_type": "code",
   "execution_count": 22,
   "metadata": {
    "ExecuteTime": {
     "end_time": "2020-11-17T14:31:30.590745Z",
     "start_time": "2020-11-17T14:31:30.587747Z"
    }
   },
   "outputs": [],
   "source": [
    "# tmp = train[train['positive_negtive_mean'].notnull()]\n",
    "# tmp['bins'] = pd.cut(tmp['positive_negtive_mean'], 8)\n",
    "# tmp.groupby('bins')['label'].agg(['count', 'mean'])"
   ]
  },
  {
   "cell_type": "code",
   "execution_count": 23,
   "metadata": {
    "ExecuteTime": {
     "end_time": "2020-11-17T14:31:30.615730Z",
     "start_time": "2020-11-17T14:31:30.596742Z"
    }
   },
   "outputs": [
    {
     "data": {
      "text/html": [
       "<div>\n",
       "<style scoped>\n",
       "    .dataframe tbody tr th:only-of-type {\n",
       "        vertical-align: middle;\n",
       "    }\n",
       "\n",
       "    .dataframe tbody tr th {\n",
       "        vertical-align: top;\n",
       "    }\n",
       "\n",
       "    .dataframe thead th {\n",
       "        text-align: right;\n",
       "    }\n",
       "</style>\n",
       "<table border=\"1\" class=\"dataframe\">\n",
       "  <thead>\n",
       "    <tr style=\"text-align: right;\">\n",
       "      <th></th>\n",
       "      <th>id</th>\n",
       "      <th>label</th>\n",
       "      <th>positive_negtive_count</th>\n",
       "      <th>positive_negtive_nunique</th>\n",
       "      <th>positive_negtive_-1</th>\n",
       "      <th>positive_negtive_0</th>\n",
       "      <th>positive_negtive_1</th>\n",
       "      <th>rate_0</th>\n",
       "      <th>rate_1</th>\n",
       "      <th>-1_1</th>\n",
       "      <th>-1_0</th>\n",
       "    </tr>\n",
       "  </thead>\n",
       "  <tbody>\n",
       "    <tr>\n",
       "      <th>0</th>\n",
       "      <td>59b38c56de3836831ff90a77d892a13523b7494f6ed09ff7</td>\n",
       "      <td>1.0</td>\n",
       "      <td>NaN</td>\n",
       "      <td>NaN</td>\n",
       "      <td>NaN</td>\n",
       "      <td>NaN</td>\n",
       "      <td>NaN</td>\n",
       "      <td>NaN</td>\n",
       "      <td>NaN</td>\n",
       "      <td>NaN</td>\n",
       "      <td>NaN</td>\n",
       "    </tr>\n",
       "    <tr>\n",
       "      <th>1</th>\n",
       "      <td>da8691b210adb3f6be8064e006f220070565db287275ad38</td>\n",
       "      <td>0.0</td>\n",
       "      <td>NaN</td>\n",
       "      <td>NaN</td>\n",
       "      <td>NaN</td>\n",
       "      <td>NaN</td>\n",
       "      <td>NaN</td>\n",
       "      <td>NaN</td>\n",
       "      <td>NaN</td>\n",
       "      <td>NaN</td>\n",
       "      <td>NaN</td>\n",
       "    </tr>\n",
       "    <tr>\n",
       "      <th>2</th>\n",
       "      <td>82750f1b9d122350918121f97c99bf96e11aa24ee91504a9</td>\n",
       "      <td>0.0</td>\n",
       "      <td>NaN</td>\n",
       "      <td>NaN</td>\n",
       "      <td>NaN</td>\n",
       "      <td>NaN</td>\n",
       "      <td>NaN</td>\n",
       "      <td>NaN</td>\n",
       "      <td>NaN</td>\n",
       "      <td>NaN</td>\n",
       "      <td>NaN</td>\n",
       "    </tr>\n",
       "    <tr>\n",
       "      <th>3</th>\n",
       "      <td>f000950527a6feb6b2c6de6f85c1e7438ba5590be931e2ec</td>\n",
       "      <td>0.0</td>\n",
       "      <td>NaN</td>\n",
       "      <td>NaN</td>\n",
       "      <td>NaN</td>\n",
       "      <td>NaN</td>\n",
       "      <td>NaN</td>\n",
       "      <td>NaN</td>\n",
       "      <td>NaN</td>\n",
       "      <td>NaN</td>\n",
       "      <td>NaN</td>\n",
       "    </tr>\n",
       "    <tr>\n",
       "      <th>4</th>\n",
       "      <td>f1c1045b13d1832927e3743e49d2917f2d98424f0849a373</td>\n",
       "      <td>0.0</td>\n",
       "      <td>NaN</td>\n",
       "      <td>NaN</td>\n",
       "      <td>NaN</td>\n",
       "      <td>NaN</td>\n",
       "      <td>NaN</td>\n",
       "      <td>NaN</td>\n",
       "      <td>NaN</td>\n",
       "      <td>NaN</td>\n",
       "      <td>NaN</td>\n",
       "    </tr>\n",
       "  </tbody>\n",
       "</table>\n",
       "</div>"
      ],
      "text/plain": [
       "                                                 id  label  \\\n",
       "0  59b38c56de3836831ff90a77d892a13523b7494f6ed09ff7    1.0   \n",
       "1  da8691b210adb3f6be8064e006f220070565db287275ad38    0.0   \n",
       "2  82750f1b9d122350918121f97c99bf96e11aa24ee91504a9    0.0   \n",
       "3  f000950527a6feb6b2c6de6f85c1e7438ba5590be931e2ec    0.0   \n",
       "4  f1c1045b13d1832927e3743e49d2917f2d98424f0849a373    0.0   \n",
       "\n",
       "   positive_negtive_count  positive_negtive_nunique  positive_negtive_-1  \\\n",
       "0                     NaN                       NaN                  NaN   \n",
       "1                     NaN                       NaN                  NaN   \n",
       "2                     NaN                       NaN                  NaN   \n",
       "3                     NaN                       NaN                  NaN   \n",
       "4                     NaN                       NaN                  NaN   \n",
       "\n",
       "   positive_negtive_0  positive_negtive_1  rate_0  rate_1  -1_1  -1_0  \n",
       "0                 NaN                 NaN     NaN     NaN   NaN   NaN  \n",
       "1                 NaN                 NaN     NaN     NaN   NaN   NaN  \n",
       "2                 NaN                 NaN     NaN     NaN   NaN   NaN  \n",
       "3                 NaN                 NaN     NaN     NaN   NaN   NaN  \n",
       "4                 NaN                 NaN     NaN     NaN   NaN   NaN  "
      ]
     },
     "execution_count": 23,
     "metadata": {},
     "output_type": "execute_result"
    }
   ],
   "source": [
    "train.head()"
   ]
  },
  {
   "cell_type": "code",
   "execution_count": 24,
   "metadata": {
    "ExecuteTime": {
     "end_time": "2020-11-17T14:31:30.622728Z",
     "start_time": "2020-11-17T14:31:30.619729Z"
    }
   },
   "outputs": [],
   "source": [
    "# train['positive_negtive_mean'].notnull().sum(), test['positive_negtive_mean'].notnull().sum()"
   ]
  },
  {
   "cell_type": "code",
   "execution_count": 25,
   "metadata": {
    "ExecuteTime": {
     "end_time": "2020-11-17T14:31:30.638720Z",
     "start_time": "2020-11-17T14:31:30.625725Z"
    }
   },
   "outputs": [],
   "source": [
    "used_cols = [i for i in train.columns if i not in ['id', 'label']]\n",
    "y = train['label']\n",
    "train = train[used_cols]\n",
    "test = test[used_cols]"
   ]
  },
  {
   "cell_type": "code",
   "execution_count": 26,
   "metadata": {
    "ExecuteTime": {
     "end_time": "2020-11-17T14:31:30.659709Z",
     "start_time": "2020-11-17T14:31:30.645716Z"
    }
   },
   "outputs": [],
   "source": [
    "X_train, X_valid, y_train, y_valid = train_test_split(train, y, test_size=0.25, random_state=2020)"
   ]
  },
  {
   "cell_type": "code",
   "execution_count": 27,
   "metadata": {
    "ExecuteTime": {
     "end_time": "2020-11-17T14:31:33.104786Z",
     "start_time": "2020-11-17T14:31:30.662705Z"
    }
   },
   "outputs": [
    {
     "name": "stdout",
     "output_type": "stream",
     "text": [
      "positive_negtive_count\n",
      "Training until validation scores don't improve for 50 rounds\n",
      "Early stopping, best iteration is:\n",
      "[18]\ttraining's auc: 0.568496\tvalid_0's auc: 0.580506\n",
      "Evaluated only: auc\n",
      "**********\n",
      "0.5805057044271263\n",
      "positive_negtive_nunique\n",
      "Training until validation scores don't improve for 50 rounds\n",
      "Early stopping, best iteration is:\n",
      "[36]\ttraining's auc: 0.568482\tvalid_0's auc: 0.580411\n",
      "Evaluated only: auc\n",
      "**********\n",
      "0.5804112993443566\n",
      "positive_negtive_-1\n",
      "Training until validation scores don't improve for 50 rounds\n",
      "Early stopping, best iteration is:\n",
      "[52]\ttraining's auc: 0.568508\tvalid_0's auc: 0.580411\n",
      "Evaluated only: auc\n",
      "**********\n",
      "0.5804112993443566\n",
      "positive_negtive_0\n",
      "Training until validation scores don't improve for 50 rounds\n",
      "Early stopping, best iteration is:\n",
      "[45]\ttraining's auc: 0.568475\tvalid_0's auc: 0.580564\n",
      "Evaluated only: auc\n",
      "**********\n",
      "0.5805635275403228\n",
      "positive_negtive_1\n",
      "Training until validation scores don't improve for 50 rounds\n",
      "Early stopping, best iteration is:\n",
      "[8]\ttraining's auc: 0.568263\tvalid_0's auc: 0.58026\n",
      "Evaluated only: auc\n",
      "**********\n",
      "0.5802602512119253\n",
      "rate_0\n",
      "Training until validation scores don't improve for 50 rounds\n",
      "Early stopping, best iteration is:\n",
      "[9]\ttraining's auc: 0.568534\tvalid_0's auc: 0.580431\n",
      "Evaluated only: auc\n",
      "**********\n",
      "0.5804313604244452\n",
      "rate_1\n",
      "Training until validation scores don't improve for 50 rounds\n",
      "Early stopping, best iteration is:\n",
      "[27]\ttraining's auc: 0.568433\tvalid_0's auc: 0.580368\n",
      "Evaluated only: auc\n",
      "**********\n",
      "0.5803676369935757\n",
      "-1_1\n",
      "Training until validation scores don't improve for 50 rounds\n",
      "Early stopping, best iteration is:\n",
      "[47]\ttraining's auc: 0.557087\tvalid_0's auc: 0.561995\n",
      "Evaluated only: auc\n",
      "**********\n",
      "0.5619946377912987\n",
      "-1_0\n",
      "Training until validation scores don't improve for 50 rounds\n",
      "Early stopping, best iteration is:\n",
      "[2]\ttraining's auc: 0.552966\tvalid_0's auc: 0.5621\n",
      "Evaluated only: auc\n",
      "**********\n",
      "0.5621002534776472\n",
      "AUC useless_cols: \n",
      " []\n"
     ]
    }
   ],
   "source": [
    "cols = X_train.columns\n",
    "useful_dict, useless_dict, useful_cols, useless_cols = auc_select(X_train, y_train, X_valid, y_valid, cols, threshold=0.52)\n",
    "print('AUC useless_cols: \\n', useless_cols)"
   ]
  },
  {
   "cell_type": "code",
   "execution_count": 28,
   "metadata": {
    "ExecuteTime": {
     "end_time": "2020-11-17T14:31:33.113781Z",
     "start_time": "2020-11-17T14:31:33.106784Z"
    }
   },
   "outputs": [],
   "source": [
    "dtrain = lgb.Dataset(X_train, y_train)\n",
    "dvalid = lgb.Dataset(X_valid, y_valid, reference=dtrain)"
   ]
  },
  {
   "cell_type": "code",
   "execution_count": 29,
   "metadata": {
    "ExecuteTime": {
     "end_time": "2020-11-17T14:31:33.405613Z",
     "start_time": "2020-11-17T14:31:33.115779Z"
    }
   },
   "outputs": [
    {
     "name": "stdout",
     "output_type": "stream",
     "text": [
      "Training until validation scores don't improve for 50 rounds\n",
      "Early stopping, best iteration is:\n",
      "[34]\ttraining's auc: 0.568783\tvalid_1's auc: 0.580468\n",
      "Evaluated only: auc\n"
     ]
    }
   ],
   "source": [
    "params = {\n",
    "    'objective': 'binary',\n",
    "    'boosting': 'gbdt',\n",
    "    'metric': 'auc',\n",
    "#     'metric': 'None',  # 用自定义评估函数是将metric设置为'None'\n",
    "    'learning_rate': 0.1,\n",
    "    'num_leaves': 31,\n",
    "    'lambda_l1': 0,\n",
    "    'lambda_l2': 1,\n",
    "    'num_threads': 23,\n",
    "    'min_data_in_leaf': 20,\n",
    "    'first_metric_only': True,\n",
    "    'is_unbalance': True,\n",
    "    'max_depth': -1,\n",
    "    'seed': 2020\n",
    "}\n",
    "\n",
    "valid_model = lgb.train(\n",
    "    params,\n",
    "    dtrain,\n",
    "    valid_sets=[dtrain, dvalid],\n",
    "    early_stopping_rounds=50,\n",
    "    verbose_eval=300 \n",
    ")"
   ]
  },
  {
   "cell_type": "code",
   "execution_count": 30,
   "metadata": {
    "ExecuteTime": {
     "end_time": "2020-11-17T14:31:33.461587Z",
     "start_time": "2020-11-17T14:31:33.413607Z"
    }
   },
   "outputs": [
    {
     "data": {
      "text/html": [
       "<div>\n",
       "<style scoped>\n",
       "    .dataframe tbody tr th:only-of-type {\n",
       "        vertical-align: middle;\n",
       "    }\n",
       "\n",
       "    .dataframe tbody tr th {\n",
       "        vertical-align: top;\n",
       "    }\n",
       "\n",
       "    .dataframe thead th {\n",
       "        text-align: right;\n",
       "    }\n",
       "</style>\n",
       "<table border=\"1\" class=\"dataframe\">\n",
       "  <thead>\n",
       "    <tr style=\"text-align: right;\">\n",
       "      <th></th>\n",
       "      <th>feature_name</th>\n",
       "      <th>importance</th>\n",
       "      <th>normalized_importance</th>\n",
       "      <th>cumulative_importance</th>\n",
       "    </tr>\n",
       "  </thead>\n",
       "  <tbody>\n",
       "    <tr>\n",
       "      <th>2</th>\n",
       "      <td>positive_negtive_-1</td>\n",
       "      <td>7129.397660</td>\n",
       "      <td>0.925410</td>\n",
       "      <td>0.925410</td>\n",
       "    </tr>\n",
       "    <tr>\n",
       "      <th>7</th>\n",
       "      <td>-1_1</td>\n",
       "      <td>194.428056</td>\n",
       "      <td>0.025237</td>\n",
       "      <td>0.950647</td>\n",
       "    </tr>\n",
       "    <tr>\n",
       "      <th>0</th>\n",
       "      <td>positive_negtive_count</td>\n",
       "      <td>160.384492</td>\n",
       "      <td>0.020818</td>\n",
       "      <td>0.971465</td>\n",
       "    </tr>\n",
       "    <tr>\n",
       "      <th>6</th>\n",
       "      <td>rate_1</td>\n",
       "      <td>66.954082</td>\n",
       "      <td>0.008691</td>\n",
       "      <td>0.980156</td>\n",
       "    </tr>\n",
       "    <tr>\n",
       "      <th>4</th>\n",
       "      <td>positive_negtive_1</td>\n",
       "      <td>54.558284</td>\n",
       "      <td>0.007082</td>\n",
       "      <td>0.987238</td>\n",
       "    </tr>\n",
       "    <tr>\n",
       "      <th>3</th>\n",
       "      <td>positive_negtive_0</td>\n",
       "      <td>47.540589</td>\n",
       "      <td>0.006171</td>\n",
       "      <td>0.993409</td>\n",
       "    </tr>\n",
       "    <tr>\n",
       "      <th>8</th>\n",
       "      <td>-1_0</td>\n",
       "      <td>21.579137</td>\n",
       "      <td>0.002801</td>\n",
       "      <td>0.996210</td>\n",
       "    </tr>\n",
       "    <tr>\n",
       "      <th>1</th>\n",
       "      <td>positive_negtive_nunique</td>\n",
       "      <td>16.319535</td>\n",
       "      <td>0.002118</td>\n",
       "      <td>0.998328</td>\n",
       "    </tr>\n",
       "    <tr>\n",
       "      <th>5</th>\n",
       "      <td>rate_0</td>\n",
       "      <td>12.881613</td>\n",
       "      <td>0.001672</td>\n",
       "      <td>1.000000</td>\n",
       "    </tr>\n",
       "  </tbody>\n",
       "</table>\n",
       "</div>"
      ],
      "text/plain": [
       "               feature_name   importance  normalized_importance  \\\n",
       "2       positive_negtive_-1  7129.397660               0.925410   \n",
       "7                      -1_1   194.428056               0.025237   \n",
       "0    positive_negtive_count   160.384492               0.020818   \n",
       "6                    rate_1    66.954082               0.008691   \n",
       "4        positive_negtive_1    54.558284               0.007082   \n",
       "3        positive_negtive_0    47.540589               0.006171   \n",
       "8                      -1_0    21.579137               0.002801   \n",
       "1  positive_negtive_nunique    16.319535               0.002118   \n",
       "5                    rate_0    12.881613               0.001672   \n",
       "\n",
       "   cumulative_importance  \n",
       "2               0.925410  \n",
       "7               0.950647  \n",
       "0               0.971465  \n",
       "6               0.980156  \n",
       "4               0.987238  \n",
       "3               0.993409  \n",
       "8               0.996210  \n",
       "1               0.998328  \n",
       "5               1.000000  "
      ]
     },
     "execution_count": 30,
     "metadata": {},
     "output_type": "execute_result"
    }
   ],
   "source": [
    "importance = valid_model.feature_importance(importance_type='gain')\n",
    "feature_name = valid_model.feature_name()\n",
    "\n",
    "df_importance = pd.DataFrame({\n",
    "    'feature_name': feature_name,\n",
    "    'importance': importance\n",
    "}).sort_values(by='importance', ascending=False)\n",
    "df_importance['normalized_importance'] = df_importance['importance'] / df_importance['importance'].sum()\n",
    "df_importance['cumulative_importance'] = np.cumsum(df_importance['normalized_importance'])\n",
    "df_importance"
   ]
  }
 ],
 "metadata": {
  "kernelspec": {
   "display_name": "Python 3",
   "language": "python",
   "name": "python3"
  },
  "language_info": {
   "codemirror_mode": {
    "name": "ipython",
    "version": 3
   },
   "file_extension": ".py",
   "mimetype": "text/x-python",
   "name": "python",
   "nbconvert_exporter": "python",
   "pygments_lexer": "ipython3",
   "version": "3.7.3"
  },
  "toc": {
   "base_numbering": 1,
   "nav_menu": {},
   "number_sections": true,
   "sideBar": true,
   "skip_h1_title": false,
   "title_cell": "Table of Contents",
   "title_sidebar": "Contents",
   "toc_cell": false,
   "toc_position": {},
   "toc_section_display": true,
   "toc_window_display": false
  }
 },
 "nbformat": 4,
 "nbformat_minor": 4
}
