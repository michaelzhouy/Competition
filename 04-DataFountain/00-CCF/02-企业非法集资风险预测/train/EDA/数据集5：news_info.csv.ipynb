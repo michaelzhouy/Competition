{
 "cells": [
  {
   "cell_type": "code",
   "execution_count": 1,
   "metadata": {
    "ExecuteTime": {
     "end_time": "2020-11-18T08:31:14.258004Z",
     "start_time": "2020-11-18T08:31:13.450773Z"
    }
   },
   "outputs": [],
   "source": [
    "import numpy as np\n",
    "import pandas as pd\n",
    "from tqdm import tqdm\n",
    "from sklearn.model_selection import train_test_split\n",
    "import lightgbm as lgb\n",
    "import warnings\n",
    "warnings.filterwarnings('ignore')\n",
    "from util import *"
   ]
  },
  {
   "cell_type": "code",
   "execution_count": 2,
   "metadata": {
    "ExecuteTime": {
     "end_time": "2020-11-18T08:31:14.286484Z",
     "start_time": "2020-11-18T08:31:14.258962Z"
    }
   },
   "outputs": [],
   "source": [
    "data = pd.read_csv('../../input/data.csv')"
   ]
  },
  {
   "cell_type": "code",
   "execution_count": 3,
   "metadata": {
    "ExecuteTime": {
     "end_time": "2020-11-18T08:31:14.309384Z",
     "start_time": "2020-11-18T08:31:14.288401Z"
    }
   },
   "outputs": [
    {
     "name": "stdout",
     "output_type": "stream",
     "text": [
      "(10518, 3)\n",
      "<class 'pandas.core.frame.DataFrame'>\n",
      "RangeIndex: 10518 entries, 0 to 10517\n",
      "Data columns (total 3 columns):\n",
      " #   Column            Non-Null Count  Dtype \n",
      "---  ------            --------------  ----- \n",
      " 0   id                10518 non-null  object\n",
      " 1   positive_negtive  10518 non-null  object\n",
      " 2   public_date       10518 non-null  object\n",
      "dtypes: object(3)\n",
      "memory usage: 246.6+ KB\n"
     ]
    }
   ],
   "source": [
    "# 数据集5：news_info.csv\n",
    "# 包含数据集7和8中涉及到的企业的新闻舆情信息，每一行代表一个企业新闻舆情，每一行3列，其中id列为企业唯一标识，列之间采用“,”分隔符分割。\n",
    "# 数据格式如下：\n",
    "# [id:企业唯一标识, positive_negtive:新闻正负面性, public_date:发布日期]\n",
    "news_info = pd.read_csv('../../input/train/news_info.csv')\n",
    "print(news_info.shape)\n",
    "news_info.info()"
   ]
  },
  {
   "cell_type": "code",
   "execution_count": 4,
   "metadata": {
    "ExecuteTime": {
     "end_time": "2020-11-18T08:31:14.323307Z",
     "start_time": "2020-11-18T08:31:14.310343Z"
    }
   },
   "outputs": [
    {
     "data": {
      "text/html": [
       "<div>\n",
       "<style scoped>\n",
       "    .dataframe tbody tr th:only-of-type {\n",
       "        vertical-align: middle;\n",
       "    }\n",
       "\n",
       "    .dataframe tbody tr th {\n",
       "        vertical-align: top;\n",
       "    }\n",
       "\n",
       "    .dataframe thead th {\n",
       "        text-align: right;\n",
       "    }\n",
       "</style>\n",
       "<table border=\"1\" class=\"dataframe\">\n",
       "  <thead>\n",
       "    <tr style=\"text-align: right;\">\n",
       "      <th></th>\n",
       "      <th>id</th>\n",
       "      <th>positive_negtive</th>\n",
       "      <th>public_date</th>\n",
       "    </tr>\n",
       "  </thead>\n",
       "  <tbody>\n",
       "    <tr>\n",
       "      <th>0</th>\n",
       "      <td>f000950527a6feb62669d6a175fe6fdccd1eb4f7ca8e5016</td>\n",
       "      <td>积极</td>\n",
       "      <td>2016-12-30</td>\n",
       "    </tr>\n",
       "    <tr>\n",
       "      <th>1</th>\n",
       "      <td>f000950527a6feb6e8bd9919e2ca363359bcfa997a0f9de7</td>\n",
       "      <td>中立</td>\n",
       "      <td>2017-08-09</td>\n",
       "    </tr>\n",
       "    <tr>\n",
       "      <th>2</th>\n",
       "      <td>f000950527a6feb6e8bd9919e2ca363359bcfa997a0f9de7</td>\n",
       "      <td>消极</td>\n",
       "      <td>2016-02-29</td>\n",
       "    </tr>\n",
       "    <tr>\n",
       "      <th>3</th>\n",
       "      <td>d8071a739aa75a3bcf6fb0041ee883243251d30025ab9d45</td>\n",
       "      <td>中立</td>\n",
       "      <td>2018-06-08</td>\n",
       "    </tr>\n",
       "    <tr>\n",
       "      <th>4</th>\n",
       "      <td>f000950527a6feb6d71de3382afa0bc5ff87bb65477f698a</td>\n",
       "      <td>积极</td>\n",
       "      <td>2015-06-29</td>\n",
       "    </tr>\n",
       "  </tbody>\n",
       "</table>\n",
       "</div>"
      ],
      "text/plain": [
       "                                                 id positive_negtive  \\\n",
       "0  f000950527a6feb62669d6a175fe6fdccd1eb4f7ca8e5016               积极   \n",
       "1  f000950527a6feb6e8bd9919e2ca363359bcfa997a0f9de7               中立   \n",
       "2  f000950527a6feb6e8bd9919e2ca363359bcfa997a0f9de7               消极   \n",
       "3  d8071a739aa75a3bcf6fb0041ee883243251d30025ab9d45               中立   \n",
       "4  f000950527a6feb6d71de3382afa0bc5ff87bb65477f698a               积极   \n",
       "\n",
       "  public_date  \n",
       "0  2016-12-30  \n",
       "1  2017-08-09  \n",
       "2  2016-02-29  \n",
       "3  2018-06-08  \n",
       "4  2015-06-29  "
      ]
     },
     "execution_count": 4,
     "metadata": {},
     "output_type": "execute_result"
    }
   ],
   "source": [
    "news_info.head()"
   ]
  },
  {
   "cell_type": "code",
   "execution_count": 5,
   "metadata": {
    "ExecuteTime": {
     "end_time": "2020-11-18T08:31:14.330327Z",
     "start_time": "2020-11-18T08:31:14.325302Z"
    }
   },
   "outputs": [
    {
     "data": {
      "text/plain": [
       "array(['积极', '中立', '消极'], dtype=object)"
      ]
     },
     "execution_count": 5,
     "metadata": {},
     "output_type": "execute_result"
    }
   ],
   "source": [
    "news_info['positive_negtive'].unique()"
   ]
  },
  {
   "cell_type": "code",
   "execution_count": 6,
   "metadata": {
    "ExecuteTime": {
     "end_time": "2020-11-18T08:31:14.337307Z",
     "start_time": "2020-11-18T08:31:14.332284Z"
    }
   },
   "outputs": [],
   "source": [
    "news_info['positive_negtive'] = news_info['positive_negtive'].map({'积极': 1, '中立': 0, '消极': -1})"
   ]
  },
  {
   "cell_type": "code",
   "execution_count": 7,
   "metadata": {
    "ExecuteTime": {
     "end_time": "2020-11-18T08:31:14.344284Z",
     "start_time": "2020-11-18T08:31:14.339301Z"
    }
   },
   "outputs": [],
   "source": [
    "def identify_missing(df, missing_threshold):\n",
    "    \"\"\"\n",
    "    缺失率\n",
    "    @param df:\n",
    "    @param missing_threshold:\n",
    "    @return:\n",
    "    \"\"\"\n",
    "    missing_rate = df.isnull().sum() / len(df)\n",
    "    missing_rate = missing_rate.sort_values(ascending=False)\n",
    "    print(missing_rate)\n",
    "    to_drop = missing_rate[missing_rate > missing_threshold].index.to_list()\n",
    "    print('{} features with greater than {} missing values.\\n'.format(len(to_drop), missing_threshold))\n",
    "    return to_drop"
   ]
  },
  {
   "cell_type": "code",
   "execution_count": 8,
   "metadata": {
    "ExecuteTime": {
     "end_time": "2020-11-18T08:31:14.364197Z",
     "start_time": "2020-11-18T08:31:14.346247Z"
    }
   },
   "outputs": [
    {
     "name": "stdout",
     "output_type": "stream",
     "text": [
      "public_date         0.0\n",
      "positive_negtive    0.0\n",
      "id                  0.0\n",
      "dtype: float64\n",
      "0 features with greater than 0.5 missing values.\n",
      "\n"
     ]
    },
    {
     "data": {
      "text/plain": [
       "[]"
      ]
     },
     "execution_count": 8,
     "metadata": {},
     "output_type": "execute_result"
    }
   ],
   "source": [
    "to_drop = identify_missing(news_info, missing_threshold=0.5)\n",
    "news_info.drop(to_drop, axis=1, inplace=True)\n",
    "to_drop"
   ]
  },
  {
   "cell_type": "code",
   "execution_count": 9,
   "metadata": {
    "ExecuteTime": {
     "end_time": "2020-11-18T08:31:14.372177Z",
     "start_time": "2020-11-18T08:31:14.365198Z"
    }
   },
   "outputs": [
    {
     "data": {
      "text/plain": [
       "927"
      ]
     },
     "execution_count": 9,
     "metadata": {},
     "output_type": "execute_result"
    }
   ],
   "source": [
    "news_info['id'].nunique()"
   ]
  },
  {
   "cell_type": "code",
   "execution_count": 10,
   "metadata": {
    "ExecuteTime": {
     "end_time": "2020-11-18T08:31:14.379196Z",
     "start_time": "2020-11-18T08:31:14.373176Z"
    }
   },
   "outputs": [
    {
     "data": {
      "text/plain": [
       "(927, 1)"
      ]
     },
     "execution_count": 10,
     "metadata": {},
     "output_type": "execute_result"
    }
   ],
   "source": [
    "df = pd.DataFrame(news_info['id'].unique())\n",
    "df.columns = ['id']\n",
    "df.shape"
   ]
  },
  {
   "cell_type": "code",
   "execution_count": 11,
   "metadata": {
    "ExecuteTime": {
     "end_time": "2020-11-18T08:31:14.400103Z",
     "start_time": "2020-11-18T08:31:14.381152Z"
    }
   },
   "outputs": [],
   "source": [
    "tmp = news_info.groupby('id', as_index=False)['positive_negtive'].agg({\n",
    "    'positive_negtive_mean': 'mean',\n",
    "    'positive_negtive_median': 'median',\n",
    "    'positive_negtive_sum': 'sum',\n",
    "    'positive_negtive_count': 'count',\n",
    "    'positive_negtive_max': 'max',\n",
    "    'positive_negtive_min': 'min',\n",
    "    'positive_negtive_nunique': 'nunique',\n",
    "})\n",
    "\n",
    "df = df.merge(tmp, on='id', how='left')"
   ]
  },
  {
   "cell_type": "code",
   "execution_count": 12,
   "metadata": {
    "ExecuteTime": {
     "end_time": "2020-11-18T08:31:14.405089Z",
     "start_time": "2020-11-18T08:31:14.401101Z"
    }
   },
   "outputs": [],
   "source": [
    "# tmp['positive_negtive_max'].unique(), tmp['positive_negtive_min'].unique(), tmp['positive_negtive_median'].unique()"
   ]
  },
  {
   "cell_type": "code",
   "execution_count": 13,
   "metadata": {
    "ExecuteTime": {
     "end_time": "2020-11-18T08:31:14.426084Z",
     "start_time": "2020-11-18T08:31:14.406087Z"
    }
   },
   "outputs": [],
   "source": [
    "news_info['tmp'] = 1\n",
    "tmp = news_info.pivot_table(values='tmp', index='id', columns='positive_negtive', aggfunc=np.sum).fillna(0)\n",
    "tmp.columns = ['positive_negtive_{}'.format(f) for f in tmp.columns]\n",
    "tmp.reset_index(inplace=True)\n",
    "\n",
    "df = df.merge(tmp, on='id', how='left')"
   ]
  },
  {
   "cell_type": "code",
   "execution_count": 14,
   "metadata": {
    "ExecuteTime": {
     "end_time": "2020-11-18T08:31:14.434067Z",
     "start_time": "2020-11-18T08:31:14.427086Z"
    }
   },
   "outputs": [],
   "source": [
    "# df['rate_-1'] = df['positive_negtive_-1'] / df['positive_negtive_count']\n",
    "df['rate_0'] = df['positive_negtive_0'] / df['positive_negtive_count']\n",
    "df['rate_1'] = df['positive_negtive_1'] / df['positive_negtive_count']\n",
    "\n",
    "df['-1_1'] = df['positive_negtive_-1'] / df['positive_negtive_1']\n",
    "df['-1_0'] = df['positive_negtive_-1'] / df['positive_negtive_0']"
   ]
  },
  {
   "cell_type": "code",
   "execution_count": 15,
   "metadata": {
    "ExecuteTime": {
     "end_time": "2020-11-18T08:31:14.451020Z",
     "start_time": "2020-11-18T08:31:14.435065Z"
    }
   },
   "outputs": [],
   "source": [
    "df.to_csv('../../input/news_info.csv', index=False)"
   ]
  },
  {
   "cell_type": "code",
   "execution_count": 16,
   "metadata": {
    "ExecuteTime": {
     "end_time": "2020-11-18T08:31:14.470978Z",
     "start_time": "2020-11-18T08:31:14.452020Z"
    }
   },
   "outputs": [
    {
     "data": {
      "text/html": [
       "<div>\n",
       "<style scoped>\n",
       "    .dataframe tbody tr th:only-of-type {\n",
       "        vertical-align: middle;\n",
       "    }\n",
       "\n",
       "    .dataframe tbody tr th {\n",
       "        vertical-align: top;\n",
       "    }\n",
       "\n",
       "    .dataframe thead th {\n",
       "        text-align: right;\n",
       "    }\n",
       "</style>\n",
       "<table border=\"1\" class=\"dataframe\">\n",
       "  <thead>\n",
       "    <tr style=\"text-align: right;\">\n",
       "      <th></th>\n",
       "      <th>positive_negtive_mean</th>\n",
       "      <th>positive_negtive_median</th>\n",
       "      <th>positive_negtive_sum</th>\n",
       "      <th>positive_negtive_count</th>\n",
       "      <th>positive_negtive_max</th>\n",
       "      <th>positive_negtive_min</th>\n",
       "      <th>positive_negtive_nunique</th>\n",
       "      <th>positive_negtive_-1</th>\n",
       "      <th>positive_negtive_0</th>\n",
       "      <th>positive_negtive_1</th>\n",
       "      <th>rate_0</th>\n",
       "      <th>rate_1</th>\n",
       "      <th>-1_1</th>\n",
       "      <th>-1_0</th>\n",
       "    </tr>\n",
       "  </thead>\n",
       "  <tbody>\n",
       "    <tr>\n",
       "      <th>positive_negtive_mean</th>\n",
       "      <td>1.000000</td>\n",
       "      <td>0.963434</td>\n",
       "      <td>0.128465</td>\n",
       "      <td>0.016699</td>\n",
       "      <td>0.847837</td>\n",
       "      <td>0.768828</td>\n",
       "      <td>-0.095085</td>\n",
       "      <td>-0.187449</td>\n",
       "      <td>-0.046453</td>\n",
       "      <td>0.090360</td>\n",
       "      <td>-0.522647</td>\n",
       "      <td>0.914908</td>\n",
       "      <td>-0.589384</td>\n",
       "      <td>-0.431417</td>\n",
       "    </tr>\n",
       "    <tr>\n",
       "      <th>positive_negtive_median</th>\n",
       "      <td>0.963434</td>\n",
       "      <td>1.000000</td>\n",
       "      <td>0.167701</td>\n",
       "      <td>0.058946</td>\n",
       "      <td>0.812398</td>\n",
       "      <td>0.672095</td>\n",
       "      <td>-0.024226</td>\n",
       "      <td>-0.157289</td>\n",
       "      <td>-0.012068</td>\n",
       "      <td>0.132982</td>\n",
       "      <td>-0.514904</td>\n",
       "      <td>0.886836</td>\n",
       "      <td>-0.517088</td>\n",
       "      <td>-0.376610</td>\n",
       "    </tr>\n",
       "    <tr>\n",
       "      <th>positive_negtive_sum</th>\n",
       "      <td>0.128465</td>\n",
       "      <td>0.167701</td>\n",
       "      <td>1.000000</td>\n",
       "      <td>0.896448</td>\n",
       "      <td>0.135636</td>\n",
       "      <td>-0.095845</td>\n",
       "      <td>0.216630</td>\n",
       "      <td>0.182840</td>\n",
       "      <td>0.725576</td>\n",
       "      <td>0.985618</td>\n",
       "      <td>-0.071981</td>\n",
       "      <td>0.119825</td>\n",
       "      <td>-0.082050</td>\n",
       "      <td>-0.062742</td>\n",
       "    </tr>\n",
       "    <tr>\n",
       "      <th>positive_negtive_count</th>\n",
       "      <td>0.016699</td>\n",
       "      <td>0.058946</td>\n",
       "      <td>0.896448</td>\n",
       "      <td>1.000000</td>\n",
       "      <td>0.121479</td>\n",
       "      <td>-0.208252</td>\n",
       "      <td>0.324135</td>\n",
       "      <td>0.562068</td>\n",
       "      <td>0.940853</td>\n",
       "      <td>0.951994</td>\n",
       "      <td>-0.015382</td>\n",
       "      <td>0.018429</td>\n",
       "      <td>0.081147</td>\n",
       "      <td>0.011592</td>\n",
       "    </tr>\n",
       "    <tr>\n",
       "      <th>positive_negtive_max</th>\n",
       "      <td>0.847837</td>\n",
       "      <td>0.812398</td>\n",
       "      <td>0.135636</td>\n",
       "      <td>0.121479</td>\n",
       "      <td>1.000000</td>\n",
       "      <td>0.430054</td>\n",
       "      <td>0.371103</td>\n",
       "      <td>0.014825</td>\n",
       "      <td>0.103375</td>\n",
       "      <td>0.131971</td>\n",
       "      <td>-0.474793</td>\n",
       "      <td>0.790690</td>\n",
       "      <td>NaN</td>\n",
       "      <td>-0.058375</td>\n",
       "    </tr>\n",
       "    <tr>\n",
       "      <th>positive_negtive_min</th>\n",
       "      <td>0.768828</td>\n",
       "      <td>0.672095</td>\n",
       "      <td>-0.095845</td>\n",
       "      <td>-0.208252</td>\n",
       "      <td>0.430054</td>\n",
       "      <td>1.000000</td>\n",
       "      <td>-0.665762</td>\n",
       "      <td>-0.288108</td>\n",
       "      <td>-0.238584</td>\n",
       "      <td>-0.140976</td>\n",
       "      <td>-0.354741</td>\n",
       "      <td>0.681113</td>\n",
       "      <td>-0.394437</td>\n",
       "      <td>-0.489021</td>\n",
       "    </tr>\n",
       "    <tr>\n",
       "      <th>positive_negtive_nunique</th>\n",
       "      <td>-0.095085</td>\n",
       "      <td>-0.024226</td>\n",
       "      <td>0.216630</td>\n",
       "      <td>0.324135</td>\n",
       "      <td>0.371103</td>\n",
       "      <td>-0.665762</td>\n",
       "      <td>1.000000</td>\n",
       "      <td>0.315632</td>\n",
       "      <td>0.342719</td>\n",
       "      <td>0.260960</td>\n",
       "      <td>-0.003635</td>\n",
       "      <td>-0.061744</td>\n",
       "      <td>0.387258</td>\n",
       "      <td>0.263417</td>\n",
       "    </tr>\n",
       "    <tr>\n",
       "      <th>positive_negtive_-1</th>\n",
       "      <td>-0.187449</td>\n",
       "      <td>-0.157289</td>\n",
       "      <td>0.182840</td>\n",
       "      <td>0.562068</td>\n",
       "      <td>0.014825</td>\n",
       "      <td>-0.288108</td>\n",
       "      <td>0.315632</td>\n",
       "      <td>1.000000</td>\n",
       "      <td>0.637680</td>\n",
       "      <td>0.346353</td>\n",
       "      <td>-0.009227</td>\n",
       "      <td>-0.120743</td>\n",
       "      <td>0.368631</td>\n",
       "      <td>0.240706</td>\n",
       "    </tr>\n",
       "    <tr>\n",
       "      <th>positive_negtive_0</th>\n",
       "      <td>-0.046453</td>\n",
       "      <td>-0.012068</td>\n",
       "      <td>0.725576</td>\n",
       "      <td>0.940853</td>\n",
       "      <td>0.103375</td>\n",
       "      <td>-0.238584</td>\n",
       "      <td>0.342719</td>\n",
       "      <td>0.637680</td>\n",
       "      <td>1.000000</td>\n",
       "      <td>0.801947</td>\n",
       "      <td>0.070790</td>\n",
       "      <td>-0.064522</td>\n",
       "      <td>0.143393</td>\n",
       "      <td>-0.001959</td>\n",
       "    </tr>\n",
       "    <tr>\n",
       "      <th>positive_negtive_1</th>\n",
       "      <td>0.090360</td>\n",
       "      <td>0.132982</td>\n",
       "      <td>0.985618</td>\n",
       "      <td>0.951994</td>\n",
       "      <td>0.131971</td>\n",
       "      <td>-0.140976</td>\n",
       "      <td>0.260960</td>\n",
       "      <td>0.346353</td>\n",
       "      <td>0.801947</td>\n",
       "      <td>1.000000</td>\n",
       "      <td>-0.070270</td>\n",
       "      <td>0.093581</td>\n",
       "      <td>-0.018481</td>\n",
       "      <td>-0.019669</td>\n",
       "    </tr>\n",
       "    <tr>\n",
       "      <th>rate_0</th>\n",
       "      <td>-0.522647</td>\n",
       "      <td>-0.514904</td>\n",
       "      <td>-0.071981</td>\n",
       "      <td>-0.015382</td>\n",
       "      <td>-0.474793</td>\n",
       "      <td>-0.354741</td>\n",
       "      <td>-0.003635</td>\n",
       "      <td>-0.009227</td>\n",
       "      <td>0.070790</td>\n",
       "      <td>-0.070270</td>\n",
       "      <td>1.000000</td>\n",
       "      <td>-0.822316</td>\n",
       "      <td>0.269479</td>\n",
       "      <td>-0.299540</td>\n",
       "    </tr>\n",
       "    <tr>\n",
       "      <th>rate_1</th>\n",
       "      <td>0.914908</td>\n",
       "      <td>0.886836</td>\n",
       "      <td>0.119825</td>\n",
       "      <td>0.018429</td>\n",
       "      <td>0.790690</td>\n",
       "      <td>0.681113</td>\n",
       "      <td>-0.061744</td>\n",
       "      <td>-0.120743</td>\n",
       "      <td>-0.064522</td>\n",
       "      <td>0.093581</td>\n",
       "      <td>-0.822316</td>\n",
       "      <td>1.000000</td>\n",
       "      <td>-0.478867</td>\n",
       "      <td>-0.110755</td>\n",
       "    </tr>\n",
       "    <tr>\n",
       "      <th>-1_1</th>\n",
       "      <td>-0.589384</td>\n",
       "      <td>-0.517088</td>\n",
       "      <td>-0.082050</td>\n",
       "      <td>0.081147</td>\n",
       "      <td>NaN</td>\n",
       "      <td>-0.394437</td>\n",
       "      <td>0.387258</td>\n",
       "      <td>0.368631</td>\n",
       "      <td>0.143393</td>\n",
       "      <td>-0.018481</td>\n",
       "      <td>0.269479</td>\n",
       "      <td>-0.478867</td>\n",
       "      <td>1.000000</td>\n",
       "      <td>0.512606</td>\n",
       "    </tr>\n",
       "    <tr>\n",
       "      <th>-1_0</th>\n",
       "      <td>-0.431417</td>\n",
       "      <td>-0.376610</td>\n",
       "      <td>-0.062742</td>\n",
       "      <td>0.011592</td>\n",
       "      <td>-0.058375</td>\n",
       "      <td>-0.489021</td>\n",
       "      <td>0.263417</td>\n",
       "      <td>0.240706</td>\n",
       "      <td>-0.001959</td>\n",
       "      <td>-0.019669</td>\n",
       "      <td>-0.299540</td>\n",
       "      <td>-0.110755</td>\n",
       "      <td>0.512606</td>\n",
       "      <td>1.000000</td>\n",
       "    </tr>\n",
       "  </tbody>\n",
       "</table>\n",
       "</div>"
      ],
      "text/plain": [
       "                          positive_negtive_mean  positive_negtive_median  \\\n",
       "positive_negtive_mean                  1.000000                 0.963434   \n",
       "positive_negtive_median                0.963434                 1.000000   \n",
       "positive_negtive_sum                   0.128465                 0.167701   \n",
       "positive_negtive_count                 0.016699                 0.058946   \n",
       "positive_negtive_max                   0.847837                 0.812398   \n",
       "positive_negtive_min                   0.768828                 0.672095   \n",
       "positive_negtive_nunique              -0.095085                -0.024226   \n",
       "positive_negtive_-1                   -0.187449                -0.157289   \n",
       "positive_negtive_0                    -0.046453                -0.012068   \n",
       "positive_negtive_1                     0.090360                 0.132982   \n",
       "rate_0                                -0.522647                -0.514904   \n",
       "rate_1                                 0.914908                 0.886836   \n",
       "-1_1                                  -0.589384                -0.517088   \n",
       "-1_0                                  -0.431417                -0.376610   \n",
       "\n",
       "                          positive_negtive_sum  positive_negtive_count  \\\n",
       "positive_negtive_mean                 0.128465                0.016699   \n",
       "positive_negtive_median               0.167701                0.058946   \n",
       "positive_negtive_sum                  1.000000                0.896448   \n",
       "positive_negtive_count                0.896448                1.000000   \n",
       "positive_negtive_max                  0.135636                0.121479   \n",
       "positive_negtive_min                 -0.095845               -0.208252   \n",
       "positive_negtive_nunique              0.216630                0.324135   \n",
       "positive_negtive_-1                   0.182840                0.562068   \n",
       "positive_negtive_0                    0.725576                0.940853   \n",
       "positive_negtive_1                    0.985618                0.951994   \n",
       "rate_0                               -0.071981               -0.015382   \n",
       "rate_1                                0.119825                0.018429   \n",
       "-1_1                                 -0.082050                0.081147   \n",
       "-1_0                                 -0.062742                0.011592   \n",
       "\n",
       "                          positive_negtive_max  positive_negtive_min  \\\n",
       "positive_negtive_mean                 0.847837              0.768828   \n",
       "positive_negtive_median               0.812398              0.672095   \n",
       "positive_negtive_sum                  0.135636             -0.095845   \n",
       "positive_negtive_count                0.121479             -0.208252   \n",
       "positive_negtive_max                  1.000000              0.430054   \n",
       "positive_negtive_min                  0.430054              1.000000   \n",
       "positive_negtive_nunique              0.371103             -0.665762   \n",
       "positive_negtive_-1                   0.014825             -0.288108   \n",
       "positive_negtive_0                    0.103375             -0.238584   \n",
       "positive_negtive_1                    0.131971             -0.140976   \n",
       "rate_0                               -0.474793             -0.354741   \n",
       "rate_1                                0.790690              0.681113   \n",
       "-1_1                                       NaN             -0.394437   \n",
       "-1_0                                 -0.058375             -0.489021   \n",
       "\n",
       "                          positive_negtive_nunique  positive_negtive_-1  \\\n",
       "positive_negtive_mean                    -0.095085            -0.187449   \n",
       "positive_negtive_median                  -0.024226            -0.157289   \n",
       "positive_negtive_sum                      0.216630             0.182840   \n",
       "positive_negtive_count                    0.324135             0.562068   \n",
       "positive_negtive_max                      0.371103             0.014825   \n",
       "positive_negtive_min                     -0.665762            -0.288108   \n",
       "positive_negtive_nunique                  1.000000             0.315632   \n",
       "positive_negtive_-1                       0.315632             1.000000   \n",
       "positive_negtive_0                        0.342719             0.637680   \n",
       "positive_negtive_1                        0.260960             0.346353   \n",
       "rate_0                                   -0.003635            -0.009227   \n",
       "rate_1                                   -0.061744            -0.120743   \n",
       "-1_1                                      0.387258             0.368631   \n",
       "-1_0                                      0.263417             0.240706   \n",
       "\n",
       "                          positive_negtive_0  positive_negtive_1    rate_0  \\\n",
       "positive_negtive_mean              -0.046453            0.090360 -0.522647   \n",
       "positive_negtive_median            -0.012068            0.132982 -0.514904   \n",
       "positive_negtive_sum                0.725576            0.985618 -0.071981   \n",
       "positive_negtive_count              0.940853            0.951994 -0.015382   \n",
       "positive_negtive_max                0.103375            0.131971 -0.474793   \n",
       "positive_negtive_min               -0.238584           -0.140976 -0.354741   \n",
       "positive_negtive_nunique            0.342719            0.260960 -0.003635   \n",
       "positive_negtive_-1                 0.637680            0.346353 -0.009227   \n",
       "positive_negtive_0                  1.000000            0.801947  0.070790   \n",
       "positive_negtive_1                  0.801947            1.000000 -0.070270   \n",
       "rate_0                              0.070790           -0.070270  1.000000   \n",
       "rate_1                             -0.064522            0.093581 -0.822316   \n",
       "-1_1                                0.143393           -0.018481  0.269479   \n",
       "-1_0                               -0.001959           -0.019669 -0.299540   \n",
       "\n",
       "                            rate_1      -1_1      -1_0  \n",
       "positive_negtive_mean     0.914908 -0.589384 -0.431417  \n",
       "positive_negtive_median   0.886836 -0.517088 -0.376610  \n",
       "positive_negtive_sum      0.119825 -0.082050 -0.062742  \n",
       "positive_negtive_count    0.018429  0.081147  0.011592  \n",
       "positive_negtive_max      0.790690       NaN -0.058375  \n",
       "positive_negtive_min      0.681113 -0.394437 -0.489021  \n",
       "positive_negtive_nunique -0.061744  0.387258  0.263417  \n",
       "positive_negtive_-1      -0.120743  0.368631  0.240706  \n",
       "positive_negtive_0       -0.064522  0.143393 -0.001959  \n",
       "positive_negtive_1        0.093581 -0.018481 -0.019669  \n",
       "rate_0                   -0.822316  0.269479 -0.299540  \n",
       "rate_1                    1.000000 -0.478867 -0.110755  \n",
       "-1_1                     -0.478867  1.000000  0.512606  \n",
       "-1_0                     -0.110755  0.512606  1.000000  "
      ]
     },
     "execution_count": 16,
     "metadata": {},
     "output_type": "execute_result"
    }
   ],
   "source": [
    "df.corr()"
   ]
  },
  {
   "cell_type": "code",
   "execution_count": 17,
   "metadata": {
    "ExecuteTime": {
     "end_time": "2020-11-18T08:31:14.486925Z",
     "start_time": "2020-11-18T08:31:14.471966Z"
    }
   },
   "outputs": [],
   "source": [
    "df.to_csv('../../input/news_info.csv', index=False)"
   ]
  },
  {
   "cell_type": "code",
   "execution_count": 18,
   "metadata": {
    "ExecuteTime": {
     "end_time": "2020-11-18T08:31:14.506871Z",
     "start_time": "2020-11-18T08:31:14.487923Z"
    }
   },
   "outputs": [],
   "source": [
    "data = data.merge(df, how='left', on='id')"
   ]
  },
  {
   "cell_type": "code",
   "execution_count": 19,
   "metadata": {
    "ExecuteTime": {
     "end_time": "2020-11-18T08:31:14.511858Z",
     "start_time": "2020-11-18T08:31:14.507869Z"
    }
   },
   "outputs": [],
   "source": [
    "# data['positive_negtive'].fillna(data['positive_negtive'].mean(), inplace=True)"
   ]
  },
  {
   "cell_type": "code",
   "execution_count": 20,
   "metadata": {
    "ExecuteTime": {
     "end_time": "2020-11-18T08:31:15.789441Z",
     "start_time": "2020-11-18T08:31:14.512855Z"
    }
   },
   "outputs": [
    {
     "name": "stdout",
     "output_type": "stream",
     "text": [
      "positive_negtive_mean\n",
      "Training until validation scores don't improve for 50 rounds\n",
      "Early stopping, best iteration is:\n",
      "[42]\ttraining's auc: 0.568555\tvalid_0's auc: 0.580369\n",
      "Evaluated only: auc\n",
      "**********\n",
      "0.5803694070888776\n",
      "positive_negtive_median\n",
      "Training until validation scores don't improve for 50 rounds\n",
      "Early stopping, best iteration is:\n",
      "[48]\ttraining's auc: 0.568313\tvalid_0's auc: 0.580381\n",
      "Evaluated only: auc\n",
      "**********\n",
      "0.5803806176924565\n",
      "positive_negtive_sum\n",
      "Training until validation scores don't improve for 50 rounds\n",
      "Early stopping, best iteration is:\n",
      "[6]\ttraining's auc: 0.568462\tvalid_0's auc: 0.580358\n",
      "Evaluated only: auc\n",
      "**********\n",
      "0.5803576064535314\n",
      "positive_negtive_count\n",
      "Training until validation scores don't improve for 50 rounds\n",
      "Early stopping, best iteration is:\n",
      "[18]\ttraining's auc: 0.568496\tvalid_0's auc: 0.580506\n",
      "Evaluated only: auc\n",
      "**********\n",
      "0.5805057044271263\n",
      "positive_negtive_max\n",
      "Training until validation scores don't improve for 50 rounds\n",
      "Early stopping, best iteration is:\n",
      "[20]\ttraining's auc: 0.568204\tvalid_0's auc: 0.58021\n",
      "Evaluated only: auc\n",
      "**********\n",
      "0.5802100985117039\n",
      "positive_negtive_min\n",
      "Training until validation scores don't improve for 50 rounds\n",
      "Early stopping, best iteration is:\n",
      "[32]\ttraining's auc: 0.568492\tvalid_0's auc: 0.58037\n",
      "Evaluated only: auc\n",
      "**********\n",
      "0.580369997120645\n",
      "positive_negtive_nunique\n",
      "Training until validation scores don't improve for 50 rounds\n",
      "Early stopping, best iteration is:\n",
      "[36]\ttraining's auc: 0.568482\tvalid_0's auc: 0.580411\n",
      "Evaluated only: auc\n",
      "**********\n",
      "0.5804112993443566\n",
      "positive_negtive_-1\n",
      "Training until validation scores don't improve for 50 rounds\n",
      "Early stopping, best iteration is:\n",
      "[52]\ttraining's auc: 0.568508\tvalid_0's auc: 0.580411\n",
      "Evaluated only: auc\n",
      "**********\n",
      "0.5804112993443566\n",
      "positive_negtive_0\n",
      "Training until validation scores don't improve for 50 rounds\n",
      "Early stopping, best iteration is:\n",
      "[45]\ttraining's auc: 0.568475\tvalid_0's auc: 0.580564\n",
      "Evaluated only: auc\n",
      "**********\n",
      "0.5805635275403228\n",
      "positive_negtive_1\n",
      "Training until validation scores don't improve for 50 rounds\n",
      "Early stopping, best iteration is:\n",
      "[8]\ttraining's auc: 0.568263\tvalid_0's auc: 0.58026\n",
      "Evaluated only: auc\n",
      "**********\n",
      "0.5802602512119253\n",
      "rate_0\n",
      "Training until validation scores don't improve for 50 rounds\n",
      "Early stopping, best iteration is:\n",
      "[9]\ttraining's auc: 0.568534\tvalid_0's auc: 0.580431\n",
      "Evaluated only: auc\n",
      "**********\n",
      "0.5804313604244452\n",
      "rate_1\n",
      "Training until validation scores don't improve for 50 rounds\n",
      "Early stopping, best iteration is:\n",
      "[27]\ttraining's auc: 0.568433\tvalid_0's auc: 0.580368\n",
      "Evaluated only: auc\n",
      "**********\n",
      "0.5803676369935757\n",
      "-1_1\n",
      "Training until validation scores don't improve for 50 rounds\n",
      "Early stopping, best iteration is:\n",
      "[47]\ttraining's auc: 0.557087\tvalid_0's auc: 0.561995\n",
      "Evaluated only: auc\n",
      "**********\n",
      "0.5619946377912987\n",
      "-1_0\n",
      "Training until validation scores don't improve for 50 rounds\n",
      "Early stopping, best iteration is:\n",
      "[2]\ttraining's auc: 0.552966\tvalid_0's auc: 0.5621\n",
      "Evaluated only: auc\n",
      "**********\n",
      "0.5621002534776472\n",
      "AUC useless_cols: \n",
      " []\n",
      "Training until validation scores don't improve for 50 rounds\n",
      "Early stopping, best iteration is:\n",
      "[9]\ttraining's auc: 0.568668\tvalid_1's auc: 0.580465\n",
      "Evaluated only: auc\n"
     ]
    }
   ],
   "source": [
    "train = data[data['label'].notnull()]\n",
    "test = data[data['label'].isnull()]\n",
    "train.shape, test.shape\n",
    "\n",
    "used_cols = [i for i in train.columns if i not in ['id', 'label']]\n",
    "y = train['label']\n",
    "train = train[used_cols]\n",
    "test = test[used_cols]\n",
    "\n",
    "X_train, X_valid, y_train, y_valid = train_test_split(train, y, test_size=0.25, random_state=2020)\n",
    "\n",
    "cols = X_train.columns\n",
    "useful_dict, useless_dict, useful_cols, useless_cols = auc_select(X_train, y_train, X_valid, y_valid, cols, threshold=0.52)\n",
    "print('AUC useless_cols: \\n', useless_cols)\n",
    "\n",
    "dtrain = lgb.Dataset(X_train, y_train)\n",
    "dvalid = lgb.Dataset(X_valid, y_valid, reference=dtrain)\n",
    "\n",
    "params = {\n",
    "    'objective': 'binary',\n",
    "    'boosting': 'gbdt',\n",
    "    'metric': 'auc',\n",
    "#     'metric': 'None',  # 用自定义评估函数是将metric设置为'None'\n",
    "    'learning_rate': 0.1,\n",
    "    'num_leaves': 31,\n",
    "    'lambda_l1': 0,\n",
    "    'lambda_l2': 1,\n",
    "    'num_threads': 23,\n",
    "    'min_data_in_leaf': 20,\n",
    "    'first_metric_only': True,\n",
    "    'is_unbalance': True,\n",
    "    'max_depth': -1,\n",
    "    'seed': 2020\n",
    "}\n",
    "\n",
    "valid_model = lgb.train(\n",
    "    params,\n",
    "    dtrain,\n",
    "    valid_sets=[dtrain, dvalid],\n",
    "    early_stopping_rounds=50,\n",
    "    verbose_eval=300 \n",
    ")\n",
    "\n"
   ]
  },
  {
   "cell_type": "code",
   "execution_count": 21,
   "metadata": {
    "ExecuteTime": {
     "end_time": "2020-11-18T08:31:15.815372Z",
     "start_time": "2020-11-18T08:31:15.791436Z"
    },
    "scrolled": true
   },
   "outputs": [
    {
     "data": {
      "text/html": [
       "<div>\n",
       "<style scoped>\n",
       "    .dataframe tbody tr th:only-of-type {\n",
       "        vertical-align: middle;\n",
       "    }\n",
       "\n",
       "    .dataframe tbody tr th {\n",
       "        vertical-align: top;\n",
       "    }\n",
       "\n",
       "    .dataframe thead th {\n",
       "        text-align: right;\n",
       "    }\n",
       "</style>\n",
       "<table border=\"1\" class=\"dataframe\">\n",
       "  <thead>\n",
       "    <tr style=\"text-align: right;\">\n",
       "      <th></th>\n",
       "      <th>feature_name</th>\n",
       "      <th>importance</th>\n",
       "      <th>normalized_importance</th>\n",
       "      <th>cumulative_importance</th>\n",
       "    </tr>\n",
       "  </thead>\n",
       "  <tbody>\n",
       "    <tr>\n",
       "      <th>7</th>\n",
       "      <td>positive_negtive_-1</td>\n",
       "      <td>5833.171829</td>\n",
       "      <td>0.967642</td>\n",
       "      <td>0.967642</td>\n",
       "    </tr>\n",
       "    <tr>\n",
       "      <th>12</th>\n",
       "      <td>-1_1</td>\n",
       "      <td>159.559006</td>\n",
       "      <td>0.026469</td>\n",
       "      <td>0.994111</td>\n",
       "    </tr>\n",
       "    <tr>\n",
       "      <th>5</th>\n",
       "      <td>positive_negtive_min</td>\n",
       "      <td>20.015460</td>\n",
       "      <td>0.003320</td>\n",
       "      <td>0.997431</td>\n",
       "    </tr>\n",
       "    <tr>\n",
       "      <th>11</th>\n",
       "      <td>rate_1</td>\n",
       "      <td>5.939357</td>\n",
       "      <td>0.000985</td>\n",
       "      <td>0.998417</td>\n",
       "    </tr>\n",
       "    <tr>\n",
       "      <th>3</th>\n",
       "      <td>positive_negtive_count</td>\n",
       "      <td>3.959310</td>\n",
       "      <td>0.000657</td>\n",
       "      <td>0.999073</td>\n",
       "    </tr>\n",
       "    <tr>\n",
       "      <th>6</th>\n",
       "      <td>positive_negtive_nunique</td>\n",
       "      <td>3.435300</td>\n",
       "      <td>0.000570</td>\n",
       "      <td>0.999643</td>\n",
       "    </tr>\n",
       "    <tr>\n",
       "      <th>8</th>\n",
       "      <td>positive_negtive_0</td>\n",
       "      <td>1.599142</td>\n",
       "      <td>0.000265</td>\n",
       "      <td>0.999909</td>\n",
       "    </tr>\n",
       "    <tr>\n",
       "      <th>13</th>\n",
       "      <td>-1_0</td>\n",
       "      <td>0.551490</td>\n",
       "      <td>0.000091</td>\n",
       "      <td>1.000000</td>\n",
       "    </tr>\n",
       "    <tr>\n",
       "      <th>0</th>\n",
       "      <td>positive_negtive_mean</td>\n",
       "      <td>0.000000</td>\n",
       "      <td>0.000000</td>\n",
       "      <td>1.000000</td>\n",
       "    </tr>\n",
       "    <tr>\n",
       "      <th>1</th>\n",
       "      <td>positive_negtive_median</td>\n",
       "      <td>0.000000</td>\n",
       "      <td>0.000000</td>\n",
       "      <td>1.000000</td>\n",
       "    </tr>\n",
       "    <tr>\n",
       "      <th>2</th>\n",
       "      <td>positive_negtive_sum</td>\n",
       "      <td>0.000000</td>\n",
       "      <td>0.000000</td>\n",
       "      <td>1.000000</td>\n",
       "    </tr>\n",
       "    <tr>\n",
       "      <th>4</th>\n",
       "      <td>positive_negtive_max</td>\n",
       "      <td>0.000000</td>\n",
       "      <td>0.000000</td>\n",
       "      <td>1.000000</td>\n",
       "    </tr>\n",
       "    <tr>\n",
       "      <th>9</th>\n",
       "      <td>positive_negtive_1</td>\n",
       "      <td>0.000000</td>\n",
       "      <td>0.000000</td>\n",
       "      <td>1.000000</td>\n",
       "    </tr>\n",
       "    <tr>\n",
       "      <th>10</th>\n",
       "      <td>rate_0</td>\n",
       "      <td>0.000000</td>\n",
       "      <td>0.000000</td>\n",
       "      <td>1.000000</td>\n",
       "    </tr>\n",
       "  </tbody>\n",
       "</table>\n",
       "</div>"
      ],
      "text/plain": [
       "                feature_name   importance  normalized_importance  \\\n",
       "7        positive_negtive_-1  5833.171829               0.967642   \n",
       "12                      -1_1   159.559006               0.026469   \n",
       "5       positive_negtive_min    20.015460               0.003320   \n",
       "11                    rate_1     5.939357               0.000985   \n",
       "3     positive_negtive_count     3.959310               0.000657   \n",
       "6   positive_negtive_nunique     3.435300               0.000570   \n",
       "8         positive_negtive_0     1.599142               0.000265   \n",
       "13                      -1_0     0.551490               0.000091   \n",
       "0      positive_negtive_mean     0.000000               0.000000   \n",
       "1    positive_negtive_median     0.000000               0.000000   \n",
       "2       positive_negtive_sum     0.000000               0.000000   \n",
       "4       positive_negtive_max     0.000000               0.000000   \n",
       "9         positive_negtive_1     0.000000               0.000000   \n",
       "10                    rate_0     0.000000               0.000000   \n",
       "\n",
       "    cumulative_importance  \n",
       "7                0.967642  \n",
       "12               0.994111  \n",
       "5                0.997431  \n",
       "11               0.998417  \n",
       "3                0.999073  \n",
       "6                0.999643  \n",
       "8                0.999909  \n",
       "13               1.000000  \n",
       "0                1.000000  \n",
       "1                1.000000  \n",
       "2                1.000000  \n",
       "4                1.000000  \n",
       "9                1.000000  \n",
       "10               1.000000  "
      ]
     },
     "execution_count": 21,
     "metadata": {},
     "output_type": "execute_result"
    }
   ],
   "source": [
    "importance = valid_model.feature_importance(importance_type='gain')\n",
    "feature_name = valid_model.feature_name()\n",
    "\n",
    "df_importance = pd.DataFrame({\n",
    "    'feature_name': feature_name,\n",
    "    'importance': importance\n",
    "}).sort_values(by='importance', ascending=False)\n",
    "df_importance['normalized_importance'] = df_importance['importance'] / df_importance['importance'].sum()\n",
    "df_importance['cumulative_importance'] = np.cumsum(df_importance['normalized_importance'])\n",
    "df_importance"
   ]
  },
  {
   "cell_type": "code",
   "execution_count": 22,
   "metadata": {
    "ExecuteTime": {
     "end_time": "2020-11-18T08:31:15.854269Z",
     "start_time": "2020-11-18T08:31:15.819362Z"
    }
   },
   "outputs": [
    {
     "name": "stdout",
     "output_type": "stream",
     "text": [
      "['positive_negtive_mean', 'positive_negtive_median', 'positive_negtive_sum', 'positive_negtive_max', 'positive_negtive_1', 'rate_0']\n"
     ]
    }
   ],
   "source": [
    "record_low_importance = df_importance[df_importance['importance'] == 0.0]\n",
    "to_drop = list(record_low_importance['feature_name'])\n",
    "print(to_drop)\n",
    "\n",
    "df.drop(to_drop, axis=1, inplace=True)\n",
    "df.to_csv('../../input/change_info.csv', index=False)"
   ]
  }
 ],
 "metadata": {
  "kernelspec": {
   "display_name": "Python 3",
   "language": "python",
   "name": "python3"
  },
  "language_info": {
   "codemirror_mode": {
    "name": "ipython",
    "version": 3
   },
   "file_extension": ".py",
   "mimetype": "text/x-python",
   "name": "python",
   "nbconvert_exporter": "python",
   "pygments_lexer": "ipython3",
   "version": "3.7.3"
  },
  "toc": {
   "base_numbering": 1,
   "nav_menu": {},
   "number_sections": true,
   "sideBar": true,
   "skip_h1_title": false,
   "title_cell": "Table of Contents",
   "title_sidebar": "Contents",
   "toc_cell": false,
   "toc_position": {},
   "toc_section_display": true,
   "toc_window_display": false
  }
 },
 "nbformat": 4,
 "nbformat_minor": 4
}
