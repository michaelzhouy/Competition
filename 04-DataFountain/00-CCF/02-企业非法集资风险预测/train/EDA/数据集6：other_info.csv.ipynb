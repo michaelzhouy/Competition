{
 "cells": [
  {
   "cell_type": "code",
   "execution_count": 1,
   "metadata": {
    "ExecuteTime": {
     "end_time": "2020-11-18T02:09:23.682379Z",
     "start_time": "2020-11-18T02:09:22.610319Z"
    }
   },
   "outputs": [],
   "source": [
    "import numpy as np\n",
    "import pandas as pd\n",
    "from tqdm import tqdm\n",
    "from sklearn.model_selection import train_test_split\n",
    "import lightgbm as lgb\n",
    "import warnings\n",
    "warnings.filterwarnings('ignore')\n",
    "from util import *"
   ]
  },
  {
   "cell_type": "code",
   "execution_count": 2,
   "metadata": {
    "ExecuteTime": {
     "end_time": "2020-11-18T02:09:23.716240Z",
     "start_time": "2020-11-18T02:09:23.682379Z"
    }
   },
   "outputs": [],
   "source": [
    "data = pd.read_csv('../../input/data.csv')"
   ]
  },
  {
   "cell_type": "code",
   "execution_count": 3,
   "metadata": {
    "ExecuteTime": {
     "end_time": "2020-11-18T02:09:23.738239Z",
     "start_time": "2020-11-18T02:09:23.718227Z"
    }
   },
   "outputs": [
    {
     "name": "stdout",
     "output_type": "stream",
     "text": [
      "(1890, 4)\n",
      "<class 'pandas.core.frame.DataFrame'>\n",
      "RangeIndex: 1890 entries, 0 to 1889\n",
      "Data columns (total 4 columns):\n",
      " #   Column              Non-Null Count  Dtype  \n",
      "---  ------              --------------  -----  \n",
      " 0   id                  1890 non-null   object \n",
      " 1   legal_judgment_num  1006 non-null   float64\n",
      " 2   brand_num           909 non-null    float64\n",
      " 3   patent_num          396 non-null    float64\n",
      "dtypes: float64(3), object(1)\n",
      "memory usage: 59.2+ KB\n"
     ]
    }
   ],
   "source": [
    "# 数据集6：other_info.csv\n",
    "# 包含数据集7和8中涉及到的企业的其他信息，每一行代表一个企业其他信息，每一行4列，其中id列为企业唯一标识，列之间采用“,”分隔符分割。\n",
    "# 数据格式如下：\n",
    "# [id:企业唯一标识, legal_judgment_num:裁判文书数量, brand_num:注册商标数量, patent_num:专利数量]\n",
    "other_info = pd.read_csv('../../input/train/other_info.csv')\n",
    "print(other_info.shape)\n",
    "other_info.info()"
   ]
  },
  {
   "cell_type": "code",
   "execution_count": 4,
   "metadata": {
    "ExecuteTime": {
     "end_time": "2020-11-18T02:09:23.748216Z",
     "start_time": "2020-11-18T02:09:23.739200Z"
    }
   },
   "outputs": [
    {
     "data": {
      "text/plain": [
       "1888"
      ]
     },
     "execution_count": 4,
     "metadata": {},
     "output_type": "execute_result"
    }
   ],
   "source": [
    "other_info['id'].nunique()"
   ]
  },
  {
   "cell_type": "code",
   "execution_count": 5,
   "metadata": {
    "ExecuteTime": {
     "end_time": "2020-11-18T02:09:23.758150Z",
     "start_time": "2020-11-18T02:09:23.749173Z"
    }
   },
   "outputs": [
    {
     "data": {
      "text/plain": [
       "((1888, 4), 1888)"
      ]
     },
     "execution_count": 5,
     "metadata": {},
     "output_type": "execute_result"
    }
   ],
   "source": [
    "other_info.drop_duplicates('id', keep='last', inplace=True)\n",
    "other_info.shape, other_info['id'].nunique()"
   ]
  },
  {
   "cell_type": "code",
   "execution_count": 6,
   "metadata": {
    "ExecuteTime": {
     "end_time": "2020-11-18T02:09:23.773109Z",
     "start_time": "2020-11-18T02:09:23.759148Z"
    }
   },
   "outputs": [],
   "source": [
    "other_info.drop('patent_num', axis=1, inplace=True)\n",
    "other_info.to_csv('../../input/other_info.csv', index=False)"
   ]
  },
  {
   "cell_type": "code",
   "execution_count": 7,
   "metadata": {
    "ExecuteTime": {
     "end_time": "2020-11-18T02:09:23.796394Z",
     "start_time": "2020-11-18T02:09:23.775104Z"
    }
   },
   "outputs": [
    {
     "data": {
      "text/plain": [
       "((14865, 4), (10000, 4))"
      ]
     },
     "execution_count": 7,
     "metadata": {},
     "output_type": "execute_result"
    }
   ],
   "source": [
    "data = data.merge(other_info, how='left', on='id')\n",
    "\n",
    "train = data[data['label'].notnull()]\n",
    "test = data[data['label'].isnull()]\n",
    "train.shape, test.shape"
   ]
  },
  {
   "cell_type": "code",
   "execution_count": 8,
   "metadata": {
    "ExecuteTime": {
     "end_time": "2020-11-18T02:09:23.804026Z",
     "start_time": "2020-11-18T02:09:23.798042Z"
    }
   },
   "outputs": [],
   "source": [
    "used_cols = [i for i in train.columns if i not in ['id', 'label']]\n",
    "y = train['label']\n",
    "train = train[used_cols]\n",
    "test = test[used_cols]"
   ]
  },
  {
   "cell_type": "code",
   "execution_count": 9,
   "metadata": {
    "ExecuteTime": {
     "end_time": "2020-11-18T02:09:23.811050Z",
     "start_time": "2020-11-18T02:09:23.805024Z"
    }
   },
   "outputs": [],
   "source": [
    "X_train, X_valid, y_train, y_valid = train_test_split(train, y, test_size=0.25, random_state=2020)"
   ]
  },
  {
   "cell_type": "code",
   "execution_count": 10,
   "metadata": {
    "ExecuteTime": {
     "end_time": "2020-11-18T02:09:23.942655Z",
     "start_time": "2020-11-18T02:09:23.812063Z"
    }
   },
   "outputs": [
    {
     "name": "stdout",
     "output_type": "stream",
     "text": [
      "legal_judgment_num\n",
      "Training until validation scores don't improve for 50 rounds\n",
      "Early stopping, best iteration is:\n",
      "[1]\ttraining's auc: 0.550997\tvalid_0's auc: 0.541982\n",
      "Evaluated only: auc\n",
      "**********\n",
      "0.5419819403076661\n",
      "brand_num\n",
      "Training until validation scores don't improve for 50 rounds\n",
      "Early stopping, best iteration is:\n",
      "[1]\ttraining's auc: 0.505536\tvalid_0's auc: 0.501227\n",
      "Evaluated only: auc\n",
      "**********\n",
      "0.5012272660760055\n",
      "AUC useless_cols: \n",
      " []\n"
     ]
    }
   ],
   "source": [
    "cols = X_train.columns\n",
    "useful_dict, useless_dict, useful_cols, useless_cols = auc_select(X_train, y_train, X_valid, y_valid, cols, threshold=0.5)\n",
    "print('AUC useless_cols: \\n', useless_cols)"
   ]
  },
  {
   "cell_type": "code",
   "execution_count": 11,
   "metadata": {
    "ExecuteTime": {
     "end_time": "2020-11-18T02:09:24.037401Z",
     "start_time": "2020-11-18T02:09:23.944651Z"
    }
   },
   "outputs": [
    {
     "name": "stdout",
     "output_type": "stream",
     "text": [
      "Training until validation scores don't improve for 50 rounds\n",
      "Early stopping, best iteration is:\n",
      "[2]\ttraining's auc: 0.557004\tvalid_1's auc: 0.544502\n",
      "Evaluated only: auc\n"
     ]
    }
   ],
   "source": [
    "dtrain = lgb.Dataset(X_train, y_train)\n",
    "dvalid = lgb.Dataset(X_valid, y_valid, reference=dtrain)\n",
    "\n",
    "params = {\n",
    "    'objective': 'binary',\n",
    "    'boosting': 'gbdt',\n",
    "    'metric': 'auc',\n",
    "#     'metric': 'None',  # 用自定义评估函数是将metric设置为'None'\n",
    "    'learning_rate': 0.1,\n",
    "    'num_leaves': 31,\n",
    "    'lambda_l1': 0,\n",
    "    'lambda_l2': 1,\n",
    "    'num_threads': 23,\n",
    "    'min_data_in_leaf': 20,\n",
    "    'first_metric_only': True,\n",
    "    'is_unbalance': True,\n",
    "    'max_depth': -1,\n",
    "    'seed': 2020\n",
    "}\n",
    "\n",
    "valid_model = lgb.train(\n",
    "    params,\n",
    "    dtrain,\n",
    "    valid_sets=[dtrain, dvalid],\n",
    "    early_stopping_rounds=50,\n",
    "    verbose_eval=300 \n",
    ")"
   ]
  },
  {
   "cell_type": "code",
   "execution_count": 12,
   "metadata": {
    "ExecuteTime": {
     "end_time": "2020-11-18T02:09:24.076298Z",
     "start_time": "2020-11-18T02:09:24.039396Z"
    }
   },
   "outputs": [
    {
     "data": {
      "text/html": [
       "<div>\n",
       "<style scoped>\n",
       "    .dataframe tbody tr th:only-of-type {\n",
       "        vertical-align: middle;\n",
       "    }\n",
       "\n",
       "    .dataframe tbody tr th {\n",
       "        vertical-align: top;\n",
       "    }\n",
       "\n",
       "    .dataframe thead th {\n",
       "        text-align: right;\n",
       "    }\n",
       "</style>\n",
       "<table border=\"1\" class=\"dataframe\">\n",
       "  <thead>\n",
       "    <tr style=\"text-align: right;\">\n",
       "      <th></th>\n",
       "      <th>feature_name</th>\n",
       "      <th>importance</th>\n",
       "      <th>normalized_importance</th>\n",
       "      <th>cumulative_importance</th>\n",
       "    </tr>\n",
       "  </thead>\n",
       "  <tbody>\n",
       "    <tr>\n",
       "      <th>0</th>\n",
       "      <td>legal_judgment_num</td>\n",
       "      <td>3511.640068</td>\n",
       "      <td>0.921667</td>\n",
       "      <td>0.921667</td>\n",
       "    </tr>\n",
       "    <tr>\n",
       "      <th>1</th>\n",
       "      <td>brand_num</td>\n",
       "      <td>298.458340</td>\n",
       "      <td>0.078333</td>\n",
       "      <td>1.000000</td>\n",
       "    </tr>\n",
       "  </tbody>\n",
       "</table>\n",
       "</div>"
      ],
      "text/plain": [
       "         feature_name   importance  normalized_importance  \\\n",
       "0  legal_judgment_num  3511.640068               0.921667   \n",
       "1           brand_num   298.458340               0.078333   \n",
       "\n",
       "   cumulative_importance  \n",
       "0               0.921667  \n",
       "1               1.000000  "
      ]
     },
     "execution_count": 12,
     "metadata": {},
     "output_type": "execute_result"
    }
   ],
   "source": [
    "importance = valid_model.feature_importance(importance_type='gain')\n",
    "feature_name = valid_model.feature_name()\n",
    "\n",
    "df_importance = pd.DataFrame({\n",
    "    'feature_name': feature_name,\n",
    "    'importance': importance\n",
    "}).sort_values(by='importance', ascending=False)\n",
    "df_importance['normalized_importance'] = df_importance['importance'] / df_importance['importance'].sum()\n",
    "df_importance['cumulative_importance'] = np.cumsum(df_importance['normalized_importance'])\n",
    "df_importance"
   ]
  }
 ],
 "metadata": {
  "kernelspec": {
   "display_name": "Python 3",
   "language": "python",
   "name": "python3"
  },
  "language_info": {
   "codemirror_mode": {
    "name": "ipython",
    "version": 3
   },
   "file_extension": ".py",
   "mimetype": "text/x-python",
   "name": "python",
   "nbconvert_exporter": "python",
   "pygments_lexer": "ipython3",
   "version": "3.7.3"
  },
  "toc": {
   "base_numbering": 1,
   "nav_menu": {},
   "number_sections": true,
   "sideBar": true,
   "skip_h1_title": false,
   "title_cell": "Table of Contents",
   "title_sidebar": "Contents",
   "toc_cell": false,
   "toc_position": {},
   "toc_section_display": true,
   "toc_window_display": false
  }
 },
 "nbformat": 4,
 "nbformat_minor": 4
}
