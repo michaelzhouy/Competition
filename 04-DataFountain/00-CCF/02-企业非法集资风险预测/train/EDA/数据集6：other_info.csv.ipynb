{
 "cells": [
  {
   "cell_type": "code",
   "execution_count": 1,
   "metadata": {
    "ExecuteTime": {
     "end_time": "2020-11-17T06:47:24.576867Z",
     "start_time": "2020-11-17T06:47:23.783252Z"
    }
   },
   "outputs": [],
   "source": [
    "import numpy as np\n",
    "import pandas as pd\n",
    "from tqdm import tqdm\n",
    "from sklearn.model_selection import train_test_split\n",
    "import lightgbm as lgb\n",
    "import warnings\n",
    "warnings.filterwarnings('ignore')\n",
    "from util import *"
   ]
  },
  {
   "cell_type": "code",
   "execution_count": 2,
   "metadata": {
    "ExecuteTime": {
     "end_time": "2020-11-17T06:47:24.603355Z",
     "start_time": "2020-11-17T06:47:24.577838Z"
    }
   },
   "outputs": [],
   "source": [
    "data = pd.read_csv('../../input/data.csv')"
   ]
  },
  {
   "cell_type": "code",
   "execution_count": 3,
   "metadata": {
    "ExecuteTime": {
     "end_time": "2020-11-17T06:47:24.619243Z",
     "start_time": "2020-11-17T06:47:24.604283Z"
    }
   },
   "outputs": [
    {
     "name": "stdout",
     "output_type": "stream",
     "text": [
      "(1890, 4)\n",
      "<class 'pandas.core.frame.DataFrame'>\n",
      "RangeIndex: 1890 entries, 0 to 1889\n",
      "Data columns (total 4 columns):\n",
      " #   Column              Non-Null Count  Dtype  \n",
      "---  ------              --------------  -----  \n",
      " 0   id                  1890 non-null   object \n",
      " 1   legal_judgment_num  1006 non-null   float64\n",
      " 2   brand_num           909 non-null    float64\n",
      " 3   patent_num          396 non-null    float64\n",
      "dtypes: float64(3), object(1)\n",
      "memory usage: 59.2+ KB\n"
     ]
    }
   ],
   "source": [
    "# 数据集6：other_info.csv\n",
    "# 包含数据集7和8中涉及到的企业的其他信息，每一行代表一个企业其他信息，每一行4列，其中id列为企业唯一标识，列之间采用“,”分隔符分割。\n",
    "# 数据格式如下：\n",
    "# [id:企业唯一标识, legal_judgment_num:裁判文书数量, brand_num:注册商标数量, patent_num:专利数量]\n",
    "other_info = pd.read_csv('../../input/train/other_info.csv')\n",
    "print(other_info.shape)\n",
    "other_info.info()"
   ]
  },
  {
   "cell_type": "code",
   "execution_count": 4,
   "metadata": {
    "ExecuteTime": {
     "end_time": "2020-11-17T06:47:24.631248Z",
     "start_time": "2020-11-17T06:47:24.620241Z"
    }
   },
   "outputs": [
    {
     "data": {
      "text/plain": [
       "1888"
      ]
     },
     "execution_count": 4,
     "metadata": {},
     "output_type": "execute_result"
    }
   ],
   "source": [
    "other_info['id'].nunique()"
   ]
  },
  {
   "cell_type": "code",
   "execution_count": 5,
   "metadata": {
    "ExecuteTime": {
     "end_time": "2020-11-17T06:47:24.638192Z",
     "start_time": "2020-11-17T06:47:24.632209Z"
    }
   },
   "outputs": [
    {
     "data": {
      "text/plain": [
       "1888"
      ]
     },
     "execution_count": 5,
     "metadata": {},
     "output_type": "execute_result"
    }
   ],
   "source": [
    "other_info['id'].nunique()"
   ]
  },
  {
   "cell_type": "code",
   "execution_count": 6,
   "metadata": {
    "ExecuteTime": {
     "end_time": "2020-11-17T06:47:24.648168Z",
     "start_time": "2020-11-17T06:47:24.640188Z"
    }
   },
   "outputs": [
    {
     "data": {
      "text/plain": [
       "0"
      ]
     },
     "execution_count": 6,
     "metadata": {},
     "output_type": "execute_result"
    }
   ],
   "source": [
    "other_info.duplicated().sum()"
   ]
  },
  {
   "cell_type": "code",
   "execution_count": 7,
   "metadata": {
    "ExecuteTime": {
     "end_time": "2020-11-17T06:47:24.656145Z",
     "start_time": "2020-11-17T06:47:24.649165Z"
    }
   },
   "outputs": [
    {
     "data": {
      "text/plain": [
       "((1890, 4), 1888)"
      ]
     },
     "execution_count": 7,
     "metadata": {},
     "output_type": "execute_result"
    }
   ],
   "source": [
    "other_info.drop_duplicates(inplace=True)\n",
    "other_info.shape, other_info['id'].nunique()"
   ]
  },
  {
   "cell_type": "code",
   "execution_count": 8,
   "metadata": {
    "ExecuteTime": {
     "end_time": "2020-11-17T06:47:24.671105Z",
     "start_time": "2020-11-17T06:47:24.658140Z"
    }
   },
   "outputs": [
    {
     "data": {
      "text/html": [
       "<div>\n",
       "<style scoped>\n",
       "    .dataframe tbody tr th:only-of-type {\n",
       "        vertical-align: middle;\n",
       "    }\n",
       "\n",
       "    .dataframe tbody tr th {\n",
       "        vertical-align: top;\n",
       "    }\n",
       "\n",
       "    .dataframe thead th {\n",
       "        text-align: right;\n",
       "    }\n",
       "</style>\n",
       "<table border=\"1\" class=\"dataframe\">\n",
       "  <thead>\n",
       "    <tr style=\"text-align: right;\">\n",
       "      <th></th>\n",
       "      <th>id</th>\n",
       "      <th>legal_judgment_num</th>\n",
       "      <th>brand_num</th>\n",
       "      <th>patent_num</th>\n",
       "    </tr>\n",
       "  </thead>\n",
       "  <tbody>\n",
       "    <tr>\n",
       "      <th>0</th>\n",
       "      <td>f000950527a6feb6d340f91da09e61347d8200cd2f0d1602</td>\n",
       "      <td>4.0</td>\n",
       "      <td>NaN</td>\n",
       "      <td>NaN</td>\n",
       "    </tr>\n",
       "    <tr>\n",
       "      <th>1</th>\n",
       "      <td>f000950527a6feb608dd9322b74a99f60851207f36a3c94c</td>\n",
       "      <td>1.0</td>\n",
       "      <td>NaN</td>\n",
       "      <td>NaN</td>\n",
       "    </tr>\n",
       "    <tr>\n",
       "      <th>2</th>\n",
       "      <td>d8071a739aa75a3b9f23966f8dae78fd226c272515b9c255</td>\n",
       "      <td>2.0</td>\n",
       "      <td>NaN</td>\n",
       "      <td>NaN</td>\n",
       "    </tr>\n",
       "    <tr>\n",
       "      <th>3</th>\n",
       "      <td>216bd2aaf4d079242209b1496f81a36c7abed9dd0bb65ed3</td>\n",
       "      <td>NaN</td>\n",
       "      <td>1.0</td>\n",
       "      <td>NaN</td>\n",
       "    </tr>\n",
       "    <tr>\n",
       "      <th>4</th>\n",
       "      <td>e9f7b28ec10e0470de9631c789f49acdd4e7cf9ed6db094b</td>\n",
       "      <td>NaN</td>\n",
       "      <td>2.0</td>\n",
       "      <td>NaN</td>\n",
       "    </tr>\n",
       "  </tbody>\n",
       "</table>\n",
       "</div>"
      ],
      "text/plain": [
       "                                                 id  legal_judgment_num  \\\n",
       "0  f000950527a6feb6d340f91da09e61347d8200cd2f0d1602                 4.0   \n",
       "1  f000950527a6feb608dd9322b74a99f60851207f36a3c94c                 1.0   \n",
       "2  d8071a739aa75a3b9f23966f8dae78fd226c272515b9c255                 2.0   \n",
       "3  216bd2aaf4d079242209b1496f81a36c7abed9dd0bb65ed3                 NaN   \n",
       "4  e9f7b28ec10e0470de9631c789f49acdd4e7cf9ed6db094b                 NaN   \n",
       "\n",
       "   brand_num  patent_num  \n",
       "0        NaN         NaN  \n",
       "1        NaN         NaN  \n",
       "2        NaN         NaN  \n",
       "3        1.0         NaN  \n",
       "4        2.0         NaN  "
      ]
     },
     "execution_count": 8,
     "metadata": {},
     "output_type": "execute_result"
    }
   ],
   "source": [
    "other_info.head()"
   ]
  },
  {
   "cell_type": "code",
   "execution_count": 9,
   "metadata": {
    "ExecuteTime": {
     "end_time": "2020-11-17T06:47:24.681116Z",
     "start_time": "2020-11-17T06:47:24.673100Z"
    }
   },
   "outputs": [
    {
     "data": {
      "text/plain": [
       "((1888, 4), 1888)"
      ]
     },
     "execution_count": 9,
     "metadata": {},
     "output_type": "execute_result"
    }
   ],
   "source": [
    "other_info.drop_duplicates('id', keep='last', inplace=True)\n",
    "other_info.shape, other_info['id'].nunique()"
   ]
  },
  {
   "cell_type": "code",
   "execution_count": 10,
   "metadata": {
    "ExecuteTime": {
     "end_time": "2020-11-17T06:47:24.703019Z",
     "start_time": "2020-11-17T06:47:24.682075Z"
    }
   },
   "outputs": [
    {
     "data": {
      "text/plain": [
       "((14865, 5), (10000, 5))"
      ]
     },
     "execution_count": 10,
     "metadata": {},
     "output_type": "execute_result"
    }
   ],
   "source": [
    "data = data.merge(other_info, how='left', on='id')\n",
    "\n",
    "train = data[data['label'].notnull()]\n",
    "test = data[data['label'].isnull()]\n",
    "train.shape, test.shape"
   ]
  },
  {
   "cell_type": "code",
   "execution_count": 11,
   "metadata": {
    "ExecuteTime": {
     "end_time": "2020-11-17T06:47:24.710001Z",
     "start_time": "2020-11-17T06:47:24.704017Z"
    }
   },
   "outputs": [],
   "source": [
    "used_cols = [i for i in train.columns if i not in ['id', 'label']]\n",
    "y = train['label']\n",
    "train = train[used_cols]\n",
    "test = test[used_cols]"
   ]
  },
  {
   "cell_type": "code",
   "execution_count": 12,
   "metadata": {
    "ExecuteTime": {
     "end_time": "2020-11-17T06:47:24.718976Z",
     "start_time": "2020-11-17T06:47:24.712035Z"
    }
   },
   "outputs": [],
   "source": [
    "X_train, X_valid, y_train, y_valid = train_test_split(train, y, test_size=0.25, random_state=2020)"
   ]
  },
  {
   "cell_type": "code",
   "execution_count": 13,
   "metadata": {
    "ExecuteTime": {
     "end_time": "2020-11-17T06:47:24.879546Z",
     "start_time": "2020-11-17T06:47:24.719974Z"
    }
   },
   "outputs": [
    {
     "name": "stdout",
     "output_type": "stream",
     "text": [
      "legal_judgment_num\n",
      "Training until validation scores don't improve for 50 rounds\n",
      "Early stopping, best iteration is:\n",
      "[1]\ttraining's auc: 0.550997\tvalid_0's auc: 0.541982\n",
      "Evaluated only: auc\n",
      "**********\n",
      "0.5419819403076661\n",
      "brand_num\n",
      "Training until validation scores don't improve for 50 rounds\n",
      "Early stopping, best iteration is:\n",
      "[1]\ttraining's auc: 0.505536\tvalid_0's auc: 0.501227\n",
      "Evaluated only: auc\n",
      "**********\n",
      "0.5012272660760055\n",
      "patent_num\n",
      "Training until validation scores don't improve for 50 rounds\n",
      "Early stopping, best iteration is:\n",
      "[1]\ttraining's auc: 0.5\tvalid_0's auc: 0.5\n",
      "Evaluated only: auc\n",
      "**********\n",
      "0.5\n",
      "AUC useless_cols: \n",
      " ['patent_num']\n"
     ]
    }
   ],
   "source": [
    "cols = X_train.columns\n",
    "useful_dict, useless_dict, useful_cols, useless_cols = auc_select(X_train, y_train, X_valid, y_valid, cols, threshold=0.5)\n",
    "print('AUC useless_cols: \\n', useless_cols)"
   ]
  },
  {
   "cell_type": "code",
   "execution_count": 14,
   "metadata": {
    "ExecuteTime": {
     "end_time": "2020-11-17T06:47:24.986262Z",
     "start_time": "2020-11-17T06:47:24.881542Z"
    }
   },
   "outputs": [
    {
     "name": "stdout",
     "output_type": "stream",
     "text": [
      "Training until validation scores don't improve for 50 rounds\n",
      "Early stopping, best iteration is:\n",
      "[3]\ttraining's auc: 0.558923\tvalid_1's auc: 0.547851\n",
      "Evaluated only: auc\n"
     ]
    }
   ],
   "source": [
    "dtrain = lgb.Dataset(X_train, y_train)\n",
    "dvalid = lgb.Dataset(X_valid, y_valid, reference=dtrain)\n",
    "\n",
    "params = {\n",
    "    'objective': 'binary',\n",
    "    'boosting': 'gbdt',\n",
    "    'metric': 'auc',\n",
    "#     'metric': 'None',  # 用自定义评估函数是将metric设置为'None'\n",
    "    'learning_rate': 0.1,\n",
    "    'num_leaves': 31,\n",
    "    'lambda_l1': 0,\n",
    "    'lambda_l2': 1,\n",
    "    'num_threads': 23,\n",
    "    'min_data_in_leaf': 20,\n",
    "    'first_metric_only': True,\n",
    "    'is_unbalance': True,\n",
    "    'max_depth': -1,\n",
    "    'seed': 2020\n",
    "}\n",
    "\n",
    "valid_model = lgb.train(\n",
    "    params,\n",
    "    dtrain,\n",
    "    valid_sets=[dtrain, dvalid],\n",
    "    early_stopping_rounds=50,\n",
    "    verbose_eval=300 \n",
    ")"
   ]
  },
  {
   "cell_type": "code",
   "execution_count": 15,
   "metadata": {
    "ExecuteTime": {
     "end_time": "2020-11-17T07:43:11.587178Z",
     "start_time": "2020-11-17T07:43:11.558006Z"
    }
   },
   "outputs": [
    {
     "data": {
      "text/html": [
       "<div>\n",
       "<style scoped>\n",
       "    .dataframe tbody tr th:only-of-type {\n",
       "        vertical-align: middle;\n",
       "    }\n",
       "\n",
       "    .dataframe tbody tr th {\n",
       "        vertical-align: top;\n",
       "    }\n",
       "\n",
       "    .dataframe thead th {\n",
       "        text-align: right;\n",
       "    }\n",
       "</style>\n",
       "<table border=\"1\" class=\"dataframe\">\n",
       "  <thead>\n",
       "    <tr style=\"text-align: right;\">\n",
       "      <th></th>\n",
       "      <th>feature_name</th>\n",
       "      <th>importance</th>\n",
       "      <th>normalized_importance</th>\n",
       "      <th>cumulative_importance</th>\n",
       "    </tr>\n",
       "  </thead>\n",
       "  <tbody>\n",
       "    <tr>\n",
       "      <th>0</th>\n",
       "      <td>legal_judgment_num</td>\n",
       "      <td>3608.173866</td>\n",
       "      <td>0.879220</td>\n",
       "      <td>0.879220</td>\n",
       "    </tr>\n",
       "    <tr>\n",
       "      <th>1</th>\n",
       "      <td>brand_num</td>\n",
       "      <td>348.085629</td>\n",
       "      <td>0.084820</td>\n",
       "      <td>0.964039</td>\n",
       "    </tr>\n",
       "    <tr>\n",
       "      <th>2</th>\n",
       "      <td>patent_num</td>\n",
       "      <td>147.577002</td>\n",
       "      <td>0.035961</td>\n",
       "      <td>1.000000</td>\n",
       "    </tr>\n",
       "  </tbody>\n",
       "</table>\n",
       "</div>"
      ],
      "text/plain": [
       "         feature_name   importance  normalized_importance  \\\n",
       "0  legal_judgment_num  3608.173866               0.879220   \n",
       "1           brand_num   348.085629               0.084820   \n",
       "2          patent_num   147.577002               0.035961   \n",
       "\n",
       "   cumulative_importance  \n",
       "0               0.879220  \n",
       "1               0.964039  \n",
       "2               1.000000  "
      ]
     },
     "execution_count": 15,
     "metadata": {},
     "output_type": "execute_result"
    }
   ],
   "source": [
    "importance = valid_model.feature_importance(importance_type='gain')\n",
    "feature_name = valid_model.feature_name()\n",
    "\n",
    "df_importance = pd.DataFrame({\n",
    "    'feature_name': feature_name,\n",
    "    'importance': importance\n",
    "}).sort_values(by='importance', ascending=False)\n",
    "df_importance['normalized_importance'] = df_importance['importance'] / df_importance['importance'].sum()\n",
    "df_importance['cumulative_importance'] = np.cumsum(df_importance['normalized_importance'])\n",
    "df_importance"
   ]
  }
 ],
 "metadata": {
  "kernelspec": {
   "display_name": "Python 3",
   "language": "python",
   "name": "python3"
  },
  "language_info": {
   "codemirror_mode": {
    "name": "ipython",
    "version": 3
   },
   "file_extension": ".py",
   "mimetype": "text/x-python",
   "name": "python",
   "nbconvert_exporter": "python",
   "pygments_lexer": "ipython3",
   "version": "3.7.3"
  },
  "toc": {
   "base_numbering": 1,
   "nav_menu": {},
   "number_sections": true,
   "sideBar": true,
   "skip_h1_title": false,
   "title_cell": "Table of Contents",
   "title_sidebar": "Contents",
   "toc_cell": false,
   "toc_position": {},
   "toc_section_display": true,
   "toc_window_display": false
  }
 },
 "nbformat": 4,
 "nbformat_minor": 4
}
