{
 "cells": [
  {
   "cell_type": "code",
   "execution_count": 1,
   "metadata": {
    "ExecuteTime": {
     "end_time": "2020-11-16T13:07:40.480081Z",
     "start_time": "2020-11-16T13:07:40.120083Z"
    }
   },
   "outputs": [],
   "source": [
    "import numpy as np\n",
    "import pandas as pd\n",
    "from tqdm import tqdm\n",
    "import warnings\n",
    "warnings.filterwarnings('ignore')"
   ]
  },
  {
   "cell_type": "code",
   "execution_count": 2,
   "metadata": {
    "ExecuteTime": {
     "end_time": "2020-11-16T13:07:40.515682Z",
     "start_time": "2020-11-16T13:07:40.480081Z"
    }
   },
   "outputs": [
    {
     "name": "stdout",
     "output_type": "stream",
     "text": [
      "(1890, 4)\n",
      "<class 'pandas.core.frame.DataFrame'>\n",
      "RangeIndex: 1890 entries, 0 to 1889\n",
      "Data columns (total 4 columns):\n",
      " #   Column              Non-Null Count  Dtype  \n",
      "---  ------              --------------  -----  \n",
      " 0   id                  1890 non-null   object \n",
      " 1   legal_judgment_num  1006 non-null   float64\n",
      " 2   brand_num           909 non-null    float64\n",
      " 3   patent_num          396 non-null    float64\n",
      "dtypes: float64(3), object(1)\n",
      "memory usage: 59.2+ KB\n"
     ]
    }
   ],
   "source": [
    "# 数据集6：other_info.csv\n",
    "# 包含数据集7和8中涉及到的企业的其他信息，每一行代表一个企业其他信息，每一行4列，其中id列为企业唯一标识，列之间采用“,”分隔符分割。\n",
    "# 数据格式如下：\n",
    "# [id:企业唯一标识, legal_judgment_num:裁判文书数量, brand_num:注册商标数量, patent_num:专利数量]\n",
    "other_info = pd.read_csv('../input/train/other_info.csv')\n",
    "print(other_info.shape)\n",
    "other_info.info()"
   ]
  },
  {
   "cell_type": "code",
   "execution_count": 3,
   "metadata": {
    "ExecuteTime": {
     "end_time": "2020-11-16T13:07:40.520688Z",
     "start_time": "2020-11-16T13:07:40.516678Z"
    }
   },
   "outputs": [],
   "source": [
    "def identify_missing(df, missing_threshold):\n",
    "    \"\"\"\n",
    "    缺失率\n",
    "    @param df:\n",
    "    @param missing_threshold:\n",
    "    @return:\n",
    "    \"\"\"\n",
    "    missing_rate = df.isnull().sum() / len(df)\n",
    "    missing_rate = missing_rate.sort_values(ascending=False)\n",
    "    print(missing_rate)\n",
    "    to_drop = missing_rate[missing_rate > missing_threshold].index.to_list()\n",
    "    print('{} features with greater than {} missing values.\\n'.format(len(to_drop), missing_threshold))\n",
    "    return to_drop"
   ]
  },
  {
   "cell_type": "code",
   "execution_count": 4,
   "metadata": {
    "ExecuteTime": {
     "end_time": "2020-11-16T13:07:40.541652Z",
     "start_time": "2020-11-16T13:07:40.521665Z"
    }
   },
   "outputs": [
    {
     "name": "stdout",
     "output_type": "stream",
     "text": [
      "patent_num            0.790476\n",
      "brand_num             0.519048\n",
      "legal_judgment_num    0.467725\n",
      "id                    0.000000\n",
      "dtype: float64\n",
      "2 features with greater than 0.5 missing values.\n",
      "\n"
     ]
    },
    {
     "data": {
      "text/plain": [
       "['patent_num', 'brand_num']"
      ]
     },
     "execution_count": 4,
     "metadata": {},
     "output_type": "execute_result"
    }
   ],
   "source": [
    "to_drop = identify_missing(other_info, missing_threshold=0.5)\n",
    "other_info.drop(to_drop, axis=1, inplace=True)\n",
    "to_drop"
   ]
  },
  {
   "cell_type": "code",
   "execution_count": null,
   "metadata": {},
   "outputs": [],
   "source": []
  }
 ],
 "metadata": {
  "kernelspec": {
   "display_name": "Python 3",
   "language": "python",
   "name": "python3"
  },
  "language_info": {
   "codemirror_mode": {
    "name": "ipython",
    "version": 3
   },
   "file_extension": ".py",
   "mimetype": "text/x-python",
   "name": "python",
   "nbconvert_exporter": "python",
   "pygments_lexer": "ipython3",
   "version": "3.7.3"
  },
  "toc": {
   "base_numbering": 1,
   "nav_menu": {},
   "number_sections": true,
   "sideBar": true,
   "skip_h1_title": false,
   "title_cell": "Table of Contents",
   "title_sidebar": "Contents",
   "toc_cell": false,
   "toc_position": {},
   "toc_section_display": true,
   "toc_window_display": false
  }
 },
 "nbformat": 4,
 "nbformat_minor": 4
}
