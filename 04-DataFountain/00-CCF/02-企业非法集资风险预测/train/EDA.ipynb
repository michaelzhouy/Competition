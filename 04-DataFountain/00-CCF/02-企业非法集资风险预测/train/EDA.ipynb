{
 "cells": [
  {
   "cell_type": "code",
   "execution_count": 1,
   "metadata": {
    "ExecuteTime": {
     "end_time": "2020-10-31T03:11:49.953990Z",
     "start_time": "2020-10-31T03:11:49.123086Z"
    }
   },
   "outputs": [],
   "source": [
    "import numpy as np\n",
    "import pandas as pd\n",
    "from tqdm.notebook import tqdm\n",
    "from sklearn.preprocessing import LabelEncoder\n",
    "from sklearn.metrics import f1_score\n",
    "import lightgbm\n",
    "import gc\n",
    "import warnings\n",
    "warnings.filterwarnings('ignore')"
   ]
  },
  {
   "cell_type": "code",
   "execution_count": 2,
   "metadata": {
    "ExecuteTime": {
     "end_time": "2020-10-31T03:11:49.985522Z",
     "start_time": "2020-10-31T03:11:49.954949Z"
    }
   },
   "outputs": [
    {
     "name": "stdout",
     "output_type": "stream",
     "text": [
      "(14865, 2)\n"
     ]
    },
    {
     "data": {
      "text/html": [
       "<div>\n",
       "<style scoped>\n",
       "    .dataframe tbody tr th:only-of-type {\n",
       "        vertical-align: middle;\n",
       "    }\n",
       "\n",
       "    .dataframe tbody tr th {\n",
       "        vertical-align: top;\n",
       "    }\n",
       "\n",
       "    .dataframe thead th {\n",
       "        text-align: right;\n",
       "    }\n",
       "</style>\n",
       "<table border=\"1\" class=\"dataframe\">\n",
       "  <thead>\n",
       "    <tr style=\"text-align: right;\">\n",
       "      <th></th>\n",
       "      <th>id</th>\n",
       "      <th>label</th>\n",
       "    </tr>\n",
       "  </thead>\n",
       "  <tbody>\n",
       "    <tr>\n",
       "      <th>0</th>\n",
       "      <td>59b38c56de3836831ff90a77d892a13523b7494f6ed09ff7</td>\n",
       "      <td>1</td>\n",
       "    </tr>\n",
       "    <tr>\n",
       "      <th>1</th>\n",
       "      <td>da8691b210adb3f6be8064e006f220070565db287275ad38</td>\n",
       "      <td>0</td>\n",
       "    </tr>\n",
       "    <tr>\n",
       "      <th>2</th>\n",
       "      <td>82750f1b9d122350918121f97c99bf96e11aa24ee91504a9</td>\n",
       "      <td>0</td>\n",
       "    </tr>\n",
       "    <tr>\n",
       "      <th>3</th>\n",
       "      <td>f000950527a6feb6b2c6de6f85c1e7438ba5590be931e2ec</td>\n",
       "      <td>0</td>\n",
       "    </tr>\n",
       "    <tr>\n",
       "      <th>4</th>\n",
       "      <td>f1c1045b13d1832927e3743e49d2917f2d98424f0849a373</td>\n",
       "      <td>0</td>\n",
       "    </tr>\n",
       "  </tbody>\n",
       "</table>\n",
       "</div>"
      ],
      "text/plain": [
       "                                                 id  label\n",
       "0  59b38c56de3836831ff90a77d892a13523b7494f6ed09ff7      1\n",
       "1  da8691b210adb3f6be8064e006f220070565db287275ad38      0\n",
       "2  82750f1b9d122350918121f97c99bf96e11aa24ee91504a9      0\n",
       "3  f000950527a6feb6b2c6de6f85c1e7438ba5590be931e2ec      0\n",
       "4  f1c1045b13d1832927e3743e49d2917f2d98424f0849a373      0"
      ]
     },
     "execution_count": 2,
     "metadata": {},
     "output_type": "execute_result"
    }
   ],
   "source": [
    "# 数据集7：entprise_info.csv\n",
    "# 带标注的企业数据。每一行代表一个企业，每一行2列，其中id列为企业唯一标识，label列为标注（1：有非法集资风险，0：无非法集资风险），列之间采用“,”分隔符分割。\n",
    "# 训练集 id 及标签\n",
    "entprise_info = pd.read_csv('../input/train/entprise_info.csv')\n",
    "print(entprise_info.shape)\n",
    "entprise_info.head()"
   ]
  },
  {
   "cell_type": "code",
   "execution_count": 3,
   "metadata": {
    "ExecuteTime": {
     "end_time": "2020-10-31T03:11:50.007426Z",
     "start_time": "2020-10-31T03:11:49.986490Z"
    }
   },
   "outputs": [
    {
     "name": "stdout",
     "output_type": "stream",
     "text": [
      "(10000, 2)\n"
     ]
    },
    {
     "data": {
      "text/html": [
       "<div>\n",
       "<style scoped>\n",
       "    .dataframe tbody tr th:only-of-type {\n",
       "        vertical-align: middle;\n",
       "    }\n",
       "\n",
       "    .dataframe tbody tr th {\n",
       "        vertical-align: top;\n",
       "    }\n",
       "\n",
       "    .dataframe thead th {\n",
       "        text-align: right;\n",
       "    }\n",
       "</style>\n",
       "<table border=\"1\" class=\"dataframe\">\n",
       "  <thead>\n",
       "    <tr style=\"text-align: right;\">\n",
       "      <th></th>\n",
       "      <th>id</th>\n",
       "      <th>score</th>\n",
       "    </tr>\n",
       "  </thead>\n",
       "  <tbody>\n",
       "    <tr>\n",
       "      <th>0</th>\n",
       "      <td>82750f1b9d1223508ee329d47e27d35176c93eb9f35e9c1a</td>\n",
       "      <td>NaN</td>\n",
       "    </tr>\n",
       "    <tr>\n",
       "      <th>1</th>\n",
       "      <td>f000950527a6feb670cc1c87c2025f3922aaa4a0206a0a33</td>\n",
       "      <td>NaN</td>\n",
       "    </tr>\n",
       "    <tr>\n",
       "      <th>2</th>\n",
       "      <td>e9f7b28ec10e04700ef4db75a494f9a1e8e8b09555e6afa1</td>\n",
       "      <td>NaN</td>\n",
       "    </tr>\n",
       "    <tr>\n",
       "      <th>3</th>\n",
       "      <td>beb4aaaa89e0a0ae9d77bd5d7665be6342f552f51840cf19</td>\n",
       "      <td>NaN</td>\n",
       "    </tr>\n",
       "    <tr>\n",
       "      <th>4</th>\n",
       "      <td>e9f7b28ec10e0470ee4172cec0133b6826c34f27d3dff204</td>\n",
       "      <td>NaN</td>\n",
       "    </tr>\n",
       "  </tbody>\n",
       "</table>\n",
       "</div>"
      ],
      "text/plain": [
       "                                                 id  score\n",
       "0  82750f1b9d1223508ee329d47e27d35176c93eb9f35e9c1a    NaN\n",
       "1  f000950527a6feb670cc1c87c2025f3922aaa4a0206a0a33    NaN\n",
       "2  e9f7b28ec10e04700ef4db75a494f9a1e8e8b09555e6afa1    NaN\n",
       "3  beb4aaaa89e0a0ae9d77bd5d7665be6342f552f51840cf19    NaN\n",
       "4  e9f7b28ec10e0470ee4172cec0133b6826c34f27d3dff204    NaN"
      ]
     },
     "execution_count": 3,
     "metadata": {},
     "output_type": "execute_result"
    }
   ],
   "source": [
    "# 数据集8（验证集）：entprise_evaluate.csv\n",
    "# 未标注企业数据。参赛队伍需提交的最终结果数据集，每一行代表一个企业，每一行有 2 列, 其中id列为企业唯一标识，score列为空，列之间采用“,”分隔符分割。\n",
    "# 测试集 id score\n",
    "entprise_evaluate = pd.read_csv('../input/entprise_evaluate.csv')\n",
    "\n",
    "print(entprise_evaluate.shape)\n",
    "entprise_evaluate.head()"
   ]
  },
  {
   "cell_type": "code",
   "execution_count": 4,
   "metadata": {
    "ExecuteTime": {
     "end_time": "2020-10-31T03:11:50.245788Z",
     "start_time": "2020-10-31T03:11:50.008423Z"
    }
   },
   "outputs": [
    {
     "name": "stdout",
     "output_type": "stream",
     "text": [
      "(24865, 33)\n"
     ]
    },
    {
     "data": {
      "text/html": [
       "<div>\n",
       "<style scoped>\n",
       "    .dataframe tbody tr th:only-of-type {\n",
       "        vertical-align: middle;\n",
       "    }\n",
       "\n",
       "    .dataframe tbody tr th {\n",
       "        vertical-align: top;\n",
       "    }\n",
       "\n",
       "    .dataframe thead th {\n",
       "        text-align: right;\n",
       "    }\n",
       "</style>\n",
       "<table border=\"1\" class=\"dataframe\">\n",
       "  <thead>\n",
       "    <tr style=\"text-align: right;\">\n",
       "      <th></th>\n",
       "      <th>id</th>\n",
       "      <th>oplocdistrict</th>\n",
       "      <th>industryphy</th>\n",
       "      <th>industryco</th>\n",
       "      <th>dom</th>\n",
       "      <th>opscope</th>\n",
       "      <th>enttype</th>\n",
       "      <th>enttypeitem</th>\n",
       "      <th>opfrom</th>\n",
       "      <th>opto</th>\n",
       "      <th>...</th>\n",
       "      <th>enttypeminu</th>\n",
       "      <th>midpreindcode</th>\n",
       "      <th>protype</th>\n",
       "      <th>oploc</th>\n",
       "      <th>regcap</th>\n",
       "      <th>reccap</th>\n",
       "      <th>forreccap</th>\n",
       "      <th>forregcap</th>\n",
       "      <th>congro</th>\n",
       "      <th>enttypegb</th>\n",
       "    </tr>\n",
       "  </thead>\n",
       "  <tbody>\n",
       "    <tr>\n",
       "      <th>0</th>\n",
       "      <td>47645761dc56bb8c5fae00114b768b5d9b6e917c3aec07c4</td>\n",
       "      <td>340223</td>\n",
       "      <td>M</td>\n",
       "      <td>7513.0</td>\n",
       "      <td>31487d8f256f16bd6244b7251be2ebb24d1db51663c654...</td>\n",
       "      <td>纳米新材料、机械设备、五金配件加工、销售及技术推广服务，道路货物运输。（依法须经批准的项目，...</td>\n",
       "      <td>1100</td>\n",
       "      <td>1150.0</td>\n",
       "      <td>2019-07-11 00:00:00</td>\n",
       "      <td>NaN</td>\n",
       "      <td>...</td>\n",
       "      <td>1151.0</td>\n",
       "      <td>NaN</td>\n",
       "      <td>NaN</td>\n",
       "      <td>2367b4cac96d8598</td>\n",
       "      <td>50.0</td>\n",
       "      <td>NaN</td>\n",
       "      <td>NaN</td>\n",
       "      <td>NaN</td>\n",
       "      <td>NaN</td>\n",
       "      <td>1151</td>\n",
       "    </tr>\n",
       "    <tr>\n",
       "      <th>1</th>\n",
       "      <td>9c7fa510616a683058ce97d0bc768a621cd85ab1e87da2a3</td>\n",
       "      <td>340222</td>\n",
       "      <td>O</td>\n",
       "      <td>8090.0</td>\n",
       "      <td>31487d8f256f16bd6244b7251be2ebb27b17bdfd95c8f3...</td>\n",
       "      <td>健身服务。（依法须经批准的项目，经相关部门批准后方可开展经营活动）</td>\n",
       "      <td>9600</td>\n",
       "      <td>NaN</td>\n",
       "      <td>2017-09-06</td>\n",
       "      <td>NaN</td>\n",
       "      <td>...</td>\n",
       "      <td>NaN</td>\n",
       "      <td>NaN</td>\n",
       "      <td>NaN</td>\n",
       "      <td>31487d8f256f16bd6244b7251be2ebb27b17bdfd95c8f3...</td>\n",
       "      <td>10.0</td>\n",
       "      <td>NaN</td>\n",
       "      <td>NaN</td>\n",
       "      <td>NaN</td>\n",
       "      <td>NaN</td>\n",
       "      <td>9600</td>\n",
       "    </tr>\n",
       "    <tr>\n",
       "      <th>2</th>\n",
       "      <td>59b38c56de3836838082cfcb1a298951abfe15e6940c49ba</td>\n",
       "      <td>340202</td>\n",
       "      <td>R</td>\n",
       "      <td>9053.0</td>\n",
       "      <td>31487d8f256f16bd6244b7251be2ebb2ae36cd652943e8...</td>\n",
       "      <td>文化娱乐经纪人服务；境内文艺活动组织与策划；文化艺术交流活动组织策划；演出经纪；其他文化艺术...</td>\n",
       "      <td>1100</td>\n",
       "      <td>1150.0</td>\n",
       "      <td>2020-09-14 14:46:30</td>\n",
       "      <td>NaN</td>\n",
       "      <td>...</td>\n",
       "      <td>1151.0</td>\n",
       "      <td>NaN</td>\n",
       "      <td>NaN</td>\n",
       "      <td>2367b4cac96d8598</td>\n",
       "      <td>100.0</td>\n",
       "      <td>NaN</td>\n",
       "      <td>NaN</td>\n",
       "      <td>NaN</td>\n",
       "      <td>NaN</td>\n",
       "      <td>1151</td>\n",
       "    </tr>\n",
       "    <tr>\n",
       "      <th>3</th>\n",
       "      <td>e9f7b28ec10e047000d16ab79e1b5e6da434a1697cce7818</td>\n",
       "      <td>340221</td>\n",
       "      <td>L</td>\n",
       "      <td>7212.0</td>\n",
       "      <td>746df9aaed8578571760c563abe882c8ba25209fc6d5db...</td>\n",
       "      <td>投资管理及咨询(证券、期货除外)；企业管理。（依法须经批准的项目，经相关部门批准后方可开展经...</td>\n",
       "      <td>4500</td>\n",
       "      <td>4540.0</td>\n",
       "      <td>2015-09-30</td>\n",
       "      <td>NaN</td>\n",
       "      <td>...</td>\n",
       "      <td>NaN</td>\n",
       "      <td>NaN</td>\n",
       "      <td>NaN</td>\n",
       "      <td>2367b4cac96d8598</td>\n",
       "      <td>10.0</td>\n",
       "      <td>NaN</td>\n",
       "      <td>NaN</td>\n",
       "      <td>NaN</td>\n",
       "      <td>NaN</td>\n",
       "      <td>4540</td>\n",
       "    </tr>\n",
       "    <tr>\n",
       "      <th>4</th>\n",
       "      <td>f000950527a6feb63ee1ce82bb22ddd1ab8b8fdffa3b91fb</td>\n",
       "      <td>340202</td>\n",
       "      <td>R</td>\n",
       "      <td>8810.0</td>\n",
       "      <td>31487d8f256f16bd6244b7251be2ebb2ae36cd652943e8...</td>\n",
       "      <td>境内文化艺术交流活动策划；企业形象策划；礼仪庆典服务；翻译服务；专利代理；广告设计、制作、代...</td>\n",
       "      <td>1100</td>\n",
       "      <td>1130.0</td>\n",
       "      <td>2017-12-01</td>\n",
       "      <td>2067-11-30</td>\n",
       "      <td>...</td>\n",
       "      <td>NaN</td>\n",
       "      <td>NaN</td>\n",
       "      <td>NaN</td>\n",
       "      <td>2367b4cac96d8598</td>\n",
       "      <td>100.0</td>\n",
       "      <td>NaN</td>\n",
       "      <td>NaN</td>\n",
       "      <td>NaN</td>\n",
       "      <td>NaN</td>\n",
       "      <td>1130</td>\n",
       "    </tr>\n",
       "  </tbody>\n",
       "</table>\n",
       "<p>5 rows × 33 columns</p>\n",
       "</div>"
      ],
      "text/plain": [
       "                                                 id  oplocdistrict  \\\n",
       "0  47645761dc56bb8c5fae00114b768b5d9b6e917c3aec07c4         340223   \n",
       "1  9c7fa510616a683058ce97d0bc768a621cd85ab1e87da2a3         340222   \n",
       "2  59b38c56de3836838082cfcb1a298951abfe15e6940c49ba         340202   \n",
       "3  e9f7b28ec10e047000d16ab79e1b5e6da434a1697cce7818         340221   \n",
       "4  f000950527a6feb63ee1ce82bb22ddd1ab8b8fdffa3b91fb         340202   \n",
       "\n",
       "  industryphy  industryco                                                dom  \\\n",
       "0           M      7513.0  31487d8f256f16bd6244b7251be2ebb24d1db51663c654...   \n",
       "1           O      8090.0  31487d8f256f16bd6244b7251be2ebb27b17bdfd95c8f3...   \n",
       "2           R      9053.0  31487d8f256f16bd6244b7251be2ebb2ae36cd652943e8...   \n",
       "3           L      7212.0  746df9aaed8578571760c563abe882c8ba25209fc6d5db...   \n",
       "4           R      8810.0  31487d8f256f16bd6244b7251be2ebb2ae36cd652943e8...   \n",
       "\n",
       "                                             opscope  enttype  enttypeitem  \\\n",
       "0  纳米新材料、机械设备、五金配件加工、销售及技术推广服务，道路货物运输。（依法须经批准的项目，...     1100       1150.0   \n",
       "1                  健身服务。（依法须经批准的项目，经相关部门批准后方可开展经营活动）     9600          NaN   \n",
       "2  文化娱乐经纪人服务；境内文艺活动组织与策划；文化艺术交流活动组织策划；演出经纪；其他文化艺术...     1100       1150.0   \n",
       "3  投资管理及咨询(证券、期货除外)；企业管理。（依法须经批准的项目，经相关部门批准后方可开展经...     4500       4540.0   \n",
       "4  境内文化艺术交流活动策划；企业形象策划；礼仪庆典服务；翻译服务；专利代理；广告设计、制作、代...     1100       1130.0   \n",
       "\n",
       "                opfrom        opto  ...  enttypeminu  midpreindcode  protype  \\\n",
       "0  2019-07-11 00:00:00         NaN  ...       1151.0            NaN      NaN   \n",
       "1           2017-09-06         NaN  ...          NaN            NaN      NaN   \n",
       "2  2020-09-14 14:46:30         NaN  ...       1151.0            NaN      NaN   \n",
       "3           2015-09-30         NaN  ...          NaN            NaN      NaN   \n",
       "4           2017-12-01  2067-11-30  ...          NaN            NaN      NaN   \n",
       "\n",
       "                                               oploc  regcap  reccap  \\\n",
       "0                                   2367b4cac96d8598    50.0     NaN   \n",
       "1  31487d8f256f16bd6244b7251be2ebb27b17bdfd95c8f3...    10.0     NaN   \n",
       "2                                   2367b4cac96d8598   100.0     NaN   \n",
       "3                                   2367b4cac96d8598    10.0     NaN   \n",
       "4                                   2367b4cac96d8598   100.0     NaN   \n",
       "\n",
       "   forreccap  forregcap  congro  enttypegb  \n",
       "0        NaN        NaN     NaN       1151  \n",
       "1        NaN        NaN     NaN       9600  \n",
       "2        NaN        NaN     NaN       1151  \n",
       "3        NaN        NaN     NaN       4540  \n",
       "4        NaN        NaN     NaN       1130  \n",
       "\n",
       "[5 rows x 33 columns]"
      ]
     },
     "execution_count": 4,
     "metadata": {},
     "output_type": "execute_result"
    }
   ],
   "source": [
    "# 数据集1：base_info.csv\n",
    "# 包含数据集7和8中涉及到的所有企业的基本信息，每一行代表一个企业的基本数据，每一行有33列，其中id列为企业唯一标识，列之间采用“,”分隔符分割。\n",
    "# 数据格式如下：\n",
    "# [id:企业唯一标识, oplocdistrict:行政区划代码, industryphy:行业类别代码, industryco:行业细类代码, dom:经营地址, opscope:经营范围, enttype:企业类型, enttypeitem:企业类型小类, opfrom:经营期限起, opto:经营期限止, state:状态, orgid:机构标识, jobid:职位标识, adbusign:是否广告经营, townsign:是否城镇, regtype:主题登记类型, empnum:从业人数, compform:组织形式, parnum:合伙人数, exenum:执行人数, opform:经营方式, ptbusscope:兼营范围, venind:风险行业, enttypeminu:企业类型细类, midpreindcode:中西部优势产业代码, protype:项目类型, oploc:经营场所, regcap:注册资本（金）, reccap:实缴资本, forreccap:实缴资本（外方）, forregcap:注册资本（外方）, congro:投资总额, enttypegb:企业（机构）类型]\n",
    "# 基础信息表\n",
    "base_info = pd.read_csv('../input/train/base_info.csv')\n",
    "print(base_info.shape)\n",
    "base_info.head()"
   ]
  },
  {
   "cell_type": "code",
   "execution_count": 5,
   "metadata": {
    "ExecuteTime": {
     "end_time": "2020-10-31T03:11:50.265789Z",
     "start_time": "2020-10-31T03:11:50.246785Z"
    }
   },
   "outputs": [
    {
     "name": "stdout",
     "output_type": "stream",
     "text": [
      "<class 'pandas.core.frame.DataFrame'>\n",
      "RangeIndex: 24865 entries, 0 to 24864\n",
      "Data columns (total 33 columns):\n",
      " #   Column         Non-Null Count  Dtype  \n",
      "---  ------         --------------  -----  \n",
      " 0   id             24865 non-null  object \n",
      " 1   oplocdistrict  24865 non-null  int64  \n",
      " 2   industryphy    24865 non-null  object \n",
      " 3   industryco     24864 non-null  float64\n",
      " 4   dom            24865 non-null  object \n",
      " 5   opscope        24865 non-null  object \n",
      " 6   enttype        24865 non-null  int64  \n",
      " 7   enttypeitem    16651 non-null  float64\n",
      " 8   opfrom         24865 non-null  object \n",
      " 9   opto           8825 non-null   object \n",
      " 10  state          24865 non-null  int64  \n",
      " 11  orgid          24865 non-null  int64  \n",
      " 12  jobid          24865 non-null  int64  \n",
      " 13  adbusign       24865 non-null  int64  \n",
      " 14  townsign       24865 non-null  int64  \n",
      " 15  regtype        24865 non-null  int64  \n",
      " 16  empnum         19615 non-null  float64\n",
      " 17  compform       10631 non-null  float64\n",
      " 18  parnum         2339 non-null   float64\n",
      " 19  exenum         1378 non-null   float64\n",
      " 20  opform         9000 non-null   object \n",
      " 21  ptbusscope     0 non-null      float64\n",
      " 22  venind         8437 non-null   float64\n",
      " 23  enttypeminu    7270 non-null   float64\n",
      " 24  midpreindcode  0 non-null      float64\n",
      " 25  protype        34 non-null     float64\n",
      " 26  oploc          24865 non-null  object \n",
      " 27  regcap         24674 non-null  float64\n",
      " 28  reccap         7084 non-null   float64\n",
      " 29  forreccap      227 non-null    float64\n",
      " 30  forregcap      250 non-null    float64\n",
      " 31  congro         249 non-null    float64\n",
      " 32  enttypegb      24865 non-null  int64  \n",
      "dtypes: float64(16), int64(9), object(8)\n",
      "memory usage: 6.3+ MB\n"
     ]
    }
   ],
   "source": [
    "base_info.info()"
   ]
  },
  {
   "cell_type": "code",
   "execution_count": 6,
   "metadata": {
    "ExecuteTime": {
     "end_time": "2020-10-31T03:11:50.299657Z",
     "start_time": "2020-10-31T03:11:50.266746Z"
    }
   },
   "outputs": [
    {
     "data": {
      "text/plain": [
       "0"
      ]
     },
     "execution_count": 6,
     "metadata": {},
     "output_type": "execute_result"
    }
   ],
   "source": [
    "single_cols = ['ptbusscope', 'midpreindcode']\n",
    "base_info.drop(single_cols, axis=1, inplace=True)\n",
    "gc.collect()"
   ]
  },
  {
   "cell_type": "code",
   "execution_count": 7,
   "metadata": {
    "ExecuteTime": {
     "end_time": "2020-10-31T03:11:50.335561Z",
     "start_time": "2020-10-31T03:11:50.301652Z"
    }
   },
   "outputs": [
    {
     "data": {
      "text/plain": [
       "20"
      ]
     },
     "execution_count": 7,
     "metadata": {},
     "output_type": "execute_result"
    }
   ],
   "source": [
    "many_cols = ['dom', 'opscope']\n",
    "base_info.drop(many_cols, axis=1, inplace=True)\n",
    "gc.collect()"
   ]
  },
  {
   "cell_type": "code",
   "execution_count": 8,
   "metadata": {
    "ExecuteTime": {
     "end_time": "2020-10-31T03:11:50.340548Z",
     "start_time": "2020-10-31T03:11:50.336560Z"
    }
   },
   "outputs": [],
   "source": [
    "# for col in tqdm(base_info.columns):\n",
    "#     print('-' * 20)\n",
    "#     print(col)\n",
    "#     print(base_info[col].nunique(dropna=False))\n",
    "#     print(base_info[col].unique())\n",
    "#     print(base_info[col].isnull().sum())\n",
    "#     print('\\n')"
   ]
  },
  {
   "cell_type": "code",
   "execution_count": 9,
   "metadata": {
    "ExecuteTime": {
     "end_time": "2020-10-31T03:11:50.346533Z",
     "start_time": "2020-10-31T03:11:50.341546Z"
    }
   },
   "outputs": [],
   "source": [
    "def identify_missing(df, missing_threshold):\n",
    "    \"\"\"\n",
    "    缺失率\n",
    "    @param df:\n",
    "    @param missing_threshold:\n",
    "    @return:\n",
    "    \"\"\"\n",
    "    missing_rate = df.isnull().sum() / len(df)\n",
    "    missing_rate = missing_rate.sort_values(ascending=False)\n",
    "    print(missing_rate)\n",
    "    to_drop = missing_rate[missing_rate > missing_threshold].index.to_list()\n",
    "    print('{} features with greater than {} missing values.\\n'.format(len(to_drop), missing_threshold))\n",
    "    return to_drop"
   ]
  },
  {
   "cell_type": "code",
   "execution_count": 11,
   "metadata": {
    "ExecuteTime": {
     "end_time": "2020-10-31T03:11:58.976407Z",
     "start_time": "2020-10-31T03:11:58.955422Z"
    }
   },
   "outputs": [
    {
     "name": "stdout",
     "output_type": "stream",
     "text": [
      "4 features with greater than %0.2f missing values.\n",
      "\n"
     ]
    },
    {
     "data": {
      "text/plain": [
       "['protype', 'forreccap', 'congro', 'forregcap']"
      ]
     },
     "execution_count": 11,
     "metadata": {},
     "output_type": "execute_result"
    }
   ],
   "source": [
    "to_drop = identify_missing(base_info, missing_threshold=0.9)\n",
    "to_drop"
   ]
  },
  {
   "cell_type": "code",
   "execution_count": null,
   "metadata": {},
   "outputs": [],
   "source": [
    "# #缺失值太多\n",
    "# drop = ['enttypeitem', 'opto', 'empnum', 'compform', 'parnum',\n",
    "#        'exenum', 'opform', 'ptbusscope', 'venind', 'enttypeminu',\n",
    "#        'midpreindcode', 'protype', 'reccap', 'forreccap',\n",
    "#        'forregcap', 'congro']"
   ]
  },
  {
   "cell_type": "code",
   "execution_count": 13,
   "metadata": {
    "ExecuteTime": {
     "end_time": "2020-10-31T03:12:56.437040Z",
     "start_time": "2020-10-31T03:12:56.424008Z"
    }
   },
   "outputs": [
    {
     "data": {
      "text/plain": [
       "protype          0.998633\n",
       "forreccap        0.990871\n",
       "congro           0.989986\n",
       "forregcap        0.989946\n",
       "exenum           0.944581\n",
       "parnum           0.905932\n",
       "reccap           0.715102\n",
       "enttypeminu      0.707621\n",
       "venind           0.660688\n",
       "opto             0.645083\n",
       "opform           0.638045\n",
       "compform         0.572451\n",
       "enttypeitem      0.330344\n",
       "empnum           0.211140\n",
       "regcap           0.007681\n",
       "industryco       0.000040\n",
       "oplocdistrict    0.000000\n",
       "industryphy      0.000000\n",
       "enttype          0.000000\n",
       "opfrom           0.000000\n",
       "enttypegb        0.000000\n",
       "state            0.000000\n",
       "orgid            0.000000\n",
       "jobid            0.000000\n",
       "adbusign         0.000000\n",
       "townsign         0.000000\n",
       "regtype          0.000000\n",
       "oploc            0.000000\n",
       "id               0.000000\n",
       "dtype: float64"
      ]
     },
     "execution_count": 13,
     "metadata": {},
     "output_type": "execute_result"
    }
   ],
   "source": [
    "missing_rate = base_info.isnull().sum() / len(base_info)\n",
    "missing_rate = missing_rate.sort_values(ascending=False)\n",
    "missing_rate"
   ]
  },
  {
   "cell_type": "code",
   "execution_count": null,
   "metadata": {},
   "outputs": [],
   "source": []
  }
 ],
 "metadata": {
  "kernelspec": {
   "display_name": "Python 3",
   "language": "python",
   "name": "python3"
  },
  "language_info": {
   "codemirror_mode": {
    "name": "ipython",
    "version": 3
   },
   "file_extension": ".py",
   "mimetype": "text/x-python",
   "name": "python",
   "nbconvert_exporter": "python",
   "pygments_lexer": "ipython3",
   "version": "3.7.3"
  },
  "toc": {
   "base_numbering": 1,
   "nav_menu": {},
   "number_sections": true,
   "sideBar": true,
   "skip_h1_title": false,
   "title_cell": "Table of Contents",
   "title_sidebar": "Contents",
   "toc_cell": false,
   "toc_position": {},
   "toc_section_display": true,
   "toc_window_display": false
  }
 },
 "nbformat": 4,
 "nbformat_minor": 4
}
