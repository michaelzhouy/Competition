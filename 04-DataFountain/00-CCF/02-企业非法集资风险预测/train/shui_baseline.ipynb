{
 "cells": [
  {
   "cell_type": "code",
   "execution_count": 1,
   "metadata": {
    "ExecuteTime": {
     "end_time": "2020-11-21T12:54:55.422574Z",
     "start_time": "2020-11-21T12:54:53.956500Z"
    }
   },
   "outputs": [],
   "source": [
    "import numpy as np\n",
    "import pandas as pd\n",
    "import os\n",
    "import gc\n",
    "import missingno as msno\n",
    "from datetime import datetime\n",
    "import xgboost as xgb\n",
    "import lightgbm as lgb\n",
    "import catboost as cab\n",
    "from sklearn.metrics import classification_report, f1_score\n",
    "from sklearn.model_selection import StratifiedKFold, KFold\n",
    "from sklearn.model_selection import train_test_split\n",
    "from sklearn.metrics import f1_score,precision_recall_fscore_support,roc_curve,auc,roc_auc_score\n",
    "from sklearn.model_selection import GridSearchCV\n",
    "from sklearn.feature_extraction.text import TfidfVectorizer\n",
    "from sklearn.feature_extraction.text import CountVectorizer\n",
    "import warnings\n",
    "warnings.filterwarnings('ignore')"
   ]
  },
  {
   "cell_type": "code",
   "execution_count": null,
   "metadata": {},
   "outputs": [],
   "source": [
    "def identify_missing(df, missing_threshold):\n",
    "    \"\"\"\n",
    "    缺失率\n",
    "    @param df:\n",
    "    @param missing_threshold:\n",
    "    @return:\n",
    "    \"\"\"\n",
    "    missing_rate = df.isnull().sum() / len(df)\n",
    "    missing_rate = missing_rate.sort_values(ascending=False)\n",
    "    print(missing_rate)\n",
    "    to_drop = missing_rate[missing_rate > missing_threshold].index.to_list()\n",
    "    print('{} features with greater than {} missing values.\\n'.format(\n",
    "        len(to_drop), missing_threshold))\n",
    "    return to_drop"
   ]
  },
  {
   "cell_type": "code",
   "execution_count": 2,
   "metadata": {
    "ExecuteTime": {
     "end_time": "2020-11-21T12:54:55.918321Z",
     "start_time": "2020-11-21T12:54:55.423524Z"
    }
   },
   "outputs": [],
   "source": [
    "annual_report_info = pd.read_csv('../input/train/annual_report_info.csv')\n",
    "base_info = pd.read_csv('../input/train/base_info.csv')\n",
    "change_info = pd.read_csv('../input/train/change_info.csv')\n",
    "entprise_evaluate = pd.read_csv('../input/train/entprise_evaluate.csv')\n",
    "entprise_info = pd.read_csv('../input/train/entprise_info.csv')\n",
    "news_info = pd.read_csv('../input/train/news_info.csv')\n",
    "other_info = pd.read_csv('../input/train/other_info.csv')\n",
    "tax_info = pd.read_csv('../input/train/tax_info.csv')"
   ]
  },
  {
   "cell_type": "markdown",
   "metadata": {},
   "source": [
    "## base_info"
   ]
  },
  {
   "cell_type": "code",
   "execution_count": 4,
   "metadata": {
    "ExecuteTime": {
     "end_time": "2020-11-21T12:55:27.339021Z",
     "start_time": "2020-11-21T12:54:55.923982Z"
    }
   },
   "outputs": [],
   "source": [
    "base_info['district_FLAG1'] = (base_info['orgid'].fillna('').apply(lambda x: str(x)[:6]) == \\\n",
    "    base_info['oplocdistrict'].fillna('').apply(lambda x: str(x)[:6])).astype(int)\n",
    "base_info['district_FLAG2'] = (base_info['orgid'].fillna('').apply(lambda x: str(x)[:6]) == \\\n",
    "    base_info['jobid'].fillna('').apply(lambda x: str(x)[:6])).astype(int)\n",
    "base_info['district_FLAG3'] = (base_info['oplocdistrict'].fillna('').apply(lambda x: str(x)[:6]) == \\\n",
    "    base_info['jobid'].fillna('').apply(lambda x: str(x)[:6])).astype(int)\n",
    "\n",
    "base_info['person_SUM'] = base_info[['empnum', 'parnum', 'exenum']].sum(1)\n",
    "base_info['person_NULL_SUM'] = base_info[['empnum', 'parnum', 'exenum']].isnull().astype(int).sum(1)\n",
    "\n",
    "base_info['opfrom'] = pd.to_datetime(base_info['opfrom'])\n",
    "base_info['opto'] = pd.to_datetime(base_info['opto'])\n",
    "base_info['opfrom_TONOW'] = (datetime.now() - base_info['opfrom']).dt.days\n",
    "base_info['opfrom_TIME'] = (base_info['opto'] - base_info['opfrom']).dt.days\n",
    "base_info = base_info.drop(['opfrom', 'opto'], axis=1)\n",
    "\n",
    "base_info['opscope_COUNT'] = base_info['opscope'].apply(lambda x: len(x.replace(\"\\t\", \"，\").replace(\"\\n\", \"，\").split('、')))\n",
    "\n",
    "cat_col = ['oplocdistrict', 'industryphy', 'industryco', 'enttype',\n",
    "           'enttypeitem', 'enttypeminu', 'enttypegb',\n",
    "           'dom', 'oploc', 'opform']\n",
    "\n",
    "for col in cat_col:\n",
    "    base_info[col + '_COUNT'] = base_info[col].map(base_info[col].value_counts())\n",
    "    col_idx = base_info[col].value_counts()\n",
    "    for idx in col_idx[col_idx < 10].index:\n",
    "        base_info[col] = base_info[col].replace(idx, -1)\n",
    "        \n",
    "\n",
    "\n",
    "for col in ['industryphy', 'dom', 'opform', 'oploc']:\n",
    "    base_info[col] = pd.factorize(base_info[col])[0]"
   ]
  },
  {
   "cell_type": "markdown",
   "metadata": {},
   "source": [
    "## annual_report_info"
   ]
  },
  {
   "cell_type": "code",
   "execution_count": null,
   "metadata": {},
   "outputs": [],
   "source": [
    "to_drop = identify_missing(annual_report_info, missing_threshold=0.9)\n",
    "annual_report_info.drop(to_drop, axis=1, inplace=True)\n",
    "to_drop"
   ]
  },
  {
   "cell_type": "code",
   "execution_count": null,
   "metadata": {},
   "outputs": [],
   "source": [
    "# annual_report_info.sort_values(['id', 'ANCHEYEAR'], inplace=True)\n",
    "\n",
    "# annual_report_info_df = annual_report_info.groupby('id', as_index=False)['ANCHEYEAR'].agg({\n",
    "#     'ANCHEYEAR_max': 'max'\n",
    "# })\n",
    "\n",
    "# annual_report_info_df['STATE_last'] = annual_report_info.groupby('id')['STATE'].last()\n",
    "\n"
   ]
  },
  {
   "cell_type": "code",
   "execution_count": 5,
   "metadata": {
    "ExecuteTime": {
     "end_time": "2020-11-21T12:55:27.402900Z",
     "start_time": "2020-11-21T12:55:27.340020Z"
    }
   },
   "outputs": [],
   "source": [
    "train_data = pd.merge(base_info, entprise_info, on='id')\n",
    "\n",
    "entprise_evaluate = entprise_evaluate[['id']]\n",
    "test_data = pd.merge(base_info, entprise_evaluate, on='id')"
   ]
  },
  {
   "cell_type": "code",
   "execution_count": 6,
   "metadata": {
    "ExecuteTime": {
     "end_time": "2020-11-21T12:55:27.418118Z",
     "start_time": "2020-11-21T12:55:27.404846Z"
    }
   },
   "outputs": [],
   "source": [
    "def eval_score(y_test,y_pre):\n",
    "    _,_,f_class,_=precision_recall_fscore_support(y_true=y_test,y_pred=y_pre,labels=[0,1],average=None)\n",
    "    fper_class={'合法':f_class[0],'违法':f_class[1],'f1':f1_score(y_test,y_pre)}\n",
    "    return fper_class\n",
    "\n",
    "\n",
    "def k_fold_serachParmaters(model,train_val_data,train_val_kind, test_kind):\n",
    "    mean_f1=0\n",
    "    mean_f1Train=0\n",
    "    n_splits=5\n",
    "    \n",
    "    cat_features = ['oplocdistrict', 'industryphy', 'industryco', 'enttype',\n",
    "           'enttypeitem', 'enttypeminu', 'enttypegb',\n",
    "          'dom', 'oploc', 'opform']\n",
    "    \n",
    "    sk = StratifiedKFold(n_splits=n_splits, shuffle=True, random_state=2020)\n",
    "    pred_Test = np.zeros(len(test_kind))\n",
    "    for train, test in sk.split(train_val_data, train_val_kind):\n",
    "        x_train = train_val_data.iloc[train]\n",
    "        y_train = train_val_kind.iloc[train]\n",
    "        x_test = train_val_data.iloc[test]\n",
    "        y_test = train_val_kind.iloc[test]\n",
    "\n",
    "        model.fit(x_train, y_train, \n",
    "                  eval_set=[(x_test, y_test)], \n",
    "                  categorical_feature = cat_features,\n",
    "                 early_stopping_rounds=100,\n",
    "                 verbose=False)\n",
    "        \n",
    "        pred = model.predict(x_test)\n",
    "        fper_class = eval_score(y_test,pred)\n",
    "        \n",
    "        pred_Train = model.predict(x_train)\n",
    "        pred_Test += model.predict_proba(test_kind)[:, 1]/n_splits\n",
    "        fper_class_train = eval_score(y_train,pred_Train)\n",
    "\n",
    "        mean_f1 += fper_class['f1']/n_splits\n",
    "        mean_f1Train+=fper_class_train['f1']/n_splits\n",
    "        # print(mean_f1, mean_f1Train)\n",
    "        \n",
    "        \n",
    "    return mean_f1, pred_Test"
   ]
  },
  {
   "cell_type": "code",
   "execution_count": 7,
   "metadata": {
    "ExecuteTime": {
     "end_time": "2020-11-21T12:56:12.647266Z",
     "start_time": "2020-11-21T12:55:27.420803Z"
    }
   },
   "outputs": [
    {
     "name": "stdout",
     "output_type": "stream",
     "text": [
      "0.8408279657558037 0.0016044645761379517\n"
     ]
    }
   ],
   "source": [
    "score_tta = None\n",
    "score_list = []\n",
    "\n",
    "tta_fold = 20\n",
    "for _ in range(tta_fold):\n",
    "    clf = lgb.LGBMClassifier(\n",
    "        num_leaves=np.random.randint(6, 10), min_child_samples= np.random.randint(2,5),\n",
    "        max_depth=5,learning_rate=0.03,\n",
    "        n_estimators=150,n_jobs=-1)\n",
    "\n",
    "    score, test_pred = k_fold_serachParmaters(clf,\n",
    "                           train_data.drop(['id', 'opscope', 'label'], axis=1),\n",
    "                           train_data['label'],\n",
    "                           test_data.drop(['id', 'opscope'], axis=1),\n",
    "                          )\n",
    "\n",
    "    if score_tta is None:\n",
    "        score_tta = test_pred/tta_fold\n",
    "    else:\n",
    "        score_tta += test_pred/tta_fold\n",
    "    # print(score)\n",
    "    score_list.append(score)\n",
    "    \n",
    "print(np.array(score_list).mean(), np.array(score_list).std())\n",
    "\n",
    "# 0.8409009891081304 0.0014659088691699714\n",
    "# 0.8411290444519868 0.001378557958278656\n",
    "# 0.8408279657558037 0.0016044645761379517"
   ]
  },
  {
   "cell_type": "code",
   "execution_count": 8,
   "metadata": {
    "ExecuteTime": {
     "end_time": "2020-11-21T12:56:12.742037Z",
     "start_time": "2020-11-21T12:56:12.650258Z"
    }
   },
   "outputs": [],
   "source": [
    "test_data['score'] = score_tta\n",
    "\n",
    "test_data[['id', 'score']].to_csv('tmp.csv', index=None)"
   ]
  }
 ],
 "metadata": {
  "kernelspec": {
   "display_name": "Python 3",
   "language": "python",
   "name": "python3"
  },
  "language_info": {
   "codemirror_mode": {
    "name": "ipython",
    "version": 3
   },
   "file_extension": ".py",
   "mimetype": "text/x-python",
   "name": "python",
   "nbconvert_exporter": "python",
   "pygments_lexer": "ipython3",
   "version": "3.7.3"
  },
  "toc": {
   "base_numbering": 1,
   "nav_menu": {},
   "number_sections": true,
   "sideBar": true,
   "skip_h1_title": false,
   "title_cell": "Table of Contents",
   "title_sidebar": "Contents",
   "toc_cell": false,
   "toc_position": {},
   "toc_section_display": true,
   "toc_window_display": false
  }
 },
 "nbformat": 4,
 "nbformat_minor": 4
}
