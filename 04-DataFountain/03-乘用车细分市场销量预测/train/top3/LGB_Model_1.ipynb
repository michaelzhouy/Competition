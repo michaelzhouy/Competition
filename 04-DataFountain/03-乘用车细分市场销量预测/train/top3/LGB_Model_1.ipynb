{
 "cells": [
  {
   "cell_type": "code",
   "execution_count": 1,
   "metadata": {
    "ExecuteTime": {
     "end_time": "2020-08-18T09:44:33.490949Z",
     "start_time": "2020-08-18T09:44:32.477633Z"
    }
   },
   "outputs": [],
   "source": [
    "from time import time\n",
    "import numpy as np\n",
    "import pandas as pd\n",
    "import matplotlib.pyplot as plt\n",
    "from sklearn.metrics import mean_squared_error as mse\n",
    "import lightgbm as lgb\n",
    "\n",
    "from tqdm import tqdm\n",
    "import gc\n",
    "import warnings\n",
    "warnings.simplefilter(action='ignore', category=FutureWarning)\n",
    "warnings.filterwarnings('ignore')"
   ]
  },
  {
   "cell_type": "markdown",
   "metadata": {},
   "source": [
    "# 读取数据"
   ]
  },
  {
   "cell_type": "code",
   "execution_count": 2,
   "metadata": {
    "ExecuteTime": {
     "end_time": "2020-08-18T09:44:33.626667Z",
     "start_time": "2020-08-18T09:44:33.493873Z"
    }
   },
   "outputs": [
    {
     "data": {
      "text/plain": [
       "0"
      ]
     },
     "execution_count": 2,
     "metadata": {},
     "output_type": "execute_result"
    }
   ],
   "source": [
    "data_path = '../../input/Round1/'\n",
    "\n",
    "train_sales_data = pd.read_csv(data_path + 'train_sales_data.csv', encoding='utf-8')\n",
    "train_search_data = pd.read_csv(data_path + 'train_search_data.csv', encoding='utf-8')\n",
    "test_data = pd.read_csv(data_path + 'evaluation_public.csv', encoding='utf-8')\n",
    "\n",
    "data = pd.concat([train_sales_data, test_data], ignore_index=True)\n",
    "data = data.merge(train_search_data, on=['province', 'adcode', 'model', 'regYear', 'regMonth'], how='left')\n",
    "\n",
    "\n",
    "data['label'] = data['salesVolume']\n",
    "\n",
    "del data['salesVolume'], data['forecastVolum']\n",
    "gc.collect()"
   ]
  },
  {
   "cell_type": "code",
   "execution_count": 3,
   "metadata": {
    "ExecuteTime": {
     "end_time": "2020-08-18T09:44:33.651641Z",
     "start_time": "2020-08-18T09:44:33.627639Z"
    }
   },
   "outputs": [],
   "source": [
    "data['id'] = data['id'].fillna(0).astype(int)\n",
    "data['bodyType'] = data['model'].map(train_sales_data.drop_duplicates('model').set_index('model')['bodyType'])\n",
    "\n",
    "# Label Encoder\n",
    "for i in ['bodyType', 'model']:\n",
    "    data[i] = data[i].map(dict(zip(data[i].unique(), range(data[i].nunique()))))"
   ]
  },
  {
   "cell_type": "code",
   "execution_count": 4,
   "metadata": {
    "ExecuteTime": {
     "end_time": "2020-08-18T09:44:33.666535Z",
     "start_time": "2020-08-18T09:44:33.652573Z"
    }
   },
   "outputs": [],
   "source": [
    "data['seq'] = (data['regYear'] - 2016) * 12 + data['regMonth'] # 获取时间序列标记"
   ]
  },
  {
   "cell_type": "code",
   "execution_count": 5,
   "metadata": {
    "ExecuteTime": {
     "end_time": "2020-08-18T09:44:33.673516Z",
     "start_time": "2020-08-18T09:44:33.667561Z"
    }
   },
   "outputs": [
    {
     "data": {
      "text/plain": [
       "array([ 1,  2,  3,  4,  5,  6,  7,  8,  9, 10, 11, 12, 13, 14, 15, 16, 17,\n",
       "       18, 19, 20, 21, 22, 23, 24, 25, 26, 27, 28], dtype=int64)"
      ]
     },
     "execution_count": 5,
     "metadata": {},
     "output_type": "execute_result"
    }
   ],
   "source": [
    "data['seq'].unique()"
   ]
  },
  {
   "cell_type": "code",
   "execution_count": 6,
   "metadata": {
    "ExecuteTime": {
     "end_time": "2020-08-18T09:44:33.695456Z",
     "start_time": "2020-08-18T09:44:33.683489Z"
    }
   },
   "outputs": [
    {
     "data": {
      "text/plain": [
       "array([310000, 530000, 150000, 110000, 510000, 340000, 370000, 140000,\n",
       "       440000, 450000, 320000, 360000, 130000, 410000, 330000, 420000,\n",
       "       430000, 350000, 210000, 500000, 610000, 230000], dtype=int64)"
      ]
     },
     "execution_count": 6,
     "metadata": {},
     "output_type": "execute_result"
    }
   ],
   "source": [
    "data['adcode'].unique()"
   ]
  },
  {
   "cell_type": "code",
   "execution_count": 7,
   "metadata": {
    "ExecuteTime": {
     "end_time": "2020-08-18T09:44:33.702439Z",
     "start_time": "2020-08-18T09:44:33.697453Z"
    }
   },
   "outputs": [
    {
     "data": {
      "text/plain": [
       "array([ 0,  1,  2,  3,  4,  5,  6,  7,  8,  9, 10, 11, 12, 13, 14, 15, 16,\n",
       "       17, 18, 19, 20, 21, 22, 23, 24, 25, 26, 27, 28, 29, 30, 31, 32, 33,\n",
       "       34, 35, 36, 37, 38, 39, 40, 41, 42, 43, 44, 45, 46, 47, 48, 49, 50,\n",
       "       51, 52, 53, 54, 55, 56, 57, 58, 59], dtype=int64)"
      ]
     },
     "execution_count": 7,
     "metadata": {},
     "output_type": "execute_result"
    }
   ],
   "source": [
    "data['model'].unique()"
   ]
  },
  {
   "cell_type": "code",
   "execution_count": 8,
   "metadata": {
    "ExecuteTime": {
     "end_time": "2020-08-18T09:44:33.710416Z",
     "start_time": "2020-08-18T09:44:33.704434Z"
    }
   },
   "outputs": [
    {
     "data": {
      "text/plain": [
       "array([0, 1, 2, 3], dtype=int64)"
      ]
     },
     "execution_count": 8,
     "metadata": {},
     "output_type": "execute_result"
    }
   ],
   "source": [
    "data['bodyType'].unique()"
   ]
  },
  {
   "cell_type": "code",
   "execution_count": 9,
   "metadata": {
    "ExecuteTime": {
     "end_time": "2020-08-18T09:44:33.723421Z",
     "start_time": "2020-08-18T09:44:33.711414Z"
    }
   },
   "outputs": [],
   "source": [
    "data['model_adcode'] = data['adcode'] + data['model']\n",
    "data['model_adcode_seq'] = data['model_adcode'] * 100 + data['seq']\n",
    "\n",
    "data['adcode_seq'] = data['adcode'] * 100 + data['seq']\n",
    "data['model_seq'] = data['model'] * 10000 + data['seq']"
   ]
  },
  {
   "cell_type": "code",
   "execution_count": 10,
   "metadata": {
    "ExecuteTime": {
     "end_time": "2020-08-18T09:44:33.729367Z",
     "start_time": "2020-08-18T09:44:33.724380Z"
    }
   },
   "outputs": [],
   "source": [
    "data['label'] = np.log1p(data['label'])"
   ]
  },
  {
   "cell_type": "code",
   "execution_count": 11,
   "metadata": {
    "ExecuteTime": {
     "end_time": "2020-08-18T09:44:33.736350Z",
     "start_time": "2020-08-18T09:44:33.730365Z"
    }
   },
   "outputs": [
    {
     "data": {
      "text/plain": [
       "Index(['province', 'adcode', 'model', 'bodyType', 'regYear', 'regMonth', 'id',\n",
       "       'popularity', 'label', 'seq', 'model_adcode', 'model_adcode_seq',\n",
       "       'adcode_seq', 'model_seq'],\n",
       "      dtype='object')"
      ]
     },
     "execution_count": 11,
     "metadata": {},
     "output_type": "execute_result"
    }
   ],
   "source": [
    "data.columns"
   ]
  },
  {
   "cell_type": "markdown",
   "metadata": {},
   "source": [
    "# 评分函数"
   ]
  },
  {
   "cell_type": "code",
   "execution_count": 12,
   "metadata": {
    "ExecuteTime": {
     "end_time": "2020-08-18T09:44:33.746358Z",
     "start_time": "2020-08-18T09:44:33.737345Z"
    }
   },
   "outputs": [],
   "source": [
    "def metrics(y_true, y_pred, model):\n",
    "    data = pd.DataFrame({'model': model, 'salesVolume': y_true, 'label': y_pred})\n",
    "    data['label'] = data['label'].map(lambda index: -index if index < 0 else index)\n",
    "    res, count = 0, 0\n",
    "    for index, cars in data.groupby('model'):\n",
    "        a = np.array(cars['salesVolume'])\n",
    "        b = np.array(cars['label'])\n",
    "        temp = np.sqrt(np.sum((a - b) ** 2) / len(a)) / np.mean(a)\n",
    "        res += temp\n",
    "        count += 1\n",
    "        print(temp)\n",
    "    return 1 - (res / count)"
   ]
  },
  {
   "cell_type": "markdown",
   "metadata": {},
   "source": [
    "# 特征工程"
   ]
  },
  {
   "cell_type": "markdown",
   "metadata": {},
   "source": [
    "## 获取时移特征"
   ]
  },
  {
   "cell_type": "code",
   "execution_count": 13,
   "metadata": {
    "ExecuteTime": {
     "end_time": "2020-08-18T09:44:33.754325Z",
     "start_time": "2020-08-18T09:44:33.747324Z"
    }
   },
   "outputs": [],
   "source": [
    "# 做一个shift操作\n",
    "def get_time_shift_feature(Data, month):\n",
    "    # ['province', 'adcode', 'model', 'bodyType', 'regYear', 'regMonth', 'id', 'popularity',\n",
    "    #  'label', 'seq', 'model_adcode', 'model_adcode_seq', 'adcode_seq', 'model_seq']\n",
    "    data = Data[['adcode', 'bodyType', 'id', 'model', 'regMonth', 'regYear', 'label',\n",
    "                 'seq', 'model_adcode', 'model_adcode_seq','adcode_seq', 'model_seq',\n",
    "                 'popularity']]\n",
    "    for j in range(1, 13):\n",
    "        data['model_adcode_seq_{}'.format(j)] = data['model_adcode_seq'] + j\n",
    "        data_index = data[data.label.notnull()].set_index('model_adcode_seq_{}'.format(j))\n",
    "        # label\n",
    "        data['shift_label_{}'.format(j)] = data['model_adcode_seq'].map(data_index['label'])\n",
    "        # popularity\n",
    "        # popularity只在预测第一个月时用\n",
    "        if month == 1:\n",
    "            data['shift_popularity_{}'.format(j)] = data['model_adcode_seq'].map(data_index['popularity'])\n",
    "        data = data.drop(['model_adcode_seq_{}'.format(j)], axis=1)\n",
    "        gc.collect()\n",
    "    return data"
   ]
  },
  {
   "cell_type": "markdown",
   "metadata": {},
   "source": [
    "## 获取组合时移特征"
   ]
  },
  {
   "cell_type": "code",
   "execution_count": 14,
   "metadata": {
    "ExecuteTime": {
     "end_time": "2020-08-18T09:44:33.763312Z",
     "start_time": "2020-08-18T09:44:33.755296Z"
    }
   },
   "outputs": [],
   "source": [
    "# 先groupby对label求和，再对groupby对象做一个shift操作\n",
    "def get_group_shift_feature(data, group_feature):\n",
    "    # group_feature = 'adcode_seq', 'model_seq'\n",
    "    Data = data.copy()\n",
    "    g_data = Data.groupby(by=[group_feature])['label'].apply(lambda x: x.sum(skipna=False))\n",
    "    g_data = g_data.fillna(np.nan).reset_index()\n",
    "    for j in range(1, 13):\n",
    "        g_data['{}_{}'.format(group_feature, j)] = g_data[group_feature] + j\n",
    "        g_data_index = g_data[g_data.label.notnull()].set_index('{}_{}'.format(group_feature, j))\n",
    "        g_data['{}_shift_{}'.format(group_feature, j)] = g_data[group_feature].map(g_data_index['label'])\n",
    "        del g_data['{}_{}'.format(group_feature, j)]\n",
    "        gc.collect()\n",
    "    del g_data['label']\n",
    "    gc.collect()\n",
    "    data = pd.merge(data, g_data, on=[group_feature], how='left')\n",
    "    return data"
   ]
  },
  {
   "cell_type": "markdown",
   "metadata": {},
   "source": [
    "## 获取历史销量特征"
   ]
  },
  {
   "cell_type": "code",
   "execution_count": 15,
   "metadata": {
    "ExecuteTime": {
     "end_time": "2020-08-18T09:44:33.771257Z",
     "start_time": "2020-08-18T09:44:33.764273Z"
    }
   },
   "outputs": [],
   "source": [
    "# 计算过去几月的特征和\n",
    "def calculate_sum_mean(feature, month):\n",
    "    data[feature.format('sum_{}'.format(month))] = 0\n",
    "    \n",
    "    # 求和\n",
    "    for i in range(1, month + 1):\n",
    "        data[feature.format('sum_{}'.format(month))] += data[feature.format(i)]\n",
    "    \n",
    "    # 求均值\n",
    "    data[feature.format('mean_{}'.format(month))] = data[feature.format('sum_{}'.format(month))] / month\n",
    "\n",
    "\n",
    "# 对前几个月的特征求和\n",
    "def get_history_label_feature(month):\n",
    "    # month = 1, 2, 3, 4\n",
    "    # month = 1\n",
    "    for i in tqdm([2, 3, 4, 6, 12]):\n",
    "        # i=2: feature.format('sum_{}'.format(month))=shift_label_sum_2=shift_label_1+shift_label_2\n",
    "        #      feature.format('mean_{}')=shift_label_mean_2\n",
    "        # i=3: feature.format('sum_{}'.format(month))=shift_label_sum_3=shift_label_1+shift_label_2+shift_label_3\n",
    "        #      feature.format('mean_{}')=shift_label_mean_3\n",
    "        \n",
    "        # shift_label_{}\n",
    "        calculate_sum_mean('shift_label_{}', i)\n",
    "        \n",
    "        # popularity只在预测第一个月时用\n",
    "        # shift_popularity_{}\n",
    "        if month == 1:\n",
    "            calculate_sum_mean('shift_popularity_{}', i)\n",
    "        \n",
    "        # adcode_seq_shift_{}\n",
    "        calculate_sum_mean('adcode_seq_shift_{}', i)\n",
    "        \n",
    "        # adcode_seq_shift_{}\n",
    "        calculate_sum_mean('model_seq_shift_{}', i)"
   ]
  },
  {
   "cell_type": "markdown",
   "metadata": {},
   "source": [
    "# 定义lgb模型"
   ]
  },
  {
   "cell_type": "code",
   "execution_count": 16,
   "metadata": {
    "ExecuteTime": {
     "end_time": "2020-08-18T09:44:33.777238Z",
     "start_time": "2020-08-18T09:44:33.772296Z"
    }
   },
   "outputs": [],
   "source": [
    "lgb_model = lgb.LGBMRegressor(\n",
    "    num_leaves=2**5-1,\n",
    "    reg_alpha=0.25,\n",
    "    reg_lambda=0.25,\n",
    "    objective='mse',\n",
    "    max_depth=-1,\n",
    "    learning_rate=0.05,\n",
    "    min_child_samples=5,\n",
    "    seed=2020,\n",
    "    n_estimators=2000,\n",
    "    subsample=0.9,\n",
    "    colsample_bytree=0.7\n",
    ")"
   ]
  },
  {
   "cell_type": "markdown",
   "metadata": {},
   "source": [
    "# 分车型预测单月销量，再预测下月"
   ]
  },
  {
   "cell_type": "code",
   "execution_count": 17,
   "metadata": {
    "ExecuteTime": {
     "end_time": "2020-08-18T09:48:14.790388Z",
     "start_time": "2020-08-18T09:44:33.778236Z"
    }
   },
   "outputs": [
    {
     "name": "stdout",
     "output_type": "stream",
     "text": [
      "=================predict bodytype0 month 1==================\n"
     ]
    },
    {
     "name": "stderr",
     "output_type": "stream",
     "text": [
      "100%|████████████████████████████████████████████████████████████████████████████████████| 5/5 [00:00<00:00, 55.70it/s]\n"
     ]
    },
    {
     "name": "stdout",
     "output_type": "stream",
     "text": [
      "88\n",
      "train LGB model\n",
      "\n",
      "month 1 train ending\n",
      "\n",
      "=================predict bodytype0 month 2==================\n"
     ]
    },
    {
     "name": "stderr",
     "output_type": "stream",
     "text": [
      "100%|████████████████████████████████████████████████████████████████████████████████████| 5/5 [00:00<00:00, 74.85it/s]\n"
     ]
    },
    {
     "name": "stdout",
     "output_type": "stream",
     "text": [
      "66\n",
      "train LGB model\n",
      "\n",
      "month 2 train ending\n",
      "\n",
      "=================predict bodytype0 month 3==================\n"
     ]
    },
    {
     "name": "stderr",
     "output_type": "stream",
     "text": [
      "100%|████████████████████████████████████████████████████████████████████████████████████| 5/5 [00:00<00:00, 73.73it/s]\n"
     ]
    },
    {
     "name": "stdout",
     "output_type": "stream",
     "text": [
      "66\n",
      "train LGB model\n",
      "\n",
      "month 3 train ending\n",
      "\n",
      "=================predict bodytype0 month 4==================\n"
     ]
    },
    {
     "name": "stderr",
     "output_type": "stream",
     "text": [
      "100%|████████████████████████████████████████████████████████████████████████████████████| 5/5 [00:00<00:00, 74.87it/s]\n"
     ]
    },
    {
     "name": "stdout",
     "output_type": "stream",
     "text": [
      "66\n",
      "train LGB model\n",
      "\n",
      "month 4 train ending\n",
      "\n",
      "=================predict bodytype1 month 1==================\n"
     ]
    },
    {
     "name": "stderr",
     "output_type": "stream",
     "text": [
      "100%|████████████████████████████████████████████████████████████████████████████████████| 5/5 [00:00<00:00, 55.72it/s]\n"
     ]
    },
    {
     "name": "stdout",
     "output_type": "stream",
     "text": [
      "88\n",
      "train LGB model\n",
      "\n",
      "month 1 train ending\n",
      "\n",
      "=================predict bodytype1 month 2==================\n"
     ]
    },
    {
     "name": "stderr",
     "output_type": "stream",
     "text": [
      "100%|████████████████████████████████████████████████████████████████████████████████████| 5/5 [00:00<00:00, 78.34it/s]\n"
     ]
    },
    {
     "name": "stdout",
     "output_type": "stream",
     "text": [
      "66\n",
      "train LGB model\n",
      "\n",
      "month 2 train ending\n",
      "\n",
      "=================predict bodytype1 month 3==================\n"
     ]
    },
    {
     "name": "stderr",
     "output_type": "stream",
     "text": [
      "100%|████████████████████████████████████████████████████████████████████████████████████| 5/5 [00:00<00:00, 70.65it/s]\n"
     ]
    },
    {
     "name": "stdout",
     "output_type": "stream",
     "text": [
      "66\n",
      "train LGB model\n",
      "\n",
      "month 3 train ending\n",
      "\n",
      "=================predict bodytype1 month 4==================\n"
     ]
    },
    {
     "name": "stderr",
     "output_type": "stream",
     "text": [
      "100%|████████████████████████████████████████████████████████████████████████████████████| 5/5 [00:00<00:00, 79.58it/s]\n"
     ]
    },
    {
     "name": "stdout",
     "output_type": "stream",
     "text": [
      "66\n",
      "train LGB model\n",
      "\n",
      "month 4 train ending\n",
      "\n",
      "=================predict bodytype2 month 1==================\n"
     ]
    },
    {
     "name": "stderr",
     "output_type": "stream",
     "text": [
      "100%|████████████████████████████████████████████████████████████████████████████████████| 5/5 [00:00<00:00, 92.82it/s]\n"
     ]
    },
    {
     "name": "stdout",
     "output_type": "stream",
     "text": [
      "88\n",
      "train LGB model\n",
      "\n",
      "month 1 train ending\n",
      "\n",
      "=================predict bodytype2 month 2==================\n"
     ]
    },
    {
     "name": "stderr",
     "output_type": "stream",
     "text": [
      "100%|███████████████████████████████████████████████████████████████████████████████████| 5/5 [00:00<00:00, 118.86it/s]\n"
     ]
    },
    {
     "name": "stdout",
     "output_type": "stream",
     "text": [
      "66\n",
      "train LGB model\n",
      "\n",
      "month 2 train ending\n",
      "\n",
      "=================predict bodytype2 month 3==================\n"
     ]
    },
    {
     "name": "stderr",
     "output_type": "stream",
     "text": [
      "100%|███████████████████████████████████████████████████████████████████████████████████| 5/5 [00:00<00:00, 122.16it/s]\n"
     ]
    },
    {
     "name": "stdout",
     "output_type": "stream",
     "text": [
      "66\n",
      "train LGB model\n",
      "\n",
      "month 3 train ending\n",
      "\n",
      "=================predict bodytype2 month 4==================\n"
     ]
    },
    {
     "name": "stderr",
     "output_type": "stream",
     "text": [
      "100%|███████████████████████████████████████████████████████████████████████████████████| 5/5 [00:00<00:00, 116.59it/s]\n"
     ]
    },
    {
     "name": "stdout",
     "output_type": "stream",
     "text": [
      "66\n",
      "train LGB model\n",
      "\n",
      "month 4 train ending\n",
      "\n",
      "=================predict bodytype3 month 1==================\n"
     ]
    },
    {
     "name": "stderr",
     "output_type": "stream",
     "text": [
      "100%|████████████████████████████████████████████████████████████████████████████████████| 5/5 [00:00<00:00, 92.77it/s]\n"
     ]
    },
    {
     "name": "stdout",
     "output_type": "stream",
     "text": [
      "88\n",
      "train LGB model\n",
      "\n",
      "month 1 train ending\n",
      "\n",
      "=================predict bodytype3 month 2==================\n"
     ]
    },
    {
     "name": "stderr",
     "output_type": "stream",
     "text": [
      "100%|███████████████████████████████████████████████████████████████████████████████████| 5/5 [00:00<00:00, 125.33it/s]\n"
     ]
    },
    {
     "name": "stdout",
     "output_type": "stream",
     "text": [
      "66\n",
      "train LGB model\n",
      "\n",
      "month 2 train ending\n",
      "\n",
      "=================predict bodytype3 month 3==================\n"
     ]
    },
    {
     "name": "stderr",
     "output_type": "stream",
     "text": [
      "100%|███████████████████████████████████████████████████████████████████████████████████| 5/5 [00:00<00:00, 123.50it/s]\n"
     ]
    },
    {
     "name": "stdout",
     "output_type": "stream",
     "text": [
      "66\n",
      "train LGB model\n",
      "\n",
      "month 3 train ending\n",
      "\n",
      "=================predict bodytype3 month 4==================\n"
     ]
    },
    {
     "name": "stderr",
     "output_type": "stream",
     "text": [
      "100%|███████████████████████████████████████████████████████████████████████████████████| 5/5 [00:00<00:00, 122.39it/s]\n"
     ]
    },
    {
     "name": "stdout",
     "output_type": "stream",
     "text": [
      "66\n",
      "train LGB model\n",
      "\n",
      "month 4 train ending\n",
      "\n"
     ]
    }
   ],
   "source": [
    "Data = data.copy()\n",
    "datas = pd.DataFrame()\n",
    "for k in range(4):\n",
    "    data = Data[Data['bodyType'] == k]\n",
    "    for i in range(1, 5):\n",
    "        print('=================predict bodytype{0} month {1}=================='.format(k, i))\n",
    "\n",
    "        data = get_time_shift_feature(data, i)\n",
    "        data = get_group_shift_feature(data, 'adcode_seq')\n",
    "        data = get_group_shift_feature(data, 'model_seq')\n",
    "        get_history_label_feature(i)\n",
    "\n",
    "        data_columns = list(data.columns)\n",
    "        \n",
    "        # 数值特征\n",
    "        number_feature = []\n",
    "        dels = ['regMonth', 'regYear', 'adcode', 'bodyType', 'id', 'model', 'province', 'label', 'seq', 'model_adcode',\n",
    "                'model_adcode_seq', 'adcode_seq', 'model_seq', 'popularity']\n",
    "        for index in data_columns:\n",
    "            if index in dels:\n",
    "                continue\n",
    "            else:\n",
    "                number_feature.append(index)\n",
    "\n",
    "        print(len(number_feature))\n",
    "        \n",
    "        # 类别特征\n",
    "        category_feature = ['regMonth', 'regYear', 'adcode', 'bodyType', 'model', 'model_adcode_seq', 'model_adcode']\n",
    "        features = list(number_feature) + category_feature\n",
    "        \n",
    "        # 预测数据\n",
    "        predict_data = data[data['seq'] == 24 + i]\n",
    "        # 训练数据，只用一年内的数据\n",
    "        train_idx = (data['seq'].between(13, 23 + i))\n",
    "\n",
    "        train_y = data[train_idx]['label']\n",
    "        train_x = data[train_idx][features]\n",
    "\n",
    "        print(\"train LGB model\\n\")\n",
    "        lgb_model.fit(train_x, train_y, categorical_feature=category_feature)\n",
    "        predict_data['lgb_pred_label'] = lgb_model.predict(predict_data[features])\n",
    "        print('month {} train ending\\n'.format(i))\n",
    "\n",
    "        predict_data = predict_data.sort_values(by=['id'])\n",
    "        \n",
    "        # 将预测结果合并到训练集中，一起训练\n",
    "        data['transform_label'] = data['id'].map(predict_data.set_index('id')['lgb_pred_label'])\n",
    "        data['label'] = data['label'].fillna(data['transform_label'])\n",
    "        del data['transform_label']\n",
    "        \n",
    "        # 将所有预测结果拼接起来\n",
    "        datas = pd.concat([datas, predict_data], ignore_index=True)"
   ]
  },
  {
   "cell_type": "markdown",
   "metadata": {},
   "source": [
    "# Submission"
   ]
  },
  {
   "cell_type": "code",
   "execution_count": 18,
   "metadata": {
    "ExecuteTime": {
     "end_time": "2020-08-18T09:48:14.846271Z",
     "start_time": "2020-08-18T09:48:14.798366Z"
    }
   },
   "outputs": [],
   "source": [
    "datas = datas.sort_values(by=['id'])\n",
    "datas['label'] = np.expm1(datas['lgb_pred_label'])\n",
    "datas['forecastVolum'] = datas['label'].apply(lambda x: 0 if x < 0 else x).round().astype(int)\n",
    "datas[['id', 'forecastVolum']].to_csv('../../sub/lgb_one.csv', index=False)"
   ]
  },
  {
   "cell_type": "code",
   "execution_count": 19,
   "metadata": {
    "ExecuteTime": {
     "end_time": "2020-08-18T09:48:14.859231Z",
     "start_time": "2020-08-18T09:48:14.849259Z"
    }
   },
   "outputs": [
    {
     "data": {
      "text/plain": [
       "regMonth\n",
       "1    486.823485\n",
       "2    326.763636\n",
       "3    491.113636\n",
       "4    482.550000\n",
       "Name: forecastVolum, dtype: float64"
      ]
     },
     "execution_count": 19,
     "metadata": {},
     "output_type": "execute_result"
    }
   ],
   "source": [
    "datas['forecastVolum'].mean()\n",
    "datas.groupby(['regMonth'])['forecastVolum'].mean()"
   ]
  }
 ],
 "metadata": {
  "kernelspec": {
   "display_name": "Python 3",
   "language": "python",
   "name": "python3"
  },
  "language_info": {
   "codemirror_mode": {
    "name": "ipython",
    "version": 3
   },
   "file_extension": ".py",
   "mimetype": "text/x-python",
   "name": "python",
   "nbconvert_exporter": "python",
   "pygments_lexer": "ipython3",
   "version": "3.7.3"
  },
  "toc": {
   "base_numbering": 1,
   "nav_menu": {},
   "number_sections": true,
   "sideBar": true,
   "skip_h1_title": false,
   "title_cell": "Table of Contents",
   "title_sidebar": "Contents",
   "toc_cell": false,
   "toc_position": {},
   "toc_section_display": true,
   "toc_window_display": false
  },
  "varInspector": {
   "cols": {
    "lenName": 16,
    "lenType": 16,
    "lenVar": 40
   },
   "kernels_config": {
    "python": {
     "delete_cmd_postfix": "",
     "delete_cmd_prefix": "del ",
     "library": "var_list.py",
     "varRefreshCmd": "print(var_dic_list())"
    },
    "r": {
     "delete_cmd_postfix": ") ",
     "delete_cmd_prefix": "rm(",
     "library": "var_list.r",
     "varRefreshCmd": "cat(var_dic_list()) "
    }
   },
   "oldHeight": 122.4,
   "position": {
    "height": "40px",
    "left": "857.8px",
    "right": "20px",
    "top": "120px",
    "width": "350px"
   },
   "types_to_exclude": [
    "module",
    "function",
    "builtin_function_or_method",
    "instance",
    "_Feature"
   ],
   "varInspector_section_display": "none",
   "window_display": false
  }
 },
 "nbformat": 4,
 "nbformat_minor": 4
}
