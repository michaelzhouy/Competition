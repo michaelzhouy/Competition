{
 "cells": [
  {
   "cell_type": "code",
   "execution_count": 1,
   "metadata": {
    "ExecuteTime": {
     "end_time": "2020-08-10T12:40:27.452062Z",
     "start_time": "2020-08-10T12:40:26.270491Z"
    }
   },
   "outputs": [],
   "source": [
    "import sys\n",
    "import numpy as np\n",
    "import pandas as pd\n",
    "import os \n",
    "import gc\n",
    "from tqdm import tqdm, tqdm_notebook\n",
    "from sklearn.model_selection import StratifiedKFold, KFold\n",
    "from sklearn.metrics import f1_score, roc_auc_score\n",
    "from sklearn.metrics import mean_squared_error as mse\n",
    "from sklearn.preprocessing import LabelEncoder\n",
    "import datetime\n",
    "import time\n",
    "import lightgbm as lgb\n",
    "import xgboost as xgb\n",
    "import warnings\n",
    "warnings.simplefilter(action='ignore', category=FutureWarning)\n",
    "warnings.filterwarnings('ignore')\n",
    "pd.set_option('max_columns', None)\n",
    "pd.set_option('max_rows', None)"
   ]
  },
  {
   "cell_type": "code",
   "execution_count": 2,
   "metadata": {
    "ExecuteTime": {
     "end_time": "2020-08-10T12:40:27.524220Z",
     "start_time": "2020-08-10T12:40:27.454044Z"
    }
   },
   "outputs": [],
   "source": [
    "train_sales = pd.read_csv('../input/Round1/train_sales_data.csv')\n",
    "train_search = pd.read_csv('../input/Round1/train_search_data.csv')\n",
    "train_user = pd.read_csv('../input/Round1/train_user_reply_data.csv')\n",
    "evaluation_public = pd.read_csv('../input/Round1/evaluation_public.csv')\n",
    "submit_example = pd.read_csv('../input/Round1/submit_example.csv')"
   ]
  },
  {
   "cell_type": "code",
   "execution_count": 3,
   "metadata": {
    "ExecuteTime": {
     "end_time": "2020-08-10T12:40:27.554173Z",
     "start_time": "2020-08-10T12:40:27.525221Z"
    }
   },
   "outputs": [
    {
     "data": {
      "text/html": [
       "<div>\n",
       "<style scoped>\n",
       "    .dataframe tbody tr th:only-of-type {\n",
       "        vertical-align: middle;\n",
       "    }\n",
       "\n",
       "    .dataframe tbody tr th {\n",
       "        vertical-align: top;\n",
       "    }\n",
       "\n",
       "    .dataframe thead th {\n",
       "        text-align: right;\n",
       "    }\n",
       "</style>\n",
       "<table border=\"1\" class=\"dataframe\">\n",
       "  <thead>\n",
       "    <tr style=\"text-align: right;\">\n",
       "      <th></th>\n",
       "      <th>province</th>\n",
       "      <th>adcode</th>\n",
       "      <th>model</th>\n",
       "      <th>bodyType</th>\n",
       "      <th>regYear</th>\n",
       "      <th>regMonth</th>\n",
       "      <th>salesVolume</th>\n",
       "      <th>id</th>\n",
       "      <th>forecastVolum</th>\n",
       "    </tr>\n",
       "  </thead>\n",
       "  <tbody>\n",
       "    <tr>\n",
       "      <th>0</th>\n",
       "      <td>上海</td>\n",
       "      <td>310000</td>\n",
       "      <td>3c974920a76ac9c1</td>\n",
       "      <td>SUV</td>\n",
       "      <td>2016</td>\n",
       "      <td>1</td>\n",
       "      <td>292.0</td>\n",
       "      <td>NaN</td>\n",
       "      <td>NaN</td>\n",
       "    </tr>\n",
       "    <tr>\n",
       "      <th>1</th>\n",
       "      <td>云南</td>\n",
       "      <td>530000</td>\n",
       "      <td>3c974920a76ac9c1</td>\n",
       "      <td>SUV</td>\n",
       "      <td>2016</td>\n",
       "      <td>1</td>\n",
       "      <td>466.0</td>\n",
       "      <td>NaN</td>\n",
       "      <td>NaN</td>\n",
       "    </tr>\n",
       "    <tr>\n",
       "      <th>2</th>\n",
       "      <td>内蒙古</td>\n",
       "      <td>150000</td>\n",
       "      <td>3c974920a76ac9c1</td>\n",
       "      <td>SUV</td>\n",
       "      <td>2016</td>\n",
       "      <td>1</td>\n",
       "      <td>257.0</td>\n",
       "      <td>NaN</td>\n",
       "      <td>NaN</td>\n",
       "    </tr>\n",
       "    <tr>\n",
       "      <th>3</th>\n",
       "      <td>北京</td>\n",
       "      <td>110000</td>\n",
       "      <td>3c974920a76ac9c1</td>\n",
       "      <td>SUV</td>\n",
       "      <td>2016</td>\n",
       "      <td>1</td>\n",
       "      <td>408.0</td>\n",
       "      <td>NaN</td>\n",
       "      <td>NaN</td>\n",
       "    </tr>\n",
       "    <tr>\n",
       "      <th>4</th>\n",
       "      <td>四川</td>\n",
       "      <td>510000</td>\n",
       "      <td>3c974920a76ac9c1</td>\n",
       "      <td>SUV</td>\n",
       "      <td>2016</td>\n",
       "      <td>1</td>\n",
       "      <td>610.0</td>\n",
       "      <td>NaN</td>\n",
       "      <td>NaN</td>\n",
       "    </tr>\n",
       "    <tr>\n",
       "      <th>36955</th>\n",
       "      <td>福建</td>\n",
       "      <td>350000</td>\n",
       "      <td>a9a43d1a7ecbe75d</td>\n",
       "      <td>NaN</td>\n",
       "      <td>2018</td>\n",
       "      <td>4</td>\n",
       "      <td>NaN</td>\n",
       "      <td>5364.0</td>\n",
       "      <td>NaN</td>\n",
       "    </tr>\n",
       "    <tr>\n",
       "      <th>36956</th>\n",
       "      <td>辽宁</td>\n",
       "      <td>210000</td>\n",
       "      <td>a9a43d1a7ecbe75d</td>\n",
       "      <td>NaN</td>\n",
       "      <td>2018</td>\n",
       "      <td>4</td>\n",
       "      <td>NaN</td>\n",
       "      <td>5365.0</td>\n",
       "      <td>NaN</td>\n",
       "    </tr>\n",
       "    <tr>\n",
       "      <th>36957</th>\n",
       "      <td>重庆</td>\n",
       "      <td>500000</td>\n",
       "      <td>a9a43d1a7ecbe75d</td>\n",
       "      <td>NaN</td>\n",
       "      <td>2018</td>\n",
       "      <td>4</td>\n",
       "      <td>NaN</td>\n",
       "      <td>5366.0</td>\n",
       "      <td>NaN</td>\n",
       "    </tr>\n",
       "    <tr>\n",
       "      <th>36958</th>\n",
       "      <td>陕西</td>\n",
       "      <td>610000</td>\n",
       "      <td>a9a43d1a7ecbe75d</td>\n",
       "      <td>NaN</td>\n",
       "      <td>2018</td>\n",
       "      <td>4</td>\n",
       "      <td>NaN</td>\n",
       "      <td>5367.0</td>\n",
       "      <td>NaN</td>\n",
       "    </tr>\n",
       "    <tr>\n",
       "      <th>36959</th>\n",
       "      <td>黑龙江</td>\n",
       "      <td>230000</td>\n",
       "      <td>a9a43d1a7ecbe75d</td>\n",
       "      <td>NaN</td>\n",
       "      <td>2018</td>\n",
       "      <td>4</td>\n",
       "      <td>NaN</td>\n",
       "      <td>5368.0</td>\n",
       "      <td>NaN</td>\n",
       "    </tr>\n",
       "  </tbody>\n",
       "</table>\n",
       "</div>"
      ],
      "text/plain": [
       "      province  adcode             model bodyType  regYear  regMonth  \\\n",
       "0           上海  310000  3c974920a76ac9c1      SUV     2016         1   \n",
       "1           云南  530000  3c974920a76ac9c1      SUV     2016         1   \n",
       "2          内蒙古  150000  3c974920a76ac9c1      SUV     2016         1   \n",
       "3           北京  110000  3c974920a76ac9c1      SUV     2016         1   \n",
       "4           四川  510000  3c974920a76ac9c1      SUV     2016         1   \n",
       "36955       福建  350000  a9a43d1a7ecbe75d      NaN     2018         4   \n",
       "36956       辽宁  210000  a9a43d1a7ecbe75d      NaN     2018         4   \n",
       "36957       重庆  500000  a9a43d1a7ecbe75d      NaN     2018         4   \n",
       "36958       陕西  610000  a9a43d1a7ecbe75d      NaN     2018         4   \n",
       "36959      黑龙江  230000  a9a43d1a7ecbe75d      NaN     2018         4   \n",
       "\n",
       "       salesVolume      id  forecastVolum  \n",
       "0            292.0     NaN            NaN  \n",
       "1            466.0     NaN            NaN  \n",
       "2            257.0     NaN            NaN  \n",
       "3            408.0     NaN            NaN  \n",
       "4            610.0     NaN            NaN  \n",
       "36955          NaN  5364.0            NaN  \n",
       "36956          NaN  5365.0            NaN  \n",
       "36957          NaN  5366.0            NaN  \n",
       "36958          NaN  5367.0            NaN  \n",
       "36959          NaN  5368.0            NaN  "
      ]
     },
     "execution_count": 3,
     "metadata": {},
     "output_type": "execute_result"
    }
   ],
   "source": [
    "data = pd.concat([train_sales, evaluation_public], ignore_index=True)\n",
    "data.head().append(data.tail())"
   ]
  },
  {
   "cell_type": "code",
   "execution_count": 4,
   "metadata": {
    "ExecuteTime": {
     "end_time": "2020-08-10T12:40:27.595100Z",
     "start_time": "2020-08-10T12:40:27.555173Z"
    }
   },
   "outputs": [],
   "source": [
    "data = data.merge(train_search, how='left', on=['province', 'adcode', 'model', 'regYear', 'regMonth'])\n",
    "data = data.merge(train_user, how='left', on=['model', 'regYear', 'regMonth'])"
   ]
  },
  {
   "cell_type": "code",
   "execution_count": 5,
   "metadata": {
    "ExecuteTime": {
     "end_time": "2020-08-10T12:40:27.604011Z",
     "start_time": "2020-08-10T12:40:27.597061Z"
    }
   },
   "outputs": [],
   "source": [
    "data['label'] = data['salesVolume']"
   ]
  },
  {
   "cell_type": "code",
   "execution_count": 6,
   "metadata": {
    "ExecuteTime": {
     "end_time": "2020-08-10T12:40:27.612987Z",
     "start_time": "2020-08-10T12:40:27.607001Z"
    }
   },
   "outputs": [],
   "source": [
    "data['id'] = data['id'].fillna(0).astype(int)"
   ]
  },
  {
   "cell_type": "code",
   "execution_count": 7,
   "metadata": {
    "ExecuteTime": {
     "end_time": "2020-08-10T12:40:27.628959Z",
     "start_time": "2020-08-10T12:40:27.615979Z"
    }
   },
   "outputs": [],
   "source": [
    "data['bodyType'] = data['model'].map(train_sales.drop_duplicates('model').set_index('model')['bodyType'])"
   ]
  },
  {
   "cell_type": "code",
   "execution_count": 8,
   "metadata": {
    "ExecuteTime": {
     "end_time": "2020-08-10T12:40:27.646925Z",
     "start_time": "2020-08-10T12:40:27.629994Z"
    }
   },
   "outputs": [],
   "source": [
    "# LabelEncoder\n",
    "for i in ['bodyType', 'model']:\n",
    "    data[i] = data[i].map(dict(zip(data[i].unique(), range(data[i].nunique()))))\n",
    "data['mt'] = (data['regYear'] - 2016) * 12 + data['regMonth']"
   ]
  },
  {
   "cell_type": "code",
   "execution_count": 9,
   "metadata": {
    "ExecuteTime": {
     "end_time": "2020-08-10T12:40:27.654875Z",
     "start_time": "2020-08-10T12:40:27.647921Z"
    }
   },
   "outputs": [],
   "source": [
    "def get_stat_feature(df_):   \n",
    "    df = df_.copy()\n",
    "    stat_feat = []\n",
    "    df['model_adcode'] = df['adcode'] + df['model']\n",
    "    df['model_adcode_mt'] = df['model_adcode'] * 100 + df['mt']\n",
    "    for col in tqdm(['label','popularity']):\n",
    "        # shift\n",
    "        for i in [1, 2, 3, 4, 5, 6, 7, 8, 9, 10, 11, 12]:\n",
    "            stat_feat.append('shift_model_adcode_mt_{}_{}'.format(col,i))\n",
    "            df['model_adcode_mt_{}_{}'.format(col,i)] = df['model_adcode_mt'] + i\n",
    "            df_last = df[df[col].notnull()].set_index('model_adcode_mt_{}_{}'.format(col,i))\n",
    "            df['shift_model_adcode_mt_{}_{}'.format(col,i)] = df['model_adcode_mt'].map(df_last[col])    \n",
    "    return df,stat_feat"
   ]
  },
  {
   "cell_type": "code",
   "execution_count": 10,
   "metadata": {
    "ExecuteTime": {
     "end_time": "2020-08-10T12:40:27.664876Z",
     "start_time": "2020-08-10T12:40:27.656869Z"
    }
   },
   "outputs": [],
   "source": [
    "def score(data, pred='pred_label', label='label', group='model'):\n",
    "    data['pred_label'] = data['pred_label'].apply(lambda x: 0 if x < 0 else x).round().astype(int)\n",
    "    data_agg = data.groupby('model').agg({\n",
    "        pred:  list,\n",
    "        label: [list, 'mean']\n",
    "    }).reset_index()\n",
    "    data_agg.columns = ['_'.join(col).strip() for col in data_agg.columns]\n",
    "    nrmse_score = []\n",
    "    for raw in data_agg[['{0}_list'.format(pred), '{0}_list'.format(label), '{0}_mean'.format(label)]].values:\n",
    "        nrmse_score.append(\n",
    "            mse(raw[0], raw[1]) ** 0.5 / raw[2]\n",
    "        )\n",
    "    print(1 - np.mean(nrmse_score))\n",
    "    return 1 - np.mean(nrmse_score)"
   ]
  },
  {
   "cell_type": "code",
   "execution_count": 11,
   "metadata": {
    "ExecuteTime": {
     "end_time": "2020-08-10T12:40:27.680804Z",
     "start_time": "2020-08-10T12:40:27.667845Z"
    }
   },
   "outputs": [],
   "source": [
    "def get_model_type(train_x,train_y,valid_x,valid_y,m_type='lgb'):   \n",
    "    if m_type == 'lgb':\n",
    "        model = lgb.LGBMRegressor(\n",
    "                                num_leaves=2**5-1, reg_alpha=0.25, reg_lambda=0.25, objective='mse',\n",
    "                                max_depth=-1, learning_rate=0.05, min_child_samples=5, random_state=2019,\n",
    "                                n_estimators=2000, subsample=0.9, colsample_bytree=0.7,\n",
    "                                )\n",
    "        model.fit(train_x, train_y, \n",
    "              eval_set=[(train_x, train_y),(valid_x, valid_y)], \n",
    "              categorical_feature=cate_feat, \n",
    "              early_stopping_rounds=100, verbose=100)      \n",
    "    elif m_type == 'xgb':\n",
    "        model = xgb.XGBRegressor(\n",
    "                                max_depth=5 , learning_rate=0.05, n_estimators=2000, \n",
    "                                objective='reg:gamma', tree_method = 'hist',subsample=0.9, \n",
    "                                colsample_bytree=0.7, min_child_samples=5,eval_metric = 'rmse' \n",
    "                                )\n",
    "        model.fit(train_x, train_y, \n",
    "              eval_set=[(train_x, train_y),(valid_x, valid_y)], \n",
    "              early_stopping_rounds=100, verbose=100)   \n",
    "    return model"
   ]
  },
  {
   "cell_type": "code",
   "execution_count": 12,
   "metadata": {
    "ExecuteTime": {
     "end_time": "2020-08-10T12:40:27.694805Z",
     "start_time": "2020-08-10T12:40:27.682839Z"
    }
   },
   "outputs": [],
   "source": [
    "def get_train_model(df_, m, m_type='lgb'):\n",
    "    df = df_.copy()\n",
    "    # 数据集划分\n",
    "    st = 13\n",
    "    all_idx   = (df['mt'].between(st , m-1))\n",
    "    train_idx = (df['mt'].between(st , m-5))\n",
    "    valid_idx = (df['mt'].between(m-4, m-4))\n",
    "    test_idx  = (df['mt'].between(m  , m  ))\n",
    "    print('all_idx  :',st ,m-1)\n",
    "    print('train_idx:',st ,m-5)\n",
    "    print('valid_idx:',m-4,m-4)\n",
    "    print('test_idx :',m  ,m  )  \n",
    "    # 最终确认\n",
    "    train_x = df[train_idx][features]\n",
    "    train_y = df[train_idx]['label']\n",
    "    valid_x = df[valid_idx][features]\n",
    "    valid_y = df[valid_idx]['label']   \n",
    "    # get model\n",
    "    model = get_model_type(train_x,train_y,valid_x,valid_y,m_type)  \n",
    "    # offline\n",
    "    df['pred_label'] = model.predict(df[features])\n",
    "    best_score = score(df[valid_idx]) \n",
    "    # online\n",
    "    if m_type == 'lgb':\n",
    "        model.n_estimators = model.best_iteration_ + 100\n",
    "        model.fit(df[all_idx][features], df[all_idx]['label'], categorical_feature=cate_feat)\n",
    "    elif m_type == 'xgb':\n",
    "        model.n_estimators = model.best_iteration + 100\n",
    "        model.fit(df[all_idx][features], df[all_idx]['label'])\n",
    "    df['forecastVolum'] = model.predict(df[features]) \n",
    "    print('valid mean:',df[valid_idx]['pred_label'].mean())\n",
    "    print('true  mean:',df[valid_idx]['label'].mean())\n",
    "    print('test  mean:',df[test_idx]['forecastVolum'].mean())\n",
    "    # 阶段结果\n",
    "    sub = df[test_idx][['id']]\n",
    "    sub['forecastVolum'] = df[test_idx]['forecastVolum'].apply(lambda x: 0 if x < 0 else x).round().astype(int)  \n",
    "    return sub,df[valid_idx]['pred_label']"
   ]
  },
  {
   "cell_type": "code",
   "execution_count": 13,
   "metadata": {
    "ExecuteTime": {
     "end_time": "2020-08-10T12:40:50.511210Z",
     "start_time": "2020-08-10T12:40:27.695764Z"
    }
   },
   "outputs": [
    {
     "name": "stderr",
     "output_type": "stream",
     "text": [
      "100%|████████████████████████████████████████████████████████████████████████████████████| 2/2 [00:00<00:00,  2.63it/s]\n"
     ]
    },
    {
     "name": "stdout",
     "output_type": "stream",
     "text": [
      "29 29\n",
      "all_idx  : 13 24\n",
      "train_idx: 13 20\n",
      "valid_idx: 21 21\n",
      "test_idx : 25 25\n",
      "Training until validation scores don't improve for 100 rounds\n",
      "[100]\ttraining's l2: 8380.11\tvalid_1's l2: 35212.9\n",
      "[200]\ttraining's l2: 4328.9\tvalid_1's l2: 32265.1\n",
      "[300]\ttraining's l2: 2861.84\tvalid_1's l2: 31264.7\n",
      "[400]\ttraining's l2: 2057.24\tvalid_1's l2: 31106.1\n",
      "[500]\ttraining's l2: 1560\tvalid_1's l2: 31041.1\n",
      "[600]\ttraining's l2: 1203.18\tvalid_1's l2: 30963.3\n",
      "[700]\ttraining's l2: 955.087\tvalid_1's l2: 30857.1\n",
      "[800]\ttraining's l2: 765.785\tvalid_1's l2: 30823.3\n",
      "[900]\ttraining's l2: 626.389\tvalid_1's l2: 30795\n",
      "[1000]\ttraining's l2: 511.49\tvalid_1's l2: 30728.6\n",
      "[1100]\ttraining's l2: 428.885\tvalid_1's l2: 30684.4\n",
      "[1200]\ttraining's l2: 358.76\tvalid_1's l2: 30697.1\n",
      "Early stopping, best iteration is:\n",
      "[1103]\ttraining's l2: 426.394\tvalid_1's l2: 30682.4\n",
      "0.7529604253264104\n",
      "valid mean: 596.384637217024\n",
      "true  mean: 649.3121212121212\n",
      "test  mean: 498.7469085324991\n"
     ]
    },
    {
     "name": "stderr",
     "output_type": "stream",
     "text": [
      "100%|████████████████████████████████████████████████████████████████████████████████████| 2/2 [00:00<00:00,  2.85it/s]\n"
     ]
    },
    {
     "name": "stdout",
     "output_type": "stream",
     "text": [
      "29 29\n",
      "all_idx  : 13 25\n",
      "train_idx: 13 21\n",
      "valid_idx: 22 22\n",
      "test_idx : 26 26\n",
      "Training until validation scores don't improve for 100 rounds\n",
      "[100]\ttraining's l2: 8823.11\tvalid_1's l2: 42958.2\n",
      "[200]\ttraining's l2: 4877.87\tvalid_1's l2: 42614.3\n",
      "[300]\ttraining's l2: 3280.94\tvalid_1's l2: 41902.2\n",
      "[400]\ttraining's l2: 2383.53\tvalid_1's l2: 41610\n",
      "[500]\ttraining's l2: 1837\tvalid_1's l2: 41473.6\n",
      "[600]\ttraining's l2: 1444.7\tvalid_1's l2: 41363\n",
      "[700]\ttraining's l2: 1157.07\tvalid_1's l2: 41291.7\n",
      "Early stopping, best iteration is:\n",
      "[642]\ttraining's l2: 1319.85\tvalid_1's l2: 41265.6\n",
      "0.735888250646995\n",
      "valid mean: 620.3296661912659\n",
      "true  mean: 616.5537878787878\n",
      "test  mean: 332.1100216458771\n"
     ]
    },
    {
     "name": "stderr",
     "output_type": "stream",
     "text": [
      "100%|████████████████████████████████████████████████████████████████████████████████████| 2/2 [00:00<00:00,  2.78it/s]\n"
     ]
    },
    {
     "name": "stdout",
     "output_type": "stream",
     "text": [
      "29 29\n",
      "all_idx  : 13 26\n",
      "train_idx: 13 22\n",
      "valid_idx: 23 23\n",
      "test_idx : 27 27\n",
      "Training until validation scores don't improve for 100 rounds\n",
      "[100]\ttraining's l2: 9978.18\tvalid_1's l2: 31445.4\n",
      "[200]\ttraining's l2: 5546.82\tvalid_1's l2: 30963.7\n",
      "Early stopping, best iteration is:\n",
      "[143]\ttraining's l2: 7487.27\tvalid_1's l2: 30638.9\n",
      "0.7815229792999283\n",
      "valid mean: 643.6735025167508\n",
      "true  mean: 673.0143939393939\n",
      "test  mean: 503.42026906931443\n"
     ]
    },
    {
     "name": "stderr",
     "output_type": "stream",
     "text": [
      "100%|████████████████████████████████████████████████████████████████████████████████████| 2/2 [00:00<00:00,  2.72it/s]\n"
     ]
    },
    {
     "name": "stdout",
     "output_type": "stream",
     "text": [
      "29 29\n",
      "all_idx  : 13 27\n",
      "train_idx: 13 23\n",
      "valid_idx: 24 24\n",
      "test_idx : 28 28\n",
      "Training until validation scores don't improve for 100 rounds\n",
      "[100]\ttraining's l2: 10556.9\tvalid_1's l2: 335121\n",
      "[200]\ttraining's l2: 6102.63\tvalid_1's l2: 324613\n",
      "[300]\ttraining's l2: 4207.54\tvalid_1's l2: 325303\n",
      "Early stopping, best iteration is:\n",
      "[201]\ttraining's l2: 6068.35\tvalid_1's l2: 324589\n",
      "0.598443587223902\n",
      "valid mean: 642.6930256279096\n",
      "true  mean: 899.8204545454546\n",
      "test  mean: 497.3168941729657\n"
     ]
    }
   ],
   "source": [
    "for month in [25, 26, 27, 28]: \n",
    "    m_type = 'lgb' \n",
    "    \n",
    "    data_df, stat_feat = get_stat_feature(data)\n",
    "    \n",
    "    num_feat = ['regYear'] + stat_feat\n",
    "    cate_feat = ['adcode', 'bodyType', 'model', 'regMonth']\n",
    "    \n",
    "    if m_type == 'lgb':\n",
    "        for i in cate_feat:\n",
    "            data_df[i] = data_df[i].astype('category')\n",
    "    elif m_type == 'xgb':\n",
    "        lbl = LabelEncoder()\n",
    "        for i in tqdm(cate_feat):\n",
    "            data_df[i] = lbl.fit_transform(data_df[i].astype(str))\n",
    "           \n",
    "    features = num_feat + cate_feat\n",
    "    print(len(features), len(set(features)))\n",
    "    \n",
    "    sub, val_pred = get_train_model(data_df, month, m_type)\n",
    "    data.loc[(data.regMonth == (month - 24)) & (data.regYear == 2018), 'salesVolume'] = sub['forecastVolum'].values\n",
    "    data.loc[(data.regMonth == (month - 24)) & (data.regYear == 2018), 'label'] = sub['forecastVolum'].values\n",
    "sub = data.loc[(data.regMonth >= 1) & (data.regYear == 2018), ['id', 'salesVolume']]\n",
    "sub.columns = ['id', 'forecastVolum']\n",
    "sub[['id', 'forecastVolum']].round().astype(int).to_csv('CCF_sales.csv', index=False)"
   ]
  }
 ],
 "metadata": {
  "kernelspec": {
   "display_name": "Python 3",
   "language": "python",
   "name": "python3"
  },
  "language_info": {
   "codemirror_mode": {
    "name": "ipython",
    "version": 3
   },
   "file_extension": ".py",
   "mimetype": "text/x-python",
   "name": "python",
   "nbconvert_exporter": "python",
   "pygments_lexer": "ipython3",
   "version": "3.7.3"
  },
  "toc": {
   "base_numbering": 1,
   "nav_menu": {},
   "number_sections": true,
   "sideBar": true,
   "skip_h1_title": false,
   "title_cell": "Table of Contents",
   "title_sidebar": "Contents",
   "toc_cell": false,
   "toc_position": {},
   "toc_section_display": true,
   "toc_window_display": false
  },
  "varInspector": {
   "cols": {
    "lenName": 16,
    "lenType": 16,
    "lenVar": 40
   },
   "kernels_config": {
    "python": {
     "delete_cmd_postfix": "",
     "delete_cmd_prefix": "del ",
     "library": "var_list.py",
     "varRefreshCmd": "print(var_dic_list())"
    },
    "r": {
     "delete_cmd_postfix": ") ",
     "delete_cmd_prefix": "rm(",
     "library": "var_list.r",
     "varRefreshCmd": "cat(var_dic_list()) "
    }
   },
   "oldHeight": 221.4,
   "position": {
    "height": "40px",
    "left": "1148.4px",
    "right": "20px",
    "top": "120px",
    "width": "354px"
   },
   "types_to_exclude": [
    "module",
    "function",
    "builtin_function_or_method",
    "instance",
    "_Feature"
   ],
   "varInspector_section_display": "none",
   "window_display": false
  }
 },
 "nbformat": 4,
 "nbformat_minor": 2
}
