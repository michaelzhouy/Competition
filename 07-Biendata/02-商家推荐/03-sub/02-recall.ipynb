{
 "cells": [
  {
   "cell_type": "code",
   "execution_count": 1,
   "id": "913113bd",
   "metadata": {
    "ExecuteTime": {
     "end_time": "2021-07-27T15:52:18.580142Z",
     "start_time": "2021-07-27T15:52:18.165406Z"
    }
   },
   "outputs": [],
   "source": [
    "import numpy as np\n",
    "import pandas as pd\n",
    "import gc\n",
    "from dateutil.parser import parse\n",
    "from datetime import date, timedelta\n",
    "from tqdm.notebook import tqdm\n",
    "import warnings\n",
    "warnings.filterwarnings('ignore')\n",
    "warnings.simplefilter(action='ignore', category=FutureWarning)"
   ]
  },
  {
   "cell_type": "code",
   "execution_count": 2,
   "id": "7a8dfeb7",
   "metadata": {
    "ExecuteTime": {
     "end_time": "2021-07-27T15:52:21.911893Z",
     "start_time": "2021-07-27T15:52:18.582131Z"
    }
   },
   "outputs": [],
   "source": [
    "user_order = pd.read_feather('../01-data/user_order.feather')\n",
    "orders_train = pd.read_feather('../01-data/orders_train.feather')\n",
    "orders_poi_session = pd.read_feather('../01-data/orders_poi_session.feather')\n",
    "user_order = pd.read_feather('../01-data/user_order.feather')\n",
    "pois = pd.read_feather('../01-data/pois.feather')\n",
    "spus = pd.read_feather('../01-data/spus.feather')\n",
    "\n",
    "pois.rename(columns={'aor_id': 'poi_aor_id'}, inplace=True)\n",
    "\n",
    "orders_train = orders_train.merge(pois, on='wm_poi_id', how='left')\n",
    "orders_train = orders_train.merge(spus, on='wm_food_spu_id', how='left')"
   ]
  },
  {
   "cell_type": "code",
   "execution_count": 3,
   "id": "a1076d98",
   "metadata": {
    "ExecuteTime": {
     "end_time": "2021-07-27T15:52:21.975153Z",
     "start_time": "2021-07-27T15:52:21.915613Z"
    }
   },
   "outputs": [
    {
     "data": {
      "text/html": [
       "<div>\n",
       "<style scoped>\n",
       "    .dataframe tbody tr th:only-of-type {\n",
       "        vertical-align: middle;\n",
       "    }\n",
       "\n",
       "    .dataframe tbody tr th {\n",
       "        vertical-align: top;\n",
       "    }\n",
       "\n",
       "    .dataframe thead th {\n",
       "        text-align: right;\n",
       "    }\n",
       "</style>\n",
       "<table border=\"1\" class=\"dataframe\">\n",
       "  <thead>\n",
       "    <tr style=\"text-align: right;\">\n",
       "      <th></th>\n",
       "      <th>user_id</th>\n",
       "      <th>wm_order_id</th>\n",
       "      <th>wm_poi_id</th>\n",
       "      <th>aor_id</th>\n",
       "      <th>order_price_interval</th>\n",
       "      <th>order_timestamp</th>\n",
       "      <th>ord_period_name</th>\n",
       "      <th>order_scene_name</th>\n",
       "      <th>aoi_id</th>\n",
       "      <th>takedlvr_aoi_type_name</th>\n",
       "      <th>...</th>\n",
       "      <th>poi_aor_id</th>\n",
       "      <th>poi_score</th>\n",
       "      <th>delivery_comment_avg_score</th>\n",
       "      <th>food_comment_avg_score</th>\n",
       "      <th>price</th>\n",
       "      <th>category</th>\n",
       "      <th>ingredients</th>\n",
       "      <th>taste</th>\n",
       "      <th>stand_food_id</th>\n",
       "      <th>price_interval</th>\n",
       "    </tr>\n",
       "  </thead>\n",
       "  <tbody>\n",
       "    <tr>\n",
       "      <th>0</th>\n",
       "      <td>178557</td>\n",
       "      <td>0</td>\n",
       "      <td>2334</td>\n",
       "      <td>6</td>\n",
       "      <td>1.0</td>\n",
       "      <td>1623061539</td>\n",
       "      <td>3</td>\n",
       "      <td>0.0</td>\n",
       "      <td>NaN</td>\n",
       "      <td>NaN</td>\n",
       "      <td>...</td>\n",
       "      <td>6.0</td>\n",
       "      <td>4.04</td>\n",
       "      <td>5.00</td>\n",
       "      <td>4.16</td>\n",
       "      <td>34.00</td>\n",
       "      <td>6.0</td>\n",
       "      <td>1.0</td>\n",
       "      <td>NaN</td>\n",
       "      <td>959.0</td>\n",
       "      <td>2.0</td>\n",
       "    </tr>\n",
       "    <tr>\n",
       "      <th>1</th>\n",
       "      <td>175118</td>\n",
       "      <td>1</td>\n",
       "      <td>3315</td>\n",
       "      <td>0</td>\n",
       "      <td>1.0</td>\n",
       "      <td>1623032193</td>\n",
       "      <td>1</td>\n",
       "      <td>1.0</td>\n",
       "      <td>0.0</td>\n",
       "      <td>0.0</td>\n",
       "      <td>...</td>\n",
       "      <td>1.0</td>\n",
       "      <td>4.63</td>\n",
       "      <td>4.88</td>\n",
       "      <td>4.63</td>\n",
       "      <td>3.99</td>\n",
       "      <td>42.0</td>\n",
       "      <td>NaN</td>\n",
       "      <td>NaN</td>\n",
       "      <td>NaN</td>\n",
       "      <td>1.0</td>\n",
       "    </tr>\n",
       "    <tr>\n",
       "      <th>2</th>\n",
       "      <td>175118</td>\n",
       "      <td>1</td>\n",
       "      <td>3315</td>\n",
       "      <td>0</td>\n",
       "      <td>1.0</td>\n",
       "      <td>1623032193</td>\n",
       "      <td>1</td>\n",
       "      <td>1.0</td>\n",
       "      <td>0.0</td>\n",
       "      <td>0.0</td>\n",
       "      <td>...</td>\n",
       "      <td>1.0</td>\n",
       "      <td>4.63</td>\n",
       "      <td>4.88</td>\n",
       "      <td>4.63</td>\n",
       "      <td>35.90</td>\n",
       "      <td>49.0</td>\n",
       "      <td>26.0</td>\n",
       "      <td>1.0</td>\n",
       "      <td>253.0</td>\n",
       "      <td>2.0</td>\n",
       "    </tr>\n",
       "    <tr>\n",
       "      <th>3</th>\n",
       "      <td>175118</td>\n",
       "      <td>1</td>\n",
       "      <td>3315</td>\n",
       "      <td>0</td>\n",
       "      <td>1.0</td>\n",
       "      <td>1623032193</td>\n",
       "      <td>1</td>\n",
       "      <td>1.0</td>\n",
       "      <td>0.0</td>\n",
       "      <td>0.0</td>\n",
       "      <td>...</td>\n",
       "      <td>1.0</td>\n",
       "      <td>4.63</td>\n",
       "      <td>4.88</td>\n",
       "      <td>4.63</td>\n",
       "      <td>0.00</td>\n",
       "      <td>33.0</td>\n",
       "      <td>NaN</td>\n",
       "      <td>NaN</td>\n",
       "      <td>NaN</td>\n",
       "      <td>1.0</td>\n",
       "    </tr>\n",
       "    <tr>\n",
       "      <th>4</th>\n",
       "      <td>36208</td>\n",
       "      <td>2</td>\n",
       "      <td>2168</td>\n",
       "      <td>0</td>\n",
       "      <td>1.0</td>\n",
       "      <td>1623036350</td>\n",
       "      <td>1</td>\n",
       "      <td>0.0</td>\n",
       "      <td>1.0</td>\n",
       "      <td>0.0</td>\n",
       "      <td>...</td>\n",
       "      <td>0.0</td>\n",
       "      <td>4.75</td>\n",
       "      <td>4.96</td>\n",
       "      <td>4.74</td>\n",
       "      <td>23.00</td>\n",
       "      <td>17.0</td>\n",
       "      <td>159.0</td>\n",
       "      <td>NaN</td>\n",
       "      <td>386.0</td>\n",
       "      <td>1.0</td>\n",
       "    </tr>\n",
       "  </tbody>\n",
       "</table>\n",
       "<p>5 rows × 26 columns</p>\n",
       "</div>"
      ],
      "text/plain": [
       "   user_id  wm_order_id  wm_poi_id  aor_id  order_price_interval  \\\n",
       "0   178557            0       2334       6                   1.0   \n",
       "1   175118            1       3315       0                   1.0   \n",
       "2   175118            1       3315       0                   1.0   \n",
       "3   175118            1       3315       0                   1.0   \n",
       "4    36208            2       2168       0                   1.0   \n",
       "\n",
       "   order_timestamp  ord_period_name  order_scene_name  aoi_id  \\\n",
       "0       1623061539                3               0.0     NaN   \n",
       "1       1623032193                1               1.0     0.0   \n",
       "2       1623032193                1               1.0     0.0   \n",
       "3       1623032193                1               1.0     0.0   \n",
       "4       1623036350                1               0.0     1.0   \n",
       "\n",
       "   takedlvr_aoi_type_name  ... poi_aor_id  poi_score  \\\n",
       "0                     NaN  ...        6.0       4.04   \n",
       "1                     0.0  ...        1.0       4.63   \n",
       "2                     0.0  ...        1.0       4.63   \n",
       "3                     0.0  ...        1.0       4.63   \n",
       "4                     0.0  ...        0.0       4.75   \n",
       "\n",
       "   delivery_comment_avg_score  food_comment_avg_score  price  category  \\\n",
       "0                        5.00                    4.16  34.00       6.0   \n",
       "1                        4.88                    4.63   3.99      42.0   \n",
       "2                        4.88                    4.63  35.90      49.0   \n",
       "3                        4.88                    4.63   0.00      33.0   \n",
       "4                        4.96                    4.74  23.00      17.0   \n",
       "\n",
       "   ingredients  taste  stand_food_id  price_interval  \n",
       "0          1.0    NaN          959.0             2.0  \n",
       "1          NaN    NaN            NaN             1.0  \n",
       "2         26.0    1.0          253.0             2.0  \n",
       "3          NaN    NaN            NaN             1.0  \n",
       "4        159.0    NaN          386.0             1.0  \n",
       "\n",
       "[5 rows x 26 columns]"
      ]
     },
     "execution_count": 3,
     "metadata": {},
     "output_type": "execute_result"
    }
   ],
   "source": [
    "orders_train.head()"
   ]
  },
  {
   "cell_type": "code",
   "execution_count": 4,
   "id": "f4b56e44",
   "metadata": {
    "ExecuteTime": {
     "end_time": "2021-07-27T15:52:28.854847Z",
     "start_time": "2021-07-27T15:52:21.977327Z"
    }
   },
   "outputs": [],
   "source": [
    "def list_col(df, user_order):\n",
    "    wm_order_id_list = []\n",
    "    clicks_list = []\n",
    "    dt_list = []\n",
    "    for row in df.values:\n",
    "        wm_order_id = row[0]\n",
    "        clicks = row[1]\n",
    "        dt = row[2]\n",
    "        wm_order_id_list.append(wm_order_id)\n",
    "        dt_list.append(dt)\n",
    "        if pd.isna(clicks):\n",
    "            clicks_list.append([])\n",
    "        else:\n",
    "            clicks_list.append(list(set([int(click) for click in clicks.split('#')])))\n",
    "    data = pd.DataFrame()\n",
    "    data['wm_order_id'] = wm_order_id_list\n",
    "    data['wm_poi_id'] = clicks_list\n",
    "    data['dt'] = dt_list\n",
    "    \n",
    "    data = data.merge(user_order, on='wm_order_id', how='left')\n",
    "    \n",
    "    return data\n",
    "\n",
    "\n",
    "orders_click_poi = list_col(orders_poi_session, user_order)"
   ]
  },
  {
   "cell_type": "code",
   "execution_count": 5,
   "id": "98364a99",
   "metadata": {
    "ExecuteTime": {
     "end_time": "2021-07-27T15:52:36.123530Z",
     "start_time": "2021-07-27T15:52:28.857508Z"
    }
   },
   "outputs": [],
   "source": [
    "def explode(data, user_order):\n",
    "    data = data[data['clicks'].notnull()]\n",
    "    order_list = []\n",
    "    poi_list = []\n",
    "    dt_list = []\n",
    "    for row in data[['wm_order_id', 'clicks', 'dt']].values:\n",
    "        order = row[0]\n",
    "        clicks = row[1]\n",
    "        dt = row[2]\n",
    "        for poi in clicks.split('#'):\n",
    "            order_list.append(order)\n",
    "            poi_list.append(int(poi))\n",
    "            dt_list.append(dt)\n",
    "    \n",
    "    df = pd.DataFrame()\n",
    "    df['wm_order_id'] = order_list\n",
    "    df['wm_poi_id'] = poi_list\n",
    "    df['dt'] = dt_list\n",
    "    \n",
    "    df = df.merge(user_order, on='wm_order_id', how='left')\n",
    "    return df\n",
    "\n",
    "\n",
    "orders_click_poi_explode = explode(orders_poi_session, user_order)"
   ]
  },
  {
   "cell_type": "code",
   "execution_count": 6,
   "id": "9c48092d",
   "metadata": {
    "ExecuteTime": {
     "end_time": "2021-07-27T15:52:36.133975Z",
     "start_time": "2021-07-27T15:52:36.127549Z"
    }
   },
   "outputs": [],
   "source": [
    "def date_sub_days(end_date, days):\n",
    "    start_date = parse(end_date[:10]) - timedelta(days=days)\n",
    "    start_date = start_date.strftime('%Y-%m-%d')\n",
    "    return start_date"
   ]
  },
  {
   "cell_type": "code",
   "execution_count": 7,
   "id": "4b2f27c8",
   "metadata": {
    "ExecuteTime": {
     "end_time": "2021-07-27T15:52:36.222602Z",
     "start_time": "2021-07-27T15:52:36.136516Z"
    }
   },
   "outputs": [],
   "source": [
    "def explode_df(train_data):\n",
    "    order_list = []\n",
    "    user_list = []\n",
    "    poi_list = []\n",
    "    dt_list = []\n",
    "    for row in train_data[['wm_order_id', 'user_id', 'recall_list', 'dt']].values:\n",
    "        order = row[0]\n",
    "        user = row[1]\n",
    "        recall_list = row[2]\n",
    "        dt = row[3]\n",
    "        for recall in recall_list:\n",
    "            order_list.append(order)\n",
    "            user_list.append(user)\n",
    "            poi_list.append(recall)\n",
    "            dt_list.append(dt)\n",
    "\n",
    "    df = pd.DataFrame()\n",
    "    df['wm_order_id'] = order_list\n",
    "    df['user_id'] = user_list\n",
    "    df['wm_poi_id'] = poi_list\n",
    "    df['dt'] = dt_list\n",
    "    return df"
   ]
  },
  {
   "cell_type": "code",
   "execution_count": 8,
   "id": "e88bdc21",
   "metadata": {
    "ExecuteTime": {
     "end_time": "2021-07-27T15:52:36.272150Z",
     "start_time": "2021-07-27T15:52:36.225493Z"
    }
   },
   "outputs": [],
   "source": [
    "def isNan_2(a):\n",
    "    return a != a"
   ]
  },
  {
   "cell_type": "code",
   "execution_count": 9,
   "id": "beac307a",
   "metadata": {
    "ExecuteTime": {
     "end_time": "2021-07-27T15:52:36.330881Z",
     "start_time": "2021-07-27T15:52:36.276898Z"
    }
   },
   "outputs": [],
   "source": [
    "# 该时间段的点击, 全量召回\n",
    "def recall_by_click(orders_click_poi, user_order, click_start_date, click_end_date, recall_name='click'):\n",
    "    orders_click_poi = orders_click_poi[orders_click_poi['user_id'].notnull()]\n",
    "    orders_click_poi['user_id'] = orders_click_poi['user_id'].astype(int)\n",
    "    df_recall = orders_click_poi[(orders_click_poi['dt'] >= click_start_date) & (orders_click_poi['dt'] <= click_end_date)]\n",
    "    df_recall.rename(columns={'wm_poi_id': recall_name}, inplace=True)\n",
    "    return df_recall"
   ]
  },
  {
   "cell_type": "code",
   "execution_count": 10,
   "id": "cdbb96c9",
   "metadata": {
    "ExecuteTime": {
     "end_time": "2021-07-27T15:52:36.389651Z",
     "start_time": "2021-07-27T15:52:36.334124Z"
    }
   },
   "outputs": [],
   "source": [
    "# wm_usewr_id下, wm_poi_id下单率召回\n",
    "def recall_by_user_buy_rate(orders_click_poi_explode, orders_train, start_date, end_date, topN=15, recall_name='topN_user_buy_rate'):\n",
    "    # wm_usewr_id下, wm_poi_id的下单次数\n",
    "    orders_train = orders_train[(orders_train['dt'] >= start_date) & (orders_train['dt'] <= end_date)]\n",
    "    df_top_buy = orders_train.groupby(['user_id', 'wm_poi_id'], as_index=False)['dt'].agg({\n",
    "        'buy_counts': 'count'\n",
    "    })\n",
    "    \n",
    "    # wm_usewr_id下, wm_poi_id的点击次数\n",
    "    orders_click_poi_explode = orders_click_poi_explode[(orders_click_poi_explode['dt'] >= start_date) & (orders_click_poi_explode['dt'] < end_date)]\n",
    "    df_top_click = orders_click_poi_explode.groupby(['user_id', 'wm_poi_id'], as_index=False)['dt'].agg({\n",
    "        'click_counts': 'count'\n",
    "    })\n",
    "    \n",
    "    # wm_usewr_id下, wm_poi_id的下单率\n",
    "    df_top_buy = df_top_buy.merge(df_top_click, on=['user_id', 'wm_poi_id'], how='left')\n",
    "    df_top_buy['buy_rate'] = df_top_buy['buy_counts'] / df_top_buy['click_counts']\n",
    "    df_top_buy['buy_rate_rank'] = df_top_buy.groupby('user_id')['buy_rate'].rank(method='dense', ascending=False)\n",
    "    \n",
    "    df_recall = df_top_buy[df_top_buy['buy_rate_rank'] <= topN]\n",
    "    df_recall = df_recall.groupby('user_id')['wm_poi_id'].agg(lambda x: list(x)).reset_index().rename(columns={'wm_poi_id': recall_name})\n",
    "    \n",
    "    return df_recall"
   ]
  },
  {
   "cell_type": "code",
   "execution_count": 11,
   "id": "1a3158e4",
   "metadata": {
    "ExecuteTime": {
     "end_time": "2021-07-27T15:52:36.490282Z",
     "start_time": "2021-07-27T15:52:36.392003Z"
    }
   },
   "outputs": [],
   "source": [
    "# wm_usewr_id下, wm_poi_id购买次数召回\n",
    "def recall_by_user_buys(orders_click_poi_explode, orders_train, start_date, end_date, topN=15, recall_name='topN_user_buy_counts'):\n",
    "    orders_train = orders_train[(orders_train['dt'] >= start_date) & (orders_train['dt'] <= end_date)]\n",
    "    df_top_buy = orders_train.groupby(['user_id', 'wm_poi_id'], as_index=False)['dt'].agg({\n",
    "        'buy_counts': 'count'\n",
    "    })\n",
    "    \n",
    "    df_top_buy['buy_counts_rank'] = df_top_buy.groupby('user_id')['buy_counts'].rank(method='dense', ascending=False)\n",
    "    \n",
    "    df_recall = df_top_buy[df_top_buy['buy_counts_rank'] <= topN]\n",
    "    df_recall = df_recall.groupby('user_id')['wm_poi_id'].agg(lambda x: list(x)).reset_index().rename(columns={'wm_poi_id': recall_name})\n",
    "    \n",
    "    return df_recall"
   ]
  },
  {
   "cell_type": "code",
   "execution_count": 12,
   "id": "75d58db7",
   "metadata": {
    "ExecuteTime": {
     "end_time": "2021-07-27T15:52:36.557652Z",
     "start_time": "2021-07-27T15:52:36.492898Z"
    }
   },
   "outputs": [],
   "source": [
    "# wm_user_id下, wm_poi_id的点击次数\n",
    "def recall_by_user_clicks(orders_click_poi_explode, orders_train, start_date, end_date, topN=15, recall_name='history_topN_user_clicks'):\n",
    "    orders_click_poi_explode = orders_click_poi_explode[(orders_click_poi_explode['dt'] >= start_date) & (orders_click_poi_explode['dt'] < end_date)]\n",
    "    df_top_click = orders_click_poi_explode.groupby(['user_id', 'wm_poi_id'], as_index=False)['dt'].agg({\n",
    "        'click_counts': 'count'\n",
    "    })\n",
    "    \n",
    "    df_top_click['click_counts_rank'] = df_top_click.groupby('user_id')['click_counts'].rank(method='dense', ascending=False)\n",
    "\n",
    "    df_recall = df_top_click[df_top_click['click_counts_rank'] <= topN]\n",
    "    df_recall = df_recall.groupby('user_id')['wm_poi_id'].agg(lambda x: list(x)).reset_index().rename(columns={'wm_poi_id': recall_name})\n",
    "    \n",
    "    return df_recall"
   ]
  },
  {
   "cell_type": "code",
   "execution_count": 13,
   "id": "7e4db41b",
   "metadata": {
    "ExecuteTime": {
     "end_time": "2021-07-27T15:52:36.614311Z",
     "start_time": "2021-07-27T15:52:36.560319Z"
    }
   },
   "outputs": [],
   "source": [
    "# wm_usewr_id+col下, wm_poi_id购买次数召回\n",
    "def recall_by_user_col_buy_counts(col, orders_click_poi_explode, orders_train, start_date, end_date, topN=15, recall_name='topN_user_buy_counts'):\n",
    "    orders_train = orders_train[(orders_train['dt'] >= start_date) & (orders_train['dt'] <= end_date)]\n",
    "    df_top_buy = orders_train.groupby(['user_id', col, 'wm_poi_id'], as_index=False)['dt'].agg({\n",
    "        'buy_counts': 'count'\n",
    "    })\n",
    "    \n",
    "    df_top_buy['buy_counts_rank'] = df_top_buy.groupby(['user_id', col])['buy_counts'].rank(method='dense', ascending=False)\n",
    "    \n",
    "    df_recall = df_top_buy[df_top_buy['buy_counts_rank'] <= topN]\n",
    "    df_recall = df_recall.groupby(['user_id', col])['wm_poi_id'].agg(lambda x: list(x)).reset_index().rename(columns={'wm_poi_id': recall_name})\n",
    "    \n",
    "    return df_recall"
   ]
  },
  {
   "cell_type": "code",
   "execution_count": 14,
   "id": "7c7b48b7",
   "metadata": {
    "ExecuteTime": {
     "end_time": "2021-07-27T15:52:36.668503Z",
     "start_time": "2021-07-27T15:52:36.616440Z"
    }
   },
   "outputs": [],
   "source": [
    "# wm_user_id下, wm_poi_id的点击次数\n",
    "def recall_by_poi_score(score, orders_click_poi_explode, orders_train, start_date, end_date, topN=15, recall_name='history_topN_poi_score'):\n",
    "    orders_train = orders_train[(orders_train['dt'] >= start_date) & (orders_train['dt'] < end_date)]\n",
    "    df_top_click = orders_train.groupby(['user_id', 'wm_poi_id'], as_index=False)[score].agg({\n",
    "        '{}_mean'.format(score): 'mean'\n",
    "    })\n",
    "    \n",
    "    df_top_click['click_counts_rank'] = df_top_click.groupby('user_id')['{}_mean'.format(score)].rank(method='dense', ascending=False)\n",
    "\n",
    "    df_recall = df_top_click[df_top_click['click_counts_rank'] <= topN]\n",
    "    df_recall = df_recall.groupby('user_id')['wm_poi_id'].agg(lambda x: list(x)).reset_index().rename(columns={'wm_poi_id': recall_name})\n",
    "    \n",
    "    return df_recall"
   ]
  },
  {
   "cell_type": "code",
   "execution_count": 15,
   "id": "2915936d",
   "metadata": {
    "ExecuteTime": {
     "end_time": "2021-07-27T15:52:36.724318Z",
     "start_time": "2021-07-27T15:52:36.671299Z"
    }
   },
   "outputs": [],
   "source": [
    "def recall_by_history(orders_click_poi, orders_click_poi_explode, orders_train, user_order, click_start_date, click_end_date, start_date, end_date, topN=15):\n",
    "    # 该时间段的点击, 全量召回\n",
    "    df_recall_1 = recall_by_click(orders_click_poi, user_order, click_start_date, click_end_date, recall_name='click')\n",
    "    df_recall_2 = recall_by_user_buy_rate(orders_click_poi_explode, orders_train, start_date, end_date, topN, recall_name='topN_user_buy_rate')\n",
    "    df_recall_3 = recall_by_user_buys(orders_click_poi_explode, orders_train, start_date, end_date, topN, recall_name='topN_user_buys')\n",
    "    df_recall_4 = recall_by_user_clicks(orders_click_poi_explode, orders_train, start_date, end_date, topN, recall_name='history_topN_user_clicks')\n",
    "    df_recall_5 = recall_by_user_clicks(orders_click_poi_explode, orders_train, click_start_date, click_end_date, topN, recall_name='current_topN_user_clicks')\n",
    "    \n",
    "    df_recall = df_recall_1.merge(df_recall_2, on='user_id', how='left')\n",
    "    df_recall = df_recall.merge(df_recall_3, on='user_id', how='left')\n",
    "    df_recall = df_recall.merge(df_recall_4, on='user_id', how='left')\n",
    "    df_recall = df_recall.merge(df_recall_5, on='user_id', how='left')\n",
    "    \n",
    "    df_recall['topN_user_buy_rate'] = df_recall['topN_user_buy_rate'].apply(lambda x: [] if isNan_2(x) else x)\n",
    "    df_recall['topN_user_buys'] = df_recall['topN_user_buys'].apply(lambda x: [] if isNan_2(x) else x)\n",
    "    df_recall['history_topN_user_clicks'] = df_recall['history_topN_user_clicks'].apply(lambda x: [] if isNan_2(x) else x)\n",
    "    df_recall['current_topN_user_clicks'] = df_recall['current_topN_user_clicks'].apply(lambda x: [] if isNan_2(x) else x)\n",
    "    \n",
    "    df_recall['recall_list'] = (df_recall['click'] + df_recall['topN_user_buy_rate'] +\n",
    "                                df_recall['topN_user_buys'] + df_recall['history_topN_user_clicks'] +\n",
    "                                df_recall['current_topN_user_clicks']).apply(set).apply(list)\n",
    "    \n",
    "    scores = ['poi_score', 'delivery_comment_avg_score', 'food_comment_avg_score']\n",
    "    for score in tqdm(scores):\n",
    "        recall_name = 'history_topN_{}'.format(score)\n",
    "        df_recall_7 = recall_by_poi_score(score, orders_click_poi_explode, orders_train, start_date, end_date, topN=15, recall_name=recall_name)\n",
    "        df_recall = df_recall.merge(df_recall_7, on=['user_id'], how='left')\n",
    "        df_recall[recall_name] = df_recall[recall_name].apply(lambda x: [] if isNan_2(x) else x)\n",
    "        df_recall['recall_list'] = (df_recall['recall_list'] + df_recall[recall_name]).apply(set).apply(list)\n",
    "    \n",
    "    \n",
    "    cols = ['aor_id', 'ord_period_name', 'takedlvr_aoi_type_name']\n",
    "    for col in tqdm(cols):\n",
    "        recall_name = 'topN_user_{}_buys'.format(col)\n",
    "        df_recall_6 = recall_by_user_col_buy_counts(col, orders_click_poi_explode, orders_train, start_date, end_date, topN, recall_name=recall_name)\n",
    "        df_recall = df_recall.merge(df_recall_6, on=['user_id', col], how='left')\n",
    "        df_recall[recall_name] = df_recall[recall_name].apply(lambda x: [] if isNan_2(x) else x)\n",
    "        df_recall['recall_list'] = (df_recall['recall_list'] + df_recall[recall_name]).apply(set).apply(list)\n",
    "    \n",
    "    return df_recall"
   ]
  },
  {
   "cell_type": "code",
   "execution_count": 16,
   "id": "d88a12c5",
   "metadata": {
    "ExecuteTime": {
     "end_time": "2021-07-27T15:52:36.785711Z",
     "start_time": "2021-07-27T15:52:36.726797Z"
    }
   },
   "outputs": [],
   "source": [
    "def recall_by_hot_data(orders_click_poi_explode, orders_train, start_date, end_date, topN=15):\n",
    "    # 下单次数\n",
    "    orders_train = orders_train[(orders_train['dt'] >= start_date) & (orders_train['dt'] <= end_date)]\n",
    "    df_top_buy = orders_train.groupby('wm_poi_id', as_index=False)['dt'].agg({\n",
    "        'buy_counts': 'count'\n",
    "    }).sort_values('buy_counts', ascending=False)\n",
    "    \n",
    "    # 点击次数\n",
    "    orders_click_poi_explode = orders_click_poi_explode[(orders_click_poi_explode['dt'] >= start_date) & (orders_click_poi_explode['dt'] < end_date)]\n",
    "    df_top_click = orders_click_poi_explode.groupby('wm_poi_id', as_index=False)['dt'].agg({\n",
    "        'click_counts': 'count'\n",
    "    }).sort_values('click_counts', ascending=False)\n",
    "    \n",
    "    # 下单率\n",
    "    df_top_buy_rate = df_top_buy.merge(df_top_click, on='wm_poi_id', how='left')\n",
    "    df_top_buy_rate['buy_rate'] = df_top_buy_rate['buy_counts'] / df_top_buy_rate['click_counts']\n",
    "    df_top_buy_rate.sort_values('buy_rate', ascending=False)\n",
    "    \n",
    "    hot_recall = (list(df_top_buy['wm_poi_id'].values[:topN]) +\n",
    "                  list(df_top_click['wm_poi_id'].values[:topN]) +\n",
    "                  list(df_top_buy_rate['wm_poi_id'].values[:topN]))\n",
    "    hot_recall = list(set(hot_recall))\n",
    "    return hot_recall"
   ]
  },
  {
   "cell_type": "code",
   "execution_count": 17,
   "id": "f178b788",
   "metadata": {
    "ExecuteTime": {
     "end_time": "2021-07-27T15:52:36.844005Z",
     "start_time": "2021-07-27T15:52:36.788268Z"
    }
   },
   "outputs": [],
   "source": [
    "def recall_by_hot(df_recall, orders_click_poi_explode, orders_train, start_date, end_date, topN):\n",
    "    hot_poi_recall = recall_by_hot_data(orders_click_poi_explode, orders_train, start_date, end_date, topN)\n",
    "    df_recall['recall_list'] = df_recall['recall_list'].apply(lambda x: list(set(x + hot_poi_recall)))\n",
    "    return df_recall"
   ]
  },
  {
   "cell_type": "code",
   "execution_count": 18,
   "id": "909040c3",
   "metadata": {
    "ExecuteTime": {
     "end_time": "2021-07-27T15:52:36.906390Z",
     "start_time": "2021-07-27T15:52:36.846652Z"
    }
   },
   "outputs": [],
   "source": [
    "def recall(orders_click_poi, orders_click_poi_explode, orders_train, user_order, end_date, days, topN=15):\n",
    "    # end_date: 历史找回的end_date, 也即click的第一天的前一天\n",
    "    start_date = date_sub_days(end_date, days)\n",
    "    click_start_date = date_sub_days(end_date, -1)\n",
    "    click_end_date = date_sub_days(end_date, -5)\n",
    "    print(start_date, end_date, click_start_date, click_end_date)\n",
    "    df_recall = recall_by_history(orders_click_poi, orders_click_poi_explode, orders_train, user_order, click_start_date, click_end_date, start_date, end_date, topN)\n",
    "    \n",
    "    data_recall_list = recall_by_hot(df_recall, orders_click_poi_explode, orders_train, start_date, end_date, topN)\n",
    "    data = explode_df(data_recall_list)\n",
    "    \n",
    "    orders_train = orders_train[(orders_train['dt'] >= click_start_date) & (orders_train['dt'] <= click_end_date)]\n",
    "    orders_train['label'] = 1\n",
    "    \n",
    "    # 可能没召回到, 所以用outer join\n",
    "    data = data.merge(orders_train[['wm_order_id', 'user_id', 'wm_poi_id', 'dt', 'label']], on=['wm_order_id', 'user_id', 'wm_poi_id', 'dt'], how='left')\n",
    "    data['label'].fillna(0, inplace=True)\n",
    "    \n",
    "    return data"
   ]
  },
  {
   "cell_type": "code",
   "execution_count": 19,
   "id": "e591224f",
   "metadata": {
    "ExecuteTime": {
     "end_time": "2021-07-27T15:53:58.882537Z",
     "start_time": "2021-07-27T15:52:36.908884Z"
    }
   },
   "outputs": [
    {
     "name": "stdout",
     "output_type": "stream",
     "text": [
      "2021-06-07 2021-06-13 2021-06-14 2021-06-18\n"
     ]
    },
    {
     "data": {
      "application/vnd.jupyter.widget-view+json": {
       "model_id": "6a3c72a15ca846d5adb6da3a6472aa81",
       "version_major": 2,
       "version_minor": 0
      },
      "text/plain": [
       "  0%|          | 0/3 [00:00<?, ?it/s]"
      ]
     },
     "metadata": {},
     "output_type": "display_data"
    },
    {
     "data": {
      "application/vnd.jupyter.widget-view+json": {
       "model_id": "c8d57b66ebe640ee85533abedd5908ce",
       "version_major": 2,
       "version_minor": 0
      },
      "text/plain": [
       "  0%|          | 0/3 [00:00<?, ?it/s]"
      ]
     },
     "metadata": {},
     "output_type": "display_data"
    }
   ],
   "source": [
    "data_train = recall(orders_click_poi, orders_click_poi_explode, orders_train, user_order, '2021-06-13', 6, 15).drop_duplicates().reset_index(drop=True)"
   ]
  },
  {
   "cell_type": "code",
   "execution_count": 20,
   "id": "f769517d",
   "metadata": {
    "ExecuteTime": {
     "end_time": "2021-07-27T15:53:58.901193Z",
     "start_time": "2021-07-27T15:53:58.884543Z"
    }
   },
   "outputs": [
    {
     "data": {
      "text/html": [
       "<div>\n",
       "<style scoped>\n",
       "    .dataframe tbody tr th:only-of-type {\n",
       "        vertical-align: middle;\n",
       "    }\n",
       "\n",
       "    .dataframe tbody tr th {\n",
       "        vertical-align: top;\n",
       "    }\n",
       "\n",
       "    .dataframe thead th {\n",
       "        text-align: right;\n",
       "    }\n",
       "</style>\n",
       "<table border=\"1\" class=\"dataframe\">\n",
       "  <thead>\n",
       "    <tr style=\"text-align: right;\">\n",
       "      <th></th>\n",
       "      <th>wm_order_id</th>\n",
       "      <th>user_id</th>\n",
       "      <th>wm_poi_id</th>\n",
       "      <th>dt</th>\n",
       "      <th>label</th>\n",
       "    </tr>\n",
       "  </thead>\n",
       "  <tbody>\n",
       "    <tr>\n",
       "      <th>0</th>\n",
       "      <td>379429</td>\n",
       "      <td>18799</td>\n",
       "      <td>2438</td>\n",
       "      <td>2021-06-14</td>\n",
       "      <td>0.0</td>\n",
       "    </tr>\n",
       "    <tr>\n",
       "      <th>1</th>\n",
       "      <td>379429</td>\n",
       "      <td>18799</td>\n",
       "      <td>2183</td>\n",
       "      <td>2021-06-14</td>\n",
       "      <td>0.0</td>\n",
       "    </tr>\n",
       "    <tr>\n",
       "      <th>2</th>\n",
       "      <td>379429</td>\n",
       "      <td>18799</td>\n",
       "      <td>8</td>\n",
       "      <td>2021-06-14</td>\n",
       "      <td>0.0</td>\n",
       "    </tr>\n",
       "    <tr>\n",
       "      <th>3</th>\n",
       "      <td>379429</td>\n",
       "      <td>18799</td>\n",
       "      <td>3209</td>\n",
       "      <td>2021-06-14</td>\n",
       "      <td>0.0</td>\n",
       "    </tr>\n",
       "    <tr>\n",
       "      <th>4</th>\n",
       "      <td>379429</td>\n",
       "      <td>18799</td>\n",
       "      <td>15</td>\n",
       "      <td>2021-06-14</td>\n",
       "      <td>0.0</td>\n",
       "    </tr>\n",
       "  </tbody>\n",
       "</table>\n",
       "</div>"
      ],
      "text/plain": [
       "   wm_order_id  user_id  wm_poi_id          dt  label\n",
       "0       379429    18799       2438  2021-06-14    0.0\n",
       "1       379429    18799       2183  2021-06-14    0.0\n",
       "2       379429    18799          8  2021-06-14    0.0\n",
       "3       379429    18799       3209  2021-06-14    0.0\n",
       "4       379429    18799         15  2021-06-14    0.0"
      ]
     },
     "execution_count": 20,
     "metadata": {},
     "output_type": "execute_result"
    }
   ],
   "source": [
    "data_train.head()"
   ]
  },
  {
   "cell_type": "code",
   "execution_count": 21,
   "id": "1961b79e",
   "metadata": {
    "ExecuteTime": {
     "end_time": "2021-07-27T15:55:22.790445Z",
     "start_time": "2021-07-27T15:53:58.904217Z"
    }
   },
   "outputs": [
    {
     "name": "stdout",
     "output_type": "stream",
     "text": [
      "2021-06-14 2021-06-20 2021-06-21 2021-06-25\n"
     ]
    },
    {
     "data": {
      "application/vnd.jupyter.widget-view+json": {
       "model_id": "3c207f458a2741ee901e0142c374b73e",
       "version_major": 2,
       "version_minor": 0
      },
      "text/plain": [
       "  0%|          | 0/3 [00:00<?, ?it/s]"
      ]
     },
     "metadata": {},
     "output_type": "display_data"
    },
    {
     "data": {
      "application/vnd.jupyter.widget-view+json": {
       "model_id": "a6dded92c1984f36a4d5ab2fd161b427",
       "version_major": 2,
       "version_minor": 0
      },
      "text/plain": [
       "  0%|          | 0/3 [00:00<?, ?it/s]"
      ]
     },
     "metadata": {},
     "output_type": "display_data"
    }
   ],
   "source": [
    "data_valid = recall(orders_click_poi, orders_click_poi_explode, orders_train, user_order, '2021-06-20', 6, 15).drop_duplicates().reset_index(drop=True)"
   ]
  },
  {
   "cell_type": "code",
   "execution_count": 22,
   "id": "6c08426e",
   "metadata": {
    "ExecuteTime": {
     "end_time": "2021-07-27T15:56:31.916269Z",
     "start_time": "2021-07-27T15:55:22.792528Z"
    }
   },
   "outputs": [
    {
     "name": "stdout",
     "output_type": "stream",
     "text": [
      "2021-06-21 2021-06-27 2021-06-28 2021-07-02\n"
     ]
    },
    {
     "data": {
      "application/vnd.jupyter.widget-view+json": {
       "model_id": "db1f466e6eee4b9c9b75666de7911df9",
       "version_major": 2,
       "version_minor": 0
      },
      "text/plain": [
       "  0%|          | 0/3 [00:00<?, ?it/s]"
      ]
     },
     "metadata": {},
     "output_type": "display_data"
    },
    {
     "data": {
      "application/vnd.jupyter.widget-view+json": {
       "model_id": "aecf76f3d9754249b13aeec87957c5f9",
       "version_major": 2,
       "version_minor": 0
      },
      "text/plain": [
       "  0%|          | 0/3 [00:00<?, ?it/s]"
      ]
     },
     "metadata": {},
     "output_type": "display_data"
    }
   ],
   "source": [
    "data_test = recall(orders_click_poi, orders_click_poi_explode, orders_train, user_order, '2021-06-27', 6, 15).drop_duplicates().reset_index(drop=True)"
   ]
  },
  {
   "cell_type": "code",
   "execution_count": 23,
   "id": "e58e01b5",
   "metadata": {
    "ExecuteTime": {
     "end_time": "2021-07-27T15:56:31.949449Z",
     "start_time": "2021-07-27T15:56:31.918267Z"
    }
   },
   "outputs": [
    {
     "data": {
      "text/plain": [
       "(0.010100172824067688, 0.010243116495531397)"
      ]
     },
     "execution_count": 23,
     "metadata": {},
     "output_type": "execute_result"
    }
   ],
   "source": [
    "data_train['label'].mean(), data_valid['label'].mean()"
   ]
  },
  {
   "cell_type": "code",
   "execution_count": 24,
   "id": "5557df8b",
   "metadata": {
    "ExecuteTime": {
     "end_time": "2021-07-27T15:56:32.010490Z",
     "start_time": "2021-07-27T15:56:31.952182Z"
    }
   },
   "outputs": [
    {
     "data": {
      "text/plain": [
       "((10194182, 5), (10800131, 5), (6792408, 5))"
      ]
     },
     "execution_count": 24,
     "metadata": {},
     "output_type": "execute_result"
    }
   ],
   "source": [
    "data_train.shape, data_valid.shape, data_test.shape"
   ]
  },
  {
   "cell_type": "code",
   "execution_count": 25,
   "id": "4aa6d73c",
   "metadata": {
    "ExecuteTime": {
     "end_time": "2021-07-27T15:56:34.633140Z",
     "start_time": "2021-07-27T15:56:32.012734Z"
    }
   },
   "outputs": [],
   "source": [
    "data_train.to_feather('../01-data/train_label.feather')\n",
    "data_valid.to_feather('../01-data/valid_label.feather')\n",
    "data_test.to_feather('../01-data/test_label.feather')"
   ]
  },
  {
   "cell_type": "code",
   "execution_count": 1,
   "id": "ad7aac34",
   "metadata": {
    "ExecuteTime": {
     "end_time": "2021-07-29T11:44:54.348130Z",
     "start_time": "2021-07-29T11:44:51.818816Z"
    }
   },
   "outputs": [
    {
     "data": {
      "text/plain": [
       "(0.40849903988065955, 0.41106482909301695)"
      ]
     },
     "execution_count": 1,
     "metadata": {},
     "output_type": "execute_result"
    }
   ],
   "source": [
    "import pandas as pd\n",
    "def calc_recall_percent(df_recall):\n",
    "    df_temp = df_recall.groupby(['wm_order_id'])['label'].sum().reset_index()\n",
    "    recall_pct = df_temp[df_temp['label'] == 1].shape[0] / df_temp.shape[0]\n",
    "    return recall_pct\n",
    "\n",
    "\n",
    "data_train = pd.read_feather('../01-data/train_label.feather')\n",
    "data_valid = pd.read_feather('../01-data/valid_label.feather')\n",
    "\n",
    "calc_recall_percent(data_train), calc_recall_percent(data_valid)"
   ]
  },
  {
   "cell_type": "code",
   "execution_count": null,
   "id": "547ef6c9",
   "metadata": {},
   "outputs": [],
   "source": []
  }
 ],
 "metadata": {
  "kernelspec": {
   "display_name": "Python 3",
   "language": "python",
   "name": "python3"
  },
  "language_info": {
   "codemirror_mode": {
    "name": "ipython",
    "version": 3
   },
   "file_extension": ".py",
   "mimetype": "text/x-python",
   "name": "python",
   "nbconvert_exporter": "python",
   "pygments_lexer": "ipython3",
   "version": "3.8.8"
  },
  "toc": {
   "base_numbering": 1,
   "nav_menu": {},
   "number_sections": true,
   "sideBar": true,
   "skip_h1_title": false,
   "title_cell": "Table of Contents",
   "title_sidebar": "Contents",
   "toc_cell": false,
   "toc_position": {},
   "toc_section_display": true,
   "toc_window_display": false
  }
 },
 "nbformat": 4,
 "nbformat_minor": 5
}
