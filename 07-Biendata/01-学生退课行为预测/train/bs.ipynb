{
 "cells": [
  {
   "cell_type": "code",
   "execution_count": 1,
   "metadata": {
    "ExecuteTime": {
     "end_time": "2020-09-01T01:07:40.636217Z",
     "start_time": "2020-09-01T01:07:39.779000Z"
    }
   },
   "outputs": [],
   "source": [
    "import time\n",
    "import numpy as np\n",
    "import pandas as pd\n",
    "import gc\n",
    "import warnings\n",
    "from tqdm import tqdm\n",
    "from sklearn.model_selection import train_test_split\n",
    "from sklearn.metrics import accuracy_score, roc_auc_score\n",
    "import lightgbm as lgb\n",
    "\n",
    "warnings.filterwarnings('ignore')\n",
    "warnings.simplefilter(action='ignore', category=FutureWarning)\n",
    "pd.set_option('max_columns', None)\n",
    "pd.set_option('max_rows', None)"
   ]
  },
  {
   "cell_type": "code",
   "execution_count": 2,
   "metadata": {
    "ExecuteTime": {
     "end_time": "2020-09-01T01:07:42.435327Z",
     "start_time": "2020-09-01T01:07:40.636217Z"
    }
   },
   "outputs": [
    {
     "data": {
      "text/html": [
       "<div>\n",
       "<style scoped>\n",
       "    .dataframe tbody tr th:only-of-type {\n",
       "        vertical-align: middle;\n",
       "    }\n",
       "\n",
       "    .dataframe tbody tr th {\n",
       "        vertical-align: top;\n",
       "    }\n",
       "\n",
       "    .dataframe thead th {\n",
       "        text-align: right;\n",
       "    }\n",
       "</style>\n",
       "<table border=\"1\" class=\"dataframe\">\n",
       "  <thead>\n",
       "    <tr style=\"text-align: right;\">\n",
       "      <th></th>\n",
       "      <th>item_id</th>\n",
       "      <th>course_id</th>\n",
       "      <th>video_id</th>\n",
       "      <th>video_cnt</th>\n",
       "      <th>watching_count</th>\n",
       "      <th>video_duration</th>\n",
       "      <th>local_watching_time</th>\n",
       "      <th>video_progress_time</th>\n",
       "      <th>video_start_time</th>\n",
       "      <th>video_end_time</th>\n",
       "      <th>local_start_time</th>\n",
       "      <th>local_end_time</th>\n",
       "    </tr>\n",
       "  </thead>\n",
       "  <tbody>\n",
       "    <tr>\n",
       "      <th>0</th>\n",
       "      <td>U_0</td>\n",
       "      <td>C_course-v1:TsinghuaX+00691153X+sp</td>\n",
       "      <td>V_0d2ed7b0f77647388d3ad5420d1d6549</td>\n",
       "      <td>1</td>\n",
       "      <td>2</td>\n",
       "      <td>415.0</td>\n",
       "      <td>415</td>\n",
       "      <td>414.809998</td>\n",
       "      <td>0.00</td>\n",
       "      <td>415.000000</td>\n",
       "      <td>2017-07-13 09:01:58</td>\n",
       "      <td>2017-07-13 13:18:15</td>\n",
       "    </tr>\n",
       "    <tr>\n",
       "      <th>1</th>\n",
       "      <td>U_0</td>\n",
       "      <td>C_course-v1:TsinghuaX+00691153X+sp</td>\n",
       "      <td>V_330acdbc14db49a88adbbc10c082155e</td>\n",
       "      <td>1</td>\n",
       "      <td>4</td>\n",
       "      <td>282.0</td>\n",
       "      <td>240</td>\n",
       "      <td>239.850001</td>\n",
       "      <td>0.01</td>\n",
       "      <td>212.149994</td>\n",
       "      <td>2017-07-13 08:25:40</td>\n",
       "      <td>2017-07-13 08:38:45</td>\n",
       "    </tr>\n",
       "    <tr>\n",
       "      <th>2</th>\n",
       "      <td>U_0</td>\n",
       "      <td>C_course-v1:TsinghuaX+00691153X+sp</td>\n",
       "      <td>V_42b82d4372ed4350b661f68a825594be</td>\n",
       "      <td>1</td>\n",
       "      <td>1</td>\n",
       "      <td>306.0</td>\n",
       "      <td>307</td>\n",
       "      <td>306.000000</td>\n",
       "      <td>0.00</td>\n",
       "      <td>306.000000</td>\n",
       "      <td>2017-07-06 09:45:38</td>\n",
       "      <td>2017-07-06 09:50:45</td>\n",
       "    </tr>\n",
       "    <tr>\n",
       "      <th>3</th>\n",
       "      <td>U_0</td>\n",
       "      <td>C_course-v1:TsinghuaX+00691153X+sp</td>\n",
       "      <td>V_6d701687d50e4ee4a897b3c74c45afa1</td>\n",
       "      <td>1</td>\n",
       "      <td>1</td>\n",
       "      <td>851.0</td>\n",
       "      <td>851</td>\n",
       "      <td>851.000000</td>\n",
       "      <td>0.00</td>\n",
       "      <td>851.000000</td>\n",
       "      <td>2017-07-13 13:18:57</td>\n",
       "      <td>2017-07-13 13:33:08</td>\n",
       "    </tr>\n",
       "    <tr>\n",
       "      <th>4</th>\n",
       "      <td>U_0</td>\n",
       "      <td>C_course-v1:TsinghuaX+00691153X+sp</td>\n",
       "      <td>V_74598872443d4c10848782f021e1d0af</td>\n",
       "      <td>1</td>\n",
       "      <td>1</td>\n",
       "      <td>898.0</td>\n",
       "      <td>202</td>\n",
       "      <td>201.529999</td>\n",
       "      <td>0.00</td>\n",
       "      <td>201.529999</td>\n",
       "      <td>2017-07-13 08:41:20</td>\n",
       "      <td>2017-07-13 08:44:42</td>\n",
       "    </tr>\n",
       "  </tbody>\n",
       "</table>\n",
       "</div>"
      ],
      "text/plain": [
       "  item_id                           course_id  \\\n",
       "0     U_0  C_course-v1:TsinghuaX+00691153X+sp   \n",
       "1     U_0  C_course-v1:TsinghuaX+00691153X+sp   \n",
       "2     U_0  C_course-v1:TsinghuaX+00691153X+sp   \n",
       "3     U_0  C_course-v1:TsinghuaX+00691153X+sp   \n",
       "4     U_0  C_course-v1:TsinghuaX+00691153X+sp   \n",
       "\n",
       "                             video_id  video_cnt  watching_count  \\\n",
       "0  V_0d2ed7b0f77647388d3ad5420d1d6549          1               2   \n",
       "1  V_330acdbc14db49a88adbbc10c082155e          1               4   \n",
       "2  V_42b82d4372ed4350b661f68a825594be          1               1   \n",
       "3  V_6d701687d50e4ee4a897b3c74c45afa1          1               1   \n",
       "4  V_74598872443d4c10848782f021e1d0af          1               1   \n",
       "\n",
       "   video_duration  local_watching_time  video_progress_time  video_start_time  \\\n",
       "0           415.0                  415           414.809998              0.00   \n",
       "1           282.0                  240           239.850001              0.01   \n",
       "2           306.0                  307           306.000000              0.00   \n",
       "3           851.0                  851           851.000000              0.00   \n",
       "4           898.0                  202           201.529999              0.00   \n",
       "\n",
       "   video_end_time    local_start_time      local_end_time  \n",
       "0      415.000000 2017-07-13 09:01:58 2017-07-13 13:18:15  \n",
       "1      212.149994 2017-07-13 08:25:40 2017-07-13 08:38:45  \n",
       "2      306.000000 2017-07-06 09:45:38 2017-07-06 09:50:45  \n",
       "3      851.000000 2017-07-13 13:18:57 2017-07-13 13:33:08  \n",
       "4      201.529999 2017-07-13 08:41:20 2017-07-13 08:44:42  "
      ]
     },
     "execution_count": 2,
     "metadata": {},
     "output_type": "execute_result"
    }
   ],
   "source": [
    "train = pd.read_hdf('../input/train_video.h5')\n",
    "train.head()"
   ]
  },
  {
   "cell_type": "code",
   "execution_count": 3,
   "metadata": {
    "ExecuteTime": {
     "end_time": "2020-09-01T01:07:42.465437Z",
     "start_time": "2020-09-01T01:07:42.436834Z"
    }
   },
   "outputs": [
    {
     "data": {
      "text/plain": [
       "array([1, 2, 3], dtype=int64)"
      ]
     },
     "execution_count": 3,
     "metadata": {},
     "output_type": "execute_result"
    }
   ],
   "source": [
    "train['video_cnt'].unique()"
   ]
  },
  {
   "cell_type": "code",
   "execution_count": 4,
   "metadata": {
    "ExecuteTime": {
     "end_time": "2020-09-01T01:07:42.623967Z",
     "start_time": "2020-09-01T01:07:42.466387Z"
    }
   },
   "outputs": [
    {
     "data": {
      "text/html": [
       "<div>\n",
       "<style scoped>\n",
       "    .dataframe tbody tr th:only-of-type {\n",
       "        vertical-align: middle;\n",
       "    }\n",
       "\n",
       "    .dataframe tbody tr th {\n",
       "        vertical-align: top;\n",
       "    }\n",
       "\n",
       "    .dataframe thead th {\n",
       "        text-align: right;\n",
       "    }\n",
       "</style>\n",
       "<table border=\"1\" class=\"dataframe\">\n",
       "  <thead>\n",
       "    <tr style=\"text-align: right;\">\n",
       "      <th></th>\n",
       "      <th>item_id</th>\n",
       "      <th>course_id</th>\n",
       "      <th>video_id</th>\n",
       "      <th>video_cnt</th>\n",
       "      <th>watching_count</th>\n",
       "      <th>video_duration</th>\n",
       "      <th>local_watching_time</th>\n",
       "      <th>video_progress_time</th>\n",
       "      <th>video_start_time</th>\n",
       "      <th>video_end_time</th>\n",
       "      <th>local_start_time</th>\n",
       "      <th>local_end_time</th>\n",
       "    </tr>\n",
       "  </thead>\n",
       "  <tbody>\n",
       "    <tr>\n",
       "      <th>0</th>\n",
       "      <td>T_1</td>\n",
       "      <td>C_course-v1:TsinghuaX+00612642X+sp</td>\n",
       "      <td>V_01292610aa1748e79c8981de6f0464f8</td>\n",
       "      <td>1</td>\n",
       "      <td>2</td>\n",
       "      <td>1084.0</td>\n",
       "      <td>722</td>\n",
       "      <td>1080.659960</td>\n",
       "      <td>1.18</td>\n",
       "      <td>1081.959961</td>\n",
       "      <td>2018-05-12 17:49:32</td>\n",
       "      <td>2018-05-12 18:02:07</td>\n",
       "    </tr>\n",
       "    <tr>\n",
       "      <th>1</th>\n",
       "      <td>T_1</td>\n",
       "      <td>C_course-v1:TsinghuaX+00612642X+sp</td>\n",
       "      <td>V_0255c95155a9478291d4bb7818f22c07</td>\n",
       "      <td>1</td>\n",
       "      <td>1</td>\n",
       "      <td>85.0</td>\n",
       "      <td>69</td>\n",
       "      <td>84.980000</td>\n",
       "      <td>0.02</td>\n",
       "      <td>85.000000</td>\n",
       "      <td>2018-05-04 16:58:41</td>\n",
       "      <td>2018-05-04 16:59:50</td>\n",
       "    </tr>\n",
       "    <tr>\n",
       "      <th>2</th>\n",
       "      <td>T_1</td>\n",
       "      <td>C_course-v1:TsinghuaX+00612642X+sp</td>\n",
       "      <td>V_03df78abe20a439699d16f7608ae9425</td>\n",
       "      <td>1</td>\n",
       "      <td>1</td>\n",
       "      <td>1165.0</td>\n",
       "      <td>778</td>\n",
       "      <td>1165.000000</td>\n",
       "      <td>0.00</td>\n",
       "      <td>1165.000000</td>\n",
       "      <td>2018-05-04 18:29:10</td>\n",
       "      <td>2018-05-04 18:42:08</td>\n",
       "    </tr>\n",
       "    <tr>\n",
       "      <th>3</th>\n",
       "      <td>T_1</td>\n",
       "      <td>C_course-v1:TsinghuaX+00612642X+sp</td>\n",
       "      <td>V_0585e40baa8644319760cfca62354112</td>\n",
       "      <td>1</td>\n",
       "      <td>1</td>\n",
       "      <td>532.0</td>\n",
       "      <td>426</td>\n",
       "      <td>532.000000</td>\n",
       "      <td>0.00</td>\n",
       "      <td>532.000000</td>\n",
       "      <td>2018-05-09 16:37:49</td>\n",
       "      <td>2018-05-09 16:44:55</td>\n",
       "    </tr>\n",
       "    <tr>\n",
       "      <th>4</th>\n",
       "      <td>T_1</td>\n",
       "      <td>C_course-v1:TsinghuaX+00612642X+sp</td>\n",
       "      <td>V_0b4c5734035e4eb4a2a50d21707f0af3</td>\n",
       "      <td>1</td>\n",
       "      <td>4</td>\n",
       "      <td>937.0</td>\n",
       "      <td>747</td>\n",
       "      <td>931.999974</td>\n",
       "      <td>0.27</td>\n",
       "      <td>937.000000</td>\n",
       "      <td>2018-05-10 18:16:35</td>\n",
       "      <td>2018-05-10 18:35:03</td>\n",
       "    </tr>\n",
       "  </tbody>\n",
       "</table>\n",
       "</div>"
      ],
      "text/plain": [
       "  item_id                           course_id  \\\n",
       "0     T_1  C_course-v1:TsinghuaX+00612642X+sp   \n",
       "1     T_1  C_course-v1:TsinghuaX+00612642X+sp   \n",
       "2     T_1  C_course-v1:TsinghuaX+00612642X+sp   \n",
       "3     T_1  C_course-v1:TsinghuaX+00612642X+sp   \n",
       "4     T_1  C_course-v1:TsinghuaX+00612642X+sp   \n",
       "\n",
       "                             video_id  video_cnt  watching_count  \\\n",
       "0  V_01292610aa1748e79c8981de6f0464f8          1               2   \n",
       "1  V_0255c95155a9478291d4bb7818f22c07          1               1   \n",
       "2  V_03df78abe20a439699d16f7608ae9425          1               1   \n",
       "3  V_0585e40baa8644319760cfca62354112          1               1   \n",
       "4  V_0b4c5734035e4eb4a2a50d21707f0af3          1               4   \n",
       "\n",
       "   video_duration  local_watching_time  video_progress_time  video_start_time  \\\n",
       "0          1084.0                  722          1080.659960              1.18   \n",
       "1            85.0                   69            84.980000              0.02   \n",
       "2          1165.0                  778          1165.000000              0.00   \n",
       "3           532.0                  426           532.000000              0.00   \n",
       "4           937.0                  747           931.999974              0.27   \n",
       "\n",
       "   video_end_time    local_start_time      local_end_time  \n",
       "0     1081.959961 2018-05-12 17:49:32 2018-05-12 18:02:07  \n",
       "1       85.000000 2018-05-04 16:58:41 2018-05-04 16:59:50  \n",
       "2     1165.000000 2018-05-04 18:29:10 2018-05-04 18:42:08  \n",
       "3      532.000000 2018-05-09 16:37:49 2018-05-09 16:44:55  \n",
       "4      937.000000 2018-05-10 18:16:35 2018-05-10 18:35:03  "
      ]
     },
     "execution_count": 4,
     "metadata": {},
     "output_type": "execute_result"
    }
   ],
   "source": [
    "test = pd.read_hdf('../input/test_video.h5')\n",
    "test.head()"
   ]
  },
  {
   "cell_type": "code",
   "execution_count": 5,
   "metadata": {
    "ExecuteTime": {
     "end_time": "2020-09-01T01:07:42.631944Z",
     "start_time": "2020-09-01T01:07:42.624964Z"
    }
   },
   "outputs": [
    {
     "data": {
      "text/plain": [
       "array([1, 2], dtype=int64)"
      ]
     },
     "execution_count": 5,
     "metadata": {},
     "output_type": "execute_result"
    }
   ],
   "source": [
    "test['video_cnt'].unique()"
   ]
  },
  {
   "cell_type": "code",
   "execution_count": 6,
   "metadata": {
    "ExecuteTime": {
     "end_time": "2020-09-01T01:07:42.940913Z",
     "start_time": "2020-09-01T01:07:42.632941Z"
    }
   },
   "outputs": [
    {
     "data": {
      "text/plain": [
       "(3531915, 12)"
      ]
     },
     "execution_count": 6,
     "metadata": {},
     "output_type": "execute_result"
    }
   ],
   "source": [
    "df_video = pd.concat([train, test], axis=0, ignore_index=False)\n",
    "df_video.shape"
   ]
  },
  {
   "cell_type": "code",
   "execution_count": 7,
   "metadata": {
    "ExecuteTime": {
     "end_time": "2020-09-01T01:07:42.945285Z",
     "start_time": "2020-09-01T01:07:42.942254Z"
    }
   },
   "outputs": [],
   "source": [
    "uid1 = ['item_id', 'course_id', 'video_id']\n",
    "uid2 = ['item_id', 'course_id']"
   ]
  },
  {
   "cell_type": "markdown",
   "metadata": {},
   "source": [
    "# video维度# "
   ]
  },
  {
   "cell_type": "code",
   "execution_count": 8,
   "metadata": {
    "ExecuteTime": {
     "end_time": "2020-09-01T01:10:17.425541Z",
     "start_time": "2020-09-01T01:07:42.947241Z"
    }
   },
   "outputs": [],
   "source": [
    "# 进度条最晚的时间点-进度条最早的时间点\n",
    "df_video['video_watching_duration'] = df_video['video_end_time'] - df_video['video_start_time']\n",
    "\n",
    "# 视频：观看结束时间-观看开始时间\n",
    "df_video['local_watching_duration'] = df_video.apply(lambda x: (x['local_end_time'] - x['local_start_time']).seconds, axis=1)"
   ]
  },
  {
   "cell_type": "code",
   "execution_count": 9,
   "metadata": {
    "ExecuteTime": {
     "end_time": "2020-09-01T01:10:18.692601Z",
     "start_time": "2020-09-01T01:10:17.426592Z"
    }
   },
   "outputs": [],
   "source": [
    "# 进度条是否读到最后，小于0\n",
    "df_video['video_is_end'] = df_video['video_end_time'] - df_video['video_duration']\n",
    "\n",
    "# 一开始是否拖到进度条\n",
    "df_video['video_is_start'] = df_video['video_start_time'].map(lambda x: 1 if x > 0 else 0)\n",
    "\n",
    "# 进度条是否从开始读到最后，小于0\n",
    "df_video['video_is_start_end'] = df_video['video_watching_duration'] - df_video['video_duration']\n",
    "\n",
    "# 进度条拖动的秒速 - 暂停时长\n",
    "df_video['forward_seconds'] = df_video['video_watching_duration'] - df_video['video_progress_time']\n",
    "\n",
    "# 暂停时长，\n",
    "# df[''] = df[''] - df['']\n",
    "\n",
    "# 实际观看时长是否有差误\n",
    "df_video['local_watching_diff'] = df_video['local_watching_duration'] - df_video['local_watching_time']\n",
    "\n",
    "# 倍速\n",
    "df_video['speed'] = df_video['local_watching_time'] / (df_video['video_progress_time'] + 0.001)"
   ]
  },
  {
   "cell_type": "code",
   "execution_count": 10,
   "metadata": {
    "ExecuteTime": {
     "end_time": "2020-09-01T01:10:18.698541Z",
     "start_time": "2020-09-01T01:10:18.693552Z"
    }
   },
   "outputs": [
    {
     "data": {
      "text/plain": [
       "Index(['item_id', 'course_id', 'video_id', 'video_cnt', 'watching_count',\n",
       "       'video_duration', 'local_watching_time', 'video_progress_time',\n",
       "       'video_start_time', 'video_end_time', 'local_start_time',\n",
       "       'local_end_time', 'video_watching_duration', 'local_watching_duration',\n",
       "       'video_is_end', 'video_is_start', 'video_is_start_end',\n",
       "       'forward_seconds', 'local_watching_diff', 'speed'],\n",
       "      dtype='object')"
      ]
     },
     "execution_count": 10,
     "metadata": {},
     "output_type": "execute_result"
    }
   ],
   "source": [
    "df_video.columns"
   ]
  },
  {
   "cell_type": "markdown",
   "metadata": {},
   "source": [
    "# course维度"
   ]
  },
  {
   "cell_type": "code",
   "execution_count": 11,
   "metadata": {
    "ExecuteTime": {
     "end_time": "2020-09-01T01:10:19.890656Z",
     "start_time": "2020-09-01T01:10:18.699536Z"
    }
   },
   "outputs": [
    {
     "data": {
      "text/plain": [
       "(247957, 4)"
      ]
     },
     "execution_count": 11,
     "metadata": {},
     "output_type": "execute_result"
    }
   ],
   "source": [
    "df_course = df_video.groupby(uid2, as_index=False).agg({\n",
    "    'local_start_time': np.min,\n",
    "    'local_end_time': np.max\n",
    "})\n",
    "\n",
    "df_course.shape"
   ]
  },
  {
   "cell_type": "code",
   "execution_count": 12,
   "metadata": {
    "ExecuteTime": {
     "end_time": "2020-09-01T01:10:20.122401Z",
     "start_time": "2020-09-01T01:10:19.891654Z"
    }
   },
   "outputs": [
    {
     "name": "stderr",
     "output_type": "stream",
     "text": [
      "100%|████████████████████████████████████████████████████████████████████████████████████| 2/2 [00:00<00:00,  9.04it/s]\n"
     ]
    }
   ],
   "source": [
    "for i in tqdm(['local_end_time', 'local_start_time']):\n",
    "    df_course['{}_year'.format(i)] = df_course[i].dt.year\n",
    "    df_course['{}_month'.format(i)] = df_course[i].dt.month\n",
    "    df_course['{}_day'.format(i)] = df_course[i].dt.day\n",
    "    df_course['{}_hour'.format(i)] = df_course[i].dt.hour\n",
    "    df_course['{}_dow'.format(i)] = df_course[i].dt.dayofweek"
   ]
  },
  {
   "cell_type": "code",
   "execution_count": 13,
   "metadata": {
    "ExecuteTime": {
     "end_time": "2020-09-01T01:10:20.126429Z",
     "start_time": "2020-09-01T01:10:20.123399Z"
    }
   },
   "outputs": [],
   "source": [
    "# voc_day_cnt_res = df_course.groupby(['phone_no_m', 'voc_day'])['phone_no_m'].count().unstack()\n",
    "# for i in df_voc['voc_day'].unique():\n",
    "#     phone_no_m['voc_day{}_count'.format(i)] = phone_no_m['phone_no_m'].map(voc_day_cnt_res[i])"
   ]
  },
  {
   "cell_type": "code",
   "execution_count": 14,
   "metadata": {
    "ExecuteTime": {
     "end_time": "2020-09-01T01:10:57.875780Z",
     "start_time": "2020-09-01T01:10:20.127388Z"
    }
   },
   "outputs": [
    {
     "data": {
      "text/plain": [
       "0"
      ]
     },
     "execution_count": 14,
     "metadata": {},
     "output_type": "execute_result"
    }
   ],
   "source": [
    "# video_cnt\n",
    "tmp = df_video.groupby(uid2, as_index=False)['video_cnt'].agg({\n",
    "    'video_cnt_sum': 'sum',\n",
    "    'video_cnt_count': 'count',\n",
    "    'video_cnt_mean': 'mean',\n",
    "    'video_cnt_max': 'max',\n",
    "    'video_cnt_min': 'min',\n",
    "    'video_cnt_std': 'std',\n",
    "    'video_cnt_skew': 'skew'\n",
    "})\n",
    "df_course = df_course.merge(tmp, on=uid2, how='left')\n",
    "del tmp\n",
    "gc.collect()"
   ]
  },
  {
   "cell_type": "code",
   "execution_count": 15,
   "metadata": {
    "ExecuteTime": {
     "end_time": "2020-09-01T01:11:35.407209Z",
     "start_time": "2020-09-01T01:10:57.877473Z"
    }
   },
   "outputs": [
    {
     "data": {
      "text/plain": [
       "0"
      ]
     },
     "execution_count": 15,
     "metadata": {},
     "output_type": "execute_result"
    }
   ],
   "source": [
    "# watching_count\n",
    "tmp = df_video.groupby(uid2, as_index=False)['watching_count'].agg({\n",
    "    'watching_count_sum': 'sum',\n",
    "    # 'watching_count_count': 'count',\n",
    "    'watching_count_mean': 'mean',\n",
    "    'watching_count_max': 'max',\n",
    "    'watching_count_min': 'min',\n",
    "    'watching_count_std': 'std',\n",
    "    'watching_count_skew': 'skew'\n",
    "})\n",
    "df_course = df_course.merge(tmp, on=uid2, how='left')\n",
    "del tmp\n",
    "gc.collect()"
   ]
  },
  {
   "cell_type": "code",
   "execution_count": 16,
   "metadata": {
    "ExecuteTime": {
     "end_time": "2020-09-01T01:12:15.643105Z",
     "start_time": "2020-09-01T01:11:35.408208Z"
    }
   },
   "outputs": [
    {
     "data": {
      "text/plain": [
       "0"
      ]
     },
     "execution_count": 16,
     "metadata": {},
     "output_type": "execute_result"
    }
   ],
   "source": [
    "# video_duration\n",
    "tmp = df_video.groupby(uid2, as_index=False)['video_duration'].agg({\n",
    "    'video_duration_sum': 'sum',\n",
    "    # 'video_duration_count': 'count',\n",
    "    'video_duration_mean': 'mean',\n",
    "    'video_duration_max': 'max',\n",
    "    'video_duration_min': 'min',\n",
    "    'video_duration_std': 'std',\n",
    "    'video_duration_skew': 'skew'\n",
    "})\n",
    "df_course = df_course.merge(tmp, on=uid2, how='left')\n",
    "del tmp\n",
    "gc.collect()"
   ]
  },
  {
   "cell_type": "code",
   "execution_count": 17,
   "metadata": {
    "ExecuteTime": {
     "end_time": "2020-09-01T01:12:55.443750Z",
     "start_time": "2020-09-01T01:12:15.644415Z"
    }
   },
   "outputs": [
    {
     "data": {
      "text/plain": [
       "0"
      ]
     },
     "execution_count": 17,
     "metadata": {},
     "output_type": "execute_result"
    }
   ],
   "source": [
    "# local_watching_time\n",
    "tmp = df_video.groupby(uid2, as_index=False)['local_watching_time'].agg({\n",
    "    'local_watching_time_sum': 'sum',\n",
    "    # 'local_watching_time_count': 'count',\n",
    "    'local_watching_time_mean': 'mean',\n",
    "    'local_watching_time_max': 'max',\n",
    "    'local_watching_time_min': 'min',\n",
    "    'local_watching_time_std': 'std',\n",
    "    'local_watching_time_skew': 'skew'\n",
    "})\n",
    "df_course = df_course.merge(tmp, on=uid2, how='left')\n",
    "del tmp\n",
    "gc.collect()"
   ]
  },
  {
   "cell_type": "code",
   "execution_count": 18,
   "metadata": {
    "ExecuteTime": {
     "end_time": "2020-09-01T01:13:38.616166Z",
     "start_time": "2020-09-01T01:12:55.444747Z"
    }
   },
   "outputs": [
    {
     "data": {
      "text/plain": [
       "0"
      ]
     },
     "execution_count": 18,
     "metadata": {},
     "output_type": "execute_result"
    }
   ],
   "source": [
    "# video_progress_time\n",
    "tmp = df_video.groupby(uid2, as_index=False)['video_progress_time'].agg({\n",
    "    'video_progress_time_sum': 'sum',\n",
    "    # 'video_progress_time_count': 'count',\n",
    "    'video_progress_time_mean': 'mean',\n",
    "    'video_progress_time_max': 'max',\n",
    "    'video_progress_time_min': 'min',\n",
    "    'video_progress_time_std': 'std',\n",
    "    'video_progress_time_skew': 'skew'\n",
    "})\n",
    "df_course = df_course.merge(tmp, on=uid2, how='left')\n",
    "del tmp\n",
    "gc.collect()"
   ]
  },
  {
   "cell_type": "code",
   "execution_count": 19,
   "metadata": {
    "ExecuteTime": {
     "end_time": "2020-09-01T01:14:23.002790Z",
     "start_time": "2020-09-01T01:13:38.617166Z"
    }
   },
   "outputs": [
    {
     "data": {
      "text/plain": [
       "0"
      ]
     },
     "execution_count": 19,
     "metadata": {},
     "output_type": "execute_result"
    }
   ],
   "source": [
    "# video_watching_duration\n",
    "tmp = df_video.groupby(uid2, as_index=False)['video_watching_duration'].agg({\n",
    "    'video_watching_duration_sum': 'sum',\n",
    "    # 'video_watching_duration_count': 'count',\n",
    "    'video_watching_duration_mean': 'mean',\n",
    "    'video_watching_duration_max': 'max',\n",
    "    'video_watching_duration_min': 'min',\n",
    "    'video_watching_duration_std': 'std',\n",
    "    'video_watching_duration_skew': 'skew'\n",
    "})\n",
    "df_course = df_course.merge(tmp, on=uid2, how='left')\n",
    "del tmp\n",
    "gc.collect()"
   ]
  },
  {
   "cell_type": "code",
   "execution_count": 20,
   "metadata": {
    "ExecuteTime": {
     "end_time": "2020-09-01T01:15:00.644662Z",
     "start_time": "2020-09-01T01:14:23.003787Z"
    }
   },
   "outputs": [
    {
     "data": {
      "text/plain": [
       "0"
      ]
     },
     "execution_count": 20,
     "metadata": {},
     "output_type": "execute_result"
    }
   ],
   "source": [
    "# local_watching_duration\n",
    "tmp = df_video.groupby(uid2, as_index=False)['local_watching_duration'].agg({\n",
    "    'local_watching_duration_sum': 'sum',\n",
    "    # 'local_watching_duration_count': 'count',\n",
    "    'local_watching_duration_mean': 'mean',\n",
    "    'local_watching_duration_max': 'max',\n",
    "    'local_watching_duration_min': 'min',\n",
    "    'local_watching_duration_std': 'std',\n",
    "    'local_watching_duration_skew': 'skew'\n",
    "})\n",
    "df_course = df_course.merge(tmp, on=uid2, how='left')\n",
    "del tmp\n",
    "gc.collect()"
   ]
  },
  {
   "cell_type": "code",
   "execution_count": 21,
   "metadata": {
    "ExecuteTime": {
     "end_time": "2020-09-01T01:15:40.965939Z",
     "start_time": "2020-09-01T01:15:00.645661Z"
    }
   },
   "outputs": [
    {
     "data": {
      "text/plain": [
       "0"
      ]
     },
     "execution_count": 21,
     "metadata": {},
     "output_type": "execute_result"
    }
   ],
   "source": [
    "# video_is_end\n",
    "tmp = df_video.groupby(uid2, as_index=False)['video_is_end'].agg({\n",
    "    'video_is_end_sum': 'sum',\n",
    "    # 'video_is_end_count': 'count',\n",
    "    'video_is_end_mean': 'mean',\n",
    "    'video_is_end_max': 'max',\n",
    "    'video_is_end_min': 'min',\n",
    "    'video_is_end_std': 'std',\n",
    "    'video_is_end_skew': 'skew'\n",
    "})\n",
    "df_course = df_course.merge(tmp, on=uid2, how='left')\n",
    "del tmp\n",
    "gc.collect()"
   ]
  },
  {
   "cell_type": "code",
   "execution_count": 22,
   "metadata": {
    "ExecuteTime": {
     "end_time": "2020-09-01T01:16:20.434280Z",
     "start_time": "2020-09-01T01:15:40.969050Z"
    }
   },
   "outputs": [
    {
     "data": {
      "text/plain": [
       "0"
      ]
     },
     "execution_count": 22,
     "metadata": {},
     "output_type": "execute_result"
    }
   ],
   "source": [
    "# video_is_start\n",
    "tmp = df_video.groupby(uid2, as_index=False)['video_is_start'].agg({\n",
    "    'video_is_start_sum': 'sum',\n",
    "    # 'video_is_start_count': 'count',\n",
    "    'video_is_start_mean': 'mean',\n",
    "    'video_is_start_max': 'max',\n",
    "    'video_is_start_min': 'min',\n",
    "    'video_is_start_std': 'std',\n",
    "    'video_is_start_skew': 'skew'\n",
    "})\n",
    "df_course = df_course.merge(tmp, on=uid2, how='left')\n",
    "del tmp\n",
    "gc.collect()"
   ]
  },
  {
   "cell_type": "code",
   "execution_count": 23,
   "metadata": {
    "ExecuteTime": {
     "end_time": "2020-09-01T01:17:01.269540Z",
     "start_time": "2020-09-01T01:16:20.436298Z"
    }
   },
   "outputs": [
    {
     "data": {
      "text/plain": [
       "0"
      ]
     },
     "execution_count": 23,
     "metadata": {},
     "output_type": "execute_result"
    }
   ],
   "source": [
    "# video_is_start_end\n",
    "tmp = df_video.groupby(uid2, as_index=False)['video_is_start_end'].agg({\n",
    "    'video_is_start_end_sum': 'sum',\n",
    "    # 'video_is_start_end_count': 'count',\n",
    "    'video_is_start_end_mean': 'mean',\n",
    "    'video_is_start_end_max': 'max',\n",
    "    'video_is_start_end_min': 'min',\n",
    "    'video_is_start_end_std': 'std',\n",
    "    'video_is_start_end_skew': 'skew'\n",
    "})\n",
    "df_course = df_course.merge(tmp, on=uid2, how='left')\n",
    "del tmp\n",
    "gc.collect()"
   ]
  },
  {
   "cell_type": "code",
   "execution_count": 24,
   "metadata": {
    "ExecuteTime": {
     "end_time": "2020-09-01T01:17:44.864256Z",
     "start_time": "2020-09-01T01:17:01.270538Z"
    }
   },
   "outputs": [
    {
     "data": {
      "text/plain": [
       "0"
      ]
     },
     "execution_count": 24,
     "metadata": {},
     "output_type": "execute_result"
    }
   ],
   "source": [
    "# forward_seconds\n",
    "tmp = df_video.groupby(uid2, as_index=False)['forward_seconds'].agg({\n",
    "    'forward_seconds_sum': 'sum',\n",
    "    # 'forward_seconds_count': 'count',\n",
    "    'forward_seconds_mean': 'mean',\n",
    "    'forward_seconds_max': 'max',\n",
    "    'forward_seconds_min': 'min',\n",
    "    'forward_seconds_std': 'std',\n",
    "    'forward_seconds_skew': 'skew'\n",
    "})\n",
    "df_course = df_course.merge(tmp, on=uid2, how='left')\n",
    "del tmp\n",
    "gc.collect()"
   ]
  },
  {
   "cell_type": "code",
   "execution_count": 25,
   "metadata": {
    "ExecuteTime": {
     "end_time": "2020-09-01T01:18:25.777519Z",
     "start_time": "2020-09-01T01:17:44.865262Z"
    }
   },
   "outputs": [
    {
     "data": {
      "text/plain": [
       "0"
      ]
     },
     "execution_count": 25,
     "metadata": {},
     "output_type": "execute_result"
    }
   ],
   "source": [
    "# local_watching_diff\n",
    "tmp = df_video.groupby(uid2, as_index=False)['local_watching_diff'].agg({\n",
    "    'local_watching_diff_sum': 'sum',\n",
    "    # 'local_watching_diff_count': 'count',\n",
    "    'local_watching_diff_mean': 'mean',\n",
    "    'local_watching_diff_max': 'max',\n",
    "    'local_watching_diff_min': 'min',\n",
    "    'local_watching_diff_std': 'std',\n",
    "    'local_watching_diff_skew': 'skew'\n",
    "})\n",
    "df_course = df_course.merge(tmp, on=uid2, how='left')\n",
    "del tmp\n",
    "gc.collect()"
   ]
  },
  {
   "cell_type": "code",
   "execution_count": 26,
   "metadata": {
    "ExecuteTime": {
     "end_time": "2020-09-01T01:19:06.290501Z",
     "start_time": "2020-09-01T01:18:25.778517Z"
    }
   },
   "outputs": [
    {
     "data": {
      "text/plain": [
       "0"
      ]
     },
     "execution_count": 26,
     "metadata": {},
     "output_type": "execute_result"
    }
   ],
   "source": [
    "# speed\n",
    "tmp = df_video.groupby(uid2, as_index=False)['speed'].agg({\n",
    "    'speed_sum': 'sum',\n",
    "    # 'speed_count': 'count',\n",
    "    'speed_mean': 'mean',\n",
    "    'speed_max': 'max',\n",
    "    'speed_min': 'min',\n",
    "    'speed_std': 'std',\n",
    "    'speed_skew': 'skew'\n",
    "})\n",
    "df_course = df_course.merge(tmp, on=uid2, how='left')\n",
    "del tmp\n",
    "gc.collect()"
   ]
  },
  {
   "cell_type": "code",
   "execution_count": 27,
   "metadata": {
    "ExecuteTime": {
     "end_time": "2020-09-01T01:19:17.965848Z",
     "start_time": "2020-09-01T01:19:06.291498Z"
    }
   },
   "outputs": [],
   "source": [
    "# 课程：观看结束时间-观看开始时间\n",
    "df_course['local_watching_duration'] = df_course.apply(lambda x: (x['local_end_time'] - x['local_start_time']).seconds, axis=1)\n",
    "\n",
    "df_course['local_watching_diff'] = df_course['local_watching_duration'] - df_course['local_watching_time_sum']\n",
    "\n",
    "df_course['local_watching_video_duration'] = df_course['local_watching_duration'] - df_course['video_duration_sum']"
   ]
  },
  {
   "cell_type": "code",
   "execution_count": 28,
   "metadata": {
    "ExecuteTime": {
     "end_time": "2020-09-01T01:19:18.286383Z",
     "start_time": "2020-09-01T01:19:17.965848Z"
    }
   },
   "outputs": [
    {
     "data": {
      "text/plain": [
       "33"
      ]
     },
     "execution_count": 28,
     "metadata": {},
     "output_type": "execute_result"
    }
   ],
   "source": [
    "df_course.drop(['local_start_time', 'local_end_time'], axis=1, inplace=True)\n",
    "gc.collect()"
   ]
  },
  {
   "cell_type": "code",
   "execution_count": 29,
   "metadata": {
    "ExecuteTime": {
     "end_time": "2020-09-01T01:19:18.292332Z",
     "start_time": "2020-09-01T01:19:18.287343Z"
    }
   },
   "outputs": [
    {
     "data": {
      "text/plain": [
       "Index(['item_id', 'course_id', 'local_end_time_year', 'local_end_time_month',\n",
       "       'local_end_time_day', 'local_end_time_hour', 'local_end_time_dow',\n",
       "       'local_start_time_year', 'local_start_time_month',\n",
       "       'local_start_time_day', 'local_start_time_hour', 'local_start_time_dow',\n",
       "       'video_cnt_sum', 'video_cnt_count', 'video_cnt_mean', 'video_cnt_max',\n",
       "       'video_cnt_min', 'video_cnt_std', 'video_cnt_skew',\n",
       "       'watching_count_sum', 'watching_count_mean', 'watching_count_max',\n",
       "       'watching_count_min', 'watching_count_std', 'watching_count_skew',\n",
       "       'video_duration_sum', 'video_duration_mean', 'video_duration_max',\n",
       "       'video_duration_min', 'video_duration_std', 'video_duration_skew',\n",
       "       'local_watching_time_sum', 'local_watching_time_mean',\n",
       "       'local_watching_time_max', 'local_watching_time_min',\n",
       "       'local_watching_time_std', 'local_watching_time_skew',\n",
       "       'video_progress_time_sum', 'video_progress_time_mean',\n",
       "       'video_progress_time_max', 'video_progress_time_min',\n",
       "       'video_progress_time_std', 'video_progress_time_skew',\n",
       "       'video_watching_duration_sum', 'video_watching_duration_mean',\n",
       "       'video_watching_duration_max', 'video_watching_duration_min',\n",
       "       'video_watching_duration_std', 'video_watching_duration_skew',\n",
       "       'local_watching_duration_sum', 'local_watching_duration_mean',\n",
       "       'local_watching_duration_max', 'local_watching_duration_min',\n",
       "       'local_watching_duration_std', 'local_watching_duration_skew',\n",
       "       'video_is_end_sum', 'video_is_end_mean', 'video_is_end_max',\n",
       "       'video_is_end_min', 'video_is_end_std', 'video_is_end_skew',\n",
       "       'video_is_start_sum', 'video_is_start_mean', 'video_is_start_max',\n",
       "       'video_is_start_min', 'video_is_start_std', 'video_is_start_skew',\n",
       "       'video_is_start_end_sum', 'video_is_start_end_mean',\n",
       "       'video_is_start_end_max', 'video_is_start_end_min',\n",
       "       'video_is_start_end_std', 'video_is_start_end_skew',\n",
       "       'forward_seconds_sum', 'forward_seconds_mean', 'forward_seconds_max',\n",
       "       'forward_seconds_min', 'forward_seconds_std', 'forward_seconds_skew',\n",
       "       'local_watching_diff_sum', 'local_watching_diff_mean',\n",
       "       'local_watching_diff_max', 'local_watching_diff_min',\n",
       "       'local_watching_diff_std', 'local_watching_diff_skew', 'speed_sum',\n",
       "       'speed_mean', 'speed_max', 'speed_min', 'speed_std', 'speed_skew',\n",
       "       'local_watching_duration', 'local_watching_diff',\n",
       "       'local_watching_video_duration'],\n",
       "      dtype='object')"
      ]
     },
     "execution_count": 29,
     "metadata": {},
     "output_type": "execute_result"
    }
   ],
   "source": [
    "df_course.columns"
   ]
  },
  {
   "cell_type": "code",
   "execution_count": 30,
   "metadata": {
    "ExecuteTime": {
     "end_time": "2020-09-01T01:19:20.083576Z",
     "start_time": "2020-09-01T01:19:18.293328Z"
    }
   },
   "outputs": [
    {
     "data": {
      "text/plain": [
       "0"
      ]
     },
     "execution_count": 30,
     "metadata": {},
     "output_type": "execute_result"
    }
   ],
   "source": [
    "train_label = pd.read_hdf('../input//train_label.h5')\n",
    "\n",
    "df_course = df_course.merge(train_label, on=uid2, how='left')\n",
    "gc.collect()"
   ]
  },
  {
   "cell_type": "code",
   "execution_count": 31,
   "metadata": {
    "ExecuteTime": {
     "end_time": "2020-09-01T01:19:20.388529Z",
     "start_time": "2020-09-01T01:19:20.084575Z"
    }
   },
   "outputs": [
    {
     "data": {
      "text/plain": [
       "((227934, 95), (20023, 95))"
      ]
     },
     "execution_count": 31,
     "metadata": {},
     "output_type": "execute_result"
    }
   ],
   "source": [
    "train = df_course.loc[df_course['label'].notnull(), :]\n",
    "test = df_course.loc[df_course['label'].isnull(), :]\n",
    "train.shape, test.shape"
   ]
  },
  {
   "cell_type": "code",
   "execution_count": 32,
   "metadata": {
    "ExecuteTime": {
     "end_time": "2020-09-01T01:19:20.487399Z",
     "start_time": "2020-09-01T01:19:20.389490Z"
    }
   },
   "outputs": [
    {
     "data": {
      "text/plain": [
       "(227934, 93)"
      ]
     },
     "execution_count": 32,
     "metadata": {},
     "output_type": "execute_result"
    }
   ],
   "source": [
    "train.drop(['item_id', 'course_id'], axis=1, inplace=True)\n",
    "train.shape"
   ]
  },
  {
   "cell_type": "code",
   "execution_count": 33,
   "metadata": {
    "ExecuteTime": {
     "end_time": "2020-09-01T01:19:20.505315Z",
     "start_time": "2020-09-01T01:19:20.488394Z"
    }
   },
   "outputs": [
    {
     "data": {
      "text/plain": [
       "(20023, 92)"
      ]
     },
     "execution_count": 33,
     "metadata": {},
     "output_type": "execute_result"
    }
   ],
   "source": [
    "submit = test[['item_id', 'course_id']]\n",
    "test.drop(['item_id', 'course_id', 'label'], axis=1, inplace=True)\n",
    "test.shape"
   ]
  },
  {
   "cell_type": "code",
   "execution_count": 34,
   "metadata": {
    "ExecuteTime": {
     "end_time": "2020-09-01T01:19:20.600099Z",
     "start_time": "2020-09-01T01:19:20.506312Z"
    }
   },
   "outputs": [
    {
     "data": {
      "text/plain": [
       "(227934, 92)"
      ]
     },
     "execution_count": 34,
     "metadata": {},
     "output_type": "execute_result"
    }
   ],
   "source": [
    "y = train['label']\n",
    "train.drop('label', axis=1, inplace=True)\n",
    "train.shape"
   ]
  },
  {
   "cell_type": "code",
   "execution_count": 35,
   "metadata": {
    "ExecuteTime": {
     "end_time": "2020-09-01T01:19:20.874300Z",
     "start_time": "2020-09-01T01:19:20.601059Z"
    }
   },
   "outputs": [],
   "source": [
    "X_train, X_valid, y_train, y_valid = train_test_split(train, y, stratify=y, random_state=2020, shuffle=True)"
   ]
  },
  {
   "cell_type": "code",
   "execution_count": 36,
   "metadata": {
    "ExecuteTime": {
     "end_time": "2020-09-01T01:19:20.884231Z",
     "start_time": "2020-09-01T01:19:20.877215Z"
    }
   },
   "outputs": [],
   "source": [
    "lgb_train = lgb.Dataset(X_train, label=y_train)\n",
    "lgb_valid = lgb.Dataset(X_valid, label=y_valid, reference=lgb_train)\n",
    "lgb_all = lgb.Dataset(train, y, reference=lgb_train)"
   ]
  },
  {
   "cell_type": "code",
   "execution_count": 37,
   "metadata": {
    "ExecuteTime": {
     "end_time": "2020-09-01T01:19:20.899374Z",
     "start_time": "2020-09-01T01:19:20.885815Z"
    }
   },
   "outputs": [],
   "source": [
    "params = {\n",
    "    'objective': 'binary',\n",
    "    'boosting': 'gbdt',\n",
    "    'metric': 'binary_error',\n",
    "    'learning_rate': 0.1,\n",
    "    'num_leaves': 31,\n",
    "    'lambda_l1': 0,\n",
    "    'lambda_l2': 1,\n",
    "    'min_data_in_leaf': 20,\n",
    "    'is_unbalance': True,\n",
    "    'max_depth': -1,\n",
    "    'seed': 2020\n",
    "}"
   ]
  },
  {
   "cell_type": "code",
   "execution_count": 38,
   "metadata": {
    "ExecuteTime": {
     "end_time": "2020-09-01T01:19:20.911371Z",
     "start_time": "2020-09-01T01:19:20.900382Z"
    }
   },
   "outputs": [
    {
     "data": {
      "text/plain": [
       "Index(['local_end_time_year', 'local_end_time_month', 'local_end_time_day',\n",
       "       'local_end_time_hour', 'local_end_time_dow', 'local_start_time_year',\n",
       "       'local_start_time_month', 'local_start_time_day',\n",
       "       'local_start_time_hour', 'local_start_time_dow', 'video_cnt_sum',\n",
       "       'video_cnt_count', 'video_cnt_mean', 'video_cnt_max', 'video_cnt_min',\n",
       "       'video_cnt_std', 'video_cnt_skew', 'watching_count_sum',\n",
       "       'watching_count_mean', 'watching_count_max', 'watching_count_min',\n",
       "       'watching_count_std', 'watching_count_skew', 'video_duration_sum',\n",
       "       'video_duration_mean', 'video_duration_max', 'video_duration_min',\n",
       "       'video_duration_std', 'video_duration_skew', 'local_watching_time_sum',\n",
       "       'local_watching_time_mean', 'local_watching_time_max',\n",
       "       'local_watching_time_min', 'local_watching_time_std',\n",
       "       'local_watching_time_skew', 'video_progress_time_sum',\n",
       "       'video_progress_time_mean', 'video_progress_time_max',\n",
       "       'video_progress_time_min', 'video_progress_time_std',\n",
       "       'video_progress_time_skew', 'video_watching_duration_sum',\n",
       "       'video_watching_duration_mean', 'video_watching_duration_max',\n",
       "       'video_watching_duration_min', 'video_watching_duration_std',\n",
       "       'video_watching_duration_skew', 'local_watching_duration_sum',\n",
       "       'local_watching_duration_mean', 'local_watching_duration_max',\n",
       "       'local_watching_duration_min', 'local_watching_duration_std',\n",
       "       'local_watching_duration_skew', 'video_is_end_sum', 'video_is_end_mean',\n",
       "       'video_is_end_max', 'video_is_end_min', 'video_is_end_std',\n",
       "       'video_is_end_skew', 'video_is_start_sum', 'video_is_start_mean',\n",
       "       'video_is_start_max', 'video_is_start_min', 'video_is_start_std',\n",
       "       'video_is_start_skew', 'video_is_start_end_sum',\n",
       "       'video_is_start_end_mean', 'video_is_start_end_max',\n",
       "       'video_is_start_end_min', 'video_is_start_end_std',\n",
       "       'video_is_start_end_skew', 'forward_seconds_sum',\n",
       "       'forward_seconds_mean', 'forward_seconds_max', 'forward_seconds_min',\n",
       "       'forward_seconds_std', 'forward_seconds_skew',\n",
       "       'local_watching_diff_sum', 'local_watching_diff_mean',\n",
       "       'local_watching_diff_max', 'local_watching_diff_min',\n",
       "       'local_watching_diff_std', 'local_watching_diff_skew', 'speed_sum',\n",
       "       'speed_mean', 'speed_max', 'speed_min', 'speed_std', 'speed_skew',\n",
       "       'local_watching_duration', 'local_watching_diff',\n",
       "       'local_watching_video_duration'],\n",
       "      dtype='object')"
      ]
     },
     "execution_count": 38,
     "metadata": {},
     "output_type": "execute_result"
    }
   ],
   "source": [
    "X_train.columns"
   ]
  },
  {
   "cell_type": "code",
   "execution_count": 39,
   "metadata": {
    "ExecuteTime": {
     "end_time": "2020-09-01T01:22:49.605789Z",
     "start_time": "2020-09-01T01:19:20.912338Z"
    }
   },
   "outputs": [
    {
     "name": "stdout",
     "output_type": "stream",
     "text": [
      "Training until validation scores don't improve for 500 rounds\n",
      "[500]\ttraining's binary_error: 0.17136\tvalid_1's binary_error: 0.207637\n",
      "[1000]\ttraining's binary_error: 0.130506\tvalid_1's binary_error: 0.198933\n",
      "[1500]\ttraining's binary_error: 0.101322\tvalid_1's binary_error: 0.193423\n",
      "[2000]\ttraining's binary_error: 0.0793799\tvalid_1's binary_error: 0.189053\n",
      "[2500]\ttraining's binary_error: 0.0621176\tvalid_1's binary_error: 0.186754\n",
      "[3000]\ttraining's binary_error: 0.0493361\tvalid_1's binary_error: 0.184561\n",
      "[3500]\ttraining's binary_error: 0.0391226\tvalid_1's binary_error: 0.182069\n",
      "[4000]\ttraining's binary_error: 0.0310851\tvalid_1's binary_error: 0.181103\n",
      "[4500]\ttraining's binary_error: 0.0254285\tvalid_1's binary_error: 0.179594\n",
      "[5000]\ttraining's binary_error: 0.0199357\tvalid_1's binary_error: 0.179243\n",
      "[5500]\ttraining's binary_error: 0.015449\tvalid_1's binary_error: 0.178348\n",
      "[6000]\ttraining's binary_error: 0.0123486\tvalid_1's binary_error: 0.178155\n",
      "[6500]\ttraining's binary_error: 0.00960515\tvalid_1's binary_error: 0.178103\n",
      "[7000]\ttraining's binary_error: 0.00678561\tvalid_1's binary_error: 0.177699\n",
      "Early stopping, best iteration is:\n",
      "[6646]\ttraining's binary_error: 0.00880959\tvalid_1's binary_error: 0.177102\n"
     ]
    }
   ],
   "source": [
    "lgb_model_valid = lgb.train(params,\n",
    "                            lgb_train,\n",
    "                            valid_sets=[lgb_train, lgb_valid],\n",
    "                            early_stopping_rounds=500,\n",
    "                            num_boost_round=100000,\n",
    "                            verbose_eval=500)"
   ]
  },
  {
   "cell_type": "code",
   "execution_count": 40,
   "metadata": {
    "ExecuteTime": {
     "end_time": "2020-09-01T01:22:56.395012Z",
     "start_time": "2020-09-01T01:22:49.608327Z"
    }
   },
   "outputs": [
    {
     "name": "stdout",
     "output_type": "stream",
     "text": [
      "acc:  0.8229\n",
      "auc:  0.8915\n"
     ]
    }
   ],
   "source": [
    "y_prob = lgb_model_valid.predict(X_valid)\n",
    "y_pred = np.where(y_prob > 0.5, 1, 0)\n",
    "\n",
    "acc = np.round(accuracy_score(y_valid, y_pred), 4)\n",
    "auc = np.round(roc_auc_score(y_valid, y_prob), 4)\n",
    "\n",
    "print('acc: ', acc)\n",
    "print('auc: ', auc)"
   ]
  },
  {
   "cell_type": "code",
   "execution_count": 41,
   "metadata": {
    "ExecuteTime": {
     "end_time": "2020-09-01T01:22:56.414958Z",
     "start_time": "2020-09-01T01:22:56.397007Z"
    }
   },
   "outputs": [],
   "source": [
    "importance = lgb_model_valid.feature_importance(importance_type='gain')\n",
    "feature_name = lgb_model_valid.feature_name()\n",
    "feature_importance = pd.DataFrame({'feature_name': feature_name, 'importance': importance}).sort_values(by='importance', ascending=False)\n",
    "feature_importance.to_csv('../input/feature_importance.csv', index=False)"
   ]
  },
  {
   "cell_type": "code",
   "execution_count": 42,
   "metadata": {
    "ExecuteTime": {
     "end_time": "2020-09-01T01:26:35.632672Z",
     "start_time": "2020-09-01T01:22:56.417950Z"
    }
   },
   "outputs": [],
   "source": [
    "lgb_model = lgb.train(params,\n",
    "                      lgb_all,\n",
    "                      num_boost_round=lgb_model_valid.best_iteration + 100)"
   ]
  },
  {
   "cell_type": "code",
   "execution_count": 43,
   "metadata": {
    "ExecuteTime": {
     "end_time": "2020-09-01T01:26:38.100987Z",
     "start_time": "2020-09-01T01:26:35.632672Z"
    }
   },
   "outputs": [],
   "source": [
    "submit['label'] = np.where(lgb_model.predict(test) > 0.5, 1, 0).astype(int)"
   ]
  },
  {
   "cell_type": "code",
   "execution_count": 44,
   "metadata": {
    "ExecuteTime": {
     "end_time": "2020-09-01T01:26:38.175497Z",
     "start_time": "2020-09-01T01:26:38.103506Z"
    }
   },
   "outputs": [
    {
     "data": {
      "text/html": [
       "<div>\n",
       "<style scoped>\n",
       "    .dataframe tbody tr th:only-of-type {\n",
       "        vertical-align: middle;\n",
       "    }\n",
       "\n",
       "    .dataframe tbody tr th {\n",
       "        vertical-align: top;\n",
       "    }\n",
       "\n",
       "    .dataframe thead th {\n",
       "        text-align: right;\n",
       "    }\n",
       "</style>\n",
       "<table border=\"1\" class=\"dataframe\">\n",
       "  <thead>\n",
       "    <tr style=\"text-align: right;\">\n",
       "      <th></th>\n",
       "      <th>item_id</th>\n",
       "      <th>course_id</th>\n",
       "      <th>label</th>\n",
       "    </tr>\n",
       "  </thead>\n",
       "  <tbody>\n",
       "    <tr>\n",
       "      <th>0</th>\n",
       "      <td>T_1</td>\n",
       "      <td>C_course-v1:TsinghuaX+00612642X+sp</td>\n",
       "      <td>0</td>\n",
       "    </tr>\n",
       "    <tr>\n",
       "      <th>1</th>\n",
       "      <td>T_1</td>\n",
       "      <td>C_course-v1:TsinghuaX+80000271X+sp</td>\n",
       "      <td>0</td>\n",
       "    </tr>\n",
       "    <tr>\n",
       "      <th>2</th>\n",
       "      <td>T_1</td>\n",
       "      <td>C_course-v1:TsinghuaX+00701032X+sp</td>\n",
       "      <td>0</td>\n",
       "    </tr>\n",
       "    <tr>\n",
       "      <th>3</th>\n",
       "      <td>T_1</td>\n",
       "      <td>C_course-v1:TsinghuaX+80000901X_1+sp</td>\n",
       "      <td>0</td>\n",
       "    </tr>\n",
       "    <tr>\n",
       "      <th>4</th>\n",
       "      <td>T_2</td>\n",
       "      <td>C_course-v1:GZHU+136300904+sp</td>\n",
       "      <td>0</td>\n",
       "    </tr>\n",
       "  </tbody>\n",
       "</table>\n",
       "</div>"
      ],
      "text/plain": [
       "  item_id                             course_id  label\n",
       "0     T_1    C_course-v1:TsinghuaX+00612642X+sp      0\n",
       "1     T_1    C_course-v1:TsinghuaX+80000271X+sp      0\n",
       "2     T_1    C_course-v1:TsinghuaX+00701032X+sp      0\n",
       "3     T_1  C_course-v1:TsinghuaX+80000901X_1+sp      0\n",
       "4     T_2         C_course-v1:GZHU+136300904+sp      0"
      ]
     },
     "execution_count": 44,
     "metadata": {},
     "output_type": "execute_result"
    }
   ],
   "source": [
    "test_label = pd.read_hdf('../input/test_label.h5')\n",
    "test_label = test_label.merge(submit, how='left', on=['item_id', 'course_id'])\n",
    "test_label.head()"
   ]
  },
  {
   "cell_type": "code",
   "execution_count": 45,
   "metadata": {
    "ExecuteTime": {
     "end_time": "2020-09-01T01:26:38.513819Z",
     "start_time": "2020-09-01T01:26:38.176494Z"
    }
   },
   "outputs": [],
   "source": [
    "def fun1(dx):\n",
    "    return list(dx.values)\n",
    "\n",
    "sub = test_label.groupby('item_id')['label'].apply(fun1).reset_index()\n",
    "sub.columns = ['item_id', 'label_list']\n",
    "sub = sub[['label_list', 'item_id']]\n",
    "\n",
    "sub.to_json('../sub/sub_{}_{}.json'.format(time.strftime('%Y%m%d'), str(acc)), orient='records', lines=True)"
   ]
  }
 ],
 "metadata": {
  "kernelspec": {
   "display_name": "Python 3",
   "language": "python",
   "name": "python3"
  },
  "language_info": {
   "codemirror_mode": {
    "name": "ipython",
    "version": 3
   },
   "file_extension": ".py",
   "mimetype": "text/x-python",
   "name": "python",
   "nbconvert_exporter": "python",
   "pygments_lexer": "ipython3",
   "version": "3.7.3"
  },
  "toc": {
   "base_numbering": 1,
   "nav_menu": {},
   "number_sections": true,
   "sideBar": true,
   "skip_h1_title": false,
   "title_cell": "Table of Contents",
   "title_sidebar": "Contents",
   "toc_cell": false,
   "toc_position": {},
   "toc_section_display": true,
   "toc_window_display": false
  },
  "varInspector": {
   "cols": {
    "lenName": 16,
    "lenType": 16,
    "lenVar": 40
   },
   "kernels_config": {
    "python": {
     "delete_cmd_postfix": "",
     "delete_cmd_prefix": "del ",
     "library": "var_list.py",
     "varRefreshCmd": "print(var_dic_list())"
    },
    "r": {
     "delete_cmd_postfix": ") ",
     "delete_cmd_prefix": "rm(",
     "library": "var_list.r",
     "varRefreshCmd": "cat(var_dic_list()) "
    }
   },
   "types_to_exclude": [
    "module",
    "function",
    "builtin_function_or_method",
    "instance",
    "_Feature"
   ],
   "window_display": false
  }
 },
 "nbformat": 4,
 "nbformat_minor": 4
}
