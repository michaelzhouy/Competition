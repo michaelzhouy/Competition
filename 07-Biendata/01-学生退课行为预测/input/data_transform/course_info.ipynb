{
 "cells": [
  {
   "cell_type": "code",
   "execution_count": 1,
   "metadata": {
    "ExecuteTime": {
     "end_time": "2020-08-27T12:46:18.015981Z",
     "start_time": "2020-08-27T12:46:17.672219Z"
    }
   },
   "outputs": [],
   "source": [
    "import pandas as pd\n",
    "import gc\n",
    "pd.set_option('max_columns', None)\n",
    "pd.set_option('max_rows', None)"
   ]
  },
  {
   "cell_type": "code",
   "execution_count": 2,
   "metadata": {
    "ExecuteTime": {
     "end_time": "2020-08-27T12:46:18.054931Z",
     "start_time": "2020-08-27T12:46:18.016913Z"
    }
   },
   "outputs": [
    {
     "data": {
      "text/html": [
       "<div>\n",
       "<style scoped>\n",
       "    .dataframe tbody tr th:only-of-type {\n",
       "        vertical-align: middle;\n",
       "    }\n",
       "\n",
       "    .dataframe tbody tr th {\n",
       "        vertical-align: top;\n",
       "    }\n",
       "\n",
       "    .dataframe thead th {\n",
       "        text-align: right;\n",
       "    }\n",
       "</style>\n",
       "<table border=\"1\" class=\"dataframe\">\n",
       "  <thead>\n",
       "    <tr style=\"text-align: right;\">\n",
       "      <th></th>\n",
       "      <th>item</th>\n",
       "      <th>course_id</th>\n",
       "    </tr>\n",
       "  </thead>\n",
       "  <tbody>\n",
       "    <tr>\n",
       "      <th>0</th>\n",
       "      <td>[V_f6f710068b994452885b90e11b6ee5c5, V_7339568...</td>\n",
       "      <td>C_course-v1:McGillX+ATOC185x+2015_T1</td>\n",
       "    </tr>\n",
       "    <tr>\n",
       "      <th>1</th>\n",
       "      <td>[V_de0371575a9f4b5391c89ad16d68b5c2, V_d632034...</td>\n",
       "      <td>C_course-v1:TsinghuaX+THESIS2015X+2015_T1</td>\n",
       "    </tr>\n",
       "    <tr>\n",
       "      <th>2</th>\n",
       "      <td>[V_d530be9cc0584317a16706684577a6dd, V_f329a62...</td>\n",
       "      <td>C_course-v1:TsinghuaX+THESIS2014_1X_tv+_2014_</td>\n",
       "    </tr>\n",
       "    <tr>\n",
       "      <th>3</th>\n",
       "      <td>[V_de0371575a9f4b5391c89ad16d68b5c2, V_78a8b41...</td>\n",
       "      <td>C_course-v1:TsinghuaX+THESIS2015X_tv+2015_T1</td>\n",
       "    </tr>\n",
       "    <tr>\n",
       "      <th>4</th>\n",
       "      <td>[V_d7dbd0fe8f504e7a91d863cd5a19b185, V_4492eca...</td>\n",
       "      <td>C_course-v1:TsinghuaX+00690242+sp</td>\n",
       "    </tr>\n",
       "  </tbody>\n",
       "</table>\n",
       "</div>"
      ],
      "text/plain": [
       "                                                item  \\\n",
       "0  [V_f6f710068b994452885b90e11b6ee5c5, V_7339568...   \n",
       "1  [V_de0371575a9f4b5391c89ad16d68b5c2, V_d632034...   \n",
       "2  [V_d530be9cc0584317a16706684577a6dd, V_f329a62...   \n",
       "3  [V_de0371575a9f4b5391c89ad16d68b5c2, V_78a8b41...   \n",
       "4  [V_d7dbd0fe8f504e7a91d863cd5a19b185, V_4492eca...   \n",
       "\n",
       "                                       course_id  \n",
       "0           C_course-v1:McGillX+ATOC185x+2015_T1  \n",
       "1      C_course-v1:TsinghuaX+THESIS2015X+2015_T1  \n",
       "2  C_course-v1:TsinghuaX+THESIS2014_1X_tv+_2014_  \n",
       "3   C_course-v1:TsinghuaX+THESIS2015X_tv+2015_T1  \n",
       "4              C_course-v1:TsinghuaX+00690242+sp  "
      ]
     },
     "execution_count": 2,
     "metadata": {},
     "output_type": "execute_result"
    }
   ],
   "source": [
    "df = pd.read_json('../Track1/course_info.json', lines=True)\n",
    "df.head()"
   ]
  },
  {
   "cell_type": "code",
   "execution_count": 3,
   "metadata": {
    "ExecuteTime": {
     "end_time": "2020-08-27T12:46:18.465009Z",
     "start_time": "2020-08-27T12:46:18.055898Z"
    }
   },
   "outputs": [
    {
     "name": "stdout",
     "output_type": "stream",
     "text": [
      "(46782, 2)\n"
     ]
    },
    {
     "data": {
      "text/html": [
       "<div>\n",
       "<style scoped>\n",
       "    .dataframe tbody tr th:only-of-type {\n",
       "        vertical-align: middle;\n",
       "    }\n",
       "\n",
       "    .dataframe tbody tr th {\n",
       "        vertical-align: top;\n",
       "    }\n",
       "\n",
       "    .dataframe thead th {\n",
       "        text-align: right;\n",
       "    }\n",
       "</style>\n",
       "<table border=\"1\" class=\"dataframe\">\n",
       "  <thead>\n",
       "    <tr style=\"text-align: right;\">\n",
       "      <th></th>\n",
       "      <th>course_id</th>\n",
       "      <th>video_id</th>\n",
       "    </tr>\n",
       "  </thead>\n",
       "  <tbody>\n",
       "    <tr>\n",
       "      <th>0</th>\n",
       "      <td>C_course-v1:McGillX+ATOC185x+2015_T1</td>\n",
       "      <td>V_f6f710068b994452885b90e11b6ee5c5</td>\n",
       "    </tr>\n",
       "    <tr>\n",
       "      <th>1</th>\n",
       "      <td>C_course-v1:McGillX+ATOC185x+2015_T1</td>\n",
       "      <td>V_73395684a8e24e2ea378b926214335ea</td>\n",
       "    </tr>\n",
       "    <tr>\n",
       "      <th>2</th>\n",
       "      <td>C_course-v1:McGillX+ATOC185x+2015_T1</td>\n",
       "      <td>V_8bc91d3fc5914379ae31723cdc0de9f1</td>\n",
       "    </tr>\n",
       "    <tr>\n",
       "      <th>3</th>\n",
       "      <td>C_course-v1:McGillX+ATOC185x+2015_T1</td>\n",
       "      <td>V_8aef0ca48efc445c9edf545114ba22a9</td>\n",
       "    </tr>\n",
       "    <tr>\n",
       "      <th>4</th>\n",
       "      <td>C_course-v1:McGillX+ATOC185x+2015_T1</td>\n",
       "      <td>V_ae9b4e594d4347a4b3da95dc1851eac3</td>\n",
       "    </tr>\n",
       "  </tbody>\n",
       "</table>\n",
       "</div>"
      ],
      "text/plain": [
       "                              course_id                            video_id\n",
       "0  C_course-v1:McGillX+ATOC185x+2015_T1  V_f6f710068b994452885b90e11b6ee5c5\n",
       "1  C_course-v1:McGillX+ATOC185x+2015_T1  V_73395684a8e24e2ea378b926214335ea\n",
       "2  C_course-v1:McGillX+ATOC185x+2015_T1  V_8bc91d3fc5914379ae31723cdc0de9f1\n",
       "3  C_course-v1:McGillX+ATOC185x+2015_T1  V_8aef0ca48efc445c9edf545114ba22a9\n",
       "4  C_course-v1:McGillX+ATOC185x+2015_T1  V_ae9b4e594d4347a4b3da95dc1851eac3"
      ]
     },
     "execution_count": 3,
     "metadata": {},
     "output_type": "execute_result"
    }
   ],
   "source": [
    "def course_process(s):\n",
    "    course_id = s['course_id']\n",
    "    video_id = s['item']\n",
    "    \n",
    "    frame = pd.DataFrame({\n",
    "        'course_id': course_id,\n",
    "        'video_id': video_id\n",
    "    })\n",
    "    return frame\n",
    "\n",
    "tmp_df = df.apply(course_process, axis=1)\n",
    "course_info = pd.concat([i for i in tmp_df], ignore_index=False)\n",
    "print(course_info.shape)\n",
    "course_info.head()"
   ]
  },
  {
   "cell_type": "code",
   "execution_count": 4,
   "metadata": {
    "ExecuteTime": {
     "end_time": "2020-08-27T12:46:18.973883Z",
     "start_time": "2020-08-27T12:46:18.465967Z"
    }
   },
   "outputs": [],
   "source": [
    "course_info.to_hdf('../course_info.h5', 'df', index=False)"
   ]
  }
 ],
 "metadata": {
  "kernelspec": {
   "display_name": "Python 3",
   "language": "python",
   "name": "python3"
  },
  "language_info": {
   "codemirror_mode": {
    "name": "ipython",
    "version": 3
   },
   "file_extension": ".py",
   "mimetype": "text/x-python",
   "name": "python",
   "nbconvert_exporter": "python",
   "pygments_lexer": "ipython3",
   "version": "3.7.3"
  },
  "toc": {
   "base_numbering": 1,
   "nav_menu": {},
   "number_sections": true,
   "sideBar": true,
   "skip_h1_title": false,
   "title_cell": "Table of Contents",
   "title_sidebar": "Contents",
   "toc_cell": false,
   "toc_position": {},
   "toc_section_display": true,
   "toc_window_display": false
  },
  "varInspector": {
   "cols": {
    "lenName": 16,
    "lenType": 16,
    "lenVar": 40
   },
   "kernels_config": {
    "python": {
     "delete_cmd_postfix": "",
     "delete_cmd_prefix": "del ",
     "library": "var_list.py",
     "varRefreshCmd": "print(var_dic_list())"
    },
    "r": {
     "delete_cmd_postfix": ") ",
     "delete_cmd_prefix": "rm(",
     "library": "var_list.r",
     "varRefreshCmd": "cat(var_dic_list()) "
    }
   },
   "types_to_exclude": [
    "module",
    "function",
    "builtin_function_or_method",
    "instance",
    "_Feature"
   ],
   "window_display": false
  }
 },
 "nbformat": 4,
 "nbformat_minor": 4
}
