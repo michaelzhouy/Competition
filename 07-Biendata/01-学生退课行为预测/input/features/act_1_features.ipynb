{
 "cells": [
  {
   "cell_type": "code",
   "execution_count": 1,
   "metadata": {
    "ExecuteTime": {
     "end_time": "2020-08-25T05:51:32.695099Z",
     "start_time": "2020-08-25T05:51:31.667736Z"
    }
   },
   "outputs": [],
   "source": [
    "import numpy as np\n",
    "import pandas as pd\n",
    "import matplotlib.pyplot as plt\n",
    "import seaborn as sns\n",
    "import gc\n",
    "import warnings\n",
    "\n",
    "warnings.filterwarnings('ignore')\n",
    "warnings.simplefilter(action='ignore', category=FutureWarning)\n",
    "pd.set_option('max_columns', None)\n",
    "pd.set_option('max_rows', None)"
   ]
  },
  {
   "cell_type": "code",
   "execution_count": 2,
   "metadata": {
    "ExecuteTime": {
     "end_time": "2020-08-25T05:51:37.285989Z",
     "start_time": "2020-08-25T05:51:32.697022Z"
    }
   },
   "outputs": [
    {
     "data": {
      "text/html": [
       "<div>\n",
       "<style scoped>\n",
       "    .dataframe tbody tr th:only-of-type {\n",
       "        vertical-align: middle;\n",
       "    }\n",
       "\n",
       "    .dataframe tbody tr th {\n",
       "        vertical-align: top;\n",
       "    }\n",
       "\n",
       "    .dataframe thead th {\n",
       "        text-align: right;\n",
       "    }\n",
       "</style>\n",
       "<table border=\"1\" class=\"dataframe\">\n",
       "  <thead>\n",
       "    <tr style=\"text-align: right;\">\n",
       "      <th></th>\n",
       "      <th>item_id</th>\n",
       "      <th>course_id</th>\n",
       "      <th>video_id</th>\n",
       "      <th>watching_count</th>\n",
       "      <th>video_duration</th>\n",
       "      <th>local_watching_time</th>\n",
       "      <th>video_progress_time</th>\n",
       "      <th>video_start_time</th>\n",
       "      <th>video_end_time</th>\n",
       "      <th>local_start_time</th>\n",
       "      <th>local_end_time</th>\n",
       "    </tr>\n",
       "  </thead>\n",
       "  <tbody>\n",
       "    <tr>\n",
       "      <th>0</th>\n",
       "      <td>V_0</td>\n",
       "      <td>C_course-v1:TsinghuaX+30240184+sp</td>\n",
       "      <td>V_102d2536030d47b4b343c3848f6f50b6</td>\n",
       "      <td>1</td>\n",
       "      <td>233.0</td>\n",
       "      <td>186</td>\n",
       "      <td>233.000000</td>\n",
       "      <td>0.00</td>\n",
       "      <td>233.000000</td>\n",
       "      <td>2019-04-04 21:13:20</td>\n",
       "      <td>2019-04-04 21:16:26</td>\n",
       "    </tr>\n",
       "    <tr>\n",
       "      <th>1</th>\n",
       "      <td>V_0</td>\n",
       "      <td>C_course-v1:TsinghuaX+30240184+sp</td>\n",
       "      <td>V_4be5b36da31d4d15bc4afdd5a5cc1658</td>\n",
       "      <td>1</td>\n",
       "      <td>288.0</td>\n",
       "      <td>236</td>\n",
       "      <td>287.280000</td>\n",
       "      <td>0.72</td>\n",
       "      <td>288.000000</td>\n",
       "      <td>2019-04-04 21:20:35</td>\n",
       "      <td>2019-04-04 21:24:31</td>\n",
       "    </tr>\n",
       "    <tr>\n",
       "      <th>2</th>\n",
       "      <td>V_0</td>\n",
       "      <td>C_course-v1:TsinghuaX+00310222X+sp</td>\n",
       "      <td>V_4c914a96924c4ba2b6ecaa4f58336892</td>\n",
       "      <td>1</td>\n",
       "      <td>767.0</td>\n",
       "      <td>774</td>\n",
       "      <td>767.000000</td>\n",
       "      <td>0.00</td>\n",
       "      <td>767.000000</td>\n",
       "      <td>2016-11-28 19:05:59</td>\n",
       "      <td>2016-11-28 19:18:53</td>\n",
       "    </tr>\n",
       "    <tr>\n",
       "      <th>3</th>\n",
       "      <td>V_0</td>\n",
       "      <td>C_course-v1:TsinghuaX+30240184+sp</td>\n",
       "      <td>V_4f184a3de72d418caccbd3fa8624d5b6</td>\n",
       "      <td>3</td>\n",
       "      <td>209.0</td>\n",
       "      <td>613</td>\n",
       "      <td>209.000000</td>\n",
       "      <td>0.00</td>\n",
       "      <td>209.000000</td>\n",
       "      <td>2019-04-04 20:58:06</td>\n",
       "      <td>2019-04-04 21:08:35</td>\n",
       "    </tr>\n",
       "    <tr>\n",
       "      <th>4</th>\n",
       "      <td>V_0</td>\n",
       "      <td>C_course-v1:TsinghuaX+00310222X+sp</td>\n",
       "      <td>V_75f9b0188a2648358a469aee137f07be</td>\n",
       "      <td>2</td>\n",
       "      <td>1132.0</td>\n",
       "      <td>105</td>\n",
       "      <td>104.230011</td>\n",
       "      <td>0.00</td>\n",
       "      <td>231.550003</td>\n",
       "      <td>2016-12-02 09:49:02</td>\n",
       "      <td>2016-12-02 09:50:47</td>\n",
       "    </tr>\n",
       "  </tbody>\n",
       "</table>\n",
       "</div>"
      ],
      "text/plain": [
       "  item_id                           course_id  \\\n",
       "0     V_0   C_course-v1:TsinghuaX+30240184+sp   \n",
       "1     V_0   C_course-v1:TsinghuaX+30240184+sp   \n",
       "2     V_0  C_course-v1:TsinghuaX+00310222X+sp   \n",
       "3     V_0   C_course-v1:TsinghuaX+30240184+sp   \n",
       "4     V_0  C_course-v1:TsinghuaX+00310222X+sp   \n",
       "\n",
       "                             video_id  watching_count  video_duration  \\\n",
       "0  V_102d2536030d47b4b343c3848f6f50b6               1           233.0   \n",
       "1  V_4be5b36da31d4d15bc4afdd5a5cc1658               1           288.0   \n",
       "2  V_4c914a96924c4ba2b6ecaa4f58336892               1           767.0   \n",
       "3  V_4f184a3de72d418caccbd3fa8624d5b6               3           209.0   \n",
       "4  V_75f9b0188a2648358a469aee137f07be               2          1132.0   \n",
       "\n",
       "   local_watching_time  video_progress_time  video_start_time  video_end_time  \\\n",
       "0                  186           233.000000              0.00      233.000000   \n",
       "1                  236           287.280000              0.72      288.000000   \n",
       "2                  774           767.000000              0.00      767.000000   \n",
       "3                  613           209.000000              0.00      209.000000   \n",
       "4                  105           104.230011              0.00      231.550003   \n",
       "\n",
       "      local_start_time       local_end_time  \n",
       "0  2019-04-04 21:13:20  2019-04-04 21:16:26  \n",
       "1  2019-04-04 21:20:35  2019-04-04 21:24:31  \n",
       "2  2016-11-28 19:05:59  2016-11-28 19:18:53  \n",
       "3  2019-04-04 20:58:06  2019-04-04 21:08:35  \n",
       "4  2016-12-02 09:49:02  2016-12-02 09:50:47  "
      ]
     },
     "execution_count": 2,
     "metadata": {},
     "output_type": "execute_result"
    }
   ],
   "source": [
    "df = pd.read_hdf('../act_1_activity.h5')\n",
    "df.head()"
   ]
  },
  {
   "cell_type": "code",
   "execution_count": 3,
   "metadata": {
    "ExecuteTime": {
     "end_time": "2020-08-25T05:51:37.291001Z",
     "start_time": "2020-08-25T05:51:37.286987Z"
    }
   },
   "outputs": [
    {
     "data": {
      "text/plain": [
       "(2706682, 11)"
      ]
     },
     "execution_count": 3,
     "metadata": {},
     "output_type": "execute_result"
    }
   ],
   "source": [
    "df.shape"
   ]
  },
  {
   "cell_type": "code",
   "execution_count": 4,
   "metadata": {
    "ExecuteTime": {
     "end_time": "2020-08-25T05:51:38.768884Z",
     "start_time": "2020-08-25T05:51:37.292570Z"
    }
   },
   "outputs": [
    {
     "data": {
      "text/plain": [
       "(2695068, 11)"
      ]
     },
     "execution_count": 4,
     "metadata": {},
     "output_type": "execute_result"
    }
   ],
   "source": [
    "df.drop_duplicates(['item_id', 'course_id', 'video_id']).shape"
   ]
  },
  {
   "cell_type": "code",
   "execution_count": 5,
   "metadata": {
    "ExecuteTime": {
     "end_time": "2020-08-25T05:51:38.779921Z",
     "start_time": "2020-08-25T05:51:38.770846Z"
    }
   },
   "outputs": [
    {
     "name": "stdout",
     "output_type": "stream",
     "text": [
      "<class 'pandas.core.frame.DataFrame'>\n",
      "Int64Index: 2706682 entries, 0 to 31\n",
      "Data columns (total 11 columns):\n",
      " #   Column               Dtype  \n",
      "---  ------               -----  \n",
      " 0   item_id              object \n",
      " 1   course_id            object \n",
      " 2   video_id             object \n",
      " 3   watching_count       int64  \n",
      " 4   video_duration       float64\n",
      " 5   local_watching_time  int64  \n",
      " 6   video_progress_time  float64\n",
      " 7   video_start_time     float64\n",
      " 8   video_end_time       float64\n",
      " 9   local_start_time     object \n",
      " 10  local_end_time       object \n",
      "dtypes: float64(4), int64(2), object(5)\n",
      "memory usage: 247.8+ MB\n"
     ]
    }
   ],
   "source": [
    "df.info()"
   ]
  },
  {
   "cell_type": "code",
   "execution_count": 6,
   "metadata": {
    "ExecuteTime": {
     "end_time": "2020-08-25T05:51:42.221100Z",
     "start_time": "2020-08-25T05:51:38.780905Z"
    }
   },
   "outputs": [
    {
     "data": {
      "text/plain": [
       "0"
      ]
     },
     "execution_count": 6,
     "metadata": {},
     "output_type": "execute_result"
    }
   ],
   "source": [
    "df['local_start_time'] = pd.to_datetime(df['local_start_time'])\n",
    "df['local_end_time'] = pd.to_datetime(df['local_end_time'])\n",
    "gc.collect()"
   ]
  },
  {
   "cell_type": "code",
   "execution_count": 7,
   "metadata": {
    "ExecuteTime": {
     "end_time": "2020-08-25T05:51:42.227049Z",
     "start_time": "2020-08-25T05:51:42.223060Z"
    }
   },
   "outputs": [],
   "source": [
    "uid1 = ['item_id', 'course_id', 'video_id']\n",
    "uid2 = ['item_id', 'course_id']"
   ]
  },
  {
   "cell_type": "markdown",
   "metadata": {},
   "source": [
    "# video维度"
   ]
  },
  {
   "cell_type": "code",
   "execution_count": 8,
   "metadata": {
    "ExecuteTime": {
     "end_time": "2020-08-25T05:51:45.488043Z",
     "start_time": "2020-08-25T05:51:42.228563Z"
    }
   },
   "outputs": [
    {
     "data": {
      "text/plain": [
       "0"
      ]
     },
     "execution_count": 8,
     "metadata": {},
     "output_type": "execute_result"
    }
   ],
   "source": [
    "# video_start_time, video_end_time, local_start_time, local_end_time\n",
    "df_video = df.groupby(uid1, as_index=False).agg({\n",
    "    'watching_count': np.sum,\n",
    "    'video_duration': np.max,\n",
    "    'local_watching_time': np.sum,\n",
    "    'video_progress_time': np.sum,\n",
    "    'video_start_time': np.min,\n",
    "    'video_end_time': np.max,\n",
    "    'local_start_time': np.min,\n",
    "    'local_end_time': np.max\n",
    "})\n",
    "\n",
    "gc.collect()"
   ]
  },
  {
   "cell_type": "code",
   "execution_count": 9,
   "metadata": {
    "ExecuteTime": {
     "end_time": "2020-08-25T05:51:49.979022Z",
     "start_time": "2020-08-25T05:51:45.489040Z"
    }
   },
   "outputs": [
    {
     "data": {
      "text/plain": [
       "20"
      ]
     },
     "execution_count": 9,
     "metadata": {},
     "output_type": "execute_result"
    }
   ],
   "source": [
    "# 每个video观看次数\n",
    "tmp = df.groupby(uid1, as_index=False)['watching_count'].agg({\n",
    "    'video_cnt': 'count'\n",
    "})\n",
    "df_video = df_video.merge(tmp, on=uid1, how='left')\n",
    "\n",
    "del tmp\n",
    "gc.collect()"
   ]
  },
  {
   "cell_type": "code",
   "execution_count": 10,
   "metadata": {
    "ExecuteTime": {
     "end_time": "2020-08-25T05:53:54.702586Z",
     "start_time": "2020-08-25T05:51:49.980082Z"
    }
   },
   "outputs": [],
   "source": [
    "# 进度条最晚的时间点-进度条最早的时间点\n",
    "df_video['video_watching_duration'] = df_video['video_end_time'] - df_video['video_start_time']\n",
    "\n",
    "# 视频：观看结束时间-观看开始时间\n",
    "df_video['local_watching_duration'] = df_video.apply(lambda x: (x['local_end_time'] - x['local_start_time']).seconds, axis=1)"
   ]
  },
  {
   "cell_type": "code",
   "execution_count": 11,
   "metadata": {
    "ExecuteTime": {
     "end_time": "2020-08-25T05:53:55.778385Z",
     "start_time": "2020-08-25T05:53:54.703552Z"
    }
   },
   "outputs": [],
   "source": [
    "# 进度条是否读到最后，小于0\n",
    "df_video['video_is_end'] = df_video['video_end_time'] - df_video['video_duration']\n",
    "\n",
    "# 一开始是否拖到进度条\n",
    "df_video['video_is_start'] = df_video['video_start_time'].map(lambda x: 1 if x > 0 else 0)\n",
    "\n",
    "# 进度条是否从开始读到最后，小于0\n",
    "df_video['video_is_start_end'] = df_video['video_watching_duration'] - df_video['video_duration']\n",
    "\n",
    "# 进度条拖动的秒速 - 暂停时长\n",
    "df_video['forward_seconds'] = df_video['video_watching_duration'] - df_video['video_progress_time']\n",
    "\n",
    "# 暂停时长，\n",
    "# df[''] = df[''] - df['']\n",
    "\n",
    "# 实际观看时长是否有差误\n",
    "df_video['local_watching_diff'] = df_video['local_watching_duration'] - df_video['local_watching_time']\n",
    "\n",
    "# 倍速\n",
    "df_video['speed'] = df_video['local_watching_time'] / (df_video['video_progress_time'] + 0.001)"
   ]
  },
  {
   "cell_type": "code",
   "execution_count": 12,
   "metadata": {
    "ExecuteTime": {
     "end_time": "2020-08-25T05:53:55.784339Z",
     "start_time": "2020-08-25T05:53:55.779350Z"
    }
   },
   "outputs": [
    {
     "data": {
      "text/plain": [
       "Index(['item_id', 'course_id', 'video_id', 'watching_count', 'video_duration',\n",
       "       'local_watching_time', 'video_progress_time', 'video_start_time',\n",
       "       'video_end_time', 'local_start_time', 'local_end_time', 'video_cnt',\n",
       "       'video_watching_duration', 'local_watching_duration', 'video_is_end',\n",
       "       'video_is_start', 'video_is_start_end', 'forward_seconds',\n",
       "       'local_watching_diff', 'speed'],\n",
       "      dtype='object')"
      ]
     },
     "execution_count": 12,
     "metadata": {},
     "output_type": "execute_result"
    }
   ],
   "source": [
    "df_video.columns"
   ]
  },
  {
   "cell_type": "markdown",
   "metadata": {},
   "source": [
    "# course维度"
   ]
  },
  {
   "cell_type": "code",
   "execution_count": 13,
   "metadata": {
    "ExecuteTime": {
     "end_time": "2020-08-25T05:53:56.714665Z",
     "start_time": "2020-08-25T05:53:55.785336Z"
    }
   },
   "outputs": [
    {
     "data": {
      "text/plain": [
       "(187207, 4)"
      ]
     },
     "execution_count": 13,
     "metadata": {},
     "output_type": "execute_result"
    }
   ],
   "source": [
    "# video_start_time, video_end_time, local_start_time, local_end_time\n",
    "df_course = df_video.groupby(uid2, as_index=False).agg({\n",
    "    'local_start_time': np.min,\n",
    "    'local_end_time': np.max\n",
    "})\n",
    "\n",
    "df_course.shape"
   ]
  },
  {
   "cell_type": "code",
   "execution_count": 14,
   "metadata": {
    "ExecuteTime": {
     "end_time": "2020-08-25T05:53:56.719652Z",
     "start_time": "2020-08-25T05:53:56.715662Z"
    }
   },
   "outputs": [],
   "source": [
    "# ['item_id', 'course_id', 'video_id', 'watching_count', 'video_duration',\n",
    "#  'local_watching_time', 'video_progress_time', 'video_start_time',\n",
    "#  'video_end_time', 'local_start_time', 'local_end_time', 'video_cnt',\n",
    "#  'video_watching_duration', 'local_watching_duration', 'video_is_end',\n",
    "#  'video_is_start', 'video_is_start_end', 'forward_seconds',\n",
    "#  'local_watching_diff', 'speed']"
   ]
  },
  {
   "cell_type": "code",
   "execution_count": 15,
   "metadata": {
    "ExecuteTime": {
     "end_time": "2020-08-25T05:54:26.479458Z",
     "start_time": "2020-08-25T05:53:56.721654Z"
    }
   },
   "outputs": [
    {
     "data": {
      "text/plain": [
       "0"
      ]
     },
     "execution_count": 15,
     "metadata": {},
     "output_type": "execute_result"
    }
   ],
   "source": [
    "# watching_count\n",
    "tmp = df_video.groupby(uid2, as_index=False)['watching_count'].agg({\n",
    "    'watching_count_sum': 'sum',\n",
    "    'watching_count_count': 'count',\n",
    "    'watching_count_mean': 'mean',\n",
    "    'watching_count_max': 'max',\n",
    "    'watching_count_min': 'min',\n",
    "    'watching_count_std': 'std',\n",
    "    'watching_count_skew': 'skew'\n",
    "})\n",
    "df_course = df_course.merge(tmp, on=uid2, how='left')\n",
    "del tmp\n",
    "gc.collect()"
   ]
  },
  {
   "cell_type": "code",
   "execution_count": 16,
   "metadata": {
    "ExecuteTime": {
     "end_time": "2020-08-25T05:54:58.530384Z",
     "start_time": "2020-08-25T05:54:26.480415Z"
    }
   },
   "outputs": [
    {
     "data": {
      "text/plain": [
       "0"
      ]
     },
     "execution_count": 16,
     "metadata": {},
     "output_type": "execute_result"
    }
   ],
   "source": [
    "# video_duration\n",
    "tmp = df_video.groupby(uid2, as_index=False)['video_duration'].agg({\n",
    "    'video_duration_sum': 'sum',\n",
    "    'video_duration_count': 'count',\n",
    "    'video_duration_mean': 'mean',\n",
    "    'video_duration_max': 'max',\n",
    "    'video_duration_min': 'min',\n",
    "    'video_duration_std': 'std',\n",
    "    'video_duration_skew': 'skew'\n",
    "})\n",
    "df_course = df_course.merge(tmp, on=uid2, how='left')\n",
    "del tmp\n",
    "gc.collect()"
   ]
  },
  {
   "cell_type": "code",
   "execution_count": 17,
   "metadata": {
    "ExecuteTime": {
     "end_time": "2020-08-25T05:55:28.393793Z",
     "start_time": "2020-08-25T05:54:58.531400Z"
    }
   },
   "outputs": [
    {
     "data": {
      "text/plain": [
       "0"
      ]
     },
     "execution_count": 17,
     "metadata": {},
     "output_type": "execute_result"
    }
   ],
   "source": [
    "# local_watching_time\n",
    "tmp = df_video.groupby(uid2, as_index=False)['local_watching_time'].agg({\n",
    "    'local_watching_time_sum': 'sum',\n",
    "    'local_watching_time_count': 'count',\n",
    "    'local_watching_time_mean': 'mean',\n",
    "    'local_watching_time_max': 'max',\n",
    "    'local_watching_time_min': 'min',\n",
    "    'local_watching_time_std': 'std',\n",
    "    'local_watching_time_skew': 'skew'\n",
    "})\n",
    "df_course = df_course.merge(tmp, on=uid2, how='left')\n",
    "del tmp\n",
    "gc.collect()"
   ]
  },
  {
   "cell_type": "code",
   "execution_count": 18,
   "metadata": {
    "ExecuteTime": {
     "end_time": "2020-08-25T05:56:01.414707Z",
     "start_time": "2020-08-25T05:55:28.395788Z"
    }
   },
   "outputs": [
    {
     "data": {
      "text/plain": [
       "0"
      ]
     },
     "execution_count": 18,
     "metadata": {},
     "output_type": "execute_result"
    }
   ],
   "source": [
    "# video_progress_time\n",
    "tmp = df_video.groupby(uid2, as_index=False)['video_progress_time'].agg({\n",
    "    'video_progress_time_sum': 'sum',\n",
    "    'video_progress_time_count': 'count',\n",
    "    'video_progress_time_mean': 'mean',\n",
    "    'video_progress_time_max': 'max',\n",
    "    'video_progress_time_min': 'min',\n",
    "    'video_progress_time_std': 'std',\n",
    "    'video_progress_time_skew': 'skew'\n",
    "})\n",
    "df_course = df_course.merge(tmp, on=uid2, how='left')\n",
    "del tmp\n",
    "gc.collect()"
   ]
  },
  {
   "cell_type": "code",
   "execution_count": 19,
   "metadata": {
    "ExecuteTime": {
     "end_time": "2020-08-25T05:56:33.926838Z",
     "start_time": "2020-08-25T05:56:01.415705Z"
    }
   },
   "outputs": [
    {
     "data": {
      "text/plain": [
       "0"
      ]
     },
     "execution_count": 19,
     "metadata": {},
     "output_type": "execute_result"
    }
   ],
   "source": [
    "# video_watching_duration\n",
    "tmp = df_video.groupby(uid2, as_index=False)['video_watching_duration'].agg({\n",
    "    'video_watching_duration_sum': 'sum',\n",
    "    'video_watching_duration_count': 'count',\n",
    "    'video_watching_duration_mean': 'mean',\n",
    "    'video_watching_duration_max': 'max',\n",
    "    'video_watching_duration_min': 'min',\n",
    "    'video_watching_duration_std': 'std',\n",
    "    'video_watching_duration_skew': 'skew'\n",
    "})\n",
    "df_course = df_course.merge(tmp, on=uid2, how='left')\n",
    "del tmp\n",
    "gc.collect()"
   ]
  },
  {
   "cell_type": "code",
   "execution_count": 20,
   "metadata": {
    "ExecuteTime": {
     "end_time": "2020-08-25T05:57:05.199608Z",
     "start_time": "2020-08-25T05:56:33.928833Z"
    }
   },
   "outputs": [
    {
     "data": {
      "text/plain": [
       "0"
      ]
     },
     "execution_count": 20,
     "metadata": {},
     "output_type": "execute_result"
    }
   ],
   "source": [
    "# local_watching_duration\n",
    "tmp = df_video.groupby(uid2, as_index=False)['local_watching_duration'].agg({\n",
    "    'local_watching_duration_sum': 'sum',\n",
    "    'local_watching_duration_count': 'count',\n",
    "    'local_watching_duration_mean': 'mean',\n",
    "    'local_watching_duration_max': 'max',\n",
    "    'local_watching_duration_min': 'min',\n",
    "    'local_watching_duration_std': 'std',\n",
    "    'local_watching_duration_skew': 'skew'\n",
    "})\n",
    "df_course = df_course.merge(tmp, on=uid2, how='left')\n",
    "del tmp\n",
    "gc.collect()"
   ]
  },
  {
   "cell_type": "code",
   "execution_count": 21,
   "metadata": {
    "ExecuteTime": {
     "end_time": "2020-08-25T05:57:36.713972Z",
     "start_time": "2020-08-25T05:57:05.200566Z"
    }
   },
   "outputs": [
    {
     "data": {
      "text/plain": [
       "0"
      ]
     },
     "execution_count": 21,
     "metadata": {},
     "output_type": "execute_result"
    }
   ],
   "source": [
    "# video_is_end\n",
    "tmp = df_video.groupby(uid2, as_index=False)['video_is_end'].agg({\n",
    "    'video_is_end_sum': 'sum',\n",
    "    'video_is_end_count': 'count',\n",
    "    'video_is_end_mean': 'mean',\n",
    "    'video_is_end_max': 'max',\n",
    "    'video_is_end_min': 'min',\n",
    "    'video_is_end_std': 'std',\n",
    "    'video_is_end_skew': 'skew'\n",
    "})\n",
    "df_course = df_course.merge(tmp, on=uid2, how='left')\n",
    "del tmp\n",
    "gc.collect()"
   ]
  },
  {
   "cell_type": "code",
   "execution_count": 22,
   "metadata": {
    "ExecuteTime": {
     "end_time": "2020-08-25T05:58:07.874701Z",
     "start_time": "2020-08-25T05:57:36.716963Z"
    }
   },
   "outputs": [
    {
     "data": {
      "text/plain": [
       "0"
      ]
     },
     "execution_count": 22,
     "metadata": {},
     "output_type": "execute_result"
    }
   ],
   "source": [
    "# video_is_start\n",
    "tmp = df_video.groupby(uid2, as_index=False)['video_is_start'].agg({\n",
    "    'video_is_start_sum': 'sum',\n",
    "    'video_is_start_count': 'count',\n",
    "    'video_is_start_mean': 'mean',\n",
    "    'video_is_start_max': 'max',\n",
    "    'video_is_start_min': 'min',\n",
    "    'video_is_start_std': 'std',\n",
    "    'video_is_start_skew': 'skew'\n",
    "})\n",
    "df_course = df_course.merge(tmp, on=uid2, how='left')\n",
    "del tmp\n",
    "gc.collect()"
   ]
  },
  {
   "cell_type": "code",
   "execution_count": 23,
   "metadata": {
    "ExecuteTime": {
     "end_time": "2020-08-25T05:58:39.371105Z",
     "start_time": "2020-08-25T05:58:07.876695Z"
    }
   },
   "outputs": [
    {
     "data": {
      "text/plain": [
       "0"
      ]
     },
     "execution_count": 23,
     "metadata": {},
     "output_type": "execute_result"
    }
   ],
   "source": [
    "# video_is_start_end\n",
    "tmp = df_video.groupby(uid2, as_index=False)['video_is_start_end'].agg({\n",
    "    'video_is_start_end_sum': 'sum',\n",
    "    'video_is_start_end_count': 'count',\n",
    "    'video_is_start_end_mean': 'mean',\n",
    "    'video_is_start_end_max': 'max',\n",
    "    'video_is_start_end_min': 'min',\n",
    "    'video_is_start_end_std': 'std',\n",
    "    'video_is_start_end_skew': 'skew'\n",
    "})\n",
    "df_course = df_course.merge(tmp, on=uid2, how='left')\n",
    "del tmp\n",
    "gc.collect()"
   ]
  },
  {
   "cell_type": "code",
   "execution_count": 24,
   "metadata": {
    "ExecuteTime": {
     "end_time": "2020-08-25T05:59:11.725269Z",
     "start_time": "2020-08-25T05:58:39.372064Z"
    }
   },
   "outputs": [
    {
     "data": {
      "text/plain": [
       "0"
      ]
     },
     "execution_count": 24,
     "metadata": {},
     "output_type": "execute_result"
    }
   ],
   "source": [
    "# forward_seconds\n",
    "tmp = df_video.groupby(uid2, as_index=False)['forward_seconds'].agg({\n",
    "    'forward_seconds_sum': 'sum',\n",
    "    'forward_seconds_count': 'count',\n",
    "    'forward_seconds_mean': 'mean',\n",
    "    'forward_seconds_max': 'max',\n",
    "    'forward_seconds_min': 'min',\n",
    "    'forward_seconds_std': 'std',\n",
    "    'forward_seconds_skew': 'skew'\n",
    "})\n",
    "df_course = df_course.merge(tmp, on=uid2, how='left')\n",
    "del tmp\n",
    "gc.collect()"
   ]
  },
  {
   "cell_type": "code",
   "execution_count": 25,
   "metadata": {
    "ExecuteTime": {
     "end_time": "2020-08-25T05:59:42.571366Z",
     "start_time": "2020-08-25T05:59:11.726231Z"
    }
   },
   "outputs": [
    {
     "data": {
      "text/plain": [
       "0"
      ]
     },
     "execution_count": 25,
     "metadata": {},
     "output_type": "execute_result"
    }
   ],
   "source": [
    "# local_watching_diff\n",
    "tmp = df_video.groupby(uid2, as_index=False)['local_watching_diff'].agg({\n",
    "    'local_watching_diff_sum': 'sum',\n",
    "    'local_watching_diff_count': 'count',\n",
    "    'local_watching_diff_mean': 'mean',\n",
    "    'local_watching_diff_max': 'max',\n",
    "    'local_watching_diff_min': 'min',\n",
    "    'local_watching_diff_std': 'std',\n",
    "    'local_watching_diff_skew': 'skew'\n",
    "})\n",
    "df_course = df_course.merge(tmp, on=uid2, how='left')\n",
    "del tmp\n",
    "gc.collect()"
   ]
  },
  {
   "cell_type": "code",
   "execution_count": 26,
   "metadata": {
    "ExecuteTime": {
     "end_time": "2020-08-25T06:00:15.224910Z",
     "start_time": "2020-08-25T05:59:42.572340Z"
    }
   },
   "outputs": [
    {
     "data": {
      "text/plain": [
       "0"
      ]
     },
     "execution_count": 26,
     "metadata": {},
     "output_type": "execute_result"
    }
   ],
   "source": [
    "# speed\n",
    "tmp = df_video.groupby(uid2, as_index=False)['speed'].agg({\n",
    "    'speed_sum': 'sum',\n",
    "    'speed_count': 'count',\n",
    "    'speed_mean': 'mean',\n",
    "    'speed_max': 'max',\n",
    "    'speed_min': 'min',\n",
    "    'speed_std': 'std',\n",
    "    'speed_skew': 'skew'\n",
    "})\n",
    "df_course = df_course.merge(tmp, on=uid2, how='left')\n",
    "del tmp\n",
    "gc.collect()"
   ]
  },
  {
   "cell_type": "code",
   "execution_count": 27,
   "metadata": {
    "ExecuteTime": {
     "end_time": "2020-08-25T06:00:15.639085Z",
     "start_time": "2020-08-25T06:00:15.226544Z"
    }
   },
   "outputs": [
    {
     "data": {
      "text/plain": [
       "0"
      ]
     },
     "execution_count": 27,
     "metadata": {},
     "output_type": "execute_result"
    }
   ],
   "source": [
    "# 用户观看了多少个视频\n",
    "tmp = df_video.groupby('item_id', as_index=False)['course_id'].agg({\n",
    "    'course_id_count': 'count'\n",
    "})\n",
    "df_course = df_course.merge(tmp, on='item_id', how='left')\n",
    "del tmp\n",
    "gc.collect()"
   ]
  },
  {
   "cell_type": "code",
   "execution_count": 28,
   "metadata": {
    "ExecuteTime": {
     "end_time": "2020-08-25T06:00:24.788438Z",
     "start_time": "2020-08-25T06:00:15.640083Z"
    }
   },
   "outputs": [],
   "source": [
    "# 课程：观看结束时间-观看开始时间\n",
    "df_course['local_watching_duration'] = df_course.apply(lambda x: (x['local_end_time'] - x['local_start_time']).seconds, axis=1)\n",
    "\n",
    "df_course['local_watching_diff'] = df_course['local_watching_duration'] - df_course['local_watching_time_sum']\n",
    "\n",
    "df_course['local_watching_video_duration'] = df_course['local_watching_duration'] - df_course['video_duration_sum']"
   ]
  },
  {
   "cell_type": "code",
   "execution_count": 29,
   "metadata": {
    "ExecuteTime": {
     "end_time": "2020-08-25T06:00:25.048560Z",
     "start_time": "2020-08-25T06:00:24.789465Z"
    }
   },
   "outputs": [
    {
     "data": {
      "text/plain": [
       "33"
      ]
     },
     "execution_count": 29,
     "metadata": {},
     "output_type": "execute_result"
    }
   ],
   "source": [
    "df_course.drop(['local_start_time', 'local_end_time'], axis=1, inplace=True)\n",
    "gc.collect()"
   ]
  },
  {
   "cell_type": "code",
   "execution_count": 30,
   "metadata": {
    "ExecuteTime": {
     "end_time": "2020-08-25T06:00:25.054361Z",
     "start_time": "2020-08-25T06:00:25.049522Z"
    }
   },
   "outputs": [
    {
     "data": {
      "text/plain": [
       "Index(['item_id', 'course_id', 'watching_count_sum', 'watching_count_count',\n",
       "       'watching_count_mean', 'watching_count_max', 'watching_count_min',\n",
       "       'watching_count_std', 'watching_count_skew', 'video_duration_sum',\n",
       "       'video_duration_count', 'video_duration_mean', 'video_duration_max',\n",
       "       'video_duration_min', 'video_duration_std', 'video_duration_skew',\n",
       "       'local_watching_time_sum', 'local_watching_time_count',\n",
       "       'local_watching_time_mean', 'local_watching_time_max',\n",
       "       'local_watching_time_min', 'local_watching_time_std',\n",
       "       'local_watching_time_skew', 'video_progress_time_sum',\n",
       "       'video_progress_time_count', 'video_progress_time_mean',\n",
       "       'video_progress_time_max', 'video_progress_time_min',\n",
       "       'video_progress_time_std', 'video_progress_time_skew',\n",
       "       'video_watching_duration_sum', 'video_watching_duration_count',\n",
       "       'video_watching_duration_mean', 'video_watching_duration_max',\n",
       "       'video_watching_duration_min', 'video_watching_duration_std',\n",
       "       'video_watching_duration_skew', 'local_watching_duration_sum',\n",
       "       'local_watching_duration_count', 'local_watching_duration_mean',\n",
       "       'local_watching_duration_max', 'local_watching_duration_min',\n",
       "       'local_watching_duration_std', 'local_watching_duration_skew',\n",
       "       'video_is_end_sum', 'video_is_end_count', 'video_is_end_mean',\n",
       "       'video_is_end_max', 'video_is_end_min', 'video_is_end_std',\n",
       "       'video_is_end_skew', 'video_is_start_sum', 'video_is_start_count',\n",
       "       'video_is_start_mean', 'video_is_start_max', 'video_is_start_min',\n",
       "       'video_is_start_std', 'video_is_start_skew', 'video_is_start_end_sum',\n",
       "       'video_is_start_end_count', 'video_is_start_end_mean',\n",
       "       'video_is_start_end_max', 'video_is_start_end_min',\n",
       "       'video_is_start_end_std', 'video_is_start_end_skew',\n",
       "       'forward_seconds_sum', 'forward_seconds_count', 'forward_seconds_mean',\n",
       "       'forward_seconds_max', 'forward_seconds_min', 'forward_seconds_std',\n",
       "       'forward_seconds_skew', 'local_watching_diff_sum',\n",
       "       'local_watching_diff_count', 'local_watching_diff_mean',\n",
       "       'local_watching_diff_max', 'local_watching_diff_min',\n",
       "       'local_watching_diff_std', 'local_watching_diff_skew', 'speed_sum',\n",
       "       'speed_count', 'speed_mean', 'speed_max', 'speed_min', 'speed_std',\n",
       "       'speed_skew', 'course_id_count', 'local_watching_duration',\n",
       "       'local_watching_diff', 'local_watching_video_duration'],\n",
       "      dtype='object')"
      ]
     },
     "execution_count": 30,
     "metadata": {},
     "output_type": "execute_result"
    }
   ],
   "source": [
    "df_course.columns"
   ]
  },
  {
   "cell_type": "code",
   "execution_count": 31,
   "metadata": {
    "ExecuteTime": {
     "end_time": "2020-08-25T06:00:25.165107Z",
     "start_time": "2020-08-25T06:00:25.055356Z"
    }
   },
   "outputs": [
    {
     "data": {
      "text/plain": [
       "Index(['item_id', 'course_id', 'label'], dtype='object')"
      ]
     },
     "execution_count": 31,
     "metadata": {},
     "output_type": "execute_result"
    }
   ],
   "source": [
    "act_1_label = pd.read_hdf('../act_1_label.h5')\n",
    "act_1_label.columns"
   ]
  },
  {
   "cell_type": "code",
   "execution_count": 32,
   "metadata": {
    "ExecuteTime": {
     "end_time": "2020-08-25T06:00:26.797591Z",
     "start_time": "2020-08-25T06:00:25.166103Z"
    }
   },
   "outputs": [],
   "source": [
    "df_course = df_course.merge(act_1_label, on=uid2, how='left')"
   ]
  },
  {
   "cell_type": "code",
   "execution_count": 33,
   "metadata": {
    "ExecuteTime": {
     "end_time": "2020-08-25T06:00:27.268685Z",
     "start_time": "2020-08-25T06:00:26.798542Z"
    }
   },
   "outputs": [],
   "source": [
    "df_course.to_hdf('../act_1_features.h5', 'df', index=False)"
   ]
  }
 ],
 "metadata": {
  "kernelspec": {
   "display_name": "Python 3",
   "language": "python",
   "name": "python3"
  },
  "language_info": {
   "codemirror_mode": {
    "name": "ipython",
    "version": 3
   },
   "file_extension": ".py",
   "mimetype": "text/x-python",
   "name": "python",
   "nbconvert_exporter": "python",
   "pygments_lexer": "ipython3",
   "version": "3.7.3"
  },
  "toc": {
   "base_numbering": 1,
   "nav_menu": {},
   "number_sections": true,
   "sideBar": true,
   "skip_h1_title": false,
   "title_cell": "Table of Contents",
   "title_sidebar": "Contents",
   "toc_cell": false,
   "toc_position": {},
   "toc_section_display": true,
   "toc_window_display": false
  },
  "varInspector": {
   "cols": {
    "lenName": 16,
    "lenType": 16,
    "lenVar": 40
   },
   "kernels_config": {
    "python": {
     "delete_cmd_postfix": "",
     "delete_cmd_prefix": "del ",
     "library": "var_list.py",
     "varRefreshCmd": "print(var_dic_list())"
    },
    "r": {
     "delete_cmd_postfix": ") ",
     "delete_cmd_prefix": "rm(",
     "library": "var_list.r",
     "varRefreshCmd": "cat(var_dic_list()) "
    }
   },
   "types_to_exclude": [
    "module",
    "function",
    "builtin_function_or_method",
    "instance",
    "_Feature"
   ],
   "window_display": false
  }
 },
 "nbformat": 4,
 "nbformat_minor": 2
}
