{
 "cells": [
  {
   "cell_type": "code",
   "execution_count": 1,
   "metadata": {
    "ExecuteTime": {
     "end_time": "2020-10-26T09:20:19.716953Z",
     "start_time": "2020-10-26T09:20:16.257459Z"
    }
   },
   "outputs": [],
   "source": [
    "# -*- coding: utf-8 -*-\n",
    "import numpy as np\n",
    "import pandas as pd\n",
    "import lightgbm as lgb\n",
    "import joblib\n",
    "from joblib import Parallel, delayed\n",
    "\n",
    "\n",
    "def get_psi(c, x_train, x_test):\n",
    "    psi_res = pd.DataFrame()\n",
    "    psi_dict={}\n",
    "    # for c in tqdm(f_cols):\n",
    "    try:\n",
    "        t_train = x_train[c].fillna(-998)\n",
    "        t_test = x_test[c].fillna(-998)\n",
    "        # 获取切分点\n",
    "        bins=[]\n",
    "        for i in np.arange(0,1.1,0.2):\n",
    "            bins.append(t_train.quantile(i))\n",
    "        bins=sorted(set(bins))\n",
    "        bins[0]=-np.inf\n",
    "        bins[-1]=np.inf\n",
    "        # 计算psi\n",
    "        t_psi = pd.DataFrame()\n",
    "        t_psi['train'] = pd.cut(t_train,bins).value_counts().sort_index()\n",
    "        t_psi['test'] = pd.cut(t_test,bins).value_counts()\n",
    "        t_psi.index=[str(x) for x in t_psi.index]\n",
    "        t_psi.loc['总计',:] = t_psi.sum()\n",
    "        t_psi['train_rate'] = t_psi['train']/t_psi.loc['总计','train']\n",
    "        t_psi['test_rate'] = t_psi['test']/t_psi.loc['总计','test']\n",
    "        t_psi['psi'] = (t_psi['test_rate']-t_psi['train_rate'])*(np.log(t_psi['test_rate'])-np.log(t_psi['train_rate']))\n",
    "        t_psi.loc['总计','psi'] = t_psi['psi'].sum()\n",
    "        t_psi.index.name=c\n",
    "        #汇总\n",
    "        t_res = pd.DataFrame([[c,t_psi.loc['总计','psi']]],\n",
    "                             columns=['变量名','PSI'])\n",
    "        psi_res = pd.concat([psi_res,t_res])\n",
    "        psi_dict[c]=t_psi\n",
    "        print(c,'done')\n",
    "    except:\n",
    "        print(c,'error')\n",
    "    return psi_res #, psi_dict\n",
    "\n",
    "\n",
    "train = pd.read_csv('fe_train.csv')\n",
    "test = pd.read_csv('fe_test_1.csv')"
   ]
  },
  {
   "cell_type": "code",
   "execution_count": 2,
   "metadata": {
    "ExecuteTime": {
     "end_time": "2020-10-26T09:20:19.728910Z",
     "start_time": "2020-10-26T09:20:19.717948Z"
    }
   },
   "outputs": [
    {
     "data": {
      "text/plain": [
       "((22000, 500), (16500, 499))"
      ]
     },
     "execution_count": 2,
     "metadata": {},
     "output_type": "execute_result"
    }
   ],
   "source": [
    "train.shape, test.shape"
   ]
  },
  {
   "cell_type": "code",
   "execution_count": 3,
   "metadata": {
    "ExecuteTime": {
     "end_time": "2020-10-26T09:20:19.772771Z",
     "start_time": "2020-10-26T09:20:19.730905Z"
    }
   },
   "outputs": [],
   "source": [
    "sub = test[['eventId']].to_csv('sub.csv', index=False)"
   ]
  },
  {
   "cell_type": "code",
   "execution_count": 4,
   "metadata": {
    "ExecuteTime": {
     "end_time": "2020-10-26T09:20:50.323641Z",
     "start_time": "2020-10-26T09:20:19.774761Z"
    }
   },
   "outputs": [
    {
     "name": "stdout",
     "output_type": "stream",
     "text": [
      "Length used_cols: \n",
      " 498\n",
      "PSI used features: \n",
      " ['srcPort', 'destPort', 'bytesOut', 'bytesIn', 'pktsIn', 'pktsOut', 'srcAddress_gp_destAddress_nunique_rate', 'srcAddress_gp_srcAddressPort_nunique_rate', 'srcAddress_gp_destAddressPort_nunique_rate', 'destAddress_gp_srcAddress_nunique_rate', 'destAddress_gp_srcAddressPort_nunique_rate', 'destAddress_gp_destAddressPort_nunique_rate', 'srcAddressPort_gp_srcAddress_nunique_rate', 'srcAddressPort_gp_destAddress_nunique_rate', 'srcAddressPort_gp_destAddressPort_nunique_rate', 'destAddressPort_gp_srcAddress_nunique_rate', 'destAddressPort_gp_destAddress_nunique_rate', 'destAddressPort_gp_srcAddressPort_nunique_rate', 'tlsVersion_map', 'srcAddress_count', 'destAddress_count', 'tlsVersion_count', 'tlsSubject_count', 'tlsIssuerDn_count', 'tlsSni_count', 'srcAddressPort_count', 'destAddressPort_count', 'srcAddress_bytesOut_count', 'srcAddress_bytesOut_max', 'srcAddress_bytesOut_min', 'srcAddress_bytesOut_median', 'srcAddress_bytesOut_mean', 'srcAddress_bytesOut_sum', 'srcAddress_bytesOut_skew', 'srcAddress_bytesOut_std', 'srcAddress_bytesOut_nunique', 'srcAddress_bytesOut_max_min', 'srcAddress_bytesOut_quantile_25', 'srcAddress_bytesOut_quantile_75', 'srcAddress_bytesIn_count', 'srcAddress_bytesIn_max', 'srcAddress_bytesIn_min', 'srcAddress_bytesIn_median', 'srcAddress_bytesIn_mean', 'srcAddress_bytesIn_sum', 'srcAddress_bytesIn_skew', 'srcAddress_bytesIn_std', 'srcAddress_bytesIn_nunique', 'srcAddress_bytesIn_max_min', 'srcAddress_bytesIn_quantile_25', 'srcAddress_bytesIn_quantile_75', 'srcAddress_pktsIn_count', 'srcAddress_pktsIn_max', 'srcAddress_pktsIn_min', 'srcAddress_pktsIn_median', 'srcAddress_pktsIn_mean', 'srcAddress_pktsIn_sum', 'srcAddress_pktsIn_skew', 'srcAddress_pktsIn_std', 'srcAddress_pktsIn_nunique', 'srcAddress_pktsIn_max_min', 'srcAddress_pktsIn_quantile_25', 'srcAddress_pktsIn_quantile_75', 'srcAddress_pktsOut_count', 'srcAddress_pktsOut_max', 'srcAddress_pktsOut_min', 'srcAddress_pktsOut_median', 'srcAddress_pktsOut_mean', 'srcAddress_pktsOut_sum', 'srcAddress_pktsOut_skew', 'srcAddress_pktsOut_std', 'srcAddress_pktsOut_nunique', 'srcAddress_pktsOut_max_min', 'srcAddress_pktsOut_quantile_25', 'srcAddress_pktsOut_quantile_75', 'destAddress_bytesOut_count', 'destAddress_bytesOut_max', 'destAddress_bytesOut_min', 'destAddress_bytesOut_median', 'destAddress_bytesOut_mean', 'destAddress_bytesOut_sum', 'destAddress_bytesOut_skew', 'destAddress_bytesOut_std', 'destAddress_bytesOut_nunique', 'destAddress_bytesOut_max_min', 'destAddress_bytesOut_quantile_25', 'destAddress_bytesOut_quantile_75', 'destAddress_bytesIn_count', 'destAddress_bytesIn_max', 'destAddress_bytesIn_min', 'destAddress_bytesIn_median', 'destAddress_bytesIn_mean', 'destAddress_bytesIn_sum', 'destAddress_bytesIn_skew', 'destAddress_bytesIn_std', 'destAddress_bytesIn_nunique', 'destAddress_bytesIn_max_min', 'destAddress_bytesIn_quantile_25', 'destAddress_bytesIn_quantile_75', 'destAddress_pktsIn_count', 'destAddress_pktsIn_max', 'destAddress_pktsIn_min', 'destAddress_pktsIn_median', 'destAddress_pktsIn_mean', 'destAddress_pktsIn_sum', 'destAddress_pktsIn_skew', 'destAddress_pktsIn_std', 'destAddress_pktsIn_nunique', 'destAddress_pktsIn_max_min', 'destAddress_pktsIn_quantile_25', 'destAddress_pktsIn_quantile_75', 'destAddress_pktsOut_count', 'destAddress_pktsOut_max', 'destAddress_pktsOut_min', 'destAddress_pktsOut_median', 'destAddress_pktsOut_mean', 'destAddress_pktsOut_sum', 'destAddress_pktsOut_skew', 'destAddress_pktsOut_std', 'destAddress_pktsOut_nunique', 'destAddress_pktsOut_max_min', 'destAddress_pktsOut_quantile_25', 'destAddress_pktsOut_quantile_75', 'tlsVersion_bytesOut_count', 'tlsVersion_bytesOut_min', 'tlsVersion_bytesOut_sum', 'tlsVersion_bytesOut_skew', 'tlsVersion_bytesOut_nunique', 'tlsVersion_bytesIn_count', 'tlsVersion_bytesIn_max', 'tlsVersion_bytesIn_min', 'tlsVersion_bytesIn_sum', 'tlsVersion_bytesIn_skew', 'tlsVersion_bytesIn_nunique', 'tlsVersion_bytesIn_max_min', 'tlsVersion_pktsIn_count', 'tlsVersion_pktsIn_max', 'tlsVersion_pktsIn_min', 'tlsVersion_pktsIn_sum', 'tlsVersion_pktsIn_skew', 'tlsVersion_pktsIn_nunique', 'tlsVersion_pktsIn_max_min', 'tlsVersion_pktsIn_quantile_25', 'tlsVersion_pktsOut_count', 'tlsVersion_pktsOut_min', 'tlsVersion_pktsOut_median', 'tlsVersion_pktsOut_nunique', 'tlsVersion_pktsOut_quantile_25', 'tlsVersion_pktsOut_quantile_75', 'tlsSubject_bytesOut_count', 'tlsSubject_bytesOut_max', 'tlsSubject_bytesOut_min', 'tlsSubject_bytesOut_median', 'tlsSubject_bytesOut_mean', 'tlsSubject_bytesOut_sum', 'tlsSubject_bytesOut_skew', 'tlsSubject_bytesOut_std', 'tlsSubject_bytesOut_nunique', 'tlsSubject_bytesOut_max_min', 'tlsSubject_bytesOut_quantile_25', 'tlsSubject_bytesOut_quantile_75', 'tlsSubject_bytesIn_count', 'tlsSubject_bytesIn_max', 'tlsSubject_bytesIn_min', 'tlsSubject_bytesIn_median', 'tlsSubject_bytesIn_mean', 'tlsSubject_bytesIn_sum', 'tlsSubject_bytesIn_skew', 'tlsSubject_bytesIn_std', 'tlsSubject_bytesIn_nunique', 'tlsSubject_bytesIn_max_min', 'tlsSubject_bytesIn_quantile_25', 'tlsSubject_bytesIn_quantile_75', 'tlsSubject_pktsIn_count', 'tlsSubject_pktsIn_max', 'tlsSubject_pktsIn_min', 'tlsSubject_pktsIn_median', 'tlsSubject_pktsIn_mean', 'tlsSubject_pktsIn_sum', 'tlsSubject_pktsIn_skew', 'tlsSubject_pktsIn_std', 'tlsSubject_pktsIn_nunique', 'tlsSubject_pktsIn_max_min', 'tlsSubject_pktsIn_quantile_25', 'tlsSubject_pktsIn_quantile_75', 'tlsSubject_pktsOut_count', 'tlsSubject_pktsOut_max', 'tlsSubject_pktsOut_min', 'tlsSubject_pktsOut_median', 'tlsSubject_pktsOut_mean', 'tlsSubject_pktsOut_sum', 'tlsSubject_pktsOut_skew', 'tlsSubject_pktsOut_std', 'tlsSubject_pktsOut_nunique', 'tlsSubject_pktsOut_max_min', 'tlsSubject_pktsOut_quantile_25', 'tlsSubject_pktsOut_quantile_75', 'tlsIssuerDn_bytesOut_count', 'tlsIssuerDn_bytesOut_max', 'tlsIssuerDn_bytesOut_min', 'tlsIssuerDn_bytesOut_median', 'tlsIssuerDn_bytesOut_mean', 'tlsIssuerDn_bytesOut_sum', 'tlsIssuerDn_bytesOut_skew', 'tlsIssuerDn_bytesOut_std', 'tlsIssuerDn_bytesOut_nunique', 'tlsIssuerDn_bytesOut_max_min', 'tlsIssuerDn_bytesOut_quantile_25', 'tlsIssuerDn_bytesOut_quantile_75', 'tlsIssuerDn_bytesIn_count', 'tlsIssuerDn_bytesIn_max', 'tlsIssuerDn_bytesIn_min', 'tlsIssuerDn_bytesIn_median', 'tlsIssuerDn_bytesIn_sum', 'tlsIssuerDn_bytesIn_skew', 'tlsIssuerDn_bytesIn_std', 'tlsIssuerDn_bytesIn_nunique', 'tlsIssuerDn_bytesIn_max_min', 'tlsIssuerDn_bytesIn_quantile_25', 'tlsIssuerDn_bytesIn_quantile_75', 'tlsIssuerDn_pktsIn_count', 'tlsIssuerDn_pktsIn_max', 'tlsIssuerDn_pktsIn_min', 'tlsIssuerDn_pktsIn_median', 'tlsIssuerDn_pktsIn_mean', 'tlsIssuerDn_pktsIn_sum', 'tlsIssuerDn_pktsIn_skew', 'tlsIssuerDn_pktsIn_std', 'tlsIssuerDn_pktsIn_nunique', 'tlsIssuerDn_pktsIn_max_min', 'tlsIssuerDn_pktsIn_quantile_25', 'tlsIssuerDn_pktsIn_quantile_75', 'tlsIssuerDn_pktsOut_count', 'tlsIssuerDn_pktsOut_max', 'tlsIssuerDn_pktsOut_min', 'tlsIssuerDn_pktsOut_median', 'tlsIssuerDn_pktsOut_mean', 'tlsIssuerDn_pktsOut_sum', 'tlsIssuerDn_pktsOut_skew', 'tlsIssuerDn_pktsOut_std', 'tlsIssuerDn_pktsOut_nunique', 'tlsIssuerDn_pktsOut_max_min', 'tlsIssuerDn_pktsOut_quantile_25', 'tlsIssuerDn_pktsOut_quantile_75', 'tlsSni_bytesOut_count', 'tlsSni_bytesOut_max', 'tlsSni_bytesOut_min', 'tlsSni_bytesOut_median', 'tlsSni_bytesOut_mean', 'tlsSni_bytesOut_sum', 'tlsSni_bytesOut_skew', 'tlsSni_bytesOut_std', 'tlsSni_bytesOut_nunique', 'tlsSni_bytesOut_max_min', 'tlsSni_bytesOut_quantile_25', 'tlsSni_bytesOut_quantile_75', 'tlsSni_bytesIn_count', 'tlsSni_bytesIn_max', 'tlsSni_bytesIn_min', 'tlsSni_bytesIn_median', 'tlsSni_bytesIn_mean', 'tlsSni_bytesIn_sum', 'tlsSni_bytesIn_skew', 'tlsSni_bytesIn_std', 'tlsSni_bytesIn_nunique', 'tlsSni_bytesIn_max_min', 'tlsSni_bytesIn_quantile_25', 'tlsSni_bytesIn_quantile_75', 'tlsSni_pktsIn_count', 'tlsSni_pktsIn_max', 'tlsSni_pktsIn_min', 'tlsSni_pktsIn_median', 'tlsSni_pktsIn_mean', 'tlsSni_pktsIn_sum', 'tlsSni_pktsIn_skew', 'tlsSni_pktsIn_std', 'tlsSni_pktsIn_nunique', 'tlsSni_pktsIn_max_min', 'tlsSni_pktsIn_quantile_25', 'tlsSni_pktsIn_quantile_75', 'tlsSni_pktsOut_count', 'tlsSni_pktsOut_max', 'tlsSni_pktsOut_min', 'tlsSni_pktsOut_median', 'tlsSni_pktsOut_mean', 'tlsSni_pktsOut_sum', 'tlsSni_pktsOut_skew', 'tlsSni_pktsOut_std', 'tlsSni_pktsOut_nunique', 'tlsSni_pktsOut_max_min', 'tlsSni_pktsOut_quantile_25', 'tlsSni_pktsOut_quantile_75', 'tlsVersion_map_bytesOut_count', 'tlsVersion_map_bytesOut_max', 'tlsVersion_map_bytesOut_min', 'tlsVersion_map_bytesOut_median', 'tlsVersion_map_bytesOut_mean', 'tlsVersion_map_bytesOut_sum', 'tlsVersion_map_bytesOut_nunique', 'tlsVersion_map_bytesOut_max_min', 'tlsVersion_map_bytesOut_quantile_25', 'tlsVersion_map_bytesOut_quantile_75', 'tlsVersion_map_bytesIn_count', 'tlsVersion_map_bytesIn_max', 'tlsVersion_map_bytesIn_min', 'tlsVersion_map_bytesIn_mean', 'tlsVersion_map_bytesIn_sum', 'tlsVersion_map_bytesIn_skew', 'tlsVersion_map_bytesIn_nunique', 'tlsVersion_map_bytesIn_max_min', 'tlsVersion_map_bytesIn_quantile_25', 'tlsVersion_map_bytesIn_quantile_75', 'tlsVersion_map_pktsIn_count', 'tlsVersion_map_pktsIn_max', 'tlsVersion_map_pktsIn_min', 'tlsVersion_map_pktsIn_median', 'tlsVersion_map_pktsIn_mean', 'tlsVersion_map_pktsIn_sum', 'tlsVersion_map_pktsIn_nunique', 'tlsVersion_map_pktsIn_quantile_25', 'tlsVersion_map_pktsIn_quantile_75', 'tlsVersion_map_pktsOut_count', 'tlsVersion_map_pktsOut_min', 'tlsVersion_map_pktsOut_mean', 'tlsVersion_map_pktsOut_sum', 'tlsVersion_map_pktsOut_std', 'tlsVersion_map_pktsOut_nunique', 'tlsVersion_map_pktsOut_max_min', 'tlsVersion_map_pktsOut_quantile_25', 'tlsVersion_map_pktsOut_quantile_75', 'srcAddressPort_bytesOut_count', 'srcAddressPort_bytesOut_max', 'srcAddressPort_bytesOut_min', 'srcAddressPort_bytesOut_median', 'srcAddressPort_bytesOut_mean', 'srcAddressPort_bytesOut_sum', 'srcAddressPort_bytesOut_skew', 'srcAddressPort_bytesOut_std', 'srcAddressPort_bytesOut_nunique', 'srcAddressPort_bytesOut_max_min', 'srcAddressPort_bytesOut_quantile_25', 'srcAddressPort_bytesOut_quantile_75', 'srcAddressPort_bytesIn_count', 'srcAddressPort_bytesIn_max', 'srcAddressPort_bytesIn_min', 'srcAddressPort_bytesIn_median', 'srcAddressPort_bytesIn_mean', 'srcAddressPort_bytesIn_sum', 'srcAddressPort_bytesIn_skew', 'srcAddressPort_bytesIn_std', 'srcAddressPort_bytesIn_nunique', 'srcAddressPort_bytesIn_max_min', 'srcAddressPort_bytesIn_quantile_25', 'srcAddressPort_bytesIn_quantile_75', 'srcAddressPort_pktsIn_count', 'srcAddressPort_pktsIn_max', 'srcAddressPort_pktsIn_min', 'srcAddressPort_pktsIn_median', 'srcAddressPort_pktsIn_mean', 'srcAddressPort_pktsIn_sum', 'srcAddressPort_pktsIn_skew', 'srcAddressPort_pktsIn_std', 'srcAddressPort_pktsIn_nunique', 'srcAddressPort_pktsIn_max_min', 'srcAddressPort_pktsIn_quantile_25', 'srcAddressPort_pktsIn_quantile_75', 'srcAddressPort_pktsOut_count', 'srcAddressPort_pktsOut_max', 'srcAddressPort_pktsOut_min', 'srcAddressPort_pktsOut_median', 'srcAddressPort_pktsOut_mean', 'srcAddressPort_pktsOut_sum', 'srcAddressPort_pktsOut_skew', 'srcAddressPort_pktsOut_std', 'srcAddressPort_pktsOut_nunique', 'srcAddressPort_pktsOut_max_min', 'srcAddressPort_pktsOut_quantile_25', 'srcAddressPort_pktsOut_quantile_75', 'destAddressPort_bytesOut_count', 'destAddressPort_bytesOut_max', 'destAddressPort_bytesOut_min', 'destAddressPort_bytesOut_median', 'destAddressPort_bytesOut_mean', 'destAddressPort_bytesOut_sum', 'destAddressPort_bytesOut_skew', 'destAddressPort_bytesOut_std', 'destAddressPort_bytesOut_nunique', 'destAddressPort_bytesOut_max_min', 'destAddressPort_bytesOut_quantile_25', 'destAddressPort_bytesOut_quantile_75', 'destAddressPort_bytesIn_count', 'destAddressPort_bytesIn_max', 'destAddressPort_bytesIn_min', 'destAddressPort_bytesIn_median', 'destAddressPort_bytesIn_mean', 'destAddressPort_bytesIn_sum', 'destAddressPort_bytesIn_skew', 'destAddressPort_bytesIn_std', 'destAddressPort_bytesIn_nunique', 'destAddressPort_bytesIn_max_min', 'destAddressPort_bytesIn_quantile_25', 'destAddressPort_bytesIn_quantile_75', 'destAddressPort_pktsIn_count', 'destAddressPort_pktsIn_max', 'destAddressPort_pktsIn_min', 'destAddressPort_pktsIn_median', 'destAddressPort_pktsIn_mean', 'destAddressPort_pktsIn_sum', 'destAddressPort_pktsIn_skew', 'destAddressPort_pktsIn_std', 'destAddressPort_pktsIn_nunique', 'destAddressPort_pktsIn_max_min', 'destAddressPort_pktsIn_quantile_25', 'destAddressPort_pktsIn_quantile_75', 'destAddressPort_pktsOut_count', 'destAddressPort_pktsOut_max', 'destAddressPort_pktsOut_min', 'destAddressPort_pktsOut_median', 'destAddressPort_pktsOut_mean', 'destAddressPort_pktsOut_sum', 'destAddressPort_pktsOut_skew', 'destAddressPort_pktsOut_std', 'destAddressPort_pktsOut_nunique', 'destAddressPort_pktsOut_max_min', 'destAddressPort_pktsOut_quantile_25', 'destAddressPort_pktsOut_quantile_75', 'bytesOut_bytesIn_add', 'bytesOut_bytesIn_subtract', 'bytesOut_bytesInc_multiply', 'bytesOut_pktsIn_add', 'bytesOut_pktsIn_subtract', 'bytesOut_pktsInc_multiply', 'bytesOut_pktsOut_add', 'bytesOut_pktsOut_subtract', 'bytesOut_pktsOutc_multiply', 'bytesIn_pktsIn_add', 'bytesIn_pktsIn_subtract', 'bytesIn_pktsInc_multiply', 'bytesIn_pktsOut_add', 'bytesIn_pktsOut_subtract', 'bytesIn_pktsOutc_multiply', 'pktsIn_pktsOut_add', 'pktsIn_pktsOut_subtract', 'pktsIn_pktsOutc_multiply', 'bytesOut_bytesIn_ratio', 'bytesOut_pktsIn_ratio', 'bytesOut_pktsOut_ratio', 'bytesIn_bytesOut_ratio', 'bytesIn_pktsIn_ratio', 'bytesIn_pktsOut_ratio', 'pktsIn_bytesOut_ratio', 'pktsIn_bytesIn_ratio', 'pktsIn_pktsOut_ratio', 'pktsOut_bytesOut_ratio', 'pktsOut_bytesIn_ratio', 'pktsOut_pktsIn_ratio']\n",
      "PSI drop features: \n",
      " ['tlsVersion_map_count', 'tlsVersion_bytesOut_max', 'tlsVersion_bytesOut_median', 'tlsVersion_bytesOut_mean', 'tlsVersion_bytesOut_std', 'tlsVersion_bytesOut_max_min', 'tlsVersion_bytesOut_quantile_25', 'tlsVersion_bytesOut_quantile_75', 'tlsVersion_bytesIn_median', 'tlsVersion_bytesIn_mean', 'tlsVersion_bytesIn_std', 'tlsVersion_bytesIn_quantile_25', 'tlsVersion_bytesIn_quantile_75', 'tlsVersion_pktsIn_median', 'tlsVersion_pktsIn_mean', 'tlsVersion_pktsIn_std', 'tlsVersion_pktsIn_quantile_75', 'tlsVersion_pktsOut_max', 'tlsVersion_pktsOut_mean', 'tlsVersion_pktsOut_sum', 'tlsVersion_pktsOut_skew', 'tlsVersion_pktsOut_std', 'tlsVersion_pktsOut_max_min', 'tlsIssuerDn_bytesIn_mean', 'tlsVersion_map_bytesOut_skew', 'tlsVersion_map_bytesOut_std', 'tlsVersion_map_bytesIn_median', 'tlsVersion_map_bytesIn_std', 'tlsVersion_map_pktsIn_skew', 'tlsVersion_map_pktsIn_std', 'tlsVersion_map_pktsIn_max_min', 'tlsVersion_map_pktsOut_max', 'tlsVersion_map_pktsOut_median', 'tlsVersion_map_pktsOut_skew']\n",
      "Error drop features: \n",
      " ['tlsVersion_map_pktsIn_skew', 'tlsVersion_pktsIn_median', 'destAddressPort', 'tlsSni', 'tlsVersion_bytesOut_mean', 'tlsVersion', 'tlsVersion_map_bytesIn_median', 'tlsVersion_map_bytesIn_std', 'tlsVersion_map_bytesOut_std', 'tlsVersion_map_pktsOut_median', 'tlsVersion_map_pktsIn_std', 'destAddress', 'tlsVersion_pktsOut_max', 'tlsVersion_bytesOut_std', 'tlsVersion_map_pktsOut_skew', 'tlsVersion_pktsIn_quantile_75', 'srcAddressPort', 'tlsVersion_bytesOut_max', 'tlsIssuerDn_bytesIn_mean', 'tlsVersion_pktsOut_std', 'tlsVersion_pktsIn_std', 'tlsVersion_map_count', 'tlsVersion_bytesIn_quantile_75', 'tlsVersion_pktsIn_mean', 'tlsVersion_bytesIn_std', 'tlsVersion_bytesOut_quantile_25', 'tlsVersion_bytesIn_median', 'tlsVersion_bytesOut_quantile_75', 'tlsSubject', 'tlsVersion_bytesOut_max_min', 'tlsVersion_pktsOut_skew', 'tlsVersion_pktsOut_max_min', 'tlsVersion_bytesIn_mean', 'tlsVersion_bytesIn_quantile_25', 'tlsVersion_map_bytesOut_skew', 'tlsIssuerDn', 'srcAddress', 'tlsVersion_pktsOut_mean', 'tlsVersion_map_pktsIn_max_min', 'tlsVersion_map_pktsOut_max', 'tlsVersion_bytesOut_median', 'tlsVersion_pktsOut_sum']\n"
     ]
    }
   ],
   "source": [
    "used_cols = [i for i in train.columns if i not in ['eventId', 'label']]\n",
    "print('Length used_cols: \\n', len(used_cols))\n",
    "\n",
    "# 调用方法\n",
    "psi_res = Parallel(n_jobs=4)(delayed(get_psi)(c, train, test) for c in used_cols)\n",
    "psi_df = pd.concat(psi_res)\n",
    "psi_used_cols = list(psi_df[psi_df['PSI'] <= 0.2]['变量名'].values)\n",
    "psi_not_used_cols = list(psi_df[psi_df['PSI'] > 0.2]['变量名'].values)\n",
    "print('PSI used features: \\n', psi_used_cols)\n",
    "print('PSI drop features: \\n', psi_not_used_cols)\n",
    "print('Error drop features: \\n', list(set(used_cols) - set(psi_used_cols)))"
   ]
  }
 ],
 "metadata": {
  "kernelspec": {
   "display_name": "Python 3",
   "language": "python",
   "name": "python3"
  },
  "language_info": {
   "codemirror_mode": {
    "name": "ipython",
    "version": 3
   },
   "file_extension": ".py",
   "mimetype": "text/x-python",
   "name": "python",
   "nbconvert_exporter": "python",
   "pygments_lexer": "ipython3",
   "version": "3.7.3"
  },
  "toc": {
   "base_numbering": 1,
   "nav_menu": {},
   "number_sections": true,
   "sideBar": true,
   "skip_h1_title": false,
   "title_cell": "Table of Contents",
   "title_sidebar": "Contents",
   "toc_cell": false,
   "toc_position": {},
   "toc_section_display": true,
   "toc_window_display": false
  }
 },
 "nbformat": 4,
 "nbformat_minor": 4
}
