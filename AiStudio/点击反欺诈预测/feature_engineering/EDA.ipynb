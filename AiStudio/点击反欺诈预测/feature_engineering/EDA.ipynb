{
 "cells": [
  {
   "cell_type": "markdown",
   "metadata": {},
   "source": [
    "## 工具包和数据导入"
   ]
  },
  {
   "cell_type": "markdown",
   "metadata": {},
   "source": [
    "### 工具包导入"
   ]
  },
  {
   "cell_type": "code",
   "execution_count": 1,
   "metadata": {
    "ExecuteTime": {
     "end_time": "2020-06-10T15:03:36.364769Z",
     "start_time": "2020-06-10T15:03:33.415325Z"
    }
   },
   "outputs": [],
   "source": [
    "import numpy as np\n",
    "import pandas as pd\n",
    "import matplotlib.pyplot as plt\n",
    "import seaborn as sns\n",
    "from sklearn.model_selection import train_test_split\n",
    "from sklearn.metrics import accuracy_score, roc_auc_score\n",
    "from sklearn.preprocessing import LabelEncoder\n",
    "import lightgbm as lgb\n",
    "import time\n",
    "import gc\n",
    "import warnings\n",
    "\n",
    "%matplotlib inline\n",
    "warnings.filterwarnings('ignore')\n",
    "pd.set_option('max_columns', None)\n",
    "pd.set_option('max_rows', None)"
   ]
  },
  {
   "cell_type": "markdown",
   "metadata": {},
   "source": [
    "### 数据导入"
   ]
  },
  {
   "cell_type": "code",
   "execution_count": 2,
   "metadata": {
    "ExecuteTime": {
     "end_time": "2020-06-10T15:03:36.950798Z",
     "start_time": "2020-06-10T15:03:36.364769Z"
    }
   },
   "outputs": [
    {
     "data": {
      "text/html": [
       "<div>\n",
       "<style scoped>\n",
       "    .dataframe tbody tr th:only-of-type {\n",
       "        vertical-align: middle;\n",
       "    }\n",
       "\n",
       "    .dataframe tbody tr th {\n",
       "        vertical-align: top;\n",
       "    }\n",
       "\n",
       "    .dataframe thead th {\n",
       "        text-align: right;\n",
       "    }\n",
       "</style>\n",
       "<table border=\"1\" class=\"dataframe\">\n",
       "  <thead>\n",
       "    <tr style=\"text-align: right;\">\n",
       "      <th></th>\n",
       "      <th>android_id</th>\n",
       "      <th>apptype</th>\n",
       "      <th>carrier</th>\n",
       "      <th>dev_height</th>\n",
       "      <th>dev_ppi</th>\n",
       "      <th>dev_width</th>\n",
       "      <th>label</th>\n",
       "      <th>lan</th>\n",
       "      <th>media_id</th>\n",
       "      <th>ntt</th>\n",
       "      <th>osv</th>\n",
       "      <th>package</th>\n",
       "      <th>sid</th>\n",
       "      <th>timestamp</th>\n",
       "      <th>version</th>\n",
       "      <th>fea_hash</th>\n",
       "      <th>location</th>\n",
       "      <th>fea1_hash</th>\n",
       "      <th>cus_type</th>\n",
       "    </tr>\n",
       "  </thead>\n",
       "  <tbody>\n",
       "    <tr>\n",
       "      <th>0</th>\n",
       "      <td>316361</td>\n",
       "      <td>1199</td>\n",
       "      <td>1.0</td>\n",
       "      <td>NaN</td>\n",
       "      <td>NaN</td>\n",
       "      <td>NaN</td>\n",
       "      <td>1</td>\n",
       "      <td>NaN</td>\n",
       "      <td>104</td>\n",
       "      <td>6.0</td>\n",
       "      <td>9.0</td>\n",
       "      <td>18</td>\n",
       "      <td>1438873</td>\n",
       "      <td>2019-06-07 15:32:01</td>\n",
       "      <td>8</td>\n",
       "      <td>2.135019e+09</td>\n",
       "      <td>0</td>\n",
       "      <td>2329670524</td>\n",
       "      <td>601</td>\n",
       "    </tr>\n",
       "    <tr>\n",
       "      <th>1</th>\n",
       "      <td>135939</td>\n",
       "      <td>893</td>\n",
       "      <td>NaN</td>\n",
       "      <td>NaN</td>\n",
       "      <td>NaN</td>\n",
       "      <td>NaN</td>\n",
       "      <td>1</td>\n",
       "      <td>NaN</td>\n",
       "      <td>19</td>\n",
       "      <td>6.0</td>\n",
       "      <td>8.0</td>\n",
       "      <td>0</td>\n",
       "      <td>1185582</td>\n",
       "      <td>2019-06-08 19:40:40</td>\n",
       "      <td>4</td>\n",
       "      <td>2.782306e+09</td>\n",
       "      <td>1</td>\n",
       "      <td>2864801071</td>\n",
       "      <td>1000</td>\n",
       "    </tr>\n",
       "    <tr>\n",
       "      <th>2</th>\n",
       "      <td>399254</td>\n",
       "      <td>821</td>\n",
       "      <td>NaN</td>\n",
       "      <td>760.0</td>\n",
       "      <td>NaN</td>\n",
       "      <td>360.0</td>\n",
       "      <td>1</td>\n",
       "      <td>NaN</td>\n",
       "      <td>559</td>\n",
       "      <td>NaN</td>\n",
       "      <td>8.0</td>\n",
       "      <td>0</td>\n",
       "      <td>1555716</td>\n",
       "      <td>2019-06-06 23:59:13</td>\n",
       "      <td>0</td>\n",
       "      <td>1.392806e+09</td>\n",
       "      <td>2</td>\n",
       "      <td>628911675</td>\n",
       "      <td>696</td>\n",
       "    </tr>\n",
       "    <tr>\n",
       "      <th>3</th>\n",
       "      <td>68983</td>\n",
       "      <td>1004</td>\n",
       "      <td>1.0</td>\n",
       "      <td>2214.0</td>\n",
       "      <td>NaN</td>\n",
       "      <td>1080.0</td>\n",
       "      <td>0</td>\n",
       "      <td>NaN</td>\n",
       "      <td>129</td>\n",
       "      <td>2.0</td>\n",
       "      <td>8.0</td>\n",
       "      <td>0</td>\n",
       "      <td>1093419</td>\n",
       "      <td>2019-06-09 09:00:12</td>\n",
       "      <td>0</td>\n",
       "      <td>3.562553e+09</td>\n",
       "      <td>3</td>\n",
       "      <td>1283809327</td>\n",
       "      <td>753</td>\n",
       "    </tr>\n",
       "    <tr>\n",
       "      <th>4</th>\n",
       "      <td>288999</td>\n",
       "      <td>1076</td>\n",
       "      <td>1.0</td>\n",
       "      <td>2280.0</td>\n",
       "      <td>NaN</td>\n",
       "      <td>1080.0</td>\n",
       "      <td>1</td>\n",
       "      <td>1.0</td>\n",
       "      <td>64</td>\n",
       "      <td>2.0</td>\n",
       "      <td>8.0</td>\n",
       "      <td>0</td>\n",
       "      <td>1400089</td>\n",
       "      <td>2019-06-07 08:28:13</td>\n",
       "      <td>5</td>\n",
       "      <td>2.364522e+09</td>\n",
       "      <td>4</td>\n",
       "      <td>1510695983</td>\n",
       "      <td>582</td>\n",
       "    </tr>\n",
       "  </tbody>\n",
       "</table>\n",
       "</div>"
      ],
      "text/plain": [
       "   android_id  apptype  carrier  dev_height  dev_ppi  dev_width  label  lan  \\\n",
       "0      316361     1199      1.0         NaN      NaN        NaN      1  NaN   \n",
       "1      135939      893      NaN         NaN      NaN        NaN      1  NaN   \n",
       "2      399254      821      NaN       760.0      NaN      360.0      1  NaN   \n",
       "3       68983     1004      1.0      2214.0      NaN     1080.0      0  NaN   \n",
       "4      288999     1076      1.0      2280.0      NaN     1080.0      1  1.0   \n",
       "\n",
       "   media_id  ntt  osv  package      sid            timestamp  version  \\\n",
       "0       104  6.0  9.0       18  1438873  2019-06-07 15:32:01        8   \n",
       "1        19  6.0  8.0        0  1185582  2019-06-08 19:40:40        4   \n",
       "2       559  NaN  8.0        0  1555716  2019-06-06 23:59:13        0   \n",
       "3       129  2.0  8.0        0  1093419  2019-06-09 09:00:12        0   \n",
       "4        64  2.0  8.0        0  1400089  2019-06-07 08:28:13        5   \n",
       "\n",
       "       fea_hash  location   fea1_hash  cus_type  \n",
       "0  2.135019e+09         0  2329670524       601  \n",
       "1  2.782306e+09         1  2864801071      1000  \n",
       "2  1.392806e+09         2   628911675       696  \n",
       "3  3.562553e+09         3  1283809327       753  \n",
       "4  2.364522e+09         4  1510695983       582  "
      ]
     },
     "execution_count": 2,
     "metadata": {},
     "output_type": "execute_result"
    }
   ],
   "source": [
    "train = pd.read_hdf('../input/train.h5')\n",
    "train.head()"
   ]
  },
  {
   "cell_type": "code",
   "execution_count": 3,
   "metadata": {
    "ExecuteTime": {
     "end_time": "2020-06-10T15:03:37.142688Z",
     "start_time": "2020-06-10T15:03:36.954796Z"
    }
   },
   "outputs": [
    {
     "data": {
      "text/html": [
       "<div>\n",
       "<style scoped>\n",
       "    .dataframe tbody tr th:only-of-type {\n",
       "        vertical-align: middle;\n",
       "    }\n",
       "\n",
       "    .dataframe tbody tr th {\n",
       "        vertical-align: top;\n",
       "    }\n",
       "\n",
       "    .dataframe thead th {\n",
       "        text-align: right;\n",
       "    }\n",
       "</style>\n",
       "<table border=\"1\" class=\"dataframe\">\n",
       "  <thead>\n",
       "    <tr style=\"text-align: right;\">\n",
       "      <th></th>\n",
       "      <th>android_id</th>\n",
       "      <th>apptype</th>\n",
       "      <th>carrier</th>\n",
       "      <th>dev_height</th>\n",
       "      <th>dev_ppi</th>\n",
       "      <th>dev_width</th>\n",
       "      <th>lan</th>\n",
       "      <th>media_id</th>\n",
       "      <th>ntt</th>\n",
       "      <th>osv</th>\n",
       "      <th>package</th>\n",
       "      <th>sid</th>\n",
       "      <th>timestamp</th>\n",
       "      <th>version</th>\n",
       "      <th>fea_hash</th>\n",
       "      <th>location</th>\n",
       "      <th>fea1_hash</th>\n",
       "      <th>cus_type</th>\n",
       "    </tr>\n",
       "  </thead>\n",
       "  <tbody>\n",
       "    <tr>\n",
       "      <th>0</th>\n",
       "      <td>317625</td>\n",
       "      <td>1181</td>\n",
       "      <td>1.0</td>\n",
       "      <td>2196.0</td>\n",
       "      <td>2.0</td>\n",
       "      <td>1080.0</td>\n",
       "      <td>1.0</td>\n",
       "      <td>639</td>\n",
       "      <td>2.0</td>\n",
       "      <td>8.0</td>\n",
       "      <td>188</td>\n",
       "      <td>1440682</td>\n",
       "      <td>2019-06-07 09:42:30</td>\n",
       "      <td>7</td>\n",
       "      <td>1.672224e+09</td>\n",
       "      <td>57</td>\n",
       "      <td>3872258917</td>\n",
       "      <td>658</td>\n",
       "    </tr>\n",
       "    <tr>\n",
       "      <th>1</th>\n",
       "      <td>435108</td>\n",
       "      <td>944</td>\n",
       "      <td>2.0</td>\n",
       "      <td>2280.0</td>\n",
       "      <td>3.0</td>\n",
       "      <td>1080.0</td>\n",
       "      <td>1.0</td>\n",
       "      <td>704</td>\n",
       "      <td>6.0</td>\n",
       "      <td>8.0</td>\n",
       "      <td>221</td>\n",
       "      <td>1606824</td>\n",
       "      <td>2019-06-05 20:53:56</td>\n",
       "      <td>3</td>\n",
       "      <td>3.767902e+09</td>\n",
       "      <td>23</td>\n",
       "      <td>129322164</td>\n",
       "      <td>943</td>\n",
       "    </tr>\n",
       "    <tr>\n",
       "      <th>2</th>\n",
       "      <td>0</td>\n",
       "      <td>1106</td>\n",
       "      <td>1.0</td>\n",
       "      <td>NaN</td>\n",
       "      <td>NaN</td>\n",
       "      <td>NaN</td>\n",
       "      <td>NaN</td>\n",
       "      <td>39</td>\n",
       "      <td>2.0</td>\n",
       "      <td>5.0</td>\n",
       "      <td>1562</td>\n",
       "      <td>1774642</td>\n",
       "      <td>2019-06-04 10:07:42</td>\n",
       "      <td>0</td>\n",
       "      <td>4.546387e+08</td>\n",
       "      <td>30</td>\n",
       "      <td>4226678391</td>\n",
       "      <td>411</td>\n",
       "    </tr>\n",
       "    <tr>\n",
       "      <th>3</th>\n",
       "      <td>451504</td>\n",
       "      <td>761</td>\n",
       "      <td>1.0</td>\n",
       "      <td>1344.0</td>\n",
       "      <td>NaN</td>\n",
       "      <td>720.0</td>\n",
       "      <td>NaN</td>\n",
       "      <td>54</td>\n",
       "      <td>2.0</td>\n",
       "      <td>7.0</td>\n",
       "      <td>9</td>\n",
       "      <td>1742535</td>\n",
       "      <td>2019-06-05 01:03:22</td>\n",
       "      <td>0</td>\n",
       "      <td>1.507623e+09</td>\n",
       "      <td>65</td>\n",
       "      <td>3355419572</td>\n",
       "      <td>848</td>\n",
       "    </tr>\n",
       "    <tr>\n",
       "      <th>4</th>\n",
       "      <td>0</td>\n",
       "      <td>1001</td>\n",
       "      <td>1.0</td>\n",
       "      <td>665.0</td>\n",
       "      <td>NaN</td>\n",
       "      <td>320.0</td>\n",
       "      <td>1.0</td>\n",
       "      <td>29</td>\n",
       "      <td>5.0</td>\n",
       "      <td>8.0</td>\n",
       "      <td>4</td>\n",
       "      <td>1689686</td>\n",
       "      <td>2019-06-05 08:15:54</td>\n",
       "      <td>0</td>\n",
       "      <td>4.116351e+09</td>\n",
       "      <td>148</td>\n",
       "      <td>2644467751</td>\n",
       "      <td>411</td>\n",
       "    </tr>\n",
       "  </tbody>\n",
       "</table>\n",
       "</div>"
      ],
      "text/plain": [
       "   android_id  apptype  carrier  dev_height  dev_ppi  dev_width  lan  \\\n",
       "0      317625     1181      1.0      2196.0      2.0     1080.0  1.0   \n",
       "1      435108      944      2.0      2280.0      3.0     1080.0  1.0   \n",
       "2           0     1106      1.0         NaN      NaN        NaN  NaN   \n",
       "3      451504      761      1.0      1344.0      NaN      720.0  NaN   \n",
       "4           0     1001      1.0       665.0      NaN      320.0  1.0   \n",
       "\n",
       "   media_id  ntt  osv  package      sid            timestamp  version  \\\n",
       "0       639  2.0  8.0      188  1440682  2019-06-07 09:42:30        7   \n",
       "1       704  6.0  8.0      221  1606824  2019-06-05 20:53:56        3   \n",
       "2        39  2.0  5.0     1562  1774642  2019-06-04 10:07:42        0   \n",
       "3        54  2.0  7.0        9  1742535  2019-06-05 01:03:22        0   \n",
       "4        29  5.0  8.0        4  1689686  2019-06-05 08:15:54        0   \n",
       "\n",
       "       fea_hash  location   fea1_hash  cus_type  \n",
       "0  1.672224e+09        57  3872258917       658  \n",
       "1  3.767902e+09        23   129322164       943  \n",
       "2  4.546387e+08        30  4226678391       411  \n",
       "3  1.507623e+09        65  3355419572       848  \n",
       "4  4.116351e+09       148  2644467751       411  "
      ]
     },
     "execution_count": 3,
     "metadata": {},
     "output_type": "execute_result"
    }
   ],
   "source": [
    "test1 = pd.read_hdf('../input/test1.h5')\n",
    "test1.head()"
   ]
  },
  {
   "cell_type": "markdown",
   "metadata": {},
   "source": [
    "## EDA"
   ]
  },
  {
   "cell_type": "markdown",
   "metadata": {},
   "source": [
    "### 全局探索\n",
    "\n",
    "\n",
    "字段 | 类型 | 说明 | 处理方式\n",
    "---|---|--- | ---\n",
    "sid | string | 样本id | 不处理\n",
    "package | string | 媒体信息，包名 | 1950个取值，暂不处理（不好处理）\n",
    "version | string | 媒体信息，app版本 | 13个取值，提取到版本号\n",
    "android_id | string | 媒体信息，对外广告位ID | 362258个取值，均值编码\n",
    "media_id | string | 媒体信息，对外媒体ID，284个取值 | 284个取值，均值编码\n",
    "apptype | int | 媒体信息，app所属分类 | 89个取值，均值编码\n",
    "timestamp | bigint | 请求到达服务时间，单位ms | 时间点\n",
    "location | int | 用户地理位置编码（精确到城市） | 332个取值，均值编码\n",
    "fea_hash | int | 用户特征编码 | 402980个取值，不处理\n",
    "fea1_hash | int | 用户特征编码 | 4959个取值，不处理\n",
    "cus_type | int | 用户特征编码 | 58个取值，不处理\n",
    "ntt | int | 网络类型 0-未知, 1-有线网, 2-WIFI, 3-蜂窝网络未知, 4-2G, 5-3G, 6–4G | 独热编码\n",
    "carrier | string | 设备使用的运营商 0-未知, 46000-移动, 46001-联通, 46003-电信 | 独热编码\n",
    "os | string | 操作系统，默认为android | 取值全为安卓，删除特征\n",
    "osv | string | 操作系统版本 | 提取到版本号，11个取值\n",
    "lan | string | 设备采用的语言，默认为中文 | 10个取值，独热编码\n",
    "dev_height | int | 设备高 | 不处理\n",
    "dev_width | int | 设备宽 | 不处理\n",
    "dev_ppi | int | 屏幕分辨率 | 不处理"
   ]
  },
  {
   "cell_type": "markdown",
   "metadata": {},
   "source": [
    "#### train数据集探索"
   ]
  },
  {
   "cell_type": "markdown",
   "metadata": {},
   "source": [
    "1. train数据集由50000行19列组成"
   ]
  },
  {
   "cell_type": "code",
   "execution_count": 4,
   "metadata": {
    "ExecuteTime": {
     "end_time": "2020-06-10T15:03:37.153682Z",
     "start_time": "2020-06-10T15:03:37.145686Z"
    }
   },
   "outputs": [
    {
     "data": {
      "text/plain": [
       "(500000, 19)"
      ]
     },
     "execution_count": 4,
     "metadata": {},
     "output_type": "execute_result"
    }
   ],
   "source": [
    "train.shape"
   ]
  },
  {
   "cell_type": "markdown",
   "metadata": {
    "ExecuteTime": {
     "end_time": "2020-06-06T11:17:12.270015Z",
     "start_time": "2020-06-06T11:17:12.257008Z"
    }
   },
   "source": [
    "2. 所有的sid都不相同"
   ]
  },
  {
   "cell_type": "code",
   "execution_count": 5,
   "metadata": {
    "ExecuteTime": {
     "end_time": "2020-06-10T15:03:37.249633Z",
     "start_time": "2020-06-10T15:03:37.156680Z"
    }
   },
   "outputs": [
    {
     "data": {
      "text/plain": [
       "500000"
      ]
     },
     "execution_count": 5,
     "metadata": {},
     "output_type": "execute_result"
    }
   ],
   "source": [
    "train['sid'].nunique()"
   ]
  },
  {
   "cell_type": "markdown",
   "metadata": {
    "ExecuteTime": {
     "end_time": "2020-06-06T11:17:12.274002Z",
     "start_time": "2020-06-06T11:17:09.762Z"
    }
   },
   "source": [
    "3. 样本经过采样处理"
   ]
  },
  {
   "cell_type": "code",
   "execution_count": 6,
   "metadata": {
    "ExecuteTime": {
     "end_time": "2020-06-10T15:03:37.265619Z",
     "start_time": "2020-06-10T15:03:37.253626Z"
    }
   },
   "outputs": [
    {
     "data": {
      "text/plain": [
       "0.48448"
      ]
     },
     "execution_count": 6,
     "metadata": {},
     "output_type": "execute_result"
    }
   ],
   "source": [
    "train['label'].mean()"
   ]
  },
  {
   "cell_type": "markdown",
   "metadata": {},
   "source": [
    "4. train数据集有x个数值型，x个object类型"
   ]
  },
  {
   "cell_type": "code",
   "execution_count": 7,
   "metadata": {
    "ExecuteTime": {
     "end_time": "2020-06-10T15:03:37.583437Z",
     "start_time": "2020-06-10T15:03:37.268617Z"
    }
   },
   "outputs": [
    {
     "name": "stdout",
     "output_type": "stream",
     "text": [
      "<class 'pandas.core.frame.DataFrame'>\n",
      "Int64Index: 500000 entries, 0 to 499999\n",
      "Data columns (total 19 columns):\n",
      "android_id    500000 non-null int32\n",
      "apptype       500000 non-null int16\n",
      "carrier       435093 non-null float64\n",
      "dev_height    392986 non-null float16\n",
      "dev_ppi       116709 non-null float16\n",
      "dev_width     392989 non-null float16\n",
      "label         500000 non-null int8\n",
      "lan           316720 non-null float64\n",
      "media_id      500000 non-null int16\n",
      "ntt           479383 non-null float16\n",
      "osv           493439 non-null float64\n",
      "package       500000 non-null int16\n",
      "sid           500000 non-null int32\n",
      "timestamp     500000 non-null object\n",
      "version       500000 non-null int64\n",
      "fea_hash      499910 non-null float64\n",
      "location      500000 non-null int16\n",
      "fea1_hash     500000 non-null int64\n",
      "cus_type      500000 non-null int16\n",
      "dtypes: float16(4), float64(4), int16(5), int32(2), int64(2), int8(1), object(1)\n",
      "memory usage: 43.4+ MB\n"
     ]
    }
   ],
   "source": [
    "train.info()"
   ]
  },
  {
   "cell_type": "markdown",
   "metadata": {},
   "source": [
    "5. 特征类型\n",
    "\n",
    "(1) ID特征（1个）：sid\n",
    "\n",
    "(2) 类别特征（12个）：label, android_id, apptype, carrier, lan, media_id, ntt, osv, version, location, cus_type, package\n",
    "\n",
    "(3) 数值特征（5个）：dev_height, dev_ppi, dev_width, fea_hash, fea1_hash, \n",
    "\n",
    "(4) 时间特征（1个）：timestamp"
   ]
  },
  {
   "cell_type": "code",
   "execution_count": 8,
   "metadata": {
    "ExecuteTime": {
     "end_time": "2020-06-10T15:03:42.580955Z",
     "start_time": "2020-06-10T15:03:37.587434Z"
    }
   },
   "outputs": [
    {
     "data": {
      "text/plain": [
       "android_id    362258\n",
       "apptype           89\n",
       "carrier            3\n",
       "dev_height       746\n",
       "dev_ppi           91\n",
       "dev_width        324\n",
       "label              2\n",
       "lan               10\n",
       "media_id         284\n",
       "ntt                7\n",
       "osv               11\n",
       "package         1950\n",
       "sid           500000\n",
       "timestamp       4615\n",
       "version           13\n",
       "fea_hash      402890\n",
       "location         332\n",
       "fea1_hash       4959\n",
       "cus_type          58\n",
       "dtype: int64"
      ]
     },
     "execution_count": 8,
     "metadata": {},
     "output_type": "execute_result"
    }
   ],
   "source": [
    "train.nunique()"
   ]
  },
  {
   "cell_type": "markdown",
   "metadata": {},
   "source": [
    "**结论**\n",
    "1. train数据集由50000行19列组成\n",
    "\n",
    "2. train中所有的id是不一样的\n",
    "\n",
    "3. label经过采样，所以点击率是平衡的（无需进行特殊的处理）\n",
    "\n",
    "4. 训练集和测试集中的id存在4个id是有交互的\n",
    "\n",
    "5. 特征类型\n",
    "\n",
    "(1) ID特征（1个）：sid\n",
    "\n",
    "(2) 类别特征（12个）：label, android_id, apptype, carrier, lan, media_id, ntt, osv, version, location, cus_type, package\n",
    "\n",
    "(3) 数值特征（5个）：dev_height, dev_ppi, dev_width, fea_hash, fea1_hash, \n",
    "\n",
    "(4) 时间特征（1个）：timestamp"
   ]
  },
  {
   "cell_type": "markdown",
   "metadata": {
    "ExecuteTime": {
     "start_time": "2020-06-07T02:43:41.150Z"
    }
   },
   "source": [
    "#### 测试集探索"
   ]
  },
  {
   "cell_type": "markdown",
   "metadata": {},
   "source": [
    "1. 测试集中有18个特征，少了label特征"
   ]
  },
  {
   "cell_type": "code",
   "execution_count": 9,
   "metadata": {
    "ExecuteTime": {
     "end_time": "2020-06-10T15:03:44.041882Z",
     "start_time": "2020-06-10T15:03:42.585951Z"
    }
   },
   "outputs": [
    {
     "data": {
      "text/plain": [
       "android_id    110483\n",
       "apptype           78\n",
       "carrier            3\n",
       "dev_height       560\n",
       "dev_ppi           57\n",
       "dev_width        221\n",
       "lan                7\n",
       "media_id         248\n",
       "ntt                6\n",
       "osv                9\n",
       "package         1293\n",
       "sid           150000\n",
       "timestamp       4615\n",
       "version           13\n",
       "fea_hash      135061\n",
       "location         332\n",
       "fea1_hash       2159\n",
       "cus_type          58\n",
       "dtype: int64"
      ]
     },
     "execution_count": 9,
     "metadata": {},
     "output_type": "execute_result"
    }
   ],
   "source": [
    "test1.nunique()"
   ]
  },
  {
   "cell_type": "markdown",
   "metadata": {},
   "source": [
    "2. 测试集中的类别特征有很多在训练集中可能没有出现过，那么这些类别特征在预测时将会较难预测,所以我们得重点观察此类数据.\n",
    "\n",
    "    - 我们发现例如media_id，package特征中,都出现了很多测试集中出现但是在训练集中并未出现的特征.所以后续处理的时候可以考虑特殊的编码。"
   ]
  },
  {
   "cell_type": "code",
   "execution_count": 10,
   "metadata": {
    "ExecuteTime": {
     "end_time": "2020-06-10T15:03:44.570264Z",
     "start_time": "2020-06-10T15:03:44.044881Z"
    }
   },
   "outputs": [
    {
     "name": "stdout",
     "output_type": "stream",
     "text": [
      "There are about 11 categorical features.\n",
      "android_id 105700\n",
      "apptype 0\n",
      "carrier 1\n",
      "lan 1\n",
      "media_id 8\n",
      "ntt 1\n",
      "osv 1\n",
      "version 0\n",
      "location 0\n",
      "cus_type 0\n",
      "package 152\n"
     ]
    }
   ],
   "source": [
    "cate_cols = ['android_id', 'apptype', 'carrier', 'lan', 'media_id', 'ntt', 'osv',\n",
    "             'version', 'location', 'cus_type', 'package']\n",
    "\n",
    "print('There are about {} categorical features.'.format(len(cate_cols)))\n",
    "\n",
    "for col in cate_cols:\n",
    "    print(col, len(set(test1[col].unique()) - set(train[col].unique())))"
   ]
  },
  {
   "cell_type": "code",
   "execution_count": 11,
   "metadata": {
    "ExecuteTime": {
     "end_time": "2020-06-10T15:03:44.586254Z",
     "start_time": "2020-06-10T15:03:44.573261Z"
    }
   },
   "outputs": [
    {
     "data": {
      "text/plain": [
       "array([ 1.,  2., nan,  3.])"
      ]
     },
     "execution_count": 11,
     "metadata": {},
     "output_type": "execute_result"
    }
   ],
   "source": [
    "test1['carrier'].unique()"
   ]
  },
  {
   "cell_type": "code",
   "execution_count": 12,
   "metadata": {
    "ExecuteTime": {
     "end_time": "2020-06-10T15:03:44.609242Z",
     "start_time": "2020-06-10T15:03:44.590252Z"
    }
   },
   "outputs": [
    {
     "data": {
      "text/plain": [
       "array([ 1., nan,  2.,  3.])"
      ]
     },
     "execution_count": 12,
     "metadata": {},
     "output_type": "execute_result"
    }
   ],
   "source": [
    "train['carrier'].unique()"
   ]
  },
  {
   "cell_type": "markdown",
   "metadata": {},
   "source": [
    "3. android_id有很多交互"
   ]
  },
  {
   "cell_type": "code",
   "execution_count": 13,
   "metadata": {
    "ExecuteTime": {
     "end_time": "2020-06-10T15:03:44.920063Z",
     "start_time": "2020-06-10T15:03:44.615238Z"
    }
   },
   "outputs": [
    {
     "data": {
      "text/plain": [
       "357475"
      ]
     },
     "execution_count": 13,
     "metadata": {},
     "output_type": "execute_result"
    }
   ],
   "source": [
    "len(set(train['android_id']) - set(test1['android_id']))"
   ]
  },
  {
   "cell_type": "markdown",
   "metadata": {},
   "source": [
    "4. 时间特征"
   ]
  },
  {
   "cell_type": "code",
   "execution_count": 14,
   "metadata": {
    "ExecuteTime": {
     "end_time": "2020-06-10T15:03:46.103821Z",
     "start_time": "2020-06-10T15:03:44.923063Z"
    }
   },
   "outputs": [
    {
     "data": {
      "text/plain": [
       "444074    2019-06-10 00:00:14\n",
       "272932    2019-06-10 00:00:14\n",
       "182118    2019-06-10 00:00:14\n",
       "39805     2019-06-10 00:00:14\n",
       "26651     2019-06-10 00:00:14\n",
       "Name: timestamp, dtype: object"
      ]
     },
     "execution_count": 14,
     "metadata": {},
     "output_type": "execute_result"
    }
   ],
   "source": [
    "train['timestamp'].sort_values(ascending=True)[-5:]"
   ]
  },
  {
   "cell_type": "code",
   "execution_count": 15,
   "metadata": {
    "ExecuteTime": {
     "end_time": "2020-06-10T15:03:46.397653Z",
     "start_time": "2020-06-10T15:03:46.106820Z"
    }
   },
   "outputs": [
    {
     "data": {
      "text/plain": [
       "145991    2019-06-03 00:00:48\n",
       "7518      2019-06-03 00:00:48\n",
       "38849     2019-06-03 00:00:48\n",
       "136392    2019-06-03 00:00:48\n",
       "103170    2019-06-03 00:00:48\n",
       "Name: timestamp, dtype: object"
      ]
     },
     "execution_count": 15,
     "metadata": {},
     "output_type": "execute_result"
    }
   ],
   "source": [
    "test1['timestamp'].sort_values(ascending=True)[:5]"
   ]
  },
  {
   "cell_type": "markdown",
   "metadata": {},
   "source": [
    "**结论**\n",
    "1. 测试集有18个特征\n",
    "2. 测试集中的类别特征有很多在训练集中没有出现过\n",
    "3. 训练集和测试集中的android_id有很多交互"
   ]
  },
  {
   "cell_type": "code",
   "execution_count": 16,
   "metadata": {
    "ExecuteTime": {
     "end_time": "2020-06-10T15:03:47.266513Z",
     "start_time": "2020-06-10T15:03:46.400652Z"
    }
   },
   "outputs": [
    {
     "name": "stdout",
     "output_type": "stream",
     "text": [
      "android_id\n",
      "apptype\n",
      "carrier\n",
      "lan\n",
      "media_id\n",
      "ntt\n",
      "osv\n",
      "version\n",
      "location\n",
      "cus_type\n",
      "package\n"
     ]
    },
    {
     "data": {
      "text/html": [
       "<div>\n",
       "<style scoped>\n",
       "    .dataframe tbody tr th:only-of-type {\n",
       "        vertical-align: middle;\n",
       "    }\n",
       "\n",
       "    .dataframe tbody tr th {\n",
       "        vertical-align: top;\n",
       "    }\n",
       "\n",
       "    .dataframe thead th {\n",
       "        text-align: right;\n",
       "    }\n",
       "</style>\n",
       "<table border=\"1\" class=\"dataframe\">\n",
       "  <thead>\n",
       "    <tr style=\"text-align: right;\">\n",
       "      <th></th>\n",
       "      <th>android_id</th>\n",
       "      <th>apptype</th>\n",
       "      <th>carrier</th>\n",
       "      <th>cus_type</th>\n",
       "      <th>dev_height</th>\n",
       "      <th>dev_ppi</th>\n",
       "      <th>dev_width</th>\n",
       "      <th>fea1_hash</th>\n",
       "      <th>fea_hash</th>\n",
       "      <th>label</th>\n",
       "      <th>lan</th>\n",
       "      <th>location</th>\n",
       "      <th>media_id</th>\n",
       "      <th>ntt</th>\n",
       "      <th>osv</th>\n",
       "      <th>package</th>\n",
       "      <th>sid</th>\n",
       "      <th>timestamp</th>\n",
       "      <th>version</th>\n",
       "      <th>android_id_cnt_code</th>\n",
       "      <th>apptype_cnt_code</th>\n",
       "      <th>carrier_cnt_code</th>\n",
       "      <th>lan_cnt_code</th>\n",
       "      <th>media_id_cnt_code</th>\n",
       "      <th>ntt_cnt_code</th>\n",
       "      <th>osv_cnt_code</th>\n",
       "      <th>version_cnt_code</th>\n",
       "      <th>location_cnt_code</th>\n",
       "      <th>cus_type_cnt_code</th>\n",
       "      <th>package_cnt_code</th>\n",
       "    </tr>\n",
       "  </thead>\n",
       "  <tbody>\n",
       "    <tr>\n",
       "      <th>0</th>\n",
       "      <td>316361</td>\n",
       "      <td>1199</td>\n",
       "      <td>1.0</td>\n",
       "      <td>601</td>\n",
       "      <td>NaN</td>\n",
       "      <td>NaN</td>\n",
       "      <td>NaN</td>\n",
       "      <td>2329670524</td>\n",
       "      <td>2.135019e+09</td>\n",
       "      <td>1.0</td>\n",
       "      <td>NaN</td>\n",
       "      <td>0</td>\n",
       "      <td>104</td>\n",
       "      <td>6.0</td>\n",
       "      <td>9.0</td>\n",
       "      <td>18</td>\n",
       "      <td>1438873</td>\n",
       "      <td>2019-06-07 15:32:01</td>\n",
       "      <td>8</td>\n",
       "      <td>1</td>\n",
       "      <td>30101</td>\n",
       "      <td>467100.0</td>\n",
       "      <td>NaN</td>\n",
       "      <td>28952</td>\n",
       "      <td>151423.0</td>\n",
       "      <td>136210.0</td>\n",
       "      <td>49758</td>\n",
       "      <td>15158</td>\n",
       "      <td>8358</td>\n",
       "      <td>29017</td>\n",
       "    </tr>\n",
       "    <tr>\n",
       "      <th>1</th>\n",
       "      <td>135939</td>\n",
       "      <td>893</td>\n",
       "      <td>NaN</td>\n",
       "      <td>1000</td>\n",
       "      <td>NaN</td>\n",
       "      <td>NaN</td>\n",
       "      <td>NaN</td>\n",
       "      <td>2864801071</td>\n",
       "      <td>2.782306e+09</td>\n",
       "      <td>1.0</td>\n",
       "      <td>NaN</td>\n",
       "      <td>1</td>\n",
       "      <td>19</td>\n",
       "      <td>6.0</td>\n",
       "      <td>8.0</td>\n",
       "      <td>0</td>\n",
       "      <td>1185582</td>\n",
       "      <td>2019-06-08 19:40:40</td>\n",
       "      <td>4</td>\n",
       "      <td>1</td>\n",
       "      <td>35336</td>\n",
       "      <td>NaN</td>\n",
       "      <td>NaN</td>\n",
       "      <td>11405</td>\n",
       "      <td>151423.0</td>\n",
       "      <td>258952.0</td>\n",
       "      <td>31535</td>\n",
       "      <td>7138</td>\n",
       "      <td>8374</td>\n",
       "      <td>171090</td>\n",
       "    </tr>\n",
       "    <tr>\n",
       "      <th>2</th>\n",
       "      <td>399254</td>\n",
       "      <td>821</td>\n",
       "      <td>NaN</td>\n",
       "      <td>696</td>\n",
       "      <td>760.0</td>\n",
       "      <td>NaN</td>\n",
       "      <td>360.0</td>\n",
       "      <td>628911675</td>\n",
       "      <td>1.392806e+09</td>\n",
       "      <td>1.0</td>\n",
       "      <td>NaN</td>\n",
       "      <td>2</td>\n",
       "      <td>559</td>\n",
       "      <td>NaN</td>\n",
       "      <td>8.0</td>\n",
       "      <td>0</td>\n",
       "      <td>1555716</td>\n",
       "      <td>2019-06-06 23:59:13</td>\n",
       "      <td>0</td>\n",
       "      <td>1</td>\n",
       "      <td>1976</td>\n",
       "      <td>NaN</td>\n",
       "      <td>NaN</td>\n",
       "      <td>369</td>\n",
       "      <td>NaN</td>\n",
       "      <td>258952.0</td>\n",
       "      <td>380269</td>\n",
       "      <td>1990</td>\n",
       "      <td>8381</td>\n",
       "      <td>171090</td>\n",
       "    </tr>\n",
       "    <tr>\n",
       "      <th>3</th>\n",
       "      <td>68983</td>\n",
       "      <td>1004</td>\n",
       "      <td>1.0</td>\n",
       "      <td>753</td>\n",
       "      <td>2214.0</td>\n",
       "      <td>NaN</td>\n",
       "      <td>1080.0</td>\n",
       "      <td>1283809327</td>\n",
       "      <td>3.562553e+09</td>\n",
       "      <td>0.0</td>\n",
       "      <td>NaN</td>\n",
       "      <td>3</td>\n",
       "      <td>129</td>\n",
       "      <td>2.0</td>\n",
       "      <td>8.0</td>\n",
       "      <td>0</td>\n",
       "      <td>1093419</td>\n",
       "      <td>2019-06-09 09:00:12</td>\n",
       "      <td>0</td>\n",
       "      <td>1</td>\n",
       "      <td>21698</td>\n",
       "      <td>467100.0</td>\n",
       "      <td>NaN</td>\n",
       "      <td>2737</td>\n",
       "      <td>414135.0</td>\n",
       "      <td>258952.0</td>\n",
       "      <td>380269</td>\n",
       "      <td>1959</td>\n",
       "      <td>8364</td>\n",
       "      <td>171090</td>\n",
       "    </tr>\n",
       "    <tr>\n",
       "      <th>4</th>\n",
       "      <td>288999</td>\n",
       "      <td>1076</td>\n",
       "      <td>1.0</td>\n",
       "      <td>582</td>\n",
       "      <td>2280.0</td>\n",
       "      <td>NaN</td>\n",
       "      <td>1080.0</td>\n",
       "      <td>1510695983</td>\n",
       "      <td>2.364522e+09</td>\n",
       "      <td>1.0</td>\n",
       "      <td>1.0</td>\n",
       "      <td>4</td>\n",
       "      <td>64</td>\n",
       "      <td>2.0</td>\n",
       "      <td>8.0</td>\n",
       "      <td>0</td>\n",
       "      <td>1400089</td>\n",
       "      <td>2019-06-07 08:28:13</td>\n",
       "      <td>5</td>\n",
       "      <td>1</td>\n",
       "      <td>52146</td>\n",
       "      <td>467100.0</td>\n",
       "      <td>410820.0</td>\n",
       "      <td>52135</td>\n",
       "      <td>414135.0</td>\n",
       "      <td>258952.0</td>\n",
       "      <td>73461</td>\n",
       "      <td>7268</td>\n",
       "      <td>8421</td>\n",
       "      <td>171090</td>\n",
       "    </tr>\n",
       "  </tbody>\n",
       "</table>\n",
       "</div>"
      ],
      "text/plain": [
       "   android_id  apptype  carrier  cus_type  dev_height  dev_ppi  dev_width  \\\n",
       "0      316361     1199      1.0       601         NaN      NaN        NaN   \n",
       "1      135939      893      NaN      1000         NaN      NaN        NaN   \n",
       "2      399254      821      NaN       696       760.0      NaN      360.0   \n",
       "3       68983     1004      1.0       753      2214.0      NaN     1080.0   \n",
       "4      288999     1076      1.0       582      2280.0      NaN     1080.0   \n",
       "\n",
       "    fea1_hash      fea_hash  label  lan  location  media_id  ntt  osv  \\\n",
       "0  2329670524  2.135019e+09    1.0  NaN         0       104  6.0  9.0   \n",
       "1  2864801071  2.782306e+09    1.0  NaN         1        19  6.0  8.0   \n",
       "2   628911675  1.392806e+09    1.0  NaN         2       559  NaN  8.0   \n",
       "3  1283809327  3.562553e+09    0.0  NaN         3       129  2.0  8.0   \n",
       "4  1510695983  2.364522e+09    1.0  1.0         4        64  2.0  8.0   \n",
       "\n",
       "   package      sid            timestamp  version  android_id_cnt_code  \\\n",
       "0       18  1438873  2019-06-07 15:32:01        8                    1   \n",
       "1        0  1185582  2019-06-08 19:40:40        4                    1   \n",
       "2        0  1555716  2019-06-06 23:59:13        0                    1   \n",
       "3        0  1093419  2019-06-09 09:00:12        0                    1   \n",
       "4        0  1400089  2019-06-07 08:28:13        5                    1   \n",
       "\n",
       "   apptype_cnt_code  carrier_cnt_code  lan_cnt_code  media_id_cnt_code  \\\n",
       "0             30101          467100.0           NaN              28952   \n",
       "1             35336               NaN           NaN              11405   \n",
       "2              1976               NaN           NaN                369   \n",
       "3             21698          467100.0           NaN               2737   \n",
       "4             52146          467100.0      410820.0              52135   \n",
       "\n",
       "   ntt_cnt_code  osv_cnt_code  version_cnt_code  location_cnt_code  \\\n",
       "0      151423.0      136210.0             49758              15158   \n",
       "1      151423.0      258952.0             31535               7138   \n",
       "2           NaN      258952.0            380269               1990   \n",
       "3      414135.0      258952.0            380269               1959   \n",
       "4      414135.0      258952.0             73461               7268   \n",
       "\n",
       "   cus_type_cnt_code  package_cnt_code  \n",
       "0               8358             29017  \n",
       "1               8374            171090  \n",
       "2               8381            171090  \n",
       "3               8364            171090  \n",
       "4               8421            171090  "
      ]
     },
     "execution_count": 16,
     "metadata": {},
     "output_type": "execute_result"
    }
   ],
   "source": [
    "data = pd.concat([train, test1])\n",
    "\n",
    "# count编码\n",
    "for col in cate_cols: \n",
    "    print(col)\n",
    "    data[col + '_cnt_code'] = data[col].map(data[col].value_counts()) \n",
    "\n",
    "data.head()"
   ]
  },
  {
   "cell_type": "code",
   "execution_count": 17,
   "metadata": {
    "ExecuteTime": {
     "end_time": "2020-06-10T15:03:47.275506Z",
     "start_time": "2020-06-10T15:03:47.269511Z"
    }
   },
   "outputs": [
    {
     "name": "stdout",
     "output_type": "stream",
     "text": [
      "android_id_cnt_code\n",
      "apptype_cnt_code\n",
      "carrier_cnt_code\n",
      "lan_cnt_code\n",
      "media_id_cnt_code\n",
      "ntt_cnt_code\n",
      "osv_cnt_code\n",
      "version_cnt_code\n",
      "location_cnt_code\n",
      "cus_type_cnt_code\n",
      "package_cnt_code\n"
     ]
    }
   ],
   "source": [
    "for col in cate_cols: \n",
    "    print(col + '_cnt_code') "
   ]
  },
  {
   "cell_type": "code",
   "execution_count": 18,
   "metadata": {
    "ExecuteTime": {
     "end_time": "2020-06-10T15:03:47.295506Z",
     "start_time": "2020-06-10T15:03:47.278505Z"
    }
   },
   "outputs": [
    {
     "data": {
      "text/plain": [
       "149995    2019-06-08 09:22:26\n",
       "149996    2019-06-07 07:16:08\n",
       "149997    2019-06-09 08:49:17\n",
       "149998    2019-06-05 06:37:36\n",
       "149999    2019-06-08 07:22:17\n",
       "Name: timestamp, dtype: object"
      ]
     },
     "execution_count": 18,
     "metadata": {},
     "output_type": "execute_result"
    }
   ],
   "source": [
    "data['timestamp'].tail()"
   ]
  },
  {
   "cell_type": "code",
   "execution_count": 19,
   "metadata": {
    "ExecuteTime": {
     "end_time": "2020-06-10T15:03:49.813299Z",
     "start_time": "2020-06-10T15:03:47.299492Z"
    }
   },
   "outputs": [],
   "source": [
    "data['day'] = data['timestamp'].astype('datetime64').dt.day\n",
    "data['hour'] = data['timestamp'].astype('datetime64').dt.hour\n",
    "data['dayofweek'] = data['timestamp'].astype('datetime64').dt.dayofweek"
   ]
  },
  {
   "cell_type": "code",
   "execution_count": 20,
   "metadata": {
    "ExecuteTime": {
     "end_time": "2020-06-10T15:03:49.829292Z",
     "start_time": "2020-06-10T15:03:49.817298Z"
    }
   },
   "outputs": [],
   "source": [
    "lbl = LabelEncoder()\n",
    "\n",
    "for col in data.columns:\n",
    "    if col not in ['sid', 'timestamp'] and data[col].dtypes == 'O':\n",
    "        print(col)\n",
    "        data[col + '_labelencode'] = lbl.fit_transform(data[col].values)"
   ]
  },
  {
   "cell_type": "code",
   "execution_count": 21,
   "metadata": {
    "ExecuteTime": {
     "end_time": "2020-06-10T15:03:50.564039Z",
     "start_time": "2020-06-10T15:03:49.834290Z"
    }
   },
   "outputs": [
    {
     "name": "stdout",
     "output_type": "stream",
     "text": [
      "<class 'pandas.core.frame.DataFrame'>\n",
      "Int64Index: 650000 entries, 0 to 149999\n",
      "Data columns (total 33 columns):\n",
      "android_id             650000 non-null int32\n",
      "apptype                650000 non-null int16\n",
      "carrier                565574 non-null float64\n",
      "cus_type               650000 non-null int16\n",
      "dev_height             510787 non-null float16\n",
      "dev_ppi                151376 non-null float16\n",
      "dev_width              510790 non-null float16\n",
      "fea1_hash              650000 non-null int64\n",
      "fea_hash               649887 non-null float64\n",
      "label                  500000 non-null float64\n",
      "lan                    411171 non-null float64\n",
      "location               650000 non-null int16\n",
      "media_id               650000 non-null int16\n",
      "ntt                    623201 non-null float16\n",
      "osv                    641446 non-null float64\n",
      "package                650000 non-null int16\n",
      "sid                    650000 non-null int32\n",
      "timestamp              650000 non-null object\n",
      "version                650000 non-null int64\n",
      "android_id_cnt_code    650000 non-null int64\n",
      "apptype_cnt_code       650000 non-null int64\n",
      "carrier_cnt_code       565574 non-null float64\n",
      "lan_cnt_code           411171 non-null float64\n",
      "media_id_cnt_code      650000 non-null int64\n",
      "ntt_cnt_code           623201 non-null float64\n",
      "osv_cnt_code           641446 non-null float64\n",
      "version_cnt_code       650000 non-null int64\n",
      "location_cnt_code      650000 non-null int64\n",
      "cus_type_cnt_code      650000 non-null int64\n",
      "package_cnt_code       650000 non-null int64\n",
      "day                    650000 non-null int64\n",
      "hour                   650000 non-null int64\n",
      "dayofweek              650000 non-null int64\n",
      "dtypes: float16(4), float64(9), int16(5), int32(2), int64(12), object(1)\n",
      "memory usage: 130.2+ MB\n"
     ]
    }
   ],
   "source": [
    "data.info()"
   ]
  },
  {
   "cell_type": "code",
   "execution_count": 22,
   "metadata": {
    "ExecuteTime": {
     "end_time": "2020-06-10T15:03:50.701959Z",
     "start_time": "2020-06-10T15:03:50.567039Z"
    }
   },
   "outputs": [],
   "source": [
    "train_data = data.iloc[:train.shape[0], :]\n",
    "test1_data = data.iloc[train.shape[0]:, :]\n",
    "\n",
    "train_data_y = train_data['label']\n",
    "train_data_X = train_data.drop('label', axis=1)\n",
    "\n",
    "test1_data_y = test1_data['label']\n",
    "test1_data_X = test1_data.drop('label', axis=1)"
   ]
  },
  {
   "cell_type": "code",
   "execution_count": 23,
   "metadata": {
    "ExecuteTime": {
     "end_time": "2020-06-10T15:03:51.082741Z",
     "start_time": "2020-06-10T15:03:50.709956Z"
    }
   },
   "outputs": [],
   "source": [
    "train_data_X_train, train_data_X_val, train_data_y_train, train_data_y_val = train_test_split(train_data_X, train_data_y, random_state=2020)"
   ]
  },
  {
   "cell_type": "code",
   "execution_count": 24,
   "metadata": {
    "ExecuteTime": {
     "end_time": "2020-06-10T15:03:51.092738Z",
     "start_time": "2020-06-10T15:03:51.086741Z"
    }
   },
   "outputs": [],
   "source": [
    "train_cols = [i for i in train_data_X_train.columns if i not in ['sid'] and train_data_X_train[i].dtypes != 'O']"
   ]
  },
  {
   "cell_type": "code",
   "execution_count": 25,
   "metadata": {
    "ExecuteTime": {
     "end_time": "2020-06-10T15:03:51.201677Z",
     "start_time": "2020-06-10T15:03:51.095736Z"
    }
   },
   "outputs": [],
   "source": [
    "lgb_train = lgb.Dataset(train_data_X_train[train_cols], train_data_y_train)\n",
    "lgb_eval = lgb.Dataset(train_data_X_val[train_cols], train_data_y_val, reference=lgb_train)"
   ]
  },
  {
   "cell_type": "code",
   "execution_count": 26,
   "metadata": {
    "ExecuteTime": {
     "end_time": "2020-06-10T15:05:35.009781Z",
     "start_time": "2020-06-10T15:03:51.211670Z"
    }
   },
   "outputs": [
    {
     "name": "stdout",
     "output_type": "stream",
     "text": [
      "Start training...\n",
      "Training until validation scores don't improve for 50 rounds\n",
      "[10]\ttraining's binary_logloss: 0.516779\tvalid_1's binary_logloss: 0.517261\n",
      "[20]\ttraining's binary_logloss: 0.434422\tvalid_1's binary_logloss: 0.435166\n",
      "[30]\ttraining's binary_logloss: 0.390927\tvalid_1's binary_logloss: 0.391878\n",
      "[40]\ttraining's binary_logloss: 0.365483\tvalid_1's binary_logloss: 0.366658\n",
      "[50]\ttraining's binary_logloss: 0.349748\tvalid_1's binary_logloss: 0.351118\n",
      "[60]\ttraining's binary_logloss: 0.33981\tvalid_1's binary_logloss: 0.341368\n",
      "[70]\ttraining's binary_logloss: 0.332956\tvalid_1's binary_logloss: 0.334718\n",
      "[80]\ttraining's binary_logloss: 0.327545\tvalid_1's binary_logloss: 0.329372\n",
      "[90]\ttraining's binary_logloss: 0.323452\tvalid_1's binary_logloss: 0.325414\n",
      "[100]\ttraining's binary_logloss: 0.32035\tvalid_1's binary_logloss: 0.322412\n",
      "[110]\ttraining's binary_logloss: 0.317621\tvalid_1's binary_logloss: 0.319755\n",
      "[120]\ttraining's binary_logloss: 0.315384\tvalid_1's binary_logloss: 0.317635\n",
      "[130]\ttraining's binary_logloss: 0.313627\tvalid_1's binary_logloss: 0.316025\n",
      "[140]\ttraining's binary_logloss: 0.31191\tvalid_1's binary_logloss: 0.314472\n",
      "[150]\ttraining's binary_logloss: 0.310747\tvalid_1's binary_logloss: 0.313414\n",
      "[160]\ttraining's binary_logloss: 0.309546\tvalid_1's binary_logloss: 0.312361\n",
      "[170]\ttraining's binary_logloss: 0.308357\tvalid_1's binary_logloss: 0.311304\n",
      "[180]\ttraining's binary_logloss: 0.307264\tvalid_1's binary_logloss: 0.310374\n",
      "[190]\ttraining's binary_logloss: 0.306379\tvalid_1's binary_logloss: 0.309681\n",
      "[200]\ttraining's binary_logloss: 0.305573\tvalid_1's binary_logloss: 0.309078\n",
      "[210]\ttraining's binary_logloss: 0.304899\tvalid_1's binary_logloss: 0.308575\n",
      "[220]\ttraining's binary_logloss: 0.304274\tvalid_1's binary_logloss: 0.308128\n",
      "[230]\ttraining's binary_logloss: 0.303639\tvalid_1's binary_logloss: 0.307698\n",
      "[240]\ttraining's binary_logloss: 0.303013\tvalid_1's binary_logloss: 0.307196\n",
      "[250]\ttraining's binary_logloss: 0.302429\tvalid_1's binary_logloss: 0.30683\n",
      "[260]\ttraining's binary_logloss: 0.301954\tvalid_1's binary_logloss: 0.30659\n",
      "[270]\ttraining's binary_logloss: 0.301427\tvalid_1's binary_logloss: 0.306301\n",
      "[280]\ttraining's binary_logloss: 0.300839\tvalid_1's binary_logloss: 0.305905\n",
      "[290]\ttraining's binary_logloss: 0.30033\tvalid_1's binary_logloss: 0.305594\n",
      "[300]\ttraining's binary_logloss: 0.299868\tvalid_1's binary_logloss: 0.305311\n",
      "[310]\ttraining's binary_logloss: 0.299479\tvalid_1's binary_logloss: 0.305141\n",
      "[320]\ttraining's binary_logloss: 0.299136\tvalid_1's binary_logloss: 0.305032\n",
      "[330]\ttraining's binary_logloss: 0.2987\tvalid_1's binary_logloss: 0.304874\n",
      "[340]\ttraining's binary_logloss: 0.298252\tvalid_1's binary_logloss: 0.304632\n",
      "[350]\ttraining's binary_logloss: 0.297864\tvalid_1's binary_logloss: 0.30449\n",
      "[360]\ttraining's binary_logloss: 0.297443\tvalid_1's binary_logloss: 0.304347\n",
      "[370]\ttraining's binary_logloss: 0.296888\tvalid_1's binary_logloss: 0.303986\n",
      "[380]\ttraining's binary_logloss: 0.296477\tvalid_1's binary_logloss: 0.303789\n",
      "[390]\ttraining's binary_logloss: 0.295858\tvalid_1's binary_logloss: 0.303356\n",
      "[400]\ttraining's binary_logloss: 0.295487\tvalid_1's binary_logloss: 0.303221\n",
      "[410]\ttraining's binary_logloss: 0.295073\tvalid_1's binary_logloss: 0.302982\n",
      "[420]\ttraining's binary_logloss: 0.294698\tvalid_1's binary_logloss: 0.302801\n",
      "[430]\ttraining's binary_logloss: 0.294385\tvalid_1's binary_logloss: 0.30273\n",
      "[440]\ttraining's binary_logloss: 0.293995\tvalid_1's binary_logloss: 0.302517\n",
      "[450]\ttraining's binary_logloss: 0.293512\tvalid_1's binary_logloss: 0.302262\n",
      "[460]\ttraining's binary_logloss: 0.293177\tvalid_1's binary_logloss: 0.302167\n",
      "[470]\ttraining's binary_logloss: 0.292873\tvalid_1's binary_logloss: 0.302073\n",
      "[480]\ttraining's binary_logloss: 0.292397\tvalid_1's binary_logloss: 0.301813\n",
      "[490]\ttraining's binary_logloss: 0.292003\tvalid_1's binary_logloss: 0.301646\n",
      "[500]\ttraining's binary_logloss: 0.291723\tvalid_1's binary_logloss: 0.301575\n",
      "[510]\ttraining's binary_logloss: 0.291435\tvalid_1's binary_logloss: 0.301554\n",
      "[520]\ttraining's binary_logloss: 0.291139\tvalid_1's binary_logloss: 0.301533\n",
      "[530]\ttraining's binary_logloss: 0.29077\tvalid_1's binary_logloss: 0.301422\n",
      "[540]\ttraining's binary_logloss: 0.290404\tvalid_1's binary_logloss: 0.301272\n",
      "[550]\ttraining's binary_logloss: 0.290111\tvalid_1's binary_logloss: 0.301187\n",
      "[560]\ttraining's binary_logloss: 0.289856\tvalid_1's binary_logloss: 0.301182\n",
      "[570]\ttraining's binary_logloss: 0.289578\tvalid_1's binary_logloss: 0.30116\n",
      "[580]\ttraining's binary_logloss: 0.289302\tvalid_1's binary_logloss: 0.301091\n",
      "[590]\ttraining's binary_logloss: 0.28897\tvalid_1's binary_logloss: 0.30095\n",
      "[600]\ttraining's binary_logloss: 0.288687\tvalid_1's binary_logloss: 0.300873\n",
      "[610]\ttraining's binary_logloss: 0.288424\tvalid_1's binary_logloss: 0.300853\n",
      "[620]\ttraining's binary_logloss: 0.288173\tvalid_1's binary_logloss: 0.300813\n",
      "[630]\ttraining's binary_logloss: 0.287823\tvalid_1's binary_logloss: 0.300658\n",
      "[640]\ttraining's binary_logloss: 0.287547\tvalid_1's binary_logloss: 0.300595\n",
      "[650]\ttraining's binary_logloss: 0.287153\tvalid_1's binary_logloss: 0.300408\n",
      "[660]\ttraining's binary_logloss: 0.286871\tvalid_1's binary_logloss: 0.300315\n",
      "[670]\ttraining's binary_logloss: 0.286555\tvalid_1's binary_logloss: 0.300263\n",
      "[680]\ttraining's binary_logloss: 0.286328\tvalid_1's binary_logloss: 0.300268\n",
      "[690]\ttraining's binary_logloss: 0.285971\tvalid_1's binary_logloss: 0.30006\n",
      "[700]\ttraining's binary_logloss: 0.285731\tvalid_1's binary_logloss: 0.300075\n",
      "[710]\ttraining's binary_logloss: 0.285522\tvalid_1's binary_logloss: 0.300073\n",
      "[720]\ttraining's binary_logloss: 0.285269\tvalid_1's binary_logloss: 0.300046\n",
      "[730]\ttraining's binary_logloss: 0.284883\tvalid_1's binary_logloss: 0.299819\n",
      "[740]\ttraining's binary_logloss: 0.284603\tvalid_1's binary_logloss: 0.299799\n",
      "[750]\ttraining's binary_logloss: 0.284309\tvalid_1's binary_logloss: 0.299704\n",
      "[760]\ttraining's binary_logloss: 0.284035\tvalid_1's binary_logloss: 0.299669\n",
      "[770]\ttraining's binary_logloss: 0.283743\tvalid_1's binary_logloss: 0.299603\n",
      "[780]\ttraining's binary_logloss: 0.283493\tvalid_1's binary_logloss: 0.29957\n",
      "[790]\ttraining's binary_logloss: 0.283304\tvalid_1's binary_logloss: 0.29957\n",
      "[800]\ttraining's binary_logloss: 0.283007\tvalid_1's binary_logloss: 0.299465\n",
      "[810]\ttraining's binary_logloss: 0.282766\tvalid_1's binary_logloss: 0.299495\n",
      "[820]\ttraining's binary_logloss: 0.282488\tvalid_1's binary_logloss: 0.299489\n",
      "[830]\ttraining's binary_logloss: 0.28223\tvalid_1's binary_logloss: 0.299439\n",
      "[840]\ttraining's binary_logloss: 0.281996\tvalid_1's binary_logloss: 0.299431\n",
      "[850]\ttraining's binary_logloss: 0.281753\tvalid_1's binary_logloss: 0.299379\n",
      "[860]\ttraining's binary_logloss: 0.281504\tvalid_1's binary_logloss: 0.299337\n",
      "[870]\ttraining's binary_logloss: 0.281267\tvalid_1's binary_logloss: 0.299276\n",
      "[880]\ttraining's binary_logloss: 0.280996\tvalid_1's binary_logloss: 0.299195\n",
      "[890]\ttraining's binary_logloss: 0.280705\tvalid_1's binary_logloss: 0.299081\n",
      "[900]\ttraining's binary_logloss: 0.280476\tvalid_1's binary_logloss: 0.299078\n",
      "[910]\ttraining's binary_logloss: 0.280148\tvalid_1's binary_logloss: 0.298976\n",
      "[920]\ttraining's binary_logloss: 0.279958\tvalid_1's binary_logloss: 0.298978\n",
      "[930]\ttraining's binary_logloss: 0.279805\tvalid_1's binary_logloss: 0.298974\n",
      "[940]\ttraining's binary_logloss: 0.279578\tvalid_1's binary_logloss: 0.298932\n",
      "[950]\ttraining's binary_logloss: 0.279313\tvalid_1's binary_logloss: 0.29889\n",
      "[960]\ttraining's binary_logloss: 0.279079\tvalid_1's binary_logloss: 0.298867\n",
      "[970]\ttraining's binary_logloss: 0.278713\tvalid_1's binary_logloss: 0.298687\n",
      "[980]\ttraining's binary_logloss: 0.27847\tvalid_1's binary_logloss: 0.298659\n",
      "[990]\ttraining's binary_logloss: 0.278216\tvalid_1's binary_logloss: 0.298673\n",
      "[1000]\ttraining's binary_logloss: 0.277988\tvalid_1's binary_logloss: 0.298642\n",
      "[1010]\ttraining's binary_logloss: 0.277725\tvalid_1's binary_logloss: 0.298549\n",
      "[1020]\ttraining's binary_logloss: 0.277505\tvalid_1's binary_logloss: 0.298541\n",
      "[1030]\ttraining's binary_logloss: 0.277292\tvalid_1's binary_logloss: 0.298558\n",
      "[1040]\ttraining's binary_logloss: 0.277039\tvalid_1's binary_logloss: 0.298536\n",
      "[1050]\ttraining's binary_logloss: 0.276778\tvalid_1's binary_logloss: 0.298478\n",
      "[1060]\ttraining's binary_logloss: 0.276558\tvalid_1's binary_logloss: 0.298454\n"
     ]
    },
    {
     "name": "stdout",
     "output_type": "stream",
     "text": [
      "[1070]\ttraining's binary_logloss: 0.276321\tvalid_1's binary_logloss: 0.298399\n",
      "[1080]\ttraining's binary_logloss: 0.276107\tvalid_1's binary_logloss: 0.298387\n",
      "[1090]\ttraining's binary_logloss: 0.275889\tvalid_1's binary_logloss: 0.298375\n",
      "[1100]\ttraining's binary_logloss: 0.275607\tvalid_1's binary_logloss: 0.298317\n",
      "[1110]\ttraining's binary_logloss: 0.27535\tvalid_1's binary_logloss: 0.298274\n",
      "[1120]\ttraining's binary_logloss: 0.275077\tvalid_1's binary_logloss: 0.298178\n",
      "[1130]\ttraining's binary_logloss: 0.27486\tvalid_1's binary_logloss: 0.298173\n",
      "[1140]\ttraining's binary_logloss: 0.274639\tvalid_1's binary_logloss: 0.298143\n",
      "[1150]\ttraining's binary_logloss: 0.274412\tvalid_1's binary_logloss: 0.29813\n",
      "[1160]\ttraining's binary_logloss: 0.274071\tvalid_1's binary_logloss: 0.297982\n",
      "[1170]\ttraining's binary_logloss: 0.273828\tvalid_1's binary_logloss: 0.297931\n",
      "[1180]\ttraining's binary_logloss: 0.27362\tvalid_1's binary_logloss: 0.297928\n",
      "[1190]\ttraining's binary_logloss: 0.273385\tvalid_1's binary_logloss: 0.297889\n",
      "[1200]\ttraining's binary_logloss: 0.273166\tvalid_1's binary_logloss: 0.297871\n",
      "[1210]\ttraining's binary_logloss: 0.272928\tvalid_1's binary_logloss: 0.297809\n",
      "[1220]\ttraining's binary_logloss: 0.272737\tvalid_1's binary_logloss: 0.297804\n",
      "[1230]\ttraining's binary_logloss: 0.272496\tvalid_1's binary_logloss: 0.297743\n",
      "[1240]\ttraining's binary_logloss: 0.272279\tvalid_1's binary_logloss: 0.29775\n",
      "[1250]\ttraining's binary_logloss: 0.272069\tvalid_1's binary_logloss: 0.297744\n",
      "[1260]\ttraining's binary_logloss: 0.271845\tvalid_1's binary_logloss: 0.297708\n",
      "[1270]\ttraining's binary_logloss: 0.27162\tvalid_1's binary_logloss: 0.297678\n",
      "[1280]\ttraining's binary_logloss: 0.271377\tvalid_1's binary_logloss: 0.297645\n",
      "[1290]\ttraining's binary_logloss: 0.271159\tvalid_1's binary_logloss: 0.297654\n",
      "[1300]\ttraining's binary_logloss: 0.27094\tvalid_1's binary_logloss: 0.297646\n",
      "[1310]\ttraining's binary_logloss: 0.270657\tvalid_1's binary_logloss: 0.297549\n",
      "[1320]\ttraining's binary_logloss: 0.270461\tvalid_1's binary_logloss: 0.29755\n",
      "[1330]\ttraining's binary_logloss: 0.270247\tvalid_1's binary_logloss: 0.29755\n",
      "[1340]\ttraining's binary_logloss: 0.270029\tvalid_1's binary_logloss: 0.297559\n",
      "[1350]\ttraining's binary_logloss: 0.269743\tvalid_1's binary_logloss: 0.297472\n",
      "[1360]\ttraining's binary_logloss: 0.269531\tvalid_1's binary_logloss: 0.297475\n",
      "[1370]\ttraining's binary_logloss: 0.269351\tvalid_1's binary_logloss: 0.297474\n",
      "[1380]\ttraining's binary_logloss: 0.269188\tvalid_1's binary_logloss: 0.297466\n",
      "[1390]\ttraining's binary_logloss: 0.268962\tvalid_1's binary_logloss: 0.297485\n",
      "[1400]\ttraining's binary_logloss: 0.268737\tvalid_1's binary_logloss: 0.297476\n",
      "[1410]\ttraining's binary_logloss: 0.268525\tvalid_1's binary_logloss: 0.297449\n",
      "[1420]\ttraining's binary_logloss: 0.268362\tvalid_1's binary_logloss: 0.297446\n",
      "[1430]\ttraining's binary_logloss: 0.268163\tvalid_1's binary_logloss: 0.297471\n",
      "[1440]\ttraining's binary_logloss: 0.267939\tvalid_1's binary_logloss: 0.297456\n",
      "[1450]\ttraining's binary_logloss: 0.2677\tvalid_1's binary_logloss: 0.297439\n",
      "[1460]\ttraining's binary_logloss: 0.26749\tvalid_1's binary_logloss: 0.297434\n",
      "[1470]\ttraining's binary_logloss: 0.267316\tvalid_1's binary_logloss: 0.297447\n",
      "[1480]\ttraining's binary_logloss: 0.267028\tvalid_1's binary_logloss: 0.297395\n",
      "[1490]\ttraining's binary_logloss: 0.26678\tvalid_1's binary_logloss: 0.29736\n",
      "[1500]\ttraining's binary_logloss: 0.266588\tvalid_1's binary_logloss: 0.29737\n",
      "[1510]\ttraining's binary_logloss: 0.26637\tvalid_1's binary_logloss: 0.297365\n",
      "[1520]\ttraining's binary_logloss: 0.266191\tvalid_1's binary_logloss: 0.297375\n",
      "[1530]\ttraining's binary_logloss: 0.265989\tvalid_1's binary_logloss: 0.297347\n",
      "[1540]\ttraining's binary_logloss: 0.265772\tvalid_1's binary_logloss: 0.297337\n",
      "[1550]\ttraining's binary_logloss: 0.265599\tvalid_1's binary_logloss: 0.297384\n",
      "[1560]\ttraining's binary_logloss: 0.265358\tvalid_1's binary_logloss: 0.297366\n",
      "[1570]\ttraining's binary_logloss: 0.26516\tvalid_1's binary_logloss: 0.297363\n",
      "[1580]\ttraining's binary_logloss: 0.264939\tvalid_1's binary_logloss: 0.297323\n",
      "[1590]\ttraining's binary_logloss: 0.264736\tvalid_1's binary_logloss: 0.297344\n",
      "[1600]\ttraining's binary_logloss: 0.264542\tvalid_1's binary_logloss: 0.297321\n",
      "[1610]\ttraining's binary_logloss: 0.264352\tvalid_1's binary_logloss: 0.29734\n",
      "[1620]\ttraining's binary_logloss: 0.264188\tvalid_1's binary_logloss: 0.297337\n",
      "[1630]\ttraining's binary_logloss: 0.263975\tvalid_1's binary_logloss: 0.29732\n",
      "[1640]\ttraining's binary_logloss: 0.263767\tvalid_1's binary_logloss: 0.297316\n",
      "[1650]\ttraining's binary_logloss: 0.263569\tvalid_1's binary_logloss: 0.297325\n",
      "[1660]\ttraining's binary_logloss: 0.263395\tvalid_1's binary_logloss: 0.297326\n",
      "[1670]\ttraining's binary_logloss: 0.263172\tvalid_1's binary_logloss: 0.297323\n",
      "[1680]\ttraining's binary_logloss: 0.262995\tvalid_1's binary_logloss: 0.297343\n",
      "Early stopping, best iteration is:\n",
      "[1638]\ttraining's binary_logloss: 0.263805\tvalid_1's binary_logloss: 0.297313\n"
     ]
    }
   ],
   "source": [
    "params = {'task': 'train',\n",
    "          'boosting_type': 'gbdt',\n",
    "          'objective': 'binary',\n",
    "          'metric': {'binary_logloss'},\n",
    "          'num_leaves': 31,\n",
    "          'learning_rate': 0.05,\n",
    "          'feature_fraction': 0.95,\n",
    "          'bagging_fraction': 0.85,\n",
    "          'bagging_freq': 5, \n",
    "          'min_data_in_leaf':15}\n",
    "\n",
    "print('Start training...')\n",
    "\n",
    "gbm_val_1 = lgb.train(params,\n",
    "                      lgb_train,\n",
    "                      num_boost_round=2000,\n",
    "                      valid_sets=[lgb_train, lgb_eval],\n",
    "                      early_stopping_rounds=50,\n",
    "                      verbose_eval=10)"
   ]
  },
  {
   "cell_type": "code",
   "execution_count": 27,
   "metadata": {
    "ExecuteTime": {
     "end_time": "2020-06-10T15:05:42.836321Z",
     "start_time": "2020-06-10T15:05:35.012779Z"
    }
   },
   "outputs": [
    {
     "name": "stdout",
     "output_type": "stream",
     "text": [
      "acc:  0.8865\n",
      "auc:  0.9420873650760124\n"
     ]
    }
   ],
   "source": [
    "train_data_X_val['prob'] = gbm_val_1.predict(train_data_X_val[train_cols])\n",
    "train_data_X_val['pred'] = np.where(train_data_X_val['prob'] > 0.5, 1, 0)\n",
    "\n",
    "acc = np.round(accuracy_score(train_data_y_val, train_data_X_val['pred']), 4)\n",
    "auc = roc_auc_score(train_data_y_val, train_data_X_val['prob'])\n",
    "\n",
    "print('acc: ', acc)\n",
    "print('auc: ', auc)"
   ]
  },
  {
   "cell_type": "code",
   "execution_count": 28,
   "metadata": {
    "ExecuteTime": {
     "end_time": "2020-06-10T15:07:45.385502Z",
     "start_time": "2020-06-10T15:05:42.839320Z"
    }
   },
   "outputs": [
    {
     "name": "stdout",
     "output_type": "stream",
     "text": [
      "Start training...\n",
      "Done\n"
     ]
    }
   ],
   "source": [
    "lgb_train = lgb.Dataset(train_data_X[train_cols], train_data_y)   \n",
    "\n",
    "print('Start training...')\n",
    "\n",
    "gbm_1  = lgb.train(params,\n",
    "                   lgb_train,\n",
    "                   num_boost_round=gbm_val_1.best_iteration + 20,\n",
    "                   verbose_eval=10)\n",
    "print('Done')"
   ]
  },
  {
   "cell_type": "code",
   "execution_count": 29,
   "metadata": {
    "ExecuteTime": {
     "end_time": "2020-06-10T15:07:56.941606Z",
     "start_time": "2020-06-10T15:07:45.393497Z"
    }
   },
   "outputs": [],
   "source": [
    "test1['label'] = np.where(gbm_1.predict(test1_data_X[train_cols]) > 0.5, 1, 0)\n",
    "\n",
    "test1[['sid', 'label']].to_csv('../sub/sub_{}_{}.csv'.format(time.strftime('%Y%m%d'), acc), index=False)"
   ]
  },
  {
   "cell_type": "code",
   "execution_count": null,
   "metadata": {},
   "outputs": [],
   "source": []
  }
 ],
 "metadata": {
  "kernelspec": {
   "display_name": "Python 3",
   "language": "python",
   "name": "python3"
  },
  "language_info": {
   "codemirror_mode": {
    "name": "ipython",
    "version": 3
   },
   "file_extension": ".py",
   "mimetype": "text/x-python",
   "name": "python",
   "nbconvert_exporter": "python",
   "pygments_lexer": "ipython3",
   "version": "3.7.3"
  },
  "toc": {
   "base_numbering": 1,
   "nav_menu": {},
   "number_sections": true,
   "sideBar": true,
   "skip_h1_title": false,
   "title_cell": "Table of Contents",
   "title_sidebar": "Contents",
   "toc_cell": false,
   "toc_position": {},
   "toc_section_display": true,
   "toc_window_display": false
  },
  "varInspector": {
   "cols": {
    "lenName": 16,
    "lenType": 16,
    "lenVar": 40
   },
   "kernels_config": {
    "python": {
     "delete_cmd_postfix": "",
     "delete_cmd_prefix": "del ",
     "library": "var_list.py",
     "varRefreshCmd": "print(var_dic_list())"
    },
    "r": {
     "delete_cmd_postfix": ") ",
     "delete_cmd_prefix": "rm(",
     "library": "var_list.r",
     "varRefreshCmd": "cat(var_dic_list()) "
    }
   },
   "types_to_exclude": [
    "module",
    "function",
    "builtin_function_or_method",
    "instance",
    "_Feature"
   ],
   "window_display": false
  }
 },
 "nbformat": 4,
 "nbformat_minor": 4
}
