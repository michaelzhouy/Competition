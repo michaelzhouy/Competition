{
 "cells": [
  {
   "cell_type": "code",
   "execution_count": 1,
   "metadata": {
    "ExecuteTime": {
     "end_time": "2020-07-09T15:20:20.962200Z",
     "start_time": "2020-07-09T15:20:18.664809Z"
    }
   },
   "outputs": [
    {
     "name": "stderr",
     "output_type": "stream",
     "text": [
      "C:\\Users\\z\\Anaconda3\\lib\\site-packages\\statsmodels\\tools\\_testing.py:19: FutureWarning: pandas.util.testing is deprecated. Use the functions in the public API at pandas.testing instead.\n",
      "  import pandas.util.testing as tm\n"
     ]
    }
   ],
   "source": [
    "import numpy as np\n",
    "import pandas as pd\n",
    "import matplotlib.pyplot as plt\n",
    "import seaborn as sns\n",
    "from sklearn.model_selection import train_test_split\n",
    "from sklearn.metrics import accuracy_score, roc_auc_score\n",
    "from sklearn.preprocessing import LabelEncoder\n",
    "import lightgbm as lgb\n",
    "from scipy.misc import derivative\n",
    "import time\n",
    "import gc\n",
    "import warnings\n",
    "\n",
    "%matplotlib inline\n",
    "warnings.filterwarnings('ignore')\n",
    "pd.set_option('max_columns', None)\n",
    "pd.set_option('max_rows', None)"
   ]
  },
  {
   "cell_type": "code",
   "execution_count": 2,
   "metadata": {
    "ExecuteTime": {
     "end_time": "2020-07-09T15:20:21.307988Z",
     "start_time": "2020-07-09T15:20:20.964186Z"
    }
   },
   "outputs": [
    {
     "data": {
      "text/html": [
       "<div>\n",
       "<style scoped>\n",
       "    .dataframe tbody tr th:only-of-type {\n",
       "        vertical-align: middle;\n",
       "    }\n",
       "\n",
       "    .dataframe tbody tr th {\n",
       "        vertical-align: top;\n",
       "    }\n",
       "\n",
       "    .dataframe thead th {\n",
       "        text-align: right;\n",
       "    }\n",
       "</style>\n",
       "<table border=\"1\" class=\"dataframe\">\n",
       "  <thead>\n",
       "    <tr style=\"text-align: right;\">\n",
       "      <th></th>\n",
       "      <th>android_id</th>\n",
       "      <th>apptype</th>\n",
       "      <th>carrier</th>\n",
       "      <th>dev_height</th>\n",
       "      <th>dev_ppi</th>\n",
       "      <th>dev_width</th>\n",
       "      <th>label</th>\n",
       "      <th>lan</th>\n",
       "      <th>media_id</th>\n",
       "      <th>ntt</th>\n",
       "      <th>osv</th>\n",
       "      <th>package</th>\n",
       "      <th>sid</th>\n",
       "      <th>timestamp</th>\n",
       "      <th>version</th>\n",
       "      <th>fea_hash</th>\n",
       "      <th>location</th>\n",
       "      <th>fea1_hash</th>\n",
       "      <th>cus_type</th>\n",
       "    </tr>\n",
       "  </thead>\n",
       "  <tbody>\n",
       "    <tr>\n",
       "      <th>0</th>\n",
       "      <td>316361</td>\n",
       "      <td>1199</td>\n",
       "      <td>1.0</td>\n",
       "      <td>NaN</td>\n",
       "      <td>NaN</td>\n",
       "      <td>NaN</td>\n",
       "      <td>1</td>\n",
       "      <td>NaN</td>\n",
       "      <td>104</td>\n",
       "      <td>6.0</td>\n",
       "      <td>9.0</td>\n",
       "      <td>18</td>\n",
       "      <td>1438873</td>\n",
       "      <td>2019-06-07 15:32:01</td>\n",
       "      <td>8</td>\n",
       "      <td>2.135019e+09</td>\n",
       "      <td>0</td>\n",
       "      <td>2329670524</td>\n",
       "      <td>601</td>\n",
       "    </tr>\n",
       "    <tr>\n",
       "      <th>1</th>\n",
       "      <td>135939</td>\n",
       "      <td>893</td>\n",
       "      <td>NaN</td>\n",
       "      <td>NaN</td>\n",
       "      <td>NaN</td>\n",
       "      <td>NaN</td>\n",
       "      <td>1</td>\n",
       "      <td>NaN</td>\n",
       "      <td>19</td>\n",
       "      <td>6.0</td>\n",
       "      <td>8.0</td>\n",
       "      <td>0</td>\n",
       "      <td>1185582</td>\n",
       "      <td>2019-06-08 19:40:40</td>\n",
       "      <td>4</td>\n",
       "      <td>2.782306e+09</td>\n",
       "      <td>1</td>\n",
       "      <td>2864801071</td>\n",
       "      <td>1000</td>\n",
       "    </tr>\n",
       "    <tr>\n",
       "      <th>2</th>\n",
       "      <td>399254</td>\n",
       "      <td>821</td>\n",
       "      <td>NaN</td>\n",
       "      <td>760.0</td>\n",
       "      <td>NaN</td>\n",
       "      <td>360.0</td>\n",
       "      <td>1</td>\n",
       "      <td>NaN</td>\n",
       "      <td>559</td>\n",
       "      <td>NaN</td>\n",
       "      <td>8.0</td>\n",
       "      <td>0</td>\n",
       "      <td>1555716</td>\n",
       "      <td>2019-06-06 23:59:13</td>\n",
       "      <td>0</td>\n",
       "      <td>1.392806e+09</td>\n",
       "      <td>2</td>\n",
       "      <td>628911675</td>\n",
       "      <td>696</td>\n",
       "    </tr>\n",
       "    <tr>\n",
       "      <th>3</th>\n",
       "      <td>68983</td>\n",
       "      <td>1004</td>\n",
       "      <td>1.0</td>\n",
       "      <td>2214.0</td>\n",
       "      <td>NaN</td>\n",
       "      <td>1080.0</td>\n",
       "      <td>0</td>\n",
       "      <td>NaN</td>\n",
       "      <td>129</td>\n",
       "      <td>2.0</td>\n",
       "      <td>8.0</td>\n",
       "      <td>0</td>\n",
       "      <td>1093419</td>\n",
       "      <td>2019-06-09 09:00:12</td>\n",
       "      <td>0</td>\n",
       "      <td>3.562553e+09</td>\n",
       "      <td>3</td>\n",
       "      <td>1283809327</td>\n",
       "      <td>753</td>\n",
       "    </tr>\n",
       "    <tr>\n",
       "      <th>4</th>\n",
       "      <td>288999</td>\n",
       "      <td>1076</td>\n",
       "      <td>1.0</td>\n",
       "      <td>2280.0</td>\n",
       "      <td>NaN</td>\n",
       "      <td>1080.0</td>\n",
       "      <td>1</td>\n",
       "      <td>1.0</td>\n",
       "      <td>64</td>\n",
       "      <td>2.0</td>\n",
       "      <td>8.0</td>\n",
       "      <td>0</td>\n",
       "      <td>1400089</td>\n",
       "      <td>2019-06-07 08:28:13</td>\n",
       "      <td>5</td>\n",
       "      <td>2.364522e+09</td>\n",
       "      <td>4</td>\n",
       "      <td>1510695983</td>\n",
       "      <td>582</td>\n",
       "    </tr>\n",
       "  </tbody>\n",
       "</table>\n",
       "</div>"
      ],
      "text/plain": [
       "   android_id  apptype  carrier  dev_height  dev_ppi  dev_width  label  lan  \\\n",
       "0      316361     1199      1.0         NaN      NaN        NaN      1  NaN   \n",
       "1      135939      893      NaN         NaN      NaN        NaN      1  NaN   \n",
       "2      399254      821      NaN       760.0      NaN      360.0      1  NaN   \n",
       "3       68983     1004      1.0      2214.0      NaN     1080.0      0  NaN   \n",
       "4      288999     1076      1.0      2280.0      NaN     1080.0      1  1.0   \n",
       "\n",
       "   media_id  ntt  osv  package      sid            timestamp  version  \\\n",
       "0       104  6.0  9.0       18  1438873  2019-06-07 15:32:01        8   \n",
       "1        19  6.0  8.0        0  1185582  2019-06-08 19:40:40        4   \n",
       "2       559  NaN  8.0        0  1555716  2019-06-06 23:59:13        0   \n",
       "3       129  2.0  8.0        0  1093419  2019-06-09 09:00:12        0   \n",
       "4        64  2.0  8.0        0  1400089  2019-06-07 08:28:13        5   \n",
       "\n",
       "       fea_hash  location   fea1_hash  cus_type  \n",
       "0  2.135019e+09         0  2329670524       601  \n",
       "1  2.782306e+09         1  2864801071      1000  \n",
       "2  1.392806e+09         2   628911675       696  \n",
       "3  3.562553e+09         3  1283809327       753  \n",
       "4  2.364522e+09         4  1510695983       582  "
      ]
     },
     "execution_count": 2,
     "metadata": {},
     "output_type": "execute_result"
    }
   ],
   "source": [
    "train = pd.read_hdf('../input/train.h5')\n",
    "train.head()"
   ]
  },
  {
   "cell_type": "code",
   "execution_count": 3,
   "metadata": {
    "ExecuteTime": {
     "end_time": "2020-07-09T15:20:21.391941Z",
     "start_time": "2020-07-09T15:20:21.310988Z"
    }
   },
   "outputs": [
    {
     "name": "stdout",
     "output_type": "stream",
     "text": [
      "<class 'pandas.core.frame.DataFrame'>\n",
      "Int64Index: 500000 entries, 0 to 499999\n",
      "Data columns (total 19 columns):\n",
      " #   Column      Non-Null Count   Dtype  \n",
      "---  ------      --------------   -----  \n",
      " 0   android_id  500000 non-null  int32  \n",
      " 1   apptype     500000 non-null  int16  \n",
      " 2   carrier     435093 non-null  float64\n",
      " 3   dev_height  392986 non-null  float16\n",
      " 4   dev_ppi     116709 non-null  float16\n",
      " 5   dev_width   392989 non-null  float16\n",
      " 6   label       500000 non-null  int8   \n",
      " 7   lan         316720 non-null  float64\n",
      " 8   media_id    500000 non-null  int16  \n",
      " 9   ntt         479383 non-null  float16\n",
      " 10  osv         493439 non-null  float64\n",
      " 11  package     500000 non-null  int16  \n",
      " 12  sid         500000 non-null  int32  \n",
      " 13  timestamp   500000 non-null  object \n",
      " 14  version     500000 non-null  int64  \n",
      " 15  fea_hash    499910 non-null  float64\n",
      " 16  location    500000 non-null  int16  \n",
      " 17  fea1_hash   500000 non-null  int64  \n",
      " 18  cus_type    500000 non-null  int16  \n",
      "dtypes: float16(4), float64(4), int16(5), int32(2), int64(2), int8(1), object(1)\n",
      "memory usage: 43.4+ MB\n"
     ]
    }
   ],
   "source": [
    "train.info()"
   ]
  },
  {
   "cell_type": "code",
   "execution_count": 4,
   "metadata": {
    "ExecuteTime": {
     "end_time": "2020-07-09T15:20:21.519869Z",
     "start_time": "2020-07-09T15:20:21.395938Z"
    }
   },
   "outputs": [
    {
     "data": {
      "text/html": [
       "<div>\n",
       "<style scoped>\n",
       "    .dataframe tbody tr th:only-of-type {\n",
       "        vertical-align: middle;\n",
       "    }\n",
       "\n",
       "    .dataframe tbody tr th {\n",
       "        vertical-align: top;\n",
       "    }\n",
       "\n",
       "    .dataframe thead th {\n",
       "        text-align: right;\n",
       "    }\n",
       "</style>\n",
       "<table border=\"1\" class=\"dataframe\">\n",
       "  <thead>\n",
       "    <tr style=\"text-align: right;\">\n",
       "      <th></th>\n",
       "      <th>android_id</th>\n",
       "      <th>apptype</th>\n",
       "      <th>carrier</th>\n",
       "      <th>dev_height</th>\n",
       "      <th>dev_ppi</th>\n",
       "      <th>dev_width</th>\n",
       "      <th>lan</th>\n",
       "      <th>media_id</th>\n",
       "      <th>ntt</th>\n",
       "      <th>osv</th>\n",
       "      <th>package</th>\n",
       "      <th>sid</th>\n",
       "      <th>timestamp</th>\n",
       "      <th>version</th>\n",
       "      <th>fea_hash</th>\n",
       "      <th>location</th>\n",
       "      <th>fea1_hash</th>\n",
       "      <th>cus_type</th>\n",
       "    </tr>\n",
       "  </thead>\n",
       "  <tbody>\n",
       "    <tr>\n",
       "      <th>0</th>\n",
       "      <td>0</td>\n",
       "      <td>1001</td>\n",
       "      <td>1.0</td>\n",
       "      <td>640.0</td>\n",
       "      <td>NaN</td>\n",
       "      <td>360.0</td>\n",
       "      <td>1.0</td>\n",
       "      <td>29</td>\n",
       "      <td>5.0</td>\n",
       "      <td>8.0</td>\n",
       "      <td>4</td>\n",
       "      <td>1177564</td>\n",
       "      <td>2019-06-08 15:18:31</td>\n",
       "      <td>0.0</td>\n",
       "      <td>3.426912e+09</td>\n",
       "      <td>34</td>\n",
       "      <td>2694799399</td>\n",
       "      <td>411</td>\n",
       "    </tr>\n",
       "    <tr>\n",
       "      <th>1</th>\n",
       "      <td>0</td>\n",
       "      <td>1106</td>\n",
       "      <td>1.0</td>\n",
       "      <td>NaN</td>\n",
       "      <td>NaN</td>\n",
       "      <td>NaN</td>\n",
       "      <td>NaN</td>\n",
       "      <td>39</td>\n",
       "      <td>2.0</td>\n",
       "      <td>8.0</td>\n",
       "      <td>65</td>\n",
       "      <td>1822122</td>\n",
       "      <td>2019-06-04 21:53:18</td>\n",
       "      <td>0.0</td>\n",
       "      <td>1.331186e+09</td>\n",
       "      <td>48</td>\n",
       "      <td>4190764663</td>\n",
       "      <td>411</td>\n",
       "    </tr>\n",
       "    <tr>\n",
       "      <th>2</th>\n",
       "      <td>0</td>\n",
       "      <td>1001</td>\n",
       "      <td>1.0</td>\n",
       "      <td>640.0</td>\n",
       "      <td>NaN</td>\n",
       "      <td>360.0</td>\n",
       "      <td>1.0</td>\n",
       "      <td>29</td>\n",
       "      <td>2.0</td>\n",
       "      <td>6.0</td>\n",
       "      <td>4</td>\n",
       "      <td>1178302</td>\n",
       "      <td>2019-06-08 20:28:43</td>\n",
       "      <td>0.0</td>\n",
       "      <td>1.118061e+09</td>\n",
       "      <td>25</td>\n",
       "      <td>2610913319</td>\n",
       "      <td>411</td>\n",
       "    </tr>\n",
       "    <tr>\n",
       "      <th>3</th>\n",
       "      <td>196009</td>\n",
       "      <td>1001</td>\n",
       "      <td>1.0</td>\n",
       "      <td>2016.0</td>\n",
       "      <td>NaN</td>\n",
       "      <td>1080.0</td>\n",
       "      <td>1.0</td>\n",
       "      <td>29</td>\n",
       "      <td>6.0</td>\n",
       "      <td>7.0</td>\n",
       "      <td>4</td>\n",
       "      <td>1269787</td>\n",
       "      <td>2019-06-08 15:51:17</td>\n",
       "      <td>3.0</td>\n",
       "      <td>3.780086e+09</td>\n",
       "      <td>3</td>\n",
       "      <td>2711576615</td>\n",
       "      <td>905</td>\n",
       "    </tr>\n",
       "    <tr>\n",
       "      <th>4</th>\n",
       "      <td>80444</td>\n",
       "      <td>1076</td>\n",
       "      <td>1.0</td>\n",
       "      <td>2280.0</td>\n",
       "      <td>NaN</td>\n",
       "      <td>1080.0</td>\n",
       "      <td>1.0</td>\n",
       "      <td>64</td>\n",
       "      <td>2.0</td>\n",
       "      <td>9.0</td>\n",
       "      <td>0</td>\n",
       "      <td>1604520</td>\n",
       "      <td>2019-06-05 23:22:29</td>\n",
       "      <td>5.0</td>\n",
       "      <td>1.274342e+09</td>\n",
       "      <td>108</td>\n",
       "      <td>51536943</td>\n",
       "      <td>734</td>\n",
       "    </tr>\n",
       "  </tbody>\n",
       "</table>\n",
       "</div>"
      ],
      "text/plain": [
       "   android_id  apptype  carrier  dev_height  dev_ppi  dev_width  lan  \\\n",
       "0           0     1001      1.0       640.0      NaN      360.0  1.0   \n",
       "1           0     1106      1.0         NaN      NaN        NaN  NaN   \n",
       "2           0     1001      1.0       640.0      NaN      360.0  1.0   \n",
       "3      196009     1001      1.0      2016.0      NaN     1080.0  1.0   \n",
       "4       80444     1076      1.0      2280.0      NaN     1080.0  1.0   \n",
       "\n",
       "   media_id  ntt  osv  package      sid            timestamp  version  \\\n",
       "0        29  5.0  8.0        4  1177564  2019-06-08 15:18:31      0.0   \n",
       "1        39  2.0  8.0       65  1822122  2019-06-04 21:53:18      0.0   \n",
       "2        29  2.0  6.0        4  1178302  2019-06-08 20:28:43      0.0   \n",
       "3        29  6.0  7.0        4  1269787  2019-06-08 15:51:17      3.0   \n",
       "4        64  2.0  9.0        0  1604520  2019-06-05 23:22:29      5.0   \n",
       "\n",
       "       fea_hash  location   fea1_hash  cus_type  \n",
       "0  3.426912e+09        34  2694799399       411  \n",
       "1  1.331186e+09        48  4190764663       411  \n",
       "2  1.118061e+09        25  2610913319       411  \n",
       "3  3.780086e+09         3  2711576615       905  \n",
       "4  1.274342e+09       108    51536943       734  "
      ]
     },
     "execution_count": 4,
     "metadata": {},
     "output_type": "execute_result"
    }
   ],
   "source": [
    "test1 = pd.read_hdf('../input/test2.h5')\n",
    "test1.head()"
   ]
  },
  {
   "cell_type": "code",
   "execution_count": 5,
   "metadata": {
    "ExecuteTime": {
     "end_time": "2020-07-09T15:20:21.552866Z",
     "start_time": "2020-07-09T15:20:21.521867Z"
    }
   },
   "outputs": [
    {
     "name": "stdout",
     "output_type": "stream",
     "text": [
      "<class 'pandas.core.frame.DataFrame'>\n",
      "Int64Index: 150000 entries, 0 to 149999\n",
      "Data columns (total 18 columns):\n",
      " #   Column      Non-Null Count   Dtype  \n",
      "---  ------      --------------   -----  \n",
      " 0   android_id  150000 non-null  int32  \n",
      " 1   apptype     150000 non-null  int16  \n",
      " 2   carrier     130369 non-null  float64\n",
      " 3   dev_height  117568 non-null  float16\n",
      " 4   dev_ppi     34910 non-null   float16\n",
      " 5   dev_width   117571 non-null  float16\n",
      " 6   lan         94563 non-null   float64\n",
      " 7   media_id    150000 non-null  int16  \n",
      " 8   ntt         143774 non-null  float16\n",
      " 9   osv         148095 non-null  float64\n",
      " 10  package     150000 non-null  int16  \n",
      " 11  sid         150000 non-null  int32  \n",
      " 12  timestamp   150000 non-null  object \n",
      " 13  version     149999 non-null  float64\n",
      " 14  fea_hash    149968 non-null  float64\n",
      " 15  location    150000 non-null  int16  \n",
      " 16  fea1_hash   150000 non-null  int64  \n",
      " 17  cus_type    150000 non-null  int16  \n",
      "dtypes: float16(4), float64(5), int16(5), int32(2), int64(1), object(1)\n",
      "memory usage: 12.9+ MB\n"
     ]
    }
   ],
   "source": [
    "test1.info()"
   ]
  },
  {
   "cell_type": "code",
   "execution_count": 6,
   "metadata": {
    "ExecuteTime": {
     "end_time": "2020-07-09T15:20:21.657788Z",
     "start_time": "2020-07-09T15:20:21.554849Z"
    }
   },
   "outputs": [],
   "source": [
    "data = pd.concat([train, test1])"
   ]
  },
  {
   "cell_type": "code",
   "execution_count": 7,
   "metadata": {
    "ExecuteTime": {
     "end_time": "2020-07-09T15:20:21.842681Z",
     "start_time": "2020-07-09T15:20:21.660789Z"
    },
    "scrolled": true
   },
   "outputs": [
    {
     "name": "stdout",
     "output_type": "stream",
     "text": [
      "<class 'pandas.core.frame.DataFrame'>\n",
      "Int64Index: 650000 entries, 0 to 149999\n",
      "Data columns (total 19 columns):\n",
      " #   Column      Non-Null Count   Dtype  \n",
      "---  ------      --------------   -----  \n",
      " 0   android_id  650000 non-null  int32  \n",
      " 1   apptype     650000 non-null  int16  \n",
      " 2   carrier     565462 non-null  float64\n",
      " 3   dev_height  510554 non-null  float16\n",
      " 4   dev_ppi     151619 non-null  float16\n",
      " 5   dev_width   510560 non-null  float16\n",
      " 6   label       500000 non-null  float64\n",
      " 7   lan         411283 non-null  float64\n",
      " 8   media_id    650000 non-null  int16  \n",
      " 9   ntt         623157 non-null  float16\n",
      " 10  osv         641534 non-null  float64\n",
      " 11  package     650000 non-null  int16  \n",
      " 12  sid         650000 non-null  int32  \n",
      " 13  timestamp   650000 non-null  object \n",
      " 14  version     649999 non-null  float64\n",
      " 15  fea_hash    649878 non-null  float64\n",
      " 16  location    650000 non-null  int16  \n",
      " 17  fea1_hash   650000 non-null  int64  \n",
      " 18  cus_type    650000 non-null  int16  \n",
      "dtypes: float16(4), float64(6), int16(5), int32(2), int64(1), object(1)\n",
      "memory usage: 60.7+ MB\n"
     ]
    }
   ],
   "source": [
    "data.info()"
   ]
  },
  {
   "cell_type": "markdown",
   "metadata": {},
   "source": [
    "发现：android_id为0的有165013个，比其他的特征要高出了100多个数量级，猜测，0可能是缺失值的一种编码方式"
   ]
  },
  {
   "cell_type": "code",
   "execution_count": 8,
   "metadata": {
    "ExecuteTime": {
     "end_time": "2020-07-09T15:20:21.972608Z",
     "start_time": "2020-07-09T15:20:21.847679Z"
    }
   },
   "outputs": [
    {
     "data": {
      "text/plain": [
       "0         165013\n",
       "1190         272\n",
       "6964         117\n",
       "16662         39\n",
       "2604          38\n",
       "8183          36\n",
       "44716         26\n",
       "43274         26\n",
       "19949         24\n",
       "114020        23\n",
       "Name: android_id, dtype: int64"
      ]
     },
     "execution_count": 8,
     "metadata": {},
     "output_type": "execute_result"
    }
   ],
   "source": [
    "data['android_id'].value_counts()[:10]"
   ]
  },
  {
   "cell_type": "code",
   "execution_count": 9,
   "metadata": {
    "ExecuteTime": {
     "end_time": "2020-07-09T15:20:21.984601Z",
     "start_time": "2020-07-09T15:20:21.977608Z"
    }
   },
   "outputs": [
    {
     "name": "stdout",
     "output_type": "stream",
     "text": [
      "There are about 11 categorical features.\n"
     ]
    }
   ],
   "source": [
    "cate_cols = ['android_id', 'apptype', 'carrier', 'lan', 'media_id', 'ntt', 'osv',\n",
    "             'version', 'location', 'cus_type', 'package']\n",
    "\n",
    "print('There are about {} categorical features.'.format(len(cate_cols)))"
   ]
  },
  {
   "cell_type": "code",
   "execution_count": 10,
   "metadata": {
    "ExecuteTime": {
     "end_time": "2020-07-09T15:20:22.780144Z",
     "start_time": "2020-07-09T15:20:21.988599Z"
    }
   },
   "outputs": [
    {
     "name": "stdout",
     "output_type": "stream",
     "text": [
      "android_id\n",
      "apptype\n",
      "carrier\n",
      "lan\n",
      "media_id\n",
      "ntt\n",
      "osv\n",
      "version\n",
      "location\n",
      "cus_type\n",
      "package\n"
     ]
    }
   ],
   "source": [
    "# count编码\n",
    "for col in cate_cols: \n",
    "    print(col)\n",
    "    data[col + '_cnt_code'] = data[col].map(data[col].value_counts()) "
   ]
  },
  {
   "cell_type": "code",
   "execution_count": 11,
   "metadata": {
    "ExecuteTime": {
     "end_time": "2020-07-09T15:20:25.368672Z",
     "start_time": "2020-07-09T15:20:22.783142Z"
    }
   },
   "outputs": [],
   "source": [
    "data['user_id'] = data['package'].astype(str) + '_' + data['version'].astype(str) + '_' + data['android_id'].astype(str) + '_' + data['carrier'].astype(str) + '_' + data['osv'].astype(str) + '_' + data['lan'].astype(str)"
   ]
  },
  {
   "cell_type": "code",
   "execution_count": 12,
   "metadata": {
    "ExecuteTime": {
     "end_time": "2020-07-09T15:20:27.073719Z",
     "start_time": "2020-07-09T15:20:25.370656Z"
    }
   },
   "outputs": [],
   "source": [
    "data['day'] = data['timestamp'].astype('datetime64').dt.day\n",
    "data['hour'] = data['timestamp'].astype('datetime64').dt.hour\n",
    "data['dayofweek'] = data['timestamp'].astype('datetime64').dt.dayofweek\n",
    "\n",
    "data['time'] = (data['day'] - data['day'].min()) * 24 + data['hour']"
   ]
  },
  {
   "cell_type": "code",
   "execution_count": 13,
   "metadata": {
    "ExecuteTime": {
     "end_time": "2020-07-09T15:20:27.182617Z",
     "start_time": "2020-07-09T15:20:27.075680Z"
    }
   },
   "outputs": [
    {
     "name": "stdout",
     "output_type": "stream",
     "text": [
      "day\n",
      "hour\n",
      "dayofweek\n",
      "time\n"
     ]
    }
   ],
   "source": [
    "time_cols = ['day', 'hour', 'dayofweek', 'time']\n",
    "\n",
    "# count编码\n",
    "for col in time_cols: \n",
    "    print(col)\n",
    "    data[col + '_cnt_code'] = data[col].map(data[col].value_counts()) "
   ]
  },
  {
   "cell_type": "markdown",
   "metadata": {},
   "source": [
    "## 用户特征1\n",
    "1. 用户每天在某个app上出现的次数\n",
    "2. 用户每天，每小时出现的次数\n",
    "3. 用户距上次出现的时间差"
   ]
  },
  {
   "cell_type": "code",
   "execution_count": 14,
   "metadata": {
    "ExecuteTime": {
     "end_time": "2020-07-09T15:20:32.387529Z",
     "start_time": "2020-07-09T15:20:27.184616Z"
    }
   },
   "outputs": [
    {
     "name": "stdout",
     "output_type": "stream",
     "text": [
      "user_id_day_app\n",
      "user_id_time_app\n"
     ]
    }
   ],
   "source": [
    "# 用户每天/每小时在某个app上出现的次数\n",
    "for i in ['day', 'time']:\n",
    "    print('user_id_' + i + '_app')\n",
    "    data['user_id_' + i + '_app'] = data['user_id'] + '_' + data[i].astype(str) + '_' + data['media_id'].astype(str)\n",
    "    dic_ = data['user_id_' + i + '_app'].value_counts().to_dict()\n",
    "    data['user_id_' + i + '_app_count'] = data['user_id_' + i + '_app'].apply(lambda x: dic_[x])\n",
    "    data.drop('user_id_' + i + '_app', axis=1, inplace = True)"
   ]
  },
  {
   "cell_type": "code",
   "execution_count": 15,
   "metadata": {
    "ExecuteTime": {
     "end_time": "2020-07-09T15:20:36.884946Z",
     "start_time": "2020-07-09T15:20:32.389527Z"
    }
   },
   "outputs": [
    {
     "name": "stdout",
     "output_type": "stream",
     "text": [
      "user_id_day\n",
      "user_id_time\n"
     ]
    }
   ],
   "source": [
    "# 用户每天,每个小时出现的次数\n",
    "for i in ['day', 'time']:\n",
    "    print('user_id_' + i)\n",
    "    data['user_id_' + i] = data['user_id'] + '_' + data[i].astype(str)\n",
    "    dic_ = data['user_id_' + i].value_counts().to_dict()\n",
    "    data['user_id_' + i + '_count'] = data['user_id_' + i].apply(lambda x: dic_[x])\n",
    "    data.drop('user_id_' + i, axis=1, inplace=True)"
   ]
  },
  {
   "cell_type": "code",
   "execution_count": 16,
   "metadata": {
    "ExecuteTime": {
     "end_time": "2020-07-09T15:20:36.891943Z",
     "start_time": "2020-07-09T15:20:36.886946Z"
    }
   },
   "outputs": [],
   "source": [
    "# 用户本次出现距上次时间差\n",
    "# data['user_to_lasttime'] = data.groupby('user_id')['time'].diff().values"
   ]
  },
  {
   "cell_type": "code",
   "execution_count": 17,
   "metadata": {
    "ExecuteTime": {
     "end_time": "2020-07-09T15:20:38.021621Z",
     "start_time": "2020-07-09T15:20:36.894942Z"
    }
   },
   "outputs": [
    {
     "name": "stdout",
     "output_type": "stream",
     "text": [
      "user_id\n"
     ]
    }
   ],
   "source": [
    "for col in data.columns:\n",
    "    if col not in ['sid', 'label', 'timestamp']: \n",
    "        if data[col].dtypes == 'O':\n",
    "            print(col)\n",
    "            data[col+'_labelencode'] = LabelEncoder().fit_transform(data[col].values)"
   ]
  },
  {
   "cell_type": "code",
   "execution_count": 18,
   "metadata": {
    "ExecuteTime": {
     "end_time": "2020-07-09T15:20:49.620554Z",
     "start_time": "2020-07-09T15:20:38.023608Z"
    }
   },
   "outputs": [
    {
     "name": "stdout",
     "output_type": "stream",
     "text": [
      "user_id_day_fea_hash\n",
      "user_id_day_fea1_hash\n",
      "user_id_time_fea_hash\n",
      "user_id_time_fea1_hash\n"
     ]
    }
   ],
   "source": [
    "# 用户每天/每小时在某个app上出现的次数\n",
    "for i in ['day','time']:\n",
    "    for c in ['fea_hash','fea1_hash']:\n",
    "        print('user_id_'+ i +'_' +c)\n",
    "        data['user_id_'+ i + '_' +c] = data['user_id']  + '_' + data[i].astype(str) + '_' + data[c].astype(str)\n",
    "        dic_ = data['user_id_'+ i +'_' +c].value_counts().to_dict()\n",
    "        data['user_id_'+ i +'_' + c + '_count'] = data['user_id_'+ i +'_' + c].apply(lambda x: dic_[x])\n",
    "        data.drop('user_id_'+i +'_' + c, axis=1,inplace = True)"
   ]
  },
  {
   "cell_type": "code",
   "execution_count": 19,
   "metadata": {
    "ExecuteTime": {
     "end_time": "2020-07-09T15:20:49.772507Z",
     "start_time": "2020-07-09T15:20:49.622553Z"
    }
   },
   "outputs": [],
   "source": [
    "train_data = data.iloc[:train.shape[0], :]\n",
    "test1_data = data.iloc[train.shape[0]:, :]\n",
    "\n",
    "train_data_y = train_data['label']\n",
    "train_data_X = train_data.drop('label', axis=1)\n",
    "\n",
    "test1_data_y = test1_data['label']\n",
    "test1_data_X = test1_data.drop('label', axis=1)"
   ]
  },
  {
   "cell_type": "code",
   "execution_count": 20,
   "metadata": {
    "ExecuteTime": {
     "end_time": "2020-07-09T15:20:50.279176Z",
     "start_time": "2020-07-09T15:20:49.774480Z"
    }
   },
   "outputs": [],
   "source": [
    "train_data_X_train, train_data_X_val, train_data_y_train, train_data_y_val = train_test_split(train_data_X, train_data_y, random_state=2020)"
   ]
  },
  {
   "cell_type": "code",
   "execution_count": 21,
   "metadata": {
    "ExecuteTime": {
     "end_time": "2020-07-09T15:20:50.288171Z",
     "start_time": "2020-07-09T15:20:50.281175Z"
    }
   },
   "outputs": [],
   "source": [
    "train_cols = [i for i in train_data_X_train.columns if i not in ['sid', 'label'] and train_data_X_train[i].dtypes != 'O']"
   ]
  },
  {
   "cell_type": "code",
   "execution_count": 22,
   "metadata": {
    "ExecuteTime": {
     "end_time": "2020-07-09T15:20:50.298167Z",
     "start_time": "2020-07-09T15:20:50.291169Z"
    }
   },
   "outputs": [],
   "source": [
    "params = {'task': 'train',\n",
    "          'boosting_type': 'gbdt',\n",
    "          'objective': 'binary',\n",
    "          'metric': 'auc',\n",
    "          'num_leaves': 31,\n",
    "          'learning_rate': 0.05,\n",
    "          'feature_fraction': 0.95,\n",
    "          'bagging_fraction': 0.85,\n",
    "          'bagging_freq': 5, \n",
    "          'min_data_in_leaf':15}"
   ]
  },
  {
   "cell_type": "code",
   "execution_count": 23,
   "metadata": {
    "ExecuteTime": {
     "end_time": "2020-07-09T15:22:40.494201Z",
     "start_time": "2020-07-09T15:20:50.305164Z"
    }
   },
   "outputs": [
    {
     "name": "stdout",
     "output_type": "stream",
     "text": [
      "android_id\n",
      "Training until validation scores don't improve for 20 rounds\n",
      "[10]\ttraining's auc: 0.563478\tvalid_0's auc: 0.55737\n",
      "[20]\ttraining's auc: 0.563953\tvalid_0's auc: 0.557246\n",
      "[30]\ttraining's auc: 0.564114\tvalid_0's auc: 0.557315\n",
      "Early stopping, best iteration is:\n",
      "[10]\ttraining's auc: 0.563478\tvalid_0's auc: 0.55737\n",
      "*****\n",
      "0.5573698473641019\n",
      "********************\n",
      "\n",
      "\n",
      "apptype\n",
      "Training until validation scores don't improve for 20 rounds\n",
      "[10]\ttraining's auc: 0.816193\tvalid_0's auc: 0.816627\n",
      "[20]\ttraining's auc: 0.817349\tvalid_0's auc: 0.817653\n",
      "[30]\ttraining's auc: 0.817484\tvalid_0's auc: 0.817724\n",
      "[40]\ttraining's auc: 0.817901\tvalid_0's auc: 0.818134\n",
      "[50]\ttraining's auc: 0.818435\tvalid_0's auc: 0.818703\n",
      "[60]\ttraining's auc: 0.81853\tvalid_0's auc: 0.818855\n",
      "[70]\ttraining's auc: 0.81858\tvalid_0's auc: 0.818896\n",
      "[80]\ttraining's auc: 0.818689\tvalid_0's auc: 0.818949\n",
      "[90]\ttraining's auc: 0.818767\tvalid_0's auc: 0.819126\n",
      "[100]\ttraining's auc: 0.818817\tvalid_0's auc: 0.819105\n",
      "Did not meet early stopping. Best iteration is:\n",
      "[98]\ttraining's auc: 0.818817\tvalid_0's auc: 0.819105\n",
      "*****\n",
      "0.8191046847277694\n",
      "********************\n",
      "\n",
      "\n",
      "carrier\n",
      "Training until validation scores don't improve for 20 rounds\n",
      "[10]\ttraining's auc: 0.543381\tvalid_0's auc: 0.541281\n",
      "[20]\ttraining's auc: 0.543381\tvalid_0's auc: 0.541281\n",
      "Early stopping, best iteration is:\n",
      "[1]\ttraining's auc: 0.543381\tvalid_0's auc: 0.541281\n",
      "*****\n",
      "0.5412813170021665\n",
      "********************\n",
      "\n",
      "\n",
      "dev_height\n",
      "Training until validation scores don't improve for 20 rounds\n",
      "[10]\ttraining's auc: 0.79958\tvalid_0's auc: 0.798871\n",
      "[20]\ttraining's auc: 0.802005\tvalid_0's auc: 0.801246\n",
      "[30]\ttraining's auc: 0.803684\tvalid_0's auc: 0.803134\n",
      "[40]\ttraining's auc: 0.804391\tvalid_0's auc: 0.803858\n",
      "[50]\ttraining's auc: 0.804966\tvalid_0's auc: 0.804576\n",
      "[60]\ttraining's auc: 0.805698\tvalid_0's auc: 0.805241\n",
      "[70]\ttraining's auc: 0.805843\tvalid_0's auc: 0.805404\n",
      "[80]\ttraining's auc: 0.806254\tvalid_0's auc: 0.805805\n",
      "[90]\ttraining's auc: 0.806383\tvalid_0's auc: 0.805881\n",
      "[100]\ttraining's auc: 0.806494\tvalid_0's auc: 0.806004\n",
      "Did not meet early stopping. Best iteration is:\n",
      "[100]\ttraining's auc: 0.806494\tvalid_0's auc: 0.806004\n",
      "*****\n",
      "0.8060036795513711\n",
      "********************\n",
      "\n",
      "\n",
      "dev_ppi\n",
      "Training until validation scores don't improve for 20 rounds\n",
      "[10]\ttraining's auc: 0.521534\tvalid_0's auc: 0.522592\n",
      "[20]\ttraining's auc: 0.521534\tvalid_0's auc: 0.522592\n",
      "Early stopping, best iteration is:\n",
      "[6]\ttraining's auc: 0.521534\tvalid_0's auc: 0.522592\n",
      "*****\n",
      "0.5225920527803632\n",
      "********************\n",
      "\n",
      "\n",
      "dev_width\n",
      "Training until validation scores don't improve for 20 rounds\n",
      "[10]\ttraining's auc: 0.70407\tvalid_0's auc: 0.701345\n",
      "[20]\ttraining's auc: 0.704463\tvalid_0's auc: 0.701717\n",
      "[30]\ttraining's auc: 0.704503\tvalid_0's auc: 0.701942\n",
      "[40]\ttraining's auc: 0.704749\tvalid_0's auc: 0.702047\n",
      "[50]\ttraining's auc: 0.704791\tvalid_0's auc: 0.702128\n",
      "[60]\ttraining's auc: 0.704926\tvalid_0's auc: 0.702261\n",
      "[70]\ttraining's auc: 0.704947\tvalid_0's auc: 0.702268\n",
      "[80]\ttraining's auc: 0.704967\tvalid_0's auc: 0.702272\n",
      "[90]\ttraining's auc: 0.704981\tvalid_0's auc: 0.702277\n",
      "[100]\ttraining's auc: 0.704982\tvalid_0's auc: 0.702278\n",
      "Did not meet early stopping. Best iteration is:\n",
      "[98]\ttraining's auc: 0.704982\tvalid_0's auc: 0.702278\n",
      "*****\n",
      "0.7022781268638935\n",
      "********************\n",
      "\n",
      "\n",
      "lan\n",
      "Training until validation scores don't improve for 20 rounds\n",
      "[10]\ttraining's auc: 0.67739\tvalid_0's auc: 0.675126\n",
      "[20]\ttraining's auc: 0.67739\tvalid_0's auc: 0.675126\n",
      "Early stopping, best iteration is:\n",
      "[4]\ttraining's auc: 0.67739\tvalid_0's auc: 0.675126\n",
      "*****\n",
      "0.6751258487025812\n",
      "********************\n",
      "\n",
      "\n",
      "media_id\n",
      "Training until validation scores don't improve for 20 rounds\n",
      "[10]\ttraining's auc: 0.857177\tvalid_0's auc: 0.855417\n",
      "[20]\ttraining's auc: 0.860321\tvalid_0's auc: 0.858474\n",
      "[30]\ttraining's auc: 0.862441\tvalid_0's auc: 0.860539\n",
      "[40]\ttraining's auc: 0.864208\tvalid_0's auc: 0.862276\n",
      "[50]\ttraining's auc: 0.865364\tvalid_0's auc: 0.863377\n",
      "[60]\ttraining's auc: 0.866144\tvalid_0's auc: 0.864114\n",
      "[70]\ttraining's auc: 0.867084\tvalid_0's auc: 0.864967\n",
      "[80]\ttraining's auc: 0.867875\tvalid_0's auc: 0.865748\n",
      "[90]\ttraining's auc: 0.868415\tvalid_0's auc: 0.866273\n",
      "[100]\ttraining's auc: 0.868826\tvalid_0's auc: 0.866682\n",
      "Did not meet early stopping. Best iteration is:\n",
      "[100]\ttraining's auc: 0.868826\tvalid_0's auc: 0.866682\n",
      "*****\n",
      "0.866682232913488\n",
      "********************\n",
      "\n",
      "\n",
      "ntt\n",
      "Training until validation scores don't improve for 20 rounds\n",
      "[10]\ttraining's auc: 0.589989\tvalid_0's auc: 0.587131\n",
      "[20]\ttraining's auc: 0.589989\tvalid_0's auc: 0.587131\n",
      "Early stopping, best iteration is:\n",
      "[1]\ttraining's auc: 0.589989\tvalid_0's auc: 0.587131\n",
      "*****\n",
      "0.5871310958812972\n",
      "********************\n",
      "\n",
      "\n",
      "osv\n",
      "Training until validation scores don't improve for 20 rounds\n",
      "[10]\ttraining's auc: 0.766947\tvalid_0's auc: 0.765808\n",
      "[20]\ttraining's auc: 0.766947\tvalid_0's auc: 0.765808\n",
      "Early stopping, best iteration is:\n",
      "[1]\ttraining's auc: 0.766947\tvalid_0's auc: 0.765808\n",
      "*****\n",
      "0.7658075270804243\n",
      "********************\n",
      "\n",
      "\n",
      "package\n",
      "Training until validation scores don't improve for 20 rounds\n",
      "[10]\ttraining's auc: 0.823113\tvalid_0's auc: 0.821471\n",
      "[20]\ttraining's auc: 0.824967\tvalid_0's auc: 0.823071\n",
      "[30]\ttraining's auc: 0.828068\tvalid_0's auc: 0.826097\n",
      "[40]\ttraining's auc: 0.830129\tvalid_0's auc: 0.827909\n",
      "[50]\ttraining's auc: 0.830822\tvalid_0's auc: 0.82864\n",
      "[60]\ttraining's auc: 0.831313\tvalid_0's auc: 0.829109\n",
      "[70]\ttraining's auc: 0.832006\tvalid_0's auc: 0.829791\n",
      "[80]\ttraining's auc: 0.832527\tvalid_0's auc: 0.830234\n",
      "[90]\ttraining's auc: 0.832843\tvalid_0's auc: 0.83052\n",
      "[100]\ttraining's auc: 0.833409\tvalid_0's auc: 0.831004\n",
      "Did not meet early stopping. Best iteration is:\n",
      "[100]\ttraining's auc: 0.833409\tvalid_0's auc: 0.831004\n",
      "*****\n",
      "0.8310036985178718\n",
      "********************\n",
      "\n",
      "\n",
      "version\n",
      "Training until validation scores don't improve for 20 rounds\n",
      "[10]\ttraining's auc: 0.61494\tvalid_0's auc: 0.61632\n",
      "[20]\ttraining's auc: 0.61494\tvalid_0's auc: 0.61632\n",
      "[30]\ttraining's auc: 0.61494\tvalid_0's auc: 0.61632\n",
      "Early stopping, best iteration is:\n",
      "[17]\ttraining's auc: 0.61494\tvalid_0's auc: 0.61632\n",
      "*****\n",
      "0.6163198113955072\n",
      "********************\n",
      "\n",
      "\n",
      "fea_hash\n",
      "Training until validation scores don't improve for 20 rounds\n",
      "[10]\ttraining's auc: 0.511329\tvalid_0's auc: 0.50282\n",
      "[20]\ttraining's auc: 0.512778\tvalid_0's auc: 0.502512\n",
      "Early stopping, best iteration is:\n",
      "[2]\ttraining's auc: 0.508307\tvalid_0's auc: 0.503157\n",
      "*****\n",
      "0.5031570060189173\n",
      "********************\n",
      "\n",
      "\n",
      "location\n",
      "Training until validation scores don't improve for 20 rounds\n",
      "[10]\ttraining's auc: 0.549622\tvalid_0's auc: 0.54828\n",
      "[20]\ttraining's auc: 0.552125\tvalid_0's auc: 0.550361\n",
      "[30]\ttraining's auc: 0.554451\tvalid_0's auc: 0.552583\n",
      "[40]\ttraining's auc: 0.557004\tvalid_0's auc: 0.554926\n",
      "[50]\ttraining's auc: 0.558299\tvalid_0's auc: 0.556289\n",
      "[60]\ttraining's auc: 0.558958\tvalid_0's auc: 0.556757\n",
      "[70]\ttraining's auc: 0.559827\tvalid_0's auc: 0.55752\n",
      "[80]\ttraining's auc: 0.560198\tvalid_0's auc: 0.557793\n",
      "[90]\ttraining's auc: 0.560584\tvalid_0's auc: 0.558056\n",
      "[100]\ttraining's auc: 0.560916\tvalid_0's auc: 0.558145\n",
      "Did not meet early stopping. Best iteration is:\n",
      "[100]\ttraining's auc: 0.560916\tvalid_0's auc: 0.558145\n",
      "*****\n",
      "0.5581447854060397\n",
      "********************\n",
      "\n",
      "\n",
      "fea1_hash\n",
      "Training until validation scores don't improve for 20 rounds\n",
      "[10]\ttraining's auc: 0.805062\tvalid_0's auc: 0.804367\n",
      "[20]\ttraining's auc: 0.807446\tvalid_0's auc: 0.806994\n",
      "[30]\ttraining's auc: 0.810767\tvalid_0's auc: 0.809959\n",
      "[40]\ttraining's auc: 0.814041\tvalid_0's auc: 0.813224\n",
      "[50]\ttraining's auc: 0.818224\tvalid_0's auc: 0.817319\n",
      "[60]\ttraining's auc: 0.820742\tvalid_0's auc: 0.819763\n",
      "[70]\ttraining's auc: 0.822622\tvalid_0's auc: 0.821567\n",
      "[80]\ttraining's auc: 0.824303\tvalid_0's auc: 0.823206\n",
      "[90]\ttraining's auc: 0.826027\tvalid_0's auc: 0.824777\n",
      "[100]\ttraining's auc: 0.827064\tvalid_0's auc: 0.825848\n",
      "Did not meet early stopping. Best iteration is:\n",
      "[100]\ttraining's auc: 0.827064\tvalid_0's auc: 0.825848\n",
      "*****\n",
      "0.8258484400094355\n",
      "********************\n",
      "\n",
      "\n",
      "cus_type\n",
      "Training until validation scores don't improve for 20 rounds\n",
      "[10]\ttraining's auc: 0.557793\tvalid_0's auc: 0.552587\n",
      "[20]\ttraining's auc: 0.557945\tvalid_0's auc: 0.552966\n",
      "[30]\ttraining's auc: 0.558042\tvalid_0's auc: 0.553074\n",
      "[40]\ttraining's auc: 0.558047\tvalid_0's auc: 0.553195\n"
     ]
    },
    {
     "name": "stdout",
     "output_type": "stream",
     "text": [
      "[50]\ttraining's auc: 0.558074\tvalid_0's auc: 0.553246\n",
      "[60]\ttraining's auc: 0.558061\tvalid_0's auc: 0.553481\n",
      "[70]\ttraining's auc: 0.558064\tvalid_0's auc: 0.553473\n",
      "[80]\ttraining's auc: 0.558035\tvalid_0's auc: 0.553339\n",
      "Early stopping, best iteration is:\n",
      "[65]\ttraining's auc: 0.558065\tvalid_0's auc: 0.553604\n",
      "*****\n",
      "0.5536039486442154\n",
      "********************\n",
      "\n",
      "\n",
      "android_id_cnt_code\n",
      "Training until validation scores don't improve for 20 rounds\n",
      "[10]\ttraining's auc: 0.564224\tvalid_0's auc: 0.563575\n",
      "[20]\ttraining's auc: 0.564225\tvalid_0's auc: 0.563569\n",
      "[30]\ttraining's auc: 0.564227\tvalid_0's auc: 0.563571\n",
      "[40]\ttraining's auc: 0.564264\tvalid_0's auc: 0.563597\n",
      "[50]\ttraining's auc: 0.564264\tvalid_0's auc: 0.563597\n",
      "Early stopping, best iteration is:\n",
      "[35]\ttraining's auc: 0.564264\tvalid_0's auc: 0.563603\n",
      "*****\n",
      "0.563602570427198\n",
      "********************\n",
      "\n",
      "\n",
      "apptype_cnt_code\n",
      "Training until validation scores don't improve for 20 rounds\n",
      "[10]\ttraining's auc: 0.817636\tvalid_0's auc: 0.818047\n",
      "[20]\ttraining's auc: 0.817797\tvalid_0's auc: 0.81819\n",
      "[30]\ttraining's auc: 0.818093\tvalid_0's auc: 0.818489\n",
      "[40]\ttraining's auc: 0.818106\tvalid_0's auc: 0.818518\n",
      "[50]\ttraining's auc: 0.81832\tvalid_0's auc: 0.818666\n",
      "[60]\ttraining's auc: 0.818393\tvalid_0's auc: 0.81876\n",
      "[70]\ttraining's auc: 0.818471\tvalid_0's auc: 0.818836\n",
      "[80]\ttraining's auc: 0.818665\tvalid_0's auc: 0.819057\n",
      "[90]\ttraining's auc: 0.818745\tvalid_0's auc: 0.819133\n",
      "[100]\ttraining's auc: 0.818756\tvalid_0's auc: 0.819147\n",
      "Did not meet early stopping. Best iteration is:\n",
      "[100]\ttraining's auc: 0.818756\tvalid_0's auc: 0.819147\n",
      "*****\n",
      "0.8191466603291301\n",
      "********************\n",
      "\n",
      "\n",
      "carrier_cnt_code\n",
      "Training until validation scores don't improve for 20 rounds\n",
      "[10]\ttraining's auc: 0.543381\tvalid_0's auc: 0.541281\n",
      "[20]\ttraining's auc: 0.543381\tvalid_0's auc: 0.541281\n",
      "Early stopping, best iteration is:\n",
      "[1]\ttraining's auc: 0.543381\tvalid_0's auc: 0.541281\n",
      "*****\n",
      "0.5412813170021665\n",
      "********************\n",
      "\n",
      "\n",
      "lan_cnt_code\n",
      "Training until validation scores don't improve for 20 rounds\n",
      "[10]\ttraining's auc: 0.677384\tvalid_0's auc: 0.675108\n",
      "[20]\ttraining's auc: 0.677384\tvalid_0's auc: 0.675108\n",
      "[30]\ttraining's auc: 0.677402\tvalid_0's auc: 0.675139\n",
      "[40]\ttraining's auc: 0.677402\tvalid_0's auc: 0.675139\n",
      "Early stopping, best iteration is:\n",
      "[24]\ttraining's auc: 0.677402\tvalid_0's auc: 0.675139\n",
      "*****\n",
      "0.6751385268571489\n",
      "********************\n",
      "\n",
      "\n",
      "media_id_cnt_code\n",
      "Training until validation scores don't improve for 20 rounds\n",
      "[10]\ttraining's auc: 0.859947\tvalid_0's auc: 0.857978\n",
      "[20]\ttraining's auc: 0.862143\tvalid_0's auc: 0.860526\n",
      "[30]\ttraining's auc: 0.863162\tvalid_0's auc: 0.861593\n",
      "[40]\ttraining's auc: 0.863817\tvalid_0's auc: 0.862253\n",
      "[50]\ttraining's auc: 0.866569\tvalid_0's auc: 0.864392\n",
      "[60]\ttraining's auc: 0.867293\tvalid_0's auc: 0.865102\n",
      "[70]\ttraining's auc: 0.867688\tvalid_0's auc: 0.865523\n",
      "[80]\ttraining's auc: 0.868008\tvalid_0's auc: 0.865821\n",
      "[90]\ttraining's auc: 0.868725\tvalid_0's auc: 0.866628\n",
      "[100]\ttraining's auc: 0.869391\tvalid_0's auc: 0.867286\n",
      "Did not meet early stopping. Best iteration is:\n",
      "[100]\ttraining's auc: 0.869391\tvalid_0's auc: 0.867286\n",
      "*****\n",
      "0.867285662544822\n",
      "********************\n",
      "\n",
      "\n",
      "ntt_cnt_code\n",
      "Training until validation scores don't improve for 20 rounds\n",
      "[10]\ttraining's auc: 0.589989\tvalid_0's auc: 0.58713\n",
      "[20]\ttraining's auc: 0.589989\tvalid_0's auc: 0.58713\n",
      "Early stopping, best iteration is:\n",
      "[1]\ttraining's auc: 0.589989\tvalid_0's auc: 0.58713\n",
      "*****\n",
      "0.587129915487253\n",
      "********************\n",
      "\n",
      "\n",
      "osv_cnt_code\n",
      "Training until validation scores don't improve for 20 rounds\n",
      "[10]\ttraining's auc: 0.766947\tvalid_0's auc: 0.765808\n",
      "[20]\ttraining's auc: 0.766947\tvalid_0's auc: 0.765808\n",
      "Early stopping, best iteration is:\n",
      "[1]\ttraining's auc: 0.766947\tvalid_0's auc: 0.765808\n",
      "*****\n",
      "0.7658075270804243\n",
      "********************\n",
      "\n",
      "\n",
      "version_cnt_code\n",
      "Training until validation scores don't improve for 20 rounds\n",
      "[10]\ttraining's auc: 0.614937\tvalid_0's auc: 0.616321\n",
      "[20]\ttraining's auc: 0.614937\tvalid_0's auc: 0.616321\n",
      "Early stopping, best iteration is:\n",
      "[1]\ttraining's auc: 0.614937\tvalid_0's auc: 0.616321\n",
      "*****\n",
      "0.6163209838468087\n",
      "********************\n",
      "\n",
      "\n",
      "location_cnt_code\n",
      "Training until validation scores don't improve for 20 rounds\n",
      "[10]\ttraining's auc: 0.546449\tvalid_0's auc: 0.543606\n",
      "[20]\ttraining's auc: 0.549466\tvalid_0's auc: 0.546473\n",
      "[30]\ttraining's auc: 0.553391\tvalid_0's auc: 0.550068\n",
      "[40]\ttraining's auc: 0.554691\tvalid_0's auc: 0.551853\n",
      "[50]\ttraining's auc: 0.55736\tvalid_0's auc: 0.555239\n",
      "[60]\ttraining's auc: 0.558382\tvalid_0's auc: 0.556291\n",
      "[70]\ttraining's auc: 0.558926\tvalid_0's auc: 0.556789\n",
      "[80]\ttraining's auc: 0.559254\tvalid_0's auc: 0.557092\n",
      "[90]\ttraining's auc: 0.559666\tvalid_0's auc: 0.557565\n",
      "[100]\ttraining's auc: 0.559984\tvalid_0's auc: 0.557876\n",
      "Did not meet early stopping. Best iteration is:\n",
      "[100]\ttraining's auc: 0.559984\tvalid_0's auc: 0.557876\n",
      "*****\n",
      "0.5578755848479372\n",
      "********************\n",
      "\n",
      "\n",
      "cus_type_cnt_code\n",
      "Training until validation scores don't improve for 20 rounds\n",
      "[10]\ttraining's auc: 0.557823\tvalid_0's auc: 0.553023\n",
      "[20]\ttraining's auc: 0.557837\tvalid_0's auc: 0.55365\n",
      "[30]\ttraining's auc: 0.557898\tvalid_0's auc: 0.553644\n",
      "[40]\ttraining's auc: 0.557907\tvalid_0's auc: 0.553687\n",
      "[50]\ttraining's auc: 0.557942\tvalid_0's auc: 0.553802\n",
      "[60]\ttraining's auc: 0.557919\tvalid_0's auc: 0.554177\n",
      "[70]\ttraining's auc: 0.557944\tvalid_0's auc: 0.553905\n",
      "[80]\ttraining's auc: 0.557906\tvalid_0's auc: 0.553842\n",
      "Early stopping, best iteration is:\n",
      "[61]\ttraining's auc: 0.557926\tvalid_0's auc: 0.554228\n",
      "*****\n",
      "0.5542280719385342\n",
      "********************\n",
      "\n",
      "\n",
      "package_cnt_code\n",
      "Training until validation scores don't improve for 20 rounds\n",
      "[10]\ttraining's auc: 0.81926\tvalid_0's auc: 0.817638\n",
      "[20]\ttraining's auc: 0.822926\tvalid_0's auc: 0.821006\n",
      "[30]\ttraining's auc: 0.823414\tvalid_0's auc: 0.821549\n",
      "[40]\ttraining's auc: 0.825236\tvalid_0's auc: 0.82346\n",
      "[50]\ttraining's auc: 0.826665\tvalid_0's auc: 0.824729\n",
      "[60]\ttraining's auc: 0.829301\tvalid_0's auc: 0.827243\n",
      "[70]\ttraining's auc: 0.830436\tvalid_0's auc: 0.828417\n",
      "[80]\ttraining's auc: 0.830919\tvalid_0's auc: 0.828832\n",
      "[90]\ttraining's auc: 0.83173\tvalid_0's auc: 0.829583\n",
      "[100]\ttraining's auc: 0.832133\tvalid_0's auc: 0.829936\n",
      "Did not meet early stopping. Best iteration is:\n",
      "[100]\ttraining's auc: 0.832133\tvalid_0's auc: 0.829936\n",
      "*****\n",
      "0.8299363481492104\n",
      "********************\n",
      "\n",
      "\n",
      "day\n",
      "Training until validation scores don't improve for 20 rounds\n",
      "[10]\ttraining's auc: 0.511284\tvalid_0's auc: 0.509348\n",
      "[20]\ttraining's auc: 0.511284\tvalid_0's auc: 0.509348\n",
      "Early stopping, best iteration is:\n",
      "[1]\ttraining's auc: 0.511198\tvalid_0's auc: 0.509589\n",
      "*****\n",
      "0.5095892391193801\n",
      "********************\n",
      "\n",
      "\n",
      "hour\n",
      "Training until validation scores don't improve for 20 rounds\n",
      "[10]\ttraining's auc: 0.519661\tvalid_0's auc: 0.518912\n",
      "[20]\ttraining's auc: 0.519701\tvalid_0's auc: 0.518661\n",
      "Early stopping, best iteration is:\n",
      "[1]\ttraining's auc: 0.519572\tvalid_0's auc: 0.518999\n",
      "*****\n",
      "0.5189987347413377\n",
      "********************\n",
      "\n",
      "\n",
      "dayofweek\n",
      "Training until validation scores don't improve for 20 rounds\n",
      "[10]\ttraining's auc: 0.511259\tvalid_0's auc: 0.509348\n",
      "[20]\ttraining's auc: 0.511259\tvalid_0's auc: 0.509348\n",
      "Early stopping, best iteration is:\n",
      "[1]\ttraining's auc: 0.511172\tvalid_0's auc: 0.509589\n",
      "*****\n",
      "0.5095888394200728\n",
      "********************\n",
      "\n",
      "\n",
      "time\n",
      "Training until validation scores don't improve for 20 rounds\n",
      "[10]\ttraining's auc: 0.524964\tvalid_0's auc: 0.520764\n",
      "[20]\ttraining's auc: 0.525698\tvalid_0's auc: 0.521027\n",
      "[30]\ttraining's auc: 0.526105\tvalid_0's auc: 0.520829\n",
      "Early stopping, best iteration is:\n",
      "[17]\ttraining's auc: 0.525574\tvalid_0's auc: 0.521179\n",
      "*****\n",
      "0.5211789202349657\n",
      "********************\n",
      "\n",
      "\n",
      "day_cnt_code\n",
      "Training until validation scores don't improve for 20 rounds\n",
      "[10]\ttraining's auc: 0.511284\tvalid_0's auc: 0.509348\n",
      "[20]\ttraining's auc: 0.511284\tvalid_0's auc: 0.509348\n",
      "Early stopping, best iteration is:\n",
      "[1]\ttraining's auc: 0.511198\tvalid_0's auc: 0.509589\n",
      "*****\n",
      "0.5095892391193801\n",
      "********************\n",
      "\n",
      "\n",
      "hour_cnt_code\n",
      "Training until validation scores don't improve for 20 rounds\n",
      "[10]\ttraining's auc: 0.519661\tvalid_0's auc: 0.518912\n",
      "[20]\ttraining's auc: 0.519701\tvalid_0's auc: 0.518661\n",
      "Early stopping, best iteration is:\n",
      "[1]\ttraining's auc: 0.519572\tvalid_0's auc: 0.518999\n",
      "*****\n",
      "0.5189987347413377\n",
      "********************\n",
      "\n",
      "\n",
      "dayofweek_cnt_code\n"
     ]
    },
    {
     "name": "stdout",
     "output_type": "stream",
     "text": [
      "Training until validation scores don't improve for 20 rounds\n",
      "[10]\ttraining's auc: 0.511259\tvalid_0's auc: 0.509348\n",
      "[20]\ttraining's auc: 0.511259\tvalid_0's auc: 0.509348\n",
      "Early stopping, best iteration is:\n",
      "[1]\ttraining's auc: 0.511172\tvalid_0's auc: 0.509589\n",
      "*****\n",
      "0.5095888394200728\n",
      "********************\n",
      "\n",
      "\n",
      "time_cnt_code\n",
      "Training until validation scores don't improve for 20 rounds\n",
      "[10]\ttraining's auc: 0.524314\tvalid_0's auc: 0.5193\n",
      "[20]\ttraining's auc: 0.525009\tvalid_0's auc: 0.519892\n",
      "[30]\ttraining's auc: 0.525477\tvalid_0's auc: 0.520236\n",
      "[40]\ttraining's auc: 0.525844\tvalid_0's auc: 0.520428\n",
      "[50]\ttraining's auc: 0.526071\tvalid_0's auc: 0.520539\n",
      "[60]\ttraining's auc: 0.526326\tvalid_0's auc: 0.520269\n",
      "Early stopping, best iteration is:\n",
      "[48]\ttraining's auc: 0.526053\tvalid_0's auc: 0.520576\n",
      "*****\n",
      "0.5205755848916735\n",
      "********************\n",
      "\n",
      "\n",
      "user_id_day_app_count\n",
      "Training until validation scores don't improve for 20 rounds\n",
      "[10]\ttraining's auc: 0.694789\tvalid_0's auc: 0.692344\n",
      "[20]\ttraining's auc: 0.694802\tvalid_0's auc: 0.692359\n",
      "[30]\ttraining's auc: 0.694813\tvalid_0's auc: 0.692364\n",
      "[40]\ttraining's auc: 0.694856\tvalid_0's auc: 0.692356\n",
      "[50]\ttraining's auc: 0.694869\tvalid_0's auc: 0.6924\n",
      "[60]\ttraining's auc: 0.694885\tvalid_0's auc: 0.692393\n",
      "[70]\ttraining's auc: 0.694891\tvalid_0's auc: 0.692404\n",
      "[80]\ttraining's auc: 0.694895\tvalid_0's auc: 0.692408\n",
      "[90]\ttraining's auc: 0.694899\tvalid_0's auc: 0.692409\n",
      "[100]\ttraining's auc: 0.6949\tvalid_0's auc: 0.692412\n",
      "Did not meet early stopping. Best iteration is:\n",
      "[97]\ttraining's auc: 0.6949\tvalid_0's auc: 0.69241\n",
      "*****\n",
      "0.6924100370103137\n",
      "********************\n",
      "\n",
      "\n",
      "user_id_time_app_count\n",
      "Training until validation scores don't improve for 20 rounds\n",
      "[10]\ttraining's auc: 0.671729\tvalid_0's auc: 0.669808\n",
      "[20]\ttraining's auc: 0.671753\tvalid_0's auc: 0.669812\n",
      "[30]\ttraining's auc: 0.671768\tvalid_0's auc: 0.669824\n",
      "[40]\ttraining's auc: 0.671771\tvalid_0's auc: 0.669823\n",
      "Early stopping, best iteration is:\n",
      "[25]\ttraining's auc: 0.67176\tvalid_0's auc: 0.66983\n",
      "*****\n",
      "0.6698303847728518\n",
      "********************\n",
      "\n",
      "\n",
      "user_id_day_count\n",
      "Training until validation scores don't improve for 20 rounds\n",
      "[10]\ttraining's auc: 0.69479\tvalid_0's auc: 0.692337\n",
      "[20]\ttraining's auc: 0.694803\tvalid_0's auc: 0.692352\n",
      "[30]\ttraining's auc: 0.694814\tvalid_0's auc: 0.692358\n",
      "[40]\ttraining's auc: 0.694857\tvalid_0's auc: 0.69235\n",
      "[50]\ttraining's auc: 0.694872\tvalid_0's auc: 0.692398\n",
      "[60]\ttraining's auc: 0.694885\tvalid_0's auc: 0.692395\n",
      "[70]\ttraining's auc: 0.694893\tvalid_0's auc: 0.692395\n",
      "Early stopping, best iteration is:\n",
      "[53]\ttraining's auc: 0.694877\tvalid_0's auc: 0.692402\n",
      "*****\n",
      "0.6924015562109079\n",
      "********************\n",
      "\n",
      "\n",
      "user_id_time_count\n",
      "Training until validation scores don't improve for 20 rounds\n",
      "[10]\ttraining's auc: 0.671761\tvalid_0's auc: 0.669839\n",
      "[20]\ttraining's auc: 0.671785\tvalid_0's auc: 0.669843\n",
      "Early stopping, best iteration is:\n",
      "[6]\ttraining's auc: 0.671748\tvalid_0's auc: 0.669862\n",
      "*****\n",
      "0.669861916820612\n",
      "********************\n",
      "\n",
      "\n",
      "user_id_labelencode\n",
      "Training until validation scores don't improve for 20 rounds\n",
      "[10]\ttraining's auc: 0.851672\tvalid_0's auc: 0.851267\n",
      "[20]\ttraining's auc: 0.852681\tvalid_0's auc: 0.852498\n",
      "[30]\ttraining's auc: 0.854071\tvalid_0's auc: 0.853988\n",
      "[40]\ttraining's auc: 0.856755\tvalid_0's auc: 0.856531\n",
      "[50]\ttraining's auc: 0.858255\tvalid_0's auc: 0.857871\n",
      "[60]\ttraining's auc: 0.859101\tvalid_0's auc: 0.858736\n",
      "[70]\ttraining's auc: 0.859937\tvalid_0's auc: 0.859648\n",
      "[80]\ttraining's auc: 0.860286\tvalid_0's auc: 0.859995\n",
      "[90]\ttraining's auc: 0.860511\tvalid_0's auc: 0.860195\n",
      "[100]\ttraining's auc: 0.860907\tvalid_0's auc: 0.860512\n",
      "Did not meet early stopping. Best iteration is:\n",
      "[100]\ttraining's auc: 0.860907\tvalid_0's auc: 0.860512\n",
      "*****\n",
      "0.8605124067639905\n",
      "********************\n",
      "\n",
      "\n",
      "user_id_day_fea_hash_count\n",
      "Training until validation scores don't improve for 20 rounds\n",
      "[10]\ttraining's auc: 0.508169\tvalid_0's auc: 0.508048\n",
      "[20]\ttraining's auc: 0.508169\tvalid_0's auc: 0.508048\n",
      "Early stopping, best iteration is:\n",
      "[1]\ttraining's auc: 0.508169\tvalid_0's auc: 0.508048\n",
      "*****\n",
      "0.508047829999165\n",
      "********************\n",
      "\n",
      "\n",
      "user_id_day_fea1_hash_count\n",
      "Training until validation scores don't improve for 20 rounds\n",
      "[10]\ttraining's auc: 0.682897\tvalid_0's auc: 0.680408\n",
      "[20]\ttraining's auc: 0.682919\tvalid_0's auc: 0.680438\n",
      "[30]\ttraining's auc: 0.682931\tvalid_0's auc: 0.680429\n",
      "[40]\ttraining's auc: 0.68295\tvalid_0's auc: 0.68042\n",
      "Early stopping, best iteration is:\n",
      "[24]\ttraining's auc: 0.682919\tvalid_0's auc: 0.680439\n",
      "*****\n",
      "0.6804393669987794\n",
      "********************\n",
      "\n",
      "\n",
      "user_id_time_fea_hash_count\n",
      "Training until validation scores don't improve for 20 rounds\n",
      "[10]\ttraining's auc: 0.50546\tvalid_0's auc: 0.505346\n",
      "[20]\ttraining's auc: 0.50546\tvalid_0's auc: 0.505346\n",
      "Early stopping, best iteration is:\n",
      "[1]\ttraining's auc: 0.50546\tvalid_0's auc: 0.505346\n",
      "*****\n",
      "0.505346481959266\n",
      "********************\n",
      "\n",
      "\n",
      "user_id_time_fea1_hash_count\n",
      "Training until validation scores don't improve for 20 rounds\n",
      "[10]\ttraining's auc: 0.653973\tvalid_0's auc: 0.65206\n",
      "[20]\ttraining's auc: 0.65398\tvalid_0's auc: 0.652048\n",
      "[30]\ttraining's auc: 0.653978\tvalid_0's auc: 0.652056\n",
      "Early stopping, best iteration is:\n",
      "[10]\ttraining's auc: 0.653973\tvalid_0's auc: 0.65206\n",
      "*****\n",
      "0.6520601678722896\n",
      "********************\n",
      "\n",
      "\n"
     ]
    }
   ],
   "source": [
    "use_cols = []\n",
    "useless_cols = []\n",
    "\n",
    "for i in train_cols:\n",
    "    print(i)\n",
    "    \n",
    "    lgb_train = lgb.Dataset(train_data_X_train[[i]].values, train_data_y_train) \n",
    "    lgb_eval= lgb.Dataset(train_data_X_val[[i]].values, train_data_y_val, reference=lgb_train)\n",
    "    lgb_test = lgb.train(params,\n",
    "                         lgb_train,\n",
    "                         num_boost_round=100,\n",
    "                         valid_sets=[lgb_eval, lgb_train],\n",
    "                         early_stopping_rounds=20,\n",
    "                         verbose_eval=10)\n",
    "    \n",
    "    print('*' * 5)\n",
    "    print(lgb_test.best_score['valid_0']['auc'])\n",
    "    if lgb_test.best_score['valid_0']['auc'] > 0.52:\n",
    "        use_cols.append(i)\n",
    "    else:\n",
    "        useless_cols.append(i)\n",
    "    print('*' * 20)\n",
    "    print('\\n')"
   ]
  },
  {
   "cell_type": "code",
   "execution_count": 24,
   "metadata": {
    "ExecuteTime": {
     "end_time": "2020-07-09T15:22:40.504196Z",
     "start_time": "2020-07-09T15:22:40.498200Z"
    }
   },
   "outputs": [
    {
     "name": "stdout",
     "output_type": "stream",
     "text": [
      "['android_id', 'apptype', 'carrier', 'dev_height', 'dev_ppi', 'dev_width', 'lan', 'media_id', 'ntt', 'osv', 'package', 'version', 'location', 'fea1_hash', 'cus_type', 'android_id_cnt_code', 'apptype_cnt_code', 'carrier_cnt_code', 'lan_cnt_code', 'media_id_cnt_code', 'ntt_cnt_code', 'osv_cnt_code', 'version_cnt_code', 'location_cnt_code', 'cus_type_cnt_code', 'package_cnt_code', 'time', 'time_cnt_code', 'user_id_day_app_count', 'user_id_time_app_count', 'user_id_day_count', 'user_id_time_count', 'user_id_labelencode', 'user_id_day_fea1_hash_count', 'user_id_time_fea1_hash_count']\n"
     ]
    }
   ],
   "source": [
    "print(use_cols)"
   ]
  },
  {
   "cell_type": "code",
   "execution_count": 25,
   "metadata": {
    "ExecuteTime": {
     "end_time": "2020-07-09T15:22:40.514191Z",
     "start_time": "2020-07-09T15:22:40.507195Z"
    }
   },
   "outputs": [
    {
     "name": "stdout",
     "output_type": "stream",
     "text": [
      "['fea_hash', 'day', 'hour', 'dayofweek', 'day_cnt_code', 'hour_cnt_code', 'dayofweek_cnt_code', 'user_id_day_fea_hash_count', 'user_id_time_fea_hash_count']\n"
     ]
    }
   ],
   "source": [
    "print(useless_cols)"
   ]
  },
  {
   "cell_type": "code",
   "execution_count": 26,
   "metadata": {
    "ExecuteTime": {
     "end_time": "2020-07-09T15:22:40.618133Z",
     "start_time": "2020-07-09T15:22:40.517191Z"
    }
   },
   "outputs": [],
   "source": [
    "lgb_train = lgb.Dataset(train_data_X_train[use_cols], train_data_y_train)\n",
    "lgb_eval = lgb.Dataset(train_data_X_val[use_cols], train_data_y_val, reference=lgb_train)"
   ]
  },
  {
   "cell_type": "code",
   "execution_count": 27,
   "metadata": {
    "ExecuteTime": {
     "end_time": "2020-07-09T15:22:40.627127Z",
     "start_time": "2020-07-09T15:22:40.620130Z"
    }
   },
   "outputs": [],
   "source": [
    "params = {'task': 'train',\n",
    "          'boosting_type': 'gbdt',\n",
    "          'objective': 'binary',\n",
    "          'metric': 'binary_logloss',\n",
    "          'num_leaves': 31,\n",
    "          'learning_rate': 0.05,\n",
    "          'feature_fraction': 0.95,\n",
    "          'bagging_fraction': 0.85,\n",
    "          'bagging_freq': 5, \n",
    "          'min_data_in_leaf':15}"
   ]
  },
  {
   "cell_type": "code",
   "execution_count": 28,
   "metadata": {
    "ExecuteTime": {
     "end_time": "2020-07-09T15:23:50.573988Z",
     "start_time": "2020-07-09T15:22:40.631125Z"
    }
   },
   "outputs": [
    {
     "name": "stdout",
     "output_type": "stream",
     "text": [
      "Start training...\n",
      "Training until validation scores don't improve for 50 rounds\n",
      "[200]\ttraining's binary_logloss: 0.305652\tvalid_1's binary_logloss: 0.30931\n",
      "[400]\ttraining's binary_logloss: 0.295354\tvalid_1's binary_logloss: 0.303245\n",
      "[600]\ttraining's binary_logloss: 0.288394\tvalid_1's binary_logloss: 0.300687\n",
      "[800]\ttraining's binary_logloss: 0.282661\tvalid_1's binary_logloss: 0.299453\n",
      "[1000]\ttraining's binary_logloss: 0.277668\tvalid_1's binary_logloss: 0.298726\n",
      "[1200]\ttraining's binary_logloss: 0.273084\tvalid_1's binary_logloss: 0.298212\n",
      "[1400]\ttraining's binary_logloss: 0.268829\tvalid_1's binary_logloss: 0.297986\n",
      "[1600]\ttraining's binary_logloss: 0.264711\tvalid_1's binary_logloss: 0.297851\n",
      "Early stopping, best iteration is:\n",
      "[1640]\ttraining's binary_logloss: 0.263916\tvalid_1's binary_logloss: 0.297796\n"
     ]
    }
   ],
   "source": [
    "print('Start training...')\n",
    "\n",
    "gbm_val_1 = lgb.train(params,\n",
    "                      lgb_train,\n",
    "                      num_boost_round=2000,\n",
    "                      valid_sets=[lgb_train, lgb_eval],\n",
    "                      early_stopping_rounds=50,\n",
    "                      verbose_eval=200)"
   ]
  },
  {
   "cell_type": "code",
   "execution_count": 29,
   "metadata": {
    "ExecuteTime": {
     "end_time": "2020-07-09T15:23:56.733454Z",
     "start_time": "2020-07-09T15:23:50.575988Z"
    }
   },
   "outputs": [
    {
     "name": "stdout",
     "output_type": "stream",
     "text": [
      "acc:  0.8866\n",
      "auc:  0.9418962658906727\n"
     ]
    }
   ],
   "source": [
    "train_data_X_val['prob'] = gbm_val_1.predict(train_data_X_val[use_cols])\n",
    "train_data_X_val['pred'] = np.where(train_data_X_val['prob'] > 0.5, 1, 0)\n",
    "\n",
    "acc = np.round(accuracy_score(train_data_y_val, train_data_X_val['pred']), 4)\n",
    "auc = roc_auc_score(train_data_y_val, train_data_X_val['prob'])\n",
    "\n",
    "print('acc: ', acc)\n",
    "print('auc: ', auc)"
   ]
  },
  {
   "cell_type": "code",
   "execution_count": 30,
   "metadata": {
    "ExecuteTime": {
     "end_time": "2020-07-09T15:23:56.764436Z",
     "start_time": "2020-07-09T15:23:56.736454Z"
    }
   },
   "outputs": [],
   "source": [
    "def focal_loss_lgb(y_pred, dtrain, alpha, gamma):\n",
    "    \"\"\"\n",
    "    Focal Loss for lightgbm\n",
    "    Parameters:\n",
    "    -----------\n",
    "    y_pred: numpy.ndarray\n",
    "        array with the predictions\n",
    "    dtrain: lightgbm.Dataset\n",
    "    alpha, gamma: float\n",
    "        See original paper https://arxiv.org/pdf/1708.02002.pdf\n",
    "    \"\"\"\n",
    "    a, g = alpha, gamma\n",
    "    y_true = dtrain.label\n",
    "    def fl(x,t):\n",
    "        p = 1/(1+np.exp(-x))\n",
    "        return -(a * t + (1-a) * (1-t)) * ((1 - (t*p + (1-t)*(1-p)))**g) * (t*np.log(p) + (1-t)*np.log(1-p))\n",
    "    partial_fl = lambda x: fl(x, y_true)\n",
    "    grad = derivative(partial_fl, y_pred, n=1, dx=1e-6)\n",
    "    hess = derivative(partial_fl, y_pred, n=2, dx=1e-6)\n",
    "    return grad, hess\n",
    "\n",
    "\n",
    "def focal_loss_lgb_eval_error(y_pred, dtrain, alpha, gamma):\n",
    "    \"\"\"\n",
    "    Adapation of the Focal Loss for lightgbm to be used as evaluation loss\n",
    "    Parameters:\n",
    "    -----------\n",
    "    y_pred: numpy.ndarray\n",
    "        array with the predictions\n",
    "    dtrain: lightgbm.Dataset\n",
    "    alpha, gamma: float\n",
    "        See original paper https://arxiv.org/pdf/1708.02002.pdf\n",
    "    \"\"\"\n",
    "    a, g = alpha, gamma\n",
    "    y_true = dtrain.label\n",
    "    p = 1/(1+np.exp(-y_pred))\n",
    "    loss = -(a*y_true + (1-a)*(1-y_true)) * ((1 - (y_true*p + (1-y_true)*(1-p)))**g) * (y_true*np.log(p)+(1-y_true)*np.log(1-p))\n",
    "    return 'focal_loss', np.mean(loss), False\n",
    "\n",
    "\n",
    "focal_loss = lambda x,y: focal_loss_lgb(x, y, 0.25, 2.)\n",
    "eval_error = lambda x,y: focal_loss_lgb_eval_error(x, y, 0.25, 2.)"
   ]
  },
  {
   "cell_type": "code",
   "execution_count": 31,
   "metadata": {
    "ExecuteTime": {
     "end_time": "2020-07-09T15:23:56.779427Z",
     "start_time": "2020-07-09T15:23:56.770432Z"
    }
   },
   "outputs": [],
   "source": [
    "params = {'task': 'train',\n",
    "          'boosting_type': 'gbdt',\n",
    "          'objective': 'binary',\n",
    "          # 'metric': 'binary_logloss',\n",
    "          'num_leaves': 31,\n",
    "          'learning_rate': 0.05,\n",
    "          'feature_fraction': 0.95,\n",
    "          'bagging_fraction': 0.85,\n",
    "          'bagging_freq': 5, \n",
    "          'min_data_in_leaf':15}"
   ]
  },
  {
   "cell_type": "code",
   "execution_count": 32,
   "metadata": {
    "ExecuteTime": {
     "end_time": "2020-07-09T15:36:23.491953Z",
     "start_time": "2020-07-09T15:23:56.783425Z"
    }
   },
   "outputs": [
    {
     "name": "stdout",
     "output_type": "stream",
     "text": [
      "Start training...\n",
      "Done\n"
     ]
    }
   ],
   "source": [
    "lgb_train = lgb.Dataset(train_data_X[use_cols], train_data_y)   \n",
    "\n",
    "print('Start training...')\n",
    "\n",
    "gbm_1  = lgb.train(params,\n",
    "                   lgb_train,\n",
    "                   num_boost_round=gbm_val_1.best_iteration + 20,\n",
    "                   fobj=focal_loss,\n",
    "                   feval=eval_error)\n",
    "print('Done')"
   ]
  },
  {
   "cell_type": "code",
   "execution_count": 33,
   "metadata": {
    "ExecuteTime": {
     "end_time": "2020-07-09T15:36:30.615881Z",
     "start_time": "2020-07-09T15:36:23.493953Z"
    }
   },
   "outputs": [],
   "source": [
    "test1['label'] = np.where(gbm_1.predict(test1_data_X[use_cols]) > 0.5, 1, 0)\n",
    "\n",
    "test1[['sid', 'label']].to_csv('../sub/sub_{}_{}.csv'.format(time.strftime('%Y%m%d'), acc), index=False)"
   ]
  }
 ],
 "metadata": {
  "kernelspec": {
   "display_name": "Python 3",
   "language": "python",
   "name": "python3"
  },
  "language_info": {
   "codemirror_mode": {
    "name": "ipython",
    "version": 3
   },
   "file_extension": ".py",
   "mimetype": "text/x-python",
   "name": "python",
   "nbconvert_exporter": "python",
   "pygments_lexer": "ipython3",
   "version": "3.7.3"
  },
  "toc": {
   "base_numbering": 1,
   "nav_menu": {},
   "number_sections": true,
   "sideBar": true,
   "skip_h1_title": false,
   "title_cell": "Table of Contents",
   "title_sidebar": "Contents",
   "toc_cell": false,
   "toc_position": {},
   "toc_section_display": true,
   "toc_window_display": false
  },
  "varInspector": {
   "cols": {
    "lenName": 16,
    "lenType": 16,
    "lenVar": 40
   },
   "kernels_config": {
    "python": {
     "delete_cmd_postfix": "",
     "delete_cmd_prefix": "del ",
     "library": "var_list.py",
     "varRefreshCmd": "print(var_dic_list())"
    },
    "r": {
     "delete_cmd_postfix": ") ",
     "delete_cmd_prefix": "rm(",
     "library": "var_list.r",
     "varRefreshCmd": "cat(var_dic_list()) "
    }
   },
   "types_to_exclude": [
    "module",
    "function",
    "builtin_function_or_method",
    "instance",
    "_Feature"
   ],
   "window_display": false
  }
 },
 "nbformat": 4,
 "nbformat_minor": 2
}
