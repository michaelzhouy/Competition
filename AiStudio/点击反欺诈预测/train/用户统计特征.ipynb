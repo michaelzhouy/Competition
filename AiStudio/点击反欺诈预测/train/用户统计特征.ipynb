{
 "cells": [
  {
   "cell_type": "code",
   "execution_count": 1,
   "metadata": {
    "ExecuteTime": {
     "end_time": "2020-07-06T01:35:23.661894Z",
     "start_time": "2020-07-06T01:35:22.048885Z"
    }
   },
   "outputs": [],
   "source": [
    "import numpy as np\n",
    "import pandas as pd\n",
    "import matplotlib.pyplot as plt\n",
    "import seaborn as sns\n",
    "from sklearn.model_selection import train_test_split\n",
    "from sklearn.metrics import accuracy_score, roc_auc_score\n",
    "from sklearn.preprocessing import LabelEncoder\n",
    "import lightgbm as lgb\n",
    "import time\n",
    "import gc\n",
    "import warnings\n",
    "\n",
    "%matplotlib inline\n",
    "warnings.filterwarnings('ignore')\n",
    "pd.set_option('max_columns', None)\n",
    "pd.set_option('max_rows', None)"
   ]
  },
  {
   "cell_type": "code",
   "execution_count": 2,
   "metadata": {
    "ExecuteTime": {
     "end_time": "2020-07-06T01:35:24.371082Z",
     "start_time": "2020-07-06T01:35:23.661894Z"
    }
   },
   "outputs": [
    {
     "data": {
      "text/html": [
       "<div>\n",
       "<style scoped>\n",
       "    .dataframe tbody tr th:only-of-type {\n",
       "        vertical-align: middle;\n",
       "    }\n",
       "\n",
       "    .dataframe tbody tr th {\n",
       "        vertical-align: top;\n",
       "    }\n",
       "\n",
       "    .dataframe thead th {\n",
       "        text-align: right;\n",
       "    }\n",
       "</style>\n",
       "<table border=\"1\" class=\"dataframe\">\n",
       "  <thead>\n",
       "    <tr style=\"text-align: right;\">\n",
       "      <th></th>\n",
       "      <th>android_id</th>\n",
       "      <th>apptype</th>\n",
       "      <th>carrier</th>\n",
       "      <th>dev_height</th>\n",
       "      <th>dev_ppi</th>\n",
       "      <th>dev_width</th>\n",
       "      <th>label</th>\n",
       "      <th>lan</th>\n",
       "      <th>media_id</th>\n",
       "      <th>ntt</th>\n",
       "      <th>osv</th>\n",
       "      <th>package</th>\n",
       "      <th>sid</th>\n",
       "      <th>timestamp</th>\n",
       "      <th>version</th>\n",
       "      <th>fea_hash</th>\n",
       "      <th>location</th>\n",
       "      <th>fea1_hash</th>\n",
       "      <th>cus_type</th>\n",
       "    </tr>\n",
       "  </thead>\n",
       "  <tbody>\n",
       "    <tr>\n",
       "      <th>0</th>\n",
       "      <td>316361</td>\n",
       "      <td>1199</td>\n",
       "      <td>1.0</td>\n",
       "      <td>NaN</td>\n",
       "      <td>NaN</td>\n",
       "      <td>NaN</td>\n",
       "      <td>1</td>\n",
       "      <td>NaN</td>\n",
       "      <td>104</td>\n",
       "      <td>6.0</td>\n",
       "      <td>9.0</td>\n",
       "      <td>18</td>\n",
       "      <td>1438873</td>\n",
       "      <td>2019-06-07 15:32:01</td>\n",
       "      <td>8</td>\n",
       "      <td>2.135019e+09</td>\n",
       "      <td>0</td>\n",
       "      <td>2329670524</td>\n",
       "      <td>601</td>\n",
       "    </tr>\n",
       "    <tr>\n",
       "      <th>1</th>\n",
       "      <td>135939</td>\n",
       "      <td>893</td>\n",
       "      <td>NaN</td>\n",
       "      <td>NaN</td>\n",
       "      <td>NaN</td>\n",
       "      <td>NaN</td>\n",
       "      <td>1</td>\n",
       "      <td>NaN</td>\n",
       "      <td>19</td>\n",
       "      <td>6.0</td>\n",
       "      <td>8.0</td>\n",
       "      <td>0</td>\n",
       "      <td>1185582</td>\n",
       "      <td>2019-06-08 19:40:40</td>\n",
       "      <td>4</td>\n",
       "      <td>2.782306e+09</td>\n",
       "      <td>1</td>\n",
       "      <td>2864801071</td>\n",
       "      <td>1000</td>\n",
       "    </tr>\n",
       "    <tr>\n",
       "      <th>2</th>\n",
       "      <td>399254</td>\n",
       "      <td>821</td>\n",
       "      <td>NaN</td>\n",
       "      <td>760.0</td>\n",
       "      <td>NaN</td>\n",
       "      <td>360.0</td>\n",
       "      <td>1</td>\n",
       "      <td>NaN</td>\n",
       "      <td>559</td>\n",
       "      <td>NaN</td>\n",
       "      <td>8.0</td>\n",
       "      <td>0</td>\n",
       "      <td>1555716</td>\n",
       "      <td>2019-06-06 23:59:13</td>\n",
       "      <td>0</td>\n",
       "      <td>1.392806e+09</td>\n",
       "      <td>2</td>\n",
       "      <td>628911675</td>\n",
       "      <td>696</td>\n",
       "    </tr>\n",
       "    <tr>\n",
       "      <th>3</th>\n",
       "      <td>68983</td>\n",
       "      <td>1004</td>\n",
       "      <td>1.0</td>\n",
       "      <td>2214.0</td>\n",
       "      <td>NaN</td>\n",
       "      <td>1080.0</td>\n",
       "      <td>0</td>\n",
       "      <td>NaN</td>\n",
       "      <td>129</td>\n",
       "      <td>2.0</td>\n",
       "      <td>8.0</td>\n",
       "      <td>0</td>\n",
       "      <td>1093419</td>\n",
       "      <td>2019-06-09 09:00:12</td>\n",
       "      <td>0</td>\n",
       "      <td>3.562553e+09</td>\n",
       "      <td>3</td>\n",
       "      <td>1283809327</td>\n",
       "      <td>753</td>\n",
       "    </tr>\n",
       "    <tr>\n",
       "      <th>4</th>\n",
       "      <td>288999</td>\n",
       "      <td>1076</td>\n",
       "      <td>1.0</td>\n",
       "      <td>2280.0</td>\n",
       "      <td>NaN</td>\n",
       "      <td>1080.0</td>\n",
       "      <td>1</td>\n",
       "      <td>1.0</td>\n",
       "      <td>64</td>\n",
       "      <td>2.0</td>\n",
       "      <td>8.0</td>\n",
       "      <td>0</td>\n",
       "      <td>1400089</td>\n",
       "      <td>2019-06-07 08:28:13</td>\n",
       "      <td>5</td>\n",
       "      <td>2.364522e+09</td>\n",
       "      <td>4</td>\n",
       "      <td>1510695983</td>\n",
       "      <td>582</td>\n",
       "    </tr>\n",
       "  </tbody>\n",
       "</table>\n",
       "</div>"
      ],
      "text/plain": [
       "   android_id  apptype  carrier  dev_height  dev_ppi  dev_width  label  lan  \\\n",
       "0      316361     1199      1.0         NaN      NaN        NaN      1  NaN   \n",
       "1      135939      893      NaN         NaN      NaN        NaN      1  NaN   \n",
       "2      399254      821      NaN       760.0      NaN      360.0      1  NaN   \n",
       "3       68983     1004      1.0      2214.0      NaN     1080.0      0  NaN   \n",
       "4      288999     1076      1.0      2280.0      NaN     1080.0      1  1.0   \n",
       "\n",
       "   media_id  ntt  osv  package      sid            timestamp  version  \\\n",
       "0       104  6.0  9.0       18  1438873  2019-06-07 15:32:01        8   \n",
       "1        19  6.0  8.0        0  1185582  2019-06-08 19:40:40        4   \n",
       "2       559  NaN  8.0        0  1555716  2019-06-06 23:59:13        0   \n",
       "3       129  2.0  8.0        0  1093419  2019-06-09 09:00:12        0   \n",
       "4        64  2.0  8.0        0  1400089  2019-06-07 08:28:13        5   \n",
       "\n",
       "       fea_hash  location   fea1_hash  cus_type  \n",
       "0  2.135019e+09         0  2329670524       601  \n",
       "1  2.782306e+09         1  2864801071      1000  \n",
       "2  1.392806e+09         2   628911675       696  \n",
       "3  3.562553e+09         3  1283809327       753  \n",
       "4  2.364522e+09         4  1510695983       582  "
      ]
     },
     "execution_count": 2,
     "metadata": {},
     "output_type": "execute_result"
    }
   ],
   "source": [
    "train = pd.read_hdf('../input/train.h5')\n",
    "train.head()"
   ]
  },
  {
   "cell_type": "code",
   "execution_count": 3,
   "metadata": {
    "ExecuteTime": {
     "end_time": "2020-07-06T01:35:24.455906Z",
     "start_time": "2020-07-06T01:35:24.372079Z"
    }
   },
   "outputs": [
    {
     "name": "stdout",
     "output_type": "stream",
     "text": [
      "<class 'pandas.core.frame.DataFrame'>\n",
      "Int64Index: 500000 entries, 0 to 499999\n",
      "Data columns (total 19 columns):\n",
      " #   Column      Non-Null Count   Dtype  \n",
      "---  ------      --------------   -----  \n",
      " 0   android_id  500000 non-null  int32  \n",
      " 1   apptype     500000 non-null  int16  \n",
      " 2   carrier     435093 non-null  float64\n",
      " 3   dev_height  392986 non-null  float16\n",
      " 4   dev_ppi     116709 non-null  float16\n",
      " 5   dev_width   392989 non-null  float16\n",
      " 6   label       500000 non-null  int8   \n",
      " 7   lan         316720 non-null  float64\n",
      " 8   media_id    500000 non-null  int16  \n",
      " 9   ntt         479383 non-null  float16\n",
      " 10  osv         493439 non-null  float64\n",
      " 11  package     500000 non-null  int16  \n",
      " 12  sid         500000 non-null  int32  \n",
      " 13  timestamp   500000 non-null  object \n",
      " 14  version     500000 non-null  int64  \n",
      " 15  fea_hash    499910 non-null  float64\n",
      " 16  location    500000 non-null  int16  \n",
      " 17  fea1_hash   500000 non-null  int64  \n",
      " 18  cus_type    500000 non-null  int16  \n",
      "dtypes: float16(4), float64(4), int16(5), int32(2), int64(2), int8(1), object(1)\n",
      "memory usage: 43.4+ MB\n"
     ]
    }
   ],
   "source": [
    "train.info()"
   ]
  },
  {
   "cell_type": "code",
   "execution_count": 4,
   "metadata": {
    "ExecuteTime": {
     "end_time": "2020-07-06T01:35:24.566607Z",
     "start_time": "2020-07-06T01:35:24.456866Z"
    }
   },
   "outputs": [
    {
     "data": {
      "text/html": [
       "<div>\n",
       "<style scoped>\n",
       "    .dataframe tbody tr th:only-of-type {\n",
       "        vertical-align: middle;\n",
       "    }\n",
       "\n",
       "    .dataframe tbody tr th {\n",
       "        vertical-align: top;\n",
       "    }\n",
       "\n",
       "    .dataframe thead th {\n",
       "        text-align: right;\n",
       "    }\n",
       "</style>\n",
       "<table border=\"1\" class=\"dataframe\">\n",
       "  <thead>\n",
       "    <tr style=\"text-align: right;\">\n",
       "      <th></th>\n",
       "      <th>android_id</th>\n",
       "      <th>apptype</th>\n",
       "      <th>carrier</th>\n",
       "      <th>dev_height</th>\n",
       "      <th>dev_ppi</th>\n",
       "      <th>dev_width</th>\n",
       "      <th>lan</th>\n",
       "      <th>media_id</th>\n",
       "      <th>ntt</th>\n",
       "      <th>osv</th>\n",
       "      <th>package</th>\n",
       "      <th>sid</th>\n",
       "      <th>timestamp</th>\n",
       "      <th>version</th>\n",
       "      <th>fea_hash</th>\n",
       "      <th>location</th>\n",
       "      <th>fea1_hash</th>\n",
       "      <th>cus_type</th>\n",
       "    </tr>\n",
       "  </thead>\n",
       "  <tbody>\n",
       "    <tr>\n",
       "      <th>0</th>\n",
       "      <td>0</td>\n",
       "      <td>1001</td>\n",
       "      <td>1.0</td>\n",
       "      <td>640.0</td>\n",
       "      <td>NaN</td>\n",
       "      <td>360.0</td>\n",
       "      <td>1.0</td>\n",
       "      <td>29</td>\n",
       "      <td>5.0</td>\n",
       "      <td>8.0</td>\n",
       "      <td>4</td>\n",
       "      <td>1177564</td>\n",
       "      <td>2019-06-08 15:18:31</td>\n",
       "      <td>0.0</td>\n",
       "      <td>3.426912e+09</td>\n",
       "      <td>34</td>\n",
       "      <td>2694799399</td>\n",
       "      <td>411</td>\n",
       "    </tr>\n",
       "    <tr>\n",
       "      <th>1</th>\n",
       "      <td>0</td>\n",
       "      <td>1106</td>\n",
       "      <td>1.0</td>\n",
       "      <td>NaN</td>\n",
       "      <td>NaN</td>\n",
       "      <td>NaN</td>\n",
       "      <td>NaN</td>\n",
       "      <td>39</td>\n",
       "      <td>2.0</td>\n",
       "      <td>8.0</td>\n",
       "      <td>65</td>\n",
       "      <td>1822122</td>\n",
       "      <td>2019-06-04 21:53:18</td>\n",
       "      <td>0.0</td>\n",
       "      <td>1.331186e+09</td>\n",
       "      <td>48</td>\n",
       "      <td>4190764663</td>\n",
       "      <td>411</td>\n",
       "    </tr>\n",
       "    <tr>\n",
       "      <th>2</th>\n",
       "      <td>0</td>\n",
       "      <td>1001</td>\n",
       "      <td>1.0</td>\n",
       "      <td>640.0</td>\n",
       "      <td>NaN</td>\n",
       "      <td>360.0</td>\n",
       "      <td>1.0</td>\n",
       "      <td>29</td>\n",
       "      <td>2.0</td>\n",
       "      <td>6.0</td>\n",
       "      <td>4</td>\n",
       "      <td>1178302</td>\n",
       "      <td>2019-06-08 20:28:43</td>\n",
       "      <td>0.0</td>\n",
       "      <td>1.118061e+09</td>\n",
       "      <td>25</td>\n",
       "      <td>2610913319</td>\n",
       "      <td>411</td>\n",
       "    </tr>\n",
       "    <tr>\n",
       "      <th>3</th>\n",
       "      <td>196009</td>\n",
       "      <td>1001</td>\n",
       "      <td>1.0</td>\n",
       "      <td>2016.0</td>\n",
       "      <td>NaN</td>\n",
       "      <td>1080.0</td>\n",
       "      <td>1.0</td>\n",
       "      <td>29</td>\n",
       "      <td>6.0</td>\n",
       "      <td>7.0</td>\n",
       "      <td>4</td>\n",
       "      <td>1269787</td>\n",
       "      <td>2019-06-08 15:51:17</td>\n",
       "      <td>3.0</td>\n",
       "      <td>3.780086e+09</td>\n",
       "      <td>3</td>\n",
       "      <td>2711576615</td>\n",
       "      <td>905</td>\n",
       "    </tr>\n",
       "    <tr>\n",
       "      <th>4</th>\n",
       "      <td>80444</td>\n",
       "      <td>1076</td>\n",
       "      <td>1.0</td>\n",
       "      <td>2280.0</td>\n",
       "      <td>NaN</td>\n",
       "      <td>1080.0</td>\n",
       "      <td>1.0</td>\n",
       "      <td>64</td>\n",
       "      <td>2.0</td>\n",
       "      <td>9.0</td>\n",
       "      <td>0</td>\n",
       "      <td>1604520</td>\n",
       "      <td>2019-06-05 23:22:29</td>\n",
       "      <td>5.0</td>\n",
       "      <td>1.274342e+09</td>\n",
       "      <td>108</td>\n",
       "      <td>51536943</td>\n",
       "      <td>734</td>\n",
       "    </tr>\n",
       "  </tbody>\n",
       "</table>\n",
       "</div>"
      ],
      "text/plain": [
       "   android_id  apptype  carrier  dev_height  dev_ppi  dev_width  lan  \\\n",
       "0           0     1001      1.0       640.0      NaN      360.0  1.0   \n",
       "1           0     1106      1.0         NaN      NaN        NaN  NaN   \n",
       "2           0     1001      1.0       640.0      NaN      360.0  1.0   \n",
       "3      196009     1001      1.0      2016.0      NaN     1080.0  1.0   \n",
       "4       80444     1076      1.0      2280.0      NaN     1080.0  1.0   \n",
       "\n",
       "   media_id  ntt  osv  package      sid            timestamp  version  \\\n",
       "0        29  5.0  8.0        4  1177564  2019-06-08 15:18:31      0.0   \n",
       "1        39  2.0  8.0       65  1822122  2019-06-04 21:53:18      0.0   \n",
       "2        29  2.0  6.0        4  1178302  2019-06-08 20:28:43      0.0   \n",
       "3        29  6.0  7.0        4  1269787  2019-06-08 15:51:17      3.0   \n",
       "4        64  2.0  9.0        0  1604520  2019-06-05 23:22:29      5.0   \n",
       "\n",
       "       fea_hash  location   fea1_hash  cus_type  \n",
       "0  3.426912e+09        34  2694799399       411  \n",
       "1  1.331186e+09        48  4190764663       411  \n",
       "2  1.118061e+09        25  2610913319       411  \n",
       "3  3.780086e+09         3  2711576615       905  \n",
       "4  1.274342e+09       108    51536943       734  "
      ]
     },
     "execution_count": 4,
     "metadata": {},
     "output_type": "execute_result"
    }
   ],
   "source": [
    "test1 = pd.read_hdf('../input/test2.h5')\n",
    "test1.head()"
   ]
  },
  {
   "cell_type": "code",
   "execution_count": 5,
   "metadata": {
    "ExecuteTime": {
     "end_time": "2020-07-06T01:35:24.599520Z",
     "start_time": "2020-07-06T01:35:24.568570Z"
    }
   },
   "outputs": [
    {
     "name": "stdout",
     "output_type": "stream",
     "text": [
      "<class 'pandas.core.frame.DataFrame'>\n",
      "Int64Index: 150000 entries, 0 to 149999\n",
      "Data columns (total 18 columns):\n",
      " #   Column      Non-Null Count   Dtype  \n",
      "---  ------      --------------   -----  \n",
      " 0   android_id  150000 non-null  int32  \n",
      " 1   apptype     150000 non-null  int16  \n",
      " 2   carrier     130369 non-null  float64\n",
      " 3   dev_height  117568 non-null  float16\n",
      " 4   dev_ppi     34910 non-null   float16\n",
      " 5   dev_width   117571 non-null  float16\n",
      " 6   lan         94563 non-null   float64\n",
      " 7   media_id    150000 non-null  int16  \n",
      " 8   ntt         143774 non-null  float16\n",
      " 9   osv         148095 non-null  float64\n",
      " 10  package     150000 non-null  int16  \n",
      " 11  sid         150000 non-null  int32  \n",
      " 12  timestamp   150000 non-null  object \n",
      " 13  version     149999 non-null  float64\n",
      " 14  fea_hash    149968 non-null  float64\n",
      " 15  location    150000 non-null  int16  \n",
      " 16  fea1_hash   150000 non-null  int64  \n",
      " 17  cus_type    150000 non-null  int16  \n",
      "dtypes: float16(4), float64(5), int16(5), int32(2), int64(1), object(1)\n",
      "memory usage: 12.9+ MB\n"
     ]
    }
   ],
   "source": [
    "test1.info()"
   ]
  },
  {
   "cell_type": "code",
   "execution_count": 6,
   "metadata": {
    "ExecuteTime": {
     "end_time": "2020-07-06T01:35:24.694231Z",
     "start_time": "2020-07-06T01:35:24.600481Z"
    }
   },
   "outputs": [],
   "source": [
    "data = pd.concat([train, test1])"
   ]
  },
  {
   "cell_type": "code",
   "execution_count": 7,
   "metadata": {
    "ExecuteTime": {
     "end_time": "2020-07-06T01:35:24.844828Z",
     "start_time": "2020-07-06T01:35:24.697223Z"
    },
    "scrolled": true
   },
   "outputs": [
    {
     "name": "stdout",
     "output_type": "stream",
     "text": [
      "<class 'pandas.core.frame.DataFrame'>\n",
      "Int64Index: 650000 entries, 0 to 149999\n",
      "Data columns (total 19 columns):\n",
      " #   Column      Non-Null Count   Dtype  \n",
      "---  ------      --------------   -----  \n",
      " 0   android_id  650000 non-null  int32  \n",
      " 1   apptype     650000 non-null  int16  \n",
      " 2   carrier     565462 non-null  float64\n",
      " 3   dev_height  510554 non-null  float16\n",
      " 4   dev_ppi     151619 non-null  float16\n",
      " 5   dev_width   510560 non-null  float16\n",
      " 6   label       500000 non-null  float64\n",
      " 7   lan         411283 non-null  float64\n",
      " 8   media_id    650000 non-null  int16  \n",
      " 9   ntt         623157 non-null  float16\n",
      " 10  osv         641534 non-null  float64\n",
      " 11  package     650000 non-null  int16  \n",
      " 12  sid         650000 non-null  int32  \n",
      " 13  timestamp   650000 non-null  object \n",
      " 14  version     649999 non-null  float64\n",
      " 15  fea_hash    649878 non-null  float64\n",
      " 16  location    650000 non-null  int16  \n",
      " 17  fea1_hash   650000 non-null  int64  \n",
      " 18  cus_type    650000 non-null  int16  \n",
      "dtypes: float16(4), float64(6), int16(5), int32(2), int64(1), object(1)\n",
      "memory usage: 60.7+ MB\n"
     ]
    }
   ],
   "source": [
    "data.info()"
   ]
  },
  {
   "cell_type": "markdown",
   "metadata": {},
   "source": [
    "发现：android_id为0的有164928个，比其他的特征要高出了100多个数量级，猜测，0可能是缺失值的一种编码方式"
   ]
  },
  {
   "cell_type": "code",
   "execution_count": 8,
   "metadata": {
    "ExecuteTime": {
     "end_time": "2020-07-06T01:35:24.923425Z",
     "start_time": "2020-07-06T01:35:24.846823Z"
    }
   },
   "outputs": [
    {
     "data": {
      "text/plain": [
       "0         165013\n",
       "1190         272\n",
       "6964         117\n",
       "16662         39\n",
       "2604          38\n",
       "8183          36\n",
       "44716         26\n",
       "43274         26\n",
       "19949         24\n",
       "114020        23\n",
       "Name: android_id, dtype: int64"
      ]
     },
     "execution_count": 8,
     "metadata": {},
     "output_type": "execute_result"
    }
   ],
   "source": [
    "data['android_id'].value_counts()[:10]"
   ]
  },
  {
   "cell_type": "code",
   "execution_count": 9,
   "metadata": {
    "ExecuteTime": {
     "end_time": "2020-07-06T01:35:24.929411Z",
     "start_time": "2020-07-06T01:35:24.924422Z"
    }
   },
   "outputs": [
    {
     "name": "stdout",
     "output_type": "stream",
     "text": [
      "There are about 11 categorical features.\n"
     ]
    }
   ],
   "source": [
    "cate_cols = ['android_id', 'apptype', 'carrier', 'lan', 'media_id', 'ntt', 'osv',\n",
    "             'version', 'location', 'cus_type', 'package']\n",
    "\n",
    "print('There are about {} categorical features.'.format(len(cate_cols)))"
   ]
  },
  {
   "cell_type": "code",
   "execution_count": 10,
   "metadata": {
    "ExecuteTime": {
     "end_time": "2020-07-06T01:35:25.421409Z",
     "start_time": "2020-07-06T01:35:24.931440Z"
    }
   },
   "outputs": [
    {
     "name": "stdout",
     "output_type": "stream",
     "text": [
      "android_id\n",
      "apptype\n",
      "carrier\n",
      "lan\n",
      "media_id\n",
      "ntt\n",
      "osv\n",
      "version\n",
      "location\n",
      "cus_type\n",
      "package\n"
     ]
    }
   ],
   "source": [
    "# count编码\n",
    "for col in cate_cols: \n",
    "    print(col)\n",
    "    data[col + '_cnt_code'] = data[col].map(data[col].value_counts()) "
   ]
  },
  {
   "cell_type": "code",
   "execution_count": 11,
   "metadata": {
    "ExecuteTime": {
     "end_time": "2020-07-06T01:35:27.653744Z",
     "start_time": "2020-07-06T01:35:25.422362Z"
    }
   },
   "outputs": [],
   "source": [
    "data['user_id'] = data['package'].astype(str) + '_' + data['version'].astype(str) + '_' + data['android_id'].astype(str) + '_' + data['carrier'].astype(str) + '_' + data['osv'].astype(str) + '_' + data['lan'].astype(str)"
   ]
  },
  {
   "cell_type": "code",
   "execution_count": 12,
   "metadata": {
    "ExecuteTime": {
     "end_time": "2020-07-06T01:35:29.199517Z",
     "start_time": "2020-07-06T01:35:27.654708Z"
    }
   },
   "outputs": [],
   "source": [
    "data['day'] = data['timestamp'].astype('datetime64').dt.day\n",
    "data['hour'] = data['timestamp'].astype('datetime64').dt.hour\n",
    "data['dayofweek'] = data['timestamp'].astype('datetime64').dt.dayofweek\n",
    "\n",
    "data['time'] = (data['day'] - data['day'].min()) * 24 + data['hour']"
   ]
  },
  {
   "cell_type": "code",
   "execution_count": 13,
   "metadata": {
    "ExecuteTime": {
     "end_time": "2020-07-06T01:35:29.301226Z",
     "start_time": "2020-07-06T01:35:29.199517Z"
    }
   },
   "outputs": [
    {
     "name": "stdout",
     "output_type": "stream",
     "text": [
      "day\n",
      "hour\n",
      "dayofweek\n",
      "time\n"
     ]
    }
   ],
   "source": [
    "time_cols = ['day', 'hour', 'dayofweek', 'time']\n",
    "\n",
    "# count编码\n",
    "for col in time_cols: \n",
    "    print(col)\n",
    "    data[col + '_cnt_code'] = data[col].map(data[col].value_counts()) "
   ]
  },
  {
   "cell_type": "markdown",
   "metadata": {},
   "source": [
    "## 用户特征1\n",
    "1. 用户每天在某个app上出现的次数\n",
    "2. 用户每天，每小时出现的次数\n",
    "3. 用户距上次出现的时间差"
   ]
  },
  {
   "cell_type": "code",
   "execution_count": 14,
   "metadata": {
    "ExecuteTime": {
     "end_time": "2020-07-06T01:35:33.895916Z",
     "start_time": "2020-07-06T01:35:29.302224Z"
    }
   },
   "outputs": [
    {
     "name": "stdout",
     "output_type": "stream",
     "text": [
      "user_id_day_app\n",
      "user_id_time_app\n"
     ]
    }
   ],
   "source": [
    "# 用户每天/每小时在某个app上出现的次数\n",
    "for i in ['day', 'time']:\n",
    "    print('user_id_' + i + '_app')\n",
    "    data['user_id_' + i + '_app'] = data['user_id'] + '_' + data[i].astype(str) + '_' + data['media_id'].astype(str)\n",
    "    dic_ = data['user_id_' + i + '_app'].value_counts().to_dict()\n",
    "    data['user_id_' + i + '_app_count'] = data['user_id_' + i + '_app'].apply(lambda x: dic_[x])\n",
    "    data.drop('user_id_' + i + '_app', axis=1, inplace = True)"
   ]
  },
  {
   "cell_type": "code",
   "execution_count": 15,
   "metadata": {
    "ExecuteTime": {
     "end_time": "2020-07-06T01:35:37.511761Z",
     "start_time": "2020-07-06T01:35:33.895916Z"
    }
   },
   "outputs": [
    {
     "name": "stdout",
     "output_type": "stream",
     "text": [
      "user_id_day\n",
      "user_id_time\n"
     ]
    }
   ],
   "source": [
    "# 用户每天,每个小时出现的次数\n",
    "for i in ['day', 'time']:\n",
    "    print('user_id_' + i)\n",
    "    data['user_id_' + i] = data['user_id'] + '_' + data[i].astype(str)\n",
    "    dic_ = data['user_id_' + i].value_counts().to_dict()\n",
    "    data['user_id_' + i + '_count'] = data['user_id_' + i].apply(lambda x: dic_[x])\n",
    "    data.drop('user_id_' + i, axis=1, inplace=True)"
   ]
  },
  {
   "cell_type": "code",
   "execution_count": 16,
   "metadata": {
    "ExecuteTime": {
     "end_time": "2020-07-06T01:35:37.516737Z",
     "start_time": "2020-07-06T01:35:37.511761Z"
    }
   },
   "outputs": [],
   "source": [
    "# 用户本次出现距上次时间差\n",
    "# data['user_to_lasttime'] = data.groupby('user_id')['time'].diff().values"
   ]
  },
  {
   "cell_type": "code",
   "execution_count": 17,
   "metadata": {
    "ExecuteTime": {
     "end_time": "2020-07-06T01:35:38.420458Z",
     "start_time": "2020-07-06T01:35:37.518241Z"
    }
   },
   "outputs": [
    {
     "name": "stdout",
     "output_type": "stream",
     "text": [
      "user_id\n"
     ]
    }
   ],
   "source": [
    "for col in data.columns:\n",
    "    if col not in ['sid', 'label', 'timestamp']: \n",
    "        if data[col].dtypes == 'O':\n",
    "            print(col)\n",
    "            data[col+'_labelencode'] = LabelEncoder().fit_transform(data[col].values)"
   ]
  },
  {
   "cell_type": "code",
   "execution_count": 18,
   "metadata": {
    "ExecuteTime": {
     "end_time": "2020-07-06T01:35:48.249631Z",
     "start_time": "2020-07-06T01:35:38.420458Z"
    }
   },
   "outputs": [
    {
     "name": "stdout",
     "output_type": "stream",
     "text": [
      "user_id_day_fea_hash\n",
      "user_id_day_fea1_hash\n",
      "user_id_time_fea_hash\n",
      "user_id_time_fea1_hash\n"
     ]
    }
   ],
   "source": [
    "# 用户每天/每小时在某个app上出现的次数\n",
    "for i in ['day','time']:\n",
    "    for c in ['fea_hash','fea1_hash']:\n",
    "        print('user_id_'+ i +'_' +c)\n",
    "        data['user_id_'+ i + '_' +c] = data['user_id']  + '_' + data[i].astype(str) + '_' + data[c].astype(str)\n",
    "        dic_ = data['user_id_'+ i +'_' +c].value_counts().to_dict()\n",
    "        data['user_id_'+ i +'_' + c + '_count'] = data['user_id_'+ i +'_' + c].apply(lambda x: dic_[x])\n",
    "        data.drop('user_id_'+i +'_' + c, axis=1,inplace = True)"
   ]
  },
  {
   "cell_type": "code",
   "execution_count": 19,
   "metadata": {
    "ExecuteTime": {
     "end_time": "2020-07-06T01:35:48.397985Z",
     "start_time": "2020-07-06T01:35:48.249631Z"
    }
   },
   "outputs": [],
   "source": [
    "train_data = data.iloc[:train.shape[0], :]\n",
    "test1_data = data.iloc[train.shape[0]:, :]\n",
    "\n",
    "train_data_y = train_data['label']\n",
    "train_data_X = train_data.drop('label', axis=1)\n",
    "\n",
    "test1_data_y = test1_data['label']\n",
    "test1_data_X = test1_data.drop('label', axis=1)"
   ]
  },
  {
   "cell_type": "code",
   "execution_count": 20,
   "metadata": {
    "ExecuteTime": {
     "end_time": "2020-07-06T01:35:48.730097Z",
     "start_time": "2020-07-06T01:35:48.398976Z"
    }
   },
   "outputs": [],
   "source": [
    "train_data_X_train, train_data_X_val, train_data_y_train, train_data_y_val = train_test_split(train_data_X, train_data_y, random_state=2020)"
   ]
  },
  {
   "cell_type": "code",
   "execution_count": 21,
   "metadata": {
    "ExecuteTime": {
     "end_time": "2020-07-06T01:35:48.739075Z",
     "start_time": "2020-07-06T01:35:48.731059Z"
    }
   },
   "outputs": [],
   "source": [
    "train_cols = [i for i in train_data_X_train.columns if i not in ['sid', 'label'] and train_data_X_train[i].dtypes != 'O']"
   ]
  },
  {
   "cell_type": "code",
   "execution_count": 22,
   "metadata": {
    "ExecuteTime": {
     "end_time": "2020-07-06T01:35:48.754642Z",
     "start_time": "2020-07-06T01:35:48.744644Z"
    }
   },
   "outputs": [],
   "source": [
    "params = {'task': 'train',\n",
    "          'boosting_type': 'gbdt',\n",
    "          'objective': 'binary',\n",
    "          'metric': 'auc',\n",
    "          'num_leaves': 31,\n",
    "          'learning_rate': 0.05,\n",
    "          'feature_fraction': 0.95,\n",
    "          'bagging_fraction': 0.85,\n",
    "          'bagging_freq': 5, \n",
    "          'min_data_in_leaf':15}"
   ]
  },
  {
   "cell_type": "code",
   "execution_count": 23,
   "metadata": {
    "ExecuteTime": {
     "end_time": "2020-07-06T01:37:39.373323Z",
     "start_time": "2020-07-06T01:35:48.757612Z"
    }
   },
   "outputs": [
    {
     "name": "stdout",
     "output_type": "stream",
     "text": [
      "android_id\n",
      "Training until validation scores don't improve for 20 rounds\n",
      "[10]\ttraining's auc: 0.563345\tvalid_0's auc: 0.557344\n",
      "[20]\ttraining's auc: 0.5639\tvalid_0's auc: 0.557248\n",
      "Early stopping, best iteration is:\n",
      "[1]\ttraining's auc: 0.561893\tvalid_0's auc: 0.55773\n",
      "*****\n",
      "0.5577299690097062\n",
      "********************\n",
      "\n",
      "\n",
      "apptype\n",
      "Training until validation scores don't improve for 20 rounds\n",
      "[10]\ttraining's auc: 0.81659\tvalid_0's auc: 0.816981\n",
      "[20]\ttraining's auc: 0.817316\tvalid_0's auc: 0.817574\n",
      "[30]\ttraining's auc: 0.817625\tvalid_0's auc: 0.817837\n",
      "[40]\ttraining's auc: 0.818037\tvalid_0's auc: 0.818302\n",
      "[50]\ttraining's auc: 0.818378\tvalid_0's auc: 0.818613\n",
      "[60]\ttraining's auc: 0.818515\tvalid_0's auc: 0.818814\n",
      "[70]\ttraining's auc: 0.818598\tvalid_0's auc: 0.8189\n",
      "[80]\ttraining's auc: 0.818663\tvalid_0's auc: 0.818977\n",
      "[90]\ttraining's auc: 0.818767\tvalid_0's auc: 0.819133\n",
      "[100]\ttraining's auc: 0.818811\tvalid_0's auc: 0.819139\n",
      "Did not meet early stopping. Best iteration is:\n",
      "[99]\ttraining's auc: 0.818811\tvalid_0's auc: 0.819139\n",
      "*****\n",
      "0.8191393336614743\n",
      "********************\n",
      "\n",
      "\n",
      "carrier\n",
      "Training until validation scores don't improve for 20 rounds\n",
      "[10]\ttraining's auc: 0.543381\tvalid_0's auc: 0.541281\n",
      "[20]\ttraining's auc: 0.543381\tvalid_0's auc: 0.541281\n",
      "Early stopping, best iteration is:\n",
      "[1]\ttraining's auc: 0.543381\tvalid_0's auc: 0.541281\n",
      "*****\n",
      "0.5412813170021665\n",
      "********************\n",
      "\n",
      "\n",
      "dev_height\n",
      "Training until validation scores don't improve for 20 rounds\n",
      "[10]\ttraining's auc: 0.799664\tvalid_0's auc: 0.798958\n",
      "[20]\ttraining's auc: 0.801982\tvalid_0's auc: 0.801207\n",
      "[30]\ttraining's auc: 0.803761\tvalid_0's auc: 0.803265\n",
      "[40]\ttraining's auc: 0.804236\tvalid_0's auc: 0.803636\n",
      "[50]\ttraining's auc: 0.80484\tvalid_0's auc: 0.804358\n",
      "[60]\ttraining's auc: 0.805173\tvalid_0's auc: 0.804873\n",
      "[70]\ttraining's auc: 0.805726\tvalid_0's auc: 0.805289\n",
      "[80]\ttraining's auc: 0.806156\tvalid_0's auc: 0.805642\n",
      "[90]\ttraining's auc: 0.806407\tvalid_0's auc: 0.805894\n",
      "[100]\ttraining's auc: 0.806495\tvalid_0's auc: 0.806001\n",
      "Did not meet early stopping. Best iteration is:\n",
      "[100]\ttraining's auc: 0.806495\tvalid_0's auc: 0.806001\n",
      "*****\n",
      "0.8060011536311009\n",
      "********************\n",
      "\n",
      "\n",
      "dev_ppi\n",
      "Training until validation scores don't improve for 20 rounds\n",
      "[10]\ttraining's auc: 0.521534\tvalid_0's auc: 0.522592\n",
      "[20]\ttraining's auc: 0.521534\tvalid_0's auc: 0.522592\n",
      "Early stopping, best iteration is:\n",
      "[1]\ttraining's auc: 0.521533\tvalid_0's auc: 0.522592\n",
      "*****\n",
      "0.5225922585230195\n",
      "********************\n",
      "\n",
      "\n",
      "dev_width\n",
      "Training until validation scores don't improve for 20 rounds\n",
      "[10]\ttraining's auc: 0.704248\tvalid_0's auc: 0.701541\n",
      "[20]\ttraining's auc: 0.704576\tvalid_0's auc: 0.701982\n",
      "[30]\ttraining's auc: 0.704612\tvalid_0's auc: 0.70197\n",
      "[40]\ttraining's auc: 0.704758\tvalid_0's auc: 0.702091\n",
      "[50]\ttraining's auc: 0.704855\tvalid_0's auc: 0.702199\n",
      "[60]\ttraining's auc: 0.704899\tvalid_0's auc: 0.702204\n",
      "[70]\ttraining's auc: 0.704972\tvalid_0's auc: 0.702291\n",
      "[80]\ttraining's auc: 0.704973\tvalid_0's auc: 0.702293\n",
      "[90]\ttraining's auc: 0.704978\tvalid_0's auc: 0.702291\n",
      "[100]\ttraining's auc: 0.704991\tvalid_0's auc: 0.702284\n",
      "Did not meet early stopping. Best iteration is:\n",
      "[100]\ttraining's auc: 0.704991\tvalid_0's auc: 0.702284\n",
      "*****\n",
      "0.7022839756689822\n",
      "********************\n",
      "\n",
      "\n",
      "lan\n",
      "Training until validation scores don't improve for 20 rounds\n",
      "[10]\ttraining's auc: 0.67739\tvalid_0's auc: 0.675126\n",
      "[20]\ttraining's auc: 0.67739\tvalid_0's auc: 0.675126\n",
      "Early stopping, best iteration is:\n",
      "[8]\ttraining's auc: 0.67739\tvalid_0's auc: 0.675126\n",
      "*****\n",
      "0.6751258487025812\n",
      "********************\n",
      "\n",
      "\n",
      "media_id\n",
      "Training until validation scores don't improve for 20 rounds\n",
      "[10]\ttraining's auc: 0.856692\tvalid_0's auc: 0.854977\n",
      "[20]\ttraining's auc: 0.860575\tvalid_0's auc: 0.858738\n",
      "[30]\ttraining's auc: 0.862474\tvalid_0's auc: 0.860576\n",
      "[40]\ttraining's auc: 0.86429\tvalid_0's auc: 0.862333\n",
      "[50]\ttraining's auc: 0.865304\tvalid_0's auc: 0.863332\n",
      "[60]\ttraining's auc: 0.866549\tvalid_0's auc: 0.864493\n",
      "[70]\ttraining's auc: 0.867324\tvalid_0's auc: 0.865213\n",
      "[80]\ttraining's auc: 0.868121\tvalid_0's auc: 0.865993\n",
      "[90]\ttraining's auc: 0.868701\tvalid_0's auc: 0.866577\n",
      "[100]\ttraining's auc: 0.869248\tvalid_0's auc: 0.867198\n",
      "Did not meet early stopping. Best iteration is:\n",
      "[98]\ttraining's auc: 0.869279\tvalid_0's auc: 0.86723\n",
      "*****\n",
      "0.867229524905215\n",
      "********************\n",
      "\n",
      "\n",
      "ntt\n",
      "Training until validation scores don't improve for 20 rounds\n",
      "[10]\ttraining's auc: 0.589989\tvalid_0's auc: 0.587131\n",
      "[20]\ttraining's auc: 0.589989\tvalid_0's auc: 0.587131\n",
      "Early stopping, best iteration is:\n",
      "[1]\ttraining's auc: 0.589989\tvalid_0's auc: 0.587131\n",
      "*****\n",
      "0.5871310958812972\n",
      "********************\n",
      "\n",
      "\n",
      "osv\n",
      "Training until validation scores don't improve for 20 rounds\n",
      "[10]\ttraining's auc: 0.766947\tvalid_0's auc: 0.765808\n",
      "[20]\ttraining's auc: 0.766947\tvalid_0's auc: 0.765808\n",
      "Early stopping, best iteration is:\n",
      "[1]\ttraining's auc: 0.766947\tvalid_0's auc: 0.765808\n",
      "*****\n",
      "0.7658075270804243\n",
      "********************\n",
      "\n",
      "\n",
      "package\n",
      "Training until validation scores don't improve for 20 rounds\n",
      "[10]\ttraining's auc: 0.823316\tvalid_0's auc: 0.82166\n",
      "[20]\ttraining's auc: 0.824609\tvalid_0's auc: 0.822885\n",
      "[30]\ttraining's auc: 0.82805\tvalid_0's auc: 0.825963\n",
      "[40]\ttraining's auc: 0.830189\tvalid_0's auc: 0.827967\n",
      "[50]\ttraining's auc: 0.830164\tvalid_0's auc: 0.827922\n",
      "[60]\ttraining's auc: 0.831287\tvalid_0's auc: 0.829005\n",
      "[70]\ttraining's auc: 0.831879\tvalid_0's auc: 0.829668\n",
      "[80]\ttraining's auc: 0.832397\tvalid_0's auc: 0.830098\n",
      "[90]\ttraining's auc: 0.833074\tvalid_0's auc: 0.830689\n",
      "[100]\ttraining's auc: 0.833383\tvalid_0's auc: 0.831026\n",
      "Did not meet early stopping. Best iteration is:\n",
      "[100]\ttraining's auc: 0.833383\tvalid_0's auc: 0.831026\n",
      "*****\n",
      "0.8310262653870337\n",
      "********************\n",
      "\n",
      "\n",
      "version\n",
      "Training until validation scores don't improve for 20 rounds\n",
      "[10]\ttraining's auc: 0.61494\tvalid_0's auc: 0.61632\n",
      "[20]\ttraining's auc: 0.61494\tvalid_0's auc: 0.61632\n",
      "Early stopping, best iteration is:\n",
      "[1]\ttraining's auc: 0.614939\tvalid_0's auc: 0.616322\n",
      "*****\n",
      "0.6163223033669579\n",
      "********************\n",
      "\n",
      "\n",
      "fea_hash\n",
      "Training until validation scores don't improve for 20 rounds\n",
      "[10]\ttraining's auc: 0.511498\tvalid_0's auc: 0.501675\n",
      "[20]\ttraining's auc: 0.512698\tvalid_0's auc: 0.501756\n",
      "[30]\ttraining's auc: 0.513519\tvalid_0's auc: 0.501888\n",
      "[40]\ttraining's auc: 0.514284\tvalid_0's auc: 0.502438\n",
      "[50]\ttraining's auc: 0.514601\tvalid_0's auc: 0.502552\n",
      "[60]\ttraining's auc: 0.514913\tvalid_0's auc: 0.502104\n",
      "Early stopping, best iteration is:\n",
      "[46]\ttraining's auc: 0.514513\tvalid_0's auc: 0.502578\n",
      "*****\n",
      "0.5025784607440753\n",
      "********************\n",
      "\n",
      "\n",
      "location\n",
      "Training until validation scores don't improve for 20 rounds\n",
      "[10]\ttraining's auc: 0.546979\tvalid_0's auc: 0.54563\n",
      "[20]\ttraining's auc: 0.552754\tvalid_0's auc: 0.550972\n",
      "[30]\ttraining's auc: 0.555868\tvalid_0's auc: 0.553573\n",
      "[40]\ttraining's auc: 0.556886\tvalid_0's auc: 0.554462\n",
      "[50]\ttraining's auc: 0.558235\tvalid_0's auc: 0.55572\n",
      "[60]\ttraining's auc: 0.559027\tvalid_0's auc: 0.556585\n",
      "[70]\ttraining's auc: 0.559431\tvalid_0's auc: 0.556848\n",
      "[80]\ttraining's auc: 0.55997\tvalid_0's auc: 0.55735\n",
      "[90]\ttraining's auc: 0.560449\tvalid_0's auc: 0.557821\n",
      "[100]\ttraining's auc: 0.561014\tvalid_0's auc: 0.55835\n",
      "Did not meet early stopping. Best iteration is:\n",
      "[100]\ttraining's auc: 0.561014\tvalid_0's auc: 0.55835\n",
      "*****\n",
      "0.558350347557085\n",
      "********************\n",
      "\n",
      "\n",
      "fea1_hash\n",
      "Training until validation scores don't improve for 20 rounds\n",
      "[10]\ttraining's auc: 0.804834\tvalid_0's auc: 0.804344\n",
      "[20]\ttraining's auc: 0.806964\tvalid_0's auc: 0.806276\n",
      "[30]\ttraining's auc: 0.810563\tvalid_0's auc: 0.809958\n",
      "[40]\ttraining's auc: 0.814902\tvalid_0's auc: 0.814144\n",
      "[50]\ttraining's auc: 0.818549\tvalid_0's auc: 0.817643\n",
      "[60]\ttraining's auc: 0.821302\tvalid_0's auc: 0.820349\n",
      "[70]\ttraining's auc: 0.822747\tvalid_0's auc: 0.821551\n",
      "[80]\ttraining's auc: 0.823777\tvalid_0's auc: 0.822604\n",
      "[90]\ttraining's auc: 0.825827\tvalid_0's auc: 0.824687\n",
      "[100]\ttraining's auc: 0.827383\tvalid_0's auc: 0.826229\n",
      "Did not meet early stopping. Best iteration is:\n",
      "[100]\ttraining's auc: 0.827383\tvalid_0's auc: 0.826229\n",
      "*****\n",
      "0.8262289126271122\n",
      "********************\n",
      "\n",
      "\n",
      "cus_type\n",
      "Training until validation scores don't improve for 20 rounds\n",
      "[10]\ttraining's auc: 0.557871\tvalid_0's auc: 0.55337\n",
      "[20]\ttraining's auc: 0.558005\tvalid_0's auc: 0.553396\n",
      "Early stopping, best iteration is:\n",
      "[1]\ttraining's auc: 0.557523\tvalid_0's auc: 0.554056\n",
      "*****\n",
      "0.5540555179042936\n",
      "********************\n",
      "\n",
      "\n",
      "android_id_cnt_code\n"
     ]
    },
    {
     "name": "stdout",
     "output_type": "stream",
     "text": [
      "Training until validation scores don't improve for 20 rounds\n",
      "[10]\ttraining's auc: 0.564224\tvalid_0's auc: 0.563575\n",
      "[20]\ttraining's auc: 0.564225\tvalid_0's auc: 0.56357\n",
      "[30]\ttraining's auc: 0.564264\tvalid_0's auc: 0.563597\n",
      "[40]\ttraining's auc: 0.564264\tvalid_0's auc: 0.563598\n",
      "[50]\ttraining's auc: 0.564264\tvalid_0's auc: 0.563603\n",
      "[60]\ttraining's auc: 0.564274\tvalid_0's auc: 0.563603\n",
      "[70]\ttraining's auc: 0.564273\tvalid_0's auc: 0.563607\n",
      "[80]\ttraining's auc: 0.564274\tvalid_0's auc: 0.563608\n",
      "[90]\ttraining's auc: 0.564274\tvalid_0's auc: 0.563607\n",
      "[100]\ttraining's auc: 0.564274\tvalid_0's auc: 0.563602\n",
      "Did not meet early stopping. Best iteration is:\n",
      "[96]\ttraining's auc: 0.564274\tvalid_0's auc: 0.563602\n",
      "*****\n",
      "0.5636022821825052\n",
      "********************\n",
      "\n",
      "\n",
      "apptype_cnt_code\n",
      "Training until validation scores don't improve for 20 rounds\n",
      "[10]\ttraining's auc: 0.81733\tvalid_0's auc: 0.817818\n",
      "[20]\ttraining's auc: 0.81778\tvalid_0's auc: 0.818175\n",
      "[30]\ttraining's auc: 0.818033\tvalid_0's auc: 0.81845\n",
      "[40]\ttraining's auc: 0.818085\tvalid_0's auc: 0.818453\n",
      "[50]\ttraining's auc: 0.818246\tvalid_0's auc: 0.818589\n",
      "[60]\ttraining's auc: 0.81843\tvalid_0's auc: 0.818773\n",
      "[70]\ttraining's auc: 0.818537\tvalid_0's auc: 0.818938\n",
      "[80]\ttraining's auc: 0.818701\tvalid_0's auc: 0.819136\n",
      "[90]\ttraining's auc: 0.81873\tvalid_0's auc: 0.819142\n",
      "[100]\ttraining's auc: 0.818776\tvalid_0's auc: 0.819105\n",
      "Did not meet early stopping. Best iteration is:\n",
      "[100]\ttraining's auc: 0.818776\tvalid_0's auc: 0.819105\n",
      "*****\n",
      "0.8191049716913748\n",
      "********************\n",
      "\n",
      "\n",
      "carrier_cnt_code\n",
      "Training until validation scores don't improve for 20 rounds\n",
      "[10]\ttraining's auc: 0.543381\tvalid_0's auc: 0.541281\n",
      "[20]\ttraining's auc: 0.543381\tvalid_0's auc: 0.541281\n",
      "Early stopping, best iteration is:\n",
      "[1]\ttraining's auc: 0.543381\tvalid_0's auc: 0.541281\n",
      "*****\n",
      "0.5412813170021665\n",
      "********************\n",
      "\n",
      "\n",
      "lan_cnt_code\n",
      "Training until validation scores don't improve for 20 rounds\n",
      "[10]\ttraining's auc: 0.677384\tvalid_0's auc: 0.675108\n",
      "[20]\ttraining's auc: 0.677384\tvalid_0's auc: 0.675108\n",
      "Early stopping, best iteration is:\n",
      "[1]\ttraining's auc: 0.677381\tvalid_0's auc: 0.675109\n",
      "*****\n",
      "0.6751092846252282\n",
      "********************\n",
      "\n",
      "\n",
      "media_id_cnt_code\n",
      "Training until validation scores don't improve for 20 rounds\n",
      "[10]\ttraining's auc: 0.859558\tvalid_0's auc: 0.858011\n",
      "[20]\ttraining's auc: 0.862159\tvalid_0's auc: 0.860485\n",
      "[30]\ttraining's auc: 0.863187\tvalid_0's auc: 0.861564\n",
      "[40]\ttraining's auc: 0.864532\tvalid_0's auc: 0.862869\n",
      "[50]\ttraining's auc: 0.865667\tvalid_0's auc: 0.863903\n",
      "[60]\ttraining's auc: 0.866543\tvalid_0's auc: 0.864476\n",
      "[70]\ttraining's auc: 0.867127\tvalid_0's auc: 0.865006\n",
      "[80]\ttraining's auc: 0.867893\tvalid_0's auc: 0.865735\n",
      "[90]\ttraining's auc: 0.86877\tvalid_0's auc: 0.866675\n",
      "[100]\ttraining's auc: 0.869309\tvalid_0's auc: 0.867198\n",
      "Did not meet early stopping. Best iteration is:\n",
      "[100]\ttraining's auc: 0.869309\tvalid_0's auc: 0.867198\n",
      "*****\n",
      "0.8671978022316313\n",
      "********************\n",
      "\n",
      "\n",
      "ntt_cnt_code\n",
      "Training until validation scores don't improve for 20 rounds\n",
      "[10]\ttraining's auc: 0.589989\tvalid_0's auc: 0.58713\n",
      "[20]\ttraining's auc: 0.589989\tvalid_0's auc: 0.58713\n",
      "Early stopping, best iteration is:\n",
      "[1]\ttraining's auc: 0.589989\tvalid_0's auc: 0.58713\n",
      "*****\n",
      "0.587129915487253\n",
      "********************\n",
      "\n",
      "\n",
      "osv_cnt_code\n",
      "Training until validation scores don't improve for 20 rounds\n",
      "[10]\ttraining's auc: 0.766947\tvalid_0's auc: 0.765808\n",
      "[20]\ttraining's auc: 0.766947\tvalid_0's auc: 0.765808\n",
      "Early stopping, best iteration is:\n",
      "[1]\ttraining's auc: 0.766947\tvalid_0's auc: 0.765808\n",
      "*****\n",
      "0.7658075270804243\n",
      "********************\n",
      "\n",
      "\n",
      "version_cnt_code\n",
      "Training until validation scores don't improve for 20 rounds\n",
      "[10]\ttraining's auc: 0.614937\tvalid_0's auc: 0.616321\n",
      "[20]\ttraining's auc: 0.614937\tvalid_0's auc: 0.616321\n",
      "Early stopping, best iteration is:\n",
      "[1]\ttraining's auc: 0.614937\tvalid_0's auc: 0.616321\n",
      "*****\n",
      "0.6163209838468087\n",
      "********************\n",
      "\n",
      "\n",
      "location_cnt_code\n",
      "Training until validation scores don't improve for 20 rounds\n",
      "[10]\ttraining's auc: 0.545821\tvalid_0's auc: 0.543185\n",
      "[20]\ttraining's auc: 0.550212\tvalid_0's auc: 0.546905\n",
      "[30]\ttraining's auc: 0.553141\tvalid_0's auc: 0.550693\n",
      "[40]\ttraining's auc: 0.555181\tvalid_0's auc: 0.552577\n",
      "[50]\ttraining's auc: 0.556217\tvalid_0's auc: 0.553782\n",
      "[60]\ttraining's auc: 0.557177\tvalid_0's auc: 0.554797\n",
      "[70]\ttraining's auc: 0.557902\tvalid_0's auc: 0.555365\n",
      "[80]\ttraining's auc: 0.558936\tvalid_0's auc: 0.556498\n",
      "[90]\ttraining's auc: 0.559289\tvalid_0's auc: 0.557091\n",
      "[100]\ttraining's auc: 0.559761\tvalid_0's auc: 0.557594\n",
      "Did not meet early stopping. Best iteration is:\n",
      "[100]\ttraining's auc: 0.559761\tvalid_0's auc: 0.557594\n",
      "*****\n",
      "0.5575941957669185\n",
      "********************\n",
      "\n",
      "\n",
      "cus_type_cnt_code\n",
      "Training until validation scores don't improve for 20 rounds\n",
      "[10]\ttraining's auc: 0.557753\tvalid_0's auc: 0.554442\n",
      "[20]\ttraining's auc: 0.557876\tvalid_0's auc: 0.553888\n",
      "[30]\ttraining's auc: 0.557905\tvalid_0's auc: 0.553743\n",
      "Early stopping, best iteration is:\n",
      "[10]\ttraining's auc: 0.557753\tvalid_0's auc: 0.554442\n",
      "*****\n",
      "0.5544421457631945\n",
      "********************\n",
      "\n",
      "\n",
      "package_cnt_code\n",
      "Training until validation scores don't improve for 20 rounds\n",
      "[10]\ttraining's auc: 0.819587\tvalid_0's auc: 0.817941\n",
      "[20]\ttraining's auc: 0.822139\tvalid_0's auc: 0.820257\n",
      "[30]\ttraining's auc: 0.823183\tvalid_0's auc: 0.821291\n",
      "[40]\ttraining's auc: 0.824344\tvalid_0's auc: 0.822424\n",
      "[50]\ttraining's auc: 0.826702\tvalid_0's auc: 0.824727\n",
      "[60]\ttraining's auc: 0.829129\tvalid_0's auc: 0.826999\n",
      "[70]\ttraining's auc: 0.830425\tvalid_0's auc: 0.8284\n",
      "[80]\ttraining's auc: 0.831231\tvalid_0's auc: 0.829172\n",
      "[90]\ttraining's auc: 0.831935\tvalid_0's auc: 0.829805\n",
      "[100]\ttraining's auc: 0.832579\tvalid_0's auc: 0.830445\n",
      "Did not meet early stopping. Best iteration is:\n",
      "[100]\ttraining's auc: 0.832579\tvalid_0's auc: 0.830445\n",
      "*****\n",
      "0.8304450217575409\n",
      "********************\n",
      "\n",
      "\n",
      "day\n",
      "Training until validation scores don't improve for 20 rounds\n",
      "[10]\ttraining's auc: 0.511284\tvalid_0's auc: 0.509348\n",
      "[20]\ttraining's auc: 0.511284\tvalid_0's auc: 0.509348\n",
      "Early stopping, best iteration is:\n",
      "[1]\ttraining's auc: 0.511198\tvalid_0's auc: 0.509589\n",
      "*****\n",
      "0.5095892391193801\n",
      "********************\n",
      "\n",
      "\n",
      "hour\n",
      "Training until validation scores don't improve for 20 rounds\n",
      "[10]\ttraining's auc: 0.519684\tvalid_0's auc: 0.518698\n",
      "[20]\ttraining's auc: 0.519691\tvalid_0's auc: 0.518787\n",
      "[30]\ttraining's auc: 0.519675\tvalid_0's auc: 0.518698\n",
      "Early stopping, best iteration is:\n",
      "[19]\ttraining's auc: 0.519691\tvalid_0's auc: 0.518787\n",
      "*****\n",
      "0.5187870304161608\n",
      "********************\n",
      "\n",
      "\n",
      "dayofweek\n",
      "Training until validation scores don't improve for 20 rounds\n",
      "[10]\ttraining's auc: 0.511259\tvalid_0's auc: 0.509348\n",
      "[20]\ttraining's auc: 0.511259\tvalid_0's auc: 0.509348\n",
      "Early stopping, best iteration is:\n",
      "[1]\ttraining's auc: 0.511172\tvalid_0's auc: 0.509589\n",
      "*****\n",
      "0.5095888394200728\n",
      "********************\n",
      "\n",
      "\n",
      "time\n",
      "Training until validation scores don't improve for 20 rounds\n",
      "[10]\ttraining's auc: 0.52503\tvalid_0's auc: 0.519745\n",
      "[20]\ttraining's auc: 0.52587\tvalid_0's auc: 0.520386\n",
      "[30]\ttraining's auc: 0.526281\tvalid_0's auc: 0.520914\n",
      "[40]\ttraining's auc: 0.526636\tvalid_0's auc: 0.52122\n",
      "[50]\ttraining's auc: 0.526801\tvalid_0's auc: 0.521208\n",
      "Early stopping, best iteration is:\n",
      "[35]\ttraining's auc: 0.526473\tvalid_0's auc: 0.521299\n",
      "*****\n",
      "0.5212987580300484\n",
      "********************\n",
      "\n",
      "\n",
      "day_cnt_code\n",
      "Training until validation scores don't improve for 20 rounds\n",
      "[10]\ttraining's auc: 0.511284\tvalid_0's auc: 0.509348\n",
      "[20]\ttraining's auc: 0.511284\tvalid_0's auc: 0.509348\n",
      "Early stopping, best iteration is:\n",
      "[1]\ttraining's auc: 0.511198\tvalid_0's auc: 0.509589\n",
      "*****\n",
      "0.5095892391193801\n",
      "********************\n",
      "\n",
      "\n",
      "hour_cnt_code\n",
      "Training until validation scores don't improve for 20 rounds\n",
      "[10]\ttraining's auc: 0.519684\tvalid_0's auc: 0.518698\n",
      "[20]\ttraining's auc: 0.519691\tvalid_0's auc: 0.518787\n",
      "[30]\ttraining's auc: 0.519675\tvalid_0's auc: 0.518698\n",
      "Early stopping, best iteration is:\n",
      "[19]\ttraining's auc: 0.519691\tvalid_0's auc: 0.518787\n",
      "*****\n",
      "0.5187870304161608\n",
      "********************\n",
      "\n",
      "\n",
      "dayofweek_cnt_code\n",
      "Training until validation scores don't improve for 20 rounds\n",
      "[10]\ttraining's auc: 0.511259\tvalid_0's auc: 0.509348\n",
      "[20]\ttraining's auc: 0.511259\tvalid_0's auc: 0.509348\n",
      "Early stopping, best iteration is:\n",
      "[1]\ttraining's auc: 0.511172\tvalid_0's auc: 0.509589\n",
      "*****\n",
      "0.5095888394200728\n",
      "********************\n",
      "\n",
      "\n",
      "time_cnt_code\n"
     ]
    },
    {
     "name": "stdout",
     "output_type": "stream",
     "text": [
      "Training until validation scores don't improve for 20 rounds\n",
      "[10]\ttraining's auc: 0.524132\tvalid_0's auc: 0.519221\n",
      "[20]\ttraining's auc: 0.525206\tvalid_0's auc: 0.519701\n",
      "[30]\ttraining's auc: 0.525454\tvalid_0's auc: 0.520527\n",
      "[40]\ttraining's auc: 0.52583\tvalid_0's auc: 0.520663\n",
      "[50]\ttraining's auc: 0.526141\tvalid_0's auc: 0.520727\n",
      "[60]\ttraining's auc: 0.526348\tvalid_0's auc: 0.520665\n",
      "[70]\ttraining's auc: 0.526494\tvalid_0's auc: 0.520407\n",
      "Early stopping, best iteration is:\n",
      "[51]\ttraining's auc: 0.526173\tvalid_0's auc: 0.520731\n",
      "*****\n",
      "0.5207311308236257\n",
      "********************\n",
      "\n",
      "\n",
      "user_id_day_app_count\n",
      "Training until validation scores don't improve for 20 rounds\n",
      "[10]\ttraining's auc: 0.694799\tvalid_0's auc: 0.692353\n",
      "[20]\ttraining's auc: 0.6948\tvalid_0's auc: 0.692356\n",
      "[30]\ttraining's auc: 0.694814\tvalid_0's auc: 0.692369\n",
      "[40]\ttraining's auc: 0.694822\tvalid_0's auc: 0.692377\n",
      "[50]\ttraining's auc: 0.694853\tvalid_0's auc: 0.69241\n",
      "[60]\ttraining's auc: 0.694884\tvalid_0's auc: 0.692394\n",
      "Early stopping, best iteration is:\n",
      "[42]\ttraining's auc: 0.694842\tvalid_0's auc: 0.692423\n",
      "*****\n",
      "0.6924225335066706\n",
      "********************\n",
      "\n",
      "\n",
      "user_id_time_app_count\n",
      "Training until validation scores don't improve for 20 rounds\n",
      "[10]\ttraining's auc: 0.671713\tvalid_0's auc: 0.669814\n",
      "[20]\ttraining's auc: 0.671751\tvalid_0's auc: 0.669817\n",
      "[30]\ttraining's auc: 0.671758\tvalid_0's auc: 0.669828\n",
      "[40]\ttraining's auc: 0.671766\tvalid_0's auc: 0.669828\n",
      "[50]\ttraining's auc: 0.671767\tvalid_0's auc: 0.669824\n",
      "Early stopping, best iteration is:\n",
      "[36]\ttraining's auc: 0.671763\tvalid_0's auc: 0.669835\n",
      "*****\n",
      "0.6698351072457898\n",
      "********************\n",
      "\n",
      "\n",
      "user_id_day_count\n",
      "Training until validation scores don't improve for 20 rounds\n",
      "[10]\ttraining's auc: 0.6948\tvalid_0's auc: 0.692346\n",
      "[20]\ttraining's auc: 0.694801\tvalid_0's auc: 0.692349\n",
      "[30]\ttraining's auc: 0.694815\tvalid_0's auc: 0.692363\n",
      "[40]\ttraining's auc: 0.694825\tvalid_0's auc: 0.692372\n",
      "[50]\ttraining's auc: 0.694858\tvalid_0's auc: 0.692379\n",
      "[60]\ttraining's auc: 0.694885\tvalid_0's auc: 0.692389\n",
      "Early stopping, best iteration is:\n",
      "[44]\ttraining's auc: 0.694853\tvalid_0's auc: 0.692406\n",
      "*****\n",
      "0.6924056284038189\n",
      "********************\n",
      "\n",
      "\n",
      "user_id_time_count\n",
      "Training until validation scores don't improve for 20 rounds\n",
      "[10]\ttraining's auc: 0.671756\tvalid_0's auc: 0.669849\n",
      "[20]\ttraining's auc: 0.671788\tvalid_0's auc: 0.669845\n",
      "[30]\ttraining's auc: 0.671792\tvalid_0's auc: 0.669865\n",
      "[40]\ttraining's auc: 0.671802\tvalid_0's auc: 0.669859\n",
      "[50]\ttraining's auc: 0.671805\tvalid_0's auc: 0.669855\n",
      "Early stopping, best iteration is:\n",
      "[36]\ttraining's auc: 0.671795\tvalid_0's auc: 0.669866\n",
      "*****\n",
      "0.669866458788318\n",
      "********************\n",
      "\n",
      "\n",
      "user_id_labelencode\n",
      "Training until validation scores don't improve for 20 rounds\n",
      "[10]\ttraining's auc: 0.851671\tvalid_0's auc: 0.851198\n",
      "[20]\ttraining's auc: 0.852823\tvalid_0's auc: 0.852801\n",
      "[30]\ttraining's auc: 0.853948\tvalid_0's auc: 0.853873\n",
      "[40]\ttraining's auc: 0.856458\tvalid_0's auc: 0.85632\n",
      "[50]\ttraining's auc: 0.858076\tvalid_0's auc: 0.857798\n",
      "[60]\ttraining's auc: 0.859327\tvalid_0's auc: 0.859044\n",
      "[70]\ttraining's auc: 0.859873\tvalid_0's auc: 0.859567\n",
      "[80]\ttraining's auc: 0.860269\tvalid_0's auc: 0.860026\n",
      "[90]\ttraining's auc: 0.860743\tvalid_0's auc: 0.860511\n",
      "[100]\ttraining's auc: 0.86096\tvalid_0's auc: 0.860648\n",
      "Did not meet early stopping. Best iteration is:\n",
      "[99]\ttraining's auc: 0.860964\tvalid_0's auc: 0.860656\n",
      "*****\n",
      "0.8606563087633325\n",
      "********************\n",
      "\n",
      "\n",
      "user_id_day_fea_hash_count\n",
      "Training until validation scores don't improve for 20 rounds\n",
      "[10]\ttraining's auc: 0.508168\tvalid_0's auc: 0.508048\n",
      "[20]\ttraining's auc: 0.508168\tvalid_0's auc: 0.508048\n",
      "Early stopping, best iteration is:\n",
      "[7]\ttraining's auc: 0.508168\tvalid_0's auc: 0.508048\n",
      "*****\n",
      "0.5080478128325921\n",
      "********************\n",
      "\n",
      "\n",
      "user_id_day_fea1_hash_count\n",
      "Training until validation scores don't improve for 20 rounds\n",
      "[10]\ttraining's auc: 0.682828\tvalid_0's auc: 0.680424\n",
      "[20]\ttraining's auc: 0.6829\tvalid_0's auc: 0.680418\n",
      "[30]\ttraining's auc: 0.682945\tvalid_0's auc: 0.680411\n",
      "Early stopping, best iteration is:\n",
      "[11]\ttraining's auc: 0.682885\tvalid_0's auc: 0.680431\n",
      "*****\n",
      "0.6804312447757715\n",
      "********************\n",
      "\n",
      "\n",
      "user_id_time_fea_hash_count\n",
      "Training until validation scores don't improve for 20 rounds\n",
      "[10]\ttraining's auc: 0.50546\tvalid_0's auc: 0.505346\n",
      "[20]\ttraining's auc: 0.50546\tvalid_0's auc: 0.505346\n",
      "Early stopping, best iteration is:\n",
      "[1]\ttraining's auc: 0.50546\tvalid_0's auc: 0.505346\n",
      "*****\n",
      "0.505346481959266\n",
      "********************\n",
      "\n",
      "\n",
      "user_id_time_fea1_hash_count\n",
      "Training until validation scores don't improve for 20 rounds\n",
      "[10]\ttraining's auc: 0.653969\tvalid_0's auc: 0.652068\n",
      "[20]\ttraining's auc: 0.653978\tvalid_0's auc: 0.652063\n",
      "[30]\ttraining's auc: 0.653982\tvalid_0's auc: 0.65206\n",
      "Early stopping, best iteration is:\n",
      "[11]\ttraining's auc: 0.653974\tvalid_0's auc: 0.652075\n",
      "*****\n",
      "0.6520748748851684\n",
      "********************\n",
      "\n",
      "\n"
     ]
    }
   ],
   "source": [
    "use_cols = []\n",
    "useless_cols = []\n",
    "\n",
    "for i in train_cols:\n",
    "    print(i)\n",
    "    \n",
    "    lgb_train = lgb.Dataset(train_data_X_train[[i]].values, train_data_y_train) \n",
    "    lgb_eval= lgb.Dataset(train_data_X_val[[i]].values, train_data_y_val, reference=lgb_train)\n",
    "    lgb_test = lgb.train(params,\n",
    "                         lgb_train,\n",
    "                         num_boost_round=100,\n",
    "                         valid_sets=[lgb_eval, lgb_train],\n",
    "                         early_stopping_rounds=20,\n",
    "                         verbose_eval=10)\n",
    "    \n",
    "    print('*' * 5)\n",
    "    print(lgb_test.best_score['valid_0']['auc'])\n",
    "    if lgb_test.best_score['valid_0']['auc'] > 0.52:\n",
    "        use_cols.append(i)\n",
    "    else:\n",
    "        useless_cols.append(i)\n",
    "    print('*' * 20)\n",
    "    print('\\n')"
   ]
  },
  {
   "cell_type": "code",
   "execution_count": 24,
   "metadata": {
    "ExecuteTime": {
     "end_time": "2020-07-06T01:37:39.381301Z",
     "start_time": "2020-07-06T01:37:39.375317Z"
    }
   },
   "outputs": [
    {
     "name": "stdout",
     "output_type": "stream",
     "text": [
      "['android_id', 'apptype', 'carrier', 'dev_height', 'dev_ppi', 'dev_width', 'lan', 'media_id', 'ntt', 'osv', 'package', 'version', 'location', 'fea1_hash', 'cus_type', 'android_id_cnt_code', 'apptype_cnt_code', 'carrier_cnt_code', 'lan_cnt_code', 'media_id_cnt_code', 'ntt_cnt_code', 'osv_cnt_code', 'version_cnt_code', 'location_cnt_code', 'cus_type_cnt_code', 'package_cnt_code', 'time', 'time_cnt_code', 'user_id_day_app_count', 'user_id_time_app_count', 'user_id_day_count', 'user_id_time_count', 'user_id_labelencode', 'user_id_day_fea1_hash_count', 'user_id_time_fea1_hash_count']\n"
     ]
    }
   ],
   "source": [
    "print(use_cols)"
   ]
  },
  {
   "cell_type": "code",
   "execution_count": 25,
   "metadata": {
    "ExecuteTime": {
     "end_time": "2020-07-06T01:37:39.400270Z",
     "start_time": "2020-07-06T01:37:39.383803Z"
    }
   },
   "outputs": [
    {
     "name": "stdout",
     "output_type": "stream",
     "text": [
      "['fea_hash', 'day', 'hour', 'dayofweek', 'day_cnt_code', 'hour_cnt_code', 'dayofweek_cnt_code', 'user_id_day_fea_hash_count', 'user_id_time_fea_hash_count']\n"
     ]
    }
   ],
   "source": [
    "print(useless_cols)"
   ]
  },
  {
   "cell_type": "code",
   "execution_count": 26,
   "metadata": {
    "ExecuteTime": {
     "end_time": "2020-07-06T01:37:39.513966Z",
     "start_time": "2020-07-06T01:37:39.403263Z"
    }
   },
   "outputs": [],
   "source": [
    "lgb_train = lgb.Dataset(train_data_X_train[use_cols], train_data_y_train)\n",
    "lgb_eval = lgb.Dataset(train_data_X_val[use_cols], train_data_y_val, reference=lgb_train)"
   ]
  },
  {
   "cell_type": "code",
   "execution_count": 27,
   "metadata": {
    "ExecuteTime": {
     "end_time": "2020-07-06T01:37:39.520966Z",
     "start_time": "2020-07-06T01:37:39.515959Z"
    }
   },
   "outputs": [],
   "source": [
    "params = {'task': 'train',\n",
    "          'boosting_type': 'gbdt',\n",
    "          'objective': 'binary',\n",
    "          'metric': 'binary_logloss',\n",
    "          'num_leaves': 31,\n",
    "          'learning_rate': 0.05,\n",
    "          'feature_fraction': 0.95,\n",
    "          'bagging_fraction': 0.85,\n",
    "          'bagging_freq': 5, \n",
    "          'min_data_in_leaf':15}"
   ]
  },
  {
   "cell_type": "code",
   "execution_count": 28,
   "metadata": {
    "ExecuteTime": {
     "end_time": "2020-07-06T01:38:12.981527Z",
     "start_time": "2020-07-06T01:37:39.521945Z"
    }
   },
   "outputs": [
    {
     "name": "stdout",
     "output_type": "stream",
     "text": [
      "Start training...\n",
      "Training until validation scores don't improve for 50 rounds\n",
      "[200]\ttraining's binary_logloss: 0.305808\tvalid_1's binary_logloss: 0.309476\n",
      "[400]\ttraining's binary_logloss: 0.295627\tvalid_1's binary_logloss: 0.303497\n",
      "[600]\ttraining's binary_logloss: 0.288556\tvalid_1's binary_logloss: 0.300705\n",
      "[800]\ttraining's binary_logloss: 0.282952\tvalid_1's binary_logloss: 0.299381\n",
      "[1000]\ttraining's binary_logloss: 0.277813\tvalid_1's binary_logloss: 0.298519\n",
      "Early stopping, best iteration is:\n",
      "[1132]\ttraining's binary_logloss: 0.274673\tvalid_1's binary_logloss: 0.297936\n"
     ]
    }
   ],
   "source": [
    "print('Start training...')\n",
    "\n",
    "gbm_val_1 = lgb.train(params,\n",
    "                      lgb_train,\n",
    "                      num_boost_round=2000,\n",
    "                      valid_sets=[lgb_train, lgb_eval],\n",
    "                      early_stopping_rounds=50,\n",
    "                      verbose_eval=200)"
   ]
  },
  {
   "cell_type": "code",
   "execution_count": 29,
   "metadata": {
    "ExecuteTime": {
     "end_time": "2020-07-06T01:38:15.534536Z",
     "start_time": "2020-07-06T01:38:12.984519Z"
    }
   },
   "outputs": [
    {
     "name": "stdout",
     "output_type": "stream",
     "text": [
      "acc:  0.8865\n",
      "auc:  0.9418467391751222\n"
     ]
    }
   ],
   "source": [
    "train_data_X_val['prob'] = gbm_val_1.predict(train_data_X_val[use_cols])\n",
    "train_data_X_val['pred'] = np.where(train_data_X_val['prob'] > 0.5, 1, 0)\n",
    "\n",
    "acc = np.round(accuracy_score(train_data_y_val, train_data_X_val['pred']), 4)\n",
    "auc = roc_auc_score(train_data_y_val, train_data_X_val['prob'])\n",
    "\n",
    "print('acc: ', acc)\n",
    "print('auc: ', auc)"
   ]
  },
  {
   "cell_type": "code",
   "execution_count": 30,
   "metadata": {
    "ExecuteTime": {
     "end_time": "2020-07-06T01:38:51.817008Z",
     "start_time": "2020-07-06T01:38:15.535533Z"
    }
   },
   "outputs": [
    {
     "name": "stdout",
     "output_type": "stream",
     "text": [
      "Start training...\n",
      "Done\n"
     ]
    }
   ],
   "source": [
    "lgb_train = lgb.Dataset(train_data_X[use_cols], train_data_y)   \n",
    "\n",
    "print('Start training...')\n",
    "\n",
    "gbm_1  = lgb.train(params,\n",
    "                   lgb_train,\n",
    "                   num_boost_round=gbm_val_1.best_iteration + 20,\n",
    "                   verbose_eval=10)\n",
    "print('Done')"
   ]
  },
  {
   "cell_type": "code",
   "execution_count": 31,
   "metadata": {
    "ExecuteTime": {
     "end_time": "2020-07-06T01:38:55.011051Z",
     "start_time": "2020-07-06T01:38:51.819998Z"
    }
   },
   "outputs": [],
   "source": [
    "test1['label'] = np.where(gbm_1.predict(test1_data_X[use_cols]) > 0.5, 1, 0)\n",
    "\n",
    "test1[['sid', 'label']].to_csv('../sub/sub_{}_{}.csv'.format(time.strftime('%Y%m%d'), acc), index=False)"
   ]
  }
 ],
 "metadata": {
  "kernelspec": {
   "display_name": "Python 3",
   "language": "python",
   "name": "python3"
  },
  "language_info": {
   "codemirror_mode": {
    "name": "ipython",
    "version": 3
   },
   "file_extension": ".py",
   "mimetype": "text/x-python",
   "name": "python",
   "nbconvert_exporter": "python",
   "pygments_lexer": "ipython3",
   "version": "3.7.3"
  },
  "toc": {
   "base_numbering": 1,
   "nav_menu": {},
   "number_sections": true,
   "sideBar": true,
   "skip_h1_title": false,
   "title_cell": "Table of Contents",
   "title_sidebar": "Contents",
   "toc_cell": false,
   "toc_position": {},
   "toc_section_display": true,
   "toc_window_display": false
  },
  "varInspector": {
   "cols": {
    "lenName": 16,
    "lenType": 16,
    "lenVar": 40
   },
   "kernels_config": {
    "python": {
     "delete_cmd_postfix": "",
     "delete_cmd_prefix": "del ",
     "library": "var_list.py",
     "varRefreshCmd": "print(var_dic_list())"
    },
    "r": {
     "delete_cmd_postfix": ") ",
     "delete_cmd_prefix": "rm(",
     "library": "var_list.r",
     "varRefreshCmd": "cat(var_dic_list()) "
    }
   },
   "types_to_exclude": [
    "module",
    "function",
    "builtin_function_or_method",
    "instance",
    "_Feature"
   ],
   "window_display": false
  }
 },
 "nbformat": 4,
 "nbformat_minor": 2
}
