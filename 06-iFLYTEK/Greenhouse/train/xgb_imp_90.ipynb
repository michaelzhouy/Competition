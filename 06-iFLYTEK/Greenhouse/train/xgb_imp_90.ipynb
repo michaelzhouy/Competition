{
 "cells": [
  {
   "cell_type": "code",
   "execution_count": 1,
   "metadata": {
    "ExecuteTime": {
     "end_time": "2020-08-17T00:54:00.379077Z",
     "start_time": "2020-08-17T00:53:59.113187Z"
    }
   },
   "outputs": [],
   "source": [
    "import numpy as np\n",
    "import pandas as pd\n",
    "from datetime import datetime\n",
    "import os\n",
    "import gc\n",
    "import xgboost as xgb\n",
    "import math\n",
    "from joblib import Parallel, delayed\n",
    "\n",
    "from tqdm import tqdm\n",
    "from sklearn.model_selection import StratifiedKFold, KFold\n",
    "from sklearn.metrics import mean_absolute_error, mean_squared_error\n",
    "import matplotlib.pyplot as plt\n",
    "import time\n",
    "import warnings\n",
    "\n",
    "warnings.filterwarnings('ignore')\n",
    "\n",
    "pd.set_option('max_columns', None)\n",
    "pd.set_option('max_rows', None)"
   ]
  },
  {
   "cell_type": "code",
   "execution_count": 2,
   "metadata": {
    "ExecuteTime": {
     "end_time": "2020-08-17T00:54:00.390222Z",
     "start_time": "2020-08-17T00:54:00.381999Z"
    }
   },
   "outputs": [],
   "source": [
    "def correlation(df, threshold=0.98):\n",
    "    \"\"\"\n",
    "    特征相关性计算\n",
    "    @param df: \n",
    "    @param threshold: \n",
    "    @return: \n",
    "    \"\"\"\n",
    "    col_corr = set()\n",
    "    corr_matrix = df.corr()\n",
    "    for i in range(len(corr_matrix.columns)):\n",
    "        for j in range(i):\n",
    "            if abs(corr_matrix.iloc[i, j]) > threshold:\n",
    "                colName = corr_matrix.columns[i]\n",
    "                col_corr.add(colName)\n",
    "    return col_corr"
   ]
  },
  {
   "cell_type": "code",
   "execution_count": 3,
   "metadata": {
    "ExecuteTime": {
     "end_time": "2020-08-17T00:54:00.790177Z",
     "start_time": "2020-08-17T00:54:00.391972Z"
    }
   },
   "outputs": [],
   "source": [
    "# train_df = pd.read_hdf('../input/train.h5')\n",
    "test_df = pd.read_hdf('../input/test.h5')\n",
    "sub = pd.DataFrame(test_df['time'])"
   ]
  },
  {
   "cell_type": "code",
   "execution_count": 4,
   "metadata": {
    "ExecuteTime": {
     "end_time": "2020-08-17T00:54:00.827008Z",
     "start_time": "2020-08-17T00:54:00.791102Z"
    }
   },
   "outputs": [
    {
     "data": {
      "text/plain": [
       "31"
      ]
     },
     "execution_count": 4,
     "metadata": {},
     "output_type": "execute_result"
    }
   ],
   "source": [
    "# train_df = train_df[train_df['temperature'].notnull()]\n",
    "# train_df = train_df.fillna(method='bfill')\n",
    "test_df = test_df.fillna(method='bfill')\n",
    "gc.collect()"
   ]
  },
  {
   "cell_type": "code",
   "execution_count": 5,
   "metadata": {
    "ExecuteTime": {
     "end_time": "2020-08-17T00:54:00.838487Z",
     "start_time": "2020-08-17T00:54:00.828004Z"
    }
   },
   "outputs": [],
   "source": [
    "# train_df.columns = ['time', 'year', 'month', 'day', 'hour', 'min', 'sec', 'outdoorTemp', 'outdoorHum', 'outdoorAtmo',\n",
    "#                     'indoorHum', 'indoorAtmo', 'temperature']\n",
    "test_df.columns = ['time', 'year', 'month', 'day', 'hour', 'min', 'sec', 'outdoorTemp', 'outdoorHum', 'outdoorAtmo',\n",
    "                   'indoorHum', 'indoorAtmo']"
   ]
  },
  {
   "cell_type": "code",
   "execution_count": 6,
   "metadata": {
    "ExecuteTime": {
     "end_time": "2020-08-17T00:54:03.131722Z",
     "start_time": "2020-08-17T00:54:00.839483Z"
    }
   },
   "outputs": [],
   "source": [
    "x_train = pd.read_hdf('../input/train_features.h5')\n",
    "x_test = pd.read_hdf('../input/test_features.h5')\n",
    "y_train = pd.read_hdf('../input/y_train.h5')"
   ]
  },
  {
   "cell_type": "code",
   "execution_count": 7,
   "metadata": {
    "ExecuteTime": {
     "end_time": "2020-08-17T01:27:10.129676Z",
     "start_time": "2020-08-17T00:54:03.131722Z"
    }
   },
   "outputs": [],
   "source": [
    "col_corr = correlation(x_train, 0.98)\n",
    "# print(col_corr)"
   ]
  },
  {
   "cell_type": "code",
   "execution_count": 8,
   "metadata": {
    "ExecuteTime": {
     "end_time": "2020-08-17T01:27:10.486753Z",
     "start_time": "2020-08-17T01:27:10.131671Z"
    }
   },
   "outputs": [],
   "source": [
    "x_train.drop(list(col_corr), axis=1, inplace=True)\n",
    "x_test.drop(list(col_corr), axis=1, inplace=True)"
   ]
  },
  {
   "cell_type": "code",
   "execution_count": 9,
   "metadata": {
    "ExecuteTime": {
     "end_time": "2020-08-17T01:27:12.133309Z",
     "start_time": "2020-08-17T01:27:10.487750Z"
    }
   },
   "outputs": [],
   "source": [
    "x_train.to_hdf('../input/train_features_corr.h5', 'df')\n",
    "x_test.to_hdf('../input/test_features_corr.h5', 'df')"
   ]
  },
  {
   "cell_type": "code",
   "execution_count": 10,
   "metadata": {
    "ExecuteTime": {
     "end_time": "2020-08-17T01:49:02.391261Z",
     "start_time": "2020-08-17T01:27:12.134261Z"
    }
   },
   "outputs": [
    {
     "name": "stdout",
     "output_type": "stream",
     "text": [
      "[0]\ttrain-mae:0.72620\teval-mae:0.31621\n",
      "Multiple eval metrics have been passed: 'eval-mae' will be used for early stopping.\n",
      "\n",
      "Will train until eval-mae hasn't improved in 1000 rounds.\n",
      "[500]\ttrain-mae:0.04913\teval-mae:0.15253\n",
      "[1000]\ttrain-mae:0.03814\teval-mae:0.15209\n",
      "[1500]\ttrain-mae:0.03132\teval-mae:0.15193\n",
      "[2000]\ttrain-mae:0.02635\teval-mae:0.15211\n",
      "Stopping. Best iteration:\n",
      "[1319]\ttrain-mae:0.03360\teval-mae:0.15176\n",
      "\n"
     ]
    }
   ],
   "source": [
    "nums = int(x_train.shape[0] * 0.8)\n",
    "\n",
    "trn_x, trn_y, val_x, val_y = x_train[:nums], y_train[:nums], x_train[nums:], y_train[nums:]\n",
    "\n",
    "train_matrix = xgb.DMatrix(trn_x, label=trn_y, missing=np.nan)\n",
    "valid_matrix = xgb.DMatrix(val_x, label=val_y, missing=np.nan)\n",
    "train_all_matrix = xgb.DMatrix(x_train, y_train, missing=np.nan)\n",
    "test_matrix = xgb.DMatrix(x_test, label=val_y, missing=np.nan)\n",
    "\n",
    "params = {\n",
    "    'booster': 'gbtree',\n",
    "    'eval_metric': 'mae',\n",
    "    'min_child_weight': 5,\n",
    "    'max_depth': 8,\n",
    "    'subsample': 0.5,\n",
    "    'colsample_bytree': 0.5,\n",
    "    'eta': 0.01,\n",
    "    'seed': 2020,\n",
    "    'nthread': 36,\n",
    "    'silent': 1\n",
    "}\n",
    "\n",
    "watchlist = [(train_matrix, 'train'), (valid_matrix, 'eval')]\n",
    "\n",
    "model_eval = xgb.train(params,\n",
    "                       train_matrix,\n",
    "                       num_boost_round=50000,\n",
    "                       evals=watchlist,\n",
    "                       verbose_eval=500,\n",
    "                       early_stopping_rounds=1000)\n",
    "val_pred = model_eval.predict(valid_matrix, ntree_limit=model_eval.best_ntree_limit).reshape(-1, 1)"
   ]
  },
  {
   "cell_type": "code",
   "execution_count": 11,
   "metadata": {
    "ExecuteTime": {
     "end_time": "2020-08-17T01:49:02.412225Z",
     "start_time": "2020-08-17T01:49:02.394253Z"
    }
   },
   "outputs": [
    {
     "name": "stdout",
     "output_type": "stream",
     "text": [
      "mse_score: 0.037816330069916776\n",
      "mse_score: 03781\n"
     ]
    }
   ],
   "source": [
    "mse = mean_squared_error(val_y, val_pred)\n",
    "print(\"mse_score:\", mse)\n",
    "print(\"mse_score:\", str(mse)[2:7])"
   ]
  },
  {
   "cell_type": "code",
   "execution_count": 12,
   "metadata": {
    "ExecuteTime": {
     "end_time": "2020-08-17T01:49:05.864956Z",
     "start_time": "2020-08-17T01:49:02.415218Z"
    }
   },
   "outputs": [],
   "source": [
    "feat_imp_dict = model_eval.get_score(importance_type='gain')"
   ]
  },
  {
   "cell_type": "code",
   "execution_count": 13,
   "metadata": {
    "ExecuteTime": {
     "end_time": "2020-08-17T01:49:05.876171Z",
     "start_time": "2020-08-17T01:49:05.865905Z"
    }
   },
   "outputs": [],
   "source": [
    "feat_imp = pd.Series(feat_imp_dict).sort_values(ascending=False).reset_index().rename(columns={'index': 'feature',\n",
    "                                                                                               0: 'importance'})\n",
    "feat_imp['normalized_importance'] = feat_imp['importance'] / feat_imp['importance'].sum()\n",
    "feat_imp['cumulative_importance'] = np.cumsum(feat_imp['normalized_importance'])\n",
    "\n",
    "# feat_imp.to_csv('../input/feat_imp.csv', index=False)"
   ]
  },
  {
   "cell_type": "code",
   "execution_count": 14,
   "metadata": {
    "ExecuteTime": {
     "end_time": "2020-08-17T01:49:05.892367Z",
     "start_time": "2020-08-17T01:49:05.876876Z"
    }
   },
   "outputs": [
    {
     "name": "stdout",
     "output_type": "stream",
     "text": [
      "['MDH_indoorAtmo_mean_MD_indoorHum_diff_max_subtract', 'MD_indoorHum_max_MDH_outdoorAtmo_diff_sum_subtract', 'indoorHum_MD_outdoorHum_min_subtract', 'MDH_outdoorHum_diff_max_MDH_indoorHum_diff_max_multyply', 'MDH_indoorHum_diff_sum_MD_indoorHum_diff_sum_multyply', 'MDH_outdoorTemp_diff_sum_MD_indoorHum_diff_min_multyply', 'MD_indoorAtmo_diff_sum_MD_outdoorHum_diff_sum_multyply', 'MDH_outdoorHum_diff_max_MDH_indoorAtmo_diff_sum_ratio', 'MD_outdoorTemp_diff_sum_MDH_outdoorHum_diff_sum_subtract', 'MD_outdoorHum_max_MDH_indoorHum_max_multyply', 'outdoorTemp_diff_MDH_indoorHum_diff_min_multyply', 'MD_outdoorHum_sum_MDH_indoorHum_diff_mean_ratio', 'outdoorHum_MDH_outdoorAtmo_diff_sum_ratio', 'MDH_indoorAtmo_mean_MDH_outdoorHum_diff_min_subtract', 'outdoorTemp_MDH_indoorHum_diff_sum_ratio', 'MDH_outdoorAtmo_mean_MD_outdoorTemp_diff_min_subtract', 'MD_outdoorTemp_diff_sum_MDH_outdoorTemp_diff_max_multyply', 'MDH_indoorHum_diff_sum', 'MDH_indoorHum_diff_mean_MDH_outdoorTemp_diff_mean_multyply', 'outdoorHum_MD_indoorHum_diff_max_subtract', 'MD_outdoorHum_diff_max_MDH_outdoorTemp_diff_sum_multyply', 'MD_outdoorHum_diff_mean_MDH_outdoorAtmo_diff_max_ratio', 'MDH_indoorAtmo_diff_sum_MD_outdoorTemp_diff_sum_multyply', 'MD_outdoorTemp_diff_sum_MDH_outdoorTemp_diff_min_multyply', 'MD_outdoorTemp_diff_max_MD_indoorAtmo_diff_sum_ratio', 'MDH_indoorHum_diff_mean_MD_outdoorTemp_diff_medi_multyply', 'MD_indoorHum_max_MD_outdoorHum_max_multyply', 'outdoorHum_MDH_outdoorAtmo_medi_subtract', 'MD_indoorHum_diff_max_MDH_indoorAtmo_diff_sum_multyply', 'outdoorTemp_200_bin_indoorAtmo_skew', 'MD_outdoorHum_diff_sum_MDH_indoorHum_diff_sum_ratio', 'MD_outdoorHum_min_MDH_outdoorAtmo_diff_sum_multyply', 'MDH_outdoorHum_diff_max_MDH_indoorHum_diff_sum_subtract', 'MDH_indoorHum_diff_min_MDH_indoorHum_diff_sum_subtract', 'outdoorTemp_20_bin_outdoorAtmo_std', 'MDH_indoorAtmo_diff_sum', 'outdoorAtmo_100_bin_outdoorHum_min', 'MDH_outdoorAtmo_mean_MD_outdoorAtmo_diff_sum_subtract', 'MD_outdoorHum_sum_MDH_outdoorAtmo_diff_mean_ratio', 'MD_outdoorAtmo_sum_MDH_outdoorTemp_sum_multyply', 'MD_outdoorHum_min_indoorHum_multyply', 'MDH_outdoorAtmo_diff_mean_MDH_indoorAtmo_diff_mean_multyply', 'MDH_outdoorTemp_diff_sum_MD_outdoorHum_diff_min_multyply', 'MDH_indoorHum_diff_sum_MDH_indoorAtmo_min_multyply', 'MDH_outdoorHum_diff_max_MD_outdoorAtmo_diff_sum_subtract', 'hour', 'MD_outdoorHum_diff_max_MDH_indoorHum_diff_sum_multyply', 'indoorHum_100_bin_outdoorHum_sum', 'outdoorTemp_MDH_indoorAtmo_diff_sum_multyply', 'outdoorTemp_20_bin_outdoorTemp_skew', 'outdoorTemp_MD_outdoorTemp_mean_multyply', 'outdoorTemp_20_bin_outdoorAtmo_skew', 'MDH_indoorAtmo_diff_sum_MDH_outdoorHum_diff_sum_multyply', 'MD_indoorHum_mean', 'MDH_indoorAtmo_mean_MDH_outdoorAtmo_diff_sum_subtract', 'MD_outdoorTemp_sum_MDH_outdoorAtmo_diff_mean_ratio', 'MD_indoorHum_diff_max_outdoorHum_multyply', 'MD_outdoorHum_medi_MDH_outdoorAtmo_min_ratio', 'outdoorTemp_diff_MDH_indoorHum_diff_max_multyply', 'MDH_indoorHum_diff_max_MDH_indoorAtmo_diff_sum_ratio', 'MD_outdoorHum_mean_MDH_outdoorAtmo_medi_subtract', 'MDH_outdoorAtmo_diff_sum_MD_outdoorHum_diff_sum_multyply', 'MDH_outdoorHum_diff_sum_MD_outdoorAtmo_diff_sum_ratio', 'MD_outdoorHum_min_MD_indoorHum_diff_max_ratio', 'MDH_indoorAtmo_diff_sum_MDH_indoorHum_diff_max_multyply', 'MD_indoorHum_diff_min_MDH_outdoorAtmo_diff_sum_multyply', 'MDH_outdoorTemp_diff_mean_MDH_indoorHum_diff_mean_multyply', 'MDH_indoorAtmo_diff_mean_MDH_outdoorAtmo_diff_mean_multyply', 'MD_outdoorAtmo_mean_MDH_indoorAtmo_medi_multyply', 'MDH_outdoorHum_diff_mean_MDH_outdoorAtmo_diff_mean_multyply', 'MDH_indoorAtmo_diff_sum_MDH_indoorHum_diff_sum_multyply', 'MDH_outdoorAtmo_diff_sum_MDH_indoorAtmo_min_multyply', 'MDH_outdoorAtmo_diff_sum_MD_outdoorAtmo_diff_sum_multyply', 'MDH_indoorHum_diff_max_MD_outdoorTemp_diff_medi_multyply', 'MDH_indoorAtmo_diff_mean_MD_outdoorTemp_diff_mean_multyply', 'outdoorAtmo_100_bin_outdoorAtmo_std', 'MD_outdoorAtmo_diff_mean_MDH_indoorAtmo_diff_mean_multyply', 'MDH_indoorAtmo_min_MDH_outdoorAtmo_diff_sum_multyply', 'indoorHum_20_bin_outdoorAtmo_skew', 'MDH_outdoorAtmo_diff_sum_MDH_indoorHum_diff_min_ratio', 'MDH_outdoorTemp_diff_sum_MD_indoorHum_diff_sum_multyply', 'MDH_outdoorAtmo_diff_sum_MDH_indoorHum_diff_max_multyply', 'MD_outdoorHum_diff_sum_MD_indoorAtmo_diff_sum_ratio', 'outdoorTemp_diff_1D_rolling_max', 'MDH_outdoorTemp_diff_sum_MD_outdoorAtmo_min_multyply', 'MD_outdoorAtmo_medi_MD_indoorAtmo_diff_sum_subtract', 'MDH_outdoorHum_diff_mean_MD_outdoorHum_diff_mean_multyply', 'indoorAtmo_100_bin_outdoorHum_max', 'MDH_indoorHum_diff_sum_MDH_outdoorTemp_diff_sum_multyply', 'outdoorTemp_diff_MDH_outdoorHum_diff_max_multyply', 'MD_outdoorHum_diff_mean_MDH_outdoorAtmo_diff_mean_multyply', 'MD_outdoorHum_diff_min_MD_indoorAtmo_diff_sum_ratio', 'MDH_outdoorAtmo_diff_mean_MD_outdoorAtmo_diff_mean_multyply', 'MDH_outdoorAtmo_medi_MD_outdoorAtmo_medi_multyply', 'MDH_outdoorHum_diff_mean_MDH_indoorAtmo_diff_mean_multyply', 'outdoorHum_20_bin_outdoorTemp_skew', 'outdoorTemp_50_bin_outdoorAtmo_std', 'indoorHum_20_bin_outdoorTemp_std', 'outdoorTemp_200_bin_outdoorTemp_skew', 'MDH_indoorHum_diff_sum_MDH_indoorAtmo_diff_sum_multyply', 'outdoorHum_MD_outdoorAtmo_medi_subtract', 'outdoorAtmo_200_bin_outdoorHum_max', 'outdoorHum_MD_indoorAtmo_max_subtract', 'MDH_outdoorHum_diff_sum_MD_outdoorTemp_diff_sum_multyply', 'MD_indoorHum_min_indoorAtmo_multyply', 'MDH_outdoorAtmo_diff_max_MD_indoorAtmo_diff_mean_ratio', 'MDH_outdoorHum_diff_min_MDH_indoorAtmo_diff_sum_ratio', 'outdoorHum_2D_rolling_min', 'outdoorTemp_MDH_indoorHum_diff_sum_multyply', 'MD_outdoorHum_min_MDH_outdoorAtmo_diff_sum_ratio', 'MD_outdoorHum_medi_MDH_indoorAtmo_mean_subtract', 'MD_outdoorHum_diff_sum_MDH_outdoorTemp_diff_sum_multyply', 'MD_outdoorHum_diff_max_MDH_outdoorAtmo_diff_sum_multyply', 'MDH_outdoorHum_diff_sum_MDH_indoorHum_diff_sum_multyply', 'MDH_outdoorTemp_diff_sum_MD_outdoorAtmo_diff_sum_multyply', 'outdoorHum_MDH_outdoorHum_medi_subtract', 'MDH_outdoorAtmo_diff_mean_MD_outdoorTemp_diff_mean_multyply', 'MDH_indoorHum_diff_mean_MD_outdoorAtmo_diff_mean_multyply', 'MDH_outdoorTemp_diff_mean_MD_outdoorAtmo_diff_mean_multyply', 'outdoorTemp_MDH_outdoorTemp_diff_medi_ratio', 'MDH_indoorAtmo_diff_mean_MD_outdoorAtmo_diff_mean_multyply', 'MD_outdoorTemp_diff_mean_MDH_indoorHum_diff_mean_multyply', 'MDH_outdoorHum_diff_max_MDH_outdoorHum_diff_sum_subtract', 'MDH_outdoorTemp_diff_mean_MDH_indoorAtmo_diff_mean_multyply', 'outdoorHum_diff_expanding_skew', 'indoorAtmo_expanding_max', 'MD_outdoorTemp_diff_min_MDH_outdoorHum_diff_max_multyply', 'outdoorTemp_diff_MDH_outdoorHum_diff_max_ratio', 'indoorHum_20_bin_outdoorAtmo_min', 'MDH_outdoorHum_diff_max_MDH_indoorHum_diff_max_subtract', 'outdoorHum_20_bin_outdoorAtmo_mean', 'MD_outdoorHum_max_indoorHum_multyply', 'indoorHum_20_bin_indoorAtmo_max', 'outdoorHum_MD_indoorHum_diff_max_multyply', 'MD_outdoorAtmo_medi_MDH_indoorAtmo_max_multyply', 'MDH_indoorAtmo_min_MDH_outdoorHum_diff_sum_ratio', 'MDH_outdoorHum_diff_sum_MD_indoorHum_diff_sum_multyply', 'MDH_indoorHum_diff_max_MDH_indoorAtmo_diff_sum_multyply', 'outdoorTemp_200_bin_outdoorAtmo_std', 'MDH_indoorAtmo_min_MDH_indoorAtmo_diff_sum_multyply', 'outdoorHum_3D_rolling_median', 'outdoorTemp_MDH_outdoorAtmo_diff_sum_multyply', 'MDH_outdoorTemp_diff_sum_MD_outdoorTemp_diff_sum_multyply', 'outdoorTemp_MDH_outdoorHum_diff_sum_ratio', 'MDH_outdoorTemp_diff_mean_MDH_outdoorAtmo_diff_mean_multyply', 'MDH_indoorHum_diff_mean_MDH_outdoorHum_diff_mean_multyply', 'MDH_outdoorHum_diff_mean_MDH_indoorHum_diff_mean_multyply', 'MDH_indoorHum_diff_mean_MD_outdoorTemp_diff_mean_multyply', 'outdoorTemp_diff_MDH_outdoorHum_diff_min_ratio', 'outdoorTemp_50_bin_outdoorTemp_skew', 'MDH_indoorHum_diff_sum_MDH_outdoorHum_diff_sum_multyply', 'MDH_outdoorTemp_diff_sum_MDH_outdoorAtmo_min_multyply', 'indoorHum_20_bin_outdoorHum_std', 'MDH_indoorAtmo_min_MDH_indoorHum_diff_sum_ratio', 'indoorHum_MD_outdoorHum_max_subtract', 'indoorHum_20_bin_indoorAtmo_skew', 'MD_outdoorHum_min_outdoorHum_multyply', 'indoorHum_MDH_indoorHum_mean_subtract', 'indoorHum_MD_outdoorHum_max_multyply', 'MDH_outdoorTemp_diff_sum_MD_outdoorTemp_diff_max_multyply', 'MD_outdoorTemp_diff_min_MDH_outdoorTemp_diff_sum_multyply', 'indoorHum_50_bin_outdoorTemp_max', 'MDH_outdoorTemp_diff_mean_MD_outdoorTemp_diff_mean_multyply', 'MDH_indoorAtmo_diff_sum_MDH_outdoorTemp_diff_sum_multyply', 'MD_indoorHum_min_indoorHum_multyply', 'MDH_outdoorHum_diff_max_MD_outdoorTemp_diff_sum_multyply', 'outdoorHum_20_bin_indoorAtmo_max', 'MDH_outdoorHum_diff_mean_MDH_outdoorAtmo_diff_min_ratio', 'MD_outdoorHum_medi_indoorHum_multyply', 'MDH_indoorHum_diff_max_MD_indoorAtmo_diff_sum_ratio', 'MDH_indoorAtmo_min_MDH_indoorAtmo_diff_sum_ratio', 'MD_outdoorTemp_min_MD_outdoorTemp_mean_multyply', 'outdoorHum_MDH_outdoorTemp_diff_sum_ratio', 'outdoorHum_MD_outdoorAtmo_diff_sum_multyply', 'MD_indoorHum_medi_MDH_indoorAtmo_max_subtract', 'indoorHum_50_bin_outdoorAtmo_mean', 'outdoorTemp_diff_2D_rolling_sum', 'outdoorTemp_diff_MDH_outdoorHum_diff_min_multyply', 'MDH_outdoorAtmo_diff_sum_MDH_indoorHum_diff_min_multyply', 'outdoorHum_100_bin_indoorAtmo_mean', 'MD_indoorHum_diff_sum_MDH_outdoorHum_diff_min_multyply', 'MDH_outdoorAtmo_diff_sum_MD_outdoorTemp_diff_sum_multyply', 'MDH_outdoorHum_diff_sum_MDH_outdoorAtmo_min_multyply', 'MDH_outdoorAtmo_mean_MD_outdoorAtmo_mean_multyply', 'MDH_indoorAtmo_diff_sum_MDH_outdoorHum_diff_max_multyply', 'MDH_indoorHum_diff_min_MD_indoorHum_diff_sum_multyply', 'MD_outdoorHum_diff_mean_MDH_outdoorTemp_diff_mean_multyply', 'indoorAtmo_diff_expanding_median', 'outdoorTemp_diff_MDH_outdoorHum_diff_medi_multyply', 'MDH_outdoorTemp_diff_mean_MD_indoorHum_diff_mean_multyply', 'indoorHum_20_bin_indoorAtmo_mean', 'outdoorTemp_MDH_outdoorAtmo_diff_sum_ratio', 'indoorAtmo_100_bin_outdoorAtmo_std', 'MD_outdoorHum_medi_MD_indoorHum_medi_multyply', 'indoorHum_50_bin_outdoorTemp_std', 'MDH_outdoorAtmo_diff_sum_MDH_outdoorHum_diff_max_multyply', 'MDH_outdoorTemp_diff_sum_MDH_indoorHum_diff_sum_multyply', 'MDH_outdoorTemp_diff_medi_MDH_outdoorTemp_diff_min_subtract', 'MDH_outdoorTemp_diff_sum_MD_outdoorHum_diff_sum_multyply', 'indoorHum_50_bin_indoorHum_skew', 'outdoorAtmo_MD_indoorHum_min_multyply', 'MDH_indoorAtmo_diff_sum_MDH_outdoorAtmo_diff_sum_multyply', 'MDH_outdoorTemp_diff_sum_MDH_outdoorHum_diff_sum_ratio', 'indoorHum_20_bin_indoorAtmo_std', 'MD_outdoorTemp_diff_mean_MDH_outdoorHum_diff_mean_multyply', 'MDH_outdoorTemp_diff_medi', 'MDH_indoorAtmo_mean_MDH_outdoorHum_diff_max_subtract', 'indoorHum_MD_outdoorHum_medi_multyply', 'MDH_outdoorAtmo_diff_mean_MDH_outdoorTemp_diff_mean_multyply', 'MDH_outdoorHum_diff_sum_MDH_indoorAtmo_diff_sum_ratio', 'MDH_outdoorTemp_diff_sum', 'outdoorTemp_100_bin_outdoorAtmo_std', 'outdoorHum_diff_MDH_outdoorAtmo_mean_subtract', 'MDH_outdoorAtmo_mean_MD_outdoorAtmo_medi_multyply', 'outdoorHum_MDH_outdoorAtmo_mean_subtract', 'MDH_outdoorAtmo_diff_sum_MD_indoorHum_diff_max_multyply', 'MD_outdoorTemp_diff_sum_MDH_outdoorHum_diff_min_multyply', 'MDH_outdoorTemp_diff_sum_MDH_outdoorHum_diff_sum_multyply', 'MDH_indoorHum_diff_sum_MD_outdoorAtmo_diff_sum_multyply', 'outdoorHum_20_bin_outdoorAtmo_std', 'outdoorHum_MDH_outdoorHum_mean_subtract', 'MDH_outdoorAtmo_diff_sum_MDH_outdoorHum_diff_min_multyply', 'indoorHum_MDH_indoorHum_mean_multyply', 'MDH_outdoorHum_diff_min_MDH_outdoorAtmo_diff_sum_ratio', 'MDH_outdoorTemp_diff_sum_MDH_indoorAtmo_diff_sum_multyply', 'MD_outdoorHum_diff_sum_MDH_outdoorHum_diff_min_multyply', 'MDH_outdoorAtmo_diff_sum_MD_outdoorAtmo_diff_sum_ratio', 'MDH_outdoorHum_diff_sum_MD_outdoorHum_diff_sum_multyply', 'indoorHum_50_bin_outdoorAtmo_max', 'MD_outdoorAtmo_min_MDH_outdoorHum_diff_sum_multyply', 'outdoorHum_MDH_indoorHum_diff_sum_multyply', 'indoorAtmo_20_bin_outdoorTemp_sum', 'indoorHum_50_bin_outdoorHum_skew', 'MDH_outdoorTemp_diff_sum_MDH_outdoorAtmo_diff_sum_ratio', 'outdoorHum_20_bin_outdoorTemp_sum', 'MDH_indoorAtmo_diff_mean_MDH_indoorHum_diff_mean_multyply', 'MD_outdoorHum_diff_sum_MDH_indoorHum_diff_min_multyply', 'MD_indoorHum_max_MDH_indoorHum_diff_sum_subtract', 'MDH_outdoorHum_diff_mean_MD_outdoorAtmo_diff_mean_multyply', 'MDH_outdoorTemp_diff_sum_MD_outdoorTemp_diff_min_multyply', 'MDH_outdoorAtmo_diff_sum_MDH_indoorHum_diff_max_ratio', 'MDH_outdoorTemp_diff_max_MDH_outdoorTemp_diff_sum_subtract', 'indoorHum_diff_MDH_indoorHum_diff_min_subtract', 'MDH_outdoorHum_medi_outdoorHum_multyply', 'outdoorHum_MDH_outdoorHum_diff_sum_multyply', 'MDH_outdoorAtmo_diff_sum_MD_outdoorAtmo_diff_sum_subtract', 'MDH_outdoorHum_diff_sum_MDH_indoorHum_diff_sum_subtract', 'MDH_indoorHum_diff_sum_MD_outdoorAtmo_min_multyply', 'indoorHum_diff_3D_rolling_sum', 'outdoorHum_20_bin_outdoorTemp_std', 'outdoorHum_50_bin_indoorAtmo_max', 'outdoorHum_50_bin_indoorHum_std', 'MDH_indoorAtmo_min_MDH_indoorHum_diff_sum_multyply', 'outdoorHum_outdoorAtmo_multyply', 'MD_outdoorAtmo_diff_sum_MDH_indoorAtmo_diff_sum_multyply', 'outdoorHum_50_bin_indoorAtmo_std', 'indoorHum_20_bin_outdoorTemp_skew', 'MD_indoorHum_medi', 'outdoorHum_MDH_outdoorTemp_diff_sum_multyply', 'MDH_outdoorTemp_diff_mean_MD_outdoorHum_diff_mean_multyply', 'MD_indoorHum_diff_max_MDH_outdoorTemp_diff_sum_multyply', 'indoorHum_20_bin_outdoorHum_sum', 'outdoorHum_3D_rolling_std', 'MD_outdoorHum_diff_sum_MDH_indoorHum_diff_sum_multyply', 'MDH_outdoorAtmo_diff_mean_MD_indoorAtmo_diff_mean_multyply', 'MDH_outdoorAtmo_diff_sum_MD_indoorAtmo_diff_sum_multyply', 'MDH_outdoorAtmo_diff_sum_MD_indoorHum_diff_sum_multyply', 'MD_outdoorHum_diff_min_MDH_outdoorHum_diff_sum_multyply', 'indoorHum_50_bin_outdoorAtmo_skew', 'MD_outdoorHum_diff_mean_MD_indoorAtmo_diff_min_ratio', 'MDH_outdoorHum_diff_mean_MD_outdoorTemp_diff_medi_multyply', 'outdoorHum', 'outdoorTemp_MDH_outdoorHum_diff_sum_multyply', 'indoorAtmo_100_bin_outdoorHum_min', 'MDH_indoorAtmo_diff_mean_MDH_outdoorHum_diff_mean_multyply', 'MDH_outdoorAtmo_diff_sum_MDH_outdoorTemp_diff_sum_multyply', 'MDH_indoorHum_diff_mean_MDH_indoorAtmo_diff_mean_multyply', 'MD_outdoorTemp_min_MD_indoorHum_diff_max_subtract', 'MD_outdoorHum_max_MDH_indoorAtmo_mean_subtract', 'indoorHum_50_bin_outdoorTemp_sum', 'MD_outdoorHum_mean_MDH_outdoorAtmo_mean_subtract', 'MDH_indoorAtmo_min_MDH_outdoorAtmo_diff_sum_ratio', 'MD_outdoorHum_medi_MDH_outdoorAtmo_diff_sum_ratio', 'MDH_indoorHum_diff_sum_MD_outdoorHum_diff_min_multyply', 'outdoorHum_MDH_outdoorHum_mean_multyply', 'MD_indoorHum_medi_indoorAtmo_multyply', 'outdoorTemp_50_bin_outdoorAtmo_skew', 'indoorAtmo_100_bin_indoorAtmo_std', 'MDH_outdoorHum_diff_mean_MD_outdoorTemp_diff_mean_multyply', 'indoorHum_diff_3D_rolling_skew', 'MDH_indoorAtmo_diff_mean_MDH_outdoorTemp_diff_mean_multyply', 'indoorHum_20_bin_outdoorAtmo_medi', 'indoorAtmo_diff_expanding_skew', 'outdoorHum_50_bin_outdoorAtmo_min', 'MD_outdoorAtmo_diff_mean_MDH_indoorHum_diff_mean_multyply', 'outdoorTemp_MDH_outdoorTemp_diff_sum_ratio', 'MDH_outdoorAtmo_diff_sum_MDH_indoorAtmo_diff_sum_subtract', 'MDH_outdoorHum_diff_min_MD_outdoorHum_diff_sum_multyply', 'MDH_indoorAtmo_diff_sum_MDH_indoorHum_diff_min_multyply', 'MD_outdoorHum_mean_MDH_indoorAtmo_medi_subtract', 'indoorHum_20_bin_outdoorAtmo_mean', 'outdoorHum_3D_rolling_mean', 'indoorAtmo_MD_indoorHum_medi_multyply', 'outdoorHum_50_bin_indoorAtmo_skew', 'MDH_outdoorAtmo_medi_MD_indoorAtmo_max_multyply', 'indoorHum_50_bin_outdoorHum_min', 'MD_indoorAtmo_diff_mean_MD_outdoorTemp_diff_medi_multyply', 'outdoorHum_2D_rolling_mean', 'MDH_indoorAtmo_mean_MDH_outdoorHum_diff_sum_subtract', 'outdoorTemp_diff_3D_rolling_sum', 'MDH_outdoorTemp_diff_min_MDH_outdoorTemp_diff_sum_subtract', 'indoorAtmo_2D_rolling_mean', 'outdoorAtmo_MDH_indoorHum_max_multyply', 'indoorHum_MDH_indoorHum_min_subtract', 'indoorHum_100_bin_outdoorAtmo_mean', 'MDH_indoorAtmo_min_MDH_outdoorTemp_diff_sum_multyply', 'outdoorHum_20_bin_indoorAtmo_min', 'MD_outdoorHum_diff_max_MD_indoorAtmo_diff_sum_ratio', 'outdoorTemp_diff_MDH_outdoorHum_diff_mean_ratio', 'indoorHum_20_bin_outdoorHum_skew', 'outdoorTemp_MDH_outdoorTemp_diff_sum_multyply', 'MD_outdoorAtmo_diff_max_MD_indoorAtmo_diff_mean_ratio', 'MD_outdoorTemp_diff_sum_MDH_outdoorTemp_diff_sum_multyply', 'outdoorTemp_diff_expanding_mean', 'outdoorHum_100_bin_indoorAtmo_std', 'MDH_outdoorTemp_diff_sum_MDH_indoorAtmo_min_multyply', 'MDH_outdoorHum_diff_sum_MDH_outdoorAtmo_diff_sum_subtract', 'indoorAtmo_3D_rolling_mean', 'MDH_outdoorAtmo_diff_mean_MD_outdoorHum_diff_mean_multyply', 'MD_outdoorHum_diff_sum_MDH_indoorAtmo_diff_sum_multyply', 'outdoorTemp_diff_2D_rolling_skew', 'outdoorHum_50_bin_indoorHum_max', 'MD_outdoorTemp_diff_mean_MDH_indoorAtmo_diff_mean_multyply', 'outdoorHum_diff_MDH_outdoorHum_diff_min_subtract', 'MDH_outdoorTemp_diff_sum_outdoorAtmo_diff_multyply', 'MD_outdoorAtmo_medi_MDH_indoorAtmo_medi_multyply', 'MD_outdoorTemp_diff_sum_MDH_outdoorAtmo_diff_sum_ratio', 'MDH_outdoorAtmo_mean_MDH_indoorAtmo_mean_ratio', 'MDH_outdoorHum_diff_sum_MD_outdoorHum_diff_sum_ratio', 'MD_outdoorHum_diff_mean_MDH_indoorAtmo_diff_mean_multyply', 'MDH_outdoorTemp_diff_sum_MD_indoorHum_diff_max_ratio', 'outdoorHum_MD_outdoorHum_min_subtract', 'indoorHum_50_bin_indoorAtmo_max', 'outdoorHum_MDH_indoorAtmo_diff_sum_multyply', 'indoorHum_50_bin_outdoorAtmo_medi', 'indoorAtmo_20_bin_outdoorAtmo_std', 'outdoorAtmo_MDH_outdoorHum_diff_sum_subtract', 'outdoorHum_3D_rolling_skew', 'indoorAtmo_MDH_indoorHum_max_multyply', 'indoorHum_50_bin_indoorAtmo_min', 'outdoorHum_100_bin_outdoorAtmo_max', 'outdoorHum_diff_indoorHum_diff_subtract', 'outdoorTemp_diff_3D_rolling_skew', 'outdoorTemp_diff_MDH_outdoorHum_diff_sum_ratio', 'MD_outdoorHum_diff_max_MDH_outdoorHum_diff_sum_multyply', 'indoorHum_diff_MDH_outdoorTemp_diff_medi_multyply', 'indoorHum_100_bin_indoorAtmo_mean', 'MD_outdoorTemp_diff_sum_MDH_outdoorHum_diff_sum_multyply', 'indoorAtmo_MD_indoorHum_max_ratio', 'MD_outdoorTemp_diff_mean_MDH_outdoorTemp_diff_mean_multyply', 'MD_outdoorHum_max_MD_indoorHum_min_multyply', 'MDH_outdoorAtmo_diff_mean_MDH_indoorHum_diff_mean_multyply', 'indoorHum_diff_MDH_outdoorTemp_diff_min_multyply', 'outdoorHum_100_bin_indoorAtmo_skew', 'outdoorHum_50_bin_outdoorAtmo_max', 'MD_outdoorHum_diff_sum_MDH_outdoorHum_diff_sum_multyply', 'outdoorHum_50_bin_outdoorHum_sum', 'min', 'outdoorHum_indoorAtmo_ratio', 'indoorHum_20_bin_indoorHum_std', 'outdoorHum_50_bin_indoorAtmo_mean', 'indoorHum_20_bin_outdoorAtmo_std', 'outdoorAtmo_200_bin_indoorHum_max', 'indoorHum_100_bin_outdoorAtmo_skew', 'outdoorHum_20_bin_indoorHum_std', 'MD_outdoorTemp_diff_max_MDH_outdoorTemp_diff_sum_multyply', 'indoorAtmo_MDH_indoorAtmo_mean_ratio', 'outdoorHum_diff_MD_outdoorAtmo_diff_sum_subtract', 'indoorHum_diff_2D_rolling_sum', 'MDH_outdoorHum_diff_sum_MD_indoorHum_diff_max_multyply', 'outdoorHum_20_bin_indoorHum_skew', 'indoorHum_20_bin_outdoorTemp_sum', 'MDH_outdoorTemp_diff_medi_MD_indoorAtmo_diff_medi_subtract', 'indoorHum_50_bin_indoorAtmo_std', 'outdoorHum_2D_rolling_std', 'MD_outdoorAtmo_diff_sum_MDH_outdoorHum_diff_sum_multyply', 'outdoorTemp_3D_rolling_std', 'MDH_outdoorHum_diff_sum_MD_outdoorHum_diff_min_multyply', 'MD_indoorHum_medi_outdoorAtmo_multyply', 'indoorHum_50_bin_outdoorHum_sum', 'MDH_indoorAtmo_diff_sum_MD_outdoorHum_diff_sum_multyply', 'indoorHum_50_bin_outdoorTemp_skew', 'outdoorTemp_2D_rolling_std', 'outdoorAtmo_MDH_indoorHum_diff_sum_multyply', 'outdoorHum_100_bin_outdoorHum_sum', 'indoorAtmo_50_bin_outdoorTemp_skew', 'indoorHum_50_bin_outdoorHum_std', 'outdoorHum_100_bin_outdoorAtmo_skew', 'indoorHum_diff_MDH_outdoorTemp_diff_max_ratio', 'outdoorHum_20_bin_indoorAtmo_std', 'MD_indoorHum_min_outdoorAtmo_multyply', 'MD_indoorHum_diff_min_MDH_outdoorTemp_diff_sum_multyply', 'indoorHum_3D_rolling_skew', 'indoorHum_100_bin_indoorAtmo_min', 'outdoorHum_MD_outdoorHum_medi_multyply', 'indoorHum_50_bin_indoorAtmo_mean', 'outdoorHum_50_bin_outdoorAtmo_sum', 'outdoorHum_50_bin_outdoorTemp_skew', 'outdoorHum_50_bin_outdoorAtmo_std', 'MD_outdoorHum_min_MDH_indoorHum_diff_sum_multyply', 'MDH_outdoorTemp_diff_sum_MDH_outdoorAtmo_diff_sum_multyply', 'indoorHum_50_bin_indoorHum_std', 'outdoorTemp_diff_outdoorHum_diff_multyply', 'MD_outdoorHum_diff_mean_MDH_outdoorHum_diff_mean_multyply', 'MDH_outdoorAtmo_diff_mean_MD_indoorHum_diff_mean_multyply', 'outdoorHum_50_bin_outdoorTemp_sum', 'outdoorTemp_3D_rolling_skew', 'outdoorAtmo_diff_expanding_skew', 'MD_indoorAtmo_diff_mean_MDH_indoorAtmo_diff_mean_multyply', 'outdoorAtmo_50_bin_outdoorTemp_sum', 'MD_outdoorAtmo_min_MDH_outdoorTemp_diff_sum_multyply', 'MDH_indoorAtmo_min_MDH_outdoorHum_diff_sum_multyply', 'outdoorAtmo_MD_indoorAtmo_diff_sum_subtract', 'outdoorHum_diff_MDH_indoorHum_diff_min_subtract', 'outdoorAtmo_50_bin_outdoorHum_max', 'indoorHum_50_bin_outdoorAtmo_sum', 'outdoorTemp_diff_indoorHum_diff_multyply', 'indoorHum_diff_MDH_outdoorTemp_diff_min_ratio', 'indoorAtmo_50_bin_outdoorAtmo_sum', 'outdoorHum_100_bin_indoorHum_std', 'outdoorHum_indoorAtmo_subtract', 'indoorHum_100_bin_outdoorHum_std', 'MDH_outdoorAtmo_diff_sum_MDH_outdoorAtmo_min_multyply', 'outdoorHum_20_bin_outdoorHum_skew', 'outdoorHum_20_bin_outdoorHum_std', 'MD_indoorHum_medi_MD_outdoorHum_diff_sum_subtract', 'MD_outdoorHum_mean_MD_outdoorAtmo_mean_subtract', 'indoorHum_diff_MDH_outdoorTemp_diff_max_multyply', 'outdoorHum_diff_2D_rolling_sum', 'outdoorHum_diff_expanding_mean', 'outdoorAtmo_MDH_outdoorTemp_diff_sum_multyply', 'indoorHum_100_bin_outdoorAtmo_sum', 'outdoorHum_100_bin_indoorAtmo_max', 'MD_outdoorTemp_diff_sum_MD_outdoorAtmo_min_multyply', 'indoorHum_50_bin_outdoorAtmo_min', 'MDH_outdoorHum_diff_sum_MDH_indoorAtmo_diff_sum_multyply', 'outdoorAtmo_MD_outdoorTemp_diff_min_subtract', 'indoorHum_50_bin_outdoorAtmo_std', 'MD_outdoorTemp_diff_sum_MDH_indoorAtmo_diff_sum_multyply', 'indoorHum_diff_expanding_mean', 'indoorHum_20_bin_outdoorHum_min', 'outdoorAtmo_100_bin_outdoorTemp_min', 'outdoorHum_50_bin_indoorAtmo_min', 'indoorAtmo_100_bin_outdoorAtmo_min', 'outdoorTemp_diff_MDH_indoorHum_diff_mean_multyply', 'indoorAtmo_50_bin_outdoorTemp_sum', 'outdoorHum_diff_MDH_outdoorTemp_diff_max_multyply', 'MD_outdoorHum_diff_min_MD_outdoorAtmo_diff_sum_ratio', 'outdoorHum_diff_3D_rolling_sum', 'outdoorHum_100_bin_outdoorTemp_std', 'indoorHum_diff_outdoorTemp_diff_multyply', 'outdoorAtmo_MD_indoorHum_max_ratio', 'outdoorHum_50_bin_outdoorTemp_std', 'indoorHum_diff_MDH_outdoorTemp_diff_mean_multyply', 'indoorHum_100_bin_outdoorHum_skew', 'indoorAtmo_diff_expanding_mean', 'outdoorAtmo_200_bin_outdoorAtmo_std', 'indoorHum_diff_MDH_outdoorTemp_diff_sum_multyply', 'outdoorHum_20_bin_outdoorAtmo_skew', 'outdoorHum_diff_MDH_outdoorTemp_diff_medi_multyply', 'outdoorHum_50_bin_outdoorHum_skew', 'indoorHum_50_bin_indoorAtmo_skew', 'indoorHum_diff_MDH_outdoorTemp_diff_mean_ratio', 'indoorAtmo_100_bin_outdoorHum_std', 'indoorHum_20_bin_indoorHum_skew', 'MDH_outdoorTemp_diff_sum_MD_indoorHum_diff_max_multyply', 'outdoorAtmo_outdoorHum_multyply', 'MDH_outdoorTemp_diff_medi_MDH_outdoorHum_diff_mean_ratio', 'outdoorHum_100_bin_outdoorAtmo_min', 'outdoorAtmo_MD_indoorHum_medi_multyply', 'outdoorHum_diff_MDH_outdoorTemp_diff_min_multyply', 'MD_outdoorHum_medi_outdoorHum_multyply', 'outdoorHum_100_bin_outdoorTemp_sum', 'outdoorHum_100_bin_indoorAtmo_min', 'outdoorTemp_diff_MDH_outdoorHum_diff_mean_multyply', 'indoorHum_100_bin_indoorAtmo_std', 'MD_outdoorAtmo_min_MD_outdoorTemp_diff_sum_multyply', 'MD_outdoorTemp_diff_mean_MDH_outdoorAtmo_diff_max_ratio', 'indoorHum_100_bin_indoorAtmo_skew', 'outdoorHum_diff_MDH_outdoorTemp_diff_max_ratio', 'outdoorHum_50_bin_indoorHum_skew', 'outdoorHum_100_bin_indoorHum_skew', 'indoorHum_100_bin_outdoorTemp_skew', 'indoorHum_100_bin_outdoorAtmo_max', 'outdoorHum_diff_1D_rolling_sum', 'outdoorHum_100_bin_outdoorAtmo_std', 'outdoorHum_50_bin_outdoorHum_std', 'outdoorHum_indoorAtmo_diff_subtract', 'outdoorTemp_diff_outdoorHum_diff_ratio', 'indoorHum_100_bin_outdoorAtmo_min', 'MDH_outdoorTemp_diff_medi_MD_outdoorTemp_diff_max_multyply', 'outdoorAtmo_50_bin_outdoorAtmo_sum', 'outdoorAtmo_50_bin_outdoorTemp_skew', 'outdoorHum_outdoorAtmo_subtract', 'indoorHum_100_bin_outdoorAtmo_std', 'outdoorHum_20_bin_indoorAtmo_mean', 'outdoorAtmo_diff_MDH_indoorAtmo_mean_subtract', 'outdoorHum_20_bin_outdoorHum_sum', 'outdoorHum_50_bin_outdoorAtmo_skew', 'outdoorAtmo_50_bin_outdoorTemp_medi', 'indoorAtmo_20_bin_outdoorTemp_max', 'outdoorAtmo_MD_outdoorHum_medi_subtract', 'outdoorHum_diff_MDH_outdoorTemp_diff_mean_ratio', 'indoorAtmo_diff_3D_rolling_sum', 'outdoorAtmo_MDH_indoorAtmo_mean_ratio', 'MD_outdoorTemp_sum_MDH_outdoorTemp_diff_medi_ratio', 'indoorHum_diff_MDH_outdoorTemp_diff_sum_ratio', 'MD_indoorAtmo_mean_MD_indoorHum_diff_sum_subtract', 'indoorAtmo_diff_2D_rolling_sum', 'outdoorAtmo_50_bin_outdoorTemp_std', 'outdoorHum_20_bin_indoorHum_max', 'outdoorAtmo_200_bin_outdoorHum_std', 'outdoorHum_diff_MDH_outdoorTemp_diff_sum_multyply', 'MDH_outdoorTemp_diff_medi_MDH_outdoorAtmo_diff_max_ratio', 'outdoorAtmo_200_bin_outdoorTemp_min', 'outdoorHum_diff_MDH_outdoorTemp_diff_sum_ratio', 'outdoorHum_diff_MDH_outdoorTemp_diff_mean_multyply', 'indoorAtmo_MDH_outdoorAtmo_medi_multyply', 'outdoorAtmo_20_bin_outdoorTemp_medi', 'MDH_outdoorTemp_diff_medi_MD_outdoorTemp_diff_max_ratio', 'outdoorAtmo_diff_MD_outdoorHum_diff_min_multyply', 'indoorAtmo_diff_MDH_indoorAtmo_diff_sum_subtract', 'outdoorAtmo_diff_MD_indoorHum_min_subtract', 'MDH_outdoorTemp_diff_medi_MD_outdoorTemp_diff_min_multyply', 'outdoorHum_outdoorAtmo_diff_subtract', 'MDH_outdoorTemp_diff_medi_MD_outdoorHum_diff_min_ratio', 'outdoorAtmo_diff_3D_rolling_sum', 'outdoorHum_diff_outdoorTemp_diff_multyply', 'outdoorAtmo_diff_MD_indoorHum_diff_min_multyply', 'indoorAtmo_diff_MD_outdoorTemp_diff_medi_multyply', 'outdoorAtmo_MDH_outdoorAtmo_medi_multyply', 'outdoorAtmo_diff_MD_outdoorHum_mean_subtract', 'outdoorAtmo_diff_2D_rolling_sum', 'MDH_outdoorAtmo_medi_outdoorAtmo_multyply', 'outdoorAtmo_diff_MDH_outdoorHum_diff_sum_subtract', 'outdoorAtmo_diff_MD_outdoorHum_diff_max_multyply', 'outdoorAtmo_20_bin_indoorAtmo_min', 'indoorAtmo_diff_MDH_outdoorAtmo_diff_sum_subtract', 'outdoorAtmo_diff_MDH_indoorHum_diff_min_multyply', 'MDH_indoorAtmo_min_MDH_outdoorTemp_diff_medi_ratio', 'outdoorAtmo_diff_MDH_indoorAtmo_diff_sum_subtract', 'outdoorAtmo_indoorAtmo_multyply', 'outdoorAtmo_50_bin_indoorAtmo_max', 'outdoorAtmo_diff_MDH_outdoorTemp_diff_min_multyply', 'outdoorAtmo_50_bin_indoorAtmo_min', 'outdoorAtmo_diff_MDH_outdoorTemp_diff_max_multyply', 'outdoorAtmo_indoorAtmo_subtract', 'outdoorAtmo_diff_MD_outdoorTemp_diff_max_multyply', 'outdoorAtmo_diff_MD_outdoorTemp_diff_min_multyply', 'outdoorAtmo_diff_MDH_indoorHum_diff_max_multyply', 'outdoorAtmo_diff_MDH_indoorAtmo_diff_max_ratio', 'outdoorAtmo_20_bin_outdoorAtmo_min', 'outdoorAtmo_diff_MD_outdoorAtmo_diff_sum_ratio', 'indoorAtmo_outdoorAtmo_multyply', 'outdoorAtmo_diff_MD_outdoorAtmo_min_multyply', 'indoorAtmo_20_bin_outdoorTemp_medi', 'outdoorAtmo_50_bin_outdoorTemp_max', 'MD_outdoorHum_medi_MD_outdoorAtmo_medi_subtract', 'outdoorAtmo_50_bin_outdoorHum_sum', 'outdoorAtmo_100_bin_outdoorHum_max', 'MDH_outdoorTemp_diff_medi_MD_outdoorAtmo_diff_mean_multyply', 'outdoorAtmo_50_bin_outdoorTemp_min', 'MDH_outdoorTemp_diff_medi_MDH_indoorAtmo_min_multyply', 'outdoorAtmo_50_bin_indoorAtmo_std', 'outdoorAtmo_50_bin_outdoorAtmo_std', 'outdoorAtmo_20_bin_indoorAtmo_skew', 'outdoorAtmo_50_bin_indoorAtmo_skew', 'MDH_outdoorTemp_diff_medi_MDH_outdoorHum_diff_min_ratio']\n"
     ]
    }
   ],
   "source": [
    "record_low_importance = feat_imp[feat_imp['cumulative_importance'] > 0.90]\n",
    "to_drop = list(record_low_importance['feature'])\n",
    "print(to_drop)"
   ]
  },
  {
   "cell_type": "code",
   "execution_count": 15,
   "metadata": {
    "ExecuteTime": {
     "end_time": "2020-08-17T01:49:06.149959Z",
     "start_time": "2020-08-17T01:49:05.893335Z"
    }
   },
   "outputs": [
    {
     "data": {
      "text/plain": [
       "40"
      ]
     },
     "execution_count": 15,
     "metadata": {},
     "output_type": "execute_result"
    }
   ],
   "source": [
    "x_train.drop(to_drop, axis=1, inplace=True)\n",
    "x_test.drop(to_drop, axis=1, inplace=True)\n",
    "gc.collect()"
   ]
  },
  {
   "cell_type": "code",
   "execution_count": 16,
   "metadata": {
    "ExecuteTime": {
     "end_time": "2020-08-17T02:00:13.473164Z",
     "start_time": "2020-08-17T01:49:06.150957Z"
    }
   },
   "outputs": [],
   "source": [
    "train_all_matrix = xgb.DMatrix(x_train, y_train, missing=np.nan)\n",
    "test_matrix = xgb.DMatrix(x_test, label=val_y, missing=np.nan)\n",
    "\n",
    "model = xgb.train(params,\n",
    "                  train_all_matrix,\n",
    "                  num_boost_round=model_eval.best_ntree_limit + 20)\n",
    "\n",
    "test_pred = model.predict(test_matrix, ntree_limit=model.best_ntree_limit).reshape(-1, 1)"
   ]
  },
  {
   "cell_type": "code",
   "execution_count": 17,
   "metadata": {
    "ExecuteTime": {
     "end_time": "2020-08-17T02:00:13.508089Z",
     "start_time": "2020-08-17T02:00:13.476157Z"
    }
   },
   "outputs": [],
   "source": [
    "sub['temperature'] = test_pred[:, 0] + test_df['outdoorTemp'].values\n",
    "sub.to_csv('../sub/sub_{}_{}.csv'.format(time.strftime('%Y%m%d'), str(mse)[2:7]), index=False)"
   ]
  }
 ],
 "metadata": {
  "kernelspec": {
   "display_name": "Python 3",
   "language": "python",
   "name": "python3"
  },
  "language_info": {
   "codemirror_mode": {
    "name": "ipython",
    "version": 3
   },
   "file_extension": ".py",
   "mimetype": "text/x-python",
   "name": "python",
   "nbconvert_exporter": "python",
   "pygments_lexer": "ipython3",
   "version": "3.7.3"
  },
  "toc": {
   "base_numbering": 1,
   "nav_menu": {},
   "number_sections": true,
   "sideBar": true,
   "skip_h1_title": false,
   "title_cell": "Table of Contents",
   "title_sidebar": "Contents",
   "toc_cell": false,
   "toc_position": {},
   "toc_section_display": true,
   "toc_window_display": false
  },
  "varInspector": {
   "cols": {
    "lenName": 16,
    "lenType": 16,
    "lenVar": 40
   },
   "kernels_config": {
    "python": {
     "delete_cmd_postfix": "",
     "delete_cmd_prefix": "del ",
     "library": "var_list.py",
     "varRefreshCmd": "print(var_dic_list())"
    },
    "r": {
     "delete_cmd_postfix": ") ",
     "delete_cmd_prefix": "rm(",
     "library": "var_list.r",
     "varRefreshCmd": "cat(var_dic_list()) "
    }
   },
   "types_to_exclude": [
    "module",
    "function",
    "builtin_function_or_method",
    "instance",
    "_Feature"
   ],
   "window_display": false
  }
 },
 "nbformat": 4,
 "nbformat_minor": 4
}
