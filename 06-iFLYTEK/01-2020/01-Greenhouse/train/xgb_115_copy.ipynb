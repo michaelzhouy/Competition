{
 "cells": [
  {
   "cell_type": "code",
   "execution_count": 1,
   "metadata": {
    "ExecuteTime": {
     "end_time": "2020-08-07T00:44:49.982538Z",
     "start_time": "2020-08-07T00:44:48.394832Z"
    }
   },
   "outputs": [],
   "source": [
    "import numpy as np\n",
    "import pandas as pd\n",
    "from datetime import datetime\n",
    "import os\n",
    "import gc\n",
    "import xgboost as xgb\n",
    "import math\n",
    "from joblib import Parallel, delayed\n",
    "\n",
    "from tqdm import tqdm\n",
    "from sklearn.model_selection import StratifiedKFold, KFold\n",
    "from sklearn.metrics import mean_absolute_error, mean_squared_error\n",
    "import matplotlib.pyplot as plt\n",
    "import time\n",
    "import warnings\n",
    "\n",
    "warnings.filterwarnings('ignore')\n",
    "\n",
    "pd.set_option('max_columns', None)\n",
    "pd.set_option('max_rows', None)"
   ]
  },
  {
   "cell_type": "code",
   "execution_count": 2,
   "metadata": {
    "ExecuteTime": {
     "end_time": "2020-08-07T00:44:49.988456Z",
     "start_time": "2020-08-07T00:44:49.983494Z"
    }
   },
   "outputs": [],
   "source": [
    "def timestamp2string(timeStamp):\n",
    "    try:\n",
    "        d = datetime.fromtimestamp(timeStamp)\n",
    "        str1 = d.strftime(\"%Y-%m-%d %H:%M:%S\")\n",
    "        # 2015-08-28 16:43:37'\n",
    "        return datetime.strptime(str1,'%Y-%m-%d %H:%M:%S')\n",
    "    except Exception as e:\n",
    "        return ''"
   ]
  },
  {
   "cell_type": "code",
   "execution_count": 3,
   "metadata": {
    "ExecuteTime": {
     "end_time": "2020-08-07T00:44:50.001457Z",
     "start_time": "2020-08-07T00:44:49.989453Z"
    }
   },
   "outputs": [],
   "source": [
    "def get_psi(c):\n",
    "    psi_res = pd.DataFrame()\n",
    "    psi_dict={}\n",
    "    # for c in tqdm(f_cols):\n",
    "    try:\n",
    "        t_train = x_train[c].fillna(-998)\n",
    "        t_test = x_test[c].fillna(-998)\n",
    "        #获取切分点\n",
    "        bins=[]\n",
    "        for i in np.arange(0,1.1,0.2):\n",
    "            bins.append(t_train.quantile(i))\n",
    "        bins=sorted(set(bins))\n",
    "        bins[0]=-np.inf\n",
    "        bins[-1]=np.inf\n",
    "        #计算psi\n",
    "        t_psi = pd.DataFrame()\n",
    "        t_psi['train'] = pd.cut(t_train,bins).value_counts().sort_index()\n",
    "        t_psi['test'] = pd.cut(t_test,bins).value_counts()\n",
    "        t_psi.index=[str(x) for x in t_psi.index]\n",
    "        t_psi.loc['总计',:] = t_psi.sum()\n",
    "        t_psi['train_rate'] = t_psi['train']/t_psi.loc['总计','train']\n",
    "        t_psi['test_rate'] = t_psi['test']/t_psi.loc['总计','test']\n",
    "        t_psi['psi'] = (t_psi['test_rate']-t_psi['train_rate'])*(np.log(t_psi['test_rate'])-np.log(t_psi['train_rate']))\n",
    "        t_psi.loc['总计','psi'] = t_psi['psi'].sum()\n",
    "        t_psi.index.name=c\n",
    "        #汇总\n",
    "        t_res = pd.DataFrame([[c,t_psi.loc['总计','psi']]],\n",
    "                             columns=['变量名','PSI'])\n",
    "        psi_res = pd.concat([psi_res,t_res])\n",
    "        psi_dict[c]=t_psi\n",
    "        print(c,'done')\n",
    "    except:\n",
    "        print(c,'error')\n",
    "    return psi_res #, psi_dict"
   ]
  },
  {
   "cell_type": "code",
   "execution_count": 4,
   "metadata": {
    "ExecuteTime": {
     "end_time": "2020-08-07T00:44:50.009403Z",
     "start_time": "2020-08-07T00:44:50.002420Z"
    }
   },
   "outputs": [],
   "source": [
    "def correlation(df, threshold=0.98):\n",
    "    \"\"\"\n",
    "    特征相关性计算\n",
    "    @param df: \n",
    "    @param threshold: \n",
    "    @return: \n",
    "    \"\"\"\n",
    "    col_corr = set()\n",
    "    corr_matrix = df.corr()\n",
    "    for i in range(len(corr_matrix.columns)):\n",
    "        for j in range(i):\n",
    "            if abs(corr_matrix.iloc[i, j]) > threshold:\n",
    "                colName = corr_matrix.columns[i]\n",
    "                col_corr.add(colName)\n",
    "    return col_corr"
   ]
  },
  {
   "cell_type": "code",
   "execution_count": 5,
   "metadata": {
    "ExecuteTime": {
     "end_time": "2020-08-07T00:44:50.452117Z",
     "start_time": "2020-08-07T00:44:50.010397Z"
    }
   },
   "outputs": [],
   "source": [
    "train_df = pd.read_hdf('../input/train.h5')\n",
    "test_df = pd.read_hdf('../input/test.h5')\n",
    "sub = pd.DataFrame(test_df['time'])"
   ]
  },
  {
   "cell_type": "code",
   "execution_count": 6,
   "metadata": {
    "ExecuteTime": {
     "end_time": "2020-08-07T00:44:50.499502Z",
     "start_time": "2020-08-07T00:44:50.454046Z"
    }
   },
   "outputs": [
    {
     "data": {
      "text/plain": [
       "64"
      ]
     },
     "execution_count": 6,
     "metadata": {},
     "output_type": "execute_result"
    }
   ],
   "source": [
    "train_df = train_df[train_df['temperature'].notnull()]\n",
    "train_df = train_df.fillna(method='bfill')\n",
    "test_df = test_df.fillna(method='bfill')\n",
    "gc.collect()"
   ]
  },
  {
   "cell_type": "code",
   "execution_count": 7,
   "metadata": {
    "ExecuteTime": {
     "end_time": "2020-08-07T00:44:50.506484Z",
     "start_time": "2020-08-07T00:44:50.501497Z"
    }
   },
   "outputs": [],
   "source": [
    "train_df.columns = ['time', 'year', 'month', 'day', 'hour', 'min', 'sec', 'outdoorTemp', 'outdoorHum', 'outdoorAtmo',\n",
    "                    'indoorHum', 'indoorAtmo', 'temperature']\n",
    "test_df.columns = ['time', 'year', 'month', 'day', 'hour', 'min', 'sec', 'outdoorTemp', 'outdoorHum', 'outdoorAtmo',\n",
    "                   'indoorHum', 'indoorAtmo']"
   ]
  },
  {
   "cell_type": "code",
   "execution_count": 8,
   "metadata": {
    "ExecuteTime": {
     "end_time": "2020-08-07T00:44:50.519454Z",
     "start_time": "2020-08-07T00:44:50.507480Z"
    }
   },
   "outputs": [
    {
     "name": "stdout",
     "output_type": "stream",
     "text": [
      "train_df.shape:  (24807, 13)\n",
      "处理后 train_df.shape:  (19338, 13)\n"
     ]
    }
   ],
   "source": [
    "print('train_df.shape: ', train_df.shape)\n",
    "train_df = train_df.loc[(train_df['outdoorTemp'] >= test_df['outdoorTemp'].min()) & (train_df['outdoorTemp'] <= test_df['outdoorTemp'].max())]\n",
    "print('处理后 train_df.shape: ', train_df.shape)"
   ]
  },
  {
   "cell_type": "code",
   "execution_count": 9,
   "metadata": {
    "ExecuteTime": {
     "end_time": "2020-08-07T00:44:50.524435Z",
     "start_time": "2020-08-07T00:44:50.520483Z"
    }
   },
   "outputs": [],
   "source": [
    "train_count = train_df.shape[0]\n",
    "y_train = train_df['temperature'].values - train_df['outdoorTemp'].values"
   ]
  },
  {
   "cell_type": "code",
   "execution_count": 10,
   "metadata": {
    "ExecuteTime": {
     "end_time": "2020-08-07T00:44:50.533412Z",
     "start_time": "2020-08-07T00:44:50.525433Z"
    }
   },
   "outputs": [],
   "source": [
    "train_df['indoorHum-outdoorHum'] = train_df['indoorHum'] - train_df['outdoorHum']\n",
    "train_df['indoorAtmo-outdoorAtmo'] = train_df['indoorAtmo'] - train_df['outdoorAtmo']\n",
    "\n",
    "test_df['indoorHum-outdoorHum'] = test_df['indoorHum'] - test_df['outdoorHum']\n",
    "test_df['indoorAtmo-outdoorAtmo'] = test_df['indoorAtmo'] - test_df['outdoorAtmo']"
   ]
  },
  {
   "cell_type": "code",
   "execution_count": 11,
   "metadata": {
    "ExecuteTime": {
     "end_time": "2020-08-07T00:44:50.881853Z",
     "start_time": "2020-08-07T00:44:50.534408Z"
    }
   },
   "outputs": [],
   "source": [
    "train_df.loc[train_df['indoorAtmo-outdoorAtmo'] > 400, 'indoorAtmo-outdoorAtmo'] = 75\n",
    "train_df.loc[train_df['indoorAtmo-outdoorAtmo'] < -400, 'indoorAtmo-outdoorAtmo'] = -93\n",
    "\n",
    "test_df.loc[test_df['indoorAtmo-outdoorAtmo'] > 400, 'indoorAtmo-outdoorAtmo'] = 75\n",
    "test_df.loc[test_df['indoorAtmo-outdoorAtmo'] < -400, 'indoorAtmo-outdoorAtmo'] = -93"
   ]
  },
  {
   "cell_type": "code",
   "execution_count": 12,
   "metadata": {
    "ExecuteTime": {
     "end_time": "2020-08-07T00:44:51.073387Z",
     "start_time": "2020-08-07T00:44:50.883859Z"
    }
   },
   "outputs": [],
   "source": [
    "train_df.loc[train_df['indoorHum-outdoorHum'] > 15, 'indoorHum-outdoorHum'] = 15\n",
    "test_df.loc[test_df['indoorHum-outdoorHum'] > 15, 'indoorHum-outdoorHum'] = 15"
   ]
  },
  {
   "cell_type": "code",
   "execution_count": 13,
   "metadata": {
    "ExecuteTime": {
     "end_time": "2020-08-07T00:44:51.114278Z",
     "start_time": "2020-08-07T00:44:51.074348Z"
    }
   },
   "outputs": [
    {
     "data": {
      "text/plain": [
       "60"
      ]
     },
     "execution_count": 13,
     "metadata": {},
     "output_type": "execute_result"
    }
   ],
   "source": [
    "data_df = pd.concat([train_df, test_df], axis=0, ignore_index=True)\n",
    "\n",
    "del train_df, test_df\n",
    "gc.collect()"
   ]
  },
  {
   "cell_type": "code",
   "execution_count": 14,
   "metadata": {
    "ExecuteTime": {
     "end_time": "2020-08-07T00:44:51.118234Z",
     "start_time": "2020-08-07T00:44:51.115239Z"
    }
   },
   "outputs": [],
   "source": [
    "numerical_features = ['outdoorTemp', 'outdoorHum', 'outdoorAtmo', 'indoorHum', 'indoorAtmo', 'indoorHum-outdoorHum', 'indoorAtmo-outdoorAtmo']\n",
    "diff_features = ['{}_diff'.format(i) for i in numerical_features]\n",
    "numerical_diff_features = numerical_features + diff_features"
   ]
  },
  {
   "cell_type": "code",
   "execution_count": 15,
   "metadata": {
    "ExecuteTime": {
     "end_time": "2020-08-07T00:44:51.134190Z",
     "start_time": "2020-08-07T00:44:51.119229Z"
    }
   },
   "outputs": [
    {
     "name": "stderr",
     "output_type": "stream",
     "text": [
      "100%|██████████████████████████████████████████████████████████████████████████████████| 7/7 [00:00<00:00, 1169.96it/s]\n"
     ]
    }
   ],
   "source": [
    "for i in tqdm(numerical_features):\n",
    "    data_df['{}_diff'.format(i)] = data_df[i].diff()"
   ]
  },
  {
   "cell_type": "code",
   "execution_count": 16,
   "metadata": {
    "ExecuteTime": {
     "end_time": "2020-08-07T00:44:51.145160Z",
     "start_time": "2020-08-07T00:44:51.135186Z"
    }
   },
   "outputs": [],
   "source": [
    "data_df.fillna(method='bfill', inplace=True)"
   ]
  },
  {
   "cell_type": "code",
   "execution_count": 17,
   "metadata": {
    "ExecuteTime": {
     "end_time": "2020-08-07T00:44:51.502542Z",
     "start_time": "2020-08-07T00:44:51.147155Z"
    }
   },
   "outputs": [],
   "source": [
    "data_df['datetime'] = data_df['time'].apply(timestamp2string)"
   ]
  },
  {
   "cell_type": "code",
   "execution_count": 18,
   "metadata": {
    "ExecuteTime": {
     "end_time": "2020-08-07T00:45:03.812042Z",
     "start_time": "2020-08-07T00:44:51.504199Z"
    }
   },
   "outputs": [],
   "source": [
    "for i in numerical_diff_features:\n",
    "    for j in ['1D', '2D', '3D']:\n",
    "        data_df.set_index('datetime', inplace=True)\n",
    "        tmp = data_df.groupby('hour')[i].rolling(j, closed='left', min_periods=2).agg({\n",
    "            '{}_{}_rolling_mean'.format(i, j): 'mean',\n",
    "            '{}_{}_rolling_median'.format(i, j): 'median',\n",
    "            '{}_{}_rolling_max'.format(i, j): 'max',\n",
    "            '{}_{}_rolling_min'.format(i, j): 'min',\n",
    "            '{}_{}_rolling_sum'.format(i, j): 'sum',\n",
    "            '{}_{}_rolling_std'.format(i, j): 'std',\n",
    "            '{}_{}_rolling_skew'.format(i, j): 'skew'\n",
    "        })\n",
    "        tmp.reset_index(inplace=True)\n",
    "        data_df.reset_index(inplace=True)\n",
    "        data_df = data_df.merge(tmp, on=['datetime', 'hour'], how='left')\n",
    "        del tmp\n",
    "        gc.collect()\n",
    "\n",
    "\n",
    "for i in numerical_diff_features:\n",
    "    data_df.set_index('datetime', inplace=True)\n",
    "    tmp = data_df.groupby('hour')[i].expanding(min_periods=2).agg({\n",
    "        '{}_expanding_mean'.format(i): 'mean',\n",
    "        '{}_expanding_median'.format(i): 'median',\n",
    "        '{}_expanding_max'.format(i): 'max',\n",
    "        '{}_expanding_min'.format(i): 'min',\n",
    "        '{}_expanding_sum'.format(i): 'sum',\n",
    "        '{}_expanding_std'.format(i): 'std',\n",
    "        '{}_expanding_skew'.format(i): 'skew',\n",
    "    })\n",
    "    tmp.reset_index(inplace=True)\n",
    "    data_df.reset_index(inplace=True)\n",
    "    data_df = data_df.merge(tmp, on=['datetime', 'hour'], how='left')\n",
    "    del tmp\n",
    "    gc.collect()"
   ]
  },
  {
   "cell_type": "code",
   "execution_count": 19,
   "metadata": {
    "ExecuteTime": {
     "end_time": "2020-08-07T00:45:03.915801Z",
     "start_time": "2020-08-07T00:45:03.813040Z"
    }
   },
   "outputs": [],
   "source": [
    "data_df.drop('datetime', axis=1, inplace=True)"
   ]
  },
  {
   "cell_type": "code",
   "execution_count": 20,
   "metadata": {
    "ExecuteTime": {
     "end_time": "2020-08-07T00:45:03.939035Z",
     "start_time": "2020-08-07T00:45:03.916762Z"
    }
   },
   "outputs": [],
   "source": [
    "data_df.fillna(method='bfill', inplace=True)"
   ]
  },
  {
   "cell_type": "code",
   "execution_count": 21,
   "metadata": {
    "ExecuteTime": {
     "end_time": "2020-08-07T00:45:22.360359Z",
     "start_time": "2020-08-07T00:45:03.939702Z"
    }
   },
   "outputs": [
    {
     "name": "stderr",
     "output_type": "stream",
     "text": [
      "100%|██████████████████████████████████████████████████████████████████████████████████| 14/14 [00:18<00:00,  1.31s/it]\n"
     ]
    }
   ],
   "source": [
    "# 基本聚合特征\n",
    "group_feats = []\n",
    "for f in tqdm(numerical_diff_features):\n",
    "    data_df['MDH_{}_medi'.format(f)] = data_df.groupby(['month', 'day', 'hour'])[f].transform('median')\n",
    "    data_df['MDH_{}_mean'.format(f)] = data_df.groupby(['month', 'day', 'hour'])[f].transform('mean')\n",
    "    data_df['MDH_{}_max'.format(f)] = data_df.groupby(['month', 'day', 'hour'])[f].transform('max')\n",
    "    data_df['MDH_{}_min'.format(f)] = data_df.groupby(['month', 'day', 'hour'])[f].transform('min')\n",
    "    data_df['MDH_{}_sum'.format(f)] = data_df.groupby(['month', 'day', 'hour'])[f].transform('sum')\n",
    "    data_df['MDH_{}_std'.format(f)] = data_df.groupby(['month', 'day', 'hour'])[f].transform('std')\n",
    "    data_df['MDH_{}_skew'.format(f)] = data_df.groupby(['month', 'day', 'hour'])[f].transform('skew')\n",
    "    \n",
    "    data_df['MD_{}_medi'.format(f)] = data_df.groupby(['month', 'day'])[f].transform('median')\n",
    "    data_df['MD_{}_mean'.format(f)] = data_df.groupby(['month', 'day'])[f].transform('mean')\n",
    "    data_df['MD_{}_max'.format(f)] = data_df.groupby(['month', 'day'])[f].transform('max')\n",
    "    data_df['MD_{}_min'.format(f)] = data_df.groupby(['month', 'day'])[f].transform('min')\n",
    "    data_df['MD_{}_sum'.format(f)] = data_df.groupby(['month', 'day'])[f].transform('sum')\n",
    "    data_df['MD_{}_std'.format(f)] = data_df.groupby(['month', 'day'])[f].transform('std')\n",
    "    data_df['MD_{}_skew'.format(f)] = data_df.groupby(['month', 'day'])[f].transform('skew')\n",
    "\n",
    "    group_feats.append('MDH_{}_medi'.format(f))\n",
    "    group_feats.append('MDH_{}_mean'.format(f))\n",
    "#     group_feats.append('MDH_{}_max'.format(f))\n",
    "#     group_feats.append('MDH_{}_min'.format(f))\n",
    "#     group_feats.append('MDH_{}_sum'.format(f))\n",
    "#     group_feats.append('MDH_{}_std'.format(f))\n",
    "#     group_feats.append('MDH_{}_skew'.format(f))\n",
    "    \n",
    "    group_feats.append('MD_{}_medi'.format(f))\n",
    "    group_feats.append('MD_{}_mean'.format(f))\n",
    "#     group_feats.append('MD_{}_max'.format(f))\n",
    "#     group_feats.append('MD_{}_min'.format(f))\n",
    "#     group_feats.append('MD_{}_sum'.format(f))\n",
    "#     group_feats.append('MD_{}_std'.format(f))\n",
    "#     group_feats.append('MD_{}_skew'.format(f))"
   ]
  },
  {
   "cell_type": "code",
   "execution_count": 22,
   "metadata": {
    "ExecuteTime": {
     "end_time": "2020-08-07T00:46:25.954031Z",
     "start_time": "2020-08-07T00:45:22.363388Z"
    }
   },
   "outputs": [
    {
     "name": "stderr",
     "output_type": "stream",
     "text": [
      "100%|██████████████████████████████████████████████████████████████████████████████████| 63/63 [01:03<00:00,  1.01s/it]\n"
     ]
    }
   ],
   "source": [
    "cross_features = numerical_features + group_feats\n",
    "\n",
    "# 基本交叉特征\n",
    "for f1 in tqdm(cross_features):\n",
    "    for f2 in cross_features:\n",
    "        if f1 != f2:          \n",
    "            colname_multiply = '{}_{}_multyply'.format(f1, f2)\n",
    "            colname_ratio = '{}_{}_ratio'.format(f1, f2)\n",
    "            \n",
    "            data_df[colname_multiply] = data_df[f1].values / (data_df[f2].values + 0.001)\n",
    "            data_df[colname_ratio] = data_df[f1].values * data_df[f2].values"
   ]
  },
  {
   "cell_type": "code",
   "execution_count": 23,
   "metadata": {
    "ExecuteTime": {
     "end_time": "2020-08-07T00:46:58.731966Z",
     "start_time": "2020-08-07T00:46:25.956027Z"
    }
   },
   "outputs": [
    {
     "name": "stderr",
     "output_type": "stream",
     "text": [
      "100%|██████████████████████████████████████████████████████████████████████████████████| 63/63 [00:32<00:00,  1.92it/s]\n"
     ]
    }
   ],
   "source": [
    "exclude_cols = ['indoorHum_outdoorHum_subtract', 'outdoorHum_indoorHum_subtract',\n",
    "                'indoorAtmo_outdoorAtmo_subtract', 'outdoorAtmo_indoorAtmo_subtract']\n",
    "for i in tqdm(range(len(cross_features))):\n",
    "    for j in range(i + 1, len(cross_features)):\n",
    "        # 加\n",
    "        colname_add = '{}_{}_add'.format(f1, f2)\n",
    "        data_df[colname_add] = data_df[f1].values + data_df[f2].values\n",
    "        \n",
    "        # 减\n",
    "        if '{}_{}_subtract'.format(cross_features[i], cross_features[j]) not in exclude_cols:\n",
    "            colname_substract = '{}_{}_subtract'.format(cross_features[i], cross_features[j])\n",
    "            data_df[colname_substract] = data_df[cross_features[i]].values - data_df[cross_features[j]].values"
   ]
  },
  {
   "cell_type": "code",
   "execution_count": 24,
   "metadata": {
    "ExecuteTime": {
     "end_time": "2020-08-07T00:47:00.929039Z",
     "start_time": "2020-08-07T00:46:58.732923Z"
    }
   },
   "outputs": [],
   "source": [
    "data_df.fillna(method='bfill', inplace=True)"
   ]
  },
  {
   "cell_type": "code",
   "execution_count": 25,
   "metadata": {
    "ExecuteTime": {
     "end_time": "2020-08-07T00:47:00.932983Z",
     "start_time": "2020-08-07T00:47:00.929990Z"
    }
   },
   "outputs": [],
   "source": [
    "# 历史信息提取\n",
    "# data_df['dt'] = data_df['day'].values + (data_df['month'].values - 3) * 31"
   ]
  },
  {
   "cell_type": "code",
   "execution_count": 26,
   "metadata": {
    "ExecuteTime": {
     "end_time": "2020-08-07T00:47:00.946966Z",
     "start_time": "2020-08-07T00:47:00.934502Z"
    }
   },
   "outputs": [],
   "source": [
    "# def get_t_sts(f):\n",
    "#     tmp_df = pd.DataFrame()\n",
    "#     for t in tqdm(range(15, 45)):\n",
    "#         tmp_data = data_df.loc[data_df['dt'] < t, :]\n",
    "#         tmp = tmp_data.groupby(['hour'], as_index=False)[f].agg({\n",
    "#             'hit_{}_mean'.format(f): 'mean',\n",
    "#             'hit_{}_median'.format(f): 'median',\n",
    "#             'hit_{}_max'.format(f): 'max',\n",
    "#             'hit_{}_min'.format(f): 'min',\n",
    "#             'hit_{}_sum'.format(f): 'sum',\n",
    "#             'hit_{}_std'.format(f): 'std',\n",
    "#             'hit_{}_skew'.format(f): 'skew'\n",
    "#         })\n",
    "#         tmp['dt'] = t\n",
    "#         tmp_df = tmp_df.append(tmp)\n",
    "#         del tmp\n",
    "#         gc.collect()\n",
    "    \n",
    "#     data_df = data_df.merge(tmp_df, on=['dt', 'hour'], how='left')\n",
    "#     del tmp_df\n",
    "#     gc.collect()\n",
    "    \n",
    "# Parallel(n_jobs=4)(delayed(get_t_sts)(f) for f in tqdm(numerical_diff_features + ['temperature']))"
   ]
  },
  {
   "cell_type": "code",
   "execution_count": 27,
   "metadata": {
    "ExecuteTime": {
     "end_time": "2020-08-07T00:47:00.952951Z",
     "start_time": "2020-08-07T00:47:00.947964Z"
    }
   },
   "outputs": [],
   "source": [
    "# def get_t_1_sts(f):\n",
    "#     tmp_df = pd.DataFrame()\n",
    "#     for t in tqdm(range(15, 45)):\n",
    "#         tmp = data_df.loc[(data_df['dt'] < t) & (data_df['dt'] >= t - 1), :].groupby(['hour'], as_index=False)[f].agg({\n",
    "#             'hit_t_1_{}_mean'.format(f): 'mean',\n",
    "#             'hit_t_1_{}_median'.format(f): 'median',\n",
    "#             'hit_t_1_{}_max'.format(f): 'max',\n",
    "#             'hit_t_1_{}_min'.format(f): 'min',\n",
    "#             'hit_t_1_{}_sum'.format(f): 'sum',\n",
    "#             'hit_t_1_{}_std'.format(f): 'std',\n",
    "#             'hit_t_1_{}_skew'.format(f): 'skew'\n",
    "#         })\n",
    "#         tmp['dt'] = t\n",
    "#         tmp_df = tmp_df.append(tmp)\n",
    "#         del tmp\n",
    "#         gc.collect()\n",
    "\n",
    "#     data_df = data_df.merge(tmp_df, on=['dt', 'hour'], how='left')\n",
    "#     del tmp_df\n",
    "#     gc.collect()\n",
    "\n",
    "# Parallel(n_jobs=4)(delayed(get_t_1_sts)(f) for f in tqdm(numerical_diff_features + ['temperature']))\n"
   ]
  },
  {
   "cell_type": "code",
   "execution_count": 28,
   "metadata": {
    "ExecuteTime": {
     "end_time": "2020-08-07T00:47:00.957970Z",
     "start_time": "2020-08-07T00:47:00.953947Z"
    }
   },
   "outputs": [],
   "source": [
    "# def get_t_2_sts(f):\n",
    "#     tmp_df = pd.DataFrame()\n",
    "#     for t in tqdm(range(15, 45)):\n",
    "#         tmp = data_df.loc[(data_df['dt'] < t) & (data_df['dt'] >= t - 2), :].groupby(['hour'], as_index=False)[f].agg({\n",
    "#             'hit_t_1_{}_mean'.format(f): 'mean',\n",
    "#             'hit_t_1_{}_median'.format(f): 'median',\n",
    "#             'hit_t_1_{}_max'.format(f): 'max',\n",
    "#             'hit_t_1_{}_min'.format(f): 'min',\n",
    "#             'hit_t_1_{}_sum'.format(f): 'sum',\n",
    "#             'hit_t_1_{}_std'.format(f): 'std',\n",
    "#             'hit_t_1_{}_skew'.format(f): 'skew'\n",
    "#         })\n",
    "#         tmp['dt'] = t\n",
    "#         tmp_df = tmp_df.append(tmp)\n",
    "#         del tmp\n",
    "#         gc.collect()\n",
    "\n",
    "#     data_df = data_df.merge(tmp_df, on=['dt', 'hour'], how='left')\n",
    "#     del tmp_df\n",
    "#     gc.collect()\n",
    "\n",
    "# Parallel(n_jobs=4)(delayed(get_t_2_sts)(f) for f in tqdm(numerical_diff_features + ['temperature']))"
   ]
  },
  {
   "cell_type": "code",
   "execution_count": 29,
   "metadata": {
    "ExecuteTime": {
     "end_time": "2020-08-07T00:47:01.430713Z",
     "start_time": "2020-08-07T00:47:00.958935Z"
    }
   },
   "outputs": [],
   "source": [
    "data_df.fillna(method='bfill', inplace=True)"
   ]
  },
  {
   "cell_type": "code",
   "execution_count": 30,
   "metadata": {
    "ExecuteTime": {
     "end_time": "2020-08-07T00:47:01.591804Z",
     "start_time": "2020-08-07T00:47:01.431669Z"
    }
   },
   "outputs": [],
   "source": [
    "# 离散化\n",
    "for f in numerical_features:\n",
    "    data_df[f + '_20_bin'] = pd.cut(data_df[f], 20, duplicates='drop').apply(lambda x: x.left).astype(int)\n",
    "    data_df[f + '_50_bin'] = pd.cut(data_df[f], 50, duplicates='drop').apply(lambda x: x.left).astype(int)\n",
    "    data_df[f + '_100_bin'] = pd.cut(data_df[f], 100, duplicates='drop').apply(lambda x: x.left).astype(int)\n",
    "    data_df[f + '_200_bin'] = pd.cut(data_df[f], 200, duplicates='drop').apply(lambda x: x.left).astype(int)"
   ]
  },
  {
   "cell_type": "code",
   "execution_count": 31,
   "metadata": {
    "ExecuteTime": {
     "end_time": "2020-08-07T00:47:01.596832Z",
     "start_time": "2020-08-07T00:47:01.592805Z"
    }
   },
   "outputs": [],
   "source": [
    "# for f1 in tqdm(['outdoorTemp_20_bin', 'outdoorHum_20_bin', 'outdoorAtmo_20_bin', 'indoorHum_20_bin', 'indoorAtmo_20_bin']):\n",
    "#     for f2 in ['outdoorTemp', 'outdoorHum', 'outdoorAtmo', 'indoorHum', 'indoorAtmo']:\n",
    "#         data_df['{}_{}_medi'.format(f1, f2)] = data_df.groupby([f1])[f2].transform('median')\n",
    "#         data_df['{}_{}_mean'.format(f1, f2)] = data_df.groupby([f1])[f2].transform('mean')\n",
    "#         data_df['{}_{}_max'.format(f1, f2)] = data_df.groupby([f1])[f2].transform('max')\n",
    "#         data_df['{}_{}_min'.format(f1, f2)] = data_df.groupby([f1])[f2].transform('min')\n",
    "#         data_df['{}_{}_sum'.format(f1, f2)] = data_df.groupby([f1])[f2].transform('sum')\n",
    "#         data_df['{}_{}_std'.format(f1, f2)] = data_df.groupby([f1])[f2].transform('std')\n",
    "#         data_df['{}_{}_skew'.format(f1, f2)] = data_df.groupby([f1])[f2].transform('skew')\n",
    "\n",
    "# for f1 in tqdm(['outdoorTemp_50_bin', 'outdoorHum_50_bin', 'outdoorAtmo_50_bin', 'indoorHum_50_bin', 'indoorAtmo_50_bin']):\n",
    "#     for f2 in ['outdoorTemp', 'outdoorHum', 'outdoorAtmo', 'indoorHum', 'indoorAtmo']:\n",
    "#         data_df['{}_{}_medi'.format(f1, f2)] = data_df.groupby([f1])[f2].transform('median')\n",
    "#         data_df['{}_{}_mean'.format(f1, f2)] = data_df.groupby([f1])[f2].transform('mean')\n",
    "#         data_df['{}_{}_max'.format(f1, f2)] = data_df.groupby([f1])[f2].transform('max')\n",
    "#         data_df['{}_{}_min'.format(f1, f2)] = data_df.groupby([f1])[f2].transform('min')\n",
    "#         data_df['{}_{}_sum'.format(f1, f2)] = data_df.groupby([f1])[f2].transform('sum')\n",
    "#         data_df['{}_{}_std'.format(f1, f2)] = data_df.groupby([f1])[f2].transform('std')\n",
    "#         data_df['{}_{}_skew'.format(f1, f2)] = data_df.groupby([f1])[f2].transform('skew')\n",
    "\n",
    "# for f1 in tqdm(['outdoorTemp_100_bin', 'outdoorHum_100_bin', 'outdoorAtmo_100_bin', 'indoorHum_100_bin',\n",
    "#                 'indoorAtmo_100_bin']):\n",
    "#     for f2 in ['outdoorTemp', 'outdoorHum', 'outdoorAtmo', 'indoorHum', 'indoorAtmo']:\n",
    "#         data_df['{}_{}_medi'.format(f1, f2)] = data_df.groupby([f1])[f2].transform('median')\n",
    "#         data_df['{}_{}_mean'.format(f1, f2)] = data_df.groupby([f1])[f2].transform('mean')\n",
    "#         data_df['{}_{}_max'.format(f1, f2)] = data_df.groupby([f1])[f2].transform('max')\n",
    "#         data_df['{}_{}_min'.format(f1, f2)] = data_df.groupby([f1])[f2].transform('min')\n",
    "#         data_df['{}_{}_sum'.format(f1, f2)] = data_df.groupby([f1])[f2].transform('sum')\n",
    "#         data_df['{}_{}_std'.format(f1, f2)] = data_df.groupby([f1])[f2].transform('std')\n",
    "#         data_df['{}_{}_skew'.format(f1, f2)] = data_df.groupby([f1])[f2].transform('skew')\n",
    "\n",
    "# for f1 in tqdm(['outdoorTemp_200_bin', 'outdoorHum_200_bin', 'outdoorAtmo_200_bin', 'indoorHum_200_bin',\n",
    "#                 'indoorAtmo_200_bin']):\n",
    "#     for f2 in ['outdoorTemp', 'outdoorHum', 'outdoorAtmo', 'indoorHum', 'indoorAtmo']:\n",
    "#         data_df['{}_{}_medi'.format(f1, f2)] = data_df.groupby([f1])[f2].transform('median')\n",
    "#         data_df['{}_{}_mean'.format(f1, f2)] = data_df.groupby([f1])[f2].transform('mean')\n",
    "#         data_df['{}_{}_max'.format(f1, f2)] = data_df.groupby([f1])[f2].transform('max')\n",
    "#         data_df['{}_{}_min'.format(f1, f2)] = data_df.groupby([f1])[f2].transform('min')\n",
    "#         data_df['{}_{}_sum'.format(f1, f2)] = data_df.groupby([f1])[f2].transform('sum')\n",
    "#         data_df['{}_{}_std'.format(f1, f2)] = data_df.groupby([f1])[f2].transform('std')\n",
    "#         data_df['{}_{}_skew'.format(f1, f2)] = data_df.groupby([f1])[f2].transform('skew')"
   ]
  },
  {
   "cell_type": "code",
   "execution_count": 32,
   "metadata": {
    "ExecuteTime": {
     "end_time": "2020-08-07T01:04:25.541489Z",
     "start_time": "2020-08-07T00:47:01.597829Z"
    }
   },
   "outputs": [
    {
     "name": "stderr",
     "output_type": "stream",
     "text": [
      "100%|██████████████████████████████████████████████████████████████████████████████████| 28/28 [17:23<00:00, 37.28s/it]\n"
     ]
    }
   ],
   "source": [
    "for f1 in tqdm(['{}_20_bin'.format(i) for i in numerical_features] +\n",
    "               ['{}_50_bin'.format(i) for i in numerical_features] +\n",
    "               ['{}_100_bin'.format(i) for i in numerical_features] +\n",
    "               ['{}_200_bin'.format(i) for i in numerical_features]):\n",
    "    for f2 in numerical_features:\n",
    "        tmp = data_df.groupby(f1, as_index=False)[f2].agg({\n",
    "            '{}_{}_medi'.format(f1, f2): 'median',\n",
    "            '{}_{}_mean'.format(f1, f2): 'mean',\n",
    "            '{}_{}_max'.format(f1, f2): 'max',\n",
    "            '{}_{}_min'.format(f1, f2): 'min',\n",
    "            '{}_{}_sum'.format(f1, f2): 'sum',\n",
    "            '{}_{}_std'.format(f1, f2): 'std',\n",
    "            '{}_{}_skew'.format(f1, f2): 'skew'\n",
    "        })\n",
    "        data_df = data_df.merge(tmp, on=f1, how='left')\n",
    "        del tmp\n",
    "        gc.collect()"
   ]
  },
  {
   "cell_type": "code",
   "execution_count": 33,
   "metadata": {
    "ExecuteTime": {
     "end_time": "2020-08-07T01:04:29.364033Z",
     "start_time": "2020-08-07T01:04:25.542486Z"
    }
   },
   "outputs": [
    {
     "data": {
      "text/plain": [
       "20"
      ]
     },
     "execution_count": 33,
     "metadata": {},
     "output_type": "execute_result"
    }
   ],
   "source": [
    "train_df = data_df[:train_count].copy().reset_index(drop=True)\n",
    "test_df = data_df[train_count:].copy().reset_index(drop=True)\n",
    "\n",
    "del data_df\n",
    "gc.collect()"
   ]
  },
  {
   "cell_type": "code",
   "execution_count": 34,
   "metadata": {
    "ExecuteTime": {
     "end_time": "2020-08-07T01:04:30.209641Z",
     "start_time": "2020-08-07T01:04:29.365029Z"
    }
   },
   "outputs": [],
   "source": [
    "drop_columns = [\"time\", \"year\", \"sec\", \"temperature\"]\n",
    "\n",
    "features = train_df[:1].drop(drop_columns, axis=1).columns\n",
    "x_train = train_df[features]\n",
    "x_test = test_df[features]"
   ]
  },
  {
   "cell_type": "code",
   "execution_count": 35,
   "metadata": {
    "ExecuteTime": {
     "end_time": "2020-08-07T01:10:02.448081Z",
     "start_time": "2020-08-07T01:04:30.211337Z"
    }
   },
   "outputs": [
    {
     "name": "stderr",
     "output_type": "stream",
     "text": [
      "100%|████████████████████████████████████████████████████████████████████████████| 11770/11770 [05:30<00:00, 35.62it/s]\n"
     ]
    }
   ],
   "source": [
    "psi_res = Parallel(n_jobs=4)(delayed(get_psi)(c) for c in tqdm(features))\n",
    "psi_df = pd.concat(psi_res)"
   ]
  },
  {
   "cell_type": "code",
   "execution_count": 36,
   "metadata": {
    "ExecuteTime": {
     "end_time": "2020-08-07T01:10:02.454898Z",
     "start_time": "2020-08-07T01:10:02.448874Z"
    }
   },
   "outputs": [],
   "source": [
    "features = list(psi_df[psi_df['PSI'] <= 0.2]['变量名'].values) + ['outdoorTemp']"
   ]
  },
  {
   "cell_type": "code",
   "execution_count": 37,
   "metadata": {
    "ExecuteTime": {
     "end_time": "2020-08-07T01:10:03.094872Z",
     "start_time": "2020-08-07T01:10:02.456065Z"
    }
   },
   "outputs": [
    {
     "data": {
      "text/plain": [
       "40"
      ]
     },
     "execution_count": 37,
     "metadata": {},
     "output_type": "execute_result"
    }
   ],
   "source": [
    "x_train = x_train[features]\n",
    "x_test = x_test[features]\n",
    "gc.collect()"
   ]
  },
  {
   "cell_type": "code",
   "execution_count": 38,
   "metadata": {
    "ExecuteTime": {
     "end_time": "2020-08-07T01:27:02.496591Z",
     "start_time": "2020-08-07T01:10:03.095931Z"
    }
   },
   "outputs": [
    {
     "name": "stdout",
     "output_type": "stream",
     "text": [
      "{'indoorAtmo-outdoorAtmo_200_bin_indoorAtmo-outdoorAtmo_sum', 'MDH_indoorHum-outdoorHum_mean_MDH_outdoorAtmo_mean_ratio', 'MD_indoorAtmo-outdoorAtmo_diff_medi_MD_outdoorHum_mean_multyply', 'MD_outdoorAtmo_diff_medi_MDH_indoorAtmo_diff_medi_ratio', 'MD_outdoorHum_medi_MDH_indoorHum-outdoorHum_medi_multyply', 'MD_outdoorAtmo_diff_medi_MDH_outdoorAtmo_diff_mean_ratio', 'outdoorHum_200_bin_outdoorTemp_max', 'indoorHum-outdoorHum_20_bin_indoorHum-outdoorHum_mean', 'indoorHum-outdoorHum_200_bin_outdoorHum_mean', 'outdoorAtmo_MDH_indoorHum_mean_multyply', 'indoorHum-outdoorHum_50_bin_outdoorTemp_mean', 'indoorAtmo-outdoorAtmo_MD_outdoorAtmo_diff_mean_subtract', 'outdoorAtmo_MDH_indoorHum-outdoorHum_mean_multyply', 'MD_indoorHum-outdoorHum_mean_MDH_outdoorTemp_mean_ratio', 'MDH_indoorHum-outdoorHum_medi_MDH_indoorHum-outdoorHum_diff_medi_subtract', 'outdoorHum_50_bin_outdoorTemp_min', 'outdoorHum_20_bin_indoorHum-outdoorHum_mean', 'indoorAtmo_indoorHum-outdoorHum_ratio', 'MD_outdoorHum_mean_MD_indoorAtmo_diff_medi_ratio', 'MDH_outdoorHum_medi_MDH_indoorHum_mean_subtract', 'MDH_outdoorHum_diff_mean_MD_indoorAtmo_diff_medi_ratio', 'indoorHum_MDH_indoorHum_diff_medi_subtract', 'indoorHum_200_bin', 'MD_indoorAtmo-outdoorAtmo_diff_medi_MDH_outdoorHum_diff_mean_ratio', 'MDH_indoorAtmo_mean_indoorHum_multyply', 'outdoorAtmo_indoorAtmo-outdoorAtmo_ratio', 'MDH_outdoorHum_medi_MD_indoorAtmo_diff_medi_ratio', 'outdoorHum_MD_indoorHum_mean_subtract', 'indoorAtmo-outdoorAtmo_MDH_outdoorTemp_mean_ratio', 'MDH_indoorHum_mean_MD_indoorHum-outdoorHum_mean_multyply', 'MDH_outdoorTemp_mean_MD_indoorAtmo-outdoorAtmo_diff_medi_ratio', 'MD_indoorAtmo_diff_medi_MD_indoorAtmo-outdoorAtmo_medi_ratio', 'indoorAtmo-outdoorAtmo_20_bin_indoorAtmo-outdoorAtmo_min', 'MDH_indoorHum-outdoorHum_medi_MD_indoorAtmo-outdoorAtmo_diff_medi_subtract', 'MD_indoorAtmo_diff_medi_MD_outdoorHum_medi_multyply', 'outdoorHum_50_bin_indoorHum_sum', 'MDH_indoorHum-outdoorHum_mean_MD_outdoorTemp_diff_medi_subtract', 'MDH_indoorHum_medi', 'MDH_outdoorTemp_mean_MDH_outdoorTemp_diff_medi_ratio', 'indoorAtmo-outdoorAtmo_MDH_indoorHum_mean_subtract', 'indoorHum-outdoorHum_100_bin_outdoorTemp_mean', 'indoorHum-outdoorHum_50_bin_indoorAtmo_min', 'MD_indoorHum_mean_MD_indoorHum-outdoorHum_medi_ratio', 'indoorHum-outdoorHum_20_bin_indoorAtmo_medi', 'indoorAtmo-outdoorAtmo_MDH_indoorHum_mean_ratio', 'MDH_indoorHum-outdoorHum_mean_MDH_outdoorHum_medi_ratio', 'indoorHum_20_bin_outdoorHum_mean', 'indoorAtmo_MD_indoorAtmo_medi_subtract', 'MD_outdoorAtmo_diff_medi_MDH_indoorAtmo_diff_medi_multyply', 'MD_indoorAtmo-outdoorAtmo_diff_medi_MDH_indoorHum_diff_medi_multyply', 'MD_outdoorHum_mean_indoorAtmo-outdoorAtmo_multyply', 'indoorHum_MD_indoorHum-outdoorHum_diff_medi_multyply', 'MDH_indoorAtmo_medi_MDH_indoorAtmo_mean_ratio', 'indoorAtmo-outdoorAtmo_MDH_indoorAtmo-outdoorAtmo_diff_medi_subtract', 'MD_indoorAtmo-outdoorAtmo_diff_medi_MDH_indoorHum-outdoorHum_mean_multyply', 'outdoorHum_MDH_outdoorHum_diff_mean_subtract', 'indoorHum_50_bin', 'MDH_indoorHum_diff_mean_MD_outdoorAtmo_diff_medi_ratio', 'outdoorHum_100_bin_outdoorTemp_mean', 'outdoorHum_200_bin_indoorAtmo-outdoorAtmo_skew', 'MD_indoorAtmo-outdoorAtmo_diff_medi_MD_indoorHum_diff_medi_multyply', 'MDH_indoorHum_mean_MD_outdoorAtmo_medi_ratio', 'MDH_indoorHum_medi_MD_indoorAtmo-outdoorAtmo_diff_medi_ratio', 'MD_outdoorAtmo_diff_medi_MD_outdoorTemp_diff_mean_ratio', 'MD_indoorAtmo-outdoorAtmo_diff_medi_MD_outdoorHum_diff_mean_ratio', 'MDH_outdoorHum_medi_MD_outdoorHum_medi_multyply', 'indoorAtmo_50_bin_indoorHum_mean', 'MDH_indoorAtmo_medi_MDH_outdoorHum_medi_multyply', 'indoorHum-outdoorHum_MD_indoorAtmo-outdoorAtmo_diff_medi_ratio', 'MDH_indoorHum_mean_MD_indoorHum-outdoorHum_medi_subtract', 'indoorHum-outdoorHum_MDH_outdoorAtmo_medi_ratio', 'indoorHum_MD_indoorAtmo_medi_multyply', 'MDH_indoorHum_medi_MDH_indoorAtmo_diff_mean_subtract', 'MD_indoorHum-outdoorHum_medi_MD_outdoorTemp_mean_multyply', 'MDH_outdoorTemp_diff_medi_MD_indoorAtmo_mean_multyply', 'MD_outdoorTemp_mean_MD_indoorAtmo_diff_medi_ratio', 'MDH_indoorAtmo-outdoorAtmo_mean_MDH_indoorHum-outdoorHum_diff_mean_subtract', 'MDH_indoorAtmo_mean_MDH_outdoorTemp_diff_medi_ratio', 'indoorHum_MD_indoorAtmo_diff_medi_subtract', 'MD_outdoorHum_medi_MD_indoorAtmo-outdoorAtmo_diff_mean_subtract', 'indoorAtmo-outdoorAtmo_MD_outdoorTemp_diff_mean_subtract', 'MDH_outdoorHum_medi_indoorHum-outdoorHum_ratio', 'MD_indoorAtmo-outdoorAtmo_medi_MDH_outdoorTemp_diff_medi_ratio', 'MD_indoorHum_mean_indoorAtmo-outdoorAtmo_ratio', 'MDH_outdoorTemp_diff_medi_MDH_outdoorHum_mean_multyply', 'indoorAtmo-outdoorAtmo_MD_outdoorTemp_mean_multyply', 'outdoorAtmo_50_bin_indoorHum-outdoorHum_medi', 'indoorHum-outdoorHum_200_bin_outdoorHum_medi', 'MDH_outdoorHum_diff_mean_MD_indoorAtmo-outdoorAtmo_diff_medi_ratio', 'MDH_indoorHum-outdoorHum_mean_MDH_outdoorTemp_mean_ratio', 'MDH_indoorHum-outdoorHum_medi_MD_indoorAtmo_medi_multyply', 'indoorAtmo-outdoorAtmo_MD_outdoorAtmo_mean_multyply', 'outdoorHum_200_bin_indoorHum_sum', 'indoorHum-outdoorHum_100_bin_outdoorTemp_skew', 'indoorHum_100_bin_outdoorTemp_medi', 'MD_indoorHum-outdoorHum_medi_MDH_outdoorTemp_medi_multyply', 'indoorHum_100_bin_indoorAtmo_max', 'indoorAtmo-outdoorAtmo_outdoorHum_multyply', 'MD_outdoorHum_mean_MDH_indoorHum-outdoorHum_diff_medi_subtract', 'MD_indoorHum_medi_indoorAtmo-outdoorAtmo_ratio', 'indoorHum_outdoorHum_ratio', 'indoorAtmo_MDH_indoorHum-outdoorHum_medi_ratio', 'MDH_indoorHum_mean_MD_indoorAtmo_mean_subtract', 'MDH_indoorHum_medi_indoorHum_ratio', 'indoorAtmo-outdoorAtmo_100_bin_indoorAtmo_medi', 'indoorAtmo-outdoorAtmo_200_bin_indoorHum-outdoorHum_min', 'MDH_indoorHum_medi_MD_indoorAtmo_medi_subtract', 'MDH_outdoorTemp_mean_MDH_indoorHum-outdoorHum_mean_ratio', 'MD_indoorHum_mean_outdoorHum_ratio', 'MDH_indoorHum-outdoorHum_medi_MD_outdoorAtmo_medi_multyply', 'MDH_indoorAtmo_mean_MD_indoorAtmo-outdoorAtmo_diff_medi_ratio', 'MDH_outdoorAtmo_medi_MDH_outdoorHum_mean_multyply', 'MD_outdoorAtmo_medi_outdoorHum_multyply', 'indoorAtmo-outdoorAtmo_MDH_outdoorTemp_diff_medi_subtract', 'MD_outdoorAtmo_diff_medi_MDH_indoorAtmo-outdoorAtmo_mean_multyply', 'MDH_indoorHum_medi_MD_outdoorHum_medi_ratio', 'indoorHum-outdoorHum_50_bin_outdoorHum_min', 'indoorAtmo_MD_outdoorAtmo_mean_multyply', 'MDH_indoorHum_medi_MDH_indoorHum_diff_mean_subtract', 'MD_indoorAtmo-outdoorAtmo_diff_medi_MD_indoorHum_medi_ratio', 'indoorAtmo_20_bin_indoorHum_medi', 'MD_outdoorAtmo_mean_indoorAtmo-outdoorAtmo_ratio', 'indoorHum-outdoorHum_100_bin_indoorHum_std', 'indoorHum-outdoorHum_100_bin_indoorAtmo_max', 'MD_indoorAtmo_medi_MDH_indoorHum_mean_multyply', 'indoorHum-outdoorHum_MDH_outdoorAtmo_mean_multyply', 'MD_indoorHum_mean_MDH_indoorHum-outdoorHum_medi_multyply', 'indoorHum-outdoorHum_indoorAtmo_multyply', 'indoorHum-outdoorHum_200_bin_indoorHum-outdoorHum_std', 'indoorHum-outdoorHum_MDH_indoorAtmo_medi_ratio', 'outdoorAtmo_MD_indoorAtmo-outdoorAtmo_diff_medi_ratio', 'MDH_indoorHum-outdoorHum_medi_MDH_indoorAtmo_medi_ratio', 'MDH_indoorHum-outdoorHum_mean_MD_indoorHum_mean_ratio', 'outdoorHum_MD_outdoorTemp_diff_medi_subtract', 'MDH_outdoorAtmo_mean_MD_outdoorAtmo_mean_subtract', 'MDH_outdoorHum_diff_medi_MD_indoorAtmo-outdoorAtmo_diff_medi_subtract', 'indoorHum-outdoorHum_200_bin_outdoorHum_std', 'outdoorAtmo_MD_outdoorAtmo_medi_multyply', 'outdoorHum_100_bin_indoorHum-outdoorHum_medi', 'indoorAtmo_50_bin_indoorAtmo_std', 'MD_indoorAtmo_medi_indoorAtmo_multyply', 'MDH_outdoorHum_medi_indoorHum_multyply', 'MD_outdoorHum_medi_MD_indoorHum_diff_mean_subtract', 'MDH_outdoorHum_medi_MD_indoorHum_mean_multyply', 'MD_outdoorHum_mean_MDH_indoorHum-outdoorHum_mean_subtract', 'MDH_indoorAtmo-outdoorAtmo_mean_indoorHum-outdoorHum_ratio', 'MDH_outdoorHum_mean_MD_indoorAtmo_medi_subtract', 'MD_indoorAtmo_diff_medi_MD_outdoorHum_mean_multyply', 'MDH_outdoorTemp_diff_medi_outdoorHum_multyply', 'indoorHum-outdoorHum_50_bin_indoorAtmo_std', 'indoorHum-outdoorHum_100_bin_outdoorHum_medi', 'indoorHum-outdoorHum_200_bin_indoorAtmo_max', 'indoorHum_MDH_indoorHum-outdoorHum_mean_ratio', 'indoorAtmo-outdoorAtmo_200_bin_outdoorHum_sum', 'indoorAtmo-outdoorAtmo_200_bin_indoorAtmo_skew', 'indoorHum_100_bin_indoorHum_max', 'indoorHum-outdoorHum_100_bin_indoorHum_min', 'MDH_outdoorHum_max', 'outdoorAtmo_MD_indoorHum-outdoorHum_medi_ratio', 'MD_indoorHum-outdoorHum_medi_MD_outdoorAtmo_mean_ratio', 'MD_indoorHum-outdoorHum_medi_MDH_indoorHum_mean_ratio', 'indoorAtmo-outdoorAtmo_MDH_outdoorHum_medi_ratio', 'MDH_outdoorTemp_diff_medi_MDH_indoorHum-outdoorHum_diff_medi_multyply', 'outdoorHum_MDH_indoorHum-outdoorHum_diff_medi_subtract', 'outdoorHum_200_bin_indoorHum_mean', 'MDH_indoorHum-outdoorHum_medi_MD_indoorAtmo-outdoorAtmo_diff_medi_ratio', 'MD_indoorAtmo_diff_medi_MD_indoorAtmo_diff_mean_ratio', 'MD_outdoorHum_medi_MD_indoorHum-outdoorHum_mean_subtract', 'MD_indoorAtmo_diff_medi_MDH_outdoorTemp_mean_multyply', 'outdoorHum_200_bin_indoorHum_medi', 'MDH_outdoorAtmo_mean_indoorAtmo-outdoorAtmo_ratio', 'outdoorHum_MD_outdoorAtmo_medi_multyply', 'indoorAtmo_20_bin_indoorAtmo-outdoorAtmo_min', 'indoorAtmo-outdoorAtmo_20_bin_indoorHum_std', 'indoorAtmo-outdoorAtmo_200_bin_outdoorAtmo_medi', 'MD_indoorHum-outdoorHum_mean_MDH_indoorHum_diff_mean_subtract', 'indoorAtmo_20_bin_outdoorAtmo_medi', 'MD_outdoorHum_mean_MDH_indoorAtmo_mean_subtract', 'outdoorHum_200_bin_outdoorTemp_min', 'indoorHum-outdoorHum_MD_indoorAtmo_diff_mean_subtract', 'MD_indoorAtmo-outdoorAtmo_mean_MD_indoorAtmo-outdoorAtmo_diff_medi_ratio', 'MDH_outdoorAtmo_diff_medi_MD_indoorAtmo-outdoorAtmo_diff_medi_ratio', 'MD_indoorAtmo-outdoorAtmo_diff_medi_MD_outdoorAtmo_diff_medi_ratio', 'MD_indoorAtmo_diff_medi_MD_outdoorAtmo_medi_multyply', 'MD_indoorHum_medi_MDH_indoorHum-outdoorHum_mean_multyply', 'MD_indoorHum_diff_mean_MD_outdoorAtmo_diff_medi_ratio', 'MDH_indoorHum_mean_MDH_outdoorHum_mean_ratio', 'MDH_indoorHum-outdoorHum_mean_MD_indoorAtmo_diff_mean_subtract', 'MD_indoorHum_mean_MD_outdoorTemp_diff_medi_subtract', 'indoorHum-outdoorHum_100_bin_outdoorAtmo_mean', 'MD_indoorAtmo_diff_medi_MD_outdoorAtmo_mean_ratio', 'indoorHum_200_bin_indoorHum-outdoorHum_min', 'indoorHum_MDH_indoorHum-outdoorHum_diff_mean_subtract', 'MD_indoorAtmo_diff_medi_MD_indoorAtmo_medi_ratio', 'MDH_outdoorHum_mean_MDH_outdoorAtmo_diff_medi_subtract', 'MDH_indoorHum_mean_MDH_indoorHum-outdoorHum_diff_medi_subtract', 'indoorHum-outdoorHum_20_bin_outdoorTemp_mean', 'MDH_indoorHum-outdoorHum_mean_MD_indoorHum_diff_medi_subtract', 'indoorHum-outdoorHum_200_bin_outdoorTemp_mean', 'outdoorHum_50_bin_indoorAtmo_sum', 'indoorAtmo-outdoorAtmo_20_bin_outdoorAtmo_mean', 'MD_indoorAtmo_medi_MDH_indoorHum_medi_multyply', 'outdoorHum_100_bin_indoorHum_medi', 'indoorAtmo-outdoorAtmo_MDH_indoorHum_medi_subtract', 'outdoorHum_20_bin', 'indoorHum_100_bin_outdoorTemp_std', 'indoorHum_200_bin_indoorAtmo-outdoorAtmo_medi', 'MDH_outdoorHum_medi_MDH_indoorAtmo-outdoorAtmo_mean_subtract', 'indoorHum-outdoorHum_100_bin_indoorAtmo-outdoorAtmo_skew', 'outdoorHum_indoorHum_ratio', 'outdoorAtmo_100_bin_indoorAtmo-outdoorAtmo_medi', 'MDH_indoorHum-outdoorHum_mean_MDH_outdoorTemp_diff_medi_ratio', 'MD_indoorHum_medi_MDH_outdoorHum_mean_multyply', 'MD_indoorHum-outdoorHum_mean_MD_indoorAtmo_medi_ratio', 'MDH_indoorHum-outdoorHum_mean_MD_indoorHum-outdoorHum_diff_medi_multyply', 'MDH_outdoorTemp_diff_medi_MDH_outdoorAtmo_medi_multyply', 'MD_indoorHum-outdoorHum_mean_MDH_indoorHum_mean_multyply', 'MD_outdoorAtmo_mean_MDH_indoorHum_mean_subtract', 'outdoorAtmo_indoorHum_multyply', 'MDH_indoorHum-outdoorHum_mean_MD_indoorHum-outdoorHum_medi_multyply', 'MD_indoorAtmo_diff_medi_MDH_indoorAtmo-outdoorAtmo_medi_multyply', 'MDH_indoorHum_medi_outdoorAtmo_multyply', 'MDH_indoorAtmo_mean_MDH_indoorHum_medi_multyply', 'MDH_outdoorAtmo_medi_MDH_indoorHum-outdoorHum_medi_ratio', 'indoorAtmo_MDH_indoorAtmo_medi_subtract', 'MDH_indoorAtmo_diff_mean_MD_outdoorAtmo_diff_medi_ratio', 'MD_indoorAtmo_diff_medi_MD_outdoorAtmo_diff_mean_ratio', 'MDH_outdoorAtmo_diff_medi_MD_indoorAtmo_diff_medi_ratio', 'MDH_indoorHum-outdoorHum_medi_MD_indoorAtmo_diff_medi_subtract', 'MDH_outdoorHum_mean_MDH_indoorHum-outdoorHum_mean_subtract', 'MDH_indoorHum-outdoorHum_medi_MD_indoorAtmo-outdoorAtmo_medi_subtract', 'MD_outdoorHum_medi_MDH_outdoorHum_medi_ratio', 'outdoorHum_MDH_outdoorHum_medi_ratio', 'MD_indoorAtmo-outdoorAtmo_mean_MDH_indoorAtmo-outdoorAtmo_mean_ratio', 'indoorHum-outdoorHum_MDH_outdoorHum_mean_multyply', 'MD_indoorAtmo-outdoorAtmo_diff_medi_outdoorHum_ratio', 'MDH_outdoorHum_medi_MDH_indoorAtmo_mean_ratio', 'MD_outdoorAtmo_medi_MD_indoorHum_mean_ratio', 'MD_indoorHum-outdoorHum_medi_indoorHum-outdoorHum_ratio', 'indoorHum-outdoorHum_100_bin_indoorAtmo-outdoorAtmo_mean', 'MD_indoorAtmo-outdoorAtmo_diff_mean_MDH_outdoorTemp_diff_mean_multyply', 'indoorAtmo-outdoorAtmo_MD_indoorHum_medi_multyply', 'MD_indoorHum_medi_MD_indoorHum_diff_medi_multyply', 'MD_indoorAtmo_diff_medi_MDH_outdoorHum_medi_multyply', 'MD_indoorHum-outdoorHum_medi_MDH_indoorHum-outdoorHum_diff_medi_subtract', 'indoorAtmo-outdoorAtmo_200_bin_indoorAtmo_max', 'MD_indoorHum-outdoorHum_medi_outdoorHum_ratio', 'MDH_indoorHum-outdoorHum_medi_MDH_outdoorTemp_diff_medi_subtract', 'MDH_outdoorTemp_diff_medi_MD_outdoorTemp_mean_multyply', 'indoorAtmo_50_bin_indoorAtmo_skew', 'indoorHum_20_bin_outdoorTemp_medi', 'MD_indoorAtmo-outdoorAtmo_diff_medi_MDH_indoorAtmo-outdoorAtmo_diff_mean_multyply', 'MD_outdoorHum_mean_MDH_indoorHum_mean_ratio', 'MDH_outdoorHum_medi_MD_indoorHum_medi_subtract', 'indoorAtmo_MD_indoorHum-outdoorHum_medi_ratio', 'MD_indoorHum_mean_MDH_indoorHum_medi_multyply', 'indoorHum_200_bin_outdoorAtmo_sum', 'MDH_indoorAtmo_medi_MDH_indoorHum-outdoorHum_medi_multyply', 'indoorAtmo-outdoorAtmo_MD_indoorHum-outdoorHum_diff_medi_subtract', 'MD_indoorHum_medi_MD_outdoorHum_diff_medi_multyply', 'MD_indoorHum_mean_indoorAtmo-outdoorAtmo_multyply', 'MD_indoorAtmo_medi_MDH_indoorHum-outdoorHum_medi_multyply', 'MDH_outdoorTemp_diff_medi_MD_outdoorHum_diff_medi_multyply', 'indoorHum-outdoorHum_MD_outdoorHum_diff_mean_subtract', 'indoorHum_outdoorAtmo_multyply', 'MD_indoorAtmo_medi_indoorHum_ratio', 'MD_outdoorAtmo_diff_medi_MD_indoorHum_diff_mean_multyply', 'MDH_indoorAtmo_mean_MDH_indoorAtmo-outdoorAtmo_diff_medi_subtract', 'MDH_indoorHum_mean_MD_outdoorHum_mean_ratio', 'MD_indoorHum_medi_MDH_indoorHum_mean_multyply', 'indoorAtmo-outdoorAtmo_MD_indoorAtmo_diff_mean_subtract', 'indoorAtmo_20_bin_indoorAtmo_mean', 'outdoorHum_MDH_outdoorAtmo_medi_multyply', 'indoorAtmo-outdoorAtmo_50_bin_indoorHum_sum', 'indoorAtmo-outdoorAtmo_50_bin_indoorAtmo-outdoorAtmo_medi', 'outdoorTemp_200_bin_outdoorAtmo_min', 'MD_indoorHum-outdoorHum_medi_MD_indoorAtmo-outdoorAtmo_medi_subtract', 'indoorHum-outdoorHum_200_bin_outdoorTemp_max', 'MD_outdoorAtmo_mean_MDH_indoorHum-outdoorHum_mean_multyply', 'MDH_indoorAtmo_mean_MD_indoorAtmo-outdoorAtmo_diff_medi_subtract', 'MD_indoorAtmo_mean_MDH_outdoorHum_medi_multyply', 'indoorHum_200_bin_outdoorAtmo_skew', 'MDH_indoorHum-outdoorHum_medi_MD_indoorAtmo_mean_ratio', 'MDH_indoorHum_diff_medi_MD_indoorAtmo_diff_medi_subtract', 'MDH_outdoorHum_mean_MDH_indoorAtmo-outdoorAtmo_mean_subtract', 'indoorHum_50_bin_outdoorTemp_medi', 'MDH_indoorHum_medi_MD_indoorHum-outdoorHum_mean_multyply', 'MD_indoorAtmo-outdoorAtmo_diff_medi_MDH_indoorAtmo_mean_ratio', 'MDH_indoorHum-outdoorHum_diff_medi_MD_indoorAtmo-outdoorAtmo_diff_medi_subtract', 'MD_outdoorAtmo_medi_indoorHum-outdoorHum_multyply', 'MD_indoorHum_medi_outdoorHum_multyply', 'indoorAtmo-outdoorAtmo_200_bin_indoorAtmo_sum', 'MDH_indoorHum_medi_MDH_outdoorHum_mean_multyply', 'MDH_indoorAtmo_medi_MDH_indoorHum-outdoorHum_mean_multyply', 'indoorHum_MDH_indoorHum-outdoorHum_diff_medi_subtract', 'MDH_outdoorHum_mean_MD_indoorAtmo_diff_medi_subtract', 'MDH_indoorAtmo_mean_MD_indoorAtmo-outdoorAtmo_medi_subtract', 'MD_indoorHum_medi_indoorHum-outdoorHum_ratio', 'outdoorHum_MDH_indoorAtmo_medi_multyply', 'MD_indoorHum-outdoorHum_medi_MD_indoorHum_medi_ratio', 'MDH_outdoorTemp_diff_medi_MD_indoorHum_mean_ratio', 'MDH_indoorHum-outdoorHum_medi_MD_indoorHum_diff_medi_subtract', 'MDH_outdoorTemp_medi_MD_indoorHum-outdoorHum_mean_ratio', 'indoorAtmo-outdoorAtmo_MDH_indoorAtmo_mean_multyply', 'MDH_outdoorTemp_diff_medi_MDH_indoorHum_medi_multyply', 'MD_indoorAtmo-outdoorAtmo_mean_MD_outdoorAtmo_diff_medi_ratio', 'MDH_indoorHum_medi_MD_outdoorHum_diff_medi_subtract', 'MDH_indoorHum-outdoorHum_mean_MD_indoorHum-outdoorHum_medi_subtract', 'MD_indoorAtmo_diff_medi_MDH_indoorHum-outdoorHum_medi_ratio', 'indoorHum_MDH_indoorHum-outdoorHum_medi_subtract', 'MD_indoorAtmo_diff_medi_MDH_outdoorAtmo_diff_medi_multyply', 'indoorHum_MD_indoorHum_mean_subtract', 'MDH_indoorHum_mean_MD_outdoorAtmo_diff_medi_subtract', 'indoorHum_50_bin_indoorHum_mean', 'MD_indoorAtmo-outdoorAtmo_diff_medi_MDH_indoorHum_diff_mean_ratio', 'MDH_indoorAtmo_mean_MD_indoorHum-outdoorHum_diff_medi_multyply', 'MD_indoorHum_medi_MD_outdoorAtmo_medi_multyply', 'indoorHum-outdoorHum_200_bin_outdoorAtmo_mean', 'MDH_outdoorHum_medi_MD_indoorAtmo-outdoorAtmo_medi_subtract', 'MDH_indoorHum-outdoorHum_mean_MD_indoorHum-outdoorHum_medi_ratio', 'MD_indoorHum-outdoorHum_medi_indoorHum_ratio', 'MDH_outdoorTemp_medi_MDH_indoorHum_medi_subtract', 'indoorAtmo_indoorHum_multyply', 'outdoorHum_20_bin_indoorHum_sum', 'MDH_indoorHum_medi_MD_indoorAtmo-outdoorAtmo_medi_subtract', 'indoorHum_200_bin_indoorAtmo_min', 'indoorHum_MD_indoorHum_diff_mean_subtract', 'MDH_indoorHum-outdoorHum_mean_MD_indoorAtmo-outdoorAtmo_diff_medi_subtract', 'indoorAtmo_MDH_indoorHum_medi_multyply', 'MD_indoorHum_medi_MDH_indoorAtmo_medi_multyply', 'MD_indoorHum-outdoorHum_medi_MDH_outdoorTemp_medi_ratio', 'indoorAtmo-outdoorAtmo_MDH_outdoorTemp_diff_mean_subtract', 'MD_indoorHum-outdoorHum_medi_MDH_outdoorTemp_mean_multyply', 'outdoorAtmo_20_bin_outdoorTemp_mean', 'MDH_indoorHum_mean_MD_indoorHum_medi_multyply', 'MD_outdoorHum_mean_MDH_outdoorHum_medi_multyply', 'MDH_indoorHum-outdoorHum_medi_MD_outdoorHum_mean_ratio', 'MD_indoorHum_medi_indoorAtmo-outdoorAtmo_multyply', 'MDH_indoorAtmo-outdoorAtmo_diff_mean_MD_indoorAtmo_diff_medi_ratio', 'MDH_outdoorTemp_medi_outdoorTemp_multyply', 'MD_outdoorAtmo_medi_MDH_indoorAtmo_medi_subtract', 'MDH_outdoorAtmo_diff_mean_MD_indoorAtmo-outdoorAtmo_diff_medi_ratio', 'outdoorHum_MDH_outdoorTemp_mean_subtract', 'MD_indoorAtmo-outdoorAtmo_diff_mean_MD_indoorAtmo-outdoorAtmo_diff_medi_ratio', 'MDH_outdoorAtmo_medi_indoorAtmo-outdoorAtmo_multyply', 'indoorHum-outdoorHum_200_bin_indoorAtmo-outdoorAtmo_min', 'MD_indoorAtmo_mean_MD_outdoorHum_mean_ratio', 'indoorHum-outdoorHum_100_bin_outdoorHum_min', 'MD_indoorAtmo_medi_MD_indoorHum_mean_ratio', 'MDH_indoorAtmo_mean_MDH_outdoorHum_mean_ratio', 'indoorAtmo-outdoorAtmo_MDH_indoorHum-outdoorHum_mean_subtract', 'indoorHum-outdoorHum_MDH_indoorAtmo_mean_ratio', 'MDH_outdoorAtmo_medi_MD_indoorAtmo_medi_multyply', 'MD_indoorAtmo_mean_MDH_indoorHum-outdoorHum_medi_ratio', 'MD_indoorAtmo-outdoorAtmo_diff_medi_MDH_indoorAtmo_diff_mean_multyply', 'indoorHum-outdoorHum_MD_outdoorAtmo_mean_multyply', 'MDH_outdoorTemp_diff_medi_MDH_indoorHum_diff_medi_multyply', 'indoorHum_50_bin_outdoorHum_medi', 'MD_outdoorAtmo_mean_MDH_outdoorHum_mean_multyply', 'MDH_outdoorAtmo_mean_MD_indoorHum_medi_multyply', 'MDH_outdoorHum_mean_MDH_indoorAtmo_mean_subtract', 'MDH_indoorAtmo_mean_indoorHum-outdoorHum_multyply', 'indoorAtmo-outdoorAtmo_100_bin_indoorAtmo-outdoorAtmo_min', 'MDH_indoorAtmo_medi_MDH_indoorHum_medi_ratio', 'MD_indoorHum_medi_MDH_indoorHum-outdoorHum_mean_subtract', 'indoorHum_50_bin_indoorHum_max', 'MD_outdoorTemp_medi_MDH_outdoorTemp_mean_multyply', 'MD_indoorAtmo_diff_medi_MD_indoorHum_diff_mean_multyply', 'indoorHum-outdoorHum_20_bin_indoorHum_std', 'MDH_indoorAtmo_mean_MD_indoorHum_diff_medi_multyply', 'outdoorTemp_200_bin_indoorAtmo_min', 'MD_outdoorTemp_medi_MD_indoorHum-outdoorHum_mean_multyply', 'MDH_indoorHum-outdoorHum_mean_MD_outdoorHum_mean_multyply', 'MDH_indoorHum-outdoorHum_medi_MD_indoorHum-outdoorHum_diff_medi_subtract', 'indoorAtmo_MDH_outdoorHum_mean_subtract', 'MDH_outdoorHum_medi_MDH_outdoorTemp_diff_mean_subtract', 'MDH_outdoorHum_medi_MD_outdoorHum_diff_mean_subtract', 'indoorAtmo-outdoorAtmo_200_bin_outdoorAtmo_mean', 'MDH_outdoorHum_mean_MDH_indoorHum-outdoorHum_medi_multyply', 'MD_indoorHum-outdoorHum_diff_mean_MD_indoorAtmo_diff_medi_ratio', 'indoorHum-outdoorHum_50_bin_outdoorHum_medi', 'MDH_outdoorAtmo_mean_MDH_indoorHum_medi_multyply', 'indoorHum_100_bin_indoorHum_medi', 'indoorHum-outdoorHum_MDH_outdoorTemp_mean_ratio', 'MD_indoorAtmo_medi_MDH_indoorAtmo_medi_multyply', 'MD_outdoorHum_mean_MDH_outdoorHum_mean_multyply', 'MDH_outdoorTemp_diff_medi_MD_indoorHum-outdoorHum_diff_medi_subtract', 'MDH_outdoorTemp_diff_medi_MD_indoorHum-outdoorHum_mean_multyply', 'indoorHum-outdoorHum_200_bin_indoorAtmo_sum', 'indoorHum-outdoorHum_200_bin_indoorHum-outdoorHum_min', 'indoorHum_MDH_indoorHum-outdoorHum_medi_ratio', 'MD_indoorAtmo_mean_MD_indoorHum-outdoorHum_medi_ratio', 'indoorHum-outdoorHum_100_bin_outdoorAtmo_min', 'MD_indoorAtmo_diff_medi_MD_indoorHum-outdoorHum_mean_multyply', 'MDH_indoorAtmo_diff_mean_MD_indoorHum_diff_mean_multyply', 'indoorHum_20_bin_indoorHum-outdoorHum_mean', 'MD_indoorAtmo-outdoorAtmo_diff_medi_MDH_indoorHum-outdoorHum_diff_medi_multyply', 'indoorHum_200_bin_indoorHum-outdoorHum_skew', 'MDH_indoorAtmo_medi_MDH_outdoorHum_medi_ratio', 'MDH_indoorHum-outdoorHum_medi_MDH_outdoorTemp_mean_multyply', 'MDH_indoorHum_mean_MD_indoorHum_diff_medi_subtract', 'MDH_indoorHum_medi_MD_indoorHum_medi_subtract', 'MDH_outdoorTemp_medi_MD_outdoorTemp_mean_multyply', 'MDH_indoorHum_medi_MDH_indoorAtmo_medi_ratio', 'MDH_indoorHum-outdoorHum_mean_MD_indoorAtmo_mean_multyply', 'indoorHum-outdoorHum_MD_indoorHum-outdoorHum_diff_mean_subtract', 'MDH_outdoorAtmo_medi_MDH_indoorHum_medi_ratio', 'outdoorHum_MDH_indoorHum-outdoorHum_mean_subtract', 'MD_indoorAtmo_medi_outdoorHum_multyply', 'indoorHum-outdoorHum_MD_indoorHum_medi_subtract', 'indoorAtmo_100_bin_indoorHum_std', 'outdoorAtmo_50_bin_outdoorAtmo_mean', 'MDH_outdoorHum_mean_MD_indoorHum_medi_ratio', 'MDH_indoorAtmo_medi_MD_indoorAtmo_medi_multyply', 'MDH_indoorHum-outdoorHum_mean_MDH_outdoorTemp_diff_mean_subtract', 'MD_indoorAtmo_mean_MD_indoorHum_mean_ratio', 'MDH_indoorHum-outdoorHum_medi_MD_outdoorTemp_diff_medi_subtract', 'outdoorTemp_200_bin_outdoorAtmo_skew', 'outdoorAtmo_50_bin_indoorHum_skew', 'indoorHum_MDH_outdoorHum_mean_multyply', 'indoorHum_2D_rolling_mean', 'indoorHum_MD_indoorAtmo_mean_multyply', 'MDH_outdoorAtmo_mean_MDH_indoorHum_medi_ratio', 'outdoorHum_100_bin_outdoorTemp_medi', 'indoorHum_MD_indoorAtmo_medi_ratio', 'MDH_indoorAtmo-outdoorAtmo_mean_MD_indoorAtmo_diff_medi_ratio', 'MD_indoorAtmo-outdoorAtmo_diff_medi_MD_outdoorAtmo_diff_medi_multyply', 'indoorHum_20_bin_outdoorHum_medi', 'indoorHum_200_bin_outdoorHum_max', 'MDH_indoorHum_medi_MD_indoorHum_mean_ratio', 'MDH_indoorHum-outdoorHum_medi_MD_outdoorAtmo_mean_ratio', 'outdoorHum_50_bin_outdoorHum_mean', 'MDH_indoorAtmo_mean_MD_indoorAtmo_diff_medi_subtract', 'indoorHum-outdoorHum_outdoorTemp_multyply', 'MDH_outdoorHum_mean_MDH_indoorAtmo_medi_ratio', 'MD_indoorHum_mean_MDH_indoorHum_medi_ratio', 'MDH_indoorAtmo_mean_MDH_indoorHum_diff_medi_subtract', 'MD_indoorAtmo_diff_medi_MD_indoorHum-outdoorHum_diff_medi_multyply', 'MDH_outdoorHum_mean_MDH_indoorHum_mean_subtract', 'indoorHum-outdoorHum_MDH_indoorAtmo_medi_multyply', 'indoorAtmo-outdoorAtmo_200_bin_indoorHum_std', 'outdoorAtmo_50_bin_outdoorAtmo_medi', 'MD_indoorHum_medi_MD_outdoorTemp_diff_medi_subtract', 'MDH_outdoorTemp_diff_medi_MDH_outdoorTemp_medi_ratio', 'indoorAtmo-outdoorAtmo_MDH_indoorAtmo_medi_multyply', 'indoorAtmo_20_bin_indoorHum-outdoorHum_skew', 'MD_indoorAtmo-outdoorAtmo_diff_medi_MDH_indoorHum_mean_ratio', 'MDH_indoorHum_medi_MDH_indoorHum-outdoorHum_medi_ratio', 'indoorAtmo_outdoorHum_ratio', 'outdoorHum_200_bin_indoorAtmo_std', 'outdoorHum_200_bin_outdoorTemp_std', 'MDH_outdoorHum_medi_MDH_indoorHum-outdoorHum_medi_multyply', 'MDH_indoorHum-outdoorHum_mean_MD_outdoorHum_medi_ratio', 'MD_indoorAtmo-outdoorAtmo_diff_medi_indoorAtmo_ratio', 'MD_outdoorAtmo_diff_medi_MDH_indoorHum_diff_mean_multyply', 'indoorHum_20_bin_indoorHum_sum', 'indoorAtmo-outdoorAtmo_20_bin_indoorAtmo-outdoorAtmo_medi', 'indoorAtmo_50_bin_indoorAtmo_max', 'indoorHum-outdoorHum_100_bin_outdoorHum_max', 'MDH_indoorAtmo_medi_indoorHum-outdoorHum_ratio', 'MDH_indoorHum-outdoorHum_mean_MD_indoorHum_medi_ratio', 'MD_outdoorHum_mean_MD_outdoorAtmo_mean_ratio', 'MDH_outdoorHum_medi_MD_indoorAtmo-outdoorAtmo_diff_medi_subtract', 'MDH_outdoorHum_medi_MD_outdoorTemp_diff_mean_subtract', 'MD_indoorAtmo_mean_MDH_outdoorHum_mean_multyply', 'MDH_indoorHum_mean_MD_indoorHum-outdoorHum_diff_medi_subtract', 'indoorHum-outdoorHum_200_bin_outdoorHum_max', 'MD_indoorHum-outdoorHum_medi_MDH_indoorHum_medi_ratio', 'indoorHum-outdoorHum_200_bin_indoorAtmo-outdoorAtmo_std', 'MDH_indoorHum_medi_MDH_outdoorAtmo_medi_ratio', 'MDH_indoorHum_medi_indoorHum-outdoorHum_multyply', 'MDH_outdoorTemp_diff_medi_MD_indoorAtmo_mean_ratio', 'outdoorTemp_MDH_outdoorHum_mean_subtract', 'outdoorHum_100_bin_indoorHum_mean', 'MDH_outdoorAtmo_mean_indoorHum_ratio', 'MD_indoorAtmo_medi_indoorHum-outdoorHum_ratio', 'MDH_indoorHum_mean_indoorAtmo_multyply', 'MD_outdoorTemp_mean_MD_indoorAtmo-outdoorAtmo_diff_medi_ratio', 'MDH_indoorAtmo_diff_mean_MD_indoorAtmo_diff_mean_multyply', 'indoorHum-outdoorHum_outdoorTemp_ratio', 'MDH_outdoorHum_mean_MD_outdoorAtmo_medi_subtract', 'MD_indoorHum-outdoorHum_mean_MDH_indoorHum-outdoorHum_diff_medi_subtract', 'indoorAtmo_50_bin_indoorAtmo-outdoorAtmo_mean', 'outdoorHum_50_bin_indoorHum-outdoorHum_std', 'indoorAtmo-outdoorAtmo_MDH_indoorAtmo_medi_ratio', 'MD_indoorHum_mean_MD_outdoorAtmo_medi_multyply', 'indoorHum-outdoorHum_200_bin', 'outdoorHum_MD_outdoorHum_diff_mean_subtract', 'MD_indoorHum_medi_MD_indoorHum-outdoorHum_diff_mean_subtract', 'MD_indoorHum-outdoorHum_diff_mean_MD_indoorAtmo-outdoorAtmo_diff_medi_ratio', 'indoorHum-outdoorHum_20_bin_outdoorHum_mean', 'outdoorHum_200_bin_indoorHum_max', 'MDH_outdoorHum_medi_MD_outdoorAtmo_mean_ratio', 'MDH_indoorHum_mean_MDH_indoorAtmo_medi_ratio', 'indoorHum_200_bin_outdoorTemp_mean', 'MDH_outdoorHum_mean_MDH_outdoorAtmo_medi_multyply', 'MDH_indoorHum_mean', 'MDH_indoorHum_medi_MD_indoorHum-outdoorHum_diff_mean_subtract', 'MD_indoorAtmo_diff_medi_MDH_indoorHum_diff_mean_ratio', 'indoorHum_MDH_outdoorHum_diff_medi_subtract', 'outdoorAtmo_MDH_outdoorHum_mean_multyply', 'indoorAtmo_MD_outdoorAtmo_medi_multyply', 'MD_outdoorTemp_mean_indoorAtmo-outdoorAtmo_ratio', 'MD_indoorAtmo-outdoorAtmo_diff_medi_MD_outdoorAtmo_mean_multyply', 'MD_indoorHum_medi_MDH_indoorHum-outdoorHum_medi_subtract', 'indoorHum-outdoorHum_200_bin_indoorAtmo-outdoorAtmo_mean', 'outdoorAtmo_50_bin_indoorAtmo_medi', 'MD_indoorAtmo_mean_MD_indoorAtmo-outdoorAtmo_diff_medi_ratio', 'indoorHum-outdoorHum_100_bin_indoorHum-outdoorHum_max', 'MDH_indoorHum_medi_MDH_indoorAtmo-outdoorAtmo_mean_multyply', 'outdoorHum_20_bin_indoorHum_min', 'MDH_outdoorTemp_diff_medi_MDH_outdoorTemp_mean_ratio', 'MDH_indoorHum_mean_MDH_outdoorHum_mean_multyply', 'indoorHum_indoorAtmo-outdoorAtmo_subtract', 'outdoorHum_200_bin_indoorHum-outdoorHum_min', 'indoorHum_100_bin_outdoorTemp_max', 'indoorHum_MDH_indoorAtmo_mean_multyply', 'MDH_indoorHum-outdoorHum_mean_outdoorHum_multyply', 'MDH_outdoorHum_medi_MD_indoorAtmo-outdoorAtmo_diff_mean_subtract', 'outdoorHum_MD_indoorHum_mean_multyply', 'indoorHum_200_bin_indoorHum_sum', 'MDH_indoorHum-outdoorHum_medi_indoorHum_multyply', 'MD_indoorHum-outdoorHum_diff_mean_MDH_indoorAtmo-outdoorAtmo_diff_medi_ratio', 'indoorHum_100_bin_outdoorHum_max', 'indoorHum-outdoorHum_MD_indoorAtmo_medi_multyply', 'indoorHum_100_bin_outdoorHum_min', 'outdoorTemp_MD_outdoorTemp_medi_subtract', 'indoorAtmo-outdoorAtmo_MD_indoorAtmo_diff_medi_subtract', 'MD_indoorAtmo-outdoorAtmo_diff_medi_MDH_indoorAtmo_diff_medi_ratio', 'MD_indoorHum-outdoorHum_medi_indoorAtmo-outdoorAtmo_ratio', 'outdoorHum_MD_indoorHum_medi_multyply', 'indoorHum-outdoorHum_MDH_outdoorTemp_diff_mean_subtract', 'indoorHum_200_bin_indoorAtmo-outdoorAtmo_std', 'indoorAtmo-outdoorAtmo_MDH_outdoorTemp_mean_multyply', 'MD_indoorHum-outdoorHum_mean_MD_indoorHum-outdoorHum_diff_medi_multyply', 'indoorHum-outdoorHum_200_bin_indoorHum_std', 'MDH_indoorHum-outdoorHum_medi_MDH_indoorHum_mean_multyply', 'MD_indoorAtmo_diff_medi_MDH_indoorAtmo-outdoorAtmo_mean_ratio', 'MDH_indoorHum_mean_MDH_indoorHum_diff_medi_subtract', 'MD_indoorAtmo_mean_MD_indoorHum-outdoorHum_mean_multyply', 'indoorHum-outdoorHum_200_bin_indoorHum_max', 'MDH_outdoorHum_medi_MDH_indoorHum-outdoorHum_mean_multyply', 'MDH_outdoorHum_medi_MD_outdoorHum_mean_subtract', 'MD_indoorAtmo_mean_indoorHum-outdoorHum_multyply', 'MDH_indoorHum_mean_MDH_indoorHum-outdoorHum_medi_ratio', 'MDH_indoorHum-outdoorHum_mean_MD_indoorAtmo_diff_medi_subtract', 'outdoorAtmo_MD_outdoorAtmo_mean_subtract', 'indoorAtmo_MD_indoorAtmo_medi_multyply', 'MDH_indoorAtmo-outdoorAtmo_mean_MD_indoorHum-outdoorHum_medi_ratio', 'outdoorHum_200_bin', 'MD_outdoorTemp_mean_MDH_indoorHum-outdoorHum_medi_multyply', 'indoorHum-outdoorHum_MD_indoorHum_medi_ratio', 'MDH_outdoorHum_medi_MDH_outdoorHum_mean_ratio', 'MDH_outdoorHum_mean_outdoorHum_multyply', 'MDH_outdoorHum_mean_MD_indoorHum_diff_medi_subtract', 'indoorHum_MD_outdoorHum_diff_medi_subtract', 'MDH_outdoorHum_medi_MD_indoorAtmo_mean_ratio', 'indoorAtmo_20_bin_indoorHum_mean', 'MD_outdoorAtmo_mean_outdoorAtmo_multyply', 'MD_indoorAtmo_diff_medi_MD_indoorAtmo-outdoorAtmo_medi_multyply', 'outdoorHum_200_bin_indoorHum-outdoorHum_std', 'indoorHum-outdoorHum_50_bin_indoorHum_medi', 'indoorAtmo_MDH_outdoorHum_medi_subtract', 'MD_indoorHum-outdoorHum_diff_medi_MD_indoorAtmo-outdoorAtmo_diff_medi_subtract', 'indoorAtmo_50_bin_indoorAtmo_medi', 'MD_outdoorAtmo_diff_medi_MD_indoorAtmo-outdoorAtmo_diff_medi_multyply', 'MDH_indoorHum-outdoorHum_medi_MD_indoorHum_medi_multyply', 'indoorHum_MD_outdoorHum_mean_subtract', 'MDH_indoorHum_medi_MD_indoorAtmo-outdoorAtmo_diff_mean_subtract', 'MD_outdoorAtmo_mean_outdoorHum_multyply', 'indoorHum-outdoorHum_50_bin_indoorHum-outdoorHum_skew', 'MD_indoorAtmo-outdoorAtmo_diff_medi_MD_outdoorTemp_diff_medi_multyply', 'MDH_indoorAtmo_medi_MDH_indoorHum-outdoorHum_mean_ratio', 'MDH_outdoorHum_mean_MD_indoorHum-outdoorHum_medi_ratio', 'indoorAtmo-outdoorAtmo_MD_indoorHum-outdoorHum_diff_mean_subtract', 'MDH_indoorHum-outdoorHum_mean_MDH_outdoorHum_mean_ratio', 'MDH_outdoorHum_mean_MD_indoorHum-outdoorHum_medi_subtract', 'MD_outdoorAtmo_mean_MDH_outdoorHum_medi_ratio', 'MDH_outdoorAtmo_mean_MDH_outdoorHum_mean_multyply', 'indoorHum-outdoorHum_MD_indoorHum_diff_mean_subtract', 'MDH_indoorAtmo_mean_MDH_indoorAtmo-outdoorAtmo_diff_mean_subtract', 'indoorAtmo-outdoorAtmo_MD_indoorHum_mean_ratio', 'MDH_outdoorHum_medi_MD_indoorHum-outdoorHum_medi_ratio', 'indoorAtmo-outdoorAtmo_100_bin_indoorAtmo-outdoorAtmo_mean', 'MDH_indoorHum-outdoorHum_mean_MD_outdoorHum_medi_multyply', 'MDH_outdoorTemp_diff_medi_indoorHum_ratio', 'MD_indoorAtmo_diff_medi_MD_indoorAtmo_mean_ratio', 'MDH_indoorAtmo_mean_MD_indoorAtmo-outdoorAtmo_mean_subtract', 'outdoorHum_20_bin_indoorHum_mean', 'MD_indoorHum_diff_mean_MD_indoorAtmo_diff_medi_ratio', 'MD_indoorAtmo_diff_medi_MDH_outdoorTemp_medi_multyply', 'MD_indoorAtmo-outdoorAtmo_diff_medi_MD_outdoorTemp_medi_ratio', 'MD_outdoorAtmo_diff_mean_MDH_outdoorTemp_diff_medi_ratio', 'MD_indoorHum_mean_MDH_indoorHum-outdoorHum_medi_ratio', 'MD_indoorAtmo-outdoorAtmo_diff_medi_MD_indoorAtmo_medi_ratio', 'MDH_indoorHum_medi_MDH_indoorAtmo_medi_multyply', 'MDH_indoorHum_mean_outdoorAtmo_multyply', 'indoorHum_MDH_outdoorAtmo_medi_multyply', 'MD_indoorAtmo-outdoorAtmo_mean_MD_indoorAtmo_diff_medi_subtract', 'indoorHum-outdoorHum_MD_indoorHum_medi_multyply', 'indoorAtmo-outdoorAtmo_200_bin_indoorHum_min', 'MDH_indoorHum-outdoorHum_medi_MD_indoorHum_mean_multyply', 'MDH_outdoorHum_mean_MD_indoorAtmo-outdoorAtmo_mean_subtract', 'MDH_indoorAtmo_medi_MD_indoorAtmo_diff_medi_ratio', 'MDH_indoorHum_medi_MD_indoorAtmo_mean_subtract', 'MDH_outdoorAtmo_mean_MDH_indoorHum_diff_mean_subtract', 'MD_indoorHum_medi_MD_outdoorAtmo_diff_medi_subtract', 'MDH_indoorAtmo-outdoorAtmo_diff_mean_MDH_outdoorAtmo_diff_medi_ratio', 'MD_outdoorAtmo_diff_mean_MD_indoorAtmo_diff_medi_ratio', 'outdoorAtmo_20_bin_outdoorTemp_std', 'indoorAtmo-outdoorAtmo_20_bin_outdoorAtmo_skew', 'MD_outdoorHum_medi_MD_indoorHum-outdoorHum_medi_multyply', 'indoorAtmo_MD_indoorAtmo-outdoorAtmo_diff_medi_ratio', 'MD_outdoorAtmo_mean_indoorHum_ratio', 'indoorHum_MD_indoorAtmo-outdoorAtmo_diff_mean_subtract', 'outdoorHum_MDH_indoorHum_diff_mean_subtract', 'MD_outdoorAtmo_diff_medi_MD_indoorAtmo-outdoorAtmo_mean_multyply', 'indoorAtmo_50_bin_outdoorAtmo_skew', 'MD_indoorAtmo_diff_medi_indoorHum_multyply', 'MD_outdoorTemp_medi_outdoorTemp_multyply', 'outdoorAtmo_50_bin_outdoorTemp_mean', 'indoorHum-outdoorHum_MD_indoorHum_diff_medi_multyply', 'indoorHum-outdoorHum_50_bin_indoorAtmo_medi', 'MDH_outdoorHum_medi_MD_outdoorAtmo_mean_multyply', 'MD_indoorAtmo_diff_medi_MDH_outdoorHum_diff_mean_multyply', 'MD_outdoorHum_medi_MDH_indoorHum_mean_ratio', 'MD_outdoorAtmo_mean_MD_indoorHum_mean_ratio', 'indoorHum_MDH_indoorAtmo_medi_multyply', 'MDH_outdoorTemp_medi_MDH_indoorHum_mean_subtract', 'MD_outdoorAtmo_mean_indoorAtmo_multyply', 'indoorAtmo-outdoorAtmo_100_bin_indoorHum-outdoorHum_max', 'MDH_indoorAtmo-outdoorAtmo_mean_MD_indoorHum-outdoorHum_mean_ratio', 'MDH_indoorHum_medi_MDH_outdoorAtmo_mean_multyply', 'outdoorAtmo_50_bin_indoorHum_min', 'indoorHum-outdoorHum_20_bin', 'indoorHum_MDH_outdoorAtmo_medi_ratio', 'MDH_indoorAtmo_diff_medi_MD_indoorAtmo_diff_medi_ratio', 'MD_indoorHum-outdoorHum_medi_outdoorAtmo_multyply', 'MDH_indoorHum-outdoorHum_mean', 'MDH_indoorHum-outdoorHum_medi_outdoorHum_ratio', 'indoorAtmo_50_bin_indoorHum_sum', 'indoorHum-outdoorHum_200_bin_outdoorAtmo_min', 'MDH_outdoorHum_medi_MDH_indoorAtmo-outdoorAtmo_medi_subtract', 'MD_indoorAtmo_diff_medi_MD_indoorHum-outdoorHum_medi_ratio', 'MD_indoorHum_medi_MD_indoorHum-outdoorHum_diff_medi_multyply', 'MD_indoorHum_medi_MD_indoorHum-outdoorHum_medi_multyply', 'indoorAtmo_20_bin_outdoorHum_max', 'outdoorHum_MD_indoorAtmo-outdoorAtmo_diff_medi_ratio', 'outdoorAtmo_MD_indoorHum_mean_subtract', 'MD_indoorAtmo_diff_medi_MDH_indoorHum_diff_medi_multyply', 'MDH_outdoorAtmo_mean_MDH_outdoorHum_diff_medi_subtract', 'MD_indoorAtmo-outdoorAtmo_diff_medi_MDH_indoorHum_medi_ratio', 'indoorHum_200_bin_indoorHum-outdoorHum_medi', 'MDH_outdoorHum_medi_MD_indoorHum-outdoorHum_diff_medi_multyply', 'indoorHum-outdoorHum_100_bin_indoorHum-outdoorHum_std', 'MD_indoorAtmo-outdoorAtmo_mean_MD_outdoorTemp_medi_multyply', 'MD_indoorHum-outdoorHum_mean_MDH_indoorAtmo-outdoorAtmo_mean_subtract', 'MDH_indoorHum_mean_MDH_indoorHum-outdoorHum_mean_subtract', 'outdoorHum_100_bin_indoorHum_sum', 'indoorHum_MD_indoorHum_medi_multyply', 'indoorHum-outdoorHum_20_bin_indoorHum_medi', 'MD_indoorHum_diff_mean_MDH_indoorAtmo-outdoorAtmo_diff_mean_multyply', 'indoorAtmo-outdoorAtmo_20_bin_outdoorAtmo_sum', 'MD_indoorHum-outdoorHum_medi_MDH_outdoorTemp_mean_ratio', 'MD_indoorAtmo_diff_medi_MD_outdoorAtmo_diff_medi_ratio', 'indoorAtmo-outdoorAtmo_50_bin_indoorAtmo-outdoorAtmo_min', 'outdoorHum_200_bin_outdoorTemp_sum', 'MDH_indoorHum_medi_MDH_outdoorHum_medi_ratio', 'MDH_indoorHum-outdoorHum_medi_MDH_indoorHum_medi_multyply', 'outdoorHum_200_bin_indoorAtmo-outdoorAtmo_max', 'outdoorHum_100_bin', 'MDH_indoorAtmo_mean_MDH_indoorHum-outdoorHum_diff_medi_subtract', 'MD_indoorAtmo-outdoorAtmo_diff_medi_MDH_outdoorHum_diff_medi_multyply', 'MDH_outdoorAtmo_mean_indoorHum-outdoorHum_ratio', 'MDH_indoorHum_mean_MDH_indoorHum-outdoorHum_medi_subtract', 'MD_indoorHum_mean_MD_outdoorHum_mean_ratio', 'MD_indoorAtmo-outdoorAtmo_diff_medi_MD_outdoorTemp_medi_multyply', 'indoorHum-outdoorHum_200_bin_indoorAtmo-outdoorAtmo_sum', 'MDH_outdoorTemp_diff_medi_MDH_outdoorHum_diff_medi_multyply', 'MD_outdoorHum_mean_indoorHum-outdoorHum_multyply', 'MDH_outdoorHum_mean_MD_outdoorAtmo_mean_ratio', 'MDH_indoorAtmo_mean_MDH_outdoorAtmo_medi_ratio', 'MD_indoorAtmo-outdoorAtmo_diff_medi_MDH_outdoorAtmo_diff_medi_ratio', 'MD_outdoorAtmo_mean_MDH_indoorAtmo_medi_subtract', 'MDH_indoorAtmo_medi_indoorAtmo_multyply', 'outdoorAtmo_20_bin_outdoorAtmo_mean', 'MD_indoorHum-outdoorHum_mean_MD_indoorHum_mean_multyply', 'MDH_indoorAtmo-outdoorAtmo_mean_MD_outdoorTemp_medi_ratio', 'MD_outdoorAtmo_diff_medi_MD_indoorAtmo_diff_mean_multyply', 'MDH_outdoorTemp_medi_MDH_indoorHum-outdoorHum_medi_multyply', 'indoorHum-outdoorHum_MD_indoorAtmo_medi_ratio', 'indoorHum-outdoorHum_MDH_outdoorTemp_diff_medi_subtract', 'indoorAtmo_50_bin_indoorAtmo_min', 'outdoorHum_100_bin_indoorAtmo_medi', 'MDH_outdoorTemp_diff_medi_MD_indoorAtmo_medi_multyply', 'MDH_indoorAtmo-outdoorAtmo_diff_medi_MD_indoorAtmo_diff_medi_ratio', 'MD_indoorHum_mean_MDH_indoorHum_diff_mean_subtract', 'MD_outdoorAtmo_medi_MDH_indoorHum-outdoorHum_medi_ratio', 'MD_indoorAtmo_mean_indoorHum_multyply', 'indoorHum-outdoorHum_50_bin_outdoorHum_std', 'indoorAtmo-outdoorAtmo_20_bin_outdoorHum_mean', 'indoorHum_MD_outdoorHum_mean_multyply', 'indoorAtmo-outdoorAtmo_indoorAtmo_ratio', 'MDH_indoorHum_medi_MD_indoorHum-outdoorHum_medi_subtract', 'MD_indoorHum-outdoorHum_medi_MDH_indoorHum-outdoorHum_mean_ratio', 'MD_outdoorAtmo_mean_MDH_outdoorHum_medi_multyply', 'MD_indoorAtmo_diff_medi_MD_indoorHum_diff_mean_ratio', 'MDH_outdoorAtmo_mean_MDH_indoorHum_mean_subtract', 'MD_indoorAtmo-outdoorAtmo_diff_medi', 'indoorHum-outdoorHum_20_bin_indoorHum-outdoorHum_min', 'indoorAtmo-outdoorAtmo_MD_indoorHum_diff_medi_subtract', 'indoorHum_outdoorHum_multyply', 'MD_indoorAtmo_diff_medi_MDH_indoorHum_medi_multyply', 'MDH_outdoorHum_mean_MDH_indoorHum_diff_mean_subtract', 'MD_indoorAtmo_medi_MDH_outdoorHum_medi_multyply', 'MDH_indoorHum_medi_MDH_outdoorHum_diff_medi_subtract', 'MDH_outdoorAtmo_mean_indoorAtmo-outdoorAtmo_multyply', 'indoorHum-outdoorHum_MDH_indoorHum-outdoorHum_diff_mean_subtract', 'indoorAtmo-outdoorAtmo_20_bin_indoorAtmo_std', 'indoorHum-outdoorHum_MD_outdoorAtmo_medi_multyply', 'indoorHum-outdoorHum_20_bin_indoorAtmo_sum', 'MDH_indoorHum-outdoorHum_mean_outdoorAtmo_ratio', 'indoorHum-outdoorHum_100_bin_outdoorHum_skew', 'MD_indoorAtmo-outdoorAtmo_diff_medi_MDH_outdoorAtmo_diff_mean_multyply', 'indoorHum_MD_outdoorHum_medi_subtract', 'MDH_outdoorHum_medi_indoorAtmo-outdoorAtmo_ratio', 'MDH_indoorHum-outdoorHum_mean_MDH_indoorAtmo_mean_ratio', 'indoorHum_200_bin_indoorHum_mean', 'MDH_indoorAtmo_mean_MDH_indoorAtmo_medi_ratio', 'MD_outdoorAtmo_medi_indoorAtmo-outdoorAtmo_multyply', 'MDH_indoorAtmo_mean_MD_outdoorTemp_diff_mean_subtract', 'MDH_outdoorHum_medi_MDH_outdoorTemp_diff_medi_ratio', 'indoorAtmo_50_bin_indoorHum-outdoorHum_min', 'MDH_indoorHum-outdoorHum_medi_MDH_outdoorHum_mean_ratio', 'MD_outdoorAtmo_medi_MDH_indoorHum_medi_ratio', 'MDH_outdoorAtmo_mean_indoorHum_multyply', 'MDH_outdoorAtmo_medi_MD_indoorAtmo_medi_subtract', 'MD_indoorAtmo-outdoorAtmo_diff_medi_MD_indoorHum-outdoorHum_medi_multyply', 'MDH_indoorHum-outdoorHum_medi_MDH_outdoorTemp_diff_mean_subtract', 'indoorHum-outdoorHum_MDH_indoorAtmo-outdoorAtmo_diff_medi_subtract', 'MDH_indoorAtmo_mean_MDH_outdoorHum_medi_multyply', 'MD_indoorAtmo_diff_medi_MD_indoorHum-outdoorHum_diff_mean_multyply', 'indoorHum-outdoorHum_MD_indoorAtmo_mean_ratio', 'MD_indoorAtmo_diff_medi_MDH_outdoorHum_diff_medi_multyply', 'MD_outdoorHum_medi_MD_indoorAtmo_medi_subtract', 'indoorAtmo_20_bin_indoorAtmo_skew', 'MDH_indoorHum-outdoorHum_mean_MDH_outdoorHum_medi_multyply', 'indoorHum-outdoorHum_200_bin_outdoorAtmo_medi', 'MD_outdoorAtmo_diff_medi_MD_indoorAtmo-outdoorAtmo_diff_medi_ratio', 'MDH_indoorAtmo_diff_mean_MD_outdoorHum_diff_mean_multyply', 'indoorHum_2D_rolling_min', 'MD_indoorAtmo-outdoorAtmo_diff_medi_MD_indoorHum_diff_mean_ratio', 'MD_outdoorHum_mean_MDH_indoorHum-outdoorHum_mean_ratio', 'MD_indoorAtmo_diff_medi_MDH_indoorHum_medi_ratio', 'MD_indoorHum-outdoorHum_mean_MDH_outdoorHum_medi_multyply', 'indoorHum-outdoorHum_50_bin_indoorHum_std', 'MDH_indoorAtmo-outdoorAtmo_mean_MD_indoorAtmo-outdoorAtmo_diff_medi_ratio', 'MDH_indoorHum-outdoorHum_mean_MD_indoorAtmo-outdoorAtmo_mean_subtract', 'MDH_outdoorAtmo_medi_MDH_outdoorHum_medi_ratio', 'MDH_outdoorHum_mean_MDH_outdoorAtmo_diff_mean_subtract', 'indoorAtmo_50_bin_indoorAtmo_mean', 'MDH_outdoorHum_medi', 'MDH_outdoorTemp_medi_MDH_indoorHum-outdoorHum_mean_ratio', 'outdoorHum_MD_outdoorAtmo_mean_ratio', 'MD_indoorHum_mean_outdoorHum_multyply', 'MD_outdoorAtmo_mean_MDH_indoorHum_medi_multyply', 'MD_outdoorHum_mean_MDH_indoorHum_mean_multyply', 'MDH_indoorAtmo_mean_outdoorHum_ratio', 'MD_indoorAtmo-outdoorAtmo_diff_medi_indoorHum_ratio', 'indoorAtmo-outdoorAtmo_MDH_outdoorHum_mean_multyply', 'MDH_indoorAtmo_mean_MDH_indoorHum-outdoorHum_medi_ratio', 'MDH_indoorAtmo-outdoorAtmo_mean_MD_outdoorAtmo_diff_medi_ratio', 'MD_indoorAtmo-outdoorAtmo_diff_medi_MD_indoorHum-outdoorHum_diff_mean_multyply', 'MDH_indoorAtmo_mean_MDH_indoorHum_mean_multyply', 'MD_indoorAtmo_mean_outdoorHum_multyply', 'MD_outdoorHum_medi_MD_outdoorAtmo_mean_multyply', 'MDH_indoorHum_mean_MD_outdoorHum_medi_multyply', 'MD_indoorHum_mean_indoorHum-outdoorHum_multyply', 'indoorHum_MD_indoorHum_medi_ratio', 'MDH_outdoorHum_mean_MD_indoorHum-outdoorHum_diff_mean_subtract', 'MDH_indoorHum_medi_MDH_outdoorHum_diff_mean_subtract', 'indoorAtmo_50_bin_indoorAtmo_sum', 'MD_indoorAtmo_medi_indoorAtmo-outdoorAtmo_ratio', 'MDH_indoorAtmo_medi_outdoorAtmo_multyply', 'MDH_outdoorHum_mean_outdoorAtmo_multyply', 'MD_indoorAtmo_diff_medi_MD_indoorAtmo_diff_mean_multyply', 'outdoorHum_200_bin_indoorAtmo-outdoorAtmo_medi', 'outdoorAtmo_indoorHum_subtract', 'indoorAtmo-outdoorAtmo_200_bin_indoorAtmo-outdoorAtmo_mean', 'MDH_outdoorTemp_diff_medi_MDH_outdoorHum_diff_medi_subtract', 'indoorAtmo_indoorHum-outdoorHum_multyply', 'MDH_indoorHum_mean_indoorHum_multyply', 'MDH_indoorHum-outdoorHum_mean_MD_outdoorTemp_diff_mean_subtract', 'MD_indoorAtmo_diff_medi_outdoorTemp_multyply', 'MDH_indoorAtmo_mean_MD_indoorHum-outdoorHum_diff_medi_subtract', 'indoorHum_200_bin_indoorHum_min', 'MD_indoorAtmo_mean_indoorHum-outdoorHum_ratio', 'outdoorHum_200_bin_outdoorAtmo_medi', 'MDH_outdoorAtmo_medi_MDH_indoorHum_mean_ratio', 'MD_outdoorTemp_mean_indoorHum-outdoorHum_ratio', 'outdoorHum_MD_outdoorAtmo_mean_multyply', 'MD_indoorHum-outdoorHum_mean_MDH_indoorAtmo-outdoorAtmo_medi_multyply', 'MDH_outdoorTemp_diff_medi_MDH_indoorAtmo_mean_ratio', 'MD_indoorAtmo-outdoorAtmo_diff_medi_MD_indoorAtmo-outdoorAtmo_medi_multyply', 'indoorHum-outdoorHum_outdoorAtmo_ratio', 'indoorHum_MD_indoorHum_mean_ratio', 'MDH_outdoorHum_medi_MD_indoorAtmo-outdoorAtmo_mean_subtract', 'MDH_outdoorTemp_mean_MDH_indoorHum_mean_subtract', 'MD_outdoorAtmo_medi_indoorHum-outdoorHum_ratio', 'MDH_indoorHum-outdoorHum_medi_MD_outdoorHum_medi_multyply', 'MDH_indoorHum-outdoorHum_mean_MDH_indoorAtmo_medi_multyply', 'MD_outdoorAtmo_diff_medi_MDH_outdoorAtmo_diff_mean_multyply', 'MD_indoorHum-outdoorHum_mean_MD_outdoorTemp_mean_ratio', 'MDH_indoorAtmo-outdoorAtmo_diff_medi_MD_outdoorAtmo_diff_medi_ratio', 'indoorHum-outdoorHum_100_bin_indoorHum_mean', 'outdoorTemp_outdoorHum_subtract', 'MD_indoorAtmo-outdoorAtmo_diff_medi_MD_indoorHum-outdoorHum_diff_medi_multyply', 'MD_outdoorAtmo_mean_MDH_indoorHum_mean_ratio', 'MDH_indoorHum_medi_MD_indoorHum_diff_medi_subtract', 'indoorHum_MDH_outdoorTemp_mean_subtract', 'MDH_outdoorHum_medi_MD_indoorAtmo_diff_medi_subtract', 'indoorHum_200_bin_indoorHum_medi', 'outdoorHum_100_bin_outdoorHum_max', 'outdoorHum_MDH_indoorAtmo_medi_ratio', 'MD_outdoorTemp_diff_mean_MD_outdoorAtmo_diff_medi_ratio', 'MDH_outdoorHum_medi_MDH_indoorHum_diff_medi_subtract', 'MD_indoorAtmo_diff_medi_MD_indoorHum_diff_medi_multyply', 'indoorHum-outdoorHum_MDH_outdoorAtmo_diff_mean_subtract', 'MD_outdoorTemp_medi_indoorAtmo-outdoorAtmo_ratio', 'MD_indoorAtmo_mean_MDH_outdoorTemp_diff_medi_ratio', 'MD_indoorHum_medi_MDH_outdoorHum_medi_ratio', 'MDH_outdoorTemp_diff_medi_MD_indoorHum_medi_ratio', 'MDH_outdoorHum_mean_MD_outdoorHum_mean_multyply', 'indoorAtmo-outdoorAtmo_MD_outdoorAtmo_mean_ratio', 'MDH_indoorHum-outdoorHum_mean_MDH_indoorAtmo_medi_ratio', 'indoorHum_200_bin_outdoorHum_min', 'indoorHum_200_bin_indoorHum-outdoorHum_std', 'indoorAtmo_MDH_indoorHum-outdoorHum_mean_ratio', 'MDH_indoorHum_mean_indoorAtmo_ratio', 'MDH_outdoorAtmo_mean_MD_indoorAtmo_diff_medi_ratio', 'MD_indoorAtmo_diff_mean_MD_indoorAtmo_diff_medi_ratio', 'MD_indoorAtmo-outdoorAtmo_diff_medi_MDH_outdoorHum_medi_multyply', 'MD_indoorHum-outdoorHum_mean_MDH_indoorHum-outdoorHum_medi_ratio', 'MDH_indoorHum_diff_mean_MDH_indoorHum-outdoorHum_diff_mean_multyply', 'outdoorHum_MDH_outdoorAtmo_mean_ratio', 'MD_outdoorHum_mean_MDH_indoorHum_medi_multyply', 'indoorHum_MD_indoorHum-outdoorHum_mean_subtract', 'MDH_indoorAtmo-outdoorAtmo_medi_MDH_indoorHum-outdoorHum_mean_multyply', 'indoorAtmo_50_bin_outdoorAtmo_min', 'MDH_indoorHum_medi_indoorAtmo-outdoorAtmo_multyply', 'MDH_outdoorHum_mean_MD_indoorHum-outdoorHum_diff_medi_multyply', 'indoorAtmo_20_bin_indoorAtmo_sum', 'MD_indoorAtmo-outdoorAtmo_diff_medi_MDH_outdoorHum_mean_multyply', 'MD_indoorAtmo_diff_medi_MDH_outdoorTemp_medi_ratio', 'MD_indoorAtmo-outdoorAtmo_diff_medi_MD_indoorAtmo-outdoorAtmo_medi_ratio', 'MD_indoorHum-outdoorHum_medi_MD_indoorAtmo_medi_ratio', 'MD_indoorAtmo-outdoorAtmo_diff_medi_MD_indoorAtmo_medi_multyply', 'indoorHum-outdoorHum_MDH_indoorAtmo_diff_medi_subtract', 'MDH_indoorHum-outdoorHum_medi_MDH_indoorHum_mean_ratio', 'MD_outdoorHum_diff_mean_MD_outdoorAtmo_diff_medi_ratio', 'indoorHum-outdoorHum_20_bin_outdoorHum_medi', 'indoorHum_MD_indoorAtmo-outdoorAtmo_medi_subtract', 'outdoorHum_MDH_outdoorTemp_medi_subtract', 'MDH_outdoorTemp_diff_medi_MDH_outdoorHum_mean_ratio', 'indoorHum-outdoorHum_200_bin_outdoorHum_sum', 'MD_outdoorAtmo_mean_indoorHum-outdoorHum_multyply', 'MDH_indoorHum_mean_MD_indoorHum-outdoorHum_diff_medi_multyply', 'MDH_outdoorTemp_diff_medi_MDH_indoorAtmo_medi_multyply', 'MD_indoorHum-outdoorHum_medi_MD_outdoorHum_diff_medi_multyply', 'MDH_indoorHum-outdoorHum_mean_indoorHum_multyply', 'MDH_outdoorHum_medi_MDH_indoorAtmo_medi_multyply', 'indoorAtmo-outdoorAtmo_MD_indoorAtmo_mean_ratio', 'MD_indoorAtmo-outdoorAtmo_diff_medi_MD_indoorAtmo_diff_medi_ratio', 'MDH_indoorAtmo_medi_MDH_indoorHum_medi_multyply', 'MDH_outdoorAtmo_medi_outdoorHum_multyply', 'outdoorHum_MDH_outdoorTemp_diff_mean_subtract', 'indoorHum_100_bin_indoorHum-outdoorHum_min', 'MDH_indoorHum_medi_MD_indoorAtmo_mean_multyply', 'outdoorAtmo_MDH_indoorHum_medi_ratio', 'MDH_outdoorHum_mean_MD_outdoorAtmo_medi_multyply', 'outdoorHum_200_bin_outdoorAtmo_mean', 'indoorHum_200_bin_indoorAtmo-outdoorAtmo_max', 'outdoorHum_20_bin_outdoorHum_max', 'indoorHum-outdoorHum_100_bin_outdoorAtmo_std', 'MDH_indoorHum-outdoorHum_medi_MD_outdoorHum_mean_multyply', 'MD_outdoorAtmo_medi_MDH_indoorHum_mean_multyply', 'MD_indoorAtmo-outdoorAtmo_diff_medi_MD_indoorHum-outdoorHum_mean_ratio', 'outdoorHum_200_bin_outdoorTemp_medi', 'indoorAtmo_20_bin_indoorHum-outdoorHum_sum', 'outdoorHum_200_bin_indoorHum-outdoorHum_max', 'MD_outdoorHum_medi_MD_outdoorAtmo_medi_multyply', 'indoorAtmo_MDH_outdoorHum_medi_ratio', 'MD_outdoorTemp_mean_indoorAtmo-outdoorAtmo_multyply', 'MDH_indoorHum_medi_indoorHum-outdoorHum_ratio', 'indoorHum_200_bin_outdoorAtmo_medi', 'MDH_outdoorTemp_mean_indoorAtmo-outdoorAtmo_ratio', 'MDH_outdoorHum_medi_MD_outdoorAtmo_diff_mean_subtract', 'indoorAtmo_20_bin_outdoorHum_mean', 'MD_indoorAtmo-outdoorAtmo_diff_mean_MD_indoorAtmo_diff_medi_ratio', 'MDH_outdoorHum_mean_MD_outdoorHum_medi_multyply', 'MDH_indoorAtmo_mean_MDH_indoorHum-outdoorHum_medi_subtract', 'MDH_indoorAtmo_mean_indoorAtmo_ratio', 'indoorAtmo-outdoorAtmo_100_bin_indoorAtmo_mean', 'indoorAtmo-outdoorAtmo_50_bin_indoorHum-outdoorHum_sum', 'outdoorHum_200_bin_outdoorAtmo_max', 'indoorAtmo-outdoorAtmo_MD_indoorAtmo-outdoorAtmo_diff_mean_subtract', 'indoorAtmo-outdoorAtmo_MDH_indoorAtmo_mean_ratio', 'MD_indoorHum_medi_MDH_outdoorAtmo_mean_multyply', 'indoorHum_MD_outdoorTemp_diff_medi_subtract', 'indoorAtmo-outdoorAtmo_MDH_indoorAtmo-outdoorAtmo_medi_subtract', 'indoorHum-outdoorHum_MD_outdoorAtmo_medi_ratio', 'MD_indoorHum_mean_MDH_indoorHum_diff_medi_subtract', 'MD_indoorAtmo_medi_MDH_outdoorAtmo_mean_multyply', 'MDH_outdoorTemp_diff_mean_MD_outdoorAtmo_diff_medi_multyply', 'indoorHum_2D_rolling_std', 'MD_indoorHum_mean_MD_indoorHum_diff_medi_subtract', 'MD_outdoorHum_medi_MD_outdoorAtmo_mean_subtract', 'indoorHum_200_bin_indoorAtmo_medi', 'MDH_indoorHum_mean_indoorHum-outdoorHum_ratio', 'outdoorHum_200_bin_indoorAtmo_skew', 'outdoorHum_outdoorAtmo_ratio', 'indoorHum_MDH_outdoorTemp_diff_medi_ratio', 'MDH_outdoorTemp_diff_medi_MD_outdoorHum_medi_multyply', 'indoorAtmo-outdoorAtmo_MD_indoorAtmo-outdoorAtmo_mean_subtract', 'MD_indoorAtmo_medi_MD_indoorHum-outdoorHum_medi_ratio', 'MDH_outdoorHum_mean_MDH_indoorHum-outdoorHum_mean_multyply', 'MDH_outdoorTemp_diff_mean_MD_indoorAtmo_diff_medi_multyply', 'MDH_indoorAtmo-outdoorAtmo_medi_indoorAtmo-outdoorAtmo_ratio', 'MD_indoorHum-outdoorHum_medi_MD_indoorHum_medi_multyply', 'outdoorHum_50_bin_outdoorTemp_max', 'indoorAtmo_20_bin_outdoorHum_std', 'MDH_indoorHum_medi_indoorAtmo-outdoorAtmo_ratio', 'MD_indoorAtmo-outdoorAtmo_diff_medi_MDH_outdoorTemp_medi_multyply', 'MDH_outdoorHum_medi_MD_indoorAtmo_medi_ratio', 'MD_indoorAtmo-outdoorAtmo_diff_medi_MD_indoorAtmo-outdoorAtmo_mean_ratio', 'MDH_indoorHum_mean_outdoorHum_ratio', 'indoorHum_50_bin_outdoorHum_max', 'indoorHum_20_bin_indoorHum_min', 'indoorHum-outdoorHum_MD_outdoorHum_medi_ratio', 'MDH_outdoorAtmo_mean_MD_indoorHum-outdoorHum_medi_ratio', 'MDH_outdoorHum_medi_MDH_outdoorTemp_diff_medi_subtract', 'indoorHum-outdoorHum_200_bin_indoorAtmo-outdoorAtmo_medi', 'indoorHum_MD_indoorHum_diff_medi_subtract', 'indoorHum_MD_indoorAtmo-outdoorAtmo_diff_medi_ratio', 'outdoorHum_200_bin_indoorHum_skew', 'MD_indoorAtmo_diff_medi_MDH_outdoorHum_mean_ratio', 'MDH_outdoorTemp_diff_medi_MD_indoorAtmo-outdoorAtmo_diff_medi_multyply', 'MDH_indoorHum-outdoorHum_diff_mean_MDH_outdoorHum_diff_mean_multyply', 'MDH_indoorAtmo-outdoorAtmo_diff_medi_MD_indoorHum-outdoorHum_diff_mean_ratio', 'indoorHum_MDH_indoorAtmo_mean_subtract', 'MD_indoorAtmo_diff_medi_MD_indoorAtmo-outdoorAtmo_diff_mean_ratio', 'indoorHum_100_bin', 'indoorAtmo-outdoorAtmo_20_bin_indoorHum_min', 'MDH_indoorHum-outdoorHum_medi_MD_indoorAtmo_diff_medi_ratio', 'MDH_outdoorAtmo_medi_MDH_indoorHum_medi_subtract', 'MD_indoorAtmo-outdoorAtmo_diff_medi_outdoorHum_multyply', 'indoorAtmo-outdoorAtmo_MD_indoorHum_mean_subtract', 'MD_outdoorTemp_medi_MD_indoorHum-outdoorHum_mean_ratio', 'MD_indoorAtmo_medi_indoorHum-outdoorHum_multyply', 'indoorHum_200_bin_outdoorAtmo_min', 'MDH_outdoorTemp_diff_medi_MDH_outdoorTemp_mean_multyply', 'MDH_outdoorHum_mean_MD_indoorHum_mean_multyply', 'MDH_indoorHum-outdoorHum_medi_MDH_outdoorAtmo_medi_multyply', 'indoorHum_200_bin_indoorHum-outdoorHum_max', 'MDH_outdoorHum_mean_MDH_outdoorTemp_diff_medi_ratio', 'MDH_indoorHum-outdoorHum_medi_MD_indoorHum_medi_ratio', 'indoorHum-outdoorHum_outdoorAtmo_multyply', 'MD_indoorAtmo_diff_medi_MDH_indoorAtmo_medi_ratio', 'indoorHum-outdoorHum_100_bin_outdoorHum_mean', 'MDH_indoorAtmo-outdoorAtmo_diff_mean_MDH_outdoorHum_diff_mean_multyply', 'indoorHum-outdoorHum_20_bin_indoorAtmo-outdoorAtmo_min', 'MD_indoorHum_mean_MD_indoorAtmo_mean_ratio', 'MD_indoorAtmo_diff_medi_MDH_indoorHum-outdoorHum_mean_multyply', 'MDH_outdoorHum_mean_indoorHum_ratio', 'MDH_indoorHum-outdoorHum_mean_MD_outdoorAtmo_medi_multyply', 'indoorHum-outdoorHum_MDH_indoorHum_medi_ratio', 'MDH_indoorHum-outdoorHum_medi_indoorAtmo_ratio', 'MDH_outdoorTemp_diff_medi_MD_outdoorTemp_medi_multyply', 'MDH_outdoorHum_medi_MDH_outdoorHum_diff_medi_subtract', 'MD_indoorAtmo-outdoorAtmo_diff_medi_MDH_outdoorHum_mean_ratio', 'indoorHum-outdoorHum_100_bin_indoorAtmo_skew', 'MDH_indoorHum_medi_MDH_outdoorHum_mean_ratio', 'outdoorTemp_MDH_indoorHum_medi_subtract', 'MDH_indoorHum_medi_MD_indoorHum_medi_multyply', 'MD_indoorHum_mean_indoorHum_multyply', 'indoorHum_MD_outdoorAtmo_medi_ratio', 'MDH_indoorHum-outdoorHum_medi_MD_outdoorHum_medi_ratio', 'indoorHum-outdoorHum_MD_indoorAtmo_diff_medi_subtract', 'MD_outdoorHum_medi_MD_indoorAtmo_diff_medi_ratio', 'outdoorHum_indoorHum_multyply', 'MDH_outdoorHum_mean_outdoorHum_ratio', 'MDH_outdoorTemp_diff_medi_MD_indoorAtmo_medi_ratio', 'MD_indoorHum-outdoorHum_medi_MD_indoorAtmo_medi_multyply', 'indoorHum-outdoorHum_MDH_indoorAtmo_mean_multyply', 'indoorAtmo-outdoorAtmo_50_bin_indoorAtmo-outdoorAtmo_max', 'MDH_indoorAtmo-outdoorAtmo_mean_MDH_outdoorTemp_diff_medi_subtract', 'MD_outdoorTemp_medi_MDH_outdoorTemp_diff_medi_ratio', 'indoorAtmo_20_bin_outdoorAtmo_min', 'MD_indoorAtmo-outdoorAtmo_diff_medi_MD_outdoorAtmo_medi_multyply', 'MDH_outdoorAtmo_medi_MD_indoorHum-outdoorHum_medi_ratio', 'MD_indoorAtmo_mean_MDH_indoorHum-outdoorHum_mean_multyply', 'outdoorAtmo_100_bin_indoorHum_min', 'MDH_indoorAtmo_mean_MDH_indoorAtmo_diff_medi_subtract', 'outdoorHum_MDH_outdoorAtmo_medi_ratio', 'MD_indoorAtmo-outdoorAtmo_diff_medi_MD_outdoorAtmo_diff_mean_multyply', 'indoorHum_20_bin_indoorHum_medi', 'indoorAtmo-outdoorAtmo_200_bin', 'MDH_outdoorHum_medi_outdoorAtmo_ratio', 'MDH_indoorHum-outdoorHum_mean_MDH_indoorHum_medi_ratio', 'MDH_outdoorHum_medi_MDH_outdoorAtmo_mean_subtract', 'MD_indoorAtmo_diff_medi_MDH_outdoorHum_mean_multyply', 'MD_outdoorHum_mean_MDH_outdoorTemp_diff_medi_subtract', 'indoorHum-outdoorHum_50_bin_indoorAtmo_mean', 'MDH_indoorAtmo_medi_outdoorHum_multyply', 'MDH_outdoorAtmo_mean_MDH_indoorHum_diff_medi_subtract', 'MD_indoorHum-outdoorHum_medi_MDH_indoorHum_medi_multyply', 'MDH_indoorAtmo-outdoorAtmo_medi_indoorHum-outdoorHum_ratio', 'MD_indoorAtmo_diff_medi_MDH_indoorAtmo_diff_mean_ratio', 'indoorAtmo_20_bin_indoorAtmo_max', 'MDH_indoorHum-outdoorHum_medi_indoorHum_ratio', 'outdoorHum_200_bin_indoorHum-outdoorHum_medi', 'MD_indoorAtmo-outdoorAtmo_diff_medi_indoorAtmo_multyply', 'indoorHum-outdoorHum_MDH_indoorHum-outdoorHum_mean_ratio', 'MDH_indoorHum_medi_MD_indoorHum_diff_mean_subtract', 'indoorHum-outdoorHum_MDH_outdoorAtmo_diff_medi_subtract', 'indoorAtmo-outdoorAtmo_MDH_indoorHum_medi_ratio', 'MDH_indoorAtmo_mean_MDH_outdoorAtmo_diff_medi_subtract', 'indoorHum-outdoorHum_MD_indoorHum_mean_multyply', 'indoorAtmo_MDH_indoorHum-outdoorHum_mean_multyply', 'MD_indoorHum_mean_indoorHum_ratio', 'outdoorHum_50_bin_indoorHum-outdoorHum_mean', 'MDH_outdoorAtmo_mean_MDH_indoorHum_medi_subtract', 'MD_outdoorHum_mean_indoorHum_ratio', 'indoorHum_MD_indoorAtmo_mean_subtract', 'indoorAtmo-outdoorAtmo_20_bin_indoorAtmo_skew', 'MD_indoorAtmo_diff_medi_MD_indoorAtmo-outdoorAtmo_mean_multyply', 'indoorHum-outdoorHum_MDH_outdoorAtmo_medi_multyply', 'MDH_indoorAtmo_mean_MDH_outdoorHum_mean_multyply', 'MDH_outdoorHum_mean_MD_outdoorHum_mean_ratio', 'MDH_outdoorTemp_diff_medi_MD_outdoorTemp_medi_ratio', 'indoorAtmo-outdoorAtmo_50_bin_indoorHum_std', 'indoorAtmo-outdoorAtmo_200_bin_indoorHum_sum', 'indoorHum-outdoorHum_100_bin_outdoorAtmo_medi', 'indoorAtmo-outdoorAtmo_200_bin_indoorHum_mean', 'indoorAtmo-outdoorAtmo_200_bin_indoorAtmo_min', 'MD_indoorHum-outdoorHum_medi_MDH_outdoorAtmo_mean_multyply', 'MDH_outdoorTemp_diff_medi_MD_outdoorTemp_diff_mean_ratio', 'indoorAtmo-outdoorAtmo_200_bin_outdoorAtmo_max', 'MD_outdoorAtmo_medi_outdoorHum_ratio', 'MD_outdoorHum_medi_MDH_indoorHum-outdoorHum_medi_ratio', 'indoorHum-outdoorHum_MD_outdoorHum_mean_subtract', 'outdoorAtmo_20_bin_indoorHum-outdoorHum_sum', 'indoorAtmo_20_bin_outdoorHum_sum', 'indoorHum-outdoorHum_20_bin_indoorHum_mean', 'MDH_outdoorAtmo_medi_MDH_outdoorTemp_diff_medi_ratio', 'MD_indoorAtmo_diff_medi_MD_outdoorAtmo_mean_multyply', 'indoorHum-outdoorHum_50_bin_outdoorAtmo_sum', 'indoorHum_100_bin_outdoorHum_mean', 'indoorHum_20_bin_indoorHum_mean', 'MDH_indoorAtmo_medi_MDH_outdoorTemp_diff_medi_ratio', 'MD_outdoorAtmo_medi_indoorAtmo_multyply', 'MDH_indoorHum_mean_MDH_indoorHum-outdoorHum_mean_multyply', 'MD_indoorHum_medi_outdoorHum_ratio', 'MDH_indoorAtmo-outdoorAtmo_mean_MDH_outdoorAtmo_diff_medi_subtract', 'indoorAtmo_MDH_outdoorHum_mean_ratio', 'MD_indoorAtmo-outdoorAtmo_mean_MD_outdoorTemp_diff_mean_subtract', 'indoorHum-outdoorHum_MD_outdoorHum_mean_ratio', 'MD_indoorAtmo-outdoorAtmo_diff_medi_MDH_outdoorTemp_diff_medi_multyply', 'MD_outdoorHum_mean_MDH_indoorHum-outdoorHum_mean_multyply', 'indoorHum-outdoorHum_100_bin_indoorHum-outdoorHum_medi', 'indoorAtmo_20_bin_indoorHum_std', 'indoorHum-outdoorHum_indoorHum_multyply', 'MDH_indoorHum-outdoorHum_mean_MD_outdoorHum_diff_mean_subtract', 'MDH_outdoorHum_medi_MD_indoorAtmo_medi_subtract', 'MDH_outdoorHum_mean_MDH_indoorAtmo-outdoorAtmo_mean_multyply', 'MD_outdoorHum_diff_mean_MDH_outdoorTemp_diff_medi_ratio', 'outdoorHum_MD_indoorAtmo_medi_subtract', 'indoorHum', 'MD_indoorHum_medi_MD_outdoorHum_diff_medi_subtract', 'indoorHum_3D_rolling_min', 'MDH_indoorAtmo_diff_mean_MDH_indoorAtmo-outdoorAtmo_diff_mean_multyply', 'MDH_outdoorAtmo_mean_MDH_indoorHum-outdoorHum_medi_multyply', 'MDH_outdoorHum_mean_MDH_outdoorAtmo_mean_multyply', 'MDH_outdoorHum_mean_MDH_indoorAtmo_diff_mean_subtract', 'indoorHum-outdoorHum_200_bin_outdoorAtmo_std', 'MDH_outdoorTemp_diff_medi_MDH_indoorAtmo-outdoorAtmo_medi_multyply', 'MDH_indoorAtmo_mean_MD_outdoorHum_medi_ratio', 'MD_indoorHum_mean_MDH_indoorHum-outdoorHum_medi_subtract', 'MDH_outdoorAtmo_mean_MD_indoorAtmo-outdoorAtmo_diff_medi_ratio', 'MD_outdoorTemp_mean_MDH_outdoorTemp_mean_multyply', 'indoorAtmo_MDH_indoorHum_mean_subtract', 'MDH_outdoorHum_mean_MD_outdoorTemp_diff_medi_subtract', 'indoorAtmo-outdoorAtmo_MDH_outdoorHum_medi_subtract', 'indoorAtmo-outdoorAtmo_MD_indoorHum_medi_ratio', 'MD_indoorAtmo_diff_medi_MD_indoorAtmo-outdoorAtmo_diff_mean_multyply', 'indoorAtmo-outdoorAtmo_20_bin_indoorAtmo-outdoorAtmo_max', 'MDH_outdoorHum_medi_MDH_indoorAtmo_diff_medi_subtract', 'outdoorHum_MDH_indoorHum_medi_ratio', 'indoorHum-outdoorHum_MDH_outdoorAtmo_mean_ratio', 'MDH_indoorHum_mean_MD_indoorHum_mean_ratio', 'indoorHum_200_bin_outdoorTemp_std', 'MD_indoorAtmo_diff_medi_MD_indoorAtmo-outdoorAtmo_mean_ratio', 'MD_indoorHum_mean_MDH_outdoorHum_medi_multyply', 'outdoorHum_indoorHum-outdoorHum_subtract', 'MD_indoorAtmo-outdoorAtmo_diff_medi_MDH_indoorHum-outdoorHum_diff_mean_multyply', 'MDH_indoorHum_diff_medi_MD_indoorAtmo-outdoorAtmo_diff_medi_subtract', 'MD_indoorAtmo_diff_medi_MD_indoorHum_mean_ratio', 'MDH_indoorHum-outdoorHum_mean_MD_indoorHum_medi_multyply', 'MDH_outdoorHum_mean_MD_indoorAtmo_mean_multyply', 'MD_indoorHum_mean_MD_outdoorHum_diff_medi_subtract', 'MDH_indoorHum-outdoorHum_medi_MD_outdoorAtmo_diff_medi_subtract', 'MD_indoorAtmo_diff_medi_MDH_outdoorAtmo_mean_ratio', 'indoorHum_MDH_outdoorAtmo_mean_subtract', 'MDH_outdoorHum_medi_MD_outdoorHum_diff_medi_subtract', 'MDH_outdoorHum_mean_MD_indoorHum_mean_subtract', 'MDH_outdoorTemp_medi_MD_indoorAtmo-outdoorAtmo_diff_medi_ratio', 'MDH_indoorHum-outdoorHum_medi_MD_indoorAtmo-outdoorAtmo_diff_mean_subtract', 'MDH_indoorHum_medi_outdoorAtmo_ratio', 'MDH_indoorAtmo-outdoorAtmo_diff_mean_MD_indoorAtmo-outdoorAtmo_diff_medi_ratio', 'indoorHum-outdoorHum_200_bin_indoorAtmo_mean', 'outdoorHum_200_bin_indoorAtmo-outdoorAtmo_sum', 'MDH_indoorAtmo_medi_MD_indoorHum-outdoorHum_medi_ratio', 'MDH_outdoorAtmo_mean_MDH_indoorHum-outdoorHum_mean_multyply', 'MD_outdoorHum_medi_MDH_indoorHum-outdoorHum_mean_ratio', 'MD_indoorAtmo-outdoorAtmo_diff_medi_MDH_indoorAtmo_medi_multyply', 'MDH_indoorHum-outdoorHum_medi_MDH_indoorHum-outdoorHum_diff_mean_subtract', 'indoorHum_indoorAtmo_subtract', 'indoorHum_100_bin_outdoorTemp_min', 'MDH_outdoorAtmo_medi_MD_indoorHum-outdoorHum_mean_multyply', 'MDH_outdoorAtmo_mean_MDH_indoorHum_mean_multyply', 'indoorHum_MD_indoorHum-outdoorHum_medi_ratio', 'MD_outdoorHum_medi_indoorHum-outdoorHum_ratio', 'MDH_outdoorHum_mean_MDH_outdoorAtmo_mean_subtract', 'indoorHum_MD_indoorHum_mean_multyply', 'MD_outdoorAtmo_diff_medi_MDH_outdoorTemp_diff_mean_ratio', 'MDH_indoorAtmo_mean_MD_indoorAtmo-outdoorAtmo_diff_mean_subtract', 'indoorHum-outdoorHum_MDH_outdoorHum_mean_subtract', 'MD_indoorHum_mean_MDH_outdoorHum_diff_mean_subtract', 'MDH_outdoorHum_medi_MDH_indoorHum-outdoorHum_medi_subtract', 'indoorHum_MD_outdoorAtmo_medi_subtract', 'MD_outdoorHum_medi_MD_outdoorHum_diff_mean_subtract', 'MD_outdoorAtmo_medi_MDH_outdoorHum_medi_multyply', 'MDH_outdoorAtmo_medi_MDH_indoorHum-outdoorHum_mean_multyply', 'indoorAtmo_MD_outdoorAtmo_medi_subtract', 'MDH_indoorHum-outdoorHum_mean_MDH_indoorHum_medi_multyply', 'MDH_outdoorHum_mean_MD_indoorHum-outdoorHum_mean_subtract', 'indoorAtmo_indoorHum_ratio', 'indoorAtmo-outdoorAtmo_MDH_indoorAtmo_diff_mean_subtract', 'indoorAtmo_50_bin_outdoorTemp_mean', 'MDH_indoorHum-outdoorHum_mean_MD_indoorAtmo_diff_medi_ratio', 'MDH_indoorHum-outdoorHum_medi_MD_indoorAtmo_diff_mean_subtract', 'MD_indoorAtmo_medi_outdoorAtmo_multyply', 'MDH_indoorHum_mean_MD_indoorHum_mean_subtract', 'indoorHum_50_bin_indoorHum-outdoorHum_std', 'MD_indoorHum_medi_MD_indoorAtmo_diff_medi_ratio', 'outdoorHum_100_bin_outdoorHum_mean', 'outdoorHum_200_bin_outdoorHum_max', 'indoorHum-outdoorHum_MD_outdoorHum_medi_multyply', 'outdoorHum_50_bin_indoorHum_min', 'MD_indoorAtmo-outdoorAtmo_diff_medi_MDH_indoorAtmo-outdoorAtmo_diff_medi_ratio', 'outdoorHum_100_bin_outdoorAtmo_medi', 'outdoorHum_20_bin_outdoorHum_mean', 'indoorHum-outdoorHum_200_bin_indoorHum-outdoorHum_sum', 'outdoorAtmo_50_bin_indoorAtmo_mean', 'MDH_indoorHum-outdoorHum_mean_MDH_indoorHum_mean_multyply', 'MD_outdoorAtmo_diff_medi_MD_indoorHum_diff_mean_ratio', 'indoorAtmo-outdoorAtmo_MDH_indoorHum-outdoorHum_diff_mean_subtract', 'indoorHum_200_bin_outdoorHum_skew', 'indoorAtmo-outdoorAtmo_MD_outdoorTemp_medi_ratio', 'MDH_outdoorAtmo_mean_MDH_outdoorHum_medi_ratio', 'indoorAtmo_20_bin_indoorHum_sum', 'MD_indoorHum_mean_MD_indoorAtmo-outdoorAtmo_medi_subtract', 'indoorHum-outdoorHum_200_bin_indoorHum_skew', 'MDH_outdoorHum_medi_MDH_indoorHum-outdoorHum_diff_medi_subtract', 'MDH_indoorHum_medi_MD_outdoorTemp_diff_mean_subtract', 'MDH_indoorHum-outdoorHum_medi_MDH_indoorAtmo_diff_medi_subtract', 'MDH_indoorHum-outdoorHum_medi_MDH_outdoorHum_medi_ratio', 'MDH_indoorAtmo_mean_MD_indoorHum_medi_multyply', 'MDH_indoorHum-outdoorHum_medi_MDH_outdoorTemp_medi_multyply', 'outdoorHum_MD_indoorAtmo_medi_multyply', 'MDH_indoorHum_mean_MD_indoorHum_medi_ratio', 'MDH_outdoorTemp_diff_medi_indoorAtmo_ratio', 'MDH_indoorAtmo_mean_MD_indoorHum_diff_medi_subtract', 'indoorAtmo-outdoorAtmo_20_bin_indoorAtmo_min', 'MD_indoorAtmo_medi_MDH_outdoorAtmo_medi_multyply', 'indoorAtmo-outdoorAtmo_50_bin_indoorAtmo_mean', 'MDH_outdoorHum_mean_MDH_indoorHum_mean_ratio', 'indoorAtmo-outdoorAtmo_MDH_outdoorAtmo_mean_ratio', 'MD_indoorAtmo_diff_medi_MDH_indoorAtmo_diff_mean_multyply', 'MDH_indoorHum_mean_MD_indoorAtmo_medi_multyply', 'MDH_outdoorHum_mean_MD_outdoorHum_medi_ratio', 'indoorAtmo-outdoorAtmo_indoorHum_ratio', 'MD_indoorAtmo_diff_medi_MDH_indoorAtmo-outdoorAtmo_diff_medi_multyply', 'MDH_outdoorHum_medi_MD_indoorHum-outdoorHum_mean_multyply', 'MDH_outdoorHum_mean_MDH_outdoorAtmo_medi_ratio', 'MDH_outdoorTemp_mean_MD_indoorHum-outdoorHum_medi_multyply', 'indoorAtmo_20_bin_outdoorTemp_skew', 'MDH_outdoorAtmo_medi_MDH_indoorHum-outdoorHum_medi_multyply', 'MDH_indoorHum_mean_MDH_indoorAtmo_mean_subtract', 'indoorHum-outdoorHum_MDH_outdoorHum_medi_multyply', 'MDH_indoorAtmo_medi_MD_indoorAtmo_medi_subtract', 'MD_indoorHum_mean_MDH_indoorHum-outdoorHum_mean_ratio', 'MDH_outdoorHum_mean_MD_outdoorAtmo_mean_subtract', 'indoorHum-outdoorHum_200_bin_indoorAtmo_skew', 'MD_indoorHum-outdoorHum_medi_MDH_indoorAtmo_mean_ratio', 'MDH_indoorAtmo_mean_indoorHum_ratio', 'MDH_outdoorHum_mean_MD_outdoorAtmo_diff_mean_subtract', 'MDH_outdoorHum_mean_MD_indoorAtmo_medi_ratio', 'indoorHum_100_bin_indoorHum-outdoorHum_std', 'indoorHum_100_bin_indoorHum_sum', 'MD_indoorHum_mean_MD_outdoorHum_diff_mean_subtract', 'outdoorHum_50_bin', 'MD_outdoorAtmo_medi_MDH_outdoorHum_medi_ratio', 'MDH_indoorHum_medi_MD_indoorAtmo_mean_ratio', 'indoorHum-outdoorHum_50_bin_outdoorAtmo_min', 'MDH_indoorAtmo_mean_MD_outdoorHum_diff_medi_subtract', 'MDH_indoorHum_medi_MD_outdoorAtmo_diff_mean_subtract', 'MD_outdoorHum_medi_MDH_indoorHum_mean_multyply', 'MD_outdoorAtmo_diff_medi_MD_indoorAtmo_diff_medi_ratio', 'indoorHum-outdoorHum_100_bin_indoorAtmo_std', 'MDH_indoorHum_medi_MD_indoorHum-outdoorHum_mean_subtract', 'indoorHum_indoorAtmo_ratio', 'indoorAtmo_50_bin_indoorHum_std', 'outdoorHum_MD_indoorHum-outdoorHum_diff_medi_multyply', 'MD_indoorHum-outdoorHum_medi_MD_indoorAtmo_mean_multyply', 'MDH_indoorHum_diff_mean_MDH_outdoorTemp_diff_medi_ratio', 'MD_indoorHum_mean_MD_indoorAtmo_diff_medi_ratio', 'MD_outdoorHum_mean_MDH_indoorHum_medi_ratio', 'MDH_indoorHum_mean_indoorAtmo-outdoorAtmo_ratio', 'MDH_indoorHum_max', 'MD_indoorAtmo_mean_MDH_indoorHum-outdoorHum_mean_ratio', 'MDH_outdoorHum_diff_mean_MD_indoorAtmo-outdoorAtmo_diff_medi_multyply', 'MDH_indoorHum_medi_MD_indoorAtmo-outdoorAtmo_mean_subtract', 'MDH_indoorHum-outdoorHum_mean_MDH_outdoorTemp_medi_multyply', 'MDH_indoorHum-outdoorHum_mean_MD_outdoorAtmo_mean_multyply', 'MD_indoorAtmo-outdoorAtmo_diff_medi_MDH_outdoorTemp_mean_ratio', 'MDH_outdoorHum_mean_MDH_indoorHum-outdoorHum_diff_mean_subtract', 'MD_indoorAtmo-outdoorAtmo_diff_medi_MD_outdoorHum_medi_ratio', 'MD_indoorAtmo_diff_medi_MD_indoorAtmo-outdoorAtmo_diff_medi_multyply', 'outdoorHum_MDH_indoorHum_mean_subtract', 'MD_indoorAtmo_diff_medi_MD_outdoorHum_diff_mean_ratio', 'outdoorAtmo_MDH_indoorAtmo_medi_multyply', 'indoorAtmo-outdoorAtmo_100_bin_outdoorTemp_sum', 'MD_indoorHum-outdoorHum_medi_MDH_outdoorAtmo_medi_multyply', 'indoorAtmo_20_bin_outdoorTemp_mean', 'MDH_outdoorTemp_mean_indoorAtmo-outdoorAtmo_multyply', 'MD_indoorHum_medi_MDH_indoorHum_medi_ratio', 'indoorAtmo-outdoorAtmo_outdoorHum_ratio', 'outdoorAtmo_MD_indoorAtmo_medi_multyply', 'outdoorAtmo_MDH_outdoorHum_medi_multyply', 'indoorAtmo-outdoorAtmo_MDH_outdoorTemp_medi_ratio', 'MD_indoorHum-outdoorHum_medi_MDH_outdoorHum_medi_multyply', 'indoorHum-outdoorHum_MD_indoorAtmo-outdoorAtmo_medi_subtract', 'MDH_outdoorHum_mean', 'MD_outdoorAtmo_diff_medi_MD_indoorAtmo_diff_medi_multyply', 'indoorAtmo_20_bin_indoorHum_min', 'indoorHum_3D_rolling_median', 'MDH_indoorAtmo_medi_MD_outdoorAtmo_mean_multyply', 'outdoorHum_MDH_indoorAtmo-outdoorAtmo_medi_subtract', 'MDH_indoorHum_mean_indoorHum-outdoorHum_multyply', 'MD_outdoorAtmo_medi_MD_outdoorHum_mean_ratio', 'indoorHum_200_bin_outdoorTemp_min', 'MD_indoorHum_medi_MDH_indoorHum_mean_ratio', 'outdoorHum_MD_indoorHum-outdoorHum_medi_ratio', 'MD_outdoorHum_medi_MD_indoorHum-outdoorHum_diff_mean_subtract', 'MDH_outdoorTemp_diff_medi_MD_indoorHum_mean_multyply', 'MDH_outdoorAtmo_mean_MD_indoorAtmo_medi_multyply', 'MDH_outdoorHum_medi_MD_indoorAtmo_medi_multyply', 'MD_outdoorAtmo_medi_MDH_indoorHum_medi_multyply', 'MD_outdoorHum_medi_MDH_indoorHum_medi_multyply', 'MDH_outdoorTemp_diff_medi_MDH_indoorHum-outdoorHum_diff_medi_subtract', 'MD_outdoorAtmo_mean_MDH_indoorHum_mean_multyply', 'indoorHum-outdoorHum_MDH_indoorHum_mean_ratio', 'MD_indoorAtmo_diff_medi_MDH_outdoorTemp_diff_mean_multyply', 'MD_indoorAtmo_diff_medi_indoorAtmo_multyply', 'MDH_indoorHum_medi_MDH_outdoorTemp_diff_medi_ratio', 'indoorAtmo_MD_outdoorAtmo_mean_subtract', 'MDH_indoorHum-outdoorHum_mean_MD_indoorHum_mean_multyply', 'MD_indoorAtmo-outdoorAtmo_diff_medi_MDH_indoorAtmo-outdoorAtmo_diff_mean_ratio', 'MDH_outdoorTemp_diff_medi_MD_outdoorTemp_diff_medi_subtract', 'MD_indoorAtmo-outdoorAtmo_diff_medi_MD_outdoorTemp_mean_ratio', 'MDH_indoorHum-outdoorHum_mean_MD_indoorAtmo-outdoorAtmo_medi_subtract', 'MD_indoorHum_mean_MD_indoorHum-outdoorHum_diff_medi_multyply', 'MDH_outdoorHum_medi_MD_outdoorHum_medi_subtract', 'indoorHum_100_bin_indoorHum-outdoorHum_medi', 'MDH_outdoorAtmo_mean_MDH_outdoorHum_diff_mean_subtract', 'indoorHum-outdoorHum_50_bin_outdoorTemp_max', 'MD_indoorAtmo-outdoorAtmo_mean_MD_indoorAtmo_diff_mean_subtract', 'MDH_outdoorHum_mean_MD_indoorHum_medi_subtract', 'indoorAtmo-outdoorAtmo_100_bin_outdoorAtmo_max', 'MDH_indoorHum_mean_MDH_outdoorTemp_diff_medi_ratio', 'MD_indoorHum-outdoorHum_medi_outdoorTemp_ratio', 'indoorHum_indoorHum-outdoorHum_subtract', 'MD_indoorAtmo_diff_medi_MD_indoorAtmo_medi_multyply', 'MD_outdoorHum_medi_MDH_outdoorHum_medi_multyply', 'MD_indoorAtmo-outdoorAtmo_medi_MD_indoorAtmo-outdoorAtmo_diff_medi_ratio', 'MD_indoorAtmo-outdoorAtmo_diff_medi_indoorHum-outdoorHum_multyply', 'MD_indoorAtmo_mean_MDH_indoorHum_medi_multyply', 'MD_indoorHum_medi_MDH_indoorHum-outdoorHum_medi_ratio', 'MD_outdoorHum_medi_MD_outdoorHum_mean_ratio', 'MDH_indoorAtmo-outdoorAtmo_medi_MD_indoorAtmo_diff_medi_ratio', 'MDH_outdoorHum_mean_MDH_indoorHum_mean_multyply', 'MD_indoorAtmo_diff_medi_MD_outdoorHum_mean_ratio', 'MDH_indoorHum_medi_MD_indoorHum_mean_subtract', 'outdoorHum_MD_indoorHum_diff_mean_subtract', 'MDH_outdoorTemp_mean_indoorHum-outdoorHum_multyply', 'outdoorAtmo_50_bin_outdoorHum_skew', 'indoorHum_3D_rolling_mean', 'MDH_outdoorTemp_diff_medi_MD_indoorHum_diff_mean_ratio', 'outdoorHum_MD_indoorAtmo-outdoorAtmo_diff_medi_subtract', 'MDH_outdoorTemp_mean_MD_indoorHum-outdoorHum_mean_ratio', 'MD_indoorHum-outdoorHum_medi_indoorAtmo_ratio', 'MD_outdoorAtmo_diff_medi_MDH_indoorAtmo-outdoorAtmo_diff_medi_ratio', 'outdoorHum_MD_indoorHum_medi_ratio', 'indoorHum-outdoorHum_50_bin_outdoorHum_mean', 'indoorHum_MD_outdoorAtmo_diff_mean_subtract', 'indoorHum-outdoorHum_MD_outdoorTemp_diff_medi_subtract', 'MDH_indoorHum_mean_MDH_outdoorAtmo_mean_ratio', 'MDH_indoorHum_mean_MD_indoorAtmo-outdoorAtmo_diff_medi_ratio', 'MD_indoorHum-outdoorHum_medi_MD_outdoorAtmo_medi_ratio', 'MDH_indoorAtmo_mean_MD_indoorHum-outdoorHum_diff_mean_subtract', 'MD_outdoorHum_mean_outdoorHum_multyply', 'indoorHum_MDH_indoorAtmo_medi_ratio', 'MD_indoorHum_mean_MDH_indoorHum_mean_ratio', 'MD_outdoorHum_diff_medi_MD_indoorAtmo-outdoorAtmo_diff_medi_subtract', 'MDH_outdoorHum_mean_MDH_outdoorHum_diff_mean_subtract', 'indoorHum-outdoorHum_MD_indoorAtmo-outdoorAtmo_diff_medi_subtract', 'MD_outdoorTemp_diff_medi_MD_indoorAtmo_diff_medi_subtract', 'outdoorHum_MDH_indoorAtmo_medi_subtract', 'MDH_outdoorHum_min', 'MD_indoorHum-outdoorHum_mean_MDH_indoorHum-outdoorHum_mean_ratio', 'MDH_indoorHum_medi_MD_outdoorHum_mean_multyply', 'MDH_outdoorHum_mean_MD_indoorHum-outdoorHum_medi_multyply', 'indoorAtmo_20_bin_indoorAtmo_medi', 'indoorAtmo-outdoorAtmo_MDH_indoorHum-outdoorHum_mean_ratio', 'outdoorHum_MD_outdoorHum_medi_subtract', 'MDH_outdoorTemp_diff_medi_MDH_indoorAtmo_mean_multyply', 'MDH_outdoorHum_medi_MDH_indoorHum-outdoorHum_diff_mean_subtract', 'MDH_indoorHum_mean_MDH_indoorAtmo_mean_ratio', 'MD_outdoorAtmo_mean_MD_indoorHum-outdoorHum_medi_ratio', 'indoorHum_200_bin_indoorAtmo_max', 'MD_indoorAtmo-outdoorAtmo_medi_MD_indoorHum-outdoorHum_medi_ratio', 'MDH_outdoorAtmo_medi_MD_outdoorAtmo_mean_subtract', 'indoorHum_MD_indoorHum-outdoorHum_diff_mean_subtract', 'MDH_indoorHum-outdoorHum_medi_MDH_indoorHum_medi_ratio', 'MDH_indoorAtmo_mean_MD_indoorAtmo_diff_medi_ratio', 'indoorAtmo_20_bin_indoorHum-outdoorHum_std', 'MD_indoorAtmo_diff_medi_MDH_indoorAtmo_medi_multyply', 'MD_indoorAtmo-outdoorAtmo_diff_medi_MDH_indoorAtmo-outdoorAtmo_mean_multyply', 'MD_indoorAtmo_medi_MDH_indoorHum-outdoorHum_medi_ratio', 'MDH_indoorHum_medi_indoorAtmo_multyply', 'indoorHum-outdoorHum_200_bin_outdoorTemp_min', 'indoorHum-outdoorHum_100_bin_outdoorAtmo_sum', 'MDH_outdoorHum_diff_mean_MDH_outdoorTemp_diff_medi_ratio', 'indoorAtmo_50_bin_indoorHum_min', 'MDH_indoorAtmo_diff_medi_MDH_outdoorTemp_diff_medi_ratio', 'MDH_outdoorTemp_diff_medi_MD_indoorAtmo_diff_medi_multyply', 'outdoorHum_MDH_indoorAtmo_diff_medi_subtract', 'MD_outdoorAtmo_medi_MDH_outdoorAtmo_mean_multyply', 'MDH_indoorAtmo_medi_MDH_indoorHum_mean_ratio', 'MD_indoorAtmo_medi_MDH_outdoorTemp_diff_medi_ratio', 'MD_indoorHum_medi_MD_indoorHum-outdoorHum_mean_multyply', 'MDH_outdoorTemp_mean_indoorHum-outdoorHum_ratio', 'outdoorAtmo_MDH_outdoorHum_mean_ratio', 'MD_outdoorHum_medi_MD_indoorAtmo_medi_multyply', 'MDH_indoorAtmo-outdoorAtmo_diff_mean_MD_outdoorTemp_diff_medi_multyply', 'indoorHum-outdoorHum_MDH_outdoorTemp_medi_ratio', 'MDH_indoorHum-outdoorHum_medi_MD_outdoorAtmo_mean_multyply', 'MD_indoorHum-outdoorHum_mean_MDH_outdoorTemp_diff_medi_ratio', 'MD_outdoorAtmo_diff_medi_MDH_outdoorHum_diff_mean_ratio', 'outdoorHum_MDH_indoorHum_mean_multyply', 'outdoorHum_MDH_outdoorHum_diff_medi_subtract', 'MD_indoorHum-outdoorHum_medi_MD_outdoorTemp_medi_multyply', 'MDH_outdoorTemp_diff_medi_MD_outdoorHum_mean_ratio', 'MDH_outdoorHum_medi_MD_outdoorAtmo_medi_subtract', 'indoorAtmo-outdoorAtmo_MD_outdoorHum_diff_mean_subtract', 'MDH_indoorHum-outdoorHum_mean_MDH_outdoorTemp_mean_multyply', 'MDH_outdoorHum_mean_MDH_outdoorAtmo_medi_subtract', 'outdoorHum_100_bin_outdoorHum_min', 'MDH_indoorAtmo_medi_MD_indoorHum_medi_multyply', 'outdoorHum_100_bin_indoorHum-outdoorHum_std', 'MDH_outdoorHum_medi_MDH_indoorHum_diff_mean_subtract', 'MDH_outdoorTemp_medi_MDH_indoorHum-outdoorHum_mean_multyply', 'MDH_indoorHum_medi_MDH_indoorHum-outdoorHum_diff_mean_subtract', 'MDH_indoorHum_medi_MDH_indoorHum_diff_medi_subtract', 'MDH_outdoorTemp_diff_medi_MD_indoorHum-outdoorHum_mean_ratio', 'MD_indoorAtmo-outdoorAtmo_diff_medi_MD_indoorAtmo-outdoorAtmo_diff_mean_multyply', 'indoorHum-outdoorHum_100_bin_indoorHum-outdoorHum_mean', 'indoorHum-outdoorHum_MDH_outdoorTemp_mean_multyply', 'MDH_indoorHum_mean_outdoorHum_multyply', 'MD_indoorHum_diff_mean_MDH_indoorHum-outdoorHum_diff_mean_multyply', 'MD_outdoorHum_mean_MD_indoorAtmo_medi_ratio', 'MD_indoorAtmo-outdoorAtmo_diff_medi_MD_outdoorAtmo_medi_ratio', 'outdoorHum_MD_indoorHum-outdoorHum_mean_subtract', 'MDH_indoorAtmo-outdoorAtmo_mean_MDH_indoorHum-outdoorHum_mean_ratio', 'indoorHum-outdoorHum_50_bin_outdoorTemp_min', 'indoorAtmo_MD_outdoorHum_medi_subtract', 'MDH_outdoorHum_medi_MDH_indoorHum-outdoorHum_mean_subtract', 'indoorHum_200_bin_indoorAtmo_mean', 'outdoorHum_50_bin_indoorHum_mean', 'outdoorHum_MDH_indoorHum-outdoorHum_mean_ratio', 'MDH_indoorHum-outdoorHum_medi_MD_outdoorTemp_mean_multyply', 'indoorHum_MDH_outdoorHum_mean_ratio', 'outdoorHum_200_bin_outdoorAtmo_min', 'MD_indoorAtmo-outdoorAtmo_diff_medi_MDH_outdoorTemp_mean_multyply', 'MD_outdoorHum_mean_MDH_indoorHum_diff_medi_subtract', 'indoorHum_50_bin_indoorAtmo_medi', 'indoorHum_MD_indoorHum-outdoorHum_mean_multyply', 'indoorHum-outdoorHum_MDH_indoorHum_medi_multyply', 'MDH_indoorHum_mean_outdoorAtmo_ratio', 'MD_indoorHum_mean_MD_indoorAtmo_medi_subtract', 'MDH_indoorHum-outdoorHum_mean_indoorHum-outdoorHum_ratio', 'MDH_outdoorTemp_diff_medi_MD_outdoorAtmo_mean_multyply', 'MD_indoorAtmo-outdoorAtmo_diff_medi_MD_outdoorAtmo_mean_ratio', 'indoorHum-outdoorHum_100_bin_indoorAtmo-outdoorAtmo_std', 'MD_indoorAtmo_diff_medi_MDH_indoorAtmo-outdoorAtmo_medi_ratio', 'indoorHum_MDH_indoorAtmo_diff_mean_subtract', 'MDH_indoorAtmo_medi_outdoorHum_ratio', 'MD_indoorHum_medi_indoorHum_multyply', 'outdoorHum_MD_outdoorTemp_diff_mean_subtract', 'indoorHum-outdoorHum_200_bin_indoorAtmo_min', 'MD_indoorAtmo_diff_medi_MD_indoorHum-outdoorHum_diff_mean_ratio', 'MDH_outdoorTemp_mean_MDH_indoorHum-outdoorHum_mean_multyply', 'indoorAtmo-outdoorAtmo_indoorHum-outdoorHum_ratio', 'indoorAtmo-outdoorAtmo_MD_indoorHum_diff_medi_multyply', 'indoorAtmo-outdoorAtmo_20_bin_outdoorHum_sum', 'MD_indoorAtmo_diff_medi_MD_indoorHum_medi_multyply', 'MD_outdoorHum_mean_MD_indoorAtmo_medi_subtract', 'MDH_outdoorAtmo_medi_indoorAtmo_multyply', 'indoorAtmo_100_bin_indoorAtmo-outdoorAtmo_medi', 'indoorAtmo-outdoorAtmo_MD_indoorHum-outdoorHum_mean_subtract', 'MDH_outdoorHum_mean_MD_outdoorTemp_diff_mean_subtract', 'MDH_outdoorHum_mean_MDH_indoorAtmo-outdoorAtmo_medi_subtract', 'outdoorAtmo_MD_indoorHum_medi_subtract', 'MDH_indoorHum-outdoorHum_mean_MD_indoorHum-outdoorHum_mean_subtract', 'indoorHum-outdoorHum_50_bin_outdoorTemp_std', 'MDH_indoorHum-outdoorHum_diff_mean_MD_indoorAtmo-outdoorAtmo_diff_medi_ratio', 'MDH_outdoorAtmo_mean_MDH_indoorHum-outdoorHum_medi_ratio', 'MDH_outdoorTemp_diff_medi_MDH_outdoorHum_medi_ratio', 'MDH_indoorHum_mean_indoorHum_ratio', 'MDH_outdoorTemp_medi_indoorAtmo-outdoorAtmo_ratio', 'MD_indoorHum_mean_MDH_indoorHum-outdoorHum_diff_medi_subtract', 'MD_indoorHum-outdoorHum_medi_MDH_indoorHum_mean_multyply', 'MD_outdoorTemp_mean_MD_indoorHum-outdoorHum_medi_multyply', 'MD_outdoorTemp_mean_MD_indoorHum-outdoorHum_mean_multyply', 'indoorHum_200_bin_outdoorHum_std', 'MD_outdoorHum_medi_MD_indoorHum_mean_ratio', 'MD_indoorAtmo-outdoorAtmo_diff_medi_MD_indoorHum_mean_multyply', 'MD_indoorHum_medi_indoorHum_ratio', 'MD_outdoorAtmo_mean_MDH_indoorHum_medi_ratio', 'MDH_outdoorTemp_medi_indoorHum-outdoorHum_ratio', 'MDH_outdoorTemp_diff_medi_indoorAtmo_multyply', 'MDH_outdoorHum_medi_MDH_indoorHum-outdoorHum_mean_ratio', 'outdoorHum_MD_outdoorAtmo_mean_subtract', 'MDH_indoorAtmo_diff_medi_MD_indoorAtmo-outdoorAtmo_diff_medi_ratio', 'MDH_outdoorTemp_diff_mean_MD_indoorAtmo-outdoorAtmo_diff_medi_multyply', 'indoorAtmo-outdoorAtmo_50_bin_indoorHum_medi', 'indoorAtmo-outdoorAtmo_MD_outdoorAtmo_medi_multyply', 'MD_indoorAtmo_diff_medi_MD_outdoorHum_diff_medi_multyply', 'MDH_outdoorAtmo_mean_MD_indoorHum-outdoorHum_mean_multyply', 'MDH_indoorHum_medi_MDH_indoorHum-outdoorHum_mean_subtract', 'MD_indoorAtmo_medi_MD_indoorHum-outdoorHum_mean_multyply', 'MDH_indoorHum-outdoorHum_mean_MD_indoorHum-outdoorHum_diff_medi_subtract', 'MD_indoorAtmo-outdoorAtmo_diff_medi_MDH_outdoorHum_diff_mean_multyply', 'indoorAtmo_50_bin_indoorAtmo-outdoorAtmo_medi', 'MD_indoorHum_mean_MD_indoorHum-outdoorHum_medi_subtract', 'MD_outdoorHum_diff_medi_MD_indoorAtmo_diff_medi_subtract', 'MD_outdoorAtmo_medi_MDH_indoorHum-outdoorHum_mean_ratio', 'MD_indoorAtmo_diff_medi_MDH_indoorHum-outdoorHum_diff_mean_multyply', 'MD_indoorAtmo_diff_medi_MDH_outdoorAtmo_medi_multyply', 'indoorAtmo-outdoorAtmo_MD_indoorAtmo-outdoorAtmo_diff_medi_subtract', 'MD_indoorAtmo_medi_MD_indoorAtmo-outdoorAtmo_diff_medi_ratio', 'MD_indoorHum_mean_MDH_indoorAtmo_medi_subtract', 'indoorAtmo-outdoorAtmo_MDH_outdoorAtmo_mean_multyply', 'indoorHum-outdoorHum_indoorHum_ratio', 'outdoorHum_MDH_indoorHum-outdoorHum_mean_multyply', 'MDH_outdoorAtmo_diff_medi_MD_outdoorAtmo_diff_medi_ratio', 'MD_indoorHum-outdoorHum_mean_MDH_outdoorAtmo_diff_mean_subtract', 'MD_outdoorHum_medi_outdoorHum_ratio', 'indoorAtmo-outdoorAtmo_100_bin_indoorHum_mean', 'MD_indoorAtmo-outdoorAtmo_diff_medi_MDH_indoorAtmo_mean_multyply', 'indoorHum_MDH_indoorHum-outdoorHum_medi_multyply', 'MD_outdoorAtmo_medi_outdoorAtmo_multyply', 'MDH_indoorHum_medi_MDH_indoorHum-outdoorHum_mean_multyply', 'MDH_outdoorTemp_diff_medi_MDH_outdoorAtmo_mean_multyply', 'MD_indoorAtmo_diff_medi_MD_indoorHum-outdoorHum_medi_multyply', 'indoorHum_200_bin_outdoorTemp_medi', 'MDH_indoorHum-outdoorHum_medi_MD_outdoorAtmo_medi_ratio', 'MD_indoorHum_mean_MD_indoorHum_diff_mean_subtract', 'MD_outdoorTemp_diff_medi_MD_indoorAtmo-outdoorAtmo_diff_medi_subtract', 'MDH_outdoorTemp_diff_medi_MDH_outdoorTemp_medi_multyply', 'MD_indoorHum_mean_MD_outdoorAtmo_medi_ratio', 'indoorHum_MD_indoorAtmo_medi_subtract', 'outdoorHum_20_bin_outdoorTemp_max', 'indoorAtmo-outdoorAtmo_50_bin_indoorAtmo_sum', 'MDH_indoorHum_medi_MD_outdoorAtmo_mean_multyply', 'MDH_indoorHum-outdoorHum_medi_MDH_indoorAtmo-outdoorAtmo_diff_medi_subtract', 'MD_outdoorAtmo_medi_MD_indoorAtmo-outdoorAtmo_diff_medi_ratio', 'outdoorTemp_200_bin_indoorAtmo-outdoorAtmo_max', 'MDH_indoorAtmo_mean_MDH_outdoorTemp_diff_mean_subtract', 'indoorAtmo-outdoorAtmo_MD_outdoorTemp_medi_multyply', 'MD_indoorAtmo_diff_mean_MDH_outdoorAtmo_diff_mean_multyply', 'MDH_outdoorAtmo_medi_MDH_outdoorHum_mean_ratio', 'indoorAtmo-outdoorAtmo_200_bin_indoorAtmo-outdoorAtmo_min', 'indoorHum-outdoorHum_50_bin', 'MD_indoorHum-outdoorHum_medi_outdoorAtmo_ratio', 'indoorAtmo-outdoorAtmo_100_bin_outdoorHum_sum', 'indoorAtmo_50_bin_outdoorTemp_std', 'indoorAtmo_50_bin_indoorHum-outdoorHum_max', 'MDH_indoorHum_mean_MD_indoorHum-outdoorHum_mean_subtract', 'MD_outdoorAtmo_mean_indoorHum-outdoorHum_ratio', 'MDH_indoorHum-outdoorHum_mean_indoorHum_ratio', 'MD_outdoorAtmo_diff_medi_MD_outdoorTemp_diff_mean_multyply', 'MDH_indoorHum-outdoorHum_medi_MD_outdoorTemp_medi_multyply', 'MD_indoorAtmo-outdoorAtmo_diff_medi_MD_outdoorTemp_diff_mean_multyply', 'indoorHum_MDH_indoorHum_mean_ratio', 'MD_indoorAtmo-outdoorAtmo_diff_medi_MD_indoorAtmo_diff_mean_multyply', 'MDH_indoorHum-outdoorHum_mean_MDH_outdoorTemp_diff_medi_subtract', 'MDH_indoorHum-outdoorHum_mean_MD_outdoorHum_diff_medi_subtract', 'MD_indoorHum-outdoorHum_medi_MDH_outdoorHum_mean_ratio', 'MDH_indoorHum_medi_MD_outdoorAtmo_medi_ratio', 'MDH_outdoorAtmo_diff_mean_MD_indoorAtmo_diff_medi_ratio', 'MD_indoorHum-outdoorHum_medi_MD_outdoorTemp_mean_ratio', 'MD_outdoorAtmo_medi_MD_indoorHum-outdoorHum_medi_ratio', 'MD_outdoorAtmo_mean_MDH_outdoorAtmo_medi_multyply', 'MDH_indoorAtmo_mean_MDH_indoorAtmo-outdoorAtmo_medi_subtract', 'MDH_outdoorHum_medi_MDH_indoorHum_mean_ratio', 'MDH_indoorAtmo_mean_MDH_indoorHum_diff_mean_subtract', 'MD_outdoorTemp_medi_MDH_outdoorTemp_medi_multyply', 'MD_indoorHum-outdoorHum_mean_indoorHum_multyply', 'indoorAtmo-outdoorAtmo_MD_outdoorAtmo_diff_medi_subtract', 'MD_indoorAtmo-outdoorAtmo_diff_medi_outdoorTemp_ratio', 'indoorAtmo_20_bin_indoorAtmo-outdoorAtmo_skew', 'MD_indoorAtmo-outdoorAtmo_diff_medi_MDH_indoorAtmo-outdoorAtmo_mean_ratio', 'MDH_outdoorTemp_medi_MD_outdoorTemp_medi_multyply', 'indoorHum_50_bin_outdoorHum_mean', 'MD_indoorHum_diff_mean_MDH_outdoorHum_diff_mean_multyply', 'MDH_indoorAtmo_mean_indoorHum-outdoorHum_ratio', 'MD_outdoorAtmo_medi_MDH_indoorHum_medi_subtract', 'indoorHum_MDH_outdoorTemp_diff_medi_subtract', 'MDH_outdoorAtmo_mean_MDH_indoorHum-outdoorHum_mean_ratio', 'MD_indoorHum-outdoorHum_mean_MDH_indoorHum-outdoorHum_diff_mean_subtract', 'indoorHum-outdoorHum_50_bin_indoorAtmo_sum', 'MD_outdoorAtmo_medi_MDH_indoorHum_mean_subtract', 'indoorHum-outdoorHum_MD_indoorHum_diff_medi_subtract', 'MD_indoorHum_diff_mean_MDH_indoorAtmo_diff_mean_multyply', 'indoorAtmo-outdoorAtmo_200_bin_indoorAtmo-outdoorAtmo_medi', 'MDH_outdoorHum_mean_MD_outdoorHum_mean_subtract', 'MDH_outdoorHum_mean_indoorHum-outdoorHum_multyply', 'indoorHum_MD_indoorHum-outdoorHum_medi_subtract', 'MDH_indoorAtmo-outdoorAtmo_mean_MDH_indoorHum-outdoorHum_medi_ratio', 'MDH_indoorHum-outdoorHum_medi_MDH_outdoorAtmo_medi_ratio', 'MDH_indoorHum_mean_MDH_indoorHum-outdoorHum_diff_mean_subtract', 'MD_indoorHum_mean_MD_outdoorTemp_diff_mean_subtract', 'MDH_outdoorTemp_mean_MD_indoorHum-outdoorHum_medi_ratio', 'indoorHum_20_bin_indoorAtmo_medi', 'MD_indoorAtmo_diff_medi_MD_outdoorHum_medi_ratio', 'MD_indoorAtmo_mean_MDH_outdoorHum_mean_ratio', 'MDH_outdoorTemp_mean_MDH_indoorHum-outdoorHum_medi_multyply', 'indoorAtmo_MDH_indoorHum-outdoorHum_medi_multyply', 'MD_indoorAtmo_diff_medi_MD_indoorAtmo_mean_multyply', 'MD_indoorHum_medi_indoorHum-outdoorHum_multyply', 'MDH_outdoorTemp_diff_medi_MD_indoorHum_diff_medi_multyply', 'MD_outdoorHum_medi_MDH_indoorAtmo_medi_subtract', 'MDH_indoorHum-outdoorHum_mean_MDH_indoorAtmo_diff_medi_subtract', 'MDH_indoorHum-outdoorHum_medi_MDH_indoorAtmo-outdoorAtmo_medi_subtract', 'indoorAtmo_20_bin_outdoorTemp_min', 'indoorAtmo-outdoorAtmo_50_bin', 'MD_outdoorHum_medi_MDH_indoorHum_medi_subtract', 'MD_indoorHum_diff_medi_MD_indoorAtmo-outdoorAtmo_diff_medi_subtract', 'MDH_outdoorTemp_diff_mean_MDH_outdoorTemp_diff_medi_ratio', 'MD_indoorHum-outdoorHum_medi_MD_indoorHum-outdoorHum_diff_medi_multyply', 'indoorHum-outdoorHum_MDH_outdoorHum_medi_ratio', 'MD_outdoorHum_mean_MD_indoorHum_mean_ratio', 'MDH_outdoorHum_medi_MD_indoorHum-outdoorHum_mean_subtract', 'indoorHum_MD_indoorHum_medi_subtract', 'MD_indoorHum_mean_MDH_outdoorHum_diff_medi_subtract', 'indoorHum_200_bin_outdoorAtmo_mean', 'MDH_indoorHum_medi_MD_outdoorHum_mean_ratio', 'MDH_indoorAtmo_medi_indoorHum-outdoorHum_multyply', 'MD_indoorAtmo-outdoorAtmo_mean_MD_outdoorTemp_mean_multyply', 'MD_outdoorAtmo_mean_MD_indoorHum_mean_subtract', 'indoorHum_50_bin_indoorHum_medi', 'MDH_indoorAtmo_mean_MD_outdoorTemp_diff_medi_subtract', 'MD_outdoorTemp_mean_outdoorTemp_multyply', 'MDH_outdoorTemp_medi_MDH_outdoorHum_mean_subtract', 'MD_indoorHum_mean_MD_indoorHum-outdoorHum_medi_multyply', 'MD_indoorAtmo_mean_indoorAtmo-outdoorAtmo_multyply', 'MD_outdoorAtmo_diff_medi_MD_outdoorHum_diff_mean_ratio', 'MD_indoorHum-outdoorHum_medi_MD_indoorHum_mean_ratio', 'MDH_outdoorHum_mean_MDH_indoorAtmo_medi_multyply', 'indoorHum-outdoorHum_200_bin_outdoorHum_min', 'MDH_indoorHum-outdoorHum_medi_outdoorAtmo_ratio', 'indoorHum_indoorAtmo_multyply', 'MDH_indoorHum-outdoorHum_mean_indoorAtmo_ratio', 'outdoorAtmo_MDH_indoorHum-outdoorHum_medi_ratio', 'MDH_outdoorTemp_diff_medi_MD_indoorAtmo-outdoorAtmo_medi_multyply', 'indoorAtmo-outdoorAtmo_100_bin_outdoorAtmo_mean', 'MDH_indoorHum_mean_MDH_indoorAtmo_mean_multyply', 'outdoorHum_MD_indoorAtmo_diff_medi_ratio', 'MDH_outdoorTemp_diff_medi_MDH_outdoorAtmo_medi_ratio', 'indoorAtmo_20_bin_outdoorAtmo_skew', 'MDH_indoorAtmo-outdoorAtmo_medi_MD_indoorHum-outdoorHum_mean_ratio', 'outdoorHum_50_bin_indoorAtmo_medi', 'outdoorHum_MD_indoorAtmo_diff_mean_subtract', 'outdoorTemp_MD_indoorAtmo_diff_medi_ratio', 'indoorHum_MD_indoorAtmo_mean_ratio', 'MDH_outdoorHum_mean_MDH_indoorHum_medi_subtract', 'outdoorAtmo_MDH_outdoorTemp_diff_medi_ratio', 'indoorHum_MDH_outdoorHum_diff_mean_subtract', 'MDH_indoorHum_mean_MD_outdoorAtmo_mean_ratio', 'indoorHum_20_bin_indoorHum_max', 'MDH_outdoorHum_medi_MD_indoorHum_diff_mean_subtract', 'indoorHum-outdoorHum_200_bin_indoorAtmo-outdoorAtmo_skew', 'MD_outdoorAtmo_diff_medi_MDH_indoorHum_diff_mean_ratio', 'MD_indoorAtmo_mean_MDH_outdoorHum_medi_ratio', 'MDH_outdoorHum_mean_MDH_outdoorHum_medi_ratio', 'MD_indoorHum_mean_MD_indoorAtmo-outdoorAtmo_diff_mean_subtract', 'MDH_indoorHum_mean_MD_indoorHum-outdoorHum_medi_multyply', 'indoorHum-outdoorHum_MD_outdoorAtmo_diff_medi_subtract', 'MDH_indoorHum_mean_MD_indoorHum-outdoorHum_diff_mean_subtract', 'MDH_indoorHum-outdoorHum_mean_MDH_indoorAtmo-outdoorAtmo_medi_multyply', 'MDH_indoorHum-outdoorHum_medi_MD_outdoorAtmo_diff_mean_subtract', 'indoorHum-outdoorHum_100_bin_indoorHum-outdoorHum_sum', 'indoorHum-outdoorHum_100_bin_indoorAtmo-outdoorAtmo_max', 'indoorHum_2D_rolling_median', 'MDH_outdoorHum_mean_MD_outdoorHum_medi_subtract', 'MDH_outdoorAtmo_mean_MD_outdoorAtmo_medi_subtract', 'MDH_outdoorAtmo_medi_MDH_indoorHum_mean_multyply', 'MD_indoorHum_mean_MD_outdoorAtmo_diff_medi_subtract', 'indoorHum-outdoorHum_200_bin_indoorHum_sum', 'indoorAtmo_MDH_indoorAtmo_medi_multyply', 'MD_indoorAtmo-outdoorAtmo_diff_medi_MDH_indoorAtmo-outdoorAtmo_medi_multyply', 'MD_outdoorAtmo_medi_indoorAtmo-outdoorAtmo_ratio', 'indoorAtmo-outdoorAtmo_200_bin_indoorAtmo-outdoorAtmo_max', 'indoorHum_20_bin_outdoorTemp_mean', 'MD_indoorHum-outdoorHum_medi_MD_indoorHum_diff_medi_multyply', 'MD_indoorAtmo_mean_outdoorHum_ratio', 'MD_indoorAtmo-outdoorAtmo_diff_medi_MDH_outdoorAtmo_mean_ratio', 'MD_outdoorAtmo_medi_MD_indoorHum-outdoorHum_mean_multyply', 'outdoorHum_100_bin_outdoorTemp_max', 'MD_outdoorAtmo_mean_MD_indoorAtmo-outdoorAtmo_diff_medi_ratio', 'MDH_outdoorHum_mean_MD_outdoorAtmo_medi_ratio', 'MDH_outdoorHum_mean_MD_indoorAtmo-outdoorAtmo_medi_subtract', 'MDH_outdoorHum_medi_MDH_indoorAtmo_diff_mean_subtract', 'MD_outdoorTemp_mean_MD_indoorHum-outdoorHum_mean_ratio', 'MD_indoorAtmo_diff_medi_MDH_outdoorAtmo_diff_mean_multyply', 'MDH_outdoorTemp_medi_MD_outdoorTemp_mean_subtract', 'MDH_indoorHum-outdoorHum_mean_indoorAtmo_multyply', 'MDH_outdoorHum_mean_MDH_indoorHum-outdoorHum_medi_subtract', 'MDH_indoorHum_mean_MD_indoorAtmo-outdoorAtmo_diff_medi_subtract', 'MDH_outdoorAtmo_mean_MD_indoorAtmo_medi_subtract', 'indoorHum-outdoorHum_200_bin_outdoorHum_skew', 'MD_indoorAtmo_diff_medi_MDH_outdoorTemp_diff_medi_multyply', 'MD_indoorAtmo-outdoorAtmo_diff_medi_indoorHum-outdoorHum_ratio', 'MDH_indoorAtmo_mean_MD_indoorHum-outdoorHum_medi_ratio', 'indoorHum_50_bin_outdoorTemp_mean', 'MDH_outdoorHum_medi_MDH_outdoorAtmo_diff_medi_subtract', 'MDH_indoorHum_mean_MD_indoorHum_diff_mean_subtract', 'MDH_indoorHum_medi_outdoorHum_multyply', 'MD_outdoorTemp_medi_MD_indoorHum-outdoorHum_medi_ratio', 'MD_indoorAtmo_medi_MDH_indoorHum-outdoorHum_mean_multyply', 'MDH_indoorHum-outdoorHum_medi_MD_indoorAtmo_mean_multyply', 'indoorHum-outdoorHum_MDH_indoorAtmo-outdoorAtmo_diff_mean_subtract', 'MDH_outdoorTemp_diff_medi_outdoorAtmo_ratio', 'MD_outdoorHum_mean_indoorHum-outdoorHum_ratio', 'MD_indoorAtmo-outdoorAtmo_diff_medi_MD_indoorAtmo-outdoorAtmo_diff_mean_ratio', 'indoorAtmo-outdoorAtmo_MD_indoorHum_mean_multyply', 'MDH_indoorHum_medi_MDH_outdoorAtmo_mean_ratio', 'indoorHum_MDH_indoorHum-outdoorHum_mean_multyply', 'MD_outdoorHum_medi_MDH_outdoorHum_mean_ratio', 'MDH_indoorAtmo_medi_MD_outdoorAtmo_medi_multyply', 'MD_indoorAtmo_diff_medi_outdoorAtmo_multyply', 'indoorHum-outdoorHum_outdoorHum_ratio', 'MD_indoorAtmo-outdoorAtmo_diff_medi_MDH_indoorHum-outdoorHum_medi_ratio', 'MD_indoorHum_medi_MDH_outdoorHum_mean_ratio', 'MDH_outdoorHum_mean_MDH_indoorHum_diff_medi_subtract', 'MD_indoorHum_medi_MDH_indoorHum-outdoorHum_mean_ratio', 'MD_outdoorHum_mean_MD_outdoorAtmo_medi_ratio', 'MD_indoorHum-outdoorHum_medi_MDH_outdoorHum_mean_multyply', 'MD_indoorHum_mean_MD_outdoorAtmo_diff_mean_subtract', 'outdoorHum_50_bin_outdoorHum_medi', 'MDH_indoorAtmo_medi_indoorHum_ratio', 'MDH_outdoorHum_medi_MD_outdoorAtmo_medi_ratio', 'MD_outdoorHum_mean_MDH_indoorHum-outdoorHum_medi_subtract', 'MDH_outdoorHum_medi_outdoorHum_ratio', 'MD_indoorAtmo-outdoorAtmo_diff_medi_MD_outdoorHum_mean_ratio', 'MD_indoorHum-outdoorHum_medi_MD_outdoorAtmo_mean_multyply', 'indoorHum-outdoorHum_50_bin_indoorAtmo-outdoorAtmo_min', 'MD_outdoorTemp_mean_MDH_outdoorTemp_medi_multyply', 'MDH_indoorHum_mean_MDH_indoorAtmo-outdoorAtmo_mean_multyply', 'MDH_indoorHum-outdoorHum_medi_MD_indoorHum_mean_ratio', 'MD_indoorAtmo_diff_medi_MDH_indoorHum_mean_multyply', 'indoorHum_200_bin_outdoorTemp_skew', 'MDH_outdoorTemp_mean_MD_outdoorTemp_medi_multyply', 'MDH_indoorHum_mean_indoorAtmo-outdoorAtmo_multyply', 'MD_indoorAtmo_diff_medi_MDH_outdoorTemp_mean_ratio', 'MD_outdoorAtmo_diff_medi_MDH_indoorAtmo_diff_mean_multyply', 'MDH_outdoorHum_mean_indoorAtmo-outdoorAtmo_multyply', 'indoorAtmo-outdoorAtmo_MD_outdoorHum_medi_multyply', 'MDH_indoorHum_medi_MD_indoorAtmo_diff_medi_subtract', 'indoorHum-outdoorHum_100_bin_outdoorTemp_max', 'MD_indoorAtmo_diff_medi_indoorAtmo_ratio', 'MDH_indoorHum_mean_MDH_indoorAtmo_medi_multyply', 'MD_indoorHum_mean_MD_indoorAtmo_medi_multyply', 'indoorHum-outdoorHum_200_bin_outdoorTemp_medi', 'MD_outdoorAtmo_mean_indoorAtmo-outdoorAtmo_multyply', 'indoorHum_200_bin_indoorAtmo-outdoorAtmo_skew', 'outdoorAtmo_50_bin_indoorHum_sum', 'MDH_outdoorAtmo_mean_indoorHum-outdoorHum_multyply', 'MD_indoorAtmo_diff_medi_MD_indoorAtmo-outdoorAtmo_diff_medi_subtract', 'MD_indoorAtmo_medi_MDH_outdoorHum_medi_ratio', 'outdoorAtmo_MDH_indoorHum_mean_subtract', 'indoorHum-outdoorHum_100_bin_indoorAtmo_medi', 'indoorHum-outdoorHum_200_bin_outdoorTemp_std', 'MD_indoorHum_medi_MD_outdoorAtmo_mean_multyply', 'indoorAtmo-outdoorAtmo_outdoorAtmo_ratio', 'MD_indoorAtmo_diff_medi', 'indoorAtmo_MDH_outdoorHum_mean_multyply', 'MD_indoorAtmo_diff_medi_MDH_indoorHum_diff_mean_multyply', 'MDH_indoorAtmo_medi_MD_indoorAtmo-outdoorAtmo_diff_medi_ratio', 'MD_indoorHum_diff_mean_MDH_indoorHum_diff_mean_multyply', 'outdoorAtmo_MD_outdoorAtmo_medi_subtract', 'MD_indoorHum-outdoorHum_medi_indoorAtmo_multyply', 'indoorHum-outdoorHum_20_bin_indoorHum-outdoorHum_max', 'MDH_indoorHum-outdoorHum_medi_MDH_outdoorTemp_medi_ratio', 'MDH_outdoorAtmo_medi_MD_outdoorAtmo_medi_subtract', 'MDH_outdoorHum_mean_MD_indoorHum-outdoorHum_diff_medi_subtract', 'MDH_indoorAtmo-outdoorAtmo_medi_MDH_indoorHum-outdoorHum_mean_ratio', 'indoorHum-outdoorHum_50_bin_outdoorHum_skew', 'MD_outdoorAtmo_mean_MDH_outdoorTemp_diff_medi_ratio', 'MDH_indoorHum_medi_MD_indoorHum-outdoorHum_diff_medi_multyply', 'indoorHum_indoorAtmo-outdoorAtmo_ratio', 'indoorHum_MDH_indoorHum_diff_mean_subtract', 'indoorHum_200_bin_indoorHum_max', 'MD_indoorAtmo-outdoorAtmo_diff_medi_MDH_indoorHum-outdoorHum_mean_ratio', 'MDH_outdoorHum_mean_indoorAtmo-outdoorAtmo_ratio', 'MD_indoorHum-outdoorHum_mean_indoorHum-outdoorHum_ratio', 'MD_outdoorAtmo_medi_indoorHum_ratio', 'MD_indoorHum_diff_medi_MD_indoorAtmo_diff_medi_subtract', 'MD_outdoorHum_mean_MDH_indoorHum_diff_mean_subtract', 'MD_outdoorAtmo_medi_MDH_outdoorAtmo_medi_multyply', 'MD_indoorHum_mean_MD_indoorAtmo-outdoorAtmo_diff_medi_subtract', 'outdoorAtmo_MDH_outdoorHum_mean_subtract', 'MDH_outdoorAtmo_medi_MDH_indoorHum-outdoorHum_mean_ratio', 'MDH_indoorAtmo_mean_MD_indoorHum-outdoorHum_medi_multyply', 'MDH_indoorHum-outdoorHum_mean_MD_indoorAtmo-outdoorAtmo_diff_medi_ratio', 'MD_indoorHum-outdoorHum_mean_outdoorTemp_ratio', 'indoorHum_MD_outdoorTemp_diff_mean_subtract', 'MDH_indoorHum-outdoorHum_medi_MDH_indoorAtmo-outdoorAtmo_diff_mean_subtract', 'MD_indoorHum_mean_MD_indoorHum-outdoorHum_diff_medi_subtract', 'MDH_outdoorTemp_diff_medi_MDH_indoorHum-outdoorHum_mean_multyply', 'MDH_outdoorHum_medi_MDH_outdoorAtmo_medi_multyply', 'MDH_outdoorAtmo_mean_MD_indoorHum_mean_subtract', 'indoorHum-outdoorHum_200_bin_indoorHum-outdoorHum_mean', 'MD_indoorHum-outdoorHum_medi_MD_outdoorHum_medi_multyply', 'indoorHum-outdoorHum_100_bin_outdoorAtmo_skew', 'MDH_indoorAtmo_mean_MDH_indoorAtmo_diff_mean_subtract', 'indoorAtmo_MDH_outdoorAtmo_medi_subtract', 'MDH_indoorAtmo_mean_MDH_indoorHum-outdoorHum_diff_mean_subtract', 'indoorAtmo_MDH_indoorHum_medi_subtract', 'indoorHum-outdoorHum_MD_indoorAtmo_diff_medi_ratio', 'indoorHum_20_bin', 'indoorAtmo_50_bin_indoorHum-outdoorHum_medi', 'MD_indoorAtmo_diff_medi_MD_indoorHum_medi_ratio', 'MDH_outdoorHum_medi_MD_indoorAtmo_diff_mean_subtract', 'indoorAtmo-outdoorAtmo_MDH_outdoorHum_medi_multyply', 'indoorAtmo_20_bin_indoorAtmo-outdoorAtmo_sum', 'MDH_outdoorTemp_mean_MD_indoorAtmo_diff_medi_ratio', 'MDH_indoorHum-outdoorHum_diff_mean_MDH_indoorHum_diff_mean_multyply', 'MDH_indoorHum-outdoorHum_medi_MDH_outdoorHum_medi_multyply', 'MDH_outdoorTemp_mean_MDH_outdoorHum_mean_subtract', 'indoorAtmo-outdoorAtmo_20_bin_outdoorAtmo_max', 'outdoorAtmo_50_bin_indoorAtmo-outdoorAtmo_mean', 'outdoorHum_200_bin_indoorHum-outdoorHum_mean', 'MD_indoorAtmo-outdoorAtmo_diff_medi_MDH_outdoorAtmo_diff_medi_multyply', 'MD_indoorAtmo_diff_medi_MD_indoorHum-outdoorHum_diff_medi_subtract', 'indoorHum-outdoorHum_100_bin_outdoorTemp_sum', 'MDH_outdoorHum_medi_MD_indoorHum-outdoorHum_medi_multyply', 'MDH_indoorAtmo_medi_indoorAtmo-outdoorAtmo_ratio', 'MD_indoorHum_mean_MDH_indoorHum-outdoorHum_mean_multyply', 'MDH_outdoorAtmo_diff_medi_MDH_outdoorTemp_diff_medi_ratio', 'MD_indoorAtmo_diff_medi_MDH_indoorAtmo_diff_medi_multyply', 'MDH_indoorHum-outdoorHum_mean_MDH_outdoorHum_mean_multyply', 'indoorHum_MDH_outdoorTemp_diff_mean_subtract', 'MDH_outdoorTemp_diff_medi_MD_indoorHum_diff_medi_subtract', 'MD_outdoorAtmo_medi_indoorHum_multyply', 'MDH_outdoorHum_medi_MD_indoorHum_mean_subtract', 'indoorHum-outdoorHum_50_bin_indoorHum-outdoorHum_min', 'indoorHum_100_bin_outdoorHum_medi', 'MDH_indoorHum_mean_MDH_outdoorTemp_diff_medi_subtract', 'indoorHum_100_bin_outdoorAtmo_medi', 'indoorAtmo-outdoorAtmo_50_bin_indoorAtmo_medi', 'MDH_indoorAtmo_mean_MD_outdoorHum_diff_mean_subtract', 'MDH_indoorHum_mean_MDH_outdoorAtmo_mean_multyply', 'MD_indoorAtmo_mean_MDH_indoorHum_mean_multyply', 'indoorHum-outdoorHum_200_bin_outdoorAtmo_sum', 'MD_indoorAtmo-outdoorAtmo_mean_indoorHum-outdoorHum_ratio', 'MDH_indoorHum_medi_MDH_indoorAtmo_mean_subtract', 'MDH_outdoorHum_medi_indoorAtmo_ratio', 'indoorAtmo-outdoorAtmo_MDH_indoorHum_medi_multyply', 'MDH_indoorHum_medi_MD_indoorHum_mean_multyply', 'indoorAtmo_MD_indoorAtmo_diff_medi_ratio', 'MDH_indoorHum-outdoorHum_mean_MD_outdoorAtmo_medi_ratio', 'MDH_indoorHum-outdoorHum_mean_MDH_outdoorAtmo_mean_multyply', 'MD_indoorAtmo-outdoorAtmo_diff_medi_MD_outdoorAtmo_diff_mean_ratio', 'MDH_outdoorHum_medi_MD_indoorAtmo_mean_multyply', 'MDH_indoorHum-outdoorHum_mean_MD_outdoorHum_mean_ratio', 'MD_indoorHum_medi_MD_indoorAtmo-outdoorAtmo_diff_medi_ratio', 'indoorHum_MD_indoorAtmo-outdoorAtmo_mean_subtract', 'outdoorHum_50_bin_outdoorHum_max', 'indoorAtmo-outdoorAtmo_MD_outdoorHum_diff_medi_subtract', 'indoorAtmo-outdoorAtmo_MD_indoorHum_diff_mean_subtract', 'indoorHum_100_bin_indoorAtmo_sum', 'MDH_outdoorTemp_diff_medi_MD_outdoorHum_diff_medi_subtract', 'MDH_indoorHum-outdoorHum_mean_MD_indoorAtmo_medi_ratio', 'MDH_outdoorTemp_diff_medi_MDH_indoorAtmo_medi_ratio', 'MDH_indoorHum_mean_MD_indoorAtmo_mean_ratio', 'outdoorHum_MD_indoorAtmo-outdoorAtmo_mean_subtract', 'outdoorAtmo_50_bin_indoorAtmo_sum', 'MD_indoorAtmo-outdoorAtmo_diff_medi_MD_indoorAtmo_diff_mean_ratio', 'MD_outdoorAtmo_mean_MDH_outdoorAtmo_mean_multyply', 'indoorAtmo-outdoorAtmo_50_bin_indoorAtmo_max', 'MDH_indoorAtmo-outdoorAtmo_diff_medi_MD_indoorAtmo-outdoorAtmo_diff_medi_ratio', 'MDH_indoorHum_mean_MDH_indoorHum-outdoorHum_mean_ratio', 'indoorHum-outdoorHum_MD_indoorAtmo_mean_multyply', 'MD_indoorAtmo_diff_medi_MD_indoorHum-outdoorHum_mean_ratio', 'indoorAtmo_20_bin_outdoorTemp_std', 'indoorHum-outdoorHum_200_bin_indoorHum-outdoorHum_skew', 'MDH_outdoorTemp_medi_indoorHum-outdoorHum_multyply', 'MD_outdoorHum_diff_mean_MD_indoorAtmo-outdoorAtmo_diff_medi_ratio', 'MD_indoorAtmo-outdoorAtmo_mean_MDH_indoorHum-outdoorHum_mean_multyply', 'outdoorHum_MD_outdoorAtmo_medi_ratio', 'MDH_indoorHum-outdoorHum_medi_MD_indoorAtmo_medi_ratio', 'MDH_outdoorHum_medi_MD_indoorHum-outdoorHum_diff_medi_subtract', 'indoorAtmo-outdoorAtmo_100_bin_indoorHum_sum', 'MD_indoorHum_mean_MD_outdoorAtmo_mean_ratio', 'indoorAtmo-outdoorAtmo_100_bin_indoorHum_min', 'MD_indoorHum-outdoorHum_mean_outdoorHum_multyply', 'indoorAtmo-outdoorAtmo_outdoorTemp_ratio', 'indoorHum_200_bin_outdoorHum_sum', 'MDH_outdoorHum_medi_MDH_outdoorAtmo_mean_multyply', 'MD_indoorHum-outdoorHum_medi_outdoorHum_multyply', 'MDH_indoorHum_diff_mean_MD_indoorAtmo_diff_medi_ratio', 'MDH_indoorAtmo_diff_mean_MD_indoorAtmo-outdoorAtmo_diff_medi_ratio', 'outdoorHum_200_bin_outdoorHum_mean', 'MDH_indoorHum-outdoorHum_medi_MDH_indoorAtmo_medi_multyply', 'outdoorHum_100_bin_outdoorHum_medi', 'MDH_outdoorHum_medi_MDH_indoorHum_medi_subtract', 'outdoorHum_MD_indoorHum_medi_subtract', 'MDH_outdoorHum_medi_indoorHum-outdoorHum_multyply', 'outdoorAtmo_MDH_indoorHum-outdoorHum_mean_ratio', 'MDH_indoorAtmo_diff_mean_MD_indoorAtmo-outdoorAtmo_diff_mean_multyply', 'MDH_outdoorTemp_diff_medi_MDH_indoorHum_diff_medi_subtract', 'outdoorAtmo_50_bin_indoorHum-outdoorHum_mean', 'indoorHum-outdoorHum_50_bin_indoorAtmo_skew', 'indoorHum-outdoorHum_outdoorHum_multyply', 'MDH_outdoorTemp_diff_medi_MDH_indoorAtmo-outdoorAtmo_medi_ratio', 'MD_indoorAtmo_mean_indoorHum_ratio', 'MD_outdoorTemp_mean_indoorHum-outdoorHum_multyply', 'MD_indoorHum-outdoorHum_medi_MDH_outdoorAtmo_medi_ratio', 'MDH_indoorAtmo_mean_MDH_outdoorHum_diff_mean_subtract', 'outdoorHum_MD_indoorAtmo-outdoorAtmo_medi_subtract', 'indoorHum_MD_indoorAtmo_diff_mean_subtract', 'MDH_indoorHum_mean_MDH_outdoorHum_diff_mean_subtract', 'MD_indoorHum-outdoorHum_mean_MD_indoorAtmo-outdoorAtmo_diff_medi_ratio', 'outdoorHum_MDH_indoorAtmo-outdoorAtmo_mean_subtract', 'indoorHum_MDH_outdoorTemp_medi_subtract', 'MD_outdoorAtmo_mean_MD_outdoorHum_mean_ratio', 'MDH_outdoorHum_mean_MD_indoorAtmo_mean_ratio', 'indoorAtmo_20_bin_indoorAtmo-outdoorAtmo_medi', 'indoorAtmo_20_bin_indoorHum_max', 'MDH_indoorAtmo_mean_MDH_outdoorTemp_diff_medi_subtract', 'outdoorHum_MDH_indoorHum_mean_ratio', 'MD_indoorHum_mean_MDH_outdoorHum_mean_multyply', 'MDH_outdoorAtmo_medi_MD_indoorAtmo-outdoorAtmo_diff_medi_ratio', 'MDH_outdoorHum_medi_MDH_outdoorHum_diff_mean_subtract', 'MD_outdoorTemp_mean_MDH_indoorHum-outdoorHum_mean_multyply', 'MDH_indoorAtmo_medi_indoorHum_multyply', 'MDH_outdoorTemp_medi_MD_indoorHum-outdoorHum_medi_ratio', 'MDH_outdoorAtmo_mean_MDH_outdoorTemp_diff_medi_ratio', 'MDH_indoorHum_medi_MD_indoorAtmo_diff_medi_ratio', 'indoorHum_50_bin_indoorHum_min', 'indoorAtmo-outdoorAtmo_50_bin_outdoorHum_sum', 'MD_outdoorTemp_mean_MDH_outdoorTemp_diff_medi_ratio', 'MD_indoorAtmo_diff_medi_MD_indoorAtmo-outdoorAtmo_diff_medi_ratio', 'MD_indoorAtmo-outdoorAtmo_diff_medi_MDH_outdoorTemp_diff_mean_multyply', 'MDH_outdoorTemp_diff_medi_MDH_indoorHum_medi_ratio', 'outdoorTemp_MDH_outdoorHum_medi_subtract', 'indoorHum_100_bin_outdoorTemp_mean', 'MDH_outdoorHum_medi_MD_indoorHum_diff_medi_subtract', 'MDH_indoorHum_mean_MDH_outdoorHum_medi_ratio', 'MDH_indoorAtmo_mean_MDH_indoorHum-outdoorHum_mean_subtract', 'indoorHum-outdoorHum_50_bin_indoorHum_min', 'outdoorHum_200_bin_outdoorHum_sum', 'MDH_outdoorTemp_diff_medi_MDH_indoorHum-outdoorHum_mean_ratio', 'MDH_indoorHum-outdoorHum_mean_MD_indoorAtmo_medi_multyply', 'MDH_outdoorHum_medi_MDH_outdoorAtmo_medi_subtract', 'MD_indoorAtmo_medi_MD_outdoorHum_mean_ratio', 'MD_indoorAtmo_medi_indoorAtmo-outdoorAtmo_multyply', 'MDH_indoorHum_mean_MDH_indoorHum_medi_ratio', 'MDH_outdoorHum_mean_MDH_indoorHum_medi_ratio', 'MDH_indoorHum_medi_MD_indoorAtmo-outdoorAtmo_diff_medi_subtract', 'MD_indoorHum_mean_MDH_indoorAtmo_diff_mean_subtract', 'MD_indoorAtmo-outdoorAtmo_diff_medi_MDH_indoorAtmo_diff_medi_multyply', 'MDH_outdoorAtmo_mean_MDH_indoorHum_mean_ratio', 'indoorHum-outdoorHum_100_bin_indoorAtmo-outdoorAtmo_min', 'MDH_outdoorTemp_diff_mean_MD_outdoorTemp_diff_medi_multyply', 'MD_indoorAtmo_diff_medi_MDH_outdoorHum_diff_mean_ratio', 'indoorAtmo-outdoorAtmo_MD_indoorHum-outdoorHum_medi_subtract', 'MD_outdoorHum_medi_indoorHum_ratio', 'MD_outdoorTemp_medi_MD_indoorAtmo-outdoorAtmo_diff_medi_ratio', 'MDH_outdoorAtmo_medi_MD_indoorAtmo_diff_medi_ratio', 'indoorHum_100_bin_indoorHum-outdoorHum_mean', 'MDH_outdoorHum_medi_MDH_indoorAtmo_medi_subtract', 'MDH_indoorHum_mean_MD_indoorAtmo_diff_mean_subtract', 'MDH_indoorHum-outdoorHum_mean_MDH_indoorHum-outdoorHum_diff_mean_subtract', 'outdoorAtmo_outdoorHum_ratio', 'MD_indoorHum-outdoorHum_medi_MD_outdoorTemp_medi_ratio', 'MD_indoorAtmo-outdoorAtmo_medi_indoorHum-outdoorHum_ratio', 'indoorHum-outdoorHum_100_bin_indoorAtmo_sum', 'MD_indoorHum_mean_MD_indoorHum-outdoorHum_diff_mean_subtract', 'MDH_outdoorAtmo_medi_MD_indoorHum_mean_subtract', 'MDH_indoorHum-outdoorHum_diff_mean_MD_indoorAtmo_diff_medi_ratio', 'MDH_outdoorHum_mean_MD_indoorAtmo_diff_mean_subtract', 'indoorHum-outdoorHum_MD_indoorAtmo-outdoorAtmo_diff_mean_subtract', 'MD_indoorAtmo_diff_medi_MD_outdoorTemp_diff_mean_multyply', 'MDH_indoorHum-outdoorHum_medi_outdoorTemp_multyply', 'MD_indoorHum_diff_mean_MDH_outdoorAtmo_diff_mean_multyply', 'MDH_indoorHum_mean_MD_indoorHum_medi_subtract', 'MD_indoorAtmo_mean_MDH_indoorHum-outdoorHum_medi_multyply', 'MDH_outdoorHum_mean_MDH_indoorHum-outdoorHum_diff_medi_subtract', 'indoorAtmo_20_bin_indoorHum_skew', 'indoorHum_MDH_indoorAtmo_mean_ratio', 'MDH_outdoorTemp_diff_medi_indoorHum_multyply', 'indoorHum-outdoorHum_50_bin_outdoorAtmo_mean', 'MDH_indoorHum_medi_MD_outdoorAtmo_diff_medi_subtract', 'MDH_outdoorTemp_diff_medi_MD_outdoorAtmo_mean_ratio', 'indoorHum_MD_indoorHum-outdoorHum_medi_multyply', 'MD_indoorAtmo-outdoorAtmo_diff_medi_MDH_indoorHum_diff_mean_multyply', 'MDH_indoorAtmo_mean_MD_outdoorAtmo_diff_mean_subtract', 'MD_indoorAtmo_diff_medi_MDH_indoorHum-outdoorHum_diff_medi_multyply', 'MD_outdoorHum_mean_MDH_outdoorTemp_diff_medi_ratio', 'MD_indoorAtmo_diff_medi_MDH_indoorHum-outdoorHum_diff_medi_subtract', 'indoorHum_MD_indoorAtmo_diff_medi_ratio', 'MD_outdoorAtmo_medi_MDH_indoorHum-outdoorHum_medi_multyply', 'outdoorHum_20_bin_indoorAtmo_medi', 'outdoorHum_MDH_indoorHum-outdoorHum_medi_subtract', 'indoorHum_indoorAtmo-outdoorAtmo_multyply', 'indoorAtmo_20_bin_indoorAtmo-outdoorAtmo_mean', 'indoorHum_indoorHum-outdoorHum_multyply', 'indoorAtmo-outdoorAtmo_20_bin_indoorAtmo_mean', 'MD_indoorAtmo_medi_MDH_outdoorHum_mean_ratio', 'MD_indoorHum-outdoorHum_mean_MDH_outdoorHum_mean_multyply', 'MD_indoorAtmo_diff_medi_MDH_indoorAtmo-outdoorAtmo_mean_multyply', 'MDH_outdoorHum_mean_MD_indoorHum_diff_mean_subtract', 'outdoorHum_100_bin_indoorHum_min', 'MD_outdoorHum_medi_MDH_outdoorTemp_diff_medi_ratio', 'indoorAtmo_MDH_indoorHum_mean_ratio', 'MDH_outdoorHum_medi_MDH_indoorHum_mean_multyply', 'indoorHum-outdoorHum_MDH_indoorHum_mean_subtract', 'indoorAtmo_MDH_indoorHum_medi_ratio', 'outdoorAtmo_MDH_indoorAtmo_medi_subtract', 'indoorHum_200_bin_indoorAtmo-outdoorAtmo_sum', 'MDH_indoorHum-outdoorHum_diff_mean_MD_outdoorAtmo_diff_medi_ratio', 'MDH_indoorAtmo-outdoorAtmo_medi_MDH_indoorHum-outdoorHum_medi_ratio', 'MD_indoorHum_medi_MD_outdoorTemp_diff_mean_subtract', 'MDH_indoorAtmo_medi_MDH_outdoorHum_mean_ratio', 'MD_indoorAtmo_diff_medi_MD_outdoorTemp_medi_ratio', 'outdoorHum_MD_indoorHum_mean_ratio', 'MDH_outdoorHum_medi_MDH_outdoorAtmo_mean_ratio', 'MDH_indoorAtmo_mean_MD_indoorHum_diff_mean_subtract', 'MDH_outdoorTemp_diff_medi_MD_outdoorHum_diff_mean_ratio', 'indoorHum_200_bin_indoorHum-outdoorHum_mean', 'MD_indoorHum_mean_MD_indoorAtmo_diff_medi_subtract', 'outdoorTemp_MD_outdoorTemp_mean_subtract', 'outdoorHum_200_bin_indoorAtmo_mean', 'MDH_outdoorHum_mean_indoorAtmo_ratio', 'MDH_indoorHum_mean_MDH_indoorAtmo_diff_mean_subtract', 'indoorAtmo-outdoorAtmo_MD_indoorAtmo_medi_ratio', 'MDH_outdoorTemp_mean_MDH_indoorHum_medi_subtract', 'indoorAtmo-outdoorAtmo_200_bin_indoorAtmo_medi', 'MDH_indoorHum-outdoorHum_medi_outdoorAtmo_multyply', 'MD_indoorHum_mean_MDH_indoorHum_mean_multyply', 'MD_outdoorAtmo_mean_indoorHum_multyply', 'MDH_indoorHum-outdoorHum_mean_MD_outdoorAtmo_diff_mean_subtract', 'MDH_indoorAtmo_mean_MDH_outdoorHum_medi_ratio', 'indoorHum-outdoorHum_50_bin_outdoorAtmo_skew', 'MD_outdoorHum_diff_mean_MD_indoorAtmo_diff_medi_ratio', 'MDH_outdoorHum_mean_MD_outdoorHum_diff_mean_subtract', 'indoorHum_MD_indoorHum-outdoorHum_diff_medi_subtract', 'MD_indoorAtmo-outdoorAtmo_mean_MD_indoorAtmo-outdoorAtmo_medi_ratio', 'MDH_indoorHum-outdoorHum_mean_MDH_indoorAtmo-outdoorAtmo_diff_medi_subtract', 'outdoorAtmo_MD_indoorAtmo_diff_medi_ratio', 'indoorAtmo-outdoorAtmo_indoorHum_multyply', 'MD_indoorAtmo-outdoorAtmo_diff_medi_MD_outdoorTemp_mean_multyply', 'indoorAtmo-outdoorAtmo_100_bin_indoorAtmo_sum', 'indoorHum-outdoorHum_200_bin_indoorAtmo_std', 'MDH_outdoorHum_mean_MDH_outdoorTemp_diff_medi_subtract', 'outdoorHum_MD_indoorAtmo_medi_ratio', 'MDH_indoorAtmo-outdoorAtmo_mean_MDH_indoorHum-outdoorHum_diff_medi_subtract', 'MDH_outdoorTemp_diff_medi_MDH_indoorHum-outdoorHum_medi_ratio', 'indoorAtmo-outdoorAtmo_20_bin_indoorHum_sum', 'outdoorAtmo_MD_outdoorHum_mean_subtract', 'MD_indoorHum-outdoorHum_medi_MDH_outdoorHum_medi_ratio', 'indoorHum-outdoorHum_MD_outdoorAtmo_mean_ratio', 'indoorHum_200_bin_outdoorAtmo_std', 'MDH_outdoorHum_medi_indoorAtmo-outdoorAtmo_multyply', 'indoorAtmo-outdoorAtmo_20_bin_indoorAtmo-outdoorAtmo_mean', 'MD_indoorAtmo_diff_medi_MD_outdoorTemp_mean_ratio', 'indoorHum-outdoorHum_100_bin_outdoorHum_sum', 'indoorAtmo-outdoorAtmo_100_bin_indoorAtmo_max', 'outdoorHum_200_bin_indoorAtmo-outdoorAtmo_mean', 'MDH_outdoorHum_medi_indoorAtmo_multyply', 'MDH_outdoorHum_medi_MD_outdoorAtmo_medi_multyply', 'MDH_outdoorHum_medi_MD_indoorHum_medi_ratio', 'MD_indoorAtmo-outdoorAtmo_diff_medi_MDH_indoorAtmo-outdoorAtmo_diff_medi_multyply', 'MDH_indoorHum_medi_MDH_indoorHum-outdoorHum_medi_subtract', 'MD_indoorHum_mean_MD_indoorAtmo_medi_ratio', 'MDH_outdoorTemp_diff_medi_outdoorHum_ratio', 'MDH_outdoorTemp_medi_MD_indoorHum-outdoorHum_medi_multyply', 'indoorHum-outdoorHum_200_bin_indoorHum_min', 'MD_indoorAtmo_diff_medi_indoorHum-outdoorHum_ratio', 'MDH_outdoorHum_mean_MD_indoorAtmo_diff_medi_ratio', 'MDH_indoorHum_medi_outdoorHum_ratio', 'indoorHum-outdoorHum_100_bin_outdoorTemp_min', 'MDH_outdoorHum_medi_MDH_indoorAtmo-outdoorAtmo_mean_multyply', 'MDH_indoorHum-outdoorHum_medi_MDH_outdoorAtmo_mean_multyply', 'outdoorHum_200_bin_outdoorTemp_mean', 'indoorHum-outdoorHum_MDH_indoorHum_medi_subtract', 'MDH_outdoorTemp_medi_MD_indoorAtmo_diff_medi_ratio', 'MDH_indoorHum_medi_MDH_indoorHum-outdoorHum_mean_ratio', 'MDH_indoorAtmo_mean_MDH_outdoorAtmo_diff_mean_subtract', 'indoorAtmo-outdoorAtmo_MD_outdoorTemp_mean_ratio', 'MD_indoorAtmo_diff_medi_MDH_outdoorHum_medi_ratio', 'MDH_outdoorAtmo_medi_indoorHum-outdoorHum_ratio', 'MDH_outdoorTemp_diff_medi_MD_outdoorAtmo_diff_medi_multyply', 'MD_outdoorAtmo_mean_MDH_outdoorHum_mean_ratio', 'MDH_indoorHum-outdoorHum_mean_MDH_indoorAtmo_diff_mean_subtract', 'indoorHum_20_bin_indoorAtmo_sum', 'indoorHum_200_bin_indoorAtmo-outdoorAtmo_mean', 'MD_outdoorAtmo_diff_medi_MDH_indoorAtmo_diff_mean_ratio', 'MDH_outdoorHum_mean_MDH_indoorAtmo_medi_subtract', 'MDH_indoorHum_mean_MD_outdoorAtmo_diff_mean_subtract', 'MD_indoorAtmo_diff_medi_MDH_outdoorAtmo_diff_medi_ratio', 'MDH_indoorHum_medi_MD_indoorAtmo_medi_ratio', 'MD_indoorHum_diff_mean_MD_indoorAtmo-outdoorAtmo_diff_medi_ratio', 'MDH_indoorAtmo-outdoorAtmo_mean_MDH_outdoorTemp_diff_mean_subtract', 'indoorHum-outdoorHum_50_bin_indoorHum-outdoorHum_mean', 'MDH_indoorHum_mean_MD_indoorHum-outdoorHum_medi_ratio', 'indoorHum_MD_indoorAtmo-outdoorAtmo_diff_medi_subtract', 'indoorAtmo_20_bin_indoorHum-outdoorHum_min', 'MDH_outdoorHum_mean_MDH_outdoorHum_diff_medi_subtract', 'MD_indoorHum-outdoorHum_medi_MD_indoorHum_mean_multyply', 'MDH_indoorAtmo_mean_indoorAtmo-outdoorAtmo_multyply', 'outdoorHum_MD_indoorAtmo_mean_multyply', 'MDH_indoorHum-outdoorHum_mean_MDH_indoorHum_mean_ratio', 'MDH_indoorHum_mean_MDH_indoorAtmo_diff_medi_subtract', 'outdoorHum_20_bin_outdoorHum_min', 'indoorAtmo_20_bin_indoorAtmo-outdoorAtmo_max', 'MD_outdoorHum_mean_MDH_indoorHum-outdoorHum_medi_multyply', 'MD_indoorAtmo-outdoorAtmo_mean_MD_outdoorHum_medi_ratio', 'MD_indoorAtmo-outdoorAtmo_diff_medi_MDH_outdoorAtmo_medi_ratio', 'MDH_outdoorHum_medi_indoorHum_ratio', 'MD_indoorAtmo-outdoorAtmo_diff_medi_MD_indoorHum-outdoorHum_diff_mean_ratio', 'MD_outdoorAtmo_mean_MD_indoorAtmo_diff_medi_ratio', 'MDH_indoorHum_mean_MD_outdoorTemp_diff_medi_subtract', 'outdoorHum_200_bin_indoorHum_min', 'MD_indoorHum_medi_MDH_outdoorHum_medi_multyply', 'MDH_outdoorHum_mean_MD_outdoorAtmo_mean_multyply', 'MD_indoorAtmo-outdoorAtmo_diff_medi_MDH_outdoorAtmo_medi_multyply', 'indoorHum-outdoorHum_MD_outdoorHum_diff_medi_subtract', 'indoorAtmo-outdoorAtmo_MDH_outdoorAtmo_medi_multyply', 'MDH_outdoorAtmo_medi_indoorHum_multyply', 'MDH_indoorHum-outdoorHum_medi_MD_outdoorHum_diff_mean_subtract', 'MD_outdoorHum_medi_MD_indoorAtmo-outdoorAtmo_diff_medi_ratio', 'MDH_outdoorTemp_diff_medi_MD_indoorHum-outdoorHum_medi_ratio', 'outdoorHum_MD_indoorAtmo_mean_ratio', 'MDH_outdoorTemp_diff_medi_MDH_indoorHum_mean_multyply', 'MDH_indoorHum_diff_mean_MD_indoorAtmo-outdoorAtmo_diff_medi_ratio', 'indoorHum-outdoorHum_50_bin_indoorHum_mean', 'MD_indoorHum-outdoorHum_medi_MDH_indoorAtmo_medi_ratio', 'MDH_indoorHum-outdoorHum_medi_outdoorHum_multyply', 'MDH_outdoorTemp_diff_medi_MDH_outdoorAtmo_mean_ratio', 'indoorHum-outdoorHum_20_bin_indoorHum-outdoorHum_medi', 'MDH_indoorHum_medi_MD_indoorHum-outdoorHum_medi_ratio', 'MDH_outdoorAtmo_diff_mean_MD_outdoorAtmo_diff_medi_ratio', 'MD_indoorAtmo_diff_medi_outdoorTemp_ratio', 'MD_indoorAtmo_mean_MD_indoorAtmo_diff_medi_ratio', 'MDH_indoorAtmo_mean_MDH_outdoorHum_diff_medi_subtract', 'MDH_outdoorAtmo_medi_MDH_indoorHum_medi_multyply', 'MD_indoorHum_mean_indoorHum-outdoorHum_ratio', 'MDH_outdoorHum_medi_outdoorAtmo_multyply', 'indoorAtmo_50_bin_indoorHum_max', 'MDH_indoorAtmo_mean_outdoorAtmo_ratio', 'MD_indoorAtmo_diff_medi_outdoorAtmo_ratio', 'MD_outdoorTemp_medi_MDH_indoorHum-outdoorHum_medi_multyply', 'MDH_indoorAtmo_diff_mean_MD_indoorAtmo_diff_medi_ratio', 'indoorAtmo-outdoorAtmo_MDH_outdoorAtmo_medi_ratio', 'MD_indoorHum_mean_MD_indoorHum-outdoorHum_mean_multyply', 'indoorHum-outdoorHum_100_bin_outdoorHum_std', 'outdoorHum_200_bin_outdoorHum_min', 'MD_outdoorHum_medi_MDH_outdoorHum_mean_multyply', 'indoorAtmo-outdoorAtmo_MD_indoorAtmo_medi_multyply', 'MDH_indoorHum_mean_MDH_outdoorAtmo_diff_mean_subtract', 'indoorAtmo_50_bin_outdoorHum_skew', 'indoorHum-outdoorHum_200_bin_indoorHum_medi', 'MD_indoorAtmo-outdoorAtmo_diff_medi_MD_indoorHum_diff_mean_multyply', 'outdoorAtmo_MD_indoorAtmo_medi_subtract', 'indoorHum_200_bin_outdoorAtmo_max', 'MDH_outdoorHum_diff_mean_MD_indoorAtmo_diff_medi_multyply', 'indoorAtmo-outdoorAtmo_MDH_indoorHum_mean_multyply', 'indoorHum-outdoorHum_MDH_outdoorHum_medi_subtract', 'indoorHum-outdoorHum_50_bin_outdoorAtmo_medi', 'MDH_outdoorTemp_diff_max', 'MD_indoorHum_diff_mean_MDH_outdoorTemp_diff_medi_ratio', 'MDH_indoorHum_mean_MD_indoorAtmo_mean_multyply', 'indoorHum_outdoorAtmo_ratio', 'MD_outdoorTemp_medi_indoorHum-outdoorHum_multyply', 'MDH_indoorAtmo_mean_MDH_indoorHum_mean_ratio', 'outdoorAtmo_indoorHum-outdoorHum_multyply', 'MDH_outdoorHum_medi_MDH_indoorAtmo_mean_subtract', 'MDH_indoorHum-outdoorHum_mean_MDH_indoorAtmo-outdoorAtmo_mean_ratio', 'MDH_outdoorHum_mean_indoorHum-outdoorHum_ratio', 'MD_indoorAtmo_diff_medi_MDH_indoorAtmo_diff_medi_ratio', 'outdoorAtmo_MDH_outdoorAtmo_medi_subtract', 'indoorHum_200_bin_outdoorTemp_max', 'MD_indoorHum_medi_MD_indoorAtmo_medi_multyply', 'MDH_outdoorAtmo_medi_MDH_outdoorHum_medi_multyply', 'MDH_indoorHum_medi_MD_indoorAtmo_diff_mean_subtract', 'MDH_indoorHum_mean_MD_outdoorHum_mean_multyply', 'MD_indoorAtmo_diff_medi_MD_outdoorHum_diff_mean_multyply', 'MD_indoorHum_medi_MDH_indoorHum-outdoorHum_medi_multyply', 'MDH_indoorHum_medi_MD_outdoorHum_medi_multyply', 'indoorAtmo_MDH_outdoorHum_medi_multyply', 'outdoorAtmo_MDH_indoorHum_medi_subtract', 'MDH_indoorAtmo_medi_MD_indoorHum-outdoorHum_mean_multyply', 'outdoorAtmo_50_bin_outdoorAtmo_skew', 'outdoorHum_200_bin_outdoorAtmo_skew', 'MD_outdoorAtmo_diff_medi_MD_indoorAtmo_diff_mean_ratio', 'MDH_outdoorHum_medi_MD_indoorAtmo-outdoorAtmo_diff_medi_ratio', 'indoorHum-outdoorHum_100_bin_outdoorAtmo_max', 'MD_indoorAtmo_medi_MD_indoorAtmo_diff_medi_ratio', 'MD_outdoorAtmo_medi_MDH_outdoorHum_mean_multyply', 'outdoorHum_20_bin_outdoorTemp_mean', 'MDH_outdoorAtmo_mean_outdoorHum_ratio', 'outdoorHum_MDH_indoorHum-outdoorHum_diff_mean_subtract', 'indoorHum-outdoorHum_100_bin_indoorAtmo_mean', 'MD_indoorHum-outdoorHum_medi_MD_outdoorAtmo_medi_multyply', 'MDH_indoorHum_mean_MD_outdoorHum_diff_mean_subtract', 'MD_indoorHum_medi_MD_indoorHum-outdoorHum_diff_medi_subtract', 'MD_indoorAtmo-outdoorAtmo_diff_medi_indoorHum_multyply', 'MDH_indoorHum_mean_MD_indoorAtmo_medi_subtract', 'indoorHum_MD_outdoorAtmo_mean_ratio', 'MDH_indoorAtmo-outdoorAtmo_mean_MDH_outdoorAtmo_diff_mean_subtract', 'outdoorAtmo_MDH_indoorHum_medi_multyply', 'outdoorHum_200_bin_indoorHum-outdoorHum_sum', 'MDH_outdoorHum_mean_MDH_indoorHum_medi_multyply', 'indoorAtmo_20_bin_indoorAtmo_min', 'MD_indoorHum-outdoorHum_medi_MDH_outdoorTemp_diff_medi_subtract', 'MDH_indoorHum-outdoorHum_medi_MD_indoorHum-outdoorHum_diff_medi_multyply', 'MDH_indoorAtmo_mean_MDH_indoorHum-outdoorHum_medi_multyply', 'MDH_outdoorHum_mean_MD_indoorAtmo-outdoorAtmo_diff_mean_subtract', 'indoorHum-outdoorHum_200_bin_outdoorTemp_skew', 'outdoorAtmo_MDH_indoorHum_mean_ratio', 'MDH_outdoorHum_medi_MDH_outdoorAtmo_diff_mean_subtract', 'indoorHum-outdoorHum_200_bin_indoorAtmo_medi', 'MDH_indoorHum_min', 'MD_outdoorTemp_diff_mean_MDH_outdoorTemp_diff_medi_ratio', 'MD_indoorAtmo-outdoorAtmo_diff_medi_MD_indoorAtmo_mean_ratio', 'indoorAtmo-outdoorAtmo_MD_outdoorHum_mean_multyply', 'MDH_outdoorTemp_mean_outdoorTemp_multyply', 'MD_indoorAtmo-outdoorAtmo_mean_MD_indoorAtmo_diff_medi_ratio', 'outdoorHum_MD_indoorHum-outdoorHum_diff_medi_subtract', 'MDH_indoorHum_mean_MD_indoorAtmo_medi_ratio', 'outdoorHum_200_bin_outdoorHum_medi', 'outdoorHum_MD_indoorAtmo_diff_medi_subtract', 'indoorHum-outdoorHum_MD_outdoorTemp_diff_mean_subtract', 'MDH_indoorHum-outdoorHum_mean_MD_outdoorAtmo_diff_medi_subtract', 'indoorAtmo_50_bin_outdoorHum_mean', 'MDH_outdoorHum_medi_MD_outdoorAtmo_mean_subtract', 'MDH_outdoorTemp_diff_medi_outdoorTemp_multyply', 'MD_outdoorHum_mean_indoorAtmo-outdoorAtmo_ratio', 'MD_indoorAtmo_mean_MDH_indoorHum_medi_ratio', 'outdoorTemp_MD_indoorAtmo-outdoorAtmo_diff_medi_ratio', 'outdoorHum_MD_outdoorHum_diff_medi_subtract', 'indoorHum-outdoorHum_200_bin_indoorHum-outdoorHum_medi', 'indoorHum_MDH_indoorAtmo-outdoorAtmo_mean_multyply', 'MDH_indoorAtmo_medi_indoorAtmo-outdoorAtmo_multyply', 'outdoorAtmo_indoorHum_ratio', 'outdoorHum_200_bin_indoorHum_std', 'outdoorHum_200_bin_indoorAtmo-outdoorAtmo_std', 'outdoorHum_MD_outdoorAtmo_diff_mean_subtract', 'MD_indoorAtmo_mean_indoorAtmo-outdoorAtmo_ratio', 'MDH_indoorHum-outdoorHum_medi_indoorAtmo_multyply', 'MDH_indoorHum_mean_MD_indoorAtmo-outdoorAtmo_medi_subtract', 'MDH_indoorAtmo_mean_MDH_indoorHum-outdoorHum_mean_ratio', 'MDH_indoorHum-outdoorHum_mean_MD_indoorHum-outdoorHum_mean_ratio', 'MDH_outdoorHum_mean_MD_indoorAtmo-outdoorAtmo_diff_medi_ratio', 'MDH_indoorHum_mean_MDH_outdoorAtmo_diff_medi_subtract', 'MD_indoorHum_mean_MDH_outdoorAtmo_diff_mean_subtract', 'MD_indoorAtmo_diff_mean_MD_indoorAtmo-outdoorAtmo_diff_medi_ratio', 'indoorHum_200_bin_outdoorHum_medi', 'MDH_indoorHum_medi_MD_outdoorHum_diff_mean_subtract', 'MDH_outdoorTemp_diff_medi_MD_indoorHum-outdoorHum_diff_medi_multyply', 'outdoorHum_200_bin_indoorAtmo-outdoorAtmo_min', 'indoorHum-outdoorHum_200_bin_outdoorTemp_sum', 'indoorHum-outdoorHum_100_bin', 'indoorHum-outdoorHum_MDH_indoorHum-outdoorHum_diff_medi_subtract', 'MDH_indoorHum_medi_MD_outdoorAtmo_medi_multyply', 'indoorAtmo-outdoorAtmo_50_bin_indoorHum_mean', 'outdoorHum_MDH_indoorHum_diff_medi_subtract', 'indoorHum-outdoorHum_MDH_outdoorHum_mean_ratio', 'indoorAtmo_20_bin_outdoorAtmo_sum', 'MD_indoorAtmo_diff_medi_MD_outdoorAtmo_diff_mean_multyply', 'MD_indoorHum_mean_MDH_outdoorTemp_diff_medi_ratio', 'MD_indoorAtmo_diff_medi_outdoorHum_multyply', 'indoorAtmo_50_bin_indoorHum-outdoorHum_mean', 'MD_outdoorHum_medi_MDH_indoorHum-outdoorHum_mean_multyply', 'indoorHum_200_bin_outdoorHum_mean', 'MD_outdoorHum_medi_MD_indoorHum-outdoorHum_mean_multyply', 'MD_indoorAtmo-outdoorAtmo_diff_medi_outdoorTemp_multyply', 'MDH_outdoorTemp_mean_MD_outdoorTemp_mean_multyply', 'outdoorHum_200_bin_indoorAtmo_medi', 'indoorHum_200_bin_indoorAtmo_std', 'MDH_indoorAtmo_mean_indoorAtmo-outdoorAtmo_ratio', 'MDH_indoorAtmo-outdoorAtmo_diff_mean_MDH_indoorAtmo_diff_mean_multyply', 'indoorHum_200_bin_indoorHum-outdoorHum_sum', 'MDH_indoorHum_mean_MD_indoorAtmo_diff_medi_subtract', 'MDH_indoorHum_mean_MD_outdoorHum_diff_medi_subtract', 'outdoorAtmo_50_bin_outdoorAtmo_max', 'MDH_outdoorTemp_medi_indoorAtmo-outdoorAtmo_multyply', 'MD_indoorAtmo-outdoorAtmo_diff_medi_MDH_indoorHum_medi_multyply', 'MDH_indoorHum_medi_MD_indoorHum_medi_ratio', 'MDH_indoorAtmo_mean_MD_indoorHum-outdoorHum_mean_multyply', 'indoorHum-outdoorHum_100_bin_indoorHum_sum', 'MD_indoorHum-outdoorHum_medi_MDH_indoorAtmo_mean_multyply', 'outdoorHum_MD_indoorAtmo-outdoorAtmo_diff_mean_subtract', 'indoorAtmo-outdoorAtmo_20_bin_indoorAtmo_sum', 'MD_outdoorAtmo_diff_medi_MDH_indoorHum-outdoorHum_diff_mean_ratio', 'outdoorTemp_MDH_outdoorTemp_medi_subtract', 'MD_indoorAtmo-outdoorAtmo_diff_medi_MDH_indoorAtmo-outdoorAtmo_medi_ratio', 'indoorHum_20_bin_outdoorHum_max', 'MDH_outdoorHum_mean_MD_indoorHum-outdoorHum_mean_multyply', 'indoorHum-outdoorHum_50_bin_indoorHum-outdoorHum_medi', 'outdoorHum_200_bin_outdoorAtmo_std', 'outdoorHum_MDH_outdoorTemp_diff_medi_subtract', 'MD_indoorAtmo-outdoorAtmo_mean_indoorAtmo-outdoorAtmo_ratio', 'MD_indoorAtmo_diff_medi_MD_outdoorAtmo_diff_medi_multyply', 'outdoorHum_MD_outdoorHum_mean_subtract', 'indoorHum_MDH_outdoorHum_mean_subtract', 'MD_outdoorAtmo_medi_MDH_outdoorTemp_diff_medi_ratio', 'outdoorHum_MD_outdoorAtmo_diff_medi_subtract', 'MDH_indoorHum-outdoorHum_mean_MD_indoorHum-outdoorHum_diff_mean_subtract', 'MDH_indoorAtmo_mean_MDH_indoorHum-outdoorHum_mean_multyply', 'MD_indoorAtmo_diff_mean_MD_outdoorAtmo_diff_medi_ratio', 'indoorAtmo-outdoorAtmo_MD_outdoorAtmo_medi_ratio', 'MD_indoorHum-outdoorHum_medi_MD_indoorAtmo_diff_medi_ratio', 'MD_indoorAtmo-outdoorAtmo_diff_medi_MD_indoorAtmo_diff_medi_multyply', 'MDH_indoorHum_medi_MD_indoorHum-outdoorHum_medi_multyply', 'MDH_outdoorTemp_mean_MD_outdoorTemp_mean_subtract', 'indoorAtmo-outdoorAtmo_MD_indoorAtmo_mean_multyply', 'MD_outdoorAtmo_diff_mean_MD_indoorAtmo-outdoorAtmo_diff_medi_ratio', 'MDH_indoorHum_mean_MD_outdoorAtmo_mean_multyply', 'MDH_indoorHum-outdoorHum_mean_MDH_indoorAtmo-outdoorAtmo_medi_ratio', 'outdoorTemp_MDH_outdoorTemp_mean_subtract', 'MDH_outdoorTemp_diff_medi_MD_outdoorHum_mean_multyply', 'MD_indoorAtmo_diff_medi_MD_outdoorTemp_medi_multyply', 'MDH_outdoorHum_mean_MD_indoorAtmo-outdoorAtmo_diff_medi_subtract', 'outdoorHum_MDH_outdoorHum_mean_ratio', 'MDH_indoorHum_mean_MDH_outdoorAtmo_medi_multyply', 'outdoorHum_20_bin_outdoorHum_medi', 'outdoorHum_20_bin_indoorHum_medi', 'MD_indoorAtmo_diff_medi_MDH_indoorAtmo-outdoorAtmo_diff_mean_multyply', 'indoorHum_MDH_indoorHum-outdoorHum_mean_subtract', 'indoorHum_MDH_outdoorAtmo_mean_multyply', 'indoorAtmo-outdoorAtmo_MDH_outdoorHum_mean_ratio', 'MD_indoorAtmo-outdoorAtmo_diff_medi_MDH_indoorAtmo_medi_ratio', 'MDH_outdoorTemp_diff_medi_MDH_indoorHum_mean_ratio', 'MDH_outdoorTemp_diff_medi_MD_indoorHum_diff_mean_multyply', 'MDH_indoorAtmo_medi_MDH_indoorHum_mean_multyply', 'outdoorAtmo_MD_outdoorAtmo_mean_multyply', 'MD_indoorHum-outdoorHum_medi_MDH_indoorHum-outdoorHum_diff_mean_subtract', 'indoorHum_100_bin_indoorHum_min', 'indoorHum-outdoorHum_100_bin_indoorAtmo-outdoorAtmo_sum', 'MD_indoorHum-outdoorHum_medi_MDH_indoorAtmo_medi_multyply', 'indoorAtmo-outdoorAtmo_MDH_indoorAtmo_diff_medi_subtract', 'MDH_indoorHum_medi_indoorAtmo_ratio', 'MD_indoorAtmo_medi_MD_indoorHum-outdoorHum_mean_ratio', 'MD_indoorAtmo-outdoorAtmo_diff_medi_MDH_indoorHum-outdoorHum_medi_multyply', 'MD_outdoorTemp_medi_MDH_indoorHum-outdoorHum_mean_multyply', 'MD_indoorHum-outdoorHum_mean_MDH_indoorHum_diff_medi_subtract', 'MDH_indoorHum_mean_MDH_outdoorAtmo_medi_ratio', 'indoorAtmo-outdoorAtmo_50_bin_outdoorAtmo_mean', 'MD_indoorAtmo_diff_medi_MDH_outdoorAtmo_medi_ratio', 'MDH_indoorHum-outdoorHum_medi_MD_indoorHum-outdoorHum_diff_mean_subtract', 'indoorAtmo-outdoorAtmo_MD_indoorAtmo-outdoorAtmo_medi_subtract', 'MDH_indoorAtmo_mean_MD_indoorAtmo_diff_mean_subtract', 'indoorAtmo-outdoorAtmo_MD_outdoorTemp_diff_medi_subtract', 'MDH_indoorHum_diff_mean_MD_indoorAtmo_diff_medi_multyply', 'MD_indoorAtmo-outdoorAtmo_diff_medi_MDH_indoorHum_mean_multyply', 'MDH_outdoorTemp_diff_medi_outdoorAtmo_multyply', 'MD_indoorHum_mean_MD_outdoorHum_medi_ratio', 'MD_indoorHum-outdoorHum_medi_MD_indoorHum-outdoorHum_diff_medi_subtract', 'indoorHum-outdoorHum_50_bin_indoorHum-outdoorHum_max', 'outdoorHum_MDH_indoorAtmo_mean_multyply', 'MDH_outdoorTemp_diff_medi_outdoorTemp_ratio', 'MD_indoorAtmo-outdoorAtmo_diff_medi_MDH_outdoorTemp_medi_ratio', 'indoorAtmo_50_bin', 'outdoorHum_100_bin_indoorHum_max', 'MDH_indoorHum_medi_MDH_outdoorAtmo_medi_multyply', 'MDH_indoorHum-outdoorHum_mean_MD_outdoorAtmo_mean_ratio', 'indoorHum-outdoorHum_indoorAtmo_ratio', 'MDH_indoorAtmo_diff_medi_MD_outdoorAtmo_diff_medi_ratio', 'indoorAtmo_20_bin_outdoorHum_skew', 'indoorHum_50_bin_outdoorTemp_min', 'MDH_outdoorAtmo_mean_outdoorHum_multyply', 'MDH_outdoorHum_medi_MD_outdoorAtmo_diff_medi_subtract', 'MDH_indoorAtmo-outdoorAtmo_medi_MD_indoorAtmo-outdoorAtmo_diff_medi_ratio', 'outdoorAtmo_MD_indoorHum-outdoorHum_mean_multyply', 'indoorHum-outdoorHum_50_bin_indoorHum_skew', 'MDH_indoorHum_medi_MDH_indoorAtmo_mean_multyply', 'indoorAtmo-outdoorAtmo_MDH_indoorHum-outdoorHum_diff_medi_subtract', 'MD_outdoorAtmo_mean_outdoorHum_ratio', 'MDH_indoorHum-outdoorHum_mean_MD_outdoorTemp_mean_multyply', 'indoorHum-outdoorHum_100_bin_indoorHum_max', 'MD_outdoorAtmo_mean_MDH_indoorHum_diff_medi_subtract', 'outdoorHum_200_bin_outdoorTemp_skew', 'MD_indoorAtmo-outdoorAtmo_diff_medi_MDH_outdoorHum_medi_ratio', 'MDH_indoorHum-outdoorHum_medi_MDH_outdoorHum_mean_multyply', 'MDH_indoorHum_medi_MD_indoorHum-outdoorHum_diff_medi_subtract', 'outdoorTemp_indoorHum_subtract', 'MD_indoorAtmo_medi_MDH_indoorHum_medi_ratio', 'MD_outdoorHum_mean_MDH_indoorHum_mean_subtract', 'MD_indoorHum_mean_MD_indoorAtmo-outdoorAtmo_diff_medi_ratio', 'outdoorTemp_MDH_indoorHum_mean_subtract', 'outdoorHum_MD_outdoorHum_mean_multyply', 'MDH_indoorHum_medi_MDH_outdoorHum_medi_multyply', 'MDH_outdoorTemp_diff_medi_MD_indoorAtmo-outdoorAtmo_medi_ratio', 'MDH_outdoorHum_mean_MD_indoorAtmo_medi_multyply', 'MDH_indoorHum-outdoorHum_mean_indoorAtmo-outdoorAtmo_multyply', 'indoorAtmo_50_bin_outdoorHum_std', 'MDH_outdoorTemp_medi_MDH_outdoorTemp_diff_medi_ratio', 'MDH_outdoorHum_medi_MD_indoorHum_medi_multyply', 'MD_indoorAtmo-outdoorAtmo_mean_MD_indoorAtmo-outdoorAtmo_diff_medi_subtract', 'MD_outdoorHum_mean_MD_indoorAtmo_mean_ratio', 'MDH_indoorHum_medi_MD_outdoorAtmo_mean_ratio', 'MDH_indoorHum_medi_MDH_indoorHum-outdoorHum_medi_multyply', 'MD_indoorAtmo_diff_medi_MDH_indoorHum-outdoorHum_medi_multyply', 'MDH_outdoorHum_medi_MDH_indoorHum-outdoorHum_medi_ratio', 'MD_outdoorTemp_mean_MD_indoorHum-outdoorHum_medi_ratio', 'MDH_indoorHum_medi_MD_indoorAtmo_medi_multyply', 'MDH_indoorHum-outdoorHum_mean_MDH_outdoorTemp_medi_ratio', 'indoorHum-outdoorHum_200_bin_indoorHum-outdoorHum_max', 'MD_outdoorAtmo_mean_MDH_indoorHum_medi_subtract', 'indoorAtmo-outdoorAtmo_50_bin_indoorHum_min', 'MDH_indoorHum_mean_MD_indoorHum_mean_multyply', 'MD_indoorAtmo-outdoorAtmo_diff_medi_MD_indoorAtmo_mean_multyply', 'indoorHum_MD_outdoorAtmo_mean_multyply', 'MDH_indoorHum-outdoorHum_mean_MDH_outdoorAtmo_medi_ratio', 'indoorAtmo_outdoorHum_multyply', 'MD_indoorAtmo_diff_medi_MD_outdoorTemp_mean_multyply', 'MDH_outdoorHum_mean_MDH_outdoorAtmo_mean_ratio', 'MDH_indoorHum-outdoorHum_mean_outdoorTemp_multyply', 'MD_indoorHum-outdoorHum_medi_indoorHum_multyply', 'MDH_outdoorHum_mean_MD_outdoorAtmo_diff_medi_subtract', 'indoorHum-outdoorHum_20_bin_indoorHum_min', 'indoorAtmo-outdoorAtmo_MDH_outdoorHum_mean_subtract', 'MD_outdoorAtmo_diff_medi_MD_indoorAtmo-outdoorAtmo_mean_ratio', 'outdoorAtmo_MDH_outdoorHum_medi_ratio', 'MD_indoorAtmo_medi_outdoorHum_ratio', 'MDH_indoorHum_mean_MDH_outdoorHum_diff_medi_subtract', 'MD_indoorHum_medi_MDH_indoorAtmo_mean_multyply', 'MDH_indoorHum-outdoorHum_mean_MDH_indoorHum-outdoorHum_diff_medi_subtract', 'MD_indoorAtmo_diff_medi_MDH_indoorAtmo_mean_multyply', 'MDH_indoorHum_mean_MD_outdoorAtmo_medi_multyply', 'indoorHum_200_bin_indoorAtmo_skew', 'MDH_indoorHum-outdoorHum_medi_MD_outdoorHum_diff_medi_subtract', 'MD_outdoorAtmo_diff_medi_MDH_outdoorAtmo_diff_medi_ratio', 'indoorAtmo_20_bin', 'indoorHum-outdoorHum_MD_outdoorTemp_mean_ratio', 'MD_outdoorTemp_medi_MD_indoorAtmo_diff_medi_ratio', 'MD_outdoorAtmo_mean_MDH_indoorHum-outdoorHum_medi_ratio', 'MD_indoorAtmo_diff_medi_MDH_indoorAtmo-outdoorAtmo_diff_medi_ratio', 'MD_indoorHum_medi_MDH_outdoorTemp_diff_medi_ratio', 'MD_outdoorHum_medi_indoorAtmo-outdoorAtmo_ratio', 'MD_indoorAtmo_medi_indoorHum_multyply', 'MD_indoorAtmo_diff_medi_outdoorHum_ratio', 'MDH_outdoorHum_mean_indoorAtmo_multyply', 'MDH_indoorAtmo_mean_outdoorHum_multyply', 'outdoorHum_50_bin_indoorHum_medi', 'indoorHum_MDH_outdoorHum_medi_ratio', 'MDH_outdoorHum_mean_outdoorAtmo_ratio', 'indoorHum-outdoorHum_MD_indoorHum-outdoorHum_diff_medi_multyply', 'MD_indoorAtmo_diff_medi_MD_outdoorTemp_diff_medi_multyply', 'MD_indoorAtmo_diff_medi_MDH_indoorAtmo-outdoorAtmo_diff_mean_ratio', 'indoorHum-outdoorHum_MD_outdoorHum_mean_multyply', 'indoorAtmo_MD_outdoorHum_mean_subtract', 'MD_indoorAtmo-outdoorAtmo_diff_medi_MD_outdoorHum_diff_mean_multyply', 'MD_outdoorAtmo_medi_MDH_indoorHum-outdoorHum_mean_multyply', 'indoorAtmo-outdoorAtmo_100_bin', 'MDH_indoorHum-outdoorHum_medi_MDH_outdoorAtmo_mean_ratio', 'MD_indoorHum-outdoorHum_medi_MD_outdoorHum_mean_multyply', 'MDH_outdoorAtmo_mean_MDH_outdoorHum_medi_multyply', 'outdoorHum_50_bin_outdoorHum_min', 'MDH_outdoorHum_medi_MD_indoorHum-outdoorHum_medi_subtract', 'MD_outdoorHum_mean_MDH_indoorHum_medi_subtract', 'indoorHum_100_bin_indoorAtmo_medi', 'MDH_outdoorTemp_diff_medi_MD_outdoorAtmo_medi_ratio', 'MDH_indoorHum-outdoorHum_mean_MDH_outdoorAtmo_medi_multyply', 'outdoorHum_50_bin_outdoorTemp_medi', 'outdoorHum_200_bin_indoorAtmo_max', 'MDH_outdoorTemp_diff_medi_MDH_outdoorHum_medi_multyply', 'MD_indoorAtmo-outdoorAtmo_diff_medi_MDH_outdoorAtmo_diff_mean_ratio', 'indoorHum-outdoorHum_MD_outdoorTemp_medi_multyply', 'indoorAtmo-outdoorAtmo_50_bin_outdoorAtmo_sum', 'MD_indoorHum-outdoorHum_mean_MDH_outdoorTemp_medi_ratio', 'indoorHum-outdoorHum_200_bin_outdoorAtmo_max', 'MD_indoorHum-outdoorHum_mean_MD_indoorAtmo_diff_medi_ratio', 'MDH_outdoorHum_mean_MDH_indoorHum-outdoorHum_mean_ratio', 'MD_indoorAtmo-outdoorAtmo_medi_MDH_indoorAtmo-outdoorAtmo_mean_multyply', 'MDH_outdoorHum_mean_MD_indoorHum_medi_multyply', 'outdoorHum_20_bin_outdoorTemp_min', 'MD_indoorHum-outdoorHum_medi_outdoorTemp_multyply', 'MDH_indoorAtmo_mean_MDH_outdoorAtmo_mean_ratio', 'MD_outdoorHum_mean_MDH_outdoorHum_diff_medi_subtract', 'MD_outdoorHum_mean_MD_outdoorHum_medi_ratio', 'MD_indoorAtmo_medi_MDH_indoorHum_mean_ratio', 'MDH_indoorHum-outdoorHum_mean_MD_indoorAtmo-outdoorAtmo_diff_mean_subtract', 'indoorHum-outdoorHum_100_bin_indoorHum-outdoorHum_skew', 'indoorAtmo_50_bin_indoorHum-outdoorHum_sum', 'MDH_indoorHum_mean_MD_indoorAtmo-outdoorAtmo_diff_mean_subtract', 'MDH_indoorAtmo-outdoorAtmo_medi_MDH_outdoorTemp_diff_medi_ratio', 'MDH_indoorHum_mean_MD_indoorAtmo-outdoorAtmo_mean_subtract', 'MD_outdoorHum_medi_MD_outdoorTemp_diff_mean_subtract', 'indoorHum-outdoorHum_100_bin_indoorHum-outdoorHum_min', 'MDH_indoorHum-outdoorHum_mean_MD_indoorAtmo-outdoorAtmo_mean_multyply', 'MD_outdoorHum_medi_MDH_indoorHum_medi_ratio', 'MDH_indoorHum-outdoorHum_medi_MDH_indoorAtmo_mean_multyply', 'MD_outdoorHum_mean_MD_indoorAtmo-outdoorAtmo_diff_medi_ratio', 'indoorHum-outdoorHum_MD_indoorHum_mean_ratio', 'MD_indoorAtmo_medi_MDH_indoorHum-outdoorHum_mean_ratio', 'indoorAtmo_MD_indoorHum_mean_subtract', 'outdoorHum_MD_indoorHum_diff_medi_subtract', 'outdoorAtmo_MDH_outdoorHum_medi_subtract', 'indoorHum-outdoorHum_MDH_indoorAtmo-outdoorAtmo_medi_subtract', 'MDH_indoorHum_mean_MD_outdoorTemp_diff_mean_subtract', 'MD_indoorHum_mean_MDH_outdoorTemp_diff_medi_subtract', 'MDH_indoorHum-outdoorHum_medi_MD_indoorHum_diff_mean_subtract', 'indoorAtmo-outdoorAtmo_MD_indoorHum-outdoorHum_diff_medi_multyply', 'outdoorHum_MD_indoorHum-outdoorHum_diff_mean_subtract', 'indoorAtmo_50_bin_outdoorHum_sum', 'MD_indoorHum-outdoorHum_mean_MD_outdoorTemp_medi_ratio', 'indoorHum_MD_outdoorAtmo_medi_multyply', 'MDH_outdoorHum_medi_MD_outdoorHum_mean_multyply', 'MDH_indoorHum-outdoorHum_mean_MD_indoorHum_diff_mean_subtract', 'outdoorTemp_200_bin_outdoorHum_std', 'MDH_indoorHum-outdoorHum_mean_indoorAtmo-outdoorAtmo_ratio', 'MDH_indoorHum_mean_MDH_outdoorHum_medi_multyply', 'MDH_outdoorAtmo_medi_indoorAtmo-outdoorAtmo_ratio', 'outdoorHum_200_bin_indoorHum-outdoorHum_skew', 'outdoorHum_100_bin_indoorHum-outdoorHum_mean', 'MDH_indoorAtmo-outdoorAtmo_medi_MD_indoorHum-outdoorHum_medi_ratio', 'indoorHum-outdoorHum_100_bin_indoorHum_medi', 'MDH_indoorHum_medi_MDH_outdoorTemp_diff_medi_subtract', 'MDH_indoorAtmo_medi_MDH_outdoorHum_mean_multyply', 'MD_indoorHum_medi_MD_indoorHum-outdoorHum_medi_ratio', 'MD_indoorAtmo-outdoorAtmo_diff_medi_MD_indoorHum_medi_multyply', 'MDH_indoorHum_mean_MDH_indoorHum-outdoorHum_medi_multyply', 'MD_outdoorAtmo_medi_MDH_indoorHum_mean_ratio', 'indoorHum-outdoorHum_200_bin_indoorHum_mean', 'MDH_outdoorHum_mean_MDH_indoorAtmo_mean_multyply', 'outdoorHum_100_bin_outdoorTemp_min', 'MDH_indoorHum_medi_MDH_outdoorTemp_diff_mean_subtract', 'indoorHum-outdoorHum_50_bin_indoorHum_sum', 'MDH_outdoorAtmo_medi_indoorHum-outdoorHum_multyply', 'MDH_outdoorHum_mean_MD_outdoorHum_diff_medi_subtract', 'indoorHum-outdoorHum_MD_indoorHum-outdoorHum_diff_medi_subtract', 'MDH_indoorHum-outdoorHum_mean_outdoorHum_ratio', 'indoorAtmo-outdoorAtmo_200_bin_indoorAtmo_mean', 'MDH_outdoorHum_medi_MD_indoorHum-outdoorHum_diff_mean_subtract', 'MD_indoorHum-outdoorHum_medi_MD_indoorAtmo-outdoorAtmo_diff_medi_ratio', 'MDH_outdoorHum_medi_MD_outdoorTemp_diff_medi_subtract', 'indoorHum_MD_outdoorHum_medi_ratio', 'indoorAtmo-outdoorAtmo_200_bin_outdoorAtmo_sum', 'indoorHum-outdoorHum_MD_outdoorAtmo_diff_mean_subtract', 'MD_outdoorAtmo_medi_MD_indoorAtmo_diff_medi_ratio', 'MDH_outdoorTemp_diff_medi_MD_outdoorHum_medi_ratio', 'MDH_outdoorHum_mean_MDH_indoorAtmo_diff_medi_subtract', 'MDH_outdoorHum_medi_MD_outdoorHum_medi_ratio', 'MD_indoorAtmo_diff_medi_MD_indoorHum_mean_multyply', 'indoorHum-outdoorHum_MD_outdoorTemp_mean_multyply', 'MD_indoorAtmo_diff_medi_MDH_indoorHum-outdoorHum_mean_ratio', 'MDH_indoorAtmo_medi_MDH_indoorHum-outdoorHum_medi_ratio', 'MDH_indoorHum_mean_MDH_outdoorTemp_diff_mean_subtract', 'MD_outdoorHum_mean_indoorHum_multyply', 'MD_outdoorAtmo_diff_medi_MDH_indoorAtmo-outdoorAtmo_diff_medi_multyply', 'outdoorAtmo_indoorHum-outdoorHum_ratio', 'MDH_outdoorHum_mean_MDH_outdoorTemp_diff_mean_subtract', 'indoorHum_MDH_indoorHum_medi_ratio', 'indoorHum-outdoorHum_50_bin_outdoorTemp_medi', 'indoorHum-outdoorHum_100_bin_outdoorTemp_medi', 'indoorHum-outdoorHum_100_bin_indoorAtmo-outdoorAtmo_medi', 'indoorHum_200_bin_indoorAtmo-outdoorAtmo_min', 'MDH_indoorHum-outdoorHum_medi_indoorHum-outdoorHum_ratio', 'indoorHum-outdoorHum_20_bin_indoorHum_sum', 'MD_indoorHum-outdoorHum_medi_MDH_indoorHum-outdoorHum_medi_ratio', 'MDH_outdoorHum_medi_MDH_outdoorAtmo_medi_ratio', 'indoorAtmo_MDH_indoorHum_mean_multyply', 'MD_indoorHum_mean_MD_indoorAtmo_mean_multyply', 'MDH_outdoorTemp_diff_medi_MD_outdoorTemp_mean_ratio', 'indoorHum-outdoorHum_MDH_outdoorTemp_medi_multyply', 'outdoorHum_200_bin_indoorAtmo_min', 'MD_indoorAtmo_diff_medi_MDH_indoorAtmo_mean_ratio', 'MDH_indoorAtmo_mean_MD_indoorHum-outdoorHum_mean_subtract', 'MD_outdoorTemp_medi_indoorAtmo-outdoorAtmo_multyply', 'MDH_indoorAtmo_mean_MD_outdoorAtmo_diff_medi_subtract', 'MD_indoorAtmo_diff_medi_indoorHum_ratio', 'indoorHum_MD_outdoorAtmo_mean_subtract', 'outdoorHum_MDH_indoorAtmo_diff_mean_subtract', 'indoorAtmo_MD_indoorHum_medi_subtract', 'MDH_outdoorHum_medi_MDH_indoorAtmo_medi_ratio', 'indoorHum_200_bin_indoorAtmo_sum', 'outdoorHum_MDH_outdoorAtmo_mean_multyply', 'indoorAtmo_indoorAtmo-outdoorAtmo_multyply', 'MD_indoorAtmo-outdoorAtmo_medi_MD_indoorAtmo_diff_medi_ratio', 'MD_indoorHum_medi_MD_indoorAtmo_mean_multyply', 'indoorHum-outdoorHum_100_bin_outdoorTemp_std', 'MD_indoorAtmo-outdoorAtmo_diff_medi_MD_indoorHum_mean_ratio', 'MDH_indoorHum-outdoorHum_mean_outdoorAtmo_multyply', 'MD_indoorHum_medi_MDH_indoorHum_medi_multyply', 'MD_outdoorAtmo_diff_medi_MDH_indoorAtmo-outdoorAtmo_mean_ratio', 'MDH_indoorHum-outdoorHum_medi_MD_outdoorTemp_diff_mean_subtract', 'MD_outdoorAtmo_medi_MDH_outdoorHum_mean_ratio', 'outdoorAtmo_MDH_indoorHum-outdoorHum_medi_multyply', 'MD_indoorAtmo_mean_MDH_indoorHum_mean_ratio', 'MDH_outdoorTemp_diff_medi_MD_outdoorTemp_diff_medi_multyply', 'MD_indoorAtmo-outdoorAtmo_diff_medi_MDH_indoorAtmo_diff_mean_ratio', 'MDH_indoorHum_medi_MDH_indoorHum_mean_ratio', 'indoorAtmo_MDH_outdoorTemp_diff_medi_ratio', 'MDH_indoorHum-outdoorHum_mean_MDH_indoorAtmo_mean_multyply', 'MD_indoorHum_mean_MDH_indoorHum-outdoorHum_mean_subtract', 'MD_indoorAtmo_diff_medi_MDH_outdoorAtmo_mean_multyply', 'MDH_outdoorHum_mean_MDH_indoorHum-outdoorHum_medi_ratio', 'outdoorAtmo_50_bin_outdoorAtmo_min', 'indoorHum_50_bin_indoorAtmo_sum', 'MDH_outdoorHum_mean_indoorHum_multyply', 'MD_outdoorHum_mean_MD_indoorHum-outdoorHum_medi_multyply', 'MD_indoorHum_mean_MD_outdoorAtmo_mean_multyply', 'MDH_outdoorAtmo_medi_outdoorHum_ratio', 'MDH_indoorHum_mean_MD_indoorAtmo_diff_medi_ratio', 'MDH_indoorHum_mean_MD_outdoorHum_medi_ratio', 'MD_indoorAtmo-outdoorAtmo_diff_medi_MDH_indoorHum-outdoorHum_diff_mean_ratio', 'MD_indoorAtmo_diff_medi_MDH_indoorHum_mean_ratio', 'MD_indoorAtmo-outdoorAtmo_diff_medi_MDH_outdoorAtmo_mean_multyply', 'MD_outdoorHum_medi_MDH_indoorHum_mean_subtract', 'indoorHum_3D_rolling_std', 'MD_indoorAtmo-outdoorAtmo_diff_medi_MD_indoorHum-outdoorHum_mean_multyply', 'indoorHum-outdoorHum_20_bin_outdoorAtmo_mean', 'MDH_indoorHum-outdoorHum_mean_MDH_indoorHum-outdoorHum_medi_ratio', 'indoorHum_MD_outdoorHum_diff_mean_subtract', 'MD_indoorHum_medi_MD_indoorHum_diff_medi_subtract', 'MD_indoorAtmo_medi_MDH_outdoorHum_mean_multyply', 'indoorHum_indoorHum-outdoorHum_ratio', 'MD_outdoorAtmo_diff_medi_MDH_indoorHum-outdoorHum_diff_mean_multyply', 'MDH_indoorHum-outdoorHum_medi_indoorAtmo-outdoorAtmo_ratio', 'MD_indoorHum-outdoorHum_medi_MD_indoorAtmo_mean_ratio', 'indoorAtmo-outdoorAtmo_MD_outdoorHum_mean_ratio', 'MDH_indoorHum-outdoorHum_mean_MDH_indoorAtmo-outdoorAtmo_mean_subtract', 'MDH_indoorHum-outdoorHum_mean_MDH_indoorAtmo-outdoorAtmo_diff_mean_subtract', 'indoorHum-outdoorHum_MD_indoorHum_mean_subtract', 'indoorHum-outdoorHum_200_bin_indoorAtmo-outdoorAtmo_max', 'MDH_outdoorAtmo_mean_MDH_outdoorHum_mean_ratio', 'indoorHum_50_bin_indoorHum_sum', 'MDH_outdoorHum_medi_MDH_indoorHum_medi_ratio', 'MD_outdoorAtmo_mean_MDH_indoorHum-outdoorHum_mean_ratio', 'indoorAtmo-outdoorAtmo_outdoorTemp_multyply', 'indoorHum-outdoorHum_100_bin_indoorAtmo_min', 'MD_outdoorHum_medi_MDH_indoorAtmo_mean_ratio', 'MDH_outdoorAtmo_medi_indoorHum_ratio', 'MDH_outdoorTemp_diff_medi_MD_outdoorAtmo_medi_multyply', 'indoorAtmo-outdoorAtmo_50_bin_indoorAtmo-outdoorAtmo_mean', 'indoorHum-outdoorHum_20_bin_indoorHum_skew', 'indoorHum_100_bin_indoorHum_mean', 'indoorHum_50_bin_indoorHum-outdoorHum_mean', 'MD_indoorAtmo_diff_medi_MD_outdoorAtmo_medi_ratio', 'indoorHum_MD_outdoorHum_mean_ratio', 'MD_indoorHum-outdoorHum_mean_MDH_indoorHum_medi_multyply', 'indoorAtmo_200_bin_indoorAtmo-outdoorAtmo_medi', 'MDH_indoorAtmo-outdoorAtmo_mean_MD_indoorAtmo-outdoorAtmo_medi_multyply', 'indoorAtmo-outdoorAtmo_MDH_indoorAtmo-outdoorAtmo_diff_mean_subtract', 'MDH_indoorHum_mean_MDH_indoorHum_diff_mean_subtract', 'MDH_outdoorHum_mean_MDH_indoorAtmo_mean_ratio', 'MDH_indoorAtmo-outdoorAtmo_diff_mean_MDH_indoorHum_diff_mean_multyply', 'indoorAtmo-outdoorAtmo_MD_outdoorHum_medi_ratio', 'MD_outdoorAtmo_mean_MDH_indoorHum-outdoorHum_medi_multyply', 'indoorAtmo-outdoorAtmo_MDH_indoorHum-outdoorHum_medi_subtract', 'MD_outdoorAtmo_mean_MD_indoorHum-outdoorHum_mean_multyply', 'MD_indoorHum-outdoorHum_medi_MDH_outdoorAtmo_mean_ratio', 'indoorHum-outdoorHum_MDH_indoorHum_mean_multyply', 'indoorHum_MDH_outdoorAtmo_mean_ratio', 'MD_outdoorHum_medi_indoorHum-outdoorHum_multyply', 'MD_outdoorHum_mean_MDH_indoorHum-outdoorHum_medi_ratio', 'outdoorHum_MDH_indoorAtmo_mean_ratio', 'MD_indoorAtmo_diff_medi_MDH_outdoorAtmo_diff_mean_ratio', 'MD_indoorAtmo-outdoorAtmo_diff_medi_MD_indoorAtmo-outdoorAtmo_mean_multyply', 'MD_indoorAtmo-outdoorAtmo_diff_medi_MD_indoorHum-outdoorHum_medi_ratio', 'MD_outdoorHum_mean_MDH_outdoorHum_mean_ratio', 'indoorAtmo-outdoorAtmo_100_bin_indoorAtmo-outdoorAtmo_max', 'MDH_outdoorHum_medi_MDH_indoorAtmo_mean_multyply', 'MDH_indoorHum-outdoorHum_mean_MDH_indoorAtmo-outdoorAtmo_medi_subtract', 'MD_indoorAtmo-outdoorAtmo_diff_medi_MD_outdoorHum_diff_medi_multyply', 'MD_indoorAtmo-outdoorAtmo_diff_medi_MD_outdoorHum_medi_multyply', 'MDH_outdoorTemp_diff_medi_MD_indoorHum_medi_multyply', 'indoorHum-outdoorHum_100_bin_indoorHum_skew', 'MDH_indoorHum-outdoorHum_mean_MD_indoorAtmo_mean_ratio', 'MD_outdoorAtmo_diff_medi_MD_outdoorHum_diff_mean_multyply', 'MDH_outdoorTemp_mean_MD_outdoorTemp_medi_subtract', 'outdoorHum_50_bin_outdoorTemp_mean', 'indoorAtmo-outdoorAtmo_20_bin_indoorHum_mean', 'MD_outdoorHum_medi_indoorAtmo-outdoorAtmo_multyply', 'MDH_indoorHum-outdoorHum_medi_MDH_indoorAtmo_mean_ratio', 'outdoorHum_MD_indoorHum-outdoorHum_medi_subtract', 'MD_indoorAtmo-outdoorAtmo_diff_medi_outdoorAtmo_ratio', 'indoorAtmo-outdoorAtmo_100_bin_outdoorAtmo_sum', 'indoorAtmo_MD_indoorHum-outdoorHum_mean_multyply', 'MD_indoorAtmo-outdoorAtmo_diff_medi_outdoorAtmo_multyply', 'MDH_indoorHum-outdoorHum_mean_MD_outdoorTemp_medi_multyply', 'indoorAtmo-outdoorAtmo_100_bin_indoorAtmo-outdoorAtmo_medi', 'indoorHum-outdoorHum_200_bin_outdoorAtmo_skew', 'MDH_outdoorHum_diff_medi_MD_indoorAtmo_diff_medi_subtract', 'MD_indoorAtmo_diff_medi_MDH_indoorHum-outdoorHum_diff_mean_ratio', 'MDH_indoorHum_medi_MD_outdoorTemp_diff_medi_subtract', 'indoorAtmo-outdoorAtmo_MDH_outdoorTemp_medi_multyply', 'MD_indoorHum-outdoorHum_mean_indoorAtmo-outdoorAtmo_ratio'}\n"
     ]
    }
   ],
   "source": [
    "col_corr = correlation(x_train, 0.98)\n",
    "print(col_corr)"
   ]
  },
  {
   "cell_type": "code",
   "execution_count": 39,
   "metadata": {
    "ExecuteTime": {
     "end_time": "2020-08-07T01:27:02.761126Z",
     "start_time": "2020-08-07T01:27:02.512764Z"
    }
   },
   "outputs": [],
   "source": [
    "x_train.drop(list(col_corr), axis=1, inplace=True)\n",
    "x_test.drop(list(col_corr), axis=1, inplace=True)"
   ]
  },
  {
   "cell_type": "code",
   "execution_count": 40,
   "metadata": {
    "ExecuteTime": {
     "end_time": "2020-08-07T01:50:45.926376Z",
     "start_time": "2020-08-07T01:27:02.762098Z"
    }
   },
   "outputs": [
    {
     "name": "stdout",
     "output_type": "stream",
     "text": [
      "[0]\ttrain-rmse:1.00052\teval-rmse:0.41800\n",
      "Multiple eval metrics have been passed: 'eval-rmse' will be used for early stopping.\n",
      "\n",
      "Will train until eval-rmse hasn't improved in 1000 rounds.\n",
      "[500]\ttrain-rmse:0.06485\teval-rmse:0.18130\n",
      "[1000]\ttrain-rmse:0.04748\teval-rmse:0.17904\n",
      "[1500]\ttrain-rmse:0.03846\teval-rmse:0.17895\n",
      "[2000]\ttrain-rmse:0.03219\teval-rmse:0.17879\n",
      "[2500]\ttrain-rmse:0.02752\teval-rmse:0.17887\n",
      "Stopping. Best iteration:\n",
      "[1828]\ttrain-rmse:0.03411\teval-rmse:0.17872\n",
      "\n"
     ]
    }
   ],
   "source": [
    "nums = int(x_train.shape[0] * 0.8)\n",
    "\n",
    "trn_x, trn_y, val_x, val_y = x_train[:nums], y_train[:nums], x_train[nums:], y_train[nums:]\n",
    "\n",
    "train_matrix = xgb.DMatrix(trn_x, label=trn_y, missing=np.nan)\n",
    "valid_matrix = xgb.DMatrix(val_x, label=val_y, missing=np.nan)\n",
    "train_all_matrix = xgb.DMatrix(x_train, y_train, missing=np.nan)\n",
    "test_matrix = xgb.DMatrix(x_test, label=val_y, missing=np.nan)\n",
    "\n",
    "params = {\n",
    "    'booster': 'gbtree',\n",
    "    'eval_metric': 'rmse',\n",
    "    'min_child_weight': 5,\n",
    "    'max_depth': 8,\n",
    "    'subsample': 0.5,\n",
    "    'colsample_bytree': 0.5,\n",
    "    'eta': 0.01,\n",
    "    'seed': 2020,\n",
    "    'nthread': 36,\n",
    "    'silent': 1\n",
    "}\n",
    "\n",
    "watchlist = [(train_matrix, 'train'), (valid_matrix, 'eval')]\n",
    "\n",
    "model_eval = xgb.train(params,\n",
    "                       train_matrix,\n",
    "                       num_boost_round=50000,\n",
    "                       evals=watchlist,\n",
    "                       verbose_eval=500,\n",
    "                       early_stopping_rounds=1000)\n",
    "val_pred = model_eval.predict(valid_matrix, ntree_limit=model_eval.best_ntree_limit).reshape(-1, 1)"
   ]
  },
  {
   "cell_type": "code",
   "execution_count": 41,
   "metadata": {
    "ExecuteTime": {
     "end_time": "2020-08-07T01:50:45.937871Z",
     "start_time": "2020-08-07T01:50:45.929369Z"
    }
   },
   "outputs": [
    {
     "name": "stdout",
     "output_type": "stream",
     "text": [
      "mse_score: 0.03193901899096151\n",
      "mse_score: 03193\n"
     ]
    }
   ],
   "source": [
    "mse = mean_squared_error(val_y, val_pred)\n",
    "print(\"mse_score:\", mse)\n",
    "print(\"mse_score:\", str(mse)[2:7])"
   ]
  },
  {
   "cell_type": "code",
   "execution_count": 42,
   "metadata": {
    "ExecuteTime": {
     "end_time": "2020-08-07T01:50:50.363952Z",
     "start_time": "2020-08-07T01:50:45.940848Z"
    }
   },
   "outputs": [],
   "source": [
    "feat_imp_dict = model_eval.get_score(importance_type='gain')"
   ]
  },
  {
   "cell_type": "code",
   "execution_count": 43,
   "metadata": {
    "ExecuteTime": {
     "end_time": "2020-08-07T01:50:50.380882Z",
     "start_time": "2020-08-07T01:50:50.364898Z"
    }
   },
   "outputs": [
    {
     "name": "stdout",
     "output_type": "stream",
     "text": [
      "['indoorHum-outdoorHum_MDH_indoorAtmo-outdoorAtmo_mean_subtract', 'MDH_indoorHum-outdoorHum_medi_MD_indoorAtmo-outdoorAtmo_mean_multyply', 'outdoorHum_MDH_outdoorAtmo_mean_subtract', 'MDH_indoorHum-outdoorHum_diff_mean_MDH_indoorAtmo-outdoorAtmo_diff_mean_multyply', 'indoorHum_50_bin_indoorAtmo_max', 'MD_outdoorTemp_diff_mean_MDH_indoorHum_diff_mean_multyply', 'MDH_indoorHum_diff_mean_MDH_outdoorTemp_diff_mean_multyply', 'outdoorTemp_20_bin_outdoorAtmo_skew', 'MD_indoorHum_diff_mean_MDH_outdoorTemp_diff_mean_multyply', 'MDH_outdoorHum_diff_mean_MDH_outdoorAtmo_diff_mean_multyply', 'outdoorTemp_200_bin_outdoorTemp_skew', 'outdoorAtmo_50_bin', 'MDH_indoorAtmo_diff_mean_MDH_outdoorHum_diff_mean_multyply', 'MDH_outdoorHum_diff_mean_MD_outdoorAtmo_diff_mean_multyply', 'outdoorTemp_100_bin_outdoorAtmo_skew', 'outdoorHum_50_bin_indoorAtmo-outdoorAtmo_skew', 'MDH_outdoorTemp_diff_sum', 'MDH_outdoorAtmo_diff_mean_MD_outdoorTemp_diff_mean_multyply', 'outdoorTemp_100_bin_indoorAtmo-outdoorAtmo_max', 'MDH_indoorAtmo_diff_mean_MD_outdoorTemp_diff_mean_multyply', 'MD_outdoorHum_mean_MDH_indoorAtmo_medi_subtract', 'MDH_indoorAtmo_diff_mean_MDH_outdoorTemp_diff_mean_multyply', 'MD_outdoorTemp_diff_mean_MDH_indoorHum-outdoorHum_diff_mean_multyply', 'indoorAtmo_expanding_max', 'MD_indoorHum_medi_indoorAtmo_multyply', 'MDH_indoorHum_diff_mean_MDH_outdoorHum_diff_mean_multyply', 'MDH_outdoorHum_diff_mean_MDH_indoorAtmo-outdoorAtmo_diff_mean_multyply', 'MDH_outdoorTemp_diff_mean_MDH_outdoorAtmo_diff_mean_multyply', 'MDH_outdoorAtmo_diff_mean_MDH_indoorHum_diff_mean_multyply', 'MDH_indoorHum-outdoorHum_diff_mean_MD_indoorHum_diff_mean_multyply', 'MDH_indoorAtmo-outdoorAtmo_diff_mean_MD_indoorHum_diff_mean_multyply', 'outdoorHum_diff_expanding_skew', 'MDH_indoorHum-outdoorHum_medi_MD_indoorHum-outdoorHum_medi_subtract', 'outdoorTemp_50_bin_outdoorTemp_skew', 'indoorHum_20_bin_indoorHum-outdoorHum_skew', 'MDH_outdoorAtmo_diff_mean_MD_indoorHum-outdoorHum_diff_mean_multyply', 'outdoorHum_20_bin_indoorAtmo-outdoorAtmo_skew', 'MD_outdoorHum_diff_mean_MDH_outdoorTemp_diff_mean_multyply', 'outdoorTemp_20_bin_indoorAtmo-outdoorAtmo_std', 'MDH_outdoorTemp_diff_mean_MD_indoorHum_diff_mean_multyply', 'MDH_outdoorTemp_diff_mean_MDH_indoorHum-outdoorHum_diff_mean_multyply', 'MDH_indoorHum-outdoorHum_medi_MD_indoorHum-outdoorHum_mean_multyply', 'outdoorTemp_50_bin_indoorAtmo-outdoorAtmo_sum', 'outdoorHum_20_bin_outdoorAtmo_std', 'MD_outdoorHum_medi_indoorHum_multyply', 'indoorHum_20_bin_outdoorAtmo_min', 'MDH_outdoorAtmo_diff_medi_MDH_indoorAtmo-outdoorAtmo_diff_mean_ratio', 'MD_indoorAtmo-outdoorAtmo_diff_mean_MDH_indoorHum-outdoorHum_diff_mean_multyply', 'indoorHum_50_bin_indoorAtmo_mean', 'MDH_outdoorTemp_diff_medi', 'indoorHum_50_bin_outdoorAtmo_medi', 'outdoorHum_20_bin_indoorAtmo-outdoorAtmo_max', 'MD_indoorHum-outdoorHum_diff_mean_MDH_indoorAtmo-outdoorAtmo_diff_mean_multyply', 'outdoorHum_MD_outdoorHum_medi_multyply', 'outdoorHum_50_bin_indoorAtmo-outdoorAtmo_mean', 'MDH_indoorAtmo_diff_sum', 'MDH_indoorAtmo_diff_mean_MDH_indoorHum_diff_mean_multyply', 'MD_indoorHum-outdoorHum_diff_mean_MDH_outdoorTemp_diff_mean_multyply', 'indoorHum-outdoorHum_1D_rolling_median', 'MDH_outdoorHum_diff_mean_MDH_indoorAtmo_diff_mean_multyply', 'MD_outdoorHum_medi_MDH_indoorAtmo_mean_subtract', 'MD_outdoorTemp_diff_mean_MDH_outdoorHum_diff_mean_multyply', 'outdoorHum_50_bin_outdoorTemp_std', 'outdoorHum_20_bin_outdoorTemp_sum', 'indoorHum_20_bin_outdoorAtmo_skew', 'MDH_outdoorHum_medi_outdoorHum_multyply', 'indoorHum_20_bin_indoorHum-outdoorHum_sum', 'outdoorHum_100_bin_indoorAtmo-outdoorAtmo_max', 'indoorHum-outdoorHum_3D_rolling_min', 'outdoorHum_20_bin_indoorAtmo-outdoorAtmo_sum', 'MD_outdoorAtmo_diff_mean_MDH_indoorHum-outdoorHum_diff_mean_multyply', 'MDH_outdoorAtmo_diff_mean_MD_outdoorHum_diff_mean_multyply', 'outdoorTemp_50_bin_indoorHum-outdoorHum_skew', 'indoorHum_20_bin_outdoorTemp_std', 'MD_indoorAtmo-outdoorAtmo_diff_mean_MDH_outdoorAtmo_diff_mean_multyply', 'indoorHum_MDH_indoorHum_medi_subtract', 'outdoorTemp_50_bin_indoorAtmo-outdoorAtmo_max', 'indoorHum-outdoorHum_20_bin_outdoorHum_min', 'outdoorTemp_50_bin_outdoorAtmo_std', 'MD_indoorHum-outdoorHum_mean_MDH_indoorAtmo-outdoorAtmo_mean_ratio', 'indoorHum_diff_3D_rolling_sum', 'indoorHum_diff_3D_rolling_skew', 'MDH_indoorHum-outdoorHum_diff_mean_MDH_indoorAtmo_diff_mean_multyply', 'MDH_indoorAtmo-outdoorAtmo_mean_MD_indoorAtmo-outdoorAtmo_mean_subtract', 'MDH_outdoorAtmo_diff_mean_MDH_indoorAtmo_diff_mean_multyply', 'MDH_outdoorHum_diff_mean_MDH_indoorHum-outdoorHum_diff_mean_multyply', 'MD_indoorAtmo-outdoorAtmo_diff_mean_MDH_indoorAtmo-outdoorAtmo_diff_mean_multyply', 'indoorHum_20_bin_outdoorTemp_skew', 'outdoorHum_20_bin_outdoorAtmo_min', 'MD_indoorAtmo-outdoorAtmo_mean_indoorHum-outdoorHum_multyply', 'MDH_outdoorTemp_diff_mean_MD_outdoorHum_diff_mean_multyply', 'outdoorTemp_100_bin_indoorHum-outdoorHum_skew', 'MD_indoorAtmo_diff_mean_MDH_indoorAtmo_diff_mean_multyply', 'indoorHum_100_bin_outdoorAtmo_mean', 'outdoorHum_MDH_outdoorHum_medi_subtract', 'MD_outdoorTemp_diff_mean_MDH_indoorAtmo_diff_mean_multyply', 'MD_outdoorTemp_diff_mean_MDH_indoorAtmo-outdoorAtmo_diff_mean_multyply', 'indoorHum_20_bin_indoorAtmo-outdoorAtmo_sum', 'outdoorHum_20_bin_indoorAtmo_min', 'MD_outdoorHum_medi_MD_indoorHum_medi_multyply', 'indoorHum_20_bin_indoorAtmo-outdoorAtmo_std', 'outdoorHum_3D_rolling_mean', 'outdoorHum_50_bin_indoorHum_max', 'MD_outdoorAtmo_diff_mean_MDH_indoorAtmo_diff_mean_multyply', 'MDH_indoorHum_diff_mean_MDH_indoorAtmo-outdoorAtmo_diff_mean_multyply', 'MDH_outdoorTemp_diff_mean_MDH_indoorHum_diff_mean_multyply', 'MD_indoorHum-outdoorHum_medi_MDH_indoorAtmo-outdoorAtmo_medi_multyply', 'MD_indoorHum-outdoorHum_medi_MDH_indoorHum-outdoorHum_mean_multyply', 'indoorAtmo-outdoorAtmo_expanding_median', 'MDH_indoorHum-outdoorHum_medi_MD_indoorHum-outdoorHum_mean_subtract', 'MDH_outdoorAtmo_diff_mean_MD_indoorHum_diff_mean_multyply', 'outdoorHum_100_bin_outdoorHum_sum', 'indoorHum-outdoorHum_20_bin_outdoorTemp_std', 'indoorHum_20_bin_indoorHum_std', 'MD_outdoorHum_diff_mean_MDH_indoorAtmo_diff_mean_multyply', 'outdoorHum_MDH_outdoorHum_mean_subtract', 'outdoorHum_20_bin_indoorHum_skew', 'outdoorHum_100_bin_indoorHum-outdoorHum_min', 'indoorAtmo_100_bin_indoorAtmo_std', 'outdoorHum_50_bin_indoorHum-outdoorHum_min', 'MDH_indoorAtmo-outdoorAtmo_diff_sum', 'outdoorHum_MDH_outdoorHum_mean_multyply', 'indoorHum_MDH_indoorHum_mean_multyply', 'MD_indoorHum-outdoorHum_diff_mean_MDH_indoorAtmo_diff_mean_multyply', 'indoorHum_50_bin_outdoorHum_sum', 'MDH_indoorHum-outdoorHum_diff_mean_MDH_outdoorTemp_diff_mean_multyply', 'indoorAtmo_100_bin_indoorHum-outdoorHum_sum', 'MD_indoorHum_medi_outdoorAtmo_multyply', 'indoorHum_50_bin_outdoorTemp_std', 'MDH_indoorHum_diff_mean_MD_outdoorAtmo_diff_mean_multyply', 'outdoorHum_100_bin_outdoorAtmo_max', 'indoorHum_20_bin_indoorHum-outdoorHum_min', 'indoorHum_MDH_indoorHum_mean_subtract', 'outdoorTemp_diff_3D_rolling_sum', 'MD_indoorHum-outdoorHum_diff_mean_MDH_indoorHum-outdoorHum_diff_mean_multyply', 'indoorAtmo_200_bin_indoorAtmo-outdoorAtmo_std', 'indoorHum_100_bin_indoorHum-outdoorHum_sum', 'indoorHum_20_bin_indoorAtmo-outdoorAtmo_skew', 'indoorHum-outdoorHum_50_bin_outdoorAtmo_max', 'MDH_indoorAtmo-outdoorAtmo_diff_mean_MDH_outdoorAtmo_diff_mean_multyply', 'outdoorHum_50_bin_outdoorAtmo_min', 'outdoorAtmo_MD_indoorHum_medi_multyply', 'indoorHum-outdoorHum_20_bin_outdoorAtmo_min', 'outdoorAtmo_100_bin_outdoorHum_min', 'MDH_indoorHum_diff_mean_MDH_outdoorAtmo_diff_mean_multyply', 'indoorAtmo-outdoorAtmo_50_bin_indoorAtmo_min', 'outdoorHum_3D_rolling_std', 'outdoorHum_50_bin_indoorAtmo_mean', 'outdoorTemp_50_bin_outdoorAtmo_skew', 'outdoorTemp_diff_expanding_mean', 'outdoorHum_20_bin_outdoorTemp_std', 'indoorHum_20_bin_indoorHum-outdoorHum_max', 'MDH_outdoorAtmo_diff_mean_MD_indoorAtmo_diff_mean_multyply', 'indoorHum-outdoorHum_3D_rolling_median', 'indoorHum_100_bin_indoorAtmo-outdoorAtmo_medi', 'MDH_indoorHum-outdoorHum_medi_indoorHum-outdoorHum_multyply', 'MDH_outdoorTemp_diff_mean_MDH_indoorAtmo_diff_mean_multyply', 'MDH_outdoorAtmo_diff_mean_MDH_indoorAtmo-outdoorAtmo_diff_mean_multyply', 'MD_indoorHum-outdoorHum_diff_mean_MDH_outdoorAtmo_diff_mean_multyply', 'MDH_indoorAtmo-outdoorAtmo_diff_mean_MD_indoorAtmo_diff_mean_multyply', 'outdoorTemp_50_bin_indoorAtmo-outdoorAtmo_mean', 'outdoorHum_20_bin_indoorAtmo_max', 'indoorAtmo_100_bin_indoorHum-outdoorHum_max', 'indoorHum-outdoorHum_MD_indoorHum-outdoorHum_mean_subtract', 'indoorAtmo_2D_rolling_mean', 'outdoorHum_50_bin_indoorAtmo_max', 'indoorHum_20_bin_indoorAtmo_mean', 'indoorHum-outdoorHum_MDH_indoorAtmo-outdoorAtmo_mean_ratio', 'outdoorAtmo_50_bin_outdoorAtmo_std', 'outdoorHum_100_bin_indoorAtmo_std', 'MDH_indoorAtmo-outdoorAtmo_mean_MD_indoorHum-outdoorHum_medi_multyply', 'indoorHum_100_bin_indoorAtmo_mean', 'outdoorHum_20_bin_outdoorTemp_skew', 'indoorHum_diff_expanding_mean', 'MDH_outdoorTemp_diff_medi_MD_indoorAtmo-outdoorAtmo_diff_medi_subtract', 'indoorHum-outdoorHum_2D_rolling_median', 'outdoorHum_diff_expanding_mean', 'outdoorHum_50_bin_indoorAtmo-outdoorAtmo_sum', 'MD_indoorAtmo_diff_mean_MDH_indoorHum-outdoorHum_diff_mean_multyply', 'outdoorHum_20_bin_indoorAtmo-outdoorAtmo_mean', 'indoorAtmo_diff_expanding_skew', 'outdoorHum_100_bin_indoorHum-outdoorHum_sum', 'outdoorTemp_diff_2D_rolling_sum', 'MDH_indoorAtmo-outdoorAtmo_diff_mean_MDH_indoorHum-outdoorHum_diff_mean_multyply', 'outdoorHum_20_bin_indoorAtmo-outdoorAtmo_std', 'indoorHum_50_bin_outdoorTemp_skew', 'outdoorTemp_diff_3D_rolling_skew', 'outdoorHum_100_bin_indoorAtmo_skew', 'indoorAtmo_100_bin_outdoorAtmo_std', 'indoorHum_20_bin_outdoorAtmo_std', 'indoorHum_50_bin_outdoorAtmo_skew', 'indoorHum_diff_2D_rolling_sum', 'MDH_indoorAtmo_diff_mean_MDH_indoorHum-outdoorHum_diff_mean_multyply', 'indoorHum_50_bin_indoorHum-outdoorHum_sum', 'outdoorHum_100_bin_indoorAtmo-outdoorAtmo_skew', 'outdoorHum_2D_rolling_mean', 'indoorHum_50_bin_indoorAtmo-outdoorAtmo_sum', 'outdoorAtmo_50_bin_outdoorTemp_sum', 'outdoorTemp_20_bin_indoorAtmo-outdoorAtmo_mean', 'outdoorTemp_diff_2D_rolling_skew', 'outdoorTemp_3D_rolling_std', 'indoorHum_50_bin_outdoorTemp_sum', 'outdoorHum_50_bin_outdoorHum_skew', 'outdoorHum_50_bin_outdoorAtmo_max', 'indoorHum_100_bin_outdoorAtmo_sum', 'indoorAtmo-outdoorAtmo_50_bin_outdoorTemp_max', 'indoorAtmo_3D_rolling_mean', 'indoorHum_20_bin_outdoorHum_std', 'outdoorTemp_20_bin_outdoorTemp_skew', 'indoorHum_100_bin_outdoorHum_std', 'MD_outdoorHum_medi_MDH_outdoorAtmo_mean_subtract', 'outdoorHum_50_bin_outdoorTemp_skew', 'outdoorAtmo_200_bin_outdoorHum_max', 'indoorAtmo-outdoorAtmo_MD_outdoorHum_mean_subtract', 'outdoorHum_diff_3D_rolling_sum', 'outdoorHum_50_bin_indoorHum_std', 'MD_indoorHum-outdoorHum_mean_MDH_indoorHum-outdoorHum_medi_multyply', 'indoorHum_100_bin_outdoorTemp_skew', 'indoorHum_50_bin_outdoorAtmo_min', 'outdoorAtmo_50_bin_indoorHum_std', 'outdoorHum_50_bin_indoorAtmo_min', 'indoorHum-outdoorHum_1D_rolling_mean', 'MDH_outdoorAtmo_diff_mean_MDH_indoorHum-outdoorHum_diff_mean_multyply', 'indoorHum_20_bin_indoorHum_skew', 'indoorHum_50_bin_indoorAtmo_skew', 'indoorHum-outdoorHum_diff_expanding_mean', 'indoorAtmo_diff_expanding_median', 'indoorHum_50_bin_indoorAtmo-outdoorAtmo_mean', 'indoorHum_50_bin_indoorAtmo-outdoorAtmo_std', 'outdoorHum_2D_rolling_std', 'outdoorHum_100_bin_outdoorTemp_std', 'indoorHum_100_bin_outdoorHum_sum', 'indoorHum_50_bin_indoorHum_std', 'indoorHum_20_bin_indoorAtmo_max', 'indoorAtmo-outdoorAtmo_3D_rolling_mean', 'outdoorHum_3D_rolling_skew', 'outdoorHum_50_bin_indoorAtmo_skew', 'indoorAtmo_100_bin_outdoorHum_max', 'MDH_outdoorTemp_diff_medi_MD_indoorHum-outdoorHum_medi_multyply', 'outdoorHum_50_bin_indoorAtmo-outdoorAtmo_max', 'outdoorHum_20_bin_outdoorHum_skew', 'indoorHum_50_bin_outdoorHum_skew', 'indoorHum-outdoorHum_3D_rolling_std', 'indoorHum_100_bin_indoorAtmo-outdoorAtmo_skew', 'outdoorHum_20_bin_indoorHum_max', 'outdoorHum_20_bin_indoorHum-outdoorHum_std', 'outdoorHum_100_bin_indoorAtmo-outdoorAtmo_mean', 'outdoorHum_50_bin_indoorAtmo_std', 'indoorHum_3D_rolling_skew', 'indoorHum_50_bin_outdoorHum_std', 'indoorHum_50_bin_indoorAtmo-outdoorAtmo_max', 'outdoorHum_100_bin_indoorAtmo_mean', 'min', 'outdoorHum_50_bin_indoorHum-outdoorHum_max', 'indoorHum_50_bin_outdoorAtmo_sum', 'indoorHum_50_bin_indoorHum_skew', 'MD_outdoorHum_mean_MD_outdoorAtmo_mean_subtract', 'outdoorAtmo_50_bin_outdoorTemp_medi', 'outdoorHum_100_bin_indoorAtmo_min', 'indoorHum-outdoorHum_3D_rolling_skew', 'indoorHum_100_bin_outdoorAtmo_skew', 'indoorAtmo_MDH_indoorAtmo_mean_ratio', 'outdoorHum_20_bin_indoorHum-outdoorHum_max', 'MD_outdoorHum_diff_mean_MDH_indoorHum-outdoorHum_diff_mean_multyply', 'outdoorHum_100_bin_indoorHum_std', 'indoorHum-outdoorHum_2D_rolling_std', 'outdoorTemp_2D_rolling_std', 'indoorAtmo-outdoorAtmo_20_bin_indoorHum-outdoorHum_max', 'indoorHum_100_bin_indoorAtmo-outdoorAtmo_max', 'indoorHum_20_bin_outdoorHum_sum', 'outdoorHum_20_bin_outdoorAtmo_skew', 'indoorHum_100_bin_indoorAtmo_min', 'indoorHum_50_bin_indoorHum-outdoorHum_medi', 'indoorHum_50_bin_indoorHum-outdoorHum_min', 'outdoorHum_20_bin_indoorHum-outdoorHum_sum', 'indoorHum_50_bin_indoorAtmo_std', 'outdoorHum_100_bin_indoorAtmo_max', 'outdoorTemp_MDH_outdoorTemp_diff_medi_ratio', 'indoorAtmo-outdoorAtmo_expanding_std', 'outdoorAtmo_200_bin_indoorHum_max', 'indoorHum_50_bin_indoorAtmo_min', 'outdoorHum_50_bin_indoorHum-outdoorHum_sum', 'indoorAtmo-outdoorAtmo_20_bin_indoorHum_max', 'outdoorAtmo_100_bin_outdoorHum_max', 'outdoorAtmo_diff_expanding_skew', 'indoorHum-outdoorHum_diff', 'outdoorHum_20_bin_indoorHum_std', 'outdoorHum_20_bin_indoorAtmo-outdoorAtmo_medi', 'indoorHum_100_bin_indoorAtmo-outdoorAtmo_std', 'outdoorHum_50_bin_outdoorHum_sum', 'indoorHum_100_bin_indoorAtmo-outdoorAtmo_sum', 'indoorHum-outdoorHum_50_bin_indoorAtmo-outdoorAtmo_medi', 'outdoorHum_100_bin_indoorAtmo-outdoorAtmo_sum', 'indoorHum_50_bin_indoorHum-outdoorHum_skew', 'indoorHum_50_bin_indoorAtmo-outdoorAtmo_skew', 'indoorHum_50_bin_indoorHum-outdoorHum_max', 'outdoorAtmo_100_bin_indoorHum-outdoorHum_min', 'indoorHum_50_bin_outdoorAtmo_std', 'indoorHum_50_bin_outdoorAtmo_max', 'outdoorAtmo_200_bin_indoorAtmo-outdoorAtmo_max', 'outdoorHum_100_bin_outdoorTemp_sum', 'outdoorAtmo_50_bin_indoorAtmo_skew', 'indoorHum-outdoorHum_diff_expanding_skew', 'indoorHum_100_bin_indoorHum-outdoorHum_skew', 'indoorAtmo_100_bin_outdoorAtmo_min', 'indoorHum_100_bin_outdoorAtmo_min', 'indoorAtmo_50_bin_outdoorTemp_sum', 'outdoorHum_diff_2D_rolling_sum', 'indoorHum_100_bin_outdoorAtmo_max', 'MD_indoorHum-outdoorHum_medi_MDH_indoorHum-outdoorHum_medi_multyply', 'outdoorAtmo_200_bin_indoorHum-outdoorHum_medi', 'outdoorHum_20_bin_indoorAtmo_std', 'indoorHum_100_bin_indoorAtmo-outdoorAtmo_min', 'outdoorAtmo_MDH_indoorAtmo_mean_ratio', 'outdoorHum_indoorAtmo_subtract', 'outdoorTemp_3D_rolling_skew', 'indoorHum_100_bin_indoorAtmo-outdoorAtmo_mean', 'outdoorAtmo_50_bin_outdoorTemp_max', 'indoorAtmo_diff_expanding_mean', 'outdoorAtmo_100_bin_outdoorAtmo_std', 'outdoorHum_100_bin_outdoorAtmo_min', 'indoorAtmo_100_bin_outdoorHum_std', 'indoorHum-outdoorHum_20_bin_outdoorAtmo_skew', 'indoorAtmo-outdoorAtmo_diff_expanding_skew', 'outdoorHum_diff_1D_rolling_sum', 'indoorHum-outdoorHum_20_bin_outdoorAtmo_std', 'outdoorAtmo_200_bin_outdoorTemp_min', 'outdoorHum_50_bin_indoorAtmo-outdoorAtmo_std', 'outdoorAtmo_50_bin_indoorAtmo_max', 'outdoorAtmo_200_bin_indoorHum-outdoorHum_min', 'outdoorHum_100_bin_indoorHum-outdoorHum_skew', 'outdoorHum_20_bin_outdoorHum_std', 'outdoorHum_50_bin_outdoorAtmo_skew', 'outdoorHum_100_bin_indoorAtmo-outdoorAtmo_std', 'outdoorHum_50_bin_outdoorTemp_sum', 'outdoorHum_100_bin_outdoorAtmo_std', 'outdoorAtmo_20_bin_indoorAtmo_skew', 'indoorAtmo-outdoorAtmo_50_bin_outdoorAtmo_skew', 'outdoorHum_50_bin_outdoorAtmo_sum', 'outdoorHum_50_bin_outdoorAtmo_std', 'MDH_outdoorTemp_diff_medi_MD_outdoorTemp_diff_mean_multyply', 'indoorAtmo-outdoorAtmo_20_bin_outdoorAtmo_min', 'outdoorHum_100_bin_outdoorAtmo_skew', 'outdoorHum_outdoorAtmo_subtract', 'indoorHum_100_bin_indoorHum-outdoorHum_max', 'outdoorAtmo_200_bin_outdoorHum_std', 'indoorAtmo-outdoorAtmo_MDH_indoorAtmo_mean_subtract', 'MDH_outdoorTemp_diff_medi_MD_indoorAtmo_diff_medi_subtract', 'indoorHum-outdoorHum_50_bin_outdoorTemp_skew', 'outdoorAtmo_MD_outdoorHum_medi_subtract', 'indoorAtmo-outdoorAtmo_20_bin_outdoorTemp_std', 'outdoorAtmo_50_bin_indoorAtmo-outdoorAtmo_std', 'indoorHum_100_bin_outdoorHum_skew', 'indoorHum_20_bin_indoorAtmo_skew', 'MDH_outdoorTemp_diff_medi_MDH_indoorHum-outdoorHum_medi_multyply', 'indoorHum_100_bin_indoorAtmo_skew', 'outdoorAtmo_100_bin_outdoorTemp_min', 'outdoorHum_100_bin_indoorHum-outdoorHum_max', 'indoorAtmo-outdoorAtmo_200_bin_indoorHum-outdoorHum_max', 'indoorHum-outdoorHum_MD_indoorHum-outdoorHum_medi_subtract', 'indoorAtmo-outdoorAtmo_diff_expanding_mean', 'outdoorHum_100_bin_indoorAtmo-outdoorAtmo_medi', 'indoorHum-outdoorHum_20_bin_indoorHum-outdoorHum_sum', 'indoorAtmo-outdoorAtmo_50_bin_outdoorTemp_std', 'outdoorHum_50_bin_indoorAtmo-outdoorAtmo_medi', 'indoorAtmo-outdoorAtmo_50_bin_indoorAtmo-outdoorAtmo_skew', 'indoorHum_100_bin_outdoorAtmo_std', 'indoorHum_50_bin_indoorAtmo-outdoorAtmo_min', 'indoorAtmo-outdoorAtmo_20_bin_outdoorHum_max', 'MD_indoorHum-outdoorHum_medi_indoorHum-outdoorHum_multyply', 'indoorAtmo-outdoorAtmo_20_bin_outdoorTemp_min', 'indoorHum-outdoorHum_20_bin_indoorHum-outdoorHum_skew', 'indoorHum-outdoorHum_20_bin_outdoorTemp_sum', 'MDH_outdoorTemp_diff_medi_MD_indoorAtmo-outdoorAtmo_diff_mean_multyply', 'MDH_outdoorTemp_diff_medi_MDH_outdoorHum_diff_mean_multyply', 'indoorHum-outdoorHum_20_bin_indoorAtmo-outdoorAtmo_skew', 'MD_indoorHum-outdoorHum_mean_indoorHum-outdoorHum_multyply', 'indoorHum_100_bin_indoorAtmo_std', 'indoorAtmo_diff_3D_rolling_sum', 'outdoorAtmo_50_bin_outdoorHum_sum', 'indoorHum-outdoorHum_50_bin_indoorAtmo-outdoorAtmo_max', 'outdoorHum_50_bin_indoorHum_skew', 'outdoorHum_50_bin_outdoorHum_std', 'indoorAtmo-outdoorAtmo_200_bin_indoorHum-outdoorHum_skew', 'indoorHum-outdoorHum_20_bin_indoorAtmo-outdoorAtmo_max', 'indoorHum-outdoorHum_diff_1D_rolling_sum', 'indoorAtmo-outdoorAtmo_200_bin_indoorHum-outdoorHum_std', 'indoorAtmo_diff_2D_rolling_sum', 'indoorHum-outdoorHum_20_bin_indoorAtmo_mean', 'outdoorHum_100_bin_indoorHum_skew', 'indoorHum-outdoorHum_diff_3D_rolling_sum', 'indoorHum-outdoorHum_20_bin_indoorAtmo-outdoorAtmo_medi', 'indoorHum-outdoorHum_20_bin_indoorAtmo_max', 'indoorAtmo-outdoorAtmo_20_bin', 'indoorAtmo-outdoorAtmo_200_bin_outdoorHum_max', 'indoorHum-outdoorHum_50_bin_indoorAtmo-outdoorAtmo_sum', 'indoorHum-outdoorHum_50_bin_indoorAtmo-outdoorAtmo_skew', 'outdoorAtmo_200_bin_outdoorAtmo_std', 'indoorAtmo-outdoorAtmo_50_bin_outdoorAtmo_max', 'indoorAtmo-outdoorAtmo_200_bin_outdoorTemp_max', 'indoorAtmo-outdoorAtmo_100_bin_indoorAtmo_min', 'indoorHum-outdoorHum_20_bin_indoorAtmo-outdoorAtmo_mean', 'indoorAtmo-outdoorAtmo_MD_indoorHum-outdoorHum_mean_ratio', 'indoorHum-outdoorHum_indoorAtmo-outdoorAtmo_subtract', 'indoorHum_20_bin_indoorAtmo-outdoorAtmo_min', 'outdoorHum_indoorAtmo-outdoorAtmo_subtract', 'indoorHum-outdoorHum_50_bin_indoorAtmo_max', 'indoorAtmo-outdoorAtmo_50_bin_outdoorHum_medi', 'indoorAtmo-outdoorAtmo_100_bin_outdoorAtmo_min', 'indoorAtmo-outdoorAtmo_200_bin_outdoorTemp_std', 'indoorAtmo-outdoorAtmo_MD_indoorHum-outdoorHum_medi_multyply', 'outdoorAtmo_50_bin_outdoorAtmo_sum', 'indoorAtmo_MDH_outdoorAtmo_medi_multyply', 'outdoorAtmo_20_bin_outdoorTemp_medi', 'indoorAtmo-outdoorAtmo_200_bin_indoorHum-outdoorHum_sum', 'indoorHum-outdoorHum_50_bin_indoorHum_max', 'indoorHum-outdoorHum_20_bin_outdoorTemp_max', 'indoorAtmo-outdoorAtmo_100_bin_indoorAtmo-outdoorAtmo_skew', 'indoorAtmo-outdoorAtmo_MDH_indoorHum-outdoorHum_medi_ratio', 'indoorHum-outdoorHum_diff_2D_rolling_sum', 'outdoorAtmo_50_bin_outdoorTemp_skew', 'indoorAtmo-outdoorAtmo_MDH_indoorHum-outdoorHum_medi_multyply', 'indoorAtmo-outdoorAtmo_200_bin_outdoorTemp_sum', 'indoorAtmo_20_bin_outdoorAtmo_std', 'indoorAtmo-outdoorAtmo_MD_indoorHum-outdoorHum_medi_ratio', 'indoorAtmo-outdoorAtmo_100_bin_outdoorTemp_max', 'MD_indoorHum-outdoorHum_medi_indoorAtmo-outdoorAtmo_multyply', 'MD_indoorAtmo-outdoorAtmo_mean_indoorAtmo-outdoorAtmo_multyply', 'outdoorAtmo_50_bin_indoorAtmo_std', 'MDH_outdoorAtmo_medi_outdoorAtmo_multyply', 'outdoorAtmo_50_bin_indoorAtmo-outdoorAtmo_min', 'indoorAtmo-outdoorAtmo_MD_indoorAtmo-outdoorAtmo_mean_multyply', 'indoorAtmo-outdoorAtmo_200_bin_indoorHum_max', 'indoorHum-outdoorHum_20_bin_outdoorHum_std', 'indoorAtmo-outdoorAtmo_50_bin_indoorHum-outdoorHum_skew', 'indoorAtmo-outdoorAtmo_100_bin_outdoorTemp_std', 'indoorAtmo-outdoorAtmo_MD_indoorAtmo-outdoorAtmo_medi_multyply', 'MDH_outdoorTemp_diff_medi_MD_outdoorAtmo_diff_mean_multyply', 'indoorAtmo-outdoorAtmo_20_bin_indoorAtmo-outdoorAtmo_std', 'indoorAtmo-outdoorAtmo_MD_indoorHum-outdoorHum_mean_multyply', 'outdoorAtmo_diff_3D_rolling_sum', 'indoorAtmo-outdoorAtmo_MDH_indoorAtmo-outdoorAtmo_medi_ratio', 'indoorAtmo-outdoorAtmo_MDH_indoorHum-outdoorHum_mean_multyply', 'outdoorAtmo_20_bin_indoorAtmo_min', 'indoorAtmo-outdoorAtmo_diff_2D_rolling_sum', 'indoorHum-outdoorHum_20_bin_indoorAtmo-outdoorAtmo_sum', 'indoorAtmo-outdoorAtmo_100_bin_outdoorHum_skew', 'MDH_indoorAtmo-outdoorAtmo_medi_indoorAtmo-outdoorAtmo_multyply', 'MDH_indoorHum-outdoorHum_medi_indoorAtmo-outdoorAtmo_multyply', 'indoorAtmo-outdoorAtmo_MD_indoorAtmo-outdoorAtmo_mean_ratio', 'indoorAtmo-outdoorAtmo_50_bin_indoorAtmo_skew', 'outdoorAtmo_diff_2D_rolling_sum', 'indoorAtmo-outdoorAtmo_200_bin_outdoorTemp_min', 'indoorAtmo-outdoorAtmo_100_bin_outdoorTemp_skew', 'indoorAtmo-outdoorAtmo_200_bin_outdoorAtmo_std', 'indoorAtmo-outdoorAtmo_100_bin_indoorHum_medi', 'indoorHum-outdoorHum_indoorAtmo-outdoorAtmo_multyply', 'MD_indoorHum-outdoorHum_mean_indoorAtmo-outdoorAtmo_multyply', 'indoorHum-outdoorHum_20_bin_indoorAtmo-outdoorAtmo_std', 'outdoorAtmo_20_bin_indoorAtmo-outdoorAtmo_sum', 'indoorAtmo_indoorAtmo-outdoorAtmo_ratio', 'indoorAtmo-outdoorAtmo_200_bin_indoorHum_medi', 'indoorAtmo-outdoorAtmo_50_bin_outdoorTemp_mean', 'indoorAtmo-outdoorAtmo_50_bin_outdoorHum_mean', 'indoorHum-outdoorHum_indoorAtmo-outdoorAtmo_ratio', 'indoorAtmo-outdoorAtmo_50_bin_outdoorAtmo_std', 'outdoorAtmo_MDH_outdoorAtmo_medi_multyply', 'outdoorAtmo_50_bin_indoorHum-outdoorHum_min', 'indoorAtmo-outdoorAtmo_200_bin_outdoorAtmo_min', 'indoorAtmo-outdoorAtmo_200_bin_outdoorAtmo_skew', 'indoorAtmo-outdoorAtmo_100_bin_outdoorAtmo_skew', 'indoorAtmo-outdoorAtmo_MDH_indoorAtmo-outdoorAtmo_medi_multyply', 'outdoorAtmo_200_bin_indoorAtmo-outdoorAtmo_min', 'indoorAtmo-outdoorAtmo_200_bin_indoorHum-outdoorHum_mean', 'indoorAtmo-outdoorAtmo_200_bin_indoorAtmo-outdoorAtmo_std', 'indoorAtmo-outdoorAtmo_100_bin_indoorAtmo-outdoorAtmo_sum', 'indoorAtmo-outdoorAtmo_diff_3D_rolling_sum', 'indoorAtmo-outdoorAtmo_20_bin_indoorHum-outdoorHum_skew', 'outdoorAtmo_indoorAtmo-outdoorAtmo_multyply', 'indoorAtmo_outdoorAtmo_multyply', 'indoorHum-outdoorHum_50_bin_indoorAtmo-outdoorAtmo_mean', 'indoorAtmo_20_bin_outdoorTemp_max', 'outdoorTemp_indoorAtmo-outdoorAtmo_multyply', 'indoorAtmo-outdoorAtmo_100_bin_indoorHum_max', 'outdoorAtmo_20_bin_outdoorAtmo_medi', 'indoorAtmo-outdoorAtmo_50_bin_indoorHum-outdoorHum_max', 'outdoorHum_indoorAtmo-outdoorAtmo_multyply', 'indoorAtmo-outdoorAtmo_indoorHum-outdoorHum_multyply', 'indoorAtmo-outdoorAtmo_outdoorAtmo_multyply', 'indoorAtmo-outdoorAtmo_20_bin_indoorAtmo_max', 'indoorAtmo-outdoorAtmo_200_bin_indoorHum_skew', 'indoorHum-outdoorHum_20_bin_indoorAtmo_skew', 'outdoorAtmo_20_bin_indoorHum-outdoorHum_min', 'outdoorHum_indoorAtmo-outdoorAtmo_ratio', 'indoorHum-outdoorHum_20_bin_indoorHum_max', 'indoorAtmo-outdoorAtmo_200_bin_outdoorTemp_skew', 'outdoorAtmo_indoorAtmo_multyply', 'indoorHum-outdoorHum_50_bin_indoorHum-outdoorHum_sum', 'indoorAtmo-outdoorAtmo_100_bin_indoorHum_std', 'indoorAtmo-outdoorAtmo_100_bin_indoorAtmo-outdoorAtmo_std', 'outdoorTemp_indoorAtmo-outdoorAtmo_ratio', 'indoorAtmo_50_bin_outdoorTemp_skew', 'indoorAtmo-outdoorAtmo_200_bin_indoorAtmo-outdoorAtmo_skew', 'indoorHum-outdoorHum_50_bin_indoorAtmo-outdoorAtmo_std', 'indoorAtmo-outdoorAtmo_100_bin_outdoorHum_medi', 'indoorAtmo-outdoorAtmo_200_bin_indoorAtmo_std', 'indoorAtmo-outdoorAtmo_50_bin_indoorAtmo-outdoorAtmo_std', 'indoorHum-outdoorHum_20_bin_indoorAtmo_std', 'indoorAtmo-outdoorAtmo_50_bin_outdoorAtmo_min', 'indoorAtmo_20_bin_outdoorTemp_medi', 'indoorHum-outdoorHum_20_bin_outdoorAtmo_max', 'indoorAtmo-outdoorAtmo_50_bin_outdoorHum_std', 'indoorAtmo_50_bin_outdoorAtmo_sum', 'indoorAtmo-outdoorAtmo_100_bin_indoorHum_skew', 'indoorAtmo-outdoorAtmo_100_bin_indoorHum-outdoorHum_std', 'indoorAtmo-outdoorAtmo_20_bin_outdoorTemp_max', 'indoorAtmo-outdoorAtmo_20_bin_indoorAtmo_medi', 'indoorAtmo-outdoorAtmo_indoorAtmo_multyply', 'indoorHum-outdoorHum_20_bin_indoorAtmo_min', 'indoorAtmo-outdoorAtmo_50_bin_indoorHum-outdoorHum_std', 'indoorHum-outdoorHum_50_bin_outdoorAtmo_std', 'indoorHum-outdoorHum_20_bin_indoorHum-outdoorHum_std', 'indoorAtmo-outdoorAtmo_100_bin_indoorHum-outdoorHum_skew', 'indoorAtmo_50_bin_indoorAtmo-outdoorAtmo_skew', 'indoorAtmo-outdoorAtmo_20_bin_indoorHum-outdoorHum_std', 'indoorAtmo-outdoorAtmo_100_bin_indoorHum-outdoorHum_mean', 'indoorAtmo-outdoorAtmo_200_bin_outdoorHum_skew', 'indoorAtmo-outdoorAtmo_50_bin_outdoorTemp_sum', 'indoorAtmo-outdoorAtmo_100_bin_outdoorTemp_mean', 'indoorAtmo-outdoorAtmo_100_bin_outdoorTemp_medi', 'indoorAtmo-outdoorAtmo_20_bin_outdoorAtmo_medi', 'indoorAtmo-outdoorAtmo', 'indoorAtmo-outdoorAtmo_20_bin_outdoorTemp_mean', 'outdoorAtmo_100_bin_indoorHum-outdoorHum_max', 'indoorAtmo-outdoorAtmo_200_bin_indoorHum-outdoorHum_medi', 'indoorAtmo-outdoorAtmo_50_bin_indoorAtmo_std', 'indoorAtmo-outdoorAtmo_50_bin_indoorHum_skew', 'outdoorHum_20_bin_indoorHum-outdoorHum_min', 'indoorAtmo-outdoorAtmo_200_bin_outdoorHum_mean', 'indoorAtmo-outdoorAtmo_100_bin_indoorAtmo_skew', 'indoorAtmo-outdoorAtmo_200_bin_outdoorTemp_medi', 'indoorAtmo-outdoorAtmo_50_bin_outdoorTemp_skew', 'indoorAtmo-outdoorAtmo_20_bin_outdoorTemp_skew', 'indoorAtmo_50_bin_indoorHum-outdoorHum_skew', 'indoorAtmo-outdoorAtmo_100_bin_outdoorAtmo_std', 'indoorHum-outdoorHum_20_bin_outdoorAtmo_sum', 'indoorAtmo-outdoorAtmo_200_bin_outdoorTemp_mean', 'indoorAtmo-outdoorAtmo_50_bin_indoorHum_max', 'indoorHum_20_bin_indoorHum-outdoorHum_medi', 'indoorAtmo-outdoorAtmo_50_bin_outdoorTemp_medi', 'outdoorAtmo_50_bin_indoorAtmo-outdoorAtmo_sum', 'indoorAtmo-outdoorAtmo_20_bin_outdoorTemp_medi', 'indoorAtmo-outdoorAtmo_200_bin_outdoorHum_medi', 'indoorAtmo_20_bin_outdoorHum_min', 'MDH_indoorHum-outdoorHum_medi_MDH_outdoorTemp_diff_medi_ratio', 'indoorAtmo-outdoorAtmo_200_bin_outdoorHum_std', 'outdoorAtmo_50_bin_indoorHum-outdoorHum_max', 'indoorAtmo-outdoorAtmo_50_bin_outdoorHum_skew', 'outdoorAtmo_50_bin_indoorHum-outdoorHum_sum', 'indoorAtmo-outdoorAtmo_20_bin_outdoorTemp_sum', 'indoorAtmo-outdoorAtmo_50_bin_outdoorHum_max', 'indoorAtmo-outdoorAtmo_20_bin_outdoorHum_std', 'indoorAtmo-outdoorAtmo_200_bin_outdoorHum_min', 'indoorAtmo-outdoorAtmo_20_bin_outdoorHum_skew', 'indoorAtmo-outdoorAtmo_100_bin_indoorAtmo_std', 'outdoorAtmo_50_bin_outdoorHum_min', 'indoorAtmo-outdoorAtmo_50_bin_indoorHum-outdoorHum_mean', 'indoorAtmo_20_bin_outdoorAtmo_max', 'indoorAtmo-outdoorAtmo_100_bin_outdoorTemp_min', 'indoorAtmo-outdoorAtmo_50_bin_outdoorTemp_min', 'indoorAtmo-outdoorAtmo_50_bin_indoorHum-outdoorHum_medi', 'indoorAtmo-outdoorAtmo_50_bin_indoorAtmo-outdoorAtmo_sum', 'indoorAtmo-outdoorAtmo_100_bin_indoorHum-outdoorHum_min', 'indoorAtmo_50_bin_outdoorTemp_min', 'indoorAtmo-outdoorAtmo_20_bin_outdoorHum_medi', 'indoorAtmo-outdoorAtmo_100_bin_outdoorHum_max', 'outdoorAtmo_50_bin_indoorAtmo_min', 'indoorAtmo-outdoorAtmo_50_bin_outdoorAtmo_medi', 'indoorAtmo-outdoorAtmo_100_bin_outdoorHum_mean', 'outdoorAtmo_50_bin_indoorHum-outdoorHum_skew', 'indoorAtmo-outdoorAtmo_50_bin_outdoorHum_min', 'indoorAtmo_100_bin_indoorAtmo-outdoorAtmo_max', 'outdoorAtmo_20_bin_outdoorAtmo_min', 'indoorAtmo-outdoorAtmo_100_bin_indoorHum-outdoorHum_sum', 'indoorAtmo_20_bin_outdoorTemp_sum', 'indoorAtmo-outdoorAtmo_20_bin_indoorHum_medi']\n"
     ]
    }
   ],
   "source": [
    "feat_imp = pd.Series(feat_imp_dict).sort_values(ascending=False).reset_index().rename(columns={'index': 'feature',\n",
    "                                                                                               0: 'importance'})\n",
    "feat_imp['normalized_importance'] = feat_imp['importance'] / feat_imp['importance'].sum()\n",
    "feat_imp['cumulative_importance'] = np.cumsum(feat_imp['normalized_importance'])\n",
    "record_low_importance = feat_imp[feat_imp['cumulative_importance'] > 0.95]\n",
    "\n",
    "to_drop = list(record_low_importance['feature'])\n",
    "print(to_drop)"
   ]
  },
  {
   "cell_type": "code",
   "execution_count": 44,
   "metadata": {
    "ExecuteTime": {
     "end_time": "2020-08-07T01:50:50.562879Z",
     "start_time": "2020-08-07T01:50:50.381853Z"
    }
   },
   "outputs": [],
   "source": [
    "x_train.drop(to_drop, axis=1, inplace=True)\n",
    "x_test.drop(to_drop, axis=1, inplace=True)"
   ]
  },
  {
   "cell_type": "code",
   "execution_count": 45,
   "metadata": {
    "ExecuteTime": {
     "end_time": "2020-08-07T02:04:08.966686Z",
     "start_time": "2020-08-07T01:50:50.563565Z"
    }
   },
   "outputs": [],
   "source": [
    "train_all_matrix = xgb.DMatrix(x_train, y_train, missing=np.nan)\n",
    "test_matrix = xgb.DMatrix(x_test, label=val_y, missing=np.nan)\n",
    "\n",
    "model = xgb.train(params,\n",
    "                  train_all_matrix,\n",
    "                  num_boost_round=model_eval.best_ntree_limit + 20)\n",
    "\n",
    "test_pred = model.predict(test_matrix, ntree_limit=model.best_ntree_limit).reshape(-1, 1)"
   ]
  },
  {
   "cell_type": "code",
   "execution_count": 46,
   "metadata": {
    "ExecuteTime": {
     "end_time": "2020-08-07T02:04:09.000610Z",
     "start_time": "2020-08-07T02:04:08.969679Z"
    }
   },
   "outputs": [],
   "source": [
    "sub['temperature'] = test_pred[:, 0] + test_df['outdoorTemp'].values\n",
    "sub.to_csv('../sub/sub_{}_{}.csv'.format(time.strftime('%Y%m%d'), str(mse)[2:7]), index=False)"
   ]
  }
 ],
 "metadata": {
  "kernelspec": {
   "display_name": "Python 3",
   "language": "python",
   "name": "python3"
  },
  "language_info": {
   "codemirror_mode": {
    "name": "ipython",
    "version": 3
   },
   "file_extension": ".py",
   "mimetype": "text/x-python",
   "name": "python",
   "nbconvert_exporter": "python",
   "pygments_lexer": "ipython3",
   "version": "3.7.3"
  },
  "toc": {
   "base_numbering": 1,
   "nav_menu": {},
   "number_sections": true,
   "sideBar": true,
   "skip_h1_title": false,
   "title_cell": "Table of Contents",
   "title_sidebar": "Contents",
   "toc_cell": false,
   "toc_position": {},
   "toc_section_display": true,
   "toc_window_display": false
  },
  "varInspector": {
   "cols": {
    "lenName": 16,
    "lenType": 16,
    "lenVar": 40
   },
   "kernels_config": {
    "python": {
     "delete_cmd_postfix": "",
     "delete_cmd_prefix": "del ",
     "library": "var_list.py",
     "varRefreshCmd": "print(var_dic_list())"
    },
    "r": {
     "delete_cmd_postfix": ") ",
     "delete_cmd_prefix": "rm(",
     "library": "var_list.r",
     "varRefreshCmd": "cat(var_dic_list()) "
    }
   },
   "types_to_exclude": [
    "module",
    "function",
    "builtin_function_or_method",
    "instance",
    "_Feature"
   ],
   "window_display": false
  }
 },
 "nbformat": 4,
 "nbformat_minor": 4
}
