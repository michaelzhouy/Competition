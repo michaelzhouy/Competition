{
 "cells": [
  {
   "cell_type": "code",
   "execution_count": 1,
   "metadata": {
    "ExecuteTime": {
     "end_time": "2020-08-06T11:01:31.173403Z",
     "start_time": "2020-08-06T11:01:29.649221Z"
    }
   },
   "outputs": [],
   "source": [
    "import numpy as np\n",
    "import pandas as pd\n",
    "from datetime import datetime\n",
    "import os\n",
    "import gc\n",
    "import xgboost as xgb\n",
    "import math\n",
    "from joblib import Parallel, delayed\n",
    "\n",
    "from tqdm import tqdm\n",
    "from sklearn.model_selection import StratifiedKFold, KFold\n",
    "from sklearn.metrics import mean_absolute_error, mean_squared_error\n",
    "import matplotlib.pyplot as plt\n",
    "import time\n",
    "import warnings\n",
    "\n",
    "warnings.filterwarnings('ignore')\n",
    "\n",
    "pd.set_option('max_columns', None)\n",
    "pd.set_option('max_rows', None)"
   ]
  },
  {
   "cell_type": "code",
   "execution_count": 2,
   "metadata": {
    "ExecuteTime": {
     "end_time": "2020-08-06T11:01:31.180384Z",
     "start_time": "2020-08-06T11:01:31.175430Z"
    }
   },
   "outputs": [],
   "source": [
    "def correlation(df, threshold=0.98):\n",
    "    \"\"\"\n",
    "    特征相关性计算\n",
    "    @param df: \n",
    "    @param threshold: \n",
    "    @return: \n",
    "    \"\"\"\n",
    "    col_corr = set()\n",
    "    corr_matrix = df.corr()\n",
    "    for i in range(len(corr_matrix.columns)):\n",
    "        for j in range(i):\n",
    "            if abs(corr_matrix.iloc[i, j]) > threshold:\n",
    "                colName = corr_matrix.columns[i]\n",
    "                col_corr.add(colName)\n",
    "    return col_corr"
   ]
  },
  {
   "cell_type": "code",
   "execution_count": 3,
   "metadata": {
    "ExecuteTime": {
     "end_time": "2020-08-06T11:01:31.656904Z",
     "start_time": "2020-08-06T11:01:31.182379Z"
    }
   },
   "outputs": [],
   "source": [
    "train_df = pd.read_hdf('../../input/train.h5')\n",
    "test_df = pd.read_hdf('../../input/test.h5')\n",
    "sub = pd.DataFrame(test_df['time'])"
   ]
  },
  {
   "cell_type": "code",
   "execution_count": 4,
   "metadata": {
    "ExecuteTime": {
     "end_time": "2020-08-06T11:01:31.703210Z",
     "start_time": "2020-08-06T11:01:31.657900Z"
    }
   },
   "outputs": [
    {
     "data": {
      "text/plain": [
       "64"
      ]
     },
     "execution_count": 4,
     "metadata": {},
     "output_type": "execute_result"
    }
   ],
   "source": [
    "train_df = train_df[train_df['temperature'].notnull()]\n",
    "train_df = train_df.fillna(method='bfill')\n",
    "test_df = test_df.fillna(method='bfill')\n",
    "gc.collect()"
   ]
  },
  {
   "cell_type": "code",
   "execution_count": 5,
   "metadata": {
    "ExecuteTime": {
     "end_time": "2020-08-06T11:01:31.712186Z",
     "start_time": "2020-08-06T11:01:31.706205Z"
    }
   },
   "outputs": [],
   "source": [
    "train_df.columns = ['time', 'year', 'month', 'day', 'hour', 'min', 'sec', 'outdoorTemp', 'outdoorHum', 'outdoorAtmo',\n",
    "                    'indoorHum', 'indoorAtmo', 'temperature']\n",
    "test_df.columns = ['time', 'year', 'month', 'day', 'hour', 'min', 'sec', 'outdoorTemp', 'outdoorHum', 'outdoorAtmo',\n",
    "                   'indoorHum', 'indoorAtmo']"
   ]
  },
  {
   "cell_type": "code",
   "execution_count": 6,
   "metadata": {
    "ExecuteTime": {
     "end_time": "2020-08-06T11:01:31.753117Z",
     "start_time": "2020-08-06T11:01:31.713183Z"
    }
   },
   "outputs": [
    {
     "data": {
      "text/plain": [
       "40"
      ]
     },
     "execution_count": 6,
     "metadata": {},
     "output_type": "execute_result"
    }
   ],
   "source": [
    "train_count = 24807\n",
    "y_train = train_df['temperature'].values - train_df['outdoorTemp'].values\n",
    "test_temp = test_df['outdoorTemp'].values\n",
    "\n",
    "del train_df, test_df\n",
    "gc.collect()"
   ]
  },
  {
   "cell_type": "code",
   "execution_count": 7,
   "metadata": {
    "ExecuteTime": {
     "end_time": "2020-08-06T11:01:31.980549Z",
     "start_time": "2020-08-06T11:01:31.756069Z"
    }
   },
   "outputs": [],
   "source": [
    "rolling = pd.read_hdf('../../input/features/rolling.h5')\n",
    "agg = pd.read_hdf('../../input/features/agg.h5')\n",
    "combine = pd.read_hdf('../../input/features/combine.h5')"
   ]
  },
  {
   "cell_type": "code",
   "execution_count": 8,
   "metadata": {
    "ExecuteTime": {
     "end_time": "2020-08-06T11:01:31.987682Z",
     "start_time": "2020-08-06T11:01:31.982503Z"
    }
   },
   "outputs": [
    {
     "name": "stdout",
     "output_type": "stream",
     "text": [
      "(25213, 62)\n",
      "(25213, 275)\n",
      "(25213, 148)\n"
     ]
    }
   ],
   "source": [
    "print(rolling.shape)\n",
    "print(agg.shape)\n",
    "print(combine.shape)"
   ]
  },
  {
   "cell_type": "code",
   "execution_count": 9,
   "metadata": {
    "ExecuteTime": {
     "end_time": "2020-08-06T11:01:32.529145Z",
     "start_time": "2020-08-06T11:01:31.988643Z"
    }
   },
   "outputs": [
    {
     "data": {
      "text/plain": [
       "0"
      ]
     },
     "execution_count": 9,
     "metadata": {},
     "output_type": "execute_result"
    }
   ],
   "source": [
    "data_df = pd.merge(rolling, agg, on='time')\n",
    "del rolling, agg\n",
    "gc.collect()\n",
    "\n",
    "data_df = pd.merge(data_df, combine, on='time')\n",
    "del combine\n",
    "gc.collect()"
   ]
  },
  {
   "cell_type": "code",
   "execution_count": 10,
   "metadata": {
    "ExecuteTime": {
     "end_time": "2020-08-06T11:01:32.801454Z",
     "start_time": "2020-08-06T11:01:32.530143Z"
    }
   },
   "outputs": [
    {
     "data": {
      "text/plain": [
       "20"
      ]
     },
     "execution_count": 10,
     "metadata": {},
     "output_type": "execute_result"
    }
   ],
   "source": [
    "train_df = data_df[:train_count].copy().reset_index(drop=True)\n",
    "test_df = data_df[train_count:].copy().reset_index(drop=True)\n",
    "\n",
    "del data_df\n",
    "gc.collect()"
   ]
  },
  {
   "cell_type": "code",
   "execution_count": 11,
   "metadata": {
    "ExecuteTime": {
     "end_time": "2020-08-06T11:01:32.895256Z",
     "start_time": "2020-08-06T11:01:32.802487Z"
    }
   },
   "outputs": [
    {
     "data": {
      "text/plain": [
       "20"
      ]
     },
     "execution_count": 11,
     "metadata": {},
     "output_type": "execute_result"
    }
   ],
   "source": [
    "drop_columns = ['time']\n",
    "\n",
    "x_train = train_df.drop(drop_columns, axis=1)\n",
    "x_test = test_df.drop(drop_columns, axis=1)\n",
    "\n",
    "del train_df, test_df\n",
    "gc.collect()"
   ]
  },
  {
   "cell_type": "code",
   "execution_count": 12,
   "metadata": {
    "ExecuteTime": {
     "end_time": "2020-08-06T11:01:46.544264Z",
     "start_time": "2020-08-06T11:01:32.896211Z"
    }
   },
   "outputs": [
    {
     "name": "stdout",
     "output_type": "stream",
     "text": [
      "{'indoorAtmo-outdoorAtmo_y', 'hour_y', 'min_y', 'month_y', 'indoorHum-outdoorHum_y', 'indoorHum_y'}\n"
     ]
    }
   ],
   "source": [
    "col_corr = correlation(x_train, 0.98)\n",
    "print(col_corr)"
   ]
  },
  {
   "cell_type": "code",
   "execution_count": 13,
   "metadata": {
    "ExecuteTime": {
     "end_time": "2020-08-06T11:01:46.549226Z",
     "start_time": "2020-08-06T11:01:46.545218Z"
    }
   },
   "outputs": [
    {
     "name": "stdout",
     "output_type": "stream",
     "text": [
      "6\n"
     ]
    }
   ],
   "source": [
    "print(len(col_corr))"
   ]
  },
  {
   "cell_type": "code",
   "execution_count": 14,
   "metadata": {
    "ExecuteTime": {
     "end_time": "2020-08-06T11:01:46.648515Z",
     "start_time": "2020-08-06T11:01:46.550277Z"
    }
   },
   "outputs": [
    {
     "data": {
      "text/plain": [
       "40"
      ]
     },
     "execution_count": 14,
     "metadata": {},
     "output_type": "execute_result"
    }
   ],
   "source": [
    "x_train.drop(list(col_corr), axis=1, inplace=True)\n",
    "x_test.drop(list(col_corr), axis=1, inplace=True)\n",
    "gc.collect()"
   ]
  },
  {
   "cell_type": "code",
   "execution_count": 15,
   "metadata": {
    "ExecuteTime": {
     "end_time": "2020-08-06T11:29:46.326471Z",
     "start_time": "2020-08-06T11:01:46.649512Z"
    }
   },
   "outputs": [
    {
     "name": "stdout",
     "output_type": "stream",
     "text": [
      "[0]\ttrain-mae:0.63441\teval-mae:0.33368\n",
      "Multiple eval metrics have been passed: 'eval-mae' will be used for early stopping.\n",
      "\n",
      "Will train until eval-mae hasn't improved in 1000 rounds.\n",
      "[500]\ttrain-mae:0.05305\teval-mae:0.16394\n",
      "[1000]\ttrain-mae:0.04030\teval-mae:0.16246\n",
      "[1500]\ttrain-mae:0.03351\teval-mae:0.16178\n",
      "[2000]\ttrain-mae:0.02870\teval-mae:0.16120\n",
      "[2500]\ttrain-mae:0.02498\teval-mae:0.16090\n",
      "[3000]\ttrain-mae:0.02203\teval-mae:0.16074\n",
      "[3500]\ttrain-mae:0.01970\teval-mae:0.16086\n",
      "[4000]\ttrain-mae:0.01778\teval-mae:0.16068\n",
      "[4500]\ttrain-mae:0.01615\teval-mae:0.16051\n",
      "[5000]\ttrain-mae:0.01474\teval-mae:0.16034\n",
      "[5500]\ttrain-mae:0.01354\teval-mae:0.16033\n",
      "[6000]\ttrain-mae:0.01249\teval-mae:0.16032\n",
      "[6500]\ttrain-mae:0.01156\teval-mae:0.16013\n",
      "[7000]\ttrain-mae:0.01074\teval-mae:0.16005\n",
      "[7500]\ttrain-mae:0.01001\teval-mae:0.16002\n",
      "[8000]\ttrain-mae:0.00934\teval-mae:0.16003\n",
      "Stopping. Best iteration:\n",
      "[7241]\ttrain-mae:0.01039\teval-mae:0.15997\n",
      "\n"
     ]
    }
   ],
   "source": [
    "nums = int(x_train.shape[0] * 0.8)\n",
    "\n",
    "trn_x, trn_y, val_x, val_y = x_train[:nums], y_train[:nums], x_train[nums:], y_train[nums:]\n",
    "\n",
    "train_matrix = xgb.DMatrix(trn_x, label=trn_y, missing=np.nan)\n",
    "valid_matrix = xgb.DMatrix(val_x, label=val_y, missing=np.nan)\n",
    "train_all_matrix = xgb.DMatrix(x_train, y_train, missing=np.nan)\n",
    "test_matrix = xgb.DMatrix(x_test, label=val_y, missing=np.nan)\n",
    "\n",
    "params = {\n",
    "    'booster': 'gbtree',\n",
    "    'eval_metric': 'mae',\n",
    "    'min_child_weight': 5,\n",
    "    'max_depth': 8,\n",
    "    'subsample': 0.5,\n",
    "    'colsample_bytree': 0.5,\n",
    "    'eta': 0.01,\n",
    "    'seed': 2020,\n",
    "    'nthread': 36,\n",
    "    'silent': 1\n",
    "}\n",
    "\n",
    "watchlist = [(train_matrix, 'train'), (valid_matrix, 'eval')]\n",
    "\n",
    "model_eval = xgb.train(params,\n",
    "                       train_matrix,\n",
    "                       num_boost_round=50000,\n",
    "                       evals=watchlist,\n",
    "                       verbose_eval=500,\n",
    "                       early_stopping_rounds=1000)\n",
    "val_pred = model_eval.predict(valid_matrix, ntree_limit=model_eval.best_ntree_limit).reshape(-1, 1)"
   ]
  },
  {
   "cell_type": "code",
   "execution_count": 16,
   "metadata": {
    "ExecuteTime": {
     "end_time": "2020-08-06T11:29:46.336445Z",
     "start_time": "2020-08-06T11:29:46.329463Z"
    }
   },
   "outputs": [
    {
     "name": "stdout",
     "output_type": "stream",
     "text": [
      "mse_score: 0.04100635758796118\n",
      "mse_score: 04100\n"
     ]
    }
   ],
   "source": [
    "mse = mean_squared_error(val_y, val_pred)\n",
    "print(\"mse_score:\", mse)\n",
    "print(\"mse_score:\", str(mse)[2:7])"
   ]
  },
  {
   "cell_type": "code",
   "execution_count": 17,
   "metadata": {
    "ExecuteTime": {
     "end_time": "2020-08-06T11:30:01.764780Z",
     "start_time": "2020-08-06T11:29:46.340435Z"
    }
   },
   "outputs": [],
   "source": [
    "feat_imp_dict = model_eval.get_score(importance_type='gain')"
   ]
  },
  {
   "cell_type": "code",
   "execution_count": 18,
   "metadata": {
    "ExecuteTime": {
     "end_time": "2020-08-06T11:30:01.778662Z",
     "start_time": "2020-08-06T11:30:01.765730Z"
    }
   },
   "outputs": [
    {
     "name": "stdout",
     "output_type": "stream",
     "text": [
      "['outdoorTemp_MDH_outdoorTemp_medi_multyply', 'outdoorTemp_200_bin_indoorAtmo_skew', 'outdoorTemp_50_bin_outdoorTemp_skew', 'outdoorTemp_200_bin_indoorAtmo-outdoorAtmo_sum', 'outdoorTemp_200_bin_indoorAtmo-outdoorAtmo_skew', 'outdoorHum_50_bin_indoorAtmo-outdoorAtmo_skew', 'MD_outdoorTemp_skew', 'indoorHum_20_bin_indoorHum-outdoorHum_max', 'MDH_indoorHum-outdoorHum_max_MDH_indoorAtmo-outdoorAtmo_medi_multyply', 'hit_t_4_outdoorTemp_skew', 'indoorHum-outdoorHum_20_bin_outdoorTemp_skew', 'MD_indoorHum-outdoorHum_medi_MDH_indoorAtmo-outdoorAtmo_medi_subtract', 'MDH_indoorAtmo-outdoorAtmo_medi_indoorHum-outdoorHum_multyply', 'indoorHum_4D_rolling_median', 'outdoorHum_20_bin_indoorAtmo-outdoorAtmo_min', 'outdoorTemp_100_bin_indoorAtmo-outdoorAtmo_skew', 'MDH_indoorAtmo-outdoorAtmo_medi_MDH_indoorHum-outdoorHum_max_multyply', 'outdoorHum_50_bin_outdoorTemp_skew', 'indoorAtmo_expanding_max', 'outdoorAtmo_50_bin_outdoorTemp_skew', 'indoorHum-outdoorHum_MDH_indoorAtmo_mean_subtract', 'outdoorHum_MD_indoorHum-outdoorHum_mean_multyply', 'outdoorTemp_100_bin_indoorAtmo-outdoorAtmo_max', 'MD_outdoorTemp_min_MD_outdoorTemp_mean_multyply', 'outdoorHum_expanding_median', 'MDH_indoorAtmo-outdoorAtmo_medi_MD_indoorAtmo-outdoorAtmo_mean_multyply', 'outdoorHum_100_bin_indoorAtmo-outdoorAtmo_min', 'outdoorTemp_100_bin_outdoorAtmo_skew', 'outdoorAtmo_50_bin', 'hit_indoorHum-outdoorHum_skew', 'MD_indoorAtmo-outdoorAtmo_mean_MD_indoorHum-outdoorHum_max_multyply', 'outdoorHum_50_bin_indoorHum-outdoorHum_skew', 'indoorHum_20_bin_indoorAtmo-outdoorAtmo_min', 'indoorHum-outdoorHum_MD_indoorHum-outdoorHum_mean_multyply', 'MDH_indoorAtmo-outdoorAtmo_medi_MD_indoorHum-outdoorHum_max_multyply', 'outdoorTemp_MD_outdoorTemp_max_multyply', 'outdoorTemp_MDH_indoorHum-outdoorHum_max_multyply', 'outdoorHum_20_bin_outdoorTemp_skew', 'MDH_outdoorHum_min_MDH_indoorAtmo-outdoorAtmo_mean_multyply', 'indoorHum-outdoorHum_MDH_indoorHum-outdoorHum_medi_multyply', 'outdoorHum_4D_rolling_min', 'hit_t_4_indoorHum-outdoorHum_skew', 'MD_indoorHum-outdoorHum_medi_MDH_indoorHum-outdoorHum_max_multyply', 'outdoorTemp_200_bin_outdoorAtmo_min', 'hour_x', 'outdoorHum_20_bin_indoorHum-outdoorHum_std', 'indoorHum_20_bin_indoorAtmo-outdoorAtmo_medi', 'indoorHum-outdoorHum_MDH_indoorAtmo-outdoorAtmo_mean_subtract', 'indoorHum-outdoorHum_20_bin_indoorAtmo-outdoorAtmo_std', 'indoorHum_20_bin_outdoorAtmo_min', 'outdoorTemp_50_bin_indoorHum-outdoorHum_skew', 'MDH_indoorAtmo-outdoorAtmo_mean_MDH_indoorHum-outdoorHum_min_multyply', 'outdoorTemp_50_bin_outdoorAtmo_min', 'indoorHum_20_bin_indoorAtmo-outdoorAtmo_std', 'outdoorTemp_MD_outdoorHum_min_ratio', 'MDH_indoorHum_medi_MDH_indoorHum_min_subtract', 'hit_t_2_outdoorTemp_skew', 'outdoorAtmo_100_bin_outdoorAtmo_sum', 'indoorHum_20_bin_indoorAtmo-outdoorAtmo_mean', 'indoorHum-outdoorHum_MD_indoorAtmo-outdoorAtmo_mean_ratio', 'hit_t_2_indoorAtmo_mean', 'MD_indoorHum-outdoorHum_mean_MDH_indoorAtmo-outdoorAtmo_medi_ratio', 'outdoorHum_50_bin_indoorHum_skew', 'outdoorTemp_20_bin_indoorAtmo-outdoorAtmo_mean', 'MDH_indoorAtmo-outdoorAtmo_medi_MD_indoorAtmo-outdoorAtmo_mean_ratio', 'outdoorHum_50_bin_indoorAtmo_skew', 'MDH_indoorAtmo-outdoorAtmo_medi_MD_indoorAtmo-outdoorAtmo_mean_subtract', 'outdoorHum_MD_indoorHum-outdoorHum_max_multyply', 'MD_indoorAtmo-outdoorAtmo_mean', 'outdoorHum_20_bin_indoorAtmo_std', 'MD_indoorHum-outdoorHum_medi_MD_indoorHum-outdoorHum_min_subtract', 'MDH_indoorAtmo-outdoorAtmo_medi_MD_indoorHum-outdoorHum_medi_multyply', 'indoorHum-outdoorHum_MD_indoorHum-outdoorHum_max_subtract', 'MDH_indoorAtmo-outdoorAtmo_mean_MD_indoorHum-outdoorHum_medi_multyply', 'MD_outdoorHum_max_MD_indoorHum_max_subtract', 'outdoorHum_MDH_outdoorAtmo_min_ratio', 'MDH_outdoorAtmo_mean_MD_indoorHum_max_subtract', 'MD_outdoorAtmo_medi_MDH_indoorAtmo_medi_multyply', 'MDH_indoorHum-outdoorHum_min_MD_indoorAtmo-outdoorAtmo_mean_multyply', 'outdoorTemp_100_bin_outdoorTemp_skew', 'MD_indoorHum_medi_MD_indoorAtmo_max_subtract', 'outdoorTemp_50_bin_indoorAtmo-outdoorAtmo_skew', 'MD_indoorHum-outdoorHum_medi_MDH_indoorHum-outdoorHum_min_multyply', 'outdoorTemp_50_bin_outdoorAtmo_std', 'outdoorAtmo_50_bin_outdoorTemp_sum', 'MDH_indoorHum-outdoorHum_medi_indoorHum-outdoorHum_multyply', 'MD_outdoorHum_medi_MDH_outdoorAtmo_min_ratio', 'MD_indoorHum-outdoorHum_medi_MDH_indoorHum-outdoorHum_mean_multyply', 'hit_t_3_outdoorTemp_skew', 'indoorHum-outdoorHum_2D_rolling_max', 'MD_outdoorTemp_mean_MD_outdoorTemp_medi_multyply', 'indoorHum-outdoorHum_MDH_indoorHum-outdoorHum_mean_multyply', 'indoorHum_20_bin_outdoorHum_std', 'indoorHum_x', 'indoorHum-outdoorHum_MDH_indoorAtmo-outdoorAtmo_medi_multyply', 'hit_t_2_indoorHum-outdoorHum_std', 'MD_indoorAtmo-outdoorAtmo_mean_indoorHum-outdoorHum_multyply', 'MD_outdoorHum_max_MDH_indoorAtmo_mean_subtract', 'outdoorHum_50_bin_indoorAtmo-outdoorAtmo_sum', 'outdoorHum_20_bin_outdoorAtmo_min', 'outdoorHum_MDH_outdoorHum_medi_multyply', 'hit_indoorAtmo-outdoorAtmo_std', 'outdoorHum_50_bin_indoorAtmo_max', 'indoorHum-outdoorHum_3D_rolling_max', 'MD_outdoorAtmo_medi_MDH_indoorAtmo_max_multyply', 'MD_indoorHum_max_indoorAtmo_multyply', 'MD_indoorHum-outdoorHum_mean_MDH_indoorHum-outdoorHum_min_multyply', 'MD_indoorHum-outdoorHum_min_indoorHum_multyply', 'MD_indoorHum-outdoorHum_max_MDH_indoorAtmo-outdoorAtmo_mean_ratio', 'outdoorHum_50_bin_outdoorHum_skew', 'MDH_outdoorAtmo_medi_MD_indoorAtmo_max_multyply', 'MD_outdoorHum_mean_MD_indoorAtmo-outdoorAtmo_medi_multyply', 'outdoorHum_20_bin_indoorAtmo-outdoorAtmo_mean', 'MD_indoorAtmo-outdoorAtmo_mean_MDH_indoorAtmo-outdoorAtmo_medi_multyply', 'outdoorHum_20_bin_indoorAtmo_min', 'outdoorTemp_20_bin_outdoorTemp_skew', 'indoorHum_20_bin_outdoorTemp_sum', 'indoorHum_20_bin_indoorAtmo_min', 'indoorHum_20_bin_outdoorAtmo_max', 'outdoorHum_20_bin_indoorAtmo-outdoorAtmo_std', 'MDH_outdoorAtmo_medi_MD_outdoorAtmo_medi_multyply', 'MDH_indoorAtmo-outdoorAtmo_mean_MDH_indoorHum-outdoorHum_medi_multyply', 'outdoorAtmo_50_bin_indoorAtmo_std', 'MDH_indoorAtmo-outdoorAtmo_mean_MD_indoorAtmo-outdoorAtmo_mean_ratio', 'MDH_outdoorAtmo_medi_MDH_indoorAtmo_medi_subtract', 'MD_indoorHum-outdoorHum_max_MDH_indoorAtmo-outdoorAtmo_medi_multyply', 'indoorHum-outdoorHum_20_bin_indoorAtmo-outdoorAtmo_medi', 'MDH_indoorAtmo_min_MDH_indoorAtmo-outdoorAtmo_medi_multyply', 'outdoorHum_50_bin_outdoorAtmo_max', 'indoorHum_20_bin_indoorAtmo-outdoorAtmo_sum', 'outdoorTemp_100_bin_outdoorAtmo_std', 'MD_outdoorHum_medi_MD_indoorHum-outdoorHum_min_multyply', 'indoorHum_20_bin_indoorHum_std', 'outdoorHum_20_bin_indoorHum-outdoorHum_skew', 'indoorHum-outdoorHum_20_bin_indoorHum-outdoorHum_sum', 'indoorAtmo_50_bin_indoorAtmo-outdoorAtmo_skew', 'MDH_indoorAtmo-outdoorAtmo_sum_MD_indoorHum-outdoorHum_sum_multyply', 'indoorHum_20_bin_outdoorTemp_std', 'hit_t_3_indoorHum-outdoorHum_skew', 'outdoorHum_100_bin_indoorAtmo-outdoorAtmo_max', 'indoorAtmo_MD_indoorHum_max_multyply', 'indoorHum_20_bin_outdoorTemp_skew', 'outdoorHum_20_bin_outdoorHum_skew', 'outdoorTemp_200_bin_indoorHum-outdoorHum_skew', 'indoorHum_50_bin_outdoorTemp_std', 'outdoorHum_20_bin_indoorAtmo-outdoorAtmo_sum', 'indoorAtmo_100_bin_indoorHum-outdoorHum_std', 'hit_indoorAtmo_std', 'indoorHum_50_bin_indoorAtmo-outdoorAtmo_medi', 'indoorHum-outdoorHum_90min_rolling_mean', 'indoorHum_20_bin_indoorHum-outdoorHum_skew', 'indoorHum_20_bin_indoorAtmo_std', 'MD_outdoorAtmo_min_MDH_indoorAtmo-outdoorAtmo_mean_ratio', 'hit_indoorAtmo-outdoorAtmo_skew', 'outdoorAtmo_200_bin_outdoorTemp_min', 'indoorHum_20_bin_indoorAtmo-outdoorAtmo_max', 'indoorHum_MDH_indoorHum_medi_multyply', 'MD_indoorHum-outdoorHum_medi_MDH_indoorAtmo-outdoorAtmo_mean_multyply', 'outdoorHum_50_bin_outdoorAtmo_min', 'MD_indoorHum-outdoorHum_medi_MDH_indoorHum-outdoorHum_medi_multyply', 'MDH_indoorAtmo-outdoorAtmo_mean_MD_indoorHum-outdoorHum_mean_multyply', 'outdoorAtmo_200_bin_indoorAtmo_max', 'outdoorHum_indoorAtmo-outdoorAtmo_subtract', 'indoorHum_50_bin_indoorHum_skew', 'indoorHum_50_bin_indoorAtmo-outdoorAtmo_min', 'outdoorHum_20_bin_outdoorTemp_std', 'indoorHum_50_bin_outdoorAtmo_max', 'outdoorHum_100_bin_indoorAtmo-outdoorAtmo_sum', 'outdoorHum_2D_rolling_mean', 'outdoorHum_20_bin_outdoorHum_std', 'indoorHum-outdoorHum_expanding_mean', 'indoorAtmo-outdoorAtmo_expanding_min', 'indoorHum-outdoorHum_2D_rolling_mean', 'indoorHum_MDH_indoorHum_min_subtract', 'indoorHum_20_bin_outdoorHum_skew', 'indoorAtmo_20_bin_outdoorHum_min', 'MD_indoorHum-outdoorHum_mean_MDH_indoorHum-outdoorHum_medi_multyply', 'MD_indoorHum-outdoorHum_medi_indoorHum-outdoorHum_multyply', 'outdoorHum_20_bin_outdoorAtmo_std', 'outdoorHum_50_bin_indoorAtmo-outdoorAtmo_medi', 'outdoorHum_20_bin_indoorHum_skew', 'MDH_outdoorAtmo_mean_MD_outdoorAtmo_medi_multyply', 'indoorAtmo_100_bin_outdoorTemp_sum', 'outdoorAtmo_100_bin_indoorAtmo-outdoorAtmo_std', 'indoorHum_20_bin_indoorHum_skew', 'outdoorHum_50_bin_indoorAtmo_std', 'indoorHum-outdoorHum_MDH_indoorAtmo-outdoorAtmo_medi_ratio', 'indoorHum_20_bin_indoorAtmo_max', 'indoorHum_50_bin_indoorAtmo-outdoorAtmo_sum', 'indoorHum-outdoorHum_20_bin_indoorAtmo_std', 'indoorAtmo_50_bin_outdoorAtmo_std', 'indoorHum-outdoorHum_20_bin_indoorAtmo_skew', 'outdoorAtmo_MD_indoorAtmo-outdoorAtmo_medi_multyply', 'indoorHum_20_bin_indoorAtmo_skew', 'indoorHum_50_bin_indoorHum-outdoorHum_max', 'outdoorHum_50_bin_indoorAtmo-outdoorAtmo_mean', 'indoorHum-outdoorHum_3D_rolling_std', 'indoorHum_50_bin_outdoorTemp_sum', 'indoorHum_20_bin_outdoorAtmo_std', 'indoorHum_100_bin_outdoorTemp_sum', 'outdoorAtmo_100_bin_outdoorAtmo_std', 'indoorHum-outdoorHum_MDH_indoorHum-outdoorHum_medi_subtract', 'hit_indoorAtmo-outdoorAtmo_min', 'outdoorTemp_4D_rolling_std', 'indoorAtmo_100_bin_outdoorTemp_min', 'outdoorHum_50_bin_indoorAtmo_min', 'outdoorHum_100_bin_indoorAtmo_skew', 'outdoorHum_100_bin_indoorAtmo_std', 'indoorAtmo-outdoorAtmo_50_bin_indoorHum-outdoorHum_min', 'outdoorTemp_90min_rolling_std', 'outdoorAtmo_100_bin_outdoorTemp_min', 'indoorHum_50_bin_indoorAtmo-outdoorAtmo_skew', 'indoorHum_50_bin_indoorAtmo-outdoorAtmo_mean', 'outdoorHum_MDH_outdoorHum_min_subtract', 'outdoorAtmo_50_bin_indoorHum-outdoorHum_min', 'indoorAtmo_2D_rolling_mean', 'outdoorHum_50_bin_outdoorTemp_sum', 'outdoorAtmo_20_bin_indoorHum-outdoorHum_max', 'outdoorTemp_3D_rolling_std', 'indoorHum-outdoorHum_4D_rolling_skew', 'indoorAtmo_200_bin_indoorAtmo-outdoorAtmo_std', 'indoorHum_100_bin_indoorAtmo-outdoorAtmo_medi', 'indoorHum_50_bin_outdoorHum_std', 'outdoorHum_50_bin_indoorAtmo-outdoorAtmo_max', 'outdoorHum_3D_rolling_skew', 'indoorHum_50_bin_outdoorTemp_skew', 'indoorHum_50_bin_indoorAtmo_skew', 'indoorHum_20_bin_outdoorAtmo_skew', 'outdoorHum_90min_rolling_std', 'indoorHum_100_bin_outdoorAtmo_min', 'indoorHum_100_bin_indoorAtmo_max', 'indoorHum-outdoorHum_20_bin_outdoorAtmo_std', 'indoorHum_3D_rolling_skew', 'indoorAtmo_100_bin_outdoorAtmo_std', 'outdoorAtmo_20_bin_indoorAtmo_min', 'indoorAtmo-outdoorAtmo_expanding_skew', 'indoorHum_100_bin_indoorAtmo-outdoorAtmo_max', 'indoorHum_50_bin_outdoorAtmo_std', 'indoorHum_50_bin_outdoorHum_skew', 'indoorHum_50_bin_indoorAtmo-outdoorAtmo_max', 'indoorHum_50_bin_indoorAtmo-outdoorAtmo_std', 'indoorHum-outdoorHum_50_bin_indoorHum-outdoorHum_std', 'outdoorHum_4D_rolling_skew', 'indoorHum-outdoorHum_2D_rolling_std', 'indoorHum_50_bin_indoorAtmo_min', 'outdoorHum_50_bin_indoorAtmo-outdoorAtmo_std', 'outdoorHum_50_bin_outdoorTemp_std', 'outdoorHum_4D_rolling_std', 'indoorHum_20_bin_indoorAtmo-outdoorAtmo_skew', 'indoorHum_50_bin_outdoorAtmo_min', 'outdoorHum_100_bin_indoorAtmo_min', 'outdoorHum_100_bin_outdoorTemp_sum', 'outdoorHum_3D_rolling_std', 'indoorHum_4D_rolling_skew', 'indoorHum_100_bin_outdoorAtmo_max', 'outdoorHum_20_bin_indoorAtmo-outdoorAtmo_max', 'indoorHum-outdoorHum_4D_rolling_std', 'outdoorTemp_2D_rolling_std', 'outdoorHum_100_bin_indoorAtmo-outdoorAtmo_mean', 'outdoorHum_100_bin_outdoorAtmo_max', 'indoorHum_100_bin_outdoorTemp_skew', 'min_x', 'indoorAtmo-outdoorAtmo_expanding_sum', 'indoorHum_50_bin_indoorAtmo_std', 'indoorHum_50_bin_indoorHum_std', 'indoorHum_100_bin_indoorAtmo_min', 'outdoorHum_50_bin_outdoorAtmo_std', 'indoorHum-outdoorHum_3D_rolling_skew', 'indoorHum_100_bin_outdoorHum_skew', 'indoorHum-outdoorHum_diff', 'outdoorHum_outdoorAtmo_subtract', 'outdoorAtmo_200_bin_indoorHum-outdoorHum_skew', 'outdoorHum_100_bin_indoorHum_skew', 'outdoorHum_100_bin_indoorAtmo-outdoorAtmo_skew', 'indoorAtmo_50_bin_outdoorTemp_sum', 'indoorHum_100_bin_indoorAtmo_skew', 'outdoorAtmo_20_bin_indoorAtmo_skew', 'indoorAtmo-outdoorAtmo_50_bin_outdoorTemp_std', 'indoorHum_100_bin_indoorAtmo_std', 'indoorAtmo_50_bin_outdoorHum_max', 'indoorAtmo-outdoorAtmo_3D_rolling_mean', 'outdoorTemp_3D_rolling_skew', 'outdoorHum_50_bin_outdoorHum_std', 'outdoorHum_100_bin_indoorAtmo-outdoorAtmo_std', 'indoorAtmo-outdoorAtmo_20_bin_outdoorAtmo_medi', 'indoorAtmo_50_bin_outdoorTemp_min', 'indoorAtmo-outdoorAtmo_expanding_std', 'outdoorAtmo_20_bin_indoorHum-outdoorHum_sum', 'indoorHum-outdoorHum_20_bin_indoorAtmo-outdoorAtmo_skew', 'indoorHum-outdoorHum_50_bin_indoorAtmo-outdoorAtmo_max', 'indoorAtmo-outdoorAtmo_100_bin_indoorHum-outdoorHum_min', 'indoorAtmo-outdoorAtmo_50_bin_indoorAtmo-outdoorAtmo_std', 'indoorAtmo_50_bin_outdoorHum_sum', 'indoorAtmo_200_bin_outdoorAtmo_skew', 'indoorAtmo-outdoorAtmo_50_bin_indoorHum-outdoorHum_skew', 'indoorHum-outdoorHum_50_bin_indoorAtmo-outdoorAtmo_skew', 'indoorHum-outdoorHum_20_bin_indoorAtmo_min', 'indoorAtmo-outdoorAtmo_MD_indoorHum_max_subtract', 'indoorAtmo-outdoorAtmo_MD_indoorHum-outdoorHum_mean_multyply', 'indoorAtmo-outdoorAtmo_MD_indoorHum-outdoorHum_medi_multyply', 'indoorAtmo-outdoorAtmo_100_bin_outdoorAtmo_skew', 'indoorAtmo-outdoorAtmo_50_bin_indoorAtmo_std', 'indoorAtmo-outdoorAtmo_20_bin_indoorHum-outdoorHum_min', 'indoorAtmo-outdoorAtmo_50_bin_outdoorTemp_medi', 'outdoorAtmo_20_bin_indoorHum-outdoorHum_min', 'indoorAtmo-outdoorAtmo_50_bin_outdoorAtmo_std', 'indoorAtmo-outdoorAtmo_20_bin_outdoorTemp_medi', 'indoorAtmo-outdoorAtmo_200_bin_indoorAtmo_std', 'indoorAtmo-outdoorAtmo_MDH_indoorHum-outdoorHum_min_multyply', 'indoorAtmo-outdoorAtmo_50_bin_outdoorHum_skew', 'MD_indoorHum-outdoorHum_medi_indoorAtmo-outdoorAtmo_multyply', 'indoorAtmo-outdoorAtmo_MD_indoorHum-outdoorHum_max_ratio', 'indoorHum-outdoorHum_50_bin_outdoorAtmo_max', 'indoorAtmo-outdoorAtmo_50_bin_outdoorAtmo_min', 'indoorAtmo-outdoorAtmo_200_bin_indoorHum-outdoorHum_skew', 'indoorAtmo-outdoorAtmo_100_bin_indoorAtmo-outdoorAtmo_skew', 'indoorAtmo-outdoorAtmo_MD_indoorAtmo-outdoorAtmo_mean_ratio', 'indoorAtmo-outdoorAtmo_50_bin_indoorHum-outdoorHum_std', 'MD_indoorAtmo-outdoorAtmo_mean_indoorAtmo-outdoorAtmo_multyply', 'indoorAtmo-outdoorAtmo_100_bin_indoorAtmo_std', 'indoorAtmo-outdoorAtmo_200_bin_indoorHum-outdoorHum_max', 'indoorAtmo-outdoorAtmo_100_bin_outdoorTemp_medi', 'MDH_indoorHum-outdoorHum_max_indoorAtmo-outdoorAtmo_multyply', 'indoorAtmo_20_bin_outdoorAtmo_min', 'indoorHum-outdoorHum_20_bin_indoorHum-outdoorHum_skew', 'MDH_indoorHum-outdoorHum_min_indoorAtmo-outdoorAtmo_multyply', 'indoorAtmo-outdoorAtmo_MD_indoorAtmo-outdoorAtmo_mean_multyply', 'outdoorAtmo_200_bin_indoorAtmo-outdoorAtmo_min', 'MD_indoorHum-outdoorHum_max_indoorAtmo-outdoorAtmo_multyply', 'indoorAtmo-outdoorAtmo_100_bin_outdoorHum_skew', 'indoorAtmo-outdoorAtmo_50_bin_indoorAtmo-outdoorAtmo_skew', 'outdoorAtmo_50_bin_indoorHum-outdoorHum_skew', 'indoorAtmo-outdoorAtmo_50_bin_outdoorTemp_max', 'indoorAtmo-outdoorAtmo_MDH_indoorHum-outdoorHum_mean_multyply', 'indoorAtmo-outdoorAtmo_20_bin_indoorAtmo-outdoorAtmo_std', 'indoorAtmo-outdoorAtmo_100_bin_indoorHum-outdoorHum_std', 'indoorAtmo-outdoorAtmo_MDH_indoorHum-outdoorHum_medi_multyply', 'indoorAtmo-outdoorAtmo_50_bin_outdoorTemp_min', 'indoorAtmo-outdoorAtmo_MDH_indoorAtmo-outdoorAtmo_medi_ratio', 'indoorAtmo-outdoorAtmo_MDH_indoorHum-outdoorHum_max_ratio', 'MDH_indoorAtmo-outdoorAtmo_medi_indoorAtmo-outdoorAtmo_multyply', 'indoorHum-outdoorHum_20_bin_indoorHum-outdoorHum_std', 'indoorAtmo-outdoorAtmo_MDH_indoorAtmo-outdoorAtmo_medi_multyply', 'indoorAtmo-outdoorAtmo_MDH_indoorHum-outdoorHum_max_multyply', 'indoorAtmo-outdoorAtmo_20_bin_outdoorAtmo_std', 'outdoorAtmo_MDH_outdoorAtmo_medi_multyply', 'indoorAtmo-outdoorAtmo_MD_indoorHum-outdoorHum_max_multyply', 'indoorAtmo-outdoorAtmo_200_bin_outdoorTemp_sum', 'indoorAtmo-outdoorAtmo_100_bin_outdoorTemp_skew', 'indoorAtmo-outdoorAtmo_20_bin_indoorAtmo_medi', 'indoorAtmo-outdoorAtmo_200_bin_outdoorHum_skew', 'indoorAtmo-outdoorAtmo_200_bin_indoorAtmo-outdoorAtmo_std', 'indoorAtmo-outdoorAtmo_indoorHum-outdoorHum_multyply', 'indoorHum-outdoorHum_indoorAtmo-outdoorAtmo_ratio', 'indoorHum-outdoorHum_indoorAtmo-outdoorAtmo_multyply', 'outdoorHum_indoorAtmo-outdoorAtmo_multyply', 'indoorAtmo-outdoorAtmo_20_bin_outdoorTemp_skew', 'indoorAtmo-outdoorAtmo_100_bin_indoorHum-outdoorHum_skew', 'indoorAtmo-outdoorAtmo_20_bin_indoorHum-outdoorHum_skew', 'indoorAtmo-outdoorAtmo_20_bin_outdoorAtmo_min', 'indoorAtmo-outdoorAtmo_20_bin_outdoorTemp_std', 'outdoorTemp_indoorAtmo-outdoorAtmo_multyply', 'indoorAtmo-outdoorAtmo_200_bin_outdoorTemp_skew', 'indoorAtmo-outdoorAtmo_20_bin_outdoorTemp_max', 'indoorAtmo-outdoorAtmo_50_bin_indoorHum-outdoorHum_medi', 'indoorAtmo-outdoorAtmo_x', 'indoorAtmo-outdoorAtmo_50_bin_outdoorTemp_sum', 'outdoorAtmo_indoorAtmo_multyply', 'indoorAtmo_outdoorAtmo_multyply', 'indoorAtmo-outdoorAtmo_20_bin_indoorHum-outdoorHum_std', 'indoorAtmo-outdoorAtmo_200_bin_outdoorAtmo_std', 'outdoorAtmo_20_bin_outdoorTemp_min', 'indoorAtmo-outdoorAtmo_20_bin_indoorHum-outdoorHum_sum', 'indoorAtmo-outdoorAtmo_100_bin_outdoorAtmo_std', 'outdoorAtmo_50_bin_outdoorTemp_min', 'indoorAtmo-outdoorAtmo_20_bin_outdoorTemp_min', 'indoorAtmo-outdoorAtmo_50_bin_outdoorTemp_skew', 'indoorAtmo-outdoorAtmo_50_bin_outdoorAtmo_max', 'outdoorAtmo_100_bin_indoorAtmo-outdoorAtmo_min', 'indoorAtmo-outdoorAtmo_20_bin_outdoorTemp_sum', 'indoorAtmo-outdoorAtmo_20_bin_indoorAtmo_max', 'outdoorAtmo_50_bin_outdoorHum_sum', 'indoorAtmo-outdoorAtmo_20_bin_indoorHum-outdoorHum_medi']\n"
     ]
    }
   ],
   "source": [
    "feat_imp = pd.Series(feat_imp_dict).sort_values(ascending=False).reset_index().rename(columns={'index': 'feature',\n",
    "                                                                                               0: 'importance'})\n",
    "feat_imp['normalized_importance'] = feat_imp['importance'] / feat_imp['importance'].sum()\n",
    "feat_imp['cumulative_importance'] = np.cumsum(feat_imp['normalized_importance'])\n",
    "record_low_importance = feat_imp[feat_imp['cumulative_importance'] > 0.95]\n",
    "\n",
    "to_drop = list(record_low_importance['feature'])\n",
    "print(to_drop)"
   ]
  },
  {
   "cell_type": "code",
   "execution_count": 19,
   "metadata": {
    "ExecuteTime": {
     "end_time": "2020-08-06T11:30:01.806650Z",
     "start_time": "2020-08-06T11:30:01.781655Z"
    }
   },
   "outputs": [],
   "source": [
    "x_train.drop(to_drop, axis=1, inplace=True)\n",
    "x_test.drop(to_drop, axis=1, inplace=True)"
   ]
  },
  {
   "cell_type": "code",
   "execution_count": 20,
   "metadata": {
    "ExecuteTime": {
     "end_time": "2020-08-06T11:36:41.353997Z",
     "start_time": "2020-08-06T11:30:01.807605Z"
    }
   },
   "outputs": [],
   "source": [
    "train_all_matrix = xgb.DMatrix(x_train, y_train, missing=np.nan)\n",
    "test_matrix = xgb.DMatrix(x_test, label=val_y, missing=np.nan)\n",
    "\n",
    "model = xgb.train(params,\n",
    "                  train_all_matrix,\n",
    "                  num_boost_round=model_eval.best_ntree_limit + 20)\n",
    "\n",
    "test_pred = model.predict(test_matrix, ntree_limit=model.best_ntree_limit).reshape(-1, 1)"
   ]
  },
  {
   "cell_type": "code",
   "execution_count": 22,
   "metadata": {
    "ExecuteTime": {
     "end_time": "2020-08-06T11:46:39.253938Z",
     "start_time": "2020-08-06T11:46:39.244860Z"
    }
   },
   "outputs": [],
   "source": [
    "sub['temperature'] = test_pred[:, 0] + test_temp\n",
    "sub.to_csv('../../sub/sub_{}_{}.csv'.format(time.strftime('%Y%m%d'), str(mse)[2:7]), index=False)"
   ]
  },
  {
   "cell_type": "code",
   "execution_count": null,
   "metadata": {},
   "outputs": [],
   "source": []
  }
 ],
 "metadata": {
  "kernelspec": {
   "display_name": "Python 3",
   "language": "python",
   "name": "python3"
  },
  "language_info": {
   "codemirror_mode": {
    "name": "ipython",
    "version": 3
   },
   "file_extension": ".py",
   "mimetype": "text/x-python",
   "name": "python",
   "nbconvert_exporter": "python",
   "pygments_lexer": "ipython3",
   "version": "3.7.3"
  },
  "toc": {
   "base_numbering": 1,
   "nav_menu": {},
   "number_sections": true,
   "sideBar": true,
   "skip_h1_title": false,
   "title_cell": "Table of Contents",
   "title_sidebar": "Contents",
   "toc_cell": false,
   "toc_position": {},
   "toc_section_display": true,
   "toc_window_display": false
  },
  "varInspector": {
   "cols": {
    "lenName": 16,
    "lenType": 16,
    "lenVar": 40
   },
   "kernels_config": {
    "python": {
     "delete_cmd_postfix": "",
     "delete_cmd_prefix": "del ",
     "library": "var_list.py",
     "varRefreshCmd": "print(var_dic_list())"
    },
    "r": {
     "delete_cmd_postfix": ") ",
     "delete_cmd_prefix": "rm(",
     "library": "var_list.r",
     "varRefreshCmd": "cat(var_dic_list()) "
    }
   },
   "types_to_exclude": [
    "module",
    "function",
    "builtin_function_or_method",
    "instance",
    "_Feature"
   ],
   "window_display": false
  }
 },
 "nbformat": 4,
 "nbformat_minor": 4
}
