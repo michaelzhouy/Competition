{
 "cells": [
  {
   "cell_type": "code",
   "execution_count": 1,
   "metadata": {
    "ExecuteTime": {
     "end_time": "2020-08-17T02:12:35.182117Z",
     "start_time": "2020-08-17T02:12:33.382235Z"
    }
   },
   "outputs": [],
   "source": [
    "import numpy as np\n",
    "import pandas as pd\n",
    "from datetime import datetime\n",
    "import os\n",
    "import gc\n",
    "import xgboost as xgb\n",
    "import math\n",
    "from joblib import Parallel, delayed\n",
    "\n",
    "from tqdm import tqdm\n",
    "from sklearn.model_selection import StratifiedKFold, KFold\n",
    "from sklearn.metrics import mean_absolute_error, mean_squared_error\n",
    "import matplotlib.pyplot as plt\n",
    "import time\n",
    "import warnings\n",
    "\n",
    "warnings.filterwarnings('ignore')\n",
    "\n",
    "pd.set_option('max_columns', None)\n",
    "pd.set_option('max_rows', None)"
   ]
  },
  {
   "cell_type": "code",
   "execution_count": 2,
   "metadata": {
    "ExecuteTime": {
     "end_time": "2020-08-17T02:12:35.761567Z",
     "start_time": "2020-08-17T02:12:35.184112Z"
    }
   },
   "outputs": [
    {
     "data": {
      "text/plain": [
       "11"
      ]
     },
     "execution_count": 2,
     "metadata": {},
     "output_type": "execute_result"
    }
   ],
   "source": [
    "# train_df = pd.read_hdf('../input/train.h5')\n",
    "test_df = pd.read_hdf('../input/test.h5')\n",
    "sub = pd.DataFrame(test_df['time'])\n",
    "gc.collect()"
   ]
  },
  {
   "cell_type": "code",
   "execution_count": 3,
   "metadata": {
    "ExecuteTime": {
     "end_time": "2020-08-17T02:12:35.766715Z",
     "start_time": "2020-08-17T02:12:35.763563Z"
    }
   },
   "outputs": [],
   "source": [
    "# train_df.columns = ['time', 'year', 'month', 'day', 'hour', 'min', 'sec', 'outdoorTemp', 'outdoorHum', 'outdoorAtmo',\n",
    "#                     'indoorHum', 'indoorAtmo', 'temperature']\n",
    "test_df.columns = ['time', 'year', 'month', 'day', 'hour', 'min', 'sec', 'outdoorTemp', 'outdoorHum', 'outdoorAtmo',\n",
    "                   'indoorHum', 'indoorAtmo']"
   ]
  },
  {
   "cell_type": "code",
   "execution_count": 4,
   "metadata": {
    "ExecuteTime": {
     "end_time": "2020-08-17T02:12:36.775369Z",
     "start_time": "2020-08-17T02:12:35.768548Z"
    }
   },
   "outputs": [],
   "source": [
    "x_train = pd.read_hdf('../input/train_features_corr_95.h5')\n",
    "x_test = pd.read_hdf('../input/test_features_corr_95.h5')\n",
    "y_train = pd.read_hdf('../input/y_train.h5')"
   ]
  },
  {
   "cell_type": "code",
   "execution_count": 5,
   "metadata": {
    "ExecuteTime": {
     "end_time": "2020-08-17T02:12:36.782351Z",
     "start_time": "2020-08-17T02:12:36.776367Z"
    }
   },
   "outputs": [
    {
     "data": {
      "text/plain": [
       "((19338, 2300), (406, 2300))"
      ]
     },
     "execution_count": 5,
     "metadata": {},
     "output_type": "execute_result"
    }
   ],
   "source": [
    "x_train.shape, x_test.shape"
   ]
  },
  {
   "cell_type": "code",
   "execution_count": 6,
   "metadata": {
    "ExecuteTime": {
     "end_time": "2020-08-17T02:12:36.796338Z",
     "start_time": "2020-08-17T02:12:36.784856Z"
    }
   },
   "outputs": [],
   "source": [
    "params = {\n",
    "    'booster': 'gbtree',\n",
    "    'eval_metric': 'mae',\n",
    "    'min_child_weight': 5,\n",
    "    'max_depth': 8,\n",
    "    'subsample': 0.5,\n",
    "    'colsample_bytree': 0.5,\n",
    "    'eta': 0.01,\n",
    "    'seed': 2020,\n",
    "    'njobs': -1,\n",
    "    'silent': 1\n",
    "}"
   ]
  },
  {
   "cell_type": "code",
   "execution_count": 7,
   "metadata": {
    "ExecuteTime": {
     "end_time": "2020-08-17T02:33:32.503665Z",
     "start_time": "2020-08-17T02:12:36.800327Z"
    }
   },
   "outputs": [
    {
     "name": "stdout",
     "output_type": "stream",
     "text": [
      "[0]\ttrain-mae:0.72620\teval-mae:0.31547\n",
      "Multiple eval metrics have been passed: 'eval-mae' will be used for early stopping.\n",
      "\n",
      "Will train until eval-mae hasn't improved in 500 rounds.\n",
      "[500]\ttrain-mae:0.05033\teval-mae:0.15396\n",
      "[1000]\ttrain-mae:0.03889\teval-mae:0.15277\n",
      "[1500]\ttrain-mae:0.03199\teval-mae:0.15218\n",
      "Stopping. Best iteration:\n",
      "[1491]\ttrain-mae:0.03210\teval-mae:0.15214\n",
      "\n"
     ]
    }
   ],
   "source": [
    "nums = int(x_train.shape[0] * 0.8)\n",
    "\n",
    "trn_x, trn_y, val_x, val_y = x_train[:nums], y_train[:nums], x_train[nums:], y_train[nums:]\n",
    "\n",
    "train_matrix = xgb.DMatrix(trn_x, label=trn_y, missing=np.nan)\n",
    "valid_matrix = xgb.DMatrix(val_x, label=val_y, missing=np.nan)\n",
    "train_all_matrix = xgb.DMatrix(x_train, y_train, missing=np.nan)\n",
    "test_matrix = xgb.DMatrix(x_test, label=val_y, missing=np.nan)\n",
    "\n",
    "watchlist = [(train_matrix, 'train'), (valid_matrix, 'eval')]\n",
    "\n",
    "model_eval = xgb.train(params,\n",
    "                       train_matrix,\n",
    "                       num_boost_round=50000,\n",
    "                       evals=watchlist,\n",
    "                       verbose_eval=500,\n",
    "                       early_stopping_rounds=500)\n",
    "val_pred = model_eval.predict(valid_matrix, ntree_limit=model_eval.best_ntree_limit).reshape(-1, 1)"
   ]
  },
  {
   "cell_type": "code",
   "execution_count": 8,
   "metadata": {
    "ExecuteTime": {
     "end_time": "2020-08-17T02:33:32.518625Z",
     "start_time": "2020-08-17T02:33:32.507654Z"
    }
   },
   "outputs": [
    {
     "name": "stdout",
     "output_type": "stream",
     "text": [
      "mse_score: 0.03916418754601699\n",
      "mse_score: 03916\n"
     ]
    }
   ],
   "source": [
    "mse = mean_squared_error(val_y, val_pred)\n",
    "print(\"mse_score:\", mse)\n",
    "print(\"mse_score:\", str(mse)[2:7])"
   ]
  },
  {
   "cell_type": "code",
   "execution_count": 9,
   "metadata": {
    "ExecuteTime": {
     "end_time": "2020-08-17T02:33:36.537167Z",
     "start_time": "2020-08-17T02:33:32.521618Z"
    }
   },
   "outputs": [],
   "source": [
    "feat_imp_dict = model_eval.get_score(importance_type='gain')"
   ]
  },
  {
   "cell_type": "code",
   "execution_count": 10,
   "metadata": {
    "ExecuteTime": {
     "end_time": "2020-08-17T02:33:36.565092Z",
     "start_time": "2020-08-17T02:33:36.539162Z"
    }
   },
   "outputs": [],
   "source": [
    "feat_imp = pd.Series(feat_imp_dict).sort_values(ascending=False).reset_index().rename(columns={'index': 'feature',\n",
    "                                                                                               0: 'importance'})\n",
    "feat_imp['normalized_importance'] = feat_imp['importance'] / feat_imp['importance'].sum()\n",
    "feat_imp['cumulative_importance'] = np.cumsum(feat_imp['normalized_importance'])\n",
    "\n",
    "# feat_imp.to_csv('../input/feat_imp.csv', index=False)"
   ]
  },
  {
   "cell_type": "code",
   "execution_count": 11,
   "metadata": {
    "ExecuteTime": {
     "end_time": "2020-08-17T02:33:36.577061Z",
     "start_time": "2020-08-17T02:33:36.567090Z"
    }
   },
   "outputs": [
    {
     "name": "stdout",
     "output_type": "stream",
     "text": [
      "['outdoorTemp_diff_3D_rolling_skew', 'indoorHum_50_bin_outdoorHum_skew', 'indoorHum_50_bin_indoorAtmo_mean', 'outdoorHum_100_bin_indoorAtmo_mean', 'MDH_indoorAtmo_mean_MDH_outdoorHum_diff_sum_subtract', 'outdoorAtmo_100_bin_outdoorHum_min', 'outdoorTemp_diff_expanding_mean', 'outdoorHum_100_bin_indoorAtmo_skew', 'MDH_outdoorAtmo_diff_sum_MDH_outdoorHum_diff_min_multyply', 'MDH_outdoorHum_diff_sum_MDH_indoorAtmo_diff_sum_multyply', 'indoorHum_50_bin_outdoorTemp_sum', 'MD_outdoorHum_diff_min_MDH_outdoorHum_diff_sum_multyply', 'indoorAtmo_100_bin_outdoorHum_std', 'indoorAtmo_MD_indoorHum_max_ratio', 'outdoorHum_20_bin_outdoorHum_skew', 'MDH_outdoorHum_diff_sum_MD_outdoorHum_diff_min_multyply', 'indoorHum_20_bin_outdoorAtmo_std', 'indoorHum_50_bin_indoorAtmo_min', 'indoorAtmo_diff_expanding_skew', 'MD_outdoorAtmo_diff_sum_MDH_outdoorHum_diff_sum_multyply', 'indoorHum_100_bin_outdoorHum_sum', 'outdoorTemp_3D_rolling_std', 'outdoorHum_50_bin_indoorAtmo_skew', 'outdoorAtmo_MD_indoorHum_max_ratio', 'outdoorHum_50_bin_indoorAtmo_min', 'indoorHum_50_bin_outdoorHum_sum', 'MD_outdoorAtmo_diff_sum_MDH_indoorAtmo_diff_sum_multyply', 'MDH_outdoorTemp_diff_sum_outdoorAtmo_diff_multyply', 'MDH_indoorAtmo_min_MDH_outdoorHum_diff_sum_multyply', 'outdoorHum_diff_3D_rolling_sum', 'outdoorHum_indoorAtmo_multyply', 'min', 'indoorHum_diff_expanding_mean', 'indoorHum_50_bin_indoorAtmo_max', 'indoorAtmo_3D_rolling_mean', 'outdoorHum_50_bin_outdoorHum_skew', 'outdoorTemp_3D_rolling_skew', 'indoorHum_diff_MDH_outdoorTemp_diff_medi_multyply', 'outdoorHum_50_bin_outdoorTemp_skew', 'outdoorHum_50_bin_indoorHum_std', 'indoorHum_3D_rolling_skew', 'MDH_outdoorHum_diff_mean_MDH_outdoorAtmo_diff_mean_multyply', 'indoorHum_20_bin_outdoorTemp_std', 'outdoorAtmo_MDH_outdoorHum_diff_sum_subtract', 'indoorHum_diff_MDH_outdoorTemp_diff_min_multyply', 'outdoorHum_diff_expanding_mean', 'indoorHum_100_bin_outdoorHum_std', 'indoorHum_50_bin_outdoorAtmo_std', 'outdoorHum_diff_indoorHum_diff_subtract', 'outdoorTemp_2D_rolling_std', 'indoorHum_diff_MDH_outdoorTemp_diff_max_multyply', 'outdoorHum_50_bin_outdoorTemp_std', 'indoorHum_diff_MDH_outdoorTemp_diff_max_ratio', 'MDH_outdoorAtmo_diff_sum_MD_outdoorTemp_diff_sum_multyply', 'MD_outdoorTemp_diff_sum_MDH_outdoorHum_diff_sum_multyply', 'outdoorAtmo_diff_expanding_skew', 'indoorHum_50_bin_outdoorAtmo_medi', 'outdoorAtmo_100_bin_outdoorAtmo_std', 'outdoorHum_diff_MDH_outdoorTemp_diff_max_multyply', 'outdoorHum_2D_rolling_std', 'outdoorHum_50_bin_indoorAtmo_std', 'outdoorHum_100_bin_outdoorAtmo_max', 'outdoorHum_100_bin_outdoorHum_sum', 'indoorHum_50_bin_outdoorAtmo_max', 'outdoorHum_100_bin_outdoorTemp_sum', 'indoorHum_50_bin_indoorAtmo_std', 'indoorHum_50_bin_outdoorHum_std', 'outdoorAtmo_MDH_indoorAtmo_mean_ratio', 'outdoorHum_20_bin_outdoorAtmo_min', 'indoorAtmo_MDH_indoorAtmo_mean_ratio', 'MDH_outdoorTemp_diff_medi', 'outdoorHum_20_bin_indoorAtmo_min', 'outdoorTemp_diff_MDH_outdoorHum_diff_mean_multyply', 'outdoorHum_50_bin_outdoorAtmo_min', 'outdoorTemp_diff_indoorHum_diff_multyply', 'indoorHum_100_bin_outdoorHum_skew', 'indoorHum_100_bin_indoorAtmo_std', 'indoorAtmo_diff_expanding_mean', 'indoorHum_50_bin_outdoorAtmo_min', 'MD_outdoorTemp_min_MD_outdoorAtmo_diff_sum_subtract', 'indoorHum_diff_MDH_outdoorTemp_diff_mean_multyply', 'outdoorTemp_diff_outdoorHum_diff_multyply', 'outdoorTemp_diff_outdoorHum_diff_ratio', 'outdoorAtmo_200_bin_outdoorAtmo_std', 'outdoorHum_diff_1D_rolling_sum', 'MDH_outdoorTemp_diff_medi_MD_outdoorTemp_diff_max_multyply', 'indoorHum_50_bin_indoorAtmo_skew', 'outdoorHum_diff_MDH_indoorHum_diff_min_subtract', 'indoorHum_100_bin_outdoorAtmo_std', 'indoorAtmo_50_bin_outdoorTemp_medi', 'outdoorHum_diff_MDH_outdoorTemp_diff_min_multyply', 'indoorHum_100_bin_outdoorAtmo_max', 'outdoorHum_50_bin_outdoorAtmo_std', 'outdoorHum_20_bin_indoorHum_std', 'indoorHum_100_bin_indoorAtmo_min', 'outdoorHum_100_bin_outdoorAtmo_std', 'indoorHum_100_bin_outdoorAtmo_min', 'outdoorHum_outdoorAtmo_subtract', 'outdoorHum_100_bin_outdoorAtmo_min', 'outdoorHum_100_bin_indoorAtmo_std', 'outdoorHum_20_bin_outdoorHum_std', 'outdoorHum_diff_2D_rolling_sum', 'MDH_outdoorTemp_diff_medi_MDH_outdoorTemp_diff_max_ratio', 'outdoorHum_100_bin_indoorHum_skew', 'outdoorTemp_diff_MDH_indoorHum_diff_mean_multyply', 'indoorHum_diff_MDH_outdoorTemp_diff_sum_multyply', 'indoorHum_diff_outdoorTemp_diff_multyply', 'MDH_outdoorTemp_diff_medi_MD_outdoorTemp_diff_min_multyply', 'indoorHum_diff_MDH_outdoorTemp_diff_mean_ratio', 'outdoorHum_100_bin_indoorAtmo_min', 'outdoorAtmo_20_bin_indoorAtmo_skew', 'outdoorHum_diff_MDH_outdoorTemp_diff_medi_multyply', 'outdoorAtmo_50_bin_indoorAtmo_min', 'outdoorAtmo_MD_outdoorHum_medi_subtract', 'outdoorAtmo_200_bin_outdoorHum_std', 'indoorHum_100_bin_indoorAtmo_skew', 'indoorAtmo_diff_3D_rolling_sum', 'outdoorAtmo_50_bin_outdoorTemp_skew', 'outdoorHum_50_bin_indoorHum_skew', 'outdoorAtmo_50_bin_indoorHum_std', 'outdoorHum_50_bin_outdoorHum_std', 'outdoorHum_diff_outdoorTemp_diff_multyply', 'outdoorAtmo_diff_MD_indoorHum_diff_min_multyply', 'MD_indoorAtmo_diff_mean_MD_outdoorTemp_diff_medi_multyply', 'outdoorAtmo_diff_3D_rolling_sum', 'MDH_outdoorTemp_diff_medi_MDH_outdoorAtmo_diff_max_ratio', 'MDH_outdoorTemp_diff_medi_MDH_outdoorHum_diff_mean_multyply', 'indoorAtmo_diff_2D_rolling_sum', 'outdoorHum_diff_MDH_outdoorTemp_diff_mean_multyply', 'outdoorHum_outdoorAtmo_diff_subtract', 'outdoorAtmo_diff_2D_rolling_sum', 'outdoorAtmo_20_bin_outdoorTemp_medi', 'MDH_outdoorTemp_diff_medi_MDH_indoorAtmo_diff_max_multyply', 'indoorAtmo_50_bin_outdoorTemp_sum', 'outdoorAtmo_diff_MDH_indoorAtmo_diff_sum_subtract', 'outdoorAtmo_50_bin_outdoorTemp_medi', 'MDH_indoorAtmo_min_MDH_outdoorTemp_diff_medi_ratio', 'outdoorHum_diff_MDH_outdoorTemp_diff_sum_multyply', 'outdoorAtmo_100_bin_outdoorTemp_min', 'outdoorAtmo_diff_MD_outdoorTemp_diff_min_multyply', 'indoorAtmo_diff_MD_outdoorTemp_diff_medi_multyply', 'outdoorAtmo_MDH_outdoorAtmo_medi_multyply', 'indoorAtmo_diff_MDH_indoorAtmo_diff_sum_subtract', 'outdoorAtmo_diff_MDH_indoorHum_diff_max_multyply', 'outdoorAtmo_diff_MD_outdoorHum_diff_min_multyply', 'outdoorAtmo_diff_MDH_indoorAtmo_diff_max_ratio', 'outdoorAtmo_diff_MD_outdoorHum_diff_max_multyply', 'outdoorAtmo_diff_MDH_indoorHum_diff_min_multyply', 'MDH_outdoorTemp_diff_medi_MD_outdoorAtmo_diff_sum_multyply', 'indoorAtmo_outdoorAtmo_multyply', 'outdoorAtmo_indoorAtmo_multyply', 'outdoorAtmo_diff_MD_outdoorTemp_diff_max_multyply', 'MDH_outdoorTemp_diff_medi_MDH_outdoorHum_diff_min_multyply', 'outdoorAtmo_diff_MD_outdoorAtmo_diff_sum_ratio', 'outdoorAtmo_diff_MDH_outdoorTemp_diff_min_multyply', 'outdoorAtmo_diff_MDH_outdoorTemp_diff_max_multyply', 'outdoorAtmo_50_bin_outdoorTemp_std', 'outdoorAtmo_diff_MD_outdoorAtmo_min_multyply', 'MDH_outdoorTemp_diff_medi_MD_outdoorAtmo_diff_mean_multyply', 'outdoorAtmo_50_bin_outdoorAtmo_std', 'outdoorAtmo_50_bin_indoorAtmo_max', 'outdoorAtmo_50_bin_outdoorTemp_max', 'indoorAtmo_20_bin_outdoorTemp_medi', 'indoorAtmo_20_bin_outdoorAtmo_max', 'outdoorAtmo_20_bin_indoorAtmo_min', 'MDH_outdoorTemp_diff_medi_MD_outdoorTemp_diff_min_ratio', 'outdoorAtmo_50_bin_indoorAtmo_std', 'outdoorAtmo_50_bin_indoorAtmo_skew', 'indoorAtmo_50_bin_outdoorAtmo_max', 'indoorAtmo_20_bin_outdoorAtmo_std', 'outdoorAtmo_20_bin_outdoorAtmo_min', 'outdoorAtmo_50_bin_outdoorTemp_min', 'indoorAtmo_20_bin_outdoorTemp_max']\n"
     ]
    }
   ],
   "source": [
    "record_low_importance = feat_imp[feat_imp['cumulative_importance'] > 0.98]\n",
    "to_drop = list(record_low_importance['feature'])\n",
    "print(to_drop)"
   ]
  },
  {
   "cell_type": "code",
   "execution_count": 12,
   "metadata": {
    "ExecuteTime": {
     "end_time": "2020-08-17T02:33:37.087694Z",
     "start_time": "2020-08-17T02:33:36.578058Z"
    }
   },
   "outputs": [],
   "source": [
    "x_train.drop(to_drop, axis=1, inplace=True)\n",
    "x_test.drop(to_drop, axis=1, inplace=True)"
   ]
  },
  {
   "cell_type": "code",
   "execution_count": 13,
   "metadata": {
    "ExecuteTime": {
     "end_time": "2020-08-17T02:33:37.095674Z",
     "start_time": "2020-08-17T02:33:37.088692Z"
    }
   },
   "outputs": [
    {
     "data": {
      "text/plain": [
       "((19338, 2127), (406, 2127))"
      ]
     },
     "execution_count": 13,
     "metadata": {},
     "output_type": "execute_result"
    }
   ],
   "source": [
    "x_train.shape, x_test.shape"
   ]
  },
  {
   "cell_type": "code",
   "execution_count": 14,
   "metadata": {
    "ExecuteTime": {
     "end_time": "2020-08-17T02:50:50.231727Z",
     "start_time": "2020-08-17T02:33:37.097669Z"
    }
   },
   "outputs": [],
   "source": [
    "train_all_matrix = xgb.DMatrix(x_train, y_train, missing=np.nan)\n",
    "test_matrix = xgb.DMatrix(x_test, label=val_y, missing=np.nan)\n",
    "\n",
    "model = xgb.train(params,\n",
    "                  train_all_matrix,\n",
    "                  num_boost_round=model_eval.best_ntree_limit + 20)\n",
    "\n",
    "test_pred = model.predict(test_matrix, ntree_limit=model.best_ntree_limit).reshape(-1, 1)"
   ]
  },
  {
   "cell_type": "code",
   "execution_count": 15,
   "metadata": {
    "ExecuteTime": {
     "end_time": "2020-08-17T02:50:50.293562Z",
     "start_time": "2020-08-17T02:50:50.234718Z"
    }
   },
   "outputs": [],
   "source": [
    "sub['temperature'] = test_pred[:, 0] + test_df['outdoorTemp'].values\n",
    "sub.to_csv('../sub/sub_{}_{}.csv'.format(time.strftime('%Y%m%d'), str(mse)[2:7]), index=False)"
   ]
  }
 ],
 "metadata": {
  "kernelspec": {
   "display_name": "Python 3",
   "language": "python",
   "name": "python3"
  },
  "language_info": {
   "codemirror_mode": {
    "name": "ipython",
    "version": 3
   },
   "file_extension": ".py",
   "mimetype": "text/x-python",
   "name": "python",
   "nbconvert_exporter": "python",
   "pygments_lexer": "ipython3",
   "version": "3.7.3"
  },
  "toc": {
   "base_numbering": 1,
   "nav_menu": {},
   "number_sections": true,
   "sideBar": true,
   "skip_h1_title": false,
   "title_cell": "Table of Contents",
   "title_sidebar": "Contents",
   "toc_cell": false,
   "toc_position": {},
   "toc_section_display": true,
   "toc_window_display": false
  },
  "varInspector": {
   "cols": {
    "lenName": 16,
    "lenType": 16,
    "lenVar": 40
   },
   "kernels_config": {
    "python": {
     "delete_cmd_postfix": "",
     "delete_cmd_prefix": "del ",
     "library": "var_list.py",
     "varRefreshCmd": "print(var_dic_list())"
    },
    "r": {
     "delete_cmd_postfix": ") ",
     "delete_cmd_prefix": "rm(",
     "library": "var_list.r",
     "varRefreshCmd": "cat(var_dic_list()) "
    }
   },
   "types_to_exclude": [
    "module",
    "function",
    "builtin_function_or_method",
    "instance",
    "_Feature"
   ],
   "window_display": false
  }
 },
 "nbformat": 4,
 "nbformat_minor": 2
}
