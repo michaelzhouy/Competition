{
 "cells": [
  {
   "cell_type": "code",
   "execution_count": 1,
   "metadata": {
    "ExecuteTime": {
     "end_time": "2020-08-24T09:22:04.408923Z",
     "start_time": "2020-08-24T09:22:04.009487Z"
    }
   },
   "outputs": [],
   "source": [
    "import pandas as pd\n",
    "import gc\n",
    "from tqdm import tqdm\n",
    "pd.set_option('max_columns', None)\n",
    "pd.set_option('max_rows', None)"
   ]
  },
  {
   "cell_type": "code",
   "execution_count": 2,
   "metadata": {
    "ExecuteTime": {
     "end_time": "2020-08-24T09:22:07.838609Z",
     "start_time": "2020-08-24T09:22:04.408923Z"
    }
   },
   "outputs": [
    {
     "data": {
      "text/html": [
       "<div>\n",
       "<style scoped>\n",
       "    .dataframe tbody tr th:only-of-type {\n",
       "        vertical-align: middle;\n",
       "    }\n",
       "\n",
       "    .dataframe tbody tr th {\n",
       "        vertical-align: top;\n",
       "    }\n",
       "\n",
       "    .dataframe thead th {\n",
       "        text-align: right;\n",
       "    }\n",
       "</style>\n",
       "<table border=\"1\" class=\"dataframe\">\n",
       "  <thead>\n",
       "    <tr style=\"text-align: right;\">\n",
       "      <th></th>\n",
       "      <th>id</th>\n",
       "      <th>activity</th>\n",
       "    </tr>\n",
       "  </thead>\n",
       "  <tbody>\n",
       "    <tr>\n",
       "      <th>0</th>\n",
       "      <td>U_7140103</td>\n",
       "      <td>[{'course_id': 'C_course-v1:TsinghuaX+20430064...</td>\n",
       "    </tr>\n",
       "    <tr>\n",
       "      <th>1</th>\n",
       "      <td>U_8484300</td>\n",
       "      <td>[{'course_id': 'C_course-v1:TsinghuaX+30640014...</td>\n",
       "    </tr>\n",
       "    <tr>\n",
       "      <th>2</th>\n",
       "      <td>U_7095434</td>\n",
       "      <td>[{'course_id': 'C_course-v1:TsinghuaX+30240184...</td>\n",
       "    </tr>\n",
       "    <tr>\n",
       "      <th>3</th>\n",
       "      <td>U_11084623</td>\n",
       "      <td>[{'course_id': 'C_course-v1:TsinghuaX+20740042...</td>\n",
       "    </tr>\n",
       "    <tr>\n",
       "      <th>4</th>\n",
       "      <td>U_9339288</td>\n",
       "      <td>[{'course_id': 'C_course-v1:TsinghuaX+00690092...</td>\n",
       "    </tr>\n",
       "  </tbody>\n",
       "</table>\n",
       "</div>"
      ],
      "text/plain": [
       "           id                                           activity\n",
       "0   U_7140103  [{'course_id': 'C_course-v1:TsinghuaX+20430064...\n",
       "1   U_8484300  [{'course_id': 'C_course-v1:TsinghuaX+30640014...\n",
       "2   U_7095434  [{'course_id': 'C_course-v1:TsinghuaX+30240184...\n",
       "3  U_11084623  [{'course_id': 'C_course-v1:TsinghuaX+20740042...\n",
       "4   U_9339288  [{'course_id': 'C_course-v1:TsinghuaX+00690092..."
      ]
     },
     "execution_count": 2,
     "metadata": {},
     "output_type": "execute_result"
    }
   ],
   "source": [
    "df = pd.read_json('../Track1/user_video_act_train_4.json', lines=True)\n",
    "df.head()"
   ]
  },
  {
   "cell_type": "code",
   "execution_count": 3,
   "metadata": {
    "ExecuteTime": {
     "end_time": "2020-08-24T09:22:07.852571Z",
     "start_time": "2020-08-24T09:22:07.840603Z"
    }
   },
   "outputs": [
    {
     "data": {
      "text/plain": [
       "7296"
      ]
     },
     "execution_count": 3,
     "metadata": {},
     "output_type": "execute_result"
    }
   ],
   "source": [
    "df['id'].nunique()"
   ]
  },
  {
   "cell_type": "code",
   "execution_count": 4,
   "metadata": {
    "ExecuteTime": {
     "end_time": "2020-08-24T09:22:07.860552Z",
     "start_time": "2020-08-24T09:22:07.854568Z"
    }
   },
   "outputs": [
    {
     "data": {
      "text/plain": [
       "(7296, 2)"
      ]
     },
     "execution_count": 4,
     "metadata": {},
     "output_type": "execute_result"
    }
   ],
   "source": [
    "df.shape"
   ]
  },
  {
   "cell_type": "code",
   "execution_count": 3,
   "metadata": {
    "ExecuteTime": {
     "end_time": "2020-08-22T08:57:24.141812Z",
     "start_time": "2020-08-22T08:57:24.110565Z"
    }
   },
   "outputs": [],
   "source": [
    "def process(x):\n",
    "    item_id = x['id']\n",
    "    course_id = map(lambda x: x['course_id'].split(':')[1], x['activity'])\n",
    "    video_id = map(lambda x: x['video_id'], x['activity'])\n",
    "    watching_count = map(lambda x: x['watching_count'], x['activity'])\n",
    "    video_duration = map(lambda x: x['video_duration'], x['activity'])\n",
    "    local_watching_time = map(lambda x: x['local_watching_time'], x['activity'])\n",
    "    video_progress_time = map(lambda x: x['video_progress_time'], x['activity'])\n",
    "    video_start_time = map(lambda x: x['video_start_time'], x['activity'])\n",
    "    video_end_time = map(lambda x: x['video_end_time'], x['activity'])\n",
    "    local_start_time = map(lambda x: x['local_start_time'], x['activity'])\n",
    "    local_end_time = map(lambda x: x['local_end_time'], x['activity'])\n",
    "    drop = map(lambda x: x['drop'], x['activity'])\n",
    "    frame = pd.DataFrame({\n",
    "        'item_id': item_id,\n",
    "        'course_id': course_id,\n",
    "        'video_id': video_id,\n",
    "        'watching_count': watching_count,\n",
    "        'video_duration': video_duration,\n",
    "        'local_watching_time': local_watching_time,\n",
    "        'video_progress_time': video_progress_time,\n",
    "        'video_start_time': video_start_time,\n",
    "        'video_end_time': video_end_time,\n",
    "        'local_start_time': local_start_time,\n",
    "        'local_end_time': local_end_time,\n",
    "        'drop': drop,\n",
    "    })\n",
    "    return frame"
   ]
  },
  {
   "cell_type": "code",
   "execution_count": 4,
   "metadata": {
    "ExecuteTime": {
     "end_time": "2020-08-22T08:57:42.241638Z",
     "start_time": "2020-08-22T08:57:24.141812Z"
    }
   },
   "outputs": [
    {
     "data": {
      "text/plain": [
       "0"
      ]
     },
     "execution_count": 4,
     "metadata": {},
     "output_type": "execute_result"
    }
   ],
   "source": [
    "s = df.apply(process, axis=1)\n",
    "\n",
    "del df\n",
    "gc.collect()"
   ]
  },
  {
   "cell_type": "code",
   "execution_count": 5,
   "metadata": {
    "ExecuteTime": {
     "end_time": "2020-08-22T08:57:48.724752Z",
     "start_time": "2020-08-22T08:57:42.244730Z"
    }
   },
   "outputs": [
    {
     "data": {
      "text/plain": [
       "0"
      ]
     },
     "execution_count": 5,
     "metadata": {},
     "output_type": "execute_result"
    }
   ],
   "source": [
    "data = pd.concat([i for i in s], ignore_index=False)\n",
    "\n",
    "del s\n",
    "gc.collect()"
   ]
  },
  {
   "cell_type": "code",
   "execution_count": 6,
   "metadata": {
    "ExecuteTime": {
     "end_time": "2020-08-22T08:57:58.943617Z",
     "start_time": "2020-08-22T08:57:48.727752Z"
    }
   },
   "outputs": [],
   "source": [
    "data.to_csv('../../input/act_4_2.csv', index=False)\n",
    "data.to_hdf('../../input/act_4_2.h5', 'df', index=False)"
   ]
  }
 ],
 "metadata": {
  "kernelspec": {
   "display_name": "Python 3",
   "language": "python",
   "name": "python3"
  },
  "toc": {
   "base_numbering": 1,
   "nav_menu": {},
   "number_sections": true,
   "sideBar": true,
   "skip_h1_title": false,
   "title_cell": "Table of Contents",
   "title_sidebar": "Contents",
   "toc_cell": false,
   "toc_position": {},
   "toc_section_display": true,
   "toc_window_display": false
  },
  "varInspector": {
   "cols": {
    "lenName": 16,
    "lenType": 16,
    "lenVar": 40
   },
   "kernels_config": {
    "python": {
     "delete_cmd_postfix": "",
     "delete_cmd_prefix": "del ",
     "library": "var_list.py",
     "varRefreshCmd": "print(var_dic_list())"
    },
    "r": {
     "delete_cmd_postfix": ") ",
     "delete_cmd_prefix": "rm(",
     "library": "var_list.r",
     "varRefreshCmd": "cat(var_dic_list()) "
    }
   },
   "types_to_exclude": [
    "module",
    "function",
    "builtin_function_or_method",
    "instance",
    "_Feature"
   ],
   "window_display": false
  }
 },
 "nbformat": 4,
 "nbformat_minor": 4
}
