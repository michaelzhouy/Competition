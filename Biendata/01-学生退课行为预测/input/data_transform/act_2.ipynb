{
 "cells": [
  {
   "cell_type": "code",
   "execution_count": 1,
   "metadata": {
    "ExecuteTime": {
     "end_time": "2020-08-24T13:46:45.463730Z",
     "start_time": "2020-08-24T13:46:44.417087Z"
    }
   },
   "outputs": [],
   "source": [
    "import pandas as pd\n",
    "import gc\n",
    "from tqdm import tqdm\n",
    "pd.set_option('max_columns', None)\n",
    "pd.set_option('max_rows', None)"
   ]
  },
  {
   "cell_type": "code",
   "execution_count": 2,
   "metadata": {
    "ExecuteTime": {
     "end_time": "2020-08-24T13:46:52.837045Z",
     "start_time": "2020-08-24T13:46:45.466729Z"
    }
   },
   "outputs": [
    {
     "data": {
      "text/html": [
       "<div>\n",
       "<style scoped>\n",
       "    .dataframe tbody tr th:only-of-type {\n",
       "        vertical-align: middle;\n",
       "    }\n",
       "\n",
       "    .dataframe tbody tr th {\n",
       "        vertical-align: top;\n",
       "    }\n",
       "\n",
       "    .dataframe thead th {\n",
       "        text-align: right;\n",
       "    }\n",
       "</style>\n",
       "<table border=\"1\" class=\"dataframe\">\n",
       "  <thead>\n",
       "    <tr style=\"text-align: right;\">\n",
       "      <th></th>\n",
       "      <th>activity</th>\n",
       "      <th>course_list</th>\n",
       "      <th>label_list</th>\n",
       "    </tr>\n",
       "  </thead>\n",
       "  <tbody>\n",
       "    <tr>\n",
       "      <th>0</th>\n",
       "      <td>[{'course_id': 'C_course-v1:TsinghuaX+20430064...</td>\n",
       "      <td>[C_course-v1:TsinghuaX+20430064X+sp, C_course-...</td>\n",
       "      <td>[1, 1, 0, 0, 0]</td>\n",
       "    </tr>\n",
       "    <tr>\n",
       "      <th>1</th>\n",
       "      <td>[{'course_id': 'C_course-v1:TsinghuaX+30640014...</td>\n",
       "      <td>[C_course-v1:TsinghuaX+30640014X+sp, C_course-...</td>\n",
       "      <td>[0, 1, 1, 1]</td>\n",
       "    </tr>\n",
       "    <tr>\n",
       "      <th>2</th>\n",
       "      <td>[{'course_id': 'C_course-v1:TsinghuaX+30240184...</td>\n",
       "      <td>[C_course-v1:TsinghuaX+30240184+sp, C_course-v...</td>\n",
       "      <td>[0, 0, 0, 0, 1]</td>\n",
       "    </tr>\n",
       "    <tr>\n",
       "      <th>3</th>\n",
       "      <td>[{'course_id': 'C_course-v1:TsinghuaX+20740042...</td>\n",
       "      <td>[C_course-v1:TsinghuaX+20740042X+2019_T1, C_co...</td>\n",
       "      <td>[0, 0, 0, 1]</td>\n",
       "    </tr>\n",
       "    <tr>\n",
       "      <th>4</th>\n",
       "      <td>[{'course_id': 'C_course-v1:TsinghuaX+00690092...</td>\n",
       "      <td>[C_course-v1:TsinghuaX+00690092X+sp, C_course-...</td>\n",
       "      <td>[0, 1, 0, 0, 1, 0, 1, 1, 1, 0, 0]</td>\n",
       "    </tr>\n",
       "  </tbody>\n",
       "</table>\n",
       "</div>"
      ],
      "text/plain": [
       "                                            activity  \\\n",
       "0  [{'course_id': 'C_course-v1:TsinghuaX+20430064...   \n",
       "1  [{'course_id': 'C_course-v1:TsinghuaX+30640014...   \n",
       "2  [{'course_id': 'C_course-v1:TsinghuaX+30240184...   \n",
       "3  [{'course_id': 'C_course-v1:TsinghuaX+20740042...   \n",
       "4  [{'course_id': 'C_course-v1:TsinghuaX+00690092...   \n",
       "\n",
       "                                         course_list  \\\n",
       "0  [C_course-v1:TsinghuaX+20430064X+sp, C_course-...   \n",
       "1  [C_course-v1:TsinghuaX+30640014X+sp, C_course-...   \n",
       "2  [C_course-v1:TsinghuaX+30240184+sp, C_course-v...   \n",
       "3  [C_course-v1:TsinghuaX+20740042X+2019_T1, C_co...   \n",
       "4  [C_course-v1:TsinghuaX+00690092X+sp, C_course-...   \n",
       "\n",
       "                          label_list  \n",
       "0                    [1, 1, 0, 0, 0]  \n",
       "1                       [0, 1, 1, 1]  \n",
       "2                    [0, 0, 0, 0, 1]  \n",
       "3                       [0, 0, 0, 1]  \n",
       "4  [0, 1, 0, 0, 1, 0, 1, 1, 1, 0, 0]  "
      ]
     },
     "execution_count": 2,
     "metadata": {},
     "output_type": "execute_result"
    }
   ],
   "source": [
    "df = pd.read_json('../Track1/user_video_act_train_2.json', lines=True)\n",
    "df.head()"
   ]
  },
  {
   "cell_type": "code",
   "execution_count": 3,
   "metadata": {
    "ExecuteTime": {
     "end_time": "2020-08-24T13:46:52.868290Z",
     "start_time": "2020-08-24T13:46:52.837045Z"
    }
   },
   "outputs": [
    {
     "data": {
      "text/plain": [
       "(7296, 4)"
      ]
     },
     "execution_count": 3,
     "metadata": {},
     "output_type": "execute_result"
    }
   ],
   "source": [
    "df['item_id'] = ['U_{}'.format(i) for i in range(len(df))]\n",
    "df.shape"
   ]
  },
  {
   "cell_type": "code",
   "execution_count": 4,
   "metadata": {
    "ExecuteTime": {
     "end_time": "2020-08-24T13:46:53.080531Z",
     "start_time": "2020-08-24T13:46:52.868290Z"
    }
   },
   "outputs": [
    {
     "data": {
      "text/html": [
       "<div>\n",
       "<style scoped>\n",
       "    .dataframe tbody tr th:only-of-type {\n",
       "        vertical-align: middle;\n",
       "    }\n",
       "\n",
       "    .dataframe tbody tr th {\n",
       "        vertical-align: top;\n",
       "    }\n",
       "\n",
       "    .dataframe thead th {\n",
       "        text-align: right;\n",
       "    }\n",
       "</style>\n",
       "<table border=\"1\" class=\"dataframe\">\n",
       "  <thead>\n",
       "    <tr style=\"text-align: right;\">\n",
       "      <th></th>\n",
       "      <th>activity</th>\n",
       "      <th>course_list</th>\n",
       "      <th>label_list</th>\n",
       "      <th>item_id</th>\n",
       "    </tr>\n",
       "  </thead>\n",
       "  <tbody>\n",
       "    <tr>\n",
       "      <th>0</th>\n",
       "      <td>[{'course_id': 'C_course-v1:TsinghuaX+20430064...</td>\n",
       "      <td>[C_course-v1:TsinghuaX+20430064X+sp, C_course-...</td>\n",
       "      <td>[1, 1, 0, 0, 0]</td>\n",
       "      <td>U_0</td>\n",
       "    </tr>\n",
       "    <tr>\n",
       "      <th>1</th>\n",
       "      <td>[{'course_id': 'C_course-v1:TsinghuaX+30640014...</td>\n",
       "      <td>[C_course-v1:TsinghuaX+30640014X+sp, C_course-...</td>\n",
       "      <td>[0, 1, 1, 1]</td>\n",
       "      <td>U_1</td>\n",
       "    </tr>\n",
       "    <tr>\n",
       "      <th>2</th>\n",
       "      <td>[{'course_id': 'C_course-v1:TsinghuaX+30240184...</td>\n",
       "      <td>[C_course-v1:TsinghuaX+30240184+sp, C_course-v...</td>\n",
       "      <td>[0, 0, 0, 0, 1]</td>\n",
       "      <td>U_2</td>\n",
       "    </tr>\n",
       "    <tr>\n",
       "      <th>3</th>\n",
       "      <td>[{'course_id': 'C_course-v1:TsinghuaX+20740042...</td>\n",
       "      <td>[C_course-v1:TsinghuaX+20740042X+2019_T1, C_co...</td>\n",
       "      <td>[0, 0, 0, 1]</td>\n",
       "      <td>U_3</td>\n",
       "    </tr>\n",
       "    <tr>\n",
       "      <th>4</th>\n",
       "      <td>[{'course_id': 'C_course-v1:TsinghuaX+00690092...</td>\n",
       "      <td>[C_course-v1:TsinghuaX+00690092X+sp, C_course-...</td>\n",
       "      <td>[0, 1, 0, 0, 1, 0, 1, 1, 1, 0, 0]</td>\n",
       "      <td>U_4</td>\n",
       "    </tr>\n",
       "  </tbody>\n",
       "</table>\n",
       "</div>"
      ],
      "text/plain": [
       "                                            activity  \\\n",
       "0  [{'course_id': 'C_course-v1:TsinghuaX+20430064...   \n",
       "1  [{'course_id': 'C_course-v1:TsinghuaX+30640014...   \n",
       "2  [{'course_id': 'C_course-v1:TsinghuaX+30240184...   \n",
       "3  [{'course_id': 'C_course-v1:TsinghuaX+20740042...   \n",
       "4  [{'course_id': 'C_course-v1:TsinghuaX+00690092...   \n",
       "\n",
       "                                         course_list  \\\n",
       "0  [C_course-v1:TsinghuaX+20430064X+sp, C_course-...   \n",
       "1  [C_course-v1:TsinghuaX+30640014X+sp, C_course-...   \n",
       "2  [C_course-v1:TsinghuaX+30240184+sp, C_course-v...   \n",
       "3  [C_course-v1:TsinghuaX+20740042X+2019_T1, C_co...   \n",
       "4  [C_course-v1:TsinghuaX+00690092X+sp, C_course-...   \n",
       "\n",
       "                          label_list item_id  \n",
       "0                    [1, 1, 0, 0, 0]     U_0  \n",
       "1                       [0, 1, 1, 1]     U_1  \n",
       "2                    [0, 0, 0, 0, 1]     U_2  \n",
       "3                       [0, 0, 0, 1]     U_3  \n",
       "4  [0, 1, 0, 0, 1, 0, 1, 1, 1, 0, 0]     U_4  "
      ]
     },
     "execution_count": 4,
     "metadata": {},
     "output_type": "execute_result"
    }
   ],
   "source": [
    "df.head()"
   ]
  },
  {
   "cell_type": "code",
   "execution_count": 5,
   "metadata": {
    "ExecuteTime": {
     "end_time": "2020-08-24T13:46:53.091526Z",
     "start_time": "2020-08-24T13:46:53.083531Z"
    }
   },
   "outputs": [
    {
     "data": {
      "text/plain": [
       "{'course_id': 'C_course-v1:TsinghuaX+20430064X+sp',\n",
       " 'video_id': 'V_05f095f52ac6446ba05b883171c66713',\n",
       " 'watching_count': 1,\n",
       " 'video_duration': 563.0,\n",
       " 'local_watching_time': 563,\n",
       " 'video_progress_time': 563.0,\n",
       " 'video_start_time': 0.0,\n",
       " 'video_end_time': 563.0,\n",
       " 'local_start_time': '2017-07-24 13:26:56',\n",
       " 'local_end_time': '2017-07-24 13:36:19'}"
      ]
     },
     "execution_count": 5,
     "metadata": {},
     "output_type": "execute_result"
    }
   ],
   "source": [
    "df.iloc[0, 0][0]"
   ]
  },
  {
   "cell_type": "code",
   "execution_count": 6,
   "metadata": {
    "ExecuteTime": {
     "end_time": "2020-08-24T13:47:17.362628Z",
     "start_time": "2020-08-24T13:46:53.095525Z"
    }
   },
   "outputs": [
    {
     "name": "stdout",
     "output_type": "stream",
     "text": [
      "(581676, 11)\n"
     ]
    },
    {
     "data": {
      "text/html": [
       "<div>\n",
       "<style scoped>\n",
       "    .dataframe tbody tr th:only-of-type {\n",
       "        vertical-align: middle;\n",
       "    }\n",
       "\n",
       "    .dataframe tbody tr th {\n",
       "        vertical-align: top;\n",
       "    }\n",
       "\n",
       "    .dataframe thead th {\n",
       "        text-align: right;\n",
       "    }\n",
       "</style>\n",
       "<table border=\"1\" class=\"dataframe\">\n",
       "  <thead>\n",
       "    <tr style=\"text-align: right;\">\n",
       "      <th></th>\n",
       "      <th>item_id</th>\n",
       "      <th>course_id</th>\n",
       "      <th>video_id</th>\n",
       "      <th>watching_count</th>\n",
       "      <th>video_duration</th>\n",
       "      <th>local_watching_time</th>\n",
       "      <th>video_progress_time</th>\n",
       "      <th>video_start_time</th>\n",
       "      <th>video_end_time</th>\n",
       "      <th>local_start_time</th>\n",
       "      <th>local_end_time</th>\n",
       "    </tr>\n",
       "  </thead>\n",
       "  <tbody>\n",
       "    <tr>\n",
       "      <th>0</th>\n",
       "      <td>U_0</td>\n",
       "      <td>C_course-v1:TsinghuaX+20430064X+sp</td>\n",
       "      <td>V_05f095f52ac6446ba05b883171c66713</td>\n",
       "      <td>1</td>\n",
       "      <td>563.0</td>\n",
       "      <td>563</td>\n",
       "      <td>563.000000</td>\n",
       "      <td>0.0</td>\n",
       "      <td>563.00</td>\n",
       "      <td>2017-07-24 13:26:56</td>\n",
       "      <td>2017-07-24 13:36:19</td>\n",
       "    </tr>\n",
       "    <tr>\n",
       "      <th>1</th>\n",
       "      <td>U_0</td>\n",
       "      <td>C_course-v1:TsinghuaX+34000888X+sp</td>\n",
       "      <td>V_0d166f12024942fca500891c0346b86a</td>\n",
       "      <td>1</td>\n",
       "      <td>166.0</td>\n",
       "      <td>166</td>\n",
       "      <td>166.000000</td>\n",
       "      <td>0.0</td>\n",
       "      <td>166.00</td>\n",
       "      <td>2017-07-06 14:47:00</td>\n",
       "      <td>2017-07-06 14:49:46</td>\n",
       "    </tr>\n",
       "    <tr>\n",
       "      <th>2</th>\n",
       "      <td>U_0</td>\n",
       "      <td>C_course-v1:TsinghuaX+00691153X+sp</td>\n",
       "      <td>V_0d2ed7b0f77647388d3ad5420d1d6549</td>\n",
       "      <td>2</td>\n",
       "      <td>415.0</td>\n",
       "      <td>415</td>\n",
       "      <td>414.809998</td>\n",
       "      <td>0.0</td>\n",
       "      <td>415.00</td>\n",
       "      <td>2017-07-13 09:01:58</td>\n",
       "      <td>2017-07-13 13:18:15</td>\n",
       "    </tr>\n",
       "    <tr>\n",
       "      <th>3</th>\n",
       "      <td>U_0</td>\n",
       "      <td>C_course-v1:TsinghuaX+20430064X+sp</td>\n",
       "      <td>V_10355a6a239c4a1dbc28e99bfb7633c1</td>\n",
       "      <td>1</td>\n",
       "      <td>173.0</td>\n",
       "      <td>174</td>\n",
       "      <td>173.000000</td>\n",
       "      <td>0.0</td>\n",
       "      <td>173.00</td>\n",
       "      <td>2017-07-24 13:11:47</td>\n",
       "      <td>2017-07-24 13:14:41</td>\n",
       "    </tr>\n",
       "    <tr>\n",
       "      <th>4</th>\n",
       "      <td>U_0</td>\n",
       "      <td>C_course-v1:TsinghuaX+34000888X+sp</td>\n",
       "      <td>V_11f15f23fca948808b5f44e25b75f6a2</td>\n",
       "      <td>1</td>\n",
       "      <td>63.0</td>\n",
       "      <td>19</td>\n",
       "      <td>18.820000</td>\n",
       "      <td>0.0</td>\n",
       "      <td>18.82</td>\n",
       "      <td>2017-07-06 14:56:18</td>\n",
       "      <td>2017-07-06 14:56:37</td>\n",
       "    </tr>\n",
       "  </tbody>\n",
       "</table>\n",
       "</div>"
      ],
      "text/plain": [
       "  item_id                           course_id  \\\n",
       "0     U_0  C_course-v1:TsinghuaX+20430064X+sp   \n",
       "1     U_0  C_course-v1:TsinghuaX+34000888X+sp   \n",
       "2     U_0  C_course-v1:TsinghuaX+00691153X+sp   \n",
       "3     U_0  C_course-v1:TsinghuaX+20430064X+sp   \n",
       "4     U_0  C_course-v1:TsinghuaX+34000888X+sp   \n",
       "\n",
       "                             video_id  watching_count  video_duration  \\\n",
       "0  V_05f095f52ac6446ba05b883171c66713               1           563.0   \n",
       "1  V_0d166f12024942fca500891c0346b86a               1           166.0   \n",
       "2  V_0d2ed7b0f77647388d3ad5420d1d6549               2           415.0   \n",
       "3  V_10355a6a239c4a1dbc28e99bfb7633c1               1           173.0   \n",
       "4  V_11f15f23fca948808b5f44e25b75f6a2               1            63.0   \n",
       "\n",
       "   local_watching_time  video_progress_time  video_start_time  video_end_time  \\\n",
       "0                  563           563.000000               0.0          563.00   \n",
       "1                  166           166.000000               0.0          166.00   \n",
       "2                  415           414.809998               0.0          415.00   \n",
       "3                  174           173.000000               0.0          173.00   \n",
       "4                   19            18.820000               0.0           18.82   \n",
       "\n",
       "      local_start_time       local_end_time  \n",
       "0  2017-07-24 13:26:56  2017-07-24 13:36:19  \n",
       "1  2017-07-06 14:47:00  2017-07-06 14:49:46  \n",
       "2  2017-07-13 09:01:58  2017-07-13 13:18:15  \n",
       "3  2017-07-24 13:11:47  2017-07-24 13:14:41  \n",
       "4  2017-07-06 14:56:18  2017-07-06 14:56:37  "
      ]
     },
     "execution_count": 6,
     "metadata": {},
     "output_type": "execute_result"
    }
   ],
   "source": [
    "def activity_process(x):\n",
    "    item_id = x['item_id']\n",
    "    course_id = map(lambda x: x['course_id'], x['activity'])\n",
    "    video_id = map(lambda x: x['video_id'], x['activity'])\n",
    "    watching_count = map(lambda x: x['watching_count'], x['activity'])\n",
    "    video_duration = map(lambda x: x['video_duration'], x['activity'])\n",
    "    local_watching_time = map(lambda x: x['local_watching_time'], x['activity'])\n",
    "    video_progress_time = map(lambda x: x['video_progress_time'], x['activity'])\n",
    "    video_start_time = map(lambda x: x['video_start_time'], x['activity'])\n",
    "    video_end_time = map(lambda x: x['video_end_time'], x['activity'])\n",
    "    local_start_time = map(lambda x: x['local_start_time'], x['activity'])\n",
    "    local_end_time = map(lambda x: x['local_end_time'], x['activity'])\n",
    "    \n",
    "    frame = pd.DataFrame({\n",
    "        'item_id': item_id,\n",
    "        'course_id': course_id,\n",
    "        'video_id': video_id,\n",
    "        'watching_count': watching_count,\n",
    "        'video_duration': video_duration,\n",
    "        'local_watching_time': local_watching_time,\n",
    "        'video_progress_time': video_progress_time,\n",
    "        'video_start_time': video_start_time,\n",
    "        'video_end_time': video_end_time,\n",
    "        'local_start_time': local_start_time,\n",
    "        'local_end_time': local_end_time\n",
    "    })\n",
    "    return frame\n",
    "\n",
    "s = df.apply(activity_process, axis=1)\n",
    "\n",
    "activity = pd.concat([i for i in s], ignore_index=False)\n",
    "\n",
    "del s\n",
    "gc.collect()\n",
    "\n",
    "print(activity.shape)\n",
    "activity.head()"
   ]
  },
  {
   "cell_type": "code",
   "execution_count": 7,
   "metadata": {
    "ExecuteTime": {
     "end_time": "2020-08-24T13:47:25.967025Z",
     "start_time": "2020-08-24T13:47:17.365625Z"
    }
   },
   "outputs": [
    {
     "name": "stdout",
     "output_type": "stream",
     "text": [
      "(40727, 3)\n",
      "0.28769612296510916\n"
     ]
    },
    {
     "data": {
      "text/html": [
       "<div>\n",
       "<style scoped>\n",
       "    .dataframe tbody tr th:only-of-type {\n",
       "        vertical-align: middle;\n",
       "    }\n",
       "\n",
       "    .dataframe tbody tr th {\n",
       "        vertical-align: top;\n",
       "    }\n",
       "\n",
       "    .dataframe thead th {\n",
       "        text-align: right;\n",
       "    }\n",
       "</style>\n",
       "<table border=\"1\" class=\"dataframe\">\n",
       "  <thead>\n",
       "    <tr style=\"text-align: right;\">\n",
       "      <th></th>\n",
       "      <th>item_id</th>\n",
       "      <th>course_id</th>\n",
       "      <th>label</th>\n",
       "    </tr>\n",
       "  </thead>\n",
       "  <tbody>\n",
       "    <tr>\n",
       "      <th>0</th>\n",
       "      <td>U_0</td>\n",
       "      <td>C_course-v1:TsinghuaX+20430064X+sp</td>\n",
       "      <td>1</td>\n",
       "    </tr>\n",
       "    <tr>\n",
       "      <th>1</th>\n",
       "      <td>U_0</td>\n",
       "      <td>C_course-v1:TsinghuaX+34000888X+sp</td>\n",
       "      <td>1</td>\n",
       "    </tr>\n",
       "    <tr>\n",
       "      <th>2</th>\n",
       "      <td>U_0</td>\n",
       "      <td>C_course-v1:TsinghuaX+00691153X+sp</td>\n",
       "      <td>0</td>\n",
       "    </tr>\n",
       "    <tr>\n",
       "      <th>3</th>\n",
       "      <td>U_0</td>\n",
       "      <td>C_course-v1:TsinghuaX+400182X+sp</td>\n",
       "      <td>0</td>\n",
       "    </tr>\n",
       "    <tr>\n",
       "      <th>4</th>\n",
       "      <td>U_0</td>\n",
       "      <td>C_course-v1:TsinghuaX+10421075X_2015_2+sp</td>\n",
       "      <td>0</td>\n",
       "    </tr>\n",
       "  </tbody>\n",
       "</table>\n",
       "</div>"
      ],
      "text/plain": [
       "  item_id                                  course_id  label\n",
       "0     U_0         C_course-v1:TsinghuaX+20430064X+sp      1\n",
       "1     U_0         C_course-v1:TsinghuaX+34000888X+sp      1\n",
       "2     U_0         C_course-v1:TsinghuaX+00691153X+sp      0\n",
       "3     U_0           C_course-v1:TsinghuaX+400182X+sp      0\n",
       "4     U_0  C_course-v1:TsinghuaX+10421075X_2015_2+sp      0"
      ]
     },
     "execution_count": 7,
     "metadata": {},
     "output_type": "execute_result"
    }
   ],
   "source": [
    "def label_process(x):\n",
    "    item_id = x['item_id']\n",
    "    course_id = x['course_list']\n",
    "    label = x['label_list']\n",
    "    \n",
    "    frame = pd.DataFrame({\n",
    "        'item_id': item_id,\n",
    "        'course_id': course_id,\n",
    "        'label': label\n",
    "    })\n",
    "    return frame\n",
    "\n",
    "s = df.apply(label_process, axis=1)\n",
    "\n",
    "del df\n",
    "gc.collect()\n",
    "\n",
    "label = pd.concat([i for i in s], ignore_index=False)\n",
    "\n",
    "del s\n",
    "gc.collect()\n",
    "\n",
    "print(label.shape)\n",
    "print(label['label'].mean())\n",
    "label.head()"
   ]
  },
  {
   "cell_type": "code",
   "execution_count": 8,
   "metadata": {
    "ExecuteTime": {
     "end_time": "2020-08-24T13:47:30.375225Z",
     "start_time": "2020-08-24T13:47:25.972022Z"
    }
   },
   "outputs": [],
   "source": [
    "activity.to_hdf('../../input/act_2_activity.h5', 'df', index=False)\n",
    "label.to_hdf('../../input/act_2_label.h5', 'df', index=False)"
   ]
  }
 ],
 "metadata": {
  "kernelspec": {
   "display_name": "Python 3",
   "language": "python",
   "name": "python3"
  },
  "language_info": {
   "codemirror_mode": {
    "name": "ipython",
    "version": 3
   },
   "file_extension": ".py",
   "mimetype": "text/x-python",
   "name": "python",
   "nbconvert_exporter": "python",
   "pygments_lexer": "ipython3",
   "version": "3.7.3"
  },
  "toc": {
   "base_numbering": 1,
   "nav_menu": {},
   "number_sections": true,
   "sideBar": true,
   "skip_h1_title": false,
   "title_cell": "Table of Contents",
   "title_sidebar": "Contents",
   "toc_cell": false,
   "toc_position": {},
   "toc_section_display": true,
   "toc_window_display": false
  },
  "varInspector": {
   "cols": {
    "lenName": 16,
    "lenType": 16,
    "lenVar": 40
   },
   "kernels_config": {
    "python": {
     "delete_cmd_postfix": "",
     "delete_cmd_prefix": "del ",
     "library": "var_list.py",
     "varRefreshCmd": "print(var_dic_list())"
    },
    "r": {
     "delete_cmd_postfix": ") ",
     "delete_cmd_prefix": "rm(",
     "library": "var_list.r",
     "varRefreshCmd": "cat(var_dic_list()) "
    }
   },
   "types_to_exclude": [
    "module",
    "function",
    "builtin_function_or_method",
    "instance",
    "_Feature"
   ],
   "window_display": false
  }
 },
 "nbformat": 4,
 "nbformat_minor": 2
}
