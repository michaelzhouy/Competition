{
 "cells": [
  {
   "cell_type": "code",
   "execution_count": 1,
   "metadata": {
    "ExecuteTime": {
     "end_time": "2020-08-31T12:16:15.596376Z",
     "start_time": "2020-08-31T12:16:15.216549Z"
    }
   },
   "outputs": [],
   "source": [
    "import numpy as np\n",
    "import pandas as pd\n",
    "import gc\n",
    "from tqdm import tqdm\n",
    "pd.set_option('max_columns', None)\n",
    "pd.set_option('max_rows', None)"
   ]
  },
  {
   "cell_type": "code",
   "execution_count": 2,
   "metadata": {
    "ExecuteTime": {
     "end_time": "2020-08-31T12:16:25.029209Z",
     "start_time": "2020-08-31T12:16:15.598323Z"
    }
   },
   "outputs": [
    {
     "data": {
      "text/plain": [
       "(34048, 4)"
      ]
     },
     "execution_count": 2,
     "metadata": {},
     "output_type": "execute_result"
    }
   ],
   "source": [
    "df1 = pd.read_json('../Track1/user_video_act_train_1.json', lines=True)\n",
    "df1['item_id'] = ['V_{}'.format(i) for i in range(len(df1))]\n",
    "df1.shape"
   ]
  },
  {
   "cell_type": "code",
   "execution_count": 3,
   "metadata": {
    "ExecuteTime": {
     "end_time": "2020-08-31T12:16:27.151341Z",
     "start_time": "2020-08-31T12:16:25.031155Z"
    }
   },
   "outputs": [
    {
     "data": {
      "text/plain": [
       "(7296, 4)"
      ]
     },
     "execution_count": 3,
     "metadata": {},
     "output_type": "execute_result"
    }
   ],
   "source": [
    "df2 = pd.read_json('../Track1/user_video_act_train_2.json', lines=True)\n",
    "df2['item_id'] = ['U_{}'.format(i) for i in range(len(df2))]\n",
    "df2.shape"
   ]
  },
  {
   "cell_type": "code",
   "execution_count": 4,
   "metadata": {
    "ExecuteTime": {
     "end_time": "2020-08-31T12:16:27.331869Z",
     "start_time": "2020-08-31T12:16:27.152312Z"
    }
   },
   "outputs": [
    {
     "data": {
      "text/plain": [
       "20"
      ]
     },
     "execution_count": 4,
     "metadata": {},
     "output_type": "execute_result"
    }
   ],
   "source": [
    "df = pd.concat([df1, df2], axis=0, ignore_index=False)\n",
    "df.shape\n",
    "\n",
    "del df1, df2\n",
    "gc.collect()"
   ]
  },
  {
   "cell_type": "code",
   "execution_count": 5,
   "metadata": {
    "ExecuteTime": {
     "end_time": "2020-08-31T12:16:27.415957Z",
     "start_time": "2020-08-31T12:16:27.332830Z"
    }
   },
   "outputs": [
    {
     "data": {
      "text/html": [
       "<div>\n",
       "<style scoped>\n",
       "    .dataframe tbody tr th:only-of-type {\n",
       "        vertical-align: middle;\n",
       "    }\n",
       "\n",
       "    .dataframe tbody tr th {\n",
       "        vertical-align: top;\n",
       "    }\n",
       "\n",
       "    .dataframe thead th {\n",
       "        text-align: right;\n",
       "    }\n",
       "</style>\n",
       "<table border=\"1\" class=\"dataframe\">\n",
       "  <thead>\n",
       "    <tr style=\"text-align: right;\">\n",
       "      <th></th>\n",
       "      <th>activity</th>\n",
       "      <th>course_list</th>\n",
       "      <th>label_list</th>\n",
       "      <th>item_id</th>\n",
       "    </tr>\n",
       "  </thead>\n",
       "  <tbody>\n",
       "    <tr>\n",
       "      <th>0</th>\n",
       "      <td>[{'course_id': 'C_course-v1:TsinghuaX+30240184...</td>\n",
       "      <td>[C_course-v1:TsinghuaX+30240184+sp, C_course-v...</td>\n",
       "      <td>[0, 1, 0, 0]</td>\n",
       "      <td>V_0</td>\n",
       "    </tr>\n",
       "    <tr>\n",
       "      <th>1</th>\n",
       "      <td>[{'course_id': 'C_course-v1:TsinghuaX+30700313...</td>\n",
       "      <td>[C_course-v1:TsinghuaX+30700313X+sp, C_course-...</td>\n",
       "      <td>[0, 0, 1, 0]</td>\n",
       "      <td>V_1</td>\n",
       "    </tr>\n",
       "    <tr>\n",
       "      <th>2</th>\n",
       "      <td>[{'course_id': 'C_course-v1:TsinghuaX+30640014...</td>\n",
       "      <td>[C_course-v1:TsinghuaX+30640014X+sp, C_course-...</td>\n",
       "      <td>[0, 0, 0]</td>\n",
       "      <td>V_2</td>\n",
       "    </tr>\n",
       "    <tr>\n",
       "      <th>3</th>\n",
       "      <td>[{'course_id': 'C_course-v1:TsinghuaX+00740043...</td>\n",
       "      <td>[C_course-v1:TsinghuaX+00740043_2x_2015_T2+sp,...</td>\n",
       "      <td>[0, 1, 1]</td>\n",
       "      <td>V_3</td>\n",
       "    </tr>\n",
       "    <tr>\n",
       "      <th>4</th>\n",
       "      <td>[{'course_id': 'C_course-v1:TsinghuaX+10800163...</td>\n",
       "      <td>[C_course-v1:TsinghuaX+10800163X+sp, C_course-...</td>\n",
       "      <td>[0, 0, 1]</td>\n",
       "      <td>V_4</td>\n",
       "    </tr>\n",
       "  </tbody>\n",
       "</table>\n",
       "</div>"
      ],
      "text/plain": [
       "                                            activity  \\\n",
       "0  [{'course_id': 'C_course-v1:TsinghuaX+30240184...   \n",
       "1  [{'course_id': 'C_course-v1:TsinghuaX+30700313...   \n",
       "2  [{'course_id': 'C_course-v1:TsinghuaX+30640014...   \n",
       "3  [{'course_id': 'C_course-v1:TsinghuaX+00740043...   \n",
       "4  [{'course_id': 'C_course-v1:TsinghuaX+10800163...   \n",
       "\n",
       "                                         course_list    label_list item_id  \n",
       "0  [C_course-v1:TsinghuaX+30240184+sp, C_course-v...  [0, 1, 0, 0]     V_0  \n",
       "1  [C_course-v1:TsinghuaX+30700313X+sp, C_course-...  [0, 0, 1, 0]     V_1  \n",
       "2  [C_course-v1:TsinghuaX+30640014X+sp, C_course-...     [0, 0, 0]     V_2  \n",
       "3  [C_course-v1:TsinghuaX+00740043_2x_2015_T2+sp,...     [0, 1, 1]     V_3  \n",
       "4  [C_course-v1:TsinghuaX+10800163X+sp, C_course-...     [0, 0, 1]     V_4  "
      ]
     },
     "execution_count": 5,
     "metadata": {},
     "output_type": "execute_result"
    }
   ],
   "source": [
    "df.head()"
   ]
  },
  {
   "cell_type": "code",
   "execution_count": 6,
   "metadata": {
    "ExecuteTime": {
     "end_time": "2020-08-31T12:16:27.424895Z",
     "start_time": "2020-08-31T12:16:27.416916Z"
    }
   },
   "outputs": [
    {
     "data": {
      "text/plain": [
       "{'course_id': 'C_course-v1:TsinghuaX+30240184+sp',\n",
       " 'video_id': 'V_102d2536030d47b4b343c3848f6f50b6',\n",
       " 'watching_count': 1,\n",
       " 'video_duration': 233.0,\n",
       " 'local_watching_time': 186,\n",
       " 'video_progress_time': 233.0,\n",
       " 'video_start_time': 0.0,\n",
       " 'video_end_time': 233.0,\n",
       " 'local_start_time': '2019-04-04 21:13:20',\n",
       " 'local_end_time': '2019-04-04 21:16:26'}"
      ]
     },
     "execution_count": 6,
     "metadata": {},
     "output_type": "execute_result"
    }
   ],
   "source": [
    "df.iloc[0, 0][0]"
   ]
  },
  {
   "cell_type": "markdown",
   "metadata": {},
   "source": [
    "# label处理"
   ]
  },
  {
   "cell_type": "code",
   "execution_count": 7,
   "metadata": {
    "ExecuteTime": {
     "end_time": "2020-08-31T12:16:57.107270Z",
     "start_time": "2020-08-31T12:16:27.427886Z"
    },
    "scrolled": true
   },
   "outputs": [
    {
     "name": "stdout",
     "output_type": "stream",
     "text": [
      "(227934, 3)\n",
      "0.2872893030438636\n"
     ]
    },
    {
     "data": {
      "text/html": [
       "<div>\n",
       "<style scoped>\n",
       "    .dataframe tbody tr th:only-of-type {\n",
       "        vertical-align: middle;\n",
       "    }\n",
       "\n",
       "    .dataframe tbody tr th {\n",
       "        vertical-align: top;\n",
       "    }\n",
       "\n",
       "    .dataframe thead th {\n",
       "        text-align: right;\n",
       "    }\n",
       "</style>\n",
       "<table border=\"1\" class=\"dataframe\">\n",
       "  <thead>\n",
       "    <tr style=\"text-align: right;\">\n",
       "      <th></th>\n",
       "      <th>item_id</th>\n",
       "      <th>course_id</th>\n",
       "      <th>label</th>\n",
       "    </tr>\n",
       "  </thead>\n",
       "  <tbody>\n",
       "    <tr>\n",
       "      <th>0</th>\n",
       "      <td>V_0</td>\n",
       "      <td>C_course-v1:TsinghuaX+30240184+sp</td>\n",
       "      <td>0</td>\n",
       "    </tr>\n",
       "    <tr>\n",
       "      <th>1</th>\n",
       "      <td>V_0</td>\n",
       "      <td>C_course-v1:TsinghuaX+00310222X+sp</td>\n",
       "      <td>1</td>\n",
       "    </tr>\n",
       "    <tr>\n",
       "      <th>2</th>\n",
       "      <td>V_0</td>\n",
       "      <td>C_course-v1:GXUST+2017041901X+2017_T1</td>\n",
       "      <td>0</td>\n",
       "    </tr>\n",
       "    <tr>\n",
       "      <th>3</th>\n",
       "      <td>V_0</td>\n",
       "      <td>C_course-v1:TsinghuaX+00740043X_2015_T2+sp</td>\n",
       "      <td>0</td>\n",
       "    </tr>\n",
       "    <tr>\n",
       "      <th>0</th>\n",
       "      <td>V_1</td>\n",
       "      <td>C_course-v1:TsinghuaX+30700313X+sp</td>\n",
       "      <td>0</td>\n",
       "    </tr>\n",
       "  </tbody>\n",
       "</table>\n",
       "</div>"
      ],
      "text/plain": [
       "  item_id                                   course_id  label\n",
       "0     V_0           C_course-v1:TsinghuaX+30240184+sp      0\n",
       "1     V_0          C_course-v1:TsinghuaX+00310222X+sp      1\n",
       "2     V_0       C_course-v1:GXUST+2017041901X+2017_T1      0\n",
       "3     V_0  C_course-v1:TsinghuaX+00740043X_2015_T2+sp      0\n",
       "0     V_1          C_course-v1:TsinghuaX+30700313X+sp      0"
      ]
     },
     "execution_count": 7,
     "metadata": {},
     "output_type": "execute_result"
    }
   ],
   "source": [
    "def label_process(x):\n",
    "    item_id = x['item_id']\n",
    "    course_id = x['course_list']\n",
    "    label = x['label_list']\n",
    "    \n",
    "    frame = pd.DataFrame({\n",
    "        'item_id': item_id,\n",
    "        'course_id': course_id,\n",
    "        'label': label\n",
    "    })\n",
    "    return frame\n",
    "\n",
    "s = df.apply(label_process, axis=1)\n",
    "\n",
    "label = pd.concat([i for i in s], ignore_index=False)\n",
    "\n",
    "del s\n",
    "gc.collect()\n",
    "\n",
    "print(label.shape)\n",
    "print(label['label'].mean())\n",
    "label.head()"
   ]
  },
  {
   "cell_type": "code",
   "execution_count": 8,
   "metadata": {
    "ExecuteTime": {
     "end_time": "2020-08-31T12:16:57.797086Z",
     "start_time": "2020-08-31T12:16:57.109230Z"
    }
   },
   "outputs": [
    {
     "data": {
      "text/plain": [
       "22"
      ]
     },
     "execution_count": 8,
     "metadata": {},
     "output_type": "execute_result"
    }
   ],
   "source": [
    "label.to_hdf('../train_label.h5', 'df', index=False)\n",
    "del label\n",
    "gc.collect()"
   ]
  },
  {
   "cell_type": "markdown",
   "metadata": {},
   "source": [
    "# activity处理"
   ]
  },
  {
   "cell_type": "code",
   "execution_count": 9,
   "metadata": {
    "ExecuteTime": {
     "end_time": "2020-08-31T12:18:16.021604Z",
     "start_time": "2020-08-31T12:16:57.799081Z"
    }
   },
   "outputs": [
    {
     "name": "stdout",
     "output_type": "stream",
     "text": [
      "(3288358, 11)\n"
     ]
    },
    {
     "data": {
      "text/html": [
       "<div>\n",
       "<style scoped>\n",
       "    .dataframe tbody tr th:only-of-type {\n",
       "        vertical-align: middle;\n",
       "    }\n",
       "\n",
       "    .dataframe tbody tr th {\n",
       "        vertical-align: top;\n",
       "    }\n",
       "\n",
       "    .dataframe thead th {\n",
       "        text-align: right;\n",
       "    }\n",
       "</style>\n",
       "<table border=\"1\" class=\"dataframe\">\n",
       "  <thead>\n",
       "    <tr style=\"text-align: right;\">\n",
       "      <th></th>\n",
       "      <th>item_id</th>\n",
       "      <th>course_id</th>\n",
       "      <th>video_id</th>\n",
       "      <th>watching_count</th>\n",
       "      <th>video_duration</th>\n",
       "      <th>local_watching_time</th>\n",
       "      <th>video_progress_time</th>\n",
       "      <th>video_start_time</th>\n",
       "      <th>video_end_time</th>\n",
       "      <th>local_start_time</th>\n",
       "      <th>local_end_time</th>\n",
       "    </tr>\n",
       "  </thead>\n",
       "  <tbody>\n",
       "    <tr>\n",
       "      <th>0</th>\n",
       "      <td>V_0</td>\n",
       "      <td>C_course-v1:TsinghuaX+30240184+sp</td>\n",
       "      <td>V_102d2536030d47b4b343c3848f6f50b6</td>\n",
       "      <td>1</td>\n",
       "      <td>233.0</td>\n",
       "      <td>186</td>\n",
       "      <td>233.000000</td>\n",
       "      <td>0.00</td>\n",
       "      <td>233.000000</td>\n",
       "      <td>2019-04-04 21:13:20</td>\n",
       "      <td>2019-04-04 21:16:26</td>\n",
       "    </tr>\n",
       "    <tr>\n",
       "      <th>1</th>\n",
       "      <td>V_0</td>\n",
       "      <td>C_course-v1:TsinghuaX+30240184+sp</td>\n",
       "      <td>V_4be5b36da31d4d15bc4afdd5a5cc1658</td>\n",
       "      <td>1</td>\n",
       "      <td>288.0</td>\n",
       "      <td>236</td>\n",
       "      <td>287.280000</td>\n",
       "      <td>0.72</td>\n",
       "      <td>288.000000</td>\n",
       "      <td>2019-04-04 21:20:35</td>\n",
       "      <td>2019-04-04 21:24:31</td>\n",
       "    </tr>\n",
       "    <tr>\n",
       "      <th>2</th>\n",
       "      <td>V_0</td>\n",
       "      <td>C_course-v1:TsinghuaX+00310222X+sp</td>\n",
       "      <td>V_4c914a96924c4ba2b6ecaa4f58336892</td>\n",
       "      <td>1</td>\n",
       "      <td>767.0</td>\n",
       "      <td>774</td>\n",
       "      <td>767.000000</td>\n",
       "      <td>0.00</td>\n",
       "      <td>767.000000</td>\n",
       "      <td>2016-11-28 19:05:59</td>\n",
       "      <td>2016-11-28 19:18:53</td>\n",
       "    </tr>\n",
       "    <tr>\n",
       "      <th>3</th>\n",
       "      <td>V_0</td>\n",
       "      <td>C_course-v1:TsinghuaX+30240184+sp</td>\n",
       "      <td>V_4f184a3de72d418caccbd3fa8624d5b6</td>\n",
       "      <td>3</td>\n",
       "      <td>209.0</td>\n",
       "      <td>613</td>\n",
       "      <td>209.000000</td>\n",
       "      <td>0.00</td>\n",
       "      <td>209.000000</td>\n",
       "      <td>2019-04-04 20:58:06</td>\n",
       "      <td>2019-04-04 21:08:35</td>\n",
       "    </tr>\n",
       "    <tr>\n",
       "      <th>4</th>\n",
       "      <td>V_0</td>\n",
       "      <td>C_course-v1:TsinghuaX+00310222X+sp</td>\n",
       "      <td>V_75f9b0188a2648358a469aee137f07be</td>\n",
       "      <td>2</td>\n",
       "      <td>1132.0</td>\n",
       "      <td>105</td>\n",
       "      <td>104.230011</td>\n",
       "      <td>0.00</td>\n",
       "      <td>231.550003</td>\n",
       "      <td>2016-12-02 09:49:02</td>\n",
       "      <td>2016-12-02 09:50:47</td>\n",
       "    </tr>\n",
       "  </tbody>\n",
       "</table>\n",
       "</div>"
      ],
      "text/plain": [
       "  item_id                           course_id  \\\n",
       "0     V_0   C_course-v1:TsinghuaX+30240184+sp   \n",
       "1     V_0   C_course-v1:TsinghuaX+30240184+sp   \n",
       "2     V_0  C_course-v1:TsinghuaX+00310222X+sp   \n",
       "3     V_0   C_course-v1:TsinghuaX+30240184+sp   \n",
       "4     V_0  C_course-v1:TsinghuaX+00310222X+sp   \n",
       "\n",
       "                             video_id  watching_count  video_duration  \\\n",
       "0  V_102d2536030d47b4b343c3848f6f50b6               1           233.0   \n",
       "1  V_4be5b36da31d4d15bc4afdd5a5cc1658               1           288.0   \n",
       "2  V_4c914a96924c4ba2b6ecaa4f58336892               1           767.0   \n",
       "3  V_4f184a3de72d418caccbd3fa8624d5b6               3           209.0   \n",
       "4  V_75f9b0188a2648358a469aee137f07be               2          1132.0   \n",
       "\n",
       "   local_watching_time  video_progress_time  video_start_time  video_end_time  \\\n",
       "0                  186           233.000000              0.00      233.000000   \n",
       "1                  236           287.280000              0.72      288.000000   \n",
       "2                  774           767.000000              0.00      767.000000   \n",
       "3                  613           209.000000              0.00      209.000000   \n",
       "4                  105           104.230011              0.00      231.550003   \n",
       "\n",
       "      local_start_time       local_end_time  \n",
       "0  2019-04-04 21:13:20  2019-04-04 21:16:26  \n",
       "1  2019-04-04 21:20:35  2019-04-04 21:24:31  \n",
       "2  2016-11-28 19:05:59  2016-11-28 19:18:53  \n",
       "3  2019-04-04 20:58:06  2019-04-04 21:08:35  \n",
       "4  2016-12-02 09:49:02  2016-12-02 09:50:47  "
      ]
     },
     "execution_count": 9,
     "metadata": {},
     "output_type": "execute_result"
    }
   ],
   "source": [
    "def activity_process(x):\n",
    "    item_id = x['item_id']\n",
    "    course_id = map(lambda x: x['course_id'], x['activity'])\n",
    "    video_id = map(lambda x: x['video_id'], x['activity'])\n",
    "    watching_count = map(lambda x: x['watching_count'], x['activity'])\n",
    "    video_duration = map(lambda x: x['video_duration'], x['activity'])\n",
    "    local_watching_time = map(lambda x: x['local_watching_time'], x['activity'])\n",
    "    video_progress_time = map(lambda x: x['video_progress_time'], x['activity'])\n",
    "    video_start_time = map(lambda x: x['video_start_time'], x['activity'])\n",
    "    video_end_time = map(lambda x: x['video_end_time'], x['activity'])\n",
    "    local_start_time = map(lambda x: x['local_start_time'], x['activity'])\n",
    "    local_end_time = map(lambda x: x['local_end_time'], x['activity'])\n",
    "    \n",
    "    frame = pd.DataFrame({\n",
    "        'item_id': item_id,\n",
    "        'course_id': course_id,\n",
    "        'video_id': video_id,\n",
    "        'watching_count': watching_count,\n",
    "        'video_duration': video_duration,\n",
    "        'local_watching_time': local_watching_time,\n",
    "        'video_progress_time': video_progress_time,\n",
    "        'video_start_time': video_start_time,\n",
    "        'video_end_time': video_end_time,\n",
    "        'local_start_time': local_start_time,\n",
    "        'local_end_time': local_end_time\n",
    "    })\n",
    "    return frame\n",
    "\n",
    "s = df.apply(activity_process, axis=1)\n",
    "\n",
    "activity = pd.concat([i for i in s], ignore_index=False)\n",
    "\n",
    "del s, df\n",
    "gc.collect()\n",
    "\n",
    "print(activity.shape)\n",
    "activity.head()"
   ]
  },
  {
   "cell_type": "code",
   "execution_count": 10,
   "metadata": {
    "ExecuteTime": {
     "end_time": "2020-08-31T12:18:20.354181Z",
     "start_time": "2020-08-31T12:18:16.022565Z"
    }
   },
   "outputs": [
    {
     "data": {
      "text/plain": [
       "20"
      ]
     },
     "execution_count": 10,
     "metadata": {},
     "output_type": "execute_result"
    }
   ],
   "source": [
    "activity['local_start_time'] = pd.to_datetime(activity['local_start_time'])\n",
    "activity['local_end_time'] = pd.to_datetime(activity['local_end_time'])\n",
    "gc.collect()"
   ]
  },
  {
   "cell_type": "code",
   "execution_count": 11,
   "metadata": {
    "ExecuteTime": {
     "end_time": "2020-08-31T12:18:20.360166Z",
     "start_time": "2020-08-31T12:18:20.355178Z"
    }
   },
   "outputs": [],
   "source": [
    "uid1 = ['item_id', 'course_id', 'video_id']"
   ]
  },
  {
   "cell_type": "code",
   "execution_count": 12,
   "metadata": {
    "ExecuteTime": {
     "end_time": "2020-08-31T12:18:23.465363Z",
     "start_time": "2020-08-31T12:18:20.362160Z"
    }
   },
   "outputs": [],
   "source": [
    "df_video = activity.groupby(uid1, as_index=False)['watching_count'].agg({\n",
    "    'video_cnt': 'count'\n",
    "})"
   ]
  },
  {
   "cell_type": "code",
   "execution_count": 13,
   "metadata": {
    "ExecuteTime": {
     "end_time": "2020-08-31T12:18:23.476283Z",
     "start_time": "2020-08-31T12:18:23.466318Z"
    }
   },
   "outputs": [
    {
     "data": {
      "text/html": [
       "<div>\n",
       "<style scoped>\n",
       "    .dataframe tbody tr th:only-of-type {\n",
       "        vertical-align: middle;\n",
       "    }\n",
       "\n",
       "    .dataframe tbody tr th {\n",
       "        vertical-align: top;\n",
       "    }\n",
       "\n",
       "    .dataframe thead th {\n",
       "        text-align: right;\n",
       "    }\n",
       "</style>\n",
       "<table border=\"1\" class=\"dataframe\">\n",
       "  <thead>\n",
       "    <tr style=\"text-align: right;\">\n",
       "      <th></th>\n",
       "      <th>item_id</th>\n",
       "      <th>course_id</th>\n",
       "      <th>video_id</th>\n",
       "      <th>video_cnt</th>\n",
       "    </tr>\n",
       "  </thead>\n",
       "  <tbody>\n",
       "    <tr>\n",
       "      <th>0</th>\n",
       "      <td>U_0</td>\n",
       "      <td>C_course-v1:TsinghuaX+00691153X+sp</td>\n",
       "      <td>V_0d2ed7b0f77647388d3ad5420d1d6549</td>\n",
       "      <td>1</td>\n",
       "    </tr>\n",
       "    <tr>\n",
       "      <th>1</th>\n",
       "      <td>U_0</td>\n",
       "      <td>C_course-v1:TsinghuaX+00691153X+sp</td>\n",
       "      <td>V_330acdbc14db49a88adbbc10c082155e</td>\n",
       "      <td>1</td>\n",
       "    </tr>\n",
       "    <tr>\n",
       "      <th>2</th>\n",
       "      <td>U_0</td>\n",
       "      <td>C_course-v1:TsinghuaX+00691153X+sp</td>\n",
       "      <td>V_42b82d4372ed4350b661f68a825594be</td>\n",
       "      <td>1</td>\n",
       "    </tr>\n",
       "    <tr>\n",
       "      <th>3</th>\n",
       "      <td>U_0</td>\n",
       "      <td>C_course-v1:TsinghuaX+00691153X+sp</td>\n",
       "      <td>V_6d701687d50e4ee4a897b3c74c45afa1</td>\n",
       "      <td>1</td>\n",
       "    </tr>\n",
       "    <tr>\n",
       "      <th>4</th>\n",
       "      <td>U_0</td>\n",
       "      <td>C_course-v1:TsinghuaX+00691153X+sp</td>\n",
       "      <td>V_74598872443d4c10848782f021e1d0af</td>\n",
       "      <td>1</td>\n",
       "    </tr>\n",
       "  </tbody>\n",
       "</table>\n",
       "</div>"
      ],
      "text/plain": [
       "  item_id                           course_id  \\\n",
       "0     U_0  C_course-v1:TsinghuaX+00691153X+sp   \n",
       "1     U_0  C_course-v1:TsinghuaX+00691153X+sp   \n",
       "2     U_0  C_course-v1:TsinghuaX+00691153X+sp   \n",
       "3     U_0  C_course-v1:TsinghuaX+00691153X+sp   \n",
       "4     U_0  C_course-v1:TsinghuaX+00691153X+sp   \n",
       "\n",
       "                             video_id  video_cnt  \n",
       "0  V_0d2ed7b0f77647388d3ad5420d1d6549          1  \n",
       "1  V_330acdbc14db49a88adbbc10c082155e          1  \n",
       "2  V_42b82d4372ed4350b661f68a825594be          1  \n",
       "3  V_6d701687d50e4ee4a897b3c74c45afa1          1  \n",
       "4  V_74598872443d4c10848782f021e1d0af          1  "
      ]
     },
     "execution_count": 13,
     "metadata": {},
     "output_type": "execute_result"
    }
   ],
   "source": [
    "df_video.head()"
   ]
  },
  {
   "cell_type": "code",
   "execution_count": 14,
   "metadata": {
    "ExecuteTime": {
     "end_time": "2020-08-31T12:18:30.983010Z",
     "start_time": "2020-08-31T12:18:23.477835Z"
    }
   },
   "outputs": [
    {
     "data": {
      "text/plain": [
       "0"
      ]
     },
     "execution_count": 14,
     "metadata": {},
     "output_type": "execute_result"
    }
   ],
   "source": [
    "tmp = activity.groupby(uid1, as_index=False).agg({\n",
    "    'watching_count': np.sum,\n",
    "    'video_duration': np.max,\n",
    "    'local_watching_time': np.sum,\n",
    "    'video_progress_time': np.sum,\n",
    "    'video_start_time': np.min,\n",
    "    'video_end_time': np.max,\n",
    "    'local_start_time': np.min,\n",
    "    'local_end_time': np.max\n",
    "})\n",
    "\n",
    "df_video = df_video.merge(tmp, on=uid1, how='left')\n",
    "\n",
    "del tmp, activity\n",
    "gc.collect()"
   ]
  },
  {
   "cell_type": "code",
   "execution_count": 15,
   "metadata": {
    "ExecuteTime": {
     "end_time": "2020-08-31T12:18:30.990932Z",
     "start_time": "2020-08-31T12:18:30.984947Z"
    }
   },
   "outputs": [
    {
     "data": {
      "text/plain": [
       "Index(['item_id', 'course_id', 'video_id', 'video_cnt', 'watching_count',\n",
       "       'video_duration', 'local_watching_time', 'video_progress_time',\n",
       "       'video_start_time', 'video_end_time', 'local_start_time',\n",
       "       'local_end_time'],\n",
       "      dtype='object')"
      ]
     },
     "execution_count": 15,
     "metadata": {},
     "output_type": "execute_result"
    }
   ],
   "source": [
    "df_video.columns"
   ]
  },
  {
   "cell_type": "code",
   "execution_count": 16,
   "metadata": {
    "ExecuteTime": {
     "end_time": "2020-08-31T12:18:32.912893Z",
     "start_time": "2020-08-31T12:18:30.993501Z"
    }
   },
   "outputs": [
    {
     "data": {
      "text/plain": [
       "95"
      ]
     },
     "execution_count": 16,
     "metadata": {},
     "output_type": "execute_result"
    }
   ],
   "source": [
    "df_video.to_hdf('../train_video.h5', 'df', index=False)\n",
    "del df_video\n",
    "gc.collect()"
   ]
  }
 ],
 "metadata": {
  "kernelspec": {
   "display_name": "Python 3",
   "language": "python",
   "name": "python3"
  },
  "language_info": {
   "codemirror_mode": {
    "name": "ipython",
    "version": 3
   },
   "file_extension": ".py",
   "mimetype": "text/x-python",
   "name": "python",
   "nbconvert_exporter": "python",
   "pygments_lexer": "ipython3",
   "version": "3.7.3"
  },
  "toc": {
   "base_numbering": 1,
   "nav_menu": {},
   "number_sections": true,
   "sideBar": true,
   "skip_h1_title": false,
   "title_cell": "Table of Contents",
   "title_sidebar": "Contents",
   "toc_cell": false,
   "toc_position": {},
   "toc_section_display": true,
   "toc_window_display": false
  },
  "varInspector": {
   "cols": {
    "lenName": 16,
    "lenType": 16,
    "lenVar": 40
   },
   "kernels_config": {
    "python": {
     "delete_cmd_postfix": "",
     "delete_cmd_prefix": "del ",
     "library": "var_list.py",
     "varRefreshCmd": "print(var_dic_list())"
    },
    "r": {
     "delete_cmd_postfix": ") ",
     "delete_cmd_prefix": "rm(",
     "library": "var_list.r",
     "varRefreshCmd": "cat(var_dic_list()) "
    }
   },
   "types_to_exclude": [
    "module",
    "function",
    "builtin_function_or_method",
    "instance",
    "_Feature"
   ],
   "window_display": false
  }
 },
 "nbformat": 4,
 "nbformat_minor": 2
}
