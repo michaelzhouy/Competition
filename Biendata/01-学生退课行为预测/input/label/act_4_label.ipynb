{
 "cells": [
  {
   "cell_type": "code",
   "execution_count": 1,
   "metadata": {
    "ExecuteTime": {
     "end_time": "2020-08-22T15:29:32.469599Z",
     "start_time": "2020-08-22T15:29:30.543368Z"
    }
   },
   "outputs": [
    {
     "name": "stderr",
     "output_type": "stream",
     "text": [
      "C:\\Users\\z\\Anaconda3\\lib\\site-packages\\statsmodels\\tools\\_testing.py:19: FutureWarning: pandas.util.testing is deprecated. Use the functions in the public API at pandas.testing instead.\n",
      "  import pandas.util.testing as tm\n"
     ]
    }
   ],
   "source": [
    "import numpy as np\n",
    "import pandas as pd\n",
    "import matplotlib.pyplot as plt\n",
    "import seaborn as sns\n",
    "import gc\n",
    "import warnings\n",
    "\n",
    "warnings.filterwarnings('ignore')\n",
    "warnings.simplefilter(action='ignore', category=FutureWarning)\n",
    "pd.set_option('max_columns', None)\n",
    "pd.set_option('max_rows', None)"
   ]
  },
  {
   "cell_type": "code",
   "execution_count": 2,
   "metadata": {
    "ExecuteTime": {
     "end_time": "2020-08-22T15:29:34.419714Z",
     "start_time": "2020-08-22T15:29:32.473290Z"
    }
   },
   "outputs": [
    {
     "data": {
      "text/html": [
       "<div>\n",
       "<style scoped>\n",
       "    .dataframe tbody tr th:only-of-type {\n",
       "        vertical-align: middle;\n",
       "    }\n",
       "\n",
       "    .dataframe tbody tr th {\n",
       "        vertical-align: top;\n",
       "    }\n",
       "\n",
       "    .dataframe thead th {\n",
       "        text-align: right;\n",
       "    }\n",
       "</style>\n",
       "<table border=\"1\" class=\"dataframe\">\n",
       "  <thead>\n",
       "    <tr style=\"text-align: right;\">\n",
       "      <th></th>\n",
       "      <th>item_id</th>\n",
       "      <th>course_id</th>\n",
       "      <th>video_id</th>\n",
       "      <th>watching_count</th>\n",
       "      <th>video_duration</th>\n",
       "      <th>local_watching_time</th>\n",
       "      <th>video_progress_time</th>\n",
       "      <th>video_start_time</th>\n",
       "      <th>video_end_time</th>\n",
       "      <th>local_start_time</th>\n",
       "      <th>local_end_time</th>\n",
       "      <th>drop</th>\n",
       "    </tr>\n",
       "  </thead>\n",
       "  <tbody>\n",
       "    <tr>\n",
       "      <th>0</th>\n",
       "      <td>U_7140103</td>\n",
       "      <td>TsinghuaX+20430064X+sp</td>\n",
       "      <td>V_05f095f52ac6446ba05b883171c66713</td>\n",
       "      <td>1</td>\n",
       "      <td>563.0</td>\n",
       "      <td>563</td>\n",
       "      <td>563.000000</td>\n",
       "      <td>0.000</td>\n",
       "      <td>563.000000</td>\n",
       "      <td>2017-07-24 13:26:56</td>\n",
       "      <td>2017-07-24 13:36:19</td>\n",
       "      <td>0</td>\n",
       "    </tr>\n",
       "    <tr>\n",
       "      <th>1</th>\n",
       "      <td>U_7140103</td>\n",
       "      <td>TsinghuaX+34000888X+sp</td>\n",
       "      <td>V_0d166f12024942fca500891c0346b86a</td>\n",
       "      <td>1</td>\n",
       "      <td>166.0</td>\n",
       "      <td>166</td>\n",
       "      <td>166.000000</td>\n",
       "      <td>0.000</td>\n",
       "      <td>166.000000</td>\n",
       "      <td>2017-07-06 14:47:00</td>\n",
       "      <td>2017-07-06 14:49:46</td>\n",
       "      <td>0</td>\n",
       "    </tr>\n",
       "    <tr>\n",
       "      <th>2</th>\n",
       "      <td>U_7140103</td>\n",
       "      <td>TsinghuaX+00691153X+sp</td>\n",
       "      <td>V_0d2ed7b0f77647388d3ad5420d1d6549</td>\n",
       "      <td>2</td>\n",
       "      <td>415.0</td>\n",
       "      <td>415</td>\n",
       "      <td>414.809998</td>\n",
       "      <td>0.000</td>\n",
       "      <td>415.000000</td>\n",
       "      <td>2017-07-13 09:01:58</td>\n",
       "      <td>2017-07-13 13:18:15</td>\n",
       "      <td>0</td>\n",
       "    </tr>\n",
       "    <tr>\n",
       "      <th>3</th>\n",
       "      <td>U_7140103</td>\n",
       "      <td>TsinghuaX+20430064X+sp</td>\n",
       "      <td>V_10355a6a239c4a1dbc28e99bfb7633c1</td>\n",
       "      <td>1</td>\n",
       "      <td>173.0</td>\n",
       "      <td>174</td>\n",
       "      <td>173.000000</td>\n",
       "      <td>0.000</td>\n",
       "      <td>173.000000</td>\n",
       "      <td>2017-07-24 13:11:47</td>\n",
       "      <td>2017-07-24 13:14:41</td>\n",
       "      <td>0</td>\n",
       "    </tr>\n",
       "    <tr>\n",
       "      <th>4</th>\n",
       "      <td>U_7140103</td>\n",
       "      <td>TsinghuaX+34000888X+sp</td>\n",
       "      <td>V_11f15f23fca948808b5f44e25b75f6a2</td>\n",
       "      <td>1</td>\n",
       "      <td>63.0</td>\n",
       "      <td>19</td>\n",
       "      <td>18.820000</td>\n",
       "      <td>0.000</td>\n",
       "      <td>18.820000</td>\n",
       "      <td>2017-07-06 14:56:18</td>\n",
       "      <td>2017-07-06 14:56:37</td>\n",
       "      <td>0</td>\n",
       "    </tr>\n",
       "    <tr>\n",
       "      <th>128</th>\n",
       "      <td>U_2664891</td>\n",
       "      <td>XJTU+C00204+sp</td>\n",
       "      <td>V_xjtu-C00204-8-1-1</td>\n",
       "      <td>9</td>\n",
       "      <td>591.0</td>\n",
       "      <td>280</td>\n",
       "      <td>325.726007</td>\n",
       "      <td>0.000</td>\n",
       "      <td>317.743011</td>\n",
       "      <td>2017-10-26 22:12:29</td>\n",
       "      <td>2017-10-26 22:17:42</td>\n",
       "      <td>0</td>\n",
       "    </tr>\n",
       "    <tr>\n",
       "      <th>129</th>\n",
       "      <td>U_2664891</td>\n",
       "      <td>XJTU+C00204+sp</td>\n",
       "      <td>V_xjtu-C00204-8-1-2</td>\n",
       "      <td>2</td>\n",
       "      <td>665.0</td>\n",
       "      <td>535</td>\n",
       "      <td>666.944000</td>\n",
       "      <td>0.256</td>\n",
       "      <td>665.000000</td>\n",
       "      <td>2017-10-26 22:17:00</td>\n",
       "      <td>2017-10-26 22:30:02</td>\n",
       "      <td>0</td>\n",
       "    </tr>\n",
       "    <tr>\n",
       "      <th>130</th>\n",
       "      <td>U_2664891</td>\n",
       "      <td>XJTU+C00204+sp</td>\n",
       "      <td>V_xjtu-C00204-8-1-3</td>\n",
       "      <td>1</td>\n",
       "      <td>603.0</td>\n",
       "      <td>484</td>\n",
       "      <td>602.291000</td>\n",
       "      <td>0.709</td>\n",
       "      <td>603.000000</td>\n",
       "      <td>2017-10-26 22:30:03</td>\n",
       "      <td>2017-10-26 22:38:07</td>\n",
       "      <td>0</td>\n",
       "    </tr>\n",
       "    <tr>\n",
       "      <th>131</th>\n",
       "      <td>U_2664891</td>\n",
       "      <td>XJTU+C00204+sp</td>\n",
       "      <td>V_xjtu-C00204-8-1-4</td>\n",
       "      <td>1</td>\n",
       "      <td>670.0</td>\n",
       "      <td>537</td>\n",
       "      <td>669.499000</td>\n",
       "      <td>0.501</td>\n",
       "      <td>670.000000</td>\n",
       "      <td>2017-10-26 22:38:08</td>\n",
       "      <td>2017-10-26 22:47:05</td>\n",
       "      <td>0</td>\n",
       "    </tr>\n",
       "    <tr>\n",
       "      <th>132</th>\n",
       "      <td>U_2664891</td>\n",
       "      <td>XJTU+C00204+sp</td>\n",
       "      <td>V_xjtu-C00204-8-2-5</td>\n",
       "      <td>2</td>\n",
       "      <td>606.0</td>\n",
       "      <td>147</td>\n",
       "      <td>180.903004</td>\n",
       "      <td>0.000</td>\n",
       "      <td>178.542999</td>\n",
       "      <td>2017-10-26 22:47:11</td>\n",
       "      <td>2017-10-26 22:49:40</td>\n",
       "      <td>1</td>\n",
       "    </tr>\n",
       "  </tbody>\n",
       "</table>\n",
       "</div>"
      ],
      "text/plain": [
       "       item_id               course_id                            video_id  \\\n",
       "0    U_7140103  TsinghuaX+20430064X+sp  V_05f095f52ac6446ba05b883171c66713   \n",
       "1    U_7140103  TsinghuaX+34000888X+sp  V_0d166f12024942fca500891c0346b86a   \n",
       "2    U_7140103  TsinghuaX+00691153X+sp  V_0d2ed7b0f77647388d3ad5420d1d6549   \n",
       "3    U_7140103  TsinghuaX+20430064X+sp  V_10355a6a239c4a1dbc28e99bfb7633c1   \n",
       "4    U_7140103  TsinghuaX+34000888X+sp  V_11f15f23fca948808b5f44e25b75f6a2   \n",
       "128  U_2664891          XJTU+C00204+sp                 V_xjtu-C00204-8-1-1   \n",
       "129  U_2664891          XJTU+C00204+sp                 V_xjtu-C00204-8-1-2   \n",
       "130  U_2664891          XJTU+C00204+sp                 V_xjtu-C00204-8-1-3   \n",
       "131  U_2664891          XJTU+C00204+sp                 V_xjtu-C00204-8-1-4   \n",
       "132  U_2664891          XJTU+C00204+sp                 V_xjtu-C00204-8-2-5   \n",
       "\n",
       "     watching_count  video_duration  local_watching_time  video_progress_time  \\\n",
       "0                 1           563.0                  563           563.000000   \n",
       "1                 1           166.0                  166           166.000000   \n",
       "2                 2           415.0                  415           414.809998   \n",
       "3                 1           173.0                  174           173.000000   \n",
       "4                 1            63.0                   19            18.820000   \n",
       "128               9           591.0                  280           325.726007   \n",
       "129               2           665.0                  535           666.944000   \n",
       "130               1           603.0                  484           602.291000   \n",
       "131               1           670.0                  537           669.499000   \n",
       "132               2           606.0                  147           180.903004   \n",
       "\n",
       "     video_start_time  video_end_time     local_start_time  \\\n",
       "0               0.000      563.000000  2017-07-24 13:26:56   \n",
       "1               0.000      166.000000  2017-07-06 14:47:00   \n",
       "2               0.000      415.000000  2017-07-13 09:01:58   \n",
       "3               0.000      173.000000  2017-07-24 13:11:47   \n",
       "4               0.000       18.820000  2017-07-06 14:56:18   \n",
       "128             0.000      317.743011  2017-10-26 22:12:29   \n",
       "129             0.256      665.000000  2017-10-26 22:17:00   \n",
       "130             0.709      603.000000  2017-10-26 22:30:03   \n",
       "131             0.501      670.000000  2017-10-26 22:38:08   \n",
       "132             0.000      178.542999  2017-10-26 22:47:11   \n",
       "\n",
       "          local_end_time  drop  \n",
       "0    2017-07-24 13:36:19     0  \n",
       "1    2017-07-06 14:49:46     0  \n",
       "2    2017-07-13 13:18:15     0  \n",
       "3    2017-07-24 13:14:41     0  \n",
       "4    2017-07-06 14:56:37     0  \n",
       "128  2017-10-26 22:17:42     0  \n",
       "129  2017-10-26 22:30:02     0  \n",
       "130  2017-10-26 22:38:07     0  \n",
       "131  2017-10-26 22:47:05     0  \n",
       "132  2017-10-26 22:49:40     1  "
      ]
     },
     "execution_count": 2,
     "metadata": {},
     "output_type": "execute_result"
    }
   ],
   "source": [
    "df = pd.read_hdf('../act_4_2.h5')\n",
    "df.head().append(df.tail())"
   ]
  },
  {
   "cell_type": "code",
   "execution_count": 3,
   "metadata": {
    "ExecuteTime": {
     "end_time": "2020-08-22T15:29:34.430707Z",
     "start_time": "2020-08-22T15:29:34.423710Z"
    }
   },
   "outputs": [
    {
     "data": {
      "text/plain": [
       "(730734, 12)"
      ]
     },
     "execution_count": 3,
     "metadata": {},
     "output_type": "execute_result"
    }
   ],
   "source": [
    "df.shape"
   ]
  },
  {
   "cell_type": "code",
   "execution_count": 4,
   "metadata": {
    "ExecuteTime": {
     "end_time": "2020-08-22T15:29:34.588615Z",
     "start_time": "2020-08-22T15:29:34.434704Z"
    }
   },
   "outputs": [
    {
     "data": {
      "text/plain": [
       "0     0\n",
       "3     0\n",
       "7     0\n",
       "9     0\n",
       "10    0\n",
       "11    0\n",
       "12    0\n",
       "16    0\n",
       "18    0\n",
       "30    0\n",
       "32    0\n",
       "33    0\n",
       "34    0\n",
       "35    1\n",
       "Name: drop, dtype: int64"
      ]
     },
     "execution_count": 4,
     "metadata": {},
     "output_type": "execute_result"
    }
   ],
   "source": [
    "df.loc[(df['item_id'] == 'U_7140103') & (df['course_id'] == 'TsinghuaX+20430064X+sp'), 'drop']"
   ]
  },
  {
   "cell_type": "code",
   "execution_count": 5,
   "metadata": {
    "ExecuteTime": {
     "end_time": "2020-08-22T15:29:34.742527Z",
     "start_time": "2020-08-22T15:29:34.591614Z"
    }
   },
   "outputs": [
    {
     "data": {
      "text/plain": [
       "93     0\n",
       "94     0\n",
       "95     0\n",
       "96     0\n",
       "97     0\n",
       "98     0\n",
       "99     0\n",
       "100    0\n",
       "101    0\n",
       "102    0\n",
       "103    0\n",
       "104    0\n",
       "105    0\n",
       "106    0\n",
       "107    0\n",
       "108    0\n",
       "109    0\n",
       "110    0\n",
       "111    0\n",
       "112    0\n",
       "113    0\n",
       "114    0\n",
       "115    0\n",
       "116    0\n",
       "117    0\n",
       "118    0\n",
       "119    0\n",
       "120    0\n",
       "121    0\n",
       "122    0\n",
       "123    0\n",
       "124    0\n",
       "125    0\n",
       "126    0\n",
       "127    0\n",
       "128    0\n",
       "129    0\n",
       "130    0\n",
       "131    0\n",
       "132    1\n",
       "Name: drop, dtype: int64"
      ]
     },
     "execution_count": 5,
     "metadata": {},
     "output_type": "execute_result"
    }
   ],
   "source": [
    "df.loc[(df['item_id'] == 'U_2664891') & (df['course_id'] == 'XJTU+C00204+sp'), 'drop']"
   ]
  },
  {
   "cell_type": "code",
   "execution_count": 6,
   "metadata": {
    "ExecuteTime": {
     "end_time": "2020-08-22T15:29:35.369708Z",
     "start_time": "2020-08-22T15:29:34.744525Z"
    }
   },
   "outputs": [
    {
     "data": {
      "text/plain": [
       "(727712, 12)"
      ]
     },
     "execution_count": 6,
     "metadata": {},
     "output_type": "execute_result"
    }
   ],
   "source": [
    "df.drop_duplicates(['item_id', 'course_id', 'video_id']).shape"
   ]
  },
  {
   "cell_type": "code",
   "execution_count": 7,
   "metadata": {
    "ExecuteTime": {
     "end_time": "2020-08-22T15:29:35.585600Z",
     "start_time": "2020-08-22T15:29:35.372706Z"
    }
   },
   "outputs": [
    {
     "name": "stdout",
     "output_type": "stream",
     "text": [
      "<class 'pandas.core.frame.DataFrame'>\n",
      "Int64Index: 730734 entries, 0 to 132\n",
      "Data columns (total 12 columns):\n",
      " #   Column               Non-Null Count   Dtype  \n",
      "---  ------               --------------   -----  \n",
      " 0   item_id              730734 non-null  object \n",
      " 1   course_id            730734 non-null  object \n",
      " 2   video_id             730734 non-null  object \n",
      " 3   watching_count       730734 non-null  int64  \n",
      " 4   video_duration       730734 non-null  float64\n",
      " 5   local_watching_time  730734 non-null  int64  \n",
      " 6   video_progress_time  730734 non-null  float64\n",
      " 7   video_start_time     730734 non-null  float64\n",
      " 8   video_end_time       730734 non-null  float64\n",
      " 9   local_start_time     730734 non-null  object \n",
      " 10  local_end_time       730734 non-null  object \n",
      " 11  drop                 730734 non-null  int64  \n",
      "dtypes: float64(4), int64(3), object(5)\n",
      "memory usage: 72.5+ MB\n"
     ]
    }
   ],
   "source": [
    "df.info()"
   ]
  },
  {
   "cell_type": "code",
   "execution_count": 8,
   "metadata": {
    "ExecuteTime": {
     "end_time": "2020-08-22T15:29:37.015696Z",
     "start_time": "2020-08-22T15:29:35.587581Z"
    }
   },
   "outputs": [
    {
     "data": {
      "text/plain": [
       "38"
      ]
     },
     "execution_count": 8,
     "metadata": {},
     "output_type": "execute_result"
    }
   ],
   "source": [
    "df['local_start_time'] = pd.to_datetime(df['local_start_time'])\n",
    "df['local_end_time'] = pd.to_datetime(df['local_end_time'])\n",
    "gc.collect()"
   ]
  },
  {
   "cell_type": "code",
   "execution_count": 9,
   "metadata": {
    "ExecuteTime": {
     "end_time": "2020-08-22T15:29:37.026690Z",
     "start_time": "2020-08-22T15:29:37.021688Z"
    }
   },
   "outputs": [],
   "source": [
    "uid1 = ['item_id', 'course_id', 'video_id']\n",
    "uid2 = ['item_id', 'course_id']"
   ]
  },
  {
   "cell_type": "code",
   "execution_count": 10,
   "metadata": {
    "ExecuteTime": {
     "end_time": "2020-08-22T15:29:41.432616Z",
     "start_time": "2020-08-22T15:29:37.032680Z"
    }
   },
   "outputs": [
    {
     "data": {
      "text/plain": [
       "1.0"
      ]
     },
     "execution_count": 10,
     "metadata": {},
     "output_type": "execute_result"
    }
   ],
   "source": [
    "data = df.groupby(uid2)['drop'].apply(list)\n",
    "data = data.reset_index()\n",
    "data['drop'] = data['drop'].map(lambda x: 1 if 1 in x else 0)\n",
    "gc.collect()\n",
    "data['drop'].mean()"
   ]
  },
  {
   "cell_type": "code",
   "execution_count": 11,
   "metadata": {
    "ExecuteTime": {
     "end_time": "2020-08-22T15:29:41.454603Z",
     "start_time": "2020-08-22T15:29:41.435615Z"
    }
   },
   "outputs": [
    {
     "data": {
      "text/plain": [
       "25901    1\n",
       "Name: drop, dtype: int64"
      ]
     },
     "execution_count": 11,
     "metadata": {},
     "output_type": "execute_result"
    }
   ],
   "source": [
    "data.loc[(data['item_id'] == 'U_7140103') & (data['course_id'] == 'TsinghuaX+20430064X+sp'), 'drop']"
   ]
  },
  {
   "cell_type": "code",
   "execution_count": 12,
   "metadata": {
    "ExecuteTime": {
     "end_time": "2020-08-22T15:29:41.479590Z",
     "start_time": "2020-08-22T15:29:41.457600Z"
    }
   },
   "outputs": [
    {
     "data": {
      "text/plain": [
       "8625    1\n",
       "Name: drop, dtype: int64"
      ]
     },
     "execution_count": 12,
     "metadata": {},
     "output_type": "execute_result"
    }
   ],
   "source": [
    "data.loc[(data['item_id'] == 'U_2664891') & (data['course_id'] == 'XJTU+C00204+sp'), 'drop']"
   ]
  },
  {
   "cell_type": "code",
   "execution_count": null,
   "metadata": {},
   "outputs": [],
   "source": [
    "# video_start_time, video_end_time, local_start_time, local_end_time\n",
    "tmp = df.groupby(uid1, as_index=False).agg({\n",
    "    'watching_count': np.sum,\n",
    "    'video_duration': np.max,\n",
    "    'local_watching_time': np.sum,\n",
    "    'video_progress_time': np.sum,\n",
    "    'video_start_time': np.min,\n",
    "    'video_end_time': np.max,\n",
    "    'local_start_time': np.min,\n",
    "    'local_end_time': np.max\n",
    "})\n",
    "data = data.merge(tmp, on=uid1, how='left')\n",
    "del tmp\n",
    "gc.collect()"
   ]
  },
  {
   "cell_type": "code",
   "execution_count": 9,
   "metadata": {
    "ExecuteTime": {
     "end_time": "2020-08-22T09:10:11.048544Z",
     "start_time": "2020-08-22T09:10:11.024541Z"
    }
   },
   "outputs": [
    {
     "data": {
      "text/html": [
       "<div>\n",
       "<style scoped>\n",
       "    .dataframe tbody tr th:only-of-type {\n",
       "        vertical-align: middle;\n",
       "    }\n",
       "\n",
       "    .dataframe tbody tr th {\n",
       "        vertical-align: top;\n",
       "    }\n",
       "\n",
       "    .dataframe thead th {\n",
       "        text-align: right;\n",
       "    }\n",
       "</style>\n",
       "<table border=\"1\" class=\"dataframe\">\n",
       "  <thead>\n",
       "    <tr style=\"text-align: right;\">\n",
       "      <th></th>\n",
       "      <th>item_id</th>\n",
       "      <th>course_id</th>\n",
       "      <th>video_id</th>\n",
       "      <th>drop</th>\n",
       "      <th>watching_count</th>\n",
       "      <th>video_duration</th>\n",
       "      <th>local_watching_time</th>\n",
       "      <th>video_progress_time</th>\n",
       "      <th>video_start_time</th>\n",
       "      <th>video_end_time</th>\n",
       "      <th>local_start_time</th>\n",
       "      <th>local_end_time</th>\n",
       "    </tr>\n",
       "  </thead>\n",
       "  <tbody>\n",
       "    <tr>\n",
       "      <th>0</th>\n",
       "      <td>U_1000763</td>\n",
       "      <td>HUBU+2017022703X+sp</td>\n",
       "      <td>V_1868fcc69aae4c84873693ab9625e970</td>\n",
       "      <td>0</td>\n",
       "      <td>3</td>\n",
       "      <td>491.0</td>\n",
       "      <td>510</td>\n",
       "      <td>506.982999</td>\n",
       "      <td>0.0</td>\n",
       "      <td>491.0</td>\n",
       "      <td>2017-10-16 11:01:57</td>\n",
       "      <td>2017-10-25 17:20:07</td>\n",
       "    </tr>\n",
       "    <tr>\n",
       "      <th>1</th>\n",
       "      <td>U_1000763</td>\n",
       "      <td>HUBU+2017022703X+sp</td>\n",
       "      <td>V_2a08be8f69064c7ebb7951d07959ff12</td>\n",
       "      <td>0</td>\n",
       "      <td>34</td>\n",
       "      <td>251.0</td>\n",
       "      <td>527</td>\n",
       "      <td>493.441940</td>\n",
       "      <td>0.0</td>\n",
       "      <td>251.0</td>\n",
       "      <td>2017-10-25 17:50:44</td>\n",
       "      <td>2018-04-09 15:14:54</td>\n",
       "    </tr>\n",
       "    <tr>\n",
       "      <th>2</th>\n",
       "      <td>U_1000763</td>\n",
       "      <td>HUBU+2017022703X+sp</td>\n",
       "      <td>V_31b0a46fe4b74381b55123228091b138</td>\n",
       "      <td>0</td>\n",
       "      <td>3</td>\n",
       "      <td>282.0</td>\n",
       "      <td>72</td>\n",
       "      <td>72.160000</td>\n",
       "      <td>0.0</td>\n",
       "      <td>60.0</td>\n",
       "      <td>2017-10-25 17:51:25</td>\n",
       "      <td>2018-04-09 15:15:55</td>\n",
       "    </tr>\n",
       "    <tr>\n",
       "      <th>3</th>\n",
       "      <td>U_1000763</td>\n",
       "      <td>HUBU+2017022703X+sp</td>\n",
       "      <td>V_3f4d13f054974818948f6783c1a5bbfd</td>\n",
       "      <td>0</td>\n",
       "      <td>1</td>\n",
       "      <td>394.0</td>\n",
       "      <td>396</td>\n",
       "      <td>394.000000</td>\n",
       "      <td>0.0</td>\n",
       "      <td>394.0</td>\n",
       "      <td>2017-10-16 10:55:20</td>\n",
       "      <td>2017-10-16 11:01:56</td>\n",
       "    </tr>\n",
       "    <tr>\n",
       "      <th>4</th>\n",
       "      <td>U_1000763</td>\n",
       "      <td>HUBU+2017022703X+sp</td>\n",
       "      <td>V_7c71f2f189274698a773329684114ae5</td>\n",
       "      <td>0</td>\n",
       "      <td>54</td>\n",
       "      <td>395.0</td>\n",
       "      <td>1141</td>\n",
       "      <td>1138.059989</td>\n",
       "      <td>0.0</td>\n",
       "      <td>395.0</td>\n",
       "      <td>2017-10-25 17:44:18</td>\n",
       "      <td>2017-11-06 16:27:38</td>\n",
       "    </tr>\n",
       "  </tbody>\n",
       "</table>\n",
       "</div>"
      ],
      "text/plain": [
       "     item_id            course_id                            video_id  drop  \\\n",
       "0  U_1000763  HUBU+2017022703X+sp  V_1868fcc69aae4c84873693ab9625e970     0   \n",
       "1  U_1000763  HUBU+2017022703X+sp  V_2a08be8f69064c7ebb7951d07959ff12     0   \n",
       "2  U_1000763  HUBU+2017022703X+sp  V_31b0a46fe4b74381b55123228091b138     0   \n",
       "3  U_1000763  HUBU+2017022703X+sp  V_3f4d13f054974818948f6783c1a5bbfd     0   \n",
       "4  U_1000763  HUBU+2017022703X+sp  V_7c71f2f189274698a773329684114ae5     0   \n",
       "\n",
       "   watching_count  video_duration  local_watching_time  video_progress_time  \\\n",
       "0               3           491.0                  510           506.982999   \n",
       "1              34           251.0                  527           493.441940   \n",
       "2               3           282.0                   72            72.160000   \n",
       "3               1           394.0                  396           394.000000   \n",
       "4              54           395.0                 1141          1138.059989   \n",
       "\n",
       "   video_start_time  video_end_time    local_start_time      local_end_time  \n",
       "0               0.0           491.0 2017-10-16 11:01:57 2017-10-25 17:20:07  \n",
       "1               0.0           251.0 2017-10-25 17:50:44 2018-04-09 15:14:54  \n",
       "2               0.0            60.0 2017-10-25 17:51:25 2018-04-09 15:15:55  \n",
       "3               0.0           394.0 2017-10-16 10:55:20 2017-10-16 11:01:56  \n",
       "4               0.0           395.0 2017-10-25 17:44:18 2017-11-06 16:27:38  "
      ]
     },
     "execution_count": 9,
     "metadata": {},
     "output_type": "execute_result"
    }
   ],
   "source": [
    "data.head()"
   ]
  },
  {
   "cell_type": "code",
   "execution_count": 10,
   "metadata": {
    "ExecuteTime": {
     "end_time": "2020-08-22T09:10:11.066531Z",
     "start_time": "2020-08-22T09:10:11.053538Z"
    }
   },
   "outputs": [
    {
     "data": {
      "text/plain": [
       "(727712, 12)"
      ]
     },
     "execution_count": 10,
     "metadata": {},
     "output_type": "execute_result"
    }
   ],
   "source": [
    "data.shape"
   ]
  },
  {
   "cell_type": "code",
   "execution_count": 11,
   "metadata": {
    "ExecuteTime": {
     "end_time": "2020-08-22T09:10:55.407637Z",
     "start_time": "2020-08-22T09:10:11.070528Z"
    }
   },
   "outputs": [],
   "source": [
    "# 最晚的进度条时间点-最早的进度条时间点\n",
    "data['video_watching_duration'] = data['video_end_time'] - data['video_start_time']\n",
    "\n",
    "# 观看结束时间-观看开始时间\n",
    "data['local_watching_duration'] = data.apply(lambda x: (x['local_end_time'] - x['local_start_time']).seconds, axis=1)"
   ]
  },
  {
   "cell_type": "code",
   "execution_count": 12,
   "metadata": {
    "ExecuteTime": {
     "end_time": "2020-08-22T09:10:55.809907Z",
     "start_time": "2020-08-22T09:10:55.407637Z"
    }
   },
   "outputs": [],
   "source": [
    "# 进度条是否读到最后，小于0\n",
    "data['video_is_end'] = data['video_end_time'] - data['video_duration']\n",
    "\n",
    "# 一开始是否拖到进度条\n",
    "data['video_is_start'] = data['video_start_time'].map(lambda x: 1 if x > 0 else 0)\n",
    "\n",
    "# 进度条是否从开始读到最后，小于0\n",
    "data['video_is_start_end'] = data['video_watching_duration'] - data['video_duration']\n",
    "\n",
    "# 进度条拖动的秒速 - 暂停时长\n",
    "data['forward_seconds'] = data['video_watching_duration'] - data['video_progress_time']\n",
    "\n",
    "# 暂停时长，\n",
    "# df[''] = df[''] - df['']\n",
    "\n",
    "# 实际观看时长是否有差误\n",
    "data['local_watching_diff'] = data['local_watching_duration'] - data['local_watching_time']\n",
    "\n",
    "# 倍速\n",
    "data['speed'] = data['local_watching_time'] / (data['video_progress_time'] + 0.001)"
   ]
  },
  {
   "cell_type": "code",
   "execution_count": 13,
   "metadata": {
    "ExecuteTime": {
     "end_time": "2020-08-22T09:10:55.819869Z",
     "start_time": "2020-08-22T09:10:55.811874Z"
    },
    "scrolled": false
   },
   "outputs": [
    {
     "data": {
      "text/plain": [
       "Index(['item_id', 'course_id', 'video_id', 'drop', 'watching_count',\n",
       "       'video_duration', 'local_watching_time', 'video_progress_time',\n",
       "       'video_start_time', 'video_end_time', 'local_start_time',\n",
       "       'local_end_time', 'video_watching_duration', 'local_watching_duration',\n",
       "       'video_is_end', 'video_is_start', 'video_is_start_end',\n",
       "       'forward_seconds', 'local_watching_diff', 'speed'],\n",
       "      dtype='object')"
      ]
     },
     "execution_count": 13,
     "metadata": {},
     "output_type": "execute_result"
    }
   ],
   "source": [
    "data.columns"
   ]
  },
  {
   "cell_type": "code",
   "execution_count": 14,
   "metadata": {
    "ExecuteTime": {
     "end_time": "2020-08-22T09:10:56.089727Z",
     "start_time": "2020-08-22T09:10:55.822866Z"
    }
   },
   "outputs": [
    {
     "data": {
      "text/plain": [
       "99"
      ]
     },
     "execution_count": 14,
     "metadata": {},
     "output_type": "execute_result"
    }
   ],
   "source": [
    "data.drop(['video_start_time', 'video_end_time', 'video_id'], axis=1, inplace=True)\n",
    "gc.collect()"
   ]
  },
  {
   "cell_type": "code",
   "execution_count": 15,
   "metadata": {
    "ExecuteTime": {
     "end_time": "2020-08-22T09:10:56.101706Z",
     "start_time": "2020-08-22T09:10:56.092711Z"
    }
   },
   "outputs": [
    {
     "data": {
      "text/plain": [
       "0.05742931269513214"
      ]
     },
     "execution_count": 15,
     "metadata": {},
     "output_type": "execute_result"
    }
   ],
   "source": [
    "data['drop'].mean()"
   ]
  },
  {
   "cell_type": "code",
   "execution_count": 16,
   "metadata": {
    "ExecuteTime": {
     "end_time": "2020-08-22T09:11:00.248472Z",
     "start_time": "2020-08-22T09:10:56.103704Z"
    }
   },
   "outputs": [
    {
     "name": "stdout",
     "output_type": "stream",
     "text": [
      "     item_id                       course_id  \\\n",
      "0  U_1000763             HUBU+2017022703X+sp   \n",
      "1  U_1000763          TsinghuaX+00040132X+sp   \n",
      "2  U_1000763          TsinghuaX+00612642X+sp   \n",
      "3  U_1000763          TsinghuaX+80000271X+sp   \n",
      "4  U_1001457  TsinghuaX+00740043X_2015_T2+sp   \n",
      "\n",
      "                                            drop  \n",
      "0  [0, 0, 0, 0, 0, 0, 0, 0, 0, 0, 0, 0, 0, 0, 1]  \n",
      "1     [0, 0, 0, 0, 0, 0, 0, 0, 0, 0, 0, 0, 0, 1]  \n",
      "2                                   [0, 0, 0, 1]  \n",
      "3  [0, 0, 0, 0, 0, 0, 0, 0, 0, 0, 0, 0, 0, 0, 1]  \n",
      "4                          [0, 0, 0, 0, 0, 0, 1]  \n",
      "     item_id                       course_id  drop\n",
      "0  U_1000763             HUBU+2017022703X+sp     1\n",
      "1  U_1000763          TsinghuaX+00040132X+sp     1\n",
      "2  U_1000763          TsinghuaX+00612642X+sp     1\n",
      "3  U_1000763          TsinghuaX+80000271X+sp     1\n",
      "4  U_1001457  TsinghuaX+00740043X_2015_T2+sp     1\n",
      "1.0\n"
     ]
    }
   ],
   "source": [
    "data2 = data.groupby(uid2)['drop'].apply(list)\n",
    "data2 = data2.reset_index()\n",
    "print(data2.head())\n",
    "data2['drop'] = data2['drop'].map(lambda x: 1 if 1 in x else 0)\n",
    "gc.collect()\n",
    "print(data2.head())\n",
    "print(data2['drop'].mean())"
   ]
  },
  {
   "cell_type": "code",
   "execution_count": null,
   "metadata": {
    "ExecuteTime": {
     "start_time": "2020-08-22T09:05:28.802Z"
    }
   },
   "outputs": [],
   "source": [
    "# video_start_time, video_end_time, local_start_time, local_end_time\n",
    "tmp = data.groupby(uid2, as_index=False).agg({\n",
    "    # 'watching_count': np.sum,\n",
    "    # 'video_duration': np.sum,\n",
    "    # 'local_watching_time': np.sum,\n",
    "    # 'video_progress_time': np.sum,\n",
    "    # 'video_start_time': np.min,\n",
    "    # 'video_end_time': np.max,\n",
    "    'local_start_time': np.min,\n",
    "    'local_end_time': np.max,\n",
    "    'video_is_end': np.sum,\n",
    "    'video_is_start': np.mean,\n",
    "    'video_is_start_end': np.sum,\n",
    "    'forward_seconds': np.sum,\n",
    "    'local_watching_diff': np.mean,\n",
    "    'speed': np.mean\n",
    "})\n",
    "data2 = data2.merge(tmp, on=uid2, how='left')\n",
    "del tmp\n",
    "gc.collect()"
   ]
  },
  {
   "cell_type": "code",
   "execution_count": null,
   "metadata": {
    "ExecuteTime": {
     "start_time": "2020-08-22T09:05:28.804Z"
    }
   },
   "outputs": [],
   "source": [
    "# watching_count\n",
    "tmp = data.groupby(uid2, as_index=False)['watching_count'].agg({\n",
    "    'watching_count_sum': 'sum',\n",
    "    'watching_count_count': 'count',\n",
    "    'watching_count_mean': 'mean',\n",
    "    'watching_count_max': 'max',\n",
    "    'watching_count_min': 'min',\n",
    "    'watching_count_std': 'std',\n",
    "    'watching_count_skew': 'skew',\n",
    "    # 'watching_count_mad': 'mad'\n",
    "})\n",
    "data2 = data2.merge(tmp, on=uid2, how='left')\n",
    "del tmp\n",
    "gc.collect()"
   ]
  },
  {
   "cell_type": "code",
   "execution_count": null,
   "metadata": {
    "ExecuteTime": {
     "start_time": "2020-08-22T09:05:28.807Z"
    }
   },
   "outputs": [],
   "source": [
    "# video_duration\n",
    "tmp = data.groupby(uid2, as_index=False)['video_duration'].agg({\n",
    "    'video_duration_sum': 'sum',\n",
    "    'video_duration_count': 'count',\n",
    "    'video_duration_mean': 'mean',\n",
    "    'video_duration_max': 'max',\n",
    "    'video_duration_min': 'min',\n",
    "    'video_duration_std': 'std',\n",
    "    'video_duration_skew': 'skew',\n",
    "    # 'video_duration_mad': 'mad'\n",
    "})\n",
    "data2 = data2.merge(tmp, on=uid2, how='left')\n",
    "del tmp\n",
    "gc.collect()"
   ]
  },
  {
   "cell_type": "code",
   "execution_count": null,
   "metadata": {
    "ExecuteTime": {
     "start_time": "2020-08-22T09:05:28.810Z"
    }
   },
   "outputs": [],
   "source": [
    "# local_watching_time\n",
    "tmp = data.groupby(uid2, as_index=False)['local_watching_time'].agg({\n",
    "    'local_watching_time_sum': 'sum',\n",
    "    'local_watching_time_count': 'count',\n",
    "    'local_watching_time_mean': 'mean',\n",
    "    'local_watching_time_max': 'max',\n",
    "    'local_watching_time_min': 'min',\n",
    "    'local_watching_time_std': 'std',\n",
    "    'local_watching_time_skew': 'skew',\n",
    "    # 'local_watching_time_mad': 'mad'\n",
    "})\n",
    "data2 = data2.merge(tmp, on=uid2, how='left')\n",
    "del tmp\n",
    "gc.collect()"
   ]
  },
  {
   "cell_type": "code",
   "execution_count": null,
   "metadata": {
    "ExecuteTime": {
     "start_time": "2020-08-22T09:05:28.813Z"
    }
   },
   "outputs": [],
   "source": [
    "# video_progress_time\n",
    "tmp = data.groupby(uid2, as_index=False)['video_progress_time'].agg({\n",
    "    'video_progress_time_sum': 'sum',\n",
    "    'video_progress_time_count': 'count',\n",
    "    'video_progress_time_mean': 'mean',\n",
    "    'video_progress_time_max': 'max',\n",
    "    'video_progress_time_min': 'min',\n",
    "    'video_progress_time_std': 'std',\n",
    "    'video_progress_time_skew': 'skew',\n",
    "    # 'video_progress_time_mad': 'mad'\n",
    "})\n",
    "data2 = data2.merge(tmp, on=uid2, how='left')\n",
    "del tmp\n",
    "gc.collect()"
   ]
  },
  {
   "cell_type": "code",
   "execution_count": null,
   "metadata": {
    "ExecuteTime": {
     "start_time": "2020-08-22T09:05:28.815Z"
    }
   },
   "outputs": [],
   "source": [
    "# 课程：观看结束时间-观看开始时间\n",
    "data2['local_watching_duration'] = data2.apply(lambda x: (x['local_end_time'] - x['local_start_time']).seconds, axis=1)\n",
    "\n",
    "data2['local_watching_diff'] = data2['local_watching_duration'] - data2['local_watching_time_sum']"
   ]
  },
  {
   "cell_type": "code",
   "execution_count": null,
   "metadata": {
    "ExecuteTime": {
     "start_time": "2020-08-22T09:05:28.818Z"
    }
   },
   "outputs": [],
   "source": [
    "data2.drop(['local_start_time', 'local_end_time'], axis=1, inplace=True)\n",
    "del data\n",
    "gc.collect()"
   ]
  },
  {
   "cell_type": "code",
   "execution_count": null,
   "metadata": {
    "ExecuteTime": {
     "start_time": "2020-08-22T09:05:28.820Z"
    }
   },
   "outputs": [],
   "source": [
    "data2['drop'].mean()"
   ]
  },
  {
   "cell_type": "code",
   "execution_count": null,
   "metadata": {
    "ExecuteTime": {
     "start_time": "2020-08-22T09:05:28.822Z"
    }
   },
   "outputs": [],
   "source": [
    "data2.columns"
   ]
  },
  {
   "cell_type": "code",
   "execution_count": null,
   "metadata": {
    "ExecuteTime": {
     "start_time": "2020-08-22T09:05:28.824Z"
    }
   },
   "outputs": [],
   "source": [
    "data2.to_csv('../../input/act_4_label.csv', index=False)\n",
    "data2.to_hdf('../../input/act_4_label.h5', 'df', index=False)"
   ]
  }
 ],
 "metadata": {
  "kernelspec": {
   "display_name": "Python 3",
   "language": "python",
   "name": "python3"
  },
  "toc": {
   "base_numbering": 1,
   "nav_menu": {},
   "number_sections": true,
   "sideBar": true,
   "skip_h1_title": false,
   "title_cell": "Table of Contents",
   "title_sidebar": "Contents",
   "toc_cell": false,
   "toc_position": {},
   "toc_section_display": true,
   "toc_window_display": false
  },
  "varInspector": {
   "cols": {
    "lenName": 16,
    "lenType": 16,
    "lenVar": 40
   },
   "kernels_config": {
    "python": {
     "delete_cmd_postfix": "",
     "delete_cmd_prefix": "del ",
     "library": "var_list.py",
     "varRefreshCmd": "print(var_dic_list())"
    },
    "r": {
     "delete_cmd_postfix": ") ",
     "delete_cmd_prefix": "rm(",
     "library": "var_list.r",
     "varRefreshCmd": "cat(var_dic_list()) "
    }
   },
   "types_to_exclude": [
    "module",
    "function",
    "builtin_function_or_method",
    "instance",
    "_Feature"
   ],
   "window_display": false
  }
 },
 "nbformat": 4,
 "nbformat_minor": 4
}
