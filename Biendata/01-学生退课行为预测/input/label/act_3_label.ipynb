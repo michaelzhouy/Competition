{
 "cells": [
  {
   "cell_type": "code",
   "execution_count": 1,
   "metadata": {
    "ExecuteTime": {
     "end_time": "2020-08-22T06:44:25.721287Z",
     "start_time": "2020-08-22T06:44:22.503146Z"
    }
   },
   "outputs": [
    {
     "name": "stderr",
     "output_type": "stream",
     "text": [
      "C:\\Users\\z\\Anaconda3\\lib\\site-packages\\statsmodels\\tools\\_testing.py:19: FutureWarning: pandas.util.testing is deprecated. Use the functions in the public API at pandas.testing instead.\n",
      "  import pandas.util.testing as tm\n"
     ]
    }
   ],
   "source": [
    "import numpy as np\n",
    "import pandas as pd\n",
    "import matplotlib.pyplot as plt\n",
    "import seaborn as sns\n",
    "import gc\n",
    "import warnings\n",
    "\n",
    "warnings.filterwarnings('ignore')\n",
    "warnings.simplefilter(action='ignore', category=FutureWarning)\n",
    "pd.set_option('max_columns', None)\n",
    "pd.set_option('max_rows', None)"
   ]
  },
  {
   "cell_type": "code",
   "execution_count": 2,
   "metadata": {
    "ExecuteTime": {
     "end_time": "2020-08-22T06:44:43.485885Z",
     "start_time": "2020-08-22T06:44:25.724286Z"
    }
   },
   "outputs": [
    {
     "data": {
      "text/html": [
       "<div>\n",
       "<style scoped>\n",
       "    .dataframe tbody tr th:only-of-type {\n",
       "        vertical-align: middle;\n",
       "    }\n",
       "\n",
       "    .dataframe tbody tr th {\n",
       "        vertical-align: top;\n",
       "    }\n",
       "\n",
       "    .dataframe thead th {\n",
       "        text-align: right;\n",
       "    }\n",
       "</style>\n",
       "<table border=\"1\" class=\"dataframe\">\n",
       "  <thead>\n",
       "    <tr style=\"text-align: right;\">\n",
       "      <th></th>\n",
       "      <th>item_id</th>\n",
       "      <th>course_id</th>\n",
       "      <th>video_id</th>\n",
       "      <th>watching_count</th>\n",
       "      <th>video_duration</th>\n",
       "      <th>local_watching_time</th>\n",
       "      <th>video_progress_time</th>\n",
       "      <th>video_start_time</th>\n",
       "      <th>video_end_time</th>\n",
       "      <th>local_start_time</th>\n",
       "      <th>local_end_time</th>\n",
       "      <th>drop</th>\n",
       "    </tr>\n",
       "  </thead>\n",
       "  <tbody>\n",
       "    <tr>\n",
       "      <th>0</th>\n",
       "      <td>U_2461120</td>\n",
       "      <td>TsinghuaX+30240184+sp</td>\n",
       "      <td>V_102d2536030d47b4b343c3848f6f50b6</td>\n",
       "      <td>1</td>\n",
       "      <td>233.0</td>\n",
       "      <td>186</td>\n",
       "      <td>233.000000</td>\n",
       "      <td>0.00</td>\n",
       "      <td>233.000000</td>\n",
       "      <td>2019-04-04 21:13:20</td>\n",
       "      <td>2019-04-04 21:16:26</td>\n",
       "      <td>0</td>\n",
       "    </tr>\n",
       "    <tr>\n",
       "      <th>1</th>\n",
       "      <td>U_2461120</td>\n",
       "      <td>TsinghuaX+30240184+sp</td>\n",
       "      <td>V_4be5b36da31d4d15bc4afdd5a5cc1658</td>\n",
       "      <td>1</td>\n",
       "      <td>288.0</td>\n",
       "      <td>236</td>\n",
       "      <td>287.280000</td>\n",
       "      <td>0.72</td>\n",
       "      <td>288.000000</td>\n",
       "      <td>2019-04-04 21:20:35</td>\n",
       "      <td>2019-04-04 21:24:31</td>\n",
       "      <td>0</td>\n",
       "    </tr>\n",
       "    <tr>\n",
       "      <th>2</th>\n",
       "      <td>U_2461120</td>\n",
       "      <td>TsinghuaX+00310222X+sp</td>\n",
       "      <td>V_4c914a96924c4ba2b6ecaa4f58336892</td>\n",
       "      <td>1</td>\n",
       "      <td>767.0</td>\n",
       "      <td>774</td>\n",
       "      <td>767.000000</td>\n",
       "      <td>0.00</td>\n",
       "      <td>767.000000</td>\n",
       "      <td>2016-11-28 19:05:59</td>\n",
       "      <td>2016-11-28 19:18:53</td>\n",
       "      <td>0</td>\n",
       "    </tr>\n",
       "    <tr>\n",
       "      <th>3</th>\n",
       "      <td>U_2461120</td>\n",
       "      <td>TsinghuaX+30240184+sp</td>\n",
       "      <td>V_4f184a3de72d418caccbd3fa8624d5b6</td>\n",
       "      <td>3</td>\n",
       "      <td>209.0</td>\n",
       "      <td>613</td>\n",
       "      <td>209.000000</td>\n",
       "      <td>0.00</td>\n",
       "      <td>209.000000</td>\n",
       "      <td>2019-04-04 20:58:06</td>\n",
       "      <td>2019-04-04 21:08:35</td>\n",
       "      <td>0</td>\n",
       "    </tr>\n",
       "    <tr>\n",
       "      <th>4</th>\n",
       "      <td>U_2461120</td>\n",
       "      <td>TsinghuaX+00310222X+sp</td>\n",
       "      <td>V_75f9b0188a2648358a469aee137f07be</td>\n",
       "      <td>2</td>\n",
       "      <td>1132.0</td>\n",
       "      <td>105</td>\n",
       "      <td>104.230011</td>\n",
       "      <td>0.00</td>\n",
       "      <td>231.550003</td>\n",
       "      <td>2016-12-02 09:49:02</td>\n",
       "      <td>2016-12-02 09:50:47</td>\n",
       "      <td>1</td>\n",
       "    </tr>\n",
       "    <tr>\n",
       "      <th>35</th>\n",
       "      <td>U_8965811</td>\n",
       "      <td>TsinghuaX+40260092X+sp</td>\n",
       "      <td>V_d8b0299c16d24a23976f53602d91af1f</td>\n",
       "      <td>3</td>\n",
       "      <td>394.0</td>\n",
       "      <td>577</td>\n",
       "      <td>392.699982</td>\n",
       "      <td>0.00</td>\n",
       "      <td>393.149994</td>\n",
       "      <td>2018-10-17 20:37:36</td>\n",
       "      <td>2018-10-17 20:47:43</td>\n",
       "      <td>0</td>\n",
       "    </tr>\n",
       "    <tr>\n",
       "      <th>36</th>\n",
       "      <td>U_8965811</td>\n",
       "      <td>TsinghuaX+40260092X+sp</td>\n",
       "      <td>V_db213371577843f0a85b6fde8298beb1</td>\n",
       "      <td>3</td>\n",
       "      <td>102.0</td>\n",
       "      <td>72</td>\n",
       "      <td>101.720001</td>\n",
       "      <td>0.01</td>\n",
       "      <td>102.000000</td>\n",
       "      <td>2018-10-17 20:26:31</td>\n",
       "      <td>2018-10-17 20:27:52</td>\n",
       "      <td>0</td>\n",
       "    </tr>\n",
       "    <tr>\n",
       "      <th>37</th>\n",
       "      <td>U_8965811</td>\n",
       "      <td>TsinghuaX+00740043X_2015_T2+sp</td>\n",
       "      <td>V_eabc79addb914475ae1e4ad9c22f185b</td>\n",
       "      <td>2</td>\n",
       "      <td>143.0</td>\n",
       "      <td>102</td>\n",
       "      <td>143.000000</td>\n",
       "      <td>0.00</td>\n",
       "      <td>143.000000</td>\n",
       "      <td>2018-10-18 17:01:49</td>\n",
       "      <td>2018-10-18 17:05:31</td>\n",
       "      <td>0</td>\n",
       "    </tr>\n",
       "    <tr>\n",
       "      <th>38</th>\n",
       "      <td>U_8965811</td>\n",
       "      <td>TsinghuaX+40260092X+sp</td>\n",
       "      <td>V_f22a3ab6dcac48e685413d299ac119cb</td>\n",
       "      <td>2</td>\n",
       "      <td>76.0</td>\n",
       "      <td>114</td>\n",
       "      <td>73.849998</td>\n",
       "      <td>0.00</td>\n",
       "      <td>73.849998</td>\n",
       "      <td>2018-10-17 20:33:08</td>\n",
       "      <td>2018-10-17 20:35:57</td>\n",
       "      <td>1</td>\n",
       "    </tr>\n",
       "    <tr>\n",
       "      <th>39</th>\n",
       "      <td>U_8965811</td>\n",
       "      <td>TsinghuaX+00740043X_2015_T2+sp</td>\n",
       "      <td>V_f99fa9c9d7254b988cf82830cc72cb63</td>\n",
       "      <td>10</td>\n",
       "      <td>570.0</td>\n",
       "      <td>513</td>\n",
       "      <td>594.690018</td>\n",
       "      <td>0.00</td>\n",
       "      <td>570.000000</td>\n",
       "      <td>2018-10-18 17:06:00</td>\n",
       "      <td>2018-10-18 17:18:46</td>\n",
       "      <td>1</td>\n",
       "    </tr>\n",
       "  </tbody>\n",
       "</table>\n",
       "</div>"
      ],
      "text/plain": [
       "      item_id                       course_id  \\\n",
       "0   U_2461120           TsinghuaX+30240184+sp   \n",
       "1   U_2461120           TsinghuaX+30240184+sp   \n",
       "2   U_2461120          TsinghuaX+00310222X+sp   \n",
       "3   U_2461120           TsinghuaX+30240184+sp   \n",
       "4   U_2461120          TsinghuaX+00310222X+sp   \n",
       "35  U_8965811          TsinghuaX+40260092X+sp   \n",
       "36  U_8965811          TsinghuaX+40260092X+sp   \n",
       "37  U_8965811  TsinghuaX+00740043X_2015_T2+sp   \n",
       "38  U_8965811          TsinghuaX+40260092X+sp   \n",
       "39  U_8965811  TsinghuaX+00740043X_2015_T2+sp   \n",
       "\n",
       "                              video_id  watching_count  video_duration  \\\n",
       "0   V_102d2536030d47b4b343c3848f6f50b6               1           233.0   \n",
       "1   V_4be5b36da31d4d15bc4afdd5a5cc1658               1           288.0   \n",
       "2   V_4c914a96924c4ba2b6ecaa4f58336892               1           767.0   \n",
       "3   V_4f184a3de72d418caccbd3fa8624d5b6               3           209.0   \n",
       "4   V_75f9b0188a2648358a469aee137f07be               2          1132.0   \n",
       "35  V_d8b0299c16d24a23976f53602d91af1f               3           394.0   \n",
       "36  V_db213371577843f0a85b6fde8298beb1               3           102.0   \n",
       "37  V_eabc79addb914475ae1e4ad9c22f185b               2           143.0   \n",
       "38  V_f22a3ab6dcac48e685413d299ac119cb               2            76.0   \n",
       "39  V_f99fa9c9d7254b988cf82830cc72cb63              10           570.0   \n",
       "\n",
       "    local_watching_time  video_progress_time  video_start_time  \\\n",
       "0                   186           233.000000              0.00   \n",
       "1                   236           287.280000              0.72   \n",
       "2                   774           767.000000              0.00   \n",
       "3                   613           209.000000              0.00   \n",
       "4                   105           104.230011              0.00   \n",
       "35                  577           392.699982              0.00   \n",
       "36                   72           101.720001              0.01   \n",
       "37                  102           143.000000              0.00   \n",
       "38                  114            73.849998              0.00   \n",
       "39                  513           594.690018              0.00   \n",
       "\n",
       "    video_end_time     local_start_time       local_end_time  drop  \n",
       "0       233.000000  2019-04-04 21:13:20  2019-04-04 21:16:26     0  \n",
       "1       288.000000  2019-04-04 21:20:35  2019-04-04 21:24:31     0  \n",
       "2       767.000000  2016-11-28 19:05:59  2016-11-28 19:18:53     0  \n",
       "3       209.000000  2019-04-04 20:58:06  2019-04-04 21:08:35     0  \n",
       "4       231.550003  2016-12-02 09:49:02  2016-12-02 09:50:47     1  \n",
       "35      393.149994  2018-10-17 20:37:36  2018-10-17 20:47:43     0  \n",
       "36      102.000000  2018-10-17 20:26:31  2018-10-17 20:27:52     0  \n",
       "37      143.000000  2018-10-18 17:01:49  2018-10-18 17:05:31     0  \n",
       "38       73.849998  2018-10-17 20:33:08  2018-10-17 20:35:57     1  \n",
       "39      570.000000  2018-10-18 17:06:00  2018-10-18 17:18:46     1  "
      ]
     },
     "execution_count": 2,
     "metadata": {},
     "output_type": "execute_result"
    }
   ],
   "source": [
    "df = pd.read_hdf('../act_3.h5')\n",
    "df.head().append(df.tail())"
   ]
  },
  {
   "cell_type": "code",
   "execution_count": 3,
   "metadata": {
    "ExecuteTime": {
     "end_time": "2020-08-22T06:44:43.504874Z",
     "start_time": "2020-08-22T06:44:43.493881Z"
    }
   },
   "outputs": [
    {
     "data": {
      "text/plain": [
       "(3400320, 12)"
      ]
     },
     "execution_count": 3,
     "metadata": {},
     "output_type": "execute_result"
    }
   ],
   "source": [
    "df.shape"
   ]
  },
  {
   "cell_type": "code",
   "execution_count": 4,
   "metadata": {
    "ExecuteTime": {
     "end_time": "2020-08-22T06:44:46.926898Z",
     "start_time": "2020-08-22T06:44:43.508872Z"
    }
   },
   "outputs": [
    {
     "data": {
      "text/plain": [
       "(3385839, 12)"
      ]
     },
     "execution_count": 4,
     "metadata": {},
     "output_type": "execute_result"
    }
   ],
   "source": [
    "df.drop_duplicates(['item_id', 'course_id', 'video_id']).shape"
   ]
  },
  {
   "cell_type": "code",
   "execution_count": 5,
   "metadata": {
    "ExecuteTime": {
     "end_time": "2020-08-22T06:44:46.946888Z",
     "start_time": "2020-08-22T06:44:46.929897Z"
    }
   },
   "outputs": [
    {
     "name": "stdout",
     "output_type": "stream",
     "text": [
      "<class 'pandas.core.frame.DataFrame'>\n",
      "Int64Index: 3400320 entries, 0 to 39\n",
      "Data columns (total 12 columns):\n",
      " #   Column               Dtype  \n",
      "---  ------               -----  \n",
      " 0   item_id              object \n",
      " 1   course_id            object \n",
      " 2   video_id             object \n",
      " 3   watching_count       int64  \n",
      " 4   video_duration       float64\n",
      " 5   local_watching_time  int64  \n",
      " 6   video_progress_time  float64\n",
      " 7   video_start_time     float64\n",
      " 8   video_end_time       float64\n",
      " 9   local_start_time     object \n",
      " 10  local_end_time       object \n",
      " 11  drop                 int64  \n",
      "dtypes: float64(4), int64(3), object(5)\n",
      "memory usage: 337.3+ MB\n"
     ]
    }
   ],
   "source": [
    "df.info()"
   ]
  },
  {
   "cell_type": "code",
   "execution_count": 6,
   "metadata": {
    "ExecuteTime": {
     "end_time": "2020-08-22T06:44:59.229323Z",
     "start_time": "2020-08-22T06:44:46.949885Z"
    }
   },
   "outputs": [
    {
     "data": {
      "text/plain": [
       "18"
      ]
     },
     "execution_count": 6,
     "metadata": {},
     "output_type": "execute_result"
    }
   ],
   "source": [
    "df['local_start_time'] = pd.to_datetime(df['local_start_time'])\n",
    "df['local_end_time'] = pd.to_datetime(df['local_end_time'])\n",
    "gc.collect()"
   ]
  },
  {
   "cell_type": "code",
   "execution_count": 7,
   "metadata": {
    "ExecuteTime": {
     "end_time": "2020-08-22T06:44:59.240317Z",
     "start_time": "2020-08-22T06:44:59.235319Z"
    }
   },
   "outputs": [],
   "source": [
    "uid1 = ['item_id', 'course_id', 'video_id']\n",
    "uid2 = ['item_id', 'course_id']"
   ]
  },
  {
   "cell_type": "code",
   "execution_count": 8,
   "metadata": {
    "ExecuteTime": {
     "end_time": "2020-08-22T06:51:15.270742Z",
     "start_time": "2020-08-22T06:44:59.245313Z"
    }
   },
   "outputs": [
    {
     "data": {
      "text/plain": [
       "0"
      ]
     },
     "execution_count": 8,
     "metadata": {},
     "output_type": "execute_result"
    }
   ],
   "source": [
    "data = df.groupby(uid1)['drop'].apply(list)\n",
    "data = data.reset_index()\n",
    "data['drop'] = data['drop'].map(lambda x: 1 if 1 in x else 0)\n",
    "gc.collect()\n",
    "\n",
    "\n",
    "# video_start_time, video_end_time, local_start_time, local_end_time\n",
    "tmp = df.groupby(uid1, as_index=False).agg({\n",
    "    'watching_count': np.sum,\n",
    "    'video_duration': np.max,\n",
    "    'local_watching_time': np.sum,\n",
    "    'video_progress_time': np.sum,\n",
    "    'video_start_time': np.min,\n",
    "    'video_end_time': np.max,\n",
    "    'local_start_time': np.min,\n",
    "    'local_end_time': np.max\n",
    "})\n",
    "data = data.merge(tmp, on=uid1, how='left')\n",
    "del tmp\n",
    "gc.collect()"
   ]
  },
  {
   "cell_type": "code",
   "execution_count": 9,
   "metadata": {
    "ExecuteTime": {
     "end_time": "2020-08-22T06:51:15.309718Z",
     "start_time": "2020-08-22T06:51:15.278736Z"
    }
   },
   "outputs": [
    {
     "data": {
      "text/html": [
       "<div>\n",
       "<style scoped>\n",
       "    .dataframe tbody tr th:only-of-type {\n",
       "        vertical-align: middle;\n",
       "    }\n",
       "\n",
       "    .dataframe tbody tr th {\n",
       "        vertical-align: top;\n",
       "    }\n",
       "\n",
       "    .dataframe thead th {\n",
       "        text-align: right;\n",
       "    }\n",
       "</style>\n",
       "<table border=\"1\" class=\"dataframe\">\n",
       "  <thead>\n",
       "    <tr style=\"text-align: right;\">\n",
       "      <th></th>\n",
       "      <th>item_id</th>\n",
       "      <th>course_id</th>\n",
       "      <th>video_id</th>\n",
       "      <th>drop</th>\n",
       "      <th>watching_count</th>\n",
       "      <th>video_duration</th>\n",
       "      <th>local_watching_time</th>\n",
       "      <th>video_progress_time</th>\n",
       "      <th>video_start_time</th>\n",
       "      <th>video_end_time</th>\n",
       "      <th>local_start_time</th>\n",
       "      <th>local_end_time</th>\n",
       "    </tr>\n",
       "  </thead>\n",
       "  <tbody>\n",
       "    <tr>\n",
       "      <th>0</th>\n",
       "      <td>U_10000111</td>\n",
       "      <td>TsinghuaX+20350033X+sp</td>\n",
       "      <td>V_29ad964f79734a0e96a9e1661787b3f0</td>\n",
       "      <td>0</td>\n",
       "      <td>3</td>\n",
       "      <td>464.0</td>\n",
       "      <td>477</td>\n",
       "      <td>475.059967</td>\n",
       "      <td>0.0</td>\n",
       "      <td>464.0</td>\n",
       "      <td>2019-01-31 16:00:34</td>\n",
       "      <td>2019-01-31 16:09:09</td>\n",
       "    </tr>\n",
       "    <tr>\n",
       "      <th>1</th>\n",
       "      <td>U_10000111</td>\n",
       "      <td>TsinghuaX+20350033X+sp</td>\n",
       "      <td>V_37f7c9b491f142b3a1bb6b6c5ffd5e62</td>\n",
       "      <td>0</td>\n",
       "      <td>1</td>\n",
       "      <td>269.0</td>\n",
       "      <td>277</td>\n",
       "      <td>269.000000</td>\n",
       "      <td>0.0</td>\n",
       "      <td>269.0</td>\n",
       "      <td>2019-01-31 16:13:37</td>\n",
       "      <td>2019-01-31 16:18:14</td>\n",
       "    </tr>\n",
       "    <tr>\n",
       "      <th>2</th>\n",
       "      <td>U_10000111</td>\n",
       "      <td>TsinghuaX+20350033X+sp</td>\n",
       "      <td>V_51fb3df8572840b89d3b6496bbe3e68b</td>\n",
       "      <td>0</td>\n",
       "      <td>1</td>\n",
       "      <td>251.0</td>\n",
       "      <td>252</td>\n",
       "      <td>251.000000</td>\n",
       "      <td>0.0</td>\n",
       "      <td>251.0</td>\n",
       "      <td>2019-01-31 15:46:35</td>\n",
       "      <td>2019-01-31 15:50:47</td>\n",
       "    </tr>\n",
       "    <tr>\n",
       "      <th>3</th>\n",
       "      <td>U_10000111</td>\n",
       "      <td>TsinghuaX+20350033X+sp</td>\n",
       "      <td>V_bfb49368e2e24e15b342492fce69723b</td>\n",
       "      <td>0</td>\n",
       "      <td>4</td>\n",
       "      <td>284.0</td>\n",
       "      <td>394</td>\n",
       "      <td>386.320007</td>\n",
       "      <td>0.0</td>\n",
       "      <td>284.0</td>\n",
       "      <td>2019-01-31 15:35:43</td>\n",
       "      <td>2019-01-31 15:46:14</td>\n",
       "    </tr>\n",
       "    <tr>\n",
       "      <th>4</th>\n",
       "      <td>U_10000111</td>\n",
       "      <td>TsinghuaX+20350033X+sp</td>\n",
       "      <td>V_cee1aa84c8814b76936051a23ee9a074</td>\n",
       "      <td>0</td>\n",
       "      <td>1</td>\n",
       "      <td>296.0</td>\n",
       "      <td>297</td>\n",
       "      <td>296.000000</td>\n",
       "      <td>0.0</td>\n",
       "      <td>296.0</td>\n",
       "      <td>2019-01-31 16:19:04</td>\n",
       "      <td>2019-01-31 16:24:01</td>\n",
       "    </tr>\n",
       "  </tbody>\n",
       "</table>\n",
       "</div>"
      ],
      "text/plain": [
       "      item_id               course_id                            video_id  \\\n",
       "0  U_10000111  TsinghuaX+20350033X+sp  V_29ad964f79734a0e96a9e1661787b3f0   \n",
       "1  U_10000111  TsinghuaX+20350033X+sp  V_37f7c9b491f142b3a1bb6b6c5ffd5e62   \n",
       "2  U_10000111  TsinghuaX+20350033X+sp  V_51fb3df8572840b89d3b6496bbe3e68b   \n",
       "3  U_10000111  TsinghuaX+20350033X+sp  V_bfb49368e2e24e15b342492fce69723b   \n",
       "4  U_10000111  TsinghuaX+20350033X+sp  V_cee1aa84c8814b76936051a23ee9a074   \n",
       "\n",
       "   drop  watching_count  video_duration  local_watching_time  \\\n",
       "0     0               3           464.0                  477   \n",
       "1     0               1           269.0                  277   \n",
       "2     0               1           251.0                  252   \n",
       "3     0               4           284.0                  394   \n",
       "4     0               1           296.0                  297   \n",
       "\n",
       "   video_progress_time  video_start_time  video_end_time    local_start_time  \\\n",
       "0           475.059967               0.0           464.0 2019-01-31 16:00:34   \n",
       "1           269.000000               0.0           269.0 2019-01-31 16:13:37   \n",
       "2           251.000000               0.0           251.0 2019-01-31 15:46:35   \n",
       "3           386.320007               0.0           284.0 2019-01-31 15:35:43   \n",
       "4           296.000000               0.0           296.0 2019-01-31 16:19:04   \n",
       "\n",
       "       local_end_time  \n",
       "0 2019-01-31 16:09:09  \n",
       "1 2019-01-31 16:18:14  \n",
       "2 2019-01-31 15:50:47  \n",
       "3 2019-01-31 15:46:14  \n",
       "4 2019-01-31 16:24:01  "
      ]
     },
     "execution_count": 9,
     "metadata": {},
     "output_type": "execute_result"
    }
   ],
   "source": [
    "data.head()"
   ]
  },
  {
   "cell_type": "code",
   "execution_count": 10,
   "metadata": {
    "ExecuteTime": {
     "end_time": "2020-08-22T06:51:15.324710Z",
     "start_time": "2020-08-22T06:51:15.312718Z"
    }
   },
   "outputs": [
    {
     "data": {
      "text/plain": [
       "(3385839, 12)"
      ]
     },
     "execution_count": 10,
     "metadata": {},
     "output_type": "execute_result"
    }
   ],
   "source": [
    "data.shape"
   ]
  },
  {
   "cell_type": "code",
   "execution_count": 11,
   "metadata": {
    "ExecuteTime": {
     "end_time": "2020-08-22T06:55:12.898222Z",
     "start_time": "2020-08-22T06:51:15.327709Z"
    }
   },
   "outputs": [],
   "source": [
    "# 最晚的进度条时间点-最早的进度条时间点\n",
    "data['video_watching_duration'] = data['video_end_time'] - data['video_start_time']\n",
    "\n",
    "# 观看结束时间-观看开始时间\n",
    "data['local_watching_duration'] = data.apply(lambda x: (x['local_end_time'] - x['local_start_time']).seconds, axis=1)"
   ]
  },
  {
   "cell_type": "code",
   "execution_count": 12,
   "metadata": {
    "ExecuteTime": {
     "end_time": "2020-08-22T06:55:15.044807Z",
     "start_time": "2020-08-22T06:55:12.903488Z"
    }
   },
   "outputs": [],
   "source": [
    "# 进度条是否读到最后，小于0\n",
    "data['video_is_end'] = data['video_end_time'] - data['video_duration']\n",
    "\n",
    "# 一开始是否拖到进度条\n",
    "data['video_is_start'] = data['video_start_time'].map(lambda x: 1 if x > 0 else 0)\n",
    "\n",
    "# 进度条是否从开始读到最后，小于0\n",
    "data['video_is_start_end'] = data['video_watching_duration'] - data['video_duration']\n",
    "\n",
    "# 进度条拖动的秒速 - 暂停时长\n",
    "data['forward_seconds'] = data['video_watching_duration'] - data['video_progress_time']\n",
    "\n",
    "# 暂停时长，\n",
    "# df[''] = df[''] - df['']\n",
    "\n",
    "# 实际观看时长是否有差误\n",
    "data['local_watching_diff'] = data['local_watching_duration'] - data['local_watching_time']\n",
    "\n",
    "# 倍速\n",
    "data['speed'] = data['local_watching_time'] / (data['video_progress_time'] + 0.001)"
   ]
  },
  {
   "cell_type": "code",
   "execution_count": 13,
   "metadata": {
    "ExecuteTime": {
     "end_time": "2020-08-22T06:55:15.057918Z",
     "start_time": "2020-08-22T06:55:15.044807Z"
    },
    "scrolled": false
   },
   "outputs": [
    {
     "data": {
      "text/plain": [
       "Index(['item_id', 'course_id', 'video_id', 'drop', 'watching_count',\n",
       "       'video_duration', 'local_watching_time', 'video_progress_time',\n",
       "       'video_start_time', 'video_end_time', 'local_start_time',\n",
       "       'local_end_time', 'video_watching_duration', 'local_watching_duration',\n",
       "       'video_is_end', 'video_is_start', 'video_is_start_end',\n",
       "       'forward_seconds', 'local_watching_diff', 'speed'],\n",
       "      dtype='object')"
      ]
     },
     "execution_count": 13,
     "metadata": {},
     "output_type": "execute_result"
    }
   ],
   "source": [
    "data.columns"
   ]
  },
  {
   "cell_type": "code",
   "execution_count": 14,
   "metadata": {
    "ExecuteTime": {
     "end_time": "2020-08-22T06:55:16.051577Z",
     "start_time": "2020-08-22T06:55:15.064955Z"
    }
   },
   "outputs": [
    {
     "data": {
      "text/plain": [
       "99"
      ]
     },
     "execution_count": 14,
     "metadata": {},
     "output_type": "execute_result"
    }
   ],
   "source": [
    "data.drop(['video_start_time', 'video_end_time', 'video_id'], axis=1, inplace=True)\n",
    "gc.collect()"
   ]
  },
  {
   "cell_type": "code",
   "execution_count": 15,
   "metadata": {
    "ExecuteTime": {
     "end_time": "2020-08-22T06:55:16.071108Z",
     "start_time": "2020-08-22T06:55:16.055213Z"
    }
   },
   "outputs": [
    {
     "data": {
      "text/plain": [
       "0.05680128322699337"
      ]
     },
     "execution_count": 15,
     "metadata": {},
     "output_type": "execute_result"
    }
   ],
   "source": [
    "data['drop'].mean()"
   ]
  },
  {
   "cell_type": "code",
   "execution_count": 16,
   "metadata": {
    "ExecuteTime": {
     "end_time": "2020-08-22T06:55:38.941020Z",
     "start_time": "2020-08-22T06:55:16.075106Z"
    }
   },
   "outputs": [
    {
     "data": {
      "text/plain": [
       "0"
      ]
     },
     "execution_count": 16,
     "metadata": {},
     "output_type": "execute_result"
    }
   ],
   "source": [
    "data2 = data.groupby(uid2)['drop'].apply(list)\n",
    "data2 = data2.reset_index()\n",
    "data2['drop'] = data2['drop'].map(lambda x: 1 if 1 in x else 0)\n",
    "gc.collect()\n",
    "print(data2['drop'].mean())"
   ]
  },
  {
   "cell_type": "code",
   "execution_count": null,
   "metadata": {},
   "outputs": [],
   "source": [
    "# video_start_time, video_end_time, local_start_time, local_end_time\n",
    "tmp = data.groupby(uid2, as_index=False).agg({\n",
    "    # 'watching_count': np.sum,\n",
    "    # 'video_duration': np.sum,\n",
    "    # 'local_watching_time': np.sum,\n",
    "    # 'video_progress_time': np.sum,\n",
    "    # 'video_start_time': np.min,\n",
    "    # 'video_end_time': np.max,\n",
    "    'local_start_time': np.min,\n",
    "    'local_end_time': np.max,\n",
    "    'video_is_end': np.sum,\n",
    "    'video_is_start': np.mean,\n",
    "    'video_is_start_end': np.sum,\n",
    "    'forward_seconds': np.sum,\n",
    "    'local_watching_diff': np.mean,\n",
    "    'speed': np.mean\n",
    "})\n",
    "data2 = data2.merge(tmp, on=uid2, how='left')\n",
    "del tmp\n",
    "gc.collect()"
   ]
  },
  {
   "cell_type": "code",
   "execution_count": 17,
   "metadata": {
    "ExecuteTime": {
     "end_time": "2020-08-22T06:56:28.740763Z",
     "start_time": "2020-08-22T06:55:38.943133Z"
    }
   },
   "outputs": [
    {
     "data": {
      "text/plain": [
       "0"
      ]
     },
     "execution_count": 17,
     "metadata": {},
     "output_type": "execute_result"
    }
   ],
   "source": [
    "# watching_count\n",
    "tmp = data.groupby(uid2, as_index=False)['watching_count'].agg({\n",
    "    'watching_count_sum': 'sum',\n",
    "    'watching_count_count': 'count',\n",
    "    'watching_count_mean': 'mean',\n",
    "    'watching_count_max': 'max',\n",
    "    'watching_count_min': 'min',\n",
    "    'watching_count_std': 'std',\n",
    "    'watching_count_skew': 'skew',\n",
    "    # 'watching_count_mad': 'mad'\n",
    "})\n",
    "data2 = data2.merge(tmp, on=uid2, how='left')\n",
    "del tmp\n",
    "gc.collect()"
   ]
  },
  {
   "cell_type": "code",
   "execution_count": 18,
   "metadata": {
    "ExecuteTime": {
     "end_time": "2020-08-22T06:57:22.423478Z",
     "start_time": "2020-08-22T06:56:28.743761Z"
    }
   },
   "outputs": [
    {
     "data": {
      "text/plain": [
       "0"
      ]
     },
     "execution_count": 18,
     "metadata": {},
     "output_type": "execute_result"
    }
   ],
   "source": [
    "# video_duration\n",
    "tmp = data.groupby(uid2, as_index=False)['video_duration'].agg({\n",
    "    'video_duration_sum': 'sum',\n",
    "    'video_duration_count': 'count',\n",
    "    'video_duration_mean': 'mean',\n",
    "    'video_duration_max': 'max',\n",
    "    'video_duration_min': 'min',\n",
    "    'video_duration_std': 'std',\n",
    "    'video_duration_skew': 'skew',\n",
    "    # 'video_duration_mad': 'mad'\n",
    "})\n",
    "data2 = data2.merge(tmp, on=uid2, how='left')\n",
    "del tmp\n",
    "gc.collect()"
   ]
  },
  {
   "cell_type": "code",
   "execution_count": 19,
   "metadata": {
    "ExecuteTime": {
     "end_time": "2020-08-22T06:58:13.295590Z",
     "start_time": "2020-08-22T06:57:22.427476Z"
    }
   },
   "outputs": [
    {
     "data": {
      "text/plain": [
       "0"
      ]
     },
     "execution_count": 19,
     "metadata": {},
     "output_type": "execute_result"
    }
   ],
   "source": [
    "# local_watching_time\n",
    "tmp = data.groupby(uid2, as_index=False)['local_watching_time'].agg({\n",
    "    'local_watching_time_sum': 'sum',\n",
    "    'local_watching_time_count': 'count',\n",
    "    'local_watching_time_mean': 'mean',\n",
    "    'local_watching_time_max': 'max',\n",
    "    'local_watching_time_min': 'min',\n",
    "    'local_watching_time_std': 'std',\n",
    "    'local_watching_time_skew': 'skew',\n",
    "    # 'local_watching_time_mad': 'mad'\n",
    "})\n",
    "data2 = data2.merge(tmp, on=uid2, how='left')\n",
    "del tmp\n",
    "gc.collect()"
   ]
  },
  {
   "cell_type": "code",
   "execution_count": 20,
   "metadata": {
    "ExecuteTime": {
     "end_time": "2020-08-22T06:59:08.015038Z",
     "start_time": "2020-08-22T06:58:13.298461Z"
    }
   },
   "outputs": [
    {
     "data": {
      "text/plain": [
       "0"
      ]
     },
     "execution_count": 20,
     "metadata": {},
     "output_type": "execute_result"
    }
   ],
   "source": [
    "# video_progress_time\n",
    "tmp = data.groupby(uid2, as_index=False)['video_progress_time'].agg({\n",
    "    'video_progress_time_sum': 'sum',\n",
    "    'video_progress_time_count': 'count',\n",
    "    'video_progress_time_mean': 'mean',\n",
    "    'video_progress_time_max': 'max',\n",
    "    'video_progress_time_min': 'min',\n",
    "    'video_progress_time_std': 'std',\n",
    "    'video_progress_time_skew': 'skew',\n",
    "    # 'video_progress_time_mad': 'mad'\n",
    "})\n",
    "data2 = data2.merge(tmp, on=uid2, how='left')\n",
    "del tmp\n",
    "gc.collect()"
   ]
  },
  {
   "cell_type": "code",
   "execution_count": 21,
   "metadata": {
    "ExecuteTime": {
     "end_time": "2020-08-22T06:59:21.776071Z",
     "start_time": "2020-08-22T06:59:08.019035Z"
    }
   },
   "outputs": [],
   "source": [
    "# 课程：观看结束时间-观看开始时间\n",
    "data2['local_watching_duration'] = data2.apply(lambda x: (x['local_end_time'] - x['local_start_time']).seconds, axis=1)\n",
    "\n",
    "data2['local_watching_diff'] = data2['local_watching_duration'] - data2['local_watching_time_sum']"
   ]
  },
  {
   "cell_type": "code",
   "execution_count": 22,
   "metadata": {
    "ExecuteTime": {
     "end_time": "2020-08-22T06:59:22.035932Z",
     "start_time": "2020-08-22T06:59:21.776071Z"
    }
   },
   "outputs": [
    {
     "data": {
      "text/plain": [
       "20"
      ]
     },
     "execution_count": 22,
     "metadata": {},
     "output_type": "execute_result"
    }
   ],
   "source": [
    "data2.drop(['local_start_time', 'local_end_time'], axis=1, inplace=True)\n",
    "del data\n",
    "gc.collect()"
   ]
  },
  {
   "cell_type": "code",
   "execution_count": 23,
   "metadata": {
    "ExecuteTime": {
     "end_time": "2020-08-22T06:59:22.061917Z",
     "start_time": "2020-08-22T06:59:22.052922Z"
    }
   },
   "outputs": [
    {
     "data": {
      "text/plain": [
       "1.0"
      ]
     },
     "execution_count": 23,
     "metadata": {},
     "output_type": "execute_result"
    }
   ],
   "source": [
    "data2['drop'].mean()"
   ]
  },
  {
   "cell_type": "code",
   "execution_count": 24,
   "metadata": {
    "ExecuteTime": {
     "end_time": "2020-08-22T06:59:22.081906Z",
     "start_time": "2020-08-22T06:59:22.068915Z"
    }
   },
   "outputs": [
    {
     "data": {
      "text/plain": [
       "Index(['item_id', 'course_id', 'drop', 'video_is_end', 'video_is_start',\n",
       "       'video_is_start_end', 'forward_seconds', 'local_watching_diff', 'speed',\n",
       "       'watching_count_sum', 'watching_count_count', 'watching_count_mean',\n",
       "       'watching_count_max', 'watching_count_min', 'watching_count_std',\n",
       "       'watching_count_skew', 'video_duration_sum', 'video_duration_count',\n",
       "       'video_duration_mean', 'video_duration_max', 'video_duration_min',\n",
       "       'video_duration_std', 'video_duration_skew', 'local_watching_time_sum',\n",
       "       'local_watching_time_count', 'local_watching_time_mean',\n",
       "       'local_watching_time_max', 'local_watching_time_min',\n",
       "       'local_watching_time_std', 'local_watching_time_skew',\n",
       "       'video_progress_time_sum', 'video_progress_time_count',\n",
       "       'video_progress_time_mean', 'video_progress_time_max',\n",
       "       'video_progress_time_min', 'video_progress_time_std',\n",
       "       'video_progress_time_skew', 'local_watching_duration'],\n",
       "      dtype='object')"
      ]
     },
     "execution_count": 24,
     "metadata": {},
     "output_type": "execute_result"
    }
   ],
   "source": [
    "data2.columns"
   ]
  },
  {
   "cell_type": "code",
   "execution_count": 25,
   "metadata": {
    "ExecuteTime": {
     "end_time": "2020-08-22T06:59:32.301851Z",
     "start_time": "2020-08-22T06:59:22.084904Z"
    }
   },
   "outputs": [],
   "source": [
    "data2.to_csv('../../input/act_3_label.csv', index=False)\n",
    "data2.to_hdf('../../input/act_3_label.h5', 'df', index=False)"
   ]
  }
 ],
 "metadata": {
  "kernelspec": {
   "display_name": "Python 3",
   "language": "python",
   "name": "python3"
  },
  "language_info": {
   "codemirror_mode": {
    "name": "ipython",
    "version": 3
   },
   "file_extension": ".py",
   "mimetype": "text/x-python",
   "name": "python",
   "nbconvert_exporter": "python",
   "pygments_lexer": "ipython3",
   "version": "3.7.3"
  },
  "toc": {
   "base_numbering": 1,
   "nav_menu": {},
   "number_sections": true,
   "sideBar": true,
   "skip_h1_title": false,
   "title_cell": "Table of Contents",
   "title_sidebar": "Contents",
   "toc_cell": false,
   "toc_position": {},
   "toc_section_display": true,
   "toc_window_display": false
  },
  "varInspector": {
   "cols": {
    "lenName": 16,
    "lenType": 16,
    "lenVar": 40
   },
   "kernels_config": {
    "python": {
     "delete_cmd_postfix": "",
     "delete_cmd_prefix": "del ",
     "library": "var_list.py",
     "varRefreshCmd": "print(var_dic_list())"
    },
    "r": {
     "delete_cmd_postfix": ") ",
     "delete_cmd_prefix": "rm(",
     "library": "var_list.r",
     "varRefreshCmd": "cat(var_dic_list()) "
    }
   },
   "types_to_exclude": [
    "module",
    "function",
    "builtin_function_or_method",
    "instance",
    "_Feature"
   ],
   "window_display": false
  }
 },
 "nbformat": 4,
 "nbformat_minor": 4
}
