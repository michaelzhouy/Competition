{
 "cells": [
  {
   "cell_type": "code",
   "execution_count": 1,
   "metadata": {
    "ExecuteTime": {
     "end_time": "2020-08-24T14:01:52.173834Z",
     "start_time": "2020-08-24T14:01:49.653913Z"
    }
   },
   "outputs": [
    {
     "name": "stderr",
     "output_type": "stream",
     "text": [
      "C:\\Users\\z\\Anaconda3\\lib\\site-packages\\statsmodels\\tools\\_testing.py:19: FutureWarning: pandas.util.testing is deprecated. Use the functions in the public API at pandas.testing instead.\n",
      "  import pandas.util.testing as tm\n"
     ]
    }
   ],
   "source": [
    "import numpy as np\n",
    "import pandas as pd\n",
    "import matplotlib.pyplot as plt\n",
    "import seaborn as sns\n",
    "import gc\n",
    "import warnings\n",
    "\n",
    "warnings.filterwarnings('ignore')\n",
    "warnings.simplefilter(action='ignore', category=FutureWarning)\n",
    "pd.set_option('max_columns', None)\n",
    "pd.set_option('max_rows', None)"
   ]
  },
  {
   "cell_type": "code",
   "execution_count": 2,
   "metadata": {
    "ExecuteTime": {
     "end_time": "2020-08-24T14:01:54.533355Z",
     "start_time": "2020-08-24T14:01:52.176832Z"
    }
   },
   "outputs": [
    {
     "data": {
      "text/html": [
       "<div>\n",
       "<style scoped>\n",
       "    .dataframe tbody tr th:only-of-type {\n",
       "        vertical-align: middle;\n",
       "    }\n",
       "\n",
       "    .dataframe tbody tr th {\n",
       "        vertical-align: top;\n",
       "    }\n",
       "\n",
       "    .dataframe thead th {\n",
       "        text-align: right;\n",
       "    }\n",
       "</style>\n",
       "<table border=\"1\" class=\"dataframe\">\n",
       "  <thead>\n",
       "    <tr style=\"text-align: right;\">\n",
       "      <th></th>\n",
       "      <th>item_id</th>\n",
       "      <th>course_id</th>\n",
       "      <th>video_id</th>\n",
       "      <th>watching_count</th>\n",
       "      <th>video_duration</th>\n",
       "      <th>local_watching_time</th>\n",
       "      <th>video_progress_time</th>\n",
       "      <th>video_start_time</th>\n",
       "      <th>video_end_time</th>\n",
       "      <th>local_start_time</th>\n",
       "      <th>local_end_time</th>\n",
       "    </tr>\n",
       "  </thead>\n",
       "  <tbody>\n",
       "    <tr>\n",
       "      <th>0</th>\n",
       "      <td>U_0</td>\n",
       "      <td>C_course-v1:TsinghuaX+20430064X+sp</td>\n",
       "      <td>V_05f095f52ac6446ba05b883171c66713</td>\n",
       "      <td>1</td>\n",
       "      <td>563.0</td>\n",
       "      <td>563</td>\n",
       "      <td>563.000000</td>\n",
       "      <td>0.000000</td>\n",
       "      <td>563.000000</td>\n",
       "      <td>2017-07-24 13:26:56</td>\n",
       "      <td>2017-07-24 13:36:19</td>\n",
       "    </tr>\n",
       "    <tr>\n",
       "      <th>1</th>\n",
       "      <td>U_0</td>\n",
       "      <td>C_course-v1:TsinghuaX+34000888X+sp</td>\n",
       "      <td>V_0d166f12024942fca500891c0346b86a</td>\n",
       "      <td>1</td>\n",
       "      <td>166.0</td>\n",
       "      <td>166</td>\n",
       "      <td>166.000000</td>\n",
       "      <td>0.000000</td>\n",
       "      <td>166.000000</td>\n",
       "      <td>2017-07-06 14:47:00</td>\n",
       "      <td>2017-07-06 14:49:46</td>\n",
       "    </tr>\n",
       "    <tr>\n",
       "      <th>2</th>\n",
       "      <td>U_0</td>\n",
       "      <td>C_course-v1:TsinghuaX+00691153X+sp</td>\n",
       "      <td>V_0d2ed7b0f77647388d3ad5420d1d6549</td>\n",
       "      <td>2</td>\n",
       "      <td>415.0</td>\n",
       "      <td>415</td>\n",
       "      <td>414.809998</td>\n",
       "      <td>0.000000</td>\n",
       "      <td>415.000000</td>\n",
       "      <td>2017-07-13 09:01:58</td>\n",
       "      <td>2017-07-13 13:18:15</td>\n",
       "    </tr>\n",
       "    <tr>\n",
       "      <th>3</th>\n",
       "      <td>U_0</td>\n",
       "      <td>C_course-v1:TsinghuaX+20430064X+sp</td>\n",
       "      <td>V_10355a6a239c4a1dbc28e99bfb7633c1</td>\n",
       "      <td>1</td>\n",
       "      <td>173.0</td>\n",
       "      <td>174</td>\n",
       "      <td>173.000000</td>\n",
       "      <td>0.000000</td>\n",
       "      <td>173.000000</td>\n",
       "      <td>2017-07-24 13:11:47</td>\n",
       "      <td>2017-07-24 13:14:41</td>\n",
       "    </tr>\n",
       "    <tr>\n",
       "      <th>4</th>\n",
       "      <td>U_0</td>\n",
       "      <td>C_course-v1:TsinghuaX+34000888X+sp</td>\n",
       "      <td>V_11f15f23fca948808b5f44e25b75f6a2</td>\n",
       "      <td>1</td>\n",
       "      <td>63.0</td>\n",
       "      <td>19</td>\n",
       "      <td>18.820000</td>\n",
       "      <td>0.000000</td>\n",
       "      <td>18.820000</td>\n",
       "      <td>2017-07-06 14:56:18</td>\n",
       "      <td>2017-07-06 14:56:37</td>\n",
       "    </tr>\n",
       "    <tr>\n",
       "      <th>101</th>\n",
       "      <td>U_7295</td>\n",
       "      <td>C_course-v1:XJTU+C00204+sp</td>\n",
       "      <td>V_xjtu-C00204-10-3-7</td>\n",
       "      <td>3</td>\n",
       "      <td>337.0</td>\n",
       "      <td>211</td>\n",
       "      <td>531.327024</td>\n",
       "      <td>1.263000</td>\n",
       "      <td>304.743011</td>\n",
       "      <td>2018-01-04 22:14:48</td>\n",
       "      <td>2018-01-04 22:18:22</td>\n",
       "    </tr>\n",
       "    <tr>\n",
       "      <th>102</th>\n",
       "      <td>U_7295</td>\n",
       "      <td>C_course-v1:XJTU+C00204+sp</td>\n",
       "      <td>V_xjtu-C00204-10-3-8</td>\n",
       "      <td>1</td>\n",
       "      <td>252.0</td>\n",
       "      <td>126</td>\n",
       "      <td>186.936996</td>\n",
       "      <td>65.063004</td>\n",
       "      <td>252.000000</td>\n",
       "      <td>2018-01-04 22:20:41</td>\n",
       "      <td>2018-01-04 22:22:47</td>\n",
       "    </tr>\n",
       "    <tr>\n",
       "      <th>103</th>\n",
       "      <td>U_7295</td>\n",
       "      <td>C_course-v1:XJTU+C00204+sp</td>\n",
       "      <td>V_xjtu-C00204-10-3-9</td>\n",
       "      <td>2</td>\n",
       "      <td>543.0</td>\n",
       "      <td>368</td>\n",
       "      <td>288.401993</td>\n",
       "      <td>253.100998</td>\n",
       "      <td>541.502991</td>\n",
       "      <td>2018-01-04 22:22:47</td>\n",
       "      <td>2018-01-04 22:28:55</td>\n",
       "    </tr>\n",
       "    <tr>\n",
       "      <th>104</th>\n",
       "      <td>U_7295</td>\n",
       "      <td>C_course-v1:XJTU+C00204+sp</td>\n",
       "      <td>V_xjtu-C00204-10-4-10</td>\n",
       "      <td>1</td>\n",
       "      <td>565.0</td>\n",
       "      <td>269</td>\n",
       "      <td>400.863007</td>\n",
       "      <td>0.000000</td>\n",
       "      <td>400.863007</td>\n",
       "      <td>2018-01-04 22:29:00</td>\n",
       "      <td>2018-01-04 22:33:29</td>\n",
       "    </tr>\n",
       "    <tr>\n",
       "      <th>105</th>\n",
       "      <td>U_7295</td>\n",
       "      <td>C_course-v1:XJTU+C00204+sp</td>\n",
       "      <td>V_xjtu-C00204-2-1-1</td>\n",
       "      <td>1</td>\n",
       "      <td>420.0</td>\n",
       "      <td>41</td>\n",
       "      <td>50.983002</td>\n",
       "      <td>0.000000</td>\n",
       "      <td>50.983002</td>\n",
       "      <td>2017-11-07 19:03:57</td>\n",
       "      <td>2017-11-07 19:04:38</td>\n",
       "    </tr>\n",
       "  </tbody>\n",
       "</table>\n",
       "</div>"
      ],
      "text/plain": [
       "    item_id                           course_id  \\\n",
       "0       U_0  C_course-v1:TsinghuaX+20430064X+sp   \n",
       "1       U_0  C_course-v1:TsinghuaX+34000888X+sp   \n",
       "2       U_0  C_course-v1:TsinghuaX+00691153X+sp   \n",
       "3       U_0  C_course-v1:TsinghuaX+20430064X+sp   \n",
       "4       U_0  C_course-v1:TsinghuaX+34000888X+sp   \n",
       "101  U_7295          C_course-v1:XJTU+C00204+sp   \n",
       "102  U_7295          C_course-v1:XJTU+C00204+sp   \n",
       "103  U_7295          C_course-v1:XJTU+C00204+sp   \n",
       "104  U_7295          C_course-v1:XJTU+C00204+sp   \n",
       "105  U_7295          C_course-v1:XJTU+C00204+sp   \n",
       "\n",
       "                               video_id  watching_count  video_duration  \\\n",
       "0    V_05f095f52ac6446ba05b883171c66713               1           563.0   \n",
       "1    V_0d166f12024942fca500891c0346b86a               1           166.0   \n",
       "2    V_0d2ed7b0f77647388d3ad5420d1d6549               2           415.0   \n",
       "3    V_10355a6a239c4a1dbc28e99bfb7633c1               1           173.0   \n",
       "4    V_11f15f23fca948808b5f44e25b75f6a2               1            63.0   \n",
       "101                V_xjtu-C00204-10-3-7               3           337.0   \n",
       "102                V_xjtu-C00204-10-3-8               1           252.0   \n",
       "103                V_xjtu-C00204-10-3-9               2           543.0   \n",
       "104               V_xjtu-C00204-10-4-10               1           565.0   \n",
       "105                 V_xjtu-C00204-2-1-1               1           420.0   \n",
       "\n",
       "     local_watching_time  video_progress_time  video_start_time  \\\n",
       "0                    563           563.000000          0.000000   \n",
       "1                    166           166.000000          0.000000   \n",
       "2                    415           414.809998          0.000000   \n",
       "3                    174           173.000000          0.000000   \n",
       "4                     19            18.820000          0.000000   \n",
       "101                  211           531.327024          1.263000   \n",
       "102                  126           186.936996         65.063004   \n",
       "103                  368           288.401993        253.100998   \n",
       "104                  269           400.863007          0.000000   \n",
       "105                   41            50.983002          0.000000   \n",
       "\n",
       "     video_end_time     local_start_time       local_end_time  \n",
       "0        563.000000  2017-07-24 13:26:56  2017-07-24 13:36:19  \n",
       "1        166.000000  2017-07-06 14:47:00  2017-07-06 14:49:46  \n",
       "2        415.000000  2017-07-13 09:01:58  2017-07-13 13:18:15  \n",
       "3        173.000000  2017-07-24 13:11:47  2017-07-24 13:14:41  \n",
       "4         18.820000  2017-07-06 14:56:18  2017-07-06 14:56:37  \n",
       "101      304.743011  2018-01-04 22:14:48  2018-01-04 22:18:22  \n",
       "102      252.000000  2018-01-04 22:20:41  2018-01-04 22:22:47  \n",
       "103      541.502991  2018-01-04 22:22:47  2018-01-04 22:28:55  \n",
       "104      400.863007  2018-01-04 22:29:00  2018-01-04 22:33:29  \n",
       "105       50.983002  2017-11-07 19:03:57  2017-11-07 19:04:38  "
      ]
     },
     "execution_count": 2,
     "metadata": {},
     "output_type": "execute_result"
    }
   ],
   "source": [
    "df = pd.read_hdf('../act_2_activity.h5')\n",
    "df.head().append(df.tail())"
   ]
  },
  {
   "cell_type": "code",
   "execution_count": 3,
   "metadata": {
    "ExecuteTime": {
     "end_time": "2020-08-24T14:01:54.544348Z",
     "start_time": "2020-08-24T14:01:54.537351Z"
    }
   },
   "outputs": [
    {
     "data": {
      "text/plain": [
       "(581676, 11)"
      ]
     },
     "execution_count": 3,
     "metadata": {},
     "output_type": "execute_result"
    }
   ],
   "source": [
    "df.shape"
   ]
  },
  {
   "cell_type": "code",
   "execution_count": 4,
   "metadata": {
    "ExecuteTime": {
     "end_time": "2020-08-24T14:01:54.999360Z",
     "start_time": "2020-08-24T14:01:54.548345Z"
    }
   },
   "outputs": [
    {
     "data": {
      "text/plain": [
       "(579277, 11)"
      ]
     },
     "execution_count": 4,
     "metadata": {},
     "output_type": "execute_result"
    }
   ],
   "source": [
    "df.drop_duplicates(['item_id', 'course_id', 'video_id']).shape"
   ]
  },
  {
   "cell_type": "code",
   "execution_count": 5,
   "metadata": {
    "ExecuteTime": {
     "end_time": "2020-08-24T14:01:55.180257Z",
     "start_time": "2020-08-24T14:01:55.001359Z"
    }
   },
   "outputs": [
    {
     "name": "stdout",
     "output_type": "stream",
     "text": [
      "<class 'pandas.core.frame.DataFrame'>\n",
      "Int64Index: 581676 entries, 0 to 105\n",
      "Data columns (total 11 columns):\n",
      " #   Column               Non-Null Count   Dtype  \n",
      "---  ------               --------------   -----  \n",
      " 0   item_id              581676 non-null  object \n",
      " 1   course_id            581676 non-null  object \n",
      " 2   video_id             581676 non-null  object \n",
      " 3   watching_count       581676 non-null  int64  \n",
      " 4   video_duration       581676 non-null  float64\n",
      " 5   local_watching_time  581676 non-null  int64  \n",
      " 6   video_progress_time  581676 non-null  float64\n",
      " 7   video_start_time     581676 non-null  float64\n",
      " 8   video_end_time       581676 non-null  float64\n",
      " 9   local_start_time     581676 non-null  object \n",
      " 10  local_end_time       581676 non-null  object \n",
      "dtypes: float64(4), int64(2), object(5)\n",
      "memory usage: 53.3+ MB\n"
     ]
    }
   ],
   "source": [
    "df.info()"
   ]
  },
  {
   "cell_type": "code",
   "execution_count": 6,
   "metadata": {
    "ExecuteTime": {
     "end_time": "2020-08-24T14:01:56.290007Z",
     "start_time": "2020-08-24T14:01:55.182256Z"
    }
   },
   "outputs": [
    {
     "data": {
      "text/plain": [
       "18"
      ]
     },
     "execution_count": 6,
     "metadata": {},
     "output_type": "execute_result"
    }
   ],
   "source": [
    "df['local_start_time'] = pd.to_datetime(df['local_start_time'])\n",
    "df['local_end_time'] = pd.to_datetime(df['local_end_time'])\n",
    "gc.collect()"
   ]
  },
  {
   "cell_type": "code",
   "execution_count": null,
   "metadata": {},
   "outputs": [],
   "source": [
    "uid1 = ['item_id', 'course_id', 'video_id']\n",
    "uid2 = ['item_id', 'course_id']"
   ]
  },
  {
   "cell_type": "markdown",
   "metadata": {},
   "source": [
    "# video维度"
   ]
  },
  {
   "cell_type": "code",
   "execution_count": null,
   "metadata": {},
   "outputs": [],
   "source": [
    "# video_start_time, video_end_time, local_start_time, local_end_time\n",
    "df_video = df.groupby(uid1, as_index=False).agg({\n",
    "    'watching_count': np.sum,\n",
    "    'video_duration': np.max,\n",
    "    'local_watching_time': np.sum,\n",
    "    'video_progress_time': np.sum,\n",
    "    'video_start_time': np.min,\n",
    "    'video_end_time': np.max,\n",
    "    'local_start_time': np.min,\n",
    "    'local_end_time': np.max\n",
    "})\n",
    "\n",
    "gc.collect()"
   ]
  },
  {
   "cell_type": "code",
   "execution_count": null,
   "metadata": {},
   "outputs": [],
   "source": [
    "# 每个video观看次数\n",
    "df_video['video_cnt'] = df.groupby(uid1, as_index=False)['watching_count'].count()"
   ]
  },
  {
   "cell_type": "code",
   "execution_count": null,
   "metadata": {},
   "outputs": [],
   "source": [
    "# 最晚的进度条时间点-最早的进度条时间点\n",
    "df_video['video_watching_duration'] = df_video['video_end_time'] - df_video['video_start_time']\n",
    "\n",
    "# 观看结束时间-观看开始时间\n",
    "df_video['local_watching_duration'] = df_video.apply(lambda x: (x['local_end_time'] - x['local_start_time']).seconds, axis=1)"
   ]
  },
  {
   "cell_type": "code",
   "execution_count": null,
   "metadata": {},
   "outputs": [],
   "source": [
    "# 进度条是否读到最后，小于0\n",
    "df_video['video_is_end'] = df_video['video_end_time'] - df_video['video_duration']\n",
    "\n",
    "# 一开始是否拖到进度条\n",
    "df_video['video_is_start'] = df_video['video_start_time'].map(lambda x: 1 if x > 0 else 0)\n",
    "\n",
    "# 进度条是否从开始读到最后，小于0\n",
    "df_video['video_is_start_end'] = df_video['video_watching_duration'] - df_video['video_duration']\n",
    "\n",
    "# 进度条拖动的秒速 - 暂停时长\n",
    "df_video['forward_seconds'] = df_video['video_watching_duration'] - df_video['video_progress_time']\n",
    "\n",
    "# 暂停时长，\n",
    "# df[''] = df[''] - df['']\n",
    "\n",
    "# 实际观看时长是否有差误\n",
    "df_video['local_watching_diff'] = df_video['local_watching_duration'] - df_video['local_watching_time']\n",
    "\n",
    "# 倍速\n",
    "df_video['speed'] = df_video['local_watching_time'] / (df_video['video_progress_time'] + 0.001)"
   ]
  },
  {
   "cell_type": "code",
   "execution_count": null,
   "metadata": {},
   "outputs": [],
   "source": [
    "df_video.columns"
   ]
  },
  {
   "cell_type": "markdown",
   "metadata": {},
   "source": [
    "# course维度"
   ]
  },
  {
   "cell_type": "code",
   "execution_count": 8,
   "metadata": {
    "ExecuteTime": {
     "end_time": "2020-08-24T14:01:57.229866Z",
     "start_time": "2020-08-24T14:01:56.305998Z"
    }
   },
   "outputs": [
    {
     "data": {
      "text/plain": [
       "(579277, 11)"
      ]
     },
     "execution_count": 8,
     "metadata": {},
     "output_type": "execute_result"
    }
   ],
   "source": [
    "# video_start_time, video_end_time, local_start_time, local_end_time\n",
    "df_course = df_video.groupby(uid1, as_index=False).agg({\n",
    "    # 'watching_count': np.sum,\n",
    "    # 'video_duration': np.max,\n",
    "    # 'local_watching_time': np.sum,\n",
    "    # 'video_progress_time': np.sum,\n",
    "    'video_start_time': np.min,\n",
    "    'video_end_time': np.max,\n",
    "    # 'local_start_time': np.min,\n",
    "    # 'local_end_time': np.max\n",
    "})\n",
    "\n",
    "df_course.shape"
   ]
  },
  {
   "cell_type": "code",
   "execution_count": null,
   "metadata": {},
   "outputs": [],
   "source": [
    "# 课程：观看结束时间-观看开始时间\n",
    "df_course['local_watching_duration'] = df_course.apply(lambda x: (x['local_end_time'] - x['local_start_time']).seconds, axis=1)"
   ]
  },
  {
   "cell_type": "code",
   "execution_count": null,
   "metadata": {},
   "outputs": [],
   "source": [
    "# 进度条是否读到最后，小于0\n",
    "data['video_is_end'] = data['video_end_time'] - data['video_duration']\n",
    "\n",
    "# 一开始是否拖到进度条\n",
    "data['video_is_start'] = data['video_start_time'].map(lambda x: 1 if x > 0 else 0)\n",
    "\n",
    "# 进度条是否从开始读到最后，小于0\n",
    "data['video_is_start_end'] = data['video_watching_duration'] - data['video_duration']\n",
    "\n",
    "# 进度条拖动的秒速 - 暂停时长\n",
    "data['forward_seconds'] = data['video_watching_duration'] - data['video_progress_time']\n",
    "\n",
    "# 暂停时长，\n",
    "# df[''] = df[''] - df['']\n",
    "\n",
    "# 实际观看时长是否有差误\n",
    "data['local_watching_diff'] = data['local_watching_duration'] - data['local_watching_time']\n",
    "\n",
    "# 倍速\n",
    "data['speed'] = data['local_watching_time'] / (data['video_progress_time'] + 0.001)"
   ]
  },
  {
   "cell_type": "code",
   "execution_count": null,
   "metadata": {},
   "outputs": [],
   "source": [
    "data.columns"
   ]
  },
  {
   "cell_type": "code",
   "execution_count": null,
   "metadata": {},
   "outputs": [],
   "source": [
    "data.drop(['video_start_time', 'video_end_time', 'video_id'], axis=1, inplace=True)\n",
    "gc.collect()"
   ]
  },
  {
   "cell_type": "code",
   "execution_count": null,
   "metadata": {},
   "outputs": [],
   "source": [
    "# video_start_time, video_end_time, local_start_time, local_end_time\n",
    "tmp = data.groupby(uid, as_index=False).agg({\n",
    "    # 'watching_count': np.sum,\n",
    "    # 'video_duration': np.sum,\n",
    "    # 'local_watching_time': np.sum,\n",
    "    # 'video_progress_time': np.sum,\n",
    "    # 'video_start_time': np.min,\n",
    "    # 'video_end_time': np.max,\n",
    "    'local_start_time': np.min,\n",
    "    'local_end_time': np.max,\n",
    "    'video_is_end': np.sum,\n",
    "    'video_is_start': np.mean,\n",
    "    'video_is_start_end': np.sum,\n",
    "    'forward_seconds': np.sum,\n",
    "    'local_watching_diff': np.mean,\n",
    "    'speed': np.mean\n",
    "})\n",
    "data = data.merge(tmp, on=uid, how='left')\n",
    "del tmp\n",
    "gc.collect()"
   ]
  },
  {
   "cell_type": "code",
   "execution_count": null,
   "metadata": {},
   "outputs": [],
   "source": [
    "# watching_count\n",
    "tmp = data.groupby(uid, as_index=False)['watching_count'].agg({\n",
    "    'watching_count_sum': 'sum',\n",
    "    'watching_count_count': 'count',\n",
    "    'watching_count_mean': 'mean',\n",
    "    'watching_count_max': 'max',\n",
    "    'watching_count_min': 'min',\n",
    "    'watching_count_std': 'std',\n",
    "    'watching_count_skew': 'skew',\n",
    "    # 'watching_count_mad': 'mad'\n",
    "})\n",
    "data = data.merge(tmp, on=uid, how='left')\n",
    "del tmp\n",
    "gc.collect()"
   ]
  },
  {
   "cell_type": "code",
   "execution_count": null,
   "metadata": {},
   "outputs": [],
   "source": [
    "# video_duration\n",
    "tmp = data.groupby(uid, as_index=False)['video_duration'].agg({\n",
    "    'video_duration_sum': 'sum',\n",
    "    'video_duration_count': 'count',\n",
    "    'video_duration_mean': 'mean',\n",
    "    'video_duration_max': 'max',\n",
    "    'video_duration_min': 'min',\n",
    "    'video_duration_std': 'std',\n",
    "    'video_duration_skew': 'skew',\n",
    "    # 'video_duration_mad': 'mad'\n",
    "})\n",
    "data2 = data2.merge(tmp, on=uid, how='left')\n",
    "del tmp\n",
    "gc.collect()"
   ]
  },
  {
   "cell_type": "code",
   "execution_count": null,
   "metadata": {},
   "outputs": [],
   "source": [
    "# local_watching_time\n",
    "tmp = data.groupby(uid, as_index=False)['local_watching_time'].agg({\n",
    "    'local_watching_time_sum': 'sum',\n",
    "    'local_watching_time_count': 'count',\n",
    "    'local_watching_time_mean': 'mean',\n",
    "    'local_watching_time_max': 'max',\n",
    "    'local_watching_time_min': 'min',\n",
    "    'local_watching_time_std': 'std',\n",
    "    'local_watching_time_skew': 'skew',\n",
    "    # 'local_watching_time_mad': 'mad'\n",
    "})\n",
    "data2 = data2.merge(tmp, on=uid, how='left')\n",
    "del tmp\n",
    "gc.collect()"
   ]
  },
  {
   "cell_type": "code",
   "execution_count": null,
   "metadata": {},
   "outputs": [],
   "source": [
    "# video_progress_time\n",
    "tmp = data.groupby(uid, as_index=False)['video_progress_time'].agg({\n",
    "    'video_progress_time_sum': 'sum',\n",
    "    'video_progress_time_count': 'count',\n",
    "    'video_progress_time_mean': 'mean',\n",
    "    'video_progress_time_max': 'max',\n",
    "    'video_progress_time_min': 'min',\n",
    "    'video_progress_time_std': 'std',\n",
    "    'video_progress_time_skew': 'skew',\n",
    "    # 'video_progress_time_mad': 'mad'\n",
    "})\n",
    "data2 = data2.merge(tmp, on=uid, how='left')\n",
    "del tmp\n",
    "gc.collect()"
   ]
  },
  {
   "cell_type": "code",
   "execution_count": null,
   "metadata": {},
   "outputs": [],
   "source": [
    "# 课程：观看结束时间-观看开始时间\n",
    "data2['local_watching_duration'] = data2.apply(lambda x: (x['local_end_time'] - x['local_start_time']).seconds, axis=1)\n",
    "\n",
    "data2['local_watching_diff'] = data2['local_watching_duration'] - data2['local_watching_time_sum']"
   ]
  },
  {
   "cell_type": "code",
   "execution_count": null,
   "metadata": {},
   "outputs": [],
   "source": [
    "data2.drop(['local_start_time', 'local_end_time'], axis=1, inplace=True)\n",
    "del data\n",
    "gc.collect()"
   ]
  }
 ],
 "metadata": {
  "kernelspec": {
   "display_name": "Python 3",
   "language": "python",
   "name": "python3"
  },
  "language_info": {
   "codemirror_mode": {
    "name": "ipython",
    "version": 3
   },
   "file_extension": ".py",
   "mimetype": "text/x-python",
   "name": "python",
   "nbconvert_exporter": "python",
   "pygments_lexer": "ipython3",
   "version": "3.7.3"
  },
  "toc": {
   "base_numbering": 1,
   "nav_menu": {},
   "number_sections": true,
   "sideBar": true,
   "skip_h1_title": false,
   "title_cell": "Table of Contents",
   "title_sidebar": "Contents",
   "toc_cell": false,
   "toc_position": {},
   "toc_section_display": true,
   "toc_window_display": false
  },
  "varInspector": {
   "cols": {
    "lenName": 16,
    "lenType": 16,
    "lenVar": 40
   },
   "kernels_config": {
    "python": {
     "delete_cmd_postfix": "",
     "delete_cmd_prefix": "del ",
     "library": "var_list.py",
     "varRefreshCmd": "print(var_dic_list())"
    },
    "r": {
     "delete_cmd_postfix": ") ",
     "delete_cmd_prefix": "rm(",
     "library": "var_list.r",
     "varRefreshCmd": "cat(var_dic_list()) "
    }
   },
   "types_to_exclude": [
    "module",
    "function",
    "builtin_function_or_method",
    "instance",
    "_Feature"
   ],
   "window_display": false
  }
 },
 "nbformat": 4,
 "nbformat_minor": 2
}
