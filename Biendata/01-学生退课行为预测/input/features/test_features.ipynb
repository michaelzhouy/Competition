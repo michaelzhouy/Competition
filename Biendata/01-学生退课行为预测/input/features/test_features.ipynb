{
 "cells": [
  {
   "cell_type": "code",
   "execution_count": 1,
   "metadata": {
    "ExecuteTime": {
     "end_time": "2020-08-25T06:17:41.950343Z",
     "start_time": "2020-08-25T06:17:40.518646Z"
    }
   },
   "outputs": [],
   "source": [
    "import numpy as np\n",
    "import pandas as pd\n",
    "import matplotlib.pyplot as plt\n",
    "import seaborn as sns\n",
    "import gc\n",
    "import warnings\n",
    "\n",
    "warnings.filterwarnings('ignore')\n",
    "warnings.simplefilter(action='ignore', category=FutureWarning)\n",
    "pd.set_option('max_columns', None)\n",
    "pd.set_option('max_rows', None)"
   ]
  },
  {
   "cell_type": "code",
   "execution_count": 2,
   "metadata": {
    "ExecuteTime": {
     "end_time": "2020-08-25T06:17:43.188039Z",
     "start_time": "2020-08-25T06:17:41.953336Z"
    }
   },
   "outputs": [
    {
     "data": {
      "text/html": [
       "<div>\n",
       "<style scoped>\n",
       "    .dataframe tbody tr th:only-of-type {\n",
       "        vertical-align: middle;\n",
       "    }\n",
       "\n",
       "    .dataframe tbody tr th {\n",
       "        vertical-align: top;\n",
       "    }\n",
       "\n",
       "    .dataframe thead th {\n",
       "        text-align: right;\n",
       "    }\n",
       "</style>\n",
       "<table border=\"1\" class=\"dataframe\">\n",
       "  <thead>\n",
       "    <tr style=\"text-align: right;\">\n",
       "      <th></th>\n",
       "      <th>item_id</th>\n",
       "      <th>course_id</th>\n",
       "      <th>video_id</th>\n",
       "      <th>watching_count</th>\n",
       "      <th>video_duration</th>\n",
       "      <th>local_watching_time</th>\n",
       "      <th>video_progress_time</th>\n",
       "      <th>video_start_time</th>\n",
       "      <th>video_end_time</th>\n",
       "      <th>local_start_time</th>\n",
       "      <th>local_end_time</th>\n",
       "    </tr>\n",
       "  </thead>\n",
       "  <tbody>\n",
       "    <tr>\n",
       "      <th>0</th>\n",
       "      <td>T_1</td>\n",
       "      <td>C_course-v1:TsinghuaX+00612642X+sp</td>\n",
       "      <td>V_01292610aa1748e79c8981de6f0464f8</td>\n",
       "      <td>2</td>\n",
       "      <td>1084.0</td>\n",
       "      <td>722</td>\n",
       "      <td>1080.659960</td>\n",
       "      <td>1.18</td>\n",
       "      <td>1081.959961</td>\n",
       "      <td>2018-05-12 17:49:32</td>\n",
       "      <td>2018-05-12 18:02:07</td>\n",
       "    </tr>\n",
       "    <tr>\n",
       "      <th>1</th>\n",
       "      <td>T_1</td>\n",
       "      <td>C_course-v1:TsinghuaX+80000271X+sp</td>\n",
       "      <td>V_01e873de29224ade99abd7f5a3018b3f</td>\n",
       "      <td>2</td>\n",
       "      <td>277.0</td>\n",
       "      <td>279</td>\n",
       "      <td>345.570003</td>\n",
       "      <td>0.00</td>\n",
       "      <td>276.850006</td>\n",
       "      <td>2018-10-19 20:46:03</td>\n",
       "      <td>2018-10-20 17:05:31</td>\n",
       "    </tr>\n",
       "    <tr>\n",
       "      <th>2</th>\n",
       "      <td>T_1</td>\n",
       "      <td>C_course-v1:TsinghuaX+00612642X+sp</td>\n",
       "      <td>V_0255c95155a9478291d4bb7818f22c07</td>\n",
       "      <td>1</td>\n",
       "      <td>85.0</td>\n",
       "      <td>69</td>\n",
       "      <td>84.980000</td>\n",
       "      <td>0.02</td>\n",
       "      <td>85.000000</td>\n",
       "      <td>2018-05-04 16:58:41</td>\n",
       "      <td>2018-05-04 16:59:50</td>\n",
       "    </tr>\n",
       "    <tr>\n",
       "      <th>3</th>\n",
       "      <td>T_1</td>\n",
       "      <td>C_course-v1:TsinghuaX+00701032X+sp</td>\n",
       "      <td>V_03a50bdfedf54152ba7d1ee662563cfb</td>\n",
       "      <td>3</td>\n",
       "      <td>636.0</td>\n",
       "      <td>601</td>\n",
       "      <td>592.790015</td>\n",
       "      <td>0.00</td>\n",
       "      <td>636.000000</td>\n",
       "      <td>2018-09-08 03:50:39</td>\n",
       "      <td>2018-09-08 04:01:40</td>\n",
       "    </tr>\n",
       "    <tr>\n",
       "      <th>4</th>\n",
       "      <td>T_1</td>\n",
       "      <td>C_course-v1:TsinghuaX+00612642X+sp</td>\n",
       "      <td>V_03df78abe20a439699d16f7608ae9425</td>\n",
       "      <td>1</td>\n",
       "      <td>1165.0</td>\n",
       "      <td>778</td>\n",
       "      <td>1165.000000</td>\n",
       "      <td>0.00</td>\n",
       "      <td>1165.000000</td>\n",
       "      <td>2018-05-04 18:29:10</td>\n",
       "      <td>2018-05-04 18:42:08</td>\n",
       "    </tr>\n",
       "  </tbody>\n",
       "</table>\n",
       "</div>"
      ],
      "text/plain": [
       "  item_id                           course_id  \\\n",
       "0     T_1  C_course-v1:TsinghuaX+00612642X+sp   \n",
       "1     T_1  C_course-v1:TsinghuaX+80000271X+sp   \n",
       "2     T_1  C_course-v1:TsinghuaX+00612642X+sp   \n",
       "3     T_1  C_course-v1:TsinghuaX+00701032X+sp   \n",
       "4     T_1  C_course-v1:TsinghuaX+00612642X+sp   \n",
       "\n",
       "                             video_id  watching_count  video_duration  \\\n",
       "0  V_01292610aa1748e79c8981de6f0464f8               2          1084.0   \n",
       "1  V_01e873de29224ade99abd7f5a3018b3f               2           277.0   \n",
       "2  V_0255c95155a9478291d4bb7818f22c07               1            85.0   \n",
       "3  V_03a50bdfedf54152ba7d1ee662563cfb               3           636.0   \n",
       "4  V_03df78abe20a439699d16f7608ae9425               1          1165.0   \n",
       "\n",
       "   local_watching_time  video_progress_time  video_start_time  video_end_time  \\\n",
       "0                  722          1080.659960              1.18     1081.959961   \n",
       "1                  279           345.570003              0.00      276.850006   \n",
       "2                   69            84.980000              0.02       85.000000   \n",
       "3                  601           592.790015              0.00      636.000000   \n",
       "4                  778          1165.000000              0.00     1165.000000   \n",
       "\n",
       "      local_start_time       local_end_time  \n",
       "0  2018-05-12 17:49:32  2018-05-12 18:02:07  \n",
       "1  2018-10-19 20:46:03  2018-10-20 17:05:31  \n",
       "2  2018-05-04 16:58:41  2018-05-04 16:59:50  \n",
       "3  2018-09-08 03:50:39  2018-09-08 04:01:40  \n",
       "4  2018-05-04 18:29:10  2018-05-04 18:42:08  "
      ]
     },
     "execution_count": 2,
     "metadata": {},
     "output_type": "execute_result"
    }
   ],
   "source": [
    "df = pd.read_hdf('../test_activity.h5')\n",
    "df.head()"
   ]
  },
  {
   "cell_type": "code",
   "execution_count": 3,
   "metadata": {
    "ExecuteTime": {
     "end_time": "2020-08-25T06:17:43.197016Z",
     "start_time": "2020-08-25T06:17:43.191033Z"
    }
   },
   "outputs": [
    {
     "data": {
      "text/plain": [
       "(258771, 11)"
      ]
     },
     "execution_count": 3,
     "metadata": {},
     "output_type": "execute_result"
    }
   ],
   "source": [
    "df.shape"
   ]
  },
  {
   "cell_type": "code",
   "execution_count": 4,
   "metadata": {
    "ExecuteTime": {
     "end_time": "2020-08-25T06:17:43.430403Z",
     "start_time": "2020-08-25T06:17:43.199011Z"
    }
   },
   "outputs": [
    {
     "data": {
      "text/plain": [
       "(257570, 11)"
      ]
     },
     "execution_count": 4,
     "metadata": {},
     "output_type": "execute_result"
    }
   ],
   "source": [
    "df.drop_duplicates(['item_id', 'course_id', 'video_id']).shape"
   ]
  },
  {
   "cell_type": "code",
   "execution_count": 5,
   "metadata": {
    "ExecuteTime": {
     "end_time": "2020-08-25T06:17:43.557062Z",
     "start_time": "2020-08-25T06:17:43.432397Z"
    }
   },
   "outputs": [
    {
     "name": "stdout",
     "output_type": "stream",
     "text": [
      "<class 'pandas.core.frame.DataFrame'>\n",
      "Int64Index: 258771 entries, 0 to 15\n",
      "Data columns (total 11 columns):\n",
      " #   Column               Non-Null Count   Dtype  \n",
      "---  ------               --------------   -----  \n",
      " 0   item_id              258771 non-null  object \n",
      " 1   course_id            258771 non-null  object \n",
      " 2   video_id             258771 non-null  object \n",
      " 3   watching_count       258771 non-null  int64  \n",
      " 4   video_duration       258771 non-null  float64\n",
      " 5   local_watching_time  258771 non-null  int64  \n",
      " 6   video_progress_time  258771 non-null  float64\n",
      " 7   video_start_time     258771 non-null  float64\n",
      " 8   video_end_time       258771 non-null  float64\n",
      " 9   local_start_time     258771 non-null  object \n",
      " 10  local_end_time       258771 non-null  object \n",
      "dtypes: float64(4), int64(2), object(5)\n",
      "memory usage: 23.7+ MB\n"
     ]
    }
   ],
   "source": [
    "df.info()"
   ]
  },
  {
   "cell_type": "code",
   "execution_count": 6,
   "metadata": {
    "ExecuteTime": {
     "end_time": "2020-08-25T06:17:44.119557Z",
     "start_time": "2020-08-25T06:17:43.559056Z"
    }
   },
   "outputs": [
    {
     "data": {
      "text/plain": [
       "0"
      ]
     },
     "execution_count": 6,
     "metadata": {},
     "output_type": "execute_result"
    }
   ],
   "source": [
    "df['local_start_time'] = pd.to_datetime(df['local_start_time'])\n",
    "df['local_end_time'] = pd.to_datetime(df['local_end_time'])\n",
    "gc.collect()"
   ]
  },
  {
   "cell_type": "code",
   "execution_count": 7,
   "metadata": {
    "ExecuteTime": {
     "end_time": "2020-08-25T06:17:44.127536Z",
     "start_time": "2020-08-25T06:17:44.122549Z"
    }
   },
   "outputs": [],
   "source": [
    "uid1 = ['item_id', 'course_id', 'video_id']\n",
    "uid2 = ['item_id', 'course_id']"
   ]
  },
  {
   "cell_type": "markdown",
   "metadata": {},
   "source": [
    "# video维度"
   ]
  },
  {
   "cell_type": "code",
   "execution_count": 8,
   "metadata": {
    "ExecuteTime": {
     "end_time": "2020-08-25T06:17:44.605265Z",
     "start_time": "2020-08-25T06:17:44.130528Z"
    }
   },
   "outputs": [
    {
     "data": {
      "text/plain": [
       "0"
      ]
     },
     "execution_count": 8,
     "metadata": {},
     "output_type": "execute_result"
    }
   ],
   "source": [
    "# video_start_time, video_end_time, local_start_time, local_end_time\n",
    "df_video = df.groupby(uid1, as_index=False).agg({\n",
    "    'watching_count': np.sum,\n",
    "    'video_duration': np.max,\n",
    "    'local_watching_time': np.sum,\n",
    "    'video_progress_time': np.sum,\n",
    "    'video_start_time': np.min,\n",
    "    'video_end_time': np.max,\n",
    "    'local_start_time': np.min,\n",
    "    'local_end_time': np.max\n",
    "})\n",
    "\n",
    "gc.collect()"
   ]
  },
  {
   "cell_type": "code",
   "execution_count": 9,
   "metadata": {
    "ExecuteTime": {
     "end_time": "2020-08-25T06:17:45.214636Z",
     "start_time": "2020-08-25T06:17:44.607260Z"
    }
   },
   "outputs": [
    {
     "data": {
      "text/plain": [
       "20"
      ]
     },
     "execution_count": 9,
     "metadata": {},
     "output_type": "execute_result"
    }
   ],
   "source": [
    "# 每个video观看次数\n",
    "tmp = df.groupby(uid1, as_index=False)['watching_count'].agg({\n",
    "    'video_cnt': 'count'\n",
    "})\n",
    "df_video = df_video.merge(tmp, on=uid1, how='left')\n",
    "\n",
    "del tmp\n",
    "gc.collect()"
   ]
  },
  {
   "cell_type": "code",
   "execution_count": 10,
   "metadata": {
    "ExecuteTime": {
     "end_time": "2020-08-25T06:18:01.071776Z",
     "start_time": "2020-08-25T06:17:45.216633Z"
    }
   },
   "outputs": [],
   "source": [
    "# 进度条最晚的时间点-进度条最早的时间点\n",
    "df_video['video_watching_duration'] = df_video['video_end_time'] - df_video['video_start_time']\n",
    "\n",
    "# 视频：观看结束时间-观看开始时间\n",
    "df_video['local_watching_duration'] = df_video.apply(lambda x: (x['local_end_time'] - x['local_start_time']).seconds, axis=1)"
   ]
  },
  {
   "cell_type": "code",
   "execution_count": 11,
   "metadata": {
    "ExecuteTime": {
     "end_time": "2020-08-25T06:18:01.259298Z",
     "start_time": "2020-08-25T06:18:01.072773Z"
    }
   },
   "outputs": [],
   "source": [
    "# 进度条是否读到最后，小于0\n",
    "df_video['video_is_end'] = df_video['video_end_time'] - df_video['video_duration']\n",
    "\n",
    "# 一开始是否拖到进度条\n",
    "df_video['video_is_start'] = df_video['video_start_time'].map(lambda x: 1 if x > 0 else 0)\n",
    "\n",
    "# 进度条是否从开始读到最后，小于0\n",
    "df_video['video_is_start_end'] = df_video['video_watching_duration'] - df_video['video_duration']\n",
    "\n",
    "# 进度条拖动的秒速 - 暂停时长\n",
    "df_video['forward_seconds'] = df_video['video_watching_duration'] - df_video['video_progress_time']\n",
    "\n",
    "# 暂停时长，\n",
    "# df[''] = df[''] - df['']\n",
    "\n",
    "# 实际观看时长是否有差误\n",
    "df_video['local_watching_diff'] = df_video['local_watching_duration'] - df_video['local_watching_time']\n",
    "\n",
    "# 倍速\n",
    "df_video['speed'] = df_video['local_watching_time'] / (df_video['video_progress_time'] + 0.001)"
   ]
  },
  {
   "cell_type": "code",
   "execution_count": 12,
   "metadata": {
    "ExecuteTime": {
     "end_time": "2020-08-25T06:18:01.268275Z",
     "start_time": "2020-08-25T06:18:01.261293Z"
    }
   },
   "outputs": [
    {
     "data": {
      "text/plain": [
       "Index(['item_id', 'course_id', 'video_id', 'watching_count', 'video_duration',\n",
       "       'local_watching_time', 'video_progress_time', 'video_start_time',\n",
       "       'video_end_time', 'local_start_time', 'local_end_time', 'video_cnt',\n",
       "       'video_watching_duration', 'local_watching_duration', 'video_is_end',\n",
       "       'video_is_start', 'video_is_start_end', 'forward_seconds',\n",
       "       'local_watching_diff', 'speed'],\n",
       "      dtype='object')"
      ]
     },
     "execution_count": 12,
     "metadata": {},
     "output_type": "execute_result"
    }
   ],
   "source": [
    "df_video.columns"
   ]
  },
  {
   "cell_type": "markdown",
   "metadata": {},
   "source": [
    "# course维度"
   ]
  },
  {
   "cell_type": "code",
   "execution_count": 13,
   "metadata": {
    "ExecuteTime": {
     "end_time": "2020-08-25T06:18:01.399922Z",
     "start_time": "2020-08-25T06:18:01.270269Z"
    }
   },
   "outputs": [
    {
     "data": {
      "text/plain": [
       "(20023, 4)"
      ]
     },
     "execution_count": 13,
     "metadata": {},
     "output_type": "execute_result"
    }
   ],
   "source": [
    "# video_start_time, video_end_time, local_start_time, local_end_time\n",
    "df_course = df_video.groupby(uid2, as_index=False).agg({\n",
    "    'local_start_time': np.min,\n",
    "    'local_end_time': np.max\n",
    "})\n",
    "\n",
    "df_course.shape"
   ]
  },
  {
   "cell_type": "code",
   "execution_count": 14,
   "metadata": {
    "ExecuteTime": {
     "end_time": "2020-08-25T06:18:01.405907Z",
     "start_time": "2020-08-25T06:18:01.401917Z"
    }
   },
   "outputs": [],
   "source": [
    "# ['item_id', 'course_id', 'video_id', 'watching_count', 'video_duration',\n",
    "#  'local_watching_time', 'video_progress_time', 'video_start_time',\n",
    "#  'video_end_time', 'local_start_time', 'local_end_time', 'video_cnt',\n",
    "#  'video_watching_duration', 'local_watching_duration', 'video_is_end',\n",
    "#  'video_is_start', 'video_is_start_end', 'forward_seconds',\n",
    "#  'local_watching_diff', 'speed']"
   ]
  },
  {
   "cell_type": "code",
   "execution_count": 15,
   "metadata": {
    "ExecuteTime": {
     "end_time": "2020-08-25T06:18:05.677154Z",
     "start_time": "2020-08-25T06:18:01.407901Z"
    }
   },
   "outputs": [
    {
     "data": {
      "text/plain": [
       "0"
      ]
     },
     "execution_count": 15,
     "metadata": {},
     "output_type": "execute_result"
    }
   ],
   "source": [
    "# watching_count\n",
    "tmp = df_video.groupby(uid2, as_index=False)['watching_count'].agg({\n",
    "    'watching_count_sum': 'sum',\n",
    "    'watching_count_count': 'count',\n",
    "    'watching_count_mean': 'mean',\n",
    "    'watching_count_max': 'max',\n",
    "    'watching_count_min': 'min',\n",
    "    'watching_count_std': 'std',\n",
    "    'watching_count_skew': 'skew'\n",
    "})\n",
    "df_course = df_course.merge(tmp, on=uid2, how='left')\n",
    "del tmp\n",
    "gc.collect()"
   ]
  },
  {
   "cell_type": "code",
   "execution_count": 16,
   "metadata": {
    "ExecuteTime": {
     "end_time": "2020-08-25T06:18:10.175140Z",
     "start_time": "2020-08-25T06:18:05.679150Z"
    }
   },
   "outputs": [
    {
     "data": {
      "text/plain": [
       "0"
      ]
     },
     "execution_count": 16,
     "metadata": {},
     "output_type": "execute_result"
    }
   ],
   "source": [
    "# video_duration\n",
    "tmp = df_video.groupby(uid2, as_index=False)['video_duration'].agg({\n",
    "    'video_duration_sum': 'sum',\n",
    "    'video_duration_count': 'count',\n",
    "    'video_duration_mean': 'mean',\n",
    "    'video_duration_max': 'max',\n",
    "    'video_duration_min': 'min',\n",
    "    'video_duration_std': 'std',\n",
    "    'video_duration_skew': 'skew'\n",
    "})\n",
    "df_course = df_course.merge(tmp, on=uid2, how='left')\n",
    "del tmp\n",
    "gc.collect()"
   ]
  },
  {
   "cell_type": "code",
   "execution_count": 17,
   "metadata": {
    "ExecuteTime": {
     "end_time": "2020-08-25T06:18:14.436914Z",
     "start_time": "2020-08-25T06:18:10.177136Z"
    }
   },
   "outputs": [
    {
     "data": {
      "text/plain": [
       "0"
      ]
     },
     "execution_count": 17,
     "metadata": {},
     "output_type": "execute_result"
    }
   ],
   "source": [
    "# local_watching_time\n",
    "tmp = df_video.groupby(uid2, as_index=False)['local_watching_time'].agg({\n",
    "    'local_watching_time_sum': 'sum',\n",
    "    'local_watching_time_count': 'count',\n",
    "    'local_watching_time_mean': 'mean',\n",
    "    'local_watching_time_max': 'max',\n",
    "    'local_watching_time_min': 'min',\n",
    "    'local_watching_time_std': 'std',\n",
    "    'local_watching_time_skew': 'skew'\n",
    "})\n",
    "df_course = df_course.merge(tmp, on=uid2, how='left')\n",
    "del tmp\n",
    "gc.collect()"
   ]
  },
  {
   "cell_type": "code",
   "execution_count": 18,
   "metadata": {
    "ExecuteTime": {
     "end_time": "2020-08-25T06:18:19.735226Z",
     "start_time": "2020-08-25T06:18:14.438909Z"
    }
   },
   "outputs": [
    {
     "data": {
      "text/plain": [
       "0"
      ]
     },
     "execution_count": 18,
     "metadata": {},
     "output_type": "execute_result"
    }
   ],
   "source": [
    "# video_progress_time\n",
    "tmp = df_video.groupby(uid2, as_index=False)['video_progress_time'].agg({\n",
    "    'video_progress_time_sum': 'sum',\n",
    "    'video_progress_time_count': 'count',\n",
    "    'video_progress_time_mean': 'mean',\n",
    "    'video_progress_time_max': 'max',\n",
    "    'video_progress_time_min': 'min',\n",
    "    'video_progress_time_std': 'std',\n",
    "    'video_progress_time_skew': 'skew'\n",
    "})\n",
    "df_course = df_course.merge(tmp, on=uid2, how='left')\n",
    "del tmp\n",
    "gc.collect()"
   ]
  },
  {
   "cell_type": "code",
   "execution_count": 19,
   "metadata": {
    "ExecuteTime": {
     "end_time": "2020-08-25T06:18:24.613366Z",
     "start_time": "2020-08-25T06:18:19.737222Z"
    }
   },
   "outputs": [
    {
     "data": {
      "text/plain": [
       "0"
      ]
     },
     "execution_count": 19,
     "metadata": {},
     "output_type": "execute_result"
    }
   ],
   "source": [
    "# video_watching_duration\n",
    "tmp = df_video.groupby(uid2, as_index=False)['video_watching_duration'].agg({\n",
    "    'video_watching_duration_sum': 'sum',\n",
    "    'video_watching_duration_count': 'count',\n",
    "    'video_watching_duration_mean': 'mean',\n",
    "    'video_watching_duration_max': 'max',\n",
    "    'video_watching_duration_min': 'min',\n",
    "    'video_watching_duration_std': 'std',\n",
    "    'video_watching_duration_skew': 'skew'\n",
    "})\n",
    "df_course = df_course.merge(tmp, on=uid2, how='left')\n",
    "del tmp\n",
    "gc.collect()"
   ]
  },
  {
   "cell_type": "code",
   "execution_count": 20,
   "metadata": {
    "ExecuteTime": {
     "end_time": "2020-08-25T06:18:30.020135Z",
     "start_time": "2020-08-25T06:18:24.616356Z"
    }
   },
   "outputs": [
    {
     "data": {
      "text/plain": [
       "0"
      ]
     },
     "execution_count": 20,
     "metadata": {},
     "output_type": "execute_result"
    }
   ],
   "source": [
    "# local_watching_duration\n",
    "tmp = df_video.groupby(uid2, as_index=False)['local_watching_duration'].agg({\n",
    "    'local_watching_duration_sum': 'sum',\n",
    "    'local_watching_duration_count': 'count',\n",
    "    'local_watching_duration_mean': 'mean',\n",
    "    'local_watching_duration_max': 'max',\n",
    "    'local_watching_duration_min': 'min',\n",
    "    'local_watching_duration_std': 'std',\n",
    "    'local_watching_duration_skew': 'skew'\n",
    "})\n",
    "df_course = df_course.merge(tmp, on=uid2, how='left')\n",
    "del tmp\n",
    "gc.collect()"
   ]
  },
  {
   "cell_type": "code",
   "execution_count": 21,
   "metadata": {
    "ExecuteTime": {
     "end_time": "2020-08-25T06:18:35.059670Z",
     "start_time": "2020-08-25T06:18:30.022131Z"
    }
   },
   "outputs": [
    {
     "data": {
      "text/plain": [
       "0"
      ]
     },
     "execution_count": 21,
     "metadata": {},
     "output_type": "execute_result"
    }
   ],
   "source": [
    "# video_is_end\n",
    "tmp = df_video.groupby(uid2, as_index=False)['video_is_end'].agg({\n",
    "    'video_is_end_sum': 'sum',\n",
    "    'video_is_end_count': 'count',\n",
    "    'video_is_end_mean': 'mean',\n",
    "    'video_is_end_max': 'max',\n",
    "    'video_is_end_min': 'min',\n",
    "    'video_is_end_std': 'std',\n",
    "    'video_is_end_skew': 'skew'\n",
    "})\n",
    "df_course = df_course.merge(tmp, on=uid2, how='left')\n",
    "del tmp\n",
    "gc.collect()"
   ]
  },
  {
   "cell_type": "code",
   "execution_count": 22,
   "metadata": {
    "ExecuteTime": {
     "end_time": "2020-08-25T06:18:39.803234Z",
     "start_time": "2020-08-25T06:18:35.065653Z"
    }
   },
   "outputs": [
    {
     "data": {
      "text/plain": [
       "0"
      ]
     },
     "execution_count": 22,
     "metadata": {},
     "output_type": "execute_result"
    }
   ],
   "source": [
    "# video_is_start\n",
    "tmp = df_video.groupby(uid2, as_index=False)['video_is_start'].agg({\n",
    "    'video_is_start_sum': 'sum',\n",
    "    'video_is_start_count': 'count',\n",
    "    'video_is_start_mean': 'mean',\n",
    "    'video_is_start_max': 'max',\n",
    "    'video_is_start_min': 'min',\n",
    "    'video_is_start_std': 'std',\n",
    "    'video_is_start_skew': 'skew'\n",
    "})\n",
    "df_course = df_course.merge(tmp, on=uid2, how='left')\n",
    "del tmp\n",
    "gc.collect()"
   ]
  },
  {
   "cell_type": "code",
   "execution_count": 23,
   "metadata": {
    "ExecuteTime": {
     "end_time": "2020-08-25T06:18:44.934339Z",
     "start_time": "2020-08-25T06:18:39.808221Z"
    }
   },
   "outputs": [
    {
     "data": {
      "text/plain": [
       "0"
      ]
     },
     "execution_count": 23,
     "metadata": {},
     "output_type": "execute_result"
    }
   ],
   "source": [
    "# video_is_start_end\n",
    "tmp = df_video.groupby(uid2, as_index=False)['video_is_start_end'].agg({\n",
    "    'video_is_start_end_sum': 'sum',\n",
    "    'video_is_start_end_count': 'count',\n",
    "    'video_is_start_end_mean': 'mean',\n",
    "    'video_is_start_end_max': 'max',\n",
    "    'video_is_start_end_min': 'min',\n",
    "    'video_is_start_end_std': 'std',\n",
    "    'video_is_start_end_skew': 'skew'\n",
    "})\n",
    "df_course = df_course.merge(tmp, on=uid2, how='left')\n",
    "del tmp\n",
    "gc.collect()"
   ]
  },
  {
   "cell_type": "code",
   "execution_count": 24,
   "metadata": {
    "ExecuteTime": {
     "end_time": "2020-08-25T06:18:49.640029Z",
     "start_time": "2020-08-25T06:18:44.936301Z"
    }
   },
   "outputs": [
    {
     "data": {
      "text/plain": [
       "0"
      ]
     },
     "execution_count": 24,
     "metadata": {},
     "output_type": "execute_result"
    }
   ],
   "source": [
    "# forward_seconds\n",
    "tmp = df_video.groupby(uid2, as_index=False)['forward_seconds'].agg({\n",
    "    'forward_seconds_sum': 'sum',\n",
    "    'forward_seconds_count': 'count',\n",
    "    'forward_seconds_mean': 'mean',\n",
    "    'forward_seconds_max': 'max',\n",
    "    'forward_seconds_min': 'min',\n",
    "    'forward_seconds_std': 'std',\n",
    "    'forward_seconds_skew': 'skew'\n",
    "})\n",
    "df_course = df_course.merge(tmp, on=uid2, how='left')\n",
    "del tmp\n",
    "gc.collect()"
   ]
  },
  {
   "cell_type": "code",
   "execution_count": 25,
   "metadata": {
    "ExecuteTime": {
     "end_time": "2020-08-25T06:18:53.953371Z",
     "start_time": "2020-08-25T06:18:49.641990Z"
    }
   },
   "outputs": [
    {
     "data": {
      "text/plain": [
       "0"
      ]
     },
     "execution_count": 25,
     "metadata": {},
     "output_type": "execute_result"
    }
   ],
   "source": [
    "# local_watching_diff\n",
    "tmp = df_video.groupby(uid2, as_index=False)['local_watching_diff'].agg({\n",
    "    'local_watching_diff_sum': 'sum',\n",
    "    'local_watching_diff_count': 'count',\n",
    "    'local_watching_diff_mean': 'mean',\n",
    "    'local_watching_diff_max': 'max',\n",
    "    'local_watching_diff_min': 'min',\n",
    "    'local_watching_diff_std': 'std',\n",
    "    'local_watching_diff_skew': 'skew'\n",
    "})\n",
    "df_course = df_course.merge(tmp, on=uid2, how='left')\n",
    "del tmp\n",
    "gc.collect()"
   ]
  },
  {
   "cell_type": "code",
   "execution_count": 26,
   "metadata": {
    "ExecuteTime": {
     "end_time": "2020-08-25T06:18:58.738088Z",
     "start_time": "2020-08-25T06:18:53.955333Z"
    }
   },
   "outputs": [
    {
     "data": {
      "text/plain": [
       "0"
      ]
     },
     "execution_count": 26,
     "metadata": {},
     "output_type": "execute_result"
    }
   ],
   "source": [
    "# speed\n",
    "tmp = df_video.groupby(uid2, as_index=False)['speed'].agg({\n",
    "    'speed_sum': 'sum',\n",
    "    'speed_count': 'count',\n",
    "    'speed_mean': 'mean',\n",
    "    'speed_max': 'max',\n",
    "    'speed_min': 'min',\n",
    "    'speed_std': 'std',\n",
    "    'speed_skew': 'skew'\n",
    "})\n",
    "df_course = df_course.merge(tmp, on=uid2, how='left')\n",
    "del tmp\n",
    "gc.collect()"
   ]
  },
  {
   "cell_type": "code",
   "execution_count": 27,
   "metadata": {
    "ExecuteTime": {
     "end_time": "2020-08-25T06:18:58.843270Z",
     "start_time": "2020-08-25T06:18:58.739593Z"
    }
   },
   "outputs": [
    {
     "data": {
      "text/plain": [
       "0"
      ]
     },
     "execution_count": 27,
     "metadata": {},
     "output_type": "execute_result"
    }
   ],
   "source": [
    "# 用户观看了多少个视频\n",
    "tmp = df_video.groupby('item_id', as_index=False)['course_id'].agg({\n",
    "    'course_id_count': 'count'\n",
    "})\n",
    "df_course = df_course.merge(tmp, on='item_id', how='left')\n",
    "del tmp\n",
    "gc.collect()"
   ]
  },
  {
   "cell_type": "code",
   "execution_count": 28,
   "metadata": {
    "ExecuteTime": {
     "end_time": "2020-08-25T06:19:00.286010Z",
     "start_time": "2020-08-25T06:18:58.845264Z"
    }
   },
   "outputs": [],
   "source": [
    "# 课程：观看结束时间-观看开始时间\n",
    "df_course['local_watching_duration'] = df_course.apply(lambda x: (x['local_end_time'] - x['local_start_time']).seconds, axis=1)\n",
    "\n",
    "df_course['local_watching_diff'] = df_course['local_watching_duration'] - df_course['local_watching_time_sum']\n",
    "\n",
    "df_course['local_watching_video_duration'] = df_course['local_watching_duration'] - df_course['video_duration_sum']"
   ]
  },
  {
   "cell_type": "code",
   "execution_count": 29,
   "metadata": {
    "ExecuteTime": {
     "end_time": "2020-08-25T06:19:00.362843Z",
     "start_time": "2020-08-25T06:19:00.288005Z"
    }
   },
   "outputs": [
    {
     "data": {
      "text/plain": [
       "33"
      ]
     },
     "execution_count": 29,
     "metadata": {},
     "output_type": "execute_result"
    }
   ],
   "source": [
    "df_course.drop(['local_start_time', 'local_end_time'], axis=1, inplace=True)\n",
    "gc.collect()"
   ]
  },
  {
   "cell_type": "code",
   "execution_count": 30,
   "metadata": {
    "ExecuteTime": {
     "end_time": "2020-08-25T06:19:00.372851Z",
     "start_time": "2020-08-25T06:19:00.363842Z"
    }
   },
   "outputs": [
    {
     "data": {
      "text/plain": [
       "Index(['item_id', 'course_id', 'watching_count_sum', 'watching_count_count',\n",
       "       'watching_count_mean', 'watching_count_max', 'watching_count_min',\n",
       "       'watching_count_std', 'watching_count_skew', 'video_duration_sum',\n",
       "       'video_duration_count', 'video_duration_mean', 'video_duration_max',\n",
       "       'video_duration_min', 'video_duration_std', 'video_duration_skew',\n",
       "       'local_watching_time_sum', 'local_watching_time_count',\n",
       "       'local_watching_time_mean', 'local_watching_time_max',\n",
       "       'local_watching_time_min', 'local_watching_time_std',\n",
       "       'local_watching_time_skew', 'video_progress_time_sum',\n",
       "       'video_progress_time_count', 'video_progress_time_mean',\n",
       "       'video_progress_time_max', 'video_progress_time_min',\n",
       "       'video_progress_time_std', 'video_progress_time_skew',\n",
       "       'video_watching_duration_sum', 'video_watching_duration_count',\n",
       "       'video_watching_duration_mean', 'video_watching_duration_max',\n",
       "       'video_watching_duration_min', 'video_watching_duration_std',\n",
       "       'video_watching_duration_skew', 'local_watching_duration_sum',\n",
       "       'local_watching_duration_count', 'local_watching_duration_mean',\n",
       "       'local_watching_duration_max', 'local_watching_duration_min',\n",
       "       'local_watching_duration_std', 'local_watching_duration_skew',\n",
       "       'video_is_end_sum', 'video_is_end_count', 'video_is_end_mean',\n",
       "       'video_is_end_max', 'video_is_end_min', 'video_is_end_std',\n",
       "       'video_is_end_skew', 'video_is_start_sum', 'video_is_start_count',\n",
       "       'video_is_start_mean', 'video_is_start_max', 'video_is_start_min',\n",
       "       'video_is_start_std', 'video_is_start_skew', 'video_is_start_end_sum',\n",
       "       'video_is_start_end_count', 'video_is_start_end_mean',\n",
       "       'video_is_start_end_max', 'video_is_start_end_min',\n",
       "       'video_is_start_end_std', 'video_is_start_end_skew',\n",
       "       'forward_seconds_sum', 'forward_seconds_count', 'forward_seconds_mean',\n",
       "       'forward_seconds_max', 'forward_seconds_min', 'forward_seconds_std',\n",
       "       'forward_seconds_skew', 'local_watching_diff_sum',\n",
       "       'local_watching_diff_count', 'local_watching_diff_mean',\n",
       "       'local_watching_diff_max', 'local_watching_diff_min',\n",
       "       'local_watching_diff_std', 'local_watching_diff_skew', 'speed_sum',\n",
       "       'speed_count', 'speed_mean', 'speed_max', 'speed_min', 'speed_std',\n",
       "       'speed_skew', 'course_id_count', 'local_watching_duration',\n",
       "       'local_watching_diff', 'local_watching_video_duration'],\n",
       "      dtype='object')"
      ]
     },
     "execution_count": 30,
     "metadata": {},
     "output_type": "execute_result"
    }
   ],
   "source": [
    "df_course.columns"
   ]
  },
  {
   "cell_type": "code",
   "execution_count": 31,
   "metadata": {
    "ExecuteTime": {
     "end_time": "2020-08-25T06:19:00.429665Z",
     "start_time": "2020-08-25T06:19:00.374813Z"
    }
   },
   "outputs": [],
   "source": [
    "df_course.to_hdf('../test_features.h5', 'df', index=False)"
   ]
  }
 ],
 "metadata": {
  "kernelspec": {
   "display_name": "Python 3",
   "language": "python",
   "name": "python3"
  },
  "language_info": {
   "codemirror_mode": {
    "name": "ipython",
    "version": 3
   },
   "file_extension": ".py",
   "mimetype": "text/x-python",
   "name": "python",
   "nbconvert_exporter": "python",
   "pygments_lexer": "ipython3",
   "version": "3.7.3"
  },
  "toc": {
   "base_numbering": 1,
   "nav_menu": {},
   "number_sections": true,
   "sideBar": true,
   "skip_h1_title": false,
   "title_cell": "Table of Contents",
   "title_sidebar": "Contents",
   "toc_cell": false,
   "toc_position": {},
   "toc_section_display": true,
   "toc_window_display": false
  },
  "varInspector": {
   "cols": {
    "lenName": 16,
    "lenType": 16,
    "lenVar": 40
   },
   "kernels_config": {
    "python": {
     "delete_cmd_postfix": "",
     "delete_cmd_prefix": "del ",
     "library": "var_list.py",
     "varRefreshCmd": "print(var_dic_list())"
    },
    "r": {
     "delete_cmd_postfix": ") ",
     "delete_cmd_prefix": "rm(",
     "library": "var_list.r",
     "varRefreshCmd": "cat(var_dic_list()) "
    }
   },
   "types_to_exclude": [
    "module",
    "function",
    "builtin_function_or_method",
    "instance",
    "_Feature"
   ],
   "window_display": false
  }
 },
 "nbformat": 4,
 "nbformat_minor": 4
}
