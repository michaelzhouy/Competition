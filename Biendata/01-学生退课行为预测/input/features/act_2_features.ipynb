{
 "cells": [
  {
   "cell_type": "code",
   "execution_count": 1,
   "metadata": {
    "ExecuteTime": {
     "end_time": "2020-08-25T05:48:07.993916Z",
     "start_time": "2020-08-25T05:48:06.735468Z"
    }
   },
   "outputs": [],
   "source": [
    "import numpy as np\n",
    "import pandas as pd\n",
    "import matplotlib.pyplot as plt\n",
    "import seaborn as sns\n",
    "import gc\n",
    "import warnings\n",
    "\n",
    "warnings.filterwarnings('ignore')\n",
    "warnings.simplefilter(action='ignore', category=FutureWarning)\n",
    "pd.set_option('max_columns', None)\n",
    "pd.set_option('max_rows', None)"
   ]
  },
  {
   "cell_type": "code",
   "execution_count": 2,
   "metadata": {
    "ExecuteTime": {
     "end_time": "2020-08-25T05:48:09.540801Z",
     "start_time": "2020-08-25T05:48:07.994876Z"
    }
   },
   "outputs": [
    {
     "data": {
      "text/html": [
       "<div>\n",
       "<style scoped>\n",
       "    .dataframe tbody tr th:only-of-type {\n",
       "        vertical-align: middle;\n",
       "    }\n",
       "\n",
       "    .dataframe tbody tr th {\n",
       "        vertical-align: top;\n",
       "    }\n",
       "\n",
       "    .dataframe thead th {\n",
       "        text-align: right;\n",
       "    }\n",
       "</style>\n",
       "<table border=\"1\" class=\"dataframe\">\n",
       "  <thead>\n",
       "    <tr style=\"text-align: right;\">\n",
       "      <th></th>\n",
       "      <th>item_id</th>\n",
       "      <th>course_id</th>\n",
       "      <th>video_id</th>\n",
       "      <th>watching_count</th>\n",
       "      <th>video_duration</th>\n",
       "      <th>local_watching_time</th>\n",
       "      <th>video_progress_time</th>\n",
       "      <th>video_start_time</th>\n",
       "      <th>video_end_time</th>\n",
       "      <th>local_start_time</th>\n",
       "      <th>local_end_time</th>\n",
       "    </tr>\n",
       "  </thead>\n",
       "  <tbody>\n",
       "    <tr>\n",
       "      <th>0</th>\n",
       "      <td>U_0</td>\n",
       "      <td>C_course-v1:TsinghuaX+20430064X+sp</td>\n",
       "      <td>V_05f095f52ac6446ba05b883171c66713</td>\n",
       "      <td>1</td>\n",
       "      <td>563.0</td>\n",
       "      <td>563</td>\n",
       "      <td>563.000000</td>\n",
       "      <td>0.0</td>\n",
       "      <td>563.00</td>\n",
       "      <td>2017-07-24 13:26:56</td>\n",
       "      <td>2017-07-24 13:36:19</td>\n",
       "    </tr>\n",
       "    <tr>\n",
       "      <th>1</th>\n",
       "      <td>U_0</td>\n",
       "      <td>C_course-v1:TsinghuaX+34000888X+sp</td>\n",
       "      <td>V_0d166f12024942fca500891c0346b86a</td>\n",
       "      <td>1</td>\n",
       "      <td>166.0</td>\n",
       "      <td>166</td>\n",
       "      <td>166.000000</td>\n",
       "      <td>0.0</td>\n",
       "      <td>166.00</td>\n",
       "      <td>2017-07-06 14:47:00</td>\n",
       "      <td>2017-07-06 14:49:46</td>\n",
       "    </tr>\n",
       "    <tr>\n",
       "      <th>2</th>\n",
       "      <td>U_0</td>\n",
       "      <td>C_course-v1:TsinghuaX+00691153X+sp</td>\n",
       "      <td>V_0d2ed7b0f77647388d3ad5420d1d6549</td>\n",
       "      <td>2</td>\n",
       "      <td>415.0</td>\n",
       "      <td>415</td>\n",
       "      <td>414.809998</td>\n",
       "      <td>0.0</td>\n",
       "      <td>415.00</td>\n",
       "      <td>2017-07-13 09:01:58</td>\n",
       "      <td>2017-07-13 13:18:15</td>\n",
       "    </tr>\n",
       "    <tr>\n",
       "      <th>3</th>\n",
       "      <td>U_0</td>\n",
       "      <td>C_course-v1:TsinghuaX+20430064X+sp</td>\n",
       "      <td>V_10355a6a239c4a1dbc28e99bfb7633c1</td>\n",
       "      <td>1</td>\n",
       "      <td>173.0</td>\n",
       "      <td>174</td>\n",
       "      <td>173.000000</td>\n",
       "      <td>0.0</td>\n",
       "      <td>173.00</td>\n",
       "      <td>2017-07-24 13:11:47</td>\n",
       "      <td>2017-07-24 13:14:41</td>\n",
       "    </tr>\n",
       "    <tr>\n",
       "      <th>4</th>\n",
       "      <td>U_0</td>\n",
       "      <td>C_course-v1:TsinghuaX+34000888X+sp</td>\n",
       "      <td>V_11f15f23fca948808b5f44e25b75f6a2</td>\n",
       "      <td>1</td>\n",
       "      <td>63.0</td>\n",
       "      <td>19</td>\n",
       "      <td>18.820000</td>\n",
       "      <td>0.0</td>\n",
       "      <td>18.82</td>\n",
       "      <td>2017-07-06 14:56:18</td>\n",
       "      <td>2017-07-06 14:56:37</td>\n",
       "    </tr>\n",
       "  </tbody>\n",
       "</table>\n",
       "</div>"
      ],
      "text/plain": [
       "  item_id                           course_id  \\\n",
       "0     U_0  C_course-v1:TsinghuaX+20430064X+sp   \n",
       "1     U_0  C_course-v1:TsinghuaX+34000888X+sp   \n",
       "2     U_0  C_course-v1:TsinghuaX+00691153X+sp   \n",
       "3     U_0  C_course-v1:TsinghuaX+20430064X+sp   \n",
       "4     U_0  C_course-v1:TsinghuaX+34000888X+sp   \n",
       "\n",
       "                             video_id  watching_count  video_duration  \\\n",
       "0  V_05f095f52ac6446ba05b883171c66713               1           563.0   \n",
       "1  V_0d166f12024942fca500891c0346b86a               1           166.0   \n",
       "2  V_0d2ed7b0f77647388d3ad5420d1d6549               2           415.0   \n",
       "3  V_10355a6a239c4a1dbc28e99bfb7633c1               1           173.0   \n",
       "4  V_11f15f23fca948808b5f44e25b75f6a2               1            63.0   \n",
       "\n",
       "   local_watching_time  video_progress_time  video_start_time  video_end_time  \\\n",
       "0                  563           563.000000               0.0          563.00   \n",
       "1                  166           166.000000               0.0          166.00   \n",
       "2                  415           414.809998               0.0          415.00   \n",
       "3                  174           173.000000               0.0          173.00   \n",
       "4                   19            18.820000               0.0           18.82   \n",
       "\n",
       "      local_start_time       local_end_time  \n",
       "0  2017-07-24 13:26:56  2017-07-24 13:36:19  \n",
       "1  2017-07-06 14:47:00  2017-07-06 14:49:46  \n",
       "2  2017-07-13 09:01:58  2017-07-13 13:18:15  \n",
       "3  2017-07-24 13:11:47  2017-07-24 13:14:41  \n",
       "4  2017-07-06 14:56:18  2017-07-06 14:56:37  "
      ]
     },
     "execution_count": 2,
     "metadata": {},
     "output_type": "execute_result"
    }
   ],
   "source": [
    "df = pd.read_hdf('../act_2_activity.h5')\n",
    "df.head()"
   ]
  },
  {
   "cell_type": "code",
   "execution_count": 3,
   "metadata": {
    "ExecuteTime": {
     "end_time": "2020-08-25T05:48:09.547951Z",
     "start_time": "2020-08-25T05:48:09.541976Z"
    }
   },
   "outputs": [
    {
     "data": {
      "text/plain": [
       "(581676, 11)"
      ]
     },
     "execution_count": 3,
     "metadata": {},
     "output_type": "execute_result"
    }
   ],
   "source": [
    "df.shape"
   ]
  },
  {
   "cell_type": "code",
   "execution_count": 4,
   "metadata": {
    "ExecuteTime": {
     "end_time": "2020-08-25T05:48:09.924943Z",
     "start_time": "2020-08-25T05:48:09.549946Z"
    }
   },
   "outputs": [
    {
     "data": {
      "text/plain": [
       "(579277, 11)"
      ]
     },
     "execution_count": 4,
     "metadata": {},
     "output_type": "execute_result"
    }
   ],
   "source": [
    "df.drop_duplicates(['item_id', 'course_id', 'video_id']).shape"
   ]
  },
  {
   "cell_type": "code",
   "execution_count": 5,
   "metadata": {
    "ExecuteTime": {
     "end_time": "2020-08-25T05:48:10.074962Z",
     "start_time": "2020-08-25T05:48:09.925941Z"
    }
   },
   "outputs": [
    {
     "name": "stdout",
     "output_type": "stream",
     "text": [
      "<class 'pandas.core.frame.DataFrame'>\n",
      "Int64Index: 581676 entries, 0 to 105\n",
      "Data columns (total 11 columns):\n",
      " #   Column               Non-Null Count   Dtype  \n",
      "---  ------               --------------   -----  \n",
      " 0   item_id              581676 non-null  object \n",
      " 1   course_id            581676 non-null  object \n",
      " 2   video_id             581676 non-null  object \n",
      " 3   watching_count       581676 non-null  int64  \n",
      " 4   video_duration       581676 non-null  float64\n",
      " 5   local_watching_time  581676 non-null  int64  \n",
      " 6   video_progress_time  581676 non-null  float64\n",
      " 7   video_start_time     581676 non-null  float64\n",
      " 8   video_end_time       581676 non-null  float64\n",
      " 9   local_start_time     581676 non-null  object \n",
      " 10  local_end_time       581676 non-null  object \n",
      "dtypes: float64(4), int64(2), object(5)\n",
      "memory usage: 53.3+ MB\n"
     ]
    }
   ],
   "source": [
    "df.info()"
   ]
  },
  {
   "cell_type": "code",
   "execution_count": 6,
   "metadata": {
    "ExecuteTime": {
     "end_time": "2020-08-25T05:48:11.037738Z",
     "start_time": "2020-08-25T05:48:10.076957Z"
    }
   },
   "outputs": [
    {
     "data": {
      "text/plain": [
       "0"
      ]
     },
     "execution_count": 6,
     "metadata": {},
     "output_type": "execute_result"
    }
   ],
   "source": [
    "df['local_start_time'] = pd.to_datetime(df['local_start_time'])\n",
    "df['local_end_time'] = pd.to_datetime(df['local_end_time'])\n",
    "gc.collect()"
   ]
  },
  {
   "cell_type": "code",
   "execution_count": 7,
   "metadata": {
    "ExecuteTime": {
     "end_time": "2020-08-25T05:48:11.042729Z",
     "start_time": "2020-08-25T05:48:11.039733Z"
    }
   },
   "outputs": [],
   "source": [
    "uid1 = ['item_id', 'course_id', 'video_id']\n",
    "uid2 = ['item_id', 'course_id']"
   ]
  },
  {
   "cell_type": "markdown",
   "metadata": {},
   "source": [
    "# video维度"
   ]
  },
  {
   "cell_type": "code",
   "execution_count": 8,
   "metadata": {
    "ExecuteTime": {
     "end_time": "2020-08-25T05:48:11.904444Z",
     "start_time": "2020-08-25T05:48:11.044699Z"
    }
   },
   "outputs": [
    {
     "data": {
      "text/plain": [
       "0"
      ]
     },
     "execution_count": 8,
     "metadata": {},
     "output_type": "execute_result"
    }
   ],
   "source": [
    "# video_start_time, video_end_time, local_start_time, local_end_time\n",
    "df_video = df.groupby(uid1, as_index=False).agg({\n",
    "    'watching_count': np.sum,\n",
    "    'video_duration': np.max,\n",
    "    'local_watching_time': np.sum,\n",
    "    'video_progress_time': np.sum,\n",
    "    'video_start_time': np.min,\n",
    "    'video_end_time': np.max,\n",
    "    'local_start_time': np.min,\n",
    "    'local_end_time': np.max\n",
    "})\n",
    "\n",
    "gc.collect()"
   ]
  },
  {
   "cell_type": "code",
   "execution_count": 9,
   "metadata": {
    "ExecuteTime": {
     "end_time": "2020-08-25T05:48:13.079377Z",
     "start_time": "2020-08-25T05:48:11.905442Z"
    }
   },
   "outputs": [
    {
     "data": {
      "text/plain": [
       "20"
      ]
     },
     "execution_count": 9,
     "metadata": {},
     "output_type": "execute_result"
    }
   ],
   "source": [
    "# 每个video观看次数\n",
    "tmp = df.groupby(uid1, as_index=False)['watching_count'].agg({\n",
    "    'video_cnt': 'count'\n",
    "})\n",
    "df_video = df_video.merge(tmp, on=uid1, how='left')\n",
    "\n",
    "del tmp\n",
    "gc.collect()"
   ]
  },
  {
   "cell_type": "code",
   "execution_count": 10,
   "metadata": {
    "ExecuteTime": {
     "end_time": "2020-08-25T05:48:44.305973Z",
     "start_time": "2020-08-25T05:48:13.080338Z"
    }
   },
   "outputs": [],
   "source": [
    "# 进度条最晚的时间点-进度条最早的时间点\n",
    "df_video['video_watching_duration'] = df_video['video_end_time'] - df_video['video_start_time']\n",
    "\n",
    "# 视频：观看结束时间-观看开始时间\n",
    "df_video['local_watching_duration'] = df_video.apply(lambda x: (x['local_end_time'] - x['local_start_time']).seconds, axis=1)"
   ]
  },
  {
   "cell_type": "code",
   "execution_count": 11,
   "metadata": {
    "ExecuteTime": {
     "end_time": "2020-08-25T05:48:44.587503Z",
     "start_time": "2020-08-25T05:48:44.306970Z"
    }
   },
   "outputs": [],
   "source": [
    "# 进度条是否读到最后，小于0\n",
    "df_video['video_is_end'] = df_video['video_end_time'] - df_video['video_duration']\n",
    "\n",
    "# 一开始是否拖到进度条\n",
    "df_video['video_is_start'] = df_video['video_start_time'].map(lambda x: 1 if x > 0 else 0)\n",
    "\n",
    "# 进度条是否从开始读到最后，小于0\n",
    "df_video['video_is_start_end'] = df_video['video_watching_duration'] - df_video['video_duration']\n",
    "\n",
    "# 进度条拖动的秒速 - 暂停时长\n",
    "df_video['forward_seconds'] = df_video['video_watching_duration'] - df_video['video_progress_time']\n",
    "\n",
    "# 暂停时长，\n",
    "# df[''] = df[''] - df['']\n",
    "\n",
    "# 实际观看时长是否有差误\n",
    "df_video['local_watching_diff'] = df_video['local_watching_duration'] - df_video['local_watching_time']\n",
    "\n",
    "# 倍速\n",
    "df_video['speed'] = df_video['local_watching_time'] / (df_video['video_progress_time'] + 0.001)"
   ]
  },
  {
   "cell_type": "code",
   "execution_count": 12,
   "metadata": {
    "ExecuteTime": {
     "end_time": "2020-08-25T05:48:44.593480Z",
     "start_time": "2020-08-25T05:48:44.588493Z"
    }
   },
   "outputs": [
    {
     "data": {
      "text/plain": [
       "Index(['item_id', 'course_id', 'video_id', 'watching_count', 'video_duration',\n",
       "       'local_watching_time', 'video_progress_time', 'video_start_time',\n",
       "       'video_end_time', 'local_start_time', 'local_end_time', 'video_cnt',\n",
       "       'video_watching_duration', 'local_watching_duration', 'video_is_end',\n",
       "       'video_is_start', 'video_is_start_end', 'forward_seconds',\n",
       "       'local_watching_diff', 'speed'],\n",
       "      dtype='object')"
      ]
     },
     "execution_count": 12,
     "metadata": {},
     "output_type": "execute_result"
    }
   ],
   "source": [
    "df_video.columns"
   ]
  },
  {
   "cell_type": "markdown",
   "metadata": {},
   "source": [
    "# course维度"
   ]
  },
  {
   "cell_type": "code",
   "execution_count": 13,
   "metadata": {
    "ExecuteTime": {
     "end_time": "2020-08-25T05:48:44.843782Z",
     "start_time": "2020-08-25T05:48:44.594445Z"
    }
   },
   "outputs": [
    {
     "data": {
      "text/plain": [
       "(40727, 4)"
      ]
     },
     "execution_count": 13,
     "metadata": {},
     "output_type": "execute_result"
    }
   ],
   "source": [
    "# video_start_time, video_end_time, local_start_time, local_end_time\n",
    "df_course = df_video.groupby(uid2, as_index=False).agg({\n",
    "    'local_start_time': np.min,\n",
    "    'local_end_time': np.max\n",
    "})\n",
    "\n",
    "df_course.shape"
   ]
  },
  {
   "cell_type": "code",
   "execution_count": 14,
   "metadata": {
    "ExecuteTime": {
     "end_time": "2020-08-25T05:48:44.848806Z",
     "start_time": "2020-08-25T05:48:44.845775Z"
    }
   },
   "outputs": [],
   "source": [
    "# ['item_id', 'course_id', 'video_id', 'watching_count', 'video_duration',\n",
    "#  'local_watching_time', 'video_progress_time', 'video_start_time',\n",
    "#  'video_end_time', 'local_start_time', 'local_end_time', 'video_cnt',\n",
    "#  'video_watching_duration', 'local_watching_duration', 'video_is_end',\n",
    "#  'video_is_start', 'video_is_start_end', 'forward_seconds',\n",
    "#  'local_watching_diff', 'speed']"
   ]
  },
  {
   "cell_type": "code",
   "execution_count": 15,
   "metadata": {
    "ExecuteTime": {
     "end_time": "2020-08-25T05:48:52.589171Z",
     "start_time": "2020-08-25T05:48:44.850763Z"
    }
   },
   "outputs": [
    {
     "data": {
      "text/plain": [
       "0"
      ]
     },
     "execution_count": 15,
     "metadata": {},
     "output_type": "execute_result"
    }
   ],
   "source": [
    "# watching_count\n",
    "tmp = df_video.groupby(uid2, as_index=False)['watching_count'].agg({\n",
    "    'watching_count_sum': 'sum',\n",
    "    'watching_count_count': 'count',\n",
    "    'watching_count_mean': 'mean',\n",
    "    'watching_count_max': 'max',\n",
    "    'watching_count_min': 'min',\n",
    "    'watching_count_std': 'std',\n",
    "    'watching_count_skew': 'skew'\n",
    "})\n",
    "df_course = df_course.merge(tmp, on=uid2, how='left')\n",
    "del tmp\n",
    "gc.collect()"
   ]
  },
  {
   "cell_type": "code",
   "execution_count": 16,
   "metadata": {
    "ExecuteTime": {
     "end_time": "2020-08-25T05:49:00.779908Z",
     "start_time": "2020-08-25T05:48:52.591151Z"
    }
   },
   "outputs": [
    {
     "data": {
      "text/plain": [
       "0"
      ]
     },
     "execution_count": 16,
     "metadata": {},
     "output_type": "execute_result"
    }
   ],
   "source": [
    "# video_duration\n",
    "tmp = df_video.groupby(uid2, as_index=False)['video_duration'].agg({\n",
    "    'video_duration_sum': 'sum',\n",
    "    'video_duration_count': 'count',\n",
    "    'video_duration_mean': 'mean',\n",
    "    'video_duration_max': 'max',\n",
    "    'video_duration_min': 'min',\n",
    "    'video_duration_std': 'std',\n",
    "    'video_duration_skew': 'skew'\n",
    "})\n",
    "df_course = df_course.merge(tmp, on=uid2, how='left')\n",
    "del tmp\n",
    "gc.collect()"
   ]
  },
  {
   "cell_type": "code",
   "execution_count": 17,
   "metadata": {
    "ExecuteTime": {
     "end_time": "2020-08-25T05:49:09.124637Z",
     "start_time": "2020-08-25T05:49:00.781903Z"
    }
   },
   "outputs": [
    {
     "data": {
      "text/plain": [
       "0"
      ]
     },
     "execution_count": 17,
     "metadata": {},
     "output_type": "execute_result"
    }
   ],
   "source": [
    "# local_watching_time\n",
    "tmp = df_video.groupby(uid2, as_index=False)['local_watching_time'].agg({\n",
    "    'local_watching_time_sum': 'sum',\n",
    "    'local_watching_time_count': 'count',\n",
    "    'local_watching_time_mean': 'mean',\n",
    "    'local_watching_time_max': 'max',\n",
    "    'local_watching_time_min': 'min',\n",
    "    'local_watching_time_std': 'std',\n",
    "    'local_watching_time_skew': 'skew'\n",
    "})\n",
    "df_course = df_course.merge(tmp, on=uid2, how='left')\n",
    "del tmp\n",
    "gc.collect()"
   ]
  },
  {
   "cell_type": "code",
   "execution_count": 18,
   "metadata": {
    "ExecuteTime": {
     "end_time": "2020-08-25T05:49:17.769072Z",
     "start_time": "2020-08-25T05:49:09.125634Z"
    }
   },
   "outputs": [
    {
     "data": {
      "text/plain": [
       "0"
      ]
     },
     "execution_count": 18,
     "metadata": {},
     "output_type": "execute_result"
    }
   ],
   "source": [
    "# video_progress_time\n",
    "tmp = df_video.groupby(uid2, as_index=False)['video_progress_time'].agg({\n",
    "    'video_progress_time_sum': 'sum',\n",
    "    'video_progress_time_count': 'count',\n",
    "    'video_progress_time_mean': 'mean',\n",
    "    'video_progress_time_max': 'max',\n",
    "    'video_progress_time_min': 'min',\n",
    "    'video_progress_time_std': 'std',\n",
    "    'video_progress_time_skew': 'skew'\n",
    "})\n",
    "df_course = df_course.merge(tmp, on=uid2, how='left')\n",
    "del tmp\n",
    "gc.collect()"
   ]
  },
  {
   "cell_type": "code",
   "execution_count": 19,
   "metadata": {
    "ExecuteTime": {
     "end_time": "2020-08-25T05:49:27.553361Z",
     "start_time": "2020-08-25T05:49:17.771069Z"
    }
   },
   "outputs": [
    {
     "data": {
      "text/plain": [
       "0"
      ]
     },
     "execution_count": 19,
     "metadata": {},
     "output_type": "execute_result"
    }
   ],
   "source": [
    "# video_watching_duration\n",
    "tmp = df_video.groupby(uid2, as_index=False)['video_watching_duration'].agg({\n",
    "    'video_watching_duration_sum': 'sum',\n",
    "    'video_watching_duration_count': 'count',\n",
    "    'video_watching_duration_mean': 'mean',\n",
    "    'video_watching_duration_max': 'max',\n",
    "    'video_watching_duration_min': 'min',\n",
    "    'video_watching_duration_std': 'std',\n",
    "    'video_watching_duration_skew': 'skew'\n",
    "})\n",
    "df_course = df_course.merge(tmp, on=uid2, how='left')\n",
    "del tmp\n",
    "gc.collect()"
   ]
  },
  {
   "cell_type": "code",
   "execution_count": 20,
   "metadata": {
    "ExecuteTime": {
     "end_time": "2020-08-25T05:49:36.780509Z",
     "start_time": "2020-08-25T05:49:27.554358Z"
    }
   },
   "outputs": [
    {
     "data": {
      "text/plain": [
       "0"
      ]
     },
     "execution_count": 20,
     "metadata": {},
     "output_type": "execute_result"
    }
   ],
   "source": [
    "# local_watching_duration\n",
    "tmp = df_video.groupby(uid2, as_index=False)['local_watching_duration'].agg({\n",
    "    'local_watching_duration_sum': 'sum',\n",
    "    'local_watching_duration_count': 'count',\n",
    "    'local_watching_duration_mean': 'mean',\n",
    "    'local_watching_duration_max': 'max',\n",
    "    'local_watching_duration_min': 'min',\n",
    "    'local_watching_duration_std': 'std',\n",
    "    'local_watching_duration_skew': 'skew'\n",
    "})\n",
    "df_course = df_course.merge(tmp, on=uid2, how='left')\n",
    "del tmp\n",
    "gc.collect()"
   ]
  },
  {
   "cell_type": "code",
   "execution_count": 21,
   "metadata": {
    "ExecuteTime": {
     "end_time": "2020-08-25T05:49:45.722518Z",
     "start_time": "2020-08-25T05:49:36.782504Z"
    }
   },
   "outputs": [
    {
     "data": {
      "text/plain": [
       "0"
      ]
     },
     "execution_count": 21,
     "metadata": {},
     "output_type": "execute_result"
    }
   ],
   "source": [
    "# video_is_end\n",
    "tmp = df_video.groupby(uid2, as_index=False)['video_is_end'].agg({\n",
    "    'video_is_end_sum': 'sum',\n",
    "    'video_is_end_count': 'count',\n",
    "    'video_is_end_mean': 'mean',\n",
    "    'video_is_end_max': 'max',\n",
    "    'video_is_end_min': 'min',\n",
    "    'video_is_end_std': 'std',\n",
    "    'video_is_end_skew': 'skew'\n",
    "})\n",
    "df_course = df_course.merge(tmp, on=uid2, how='left')\n",
    "del tmp\n",
    "gc.collect()"
   ]
  },
  {
   "cell_type": "code",
   "execution_count": 22,
   "metadata": {
    "ExecuteTime": {
     "end_time": "2020-08-25T05:49:53.875618Z",
     "start_time": "2020-08-25T05:49:45.727506Z"
    }
   },
   "outputs": [
    {
     "data": {
      "text/plain": [
       "0"
      ]
     },
     "execution_count": 22,
     "metadata": {},
     "output_type": "execute_result"
    }
   ],
   "source": [
    "# video_is_start\n",
    "tmp = df_video.groupby(uid2, as_index=False)['video_is_start'].agg({\n",
    "    'video_is_start_sum': 'sum',\n",
    "    'video_is_start_count': 'count',\n",
    "    'video_is_start_mean': 'mean',\n",
    "    'video_is_start_max': 'max',\n",
    "    'video_is_start_min': 'min',\n",
    "    'video_is_start_std': 'std',\n",
    "    'video_is_start_skew': 'skew'\n",
    "})\n",
    "df_course = df_course.merge(tmp, on=uid2, how='left')\n",
    "del tmp\n",
    "gc.collect()"
   ]
  },
  {
   "cell_type": "code",
   "execution_count": 23,
   "metadata": {
    "ExecuteTime": {
     "end_time": "2020-08-25T05:50:02.864020Z",
     "start_time": "2020-08-25T05:49:53.879608Z"
    }
   },
   "outputs": [
    {
     "data": {
      "text/plain": [
       "0"
      ]
     },
     "execution_count": 23,
     "metadata": {},
     "output_type": "execute_result"
    }
   ],
   "source": [
    "# video_is_start_end\n",
    "tmp = df_video.groupby(uid2, as_index=False)['video_is_start_end'].agg({\n",
    "    'video_is_start_end_sum': 'sum',\n",
    "    'video_is_start_end_count': 'count',\n",
    "    'video_is_start_end_mean': 'mean',\n",
    "    'video_is_start_end_max': 'max',\n",
    "    'video_is_start_end_min': 'min',\n",
    "    'video_is_start_end_std': 'std',\n",
    "    'video_is_start_end_skew': 'skew'\n",
    "})\n",
    "df_course = df_course.merge(tmp, on=uid2, how='left')\n",
    "del tmp\n",
    "gc.collect()"
   ]
  },
  {
   "cell_type": "code",
   "execution_count": 24,
   "metadata": {
    "ExecuteTime": {
     "end_time": "2020-08-25T05:50:11.332652Z",
     "start_time": "2020-08-25T05:50:02.866014Z"
    }
   },
   "outputs": [
    {
     "data": {
      "text/plain": [
       "0"
      ]
     },
     "execution_count": 24,
     "metadata": {},
     "output_type": "execute_result"
    }
   ],
   "source": [
    "# forward_seconds\n",
    "tmp = df_video.groupby(uid2, as_index=False)['forward_seconds'].agg({\n",
    "    'forward_seconds_sum': 'sum',\n",
    "    'forward_seconds_count': 'count',\n",
    "    'forward_seconds_mean': 'mean',\n",
    "    'forward_seconds_max': 'max',\n",
    "    'forward_seconds_min': 'min',\n",
    "    'forward_seconds_std': 'std',\n",
    "    'forward_seconds_skew': 'skew'\n",
    "})\n",
    "df_course = df_course.merge(tmp, on=uid2, how='left')\n",
    "del tmp\n",
    "gc.collect()"
   ]
  },
  {
   "cell_type": "code",
   "execution_count": 25,
   "metadata": {
    "ExecuteTime": {
     "end_time": "2020-08-25T05:50:19.341928Z",
     "start_time": "2020-08-25T05:50:11.334645Z"
    }
   },
   "outputs": [
    {
     "data": {
      "text/plain": [
       "0"
      ]
     },
     "execution_count": 25,
     "metadata": {},
     "output_type": "execute_result"
    }
   ],
   "source": [
    "# local_watching_diff\n",
    "tmp = df_video.groupby(uid2, as_index=False)['local_watching_diff'].agg({\n",
    "    'local_watching_diff_sum': 'sum',\n",
    "    'local_watching_diff_count': 'count',\n",
    "    'local_watching_diff_mean': 'mean',\n",
    "    'local_watching_diff_max': 'max',\n",
    "    'local_watching_diff_min': 'min',\n",
    "    'local_watching_diff_std': 'std',\n",
    "    'local_watching_diff_skew': 'skew'\n",
    "})\n",
    "df_course = df_course.merge(tmp, on=uid2, how='left')\n",
    "del tmp\n",
    "gc.collect()"
   ]
  },
  {
   "cell_type": "code",
   "execution_count": 26,
   "metadata": {
    "ExecuteTime": {
     "end_time": "2020-08-25T05:50:27.885073Z",
     "start_time": "2020-08-25T05:50:19.343921Z"
    }
   },
   "outputs": [
    {
     "data": {
      "text/plain": [
       "0"
      ]
     },
     "execution_count": 26,
     "metadata": {},
     "output_type": "execute_result"
    }
   ],
   "source": [
    "# speed\n",
    "tmp = df_video.groupby(uid2, as_index=False)['speed'].agg({\n",
    "    'speed_sum': 'sum',\n",
    "    'speed_count': 'count',\n",
    "    'speed_mean': 'mean',\n",
    "    'speed_max': 'max',\n",
    "    'speed_min': 'min',\n",
    "    'speed_std': 'std',\n",
    "    'speed_skew': 'skew'\n",
    "})\n",
    "df_course = df_course.merge(tmp, on=uid2, how='left')\n",
    "del tmp\n",
    "gc.collect()"
   ]
  },
  {
   "cell_type": "code",
   "execution_count": 27,
   "metadata": {
    "ExecuteTime": {
     "end_time": "2020-08-25T05:50:28.032317Z",
     "start_time": "2020-08-25T05:50:27.886034Z"
    }
   },
   "outputs": [
    {
     "data": {
      "text/plain": [
       "0"
      ]
     },
     "execution_count": 27,
     "metadata": {},
     "output_type": "execute_result"
    }
   ],
   "source": [
    "# 用户观看了多少个视频\n",
    "tmp = df_video.groupby('item_id', as_index=False)['course_id'].agg({\n",
    "    'course_id_count': 'count'\n",
    "})\n",
    "df_course = df_course.merge(tmp, on='item_id', how='left')\n",
    "del tmp\n",
    "gc.collect()"
   ]
  },
  {
   "cell_type": "code",
   "execution_count": 28,
   "metadata": {
    "ExecuteTime": {
     "end_time": "2020-08-25T05:50:30.492965Z",
     "start_time": "2020-08-25T05:50:28.033314Z"
    }
   },
   "outputs": [],
   "source": [
    "# 课程：观看结束时间-观看开始时间\n",
    "df_course['local_watching_duration'] = df_course.apply(lambda x: (x['local_end_time'] - x['local_start_time']).seconds, axis=1)\n",
    "\n",
    "df_course['local_watching_diff'] = df_course['local_watching_duration'] - df_course['local_watching_time_sum']\n",
    "\n",
    "df_course['local_watching_video_duration'] = df_course['local_watching_duration'] - df_course['video_duration_sum']"
   ]
  },
  {
   "cell_type": "code",
   "execution_count": 29,
   "metadata": {
    "ExecuteTime": {
     "end_time": "2020-08-25T05:50:30.585689Z",
     "start_time": "2020-08-25T05:50:30.493924Z"
    }
   },
   "outputs": [
    {
     "data": {
      "text/plain": [
       "33"
      ]
     },
     "execution_count": 29,
     "metadata": {},
     "output_type": "execute_result"
    }
   ],
   "source": [
    "df_course.drop(['local_start_time', 'local_end_time'], axis=1, inplace=True)\n",
    "gc.collect()"
   ]
  },
  {
   "cell_type": "code",
   "execution_count": 30,
   "metadata": {
    "ExecuteTime": {
     "end_time": "2020-08-25T05:50:30.592661Z",
     "start_time": "2020-08-25T05:50:30.586676Z"
    }
   },
   "outputs": [
    {
     "data": {
      "text/plain": [
       "Index(['item_id', 'course_id', 'watching_count_sum', 'watching_count_count',\n",
       "       'watching_count_mean', 'watching_count_max', 'watching_count_min',\n",
       "       'watching_count_std', 'watching_count_skew', 'video_duration_sum',\n",
       "       'video_duration_count', 'video_duration_mean', 'video_duration_max',\n",
       "       'video_duration_min', 'video_duration_std', 'video_duration_skew',\n",
       "       'local_watching_time_sum', 'local_watching_time_count',\n",
       "       'local_watching_time_mean', 'local_watching_time_max',\n",
       "       'local_watching_time_min', 'local_watching_time_std',\n",
       "       'local_watching_time_skew', 'video_progress_time_sum',\n",
       "       'video_progress_time_count', 'video_progress_time_mean',\n",
       "       'video_progress_time_max', 'video_progress_time_min',\n",
       "       'video_progress_time_std', 'video_progress_time_skew',\n",
       "       'video_watching_duration_sum', 'video_watching_duration_count',\n",
       "       'video_watching_duration_mean', 'video_watching_duration_max',\n",
       "       'video_watching_duration_min', 'video_watching_duration_std',\n",
       "       'video_watching_duration_skew', 'local_watching_duration_sum',\n",
       "       'local_watching_duration_count', 'local_watching_duration_mean',\n",
       "       'local_watching_duration_max', 'local_watching_duration_min',\n",
       "       'local_watching_duration_std', 'local_watching_duration_skew',\n",
       "       'video_is_end_sum', 'video_is_end_count', 'video_is_end_mean',\n",
       "       'video_is_end_max', 'video_is_end_min', 'video_is_end_std',\n",
       "       'video_is_end_skew', 'video_is_start_sum', 'video_is_start_count',\n",
       "       'video_is_start_mean', 'video_is_start_max', 'video_is_start_min',\n",
       "       'video_is_start_std', 'video_is_start_skew', 'video_is_start_end_sum',\n",
       "       'video_is_start_end_count', 'video_is_start_end_mean',\n",
       "       'video_is_start_end_max', 'video_is_start_end_min',\n",
       "       'video_is_start_end_std', 'video_is_start_end_skew',\n",
       "       'forward_seconds_sum', 'forward_seconds_count', 'forward_seconds_mean',\n",
       "       'forward_seconds_max', 'forward_seconds_min', 'forward_seconds_std',\n",
       "       'forward_seconds_skew', 'local_watching_diff_sum',\n",
       "       'local_watching_diff_count', 'local_watching_diff_mean',\n",
       "       'local_watching_diff_max', 'local_watching_diff_min',\n",
       "       'local_watching_diff_std', 'local_watching_diff_skew', 'speed_sum',\n",
       "       'speed_count', 'speed_mean', 'speed_max', 'speed_min', 'speed_std',\n",
       "       'speed_skew', 'course_id_count', 'local_watching_duration',\n",
       "       'local_watching_diff', 'local_watching_video_duration'],\n",
       "      dtype='object')"
      ]
     },
     "execution_count": 30,
     "metadata": {},
     "output_type": "execute_result"
    }
   ],
   "source": [
    "df_course.columns"
   ]
  },
  {
   "cell_type": "code",
   "execution_count": 31,
   "metadata": {
    "ExecuteTime": {
     "end_time": "2020-08-25T05:50:30.642565Z",
     "start_time": "2020-08-25T05:50:30.594654Z"
    }
   },
   "outputs": [
    {
     "data": {
      "text/plain": [
       "Index(['item_id', 'course_id', 'label'], dtype='object')"
      ]
     },
     "execution_count": 31,
     "metadata": {},
     "output_type": "execute_result"
    }
   ],
   "source": [
    "act_2_label = pd.read_hdf('../act_2_label.h5')\n",
    "act_2_label.columns"
   ]
  },
  {
   "cell_type": "code",
   "execution_count": 32,
   "metadata": {
    "ExecuteTime": {
     "end_time": "2020-08-25T05:50:31.119252Z",
     "start_time": "2020-08-25T05:50:30.643523Z"
    }
   },
   "outputs": [],
   "source": [
    "df_course = df_course.merge(act_2_label, on=uid2, how='left')"
   ]
  },
  {
   "cell_type": "code",
   "execution_count": 33,
   "metadata": {
    "ExecuteTime": {
     "end_time": "2020-08-25T05:50:31.241511Z",
     "start_time": "2020-08-25T05:50:31.121247Z"
    }
   },
   "outputs": [],
   "source": [
    "df_course.to_hdf('../act_2_features.h5', 'df', index=False)"
   ]
  }
 ],
 "metadata": {
  "kernelspec": {
   "display_name": "Python 3",
   "language": "python",
   "name": "python3"
  },
  "language_info": {
   "codemirror_mode": {
    "name": "ipython",
    "version": 3
   },
   "file_extension": ".py",
   "mimetype": "text/x-python",
   "name": "python",
   "nbconvert_exporter": "python",
   "pygments_lexer": "ipython3",
   "version": "3.7.3"
  },
  "toc": {
   "base_numbering": 1,
   "nav_menu": {},
   "number_sections": true,
   "sideBar": true,
   "skip_h1_title": false,
   "title_cell": "Table of Contents",
   "title_sidebar": "Contents",
   "toc_cell": false,
   "toc_position": {},
   "toc_section_display": true,
   "toc_window_display": false
  },
  "varInspector": {
   "cols": {
    "lenName": 16,
    "lenType": 16,
    "lenVar": 40
   },
   "kernels_config": {
    "python": {
     "delete_cmd_postfix": "",
     "delete_cmd_prefix": "del ",
     "library": "var_list.py",
     "varRefreshCmd": "print(var_dic_list())"
    },
    "r": {
     "delete_cmd_postfix": ") ",
     "delete_cmd_prefix": "rm(",
     "library": "var_list.r",
     "varRefreshCmd": "cat(var_dic_list()) "
    }
   },
   "types_to_exclude": [
    "module",
    "function",
    "builtin_function_or_method",
    "instance",
    "_Feature"
   ],
   "window_display": false
  }
 },
 "nbformat": 4,
 "nbformat_minor": 2
}
