{
 "cells": [
  {
   "cell_type": "code",
   "execution_count": 1,
   "metadata": {
    "ExecuteTime": {
     "end_time": "2020-08-20T13:37:23.848733Z",
     "start_time": "2020-08-20T13:37:23.020069Z"
    }
   },
   "outputs": [],
   "source": [
    "import pandas as pd\n",
    "import gc\n",
    "pd.set_option('max_columns', None)\n",
    "pd.set_option('max_rows', None)"
   ]
  },
  {
   "cell_type": "code",
   "execution_count": 2,
   "metadata": {
    "ExecuteTime": {
     "end_time": "2020-08-20T13:41:45.795467Z",
     "start_time": "2020-08-20T13:37:23.848733Z"
    }
   },
   "outputs": [
    {
     "name": "stdout",
     "output_type": "stream",
     "text": [
      "Done\n"
     ]
    }
   ],
   "source": [
    "df = pd.read_json('../Track1/user_video_act_train_3.json', lines=True)\n",
    "\n",
    "def process(x):\n",
    "    item_id = x['id']\n",
    "    course_id = map(lambda x: x['course_id'].split(':')[1], x['activity'])\n",
    "    video_id = map(lambda x: x['video_id'], x['activity'])\n",
    "    watching_count = map(lambda x: x['watching_count'], x['activity'])\n",
    "    video_duration = map(lambda x: x['video_duration'], x['activity'])\n",
    "    local_watching_time = map(lambda x: x['local_watching_time'], x['activity'])\n",
    "    video_progress_time = map(lambda x: x['video_progress_time'], x['activity'])\n",
    "    video_start_time = map(lambda x: x['video_start_time'], x['activity'])\n",
    "    video_end_time = map(lambda x: x['video_end_time'], x['activity'])\n",
    "    local_start_time = map(lambda x: x['local_start_time'], x['activity'])\n",
    "    local_end_time = map(lambda x: x['local_end_time'], x['activity'])\n",
    "    drop = map(lambda x: x['drop'], x['activity'])\n",
    "    frame = pd.DataFrame({\n",
    "        'item_id': item_id,\n",
    "        'course_id': course_id,\n",
    "        'video_id': video_id,\n",
    "        'watching_count': watching_count,\n",
    "        'video_duration': video_duration,\n",
    "        'local_watching_time': local_watching_time,\n",
    "        'video_progress_time': video_progress_time,\n",
    "        'video_start_time': video_start_time,\n",
    "        'video_end_time': video_end_time,\n",
    "        'local_start_time': local_start_time,\n",
    "        'local_end_time': local_end_time,\n",
    "        'drop': drop,\n",
    "    })\n",
    "    return frame\n",
    "\n",
    "s = df.apply(process, axis=1)\n",
    "act_3 = pd.concat([i for i in s], ignore_index=False)\n",
    "\n",
    "act_3.to_csv('../../input/act_3.csv', index=False)\n",
    "act_3.to_hdf('../../input/act_3.h5', 'df', index=False)\n",
    "print('Done')"
   ]
  }
 ],
 "metadata": {
  "kernelspec": {
   "display_name": "Python 3",
   "language": "python",
   "name": "python3"
  },
  "language_info": {
   "codemirror_mode": {
    "name": "ipython",
    "version": 3
   },
   "file_extension": ".py",
   "mimetype": "text/x-python",
   "name": "python",
   "nbconvert_exporter": "python",
   "pygments_lexer": "ipython3",
   "version": "3.7.3"
  },
  "toc": {
   "base_numbering": 1,
   "nav_menu": {},
   "number_sections": true,
   "sideBar": true,
   "skip_h1_title": false,
   "title_cell": "Table of Contents",
   "title_sidebar": "Contents",
   "toc_cell": false,
   "toc_position": {},
   "toc_section_display": true,
   "toc_window_display": false
  },
  "varInspector": {
   "cols": {
    "lenName": 16,
    "lenType": 16,
    "lenVar": 40
   },
   "kernels_config": {
    "python": {
     "delete_cmd_postfix": "",
     "delete_cmd_prefix": "del ",
     "library": "var_list.py",
     "varRefreshCmd": "print(var_dic_list())"
    },
    "r": {
     "delete_cmd_postfix": ") ",
     "delete_cmd_prefix": "rm(",
     "library": "var_list.r",
     "varRefreshCmd": "cat(var_dic_list()) "
    }
   },
   "types_to_exclude": [
    "module",
    "function",
    "builtin_function_or_method",
    "instance",
    "_Feature"
   ],
   "window_display": false
  }
 },
 "nbformat": 4,
 "nbformat_minor": 4
}
