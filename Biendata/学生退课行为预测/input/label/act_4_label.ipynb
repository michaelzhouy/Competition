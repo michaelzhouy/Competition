{
 "cells": [
  {
   "cell_type": "code",
   "execution_count": 1,
   "metadata": {
    "ExecuteTime": {
     "end_time": "2020-08-20T10:08:31.141441Z",
     "start_time": "2020-08-20T10:08:30.124732Z"
    }
   },
   "outputs": [],
   "source": [
    "import numpy as np\n",
    "import pandas as pd\n",
    "import matplotlib.pyplot as plt\n",
    "import seaborn as sns\n",
    "import gc\n",
    "import warnings\n",
    "\n",
    "warnings.filterwarnings('ignore')\n",
    "warnings.simplefilter(action='ignore', category=FutureWarning)\n",
    "pd.set_option('max_columns', None)\n",
    "pd.set_option('max_rows', None)"
   ]
  },
  {
   "cell_type": "code",
   "execution_count": 2,
   "metadata": {
    "ExecuteTime": {
     "end_time": "2020-08-20T10:08:32.589081Z",
     "start_time": "2020-08-20T10:08:31.141441Z"
    }
   },
   "outputs": [
    {
     "data": {
      "text/html": [
       "<div>\n",
       "<style scoped>\n",
       "    .dataframe tbody tr th:only-of-type {\n",
       "        vertical-align: middle;\n",
       "    }\n",
       "\n",
       "    .dataframe tbody tr th {\n",
       "        vertical-align: top;\n",
       "    }\n",
       "\n",
       "    .dataframe thead th {\n",
       "        text-align: right;\n",
       "    }\n",
       "</style>\n",
       "<table border=\"1\" class=\"dataframe\">\n",
       "  <thead>\n",
       "    <tr style=\"text-align: right;\">\n",
       "      <th></th>\n",
       "      <th>item_id</th>\n",
       "      <th>course_id</th>\n",
       "      <th>video_id</th>\n",
       "      <th>watching_count</th>\n",
       "      <th>video_duration</th>\n",
       "      <th>local_watching_time</th>\n",
       "      <th>video_progress_time</th>\n",
       "      <th>video_start_time</th>\n",
       "      <th>video_end_time</th>\n",
       "      <th>local_start_time</th>\n",
       "      <th>local_end_time</th>\n",
       "      <th>drop</th>\n",
       "    </tr>\n",
       "  </thead>\n",
       "  <tbody>\n",
       "    <tr>\n",
       "      <th>0</th>\n",
       "      <td>U_7140103</td>\n",
       "      <td>TsinghuaX+20430064X+sp</td>\n",
       "      <td>V_05f095f52ac6446ba05b883171c66713</td>\n",
       "      <td>1</td>\n",
       "      <td>563.0</td>\n",
       "      <td>563</td>\n",
       "      <td>563.000000</td>\n",
       "      <td>0.0</td>\n",
       "      <td>563.00</td>\n",
       "      <td>2017-07-24 13:26:56</td>\n",
       "      <td>2017-07-24 13:36:19</td>\n",
       "      <td>0</td>\n",
       "    </tr>\n",
       "    <tr>\n",
       "      <th>1</th>\n",
       "      <td>U_7140103</td>\n",
       "      <td>TsinghuaX+34000888X+sp</td>\n",
       "      <td>V_0d166f12024942fca500891c0346b86a</td>\n",
       "      <td>1</td>\n",
       "      <td>166.0</td>\n",
       "      <td>166</td>\n",
       "      <td>166.000000</td>\n",
       "      <td>0.0</td>\n",
       "      <td>166.00</td>\n",
       "      <td>2017-07-06 14:47:00</td>\n",
       "      <td>2017-07-06 14:49:46</td>\n",
       "      <td>0</td>\n",
       "    </tr>\n",
       "    <tr>\n",
       "      <th>2</th>\n",
       "      <td>U_7140103</td>\n",
       "      <td>TsinghuaX+00691153X+sp</td>\n",
       "      <td>V_0d2ed7b0f77647388d3ad5420d1d6549</td>\n",
       "      <td>2</td>\n",
       "      <td>415.0</td>\n",
       "      <td>415</td>\n",
       "      <td>414.809998</td>\n",
       "      <td>0.0</td>\n",
       "      <td>415.00</td>\n",
       "      <td>2017-07-13 09:01:58</td>\n",
       "      <td>2017-07-13 13:18:15</td>\n",
       "      <td>0</td>\n",
       "    </tr>\n",
       "    <tr>\n",
       "      <th>3</th>\n",
       "      <td>U_7140103</td>\n",
       "      <td>TsinghuaX+20430064X+sp</td>\n",
       "      <td>V_10355a6a239c4a1dbc28e99bfb7633c1</td>\n",
       "      <td>1</td>\n",
       "      <td>173.0</td>\n",
       "      <td>174</td>\n",
       "      <td>173.000000</td>\n",
       "      <td>0.0</td>\n",
       "      <td>173.00</td>\n",
       "      <td>2017-07-24 13:11:47</td>\n",
       "      <td>2017-07-24 13:14:41</td>\n",
       "      <td>0</td>\n",
       "    </tr>\n",
       "    <tr>\n",
       "      <th>4</th>\n",
       "      <td>U_7140103</td>\n",
       "      <td>TsinghuaX+34000888X+sp</td>\n",
       "      <td>V_11f15f23fca948808b5f44e25b75f6a2</td>\n",
       "      <td>1</td>\n",
       "      <td>63.0</td>\n",
       "      <td>19</td>\n",
       "      <td>18.820000</td>\n",
       "      <td>0.0</td>\n",
       "      <td>18.82</td>\n",
       "      <td>2017-07-06 14:56:18</td>\n",
       "      <td>2017-07-06 14:56:37</td>\n",
       "      <td>0</td>\n",
       "    </tr>\n",
       "    <tr>\n",
       "      <th>5</th>\n",
       "      <td>U_7140103</td>\n",
       "      <td>TsinghuaX+34000888X+sp</td>\n",
       "      <td>V_1dfe758f74c64404aa98b30048d3bc77</td>\n",
       "      <td>3</td>\n",
       "      <td>262.0</td>\n",
       "      <td>262</td>\n",
       "      <td>261.830002</td>\n",
       "      <td>0.0</td>\n",
       "      <td>262.00</td>\n",
       "      <td>2017-07-06 14:35:15</td>\n",
       "      <td>2017-07-06 14:39:39</td>\n",
       "      <td>0</td>\n",
       "    </tr>\n",
       "    <tr>\n",
       "      <th>6</th>\n",
       "      <td>U_7140103</td>\n",
       "      <td>TsinghuaX+400182X+sp</td>\n",
       "      <td>V_1f6a60f535af482e99550cf8c74e78ca</td>\n",
       "      <td>2</td>\n",
       "      <td>1088.0</td>\n",
       "      <td>2097</td>\n",
       "      <td>2081.559998</td>\n",
       "      <td>0.0</td>\n",
       "      <td>1088.00</td>\n",
       "      <td>2017-07-15 14:33:10</td>\n",
       "      <td>2017-07-15 15:12:39</td>\n",
       "      <td>0</td>\n",
       "    </tr>\n",
       "    <tr>\n",
       "      <th>7</th>\n",
       "      <td>U_7140103</td>\n",
       "      <td>TsinghuaX+20430064X+sp</td>\n",
       "      <td>V_202664057afb470998c92d870d0b8fb3</td>\n",
       "      <td>1</td>\n",
       "      <td>254.0</td>\n",
       "      <td>254</td>\n",
       "      <td>254.000000</td>\n",
       "      <td>0.0</td>\n",
       "      <td>254.00</td>\n",
       "      <td>2017-07-24 13:07:28</td>\n",
       "      <td>2017-07-24 13:11:42</td>\n",
       "      <td>0</td>\n",
       "    </tr>\n",
       "    <tr>\n",
       "      <th>8</th>\n",
       "      <td>U_7140103</td>\n",
       "      <td>TsinghuaX+400182X+sp</td>\n",
       "      <td>V_21528e8bc6ee48d0ab996657ad4bb1ab</td>\n",
       "      <td>1</td>\n",
       "      <td>441.0</td>\n",
       "      <td>442</td>\n",
       "      <td>441.000000</td>\n",
       "      <td>0.0</td>\n",
       "      <td>441.00</td>\n",
       "      <td>2017-07-15 09:21:42</td>\n",
       "      <td>2017-07-15 09:29:04</td>\n",
       "      <td>0</td>\n",
       "    </tr>\n",
       "    <tr>\n",
       "      <th>9</th>\n",
       "      <td>U_7140103</td>\n",
       "      <td>TsinghuaX+20430064X+sp</td>\n",
       "      <td>V_2b0abbba1fdb442cb483dd9129891827</td>\n",
       "      <td>1</td>\n",
       "      <td>326.0</td>\n",
       "      <td>327</td>\n",
       "      <td>326.000000</td>\n",
       "      <td>0.0</td>\n",
       "      <td>326.00</td>\n",
       "      <td>2017-07-24 13:15:00</td>\n",
       "      <td>2017-07-24 13:20:27</td>\n",
       "      <td>0</td>\n",
       "    </tr>\n",
       "  </tbody>\n",
       "</table>\n",
       "</div>"
      ],
      "text/plain": [
       "     item_id               course_id                            video_id  \\\n",
       "0  U_7140103  TsinghuaX+20430064X+sp  V_05f095f52ac6446ba05b883171c66713   \n",
       "1  U_7140103  TsinghuaX+34000888X+sp  V_0d166f12024942fca500891c0346b86a   \n",
       "2  U_7140103  TsinghuaX+00691153X+sp  V_0d2ed7b0f77647388d3ad5420d1d6549   \n",
       "3  U_7140103  TsinghuaX+20430064X+sp  V_10355a6a239c4a1dbc28e99bfb7633c1   \n",
       "4  U_7140103  TsinghuaX+34000888X+sp  V_11f15f23fca948808b5f44e25b75f6a2   \n",
       "5  U_7140103  TsinghuaX+34000888X+sp  V_1dfe758f74c64404aa98b30048d3bc77   \n",
       "6  U_7140103    TsinghuaX+400182X+sp  V_1f6a60f535af482e99550cf8c74e78ca   \n",
       "7  U_7140103  TsinghuaX+20430064X+sp  V_202664057afb470998c92d870d0b8fb3   \n",
       "8  U_7140103    TsinghuaX+400182X+sp  V_21528e8bc6ee48d0ab996657ad4bb1ab   \n",
       "9  U_7140103  TsinghuaX+20430064X+sp  V_2b0abbba1fdb442cb483dd9129891827   \n",
       "\n",
       "   watching_count  video_duration  local_watching_time  video_progress_time  \\\n",
       "0               1           563.0                  563           563.000000   \n",
       "1               1           166.0                  166           166.000000   \n",
       "2               2           415.0                  415           414.809998   \n",
       "3               1           173.0                  174           173.000000   \n",
       "4               1            63.0                   19            18.820000   \n",
       "5               3           262.0                  262           261.830002   \n",
       "6               2          1088.0                 2097          2081.559998   \n",
       "7               1           254.0                  254           254.000000   \n",
       "8               1           441.0                  442           441.000000   \n",
       "9               1           326.0                  327           326.000000   \n",
       "\n",
       "   video_start_time  video_end_time     local_start_time       local_end_time  \\\n",
       "0               0.0          563.00  2017-07-24 13:26:56  2017-07-24 13:36:19   \n",
       "1               0.0          166.00  2017-07-06 14:47:00  2017-07-06 14:49:46   \n",
       "2               0.0          415.00  2017-07-13 09:01:58  2017-07-13 13:18:15   \n",
       "3               0.0          173.00  2017-07-24 13:11:47  2017-07-24 13:14:41   \n",
       "4               0.0           18.82  2017-07-06 14:56:18  2017-07-06 14:56:37   \n",
       "5               0.0          262.00  2017-07-06 14:35:15  2017-07-06 14:39:39   \n",
       "6               0.0         1088.00  2017-07-15 14:33:10  2017-07-15 15:12:39   \n",
       "7               0.0          254.00  2017-07-24 13:07:28  2017-07-24 13:11:42   \n",
       "8               0.0          441.00  2017-07-15 09:21:42  2017-07-15 09:29:04   \n",
       "9               0.0          326.00  2017-07-24 13:15:00  2017-07-24 13:20:27   \n",
       "\n",
       "   drop  \n",
       "0     0  \n",
       "1     0  \n",
       "2     0  \n",
       "3     0  \n",
       "4     0  \n",
       "5     0  \n",
       "6     0  \n",
       "7     0  \n",
       "8     0  \n",
       "9     0  "
      ]
     },
     "execution_count": 2,
     "metadata": {},
     "output_type": "execute_result"
    }
   ],
   "source": [
    "df = pd.read_hdf('../act_4.h5')\n",
    "df.head(10)"
   ]
  },
  {
   "cell_type": "code",
   "execution_count": 3,
   "metadata": {
    "ExecuteTime": {
     "end_time": "2020-08-20T10:08:32.595065Z",
     "start_time": "2020-08-20T10:08:32.590080Z"
    }
   },
   "outputs": [
    {
     "data": {
      "text/plain": [
       "(730734, 12)"
      ]
     },
     "execution_count": 3,
     "metadata": {},
     "output_type": "execute_result"
    }
   ],
   "source": [
    "df.shape"
   ]
  },
  {
   "cell_type": "code",
   "execution_count": 4,
   "metadata": {
    "ExecuteTime": {
     "end_time": "2020-08-20T10:08:32.611039Z",
     "start_time": "2020-08-20T10:08:32.596577Z"
    }
   },
   "outputs": [],
   "source": [
    "# df.drop_duplicates(['item_id', 'course_id', 'video_id'], inplace=True)\n",
    "# df.shape"
   ]
  },
  {
   "cell_type": "code",
   "execution_count": 5,
   "metadata": {
    "ExecuteTime": {
     "end_time": "2020-08-20T10:08:32.770611Z",
     "start_time": "2020-08-20T10:08:32.612035Z"
    }
   },
   "outputs": [
    {
     "name": "stdout",
     "output_type": "stream",
     "text": [
      "<class 'pandas.core.frame.DataFrame'>\n",
      "Int64Index: 730734 entries, 0 to 132\n",
      "Data columns (total 12 columns):\n",
      " #   Column               Non-Null Count   Dtype  \n",
      "---  ------               --------------   -----  \n",
      " 0   item_id              730734 non-null  object \n",
      " 1   course_id            730734 non-null  object \n",
      " 2   video_id             730734 non-null  object \n",
      " 3   watching_count       730734 non-null  int64  \n",
      " 4   video_duration       730734 non-null  float64\n",
      " 5   local_watching_time  730734 non-null  int64  \n",
      " 6   video_progress_time  730734 non-null  float64\n",
      " 7   video_start_time     730734 non-null  float64\n",
      " 8   video_end_time       730734 non-null  float64\n",
      " 9   local_start_time     730734 non-null  object \n",
      " 10  local_end_time       730734 non-null  object \n",
      " 11  drop                 730734 non-null  int64  \n",
      "dtypes: float64(4), int64(3), object(5)\n",
      "memory usage: 72.5+ MB\n"
     ]
    }
   ],
   "source": [
    "df.info()"
   ]
  },
  {
   "cell_type": "code",
   "execution_count": 6,
   "metadata": {
    "ExecuteTime": {
     "end_time": "2020-08-20T10:08:33.700275Z",
     "start_time": "2020-08-20T10:08:32.771635Z"
    }
   },
   "outputs": [
    {
     "data": {
      "text/plain": [
       "0"
      ]
     },
     "execution_count": 6,
     "metadata": {},
     "output_type": "execute_result"
    }
   ],
   "source": [
    "df['local_start_time'] = pd.to_datetime(df['local_start_time'])\n",
    "df['local_end_time'] = pd.to_datetime(df['local_end_time'])\n",
    "gc.collect()"
   ]
  },
  {
   "cell_type": "code",
   "execution_count": 7,
   "metadata": {
    "ExecuteTime": {
     "end_time": "2020-08-20T10:09:05.915894Z",
     "start_time": "2020-08-20T10:08:33.702272Z"
    }
   },
   "outputs": [
    {
     "data": {
      "text/plain": [
       "0"
      ]
     },
     "execution_count": 7,
     "metadata": {},
     "output_type": "execute_result"
    }
   ],
   "source": [
    "df['local_watching_duration'] = df.apply(lambda x: (x['local_end_time'] - x['local_start_time']).seconds, axis=1)\n",
    "del df['local_start_time']\n",
    "gc.collect()"
   ]
  },
  {
   "cell_type": "code",
   "execution_count": 8,
   "metadata": {
    "ExecuteTime": {
     "end_time": "2020-08-20T10:09:05.975336Z",
     "start_time": "2020-08-20T10:09:05.917888Z"
    }
   },
   "outputs": [
    {
     "data": {
      "text/plain": [
       "33"
      ]
     },
     "execution_count": 8,
     "metadata": {},
     "output_type": "execute_result"
    }
   ],
   "source": [
    "df['video_watching_duration'] = df['video_end_time'] - df['video_start_time']\n",
    "del df['video_end_time'], df['video_start_time']\n",
    "gc.collect()"
   ]
  },
  {
   "cell_type": "code",
   "execution_count": 9,
   "metadata": {
    "ExecuteTime": {
     "end_time": "2020-08-20T10:09:05.980279Z",
     "start_time": "2020-08-20T10:09:05.976288Z"
    }
   },
   "outputs": [],
   "source": [
    "uid1 = ['item_id', 'course_id', 'video_id']\n",
    "uid2 = ['item_id', 'course_id']\n",
    "sum_cols = ['watching_count', 'video_duration', 'local_watching_time',\n",
    "            'video_progress_time',  'local_watching_duration', 'video_watching_duration']"
   ]
  },
  {
   "cell_type": "code",
   "execution_count": 10,
   "metadata": {
    "ExecuteTime": {
     "end_time": "2020-08-20T10:10:01.365919Z",
     "start_time": "2020-08-20T10:09:05.981277Z"
    }
   },
   "outputs": [],
   "source": [
    "for i in sum_cols:\n",
    "    if i == 'watching_count':\n",
    "        # drop\n",
    "        data = df.groupby(uid1)['drop'].apply(list)\n",
    "        data = data.reset_index()\n",
    "        data['drop'] = data['drop'].map(lambda x: 1 if 1 in x else 0)\n",
    "        gc.collect()\n",
    "        \n",
    "        # local_end_time\n",
    "        tmp = df.groupby(uid1, as_index=False).agg({\n",
    "            'local_end_time': np.max\n",
    "        })\n",
    "        data = data.merge(tmp, on=uid1, how='left')\n",
    "        del tmp\n",
    "        gc.collect()\n",
    "        \n",
    "        tmp = df.groupby(uid1, as_index=False)[i].sum()\n",
    "        data = data.merge(tmp, on=uid1, how='left')\n",
    "        del tmp\n",
    "        gc.collect()\n",
    "    else:\n",
    "        tmp = df.groupby(uid1, as_index=False)[i].sum()\n",
    "        data = data.merge(tmp, on=uid1, how='left')\n",
    "        del tmp\n",
    "        gc.collect()"
   ]
  },
  {
   "cell_type": "code",
   "execution_count": 13,
   "metadata": {
    "ExecuteTime": {
     "end_time": "2020-08-20T10:10:01.627818Z",
     "start_time": "2020-08-20T10:10:01.615850Z"
    }
   },
   "outputs": [
    {
     "data": {
      "text/html": [
       "<div>\n",
       "<style scoped>\n",
       "    .dataframe tbody tr th:only-of-type {\n",
       "        vertical-align: middle;\n",
       "    }\n",
       "\n",
       "    .dataframe tbody tr th {\n",
       "        vertical-align: top;\n",
       "    }\n",
       "\n",
       "    .dataframe thead th {\n",
       "        text-align: right;\n",
       "    }\n",
       "</style>\n",
       "<table border=\"1\" class=\"dataframe\">\n",
       "  <thead>\n",
       "    <tr style=\"text-align: right;\">\n",
       "      <th></th>\n",
       "      <th>item_id</th>\n",
       "      <th>course_id</th>\n",
       "      <th>video_id</th>\n",
       "      <th>drop</th>\n",
       "      <th>watching_count</th>\n",
       "      <th>video_duration</th>\n",
       "      <th>local_watching_time</th>\n",
       "      <th>video_progress_time</th>\n",
       "      <th>local_duration</th>\n",
       "      <th>video_watching_duration</th>\n",
       "    </tr>\n",
       "  </thead>\n",
       "  <tbody>\n",
       "    <tr>\n",
       "      <th>0</th>\n",
       "      <td>U_1000763</td>\n",
       "      <td>HUBU+2017022703X+sp</td>\n",
       "      <td>V_1868fcc69aae4c84873693ab9625e970</td>\n",
       "      <td>0</td>\n",
       "      <td>3</td>\n",
       "      <td>491.0</td>\n",
       "      <td>510</td>\n",
       "      <td>506.982999</td>\n",
       "      <td>22690</td>\n",
       "      <td>491.0</td>\n",
       "    </tr>\n",
       "    <tr>\n",
       "      <th>1</th>\n",
       "      <td>U_1000763</td>\n",
       "      <td>HUBU+2017022703X+sp</td>\n",
       "      <td>V_2a08be8f69064c7ebb7951d07959ff12</td>\n",
       "      <td>0</td>\n",
       "      <td>34</td>\n",
       "      <td>251.0</td>\n",
       "      <td>527</td>\n",
       "      <td>493.441940</td>\n",
       "      <td>77050</td>\n",
       "      <td>251.0</td>\n",
       "    </tr>\n",
       "    <tr>\n",
       "      <th>2</th>\n",
       "      <td>U_1000763</td>\n",
       "      <td>HUBU+2017022703X+sp</td>\n",
       "      <td>V_31b0a46fe4b74381b55123228091b138</td>\n",
       "      <td>0</td>\n",
       "      <td>3</td>\n",
       "      <td>282.0</td>\n",
       "      <td>72</td>\n",
       "      <td>72.160000</td>\n",
       "      <td>77070</td>\n",
       "      <td>60.0</td>\n",
       "    </tr>\n",
       "    <tr>\n",
       "      <th>3</th>\n",
       "      <td>U_1000763</td>\n",
       "      <td>HUBU+2017022703X+sp</td>\n",
       "      <td>V_3f4d13f054974818948f6783c1a5bbfd</td>\n",
       "      <td>0</td>\n",
       "      <td>1</td>\n",
       "      <td>394.0</td>\n",
       "      <td>396</td>\n",
       "      <td>394.000000</td>\n",
       "      <td>396</td>\n",
       "      <td>394.0</td>\n",
       "    </tr>\n",
       "    <tr>\n",
       "      <th>4</th>\n",
       "      <td>U_1000763</td>\n",
       "      <td>HUBU+2017022703X+sp</td>\n",
       "      <td>V_7c71f2f189274698a773329684114ae5</td>\n",
       "      <td>0</td>\n",
       "      <td>54</td>\n",
       "      <td>395.0</td>\n",
       "      <td>1141</td>\n",
       "      <td>1138.059989</td>\n",
       "      <td>81800</td>\n",
       "      <td>395.0</td>\n",
       "    </tr>\n",
       "  </tbody>\n",
       "</table>\n",
       "</div>"
      ],
      "text/plain": [
       "     item_id            course_id                            video_id  drop  \\\n",
       "0  U_1000763  HUBU+2017022703X+sp  V_1868fcc69aae4c84873693ab9625e970     0   \n",
       "1  U_1000763  HUBU+2017022703X+sp  V_2a08be8f69064c7ebb7951d07959ff12     0   \n",
       "2  U_1000763  HUBU+2017022703X+sp  V_31b0a46fe4b74381b55123228091b138     0   \n",
       "3  U_1000763  HUBU+2017022703X+sp  V_3f4d13f054974818948f6783c1a5bbfd     0   \n",
       "4  U_1000763  HUBU+2017022703X+sp  V_7c71f2f189274698a773329684114ae5     0   \n",
       "\n",
       "   watching_count  video_duration  local_watching_time  video_progress_time  \\\n",
       "0               3           491.0                  510           506.982999   \n",
       "1              34           251.0                  527           493.441940   \n",
       "2               3           282.0                   72            72.160000   \n",
       "3               1           394.0                  396           394.000000   \n",
       "4              54           395.0                 1141          1138.059989   \n",
       "\n",
       "   local_duration  video_watching_duration  \n",
       "0           22690                    491.0  \n",
       "1           77050                    251.0  \n",
       "2           77070                     60.0  \n",
       "3             396                    394.0  \n",
       "4           81800                    395.0  "
      ]
     },
     "execution_count": 13,
     "metadata": {},
     "output_type": "execute_result"
    }
   ],
   "source": [
    "data.head()"
   ]
  },
  {
   "cell_type": "code",
   "execution_count": 14,
   "metadata": {
    "ExecuteTime": {
     "end_time": "2020-08-20T10:10:01.633833Z",
     "start_time": "2020-08-20T10:10:01.628815Z"
    }
   },
   "outputs": [
    {
     "data": {
      "text/plain": [
       "(727712, 10)"
      ]
     },
     "execution_count": 14,
     "metadata": {},
     "output_type": "execute_result"
    }
   ],
   "source": [
    "data.shape"
   ]
  },
  {
   "cell_type": "code",
   "execution_count": null,
   "metadata": {},
   "outputs": [],
   "source": [
    "# 倍速\n"
   ]
  },
  {
   "cell_type": "code",
   "execution_count": null,
   "metadata": {},
   "outputs": [],
   "source": [
    "# 是否将实际观看时长(停留在本视频的时间)-本视频的总长度\n",
    "data[] = data['local_watching_time'] - data['video_duration']"
   ]
  },
  {
   "cell_type": "code",
   "execution_count": 15,
   "metadata": {
    "ExecuteTime": {
     "end_time": "2020-08-20T10:10:01.675757Z",
     "start_time": "2020-08-20T10:10:01.634800Z"
    }
   },
   "outputs": [],
   "source": [
    "data['video_duration-local_watching_time'] = data['video_duration'] - data['local_watching_time']\n",
    "data['video_duration-video_progress_time'] = data['video_duration'] - data['video_progress_time']\n",
    "# data['video_duration/video_progress_time'] = data['video_duration'] / (data['video_progress_time'] + 0.0001)\n",
    "data['video_duration-local_watching_duration'] = data['video_duration'] - data['local_watching_duration']\n",
    "data['video_duration-video_watching_duration'] = data['video_duration'] - data['video_watching_duration']"
   ]
  },
  {
   "cell_type": "code",
   "execution_count": 16,
   "metadata": {
    "ExecuteTime": {
     "end_time": "2020-08-20T10:10:02.053110Z",
     "start_time": "2020-08-20T10:10:01.677687Z"
    }
   },
   "outputs": [
    {
     "data": {
      "text/plain": [
       "<matplotlib.axes._subplots.AxesSubplot at 0x24b4653dcf8>"
      ]
     },
     "execution_count": 16,
     "metadata": {},
     "output_type": "execute_result"
    },
    {
     "data": {
      "image/png": "[encoded data removed]",
      "text/plain": [
       "<Figure size 432x288 with 1 Axes>"
      ]
     },
     "metadata": {
      "needs_background": "light"
     },
     "output_type": "display_data"
    }
   ],
   "source": [
    "sns.distplot(data['video_duration-local_watching_time'])"
   ]
  },
  {
   "cell_type": "code",
   "execution_count": 17,
   "metadata": {
    "ExecuteTime": {
     "end_time": "2020-08-20T10:10:02.457330Z",
     "start_time": "2020-08-20T10:10:02.054078Z"
    }
   },
   "outputs": [
    {
     "data": {
      "text/plain": [
       "<matplotlib.axes._subplots.AxesSubplot at 0x24b5ebc4f60>"
      ]
     },
     "execution_count": 17,
     "metadata": {},
     "output_type": "execute_result"
    },
    {
     "data": {
      "image/png": "[encoded data removed]",
      "text/plain": [
       "<Figure size 432x288 with 1 Axes>"
      ]
     },
     "metadata": {
      "needs_background": "light"
     },
     "output_type": "display_data"
    }
   ],
   "source": [
    "sns.distplot(data['video_duration-video_progress_time'])"
   ]
  },
  {
   "cell_type": "code",
   "execution_count": 18,
   "metadata": {
    "ExecuteTime": {
     "end_time": "2020-08-20T10:10:02.887689Z",
     "start_time": "2020-08-20T10:10:02.458327Z"
    }
   },
   "outputs": [
    {
     "data": {
      "text/plain": [
       "<matplotlib.axes._subplots.AxesSubplot at 0x24b5eba1cf8>"
      ]
     },
     "execution_count": 18,
     "metadata": {},
     "output_type": "execute_result"
    },
    {
     "data": {
      "image/png": "[encoded data removed]",
      "text/plain": [
       "<Figure size 432x288 with 1 Axes>"
      ]
     },
     "metadata": {
      "needs_background": "light"
     },
     "output_type": "display_data"
    }
   ],
   "source": [
    "sns.distplot(data['video_duration/video_progress_time'])"
   ]
  },
  {
   "cell_type": "code",
   "execution_count": 19,
   "metadata": {
    "ExecuteTime": {
     "end_time": "2020-08-20T10:10:03.282694Z",
     "start_time": "2020-08-20T10:10:02.888685Z"
    }
   },
   "outputs": [
    {
     "data": {
      "text/plain": [
       "<matplotlib.axes._subplots.AxesSubplot at 0x24b49b26b70>"
      ]
     },
     "execution_count": 19,
     "metadata": {},
     "output_type": "execute_result"
    },
    {
     "data": {
      "image/png": "[encoded data removed]",
      "text/plain": [
       "<Figure size 432x288 with 1 Axes>"
      ]
     },
     "metadata": {
      "needs_background": "light"
     },
     "output_type": "display_data"
    }
   ],
   "source": [
    "sns.distplot(data['video_duration-local_duration'])"
   ]
  },
  {
   "cell_type": "code",
   "execution_count": 20,
   "metadata": {
    "ExecuteTime": {
     "end_time": "2020-08-20T10:10:03.643243Z",
     "start_time": "2020-08-20T10:10:03.283654Z"
    }
   },
   "outputs": [
    {
     "data": {
      "text/plain": [
       "<matplotlib.axes._subplots.AxesSubplot at 0x24b48fb44a8>"
      ]
     },
     "execution_count": 20,
     "metadata": {},
     "output_type": "execute_result"
    },
    {
     "data": {
      "image/png": "[encoded data removed]",
      "text/plain": [
       "<Figure size 432x288 with 1 Axes>"
      ]
     },
     "metadata": {
      "needs_background": "light"
     },
     "output_type": "display_data"
    }
   ],
   "source": [
    "sns.distplot(data['video_duration-video_watching_duration'])"
   ]
  },
  {
   "cell_type": "code",
   "execution_count": null,
   "metadata": {},
   "outputs": [],
   "source": []
  }
 ],
 "metadata": {
  "kernelspec": {
   "display_name": "Python 3",
   "language": "python",
   "name": "python3"
  },
  "language_info": {
   "codemirror_mode": {
    "name": "ipython",
    "version": 3
   },
   "file_extension": ".py",
   "mimetype": "text/x-python",
   "name": "python",
   "nbconvert_exporter": "python",
   "pygments_lexer": "ipython3",
   "version": "3.7.3"
  },
  "toc": {
   "base_numbering": 1,
   "nav_menu": {},
   "number_sections": true,
   "sideBar": true,
   "skip_h1_title": false,
   "title_cell": "Table of Contents",
   "title_sidebar": "Contents",
   "toc_cell": false,
   "toc_position": {},
   "toc_section_display": true,
   "toc_window_display": false
  },
  "varInspector": {
   "cols": {
    "lenName": 16,
    "lenType": 16,
    "lenVar": 40
   },
   "kernels_config": {
    "python": {
     "delete_cmd_postfix": "",
     "delete_cmd_prefix": "del ",
     "library": "var_list.py",
     "varRefreshCmd": "print(var_dic_list())"
    },
    "r": {
     "delete_cmd_postfix": ") ",
     "delete_cmd_prefix": "rm(",
     "library": "var_list.r",
     "varRefreshCmd": "cat(var_dic_list()) "
    }
   },
   "types_to_exclude": [
    "module",
    "function",
    "builtin_function_or_method",
    "instance",
    "_Feature"
   ],
   "window_display": false
  }
 },
 "nbformat": 4,
 "nbformat_minor": 4
}
