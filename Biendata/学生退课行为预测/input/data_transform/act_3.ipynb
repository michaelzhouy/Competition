{
 "cells": [
  {
   "cell_type": "code",
   "execution_count": null,
   "metadata": {},
   "outputs": [],
   "source": [
    "import pandas as pd\n",
    "import gc\n",
    "pd.set_option('max_columns', None)\n",
    "pd.set_option('max_rows', None)"
   ]
  },
  {
   "cell_type": "code",
   "execution_count": null,
   "metadata": {},
   "outputs": [],
   "source": [
    "df = pd.read_json('../Track1/user_video_act_train_3.json', lines=True)\n",
    "df.head()"
   ]
  },
  {
   "cell_type": "code",
   "execution_count": null,
   "metadata": {},
   "outputs": [],
   "source": [
    "act_3 = pd.DataFrame()"
   ]
  },
  {
   "cell_type": "code",
   "execution_count": null,
   "metadata": {},
   "outputs": [],
   "source": [
    "for i in range(len(df)):\n",
    "    print('*' * 10)\n",
    "    print(i)\n",
    "    course_id = []\n",
    "    video_id = []\n",
    "    watching_count = []\n",
    "    video_duration = []\n",
    "    local_watching_time = []\n",
    "    video_progress_time = []\n",
    "    video_start_time = []\n",
    "    video_end_time = []\n",
    "    local_start_time = []\n",
    "    local_end_time = []\n",
    "    # drop = []\n",
    "    for j in df.iloc[i, 1]:\n",
    "        course_id.append(j['course_id'].split(':')[1])\n",
    "        video_id.append(j['video_id'])\n",
    "        watching_count.append(j['watching_count'])\n",
    "        video_duration.append(j['video_duration'])\n",
    "        local_watching_time.append(j['local_watching_time'])\n",
    "        video_progress_time.append(j['video_progress_time'])\n",
    "        video_start_time.append(j['video_start_time'])\n",
    "        video_end_time.append(j['video_end_time'])\n",
    "        local_start_time.append(j['local_start_time'])\n",
    "        local_end_time.append(j['local_end_time'])\n",
    "        drop.append(j['drop'])\n",
    "    tmp = pd.DataFrame({'item_id': df.iloc[i, 0],\n",
    "                        'course_id': course_id,\n",
    "                        'video_id': video_id,\n",
    "                        'watching_count': watching_count,\n",
    "                        'video_duration': video_duration,\n",
    "                        'local_watching_time': local_watching_time,\n",
    "                        'video_progress_time': video_progress_time,\n",
    "                        'video_start_time': video_start_time,\n",
    "                        'video_end_time': video_end_time,\n",
    "                        'local_start_time': local_start_time,\n",
    "                        'local_end_time': local_end_time,\n",
    "                        'drop': -1})\n",
    "    act_43 = pd.concat([act_3, tmp], ignore_index=False, axis=1)\n",
    "    del tmp\n",
    "    gc.collect()"
   ]
  },
  {
   "cell_type": "code",
   "execution_count": null,
   "metadata": {},
   "outputs": [],
   "source": [
    "act_3.head().append(act_3.tail())"
   ]
  },
  {
   "cell_type": "code",
   "execution_count": null,
   "metadata": {},
   "outputs": [],
   "source": [
    "act_3.shape"
   ]
  },
  {
   "cell_type": "code",
   "execution_count": null,
   "metadata": {},
   "outputs": [],
   "source": [
    "act_3.to_csv('../../input/act_3.csv', index=False)\n",
    "act_3.to_hdf('../../input/act_3.h5', 'df', index=False)"
   ]
  }
 ],
 "metadata": {
  "kernelspec": {
   "display_name": "Python 3",
   "language": "python",
   "name": "python3"
  },
  "language_info": {
   "codemirror_mode": {
    "name": "ipython",
    "version": 3
   },
   "file_extension": ".py",
   "mimetype": "text/x-python",
   "name": "python",
   "nbconvert_exporter": "python",
   "pygments_lexer": "ipython3",
   "version": "3.7.3"
  },
  "toc": {
   "base_numbering": 1,
   "nav_menu": {},
   "number_sections": true,
   "sideBar": true,
   "skip_h1_title": false,
   "title_cell": "Table of Contents",
   "title_sidebar": "Contents",
   "toc_cell": false,
   "toc_position": {},
   "toc_section_display": true,
   "toc_window_display": false
  },
  "varInspector": {
   "cols": {
    "lenName": 16,
    "lenType": 16,
    "lenVar": 40
   },
   "kernels_config": {
    "python": {
     "delete_cmd_postfix": "",
     "delete_cmd_prefix": "del ",
     "library": "var_list.py",
     "varRefreshCmd": "print(var_dic_list())"
    },
    "r": {
     "delete_cmd_postfix": ") ",
     "delete_cmd_prefix": "rm(",
     "library": "var_list.r",
     "varRefreshCmd": "cat(var_dic_list()) "
    }
   },
   "types_to_exclude": [
    "module",
    "function",
    "builtin_function_or_method",
    "instance",
    "_Feature"
   ],
   "window_display": false
  }
 },
 "nbformat": 4,
 "nbformat_minor": 4
}
