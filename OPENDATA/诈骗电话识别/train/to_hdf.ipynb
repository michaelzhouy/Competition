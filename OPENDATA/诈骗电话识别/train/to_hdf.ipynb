{
 "cells": [
  {
   "cell_type": "code",
   "execution_count": 1,
   "metadata": {
    "ExecuteTime": {
     "end_time": "2020-06-07T15:22:26.078962Z",
     "start_time": "2020-06-07T15:22:23.292979Z"
    }
   },
   "outputs": [],
   "source": [
    "import numpy as np\n",
    "import pandas as pd\n",
    "import matplotlib.pyplot as plt\n",
    "import seaborn as sns\n",
    "import warnings\n",
    "from tqdm import tqdm\n",
    "from sklearn.preprocessing import LabelEncoder\n",
    "import gc\n",
    "import lightgbm as lgb\n",
    "from sklearn.model_selection import StratifiedKFold\n",
    "from sklearn.metrics import f1_score\n",
    "\n",
    "pd.set_option('max_columns', None)\n",
    "pd.set_option('max_rows', None)\n",
    "pd.set_option('max_colwidth', 200)\n",
    "\n",
    "warnings.filterwarnings('ignore')\n",
    "tqdm.pandas()\n",
    "\n",
    "%matplotlib inline"
   ]
  },
  {
   "cell_type": "code",
   "execution_count": 2,
   "metadata": {
    "ExecuteTime": {
     "end_time": "2020-06-07T15:22:26.106109Z",
     "start_time": "2020-06-07T15:22:26.078962Z"
    }
   },
   "outputs": [],
   "source": [
    "# 节省内存读文件\n",
    "def reduce_mem_usage(df):\n",
    "    \"\"\"\n",
    "    iterate through all the columns of a dataframe and modify the data type to reduce memory usage.\n",
    "    @param df:\n",
    "    @return:\n",
    "    \"\"\"\n",
    "    start_mem = df.memory_usage().sum()\n",
    "    print('Memory usage of dataframe is {:.2f} MB'.format(start_mem))\n",
    "\n",
    "    for col in df.columns:\n",
    "        col_type = df[col].dtype\n",
    "\n",
    "        if col_type != object:\n",
    "            c_min = df[col].min()\n",
    "            c_max = df[col].max()\n",
    "            if str(col_type)[:3] == 'int':\n",
    "                if c_min > np.iinfo(np.int8).min and c_max < np.iinfo(np.int8).max:\n",
    "                    df[col] = df[col].astype(np.int8)\n",
    "                elif c_min > np.iinfo(np.int16).min and c_max < np.iinfo(np.int16).max:\n",
    "                    df[col] = df[col].astype(np.int16)\n",
    "                elif c_min > np.iinfo(np.int32).min and c_max < np.iinfo(np.int32).max:\n",
    "                    df[col] = df[col].astype(np.int32)\n",
    "                elif c_min > np.iinfo(np.int64).min and c_max < np.iinfo(np.int64).max:\n",
    "                    df[col] = df[col].astype(np.int64)\n",
    "            else:\n",
    "                if c_min > np.finfo(np.float16).min and c_max < np.finfo(np.float16).max:\n",
    "                    df[col] = df[col].astype(np.float16)\n",
    "                elif c_min > np.finfo(np.float32).min and c_max < np.finfo(np.float32).max:\n",
    "                    df[col] = df[col].astype(np.float32)\n",
    "                else:\n",
    "                    df[col] = df[col].astype(np.float64)\n",
    "        else:\n",
    "            df[col] = df[col].astype('str')\n",
    "\n",
    "    end_mem = df.memory_usage().sum()\n",
    "    print('Memory usage after optimization is: {:.2f} MB'.format(end_mem))\n",
    "    print('Decreased by {:.1f}%'.format(100 * (start_mem - end_mem) / start_mem))\n",
    "    return df"
   ]
  },
  {
   "cell_type": "markdown",
   "metadata": {},
   "source": [
    "### 用户表"
   ]
  },
  {
   "cell_type": "code",
   "execution_count": 3,
   "metadata": {
    "ExecuteTime": {
     "end_time": "2020-06-07T15:22:26.215046Z",
     "start_time": "2020-06-07T15:22:26.110107Z"
    }
   },
   "outputs": [
    {
     "name": "stdout",
     "output_type": "stream",
     "text": [
      "Memory usage of dataframe is 635104.00 MB\n",
      "Memory usage after optimization is: 256532.00 MB\n",
      "Decreased by 59.6%\n",
      "Memory usage of dataframe is 81880.00 MB\n",
      "Memory usage after optimization is: 55295.00 MB\n",
      "Decreased by 32.5%\n"
     ]
    }
   ],
   "source": [
    "train_user = reduce_mem_usage(pd.read_csv('../input/train/train_user.csv'))\n",
    "test_user = reduce_mem_usage(pd.read_csv('../input/test/test_user.csv'))"
   ]
  },
  {
   "cell_type": "code",
   "execution_count": 4,
   "metadata": {
    "ExecuteTime": {
     "end_time": "2020-06-07T15:22:26.253026Z",
     "start_time": "2020-06-07T15:22:26.218045Z"
    }
   },
   "outputs": [
    {
     "data": {
      "text/html": [
       "<div>\n",
       "<style scoped>\n",
       "    .dataframe tbody tr th:only-of-type {\n",
       "        vertical-align: middle;\n",
       "    }\n",
       "\n",
       "    .dataframe tbody tr th {\n",
       "        vertical-align: top;\n",
       "    }\n",
       "\n",
       "    .dataframe thead th {\n",
       "        text-align: right;\n",
       "    }\n",
       "</style>\n",
       "<table border=\"1\" class=\"dataframe\">\n",
       "  <thead>\n",
       "    <tr style=\"text-align: right;\">\n",
       "      <th></th>\n",
       "      <th>phone_no_m</th>\n",
       "      <th>city_name</th>\n",
       "      <th>county_name</th>\n",
       "      <th>idcard_cnt</th>\n",
       "      <th>arpu_201908</th>\n",
       "      <th>arpu_201909</th>\n",
       "      <th>arpu_201910</th>\n",
       "      <th>arpu_201911</th>\n",
       "      <th>arpu_201912</th>\n",
       "      <th>arpu_202001</th>\n",
       "      <th>arpu_202002</th>\n",
       "      <th>arpu_202003</th>\n",
       "      <th>label</th>\n",
       "    </tr>\n",
       "  </thead>\n",
       "  <tbody>\n",
       "    <tr>\n",
       "      <th>0</th>\n",
       "      <td>672ddbf02a5544d32e4ecc9433b1981bffe23bf912273a3a835f6cccb78b8ed7554e9ab0fbcd33d19eb6063ce00542dd223cc5cc83c68f07bcf933547b6776b1</td>\n",
       "      <td>绵阳</td>\n",
       "      <td>江油分公司</td>\n",
       "      <td>1</td>\n",
       "      <td>46.062500</td>\n",
       "      <td>45.000000</td>\n",
       "      <td>45.000</td>\n",
       "      <td>45.00000</td>\n",
       "      <td>45.00000</td>\n",
       "      <td>45.00000</td>\n",
       "      <td>45.00000</td>\n",
       "      <td>45.000000</td>\n",
       "      <td>0</td>\n",
       "    </tr>\n",
       "    <tr>\n",
       "      <th>1</th>\n",
       "      <td>5e1272273e041e82cb275ae877710be98cdaf5b0a8f34de8d361f71d5268fa0851edffd3950e170df1e3846fcf90cc7cc8299be9139a2ac4b5c5e5121d832674</td>\n",
       "      <td>德阳</td>\n",
       "      <td>旌阳分公司</td>\n",
       "      <td>1</td>\n",
       "      <td>79.000000</td>\n",
       "      <td>79.187500</td>\n",
       "      <td>79.125</td>\n",
       "      <td>79.31250</td>\n",
       "      <td>41.40625</td>\n",
       "      <td>34.09375</td>\n",
       "      <td>59.40625</td>\n",
       "      <td>60.000000</td>\n",
       "      <td>0</td>\n",
       "    </tr>\n",
       "    <tr>\n",
       "      <th>2</th>\n",
       "      <td>eaab3472ec87b076e69e6e8bb62b14341638fc63661a6c682d6add360a4332a8ad294d8470d64a73c6e53e8413f0ad93b9ea65afab717e58d312554f33553ee7</td>\n",
       "      <td>成都</td>\n",
       "      <td>金堂分公司</td>\n",
       "      <td>2</td>\n",
       "      <td>18.843750</td>\n",
       "      <td>24.453125</td>\n",
       "      <td>22.000</td>\n",
       "      <td>21.40625</td>\n",
       "      <td>22.15625</td>\n",
       "      <td>21.09375</td>\n",
       "      <td>61.31250</td>\n",
       "      <td>63.000000</td>\n",
       "      <td>0</td>\n",
       "    </tr>\n",
       "    <tr>\n",
       "      <th>3</th>\n",
       "      <td>0ce1bb415704178bf44e9c9b431a39b083a132c8e6d99f3627cd4520064b93ec66a72d085a67f0f40eebb9f901072965073e398f04c4ae500a1db4dfb13a972c</td>\n",
       "      <td>成都</td>\n",
       "      <td>高新分公司</td>\n",
       "      <td>2</td>\n",
       "      <td>19.203125</td>\n",
       "      <td>29.656250</td>\n",
       "      <td>130.375</td>\n",
       "      <td>173.12500</td>\n",
       "      <td>19.00000</td>\n",
       "      <td>19.00000</td>\n",
       "      <td>19.00000</td>\n",
       "      <td>23.203125</td>\n",
       "      <td>0</td>\n",
       "    </tr>\n",
       "    <tr>\n",
       "      <th>4</th>\n",
       "      <td>28b87f35f63f65096a53e3a4c97eaffd4a6c43ffa7e92d7706b20520aa11fff0f4ce06203f66758ec0f0e70780e4e258aae6aa1f23439e115528e08eda71ed20</td>\n",
       "      <td>德阳</td>\n",
       "      <td>旌阳分公司</td>\n",
       "      <td>1</td>\n",
       "      <td>50.000000</td>\n",
       "      <td>50.000000</td>\n",
       "      <td>50.000</td>\n",
       "      <td>50.00000</td>\n",
       "      <td>50.00000</td>\n",
       "      <td>50.00000</td>\n",
       "      <td>50.00000</td>\n",
       "      <td>50.000000</td>\n",
       "      <td>0</td>\n",
       "    </tr>\n",
       "  </tbody>\n",
       "</table>\n",
       "</div>"
      ],
      "text/plain": [
       "                                                                                                                         phone_no_m  \\\n",
       "0  672ddbf02a5544d32e4ecc9433b1981bffe23bf912273a3a835f6cccb78b8ed7554e9ab0fbcd33d19eb6063ce00542dd223cc5cc83c68f07bcf933547b6776b1   \n",
       "1  5e1272273e041e82cb275ae877710be98cdaf5b0a8f34de8d361f71d5268fa0851edffd3950e170df1e3846fcf90cc7cc8299be9139a2ac4b5c5e5121d832674   \n",
       "2  eaab3472ec87b076e69e6e8bb62b14341638fc63661a6c682d6add360a4332a8ad294d8470d64a73c6e53e8413f0ad93b9ea65afab717e58d312554f33553ee7   \n",
       "3  0ce1bb415704178bf44e9c9b431a39b083a132c8e6d99f3627cd4520064b93ec66a72d085a67f0f40eebb9f901072965073e398f04c4ae500a1db4dfb13a972c   \n",
       "4  28b87f35f63f65096a53e3a4c97eaffd4a6c43ffa7e92d7706b20520aa11fff0f4ce06203f66758ec0f0e70780e4e258aae6aa1f23439e115528e08eda71ed20   \n",
       "\n",
       "  city_name county_name  idcard_cnt  arpu_201908  arpu_201909  arpu_201910  \\\n",
       "0        绵阳       江油分公司           1    46.062500    45.000000       45.000   \n",
       "1        德阳       旌阳分公司           1    79.000000    79.187500       79.125   \n",
       "2        成都       金堂分公司           2    18.843750    24.453125       22.000   \n",
       "3        成都       高新分公司           2    19.203125    29.656250      130.375   \n",
       "4        德阳       旌阳分公司           1    50.000000    50.000000       50.000   \n",
       "\n",
       "   arpu_201911  arpu_201912  arpu_202001  arpu_202002  arpu_202003  label  \n",
       "0     45.00000     45.00000     45.00000     45.00000    45.000000      0  \n",
       "1     79.31250     41.40625     34.09375     59.40625    60.000000      0  \n",
       "2     21.40625     22.15625     21.09375     61.31250    63.000000      0  \n",
       "3    173.12500     19.00000     19.00000     19.00000    23.203125      0  \n",
       "4     50.00000     50.00000     50.00000     50.00000    50.000000      0  "
      ]
     },
     "execution_count": 4,
     "metadata": {},
     "output_type": "execute_result"
    }
   ],
   "source": [
    "train_user.head()"
   ]
  },
  {
   "cell_type": "code",
   "execution_count": 5,
   "metadata": {
    "ExecuteTime": {
     "end_time": "2020-06-07T15:22:26.277012Z",
     "start_time": "2020-06-07T15:22:26.258022Z"
    }
   },
   "outputs": [
    {
     "data": {
      "text/html": [
       "<div>\n",
       "<style scoped>\n",
       "    .dataframe tbody tr th:only-of-type {\n",
       "        vertical-align: middle;\n",
       "    }\n",
       "\n",
       "    .dataframe tbody tr th {\n",
       "        vertical-align: top;\n",
       "    }\n",
       "\n",
       "    .dataframe thead th {\n",
       "        text-align: right;\n",
       "    }\n",
       "</style>\n",
       "<table border=\"1\" class=\"dataframe\">\n",
       "  <thead>\n",
       "    <tr style=\"text-align: right;\">\n",
       "      <th></th>\n",
       "      <th>phone_no_m</th>\n",
       "      <th>city_name</th>\n",
       "      <th>county_name</th>\n",
       "      <th>idcard_cnt</th>\n",
       "      <th>arpu_202004</th>\n",
       "    </tr>\n",
       "  </thead>\n",
       "  <tbody>\n",
       "    <tr>\n",
       "      <th>0</th>\n",
       "      <td>22d522340df77e2252c1a4d92b4bcb00d515e36f3ec6bf94e017b4ffd67e26520af18637ad91bde69abd831cc36cdc0c5af5e57bc280f95f79efef7bfa9c6926</td>\n",
       "      <td>成都</td>\n",
       "      <td>金牛分公司</td>\n",
       "      <td>1</td>\n",
       "      <td>9.00</td>\n",
       "    </tr>\n",
       "    <tr>\n",
       "      <th>1</th>\n",
       "      <td>5220d4b8429bdba3971a7b46a088c6b8fa6710f40607598ac1219daab6071510b3f66f78637420574dbb2d5488d44de9d4360a644bbe4ec45aaa4b7513bdc886</td>\n",
       "      <td>天府新区</td>\n",
       "      <td>天府直属部门</td>\n",
       "      <td>1</td>\n",
       "      <td>NaN</td>\n",
       "    </tr>\n",
       "    <tr>\n",
       "      <th>2</th>\n",
       "      <td>7d19dd2b50ced56f03d23bf928cf34dc570a48525571a868ffdcdc53a865b7a41c386a6f1d6567dd4a710530b933308c77d1ef89f77b580d1983dadd3de162ea</td>\n",
       "      <td>成都</td>\n",
       "      <td>锦江分公司</td>\n",
       "      <td>1</td>\n",
       "      <td>9.00</td>\n",
       "    </tr>\n",
       "    <tr>\n",
       "      <th>3</th>\n",
       "      <td>134a4a591185c9d3788021896dcfc235e9e0a6a1e3f8a4fd3a9f9d9bf4a033e791b7199db980b0678020bdf689d719306a5c694ffa47b4ba2bec43ceda68dfc1</td>\n",
       "      <td>绵阳</td>\n",
       "      <td>江油分公司</td>\n",
       "      <td>1</td>\n",
       "      <td>138.75</td>\n",
       "    </tr>\n",
       "    <tr>\n",
       "      <th>4</th>\n",
       "      <td>2356dcd6759d50455ddaeed03c838843558e9182d5962f8a4c81a9a178063c49ab988750f795bb6c5462aee5dace2ad9fd18dbb1a6619dbb1e771e9b0f192da9</td>\n",
       "      <td>成都</td>\n",
       "      <td>青羊分公司</td>\n",
       "      <td>2</td>\n",
       "      <td>39.00</td>\n",
       "    </tr>\n",
       "  </tbody>\n",
       "</table>\n",
       "</div>"
      ],
      "text/plain": [
       "                                                                                                                         phone_no_m  \\\n",
       "0  22d522340df77e2252c1a4d92b4bcb00d515e36f3ec6bf94e017b4ffd67e26520af18637ad91bde69abd831cc36cdc0c5af5e57bc280f95f79efef7bfa9c6926   \n",
       "1  5220d4b8429bdba3971a7b46a088c6b8fa6710f40607598ac1219daab6071510b3f66f78637420574dbb2d5488d44de9d4360a644bbe4ec45aaa4b7513bdc886   \n",
       "2  7d19dd2b50ced56f03d23bf928cf34dc570a48525571a868ffdcdc53a865b7a41c386a6f1d6567dd4a710530b933308c77d1ef89f77b580d1983dadd3de162ea   \n",
       "3  134a4a591185c9d3788021896dcfc235e9e0a6a1e3f8a4fd3a9f9d9bf4a033e791b7199db980b0678020bdf689d719306a5c694ffa47b4ba2bec43ceda68dfc1   \n",
       "4  2356dcd6759d50455ddaeed03c838843558e9182d5962f8a4c81a9a178063c49ab988750f795bb6c5462aee5dace2ad9fd18dbb1a6619dbb1e771e9b0f192da9   \n",
       "\n",
       "  city_name county_name  idcard_cnt  arpu_202004  \n",
       "0        成都       金牛分公司           1         9.00  \n",
       "1      天府新区      天府直属部门           1          NaN  \n",
       "2        成都       锦江分公司           1         9.00  \n",
       "3        绵阳       江油分公司           1       138.75  \n",
       "4        成都       青羊分公司           2        39.00  "
      ]
     },
     "execution_count": 5,
     "metadata": {},
     "output_type": "execute_result"
    }
   ],
   "source": [
    "test_user.head()"
   ]
  },
  {
   "cell_type": "code",
   "execution_count": 6,
   "metadata": {
    "ExecuteTime": {
     "end_time": "2020-06-07T15:22:26.393945Z",
     "start_time": "2020-06-07T15:22:26.280009Z"
    }
   },
   "outputs": [
    {
     "data": {
      "text/plain": [
       "<matplotlib.axes._subplots.AxesSubplot at 0x194adbd1d68>"
      ]
     },
     "execution_count": 6,
     "metadata": {},
     "output_type": "execute_result"
    },
    {
     "data": {
      "image/png": "[encoded data removed]",
      "text/plain": [
       "<Figure size 432x288 with 1 Axes>"
      ]
     },
     "metadata": {},
     "output_type": "display_data"
    }
   ],
   "source": [
    "train_user.label.value_counts().plot.pie()"
   ]
  },
  {
   "cell_type": "code",
   "execution_count": 7,
   "metadata": {
    "ExecuteTime": {
     "end_time": "2020-06-07T15:22:26.404937Z",
     "start_time": "2020-06-07T15:22:26.397943Z"
    }
   },
   "outputs": [
    {
     "data": {
      "text/plain": [
       "0.321323288568621"
      ]
     },
     "execution_count": 7,
     "metadata": {},
     "output_type": "execute_result"
    }
   ],
   "source": [
    "train_user['label'].mean()"
   ]
  },
  {
   "cell_type": "code",
   "execution_count": 8,
   "metadata": {
    "ExecuteTime": {
     "end_time": "2020-06-07T15:22:26.415931Z",
     "start_time": "2020-06-07T15:22:26.408936Z"
    }
   },
   "outputs": [
    {
     "data": {
      "text/plain": [
       "((6106, 13), (2045, 5))"
      ]
     },
     "execution_count": 8,
     "metadata": {},
     "output_type": "execute_result"
    }
   ],
   "source": [
    "train_user.shape, test_user.shape"
   ]
  },
  {
   "cell_type": "code",
   "execution_count": 9,
   "metadata": {
    "ExecuteTime": {
     "end_time": "2020-06-07T15:22:26.447913Z",
     "start_time": "2020-06-07T15:22:26.418931Z"
    }
   },
   "outputs": [
    {
     "data": {
      "text/html": [
       "<div>\n",
       "<style scoped>\n",
       "    .dataframe tbody tr th:only-of-type {\n",
       "        vertical-align: middle;\n",
       "    }\n",
       "\n",
       "    .dataframe tbody tr th {\n",
       "        vertical-align: top;\n",
       "    }\n",
       "\n",
       "    .dataframe thead th {\n",
       "        text-align: right;\n",
       "    }\n",
       "</style>\n",
       "<table border=\"1\" class=\"dataframe\">\n",
       "  <thead>\n",
       "    <tr style=\"text-align: right;\">\n",
       "      <th></th>\n",
       "      <th>phone_no_m</th>\n",
       "      <th>city_name</th>\n",
       "      <th>county_name</th>\n",
       "      <th>idcard_cnt</th>\n",
       "      <th>label</th>\n",
       "      <th>arpu_202004</th>\n",
       "    </tr>\n",
       "  </thead>\n",
       "  <tbody>\n",
       "    <tr>\n",
       "      <th>0</th>\n",
       "      <td>672ddbf02a5544d32e4ecc9433b1981bffe23bf912273a3a835f6cccb78b8ed7554e9ab0fbcd33d19eb6063ce00542dd223cc5cc83c68f07bcf933547b6776b1</td>\n",
       "      <td>绵阳</td>\n",
       "      <td>江油分公司</td>\n",
       "      <td>1</td>\n",
       "      <td>0</td>\n",
       "      <td>45.000000</td>\n",
       "    </tr>\n",
       "    <tr>\n",
       "      <th>1</th>\n",
       "      <td>5e1272273e041e82cb275ae877710be98cdaf5b0a8f34de8d361f71d5268fa0851edffd3950e170df1e3846fcf90cc7cc8299be9139a2ac4b5c5e5121d832674</td>\n",
       "      <td>德阳</td>\n",
       "      <td>旌阳分公司</td>\n",
       "      <td>1</td>\n",
       "      <td>0</td>\n",
       "      <td>60.000000</td>\n",
       "    </tr>\n",
       "    <tr>\n",
       "      <th>2</th>\n",
       "      <td>eaab3472ec87b076e69e6e8bb62b14341638fc63661a6c682d6add360a4332a8ad294d8470d64a73c6e53e8413f0ad93b9ea65afab717e58d312554f33553ee7</td>\n",
       "      <td>成都</td>\n",
       "      <td>金堂分公司</td>\n",
       "      <td>2</td>\n",
       "      <td>0</td>\n",
       "      <td>63.000000</td>\n",
       "    </tr>\n",
       "    <tr>\n",
       "      <th>3</th>\n",
       "      <td>0ce1bb415704178bf44e9c9b431a39b083a132c8e6d99f3627cd4520064b93ec66a72d085a67f0f40eebb9f901072965073e398f04c4ae500a1db4dfb13a972c</td>\n",
       "      <td>成都</td>\n",
       "      <td>高新分公司</td>\n",
       "      <td>2</td>\n",
       "      <td>0</td>\n",
       "      <td>23.203125</td>\n",
       "    </tr>\n",
       "    <tr>\n",
       "      <th>4</th>\n",
       "      <td>28b87f35f63f65096a53e3a4c97eaffd4a6c43ffa7e92d7706b20520aa11fff0f4ce06203f66758ec0f0e70780e4e258aae6aa1f23439e115528e08eda71ed20</td>\n",
       "      <td>德阳</td>\n",
       "      <td>旌阳分公司</td>\n",
       "      <td>1</td>\n",
       "      <td>0</td>\n",
       "      <td>50.000000</td>\n",
       "    </tr>\n",
       "  </tbody>\n",
       "</table>\n",
       "</div>"
      ],
      "text/plain": [
       "                                                                                                                         phone_no_m  \\\n",
       "0  672ddbf02a5544d32e4ecc9433b1981bffe23bf912273a3a835f6cccb78b8ed7554e9ab0fbcd33d19eb6063ce00542dd223cc5cc83c68f07bcf933547b6776b1   \n",
       "1  5e1272273e041e82cb275ae877710be98cdaf5b0a8f34de8d361f71d5268fa0851edffd3950e170df1e3846fcf90cc7cc8299be9139a2ac4b5c5e5121d832674   \n",
       "2  eaab3472ec87b076e69e6e8bb62b14341638fc63661a6c682d6add360a4332a8ad294d8470d64a73c6e53e8413f0ad93b9ea65afab717e58d312554f33553ee7   \n",
       "3  0ce1bb415704178bf44e9c9b431a39b083a132c8e6d99f3627cd4520064b93ec66a72d085a67f0f40eebb9f901072965073e398f04c4ae500a1db4dfb13a972c   \n",
       "4  28b87f35f63f65096a53e3a4c97eaffd4a6c43ffa7e92d7706b20520aa11fff0f4ce06203f66758ec0f0e70780e4e258aae6aa1f23439e115528e08eda71ed20   \n",
       "\n",
       "  city_name county_name  idcard_cnt  label  arpu_202004  \n",
       "0        绵阳       江油分公司           1      0    45.000000  \n",
       "1        德阳       旌阳分公司           1      0    60.000000  \n",
       "2        成都       金堂分公司           2      0    63.000000  \n",
       "3        成都       高新分公司           2      0    23.203125  \n",
       "4        德阳       旌阳分公司           1      0    50.000000  "
      ]
     },
     "execution_count": 9,
     "metadata": {},
     "output_type": "execute_result"
    }
   ],
   "source": [
    "# 训练集只取最后一个月的数据\n",
    "train_user['arpu_202004'] = train_user['arpu_202003']\n",
    "\n",
    "train_user.drop(['arpu_201908', 'arpu_201909', 'arpu_201910', 'arpu_201911',\n",
    "                 'arpu_201912', 'arpu_202001', 'arpu_202002', 'arpu_202003'],\n",
    "                axis=1,\n",
    "                inplace=True)\n",
    "train_user.head()"
   ]
  },
  {
   "cell_type": "code",
   "execution_count": 10,
   "metadata": {
    "ExecuteTime": {
     "end_time": "2020-06-07T15:22:26.653918Z",
     "start_time": "2020-06-07T15:22:26.451912Z"
    }
   },
   "outputs": [],
   "source": [
    "train_user.to_hdf('../input/train_user.h5', 'df')\n",
    "test_user.to_hdf('../input/test_user.h5', 'df')"
   ]
  },
  {
   "cell_type": "markdown",
   "metadata": {},
   "source": [
    "### 通话表"
   ]
  },
  {
   "cell_type": "code",
   "execution_count": 11,
   "metadata": {
    "ExecuteTime": {
     "end_time": "2020-06-07T15:22:52.512517Z",
     "start_time": "2020-06-07T15:22:26.655905Z"
    }
   },
   "outputs": [
    {
     "name": "stdout",
     "output_type": "stream",
     "text": [
      "Memory usage of dataframe is 320987600.00 MB\n",
      "Memory usage after optimization is: 255787010.00 MB\n",
      "Decreased by 20.3%\n",
      "Memory usage of dataframe is 17697488.00 MB\n",
      "Memory usage after optimization is: 14102702.00 MB\n",
      "Decreased by 20.3%\n"
     ]
    }
   ],
   "source": [
    "train_voc = reduce_mem_usage(pd.read_csv('../input/train/train_voc.csv'))\n",
    "test_voc = reduce_mem_usage(pd.read_csv('../input/test/test_voc.csv'))"
   ]
  },
  {
   "cell_type": "code",
   "execution_count": 12,
   "metadata": {
    "ExecuteTime": {
     "end_time": "2020-06-07T15:22:52.537501Z",
     "start_time": "2020-06-07T15:22:52.516514Z"
    }
   },
   "outputs": [
    {
     "data": {
      "text/html": [
       "<div>\n",
       "<style scoped>\n",
       "    .dataframe tbody tr th:only-of-type {\n",
       "        vertical-align: middle;\n",
       "    }\n",
       "\n",
       "    .dataframe tbody tr th {\n",
       "        vertical-align: top;\n",
       "    }\n",
       "\n",
       "    .dataframe thead th {\n",
       "        text-align: right;\n",
       "    }\n",
       "</style>\n",
       "<table border=\"1\" class=\"dataframe\">\n",
       "  <thead>\n",
       "    <tr style=\"text-align: right;\">\n",
       "      <th></th>\n",
       "      <th>phone_no_m</th>\n",
       "      <th>opposite_no_m</th>\n",
       "      <th>calltype_id</th>\n",
       "      <th>start_datetime</th>\n",
       "      <th>call_dur</th>\n",
       "      <th>city_name</th>\n",
       "      <th>county_name</th>\n",
       "      <th>imei_m</th>\n",
       "    </tr>\n",
       "  </thead>\n",
       "  <tbody>\n",
       "    <tr>\n",
       "      <th>0</th>\n",
       "      <td>3b6bef554a4754fa9977b50d99e6777c9fb26e585961a453bab3a2eba9f25eb510376bb89a345fb1a073e3a99da296d0f3c40aec8d0b4efd159eae4acb46f3c8</td>\n",
       "      <td>3572f19c52faeea5111ddd79dfc3643171d00e6d8b3fd9d6d04701a1873702a50004019f70d8a4c766d24e7768d356f6420ca28e27a7b0343f0acf3116655a58</td>\n",
       "      <td>2</td>\n",
       "      <td>2019-10-17 17:16:25</td>\n",
       "      <td>13</td>\n",
       "      <td>nan</td>\n",
       "      <td>nan</td>\n",
       "      <td>d2940d7cde5092d809af2e4bb8f6936a405382bd541542c5ccbb9d577d7d340ea032cca1174d33cca05393fbfd45fc0715198781d726679a09db74dac778c9c5</td>\n",
       "    </tr>\n",
       "    <tr>\n",
       "      <th>1</th>\n",
       "      <td>3b6bef554a4754fa9977b50d99e6777c9fb26e585961a453bab3a2eba9f25eb510376bb89a345fb1a073e3a99da296d0f3c40aec8d0b4efd159eae4acb46f3c8</td>\n",
       "      <td>3572f19c52faeea5111ddd79dfc3643171d00e6d8b3fd9d6d04701a1873702a50004019f70d8a4c766d24e7768d356f6420ca28e27a7b0343f0acf3116655a58</td>\n",
       "      <td>2</td>\n",
       "      <td>2019-10-17 17:36:20</td>\n",
       "      <td>16</td>\n",
       "      <td>nan</td>\n",
       "      <td>nan</td>\n",
       "      <td>d2940d7cde5092d809af2e4bb8f6936a405382bd541542c5ccbb9d577d7d340ea032cca1174d33cca05393fbfd45fc0715198781d726679a09db74dac778c9c5</td>\n",
       "    </tr>\n",
       "    <tr>\n",
       "      <th>2</th>\n",
       "      <td>ecd1b3f5a38576ef9872d1cb7a762f31869153de736e7aa43742ebd2ce6ffac1e6be304c79819a8f3770c1546b11f779be225ff0d0a18eb02f29ca4ef2c964ce</td>\n",
       "      <td>c386d11d5203136e924e070afcac734cdaea6691472e841fe981d839abdb7c9ad794024c7c484b86d5cf5553a1531079a1a3e3ec1e932cea62293d0d04eb13b7</td>\n",
       "      <td>1</td>\n",
       "      <td>2019-08-28 09:46:50</td>\n",
       "      <td>18</td>\n",
       "      <td>nan</td>\n",
       "      <td>nan</td>\n",
       "      <td>071e8dcb4010c643c48339cb8abf4a69e03b37afade98ded48ae19b2dafe965f5b28299131441a068b066588492389a3e66c3105f3cd5ab8c3eefff0015373f5</td>\n",
       "    </tr>\n",
       "    <tr>\n",
       "      <th>3</th>\n",
       "      <td>41a97bdfe77f3210deba78689baecb110922878be2f14c2b17416d04da12fe75fe3ecd80de2be43f5f2615557640e588d08b81d504d73f25aa7a40726d3acf4d</td>\n",
       "      <td>79ef199a532bcb9a89990d0996cee3d40557f06b9e5265fee8357eaca7735ec4ed65670d446c09482c535bd4eb1e3e07c5bd49704e49b50958b2e54c34f29a7b</td>\n",
       "      <td>1</td>\n",
       "      <td>2019-09-18 16:19:20</td>\n",
       "      <td>34</td>\n",
       "      <td>nan</td>\n",
       "      <td>nan</td>\n",
       "      <td>5f054945a5037e688abe0ef36d88a0fd351d476e3320c22cb3da7692d4ba4ba3e7752253ef74c6af1763089b830687d06535dfc6ba4f411196889364868425af</td>\n",
       "    </tr>\n",
       "    <tr>\n",
       "      <th>4</th>\n",
       "      <td>41a97bdfe77f3210deba78689baecb110922878be2f14c2b17416d04da12fe75fe3ecd80de2be43f5f2615557640e588d08b81d504d73f25aa7a40726d3acf4d</td>\n",
       "      <td>e273542129cf7fa37c28d3f4c95b7b9e8bcb561bbabc50063a1a5a1fd133a14f62f8a59649e5dffacccdb661300a7ef5aaea710b8a1155c4904647d9d5877e49</td>\n",
       "      <td>2</td>\n",
       "      <td>2019-09-18 16:18:46</td>\n",
       "      <td>23</td>\n",
       "      <td>nan</td>\n",
       "      <td>nan</td>\n",
       "      <td>5f054945a5037e688abe0ef36d88a0fd351d476e3320c22cb3da7692d4ba4ba3e7752253ef74c6af1763089b830687d06535dfc6ba4f411196889364868425af</td>\n",
       "    </tr>\n",
       "  </tbody>\n",
       "</table>\n",
       "</div>"
      ],
      "text/plain": [
       "                                                                                                                         phone_no_m  \\\n",
       "0  3b6bef554a4754fa9977b50d99e6777c9fb26e585961a453bab3a2eba9f25eb510376bb89a345fb1a073e3a99da296d0f3c40aec8d0b4efd159eae4acb46f3c8   \n",
       "1  3b6bef554a4754fa9977b50d99e6777c9fb26e585961a453bab3a2eba9f25eb510376bb89a345fb1a073e3a99da296d0f3c40aec8d0b4efd159eae4acb46f3c8   \n",
       "2  ecd1b3f5a38576ef9872d1cb7a762f31869153de736e7aa43742ebd2ce6ffac1e6be304c79819a8f3770c1546b11f779be225ff0d0a18eb02f29ca4ef2c964ce   \n",
       "3  41a97bdfe77f3210deba78689baecb110922878be2f14c2b17416d04da12fe75fe3ecd80de2be43f5f2615557640e588d08b81d504d73f25aa7a40726d3acf4d   \n",
       "4  41a97bdfe77f3210deba78689baecb110922878be2f14c2b17416d04da12fe75fe3ecd80de2be43f5f2615557640e588d08b81d504d73f25aa7a40726d3acf4d   \n",
       "\n",
       "                                                                                                                      opposite_no_m  \\\n",
       "0  3572f19c52faeea5111ddd79dfc3643171d00e6d8b3fd9d6d04701a1873702a50004019f70d8a4c766d24e7768d356f6420ca28e27a7b0343f0acf3116655a58   \n",
       "1  3572f19c52faeea5111ddd79dfc3643171d00e6d8b3fd9d6d04701a1873702a50004019f70d8a4c766d24e7768d356f6420ca28e27a7b0343f0acf3116655a58   \n",
       "2  c386d11d5203136e924e070afcac734cdaea6691472e841fe981d839abdb7c9ad794024c7c484b86d5cf5553a1531079a1a3e3ec1e932cea62293d0d04eb13b7   \n",
       "3  79ef199a532bcb9a89990d0996cee3d40557f06b9e5265fee8357eaca7735ec4ed65670d446c09482c535bd4eb1e3e07c5bd49704e49b50958b2e54c34f29a7b   \n",
       "4  e273542129cf7fa37c28d3f4c95b7b9e8bcb561bbabc50063a1a5a1fd133a14f62f8a59649e5dffacccdb661300a7ef5aaea710b8a1155c4904647d9d5877e49   \n",
       "\n",
       "   calltype_id       start_datetime  call_dur city_name county_name  \\\n",
       "0            2  2019-10-17 17:16:25        13       nan         nan   \n",
       "1            2  2019-10-17 17:36:20        16       nan         nan   \n",
       "2            1  2019-08-28 09:46:50        18       nan         nan   \n",
       "3            1  2019-09-18 16:19:20        34       nan         nan   \n",
       "4            2  2019-09-18 16:18:46        23       nan         nan   \n",
       "\n",
       "                                                                                                                             imei_m  \n",
       "0  d2940d7cde5092d809af2e4bb8f6936a405382bd541542c5ccbb9d577d7d340ea032cca1174d33cca05393fbfd45fc0715198781d726679a09db74dac778c9c5  \n",
       "1  d2940d7cde5092d809af2e4bb8f6936a405382bd541542c5ccbb9d577d7d340ea032cca1174d33cca05393fbfd45fc0715198781d726679a09db74dac778c9c5  \n",
       "2  071e8dcb4010c643c48339cb8abf4a69e03b37afade98ded48ae19b2dafe965f5b28299131441a068b066588492389a3e66c3105f3cd5ab8c3eefff0015373f5  \n",
       "3  5f054945a5037e688abe0ef36d88a0fd351d476e3320c22cb3da7692d4ba4ba3e7752253ef74c6af1763089b830687d06535dfc6ba4f411196889364868425af  \n",
       "4  5f054945a5037e688abe0ef36d88a0fd351d476e3320c22cb3da7692d4ba4ba3e7752253ef74c6af1763089b830687d06535dfc6ba4f411196889364868425af  "
      ]
     },
     "execution_count": 12,
     "metadata": {},
     "output_type": "execute_result"
    }
   ],
   "source": [
    "train_voc.head()"
   ]
  },
  {
   "cell_type": "code",
   "execution_count": 13,
   "metadata": {
    "ExecuteTime": {
     "end_time": "2020-06-07T15:22:52.568490Z",
     "start_time": "2020-06-07T15:22:52.541500Z"
    }
   },
   "outputs": [
    {
     "data": {
      "text/html": [
       "<div>\n",
       "<style scoped>\n",
       "    .dataframe tbody tr th:only-of-type {\n",
       "        vertical-align: middle;\n",
       "    }\n",
       "\n",
       "    .dataframe tbody tr th {\n",
       "        vertical-align: top;\n",
       "    }\n",
       "\n",
       "    .dataframe thead th {\n",
       "        text-align: right;\n",
       "    }\n",
       "</style>\n",
       "<table border=\"1\" class=\"dataframe\">\n",
       "  <thead>\n",
       "    <tr style=\"text-align: right;\">\n",
       "      <th></th>\n",
       "      <th>phone_no_m</th>\n",
       "      <th>opposite_no_m</th>\n",
       "      <th>calltype_id</th>\n",
       "      <th>start_datetime</th>\n",
       "      <th>call_dur</th>\n",
       "      <th>city_name</th>\n",
       "      <th>county_name</th>\n",
       "      <th>imei_m</th>\n",
       "    </tr>\n",
       "  </thead>\n",
       "  <tbody>\n",
       "    <tr>\n",
       "      <th>0</th>\n",
       "      <td>b3dce36871f3e88164b18d4953b114163f008cb51c28fe932ae3c734f3b1d1e2853d63fb3fb52a09fd9d0997b64fe5796507d3b50768fe0dce23819c8b24729c</td>\n",
       "      <td>f87f526ee776ac8b6b28392620fbb6049af9eaadab7de2ee9d7c5a31d7404566b8a3c25f404f793e513448a8c5dad1940a597a488e6f165a1aad6b103cf40f59</td>\n",
       "      <td>1</td>\n",
       "      <td>2020-04-13 21:04:10</td>\n",
       "      <td>1909</td>\n",
       "      <td>nan</td>\n",
       "      <td>nan</td>\n",
       "      <td>685a0bfcd91b4ecec2ff35d656a35a4e4f9e1c7a92b15f5c3c0675fcf8b6c9adc35731ab15e91401f2367f1d9d2910f9e8829e2e5052c96bc800fcde6c505214</td>\n",
       "    </tr>\n",
       "    <tr>\n",
       "      <th>1</th>\n",
       "      <td>b3dce36871f3e88164b18d4953b114163f008cb51c28fe932ae3c734f3b1d1e2853d63fb3fb52a09fd9d0997b64fe5796507d3b50768fe0dce23819c8b24729c</td>\n",
       "      <td>f87f526ee776ac8b6b28392620fbb6049af9eaadab7de2ee9d7c5a31d7404566b8a3c25f404f793e513448a8c5dad1940a597a488e6f165a1aad6b103cf40f59</td>\n",
       "      <td>1</td>\n",
       "      <td>2020-04-13 18:32:50</td>\n",
       "      <td>2510</td>\n",
       "      <td>nan</td>\n",
       "      <td>nan</td>\n",
       "      <td>685a0bfcd91b4ecec2ff35d656a35a4e4f9e1c7a92b15f5c3c0675fcf8b6c9adc35731ab15e91401f2367f1d9d2910f9e8829e2e5052c96bc800fcde6c505214</td>\n",
       "    </tr>\n",
       "    <tr>\n",
       "      <th>2</th>\n",
       "      <td>b3dce36871f3e88164b18d4953b114163f008cb51c28fe932ae3c734f3b1d1e2853d63fb3fb52a09fd9d0997b64fe5796507d3b50768fe0dce23819c8b24729c</td>\n",
       "      <td>f87f526ee776ac8b6b28392620fbb6049af9eaadab7de2ee9d7c5a31d7404566b8a3c25f404f793e513448a8c5dad1940a597a488e6f165a1aad6b103cf40f59</td>\n",
       "      <td>1</td>\n",
       "      <td>2020-04-13 19:55:12</td>\n",
       "      <td>25</td>\n",
       "      <td>nan</td>\n",
       "      <td>nan</td>\n",
       "      <td>685a0bfcd91b4ecec2ff35d656a35a4e4f9e1c7a92b15f5c3c0675fcf8b6c9adc35731ab15e91401f2367f1d9d2910f9e8829e2e5052c96bc800fcde6c505214</td>\n",
       "    </tr>\n",
       "    <tr>\n",
       "      <th>3</th>\n",
       "      <td>7ec68a368fbbec3279a6a34847f7959623dbff4638351aa0c4ef3e6c719a4cce873e332d11c2c8f860a67edcc4bc3706da02976e26c218474c67a3ed5cdffed5</td>\n",
       "      <td>ed8280e5590e40e35a2af7d8708a0754540b0612600d5255b8b79e576d1543765e552e30cb50aae3f4d424e08e8104a848f021316949d72e20a9efe0c29eba7c</td>\n",
       "      <td>1</td>\n",
       "      <td>2020-04-20 14:11:44</td>\n",
       "      <td>276</td>\n",
       "      <td>nan</td>\n",
       "      <td>nan</td>\n",
       "      <td>a60e82a4383faa79ea972adc48686a729f689b7d1923bce82ca67c7deae306fec30004b30260b56e13d77f791271222594954cc4f88a65c3348b97a9eeb47ad2</td>\n",
       "    </tr>\n",
       "    <tr>\n",
       "      <th>4</th>\n",
       "      <td>7ec68a368fbbec3279a6a34847f7959623dbff4638351aa0c4ef3e6c719a4cce873e332d11c2c8f860a67edcc4bc3706da02976e26c218474c67a3ed5cdffed5</td>\n",
       "      <td>ba792e76c3e7ee47d2403083f6def313372ae450ddf0b946d2f3d237e05cd99e75265be9d91ce58bc149919c97e1355f56082da790dccb9cffb0d7e11c4fa7ed</td>\n",
       "      <td>2</td>\n",
       "      <td>2020-04-20 12:56:33</td>\n",
       "      <td>539</td>\n",
       "      <td>nan</td>\n",
       "      <td>nan</td>\n",
       "      <td>a60e82a4383faa79ea972adc48686a729f689b7d1923bce82ca67c7deae306fec30004b30260b56e13d77f791271222594954cc4f88a65c3348b97a9eeb47ad2</td>\n",
       "    </tr>\n",
       "  </tbody>\n",
       "</table>\n",
       "</div>"
      ],
      "text/plain": [
       "                                                                                                                         phone_no_m  \\\n",
       "0  b3dce36871f3e88164b18d4953b114163f008cb51c28fe932ae3c734f3b1d1e2853d63fb3fb52a09fd9d0997b64fe5796507d3b50768fe0dce23819c8b24729c   \n",
       "1  b3dce36871f3e88164b18d4953b114163f008cb51c28fe932ae3c734f3b1d1e2853d63fb3fb52a09fd9d0997b64fe5796507d3b50768fe0dce23819c8b24729c   \n",
       "2  b3dce36871f3e88164b18d4953b114163f008cb51c28fe932ae3c734f3b1d1e2853d63fb3fb52a09fd9d0997b64fe5796507d3b50768fe0dce23819c8b24729c   \n",
       "3  7ec68a368fbbec3279a6a34847f7959623dbff4638351aa0c4ef3e6c719a4cce873e332d11c2c8f860a67edcc4bc3706da02976e26c218474c67a3ed5cdffed5   \n",
       "4  7ec68a368fbbec3279a6a34847f7959623dbff4638351aa0c4ef3e6c719a4cce873e332d11c2c8f860a67edcc4bc3706da02976e26c218474c67a3ed5cdffed5   \n",
       "\n",
       "                                                                                                                      opposite_no_m  \\\n",
       "0  f87f526ee776ac8b6b28392620fbb6049af9eaadab7de2ee9d7c5a31d7404566b8a3c25f404f793e513448a8c5dad1940a597a488e6f165a1aad6b103cf40f59   \n",
       "1  f87f526ee776ac8b6b28392620fbb6049af9eaadab7de2ee9d7c5a31d7404566b8a3c25f404f793e513448a8c5dad1940a597a488e6f165a1aad6b103cf40f59   \n",
       "2  f87f526ee776ac8b6b28392620fbb6049af9eaadab7de2ee9d7c5a31d7404566b8a3c25f404f793e513448a8c5dad1940a597a488e6f165a1aad6b103cf40f59   \n",
       "3  ed8280e5590e40e35a2af7d8708a0754540b0612600d5255b8b79e576d1543765e552e30cb50aae3f4d424e08e8104a848f021316949d72e20a9efe0c29eba7c   \n",
       "4  ba792e76c3e7ee47d2403083f6def313372ae450ddf0b946d2f3d237e05cd99e75265be9d91ce58bc149919c97e1355f56082da790dccb9cffb0d7e11c4fa7ed   \n",
       "\n",
       "   calltype_id       start_datetime  call_dur city_name county_name  \\\n",
       "0            1  2020-04-13 21:04:10      1909       nan         nan   \n",
       "1            1  2020-04-13 18:32:50      2510       nan         nan   \n",
       "2            1  2020-04-13 19:55:12        25       nan         nan   \n",
       "3            1  2020-04-20 14:11:44       276       nan         nan   \n",
       "4            2  2020-04-20 12:56:33       539       nan         nan   \n",
       "\n",
       "                                                                                                                             imei_m  \n",
       "0  685a0bfcd91b4ecec2ff35d656a35a4e4f9e1c7a92b15f5c3c0675fcf8b6c9adc35731ab15e91401f2367f1d9d2910f9e8829e2e5052c96bc800fcde6c505214  \n",
       "1  685a0bfcd91b4ecec2ff35d656a35a4e4f9e1c7a92b15f5c3c0675fcf8b6c9adc35731ab15e91401f2367f1d9d2910f9e8829e2e5052c96bc800fcde6c505214  \n",
       "2  685a0bfcd91b4ecec2ff35d656a35a4e4f9e1c7a92b15f5c3c0675fcf8b6c9adc35731ab15e91401f2367f1d9d2910f9e8829e2e5052c96bc800fcde6c505214  \n",
       "3  a60e82a4383faa79ea972adc48686a729f689b7d1923bce82ca67c7deae306fec30004b30260b56e13d77f791271222594954cc4f88a65c3348b97a9eeb47ad2  \n",
       "4  a60e82a4383faa79ea972adc48686a729f689b7d1923bce82ca67c7deae306fec30004b30260b56e13d77f791271222594954cc4f88a65c3348b97a9eeb47ad2  "
      ]
     },
     "execution_count": 13,
     "metadata": {},
     "output_type": "execute_result"
    }
   ],
   "source": [
    "test_voc.head()"
   ]
  },
  {
   "cell_type": "code",
   "execution_count": 14,
   "metadata": {
    "ExecuteTime": {
     "end_time": "2020-06-07T15:22:57.420338Z",
     "start_time": "2020-06-07T15:22:52.574480Z"
    }
   },
   "outputs": [],
   "source": [
    "train_voc['start_datetime'] = train_voc['start_datetime'].astype('datetime64')\n",
    "test_voc['start_datetime'] = test_voc['start_datetime'].astype('datetime64')"
   ]
  },
  {
   "cell_type": "code",
   "execution_count": 15,
   "metadata": {
    "ExecuteTime": {
     "end_time": "2020-06-07T15:22:57.796489Z",
     "start_time": "2020-06-07T15:22:57.420338Z"
    }
   },
   "outputs": [
    {
     "data": {
      "text/html": [
       "<div>\n",
       "<style scoped>\n",
       "    .dataframe tbody tr th:only-of-type {\n",
       "        vertical-align: middle;\n",
       "    }\n",
       "\n",
       "    .dataframe tbody tr th {\n",
       "        vertical-align: top;\n",
       "    }\n",
       "\n",
       "    .dataframe thead th {\n",
       "        text-align: right;\n",
       "    }\n",
       "</style>\n",
       "<table border=\"1\" class=\"dataframe\">\n",
       "  <thead>\n",
       "    <tr style=\"text-align: right;\">\n",
       "      <th></th>\n",
       "      <th>phone_no_m</th>\n",
       "      <th>opposite_no_m</th>\n",
       "      <th>calltype_id</th>\n",
       "      <th>start_datetime</th>\n",
       "      <th>call_dur</th>\n",
       "      <th>city_name</th>\n",
       "      <th>county_name</th>\n",
       "      <th>imei_m</th>\n",
       "    </tr>\n",
       "  </thead>\n",
       "  <tbody>\n",
       "    <tr>\n",
       "      <th>0</th>\n",
       "      <td>b3994b4c46e39954cfe0cb8ebd2a79703a2ace6612fa18241509e8b2dfe9d75f503823b6df2d10180a9033ccd22390aaeda397037ca4cd26604d6db6e3470874</td>\n",
       "      <td>1b01124a6ad0443ad868757c6594a605a0c5179c2b5b57071d5cec8cd8c4c89d7598587f953f08887965b42d2e465d08388c5465fe43b67f1e9ca5509c5529f2</td>\n",
       "      <td>1</td>\n",
       "      <td>2020-03-22 21:38:40</td>\n",
       "      <td>175</td>\n",
       "      <td>nan</td>\n",
       "      <td>nan</td>\n",
       "      <td>90ba61111dad175330029e10da8264a86dfdb3a281ccb8556eca87a6f1af32e1d5ff4db4a7d4b11f760e4866de974933f247c4c389073f28634229889bfe18bf</td>\n",
       "    </tr>\n",
       "    <tr>\n",
       "      <th>1</th>\n",
       "      <td>b3994b4c46e39954cfe0cb8ebd2a79703a2ace6612fa18241509e8b2dfe9d75f503823b6df2d10180a9033ccd22390aaeda397037ca4cd26604d6db6e3470874</td>\n",
       "      <td>1b01124a6ad0443ad868757c6594a605a0c5179c2b5b57071d5cec8cd8c4c89d7598587f953f08887965b42d2e465d08388c5465fe43b67f1e9ca5509c5529f2</td>\n",
       "      <td>1</td>\n",
       "      <td>2020-03-23 18:05:41</td>\n",
       "      <td>33</td>\n",
       "      <td>nan</td>\n",
       "      <td>nan</td>\n",
       "      <td>90ba61111dad175330029e10da8264a86dfdb3a281ccb8556eca87a6f1af32e1d5ff4db4a7d4b11f760e4866de974933f247c4c389073f28634229889bfe18bf</td>\n",
       "    </tr>\n",
       "    <tr>\n",
       "      <th>2</th>\n",
       "      <td>c5502a6d3e4cabaf8c0e298c4aac693b6e80835d50d4e4f393d8426bd49c0d4d00c3959d2a2c8341410e57af28bee6dc5c80dbad7cf147018ec0ece7bfa0cf5f</td>\n",
       "      <td>f1b73c46a691c068bfd38253e20e882d4993c8d3e58016aeed804a8cdbf54542112e529ebf7fdd0e62cf3556571fb17b865d8c3d57c42be851d75c90f4df4603</td>\n",
       "      <td>1</td>\n",
       "      <td>2020-03-01 11:24:37</td>\n",
       "      <td>39</td>\n",
       "      <td>nan</td>\n",
       "      <td>nan</td>\n",
       "      <td>e1e1149b2c06e9972293c457293abb32ad05b0c82b3b64c3786896b0414c897b60a539329ce3b7df83ebee19ad20fee3971303edd776a593578f03d16ee8981a</td>\n",
       "    </tr>\n",
       "    <tr>\n",
       "      <th>3</th>\n",
       "      <td>c5502a6d3e4cabaf8c0e298c4aac693b6e80835d50d4e4f393d8426bd49c0d4d00c3959d2a2c8341410e57af28bee6dc5c80dbad7cf147018ec0ece7bfa0cf5f</td>\n",
       "      <td>5bc6d97a3017578edfa7979fa43653cd74bad827f18337c8c84728f79778939b6f939ea3aa2661907f2e79bcf70feb93adb79c3f7d4a934368c459d9b6aeb54e</td>\n",
       "      <td>1</td>\n",
       "      <td>2020-03-01 11:23:44</td>\n",
       "      <td>32</td>\n",
       "      <td>nan</td>\n",
       "      <td>nan</td>\n",
       "      <td>e1e1149b2c06e9972293c457293abb32ad05b0c82b3b64c3786896b0414c897b60a539329ce3b7df83ebee19ad20fee3971303edd776a593578f03d16ee8981a</td>\n",
       "    </tr>\n",
       "    <tr>\n",
       "      <th>4</th>\n",
       "      <td>2bdbc0a45d6228970b353d691e2ec229f0cf60790a1a39d5e01c0175b5e20cd2ca7d39aff8506741884fd7a4cd4fd9fdec5112ddb764d81c2983752c989f1078</td>\n",
       "      <td>c42eeddeff98feb87860441ea6548f8bda2a080c935e02c7a6ae30223cf37dfc2d16760224c79b93ea44a6d3fd77139e03a20f47608b9455372a96cb026f239e</td>\n",
       "      <td>2</td>\n",
       "      <td>2020-03-03 15:34:21</td>\n",
       "      <td>3</td>\n",
       "      <td>nan</td>\n",
       "      <td>nan</td>\n",
       "      <td>3e808a14fa2aa61524c70f262539d1c8532b8e3a8c7c87c863b3f8420750f1bf4a63aa900aef09620c1fae1a6a7fadf1f42e30477e24336fc5c2a8fae9b5de6e</td>\n",
       "    </tr>\n",
       "  </tbody>\n",
       "</table>\n",
       "</div>"
      ],
      "text/plain": [
       "                                                                                                                         phone_no_m  \\\n",
       "0  b3994b4c46e39954cfe0cb8ebd2a79703a2ace6612fa18241509e8b2dfe9d75f503823b6df2d10180a9033ccd22390aaeda397037ca4cd26604d6db6e3470874   \n",
       "1  b3994b4c46e39954cfe0cb8ebd2a79703a2ace6612fa18241509e8b2dfe9d75f503823b6df2d10180a9033ccd22390aaeda397037ca4cd26604d6db6e3470874   \n",
       "2  c5502a6d3e4cabaf8c0e298c4aac693b6e80835d50d4e4f393d8426bd49c0d4d00c3959d2a2c8341410e57af28bee6dc5c80dbad7cf147018ec0ece7bfa0cf5f   \n",
       "3  c5502a6d3e4cabaf8c0e298c4aac693b6e80835d50d4e4f393d8426bd49c0d4d00c3959d2a2c8341410e57af28bee6dc5c80dbad7cf147018ec0ece7bfa0cf5f   \n",
       "4  2bdbc0a45d6228970b353d691e2ec229f0cf60790a1a39d5e01c0175b5e20cd2ca7d39aff8506741884fd7a4cd4fd9fdec5112ddb764d81c2983752c989f1078   \n",
       "\n",
       "                                                                                                                      opposite_no_m  \\\n",
       "0  1b01124a6ad0443ad868757c6594a605a0c5179c2b5b57071d5cec8cd8c4c89d7598587f953f08887965b42d2e465d08388c5465fe43b67f1e9ca5509c5529f2   \n",
       "1  1b01124a6ad0443ad868757c6594a605a0c5179c2b5b57071d5cec8cd8c4c89d7598587f953f08887965b42d2e465d08388c5465fe43b67f1e9ca5509c5529f2   \n",
       "2  f1b73c46a691c068bfd38253e20e882d4993c8d3e58016aeed804a8cdbf54542112e529ebf7fdd0e62cf3556571fb17b865d8c3d57c42be851d75c90f4df4603   \n",
       "3  5bc6d97a3017578edfa7979fa43653cd74bad827f18337c8c84728f79778939b6f939ea3aa2661907f2e79bcf70feb93adb79c3f7d4a934368c459d9b6aeb54e   \n",
       "4  c42eeddeff98feb87860441ea6548f8bda2a080c935e02c7a6ae30223cf37dfc2d16760224c79b93ea44a6d3fd77139e03a20f47608b9455372a96cb026f239e   \n",
       "\n",
       "   calltype_id      start_datetime  call_dur city_name county_name  \\\n",
       "0            1 2020-03-22 21:38:40       175       nan         nan   \n",
       "1            1 2020-03-23 18:05:41        33       nan         nan   \n",
       "2            1 2020-03-01 11:24:37        39       nan         nan   \n",
       "3            1 2020-03-01 11:23:44        32       nan         nan   \n",
       "4            2 2020-03-03 15:34:21         3       nan         nan   \n",
       "\n",
       "                                                                                                                             imei_m  \n",
       "0  90ba61111dad175330029e10da8264a86dfdb3a281ccb8556eca87a6f1af32e1d5ff4db4a7d4b11f760e4866de974933f247c4c389073f28634229889bfe18bf  \n",
       "1  90ba61111dad175330029e10da8264a86dfdb3a281ccb8556eca87a6f1af32e1d5ff4db4a7d4b11f760e4866de974933f247c4c389073f28634229889bfe18bf  \n",
       "2  e1e1149b2c06e9972293c457293abb32ad05b0c82b3b64c3786896b0414c897b60a539329ce3b7df83ebee19ad20fee3971303edd776a593578f03d16ee8981a  \n",
       "3  e1e1149b2c06e9972293c457293abb32ad05b0c82b3b64c3786896b0414c897b60a539329ce3b7df83ebee19ad20fee3971303edd776a593578f03d16ee8981a  \n",
       "4  3e808a14fa2aa61524c70f262539d1c8532b8e3a8c7c87c863b3f8420750f1bf4a63aa900aef09620c1fae1a6a7fadf1f42e30477e24336fc5c2a8fae9b5de6e  "
      ]
     },
     "execution_count": 15,
     "metadata": {},
     "output_type": "execute_result"
    }
   ],
   "source": [
    "# 只取最后一个月的数据\n",
    "train_voc = train_voc[train_voc['start_datetime'] >= '2020-03-01 00:00:00']\n",
    "train_voc = train_voc.reset_index(drop=True)\n",
    "\n",
    "train_voc.head()"
   ]
  },
  {
   "cell_type": "code",
   "execution_count": 16,
   "metadata": {
    "ExecuteTime": {
     "end_time": "2020-06-07T15:22:58.131298Z",
     "start_time": "2020-06-07T15:22:57.798489Z"
    }
   },
   "outputs": [],
   "source": [
    "df_voc = pd.concat([train_voc, test_voc])"
   ]
  },
  {
   "cell_type": "code",
   "execution_count": 17,
   "metadata": {
    "ExecuteTime": {
     "end_time": "2020-06-07T15:22:58.354171Z",
     "start_time": "2020-06-07T15:22:58.136297Z"
    }
   },
   "outputs": [],
   "source": [
    "# 时间切割\n",
    "\n",
    "df_voc['voc_day'] = df_voc['start_datetime'].dt.day\n",
    "df_voc['voc_hour'] = df_voc['start_datetime'].dt.hour\n",
    "# df_voc['voc_ts'] = pd.to_timedelta(df_voc['start_datetime'], unit='ns').dt.total_seconds().astype(int)\n",
    "\n",
    "# df_voc = df_voc.sort_values(by='voc_ts').reset_index(drop=True)"
   ]
  },
  {
   "cell_type": "code",
   "execution_count": 18,
   "metadata": {
    "ExecuteTime": {
     "end_time": "2020-06-07T15:23:00.718909Z",
     "start_time": "2020-06-07T15:22:58.357171Z"
    }
   },
   "outputs": [],
   "source": [
    "# 一天内通话统计量\n",
    "\n",
    "df_voc['voc_day_count'] = df_voc.groupby(['phone_no_m', 'voc_day'])['phone_no_m'].transform('count')\n",
    "df_voc['voc_day_count_max'] = df_voc.groupby('phone_no_m')['voc_day_count'].transform('max')\n",
    "df_voc['voc_day_count_min'] = df_voc.groupby('phone_no_m')['voc_day_count'].transform('min')\n",
    "df_voc['voc_day_count_mean'] = df_voc.groupby('phone_no_m')['voc_day_count'].transform('mean')\n",
    "df_voc['voc_day_count_std'] = df_voc.groupby('phone_no_m')['voc_day_count'].transform('std')\n",
    "\n",
    "del df_voc['voc_day_count']"
   ]
  },
  {
   "cell_type": "code",
   "execution_count": 19,
   "metadata": {
    "ExecuteTime": {
     "end_time": "2020-06-07T15:23:03.128034Z",
     "start_time": "2020-06-07T15:23:00.718909Z"
    }
   },
   "outputs": [],
   "source": [
    "# 一小时内通话统计量\n",
    "\n",
    "df_voc['voc_hour_count'] = df_voc.groupby(['phone_no_m', 'voc_hour'])['phone_no_m'].transform('count')\n",
    "df_voc['voc_hour_count_max'] = df_voc.groupby('phone_no_m')['voc_hour_count'].transform('max')\n",
    "df_voc['voc_hour_count_min'] = df_voc.groupby('phone_no_m')['voc_hour_count'].transform('min')\n",
    "df_voc['voc_hour_count_mean'] = df_voc.groupby('phone_no_m')['voc_hour_count'].transform('mean')\n",
    "df_voc['voc_hour_count_std'] = df_voc.groupby('phone_no_m')['voc_hour_count'].transform('std')\n",
    "\n",
    "del df_voc['voc_hour_count']"
   ]
  },
  {
   "cell_type": "code",
   "execution_count": 20,
   "metadata": {
    "ExecuteTime": {
     "end_time": "2020-06-07T15:23:03.572778Z",
     "start_time": "2020-06-07T15:23:03.131031Z"
    }
   },
   "outputs": [],
   "source": [
    "# 总量\n",
    "\n",
    "df_voc['voc_count'] = df_voc.groupby('phone_no_m')['phone_no_m'].transform('count')"
   ]
  },
  {
   "cell_type": "code",
   "execution_count": 21,
   "metadata": {
    "ExecuteTime": {
     "end_time": "2020-06-07T15:23:03.581774Z",
     "start_time": "2020-06-07T15:23:03.574778Z"
    }
   },
   "outputs": [
    {
     "data": {
      "text/plain": [
       "Index(['phone_no_m', 'opposite_no_m', 'calltype_id', 'start_datetime',\n",
       "       'call_dur', 'city_name', 'county_name', 'imei_m', 'voc_day', 'voc_hour',\n",
       "       'voc_day_count_max', 'voc_day_count_min', 'voc_day_count_mean',\n",
       "       'voc_day_count_std', 'voc_hour_count_max', 'voc_hour_count_min',\n",
       "       'voc_hour_count_mean', 'voc_hour_count_std', 'voc_count'],\n",
       "      dtype='object')"
      ]
     },
     "execution_count": 21,
     "metadata": {},
     "output_type": "execute_result"
    }
   ],
   "source": [
    "df_voc.columns"
   ]
  },
  {
   "cell_type": "code",
   "execution_count": 22,
   "metadata": {
    "ExecuteTime": {
     "end_time": "2020-06-07T15:23:05.690217Z",
     "start_time": "2020-06-07T15:23:03.588771Z"
    }
   },
   "outputs": [],
   "source": [
    "df_voc.to_hdf('../input/df_voc.h5', 'hf')"
   ]
  },
  {
   "cell_type": "markdown",
   "metadata": {},
   "source": [
    "### 短信表"
   ]
  },
  {
   "cell_type": "code",
   "execution_count": 23,
   "metadata": {
    "ExecuteTime": {
     "end_time": "2020-06-07T15:23:31.772244Z",
     "start_time": "2020-06-07T15:23:05.695197Z"
    }
   },
   "outputs": [
    {
     "name": "stdout",
     "output_type": "stream",
     "text": [
      "Memory usage of dataframe is 219152368.00 MB\n",
      "Memory usage after optimization is: 171212805.00 MB\n",
      "Decreased by 21.9%\n",
      "Memory usage of dataframe is 13084880.00 MB\n",
      "Memory usage after optimization is: 10222580.00 MB\n",
      "Decreased by 21.9%\n"
     ]
    }
   ],
   "source": [
    "train_sms = reduce_mem_usage(pd.read_csv('../input/train/train_sms.csv'))\n",
    "test_sms = reduce_mem_usage(pd.read_csv('../input/test/test_sms.csv'))"
   ]
  },
  {
   "cell_type": "code",
   "execution_count": 24,
   "metadata": {
    "ExecuteTime": {
     "end_time": "2020-06-07T15:23:31.800227Z",
     "start_time": "2020-06-07T15:23:31.776240Z"
    }
   },
   "outputs": [
    {
     "data": {
      "text/html": [
       "<div>\n",
       "<style scoped>\n",
       "    .dataframe tbody tr th:only-of-type {\n",
       "        vertical-align: middle;\n",
       "    }\n",
       "\n",
       "    .dataframe tbody tr th {\n",
       "        vertical-align: top;\n",
       "    }\n",
       "\n",
       "    .dataframe thead th {\n",
       "        text-align: right;\n",
       "    }\n",
       "</style>\n",
       "<table border=\"1\" class=\"dataframe\">\n",
       "  <thead>\n",
       "    <tr style=\"text-align: right;\">\n",
       "      <th></th>\n",
       "      <th>phone_no_m</th>\n",
       "      <th>opposite_no_m</th>\n",
       "      <th>calltype_id</th>\n",
       "      <th>request_datetime</th>\n",
       "    </tr>\n",
       "  </thead>\n",
       "  <tbody>\n",
       "    <tr>\n",
       "      <th>0</th>\n",
       "      <td>0251387744988114430181c3e680a3733001a26fe686bdc1e64dfeaecd5d9e6f137df7f2a8d0a5871bcf6f371cab5bd313f18abcdf4cc03a9dfae17de2da6545</td>\n",
       "      <td>df22edbc0e3dd6bc4f2f453e687b743e8442a54834b64f06ee093a91c4a41385d46579107a443eee3ec0ce2339bcea4152a996ca8cf0b2cc846eb2acc9cc241b</td>\n",
       "      <td>2</td>\n",
       "      <td>2019-08-01 12:13:08</td>\n",
       "    </tr>\n",
       "    <tr>\n",
       "      <th>1</th>\n",
       "      <td>0251387744988114430181c3e680a3733001a26fe686bdc1e64dfeaecd5d9e6f137df7f2a8d0a5871bcf6f371cab5bd313f18abcdf4cc03a9dfae17de2da6545</td>\n",
       "      <td>df22edbc0e3dd6bc4f2f453e687b743e8442a54834b64f06ee093a91c4a41385d46579107a443eee3ec0ce2339bcea4152a996ca8cf0b2cc846eb2acc9cc241b</td>\n",
       "      <td>2</td>\n",
       "      <td>2019-08-01 12:13:08</td>\n",
       "    </tr>\n",
       "    <tr>\n",
       "      <th>2</th>\n",
       "      <td>0251387744988114430181c3e680a3733001a26fe686bdc1e64dfeaecd5d9e6f137df7f2a8d0a5871bcf6f371cab5bd313f18abcdf4cc03a9dfae17de2da6545</td>\n",
       "      <td>df22edbc0e3dd6bc4f2f453e687b743e8442a54834b64f06ee093a91c4a41385d46579107a443eee3ec0ce2339bcea4152a996ca8cf0b2cc846eb2acc9cc241b</td>\n",
       "      <td>2</td>\n",
       "      <td>2019-08-01 12:13:08</td>\n",
       "    </tr>\n",
       "    <tr>\n",
       "      <th>3</th>\n",
       "      <td>296cfae1d838070c4dd05a125a85c3d29bbb95f713c2eaee0d84e7192ae0f74d47bbeb1851078c044bcf2ff919423ea8e32ac715e81e8842d3afe46bf752252f</td>\n",
       "      <td>1205bb229d750a6bcb3f9c33893b5d68c8fc8a6443b0a7f77104587e396dc34ece1e774d2e6bb0842ea13d7d6b7983dd9f5d55ee62fcf7a2fa6430bba1b0fac7</td>\n",
       "      <td>2</td>\n",
       "      <td>2019-08-01 17:46:44</td>\n",
       "    </tr>\n",
       "    <tr>\n",
       "      <th>4</th>\n",
       "      <td>39de6ef3a87b8e660e42496450c54b731f3621ca708944b2df5ae56b77968ebacddd39a6576caa7a3d8d489b75e037da04eedec93f39a887bafd45f17772b59a</td>\n",
       "      <td>972affd4be9e7596420379b7e7910843759cdfbd81315e753cd4ba43ea288cf33d35a2cb1ad3af35ab1bf66e4b012e4f24e51e18ef0619af0212af0822b9a49b</td>\n",
       "      <td>2</td>\n",
       "      <td>2019-08-01 16:46:30</td>\n",
       "    </tr>\n",
       "  </tbody>\n",
       "</table>\n",
       "</div>"
      ],
      "text/plain": [
       "                                                                                                                         phone_no_m  \\\n",
       "0  0251387744988114430181c3e680a3733001a26fe686bdc1e64dfeaecd5d9e6f137df7f2a8d0a5871bcf6f371cab5bd313f18abcdf4cc03a9dfae17de2da6545   \n",
       "1  0251387744988114430181c3e680a3733001a26fe686bdc1e64dfeaecd5d9e6f137df7f2a8d0a5871bcf6f371cab5bd313f18abcdf4cc03a9dfae17de2da6545   \n",
       "2  0251387744988114430181c3e680a3733001a26fe686bdc1e64dfeaecd5d9e6f137df7f2a8d0a5871bcf6f371cab5bd313f18abcdf4cc03a9dfae17de2da6545   \n",
       "3  296cfae1d838070c4dd05a125a85c3d29bbb95f713c2eaee0d84e7192ae0f74d47bbeb1851078c044bcf2ff919423ea8e32ac715e81e8842d3afe46bf752252f   \n",
       "4  39de6ef3a87b8e660e42496450c54b731f3621ca708944b2df5ae56b77968ebacddd39a6576caa7a3d8d489b75e037da04eedec93f39a887bafd45f17772b59a   \n",
       "\n",
       "                                                                                                                      opposite_no_m  \\\n",
       "0  df22edbc0e3dd6bc4f2f453e687b743e8442a54834b64f06ee093a91c4a41385d46579107a443eee3ec0ce2339bcea4152a996ca8cf0b2cc846eb2acc9cc241b   \n",
       "1  df22edbc0e3dd6bc4f2f453e687b743e8442a54834b64f06ee093a91c4a41385d46579107a443eee3ec0ce2339bcea4152a996ca8cf0b2cc846eb2acc9cc241b   \n",
       "2  df22edbc0e3dd6bc4f2f453e687b743e8442a54834b64f06ee093a91c4a41385d46579107a443eee3ec0ce2339bcea4152a996ca8cf0b2cc846eb2acc9cc241b   \n",
       "3  1205bb229d750a6bcb3f9c33893b5d68c8fc8a6443b0a7f77104587e396dc34ece1e774d2e6bb0842ea13d7d6b7983dd9f5d55ee62fcf7a2fa6430bba1b0fac7   \n",
       "4  972affd4be9e7596420379b7e7910843759cdfbd81315e753cd4ba43ea288cf33d35a2cb1ad3af35ab1bf66e4b012e4f24e51e18ef0619af0212af0822b9a49b   \n",
       "\n",
       "   calltype_id     request_datetime  \n",
       "0            2  2019-08-01 12:13:08  \n",
       "1            2  2019-08-01 12:13:08  \n",
       "2            2  2019-08-01 12:13:08  \n",
       "3            2  2019-08-01 17:46:44  \n",
       "4            2  2019-08-01 16:46:30  "
      ]
     },
     "execution_count": 24,
     "metadata": {},
     "output_type": "execute_result"
    }
   ],
   "source": [
    "train_sms.head()"
   ]
  },
  {
   "cell_type": "code",
   "execution_count": 25,
   "metadata": {
    "ExecuteTime": {
     "end_time": "2020-06-07T15:23:31.827212Z",
     "start_time": "2020-06-07T15:23:31.807232Z"
    }
   },
   "outputs": [
    {
     "data": {
      "text/html": [
       "<div>\n",
       "<style scoped>\n",
       "    .dataframe tbody tr th:only-of-type {\n",
       "        vertical-align: middle;\n",
       "    }\n",
       "\n",
       "    .dataframe tbody tr th {\n",
       "        vertical-align: top;\n",
       "    }\n",
       "\n",
       "    .dataframe thead th {\n",
       "        text-align: right;\n",
       "    }\n",
       "</style>\n",
       "<table border=\"1\" class=\"dataframe\">\n",
       "  <thead>\n",
       "    <tr style=\"text-align: right;\">\n",
       "      <th></th>\n",
       "      <th>phone_no_m</th>\n",
       "      <th>opposite_no_m</th>\n",
       "      <th>calltype_id</th>\n",
       "      <th>request_datetime</th>\n",
       "    </tr>\n",
       "  </thead>\n",
       "  <tbody>\n",
       "    <tr>\n",
       "      <th>0</th>\n",
       "      <td>ce0dfda7499c30385ad400360a96476b2bbb16484e308f3f74abccf67857a7c293fe240b5b959b8b81c3bcdc4b6996d9667423d9e2c40be399e2c5c079088985</td>\n",
       "      <td>18f2150b69516bbf52f6593aed24b01333936f64cd3f8f5a2ca2bb64c5dea32ed41f3f7bea71fe7c3cd1d9f6e9da4e8232f1a92e938d591189cac25c1d13bd08</td>\n",
       "      <td>2</td>\n",
       "      <td>2020-04-01 20:13:01</td>\n",
       "    </tr>\n",
       "    <tr>\n",
       "      <th>1</th>\n",
       "      <td>ce0dfda7499c30385ad400360a96476b2bbb16484e308f3f74abccf67857a7c293fe240b5b959b8b81c3bcdc4b6996d9667423d9e2c40be399e2c5c079088985</td>\n",
       "      <td>df22edbc0e3dd6bc4f2f453e687b743e8442a54834b64f06ee093a91c4a41385d46579107a443eee3ec0ce2339bcea4152a996ca8cf0b2cc846eb2acc9cc241b</td>\n",
       "      <td>2</td>\n",
       "      <td>2020-04-01 13:51:50</td>\n",
       "    </tr>\n",
       "    <tr>\n",
       "      <th>2</th>\n",
       "      <td>ce0dfda7499c30385ad400360a96476b2bbb16484e308f3f74abccf67857a7c293fe240b5b959b8b81c3bcdc4b6996d9667423d9e2c40be399e2c5c079088985</td>\n",
       "      <td>df22edbc0e3dd6bc4f2f453e687b743e8442a54834b64f06ee093a91c4a41385d46579107a443eee3ec0ce2339bcea4152a996ca8cf0b2cc846eb2acc9cc241b</td>\n",
       "      <td>2</td>\n",
       "      <td>2020-04-01 13:51:50</td>\n",
       "    </tr>\n",
       "    <tr>\n",
       "      <th>3</th>\n",
       "      <td>ce0dfda7499c30385ad400360a96476b2bbb16484e308f3f74abccf67857a7c293fe240b5b959b8b81c3bcdc4b6996d9667423d9e2c40be399e2c5c079088985</td>\n",
       "      <td>df22edbc0e3dd6bc4f2f453e687b743e8442a54834b64f06ee093a91c4a41385d46579107a443eee3ec0ce2339bcea4152a996ca8cf0b2cc846eb2acc9cc241b</td>\n",
       "      <td>2</td>\n",
       "      <td>2020-04-01 13:51:50</td>\n",
       "    </tr>\n",
       "    <tr>\n",
       "      <th>4</th>\n",
       "      <td>ce0dfda7499c30385ad400360a96476b2bbb16484e308f3f74abccf67857a7c293fe240b5b959b8b81c3bcdc4b6996d9667423d9e2c40be399e2c5c079088985</td>\n",
       "      <td>18f2150b69516bbf52f6593aed24b01333936f64cd3f8f5a2ca2bb64c5dea32ed41f3f7bea71fe7c3cd1d9f6e9da4e8232f1a92e938d591189cac25c1d13bd08</td>\n",
       "      <td>2</td>\n",
       "      <td>2020-04-01 20:03:34</td>\n",
       "    </tr>\n",
       "  </tbody>\n",
       "</table>\n",
       "</div>"
      ],
      "text/plain": [
       "                                                                                                                         phone_no_m  \\\n",
       "0  ce0dfda7499c30385ad400360a96476b2bbb16484e308f3f74abccf67857a7c293fe240b5b959b8b81c3bcdc4b6996d9667423d9e2c40be399e2c5c079088985   \n",
       "1  ce0dfda7499c30385ad400360a96476b2bbb16484e308f3f74abccf67857a7c293fe240b5b959b8b81c3bcdc4b6996d9667423d9e2c40be399e2c5c079088985   \n",
       "2  ce0dfda7499c30385ad400360a96476b2bbb16484e308f3f74abccf67857a7c293fe240b5b959b8b81c3bcdc4b6996d9667423d9e2c40be399e2c5c079088985   \n",
       "3  ce0dfda7499c30385ad400360a96476b2bbb16484e308f3f74abccf67857a7c293fe240b5b959b8b81c3bcdc4b6996d9667423d9e2c40be399e2c5c079088985   \n",
       "4  ce0dfda7499c30385ad400360a96476b2bbb16484e308f3f74abccf67857a7c293fe240b5b959b8b81c3bcdc4b6996d9667423d9e2c40be399e2c5c079088985   \n",
       "\n",
       "                                                                                                                      opposite_no_m  \\\n",
       "0  18f2150b69516bbf52f6593aed24b01333936f64cd3f8f5a2ca2bb64c5dea32ed41f3f7bea71fe7c3cd1d9f6e9da4e8232f1a92e938d591189cac25c1d13bd08   \n",
       "1  df22edbc0e3dd6bc4f2f453e687b743e8442a54834b64f06ee093a91c4a41385d46579107a443eee3ec0ce2339bcea4152a996ca8cf0b2cc846eb2acc9cc241b   \n",
       "2  df22edbc0e3dd6bc4f2f453e687b743e8442a54834b64f06ee093a91c4a41385d46579107a443eee3ec0ce2339bcea4152a996ca8cf0b2cc846eb2acc9cc241b   \n",
       "3  df22edbc0e3dd6bc4f2f453e687b743e8442a54834b64f06ee093a91c4a41385d46579107a443eee3ec0ce2339bcea4152a996ca8cf0b2cc846eb2acc9cc241b   \n",
       "4  18f2150b69516bbf52f6593aed24b01333936f64cd3f8f5a2ca2bb64c5dea32ed41f3f7bea71fe7c3cd1d9f6e9da4e8232f1a92e938d591189cac25c1d13bd08   \n",
       "\n",
       "   calltype_id     request_datetime  \n",
       "0            2  2020-04-01 20:13:01  \n",
       "1            2  2020-04-01 13:51:50  \n",
       "2            2  2020-04-01 13:51:50  \n",
       "3            2  2020-04-01 13:51:50  \n",
       "4            2  2020-04-01 20:03:34  "
      ]
     },
     "execution_count": 25,
     "metadata": {},
     "output_type": "execute_result"
    }
   ],
   "source": [
    "test_sms.head()"
   ]
  },
  {
   "cell_type": "code",
   "execution_count": 26,
   "metadata": {
    "ExecuteTime": {
     "end_time": "2020-06-07T15:23:37.928284Z",
     "start_time": "2020-06-07T15:23:31.831210Z"
    }
   },
   "outputs": [],
   "source": [
    "train_sms['request_datetime'] = train_sms['request_datetime'].astype('datetime64')\n",
    "test_sms['request_datetime'] = test_sms['request_datetime'].astype('datetime64')"
   ]
  },
  {
   "cell_type": "code",
   "execution_count": 27,
   "metadata": {
    "ExecuteTime": {
     "end_time": "2020-06-07T15:23:38.320915Z",
     "start_time": "2020-06-07T15:23:37.928284Z"
    }
   },
   "outputs": [],
   "source": [
    "# 同样只取最后一个月的数据\n",
    "\n",
    "train_sms = train_sms[train_sms['request_datetime'] >= '2020-03-01 00:00:00']\n",
    "train_sms = train_sms.reset_index(drop=True)\n",
    "\n",
    "df_sms = pd.concat([train_sms, test_sms])"
   ]
  },
  {
   "cell_type": "code",
   "execution_count": 28,
   "metadata": {
    "ExecuteTime": {
     "end_time": "2020-06-07T15:23:38.639751Z",
     "start_time": "2020-06-07T15:23:38.326913Z"
    }
   },
   "outputs": [],
   "source": [
    "# 时间切割\n",
    "\n",
    "df_sms['sms_day'] = df_sms['request_datetime'].dt.day\n",
    "df_sms['sms_hour'] = df_sms['request_datetime'].dt.hour\n",
    "# df_sms['sms_ts'] = pd.to_timedelta(df_sms['request_datetime'], unit='ns').dt.total_seconds().astype(int)\n",
    "\n",
    "# df_sms = df_sms.sort_values(by='sms_ts').reset_index(drop=True)"
   ]
  },
  {
   "cell_type": "code",
   "execution_count": 29,
   "metadata": {
    "ExecuteTime": {
     "end_time": "2020-06-07T15:23:41.270627Z",
     "start_time": "2020-06-07T15:23:38.642731Z"
    }
   },
   "outputs": [],
   "source": [
    "# 一天内短信统计量\n",
    "\n",
    "df_sms['sms_day_count'] = df_sms.groupby(['phone_no_m', 'sms_day'])['phone_no_m'].transform('count')\n",
    "df_sms['sms_day_count_max'] = df_sms.groupby('phone_no_m')['sms_day_count'].transform('max')\n",
    "df_sms['sms_day_count_min'] = df_sms.groupby('phone_no_m')['sms_day_count'].transform('min')\n",
    "df_sms['sms_day_count_mean'] = df_sms.groupby('phone_no_m')['sms_day_count'].transform('mean')\n",
    "df_sms['sms_day_count_std'] = df_sms.groupby('phone_no_m')['sms_day_count'].transform('std')\n",
    "\n",
    "del df_sms['sms_day_count']"
   ]
  },
  {
   "cell_type": "code",
   "execution_count": 30,
   "metadata": {
    "ExecuteTime": {
     "end_time": "2020-06-07T15:23:44.000162Z",
     "start_time": "2020-06-07T15:23:41.270627Z"
    }
   },
   "outputs": [],
   "source": [
    "# 一小时内短信统计量\n",
    "\n",
    "df_sms['sms_hour_count'] = df_sms.groupby(['phone_no_m', 'sms_hour'])['phone_no_m'].transform('count')\n",
    "df_sms['sms_hour_count_max'] = df_sms.groupby('phone_no_m')['sms_hour_count'].transform('max')\n",
    "df_sms['sms_hour_count_min'] = df_sms.groupby('phone_no_m')['sms_hour_count'].transform('min')\n",
    "df_sms['sms_hour_count_mean'] = df_sms.groupby('phone_no_m')['sms_hour_count'].transform('mean')\n",
    "df_sms['sms_hour_count_std'] = df_sms.groupby('phone_no_m')['sms_hour_count'].transform('std')\n",
    "\n",
    "del df_sms['sms_hour_count']"
   ]
  },
  {
   "cell_type": "code",
   "execution_count": 31,
   "metadata": {
    "ExecuteTime": {
     "end_time": "2020-06-07T15:23:44.573763Z",
     "start_time": "2020-06-07T15:23:44.000162Z"
    }
   },
   "outputs": [],
   "source": [
    "# 总量\n",
    "\n",
    "df_sms['sms_count'] = df_sms.groupby('phone_no_m')['phone_no_m'].transform('count')"
   ]
  },
  {
   "cell_type": "code",
   "execution_count": 32,
   "metadata": {
    "ExecuteTime": {
     "end_time": "2020-06-07T15:23:44.583273Z",
     "start_time": "2020-06-07T15:23:44.573763Z"
    }
   },
   "outputs": [
    {
     "data": {
      "text/plain": [
       "Index(['phone_no_m', 'opposite_no_m', 'calltype_id', 'request_datetime',\n",
       "       'sms_day', 'sms_hour', 'sms_day_count_max', 'sms_day_count_min',\n",
       "       'sms_day_count_mean', 'sms_day_count_std', 'sms_hour_count_max',\n",
       "       'sms_hour_count_min', 'sms_hour_count_mean', 'sms_hour_count_std',\n",
       "       'sms_count'],\n",
       "      dtype='object')"
      ]
     },
     "execution_count": 32,
     "metadata": {},
     "output_type": "execute_result"
    }
   ],
   "source": [
    "df_sms.columns"
   ]
  },
  {
   "cell_type": "code",
   "execution_count": 33,
   "metadata": {
    "ExecuteTime": {
     "end_time": "2020-06-07T15:23:46.491543Z",
     "start_time": "2020-06-07T15:23:44.586272Z"
    }
   },
   "outputs": [],
   "source": [
    "df_sms.to_hdf('../input/df_sms.h5', 'df')"
   ]
  },
  {
   "cell_type": "markdown",
   "metadata": {},
   "source": [
    "### 应用表"
   ]
  },
  {
   "cell_type": "code",
   "execution_count": 34,
   "metadata": {
    "ExecuteTime": {
     "end_time": "2020-06-07T15:23:53.494601Z",
     "start_time": "2020-06-07T15:23:46.491543Z"
    }
   },
   "outputs": [
    {
     "name": "stdout",
     "output_type": "stream",
     "text": [
      "Memory usage of dataframe is 105075344.00 MB\n",
      "Memory usage after optimization is: 91940936.00 MB\n",
      "Decreased by 12.5%\n",
      "Memory usage of dataframe is 4142576.00 MB\n",
      "Memory usage after optimization is: 3365858.00 MB\n",
      "Decreased by 18.7%\n"
     ]
    }
   ],
   "source": [
    "train_app = reduce_mem_usage(pd.read_csv('../input/train/train_app.csv'))\n",
    "test_app = reduce_mem_usage(pd.read_csv('../input/test/test_app.csv'))"
   ]
  },
  {
   "cell_type": "code",
   "execution_count": 35,
   "metadata": {
    "ExecuteTime": {
     "end_time": "2020-06-07T15:23:53.532585Z",
     "start_time": "2020-06-07T15:23:53.498602Z"
    }
   },
   "outputs": [
    {
     "data": {
      "text/html": [
       "<div>\n",
       "<style scoped>\n",
       "    .dataframe tbody tr th:only-of-type {\n",
       "        vertical-align: middle;\n",
       "    }\n",
       "\n",
       "    .dataframe tbody tr th {\n",
       "        vertical-align: top;\n",
       "    }\n",
       "\n",
       "    .dataframe thead th {\n",
       "        text-align: right;\n",
       "    }\n",
       "</style>\n",
       "<table border=\"1\" class=\"dataframe\">\n",
       "  <thead>\n",
       "    <tr style=\"text-align: right;\">\n",
       "      <th></th>\n",
       "      <th>phone_no_m</th>\n",
       "      <th>busi_name</th>\n",
       "      <th>flow</th>\n",
       "      <th>month_id</th>\n",
       "    </tr>\n",
       "  </thead>\n",
       "  <tbody>\n",
       "    <tr>\n",
       "      <th>0</th>\n",
       "      <td>416cec0f25b93f08bfd9cff44382c5da3a6346beb16a2c97d60916a358b15084b51c244fbf7ed461752faaac57a95ef70cf80cba1d6c08448fc92dc0594d3380</td>\n",
       "      <td>nan</td>\n",
       "      <td>0.000000</td>\n",
       "      <td>nan</td>\n",
       "    </tr>\n",
       "    <tr>\n",
       "      <th>1</th>\n",
       "      <td>26fcb7c6f4125ee5445756d4ff5346c29f2aff7d0f2e3171cb74ee47fc5d3087a76371120882b5a7698e07467ffad7edf32cd483716793b0b2699b0c6efbe3ba</td>\n",
       "      <td>nan</td>\n",
       "      <td>0.000000</td>\n",
       "      <td>nan</td>\n",
       "    </tr>\n",
       "    <tr>\n",
       "      <th>2</th>\n",
       "      <td>1a58c82eeefdb00ea6abf2e6010a8e808b27e1802b764d08463ce20702d9ad13049bf3c539065ffb00cc879ee6a4d97650af97d92f8b6b8893b3d725e65cda30</td>\n",
       "      <td>nan</td>\n",
       "      <td>0.021529</td>\n",
       "      <td>2019-12</td>\n",
       "    </tr>\n",
       "    <tr>\n",
       "      <th>3</th>\n",
       "      <td>1a58c82eeefdb00ea6abf2e6010a8e808b27e1802b764d08463ce20702d9ad13049bf3c539065ffb00cc879ee6a4d97650af97d92f8b6b8893b3d725e65cda30</td>\n",
       "      <td>微信</td>\n",
       "      <td>0.001846</td>\n",
       "      <td>2019-12</td>\n",
       "    </tr>\n",
       "    <tr>\n",
       "      <th>4</th>\n",
       "      <td>1a58c82eeefdb00ea6abf2e6010a8e808b27e1802b764d08463ce20702d9ad13049bf3c539065ffb00cc879ee6a4d97650af97d92f8b6b8893b3d725e65cda30</td>\n",
       "      <td>高德导航</td>\n",
       "      <td>0.002288</td>\n",
       "      <td>2019-12</td>\n",
       "    </tr>\n",
       "  </tbody>\n",
       "</table>\n",
       "</div>"
      ],
      "text/plain": [
       "                                                                                                                         phone_no_m  \\\n",
       "0  416cec0f25b93f08bfd9cff44382c5da3a6346beb16a2c97d60916a358b15084b51c244fbf7ed461752faaac57a95ef70cf80cba1d6c08448fc92dc0594d3380   \n",
       "1  26fcb7c6f4125ee5445756d4ff5346c29f2aff7d0f2e3171cb74ee47fc5d3087a76371120882b5a7698e07467ffad7edf32cd483716793b0b2699b0c6efbe3ba   \n",
       "2  1a58c82eeefdb00ea6abf2e6010a8e808b27e1802b764d08463ce20702d9ad13049bf3c539065ffb00cc879ee6a4d97650af97d92f8b6b8893b3d725e65cda30   \n",
       "3  1a58c82eeefdb00ea6abf2e6010a8e808b27e1802b764d08463ce20702d9ad13049bf3c539065ffb00cc879ee6a4d97650af97d92f8b6b8893b3d725e65cda30   \n",
       "4  1a58c82eeefdb00ea6abf2e6010a8e808b27e1802b764d08463ce20702d9ad13049bf3c539065ffb00cc879ee6a4d97650af97d92f8b6b8893b3d725e65cda30   \n",
       "\n",
       "  busi_name      flow month_id  \n",
       "0       nan  0.000000      nan  \n",
       "1       nan  0.000000      nan  \n",
       "2       nan  0.021529  2019-12  \n",
       "3        微信  0.001846  2019-12  \n",
       "4      高德导航  0.002288  2019-12  "
      ]
     },
     "execution_count": 35,
     "metadata": {},
     "output_type": "execute_result"
    }
   ],
   "source": [
    "train_app.head()"
   ]
  },
  {
   "cell_type": "code",
   "execution_count": 36,
   "metadata": {
    "ExecuteTime": {
     "end_time": "2020-06-07T15:23:53.560564Z",
     "start_time": "2020-06-07T15:23:53.539575Z"
    }
   },
   "outputs": [
    {
     "data": {
      "text/html": [
       "<div>\n",
       "<style scoped>\n",
       "    .dataframe tbody tr th:only-of-type {\n",
       "        vertical-align: middle;\n",
       "    }\n",
       "\n",
       "    .dataframe tbody tr th {\n",
       "        vertical-align: top;\n",
       "    }\n",
       "\n",
       "    .dataframe thead th {\n",
       "        text-align: right;\n",
       "    }\n",
       "</style>\n",
       "<table border=\"1\" class=\"dataframe\">\n",
       "  <thead>\n",
       "    <tr style=\"text-align: right;\">\n",
       "      <th></th>\n",
       "      <th>phone_no_m</th>\n",
       "      <th>busi_name</th>\n",
       "      <th>flow</th>\n",
       "      <th>month_id</th>\n",
       "    </tr>\n",
       "  </thead>\n",
       "  <tbody>\n",
       "    <tr>\n",
       "      <th>0</th>\n",
       "      <td>2abe25ed833883fcb81fb9f987596af936a7ef922c8d1de33415928ae5c5a5fce06e92e805cb08676a3dd6554a01c1c70f161663b4899e458d2868fb30284f0f</td>\n",
       "      <td>nan</td>\n",
       "      <td>72.875000</td>\n",
       "      <td>2020-04</td>\n",
       "    </tr>\n",
       "    <tr>\n",
       "      <th>1</th>\n",
       "      <td>2abe25ed833883fcb81fb9f987596af936a7ef922c8d1de33415928ae5c5a5fce06e92e805cb08676a3dd6554a01c1c70f161663b4899e458d2868fb30284f0f</td>\n",
       "      <td>QQ</td>\n",
       "      <td>34.656250</td>\n",
       "      <td>2020-04</td>\n",
       "    </tr>\n",
       "    <tr>\n",
       "      <th>2</th>\n",
       "      <td>2abe25ed833883fcb81fb9f987596af936a7ef922c8d1de33415928ae5c5a5fce06e92e805cb08676a3dd6554a01c1c70f161663b4899e458d2868fb30284f0f</td>\n",
       "      <td>旺信</td>\n",
       "      <td>1.576172</td>\n",
       "      <td>2020-04</td>\n",
       "    </tr>\n",
       "    <tr>\n",
       "      <th>3</th>\n",
       "      <td>2abe25ed833883fcb81fb9f987596af936a7ef922c8d1de33415928ae5c5a5fce06e92e805cb08676a3dd6554a01c1c70f161663b4899e458d2868fb30284f0f</td>\n",
       "      <td>微信</td>\n",
       "      <td>664.500000</td>\n",
       "      <td>2020-04</td>\n",
       "    </tr>\n",
       "    <tr>\n",
       "      <th>4</th>\n",
       "      <td>2abe25ed833883fcb81fb9f987596af936a7ef922c8d1de33415928ae5c5a5fce06e92e805cb08676a3dd6554a01c1c70f161663b4899e458d2868fb30284f0f</td>\n",
       "      <td>钉钉</td>\n",
       "      <td>0.025558</td>\n",
       "      <td>2020-04</td>\n",
       "    </tr>\n",
       "  </tbody>\n",
       "</table>\n",
       "</div>"
      ],
      "text/plain": [
       "                                                                                                                         phone_no_m  \\\n",
       "0  2abe25ed833883fcb81fb9f987596af936a7ef922c8d1de33415928ae5c5a5fce06e92e805cb08676a3dd6554a01c1c70f161663b4899e458d2868fb30284f0f   \n",
       "1  2abe25ed833883fcb81fb9f987596af936a7ef922c8d1de33415928ae5c5a5fce06e92e805cb08676a3dd6554a01c1c70f161663b4899e458d2868fb30284f0f   \n",
       "2  2abe25ed833883fcb81fb9f987596af936a7ef922c8d1de33415928ae5c5a5fce06e92e805cb08676a3dd6554a01c1c70f161663b4899e458d2868fb30284f0f   \n",
       "3  2abe25ed833883fcb81fb9f987596af936a7ef922c8d1de33415928ae5c5a5fce06e92e805cb08676a3dd6554a01c1c70f161663b4899e458d2868fb30284f0f   \n",
       "4  2abe25ed833883fcb81fb9f987596af936a7ef922c8d1de33415928ae5c5a5fce06e92e805cb08676a3dd6554a01c1c70f161663b4899e458d2868fb30284f0f   \n",
       "\n",
       "  busi_name        flow month_id  \n",
       "0       nan   72.875000  2020-04  \n",
       "1        QQ   34.656250  2020-04  \n",
       "2        旺信    1.576172  2020-04  \n",
       "3        微信  664.500000  2020-04  \n",
       "4        钉钉    0.025558  2020-04  "
      ]
     },
     "execution_count": 36,
     "metadata": {},
     "output_type": "execute_result"
    }
   ],
   "source": [
    "test_app.head()"
   ]
  },
  {
   "cell_type": "code",
   "execution_count": 37,
   "metadata": {
    "ExecuteTime": {
     "end_time": "2020-06-07T15:23:53.993315Z",
     "start_time": "2020-06-07T15:23:53.564563Z"
    }
   },
   "outputs": [],
   "source": [
    "# 同样只取最后一个月\n",
    "\n",
    "train_app = train_app[train_app['month_id'] == '2020-03']\n",
    "train_app = train_app.reset_index(drop=True)\n",
    "\n",
    "df_app = pd.concat([train_app, test_app])"
   ]
  },
  {
   "cell_type": "code",
   "execution_count": 38,
   "metadata": {
    "ExecuteTime": {
     "end_time": "2020-06-07T15:23:55.258076Z",
     "start_time": "2020-06-07T15:23:53.996314Z"
    }
   },
   "outputs": [],
   "source": [
    "# 流量统计\n",
    "\n",
    "df_app['total_flow'] = df_app.groupby('phone_no_m')['flow'].transform('sum')\n",
    "df_app['flow_max'] = df_app.groupby('phone_no_m')['flow'].transform('max')\n",
    "df_app['flow_min'] = df_app.groupby('phone_no_m')['flow'].transform('min')\n",
    "df_app['flow_mean'] = df_app.groupby('phone_no_m')['flow'].transform('mean')\n",
    "df_app['flow_std'] = df_app.groupby('phone_no_m')['flow'].transform('std')\n",
    "\n",
    "# 应用数\n",
    "df_app['app_count'] = df_app.groupby('phone_no_m')['phone_no_m'].transform('count')"
   ]
  },
  {
   "cell_type": "code",
   "execution_count": 39,
   "metadata": {
    "ExecuteTime": {
     "end_time": "2020-06-07T15:23:55.268072Z",
     "start_time": "2020-06-07T15:23:55.260076Z"
    }
   },
   "outputs": [
    {
     "data": {
      "text/plain": [
       "Index(['phone_no_m', 'busi_name', 'flow', 'month_id', 'total_flow', 'flow_max',\n",
       "       'flow_min', 'flow_mean', 'flow_std', 'app_count'],\n",
       "      dtype='object')"
      ]
     },
     "execution_count": 39,
     "metadata": {},
     "output_type": "execute_result"
    }
   ],
   "source": [
    "df_app.columns"
   ]
  },
  {
   "cell_type": "code",
   "execution_count": 40,
   "metadata": {
    "ExecuteTime": {
     "end_time": "2020-06-07T15:23:55.606921Z",
     "start_time": "2020-06-07T15:23:55.272072Z"
    }
   },
   "outputs": [],
   "source": [
    "df_app.to_hdf('../input/df_app.h5', 'df')"
   ]
  }
 ],
 "metadata": {
  "kernelspec": {
   "display_name": "Python 3",
   "language": "python",
   "name": "python3"
  },
  "language_info": {
   "codemirror_mode": {
    "name": "ipython",
    "version": 3
   },
   "file_extension": ".py",
   "mimetype": "text/x-python",
   "name": "python",
   "nbconvert_exporter": "python",
   "pygments_lexer": "ipython3",
   "version": "3.7.3"
  },
  "toc": {
   "base_numbering": 1,
   "nav_menu": {},
   "number_sections": true,
   "sideBar": true,
   "skip_h1_title": false,
   "title_cell": "Table of Contents",
   "title_sidebar": "Contents",
   "toc_cell": false,
   "toc_position": {},
   "toc_section_display": true,
   "toc_window_display": false
  },
  "varInspector": {
   "cols": {
    "lenName": 16,
    "lenType": 16,
    "lenVar": 40
   },
   "kernels_config": {
    "python": {
     "delete_cmd_postfix": "",
     "delete_cmd_prefix": "del ",
     "library": "var_list.py",
     "varRefreshCmd": "print(var_dic_list())"
    },
    "r": {
     "delete_cmd_postfix": ") ",
     "delete_cmd_prefix": "rm(",
     "library": "var_list.r",
     "varRefreshCmd": "cat(var_dic_list()) "
    }
   },
   "types_to_exclude": [
    "module",
    "function",
    "builtin_function_or_method",
    "instance",
    "_Feature"
   ],
   "window_display": false
  }
 },
 "nbformat": 4,
 "nbformat_minor": 2
}
