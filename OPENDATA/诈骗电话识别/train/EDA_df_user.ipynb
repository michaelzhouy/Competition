{
 "cells": [
  {
   "cell_type": "code",
   "execution_count": 1,
   "metadata": {
    "ExecuteTime": {
     "end_time": "2020-06-16T15:36:11.232957Z",
     "start_time": "2020-06-16T15:36:07.875134Z"
    }
   },
   "outputs": [],
   "source": [
    "import time\n",
    "import numpy as np\n",
    "import pandas as pd\n",
    "import matplotlib.pyplot as plt\n",
    "import seaborn as sns\n",
    "import lightgbm as lgb\n",
    "import gc\n",
    "import warnings\n",
    "from tqdm import tqdm\n",
    "from sklearn.metrics import f1_score\n",
    "from sklearn.model_selection import train_test_split\n",
    "from sklearn.model_selection import StratifiedKFold, KFold\n",
    "from itertools import product\n",
    "from mlxtend.feature_selection import SequentialFeatureSelector\n",
    "\n",
    "warnings.filterwarnings('ignore')\n",
    "\n",
    "pd.set_option('display.unicode.ambiguous_as_wide', True)\n",
    "pd.set_option('display.unicode.east_asian_width', True)\n",
    "pd.set_option('display.max_columns', None)\n",
    "pd.set_option('display.max_rows', None)\n",
    "pd.set_option(\"display.max_colwidth\", 100)\n",
    "pd.set_option('display.width', 1000)"
   ]
  },
  {
   "cell_type": "code",
   "execution_count": 2,
   "metadata": {
    "ExecuteTime": {
     "end_time": "2020-06-16T15:36:11.258916Z",
     "start_time": "2020-06-16T15:36:11.235930Z"
    }
   },
   "outputs": [],
   "source": [
    "# 节省内存读文件\n",
    "def reduce_mem_usage(df):\n",
    "    \"\"\"\n",
    "    iterate through all the columns of a dataframe and modify the data type to reduce memory usage.\n",
    "    @param df:\n",
    "    @return:\n",
    "    \"\"\"\n",
    "    start_mem = df.memory_usage().sum()\n",
    "    print('Memory usage of dataframe is {:.2f} MB'.format(start_mem))\n",
    "\n",
    "    for col in df.columns:\n",
    "        col_type = df[col].dtype\n",
    "\n",
    "        if col_type != object:\n",
    "            c_min = df[col].min()\n",
    "            c_max = df[col].max()\n",
    "            if str(col_type)[:3] == 'int':\n",
    "                if c_min > np.iinfo(np.int8).min and c_max < np.iinfo(np.int8).max:\n",
    "                    df[col] = df[col].astype(np.int8)\n",
    "                elif c_min > np.iinfo(np.int16).min and c_max < np.iinfo(np.int16).max:\n",
    "                    df[col] = df[col].astype(np.int16)\n",
    "                elif c_min > np.iinfo(np.int32).min and c_max < np.iinfo(np.int32).max:\n",
    "                    df[col] = df[col].astype(np.int32)\n",
    "                elif c_min > np.iinfo(np.int64).min and c_max < np.iinfo(np.int64).max:\n",
    "                    df[col] = df[col].astype(np.int64)\n",
    "            else:\n",
    "                if c_min > np.finfo(np.float16).min and c_max < np.finfo(np.float16).max:\n",
    "                    df[col] = df[col].astype(np.float16)\n",
    "                elif c_min > np.finfo(np.float32).min and c_max < np.finfo(np.float32).max:\n",
    "                    df[col] = df[col].astype(np.float32)\n",
    "                else:\n",
    "                    df[col] = df[col].astype(np.float64)\n",
    "        else:\n",
    "            df[col] = df[col].astype('str')\n",
    "\n",
    "    end_mem = df.memory_usage().sum()\n",
    "    print('Memory usage after optimization is: {:.2f} MB'.format(end_mem))\n",
    "    print('Decreased by {:.1f}%'.format(100 * (start_mem - end_mem) / start_mem))\n",
    "    return df"
   ]
  },
  {
   "cell_type": "code",
   "execution_count": 3,
   "metadata": {
    "ExecuteTime": {
     "end_time": "2020-06-16T15:36:11.303890Z",
     "start_time": "2020-06-16T15:36:11.262915Z"
    }
   },
   "outputs": [],
   "source": [
    "class MeanEncoder:\n",
    "    def __init__(self, categorical_features, n_splits=10, target_type='classification', prior_weight_func=None):\n",
    "        \"\"\"\n",
    "        :param categorical_features: list of str, the name of the categorical columns to encode\n",
    " \n",
    "        :param n_splits: the number of splits used in mean encoding\n",
    "        \n",
    "        :param target_type: str, 'regression' or 'classification'\n",
    " \n",
    "        :param prior_weight_func:\n",
    "        a function that takes in the number of observations, and outputs prior weight\n",
    "        when a dict is passed, the default exponential decay function will be used:\n",
    "        k: the number of observations needed for the posterior to be weighted equally as the prior\n",
    "        f: larger f --> smaller slope\n",
    "        \"\"\"\n",
    " \n",
    "        self.categorical_features = categorical_features\n",
    "        self.n_splits = n_splits\n",
    "        self.learned_stats = {}\n",
    " \n",
    "        if target_type == 'classification':\n",
    "            self.target_type = target_type\n",
    "            self.target_values = []\n",
    "        else:\n",
    "            self.target_type = 'regression'\n",
    "            self.target_values = None\n",
    " \n",
    "        if isinstance(prior_weight_func, dict):\n",
    "            self.prior_weight_func = eval('lambda x: 1 / (1 + np.exp((x - k) / f))', dict(prior_weight_func, np=np))\n",
    "        elif callable(prior_weight_func):\n",
    "            self.prior_weight_func = prior_weight_func\n",
    "        else:\n",
    "            self.prior_weight_func = lambda x: 1 / (1 + np.exp((x - 2) / 1))\n",
    " \n",
    "    @staticmethod\n",
    "    def mean_encode_subroutine(X_train, y_train, X_test, variable, target, prior_weight_func):\n",
    "        X_train = X_train[[variable]].copy()\n",
    "        X_test = X_test[[variable]].copy()\n",
    " \n",
    "        if target is not None:\n",
    "            nf_name = '{}_pred_{}'.format(variable, target)\n",
    "            X_train['pred_temp'] = (y_train == target).astype(int)  # classification\n",
    "        else:\n",
    "            nf_name = '{}_pred'.format(variable)\n",
    "            X_train['pred_temp'] = y_train  # regression\n",
    "        prior = X_train['pred_temp'].mean()\n",
    " \n",
    "        col_avg_y = X_train.groupby(by=variable, axis=0)['pred_temp'].agg(['mean', 'size'])\n",
    "        col_avg_y['size'] = prior_weight_func(col_avg_y['size'])\n",
    "        col_avg_y[nf_name] = col_avg_y['size'] * prior + (1 - col_avg_y['size']) * col_avg_y['mean']\n",
    "        col_avg_y.drop(['size', 'mean'], axis=1, inplace=True)\n",
    " \n",
    "        nf_train = X_train.join(col_avg_y, on=variable)[nf_name].values\n",
    "        nf_test = X_test.join(col_avg_y, on=variable).fillna(prior, inplace=False)[nf_name].values\n",
    " \n",
    "        return nf_train, nf_test, prior, col_avg_y\n",
    " \n",
    "    def fit_transform(self, X, y):\n",
    "        \"\"\"\n",
    "        :param X: pandas DataFrame, n_samples * n_features\n",
    "        :param y: pandas Series or numpy array, n_samples\n",
    "        :return X_new: the transformed pandas DataFrame containing mean-encoded categorical features\n",
    "        \"\"\"\n",
    "        X_new = X.copy()\n",
    "        if self.target_type == 'classification':\n",
    "            skf = StratifiedKFold(self.n_splits)\n",
    "        else:\n",
    "            skf = KFold(self.n_splits)\n",
    " \n",
    "        if self.target_type == 'classification':\n",
    "            self.target_values = sorted(set(y))\n",
    "            self.learned_stats = {'{}_pred_{}'.format(variable, target): [] for variable, target in\n",
    "                                  product(self.categorical_features, self.target_values)}\n",
    "            for variable, target in product(self.categorical_features, self.target_values):\n",
    "                nf_name = '{}_pred_{}'.format(variable, target)\n",
    "                X_new.loc[:, nf_name] = np.nan\n",
    "                for large_ind, small_ind in skf.split(X, y):\n",
    "                    nf_large, nf_small, prior, col_avg_y = MeanEncoder.mean_encode_subroutine(\n",
    "                        X_new.iloc[large_ind], y.iloc[large_ind], X_new.iloc[small_ind], variable, target, self.prior_weight_func)\n",
    "                    X_new.iloc[small_ind, -1] = nf_small\n",
    "                    self.learned_stats[nf_name].append((prior, col_avg_y))\n",
    "        else:\n",
    "            self.learned_stats = {'{}_pred'.format(variable): [] for variable in self.categorical_features}\n",
    "            for variable in self.categorical_features:\n",
    "                nf_name = '{}_pred'.format(variable)\n",
    "                X_new.loc[:, nf_name] = np.nan\n",
    "                for large_ind, small_ind in skf.split(X, y):\n",
    "                    nf_large, nf_small, prior, col_avg_y = MeanEncoder.mean_encode_subroutine(\n",
    "                        X_new.iloc[large_ind], y.iloc[large_ind], X_new.iloc[small_ind], variable, None, self.prior_weight_func)\n",
    "                    X_new.iloc[small_ind, -1] = nf_small\n",
    "                    self.learned_stats[nf_name].append((prior, col_avg_y))\n",
    "        return X_new\n",
    " \n",
    "    def transform(self, X):\n",
    "        \"\"\"\n",
    "        :param X: pandas DataFrame, n_samples * n_features\n",
    "        :return X_new: the transformed pandas DataFrame containing mean-encoded categorical features\n",
    "        \"\"\"\n",
    "        X_new = X.copy()\n",
    " \n",
    "        if self.target_type == 'classification':\n",
    "            for variable, target in product(self.categorical_features, self.target_values):\n",
    "                nf_name = '{}_pred_{}'.format(variable, target)\n",
    "                X_new[nf_name] = 0\n",
    "                for prior, col_avg_y in self.learned_stats[nf_name]:\n",
    "                    X_new[nf_name] += X_new[[variable]].join(col_avg_y, on=variable).fillna(prior, inplace=False)[\n",
    "                        nf_name]\n",
    "                X_new[nf_name] /= self.n_splits\n",
    "        else:\n",
    "            for variable in self.categorical_features:\n",
    "                nf_name = '{}_pred'.format(variable)\n",
    "                X_new[nf_name] = 0\n",
    "                for prior, col_avg_y in self.learned_stats[nf_name]:\n",
    "                    X_new[nf_name] += X_new[[variable]].join(col_avg_y, on=variable).fillna(prior, inplace=False)[\n",
    "                        nf_name]\n",
    "                X_new[nf_name] /= self.n_splits\n",
    " \n",
    "        return X_new"
   ]
  },
  {
   "cell_type": "code",
   "execution_count": 4,
   "metadata": {
    "ExecuteTime": {
     "end_time": "2020-06-16T15:36:11.446836Z",
     "start_time": "2020-06-16T15:36:11.306889Z"
    }
   },
   "outputs": [
    {
     "name": "stdout",
     "output_type": "stream",
     "text": [
      "Memory usage of dataframe is 635104.00 MB\n",
      "Memory usage after optimization is: 256532.00 MB\n",
      "Decreased by 59.6%\n",
      "Memory usage of dataframe is 81880.00 MB\n",
      "Memory usage after optimization is: 55295.00 MB\n",
      "Decreased by 32.5%\n"
     ]
    }
   ],
   "source": [
    "train_user = reduce_mem_usage(pd.read_csv('../input/train/train_user.csv'))\n",
    "test_user = reduce_mem_usage(pd.read_csv('../input/test/test_user.csv'))"
   ]
  },
  {
   "cell_type": "code",
   "execution_count": 5,
   "metadata": {
    "ExecuteTime": {
     "end_time": "2020-06-16T15:36:11.473826Z",
     "start_time": "2020-06-16T15:36:11.453835Z"
    }
   },
   "outputs": [],
   "source": [
    "# 训练集只取最后一个月的数据\n",
    "train_user['arpu_202004'] = train_user['arpu_202003']\n",
    "train_user.drop(['arpu_201908', 'arpu_201909', 'arpu_201910', 'arpu_201911',\n",
    "                 'arpu_201912', 'arpu_202001', 'arpu_202002', 'arpu_202003'],\n",
    "                axis=1,\n",
    "                inplace=True)"
   ]
  },
  {
   "cell_type": "code",
   "execution_count": 6,
   "metadata": {
    "ExecuteTime": {
     "end_time": "2020-06-16T15:36:11.503803Z",
     "start_time": "2020-06-16T15:36:11.484831Z"
    }
   },
   "outputs": [],
   "source": [
    "df_user = pd.concat([train_user, test_user])"
   ]
  },
  {
   "cell_type": "code",
   "execution_count": 7,
   "metadata": {
    "ExecuteTime": {
     "end_time": "2020-06-16T15:36:11.905573Z",
     "start_time": "2020-06-16T15:36:11.509800Z"
    }
   },
   "outputs": [
    {
     "data": {
      "text/plain": [
       "<matplotlib.axes._subplots.AxesSubplot at 0x239f2949d68>"
      ]
     },
     "execution_count": 7,
     "metadata": {},
     "output_type": "execute_result"
    },
    {
     "data": {
      "image/png": "[encoded data removed]",
      "text/plain": [
       "<Figure size 432x288 with 1 Axes>"
      ]
     },
     "metadata": {
      "needs_background": "light"
     },
     "output_type": "display_data"
    }
   ],
   "source": [
    "# label与话费额\n",
    "train_user.plot.scatter(x='arpu_202004', y='label')"
   ]
  },
  {
   "cell_type": "code",
   "execution_count": 8,
   "metadata": {
    "ExecuteTime": {
     "end_time": "2020-06-16T15:36:12.276513Z",
     "start_time": "2020-06-16T15:36:11.908572Z"
    }
   },
   "outputs": [
    {
     "data": {
      "text/plain": [
       "<matplotlib.axes._subplots.AxesSubplot at 0x239fefc6e80>"
      ]
     },
     "execution_count": 8,
     "metadata": {},
     "output_type": "execute_result"
    },
    {
     "data": {
      "image/png": "[encoded data removed]",
      "text/plain": [
       "<Figure size 432x288 with 1 Axes>"
      ]
     },
     "metadata": {
      "needs_background": "light"
     },
     "output_type": "display_data"
    }
   ],
   "source": [
    "# label与idcard_cnt\n",
    "train_user.plot.scatter(x='idcard_cnt', y='label')"
   ]
  },
  {
   "cell_type": "code",
   "execution_count": 9,
   "metadata": {
    "ExecuteTime": {
     "end_time": "2020-06-16T15:36:12.627310Z",
     "start_time": "2020-06-16T15:36:12.279512Z"
    }
   },
   "outputs": [
    {
     "data": {
      "text/plain": [
       "<matplotlib.axes._subplots.AxesSubplot at 0x239f28de7b8>"
      ]
     },
     "execution_count": 9,
     "metadata": {},
     "output_type": "execute_result"
    },
    {
     "data": {
      "image/png": "[encoded data removed]",
      "text/plain": [
       "<Figure size 432x288 with 1 Axes>"
      ]
     },
     "metadata": {
      "needs_background": "light"
     },
     "output_type": "display_data"
    }
   ],
   "source": [
    "train_user.plot.scatter(x='idcard_cnt', y='arpu_202004')"
   ]
  },
  {
   "cell_type": "code",
   "execution_count": 10,
   "metadata": {
    "ExecuteTime": {
     "end_time": "2020-06-16T15:36:12.726270Z",
     "start_time": "2020-06-16T15:36:12.630325Z"
    }
   },
   "outputs": [],
   "source": [
    "# 将city_name和county_name拼接起来\n",
    "df_user['city_name_county_name'] = df_user['city_name'].astype(str) + '_' + df_user['county_name'].astype(str)"
   ]
  },
  {
   "cell_type": "code",
   "execution_count": 11,
   "metadata": {
    "ExecuteTime": {
     "end_time": "2020-06-16T15:36:12.739248Z",
     "start_time": "2020-06-16T15:36:12.728255Z"
    }
   },
   "outputs": [],
   "source": [
    "# 电话的数量*月消费额\n",
    "df_user['idcard_cnt*arpu_202004'] = df_user['idcard_cnt'] * df_user['arpu_202004']\n",
    "\n",
    "# 月消费额/电话的数量\n",
    "df_user['arpu_202004/idcard_cnt'] = df_user['arpu_202004'] / (df_user['idcard_cnt'] + 0.0001)"
   ]
  },
  {
   "cell_type": "code",
   "execution_count": 12,
   "metadata": {
    "ExecuteTime": {
     "end_time": "2020-06-16T15:36:12.747245Z",
     "start_time": "2020-06-16T15:36:12.743245Z"
    }
   },
   "outputs": [],
   "source": [
    "cat_feat = ['city_name', 'county_name', 'city_name_county_name']"
   ]
  },
  {
   "cell_type": "code",
   "execution_count": 13,
   "metadata": {
    "ExecuteTime": {
     "end_time": "2020-06-16T15:36:12.759236Z",
     "start_time": "2020-06-16T15:36:12.751239Z"
    }
   },
   "outputs": [],
   "source": [
    "num_feat = ['idcard_cnt', 'arpu_202004', 'idcard_cnt*arpu_202004']"
   ]
  },
  {
   "cell_type": "code",
   "execution_count": 14,
   "metadata": {
    "ExecuteTime": {
     "end_time": "2020-06-16T15:36:12.774227Z",
     "start_time": "2020-06-16T15:36:12.763233Z"
    }
   },
   "outputs": [],
   "source": [
    "def cross_cat_num(df, cat_col, num_col):\n",
    "    for f1 in tqdm(cat_col):\n",
    "        g = df.groupby(f1, as_index=False)\n",
    "        for f2 in tqdm(num_col):\n",
    "            df_new = g[f2].agg({\n",
    "                '{}_{}_max'.format(f1, f2): 'max',\n",
    "                '{}_{}_min'.format(f1, f2): 'min',\n",
    "                '{}_{}_median'.format(f1, f2): 'median',\n",
    "                '{}_{}_mean'.format(f1, f2): 'mean',\n",
    "                '{}_{}_skew'.format(f1, f2): 'skew',\n",
    "                '{}_{}_nunique'.format(f1, f2): 'nunique'\n",
    "            })\n",
    "            df = df.merge(df_new, on=f1, how='left')\n",
    "            del df_new\n",
    "            gc.collect()\n",
    "    return df"
   ]
  },
  {
   "cell_type": "code",
   "execution_count": 15,
   "metadata": {
    "ExecuteTime": {
     "end_time": "2020-06-16T15:36:14.092475Z",
     "start_time": "2020-06-16T15:36:12.778226Z"
    }
   },
   "outputs": [
    {
     "name": "stderr",
     "output_type": "stream",
     "text": [
      "  0%|                                                                                            | 0/3 [00:00<?, ?it/s]\n",
      "  0%|                                                                                            | 0/3 [00:00<?, ?it/s]\n",
      " 33%|████████████████████████████                                                        | 1/3 [00:00<00:00,  9.18it/s]\n",
      " 33%|████████████████████████████                                                        | 1/3 [00:00<00:00,  3.47it/s]\n",
      "  0%|                                                                                            | 0/3 [00:00<?, ?it/s]\n",
      " 33%|████████████████████████████                                                        | 1/3 [00:00<00:00,  5.99it/s]\n",
      " 67%|████████████████████████████████████████████████████████                            | 2/3 [00:00<00:00,  6.27it/s]\n",
      " 67%|████████████████████████████████████████████████████████                            | 2/3 [00:00<00:00,  2.84it/s]\n",
      "  0%|                                                                                            | 0/3 [00:00<?, ?it/s]\n",
      " 33%|████████████████████████████                                                        | 1/3 [00:00<00:00,  5.78it/s]\n",
      " 67%|████████████████████████████████████████████████████████                            | 2/3 [00:00<00:00,  6.01it/s]\n",
      "100%|████████████████████████████████████████████████████████████████████████████████████| 3/3 [00:01<00:00,  2.51it/s]\n"
     ]
    }
   ],
   "source": [
    "df_user = cross_cat_num(df_user, cat_feat, num_feat)"
   ]
  },
  {
   "cell_type": "code",
   "execution_count": 16,
   "metadata": {
    "ExecuteTime": {
     "end_time": "2020-06-16T15:36:14.103470Z",
     "start_time": "2020-06-16T15:36:14.095474Z"
    }
   },
   "outputs": [],
   "source": [
    "# # LABEL ENCODE\n",
    "# def label_encode(df, cols, verbose=True):\n",
    "#     for col in cols:\n",
    "#         df[col], _ = df[col].factorize(sort=True)\n",
    "#         if df[col].max() > 32000: \n",
    "#             df[col] = df[col].astype('int32')\n",
    "#         else:\n",
    "#             df[col] = df[col].astype('int16')\n",
    "#         if verbose:\n",
    "#             print(col)"
   ]
  },
  {
   "cell_type": "code",
   "execution_count": 17,
   "metadata": {
    "ExecuteTime": {
     "end_time": "2020-06-16T15:36:14.112463Z",
     "start_time": "2020-06-16T15:36:14.107466Z"
    }
   },
   "outputs": [],
   "source": [
    "# label_encode(df_user, cat_feat)"
   ]
  },
  {
   "cell_type": "code",
   "execution_count": 18,
   "metadata": {
    "ExecuteTime": {
     "end_time": "2020-06-16T15:36:14.127456Z",
     "start_time": "2020-06-16T15:36:14.119468Z"
    }
   },
   "outputs": [],
   "source": [
    "def count_encode(df, cols=[]):\n",
    "    for col in cols:\n",
    "        print(col)\n",
    "        vc = df[col].value_counts(dropna=True, normalize=True)\n",
    "        df[col + '_count'] = df[col].map(vc).astype('float32')"
   ]
  },
  {
   "cell_type": "code",
   "execution_count": 19,
   "metadata": {
    "ExecuteTime": {
     "end_time": "2020-06-16T15:36:14.182424Z",
     "start_time": "2020-06-16T15:36:14.130453Z"
    }
   },
   "outputs": [
    {
     "name": "stdout",
     "output_type": "stream",
     "text": [
      "city_name\n",
      "county_name\n",
      "city_name_county_name\n",
      "idcard_cnt\n"
     ]
    }
   ],
   "source": [
    "count_encode(df_user, cat_feat + ['idcard_cnt'])"
   ]
  },
  {
   "cell_type": "code",
   "execution_count": 20,
   "metadata": {
    "ExecuteTime": {
     "end_time": "2020-06-16T15:36:14.216403Z",
     "start_time": "2020-06-16T15:36:14.185424Z"
    }
   },
   "outputs": [
    {
     "data": {
      "text/plain": [
       "((6106, 67), (2045, 67))"
      ]
     },
     "execution_count": 20,
     "metadata": {},
     "output_type": "execute_result"
    }
   ],
   "source": [
    "df_user_train = df_user[df_user.label.notna()]\n",
    "df_user_test = df_user[df_user.label.isna()]\n",
    "\n",
    "df_user_train.shape, df_user_test.shape"
   ]
  },
  {
   "cell_type": "code",
   "execution_count": 21,
   "metadata": {
    "ExecuteTime": {
     "end_time": "2020-06-16T15:36:14.780123Z",
     "start_time": "2020-06-16T15:36:14.222401Z"
    }
   },
   "outputs": [],
   "source": [
    "ME = MeanEncoder(categorical_features=cat_feat, n_splits=3, target_type='classification', prior_weight_func=None)\n",
    "X_data = ME.fit_transform(df_user_train.drop('label', axis=1), df_user_train['label'])\n",
    "X_test = ME.transform(df_user_test)"
   ]
  },
  {
   "cell_type": "code",
   "execution_count": 22,
   "metadata": {
    "ExecuteTime": {
     "end_time": "2020-06-16T15:36:14.856040Z",
     "start_time": "2020-06-16T15:36:14.786079Z"
    }
   },
   "outputs": [
    {
     "name": "stdout",
     "output_type": "stream",
     "text": [
      "city_name\n",
      "county_name\n",
      "city_name_county_name\n",
      "city_name\n",
      "county_name\n",
      "city_name_county_name\n"
     ]
    }
   ],
   "source": [
    "# LABEL ENCODE\n",
    "def label_encode(df, cols, verbose=True):\n",
    "    for col in cols:\n",
    "        df[col], _ = df[col].factorize(sort=True)\n",
    "        if df[col].max() > 32000: \n",
    "            df[col] = df[col].astype('int32')\n",
    "        else:\n",
    "            df[col] = df[col].astype('int16')\n",
    "        if verbose:\n",
    "            print(col)\n",
    "\n",
    "            \n",
    "label_encode(X_data, cat_feat)\n",
    "label_encode(X_test, cat_feat)\n",
    "\n",
    "\n",
    "# 将类别特征处理为category\n",
    "for f in cat_feat:\n",
    "    X_data[f] = X_data[f].astype('category')\n",
    "    X_test[f] = X_test[f].astype('category')"
   ]
  },
  {
   "cell_type": "code",
   "execution_count": 23,
   "metadata": {
    "ExecuteTime": {
     "end_time": "2020-06-16T15:36:14.884023Z",
     "start_time": "2020-06-16T15:36:14.863035Z"
    }
   },
   "outputs": [],
   "source": [
    "X_train, X_valid, y_train, y_valid = train_test_split(X_data, df_user_train['label'],\n",
    "                                                      test_size=0.2,\n",
    "                                                      random_state=2020)"
   ]
  },
  {
   "cell_type": "code",
   "execution_count": 24,
   "metadata": {
    "ExecuteTime": {
     "end_time": "2020-06-16T15:36:14.898015Z",
     "start_time": "2020-06-16T15:36:14.887022Z"
    }
   },
   "outputs": [],
   "source": [
    "train_cols = [i for i in X_train if i not in ['phone_no_m', 'label']]"
   ]
  },
  {
   "cell_type": "code",
   "execution_count": 25,
   "metadata": {
    "ExecuteTime": {
     "end_time": "2020-06-16T15:36:14.918004Z",
     "start_time": "2020-06-16T15:36:14.905021Z"
    }
   },
   "outputs": [],
   "source": [
    "params = {'objective': 'binary',\n",
    "          'boosting': 'gbdt',\n",
    "          'metric': 'auc',\n",
    "          'learning_rate': 0.1,\n",
    "          'num_leaves': 31,\n",
    "          'lambda_l1': 0,\n",
    "          'lambda_l2': 1,\n",
    "          'min_data_in_leaf': 20,\n",
    "          'is_unbalance': True,\n",
    "          'max_depth': -1,\n",
    "          'seed': 2020}"
   ]
  },
  {
   "cell_type": "code",
   "execution_count": 26,
   "metadata": {
    "ExecuteTime": {
     "end_time": "2020-06-16T15:36:14.929999Z",
     "start_time": "2020-06-16T15:36:14.921001Z"
    },
    "scrolled": false
   },
   "outputs": [],
   "source": [
    "# useful_cols = []\n",
    "# useless_cols = []\n",
    "\n",
    "# for i in train_cols:\n",
    "#     print(i)\n",
    "#     lgb_train = lgb.Dataset(X_train[[i]].values, y_train) \n",
    "#     lgb_eval= lgb.Dataset(X_valid[[i]].values, y_valid, reference=lgb_train)\n",
    "#     lgb_test = lgb.train(params,\n",
    "#                          lgb_train,\n",
    "#                          num_boost_round=1000,\n",
    "#                          valid_sets=[lgb_eval, lgb_train],\n",
    "#                          early_stopping_rounds=50,\n",
    "#                          verbose_eval=20)\n",
    "    \n",
    "#     print('*' * 5)\n",
    "#     print(lgb_test.best_score['valid_0']['auc'])\n",
    "#     if lgb_test.best_score['valid_0']['auc'] > 0.50:\n",
    "#         useful_cols.append(i)\n",
    "#     else:\n",
    "#         useless_cols.append(i)\n",
    "#     print('*' * 20)\n",
    "#     print('\\n')"
   ]
  },
  {
   "cell_type": "code",
   "execution_count": 27,
   "metadata": {
    "ExecuteTime": {
     "end_time": "2020-06-16T15:36:14.947987Z",
     "start_time": "2020-06-16T15:36:14.936992Z"
    }
   },
   "outputs": [],
   "source": [
    "useful_cols = ['arpu_202004', 'city_name', 'county_name', 'idcard_cnt', 'city_name_county_name', 'idcard_cnt*arpu_202004', 'arpu_202004/idcard_cnt', 'city_name_idcard_cnt_max', 'city_name_idcard_cnt_min', 'city_name_idcard_cnt_median', 'city_name_idcard_cnt_mean', 'city_name_idcard_cnt_skew', 'city_name_idcard_cnt_nunique', 'city_name_arpu_202004_max', 'city_name_arpu_202004_min', 'city_name_arpu_202004_median', 'city_name_arpu_202004_mean', 'city_name_arpu_202004_nunique', 'city_name_idcard_cnt*arpu_202004_max', 'city_name_idcard_cnt*arpu_202004_min', 'city_name_idcard_cnt*arpu_202004_median', 'city_name_idcard_cnt*arpu_202004_mean', 'city_name_idcard_cnt*arpu_202004_nunique', 'county_name_idcard_cnt_max', 'county_name_idcard_cnt_min', 'county_name_idcard_cnt_median', 'county_name_idcard_cnt_mean', 'county_name_idcard_cnt_skew', 'county_name_idcard_cnt_nunique', 'county_name_arpu_202004_max', 'county_name_arpu_202004_min', 'county_name_arpu_202004_median', 'county_name_arpu_202004_mean', 'county_name_arpu_202004_skew', 'county_name_arpu_202004_nunique', 'county_name_idcard_cnt*arpu_202004_max', 'county_name_idcard_cnt*arpu_202004_min', 'county_name_idcard_cnt*arpu_202004_median', 'county_name_idcard_cnt*arpu_202004_mean', 'county_name_idcard_cnt*arpu_202004_skew', 'county_name_idcard_cnt*arpu_202004_nunique', 'city_name_county_name_idcard_cnt_max', 'city_name_county_name_idcard_cnt_min', 'city_name_county_name_idcard_cnt_median', 'city_name_county_name_idcard_cnt_mean', 'city_name_county_name_idcard_cnt_skew', 'city_name_county_name_idcard_cnt_nunique', 'city_name_county_name_arpu_202004_max', 'city_name_county_name_arpu_202004_min', 'city_name_county_name_arpu_202004_median', 'city_name_county_name_arpu_202004_mean', 'city_name_county_name_arpu_202004_skew', 'city_name_county_name_arpu_202004_nunique', 'city_name_county_name_idcard_cnt*arpu_202004_max', 'city_name_county_name_idcard_cnt*arpu_202004_min', 'city_name_county_name_idcard_cnt*arpu_202004_median', 'city_name_county_name_idcard_cnt*arpu_202004_mean', 'city_name_county_name_idcard_cnt*arpu_202004_skew', 'city_name_county_name_idcard_cnt*arpu_202004_nunique', 'city_name_count', 'county_name_count', 'city_name_county_name_count', 'idcard_cnt_count', 'city_name_pred_0.0', 'city_name_pred_1.0', 'county_name_pred_0.0', 'county_name_pred_1.0', 'city_name_county_name_pred_0.0', 'city_name_county_name_pred_1.0']\n",
    "\n",
    "useless_cols = ['city_name_arpu_202004_skew', 'city_name_idcard_cnt*arpu_202004_skew']"
   ]
  },
  {
   "cell_type": "code",
   "execution_count": 28,
   "metadata": {
    "ExecuteTime": {
     "end_time": "2020-06-16T15:36:14.966977Z",
     "start_time": "2020-06-16T15:36:14.954984Z"
    }
   },
   "outputs": [
    {
     "name": "stdout",
     "output_type": "stream",
     "text": [
      "['arpu_202004', 'city_name', 'county_name', 'idcard_cnt', 'city_name_county_name', 'idcard_cnt*arpu_202004', 'arpu_202004/idcard_cnt', 'city_name_idcard_cnt_max', 'city_name_idcard_cnt_min', 'city_name_idcard_cnt_median', 'city_name_idcard_cnt_mean', 'city_name_idcard_cnt_skew', 'city_name_idcard_cnt_nunique', 'city_name_arpu_202004_max', 'city_name_arpu_202004_min', 'city_name_arpu_202004_median', 'city_name_arpu_202004_mean', 'city_name_arpu_202004_nunique', 'city_name_idcard_cnt*arpu_202004_max', 'city_name_idcard_cnt*arpu_202004_min', 'city_name_idcard_cnt*arpu_202004_median', 'city_name_idcard_cnt*arpu_202004_mean', 'city_name_idcard_cnt*arpu_202004_nunique', 'county_name_idcard_cnt_max', 'county_name_idcard_cnt_min', 'county_name_idcard_cnt_median', 'county_name_idcard_cnt_mean', 'county_name_idcard_cnt_skew', 'county_name_idcard_cnt_nunique', 'county_name_arpu_202004_max', 'county_name_arpu_202004_min', 'county_name_arpu_202004_median', 'county_name_arpu_202004_mean', 'county_name_arpu_202004_skew', 'county_name_arpu_202004_nunique', 'county_name_idcard_cnt*arpu_202004_max', 'county_name_idcard_cnt*arpu_202004_min', 'county_name_idcard_cnt*arpu_202004_median', 'county_name_idcard_cnt*arpu_202004_mean', 'county_name_idcard_cnt*arpu_202004_skew', 'county_name_idcard_cnt*arpu_202004_nunique', 'city_name_county_name_idcard_cnt_max', 'city_name_county_name_idcard_cnt_min', 'city_name_county_name_idcard_cnt_median', 'city_name_county_name_idcard_cnt_mean', 'city_name_county_name_idcard_cnt_skew', 'city_name_county_name_idcard_cnt_nunique', 'city_name_county_name_arpu_202004_max', 'city_name_county_name_arpu_202004_min', 'city_name_county_name_arpu_202004_median', 'city_name_county_name_arpu_202004_mean', 'city_name_county_name_arpu_202004_skew', 'city_name_county_name_arpu_202004_nunique', 'city_name_county_name_idcard_cnt*arpu_202004_max', 'city_name_county_name_idcard_cnt*arpu_202004_min', 'city_name_county_name_idcard_cnt*arpu_202004_median', 'city_name_county_name_idcard_cnt*arpu_202004_mean', 'city_name_county_name_idcard_cnt*arpu_202004_skew', 'city_name_county_name_idcard_cnt*arpu_202004_nunique', 'city_name_count', 'county_name_count', 'city_name_county_name_count', 'idcard_cnt_count', 'city_name_pred_0.0', 'city_name_pred_1.0', 'county_name_pred_0.0', 'county_name_pred_1.0', 'city_name_county_name_pred_0.0', 'city_name_county_name_pred_1.0']\n",
      "69\n"
     ]
    }
   ],
   "source": [
    "print(useful_cols)\n",
    "print(len(useful_cols))"
   ]
  },
  {
   "cell_type": "code",
   "execution_count": 29,
   "metadata": {
    "ExecuteTime": {
     "end_time": "2020-06-16T15:36:14.996959Z",
     "start_time": "2020-06-16T15:36:14.970973Z"
    }
   },
   "outputs": [
    {
     "name": "stdout",
     "output_type": "stream",
     "text": [
      "['city_name_arpu_202004_skew', 'city_name_idcard_cnt*arpu_202004_skew']\n",
      "2\n"
     ]
    }
   ],
   "source": [
    "print(useless_cols)\n",
    "print(len(useless_cols))"
   ]
  },
  {
   "cell_type": "code",
   "execution_count": 30,
   "metadata": {
    "ExecuteTime": {
     "end_time": "2020-06-16T15:36:15.015948Z",
     "start_time": "2020-06-16T15:36:15.004956Z"
    }
   },
   "outputs": [],
   "source": [
    "X_data.drop(useless_cols + ['phone_no_m'], axis=1, inplace=True)"
   ]
  },
  {
   "cell_type": "code",
   "execution_count": 31,
   "metadata": {
    "ExecuteTime": {
     "end_time": "2020-06-16T15:36:15.023944Z",
     "start_time": "2020-06-16T15:36:15.019946Z"
    }
   },
   "outputs": [],
   "source": [
    "# backward_model = SequentialFeatureSelector(lgb.LGBMClassifier(),\n",
    "#                                            k_features=50,\n",
    "#                                            forward=False,\n",
    "#                                            verbose=2,\n",
    "#                                            cv=3,\n",
    "#                                            n_jobs=-1,\n",
    "#                                            scoring='roc_auc')\n",
    "# backward_model.fit(X_data[useful_cols], df_user_train['label'])\n",
    "# # backward_model.k_feature_idx_\n",
    "# backward_cols = X_data.columns[list(backward_model.k_feature_idx_)]\n",
    "# print(backward_cols)"
   ]
  },
  {
   "cell_type": "code",
   "execution_count": 32,
   "metadata": {
    "ExecuteTime": {
     "end_time": "2020-06-16T15:36:15.038935Z",
     "start_time": "2020-06-16T15:36:15.027941Z"
    }
   },
   "outputs": [],
   "source": [
    "backward_cols = ['arpu_202004', 'county_name', 'idcard_cnt', 'city_name_county_name', 'arpu_202004/idcard_cnt',\n",
    "                 'city_name_idcard_cnt_max', 'city_name_idcard_cnt_min', 'city_name_idcard_cnt_median',\n",
    "                 'city_name_idcard_cnt_mean', 'city_name_idcard_cnt_skew', 'city_name_idcard_cnt_nunique',\n",
    "                 'city_name_arpu_202004_max', 'city_name_arpu_202004_median', 'city_name_arpu_202004_mean',\n",
    "                 'city_name_idcard_cnt*arpu_202004_max', 'city_name_idcard_cnt*arpu_202004_min',\n",
    "                 'city_name_idcard_cnt*arpu_202004_median', 'city_name_idcard_cnt*arpu_202004_mean',\n",
    "                 'city_name_idcard_cnt*arpu_202004_nunique', 'county_name_idcard_cnt_min', 'county_name_idcard_cnt_mean',\n",
    "                 'county_name_idcard_cnt_skew', 'county_name_arpu_202004_max', 'county_name_arpu_202004_median',\n",
    "                 'county_name_arpu_202004_mean', 'county_name_idcard_cnt*arpu_202004_max', 'county_name_idcard_cnt*arpu_202004_min',\n",
    "                 'county_name_idcard_cnt*arpu_202004_median', 'county_name_idcard_cnt*arpu_202004_mean',\n",
    "                 'county_name_idcard_cnt*arpu_202004_nunique', 'city_name_county_name_idcard_cnt_max',\n",
    "                 'city_name_county_name_idcard_cnt_median', 'city_name_county_name_idcard_cnt_mean',\n",
    "                 'city_name_county_name_idcard_cnt_skew', 'city_name_county_name_idcard_cnt_nunique',\n",
    "                 'city_name_county_name_arpu_202004_max', 'city_name_county_name_arpu_202004_min',\n",
    "                 'city_name_county_name_arpu_202004_median', 'city_name_county_name_arpu_202004_mean',\n",
    "                 'city_name_county_name_arpu_202004_nunique', 'city_name_county_name_idcard_cnt*arpu_202004_max',\n",
    "                 'city_name_county_name_idcard_cnt*arpu_202004_min', 'city_name_county_name_idcard_cnt*arpu_202004_mean',\n",
    "                 'city_name_county_name_idcard_cnt*arpu_202004_nunique', 'county_name_count', 'city_name_county_name_count',\n",
    "                 'idcard_cnt_count', 'city_name_pred_1.0', 'county_name_pred_0.0', 'city_name_county_name_pred_0.0']"
   ]
  },
  {
   "cell_type": "code",
   "execution_count": 33,
   "metadata": {
    "ExecuteTime": {
     "end_time": "2020-06-16T15:36:15.051927Z",
     "start_time": "2020-06-16T15:36:15.043933Z"
    }
   },
   "outputs": [
    {
     "data": {
      "text/plain": [
       "50"
      ]
     },
     "execution_count": 33,
     "metadata": {},
     "output_type": "execute_result"
    }
   ],
   "source": [
    "len(backward_cols)"
   ]
  },
  {
   "cell_type": "code",
   "execution_count": 34,
   "metadata": {
    "ExecuteTime": {
     "end_time": "2020-06-16T15:36:18.597903Z",
     "start_time": "2020-06-16T15:36:15.055925Z"
    }
   },
   "outputs": [
    {
     "data": {
      "text/html": [
       "<div>\n",
       "<style scoped>\n",
       "    .dataframe tbody tr th:only-of-type {\n",
       "        vertical-align: middle;\n",
       "    }\n",
       "\n",
       "    .dataframe tbody tr th {\n",
       "        vertical-align: top;\n",
       "    }\n",
       "\n",
       "    .dataframe thead th {\n",
       "        text-align: right;\n",
       "    }\n",
       "</style>\n",
       "<table border=\"1\" class=\"dataframe\">\n",
       "  <thead>\n",
       "    <tr style=\"text-align: right;\">\n",
       "      <th></th>\n",
       "      <th>train auc-mean</th>\n",
       "      <th>train auc-stdv</th>\n",
       "      <th>valid auc-mean</th>\n",
       "      <th>valid auc-stdv</th>\n",
       "    </tr>\n",
       "  </thead>\n",
       "  <tbody>\n",
       "    <tr>\n",
       "      <th>0</th>\n",
       "      <td>0.895675</td>\n",
       "      <td>0.004773</td>\n",
       "      <td>0.852918</td>\n",
       "      <td>0.007802</td>\n",
       "    </tr>\n",
       "    <tr>\n",
       "      <th>1</th>\n",
       "      <td>0.903921</td>\n",
       "      <td>0.006593</td>\n",
       "      <td>0.859671</td>\n",
       "      <td>0.006298</td>\n",
       "    </tr>\n",
       "    <tr>\n",
       "      <th>2</th>\n",
       "      <td>0.908903</td>\n",
       "      <td>0.005319</td>\n",
       "      <td>0.863274</td>\n",
       "      <td>0.006338</td>\n",
       "    </tr>\n",
       "    <tr>\n",
       "      <th>3</th>\n",
       "      <td>0.911374</td>\n",
       "      <td>0.004318</td>\n",
       "      <td>0.864011</td>\n",
       "      <td>0.009195</td>\n",
       "    </tr>\n",
       "    <tr>\n",
       "      <th>4</th>\n",
       "      <td>0.914393</td>\n",
       "      <td>0.003144</td>\n",
       "      <td>0.864039</td>\n",
       "      <td>0.009467</td>\n",
       "    </tr>\n",
       "    <tr>\n",
       "      <th>5</th>\n",
       "      <td>0.917123</td>\n",
       "      <td>0.003063</td>\n",
       "      <td>0.864989</td>\n",
       "      <td>0.009415</td>\n",
       "    </tr>\n",
       "    <tr>\n",
       "      <th>6</th>\n",
       "      <td>0.919367</td>\n",
       "      <td>0.002837</td>\n",
       "      <td>0.865670</td>\n",
       "      <td>0.009962</td>\n",
       "    </tr>\n",
       "    <tr>\n",
       "      <th>7</th>\n",
       "      <td>0.921226</td>\n",
       "      <td>0.002485</td>\n",
       "      <td>0.865971</td>\n",
       "      <td>0.008983</td>\n",
       "    </tr>\n",
       "    <tr>\n",
       "      <th>8</th>\n",
       "      <td>0.922749</td>\n",
       "      <td>0.002584</td>\n",
       "      <td>0.866897</td>\n",
       "      <td>0.009175</td>\n",
       "    </tr>\n",
       "    <tr>\n",
       "      <th>9</th>\n",
       "      <td>0.924485</td>\n",
       "      <td>0.002704</td>\n",
       "      <td>0.867400</td>\n",
       "      <td>0.009199</td>\n",
       "    </tr>\n",
       "    <tr>\n",
       "      <th>10</th>\n",
       "      <td>0.926081</td>\n",
       "      <td>0.003101</td>\n",
       "      <td>0.868517</td>\n",
       "      <td>0.009275</td>\n",
       "    </tr>\n",
       "    <tr>\n",
       "      <th>11</th>\n",
       "      <td>0.927481</td>\n",
       "      <td>0.002605</td>\n",
       "      <td>0.868237</td>\n",
       "      <td>0.009217</td>\n",
       "    </tr>\n",
       "    <tr>\n",
       "      <th>12</th>\n",
       "      <td>0.929481</td>\n",
       "      <td>0.002859</td>\n",
       "      <td>0.869016</td>\n",
       "      <td>0.008998</td>\n",
       "    </tr>\n",
       "    <tr>\n",
       "      <th>13</th>\n",
       "      <td>0.931083</td>\n",
       "      <td>0.002837</td>\n",
       "      <td>0.869475</td>\n",
       "      <td>0.008411</td>\n",
       "    </tr>\n",
       "    <tr>\n",
       "      <th>14</th>\n",
       "      <td>0.932475</td>\n",
       "      <td>0.002956</td>\n",
       "      <td>0.869694</td>\n",
       "      <td>0.008180</td>\n",
       "    </tr>\n",
       "    <tr>\n",
       "      <th>15</th>\n",
       "      <td>0.934089</td>\n",
       "      <td>0.003099</td>\n",
       "      <td>0.870405</td>\n",
       "      <td>0.007708</td>\n",
       "    </tr>\n",
       "    <tr>\n",
       "      <th>16</th>\n",
       "      <td>0.935721</td>\n",
       "      <td>0.003494</td>\n",
       "      <td>0.871043</td>\n",
       "      <td>0.006831</td>\n",
       "    </tr>\n",
       "    <tr>\n",
       "      <th>17</th>\n",
       "      <td>0.937180</td>\n",
       "      <td>0.003598</td>\n",
       "      <td>0.871574</td>\n",
       "      <td>0.006944</td>\n",
       "    </tr>\n",
       "    <tr>\n",
       "      <th>18</th>\n",
       "      <td>0.938818</td>\n",
       "      <td>0.003501</td>\n",
       "      <td>0.871552</td>\n",
       "      <td>0.007019</td>\n",
       "    </tr>\n",
       "    <tr>\n",
       "      <th>19</th>\n",
       "      <td>0.940535</td>\n",
       "      <td>0.003660</td>\n",
       "      <td>0.872027</td>\n",
       "      <td>0.007018</td>\n",
       "    </tr>\n",
       "  </tbody>\n",
       "</table>\n",
       "</div>"
      ],
      "text/plain": [
       "    train auc-mean  train auc-stdv  valid auc-mean  valid auc-stdv\n",
       "0         0.895675        0.004773        0.852918        0.007802\n",
       "1         0.903921        0.006593        0.859671        0.006298\n",
       "2         0.908903        0.005319        0.863274        0.006338\n",
       "3         0.911374        0.004318        0.864011        0.009195\n",
       "4         0.914393        0.003144        0.864039        0.009467\n",
       "5         0.917123        0.003063        0.864989        0.009415\n",
       "6         0.919367        0.002837        0.865670        0.009962\n",
       "7         0.921226        0.002485        0.865971        0.008983\n",
       "8         0.922749        0.002584        0.866897        0.009175\n",
       "9         0.924485        0.002704        0.867400        0.009199\n",
       "10        0.926081        0.003101        0.868517        0.009275\n",
       "11        0.927481        0.002605        0.868237        0.009217\n",
       "12        0.929481        0.002859        0.869016        0.008998\n",
       "13        0.931083        0.002837        0.869475        0.008411\n",
       "14        0.932475        0.002956        0.869694        0.008180\n",
       "15        0.934089        0.003099        0.870405        0.007708\n",
       "16        0.935721        0.003494        0.871043        0.006831\n",
       "17        0.937180        0.003598        0.871574        0.006944\n",
       "18        0.938818        0.003501        0.871552        0.007019\n",
       "19        0.940535        0.003660        0.872027        0.007018"
      ]
     },
     "execution_count": 34,
     "metadata": {},
     "output_type": "execute_result"
    }
   ],
   "source": [
    "lgb_data = lgb.Dataset(X_data[backward_cols].values, df_user_train['label'])\n",
    "\n",
    "cv_results = lgb.cv(params,\n",
    "                    lgb_data,\n",
    "                    num_boost_round=1000,\n",
    "                    early_stopping_rounds=200,\n",
    "                    eval_train_metric=True,\n",
    "                    stratified=True,\n",
    "                    shuffle=True,\n",
    "                    nfold=3)\n",
    "cv_df = pd.DataFrame(cv_results)\n",
    "cv_df"
   ]
  },
  {
   "cell_type": "code",
   "execution_count": 35,
   "metadata": {
    "ExecuteTime": {
     "end_time": "2020-06-16T15:36:18.608898Z",
     "start_time": "2020-06-16T15:36:18.600903Z"
    }
   },
   "outputs": [
    {
     "data": {
      "text/plain": [
       "20"
      ]
     },
     "execution_count": 35,
     "metadata": {},
     "output_type": "execute_result"
    }
   ],
   "source": [
    "len(cv_df)"
   ]
  },
  {
   "cell_type": "code",
   "execution_count": 36,
   "metadata": {
    "ExecuteTime": {
     "end_time": "2020-06-16T15:36:18.839766Z",
     "start_time": "2020-06-16T15:36:18.612897Z"
    }
   },
   "outputs": [],
   "source": [
    "lgb_train = lgb.train(params,\n",
    "                      lgb_data,\n",
    "                      num_boost_round=len(cv_df),\n",
    "                      valid_sets=lgb_data,\n",
    "                      verbose_eval=100)"
   ]
  },
  {
   "cell_type": "code",
   "execution_count": 37,
   "metadata": {
    "ExecuteTime": {
     "end_time": "2020-06-16T15:36:18.966695Z",
     "start_time": "2020-06-16T15:36:18.842765Z"
    }
   },
   "outputs": [],
   "source": [
    "X_test['label'] = np.where(lgb_train.predict(X_test[backward_cols]) > 0.5, 1, 0)\n",
    "X_test[['phone_no_m', 'label']].to_csv('../sub/sub_{}.csv'.format(time.strftime('%Y%m%d')), index=False)"
   ]
  }
 ],
 "metadata": {
  "kernelspec": {
   "display_name": "Python 3",
   "language": "python",
   "name": "python3"
  },
  "language_info": {
   "codemirror_mode": {
    "name": "ipython",
    "version": 3
   },
   "file_extension": ".py",
   "mimetype": "text/x-python",
   "name": "python",
   "nbconvert_exporter": "python",
   "pygments_lexer": "ipython3",
   "version": "3.7.3"
  },
  "toc": {
   "base_numbering": 1,
   "nav_menu": {},
   "number_sections": true,
   "sideBar": true,
   "skip_h1_title": false,
   "title_cell": "Table of Contents",
   "title_sidebar": "Contents",
   "toc_cell": false,
   "toc_position": {},
   "toc_section_display": true,
   "toc_window_display": false
  },
  "varInspector": {
   "cols": {
    "lenName": 16,
    "lenType": 16,
    "lenVar": 40
   },
   "kernels_config": {
    "python": {
     "delete_cmd_postfix": "",
     "delete_cmd_prefix": "del ",
     "library": "var_list.py",
     "varRefreshCmd": "print(var_dic_list())"
    },
    "r": {
     "delete_cmd_postfix": ") ",
     "delete_cmd_prefix": "rm(",
     "library": "var_list.r",
     "varRefreshCmd": "cat(var_dic_list()) "
    }
   },
   "types_to_exclude": [
    "module",
    "function",
    "builtin_function_or_method",
    "instance",
    "_Feature"
   ],
   "window_display": false
  }
 },
 "nbformat": 4,
 "nbformat_minor": 4
}
