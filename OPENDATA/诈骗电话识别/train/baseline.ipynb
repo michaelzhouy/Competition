{
 "cells": [
  {
   "cell_type": "code",
   "execution_count": 1,
   "metadata": {
    "ExecuteTime": {
     "end_time": "2020-06-10T09:56:19.898922Z",
     "start_time": "2020-06-10T09:56:18.586074Z"
    }
   },
   "outputs": [],
   "source": [
    "import numpy as np\n",
    "import pandas as pd\n",
    "import matplotlib.pyplot as plt\n",
    "import seaborn as sns\n",
    "import warnings\n",
    "from tqdm import tqdm\n",
    "from sklearn.preprocessing import LabelEncoder\n",
    "import gc\n",
    "import lightgbm as lgb\n",
    "from sklearn.metrics import f1_score\n",
    "from sklearn.model_selection import StratifiedKFold, KFold\n",
    "from itertools import product\n",
    "\n",
    "pd.set_option('max_columns', None)\n",
    "pd.set_option('max_rows', None)\n",
    "pd.set_option('max_colwidth', 200)\n",
    "\n",
    "warnings.filterwarnings('ignore')\n",
    "tqdm.pandas()\n",
    "\n",
    "%matplotlib inline"
   ]
  },
  {
   "cell_type": "code",
   "execution_count": 2,
   "metadata": {
    "ExecuteTime": {
     "end_time": "2020-06-10T09:56:19.930836Z",
     "start_time": "2020-06-10T09:56:19.900916Z"
    }
   },
   "outputs": [],
   "source": [
    "class MeanEncoder:\n",
    "    def __init__(self, categorical_features, n_splits=10, target_type='classification', prior_weight_func=None):\n",
    "        \"\"\"\n",
    "        :param categorical_features: list of str, the name of the categorical columns to encode\n",
    " \n",
    "        :param n_splits: the number of splits used in mean encoding\n",
    " \n",
    "        :param target_type: str, 'regression' or 'classification'\n",
    " \n",
    "        :param prior_weight_func:\n",
    "        a function that takes in the number of observations, and outputs prior weight\n",
    "        when a dict is passed, the default exponential decay function will be used:\n",
    "        k: the number of observations needed for the posterior to be weighted equally as the prior\n",
    "        f: larger f --> smaller slope\n",
    "        \"\"\"\n",
    " \n",
    "        self.categorical_features = categorical_features\n",
    "        self.n_splits = n_splits\n",
    "        self.learned_stats = {}\n",
    " \n",
    "        if target_type == 'classification':\n",
    "            self.target_type = target_type\n",
    "            self.target_values = []\n",
    "        else:\n",
    "            self.target_type = 'regression'\n",
    "            self.target_values = None\n",
    " \n",
    "        if isinstance(prior_weight_func, dict):\n",
    "            self.prior_weight_func = eval('lambda x: 1 / (1 + np.exp((x - k) / f))', dict(prior_weight_func, np=np))\n",
    "        elif callable(prior_weight_func):\n",
    "            self.prior_weight_func = prior_weight_func\n",
    "        else:\n",
    "            self.prior_weight_func = lambda x: 1 / (1 + np.exp((x - 2) / 1))\n",
    " \n",
    "    @staticmethod\n",
    "    def mean_encode_subroutine(X_train, y_train, X_test, variable, target, prior_weight_func):\n",
    "        X_train = X_train[[variable]].copy()\n",
    "        X_test = X_test[[variable]].copy()\n",
    " \n",
    "        if target is not None:\n",
    "            nf_name = '{}_pred_{}'.format(variable, target)\n",
    "            X_train['pred_temp'] = (y_train == target).astype(int)  # classification\n",
    "        else:\n",
    "            nf_name = '{}_pred'.format(variable)\n",
    "            X_train['pred_temp'] = y_train  # regression\n",
    "        prior = X_train['pred_temp'].mean()\n",
    " \n",
    "        col_avg_y = X_train.groupby(by=variable, axis=0)['pred_temp'].agg(['mean', 'size'])\n",
    "        col_avg_y['size'] = prior_weight_func(col_avg_y['size'])\n",
    "        col_avg_y[nf_name] = col_avg_y['size'] * prior + (1 - col_avg_y['size']) * col_avg_y['mean']\n",
    "        col_avg_y.drop(['size', 'mean'], axis=1, inplace=True)\n",
    " \n",
    "        nf_train = X_train.join(col_avg_y, on=variable)[nf_name].values\n",
    "        nf_test = X_test.join(col_avg_y, on=variable).fillna(prior, inplace=False)[nf_name].values\n",
    " \n",
    "        return nf_train, nf_test, prior, col_avg_y\n",
    " \n",
    "    def fit_transform(self, X, y):\n",
    "        \"\"\"\n",
    "        :param X: pandas DataFrame, n_samples * n_features\n",
    "        :param y: pandas Series or numpy array, n_samples\n",
    "        :return X_new: the transformed pandas DataFrame containing mean-encoded categorical features\n",
    "        \"\"\"\n",
    "        X_new = X.copy()\n",
    "        if self.target_type == 'classification':\n",
    "            skf = StratifiedKFold(self.n_splits)\n",
    "        else:\n",
    "            skf = KFold(self.n_splits)\n",
    " \n",
    "        if self.target_type == 'classification':\n",
    "            self.target_values = sorted(set(y))\n",
    "            self.learned_stats = {'{}_pred_{}'.format(variable, target): [] for variable, target in\n",
    "                                  product(self.categorical_features, self.target_values)}\n",
    "            for variable, target in product(self.categorical_features, self.target_values):\n",
    "                nf_name = '{}_pred_{}'.format(variable, target)\n",
    "                X_new.loc[:, nf_name] = np.nan\n",
    "                for large_ind, small_ind in skf.split(X, y):\n",
    "                    nf_large, nf_small, prior, col_avg_y = MeanEncoder.mean_encode_subroutine(\n",
    "                        X_new.iloc[large_ind], y.iloc[large_ind], X_new.iloc[small_ind], variable, target, self.prior_weight_func)\n",
    "                    X_new.iloc[small_ind, -1] = nf_small\n",
    "                    self.learned_stats[nf_name].append((prior, col_avg_y))\n",
    "        else:\n",
    "            self.learned_stats = {'{}_pred'.format(variable): [] for variable in self.categorical_features}\n",
    "            for variable in self.categorical_features:\n",
    "                nf_name = '{}_pred'.format(variable)\n",
    "                X_new.loc[:, nf_name] = np.nan\n",
    "                for large_ind, small_ind in skf.split(X, y):\n",
    "                    nf_large, nf_small, prior, col_avg_y = MeanEncoder.mean_encode_subroutine(\n",
    "                        X_new.iloc[large_ind], y.iloc[large_ind], X_new.iloc[small_ind], variable, None, self.prior_weight_func)\n",
    "                    X_new.iloc[small_ind, -1] = nf_small\n",
    "                    self.learned_stats[nf_name].append((prior, col_avg_y))\n",
    "        return X_new\n",
    " \n",
    "    def transform(self, X):\n",
    "        \"\"\"\n",
    "        :param X: pandas DataFrame, n_samples * n_features\n",
    "        :return X_new: the transformed pandas DataFrame containing mean-encoded categorical features\n",
    "        \"\"\"\n",
    "        X_new = X.copy()\n",
    " \n",
    "        if self.target_type == 'classification':\n",
    "            for variable, target in product(self.categorical_features, self.target_values):\n",
    "                nf_name = '{}_pred_{}'.format(variable, target)\n",
    "                X_new[nf_name] = 0\n",
    "                for prior, col_avg_y in self.learned_stats[nf_name]:\n",
    "                    X_new[nf_name] += X_new[[variable]].join(col_avg_y, on=variable).fillna(prior, inplace=False)[\n",
    "                        nf_name]\n",
    "                X_new[nf_name] /= self.n_splits\n",
    "        else:\n",
    "            for variable in self.categorical_features:\n",
    "                nf_name = '{}_pred'.format(variable)\n",
    "                X_new[nf_name] = 0\n",
    "                for prior, col_avg_y in self.learned_stats[nf_name]:\n",
    "                    X_new[nf_name] += X_new[[variable]].join(col_avg_y, on=variable).fillna(prior, inplace=False)[\n",
    "                        nf_name]\n",
    "                X_new[nf_name] /= self.n_splits\n",
    " \n",
    "        return X_new"
   ]
  },
  {
   "cell_type": "markdown",
   "metadata": {},
   "source": [
    "### 用户表"
   ]
  },
  {
   "cell_type": "code",
   "execution_count": 3,
   "metadata": {
    "ExecuteTime": {
     "end_time": "2020-06-10T09:56:19.977711Z",
     "start_time": "2020-06-10T09:56:19.932832Z"
    }
   },
   "outputs": [],
   "source": [
    "train_user = pd.read_csv('../input/train/train_user.csv')\n",
    "test_user = pd.read_csv('../input/test/test_user.csv')"
   ]
  },
  {
   "cell_type": "code",
   "execution_count": 4,
   "metadata": {
    "ExecuteTime": {
     "end_time": "2020-06-10T09:56:19.985690Z",
     "start_time": "2020-06-10T09:56:19.978708Z"
    }
   },
   "outputs": [
    {
     "data": {
      "text/plain": [
       "(6106, 13)"
      ]
     },
     "execution_count": 4,
     "metadata": {},
     "output_type": "execute_result"
    }
   ],
   "source": [
    "train_user.shape"
   ]
  },
  {
   "cell_type": "code",
   "execution_count": 5,
   "metadata": {
    "ExecuteTime": {
     "end_time": "2020-06-10T09:56:20.008629Z",
     "start_time": "2020-06-10T09:56:19.987685Z"
    }
   },
   "outputs": [
    {
     "data": {
      "text/html": [
       "<div>\n",
       "<style scoped>\n",
       "    .dataframe tbody tr th:only-of-type {\n",
       "        vertical-align: middle;\n",
       "    }\n",
       "\n",
       "    .dataframe tbody tr th {\n",
       "        vertical-align: top;\n",
       "    }\n",
       "\n",
       "    .dataframe thead th {\n",
       "        text-align: right;\n",
       "    }\n",
       "</style>\n",
       "<table border=\"1\" class=\"dataframe\">\n",
       "  <thead>\n",
       "    <tr style=\"text-align: right;\">\n",
       "      <th></th>\n",
       "      <th>phone_no_m</th>\n",
       "      <th>city_name</th>\n",
       "      <th>county_name</th>\n",
       "      <th>idcard_cnt</th>\n",
       "      <th>arpu_201908</th>\n",
       "      <th>arpu_201909</th>\n",
       "      <th>arpu_201910</th>\n",
       "      <th>arpu_201911</th>\n",
       "      <th>arpu_201912</th>\n",
       "      <th>arpu_202001</th>\n",
       "      <th>arpu_202002</th>\n",
       "      <th>arpu_202003</th>\n",
       "      <th>label</th>\n",
       "    </tr>\n",
       "  </thead>\n",
       "  <tbody>\n",
       "    <tr>\n",
       "      <th>0</th>\n",
       "      <td>672ddbf02a5544d32e4ecc9433b1981bffe23bf912273a3a835f6cccb78b8ed7554e9ab0fbcd33d19eb6063ce00542dd223cc5cc83c68f07bcf933547b6776b1</td>\n",
       "      <td>绵阳</td>\n",
       "      <td>江油分公司</td>\n",
       "      <td>1</td>\n",
       "      <td>46.06</td>\n",
       "      <td>45.00</td>\n",
       "      <td>45.0</td>\n",
       "      <td>45.00</td>\n",
       "      <td>45.00</td>\n",
       "      <td>45.0</td>\n",
       "      <td>45.0</td>\n",
       "      <td>45.0</td>\n",
       "      <td>0</td>\n",
       "    </tr>\n",
       "    <tr>\n",
       "      <th>1</th>\n",
       "      <td>5e1272273e041e82cb275ae877710be98cdaf5b0a8f34de8d361f71d5268fa0851edffd3950e170df1e3846fcf90cc7cc8299be9139a2ac4b5c5e5121d832674</td>\n",
       "      <td>德阳</td>\n",
       "      <td>旌阳分公司</td>\n",
       "      <td>1</td>\n",
       "      <td>79.00</td>\n",
       "      <td>79.20</td>\n",
       "      <td>79.1</td>\n",
       "      <td>79.30</td>\n",
       "      <td>41.40</td>\n",
       "      <td>34.1</td>\n",
       "      <td>59.4</td>\n",
       "      <td>60.0</td>\n",
       "      <td>0</td>\n",
       "    </tr>\n",
       "    <tr>\n",
       "      <th>2</th>\n",
       "      <td>eaab3472ec87b076e69e6e8bb62b14341638fc63661a6c682d6add360a4332a8ad294d8470d64a73c6e53e8413f0ad93b9ea65afab717e58d312554f33553ee7</td>\n",
       "      <td>成都</td>\n",
       "      <td>金堂分公司</td>\n",
       "      <td>2</td>\n",
       "      <td>18.85</td>\n",
       "      <td>24.45</td>\n",
       "      <td>22.0</td>\n",
       "      <td>21.40</td>\n",
       "      <td>22.15</td>\n",
       "      <td>21.1</td>\n",
       "      <td>61.3</td>\n",
       "      <td>63.0</td>\n",
       "      <td>0</td>\n",
       "    </tr>\n",
       "    <tr>\n",
       "      <th>3</th>\n",
       "      <td>0ce1bb415704178bf44e9c9b431a39b083a132c8e6d99f3627cd4520064b93ec66a72d085a67f0f40eebb9f901072965073e398f04c4ae500a1db4dfb13a972c</td>\n",
       "      <td>成都</td>\n",
       "      <td>高新分公司</td>\n",
       "      <td>2</td>\n",
       "      <td>19.20</td>\n",
       "      <td>29.65</td>\n",
       "      <td>130.4</td>\n",
       "      <td>173.12</td>\n",
       "      <td>19.00</td>\n",
       "      <td>19.0</td>\n",
       "      <td>19.0</td>\n",
       "      <td>23.2</td>\n",
       "      <td>0</td>\n",
       "    </tr>\n",
       "    <tr>\n",
       "      <th>4</th>\n",
       "      <td>28b87f35f63f65096a53e3a4c97eaffd4a6c43ffa7e92d7706b20520aa11fff0f4ce06203f66758ec0f0e70780e4e258aae6aa1f23439e115528e08eda71ed20</td>\n",
       "      <td>德阳</td>\n",
       "      <td>旌阳分公司</td>\n",
       "      <td>1</td>\n",
       "      <td>50.00</td>\n",
       "      <td>50.00</td>\n",
       "      <td>50.0</td>\n",
       "      <td>50.00</td>\n",
       "      <td>50.00</td>\n",
       "      <td>50.0</td>\n",
       "      <td>50.0</td>\n",
       "      <td>50.0</td>\n",
       "      <td>0</td>\n",
       "    </tr>\n",
       "  </tbody>\n",
       "</table>\n",
       "</div>"
      ],
      "text/plain": [
       "                                                                                                                         phone_no_m  \\\n",
       "0  672ddbf02a5544d32e4ecc9433b1981bffe23bf912273a3a835f6cccb78b8ed7554e9ab0fbcd33d19eb6063ce00542dd223cc5cc83c68f07bcf933547b6776b1   \n",
       "1  5e1272273e041e82cb275ae877710be98cdaf5b0a8f34de8d361f71d5268fa0851edffd3950e170df1e3846fcf90cc7cc8299be9139a2ac4b5c5e5121d832674   \n",
       "2  eaab3472ec87b076e69e6e8bb62b14341638fc63661a6c682d6add360a4332a8ad294d8470d64a73c6e53e8413f0ad93b9ea65afab717e58d312554f33553ee7   \n",
       "3  0ce1bb415704178bf44e9c9b431a39b083a132c8e6d99f3627cd4520064b93ec66a72d085a67f0f40eebb9f901072965073e398f04c4ae500a1db4dfb13a972c   \n",
       "4  28b87f35f63f65096a53e3a4c97eaffd4a6c43ffa7e92d7706b20520aa11fff0f4ce06203f66758ec0f0e70780e4e258aae6aa1f23439e115528e08eda71ed20   \n",
       "\n",
       "  city_name county_name  idcard_cnt  arpu_201908  arpu_201909  arpu_201910  \\\n",
       "0        绵阳       江油分公司           1        46.06        45.00         45.0   \n",
       "1        德阳       旌阳分公司           1        79.00        79.20         79.1   \n",
       "2        成都       金堂分公司           2        18.85        24.45         22.0   \n",
       "3        成都       高新分公司           2        19.20        29.65        130.4   \n",
       "4        德阳       旌阳分公司           1        50.00        50.00         50.0   \n",
       "\n",
       "   arpu_201911  arpu_201912  arpu_202001  arpu_202002  arpu_202003  label  \n",
       "0        45.00        45.00         45.0         45.0         45.0      0  \n",
       "1        79.30        41.40         34.1         59.4         60.0      0  \n",
       "2        21.40        22.15         21.1         61.3         63.0      0  \n",
       "3       173.12        19.00         19.0         19.0         23.2      0  \n",
       "4        50.00        50.00         50.0         50.0         50.0      0  "
      ]
     },
     "execution_count": 5,
     "metadata": {},
     "output_type": "execute_result"
    }
   ],
   "source": [
    "train_user.head()"
   ]
  },
  {
   "cell_type": "code",
   "execution_count": 6,
   "metadata": {
    "ExecuteTime": {
     "end_time": "2020-06-10T09:56:20.021594Z",
     "start_time": "2020-06-10T09:56:20.009625Z"
    }
   },
   "outputs": [
    {
     "data": {
      "text/html": [
       "<div>\n",
       "<style scoped>\n",
       "    .dataframe tbody tr th:only-of-type {\n",
       "        vertical-align: middle;\n",
       "    }\n",
       "\n",
       "    .dataframe tbody tr th {\n",
       "        vertical-align: top;\n",
       "    }\n",
       "\n",
       "    .dataframe thead th {\n",
       "        text-align: right;\n",
       "    }\n",
       "</style>\n",
       "<table border=\"1\" class=\"dataframe\">\n",
       "  <thead>\n",
       "    <tr style=\"text-align: right;\">\n",
       "      <th></th>\n",
       "      <th>phone_no_m</th>\n",
       "      <th>city_name</th>\n",
       "      <th>county_name</th>\n",
       "      <th>idcard_cnt</th>\n",
       "      <th>arpu_202004</th>\n",
       "    </tr>\n",
       "  </thead>\n",
       "  <tbody>\n",
       "    <tr>\n",
       "      <th>0</th>\n",
       "      <td>22d522340df77e2252c1a4d92b4bcb00d515e36f3ec6bf94e017b4ffd67e26520af18637ad91bde69abd831cc36cdc0c5af5e57bc280f95f79efef7bfa9c6926</td>\n",
       "      <td>成都</td>\n",
       "      <td>金牛分公司</td>\n",
       "      <td>1</td>\n",
       "      <td>9.0</td>\n",
       "    </tr>\n",
       "    <tr>\n",
       "      <th>1</th>\n",
       "      <td>5220d4b8429bdba3971a7b46a088c6b8fa6710f40607598ac1219daab6071510b3f66f78637420574dbb2d5488d44de9d4360a644bbe4ec45aaa4b7513bdc886</td>\n",
       "      <td>天府新区</td>\n",
       "      <td>天府直属部门</td>\n",
       "      <td>1</td>\n",
       "      <td>NaN</td>\n",
       "    </tr>\n",
       "    <tr>\n",
       "      <th>2</th>\n",
       "      <td>7d19dd2b50ced56f03d23bf928cf34dc570a48525571a868ffdcdc53a865b7a41c386a6f1d6567dd4a710530b933308c77d1ef89f77b580d1983dadd3de162ea</td>\n",
       "      <td>成都</td>\n",
       "      <td>锦江分公司</td>\n",
       "      <td>1</td>\n",
       "      <td>9.0</td>\n",
       "    </tr>\n",
       "    <tr>\n",
       "      <th>3</th>\n",
       "      <td>134a4a591185c9d3788021896dcfc235e9e0a6a1e3f8a4fd3a9f9d9bf4a033e791b7199db980b0678020bdf689d719306a5c694ffa47b4ba2bec43ceda68dfc1</td>\n",
       "      <td>绵阳</td>\n",
       "      <td>江油分公司</td>\n",
       "      <td>1</td>\n",
       "      <td>138.7</td>\n",
       "    </tr>\n",
       "    <tr>\n",
       "      <th>4</th>\n",
       "      <td>2356dcd6759d50455ddaeed03c838843558e9182d5962f8a4c81a9a178063c49ab988750f795bb6c5462aee5dace2ad9fd18dbb1a6619dbb1e771e9b0f192da9</td>\n",
       "      <td>成都</td>\n",
       "      <td>青羊分公司</td>\n",
       "      <td>2</td>\n",
       "      <td>39.0</td>\n",
       "    </tr>\n",
       "  </tbody>\n",
       "</table>\n",
       "</div>"
      ],
      "text/plain": [
       "                                                                                                                         phone_no_m  \\\n",
       "0  22d522340df77e2252c1a4d92b4bcb00d515e36f3ec6bf94e017b4ffd67e26520af18637ad91bde69abd831cc36cdc0c5af5e57bc280f95f79efef7bfa9c6926   \n",
       "1  5220d4b8429bdba3971a7b46a088c6b8fa6710f40607598ac1219daab6071510b3f66f78637420574dbb2d5488d44de9d4360a644bbe4ec45aaa4b7513bdc886   \n",
       "2  7d19dd2b50ced56f03d23bf928cf34dc570a48525571a868ffdcdc53a865b7a41c386a6f1d6567dd4a710530b933308c77d1ef89f77b580d1983dadd3de162ea   \n",
       "3  134a4a591185c9d3788021896dcfc235e9e0a6a1e3f8a4fd3a9f9d9bf4a033e791b7199db980b0678020bdf689d719306a5c694ffa47b4ba2bec43ceda68dfc1   \n",
       "4  2356dcd6759d50455ddaeed03c838843558e9182d5962f8a4c81a9a178063c49ab988750f795bb6c5462aee5dace2ad9fd18dbb1a6619dbb1e771e9b0f192da9   \n",
       "\n",
       "  city_name county_name  idcard_cnt  arpu_202004  \n",
       "0        成都       金牛分公司           1          9.0  \n",
       "1      天府新区      天府直属部门           1          NaN  \n",
       "2        成都       锦江分公司           1          9.0  \n",
       "3        绵阳       江油分公司           1        138.7  \n",
       "4        成都       青羊分公司           2         39.0  "
      ]
     },
     "execution_count": 6,
     "metadata": {},
     "output_type": "execute_result"
    }
   ],
   "source": [
    "test_user.head()"
   ]
  },
  {
   "cell_type": "markdown",
   "metadata": {},
   "source": [
    "1. 查看训练集和测试集电话号码的交集"
   ]
  },
  {
   "cell_type": "code",
   "execution_count": 7,
   "metadata": {
    "ExecuteTime": {
     "end_time": "2020-06-10T09:56:20.035556Z",
     "start_time": "2020-06-10T09:56:20.022591Z"
    }
   },
   "outputs": [
    {
     "data": {
      "text/plain": [
       "set()"
      ]
     },
     "execution_count": 7,
     "metadata": {},
     "output_type": "execute_result"
    }
   ],
   "source": [
    "tr_u = set(list(train_user['phone_no_m'].unique()))\n",
    "te_u = set(list(test_user['phone_no_m'].unique()))\n",
    "\n",
    "tr_u & te_u"
   ]
  },
  {
   "cell_type": "code",
   "execution_count": 8,
   "metadata": {
    "ExecuteTime": {
     "end_time": "2020-06-10T09:56:20.044533Z",
     "start_time": "2020-06-10T09:56:20.036554Z"
    }
   },
   "outputs": [
    {
     "data": {
      "text/plain": [
       "0    4144\n",
       "1    1962\n",
       "Name: label, dtype: int64"
      ]
     },
     "execution_count": 8,
     "metadata": {},
     "output_type": "execute_result"
    }
   ],
   "source": [
    "train_user.label.value_counts()"
   ]
  },
  {
   "cell_type": "code",
   "execution_count": 8,
   "metadata": {
    "ExecuteTime": {
     "end_time": "2020-06-10T03:46:52.246416Z",
     "start_time": "2020-06-10T03:46:52.186529Z"
    }
   },
   "outputs": [
    {
     "data": {
      "text/plain": [
       "<matplotlib.axes._subplots.AxesSubplot at 0x219750987f0>"
      ]
     },
     "execution_count": 8,
     "metadata": {},
     "output_type": "execute_result"
    },
    {
     "data": {
      "image/png": "[encoded data removed]",
      "text/plain": [
       "<Figure size 432x288 with 1 Axes>"
      ]
     },
     "metadata": {},
     "output_type": "display_data"
    }
   ],
   "source": [
    "train_user.label.value_counts().plot.pie()"
   ]
  },
  {
   "cell_type": "code",
   "execution_count": 9,
   "metadata": {
    "ExecuteTime": {
     "end_time": "2020-06-10T03:46:52.253378Z",
     "start_time": "2020-06-10T03:46:52.248405Z"
    }
   },
   "outputs": [
    {
     "data": {
      "text/plain": [
       "((6106, 13), (2045, 5))"
      ]
     },
     "execution_count": 9,
     "metadata": {},
     "output_type": "execute_result"
    }
   ],
   "source": [
    "train_user.shape, test_user.shape"
   ]
  },
  {
   "cell_type": "code",
   "execution_count": 10,
   "metadata": {
    "ExecuteTime": {
     "end_time": "2020-06-10T03:46:52.268312Z",
     "start_time": "2020-06-10T03:46:52.254351Z"
    }
   },
   "outputs": [
    {
     "data": {
      "text/html": [
       "<div>\n",
       "<style scoped>\n",
       "    .dataframe tbody tr th:only-of-type {\n",
       "        vertical-align: middle;\n",
       "    }\n",
       "\n",
       "    .dataframe tbody tr th {\n",
       "        vertical-align: top;\n",
       "    }\n",
       "\n",
       "    .dataframe thead th {\n",
       "        text-align: right;\n",
       "    }\n",
       "</style>\n",
       "<table border=\"1\" class=\"dataframe\">\n",
       "  <thead>\n",
       "    <tr style=\"text-align: right;\">\n",
       "      <th></th>\n",
       "      <th>phone_no_m</th>\n",
       "      <th>city_name</th>\n",
       "      <th>county_name</th>\n",
       "      <th>idcard_cnt</th>\n",
       "      <th>label</th>\n",
       "      <th>arpu_202004</th>\n",
       "    </tr>\n",
       "  </thead>\n",
       "  <tbody>\n",
       "    <tr>\n",
       "      <th>0</th>\n",
       "      <td>672ddbf02a5544d32e4ecc9433b1981bffe23bf912273a3a835f6cccb78b8ed7554e9ab0fbcd33d19eb6063ce00542dd223cc5cc83c68f07bcf933547b6776b1</td>\n",
       "      <td>绵阳</td>\n",
       "      <td>江油分公司</td>\n",
       "      <td>1</td>\n",
       "      <td>0</td>\n",
       "      <td>45.0</td>\n",
       "    </tr>\n",
       "    <tr>\n",
       "      <th>1</th>\n",
       "      <td>5e1272273e041e82cb275ae877710be98cdaf5b0a8f34de8d361f71d5268fa0851edffd3950e170df1e3846fcf90cc7cc8299be9139a2ac4b5c5e5121d832674</td>\n",
       "      <td>德阳</td>\n",
       "      <td>旌阳分公司</td>\n",
       "      <td>1</td>\n",
       "      <td>0</td>\n",
       "      <td>60.0</td>\n",
       "    </tr>\n",
       "    <tr>\n",
       "      <th>2</th>\n",
       "      <td>eaab3472ec87b076e69e6e8bb62b14341638fc63661a6c682d6add360a4332a8ad294d8470d64a73c6e53e8413f0ad93b9ea65afab717e58d312554f33553ee7</td>\n",
       "      <td>成都</td>\n",
       "      <td>金堂分公司</td>\n",
       "      <td>2</td>\n",
       "      <td>0</td>\n",
       "      <td>63.0</td>\n",
       "    </tr>\n",
       "    <tr>\n",
       "      <th>3</th>\n",
       "      <td>0ce1bb415704178bf44e9c9b431a39b083a132c8e6d99f3627cd4520064b93ec66a72d085a67f0f40eebb9f901072965073e398f04c4ae500a1db4dfb13a972c</td>\n",
       "      <td>成都</td>\n",
       "      <td>高新分公司</td>\n",
       "      <td>2</td>\n",
       "      <td>0</td>\n",
       "      <td>23.2</td>\n",
       "    </tr>\n",
       "    <tr>\n",
       "      <th>4</th>\n",
       "      <td>28b87f35f63f65096a53e3a4c97eaffd4a6c43ffa7e92d7706b20520aa11fff0f4ce06203f66758ec0f0e70780e4e258aae6aa1f23439e115528e08eda71ed20</td>\n",
       "      <td>德阳</td>\n",
       "      <td>旌阳分公司</td>\n",
       "      <td>1</td>\n",
       "      <td>0</td>\n",
       "      <td>50.0</td>\n",
       "    </tr>\n",
       "  </tbody>\n",
       "</table>\n",
       "</div>"
      ],
      "text/plain": [
       "                                                                                                                         phone_no_m  \\\n",
       "0  672ddbf02a5544d32e4ecc9433b1981bffe23bf912273a3a835f6cccb78b8ed7554e9ab0fbcd33d19eb6063ce00542dd223cc5cc83c68f07bcf933547b6776b1   \n",
       "1  5e1272273e041e82cb275ae877710be98cdaf5b0a8f34de8d361f71d5268fa0851edffd3950e170df1e3846fcf90cc7cc8299be9139a2ac4b5c5e5121d832674   \n",
       "2  eaab3472ec87b076e69e6e8bb62b14341638fc63661a6c682d6add360a4332a8ad294d8470d64a73c6e53e8413f0ad93b9ea65afab717e58d312554f33553ee7   \n",
       "3  0ce1bb415704178bf44e9c9b431a39b083a132c8e6d99f3627cd4520064b93ec66a72d085a67f0f40eebb9f901072965073e398f04c4ae500a1db4dfb13a972c   \n",
       "4  28b87f35f63f65096a53e3a4c97eaffd4a6c43ffa7e92d7706b20520aa11fff0f4ce06203f66758ec0f0e70780e4e258aae6aa1f23439e115528e08eda71ed20   \n",
       "\n",
       "  city_name county_name  idcard_cnt  label  arpu_202004  \n",
       "0        绵阳       江油分公司           1      0         45.0  \n",
       "1        德阳       旌阳分公司           1      0         60.0  \n",
       "2        成都       金堂分公司           2      0         63.0  \n",
       "3        成都       高新分公司           2      0         23.2  \n",
       "4        德阳       旌阳分公司           1      0         50.0  "
      ]
     },
     "execution_count": 10,
     "metadata": {},
     "output_type": "execute_result"
    }
   ],
   "source": [
    "# 训练集只取最后一个月的数据\n",
    "train_user['arpu_202004'] = train_user['arpu_202003']\n",
    "\n",
    "train_user.drop(['arpu_201908', 'arpu_201909', 'arpu_201910', 'arpu_201911',\n",
    "                 'arpu_201912', 'arpu_202001', 'arpu_202002', 'arpu_202003'],\n",
    "                axis=1,\n",
    "                inplace=True)\n",
    "train_user.head()"
   ]
  },
  {
   "cell_type": "code",
   "execution_count": 11,
   "metadata": {
    "ExecuteTime": {
     "end_time": "2020-06-10T03:46:52.274326Z",
     "start_time": "2020-06-10T03:46:52.271326Z"
    }
   },
   "outputs": [],
   "source": [
    "y = train_user['label']"
   ]
  },
  {
   "cell_type": "code",
   "execution_count": 12,
   "metadata": {
    "ExecuteTime": {
     "end_time": "2020-06-10T03:46:52.279306Z",
     "start_time": "2020-06-10T03:46:52.275323Z"
    }
   },
   "outputs": [],
   "source": [
    "# train_user['cents'] = (train_user['arpu_202004'] - np.floor(train_user['arpu_202004'])).astype('float32')\n",
    "# test_user['cents'] = (test_user['arpu_202004'] - np.floor(test_user['arpu_202004'])).astype('float32')"
   ]
  },
  {
   "cell_type": "code",
   "execution_count": 13,
   "metadata": {
    "ExecuteTime": {
     "end_time": "2020-06-10T03:46:52.569539Z",
     "start_time": "2020-06-10T03:46:52.281277Z"
    }
   },
   "outputs": [],
   "source": [
    "class_list = ['city_name', 'county_name']\n",
    "MeanEncodeFeature = class_list\n",
    "ME = MeanEncoder(categorical_features=MeanEncodeFeature, n_splits=5, target_type='classification', prior_weight_func=None)\n",
    "train_user = ME.fit_transform(train_user.drop('label', axis=1), train_user['label'])\n",
    "test_user = ME.transform(test_user)"
   ]
  },
  {
   "cell_type": "code",
   "execution_count": 14,
   "metadata": {
    "ExecuteTime": {
     "end_time": "2020-06-10T03:46:52.575505Z",
     "start_time": "2020-06-10T03:46:52.570503Z"
    }
   },
   "outputs": [],
   "source": [
    "train_user = pd.concat([train_user, y], axis=1)"
   ]
  },
  {
   "cell_type": "markdown",
   "metadata": {},
   "source": [
    "#### LabelEncoder"
   ]
  },
  {
   "cell_type": "code",
   "execution_count": 15,
   "metadata": {
    "ExecuteTime": {
     "end_time": "2020-06-10T03:46:52.613938Z",
     "start_time": "2020-06-10T03:46:52.576488Z"
    }
   },
   "outputs": [
    {
     "name": "stderr",
     "output_type": "stream",
     "text": [
      "100%|███████████████████████████████████████████████████████████████████████████████████| 2/2 [00:00<00:00, 250.64it/s]\n"
     ]
    },
    {
     "data": {
      "text/html": [
       "<div>\n",
       "<style scoped>\n",
       "    .dataframe tbody tr th:only-of-type {\n",
       "        vertical-align: middle;\n",
       "    }\n",
       "\n",
       "    .dataframe tbody tr th {\n",
       "        vertical-align: top;\n",
       "    }\n",
       "\n",
       "    .dataframe thead th {\n",
       "        text-align: right;\n",
       "    }\n",
       "</style>\n",
       "<table border=\"1\" class=\"dataframe\">\n",
       "  <thead>\n",
       "    <tr style=\"text-align: right;\">\n",
       "      <th></th>\n",
       "      <th>phone_no_m</th>\n",
       "      <th>city_name</th>\n",
       "      <th>county_name</th>\n",
       "      <th>idcard_cnt</th>\n",
       "      <th>arpu_202004</th>\n",
       "      <th>city_name_pred_0</th>\n",
       "      <th>city_name_pred_1</th>\n",
       "      <th>county_name_pred_0</th>\n",
       "      <th>county_name_pred_1</th>\n",
       "      <th>label</th>\n",
       "    </tr>\n",
       "  </thead>\n",
       "  <tbody>\n",
       "    <tr>\n",
       "      <th>0</th>\n",
       "      <td>672ddbf02a5544d32e4ecc9433b1981bffe23bf912273a3a835f6cccb78b8ed7554e9ab0fbcd33d19eb6063ce00542dd223cc5cc83c68f07bcf933547b6776b1</td>\n",
       "      <td>16</td>\n",
       "      <td>97</td>\n",
       "      <td>1</td>\n",
       "      <td>45.0</td>\n",
       "      <td>0.774194</td>\n",
       "      <td>0.225806</td>\n",
       "      <td>0.553846</td>\n",
       "      <td>0.446154</td>\n",
       "      <td>0.0</td>\n",
       "    </tr>\n",
       "    <tr>\n",
       "      <th>1</th>\n",
       "      <td>5e1272273e041e82cb275ae877710be98cdaf5b0a8f34de8d361f71d5268fa0851edffd3950e170df1e3846fcf90cc7cc8299be9139a2ac4b5c5e5121d832674</td>\n",
       "      <td>10</td>\n",
       "      <td>82</td>\n",
       "      <td>1</td>\n",
       "      <td>60.0</td>\n",
       "      <td>0.579310</td>\n",
       "      <td>0.420690</td>\n",
       "      <td>0.571429</td>\n",
       "      <td>0.428571</td>\n",
       "      <td>0.0</td>\n",
       "    </tr>\n",
       "    <tr>\n",
       "      <th>2</th>\n",
       "      <td>eaab3472ec87b076e69e6e8bb62b14341638fc63661a6c682d6add360a4332a8ad294d8470d64a73c6e53e8413f0ad93b9ea65afab717e58d312554f33553ee7</td>\n",
       "      <td>11</td>\n",
       "      <td>160</td>\n",
       "      <td>2</td>\n",
       "      <td>63.0</td>\n",
       "      <td>0.627907</td>\n",
       "      <td>0.372093</td>\n",
       "      <td>0.886364</td>\n",
       "      <td>0.113636</td>\n",
       "      <td>0.0</td>\n",
       "    </tr>\n",
       "    <tr>\n",
       "      <th>3</th>\n",
       "      <td>0ce1bb415704178bf44e9c9b431a39b083a132c8e6d99f3627cd4520064b93ec66a72d085a67f0f40eebb9f901072965073e398f04c4ae500a1db4dfb13a972c</td>\n",
       "      <td>11</td>\n",
       "      <td>181</td>\n",
       "      <td>2</td>\n",
       "      <td>23.2</td>\n",
       "      <td>0.627907</td>\n",
       "      <td>0.372093</td>\n",
       "      <td>0.447368</td>\n",
       "      <td>0.552632</td>\n",
       "      <td>0.0</td>\n",
       "    </tr>\n",
       "    <tr>\n",
       "      <th>4</th>\n",
       "      <td>28b87f35f63f65096a53e3a4c97eaffd4a6c43ffa7e92d7706b20520aa11fff0f4ce06203f66758ec0f0e70780e4e258aae6aa1f23439e115528e08eda71ed20</td>\n",
       "      <td>10</td>\n",
       "      <td>82</td>\n",
       "      <td>1</td>\n",
       "      <td>50.0</td>\n",
       "      <td>0.579310</td>\n",
       "      <td>0.420690</td>\n",
       "      <td>0.571429</td>\n",
       "      <td>0.428571</td>\n",
       "      <td>0.0</td>\n",
       "    </tr>\n",
       "  </tbody>\n",
       "</table>\n",
       "</div>"
      ],
      "text/plain": [
       "                                                                                                                         phone_no_m  \\\n",
       "0  672ddbf02a5544d32e4ecc9433b1981bffe23bf912273a3a835f6cccb78b8ed7554e9ab0fbcd33d19eb6063ce00542dd223cc5cc83c68f07bcf933547b6776b1   \n",
       "1  5e1272273e041e82cb275ae877710be98cdaf5b0a8f34de8d361f71d5268fa0851edffd3950e170df1e3846fcf90cc7cc8299be9139a2ac4b5c5e5121d832674   \n",
       "2  eaab3472ec87b076e69e6e8bb62b14341638fc63661a6c682d6add360a4332a8ad294d8470d64a73c6e53e8413f0ad93b9ea65afab717e58d312554f33553ee7   \n",
       "3  0ce1bb415704178bf44e9c9b431a39b083a132c8e6d99f3627cd4520064b93ec66a72d085a67f0f40eebb9f901072965073e398f04c4ae500a1db4dfb13a972c   \n",
       "4  28b87f35f63f65096a53e3a4c97eaffd4a6c43ffa7e92d7706b20520aa11fff0f4ce06203f66758ec0f0e70780e4e258aae6aa1f23439e115528e08eda71ed20   \n",
       "\n",
       "   city_name  county_name  idcard_cnt  arpu_202004  city_name_pred_0  \\\n",
       "0         16           97           1         45.0          0.774194   \n",
       "1         10           82           1         60.0          0.579310   \n",
       "2         11          160           2         63.0          0.627907   \n",
       "3         11          181           2         23.2          0.627907   \n",
       "4         10           82           1         50.0          0.579310   \n",
       "\n",
       "   city_name_pred_1  county_name_pred_0  county_name_pred_1  label  \n",
       "0          0.225806            0.553846            0.446154    0.0  \n",
       "1          0.420690            0.571429            0.428571    0.0  \n",
       "2          0.372093            0.886364            0.113636    0.0  \n",
       "3          0.372093            0.447368            0.552632    0.0  \n",
       "4          0.420690            0.571429            0.428571    0.0  "
      ]
     },
     "execution_count": 15,
     "metadata": {},
     "output_type": "execute_result"
    }
   ],
   "source": [
    "lbl = LabelEncoder()\n",
    "\n",
    "df_user = pd.concat([train_user, test_user], axis=0, ignore_index=True)\n",
    "\n",
    "for f in tqdm(['city_name', 'county_name']):\n",
    "    df_user[f] = df_user[f].fillna('NA')\n",
    "    df_user[f] = lbl.fit_transform(df_user[f].astype(str))\n",
    "    \n",
    "df_user.head()"
   ]
  },
  {
   "cell_type": "markdown",
   "metadata": {},
   "source": [
    "### 通话表"
   ]
  },
  {
   "cell_type": "code",
   "execution_count": 16,
   "metadata": {
    "ExecuteTime": {
     "end_time": "2020-06-10T03:47:11.701763Z",
     "start_time": "2020-06-10T03:46:52.614897Z"
    }
   },
   "outputs": [],
   "source": [
    "train_voc = pd.read_csv('../input/train/train_voc.csv')\n",
    "test_voc = pd.read_csv('../input/test/test_voc.csv')\n",
    "\n",
    "train_voc['start_datetime'] = train_voc['start_datetime'].astype('datetime64')\n",
    "test_voc['start_datetime'] = test_voc['start_datetime'].astype('datetime64')"
   ]
  },
  {
   "cell_type": "code",
   "execution_count": 17,
   "metadata": {
    "ExecuteTime": {
     "end_time": "2020-06-10T03:47:11.713746Z",
     "start_time": "2020-06-10T03:47:11.702729Z"
    }
   },
   "outputs": [
    {
     "data": {
      "text/html": [
       "<div>\n",
       "<style scoped>\n",
       "    .dataframe tbody tr th:only-of-type {\n",
       "        vertical-align: middle;\n",
       "    }\n",
       "\n",
       "    .dataframe tbody tr th {\n",
       "        vertical-align: top;\n",
       "    }\n",
       "\n",
       "    .dataframe thead th {\n",
       "        text-align: right;\n",
       "    }\n",
       "</style>\n",
       "<table border=\"1\" class=\"dataframe\">\n",
       "  <thead>\n",
       "    <tr style=\"text-align: right;\">\n",
       "      <th></th>\n",
       "      <th>phone_no_m</th>\n",
       "      <th>opposite_no_m</th>\n",
       "      <th>calltype_id</th>\n",
       "      <th>start_datetime</th>\n",
       "      <th>call_dur</th>\n",
       "      <th>city_name</th>\n",
       "      <th>county_name</th>\n",
       "      <th>imei_m</th>\n",
       "    </tr>\n",
       "  </thead>\n",
       "  <tbody>\n",
       "    <tr>\n",
       "      <th>0</th>\n",
       "      <td>3b6bef554a4754fa9977b50d99e6777c9fb26e585961a453bab3a2eba9f25eb510376bb89a345fb1a073e3a99da296d0f3c40aec8d0b4efd159eae4acb46f3c8</td>\n",
       "      <td>3572f19c52faeea5111ddd79dfc3643171d00e6d8b3fd9d6d04701a1873702a50004019f70d8a4c766d24e7768d356f6420ca28e27a7b0343f0acf3116655a58</td>\n",
       "      <td>2</td>\n",
       "      <td>2019-10-17 17:16:25</td>\n",
       "      <td>13</td>\n",
       "      <td>NaN</td>\n",
       "      <td>NaN</td>\n",
       "      <td>d2940d7cde5092d809af2e4bb8f6936a405382bd541542c5ccbb9d577d7d340ea032cca1174d33cca05393fbfd45fc0715198781d726679a09db74dac778c9c5</td>\n",
       "    </tr>\n",
       "    <tr>\n",
       "      <th>1</th>\n",
       "      <td>3b6bef554a4754fa9977b50d99e6777c9fb26e585961a453bab3a2eba9f25eb510376bb89a345fb1a073e3a99da296d0f3c40aec8d0b4efd159eae4acb46f3c8</td>\n",
       "      <td>3572f19c52faeea5111ddd79dfc3643171d00e6d8b3fd9d6d04701a1873702a50004019f70d8a4c766d24e7768d356f6420ca28e27a7b0343f0acf3116655a58</td>\n",
       "      <td>2</td>\n",
       "      <td>2019-10-17 17:36:20</td>\n",
       "      <td>16</td>\n",
       "      <td>NaN</td>\n",
       "      <td>NaN</td>\n",
       "      <td>d2940d7cde5092d809af2e4bb8f6936a405382bd541542c5ccbb9d577d7d340ea032cca1174d33cca05393fbfd45fc0715198781d726679a09db74dac778c9c5</td>\n",
       "    </tr>\n",
       "    <tr>\n",
       "      <th>2</th>\n",
       "      <td>ecd1b3f5a38576ef9872d1cb7a762f31869153de736e7aa43742ebd2ce6ffac1e6be304c79819a8f3770c1546b11f779be225ff0d0a18eb02f29ca4ef2c964ce</td>\n",
       "      <td>c386d11d5203136e924e070afcac734cdaea6691472e841fe981d839abdb7c9ad794024c7c484b86d5cf5553a1531079a1a3e3ec1e932cea62293d0d04eb13b7</td>\n",
       "      <td>1</td>\n",
       "      <td>2019-08-28 09:46:50</td>\n",
       "      <td>18</td>\n",
       "      <td>NaN</td>\n",
       "      <td>NaN</td>\n",
       "      <td>071e8dcb4010c643c48339cb8abf4a69e03b37afade98ded48ae19b2dafe965f5b28299131441a068b066588492389a3e66c3105f3cd5ab8c3eefff0015373f5</td>\n",
       "    </tr>\n",
       "    <tr>\n",
       "      <th>3</th>\n",
       "      <td>41a97bdfe77f3210deba78689baecb110922878be2f14c2b17416d04da12fe75fe3ecd80de2be43f5f2615557640e588d08b81d504d73f25aa7a40726d3acf4d</td>\n",
       "      <td>79ef199a532bcb9a89990d0996cee3d40557f06b9e5265fee8357eaca7735ec4ed65670d446c09482c535bd4eb1e3e07c5bd49704e49b50958b2e54c34f29a7b</td>\n",
       "      <td>1</td>\n",
       "      <td>2019-09-18 16:19:20</td>\n",
       "      <td>34</td>\n",
       "      <td>NaN</td>\n",
       "      <td>NaN</td>\n",
       "      <td>5f054945a5037e688abe0ef36d88a0fd351d476e3320c22cb3da7692d4ba4ba3e7752253ef74c6af1763089b830687d06535dfc6ba4f411196889364868425af</td>\n",
       "    </tr>\n",
       "    <tr>\n",
       "      <th>4</th>\n",
       "      <td>41a97bdfe77f3210deba78689baecb110922878be2f14c2b17416d04da12fe75fe3ecd80de2be43f5f2615557640e588d08b81d504d73f25aa7a40726d3acf4d</td>\n",
       "      <td>e273542129cf7fa37c28d3f4c95b7b9e8bcb561bbabc50063a1a5a1fd133a14f62f8a59649e5dffacccdb661300a7ef5aaea710b8a1155c4904647d9d5877e49</td>\n",
       "      <td>2</td>\n",
       "      <td>2019-09-18 16:18:46</td>\n",
       "      <td>23</td>\n",
       "      <td>NaN</td>\n",
       "      <td>NaN</td>\n",
       "      <td>5f054945a5037e688abe0ef36d88a0fd351d476e3320c22cb3da7692d4ba4ba3e7752253ef74c6af1763089b830687d06535dfc6ba4f411196889364868425af</td>\n",
       "    </tr>\n",
       "  </tbody>\n",
       "</table>\n",
       "</div>"
      ],
      "text/plain": [
       "                                                                                                                         phone_no_m  \\\n",
       "0  3b6bef554a4754fa9977b50d99e6777c9fb26e585961a453bab3a2eba9f25eb510376bb89a345fb1a073e3a99da296d0f3c40aec8d0b4efd159eae4acb46f3c8   \n",
       "1  3b6bef554a4754fa9977b50d99e6777c9fb26e585961a453bab3a2eba9f25eb510376bb89a345fb1a073e3a99da296d0f3c40aec8d0b4efd159eae4acb46f3c8   \n",
       "2  ecd1b3f5a38576ef9872d1cb7a762f31869153de736e7aa43742ebd2ce6ffac1e6be304c79819a8f3770c1546b11f779be225ff0d0a18eb02f29ca4ef2c964ce   \n",
       "3  41a97bdfe77f3210deba78689baecb110922878be2f14c2b17416d04da12fe75fe3ecd80de2be43f5f2615557640e588d08b81d504d73f25aa7a40726d3acf4d   \n",
       "4  41a97bdfe77f3210deba78689baecb110922878be2f14c2b17416d04da12fe75fe3ecd80de2be43f5f2615557640e588d08b81d504d73f25aa7a40726d3acf4d   \n",
       "\n",
       "                                                                                                                      opposite_no_m  \\\n",
       "0  3572f19c52faeea5111ddd79dfc3643171d00e6d8b3fd9d6d04701a1873702a50004019f70d8a4c766d24e7768d356f6420ca28e27a7b0343f0acf3116655a58   \n",
       "1  3572f19c52faeea5111ddd79dfc3643171d00e6d8b3fd9d6d04701a1873702a50004019f70d8a4c766d24e7768d356f6420ca28e27a7b0343f0acf3116655a58   \n",
       "2  c386d11d5203136e924e070afcac734cdaea6691472e841fe981d839abdb7c9ad794024c7c484b86d5cf5553a1531079a1a3e3ec1e932cea62293d0d04eb13b7   \n",
       "3  79ef199a532bcb9a89990d0996cee3d40557f06b9e5265fee8357eaca7735ec4ed65670d446c09482c535bd4eb1e3e07c5bd49704e49b50958b2e54c34f29a7b   \n",
       "4  e273542129cf7fa37c28d3f4c95b7b9e8bcb561bbabc50063a1a5a1fd133a14f62f8a59649e5dffacccdb661300a7ef5aaea710b8a1155c4904647d9d5877e49   \n",
       "\n",
       "   calltype_id      start_datetime  call_dur city_name county_name  \\\n",
       "0            2 2019-10-17 17:16:25        13       NaN         NaN   \n",
       "1            2 2019-10-17 17:36:20        16       NaN         NaN   \n",
       "2            1 2019-08-28 09:46:50        18       NaN         NaN   \n",
       "3            1 2019-09-18 16:19:20        34       NaN         NaN   \n",
       "4            2 2019-09-18 16:18:46        23       NaN         NaN   \n",
       "\n",
       "                                                                                                                             imei_m  \n",
       "0  d2940d7cde5092d809af2e4bb8f6936a405382bd541542c5ccbb9d577d7d340ea032cca1174d33cca05393fbfd45fc0715198781d726679a09db74dac778c9c5  \n",
       "1  d2940d7cde5092d809af2e4bb8f6936a405382bd541542c5ccbb9d577d7d340ea032cca1174d33cca05393fbfd45fc0715198781d726679a09db74dac778c9c5  \n",
       "2  071e8dcb4010c643c48339cb8abf4a69e03b37afade98ded48ae19b2dafe965f5b28299131441a068b066588492389a3e66c3105f3cd5ab8c3eefff0015373f5  \n",
       "3  5f054945a5037e688abe0ef36d88a0fd351d476e3320c22cb3da7692d4ba4ba3e7752253ef74c6af1763089b830687d06535dfc6ba4f411196889364868425af  \n",
       "4  5f054945a5037e688abe0ef36d88a0fd351d476e3320c22cb3da7692d4ba4ba3e7752253ef74c6af1763089b830687d06535dfc6ba4f411196889364868425af  "
      ]
     },
     "execution_count": 17,
     "metadata": {},
     "output_type": "execute_result"
    }
   ],
   "source": [
    "train_voc.head()"
   ]
  },
  {
   "cell_type": "code",
   "execution_count": 18,
   "metadata": {
    "ExecuteTime": {
     "end_time": "2020-06-10T03:47:12.003504Z",
     "start_time": "2020-06-10T03:47:11.714761Z"
    }
   },
   "outputs": [],
   "source": [
    "# 同样只取最后一个月的数据\n",
    "\n",
    "train_voc = train_voc[train_voc['start_datetime'] >= '2020-03-01 00:00:00']\n",
    "train_voc = train_voc.reset_index(drop=True)\n",
    "\n",
    "df_voc = pd.concat([train_voc, test_voc])"
   ]
  },
  {
   "cell_type": "code",
   "execution_count": 19,
   "metadata": {
    "ExecuteTime": {
     "end_time": "2020-06-10T03:47:12.134483Z",
     "start_time": "2020-06-10T03:47:12.004500Z"
    }
   },
   "outputs": [],
   "source": [
    "# 时间切割\n",
    "\n",
    "df_voc['voc_day'] = df_voc['start_datetime'].dt.day\n",
    "df_voc['voc_hour'] = df_voc['start_datetime'].dt.hour\n",
    "# df_voc['voc_ts'] = pd.to_timedelta(df_voc['start_datetime'], unit='ns').dt.total_seconds().astype(int)\n",
    "\n",
    "# df_voc = df_voc.sort_values(by='voc_ts').reset_index(drop=True)"
   ]
  },
  {
   "cell_type": "code",
   "execution_count": 20,
   "metadata": {
    "ExecuteTime": {
     "end_time": "2020-06-10T03:47:13.768992Z",
     "start_time": "2020-06-10T03:47:12.135308Z"
    }
   },
   "outputs": [],
   "source": [
    "# 一天内通话统计量\n",
    "\n",
    "df_voc['voc_day_count'] = df_voc.groupby(['phone_no_m', 'voc_day'])['phone_no_m'].transform('count')\n",
    "df_voc['voc_day_count_max'] = df_voc.groupby('phone_no_m')['voc_day_count'].transform('max')\n",
    "df_voc['voc_day_count_min'] = df_voc.groupby('phone_no_m')['voc_day_count'].transform('min')\n",
    "df_voc['voc_day_count_mean'] = df_voc.groupby('phone_no_m')['voc_day_count'].transform('mean')\n",
    "df_voc['voc_day_count_std'] = df_voc.groupby('phone_no_m')['voc_day_count'].transform('std')\n",
    "\n",
    "del df_voc['voc_day_count']"
   ]
  },
  {
   "cell_type": "code",
   "execution_count": 21,
   "metadata": {
    "ExecuteTime": {
     "end_time": "2020-06-10T03:47:15.382668Z",
     "start_time": "2020-06-10T03:47:13.769958Z"
    }
   },
   "outputs": [],
   "source": [
    "# 一小时内通话统计量\n",
    "\n",
    "df_voc['voc_hour_count'] = df_voc.groupby(['phone_no_m', 'voc_hour'])['phone_no_m'].transform('count')\n",
    "df_voc['voc_hour_count_max'] = df_voc.groupby('phone_no_m')['voc_hour_count'].transform('max')\n",
    "df_voc['voc_hour_count_min'] = df_voc.groupby('phone_no_m')['voc_hour_count'].transform('min')\n",
    "df_voc['voc_hour_count_mean'] = df_voc.groupby('phone_no_m')['voc_hour_count'].transform('mean')\n",
    "df_voc['voc_hour_count_std'] = df_voc.groupby('phone_no_m')['voc_hour_count'].transform('std')\n",
    "\n",
    "del df_voc['voc_hour_count']"
   ]
  },
  {
   "cell_type": "code",
   "execution_count": 22,
   "metadata": {
    "ExecuteTime": {
     "end_time": "2020-06-10T03:47:15.697175Z",
     "start_time": "2020-06-10T03:47:15.383666Z"
    }
   },
   "outputs": [],
   "source": [
    "# 总量\n",
    "\n",
    "df_voc['voc_count'] = df_voc.groupby('phone_no_m')['phone_no_m'].transform('count')"
   ]
  },
  {
   "cell_type": "code",
   "execution_count": 23,
   "metadata": {
    "ExecuteTime": {
     "end_time": "2020-06-10T03:47:15.714777Z",
     "start_time": "2020-06-10T03:47:15.697791Z"
    }
   },
   "outputs": [
    {
     "data": {
      "text/html": [
       "<div>\n",
       "<style scoped>\n",
       "    .dataframe tbody tr th:only-of-type {\n",
       "        vertical-align: middle;\n",
       "    }\n",
       "\n",
       "    .dataframe tbody tr th {\n",
       "        vertical-align: top;\n",
       "    }\n",
       "\n",
       "    .dataframe thead th {\n",
       "        text-align: right;\n",
       "    }\n",
       "</style>\n",
       "<table border=\"1\" class=\"dataframe\">\n",
       "  <thead>\n",
       "    <tr style=\"text-align: right;\">\n",
       "      <th></th>\n",
       "      <th>phone_no_m</th>\n",
       "      <th>opposite_no_m</th>\n",
       "      <th>calltype_id</th>\n",
       "      <th>start_datetime</th>\n",
       "      <th>call_dur</th>\n",
       "      <th>city_name</th>\n",
       "      <th>county_name</th>\n",
       "      <th>imei_m</th>\n",
       "      <th>voc_day</th>\n",
       "      <th>voc_hour</th>\n",
       "      <th>voc_day_count_max</th>\n",
       "      <th>voc_day_count_min</th>\n",
       "      <th>voc_day_count_mean</th>\n",
       "      <th>voc_day_count_std</th>\n",
       "      <th>voc_hour_count_max</th>\n",
       "      <th>voc_hour_count_min</th>\n",
       "      <th>voc_hour_count_mean</th>\n",
       "      <th>voc_hour_count_std</th>\n",
       "      <th>voc_count</th>\n",
       "    </tr>\n",
       "  </thead>\n",
       "  <tbody>\n",
       "    <tr>\n",
       "      <th>0</th>\n",
       "      <td>b3994b4c46e39954cfe0cb8ebd2a79703a2ace6612fa18241509e8b2dfe9d75f503823b6df2d10180a9033ccd22390aaeda397037ca4cd26604d6db6e3470874</td>\n",
       "      <td>1b01124a6ad0443ad868757c6594a605a0c5179c2b5b57071d5cec8cd8c4c89d7598587f953f08887965b42d2e465d08388c5465fe43b67f1e9ca5509c5529f2</td>\n",
       "      <td>1</td>\n",
       "      <td>2020-03-22 21:38:40</td>\n",
       "      <td>175</td>\n",
       "      <td>NaN</td>\n",
       "      <td>NaN</td>\n",
       "      <td>90ba61111dad175330029e10da8264a86dfdb3a281ccb8556eca87a6f1af32e1d5ff4db4a7d4b11f760e4866de974933f247c4c389073f28634229889bfe18bf</td>\n",
       "      <td>22</td>\n",
       "      <td>21</td>\n",
       "      <td>9</td>\n",
       "      <td>1</td>\n",
       "      <td>6.248000</td>\n",
       "      <td>2.415194</td>\n",
       "      <td>14</td>\n",
       "      <td>1</td>\n",
       "      <td>8.728000</td>\n",
       "      <td>3.216329</td>\n",
       "      <td>125</td>\n",
       "    </tr>\n",
       "    <tr>\n",
       "      <th>1</th>\n",
       "      <td>b3994b4c46e39954cfe0cb8ebd2a79703a2ace6612fa18241509e8b2dfe9d75f503823b6df2d10180a9033ccd22390aaeda397037ca4cd26604d6db6e3470874</td>\n",
       "      <td>1b01124a6ad0443ad868757c6594a605a0c5179c2b5b57071d5cec8cd8c4c89d7598587f953f08887965b42d2e465d08388c5465fe43b67f1e9ca5509c5529f2</td>\n",
       "      <td>1</td>\n",
       "      <td>2020-03-23 18:05:41</td>\n",
       "      <td>33</td>\n",
       "      <td>NaN</td>\n",
       "      <td>NaN</td>\n",
       "      <td>90ba61111dad175330029e10da8264a86dfdb3a281ccb8556eca87a6f1af32e1d5ff4db4a7d4b11f760e4866de974933f247c4c389073f28634229889bfe18bf</td>\n",
       "      <td>23</td>\n",
       "      <td>18</td>\n",
       "      <td>9</td>\n",
       "      <td>1</td>\n",
       "      <td>6.248000</td>\n",
       "      <td>2.415194</td>\n",
       "      <td>14</td>\n",
       "      <td>1</td>\n",
       "      <td>8.728000</td>\n",
       "      <td>3.216329</td>\n",
       "      <td>125</td>\n",
       "    </tr>\n",
       "    <tr>\n",
       "      <th>2</th>\n",
       "      <td>c5502a6d3e4cabaf8c0e298c4aac693b6e80835d50d4e4f393d8426bd49c0d4d00c3959d2a2c8341410e57af28bee6dc5c80dbad7cf147018ec0ece7bfa0cf5f</td>\n",
       "      <td>f1b73c46a691c068bfd38253e20e882d4993c8d3e58016aeed804a8cdbf54542112e529ebf7fdd0e62cf3556571fb17b865d8c3d57c42be851d75c90f4df4603</td>\n",
       "      <td>1</td>\n",
       "      <td>2020-03-01 11:24:37</td>\n",
       "      <td>39</td>\n",
       "      <td>NaN</td>\n",
       "      <td>NaN</td>\n",
       "      <td>e1e1149b2c06e9972293c457293abb32ad05b0c82b3b64c3786896b0414c897b60a539329ce3b7df83ebee19ad20fee3971303edd776a593578f03d16ee8981a</td>\n",
       "      <td>1</td>\n",
       "      <td>11</td>\n",
       "      <td>5</td>\n",
       "      <td>1</td>\n",
       "      <td>2.500000</td>\n",
       "      <td>1.638356</td>\n",
       "      <td>5</td>\n",
       "      <td>1</td>\n",
       "      <td>2.800000</td>\n",
       "      <td>1.399248</td>\n",
       "      <td>20</td>\n",
       "    </tr>\n",
       "    <tr>\n",
       "      <th>3</th>\n",
       "      <td>c5502a6d3e4cabaf8c0e298c4aac693b6e80835d50d4e4f393d8426bd49c0d4d00c3959d2a2c8341410e57af28bee6dc5c80dbad7cf147018ec0ece7bfa0cf5f</td>\n",
       "      <td>5bc6d97a3017578edfa7979fa43653cd74bad827f18337c8c84728f79778939b6f939ea3aa2661907f2e79bcf70feb93adb79c3f7d4a934368c459d9b6aeb54e</td>\n",
       "      <td>1</td>\n",
       "      <td>2020-03-01 11:23:44</td>\n",
       "      <td>32</td>\n",
       "      <td>NaN</td>\n",
       "      <td>NaN</td>\n",
       "      <td>e1e1149b2c06e9972293c457293abb32ad05b0c82b3b64c3786896b0414c897b60a539329ce3b7df83ebee19ad20fee3971303edd776a593578f03d16ee8981a</td>\n",
       "      <td>1</td>\n",
       "      <td>11</td>\n",
       "      <td>5</td>\n",
       "      <td>1</td>\n",
       "      <td>2.500000</td>\n",
       "      <td>1.638356</td>\n",
       "      <td>5</td>\n",
       "      <td>1</td>\n",
       "      <td>2.800000</td>\n",
       "      <td>1.399248</td>\n",
       "      <td>20</td>\n",
       "    </tr>\n",
       "    <tr>\n",
       "      <th>4</th>\n",
       "      <td>2bdbc0a45d6228970b353d691e2ec229f0cf60790a1a39d5e01c0175b5e20cd2ca7d39aff8506741884fd7a4cd4fd9fdec5112ddb764d81c2983752c989f1078</td>\n",
       "      <td>c42eeddeff98feb87860441ea6548f8bda2a080c935e02c7a6ae30223cf37dfc2d16760224c79b93ea44a6d3fd77139e03a20f47608b9455372a96cb026f239e</td>\n",
       "      <td>2</td>\n",
       "      <td>2020-03-03 15:34:21</td>\n",
       "      <td>3</td>\n",
       "      <td>NaN</td>\n",
       "      <td>NaN</td>\n",
       "      <td>3e808a14fa2aa61524c70f262539d1c8532b8e3a8c7c87c863b3f8420750f1bf4a63aa900aef09620c1fae1a6a7fadf1f42e30477e24336fc5c2a8fae9b5de6e</td>\n",
       "      <td>3</td>\n",
       "      <td>15</td>\n",
       "      <td>10</td>\n",
       "      <td>1</td>\n",
       "      <td>5.051282</td>\n",
       "      <td>2.997390</td>\n",
       "      <td>12</td>\n",
       "      <td>1</td>\n",
       "      <td>6.820513</td>\n",
       "      <td>2.996724</td>\n",
       "      <td>78</td>\n",
       "    </tr>\n",
       "  </tbody>\n",
       "</table>\n",
       "</div>"
      ],
      "text/plain": [
       "                                                                                                                         phone_no_m  \\\n",
       "0  b3994b4c46e39954cfe0cb8ebd2a79703a2ace6612fa18241509e8b2dfe9d75f503823b6df2d10180a9033ccd22390aaeda397037ca4cd26604d6db6e3470874   \n",
       "1  b3994b4c46e39954cfe0cb8ebd2a79703a2ace6612fa18241509e8b2dfe9d75f503823b6df2d10180a9033ccd22390aaeda397037ca4cd26604d6db6e3470874   \n",
       "2  c5502a6d3e4cabaf8c0e298c4aac693b6e80835d50d4e4f393d8426bd49c0d4d00c3959d2a2c8341410e57af28bee6dc5c80dbad7cf147018ec0ece7bfa0cf5f   \n",
       "3  c5502a6d3e4cabaf8c0e298c4aac693b6e80835d50d4e4f393d8426bd49c0d4d00c3959d2a2c8341410e57af28bee6dc5c80dbad7cf147018ec0ece7bfa0cf5f   \n",
       "4  2bdbc0a45d6228970b353d691e2ec229f0cf60790a1a39d5e01c0175b5e20cd2ca7d39aff8506741884fd7a4cd4fd9fdec5112ddb764d81c2983752c989f1078   \n",
       "\n",
       "                                                                                                                      opposite_no_m  \\\n",
       "0  1b01124a6ad0443ad868757c6594a605a0c5179c2b5b57071d5cec8cd8c4c89d7598587f953f08887965b42d2e465d08388c5465fe43b67f1e9ca5509c5529f2   \n",
       "1  1b01124a6ad0443ad868757c6594a605a0c5179c2b5b57071d5cec8cd8c4c89d7598587f953f08887965b42d2e465d08388c5465fe43b67f1e9ca5509c5529f2   \n",
       "2  f1b73c46a691c068bfd38253e20e882d4993c8d3e58016aeed804a8cdbf54542112e529ebf7fdd0e62cf3556571fb17b865d8c3d57c42be851d75c90f4df4603   \n",
       "3  5bc6d97a3017578edfa7979fa43653cd74bad827f18337c8c84728f79778939b6f939ea3aa2661907f2e79bcf70feb93adb79c3f7d4a934368c459d9b6aeb54e   \n",
       "4  c42eeddeff98feb87860441ea6548f8bda2a080c935e02c7a6ae30223cf37dfc2d16760224c79b93ea44a6d3fd77139e03a20f47608b9455372a96cb026f239e   \n",
       "\n",
       "   calltype_id      start_datetime  call_dur city_name county_name  \\\n",
       "0            1 2020-03-22 21:38:40       175       NaN         NaN   \n",
       "1            1 2020-03-23 18:05:41        33       NaN         NaN   \n",
       "2            1 2020-03-01 11:24:37        39       NaN         NaN   \n",
       "3            1 2020-03-01 11:23:44        32       NaN         NaN   \n",
       "4            2 2020-03-03 15:34:21         3       NaN         NaN   \n",
       "\n",
       "                                                                                                                             imei_m  \\\n",
       "0  90ba61111dad175330029e10da8264a86dfdb3a281ccb8556eca87a6f1af32e1d5ff4db4a7d4b11f760e4866de974933f247c4c389073f28634229889bfe18bf   \n",
       "1  90ba61111dad175330029e10da8264a86dfdb3a281ccb8556eca87a6f1af32e1d5ff4db4a7d4b11f760e4866de974933f247c4c389073f28634229889bfe18bf   \n",
       "2  e1e1149b2c06e9972293c457293abb32ad05b0c82b3b64c3786896b0414c897b60a539329ce3b7df83ebee19ad20fee3971303edd776a593578f03d16ee8981a   \n",
       "3  e1e1149b2c06e9972293c457293abb32ad05b0c82b3b64c3786896b0414c897b60a539329ce3b7df83ebee19ad20fee3971303edd776a593578f03d16ee8981a   \n",
       "4  3e808a14fa2aa61524c70f262539d1c8532b8e3a8c7c87c863b3f8420750f1bf4a63aa900aef09620c1fae1a6a7fadf1f42e30477e24336fc5c2a8fae9b5de6e   \n",
       "\n",
       "   voc_day  voc_hour  voc_day_count_max  voc_day_count_min  \\\n",
       "0       22        21                  9                  1   \n",
       "1       23        18                  9                  1   \n",
       "2        1        11                  5                  1   \n",
       "3        1        11                  5                  1   \n",
       "4        3        15                 10                  1   \n",
       "\n",
       "   voc_day_count_mean  voc_day_count_std  voc_hour_count_max  \\\n",
       "0            6.248000           2.415194                  14   \n",
       "1            6.248000           2.415194                  14   \n",
       "2            2.500000           1.638356                   5   \n",
       "3            2.500000           1.638356                   5   \n",
       "4            5.051282           2.997390                  12   \n",
       "\n",
       "   voc_hour_count_min  voc_hour_count_mean  voc_hour_count_std  voc_count  \n",
       "0                   1             8.728000            3.216329        125  \n",
       "1                   1             8.728000            3.216329        125  \n",
       "2                   1             2.800000            1.399248         20  \n",
       "3                   1             2.800000            1.399248         20  \n",
       "4                   1             6.820513            2.996724         78  "
      ]
     },
     "execution_count": 23,
     "metadata": {},
     "output_type": "execute_result"
    }
   ],
   "source": [
    "df_voc.head()"
   ]
  },
  {
   "cell_type": "markdown",
   "metadata": {},
   "source": [
    "### 短信表"
   ]
  },
  {
   "cell_type": "code",
   "execution_count": 24,
   "metadata": {
    "ExecuteTime": {
     "end_time": "2020-06-10T03:47:36.506209Z",
     "start_time": "2020-06-10T03:47:15.715745Z"
    }
   },
   "outputs": [],
   "source": [
    "train_sms = pd.read_csv('../input/train/train_sms.csv')\n",
    "test_sms = pd.read_csv('../input/test/test_sms.csv')\n",
    "\n",
    "train_sms['request_datetime'] = train_sms['request_datetime'].astype('datetime64')\n",
    "test_sms['request_datetime'] = test_sms['request_datetime'].astype('datetime64')"
   ]
  },
  {
   "cell_type": "code",
   "execution_count": 25,
   "metadata": {
    "ExecuteTime": {
     "end_time": "2020-06-10T03:47:36.726637Z",
     "start_time": "2020-06-10T03:47:36.507205Z"
    }
   },
   "outputs": [],
   "source": [
    "# 同样只取最后一个月的数据\n",
    "\n",
    "train_sms = train_sms[train_sms['request_datetime'] >= '2020-03-01 00:00:00']\n",
    "train_sms = train_sms.reset_index(drop=True)\n",
    "\n",
    "df_sms = pd.concat([train_sms, test_sms])"
   ]
  },
  {
   "cell_type": "code",
   "execution_count": 26,
   "metadata": {
    "ExecuteTime": {
     "end_time": "2020-06-10T03:47:36.899158Z",
     "start_time": "2020-06-10T03:47:36.727608Z"
    }
   },
   "outputs": [],
   "source": [
    "# 时间切割\n",
    "\n",
    "df_sms['sms_day'] = df_sms['request_datetime'].dt.day\n",
    "df_sms['sms_hour'] = df_sms['request_datetime'].dt.hour\n",
    "# df_sms['sms_ts'] = pd.to_timedelta(df_sms['request_datetime'], unit='ns').dt.total_seconds().astype(int)\n",
    "\n",
    "# df_sms = df_sms.sort_values(by='sms_ts').reset_index(drop=True)"
   ]
  },
  {
   "cell_type": "code",
   "execution_count": 27,
   "metadata": {
    "ExecuteTime": {
     "end_time": "2020-06-10T03:47:38.956666Z",
     "start_time": "2020-06-10T03:47:36.902141Z"
    }
   },
   "outputs": [],
   "source": [
    "# 一天内短信统计量\n",
    "\n",
    "df_sms['sms_day_count'] = df_sms.groupby(['phone_no_m', 'sms_day'])['phone_no_m'].transform('count')\n",
    "df_sms['sms_day_count_max'] = df_sms.groupby('phone_no_m')['sms_day_count'].transform('max')\n",
    "df_sms['sms_day_count_min'] = df_sms.groupby('phone_no_m')['sms_day_count'].transform('min')\n",
    "df_sms['sms_day_count_mean'] = df_sms.groupby('phone_no_m')['sms_day_count'].transform('mean')\n",
    "df_sms['sms_day_count_std'] = df_sms.groupby('phone_no_m')['sms_day_count'].transform('std')\n",
    "\n",
    "del df_sms['sms_day_count']"
   ]
  },
  {
   "cell_type": "code",
   "execution_count": 28,
   "metadata": {
    "ExecuteTime": {
     "end_time": "2020-06-10T03:47:41.095981Z",
     "start_time": "2020-06-10T03:47:38.958662Z"
    }
   },
   "outputs": [],
   "source": [
    "# 一小时内短信统计量\n",
    "\n",
    "df_sms['sms_hour_count'] = df_sms.groupby(['phone_no_m', 'sms_hour'])['phone_no_m'].transform('count')\n",
    "df_sms['sms_hour_count_max'] = df_sms.groupby('phone_no_m')['sms_hour_count'].transform('max')\n",
    "df_sms['sms_hour_count_min'] = df_sms.groupby('phone_no_m')['sms_hour_count'].transform('min')\n",
    "df_sms['sms_hour_count_mean'] = df_sms.groupby('phone_no_m')['sms_hour_count'].transform('mean')\n",
    "df_sms['sms_hour_count_std'] = df_sms.groupby('phone_no_m')['sms_hour_count'].transform('std')\n",
    "\n",
    "del df_sms['sms_hour_count']"
   ]
  },
  {
   "cell_type": "code",
   "execution_count": 29,
   "metadata": {
    "ExecuteTime": {
     "end_time": "2020-06-10T03:47:41.518641Z",
     "start_time": "2020-06-10T03:47:41.096980Z"
    }
   },
   "outputs": [],
   "source": [
    "# 总量\n",
    "\n",
    "df_sms['sms_count'] = df_sms.groupby('phone_no_m')['phone_no_m'].transform('count')"
   ]
  },
  {
   "cell_type": "code",
   "execution_count": 30,
   "metadata": {
    "ExecuteTime": {
     "end_time": "2020-06-10T03:47:41.532871Z",
     "start_time": "2020-06-10T03:47:41.519313Z"
    }
   },
   "outputs": [
    {
     "data": {
      "text/html": [
       "<div>\n",
       "<style scoped>\n",
       "    .dataframe tbody tr th:only-of-type {\n",
       "        vertical-align: middle;\n",
       "    }\n",
       "\n",
       "    .dataframe tbody tr th {\n",
       "        vertical-align: top;\n",
       "    }\n",
       "\n",
       "    .dataframe thead th {\n",
       "        text-align: right;\n",
       "    }\n",
       "</style>\n",
       "<table border=\"1\" class=\"dataframe\">\n",
       "  <thead>\n",
       "    <tr style=\"text-align: right;\">\n",
       "      <th></th>\n",
       "      <th>phone_no_m</th>\n",
       "      <th>opposite_no_m</th>\n",
       "      <th>calltype_id</th>\n",
       "      <th>request_datetime</th>\n",
       "      <th>sms_day</th>\n",
       "      <th>sms_hour</th>\n",
       "      <th>sms_day_count_max</th>\n",
       "      <th>sms_day_count_min</th>\n",
       "      <th>sms_day_count_mean</th>\n",
       "      <th>sms_day_count_std</th>\n",
       "      <th>sms_hour_count_max</th>\n",
       "      <th>sms_hour_count_min</th>\n",
       "      <th>sms_hour_count_mean</th>\n",
       "      <th>sms_hour_count_std</th>\n",
       "      <th>sms_count</th>\n",
       "    </tr>\n",
       "  </thead>\n",
       "  <tbody>\n",
       "    <tr>\n",
       "      <th>0</th>\n",
       "      <td>3c4adabd6c1eb2774054cdc67e8d1df09f89f4fd0b44fa0dfdb973c61688d8eb527ca71cd08d9006085c4d4888d4f9427210b4b5787dbe3d579550c3cd22aeeb</td>\n",
       "      <td>df22edbc0e3dd6bc4f2f453e687b743e8442a54834b64f06ee093a91c4a41385d46579107a443eee3ec0ce2339bcea4152a996ca8cf0b2cc846eb2acc9cc241b</td>\n",
       "      <td>2</td>\n",
       "      <td>2020-03-01 10:19:12</td>\n",
       "      <td>1</td>\n",
       "      <td>10</td>\n",
       "      <td>7</td>\n",
       "      <td>1</td>\n",
       "      <td>3.50000</td>\n",
       "      <td>1.708801</td>\n",
       "      <td>16</td>\n",
       "      <td>1</td>\n",
       "      <td>9.763158</td>\n",
       "      <td>4.743749</td>\n",
       "      <td>76</td>\n",
       "    </tr>\n",
       "    <tr>\n",
       "      <th>1</th>\n",
       "      <td>3c4adabd6c1eb2774054cdc67e8d1df09f89f4fd0b44fa0dfdb973c61688d8eb527ca71cd08d9006085c4d4888d4f9427210b4b5787dbe3d579550c3cd22aeeb</td>\n",
       "      <td>df22edbc0e3dd6bc4f2f453e687b743e8442a54834b64f06ee093a91c4a41385d46579107a443eee3ec0ce2339bcea4152a996ca8cf0b2cc846eb2acc9cc241b</td>\n",
       "      <td>2</td>\n",
       "      <td>2020-03-01 10:19:12</td>\n",
       "      <td>1</td>\n",
       "      <td>10</td>\n",
       "      <td>7</td>\n",
       "      <td>1</td>\n",
       "      <td>3.50000</td>\n",
       "      <td>1.708801</td>\n",
       "      <td>16</td>\n",
       "      <td>1</td>\n",
       "      <td>9.763158</td>\n",
       "      <td>4.743749</td>\n",
       "      <td>76</td>\n",
       "    </tr>\n",
       "    <tr>\n",
       "      <th>2</th>\n",
       "      <td>e531a69afd185e0e97fb35fd7caa0f5e2e4efc4a1c80f75d81ebb2b99288250074964ae0f9360670038065d3f4f6d7fe7d7a760bca776fd842bc187ea3543373</td>\n",
       "      <td>df22edbc0e3dd6bc4f2f453e687b743e8442a54834b64f06ee093a91c4a41385d46579107a443eee3ec0ce2339bcea4152a996ca8cf0b2cc846eb2acc9cc241b</td>\n",
       "      <td>2</td>\n",
       "      <td>2020-03-01 14:29:26</td>\n",
       "      <td>1</td>\n",
       "      <td>14</td>\n",
       "      <td>57</td>\n",
       "      <td>7</td>\n",
       "      <td>23.28169</td>\n",
       "      <td>12.928710</td>\n",
       "      <td>60</td>\n",
       "      <td>1</td>\n",
       "      <td>38.211268</td>\n",
       "      <td>14.447414</td>\n",
       "      <td>568</td>\n",
       "    </tr>\n",
       "    <tr>\n",
       "      <th>3</th>\n",
       "      <td>e531a69afd185e0e97fb35fd7caa0f5e2e4efc4a1c80f75d81ebb2b99288250074964ae0f9360670038065d3f4f6d7fe7d7a760bca776fd842bc187ea3543373</td>\n",
       "      <td>df22edbc0e3dd6bc4f2f453e687b743e8442a54834b64f06ee093a91c4a41385d46579107a443eee3ec0ce2339bcea4152a996ca8cf0b2cc846eb2acc9cc241b</td>\n",
       "      <td>2</td>\n",
       "      <td>2020-03-01 14:29:26</td>\n",
       "      <td>1</td>\n",
       "      <td>14</td>\n",
       "      <td>57</td>\n",
       "      <td>7</td>\n",
       "      <td>23.28169</td>\n",
       "      <td>12.928710</td>\n",
       "      <td>60</td>\n",
       "      <td>1</td>\n",
       "      <td>38.211268</td>\n",
       "      <td>14.447414</td>\n",
       "      <td>568</td>\n",
       "    </tr>\n",
       "    <tr>\n",
       "      <th>4</th>\n",
       "      <td>e531a69afd185e0e97fb35fd7caa0f5e2e4efc4a1c80f75d81ebb2b99288250074964ae0f9360670038065d3f4f6d7fe7d7a760bca776fd842bc187ea3543373</td>\n",
       "      <td>df22edbc0e3dd6bc4f2f453e687b743e8442a54834b64f06ee093a91c4a41385d46579107a443eee3ec0ce2339bcea4152a996ca8cf0b2cc846eb2acc9cc241b</td>\n",
       "      <td>2</td>\n",
       "      <td>2020-03-01 14:29:26</td>\n",
       "      <td>1</td>\n",
       "      <td>14</td>\n",
       "      <td>57</td>\n",
       "      <td>7</td>\n",
       "      <td>23.28169</td>\n",
       "      <td>12.928710</td>\n",
       "      <td>60</td>\n",
       "      <td>1</td>\n",
       "      <td>38.211268</td>\n",
       "      <td>14.447414</td>\n",
       "      <td>568</td>\n",
       "    </tr>\n",
       "  </tbody>\n",
       "</table>\n",
       "</div>"
      ],
      "text/plain": [
       "                                                                                                                         phone_no_m  \\\n",
       "0  3c4adabd6c1eb2774054cdc67e8d1df09f89f4fd0b44fa0dfdb973c61688d8eb527ca71cd08d9006085c4d4888d4f9427210b4b5787dbe3d579550c3cd22aeeb   \n",
       "1  3c4adabd6c1eb2774054cdc67e8d1df09f89f4fd0b44fa0dfdb973c61688d8eb527ca71cd08d9006085c4d4888d4f9427210b4b5787dbe3d579550c3cd22aeeb   \n",
       "2  e531a69afd185e0e97fb35fd7caa0f5e2e4efc4a1c80f75d81ebb2b99288250074964ae0f9360670038065d3f4f6d7fe7d7a760bca776fd842bc187ea3543373   \n",
       "3  e531a69afd185e0e97fb35fd7caa0f5e2e4efc4a1c80f75d81ebb2b99288250074964ae0f9360670038065d3f4f6d7fe7d7a760bca776fd842bc187ea3543373   \n",
       "4  e531a69afd185e0e97fb35fd7caa0f5e2e4efc4a1c80f75d81ebb2b99288250074964ae0f9360670038065d3f4f6d7fe7d7a760bca776fd842bc187ea3543373   \n",
       "\n",
       "                                                                                                                      opposite_no_m  \\\n",
       "0  df22edbc0e3dd6bc4f2f453e687b743e8442a54834b64f06ee093a91c4a41385d46579107a443eee3ec0ce2339bcea4152a996ca8cf0b2cc846eb2acc9cc241b   \n",
       "1  df22edbc0e3dd6bc4f2f453e687b743e8442a54834b64f06ee093a91c4a41385d46579107a443eee3ec0ce2339bcea4152a996ca8cf0b2cc846eb2acc9cc241b   \n",
       "2  df22edbc0e3dd6bc4f2f453e687b743e8442a54834b64f06ee093a91c4a41385d46579107a443eee3ec0ce2339bcea4152a996ca8cf0b2cc846eb2acc9cc241b   \n",
       "3  df22edbc0e3dd6bc4f2f453e687b743e8442a54834b64f06ee093a91c4a41385d46579107a443eee3ec0ce2339bcea4152a996ca8cf0b2cc846eb2acc9cc241b   \n",
       "4  df22edbc0e3dd6bc4f2f453e687b743e8442a54834b64f06ee093a91c4a41385d46579107a443eee3ec0ce2339bcea4152a996ca8cf0b2cc846eb2acc9cc241b   \n",
       "\n",
       "   calltype_id    request_datetime  sms_day  sms_hour  sms_day_count_max  \\\n",
       "0            2 2020-03-01 10:19:12        1        10                  7   \n",
       "1            2 2020-03-01 10:19:12        1        10                  7   \n",
       "2            2 2020-03-01 14:29:26        1        14                 57   \n",
       "3            2 2020-03-01 14:29:26        1        14                 57   \n",
       "4            2 2020-03-01 14:29:26        1        14                 57   \n",
       "\n",
       "   sms_day_count_min  sms_day_count_mean  sms_day_count_std  \\\n",
       "0                  1             3.50000           1.708801   \n",
       "1                  1             3.50000           1.708801   \n",
       "2                  7            23.28169          12.928710   \n",
       "3                  7            23.28169          12.928710   \n",
       "4                  7            23.28169          12.928710   \n",
       "\n",
       "   sms_hour_count_max  sms_hour_count_min  sms_hour_count_mean  \\\n",
       "0                  16                   1             9.763158   \n",
       "1                  16                   1             9.763158   \n",
       "2                  60                   1            38.211268   \n",
       "3                  60                   1            38.211268   \n",
       "4                  60                   1            38.211268   \n",
       "\n",
       "   sms_hour_count_std  sms_count  \n",
       "0            4.743749         76  \n",
       "1            4.743749         76  \n",
       "2           14.447414        568  \n",
       "3           14.447414        568  \n",
       "4           14.447414        568  "
      ]
     },
     "execution_count": 30,
     "metadata": {},
     "output_type": "execute_result"
    }
   ],
   "source": [
    "df_sms.head()"
   ]
  },
  {
   "cell_type": "markdown",
   "metadata": {},
   "source": [
    "### 应用表"
   ]
  },
  {
   "cell_type": "code",
   "execution_count": 31,
   "metadata": {
    "ExecuteTime": {
     "end_time": "2020-06-10T03:47:45.213806Z",
     "start_time": "2020-06-10T03:47:41.533832Z"
    }
   },
   "outputs": [],
   "source": [
    "train_app = pd.read_csv('../input/train/train_app.csv')\n",
    "test_app = pd.read_csv('../input/test/test_app.csv')"
   ]
  },
  {
   "cell_type": "code",
   "execution_count": 32,
   "metadata": {
    "ExecuteTime": {
     "end_time": "2020-06-10T03:47:45.481916Z",
     "start_time": "2020-06-10T03:47:45.214729Z"
    }
   },
   "outputs": [],
   "source": [
    "# 同样只取最后一个月\n",
    "\n",
    "train_app = train_app[train_app['month_id'] == '2020-03']\n",
    "train_app = train_app.reset_index(drop=True)\n",
    "\n",
    "df_app = pd.concat([train_app, test_app])"
   ]
  },
  {
   "cell_type": "code",
   "execution_count": 33,
   "metadata": {
    "ExecuteTime": {
     "end_time": "2020-06-10T03:47:46.376849Z",
     "start_time": "2020-06-10T03:47:45.483585Z"
    }
   },
   "outputs": [],
   "source": [
    "# 用户流量统计\n",
    "\n",
    "df_app['total_flow'] = df_app.groupby('phone_no_m')['flow'].transform('sum')\n",
    "df_app['flow_max'] = df_app.groupby('phone_no_m')['flow'].transform('max')\n",
    "df_app['flow_min'] = df_app.groupby('phone_no_m')['flow'].transform('min')\n",
    "df_app['flow_mean'] = df_app.groupby('phone_no_m')['flow'].transform('mean')\n",
    "df_app['flow_std'] = df_app.groupby('phone_no_m')['flow'].transform('std')\n",
    "\n",
    "# 每个phone_no_m拥有的应用数\n",
    "df_app['app_count'] = df_app.groupby('phone_no_m')['phone_no_m'].transform('count')"
   ]
  },
  {
   "cell_type": "code",
   "execution_count": 34,
   "metadata": {
    "ExecuteTime": {
     "end_time": "2020-06-10T03:47:47.972010Z",
     "start_time": "2020-06-10T03:47:46.377636Z"
    }
   },
   "outputs": [],
   "source": [
    "# 用户-busi_name流量统计\n",
    "\n",
    "df_app['busi_name_total_flow'] = df_app.groupby(['phone_no_m', 'busi_name'])['flow'].transform('sum')\n",
    "df_app['busi_name_flow_max'] = df_app.groupby(['phone_no_m', 'busi_name'])['flow'].transform('max')\n",
    "df_app['busi_name_flow_min'] = df_app.groupby(['phone_no_m', 'busi_name'])['flow'].transform('min')\n",
    "df_app['busi_name_flow_mean'] = df_app.groupby(['phone_no_m', 'busi_name'])['flow'].transform('mean')\n",
    "df_app['busi_name_flow_std'] = df_app.groupby(['phone_no_m', 'busi_name'])['flow'].transform('std')"
   ]
  },
  {
   "cell_type": "code",
   "execution_count": 35,
   "metadata": {
    "ExecuteTime": {
     "end_time": "2020-06-10T03:47:47.988642Z",
     "start_time": "2020-06-10T03:47:47.973700Z"
    }
   },
   "outputs": [
    {
     "data": {
      "text/html": [
       "<div>\n",
       "<style scoped>\n",
       "    .dataframe tbody tr th:only-of-type {\n",
       "        vertical-align: middle;\n",
       "    }\n",
       "\n",
       "    .dataframe tbody tr th {\n",
       "        vertical-align: top;\n",
       "    }\n",
       "\n",
       "    .dataframe thead th {\n",
       "        text-align: right;\n",
       "    }\n",
       "</style>\n",
       "<table border=\"1\" class=\"dataframe\">\n",
       "  <thead>\n",
       "    <tr style=\"text-align: right;\">\n",
       "      <th></th>\n",
       "      <th>phone_no_m</th>\n",
       "      <th>busi_name</th>\n",
       "      <th>flow</th>\n",
       "      <th>month_id</th>\n",
       "      <th>total_flow</th>\n",
       "      <th>flow_max</th>\n",
       "      <th>flow_min</th>\n",
       "      <th>flow_mean</th>\n",
       "      <th>flow_std</th>\n",
       "      <th>app_count</th>\n",
       "      <th>busi_name_total_flow</th>\n",
       "      <th>busi_name_flow_max</th>\n",
       "      <th>busi_name_flow_min</th>\n",
       "      <th>busi_name_flow_mean</th>\n",
       "      <th>busi_name_flow_std</th>\n",
       "    </tr>\n",
       "  </thead>\n",
       "  <tbody>\n",
       "    <tr>\n",
       "      <th>0</th>\n",
       "      <td>229a0f324de3c54b4cc4c82dafbf78ee5874fe491e4d9a5a44c16f243922f1884e84ce9a910dfee5be7b1f8b2ae2784cc6ee1f65222f841a84acef2b1f11cac2</td>\n",
       "      <td>NaN</td>\n",
       "      <td>125.060604</td>\n",
       "      <td>2020-03</td>\n",
       "      <td>5189.21207</td>\n",
       "      <td>2000.995233</td>\n",
       "      <td>0.00074</td>\n",
       "      <td>55.797979</td>\n",
       "      <td>250.141054</td>\n",
       "      <td>93</td>\n",
       "      <td>NaN</td>\n",
       "      <td>NaN</td>\n",
       "      <td>NaN</td>\n",
       "      <td>NaN</td>\n",
       "      <td>NaN</td>\n",
       "    </tr>\n",
       "    <tr>\n",
       "      <th>1</th>\n",
       "      <td>229a0f324de3c54b4cc4c82dafbf78ee5874fe491e4d9a5a44c16f243922f1884e84ce9a910dfee5be7b1f8b2ae2784cc6ee1f65222f841a84acef2b1f11cac2</td>\n",
       "      <td>QQ</td>\n",
       "      <td>7.247598</td>\n",
       "      <td>2020-03</td>\n",
       "      <td>5189.21207</td>\n",
       "      <td>2000.995233</td>\n",
       "      <td>0.00074</td>\n",
       "      <td>55.797979</td>\n",
       "      <td>250.141054</td>\n",
       "      <td>93</td>\n",
       "      <td>7.346194</td>\n",
       "      <td>7.247598</td>\n",
       "      <td>0.098597</td>\n",
       "      <td>3.673097</td>\n",
       "      <td>5.055107</td>\n",
       "    </tr>\n",
       "    <tr>\n",
       "      <th>2</th>\n",
       "      <td>229a0f324de3c54b4cc4c82dafbf78ee5874fe491e4d9a5a44c16f243922f1884e84ce9a910dfee5be7b1f8b2ae2784cc6ee1f65222f841a84acef2b1f11cac2</td>\n",
       "      <td>旺信</td>\n",
       "      <td>0.008341</td>\n",
       "      <td>2020-03</td>\n",
       "      <td>5189.21207</td>\n",
       "      <td>2000.995233</td>\n",
       "      <td>0.00074</td>\n",
       "      <td>55.797979</td>\n",
       "      <td>250.141054</td>\n",
       "      <td>93</td>\n",
       "      <td>0.008341</td>\n",
       "      <td>0.008341</td>\n",
       "      <td>0.008341</td>\n",
       "      <td>0.008341</td>\n",
       "      <td>NaN</td>\n",
       "    </tr>\n",
       "    <tr>\n",
       "      <th>3</th>\n",
       "      <td>229a0f324de3c54b4cc4c82dafbf78ee5874fe491e4d9a5a44c16f243922f1884e84ce9a910dfee5be7b1f8b2ae2784cc6ee1f65222f841a84acef2b1f11cac2</td>\n",
       "      <td>微信</td>\n",
       "      <td>584.027821</td>\n",
       "      <td>2020-03</td>\n",
       "      <td>5189.21207</td>\n",
       "      <td>2000.995233</td>\n",
       "      <td>0.00074</td>\n",
       "      <td>55.797979</td>\n",
       "      <td>250.141054</td>\n",
       "      <td>93</td>\n",
       "      <td>584.094331</td>\n",
       "      <td>584.027821</td>\n",
       "      <td>0.066510</td>\n",
       "      <td>292.047165</td>\n",
       "      <td>412.923003</td>\n",
       "    </tr>\n",
       "    <tr>\n",
       "      <th>4</th>\n",
       "      <td>229a0f324de3c54b4cc4c82dafbf78ee5874fe491e4d9a5a44c16f243922f1884e84ce9a910dfee5be7b1f8b2ae2784cc6ee1f65222f841a84acef2b1f11cac2</td>\n",
       "      <td>起点读书</td>\n",
       "      <td>5.342432</td>\n",
       "      <td>2020-03</td>\n",
       "      <td>5189.21207</td>\n",
       "      <td>2000.995233</td>\n",
       "      <td>0.00074</td>\n",
       "      <td>55.797979</td>\n",
       "      <td>250.141054</td>\n",
       "      <td>93</td>\n",
       "      <td>5.342432</td>\n",
       "      <td>5.342432</td>\n",
       "      <td>5.342432</td>\n",
       "      <td>5.342432</td>\n",
       "      <td>NaN</td>\n",
       "    </tr>\n",
       "  </tbody>\n",
       "</table>\n",
       "</div>"
      ],
      "text/plain": [
       "                                                                                                                         phone_no_m  \\\n",
       "0  229a0f324de3c54b4cc4c82dafbf78ee5874fe491e4d9a5a44c16f243922f1884e84ce9a910dfee5be7b1f8b2ae2784cc6ee1f65222f841a84acef2b1f11cac2   \n",
       "1  229a0f324de3c54b4cc4c82dafbf78ee5874fe491e4d9a5a44c16f243922f1884e84ce9a910dfee5be7b1f8b2ae2784cc6ee1f65222f841a84acef2b1f11cac2   \n",
       "2  229a0f324de3c54b4cc4c82dafbf78ee5874fe491e4d9a5a44c16f243922f1884e84ce9a910dfee5be7b1f8b2ae2784cc6ee1f65222f841a84acef2b1f11cac2   \n",
       "3  229a0f324de3c54b4cc4c82dafbf78ee5874fe491e4d9a5a44c16f243922f1884e84ce9a910dfee5be7b1f8b2ae2784cc6ee1f65222f841a84acef2b1f11cac2   \n",
       "4  229a0f324de3c54b4cc4c82dafbf78ee5874fe491e4d9a5a44c16f243922f1884e84ce9a910dfee5be7b1f8b2ae2784cc6ee1f65222f841a84acef2b1f11cac2   \n",
       "\n",
       "  busi_name        flow month_id  total_flow     flow_max  flow_min  \\\n",
       "0       NaN  125.060604  2020-03  5189.21207  2000.995233   0.00074   \n",
       "1        QQ    7.247598  2020-03  5189.21207  2000.995233   0.00074   \n",
       "2        旺信    0.008341  2020-03  5189.21207  2000.995233   0.00074   \n",
       "3        微信  584.027821  2020-03  5189.21207  2000.995233   0.00074   \n",
       "4      起点读书    5.342432  2020-03  5189.21207  2000.995233   0.00074   \n",
       "\n",
       "   flow_mean    flow_std  app_count  busi_name_total_flow  busi_name_flow_max  \\\n",
       "0  55.797979  250.141054         93                   NaN                 NaN   \n",
       "1  55.797979  250.141054         93              7.346194            7.247598   \n",
       "2  55.797979  250.141054         93              0.008341            0.008341   \n",
       "3  55.797979  250.141054         93            584.094331          584.027821   \n",
       "4  55.797979  250.141054         93              5.342432            5.342432   \n",
       "\n",
       "   busi_name_flow_min  busi_name_flow_mean  busi_name_flow_std  \n",
       "0                 NaN                  NaN                 NaN  \n",
       "1            0.098597             3.673097            5.055107  \n",
       "2            0.008341             0.008341                 NaN  \n",
       "3            0.066510           292.047165          412.923003  \n",
       "4            5.342432             5.342432                 NaN  "
      ]
     },
     "execution_count": 35,
     "metadata": {},
     "output_type": "execute_result"
    }
   ],
   "source": [
    "df_app.head()"
   ]
  },
  {
   "cell_type": "markdown",
   "metadata": {},
   "source": [
    "### 合并"
   ]
  },
  {
   "cell_type": "code",
   "execution_count": 36,
   "metadata": {
    "ExecuteTime": {
     "end_time": "2020-06-10T03:47:48.003117Z",
     "start_time": "2020-06-10T03:47:47.989643Z"
    }
   },
   "outputs": [
    {
     "data": {
      "text/plain": [
       "((8151, 10), (985666, 19), (1319506, 15), (512100, 15))"
      ]
     },
     "execution_count": 36,
     "metadata": {},
     "output_type": "execute_result"
    }
   ],
   "source": [
    "df_user.shape, df_voc.shape, df_sms.shape, df_app.shape"
   ]
  },
  {
   "cell_type": "code",
   "execution_count": 37,
   "metadata": {
    "ExecuteTime": {
     "end_time": "2020-06-10T03:47:48.408034Z",
     "start_time": "2020-06-10T03:47:48.004128Z"
    }
   },
   "outputs": [],
   "source": [
    "df_voc = df_voc[['phone_no_m', 'calltype_id', \n",
    "                 'call_dur', 'voc_day', 'voc_hour',\n",
    "                 'voc_day_count_max', 'voc_day_count_min', 'voc_day_count_mean', 'voc_day_count_std', \n",
    "                 'voc_hour_count_max', 'voc_hour_count_min', 'voc_hour_count_mean', 'voc_hour_count_std',\n",
    "                 'voc_count']].drop_duplicates(subset=['phone_no_m'])"
   ]
  },
  {
   "cell_type": "code",
   "execution_count": 38,
   "metadata": {
    "ExecuteTime": {
     "end_time": "2020-06-10T03:47:48.414553Z",
     "start_time": "2020-06-10T03:47:48.409047Z"
    }
   },
   "outputs": [
    {
     "data": {
      "text/plain": [
       "array([22,  1,  3, 27, 16, 19, 21,  9,  5,  2, 12, 13, 24, 31, 17, 26, 23,\n",
       "       25, 18,  6, 29, 20, 11, 10,  8,  4,  7, 15, 14, 30, 28],\n",
       "      dtype=int64)"
      ]
     },
     "execution_count": 38,
     "metadata": {},
     "output_type": "execute_result"
    }
   ],
   "source": [
    "df_voc['voc_day'].unique()"
   ]
  },
  {
   "cell_type": "code",
   "execution_count": 39,
   "metadata": {
    "ExecuteTime": {
     "end_time": "2020-06-10T03:47:48.429991Z",
     "start_time": "2020-06-10T03:47:48.415521Z"
    }
   },
   "outputs": [
    {
     "data": {
      "text/plain": [
       "5538    7\n",
       "Name: voc_day, dtype: int64"
      ]
     },
     "execution_count": 39,
     "metadata": {},
     "output_type": "execute_result"
    }
   ],
   "source": [
    "df_voc.loc[df_voc['phone_no_m'] == '3b6bef554a4754fa9977b50d99e6777c9fb26e585961a453bab3a2eba9f25eb510376bb89a345fb1a073e3a99da296d0f3c40aec8d0b4efd159eae4acb46f3c8', 'voc_day']"
   ]
  },
  {
   "cell_type": "code",
   "execution_count": 37,
   "metadata": {
    "ExecuteTime": {
     "end_time": "2020-06-08T04:17:25.552907Z",
     "start_time": "2020-06-08T04:17:25.056364Z"
    }
   },
   "outputs": [],
   "source": [
    "df_sms = df_sms[['phone_no_m', 'sms_day', 'sms_hour', \n",
    "                 'sms_day_count_max', 'sms_day_count_min', 'sms_day_count_mean', 'sms_day_count_std', \n",
    "                 'sms_hour_count_max', 'sms_hour_count_min', 'sms_hour_count_mean', 'sms_hour_count_std',\n",
    "                 'sms_count']].drop_duplicates(subset=['phone_no_m'])"
   ]
  },
  {
   "cell_type": "code",
   "execution_count": 40,
   "metadata": {
    "ExecuteTime": {
     "end_time": "2020-06-10T07:13:31.305169Z",
     "start_time": "2020-06-10T07:13:31.284181Z"
    }
   },
   "outputs": [
    {
     "name": "stdout",
     "output_type": "stream",
     "text": [
      "[ 1  2  3  4  5  6  7  8  9 10 11 12 13 14 15 16 17 18 19 20 21 22 23 24\n",
      " 25 26 27 28 29 30 31]\n",
      "31\n"
     ]
    }
   ],
   "source": [
    "print(df_sms['sms_day'].unique())\n",
    "print(len(df_sms['sms_day'].unique()))"
   ]
  },
  {
   "cell_type": "code",
   "execution_count": 38,
   "metadata": {
    "ExecuteTime": {
     "end_time": "2020-06-08T04:17:25.764354Z",
     "start_time": "2020-06-08T04:17:25.553879Z"
    }
   },
   "outputs": [],
   "source": [
    "df_app = df_app[['phone_no_m', 'total_flow', 'flow_max', 'flow_min',\n",
    "                 'flow_mean', 'flow_std', 'app_count',\n",
    "                 'busi_name_total_flow', 'busi_name_flow_max',\n",
    "                 'busi_name_flow_min', 'busi_name_flow_mean',\n",
    "                 'busi_name_flow_std']].drop_duplicates(subset=['phone_no_m'])"
   ]
  },
  {
   "cell_type": "code",
   "execution_count": 39,
   "metadata": {
    "ExecuteTime": {
     "end_time": "2020-06-08T04:17:25.825794Z",
     "start_time": "2020-06-08T04:17:25.765326Z"
    }
   },
   "outputs": [
    {
     "data": {
      "text/html": [
       "<div>\n",
       "<style scoped>\n",
       "    .dataframe tbody tr th:only-of-type {\n",
       "        vertical-align: middle;\n",
       "    }\n",
       "\n",
       "    .dataframe tbody tr th {\n",
       "        vertical-align: top;\n",
       "    }\n",
       "\n",
       "    .dataframe thead th {\n",
       "        text-align: right;\n",
       "    }\n",
       "</style>\n",
       "<table border=\"1\" class=\"dataframe\">\n",
       "  <thead>\n",
       "    <tr style=\"text-align: right;\">\n",
       "      <th></th>\n",
       "      <th>phone_no_m</th>\n",
       "      <th>city_name</th>\n",
       "      <th>county_name</th>\n",
       "      <th>idcard_cnt</th>\n",
       "      <th>arpu_202004</th>\n",
       "      <th>city_name_pred_0</th>\n",
       "      <th>city_name_pred_1</th>\n",
       "      <th>county_name_pred_0</th>\n",
       "      <th>county_name_pred_1</th>\n",
       "      <th>label</th>\n",
       "      <th>calltype_id</th>\n",
       "      <th>call_dur</th>\n",
       "      <th>voc_day</th>\n",
       "      <th>voc_hour</th>\n",
       "      <th>voc_day_count_max</th>\n",
       "      <th>voc_day_count_min</th>\n",
       "      <th>voc_day_count_mean</th>\n",
       "      <th>voc_day_count_std</th>\n",
       "      <th>voc_hour_count_max</th>\n",
       "      <th>voc_hour_count_min</th>\n",
       "      <th>voc_hour_count_mean</th>\n",
       "      <th>voc_hour_count_std</th>\n",
       "      <th>voc_count</th>\n",
       "      <th>sms_day</th>\n",
       "      <th>sms_hour</th>\n",
       "      <th>sms_day_count_max</th>\n",
       "      <th>sms_day_count_min</th>\n",
       "      <th>sms_day_count_mean</th>\n",
       "      <th>sms_day_count_std</th>\n",
       "      <th>sms_hour_count_max</th>\n",
       "      <th>sms_hour_count_min</th>\n",
       "      <th>sms_hour_count_mean</th>\n",
       "      <th>sms_hour_count_std</th>\n",
       "      <th>sms_count</th>\n",
       "      <th>total_flow</th>\n",
       "      <th>flow_max</th>\n",
       "      <th>flow_min</th>\n",
       "      <th>flow_mean</th>\n",
       "      <th>flow_std</th>\n",
       "      <th>app_count</th>\n",
       "      <th>busi_name_total_flow</th>\n",
       "      <th>busi_name_flow_max</th>\n",
       "      <th>busi_name_flow_min</th>\n",
       "      <th>busi_name_flow_mean</th>\n",
       "      <th>busi_name_flow_std</th>\n",
       "    </tr>\n",
       "  </thead>\n",
       "  <tbody>\n",
       "    <tr>\n",
       "      <th>0</th>\n",
       "      <td>672ddbf02a5544d32e4ecc9433b1981bffe23bf912273a3a835f6cccb78b8ed7554e9ab0fbcd33d19eb6063ce00542dd223cc5cc83c68f07bcf933547b6776b1</td>\n",
       "      <td>16</td>\n",
       "      <td>97</td>\n",
       "      <td>1</td>\n",
       "      <td>45.0</td>\n",
       "      <td>0.774194</td>\n",
       "      <td>0.225806</td>\n",
       "      <td>0.553846</td>\n",
       "      <td>0.446154</td>\n",
       "      <td>0.0</td>\n",
       "      <td>1.0</td>\n",
       "      <td>31.0</td>\n",
       "      <td>17.0</td>\n",
       "      <td>17.0</td>\n",
       "      <td>12.0</td>\n",
       "      <td>1.0</td>\n",
       "      <td>4.971831</td>\n",
       "      <td>3.601475</td>\n",
       "      <td>11.0</td>\n",
       "      <td>1.0</td>\n",
       "      <td>6.042254</td>\n",
       "      <td>3.025778</td>\n",
       "      <td>71.0</td>\n",
       "      <td>11.0</td>\n",
       "      <td>3.0</td>\n",
       "      <td>16.0</td>\n",
       "      <td>1.0</td>\n",
       "      <td>7.089552</td>\n",
       "      <td>4.362283</td>\n",
       "      <td>24.0</td>\n",
       "      <td>1.0</td>\n",
       "      <td>12.059701</td>\n",
       "      <td>6.588622</td>\n",
       "      <td>134.0</td>\n",
       "      <td>168.124505</td>\n",
       "      <td>99.590643</td>\n",
       "      <td>0.000456</td>\n",
       "      <td>2.849568</td>\n",
       "      <td>13.173569</td>\n",
       "      <td>59.0</td>\n",
       "      <td>NaN</td>\n",
       "      <td>NaN</td>\n",
       "      <td>NaN</td>\n",
       "      <td>NaN</td>\n",
       "      <td>NaN</td>\n",
       "    </tr>\n",
       "    <tr>\n",
       "      <th>1</th>\n",
       "      <td>5e1272273e041e82cb275ae877710be98cdaf5b0a8f34de8d361f71d5268fa0851edffd3950e170df1e3846fcf90cc7cc8299be9139a2ac4b5c5e5121d832674</td>\n",
       "      <td>10</td>\n",
       "      <td>82</td>\n",
       "      <td>1</td>\n",
       "      <td>60.0</td>\n",
       "      <td>0.579310</td>\n",
       "      <td>0.420690</td>\n",
       "      <td>0.571429</td>\n",
       "      <td>0.428571</td>\n",
       "      <td>0.0</td>\n",
       "      <td>2.0</td>\n",
       "      <td>12.0</td>\n",
       "      <td>30.0</td>\n",
       "      <td>12.0</td>\n",
       "      <td>2.0</td>\n",
       "      <td>1.0</td>\n",
       "      <td>1.363636</td>\n",
       "      <td>0.504525</td>\n",
       "      <td>3.0</td>\n",
       "      <td>1.0</td>\n",
       "      <td>1.727273</td>\n",
       "      <td>0.904534</td>\n",
       "      <td>11.0</td>\n",
       "      <td>3.0</td>\n",
       "      <td>9.0</td>\n",
       "      <td>22.0</td>\n",
       "      <td>1.0</td>\n",
       "      <td>14.142857</td>\n",
       "      <td>4.892586</td>\n",
       "      <td>71.0</td>\n",
       "      <td>1.0</td>\n",
       "      <td>41.112045</td>\n",
       "      <td>23.306550</td>\n",
       "      <td>357.0</td>\n",
       "      <td>10088.555221</td>\n",
       "      <td>2537.237967</td>\n",
       "      <td>0.001075</td>\n",
       "      <td>53.662528</td>\n",
       "      <td>237.544176</td>\n",
       "      <td>188.0</td>\n",
       "      <td>NaN</td>\n",
       "      <td>NaN</td>\n",
       "      <td>NaN</td>\n",
       "      <td>NaN</td>\n",
       "      <td>NaN</td>\n",
       "    </tr>\n",
       "    <tr>\n",
       "      <th>2</th>\n",
       "      <td>eaab3472ec87b076e69e6e8bb62b14341638fc63661a6c682d6add360a4332a8ad294d8470d64a73c6e53e8413f0ad93b9ea65afab717e58d312554f33553ee7</td>\n",
       "      <td>11</td>\n",
       "      <td>160</td>\n",
       "      <td>2</td>\n",
       "      <td>63.0</td>\n",
       "      <td>0.627907</td>\n",
       "      <td>0.372093</td>\n",
       "      <td>0.886364</td>\n",
       "      <td>0.113636</td>\n",
       "      <td>0.0</td>\n",
       "      <td>2.0</td>\n",
       "      <td>34.0</td>\n",
       "      <td>9.0</td>\n",
       "      <td>17.0</td>\n",
       "      <td>25.0</td>\n",
       "      <td>1.0</td>\n",
       "      <td>11.151515</td>\n",
       "      <td>5.496608</td>\n",
       "      <td>36.0</td>\n",
       "      <td>1.0</td>\n",
       "      <td>22.818182</td>\n",
       "      <td>9.387167</td>\n",
       "      <td>264.0</td>\n",
       "      <td>7.0</td>\n",
       "      <td>17.0</td>\n",
       "      <td>32.0</td>\n",
       "      <td>3.0</td>\n",
       "      <td>12.783394</td>\n",
       "      <td>8.035024</td>\n",
       "      <td>44.0</td>\n",
       "      <td>1.0</td>\n",
       "      <td>25.397112</td>\n",
       "      <td>12.424601</td>\n",
       "      <td>277.0</td>\n",
       "      <td>357.531875</td>\n",
       "      <td>74.788056</td>\n",
       "      <td>0.000526</td>\n",
       "      <td>3.928922</td>\n",
       "      <td>12.155846</td>\n",
       "      <td>91.0</td>\n",
       "      <td>NaN</td>\n",
       "      <td>NaN</td>\n",
       "      <td>NaN</td>\n",
       "      <td>NaN</td>\n",
       "      <td>NaN</td>\n",
       "    </tr>\n",
       "    <tr>\n",
       "      <th>3</th>\n",
       "      <td>0ce1bb415704178bf44e9c9b431a39b083a132c8e6d99f3627cd4520064b93ec66a72d085a67f0f40eebb9f901072965073e398f04c4ae500a1db4dfb13a972c</td>\n",
       "      <td>11</td>\n",
       "      <td>181</td>\n",
       "      <td>2</td>\n",
       "      <td>23.2</td>\n",
       "      <td>0.627907</td>\n",
       "      <td>0.372093</td>\n",
       "      <td>0.447368</td>\n",
       "      <td>0.552632</td>\n",
       "      <td>0.0</td>\n",
       "      <td>3.0</td>\n",
       "      <td>45.0</td>\n",
       "      <td>24.0</td>\n",
       "      <td>10.0</td>\n",
       "      <td>37.0</td>\n",
       "      <td>1.0</td>\n",
       "      <td>25.006885</td>\n",
       "      <td>8.531885</td>\n",
       "      <td>104.0</td>\n",
       "      <td>1.0</td>\n",
       "      <td>67.137694</td>\n",
       "      <td>28.927287</td>\n",
       "      <td>581.0</td>\n",
       "      <td>7.0</td>\n",
       "      <td>7.0</td>\n",
       "      <td>37.0</td>\n",
       "      <td>1.0</td>\n",
       "      <td>23.635452</td>\n",
       "      <td>7.869170</td>\n",
       "      <td>88.0</td>\n",
       "      <td>2.0</td>\n",
       "      <td>54.076923</td>\n",
       "      <td>21.127533</td>\n",
       "      <td>598.0</td>\n",
       "      <td>2.176389</td>\n",
       "      <td>1.118252</td>\n",
       "      <td>0.000553</td>\n",
       "      <td>0.435278</td>\n",
       "      <td>0.449543</td>\n",
       "      <td>5.0</td>\n",
       "      <td>NaN</td>\n",
       "      <td>NaN</td>\n",
       "      <td>NaN</td>\n",
       "      <td>NaN</td>\n",
       "      <td>NaN</td>\n",
       "    </tr>\n",
       "    <tr>\n",
       "      <th>4</th>\n",
       "      <td>28b87f35f63f65096a53e3a4c97eaffd4a6c43ffa7e92d7706b20520aa11fff0f4ce06203f66758ec0f0e70780e4e258aae6aa1f23439e115528e08eda71ed20</td>\n",
       "      <td>10</td>\n",
       "      <td>82</td>\n",
       "      <td>1</td>\n",
       "      <td>50.0</td>\n",
       "      <td>0.579310</td>\n",
       "      <td>0.420690</td>\n",
       "      <td>0.571429</td>\n",
       "      <td>0.428571</td>\n",
       "      <td>0.0</td>\n",
       "      <td>2.0</td>\n",
       "      <td>11.0</td>\n",
       "      <td>8.0</td>\n",
       "      <td>17.0</td>\n",
       "      <td>1.0</td>\n",
       "      <td>1.0</td>\n",
       "      <td>1.000000</td>\n",
       "      <td>0.000000</td>\n",
       "      <td>2.0</td>\n",
       "      <td>1.0</td>\n",
       "      <td>1.666667</td>\n",
       "      <td>0.516398</td>\n",
       "      <td>6.0</td>\n",
       "      <td>18.0</td>\n",
       "      <td>8.0</td>\n",
       "      <td>13.0</td>\n",
       "      <td>1.0</td>\n",
       "      <td>5.870588</td>\n",
       "      <td>3.750518</td>\n",
       "      <td>14.0</td>\n",
       "      <td>1.0</td>\n",
       "      <td>9.352941</td>\n",
       "      <td>3.816337</td>\n",
       "      <td>85.0</td>\n",
       "      <td>3303.071922</td>\n",
       "      <td>1684.194232</td>\n",
       "      <td>0.000098</td>\n",
       "      <td>27.525599</td>\n",
       "      <td>168.147333</td>\n",
       "      <td>120.0</td>\n",
       "      <td>NaN</td>\n",
       "      <td>NaN</td>\n",
       "      <td>NaN</td>\n",
       "      <td>NaN</td>\n",
       "      <td>NaN</td>\n",
       "    </tr>\n",
       "  </tbody>\n",
       "</table>\n",
       "</div>"
      ],
      "text/plain": [
       "                                                                                                                         phone_no_m  \\\n",
       "0  672ddbf02a5544d32e4ecc9433b1981bffe23bf912273a3a835f6cccb78b8ed7554e9ab0fbcd33d19eb6063ce00542dd223cc5cc83c68f07bcf933547b6776b1   \n",
       "1  5e1272273e041e82cb275ae877710be98cdaf5b0a8f34de8d361f71d5268fa0851edffd3950e170df1e3846fcf90cc7cc8299be9139a2ac4b5c5e5121d832674   \n",
       "2  eaab3472ec87b076e69e6e8bb62b14341638fc63661a6c682d6add360a4332a8ad294d8470d64a73c6e53e8413f0ad93b9ea65afab717e58d312554f33553ee7   \n",
       "3  0ce1bb415704178bf44e9c9b431a39b083a132c8e6d99f3627cd4520064b93ec66a72d085a67f0f40eebb9f901072965073e398f04c4ae500a1db4dfb13a972c   \n",
       "4  28b87f35f63f65096a53e3a4c97eaffd4a6c43ffa7e92d7706b20520aa11fff0f4ce06203f66758ec0f0e70780e4e258aae6aa1f23439e115528e08eda71ed20   \n",
       "\n",
       "   city_name  county_name  idcard_cnt  arpu_202004  city_name_pred_0  \\\n",
       "0         16           97           1         45.0          0.774194   \n",
       "1         10           82           1         60.0          0.579310   \n",
       "2         11          160           2         63.0          0.627907   \n",
       "3         11          181           2         23.2          0.627907   \n",
       "4         10           82           1         50.0          0.579310   \n",
       "\n",
       "   city_name_pred_1  county_name_pred_0  county_name_pred_1  label  \\\n",
       "0          0.225806            0.553846            0.446154    0.0   \n",
       "1          0.420690            0.571429            0.428571    0.0   \n",
       "2          0.372093            0.886364            0.113636    0.0   \n",
       "3          0.372093            0.447368            0.552632    0.0   \n",
       "4          0.420690            0.571429            0.428571    0.0   \n",
       "\n",
       "   calltype_id  call_dur  voc_day  voc_hour  voc_day_count_max  \\\n",
       "0          1.0      31.0     17.0      17.0               12.0   \n",
       "1          2.0      12.0     30.0      12.0                2.0   \n",
       "2          2.0      34.0      9.0      17.0               25.0   \n",
       "3          3.0      45.0     24.0      10.0               37.0   \n",
       "4          2.0      11.0      8.0      17.0                1.0   \n",
       "\n",
       "   voc_day_count_min  voc_day_count_mean  voc_day_count_std  \\\n",
       "0                1.0            4.971831           3.601475   \n",
       "1                1.0            1.363636           0.504525   \n",
       "2                1.0           11.151515           5.496608   \n",
       "3                1.0           25.006885           8.531885   \n",
       "4                1.0            1.000000           0.000000   \n",
       "\n",
       "   voc_hour_count_max  voc_hour_count_min  voc_hour_count_mean  \\\n",
       "0                11.0                 1.0             6.042254   \n",
       "1                 3.0                 1.0             1.727273   \n",
       "2                36.0                 1.0            22.818182   \n",
       "3               104.0                 1.0            67.137694   \n",
       "4                 2.0                 1.0             1.666667   \n",
       "\n",
       "   voc_hour_count_std  voc_count  sms_day  sms_hour  sms_day_count_max  \\\n",
       "0            3.025778       71.0     11.0       3.0               16.0   \n",
       "1            0.904534       11.0      3.0       9.0               22.0   \n",
       "2            9.387167      264.0      7.0      17.0               32.0   \n",
       "3           28.927287      581.0      7.0       7.0               37.0   \n",
       "4            0.516398        6.0     18.0       8.0               13.0   \n",
       "\n",
       "   sms_day_count_min  sms_day_count_mean  sms_day_count_std  \\\n",
       "0                1.0            7.089552           4.362283   \n",
       "1                1.0           14.142857           4.892586   \n",
       "2                3.0           12.783394           8.035024   \n",
       "3                1.0           23.635452           7.869170   \n",
       "4                1.0            5.870588           3.750518   \n",
       "\n",
       "   sms_hour_count_max  sms_hour_count_min  sms_hour_count_mean  \\\n",
       "0                24.0                 1.0            12.059701   \n",
       "1                71.0                 1.0            41.112045   \n",
       "2                44.0                 1.0            25.397112   \n",
       "3                88.0                 2.0            54.076923   \n",
       "4                14.0                 1.0             9.352941   \n",
       "\n",
       "   sms_hour_count_std  sms_count    total_flow     flow_max  flow_min  \\\n",
       "0            6.588622      134.0    168.124505    99.590643  0.000456   \n",
       "1           23.306550      357.0  10088.555221  2537.237967  0.001075   \n",
       "2           12.424601      277.0    357.531875    74.788056  0.000526   \n",
       "3           21.127533      598.0      2.176389     1.118252  0.000553   \n",
       "4            3.816337       85.0   3303.071922  1684.194232  0.000098   \n",
       "\n",
       "   flow_mean    flow_std  app_count  busi_name_total_flow  busi_name_flow_max  \\\n",
       "0   2.849568   13.173569       59.0                   NaN                 NaN   \n",
       "1  53.662528  237.544176      188.0                   NaN                 NaN   \n",
       "2   3.928922   12.155846       91.0                   NaN                 NaN   \n",
       "3   0.435278    0.449543        5.0                   NaN                 NaN   \n",
       "4  27.525599  168.147333      120.0                   NaN                 NaN   \n",
       "\n",
       "   busi_name_flow_min  busi_name_flow_mean  busi_name_flow_std  \n",
       "0                 NaN                  NaN                 NaN  \n",
       "1                 NaN                  NaN                 NaN  \n",
       "2                 NaN                  NaN                 NaN  \n",
       "3                 NaN                  NaN                 NaN  \n",
       "4                 NaN                  NaN                 NaN  "
      ]
     },
     "execution_count": 39,
     "metadata": {},
     "output_type": "execute_result"
    }
   ],
   "source": [
    "df = pd.merge(df_user, df_voc, how='left', on='phone_no_m')\n",
    "df = pd.merge(df, df_sms, how='left', on='phone_no_m')\n",
    "df = pd.merge(df, df_app, how='left', on='phone_no_m')\n",
    "\n",
    "df.head()"
   ]
  },
  {
   "cell_type": "code",
   "execution_count": 40,
   "metadata": {
    "ExecuteTime": {
     "end_time": "2020-06-08T04:17:25.838742Z",
     "start_time": "2020-06-08T04:17:25.826747Z"
    }
   },
   "outputs": [
    {
     "data": {
      "text/plain": [
       "((6106, 45), (2045, 45))"
      ]
     },
     "execution_count": 40,
     "metadata": {},
     "output_type": "execute_result"
    }
   ],
   "source": [
    "df_train = df[df.label.notna()]\n",
    "df_test = df[df.label.isna()]\n",
    "\n",
    "df_train.shape, df_test.shape"
   ]
  },
  {
   "cell_type": "markdown",
   "metadata": {},
   "source": [
    "### 建模"
   ]
  },
  {
   "cell_type": "code",
   "execution_count": 41,
   "metadata": {
    "ExecuteTime": {
     "end_time": "2020-06-08T04:17:29.388260Z",
     "start_time": "2020-06-08T04:17:25.839712Z"
    }
   },
   "outputs": [
    {
     "name": "stdout",
     "output_type": "stream",
     "text": [
      "\n",
      "Fold_1 Training ================================\n",
      "\n",
      "Training until validation scores don't improve for 50 rounds\n",
      "[100]\ttrain's auc: 0.994709\tvalid's auc: 0.934137\n",
      "Early stopping, best iteration is:\n",
      "[66]\ttrain's auc: 0.989976\tvalid's auc: 0.935291\n",
      "\n",
      "Fold_2 Training ================================\n",
      "\n",
      "Training until validation scores don't improve for 50 rounds\n",
      "Early stopping, best iteration is:\n",
      "[48]\ttrain's auc: 0.984893\tvalid's auc: 0.950183\n",
      "\n",
      "Fold_3 Training ================================\n",
      "\n",
      "Training until validation scores don't improve for 50 rounds\n",
      "[100]\ttrain's auc: 0.99415\tvalid's auc: 0.94781\n",
      "Early stopping, best iteration is:\n",
      "[136]\ttrain's auc: 0.996789\tvalid's auc: 0.948592\n",
      "\n",
      "Fold_4 Training ================================\n",
      "\n",
      "Training until validation scores don't improve for 50 rounds\n",
      "[100]\ttrain's auc: 0.99445\tvalid's auc: 0.949149\n",
      "Early stopping, best iteration is:\n",
      "[125]\ttrain's auc: 0.996363\tvalid's auc: 0.949894\n",
      "\n",
      "Fold_5 Training ================================\n",
      "\n",
      "Training until validation scores don't improve for 50 rounds\n",
      "[100]\ttrain's auc: 0.994375\tvalid's auc: 0.956021\n",
      "Early stopping, best iteration is:\n",
      "[80]\ttrain's auc: 0.992118\tvalid's auc: 0.956509\n"
     ]
    }
   ],
   "source": [
    "ycol = 'label'\n",
    "feature_names = list(filter(lambda x: x not in [ycol, 'phone_no_m'], df_train.columns))\n",
    "\n",
    "model = lgb.LGBMClassifier(objective='binary',\n",
    "                           boosting_type='gbdt',\n",
    "                           tree_learner='serial',\n",
    "                           num_leaves=64,\n",
    "                           max_depth=8,\n",
    "                           learning_rate=0.1,\n",
    "                           n_estimators=10000,\n",
    "                           subsample=0.8,\n",
    "                           feature_fraction=0.6,\n",
    "                           reg_alpha=10,\n",
    "                           reg_lambda=12,\n",
    "                           random_state=2020,\n",
    "                           is_unbalance=True,\n",
    "                           metric='auc')\n",
    "\n",
    "\n",
    "oof = []\n",
    "prediction = df_test[['phone_no_m']]\n",
    "prediction[ycol] = 0\n",
    "df_importance_list = []\n",
    "\n",
    "kfold = StratifiedKFold(n_splits=5, shuffle=True, random_state=2020)\n",
    "for fold_id, (trn_idx, val_idx) in enumerate(kfold.split(df_train[feature_names], df_train[ycol])):\n",
    "    X_train = df_train.iloc[trn_idx][feature_names]\n",
    "    Y_train = df_train.iloc[trn_idx][ycol]\n",
    "\n",
    "    X_val = df_train.iloc[val_idx][feature_names]\n",
    "    Y_val = df_train.iloc[val_idx][ycol]\n",
    "\n",
    "    print('\\nFold_{} Training ================================\\n'.format(fold_id+1))\n",
    "\n",
    "    lgb_model = model.fit(X_train,\n",
    "                          Y_train,\n",
    "                          eval_names=['train', 'valid'],\n",
    "                          eval_set=[(X_train, Y_train), (X_val, Y_val)],\n",
    "                          verbose=100,\n",
    "                          eval_metric='auc',\n",
    "                          early_stopping_rounds=50)\n",
    "\n",
    "    pred_val = lgb_model.predict(X_val, num_iteration=lgb_model.best_iteration_)\n",
    "    df_oof = df_train.iloc[val_idx][['phone_no_m', ycol]].copy()\n",
    "    df_oof['pred'] = pred_val\n",
    "    oof.append(df_oof)\n",
    "\n",
    "    pred_test = lgb_model.predict(df_test[feature_names], num_iteration=lgb_model.best_iteration_)\n",
    "    prediction[ycol] += pred_test / kfold.n_splits\n",
    "\n",
    "    df_importance = pd.DataFrame({\n",
    "        'column': feature_names,\n",
    "        'importance': lgb_model.feature_importances_,\n",
    "    })\n",
    "    df_importance_list.append(df_importance)\n",
    "\n",
    "    del lgb_model, pred_val, pred_test, X_train, Y_train, X_val, Y_val\n",
    "    gc.collect()"
   ]
  },
  {
   "cell_type": "code",
   "execution_count": 42,
   "metadata": {
    "ExecuteTime": {
     "end_time": "2020-06-08T04:17:29.427173Z",
     "start_time": "2020-06-08T04:17:29.391250Z"
    }
   },
   "outputs": [
    {
     "data": {
      "text/html": [
       "<div>\n",
       "<style scoped>\n",
       "    .dataframe tbody tr th:only-of-type {\n",
       "        vertical-align: middle;\n",
       "    }\n",
       "\n",
       "    .dataframe tbody tr th {\n",
       "        vertical-align: top;\n",
       "    }\n",
       "\n",
       "    .dataframe thead th {\n",
       "        text-align: right;\n",
       "    }\n",
       "</style>\n",
       "<table border=\"1\" class=\"dataframe\">\n",
       "  <thead>\n",
       "    <tr style=\"text-align: right;\">\n",
       "      <th></th>\n",
       "      <th>column</th>\n",
       "      <th>importance</th>\n",
       "    </tr>\n",
       "  </thead>\n",
       "  <tbody>\n",
       "    <tr>\n",
       "      <th>0</th>\n",
       "      <td>arpu_202004</td>\n",
       "      <td>169.6</td>\n",
       "    </tr>\n",
       "    <tr>\n",
       "      <th>1</th>\n",
       "      <td>app_count</td>\n",
       "      <td>154.2</td>\n",
       "    </tr>\n",
       "    <tr>\n",
       "      <th>2</th>\n",
       "      <td>voc_day_count_mean</td>\n",
       "      <td>149.0</td>\n",
       "    </tr>\n",
       "    <tr>\n",
       "      <th>3</th>\n",
       "      <td>county_name_pred_0</td>\n",
       "      <td>136.4</td>\n",
       "    </tr>\n",
       "    <tr>\n",
       "      <th>4</th>\n",
       "      <td>sms_day_count_mean</td>\n",
       "      <td>132.6</td>\n",
       "    </tr>\n",
       "    <tr>\n",
       "      <th>5</th>\n",
       "      <td>sms_count</td>\n",
       "      <td>121.8</td>\n",
       "    </tr>\n",
       "    <tr>\n",
       "      <th>6</th>\n",
       "      <td>call_dur</td>\n",
       "      <td>115.8</td>\n",
       "    </tr>\n",
       "    <tr>\n",
       "      <th>7</th>\n",
       "      <td>flow_min</td>\n",
       "      <td>114.2</td>\n",
       "    </tr>\n",
       "    <tr>\n",
       "      <th>8</th>\n",
       "      <td>city_name_pred_0</td>\n",
       "      <td>113.0</td>\n",
       "    </tr>\n",
       "    <tr>\n",
       "      <th>9</th>\n",
       "      <td>sms_day_count_std</td>\n",
       "      <td>112.6</td>\n",
       "    </tr>\n",
       "    <tr>\n",
       "      <th>10</th>\n",
       "      <td>sms_day</td>\n",
       "      <td>112.2</td>\n",
       "    </tr>\n",
       "    <tr>\n",
       "      <th>11</th>\n",
       "      <td>voc_day</td>\n",
       "      <td>107.8</td>\n",
       "    </tr>\n",
       "    <tr>\n",
       "      <th>12</th>\n",
       "      <td>voc_day_count_std</td>\n",
       "      <td>90.8</td>\n",
       "    </tr>\n",
       "    <tr>\n",
       "      <th>13</th>\n",
       "      <td>county_name</td>\n",
       "      <td>89.2</td>\n",
       "    </tr>\n",
       "    <tr>\n",
       "      <th>14</th>\n",
       "      <td>voc_count</td>\n",
       "      <td>88.6</td>\n",
       "    </tr>\n",
       "    <tr>\n",
       "      <th>15</th>\n",
       "      <td>total_flow</td>\n",
       "      <td>87.2</td>\n",
       "    </tr>\n",
       "    <tr>\n",
       "      <th>16</th>\n",
       "      <td>voc_hour_count_std</td>\n",
       "      <td>85.2</td>\n",
       "    </tr>\n",
       "    <tr>\n",
       "      <th>17</th>\n",
       "      <td>flow_std</td>\n",
       "      <td>82.6</td>\n",
       "    </tr>\n",
       "    <tr>\n",
       "      <th>18</th>\n",
       "      <td>sms_hour_count_max</td>\n",
       "      <td>78.8</td>\n",
       "    </tr>\n",
       "    <tr>\n",
       "      <th>19</th>\n",
       "      <td>county_name_pred_1</td>\n",
       "      <td>76.6</td>\n",
       "    </tr>\n",
       "    <tr>\n",
       "      <th>20</th>\n",
       "      <td>sms_hour_count_std</td>\n",
       "      <td>75.0</td>\n",
       "    </tr>\n",
       "    <tr>\n",
       "      <th>21</th>\n",
       "      <td>sms_hour_count_mean</td>\n",
       "      <td>74.0</td>\n",
       "    </tr>\n",
       "    <tr>\n",
       "      <th>22</th>\n",
       "      <td>flow_mean</td>\n",
       "      <td>72.4</td>\n",
       "    </tr>\n",
       "    <tr>\n",
       "      <th>23</th>\n",
       "      <td>city_name</td>\n",
       "      <td>70.4</td>\n",
       "    </tr>\n",
       "    <tr>\n",
       "      <th>24</th>\n",
       "      <td>flow_max</td>\n",
       "      <td>61.2</td>\n",
       "    </tr>\n",
       "    <tr>\n",
       "      <th>25</th>\n",
       "      <td>voc_hour</td>\n",
       "      <td>59.4</td>\n",
       "    </tr>\n",
       "    <tr>\n",
       "      <th>26</th>\n",
       "      <td>sms_hour</td>\n",
       "      <td>59.4</td>\n",
       "    </tr>\n",
       "    <tr>\n",
       "      <th>27</th>\n",
       "      <td>voc_hour_count_mean</td>\n",
       "      <td>58.8</td>\n",
       "    </tr>\n",
       "    <tr>\n",
       "      <th>28</th>\n",
       "      <td>idcard_cnt</td>\n",
       "      <td>50.6</td>\n",
       "    </tr>\n",
       "    <tr>\n",
       "      <th>29</th>\n",
       "      <td>sms_day_count_max</td>\n",
       "      <td>50.6</td>\n",
       "    </tr>\n",
       "    <tr>\n",
       "      <th>30</th>\n",
       "      <td>city_name_pred_1</td>\n",
       "      <td>49.0</td>\n",
       "    </tr>\n",
       "    <tr>\n",
       "      <th>31</th>\n",
       "      <td>busi_name_total_flow</td>\n",
       "      <td>29.2</td>\n",
       "    </tr>\n",
       "    <tr>\n",
       "      <th>32</th>\n",
       "      <td>voc_day_count_max</td>\n",
       "      <td>28.8</td>\n",
       "    </tr>\n",
       "    <tr>\n",
       "      <th>33</th>\n",
       "      <td>voc_hour_count_max</td>\n",
       "      <td>27.0</td>\n",
       "    </tr>\n",
       "    <tr>\n",
       "      <th>34</th>\n",
       "      <td>sms_day_count_min</td>\n",
       "      <td>26.4</td>\n",
       "    </tr>\n",
       "    <tr>\n",
       "      <th>35</th>\n",
       "      <td>voc_day_count_min</td>\n",
       "      <td>18.2</td>\n",
       "    </tr>\n",
       "    <tr>\n",
       "      <th>36</th>\n",
       "      <td>calltype_id</td>\n",
       "      <td>17.6</td>\n",
       "    </tr>\n",
       "    <tr>\n",
       "      <th>37</th>\n",
       "      <td>voc_hour_count_min</td>\n",
       "      <td>11.6</td>\n",
       "    </tr>\n",
       "    <tr>\n",
       "      <th>38</th>\n",
       "      <td>busi_name_flow_max</td>\n",
       "      <td>8.6</td>\n",
       "    </tr>\n",
       "    <tr>\n",
       "      <th>39</th>\n",
       "      <td>busi_name_flow_min</td>\n",
       "      <td>4.8</td>\n",
       "    </tr>\n",
       "    <tr>\n",
       "      <th>40</th>\n",
       "      <td>sms_hour_count_min</td>\n",
       "      <td>4.8</td>\n",
       "    </tr>\n",
       "    <tr>\n",
       "      <th>41</th>\n",
       "      <td>busi_name_flow_mean</td>\n",
       "      <td>1.8</td>\n",
       "    </tr>\n",
       "    <tr>\n",
       "      <th>42</th>\n",
       "      <td>busi_name_flow_std</td>\n",
       "      <td>0.0</td>\n",
       "    </tr>\n",
       "  </tbody>\n",
       "</table>\n",
       "</div>"
      ],
      "text/plain": [
       "                  column  importance\n",
       "0            arpu_202004       169.6\n",
       "1              app_count       154.2\n",
       "2     voc_day_count_mean       149.0\n",
       "3     county_name_pred_0       136.4\n",
       "4     sms_day_count_mean       132.6\n",
       "5              sms_count       121.8\n",
       "6               call_dur       115.8\n",
       "7               flow_min       114.2\n",
       "8       city_name_pred_0       113.0\n",
       "9      sms_day_count_std       112.6\n",
       "10               sms_day       112.2\n",
       "11               voc_day       107.8\n",
       "12     voc_day_count_std        90.8\n",
       "13           county_name        89.2\n",
       "14             voc_count        88.6\n",
       "15            total_flow        87.2\n",
       "16    voc_hour_count_std        85.2\n",
       "17              flow_std        82.6\n",
       "18    sms_hour_count_max        78.8\n",
       "19    county_name_pred_1        76.6\n",
       "20    sms_hour_count_std        75.0\n",
       "21   sms_hour_count_mean        74.0\n",
       "22             flow_mean        72.4\n",
       "23             city_name        70.4\n",
       "24              flow_max        61.2\n",
       "25              voc_hour        59.4\n",
       "26              sms_hour        59.4\n",
       "27   voc_hour_count_mean        58.8\n",
       "28            idcard_cnt        50.6\n",
       "29     sms_day_count_max        50.6\n",
       "30      city_name_pred_1        49.0\n",
       "31  busi_name_total_flow        29.2\n",
       "32     voc_day_count_max        28.8\n",
       "33    voc_hour_count_max        27.0\n",
       "34     sms_day_count_min        26.4\n",
       "35     voc_day_count_min        18.2\n",
       "36           calltype_id        17.6\n",
       "37    voc_hour_count_min        11.6\n",
       "38    busi_name_flow_max         8.6\n",
       "39    busi_name_flow_min         4.8\n",
       "40    sms_hour_count_min         4.8\n",
       "41   busi_name_flow_mean         1.8\n",
       "42    busi_name_flow_std         0.0"
      ]
     },
     "execution_count": 42,
     "metadata": {},
     "output_type": "execute_result"
    }
   ],
   "source": [
    "df_importance = pd.concat(df_importance_list)\n",
    "df_importance = df_importance.groupby(['column'])['importance'].agg(\n",
    "    'mean').sort_values(ascending=False).reset_index()\n",
    "df_importance"
   ]
  },
  {
   "cell_type": "code",
   "execution_count": 43,
   "metadata": {
    "ExecuteTime": {
     "end_time": "2020-06-08T04:17:29.443131Z",
     "start_time": "2020-06-08T04:17:29.428172Z"
    }
   },
   "outputs": [
    {
     "name": "stdout",
     "output_type": "stream",
     "text": [
      "f1: 0.875\n"
     ]
    }
   ],
   "source": [
    "df_oof = pd.concat(oof)\n",
    "f1 = f1_score(df_oof[ycol], df_oof['pred'])\n",
    "print('f1:', f1)"
   ]
  },
  {
   "cell_type": "code",
   "execution_count": 44,
   "metadata": {
    "ExecuteTime": {
     "end_time": "2020-06-08T04:17:29.457094Z",
     "start_time": "2020-06-08T04:17:29.445126Z"
    }
   },
   "outputs": [
    {
     "data": {
      "text/html": [
       "<div>\n",
       "<style scoped>\n",
       "    .dataframe tbody tr th:only-of-type {\n",
       "        vertical-align: middle;\n",
       "    }\n",
       "\n",
       "    .dataframe tbody tr th {\n",
       "        vertical-align: top;\n",
       "    }\n",
       "\n",
       "    .dataframe thead th {\n",
       "        text-align: right;\n",
       "    }\n",
       "</style>\n",
       "<table border=\"1\" class=\"dataframe\">\n",
       "  <thead>\n",
       "    <tr style=\"text-align: right;\">\n",
       "      <th></th>\n",
       "      <th>phone_no_m</th>\n",
       "      <th>label</th>\n",
       "    </tr>\n",
       "  </thead>\n",
       "  <tbody>\n",
       "    <tr>\n",
       "      <th>6106</th>\n",
       "      <td>22d522340df77e2252c1a4d92b4bcb00d515e36f3ec6bf94e017b4ffd67e26520af18637ad91bde69abd831cc36cdc0c5af5e57bc280f95f79efef7bfa9c6926</td>\n",
       "      <td>0</td>\n",
       "    </tr>\n",
       "    <tr>\n",
       "      <th>6107</th>\n",
       "      <td>5220d4b8429bdba3971a7b46a088c6b8fa6710f40607598ac1219daab6071510b3f66f78637420574dbb2d5488d44de9d4360a644bbe4ec45aaa4b7513bdc886</td>\n",
       "      <td>1</td>\n",
       "    </tr>\n",
       "    <tr>\n",
       "      <th>6108</th>\n",
       "      <td>7d19dd2b50ced56f03d23bf928cf34dc570a48525571a868ffdcdc53a865b7a41c386a6f1d6567dd4a710530b933308c77d1ef89f77b580d1983dadd3de162ea</td>\n",
       "      <td>0</td>\n",
       "    </tr>\n",
       "    <tr>\n",
       "      <th>6109</th>\n",
       "      <td>134a4a591185c9d3788021896dcfc235e9e0a6a1e3f8a4fd3a9f9d9bf4a033e791b7199db980b0678020bdf689d719306a5c694ffa47b4ba2bec43ceda68dfc1</td>\n",
       "      <td>0</td>\n",
       "    </tr>\n",
       "    <tr>\n",
       "      <th>6110</th>\n",
       "      <td>2356dcd6759d50455ddaeed03c838843558e9182d5962f8a4c81a9a178063c49ab988750f795bb6c5462aee5dace2ad9fd18dbb1a6619dbb1e771e9b0f192da9</td>\n",
       "      <td>0</td>\n",
       "    </tr>\n",
       "  </tbody>\n",
       "</table>\n",
       "</div>"
      ],
      "text/plain": [
       "                                                                                                                            phone_no_m  \\\n",
       "6106  22d522340df77e2252c1a4d92b4bcb00d515e36f3ec6bf94e017b4ffd67e26520af18637ad91bde69abd831cc36cdc0c5af5e57bc280f95f79efef7bfa9c6926   \n",
       "6107  5220d4b8429bdba3971a7b46a088c6b8fa6710f40607598ac1219daab6071510b3f66f78637420574dbb2d5488d44de9d4360a644bbe4ec45aaa4b7513bdc886   \n",
       "6108  7d19dd2b50ced56f03d23bf928cf34dc570a48525571a868ffdcdc53a865b7a41c386a6f1d6567dd4a710530b933308c77d1ef89f77b580d1983dadd3de162ea   \n",
       "6109  134a4a591185c9d3788021896dcfc235e9e0a6a1e3f8a4fd3a9f9d9bf4a033e791b7199db980b0678020bdf689d719306a5c694ffa47b4ba2bec43ceda68dfc1   \n",
       "6110  2356dcd6759d50455ddaeed03c838843558e9182d5962f8a4c81a9a178063c49ab988750f795bb6c5462aee5dace2ad9fd18dbb1a6619dbb1e771e9b0f192da9   \n",
       "\n",
       "      label  \n",
       "6106      0  \n",
       "6107      1  \n",
       "6108      0  \n",
       "6109      0  \n",
       "6110      0  "
      ]
     },
     "execution_count": 44,
     "metadata": {},
     "output_type": "execute_result"
    }
   ],
   "source": [
    "sub = prediction.copy(deep=True)\n",
    "sub['label'] = sub['label'].apply(lambda x: 1 if x>0 else 0)\n",
    "sub.head()"
   ]
  },
  {
   "cell_type": "code",
   "execution_count": 45,
   "metadata": {
    "ExecuteTime": {
     "end_time": "2020-06-08T04:17:29.466069Z",
     "start_time": "2020-06-08T04:17:29.459089Z"
    }
   },
   "outputs": [
    {
     "data": {
      "text/plain": [
       "0    1528\n",
       "1     517\n",
       "Name: label, dtype: int64"
      ]
     },
     "execution_count": 45,
     "metadata": {},
     "output_type": "execute_result"
    }
   ],
   "source": [
    "sub.label.value_counts()"
   ]
  },
  {
   "cell_type": "code",
   "execution_count": 46,
   "metadata": {
    "ExecuteTime": {
     "end_time": "2020-06-08T04:17:29.492000Z",
     "start_time": "2020-06-08T04:17:29.468064Z"
    }
   },
   "outputs": [],
   "source": [
    "sub.to_csv('../sub/baseline_{}.csv'.format(f1), index=False, encoding='utf-8')"
   ]
  },
  {
   "cell_type": "code",
   "execution_count": null,
   "metadata": {},
   "outputs": [],
   "source": []
  }
 ],
 "metadata": {
  "kernelspec": {
   "display_name": "Python 3",
   "language": "python",
   "name": "python3"
  },
  "language_info": {
   "codemirror_mode": {
    "name": "ipython",
    "version": 3
   },
   "file_extension": ".py",
   "mimetype": "text/x-python",
   "name": "python",
   "nbconvert_exporter": "python",
   "pygments_lexer": "ipython3",
   "version": "3.7.3"
  },
  "toc": {
   "base_numbering": 1,
   "nav_menu": {},
   "number_sections": true,
   "sideBar": true,
   "skip_h1_title": false,
   "title_cell": "Table of Contents",
   "title_sidebar": "Contents",
   "toc_cell": false,
   "toc_position": {},
   "toc_section_display": true,
   "toc_window_display": false
  },
  "varInspector": {
   "cols": {
    "lenName": 16,
    "lenType": 16,
    "lenVar": 40
   },
   "kernels_config": {
    "python": {
     "delete_cmd_postfix": "",
     "delete_cmd_prefix": "del ",
     "library": "var_list.py",
     "varRefreshCmd": "print(var_dic_list())"
    },
    "r": {
     "delete_cmd_postfix": ") ",
     "delete_cmd_prefix": "rm(",
     "library": "var_list.r",
     "varRefreshCmd": "cat(var_dic_list()) "
    }
   },
   "types_to_exclude": [
    "module",
    "function",
    "builtin_function_or_method",
    "instance",
    "_Feature"
   ],
   "window_display": false
  }
 },
 "nbformat": 4,
 "nbformat_minor": 2
}
