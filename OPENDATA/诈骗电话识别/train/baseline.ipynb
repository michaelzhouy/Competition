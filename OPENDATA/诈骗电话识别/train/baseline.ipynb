{
 "cells": [
  {
   "cell_type": "code",
   "execution_count": 1,
   "metadata": {
    "ExecuteTime": {
     "end_time": "2020-06-07T10:46:01.041202Z",
     "start_time": "2020-06-07T10:45:59.930346Z"
    }
   },
   "outputs": [],
   "source": [
    "import numpy as np\n",
    "import pandas as pd\n",
    "import matplotlib.pyplot as plt\n",
    "import seaborn as sns\n",
    "import warnings\n",
    "from tqdm import tqdm\n",
    "from sklearn.preprocessing import LabelEncoder\n",
    "import gc\n",
    "import lightgbm as lgb\n",
    "from sklearn.model_selection import StratifiedKFold\n",
    "from sklearn.metrics import f1_score\n",
    "\n",
    "pd.set_option('max_columns', None)\n",
    "pd.set_option('max_rows', None)\n",
    "pd.set_option('max_colwidth', 200)\n",
    "\n",
    "warnings.filterwarnings('ignore')\n",
    "tqdm.pandas()\n",
    "\n",
    "%matplotlib inline"
   ]
  },
  {
   "cell_type": "markdown",
   "metadata": {},
   "source": [
    "### 用户表"
   ]
  },
  {
   "cell_type": "code",
   "execution_count": 2,
   "metadata": {
    "ExecuteTime": {
     "end_time": "2020-06-07T10:46:01.077152Z",
     "start_time": "2020-06-07T10:46:01.042200Z"
    }
   },
   "outputs": [],
   "source": [
    "train_user = pd.read_csv('../input/train/train_user.csv')\n",
    "test_user = pd.read_csv('../input/test/test_user.csv')"
   ]
  },
  {
   "cell_type": "code",
   "execution_count": 3,
   "metadata": {
    "ExecuteTime": {
     "end_time": "2020-06-07T10:46:01.096043Z",
     "start_time": "2020-06-07T10:46:01.079081Z"
    }
   },
   "outputs": [
    {
     "data": {
      "text/html": [
       "<div>\n",
       "<style scoped>\n",
       "    .dataframe tbody tr th:only-of-type {\n",
       "        vertical-align: middle;\n",
       "    }\n",
       "\n",
       "    .dataframe tbody tr th {\n",
       "        vertical-align: top;\n",
       "    }\n",
       "\n",
       "    .dataframe thead th {\n",
       "        text-align: right;\n",
       "    }\n",
       "</style>\n",
       "<table border=\"1\" class=\"dataframe\">\n",
       "  <thead>\n",
       "    <tr style=\"text-align: right;\">\n",
       "      <th></th>\n",
       "      <th>phone_no_m</th>\n",
       "      <th>city_name</th>\n",
       "      <th>county_name</th>\n",
       "      <th>idcard_cnt</th>\n",
       "      <th>arpu_201908</th>\n",
       "      <th>arpu_201909</th>\n",
       "      <th>arpu_201910</th>\n",
       "      <th>arpu_201911</th>\n",
       "      <th>arpu_201912</th>\n",
       "      <th>arpu_202001</th>\n",
       "      <th>arpu_202002</th>\n",
       "      <th>arpu_202003</th>\n",
       "      <th>label</th>\n",
       "    </tr>\n",
       "  </thead>\n",
       "  <tbody>\n",
       "    <tr>\n",
       "      <th>0</th>\n",
       "      <td>672ddbf02a5544d32e4ecc9433b1981bffe23bf912273a3a835f6cccb78b8ed7554e9ab0fbcd33d19eb6063ce00542dd223cc5cc83c68f07bcf933547b6776b1</td>\n",
       "      <td>绵阳</td>\n",
       "      <td>江油分公司</td>\n",
       "      <td>1</td>\n",
       "      <td>46.06</td>\n",
       "      <td>45.00</td>\n",
       "      <td>45.0</td>\n",
       "      <td>45.00</td>\n",
       "      <td>45.00</td>\n",
       "      <td>45.0</td>\n",
       "      <td>45.0</td>\n",
       "      <td>45.0</td>\n",
       "      <td>0</td>\n",
       "    </tr>\n",
       "    <tr>\n",
       "      <th>1</th>\n",
       "      <td>5e1272273e041e82cb275ae877710be98cdaf5b0a8f34de8d361f71d5268fa0851edffd3950e170df1e3846fcf90cc7cc8299be9139a2ac4b5c5e5121d832674</td>\n",
       "      <td>德阳</td>\n",
       "      <td>旌阳分公司</td>\n",
       "      <td>1</td>\n",
       "      <td>79.00</td>\n",
       "      <td>79.20</td>\n",
       "      <td>79.1</td>\n",
       "      <td>79.30</td>\n",
       "      <td>41.40</td>\n",
       "      <td>34.1</td>\n",
       "      <td>59.4</td>\n",
       "      <td>60.0</td>\n",
       "      <td>0</td>\n",
       "    </tr>\n",
       "    <tr>\n",
       "      <th>2</th>\n",
       "      <td>eaab3472ec87b076e69e6e8bb62b14341638fc63661a6c682d6add360a4332a8ad294d8470d64a73c6e53e8413f0ad93b9ea65afab717e58d312554f33553ee7</td>\n",
       "      <td>成都</td>\n",
       "      <td>金堂分公司</td>\n",
       "      <td>2</td>\n",
       "      <td>18.85</td>\n",
       "      <td>24.45</td>\n",
       "      <td>22.0</td>\n",
       "      <td>21.40</td>\n",
       "      <td>22.15</td>\n",
       "      <td>21.1</td>\n",
       "      <td>61.3</td>\n",
       "      <td>63.0</td>\n",
       "      <td>0</td>\n",
       "    </tr>\n",
       "    <tr>\n",
       "      <th>3</th>\n",
       "      <td>0ce1bb415704178bf44e9c9b431a39b083a132c8e6d99f3627cd4520064b93ec66a72d085a67f0f40eebb9f901072965073e398f04c4ae500a1db4dfb13a972c</td>\n",
       "      <td>成都</td>\n",
       "      <td>高新分公司</td>\n",
       "      <td>2</td>\n",
       "      <td>19.20</td>\n",
       "      <td>29.65</td>\n",
       "      <td>130.4</td>\n",
       "      <td>173.12</td>\n",
       "      <td>19.00</td>\n",
       "      <td>19.0</td>\n",
       "      <td>19.0</td>\n",
       "      <td>23.2</td>\n",
       "      <td>0</td>\n",
       "    </tr>\n",
       "    <tr>\n",
       "      <th>4</th>\n",
       "      <td>28b87f35f63f65096a53e3a4c97eaffd4a6c43ffa7e92d7706b20520aa11fff0f4ce06203f66758ec0f0e70780e4e258aae6aa1f23439e115528e08eda71ed20</td>\n",
       "      <td>德阳</td>\n",
       "      <td>旌阳分公司</td>\n",
       "      <td>1</td>\n",
       "      <td>50.00</td>\n",
       "      <td>50.00</td>\n",
       "      <td>50.0</td>\n",
       "      <td>50.00</td>\n",
       "      <td>50.00</td>\n",
       "      <td>50.0</td>\n",
       "      <td>50.0</td>\n",
       "      <td>50.0</td>\n",
       "      <td>0</td>\n",
       "    </tr>\n",
       "  </tbody>\n",
       "</table>\n",
       "</div>"
      ],
      "text/plain": [
       "                                                                                                                         phone_no_m  \\\n",
       "0  672ddbf02a5544d32e4ecc9433b1981bffe23bf912273a3a835f6cccb78b8ed7554e9ab0fbcd33d19eb6063ce00542dd223cc5cc83c68f07bcf933547b6776b1   \n",
       "1  5e1272273e041e82cb275ae877710be98cdaf5b0a8f34de8d361f71d5268fa0851edffd3950e170df1e3846fcf90cc7cc8299be9139a2ac4b5c5e5121d832674   \n",
       "2  eaab3472ec87b076e69e6e8bb62b14341638fc63661a6c682d6add360a4332a8ad294d8470d64a73c6e53e8413f0ad93b9ea65afab717e58d312554f33553ee7   \n",
       "3  0ce1bb415704178bf44e9c9b431a39b083a132c8e6d99f3627cd4520064b93ec66a72d085a67f0f40eebb9f901072965073e398f04c4ae500a1db4dfb13a972c   \n",
       "4  28b87f35f63f65096a53e3a4c97eaffd4a6c43ffa7e92d7706b20520aa11fff0f4ce06203f66758ec0f0e70780e4e258aae6aa1f23439e115528e08eda71ed20   \n",
       "\n",
       "  city_name county_name  idcard_cnt  arpu_201908  arpu_201909  arpu_201910  \\\n",
       "0        绵阳       江油分公司           1        46.06        45.00         45.0   \n",
       "1        德阳       旌阳分公司           1        79.00        79.20         79.1   \n",
       "2        成都       金堂分公司           2        18.85        24.45         22.0   \n",
       "3        成都       高新分公司           2        19.20        29.65        130.4   \n",
       "4        德阳       旌阳分公司           1        50.00        50.00         50.0   \n",
       "\n",
       "   arpu_201911  arpu_201912  arpu_202001  arpu_202002  arpu_202003  label  \n",
       "0        45.00        45.00         45.0         45.0         45.0      0  \n",
       "1        79.30        41.40         34.1         59.4         60.0      0  \n",
       "2        21.40        22.15         21.1         61.3         63.0      0  \n",
       "3       173.12        19.00         19.0         19.0         23.2      0  \n",
       "4        50.00        50.00         50.0         50.0         50.0      0  "
      ]
     },
     "execution_count": 3,
     "metadata": {},
     "output_type": "execute_result"
    }
   ],
   "source": [
    "train_user.head()"
   ]
  },
  {
   "cell_type": "code",
   "execution_count": 4,
   "metadata": {
    "ExecuteTime": {
     "end_time": "2020-06-07T10:46:01.110054Z",
     "start_time": "2020-06-07T10:46:01.098028Z"
    }
   },
   "outputs": [
    {
     "data": {
      "text/html": [
       "<div>\n",
       "<style scoped>\n",
       "    .dataframe tbody tr th:only-of-type {\n",
       "        vertical-align: middle;\n",
       "    }\n",
       "\n",
       "    .dataframe tbody tr th {\n",
       "        vertical-align: top;\n",
       "    }\n",
       "\n",
       "    .dataframe thead th {\n",
       "        text-align: right;\n",
       "    }\n",
       "</style>\n",
       "<table border=\"1\" class=\"dataframe\">\n",
       "  <thead>\n",
       "    <tr style=\"text-align: right;\">\n",
       "      <th></th>\n",
       "      <th>phone_no_m</th>\n",
       "      <th>city_name</th>\n",
       "      <th>county_name</th>\n",
       "      <th>idcard_cnt</th>\n",
       "      <th>arpu_202004</th>\n",
       "    </tr>\n",
       "  </thead>\n",
       "  <tbody>\n",
       "    <tr>\n",
       "      <th>0</th>\n",
       "      <td>22d522340df77e2252c1a4d92b4bcb00d515e36f3ec6bf94e017b4ffd67e26520af18637ad91bde69abd831cc36cdc0c5af5e57bc280f95f79efef7bfa9c6926</td>\n",
       "      <td>成都</td>\n",
       "      <td>金牛分公司</td>\n",
       "      <td>1</td>\n",
       "      <td>9.0</td>\n",
       "    </tr>\n",
       "    <tr>\n",
       "      <th>1</th>\n",
       "      <td>5220d4b8429bdba3971a7b46a088c6b8fa6710f40607598ac1219daab6071510b3f66f78637420574dbb2d5488d44de9d4360a644bbe4ec45aaa4b7513bdc886</td>\n",
       "      <td>天府新区</td>\n",
       "      <td>天府直属部门</td>\n",
       "      <td>1</td>\n",
       "      <td>NaN</td>\n",
       "    </tr>\n",
       "    <tr>\n",
       "      <th>2</th>\n",
       "      <td>7d19dd2b50ced56f03d23bf928cf34dc570a48525571a868ffdcdc53a865b7a41c386a6f1d6567dd4a710530b933308c77d1ef89f77b580d1983dadd3de162ea</td>\n",
       "      <td>成都</td>\n",
       "      <td>锦江分公司</td>\n",
       "      <td>1</td>\n",
       "      <td>9.0</td>\n",
       "    </tr>\n",
       "    <tr>\n",
       "      <th>3</th>\n",
       "      <td>134a4a591185c9d3788021896dcfc235e9e0a6a1e3f8a4fd3a9f9d9bf4a033e791b7199db980b0678020bdf689d719306a5c694ffa47b4ba2bec43ceda68dfc1</td>\n",
       "      <td>绵阳</td>\n",
       "      <td>江油分公司</td>\n",
       "      <td>1</td>\n",
       "      <td>138.7</td>\n",
       "    </tr>\n",
       "    <tr>\n",
       "      <th>4</th>\n",
       "      <td>2356dcd6759d50455ddaeed03c838843558e9182d5962f8a4c81a9a178063c49ab988750f795bb6c5462aee5dace2ad9fd18dbb1a6619dbb1e771e9b0f192da9</td>\n",
       "      <td>成都</td>\n",
       "      <td>青羊分公司</td>\n",
       "      <td>2</td>\n",
       "      <td>39.0</td>\n",
       "    </tr>\n",
       "  </tbody>\n",
       "</table>\n",
       "</div>"
      ],
      "text/plain": [
       "                                                                                                                         phone_no_m  \\\n",
       "0  22d522340df77e2252c1a4d92b4bcb00d515e36f3ec6bf94e017b4ffd67e26520af18637ad91bde69abd831cc36cdc0c5af5e57bc280f95f79efef7bfa9c6926   \n",
       "1  5220d4b8429bdba3971a7b46a088c6b8fa6710f40607598ac1219daab6071510b3f66f78637420574dbb2d5488d44de9d4360a644bbe4ec45aaa4b7513bdc886   \n",
       "2  7d19dd2b50ced56f03d23bf928cf34dc570a48525571a868ffdcdc53a865b7a41c386a6f1d6567dd4a710530b933308c77d1ef89f77b580d1983dadd3de162ea   \n",
       "3  134a4a591185c9d3788021896dcfc235e9e0a6a1e3f8a4fd3a9f9d9bf4a033e791b7199db980b0678020bdf689d719306a5c694ffa47b4ba2bec43ceda68dfc1   \n",
       "4  2356dcd6759d50455ddaeed03c838843558e9182d5962f8a4c81a9a178063c49ab988750f795bb6c5462aee5dace2ad9fd18dbb1a6619dbb1e771e9b0f192da9   \n",
       "\n",
       "  city_name county_name  idcard_cnt  arpu_202004  \n",
       "0        成都       金牛分公司           1          9.0  \n",
       "1      天府新区      天府直属部门           1          NaN  \n",
       "2        成都       锦江分公司           1          9.0  \n",
       "3        绵阳       江油分公司           1        138.7  \n",
       "4        成都       青羊分公司           2         39.0  "
      ]
     },
     "execution_count": 4,
     "metadata": {},
     "output_type": "execute_result"
    }
   ],
   "source": [
    "test_user.head()"
   ]
  },
  {
   "cell_type": "markdown",
   "metadata": {},
   "source": [
    "1. 查看训练集和测试集电话号码的交集"
   ]
  },
  {
   "cell_type": "code",
   "execution_count": 5,
   "metadata": {
    "ExecuteTime": {
     "end_time": "2020-06-07T10:46:01.120997Z",
     "start_time": "2020-06-07T10:46:01.111031Z"
    }
   },
   "outputs": [
    {
     "data": {
      "text/plain": [
       "set()"
      ]
     },
     "execution_count": 5,
     "metadata": {},
     "output_type": "execute_result"
    }
   ],
   "source": [
    "tr_u = set(list(train_user['phone_no_m'].unique()))\n",
    "te_u = set(list(test_user['phone_no_m'].unique()))\n",
    "\n",
    "tr_u & te_u"
   ]
  },
  {
   "cell_type": "code",
   "execution_count": 6,
   "metadata": {
    "ExecuteTime": {
     "end_time": "2020-06-07T10:46:01.199775Z",
     "start_time": "2020-06-07T10:46:01.123959Z"
    }
   },
   "outputs": [
    {
     "data": {
      "image/png": "[encoded data removed]",
      "text/plain": [
       "<Figure size 432x288 with 1 Axes>"
      ]
     },
     "metadata": {},
     "output_type": "display_data"
    }
   ],
   "source": [
    "_ = train_user.label.value_counts().plot.pie()"
   ]
  },
  {
   "cell_type": "code",
   "execution_count": 7,
   "metadata": {
    "ExecuteTime": {
     "end_time": "2020-06-07T10:46:01.206756Z",
     "start_time": "2020-06-07T10:46:01.200774Z"
    }
   },
   "outputs": [
    {
     "data": {
      "text/plain": [
       "((6106, 13), (2045, 5))"
      ]
     },
     "execution_count": 7,
     "metadata": {},
     "output_type": "execute_result"
    }
   ],
   "source": [
    "train_user.shape, test_user.shape"
   ]
  },
  {
   "cell_type": "code",
   "execution_count": 8,
   "metadata": {
    "ExecuteTime": {
     "end_time": "2020-06-07T10:46:01.222714Z",
     "start_time": "2020-06-07T10:46:01.208751Z"
    }
   },
   "outputs": [
    {
     "data": {
      "text/html": [
       "<div>\n",
       "<style scoped>\n",
       "    .dataframe tbody tr th:only-of-type {\n",
       "        vertical-align: middle;\n",
       "    }\n",
       "\n",
       "    .dataframe tbody tr th {\n",
       "        vertical-align: top;\n",
       "    }\n",
       "\n",
       "    .dataframe thead th {\n",
       "        text-align: right;\n",
       "    }\n",
       "</style>\n",
       "<table border=\"1\" class=\"dataframe\">\n",
       "  <thead>\n",
       "    <tr style=\"text-align: right;\">\n",
       "      <th></th>\n",
       "      <th>phone_no_m</th>\n",
       "      <th>city_name</th>\n",
       "      <th>county_name</th>\n",
       "      <th>idcard_cnt</th>\n",
       "      <th>label</th>\n",
       "      <th>arpu_202004</th>\n",
       "    </tr>\n",
       "  </thead>\n",
       "  <tbody>\n",
       "    <tr>\n",
       "      <th>0</th>\n",
       "      <td>672ddbf02a5544d32e4ecc9433b1981bffe23bf912273a3a835f6cccb78b8ed7554e9ab0fbcd33d19eb6063ce00542dd223cc5cc83c68f07bcf933547b6776b1</td>\n",
       "      <td>绵阳</td>\n",
       "      <td>江油分公司</td>\n",
       "      <td>1</td>\n",
       "      <td>0</td>\n",
       "      <td>45.0</td>\n",
       "    </tr>\n",
       "    <tr>\n",
       "      <th>1</th>\n",
       "      <td>5e1272273e041e82cb275ae877710be98cdaf5b0a8f34de8d361f71d5268fa0851edffd3950e170df1e3846fcf90cc7cc8299be9139a2ac4b5c5e5121d832674</td>\n",
       "      <td>德阳</td>\n",
       "      <td>旌阳分公司</td>\n",
       "      <td>1</td>\n",
       "      <td>0</td>\n",
       "      <td>60.0</td>\n",
       "    </tr>\n",
       "    <tr>\n",
       "      <th>2</th>\n",
       "      <td>eaab3472ec87b076e69e6e8bb62b14341638fc63661a6c682d6add360a4332a8ad294d8470d64a73c6e53e8413f0ad93b9ea65afab717e58d312554f33553ee7</td>\n",
       "      <td>成都</td>\n",
       "      <td>金堂分公司</td>\n",
       "      <td>2</td>\n",
       "      <td>0</td>\n",
       "      <td>63.0</td>\n",
       "    </tr>\n",
       "    <tr>\n",
       "      <th>3</th>\n",
       "      <td>0ce1bb415704178bf44e9c9b431a39b083a132c8e6d99f3627cd4520064b93ec66a72d085a67f0f40eebb9f901072965073e398f04c4ae500a1db4dfb13a972c</td>\n",
       "      <td>成都</td>\n",
       "      <td>高新分公司</td>\n",
       "      <td>2</td>\n",
       "      <td>0</td>\n",
       "      <td>23.2</td>\n",
       "    </tr>\n",
       "    <tr>\n",
       "      <th>4</th>\n",
       "      <td>28b87f35f63f65096a53e3a4c97eaffd4a6c43ffa7e92d7706b20520aa11fff0f4ce06203f66758ec0f0e70780e4e258aae6aa1f23439e115528e08eda71ed20</td>\n",
       "      <td>德阳</td>\n",
       "      <td>旌阳分公司</td>\n",
       "      <td>1</td>\n",
       "      <td>0</td>\n",
       "      <td>50.0</td>\n",
       "    </tr>\n",
       "  </tbody>\n",
       "</table>\n",
       "</div>"
      ],
      "text/plain": [
       "                                                                                                                         phone_no_m  \\\n",
       "0  672ddbf02a5544d32e4ecc9433b1981bffe23bf912273a3a835f6cccb78b8ed7554e9ab0fbcd33d19eb6063ce00542dd223cc5cc83c68f07bcf933547b6776b1   \n",
       "1  5e1272273e041e82cb275ae877710be98cdaf5b0a8f34de8d361f71d5268fa0851edffd3950e170df1e3846fcf90cc7cc8299be9139a2ac4b5c5e5121d832674   \n",
       "2  eaab3472ec87b076e69e6e8bb62b14341638fc63661a6c682d6add360a4332a8ad294d8470d64a73c6e53e8413f0ad93b9ea65afab717e58d312554f33553ee7   \n",
       "3  0ce1bb415704178bf44e9c9b431a39b083a132c8e6d99f3627cd4520064b93ec66a72d085a67f0f40eebb9f901072965073e398f04c4ae500a1db4dfb13a972c   \n",
       "4  28b87f35f63f65096a53e3a4c97eaffd4a6c43ffa7e92d7706b20520aa11fff0f4ce06203f66758ec0f0e70780e4e258aae6aa1f23439e115528e08eda71ed20   \n",
       "\n",
       "  city_name county_name  idcard_cnt  label  arpu_202004  \n",
       "0        绵阳       江油分公司           1      0         45.0  \n",
       "1        德阳       旌阳分公司           1      0         60.0  \n",
       "2        成都       金堂分公司           2      0         63.0  \n",
       "3        成都       高新分公司           2      0         23.2  \n",
       "4        德阳       旌阳分公司           1      0         50.0  "
      ]
     },
     "execution_count": 8,
     "metadata": {},
     "output_type": "execute_result"
    }
   ],
   "source": [
    "# 训练集只取最后一个月的数据\n",
    "train_user['arpu_202004'] = train_user['arpu_202003']\n",
    "\n",
    "train_user.drop(['arpu_201908', 'arpu_201909', 'arpu_201910', 'arpu_201911',\n",
    "                 'arpu_201912', 'arpu_202001', 'arpu_202002', 'arpu_202003'],\n",
    "                axis=1,\n",
    "                inplace=True)\n",
    "train_user.head()"
   ]
  },
  {
   "cell_type": "code",
   "execution_count": 9,
   "metadata": {
    "ExecuteTime": {
     "end_time": "2020-06-07T10:46:01.239699Z",
     "start_time": "2020-06-07T10:46:01.224711Z"
    }
   },
   "outputs": [],
   "source": [
    "train_user['cents'] = (train_user['arpu_202004'] - np.floor(train_user['arpu_202004'])).astype('float32')\n",
    "test_user['cents'] = (test_user['arpu_202004'] - np.floor(test_user['arpu_202004'])).astype('float32')"
   ]
  },
  {
   "cell_type": "markdown",
   "metadata": {},
   "source": [
    "#### LabelEncoder"
   ]
  },
  {
   "cell_type": "code",
   "execution_count": 10,
   "metadata": {
    "ExecuteTime": {
     "end_time": "2020-06-07T10:46:01.267624Z",
     "start_time": "2020-06-07T10:46:01.240665Z"
    }
   },
   "outputs": [
    {
     "name": "stderr",
     "output_type": "stream",
     "text": [
      "100%|███████████████████████████████████████████████████████████████████████████████████| 2/2 [00:00<00:00, 222.78it/s]\n"
     ]
    },
    {
     "data": {
      "text/html": [
       "<div>\n",
       "<style scoped>\n",
       "    .dataframe tbody tr th:only-of-type {\n",
       "        vertical-align: middle;\n",
       "    }\n",
       "\n",
       "    .dataframe tbody tr th {\n",
       "        vertical-align: top;\n",
       "    }\n",
       "\n",
       "    .dataframe thead th {\n",
       "        text-align: right;\n",
       "    }\n",
       "</style>\n",
       "<table border=\"1\" class=\"dataframe\">\n",
       "  <thead>\n",
       "    <tr style=\"text-align: right;\">\n",
       "      <th></th>\n",
       "      <th>phone_no_m</th>\n",
       "      <th>city_name</th>\n",
       "      <th>county_name</th>\n",
       "      <th>idcard_cnt</th>\n",
       "      <th>label</th>\n",
       "      <th>arpu_202004</th>\n",
       "      <th>cents</th>\n",
       "    </tr>\n",
       "  </thead>\n",
       "  <tbody>\n",
       "    <tr>\n",
       "      <th>0</th>\n",
       "      <td>672ddbf02a5544d32e4ecc9433b1981bffe23bf912273a3a835f6cccb78b8ed7554e9ab0fbcd33d19eb6063ce00542dd223cc5cc83c68f07bcf933547b6776b1</td>\n",
       "      <td>16</td>\n",
       "      <td>97</td>\n",
       "      <td>1</td>\n",
       "      <td>0.0</td>\n",
       "      <td>45.0</td>\n",
       "      <td>0.0</td>\n",
       "    </tr>\n",
       "    <tr>\n",
       "      <th>1</th>\n",
       "      <td>5e1272273e041e82cb275ae877710be98cdaf5b0a8f34de8d361f71d5268fa0851edffd3950e170df1e3846fcf90cc7cc8299be9139a2ac4b5c5e5121d832674</td>\n",
       "      <td>10</td>\n",
       "      <td>82</td>\n",
       "      <td>1</td>\n",
       "      <td>0.0</td>\n",
       "      <td>60.0</td>\n",
       "      <td>0.0</td>\n",
       "    </tr>\n",
       "    <tr>\n",
       "      <th>2</th>\n",
       "      <td>eaab3472ec87b076e69e6e8bb62b14341638fc63661a6c682d6add360a4332a8ad294d8470d64a73c6e53e8413f0ad93b9ea65afab717e58d312554f33553ee7</td>\n",
       "      <td>11</td>\n",
       "      <td>160</td>\n",
       "      <td>2</td>\n",
       "      <td>0.0</td>\n",
       "      <td>63.0</td>\n",
       "      <td>0.0</td>\n",
       "    </tr>\n",
       "    <tr>\n",
       "      <th>3</th>\n",
       "      <td>0ce1bb415704178bf44e9c9b431a39b083a132c8e6d99f3627cd4520064b93ec66a72d085a67f0f40eebb9f901072965073e398f04c4ae500a1db4dfb13a972c</td>\n",
       "      <td>11</td>\n",
       "      <td>181</td>\n",
       "      <td>2</td>\n",
       "      <td>0.0</td>\n",
       "      <td>23.2</td>\n",
       "      <td>0.2</td>\n",
       "    </tr>\n",
       "    <tr>\n",
       "      <th>4</th>\n",
       "      <td>28b87f35f63f65096a53e3a4c97eaffd4a6c43ffa7e92d7706b20520aa11fff0f4ce06203f66758ec0f0e70780e4e258aae6aa1f23439e115528e08eda71ed20</td>\n",
       "      <td>10</td>\n",
       "      <td>82</td>\n",
       "      <td>1</td>\n",
       "      <td>0.0</td>\n",
       "      <td>50.0</td>\n",
       "      <td>0.0</td>\n",
       "    </tr>\n",
       "  </tbody>\n",
       "</table>\n",
       "</div>"
      ],
      "text/plain": [
       "                                                                                                                         phone_no_m  \\\n",
       "0  672ddbf02a5544d32e4ecc9433b1981bffe23bf912273a3a835f6cccb78b8ed7554e9ab0fbcd33d19eb6063ce00542dd223cc5cc83c68f07bcf933547b6776b1   \n",
       "1  5e1272273e041e82cb275ae877710be98cdaf5b0a8f34de8d361f71d5268fa0851edffd3950e170df1e3846fcf90cc7cc8299be9139a2ac4b5c5e5121d832674   \n",
       "2  eaab3472ec87b076e69e6e8bb62b14341638fc63661a6c682d6add360a4332a8ad294d8470d64a73c6e53e8413f0ad93b9ea65afab717e58d312554f33553ee7   \n",
       "3  0ce1bb415704178bf44e9c9b431a39b083a132c8e6d99f3627cd4520064b93ec66a72d085a67f0f40eebb9f901072965073e398f04c4ae500a1db4dfb13a972c   \n",
       "4  28b87f35f63f65096a53e3a4c97eaffd4a6c43ffa7e92d7706b20520aa11fff0f4ce06203f66758ec0f0e70780e4e258aae6aa1f23439e115528e08eda71ed20   \n",
       "\n",
       "   city_name  county_name  idcard_cnt  label  arpu_202004  cents  \n",
       "0         16           97           1    0.0         45.0    0.0  \n",
       "1         10           82           1    0.0         60.0    0.0  \n",
       "2         11          160           2    0.0         63.0    0.0  \n",
       "3         11          181           2    0.0         23.2    0.2  \n",
       "4         10           82           1    0.0         50.0    0.0  "
      ]
     },
     "execution_count": 10,
     "metadata": {},
     "output_type": "execute_result"
    }
   ],
   "source": [
    "lbl = LabelEncoder()\n",
    "\n",
    "df_user = pd.concat([train_user, test_user], axis=0, ignore_index=True)\n",
    "\n",
    "for f in tqdm(['city_name', 'county_name']):\n",
    "    df_user[f] = df_user[f].fillna('NA')\n",
    "    df_user[f] = lbl.fit_transform(df_user[f].astype(str))\n",
    "    \n",
    "df_user.head()"
   ]
  },
  {
   "cell_type": "markdown",
   "metadata": {},
   "source": [
    "### 通话表"
   ]
  },
  {
   "cell_type": "code",
   "execution_count": 11,
   "metadata": {
    "ExecuteTime": {
     "end_time": "2020-06-07T10:46:21.629308Z",
     "start_time": "2020-06-07T10:46:01.268591Z"
    }
   },
   "outputs": [],
   "source": [
    "train_voc = pd.read_csv('../input/train/train_voc.csv')\n",
    "test_voc = pd.read_csv('../input/test/test_voc.csv')\n",
    "\n",
    "train_voc['start_datetime'] = train_voc['start_datetime'].astype('datetime64')\n",
    "test_voc['start_datetime'] = test_voc['start_datetime'].astype('datetime64')"
   ]
  },
  {
   "cell_type": "code",
   "execution_count": 12,
   "metadata": {
    "ExecuteTime": {
     "end_time": "2020-06-07T10:46:21.642089Z",
     "start_time": "2020-06-07T10:46:21.630081Z"
    }
   },
   "outputs": [
    {
     "data": {
      "text/html": [
       "<div>\n",
       "<style scoped>\n",
       "    .dataframe tbody tr th:only-of-type {\n",
       "        vertical-align: middle;\n",
       "    }\n",
       "\n",
       "    .dataframe tbody tr th {\n",
       "        vertical-align: top;\n",
       "    }\n",
       "\n",
       "    .dataframe thead th {\n",
       "        text-align: right;\n",
       "    }\n",
       "</style>\n",
       "<table border=\"1\" class=\"dataframe\">\n",
       "  <thead>\n",
       "    <tr style=\"text-align: right;\">\n",
       "      <th></th>\n",
       "      <th>phone_no_m</th>\n",
       "      <th>opposite_no_m</th>\n",
       "      <th>calltype_id</th>\n",
       "      <th>start_datetime</th>\n",
       "      <th>call_dur</th>\n",
       "      <th>city_name</th>\n",
       "      <th>county_name</th>\n",
       "      <th>imei_m</th>\n",
       "    </tr>\n",
       "  </thead>\n",
       "  <tbody>\n",
       "    <tr>\n",
       "      <th>0</th>\n",
       "      <td>3b6bef554a4754fa9977b50d99e6777c9fb26e585961a453bab3a2eba9f25eb510376bb89a345fb1a073e3a99da296d0f3c40aec8d0b4efd159eae4acb46f3c8</td>\n",
       "      <td>3572f19c52faeea5111ddd79dfc3643171d00e6d8b3fd9d6d04701a1873702a50004019f70d8a4c766d24e7768d356f6420ca28e27a7b0343f0acf3116655a58</td>\n",
       "      <td>2</td>\n",
       "      <td>2019-10-17 17:16:25</td>\n",
       "      <td>13</td>\n",
       "      <td>NaN</td>\n",
       "      <td>NaN</td>\n",
       "      <td>d2940d7cde5092d809af2e4bb8f6936a405382bd541542c5ccbb9d577d7d340ea032cca1174d33cca05393fbfd45fc0715198781d726679a09db74dac778c9c5</td>\n",
       "    </tr>\n",
       "    <tr>\n",
       "      <th>1</th>\n",
       "      <td>3b6bef554a4754fa9977b50d99e6777c9fb26e585961a453bab3a2eba9f25eb510376bb89a345fb1a073e3a99da296d0f3c40aec8d0b4efd159eae4acb46f3c8</td>\n",
       "      <td>3572f19c52faeea5111ddd79dfc3643171d00e6d8b3fd9d6d04701a1873702a50004019f70d8a4c766d24e7768d356f6420ca28e27a7b0343f0acf3116655a58</td>\n",
       "      <td>2</td>\n",
       "      <td>2019-10-17 17:36:20</td>\n",
       "      <td>16</td>\n",
       "      <td>NaN</td>\n",
       "      <td>NaN</td>\n",
       "      <td>d2940d7cde5092d809af2e4bb8f6936a405382bd541542c5ccbb9d577d7d340ea032cca1174d33cca05393fbfd45fc0715198781d726679a09db74dac778c9c5</td>\n",
       "    </tr>\n",
       "    <tr>\n",
       "      <th>2</th>\n",
       "      <td>ecd1b3f5a38576ef9872d1cb7a762f31869153de736e7aa43742ebd2ce6ffac1e6be304c79819a8f3770c1546b11f779be225ff0d0a18eb02f29ca4ef2c964ce</td>\n",
       "      <td>c386d11d5203136e924e070afcac734cdaea6691472e841fe981d839abdb7c9ad794024c7c484b86d5cf5553a1531079a1a3e3ec1e932cea62293d0d04eb13b7</td>\n",
       "      <td>1</td>\n",
       "      <td>2019-08-28 09:46:50</td>\n",
       "      <td>18</td>\n",
       "      <td>NaN</td>\n",
       "      <td>NaN</td>\n",
       "      <td>071e8dcb4010c643c48339cb8abf4a69e03b37afade98ded48ae19b2dafe965f5b28299131441a068b066588492389a3e66c3105f3cd5ab8c3eefff0015373f5</td>\n",
       "    </tr>\n",
       "    <tr>\n",
       "      <th>3</th>\n",
       "      <td>41a97bdfe77f3210deba78689baecb110922878be2f14c2b17416d04da12fe75fe3ecd80de2be43f5f2615557640e588d08b81d504d73f25aa7a40726d3acf4d</td>\n",
       "      <td>79ef199a532bcb9a89990d0996cee3d40557f06b9e5265fee8357eaca7735ec4ed65670d446c09482c535bd4eb1e3e07c5bd49704e49b50958b2e54c34f29a7b</td>\n",
       "      <td>1</td>\n",
       "      <td>2019-09-18 16:19:20</td>\n",
       "      <td>34</td>\n",
       "      <td>NaN</td>\n",
       "      <td>NaN</td>\n",
       "      <td>5f054945a5037e688abe0ef36d88a0fd351d476e3320c22cb3da7692d4ba4ba3e7752253ef74c6af1763089b830687d06535dfc6ba4f411196889364868425af</td>\n",
       "    </tr>\n",
       "    <tr>\n",
       "      <th>4</th>\n",
       "      <td>41a97bdfe77f3210deba78689baecb110922878be2f14c2b17416d04da12fe75fe3ecd80de2be43f5f2615557640e588d08b81d504d73f25aa7a40726d3acf4d</td>\n",
       "      <td>e273542129cf7fa37c28d3f4c95b7b9e8bcb561bbabc50063a1a5a1fd133a14f62f8a59649e5dffacccdb661300a7ef5aaea710b8a1155c4904647d9d5877e49</td>\n",
       "      <td>2</td>\n",
       "      <td>2019-09-18 16:18:46</td>\n",
       "      <td>23</td>\n",
       "      <td>NaN</td>\n",
       "      <td>NaN</td>\n",
       "      <td>5f054945a5037e688abe0ef36d88a0fd351d476e3320c22cb3da7692d4ba4ba3e7752253ef74c6af1763089b830687d06535dfc6ba4f411196889364868425af</td>\n",
       "    </tr>\n",
       "  </tbody>\n",
       "</table>\n",
       "</div>"
      ],
      "text/plain": [
       "                                                                                                                         phone_no_m  \\\n",
       "0  3b6bef554a4754fa9977b50d99e6777c9fb26e585961a453bab3a2eba9f25eb510376bb89a345fb1a073e3a99da296d0f3c40aec8d0b4efd159eae4acb46f3c8   \n",
       "1  3b6bef554a4754fa9977b50d99e6777c9fb26e585961a453bab3a2eba9f25eb510376bb89a345fb1a073e3a99da296d0f3c40aec8d0b4efd159eae4acb46f3c8   \n",
       "2  ecd1b3f5a38576ef9872d1cb7a762f31869153de736e7aa43742ebd2ce6ffac1e6be304c79819a8f3770c1546b11f779be225ff0d0a18eb02f29ca4ef2c964ce   \n",
       "3  41a97bdfe77f3210deba78689baecb110922878be2f14c2b17416d04da12fe75fe3ecd80de2be43f5f2615557640e588d08b81d504d73f25aa7a40726d3acf4d   \n",
       "4  41a97bdfe77f3210deba78689baecb110922878be2f14c2b17416d04da12fe75fe3ecd80de2be43f5f2615557640e588d08b81d504d73f25aa7a40726d3acf4d   \n",
       "\n",
       "                                                                                                                      opposite_no_m  \\\n",
       "0  3572f19c52faeea5111ddd79dfc3643171d00e6d8b3fd9d6d04701a1873702a50004019f70d8a4c766d24e7768d356f6420ca28e27a7b0343f0acf3116655a58   \n",
       "1  3572f19c52faeea5111ddd79dfc3643171d00e6d8b3fd9d6d04701a1873702a50004019f70d8a4c766d24e7768d356f6420ca28e27a7b0343f0acf3116655a58   \n",
       "2  c386d11d5203136e924e070afcac734cdaea6691472e841fe981d839abdb7c9ad794024c7c484b86d5cf5553a1531079a1a3e3ec1e932cea62293d0d04eb13b7   \n",
       "3  79ef199a532bcb9a89990d0996cee3d40557f06b9e5265fee8357eaca7735ec4ed65670d446c09482c535bd4eb1e3e07c5bd49704e49b50958b2e54c34f29a7b   \n",
       "4  e273542129cf7fa37c28d3f4c95b7b9e8bcb561bbabc50063a1a5a1fd133a14f62f8a59649e5dffacccdb661300a7ef5aaea710b8a1155c4904647d9d5877e49   \n",
       "\n",
       "   calltype_id      start_datetime  call_dur city_name county_name  \\\n",
       "0            2 2019-10-17 17:16:25        13       NaN         NaN   \n",
       "1            2 2019-10-17 17:36:20        16       NaN         NaN   \n",
       "2            1 2019-08-28 09:46:50        18       NaN         NaN   \n",
       "3            1 2019-09-18 16:19:20        34       NaN         NaN   \n",
       "4            2 2019-09-18 16:18:46        23       NaN         NaN   \n",
       "\n",
       "                                                                                                                             imei_m  \n",
       "0  d2940d7cde5092d809af2e4bb8f6936a405382bd541542c5ccbb9d577d7d340ea032cca1174d33cca05393fbfd45fc0715198781d726679a09db74dac778c9c5  \n",
       "1  d2940d7cde5092d809af2e4bb8f6936a405382bd541542c5ccbb9d577d7d340ea032cca1174d33cca05393fbfd45fc0715198781d726679a09db74dac778c9c5  \n",
       "2  071e8dcb4010c643c48339cb8abf4a69e03b37afade98ded48ae19b2dafe965f5b28299131441a068b066588492389a3e66c3105f3cd5ab8c3eefff0015373f5  \n",
       "3  5f054945a5037e688abe0ef36d88a0fd351d476e3320c22cb3da7692d4ba4ba3e7752253ef74c6af1763089b830687d06535dfc6ba4f411196889364868425af  \n",
       "4  5f054945a5037e688abe0ef36d88a0fd351d476e3320c22cb3da7692d4ba4ba3e7752253ef74c6af1763089b830687d06535dfc6ba4f411196889364868425af  "
      ]
     },
     "execution_count": 12,
     "metadata": {},
     "output_type": "execute_result"
    }
   ],
   "source": [
    "train_voc.head()"
   ]
  },
  {
   "cell_type": "code",
   "execution_count": 13,
   "metadata": {
    "ExecuteTime": {
     "end_time": "2020-06-07T10:46:21.935330Z",
     "start_time": "2020-06-07T10:46:21.643272Z"
    }
   },
   "outputs": [],
   "source": [
    "# 同样只取最后一个月的数据\n",
    "\n",
    "train_voc = train_voc[train_voc['start_datetime'] >= '2020-03-01 00:00:00']\n",
    "train_voc = train_voc.reset_index(drop=True)\n",
    "\n",
    "df_voc = pd.concat([train_voc, test_voc])"
   ]
  },
  {
   "cell_type": "code",
   "execution_count": 14,
   "metadata": {
    "ExecuteTime": {
     "end_time": "2020-06-07T10:46:22.071947Z",
     "start_time": "2020-06-07T10:46:21.936030Z"
    }
   },
   "outputs": [],
   "source": [
    "# 时间切割\n",
    "\n",
    "df_voc['voc_day'] = df_voc['start_datetime'].dt.day\n",
    "df_voc['voc_hour'] = df_voc['start_datetime'].dt.hour\n",
    "# df_voc['voc_ts'] = pd.to_timedelta(df_voc['start_datetime'], unit='ns').dt.total_seconds().astype(int)\n",
    "\n",
    "# df_voc = df_voc.sort_values(by='voc_ts').reset_index(drop=True)"
   ]
  },
  {
   "cell_type": "code",
   "execution_count": 15,
   "metadata": {
    "ExecuteTime": {
     "end_time": "2020-06-07T10:46:23.793105Z",
     "start_time": "2020-06-07T10:46:22.072654Z"
    }
   },
   "outputs": [],
   "source": [
    "# 一天内通话统计量\n",
    "\n",
    "df_voc['voc_day_count'] = df_voc.groupby(['phone_no_m', 'voc_day'])['phone_no_m'].transform('count')\n",
    "df_voc['voc_day_count_max'] = df_voc.groupby('phone_no_m')['voc_day_count'].transform('max')\n",
    "df_voc['voc_day_count_min'] = df_voc.groupby('phone_no_m')['voc_day_count'].transform('min')\n",
    "df_voc['voc_day_count_mean'] = df_voc.groupby('phone_no_m')['voc_day_count'].transform('mean')\n",
    "df_voc['voc_day_count_std'] = df_voc.groupby('phone_no_m')['voc_day_count'].transform('std')\n",
    "\n",
    "del df_voc['voc_day_count']"
   ]
  },
  {
   "cell_type": "code",
   "execution_count": 16,
   "metadata": {
    "ExecuteTime": {
     "end_time": "2020-06-07T10:46:25.517706Z",
     "start_time": "2020-06-07T10:46:23.794068Z"
    }
   },
   "outputs": [],
   "source": [
    "# 一小时内通话统计量\n",
    "\n",
    "df_voc['voc_hour_count'] = df_voc.groupby(['phone_no_m', 'voc_hour'])['phone_no_m'].transform('count')\n",
    "df_voc['voc_hour_count_max'] = df_voc.groupby('phone_no_m')['voc_hour_count'].transform('max')\n",
    "df_voc['voc_hour_count_min'] = df_voc.groupby('phone_no_m')['voc_hour_count'].transform('min')\n",
    "df_voc['voc_hour_count_mean'] = df_voc.groupby('phone_no_m')['voc_hour_count'].transform('mean')\n",
    "df_voc['voc_hour_count_std'] = df_voc.groupby('phone_no_m')['voc_hour_count'].transform('std')\n",
    "\n",
    "del df_voc['voc_hour_count']"
   ]
  },
  {
   "cell_type": "code",
   "execution_count": 17,
   "metadata": {
    "ExecuteTime": {
     "end_time": "2020-06-07T10:46:25.848090Z",
     "start_time": "2020-06-07T10:46:25.518630Z"
    }
   },
   "outputs": [],
   "source": [
    "# 总量\n",
    "\n",
    "df_voc['voc_count'] = df_voc.groupby('phone_no_m')['phone_no_m'].transform('count')"
   ]
  },
  {
   "cell_type": "code",
   "execution_count": 18,
   "metadata": {
    "ExecuteTime": {
     "end_time": "2020-06-07T10:46:25.868168Z",
     "start_time": "2020-06-07T10:46:25.850660Z"
    }
   },
   "outputs": [
    {
     "data": {
      "text/html": [
       "<div>\n",
       "<style scoped>\n",
       "    .dataframe tbody tr th:only-of-type {\n",
       "        vertical-align: middle;\n",
       "    }\n",
       "\n",
       "    .dataframe tbody tr th {\n",
       "        vertical-align: top;\n",
       "    }\n",
       "\n",
       "    .dataframe thead th {\n",
       "        text-align: right;\n",
       "    }\n",
       "</style>\n",
       "<table border=\"1\" class=\"dataframe\">\n",
       "  <thead>\n",
       "    <tr style=\"text-align: right;\">\n",
       "      <th></th>\n",
       "      <th>phone_no_m</th>\n",
       "      <th>opposite_no_m</th>\n",
       "      <th>calltype_id</th>\n",
       "      <th>start_datetime</th>\n",
       "      <th>call_dur</th>\n",
       "      <th>city_name</th>\n",
       "      <th>county_name</th>\n",
       "      <th>imei_m</th>\n",
       "      <th>voc_day</th>\n",
       "      <th>voc_hour</th>\n",
       "      <th>voc_day_count_max</th>\n",
       "      <th>voc_day_count_min</th>\n",
       "      <th>voc_day_count_mean</th>\n",
       "      <th>voc_day_count_std</th>\n",
       "      <th>voc_hour_count_max</th>\n",
       "      <th>voc_hour_count_min</th>\n",
       "      <th>voc_hour_count_mean</th>\n",
       "      <th>voc_hour_count_std</th>\n",
       "      <th>voc_count</th>\n",
       "    </tr>\n",
       "  </thead>\n",
       "  <tbody>\n",
       "    <tr>\n",
       "      <th>0</th>\n",
       "      <td>b3994b4c46e39954cfe0cb8ebd2a79703a2ace6612fa18241509e8b2dfe9d75f503823b6df2d10180a9033ccd22390aaeda397037ca4cd26604d6db6e3470874</td>\n",
       "      <td>1b01124a6ad0443ad868757c6594a605a0c5179c2b5b57071d5cec8cd8c4c89d7598587f953f08887965b42d2e465d08388c5465fe43b67f1e9ca5509c5529f2</td>\n",
       "      <td>1</td>\n",
       "      <td>2020-03-22 21:38:40</td>\n",
       "      <td>175</td>\n",
       "      <td>NaN</td>\n",
       "      <td>NaN</td>\n",
       "      <td>90ba61111dad175330029e10da8264a86dfdb3a281ccb8556eca87a6f1af32e1d5ff4db4a7d4b11f760e4866de974933f247c4c389073f28634229889bfe18bf</td>\n",
       "      <td>22</td>\n",
       "      <td>21</td>\n",
       "      <td>9</td>\n",
       "      <td>1</td>\n",
       "      <td>6.248000</td>\n",
       "      <td>2.415194</td>\n",
       "      <td>14</td>\n",
       "      <td>1</td>\n",
       "      <td>8.728000</td>\n",
       "      <td>3.216329</td>\n",
       "      <td>125</td>\n",
       "    </tr>\n",
       "    <tr>\n",
       "      <th>1</th>\n",
       "      <td>b3994b4c46e39954cfe0cb8ebd2a79703a2ace6612fa18241509e8b2dfe9d75f503823b6df2d10180a9033ccd22390aaeda397037ca4cd26604d6db6e3470874</td>\n",
       "      <td>1b01124a6ad0443ad868757c6594a605a0c5179c2b5b57071d5cec8cd8c4c89d7598587f953f08887965b42d2e465d08388c5465fe43b67f1e9ca5509c5529f2</td>\n",
       "      <td>1</td>\n",
       "      <td>2020-03-23 18:05:41</td>\n",
       "      <td>33</td>\n",
       "      <td>NaN</td>\n",
       "      <td>NaN</td>\n",
       "      <td>90ba61111dad175330029e10da8264a86dfdb3a281ccb8556eca87a6f1af32e1d5ff4db4a7d4b11f760e4866de974933f247c4c389073f28634229889bfe18bf</td>\n",
       "      <td>23</td>\n",
       "      <td>18</td>\n",
       "      <td>9</td>\n",
       "      <td>1</td>\n",
       "      <td>6.248000</td>\n",
       "      <td>2.415194</td>\n",
       "      <td>14</td>\n",
       "      <td>1</td>\n",
       "      <td>8.728000</td>\n",
       "      <td>3.216329</td>\n",
       "      <td>125</td>\n",
       "    </tr>\n",
       "    <tr>\n",
       "      <th>2</th>\n",
       "      <td>c5502a6d3e4cabaf8c0e298c4aac693b6e80835d50d4e4f393d8426bd49c0d4d00c3959d2a2c8341410e57af28bee6dc5c80dbad7cf147018ec0ece7bfa0cf5f</td>\n",
       "      <td>f1b73c46a691c068bfd38253e20e882d4993c8d3e58016aeed804a8cdbf54542112e529ebf7fdd0e62cf3556571fb17b865d8c3d57c42be851d75c90f4df4603</td>\n",
       "      <td>1</td>\n",
       "      <td>2020-03-01 11:24:37</td>\n",
       "      <td>39</td>\n",
       "      <td>NaN</td>\n",
       "      <td>NaN</td>\n",
       "      <td>e1e1149b2c06e9972293c457293abb32ad05b0c82b3b64c3786896b0414c897b60a539329ce3b7df83ebee19ad20fee3971303edd776a593578f03d16ee8981a</td>\n",
       "      <td>1</td>\n",
       "      <td>11</td>\n",
       "      <td>5</td>\n",
       "      <td>1</td>\n",
       "      <td>2.500000</td>\n",
       "      <td>1.638356</td>\n",
       "      <td>5</td>\n",
       "      <td>1</td>\n",
       "      <td>2.800000</td>\n",
       "      <td>1.399248</td>\n",
       "      <td>20</td>\n",
       "    </tr>\n",
       "    <tr>\n",
       "      <th>3</th>\n",
       "      <td>c5502a6d3e4cabaf8c0e298c4aac693b6e80835d50d4e4f393d8426bd49c0d4d00c3959d2a2c8341410e57af28bee6dc5c80dbad7cf147018ec0ece7bfa0cf5f</td>\n",
       "      <td>5bc6d97a3017578edfa7979fa43653cd74bad827f18337c8c84728f79778939b6f939ea3aa2661907f2e79bcf70feb93adb79c3f7d4a934368c459d9b6aeb54e</td>\n",
       "      <td>1</td>\n",
       "      <td>2020-03-01 11:23:44</td>\n",
       "      <td>32</td>\n",
       "      <td>NaN</td>\n",
       "      <td>NaN</td>\n",
       "      <td>e1e1149b2c06e9972293c457293abb32ad05b0c82b3b64c3786896b0414c897b60a539329ce3b7df83ebee19ad20fee3971303edd776a593578f03d16ee8981a</td>\n",
       "      <td>1</td>\n",
       "      <td>11</td>\n",
       "      <td>5</td>\n",
       "      <td>1</td>\n",
       "      <td>2.500000</td>\n",
       "      <td>1.638356</td>\n",
       "      <td>5</td>\n",
       "      <td>1</td>\n",
       "      <td>2.800000</td>\n",
       "      <td>1.399248</td>\n",
       "      <td>20</td>\n",
       "    </tr>\n",
       "    <tr>\n",
       "      <th>4</th>\n",
       "      <td>2bdbc0a45d6228970b353d691e2ec229f0cf60790a1a39d5e01c0175b5e20cd2ca7d39aff8506741884fd7a4cd4fd9fdec5112ddb764d81c2983752c989f1078</td>\n",
       "      <td>c42eeddeff98feb87860441ea6548f8bda2a080c935e02c7a6ae30223cf37dfc2d16760224c79b93ea44a6d3fd77139e03a20f47608b9455372a96cb026f239e</td>\n",
       "      <td>2</td>\n",
       "      <td>2020-03-03 15:34:21</td>\n",
       "      <td>3</td>\n",
       "      <td>NaN</td>\n",
       "      <td>NaN</td>\n",
       "      <td>3e808a14fa2aa61524c70f262539d1c8532b8e3a8c7c87c863b3f8420750f1bf4a63aa900aef09620c1fae1a6a7fadf1f42e30477e24336fc5c2a8fae9b5de6e</td>\n",
       "      <td>3</td>\n",
       "      <td>15</td>\n",
       "      <td>10</td>\n",
       "      <td>1</td>\n",
       "      <td>5.051282</td>\n",
       "      <td>2.997390</td>\n",
       "      <td>12</td>\n",
       "      <td>1</td>\n",
       "      <td>6.820513</td>\n",
       "      <td>2.996724</td>\n",
       "      <td>78</td>\n",
       "    </tr>\n",
       "  </tbody>\n",
       "</table>\n",
       "</div>"
      ],
      "text/plain": [
       "                                                                                                                         phone_no_m  \\\n",
       "0  b3994b4c46e39954cfe0cb8ebd2a79703a2ace6612fa18241509e8b2dfe9d75f503823b6df2d10180a9033ccd22390aaeda397037ca4cd26604d6db6e3470874   \n",
       "1  b3994b4c46e39954cfe0cb8ebd2a79703a2ace6612fa18241509e8b2dfe9d75f503823b6df2d10180a9033ccd22390aaeda397037ca4cd26604d6db6e3470874   \n",
       "2  c5502a6d3e4cabaf8c0e298c4aac693b6e80835d50d4e4f393d8426bd49c0d4d00c3959d2a2c8341410e57af28bee6dc5c80dbad7cf147018ec0ece7bfa0cf5f   \n",
       "3  c5502a6d3e4cabaf8c0e298c4aac693b6e80835d50d4e4f393d8426bd49c0d4d00c3959d2a2c8341410e57af28bee6dc5c80dbad7cf147018ec0ece7bfa0cf5f   \n",
       "4  2bdbc0a45d6228970b353d691e2ec229f0cf60790a1a39d5e01c0175b5e20cd2ca7d39aff8506741884fd7a4cd4fd9fdec5112ddb764d81c2983752c989f1078   \n",
       "\n",
       "                                                                                                                      opposite_no_m  \\\n",
       "0  1b01124a6ad0443ad868757c6594a605a0c5179c2b5b57071d5cec8cd8c4c89d7598587f953f08887965b42d2e465d08388c5465fe43b67f1e9ca5509c5529f2   \n",
       "1  1b01124a6ad0443ad868757c6594a605a0c5179c2b5b57071d5cec8cd8c4c89d7598587f953f08887965b42d2e465d08388c5465fe43b67f1e9ca5509c5529f2   \n",
       "2  f1b73c46a691c068bfd38253e20e882d4993c8d3e58016aeed804a8cdbf54542112e529ebf7fdd0e62cf3556571fb17b865d8c3d57c42be851d75c90f4df4603   \n",
       "3  5bc6d97a3017578edfa7979fa43653cd74bad827f18337c8c84728f79778939b6f939ea3aa2661907f2e79bcf70feb93adb79c3f7d4a934368c459d9b6aeb54e   \n",
       "4  c42eeddeff98feb87860441ea6548f8bda2a080c935e02c7a6ae30223cf37dfc2d16760224c79b93ea44a6d3fd77139e03a20f47608b9455372a96cb026f239e   \n",
       "\n",
       "   calltype_id      start_datetime  call_dur city_name county_name  \\\n",
       "0            1 2020-03-22 21:38:40       175       NaN         NaN   \n",
       "1            1 2020-03-23 18:05:41        33       NaN         NaN   \n",
       "2            1 2020-03-01 11:24:37        39       NaN         NaN   \n",
       "3            1 2020-03-01 11:23:44        32       NaN         NaN   \n",
       "4            2 2020-03-03 15:34:21         3       NaN         NaN   \n",
       "\n",
       "                                                                                                                             imei_m  \\\n",
       "0  90ba61111dad175330029e10da8264a86dfdb3a281ccb8556eca87a6f1af32e1d5ff4db4a7d4b11f760e4866de974933f247c4c389073f28634229889bfe18bf   \n",
       "1  90ba61111dad175330029e10da8264a86dfdb3a281ccb8556eca87a6f1af32e1d5ff4db4a7d4b11f760e4866de974933f247c4c389073f28634229889bfe18bf   \n",
       "2  e1e1149b2c06e9972293c457293abb32ad05b0c82b3b64c3786896b0414c897b60a539329ce3b7df83ebee19ad20fee3971303edd776a593578f03d16ee8981a   \n",
       "3  e1e1149b2c06e9972293c457293abb32ad05b0c82b3b64c3786896b0414c897b60a539329ce3b7df83ebee19ad20fee3971303edd776a593578f03d16ee8981a   \n",
       "4  3e808a14fa2aa61524c70f262539d1c8532b8e3a8c7c87c863b3f8420750f1bf4a63aa900aef09620c1fae1a6a7fadf1f42e30477e24336fc5c2a8fae9b5de6e   \n",
       "\n",
       "   voc_day  voc_hour  voc_day_count_max  voc_day_count_min  \\\n",
       "0       22        21                  9                  1   \n",
       "1       23        18                  9                  1   \n",
       "2        1        11                  5                  1   \n",
       "3        1        11                  5                  1   \n",
       "4        3        15                 10                  1   \n",
       "\n",
       "   voc_day_count_mean  voc_day_count_std  voc_hour_count_max  \\\n",
       "0            6.248000           2.415194                  14   \n",
       "1            6.248000           2.415194                  14   \n",
       "2            2.500000           1.638356                   5   \n",
       "3            2.500000           1.638356                   5   \n",
       "4            5.051282           2.997390                  12   \n",
       "\n",
       "   voc_hour_count_min  voc_hour_count_mean  voc_hour_count_std  voc_count  \n",
       "0                   1             8.728000            3.216329        125  \n",
       "1                   1             8.728000            3.216329        125  \n",
       "2                   1             2.800000            1.399248         20  \n",
       "3                   1             2.800000            1.399248         20  \n",
       "4                   1             6.820513            2.996724         78  "
      ]
     },
     "execution_count": 18,
     "metadata": {},
     "output_type": "execute_result"
    }
   ],
   "source": [
    "df_voc.head()"
   ]
  },
  {
   "cell_type": "markdown",
   "metadata": {},
   "source": [
    "### 短信表"
   ]
  },
  {
   "cell_type": "code",
   "execution_count": 19,
   "metadata": {
    "ExecuteTime": {
     "end_time": "2020-06-07T10:46:47.705125Z",
     "start_time": "2020-06-07T10:46:25.870163Z"
    }
   },
   "outputs": [],
   "source": [
    "train_sms = pd.read_csv('../input/train/train_sms.csv')\n",
    "test_sms = pd.read_csv('../input/test/test_sms.csv')\n",
    "\n",
    "train_sms['request_datetime'] = train_sms['request_datetime'].astype('datetime64')\n",
    "test_sms['request_datetime'] = test_sms['request_datetime'].astype('datetime64')"
   ]
  },
  {
   "cell_type": "code",
   "execution_count": 20,
   "metadata": {
    "ExecuteTime": {
     "end_time": "2020-06-07T10:46:47.931054Z",
     "start_time": "2020-06-07T10:46:47.706072Z"
    }
   },
   "outputs": [],
   "source": [
    "# 同样只取最后一个月的数据\n",
    "\n",
    "train_sms = train_sms[train_sms['request_datetime'] >= '2020-03-01 00:00:00']\n",
    "train_sms = train_sms.reset_index(drop=True)\n",
    "\n",
    "df_sms = pd.concat([train_sms, test_sms])"
   ]
  },
  {
   "cell_type": "code",
   "execution_count": 21,
   "metadata": {
    "ExecuteTime": {
     "end_time": "2020-06-07T10:46:48.113580Z",
     "start_time": "2020-06-07T10:46:47.932054Z"
    }
   },
   "outputs": [],
   "source": [
    "# 时间切割\n",
    "\n",
    "df_sms['sms_day'] = df_sms['request_datetime'].dt.day\n",
    "df_sms['sms_hour'] = df_sms['request_datetime'].dt.hour\n",
    "# df_sms['sms_ts'] = pd.to_timedelta(df_sms['request_datetime'], unit='ns').dt.total_seconds().astype(int)\n",
    "\n",
    "# df_sms = df_sms.sort_values(by='sms_ts').reset_index(drop=True)"
   ]
  },
  {
   "cell_type": "code",
   "execution_count": 22,
   "metadata": {
    "ExecuteTime": {
     "end_time": "2020-06-07T10:46:50.223973Z",
     "start_time": "2020-06-07T10:46:48.115574Z"
    }
   },
   "outputs": [],
   "source": [
    "# 一天内短信统计量\n",
    "\n",
    "df_sms['sms_day_count'] = df_sms.groupby(['phone_no_m', 'sms_day'])['phone_no_m'].transform('count')\n",
    "df_sms['sms_day_count_max'] = df_sms.groupby('phone_no_m')['sms_day_count'].transform('max')\n",
    "df_sms['sms_day_count_min'] = df_sms.groupby('phone_no_m')['sms_day_count'].transform('min')\n",
    "df_sms['sms_day_count_mean'] = df_sms.groupby('phone_no_m')['sms_day_count'].transform('mean')\n",
    "df_sms['sms_day_count_std'] = df_sms.groupby('phone_no_m')['sms_day_count'].transform('std')\n",
    "\n",
    "del df_sms['sms_day_count']"
   ]
  },
  {
   "cell_type": "code",
   "execution_count": 23,
   "metadata": {
    "ExecuteTime": {
     "end_time": "2020-06-07T10:46:52.430069Z",
     "start_time": "2020-06-07T10:46:50.224935Z"
    }
   },
   "outputs": [],
   "source": [
    "# 一小时内短信统计量\n",
    "\n",
    "df_sms['sms_hour_count'] = df_sms.groupby(['phone_no_m', 'sms_hour'])['phone_no_m'].transform('count')\n",
    "df_sms['sms_hour_count_max'] = df_sms.groupby('phone_no_m')['sms_hour_count'].transform('max')\n",
    "df_sms['sms_hour_count_min'] = df_sms.groupby('phone_no_m')['sms_hour_count'].transform('min')\n",
    "df_sms['sms_hour_count_mean'] = df_sms.groupby('phone_no_m')['sms_hour_count'].transform('mean')\n",
    "df_sms['sms_hour_count_std'] = df_sms.groupby('phone_no_m')['sms_hour_count'].transform('std')\n",
    "\n",
    "del df_sms['sms_hour_count']"
   ]
  },
  {
   "cell_type": "code",
   "execution_count": 24,
   "metadata": {
    "ExecuteTime": {
     "end_time": "2020-06-07T10:46:52.869460Z",
     "start_time": "2020-06-07T10:46:52.431067Z"
    }
   },
   "outputs": [],
   "source": [
    "# 总量\n",
    "\n",
    "df_sms['sms_count'] = df_sms.groupby('phone_no_m')['phone_no_m'].transform('count')"
   ]
  },
  {
   "cell_type": "code",
   "execution_count": 25,
   "metadata": {
    "ExecuteTime": {
     "end_time": "2020-06-07T10:46:52.887112Z",
     "start_time": "2020-06-07T10:46:52.871130Z"
    }
   },
   "outputs": [
    {
     "data": {
      "text/html": [
       "<div>\n",
       "<style scoped>\n",
       "    .dataframe tbody tr th:only-of-type {\n",
       "        vertical-align: middle;\n",
       "    }\n",
       "\n",
       "    .dataframe tbody tr th {\n",
       "        vertical-align: top;\n",
       "    }\n",
       "\n",
       "    .dataframe thead th {\n",
       "        text-align: right;\n",
       "    }\n",
       "</style>\n",
       "<table border=\"1\" class=\"dataframe\">\n",
       "  <thead>\n",
       "    <tr style=\"text-align: right;\">\n",
       "      <th></th>\n",
       "      <th>phone_no_m</th>\n",
       "      <th>opposite_no_m</th>\n",
       "      <th>calltype_id</th>\n",
       "      <th>request_datetime</th>\n",
       "      <th>sms_day</th>\n",
       "      <th>sms_hour</th>\n",
       "      <th>sms_day_count_max</th>\n",
       "      <th>sms_day_count_min</th>\n",
       "      <th>sms_day_count_mean</th>\n",
       "      <th>sms_day_count_std</th>\n",
       "      <th>sms_hour_count_max</th>\n",
       "      <th>sms_hour_count_min</th>\n",
       "      <th>sms_hour_count_mean</th>\n",
       "      <th>sms_hour_count_std</th>\n",
       "      <th>sms_count</th>\n",
       "    </tr>\n",
       "  </thead>\n",
       "  <tbody>\n",
       "    <tr>\n",
       "      <th>0</th>\n",
       "      <td>3c4adabd6c1eb2774054cdc67e8d1df09f89f4fd0b44fa0dfdb973c61688d8eb527ca71cd08d9006085c4d4888d4f9427210b4b5787dbe3d579550c3cd22aeeb</td>\n",
       "      <td>df22edbc0e3dd6bc4f2f453e687b743e8442a54834b64f06ee093a91c4a41385d46579107a443eee3ec0ce2339bcea4152a996ca8cf0b2cc846eb2acc9cc241b</td>\n",
       "      <td>2</td>\n",
       "      <td>2020-03-01 10:19:12</td>\n",
       "      <td>1</td>\n",
       "      <td>10</td>\n",
       "      <td>7</td>\n",
       "      <td>1</td>\n",
       "      <td>3.50000</td>\n",
       "      <td>1.708801</td>\n",
       "      <td>16</td>\n",
       "      <td>1</td>\n",
       "      <td>9.763158</td>\n",
       "      <td>4.743749</td>\n",
       "      <td>76</td>\n",
       "    </tr>\n",
       "    <tr>\n",
       "      <th>1</th>\n",
       "      <td>3c4adabd6c1eb2774054cdc67e8d1df09f89f4fd0b44fa0dfdb973c61688d8eb527ca71cd08d9006085c4d4888d4f9427210b4b5787dbe3d579550c3cd22aeeb</td>\n",
       "      <td>df22edbc0e3dd6bc4f2f453e687b743e8442a54834b64f06ee093a91c4a41385d46579107a443eee3ec0ce2339bcea4152a996ca8cf0b2cc846eb2acc9cc241b</td>\n",
       "      <td>2</td>\n",
       "      <td>2020-03-01 10:19:12</td>\n",
       "      <td>1</td>\n",
       "      <td>10</td>\n",
       "      <td>7</td>\n",
       "      <td>1</td>\n",
       "      <td>3.50000</td>\n",
       "      <td>1.708801</td>\n",
       "      <td>16</td>\n",
       "      <td>1</td>\n",
       "      <td>9.763158</td>\n",
       "      <td>4.743749</td>\n",
       "      <td>76</td>\n",
       "    </tr>\n",
       "    <tr>\n",
       "      <th>2</th>\n",
       "      <td>e531a69afd185e0e97fb35fd7caa0f5e2e4efc4a1c80f75d81ebb2b99288250074964ae0f9360670038065d3f4f6d7fe7d7a760bca776fd842bc187ea3543373</td>\n",
       "      <td>df22edbc0e3dd6bc4f2f453e687b743e8442a54834b64f06ee093a91c4a41385d46579107a443eee3ec0ce2339bcea4152a996ca8cf0b2cc846eb2acc9cc241b</td>\n",
       "      <td>2</td>\n",
       "      <td>2020-03-01 14:29:26</td>\n",
       "      <td>1</td>\n",
       "      <td>14</td>\n",
       "      <td>57</td>\n",
       "      <td>7</td>\n",
       "      <td>23.28169</td>\n",
       "      <td>12.928710</td>\n",
       "      <td>60</td>\n",
       "      <td>1</td>\n",
       "      <td>38.211268</td>\n",
       "      <td>14.447414</td>\n",
       "      <td>568</td>\n",
       "    </tr>\n",
       "    <tr>\n",
       "      <th>3</th>\n",
       "      <td>e531a69afd185e0e97fb35fd7caa0f5e2e4efc4a1c80f75d81ebb2b99288250074964ae0f9360670038065d3f4f6d7fe7d7a760bca776fd842bc187ea3543373</td>\n",
       "      <td>df22edbc0e3dd6bc4f2f453e687b743e8442a54834b64f06ee093a91c4a41385d46579107a443eee3ec0ce2339bcea4152a996ca8cf0b2cc846eb2acc9cc241b</td>\n",
       "      <td>2</td>\n",
       "      <td>2020-03-01 14:29:26</td>\n",
       "      <td>1</td>\n",
       "      <td>14</td>\n",
       "      <td>57</td>\n",
       "      <td>7</td>\n",
       "      <td>23.28169</td>\n",
       "      <td>12.928710</td>\n",
       "      <td>60</td>\n",
       "      <td>1</td>\n",
       "      <td>38.211268</td>\n",
       "      <td>14.447414</td>\n",
       "      <td>568</td>\n",
       "    </tr>\n",
       "    <tr>\n",
       "      <th>4</th>\n",
       "      <td>e531a69afd185e0e97fb35fd7caa0f5e2e4efc4a1c80f75d81ebb2b99288250074964ae0f9360670038065d3f4f6d7fe7d7a760bca776fd842bc187ea3543373</td>\n",
       "      <td>df22edbc0e3dd6bc4f2f453e687b743e8442a54834b64f06ee093a91c4a41385d46579107a443eee3ec0ce2339bcea4152a996ca8cf0b2cc846eb2acc9cc241b</td>\n",
       "      <td>2</td>\n",
       "      <td>2020-03-01 14:29:26</td>\n",
       "      <td>1</td>\n",
       "      <td>14</td>\n",
       "      <td>57</td>\n",
       "      <td>7</td>\n",
       "      <td>23.28169</td>\n",
       "      <td>12.928710</td>\n",
       "      <td>60</td>\n",
       "      <td>1</td>\n",
       "      <td>38.211268</td>\n",
       "      <td>14.447414</td>\n",
       "      <td>568</td>\n",
       "    </tr>\n",
       "  </tbody>\n",
       "</table>\n",
       "</div>"
      ],
      "text/plain": [
       "                                                                                                                         phone_no_m  \\\n",
       "0  3c4adabd6c1eb2774054cdc67e8d1df09f89f4fd0b44fa0dfdb973c61688d8eb527ca71cd08d9006085c4d4888d4f9427210b4b5787dbe3d579550c3cd22aeeb   \n",
       "1  3c4adabd6c1eb2774054cdc67e8d1df09f89f4fd0b44fa0dfdb973c61688d8eb527ca71cd08d9006085c4d4888d4f9427210b4b5787dbe3d579550c3cd22aeeb   \n",
       "2  e531a69afd185e0e97fb35fd7caa0f5e2e4efc4a1c80f75d81ebb2b99288250074964ae0f9360670038065d3f4f6d7fe7d7a760bca776fd842bc187ea3543373   \n",
       "3  e531a69afd185e0e97fb35fd7caa0f5e2e4efc4a1c80f75d81ebb2b99288250074964ae0f9360670038065d3f4f6d7fe7d7a760bca776fd842bc187ea3543373   \n",
       "4  e531a69afd185e0e97fb35fd7caa0f5e2e4efc4a1c80f75d81ebb2b99288250074964ae0f9360670038065d3f4f6d7fe7d7a760bca776fd842bc187ea3543373   \n",
       "\n",
       "                                                                                                                      opposite_no_m  \\\n",
       "0  df22edbc0e3dd6bc4f2f453e687b743e8442a54834b64f06ee093a91c4a41385d46579107a443eee3ec0ce2339bcea4152a996ca8cf0b2cc846eb2acc9cc241b   \n",
       "1  df22edbc0e3dd6bc4f2f453e687b743e8442a54834b64f06ee093a91c4a41385d46579107a443eee3ec0ce2339bcea4152a996ca8cf0b2cc846eb2acc9cc241b   \n",
       "2  df22edbc0e3dd6bc4f2f453e687b743e8442a54834b64f06ee093a91c4a41385d46579107a443eee3ec0ce2339bcea4152a996ca8cf0b2cc846eb2acc9cc241b   \n",
       "3  df22edbc0e3dd6bc4f2f453e687b743e8442a54834b64f06ee093a91c4a41385d46579107a443eee3ec0ce2339bcea4152a996ca8cf0b2cc846eb2acc9cc241b   \n",
       "4  df22edbc0e3dd6bc4f2f453e687b743e8442a54834b64f06ee093a91c4a41385d46579107a443eee3ec0ce2339bcea4152a996ca8cf0b2cc846eb2acc9cc241b   \n",
       "\n",
       "   calltype_id    request_datetime  sms_day  sms_hour  sms_day_count_max  \\\n",
       "0            2 2020-03-01 10:19:12        1        10                  7   \n",
       "1            2 2020-03-01 10:19:12        1        10                  7   \n",
       "2            2 2020-03-01 14:29:26        1        14                 57   \n",
       "3            2 2020-03-01 14:29:26        1        14                 57   \n",
       "4            2 2020-03-01 14:29:26        1        14                 57   \n",
       "\n",
       "   sms_day_count_min  sms_day_count_mean  sms_day_count_std  \\\n",
       "0                  1             3.50000           1.708801   \n",
       "1                  1             3.50000           1.708801   \n",
       "2                  7            23.28169          12.928710   \n",
       "3                  7            23.28169          12.928710   \n",
       "4                  7            23.28169          12.928710   \n",
       "\n",
       "   sms_hour_count_max  sms_hour_count_min  sms_hour_count_mean  \\\n",
       "0                  16                   1             9.763158   \n",
       "1                  16                   1             9.763158   \n",
       "2                  60                   1            38.211268   \n",
       "3                  60                   1            38.211268   \n",
       "4                  60                   1            38.211268   \n",
       "\n",
       "   sms_hour_count_std  sms_count  \n",
       "0            4.743749         76  \n",
       "1            4.743749         76  \n",
       "2           14.447414        568  \n",
       "3           14.447414        568  \n",
       "4           14.447414        568  "
      ]
     },
     "execution_count": 25,
     "metadata": {},
     "output_type": "execute_result"
    }
   ],
   "source": [
    "df_sms.head()"
   ]
  },
  {
   "cell_type": "markdown",
   "metadata": {},
   "source": [
    "### 应用表"
   ]
  },
  {
   "cell_type": "code",
   "execution_count": 26,
   "metadata": {
    "ExecuteTime": {
     "end_time": "2020-06-07T10:46:56.805138Z",
     "start_time": "2020-06-07T10:46:52.888119Z"
    }
   },
   "outputs": [],
   "source": [
    "train_app = pd.read_csv('../input/train/train_app.csv')\n",
    "test_app = pd.read_csv('../input/test/test_app.csv')"
   ]
  },
  {
   "cell_type": "code",
   "execution_count": 27,
   "metadata": {
    "ExecuteTime": {
     "end_time": "2020-06-07T10:46:57.132026Z",
     "start_time": "2020-06-07T10:46:56.806851Z"
    }
   },
   "outputs": [],
   "source": [
    "# 同样只取最后一个月\n",
    "\n",
    "train_app = train_app[train_app['month_id'] == '2020-03']\n",
    "train_app = train_app.reset_index(drop=True)\n",
    "\n",
    "df_app = pd.concat([train_app, test_app])"
   ]
  },
  {
   "cell_type": "code",
   "execution_count": 28,
   "metadata": {
    "ExecuteTime": {
     "end_time": "2020-06-07T10:46:58.153956Z",
     "start_time": "2020-06-07T10:46:57.133004Z"
    }
   },
   "outputs": [],
   "source": [
    "# 流量统计\n",
    "\n",
    "df_app['total_flow'] = df_app.groupby('phone_no_m')['flow'].transform('sum')\n",
    "df_app['flow_max'] = df_app.groupby('phone_no_m')['flow'].transform('max')\n",
    "df_app['flow_min'] = df_app.groupby('phone_no_m')['flow'].transform('min')\n",
    "df_app['flow_mean'] = df_app.groupby('phone_no_m')['flow'].transform('mean')\n",
    "df_app['flow_std'] = df_app.groupby('phone_no_m')['flow'].transform('std')\n",
    "\n",
    "# 应用数\n",
    "df_app['app_count'] = df_app.groupby('phone_no_m')['phone_no_m'].transform('count')"
   ]
  },
  {
   "cell_type": "code",
   "execution_count": 29,
   "metadata": {
    "ExecuteTime": {
     "end_time": "2020-06-07T10:46:58.170715Z",
     "start_time": "2020-06-07T10:46:58.156721Z"
    }
   },
   "outputs": [
    {
     "data": {
      "text/html": [
       "<div>\n",
       "<style scoped>\n",
       "    .dataframe tbody tr th:only-of-type {\n",
       "        vertical-align: middle;\n",
       "    }\n",
       "\n",
       "    .dataframe tbody tr th {\n",
       "        vertical-align: top;\n",
       "    }\n",
       "\n",
       "    .dataframe thead th {\n",
       "        text-align: right;\n",
       "    }\n",
       "</style>\n",
       "<table border=\"1\" class=\"dataframe\">\n",
       "  <thead>\n",
       "    <tr style=\"text-align: right;\">\n",
       "      <th></th>\n",
       "      <th>phone_no_m</th>\n",
       "      <th>busi_name</th>\n",
       "      <th>flow</th>\n",
       "      <th>month_id</th>\n",
       "      <th>total_flow</th>\n",
       "      <th>flow_max</th>\n",
       "      <th>flow_min</th>\n",
       "      <th>flow_mean</th>\n",
       "      <th>flow_std</th>\n",
       "      <th>app_count</th>\n",
       "    </tr>\n",
       "  </thead>\n",
       "  <tbody>\n",
       "    <tr>\n",
       "      <th>0</th>\n",
       "      <td>229a0f324de3c54b4cc4c82dafbf78ee5874fe491e4d9a5a44c16f243922f1884e84ce9a910dfee5be7b1f8b2ae2784cc6ee1f65222f841a84acef2b1f11cac2</td>\n",
       "      <td>NaN</td>\n",
       "      <td>125.060604</td>\n",
       "      <td>2020-03</td>\n",
       "      <td>5189.21207</td>\n",
       "      <td>2000.995233</td>\n",
       "      <td>0.00074</td>\n",
       "      <td>55.797979</td>\n",
       "      <td>250.141054</td>\n",
       "      <td>93</td>\n",
       "    </tr>\n",
       "    <tr>\n",
       "      <th>1</th>\n",
       "      <td>229a0f324de3c54b4cc4c82dafbf78ee5874fe491e4d9a5a44c16f243922f1884e84ce9a910dfee5be7b1f8b2ae2784cc6ee1f65222f841a84acef2b1f11cac2</td>\n",
       "      <td>QQ</td>\n",
       "      <td>7.247598</td>\n",
       "      <td>2020-03</td>\n",
       "      <td>5189.21207</td>\n",
       "      <td>2000.995233</td>\n",
       "      <td>0.00074</td>\n",
       "      <td>55.797979</td>\n",
       "      <td>250.141054</td>\n",
       "      <td>93</td>\n",
       "    </tr>\n",
       "    <tr>\n",
       "      <th>2</th>\n",
       "      <td>229a0f324de3c54b4cc4c82dafbf78ee5874fe491e4d9a5a44c16f243922f1884e84ce9a910dfee5be7b1f8b2ae2784cc6ee1f65222f841a84acef2b1f11cac2</td>\n",
       "      <td>旺信</td>\n",
       "      <td>0.008341</td>\n",
       "      <td>2020-03</td>\n",
       "      <td>5189.21207</td>\n",
       "      <td>2000.995233</td>\n",
       "      <td>0.00074</td>\n",
       "      <td>55.797979</td>\n",
       "      <td>250.141054</td>\n",
       "      <td>93</td>\n",
       "    </tr>\n",
       "    <tr>\n",
       "      <th>3</th>\n",
       "      <td>229a0f324de3c54b4cc4c82dafbf78ee5874fe491e4d9a5a44c16f243922f1884e84ce9a910dfee5be7b1f8b2ae2784cc6ee1f65222f841a84acef2b1f11cac2</td>\n",
       "      <td>微信</td>\n",
       "      <td>584.027821</td>\n",
       "      <td>2020-03</td>\n",
       "      <td>5189.21207</td>\n",
       "      <td>2000.995233</td>\n",
       "      <td>0.00074</td>\n",
       "      <td>55.797979</td>\n",
       "      <td>250.141054</td>\n",
       "      <td>93</td>\n",
       "    </tr>\n",
       "    <tr>\n",
       "      <th>4</th>\n",
       "      <td>229a0f324de3c54b4cc4c82dafbf78ee5874fe491e4d9a5a44c16f243922f1884e84ce9a910dfee5be7b1f8b2ae2784cc6ee1f65222f841a84acef2b1f11cac2</td>\n",
       "      <td>起点读书</td>\n",
       "      <td>5.342432</td>\n",
       "      <td>2020-03</td>\n",
       "      <td>5189.21207</td>\n",
       "      <td>2000.995233</td>\n",
       "      <td>0.00074</td>\n",
       "      <td>55.797979</td>\n",
       "      <td>250.141054</td>\n",
       "      <td>93</td>\n",
       "    </tr>\n",
       "  </tbody>\n",
       "</table>\n",
       "</div>"
      ],
      "text/plain": [
       "                                                                                                                         phone_no_m  \\\n",
       "0  229a0f324de3c54b4cc4c82dafbf78ee5874fe491e4d9a5a44c16f243922f1884e84ce9a910dfee5be7b1f8b2ae2784cc6ee1f65222f841a84acef2b1f11cac2   \n",
       "1  229a0f324de3c54b4cc4c82dafbf78ee5874fe491e4d9a5a44c16f243922f1884e84ce9a910dfee5be7b1f8b2ae2784cc6ee1f65222f841a84acef2b1f11cac2   \n",
       "2  229a0f324de3c54b4cc4c82dafbf78ee5874fe491e4d9a5a44c16f243922f1884e84ce9a910dfee5be7b1f8b2ae2784cc6ee1f65222f841a84acef2b1f11cac2   \n",
       "3  229a0f324de3c54b4cc4c82dafbf78ee5874fe491e4d9a5a44c16f243922f1884e84ce9a910dfee5be7b1f8b2ae2784cc6ee1f65222f841a84acef2b1f11cac2   \n",
       "4  229a0f324de3c54b4cc4c82dafbf78ee5874fe491e4d9a5a44c16f243922f1884e84ce9a910dfee5be7b1f8b2ae2784cc6ee1f65222f841a84acef2b1f11cac2   \n",
       "\n",
       "  busi_name        flow month_id  total_flow     flow_max  flow_min  \\\n",
       "0       NaN  125.060604  2020-03  5189.21207  2000.995233   0.00074   \n",
       "1        QQ    7.247598  2020-03  5189.21207  2000.995233   0.00074   \n",
       "2        旺信    0.008341  2020-03  5189.21207  2000.995233   0.00074   \n",
       "3        微信  584.027821  2020-03  5189.21207  2000.995233   0.00074   \n",
       "4      起点读书    5.342432  2020-03  5189.21207  2000.995233   0.00074   \n",
       "\n",
       "   flow_mean    flow_std  app_count  \n",
       "0  55.797979  250.141054         93  \n",
       "1  55.797979  250.141054         93  \n",
       "2  55.797979  250.141054         93  \n",
       "3  55.797979  250.141054         93  \n",
       "4  55.797979  250.141054         93  "
      ]
     },
     "execution_count": 29,
     "metadata": {},
     "output_type": "execute_result"
    }
   ],
   "source": [
    "df_app.head()"
   ]
  },
  {
   "cell_type": "markdown",
   "metadata": {},
   "source": [
    "### 合并"
   ]
  },
  {
   "cell_type": "code",
   "execution_count": 30,
   "metadata": {
    "ExecuteTime": {
     "end_time": "2020-06-07T10:46:58.177666Z",
     "start_time": "2020-06-07T10:46:58.172681Z"
    }
   },
   "outputs": [
    {
     "data": {
      "text/plain": [
       "((8151, 7), (985666, 19), (1319506, 15), (512100, 10))"
      ]
     },
     "execution_count": 30,
     "metadata": {},
     "output_type": "execute_result"
    }
   ],
   "source": [
    "df_user.shape, df_voc.shape, df_sms.shape, df_app.shape"
   ]
  },
  {
   "cell_type": "code",
   "execution_count": 31,
   "metadata": {
    "ExecuteTime": {
     "end_time": "2020-06-07T10:46:58.650434Z",
     "start_time": "2020-06-07T10:46:58.178660Z"
    }
   },
   "outputs": [],
   "source": [
    "df_voc = df_voc[['phone_no_m', 'calltype_id', \n",
    "                 'call_dur', 'voc_day', 'voc_hour',\n",
    "                 'voc_day_count_max', 'voc_day_count_min', 'voc_day_count_mean', 'voc_day_count_std', \n",
    "                 'voc_hour_count_max', 'voc_hour_count_min', 'voc_hour_count_mean', 'voc_hour_count_std',\n",
    "                 'voc_count']].drop_duplicates(subset=['phone_no_m'])"
   ]
  },
  {
   "cell_type": "code",
   "execution_count": 32,
   "metadata": {
    "ExecuteTime": {
     "end_time": "2020-06-07T10:46:59.255781Z",
     "start_time": "2020-06-07T10:46:58.651396Z"
    }
   },
   "outputs": [],
   "source": [
    "df_sms = df_sms[['phone_no_m', 'sms_day', 'sms_hour', \n",
    "                 'sms_day_count_max', 'sms_day_count_min', 'sms_day_count_mean', 'sms_day_count_std', \n",
    "                 'sms_hour_count_max', 'sms_hour_count_min', 'sms_hour_count_mean', 'sms_hour_count_std',\n",
    "                 'sms_count']].drop_duplicates(subset=['phone_no_m'])"
   ]
  },
  {
   "cell_type": "code",
   "execution_count": 33,
   "metadata": {
    "ExecuteTime": {
     "end_time": "2020-06-07T10:46:59.423333Z",
     "start_time": "2020-06-07T10:46:59.256778Z"
    }
   },
   "outputs": [],
   "source": [
    "df_app = df_app[['phone_no_m', 'total_flow', 'flow_max', 'flow_min',\n",
    "                 'flow_mean', 'flow_std', 'app_count']].drop_duplicates(subset=['phone_no_m'])"
   ]
  },
  {
   "cell_type": "code",
   "execution_count": 34,
   "metadata": {
    "ExecuteTime": {
     "end_time": "2020-06-07T10:46:59.493208Z",
     "start_time": "2020-06-07T10:46:59.424332Z"
    }
   },
   "outputs": [
    {
     "data": {
      "text/html": [
       "<div>\n",
       "<style scoped>\n",
       "    .dataframe tbody tr th:only-of-type {\n",
       "        vertical-align: middle;\n",
       "    }\n",
       "\n",
       "    .dataframe tbody tr th {\n",
       "        vertical-align: top;\n",
       "    }\n",
       "\n",
       "    .dataframe thead th {\n",
       "        text-align: right;\n",
       "    }\n",
       "</style>\n",
       "<table border=\"1\" class=\"dataframe\">\n",
       "  <thead>\n",
       "    <tr style=\"text-align: right;\">\n",
       "      <th></th>\n",
       "      <th>phone_no_m</th>\n",
       "      <th>city_name</th>\n",
       "      <th>county_name</th>\n",
       "      <th>idcard_cnt</th>\n",
       "      <th>label</th>\n",
       "      <th>arpu_202004</th>\n",
       "      <th>cents</th>\n",
       "      <th>calltype_id</th>\n",
       "      <th>call_dur</th>\n",
       "      <th>voc_day</th>\n",
       "      <th>voc_hour</th>\n",
       "      <th>voc_day_count_max</th>\n",
       "      <th>voc_day_count_min</th>\n",
       "      <th>voc_day_count_mean</th>\n",
       "      <th>voc_day_count_std</th>\n",
       "      <th>voc_hour_count_max</th>\n",
       "      <th>voc_hour_count_min</th>\n",
       "      <th>voc_hour_count_mean</th>\n",
       "      <th>voc_hour_count_std</th>\n",
       "      <th>voc_count</th>\n",
       "      <th>sms_day</th>\n",
       "      <th>sms_hour</th>\n",
       "      <th>sms_day_count_max</th>\n",
       "      <th>sms_day_count_min</th>\n",
       "      <th>sms_day_count_mean</th>\n",
       "      <th>sms_day_count_std</th>\n",
       "      <th>sms_hour_count_max</th>\n",
       "      <th>sms_hour_count_min</th>\n",
       "      <th>sms_hour_count_mean</th>\n",
       "      <th>sms_hour_count_std</th>\n",
       "      <th>sms_count</th>\n",
       "      <th>total_flow</th>\n",
       "      <th>flow_max</th>\n",
       "      <th>flow_min</th>\n",
       "      <th>flow_mean</th>\n",
       "      <th>flow_std</th>\n",
       "      <th>app_count</th>\n",
       "    </tr>\n",
       "  </thead>\n",
       "  <tbody>\n",
       "    <tr>\n",
       "      <th>0</th>\n",
       "      <td>672ddbf02a5544d32e4ecc9433b1981bffe23bf912273a3a835f6cccb78b8ed7554e9ab0fbcd33d19eb6063ce00542dd223cc5cc83c68f07bcf933547b6776b1</td>\n",
       "      <td>16</td>\n",
       "      <td>97</td>\n",
       "      <td>1</td>\n",
       "      <td>0.0</td>\n",
       "      <td>45.0</td>\n",
       "      <td>0.0</td>\n",
       "      <td>1.0</td>\n",
       "      <td>31.0</td>\n",
       "      <td>17.0</td>\n",
       "      <td>17.0</td>\n",
       "      <td>12.0</td>\n",
       "      <td>1.0</td>\n",
       "      <td>4.971831</td>\n",
       "      <td>3.601475</td>\n",
       "      <td>11.0</td>\n",
       "      <td>1.0</td>\n",
       "      <td>6.042254</td>\n",
       "      <td>3.025778</td>\n",
       "      <td>71.0</td>\n",
       "      <td>11.0</td>\n",
       "      <td>3.0</td>\n",
       "      <td>16.0</td>\n",
       "      <td>1.0</td>\n",
       "      <td>7.089552</td>\n",
       "      <td>4.362283</td>\n",
       "      <td>24.0</td>\n",
       "      <td>1.0</td>\n",
       "      <td>12.059701</td>\n",
       "      <td>6.588622</td>\n",
       "      <td>134.0</td>\n",
       "      <td>168.124505</td>\n",
       "      <td>99.590643</td>\n",
       "      <td>0.000456</td>\n",
       "      <td>2.849568</td>\n",
       "      <td>13.173569</td>\n",
       "      <td>59.0</td>\n",
       "    </tr>\n",
       "    <tr>\n",
       "      <th>1</th>\n",
       "      <td>5e1272273e041e82cb275ae877710be98cdaf5b0a8f34de8d361f71d5268fa0851edffd3950e170df1e3846fcf90cc7cc8299be9139a2ac4b5c5e5121d832674</td>\n",
       "      <td>10</td>\n",
       "      <td>82</td>\n",
       "      <td>1</td>\n",
       "      <td>0.0</td>\n",
       "      <td>60.0</td>\n",
       "      <td>0.0</td>\n",
       "      <td>2.0</td>\n",
       "      <td>12.0</td>\n",
       "      <td>30.0</td>\n",
       "      <td>12.0</td>\n",
       "      <td>2.0</td>\n",
       "      <td>1.0</td>\n",
       "      <td>1.363636</td>\n",
       "      <td>0.504525</td>\n",
       "      <td>3.0</td>\n",
       "      <td>1.0</td>\n",
       "      <td>1.727273</td>\n",
       "      <td>0.904534</td>\n",
       "      <td>11.0</td>\n",
       "      <td>3.0</td>\n",
       "      <td>9.0</td>\n",
       "      <td>22.0</td>\n",
       "      <td>1.0</td>\n",
       "      <td>14.142857</td>\n",
       "      <td>4.892586</td>\n",
       "      <td>71.0</td>\n",
       "      <td>1.0</td>\n",
       "      <td>41.112045</td>\n",
       "      <td>23.306550</td>\n",
       "      <td>357.0</td>\n",
       "      <td>10088.555221</td>\n",
       "      <td>2537.237967</td>\n",
       "      <td>0.001075</td>\n",
       "      <td>53.662528</td>\n",
       "      <td>237.544176</td>\n",
       "      <td>188.0</td>\n",
       "    </tr>\n",
       "    <tr>\n",
       "      <th>2</th>\n",
       "      <td>eaab3472ec87b076e69e6e8bb62b14341638fc63661a6c682d6add360a4332a8ad294d8470d64a73c6e53e8413f0ad93b9ea65afab717e58d312554f33553ee7</td>\n",
       "      <td>11</td>\n",
       "      <td>160</td>\n",
       "      <td>2</td>\n",
       "      <td>0.0</td>\n",
       "      <td>63.0</td>\n",
       "      <td>0.0</td>\n",
       "      <td>2.0</td>\n",
       "      <td>34.0</td>\n",
       "      <td>9.0</td>\n",
       "      <td>17.0</td>\n",
       "      <td>25.0</td>\n",
       "      <td>1.0</td>\n",
       "      <td>11.151515</td>\n",
       "      <td>5.496608</td>\n",
       "      <td>36.0</td>\n",
       "      <td>1.0</td>\n",
       "      <td>22.818182</td>\n",
       "      <td>9.387167</td>\n",
       "      <td>264.0</td>\n",
       "      <td>7.0</td>\n",
       "      <td>17.0</td>\n",
       "      <td>32.0</td>\n",
       "      <td>3.0</td>\n",
       "      <td>12.783394</td>\n",
       "      <td>8.035024</td>\n",
       "      <td>44.0</td>\n",
       "      <td>1.0</td>\n",
       "      <td>25.397112</td>\n",
       "      <td>12.424601</td>\n",
       "      <td>277.0</td>\n",
       "      <td>357.531875</td>\n",
       "      <td>74.788056</td>\n",
       "      <td>0.000526</td>\n",
       "      <td>3.928922</td>\n",
       "      <td>12.155846</td>\n",
       "      <td>91.0</td>\n",
       "    </tr>\n",
       "    <tr>\n",
       "      <th>3</th>\n",
       "      <td>0ce1bb415704178bf44e9c9b431a39b083a132c8e6d99f3627cd4520064b93ec66a72d085a67f0f40eebb9f901072965073e398f04c4ae500a1db4dfb13a972c</td>\n",
       "      <td>11</td>\n",
       "      <td>181</td>\n",
       "      <td>2</td>\n",
       "      <td>0.0</td>\n",
       "      <td>23.2</td>\n",
       "      <td>0.2</td>\n",
       "      <td>3.0</td>\n",
       "      <td>45.0</td>\n",
       "      <td>24.0</td>\n",
       "      <td>10.0</td>\n",
       "      <td>37.0</td>\n",
       "      <td>1.0</td>\n",
       "      <td>25.006885</td>\n",
       "      <td>8.531885</td>\n",
       "      <td>104.0</td>\n",
       "      <td>1.0</td>\n",
       "      <td>67.137694</td>\n",
       "      <td>28.927287</td>\n",
       "      <td>581.0</td>\n",
       "      <td>7.0</td>\n",
       "      <td>7.0</td>\n",
       "      <td>37.0</td>\n",
       "      <td>1.0</td>\n",
       "      <td>23.635452</td>\n",
       "      <td>7.869170</td>\n",
       "      <td>88.0</td>\n",
       "      <td>2.0</td>\n",
       "      <td>54.076923</td>\n",
       "      <td>21.127533</td>\n",
       "      <td>598.0</td>\n",
       "      <td>2.176389</td>\n",
       "      <td>1.118252</td>\n",
       "      <td>0.000553</td>\n",
       "      <td>0.435278</td>\n",
       "      <td>0.449543</td>\n",
       "      <td>5.0</td>\n",
       "    </tr>\n",
       "    <tr>\n",
       "      <th>4</th>\n",
       "      <td>28b87f35f63f65096a53e3a4c97eaffd4a6c43ffa7e92d7706b20520aa11fff0f4ce06203f66758ec0f0e70780e4e258aae6aa1f23439e115528e08eda71ed20</td>\n",
       "      <td>10</td>\n",
       "      <td>82</td>\n",
       "      <td>1</td>\n",
       "      <td>0.0</td>\n",
       "      <td>50.0</td>\n",
       "      <td>0.0</td>\n",
       "      <td>2.0</td>\n",
       "      <td>11.0</td>\n",
       "      <td>8.0</td>\n",
       "      <td>17.0</td>\n",
       "      <td>1.0</td>\n",
       "      <td>1.0</td>\n",
       "      <td>1.000000</td>\n",
       "      <td>0.000000</td>\n",
       "      <td>2.0</td>\n",
       "      <td>1.0</td>\n",
       "      <td>1.666667</td>\n",
       "      <td>0.516398</td>\n",
       "      <td>6.0</td>\n",
       "      <td>18.0</td>\n",
       "      <td>8.0</td>\n",
       "      <td>13.0</td>\n",
       "      <td>1.0</td>\n",
       "      <td>5.870588</td>\n",
       "      <td>3.750518</td>\n",
       "      <td>14.0</td>\n",
       "      <td>1.0</td>\n",
       "      <td>9.352941</td>\n",
       "      <td>3.816337</td>\n",
       "      <td>85.0</td>\n",
       "      <td>3303.071922</td>\n",
       "      <td>1684.194232</td>\n",
       "      <td>0.000098</td>\n",
       "      <td>27.525599</td>\n",
       "      <td>168.147333</td>\n",
       "      <td>120.0</td>\n",
       "    </tr>\n",
       "  </tbody>\n",
       "</table>\n",
       "</div>"
      ],
      "text/plain": [
       "                                                                                                                         phone_no_m  \\\n",
       "0  672ddbf02a5544d32e4ecc9433b1981bffe23bf912273a3a835f6cccb78b8ed7554e9ab0fbcd33d19eb6063ce00542dd223cc5cc83c68f07bcf933547b6776b1   \n",
       "1  5e1272273e041e82cb275ae877710be98cdaf5b0a8f34de8d361f71d5268fa0851edffd3950e170df1e3846fcf90cc7cc8299be9139a2ac4b5c5e5121d832674   \n",
       "2  eaab3472ec87b076e69e6e8bb62b14341638fc63661a6c682d6add360a4332a8ad294d8470d64a73c6e53e8413f0ad93b9ea65afab717e58d312554f33553ee7   \n",
       "3  0ce1bb415704178bf44e9c9b431a39b083a132c8e6d99f3627cd4520064b93ec66a72d085a67f0f40eebb9f901072965073e398f04c4ae500a1db4dfb13a972c   \n",
       "4  28b87f35f63f65096a53e3a4c97eaffd4a6c43ffa7e92d7706b20520aa11fff0f4ce06203f66758ec0f0e70780e4e258aae6aa1f23439e115528e08eda71ed20   \n",
       "\n",
       "   city_name  county_name  idcard_cnt  label  arpu_202004  cents  calltype_id  \\\n",
       "0         16           97           1    0.0         45.0    0.0          1.0   \n",
       "1         10           82           1    0.0         60.0    0.0          2.0   \n",
       "2         11          160           2    0.0         63.0    0.0          2.0   \n",
       "3         11          181           2    0.0         23.2    0.2          3.0   \n",
       "4         10           82           1    0.0         50.0    0.0          2.0   \n",
       "\n",
       "   call_dur  voc_day  voc_hour  voc_day_count_max  voc_day_count_min  \\\n",
       "0      31.0     17.0      17.0               12.0                1.0   \n",
       "1      12.0     30.0      12.0                2.0                1.0   \n",
       "2      34.0      9.0      17.0               25.0                1.0   \n",
       "3      45.0     24.0      10.0               37.0                1.0   \n",
       "4      11.0      8.0      17.0                1.0                1.0   \n",
       "\n",
       "   voc_day_count_mean  voc_day_count_std  voc_hour_count_max  \\\n",
       "0            4.971831           3.601475                11.0   \n",
       "1            1.363636           0.504525                 3.0   \n",
       "2           11.151515           5.496608                36.0   \n",
       "3           25.006885           8.531885               104.0   \n",
       "4            1.000000           0.000000                 2.0   \n",
       "\n",
       "   voc_hour_count_min  voc_hour_count_mean  voc_hour_count_std  voc_count  \\\n",
       "0                 1.0             6.042254            3.025778       71.0   \n",
       "1                 1.0             1.727273            0.904534       11.0   \n",
       "2                 1.0            22.818182            9.387167      264.0   \n",
       "3                 1.0            67.137694           28.927287      581.0   \n",
       "4                 1.0             1.666667            0.516398        6.0   \n",
       "\n",
       "   sms_day  sms_hour  sms_day_count_max  sms_day_count_min  \\\n",
       "0     11.0       3.0               16.0                1.0   \n",
       "1      3.0       9.0               22.0                1.0   \n",
       "2      7.0      17.0               32.0                3.0   \n",
       "3      7.0       7.0               37.0                1.0   \n",
       "4     18.0       8.0               13.0                1.0   \n",
       "\n",
       "   sms_day_count_mean  sms_day_count_std  sms_hour_count_max  \\\n",
       "0            7.089552           4.362283                24.0   \n",
       "1           14.142857           4.892586                71.0   \n",
       "2           12.783394           8.035024                44.0   \n",
       "3           23.635452           7.869170                88.0   \n",
       "4            5.870588           3.750518                14.0   \n",
       "\n",
       "   sms_hour_count_min  sms_hour_count_mean  sms_hour_count_std  sms_count  \\\n",
       "0                 1.0            12.059701            6.588622      134.0   \n",
       "1                 1.0            41.112045           23.306550      357.0   \n",
       "2                 1.0            25.397112           12.424601      277.0   \n",
       "3                 2.0            54.076923           21.127533      598.0   \n",
       "4                 1.0             9.352941            3.816337       85.0   \n",
       "\n",
       "     total_flow     flow_max  flow_min  flow_mean    flow_std  app_count  \n",
       "0    168.124505    99.590643  0.000456   2.849568   13.173569       59.0  \n",
       "1  10088.555221  2537.237967  0.001075  53.662528  237.544176      188.0  \n",
       "2    357.531875    74.788056  0.000526   3.928922   12.155846       91.0  \n",
       "3      2.176389     1.118252  0.000553   0.435278    0.449543        5.0  \n",
       "4   3303.071922  1684.194232  0.000098  27.525599  168.147333      120.0  "
      ]
     },
     "execution_count": 34,
     "metadata": {},
     "output_type": "execute_result"
    }
   ],
   "source": [
    "df = pd.merge(df_user, df_voc, how='left', on='phone_no_m')\n",
    "df = pd.merge(df, df_sms, how='left', on='phone_no_m')\n",
    "df = pd.merge(df, df_app, how='left', on='phone_no_m')\n",
    "\n",
    "df.head()"
   ]
  },
  {
   "cell_type": "code",
   "execution_count": 35,
   "metadata": {
    "ExecuteTime": {
     "end_time": "2020-06-07T10:46:59.509129Z",
     "start_time": "2020-06-07T10:46:59.495167Z"
    }
   },
   "outputs": [
    {
     "data": {
      "text/plain": [
       "((6106, 37), (2045, 37))"
      ]
     },
     "execution_count": 35,
     "metadata": {},
     "output_type": "execute_result"
    }
   ],
   "source": [
    "df_train = df[df.label.notna()]\n",
    "df_test = df[df.label.isna()]\n",
    "\n",
    "df_train.shape, df_test.shape"
   ]
  },
  {
   "cell_type": "markdown",
   "metadata": {},
   "source": [
    "### 建模"
   ]
  },
  {
   "cell_type": "code",
   "execution_count": 36,
   "metadata": {
    "ExecuteTime": {
     "end_time": "2020-06-07T10:47:03.539271Z",
     "start_time": "2020-06-07T10:46:59.510127Z"
    }
   },
   "outputs": [
    {
     "name": "stdout",
     "output_type": "stream",
     "text": [
      "\n",
      "Fold_1 Training ================================\n",
      "\n",
      "Training until validation scores don't improve for 50 rounds\n",
      "[100]\ttrain's auc: 0.993915\tvalid's auc: 0.934447\n",
      "Early stopping, best iteration is:\n",
      "[142]\ttrain's auc: 0.996165\tvalid's auc: 0.934901\n",
      "\n",
      "Fold_2 Training ================================\n",
      "\n",
      "Training until validation scores don't improve for 50 rounds\n",
      "[100]\ttrain's auc: 0.994019\tvalid's auc: 0.949897\n",
      "Early stopping, best iteration is:\n",
      "[90]\ttrain's auc: 0.992943\tvalid's auc: 0.950337\n",
      "\n",
      "Fold_3 Training ================================\n",
      "\n",
      "Training until validation scores don't improve for 50 rounds\n",
      "[100]\ttrain's auc: 0.993172\tvalid's auc: 0.947373\n",
      "Early stopping, best iteration is:\n",
      "[133]\ttrain's auc: 0.995728\tvalid's auc: 0.949121\n",
      "\n",
      "Fold_4 Training ================================\n",
      "\n",
      "Training until validation scores don't improve for 50 rounds\n",
      "[100]\ttrain's auc: 0.993532\tvalid's auc: 0.946041\n",
      "Early stopping, best iteration is:\n",
      "[134]\ttrain's auc: 0.995429\tvalid's auc: 0.946933\n",
      "\n",
      "Fold_5 Training ================================\n",
      "\n",
      "Training until validation scores don't improve for 50 rounds\n",
      "Early stopping, best iteration is:\n",
      "[48]\ttrain's auc: 0.983091\tvalid's auc: 0.953599\n"
     ]
    }
   ],
   "source": [
    "ycol = 'label'\n",
    "feature_names = list(filter(lambda x: x not in [ycol, 'phone_no_m'], df_train.columns))\n",
    "\n",
    "model = lgb.LGBMClassifier(objective='binary',\n",
    "                           boosting_type='gbdt',\n",
    "                           tree_learner='serial',\n",
    "                           num_leaves=64,\n",
    "                           max_depth=8,\n",
    "                           learning_rate=0.1,\n",
    "                           n_estimators=10000,\n",
    "                           subsample=0.8,\n",
    "                           feature_fraction=0.6,\n",
    "                           reg_alpha=10,\n",
    "                           reg_lambda=12,\n",
    "                           random_state=2020,\n",
    "                           is_unbalance=True,\n",
    "                           metric='auc')\n",
    "\n",
    "\n",
    "oof = []\n",
    "prediction = df_test[['phone_no_m']]\n",
    "prediction[ycol] = 0\n",
    "df_importance_list = []\n",
    "\n",
    "kfold = StratifiedKFold(n_splits=5, shuffle=True, random_state=2020)\n",
    "for fold_id, (trn_idx, val_idx) in enumerate(kfold.split(df_train[feature_names], df_train[ycol])):\n",
    "    X_train = df_train.iloc[trn_idx][feature_names]\n",
    "    Y_train = df_train.iloc[trn_idx][ycol]\n",
    "\n",
    "    X_val = df_train.iloc[val_idx][feature_names]\n",
    "    Y_val = df_train.iloc[val_idx][ycol]\n",
    "\n",
    "    print('\\nFold_{} Training ================================\\n'.format(fold_id+1))\n",
    "\n",
    "    lgb_model = model.fit(X_train,\n",
    "                          Y_train,\n",
    "                          eval_names=['train', 'valid'],\n",
    "                          eval_set=[(X_train, Y_train), (X_val, Y_val)],\n",
    "                          verbose=100,\n",
    "                          eval_metric='auc',\n",
    "                          early_stopping_rounds=50)\n",
    "\n",
    "    pred_val = lgb_model.predict(X_val, num_iteration=lgb_model.best_iteration_)\n",
    "    df_oof = df_train.iloc[val_idx][['phone_no_m', ycol]].copy()\n",
    "    df_oof['pred'] = pred_val\n",
    "    oof.append(df_oof)\n",
    "\n",
    "    pred_test = lgb_model.predict(df_test[feature_names], num_iteration=lgb_model.best_iteration_)\n",
    "    prediction[ycol] += pred_test / kfold.n_splits\n",
    "\n",
    "    df_importance = pd.DataFrame({\n",
    "        'column': feature_names,\n",
    "        'importance': lgb_model.feature_importances_,\n",
    "    })\n",
    "    df_importance_list.append(df_importance)\n",
    "\n",
    "    del lgb_model, pred_val, pred_test, X_train, Y_train, X_val, Y_val\n",
    "    gc.collect()"
   ]
  },
  {
   "cell_type": "code",
   "execution_count": 37,
   "metadata": {
    "ExecuteTime": {
     "end_time": "2020-06-07T10:47:03.579163Z",
     "start_time": "2020-06-07T10:47:03.542263Z"
    }
   },
   "outputs": [
    {
     "data": {
      "text/html": [
       "<div>\n",
       "<style scoped>\n",
       "    .dataframe tbody tr th:only-of-type {\n",
       "        vertical-align: middle;\n",
       "    }\n",
       "\n",
       "    .dataframe tbody tr th {\n",
       "        vertical-align: top;\n",
       "    }\n",
       "\n",
       "    .dataframe thead th {\n",
       "        text-align: right;\n",
       "    }\n",
       "</style>\n",
       "<table border=\"1\" class=\"dataframe\">\n",
       "  <thead>\n",
       "    <tr style=\"text-align: right;\">\n",
       "      <th></th>\n",
       "      <th>column</th>\n",
       "      <th>importance</th>\n",
       "    </tr>\n",
       "  </thead>\n",
       "  <tbody>\n",
       "    <tr>\n",
       "      <th>0</th>\n",
       "      <td>arpu_202004</td>\n",
       "      <td>217.8</td>\n",
       "    </tr>\n",
       "    <tr>\n",
       "      <th>1</th>\n",
       "      <td>sms_day_count_mean</td>\n",
       "      <td>185.4</td>\n",
       "    </tr>\n",
       "    <tr>\n",
       "      <th>2</th>\n",
       "      <td>county_name</td>\n",
       "      <td>173.2</td>\n",
       "    </tr>\n",
       "    <tr>\n",
       "      <th>3</th>\n",
       "      <td>flow_min</td>\n",
       "      <td>164.0</td>\n",
       "    </tr>\n",
       "    <tr>\n",
       "      <th>4</th>\n",
       "      <td>voc_day</td>\n",
       "      <td>162.8</td>\n",
       "    </tr>\n",
       "    <tr>\n",
       "      <th>5</th>\n",
       "      <td>voc_day_count_mean</td>\n",
       "      <td>160.6</td>\n",
       "    </tr>\n",
       "    <tr>\n",
       "      <th>6</th>\n",
       "      <td>app_count</td>\n",
       "      <td>143.8</td>\n",
       "    </tr>\n",
       "    <tr>\n",
       "      <th>7</th>\n",
       "      <td>sms_day</td>\n",
       "      <td>142.0</td>\n",
       "    </tr>\n",
       "    <tr>\n",
       "      <th>8</th>\n",
       "      <td>voc_day_count_std</td>\n",
       "      <td>133.4</td>\n",
       "    </tr>\n",
       "    <tr>\n",
       "      <th>9</th>\n",
       "      <td>total_flow</td>\n",
       "      <td>128.0</td>\n",
       "    </tr>\n",
       "    <tr>\n",
       "      <th>10</th>\n",
       "      <td>sms_count</td>\n",
       "      <td>125.6</td>\n",
       "    </tr>\n",
       "    <tr>\n",
       "      <th>11</th>\n",
       "      <td>voc_count</td>\n",
       "      <td>124.6</td>\n",
       "    </tr>\n",
       "    <tr>\n",
       "      <th>12</th>\n",
       "      <td>sms_day_count_std</td>\n",
       "      <td>121.6</td>\n",
       "    </tr>\n",
       "    <tr>\n",
       "      <th>13</th>\n",
       "      <td>city_name</td>\n",
       "      <td>118.0</td>\n",
       "    </tr>\n",
       "    <tr>\n",
       "      <th>14</th>\n",
       "      <td>flow_std</td>\n",
       "      <td>109.4</td>\n",
       "    </tr>\n",
       "    <tr>\n",
       "      <th>15</th>\n",
       "      <td>flow_max</td>\n",
       "      <td>102.6</td>\n",
       "    </tr>\n",
       "    <tr>\n",
       "      <th>16</th>\n",
       "      <td>flow_mean</td>\n",
       "      <td>101.0</td>\n",
       "    </tr>\n",
       "    <tr>\n",
       "      <th>17</th>\n",
       "      <td>cents</td>\n",
       "      <td>100.6</td>\n",
       "    </tr>\n",
       "    <tr>\n",
       "      <th>18</th>\n",
       "      <td>sms_hour_count_std</td>\n",
       "      <td>99.4</td>\n",
       "    </tr>\n",
       "    <tr>\n",
       "      <th>19</th>\n",
       "      <td>voc_hour_count_std</td>\n",
       "      <td>98.6</td>\n",
       "    </tr>\n",
       "    <tr>\n",
       "      <th>20</th>\n",
       "      <td>call_dur</td>\n",
       "      <td>97.4</td>\n",
       "    </tr>\n",
       "    <tr>\n",
       "      <th>21</th>\n",
       "      <td>sms_hour_count_mean</td>\n",
       "      <td>95.6</td>\n",
       "    </tr>\n",
       "    <tr>\n",
       "      <th>22</th>\n",
       "      <td>voc_hour</td>\n",
       "      <td>87.2</td>\n",
       "    </tr>\n",
       "    <tr>\n",
       "      <th>23</th>\n",
       "      <td>sms_hour_count_max</td>\n",
       "      <td>78.0</td>\n",
       "    </tr>\n",
       "    <tr>\n",
       "      <th>24</th>\n",
       "      <td>voc_hour_count_mean</td>\n",
       "      <td>69.4</td>\n",
       "    </tr>\n",
       "    <tr>\n",
       "      <th>25</th>\n",
       "      <td>sms_hour</td>\n",
       "      <td>67.0</td>\n",
       "    </tr>\n",
       "    <tr>\n",
       "      <th>26</th>\n",
       "      <td>idcard_cnt</td>\n",
       "      <td>61.2</td>\n",
       "    </tr>\n",
       "    <tr>\n",
       "      <th>27</th>\n",
       "      <td>voc_day_count_max</td>\n",
       "      <td>46.8</td>\n",
       "    </tr>\n",
       "    <tr>\n",
       "      <th>28</th>\n",
       "      <td>sms_day_count_max</td>\n",
       "      <td>39.8</td>\n",
       "    </tr>\n",
       "    <tr>\n",
       "      <th>29</th>\n",
       "      <td>voc_hour_count_max</td>\n",
       "      <td>34.2</td>\n",
       "    </tr>\n",
       "    <tr>\n",
       "      <th>30</th>\n",
       "      <td>sms_day_count_min</td>\n",
       "      <td>31.8</td>\n",
       "    </tr>\n",
       "    <tr>\n",
       "      <th>31</th>\n",
       "      <td>voc_day_count_min</td>\n",
       "      <td>21.4</td>\n",
       "    </tr>\n",
       "    <tr>\n",
       "      <th>32</th>\n",
       "      <td>calltype_id</td>\n",
       "      <td>21.0</td>\n",
       "    </tr>\n",
       "    <tr>\n",
       "      <th>33</th>\n",
       "      <td>voc_hour_count_min</td>\n",
       "      <td>14.2</td>\n",
       "    </tr>\n",
       "    <tr>\n",
       "      <th>34</th>\n",
       "      <td>sms_hour_count_min</td>\n",
       "      <td>5.8</td>\n",
       "    </tr>\n",
       "  </tbody>\n",
       "</table>\n",
       "</div>"
      ],
      "text/plain": [
       "                 column  importance\n",
       "0           arpu_202004       217.8\n",
       "1    sms_day_count_mean       185.4\n",
       "2           county_name       173.2\n",
       "3              flow_min       164.0\n",
       "4               voc_day       162.8\n",
       "5    voc_day_count_mean       160.6\n",
       "6             app_count       143.8\n",
       "7               sms_day       142.0\n",
       "8     voc_day_count_std       133.4\n",
       "9            total_flow       128.0\n",
       "10            sms_count       125.6\n",
       "11            voc_count       124.6\n",
       "12    sms_day_count_std       121.6\n",
       "13            city_name       118.0\n",
       "14             flow_std       109.4\n",
       "15             flow_max       102.6\n",
       "16            flow_mean       101.0\n",
       "17                cents       100.6\n",
       "18   sms_hour_count_std        99.4\n",
       "19   voc_hour_count_std        98.6\n",
       "20             call_dur        97.4\n",
       "21  sms_hour_count_mean        95.6\n",
       "22             voc_hour        87.2\n",
       "23   sms_hour_count_max        78.0\n",
       "24  voc_hour_count_mean        69.4\n",
       "25             sms_hour        67.0\n",
       "26           idcard_cnt        61.2\n",
       "27    voc_day_count_max        46.8\n",
       "28    sms_day_count_max        39.8\n",
       "29   voc_hour_count_max        34.2\n",
       "30    sms_day_count_min        31.8\n",
       "31    voc_day_count_min        21.4\n",
       "32          calltype_id        21.0\n",
       "33   voc_hour_count_min        14.2\n",
       "34   sms_hour_count_min         5.8"
      ]
     },
     "execution_count": 37,
     "metadata": {},
     "output_type": "execute_result"
    }
   ],
   "source": [
    "df_importance = pd.concat(df_importance_list)\n",
    "df_importance = df_importance.groupby(['column'])['importance'].agg(\n",
    "    'mean').sort_values(ascending=False).reset_index()\n",
    "df_importance"
   ]
  },
  {
   "cell_type": "code",
   "execution_count": 38,
   "metadata": {
    "ExecuteTime": {
     "end_time": "2020-06-07T10:47:03.598113Z",
     "start_time": "2020-06-07T10:47:03.581159Z"
    }
   },
   "outputs": [
    {
     "name": "stdout",
     "output_type": "stream",
     "text": [
      "f1: 0.8796095444685466\n"
     ]
    }
   ],
   "source": [
    "df_oof = pd.concat(oof)\n",
    "f1 = f1_score(df_oof[ycol], df_oof['pred'])\n",
    "print('f1:', f1)"
   ]
  },
  {
   "cell_type": "code",
   "execution_count": 39,
   "metadata": {
    "ExecuteTime": {
     "end_time": "2020-06-07T10:47:03.613074Z",
     "start_time": "2020-06-07T10:47:03.600109Z"
    }
   },
   "outputs": [
    {
     "data": {
      "text/html": [
       "<div>\n",
       "<style scoped>\n",
       "    .dataframe tbody tr th:only-of-type {\n",
       "        vertical-align: middle;\n",
       "    }\n",
       "\n",
       "    .dataframe tbody tr th {\n",
       "        vertical-align: top;\n",
       "    }\n",
       "\n",
       "    .dataframe thead th {\n",
       "        text-align: right;\n",
       "    }\n",
       "</style>\n",
       "<table border=\"1\" class=\"dataframe\">\n",
       "  <thead>\n",
       "    <tr style=\"text-align: right;\">\n",
       "      <th></th>\n",
       "      <th>phone_no_m</th>\n",
       "      <th>label</th>\n",
       "    </tr>\n",
       "  </thead>\n",
       "  <tbody>\n",
       "    <tr>\n",
       "      <th>6106</th>\n",
       "      <td>22d522340df77e2252c1a4d92b4bcb00d515e36f3ec6bf94e017b4ffd67e26520af18637ad91bde69abd831cc36cdc0c5af5e57bc280f95f79efef7bfa9c6926</td>\n",
       "      <td>0</td>\n",
       "    </tr>\n",
       "    <tr>\n",
       "      <th>6107</th>\n",
       "      <td>5220d4b8429bdba3971a7b46a088c6b8fa6710f40607598ac1219daab6071510b3f66f78637420574dbb2d5488d44de9d4360a644bbe4ec45aaa4b7513bdc886</td>\n",
       "      <td>0</td>\n",
       "    </tr>\n",
       "    <tr>\n",
       "      <th>6108</th>\n",
       "      <td>7d19dd2b50ced56f03d23bf928cf34dc570a48525571a868ffdcdc53a865b7a41c386a6f1d6567dd4a710530b933308c77d1ef89f77b580d1983dadd3de162ea</td>\n",
       "      <td>0</td>\n",
       "    </tr>\n",
       "    <tr>\n",
       "      <th>6109</th>\n",
       "      <td>134a4a591185c9d3788021896dcfc235e9e0a6a1e3f8a4fd3a9f9d9bf4a033e791b7199db980b0678020bdf689d719306a5c694ffa47b4ba2bec43ceda68dfc1</td>\n",
       "      <td>0</td>\n",
       "    </tr>\n",
       "    <tr>\n",
       "      <th>6110</th>\n",
       "      <td>2356dcd6759d50455ddaeed03c838843558e9182d5962f8a4c81a9a178063c49ab988750f795bb6c5462aee5dace2ad9fd18dbb1a6619dbb1e771e9b0f192da9</td>\n",
       "      <td>0</td>\n",
       "    </tr>\n",
       "  </tbody>\n",
       "</table>\n",
       "</div>"
      ],
      "text/plain": [
       "                                                                                                                            phone_no_m  \\\n",
       "6106  22d522340df77e2252c1a4d92b4bcb00d515e36f3ec6bf94e017b4ffd67e26520af18637ad91bde69abd831cc36cdc0c5af5e57bc280f95f79efef7bfa9c6926   \n",
       "6107  5220d4b8429bdba3971a7b46a088c6b8fa6710f40607598ac1219daab6071510b3f66f78637420574dbb2d5488d44de9d4360a644bbe4ec45aaa4b7513bdc886   \n",
       "6108  7d19dd2b50ced56f03d23bf928cf34dc570a48525571a868ffdcdc53a865b7a41c386a6f1d6567dd4a710530b933308c77d1ef89f77b580d1983dadd3de162ea   \n",
       "6109  134a4a591185c9d3788021896dcfc235e9e0a6a1e3f8a4fd3a9f9d9bf4a033e791b7199db980b0678020bdf689d719306a5c694ffa47b4ba2bec43ceda68dfc1   \n",
       "6110  2356dcd6759d50455ddaeed03c838843558e9182d5962f8a4c81a9a178063c49ab988750f795bb6c5462aee5dace2ad9fd18dbb1a6619dbb1e771e9b0f192da9   \n",
       "\n",
       "      label  \n",
       "6106      0  \n",
       "6107      0  \n",
       "6108      0  \n",
       "6109      0  \n",
       "6110      0  "
      ]
     },
     "execution_count": 39,
     "metadata": {},
     "output_type": "execute_result"
    }
   ],
   "source": [
    "sub = prediction.copy(deep=True)\n",
    "sub['label'] = sub['label'].apply(lambda x: 1 if x>0 else 0)\n",
    "sub.head()"
   ]
  },
  {
   "cell_type": "code",
   "execution_count": 40,
   "metadata": {
    "ExecuteTime": {
     "end_time": "2020-06-07T10:47:03.626038Z",
     "start_time": "2020-06-07T10:47:03.616067Z"
    }
   },
   "outputs": [
    {
     "data": {
      "text/plain": [
       "0    1527\n",
       "1     518\n",
       "Name: label, dtype: int64"
      ]
     },
     "execution_count": 40,
     "metadata": {},
     "output_type": "execute_result"
    }
   ],
   "source": [
    "sub.label.value_counts()"
   ]
  },
  {
   "cell_type": "code",
   "execution_count": 42,
   "metadata": {
    "ExecuteTime": {
     "end_time": "2020-06-07T10:47:25.283749Z",
     "start_time": "2020-06-07T10:47:25.271766Z"
    }
   },
   "outputs": [],
   "source": [
    "sub.to_csv('../sub/baseline_{}.csv'.format(f1), index=False, encoding='utf-8')"
   ]
  },
  {
   "cell_type": "code",
   "execution_count": null,
   "metadata": {},
   "outputs": [],
   "source": []
  }
 ],
 "metadata": {
  "kernelspec": {
   "display_name": "Python 3",
   "language": "python",
   "name": "python3"
  },
  "language_info": {
   "codemirror_mode": {
    "name": "ipython",
    "version": 3
   },
   "file_extension": ".py",
   "mimetype": "text/x-python",
   "name": "python",
   "nbconvert_exporter": "python",
   "pygments_lexer": "ipython3",
   "version": "3.7.3"
  },
  "toc": {
   "base_numbering": 1,
   "nav_menu": {},
   "number_sections": true,
   "sideBar": true,
   "skip_h1_title": false,
   "title_cell": "Table of Contents",
   "title_sidebar": "Contents",
   "toc_cell": false,
   "toc_position": {},
   "toc_section_display": true,
   "toc_window_display": false
  },
  "varInspector": {
   "cols": {
    "lenName": 16,
    "lenType": 16,
    "lenVar": 40
   },
   "kernels_config": {
    "python": {
     "delete_cmd_postfix": "",
     "delete_cmd_prefix": "del ",
     "library": "var_list.py",
     "varRefreshCmd": "print(var_dic_list())"
    },
    "r": {
     "delete_cmd_postfix": ") ",
     "delete_cmd_prefix": "rm(",
     "library": "var_list.r",
     "varRefreshCmd": "cat(var_dic_list()) "
    }
   },
   "types_to_exclude": [
    "module",
    "function",
    "builtin_function_or_method",
    "instance",
    "_Feature"
   ],
   "window_display": false
  }
 },
 "nbformat": 4,
 "nbformat_minor": 2
}
