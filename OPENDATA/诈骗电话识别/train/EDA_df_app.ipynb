{
 "cells": [
  {
   "cell_type": "code",
   "execution_count": 1,
   "metadata": {
    "ExecuteTime": {
     "end_time": "2020-06-17T09:58:00.037020Z",
     "start_time": "2020-06-17T09:57:58.911056Z"
    }
   },
   "outputs": [],
   "source": [
    "import time\n",
    "import numpy as np\n",
    "import pandas as pd\n",
    "import matplotlib.pyplot as plt\n",
    "import seaborn as sns\n",
    "import lightgbm as lgb\n",
    "from scipy import stats\n",
    "import gc\n",
    "import warnings\n",
    "from tqdm import tqdm\n",
    "from sklearn.metrics import f1_score, roc_auc_score\n",
    "from sklearn.model_selection import train_test_split\n",
    "from sklearn.model_selection import StratifiedKFold, KFold\n",
    "from itertools import product\n",
    "from mlxtend.feature_selection import SequentialFeatureSelector\n",
    "\n",
    "warnings.filterwarnings('ignore')\n",
    "\n",
    "pd.set_option('display.unicode.ambiguous_as_wide', True)\n",
    "pd.set_option('display.unicode.east_asian_width', True)\n",
    "pd.set_option('display.max_columns', None)\n",
    "pd.set_option('display.max_rows', None)\n",
    "pd.set_option(\"display.max_colwidth\", 100)\n",
    "pd.set_option('display.width', 1000)"
   ]
  },
  {
   "cell_type": "code",
   "execution_count": 2,
   "metadata": {
    "ExecuteTime": {
     "end_time": "2020-06-17T09:58:00.050915Z",
     "start_time": "2020-06-17T09:58:00.038946Z"
    }
   },
   "outputs": [],
   "source": [
    "# 节省内存读文件\n",
    "def reduce_mem_usage(df):\n",
    "    \"\"\"\n",
    "    iterate through all the columns of a dataframe and modify the data type to reduce memory usage.\n",
    "    @param df:\n",
    "    @return:\n",
    "    \"\"\"\n",
    "    start_mem = df.memory_usage().sum()\n",
    "    print('Memory usage of dataframe is {:.2f} MB'.format(start_mem))\n",
    "\n",
    "    for col in df.columns:\n",
    "        col_type = df[col].dtype\n",
    "\n",
    "        if col_type != object:\n",
    "            c_min = df[col].min()\n",
    "            c_max = df[col].max()\n",
    "            if str(col_type)[:3] == 'int':\n",
    "                if c_min > np.iinfo(np.int8).min and c_max < np.iinfo(np.int8).max:\n",
    "                    df[col] = df[col].astype(np.int8)\n",
    "                elif c_min > np.iinfo(np.int16).min and c_max < np.iinfo(np.int16).max:\n",
    "                    df[col] = df[col].astype(np.int16)\n",
    "                elif c_min > np.iinfo(np.int32).min and c_max < np.iinfo(np.int32).max:\n",
    "                    df[col] = df[col].astype(np.int32)\n",
    "                elif c_min > np.iinfo(np.int64).min and c_max < np.iinfo(np.int64).max:\n",
    "                    df[col] = df[col].astype(np.int64)\n",
    "            else:\n",
    "                if c_min > np.finfo(np.float16).min and c_max < np.finfo(np.float16).max:\n",
    "                    df[col] = df[col].astype(np.float16)\n",
    "                elif c_min > np.finfo(np.float32).min and c_max < np.finfo(np.float32).max:\n",
    "                    df[col] = df[col].astype(np.float32)\n",
    "                else:\n",
    "                    df[col] = df[col].astype(np.float64)\n",
    "        else:\n",
    "            df[col] = df[col].astype('str')\n",
    "\n",
    "    end_mem = df.memory_usage().sum()\n",
    "    print('Memory usage after optimization is: {:.2f} MB'.format(end_mem))\n",
    "    print('Decreased by {:.1f}%'.format(100 * (start_mem - end_mem) / start_mem))\n",
    "    return df"
   ]
  },
  {
   "cell_type": "code",
   "execution_count": 3,
   "metadata": {
    "ExecuteTime": {
     "end_time": "2020-06-17T09:58:04.624366Z",
     "start_time": "2020-06-17T09:58:00.051912Z"
    }
   },
   "outputs": [
    {
     "name": "stdout",
     "output_type": "stream",
     "text": [
      "Memory usage of dataframe is 97824.00 MB\n",
      "Memory usage after optimization is: 55082.00 MB\n",
      "Decreased by 43.7%\n",
      "Memory usage of dataframe is 16488.00 MB\n",
      "Memory usage after optimization is: 16488.00 MB\n",
      "Decreased by 0.0%\n",
      "Memory usage of dataframe is 105075392.00 MB\n",
      "Memory usage after optimization is: 91940984.00 MB\n",
      "Decreased by 12.5%\n",
      "Memory usage of dataframe is 4142624.00 MB\n",
      "Memory usage after optimization is: 3365906.00 MB\n",
      "Decreased by 18.7%\n"
     ]
    }
   ],
   "source": [
    "train_user = reduce_mem_usage(pd.read_csv('../input/train/train_user.csv', usecols=['phone_no_m', 'label']))\n",
    "test_user = reduce_mem_usage(pd.read_csv('../input/test/test_user.csv', usecols=['phone_no_m']))\n",
    "\n",
    "train_app = reduce_mem_usage(pd.read_csv('../input/train/train_app.csv'))\n",
    "test_app = reduce_mem_usage(pd.read_csv('../input/test/test_app.csv'))"
   ]
  },
  {
   "cell_type": "code",
   "execution_count": 4,
   "metadata": {
    "ExecuteTime": {
     "end_time": "2020-06-17T09:58:04.662306Z",
     "start_time": "2020-06-17T09:58:04.625363Z"
    }
   },
   "outputs": [
    {
     "data": {
      "text/plain": [
       "20"
      ]
     },
     "execution_count": 4,
     "metadata": {},
     "output_type": "execute_result"
    }
   ],
   "source": [
    "df_user = pd.concat([train_user, test_user])\n",
    "\n",
    "del train_user, test_user\n",
    "gc.collect()"
   ]
  },
  {
   "cell_type": "code",
   "execution_count": 5,
   "metadata": {
    "ExecuteTime": {
     "end_time": "2020-06-17T09:58:04.903238Z",
     "start_time": "2020-06-17T09:58:04.663261Z"
    }
   },
   "outputs": [],
   "source": [
    "train_app = train_app[train_app['month_id'] == '2020-03']"
   ]
  },
  {
   "cell_type": "code",
   "execution_count": 6,
   "metadata": {
    "ExecuteTime": {
     "end_time": "2020-06-17T09:58:04.909195Z",
     "start_time": "2020-06-17T09:58:04.904208Z"
    }
   },
   "outputs": [
    {
     "data": {
      "text/plain": [
       "Index(['phone_no_m', 'busi_name', 'flow', 'month_id'], dtype='object')"
      ]
     },
     "execution_count": 6,
     "metadata": {},
     "output_type": "execute_result"
    }
   ],
   "source": [
    "train_app.columns"
   ]
  },
  {
   "cell_type": "code",
   "execution_count": 7,
   "metadata": {
    "ExecuteTime": {
     "end_time": "2020-06-17T09:58:04.976065Z",
     "start_time": "2020-06-17T09:58:04.911189Z"
    }
   },
   "outputs": [
    {
     "data": {
      "text/plain": [
       "60"
      ]
     },
     "execution_count": 7,
     "metadata": {},
     "output_type": "execute_result"
    }
   ],
   "source": [
    "df_app = pd.concat([train_app, test_app])\n",
    "\n",
    "del train_app, test_app\n",
    "gc.collect()"
   ]
  },
  {
   "cell_type": "code",
   "execution_count": 8,
   "metadata": {
    "ExecuteTime": {
     "end_time": "2020-06-17T09:58:05.141649Z",
     "start_time": "2020-06-17T09:58:04.978011Z"
    }
   },
   "outputs": [],
   "source": [
    "phone_no_m = df_app[['phone_no_m']].copy()\n",
    "phone_no_m = phone_no_m.drop_duplicates(subset=['phone_no_m'], keep='last')"
   ]
  },
  {
   "cell_type": "code",
   "execution_count": 9,
   "metadata": {
    "ExecuteTime": {
     "end_time": "2020-06-17T09:58:05.349067Z",
     "start_time": "2020-06-17T09:58:05.142571Z"
    }
   },
   "outputs": [
    {
     "data": {
      "text/plain": [
       "40"
      ]
     },
     "execution_count": 9,
     "metadata": {},
     "output_type": "execute_result"
    }
   ],
   "source": [
    "# APP数\n",
    "tmp = df_app.groupby('phone_no_m')['busi_name'].agg(busi_cnt='count')\n",
    "phone_no_m = phone_no_m.merge(tmp, on='phone_no_m', how='left')\n",
    "del tmp\n",
    "gc.collect()"
   ]
  },
  {
   "cell_type": "code",
   "execution_count": 10,
   "metadata": {
    "ExecuteTime": {
     "end_time": "2020-06-17T09:58:05.549502Z",
     "start_time": "2020-06-17T09:58:05.350067Z"
    }
   },
   "outputs": [
    {
     "data": {
      "text/plain": [
       "20"
      ]
     },
     "execution_count": 10,
     "metadata": {},
     "output_type": "execute_result"
    }
   ],
   "source": [
    "\"\"\"\n",
    "流量统计\n",
    "\"\"\"\n",
    "tmp = df_app.groupby(\"phone_no_m\")[\"flow\"].agg(flow_mean='mean',\n",
    "                                               flow_median='median',\n",
    "                                               flow_min='min',\n",
    "                                               flow_max='max',\n",
    "                                               flow_std='std',\n",
    "                                               flow_sum='sum')\n",
    "phone_no_m = phone_no_m.merge(tmp, on='phone_no_m', how='left')\n",
    "\n",
    "del tmp\n",
    "gc.collect()"
   ]
  },
  {
   "cell_type": "code",
   "execution_count": 11,
   "metadata": {
    "ExecuteTime": {
     "end_time": "2020-06-17T09:58:05.599363Z",
     "start_time": "2020-06-17T09:58:05.550494Z"
    }
   },
   "outputs": [
    {
     "data": {
      "text/plain": [
       "20"
      ]
     },
     "execution_count": 11,
     "metadata": {},
     "output_type": "execute_result"
    }
   ],
   "source": [
    "df_app = df_user.merge(phone_no_m, how='left', on='phone_no_m')\n",
    "\n",
    "del df_user, phone_no_m\n",
    "gc.collect()"
   ]
  },
  {
   "cell_type": "code",
   "execution_count": 12,
   "metadata": {
    "ExecuteTime": {
     "end_time": "2020-06-17T09:58:05.611332Z",
     "start_time": "2020-06-17T09:58:05.600360Z"
    }
   },
   "outputs": [
    {
     "data": {
      "text/plain": [
       "((6106, 9), (2045, 9))"
      ]
     },
     "execution_count": 12,
     "metadata": {},
     "output_type": "execute_result"
    }
   ],
   "source": [
    "df_app_train = df_app[df_app.label.notna()]\n",
    "df_app_test = df_app[df_app.label.isna()]\n",
    "\n",
    "df_app_train.shape, df_app_test.shape"
   ]
  },
  {
   "cell_type": "code",
   "execution_count": 13,
   "metadata": {
    "ExecuteTime": {
     "end_time": "2020-06-17T09:58:05.621305Z",
     "start_time": "2020-06-17T09:58:05.613326Z"
    }
   },
   "outputs": [],
   "source": [
    "X_train, X_valid, y_train, y_valid = train_test_split(df_app_train.drop('label', axis=1), df_app_train['label'],\n",
    "                                                      test_size=0.2,\n",
    "                                                      random_state=2020)"
   ]
  },
  {
   "cell_type": "code",
   "execution_count": 14,
   "metadata": {
    "ExecuteTime": {
     "end_time": "2020-06-17T09:58:05.626292Z",
     "start_time": "2020-06-17T09:58:05.622302Z"
    }
   },
   "outputs": [],
   "source": [
    "train_cols = [i for i in X_train if i not in ['phone_no_m', 'label']]"
   ]
  },
  {
   "cell_type": "code",
   "execution_count": 15,
   "metadata": {
    "ExecuteTime": {
     "end_time": "2020-06-17T09:58:05.634271Z",
     "start_time": "2020-06-17T09:58:05.627289Z"
    }
   },
   "outputs": [],
   "source": [
    "params = {'objective': 'binary',\n",
    "          'boosting': 'gbdt',\n",
    "          'metric': 'auc',\n",
    "          'learning_rate': 0.1,\n",
    "          'num_leaves': 31,\n",
    "          'lambda_l1': 0,\n",
    "          'lambda_l2': 1,\n",
    "          'min_data_in_leaf': 20,\n",
    "          'is_unbalance': True,\n",
    "          'max_depth': -1,\n",
    "          'seed': 2020}"
   ]
  },
  {
   "cell_type": "code",
   "execution_count": 16,
   "metadata": {
    "ExecuteTime": {
     "end_time": "2020-06-17T09:58:06.329428Z",
     "start_time": "2020-06-17T09:58:05.637263Z"
    }
   },
   "outputs": [
    {
     "name": "stdout",
     "output_type": "stream",
     "text": [
      "busi_cnt\n",
      "Training until validation scores don't improve for 50 rounds\n",
      "[20]\ttraining's auc: 0.837256\tvalid_0's auc: 0.813981\n",
      "[40]\ttraining's auc: 0.839626\tvalid_0's auc: 0.813101\n",
      "Early stopping, best iteration is:\n",
      "[3]\ttraining's auc: 0.832706\tvalid_0's auc: 0.81444\n",
      "*****\n",
      "0.8144401396661405\n",
      "********************\n",
      "\n",
      "\n",
      "flow_mean\n",
      "Training until validation scores don't improve for 50 rounds\n",
      "[20]\ttraining's auc: 0.828839\tvalid_0's auc: 0.777879\n",
      "[40]\ttraining's auc: 0.832328\tvalid_0's auc: 0.777234\n",
      "[60]\ttraining's auc: 0.834198\tvalid_0's auc: 0.776827\n",
      "Early stopping, best iteration is:\n",
      "[16]\ttraining's auc: 0.827556\tvalid_0's auc: 0.778441\n",
      "*****\n",
      "0.7784414310996317\n",
      "********************\n",
      "\n",
      "\n",
      "flow_median\n",
      "Training until validation scores don't improve for 50 rounds\n",
      "[20]\ttraining's auc: 0.82826\tvalid_0's auc: 0.77835\n",
      "[40]\ttraining's auc: 0.831198\tvalid_0's auc: 0.776839\n",
      "Early stopping, best iteration is:\n",
      "[9]\ttraining's auc: 0.82564\tvalid_0's auc: 0.778903\n",
      "*****\n",
      "0.7789032979384894\n",
      "********************\n",
      "\n",
      "\n",
      "flow_min\n",
      "Training until validation scores don't improve for 50 rounds\n",
      "[20]\ttraining's auc: 0.824803\tvalid_0's auc: 0.790356\n",
      "[40]\ttraining's auc: 0.828119\tvalid_0's auc: 0.790499\n",
      "Early stopping, best iteration is:\n",
      "[6]\ttraining's auc: 0.819968\tvalid_0's auc: 0.795462\n",
      "*****\n",
      "0.7954617472616827\n",
      "********************\n",
      "\n",
      "\n",
      "flow_max\n",
      "Training until validation scores don't improve for 50 rounds\n",
      "[20]\ttraining's auc: 0.828262\tvalid_0's auc: 0.798735\n",
      "[40]\ttraining's auc: 0.830961\tvalid_0's auc: 0.798521\n",
      "Early stopping, best iteration is:\n",
      "[8]\ttraining's auc: 0.825513\tvalid_0's auc: 0.801227\n",
      "*****\n",
      "0.8012268618166164\n",
      "********************\n",
      "\n",
      "\n",
      "flow_std\n",
      "Training until validation scores don't improve for 50 rounds\n",
      "[20]\ttraining's auc: 0.811332\tvalid_0's auc: 0.768461\n",
      "[40]\ttraining's auc: 0.81409\tvalid_0's auc: 0.765724\n",
      "Early stopping, best iteration is:\n",
      "[6]\ttraining's auc: 0.806724\tvalid_0's auc: 0.771443\n",
      "*****\n",
      "0.7714431769263883\n",
      "********************\n",
      "\n",
      "\n",
      "flow_sum\n",
      "Training until validation scores don't improve for 50 rounds\n",
      "[20]\ttraining's auc: 0.832452\tvalid_0's auc: 0.805143\n",
      "[40]\ttraining's auc: 0.835296\tvalid_0's auc: 0.805047\n",
      "[60]\ttraining's auc: 0.836972\tvalid_0's auc: 0.805088\n",
      "[80]\ttraining's auc: 0.837813\tvalid_0's auc: 0.804526\n",
      "Early stopping, best iteration is:\n",
      "[32]\ttraining's auc: 0.834272\tvalid_0's auc: 0.805947\n",
      "*****\n",
      "0.8059471708040369\n",
      "********************\n",
      "\n",
      "\n"
     ]
    }
   ],
   "source": [
    "useful_cols = []\n",
    "useless_cols = []\n",
    "\n",
    "for i in train_cols:\n",
    "    print(i)\n",
    "    lgb_train = lgb.Dataset(X_train[[i]].values, y_train) \n",
    "    lgb_eval= lgb.Dataset(X_valid[[i]].values, y_valid, reference=lgb_train)\n",
    "    lgb_test = lgb.train(params,\n",
    "                         lgb_train,\n",
    "                         num_boost_round=1000,\n",
    "                         valid_sets=[lgb_eval, lgb_train],\n",
    "                         early_stopping_rounds=50,\n",
    "                         verbose_eval=20)\n",
    "    \n",
    "    print('*' * 5)\n",
    "    print(lgb_test.best_score['valid_0']['auc'])\n",
    "    if lgb_test.best_score['valid_0']['auc'] > 0.50:\n",
    "        useful_cols.append(i)\n",
    "    else:\n",
    "        useless_cols.append(i)\n",
    "    print('*' * 20)\n",
    "    print('\\n')"
   ]
  },
  {
   "cell_type": "code",
   "execution_count": 17,
   "metadata": {
    "ExecuteTime": {
     "end_time": "2020-06-17T09:58:06.335412Z",
     "start_time": "2020-06-17T09:58:06.331422Z"
    }
   },
   "outputs": [
    {
     "name": "stdout",
     "output_type": "stream",
     "text": [
      "['busi_cnt', 'flow_mean', 'flow_median', 'flow_min', 'flow_max', 'flow_std', 'flow_sum']\n",
      "7\n"
     ]
    }
   ],
   "source": [
    "print(useful_cols)\n",
    "print(len(useful_cols))"
   ]
  },
  {
   "cell_type": "code",
   "execution_count": 18,
   "metadata": {
    "ExecuteTime": {
     "end_time": "2020-06-17T09:58:06.351392Z",
     "start_time": "2020-06-17T09:58:06.336925Z"
    }
   },
   "outputs": [
    {
     "name": "stdout",
     "output_type": "stream",
     "text": [
      "[]\n",
      "0\n"
     ]
    }
   ],
   "source": [
    "print(useless_cols)\n",
    "print(len(useless_cols))"
   ]
  },
  {
   "cell_type": "code",
   "execution_count": 19,
   "metadata": {
    "ExecuteTime": {
     "end_time": "2020-06-17T09:58:06.606703Z",
     "start_time": "2020-06-17T09:58:06.353382Z"
    }
   },
   "outputs": [
    {
     "name": "stdout",
     "output_type": "stream",
     "text": [
      "Start training...\n",
      "Training until validation scores don't improve for 100 rounds\n",
      "[10]\ttraining's auc: 0.864065\tvalid_0's auc: 0.822678\n",
      "[20]\ttraining's auc: 0.877054\tvalid_0's auc: 0.822009\n",
      "[30]\ttraining's auc: 0.885291\tvalid_0's auc: 0.817942\n",
      "[40]\ttraining's auc: 0.889476\tvalid_0's auc: 0.816549\n",
      "[50]\ttraining's auc: 0.892871\tvalid_0's auc: 0.813603\n",
      "[60]\ttraining's auc: 0.894944\tvalid_0's auc: 0.811201\n",
      "[70]\ttraining's auc: 0.897043\tvalid_0's auc: 0.809134\n",
      "[80]\ttraining's auc: 0.898777\tvalid_0's auc: 0.807923\n",
      "[90]\ttraining's auc: 0.90041\tvalid_0's auc: 0.805573\n",
      "[100]\ttraining's auc: 0.901481\tvalid_0's auc: 0.806593\n",
      "[110]\ttraining's auc: 0.90249\tvalid_0's auc: 0.804883\n",
      "Early stopping, best iteration is:\n",
      "[18]\ttraining's auc: 0.874763\tvalid_0's auc: 0.822882\n"
     ]
    }
   ],
   "source": [
    "lgb_train = lgb.Dataset(X_train[useful_cols].values, y_train) \n",
    "\n",
    "lgb_eval= lgb.Dataset(X_valid[useful_cols].values, y_valid, reference=lgb_train)  \n",
    "\n",
    "print('Start training...')\n",
    "\n",
    "lgb_valid = lgb.train(params,\n",
    "                      lgb_train,\n",
    "                      num_boost_round=10000,\n",
    "                      valid_sets=[lgb_eval, lgb_train],\n",
    "                      early_stopping_rounds=100,\n",
    "                      verbose_eval=10)"
   ]
  },
  {
   "cell_type": "code",
   "execution_count": 20,
   "metadata": {
    "ExecuteTime": {
     "end_time": "2020-06-17T09:58:06.630656Z",
     "start_time": "2020-06-17T09:58:06.607701Z"
    }
   },
   "outputs": [
    {
     "name": "stdout",
     "output_type": "stream",
     "text": [
      "f1_05:  0.7221\n",
      "auc_05:  0.8228822882288228\n"
     ]
    }
   ],
   "source": [
    "# 验证集结果\n",
    "X_valid['prob'] = lgb_valid.predict(X_valid[useful_cols])\n",
    "X_valid['pred'] = np.where(X_valid['prob'] > 0.5, 1, 0)\n",
    "\n",
    "f1_05 = np.round(f1_score(y_valid, X_valid['pred']), 4)\n",
    "auc_05 = roc_auc_score(y_valid, X_valid['prob'])\n",
    "\n",
    "print('f1_05: ', f1_05)\n",
    "print('auc_05: ', auc_05)"
   ]
  },
  {
   "cell_type": "code",
   "execution_count": 21,
   "metadata": {
    "ExecuteTime": {
     "end_time": "2020-06-17T09:58:06.714431Z",
     "start_time": "2020-06-17T09:58:06.632650Z"
    }
   },
   "outputs": [
    {
     "name": "stdout",
     "output_type": "stream",
     "text": [
      "Start training...\n"
     ]
    }
   ],
   "source": [
    "lgb_train_all = lgb.Dataset(df_app_train[useful_cols].values, df_app_train['label'])   \n",
    "\n",
    "print('Start training...')\n",
    "\n",
    "lgb_train = lgb.train(params,\n",
    "                      lgb_train_all,\n",
    "                      num_boost_round=lgb_valid.best_iteration + 20,\n",
    "                      verbose_eval=10)"
   ]
  },
  {
   "cell_type": "code",
   "execution_count": 22,
   "metadata": {
    "ExecuteTime": {
     "end_time": "2020-06-17T09:58:06.759310Z",
     "start_time": "2020-06-17T09:58:06.720415Z"
    }
   },
   "outputs": [],
   "source": [
    "df_app_test['label'] = np.where(lgb_train.predict(df_app_test[useful_cols]) > 0.5, 1, 0)\n",
    "df_app_test[['phone_no_m', 'label']].to_csv('../sub/sub_{}_{}.csv'.format(time.strftime('%Y%m%d'), f1_05), index=False)"
   ]
  }
 ],
 "metadata": {
  "kernelspec": {
   "display_name": "Python 3",
   "language": "python",
   "name": "python3"
  },
  "language_info": {
   "codemirror_mode": {
    "name": "ipython",
    "version": 3
   },
   "file_extension": ".py",
   "mimetype": "text/x-python",
   "name": "python",
   "nbconvert_exporter": "python",
   "pygments_lexer": "ipython3",
   "version": "3.7.3"
  },
  "toc": {
   "base_numbering": 1,
   "nav_menu": {},
   "number_sections": true,
   "sideBar": true,
   "skip_h1_title": false,
   "title_cell": "Table of Contents",
   "title_sidebar": "Contents",
   "toc_cell": false,
   "toc_position": {},
   "toc_section_display": true,
   "toc_window_display": false
  },
  "varInspector": {
   "cols": {
    "lenName": 16,
    "lenType": 16,
    "lenVar": 40
   },
   "kernels_config": {
    "python": {
     "delete_cmd_postfix": "",
     "delete_cmd_prefix": "del ",
     "library": "var_list.py",
     "varRefreshCmd": "print(var_dic_list())"
    },
    "r": {
     "delete_cmd_postfix": ") ",
     "delete_cmd_prefix": "rm(",
     "library": "var_list.r",
     "varRefreshCmd": "cat(var_dic_list()) "
    }
   },
   "types_to_exclude": [
    "module",
    "function",
    "builtin_function_or_method",
    "instance",
    "_Feature"
   ],
   "window_display": false
  }
 },
 "nbformat": 4,
 "nbformat_minor": 4
}
