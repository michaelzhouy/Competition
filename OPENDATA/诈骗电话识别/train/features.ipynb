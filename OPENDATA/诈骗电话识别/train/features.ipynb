{
 "cells": [
  {
   "cell_type": "code",
   "execution_count": 1,
   "metadata": {
    "ExecuteTime": {
     "end_time": "2020-06-08T16:16:10.910043Z",
     "start_time": "2020-06-08T16:16:08.458943Z"
    }
   },
   "outputs": [],
   "source": [
    "import numpy as np\n",
    "import pandas as pd\n",
    "from tqdm import tqdm\n",
    "from sklearn.model_selection import StratifiedKFold, KFold\n",
    "from sklearn.preprocessing import LabelEncoder\n",
    "from itertools import product\n",
    "import lightgbm as lgb\n",
    "from sklearn.metrics import f1_score\n",
    "import gc\n",
    "import warnings\n",
    "warnings.filterwarnings('ignore')\n",
    "\n",
    "pd.set_option('max_columns', None)\n",
    "pd.set_option('max_rows', None)\n",
    "pd.set_option('max_colwidth', 200)"
   ]
  },
  {
   "cell_type": "code",
   "execution_count": 2,
   "metadata": {
    "ExecuteTime": {
     "end_time": "2020-06-08T16:16:10.923039Z",
     "start_time": "2020-06-08T16:16:10.913045Z"
    }
   },
   "outputs": [],
   "source": [
    "# count编码\n",
    "def count_coding(df, fea_col):\n",
    "    for f in fea_col:\n",
    "        df[f + '_count'] = df[f].map(df[f].value_counts())\n",
    "    return df\n",
    "\n",
    "# 交叉特征统计\n",
    "def cross_cat_num(df, num_col, cat_col):\n",
    "    for f1 in tqdm(cat_col):\n",
    "        g = df.groupby(f1, as_index=False)\n",
    "        for f2 in tqdm(num_col):\n",
    "            feat = g[f2].agg({\n",
    "                '{}_{}_max'.format(f1, f2): 'max',\n",
    "                '{}_{}_min'.format(f1, f2): 'min',\n",
    "                '{}_{}_median'.format(f1, f2): 'median'\n",
    "            })\n",
    "            df = df.merge(feat, on=f1, how='left')\n",
    "    return df"
   ]
  },
  {
   "cell_type": "code",
   "execution_count": 3,
   "metadata": {
    "ExecuteTime": {
     "end_time": "2020-06-08T16:16:10.963016Z",
     "start_time": "2020-06-08T16:16:10.927038Z"
    }
   },
   "outputs": [],
   "source": [
    "class MeanEncoder:\n",
    "    def __init__(self, categorical_features, n_splits=10, target_type='classification', prior_weight_func=None):\n",
    "        \"\"\"\n",
    "        :param categorical_features: list of str, the name of the categorical columns to encode\n",
    " \n",
    "        :param n_splits: the number of splits used in mean encoding\n",
    " \n",
    "        :param target_type: str, 'regression' or 'classification'\n",
    " \n",
    "        :param prior_weight_func:\n",
    "        a function that takes in the number of observations, and outputs prior weight\n",
    "        when a dict is passed, the default exponential decay function will be used:\n",
    "        k: the number of observations needed for the posterior to be weighted equally as the prior\n",
    "        f: larger f --> smaller slope\n",
    "        \"\"\"\n",
    " \n",
    "        self.categorical_features = categorical_features\n",
    "        self.n_splits = n_splits\n",
    "        self.learned_stats = {}\n",
    " \n",
    "        if target_type == 'classification':\n",
    "            self.target_type = target_type\n",
    "            self.target_values = []\n",
    "        else:\n",
    "            self.target_type = 'regression'\n",
    "            self.target_values = None\n",
    " \n",
    "        if isinstance(prior_weight_func, dict):\n",
    "            self.prior_weight_func = eval('lambda x: 1 / (1 + np.exp((x - k) / f))', dict(prior_weight_func, np=np))\n",
    "        elif callable(prior_weight_func):\n",
    "            self.prior_weight_func = prior_weight_func\n",
    "        else:\n",
    "            self.prior_weight_func = lambda x: 1 / (1 + np.exp((x - 2) / 1))\n",
    " \n",
    "    @staticmethod\n",
    "    def mean_encode_subroutine(X_train, y_train, X_test, variable, target, prior_weight_func):\n",
    "        X_train = X_train[[variable]].copy()\n",
    "        X_test = X_test[[variable]].copy()\n",
    " \n",
    "        if target is not None:\n",
    "            nf_name = '{}_pred_{}'.format(variable, target)\n",
    "            X_train['pred_temp'] = (y_train == target).astype(int)  # classification\n",
    "        else:\n",
    "            nf_name = '{}_pred'.format(variable)\n",
    "            X_train['pred_temp'] = y_train  # regression\n",
    "        prior = X_train['pred_temp'].mean()\n",
    " \n",
    "        col_avg_y = X_train.groupby(by=variable, axis=0)['pred_temp'].agg(['mean', 'size'])\n",
    "        col_avg_y['size'] = prior_weight_func(col_avg_y['size'])\n",
    "        col_avg_y[nf_name] = col_avg_y['size'] * prior + (1 - col_avg_y['size']) * col_avg_y['mean']\n",
    "        col_avg_y.drop(['size', 'mean'], axis=1, inplace=True)\n",
    " \n",
    "        nf_train = X_train.join(col_avg_y, on=variable)[nf_name].values\n",
    "        nf_test = X_test.join(col_avg_y, on=variable).fillna(prior, inplace=False)[nf_name].values\n",
    " \n",
    "        return nf_train, nf_test, prior, col_avg_y\n",
    " \n",
    "    def fit_transform(self, X, y):\n",
    "        \"\"\"\n",
    "        :param X: pandas DataFrame, n_samples * n_features\n",
    "        :param y: pandas Series or numpy array, n_samples\n",
    "        :return X_new: the transformed pandas DataFrame containing mean-encoded categorical features\n",
    "        \"\"\"\n",
    "        X_new = X.copy()\n",
    "        if self.target_type == 'classification':\n",
    "            skf = StratifiedKFold(self.n_splits)\n",
    "        else:\n",
    "            skf = KFold(self.n_splits)\n",
    " \n",
    "        if self.target_type == 'classification':\n",
    "            self.target_values = sorted(set(y))\n",
    "            self.learned_stats = {'{}_pred_{}'.format(variable, target): [] for variable, target in\n",
    "                                  product(self.categorical_features, self.target_values)}\n",
    "            for variable, target in product(self.categorical_features, self.target_values):\n",
    "                nf_name = '{}_pred_{}'.format(variable, target)\n",
    "                X_new.loc[:, nf_name] = np.nan\n",
    "                for large_ind, small_ind in skf.split(X, y):\n",
    "                    nf_large, nf_small, prior, col_avg_y = MeanEncoder.mean_encode_subroutine(\n",
    "                        X_new.iloc[large_ind], y.iloc[large_ind], X_new.iloc[small_ind], variable, target, self.prior_weight_func)\n",
    "                    X_new.iloc[small_ind, -1] = nf_small\n",
    "                    self.learned_stats[nf_name].append((prior, col_avg_y))\n",
    "        else:\n",
    "            self.learned_stats = {'{}_pred'.format(variable): [] for variable in self.categorical_features}\n",
    "            for variable in self.categorical_features:\n",
    "                nf_name = '{}_pred'.format(variable)\n",
    "                X_new.loc[:, nf_name] = np.nan\n",
    "                for large_ind, small_ind in skf.split(X, y):\n",
    "                    nf_large, nf_small, prior, col_avg_y = MeanEncoder.mean_encode_subroutine(\n",
    "                        X_new.iloc[large_ind], y.iloc[large_ind], X_new.iloc[small_ind], variable, None, self.prior_weight_func)\n",
    "                    X_new.iloc[small_ind, -1] = nf_small\n",
    "                    self.learned_stats[nf_name].append((prior, col_avg_y))\n",
    "        return X_new\n",
    " \n",
    "    def transform(self, X):\n",
    "        \"\"\"\n",
    "        :param X: pandas DataFrame, n_samples * n_features\n",
    "        :return X_new: the transformed pandas DataFrame containing mean-encoded categorical features\n",
    "        \"\"\"\n",
    "        X_new = X.copy()\n",
    " \n",
    "        if self.target_type == 'classification':\n",
    "            for variable, target in product(self.categorical_features, self.target_values):\n",
    "                nf_name = '{}_pred_{}'.format(variable, target)\n",
    "                X_new[nf_name] = 0\n",
    "                for prior, col_avg_y in self.learned_stats[nf_name]:\n",
    "                    X_new[nf_name] += X_new[[variable]].join(col_avg_y, on=variable).fillna(prior, inplace=False)[\n",
    "                        nf_name]\n",
    "                X_new[nf_name] /= self.n_splits\n",
    "        else:\n",
    "            for variable in self.categorical_features:\n",
    "                nf_name = '{}_pred'.format(variable)\n",
    "                X_new[nf_name] = 0\n",
    "                for prior, col_avg_y in self.learned_stats[nf_name]:\n",
    "                    X_new[nf_name] += X_new[[variable]].join(col_avg_y, on=variable).fillna(prior, inplace=False)[\n",
    "                        nf_name]\n",
    "                X_new[nf_name] /= self.n_splits\n",
    " \n",
    "        return X_new"
   ]
  },
  {
   "cell_type": "markdown",
   "metadata": {},
   "source": [
    "### 用户表"
   ]
  },
  {
   "cell_type": "code",
   "execution_count": 4,
   "metadata": {
    "ExecuteTime": {
     "end_time": "2020-06-08T16:16:11.098940Z",
     "start_time": "2020-06-08T16:16:10.966016Z"
    }
   },
   "outputs": [],
   "source": [
    "train_user = pd.read_hdf('../input/train_user.h5')\n",
    "test_user = pd.read_hdf('../input/test_user.h5')"
   ]
  },
  {
   "cell_type": "code",
   "execution_count": 5,
   "metadata": {
    "ExecuteTime": {
     "end_time": "2020-06-08T16:16:11.121926Z",
     "start_time": "2020-06-08T16:16:11.100938Z"
    }
   },
   "outputs": [
    {
     "data": {
      "text/html": [
       "<div>\n",
       "<style scoped>\n",
       "    .dataframe tbody tr th:only-of-type {\n",
       "        vertical-align: middle;\n",
       "    }\n",
       "\n",
       "    .dataframe tbody tr th {\n",
       "        vertical-align: top;\n",
       "    }\n",
       "\n",
       "    .dataframe thead th {\n",
       "        text-align: right;\n",
       "    }\n",
       "</style>\n",
       "<table border=\"1\" class=\"dataframe\">\n",
       "  <thead>\n",
       "    <tr style=\"text-align: right;\">\n",
       "      <th></th>\n",
       "      <th>phone_no_m</th>\n",
       "      <th>city_name</th>\n",
       "      <th>county_name</th>\n",
       "      <th>idcard_cnt</th>\n",
       "      <th>label</th>\n",
       "      <th>arpu_202004</th>\n",
       "    </tr>\n",
       "  </thead>\n",
       "  <tbody>\n",
       "    <tr>\n",
       "      <th>0</th>\n",
       "      <td>672ddbf02a5544d32e4ecc9433b1981bffe23bf912273a3a835f6cccb78b8ed7554e9ab0fbcd33d19eb6063ce00542dd223cc5cc83c68f07bcf933547b6776b1</td>\n",
       "      <td>绵阳</td>\n",
       "      <td>江油分公司</td>\n",
       "      <td>1</td>\n",
       "      <td>0</td>\n",
       "      <td>45.000000</td>\n",
       "    </tr>\n",
       "    <tr>\n",
       "      <th>1</th>\n",
       "      <td>5e1272273e041e82cb275ae877710be98cdaf5b0a8f34de8d361f71d5268fa0851edffd3950e170df1e3846fcf90cc7cc8299be9139a2ac4b5c5e5121d832674</td>\n",
       "      <td>德阳</td>\n",
       "      <td>旌阳分公司</td>\n",
       "      <td>1</td>\n",
       "      <td>0</td>\n",
       "      <td>60.000000</td>\n",
       "    </tr>\n",
       "    <tr>\n",
       "      <th>2</th>\n",
       "      <td>eaab3472ec87b076e69e6e8bb62b14341638fc63661a6c682d6add360a4332a8ad294d8470d64a73c6e53e8413f0ad93b9ea65afab717e58d312554f33553ee7</td>\n",
       "      <td>成都</td>\n",
       "      <td>金堂分公司</td>\n",
       "      <td>2</td>\n",
       "      <td>0</td>\n",
       "      <td>63.000000</td>\n",
       "    </tr>\n",
       "    <tr>\n",
       "      <th>3</th>\n",
       "      <td>0ce1bb415704178bf44e9c9b431a39b083a132c8e6d99f3627cd4520064b93ec66a72d085a67f0f40eebb9f901072965073e398f04c4ae500a1db4dfb13a972c</td>\n",
       "      <td>成都</td>\n",
       "      <td>高新分公司</td>\n",
       "      <td>2</td>\n",
       "      <td>0</td>\n",
       "      <td>23.203125</td>\n",
       "    </tr>\n",
       "    <tr>\n",
       "      <th>4</th>\n",
       "      <td>28b87f35f63f65096a53e3a4c97eaffd4a6c43ffa7e92d7706b20520aa11fff0f4ce06203f66758ec0f0e70780e4e258aae6aa1f23439e115528e08eda71ed20</td>\n",
       "      <td>德阳</td>\n",
       "      <td>旌阳分公司</td>\n",
       "      <td>1</td>\n",
       "      <td>0</td>\n",
       "      <td>50.000000</td>\n",
       "    </tr>\n",
       "  </tbody>\n",
       "</table>\n",
       "</div>"
      ],
      "text/plain": [
       "                                                                                                                         phone_no_m  \\\n",
       "0  672ddbf02a5544d32e4ecc9433b1981bffe23bf912273a3a835f6cccb78b8ed7554e9ab0fbcd33d19eb6063ce00542dd223cc5cc83c68f07bcf933547b6776b1   \n",
       "1  5e1272273e041e82cb275ae877710be98cdaf5b0a8f34de8d361f71d5268fa0851edffd3950e170df1e3846fcf90cc7cc8299be9139a2ac4b5c5e5121d832674   \n",
       "2  eaab3472ec87b076e69e6e8bb62b14341638fc63661a6c682d6add360a4332a8ad294d8470d64a73c6e53e8413f0ad93b9ea65afab717e58d312554f33553ee7   \n",
       "3  0ce1bb415704178bf44e9c9b431a39b083a132c8e6d99f3627cd4520064b93ec66a72d085a67f0f40eebb9f901072965073e398f04c4ae500a1db4dfb13a972c   \n",
       "4  28b87f35f63f65096a53e3a4c97eaffd4a6c43ffa7e92d7706b20520aa11fff0f4ce06203f66758ec0f0e70780e4e258aae6aa1f23439e115528e08eda71ed20   \n",
       "\n",
       "  city_name county_name  idcard_cnt  label  arpu_202004  \n",
       "0        绵阳       江油分公司           1      0    45.000000  \n",
       "1        德阳       旌阳分公司           1      0    60.000000  \n",
       "2        成都       金堂分公司           2      0    63.000000  \n",
       "3        成都       高新分公司           2      0    23.203125  \n",
       "4        德阳       旌阳分公司           1      0    50.000000  "
      ]
     },
     "execution_count": 5,
     "metadata": {},
     "output_type": "execute_result"
    }
   ],
   "source": [
    "train_user.head()"
   ]
  },
  {
   "cell_type": "code",
   "execution_count": 6,
   "metadata": {
    "ExecuteTime": {
     "end_time": "2020-06-08T16:16:11.137917Z",
     "start_time": "2020-06-08T16:16:11.124925Z"
    }
   },
   "outputs": [
    {
     "data": {
      "text/html": [
       "<div>\n",
       "<style scoped>\n",
       "    .dataframe tbody tr th:only-of-type {\n",
       "        vertical-align: middle;\n",
       "    }\n",
       "\n",
       "    .dataframe tbody tr th {\n",
       "        vertical-align: top;\n",
       "    }\n",
       "\n",
       "    .dataframe thead th {\n",
       "        text-align: right;\n",
       "    }\n",
       "</style>\n",
       "<table border=\"1\" class=\"dataframe\">\n",
       "  <thead>\n",
       "    <tr style=\"text-align: right;\">\n",
       "      <th></th>\n",
       "      <th>phone_no_m</th>\n",
       "      <th>city_name</th>\n",
       "      <th>county_name</th>\n",
       "      <th>idcard_cnt</th>\n",
       "      <th>arpu_202004</th>\n",
       "    </tr>\n",
       "  </thead>\n",
       "  <tbody>\n",
       "    <tr>\n",
       "      <th>0</th>\n",
       "      <td>22d522340df77e2252c1a4d92b4bcb00d515e36f3ec6bf94e017b4ffd67e26520af18637ad91bde69abd831cc36cdc0c5af5e57bc280f95f79efef7bfa9c6926</td>\n",
       "      <td>成都</td>\n",
       "      <td>金牛分公司</td>\n",
       "      <td>1</td>\n",
       "      <td>9.00</td>\n",
       "    </tr>\n",
       "    <tr>\n",
       "      <th>1</th>\n",
       "      <td>5220d4b8429bdba3971a7b46a088c6b8fa6710f40607598ac1219daab6071510b3f66f78637420574dbb2d5488d44de9d4360a644bbe4ec45aaa4b7513bdc886</td>\n",
       "      <td>天府新区</td>\n",
       "      <td>天府直属部门</td>\n",
       "      <td>1</td>\n",
       "      <td>NaN</td>\n",
       "    </tr>\n",
       "    <tr>\n",
       "      <th>2</th>\n",
       "      <td>7d19dd2b50ced56f03d23bf928cf34dc570a48525571a868ffdcdc53a865b7a41c386a6f1d6567dd4a710530b933308c77d1ef89f77b580d1983dadd3de162ea</td>\n",
       "      <td>成都</td>\n",
       "      <td>锦江分公司</td>\n",
       "      <td>1</td>\n",
       "      <td>9.00</td>\n",
       "    </tr>\n",
       "    <tr>\n",
       "      <th>3</th>\n",
       "      <td>134a4a591185c9d3788021896dcfc235e9e0a6a1e3f8a4fd3a9f9d9bf4a033e791b7199db980b0678020bdf689d719306a5c694ffa47b4ba2bec43ceda68dfc1</td>\n",
       "      <td>绵阳</td>\n",
       "      <td>江油分公司</td>\n",
       "      <td>1</td>\n",
       "      <td>138.75</td>\n",
       "    </tr>\n",
       "    <tr>\n",
       "      <th>4</th>\n",
       "      <td>2356dcd6759d50455ddaeed03c838843558e9182d5962f8a4c81a9a178063c49ab988750f795bb6c5462aee5dace2ad9fd18dbb1a6619dbb1e771e9b0f192da9</td>\n",
       "      <td>成都</td>\n",
       "      <td>青羊分公司</td>\n",
       "      <td>2</td>\n",
       "      <td>39.00</td>\n",
       "    </tr>\n",
       "  </tbody>\n",
       "</table>\n",
       "</div>"
      ],
      "text/plain": [
       "                                                                                                                         phone_no_m  \\\n",
       "0  22d522340df77e2252c1a4d92b4bcb00d515e36f3ec6bf94e017b4ffd67e26520af18637ad91bde69abd831cc36cdc0c5af5e57bc280f95f79efef7bfa9c6926   \n",
       "1  5220d4b8429bdba3971a7b46a088c6b8fa6710f40607598ac1219daab6071510b3f66f78637420574dbb2d5488d44de9d4360a644bbe4ec45aaa4b7513bdc886   \n",
       "2  7d19dd2b50ced56f03d23bf928cf34dc570a48525571a868ffdcdc53a865b7a41c386a6f1d6567dd4a710530b933308c77d1ef89f77b580d1983dadd3de162ea   \n",
       "3  134a4a591185c9d3788021896dcfc235e9e0a6a1e3f8a4fd3a9f9d9bf4a033e791b7199db980b0678020bdf689d719306a5c694ffa47b4ba2bec43ceda68dfc1   \n",
       "4  2356dcd6759d50455ddaeed03c838843558e9182d5962f8a4c81a9a178063c49ab988750f795bb6c5462aee5dace2ad9fd18dbb1a6619dbb1e771e9b0f192da9   \n",
       "\n",
       "  city_name county_name  idcard_cnt  arpu_202004  \n",
       "0        成都       金牛分公司           1         9.00  \n",
       "1      天府新区      天府直属部门           1          NaN  \n",
       "2        成都       锦江分公司           1         9.00  \n",
       "3        绵阳       江油分公司           1       138.75  \n",
       "4        成都       青羊分公司           2        39.00  "
      ]
     },
     "execution_count": 6,
     "metadata": {},
     "output_type": "execute_result"
    }
   ],
   "source": [
    "test_user.head()"
   ]
  },
  {
   "cell_type": "code",
   "execution_count": 7,
   "metadata": {
    "ExecuteTime": {
     "end_time": "2020-06-08T16:16:11.161903Z",
     "start_time": "2020-06-08T16:16:11.141915Z"
    }
   },
   "outputs": [
    {
     "name": "stdout",
     "output_type": "stream",
     "text": [
      "<class 'pandas.core.frame.DataFrame'>\n",
      "Int64Index: 6106 entries, 0 to 6105\n",
      "Data columns (total 6 columns):\n",
      "phone_no_m     6106 non-null object\n",
      "city_name      6106 non-null object\n",
      "county_name    6106 non-null object\n",
      "idcard_cnt     6106 non-null int8\n",
      "label          6106 non-null int8\n",
      "arpu_202004    5369 non-null float16\n",
      "dtypes: float16(1), int8(2), object(3)\n",
      "memory usage: 214.7+ KB\n"
     ]
    }
   ],
   "source": [
    "train_user.info()"
   ]
  },
  {
   "cell_type": "code",
   "execution_count": 8,
   "metadata": {
    "ExecuteTime": {
     "end_time": "2020-06-08T16:16:11.177894Z",
     "start_time": "2020-06-08T16:16:11.164902Z"
    }
   },
   "outputs": [
    {
     "name": "stdout",
     "output_type": "stream",
     "text": [
      "<class 'pandas.core.frame.DataFrame'>\n",
      "Int64Index: 2045 entries, 0 to 2044\n",
      "Data columns (total 5 columns):\n",
      "phone_no_m     2045 non-null object\n",
      "city_name      2045 non-null object\n",
      "county_name    2045 non-null object\n",
      "idcard_cnt     2045 non-null int8\n",
      "arpu_202004    1869 non-null float16\n",
      "dtypes: float16(1), int8(1), object(3)\n",
      "memory usage: 69.9+ KB\n"
     ]
    }
   ],
   "source": [
    "test_user.info()"
   ]
  },
  {
   "cell_type": "code",
   "execution_count": 9,
   "metadata": {
    "ExecuteTime": {
     "end_time": "2020-06-08T16:16:11.190886Z",
     "start_time": "2020-06-08T16:16:11.180892Z"
    }
   },
   "outputs": [],
   "source": [
    "df_user = pd.concat([train_user, test_user])"
   ]
  },
  {
   "cell_type": "code",
   "execution_count": 10,
   "metadata": {
    "ExecuteTime": {
     "end_time": "2020-06-08T16:16:11.203881Z",
     "start_time": "2020-06-08T16:16:11.193885Z"
    }
   },
   "outputs": [],
   "source": [
    "# 号码量*消费值\n",
    "df_user['idcard_cnt*arpu_202004'] = df_user['idcard_cnt'] * df_user['arpu_202004']"
   ]
  },
  {
   "cell_type": "code",
   "execution_count": 11,
   "metadata": {
    "ExecuteTime": {
     "end_time": "2020-06-08T16:16:11.227865Z",
     "start_time": "2020-06-08T16:16:11.206878Z"
    }
   },
   "outputs": [],
   "source": [
    "# count编码\n",
    "count_list = ['city_name', 'county_name', 'idcard_cnt']\n",
    "\n",
    "df_user = count_coding(df_user, count_list)"
   ]
  },
  {
   "cell_type": "code",
   "execution_count": 12,
   "metadata": {
    "ExecuteTime": {
     "end_time": "2020-06-08T16:16:11.292830Z",
     "start_time": "2020-06-08T16:16:11.229864Z"
    }
   },
   "outputs": [
    {
     "name": "stderr",
     "output_type": "stream",
     "text": [
      "  0%|                                                                                            | 0/2 [00:00<?, ?it/s]\n",
      "  0%|                                                                                            | 0/1 [00:00<?, ?it/s]\n",
      "100%|████████████████████████████████████████████████████████████████████████████████████| 1/1 [00:00<00:00, 58.85it/s]\n",
      "  0%|                                                                                            | 0/1 [00:00<?, ?it/s]\n",
      "100%|████████████████████████████████████████████████████████████████████████████████████| 2/2 [00:00<00:00, 40.02it/s]\n"
     ]
    }
   ],
   "source": [
    "cross_cat = ['city_name', 'county_name']\n",
    "cross_num = ['idcard_cnt']\n",
    "data = cross_cat_num(df_user, cross_num, cross_cat)"
   ]
  },
  {
   "cell_type": "code",
   "execution_count": 13,
   "metadata": {
    "ExecuteTime": {
     "end_time": "2020-06-08T16:16:12.715017Z",
     "start_time": "2020-06-08T16:16:11.294828Z"
    }
   },
   "outputs": [],
   "source": [
    "train_voc = pd.read_hdf('../input/train_voc.h5')\n",
    "test_voc = pd.read_hdf('../input/test_voc.h5')"
   ]
  },
  {
   "cell_type": "code",
   "execution_count": 14,
   "metadata": {
    "ExecuteTime": {
     "end_time": "2020-06-08T16:16:12.745999Z",
     "start_time": "2020-06-08T16:16:12.718015Z"
    }
   },
   "outputs": [
    {
     "data": {
      "text/html": [
       "<div>\n",
       "<style scoped>\n",
       "    .dataframe tbody tr th:only-of-type {\n",
       "        vertical-align: middle;\n",
       "    }\n",
       "\n",
       "    .dataframe tbody tr th {\n",
       "        vertical-align: top;\n",
       "    }\n",
       "\n",
       "    .dataframe thead th {\n",
       "        text-align: right;\n",
       "    }\n",
       "</style>\n",
       "<table border=\"1\" class=\"dataframe\">\n",
       "  <thead>\n",
       "    <tr style=\"text-align: right;\">\n",
       "      <th></th>\n",
       "      <th>phone_no_m</th>\n",
       "      <th>opposite_no_m</th>\n",
       "      <th>calltype_id</th>\n",
       "      <th>start_datetime</th>\n",
       "      <th>call_dur</th>\n",
       "      <th>city_name</th>\n",
       "      <th>county_name</th>\n",
       "      <th>imei_m</th>\n",
       "    </tr>\n",
       "  </thead>\n",
       "  <tbody>\n",
       "    <tr>\n",
       "      <th>9</th>\n",
       "      <td>b3994b4c46e39954cfe0cb8ebd2a79703a2ace6612fa18241509e8b2dfe9d75f503823b6df2d10180a9033ccd22390aaeda397037ca4cd26604d6db6e3470874</td>\n",
       "      <td>1b01124a6ad0443ad868757c6594a605a0c5179c2b5b57071d5cec8cd8c4c89d7598587f953f08887965b42d2e465d08388c5465fe43b67f1e9ca5509c5529f2</td>\n",
       "      <td>1</td>\n",
       "      <td>2020-03-22 21:38:40</td>\n",
       "      <td>175</td>\n",
       "      <td>nan</td>\n",
       "      <td>nan</td>\n",
       "      <td>90ba61111dad175330029e10da8264a86dfdb3a281ccb8556eca87a6f1af32e1d5ff4db4a7d4b11f760e4866de974933f247c4c389073f28634229889bfe18bf</td>\n",
       "    </tr>\n",
       "    <tr>\n",
       "      <th>10</th>\n",
       "      <td>b3994b4c46e39954cfe0cb8ebd2a79703a2ace6612fa18241509e8b2dfe9d75f503823b6df2d10180a9033ccd22390aaeda397037ca4cd26604d6db6e3470874</td>\n",
       "      <td>1b01124a6ad0443ad868757c6594a605a0c5179c2b5b57071d5cec8cd8c4c89d7598587f953f08887965b42d2e465d08388c5465fe43b67f1e9ca5509c5529f2</td>\n",
       "      <td>1</td>\n",
       "      <td>2020-03-23 18:05:41</td>\n",
       "      <td>33</td>\n",
       "      <td>nan</td>\n",
       "      <td>nan</td>\n",
       "      <td>90ba61111dad175330029e10da8264a86dfdb3a281ccb8556eca87a6f1af32e1d5ff4db4a7d4b11f760e4866de974933f247c4c389073f28634229889bfe18bf</td>\n",
       "    </tr>\n",
       "    <tr>\n",
       "      <th>219</th>\n",
       "      <td>c5502a6d3e4cabaf8c0e298c4aac693b6e80835d50d4e4f393d8426bd49c0d4d00c3959d2a2c8341410e57af28bee6dc5c80dbad7cf147018ec0ece7bfa0cf5f</td>\n",
       "      <td>f1b73c46a691c068bfd38253e20e882d4993c8d3e58016aeed804a8cdbf54542112e529ebf7fdd0e62cf3556571fb17b865d8c3d57c42be851d75c90f4df4603</td>\n",
       "      <td>1</td>\n",
       "      <td>2020-03-01 11:24:37</td>\n",
       "      <td>39</td>\n",
       "      <td>nan</td>\n",
       "      <td>nan</td>\n",
       "      <td>e1e1149b2c06e9972293c457293abb32ad05b0c82b3b64c3786896b0414c897b60a539329ce3b7df83ebee19ad20fee3971303edd776a593578f03d16ee8981a</td>\n",
       "    </tr>\n",
       "    <tr>\n",
       "      <th>222</th>\n",
       "      <td>c5502a6d3e4cabaf8c0e298c4aac693b6e80835d50d4e4f393d8426bd49c0d4d00c3959d2a2c8341410e57af28bee6dc5c80dbad7cf147018ec0ece7bfa0cf5f</td>\n",
       "      <td>5bc6d97a3017578edfa7979fa43653cd74bad827f18337c8c84728f79778939b6f939ea3aa2661907f2e79bcf70feb93adb79c3f7d4a934368c459d9b6aeb54e</td>\n",
       "      <td>1</td>\n",
       "      <td>2020-03-01 11:23:44</td>\n",
       "      <td>32</td>\n",
       "      <td>nan</td>\n",
       "      <td>nan</td>\n",
       "      <td>e1e1149b2c06e9972293c457293abb32ad05b0c82b3b64c3786896b0414c897b60a539329ce3b7df83ebee19ad20fee3971303edd776a593578f03d16ee8981a</td>\n",
       "    </tr>\n",
       "    <tr>\n",
       "      <th>276</th>\n",
       "      <td>2bdbc0a45d6228970b353d691e2ec229f0cf60790a1a39d5e01c0175b5e20cd2ca7d39aff8506741884fd7a4cd4fd9fdec5112ddb764d81c2983752c989f1078</td>\n",
       "      <td>c42eeddeff98feb87860441ea6548f8bda2a080c935e02c7a6ae30223cf37dfc2d16760224c79b93ea44a6d3fd77139e03a20f47608b9455372a96cb026f239e</td>\n",
       "      <td>2</td>\n",
       "      <td>2020-03-03 15:34:21</td>\n",
       "      <td>3</td>\n",
       "      <td>nan</td>\n",
       "      <td>nan</td>\n",
       "      <td>3e808a14fa2aa61524c70f262539d1c8532b8e3a8c7c87c863b3f8420750f1bf4a63aa900aef09620c1fae1a6a7fadf1f42e30477e24336fc5c2a8fae9b5de6e</td>\n",
       "    </tr>\n",
       "  </tbody>\n",
       "</table>\n",
       "</div>"
      ],
      "text/plain": [
       "                                                                                                                           phone_no_m  \\\n",
       "9    b3994b4c46e39954cfe0cb8ebd2a79703a2ace6612fa18241509e8b2dfe9d75f503823b6df2d10180a9033ccd22390aaeda397037ca4cd26604d6db6e3470874   \n",
       "10   b3994b4c46e39954cfe0cb8ebd2a79703a2ace6612fa18241509e8b2dfe9d75f503823b6df2d10180a9033ccd22390aaeda397037ca4cd26604d6db6e3470874   \n",
       "219  c5502a6d3e4cabaf8c0e298c4aac693b6e80835d50d4e4f393d8426bd49c0d4d00c3959d2a2c8341410e57af28bee6dc5c80dbad7cf147018ec0ece7bfa0cf5f   \n",
       "222  c5502a6d3e4cabaf8c0e298c4aac693b6e80835d50d4e4f393d8426bd49c0d4d00c3959d2a2c8341410e57af28bee6dc5c80dbad7cf147018ec0ece7bfa0cf5f   \n",
       "276  2bdbc0a45d6228970b353d691e2ec229f0cf60790a1a39d5e01c0175b5e20cd2ca7d39aff8506741884fd7a4cd4fd9fdec5112ddb764d81c2983752c989f1078   \n",
       "\n",
       "                                                                                                                        opposite_no_m  \\\n",
       "9    1b01124a6ad0443ad868757c6594a605a0c5179c2b5b57071d5cec8cd8c4c89d7598587f953f08887965b42d2e465d08388c5465fe43b67f1e9ca5509c5529f2   \n",
       "10   1b01124a6ad0443ad868757c6594a605a0c5179c2b5b57071d5cec8cd8c4c89d7598587f953f08887965b42d2e465d08388c5465fe43b67f1e9ca5509c5529f2   \n",
       "219  f1b73c46a691c068bfd38253e20e882d4993c8d3e58016aeed804a8cdbf54542112e529ebf7fdd0e62cf3556571fb17b865d8c3d57c42be851d75c90f4df4603   \n",
       "222  5bc6d97a3017578edfa7979fa43653cd74bad827f18337c8c84728f79778939b6f939ea3aa2661907f2e79bcf70feb93adb79c3f7d4a934368c459d9b6aeb54e   \n",
       "276  c42eeddeff98feb87860441ea6548f8bda2a080c935e02c7a6ae30223cf37dfc2d16760224c79b93ea44a6d3fd77139e03a20f47608b9455372a96cb026f239e   \n",
       "\n",
       "     calltype_id       start_datetime  call_dur city_name county_name  \\\n",
       "9              1  2020-03-22 21:38:40       175       nan         nan   \n",
       "10             1  2020-03-23 18:05:41        33       nan         nan   \n",
       "219            1  2020-03-01 11:24:37        39       nan         nan   \n",
       "222            1  2020-03-01 11:23:44        32       nan         nan   \n",
       "276            2  2020-03-03 15:34:21         3       nan         nan   \n",
       "\n",
       "                                                                                                                               imei_m  \n",
       "9    90ba61111dad175330029e10da8264a86dfdb3a281ccb8556eca87a6f1af32e1d5ff4db4a7d4b11f760e4866de974933f247c4c389073f28634229889bfe18bf  \n",
       "10   90ba61111dad175330029e10da8264a86dfdb3a281ccb8556eca87a6f1af32e1d5ff4db4a7d4b11f760e4866de974933f247c4c389073f28634229889bfe18bf  \n",
       "219  e1e1149b2c06e9972293c457293abb32ad05b0c82b3b64c3786896b0414c897b60a539329ce3b7df83ebee19ad20fee3971303edd776a593578f03d16ee8981a  \n",
       "222  e1e1149b2c06e9972293c457293abb32ad05b0c82b3b64c3786896b0414c897b60a539329ce3b7df83ebee19ad20fee3971303edd776a593578f03d16ee8981a  \n",
       "276  3e808a14fa2aa61524c70f262539d1c8532b8e3a8c7c87c863b3f8420750f1bf4a63aa900aef09620c1fae1a6a7fadf1f42e30477e24336fc5c2a8fae9b5de6e  "
      ]
     },
     "execution_count": 14,
     "metadata": {},
     "output_type": "execute_result"
    }
   ],
   "source": [
    "train_voc.head()"
   ]
  },
  {
   "cell_type": "code",
   "execution_count": 15,
   "metadata": {
    "ExecuteTime": {
     "end_time": "2020-06-08T16:16:12.771985Z",
     "start_time": "2020-06-08T16:16:12.752995Z"
    }
   },
   "outputs": [
    {
     "data": {
      "text/html": [
       "<div>\n",
       "<style scoped>\n",
       "    .dataframe tbody tr th:only-of-type {\n",
       "        vertical-align: middle;\n",
       "    }\n",
       "\n",
       "    .dataframe tbody tr th {\n",
       "        vertical-align: top;\n",
       "    }\n",
       "\n",
       "    .dataframe thead th {\n",
       "        text-align: right;\n",
       "    }\n",
       "</style>\n",
       "<table border=\"1\" class=\"dataframe\">\n",
       "  <thead>\n",
       "    <tr style=\"text-align: right;\">\n",
       "      <th></th>\n",
       "      <th>phone_no_m</th>\n",
       "      <th>opposite_no_m</th>\n",
       "      <th>calltype_id</th>\n",
       "      <th>start_datetime</th>\n",
       "      <th>call_dur</th>\n",
       "      <th>city_name</th>\n",
       "      <th>county_name</th>\n",
       "      <th>imei_m</th>\n",
       "    </tr>\n",
       "  </thead>\n",
       "  <tbody>\n",
       "    <tr>\n",
       "      <th>0</th>\n",
       "      <td>b3dce36871f3e88164b18d4953b114163f008cb51c28fe932ae3c734f3b1d1e2853d63fb3fb52a09fd9d0997b64fe5796507d3b50768fe0dce23819c8b24729c</td>\n",
       "      <td>f87f526ee776ac8b6b28392620fbb6049af9eaadab7de2ee9d7c5a31d7404566b8a3c25f404f793e513448a8c5dad1940a597a488e6f165a1aad6b103cf40f59</td>\n",
       "      <td>1</td>\n",
       "      <td>2020-04-13 21:04:10</td>\n",
       "      <td>1909</td>\n",
       "      <td>nan</td>\n",
       "      <td>nan</td>\n",
       "      <td>685a0bfcd91b4ecec2ff35d656a35a4e4f9e1c7a92b15f5c3c0675fcf8b6c9adc35731ab15e91401f2367f1d9d2910f9e8829e2e5052c96bc800fcde6c505214</td>\n",
       "    </tr>\n",
       "    <tr>\n",
       "      <th>1</th>\n",
       "      <td>b3dce36871f3e88164b18d4953b114163f008cb51c28fe932ae3c734f3b1d1e2853d63fb3fb52a09fd9d0997b64fe5796507d3b50768fe0dce23819c8b24729c</td>\n",
       "      <td>f87f526ee776ac8b6b28392620fbb6049af9eaadab7de2ee9d7c5a31d7404566b8a3c25f404f793e513448a8c5dad1940a597a488e6f165a1aad6b103cf40f59</td>\n",
       "      <td>1</td>\n",
       "      <td>2020-04-13 18:32:50</td>\n",
       "      <td>2510</td>\n",
       "      <td>nan</td>\n",
       "      <td>nan</td>\n",
       "      <td>685a0bfcd91b4ecec2ff35d656a35a4e4f9e1c7a92b15f5c3c0675fcf8b6c9adc35731ab15e91401f2367f1d9d2910f9e8829e2e5052c96bc800fcde6c505214</td>\n",
       "    </tr>\n",
       "    <tr>\n",
       "      <th>2</th>\n",
       "      <td>b3dce36871f3e88164b18d4953b114163f008cb51c28fe932ae3c734f3b1d1e2853d63fb3fb52a09fd9d0997b64fe5796507d3b50768fe0dce23819c8b24729c</td>\n",
       "      <td>f87f526ee776ac8b6b28392620fbb6049af9eaadab7de2ee9d7c5a31d7404566b8a3c25f404f793e513448a8c5dad1940a597a488e6f165a1aad6b103cf40f59</td>\n",
       "      <td>1</td>\n",
       "      <td>2020-04-13 19:55:12</td>\n",
       "      <td>25</td>\n",
       "      <td>nan</td>\n",
       "      <td>nan</td>\n",
       "      <td>685a0bfcd91b4ecec2ff35d656a35a4e4f9e1c7a92b15f5c3c0675fcf8b6c9adc35731ab15e91401f2367f1d9d2910f9e8829e2e5052c96bc800fcde6c505214</td>\n",
       "    </tr>\n",
       "    <tr>\n",
       "      <th>3</th>\n",
       "      <td>7ec68a368fbbec3279a6a34847f7959623dbff4638351aa0c4ef3e6c719a4cce873e332d11c2c8f860a67edcc4bc3706da02976e26c218474c67a3ed5cdffed5</td>\n",
       "      <td>ed8280e5590e40e35a2af7d8708a0754540b0612600d5255b8b79e576d1543765e552e30cb50aae3f4d424e08e8104a848f021316949d72e20a9efe0c29eba7c</td>\n",
       "      <td>1</td>\n",
       "      <td>2020-04-20 14:11:44</td>\n",
       "      <td>276</td>\n",
       "      <td>nan</td>\n",
       "      <td>nan</td>\n",
       "      <td>a60e82a4383faa79ea972adc48686a729f689b7d1923bce82ca67c7deae306fec30004b30260b56e13d77f791271222594954cc4f88a65c3348b97a9eeb47ad2</td>\n",
       "    </tr>\n",
       "    <tr>\n",
       "      <th>4</th>\n",
       "      <td>7ec68a368fbbec3279a6a34847f7959623dbff4638351aa0c4ef3e6c719a4cce873e332d11c2c8f860a67edcc4bc3706da02976e26c218474c67a3ed5cdffed5</td>\n",
       "      <td>ba792e76c3e7ee47d2403083f6def313372ae450ddf0b946d2f3d237e05cd99e75265be9d91ce58bc149919c97e1355f56082da790dccb9cffb0d7e11c4fa7ed</td>\n",
       "      <td>2</td>\n",
       "      <td>2020-04-20 12:56:33</td>\n",
       "      <td>539</td>\n",
       "      <td>nan</td>\n",
       "      <td>nan</td>\n",
       "      <td>a60e82a4383faa79ea972adc48686a729f689b7d1923bce82ca67c7deae306fec30004b30260b56e13d77f791271222594954cc4f88a65c3348b97a9eeb47ad2</td>\n",
       "    </tr>\n",
       "  </tbody>\n",
       "</table>\n",
       "</div>"
      ],
      "text/plain": [
       "                                                                                                                         phone_no_m  \\\n",
       "0  b3dce36871f3e88164b18d4953b114163f008cb51c28fe932ae3c734f3b1d1e2853d63fb3fb52a09fd9d0997b64fe5796507d3b50768fe0dce23819c8b24729c   \n",
       "1  b3dce36871f3e88164b18d4953b114163f008cb51c28fe932ae3c734f3b1d1e2853d63fb3fb52a09fd9d0997b64fe5796507d3b50768fe0dce23819c8b24729c   \n",
       "2  b3dce36871f3e88164b18d4953b114163f008cb51c28fe932ae3c734f3b1d1e2853d63fb3fb52a09fd9d0997b64fe5796507d3b50768fe0dce23819c8b24729c   \n",
       "3  7ec68a368fbbec3279a6a34847f7959623dbff4638351aa0c4ef3e6c719a4cce873e332d11c2c8f860a67edcc4bc3706da02976e26c218474c67a3ed5cdffed5   \n",
       "4  7ec68a368fbbec3279a6a34847f7959623dbff4638351aa0c4ef3e6c719a4cce873e332d11c2c8f860a67edcc4bc3706da02976e26c218474c67a3ed5cdffed5   \n",
       "\n",
       "                                                                                                                      opposite_no_m  \\\n",
       "0  f87f526ee776ac8b6b28392620fbb6049af9eaadab7de2ee9d7c5a31d7404566b8a3c25f404f793e513448a8c5dad1940a597a488e6f165a1aad6b103cf40f59   \n",
       "1  f87f526ee776ac8b6b28392620fbb6049af9eaadab7de2ee9d7c5a31d7404566b8a3c25f404f793e513448a8c5dad1940a597a488e6f165a1aad6b103cf40f59   \n",
       "2  f87f526ee776ac8b6b28392620fbb6049af9eaadab7de2ee9d7c5a31d7404566b8a3c25f404f793e513448a8c5dad1940a597a488e6f165a1aad6b103cf40f59   \n",
       "3  ed8280e5590e40e35a2af7d8708a0754540b0612600d5255b8b79e576d1543765e552e30cb50aae3f4d424e08e8104a848f021316949d72e20a9efe0c29eba7c   \n",
       "4  ba792e76c3e7ee47d2403083f6def313372ae450ddf0b946d2f3d237e05cd99e75265be9d91ce58bc149919c97e1355f56082da790dccb9cffb0d7e11c4fa7ed   \n",
       "\n",
       "   calltype_id       start_datetime  call_dur city_name county_name  \\\n",
       "0            1  2020-04-13 21:04:10      1909       nan         nan   \n",
       "1            1  2020-04-13 18:32:50      2510       nan         nan   \n",
       "2            1  2020-04-13 19:55:12        25       nan         nan   \n",
       "3            1  2020-04-20 14:11:44       276       nan         nan   \n",
       "4            2  2020-04-20 12:56:33       539       nan         nan   \n",
       "\n",
       "                                                                                                                             imei_m  \n",
       "0  685a0bfcd91b4ecec2ff35d656a35a4e4f9e1c7a92b15f5c3c0675fcf8b6c9adc35731ab15e91401f2367f1d9d2910f9e8829e2e5052c96bc800fcde6c505214  \n",
       "1  685a0bfcd91b4ecec2ff35d656a35a4e4f9e1c7a92b15f5c3c0675fcf8b6c9adc35731ab15e91401f2367f1d9d2910f9e8829e2e5052c96bc800fcde6c505214  \n",
       "2  685a0bfcd91b4ecec2ff35d656a35a4e4f9e1c7a92b15f5c3c0675fcf8b6c9adc35731ab15e91401f2367f1d9d2910f9e8829e2e5052c96bc800fcde6c505214  \n",
       "3  a60e82a4383faa79ea972adc48686a729f689b7d1923bce82ca67c7deae306fec30004b30260b56e13d77f791271222594954cc4f88a65c3348b97a9eeb47ad2  \n",
       "4  a60e82a4383faa79ea972adc48686a729f689b7d1923bce82ca67c7deae306fec30004b30260b56e13d77f791271222594954cc4f88a65c3348b97a9eeb47ad2  "
      ]
     },
     "execution_count": 15,
     "metadata": {},
     "output_type": "execute_result"
    }
   ],
   "source": [
    "test_voc.head()"
   ]
  },
  {
   "cell_type": "code",
   "execution_count": 16,
   "metadata": {
    "ExecuteTime": {
     "end_time": "2020-06-08T16:16:13.132779Z",
     "start_time": "2020-06-08T16:16:12.775982Z"
    }
   },
   "outputs": [
    {
     "name": "stdout",
     "output_type": "stream",
     "text": [
      "<class 'pandas.core.frame.DataFrame'>\n",
      "Int64Index: 709144 entries, 9 to 5015413\n",
      "Data columns (total 8 columns):\n",
      "phone_no_m        709144 non-null object\n",
      "opposite_no_m     709144 non-null object\n",
      "calltype_id       709144 non-null int8\n",
      "start_datetime    709144 non-null object\n",
      "call_dur          709144 non-null int16\n",
      "city_name         709144 non-null object\n",
      "county_name       709144 non-null object\n",
      "imei_m            709144 non-null object\n",
      "dtypes: int16(1), int8(1), object(6)\n",
      "memory usage: 39.9+ MB\n"
     ]
    }
   ],
   "source": [
    "train_voc.info()"
   ]
  },
  {
   "cell_type": "code",
   "execution_count": 17,
   "metadata": {
    "ExecuteTime": {
     "end_time": "2020-06-08T16:16:13.289689Z",
     "start_time": "2020-06-08T16:16:13.135777Z"
    }
   },
   "outputs": [
    {
     "name": "stdout",
     "output_type": "stream",
     "text": [
      "<class 'pandas.core.frame.DataFrame'>\n",
      "Int64Index: 276522 entries, 0 to 276521\n",
      "Data columns (total 8 columns):\n",
      "phone_no_m        276522 non-null object\n",
      "opposite_no_m     276522 non-null object\n",
      "calltype_id       276522 non-null int8\n",
      "start_datetime    276522 non-null object\n",
      "call_dur          276522 non-null int16\n",
      "city_name         276522 non-null object\n",
      "county_name       276522 non-null object\n",
      "imei_m            276522 non-null object\n",
      "dtypes: int16(1), int8(1), object(6)\n",
      "memory usage: 15.6+ MB\n"
     ]
    }
   ],
   "source": [
    "test_voc.info()"
   ]
  },
  {
   "cell_type": "code",
   "execution_count": 18,
   "metadata": {
    "ExecuteTime": {
     "end_time": "2020-06-08T16:16:14.670902Z",
     "start_time": "2020-06-08T16:16:13.292688Z"
    }
   },
   "outputs": [
    {
     "data": {
      "text/plain": [
       "phone_no_m          4823\n",
       "opposite_no_m     281103\n",
       "calltype_id            3\n",
       "start_datetime    561615\n",
       "call_dur            2653\n",
       "city_name             22\n",
       "county_name          193\n",
       "imei_m              6025\n",
       "dtype: int64"
      ]
     },
     "execution_count": 18,
     "metadata": {},
     "output_type": "execute_result"
    }
   ],
   "source": [
    "train_voc.nunique()"
   ]
  },
  {
   "cell_type": "code",
   "execution_count": 19,
   "metadata": {
    "ExecuteTime": {
     "end_time": "2020-06-08T16:16:15.225586Z",
     "start_time": "2020-06-08T16:16:14.674899Z"
    }
   },
   "outputs": [
    {
     "data": {
      "text/plain": [
       "phone_no_m          1965\n",
       "opposite_no_m     107683\n",
       "calltype_id            3\n",
       "start_datetime    253144\n",
       "call_dur            2089\n",
       "city_name             22\n",
       "county_name          173\n",
       "imei_m              2656\n",
       "dtype: int64"
      ]
     },
     "execution_count": 19,
     "metadata": {},
     "output_type": "execute_result"
    }
   ],
   "source": [
    "test_voc.nunique()"
   ]
  },
  {
   "cell_type": "code",
   "execution_count": 20,
   "metadata": {
    "ExecuteTime": {
     "end_time": "2020-06-08T16:16:15.496430Z",
     "start_time": "2020-06-08T16:16:15.227584Z"
    }
   },
   "outputs": [],
   "source": [
    "df_voc = pd.concat([train_voc, test_voc])"
   ]
  },
  {
   "cell_type": "code",
   "execution_count": 21,
   "metadata": {
    "ExecuteTime": {
     "end_time": "2020-06-08T16:16:18.163908Z",
     "start_time": "2020-06-08T16:16:15.498429Z"
    }
   },
   "outputs": [],
   "source": [
    "df_voc['voc_day'] = df_voc['start_datetime'].astype('datetime64').dt.day\n",
    "df_voc['voc_hour'] = df_voc['start_datetime'].astype('datetime64').dt.hour\n",
    "df_voc['voc_dayofweek'] = df_voc['start_datetime'].astype('datetime64').dt.dayofweek"
   ]
  },
  {
   "cell_type": "code",
   "execution_count": 22,
   "metadata": {
    "ExecuteTime": {
     "end_time": "2020-06-08T16:16:18.895491Z",
     "start_time": "2020-06-08T16:16:18.172903Z"
    }
   },
   "outputs": [
    {
     "name": "stdout",
     "output_type": "stream",
     "text": [
      "<class 'pandas.core.frame.DataFrame'>\n",
      "Int64Index: 985666 entries, 9 to 276521\n",
      "Data columns (total 11 columns):\n",
      "phone_no_m        985666 non-null object\n",
      "opposite_no_m     985666 non-null object\n",
      "calltype_id       985666 non-null int8\n",
      "start_datetime    985666 non-null object\n",
      "call_dur          985666 non-null int16\n",
      "city_name         985666 non-null object\n",
      "county_name       985666 non-null object\n",
      "imei_m            985666 non-null object\n",
      "voc_day           985666 non-null int64\n",
      "voc_hour          985666 non-null int64\n",
      "voc_dayofweek     985666 non-null int64\n",
      "dtypes: int16(1), int64(3), int8(1), object(6)\n",
      "memory usage: 78.0+ MB\n"
     ]
    }
   ],
   "source": [
    "df_voc.info()"
   ]
  },
  {
   "cell_type": "code",
   "execution_count": 23,
   "metadata": {
    "ExecuteTime": {
     "end_time": "2020-06-08T16:16:20.957334Z",
     "start_time": "2020-06-08T16:16:18.900489Z"
    }
   },
   "outputs": [],
   "source": [
    "# 每天通话次数统计\n",
    "df_voc['voc_day_count'] = df_voc.groupby(['phone_no_m', 'voc_day'])['phone_no_m'].transform('count')\n",
    "df_voc['voc_day_count_max'] = df_voc.groupby('phone_no_m')['voc_day_count'].transform('max')\n",
    "df_voc['voc_day_count_min'] = df_voc.groupby('phone_no_m')['voc_day_count'].transform('min')\n",
    "df_voc['voc_day_count_mean'] = df_voc.groupby('phone_no_m')['voc_day_count'].transform('mean')\n",
    "df_voc['voc_day_count_std'] = df_voc.groupby('phone_no_m')['voc_day_count'].transform('std')\n",
    "\n",
    "del df_voc['voc_day_count']"
   ]
  },
  {
   "cell_type": "code",
   "execution_count": 24,
   "metadata": {
    "ExecuteTime": {
     "end_time": "2020-06-08T16:16:21.062255Z",
     "start_time": "2020-06-08T16:16:20.959314Z"
    }
   },
   "outputs": [
    {
     "data": {
      "text/html": [
       "<div>\n",
       "<style scoped>\n",
       "    .dataframe tbody tr th:only-of-type {\n",
       "        vertical-align: middle;\n",
       "    }\n",
       "\n",
       "    .dataframe tbody tr th {\n",
       "        vertical-align: top;\n",
       "    }\n",
       "\n",
       "    .dataframe thead th {\n",
       "        text-align: right;\n",
       "    }\n",
       "</style>\n",
       "<table border=\"1\" class=\"dataframe\">\n",
       "  <thead>\n",
       "    <tr style=\"text-align: right;\">\n",
       "      <th></th>\n",
       "      <th>phone_no_m</th>\n",
       "      <th>opposite_no_m</th>\n",
       "      <th>voc_day_count_max</th>\n",
       "      <th>voc_day_count_min</th>\n",
       "      <th>voc_day_count_mean</th>\n",
       "      <th>voc_day_count_std</th>\n",
       "    </tr>\n",
       "  </thead>\n",
       "  <tbody>\n",
       "    <tr>\n",
       "      <th>9</th>\n",
       "      <td>b3994b4c46e39954cfe0cb8ebd2a79703a2ace6612fa18241509e8b2dfe9d75f503823b6df2d10180a9033ccd22390aaeda397037ca4cd26604d6db6e3470874</td>\n",
       "      <td>1b01124a6ad0443ad868757c6594a605a0c5179c2b5b57071d5cec8cd8c4c89d7598587f953f08887965b42d2e465d08388c5465fe43b67f1e9ca5509c5529f2</td>\n",
       "      <td>9</td>\n",
       "      <td>1</td>\n",
       "      <td>6.248000</td>\n",
       "      <td>2.415194</td>\n",
       "    </tr>\n",
       "    <tr>\n",
       "      <th>10</th>\n",
       "      <td>b3994b4c46e39954cfe0cb8ebd2a79703a2ace6612fa18241509e8b2dfe9d75f503823b6df2d10180a9033ccd22390aaeda397037ca4cd26604d6db6e3470874</td>\n",
       "      <td>1b01124a6ad0443ad868757c6594a605a0c5179c2b5b57071d5cec8cd8c4c89d7598587f953f08887965b42d2e465d08388c5465fe43b67f1e9ca5509c5529f2</td>\n",
       "      <td>9</td>\n",
       "      <td>1</td>\n",
       "      <td>6.248000</td>\n",
       "      <td>2.415194</td>\n",
       "    </tr>\n",
       "    <tr>\n",
       "      <th>219</th>\n",
       "      <td>c5502a6d3e4cabaf8c0e298c4aac693b6e80835d50d4e4f393d8426bd49c0d4d00c3959d2a2c8341410e57af28bee6dc5c80dbad7cf147018ec0ece7bfa0cf5f</td>\n",
       "      <td>f1b73c46a691c068bfd38253e20e882d4993c8d3e58016aeed804a8cdbf54542112e529ebf7fdd0e62cf3556571fb17b865d8c3d57c42be851d75c90f4df4603</td>\n",
       "      <td>5</td>\n",
       "      <td>1</td>\n",
       "      <td>2.500000</td>\n",
       "      <td>1.638356</td>\n",
       "    </tr>\n",
       "    <tr>\n",
       "      <th>222</th>\n",
       "      <td>c5502a6d3e4cabaf8c0e298c4aac693b6e80835d50d4e4f393d8426bd49c0d4d00c3959d2a2c8341410e57af28bee6dc5c80dbad7cf147018ec0ece7bfa0cf5f</td>\n",
       "      <td>5bc6d97a3017578edfa7979fa43653cd74bad827f18337c8c84728f79778939b6f939ea3aa2661907f2e79bcf70feb93adb79c3f7d4a934368c459d9b6aeb54e</td>\n",
       "      <td>5</td>\n",
       "      <td>1</td>\n",
       "      <td>2.500000</td>\n",
       "      <td>1.638356</td>\n",
       "    </tr>\n",
       "    <tr>\n",
       "      <th>276</th>\n",
       "      <td>2bdbc0a45d6228970b353d691e2ec229f0cf60790a1a39d5e01c0175b5e20cd2ca7d39aff8506741884fd7a4cd4fd9fdec5112ddb764d81c2983752c989f1078</td>\n",
       "      <td>c42eeddeff98feb87860441ea6548f8bda2a080c935e02c7a6ae30223cf37dfc2d16760224c79b93ea44a6d3fd77139e03a20f47608b9455372a96cb026f239e</td>\n",
       "      <td>10</td>\n",
       "      <td>1</td>\n",
       "      <td>5.051282</td>\n",
       "      <td>2.997390</td>\n",
       "    </tr>\n",
       "    <tr>\n",
       "      <th>290</th>\n",
       "      <td>2bdbc0a45d6228970b353d691e2ec229f0cf60790a1a39d5e01c0175b5e20cd2ca7d39aff8506741884fd7a4cd4fd9fdec5112ddb764d81c2983752c989f1078</td>\n",
       "      <td>9fe321b6776b7ff131eb29637cb41fcfc207711389fbf2cfdab37f094907bbc32c46cb885102e6a60e47c1b8098c7e8f94a349c1f06fd490bf4b7d2b065e21a1</td>\n",
       "      <td>10</td>\n",
       "      <td>1</td>\n",
       "      <td>5.051282</td>\n",
       "      <td>2.997390</td>\n",
       "    </tr>\n",
       "    <tr>\n",
       "      <th>291</th>\n",
       "      <td>2bdbc0a45d6228970b353d691e2ec229f0cf60790a1a39d5e01c0175b5e20cd2ca7d39aff8506741884fd7a4cd4fd9fdec5112ddb764d81c2983752c989f1078</td>\n",
       "      <td>b19817c968b1dff7bfc21a0c814282d15734c102746ceeaa06011332673ddada747a4bd9bf347c40721c994aa96a61b8747a7b45dc6cb4373e66ed6bba49de2e</td>\n",
       "      <td>10</td>\n",
       "      <td>1</td>\n",
       "      <td>5.051282</td>\n",
       "      <td>2.997390</td>\n",
       "    </tr>\n",
       "    <tr>\n",
       "      <th>292</th>\n",
       "      <td>2bdbc0a45d6228970b353d691e2ec229f0cf60790a1a39d5e01c0175b5e20cd2ca7d39aff8506741884fd7a4cd4fd9fdec5112ddb764d81c2983752c989f1078</td>\n",
       "      <td>b19817c968b1dff7bfc21a0c814282d15734c102746ceeaa06011332673ddada747a4bd9bf347c40721c994aa96a61b8747a7b45dc6cb4373e66ed6bba49de2e</td>\n",
       "      <td>10</td>\n",
       "      <td>1</td>\n",
       "      <td>5.051282</td>\n",
       "      <td>2.997390</td>\n",
       "    </tr>\n",
       "    <tr>\n",
       "      <th>296</th>\n",
       "      <td>2bdbc0a45d6228970b353d691e2ec229f0cf60790a1a39d5e01c0175b5e20cd2ca7d39aff8506741884fd7a4cd4fd9fdec5112ddb764d81c2983752c989f1078</td>\n",
       "      <td>f4e69a298edadd5c1d32730bbf3ddd9f76be12f0949cceafc1230f05186b8c470669ecb894cc633820b3eecfbca61bbdb6b585d473b4c827ddefa7a405135d82</td>\n",
       "      <td>10</td>\n",
       "      <td>1</td>\n",
       "      <td>5.051282</td>\n",
       "      <td>2.997390</td>\n",
       "    </tr>\n",
       "    <tr>\n",
       "      <th>297</th>\n",
       "      <td>2bdbc0a45d6228970b353d691e2ec229f0cf60790a1a39d5e01c0175b5e20cd2ca7d39aff8506741884fd7a4cd4fd9fdec5112ddb764d81c2983752c989f1078</td>\n",
       "      <td>17a3d4a3ac3f51f787c0ae099e55d3c2c69ed3b87b693bf49359d5fd3ebb2b1ddc14e484f99a00af421de08432d98698bf87cb49a4b4134bcfe187541e6df35b</td>\n",
       "      <td>10</td>\n",
       "      <td>1</td>\n",
       "      <td>5.051282</td>\n",
       "      <td>2.997390</td>\n",
       "    </tr>\n",
       "    <tr>\n",
       "      <th>313</th>\n",
       "      <td>2bdbc0a45d6228970b353d691e2ec229f0cf60790a1a39d5e01c0175b5e20cd2ca7d39aff8506741884fd7a4cd4fd9fdec5112ddb764d81c2983752c989f1078</td>\n",
       "      <td>8ee8ec83fe28f63a71148dc9bf5bc923fd38318c6f84b8b57dd20e2fcb91dbb9c485a1bbf9f9d21d9ab3f2caedf784c385bb9ca98e256e73b1d0830f191ac71a</td>\n",
       "      <td>10</td>\n",
       "      <td>1</td>\n",
       "      <td>5.051282</td>\n",
       "      <td>2.997390</td>\n",
       "    </tr>\n",
       "    <tr>\n",
       "      <th>316</th>\n",
       "      <td>2bdbc0a45d6228970b353d691e2ec229f0cf60790a1a39d5e01c0175b5e20cd2ca7d39aff8506741884fd7a4cd4fd9fdec5112ddb764d81c2983752c989f1078</td>\n",
       "      <td>17a3d4a3ac3f51f787c0ae099e55d3c2c69ed3b87b693bf49359d5fd3ebb2b1ddc14e484f99a00af421de08432d98698bf87cb49a4b4134bcfe187541e6df35b</td>\n",
       "      <td>10</td>\n",
       "      <td>1</td>\n",
       "      <td>5.051282</td>\n",
       "      <td>2.997390</td>\n",
       "    </tr>\n",
       "    <tr>\n",
       "      <th>323</th>\n",
       "      <td>2bdbc0a45d6228970b353d691e2ec229f0cf60790a1a39d5e01c0175b5e20cd2ca7d39aff8506741884fd7a4cd4fd9fdec5112ddb764d81c2983752c989f1078</td>\n",
       "      <td>e2a32d3476f5d2c07db3ca83be843fd5b8c874f1276ab6b3968f8decbf37ac5699b065776e3d5d73832ffaba08b8bdfa2c8a8a88c38f22fc4dfe37791f394aa9</td>\n",
       "      <td>10</td>\n",
       "      <td>1</td>\n",
       "      <td>5.051282</td>\n",
       "      <td>2.997390</td>\n",
       "    </tr>\n",
       "    <tr>\n",
       "      <th>324</th>\n",
       "      <td>2bdbc0a45d6228970b353d691e2ec229f0cf60790a1a39d5e01c0175b5e20cd2ca7d39aff8506741884fd7a4cd4fd9fdec5112ddb764d81c2983752c989f1078</td>\n",
       "      <td>3c5b74e193aad8700689e7f7c2758a8b612c0f8bf04e92a18767e5d69b1c4b363fc10d1cd6fc94d1c6051f27c23feb06a203a187c99e25e26148574ef5fefd19</td>\n",
       "      <td>10</td>\n",
       "      <td>1</td>\n",
       "      <td>5.051282</td>\n",
       "      <td>2.997390</td>\n",
       "    </tr>\n",
       "    <tr>\n",
       "      <th>325</th>\n",
       "      <td>2bdbc0a45d6228970b353d691e2ec229f0cf60790a1a39d5e01c0175b5e20cd2ca7d39aff8506741884fd7a4cd4fd9fdec5112ddb764d81c2983752c989f1078</td>\n",
       "      <td>8ee8ec83fe28f63a71148dc9bf5bc923fd38318c6f84b8b57dd20e2fcb91dbb9c485a1bbf9f9d21d9ab3f2caedf784c385bb9ca98e256e73b1d0830f191ac71a</td>\n",
       "      <td>10</td>\n",
       "      <td>1</td>\n",
       "      <td>5.051282</td>\n",
       "      <td>2.997390</td>\n",
       "    </tr>\n",
       "    <tr>\n",
       "      <th>326</th>\n",
       "      <td>2bdbc0a45d6228970b353d691e2ec229f0cf60790a1a39d5e01c0175b5e20cd2ca7d39aff8506741884fd7a4cd4fd9fdec5112ddb764d81c2983752c989f1078</td>\n",
       "      <td>3c5b74e193aad8700689e7f7c2758a8b612c0f8bf04e92a18767e5d69b1c4b363fc10d1cd6fc94d1c6051f27c23feb06a203a187c99e25e26148574ef5fefd19</td>\n",
       "      <td>10</td>\n",
       "      <td>1</td>\n",
       "      <td>5.051282</td>\n",
       "      <td>2.997390</td>\n",
       "    </tr>\n",
       "    <tr>\n",
       "      <th>327</th>\n",
       "      <td>2bdbc0a45d6228970b353d691e2ec229f0cf60790a1a39d5e01c0175b5e20cd2ca7d39aff8506741884fd7a4cd4fd9fdec5112ddb764d81c2983752c989f1078</td>\n",
       "      <td>a1f9bc9c36dba237a832c6f67eb4aa5120109ef13b41b4a52742a6749e74b77fa8844f38e6e2fa0556a6cc46746040643ebfdf2dfe441cb6dbabb98330b6da95</td>\n",
       "      <td>10</td>\n",
       "      <td>1</td>\n",
       "      <td>5.051282</td>\n",
       "      <td>2.997390</td>\n",
       "    </tr>\n",
       "    <tr>\n",
       "      <th>328</th>\n",
       "      <td>2bdbc0a45d6228970b353d691e2ec229f0cf60790a1a39d5e01c0175b5e20cd2ca7d39aff8506741884fd7a4cd4fd9fdec5112ddb764d81c2983752c989f1078</td>\n",
       "      <td>8ee8ec83fe28f63a71148dc9bf5bc923fd38318c6f84b8b57dd20e2fcb91dbb9c485a1bbf9f9d21d9ab3f2caedf784c385bb9ca98e256e73b1d0830f191ac71a</td>\n",
       "      <td>10</td>\n",
       "      <td>1</td>\n",
       "      <td>5.051282</td>\n",
       "      <td>2.997390</td>\n",
       "    </tr>\n",
       "    <tr>\n",
       "      <th>338</th>\n",
       "      <td>2bdbc0a45d6228970b353d691e2ec229f0cf60790a1a39d5e01c0175b5e20cd2ca7d39aff8506741884fd7a4cd4fd9fdec5112ddb764d81c2983752c989f1078</td>\n",
       "      <td>17a3d4a3ac3f51f787c0ae099e55d3c2c69ed3b87b693bf49359d5fd3ebb2b1ddc14e484f99a00af421de08432d98698bf87cb49a4b4134bcfe187541e6df35b</td>\n",
       "      <td>10</td>\n",
       "      <td>1</td>\n",
       "      <td>5.051282</td>\n",
       "      <td>2.997390</td>\n",
       "    </tr>\n",
       "    <tr>\n",
       "      <th>342</th>\n",
       "      <td>2bdbc0a45d6228970b353d691e2ec229f0cf60790a1a39d5e01c0175b5e20cd2ca7d39aff8506741884fd7a4cd4fd9fdec5112ddb764d81c2983752c989f1078</td>\n",
       "      <td>66d11b48d6c7f7e705b1f0a4a932b5765f709c934133f96c1580864dc034400db47f777c87fb0c0396bbbadb4d6d0bafbc757ca98c6120aa450c0207cfd985ed</td>\n",
       "      <td>10</td>\n",
       "      <td>1</td>\n",
       "      <td>5.051282</td>\n",
       "      <td>2.997390</td>\n",
       "    </tr>\n",
       "    <tr>\n",
       "      <th>344</th>\n",
       "      <td>2bdbc0a45d6228970b353d691e2ec229f0cf60790a1a39d5e01c0175b5e20cd2ca7d39aff8506741884fd7a4cd4fd9fdec5112ddb764d81c2983752c989f1078</td>\n",
       "      <td>d776f3866bb0473e39edd20d7fea379f775a166f8ca3c2df3d5c435b6cc715f0b4d390792ce84a70cfb64e590cad729fa78d28c12b23082b6c42ed4817402674</td>\n",
       "      <td>10</td>\n",
       "      <td>1</td>\n",
       "      <td>5.051282</td>\n",
       "      <td>2.997390</td>\n",
       "    </tr>\n",
       "    <tr>\n",
       "      <th>345</th>\n",
       "      <td>2bdbc0a45d6228970b353d691e2ec229f0cf60790a1a39d5e01c0175b5e20cd2ca7d39aff8506741884fd7a4cd4fd9fdec5112ddb764d81c2983752c989f1078</td>\n",
       "      <td>3c5b74e193aad8700689e7f7c2758a8b612c0f8bf04e92a18767e5d69b1c4b363fc10d1cd6fc94d1c6051f27c23feb06a203a187c99e25e26148574ef5fefd19</td>\n",
       "      <td>10</td>\n",
       "      <td>1</td>\n",
       "      <td>5.051282</td>\n",
       "      <td>2.997390</td>\n",
       "    </tr>\n",
       "    <tr>\n",
       "      <th>354</th>\n",
       "      <td>2bdbc0a45d6228970b353d691e2ec229f0cf60790a1a39d5e01c0175b5e20cd2ca7d39aff8506741884fd7a4cd4fd9fdec5112ddb764d81c2983752c989f1078</td>\n",
       "      <td>9fe321b6776b7ff131eb29637cb41fcfc207711389fbf2cfdab37f094907bbc32c46cb885102e6a60e47c1b8098c7e8f94a349c1f06fd490bf4b7d2b065e21a1</td>\n",
       "      <td>10</td>\n",
       "      <td>1</td>\n",
       "      <td>5.051282</td>\n",
       "      <td>2.997390</td>\n",
       "    </tr>\n",
       "    <tr>\n",
       "      <th>456</th>\n",
       "      <td>2282a2178e7603dac5603332b9b9752809f1743e3bcf3d2039d06fd733f01b50da03242a29c6472a19d92e12f6635d1565c999b9653ccdb13c936549c1b19912</td>\n",
       "      <td>f24b5dfbe965b411d2c3dca9997d893e77d8557250719d18cb509a72c8ca75cb4932e19055a32be28da4c9364b885db5f9e3e55af9a57c216afee03a936361c4</td>\n",
       "      <td>37</td>\n",
       "      <td>7</td>\n",
       "      <td>23.314785</td>\n",
       "      <td>8.114985</td>\n",
       "    </tr>\n",
       "    <tr>\n",
       "      <th>492</th>\n",
       "      <td>b3994b4c46e39954cfe0cb8ebd2a79703a2ace6612fa18241509e8b2dfe9d75f503823b6df2d10180a9033ccd22390aaeda397037ca4cd26604d6db6e3470874</td>\n",
       "      <td>1b01124a6ad0443ad868757c6594a605a0c5179c2b5b57071d5cec8cd8c4c89d7598587f953f08887965b42d2e465d08388c5465fe43b67f1e9ca5509c5529f2</td>\n",
       "      <td>9</td>\n",
       "      <td>1</td>\n",
       "      <td>6.248000</td>\n",
       "      <td>2.415194</td>\n",
       "    </tr>\n",
       "    <tr>\n",
       "      <th>493</th>\n",
       "      <td>b3994b4c46e39954cfe0cb8ebd2a79703a2ace6612fa18241509e8b2dfe9d75f503823b6df2d10180a9033ccd22390aaeda397037ca4cd26604d6db6e3470874</td>\n",
       "      <td>1246503c19a0367fefb375ab02bfc425f3961022cc893b6a7471f98bfbeedd7e2712ce9dbb13d5d278d06ed7e74f2b7b8b9cba17a1dbb56f9d639090419b331e</td>\n",
       "      <td>9</td>\n",
       "      <td>1</td>\n",
       "      <td>6.248000</td>\n",
       "      <td>2.415194</td>\n",
       "    </tr>\n",
       "    <tr>\n",
       "      <th>494</th>\n",
       "      <td>b3994b4c46e39954cfe0cb8ebd2a79703a2ace6612fa18241509e8b2dfe9d75f503823b6df2d10180a9033ccd22390aaeda397037ca4cd26604d6db6e3470874</td>\n",
       "      <td>1246503c19a0367fefb375ab02bfc425f3961022cc893b6a7471f98bfbeedd7e2712ce9dbb13d5d278d06ed7e74f2b7b8b9cba17a1dbb56f9d639090419b331e</td>\n",
       "      <td>9</td>\n",
       "      <td>1</td>\n",
       "      <td>6.248000</td>\n",
       "      <td>2.415194</td>\n",
       "    </tr>\n",
       "    <tr>\n",
       "      <th>495</th>\n",
       "      <td>b3994b4c46e39954cfe0cb8ebd2a79703a2ace6612fa18241509e8b2dfe9d75f503823b6df2d10180a9033ccd22390aaeda397037ca4cd26604d6db6e3470874</td>\n",
       "      <td>65a5df7ec56bf90bbacfdb73b9a42ce3b55eeffd33d62536098bf480d012af7473e251e44e1969a2d061060a5f9550dbfda366f292a6d04acd79df1e2bfbd56c</td>\n",
       "      <td>9</td>\n",
       "      <td>1</td>\n",
       "      <td>6.248000</td>\n",
       "      <td>2.415194</td>\n",
       "    </tr>\n",
       "    <tr>\n",
       "      <th>496</th>\n",
       "      <td>b3994b4c46e39954cfe0cb8ebd2a79703a2ace6612fa18241509e8b2dfe9d75f503823b6df2d10180a9033ccd22390aaeda397037ca4cd26604d6db6e3470874</td>\n",
       "      <td>65a5df7ec56bf90bbacfdb73b9a42ce3b55eeffd33d62536098bf480d012af7473e251e44e1969a2d061060a5f9550dbfda366f292a6d04acd79df1e2bfbd56c</td>\n",
       "      <td>9</td>\n",
       "      <td>1</td>\n",
       "      <td>6.248000</td>\n",
       "      <td>2.415194</td>\n",
       "    </tr>\n",
       "    <tr>\n",
       "      <th>497</th>\n",
       "      <td>b3994b4c46e39954cfe0cb8ebd2a79703a2ace6612fa18241509e8b2dfe9d75f503823b6df2d10180a9033ccd22390aaeda397037ca4cd26604d6db6e3470874</td>\n",
       "      <td>1b01124a6ad0443ad868757c6594a605a0c5179c2b5b57071d5cec8cd8c4c89d7598587f953f08887965b42d2e465d08388c5465fe43b67f1e9ca5509c5529f2</td>\n",
       "      <td>9</td>\n",
       "      <td>1</td>\n",
       "      <td>6.248000</td>\n",
       "      <td>2.415194</td>\n",
       "    </tr>\n",
       "  </tbody>\n",
       "</table>\n",
       "</div>"
      ],
      "text/plain": [
       "                                                                                                                           phone_no_m  \\\n",
       "9    b3994b4c46e39954cfe0cb8ebd2a79703a2ace6612fa18241509e8b2dfe9d75f503823b6df2d10180a9033ccd22390aaeda397037ca4cd26604d6db6e3470874   \n",
       "10   b3994b4c46e39954cfe0cb8ebd2a79703a2ace6612fa18241509e8b2dfe9d75f503823b6df2d10180a9033ccd22390aaeda397037ca4cd26604d6db6e3470874   \n",
       "219  c5502a6d3e4cabaf8c0e298c4aac693b6e80835d50d4e4f393d8426bd49c0d4d00c3959d2a2c8341410e57af28bee6dc5c80dbad7cf147018ec0ece7bfa0cf5f   \n",
       "222  c5502a6d3e4cabaf8c0e298c4aac693b6e80835d50d4e4f393d8426bd49c0d4d00c3959d2a2c8341410e57af28bee6dc5c80dbad7cf147018ec0ece7bfa0cf5f   \n",
       "276  2bdbc0a45d6228970b353d691e2ec229f0cf60790a1a39d5e01c0175b5e20cd2ca7d39aff8506741884fd7a4cd4fd9fdec5112ddb764d81c2983752c989f1078   \n",
       "290  2bdbc0a45d6228970b353d691e2ec229f0cf60790a1a39d5e01c0175b5e20cd2ca7d39aff8506741884fd7a4cd4fd9fdec5112ddb764d81c2983752c989f1078   \n",
       "291  2bdbc0a45d6228970b353d691e2ec229f0cf60790a1a39d5e01c0175b5e20cd2ca7d39aff8506741884fd7a4cd4fd9fdec5112ddb764d81c2983752c989f1078   \n",
       "292  2bdbc0a45d6228970b353d691e2ec229f0cf60790a1a39d5e01c0175b5e20cd2ca7d39aff8506741884fd7a4cd4fd9fdec5112ddb764d81c2983752c989f1078   \n",
       "296  2bdbc0a45d6228970b353d691e2ec229f0cf60790a1a39d5e01c0175b5e20cd2ca7d39aff8506741884fd7a4cd4fd9fdec5112ddb764d81c2983752c989f1078   \n",
       "297  2bdbc0a45d6228970b353d691e2ec229f0cf60790a1a39d5e01c0175b5e20cd2ca7d39aff8506741884fd7a4cd4fd9fdec5112ddb764d81c2983752c989f1078   \n",
       "313  2bdbc0a45d6228970b353d691e2ec229f0cf60790a1a39d5e01c0175b5e20cd2ca7d39aff8506741884fd7a4cd4fd9fdec5112ddb764d81c2983752c989f1078   \n",
       "316  2bdbc0a45d6228970b353d691e2ec229f0cf60790a1a39d5e01c0175b5e20cd2ca7d39aff8506741884fd7a4cd4fd9fdec5112ddb764d81c2983752c989f1078   \n",
       "323  2bdbc0a45d6228970b353d691e2ec229f0cf60790a1a39d5e01c0175b5e20cd2ca7d39aff8506741884fd7a4cd4fd9fdec5112ddb764d81c2983752c989f1078   \n",
       "324  2bdbc0a45d6228970b353d691e2ec229f0cf60790a1a39d5e01c0175b5e20cd2ca7d39aff8506741884fd7a4cd4fd9fdec5112ddb764d81c2983752c989f1078   \n",
       "325  2bdbc0a45d6228970b353d691e2ec229f0cf60790a1a39d5e01c0175b5e20cd2ca7d39aff8506741884fd7a4cd4fd9fdec5112ddb764d81c2983752c989f1078   \n",
       "326  2bdbc0a45d6228970b353d691e2ec229f0cf60790a1a39d5e01c0175b5e20cd2ca7d39aff8506741884fd7a4cd4fd9fdec5112ddb764d81c2983752c989f1078   \n",
       "327  2bdbc0a45d6228970b353d691e2ec229f0cf60790a1a39d5e01c0175b5e20cd2ca7d39aff8506741884fd7a4cd4fd9fdec5112ddb764d81c2983752c989f1078   \n",
       "328  2bdbc0a45d6228970b353d691e2ec229f0cf60790a1a39d5e01c0175b5e20cd2ca7d39aff8506741884fd7a4cd4fd9fdec5112ddb764d81c2983752c989f1078   \n",
       "338  2bdbc0a45d6228970b353d691e2ec229f0cf60790a1a39d5e01c0175b5e20cd2ca7d39aff8506741884fd7a4cd4fd9fdec5112ddb764d81c2983752c989f1078   \n",
       "342  2bdbc0a45d6228970b353d691e2ec229f0cf60790a1a39d5e01c0175b5e20cd2ca7d39aff8506741884fd7a4cd4fd9fdec5112ddb764d81c2983752c989f1078   \n",
       "344  2bdbc0a45d6228970b353d691e2ec229f0cf60790a1a39d5e01c0175b5e20cd2ca7d39aff8506741884fd7a4cd4fd9fdec5112ddb764d81c2983752c989f1078   \n",
       "345  2bdbc0a45d6228970b353d691e2ec229f0cf60790a1a39d5e01c0175b5e20cd2ca7d39aff8506741884fd7a4cd4fd9fdec5112ddb764d81c2983752c989f1078   \n",
       "354  2bdbc0a45d6228970b353d691e2ec229f0cf60790a1a39d5e01c0175b5e20cd2ca7d39aff8506741884fd7a4cd4fd9fdec5112ddb764d81c2983752c989f1078   \n",
       "456  2282a2178e7603dac5603332b9b9752809f1743e3bcf3d2039d06fd733f01b50da03242a29c6472a19d92e12f6635d1565c999b9653ccdb13c936549c1b19912   \n",
       "492  b3994b4c46e39954cfe0cb8ebd2a79703a2ace6612fa18241509e8b2dfe9d75f503823b6df2d10180a9033ccd22390aaeda397037ca4cd26604d6db6e3470874   \n",
       "493  b3994b4c46e39954cfe0cb8ebd2a79703a2ace6612fa18241509e8b2dfe9d75f503823b6df2d10180a9033ccd22390aaeda397037ca4cd26604d6db6e3470874   \n",
       "494  b3994b4c46e39954cfe0cb8ebd2a79703a2ace6612fa18241509e8b2dfe9d75f503823b6df2d10180a9033ccd22390aaeda397037ca4cd26604d6db6e3470874   \n",
       "495  b3994b4c46e39954cfe0cb8ebd2a79703a2ace6612fa18241509e8b2dfe9d75f503823b6df2d10180a9033ccd22390aaeda397037ca4cd26604d6db6e3470874   \n",
       "496  b3994b4c46e39954cfe0cb8ebd2a79703a2ace6612fa18241509e8b2dfe9d75f503823b6df2d10180a9033ccd22390aaeda397037ca4cd26604d6db6e3470874   \n",
       "497  b3994b4c46e39954cfe0cb8ebd2a79703a2ace6612fa18241509e8b2dfe9d75f503823b6df2d10180a9033ccd22390aaeda397037ca4cd26604d6db6e3470874   \n",
       "\n",
       "                                                                                                                        opposite_no_m  \\\n",
       "9    1b01124a6ad0443ad868757c6594a605a0c5179c2b5b57071d5cec8cd8c4c89d7598587f953f08887965b42d2e465d08388c5465fe43b67f1e9ca5509c5529f2   \n",
       "10   1b01124a6ad0443ad868757c6594a605a0c5179c2b5b57071d5cec8cd8c4c89d7598587f953f08887965b42d2e465d08388c5465fe43b67f1e9ca5509c5529f2   \n",
       "219  f1b73c46a691c068bfd38253e20e882d4993c8d3e58016aeed804a8cdbf54542112e529ebf7fdd0e62cf3556571fb17b865d8c3d57c42be851d75c90f4df4603   \n",
       "222  5bc6d97a3017578edfa7979fa43653cd74bad827f18337c8c84728f79778939b6f939ea3aa2661907f2e79bcf70feb93adb79c3f7d4a934368c459d9b6aeb54e   \n",
       "276  c42eeddeff98feb87860441ea6548f8bda2a080c935e02c7a6ae30223cf37dfc2d16760224c79b93ea44a6d3fd77139e03a20f47608b9455372a96cb026f239e   \n",
       "290  9fe321b6776b7ff131eb29637cb41fcfc207711389fbf2cfdab37f094907bbc32c46cb885102e6a60e47c1b8098c7e8f94a349c1f06fd490bf4b7d2b065e21a1   \n",
       "291  b19817c968b1dff7bfc21a0c814282d15734c102746ceeaa06011332673ddada747a4bd9bf347c40721c994aa96a61b8747a7b45dc6cb4373e66ed6bba49de2e   \n",
       "292  b19817c968b1dff7bfc21a0c814282d15734c102746ceeaa06011332673ddada747a4bd9bf347c40721c994aa96a61b8747a7b45dc6cb4373e66ed6bba49de2e   \n",
       "296  f4e69a298edadd5c1d32730bbf3ddd9f76be12f0949cceafc1230f05186b8c470669ecb894cc633820b3eecfbca61bbdb6b585d473b4c827ddefa7a405135d82   \n",
       "297  17a3d4a3ac3f51f787c0ae099e55d3c2c69ed3b87b693bf49359d5fd3ebb2b1ddc14e484f99a00af421de08432d98698bf87cb49a4b4134bcfe187541e6df35b   \n",
       "313  8ee8ec83fe28f63a71148dc9bf5bc923fd38318c6f84b8b57dd20e2fcb91dbb9c485a1bbf9f9d21d9ab3f2caedf784c385bb9ca98e256e73b1d0830f191ac71a   \n",
       "316  17a3d4a3ac3f51f787c0ae099e55d3c2c69ed3b87b693bf49359d5fd3ebb2b1ddc14e484f99a00af421de08432d98698bf87cb49a4b4134bcfe187541e6df35b   \n",
       "323  e2a32d3476f5d2c07db3ca83be843fd5b8c874f1276ab6b3968f8decbf37ac5699b065776e3d5d73832ffaba08b8bdfa2c8a8a88c38f22fc4dfe37791f394aa9   \n",
       "324  3c5b74e193aad8700689e7f7c2758a8b612c0f8bf04e92a18767e5d69b1c4b363fc10d1cd6fc94d1c6051f27c23feb06a203a187c99e25e26148574ef5fefd19   \n",
       "325  8ee8ec83fe28f63a71148dc9bf5bc923fd38318c6f84b8b57dd20e2fcb91dbb9c485a1bbf9f9d21d9ab3f2caedf784c385bb9ca98e256e73b1d0830f191ac71a   \n",
       "326  3c5b74e193aad8700689e7f7c2758a8b612c0f8bf04e92a18767e5d69b1c4b363fc10d1cd6fc94d1c6051f27c23feb06a203a187c99e25e26148574ef5fefd19   \n",
       "327  a1f9bc9c36dba237a832c6f67eb4aa5120109ef13b41b4a52742a6749e74b77fa8844f38e6e2fa0556a6cc46746040643ebfdf2dfe441cb6dbabb98330b6da95   \n",
       "328  8ee8ec83fe28f63a71148dc9bf5bc923fd38318c6f84b8b57dd20e2fcb91dbb9c485a1bbf9f9d21d9ab3f2caedf784c385bb9ca98e256e73b1d0830f191ac71a   \n",
       "338  17a3d4a3ac3f51f787c0ae099e55d3c2c69ed3b87b693bf49359d5fd3ebb2b1ddc14e484f99a00af421de08432d98698bf87cb49a4b4134bcfe187541e6df35b   \n",
       "342  66d11b48d6c7f7e705b1f0a4a932b5765f709c934133f96c1580864dc034400db47f777c87fb0c0396bbbadb4d6d0bafbc757ca98c6120aa450c0207cfd985ed   \n",
       "344  d776f3866bb0473e39edd20d7fea379f775a166f8ca3c2df3d5c435b6cc715f0b4d390792ce84a70cfb64e590cad729fa78d28c12b23082b6c42ed4817402674   \n",
       "345  3c5b74e193aad8700689e7f7c2758a8b612c0f8bf04e92a18767e5d69b1c4b363fc10d1cd6fc94d1c6051f27c23feb06a203a187c99e25e26148574ef5fefd19   \n",
       "354  9fe321b6776b7ff131eb29637cb41fcfc207711389fbf2cfdab37f094907bbc32c46cb885102e6a60e47c1b8098c7e8f94a349c1f06fd490bf4b7d2b065e21a1   \n",
       "456  f24b5dfbe965b411d2c3dca9997d893e77d8557250719d18cb509a72c8ca75cb4932e19055a32be28da4c9364b885db5f9e3e55af9a57c216afee03a936361c4   \n",
       "492  1b01124a6ad0443ad868757c6594a605a0c5179c2b5b57071d5cec8cd8c4c89d7598587f953f08887965b42d2e465d08388c5465fe43b67f1e9ca5509c5529f2   \n",
       "493  1246503c19a0367fefb375ab02bfc425f3961022cc893b6a7471f98bfbeedd7e2712ce9dbb13d5d278d06ed7e74f2b7b8b9cba17a1dbb56f9d639090419b331e   \n",
       "494  1246503c19a0367fefb375ab02bfc425f3961022cc893b6a7471f98bfbeedd7e2712ce9dbb13d5d278d06ed7e74f2b7b8b9cba17a1dbb56f9d639090419b331e   \n",
       "495  65a5df7ec56bf90bbacfdb73b9a42ce3b55eeffd33d62536098bf480d012af7473e251e44e1969a2d061060a5f9550dbfda366f292a6d04acd79df1e2bfbd56c   \n",
       "496  65a5df7ec56bf90bbacfdb73b9a42ce3b55eeffd33d62536098bf480d012af7473e251e44e1969a2d061060a5f9550dbfda366f292a6d04acd79df1e2bfbd56c   \n",
       "497  1b01124a6ad0443ad868757c6594a605a0c5179c2b5b57071d5cec8cd8c4c89d7598587f953f08887965b42d2e465d08388c5465fe43b67f1e9ca5509c5529f2   \n",
       "\n",
       "     voc_day_count_max  voc_day_count_min  voc_day_count_mean  \\\n",
       "9                    9                  1            6.248000   \n",
       "10                   9                  1            6.248000   \n",
       "219                  5                  1            2.500000   \n",
       "222                  5                  1            2.500000   \n",
       "276                 10                  1            5.051282   \n",
       "290                 10                  1            5.051282   \n",
       "291                 10                  1            5.051282   \n",
       "292                 10                  1            5.051282   \n",
       "296                 10                  1            5.051282   \n",
       "297                 10                  1            5.051282   \n",
       "313                 10                  1            5.051282   \n",
       "316                 10                  1            5.051282   \n",
       "323                 10                  1            5.051282   \n",
       "324                 10                  1            5.051282   \n",
       "325                 10                  1            5.051282   \n",
       "326                 10                  1            5.051282   \n",
       "327                 10                  1            5.051282   \n",
       "328                 10                  1            5.051282   \n",
       "338                 10                  1            5.051282   \n",
       "342                 10                  1            5.051282   \n",
       "344                 10                  1            5.051282   \n",
       "345                 10                  1            5.051282   \n",
       "354                 10                  1            5.051282   \n",
       "456                 37                  7           23.314785   \n",
       "492                  9                  1            6.248000   \n",
       "493                  9                  1            6.248000   \n",
       "494                  9                  1            6.248000   \n",
       "495                  9                  1            6.248000   \n",
       "496                  9                  1            6.248000   \n",
       "497                  9                  1            6.248000   \n",
       "\n",
       "     voc_day_count_std  \n",
       "9             2.415194  \n",
       "10            2.415194  \n",
       "219           1.638356  \n",
       "222           1.638356  \n",
       "276           2.997390  \n",
       "290           2.997390  \n",
       "291           2.997390  \n",
       "292           2.997390  \n",
       "296           2.997390  \n",
       "297           2.997390  \n",
       "313           2.997390  \n",
       "316           2.997390  \n",
       "323           2.997390  \n",
       "324           2.997390  \n",
       "325           2.997390  \n",
       "326           2.997390  \n",
       "327           2.997390  \n",
       "328           2.997390  \n",
       "338           2.997390  \n",
       "342           2.997390  \n",
       "344           2.997390  \n",
       "345           2.997390  \n",
       "354           2.997390  \n",
       "456           8.114985  \n",
       "492           2.415194  \n",
       "493           2.415194  \n",
       "494           2.415194  \n",
       "495           2.415194  \n",
       "496           2.415194  \n",
       "497           2.415194  "
      ]
     },
     "execution_count": 24,
     "metadata": {},
     "output_type": "execute_result"
    }
   ],
   "source": [
    "df_voc[['phone_no_m', 'opposite_no_m', 'voc_day_count_max', 'voc_day_count_min', 'voc_day_count_mean', 'voc_day_count_std']].head(30)"
   ]
  },
  {
   "cell_type": "code",
   "execution_count": 25,
   "metadata": {
    "ExecuteTime": {
     "end_time": "2020-06-08T16:16:23.200035Z",
     "start_time": "2020-06-08T16:16:21.065254Z"
    }
   },
   "outputs": [],
   "source": [
    "# 一小时内通话统计量\n",
    "\n",
    "df_voc['voc_hour_count'] = df_voc.groupby(['phone_no_m', 'voc_hour'])['phone_no_m'].transform('count')\n",
    "df_voc['voc_hour_count_max'] = df_voc.groupby('phone_no_m')['voc_hour_count'].transform('max')\n",
    "df_voc['voc_hour_count_min'] = df_voc.groupby('phone_no_m')['voc_hour_count'].transform('min')\n",
    "df_voc['voc_hour_count_mean'] = df_voc.groupby('phone_no_m')['voc_hour_count'].transform('mean')\n",
    "df_voc['voc_hour_count_std'] = df_voc.groupby('phone_no_m')['voc_hour_count'].transform('std')\n",
    "\n",
    "del df_voc['voc_hour_count']"
   ]
  },
  {
   "cell_type": "code",
   "execution_count": 26,
   "metadata": {
    "ExecuteTime": {
     "end_time": "2020-06-08T16:16:25.408776Z",
     "start_time": "2020-06-08T16:16:23.202035Z"
    }
   },
   "outputs": [],
   "source": [
    "# 周几通话统计量\n",
    "\n",
    "df_voc['voc_dayofweek_count'] = df_voc.groupby(['phone_no_m', 'voc_dayofweek'])['phone_no_m'].transform('count')\n",
    "df_voc['voc_dayofweek_count_max'] = df_voc.groupby('phone_no_m')['voc_dayofweek'].transform('max')\n",
    "df_voc['voc_dayofweek_count_min'] = df_voc.groupby('phone_no_m')['voc_dayofweek'].transform('min')\n",
    "df_voc['voc_dayofweek_count_mean'] = df_voc.groupby('phone_no_m')['voc_dayofweek'].transform('mean')\n",
    "df_voc['voc_dayofweek_count_std'] = df_voc.groupby('phone_no_m')['voc_dayofweek'].transform('std')\n",
    "\n",
    "del df_voc['voc_dayofweek_count']"
   ]
  },
  {
   "cell_type": "code",
   "execution_count": 27,
   "metadata": {
    "ExecuteTime": {
     "end_time": "2020-06-08T16:16:27.818401Z",
     "start_time": "2020-06-08T16:16:25.410774Z"
    }
   },
   "outputs": [],
   "source": [
    "# 该月总的通话次数\n",
    "df_voc['voc_count'] = df_voc.groupby('phone_no_m')['phone_no_m'].transform('count')\n",
    "\n",
    "# 相互打电话次数\n",
    "df_voc['voc_count_mutual'] = df_voc.groupby(['phone_no_m', 'opposite_no_m'])['phone_no_m'].transform('count')"
   ]
  },
  {
   "cell_type": "markdown",
   "metadata": {},
   "source": [
    "### 短信表"
   ]
  },
  {
   "cell_type": "code",
   "execution_count": 28,
   "metadata": {
    "ExecuteTime": {
     "end_time": "2020-06-08T16:16:28.716889Z",
     "start_time": "2020-06-08T16:16:27.820400Z"
    }
   },
   "outputs": [],
   "source": [
    "train_sms = pd.read_hdf('../input/train_sms.h5')\n",
    "test_sms = pd.read_hdf('../input/test_sms.h5')"
   ]
  },
  {
   "cell_type": "code",
   "execution_count": 29,
   "metadata": {
    "ExecuteTime": {
     "end_time": "2020-06-08T16:16:28.888791Z",
     "start_time": "2020-06-08T16:16:28.719888Z"
    }
   },
   "outputs": [],
   "source": [
    "train_sms = train_sms[train_sms['request_datetime'] >= '2020-03-01 00:00:00']"
   ]
  },
  {
   "cell_type": "code",
   "execution_count": 30,
   "metadata": {
    "ExecuteTime": {
     "end_time": "2020-06-08T16:16:29.068688Z",
     "start_time": "2020-06-08T16:16:28.891790Z"
    }
   },
   "outputs": [],
   "source": [
    "df_sms = pd.concat([train_sms, test_sms])"
   ]
  },
  {
   "cell_type": "code",
   "execution_count": 31,
   "metadata": {
    "ExecuteTime": {
     "end_time": "2020-06-08T16:16:29.330538Z",
     "start_time": "2020-06-08T16:16:29.070687Z"
    }
   },
   "outputs": [],
   "source": [
    "df_sms.rename(columns={'calltype_id': 'calltype_id_sms'}, inplace=True)"
   ]
  },
  {
   "cell_type": "code",
   "execution_count": 32,
   "metadata": {
    "ExecuteTime": {
     "end_time": "2020-06-08T16:16:32.883511Z",
     "start_time": "2020-06-08T16:16:29.332538Z"
    }
   },
   "outputs": [],
   "source": [
    "df_sms['sms_day'] = df_sms['request_datetime'].astype('datetime64').dt.day\n",
    "df_sms['sms_hour'] = df_sms['request_datetime'].astype('datetime64').dt.hour\n",
    "df_sms['sms_dayofweek'] = df_sms['request_datetime'].astype('datetime64').dt.dayofweek"
   ]
  },
  {
   "cell_type": "code",
   "execution_count": 33,
   "metadata": {
    "ExecuteTime": {
     "end_time": "2020-06-08T16:16:35.673921Z",
     "start_time": "2020-06-08T16:16:32.885511Z"
    }
   },
   "outputs": [],
   "source": [
    "# 一天内短信统计量\n",
    "\n",
    "df_sms['sms_day_count'] = df_sms.groupby(['phone_no_m', 'sms_day'])['phone_no_m'].transform('count')\n",
    "df_sms['sms_day_count_max'] = df_sms.groupby('phone_no_m')['sms_day_count'].transform('max')\n",
    "df_sms['sms_day_count_min'] = df_sms.groupby('phone_no_m')['sms_day_count'].transform('min')\n",
    "df_sms['sms_day_count_mean'] = df_sms.groupby('phone_no_m')['sms_day_count'].transform('mean')\n",
    "df_sms['sms_day_count_std'] = df_sms.groupby('phone_no_m')['sms_day_count'].transform('std')\n",
    "\n",
    "del df_sms['sms_day_count']"
   ]
  },
  {
   "cell_type": "code",
   "execution_count": 34,
   "metadata": {
    "ExecuteTime": {
     "end_time": "2020-06-08T16:16:38.516297Z",
     "start_time": "2020-06-08T16:16:35.676918Z"
    }
   },
   "outputs": [],
   "source": [
    "# 一小时内短信统计量\n",
    "\n",
    "df_sms['sms_hour_count'] = df_sms.groupby(['phone_no_m', 'sms_hour'])['phone_no_m'].transform('count')\n",
    "df_sms['sms_hour_count_max'] = df_sms.groupby('phone_no_m')['sms_hour_count'].transform('max')\n",
    "df_sms['sms_hour_count_min'] = df_sms.groupby('phone_no_m')['sms_hour_count'].transform('min')\n",
    "df_sms['sms_hour_count_mean'] = df_sms.groupby('phone_no_m')['sms_hour_count'].transform('mean')\n",
    "df_sms['sms_hour_count_std'] = df_sms.groupby('phone_no_m')['sms_hour_count'].transform('std')\n",
    "\n",
    "del df_sms['sms_hour_count']"
   ]
  },
  {
   "cell_type": "code",
   "execution_count": 35,
   "metadata": {
    "ExecuteTime": {
     "end_time": "2020-06-08T16:16:41.703480Z",
     "start_time": "2020-06-08T16:16:38.518297Z"
    }
   },
   "outputs": [],
   "source": [
    "# 周几短信统计量\n",
    "\n",
    "df_sms['sms_dayofweek_count'] = df_sms.groupby(['phone_no_m', 'sms_dayofweek'])['phone_no_m'].transform('count')\n",
    "df_sms['sms_dayofweek_count_max'] = df_sms.groupby('phone_no_m')['sms_dayofweek_count'].transform('max')\n",
    "df_sms['sms_dayofweek_count_min'] = df_sms.groupby('phone_no_m')['sms_dayofweek_count'].transform('min')\n",
    "df_sms['sms_dayofweek_count_mean'] = df_sms.groupby('phone_no_m')['sms_dayofweek_count'].transform('mean')\n",
    "df_sms['sms_dayofweek_count_std'] = df_sms.groupby('phone_no_m')['sms_dayofweek_count'].transform('std')\n",
    "\n",
    "del df_sms['sms_dayofweek_count']"
   ]
  },
  {
   "cell_type": "code",
   "execution_count": 36,
   "metadata": {
    "ExecuteTime": {
     "end_time": "2020-06-08T16:16:43.992174Z",
     "start_time": "2020-06-08T16:16:41.705480Z"
    }
   },
   "outputs": [],
   "source": [
    "# 该月总的短信次数\n",
    "df_sms['sms_count'] = df_sms.groupby('phone_no_m')['phone_no_m'].transform('count')\n",
    "\n",
    "# 相互发送短信次数\n",
    "df_sms['sms_count_mutual'] = df_sms.groupby(['phone_no_m', 'opposite_no_m'])['phone_no_m'].transform('count')"
   ]
  },
  {
   "cell_type": "markdown",
   "metadata": {},
   "source": [
    "### 应用表"
   ]
  },
  {
   "cell_type": "code",
   "execution_count": 37,
   "metadata": {
    "ExecuteTime": {
     "end_time": "2020-06-08T16:16:44.213052Z",
     "start_time": "2020-06-08T16:16:43.994174Z"
    }
   },
   "outputs": [],
   "source": [
    "train_app = pd.read_hdf('../input/train_app.h5')\n",
    "test_app = pd.read_hdf('../input/test_app.h5')"
   ]
  },
  {
   "cell_type": "code",
   "execution_count": 38,
   "metadata": {
    "ExecuteTime": {
     "end_time": "2020-06-08T16:16:44.284011Z",
     "start_time": "2020-06-08T16:16:44.215048Z"
    }
   },
   "outputs": [],
   "source": [
    "train_app = train_app[train_app['month_id'] == '2020-03']"
   ]
  },
  {
   "cell_type": "code",
   "execution_count": 39,
   "metadata": {
    "ExecuteTime": {
     "end_time": "2020-06-08T16:16:44.337980Z",
     "start_time": "2020-06-08T16:16:44.286008Z"
    }
   },
   "outputs": [],
   "source": [
    "df_app = pd.concat([train_app, test_app])"
   ]
  },
  {
   "cell_type": "code",
   "execution_count": 40,
   "metadata": {
    "ExecuteTime": {
     "end_time": "2020-06-08T16:16:45.593261Z",
     "start_time": "2020-06-08T16:16:44.340978Z"
    }
   },
   "outputs": [],
   "source": [
    "# 用户流量统计\n",
    "\n",
    "df_app['total_flow'] = df_app.groupby('phone_no_m')['flow'].transform('sum')\n",
    "df_app['flow_max'] = df_app.groupby('phone_no_m')['flow'].transform('max')\n",
    "df_app['flow_min'] = df_app.groupby('phone_no_m')['flow'].transform('min')\n",
    "df_app['flow_mean'] = df_app.groupby('phone_no_m')['flow'].transform('mean')\n",
    "df_app['flow_std'] = df_app.groupby('phone_no_m')['flow'].transform('std')\n",
    "\n",
    "# 应用数\n",
    "df_app['app_count'] = df_app.groupby('phone_no_m')['phone_no_m'].transform('count')"
   ]
  },
  {
   "cell_type": "code",
   "execution_count": 41,
   "metadata": {
    "ExecuteTime": {
     "end_time": "2020-06-08T16:16:47.825987Z",
     "start_time": "2020-06-08T16:16:45.595261Z"
    }
   },
   "outputs": [],
   "source": [
    "# 用户在每个app上的流量统计\n",
    "\n",
    "df_app['busi_name_total_flow'] = df_app.groupby(['phone_no_m', 'busi_name'])['flow'].transform('sum')\n",
    "df_app['busi_name_flow_max'] = df_app.groupby(['phone_no_m', 'busi_name'])['flow'].transform('max')\n",
    "df_app['busi_name_flow_min'] = df_app.groupby(['phone_no_m', 'busi_name'])['flow'].transform('min')\n",
    "df_app['busi_name_flow_mean'] = df_app.groupby(['phone_no_m', 'busi_name'])['flow'].transform('mean')\n",
    "df_app['busi_name_flow_std'] = df_app.groupby(['phone_no_m', 'busi_name'])['flow'].transform('std')"
   ]
  },
  {
   "cell_type": "markdown",
   "metadata": {},
   "source": [
    "### 合并数据"
   ]
  },
  {
   "cell_type": "code",
   "execution_count": 42,
   "metadata": {
    "ExecuteTime": {
     "end_time": "2020-06-08T16:16:47.835982Z",
     "start_time": "2020-06-08T16:16:47.827987Z"
    }
   },
   "outputs": [
    {
     "data": {
      "text/plain": [
       "((8151, 10), (985666, 25), (1319506, 21), (512100, 15))"
      ]
     },
     "execution_count": 42,
     "metadata": {},
     "output_type": "execute_result"
    }
   ],
   "source": [
    "df_user.shape, df_voc.shape, df_sms.shape, df_app.shape"
   ]
  },
  {
   "cell_type": "code",
   "execution_count": 43,
   "metadata": {
    "ExecuteTime": {
     "end_time": "2020-06-08T16:16:47.844979Z",
     "start_time": "2020-06-08T16:16:47.838982Z"
    }
   },
   "outputs": [
    {
     "data": {
      "text/plain": [
       "['phone_no_m',\n",
       " 'opposite_no_m',\n",
       " 'calltype_id',\n",
       " 'start_datetime',\n",
       " 'call_dur',\n",
       " 'city_name',\n",
       " 'county_name',\n",
       " 'imei_m',\n",
       " 'voc_day',\n",
       " 'voc_hour',\n",
       " 'voc_dayofweek',\n",
       " 'voc_day_count_max',\n",
       " 'voc_day_count_min',\n",
       " 'voc_day_count_mean',\n",
       " 'voc_day_count_std',\n",
       " 'voc_hour_count_max',\n",
       " 'voc_hour_count_min',\n",
       " 'voc_hour_count_mean',\n",
       " 'voc_hour_count_std',\n",
       " 'voc_dayofweek_count_max',\n",
       " 'voc_dayofweek_count_min',\n",
       " 'voc_dayofweek_count_mean',\n",
       " 'voc_dayofweek_count_std',\n",
       " 'voc_count',\n",
       " 'voc_count_mutual']"
      ]
     },
     "execution_count": 43,
     "metadata": {},
     "output_type": "execute_result"
    }
   ],
   "source": [
    "df_voc.columns.tolist()"
   ]
  },
  {
   "cell_type": "code",
   "execution_count": 44,
   "metadata": {
    "ExecuteTime": {
     "end_time": "2020-06-08T16:16:47.855973Z",
     "start_time": "2020-06-08T16:16:47.848976Z"
    }
   },
   "outputs": [
    {
     "data": {
      "text/plain": [
       "['phone_no_m',\n",
       " 'opposite_no_m',\n",
       " 'calltype_id_sms',\n",
       " 'request_datetime',\n",
       " 'sms_day',\n",
       " 'sms_hour',\n",
       " 'sms_dayofweek',\n",
       " 'sms_day_count_max',\n",
       " 'sms_day_count_min',\n",
       " 'sms_day_count_mean',\n",
       " 'sms_day_count_std',\n",
       " 'sms_hour_count_max',\n",
       " 'sms_hour_count_min',\n",
       " 'sms_hour_count_mean',\n",
       " 'sms_hour_count_std',\n",
       " 'sms_dayofweek_count_max',\n",
       " 'sms_dayofweek_count_min',\n",
       " 'sms_dayofweek_count_mean',\n",
       " 'sms_dayofweek_count_std',\n",
       " 'sms_count',\n",
       " 'sms_count_mutual']"
      ]
     },
     "execution_count": 44,
     "metadata": {},
     "output_type": "execute_result"
    }
   ],
   "source": [
    "df_sms.columns.tolist()"
   ]
  },
  {
   "cell_type": "code",
   "execution_count": 45,
   "metadata": {
    "ExecuteTime": {
     "end_time": "2020-06-08T16:16:47.867965Z",
     "start_time": "2020-06-08T16:16:47.859970Z"
    }
   },
   "outputs": [
    {
     "data": {
      "text/plain": [
       "['phone_no_m',\n",
       " 'busi_name',\n",
       " 'flow',\n",
       " 'month_id',\n",
       " 'total_flow',\n",
       " 'flow_max',\n",
       " 'flow_min',\n",
       " 'flow_mean',\n",
       " 'flow_std',\n",
       " 'app_count',\n",
       " 'busi_name_total_flow',\n",
       " 'busi_name_flow_max',\n",
       " 'busi_name_flow_min',\n",
       " 'busi_name_flow_mean',\n",
       " 'busi_name_flow_std']"
      ]
     },
     "execution_count": 45,
     "metadata": {},
     "output_type": "execute_result"
    }
   ],
   "source": [
    "df_app.columns.tolist()"
   ]
  },
  {
   "cell_type": "code",
   "execution_count": 46,
   "metadata": {
    "ExecuteTime": {
     "end_time": "2020-06-08T16:16:48.557570Z",
     "start_time": "2020-06-08T16:16:47.870963Z"
    }
   },
   "outputs": [],
   "source": [
    "df_voc = df_voc[['phone_no_m', 'calltype_id', 'call_dur', 'voc_day', 'voc_hour', 'voc_dayofweek',\n",
    "                 'voc_day_count_max', 'voc_day_count_min', 'voc_day_count_mean', 'voc_day_count_std',\n",
    "                 'voc_hour_count_max', 'voc_hour_count_min', 'voc_hour_count_mean', 'voc_hour_count_std',\n",
    "                 'voc_dayofweek_count_max', 'voc_dayofweek_count_min', 'voc_dayofweek_count_mean', 'voc_dayofweek_count_std',\n",
    "                 'voc_count', 'voc_count_mutual']].drop_duplicates(subset=['phone_no_m'])"
   ]
  },
  {
   "cell_type": "code",
   "execution_count": 47,
   "metadata": {
    "ExecuteTime": {
     "end_time": "2020-06-08T16:16:49.375103Z",
     "start_time": "2020-06-08T16:16:48.561569Z"
    }
   },
   "outputs": [],
   "source": [
    "df_sms = df_sms[['phone_no_m', 'calltype_id_sms', 'sms_day', 'sms_hour', 'sms_dayofweek',\n",
    "                 'sms_day_count_max', 'sms_day_count_min', 'sms_day_count_mean', 'sms_day_count_std',\n",
    "                 'sms_hour_count_max', 'sms_hour_count_min', 'sms_hour_count_mean', 'sms_hour_count_std',\n",
    "                 'sms_dayofweek_count_max', 'sms_dayofweek_count_min', 'sms_dayofweek_count_mean', 'sms_dayofweek_count_std',\n",
    "                 'sms_count', 'sms_count_mutual']].drop_duplicates(subset=['phone_no_m'])"
   ]
  },
  {
   "cell_type": "code",
   "execution_count": 48,
   "metadata": {
    "ExecuteTime": {
     "end_time": "2020-06-08T16:16:49.667938Z",
     "start_time": "2020-06-08T16:16:49.378104Z"
    }
   },
   "outputs": [],
   "source": [
    "df_app = df_app[['phone_no_m', 'busi_name', 'flow',\n",
    "                 'total_flow', 'flow_max', 'flow_min', 'flow_mean', 'flow_std',\n",
    "                 'app_count',\n",
    "                 'busi_name_total_flow',\n",
    "                 'busi_name_flow_max', 'busi_name_flow_min', 'busi_name_flow_mean', 'busi_name_flow_std']].drop_duplicates(subset=['phone_no_m'])"
   ]
  },
  {
   "cell_type": "code",
   "execution_count": 49,
   "metadata": {
    "ExecuteTime": {
     "end_time": "2020-06-08T16:16:49.761887Z",
     "start_time": "2020-06-08T16:16:49.671936Z"
    }
   },
   "outputs": [],
   "source": [
    "df = pd.merge(df_user, df_voc, how='left', on='phone_no_m')\n",
    "df = pd.merge(df, df_sms, how='left', on='phone_no_m')\n",
    "df = pd.merge(df, df_app, how='left', on='phone_no_m')"
   ]
  },
  {
   "cell_type": "code",
   "execution_count": 50,
   "metadata": {
    "ExecuteTime": {
     "end_time": "2020-06-08T16:16:49.841839Z",
     "start_time": "2020-06-08T16:16:49.763885Z"
    }
   },
   "outputs": [
    {
     "data": {
      "text/plain": [
       "55"
      ]
     },
     "execution_count": 50,
     "metadata": {},
     "output_type": "execute_result"
    }
   ],
   "source": [
    "del df_user, df_voc, df_sms, df_app\n",
    "gc.collect()"
   ]
  },
  {
   "cell_type": "code",
   "execution_count": 51,
   "metadata": {
    "ExecuteTime": {
     "end_time": "2020-06-08T16:16:49.880817Z",
     "start_time": "2020-06-08T16:16:49.846837Z"
    }
   },
   "outputs": [
    {
     "name": "stderr",
     "output_type": "stream",
     "text": [
      "100%|███████████████████████████████████████████████████████████████████████████████████| 3/3 [00:00<00:00, 157.99it/s]\n"
     ]
    }
   ],
   "source": [
    "lbl = LabelEncoder()\n",
    "\n",
    "for f in tqdm(['city_name', 'county_name', 'busi_name']):\n",
    "    df[f] = df[f].fillna('NA')\n",
    "    df[f] = lbl.fit_transform(df[f].astype(str))"
   ]
  },
  {
   "cell_type": "code",
   "execution_count": 52,
   "metadata": {
    "ExecuteTime": {
     "end_time": "2020-06-08T16:16:49.909804Z",
     "start_time": "2020-06-08T16:16:49.883815Z"
    }
   },
   "outputs": [
    {
     "data": {
      "text/plain": [
       "((6106, 60), (2045, 60))"
      ]
     },
     "execution_count": 52,
     "metadata": {},
     "output_type": "execute_result"
    }
   ],
   "source": [
    "df_train = df[df.label.notna()]\n",
    "df_test = df[df.label.isna()]\n",
    "\n",
    "df_train.shape, df_test.shape"
   ]
  },
  {
   "cell_type": "code",
   "execution_count": 53,
   "metadata": {
    "ExecuteTime": {
     "end_time": "2020-06-08T16:16:49.944780Z",
     "start_time": "2020-06-08T16:16:49.917796Z"
    }
   },
   "outputs": [],
   "source": [
    "from sklearn.model_selection import train_test_split\n",
    "X_train, X_valid, y_train, y_valid = train_test_split(df_train.drop('label', axis=1), df_train['label'], random_state=2020)"
   ]
  },
  {
   "cell_type": "code",
   "execution_count": 54,
   "metadata": {
    "ExecuteTime": {
     "end_time": "2020-06-08T16:16:49.952778Z",
     "start_time": "2020-06-08T16:16:49.947779Z"
    }
   },
   "outputs": [],
   "source": [
    "train_cols = [i for i in X_train if i not in ['phone_no_m', 'label']]"
   ]
  },
  {
   "cell_type": "code",
   "execution_count": 55,
   "metadata": {
    "ExecuteTime": {
     "end_time": "2020-06-08T16:16:59.546302Z",
     "start_time": "2020-06-08T16:16:49.956774Z"
    }
   },
   "outputs": [
    {
     "name": "stdout",
     "output_type": "stream",
     "text": [
      "Start training...\n",
      "Training until validation scores don't improve for 100 rounds\n",
      "[10]\ttraining's auc: 0.99232\tvalid_0's auc: 0.931014\n",
      "[20]\ttraining's auc: 0.996536\tvalid_0's auc: 0.937341\n",
      "[30]\ttraining's auc: 0.997928\tvalid_0's auc: 0.944048\n",
      "[40]\ttraining's auc: 0.998789\tvalid_0's auc: 0.947442\n",
      "[50]\ttraining's auc: 0.999127\tvalid_0's auc: 0.949296\n",
      "[60]\ttraining's auc: 0.99961\tvalid_0's auc: 0.948742\n",
      "[70]\ttraining's auc: 0.999802\tvalid_0's auc: 0.950159\n",
      "[80]\ttraining's auc: 0.99992\tvalid_0's auc: 0.950889\n",
      "[90]\ttraining's auc: 0.999968\tvalid_0's auc: 0.950792\n",
      "[100]\ttraining's auc: 0.999991\tvalid_0's auc: 0.95098\n",
      "[110]\ttraining's auc: 0.999999\tvalid_0's auc: 0.950734\n",
      "[120]\ttraining's auc: 0.999999\tvalid_0's auc: 0.951677\n",
      "[130]\ttraining's auc: 0.999999\tvalid_0's auc: 0.951936\n",
      "[140]\ttraining's auc: 1\tvalid_0's auc: 0.953158\n",
      "[150]\ttraining's auc: 1\tvalid_0's auc: 0.954414\n",
      "[160]\ttraining's auc: 1\tvalid_0's auc: 0.953978\n",
      "[170]\ttraining's auc: 1\tvalid_0's auc: 0.953607\n",
      "[180]\ttraining's auc: 1\tvalid_0's auc: 0.953229\n",
      "[190]\ttraining's auc: 1\tvalid_0's auc: 0.952761\n",
      "[200]\ttraining's auc: 1\tvalid_0's auc: 0.952496\n",
      "[210]\ttraining's auc: 1\tvalid_0's auc: 0.952403\n",
      "[220]\ttraining's auc: 1\tvalid_0's auc: 0.953415\n",
      "[230]\ttraining's auc: 1\tvalid_0's auc: 0.953158\n",
      "[240]\ttraining's auc: 1\tvalid_0's auc: 0.953688\n",
      "[250]\ttraining's auc: 1\tvalid_0's auc: 0.952892\n",
      "Early stopping, best iteration is:\n",
      "[153]\ttraining's auc: 1\tvalid_0's auc: 0.954435\n"
     ]
    }
   ],
   "source": [
    "lgb_train = lgb.Dataset(X_train[train_cols].values, y_train) \n",
    "\n",
    "lgb_eval= lgb.Dataset(X_valid[train_cols].values, y_valid, reference=lgb_train)  \n",
    "\n",
    "params = {'task': 'train',\n",
    "          'boosting_type': 'gbdt',\n",
    "          'objective': 'binary',\n",
    "          'metric': 'auc',\n",
    "          'num_leaves': 255,\n",
    "          'learning_rate': 0.05,\n",
    "          'feature_fraction': 0.95,\n",
    "          'bagging_fraction': 0.85,\n",
    "          'bagging_freq': 5, \n",
    "          'min_data_in_leaf':15,\n",
    "          'verbose': 0}\n",
    "\n",
    "print('Start training...')\n",
    "\n",
    "# train\n",
    "\n",
    "lgb_val_0 = lgb.train(params,\n",
    "                      lgb_train,\n",
    "                      num_boost_round=10000,\n",
    "                      valid_sets=[lgb_eval, lgb_train],\n",
    "                      early_stopping_rounds=100,\n",
    "                      verbose_eval=10)"
   ]
  },
  {
   "cell_type": "code",
   "execution_count": 58,
   "metadata": {
    "ExecuteTime": {
     "end_time": "2020-06-08T16:18:12.410048Z",
     "start_time": "2020-06-08T16:18:05.134201Z"
    }
   },
   "outputs": [
    {
     "name": "stdout",
     "output_type": "stream",
     "text": [
      "Start training...\n"
     ]
    }
   ],
   "source": [
    "lgb_train_all = lgb.Dataset(df_train[train_cols].values, df_train['label'])   \n",
    "\n",
    "print('Start training...')\n",
    "\n",
    "# train\n",
    "\n",
    "lgb_model = lgb.train(params,\n",
    "                      lgb_train_all,\n",
    "                      num_boost_round=lgb_val_0.best_iteration + 20)\n",
    "\n",
    "df_test['label'] = np.where(lgb_model.predict(df_test[train_cols]) > 0.5, 1, 0)\n",
    "df_test[['phone_no_m', 'label']].to_csv('../sub/sub_baseline.csv', index=False)"
   ]
  },
  {
   "cell_type": "code",
   "execution_count": null,
   "metadata": {},
   "outputs": [],
   "source": []
  }
 ],
 "metadata": {
  "kernelspec": {
   "display_name": "Python 3",
   "language": "python",
   "name": "python3"
  },
  "language_info": {
   "codemirror_mode": {
    "name": "ipython",
    "version": 3
   },
   "file_extension": ".py",
   "mimetype": "text/x-python",
   "name": "python",
   "nbconvert_exporter": "python",
   "pygments_lexer": "ipython3",
   "version": "3.7.3"
  },
  "toc": {
   "base_numbering": 1,
   "nav_menu": {},
   "number_sections": true,
   "sideBar": true,
   "skip_h1_title": false,
   "title_cell": "Table of Contents",
   "title_sidebar": "Contents",
   "toc_cell": false,
   "toc_position": {},
   "toc_section_display": true,
   "toc_window_display": false
  },
  "varInspector": {
   "cols": {
    "lenName": 16,
    "lenType": 16,
    "lenVar": 40
   },
   "kernels_config": {
    "python": {
     "delete_cmd_postfix": "",
     "delete_cmd_prefix": "del ",
     "library": "var_list.py",
     "varRefreshCmd": "print(var_dic_list())"
    },
    "r": {
     "delete_cmd_postfix": ") ",
     "delete_cmd_prefix": "rm(",
     "library": "var_list.r",
     "varRefreshCmd": "cat(var_dic_list()) "
    }
   },
   "types_to_exclude": [
    "module",
    "function",
    "builtin_function_or_method",
    "instance",
    "_Feature"
   ],
   "window_display": false
  }
 },
 "nbformat": 4,
 "nbformat_minor": 4
}
