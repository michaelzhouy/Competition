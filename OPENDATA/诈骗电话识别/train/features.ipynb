{
 "cells": [
  {
   "cell_type": "code",
   "execution_count": 1,
   "metadata": {
    "ExecuteTime": {
     "end_time": "2020-06-08T08:54:36.510304Z",
     "start_time": "2020-06-08T08:54:35.746279Z"
    }
   },
   "outputs": [],
   "source": [
    "import numpy as np\n",
    "import pandas as pd\n",
    "from tqdm import tqdm\n",
    "from sklearn.model_selection import StratifiedKFold, KFold\n",
    "from itertools import product"
   ]
  },
  {
   "cell_type": "code",
   "execution_count": 2,
   "metadata": {
    "ExecuteTime": {
     "end_time": "2020-06-08T08:54:36.517285Z",
     "start_time": "2020-06-08T08:54:36.512259Z"
    }
   },
   "outputs": [],
   "source": [
    "# count编码\n",
    "def count_coding(df, fea_col):\n",
    "    for f in fea_col:\n",
    "        df[f + '_count'] = df[f].map(df[f].value_counts())\n",
    "    return df\n",
    "\n",
    "# 交叉特征统计\n",
    "def cross_cat_num(df, num_col, cat_col):\n",
    "    for f1 in tqdm(cat_col):\n",
    "        g = df.groupby(f1, as_index=False)\n",
    "        for f2 in tqdm(num_col):\n",
    "            feat = g[f2].agg({\n",
    "                '{}_{}_max'.format(f1, f2): 'max',\n",
    "                '{}_{}_min'.format(f1, f2): 'min',\n",
    "                '{}_{}_median'.format(f1, f2): 'median'\n",
    "            })\n",
    "            df = df.merge(feat, on=f1, how='left')\n",
    "    return df"
   ]
  },
  {
   "cell_type": "code",
   "execution_count": 3,
   "metadata": {
    "ExecuteTime": {
     "end_time": "2020-06-08T08:54:36.544372Z",
     "start_time": "2020-06-08T08:54:36.519241Z"
    }
   },
   "outputs": [],
   "source": [
    "class MeanEncoder:\n",
    "    def __init__(self, categorical_features, n_splits=10, target_type='classification', prior_weight_func=None):\n",
    "        \"\"\"\n",
    "        :param categorical_features: list of str, the name of the categorical columns to encode\n",
    " \n",
    "        :param n_splits: the number of splits used in mean encoding\n",
    " \n",
    "        :param target_type: str, 'regression' or 'classification'\n",
    " \n",
    "        :param prior_weight_func:\n",
    "        a function that takes in the number of observations, and outputs prior weight\n",
    "        when a dict is passed, the default exponential decay function will be used:\n",
    "        k: the number of observations needed for the posterior to be weighted equally as the prior\n",
    "        f: larger f --> smaller slope\n",
    "        \"\"\"\n",
    " \n",
    "        self.categorical_features = categorical_features\n",
    "        self.n_splits = n_splits\n",
    "        self.learned_stats = {}\n",
    " \n",
    "        if target_type == 'classification':\n",
    "            self.target_type = target_type\n",
    "            self.target_values = []\n",
    "        else:\n",
    "            self.target_type = 'regression'\n",
    "            self.target_values = None\n",
    " \n",
    "        if isinstance(prior_weight_func, dict):\n",
    "            self.prior_weight_func = eval('lambda x: 1 / (1 + np.exp((x - k) / f))', dict(prior_weight_func, np=np))\n",
    "        elif callable(prior_weight_func):\n",
    "            self.prior_weight_func = prior_weight_func\n",
    "        else:\n",
    "            self.prior_weight_func = lambda x: 1 / (1 + np.exp((x - 2) / 1))\n",
    " \n",
    "    @staticmethod\n",
    "    def mean_encode_subroutine(X_train, y_train, X_test, variable, target, prior_weight_func):\n",
    "        X_train = X_train[[variable]].copy()\n",
    "        X_test = X_test[[variable]].copy()\n",
    " \n",
    "        if target is not None:\n",
    "            nf_name = '{}_pred_{}'.format(variable, target)\n",
    "            X_train['pred_temp'] = (y_train == target).astype(int)  # classification\n",
    "        else:\n",
    "            nf_name = '{}_pred'.format(variable)\n",
    "            X_train['pred_temp'] = y_train  # regression\n",
    "        prior = X_train['pred_temp'].mean()\n",
    " \n",
    "        col_avg_y = X_train.groupby(by=variable, axis=0)['pred_temp'].agg(['mean', 'size'])\n",
    "        col_avg_y['size'] = prior_weight_func(col_avg_y['size'])\n",
    "        col_avg_y[nf_name] = col_avg_y['size'] * prior + (1 - col_avg_y['size']) * col_avg_y['mean']\n",
    "        col_avg_y.drop(['size', 'mean'], axis=1, inplace=True)\n",
    " \n",
    "        nf_train = X_train.join(col_avg_y, on=variable)[nf_name].values\n",
    "        nf_test = X_test.join(col_avg_y, on=variable).fillna(prior, inplace=False)[nf_name].values\n",
    " \n",
    "        return nf_train, nf_test, prior, col_avg_y\n",
    " \n",
    "    def fit_transform(self, X, y):\n",
    "        \"\"\"\n",
    "        :param X: pandas DataFrame, n_samples * n_features\n",
    "        :param y: pandas Series or numpy array, n_samples\n",
    "        :return X_new: the transformed pandas DataFrame containing mean-encoded categorical features\n",
    "        \"\"\"\n",
    "        X_new = X.copy()\n",
    "        if self.target_type == 'classification':\n",
    "            skf = StratifiedKFold(self.n_splits)\n",
    "        else:\n",
    "            skf = KFold(self.n_splits)\n",
    " \n",
    "        if self.target_type == 'classification':\n",
    "            self.target_values = sorted(set(y))\n",
    "            self.learned_stats = {'{}_pred_{}'.format(variable, target): [] for variable, target in\n",
    "                                  product(self.categorical_features, self.target_values)}\n",
    "            for variable, target in product(self.categorical_features, self.target_values):\n",
    "                nf_name = '{}_pred_{}'.format(variable, target)\n",
    "                X_new.loc[:, nf_name] = np.nan\n",
    "                for large_ind, small_ind in skf.split(X, y):\n",
    "                    nf_large, nf_small, prior, col_avg_y = MeanEncoder.mean_encode_subroutine(\n",
    "                        X_new.iloc[large_ind], y.iloc[large_ind], X_new.iloc[small_ind], variable, target, self.prior_weight_func)\n",
    "                    X_new.iloc[small_ind, -1] = nf_small\n",
    "                    self.learned_stats[nf_name].append((prior, col_avg_y))\n",
    "        else:\n",
    "            self.learned_stats = {'{}_pred'.format(variable): [] for variable in self.categorical_features}\n",
    "            for variable in self.categorical_features:\n",
    "                nf_name = '{}_pred'.format(variable)\n",
    "                X_new.loc[:, nf_name] = np.nan\n",
    "                for large_ind, small_ind in skf.split(X, y):\n",
    "                    nf_large, nf_small, prior, col_avg_y = MeanEncoder.mean_encode_subroutine(\n",
    "                        X_new.iloc[large_ind], y.iloc[large_ind], X_new.iloc[small_ind], variable, None, self.prior_weight_func)\n",
    "                    X_new.iloc[small_ind, -1] = nf_small\n",
    "                    self.learned_stats[nf_name].append((prior, col_avg_y))\n",
    "        return X_new\n",
    " \n",
    "    def transform(self, X):\n",
    "        \"\"\"\n",
    "        :param X: pandas DataFrame, n_samples * n_features\n",
    "        :return X_new: the transformed pandas DataFrame containing mean-encoded categorical features\n",
    "        \"\"\"\n",
    "        X_new = X.copy()\n",
    " \n",
    "        if self.target_type == 'classification':\n",
    "            for variable, target in product(self.categorical_features, self.target_values):\n",
    "                nf_name = '{}_pred_{}'.format(variable, target)\n",
    "                X_new[nf_name] = 0\n",
    "                for prior, col_avg_y in self.learned_stats[nf_name]:\n",
    "                    X_new[nf_name] += X_new[[variable]].join(col_avg_y, on=variable).fillna(prior, inplace=False)[\n",
    "                        nf_name]\n",
    "                X_new[nf_name] /= self.n_splits\n",
    "        else:\n",
    "            for variable in self.categorical_features:\n",
    "                nf_name = '{}_pred'.format(variable)\n",
    "                X_new[nf_name] = 0\n",
    "                for prior, col_avg_y in self.learned_stats[nf_name]:\n",
    "                    X_new[nf_name] += X_new[[variable]].join(col_avg_y, on=variable).fillna(prior, inplace=False)[\n",
    "                        nf_name]\n",
    "                X_new[nf_name] /= self.n_splits\n",
    " \n",
    "        return X_new"
   ]
  },
  {
   "cell_type": "markdown",
   "metadata": {
    "ExecuteTime": {
     "end_time": "2020-06-08T08:53:58.919643Z",
     "start_time": "2020-06-08T08:53:58.852795Z"
    }
   },
   "source": [
    "class_list = ['model', 'brand', 'name', 'regionCode'] + date_cols\n",
    "MeanEncodeFeature = class_list\n",
    "ME = MeanEncoder(categorical_features=MeanEncodeFeature, n_splits=5, target_type='regression', prior_weight_func=None)\n",
    "X_data = ME.fit_transform(X_data, Y_data)\n",
    "X_test = ME.transform(X_test)"
   ]
  },
  {
   "cell_type": "markdown",
   "metadata": {
    "ExecuteTime": {
     "end_time": "2020-06-08T08:54:20.556504Z",
     "start_time": "2020-06-08T08:54:20.483699Z"
    }
   },
   "source": [
    "# target encoding目标编码，回归场景相对来说做目标编码的选择更多，不仅可以做均值编码，还可以做标准差编码、中位数编码等\n",
    "enc_cols = []\n",
    "stats_default_dict = {\n",
    "    'max': X_data['price'].max(),\n",
    "    'min': X_data['price'].min(),\n",
    "    'median': X_data['price'].median(),\n",
    "    'mean': X_data['price'].mean(),\n",
    "    'sum': X_data['price'].sum(),\n",
    "    'std': X_data['price'].std(),\n",
    "    'skew': X_data['price'].skew(), # 偏度\n",
    "    'kurt': X_data['price'].kurt(), # 峰度\n",
    "    'mad': X_data['price'].mad() # mean absolute deviation 平均绝对偏差\n",
    "}\n",
    "\n",
    "# 暂且选择这三种编码\n",
    "enc_stats = ['max', 'min', 'mean']\n",
    "skf = KFold(n_splits=10, shuffle=True, random_state=42)\n",
    "for f in tqdm(['regionCode', 'brand', 'regDate_year' ,'creatDate_year', 'kilometer', 'model']):\n",
    "    enc_dict = {}\n",
    "    for stat in enc_stats:\n",
    "        enc_dict['{}_target_{}'.format(f, stat)] = stat\n",
    "        X_data['{}_target_{}'.format(f, stat)] = 0\n",
    "        X_test['{}_target_{}'.format(f, stat)] = 0\n",
    "        enc_cols.append('{}_target_{}'.format(f, stat))\n",
    "    for i, (trn_idx, val_idx) in enumerate(skf.split(X_data, Y_data)):\n",
    "        trn_x, val_x = X_data.iloc[trn_idx].reset_index(drop=True), X_data.iloc[val_idx].reset_index(drop=True)\n",
    "        enc_df = trn_x.groupby(f, as_index=False)['price'].agg(enc_dict)\n",
    "        val_x = val_x[[f]].merge(enc_df, on=f, how='left')\n",
    "        test_x = X_test[[f]].merge(enc_df, on=f, how='left')\n",
    "        for stat in enc_stats:\n",
    "            val_x['{}_target_{}'.format(f, stat)] = val_x['{}_target_{}'.format(f, stat)].fillna(stats_default_dict[stat])\n",
    "            test_x['{}_target_{}'.format(f, stat)] = test_x['{}_target_{}'.format(f, stat)].fillna(stats_default_dict[stat])\n",
    "            X_data.loc[val_idx, '{}_target_{}'.format(f, stat)] = val_x['{}_target_{}'.format(f, stat)].values \n",
    "            X_test['{}_target_{}'.format(f, stat)] += test_x['{}_target_{}'.format(f, stat)].values / skf.n_splits"
   ]
  },
  {
   "cell_type": "code",
   "execution_count": 4,
   "metadata": {
    "ExecuteTime": {
     "end_time": "2020-06-08T08:54:37.059465Z",
     "start_time": "2020-06-08T08:54:36.545327Z"
    }
   },
   "outputs": [],
   "source": [
    "train_user = pd.read_hdf('../input/train_user.h5')\n",
    "test_user = pd.read_hdf('../input/test_user.h5')"
   ]
  },
  {
   "cell_type": "code",
   "execution_count": 6,
   "metadata": {
    "ExecuteTime": {
     "end_time": "2020-06-08T08:56:17.991268Z",
     "start_time": "2020-06-08T08:56:17.981296Z"
    }
   },
   "outputs": [
    {
     "data": {
      "text/html": [
       "<div>\n",
       "<style scoped>\n",
       "    .dataframe tbody tr th:only-of-type {\n",
       "        vertical-align: middle;\n",
       "    }\n",
       "\n",
       "    .dataframe tbody tr th {\n",
       "        vertical-align: top;\n",
       "    }\n",
       "\n",
       "    .dataframe thead th {\n",
       "        text-align: right;\n",
       "    }\n",
       "</style>\n",
       "<table border=\"1\" class=\"dataframe\">\n",
       "  <thead>\n",
       "    <tr style=\"text-align: right;\">\n",
       "      <th></th>\n",
       "      <th>phone_no_m</th>\n",
       "      <th>city_name</th>\n",
       "      <th>county_name</th>\n",
       "      <th>idcard_cnt</th>\n",
       "      <th>label</th>\n",
       "      <th>arpu_202004</th>\n",
       "    </tr>\n",
       "  </thead>\n",
       "  <tbody>\n",
       "    <tr>\n",
       "      <th>0</th>\n",
       "      <td>672ddbf02a5544d32e4ecc9433b1981bffe23bf912273a...</td>\n",
       "      <td>绵阳</td>\n",
       "      <td>江油分公司</td>\n",
       "      <td>1</td>\n",
       "      <td>0</td>\n",
       "      <td>45.000000</td>\n",
       "    </tr>\n",
       "    <tr>\n",
       "      <th>1</th>\n",
       "      <td>5e1272273e041e82cb275ae877710be98cdaf5b0a8f34d...</td>\n",
       "      <td>德阳</td>\n",
       "      <td>旌阳分公司</td>\n",
       "      <td>1</td>\n",
       "      <td>0</td>\n",
       "      <td>60.000000</td>\n",
       "    </tr>\n",
       "    <tr>\n",
       "      <th>2</th>\n",
       "      <td>eaab3472ec87b076e69e6e8bb62b14341638fc63661a6c...</td>\n",
       "      <td>成都</td>\n",
       "      <td>金堂分公司</td>\n",
       "      <td>2</td>\n",
       "      <td>0</td>\n",
       "      <td>63.000000</td>\n",
       "    </tr>\n",
       "    <tr>\n",
       "      <th>3</th>\n",
       "      <td>0ce1bb415704178bf44e9c9b431a39b083a132c8e6d99f...</td>\n",
       "      <td>成都</td>\n",
       "      <td>高新分公司</td>\n",
       "      <td>2</td>\n",
       "      <td>0</td>\n",
       "      <td>23.203125</td>\n",
       "    </tr>\n",
       "    <tr>\n",
       "      <th>4</th>\n",
       "      <td>28b87f35f63f65096a53e3a4c97eaffd4a6c43ffa7e92d...</td>\n",
       "      <td>德阳</td>\n",
       "      <td>旌阳分公司</td>\n",
       "      <td>1</td>\n",
       "      <td>0</td>\n",
       "      <td>50.000000</td>\n",
       "    </tr>\n",
       "  </tbody>\n",
       "</table>\n",
       "</div>"
      ],
      "text/plain": [
       "                                          phone_no_m city_name county_name  \\\n",
       "0  672ddbf02a5544d32e4ecc9433b1981bffe23bf912273a...        绵阳       江油分公司   \n",
       "1  5e1272273e041e82cb275ae877710be98cdaf5b0a8f34d...        德阳       旌阳分公司   \n",
       "2  eaab3472ec87b076e69e6e8bb62b14341638fc63661a6c...        成都       金堂分公司   \n",
       "3  0ce1bb415704178bf44e9c9b431a39b083a132c8e6d99f...        成都       高新分公司   \n",
       "4  28b87f35f63f65096a53e3a4c97eaffd4a6c43ffa7e92d...        德阳       旌阳分公司   \n",
       "\n",
       "   idcard_cnt  label  arpu_202004  \n",
       "0           1      0    45.000000  \n",
       "1           1      0    60.000000  \n",
       "2           2      0    63.000000  \n",
       "3           2      0    23.203125  \n",
       "4           1      0    50.000000  "
      ]
     },
     "execution_count": 6,
     "metadata": {},
     "output_type": "execute_result"
    }
   ],
   "source": [
    "train_user.head()"
   ]
  },
  {
   "cell_type": "code",
   "execution_count": 5,
   "metadata": {
    "ExecuteTime": {
     "end_time": "2020-06-08T08:54:50.579504Z",
     "start_time": "2020-06-08T08:54:50.560339Z"
    }
   },
   "outputs": [
    {
     "data": {
      "text/html": [
       "<div>\n",
       "<style scoped>\n",
       "    .dataframe tbody tr th:only-of-type {\n",
       "        vertical-align: middle;\n",
       "    }\n",
       "\n",
       "    .dataframe tbody tr th {\n",
       "        vertical-align: top;\n",
       "    }\n",
       "\n",
       "    .dataframe thead th {\n",
       "        text-align: right;\n",
       "    }\n",
       "</style>\n",
       "<table border=\"1\" class=\"dataframe\">\n",
       "  <thead>\n",
       "    <tr style=\"text-align: right;\">\n",
       "      <th></th>\n",
       "      <th>phone_no_m</th>\n",
       "      <th>city_name</th>\n",
       "      <th>county_name</th>\n",
       "      <th>idcard_cnt</th>\n",
       "      <th>arpu_202004</th>\n",
       "    </tr>\n",
       "  </thead>\n",
       "  <tbody>\n",
       "    <tr>\n",
       "      <th>0</th>\n",
       "      <td>22d522340df77e2252c1a4d92b4bcb00d515e36f3ec6bf...</td>\n",
       "      <td>成都</td>\n",
       "      <td>金牛分公司</td>\n",
       "      <td>1</td>\n",
       "      <td>9.00</td>\n",
       "    </tr>\n",
       "    <tr>\n",
       "      <th>1</th>\n",
       "      <td>5220d4b8429bdba3971a7b46a088c6b8fa6710f4060759...</td>\n",
       "      <td>天府新区</td>\n",
       "      <td>天府直属部门</td>\n",
       "      <td>1</td>\n",
       "      <td>NaN</td>\n",
       "    </tr>\n",
       "    <tr>\n",
       "      <th>2</th>\n",
       "      <td>7d19dd2b50ced56f03d23bf928cf34dc570a48525571a8...</td>\n",
       "      <td>成都</td>\n",
       "      <td>锦江分公司</td>\n",
       "      <td>1</td>\n",
       "      <td>9.00</td>\n",
       "    </tr>\n",
       "    <tr>\n",
       "      <th>3</th>\n",
       "      <td>134a4a591185c9d3788021896dcfc235e9e0a6a1e3f8a4...</td>\n",
       "      <td>绵阳</td>\n",
       "      <td>江油分公司</td>\n",
       "      <td>1</td>\n",
       "      <td>138.75</td>\n",
       "    </tr>\n",
       "    <tr>\n",
       "      <th>4</th>\n",
       "      <td>2356dcd6759d50455ddaeed03c838843558e9182d5962f...</td>\n",
       "      <td>成都</td>\n",
       "      <td>青羊分公司</td>\n",
       "      <td>2</td>\n",
       "      <td>39.00</td>\n",
       "    </tr>\n",
       "  </tbody>\n",
       "</table>\n",
       "</div>"
      ],
      "text/plain": [
       "                                          phone_no_m city_name county_name  \\\n",
       "0  22d522340df77e2252c1a4d92b4bcb00d515e36f3ec6bf...        成都       金牛分公司   \n",
       "1  5220d4b8429bdba3971a7b46a088c6b8fa6710f4060759...      天府新区      天府直属部门   \n",
       "2  7d19dd2b50ced56f03d23bf928cf34dc570a48525571a8...        成都       锦江分公司   \n",
       "3  134a4a591185c9d3788021896dcfc235e9e0a6a1e3f8a4...        绵阳       江油分公司   \n",
       "4  2356dcd6759d50455ddaeed03c838843558e9182d5962f...        成都       青羊分公司   \n",
       "\n",
       "   idcard_cnt  arpu_202004  \n",
       "0           1         9.00  \n",
       "1           1          NaN  \n",
       "2           1         9.00  \n",
       "3           1       138.75  \n",
       "4           2        39.00  "
      ]
     },
     "execution_count": 5,
     "metadata": {},
     "output_type": "execute_result"
    }
   ],
   "source": [
    "test_user.head()"
   ]
  },
  {
   "cell_type": "code",
   "execution_count": 7,
   "metadata": {
    "ExecuteTime": {
     "end_time": "2020-06-08T08:56:33.518628Z",
     "start_time": "2020-06-08T08:56:33.509725Z"
    }
   },
   "outputs": [
    {
     "name": "stdout",
     "output_type": "stream",
     "text": [
      "<class 'pandas.core.frame.DataFrame'>\n",
      "Int64Index: 6106 entries, 0 to 6105\n",
      "Data columns (total 6 columns):\n",
      " #   Column       Non-Null Count  Dtype  \n",
      "---  ------       --------------  -----  \n",
      " 0   phone_no_m   6106 non-null   object \n",
      " 1   city_name    6106 non-null   object \n",
      " 2   county_name  6106 non-null   object \n",
      " 3   idcard_cnt   6106 non-null   int8   \n",
      " 4   label        6106 non-null   int8   \n",
      " 5   arpu_202004  5369 non-null   float16\n",
      "dtypes: float16(1), int8(2), object(3)\n",
      "memory usage: 374.7+ KB\n"
     ]
    }
   ],
   "source": [
    "train_user.info()"
   ]
  },
  {
   "cell_type": "code",
   "execution_count": 8,
   "metadata": {
    "ExecuteTime": {
     "end_time": "2020-06-08T08:57:53.940915Z",
     "start_time": "2020-06-08T08:57:53.930943Z"
    }
   },
   "outputs": [
    {
     "name": "stdout",
     "output_type": "stream",
     "text": [
      "<class 'pandas.core.frame.DataFrame'>\n",
      "Int64Index: 2045 entries, 0 to 2044\n",
      "Data columns (total 5 columns):\n",
      " #   Column       Non-Null Count  Dtype  \n",
      "---  ------       --------------  -----  \n",
      " 0   phone_no_m   2045 non-null   object \n",
      " 1   city_name    2045 non-null   object \n",
      " 2   county_name  2045 non-null   object \n",
      " 3   idcard_cnt   2045 non-null   int8   \n",
      " 4   arpu_202004  1869 non-null   float16\n",
      "dtypes: float16(1), int8(1), object(3)\n",
      "memory usage: 149.9+ KB\n"
     ]
    }
   ],
   "source": [
    "test_user.info()"
   ]
  },
  {
   "cell_type": "code",
   "execution_count": 9,
   "metadata": {
    "ExecuteTime": {
     "end_time": "2020-06-08T08:59:31.895955Z",
     "start_time": "2020-06-08T08:59:31.888941Z"
    }
   },
   "outputs": [],
   "source": [
    "df_user = pd.concat([train_user, test_user])"
   ]
  },
  {
   "cell_type": "code",
   "execution_count": 10,
   "metadata": {
    "ExecuteTime": {
     "end_time": "2020-06-08T09:18:21.905586Z",
     "start_time": "2020-06-08T09:18:21.891466Z"
    }
   },
   "outputs": [],
   "source": [
    "# 号码量*消费值\n",
    "df_user['idcard_cnt*arpu_202004'] = df_user['idcard_cnt'] * df_user['arpu_202004']"
   ]
  },
  {
   "cell_type": "code",
   "execution_count": 11,
   "metadata": {
    "ExecuteTime": {
     "end_time": "2020-06-08T09:19:42.916069Z",
     "start_time": "2020-06-08T09:19:42.896095Z"
    }
   },
   "outputs": [],
   "source": [
    "# count编码\n",
    "count_list = ['city_name', 'county_name', 'idcard_cnt']\n",
    "\n",
    "df_user = count_coding(df_user, count_list)"
   ]
  },
  {
   "cell_type": "code",
   "execution_count": 12,
   "metadata": {
    "ExecuteTime": {
     "end_time": "2020-06-08T09:21:13.131533Z",
     "start_time": "2020-06-08T09:21:13.089626Z"
    }
   },
   "outputs": [
    {
     "name": "stderr",
     "output_type": "stream",
     "text": [
      "  0%|                                                                                            | 0/2 [00:00<?, ?it/s]\n",
      "100%|████████████████████████████████████████████████████████████████████████████████████| 1/1 [00:00<00:00, 52.72it/s]\u001b[A\n",
      "\n",
      "100%|███████████████████████████████████████████████████████████████████████████████████| 1/1 [00:00<00:00, 110.99it/s]\u001b[A\n",
      "100%|████████████████████████████████████████████████████████████████████████████████████| 2/2 [00:00<00:00, 57.84it/s]\n"
     ]
    }
   ],
   "source": [
    "cross_cat = ['city_name', 'county_name']\n",
    "cross_num = ['idcard_cnt']\n",
    "data = cross_cat_num(df_user, cross_num, cross_cat)"
   ]
  },
  {
   "cell_type": "code",
   "execution_count": 13,
   "metadata": {
    "ExecuteTime": {
     "end_time": "2020-06-08T09:32:33.769598Z",
     "start_time": "2020-06-08T09:32:32.477901Z"
    }
   },
   "outputs": [],
   "source": [
    "train_voc = pd.read_hdf('../input/train_voc.h5')\n",
    "test_voc = pd.read_hdf('../input/test_voc.h5')"
   ]
  },
  {
   "cell_type": "code",
   "execution_count": 14,
   "metadata": {
    "ExecuteTime": {
     "end_time": "2020-06-08T09:33:09.554871Z",
     "start_time": "2020-06-08T09:33:09.544897Z"
    }
   },
   "outputs": [
    {
     "data": {
      "text/html": [
       "<div>\n",
       "<style scoped>\n",
       "    .dataframe tbody tr th:only-of-type {\n",
       "        vertical-align: middle;\n",
       "    }\n",
       "\n",
       "    .dataframe tbody tr th {\n",
       "        vertical-align: top;\n",
       "    }\n",
       "\n",
       "    .dataframe thead th {\n",
       "        text-align: right;\n",
       "    }\n",
       "</style>\n",
       "<table border=\"1\" class=\"dataframe\">\n",
       "  <thead>\n",
       "    <tr style=\"text-align: right;\">\n",
       "      <th></th>\n",
       "      <th>phone_no_m</th>\n",
       "      <th>opposite_no_m</th>\n",
       "      <th>calltype_id</th>\n",
       "      <th>start_datetime</th>\n",
       "      <th>call_dur</th>\n",
       "      <th>city_name</th>\n",
       "      <th>county_name</th>\n",
       "      <th>imei_m</th>\n",
       "    </tr>\n",
       "  </thead>\n",
       "  <tbody>\n",
       "    <tr>\n",
       "      <th>9</th>\n",
       "      <td>b3994b4c46e39954cfe0cb8ebd2a79703a2ace6612fa18...</td>\n",
       "      <td>1b01124a6ad0443ad868757c6594a605a0c5179c2b5b57...</td>\n",
       "      <td>1</td>\n",
       "      <td>2020-03-22 21:38:40</td>\n",
       "      <td>175</td>\n",
       "      <td>nan</td>\n",
       "      <td>nan</td>\n",
       "      <td>90ba61111dad175330029e10da8264a86dfdb3a281ccb8...</td>\n",
       "    </tr>\n",
       "    <tr>\n",
       "      <th>10</th>\n",
       "      <td>b3994b4c46e39954cfe0cb8ebd2a79703a2ace6612fa18...</td>\n",
       "      <td>1b01124a6ad0443ad868757c6594a605a0c5179c2b5b57...</td>\n",
       "      <td>1</td>\n",
       "      <td>2020-03-23 18:05:41</td>\n",
       "      <td>33</td>\n",
       "      <td>nan</td>\n",
       "      <td>nan</td>\n",
       "      <td>90ba61111dad175330029e10da8264a86dfdb3a281ccb8...</td>\n",
       "    </tr>\n",
       "    <tr>\n",
       "      <th>219</th>\n",
       "      <td>c5502a6d3e4cabaf8c0e298c4aac693b6e80835d50d4e4...</td>\n",
       "      <td>f1b73c46a691c068bfd38253e20e882d4993c8d3e58016...</td>\n",
       "      <td>1</td>\n",
       "      <td>2020-03-01 11:24:37</td>\n",
       "      <td>39</td>\n",
       "      <td>nan</td>\n",
       "      <td>nan</td>\n",
       "      <td>e1e1149b2c06e9972293c457293abb32ad05b0c82b3b64...</td>\n",
       "    </tr>\n",
       "    <tr>\n",
       "      <th>222</th>\n",
       "      <td>c5502a6d3e4cabaf8c0e298c4aac693b6e80835d50d4e4...</td>\n",
       "      <td>5bc6d97a3017578edfa7979fa43653cd74bad827f18337...</td>\n",
       "      <td>1</td>\n",
       "      <td>2020-03-01 11:23:44</td>\n",
       "      <td>32</td>\n",
       "      <td>nan</td>\n",
       "      <td>nan</td>\n",
       "      <td>e1e1149b2c06e9972293c457293abb32ad05b0c82b3b64...</td>\n",
       "    </tr>\n",
       "    <tr>\n",
       "      <th>276</th>\n",
       "      <td>2bdbc0a45d6228970b353d691e2ec229f0cf60790a1a39...</td>\n",
       "      <td>c42eeddeff98feb87860441ea6548f8bda2a080c935e02...</td>\n",
       "      <td>2</td>\n",
       "      <td>2020-03-03 15:34:21</td>\n",
       "      <td>3</td>\n",
       "      <td>nan</td>\n",
       "      <td>nan</td>\n",
       "      <td>3e808a14fa2aa61524c70f262539d1c8532b8e3a8c7c87...</td>\n",
       "    </tr>\n",
       "  </tbody>\n",
       "</table>\n",
       "</div>"
      ],
      "text/plain": [
       "                                            phone_no_m  \\\n",
       "9    b3994b4c46e39954cfe0cb8ebd2a79703a2ace6612fa18...   \n",
       "10   b3994b4c46e39954cfe0cb8ebd2a79703a2ace6612fa18...   \n",
       "219  c5502a6d3e4cabaf8c0e298c4aac693b6e80835d50d4e4...   \n",
       "222  c5502a6d3e4cabaf8c0e298c4aac693b6e80835d50d4e4...   \n",
       "276  2bdbc0a45d6228970b353d691e2ec229f0cf60790a1a39...   \n",
       "\n",
       "                                         opposite_no_m  calltype_id  \\\n",
       "9    1b01124a6ad0443ad868757c6594a605a0c5179c2b5b57...            1   \n",
       "10   1b01124a6ad0443ad868757c6594a605a0c5179c2b5b57...            1   \n",
       "219  f1b73c46a691c068bfd38253e20e882d4993c8d3e58016...            1   \n",
       "222  5bc6d97a3017578edfa7979fa43653cd74bad827f18337...            1   \n",
       "276  c42eeddeff98feb87860441ea6548f8bda2a080c935e02...            2   \n",
       "\n",
       "          start_datetime  call_dur city_name county_name  \\\n",
       "9    2020-03-22 21:38:40       175       nan         nan   \n",
       "10   2020-03-23 18:05:41        33       nan         nan   \n",
       "219  2020-03-01 11:24:37        39       nan         nan   \n",
       "222  2020-03-01 11:23:44        32       nan         nan   \n",
       "276  2020-03-03 15:34:21         3       nan         nan   \n",
       "\n",
       "                                                imei_m  \n",
       "9    90ba61111dad175330029e10da8264a86dfdb3a281ccb8...  \n",
       "10   90ba61111dad175330029e10da8264a86dfdb3a281ccb8...  \n",
       "219  e1e1149b2c06e9972293c457293abb32ad05b0c82b3b64...  \n",
       "222  e1e1149b2c06e9972293c457293abb32ad05b0c82b3b64...  \n",
       "276  3e808a14fa2aa61524c70f262539d1c8532b8e3a8c7c87...  "
      ]
     },
     "execution_count": 14,
     "metadata": {},
     "output_type": "execute_result"
    }
   ],
   "source": [
    "train_voc.head()"
   ]
  },
  {
   "cell_type": "code",
   "execution_count": 15,
   "metadata": {
    "ExecuteTime": {
     "end_time": "2020-06-08T09:33:20.506250Z",
     "start_time": "2020-06-08T09:33:20.495278Z"
    }
   },
   "outputs": [
    {
     "data": {
      "text/html": [
       "<div>\n",
       "<style scoped>\n",
       "    .dataframe tbody tr th:only-of-type {\n",
       "        vertical-align: middle;\n",
       "    }\n",
       "\n",
       "    .dataframe tbody tr th {\n",
       "        vertical-align: top;\n",
       "    }\n",
       "\n",
       "    .dataframe thead th {\n",
       "        text-align: right;\n",
       "    }\n",
       "</style>\n",
       "<table border=\"1\" class=\"dataframe\">\n",
       "  <thead>\n",
       "    <tr style=\"text-align: right;\">\n",
       "      <th></th>\n",
       "      <th>phone_no_m</th>\n",
       "      <th>opposite_no_m</th>\n",
       "      <th>calltype_id</th>\n",
       "      <th>start_datetime</th>\n",
       "      <th>call_dur</th>\n",
       "      <th>city_name</th>\n",
       "      <th>county_name</th>\n",
       "      <th>imei_m</th>\n",
       "    </tr>\n",
       "  </thead>\n",
       "  <tbody>\n",
       "    <tr>\n",
       "      <th>0</th>\n",
       "      <td>b3dce36871f3e88164b18d4953b114163f008cb51c28fe...</td>\n",
       "      <td>f87f526ee776ac8b6b28392620fbb6049af9eaadab7de2...</td>\n",
       "      <td>1</td>\n",
       "      <td>2020-04-13 21:04:10</td>\n",
       "      <td>1909</td>\n",
       "      <td>nan</td>\n",
       "      <td>nan</td>\n",
       "      <td>685a0bfcd91b4ecec2ff35d656a35a4e4f9e1c7a92b15f...</td>\n",
       "    </tr>\n",
       "    <tr>\n",
       "      <th>1</th>\n",
       "      <td>b3dce36871f3e88164b18d4953b114163f008cb51c28fe...</td>\n",
       "      <td>f87f526ee776ac8b6b28392620fbb6049af9eaadab7de2...</td>\n",
       "      <td>1</td>\n",
       "      <td>2020-04-13 18:32:50</td>\n",
       "      <td>2510</td>\n",
       "      <td>nan</td>\n",
       "      <td>nan</td>\n",
       "      <td>685a0bfcd91b4ecec2ff35d656a35a4e4f9e1c7a92b15f...</td>\n",
       "    </tr>\n",
       "    <tr>\n",
       "      <th>2</th>\n",
       "      <td>b3dce36871f3e88164b18d4953b114163f008cb51c28fe...</td>\n",
       "      <td>f87f526ee776ac8b6b28392620fbb6049af9eaadab7de2...</td>\n",
       "      <td>1</td>\n",
       "      <td>2020-04-13 19:55:12</td>\n",
       "      <td>25</td>\n",
       "      <td>nan</td>\n",
       "      <td>nan</td>\n",
       "      <td>685a0bfcd91b4ecec2ff35d656a35a4e4f9e1c7a92b15f...</td>\n",
       "    </tr>\n",
       "    <tr>\n",
       "      <th>3</th>\n",
       "      <td>7ec68a368fbbec3279a6a34847f7959623dbff4638351a...</td>\n",
       "      <td>ed8280e5590e40e35a2af7d8708a0754540b0612600d52...</td>\n",
       "      <td>1</td>\n",
       "      <td>2020-04-20 14:11:44</td>\n",
       "      <td>276</td>\n",
       "      <td>nan</td>\n",
       "      <td>nan</td>\n",
       "      <td>a60e82a4383faa79ea972adc48686a729f689b7d1923bc...</td>\n",
       "    </tr>\n",
       "    <tr>\n",
       "      <th>4</th>\n",
       "      <td>7ec68a368fbbec3279a6a34847f7959623dbff4638351a...</td>\n",
       "      <td>ba792e76c3e7ee47d2403083f6def313372ae450ddf0b9...</td>\n",
       "      <td>2</td>\n",
       "      <td>2020-04-20 12:56:33</td>\n",
       "      <td>539</td>\n",
       "      <td>nan</td>\n",
       "      <td>nan</td>\n",
       "      <td>a60e82a4383faa79ea972adc48686a729f689b7d1923bc...</td>\n",
       "    </tr>\n",
       "  </tbody>\n",
       "</table>\n",
       "</div>"
      ],
      "text/plain": [
       "                                          phone_no_m  \\\n",
       "0  b3dce36871f3e88164b18d4953b114163f008cb51c28fe...   \n",
       "1  b3dce36871f3e88164b18d4953b114163f008cb51c28fe...   \n",
       "2  b3dce36871f3e88164b18d4953b114163f008cb51c28fe...   \n",
       "3  7ec68a368fbbec3279a6a34847f7959623dbff4638351a...   \n",
       "4  7ec68a368fbbec3279a6a34847f7959623dbff4638351a...   \n",
       "\n",
       "                                       opposite_no_m  calltype_id  \\\n",
       "0  f87f526ee776ac8b6b28392620fbb6049af9eaadab7de2...            1   \n",
       "1  f87f526ee776ac8b6b28392620fbb6049af9eaadab7de2...            1   \n",
       "2  f87f526ee776ac8b6b28392620fbb6049af9eaadab7de2...            1   \n",
       "3  ed8280e5590e40e35a2af7d8708a0754540b0612600d52...            1   \n",
       "4  ba792e76c3e7ee47d2403083f6def313372ae450ddf0b9...            2   \n",
       "\n",
       "        start_datetime  call_dur city_name county_name  \\\n",
       "0  2020-04-13 21:04:10      1909       nan         nan   \n",
       "1  2020-04-13 18:32:50      2510       nan         nan   \n",
       "2  2020-04-13 19:55:12        25       nan         nan   \n",
       "3  2020-04-20 14:11:44       276       nan         nan   \n",
       "4  2020-04-20 12:56:33       539       nan         nan   \n",
       "\n",
       "                                              imei_m  \n",
       "0  685a0bfcd91b4ecec2ff35d656a35a4e4f9e1c7a92b15f...  \n",
       "1  685a0bfcd91b4ecec2ff35d656a35a4e4f9e1c7a92b15f...  \n",
       "2  685a0bfcd91b4ecec2ff35d656a35a4e4f9e1c7a92b15f...  \n",
       "3  a60e82a4383faa79ea972adc48686a729f689b7d1923bc...  \n",
       "4  a60e82a4383faa79ea972adc48686a729f689b7d1923bc...  "
      ]
     },
     "execution_count": 15,
     "metadata": {},
     "output_type": "execute_result"
    }
   ],
   "source": [
    "test_voc.head()"
   ]
  },
  {
   "cell_type": "code",
   "execution_count": 16,
   "metadata": {
    "ExecuteTime": {
     "end_time": "2020-06-08T09:33:59.134294Z",
     "start_time": "2020-06-08T09:33:58.985504Z"
    }
   },
   "outputs": [
    {
     "name": "stdout",
     "output_type": "stream",
     "text": [
      "<class 'pandas.core.frame.DataFrame'>\n",
      "Int64Index: 709144 entries, 9 to 5015413\n",
      "Data columns (total 8 columns):\n",
      " #   Column          Non-Null Count   Dtype \n",
      "---  ------          --------------   ----- \n",
      " 0   phone_no_m      709144 non-null  object\n",
      " 1   opposite_no_m   709144 non-null  object\n",
      " 2   calltype_id     709144 non-null  int8  \n",
      " 3   start_datetime  709144 non-null  object\n",
      " 4   call_dur        709144 non-null  int16 \n",
      " 5   city_name       709144 non-null  object\n",
      " 6   county_name     709144 non-null  object\n",
      " 7   imei_m          709144 non-null  object\n",
      "dtypes: int16(1), int8(1), object(6)\n",
      "memory usage: 59.9+ MB\n"
     ]
    }
   ],
   "source": [
    "train_voc.info()"
   ]
  },
  {
   "cell_type": "code",
   "execution_count": 17,
   "metadata": {
    "ExecuteTime": {
     "end_time": "2020-06-08T09:33:59.437697Z",
     "start_time": "2020-06-08T09:33:59.372608Z"
    }
   },
   "outputs": [
    {
     "name": "stdout",
     "output_type": "stream",
     "text": [
      "<class 'pandas.core.frame.DataFrame'>\n",
      "Int64Index: 276522 entries, 0 to 276521\n",
      "Data columns (total 8 columns):\n",
      " #   Column          Non-Null Count   Dtype \n",
      "---  ------          --------------   ----- \n",
      " 0   phone_no_m      276522 non-null  object\n",
      " 1   opposite_no_m   276522 non-null  object\n",
      " 2   calltype_id     276522 non-null  int8  \n",
      " 3   start_datetime  276522 non-null  object\n",
      " 4   call_dur        276522 non-null  int16 \n",
      " 5   city_name       276522 non-null  object\n",
      " 6   county_name     276522 non-null  object\n",
      " 7   imei_m          276522 non-null  object\n",
      "dtypes: int16(1), int8(1), object(6)\n",
      "memory usage: 25.6+ MB\n"
     ]
    }
   ],
   "source": [
    "test_voc.info()"
   ]
  },
  {
   "cell_type": "code",
   "execution_count": 18,
   "metadata": {
    "ExecuteTime": {
     "end_time": "2020-06-08T09:52:30.139039Z",
     "start_time": "2020-06-08T09:52:29.178707Z"
    }
   },
   "outputs": [
    {
     "data": {
      "text/plain": [
       "phone_no_m          4823\n",
       "opposite_no_m     281103\n",
       "calltype_id            3\n",
       "start_datetime    561615\n",
       "call_dur            2653\n",
       "city_name             22\n",
       "county_name          193\n",
       "imei_m              6025\n",
       "dtype: int64"
      ]
     },
     "execution_count": 18,
     "metadata": {},
     "output_type": "execute_result"
    }
   ],
   "source": [
    "train_voc.nunique()"
   ]
  },
  {
   "cell_type": "code",
   "execution_count": 19,
   "metadata": {
    "ExecuteTime": {
     "end_time": "2020-06-08T09:52:38.712757Z",
     "start_time": "2020-06-08T09:52:38.373117Z"
    }
   },
   "outputs": [
    {
     "data": {
      "text/plain": [
       "phone_no_m          1965\n",
       "opposite_no_m     107683\n",
       "calltype_id            3\n",
       "start_datetime    253144\n",
       "call_dur            2089\n",
       "city_name             22\n",
       "county_name          173\n",
       "imei_m              2656\n",
       "dtype: int64"
      ]
     },
     "execution_count": 19,
     "metadata": {},
     "output_type": "execute_result"
    }
   ],
   "source": [
    "test_voc.nunique()"
   ]
  },
  {
   "cell_type": "code",
   "execution_count": 20,
   "metadata": {
    "ExecuteTime": {
     "end_time": "2020-06-08T09:54:34.886198Z",
     "start_time": "2020-06-08T09:54:34.737528Z"
    }
   },
   "outputs": [],
   "source": [
    "df_voc = pd.concat([train_voc, test_voc])"
   ]
  },
  {
   "cell_type": "code",
   "execution_count": 23,
   "metadata": {
    "ExecuteTime": {
     "end_time": "2020-06-08T09:57:52.078835Z",
     "start_time": "2020-06-08T09:57:50.318608Z"
    }
   },
   "outputs": [],
   "source": [
    "df_voc['voc_day'] = df_voc['start_datetime'].astype('datetime64').dt.day\n",
    "df_voc['voc_hour'] = df_voc['start_datetime'].astype('datetime64').dt.hour\n",
    "df_voc['voc_dayofweek'] = df_voc['start_datetime'].astype('datetime64').dt.dayofweek"
   ]
  },
  {
   "cell_type": "code",
   "execution_count": 24,
   "metadata": {
    "ExecuteTime": {
     "end_time": "2020-06-08T09:59:44.267250Z",
     "start_time": "2020-06-08T09:59:44.060694Z"
    }
   },
   "outputs": [
    {
     "name": "stdout",
     "output_type": "stream",
     "text": [
      "<class 'pandas.core.frame.DataFrame'>\n",
      "Int64Index: 985666 entries, 9 to 276521\n",
      "Data columns (total 11 columns):\n",
      " #   Column          Non-Null Count   Dtype \n",
      "---  ------          --------------   ----- \n",
      " 0   phone_no_m      985666 non-null  object\n",
      " 1   opposite_no_m   985666 non-null  object\n",
      " 2   calltype_id     985666 non-null  int8  \n",
      " 3   start_datetime  985666 non-null  object\n",
      " 4   call_dur        985666 non-null  int16 \n",
      " 5   city_name       985666 non-null  object\n",
      " 6   county_name     985666 non-null  object\n",
      " 7   imei_m          985666 non-null  object\n",
      " 8   voc_day         985666 non-null  int64 \n",
      " 9   voc_hour        985666 non-null  int64 \n",
      " 10  voc_dayofweek   985666 non-null  int64 \n",
      "dtypes: int16(1), int64(3), int8(1), object(6)\n",
      "memory usage: 118.0+ MB\n"
     ]
    }
   ],
   "source": [
    "df_voc.info()"
   ]
  },
  {
   "cell_type": "code",
   "execution_count": null,
   "metadata": {},
   "outputs": [],
   "source": [
    "# 总的通话次数\n",
    "df_voc['voc_count'] = df_voc.groupby('phone_no_m')['phone_no_m'].transform('count')\n",
    "\n",
    "# 相互打电话次数\n",
    "df_voc['voc_count_cross'] = df_voc.groupby(['phone_no_m', 'opposite_no_m'])['phone_no_m'].transform('count')\n"
   ]
  }
 ],
 "metadata": {
  "kernelspec": {
   "display_name": "Python 3",
   "language": "python",
   "name": "python3"
  },
  "language_info": {
   "codemirror_mode": {
    "name": "ipython",
    "version": 3
   },
   "file_extension": ".py",
   "mimetype": "text/x-python",
   "name": "python",
   "nbconvert_exporter": "python",
   "pygments_lexer": "ipython3",
   "version": "3.7.3"
  },
  "toc": {
   "base_numbering": 1,
   "nav_menu": {},
   "number_sections": true,
   "sideBar": true,
   "skip_h1_title": false,
   "title_cell": "Table of Contents",
   "title_sidebar": "Contents",
   "toc_cell": false,
   "toc_position": {},
   "toc_section_display": true,
   "toc_window_display": false
  },
  "varInspector": {
   "cols": {
    "lenName": 16,
    "lenType": 16,
    "lenVar": 40
   },
   "kernels_config": {
    "python": {
     "delete_cmd_postfix": "",
     "delete_cmd_prefix": "del ",
     "library": "var_list.py",
     "varRefreshCmd": "print(var_dic_list())"
    },
    "r": {
     "delete_cmd_postfix": ") ",
     "delete_cmd_prefix": "rm(",
     "library": "var_list.r",
     "varRefreshCmd": "cat(var_dic_list()) "
    }
   },
   "types_to_exclude": [
    "module",
    "function",
    "builtin_function_or_method",
    "instance",
    "_Feature"
   ],
   "window_display": false
  }
 },
 "nbformat": 4,
 "nbformat_minor": 4
}
