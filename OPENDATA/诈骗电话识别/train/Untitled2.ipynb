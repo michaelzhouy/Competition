{
 "cells": [
  {
   "cell_type": "code",
   "execution_count": 1,
   "metadata": {
    "ExecuteTime": {
     "end_time": "2020-06-13T08:39:51.233885Z",
     "start_time": "2020-06-13T08:39:50.333288Z"
    }
   },
   "outputs": [],
   "source": [
    "import numpy as np\n",
    "import pandas as pd\n",
    "import lightgbm as lgb\n",
    "from sklearn.model_selection import train_test_split\n",
    "from sklearn.metrics import f1_score\n",
    "from imblearn.over_sampling import SMOTE"
   ]
  },
  {
   "cell_type": "code",
   "execution_count": 2,
   "metadata": {
    "ExecuteTime": {
     "end_time": "2020-06-13T08:48:18.952017Z",
     "start_time": "2020-06-13T08:48:18.944074Z"
    }
   },
   "outputs": [],
   "source": [
    "def user_process(data_user, Train=1):\n",
    "    data = data_user.copy()\n",
    "    if Train:\n",
    "        da = data.iloc[:, 4:-1]\n",
    "        avg_data = da.mean(axis=1)\n",
    "        avg_data.fillna(avg_data.mean(), inplace=True)\n",
    "        data['avgfee'] = avg_data\n",
    "        data['city_name'].fillna('无', inplace=True)\n",
    "        data['county_name'].fillna('无', inplace=True)\n",
    "        data = data.drop(['arpu_201908', 'arpu_201909', 'arpu_201910', 'arpu_201911',\n",
    "                          'arpu_201912', 'arpu_202001', 'arpu_202002', 'arpu_202003'], axis=1)\n",
    "    else:\n",
    "        data['arpu_202004'] = data['arpu_202004'].fillna(data['arpu_202004'].mean())\n",
    "        data['avgfee'] = data['arpu_202004']\n",
    "        data['city_name'].fillna('无', inplace=True)\n",
    "        data['county_name'].fillna('无', inplace=True)\n",
    "        data = data.drop('arpu_202004', axis=1)\n",
    "    \n",
    "    return data"
   ]
  },
  {
   "cell_type": "code",
   "execution_count": null,
   "metadata": {},
   "outputs": [],
   "source": [
    "lo_data = data_voc.iloc[:120000, :]\n",
    "def voc_process(data_voc):\n",
    "    \n",
    "    lo_data = data_voc.copy()\n",
    "    lo_data['start_datetime'] = pd.to_datetime(lo_data['start_datetime'], format='%Y/%m/%d %H:%M:%S')\n",
    "    lo_data['month'] = lo_data['start_datetime'].dt.month\n",
    "    \n",
    "    \"\"\"\n",
    "    平均每月总的电话次数\n",
    "    \"\"\"\n",
    "    lo_data['cnt'] = 1\n",
    "    lo_data.columns\n",
    "    sum_of_all = pd.pivot_table(lo_data,\n",
    "                                index=['phone_no_m', 'month'],\n",
    "                                values='cnt',\n",
    "                                aggfunc=sum).reset_index(level=['phone_no_m', 'month'])\n",
    "    avg_sum_of_call = pd.pivot_table(sum_of_all, index=['phone_no_m'], values='cnt',\n",
    "                                     aggfunc=np.mean).reset_index(level=['phone_no_m'])\n",
    "    data = avg_sum_of_call.copy()\n",
    "    \n",
    "    \"\"\"\n",
    "    平均每月电话总时长（分钟）\n",
    "    \"\"\"\n",
    "    lo_data.columns\n",
    "    sum_of_call_time = (pd.pivot_table(lo_data,\n",
    "                                       index=['phone_no_m', 'month'],\n",
    "                                       values='call_dur',\n",
    "                                       aggfunc=sum) / 60).reset_index(level=['phone_no_m', 'month'])\n",
    "    sum_of_call_time = pd.pivot_table(sum_of_call_time,\n",
    "                                      index=['phone_no_m'],\n",
    "                                      values='call_dur',\n",
    "                                      aggfunc=np.mean).reset_index(level=['phone_no_m'])\n",
    "    \n",
    "    data = pd.merge(data, sum_of_call_time, on='phone_no_m', how='left')\n",
    "    \n",
    "    \n",
    "    \"\"\"\n",
    "    统计主叫次数，被叫次数，传呼的次数以及占比\n",
    "    \"\"\"\n",
    "    lo_data['calltype_id_1'] = (lo_data['calltype_id'] == 1).astype(int)\n",
    "    lo_data['calltype_id_2'] = (lo_data['calltype_id'] == 2).astype(int)\n",
    "    lo_data['calltype_id_3'] = (lo_data['calltype_id'] == 3).astype(int)\n",
    "    \n",
    "    sum_of_call_calltype_id_1 = pd.pivot_table(lo_data,\n",
    "                                               index=['phone_no_m', 'month'],\n",
    "                                               values='calltype_id_1',\n",
    "                                               aggfunc=sum).reset_index(level='phone_no_m', 'month')\n",
    "    sum_of_call_calltype_id_2 = pd.pivot_table(lo_data,\n",
    "                                               index=['phone_no_m', 'month'],\n",
    "                                               values='calltype_id_2',\n",
    "                                               aggfunc=sum).reset_index(level='phone_no_m', 'month')\n",
    "    sum_of_call_calltype_id_3 = pd.pivot_table(lo_data,\n",
    "                                               index=['phone_no_m', 'month'],\n",
    "                                               values='calltype_id_3',\n",
    "                                               aggfunc=sum).reset_index(level='phone_no_m', 'month')\n",
    "    \n",
    "    sum_of_call_calltype_id_1 = pd.pivot_table(sum_of_call_calltype_id_1,\n",
    "                                               index=['phone_no_m'],\n",
    "                                               values='calltype_id_1',\n",
    "                                               aggfunc=np.mean).reset_index(level=['phone_no_m'])\n",
    "    sum_of_call_calltype_id_2 = pd.pivot_table(sum_of_call_calltype_id_2,\n",
    "                                               index=['phone_no_m'],\n",
    "                                               values='calltype_id_2',\n",
    "                                               aggfunc=np.mean).reset_index(level=['phone_no_m'])\n",
    "    sum_of_call_calltype_id_3 = pd.pivot_table(sum_of_call_calltype_id_3,\n",
    "                                               index=['phone_no_m'],\n",
    "                                               values='calltype_id_3',\n",
    "                                               aggfunc=np.mean).reset_index(level=['phone_no_m'])\n",
    "    \n",
    "    data = pd.merge(data, sum_of_call_calltype_id_1, on='phone_no_m', how='left')\n",
    "    data = pd.merge(data, sum_of_call_calltype_id_2, on='phone_no_m', how='left')\n",
    "    data = pd.merge(data, sum_of_call_calltype_id_3, on='phone_no_m', how='left')\n",
    "    \n",
    "    # 占比\n",
    "    data['sum_of_call_calltype_id'] = data['calltype_id_1'] + data['calltype_id_2'] + data['calltype_id_3']\n",
    "    data['calltype_id_1_rate'] = data['calltype_id_1'] / data['sum_of_call_calltype_id']\n",
    "    data['calltype_id_2_rate'] = data['calltype_id_2'] / data['sum_of_call_calltype_id']\n",
    "    data['calltype_id_3_rate'] = data['calltype_id_3'] / data['sum_of_call_calltype_id']\n",
    "    \n",
    "    \n",
    "    \"\"\"\n",
    "    对多少个不同的号码打了电话\n",
    "    \"\"\"\n",
    "    lo_data['sum_of_different_call'] = 1\n",
    "    sum_of_different_call = pd.pivot_table(lo_data,\n",
    "                                           index=['phone_no_m', 'opposite_no_m'],\n",
    "                                           values='sum_of_different_call',\n",
    "                                           aggfunc=sum).reset_index(level=['phone_no_m', 'opposite_no_m'])\n",
    "    "
   ]
  }
 ],
 "metadata": {
  "kernelspec": {
   "display_name": "Python 3",
   "language": "python",
   "name": "python3"
  },
  "language_info": {
   "codemirror_mode": {
    "name": "ipython",
    "version": 3
   },
   "file_extension": ".py",
   "mimetype": "text/x-python",
   "name": "python",
   "nbconvert_exporter": "python",
   "pygments_lexer": "ipython3",
   "version": "3.7.3"
  },
  "toc": {
   "base_numbering": 1,
   "nav_menu": {},
   "number_sections": true,
   "sideBar": true,
   "skip_h1_title": false,
   "title_cell": "Table of Contents",
   "title_sidebar": "Contents",
   "toc_cell": false,
   "toc_position": {},
   "toc_section_display": true,
   "toc_window_display": false
  },
  "varInspector": {
   "cols": {
    "lenName": 16,
    "lenType": 16,
    "lenVar": 40
   },
   "kernels_config": {
    "python": {
     "delete_cmd_postfix": "",
     "delete_cmd_prefix": "del ",
     "library": "var_list.py",
     "varRefreshCmd": "print(var_dic_list())"
    },
    "r": {
     "delete_cmd_postfix": ") ",
     "delete_cmd_prefix": "rm(",
     "library": "var_list.r",
     "varRefreshCmd": "cat(var_dic_list()) "
    }
   },
   "types_to_exclude": [
    "module",
    "function",
    "builtin_function_or_method",
    "instance",
    "_Feature"
   ],
   "window_display": false
  }
 },
 "nbformat": 4,
 "nbformat_minor": 4
}
