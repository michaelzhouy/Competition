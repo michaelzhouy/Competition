{
 "cells": [
  {
   "cell_type": "code",
   "execution_count": 1,
   "metadata": {
    "ExecuteTime": {
     "end_time": "2020-06-17T15:29:08.340865Z",
     "start_time": "2020-06-17T15:29:05.806817Z"
    }
   },
   "outputs": [
    {
     "name": "stderr",
     "output_type": "stream",
     "text": [
      "C:\\Users\\z\\Anaconda3\\lib\\site-packages\\statsmodels\\tools\\_testing.py:19: FutureWarning: pandas.util.testing is deprecated. Use the functions in the public API at pandas.testing instead.\n",
      "  import pandas.util.testing as tm\n"
     ]
    }
   ],
   "source": [
    "import time\n",
    "import numpy as np\n",
    "import pandas as pd\n",
    "import matplotlib.pyplot as plt\n",
    "import seaborn as sns\n",
    "import lightgbm as lgb\n",
    "import gc\n",
    "import warnings\n",
    "from tqdm import tqdm\n",
    "from sklearn.metrics import f1_score\n",
    "from sklearn.model_selection import train_test_split\n",
    "from sklearn.model_selection import StratifiedKFold, KFold\n",
    "from itertools import product\n",
    "from mlxtend.feature_selection import SequentialFeatureSelector\n",
    "from sklearn.preprocessing import LabelEncoder\n",
    "from scipy import stats\n",
    "\n",
    "warnings.filterwarnings('ignore')\n",
    "\n",
    "pd.set_option('display.unicode.ambiguous_as_wide', True)\n",
    "pd.set_option('display.unicode.east_asian_width', True)\n",
    "pd.set_option('display.max_columns', None)\n",
    "pd.set_option('display.max_rows', None)\n",
    "pd.set_option(\"display.max_colwidth\", 100)\n",
    "pd.set_option('display.width', 1000)"
   ]
  },
  {
   "cell_type": "code",
   "execution_count": 2,
   "metadata": {
    "ExecuteTime": {
     "end_time": "2020-06-17T15:29:08.365799Z",
     "start_time": "2020-06-17T15:29:08.343812Z"
    }
   },
   "outputs": [],
   "source": [
    "# 节省内存读文件\n",
    "def reduce_mem_usage(df):\n",
    "    \"\"\"\n",
    "    iterate through all the columns of a dataframe and modify the data type to reduce memory usage.\n",
    "    @param df:\n",
    "    @return:\n",
    "    \"\"\"\n",
    "    start_mem = df.memory_usage().sum()\n",
    "    print('Memory usage of dataframe is {:.2f} MB'.format(start_mem))\n",
    "\n",
    "    for col in df.columns:\n",
    "        col_type = df[col].dtype\n",
    "\n",
    "        if col_type != object:\n",
    "            c_min = df[col].min()\n",
    "            c_max = df[col].max()\n",
    "            if str(col_type)[:3] == 'int':\n",
    "                if c_min > np.iinfo(np.int8).min and c_max < np.iinfo(np.int8).max:\n",
    "                    df[col] = df[col].astype(np.int8)\n",
    "                elif c_min > np.iinfo(np.int16).min and c_max < np.iinfo(np.int16).max:\n",
    "                    df[col] = df[col].astype(np.int16)\n",
    "                elif c_min > np.iinfo(np.int32).min and c_max < np.iinfo(np.int32).max:\n",
    "                    df[col] = df[col].astype(np.int32)\n",
    "                elif c_min > np.iinfo(np.int64).min and c_max < np.iinfo(np.int64).max:\n",
    "                    df[col] = df[col].astype(np.int64)\n",
    "            else:\n",
    "                if c_min > np.finfo(np.float16).min and c_max < np.finfo(np.float16).max:\n",
    "                    df[col] = df[col].astype(np.float16)\n",
    "                elif c_min > np.finfo(np.float32).min and c_max < np.finfo(np.float32).max:\n",
    "                    df[col] = df[col].astype(np.float32)\n",
    "                else:\n",
    "                    df[col] = df[col].astype(np.float64)\n",
    "        else:\n",
    "            df[col] = df[col].astype('str')\n",
    "\n",
    "    end_mem = df.memory_usage().sum()\n",
    "    print('Memory usage after optimization is: {:.2f} MB'.format(end_mem))\n",
    "    print('Decreased by {:.1f}%'.format(100 * (start_mem - end_mem) / start_mem))\n",
    "    return df"
   ]
  },
  {
   "cell_type": "code",
   "execution_count": 3,
   "metadata": {
    "ExecuteTime": {
     "end_time": "2020-06-17T15:29:08.384791Z",
     "start_time": "2020-06-17T15:29:08.370797Z"
    }
   },
   "outputs": [],
   "source": [
    "def cross_cat_num(df, cat_col, num_col):\n",
    "    for f1 in tqdm(cat_col):\n",
    "        g = df.groupby(f1, as_index=False)\n",
    "        for f2 in tqdm(num_col):\n",
    "            df_new = g[f2].agg({\n",
    "                '{}_{}_max'.format(f1, f2): 'max',\n",
    "                '{}_{}_min'.format(f1, f2): 'min',\n",
    "                '{}_{}_median'.format(f1, f2): 'median',\n",
    "                '{}_{}_mean'.format(f1, f2): 'mean',\n",
    "                '{}_{}_skew'.format(f1, f2): 'skew',\n",
    "                '{}_{}_nunique'.format(f1, f2): 'nunique'\n",
    "            })\n",
    "            df = df.merge(df_new, on=f1, how='left')\n",
    "            del df_new\n",
    "            gc.collect()\n",
    "    return df\n",
    "\n",
    "\n",
    "def count_encode(df, cols):\n",
    "    for col in tqdm(cols):\n",
    "        print(col)\n",
    "        vc = df[col].value_counts(dropna=True, normalize=True)\n",
    "        df[col + '_count'] = df[col].map(vc).astype('float32')\n",
    "    return df\n",
    "        \n",
    "        \n",
    "def label_encode(df, cols):\n",
    "    le = LabelEncoder()\n",
    "    for col in tqdm(cols):\n",
    "        df[col] = df[col].fillna('NA')\n",
    "        df[col] = le.fit_transform(df[col].astype(str))\n",
    "    return df"
   ]
  },
  {
   "cell_type": "markdown",
   "metadata": {},
   "source": [
    "## user表"
   ]
  },
  {
   "cell_type": "code",
   "execution_count": 4,
   "metadata": {
    "ExecuteTime": {
     "end_time": "2020-06-17T15:29:08.527707Z",
     "start_time": "2020-06-17T15:29:08.388788Z"
    }
   },
   "outputs": [],
   "source": [
    "train_user = pd.read_hdf('../input/train_user.h5')\n",
    "test_user = pd.read_hdf('../input/test_user.h5')"
   ]
  },
  {
   "cell_type": "code",
   "execution_count": 5,
   "metadata": {
    "ExecuteTime": {
     "end_time": "2020-06-17T15:29:08.596683Z",
     "start_time": "2020-06-17T15:29:08.531704Z"
    }
   },
   "outputs": [
    {
     "data": {
      "text/plain": [
       "119"
      ]
     },
     "execution_count": 5,
     "metadata": {},
     "output_type": "execute_result"
    }
   ],
   "source": [
    "df_user = pd.concat([train_user, test_user])\n",
    "\n",
    "del train_user, test_user\n",
    "gc.collect()"
   ]
  },
  {
   "cell_type": "code",
   "execution_count": 6,
   "metadata": {
    "ExecuteTime": {
     "end_time": "2020-06-17T15:29:08.617655Z",
     "start_time": "2020-06-17T15:29:08.600666Z"
    }
   },
   "outputs": [],
   "source": [
    "# 将city_name和county_name拼接起来\n",
    "df_user['city_name_county_name'] = df_user['city_name'].astype(str) + '_' + df_user['county_name'].astype(str)"
   ]
  },
  {
   "cell_type": "code",
   "execution_count": 7,
   "metadata": {
    "ExecuteTime": {
     "end_time": "2020-06-17T15:29:08.634645Z",
     "start_time": "2020-06-17T15:29:08.621654Z"
    }
   },
   "outputs": [],
   "source": [
    "# 电话的数量*月消费额\n",
    "df_user['idcard_cnt*arpu_202004'] = df_user['idcard_cnt'] * df_user['arpu_202004']\n",
    "\n",
    "# 月消费额/电话的数量\n",
    "df_user['arpu_202004/idcard_cnt'] = df_user['arpu_202004'] / (df_user['idcard_cnt'] + 0.0001)"
   ]
  },
  {
   "cell_type": "code",
   "execution_count": 8,
   "metadata": {
    "ExecuteTime": {
     "end_time": "2020-06-17T15:29:08.650638Z",
     "start_time": "2020-06-17T15:29:08.642642Z"
    }
   },
   "outputs": [],
   "source": [
    "cat_feat = ['city_name', 'county_name', 'city_name_county_name']"
   ]
  },
  {
   "cell_type": "code",
   "execution_count": 9,
   "metadata": {
    "ExecuteTime": {
     "end_time": "2020-06-17T15:29:08.673624Z",
     "start_time": "2020-06-17T15:29:08.664630Z"
    }
   },
   "outputs": [],
   "source": [
    "num_feat = ['idcard_cnt', 'arpu_202004', 'idcard_cnt*arpu_202004', 'arpu_202004/idcard_cnt']"
   ]
  },
  {
   "cell_type": "code",
   "execution_count": 10,
   "metadata": {
    "ExecuteTime": {
     "end_time": "2020-06-17T15:29:10.208648Z",
     "start_time": "2020-06-17T15:29:08.677622Z"
    }
   },
   "outputs": [
    {
     "name": "stderr",
     "output_type": "stream",
     "text": [
      "  0%|                                                                                            | 0/3 [00:00<?, ?it/s]\n",
      "  0%|                                                                                            | 0/4 [00:00<?, ?it/s]\n",
      " 50%|██████████████████████████████████████████                                          | 2/4 [00:00<00:00, 10.37it/s]\n",
      " 33%|████████████████████████████                                                        | 1/3 [00:00<00:00,  2.70it/s]\n",
      "  0%|                                                                                            | 0/4 [00:00<?, ?it/s]\n",
      " 25%|█████████████████████                                                               | 1/4 [00:00<00:00,  6.41it/s]\n",
      " 50%|██████████████████████████████████████████                                          | 2/4 [00:00<00:00,  6.79it/s]\n",
      " 75%|███████████████████████████████████████████████████████████████                     | 3/4 [00:00<00:00,  6.97it/s]\n",
      " 67%|████████████████████████████████████████████████████████                            | 2/3 [00:00<00:00,  2.35it/s]\n",
      "  0%|                                                                                            | 0/4 [00:00<?, ?it/s]\n",
      " 25%|█████████████████████                                                               | 1/4 [00:00<00:00,  6.37it/s]\n",
      " 50%|██████████████████████████████████████████                                          | 2/4 [00:00<00:00,  6.64it/s]\n",
      " 75%|███████████████████████████████████████████████████████████████                     | 3/4 [00:00<00:00,  6.80it/s]\n",
      "100%|████████████████████████████████████████████████████████████████████████████████████| 3/3 [00:01<00:00,  2.11it/s]\n"
     ]
    }
   ],
   "source": [
    "df_user = cross_cat_num(df_user, cat_feat, num_feat)"
   ]
  },
  {
   "cell_type": "code",
   "execution_count": 11,
   "metadata": {
    "ExecuteTime": {
     "end_time": "2020-06-17T15:29:10.268629Z",
     "start_time": "2020-06-17T15:29:10.210640Z"
    }
   },
   "outputs": [
    {
     "name": "stderr",
     "output_type": "stream",
     "text": [
      "\r",
      "  0%|                                                                                            | 0/4 [00:00<?, ?it/s]"
     ]
    },
    {
     "name": "stdout",
     "output_type": "stream",
     "text": [
      "city_name\n",
      "county_name\n",
      "city_name_county_name\n",
      "idcard_cnt\n"
     ]
    },
    {
     "name": "stderr",
     "output_type": "stream",
     "text": [
      "100%|████████████████████████████████████████████████████████████████████████████████████| 4/4 [00:00<00:00, 90.96it/s]\n"
     ]
    }
   ],
   "source": [
    "df_user = count_encode(df_user, cat_feat + ['idcard_cnt'])"
   ]
  },
  {
   "cell_type": "code",
   "execution_count": 12,
   "metadata": {
    "ExecuteTime": {
     "end_time": "2020-06-17T15:29:10.305584Z",
     "start_time": "2020-06-17T15:29:10.273605Z"
    }
   },
   "outputs": [
    {
     "name": "stderr",
     "output_type": "stream",
     "text": [
      "100%|███████████████████████████████████████████████████████████████████████████████████| 3/3 [00:00<00:00, 150.09it/s]\n"
     ]
    }
   ],
   "source": [
    "df_user = label_encode(df_user, cat_feat)"
   ]
  },
  {
   "cell_type": "markdown",
   "metadata": {},
   "source": [
    "## voc表"
   ]
  },
  {
   "cell_type": "code",
   "execution_count": 13,
   "metadata": {
    "ExecuteTime": {
     "end_time": "2020-06-17T15:29:12.212438Z",
     "start_time": "2020-06-17T15:29:10.307584Z"
    }
   },
   "outputs": [],
   "source": [
    "train_voc = pd.read_hdf('../input/train_voc.h5')\n",
    "test_voc = pd.read_hdf('../input/test_voc.h5')"
   ]
  },
  {
   "cell_type": "code",
   "execution_count": 14,
   "metadata": {
    "ExecuteTime": {
     "end_time": "2020-06-17T15:29:12.602395Z",
     "start_time": "2020-06-17T15:29:12.214436Z"
    }
   },
   "outputs": [
    {
     "data": {
      "text/plain": [
       "64"
      ]
     },
     "execution_count": 14,
     "metadata": {},
     "output_type": "execute_result"
    }
   ],
   "source": [
    "df_voc = pd.concat([train_voc, test_voc])\n",
    "\n",
    "del train_voc, test_voc\n",
    "gc.collect()"
   ]
  },
  {
   "cell_type": "code",
   "execution_count": 15,
   "metadata": {
    "ExecuteTime": {
     "end_time": "2020-06-17T15:29:15.199082Z",
     "start_time": "2020-06-17T15:29:12.604395Z"
    }
   },
   "outputs": [],
   "source": [
    "df_voc['voc_day'] = df_voc['start_datetime'].astype('datetime64').dt.day\n",
    "df_voc['voc_hour'] = df_voc['start_datetime'].astype('datetime64').dt.hour\n",
    "df_voc['voc_dayofweek'] = df_voc['start_datetime'].astype('datetime64').dt.dayofweek"
   ]
  },
  {
   "cell_type": "code",
   "execution_count": 16,
   "metadata": {
    "ExecuteTime": {
     "end_time": "2020-06-17T15:29:15.845733Z",
     "start_time": "2020-06-17T15:29:15.201082Z"
    }
   },
   "outputs": [],
   "source": [
    "phone_no_m = df_voc[['phone_no_m']].copy()\n",
    "phone_no_m = phone_no_m.drop_duplicates(subset=['phone_no_m'], keep='last')"
   ]
  },
  {
   "cell_type": "code",
   "execution_count": 17,
   "metadata": {
    "ExecuteTime": {
     "end_time": "2020-06-17T15:29:17.145927Z",
     "start_time": "2020-06-17T15:29:15.847736Z"
    }
   },
   "outputs": [
    {
     "data": {
      "text/plain": [
       "0"
      ]
     },
     "execution_count": 17,
     "metadata": {},
     "output_type": "execute_result"
    }
   ],
   "source": [
    "# 通话次数，通话人数\n",
    "tmp = df_voc.groupby('phone_no_m')['opposite_no_m'].agg(opposite_cnt='count', opposite_nunique='nunique')\n",
    "phone_no_m = phone_no_m.merge(tmp, how='left', on='phone_no_m')\n",
    "\n",
    "del tmp\n",
    "gc.collect()"
   ]
  },
  {
   "cell_type": "code",
   "execution_count": 18,
   "metadata": {
    "ExecuteTime": {
     "end_time": "2020-06-17T15:29:19.998819Z",
     "start_time": "2020-06-17T15:29:17.148925Z"
    }
   },
   "outputs": [
    {
     "data": {
      "text/plain": [
       "0"
      ]
     },
     "execution_count": 18,
     "metadata": {},
     "output_type": "execute_result"
    }
   ],
   "source": [
    "\"\"\"\n",
    "主叫通话\n",
    "\"\"\"\n",
    "\n",
    "df_calltype_id_1 = df_voc.loc[df_voc['calltype_id'] == 1, :].copy()\n",
    "\n",
    "# 主叫通话次数，主叫通话使用的手机个数\n",
    "tmp = df_calltype_id_1.groupby('phone_no_m')['imei_m'].agg(voc_calltype_id_1_cnt='count', imeis='nunique')\n",
    "phone_no_m = phone_no_m.merge(tmp, on='phone_no_m', how='left')\n",
    "del tmp\n",
    "gc.collect()\n",
    "\n",
    "# 主叫通话时长\n",
    "tmp = df_calltype_id_1.groupby('phone_no_m')['call_dur'].agg(voc_calltype_id_1_call_dur_sum='sum')\n",
    "phone_no_m = phone_no_m.merge(tmp, on='phone_no_m', how='left')\n",
    "del tmp\n",
    "gc.collect()\n",
    "\n",
    "# 主叫通话时长小于30s的次数\n",
    "tmp1 = df_calltype_id_1[df_calltype_id_1['call_dur'] < 30]\n",
    "tmp2 = tmp1.groupby('phone_no_m')['call_dur'].agg(voc_calltype_id_1_30s_cnt='count')\n",
    "phone_no_m = phone_no_m.merge(tmp2, on='phone_no_m', how='left')\n",
    "del tmp1, tmp2\n",
    "gc.collect()\n",
    "\n",
    "# 主叫通话时长小于60s的次数\n",
    "tmp1 = df_calltype_id_1[df_calltype_id_1['call_dur'] < 60]\n",
    "tmp2 = tmp1.groupby('phone_no_m')['call_dur'].agg(voc_calltype_id_1_60s_cnt='count')\n",
    "phone_no_m = phone_no_m.merge(tmp2, on='phone_no_m', how='left')\n",
    "del tmp1, tmp2\n",
    "gc.collect()\n",
    "\n",
    "# 主叫通话时长大于300s（5分钟）的次数\n",
    "tmp1 = df_calltype_id_1[df_calltype_id_1['call_dur'] > 300]\n",
    "tmp2 = tmp1.groupby('phone_no_m')['call_dur'].agg(voc_calltype_id_1_300s_cnt='count')\n",
    "phone_no_m = phone_no_m.merge(tmp2, on='phone_no_m', how='left')\n",
    "del tmp1, tmp2\n",
    "gc.collect()\n",
    "\n",
    "# 主叫通话时长小于30s的次数的占比\n",
    "phone_no_m['voc_calltype_id_1_30s_rate'] = phone_no_m['voc_calltype_id_1_30s_cnt'] / phone_no_m['voc_calltype_id_1_cnt']\n",
    "\n",
    "# 主叫通话时长小于60s的次数的占比\n",
    "phone_no_m['voc_calltype_id_1_60s_rate'] = phone_no_m['voc_calltype_id_1_60s_cnt'] / phone_no_m['voc_calltype_id_1_cnt']\n",
    "\n",
    "# 主叫通话时长小于60s的次数的占比\n",
    "phone_no_m['voc_calltype_id_1_300s_rate'] = phone_no_m['voc_calltype_id_1_300s_cnt'] / phone_no_m['voc_calltype_id_1_cnt']\n",
    "\n",
    "\n",
    "# 主叫通话次数/通话次数，\n",
    "phone_no_m[\"call_type_id_1_rate\"] = phone_no_m['voc_calltype_id_1_cnt'] / phone_no_m['opposite_cnt']\n",
    "\n",
    "# 主叫通话时所在地市的个数\n",
    "tmp = df_calltype_id_1.groupby('phone_no_m')['city_name'].agg(city_name_call='nunique')\n",
    "phone_no_m = phone_no_m.merge(tmp, on='phone_no_m', how='left')\n",
    "del tmp\n",
    "gc.collect()\n",
    "\n",
    "# 主叫通话时所在区县的个数\n",
    "tmp = df_calltype_id_1.groupby(\"phone_no_m\")['county_name'].agg(county_name_call='nunique')\n",
    "phone_no_m = phone_no_m.merge(tmp, on=\"phone_no_m\", how=\"left\")\n",
    "del tmp\n",
    "gc.collect()"
   ]
  },
  {
   "cell_type": "code",
   "execution_count": 19,
   "metadata": {
    "ExecuteTime": {
     "end_time": "2020-06-17T15:29:22.485958Z",
     "start_time": "2020-06-17T15:29:20.002815Z"
    }
   },
   "outputs": [
    {
     "data": {
      "text/plain": [
       "0"
      ]
     },
     "execution_count": 19,
     "metadata": {},
     "output_type": "execute_result"
    }
   ],
   "source": [
    "\"\"\"\n",
    "与对端通话统计\n",
    "\"\"\"\n",
    "\n",
    "# 与对端通话次数，与对端总通话时长\n",
    "tmp = df_voc.groupby(['phone_no_m', 'opposite_no_m'])['call_dur'].agg(call_count='count', call_sum='sum')\n",
    "\n",
    "# 与对端通话次数的统计量\n",
    "phone2opposite = tmp.groupby('phone_no_m')['call_count'].agg(phone2opposite_cnt_mean='mean',\n",
    "                                                             phone2opposite_cnt_median='median',\n",
    "                                                             phone2opposite_cnt_min='min',\n",
    "                                                             phone2opposite_cnt_max='max',\n",
    "                                                             phone2opposite_cnt_std='std')\n",
    "phone_no_m = phone_no_m.merge(phone2opposite, on='phone_no_m', how='left')\n",
    "del phone2opposite\n",
    "gc.collect()\n",
    "\n",
    "\n",
    "# 与对端总通话时长的统计量\n",
    "phone2opposite = tmp.groupby('phone_no_m')['call_sum'].agg(phone2opposite_call_dur_mean='mean',\n",
    "                                                           phone2opposite_call_dur_median='median',\n",
    "                                                           phone2opposite_call_dur_min='min',\n",
    "                                                           phone2opposite_call_dur_max='max',\n",
    "                                                           phone2opposite_call_dur_std='std')\n",
    "phone_no_m = phone_no_m.merge(phone2opposite, on='phone_no_m', how='left')\n",
    "del phone2opposite, tmp\n",
    "gc.collect()"
   ]
  },
  {
   "cell_type": "code",
   "execution_count": 20,
   "metadata": {
    "ExecuteTime": {
     "end_time": "2020-06-17T15:29:23.014655Z",
     "start_time": "2020-06-17T15:29:22.488957Z"
    }
   },
   "outputs": [
    {
     "data": {
      "text/plain": [
       "20"
      ]
     },
     "execution_count": 20,
     "metadata": {},
     "output_type": "execute_result"
    }
   ],
   "source": [
    "\"\"\"\n",
    "通话时长的统计\n",
    "\"\"\"\n",
    "\n",
    "# 通话时长的统计量\n",
    "tmp = df_voc.groupby('phone_no_m')['call_dur'].agg(call_dur_mean='mean',\n",
    "                                                   call_dur_median='median',\n",
    "                                                   call_dur_max='max',\n",
    "                                                   call_dur_min='min',\n",
    "                                                   call_dur_std='std')\n",
    "phone_no_m = phone_no_m.merge(tmp, on='phone_no_m', how='left')\n",
    "del tmp\n",
    "gc.collect()"
   ]
  },
  {
   "cell_type": "code",
   "execution_count": 21,
   "metadata": {
    "ExecuteTime": {
     "end_time": "2020-06-17T15:29:24.908687Z",
     "start_time": "2020-06-17T15:29:23.017654Z"
    }
   },
   "outputs": [
    {
     "data": {
      "text/plain": [
       "0"
      ]
     },
     "execution_count": 21,
     "metadata": {},
     "output_type": "execute_result"
    }
   ],
   "source": [
    "# 收费号码所在地市的个数\n",
    "tmp = df_voc.groupby('phone_no_m')['city_name'].agg(city_name_nunique='nunique')\n",
    "phone_no_m = phone_no_m.merge(tmp, on='phone_no_m', how='left')\n",
    "\n",
    "# 收费号码所在区县的个数\n",
    "tmp = df_voc.groupby('phone_no_m')['county_name'].agg(county_name_nunique='nunique')\n",
    "phone_no_m = phone_no_m.merge(tmp, on=\"phone_no_m\", how='left')\n",
    "\n",
    "# 收费号码通话类型的个数\n",
    "tmp = df_voc.groupby('phone_no_m')['calltype_id'].agg(calltype_id_unique='nunique')\n",
    "phone_no_m = phone_no_m.merge(tmp, on='phone_no_m', how='left')\n",
    "\n",
    "del tmp\n",
    "gc.collect()"
   ]
  },
  {
   "cell_type": "code",
   "execution_count": 22,
   "metadata": {
    "ExecuteTime": {
     "end_time": "2020-06-17T15:29:30.405614Z",
     "start_time": "2020-06-17T15:29:24.916682Z"
    }
   },
   "outputs": [
    {
     "data": {
      "text/plain": [
       "<function gc.collect(generation=2)>"
      ]
     },
     "execution_count": 22,
     "metadata": {},
     "output_type": "execute_result"
    }
   ],
   "source": [
    "\"\"\"\n",
    "通话时间点的偏好\n",
    "\"\"\"\n",
    "tmp = df_voc.groupby('phone_no_m')['voc_hour'].agg(voc_hour_mode=lambda x: stats.mode(x)[0][0],        # 频次最高的元素\n",
    "                                                   voc_hour_mode_count=lambda x: stats.mode(x)[1][0],  # 频次最高的元素的频次\n",
    "                                                   voc_hour_nunique='nunique')\n",
    "phone_no_m = phone_no_m.merge(tmp, on='phone_no_m', how='left')\n",
    "\n",
    "\n",
    "tmp = df_voc.groupby('phone_no_m')['voc_day'].agg(voc_day_mode=lambda x: stats.mode(x)[0][0],\n",
    "                                                  voc_day_mode_count=lambda x: stats.mode(x)[1][0],\n",
    "                                                  voc_day_nunique='nunique')\n",
    "phone_no_m = phone_no_m.merge(tmp, on='phone_no_m', how='left')\n",
    "\n",
    "del tmp\n",
    "gc.collect()\n",
    "\n",
    "phone_no_m.to_csv('../input/user_features.csv', index=False)\n",
    "del phone_no_m\n",
    "gc.collect"
   ]
  },
  {
   "cell_type": "markdown",
   "metadata": {},
   "source": [
    "## sms表"
   ]
  },
  {
   "cell_type": "code",
   "execution_count": 23,
   "metadata": {
    "ExecuteTime": {
     "end_time": "2020-06-17T15:29:32.250121Z",
     "start_time": "2020-06-17T15:29:30.411609Z"
    }
   },
   "outputs": [],
   "source": [
    "train_sms = pd.read_hdf('../input/train_sms.h5')\n",
    "test_sms = pd.read_hdf('../input/test_sms.h5')"
   ]
  },
  {
   "cell_type": "code",
   "execution_count": 24,
   "metadata": {
    "ExecuteTime": {
     "end_time": "2020-06-17T15:29:32.529943Z",
     "start_time": "2020-06-17T15:29:32.252101Z"
    }
   },
   "outputs": [
    {
     "data": {
      "text/plain": [
       "129"
      ]
     },
     "execution_count": 24,
     "metadata": {},
     "output_type": "execute_result"
    }
   ],
   "source": [
    "df_sms = pd.concat([train_sms, test_sms])\n",
    "\n",
    "del train_sms, test_sms\n",
    "gc.collect()"
   ]
  },
  {
   "cell_type": "code",
   "execution_count": 25,
   "metadata": {
    "ExecuteTime": {
     "end_time": "2020-06-17T15:29:37.459713Z",
     "start_time": "2020-06-17T15:29:32.531941Z"
    }
   },
   "outputs": [],
   "source": [
    "df_sms['sms_day'] = df_sms['request_datetime'].astype('datetime64').dt.day\n",
    "df_sms['sms_hour'] = df_sms['request_datetime'].astype('datetime64').dt.hour\n",
    "df_sms['sms_dayofweek'] = df_sms['request_datetime'].astype('datetime64').dt.dayofweek"
   ]
  },
  {
   "cell_type": "code",
   "execution_count": 26,
   "metadata": {
    "ExecuteTime": {
     "end_time": "2020-06-17T15:29:38.163311Z",
     "start_time": "2020-06-17T15:29:37.461711Z"
    }
   },
   "outputs": [],
   "source": [
    "phone_no_m = df_sms[[\"phone_no_m\"]].copy()\n",
    "phone_no_m = phone_no_m.drop_duplicates(subset=['phone_no_m'], keep='last')"
   ]
  },
  {
   "cell_type": "code",
   "execution_count": 27,
   "metadata": {
    "ExecuteTime": {
     "end_time": "2020-06-17T15:29:39.859750Z",
     "start_time": "2020-06-17T15:29:38.165309Z"
    }
   },
   "outputs": [
    {
     "data": {
      "text/plain": [
       "0"
      ]
     },
     "execution_count": 27,
     "metadata": {},
     "output_type": "execute_result"
    }
   ],
   "source": [
    "# 短信次数，短信人数\n",
    "tmp = df_sms.groupby('phone_no_m')['opposite_no_m'].agg(sms_cnt='count', sms_nunique='nunique')\n",
    "\n",
    "# 对端平均收到短信次数\n",
    "tmp['sms_avg'] = tmp['sms_cnt'] / tmp['sms_nunique']\n",
    "phone_no_m = phone_no_m.merge(tmp, on='phone_no_m', how='left')\n",
    "\n",
    "del tmp\n",
    "gc.collect()"
   ]
  },
  {
   "cell_type": "code",
   "execution_count": 28,
   "metadata": {
    "ExecuteTime": {
     "end_time": "2020-06-17T15:29:40.812202Z",
     "start_time": "2020-06-17T15:29:39.862747Z"
    }
   },
   "outputs": [
    {
     "data": {
      "text/plain": [
       "0"
      ]
     },
     "execution_count": 28,
     "metadata": {},
     "output_type": "execute_result"
    }
   ],
   "source": [
    "\"\"\"\n",
    "短信上行，短信下行\n",
    "\"\"\"\n",
    "\n",
    "# 短信上行\n",
    "df_sms_calltype1 = df_sms[df_sms['calltype_id'] == 1].copy()\n",
    "tmp = df_sms_calltype1.groupby('phone_no_m')['calltype_id'].agg(sms_calltype1_cnt=\"count\")\n",
    "phone_no_m = phone_no_m.merge(tmp, on='phone_no_m', how='left')\n",
    "\n",
    "# 短信上行比例\n",
    "phone_no_m['sms_calltype1_rate'] = phone_no_m['sms_calltype1_cnt'] / phone_no_m['sms_cnt']\n",
    "\n",
    "del tmp, df_sms_calltype1\n",
    "\n",
    "# 短信下行\n",
    "df_sms_calltype2 = df_sms[df_sms['calltype_id'] == 2].copy()\n",
    "tmp = df_sms_calltype2.groupby('phone_no_m')['calltype_id'].agg(sms_calltype2_cnt=\"count\")\n",
    "phone_no_m = phone_no_m.merge(tmp, on='phone_no_m', how='left')\n",
    "\n",
    "# 短信上行/短信下行\n",
    "phone_no_m['type1_rate/type2_rate'] = phone_no_m['sms_calltype1_cnt'] / (phone_no_m['sms_calltype2_cnt'] + 0.00001)\n",
    "\n",
    "# 删除，效果变差\n",
    "# # 短信下行/短信上行\n",
    "# phone_no_m['type2_rate/type1_rate'] = phone_no_m['sms_calltype2_cnt'] / (phone_no_m['sms_calltype1_cnt'] + 0.00001)\n",
    "\n",
    "del tmp, df_sms_calltype2\n",
    "gc.collect()"
   ]
  },
  {
   "cell_type": "code",
   "execution_count": 29,
   "metadata": {
    "ExecuteTime": {
     "end_time": "2020-06-17T15:29:46.475261Z",
     "start_time": "2020-06-17T15:29:40.815203Z"
    }
   },
   "outputs": [
    {
     "data": {
      "text/plain": [
       "0"
      ]
     },
     "execution_count": 29,
     "metadata": {},
     "output_type": "execute_result"
    }
   ],
   "source": [
    "\"\"\"\n",
    "短信时间点的偏好\n",
    "\"\"\"\n",
    "\n",
    "tmp = df_sms.groupby('phone_no_m')['sms_hour'].agg(sms_hour_mode=lambda x: stats.mode(x)[0][0],        # 频次最高的元素\n",
    "                                                   sms_hour_mode_count=lambda x: stats.mode(x)[1][0],  # 频次最高的元素的频次\n",
    "                                                   sms_hour_nunique='nunique')\n",
    "phone_no_m = phone_no_m.merge(tmp, on='phone_no_m', how='left')\n",
    "\n",
    "del tmp\n",
    "\n",
    "tmp = df_sms.groupby('phone_no_m')['sms_day'].agg(sms_day_mode=lambda x: stats.mode(x)[0][0],\n",
    "                                                  sms_day_mode_count=lambda x: stats.mode(x)[1][0],\n",
    "                                                  sms_day_nunique='nunique')\n",
    "phone_no_m = phone_no_m.merge(tmp, on='phone_no_m', how='left')\n",
    "\n",
    "del tmp\n",
    "gc.collect()"
   ]
  },
  {
   "cell_type": "code",
   "execution_count": 30,
   "metadata": {
    "ExecuteTime": {
     "end_time": "2020-06-17T15:29:46.654159Z",
     "start_time": "2020-06-17T15:29:46.478260Z"
    }
   },
   "outputs": [
    {
     "data": {
      "text/plain": [
       "20"
      ]
     },
     "execution_count": 30,
     "metadata": {},
     "output_type": "execute_result"
    }
   ],
   "source": [
    "phone_no_m.to_csv('../input/sms_features.csv', index=False)\n",
    "\n",
    "del phone_no_m\n",
    "gc.collect()"
   ]
  },
  {
   "cell_type": "markdown",
   "metadata": {},
   "source": [
    "## app表"
   ]
  },
  {
   "cell_type": "code",
   "execution_count": 31,
   "metadata": {
    "ExecuteTime": {
     "end_time": "2020-06-17T15:29:47.011683Z",
     "start_time": "2020-06-17T15:29:46.656157Z"
    }
   },
   "outputs": [],
   "source": [
    "train_app = pd.read_hdf('../input/train_app.h5')\n",
    "test_app = pd.read_hdf('../input/test_app.h5')"
   ]
  },
  {
   "cell_type": "code",
   "execution_count": 32,
   "metadata": {
    "ExecuteTime": {
     "end_time": "2020-06-17T15:29:47.127595Z",
     "start_time": "2020-06-17T15:29:47.013642Z"
    }
   },
   "outputs": [
    {
     "data": {
      "text/plain": [
       "106"
      ]
     },
     "execution_count": 32,
     "metadata": {},
     "output_type": "execute_result"
    }
   ],
   "source": [
    "df_app = pd.concat([train_app, test_app])\n",
    "\n",
    "del train_app, test_app\n",
    "gc.collect()"
   ]
  },
  {
   "cell_type": "code",
   "execution_count": 33,
   "metadata": {
    "ExecuteTime": {
     "end_time": "2020-06-17T15:29:47.365472Z",
     "start_time": "2020-06-17T15:29:47.129576Z"
    }
   },
   "outputs": [],
   "source": [
    "phone_no_m = df_app[['phone_no_m']].copy()\n",
    "phone_no_m = phone_no_m.drop_duplicates(subset=['phone_no_m'], keep='last')"
   ]
  },
  {
   "cell_type": "code",
   "execution_count": 34,
   "metadata": {
    "ExecuteTime": {
     "end_time": "2020-06-17T15:29:47.747222Z",
     "start_time": "2020-06-17T15:29:47.368440Z"
    }
   },
   "outputs": [
    {
     "data": {
      "text/plain": [
       "40"
      ]
     },
     "execution_count": 34,
     "metadata": {},
     "output_type": "execute_result"
    }
   ],
   "source": [
    "# APP数\n",
    "tmp = df_app.groupby('phone_no_m')['busi_name'].agg(busi_cnt='count')\n",
    "phone_no_m = phone_no_m.merge(tmp, on='phone_no_m', how='left')\n",
    "del tmp\n",
    "gc.collect()"
   ]
  },
  {
   "cell_type": "code",
   "execution_count": 35,
   "metadata": {
    "ExecuteTime": {
     "end_time": "2020-06-17T15:29:49.568554Z",
     "start_time": "2020-06-17T15:29:47.751223Z"
    }
   },
   "outputs": [
    {
     "data": {
      "text/plain": [
       "20"
      ]
     },
     "execution_count": 35,
     "metadata": {},
     "output_type": "execute_result"
    }
   ],
   "source": [
    "\"\"\"\n",
    "流量统计\n",
    "\"\"\"\n",
    "tmp = df_app.groupby(\"phone_no_m\")[\"flow\"].agg(flow_mean='mean',\n",
    "                                               flow_median='median',\n",
    "                                               flow_min='min',\n",
    "                                               flow_max='max',\n",
    "                                               flow_std='std',\n",
    "                                               flow_sum='sum',\n",
    "                                               flow_skew='skew')\n",
    "phone_no_m = phone_no_m.merge(tmp, on='phone_no_m', how='left')\n",
    "\n",
    "del tmp\n",
    "gc.collect()"
   ]
  },
  {
   "cell_type": "code",
   "execution_count": 36,
   "metadata": {
    "ExecuteTime": {
     "end_time": "2020-06-17T15:29:49.754465Z",
     "start_time": "2020-06-17T15:29:49.571556Z"
    }
   },
   "outputs": [
    {
     "data": {
      "text/plain": [
       "20"
      ]
     },
     "execution_count": 36,
     "metadata": {},
     "output_type": "execute_result"
    }
   ],
   "source": [
    "phone_no_m.to_csv('../input/app_features.csv', index=False)\n",
    "\n",
    "del phone_no_m\n",
    "gc.collect()"
   ]
  }
 ],
 "metadata": {
  "kernelspec": {
   "display_name": "Python 3",
   "language": "python",
   "name": "python3"
  },
  "language_info": {
   "codemirror_mode": {
    "name": "ipython",
    "version": 3
   },
   "file_extension": ".py",
   "mimetype": "text/x-python",
   "name": "python",
   "nbconvert_exporter": "python",
   "pygments_lexer": "ipython3",
   "version": "3.7.3"
  },
  "toc": {
   "base_numbering": 1,
   "nav_menu": {},
   "number_sections": true,
   "sideBar": true,
   "skip_h1_title": false,
   "title_cell": "Table of Contents",
   "title_sidebar": "Contents",
   "toc_cell": false,
   "toc_position": {},
   "toc_section_display": true,
   "toc_window_display": false
  },
  "varInspector": {
   "cols": {
    "lenName": 16,
    "lenType": 16,
    "lenVar": 40
   },
   "kernels_config": {
    "python": {
     "delete_cmd_postfix": "",
     "delete_cmd_prefix": "del ",
     "library": "var_list.py",
     "varRefreshCmd": "print(var_dic_list())"
    },
    "r": {
     "delete_cmd_postfix": ") ",
     "delete_cmd_prefix": "rm(",
     "library": "var_list.r",
     "varRefreshCmd": "cat(var_dic_list()) "
    }
   },
   "types_to_exclude": [
    "module",
    "function",
    "builtin_function_or_method",
    "instance",
    "_Feature"
   ],
   "window_display": false
  }
 },
 "nbformat": 4,
 "nbformat_minor": 2
}
