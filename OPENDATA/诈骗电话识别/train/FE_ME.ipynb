{
 "cells": [
  {
   "cell_type": "code",
   "execution_count": 1,
   "metadata": {
    "ExecuteTime": {
     "end_time": "2020-06-18T02:45:27.487431Z",
     "start_time": "2020-06-18T02:45:26.370771Z"
    }
   },
   "outputs": [],
   "source": [
    "import time\n",
    "import numpy as np\n",
    "import pandas as pd\n",
    "import matplotlib.pyplot as plt\n",
    "import seaborn as sns\n",
    "import lightgbm as lgb\n",
    "import gc\n",
    "import warnings\n",
    "from tqdm import tqdm\n",
    "from sklearn.metrics import f1_score\n",
    "from sklearn.model_selection import train_test_split\n",
    "from sklearn.model_selection import StratifiedKFold, KFold\n",
    "from itertools import product\n",
    "from mlxtend.feature_selection import SequentialFeatureSelector\n",
    "from sklearn.preprocessing import LabelEncoder\n",
    "from scipy import stats\n",
    "\n",
    "warnings.filterwarnings('ignore')\n",
    "\n",
    "pd.set_option('display.unicode.ambiguous_as_wide', True)\n",
    "pd.set_option('display.unicode.east_asian_width', True)\n",
    "pd.set_option('display.max_columns', None)\n",
    "pd.set_option('display.max_rows', None)\n",
    "pd.set_option(\"display.max_colwidth\", 100)\n",
    "pd.set_option('display.width', 1000)"
   ]
  },
  {
   "cell_type": "code",
   "execution_count": 2,
   "metadata": {
    "ExecuteTime": {
     "end_time": "2020-06-18T02:45:27.502847Z",
     "start_time": "2020-06-18T02:45:27.489499Z"
    }
   },
   "outputs": [],
   "source": [
    "# 节省内存读文件\n",
    "def reduce_mem_usage(df):\n",
    "    \"\"\"\n",
    "    iterate through all the columns of a dataframe and modify the data type to reduce memory usage.\n",
    "    @param df:\n",
    "    @return:\n",
    "    \"\"\"\n",
    "    start_mem = df.memory_usage().sum()\n",
    "    print('Memory usage of dataframe is {:.2f} MB'.format(start_mem))\n",
    "\n",
    "    for col in df.columns:\n",
    "        col_type = df[col].dtype\n",
    "\n",
    "        if col_type != object:\n",
    "            c_min = df[col].min()\n",
    "            c_max = df[col].max()\n",
    "            if str(col_type)[:3] == 'int':\n",
    "                if c_min > np.iinfo(np.int8).min and c_max < np.iinfo(np.int8).max:\n",
    "                    df[col] = df[col].astype(np.int8)\n",
    "                elif c_min > np.iinfo(np.int16).min and c_max < np.iinfo(np.int16).max:\n",
    "                    df[col] = df[col].astype(np.int16)\n",
    "                elif c_min > np.iinfo(np.int32).min and c_max < np.iinfo(np.int32).max:\n",
    "                    df[col] = df[col].astype(np.int32)\n",
    "                elif c_min > np.iinfo(np.int64).min and c_max < np.iinfo(np.int64).max:\n",
    "                    df[col] = df[col].astype(np.int64)\n",
    "            else:\n",
    "                if c_min > np.finfo(np.float16).min and c_max < np.finfo(np.float16).max:\n",
    "                    df[col] = df[col].astype(np.float16)\n",
    "                elif c_min > np.finfo(np.float32).min and c_max < np.finfo(np.float32).max:\n",
    "                    df[col] = df[col].astype(np.float32)\n",
    "                else:\n",
    "                    df[col] = df[col].astype(np.float64)\n",
    "        else:\n",
    "            df[col] = df[col].astype('str')\n",
    "\n",
    "    end_mem = df.memory_usage().sum()\n",
    "    print('Memory usage after optimization is: {:.2f} MB'.format(end_mem))\n",
    "    print('Decreased by {:.1f}%'.format(100 * (start_mem - end_mem) / start_mem))\n",
    "    return df"
   ]
  },
  {
   "cell_type": "code",
   "execution_count": null,
   "metadata": {},
   "outputs": [],
   "source": []
  },
  {
   "cell_type": "code",
   "execution_count": 3,
   "metadata": {
    "ExecuteTime": {
     "end_time": "2020-06-18T02:45:27.518184Z",
     "start_time": "2020-06-18T02:45:27.504459Z"
    }
   },
   "outputs": [],
   "source": [
    "def cross_cat_num(df, cat_col, num_col):\n",
    "    for f1 in tqdm(cat_col):\n",
    "        g = df.groupby(f1, as_index=False)\n",
    "        for f2 in tqdm(num_col):\n",
    "            df_new = g[f2].agg({\n",
    "                '{}_{}_max'.format(f1, f2): 'max',\n",
    "                '{}_{}_min'.format(f1, f2): 'min',\n",
    "                '{}_{}_median'.format(f1, f2): 'median',\n",
    "                '{}_{}_mean'.format(f1, f2): 'mean',\n",
    "                '{}_{}_skew'.format(f1, f2): 'skew',\n",
    "                '{}_{}_nunique'.format(f1, f2): 'nunique'\n",
    "            })\n",
    "            df = df.merge(df_new, on=f1, how='left')\n",
    "            del df_new\n",
    "            gc.collect()\n",
    "    return df\n",
    "\n",
    "\n",
    "def count_encode(df, cols):\n",
    "    for col in tqdm(cols):\n",
    "        print(col)\n",
    "        vc = df[col].value_counts(dropna=True, normalize=True)\n",
    "        df[col + '_count'] = df[col].map(vc).astype('float32')\n",
    "    return df\n",
    "        \n",
    "        \n",
    "def label_encode(df, cols):\n",
    "    le = LabelEncoder()\n",
    "    for col in tqdm(cols):\n",
    "        df[col] = df[col].fillna('NA')\n",
    "        df[col] = le.fit_transform(df[col].astype(str))\n",
    "    return df"
   ]
  },
  {
   "cell_type": "markdown",
   "metadata": {},
   "source": [
    "## user表"
   ]
  },
  {
   "cell_type": "code",
   "execution_count": 4,
   "metadata": {
    "ExecuteTime": {
     "end_time": "2020-06-18T02:45:27.915691Z",
     "start_time": "2020-06-18T02:45:27.519167Z"
    }
   },
   "outputs": [],
   "source": [
    "train_user = pd.read_hdf('../input/train_user.h5')\n",
    "test_user = pd.read_hdf('../input/test_user.h5')"
   ]
  },
  {
   "cell_type": "code",
   "execution_count": 5,
   "metadata": {
    "ExecuteTime": {
     "end_time": "2020-06-18T02:45:27.951595Z",
     "start_time": "2020-06-18T02:45:27.916687Z"
    }
   },
   "outputs": [
    {
     "data": {
      "text/plain": [
       "86"
      ]
     },
     "execution_count": 5,
     "metadata": {},
     "output_type": "execute_result"
    }
   ],
   "source": [
    "df_user = pd.concat([train_user, test_user])\n",
    "\n",
    "del train_user, test_user\n",
    "gc.collect()"
   ]
  },
  {
   "cell_type": "code",
   "execution_count": 6,
   "metadata": {
    "ExecuteTime": {
     "end_time": "2020-06-18T02:45:27.964560Z",
     "start_time": "2020-06-18T02:45:27.952592Z"
    }
   },
   "outputs": [],
   "source": [
    "# 将city_name和county_name拼接起来\n",
    "df_user['city_name_county_name'] = df_user['city_name'].astype(str) + '_' + df_user['county_name'].astype(str)"
   ]
  },
  {
   "cell_type": "code",
   "execution_count": 7,
   "metadata": {
    "ExecuteTime": {
     "end_time": "2020-06-18T02:45:27.974533Z",
     "start_time": "2020-06-18T02:45:27.967552Z"
    }
   },
   "outputs": [],
   "source": [
    "# 电话的数量*月消费额\n",
    "df_user['idcard_cnt*arpu_202004'] = df_user['idcard_cnt'] * df_user['arpu_202004']\n",
    "\n",
    "# 月消费额/电话的数量\n",
    "df_user['arpu_202004/idcard_cnt'] = df_user['arpu_202004'] / (df_user['idcard_cnt'] + 0.0001)"
   ]
  },
  {
   "cell_type": "code",
   "execution_count": 8,
   "metadata": {
    "ExecuteTime": {
     "end_time": "2020-06-18T02:45:27.980517Z",
     "start_time": "2020-06-18T02:45:27.976529Z"
    }
   },
   "outputs": [],
   "source": [
    "cat_feat = ['city_name', 'county_name', 'city_name_county_name']"
   ]
  },
  {
   "cell_type": "code",
   "execution_count": 9,
   "metadata": {
    "ExecuteTime": {
     "end_time": "2020-06-18T02:45:27.987499Z",
     "start_time": "2020-06-18T02:45:27.981515Z"
    }
   },
   "outputs": [],
   "source": [
    "num_feat = ['idcard_cnt', 'arpu_202004', 'idcard_cnt*arpu_202004', 'arpu_202004/idcard_cnt']"
   ]
  },
  {
   "cell_type": "code",
   "execution_count": 10,
   "metadata": {
    "ExecuteTime": {
     "end_time": "2020-06-18T02:45:28.847774Z",
     "start_time": "2020-06-18T02:45:27.989493Z"
    }
   },
   "outputs": [
    {
     "name": "stderr",
     "output_type": "stream",
     "text": [
      "  0%|                                                                                            | 0/3 [00:00<?, ?it/s]\n",
      "  0%|                                                                                            | 0/4 [00:00<?, ?it/s]\u001b[A\n",
      "100%|████████████████████████████████████████████████████████████████████████████████████| 4/4 [00:00<00:00, 20.89it/s]\u001b[A\n",
      " 33%|████████████████████████████                                                        | 1/3 [00:00<00:00,  5.12it/s]\n",
      "  0%|                                                                                            | 0/4 [00:00<?, ?it/s]\u001b[A\n",
      " 50%|██████████████████████████████████████████                                          | 2/4 [00:00<00:00, 12.97it/s]\u001b[A\n",
      "100%|████████████████████████████████████████████████████████████████████████████████████| 4/4 [00:00<00:00, 12.87it/s]\u001b[A\n",
      " 67%|████████████████████████████████████████████████████████                            | 2/3 [00:00<00:00,  4.31it/s]\n",
      "  0%|                                                                                            | 0/4 [00:00<?, ?it/s]\u001b[A\n",
      " 50%|██████████████████████████████████████████                                          | 2/4 [00:00<00:00, 11.79it/s]\u001b[A\n",
      "100%|████████████████████████████████████████████████████████████████████████████████████| 4/4 [00:00<00:00, 12.27it/s]\u001b[A\n",
      "100%|████████████████████████████████████████████████████████████████████████████████████| 3/3 [00:00<00:00,  3.53it/s]\n"
     ]
    }
   ],
   "source": [
    "df_user = cross_cat_num(df_user, cat_feat, num_feat)"
   ]
  },
  {
   "cell_type": "code",
   "execution_count": 11,
   "metadata": {
    "ExecuteTime": {
     "end_time": "2020-06-18T02:45:28.869089Z",
     "start_time": "2020-06-18T02:45:28.849769Z"
    }
   },
   "outputs": [
    {
     "name": "stderr",
     "output_type": "stream",
     "text": [
      "100%|███████████████████████████████████████████████████████████████████████████████████| 4/4 [00:00<00:00, 324.18it/s]"
     ]
    },
    {
     "name": "stdout",
     "output_type": "stream",
     "text": [
      "city_name\n",
      "county_name\n",
      "city_name_county_name\n",
      "idcard_cnt\n"
     ]
    },
    {
     "name": "stderr",
     "output_type": "stream",
     "text": [
      "\n"
     ]
    }
   ],
   "source": [
    "df_user = count_encode(df_user, cat_feat + ['idcard_cnt'])"
   ]
  },
  {
   "cell_type": "code",
   "execution_count": 12,
   "metadata": {
    "ExecuteTime": {
     "end_time": "2020-06-18T02:45:28.888071Z",
     "start_time": "2020-06-18T02:45:28.870085Z"
    }
   },
   "outputs": [
    {
     "name": "stderr",
     "output_type": "stream",
     "text": [
      "100%|███████████████████████████████████████████████████████████████████████████████████| 3/3 [00:00<00:00, 249.88it/s]\n"
     ]
    }
   ],
   "source": [
    "df_user = label_encode(df_user, cat_feat)"
   ]
  },
  {
   "cell_type": "code",
   "execution_count": 13,
   "metadata": {
    "ExecuteTime": {
     "end_time": "2020-06-18T02:45:28.966861Z",
     "start_time": "2020-06-18T02:45:28.889034Z"
    }
   },
   "outputs": [
    {
     "data": {
      "text/plain": [
       "66"
      ]
     },
     "execution_count": 13,
     "metadata": {},
     "output_type": "execute_result"
    }
   ],
   "source": [
    "df_user.to_hdf('../input/user_features.h5', 'df', index=False)\n",
    "\n",
    "del df_user\n",
    "gc.collect()"
   ]
  },
  {
   "cell_type": "markdown",
   "metadata": {},
   "source": [
    "## voc表"
   ]
  },
  {
   "cell_type": "code",
   "execution_count": 14,
   "metadata": {
    "ExecuteTime": {
     "end_time": "2020-06-18T02:45:30.418000Z",
     "start_time": "2020-06-18T02:45:28.967824Z"
    }
   },
   "outputs": [],
   "source": [
    "train_voc = pd.read_hdf('../input/train_voc.h5')\n",
    "test_voc = pd.read_hdf('../input/test_voc.h5')"
   ]
  },
  {
   "cell_type": "code",
   "execution_count": 15,
   "metadata": {
    "ExecuteTime": {
     "end_time": "2020-06-18T02:45:30.627424Z",
     "start_time": "2020-06-18T02:45:30.418958Z"
    }
   },
   "outputs": [
    {
     "data": {
      "text/plain": [
       "128"
      ]
     },
     "execution_count": 15,
     "metadata": {},
     "output_type": "execute_result"
    }
   ],
   "source": [
    "df_voc = pd.concat([train_voc, test_voc])\n",
    "\n",
    "del train_voc, test_voc\n",
    "gc.collect()"
   ]
  },
  {
   "cell_type": "code",
   "execution_count": 16,
   "metadata": {
    "ExecuteTime": {
     "end_time": "2020-06-18T02:45:30.830135Z",
     "start_time": "2020-06-18T02:45:30.628422Z"
    }
   },
   "outputs": [],
   "source": [
    "df_voc['city_name_county_name'] = df_voc['city_name'] + '_' + df_voc['county_name']"
   ]
  },
  {
   "cell_type": "code",
   "execution_count": 17,
   "metadata": {
    "ExecuteTime": {
     "end_time": "2020-06-18T02:45:32.785351Z",
     "start_time": "2020-06-18T02:45:30.831064Z"
    }
   },
   "outputs": [],
   "source": [
    "df_voc['voc_day'] = df_voc['start_datetime'].astype('datetime64').dt.day\n",
    "df_voc['voc_hour'] = df_voc['start_datetime'].astype('datetime64').dt.hour\n",
    "df_voc['voc_dayofweek'] = df_voc['start_datetime'].astype('datetime64').dt.dayofweek"
   ]
  },
  {
   "cell_type": "code",
   "execution_count": 18,
   "metadata": {
    "ExecuteTime": {
     "end_time": "2020-06-18T02:45:33.273592Z",
     "start_time": "2020-06-18T02:45:32.786274Z"
    }
   },
   "outputs": [],
   "source": [
    "phone_no_m = df_voc[['phone_no_m']].copy()\n",
    "phone_no_m = phone_no_m.drop_duplicates(subset=['phone_no_m'], keep='last')"
   ]
  },
  {
   "cell_type": "code",
   "execution_count": 19,
   "metadata": {
    "ExecuteTime": {
     "end_time": "2020-06-18T02:45:34.210132Z",
     "start_time": "2020-06-18T02:45:33.274593Z"
    }
   },
   "outputs": [
    {
     "data": {
      "text/plain": [
       "20"
      ]
     },
     "execution_count": 19,
     "metadata": {},
     "output_type": "execute_result"
    }
   ],
   "source": [
    "# 通话次数，通话人数\n",
    "tmp = df_voc.groupby('phone_no_m')['opposite_no_m'].agg(opposite_cnt='count', opposite_nunique='nunique')\n",
    "phone_no_m = phone_no_m.merge(tmp, how='left', on='phone_no_m')\n",
    "\n",
    "del tmp\n",
    "gc.collect()"
   ]
  },
  {
   "cell_type": "code",
   "execution_count": 20,
   "metadata": {
    "ExecuteTime": {
     "end_time": "2020-06-18T02:45:36.458141Z",
     "start_time": "2020-06-18T02:45:34.212086Z"
    }
   },
   "outputs": [
    {
     "data": {
      "text/plain": [
       "0"
      ]
     },
     "execution_count": 20,
     "metadata": {},
     "output_type": "execute_result"
    }
   ],
   "source": [
    "\"\"\"\n",
    "主叫通话\n",
    "\"\"\"\n",
    "\n",
    "df_calltype_id_1 = df_voc.loc[df_voc['calltype_id'] == 1, :].copy()\n",
    "\n",
    "# 主叫通话次数，主叫通话使用的手机个数\n",
    "tmp = df_calltype_id_1.groupby('phone_no_m')['imei_m'].agg(voc_calltype_id_1_cnt='count', imeis='nunique')\n",
    "phone_no_m = phone_no_m.merge(tmp, on='phone_no_m', how='left')\n",
    "del tmp\n",
    "gc.collect()\n",
    "\n",
    "# 主叫通话时长\n",
    "tmp = df_calltype_id_1.groupby('phone_no_m')['call_dur'].agg(voc_calltype_id_1_call_dur_sum='sum')\n",
    "phone_no_m = phone_no_m.merge(tmp, on='phone_no_m', how='left')\n",
    "del tmp\n",
    "gc.collect()\n",
    "\n",
    "# 主叫通话时长小于30s的次数\n",
    "tmp1 = df_calltype_id_1[df_calltype_id_1['call_dur'] < 30]\n",
    "tmp2 = tmp1.groupby('phone_no_m')['call_dur'].agg(voc_calltype_id_1_30s_cnt='count')\n",
    "phone_no_m = phone_no_m.merge(tmp2, on='phone_no_m', how='left')\n",
    "del tmp1, tmp2\n",
    "gc.collect()\n",
    "\n",
    "# 主叫通话时长小于60s的次数\n",
    "tmp1 = df_calltype_id_1[df_calltype_id_1['call_dur'] < 60]\n",
    "tmp2 = tmp1.groupby('phone_no_m')['call_dur'].agg(voc_calltype_id_1_60s_cnt='count')\n",
    "phone_no_m = phone_no_m.merge(tmp2, on='phone_no_m', how='left')\n",
    "del tmp1, tmp2\n",
    "gc.collect()\n",
    "\n",
    "# 主叫通话时长大于300s（5分钟）的次数\n",
    "tmp1 = df_calltype_id_1[df_calltype_id_1['call_dur'] > 300]\n",
    "tmp2 = tmp1.groupby('phone_no_m')['call_dur'].agg(voc_calltype_id_1_300s_cnt='count')\n",
    "phone_no_m = phone_no_m.merge(tmp2, on='phone_no_m', how='left')\n",
    "del tmp1, tmp2\n",
    "gc.collect()\n",
    "\n",
    "# 主叫通话时长小于30s的次数的占比\n",
    "phone_no_m['voc_calltype_id_1_30s_rate'] = phone_no_m['voc_calltype_id_1_30s_cnt'] / phone_no_m['voc_calltype_id_1_cnt']\n",
    "\n",
    "# 主叫通话时长小于60s的次数的占比\n",
    "phone_no_m['voc_calltype_id_1_60s_rate'] = phone_no_m['voc_calltype_id_1_60s_cnt'] / phone_no_m['voc_calltype_id_1_cnt']\n",
    "\n",
    "# 主叫通话时长大于300s（5分钟）的次数的占比\n",
    "phone_no_m['voc_calltype_id_1_300s_rate'] = phone_no_m['voc_calltype_id_1_300s_cnt'] / phone_no_m['voc_calltype_id_1_cnt']\n",
    "\n",
    "\n",
    "# 主叫通话次数的占比\n",
    "phone_no_m[\"call_type_id_1_rate\"] = phone_no_m['voc_calltype_id_1_cnt'] / phone_no_m['opposite_cnt']\n",
    "\n",
    "# 主叫通话时所在地市变动的个数\n",
    "tmp = df_calltype_id_1.groupby('phone_no_m')['city_name'].agg(city_name_nunique='nunique')\n",
    "phone_no_m = phone_no_m.merge(tmp, on='phone_no_m', how='left')\n",
    "del tmp\n",
    "gc.collect()\n",
    "\n",
    "# 主叫通话时所在区县变动的个数\n",
    "tmp = df_calltype_id_1.groupby(\"phone_no_m\")['county_name'].agg(county_name_nunique='nunique')\n",
    "phone_no_m = phone_no_m.merge(tmp, on=\"phone_no_m\", how=\"left\")\n",
    "del tmp\n",
    "gc.collect()\n",
    "\n",
    "# 主叫通话时所在地市_区县变动的个数\n",
    "tmp = df_calltype_id_1.groupby(\"phone_no_m\")['city_name_county_name'].agg(city_name_county_name_nunique='nunique')\n",
    "phone_no_m = phone_no_m.merge(tmp, on=\"phone_no_m\", how=\"left\")\n",
    "del tmp\n",
    "gc.collect()"
   ]
  },
  {
   "cell_type": "code",
   "execution_count": 21,
   "metadata": {
    "ExecuteTime": {
     "end_time": "2020-06-18T02:45:38.032895Z",
     "start_time": "2020-06-18T02:45:36.459091Z"
    }
   },
   "outputs": [
    {
     "data": {
      "text/plain": [
       "0"
      ]
     },
     "execution_count": 21,
     "metadata": {},
     "output_type": "execute_result"
    }
   ],
   "source": [
    "\"\"\"\n",
    "与对端通话统计\n",
    "\"\"\"\n",
    "\n",
    "# 与对端通话次数，与对端总通话时长\n",
    "tmp = df_voc.groupby(['phone_no_m', 'opposite_no_m'])['call_dur'].agg(call_count='count',\n",
    "                                                                      call_sum='sum')\n",
    "\n",
    "# 与对端通话次数的统计量\n",
    "phone2opposite = tmp.groupby('phone_no_m')['call_count'].agg(phone2opposite_cnt_mean='mean',\n",
    "                                                             phone2opposite_cnt_median='median',\n",
    "                                                             phone2opposite_cnt_min='min',\n",
    "                                                             phone2opposite_cnt_max='max',\n",
    "                                                             phone2opposite_cnt_std='std')\n",
    "phone_no_m = phone_no_m.merge(phone2opposite, on='phone_no_m', how='left')\n",
    "del phone2opposite\n",
    "gc.collect()\n",
    "\n",
    "\n",
    "# 与对端总通话时长的统计量\n",
    "phone2opposite = tmp.groupby('phone_no_m')['call_sum'].agg(phone2opposite_call_dur_mean='mean',\n",
    "                                                           phone2opposite_call_dur_median='median',\n",
    "                                                           phone2opposite_call_dur_min='min',\n",
    "                                                           phone2opposite_call_dur_max='max',\n",
    "                                                           phone2opposite_call_dur_std='std')\n",
    "phone_no_m = phone_no_m.merge(phone2opposite, on='phone_no_m', how='left')\n",
    "del phone2opposite, tmp\n",
    "gc.collect()"
   ]
  },
  {
   "cell_type": "code",
   "execution_count": 22,
   "metadata": {
    "ExecuteTime": {
     "end_time": "2020-06-18T02:45:38.446992Z",
     "start_time": "2020-06-18T02:45:38.037882Z"
    }
   },
   "outputs": [
    {
     "data": {
      "text/plain": [
       "0"
      ]
     },
     "execution_count": 22,
     "metadata": {},
     "output_type": "execute_result"
    }
   ],
   "source": [
    "\"\"\"\n",
    "通话时长的统计\n",
    "\"\"\"\n",
    "\n",
    "# 通话时长的统计量\n",
    "tmp = df_voc.groupby('phone_no_m')['call_dur'].agg(call_dur_mean='mean',\n",
    "                                                   call_dur_median='median',\n",
    "                                                   call_dur_max='max',\n",
    "                                                   call_dur_min='min',\n",
    "                                                   call_dur_std='std',\n",
    "                                                   call_dur_sum='sum')\n",
    "phone_no_m = phone_no_m.merge(tmp, on='phone_no_m', how='left')\n",
    "del tmp\n",
    "gc.collect()"
   ]
  },
  {
   "cell_type": "code",
   "execution_count": 23,
   "metadata": {
    "ExecuteTime": {
     "end_time": "2020-06-18T02:45:40.246362Z",
     "start_time": "2020-06-18T02:45:38.448948Z"
    }
   },
   "outputs": [
    {
     "data": {
      "text/plain": [
       "0"
      ]
     },
     "execution_count": 23,
     "metadata": {},
     "output_type": "execute_result"
    }
   ],
   "source": [
    "# 收费号码所在地市的个数\n",
    "tmp = df_voc.groupby('phone_no_m')['city_name'].agg(city_name_nunique='nunique')\n",
    "phone_no_m = phone_no_m.merge(tmp, on='phone_no_m', how='left')\n",
    "\n",
    "# 收费号码所在区县的个数\n",
    "tmp = df_voc.groupby('phone_no_m')['county_name'].agg(county_name_nunique='nunique')\n",
    "phone_no_m = phone_no_m.merge(tmp, on=\"phone_no_m\", how='left')\n",
    "\n",
    "# 收费号码所在地市_区县的个数\n",
    "tmp = df_voc.groupby('phone_no_m')['city_name_county_name'].agg(city_name_county_name_nunique='nunique')\n",
    "phone_no_m = phone_no_m.merge(tmp, on=\"phone_no_m\", how='left')\n",
    "\n",
    "# 收费号码通话类型的个数\n",
    "tmp = df_voc.groupby('phone_no_m')['calltype_id'].agg(calltype_id_unique='nunique')\n",
    "phone_no_m = phone_no_m.merge(tmp, on='phone_no_m', how='left')\n",
    "\n",
    "del tmp\n",
    "gc.collect()"
   ]
  },
  {
   "cell_type": "code",
   "execution_count": 24,
   "metadata": {
    "ExecuteTime": {
     "end_time": "2020-06-18T02:45:44.124239Z",
     "start_time": "2020-06-18T02:45:40.247360Z"
    }
   },
   "outputs": [
    {
     "data": {
      "text/plain": [
       "0"
      ]
     },
     "execution_count": 24,
     "metadata": {},
     "output_type": "execute_result"
    }
   ],
   "source": [
    "\"\"\"\n",
    "通话时间点的偏好\n",
    "\"\"\"\n",
    "\n",
    "# hour通话次数最高\n",
    "tmp = df_voc.groupby('phone_no_m')['voc_hour'].agg(voc_hour_mode=lambda x: stats.mode(x)[0][0],        # 频次最高的元素\n",
    "                                                   voc_hour_mode_count=lambda x: stats.mode(x)[1][0],  # 频次最高的元素的频次\n",
    "                                                   voc_hour_nunique='nunique')\n",
    "phone_no_m = phone_no_m.merge(tmp, on='phone_no_m', how='left')\n",
    "\n",
    "# day通话次数最高\n",
    "tmp = df_voc.groupby('phone_no_m')['voc_day'].agg(voc_day_mode=lambda x: stats.mode(x)[0][0],\n",
    "                                                  voc_day_mode_count=lambda x: stats.mode(x)[1][0],\n",
    "                                                  voc_day_nunique='nunique')\n",
    "phone_no_m = phone_no_m.merge(tmp, on='phone_no_m', how='left')\n",
    "\n",
    "del tmp\n",
    "gc.collect()"
   ]
  },
  {
   "cell_type": "code",
   "execution_count": 25,
   "metadata": {
    "ExecuteTime": {
     "end_time": "2020-06-18T02:45:45.715299Z",
     "start_time": "2020-06-18T02:45:44.125200Z"
    }
   },
   "outputs": [],
   "source": [
    "# 每天的通话次数\n",
    "voc_day_res = df_voc.groupby(['phone_no_m', 'voc_day'])['phone_no_m'].count().unstack()\n",
    "for i in df_voc['voc_day'].unique():\n",
    "    phone_no_m['voc_day{}_count'.format(i)] = phone_no_m['phone_no_m'].map(voc_day_res[i])\n",
    "\n",
    "    \n",
    "# 每天的通话时长\n",
    "voc_day_call_dur_res = df_voc.groupby(['phone_no_m', 'voc_day'])['call_dur'].sum().unstack()\n",
    "for i in df_voc['voc_day'].unique():\n",
    "    phone_no_m['voc_day{}_call_dur_sum'.format(i)] = phone_no_m['phone_no_m'].map(voc_day_call_dur_res[i])\n",
    "\n",
    "\n",
    "# 每小时的通话次数\n",
    "voc_hour_res = df_voc.groupby(['phone_no_m', 'voc_hour'])['phone_no_m'].count().unstack()\n",
    "for i in df_voc['voc_hour'].unique():\n",
    "    phone_no_m['voc_hour{}_count'.format(i)] = phone_no_m['phone_no_m'].map(voc_hour_res[i])\n",
    "    \n",
    "\n",
    "# 每小时的通话时长\n",
    "voc_hour_call_dur_res = df_voc.groupby(['phone_no_m', 'voc_hour'])['call_dur'].sum().unstack()\n",
    "for i in df_voc['voc_hour'].unique():\n",
    "    phone_no_m['voc_hour{}_call_dur_sum'.format(i)] = phone_no_m['phone_no_m'].map(voc_hour_call_dur_res[i])"
   ]
  },
  {
   "cell_type": "code",
   "execution_count": 26,
   "metadata": {
    "ExecuteTime": {
     "end_time": "2020-06-18T02:45:45.788084Z",
     "start_time": "2020-06-18T02:45:45.717297Z"
    }
   },
   "outputs": [
    {
     "data": {
      "text/plain": [
       "75"
      ]
     },
     "execution_count": 26,
     "metadata": {},
     "output_type": "execute_result"
    }
   ],
   "source": [
    "phone_no_m.to_hdf('../input/voc_features.h5', 'df', index=False)\n",
    "del phone_no_m\n",
    "gc.collect()"
   ]
  },
  {
   "cell_type": "markdown",
   "metadata": {},
   "source": [
    "## sms表"
   ]
  },
  {
   "cell_type": "code",
   "execution_count": 27,
   "metadata": {
    "ExecuteTime": {
     "end_time": "2020-06-18T02:45:46.675368Z",
     "start_time": "2020-06-18T02:45:45.789120Z"
    }
   },
   "outputs": [],
   "source": [
    "train_sms = pd.read_hdf('../input/train_sms.h5')\n",
    "test_sms = pd.read_hdf('../input/test_sms.h5')"
   ]
  },
  {
   "cell_type": "code",
   "execution_count": 28,
   "metadata": {
    "ExecuteTime": {
     "end_time": "2020-06-18T02:45:46.828005Z",
     "start_time": "2020-06-18T02:45:46.676366Z"
    }
   },
   "outputs": [
    {
     "data": {
      "text/plain": [
       "106"
      ]
     },
     "execution_count": 28,
     "metadata": {},
     "output_type": "execute_result"
    }
   ],
   "source": [
    "df_sms = pd.concat([train_sms, test_sms])\n",
    "\n",
    "del train_sms, test_sms\n",
    "gc.collect()"
   ]
  },
  {
   "cell_type": "code",
   "execution_count": 29,
   "metadata": {
    "ExecuteTime": {
     "end_time": "2020-06-18T02:45:50.312744Z",
     "start_time": "2020-06-18T02:45:46.828990Z"
    }
   },
   "outputs": [],
   "source": [
    "df_sms['sms_day'] = df_sms['request_datetime'].astype('datetime64').dt.day\n",
    "df_sms['sms_hour'] = df_sms['request_datetime'].astype('datetime64').dt.hour\n",
    "df_sms['sms_dayofweek'] = df_sms['request_datetime'].astype('datetime64').dt.dayofweek"
   ]
  },
  {
   "cell_type": "code",
   "execution_count": 30,
   "metadata": {
    "ExecuteTime": {
     "end_time": "2020-06-18T02:45:50.827111Z",
     "start_time": "2020-06-18T02:45:50.314414Z"
    }
   },
   "outputs": [],
   "source": [
    "phone_no_m = df_sms[[\"phone_no_m\"]].copy()\n",
    "phone_no_m = phone_no_m.drop_duplicates(subset=['phone_no_m'], keep='last')"
   ]
  },
  {
   "cell_type": "code",
   "execution_count": 31,
   "metadata": {
    "ExecuteTime": {
     "end_time": "2020-06-18T02:45:52.024456Z",
     "start_time": "2020-06-18T02:45:50.828041Z"
    }
   },
   "outputs": [
    {
     "data": {
      "text/plain": [
       "0"
      ]
     },
     "execution_count": 31,
     "metadata": {},
     "output_type": "execute_result"
    }
   ],
   "source": [
    "# 短信次数，短信人数\n",
    "tmp = df_sms.groupby('phone_no_m')['opposite_no_m'].agg(sms_cnt='count', sms_nunique='nunique')\n",
    "\n",
    "# 对端平均收到短信次数\n",
    "tmp['sms_avg'] = tmp['sms_cnt'] / tmp['sms_nunique']\n",
    "phone_no_m = phone_no_m.merge(tmp, on='phone_no_m', how='left')\n",
    "\n",
    "del tmp\n",
    "gc.collect()"
   ]
  },
  {
   "cell_type": "code",
   "execution_count": 32,
   "metadata": {
    "ExecuteTime": {
     "end_time": "2020-06-18T02:45:52.644472Z",
     "start_time": "2020-06-18T02:45:52.025453Z"
    }
   },
   "outputs": [
    {
     "data": {
      "text/plain": [
       "0"
      ]
     },
     "execution_count": 32,
     "metadata": {},
     "output_type": "execute_result"
    }
   ],
   "source": [
    "\"\"\"\n",
    "短信上行，短信下行\n",
    "\"\"\"\n",
    "\n",
    "# 短信上行\n",
    "df_sms_calltype1 = df_sms[df_sms['calltype_id'] == 1].copy()\n",
    "tmp = df_sms_calltype1.groupby('phone_no_m')['calltype_id'].agg(sms_calltype1_cnt=\"count\")\n",
    "phone_no_m = phone_no_m.merge(tmp, on='phone_no_m', how='left')\n",
    "\n",
    "# 短信上行比例\n",
    "phone_no_m['sms_calltype1_rate'] = phone_no_m['sms_calltype1_cnt'] / phone_no_m['sms_cnt']\n",
    "\n",
    "del tmp, df_sms_calltype1\n",
    "\n",
    "# 短信下行\n",
    "df_sms_calltype2 = df_sms[df_sms['calltype_id'] == 2].copy()\n",
    "tmp = df_sms_calltype2.groupby('phone_no_m')['calltype_id'].agg(sms_calltype2_cnt=\"count\")\n",
    "phone_no_m = phone_no_m.merge(tmp, on='phone_no_m', how='left')\n",
    "\n",
    "# 短信上行/短信下行\n",
    "phone_no_m['type1_rate/type2_rate'] = phone_no_m['sms_calltype1_cnt'] / (phone_no_m['sms_calltype2_cnt'] + 0.00001)\n",
    "\n",
    "# 删除，效果变差\n",
    "# # 短信下行/短信上行\n",
    "# phone_no_m['type2_rate/type1_rate'] = phone_no_m['sms_calltype2_cnt'] / (phone_no_m['sms_calltype1_cnt'] + 0.00001)\n",
    "\n",
    "del tmp, df_sms_calltype2\n",
    "gc.collect()"
   ]
  },
  {
   "cell_type": "code",
   "execution_count": 33,
   "metadata": {
    "ExecuteTime": {
     "end_time": "2020-06-18T02:45:56.957872Z",
     "start_time": "2020-06-18T02:45:52.645470Z"
    }
   },
   "outputs": [
    {
     "data": {
      "text/plain": [
       "0"
      ]
     },
     "execution_count": 33,
     "metadata": {},
     "output_type": "execute_result"
    }
   ],
   "source": [
    "\"\"\"\n",
    "短信时间点的偏好\n",
    "\"\"\"\n",
    "\n",
    "tmp = df_sms.groupby('phone_no_m')['sms_hour'].agg(sms_hour_mode=lambda x: stats.mode(x)[0][0],        # 频次最高的元素\n",
    "                                                   sms_hour_mode_count=lambda x: stats.mode(x)[1][0],  # 频次最高的元素的频次\n",
    "                                                   sms_hour_nunique='nunique')\n",
    "phone_no_m = phone_no_m.merge(tmp, on='phone_no_m', how='left')\n",
    "\n",
    "del tmp\n",
    "\n",
    "tmp = df_sms.groupby('phone_no_m')['sms_day'].agg(sms_day_mode=lambda x: stats.mode(x)[0][0],\n",
    "                                                  sms_day_mode_count=lambda x: stats.mode(x)[1][0],\n",
    "                                                  sms_day_nunique='nunique')\n",
    "phone_no_m = phone_no_m.merge(tmp, on='phone_no_m', how='left')\n",
    "\n",
    "del tmp\n",
    "gc.collect()"
   ]
  },
  {
   "cell_type": "code",
   "execution_count": 34,
   "metadata": {
    "ExecuteTime": {
     "end_time": "2020-06-18T02:45:57.987123Z",
     "start_time": "2020-06-18T02:45:56.958836Z"
    }
   },
   "outputs": [],
   "source": [
    "# 每天的短信次数\n",
    "sms_day_res = df_sms.groupby(['phone_no_m', 'sms_day'])['phone_no_m'].count().unstack()\n",
    "for i in df_sms['sms_day'].unique():\n",
    "    phone_no_m['sms_day{}_count'.format(i)] = phone_no_m['phone_no_m'].map(sms_day_res[i])\n",
    "\n",
    "\n",
    "# 每小时的短信次数\n",
    "sms_hour_res = df_sms.groupby(['phone_no_m', 'sms_hour'])['phone_no_m'].count().unstack()\n",
    "for i in df_sms['sms_hour'].unique():\n",
    "    phone_no_m['sms_hour{}_count'.format(i)] = phone_no_m['phone_no_m'].map(sms_hour_res[i])"
   ]
  },
  {
   "cell_type": "code",
   "execution_count": 35,
   "metadata": {
    "ExecuteTime": {
     "end_time": "2020-06-18T02:45:58.052583Z",
     "start_time": "2020-06-18T02:45:57.988107Z"
    }
   },
   "outputs": [
    {
     "data": {
      "text/plain": [
       "64"
      ]
     },
     "execution_count": 35,
     "metadata": {},
     "output_type": "execute_result"
    }
   ],
   "source": [
    "phone_no_m.to_hdf('../input/sms_features.h5', 'df', index=False)\n",
    "\n",
    "del phone_no_m\n",
    "gc.collect()"
   ]
  },
  {
   "cell_type": "markdown",
   "metadata": {},
   "source": [
    "## app表"
   ]
  },
  {
   "cell_type": "code",
   "execution_count": 36,
   "metadata": {
    "ExecuteTime": {
     "end_time": "2020-06-18T02:45:58.232672Z",
     "start_time": "2020-06-18T02:45:58.053580Z"
    }
   },
   "outputs": [],
   "source": [
    "train_app = pd.read_hdf('../input/train_app.h5')\n",
    "test_app = pd.read_hdf('../input/test_app.h5')"
   ]
  },
  {
   "cell_type": "code",
   "execution_count": 37,
   "metadata": {
    "ExecuteTime": {
     "end_time": "2020-06-18T02:45:58.298174Z",
     "start_time": "2020-06-18T02:45:58.234361Z"
    }
   },
   "outputs": [
    {
     "data": {
      "text/plain": [
       "106"
      ]
     },
     "execution_count": 37,
     "metadata": {},
     "output_type": "execute_result"
    }
   ],
   "source": [
    "df_app = pd.concat([train_app, test_app])\n",
    "\n",
    "del train_app, test_app\n",
    "gc.collect()"
   ]
  },
  {
   "cell_type": "code",
   "execution_count": 38,
   "metadata": {
    "ExecuteTime": {
     "end_time": "2020-06-18T02:45:58.464081Z",
     "start_time": "2020-06-18T02:45:58.299171Z"
    }
   },
   "outputs": [],
   "source": [
    "phone_no_m = df_app[['phone_no_m']].copy()\n",
    "phone_no_m = phone_no_m.drop_duplicates(subset=['phone_no_m'], keep='last')"
   ]
  },
  {
   "cell_type": "code",
   "execution_count": 39,
   "metadata": {
    "ExecuteTime": {
     "end_time": "2020-06-18T02:45:58.671253Z",
     "start_time": "2020-06-18T02:45:58.465799Z"
    }
   },
   "outputs": [
    {
     "data": {
      "text/plain": [
       "40"
      ]
     },
     "execution_count": 39,
     "metadata": {},
     "output_type": "execute_result"
    }
   ],
   "source": [
    "# APP数\n",
    "tmp = df_app.groupby('phone_no_m')['busi_name'].agg(busi_cnt='count')\n",
    "phone_no_m = phone_no_m.merge(tmp, on='phone_no_m', how='left')\n",
    "del tmp\n",
    "gc.collect()"
   ]
  },
  {
   "cell_type": "code",
   "execution_count": 40,
   "metadata": {
    "ExecuteTime": {
     "end_time": "2020-06-18T02:45:59.982787Z",
     "start_time": "2020-06-18T02:45:58.672247Z"
    }
   },
   "outputs": [
    {
     "data": {
      "text/plain": [
       "20"
      ]
     },
     "execution_count": 40,
     "metadata": {},
     "output_type": "execute_result"
    }
   ],
   "source": [
    "\"\"\"\n",
    "流量统计\n",
    "\"\"\"\n",
    "tmp = df_app.groupby(\"phone_no_m\")[\"flow\"].agg(flow_mean='mean',\n",
    "                                               flow_median='median',\n",
    "                                               flow_min='min',\n",
    "                                               flow_max='max',\n",
    "                                               flow_std='std',\n",
    "                                               flow_sum='sum',\n",
    "                                               flow_skew='skew')\n",
    "phone_no_m = phone_no_m.merge(tmp, on='phone_no_m', how='left')\n",
    "\n",
    "del tmp\n",
    "gc.collect()"
   ]
  },
  {
   "cell_type": "code",
   "execution_count": 41,
   "metadata": {
    "ExecuteTime": {
     "end_time": "2020-06-18T02:46:00.047568Z",
     "start_time": "2020-06-18T02:45:59.983739Z"
    }
   },
   "outputs": [
    {
     "data": {
      "text/plain": [
       "75"
      ]
     },
     "execution_count": 41,
     "metadata": {},
     "output_type": "execute_result"
    }
   ],
   "source": [
    "phone_no_m.to_hdf('../input/app_features.h5', 'df', index=False)\n",
    "\n",
    "del phone_no_m\n",
    "gc.collect()"
   ]
  }
 ],
 "metadata": {
  "kernelspec": {
   "display_name": "Python 3",
   "language": "python",
   "name": "python3"
  },
  "language_info": {
   "codemirror_mode": {
    "name": "ipython",
    "version": 3
   },
   "file_extension": ".py",
   "mimetype": "text/x-python",
   "name": "python",
   "nbconvert_exporter": "python",
   "pygments_lexer": "ipython3",
   "version": "3.7.3"
  },
  "toc": {
   "base_numbering": 1,
   "nav_menu": {},
   "number_sections": true,
   "sideBar": true,
   "skip_h1_title": false,
   "title_cell": "Table of Contents",
   "title_sidebar": "Contents",
   "toc_cell": false,
   "toc_position": {},
   "toc_section_display": true,
   "toc_window_display": false
  },
  "varInspector": {
   "cols": {
    "lenName": 16,
    "lenType": 16,
    "lenVar": 40
   },
   "kernels_config": {
    "python": {
     "delete_cmd_postfix": "",
     "delete_cmd_prefix": "del ",
     "library": "var_list.py",
     "varRefreshCmd": "print(var_dic_list())"
    },
    "r": {
     "delete_cmd_postfix": ") ",
     "delete_cmd_prefix": "rm(",
     "library": "var_list.r",
     "varRefreshCmd": "cat(var_dic_list()) "
    }
   },
   "types_to_exclude": [
    "module",
    "function",
    "builtin_function_or_method",
    "instance",
    "_Feature"
   ],
   "window_display": false
  }
 },
 "nbformat": 4,
 "nbformat_minor": 2
}
