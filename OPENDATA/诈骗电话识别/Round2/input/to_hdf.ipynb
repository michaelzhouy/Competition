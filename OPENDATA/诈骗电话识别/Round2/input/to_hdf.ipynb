{
 "cells": [
  {
   "cell_type": "code",
   "execution_count": 1,
   "metadata": {
    "ExecuteTime": {
     "end_time": "2020-08-03T14:20:35.853993Z",
     "start_time": "2020-08-03T14:20:35.005733Z"
    }
   },
   "outputs": [],
   "source": [
    "import numpy as np\n",
    "import pandas as pd\n",
    "import warnings\n",
    "warnings.filterwarnings('ignore')"
   ]
  },
  {
   "cell_type": "code",
   "execution_count": 2,
   "metadata": {
    "ExecuteTime": {
     "end_time": "2020-08-03T14:20:35.876941Z",
     "start_time": "2020-08-03T14:20:35.855953Z"
    }
   },
   "outputs": [],
   "source": [
    "# 节省内存读文件\n",
    "def reduce_mem_usage(df):\n",
    "    \"\"\"\n",
    "    iterate through all the columns of a dataframe and modify the data type to reduce memory usage.\n",
    "    @param df:\n",
    "    @return:\n",
    "    \"\"\"\n",
    "    start_mem = df.memory_usage().sum()\n",
    "    print('Memory usage of dataframe is {:.2f} MB'.format(start_mem))\n",
    "\n",
    "    for col in df.columns:\n",
    "        col_type = df[col].dtype\n",
    "\n",
    "        if col_type != object:\n",
    "            c_min = df[col].min()\n",
    "            c_max = df[col].max()\n",
    "            if str(col_type)[:3] == 'int':\n",
    "                if c_min > np.iinfo(np.int8).min and c_max < np.iinfo(np.int8).max:\n",
    "                    df[col] = df[col].astype(np.int8)\n",
    "                elif c_min > np.iinfo(np.int16).min and c_max < np.iinfo(np.int16).max:\n",
    "                    df[col] = df[col].astype(np.int16)\n",
    "                elif c_min > np.iinfo(np.int32).min and c_max < np.iinfo(np.int32).max:\n",
    "                    df[col] = df[col].astype(np.int32)\n",
    "                elif c_min > np.iinfo(np.int64).min and c_max < np.iinfo(np.int64).max:\n",
    "                    df[col] = df[col].astype(np.int64)\n",
    "            else:\n",
    "                if c_min > np.finfo(np.float16).min and c_max < np.finfo(np.float16).max:\n",
    "                    df[col] = df[col].astype(np.float16)\n",
    "                elif c_min > np.finfo(np.float32).min and c_max < np.finfo(np.float32).max:\n",
    "                    df[col] = df[col].astype(np.float32)\n",
    "                else:\n",
    "                    df[col] = df[col].astype(np.float64)\n",
    "        else:\n",
    "            df[col] = df[col].astype('str')\n",
    "\n",
    "    end_mem = df.memory_usage().sum()\n",
    "    print('Memory usage after optimization is: {:.2f} MB'.format(end_mem))\n",
    "    print('Decreased by {:.1f}%'.format(100 * (start_mem - end_mem) / start_mem))\n",
    "    return df"
   ]
  },
  {
   "cell_type": "markdown",
   "metadata": {},
   "source": [
    "### 用户表"
   ]
  },
  {
   "cell_type": "code",
   "execution_count": 3,
   "metadata": {
    "ExecuteTime": {
     "end_time": "2020-08-03T14:20:35.985877Z",
     "start_time": "2020-08-03T14:20:35.879938Z"
    }
   },
   "outputs": [
    {
     "name": "stdout",
     "output_type": "stream",
     "text": [
      "Memory usage of dataframe is 635152.00 MB\n",
      "Memory usage after optimization is: 256580.00 MB\n",
      "Decreased by 59.6%\n",
      "Memory usage of dataframe is 58128.00 MB\n",
      "Memory usage after optimization is: 47978.00 MB\n",
      "Decreased by 17.5%\n"
     ]
    }
   ],
   "source": [
    "train_user = reduce_mem_usage(pd.read_csv('../../input/train/train_user.csv'))\n",
    "test_user = reduce_mem_usage(pd.read_csv('test2/test_user.csv'))"
   ]
  },
  {
   "cell_type": "code",
   "execution_count": 4,
   "metadata": {
    "ExecuteTime": {
     "end_time": "2020-08-03T14:20:36.034854Z",
     "start_time": "2020-08-03T14:20:35.988875Z"
    }
   },
   "outputs": [
    {
     "data": {
      "text/html": [
       "<div>\n",
       "<style scoped>\n",
       "    .dataframe tbody tr th:only-of-type {\n",
       "        vertical-align: middle;\n",
       "    }\n",
       "\n",
       "    .dataframe tbody tr th {\n",
       "        vertical-align: top;\n",
       "    }\n",
       "\n",
       "    .dataframe thead th {\n",
       "        text-align: right;\n",
       "    }\n",
       "</style>\n",
       "<table border=\"1\" class=\"dataframe\">\n",
       "  <thead>\n",
       "    <tr style=\"text-align: right;\">\n",
       "      <th></th>\n",
       "      <th>phone_no_m</th>\n",
       "      <th>city_name</th>\n",
       "      <th>county_name</th>\n",
       "      <th>idcard_cnt</th>\n",
       "      <th>arpu_201908</th>\n",
       "      <th>arpu_201909</th>\n",
       "      <th>arpu_201910</th>\n",
       "      <th>arpu_201911</th>\n",
       "      <th>arpu_201912</th>\n",
       "      <th>arpu_202001</th>\n",
       "      <th>arpu_202002</th>\n",
       "      <th>arpu_202003</th>\n",
       "      <th>label</th>\n",
       "    </tr>\n",
       "  </thead>\n",
       "  <tbody>\n",
       "    <tr>\n",
       "      <th>0</th>\n",
       "      <td>672ddbf02a5544d32e4ecc9433b1981bffe23bf912273a...</td>\n",
       "      <td>绵阳</td>\n",
       "      <td>江油分公司</td>\n",
       "      <td>1</td>\n",
       "      <td>46.062500</td>\n",
       "      <td>45.000000</td>\n",
       "      <td>45.000</td>\n",
       "      <td>45.00000</td>\n",
       "      <td>45.00000</td>\n",
       "      <td>45.00000</td>\n",
       "      <td>45.00000</td>\n",
       "      <td>45.000000</td>\n",
       "      <td>0</td>\n",
       "    </tr>\n",
       "    <tr>\n",
       "      <th>1</th>\n",
       "      <td>5e1272273e041e82cb275ae877710be98cdaf5b0a8f34d...</td>\n",
       "      <td>德阳</td>\n",
       "      <td>旌阳分公司</td>\n",
       "      <td>1</td>\n",
       "      <td>79.000000</td>\n",
       "      <td>79.187500</td>\n",
       "      <td>79.125</td>\n",
       "      <td>79.31250</td>\n",
       "      <td>41.40625</td>\n",
       "      <td>34.09375</td>\n",
       "      <td>59.40625</td>\n",
       "      <td>60.000000</td>\n",
       "      <td>0</td>\n",
       "    </tr>\n",
       "    <tr>\n",
       "      <th>2</th>\n",
       "      <td>eaab3472ec87b076e69e6e8bb62b14341638fc63661a6c...</td>\n",
       "      <td>成都</td>\n",
       "      <td>金堂分公司</td>\n",
       "      <td>2</td>\n",
       "      <td>18.843750</td>\n",
       "      <td>24.453125</td>\n",
       "      <td>22.000</td>\n",
       "      <td>21.40625</td>\n",
       "      <td>22.15625</td>\n",
       "      <td>21.09375</td>\n",
       "      <td>61.31250</td>\n",
       "      <td>63.000000</td>\n",
       "      <td>0</td>\n",
       "    </tr>\n",
       "    <tr>\n",
       "      <th>3</th>\n",
       "      <td>0ce1bb415704178bf44e9c9b431a39b083a132c8e6d99f...</td>\n",
       "      <td>成都</td>\n",
       "      <td>高新分公司</td>\n",
       "      <td>2</td>\n",
       "      <td>19.203125</td>\n",
       "      <td>29.656250</td>\n",
       "      <td>130.375</td>\n",
       "      <td>173.12500</td>\n",
       "      <td>19.00000</td>\n",
       "      <td>19.00000</td>\n",
       "      <td>19.00000</td>\n",
       "      <td>23.203125</td>\n",
       "      <td>0</td>\n",
       "    </tr>\n",
       "    <tr>\n",
       "      <th>4</th>\n",
       "      <td>28b87f35f63f65096a53e3a4c97eaffd4a6c43ffa7e92d...</td>\n",
       "      <td>德阳</td>\n",
       "      <td>旌阳分公司</td>\n",
       "      <td>1</td>\n",
       "      <td>50.000000</td>\n",
       "      <td>50.000000</td>\n",
       "      <td>50.000</td>\n",
       "      <td>50.00000</td>\n",
       "      <td>50.00000</td>\n",
       "      <td>50.00000</td>\n",
       "      <td>50.00000</td>\n",
       "      <td>50.000000</td>\n",
       "      <td>0</td>\n",
       "    </tr>\n",
       "  </tbody>\n",
       "</table>\n",
       "</div>"
      ],
      "text/plain": [
       "                                          phone_no_m city_name county_name  \\\n",
       "0  672ddbf02a5544d32e4ecc9433b1981bffe23bf912273a...        绵阳       江油分公司   \n",
       "1  5e1272273e041e82cb275ae877710be98cdaf5b0a8f34d...        德阳       旌阳分公司   \n",
       "2  eaab3472ec87b076e69e6e8bb62b14341638fc63661a6c...        成都       金堂分公司   \n",
       "3  0ce1bb415704178bf44e9c9b431a39b083a132c8e6d99f...        成都       高新分公司   \n",
       "4  28b87f35f63f65096a53e3a4c97eaffd4a6c43ffa7e92d...        德阳       旌阳分公司   \n",
       "\n",
       "   idcard_cnt  arpu_201908  arpu_201909  arpu_201910  arpu_201911  \\\n",
       "0           1    46.062500    45.000000       45.000     45.00000   \n",
       "1           1    79.000000    79.187500       79.125     79.31250   \n",
       "2           2    18.843750    24.453125       22.000     21.40625   \n",
       "3           2    19.203125    29.656250      130.375    173.12500   \n",
       "4           1    50.000000    50.000000       50.000     50.00000   \n",
       "\n",
       "   arpu_201912  arpu_202001  arpu_202002  arpu_202003  label  \n",
       "0     45.00000     45.00000     45.00000    45.000000      0  \n",
       "1     41.40625     34.09375     59.40625    60.000000      0  \n",
       "2     22.15625     21.09375     61.31250    63.000000      0  \n",
       "3     19.00000     19.00000     19.00000    23.203125      0  \n",
       "4     50.00000     50.00000     50.00000    50.000000      0  "
      ]
     },
     "execution_count": 4,
     "metadata": {},
     "output_type": "execute_result"
    }
   ],
   "source": [
    "train_user.head()"
   ]
  },
  {
   "cell_type": "code",
   "execution_count": 5,
   "metadata": {
    "ExecuteTime": {
     "end_time": "2020-08-03T14:20:36.059835Z",
     "start_time": "2020-08-03T14:20:36.039847Z"
    }
   },
   "outputs": [
    {
     "data": {
      "text/html": [
       "<div>\n",
       "<style scoped>\n",
       "    .dataframe tbody tr th:only-of-type {\n",
       "        vertical-align: middle;\n",
       "    }\n",
       "\n",
       "    .dataframe tbody tr th {\n",
       "        vertical-align: top;\n",
       "    }\n",
       "\n",
       "    .dataframe thead th {\n",
       "        text-align: right;\n",
       "    }\n",
       "</style>\n",
       "<table border=\"1\" class=\"dataframe\">\n",
       "  <thead>\n",
       "    <tr style=\"text-align: right;\">\n",
       "      <th></th>\n",
       "      <th>phone_no_m</th>\n",
       "      <th>city_name</th>\n",
       "      <th>county_name</th>\n",
       "      <th>idcard_cnt</th>\n",
       "      <th>arpu_202005</th>\n",
       "    </tr>\n",
       "  </thead>\n",
       "  <tbody>\n",
       "    <tr>\n",
       "      <th>0</th>\n",
       "      <td>da8d08e497cdcdc5d01ad4651f60cffc425dc7c580912e...</td>\n",
       "      <td>天府新区</td>\n",
       "      <td>直管区</td>\n",
       "      <td>1</td>\n",
       "      <td>51.20</td>\n",
       "    </tr>\n",
       "    <tr>\n",
       "      <th>1</th>\n",
       "      <td>eecada1ec44482e4764bf6878ca319cbb437af04ae8afc...</td>\n",
       "      <td>内江</td>\n",
       "      <td>东兴区分公司</td>\n",
       "      <td>1</td>\n",
       "      <td>69.20</td>\n",
       "    </tr>\n",
       "    <tr>\n",
       "      <th>2</th>\n",
       "      <td>d7bda00771b29cca43a67eecc337576847e750e1a353be...</td>\n",
       "      <td>自贡</td>\n",
       "      <td>富顺县分公司</td>\n",
       "      <td>1</td>\n",
       "      <td>9.00</td>\n",
       "    </tr>\n",
       "    <tr>\n",
       "      <th>3</th>\n",
       "      <td>2b7b5af4a7077a329a8d5972541a9c0fd1a485233d7fec...</td>\n",
       "      <td>南充</td>\n",
       "      <td>南部分公司</td>\n",
       "      <td>2</td>\n",
       "      <td>\\N</td>\n",
       "    </tr>\n",
       "    <tr>\n",
       "      <th>4</th>\n",
       "      <td>290bd1e12f2026b9994a03dbd3506b577588601a31f31a...</td>\n",
       "      <td>成都</td>\n",
       "      <td>金牛分公司</td>\n",
       "      <td>1</td>\n",
       "      <td>41.00</td>\n",
       "    </tr>\n",
       "  </tbody>\n",
       "</table>\n",
       "</div>"
      ],
      "text/plain": [
       "                                          phone_no_m city_name county_name  \\\n",
       "0  da8d08e497cdcdc5d01ad4651f60cffc425dc7c580912e...      天府新区         直管区   \n",
       "1  eecada1ec44482e4764bf6878ca319cbb437af04ae8afc...        内江      东兴区分公司   \n",
       "2  d7bda00771b29cca43a67eecc337576847e750e1a353be...        自贡      富顺县分公司   \n",
       "3  2b7b5af4a7077a329a8d5972541a9c0fd1a485233d7fec...        南充       南部分公司   \n",
       "4  290bd1e12f2026b9994a03dbd3506b577588601a31f31a...        成都       金牛分公司   \n",
       "\n",
       "   idcard_cnt arpu_202005  \n",
       "0           1       51.20  \n",
       "1           1       69.20  \n",
       "2           1        9.00  \n",
       "3           2          \\N  \n",
       "4           1       41.00  "
      ]
     },
     "execution_count": 5,
     "metadata": {},
     "output_type": "execute_result"
    }
   ],
   "source": [
    "test_user.head()"
   ]
  },
  {
   "cell_type": "code",
   "execution_count": 6,
   "metadata": {
    "ExecuteTime": {
     "end_time": "2020-08-03T14:20:36.070830Z",
     "start_time": "2020-08-03T14:20:36.062835Z"
    }
   },
   "outputs": [],
   "source": [
    "test_user['arpu_202005'].replace('\\\\N', np.nan, inplace=True)\n",
    "test_user['arpu_202005'] = test_user['arpu_202005'].astype(float)"
   ]
  },
  {
   "cell_type": "code",
   "execution_count": 7,
   "metadata": {
    "ExecuteTime": {
     "end_time": "2020-08-03T14:20:36.505632Z",
     "start_time": "2020-08-03T14:20:36.074827Z"
    }
   },
   "outputs": [],
   "source": [
    "train_user.label.value_counts().plot.pie();"
   ]
  },
  {
   "cell_type": "code",
   "execution_count": 8,
   "metadata": {
    "ExecuteTime": {
     "end_time": "2020-08-03T14:20:36.514593Z",
     "start_time": "2020-08-03T14:20:36.509578Z"
    }
   },
   "outputs": [
    {
     "data": {
      "text/plain": [
       "0.321323288568621"
      ]
     },
     "execution_count": 8,
     "metadata": {},
     "output_type": "execute_result"
    }
   ],
   "source": [
    "train_user['label'].mean()"
   ]
  },
  {
   "cell_type": "code",
   "execution_count": 9,
   "metadata": {
    "ExecuteTime": {
     "end_time": "2020-08-03T14:20:36.525568Z",
     "start_time": "2020-08-03T14:20:36.518573Z"
    }
   },
   "outputs": [
    {
     "data": {
      "text/plain": [
       "((6106, 13), (1450, 5))"
      ]
     },
     "execution_count": 9,
     "metadata": {},
     "output_type": "execute_result"
    }
   ],
   "source": [
    "train_user.shape, test_user.shape"
   ]
  },
  {
   "cell_type": "code",
   "execution_count": 10,
   "metadata": {
    "ExecuteTime": {
     "end_time": "2020-08-03T14:20:36.541576Z",
     "start_time": "2020-08-03T14:20:36.530568Z"
    }
   },
   "outputs": [],
   "source": [
    "# 训练集只取最后一个月的数据\n",
    "train_user['arpu_202005'] = train_user['arpu_202003']\n",
    "\n",
    "train_user.drop(['arpu_201908', 'arpu_201909', 'arpu_201910', 'arpu_201911',\n",
    "                 'arpu_201912', 'arpu_202001', 'arpu_202002', 'arpu_202003'],\n",
    "                axis=1,\n",
    "                inplace=True)"
   ]
  },
  {
   "cell_type": "code",
   "execution_count": 11,
   "metadata": {
    "ExecuteTime": {
     "end_time": "2020-08-03T14:20:36.551554Z",
     "start_time": "2020-08-03T14:20:36.544557Z"
    }
   },
   "outputs": [
    {
     "data": {
      "text/plain": [
       "((6106, 6), (1450, 5))"
      ]
     },
     "execution_count": 11,
     "metadata": {},
     "output_type": "execute_result"
    }
   ],
   "source": [
    "train_user.shape, test_user.shape"
   ]
  },
  {
   "cell_type": "code",
   "execution_count": 12,
   "metadata": {
    "ExecuteTime": {
     "end_time": "2020-08-03T14:20:36.583534Z",
     "start_time": "2020-08-03T14:20:36.554552Z"
    }
   },
   "outputs": [
    {
     "data": {
      "text/plain": [
       "phone_no_m     6106\n",
       "arpu_202005    2200\n",
       "county_name     182\n",
       "city_name        23\n",
       "idcard_cnt       11\n",
       "label             2\n",
       "dtype: int64"
      ]
     },
     "execution_count": 12,
     "metadata": {},
     "output_type": "execute_result"
    }
   ],
   "source": [
    "train_user.nunique().sort_values(ascending=False)"
   ]
  },
  {
   "cell_type": "code",
   "execution_count": 13,
   "metadata": {
    "ExecuteTime": {
     "end_time": "2020-08-03T14:20:37.225374Z",
     "start_time": "2020-08-03T14:20:36.586534Z"
    }
   },
   "outputs": [],
   "source": [
    "train_user.to_hdf('train_user.h5', 'df')\n",
    "test_user.to_hdf('test_user.h5', 'df')"
   ]
  },
  {
   "cell_type": "markdown",
   "metadata": {},
   "source": [
    "### 通话表"
   ]
  },
  {
   "cell_type": "code",
   "execution_count": 14,
   "metadata": {
    "ExecuteTime": {
     "end_time": "2020-08-03T14:21:06.776751Z",
     "start_time": "2020-08-03T14:20:37.227322Z"
    }
   },
   "outputs": [
    {
     "name": "stdout",
     "output_type": "stream",
     "text": [
      "Memory usage of dataframe is 320987648.00 MB\n",
      "Memory usage after optimization is: 255787058.00 MB\n",
      "Decreased by 20.3%\n",
      "Memory usage of dataframe is 9477696.00 MB\n",
      "Memory usage after optimization is: 7552565.00 MB\n",
      "Decreased by 20.3%\n"
     ]
    }
   ],
   "source": [
    "train_voc = reduce_mem_usage(pd.read_csv('../../input/train/train_voc.csv'))\n",
    "test_voc = reduce_mem_usage(pd.read_csv('test2/test_voc.csv'))"
   ]
  },
  {
   "cell_type": "code",
   "execution_count": 15,
   "metadata": {
    "ExecuteTime": {
     "end_time": "2020-08-03T14:21:07.908088Z",
     "start_time": "2020-08-03T14:21:06.779751Z"
    }
   },
   "outputs": [],
   "source": [
    "# 只取最后一个月的数据\n",
    "train_voc = train_voc[train_voc['start_datetime'] >= '2020-03-01 00:00:00']"
   ]
  },
  {
   "cell_type": "code",
   "execution_count": 16,
   "metadata": {
    "ExecuteTime": {
     "end_time": "2020-08-03T14:21:07.919081Z",
     "start_time": "2020-08-03T14:21:07.910087Z"
    }
   },
   "outputs": [
    {
     "data": {
      "text/plain": [
       "((709144, 8), (148087, 8))"
      ]
     },
     "execution_count": 16,
     "metadata": {},
     "output_type": "execute_result"
    }
   ],
   "source": [
    "train_voc.shape, test_voc.shape"
   ]
  },
  {
   "cell_type": "code",
   "execution_count": 17,
   "metadata": {
    "ExecuteTime": {
     "end_time": "2020-08-03T14:21:09.820996Z",
     "start_time": "2020-08-03T14:21:07.924079Z"
    }
   },
   "outputs": [
    {
     "data": {
      "text/plain": [
       "start_datetime    561615\n",
       "opposite_no_m     281103\n",
       "imei_m              6025\n",
       "phone_no_m          4823\n",
       "call_dur            2653\n",
       "county_name          193\n",
       "city_name             22\n",
       "calltype_id            3\n",
       "dtype: int64"
      ]
     },
     "execution_count": 17,
     "metadata": {},
     "output_type": "execute_result"
    }
   ],
   "source": [
    "train_voc.nunique().sort_values(ascending=False)"
   ]
  },
  {
   "cell_type": "code",
   "execution_count": 18,
   "metadata": {
    "ExecuteTime": {
     "end_time": "2020-08-03T14:21:11.979197Z",
     "start_time": "2020-08-03T14:21:09.823992Z"
    }
   },
   "outputs": [],
   "source": [
    "train_voc.to_hdf('train_voc.h5', 'df')\n",
    "test_voc.to_hdf('test_voc.h5', 'df')"
   ]
  },
  {
   "cell_type": "markdown",
   "metadata": {},
   "source": [
    "### 短信表"
   ]
  },
  {
   "cell_type": "code",
   "execution_count": 19,
   "metadata": {
    "ExecuteTime": {
     "end_time": "2020-08-03T14:21:36.105096Z",
     "start_time": "2020-08-03T14:21:11.981180Z"
    }
   },
   "outputs": [
    {
     "name": "stdout",
     "output_type": "stream",
     "text": [
      "Memory usage of dataframe is 219152416.00 MB\n",
      "Memory usage after optimization is: 171212853.00 MB\n",
      "Decreased by 21.9%\n",
      "Memory usage of dataframe is 4308128.00 MB\n",
      "Memory usage after optimization is: 3365753.00 MB\n",
      "Decreased by 21.9%\n"
     ]
    }
   ],
   "source": [
    "train_sms = reduce_mem_usage(pd.read_csv('../../input/train/train_sms.csv'))\n",
    "test_sms = reduce_mem_usage(pd.read_csv('test2/test_sms.csv'))"
   ]
  },
  {
   "cell_type": "code",
   "execution_count": 20,
   "metadata": {
    "ExecuteTime": {
     "end_time": "2020-08-03T14:21:37.019556Z",
     "start_time": "2020-08-03T14:21:36.110078Z"
    }
   },
   "outputs": [],
   "source": [
    "train_sms = train_sms[train_sms['request_datetime'] >= '2020-03-01 00:00:00']"
   ]
  },
  {
   "cell_type": "code",
   "execution_count": 21,
   "metadata": {
    "ExecuteTime": {
     "end_time": "2020-08-03T14:21:37.031551Z",
     "start_time": "2020-08-03T14:21:37.022556Z"
    }
   },
   "outputs": [
    {
     "data": {
      "text/plain": [
       "((910606, 4), (134625, 4))"
      ]
     },
     "execution_count": 21,
     "metadata": {},
     "output_type": "execute_result"
    }
   ],
   "source": [
    "train_sms.shape, test_sms.shape"
   ]
  },
  {
   "cell_type": "code",
   "execution_count": 22,
   "metadata": {
    "ExecuteTime": {
     "end_time": "2020-08-03T14:21:38.185892Z",
     "start_time": "2020-08-03T14:21:37.035549Z"
    }
   },
   "outputs": [
    {
     "data": {
      "text/plain": [
       "request_datetime    496383\n",
       "opposite_no_m       104792\n",
       "phone_no_m            4867\n",
       "calltype_id              2\n",
       "dtype: int64"
      ]
     },
     "execution_count": 22,
     "metadata": {},
     "output_type": "execute_result"
    }
   ],
   "source": [
    "train_sms.nunique().sort_values(ascending=False)"
   ]
  },
  {
   "cell_type": "code",
   "execution_count": 23,
   "metadata": {
    "ExecuteTime": {
     "end_time": "2020-08-03T14:21:38.364789Z",
     "start_time": "2020-08-03T14:21:38.194884Z"
    }
   },
   "outputs": [
    {
     "data": {
      "text/plain": [
       "request_datetime    79160\n",
       "opposite_no_m       17930\n",
       "phone_no_m           1392\n",
       "calltype_id             2\n",
       "dtype: int64"
      ]
     },
     "execution_count": 23,
     "metadata": {},
     "output_type": "execute_result"
    }
   ],
   "source": [
    "test_sms.nunique().sort_values(ascending=False)"
   ]
  },
  {
   "cell_type": "code",
   "execution_count": 24,
   "metadata": {
    "ExecuteTime": {
     "end_time": "2020-08-03T14:21:39.643337Z",
     "start_time": "2020-08-03T14:21:38.371786Z"
    }
   },
   "outputs": [],
   "source": [
    "train_sms.to_hdf('train_sms.h5', 'df')\n",
    "test_sms.to_hdf('test_sms.h5', 'df')"
   ]
  },
  {
   "cell_type": "markdown",
   "metadata": {},
   "source": [
    "### 应用表"
   ]
  },
  {
   "cell_type": "code",
   "execution_count": 25,
   "metadata": {
    "ExecuteTime": {
     "end_time": "2020-08-03T14:21:46.915091Z",
     "start_time": "2020-08-03T14:21:39.645336Z"
    }
   },
   "outputs": [
    {
     "name": "stdout",
     "output_type": "stream",
     "text": [
      "Memory usage of dataframe is 105075392.00 MB\n",
      "Memory usage after optimization is: 91940984.00 MB\n",
      "Decreased by 12.5%\n",
      "Memory usage of dataframe is 3183008.00 MB\n",
      "Memory usage after optimization is: 2387288.00 MB\n",
      "Decreased by 25.0%\n"
     ]
    }
   ],
   "source": [
    "train_app = reduce_mem_usage(pd.read_csv('../../input/train/train_app.csv'))\n",
    "test_app = reduce_mem_usage(pd.read_csv('test2/test_app.csv'))"
   ]
  },
  {
   "cell_type": "code",
   "execution_count": 26,
   "metadata": {
    "ExecuteTime": {
     "end_time": "2020-08-03T14:21:47.372829Z",
     "start_time": "2020-08-03T14:21:46.917089Z"
    }
   },
   "outputs": [],
   "source": [
    "train_app = train_app[train_app['month_id'] == '2020-03']"
   ]
  },
  {
   "cell_type": "code",
   "execution_count": 27,
   "metadata": {
    "ExecuteTime": {
     "end_time": "2020-08-03T14:21:47.383822Z",
     "start_time": "2020-08-03T14:21:47.375827Z"
    }
   },
   "outputs": [
    {
     "data": {
      "text/plain": [
       "((382647, 4), (99465, 4))"
      ]
     },
     "execution_count": 27,
     "metadata": {},
     "output_type": "execute_result"
    }
   ],
   "source": [
    "train_app.shape, test_app.shape"
   ]
  },
  {
   "cell_type": "code",
   "execution_count": 28,
   "metadata": {
    "ExecuteTime": {
     "end_time": "2020-08-03T14:42:10.896657Z",
     "start_time": "2020-08-03T14:21:47.388819Z"
    }
   },
   "outputs": [
    {
     "data": {
      "text/plain": [
       "flow          281286\n",
       "phone_no_m      4006\n",
       "busi_name       3255\n",
       "month_id           1\n",
       "dtype: int64"
      ]
     },
     "execution_count": 28,
     "metadata": {},
     "output_type": "execute_result"
    }
   ],
   "source": [
    "train_app.nunique().sort_values(ascending=False)"
   ]
  },
  {
   "cell_type": "code",
   "execution_count": 29,
   "metadata": {
    "ExecuteTime": {
     "end_time": "2020-08-03T14:43:34.221202Z",
     "start_time": "2020-08-03T14:42:10.899655Z"
    }
   },
   "outputs": [
    {
     "data": {
      "text/plain": [
       "flow          69898\n",
       "busi_name      3075\n",
       "phone_no_m     1093\n",
       "month_id          1\n",
       "dtype: int64"
      ]
     },
     "execution_count": 29,
     "metadata": {},
     "output_type": "execute_result"
    }
   ],
   "source": [
    "test_app.nunique().sort_values(ascending=False)"
   ]
  },
  {
   "cell_type": "code",
   "execution_count": 30,
   "metadata": {
    "ExecuteTime": {
     "end_time": "2020-08-03T14:43:34.413807Z",
     "start_time": "2020-08-03T14:43:34.223201Z"
    }
   },
   "outputs": [],
   "source": [
    "train_app.to_hdf('train_app.h5', 'df')\n",
    "test_app.to_hdf('test_app.h5', 'df')"
   ]
  }
 ],
 "metadata": {
  "kernelspec": {
   "display_name": "Python 3",
   "language": "python",
   "name": "python3"
  },
  "language_info": {
   "codemirror_mode": {
    "name": "ipython",
    "version": 3
   },
   "file_extension": ".py",
   "mimetype": "text/x-python",
   "name": "python",
   "nbconvert_exporter": "python",
   "pygments_lexer": "ipython3",
   "version": "3.7.3"
  },
  "toc": {
   "base_numbering": 1,
   "nav_menu": {},
   "number_sections": true,
   "sideBar": true,
   "skip_h1_title": false,
   "title_cell": "Table of Contents",
   "title_sidebar": "Contents",
   "toc_cell": false,
   "toc_position": {},
   "toc_section_display": true,
   "toc_window_display": false
  },
  "varInspector": {
   "cols": {
    "lenName": 16,
    "lenType": 16,
    "lenVar": 40
   },
   "kernels_config": {
    "python": {
     "delete_cmd_postfix": "",
     "delete_cmd_prefix": "del ",
     "library": "var_list.py",
     "varRefreshCmd": "print(var_dic_list())"
    },
    "r": {
     "delete_cmd_postfix": ") ",
     "delete_cmd_prefix": "rm(",
     "library": "var_list.r",
     "varRefreshCmd": "cat(var_dic_list()) "
    }
   },
   "types_to_exclude": [
    "module",
    "function",
    "builtin_function_or_method",
    "instance",
    "_Feature"
   ],
   "window_display": false
  }
 },
 "nbformat": 4,
 "nbformat_minor": 4
}
