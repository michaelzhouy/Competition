{
 "cells": [
  {
   "cell_type": "code",
   "execution_count": 1,
   "metadata": {
    "ExecuteTime": {
     "end_time": "2020-05-22T08:47:23.881301Z",
     "start_time": "2020-05-22T08:47:23.023464Z"
    }
   },
   "outputs": [],
   "source": [
    "import pandas as pd\n",
    "import lightgbm as lgb\n",
    "from sklearn import metrics\n",
    "from sklearn.datasets import load_breast_cancer\n",
    "from sklearn.model_selection import train_test_split, GridSearchCV"
   ]
  },
  {
   "cell_type": "code",
   "execution_count": 2,
   "metadata": {
    "ExecuteTime": {
     "end_time": "2020-05-22T08:47:23.900903Z",
     "start_time": "2020-05-22T08:47:23.884259Z"
    }
   },
   "outputs": [],
   "source": [
    "canceData=load_breast_cancer()\n",
    "X=canceData.data\n",
    "y=canceData.target"
   ]
  },
  {
   "cell_type": "code",
   "execution_count": 3,
   "metadata": {
    "ExecuteTime": {
     "end_time": "2020-05-22T08:47:23.906848Z",
     "start_time": "2020-05-22T08:47:23.901861Z"
    }
   },
   "outputs": [],
   "source": [
    "X_train,X_test,y_train,y_test=train_test_split(X, y, \n",
    "                                               random_state=0,\n",
    "                                               test_size=0.2)"
   ]
  },
  {
   "cell_type": "code",
   "execution_count": 4,
   "metadata": {
    "ExecuteTime": {
     "end_time": "2020-05-22T08:47:23.911834Z",
     "start_time": "2020-05-22T08:47:23.907884Z"
    }
   },
   "outputs": [],
   "source": [
    "params = {'boosting_type': 'gbdt',\n",
    "          'objective': 'binary',\n",
    "          'metric': 'auc',\n",
    "          'nthread':4,\n",
    "          'learning_rate':0.1,\n",
    "          'num_leaves':30, \n",
    "          'max_depth': 5,   \n",
    "          'subsample': 0.8, \n",
    "          'colsample_bytree': 0.8}"
   ]
  },
  {
   "cell_type": "code",
   "execution_count": 5,
   "metadata": {
    "ExecuteTime": {
     "end_time": "2020-05-22T08:47:24.472334Z",
     "start_time": "2020-05-22T08:47:23.912833Z"
    }
   },
   "outputs": [],
   "source": [
    "data_train = lgb.Dataset(X_train, y_train)\n",
    "cv_results = lgb.cv(params,\n",
    "                    data_train,\n",
    "                    num_boost_round=1000,\n",
    "                    nfold=5,\n",
    "                    stratified=False,\n",
    "                    shuffle=True,\n",
    "                    metrics='auc',\n",
    "                    early_stopping_rounds=50,\n",
    "                    seed=0)"
   ]
  },
  {
   "cell_type": "code",
   "execution_count": 6,
   "metadata": {
    "ExecuteTime": {
     "end_time": "2020-05-22T08:47:24.481313Z",
     "start_time": "2020-05-22T08:47:24.474329Z"
    }
   },
   "outputs": [
    {
     "name": "stdout",
     "output_type": "stream",
     "text": [
      "best n_estimators: 188\n",
      "best cv score: 0.9913471629808542\n"
     ]
    }
   ],
   "source": [
    "print('best n_estimators:', len(cv_results['auc-mean']))\n",
    "print('best cv score:', pd.Series(cv_results['auc-mean']).max())"
   ]
  },
  {
   "cell_type": "markdown",
   "metadata": {},
   "source": [
    "## 确定max_depth和num_leaves"
   ]
  },
  {
   "cell_type": "code",
   "execution_count": 7,
   "metadata": {
    "ExecuteTime": {
     "end_time": "2020-05-22T08:47:42.932757Z",
     "start_time": "2020-05-22T08:47:24.484303Z"
    }
   },
   "outputs": [
    {
     "data": {
      "text/plain": [
       "({'max_depth': 4, 'num_leaves': 10}, 0.9943573667711598)"
      ]
     },
     "execution_count": 7,
     "metadata": {},
     "output_type": "execute_result"
    }
   ],
   "source": [
    "params_test1={'max_depth': range(3, 8, 1),\n",
    "              'num_leaves':range(5, 100, 5)}\n",
    "              \n",
    "gsearch1 = GridSearchCV(estimator=lgb.LGBMClassifier(boosting_type='gbdt',\n",
    "                                                     objective='binary',\n",
    "                                                     metrics='auc',\n",
    "                                                     learning_rate=0.1,\n",
    "                                                     n_estimators=188,\n",
    "                                                     max_depth=6,\n",
    "                                                     bagging_fraction=0.8,\n",
    "                                                     feature_fraction = 0.8), \n",
    "                        param_grid=params_test1,\n",
    "                        scoring='roc_auc',\n",
    "                        cv=5,\n",
    "                        n_jobs=-1)\n",
    "gsearch1.fit(X_train,y_train)\n",
    "gsearch1.best_params_, gsearch1.best_score_"
   ]
  },
  {
   "cell_type": "markdown",
   "metadata": {},
   "source": [
    "## 确定max_bin和min_data_in_leaf"
   ]
  },
  {
   "cell_type": "code",
   "execution_count": 8,
   "metadata": {
    "ExecuteTime": {
     "end_time": "2020-05-22T08:48:09.099708Z",
     "start_time": "2020-05-22T08:47:42.936746Z"
    }
   },
   "outputs": [
    {
     "data": {
      "text/plain": [
       "({'max_bin': 15, 'min_data_in_leaf': 51}, 0.9952978056426331)"
      ]
     },
     "execution_count": 8,
     "metadata": {},
     "output_type": "execute_result"
    }
   ],
   "source": [
    "params_test2={'max_bin': range(5, 256, 10),\n",
    "              'min_data_in_leaf': range(1, 102, 10)}\n",
    "              \n",
    "gsearch2 = GridSearchCV(estimator=lgb.LGBMClassifier(boosting_type='gbdt',\n",
    "                                                     objective='binary',\n",
    "                                                     metrics='auc',\n",
    "                                                     learning_rate=0.1,\n",
    "                                                     n_estimators=188,\n",
    "                                                     max_depth=4,\n",
    "                                                     num_leaves=10,\n",
    "                                                     bagging_fraction=0.8,\n",
    "                                                     feature_fraction = 0.8), \n",
    "                        param_grid=params_test2,\n",
    "                        scoring='roc_auc',\n",
    "                        cv=5,\n",
    "                        n_jobs=-1)\n",
    "gsearch2.fit(X_train,y_train)\n",
    "gsearch2.best_params_, gsearch2.best_score_"
   ]
  },
  {
   "cell_type": "markdown",
   "metadata": {},
   "source": [
    "## 确定feature_fraction、bagging_fraction、bagging_freq"
   ]
  },
  {
   "cell_type": "code",
   "execution_count": 9,
   "metadata": {
    "ExecuteTime": {
     "end_time": "2020-05-22T08:48:20.265387Z",
     "start_time": "2020-05-22T08:48:09.101703Z"
    }
   },
   "outputs": [
    {
     "data": {
      "text/plain": [
       "({'bagging_fraction': 0.6, 'bagging_freq': 0, 'feature_fraction': 0.8},\n",
       " 0.9952978056426331)"
      ]
     },
     "execution_count": 9,
     "metadata": {},
     "output_type": "execute_result"
    }
   ],
   "source": [
    "params_test3={'feature_fraction': [0.6, 0.7, 0.8, 0.9, 1.0],\n",
    "              'bagging_fraction': [0.6, 0.7, 0.8, 0.9, 1.0],\n",
    "              'bagging_freq': range(0, 81, 10)}\n",
    "              \n",
    "gsearch3 = GridSearchCV(estimator=lgb.LGBMClassifier(boosting_type='gbdt',\n",
    "                                                     objective='binary',\n",
    "                                                     metrics='auc',\n",
    "                                                     learning_rate=0.1,\n",
    "                                                     n_estimators=188,\n",
    "                                                     max_depth=4,\n",
    "                                                     num_leaves=10,\n",
    "                                                     max_bin=15,\n",
    "                                                     min_data_in_leaf=51), \n",
    "                        param_grid=params_test3,\n",
    "                        scoring='roc_auc',\n",
    "                        cv=5,\n",
    "                        n_jobs=-1)\n",
    "gsearch3.fit(X_train,y_train)\n",
    "gsearch3.best_params_, gsearch3.best_score_"
   ]
  },
  {
   "cell_type": "markdown",
   "metadata": {},
   "source": [
    "## 确定lambda_l1和lambda_l2"
   ]
  },
  {
   "cell_type": "code",
   "execution_count": 10,
   "metadata": {
    "ExecuteTime": {
     "end_time": "2020-05-22T08:48:25.190899Z",
     "start_time": "2020-05-22T08:48:20.268336Z"
    }
   },
   "outputs": [
    {
     "data": {
      "text/plain": [
       "({'lambda_l1': 1e-05, 'lambda_l2': 1e-05}, 0.9952978056426331)"
      ]
     },
     "execution_count": 10,
     "metadata": {},
     "output_type": "execute_result"
    }
   ],
   "source": [
    "params_test4={'lambda_l1': [1e-5, 1e-3, 1e-1, 0.0, 0.1, 0.3, 0.5, 0.7, 0.9, 1.0],\n",
    "              'lambda_l2': [1e-5, 1e-3, 1e-1, 0.0, 0.1, 0.3, 0.5, 0.7, 0.9, 1.0]}\n",
    "              \n",
    "gsearch4 = GridSearchCV(estimator=lgb.LGBMClassifier(boosting_type='gbdt',\n",
    "                                                     objective='binary',\n",
    "                                                     metrics='auc',\n",
    "                                                     learning_rate=0.1,\n",
    "                                                     n_estimators=188,\n",
    "                                                     max_depth=4,\n",
    "                                                     num_leaves=10,\n",
    "                                                     max_bin=15,\n",
    "                                                     min_data_in_leaf=51,\n",
    "                                                     bagging_fraction=0.6,\n",
    "                                                     bagging_freq=0,\n",
    "                                                     feature_fraction=0.8), \n",
    "                        param_grid=params_test4,\n",
    "                        scoring='roc_auc',\n",
    "                        cv=5,\n",
    "                        n_jobs=-1)\n",
    "gsearch4.fit(X_train,y_train)\n",
    "gsearch4.best_params_, gsearch4.best_score_"
   ]
  },
  {
   "cell_type": "markdown",
   "metadata": {},
   "source": [
    "## 确定 min_split_gain"
   ]
  },
  {
   "cell_type": "code",
   "execution_count": 11,
   "metadata": {
    "ExecuteTime": {
     "end_time": "2020-05-22T08:48:25.729971Z",
     "start_time": "2020-05-22T08:48:25.193892Z"
    }
   },
   "outputs": [
    {
     "data": {
      "text/plain": [
       "({'min_split_gain': 0.0}, 0.9952978056426331)"
      ]
     },
     "execution_count": 11,
     "metadata": {},
     "output_type": "execute_result"
    }
   ],
   "source": [
    "params_test5 = {'min_split_gain': [0.0, 0.1, 0.2, 0.3, 0.4, 0.5, 0.6, 0.7, 0.8, 0.9, 1.0]}\n",
    "              \n",
    "gsearch5 = GridSearchCV(estimator=lgb.LGBMClassifier(boosting_type='gbdt',\n",
    "                                                     objective='binary',\n",
    "                                                     metrics='auc',\n",
    "                                                     learning_rate=0.1,\n",
    "                                                     n_estimators=188,\n",
    "                                                     max_depth=4,\n",
    "                                                     num_leaves=10,\n",
    "                                                     max_bin=15,\n",
    "                                                     min_data_in_leaf=51,\n",
    "                                                     bagging_fraction=0.6,\n",
    "                                                     bagging_freq=0,\n",
    "                                                     feature_fraction=0.8,\n",
    "                                                     lambda_l1=1e-05,\n",
    "                                                     lambda_l2=1e-05), \n",
    "                        param_grid=params_test5,\n",
    "                        scoring='roc_auc',\n",
    "                        cv=5,\n",
    "                        n_jobs=-1)\n",
    "gsearch5.fit(X_train, y_train)\n",
    "gsearch5.best_params_, gsearch5.best_score_"
   ]
  },
  {
   "cell_type": "markdown",
   "metadata": {},
   "source": [
    "## 降低学习率，增加迭代次数，验证模型"
   ]
  },
  {
   "cell_type": "code",
   "execution_count": 12,
   "metadata": {
    "ExecuteTime": {
     "end_time": "2020-05-22T08:48:25.965479Z",
     "start_time": "2020-05-22T08:48:25.731966Z"
    }
   },
   "outputs": [
    {
     "name": "stdout",
     "output_type": "stream",
     "text": [
      "acc: 0.9736842105263158\n",
      "auc: 0.9744363289933311\n"
     ]
    }
   ],
   "source": [
    "model = lgb.LGBMClassifier(boosting_type='gbdt',\n",
    "                           objective='binary',\n",
    "                           metrics='auc',\n",
    "                           learning_rate=0.01,\n",
    "                           n_estimators=1000,\n",
    "                           max_depth=4,\n",
    "                           num_leaves=10,\n",
    "                           max_bin=15,\n",
    "                           min_data_in_leaf=51,\n",
    "                           bagging_fraction=0.6,\n",
    "                           bagging_freq=0,\n",
    "                           feature_fraction=0.8,\n",
    "                           lambda_l1=1e-05,\n",
    "                           lambda_l2=1e-05,\n",
    "                           min_split_gain=0)\n",
    "model.fit(X_train,y_train)\n",
    "y_pre = model.predict(X_test)\n",
    "print('acc:', metrics.accuracy_score(y_test, y_pre))\n",
    "print('auc:', metrics.roc_auc_score(y_test, y_pre))"
   ]
  },
  {
   "cell_type": "markdown",
   "metadata": {},
   "source": [
    "## 使用默认参数"
   ]
  },
  {
   "cell_type": "code",
   "execution_count": 13,
   "metadata": {
    "ExecuteTime": {
     "end_time": "2020-05-22T08:48:26.087215Z",
     "start_time": "2020-05-22T08:48:25.968469Z"
    }
   },
   "outputs": [
    {
     "name": "stdout",
     "output_type": "stream",
     "text": [
      "acc: 0.9649122807017544\n",
      "auc: 0.9637980311209908\n"
     ]
    }
   ],
   "source": [
    "model=lgb.LGBMClassifier()\n",
    "model.fit(X_train, y_train)\n",
    "y_pre = model.predict(X_test)\n",
    "print('acc:', metrics.accuracy_score(y_test, y_pre))\n",
    "print('auc:', metrics.roc_auc_score(y_test, y_pre))"
   ]
  },
  {
   "cell_type": "markdown",
   "metadata": {},
   "source": [
    "# Lightgbm cv函数调参"
   ]
  },
  {
   "cell_type": "code",
   "execution_count": 14,
   "metadata": {
    "ExecuteTime": {
     "end_time": "2020-05-22T08:50:07.324714Z",
     "start_time": "2020-05-22T08:48:26.089174Z"
    }
   },
   "outputs": [
    {
     "name": "stdout",
     "output_type": "stream",
     "text": [
      "数据转换\n",
      "设置参数\n",
      "交叉验证\n",
      "调参1：提高准确率\n",
      "params:  {'boosting_type': 'gbdt', 'objective': 'binary', 'metric': 'auc', 'nthread': 4, 'learning_rate': 0.1, 'num_leaves': 95, 'max_depth': 5}\n",
      "best_params:  {'num_leaves': 95, 'max_depth': 5}\n",
      "调参2：降低过拟合\n",
      "params:  {'boosting_type': 'gbdt', 'objective': 'binary', 'metric': 'auc', 'nthread': 4, 'learning_rate': 0.1, 'num_leaves': 95, 'max_depth': 5, 'max_bin': 255, 'min_data_in_leaf': 101}\n",
      "best_params:  {'num_leaves': 95, 'max_depth': 5}\n",
      "调参3：降低过拟合\n",
      "params:  {'boosting_type': 'gbdt', 'objective': 'binary', 'metric': 'auc', 'nthread': 4, 'learning_rate': 0.1, 'num_leaves': 95, 'max_depth': 5, 'max_bin': 255, 'min_data_in_leaf': 101, 'feature_fraction': 1.0, 'bagging_fraction': 1.0, 'bagging_freq': 45}\n",
      "best_params:  {'num_leaves': 95, 'max_depth': 5}\n",
      "调参4：降低过拟合\n",
      "params:  {'boosting_type': 'gbdt', 'objective': 'binary', 'metric': 'auc', 'nthread': 4, 'learning_rate': 0.1, 'num_leaves': 95, 'max_depth': 5, 'max_bin': 255, 'min_data_in_leaf': 101, 'feature_fraction': 1.0, 'bagging_fraction': 1.0, 'bagging_freq': 45, 'lambda_l1': 1.0, 'lambda_l2': 1.0}\n",
      "best_params:  {'num_leaves': 95, 'max_depth': 5}\n",
      "调参5：降低过拟合2\n",
      "params:  {'boosting_type': 'gbdt', 'objective': 'binary', 'metric': 'auc', 'nthread': 4, 'learning_rate': 0.1, 'num_leaves': 95, 'max_depth': 5, 'max_bin': 255, 'min_data_in_leaf': 101, 'feature_fraction': 1.0, 'bagging_fraction': 1.0, 'bagging_freq': 45, 'lambda_l1': 1.0, 'lambda_l2': 1.0, 'min_split_gain': 1.0}\n",
      "best_params:  {'num_leaves': 95, 'max_depth': 5}\n",
      "{'num_leaves': 95, 'max_depth': 5}\n"
     ]
    }
   ],
   "source": [
    "print('数据转换')\n",
    "lgb_train = lgb.Dataset(X_train, y_train, free_raw_data=False)\n",
    "lgb_eval = lgb.Dataset(X_test, y_test, reference=lgb_train,free_raw_data=False)\n",
    " \n",
    "# 设置初始参数--不含交叉验证参数\n",
    "print('设置参数')\n",
    "params = {'boosting_type': 'gbdt',\n",
    "          'objective': 'binary',\n",
    "          'metric': 'auc',\n",
    "          'nthread': 4,\n",
    "          'learning_rate': 0.1}\n",
    " \n",
    "# 交叉验证(调参)\n",
    "print('交叉验证')\n",
    "max_auc = 0.0\n",
    "best_params = {}\n",
    "\n",
    "\n",
    "print(\"调参1：提高准确率\")\n",
    "for num_leaves in range(5, 100, 5):\n",
    "    for max_depth in range(3, 8, 1):\n",
    "        params['num_leaves'] = num_leaves\n",
    "        params['max_depth'] = max_depth\n",
    " \n",
    "        cv_results = lgb.cv(params,\n",
    "                            lgb_train,\n",
    "                            seed=1,\n",
    "                            nfold=5,\n",
    "                            metrics=['auc'],\n",
    "                            early_stopping_rounds=10)\n",
    "            \n",
    "        mean_auc = pd.Series(cv_results['auc-mean']).max()\n",
    "        boost_rounds = pd.Series(cv_results['auc-mean']).idxmax()\n",
    "            \n",
    "        if mean_auc >= max_auc:\n",
    "            max_auc = mean_auc\n",
    "            best_params['num_leaves'] = num_leaves\n",
    "            best_params['max_depth'] = max_depth\n",
    "if 'num_leaves' and 'max_depth' in best_params.keys():          \n",
    "    params['num_leaves'] = best_params['num_leaves']\n",
    "    params['max_depth'] = best_params['max_depth']\n",
    "print('params: ', params)\n",
    "print('best_params: ', best_params)\n",
    "    \n",
    "    \n",
    "# 过拟合\n",
    "print(\"调参2：降低过拟合\")\n",
    "for max_bin in range(5, 256, 10):\n",
    "    for min_data_in_leaf in range(1, 102, 10):\n",
    "        params['max_bin'] = max_bin\n",
    "        params['min_data_in_leaf'] = min_data_in_leaf\n",
    "            \n",
    "        cv_results = lgb.cv(params,\n",
    "                            lgb_train,\n",
    "                            seed=1,\n",
    "                            nfold=5,\n",
    "                            metrics=['auc'],\n",
    "                            early_stopping_rounds=10)\n",
    "                    \n",
    "        mean_auc = pd.Series(cv_results['auc-mean']).max()\n",
    "        boost_rounds = pd.Series(cv_results['auc-mean']).idxmax()\n",
    " \n",
    "        if mean_auc >= max_auc:\n",
    "            max_auc = mean_auc\n",
    "            best_params['max_bin']= max_bin\n",
    "            best_params['min_data_in_leaf'] = min_data_in_leaf\n",
    "if 'max_bin' and 'min_data_in_leaf' in best_params.keys():\n",
    "    params['min_data_in_leaf'] = best_params['min_data_in_leaf']\n",
    "    params['max_bin'] = best_params['max_bin']\n",
    "print('params: ', params)\n",
    "print('best_params: ', best_params)\n",
    "\n",
    "\n",
    "print(\"调参3：降低过拟合\")\n",
    "for feature_fraction in [0.6, 0.7, 0.8, 0.9, 1.0]:\n",
    "    for bagging_fraction in [0.6, 0.7, 0.8, 0.9, 1.0]:\n",
    "        for bagging_freq in range(0, 50, 5):\n",
    "            params['feature_fraction'] = feature_fraction\n",
    "            params['bagging_fraction'] = bagging_fraction\n",
    "            params['bagging_freq'] = bagging_freq\n",
    "            \n",
    "            cv_results = lgb.cv(params,\n",
    "                                lgb_train,\n",
    "                                seed=1,\n",
    "                                nfold=5,\n",
    "                                metrics=['auc'],\n",
    "                                early_stopping_rounds=10)\n",
    "                    \n",
    "            mean_auc = pd.Series(cv_results['auc-mean']).max()\n",
    "            boost_rounds = pd.Series(cv_results['auc-mean']).idxmax()\n",
    " \n",
    "            if mean_auc >= max_auc:\n",
    "                max_auc = mean_auc\n",
    "                best_params['feature_fraction'] = feature_fraction\n",
    "                best_params['bagging_fraction'] = bagging_fraction\n",
    "                best_params['bagging_freq'] = bagging_freq\n",
    "\n",
    "\n",
    "if 'feature_fraction' and 'bagging_fraction' and 'bagging_freq' in best_params.keys():\n",
    "    params['feature_fraction'] = best_params['feature_fraction']\n",
    "    params['bagging_fraction'] = best_params['bagging_fraction']\n",
    "    params['bagging_freq'] = best_params['bagging_freq']\n",
    "print('params: ', params)\n",
    "print('best_params: ', best_params)\n",
    " \n",
    "print(\"调参4：降低过拟合\")\n",
    "for lambda_l1 in [1e-5, 1e-3, 1e-1, 0.0, 0.1, 0.3, 0.5, 0.7, 0.9, 1.0]:\n",
    "    for lambda_l2 in [1e-5, 1e-3, 1e-1, 0.0, 0.1, 0.3, 0.5, 0.7, 0.9, 1.0]:\n",
    "        params['lambda_l1'] = lambda_l1\n",
    "        params['lambda_l2'] = lambda_l2\n",
    "        cv_results = lgb.cv(params,\n",
    "                            lgb_train,\n",
    "                            seed=1,\n",
    "                            nfold=5,\n",
    "                            metrics=['auc'],\n",
    "                            early_stopping_rounds=10)\n",
    "                \n",
    "        mean_auc = pd.Series(cv_results['auc-mean']).max()\n",
    "        boost_rounds = pd.Series(cv_results['auc-mean']).idxmax()\n",
    " \n",
    "        if mean_auc >= max_auc:\n",
    "            max_auc=mean_auc\n",
    "            best_params['lambda_l1'] = lambda_l1\n",
    "            best_params['lambda_l2'] = lambda_l2\n",
    "if 'lambda_l1' and 'lambda_l2' in best_params.keys():\n",
    "    params['lambda_l1'] = best_params['lambda_l1']\n",
    "    params['lambda_l2'] = best_params['lambda_l2']\n",
    "print('params: ', params)\n",
    "print('best_params: ', best_params)\n",
    "    \n",
    "print(\"调参5：降低过拟合2\")\n",
    "for min_split_gain in [0.0, 0.1, 0.2, 0.3, 0.4, 0.5, 0.6, 0.7, 0.8, 0.9, 1.0]:\n",
    "    params['min_split_gain'] = min_split_gain\n",
    "    \n",
    "    cv_results = lgb.cv(params,\n",
    "                        lgb_train,\n",
    "                        seed=1,\n",
    "                        nfold=5,\n",
    "                        metrics=['auc'],\n",
    "                        early_stopping_rounds=10)\n",
    "            \n",
    "    mean_auc = pd.Series(cv_results['auc-mean']).max()\n",
    "    boost_rounds = pd.Series(cv_results['auc-mean']).idxmax()\n",
    " \n",
    "    if mean_auc >= max_auc:\n",
    "        max_auc=mean_auc\n",
    "        \n",
    "        best_params['min_split_gain'] = min_split_gain\n",
    "if 'min_split_gain' in best_params.keys():\n",
    "    params['min_split_gain'] = best_params['min_split_gain']\n",
    "print('params: ', params)\n",
    "print('best_params: ', best_params)\n",
    "\n",
    "print(best_params)"
   ]
  },
  {
   "cell_type": "code",
   "execution_count": 15,
   "metadata": {
    "ExecuteTime": {
     "end_time": "2020-05-22T08:50:07.491306Z",
     "start_time": "2020-05-22T08:50:07.328704Z"
    }
   },
   "outputs": [
    {
     "name": "stdout",
     "output_type": "stream",
     "text": [
      "acc: 0.9824561403508771\n",
      "auc: 0.9818990155604954\n"
     ]
    }
   ],
   "source": [
    "model=lgb.LGBMClassifier(boosting_type='gbdt',\n",
    "                         objective='binary',\n",
    "                         metrics='auc',\n",
    "                         learning_rate=0.01,\n",
    "                         n_estimators=1000,\n",
    "                         max_depth=4,\n",
    "                         num_leaves=10,\n",
    "                         max_bin=255,\n",
    "                         min_data_in_leaf=81,\n",
    "                         bagging_fraction=0.7,\n",
    "                         bagging_freq=30,\n",
    "                         feature_fraction=0.8,\n",
    "                         lambda_l1=0.1,\n",
    "                         lambda_l2=0,\n",
    "                         min_split_gain=0.1)\n",
    "model.fit(X_train,y_train)\n",
    "y_pre = model.predict(X_test)\n",
    "print('acc:', metrics.accuracy_score(y_test,y_pre))\n",
    "print('auc:', metrics.roc_auc_score(y_test,y_pre))"
   ]
  },
  {
   "cell_type": "code",
   "execution_count": 16,
   "metadata": {
    "ExecuteTime": {
     "end_time": "2020-05-22T08:51:48.522270Z",
     "start_time": "2020-05-22T08:51:48.044078Z"
    }
   },
   "outputs": [
    {
     "name": "stdout",
     "output_type": "stream",
     "text": [
      "acc: 0.9649122807017544\n",
      "auc: 0.9606224198158145\n"
     ]
    }
   ],
   "source": [
    "model=lgb.LGBMClassifier(boosting_type='gbdt',\n",
    "                         objective='binary',\n",
    "                         metrics='auc',\n",
    "                         learning_rate=0.01,\n",
    "                         n_estimators=1000,\n",
    "                         max_depth=5,\n",
    "                         num_leaves=95)\n",
    "model.fit(X_train,y_train)\n",
    "y_pre = model.predict(X_test)\n",
    "print('acc:', metrics.accuracy_score(y_test,y_pre))\n",
    "print('auc:', metrics.roc_auc_score(y_test,y_pre))"
   ]
  },
  {
   "cell_type": "code",
   "execution_count": null,
   "metadata": {},
   "outputs": [],
   "source": []
  }
 ],
 "metadata": {
  "kernelspec": {
   "display_name": "Python 3",
   "language": "python",
   "name": "python3"
  },
  "language_info": {
   "codemirror_mode": {
    "name": "ipython",
    "version": 3
   },
   "file_extension": ".py",
   "mimetype": "text/x-python",
   "name": "python",
   "nbconvert_exporter": "python",
   "pygments_lexer": "ipython3",
   "version": "3.7.3"
  },
  "toc": {
   "base_numbering": 1,
   "nav_menu": {},
   "number_sections": true,
   "sideBar": true,
   "skip_h1_title": false,
   "title_cell": "Table of Contents",
   "title_sidebar": "Contents",
   "toc_cell": false,
   "toc_position": {},
   "toc_section_display": true,
   "toc_window_display": false
  },
  "varInspector": {
   "cols": {
    "lenName": 16,
    "lenType": 16,
    "lenVar": 40
   },
   "kernels_config": {
    "python": {
     "delete_cmd_postfix": "",
     "delete_cmd_prefix": "del ",
     "library": "var_list.py",
     "varRefreshCmd": "print(var_dic_list())"
    },
    "r": {
     "delete_cmd_postfix": ") ",
     "delete_cmd_prefix": "rm(",
     "library": "var_list.r",
     "varRefreshCmd": "cat(var_dic_list()) "
    }
   },
   "types_to_exclude": [
    "module",
    "function",
    "builtin_function_or_method",
    "instance",
    "_Feature"
   ],
   "window_display": false
  }
 },
 "nbformat": 4,
 "nbformat_minor": 4
}
