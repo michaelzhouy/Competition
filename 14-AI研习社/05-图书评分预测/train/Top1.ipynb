{
 "cells": [
  {
   "cell_type": "code",
   "execution_count": 9,
   "metadata": {
    "ExecuteTime": {
     "end_time": "2020-11-23T14:29:20.136411Z",
     "start_time": "2020-11-23T14:29:20.130413Z"
    }
   },
   "outputs": [],
   "source": [
    "import numpy as np\n",
    "import pandas as pd\n",
    "from collections import Counter\n",
    "import re\n",
    "import matplotlib.pyplot as plt\n",
    "import seaborn as sns\n",
    "from sklearn.preprocessing import LabelEncoder, MinMaxScaler\n",
    "from catboost import CatBoostRegressor\n",
    "from sklearn.model_selection import train_test_split\n",
    "import fire"
   ]
  },
  {
   "cell_type": "code",
   "execution_count": 2,
   "metadata": {
    "ExecuteTime": {
     "end_time": "2020-11-23T14:26:39.991839Z",
     "start_time": "2020-11-23T14:26:38.386693Z"
    }
   },
   "outputs": [
    {
     "name": "stderr",
     "output_type": "stream",
     "text": [
      "C:\\Users\\z\\Anaconda3\\lib\\site-packages\\IPython\\core\\interactiveshell.py:3146: DtypeWarning: Columns (3) have mixed types.Specify dtype option on import or set low_memory=False.\n",
      "  interactivity=interactivity, compiler=compiler, result=result)\n"
     ]
    }
   ],
   "source": [
    "train_data = pd.read_csv('../input/train.csv')\n",
    "test_data = pd.read_csv('../input/test.csv')\n",
    "user_data = pd.read_csv('../input/user.csv', encoding='latin-1')\n",
    "book_data = pd.read_csv('../input/book.csv', encoding='latin-1')"
   ]
  },
  {
   "cell_type": "code",
   "execution_count": 3,
   "metadata": {
    "ExecuteTime": {
     "end_time": "2020-11-23T14:27:12.273151Z",
     "start_time": "2020-11-23T14:27:12.143227Z"
    }
   },
   "outputs": [],
   "source": [
    "book_data.fillna('', inplace=True)\n",
    "user_data.fillna('', inplace=True)"
   ]
  },
  {
   "cell_type": "code",
   "execution_count": 4,
   "metadata": {
    "ExecuteTime": {
     "end_time": "2020-11-23T14:27:24.193492Z",
     "start_time": "2020-11-23T14:27:24.173485Z"
    }
   },
   "outputs": [
    {
     "data": {
      "text/html": [
       "<div>\n",
       "<style scoped>\n",
       "    .dataframe tbody tr th:only-of-type {\n",
       "        vertical-align: middle;\n",
       "    }\n",
       "\n",
       "    .dataframe tbody tr th {\n",
       "        vertical-align: top;\n",
       "    }\n",
       "\n",
       "    .dataframe thead th {\n",
       "        text-align: right;\n",
       "    }\n",
       "</style>\n",
       "<table border=\"1\" class=\"dataframe\">\n",
       "  <thead>\n",
       "    <tr style=\"text-align: right;\">\n",
       "      <th></th>\n",
       "      <th>User-ID</th>\n",
       "      <th>ISBN</th>\n",
       "      <th>Book-Rating</th>\n",
       "    </tr>\n",
       "  </thead>\n",
       "  <tbody>\n",
       "    <tr>\n",
       "      <th>0</th>\n",
       "      <td>8</td>\n",
       "      <td>0002005018</td>\n",
       "      <td>5</td>\n",
       "    </tr>\n",
       "    <tr>\n",
       "      <th>1</th>\n",
       "      <td>8</td>\n",
       "      <td>0374157065</td>\n",
       "      <td>0</td>\n",
       "    </tr>\n",
       "    <tr>\n",
       "      <th>2</th>\n",
       "      <td>8</td>\n",
       "      <td>0393045218</td>\n",
       "      <td>0</td>\n",
       "    </tr>\n",
       "    <tr>\n",
       "      <th>3</th>\n",
       "      <td>8</td>\n",
       "      <td>0399135782</td>\n",
       "      <td>0</td>\n",
       "    </tr>\n",
       "    <tr>\n",
       "      <th>4</th>\n",
       "      <td>8</td>\n",
       "      <td>0425176428</td>\n",
       "      <td>0</td>\n",
       "    </tr>\n",
       "  </tbody>\n",
       "</table>\n",
       "</div>"
      ],
      "text/plain": [
       "   User-ID        ISBN  Book-Rating\n",
       "0        8  0002005018            5\n",
       "1        8  0374157065            0\n",
       "2        8  0393045218            0\n",
       "3        8  0399135782            0\n",
       "4        8  0425176428            0"
      ]
     },
     "execution_count": 4,
     "metadata": {},
     "output_type": "execute_result"
    }
   ],
   "source": [
    "train_data.head()"
   ]
  },
  {
   "cell_type": "code",
   "execution_count": 5,
   "metadata": {
    "ExecuteTime": {
     "end_time": "2020-11-23T14:27:42.819159Z",
     "start_time": "2020-11-23T14:27:42.807164Z"
    }
   },
   "outputs": [
    {
     "data": {
      "text/html": [
       "<div>\n",
       "<style scoped>\n",
       "    .dataframe tbody tr th:only-of-type {\n",
       "        vertical-align: middle;\n",
       "    }\n",
       "\n",
       "    .dataframe tbody tr th {\n",
       "        vertical-align: top;\n",
       "    }\n",
       "\n",
       "    .dataframe thead th {\n",
       "        text-align: right;\n",
       "    }\n",
       "</style>\n",
       "<table border=\"1\" class=\"dataframe\">\n",
       "  <thead>\n",
       "    <tr style=\"text-align: right;\">\n",
       "      <th></th>\n",
       "      <th>id</th>\n",
       "      <th>User-ID</th>\n",
       "      <th>ISBN</th>\n",
       "    </tr>\n",
       "  </thead>\n",
       "  <tbody>\n",
       "    <tr>\n",
       "      <th>0</th>\n",
       "      <td>0</td>\n",
       "      <td>8</td>\n",
       "      <td>0060973129</td>\n",
       "    </tr>\n",
       "    <tr>\n",
       "      <th>1</th>\n",
       "      <td>1</td>\n",
       "      <td>8</td>\n",
       "      <td>0671870432</td>\n",
       "    </tr>\n",
       "    <tr>\n",
       "      <th>2</th>\n",
       "      <td>2</td>\n",
       "      <td>8</td>\n",
       "      <td>074322678X</td>\n",
       "    </tr>\n",
       "    <tr>\n",
       "      <th>3</th>\n",
       "      <td>3</td>\n",
       "      <td>8</td>\n",
       "      <td>0771074670</td>\n",
       "    </tr>\n",
       "    <tr>\n",
       "      <th>4</th>\n",
       "      <td>4</td>\n",
       "      <td>14</td>\n",
       "      <td>0689821166</td>\n",
       "    </tr>\n",
       "  </tbody>\n",
       "</table>\n",
       "</div>"
      ],
      "text/plain": [
       "   id  User-ID        ISBN\n",
       "0   0        8  0060973129\n",
       "1   1        8  0671870432\n",
       "2   2        8  074322678X\n",
       "3   3        8  0771074670\n",
       "4   4       14  0689821166"
      ]
     },
     "execution_count": 5,
     "metadata": {},
     "output_type": "execute_result"
    }
   ],
   "source": [
    "test_data.head()"
   ]
  },
  {
   "cell_type": "code",
   "execution_count": 6,
   "metadata": {
    "ExecuteTime": {
     "end_time": "2020-11-23T14:27:58.345014Z",
     "start_time": "2020-11-23T14:27:58.328024Z"
    }
   },
   "outputs": [
    {
     "data": {
      "text/html": [
       "<div>\n",
       "<style scoped>\n",
       "    .dataframe tbody tr th:only-of-type {\n",
       "        vertical-align: middle;\n",
       "    }\n",
       "\n",
       "    .dataframe tbody tr th {\n",
       "        vertical-align: top;\n",
       "    }\n",
       "\n",
       "    .dataframe thead th {\n",
       "        text-align: right;\n",
       "    }\n",
       "</style>\n",
       "<table border=\"1\" class=\"dataframe\">\n",
       "  <thead>\n",
       "    <tr style=\"text-align: right;\">\n",
       "      <th></th>\n",
       "      <th>User-ID</th>\n",
       "      <th>Location</th>\n",
       "      <th>Age</th>\n",
       "    </tr>\n",
       "  </thead>\n",
       "  <tbody>\n",
       "    <tr>\n",
       "      <th>0</th>\n",
       "      <td>1</td>\n",
       "      <td>nyc, new york, usa</td>\n",
       "      <td></td>\n",
       "    </tr>\n",
       "    <tr>\n",
       "      <th>1</th>\n",
       "      <td>2</td>\n",
       "      <td>stockton, california, usa</td>\n",
       "      <td>18</td>\n",
       "    </tr>\n",
       "    <tr>\n",
       "      <th>2</th>\n",
       "      <td>3</td>\n",
       "      <td>moscow, yukon territory, russia</td>\n",
       "      <td></td>\n",
       "    </tr>\n",
       "    <tr>\n",
       "      <th>3</th>\n",
       "      <td>4</td>\n",
       "      <td>porto, v.n.gaia, portugal</td>\n",
       "      <td>17</td>\n",
       "    </tr>\n",
       "    <tr>\n",
       "      <th>4</th>\n",
       "      <td>5</td>\n",
       "      <td>farnborough, hants, united kingdom</td>\n",
       "      <td></td>\n",
       "    </tr>\n",
       "  </tbody>\n",
       "</table>\n",
       "</div>"
      ],
      "text/plain": [
       "   User-ID                            Location Age\n",
       "0        1                  nyc, new york, usa    \n",
       "1        2           stockton, california, usa  18\n",
       "2        3     moscow, yukon territory, russia    \n",
       "3        4           porto, v.n.gaia, portugal  17\n",
       "4        5  farnborough, hants, united kingdom    "
      ]
     },
     "execution_count": 6,
     "metadata": {},
     "output_type": "execute_result"
    }
   ],
   "source": [
    "user_data.head()"
   ]
  },
  {
   "cell_type": "code",
   "execution_count": 7,
   "metadata": {
    "ExecuteTime": {
     "end_time": "2020-11-23T14:27:58.368002Z",
     "start_time": "2020-11-23T14:27:58.349012Z"
    }
   },
   "outputs": [
    {
     "data": {
      "text/html": [
       "<div>\n",
       "<style scoped>\n",
       "    .dataframe tbody tr th:only-of-type {\n",
       "        vertical-align: middle;\n",
       "    }\n",
       "\n",
       "    .dataframe tbody tr th {\n",
       "        vertical-align: top;\n",
       "    }\n",
       "\n",
       "    .dataframe thead th {\n",
       "        text-align: right;\n",
       "    }\n",
       "</style>\n",
       "<table border=\"1\" class=\"dataframe\">\n",
       "  <thead>\n",
       "    <tr style=\"text-align: right;\">\n",
       "      <th></th>\n",
       "      <th>ISBN</th>\n",
       "      <th>Book-Title</th>\n",
       "      <th>Book-Author</th>\n",
       "      <th>Year-Of-Publication</th>\n",
       "      <th>Publisher</th>\n",
       "    </tr>\n",
       "  </thead>\n",
       "  <tbody>\n",
       "    <tr>\n",
       "      <th>0</th>\n",
       "      <td>0195153448</td>\n",
       "      <td>Classical Mythology</td>\n",
       "      <td>Mark P. O. Morford</td>\n",
       "      <td>2002</td>\n",
       "      <td>Oxford University Press</td>\n",
       "    </tr>\n",
       "    <tr>\n",
       "      <th>1</th>\n",
       "      <td>0002005018</td>\n",
       "      <td>Clara Callan</td>\n",
       "      <td>Richard Bruce Wright</td>\n",
       "      <td>2001</td>\n",
       "      <td>HarperFlamingo Canada</td>\n",
       "    </tr>\n",
       "    <tr>\n",
       "      <th>2</th>\n",
       "      <td>0060973129</td>\n",
       "      <td>Decision in Normandy</td>\n",
       "      <td>Carlo D'Este</td>\n",
       "      <td>1991</td>\n",
       "      <td>HarperPerennial</td>\n",
       "    </tr>\n",
       "    <tr>\n",
       "      <th>3</th>\n",
       "      <td>0374157065</td>\n",
       "      <td>Flu: The Story of the Great Influenza Pandemic...</td>\n",
       "      <td>Gina Bari Kolata</td>\n",
       "      <td>1999</td>\n",
       "      <td>Farrar Straus Giroux</td>\n",
       "    </tr>\n",
       "    <tr>\n",
       "      <th>4</th>\n",
       "      <td>0393045218</td>\n",
       "      <td>The Mummies of Urumchi</td>\n",
       "      <td>E. J. W. Barber</td>\n",
       "      <td>1999</td>\n",
       "      <td>W. W. Norton &amp; Company</td>\n",
       "    </tr>\n",
       "  </tbody>\n",
       "</table>\n",
       "</div>"
      ],
      "text/plain": [
       "         ISBN                                         Book-Title  \\\n",
       "0  0195153448                                Classical Mythology   \n",
       "1  0002005018                                       Clara Callan   \n",
       "2  0060973129                               Decision in Normandy   \n",
       "3  0374157065  Flu: The Story of the Great Influenza Pandemic...   \n",
       "4  0393045218                             The Mummies of Urumchi   \n",
       "\n",
       "            Book-Author Year-Of-Publication                Publisher  \n",
       "0    Mark P. O. Morford                2002  Oxford University Press  \n",
       "1  Richard Bruce Wright                2001    HarperFlamingo Canada  \n",
       "2          Carlo D'Este                1991          HarperPerennial  \n",
       "3      Gina Bari Kolata                1999     Farrar Straus Giroux  \n",
       "4       E. J. W. Barber                1999   W. W. Norton & Company  "
      ]
     },
     "execution_count": 7,
     "metadata": {},
     "output_type": "execute_result"
    }
   ],
   "source": [
    "book_data.head()"
   ]
  },
  {
   "cell_type": "code",
   "execution_count": 8,
   "metadata": {
    "ExecuteTime": {
     "end_time": "2020-11-23T14:28:52.924712Z",
     "start_time": "2020-11-23T14:28:51.521338Z"
    }
   },
   "outputs": [],
   "source": [
    "train_m1 = pd.merge(train_data, user_data, on=[\"User-ID\"], how='left')\n",
    "train_m2 = pd.merge(train_m1, book_data, on=[\"ISBN\"], how='left')\n",
    "\n",
    "test_m1 = pd.merge(test_data, user_data, on=[\"User-ID\"], how='left')\n",
    "test_m2 = pd.merge(test_m1, book_data, on=[\"ISBN\"], how='left')"
   ]
  },
  {
   "cell_type": "code",
   "execution_count": null,
   "metadata": {},
   "outputs": [],
   "source": [
    "def process2new(df_raw,train=True):\n",
    "#     'User-ID', 'ISBN', 'Book-Rating', 'Location', 'Age', 'Book-Title',\n",
    "#        'Book-Author', 'Year-Of-Publication', 'Publisher'\n",
    "    loc0,loc1,loc2= list(zip(*map(lambda x:x.split(\",\"), list(df_raw[\"Location\"]))))\n",
    "    loc0 = [x.strip() for x in loc0]\n",
    "    loc1 = [x.strip() for x in loc1]\n",
    "    loc2 = [x.strip() for x in loc2]\n",
    "    \n",
    "    User_id = list(df_raw[\"User-ID\"])\n",
    "    ISBN = list(df_raw[\"ISBN\"])\n",
    "    Age = [int(x) if isinstance(x, float) else 0 for x in list(df_raw[\"Age\"])]\n",
    "    Book_Title = list(df_raw[\"Book-Title\"])\n",
    "    Book_Author = list(df_raw[\"Book-Author\"])\n",
    "    Year_Of_Publication = list(df_raw[\"Year-Of-Publication\"])\n",
    "    Publisher = list(df_raw[\"Publisher\"])\n",
    "    \n",
    "    res_d = {'User-ID':User_id, 'ISBN':ISBN, 'Loc0':loc0,'Loc1':loc1,\"Loc2\":loc2, 'Age':Age, 'Book-Title':Book_Title,\n",
    "      'Book-Author':Book_Author, 'Year-Of-Publication':Year_Of_Publication, 'Publisher':Publisher}  \n",
    "    if train:\n",
    "        Book_Rating = df_raw[\"Book-Rating\"]\n",
    "        res_d['Book-Rating'] = Book_Rating\n",
    "    pd_res = pd.DataFrame(res_d)    \n",
    "    return res_d, pd_res \n",
    "\n",
    "\n",
    "_, train_m2 = process2new(train_m2)\n",
    "_, test_m2 = process2new(test_m2, False)"
   ]
  },
  {
   "cell_type": "code",
   "execution_count": null,
   "metadata": {},
   "outputs": [],
   "source": [
    "User_ID = list(train_m2[\"User-ID\"]) + list(test_m2[\"User-ID\"])\n",
    "Loc0 = list(train_m2[\"Loc0\"]) + list(test_m2[\"Loc0\"])\n",
    "Loc1 = list(train_m2[\"Loc1\"]) + list(test_m2[\"Loc1\"])\n",
    "Loc2 = list(train_m2[\"Loc2\"]) + list(test_m2[\"Loc2\"])\n",
    "Age = list(train_m2[\"Age\"]) + list(test_m2[\"Age\"])\n",
    "Book_Title = list(train_m2[\"Book-Title\"]) + list(test_m2[\"Book-Title\"])\n",
    "Book_Author = list(train_m2[\"Book-Author\"]) + list(test_m2[\"Book-Author\"])\n",
    "Year_Of_Publication= list(train_m2[\"Year-Of-Publication\"]) + list(test_m2[\"Year-Of-Publication\"])\n",
    "Publisher = list(train_m2[\"Publisher\"]) + list(test_m2[\"Publisher\"])"
   ]
  },
  {
   "cell_type": "code",
   "execution_count": null,
   "metadata": {},
   "outputs": [],
   "source": [
    "def count2dict(li):\n",
    "    d = {}\n",
    "    lii = Counter(li).most_common()\n",
    "    for (x,y) in  lii:\n",
    "        if y < 3:\n",
    "            continue\n",
    "        d[x] = len(d)\n",
    "    return d,lii \n",
    "def count2dictTitle(li):\n",
    "    d = {}\n",
    "    w = []\n",
    "    for x in li:\n",
    "        x = re.sub(\",|\\.|\\?|\\:|\\!|\\(|\\)|\\{|\\}|\\&|\\*\",\" \",x)\n",
    "        x = re.sub(\"\\d\",\" \",x)\n",
    "        x = x.split()\n",
    "        w += x\n",
    "    lii = Counter(w).most_common()\n",
    "    res = []\n",
    "    for (x,y) in lii:\n",
    "        if y < 3:\n",
    "            continue\n",
    "        else:\n",
    "            res.append((x,y))\n",
    "            d[x] = len(d)\n",
    "    return res,d\n",
    "def count2dictLoc(li):\n",
    "    d = {}\n",
    "    w = []\n",
    "    for x in li:\n",
    "        w += x.split(\",\") \n",
    "    lii = Counter(w).most_common()\n",
    "    for (x,y) in  lii:\n",
    "        xx = x.strip()\n",
    "        if xx is None or y < 3:\n",
    "            continue\n",
    "        d[x.strip()] = len(d)\n",
    "    return d,lii "
   ]
  },
  {
   "cell_type": "code",
   "execution_count": null,
   "metadata": {},
   "outputs": [],
   "source": [
    "# Counter(Age)\n",
    "# train_m2\n",
    "UserDict,mcU = count2dict(User_ID)\n",
    "l0Dict,_ = count2dict(Loc0)\n",
    "l1Dict,_ = count2dict(Loc1)\n",
    "l2Dict,_ = count2dict(Loc2)\n",
    "Book_AuthorDict,mcB = count2dict(Book_Author)\n",
    "Year_Of_PublicationDict = count2dict(Year_Of_Publication)\n",
    "PublisherDict,mcP = count2dict(Publisher)\n",
    "freqs,Book_TitleDict = count2dictTitle(Book_Title)"
   ]
  },
  {
   "cell_type": "code",
   "execution_count": null,
   "metadata": {},
   "outputs": [],
   "source": [
    "def trans2id(df_raw,train=True):\n",
    "    User_id = list(df_raw[\"User-ID\"])\n",
    "    ISBN = list(df_raw[\"ISBN\"])\n",
    "    Age = [int(x) for x in list(df_raw[\"Age\"])]\n",
    "    Book_Title = list(df_raw[\"Book-Title\"])\n",
    "    Book_Author = list(df_raw[\"Book-Author\"])\n",
    "    Year_Of_Publication = list(df_raw[\"Year-Of-Publication\"])\n",
    "    Publisher = list(df_raw[\"Publisher\"])\n",
    "    Loc0,Loc1,Loc2 = list(df_raw[\"Loc0\"]),list(df_raw[\"Loc1\"]),list(df_raw[\"Loc2\"])\n",
    "    \n",
    "    def h(x,d):\n",
    "        return [d[w]+1 if w in d else 0 for w in x]\n",
    "    \n",
    "    User_id_n = h(User_id,UserDict)\n",
    "    loc0_n = h(Loc0,l0Dict) \n",
    "    loc1_n = h(Loc1,l1Dict) \n",
    "    loc2_n = h(Loc2,l2Dict) \n",
    "    \n",
    "    Book_Author_n  = h(Book_Author,Book_AuthorDict)\n",
    "    Year_Of_Publication_n = h(Year_Of_Publication,Year_Of_PublicationDict)\n",
    "    Publisher_n = h(Publisher,PublisherDict)\n",
    "    \n",
    "    res_d = {'User-ID':User_id_n, 'ISBN':ISBN, 'Loc0':loc0_n,'Loc1':loc1_n,\"Loc2\":loc2_n, 'Age':Age, 'Book-Title':Book_Title,\n",
    "      'Book-Author':Book_Author_n, 'Year-Of-Publication':Year_Of_Publication_n, 'Publisher':Publisher_n} \n",
    "    print(len(User_id_n),len(ISBN),len(loc0_n),len(loc1_n),len(loc2_n),len(Age),len(Book_Title),len(Book_Author_n),len(Year_Of_Publication_n),len(Publisher_n))\n",
    "    if train:\n",
    "        Book_Rating = df_raw[\"Book-Rating\"]\n",
    "        res_d['Book-Rating'] = Book_Rating\n",
    "    pd_res = pd.DataFrame(res_d)    \n",
    "    return pd_res,res_d"
   ]
  },
  {
   "cell_type": "code",
   "execution_count": null,
   "metadata": {},
   "outputs": [],
   "source": [
    "id_train,_ = trans2id(train_m2)\n",
    "id_test,_ = trans2id(test_m2,False)"
   ]
  },
  {
   "cell_type": "code",
   "execution_count": null,
   "metadata": {},
   "outputs": [],
   "source": [
    "id_train.to_csv(\"./process_train.csv\",index=None)\n",
    "id_test.to_csv(\"./process_test.csv\",index=None)"
   ]
  }
 ],
 "metadata": {
  "kernelspec": {
   "display_name": "Python 3",
   "language": "python",
   "name": "python3"
  },
  "language_info": {
   "codemirror_mode": {
    "name": "ipython",
    "version": 3
   },
   "file_extension": ".py",
   "mimetype": "text/x-python",
   "name": "python",
   "nbconvert_exporter": "python",
   "pygments_lexer": "ipython3",
   "version": "3.7.3"
  },
  "toc": {
   "base_numbering": 1,
   "nav_menu": {},
   "number_sections": true,
   "sideBar": true,
   "skip_h1_title": false,
   "title_cell": "Table of Contents",
   "title_sidebar": "Contents",
   "toc_cell": false,
   "toc_position": {},
   "toc_section_display": true,
   "toc_window_display": false
  }
 },
 "nbformat": 4,
 "nbformat_minor": 4
}
