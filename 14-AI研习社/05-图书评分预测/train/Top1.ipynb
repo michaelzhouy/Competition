{
 "cells": [
  {
   "cell_type": "code",
   "execution_count": 1,
   "metadata": {
    "ExecuteTime": {
     "end_time": "2020-11-25T12:42:10.989506Z",
     "start_time": "2020-11-25T12:42:09.908865Z"
    }
   },
   "outputs": [],
   "source": [
    "import numpy as np\n",
    "import pandas as pd\n",
    "import re\n",
    "import matplotlib.pyplot as plt\n",
    "import seaborn as sns\n",
    "from catboost import CatBoostRegressor\n",
    "from sklearn.model_selection import train_test_split\n",
    "import fire"
   ]
  },
  {
   "cell_type": "code",
   "execution_count": 2,
   "metadata": {
    "ExecuteTime": {
     "end_time": "2020-11-25T12:42:12.038920Z",
     "start_time": "2020-11-25T12:42:10.990471Z"
    }
   },
   "outputs": [
    {
     "name": "stderr",
     "output_type": "stream",
     "text": [
      "C:\\Users\\z\\Anaconda3\\lib\\site-packages\\IPython\\core\\interactiveshell.py:3063: DtypeWarning: Columns (3) have mixed types.Specify dtype option on import or set low_memory=False.\n",
      "  interactivity=interactivity, compiler=compiler, result=result)\n"
     ]
    }
   ],
   "source": [
    "train_data = pd.read_csv('../input/train.csv')\n",
    "test_data = pd.read_csv('../input/test.csv')\n",
    "user_data = pd.read_csv('../input/user.csv', encoding='latin-1')\n",
    "book_data = pd.read_csv('../input/book.csv', encoding='latin-1')"
   ]
  },
  {
   "cell_type": "code",
   "execution_count": 3,
   "metadata": {
    "ExecuteTime": {
     "end_time": "2020-11-25T12:42:12.043570Z",
     "start_time": "2020-11-25T12:42:12.040578Z"
    }
   },
   "outputs": [],
   "source": [
    "# book_data.fillna('', inplace=True)\n",
    "# user_data.fillna('', inplace=True)"
   ]
  },
  {
   "cell_type": "code",
   "execution_count": 4,
   "metadata": {
    "ExecuteTime": {
     "end_time": "2020-11-25T12:42:12.055638Z",
     "start_time": "2020-11-25T12:42:12.044567Z"
    }
   },
   "outputs": [],
   "source": [
    "test_data.drop('id', axis=1, inplace=True)"
   ]
  },
  {
   "cell_type": "code",
   "execution_count": 5,
   "metadata": {
    "ExecuteTime": {
     "end_time": "2020-11-25T12:42:12.962459Z",
     "start_time": "2020-11-25T12:42:12.056535Z"
    }
   },
   "outputs": [],
   "source": [
    "train_m1 = pd.merge(train_data, user_data, on=[\"User-ID\"], how='left')\n",
    "train_m2 = pd.merge(train_m1, book_data, on=[\"ISBN\"], how='left')\n",
    "\n",
    "test_m1 = pd.merge(test_data, user_data, on=[\"User-ID\"], how='left')\n",
    "test_m2 = pd.merge(test_m1, book_data, on=[\"ISBN\"], how='left')"
   ]
  },
  {
   "cell_type": "code",
   "execution_count": 6,
   "metadata": {
    "ExecuteTime": {
     "end_time": "2020-11-25T12:42:12.978146Z",
     "start_time": "2020-11-25T12:42:12.963166Z"
    }
   },
   "outputs": [
    {
     "data": {
      "text/html": [
       "<div>\n",
       "<style scoped>\n",
       "    .dataframe tbody tr th:only-of-type {\n",
       "        vertical-align: middle;\n",
       "    }\n",
       "\n",
       "    .dataframe tbody tr th {\n",
       "        vertical-align: top;\n",
       "    }\n",
       "\n",
       "    .dataframe thead th {\n",
       "        text-align: right;\n",
       "    }\n",
       "</style>\n",
       "<table border=\"1\" class=\"dataframe\">\n",
       "  <thead>\n",
       "    <tr style=\"text-align: right;\">\n",
       "      <th></th>\n",
       "      <th>User-ID</th>\n",
       "      <th>ISBN</th>\n",
       "      <th>Book-Rating</th>\n",
       "      <th>Location</th>\n",
       "      <th>Age</th>\n",
       "      <th>Book-Title</th>\n",
       "      <th>Book-Author</th>\n",
       "      <th>Year-Of-Publication</th>\n",
       "      <th>Publisher</th>\n",
       "    </tr>\n",
       "  </thead>\n",
       "  <tbody>\n",
       "    <tr>\n",
       "      <th>0</th>\n",
       "      <td>8</td>\n",
       "      <td>0002005018</td>\n",
       "      <td>5</td>\n",
       "      <td>timmins, ontario, canada</td>\n",
       "      <td>NaN</td>\n",
       "      <td>Clara Callan</td>\n",
       "      <td>Richard Bruce Wright</td>\n",
       "      <td>2001</td>\n",
       "      <td>HarperFlamingo Canada</td>\n",
       "    </tr>\n",
       "    <tr>\n",
       "      <th>1</th>\n",
       "      <td>8</td>\n",
       "      <td>0374157065</td>\n",
       "      <td>0</td>\n",
       "      <td>timmins, ontario, canada</td>\n",
       "      <td>NaN</td>\n",
       "      <td>Flu: The Story of the Great Influenza Pandemic...</td>\n",
       "      <td>Gina Bari Kolata</td>\n",
       "      <td>1999</td>\n",
       "      <td>Farrar Straus Giroux</td>\n",
       "    </tr>\n",
       "    <tr>\n",
       "      <th>2</th>\n",
       "      <td>8</td>\n",
       "      <td>0393045218</td>\n",
       "      <td>0</td>\n",
       "      <td>timmins, ontario, canada</td>\n",
       "      <td>NaN</td>\n",
       "      <td>The Mummies of Urumchi</td>\n",
       "      <td>E. J. W. Barber</td>\n",
       "      <td>1999</td>\n",
       "      <td>W. W. Norton &amp; Company</td>\n",
       "    </tr>\n",
       "    <tr>\n",
       "      <th>3</th>\n",
       "      <td>8</td>\n",
       "      <td>0399135782</td>\n",
       "      <td>0</td>\n",
       "      <td>timmins, ontario, canada</td>\n",
       "      <td>NaN</td>\n",
       "      <td>The Kitchen God's Wife</td>\n",
       "      <td>Amy Tan</td>\n",
       "      <td>1991</td>\n",
       "      <td>Putnam Pub Group</td>\n",
       "    </tr>\n",
       "    <tr>\n",
       "      <th>4</th>\n",
       "      <td>8</td>\n",
       "      <td>0425176428</td>\n",
       "      <td>0</td>\n",
       "      <td>timmins, ontario, canada</td>\n",
       "      <td>NaN</td>\n",
       "      <td>What If?: The World's Foremost Military Histor...</td>\n",
       "      <td>Robert Cowley</td>\n",
       "      <td>2000</td>\n",
       "      <td>Berkley Publishing Group</td>\n",
       "    </tr>\n",
       "  </tbody>\n",
       "</table>\n",
       "</div>"
      ],
      "text/plain": [
       "   User-ID        ISBN  Book-Rating                  Location  Age  \\\n",
       "0        8  0002005018            5  timmins, ontario, canada  NaN   \n",
       "1        8  0374157065            0  timmins, ontario, canada  NaN   \n",
       "2        8  0393045218            0  timmins, ontario, canada  NaN   \n",
       "3        8  0399135782            0  timmins, ontario, canada  NaN   \n",
       "4        8  0425176428            0  timmins, ontario, canada  NaN   \n",
       "\n",
       "                                          Book-Title           Book-Author  \\\n",
       "0                                       Clara Callan  Richard Bruce Wright   \n",
       "1  Flu: The Story of the Great Influenza Pandemic...      Gina Bari Kolata   \n",
       "2                             The Mummies of Urumchi       E. J. W. Barber   \n",
       "3                             The Kitchen God's Wife               Amy Tan   \n",
       "4  What If?: The World's Foremost Military Histor...         Robert Cowley   \n",
       "\n",
       "  Year-Of-Publication                 Publisher  \n",
       "0                2001     HarperFlamingo Canada  \n",
       "1                1999      Farrar Straus Giroux  \n",
       "2                1999    W. W. Norton & Company  \n",
       "3                1991          Putnam Pub Group  \n",
       "4                2000  Berkley Publishing Group  "
      ]
     },
     "execution_count": 6,
     "metadata": {},
     "output_type": "execute_result"
    }
   ],
   "source": [
    "train_m2.head()"
   ]
  },
  {
   "cell_type": "code",
   "execution_count": 7,
   "metadata": {
    "ExecuteTime": {
     "end_time": "2020-11-25T12:42:12.991112Z",
     "start_time": "2020-11-25T12:42:12.980141Z"
    }
   },
   "outputs": [
    {
     "data": {
      "text/html": [
       "<div>\n",
       "<style scoped>\n",
       "    .dataframe tbody tr th:only-of-type {\n",
       "        vertical-align: middle;\n",
       "    }\n",
       "\n",
       "    .dataframe tbody tr th {\n",
       "        vertical-align: top;\n",
       "    }\n",
       "\n",
       "    .dataframe thead th {\n",
       "        text-align: right;\n",
       "    }\n",
       "</style>\n",
       "<table border=\"1\" class=\"dataframe\">\n",
       "  <thead>\n",
       "    <tr style=\"text-align: right;\">\n",
       "      <th></th>\n",
       "      <th>User-ID</th>\n",
       "      <th>ISBN</th>\n",
       "      <th>Location</th>\n",
       "      <th>Age</th>\n",
       "      <th>Book-Title</th>\n",
       "      <th>Book-Author</th>\n",
       "      <th>Year-Of-Publication</th>\n",
       "      <th>Publisher</th>\n",
       "    </tr>\n",
       "  </thead>\n",
       "  <tbody>\n",
       "    <tr>\n",
       "      <th>0</th>\n",
       "      <td>8</td>\n",
       "      <td>0060973129</td>\n",
       "      <td>timmins, ontario, canada</td>\n",
       "      <td>NaN</td>\n",
       "      <td>Decision in Normandy</td>\n",
       "      <td>Carlo D'Este</td>\n",
       "      <td>1991</td>\n",
       "      <td>HarperPerennial</td>\n",
       "    </tr>\n",
       "    <tr>\n",
       "      <th>1</th>\n",
       "      <td>8</td>\n",
       "      <td>0671870432</td>\n",
       "      <td>timmins, ontario, canada</td>\n",
       "      <td>NaN</td>\n",
       "      <td>PLEADING GUILTY</td>\n",
       "      <td>Scott Turow</td>\n",
       "      <td>1993</td>\n",
       "      <td>Audioworks</td>\n",
       "    </tr>\n",
       "    <tr>\n",
       "      <th>2</th>\n",
       "      <td>8</td>\n",
       "      <td>074322678X</td>\n",
       "      <td>timmins, ontario, canada</td>\n",
       "      <td>NaN</td>\n",
       "      <td>Where You'll Find Me: And Other Stories</td>\n",
       "      <td>Ann Beattie</td>\n",
       "      <td>2002</td>\n",
       "      <td>Scribner</td>\n",
       "    </tr>\n",
       "    <tr>\n",
       "      <th>3</th>\n",
       "      <td>8</td>\n",
       "      <td>0771074670</td>\n",
       "      <td>timmins, ontario, canada</td>\n",
       "      <td>NaN</td>\n",
       "      <td>Nights Below Station Street</td>\n",
       "      <td>David Adams Richards</td>\n",
       "      <td>1988</td>\n",
       "      <td>Emblem Editions</td>\n",
       "    </tr>\n",
       "    <tr>\n",
       "      <th>4</th>\n",
       "      <td>14</td>\n",
       "      <td>0689821166</td>\n",
       "      <td>mediapolis, iowa, usa</td>\n",
       "      <td>NaN</td>\n",
       "      <td>Flood : Mississippi 1927</td>\n",
       "      <td>Kathleen Duey</td>\n",
       "      <td>1998</td>\n",
       "      <td>Aladdin</td>\n",
       "    </tr>\n",
       "  </tbody>\n",
       "</table>\n",
       "</div>"
      ],
      "text/plain": [
       "   User-ID        ISBN                  Location  Age  \\\n",
       "0        8  0060973129  timmins, ontario, canada  NaN   \n",
       "1        8  0671870432  timmins, ontario, canada  NaN   \n",
       "2        8  074322678X  timmins, ontario, canada  NaN   \n",
       "3        8  0771074670  timmins, ontario, canada  NaN   \n",
       "4       14  0689821166     mediapolis, iowa, usa  NaN   \n",
       "\n",
       "                                Book-Title           Book-Author  \\\n",
       "0                     Decision in Normandy          Carlo D'Este   \n",
       "1                          PLEADING GUILTY           Scott Turow   \n",
       "2  Where You'll Find Me: And Other Stories           Ann Beattie   \n",
       "3              Nights Below Station Street  David Adams Richards   \n",
       "4                 Flood : Mississippi 1927         Kathleen Duey   \n",
       "\n",
       "  Year-Of-Publication        Publisher  \n",
       "0                1991  HarperPerennial  \n",
       "1                1993       Audioworks  \n",
       "2                2002         Scribner  \n",
       "3                1988  Emblem Editions  \n",
       "4                1998          Aladdin  "
      ]
     },
     "execution_count": 7,
     "metadata": {},
     "output_type": "execute_result"
    }
   ],
   "source": [
    "test_m2.head()"
   ]
  },
  {
   "cell_type": "code",
   "execution_count": 8,
   "metadata": {
    "ExecuteTime": {
     "end_time": "2020-11-25T12:42:13.294474Z",
     "start_time": "2020-11-25T12:42:12.992108Z"
    }
   },
   "outputs": [
    {
     "name": "stdout",
     "output_type": "stream",
     "text": [
      "<class 'pandas.core.frame.DataFrame'>\n",
      "Int64Index: 737864 entries, 0 to 737863\n",
      "Data columns (total 9 columns):\n",
      " #   Column               Non-Null Count   Dtype  \n",
      "---  ------               --------------   -----  \n",
      " 0   User-ID              737864 non-null  int64  \n",
      " 1   ISBN                 737864 non-null  object \n",
      " 2   Book-Rating          737864 non-null  int64  \n",
      " 3   Location             737864 non-null  object \n",
      " 4   Age                  551760 non-null  float64\n",
      " 5   Book-Title           737864 non-null  object \n",
      " 6   Book-Author          737863 non-null  object \n",
      " 7   Year-Of-Publication  737864 non-null  object \n",
      " 8   Publisher            737863 non-null  object \n",
      "dtypes: float64(1), int64(2), object(6)\n",
      "memory usage: 56.3+ MB\n"
     ]
    }
   ],
   "source": [
    "train_m2.info()"
   ]
  },
  {
   "cell_type": "code",
   "execution_count": 9,
   "metadata": {
    "ExecuteTime": {
     "end_time": "2020-11-25T12:42:13.386229Z",
     "start_time": "2020-11-25T12:42:13.295445Z"
    }
   },
   "outputs": [
    {
     "name": "stdout",
     "output_type": "stream",
     "text": [
      "<class 'pandas.core.frame.DataFrame'>\n",
      "Int64Index: 206235 entries, 0 to 206234\n",
      "Data columns (total 8 columns):\n",
      " #   Column               Non-Null Count   Dtype  \n",
      "---  ------               --------------   -----  \n",
      " 0   User-ID              206235 non-null  int64  \n",
      " 1   ISBN                 206235 non-null  object \n",
      " 2   Location             206235 non-null  object \n",
      " 3   Age                  150807 non-null  float64\n",
      " 4   Book-Title           206235 non-null  object \n",
      " 5   Book-Author          206235 non-null  object \n",
      " 6   Year-Of-Publication  206235 non-null  object \n",
      " 7   Publisher            206234 non-null  object \n",
      "dtypes: float64(1), int64(1), object(6)\n",
      "memory usage: 14.2+ MB\n"
     ]
    }
   ],
   "source": [
    "test_m2.info()"
   ]
  },
  {
   "cell_type": "code",
   "execution_count": 10,
   "metadata": {
    "ExecuteTime": {
     "end_time": "2020-11-25T12:42:13.398210Z",
     "start_time": "2020-11-25T12:42:13.387200Z"
    }
   },
   "outputs": [
    {
     "data": {
      "text/plain": [
       "array([ nan,  37.,  42.,  62.,  34.,  28.,  27.,  38.,  15.,  41.,  16.,\n",
       "        24.,  20.,  25.,  63.,  35.,  23.,  17.,  44.,  29.,  48.,  31.,\n",
       "        40.,  51.,  26.,  21.,  14.,  36.,  22.,  33.,  50.,  19.,  49.,\n",
       "        46.,  18.,  53.,   9.,  13.,  30.,  32.,  43.,  74.,  47.,  61.,\n",
       "        60.,   3.,  55.,  45.,  66.,  59.,  71.,  57.,  52., 103.,  68.,\n",
       "        12.,  65.,  77.,  39.,   2.,  69.,  70.,  56.,  54.,  11.,   8.,\n",
       "       104.,  64., 239.,  58.,  73.,   1., 151., 201.,  67.,  72.,  76.,\n",
       "         0., 128., 101., 141.,  78.,  75.,  96., 124., 209., 212.,  80.,\n",
       "        81.,  10., 136.,  84.,  79.,   7.,  83.,  82., 108.,   4.,  92.,\n",
       "        85.,  97., 168.,   5., 148.,  90., 152., 116., 229., 100.,  99.,\n",
       "        93., 228., 107., 146., 204.,   6., 140.])"
      ]
     },
     "execution_count": 10,
     "metadata": {},
     "output_type": "execute_result"
    }
   ],
   "source": [
    "train_m2['Age'].unique()"
   ]
  },
  {
   "cell_type": "code",
   "execution_count": 11,
   "metadata": {
    "ExecuteTime": {
     "end_time": "2020-11-25T12:42:13.406700Z",
     "start_time": "2020-11-25T12:42:13.399169Z"
    }
   },
   "outputs": [
    {
     "data": {
      "text/plain": [
       "array([ nan,  17.,  37.,  42.,  47.,  38.,  62.,  34.,  28.,  27.,  15.,\n",
       "        20.,  41.,  16.,  24.,  25.,  63.,  45.,  35.,  23.,  44.,  29.,\n",
       "        48.,  31.,  40.,  51.,  26.,  21.,  14.,  55.,  36.,  22.,  33.,\n",
       "        43.,  50.,  52.,  19.,  49.,  46.,  18.,  53.,  32.,   9.,  13.,\n",
       "        30.,  56.,  74.,  54.,  61.,  60.,   3.,  64.,  66.,  59.,  71.,\n",
       "        57., 103.,  11.,  68.,  12.,  65.,  77.,  39.,  58.,   2.,  69.,\n",
       "        70.,   8.,  73., 104.,  72., 239.,   1., 151., 201.,  67.,  76.,\n",
       "         0., 123., 128., 101., 141.,  78.,  75.,  96., 124.,  81., 209.,\n",
       "       212.,  80.,  10., 136.,  84.,  79.,  89.,   7.,  83.,  82., 108.,\n",
       "         4.,  92.,  85., 147.,  97., 168.,   5., 148.,  90., 152., 116.,\n",
       "       229., 100., 138.,  99.,  93., 228., 107., 146., 204.,  94.,   6.,\n",
       "       200., 140.,  86.])"
      ]
     },
     "execution_count": 11,
     "metadata": {},
     "output_type": "execute_result"
    }
   ],
   "source": [
    "test_m2['Age'].unique()"
   ]
  },
  {
   "cell_type": "code",
   "execution_count": 12,
   "metadata": {
    "ExecuteTime": {
     "end_time": "2020-11-25T12:42:14.528703Z",
     "start_time": "2020-11-25T12:42:13.408655Z"
    }
   },
   "outputs": [],
   "source": [
    "train_m2['Loc0'] = train_m2['Location'].apply(lambda x: x.split(',')[0].strip())\n",
    "train_m2['Loc1'] = train_m2['Location'].apply(lambda x: x.split(',')[1].strip())\n",
    "train_m2['Loc2'] = train_m2['Location'].apply(lambda x: x.split(',')[2].strip())\n",
    "\n",
    "test_m2['Loc0'] = test_m2['Location'].apply(lambda x: x.split(',')[0].strip())\n",
    "test_m2['Loc1'] = test_m2['Location'].apply(lambda x: x.split(',')[1].strip())\n",
    "test_m2['Loc2'] = test_m2['Location'].apply(lambda x: x.split(',')[2].strip())"
   ]
  },
  {
   "cell_type": "code",
   "execution_count": 13,
   "metadata": {
    "ExecuteTime": {
     "end_time": "2020-11-25T12:42:15.004788Z",
     "start_time": "2020-11-25T12:42:14.529656Z"
    }
   },
   "outputs": [],
   "source": [
    "data = pd.concat([train_m2, test_m2], axis=0, ignore_index=True)"
   ]
  },
  {
   "cell_type": "code",
   "execution_count": 14,
   "metadata": {
    "ExecuteTime": {
     "end_time": "2020-11-25T12:42:15.091874Z",
     "start_time": "2020-11-25T12:42:15.005785Z"
    }
   },
   "outputs": [],
   "source": [
    "data['Book-Author'].fillna('', inplace=True)\n",
    "data['Publisher'].fillna('', inplace=True)"
   ]
  },
  {
   "cell_type": "code",
   "execution_count": 15,
   "metadata": {
    "ExecuteTime": {
     "end_time": "2020-11-25T12:42:18.211411Z",
     "start_time": "2020-11-25T12:42:15.093552Z"
    }
   },
   "outputs": [
    {
     "name": "stdout",
     "output_type": "stream",
     "text": [
      "User-ID\n",
      "Loc0\n",
      "Loc1\n",
      "Loc2\n",
      "Book-Author\n",
      "Publisher\n"
     ]
    }
   ],
   "source": [
    "def low_freq_encode(df, cat_cols, freq=3):\n",
    "    for i in cat_cols:\n",
    "        print(i)\n",
    "        name_dict = df[i].value_counts().to_dict()\n",
    "        df['{}_count'.format(i)] = df[i].apply(lambda x: 0 if name_dict[x] < freq else name_dict[x])\n",
    "        df['{}_count'.format(i)] = df['{}_count'.format(i)].astype('category')\n",
    "    return df\n",
    "\n",
    "cat_cols = ['User-ID', 'Loc0', 'Loc1', 'Loc2', 'Book-Author', 'Publisher']\n",
    "data = low_freq_encode(data, cat_cols)\n",
    "data.drop(cat_cols, axis=1, inplace=True)\n",
    "\n",
    "cat_cols = [i + '_count' for i in ['User-ID', 'Loc0', 'Loc1', 'Loc2', 'Book-Author', 'Publisher']]\n",
    "\n",
    "data.drop(['Book-Title', 'ISBN', 'Location', 'Year-Of-Publication'], axis=1, inplace=True)"
   ]
  },
  {
   "cell_type": "code",
   "execution_count": 16,
   "metadata": {
    "ExecuteTime": {
     "end_time": "2020-11-25T15:26:34.312208Z",
     "start_time": "2020-11-25T12:42:18.212445Z"
    }
   },
   "outputs": [
    {
     "name": "stdout",
     "output_type": "stream",
     "text": [
      "0:\tlearn: 2.6549465\ttest: 2.6387564\tbest: 2.6387564 (0)\ttotal: 640ms\tremaining: 3h 54m 44s\n",
      "500:\tlearn: 2.3988135\ttest: 2.3524772\tbest: 2.3524772 (500)\ttotal: 6m 32s\tremaining: 4h 40m 56s\n",
      "1000:\tlearn: 2.2514161\ttest: 2.1706430\tbest: 2.1706430 (1000)\ttotal: 14m 9s\tremaining: 4h 57m 1s\n",
      "1500:\tlearn: 2.2001665\ttest: 2.1081019\tbest: 2.1081019 (1500)\ttotal: 21m 43s\tremaining: 4h 56m 47s\n",
      "2000:\tlearn: 2.1780944\ttest: 2.0864016\tbest: 2.0864016 (2000)\ttotal: 29m 1s\tremaining: 4h 50m 4s\n",
      "2500:\tlearn: 2.1643981\ttest: 2.0752722\tbest: 2.0752722 (2500)\ttotal: 35m 34s\tremaining: 4h 37m 21s\n",
      "3000:\tlearn: 2.1547646\ttest: 2.0686306\tbest: 2.0686306 (3000)\ttotal: 41m 54s\tremaining: 4h 25m 21s\n",
      "3500:\tlearn: 2.1464806\ttest: 2.0636672\tbest: 2.0636666 (3499)\ttotal: 48m 8s\tremaining: 4h 14m 21s\n",
      "4000:\tlearn: 2.1400218\ttest: 2.0605410\tbest: 2.0605406 (3999)\ttotal: 54m 14s\tremaining: 4h 3m 58s\n",
      "4500:\tlearn: 2.1349047\ttest: 2.0585626\tbest: 2.0585626 (4500)\ttotal: 1h 10s\tremaining: 3h 53m 55s\n",
      "5000:\tlearn: 2.1307606\ttest: 2.0573238\tbest: 2.0573229 (4999)\ttotal: 1h 5m 57s\tremaining: 3h 44m 12s\n",
      "5500:\tlearn: 2.1270478\ttest: 2.0564359\tbest: 2.0564359 (5500)\ttotal: 1h 11m 40s\tremaining: 3h 34m 59s\n",
      "6000:\tlearn: 2.1239167\ttest: 2.0558118\tbest: 2.0558118 (6000)\ttotal: 1h 17m 28s\tremaining: 3h 26m 32s\n",
      "6500:\tlearn: 2.1211719\ttest: 2.0553119\tbest: 2.0553085 (6484)\ttotal: 1h 23m 11s\tremaining: 3h 18m 20s\n",
      "7000:\tlearn: 2.1184046\ttest: 2.0549057\tbest: 2.0549047 (6997)\ttotal: 1h 28m 51s\tremaining: 3h 10m 22s\n",
      "7500:\tlearn: 2.1158783\ttest: 2.0546124\tbest: 2.0546124 (7500)\ttotal: 1h 34m 29s\tremaining: 3h 2m 38s\n",
      "8000:\tlearn: 2.1134240\ttest: 2.0543568\tbest: 2.0543549 (7999)\ttotal: 1h 40m 10s\tremaining: 2h 55m 15s\n",
      "8500:\tlearn: 2.1112495\ttest: 2.0542143\tbest: 2.0542069 (8481)\ttotal: 1h 45m 49s\tremaining: 2h 48m 3s\n",
      "9000:\tlearn: 2.1088842\ttest: 2.0539363\tbest: 2.0539325 (8986)\ttotal: 1h 51m 25s\tremaining: 2h 40m 54s\n",
      "9500:\tlearn: 2.1065712\ttest: 2.0537868\tbest: 2.0537836 (9497)\ttotal: 1h 56m 59s\tremaining: 2h 33m 53s\n",
      "10000:\tlearn: 2.1044096\ttest: 2.0537175\tbest: 2.0537175 (10000)\ttotal: 2h 2m 31s\tremaining: 2h 26m 59s\n",
      "10500:\tlearn: 2.1024956\ttest: 2.0536282\tbest: 2.0536189 (10401)\ttotal: 2h 8m 6s\tremaining: 2h 20m 16s\n",
      "11000:\tlearn: 2.1004885\ttest: 2.0535733\tbest: 2.0535541 (10898)\ttotal: 2h 13m 36s\tremaining: 2h 13m 34s\n",
      "11500:\tlearn: 2.0984987\ttest: 2.0534715\tbest: 2.0534715 (11500)\ttotal: 2h 19m 5s\tremaining: 2h 6m 58s\n",
      "12000:\tlearn: 2.0964864\ttest: 2.0534497\tbest: 2.0534336 (11854)\ttotal: 2h 24m 42s\tremaining: 2h 34s\n",
      "12500:\tlearn: 2.0944386\ttest: 2.0533552\tbest: 2.0533504 (12470)\ttotal: 2h 30m 12s\tremaining: 1h 54m 8s\n",
      "13000:\tlearn: 2.0925478\ttest: 2.0533624\tbest: 2.0533482 (12856)\ttotal: 2h 35m 41s\tremaining: 1h 47m 46s\n",
      "13500:\tlearn: 2.0907065\ttest: 2.0534033\tbest: 2.0533440 (13202)\ttotal: 2h 41m 8s\tremaining: 1h 41m 26s\n",
      "bestTest = 2.053344\n",
      "bestIteration = 13202\n",
      "Shrink model to first 13203 iterations.\n"
     ]
    },
    {
     "ename": "NameError",
     "evalue": "name 'test_x' is not defined",
     "output_type": "error",
     "traceback": [
      "\u001b[1;31m---------------------------------------------------------------------------\u001b[0m",
      "\u001b[1;31mNameError\u001b[0m                                 Traceback (most recent call last)",
      "\u001b[1;32m<ipython-input-16-de6d7ba73f50>\u001b[0m in \u001b[0;36m<module>\u001b[1;34m\u001b[0m\n\u001b[0;32m     27\u001b[0m     \u001b[0md\u001b[0m\u001b[1;33m.\u001b[0m\u001b[0mto_csv\u001b[0m\u001b[1;33m(\u001b[0m\u001b[1;34m\"../sub/submission_{0}_{1}.csv\"\u001b[0m\u001b[1;33m.\u001b[0m\u001b[0mformat\u001b[0m\u001b[1;33m(\u001b[0m\u001b[0mstr\u001b[0m\u001b[1;33m(\u001b[0m\u001b[0miterations\u001b[0m\u001b[1;33m)\u001b[0m\u001b[1;33m,\u001b[0m\u001b[0mstr\u001b[0m\u001b[1;33m(\u001b[0m\u001b[0mdepth\u001b[0m\u001b[1;33m)\u001b[0m\u001b[1;33m)\u001b[0m\u001b[1;33m,\u001b[0m \u001b[0mheader\u001b[0m\u001b[1;33m=\u001b[0m\u001b[1;32mNone\u001b[0m\u001b[1;33m,\u001b[0m \u001b[0mindex\u001b[0m\u001b[1;33m=\u001b[0m\u001b[1;36m0\u001b[0m\u001b[1;33m)\u001b[0m\u001b[1;33m\u001b[0m\u001b[1;33m\u001b[0m\u001b[0m\n\u001b[0;32m     28\u001b[0m \u001b[1;33m\u001b[0m\u001b[0m\n\u001b[1;32m---> 29\u001b[1;33m \u001b[0mtrain\u001b[0m\u001b[1;33m(\u001b[0m\u001b[1;33m)\u001b[0m\u001b[1;33m\u001b[0m\u001b[1;33m\u001b[0m\u001b[0m\n\u001b[0m",
      "\u001b[1;32m<ipython-input-16-de6d7ba73f50>\u001b[0m in \u001b[0;36mtrain\u001b[1;34m(iterations, depth)\u001b[0m\n\u001b[0;32m     22\u001b[0m     \u001b[0mmodel\u001b[0m\u001b[1;33m.\u001b[0m\u001b[0mfit\u001b[0m\u001b[1;33m(\u001b[0m\u001b[0mx_train\u001b[0m\u001b[1;33m,\u001b[0m\u001b[0my_train\u001b[0m\u001b[1;33m,\u001b[0m \u001b[0meval_set\u001b[0m\u001b[1;33m=\u001b[0m\u001b[1;33m(\u001b[0m\u001b[0mx_valid\u001b[0m\u001b[1;33m,\u001b[0m \u001b[0my_valid\u001b[0m\u001b[1;33m)\u001b[0m\u001b[1;33m,\u001b[0m \u001b[0mearly_stopping_rounds\u001b[0m\u001b[1;33m=\u001b[0m\u001b[1;36m500\u001b[0m\u001b[1;33m,\u001b[0m \u001b[0mverbose\u001b[0m\u001b[1;33m=\u001b[0m\u001b[1;36m500\u001b[0m\u001b[1;33m,\u001b[0m \u001b[0mcat_features\u001b[0m\u001b[1;33m=\u001b[0m\u001b[0mcat_cols\u001b[0m\u001b[1;33m)\u001b[0m\u001b[1;33m\u001b[0m\u001b[1;33m\u001b[0m\u001b[0m\n\u001b[0;32m     23\u001b[0m \u001b[1;33m\u001b[0m\u001b[0m\n\u001b[1;32m---> 24\u001b[1;33m     \u001b[0mresult\u001b[0m \u001b[1;33m=\u001b[0m \u001b[0mmodel\u001b[0m\u001b[1;33m.\u001b[0m\u001b[0mpredict\u001b[0m\u001b[1;33m(\u001b[0m\u001b[0mtest_x\u001b[0m\u001b[1;33m)\u001b[0m\u001b[1;33m\u001b[0m\u001b[1;33m\u001b[0m\u001b[0m\n\u001b[0m\u001b[0;32m     25\u001b[0m     \u001b[0md\u001b[0m \u001b[1;33m=\u001b[0m \u001b[1;33m{\u001b[0m\u001b[1;34m\"index\"\u001b[0m\u001b[1;33m:\u001b[0m\u001b[0mrange\u001b[0m\u001b[1;33m(\u001b[0m\u001b[0mlen\u001b[0m\u001b[1;33m(\u001b[0m\u001b[0mresult\u001b[0m\u001b[1;33m)\u001b[0m\u001b[1;33m)\u001b[0m\u001b[1;33m,\u001b[0m\u001b[1;34m\"score\"\u001b[0m\u001b[1;33m:\u001b[0m\u001b[0mresult\u001b[0m\u001b[1;33m}\u001b[0m\u001b[1;33m\u001b[0m\u001b[1;33m\u001b[0m\u001b[0m\n\u001b[0;32m     26\u001b[0m     \u001b[0md\u001b[0m \u001b[1;33m=\u001b[0m \u001b[0mpd\u001b[0m\u001b[1;33m.\u001b[0m\u001b[0mDataFrame\u001b[0m\u001b[1;33m(\u001b[0m\u001b[0md\u001b[0m\u001b[1;33m)\u001b[0m\u001b[1;33m\u001b[0m\u001b[1;33m\u001b[0m\u001b[0m\n",
      "\u001b[1;31mNameError\u001b[0m: name 'test_x' is not defined"
     ]
    }
   ],
   "source": [
    "train = data[data['Book-Rating'].notnull()]\n",
    "test = data[data['Book-Rating'].isnull()]\n",
    "\n",
    "cols = [i for i in train.columns if i not in ['Book-Rating']]\n",
    "y = train['Book-Rating']\n",
    "train = train[cols]\n",
    "test = test[cols]\n",
    "\n",
    "x_train, x_valid, y_train, y_valid = train_test_split(train, y, test_size=0.1, random_state=2200)\n",
    "\n",
    "def train(iterations=22000, depth=10):\n",
    "    model = CatBoostRegressor(\n",
    "        iterations=iterations, \n",
    "        learning_rate=0.03,\n",
    "        depth=depth,\n",
    "        l2_leaf_reg=3,\n",
    "        loss_function='MAE',\n",
    "        eval_metric='MAE',\n",
    "        random_seed=2200,\n",
    "        task_type=\"GPU\"\n",
    "    )\n",
    "    model.fit(x_train,y_train, eval_set=(x_valid, y_valid), early_stopping_rounds=500, verbose=500, cat_features=cat_cols)\n",
    "\n",
    "    result = model.predict(test_x)\n",
    "    d = {\"index\":range(len(result)),\"score\":result}\n",
    "    d = pd.DataFrame(d)\n",
    "    d.to_csv(\"../sub/submission_{0}_{1}.csv\".format(str(iterations),str(depth)), header=None, index=0)\n",
    "\n",
    "train()"
   ]
  },
  {
   "cell_type": "code",
   "execution_count": null,
   "metadata": {},
   "outputs": [],
   "source": []
  }
 ],
 "metadata": {
  "kernelspec": {
   "display_name": "Python 3",
   "language": "python",
   "name": "python3"
  },
  "language_info": {
   "codemirror_mode": {
    "name": "ipython",
    "version": 3
   },
   "file_extension": ".py",
   "mimetype": "text/x-python",
   "name": "python",
   "nbconvert_exporter": "python",
   "pygments_lexer": "ipython3",
   "version": "3.7.3"
  },
  "toc": {
   "base_numbering": 1,
   "nav_menu": {},
   "number_sections": true,
   "sideBar": true,
   "skip_h1_title": false,
   "title_cell": "Table of Contents",
   "title_sidebar": "Contents",
   "toc_cell": false,
   "toc_position": {},
   "toc_section_display": true,
   "toc_window_display": false
  }
 },
 "nbformat": 4,
 "nbformat_minor": 4
}
