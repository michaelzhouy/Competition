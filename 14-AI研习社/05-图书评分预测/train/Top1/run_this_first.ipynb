{
 "cells": [
  {
   "cell_type": "code",
   "execution_count": 1,
   "metadata": {},
   "outputs": [],
   "source": [
    "import pandas as pd\n",
    "import numpy as np\n",
    "import matplotlib.pyplot as plt\n",
    "import seaborn as sns\n",
    "plt.rc('font', family='SimHei', size=20)\n",
    "book_path = \"./book.csv\"\n",
    "train_path =\"./train.csv\"\n",
    "test_path = \"./test.csv\"\n",
    "user_path = \"./user.csv\""
   ]
  },
  {
   "cell_type": "code",
   "execution_count": 2,
   "metadata": {},
   "outputs": [
    {
     "name": "stderr",
     "output_type": "stream",
     "text": [
      "C:\\ProgramData\\Anaconda3\\lib\\site-packages\\IPython\\core\\interactiveshell.py:3063: DtypeWarning: Columns (3) have mixed types.Specify dtype option on import or set low_memory=False.\n",
      "  interactivity=interactivity, compiler=compiler, result=result)\n"
     ]
    }
   ],
   "source": [
    "train_data = pd.read_csv(train_path)\n",
    "test_data = pd.read_csv(test_path)\n",
    "user_data = pd.read_csv(user_path,encoding='latin-1')\n",
    "book_data = pd.read_csv(book_path,encoding='latin-1')"
   ]
  },
  {
   "cell_type": "code",
   "execution_count": 26,
   "metadata": {},
   "outputs": [],
   "source": [
    "book_data.fillna(\"\",inplace=True)\n",
    "user_data.fillna(\"\",inplace=True)"
   ]
  },
  {
   "cell_type": "code",
   "execution_count": 27,
   "metadata": {},
   "outputs": [],
   "source": [
    "train_m1 = pd.merge(train_data,user_data,on=[\"User-ID\"],how='left')\n",
    "train_m2 = pd.merge(train_m1,book_data,on=[\"ISBN\"],how='left')\n",
    "test_m1 = pd.merge(test_data,user_data,on=[\"User-ID\"],how='left')\n",
    "test_m2 = pd.merge(test_m1,book_data,on=[\"ISBN\"],how='left')"
   ]
  },
  {
   "cell_type": "code",
   "execution_count": 31,
   "metadata": {},
   "outputs": [],
   "source": [
    "def process2new(df_raw,train=True):\n",
    "#     'User-ID', 'ISBN', 'Book-Rating', 'Location', 'Age', 'Book-Title',\n",
    "#        'Book-Author', 'Year-Of-Publication', 'Publisher'\n",
    "    loc0,loc1,loc2= list(zip(*map(lambda x:x.split(\",\"),list(df_raw[\"Location\"]))))\n",
    "    loc0 = [x.strip() for x in loc0]\n",
    "    loc1 = [x.strip() for x in loc1]\n",
    "    loc2 = [x.strip() for x in loc2]\n",
    "    \n",
    "    User_id = list(df_raw[\"User-ID\"])\n",
    "    ISBN = list(df_raw[\"ISBN\"])\n",
    "    Age = [int(x) if isinstance(x,float) else 0   for x in list(df_raw[\"Age\"])]\n",
    "    Book_Title = list(df_raw[\"Book-Title\"])\n",
    "    Book_Author = list(df_raw[\"Book-Author\"])\n",
    "    Year_Of_Publication = list(df_raw[\"Year-Of-Publication\"])\n",
    "    Publisher = list(df_raw[\"Publisher\"])\n",
    "    \n",
    "    res_d = {'User-ID':User_id, 'ISBN':ISBN, 'Loc0':loc0,'Loc1':loc1,\"Loc2\":loc2, 'Age':Age, 'Book-Title':Book_Title,\n",
    "      'Book-Author':Book_Author, 'Year-Of-Publication':Year_Of_Publication, 'Publisher':Publisher}  \n",
    "    if train:\n",
    "        Book_Rating = df_raw[\"Book-Rating\"]\n",
    "        res_d['Book-Rating'] = Book_Rating\n",
    "    pd_res = pd.DataFrame(res_d)    \n",
    "    return res_d,pd_res \n",
    "\n",
    "_,train_m2 = process2new(train_m2)\n",
    "_,test_m2 = process2new(test_m2,False)"
   ]
  },
  {
   "cell_type": "code",
   "execution_count": 32,
   "metadata": {},
   "outputs": [],
   "source": [
    "from collections import Counter\n",
    "import re"
   ]
  },
  {
   "cell_type": "code",
   "execution_count": 33,
   "metadata": {},
   "outputs": [],
   "source": [
    "User_ID = list(train_m2[\"User-ID\"]) + list(test_m2[\"User-ID\"])\n",
    "Loc0 = list(train_m2[\"Loc0\"]) + list(test_m2[\"Loc0\"])\n",
    "Loc1 = list(train_m2[\"Loc1\"]) + list(test_m2[\"Loc1\"])\n",
    "Loc2 = list(train_m2[\"Loc2\"]) + list(test_m2[\"Loc2\"])\n",
    "Age = list(train_m2[\"Age\"]) + list(test_m2[\"Age\"])\n",
    "Book_Title = list(train_m2[\"Book-Title\"]) + list(test_m2[\"Book-Title\"])\n",
    "Book_Author = list(train_m2[\"Book-Author\"]) + list(test_m2[\"Book-Author\"])\n",
    "Year_Of_Publication= list(train_m2[\"Year-Of-Publication\"]) + list(test_m2[\"Year-Of-Publication\"])\n",
    "Publisher = list(train_m2[\"Publisher\"]) + list(test_m2[\"Publisher\"])"
   ]
  },
  {
   "cell_type": "code",
   "execution_count": 34,
   "metadata": {},
   "outputs": [],
   "source": [
    "def count2dict(li):\n",
    "    d = {}\n",
    "    lii = Counter(li).most_common()\n",
    "    for (x,y) in  lii:\n",
    "        if y < 3:\n",
    "            continue\n",
    "        d[x] = len(d)\n",
    "    return d,lii \n",
    "def count2dictTitle(li):\n",
    "    d = {}\n",
    "    w = []\n",
    "    for x in li:\n",
    "        x = re.sub(\",|\\.|\\?|\\:|\\!|\\(|\\)|\\{|\\}|\\&|\\*\",\" \",x)\n",
    "        x = re.sub(\"\\d\",\" \",x)\n",
    "        x = x.split()\n",
    "        w += x\n",
    "    lii = Counter(w).most_common()\n",
    "    res = []\n",
    "    for (x,y) in lii:\n",
    "        if y < 3:\n",
    "            continue\n",
    "        else:\n",
    "            res.append((x,y))\n",
    "            d[x] = len(d)\n",
    "    return res,d\n",
    "def count2dictLoc(li):\n",
    "    d = {}\n",
    "    w = []\n",
    "    for x in li:\n",
    "        w += x.split(\",\") \n",
    "    lii = Counter(w).most_common()\n",
    "    for (x,y) in  lii:\n",
    "        xx = x.strip()\n",
    "        if xx is None or y < 3:\n",
    "            continue\n",
    "        d[x.strip()] = len(d)\n",
    "    return d,lii "
   ]
  },
  {
   "cell_type": "code",
   "execution_count": 35,
   "metadata": {},
   "outputs": [],
   "source": [
    "# Counter(Age)\n",
    "# train_m2\n",
    "UserDict,mcU = count2dict(User_ID)\n",
    "l0Dict,_ = count2dict(Loc0)\n",
    "l1Dict,_ = count2dict(Loc1)\n",
    "l2Dict,_ = count2dict(Loc2)\n",
    "Book_AuthorDict,mcB = count2dict(Book_Author)\n",
    "Year_Of_PublicationDict = count2dict(Year_Of_Publication)\n",
    "PublisherDict,mcP = count2dict(Publisher)\n",
    "freqs,Book_TitleDict = count2dictTitle(Book_Title)"
   ]
  },
  {
   "cell_type": "code",
   "execution_count": 36,
   "metadata": {},
   "outputs": [],
   "source": [
    "def trans2id(df_raw,train=True):\n",
    "    User_id = list(df_raw[\"User-ID\"])\n",
    "    ISBN = list(df_raw[\"ISBN\"])\n",
    "    Age = [int(x) for x in list(df_raw[\"Age\"])]\n",
    "    Book_Title = list(df_raw[\"Book-Title\"])\n",
    "    Book_Author = list(df_raw[\"Book-Author\"])\n",
    "    Year_Of_Publication = list(df_raw[\"Year-Of-Publication\"])\n",
    "    Publisher = list(df_raw[\"Publisher\"])\n",
    "    Loc0,Loc1,Loc2 = list(df_raw[\"Loc0\"]),list(df_raw[\"Loc1\"]),list(df_raw[\"Loc2\"])\n",
    "    \n",
    "    def h(x,d):\n",
    "        return [d[w]+1 if w in d else 0 for w in x]\n",
    "    \n",
    "    User_id_n = h(User_id,UserDict)\n",
    "    loc0_n = h(Loc0,l0Dict) \n",
    "    loc1_n = h(Loc1,l1Dict) \n",
    "    loc2_n = h(Loc2,l2Dict) \n",
    "    \n",
    "    Book_Author_n  = h(Book_Author,Book_AuthorDict)\n",
    "    Year_Of_Publication_n = h(Year_Of_Publication,Year_Of_PublicationDict)\n",
    "    Publisher_n = h(Publisher,PublisherDict)\n",
    "    \n",
    "    res_d = {'User-ID':User_id_n, 'ISBN':ISBN, 'Loc0':loc0_n,'Loc1':loc1_n,\"Loc2\":loc2_n, 'Age':Age, 'Book-Title':Book_Title,\n",
    "      'Book-Author':Book_Author_n, 'Year-Of-Publication':Year_Of_Publication_n, 'Publisher':Publisher_n} \n",
    "    print(len(User_id_n),len(ISBN),len(loc0_n),len(loc1_n),len(loc2_n),len(Age),len(Book_Title),len(Book_Author_n),len(Year_Of_Publication_n),len(Publisher_n))\n",
    "    if train:\n",
    "        Book_Rating = df_raw[\"Book-Rating\"]\n",
    "        res_d['Book-Rating'] = Book_Rating\n",
    "    pd_res = pd.DataFrame(res_d)    \n",
    "    return pd_res,res_d"
   ]
  },
  {
   "cell_type": "code",
   "execution_count": 37,
   "metadata": {},
   "outputs": [
    {
     "name": "stdout",
     "output_type": "stream",
     "text": [
      "737864 737864 737864 737864 737864 737864 737864 737864 737864 737864\n",
      "206235 206235 206235 206235 206235 206235 206235 206235 206235 206235\n"
     ]
    }
   ],
   "source": [
    "id_train,_ = trans2id(train_m2)\n",
    "id_test,_ = trans2id(test_m2,False)"
   ]
  },
  {
   "cell_type": "code",
   "execution_count": 38,
   "metadata": {},
   "outputs": [],
   "source": [
    "id_train.to_csv(\"./process_train.csv\",index=None)\n",
    "id_test.to_csv(\"./process_test.csv\",index=None)"
   ]
  }
 ],
 "metadata": {
  "kernelspec": {
   "display_name": "Python 3",
   "language": "python",
   "name": "python3"
  },
  "language_info": {
   "codemirror_mode": {
    "name": "ipython",
    "version": 3
   },
   "file_extension": ".py",
   "mimetype": "text/x-python",
   "name": "python",
   "nbconvert_exporter": "python",
   "pygments_lexer": "ipython3",
   "version": "3.7.3"
  }
 },
 "nbformat": 4,
 "nbformat_minor": 4
}
