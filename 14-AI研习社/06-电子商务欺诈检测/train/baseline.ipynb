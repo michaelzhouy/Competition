{
 "cells": [
  {
   "cell_type": "code",
   "execution_count": 1,
   "metadata": {
    "ExecuteTime": {
     "end_time": "2020-12-04T14:27:24.053629Z",
     "start_time": "2020-12-04T14:27:21.371857Z"
    }
   },
   "outputs": [],
   "source": [
    "import numpy as np\n",
    "import pandas as pd\n",
    "from sklearn.model_selection import train_test_split\n",
    "import lightgbm as lgb\n",
    "import gc\n",
    "import warnings\n",
    "warnings.filterwarnings('ignore')"
   ]
  },
  {
   "cell_type": "code",
   "execution_count": 2,
   "metadata": {
    "ExecuteTime": {
     "end_time": "2020-12-04T14:27:44.455753Z",
     "start_time": "2020-12-04T14:27:24.053629Z"
    }
   },
   "outputs": [],
   "source": [
    "train_transaction = pd.read_csv('../input/train_transaction.csv')\n",
    "test_transaction = pd.read_csv('../input/test_transaction.csv')"
   ]
  },
  {
   "cell_type": "code",
   "execution_count": 3,
   "metadata": {
    "ExecuteTime": {
     "end_time": "2020-12-04T14:27:44.513710Z",
     "start_time": "2020-12-04T14:27:44.455753Z"
    }
   },
   "outputs": [
    {
     "data": {
      "text/html": [
       "<div>\n",
       "<style scoped>\n",
       "    .dataframe tbody tr th:only-of-type {\n",
       "        vertical-align: middle;\n",
       "    }\n",
       "\n",
       "    .dataframe tbody tr th {\n",
       "        vertical-align: top;\n",
       "    }\n",
       "\n",
       "    .dataframe thead th {\n",
       "        text-align: right;\n",
       "    }\n",
       "</style>\n",
       "<table border=\"1\" class=\"dataframe\">\n",
       "  <thead>\n",
       "    <tr style=\"text-align: right;\">\n",
       "      <th></th>\n",
       "      <th>TransactionID</th>\n",
       "      <th>isFraud</th>\n",
       "      <th>TransactionDT</th>\n",
       "      <th>TransactionAmt</th>\n",
       "      <th>ProductCD</th>\n",
       "      <th>card1</th>\n",
       "      <th>card2</th>\n",
       "      <th>card3</th>\n",
       "      <th>card4</th>\n",
       "      <th>card5</th>\n",
       "      <th>...</th>\n",
       "      <th>V330</th>\n",
       "      <th>V331</th>\n",
       "      <th>V332</th>\n",
       "      <th>V333</th>\n",
       "      <th>V334</th>\n",
       "      <th>V335</th>\n",
       "      <th>V336</th>\n",
       "      <th>V337</th>\n",
       "      <th>V338</th>\n",
       "      <th>V339</th>\n",
       "    </tr>\n",
       "  </thead>\n",
       "  <tbody>\n",
       "    <tr>\n",
       "      <th>0</th>\n",
       "      <td>0</td>\n",
       "      <td>0</td>\n",
       "      <td>5069957</td>\n",
       "      <td>440.95</td>\n",
       "      <td>W</td>\n",
       "      <td>13809</td>\n",
       "      <td>583.0</td>\n",
       "      <td>150.0</td>\n",
       "      <td>visa</td>\n",
       "      <td>226.0</td>\n",
       "      <td>...</td>\n",
       "      <td>NaN</td>\n",
       "      <td>NaN</td>\n",
       "      <td>NaN</td>\n",
       "      <td>NaN</td>\n",
       "      <td>NaN</td>\n",
       "      <td>NaN</td>\n",
       "      <td>NaN</td>\n",
       "      <td>NaN</td>\n",
       "      <td>NaN</td>\n",
       "      <td>NaN</td>\n",
       "    </tr>\n",
       "    <tr>\n",
       "      <th>1</th>\n",
       "      <td>1</td>\n",
       "      <td>0</td>\n",
       "      <td>14773564</td>\n",
       "      <td>460.00</td>\n",
       "      <td>W</td>\n",
       "      <td>12695</td>\n",
       "      <td>490.0</td>\n",
       "      <td>150.0</td>\n",
       "      <td>visa</td>\n",
       "      <td>226.0</td>\n",
       "      <td>...</td>\n",
       "      <td>NaN</td>\n",
       "      <td>NaN</td>\n",
       "      <td>NaN</td>\n",
       "      <td>NaN</td>\n",
       "      <td>NaN</td>\n",
       "      <td>NaN</td>\n",
       "      <td>NaN</td>\n",
       "      <td>NaN</td>\n",
       "      <td>NaN</td>\n",
       "      <td>NaN</td>\n",
       "    </tr>\n",
       "    <tr>\n",
       "      <th>2</th>\n",
       "      <td>2</td>\n",
       "      <td>0</td>\n",
       "      <td>9207277</td>\n",
       "      <td>49.00</td>\n",
       "      <td>W</td>\n",
       "      <td>12695</td>\n",
       "      <td>490.0</td>\n",
       "      <td>150.0</td>\n",
       "      <td>visa</td>\n",
       "      <td>226.0</td>\n",
       "      <td>...</td>\n",
       "      <td>NaN</td>\n",
       "      <td>NaN</td>\n",
       "      <td>NaN</td>\n",
       "      <td>NaN</td>\n",
       "      <td>NaN</td>\n",
       "      <td>NaN</td>\n",
       "      <td>NaN</td>\n",
       "      <td>NaN</td>\n",
       "      <td>NaN</td>\n",
       "      <td>NaN</td>\n",
       "    </tr>\n",
       "    <tr>\n",
       "      <th>3</th>\n",
       "      <td>3</td>\n",
       "      <td>0</td>\n",
       "      <td>3874678</td>\n",
       "      <td>35.95</td>\n",
       "      <td>W</td>\n",
       "      <td>18132</td>\n",
       "      <td>567.0</td>\n",
       "      <td>150.0</td>\n",
       "      <td>mastercard</td>\n",
       "      <td>117.0</td>\n",
       "      <td>...</td>\n",
       "      <td>NaN</td>\n",
       "      <td>NaN</td>\n",
       "      <td>NaN</td>\n",
       "      <td>NaN</td>\n",
       "      <td>NaN</td>\n",
       "      <td>NaN</td>\n",
       "      <td>NaN</td>\n",
       "      <td>NaN</td>\n",
       "      <td>NaN</td>\n",
       "      <td>NaN</td>\n",
       "    </tr>\n",
       "    <tr>\n",
       "      <th>4</th>\n",
       "      <td>4</td>\n",
       "      <td>0</td>\n",
       "      <td>6225517</td>\n",
       "      <td>112.99</td>\n",
       "      <td>W</td>\n",
       "      <td>17399</td>\n",
       "      <td>111.0</td>\n",
       "      <td>150.0</td>\n",
       "      <td>mastercard</td>\n",
       "      <td>224.0</td>\n",
       "      <td>...</td>\n",
       "      <td>NaN</td>\n",
       "      <td>NaN</td>\n",
       "      <td>NaN</td>\n",
       "      <td>NaN</td>\n",
       "      <td>NaN</td>\n",
       "      <td>NaN</td>\n",
       "      <td>NaN</td>\n",
       "      <td>NaN</td>\n",
       "      <td>NaN</td>\n",
       "      <td>NaN</td>\n",
       "    </tr>\n",
       "  </tbody>\n",
       "</table>\n",
       "<p>5 rows × 394 columns</p>\n",
       "</div>"
      ],
      "text/plain": [
       "   TransactionID  isFraud  TransactionDT  TransactionAmt ProductCD  card1  \\\n",
       "0              0        0        5069957          440.95         W  13809   \n",
       "1              1        0       14773564          460.00         W  12695   \n",
       "2              2        0        9207277           49.00         W  12695   \n",
       "3              3        0        3874678           35.95         W  18132   \n",
       "4              4        0        6225517          112.99         W  17399   \n",
       "\n",
       "   card2  card3       card4  card5  ... V330  V331  V332  V333  V334 V335  \\\n",
       "0  583.0  150.0        visa  226.0  ...  NaN   NaN   NaN   NaN   NaN  NaN   \n",
       "1  490.0  150.0        visa  226.0  ...  NaN   NaN   NaN   NaN   NaN  NaN   \n",
       "2  490.0  150.0        visa  226.0  ...  NaN   NaN   NaN   NaN   NaN  NaN   \n",
       "3  567.0  150.0  mastercard  117.0  ...  NaN   NaN   NaN   NaN   NaN  NaN   \n",
       "4  111.0  150.0  mastercard  224.0  ...  NaN   NaN   NaN   NaN   NaN  NaN   \n",
       "\n",
       "  V336  V337  V338  V339  \n",
       "0  NaN   NaN   NaN   NaN  \n",
       "1  NaN   NaN   NaN   NaN  \n",
       "2  NaN   NaN   NaN   NaN  \n",
       "3  NaN   NaN   NaN   NaN  \n",
       "4  NaN   NaN   NaN   NaN  \n",
       "\n",
       "[5 rows x 394 columns]"
      ]
     },
     "execution_count": 3,
     "metadata": {},
     "output_type": "execute_result"
    }
   ],
   "source": [
    "train_transaction.head()"
   ]
  },
  {
   "cell_type": "code",
   "execution_count": 4,
   "metadata": {
    "ExecuteTime": {
     "end_time": "2020-12-04T14:27:44.547690Z",
     "start_time": "2020-12-04T14:27:44.516710Z"
    }
   },
   "outputs": [
    {
     "name": "stdout",
     "output_type": "stream",
     "text": [
      "<class 'pandas.core.frame.DataFrame'>\n",
      "RangeIndex: 472432 entries, 0 to 472431\n",
      "Columns: 394 entries, TransactionID to V339\n",
      "dtypes: float64(376), int64(4), object(14)\n",
      "memory usage: 1.4+ GB\n"
     ]
    }
   ],
   "source": [
    "train_transaction.info()"
   ]
  },
  {
   "cell_type": "code",
   "execution_count": 5,
   "metadata": {
    "ExecuteTime": {
     "end_time": "2020-12-04T14:27:44.575675Z",
     "start_time": "2020-12-04T14:27:44.550690Z"
    }
   },
   "outputs": [
    {
     "name": "stdout",
     "output_type": "stream",
     "text": [
      "<class 'pandas.core.frame.DataFrame'>\n",
      "RangeIndex: 118108 entries, 0 to 118107\n",
      "Columns: 393 entries, TransactionID to V339\n",
      "dtypes: float64(376), int64(3), object(14)\n",
      "memory usage: 354.1+ MB\n"
     ]
    }
   ],
   "source": [
    "test_transaction.info()"
   ]
  },
  {
   "cell_type": "code",
   "execution_count": 6,
   "metadata": {
    "ExecuteTime": {
     "end_time": "2020-12-04T14:27:45.671555Z",
     "start_time": "2020-12-04T14:27:44.580672Z"
    }
   },
   "outputs": [
    {
     "data": {
      "text/plain": [
       "125"
      ]
     },
     "execution_count": 6,
     "metadata": {},
     "output_type": "execute_result"
    }
   ],
   "source": [
    "train_transaction_num = train_transaction.select_dtypes(exclude=['object'])\n",
    "test_transaction_num = test_transaction.select_dtypes(exclude=['object'])\n",
    "del train_transaction, test_transaction\n",
    "gc.collect()"
   ]
  },
  {
   "cell_type": "code",
   "execution_count": 7,
   "metadata": {
    "ExecuteTime": {
     "end_time": "2020-12-04T14:37:35.668151Z",
     "start_time": "2020-12-04T14:27:45.674553Z"
    }
   },
   "outputs": [
    {
     "name": "stdout",
     "output_type": "stream",
     "text": [
      "Training until validation scores don't improve for 200 rounds\n",
      "[300]\ttraining's auc: 0.97499\tvalid_1's auc: 0.9412\n",
      "[600]\ttraining's auc: 0.989607\tvalid_1's auc: 0.949198\n",
      "[900]\ttraining's auc: 0.994745\tvalid_1's auc: 0.951356\n",
      "[1200]\ttraining's auc: 0.997136\tvalid_1's auc: 0.952414\n",
      "[1500]\ttraining's auc: 0.998371\tvalid_1's auc: 0.952847\n",
      "[1800]\ttraining's auc: 0.999055\tvalid_1's auc: 0.953045\n",
      "Early stopping, best iteration is:\n",
      "[1750]\ttraining's auc: 0.998984\tvalid_1's auc: 0.953101\n",
      "Evaluated only: auc\n"
     ]
    }
   ],
   "source": [
    "y = train_transaction_num['isFraud']\n",
    "train_transaction_num.drop(['isFraud', 'TransactionID'], axis=1, inplace=True)\n",
    "test_transaction_num.drop(['TransactionID'], axis=1, inplace=True)\n",
    "used_cols = train_transaction_num.columns\n",
    "test_transaction_num = test_transaction_num[used_cols]\n",
    "\n",
    "X_train, X_valid, y_train, y_valid = train_test_split(train_transaction_num, y, random_state=2020)\n",
    "\n",
    "dtrain = lgb.Dataset(X_train, y_train)\n",
    "dvalid = lgb.Dataset(X_valid, y_valid, reference=dtrain)\n",
    "params = {\n",
    "    'objective': 'binary',\n",
    "    'boosting': 'gbdt',\n",
    "    'metric': 'auc',\n",
    "    # 'metric': 'None',  # 用自定义评估函数是将metric设置为'None'\n",
    "    'learning_rate': 0.1,\n",
    "    'num_leaves': 31,\n",
    "    'lambda_l1': 0,\n",
    "    'lambda_l2': 1,\n",
    "    'num_threads': 23,\n",
    "    'min_data_in_leaf': 20,\n",
    "    'first_metric_only': True,\n",
    "    'is_unbalance': True,\n",
    "    'max_depth': -1,\n",
    "    'seed': 2020\n",
    "}\n",
    "valid_model = lgb.train(\n",
    "    params,\n",
    "    dtrain,\n",
    "    valid_sets=[dtrain, dvalid],\n",
    "    num_boost_round=1000000,\n",
    "    early_stopping_rounds=200,\n",
    "    verbose_eval=300\n",
    ")\n",
    "pred = valid_model.predict(test_transaction_num)\n",
    "sub = pd.DataFrame({'id': range(len(test_transaction_num))})\n",
    "sub['isFraud'] = pred\n",
    "sub.to_csv('../sub/basline.csv', index=False, header=None)"
   ]
  }
 ],
 "metadata": {
  "kernelspec": {
   "display_name": "Python 3",
   "language": "python",
   "name": "python3"
  },
  "language_info": {
   "codemirror_mode": {
    "name": "ipython",
    "version": 3
   },
   "file_extension": ".py",
   "mimetype": "text/x-python",
   "name": "python",
   "nbconvert_exporter": "python",
   "pygments_lexer": "ipython3",
   "version": "3.7.3"
  },
  "toc": {
   "base_numbering": 1,
   "nav_menu": {},
   "number_sections": true,
   "sideBar": true,
   "skip_h1_title": false,
   "title_cell": "Table of Contents",
   "title_sidebar": "Contents",
   "toc_cell": false,
   "toc_position": {},
   "toc_section_display": true,
   "toc_window_display": false
  }
 },
 "nbformat": 4,
 "nbformat_minor": 4
}
