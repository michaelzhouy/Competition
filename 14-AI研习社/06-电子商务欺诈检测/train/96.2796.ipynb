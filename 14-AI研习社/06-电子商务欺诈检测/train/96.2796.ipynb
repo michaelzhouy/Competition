{
 "cells": [
  {
   "cell_type": "code",
   "execution_count": 1,
   "metadata": {
    "ExecuteTime": {
     "end_time": "2020-12-05T15:38:58.989589Z",
     "start_time": "2020-12-05T15:38:55.736864Z"
    }
   },
   "outputs": [],
   "source": [
    "import numpy as np\n",
    "import pandas as pd\n",
    "from sklearn.model_selection import train_test_split\n",
    "from sklearn.preprocessing import LabelEncoder\n",
    "import lightgbm as lgb\n",
    "import gc\n",
    "import warnings\n",
    "warnings.filterwarnings('ignore')\n",
    "pd.set_option('max_columns', None)\n",
    "pd.set_option('max_rows', None)"
   ]
  },
  {
   "cell_type": "code",
   "execution_count": 2,
   "metadata": {
    "ExecuteTime": {
     "end_time": "2020-12-05T15:39:24.762447Z",
     "start_time": "2020-12-05T15:38:58.991562Z"
    }
   },
   "outputs": [],
   "source": [
    "train_transaction = pd.read_csv('../input/train_transaction.csv')\n",
    "test_transaction = pd.read_csv('../input/test_transaction.csv')\n",
    "train_identity = pd.read_csv('../input/train_identity.csv')\n",
    "test_identity = pd.read_csv('../input/test_identity.csv')"
   ]
  },
  {
   "cell_type": "code",
   "execution_count": 3,
   "metadata": {
    "ExecuteTime": {
     "end_time": "2020-12-05T15:39:47.473324Z",
     "start_time": "2020-12-05T15:39:24.768443Z"
    }
   },
   "outputs": [
    {
     "data": {
      "text/plain": [
       "125"
      ]
     },
     "execution_count": 3,
     "metadata": {},
     "output_type": "execute_result"
    }
   ],
   "source": [
    "train = train_transaction.merge(train_identity, on='TransactionID', how='left')\n",
    "test = test_transaction.merge(test_identity, on='TransactionID', how='left')\n",
    "data = pd.concat([train, test], axis=0, ignore_index=True)\n",
    "del train, test\n",
    "gc.collect()"
   ]
  },
  {
   "cell_type": "code",
   "execution_count": 4,
   "metadata": {
    "ExecuteTime": {
     "end_time": "2020-12-05T15:39:47.489316Z",
     "start_time": "2020-12-05T15:39:47.478322Z"
    }
   },
   "outputs": [],
   "source": [
    "object_cols = ['ProductCD', 'card4', 'card6', 'DeviceType', 'DeviceInfo', 'P_emaildomain', 'R_emaildomain']\n",
    "M_cols = ['M{}'.format(i) for i in range(1, 10)]\n",
    "id_cols = ['id_12', 'id_16', 'id_27', 'id_28', 'id_29', 'id_35', 'id_36', 'id_37', 'id_38', 'id_15',\n",
    "           'id_23', 'id_34', 'id_30', 'id_31', 'id_33']\n",
    "cat_cols = object_cols + M_cols + id_cols"
   ]
  },
  {
   "cell_type": "code",
   "execution_count": 5,
   "metadata": {
    "ExecuteTime": {
     "end_time": "2020-12-05T15:39:55.536087Z",
     "start_time": "2020-12-05T15:39:47.492314Z"
    }
   },
   "outputs": [],
   "source": [
    "for i in cat_cols:\n",
    "    le = LabelEncoder()\n",
    "    data[i] = le.fit_transform(data[i].astype(str))"
   ]
  },
  {
   "cell_type": "code",
   "execution_count": 6,
   "metadata": {
    "ExecuteTime": {
     "end_time": "2020-12-05T15:51:05.356153Z",
     "start_time": "2020-12-05T15:39:55.538070Z"
    }
   },
   "outputs": [
    {
     "name": "stdout",
     "output_type": "stream",
     "text": [
      "Training until validation scores don't improve for 200 rounds\n",
      "[300]\ttraining's auc: 0.979346\tvalid_1's auc: 0.947942\n",
      "[600]\ttraining's auc: 0.992149\tvalid_1's auc: 0.955309\n",
      "[900]\ttraining's auc: 0.996666\tvalid_1's auc: 0.958141\n",
      "[1200]\ttraining's auc: 0.998485\tvalid_1's auc: 0.959828\n",
      "[1500]\ttraining's auc: 0.999324\tvalid_1's auc: 0.960452\n",
      "Early stopping, best iteration is:\n",
      "[1523]\ttraining's auc: 0.999353\tvalid_1's auc: 0.960544\n",
      "Evaluated only: auc\n"
     ]
    }
   ],
   "source": [
    "train = data[data['isFraud'].notnull()]\n",
    "test = data[data['isFraud'].isnull()]\n",
    "\n",
    "y = train['isFraud']\n",
    "train.drop(['isFraud', 'TransactionID'], axis=1, inplace=True)\n",
    "test.drop(['isFraud', 'TransactionID'], axis=1, inplace=True)\n",
    "used_cols = train.columns\n",
    "test = test[used_cols]\n",
    "\n",
    "X_train, X_valid, y_train, y_valid = train_test_split(train, y, random_state=2020)\n",
    "\n",
    "dtrain = lgb.Dataset(X_train, y_train)\n",
    "dvalid = lgb.Dataset(X_valid, y_valid, reference=dtrain)\n",
    "params = {\n",
    "    'objective': 'binary',\n",
    "    'boosting': 'gbdt',\n",
    "    'metric': 'auc',\n",
    "    # 'metric': 'None',  # 用自定义评估函数是将metric设置为'None'\n",
    "    'learning_rate': 0.1,\n",
    "    'num_leaves': 31,\n",
    "    'lambda_l1': 0,\n",
    "    'lambda_l2': 1,\n",
    "    'num_threads': 23,\n",
    "    'min_data_in_leaf': 20,\n",
    "    'first_metric_only': True,\n",
    "    'is_unbalance': True,\n",
    "    'max_depth': -1,\n",
    "    'seed': 2020\n",
    "}\n",
    "valid_model = lgb.train(\n",
    "    params,\n",
    "    dtrain,\n",
    "    valid_sets=[dtrain, dvalid],\n",
    "    num_boost_round=1000000,\n",
    "    early_stopping_rounds=200,\n",
    "    verbose_eval=300\n",
    ")\n",
    "pred = valid_model.predict(test)\n",
    "sub = pd.DataFrame({'id': range(len(test))})\n",
    "sub['isFraud'] = pred\n",
    "sub.to_csv('../sub/basline.csv', index=False, header=None)"
   ]
  }
 ],
 "metadata": {
  "kernelspec": {
   "display_name": "Python 3",
   "language": "python",
   "name": "python3"
  },
  "language_info": {
   "codemirror_mode": {
    "name": "ipython",
    "version": 3
   },
   "file_extension": ".py",
   "mimetype": "text/x-python",
   "name": "python",
   "nbconvert_exporter": "python",
   "pygments_lexer": "ipython3",
   "version": "3.7.3"
  },
  "toc": {
   "base_numbering": 1,
   "nav_menu": {},
   "number_sections": true,
   "sideBar": true,
   "skip_h1_title": false,
   "title_cell": "Table of Contents",
   "title_sidebar": "Contents",
   "toc_cell": false,
   "toc_position": {},
   "toc_section_display": true,
   "toc_window_display": false
  }
 },
 "nbformat": 4,
 "nbformat_minor": 4
}
