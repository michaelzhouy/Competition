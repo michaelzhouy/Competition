{
 "cells": [
  {
   "cell_type": "code",
   "execution_count": 1,
   "metadata": {
    "ExecuteTime": {
     "end_time": "2020-11-23T12:57:45.641455Z",
     "start_time": "2020-11-23T12:57:44.825235Z"
    }
   },
   "outputs": [],
   "source": [
    "import time\n",
    "import numpy as np\n",
    "import pandas as pd\n",
    "from tqdm import tqdm\n",
    "import lightgbm as lgb\n",
    "import gc\n",
    "from datetime import datetime\n",
    "from sklearn.model_selection import train_test_split, KFold\n",
    "from sklearn.metrics import mean_squared_log_error\n",
    "from sklearn.preprocessing import LabelEncoder\n",
    "import warnings\n",
    "warnings.filterwarnings('ignore')\n",
    "pd.set_option('max_columns', None)\n",
    "pd.set_option('max_rows', None)"
   ]
  },
  {
   "cell_type": "code",
   "execution_count": 2,
   "metadata": {
    "ExecuteTime": {
     "end_time": "2020-11-23T12:57:45.908230Z",
     "start_time": "2020-11-23T12:57:45.643382Z"
    }
   },
   "outputs": [],
   "source": [
    "train = pd.read_csv('../input/train.csv')\n",
    "test = pd.read_csv('../input/test.csv')\n",
    "data = pd.concat([train, test], axis=0, ignore_index=True)"
   ]
  },
  {
   "cell_type": "markdown",
   "metadata": {},
   "source": [
    "## drop特征"
   ]
  },
  {
   "cell_type": "code",
   "execution_count": 3,
   "metadata": {
    "ExecuteTime": {
     "end_time": "2020-11-23T12:57:45.918907Z",
     "start_time": "2020-11-23T12:57:45.909887Z"
    }
   },
   "outputs": [],
   "source": [
    "drop_cols = ['poster_path', 'imdb_id']\n",
    "data.drop(drop_cols, axis=1, inplace=True)"
   ]
  },
  {
   "cell_type": "markdown",
   "metadata": {},
   "source": [
    "## 时间特征"
   ]
  },
  {
   "cell_type": "code",
   "execution_count": 4,
   "metadata": {
    "ExecuteTime": {
     "end_time": "2020-11-23T12:57:45.963157Z",
     "start_time": "2020-11-23T12:57:45.919905Z"
    }
   },
   "outputs": [],
   "source": [
    "data['release_year'] = data['release_date'].apply(lambda x: '19' + x.split('/')[2] if int(x.split('/')[2]) > 20 else '20' + x.split('/')[2]).astype(int)\n",
    "data['release_month'] = data['release_date'].apply(lambda x: x.split('/')[0]).astype(int)\n",
    "data['release_day'] = data['release_date'].apply(lambda x: x.split('/')[1]).astype(int)\n",
    "\n",
    "data['release_date'] = pd.to_datetime(data['release_year'].astype(str) + '-' + data['release_month'].astype(str) + '-' + data['release_day'].astype(str))\n",
    "\n",
    "data['release_date_weekday'] = data['release_date'].apply(lambda x: x.weekday())\n",
    "data['release_date_TONOW'] = (datetime.now() - data['release_date']).dt.days\n",
    "\n",
    "data.drop(['release_day', 'release_date'], axis=1, inplace=True)"
   ]
  },
  {
   "cell_type": "markdown",
   "metadata": {},
   "source": [
    "## 判断是否为空"
   ]
  },
  {
   "cell_type": "code",
   "execution_count": 5,
   "metadata": {
    "ExecuteTime": {
     "end_time": "2020-11-23T12:57:45.973790Z",
     "start_time": "2020-11-23T12:57:45.964815Z"
    }
   },
   "outputs": [],
   "source": [
    "isnull_cols = ['homepage', 'tagline', 'belongs_to_collection']\n",
    "for i in isnull_cols:\n",
    "    data[i + 'isnull'] = np.where(pd.isnull(data[i]), 1, 0)\n",
    "data.drop(isnull_cols, axis=1, inplace=True)"
   ]
  },
  {
   "cell_type": "markdown",
   "metadata": {},
   "source": [
    "## 数值特征"
   ]
  },
  {
   "cell_type": "code",
   "execution_count": 6,
   "metadata": {
    "ExecuteTime": {
     "end_time": "2020-11-23T12:57:45.978778Z",
     "start_time": "2020-11-23T12:57:45.974788Z"
    }
   },
   "outputs": [],
   "source": [
    "num_cols = ['runtime', 'popularity', 'budget']"
   ]
  },
  {
   "cell_type": "markdown",
   "metadata": {},
   "source": [
    "## 类别特征"
   ]
  },
  {
   "cell_type": "code",
   "execution_count": 7,
   "metadata": {
    "ExecuteTime": {
     "end_time": "2020-11-23T12:57:45.990746Z",
     "start_time": "2020-11-23T12:57:45.980772Z"
    }
   },
   "outputs": [
    {
     "data": {
      "text/plain": [
       "0                            Wrath of the Titans\n",
       "1                                      From Hell\n",
       "2                   Guess Who's Coming to Dinner\n",
       "3    Talladega Nights: The Ballad of Ricky Bobby\n",
       "4                                         Xanadu\n",
       "Name: title, dtype: object"
      ]
     },
     "execution_count": 7,
     "metadata": {},
     "output_type": "execute_result"
    }
   ],
   "source": [
    "data['title'][:5]"
   ]
  },
  {
   "cell_type": "code",
   "execution_count": 8,
   "metadata": {
    "ExecuteTime": {
     "end_time": "2020-11-23T12:57:45.997768Z",
     "start_time": "2020-11-23T12:57:45.991743Z"
    }
   },
   "outputs": [
    {
     "data": {
      "text/plain": [
       "(0, 0)"
      ]
     },
     "execution_count": 8,
     "metadata": {},
     "output_type": "execute_result"
    }
   ],
   "source": [
    "data['title'].isnull().sum(), data['original_title'].isnull().sum()"
   ]
  },
  {
   "cell_type": "code",
   "execution_count": 9,
   "metadata": {
    "ExecuteTime": {
     "end_time": "2020-11-23T12:57:46.019707Z",
     "start_time": "2020-11-23T12:57:45.998765Z"
    }
   },
   "outputs": [
    {
     "name": "stderr",
     "output_type": "stream",
     "text": [
      "100%|███████████████████████████████████████████████████████████████████████████████████| 2/2 [00:00<00:00, 676.94it/s]\n"
     ]
    }
   ],
   "source": [
    "cat_cols = ['original_language', 'status', 'title', 'original_title']\n",
    "\n",
    "data['title=original_title'] = (data['title'] == data['original_title']).astype(int)\n",
    "\n",
    "for i in tqdm(['original_language', 'status']):\n",
    "    le = LabelEncoder()\n",
    "    data[i] = le.fit_transform(data[i])\n",
    "\n",
    "data['original_language_count'] = data['original_language'].map(data['original_language'].value_counts())\n",
    "data['title_count'] = data['title'].map(data['title'].value_counts())\n",
    "\n",
    "data.drop(['title', 'original_title'], axis=1, inplace=True)"
   ]
  },
  {
   "cell_type": "markdown",
   "metadata": {},
   "source": [
    "## 嵌套特征"
   ]
  },
  {
   "cell_type": "code",
   "execution_count": 10,
   "metadata": {
    "ExecuteTime": {
     "end_time": "2020-11-23T12:57:48.884134Z",
     "start_time": "2020-11-23T12:57:46.021668Z"
    }
   },
   "outputs": [],
   "source": [
    "nested_cols = ['genres', 'production_companies', 'production_countries',\n",
    "               'Keywords', 'spoken_languages', 'cast', 'crew']\n",
    "for i in nested_cols:\n",
    "    data[i + '_length'] = data[i].apply(lambda x: 0 if pd.isnull(x) else len(eval(x)))\n",
    "#     print(i + '_length')\n",
    "#     print(data[i + '_length'].unique())\n",
    "\n",
    "data['genres_0'] = data['genres'].apply(lambda x: np.nan if pd.isnull(x) else eval(x)[0]['name'])\n",
    "\n",
    "le = LabelEncoder()\n",
    "data['genres_0'] = le.fit_transform(data['genres_0'].astype(str))\n",
    "data['genres_0_count'] = data['genres_0'].map(data['genres_0'].value_counts())\n",
    "\n",
    "data.drop(nested_cols, axis=1, inplace=True)"
   ]
  },
  {
   "cell_type": "markdown",
   "metadata": {},
   "source": [
    "## 其他"
   ]
  },
  {
   "cell_type": "code",
   "execution_count": 11,
   "metadata": {
    "ExecuteTime": {
     "end_time": "2020-11-23T12:57:48.889156Z",
     "start_time": "2020-11-23T12:57:48.885130Z"
    }
   },
   "outputs": [],
   "source": [
    "data.drop('overview', axis=1, inplace=True)"
   ]
  },
  {
   "cell_type": "code",
   "execution_count": 12,
   "metadata": {
    "ExecuteTime": {
     "end_time": "2020-11-23T12:57:51.722985Z",
     "start_time": "2020-11-23T12:57:48.890154Z"
    }
   },
   "outputs": [
    {
     "name": "stdout",
     "output_type": "stream",
     "text": [
      "\n",
      "Fold_1 Training ==============\n",
      "\n",
      "Training until validation scores don't improve for 100 rounds\n",
      "[50]\ttraining's rmsle: 3.84335\tvalid_1's rmsle: 4.23996\n",
      "[100]\ttraining's rmsle: 3.36703\tvalid_1's rmsle: 4.19428\n",
      "Early stopping, best iteration is:\n",
      "[38]\ttraining's rmsle: 3.95159\tvalid_1's rmsle: 4.32449\n",
      "\n",
      "Fold_2 Training ==============\n",
      "\n",
      "Training until validation scores don't improve for 100 rounds\n",
      "[50]\ttraining's rmsle: 3.52135\tvalid_1's rmsle: 5.00586\n",
      "[100]\ttraining's rmsle: 2.98647\tvalid_1's rmsle: 5.09854\n",
      "[150]\ttraining's rmsle: 2.60171\tvalid_1's rmsle: 5.08954\n",
      "[200]\ttraining's rmsle: 2.28489\tvalid_1's rmsle: 4.98734\n",
      "Early stopping, best iteration is:\n",
      "[113]\ttraining's rmsle: 2.87366\tvalid_1's rmsle: 5.11338\n",
      "\n",
      "Fold_3 Training ==============\n",
      "\n",
      "Training until validation scores don't improve for 100 rounds\n",
      "[50]\ttraining's rmsle: 3.70114\tvalid_1's rmsle: 4.86687\n",
      "[100]\ttraining's rmsle: 3.07967\tvalid_1's rmsle: 4.9222\n",
      "Early stopping, best iteration is:\n",
      "[1]\ttraining's rmsle: 4.94402\tvalid_1's rmsle: 5.35134\n",
      "\n",
      "Fold_4 Training ==============\n",
      "\n",
      "Training until validation scores don't improve for 100 rounds\n",
      "[50]\ttraining's rmsle: 3.82806\tvalid_1's rmsle: 3.82642\n",
      "[100]\ttraining's rmsle: 3.3014\tvalid_1's rmsle: 3.8612\n",
      "[150]\ttraining's rmsle: 2.79631\tvalid_1's rmsle: 3.83794\n",
      "[200]\ttraining's rmsle: 2.38909\tvalid_1's rmsle: 3.99709\n",
      "[250]\ttraining's rmsle: 2.2516\tvalid_1's rmsle: 3.94834\n",
      "[300]\ttraining's rmsle: 1.93903\tvalid_1's rmsle: 3.96477\n",
      "Early stopping, best iteration is:\n",
      "[204]\ttraining's rmsle: 2.40517\tvalid_1's rmsle: 4.00853\n",
      "\n",
      "Fold_5 Training ==============\n",
      "\n",
      "Training until validation scores don't improve for 100 rounds\n",
      "[50]\ttraining's rmsle: 3.96324\tvalid_1's rmsle: 5.19965\n",
      "[100]\ttraining's rmsle: 3.20941\tvalid_1's rmsle: 5.24683\n",
      "[150]\ttraining's rmsle: 2.89508\tvalid_1's rmsle: 5.19353\n",
      "Early stopping, best iteration is:\n",
      "[51]\ttraining's rmsle: 3.94744\tvalid_1's rmsle: 5.27657\n"
     ]
    }
   ],
   "source": [
    "train = data[data['revenue'].notnull()]\n",
    "test = data[data['revenue'].isnull()]\n",
    "\n",
    "y_mean = train['revenue'].mean()\n",
    "\n",
    "used_cols = [i for i in train.columns if i not in ['id', 'release_date', 'revenue']]\n",
    "y = train['revenue'] - y_mean\n",
    "train = train[used_cols]\n",
    "test = test[used_cols]\n",
    "\n",
    "def rmsle(y_hat, data):\n",
    "    y_true = data.get_label()\n",
    "    y_hat = np.where(y_hat < 0, 1, y_hat)\n",
    "    y_true = np.where(y_true < 0, 1, y_hat)\n",
    "    res = np.sqrt(mean_squared_log_error(y_true, y_hat))\n",
    "    return 'rmsle', res, True\n",
    "\n",
    "\n",
    "prediction = pd.DataFrame()\n",
    "skf = KFold(n_splits=5, random_state=2020, shuffle=True)\n",
    "for fold_id, (trn_idx, val_idx) in enumerate(skf.split(train, y)):\n",
    "    print('\\nFold_{} Training ==============\\n'.format(fold_id + 1))\n",
    "    X_train = train.iloc[trn_idx]\n",
    "    Y_train = y.iloc[trn_idx]\n",
    "    X_val = train.iloc[val_idx]\n",
    "    Y_val = y.iloc[val_idx]\n",
    "\n",
    "    dtrain = lgb.Dataset(X_train, Y_train)\n",
    "    dvalid = lgb.Dataset(X_val, Y_val, reference=dtrain)\n",
    "\n",
    "    params = {\n",
    "        'boosting_type': 'gbdt',\n",
    "        'objective': 'regression',\n",
    "        'metric': 'None',\n",
    "        'learning_rate': 0.05,\n",
    "        'seed': fold_id\n",
    "    }\n",
    "\n",
    "    model = lgb.train(\n",
    "        params,\n",
    "        dtrain,\n",
    "        valid_sets=[dtrain, dvalid],\n",
    "        num_boost_round=1000000,\n",
    "        early_stopping_rounds=100,\n",
    "        verbose_eval=50,\n",
    "        feval=rmsle\n",
    "    )\n",
    "    \n",
    "    pred = model.predict(test)\n",
    "    prediction['label_{}'.format(fold_id)] = pred\n",
    "\n",
    "prediction['mean'] = prediction.mean(1)\n",
    "\n",
    "sub = pd.DataFrame()\n",
    "sub['ID'] = np.arange(0, 600)\n",
    "sub['revenue'] = prediction['mean'] + y_mean\n",
    "sub['revenue'] = sub['revenue']"
   ]
  },
  {
   "cell_type": "code",
   "execution_count": 13,
   "metadata": {
    "ExecuteTime": {
     "end_time": "2020-11-23T12:57:51.747490Z",
     "start_time": "2020-11-23T12:57:51.724488Z"
    }
   },
   "outputs": [
    {
     "data": {
      "text/html": [
       "<div>\n",
       "<style scoped>\n",
       "    .dataframe tbody tr th:only-of-type {\n",
       "        vertical-align: middle;\n",
       "    }\n",
       "\n",
       "    .dataframe tbody tr th {\n",
       "        vertical-align: top;\n",
       "    }\n",
       "\n",
       "    .dataframe thead th {\n",
       "        text-align: right;\n",
       "    }\n",
       "</style>\n",
       "<table border=\"1\" class=\"dataframe\">\n",
       "  <thead>\n",
       "    <tr style=\"text-align: right;\">\n",
       "      <th></th>\n",
       "      <th>ID</th>\n",
       "      <th>revenue</th>\n",
       "    </tr>\n",
       "  </thead>\n",
       "  <tbody>\n",
       "    <tr>\n",
       "      <th>count</th>\n",
       "      <td>600.000000</td>\n",
       "      <td>6.000000e+02</td>\n",
       "    </tr>\n",
       "    <tr>\n",
       "      <th>mean</th>\n",
       "      <td>299.500000</td>\n",
       "      <td>6.470495e+07</td>\n",
       "    </tr>\n",
       "    <tr>\n",
       "      <th>std</th>\n",
       "      <td>173.349358</td>\n",
       "      <td>8.224519e+07</td>\n",
       "    </tr>\n",
       "    <tr>\n",
       "      <th>min</th>\n",
       "      <td>0.000000</td>\n",
       "      <td>1.576616e+07</td>\n",
       "    </tr>\n",
       "    <tr>\n",
       "      <th>25%</th>\n",
       "      <td>149.750000</td>\n",
       "      <td>2.372926e+07</td>\n",
       "    </tr>\n",
       "    <tr>\n",
       "      <th>50%</th>\n",
       "      <td>299.500000</td>\n",
       "      <td>3.404947e+07</td>\n",
       "    </tr>\n",
       "    <tr>\n",
       "      <th>75%</th>\n",
       "      <td>449.250000</td>\n",
       "      <td>7.080532e+07</td>\n",
       "    </tr>\n",
       "    <tr>\n",
       "      <th>max</th>\n",
       "      <td>599.000000</td>\n",
       "      <td>6.904600e+08</td>\n",
       "    </tr>\n",
       "  </tbody>\n",
       "</table>\n",
       "</div>"
      ],
      "text/plain": [
       "               ID       revenue\n",
       "count  600.000000  6.000000e+02\n",
       "mean   299.500000  6.470495e+07\n",
       "std    173.349358  8.224519e+07\n",
       "min      0.000000  1.576616e+07\n",
       "25%    149.750000  2.372926e+07\n",
       "50%    299.500000  3.404947e+07\n",
       "75%    449.250000  7.080532e+07\n",
       "max    599.000000  6.904600e+08"
      ]
     },
     "execution_count": 13,
     "metadata": {},
     "output_type": "execute_result"
    }
   ],
   "source": [
    "sub.describe()"
   ]
  },
  {
   "cell_type": "code",
   "execution_count": 14,
   "metadata": {
    "ExecuteTime": {
     "end_time": "2020-11-23T12:57:51.764471Z",
     "start_time": "2020-11-23T12:57:51.749484Z"
    }
   },
   "outputs": [],
   "source": [
    "sub['revenue'] = np.where(sub['revenue'] <=0, y_mean, sub['revenue'])\n",
    "sub.to_csv('../sub/sub_{}.csv'.format(time.strftime('%Y%m%d')), index=False, header=False)"
   ]
  },
  {
   "cell_type": "code",
   "execution_count": null,
   "metadata": {},
   "outputs": [],
   "source": []
  }
 ],
 "metadata": {
  "kernelspec": {
   "display_name": "Python 3",
   "language": "python",
   "name": "python3"
  },
  "language_info": {
   "codemirror_mode": {
    "name": "ipython",
    "version": 3
   },
   "file_extension": ".py",
   "mimetype": "text/x-python",
   "name": "python",
   "nbconvert_exporter": "python",
   "pygments_lexer": "ipython3",
   "version": "3.7.3"
  },
  "toc": {
   "base_numbering": 1,
   "nav_menu": {},
   "number_sections": true,
   "sideBar": true,
   "skip_h1_title": false,
   "title_cell": "Table of Contents",
   "title_sidebar": "Contents",
   "toc_cell": false,
   "toc_position": {},
   "toc_section_display": true,
   "toc_window_display": false
  }
 },
 "nbformat": 4,
 "nbformat_minor": 4
}
