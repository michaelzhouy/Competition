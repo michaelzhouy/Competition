{
 "cells": [
  {
   "cell_type": "code",
   "execution_count": 1,
   "metadata": {
    "ExecuteTime": {
     "end_time": "2020-11-21T06:55:47.493407Z",
     "start_time": "2020-11-21T06:55:45.606405Z"
    }
   },
   "outputs": [],
   "source": [
    "import numpy as np\n",
    "import pandas as pd\n",
    "from tqdm import tqdm\n",
    "import lightgbm as lgb\n",
    "import gc\n",
    "from sklearn.model_selection import train_test_split\n",
    "import warnings\n",
    "warnings.filterwarnings('ignore')\n",
    "pd.set_option('max_columns', None)\n",
    "pd.set_option('max_rows', None)"
   ]
  },
  {
   "cell_type": "code",
   "execution_count": 2,
   "metadata": {
    "ExecuteTime": {
     "end_time": "2020-11-21T06:55:47.810272Z",
     "start_time": "2020-11-21T06:55:47.496408Z"
    }
   },
   "outputs": [],
   "source": [
    "train = pd.read_csv('../input/train.csv')\n",
    "test = pd.read_csv('../input/test.csv')\n",
    "\n",
    "data = pd.concat([train, test], axis=0, ignore_index=True)"
   ]
  },
  {
   "cell_type": "code",
   "execution_count": 3,
   "metadata": {
    "ExecuteTime": {
     "end_time": "2020-11-21T06:55:47.824219Z",
     "start_time": "2020-11-21T06:55:47.812229Z"
    }
   },
   "outputs": [],
   "source": [
    "drop_cols = ['belongs_to_collection', 'homepage', 'imdb_id', 'original_title', 'overview',\n",
    "             'poster_path', 'tagline', 'title']\n",
    "\n",
    "data.drop(drop_cols, axis=1, inplace=True)"
   ]
  },
  {
   "cell_type": "code",
   "execution_count": 4,
   "metadata": {
    "ExecuteTime": {
     "end_time": "2020-11-21T06:55:47.834218Z",
     "start_time": "2020-11-21T06:55:47.827218Z"
    }
   },
   "outputs": [],
   "source": [
    "list_cols = ['genres', 'production_companies', 'production_countries', 'spoken_languages', 'Keywords', 'cast', 'crew']\n",
    "cat_cols = ['original_language']\n",
    "num_cols = ['budget', 'popularity', 'runtime']"
   ]
  },
  {
   "cell_type": "code",
   "execution_count": 5,
   "metadata": {
    "ExecuteTime": {
     "end_time": "2020-11-21T06:55:51.546120Z",
     "start_time": "2020-11-21T06:55:47.837212Z"
    }
   },
   "outputs": [],
   "source": [
    "for i in list_cols:\n",
    "    data[i + '_length'] = data[i].apply(lambda x: 0 if pd.isnull(x) else len(eval(x)))"
   ]
  },
  {
   "cell_type": "code",
   "execution_count": 6,
   "metadata": {
    "ExecuteTime": {
     "end_time": "2020-11-21T06:55:51.638035Z",
     "start_time": "2020-11-21T06:55:51.548074Z"
    }
   },
   "outputs": [],
   "source": [
    "data['genres_0'] = data['genres'].apply(lambda x: np.nan if pd.isnull(x) else eval(x)[0]['name'])\n",
    "cat_cols.append('genres_0')"
   ]
  },
  {
   "cell_type": "code",
   "execution_count": 7,
   "metadata": {
    "ExecuteTime": {
     "end_time": "2020-11-21T06:55:51.657010Z",
     "start_time": "2020-11-21T06:55:51.640019Z"
    }
   },
   "outputs": [
    {
     "data": {
      "text/plain": [
       "Index(['id', 'budget', 'original_language', 'popularity', 'release_date',\n",
       "       'runtime', 'status', 'revenue', 'genres_length',\n",
       "       'production_companies_length', 'production_countries_length',\n",
       "       'spoken_languages_length', 'Keywords_length', 'cast_length',\n",
       "       'crew_length', 'genres_0'],\n",
       "      dtype='object')"
      ]
     },
     "execution_count": 7,
     "metadata": {},
     "output_type": "execute_result"
    }
   ],
   "source": [
    "data.drop(list_cols, axis=1, inplace=True)\n",
    "data.columns"
   ]
  },
  {
   "cell_type": "code",
   "execution_count": 8,
   "metadata": {
    "ExecuteTime": {
     "end_time": "2020-11-21T06:55:51.711993Z",
     "start_time": "2020-11-21T06:55:51.661008Z"
    }
   },
   "outputs": [],
   "source": [
    "data['release_year'] = data['release_date'].apply(lambda x: '19' + x.split('/')[2] if int(x.split('/')[2]) > 20 else '20' + x.split('/')[2])\n",
    "data['release_month'] = data['release_date'].apply(lambda x: x.split('/')[0])\n",
    "data['release_day'] = data['release_date'].apply(lambda x: x.split('/')[1])\n",
    "\n",
    "data['release_date'] = pd.to_datetime(data['release_year'] + '-' + data['release_month'] + '-' + data['release_day'])\n",
    "data.drop(['release_year', 'release_month', 'release_day'], axis=1, inplace=True)"
   ]
  },
  {
   "cell_type": "code",
   "execution_count": 9,
   "metadata": {
    "ExecuteTime": {
     "end_time": "2020-11-21T06:55:51.727971Z",
     "start_time": "2020-11-21T06:55:51.714977Z"
    }
   },
   "outputs": [],
   "source": [
    "data['release_month'] = data['release_date'].dt.month"
   ]
  },
  {
   "cell_type": "code",
   "execution_count": 10,
   "metadata": {
    "ExecuteTime": {
     "end_time": "2020-11-21T06:55:51.753955Z",
     "start_time": "2020-11-21T06:55:51.731966Z"
    }
   },
   "outputs": [
    {
     "name": "stdout",
     "output_type": "stream",
     "text": [
      "original_language\n",
      "genres_0\n"
     ]
    }
   ],
   "source": [
    "def count_encode(df, cat_cols):\n",
    "    for col in cat_cols:\n",
    "        print(col)\n",
    "        vc = df[col].value_counts(dropna=True, normalize=True)\n",
    "        df[col + '_count'] = df[col].map(vc).astype('float32')\n",
    "    return df\n",
    "\n",
    "data = count_encode(data, cat_cols)"
   ]
  },
  {
   "cell_type": "code",
   "execution_count": 11,
   "metadata": {
    "ExecuteTime": {
     "end_time": "2020-11-21T06:55:52.214707Z",
     "start_time": "2020-11-21T06:55:51.757955Z"
    }
   },
   "outputs": [
    {
     "name": "stderr",
     "output_type": "stream",
     "text": [
      "  0%|                                                                                            | 0/2 [00:00<?, ?it/s]\n",
      "  0%|                                                                                            | 0/3 [00:00<?, ?it/s]\u001b[A\n",
      "100%|████████████████████████████████████████████████████████████████████████████████████| 3/3 [00:00<00:00, 13.34it/s]\u001b[A\n",
      " 50%|██████████████████████████████████████████                                          | 1/2 [00:00<00:00,  4.33it/s]\n",
      "  0%|                                                                                            | 0/3 [00:00<?, ?it/s]\u001b[A\n",
      "100%|████████████████████████████████████████████████████████████████████████████████████| 3/3 [00:00<00:00, 15.24it/s]\u001b[A\n",
      "100%|████████████████████████████████████████████████████████████████████████████████████| 2/2 [00:00<00:00,  4.56it/s]\n"
     ]
    }
   ],
   "source": [
    "def cat_num_stats(df, cat_cols, num_cols):\n",
    "    for f1 in tqdm(cat_cols):\n",
    "        g = df.groupby(f1, as_index=False)\n",
    "        for f2 in tqdm(num_cols):\n",
    "            tmp = g[f2].agg({\n",
    "                '{}_{}_max'.format(f1, f2): 'max',\n",
    "                '{}_{}_min'.format(f1, f2): 'min',\n",
    "                '{}_{}_median'.format(f1, f2): 'median',\n",
    "                '{}_{}_mean'.format(f1, f2): 'mean',\n",
    "                '{}_{}_sum'.format(f1, f2): 'sum',\n",
    "                '{}_{}_skew'.format(f1, f2): 'skew',\n",
    "                '{}_{}_std'.format(f1, f2): 'std'\n",
    "            })\n",
    "            df = df.merge(tmp, on=f1, how='left')\n",
    "            del tmp\n",
    "            gc.collect()\n",
    "    return df\n",
    "\n",
    "data = cat_num_stats(data, cat_cols, num_cols)"
   ]
  },
  {
   "cell_type": "code",
   "execution_count": 12,
   "metadata": {
    "ExecuteTime": {
     "end_time": "2020-11-21T06:55:52.234676Z",
     "start_time": "2020-11-21T06:55:52.217688Z"
    }
   },
   "outputs": [
    {
     "name": "stdout",
     "output_type": "stream",
     "text": [
      "original_language\n",
      "genres_0\n",
      "status\n"
     ]
    }
   ],
   "source": [
    "def label_encode(df, cat_cols, verbose=True):\n",
    "    for col in cat_cols:\n",
    "        df[col], _ = df[col].factorize(sort=True)\n",
    "        if df[col].max() > 32000:\n",
    "            df[col] = df[col].astype('int32')\n",
    "        else:\n",
    "            df[col] = df[col].astype('int16')\n",
    "        if verbose:\n",
    "            print(col)\n",
    "    return df\n",
    "\n",
    "data = label_encode(data, cat_cols + ['status'])"
   ]
  },
  {
   "cell_type": "code",
   "execution_count": 13,
   "metadata": {
    "ExecuteTime": {
     "end_time": "2020-11-21T06:55:52.246669Z",
     "start_time": "2020-11-21T06:55:52.237676Z"
    }
   },
   "outputs": [
    {
     "data": {
      "text/plain": [
       "Index(['id', 'budget', 'original_language', 'popularity', 'release_date',\n",
       "       'runtime', 'status', 'revenue', 'genres_length',\n",
       "       'production_companies_length', 'production_countries_length',\n",
       "       'spoken_languages_length', 'Keywords_length', 'cast_length',\n",
       "       'crew_length', 'genres_0', 'release_month', 'original_language_count',\n",
       "       'genres_0_count', 'original_language_budget_max',\n",
       "       'original_language_budget_min', 'original_language_budget_median',\n",
       "       'original_language_budget_mean', 'original_language_budget_sum',\n",
       "       'original_language_budget_skew', 'original_language_budget_std',\n",
       "       'original_language_popularity_max', 'original_language_popularity_min',\n",
       "       'original_language_popularity_median',\n",
       "       'original_language_popularity_mean', 'original_language_popularity_sum',\n",
       "       'original_language_popularity_skew', 'original_language_popularity_std',\n",
       "       'original_language_runtime_max', 'original_language_runtime_min',\n",
       "       'original_language_runtime_median', 'original_language_runtime_mean',\n",
       "       'original_language_runtime_sum', 'original_language_runtime_skew',\n",
       "       'original_language_runtime_std', 'genres_0_budget_max',\n",
       "       'genres_0_budget_min', 'genres_0_budget_median', 'genres_0_budget_mean',\n",
       "       'genres_0_budget_sum', 'genres_0_budget_skew', 'genres_0_budget_std',\n",
       "       'genres_0_popularity_max', 'genres_0_popularity_min',\n",
       "       'genres_0_popularity_median', 'genres_0_popularity_mean',\n",
       "       'genres_0_popularity_sum', 'genres_0_popularity_skew',\n",
       "       'genres_0_popularity_std', 'genres_0_runtime_max',\n",
       "       'genres_0_runtime_min', 'genres_0_runtime_median',\n",
       "       'genres_0_runtime_mean', 'genres_0_runtime_sum',\n",
       "       'genres_0_runtime_skew', 'genres_0_runtime_std'],\n",
       "      dtype='object')"
      ]
     },
     "execution_count": 13,
     "metadata": {},
     "output_type": "execute_result"
    }
   ],
   "source": [
    "data.columns"
   ]
  },
  {
   "cell_type": "code",
   "execution_count": 14,
   "metadata": {
    "ExecuteTime": {
     "end_time": "2020-11-21T06:55:52.266657Z",
     "start_time": "2020-11-21T06:55:52.250674Z"
    }
   },
   "outputs": [
    {
     "data": {
      "text/plain": [
       "65868516"
      ]
     },
     "execution_count": 14,
     "metadata": {},
     "output_type": "execute_result"
    }
   ],
   "source": [
    "mean_revenue = int(data['revenue'].mean())\n",
    "mean_revenue"
   ]
  },
  {
   "cell_type": "code",
   "execution_count": 15,
   "metadata": {
    "ExecuteTime": {
     "end_time": "2020-11-21T06:55:52.304636Z",
     "start_time": "2020-11-21T06:55:52.269656Z"
    }
   },
   "outputs": [
    {
     "data": {
      "text/plain": [
       "((2400, 61), (600, 61))"
      ]
     },
     "execution_count": 15,
     "metadata": {},
     "output_type": "execute_result"
    }
   ],
   "source": [
    "train = data[data['revenue'].notnull()]\n",
    "test = data[data['revenue'].isnull()]\n",
    "train.shape, test.shape"
   ]
  },
  {
   "cell_type": "code",
   "execution_count": 16,
   "metadata": {
    "ExecuteTime": {
     "end_time": "2020-11-21T06:55:52.800349Z",
     "start_time": "2020-11-21T06:55:52.314634Z"
    }
   },
   "outputs": [
    {
     "name": "stdout",
     "output_type": "stream",
     "text": [
      "Training until validation scores don't improve for 100 rounds\n",
      "[50]\ttraining's l2: 4.05211e+15\tvalid_1's l2: 7.02393e+15\n",
      "[100]\ttraining's l2: 2.75095e+15\tvalid_1's l2: 6.77274e+15\n",
      "[150]\ttraining's l2: 2.15101e+15\tvalid_1's l2: 6.80261e+15\n",
      "Early stopping, best iteration is:\n",
      "[74]\ttraining's l2: 3.26247e+15\tvalid_1's l2: 6.69583e+15\n"
     ]
    }
   ],
   "source": [
    "mean_revenue = train['revenue'].mean()\n",
    "\n",
    "used_cols = [i for i in train.columns if i not in ['id', 'release_date', 'revenue']]\n",
    "y = train['revenue'] - mean_revenue\n",
    "train = train[used_cols]\n",
    "test = test[used_cols]\n",
    "\n",
    "X_train, X_valid, y_train, y_valid = train_test_split(train, y, random_state=2020)\n",
    "\n",
    "dtrain = lgb.Dataset(X_train, y_train)\n",
    "dvalid = lgb.Dataset(X_valid, y_valid)\n",
    "\n",
    "params = {\n",
    "    'boosting_type': 'gbdt',\n",
    "    'objective': 'regression',\n",
    "    'metric': 'mse',\n",
    "    'learning_rate': 0.05,\n",
    "    'seed': 2020\n",
    "}\n",
    "\n",
    "model = lgb.train(\n",
    "    params,\n",
    "    dtrain,\n",
    "    valid_sets=[dtrain, dvalid],\n",
    "    num_boost_round=1000000,\n",
    "    early_stopping_rounds=100,\n",
    "    verbose_eval=50\n",
    ")\n",
    "\n",
    "pred = model.predict(test).astype(int)"
   ]
  },
  {
   "cell_type": "code",
   "execution_count": 20,
   "metadata": {
    "ExecuteTime": {
     "end_time": "2020-11-21T06:57:51.981038Z",
     "start_time": "2020-11-21T06:57:51.965047Z"
    }
   },
   "outputs": [],
   "source": [
    "sub = pd.DataFrame()\n",
    "sub['ID'] = np.arange(0, 600)\n",
    "sub['revenue'] = pred + mean_revenue\n",
    "sub['revenue'] = sub['revenue'].astype(int)\n",
    "sub.to_csv('../sub/baseline.csv', index=False, header=False)"
   ]
  },
  {
   "cell_type": "code",
   "execution_count": 21,
   "metadata": {
    "ExecuteTime": {
     "end_time": "2020-11-21T06:57:53.691040Z",
     "start_time": "2020-11-21T06:57:53.683047Z"
    }
   },
   "outputs": [
    {
     "name": "stdout",
     "output_type": "stream",
     "text": [
      "<class 'pandas.core.frame.DataFrame'>\n",
      "RangeIndex: 600 entries, 0 to 599\n",
      "Data columns (total 2 columns):\n",
      " #   Column   Non-Null Count  Dtype\n",
      "---  ------   --------------  -----\n",
      " 0   ID       600 non-null    int32\n",
      " 1   revenue  600 non-null    int32\n",
      "dtypes: int32(2)\n",
      "memory usage: 4.8 KB\n"
     ]
    }
   ],
   "source": [
    "sub.info()"
   ]
  },
  {
   "cell_type": "code",
   "execution_count": 18,
   "metadata": {
    "ExecuteTime": {
     "end_time": "2020-11-21T06:55:52.852320Z",
     "start_time": "2020-11-21T06:55:52.833334Z"
    }
   },
   "outputs": [
    {
     "data": {
      "text/html": [
       "<div>\n",
       "<style scoped>\n",
       "    .dataframe tbody tr th:only-of-type {\n",
       "        vertical-align: middle;\n",
       "    }\n",
       "\n",
       "    .dataframe tbody tr th {\n",
       "        vertical-align: top;\n",
       "    }\n",
       "\n",
       "    .dataframe thead th {\n",
       "        text-align: right;\n",
       "    }\n",
       "</style>\n",
       "<table border=\"1\" class=\"dataframe\">\n",
       "  <thead>\n",
       "    <tr style=\"text-align: right;\">\n",
       "      <th></th>\n",
       "      <th>ID</th>\n",
       "      <th>score</th>\n",
       "    </tr>\n",
       "  </thead>\n",
       "  <tbody>\n",
       "    <tr>\n",
       "      <th>0</th>\n",
       "      <td>0</td>\n",
       "      <td>2.446383e+07</td>\n",
       "    </tr>\n",
       "    <tr>\n",
       "      <th>1</th>\n",
       "      <td>1</td>\n",
       "      <td>2.913970e+07</td>\n",
       "    </tr>\n",
       "    <tr>\n",
       "      <th>2</th>\n",
       "      <td>2</td>\n",
       "      <td>6.144578e+07</td>\n",
       "    </tr>\n",
       "    <tr>\n",
       "      <th>3</th>\n",
       "      <td>3</td>\n",
       "      <td>4.555248e+07</td>\n",
       "    </tr>\n",
       "    <tr>\n",
       "      <th>4</th>\n",
       "      <td>4</td>\n",
       "      <td>8.227089e+06</td>\n",
       "    </tr>\n",
       "  </tbody>\n",
       "</table>\n",
       "</div>"
      ],
      "text/plain": [
       "   ID         score\n",
       "0   0  2.446383e+07\n",
       "1   1  2.913970e+07\n",
       "2   2  6.144578e+07\n",
       "3   3  4.555248e+07\n",
       "4   4  8.227089e+06"
      ]
     },
     "execution_count": 18,
     "metadata": {},
     "output_type": "execute_result"
    }
   ],
   "source": [
    "sub.head()"
   ]
  },
  {
   "cell_type": "code",
   "execution_count": null,
   "metadata": {},
   "outputs": [],
   "source": []
  }
 ],
 "metadata": {
  "kernelspec": {
   "display_name": "Python 3",
   "language": "python",
   "name": "python3"
  },
  "language_info": {
   "codemirror_mode": {
    "name": "ipython",
    "version": 3
   },
   "file_extension": ".py",
   "mimetype": "text/x-python",
   "name": "python",
   "nbconvert_exporter": "python",
   "pygments_lexer": "ipython3",
   "version": "3.7.3"
  },
  "toc": {
   "base_numbering": 1,
   "nav_menu": {},
   "number_sections": true,
   "sideBar": true,
   "skip_h1_title": false,
   "title_cell": "Table of Contents",
   "title_sidebar": "Contents",
   "toc_cell": false,
   "toc_position": {},
   "toc_section_display": true,
   "toc_window_display": false
  }
 },
 "nbformat": 4,
 "nbformat_minor": 4
}
