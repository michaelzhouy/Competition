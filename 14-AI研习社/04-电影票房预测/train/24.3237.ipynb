{
 "cells": [
  {
   "cell_type": "code",
   "execution_count": 1,
   "metadata": {
    "ExecuteTime": {
     "end_time": "2020-11-25T14:59:50.543666Z",
     "start_time": "2020-11-25T14:59:48.504630Z"
    }
   },
   "outputs": [],
   "source": [
    "import time\n",
    "import numpy as np\n",
    "import pandas as pd\n",
    "from tqdm import tqdm\n",
    "import lightgbm as lgb\n",
    "import gc\n",
    "from datetime import datetime\n",
    "from sklearn.model_selection import train_test_split, KFold\n",
    "from sklearn.metrics import mean_squared_log_error\n",
    "from sklearn.preprocessing import LabelEncoder\n",
    "import warnings\n",
    "warnings.filterwarnings('ignore')\n",
    "pd.set_option('max_columns', None)\n",
    "pd.set_option('max_rows', None)"
   ]
  },
  {
   "cell_type": "code",
   "execution_count": 2,
   "metadata": {
    "ExecuteTime": {
     "end_time": "2020-11-25T14:59:50.878499Z",
     "start_time": "2020-11-25T14:59:50.545647Z"
    }
   },
   "outputs": [],
   "source": [
    "train = pd.read_csv('../input/train.csv')\n",
    "test = pd.read_csv('../input/test.csv')\n",
    "data = pd.concat([train, test], axis=0, ignore_index=True)"
   ]
  },
  {
   "cell_type": "markdown",
   "metadata": {},
   "source": [
    "## drop特征"
   ]
  },
  {
   "cell_type": "code",
   "execution_count": 3,
   "metadata": {
    "ExecuteTime": {
     "end_time": "2020-11-25T14:59:50.893451Z",
     "start_time": "2020-11-25T14:59:50.880453Z"
    }
   },
   "outputs": [],
   "source": [
    "drop_cols = ['poster_path', 'imdb_id']\n",
    "data.drop(drop_cols, axis=1, inplace=True)"
   ]
  },
  {
   "cell_type": "markdown",
   "metadata": {},
   "source": [
    "## 时间特征"
   ]
  },
  {
   "cell_type": "code",
   "execution_count": 4,
   "metadata": {
    "ExecuteTime": {
     "end_time": "2020-11-25T14:59:50.971402Z",
     "start_time": "2020-11-25T14:59:50.897444Z"
    }
   },
   "outputs": [],
   "source": [
    "data['release_year'] = data['release_date'].apply(lambda x: '19' + x.split('/')[2] if int(x.split('/')[2]) > 20 else '20' + x.split('/')[2]).astype(int)\n",
    "data['release_month'] = data['release_date'].apply(lambda x: x.split('/')[0]).astype(int)\n",
    "data['release_day'] = data['release_date'].apply(lambda x: x.split('/')[1]).astype(int)\n",
    "\n",
    "data['release_date'] = pd.to_datetime(data['release_year'].astype(str) + '-' + data['release_month'].astype(str) + '-' + data['release_day'].astype(str))\n",
    "\n",
    "data['release_date_weekday'] = data['release_date'].apply(lambda x: x.weekday())\n",
    "data['release_date_TONOW'] = (datetime.now() - data['release_date']).dt.days\n",
    "\n",
    "data.drop(['release_day', 'release_date'], axis=1, inplace=True)"
   ]
  },
  {
   "cell_type": "markdown",
   "metadata": {},
   "source": [
    "## 判断是否为空"
   ]
  },
  {
   "cell_type": "code",
   "execution_count": 5,
   "metadata": {
    "ExecuteTime": {
     "end_time": "2020-11-25T14:59:50.988393Z",
     "start_time": "2020-11-25T14:59:50.973402Z"
    }
   },
   "outputs": [],
   "source": [
    "isnull_cols = ['homepage', 'tagline', 'belongs_to_collection']\n",
    "for i in isnull_cols:\n",
    "    data[i + 'isnull'] = np.where(pd.isnull(data[i]), 1, 0)\n",
    "data.drop(isnull_cols, axis=1, inplace=True)"
   ]
  },
  {
   "cell_type": "markdown",
   "metadata": {},
   "source": [
    "## 数值特征"
   ]
  },
  {
   "cell_type": "code",
   "execution_count": 6,
   "metadata": {
    "ExecuteTime": {
     "end_time": "2020-11-25T14:59:50.995387Z",
     "start_time": "2020-11-25T14:59:50.990392Z"
    }
   },
   "outputs": [],
   "source": [
    "num_cols = ['runtime', 'popularity', 'budget']"
   ]
  },
  {
   "cell_type": "markdown",
   "metadata": {},
   "source": [
    "## 类别特征"
   ]
  },
  {
   "cell_type": "code",
   "execution_count": 7,
   "metadata": {
    "ExecuteTime": {
     "end_time": "2020-11-25T14:59:51.018377Z",
     "start_time": "2020-11-25T14:59:50.998387Z"
    }
   },
   "outputs": [
    {
     "data": {
      "text/plain": [
       "0                            Wrath of the Titans\n",
       "1                                      From Hell\n",
       "2                   Guess Who's Coming to Dinner\n",
       "3    Talladega Nights: The Ballad of Ricky Bobby\n",
       "4                                         Xanadu\n",
       "Name: title, dtype: object"
      ]
     },
     "execution_count": 7,
     "metadata": {},
     "output_type": "execute_result"
    }
   ],
   "source": [
    "data['title'][:5]"
   ]
  },
  {
   "cell_type": "code",
   "execution_count": 8,
   "metadata": {
    "ExecuteTime": {
     "end_time": "2020-11-25T14:59:51.029370Z",
     "start_time": "2020-11-25T14:59:51.022373Z"
    }
   },
   "outputs": [
    {
     "data": {
      "text/plain": [
       "(0, 0)"
      ]
     },
     "execution_count": 8,
     "metadata": {},
     "output_type": "execute_result"
    }
   ],
   "source": [
    "data['title'].isnull().sum(), data['original_title'].isnull().sum()"
   ]
  },
  {
   "cell_type": "code",
   "execution_count": 9,
   "metadata": {
    "ExecuteTime": {
     "end_time": "2020-11-25T14:59:51.070345Z",
     "start_time": "2020-11-25T14:59:51.032366Z"
    }
   },
   "outputs": [
    {
     "name": "stderr",
     "output_type": "stream",
     "text": [
      "100%|███████████████████████████████████████████████████████████████████████████████████| 2/2 [00:00<00:00, 333.50it/s]\n"
     ]
    }
   ],
   "source": [
    "cat_cols = ['original_language', 'status', 'title', 'original_title']\n",
    "\n",
    "data['title=original_title'] = (data['title'] == data['original_title']).astype(int)\n",
    "\n",
    "for i in tqdm(['original_language', 'status']):\n",
    "    le = LabelEncoder()\n",
    "    data[i] = le.fit_transform(data[i])\n",
    "\n",
    "data['original_language_count'] = data['original_language'].map(data['original_language'].value_counts())\n",
    "data['title_count'] = data['title'].map(data['title'].value_counts())\n",
    "\n",
    "data.drop(['title', 'original_title'], axis=1, inplace=True)"
   ]
  },
  {
   "cell_type": "markdown",
   "metadata": {},
   "source": [
    "## 嵌套特征"
   ]
  },
  {
   "cell_type": "code",
   "execution_count": 10,
   "metadata": {
    "ExecuteTime": {
     "end_time": "2020-11-25T14:59:55.227298Z",
     "start_time": "2020-11-25T14:59:51.074344Z"
    }
   },
   "outputs": [],
   "source": [
    "nested_cols = ['genres', 'production_companies', 'production_countries',\n",
    "               'Keywords', 'spoken_languages', 'cast', 'crew']\n",
    "for i in nested_cols:\n",
    "    data[i + '_length'] = data[i].apply(lambda x: 0 if pd.isnull(x) else len(eval(x)))\n",
    "#     print(i + '_length')\n",
    "#     print(data[i + '_length'].unique())\n",
    "\n",
    "data['genres_0'] = data['genres'].apply(lambda x: np.nan if pd.isnull(x) else eval(x)[0]['name'])\n",
    "\n",
    "le = LabelEncoder()\n",
    "data['genres_0'] = le.fit_transform(data['genres_0'].astype(str))\n",
    "data['genres_0_count'] = data['genres_0'].map(data['genres_0'].value_counts())\n",
    "\n",
    "data.drop(nested_cols, axis=1, inplace=True)"
   ]
  },
  {
   "cell_type": "markdown",
   "metadata": {},
   "source": [
    "## 其他"
   ]
  },
  {
   "cell_type": "code",
   "execution_count": 11,
   "metadata": {
    "ExecuteTime": {
     "end_time": "2020-11-25T14:59:55.237226Z",
     "start_time": "2020-11-25T14:59:55.229230Z"
    }
   },
   "outputs": [],
   "source": [
    "data.drop('overview', axis=1, inplace=True)"
   ]
  },
  {
   "cell_type": "code",
   "execution_count": 12,
   "metadata": {
    "ExecuteTime": {
     "end_time": "2020-11-25T14:59:55.710971Z",
     "start_time": "2020-11-25T14:59:55.240223Z"
    }
   },
   "outputs": [
    {
     "name": "stderr",
     "output_type": "stream",
     "text": [
      "  0%|                                                                                            | 0/2 [00:00<?, ?it/s]\n",
      "  0%|                                                                                            | 0/3 [00:00<?, ?it/s]\u001b[A\n",
      "100%|████████████████████████████████████████████████████████████████████████████████████| 3/3 [00:00<00:00, 14.29it/s]\u001b[A\n",
      " 50%|██████████████████████████████████████████                                          | 1/2 [00:00<00:00,  4.59it/s]\n",
      "  0%|                                                                                            | 0/3 [00:00<?, ?it/s]\u001b[A\n",
      "100%|████████████████████████████████████████████████████████████████████████████████████| 3/3 [00:00<00:00, 13.28it/s]\u001b[A\n",
      "100%|████████████████████████████████████████████████████████████████████████████████████| 2/2 [00:00<00:00,  4.42it/s]\n"
     ]
    }
   ],
   "source": [
    "def cat_num_stats(df, cat_cols, num_cols):\n",
    "    for f1 in tqdm(cat_cols):\n",
    "        g = df.groupby(f1, as_index=False)\n",
    "        for f2 in tqdm(num_cols):\n",
    "            tmp = g[f2].agg({\n",
    "                '{}_{}_max'.format(f1, f2): 'max',\n",
    "                '{}_{}_min'.format(f1, f2): 'min',\n",
    "                '{}_{}_median'.format(f1, f2): 'median',\n",
    "                '{}_{}_mean'.format(f1, f2): 'mean',\n",
    "                '{}_{}_sum'.format(f1, f2): 'sum',\n",
    "                '{}_{}_skew'.format(f1, f2): 'skew',\n",
    "                '{}_{}_std'.format(f1, f2): 'std'\n",
    "            })\n",
    "            df = df.merge(tmp, on=f1, how='left')\n",
    "            del tmp\n",
    "            gc.collect()\n",
    "    return df\n",
    "\n",
    "data = cat_num_stats(data, ['genres_0', 'original_language'], num_cols)"
   ]
  },
  {
   "cell_type": "code",
   "execution_count": 13,
   "metadata": {
    "ExecuteTime": {
     "end_time": "2020-11-25T14:59:56.429569Z",
     "start_time": "2020-11-25T14:59:55.712953Z"
    }
   },
   "outputs": [
    {
     "name": "stdout",
     "output_type": "stream",
     "text": [
      "Training until validation scores don't improve for 100 rounds\n",
      "[50]\ttraining's rmsle: 3.87833\tvalid_1's rmsle: 4.44006\n",
      "[100]\ttraining's rmsle: 3.3084\tvalid_1's rmsle: 4.29599\n",
      "Early stopping, best iteration is:\n",
      "[22]\ttraining's rmsle: 3.94492\tvalid_1's rmsle: 4.51549\n"
     ]
    }
   ],
   "source": [
    "train = data[data['revenue'].notnull()]\n",
    "test = data[data['revenue'].isnull()]\n",
    "\n",
    "y_mean = train['revenue'].mean()\n",
    "\n",
    "used_cols = [i for i in train.columns if i not in ['id', 'release_date', 'revenue']]\n",
    "y = train['revenue'] - y_mean\n",
    "train = train[used_cols]\n",
    "test = test[used_cols]\n",
    "\n",
    "X_train, X_valid, y_train, y_valid = train_test_split(train, y, random_state=2020)\n",
    "\n",
    "dtrain = lgb.Dataset(X_train, y_train)\n",
    "dvalid = lgb.Dataset(X_valid, y_valid)\n",
    "\n",
    "params = {\n",
    "    'boosting_type': 'gbdt',\n",
    "    'objective': 'regression',\n",
    "    'metric': 'None',\n",
    "    'learning_rate': 0.05,\n",
    "    'seed': 2020\n",
    "}\n",
    "\n",
    "def rmsle(y_hat, data):\n",
    "    y_true = data.get_label()\n",
    "    y_hat = np.where(y_hat < 0, 1, y_hat)\n",
    "    y_true = np.where(y_true < 0, 1, y_hat)\n",
    "    res = np.sqrt(mean_squared_log_error(y_true, y_hat))\n",
    "    return 'rmsle', res, True\n",
    "\n",
    "model = lgb.train(\n",
    "    params,\n",
    "    dtrain,\n",
    "    valid_sets=[dtrain, dvalid],\n",
    "    num_boost_round=1000000,\n",
    "    early_stopping_rounds=100,\n",
    "    verbose_eval=50,\n",
    "    feval=rmsle\n",
    ")\n",
    "\n",
    "pred = model.predict(test).astype(int)\n",
    "\n",
    "sub = pd.DataFrame()\n",
    "sub['ID'] = np.arange(0, 600)\n",
    "sub['revenue'] = pred + y_mean\n",
    "sub['revenue'] = sub['revenue'].astype(int)"
   ]
  },
  {
   "cell_type": "code",
   "execution_count": 14,
   "metadata": {
    "ExecuteTime": {
     "end_time": "2020-11-25T14:59:56.469547Z",
     "start_time": "2020-11-25T14:59:56.432566Z"
    }
   },
   "outputs": [
    {
     "data": {
      "text/html": [
       "<div>\n",
       "<style scoped>\n",
       "    .dataframe tbody tr th:only-of-type {\n",
       "        vertical-align: middle;\n",
       "    }\n",
       "\n",
       "    .dataframe tbody tr th {\n",
       "        vertical-align: top;\n",
       "    }\n",
       "\n",
       "    .dataframe thead th {\n",
       "        text-align: right;\n",
       "    }\n",
       "</style>\n",
       "<table border=\"1\" class=\"dataframe\">\n",
       "  <thead>\n",
       "    <tr style=\"text-align: right;\">\n",
       "      <th></th>\n",
       "      <th>ID</th>\n",
       "      <th>revenue</th>\n",
       "    </tr>\n",
       "  </thead>\n",
       "  <tbody>\n",
       "    <tr>\n",
       "      <th>count</th>\n",
       "      <td>600.000000</td>\n",
       "      <td>6.000000e+02</td>\n",
       "    </tr>\n",
       "    <tr>\n",
       "      <th>mean</th>\n",
       "      <td>299.500000</td>\n",
       "      <td>6.319757e+07</td>\n",
       "    </tr>\n",
       "    <tr>\n",
       "      <th>std</th>\n",
       "      <td>173.349358</td>\n",
       "      <td>6.650864e+07</td>\n",
       "    </tr>\n",
       "    <tr>\n",
       "      <th>min</th>\n",
       "      <td>0.000000</td>\n",
       "      <td>2.562200e+07</td>\n",
       "    </tr>\n",
       "    <tr>\n",
       "      <th>25%</th>\n",
       "      <td>149.750000</td>\n",
       "      <td>2.846420e+07</td>\n",
       "    </tr>\n",
       "    <tr>\n",
       "      <th>50%</th>\n",
       "      <td>299.500000</td>\n",
       "      <td>3.753413e+07</td>\n",
       "    </tr>\n",
       "    <tr>\n",
       "      <th>75%</th>\n",
       "      <td>449.250000</td>\n",
       "      <td>6.956178e+07</td>\n",
       "    </tr>\n",
       "    <tr>\n",
       "      <th>max</th>\n",
       "      <td>599.000000</td>\n",
       "      <td>5.246116e+08</td>\n",
       "    </tr>\n",
       "  </tbody>\n",
       "</table>\n",
       "</div>"
      ],
      "text/plain": [
       "               ID       revenue\n",
       "count  600.000000  6.000000e+02\n",
       "mean   299.500000  6.319757e+07\n",
       "std    173.349358  6.650864e+07\n",
       "min      0.000000  2.562200e+07\n",
       "25%    149.750000  2.846420e+07\n",
       "50%    299.500000  3.753413e+07\n",
       "75%    449.250000  6.956178e+07\n",
       "max    599.000000  5.246116e+08"
      ]
     },
     "execution_count": 14,
     "metadata": {},
     "output_type": "execute_result"
    }
   ],
   "source": [
    "sub.describe()"
   ]
  },
  {
   "cell_type": "code",
   "execution_count": 15,
   "metadata": {
    "ExecuteTime": {
     "end_time": "2020-11-25T14:59:56.495529Z",
     "start_time": "2020-11-25T14:59:56.474542Z"
    }
   },
   "outputs": [],
   "source": [
    "sub['revenue'] = np.where(sub['revenue'] <=0, y_mean, sub['revenue'])\n",
    "sub.to_csv('../sub/sub_{}.csv'.format(time.strftime('%Y%m%d')), index=False, header=False)"
   ]
  },
  {
   "cell_type": "code",
   "execution_count": null,
   "metadata": {},
   "outputs": [],
   "source": []
  }
 ],
 "metadata": {
  "kernelspec": {
   "display_name": "Python 3",
   "language": "python",
   "name": "python3"
  },
  "language_info": {
   "codemirror_mode": {
    "name": "ipython",
    "version": 3
   },
   "file_extension": ".py",
   "mimetype": "text/x-python",
   "name": "python",
   "nbconvert_exporter": "python",
   "pygments_lexer": "ipython3",
   "version": "3.7.3"
  },
  "toc": {
   "base_numbering": 1,
   "nav_menu": {},
   "number_sections": true,
   "sideBar": true,
   "skip_h1_title": false,
   "title_cell": "Table of Contents",
   "title_sidebar": "Contents",
   "toc_cell": false,
   "toc_position": {},
   "toc_section_display": true,
   "toc_window_display": false
  }
 },
 "nbformat": 4,
 "nbformat_minor": 4
}
