{
 "cells": [
  {
   "cell_type": "code",
   "execution_count": 1,
   "metadata": {
    "ExecuteTime": {
     "end_time": "2020-11-25T15:00:56.170132Z",
     "start_time": "2020-11-25T15:00:53.930018Z"
    }
   },
   "outputs": [],
   "source": [
    "import math\n",
    "import numpy as np\n",
    "import pandas as pd\n",
    "from tqdm import tqdm\n",
    "import lightgbm as lgb\n",
    "import gc\n",
    "from sklearn.model_selection import train_test_split\n",
    "from sklearn.metrics import mean_squared_log_error\n",
    "import warnings\n",
    "warnings.filterwarnings('ignore')\n",
    "pd.set_option('max_columns', None)\n",
    "pd.set_option('max_rows', None)"
   ]
  },
  {
   "cell_type": "code",
   "execution_count": 2,
   "metadata": {
    "ExecuteTime": {
     "end_time": "2020-11-25T15:00:56.555909Z",
     "start_time": "2020-11-25T15:00:56.175130Z"
    }
   },
   "outputs": [],
   "source": [
    "train = pd.read_csv('../input/train.csv')\n",
    "test = pd.read_csv('../input/test.csv')\n",
    "\n",
    "data = pd.concat([train, test], axis=0, ignore_index=True)"
   ]
  },
  {
   "cell_type": "code",
   "execution_count": 3,
   "metadata": {
    "ExecuteTime": {
     "end_time": "2020-11-25T15:00:56.574899Z",
     "start_time": "2020-11-25T15:00:56.558908Z"
    }
   },
   "outputs": [],
   "source": [
    "drop_cols = ['belongs_to_collection', 'homepage', 'imdb_id', 'original_title', 'overview',\n",
    "             'poster_path', 'tagline', 'title']\n",
    "\n",
    "data.drop(drop_cols, axis=1, inplace=True)"
   ]
  },
  {
   "cell_type": "code",
   "execution_count": 4,
   "metadata": {
    "ExecuteTime": {
     "end_time": "2020-11-25T15:00:56.585893Z",
     "start_time": "2020-11-25T15:00:56.577897Z"
    }
   },
   "outputs": [],
   "source": [
    "list_cols = ['genres', 'production_companies', 'production_countries', 'spoken_languages', 'Keywords', 'cast', 'crew']\n",
    "cat_cols = ['original_language']\n",
    "num_cols = ['budget', 'popularity', 'runtime']"
   ]
  },
  {
   "cell_type": "code",
   "execution_count": 5,
   "metadata": {
    "ExecuteTime": {
     "end_time": "2020-11-25T15:01:00.662690Z",
     "start_time": "2020-11-25T15:00:56.589892Z"
    }
   },
   "outputs": [],
   "source": [
    "for i in list_cols:\n",
    "    data[i + '_length'] = data[i].apply(lambda x: 0 if pd.isnull(x) else len(eval(x)))"
   ]
  },
  {
   "cell_type": "code",
   "execution_count": 6,
   "metadata": {
    "ExecuteTime": {
     "end_time": "2020-11-25T15:01:00.755896Z",
     "start_time": "2020-11-25T15:01:00.664774Z"
    }
   },
   "outputs": [],
   "source": [
    "data['genres_0'] = data['genres'].apply(lambda x: np.nan if pd.isnull(x) else eval(x)[0]['name'])\n",
    "cat_cols.append('genres_0')"
   ]
  },
  {
   "cell_type": "code",
   "execution_count": 7,
   "metadata": {
    "ExecuteTime": {
     "end_time": "2020-11-25T15:01:00.775833Z",
     "start_time": "2020-11-25T15:01:00.757843Z"
    }
   },
   "outputs": [
    {
     "data": {
      "text/plain": [
       "Index(['id', 'budget', 'original_language', 'popularity', 'release_date',\n",
       "       'runtime', 'status', 'revenue', 'genres_length',\n",
       "       'production_companies_length', 'production_countries_length',\n",
       "       'spoken_languages_length', 'Keywords_length', 'cast_length',\n",
       "       'crew_length', 'genres_0'],\n",
       "      dtype='object')"
      ]
     },
     "execution_count": 7,
     "metadata": {},
     "output_type": "execute_result"
    }
   ],
   "source": [
    "data.drop(list_cols, axis=1, inplace=True)\n",
    "data.columns"
   ]
  },
  {
   "cell_type": "code",
   "execution_count": 8,
   "metadata": {
    "ExecuteTime": {
     "end_time": "2020-11-25T15:01:00.829799Z",
     "start_time": "2020-11-25T15:01:00.779828Z"
    }
   },
   "outputs": [],
   "source": [
    "data['release_year'] = data['release_date'].apply(lambda x: '19' + x.split('/')[2] if int(x.split('/')[2]) > 20 else '20' + x.split('/')[2])\n",
    "data['release_month'] = data['release_date'].apply(lambda x: x.split('/')[0])\n",
    "data['release_day'] = data['release_date'].apply(lambda x: x.split('/')[1])\n",
    "\n",
    "data['release_date'] = pd.to_datetime(data['release_year'] + '-' + data['release_month'] + '-' + data['release_day'])\n",
    "data.drop(['release_year', 'release_month', 'release_day'], axis=1, inplace=True)"
   ]
  },
  {
   "cell_type": "code",
   "execution_count": 9,
   "metadata": {
    "ExecuteTime": {
     "end_time": "2020-11-25T15:01:00.840792Z",
     "start_time": "2020-11-25T15:01:00.832797Z"
    }
   },
   "outputs": [],
   "source": [
    "data['release_month'] = data['release_date'].dt.month"
   ]
  },
  {
   "cell_type": "code",
   "execution_count": 10,
   "metadata": {
    "ExecuteTime": {
     "end_time": "2020-11-25T15:01:00.866778Z",
     "start_time": "2020-11-25T15:01:00.843793Z"
    }
   },
   "outputs": [
    {
     "name": "stdout",
     "output_type": "stream",
     "text": [
      "original_language\n",
      "genres_0\n"
     ]
    }
   ],
   "source": [
    "def count_encode(df, cat_cols):\n",
    "    for col in cat_cols:\n",
    "        print(col)\n",
    "        vc = df[col].value_counts(dropna=True, normalize=True)\n",
    "        df[col + '_count'] = df[col].map(vc).astype('float32')\n",
    "    return df\n",
    "\n",
    "data = count_encode(data, cat_cols)"
   ]
  },
  {
   "cell_type": "code",
   "execution_count": 11,
   "metadata": {
    "ExecuteTime": {
     "end_time": "2020-11-25T15:01:01.412262Z",
     "start_time": "2020-11-25T15:01:00.869778Z"
    }
   },
   "outputs": [
    {
     "name": "stderr",
     "output_type": "stream",
     "text": [
      "  0%|                                                                                            | 0/2 [00:00<?, ?it/s]\n",
      "  0%|                                                                                            | 0/3 [00:00<?, ?it/s]\u001b[A\n",
      " 33%|████████████████████████████                                                        | 1/3 [00:00<00:00,  9.91it/s]\u001b[A\n",
      "100%|████████████████████████████████████████████████████████████████████████████████████| 3/3 [00:00<00:00, 10.88it/s]\u001b[A\n",
      " 50%|██████████████████████████████████████████                                          | 1/2 [00:00<00:00,  3.51it/s]\n",
      "  0%|                                                                                            | 0/3 [00:00<?, ?it/s]\u001b[A\n",
      "100%|████████████████████████████████████████████████████████████████████████████████████| 3/3 [00:00<00:00, 13.18it/s]\u001b[A\n",
      "100%|████████████████████████████████████████████████████████████████████████████████████| 2/2 [00:00<00:00,  3.81it/s]\n"
     ]
    }
   ],
   "source": [
    "def cat_num_stats(df, cat_cols, num_cols):\n",
    "    for f1 in tqdm(cat_cols):\n",
    "        g = df.groupby(f1, as_index=False)\n",
    "        for f2 in tqdm(num_cols):\n",
    "            tmp = g[f2].agg({\n",
    "                '{}_{}_max'.format(f1, f2): 'max',\n",
    "                '{}_{}_min'.format(f1, f2): 'min',\n",
    "                '{}_{}_median'.format(f1, f2): 'median',\n",
    "                '{}_{}_mean'.format(f1, f2): 'mean',\n",
    "                '{}_{}_sum'.format(f1, f2): 'sum',\n",
    "                '{}_{}_skew'.format(f1, f2): 'skew',\n",
    "                '{}_{}_std'.format(f1, f2): 'std'\n",
    "            })\n",
    "            df = df.merge(tmp, on=f1, how='left')\n",
    "            del tmp\n",
    "            gc.collect()\n",
    "    return df\n",
    "\n",
    "data = cat_num_stats(data, cat_cols, num_cols)"
   ]
  },
  {
   "cell_type": "code",
   "execution_count": 12,
   "metadata": {
    "ExecuteTime": {
     "end_time": "2020-11-25T15:01:01.430253Z",
     "start_time": "2020-11-25T15:01:01.414263Z"
    }
   },
   "outputs": [
    {
     "name": "stdout",
     "output_type": "stream",
     "text": [
      "original_language\n",
      "genres_0\n",
      "status\n"
     ]
    }
   ],
   "source": [
    "def label_encode(df, cat_cols, verbose=True):\n",
    "    for col in cat_cols:\n",
    "        df[col], _ = df[col].factorize(sort=True)\n",
    "        if df[col].max() > 32000:\n",
    "            df[col] = df[col].astype('int32')\n",
    "        else:\n",
    "            df[col] = df[col].astype('int16')\n",
    "        if verbose:\n",
    "            print(col)\n",
    "    return df\n",
    "\n",
    "data = label_encode(data, cat_cols + ['status'])"
   ]
  },
  {
   "cell_type": "code",
   "execution_count": 13,
   "metadata": {
    "ExecuteTime": {
     "end_time": "2020-11-25T15:01:01.442245Z",
     "start_time": "2020-11-25T15:01:01.432250Z"
    }
   },
   "outputs": [
    {
     "data": {
      "text/plain": [
       "Index(['id', 'budget', 'original_language', 'popularity', 'release_date',\n",
       "       'runtime', 'status', 'revenue', 'genres_length',\n",
       "       'production_companies_length', 'production_countries_length',\n",
       "       'spoken_languages_length', 'Keywords_length', 'cast_length',\n",
       "       'crew_length', 'genres_0', 'release_month', 'original_language_count',\n",
       "       'genres_0_count', 'original_language_budget_max',\n",
       "       'original_language_budget_min', 'original_language_budget_median',\n",
       "       'original_language_budget_mean', 'original_language_budget_sum',\n",
       "       'original_language_budget_skew', 'original_language_budget_std',\n",
       "       'original_language_popularity_max', 'original_language_popularity_min',\n",
       "       'original_language_popularity_median',\n",
       "       'original_language_popularity_mean', 'original_language_popularity_sum',\n",
       "       'original_language_popularity_skew', 'original_language_popularity_std',\n",
       "       'original_language_runtime_max', 'original_language_runtime_min',\n",
       "       'original_language_runtime_median', 'original_language_runtime_mean',\n",
       "       'original_language_runtime_sum', 'original_language_runtime_skew',\n",
       "       'original_language_runtime_std', 'genres_0_budget_max',\n",
       "       'genres_0_budget_min', 'genres_0_budget_median', 'genres_0_budget_mean',\n",
       "       'genres_0_budget_sum', 'genres_0_budget_skew', 'genres_0_budget_std',\n",
       "       'genres_0_popularity_max', 'genres_0_popularity_min',\n",
       "       'genres_0_popularity_median', 'genres_0_popularity_mean',\n",
       "       'genres_0_popularity_sum', 'genres_0_popularity_skew',\n",
       "       'genres_0_popularity_std', 'genres_0_runtime_max',\n",
       "       'genres_0_runtime_min', 'genres_0_runtime_median',\n",
       "       'genres_0_runtime_mean', 'genres_0_runtime_sum',\n",
       "       'genres_0_runtime_skew', 'genres_0_runtime_std'],\n",
       "      dtype='object')"
      ]
     },
     "execution_count": 13,
     "metadata": {},
     "output_type": "execute_result"
    }
   ],
   "source": [
    "data.columns"
   ]
  },
  {
   "cell_type": "code",
   "execution_count": 14,
   "metadata": {
    "ExecuteTime": {
     "end_time": "2020-11-25T15:01:01.455237Z",
     "start_time": "2020-11-25T15:01:01.445242Z"
    }
   },
   "outputs": [
    {
     "data": {
      "text/plain": [
       "65868516"
      ]
     },
     "execution_count": 14,
     "metadata": {},
     "output_type": "execute_result"
    }
   ],
   "source": [
    "mean_revenue = int(data['revenue'].mean())\n",
    "mean_revenue"
   ]
  },
  {
   "cell_type": "code",
   "execution_count": 15,
   "metadata": {
    "ExecuteTime": {
     "end_time": "2020-11-25T15:01:01.501211Z",
     "start_time": "2020-11-25T15:01:01.458236Z"
    }
   },
   "outputs": [
    {
     "data": {
      "text/plain": [
       "((2400, 61), (600, 61))"
      ]
     },
     "execution_count": 15,
     "metadata": {},
     "output_type": "execute_result"
    }
   ],
   "source": [
    "train = data[data['revenue'].notnull()]\n",
    "test = data[data['revenue'].isnull()]\n",
    "train.shape, test.shape"
   ]
  },
  {
   "cell_type": "code",
   "execution_count": 16,
   "metadata": {
    "ExecuteTime": {
     "end_time": "2020-11-25T15:01:02.410308Z",
     "start_time": "2020-11-25T15:01:01.504212Z"
    }
   },
   "outputs": [
    {
     "name": "stdout",
     "output_type": "stream",
     "text": [
      "Training until validation scores don't improve for 100 rounds\n",
      "[50]\ttraining's rmsle: 3.75542\tvalid_1's rmsle: 4.63204\n",
      "[100]\ttraining's rmsle: 3.38572\tvalid_1's rmsle: 4.52044\n",
      "[150]\ttraining's rmsle: 2.92482\tvalid_1's rmsle: 4.54527\n",
      "Early stopping, best iteration is:\n",
      "[67]\ttraining's rmsle: 3.62901\tvalid_1's rmsle: 4.69979\n"
     ]
    }
   ],
   "source": [
    "mean_revenue = train['revenue'].mean()\n",
    "\n",
    "used_cols = [i for i in train.columns if i not in ['id', 'release_date', 'revenue']]\n",
    "y = train['revenue'] - mean_revenue\n",
    "train = train[used_cols]\n",
    "test = test[used_cols]\n",
    "\n",
    "X_train, X_valid, y_train, y_valid = train_test_split(train, y, random_state=2020)\n",
    "\n",
    "dtrain = lgb.Dataset(X_train, y_train)\n",
    "dvalid = lgb.Dataset(X_valid, y_valid)\n",
    "\n",
    "params = {\n",
    "    'boosting_type': 'gbdt',\n",
    "    'objective': 'regression',\n",
    "    'metric': 'None',\n",
    "    'learning_rate': 0.05,\n",
    "    'seed': 2020\n",
    "}\n",
    "\n",
    "def rmsle(y_hat, data):\n",
    "    y_true = data.get_label()\n",
    "    y_hat = np.where(y_hat < 0, 1, y_hat)\n",
    "    y_true = np.where(y_true < 0, 1, y_hat)\n",
    "    res = np.sqrt(mean_squared_log_error(y_true, y_hat))\n",
    "    return 'rmsle', res, True\n",
    "\n",
    "model = lgb.train(\n",
    "    params,\n",
    "    dtrain,\n",
    "    valid_sets=[dtrain, dvalid],\n",
    "    num_boost_round=1000000,\n",
    "    early_stopping_rounds=100,\n",
    "    verbose_eval=50,\n",
    "    feval=rmsle\n",
    ")\n",
    "\n",
    "pred = model.predict(test).astype(int)"
   ]
  },
  {
   "cell_type": "code",
   "execution_count": 17,
   "metadata": {
    "ExecuteTime": {
     "end_time": "2020-11-25T15:01:02.436295Z",
     "start_time": "2020-11-25T15:01:02.412307Z"
    }
   },
   "outputs": [],
   "source": [
    "sub = pd.DataFrame()\n",
    "sub['ID'] = np.arange(0, 600)\n",
    "sub['revenue'] = pred + mean_revenue\n",
    "sub['revenue'] = sub['revenue'].astype(int)\n",
    "sub.to_csv('../sub/baseline.csv', index=False, header=False)"
   ]
  },
  {
   "cell_type": "code",
   "execution_count": 18,
   "metadata": {
    "ExecuteTime": {
     "end_time": "2020-11-25T15:01:02.453285Z",
     "start_time": "2020-11-25T15:01:02.440294Z"
    }
   },
   "outputs": [
    {
     "name": "stdout",
     "output_type": "stream",
     "text": [
      "<class 'pandas.core.frame.DataFrame'>\n",
      "RangeIndex: 600 entries, 0 to 599\n",
      "Data columns (total 2 columns):\n",
      " #   Column   Non-Null Count  Dtype\n",
      "---  ------   --------------  -----\n",
      " 0   ID       600 non-null    int32\n",
      " 1   revenue  600 non-null    int32\n",
      "dtypes: int32(2)\n",
      "memory usage: 4.8 KB\n"
     ]
    }
   ],
   "source": [
    "sub.info()"
   ]
  },
  {
   "cell_type": "code",
   "execution_count": 19,
   "metadata": {
    "ExecuteTime": {
     "end_time": "2020-11-25T15:01:02.473274Z",
     "start_time": "2020-11-25T15:01:02.457284Z"
    }
   },
   "outputs": [
    {
     "data": {
      "text/html": [
       "<div>\n",
       "<style scoped>\n",
       "    .dataframe tbody tr th:only-of-type {\n",
       "        vertical-align: middle;\n",
       "    }\n",
       "\n",
       "    .dataframe tbody tr th {\n",
       "        vertical-align: top;\n",
       "    }\n",
       "\n",
       "    .dataframe thead th {\n",
       "        text-align: right;\n",
       "    }\n",
       "</style>\n",
       "<table border=\"1\" class=\"dataframe\">\n",
       "  <thead>\n",
       "    <tr style=\"text-align: right;\">\n",
       "      <th></th>\n",
       "      <th>ID</th>\n",
       "      <th>revenue</th>\n",
       "    </tr>\n",
       "  </thead>\n",
       "  <tbody>\n",
       "    <tr>\n",
       "      <th>0</th>\n",
       "      <td>0</td>\n",
       "      <td>27639467</td>\n",
       "    </tr>\n",
       "    <tr>\n",
       "      <th>1</th>\n",
       "      <td>1</td>\n",
       "      <td>28253202</td>\n",
       "    </tr>\n",
       "    <tr>\n",
       "      <th>2</th>\n",
       "      <td>2</td>\n",
       "      <td>59196072</td>\n",
       "    </tr>\n",
       "    <tr>\n",
       "      <th>3</th>\n",
       "      <td>3</td>\n",
       "      <td>46207228</td>\n",
       "    </tr>\n",
       "    <tr>\n",
       "      <th>4</th>\n",
       "      <td>4</td>\n",
       "      <td>9925060</td>\n",
       "    </tr>\n",
       "  </tbody>\n",
       "</table>\n",
       "</div>"
      ],
      "text/plain": [
       "   ID   revenue\n",
       "0   0  27639467\n",
       "1   1  28253202\n",
       "2   2  59196072\n",
       "3   3  46207228\n",
       "4   4   9925060"
      ]
     },
     "execution_count": 19,
     "metadata": {},
     "output_type": "execute_result"
    }
   ],
   "source": [
    "sub.head()"
   ]
  },
  {
   "cell_type": "code",
   "execution_count": 20,
   "metadata": {
    "ExecuteTime": {
     "end_time": "2020-11-25T15:01:02.508254Z",
     "start_time": "2020-11-25T15:01:02.477273Z"
    }
   },
   "outputs": [
    {
     "data": {
      "text/html": [
       "<div>\n",
       "<style scoped>\n",
       "    .dataframe tbody tr th:only-of-type {\n",
       "        vertical-align: middle;\n",
       "    }\n",
       "\n",
       "    .dataframe tbody tr th {\n",
       "        vertical-align: top;\n",
       "    }\n",
       "\n",
       "    .dataframe thead th {\n",
       "        text-align: right;\n",
       "    }\n",
       "</style>\n",
       "<table border=\"1\" class=\"dataframe\">\n",
       "  <thead>\n",
       "    <tr style=\"text-align: right;\">\n",
       "      <th></th>\n",
       "      <th>ID</th>\n",
       "      <th>revenue</th>\n",
       "    </tr>\n",
       "  </thead>\n",
       "  <tbody>\n",
       "    <tr>\n",
       "      <th>count</th>\n",
       "      <td>600.000000</td>\n",
       "      <td>6.000000e+02</td>\n",
       "    </tr>\n",
       "    <tr>\n",
       "      <th>mean</th>\n",
       "      <td>299.500000</td>\n",
       "      <td>6.399664e+07</td>\n",
       "    </tr>\n",
       "    <tr>\n",
       "      <th>std</th>\n",
       "      <td>173.349358</td>\n",
       "      <td>9.793944e+07</td>\n",
       "    </tr>\n",
       "    <tr>\n",
       "      <th>min</th>\n",
       "      <td>0.000000</td>\n",
       "      <td>2.648269e+06</td>\n",
       "    </tr>\n",
       "    <tr>\n",
       "      <th>25%</th>\n",
       "      <td>149.750000</td>\n",
       "      <td>1.375266e+07</td>\n",
       "    </tr>\n",
       "    <tr>\n",
       "      <th>50%</th>\n",
       "      <td>299.500000</td>\n",
       "      <td>2.721896e+07</td>\n",
       "    </tr>\n",
       "    <tr>\n",
       "      <th>75%</th>\n",
       "      <td>449.250000</td>\n",
       "      <td>6.916081e+07</td>\n",
       "    </tr>\n",
       "    <tr>\n",
       "      <th>max</th>\n",
       "      <td>599.000000</td>\n",
       "      <td>7.605197e+08</td>\n",
       "    </tr>\n",
       "  </tbody>\n",
       "</table>\n",
       "</div>"
      ],
      "text/plain": [
       "               ID       revenue\n",
       "count  600.000000  6.000000e+02\n",
       "mean   299.500000  6.399664e+07\n",
       "std    173.349358  9.793944e+07\n",
       "min      0.000000  2.648269e+06\n",
       "25%    149.750000  1.375266e+07\n",
       "50%    299.500000  2.721896e+07\n",
       "75%    449.250000  6.916081e+07\n",
       "max    599.000000  7.605197e+08"
      ]
     },
     "execution_count": 20,
     "metadata": {},
     "output_type": "execute_result"
    }
   ],
   "source": [
    "sub.describe()"
   ]
  },
  {
   "cell_type": "code",
   "execution_count": null,
   "metadata": {},
   "outputs": [],
   "source": []
  }
 ],
 "metadata": {
  "kernelspec": {
   "display_name": "Python 3",
   "language": "python",
   "name": "python3"
  },
  "language_info": {
   "codemirror_mode": {
    "name": "ipython",
    "version": 3
   },
   "file_extension": ".py",
   "mimetype": "text/x-python",
   "name": "python",
   "nbconvert_exporter": "python",
   "pygments_lexer": "ipython3",
   "version": "3.7.3"
  },
  "toc": {
   "base_numbering": 1,
   "nav_menu": {},
   "number_sections": true,
   "sideBar": true,
   "skip_h1_title": false,
   "title_cell": "Table of Contents",
   "title_sidebar": "Contents",
   "toc_cell": false,
   "toc_position": {},
   "toc_section_display": true,
   "toc_window_display": false
  }
 },
 "nbformat": 4,
 "nbformat_minor": 4
}
