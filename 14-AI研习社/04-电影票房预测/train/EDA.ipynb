{
 "cells": [
  {
   "cell_type": "code",
   "execution_count": 1,
   "metadata": {
    "ExecuteTime": {
     "end_time": "2020-11-21T05:34:44.109976Z",
     "start_time": "2020-11-21T05:34:43.541947Z"
    }
   },
   "outputs": [],
   "source": [
    "import numpy as np\n",
    "import pandas as pd\n",
    "import warnings\n",
    "warnings.filterwarnings('ignore')\n",
    "pd.set_option('max_columns', None)\n",
    "pd.set_option('max_rows', None)"
   ]
  },
  {
   "cell_type": "code",
   "execution_count": 2,
   "metadata": {
    "ExecuteTime": {
     "end_time": "2020-11-21T05:34:44.423145Z",
     "start_time": "2020-11-21T05:34:44.112281Z"
    }
   },
   "outputs": [],
   "source": [
    "train = pd.read_csv('../input/train.csv')\n",
    "test = pd.read_csv('../input/test.csv')"
   ]
  },
  {
   "cell_type": "code",
   "execution_count": 3,
   "metadata": {
    "ExecuteTime": {
     "end_time": "2020-11-21T05:34:44.467077Z",
     "start_time": "2020-11-21T05:34:44.427099Z"
    }
   },
   "outputs": [
    {
     "data": {
      "text/html": [
       "<div>\n",
       "<style scoped>\n",
       "    .dataframe tbody tr th:only-of-type {\n",
       "        vertical-align: middle;\n",
       "    }\n",
       "\n",
       "    .dataframe tbody tr th {\n",
       "        vertical-align: top;\n",
       "    }\n",
       "\n",
       "    .dataframe thead th {\n",
       "        text-align: right;\n",
       "    }\n",
       "</style>\n",
       "<table border=\"1\" class=\"dataframe\">\n",
       "  <thead>\n",
       "    <tr style=\"text-align: right;\">\n",
       "      <th></th>\n",
       "      <th>id</th>\n",
       "      <th>belongs_to_collection</th>\n",
       "      <th>budget</th>\n",
       "      <th>genres</th>\n",
       "      <th>homepage</th>\n",
       "      <th>imdb_id</th>\n",
       "      <th>original_language</th>\n",
       "      <th>original_title</th>\n",
       "      <th>overview</th>\n",
       "      <th>popularity</th>\n",
       "      <th>poster_path</th>\n",
       "      <th>production_companies</th>\n",
       "      <th>production_countries</th>\n",
       "      <th>release_date</th>\n",
       "      <th>runtime</th>\n",
       "      <th>spoken_languages</th>\n",
       "      <th>status</th>\n",
       "      <th>tagline</th>\n",
       "      <th>title</th>\n",
       "      <th>Keywords</th>\n",
       "      <th>cast</th>\n",
       "      <th>crew</th>\n",
       "      <th>revenue</th>\n",
       "    </tr>\n",
       "  </thead>\n",
       "  <tbody>\n",
       "    <tr>\n",
       "      <th>0</th>\n",
       "      <td>0</td>\n",
       "      <td>[{'id': 86780, 'name': 'Clash of the Titans Co...</td>\n",
       "      <td>150000000</td>\n",
       "      <td>[{'id': 12, 'name': 'Adventure'}]</td>\n",
       "      <td>http://www.wrathofthetitansmovie.org</td>\n",
       "      <td>tt1646987</td>\n",
       "      <td>en</td>\n",
       "      <td>Wrath of the Titans</td>\n",
       "      <td>A decade after his heroic defeat of the monstr...</td>\n",
       "      <td>7.739904</td>\n",
       "      <td>/Albfq3ziSCQVyh5PzMSsFmmgHmy.jpg</td>\n",
       "      <td>[{'name': 'Legendary Pictures', 'id': 923}, {'...</td>\n",
       "      <td>[{'iso_3166_1': 'ES', 'name': 'Spain'}, {'iso_...</td>\n",
       "      <td>3/27/12</td>\n",
       "      <td>99.0</td>\n",
       "      <td>[{'iso_639_1': 'en', 'name': 'English'}]</td>\n",
       "      <td>Released</td>\n",
       "      <td>Feel the Wrath</td>\n",
       "      <td>Wrath of the Titans</td>\n",
       "      <td>[{'id': 1449, 'name': 'underworld'}, {'id': 20...</td>\n",
       "      <td>[{'cast_id': 4, 'character': 'Perseus', 'credi...</td>\n",
       "      <td>[{'credit_id': '52fe4926c3a36847f818b96d', 'de...</td>\n",
       "      <td>301000000</td>\n",
       "    </tr>\n",
       "    <tr>\n",
       "      <th>1</th>\n",
       "      <td>1</td>\n",
       "      <td>NaN</td>\n",
       "      <td>35000000</td>\n",
       "      <td>[{'id': 27, 'name': 'Horror'}, {'id': 9648, 'n...</td>\n",
       "      <td>NaN</td>\n",
       "      <td>tt0120681</td>\n",
       "      <td>en</td>\n",
       "      <td>From Hell</td>\n",
       "      <td>Frederick Abberline is an opium-huffing inspec...</td>\n",
       "      <td>7.790140</td>\n",
       "      <td>/f3J77Cy3pRSeeN52Pk8oIvgi6IN.jpg</td>\n",
       "      <td>[{'name': 'Twentieth Century Fox Film Corporat...</td>\n",
       "      <td>[{'iso_3166_1': 'CZ', 'name': 'Czech Republic'...</td>\n",
       "      <td>10/19/01</td>\n",
       "      <td>122.0</td>\n",
       "      <td>[{'iso_639_1': 'en', 'name': 'English'}, {'iso...</td>\n",
       "      <td>Released</td>\n",
       "      <td>Only the legend will survive.</td>\n",
       "      <td>From Hell</td>\n",
       "      <td>[{'id': 1465, 'name': 'loss of family'}, {'id'...</td>\n",
       "      <td>[{'cast_id': 19, 'character': 'Inspector Frede...</td>\n",
       "      <td>[{'credit_id': '52fe4273c3a36847f801fbfb', 'de...</td>\n",
       "      <td>74558115</td>\n",
       "    </tr>\n",
       "    <tr>\n",
       "      <th>2</th>\n",
       "      <td>2</td>\n",
       "      <td>NaN</td>\n",
       "      <td>4000000</td>\n",
       "      <td>[{'id': 35, 'name': 'Comedy'}, {'id': 18, 'nam...</td>\n",
       "      <td>NaN</td>\n",
       "      <td>tt0061735</td>\n",
       "      <td>en</td>\n",
       "      <td>Guess Who's Coming to Dinner</td>\n",
       "      <td>Matt and Christina Drayton are a couple whose ...</td>\n",
       "      <td>5.032469</td>\n",
       "      <td>/bhdXWhembE6a6q11NqpUcEdtAbw.jpg</td>\n",
       "      <td>[{'name': 'Stanley Kramer Productions', 'id': ...</td>\n",
       "      <td>[{'iso_3166_1': 'US', 'name': 'United States o...</td>\n",
       "      <td>12/11/67</td>\n",
       "      <td>108.0</td>\n",
       "      <td>[{'iso_639_1': 'en', 'name': 'English'}]</td>\n",
       "      <td>Released</td>\n",
       "      <td>A love story of today</td>\n",
       "      <td>Guess Who's Coming to Dinner</td>\n",
       "      <td>[{'id': 582, 'name': 'san francisco'}, {'id': ...</td>\n",
       "      <td>[{'cast_id': 1, 'character': 'Matt Drayton', '...</td>\n",
       "      <td>[{'credit_id': '52fe431dc3a36847f803b563', 'de...</td>\n",
       "      <td>56666667</td>\n",
       "    </tr>\n",
       "    <tr>\n",
       "      <th>3</th>\n",
       "      <td>3</td>\n",
       "      <td>NaN</td>\n",
       "      <td>72500000</td>\n",
       "      <td>[{'id': 35, 'name': 'Comedy'}]</td>\n",
       "      <td>http://www.sonypictures.com/homevideo/talladeg...</td>\n",
       "      <td>tt0415306</td>\n",
       "      <td>en</td>\n",
       "      <td>Talladega Nights: The Ballad of Ricky Bobby</td>\n",
       "      <td>Lifelong friends and national idols Ricky Bobb...</td>\n",
       "      <td>6.936688</td>\n",
       "      <td>/hi8whfL7t6cL2LITLJjzJ7UWuZA.jpg</td>\n",
       "      <td>[{'name': 'Columbia Pictures', 'id': 5}, {'nam...</td>\n",
       "      <td>[{'iso_3166_1': 'US', 'name': 'United States o...</td>\n",
       "      <td>8/4/06</td>\n",
       "      <td>116.0</td>\n",
       "      <td>[{'iso_639_1': 'en', 'name': 'English'}]</td>\n",
       "      <td>Released</td>\n",
       "      <td>The story of a man who could only count to #1</td>\n",
       "      <td>Talladega Nights: The Ballad of Ricky Bobby</td>\n",
       "      <td>[{'id': 5922, 'name': 'north carolina'}, {'id'...</td>\n",
       "      <td>[{'cast_id': 8, 'character': 'Ricky Bobby', 'c...</td>\n",
       "      <td>[{'credit_id': '52fe4521c3a36847f80be20f', 'de...</td>\n",
       "      <td>162966177</td>\n",
       "    </tr>\n",
       "    <tr>\n",
       "      <th>4</th>\n",
       "      <td>4</td>\n",
       "      <td>NaN</td>\n",
       "      <td>20000000</td>\n",
       "      <td>[{'id': 14, 'name': 'Fantasy'}, {'id': 10402, ...</td>\n",
       "      <td>NaN</td>\n",
       "      <td>tt0081777</td>\n",
       "      <td>en</td>\n",
       "      <td>Xanadu</td>\n",
       "      <td>A beautiful muse inspires an artist and his ol...</td>\n",
       "      <td>3.782547</td>\n",
       "      <td>/wc3dC8DrI6qgD5sQlIkbjU7wcaS.jpg</td>\n",
       "      <td>[{'name': 'Universal Pictures', 'id': 33}]</td>\n",
       "      <td>[{'iso_3166_1': 'US', 'name': 'United States o...</td>\n",
       "      <td>8/8/80</td>\n",
       "      <td>96.0</td>\n",
       "      <td>[{'iso_639_1': 'en', 'name': 'English'}]</td>\n",
       "      <td>Released</td>\n",
       "      <td>A Fantasy, A Musical, A Place Where Dreams Com...</td>\n",
       "      <td>Xanadu</td>\n",
       "      <td>[{'id': 4344, 'name': 'musical'}, {'id': 6234,...</td>\n",
       "      <td>[{'cast_id': 1, 'character': 'Kira', 'credit_i...</td>\n",
       "      <td>[{'credit_id': '53700504c3a368121800ea1b', 'de...</td>\n",
       "      <td>22471595</td>\n",
       "    </tr>\n",
       "  </tbody>\n",
       "</table>\n",
       "</div>"
      ],
      "text/plain": [
       "   id                              belongs_to_collection     budget  \\\n",
       "0   0  [{'id': 86780, 'name': 'Clash of the Titans Co...  150000000   \n",
       "1   1                                                NaN   35000000   \n",
       "2   2                                                NaN    4000000   \n",
       "3   3                                                NaN   72500000   \n",
       "4   4                                                NaN   20000000   \n",
       "\n",
       "                                              genres  \\\n",
       "0                  [{'id': 12, 'name': 'Adventure'}]   \n",
       "1  [{'id': 27, 'name': 'Horror'}, {'id': 9648, 'n...   \n",
       "2  [{'id': 35, 'name': 'Comedy'}, {'id': 18, 'nam...   \n",
       "3                     [{'id': 35, 'name': 'Comedy'}]   \n",
       "4  [{'id': 14, 'name': 'Fantasy'}, {'id': 10402, ...   \n",
       "\n",
       "                                            homepage    imdb_id  \\\n",
       "0               http://www.wrathofthetitansmovie.org  tt1646987   \n",
       "1                                                NaN  tt0120681   \n",
       "2                                                NaN  tt0061735   \n",
       "3  http://www.sonypictures.com/homevideo/talladeg...  tt0415306   \n",
       "4                                                NaN  tt0081777   \n",
       "\n",
       "  original_language                               original_title  \\\n",
       "0                en                          Wrath of the Titans   \n",
       "1                en                                    From Hell   \n",
       "2                en                 Guess Who's Coming to Dinner   \n",
       "3                en  Talladega Nights: The Ballad of Ricky Bobby   \n",
       "4                en                                       Xanadu   \n",
       "\n",
       "                                            overview  popularity  \\\n",
       "0  A decade after his heroic defeat of the monstr...    7.739904   \n",
       "1  Frederick Abberline is an opium-huffing inspec...    7.790140   \n",
       "2  Matt and Christina Drayton are a couple whose ...    5.032469   \n",
       "3  Lifelong friends and national idols Ricky Bobb...    6.936688   \n",
       "4  A beautiful muse inspires an artist and his ol...    3.782547   \n",
       "\n",
       "                        poster_path  \\\n",
       "0  /Albfq3ziSCQVyh5PzMSsFmmgHmy.jpg   \n",
       "1  /f3J77Cy3pRSeeN52Pk8oIvgi6IN.jpg   \n",
       "2  /bhdXWhembE6a6q11NqpUcEdtAbw.jpg   \n",
       "3  /hi8whfL7t6cL2LITLJjzJ7UWuZA.jpg   \n",
       "4  /wc3dC8DrI6qgD5sQlIkbjU7wcaS.jpg   \n",
       "\n",
       "                                production_companies  \\\n",
       "0  [{'name': 'Legendary Pictures', 'id': 923}, {'...   \n",
       "1  [{'name': 'Twentieth Century Fox Film Corporat...   \n",
       "2  [{'name': 'Stanley Kramer Productions', 'id': ...   \n",
       "3  [{'name': 'Columbia Pictures', 'id': 5}, {'nam...   \n",
       "4         [{'name': 'Universal Pictures', 'id': 33}]   \n",
       "\n",
       "                                production_countries release_date  runtime  \\\n",
       "0  [{'iso_3166_1': 'ES', 'name': 'Spain'}, {'iso_...      3/27/12     99.0   \n",
       "1  [{'iso_3166_1': 'CZ', 'name': 'Czech Republic'...     10/19/01    122.0   \n",
       "2  [{'iso_3166_1': 'US', 'name': 'United States o...     12/11/67    108.0   \n",
       "3  [{'iso_3166_1': 'US', 'name': 'United States o...       8/4/06    116.0   \n",
       "4  [{'iso_3166_1': 'US', 'name': 'United States o...       8/8/80     96.0   \n",
       "\n",
       "                                    spoken_languages    status  \\\n",
       "0           [{'iso_639_1': 'en', 'name': 'English'}]  Released   \n",
       "1  [{'iso_639_1': 'en', 'name': 'English'}, {'iso...  Released   \n",
       "2           [{'iso_639_1': 'en', 'name': 'English'}]  Released   \n",
       "3           [{'iso_639_1': 'en', 'name': 'English'}]  Released   \n",
       "4           [{'iso_639_1': 'en', 'name': 'English'}]  Released   \n",
       "\n",
       "                                             tagline  \\\n",
       "0                                     Feel the Wrath   \n",
       "1                      Only the legend will survive.   \n",
       "2                              A love story of today   \n",
       "3      The story of a man who could only count to #1   \n",
       "4  A Fantasy, A Musical, A Place Where Dreams Com...   \n",
       "\n",
       "                                         title  \\\n",
       "0                          Wrath of the Titans   \n",
       "1                                    From Hell   \n",
       "2                 Guess Who's Coming to Dinner   \n",
       "3  Talladega Nights: The Ballad of Ricky Bobby   \n",
       "4                                       Xanadu   \n",
       "\n",
       "                                            Keywords  \\\n",
       "0  [{'id': 1449, 'name': 'underworld'}, {'id': 20...   \n",
       "1  [{'id': 1465, 'name': 'loss of family'}, {'id'...   \n",
       "2  [{'id': 582, 'name': 'san francisco'}, {'id': ...   \n",
       "3  [{'id': 5922, 'name': 'north carolina'}, {'id'...   \n",
       "4  [{'id': 4344, 'name': 'musical'}, {'id': 6234,...   \n",
       "\n",
       "                                                cast  \\\n",
       "0  [{'cast_id': 4, 'character': 'Perseus', 'credi...   \n",
       "1  [{'cast_id': 19, 'character': 'Inspector Frede...   \n",
       "2  [{'cast_id': 1, 'character': 'Matt Drayton', '...   \n",
       "3  [{'cast_id': 8, 'character': 'Ricky Bobby', 'c...   \n",
       "4  [{'cast_id': 1, 'character': 'Kira', 'credit_i...   \n",
       "\n",
       "                                                crew    revenue  \n",
       "0  [{'credit_id': '52fe4926c3a36847f818b96d', 'de...  301000000  \n",
       "1  [{'credit_id': '52fe4273c3a36847f801fbfb', 'de...   74558115  \n",
       "2  [{'credit_id': '52fe431dc3a36847f803b563', 'de...   56666667  \n",
       "3  [{'credit_id': '52fe4521c3a36847f80be20f', 'de...  162966177  \n",
       "4  [{'credit_id': '53700504c3a368121800ea1b', 'de...   22471595  "
      ]
     },
     "execution_count": 3,
     "metadata": {},
     "output_type": "execute_result"
    }
   ],
   "source": [
    "train.head()"
   ]
  },
  {
   "cell_type": "code",
   "execution_count": 4,
   "metadata": {
    "ExecuteTime": {
     "end_time": "2020-11-21T05:34:44.493064Z",
     "start_time": "2020-11-21T05:34:44.470076Z"
    }
   },
   "outputs": [
    {
     "name": "stdout",
     "output_type": "stream",
     "text": [
      "<class 'pandas.core.frame.DataFrame'>\n",
      "RangeIndex: 2400 entries, 0 to 2399\n",
      "Data columns (total 23 columns):\n",
      " #   Column                 Non-Null Count  Dtype  \n",
      "---  ------                 --------------  -----  \n",
      " 0   id                     2400 non-null   int64  \n",
      " 1   belongs_to_collection  479 non-null    object \n",
      " 2   budget                 2400 non-null   int64  \n",
      " 3   genres                 2393 non-null   object \n",
      " 4   homepage               754 non-null    object \n",
      " 5   imdb_id                2400 non-null   object \n",
      " 6   original_language      2400 non-null   object \n",
      " 7   original_title         2400 non-null   object \n",
      " 8   overview               2394 non-null   object \n",
      " 9   popularity             2400 non-null   float64\n",
      " 10  poster_path            2399 non-null   object \n",
      " 11  production_companies   2275 non-null   object \n",
      " 12  production_countries   2356 non-null   object \n",
      " 13  release_date           2400 non-null   object \n",
      " 14  runtime                2398 non-null   float64\n",
      " 15  spoken_languages       2386 non-null   object \n",
      " 16  status                 2400 non-null   object \n",
      " 17  tagline                1918 non-null   object \n",
      " 18  title                  2400 non-null   object \n",
      " 19  Keywords               2178 non-null   object \n",
      " 20  cast                   2390 non-null   object \n",
      " 21  crew                   2387 non-null   object \n",
      " 22  revenue                2400 non-null   int64  \n",
      "dtypes: float64(2), int64(3), object(18)\n",
      "memory usage: 431.4+ KB\n"
     ]
    }
   ],
   "source": [
    "train.info()"
   ]
  },
  {
   "cell_type": "code",
   "execution_count": 5,
   "metadata": {
    "ExecuteTime": {
     "end_time": "2020-11-21T05:34:44.504055Z",
     "start_time": "2020-11-21T05:34:44.496059Z"
    }
   },
   "outputs": [
    {
     "data": {
      "text/plain": [
       "2400"
      ]
     },
     "execution_count": 5,
     "metadata": {},
     "output_type": "execute_result"
    }
   ],
   "source": [
    "train['imdb_id'].nunique()"
   ]
  },
  {
   "cell_type": "code",
   "execution_count": 6,
   "metadata": {
    "ExecuteTime": {
     "end_time": "2020-11-21T05:34:44.515050Z",
     "start_time": "2020-11-21T05:34:44.507054Z"
    }
   },
   "outputs": [
    {
     "data": {
      "text/plain": [
       "35"
      ]
     },
     "execution_count": 6,
     "metadata": {},
     "output_type": "execute_result"
    }
   ],
   "source": [
    "train['original_language'].nunique()"
   ]
  },
  {
   "cell_type": "code",
   "execution_count": 7,
   "metadata": {
    "ExecuteTime": {
     "end_time": "2020-11-21T05:34:44.536036Z",
     "start_time": "2020-11-21T05:34:44.517048Z"
    }
   },
   "outputs": [
    {
     "data": {
      "text/plain": [
       "array(['en', 'fr', 'cn', 'ru', 'hi', 'ro', 'de', 'sv', 'tr', 'no', 'es',\n",
       "       'ja', 'bn', 'ta', 'ko', 'it', 'ml', 'zh', 'hu', 'nl', 'fa', 'fi',\n",
       "       'te', 'pt', 'da', 'el', 'cs', 'vi', 'pl', 'nb', 'he', 'id', 'mr',\n",
       "       'ar', 'ur'], dtype=object)"
      ]
     },
     "execution_count": 7,
     "metadata": {},
     "output_type": "execute_result"
    }
   ],
   "source": [
    "train['original_language'].unique()"
   ]
  },
  {
   "cell_type": "code",
   "execution_count": 8,
   "metadata": {
    "ExecuteTime": {
     "end_time": "2020-11-21T05:34:44.563021Z",
     "start_time": "2020-11-21T05:34:44.543035Z"
    }
   },
   "outputs": [
    {
     "data": {
      "text/html": [
       "<div>\n",
       "<style scoped>\n",
       "    .dataframe tbody tr th:only-of-type {\n",
       "        vertical-align: middle;\n",
       "    }\n",
       "\n",
       "    .dataframe tbody tr th {\n",
       "        vertical-align: top;\n",
       "    }\n",
       "\n",
       "    .dataframe thead th {\n",
       "        text-align: right;\n",
       "    }\n",
       "</style>\n",
       "<table border=\"1\" class=\"dataframe\">\n",
       "  <thead>\n",
       "    <tr style=\"text-align: right;\">\n",
       "      <th></th>\n",
       "      <th>id</th>\n",
       "      <th>budget</th>\n",
       "      <th>popularity</th>\n",
       "      <th>runtime</th>\n",
       "      <th>revenue</th>\n",
       "    </tr>\n",
       "  </thead>\n",
       "  <tbody>\n",
       "    <tr>\n",
       "      <th>id</th>\n",
       "      <td>1.000000</td>\n",
       "      <td>-0.032039</td>\n",
       "      <td>-0.026772</td>\n",
       "      <td>-0.026906</td>\n",
       "      <td>-0.014646</td>\n",
       "    </tr>\n",
       "    <tr>\n",
       "      <th>budget</th>\n",
       "      <td>-0.032039</td>\n",
       "      <td>1.000000</td>\n",
       "      <td>0.367651</td>\n",
       "      <td>0.233737</td>\n",
       "      <td>0.756382</td>\n",
       "    </tr>\n",
       "    <tr>\n",
       "      <th>popularity</th>\n",
       "      <td>-0.026772</td>\n",
       "      <td>0.367651</td>\n",
       "      <td>1.000000</td>\n",
       "      <td>0.150293</td>\n",
       "      <td>0.476102</td>\n",
       "    </tr>\n",
       "    <tr>\n",
       "      <th>runtime</th>\n",
       "      <td>-0.026906</td>\n",
       "      <td>0.233737</td>\n",
       "      <td>0.150293</td>\n",
       "      <td>1.000000</td>\n",
       "      <td>0.214462</td>\n",
       "    </tr>\n",
       "    <tr>\n",
       "      <th>revenue</th>\n",
       "      <td>-0.014646</td>\n",
       "      <td>0.756382</td>\n",
       "      <td>0.476102</td>\n",
       "      <td>0.214462</td>\n",
       "      <td>1.000000</td>\n",
       "    </tr>\n",
       "  </tbody>\n",
       "</table>\n",
       "</div>"
      ],
      "text/plain": [
       "                  id    budget  popularity   runtime   revenue\n",
       "id          1.000000 -0.032039   -0.026772 -0.026906 -0.014646\n",
       "budget     -0.032039  1.000000    0.367651  0.233737  0.756382\n",
       "popularity -0.026772  0.367651    1.000000  0.150293  0.476102\n",
       "runtime    -0.026906  0.233737    0.150293  1.000000  0.214462\n",
       "revenue    -0.014646  0.756382    0.476102  0.214462  1.000000"
      ]
     },
     "execution_count": 8,
     "metadata": {},
     "output_type": "execute_result"
    }
   ],
   "source": [
    "train.corr()"
   ]
  },
  {
   "cell_type": "code",
   "execution_count": 10,
   "metadata": {
    "ExecuteTime": {
     "end_time": "2020-11-21T05:35:13.349753Z",
     "start_time": "2020-11-21T05:35:13.342755Z"
    }
   },
   "outputs": [
    {
     "data": {
      "text/plain": [
       "array(['3/27/12', '10/19/01', '12/11/67', ..., '3/8/90', '4/16/04',\n",
       "       '6/27/06'], dtype=object)"
      ]
     },
     "execution_count": 10,
     "metadata": {},
     "output_type": "execute_result"
    }
   ],
   "source": [
    "train['release_date'].unique()"
   ]
  },
  {
   "cell_type": "code",
   "execution_count": 11,
   "metadata": {
    "ExecuteTime": {
     "end_time": "2020-11-21T05:35:32.345973Z",
     "start_time": "2020-11-21T05:35:32.337979Z"
    }
   },
   "outputs": [
    {
     "data": {
      "text/plain": [
       "2008"
      ]
     },
     "execution_count": 11,
     "metadata": {},
     "output_type": "execute_result"
    }
   ],
   "source": [
    "train['release_date'].nunique()"
   ]
  },
  {
   "cell_type": "code",
   "execution_count": 12,
   "metadata": {
    "ExecuteTime": {
     "end_time": "2020-11-21T05:35:56.646668Z",
     "start_time": "2020-11-21T05:35:56.640671Z"
    }
   },
   "outputs": [
    {
     "name": "stdout",
     "output_type": "stream",
     "text": [
      "['3/27/12' '10/19/01' '12/11/67' ... '3/8/90' '4/16/04' '6/27/06']\n"
     ]
    }
   ],
   "source": [
    "print(train['release_date'].unique())"
   ]
  },
  {
   "cell_type": "code",
   "execution_count": 15,
   "metadata": {
    "ExecuteTime": {
     "end_time": "2020-11-21T05:38:51.738853Z",
     "start_time": "2020-11-21T05:38:51.726860Z"
    }
   },
   "outputs": [
    {
     "name": "stdout",
     "output_type": "stream",
     "text": [
      "[3]\n"
     ]
    }
   ],
   "source": [
    "print(train['release_date'].apply(lambda x: len(x.split('/'))).unique())"
   ]
  },
  {
   "cell_type": "code",
   "execution_count": 18,
   "metadata": {
    "ExecuteTime": {
     "end_time": "2020-11-21T05:39:49.391580Z",
     "start_time": "2020-11-21T05:39:49.361596Z"
    }
   },
   "outputs": [],
   "source": [
    "train['release_year'] = train['release_date'].apply(lambda x: '19' + x.split('/')[2] if int(x.split('/')[2]) > 20 else '20' + x.split('/')[2])\n",
    "train['release_month'] = train['release_date'].apply(lambda x: x.split('/')[0])\n",
    "train['release_day'] = train['release_date'].apply(lambda x: x.split('/')[1])\n",
    "\n",
    "train['release_date'] = pd.to_datetime(train['release_year'] + '-' + train['release_month'] + '-' + train['release_day'])"
   ]
  },
  {
   "cell_type": "code",
   "execution_count": 19,
   "metadata": {
    "ExecuteTime": {
     "end_time": "2020-11-21T05:39:51.787578Z",
     "start_time": "2020-11-21T05:39:51.779582Z"
    }
   },
   "outputs": [
    {
     "data": {
      "text/plain": [
       "0   2012-03-27\n",
       "1   2001-10-19\n",
       "2   1967-12-11\n",
       "3   2006-08-04\n",
       "4   1980-08-08\n",
       "5   2015-01-29\n",
       "6   1992-07-10\n",
       "7   2017-03-23\n",
       "8   2010-06-17\n",
       "9   2013-07-30\n",
       "Name: release_date, dtype: datetime64[ns]"
      ]
     },
     "execution_count": 19,
     "metadata": {},
     "output_type": "execute_result"
    }
   ],
   "source": [
    "train['release_date'][:10]"
   ]
  },
  {
   "cell_type": "code",
   "execution_count": 20,
   "metadata": {
    "ExecuteTime": {
     "end_time": "2020-11-21T05:39:56.638541Z",
     "start_time": "2020-11-21T05:39:56.630546Z"
    }
   },
   "outputs": [],
   "source": [
    "train['release_date_gap'] = (pd.to_datetime('11/21/20') - train['release_date']).dt.days"
   ]
  },
  {
   "cell_type": "code",
   "execution_count": 22,
   "metadata": {
    "ExecuteTime": {
     "end_time": "2020-11-21T05:40:22.715986Z",
     "start_time": "2020-11-21T05:40:22.708991Z"
    }
   },
   "outputs": [
    {
     "data": {
      "text/plain": [
       "0     3161\n",
       "1     6973\n",
       "2    19339\n",
       "3     5223\n",
       "4    14715\n",
       "5     2123\n",
       "6    10361\n",
       "7     1339\n",
       "8     3810\n",
       "9     2671\n",
       "Name: release_date_gap, dtype: int64"
      ]
     },
     "execution_count": 22,
     "metadata": {},
     "output_type": "execute_result"
    }
   ],
   "source": [
    "train['release_date_gap'][:10]"
   ]
  },
  {
   "cell_type": "code",
   "execution_count": 21,
   "metadata": {
    "ExecuteTime": {
     "end_time": "2020-11-21T05:39:59.225539Z",
     "start_time": "2020-11-21T05:39:59.199553Z"
    }
   },
   "outputs": [
    {
     "data": {
      "text/html": [
       "<div>\n",
       "<style scoped>\n",
       "    .dataframe tbody tr th:only-of-type {\n",
       "        vertical-align: middle;\n",
       "    }\n",
       "\n",
       "    .dataframe tbody tr th {\n",
       "        vertical-align: top;\n",
       "    }\n",
       "\n",
       "    .dataframe thead th {\n",
       "        text-align: right;\n",
       "    }\n",
       "</style>\n",
       "<table border=\"1\" class=\"dataframe\">\n",
       "  <thead>\n",
       "    <tr style=\"text-align: right;\">\n",
       "      <th></th>\n",
       "      <th>id</th>\n",
       "      <th>budget</th>\n",
       "      <th>popularity</th>\n",
       "      <th>runtime</th>\n",
       "      <th>revenue</th>\n",
       "      <th>release_date_gap</th>\n",
       "    </tr>\n",
       "  </thead>\n",
       "  <tbody>\n",
       "    <tr>\n",
       "      <th>id</th>\n",
       "      <td>1.000000</td>\n",
       "      <td>-0.032039</td>\n",
       "      <td>-0.026772</td>\n",
       "      <td>-0.026906</td>\n",
       "      <td>-0.014646</td>\n",
       "      <td>0.034057</td>\n",
       "    </tr>\n",
       "    <tr>\n",
       "      <th>budget</th>\n",
       "      <td>-0.032039</td>\n",
       "      <td>1.000000</td>\n",
       "      <td>0.367651</td>\n",
       "      <td>0.233737</td>\n",
       "      <td>0.756382</td>\n",
       "      <td>-0.215585</td>\n",
       "    </tr>\n",
       "    <tr>\n",
       "      <th>popularity</th>\n",
       "      <td>-0.026772</td>\n",
       "      <td>0.367651</td>\n",
       "      <td>1.000000</td>\n",
       "      <td>0.150293</td>\n",
       "      <td>0.476102</td>\n",
       "      <td>-0.104183</td>\n",
       "    </tr>\n",
       "    <tr>\n",
       "      <th>runtime</th>\n",
       "      <td>-0.026906</td>\n",
       "      <td>0.233737</td>\n",
       "      <td>0.150293</td>\n",
       "      <td>1.000000</td>\n",
       "      <td>0.214462</td>\n",
       "      <td>0.028455</td>\n",
       "    </tr>\n",
       "    <tr>\n",
       "      <th>revenue</th>\n",
       "      <td>-0.014646</td>\n",
       "      <td>0.756382</td>\n",
       "      <td>0.476102</td>\n",
       "      <td>0.214462</td>\n",
       "      <td>1.000000</td>\n",
       "      <td>-0.141643</td>\n",
       "    </tr>\n",
       "    <tr>\n",
       "      <th>release_date_gap</th>\n",
       "      <td>0.034057</td>\n",
       "      <td>-0.215585</td>\n",
       "      <td>-0.104183</td>\n",
       "      <td>0.028455</td>\n",
       "      <td>-0.141643</td>\n",
       "      <td>1.000000</td>\n",
       "    </tr>\n",
       "  </tbody>\n",
       "</table>\n",
       "</div>"
      ],
      "text/plain": [
       "                        id    budget  popularity   runtime   revenue  \\\n",
       "id                1.000000 -0.032039   -0.026772 -0.026906 -0.014646   \n",
       "budget           -0.032039  1.000000    0.367651  0.233737  0.756382   \n",
       "popularity       -0.026772  0.367651    1.000000  0.150293  0.476102   \n",
       "runtime          -0.026906  0.233737    0.150293  1.000000  0.214462   \n",
       "revenue          -0.014646  0.756382    0.476102  0.214462  1.000000   \n",
       "release_date_gap  0.034057 -0.215585   -0.104183  0.028455 -0.141643   \n",
       "\n",
       "                  release_date_gap  \n",
       "id                        0.034057  \n",
       "budget                   -0.215585  \n",
       "popularity               -0.104183  \n",
       "runtime                   0.028455  \n",
       "revenue                  -0.141643  \n",
       "release_date_gap          1.000000  "
      ]
     },
     "execution_count": 21,
     "metadata": {},
     "output_type": "execute_result"
    }
   ],
   "source": [
    "train.corr()"
   ]
  },
  {
   "cell_type": "code",
   "execution_count": 24,
   "metadata": {
    "ExecuteTime": {
     "end_time": "2020-11-21T05:43:16.507010Z",
     "start_time": "2020-11-21T05:43:16.500014Z"
    }
   },
   "outputs": [
    {
     "data": {
      "text/plain": [
       "array(['Released', 'Rumored'], dtype=object)"
      ]
     },
     "execution_count": 24,
     "metadata": {},
     "output_type": "execute_result"
    }
   ],
   "source": [
    "train['status'].unique()"
   ]
  },
  {
   "cell_type": "code",
   "execution_count": 25,
   "metadata": {
    "ExecuteTime": {
     "end_time": "2020-11-21T05:43:51.813417Z",
     "start_time": "2020-11-21T05:43:51.806420Z"
    }
   },
   "outputs": [
    {
     "data": {
      "text/plain": [
       "array(['Released', 'Rumored'], dtype=object)"
      ]
     },
     "execution_count": 25,
     "metadata": {},
     "output_type": "execute_result"
    }
   ],
   "source": [
    "test['status'].unique()"
   ]
  },
  {
   "cell_type": "code",
   "execution_count": 26,
   "metadata": {
    "ExecuteTime": {
     "end_time": "2020-11-21T05:45:36.958330Z",
     "start_time": "2020-11-21T05:45:36.935342Z"
    }
   },
   "outputs": [
    {
     "data": {
      "text/html": [
       "<div>\n",
       "<style scoped>\n",
       "    .dataframe tbody tr th:only-of-type {\n",
       "        vertical-align: middle;\n",
       "    }\n",
       "\n",
       "    .dataframe tbody tr th {\n",
       "        vertical-align: top;\n",
       "    }\n",
       "\n",
       "    .dataframe thead th {\n",
       "        text-align: right;\n",
       "    }\n",
       "</style>\n",
       "<table border=\"1\" class=\"dataframe\">\n",
       "  <thead>\n",
       "    <tr style=\"text-align: right;\">\n",
       "      <th></th>\n",
       "      <th>count</th>\n",
       "      <th>mean</th>\n",
       "    </tr>\n",
       "    <tr>\n",
       "      <th>status</th>\n",
       "      <th></th>\n",
       "      <th></th>\n",
       "    </tr>\n",
       "  </thead>\n",
       "  <tbody>\n",
       "    <tr>\n",
       "      <th>Released</th>\n",
       "      <td>2397</td>\n",
       "      <td>6.594524e+07</td>\n",
       "    </tr>\n",
       "    <tr>\n",
       "      <th>Rumored</th>\n",
       "      <td>3</td>\n",
       "      <td>4.563932e+06</td>\n",
       "    </tr>\n",
       "  </tbody>\n",
       "</table>\n",
       "</div>"
      ],
      "text/plain": [
       "          count          mean\n",
       "status                       \n",
       "Released   2397  6.594524e+07\n",
       "Rumored       3  4.563932e+06"
      ]
     },
     "execution_count": 26,
     "metadata": {},
     "output_type": "execute_result"
    }
   ],
   "source": [
    "train.groupby('status')['revenue'].agg(['count', 'mean'])"
   ]
  },
  {
   "cell_type": "code",
   "execution_count": 27,
   "metadata": {
    "ExecuteTime": {
     "end_time": "2020-11-21T05:46:07.402847Z",
     "start_time": "2020-11-21T05:46:07.388859Z"
    }
   },
   "outputs": [
    {
     "data": {
      "text/html": [
       "<div>\n",
       "<style scoped>\n",
       "    .dataframe tbody tr th:only-of-type {\n",
       "        vertical-align: middle;\n",
       "    }\n",
       "\n",
       "    .dataframe tbody tr th {\n",
       "        vertical-align: top;\n",
       "    }\n",
       "\n",
       "    .dataframe thead th {\n",
       "        text-align: right;\n",
       "    }\n",
       "</style>\n",
       "<table border=\"1\" class=\"dataframe\">\n",
       "  <thead>\n",
       "    <tr style=\"text-align: right;\">\n",
       "      <th></th>\n",
       "      <th>count</th>\n",
       "    </tr>\n",
       "    <tr>\n",
       "      <th>status</th>\n",
       "      <th></th>\n",
       "    </tr>\n",
       "  </thead>\n",
       "  <tbody>\n",
       "    <tr>\n",
       "      <th>Released</th>\n",
       "      <td>599</td>\n",
       "    </tr>\n",
       "    <tr>\n",
       "      <th>Rumored</th>\n",
       "      <td>1</td>\n",
       "    </tr>\n",
       "  </tbody>\n",
       "</table>\n",
       "</div>"
      ],
      "text/plain": [
       "          count\n",
       "status         \n",
       "Released    599\n",
       "Rumored       1"
      ]
     },
     "execution_count": 27,
     "metadata": {},
     "output_type": "execute_result"
    }
   ],
   "source": [
    "test.groupby('status')['id'].agg(['count'])"
   ]
  },
  {
   "cell_type": "code",
   "execution_count": null,
   "metadata": {},
   "outputs": [],
   "source": []
  }
 ],
 "metadata": {
  "kernelspec": {
   "display_name": "Python 3",
   "language": "python",
   "name": "python3"
  },
  "language_info": {
   "codemirror_mode": {
    "name": "ipython",
    "version": 3
   },
   "file_extension": ".py",
   "mimetype": "text/x-python",
   "name": "python",
   "nbconvert_exporter": "python",
   "pygments_lexer": "ipython3",
   "version": "3.7.3"
  },
  "toc": {
   "base_numbering": 1,
   "nav_menu": {},
   "number_sections": true,
   "sideBar": true,
   "skip_h1_title": false,
   "title_cell": "Table of Contents",
   "title_sidebar": "Contents",
   "toc_cell": false,
   "toc_position": {},
   "toc_section_display": true,
   "toc_window_display": false
  }
 },
 "nbformat": 4,
 "nbformat_minor": 4
}
