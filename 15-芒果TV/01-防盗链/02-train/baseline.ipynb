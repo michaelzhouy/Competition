{
 "cells": [
  {
   "cell_type": "code",
   "execution_count": 1,
   "metadata": {
    "ExecuteTime": {
     "end_time": "2021-04-25T15:35:11.953235Z",
     "start_time": "2021-04-25T15:35:10.061927Z"
    }
   },
   "outputs": [],
   "source": [
    "import numpy as np\n",
    "import pandas as pd\n",
    "import lightgbm as lgb\n",
    "import gc\n",
    "import warnings\n",
    "warnings.filterwarnings('ignore')"
   ]
  },
  {
   "cell_type": "code",
   "execution_count": 2,
   "metadata": {
    "ExecuteTime": {
     "end_time": "2021-04-25T15:35:11.969229Z",
     "start_time": "2021-04-25T15:35:11.955237Z"
    }
   },
   "outputs": [],
   "source": [
    "def reduce_mem_usage(df):\n",
    "    start_mem = df.memory_usage().sum() / 1024 ** 2\n",
    "    print('Memory usage of dataframe is {:.2f} MB'.format(start_mem))\n",
    "\n",
    "    for col in df.columns:\n",
    "        col_type = df[col].dtype\n",
    "\n",
    "        if col_type != object:\n",
    "            c_min = df[col].min()\n",
    "            c_max = df[col].max()\n",
    "            if str(col_type)[:3] == 'int':\n",
    "                if c_min > np.iinfo(np.int8).min and c_max < np.iinfo(np.int8).max:\n",
    "                    df[col] = df[col].astype(np.int8)\n",
    "                elif c_min > np.iinfo(np.int16).min and c_max < np.iinfo(np.int16).max:\n",
    "                    df[col] = df[col].astype(np.int16)\n",
    "                elif c_min > np.iinfo(np.int32).min and c_max < np.iinfo(np.int32).max:\n",
    "                    df[col] = df[col].astype(np.int32)\n",
    "                elif c_min > np.iinfo(np.int64).min and c_max < np.iinfo(np.int64).max:\n",
    "                    df[col] = df[col].astype(np.int64)\n",
    "            else:\n",
    "                if c_min > np.finfo(np.float16).min and c_max < np.finfo(np.float16).max:\n",
    "                    df[col] = df[col].astype(np.float16)\n",
    "                elif c_min > np.finfo(np.float32).min and c_max < np.finfo(np.float32).max:\n",
    "                    df[col] = df[col].astype(np.float32)\n",
    "                else:\n",
    "                    df[col] = df[col].astype(np.float64)\n",
    "        else:\n",
    "            df[col] = df[col].astype('category')\n",
    "            df[col] = df[col].astype('str')\n",
    "\n",
    "    end_mem = df.memory_usage().sum() / 1024 ** 2\n",
    "    print('Memory usage after optimization is: {:.2f} MB'.format(end_mem))\n",
    "    print('Decreased by {:.1f}%'.format(100 * (start_mem - end_mem) / start_mem))\n",
    "    return df"
   ]
  },
  {
   "cell_type": "code",
   "execution_count": 3,
   "metadata": {
    "ExecuteTime": {
     "end_time": "2021-04-25T15:35:12.000897Z",
     "start_time": "2021-04-25T15:35:11.976225Z"
    }
   },
   "outputs": [],
   "source": [
    "cols = ['remote_addr', 'time_iso8601', 'status', 'file', 'body_bytes_sent', 'request_time',\n",
    "        'uuid', 'http_referer', 'http_user_agent', 'http_x_forwarded_for', 'pno', 'Id', 'auth_ret']"
   ]
  },
  {
   "cell_type": "code",
   "execution_count": 4,
   "metadata": {
    "ExecuteTime": {
     "end_time": "2021-04-25T15:38:29.879045Z",
     "start_time": "2021-04-25T15:35:12.003896Z"
    }
   },
   "outputs": [
    {
     "data": {
      "text/html": [
       "<div>\n",
       "<style scoped>\n",
       "    .dataframe tbody tr th:only-of-type {\n",
       "        vertical-align: middle;\n",
       "    }\n",
       "\n",
       "    .dataframe tbody tr th {\n",
       "        vertical-align: top;\n",
       "    }\n",
       "\n",
       "    .dataframe thead th {\n",
       "        text-align: right;\n",
       "    }\n",
       "</style>\n",
       "<table border=\"1\" class=\"dataframe\">\n",
       "  <thead>\n",
       "    <tr style=\"text-align: right;\">\n",
       "      <th></th>\n",
       "      <th>0</th>\n",
       "    </tr>\n",
       "  </thead>\n",
       "  <tbody>\n",
       "    <tr>\n",
       "      <th>0</th>\n",
       "      <td>[\"6c455e37ea1f3f43443ecbe46bcdb4bb\", \"2021-03-...</td>\n",
       "    </tr>\n",
       "    <tr>\n",
       "      <th>1</th>\n",
       "      <td>[\"64eaa6e58e5bd71d54dd7565481a2f1d\", \"2021-03-...</td>\n",
       "    </tr>\n",
       "    <tr>\n",
       "      <th>2</th>\n",
       "      <td>[\"4d4c7b25b890132ee432bebab3940966\", \"2021-03-...</td>\n",
       "    </tr>\n",
       "    <tr>\n",
       "      <th>3</th>\n",
       "      <td>[\"da177836163927897f26c718d1daf85f\", \"2021-03-...</td>\n",
       "    </tr>\n",
       "    <tr>\n",
       "      <th>4</th>\n",
       "      <td>[\"affef57aacffb8aa6e911659e55f54b2\", \"2021-03-...</td>\n",
       "    </tr>\n",
       "  </tbody>\n",
       "</table>\n",
       "</div>"
      ],
      "text/plain": [
       "                                                   0\n",
       "0  [\"6c455e37ea1f3f43443ecbe46bcdb4bb\", \"2021-03-...\n",
       "1  [\"64eaa6e58e5bd71d54dd7565481a2f1d\", \"2021-03-...\n",
       "2  [\"4d4c7b25b890132ee432bebab3940966\", \"2021-03-...\n",
       "3  [\"da177836163927897f26c718d1daf85f\", \"2021-03-...\n",
       "4  [\"affef57aacffb8aa6e911659e55f54b2\", \"2021-03-..."
      ]
     },
     "execution_count": 4,
     "metadata": {},
     "output_type": "execute_result"
    }
   ],
   "source": [
    "train = pd.read_table('../01-input/a.txt', header=None, names=['0'])\n",
    "train.head()"
   ]
  },
  {
   "cell_type": "code",
   "execution_count": null,
   "metadata": {
    "ExecuteTime": {
     "start_time": "2021-04-25T15:41:53.259Z"
    }
   },
   "outputs": [],
   "source": [
    "def process(x):\n",
    "    remote_addr = map(lambda x: x[0], x)\n",
    "    time_iso8601 = map(lambda x: x[1], x)\n",
    "    status = map(lambda x: x[2], x)\n",
    "    file = map(lambda x: x[3], x)\n",
    "    body_bytes_sent = map(lambda x: x[4], x)\n",
    "    request_time = map(lambda x: x[5], x)\n",
    "    uuid = map(lambda x: x[6], x)\n",
    "    http_referer = map(lambda x: x[7], x)\n",
    "    http_user_agent = map(lambda x: x[8], x)\n",
    "    http_x_forwarded_for = map(lambda x: x[9], x)\n",
    "    pno = map(lambda x: x[10], x)\n",
    "    Id = map(lambda x: x[11], x)\n",
    "    auth_ret = map(lambda x: x[12], x)\n",
    "    frame = pd.DataFrame({\n",
    "        'remote_addr': remote_addr,\n",
    "        'time_iso8601': time_iso8601,\n",
    "        'status': status,\n",
    "        'file': file,\n",
    "        'body_bytes_sent': body_bytes_sent,\n",
    "        'request_time': request_time,\n",
    "        'uuid': uuid,\n",
    "        'http_referer': http_referer,\n",
    "        'http_user_agent': http_user_agent,\n",
    "        'http_x_forwarded_for': http_x_forwarded_for,\n",
    "        'pno': pno,\n",
    "        'Id': Id,\n",
    "        'auth_ret': auth_ret\n",
    "    })\n",
    "    return frame\n",
    "\n",
    "df = train['0'].apply(process)\n",
    "del train\n",
    "gc.collect()\n",
    "act_3 = pd.concat([i for i in df], ignore_index=False)"
   ]
  },
  {
   "cell_type": "code",
   "execution_count": null,
   "metadata": {
    "ExecuteTime": {
     "end_time": "2021-04-25T15:38:32.664408Z",
     "start_time": "2021-04-25T15:35:10.082Z"
    }
   },
   "outputs": [],
   "source": [
    "train[0][:5]"
   ]
  },
  {
   "cell_type": "code",
   "execution_count": null,
   "metadata": {},
   "outputs": [],
   "source": []
  }
 ],
 "metadata": {
  "kernelspec": {
   "display_name": "Python 3",
   "language": "python",
   "name": "python3"
  },
  "language_info": {
   "codemirror_mode": {
    "name": "ipython",
    "version": 3
   },
   "file_extension": ".py",
   "mimetype": "text/x-python",
   "name": "python",
   "nbconvert_exporter": "python",
   "pygments_lexer": "ipython3",
   "version": "3.7.3"
  },
  "toc": {
   "base_numbering": 1,
   "nav_menu": {},
   "number_sections": true,
   "sideBar": true,
   "skip_h1_title": false,
   "title_cell": "Table of Contents",
   "title_sidebar": "Contents",
   "toc_cell": false,
   "toc_position": {},
   "toc_section_display": true,
   "toc_window_display": false
  }
 },
 "nbformat": 4,
 "nbformat_minor": 4
}
