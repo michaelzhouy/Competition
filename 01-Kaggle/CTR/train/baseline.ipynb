{
 "cells": [
  {
   "cell_type": "markdown",
   "metadata": {},
   "source": [
    "# EDA&Baseline\n",
    "## 工具包&数据导入\n",
    "### 工具包导入"
   ]
  },
  {
   "cell_type": "code",
   "execution_count": 1,
   "metadata": {
    "ExecuteTime": {
     "end_time": "2020-07-09T12:24:40.504429Z",
     "start_time": "2020-07-09T12:24:39.112550Z"
    }
   },
   "outputs": [],
   "source": [
    "import numpy as np\n",
    "import pandas as pd\n",
    "import matplotlib.pyplot as plt\n",
    "import lightgbm as lgb\n",
    "from sklearn.preprocessing import LabelEncoder\n",
    "import gc\n",
    "import os\n",
    "import warnings\n",
    "warnings.filterwarnings('ignore')\n",
    "pd.set_option('max_columns', None)"
   ]
  },
  {
   "cell_type": "markdown",
   "metadata": {},
   "source": [
    "### 数据导入"
   ]
  },
  {
   "cell_type": "code",
   "execution_count": 2,
   "metadata": {
    "ExecuteTime": {
     "end_time": "2020-07-09T12:24:40.510404Z",
     "start_time": "2020-07-09T12:24:40.505417Z"
    }
   },
   "outputs": [],
   "source": [
    "# 读取文件下所有的文件，并合并成一个文件\n",
    "def read_data(path):\n",
    "    data_list = []\n",
    "    for f in os.listdir(path):\n",
    "        print(f)\n",
    "        df = pd.read_hdf(path + os.sep + f)\n",
    "        print(df.shape)\n",
    "        data_list.append(df)\n",
    "        del df\n",
    "        gc.collect()\n",
    "\n",
    "    res = pd.concat(data_list, ignore_index=True)\n",
    "    return res"
   ]
  },
  {
   "cell_type": "code",
   "execution_count": 3,
   "metadata": {
    "ExecuteTime": {
     "end_time": "2020-07-09T12:24:57.649625Z",
     "start_time": "2020-07-09T12:24:40.511401Z"
    }
   },
   "outputs": [
    {
     "name": "stdout",
     "output_type": "stream",
     "text": [
      "train0.h5\n",
      "(173800, 24)\n",
      "train1.h5\n",
      "(158470, 24)\n",
      "train2.h5\n",
      "(179816, 24)\n",
      "train3.h5\n",
      "(178514, 24)\n",
      "train4.h5\n",
      "(183682, 24)\n",
      "train5.h5\n",
      "(164186, 24)\n",
      "train6.h5\n",
      "(152746, 24)\n",
      "train7.h5\n",
      "(166320, 24)\n",
      "train8.h5\n",
      "(15472, 24)\n"
     ]
    }
   ],
   "source": [
    "train = read_data('../input/train/')\n",
    "test = pd.read_hdf('../input/test.h5')"
   ]
  },
  {
   "cell_type": "markdown",
   "metadata": {},
   "source": [
    "## EDA\n",
    "### 全局探索\n",
    "#### 训练集"
   ]
  },
  {
   "cell_type": "markdown",
   "metadata": {
    "ExecuteTime": {
     "end_time": "2020-07-09T11:36:05.932220Z",
     "start_time": "2020-07-09T11:36:05.922213Z"
    }
   },
   "source": [
    "数据中每一维度数据的含义。\n",
    "- id: ad identifier\n",
    "- click: 0/1 for non-click/click\n",
    "- hour: format is YYMMDDHH, so 14091123 means 23:00 on Sept. 11, 2014 UTC.\n",
    "- C1 -- anonymized categorical variable\n",
    "- banner_pos\n",
    "- site_id\n",
    "- site_domain\n",
    "- site_category\n",
    "- app_id\n",
    "- app_domain\n",
    "- app_category\n",
    "- device_id\n",
    "- device_ip\n",
    "- device_model\n",
    "- device_type\n",
    "- device_conn_type\n",
    "- C14-C21 -- anonymized categorical variables"
   ]
  },
  {
   "cell_type": "code",
   "execution_count": 4,
   "metadata": {
    "ExecuteTime": {
     "end_time": "2020-07-09T12:24:57.675066Z",
     "start_time": "2020-07-09T12:24:57.650635Z"
    }
   },
   "outputs": [
    {
     "data": {
      "text/html": [
       "<div>\n",
       "<style scoped>\n",
       "    .dataframe tbody tr th:only-of-type {\n",
       "        vertical-align: middle;\n",
       "    }\n",
       "\n",
       "    .dataframe tbody tr th {\n",
       "        vertical-align: top;\n",
       "    }\n",
       "\n",
       "    .dataframe thead th {\n",
       "        text-align: right;\n",
       "    }\n",
       "</style>\n",
       "<table border=\"1\" class=\"dataframe\">\n",
       "  <thead>\n",
       "    <tr style=\"text-align: right;\">\n",
       "      <th></th>\n",
       "      <th>id</th>\n",
       "      <th>click</th>\n",
       "      <th>hour</th>\n",
       "      <th>C1</th>\n",
       "      <th>banner_pos</th>\n",
       "      <th>site_id</th>\n",
       "      <th>site_domain</th>\n",
       "      <th>site_category</th>\n",
       "      <th>app_id</th>\n",
       "      <th>app_domain</th>\n",
       "      <th>app_category</th>\n",
       "      <th>device_id</th>\n",
       "      <th>device_ip</th>\n",
       "      <th>device_model</th>\n",
       "      <th>device_type</th>\n",
       "      <th>device_conn_type</th>\n",
       "      <th>C14</th>\n",
       "      <th>C15</th>\n",
       "      <th>C16</th>\n",
       "      <th>C17</th>\n",
       "      <th>C18</th>\n",
       "      <th>C19</th>\n",
       "      <th>C20</th>\n",
       "      <th>C21</th>\n",
       "    </tr>\n",
       "  </thead>\n",
       "  <tbody>\n",
       "    <tr>\n",
       "      <th>0</th>\n",
       "      <td>5.300437e+18</td>\n",
       "      <td>0</td>\n",
       "      <td>14102106</td>\n",
       "      <td>1005</td>\n",
       "      <td>0</td>\n",
       "      <td>9a28a858</td>\n",
       "      <td>64778742</td>\n",
       "      <td>f028772b</td>\n",
       "      <td>ecad2386</td>\n",
       "      <td>7801e8d9</td>\n",
       "      <td>07d7df22</td>\n",
       "      <td>a99f214a</td>\n",
       "      <td>88298bfa</td>\n",
       "      <td>c144e605</td>\n",
       "      <td>1</td>\n",
       "      <td>0</td>\n",
       "      <td>21690</td>\n",
       "      <td>300</td>\n",
       "      <td>250</td>\n",
       "      <td>2496</td>\n",
       "      <td>3</td>\n",
       "      <td>167</td>\n",
       "      <td>-1</td>\n",
       "      <td>23</td>\n",
       "    </tr>\n",
       "    <tr>\n",
       "      <th>1</th>\n",
       "      <td>1.075158e+18</td>\n",
       "      <td>0</td>\n",
       "      <td>14102205</td>\n",
       "      <td>1005</td>\n",
       "      <td>1</td>\n",
       "      <td>16c73019</td>\n",
       "      <td>8025317b</td>\n",
       "      <td>28905ebd</td>\n",
       "      <td>ecad2386</td>\n",
       "      <td>7801e8d9</td>\n",
       "      <td>07d7df22</td>\n",
       "      <td>a99f214a</td>\n",
       "      <td>188a2192</td>\n",
       "      <td>fdd86e39</td>\n",
       "      <td>1</td>\n",
       "      <td>0</td>\n",
       "      <td>20153</td>\n",
       "      <td>320</td>\n",
       "      <td>50</td>\n",
       "      <td>2307</td>\n",
       "      <td>3</td>\n",
       "      <td>163</td>\n",
       "      <td>100020</td>\n",
       "      <td>61</td>\n",
       "    </tr>\n",
       "    <tr>\n",
       "      <th>2</th>\n",
       "      <td>5.651358e+18</td>\n",
       "      <td>0</td>\n",
       "      <td>14102200</td>\n",
       "      <td>1005</td>\n",
       "      <td>0</td>\n",
       "      <td>1fbe01fe</td>\n",
       "      <td>f3845767</td>\n",
       "      <td>28905ebd</td>\n",
       "      <td>ecad2386</td>\n",
       "      <td>7801e8d9</td>\n",
       "      <td>07d7df22</td>\n",
       "      <td>a99f214a</td>\n",
       "      <td>4886724a</td>\n",
       "      <td>49ea3580</td>\n",
       "      <td>1</td>\n",
       "      <td>0</td>\n",
       "      <td>15701</td>\n",
       "      <td>320</td>\n",
       "      <td>50</td>\n",
       "      <td>1722</td>\n",
       "      <td>0</td>\n",
       "      <td>35</td>\n",
       "      <td>-1</td>\n",
       "      <td>79</td>\n",
       "    </tr>\n",
       "    <tr>\n",
       "      <th>3</th>\n",
       "      <td>1.610407e+19</td>\n",
       "      <td>0</td>\n",
       "      <td>14102109</td>\n",
       "      <td>1005</td>\n",
       "      <td>0</td>\n",
       "      <td>85f751fd</td>\n",
       "      <td>c4e18dd6</td>\n",
       "      <td>50e219e0</td>\n",
       "      <td>e2fcccd2</td>\n",
       "      <td>5c5a694b</td>\n",
       "      <td>0f2161f8</td>\n",
       "      <td>a99f214a</td>\n",
       "      <td>88f2e808</td>\n",
       "      <td>84ebbcd4</td>\n",
       "      <td>1</td>\n",
       "      <td>0</td>\n",
       "      <td>4687</td>\n",
       "      <td>320</td>\n",
       "      <td>50</td>\n",
       "      <td>423</td>\n",
       "      <td>2</td>\n",
       "      <td>39</td>\n",
       "      <td>100148</td>\n",
       "      <td>32</td>\n",
       "    </tr>\n",
       "    <tr>\n",
       "      <th>4</th>\n",
       "      <td>8.107568e+18</td>\n",
       "      <td>0</td>\n",
       "      <td>14102108</td>\n",
       "      <td>1005</td>\n",
       "      <td>0</td>\n",
       "      <td>1fbe01fe</td>\n",
       "      <td>f3845767</td>\n",
       "      <td>28905ebd</td>\n",
       "      <td>ecad2386</td>\n",
       "      <td>7801e8d9</td>\n",
       "      <td>07d7df22</td>\n",
       "      <td>a99f214a</td>\n",
       "      <td>dcda1213</td>\n",
       "      <td>779d90c2</td>\n",
       "      <td>1</td>\n",
       "      <td>0</td>\n",
       "      <td>15702</td>\n",
       "      <td>320</td>\n",
       "      <td>50</td>\n",
       "      <td>1722</td>\n",
       "      <td>0</td>\n",
       "      <td>35</td>\n",
       "      <td>-1</td>\n",
       "      <td>79</td>\n",
       "    </tr>\n",
       "  </tbody>\n",
       "</table>\n",
       "</div>"
      ],
      "text/plain": [
       "             id  click      hour    C1  banner_pos   site_id site_domain  \\\n",
       "0  5.300437e+18      0  14102106  1005           0  9a28a858    64778742   \n",
       "1  1.075158e+18      0  14102205  1005           1  16c73019    8025317b   \n",
       "2  5.651358e+18      0  14102200  1005           0  1fbe01fe    f3845767   \n",
       "3  1.610407e+19      0  14102109  1005           0  85f751fd    c4e18dd6   \n",
       "4  8.107568e+18      0  14102108  1005           0  1fbe01fe    f3845767   \n",
       "\n",
       "  site_category    app_id app_domain app_category device_id device_ip  \\\n",
       "0      f028772b  ecad2386   7801e8d9     07d7df22  a99f214a  88298bfa   \n",
       "1      28905ebd  ecad2386   7801e8d9     07d7df22  a99f214a  188a2192   \n",
       "2      28905ebd  ecad2386   7801e8d9     07d7df22  a99f214a  4886724a   \n",
       "3      50e219e0  e2fcccd2   5c5a694b     0f2161f8  a99f214a  88f2e808   \n",
       "4      28905ebd  ecad2386   7801e8d9     07d7df22  a99f214a  dcda1213   \n",
       "\n",
       "  device_model  device_type  device_conn_type    C14  C15  C16   C17  C18  \\\n",
       "0     c144e605            1                 0  21690  300  250  2496    3   \n",
       "1     fdd86e39            1                 0  20153  320   50  2307    3   \n",
       "2     49ea3580            1                 0  15701  320   50  1722    0   \n",
       "3     84ebbcd4            1                 0   4687  320   50   423    2   \n",
       "4     779d90c2            1                 0  15702  320   50  1722    0   \n",
       "\n",
       "   C19     C20  C21  \n",
       "0  167      -1   23  \n",
       "1  163  100020   61  \n",
       "2   35      -1   79  \n",
       "3   39  100148   32  \n",
       "4   35      -1   79  "
      ]
     },
     "execution_count": 4,
     "metadata": {},
     "output_type": "execute_result"
    }
   ],
   "source": [
    "train.head()"
   ]
  },
  {
   "cell_type": "markdown",
   "metadata": {},
   "source": [
    "1. train数据集由137万条数据组成"
   ]
  },
  {
   "cell_type": "code",
   "execution_count": 5,
   "metadata": {
    "ExecuteTime": {
     "end_time": "2020-07-09T12:24:57.681050Z",
     "start_time": "2020-07-09T12:24:57.676064Z"
    }
   },
   "outputs": [
    {
     "data": {
      "text/plain": [
       "(1373006, 24)"
      ]
     },
     "execution_count": 5,
     "metadata": {},
     "output_type": "execute_result"
    }
   ],
   "source": [
    "train.shape"
   ]
  },
  {
   "cell_type": "markdown",
   "metadata": {},
   "source": [
    "2. 所有的id都不一样"
   ]
  },
  {
   "cell_type": "code",
   "execution_count": 6,
   "metadata": {
    "ExecuteTime": {
     "end_time": "2020-07-09T12:24:57.791893Z",
     "start_time": "2020-07-09T12:24:57.684043Z"
    }
   },
   "outputs": [
    {
     "data": {
      "text/plain": [
       "1336356"
      ]
     },
     "execution_count": 6,
     "metadata": {},
     "output_type": "execute_result"
    }
   ],
   "source": [
    "train['id'].nunique()"
   ]
  },
  {
   "cell_type": "markdown",
   "metadata": {},
   "source": [
    "3. 样本比例自行采样"
   ]
  },
  {
   "cell_type": "code",
   "execution_count": 7,
   "metadata": {
    "ExecuteTime": {
     "end_time": "2020-07-09T12:24:57.799872Z",
     "start_time": "2020-07-09T12:24:57.792927Z"
    }
   },
   "outputs": [
    {
     "data": {
      "text/plain": [
       "0.5"
      ]
     },
     "execution_count": 7,
     "metadata": {},
     "output_type": "execute_result"
    }
   ],
   "source": [
    "train['click'].mean()"
   ]
  },
  {
   "cell_type": "markdown",
   "metadata": {},
   "source": [
    "4. train数据集中，有1个float特征，14个int特征，9个object特征"
   ]
  },
  {
   "cell_type": "code",
   "execution_count": 8,
   "metadata": {
    "ExecuteTime": {
     "end_time": "2020-07-09T12:24:58.656128Z",
     "start_time": "2020-07-09T12:24:57.800868Z"
    }
   },
   "outputs": [
    {
     "name": "stdout",
     "output_type": "stream",
     "text": [
      "<class 'pandas.core.frame.DataFrame'>\n",
      "RangeIndex: 1373006 entries, 0 to 1373005\n",
      "Data columns (total 24 columns):\n",
      " #   Column            Non-Null Count    Dtype  \n",
      "---  ------            --------------    -----  \n",
      " 0   id                1373006 non-null  float32\n",
      " 1   click             1373006 non-null  int8   \n",
      " 2   hour              1373006 non-null  int32  \n",
      " 3   C1                1373006 non-null  int16  \n",
      " 4   banner_pos        1373006 non-null  int8   \n",
      " 5   site_id           1373006 non-null  object \n",
      " 6   site_domain       1373006 non-null  object \n",
      " 7   site_category     1373006 non-null  object \n",
      " 8   app_id            1373006 non-null  object \n",
      " 9   app_domain        1373006 non-null  object \n",
      " 10  app_category      1373006 non-null  object \n",
      " 11  device_id         1373006 non-null  object \n",
      " 12  device_ip         1373006 non-null  object \n",
      " 13  device_model      1373006 non-null  object \n",
      " 14  device_type       1373006 non-null  int8   \n",
      " 15  device_conn_type  1373006 non-null  int8   \n",
      " 16  C14               1373006 non-null  int16  \n",
      " 17  C15               1373006 non-null  int16  \n",
      " 18  C16               1373006 non-null  int16  \n",
      " 19  C17               1373006 non-null  int16  \n",
      " 20  C18               1373006 non-null  int8   \n",
      " 21  C19               1373006 non-null  int16  \n",
      " 22  C20               1373006 non-null  int32  \n",
      " 23  C21               1373006 non-null  int16  \n",
      "dtypes: float32(1), int16(7), int32(2), int8(5), object(9)\n",
      "memory usage: 134.9+ MB\n"
     ]
    }
   ],
   "source": [
    "train.info()"
   ]
  },
  {
   "cell_type": "markdown",
   "metadata": {},
   "source": [
    "5. C1,banner_pos,site_category,app_id,app_domain,app_category,device_model,device_type，device_conn_type，C14-C21全部为类别特征"
   ]
  },
  {
   "cell_type": "code",
   "execution_count": 9,
   "metadata": {
    "ExecuteTime": {
     "end_time": "2020-07-09T12:24:58.661081Z",
     "start_time": "2020-07-09T12:24:58.657119Z"
    }
   },
   "outputs": [],
   "source": [
    "# train.nunique()"
   ]
  },
  {
   "cell_type": "markdown",
   "metadata": {},
   "source": [
    "**结论**\n",
    "1. train数据集由4千万条数据组成\n",
    "2. train中所有的id是不一样的\n",
    "3. 因为经过采样，所以点击率是平衡的（无需进行特殊的处理）\n",
    "4. 训练集和测试集中的id存在4个id是有交互的\n",
    "5. C1,banner_pos,site_category,app_id,app_domain,app_category,device_model,device_type，device_conn_type，C14-C21全部为类别特征\n",
    "6. 共有21个类别特征(包括click特征) + (id,device_id,device_ip)"
   ]
  },
  {
   "cell_type": "markdown",
   "metadata": {},
   "source": [
    "#### 测试集"
   ]
  },
  {
   "cell_type": "markdown",
   "metadata": {},
   "source": [
    "1. 测试集有23个不同的特征，少了click特征"
   ]
  },
  {
   "cell_type": "code",
   "execution_count": 10,
   "metadata": {
    "ExecuteTime": {
     "end_time": "2020-07-09T12:24:58.679034Z",
     "start_time": "2020-07-09T12:24:58.663076Z"
    }
   },
   "outputs": [
    {
     "data": {
      "text/html": [
       "<div>\n",
       "<style scoped>\n",
       "    .dataframe tbody tr th:only-of-type {\n",
       "        vertical-align: middle;\n",
       "    }\n",
       "\n",
       "    .dataframe tbody tr th {\n",
       "        vertical-align: top;\n",
       "    }\n",
       "\n",
       "    .dataframe thead th {\n",
       "        text-align: right;\n",
       "    }\n",
       "</style>\n",
       "<table border=\"1\" class=\"dataframe\">\n",
       "  <thead>\n",
       "    <tr style=\"text-align: right;\">\n",
       "      <th></th>\n",
       "      <th>id</th>\n",
       "      <th>hour</th>\n",
       "      <th>C1</th>\n",
       "      <th>banner_pos</th>\n",
       "      <th>site_id</th>\n",
       "      <th>site_domain</th>\n",
       "      <th>site_category</th>\n",
       "      <th>app_id</th>\n",
       "      <th>app_domain</th>\n",
       "      <th>app_category</th>\n",
       "      <th>device_id</th>\n",
       "      <th>device_ip</th>\n",
       "      <th>device_model</th>\n",
       "      <th>device_type</th>\n",
       "      <th>device_conn_type</th>\n",
       "      <th>C14</th>\n",
       "      <th>C15</th>\n",
       "      <th>C16</th>\n",
       "      <th>C17</th>\n",
       "      <th>C18</th>\n",
       "      <th>C19</th>\n",
       "      <th>C20</th>\n",
       "      <th>C21</th>\n",
       "    </tr>\n",
       "  </thead>\n",
       "  <tbody>\n",
       "    <tr>\n",
       "      <th>0</th>\n",
       "      <td>1.000017e+19</td>\n",
       "      <td>14103100</td>\n",
       "      <td>1005</td>\n",
       "      <td>0</td>\n",
       "      <td>235ba823</td>\n",
       "      <td>f6ebf28e</td>\n",
       "      <td>f028772b</td>\n",
       "      <td>ecad2386</td>\n",
       "      <td>7801e8d9</td>\n",
       "      <td>07d7df22</td>\n",
       "      <td>a99f214a</td>\n",
       "      <td>69f45779</td>\n",
       "      <td>0eb711ec</td>\n",
       "      <td>1</td>\n",
       "      <td>0</td>\n",
       "      <td>8330</td>\n",
       "      <td>320</td>\n",
       "      <td>50</td>\n",
       "      <td>761</td>\n",
       "      <td>3</td>\n",
       "      <td>175</td>\n",
       "      <td>100075</td>\n",
       "      <td>23</td>\n",
       "    </tr>\n",
       "    <tr>\n",
       "      <th>1</th>\n",
       "      <td>1.000018e+19</td>\n",
       "      <td>14103100</td>\n",
       "      <td>1005</td>\n",
       "      <td>0</td>\n",
       "      <td>1fbe01fe</td>\n",
       "      <td>f3845767</td>\n",
       "      <td>28905ebd</td>\n",
       "      <td>ecad2386</td>\n",
       "      <td>7801e8d9</td>\n",
       "      <td>07d7df22</td>\n",
       "      <td>a99f214a</td>\n",
       "      <td>e8d44657</td>\n",
       "      <td>ecb851b2</td>\n",
       "      <td>1</td>\n",
       "      <td>0</td>\n",
       "      <td>22676</td>\n",
       "      <td>320</td>\n",
       "      <td>50</td>\n",
       "      <td>2616</td>\n",
       "      <td>0</td>\n",
       "      <td>35</td>\n",
       "      <td>100083</td>\n",
       "      <td>51</td>\n",
       "    </tr>\n",
       "    <tr>\n",
       "      <th>2</th>\n",
       "      <td>1.000055e+19</td>\n",
       "      <td>14103100</td>\n",
       "      <td>1005</td>\n",
       "      <td>0</td>\n",
       "      <td>1fbe01fe</td>\n",
       "      <td>f3845767</td>\n",
       "      <td>28905ebd</td>\n",
       "      <td>ecad2386</td>\n",
       "      <td>7801e8d9</td>\n",
       "      <td>07d7df22</td>\n",
       "      <td>a99f214a</td>\n",
       "      <td>10fb085b</td>\n",
       "      <td>1f0bc64f</td>\n",
       "      <td>1</td>\n",
       "      <td>0</td>\n",
       "      <td>22676</td>\n",
       "      <td>320</td>\n",
       "      <td>50</td>\n",
       "      <td>2616</td>\n",
       "      <td>0</td>\n",
       "      <td>35</td>\n",
       "      <td>100083</td>\n",
       "      <td>51</td>\n",
       "    </tr>\n",
       "    <tr>\n",
       "      <th>3</th>\n",
       "      <td>1.000110e+19</td>\n",
       "      <td>14103100</td>\n",
       "      <td>1005</td>\n",
       "      <td>0</td>\n",
       "      <td>85f751fd</td>\n",
       "      <td>c4e18dd6</td>\n",
       "      <td>50e219e0</td>\n",
       "      <td>51cedd4e</td>\n",
       "      <td>aefc06bd</td>\n",
       "      <td>0f2161f8</td>\n",
       "      <td>a99f214a</td>\n",
       "      <td>422d257a</td>\n",
       "      <td>542422a7</td>\n",
       "      <td>1</td>\n",
       "      <td>0</td>\n",
       "      <td>18648</td>\n",
       "      <td>320</td>\n",
       "      <td>50</td>\n",
       "      <td>1092</td>\n",
       "      <td>3</td>\n",
       "      <td>809</td>\n",
       "      <td>100156</td>\n",
       "      <td>61</td>\n",
       "    </tr>\n",
       "    <tr>\n",
       "      <th>4</th>\n",
       "      <td>1.000138e+19</td>\n",
       "      <td>14103100</td>\n",
       "      <td>1005</td>\n",
       "      <td>0</td>\n",
       "      <td>85f751fd</td>\n",
       "      <td>c4e18dd6</td>\n",
       "      <td>50e219e0</td>\n",
       "      <td>9c13b419</td>\n",
       "      <td>2347f47a</td>\n",
       "      <td>f95efa07</td>\n",
       "      <td>a99f214a</td>\n",
       "      <td>078c6b38</td>\n",
       "      <td>1f0bc64f</td>\n",
       "      <td>1</td>\n",
       "      <td>0</td>\n",
       "      <td>23160</td>\n",
       "      <td>320</td>\n",
       "      <td>50</td>\n",
       "      <td>2667</td>\n",
       "      <td>0</td>\n",
       "      <td>47</td>\n",
       "      <td>-1</td>\n",
       "      <td>221</td>\n",
       "    </tr>\n",
       "  </tbody>\n",
       "</table>\n",
       "</div>"
      ],
      "text/plain": [
       "             id      hour    C1  banner_pos   site_id site_domain  \\\n",
       "0  1.000017e+19  14103100  1005           0  235ba823    f6ebf28e   \n",
       "1  1.000018e+19  14103100  1005           0  1fbe01fe    f3845767   \n",
       "2  1.000055e+19  14103100  1005           0  1fbe01fe    f3845767   \n",
       "3  1.000110e+19  14103100  1005           0  85f751fd    c4e18dd6   \n",
       "4  1.000138e+19  14103100  1005           0  85f751fd    c4e18dd6   \n",
       "\n",
       "  site_category    app_id app_domain app_category device_id device_ip  \\\n",
       "0      f028772b  ecad2386   7801e8d9     07d7df22  a99f214a  69f45779   \n",
       "1      28905ebd  ecad2386   7801e8d9     07d7df22  a99f214a  e8d44657   \n",
       "2      28905ebd  ecad2386   7801e8d9     07d7df22  a99f214a  10fb085b   \n",
       "3      50e219e0  51cedd4e   aefc06bd     0f2161f8  a99f214a  422d257a   \n",
       "4      50e219e0  9c13b419   2347f47a     f95efa07  a99f214a  078c6b38   \n",
       "\n",
       "  device_model  device_type  device_conn_type    C14  C15  C16   C17  C18  \\\n",
       "0     0eb711ec            1                 0   8330  320   50   761    3   \n",
       "1     ecb851b2            1                 0  22676  320   50  2616    0   \n",
       "2     1f0bc64f            1                 0  22676  320   50  2616    0   \n",
       "3     542422a7            1                 0  18648  320   50  1092    3   \n",
       "4     1f0bc64f            1                 0  23160  320   50  2667    0   \n",
       "\n",
       "   C19     C20  C21  \n",
       "0  175  100075   23  \n",
       "1   35  100083   51  \n",
       "2   35  100083   51  \n",
       "3  809  100156   61  \n",
       "4   47      -1  221  "
      ]
     },
     "execution_count": 10,
     "metadata": {},
     "output_type": "execute_result"
    }
   ],
   "source": [
    "test.head()"
   ]
  },
  {
   "cell_type": "code",
   "execution_count": 11,
   "metadata": {
    "ExecuteTime": {
     "end_time": "2020-07-09T12:24:58.685052Z",
     "start_time": "2020-07-09T12:24:58.680031Z"
    }
   },
   "outputs": [
    {
     "data": {
      "text/plain": [
       "(4577464, 23)"
      ]
     },
     "execution_count": 11,
     "metadata": {},
     "output_type": "execute_result"
    }
   ],
   "source": [
    "test.shape"
   ]
  },
  {
   "cell_type": "code",
   "execution_count": 12,
   "metadata": {
    "ExecuteTime": {
     "end_time": "2020-07-09T12:24:59.328352Z",
     "start_time": "2020-07-09T12:24:58.686018Z"
    }
   },
   "outputs": [
    {
     "data": {
      "text/plain": [
       "4191290"
      ]
     },
     "execution_count": 12,
     "metadata": {},
     "output_type": "execute_result"
    }
   ],
   "source": [
    "test['id'].nunique()"
   ]
  },
  {
   "cell_type": "code",
   "execution_count": 13,
   "metadata": {
    "ExecuteTime": {
     "end_time": "2020-07-09T12:24:59.332370Z",
     "start_time": "2020-07-09T12:24:59.329348Z"
    }
   },
   "outputs": [],
   "source": [
    "# test.nunique()"
   ]
  },
  {
   "cell_type": "markdown",
   "metadata": {},
   "source": [
    "2. 测试集中的类别特征有很多在训练集中可能没有出现过，那么这些类别特征在预测时将会较难预测,所以我们得重点观察此类数据.\n",
    "\n",
    "我们发现例如site_id,C14等等特征中,都出现了很多测试集中出现但是在训练集中并未出现的特征.所以后续处理的时候可以考虑特殊的编码。"
   ]
  },
  {
   "cell_type": "code",
   "execution_count": 14,
   "metadata": {
    "ExecuteTime": {
     "end_time": "2020-07-09T12:25:07.430083Z",
     "start_time": "2020-07-09T12:24:59.333945Z"
    }
   },
   "outputs": [
    {
     "name": "stdout",
     "output_type": "stream",
     "text": [
      "There are about 21 categorical features.\n",
      "C1 0\n",
      "banner_pos 0\n",
      "site_id 566\n",
      "site_domain 974\n",
      "site_category 1\n",
      "app_id 1737\n",
      "app_domain 75\n",
      "app_category 4\n",
      "device_id 278987\n",
      "device_ip 934217\n",
      "device_model 661\n",
      "device_type 0\n",
      "device_conn_type 0\n",
      "C14 325\n",
      "C15 0\n",
      "C16 0\n",
      "C17 45\n",
      "C18 0\n",
      "C19 2\n",
      "C20 2\n",
      "C21 2\n"
     ]
    }
   ],
   "source": [
    "cate_cols = ['C1','banner_pos','site_id','site_domain','site_category','app_id',\n",
    "             'app_domain','app_category','device_id', 'device_ip','device_model',\n",
    "             'device_type','device_conn_type', 'C14','C15','C16','C17','C18',\n",
    "             'C19','C20','C21']\n",
    "\n",
    "print('There are about %d categorical features.'%len(cate_cols))\n",
    "\n",
    "# 各类别特征中，在test中出现，在train中没有出现\n",
    "for col in cate_cols:\n",
    "    print(col, len(set(test[col].unique()) - set(train[col].unique()) ))"
   ]
  },
  {
   "cell_type": "markdown",
   "metadata": {},
   "source": [
    "3. 训练集和测试集中的id存在4个id是有交互的"
   ]
  },
  {
   "cell_type": "code",
   "execution_count": 15,
   "metadata": {
    "ExecuteTime": {
     "end_time": "2020-07-09T12:25:10.559238Z",
     "start_time": "2020-07-09T12:25:07.432043Z"
    }
   },
   "outputs": [
    {
     "data": {
      "text/plain": [
       "215143"
      ]
     },
     "execution_count": 15,
     "metadata": {},
     "output_type": "execute_result"
    }
   ],
   "source": [
    "len(set(train['id']) & set(test['id']))"
   ]
  },
  {
   "cell_type": "markdown",
   "metadata": {},
   "source": [
    "4. 时间是单调的,不存在交叉,所以此时我们尽量不要构造时间的交叉特征,因为这样只会出现训练集过拟合的情况,而如果训练集和测试集交叉的话,构建时间的交叉特征将会带来非常大的帮助。\n",
    "\n",
    "因为时间是单调的，构建验证集合的时候就可以按照时间进行划分。"
   ]
  },
  {
   "cell_type": "code",
   "execution_count": 16,
   "metadata": {
    "ExecuteTime": {
     "end_time": "2020-07-09T12:25:10.581548Z",
     "start_time": "2020-07-09T12:25:10.560235Z"
    }
   },
   "outputs": [
    {
     "data": {
      "text/plain": [
       "array([14102106, 14102205, 14102200, 14102109, 14102108, 14102107,\n",
       "       14102204, 14102201, 14102103, 14102119, 14102120, 14102111,\n",
       "       14102112, 14102121, 14102110, 14102116, 14102105, 14102115,\n",
       "       14102122, 14102101, 14102202, 14102114, 14102118, 14102104,\n",
       "       14102203, 14102113, 14102102, 14102100, 14102123, 14102117,\n",
       "       14102209, 14102212, 14102303, 14102223, 14102302, 14102210,\n",
       "       14102213, 14102217, 14102207, 14102208, 14102222, 14102216,\n",
       "       14102220, 14102211, 14102215, 14102219, 14102206, 14102221,\n",
       "       14102218, 14102214, 14102304, 14102301, 14102300, 14102311,\n",
       "       14102312, 14102406, 14102408, 14102316, 14102405, 14102407,\n",
       "       14102315, 14102306, 14102319, 14102409, 14102308, 14102410,\n",
       "       14102401, 14102310, 14102404, 14102313, 14102309, 14102317,\n",
       "       14102314, 14102307, 14102305, 14102322, 14102323, 14102320,\n",
       "       14102318, 14102402, 14102411, 14102321, 14102403, 14102400,\n",
       "       14102514, 14102513, 14102511, 14102519, 14102518, 14102413,\n",
       "       14102418, 14102520, 14102523, 14102515, 14102512, 14102414,\n",
       "       14102510, 14102504, 14102420, 14102517, 14102500, 14102415,\n",
       "       14102502, 14102412, 14102417, 14102507, 14102509, 14102516,\n",
       "       14102521, 14102508, 14102503, 14102505, 14102416, 14102422,\n",
       "       14102501, 14102522, 14102419, 14102423, 14102421, 14102506,\n",
       "       14102618, 14102612, 14102606, 14102613, 14102707, 14102611,\n",
       "       14102600, 14102706, 14102619, 14102623, 14102703, 14102615,\n",
       "       14102605, 14102620, 14102610, 14102609, 14102602, 14102608,\n",
       "       14102614, 14102704, 14102616, 14102705, 14102700, 14102603,\n",
       "       14102604, 14102617, 14102708, 14102621, 14102622, 14102701,\n",
       "       14102702, 14102607, 14102601, 14102711, 14102809, 14102716,\n",
       "       14102813, 14102717, 14102720, 14102802, 14102709, 14102721,\n",
       "       14102805, 14102808, 14102807, 14102810, 14102718, 14102812,\n",
       "       14102811, 14102715, 14102714, 14102719, 14102710, 14102806,\n",
       "       14102722, 14102713, 14102801, 14102803, 14102712, 14102804,\n",
       "       14102723, 14102800, 14102906, 14102819, 14102907, 14102909,\n",
       "       14102823, 14102910, 14102816, 14102818, 14102912, 14102817,\n",
       "       14102903, 14102908, 14102914, 14102821, 14102902, 14102904,\n",
       "       14102911, 14102905, 14102820, 14102814, 14102913, 14102815,\n",
       "       14102900, 14102901, 14102822, 14103007, 14103003, 14102916,\n",
       "       14103010, 14103017, 14103012, 14103002, 14103014, 14103009,\n",
       "       14103011, 14102915, 14103004, 14103006, 14102922, 14103008,\n",
       "       14103018, 14103005, 14102917, 14102918, 14102919, 14103015,\n",
       "       14103019, 14103013, 14102920, 14102923, 14103000, 14103016,\n",
       "       14102921, 14103001, 14103021, 14103022, 14103023, 14103020])"
      ]
     },
     "execution_count": 16,
     "metadata": {},
     "output_type": "execute_result"
    }
   ],
   "source": [
    "train['hour'].unique()"
   ]
  },
  {
   "cell_type": "code",
   "execution_count": 17,
   "metadata": {
    "ExecuteTime": {
     "end_time": "2020-07-09T12:25:10.630406Z",
     "start_time": "2020-07-09T12:25:10.582534Z"
    }
   },
   "outputs": [
    {
     "data": {
      "text/plain": [
       "array([14103100, 14103101, 14103102, 14103103, 14103104, 14103105,\n",
       "       14103106, 14103107, 14103108, 14103109, 14103110, 14103111,\n",
       "       14103112, 14103113, 14103114, 14103115, 14103116, 14103117,\n",
       "       14103118, 14103119, 14103120, 14103121, 14103122, 14103123])"
      ]
     },
     "execution_count": 17,
     "metadata": {},
     "output_type": "execute_result"
    }
   ],
   "source": [
    "test['hour'].unique()"
   ]
  },
  {
   "cell_type": "markdown",
   "metadata": {},
   "source": [
    "**结论**\n",
    "1. 测试集有23个不同的特征\n",
    "2. 测试集中的类别特征有很多在训练集中没有出现过\n",
    "3. 训练集和测试集中的id存在4个id是有交互的"
   ]
  },
  {
   "cell_type": "markdown",
   "metadata": {},
   "source": [
    "## Baseline提交"
   ]
  },
  {
   "cell_type": "markdown",
   "metadata": {},
   "source": [
    "### 类别特征一律采用count编码进行处理\n",
    "\n",
    "此处我们将train和test数据集进行合并提取count特征，实验中这样的操作往往可以得到更加好一点的结果,当然也不是100%保证这样会更好。"
   ]
  },
  {
   "cell_type": "code",
   "execution_count": 18,
   "metadata": {
    "ExecuteTime": {
     "end_time": "2020-07-09T12:25:11.828348Z",
     "start_time": "2020-07-09T12:25:10.634396Z"
    }
   },
   "outputs": [
    {
     "data": {
      "text/plain": [
       "0"
      ]
     },
     "execution_count": 18,
     "metadata": {},
     "output_type": "execute_result"
    }
   ],
   "source": [
    "train_cols = [x for x in train.columns if x not in ['id', 'click']]\n",
    "\n",
    "data = pd.concat([train, test])\n",
    "\n",
    "del train, test\n",
    "gc.collect()"
   ]
  },
  {
   "cell_type": "code",
   "execution_count": 19,
   "metadata": {
    "ExecuteTime": {
     "end_time": "2020-07-09T12:25:11.835294Z",
     "start_time": "2020-07-09T12:25:11.830307Z"
    }
   },
   "outputs": [],
   "source": [
    "# count编码\n",
    "def count_encode(df, cols=[]):\n",
    "    for col in cols:\n",
    "        print(col)\n",
    "        vc = df[col].value_counts(dropna=True, normalize=True)\n",
    "        df[col + '_count'] = df[col].map(vc).astype('float32')"
   ]
  },
  {
   "cell_type": "code",
   "execution_count": 20,
   "metadata": {
    "ExecuteTime": {
     "end_time": "2020-07-09T12:25:35.216420Z",
     "start_time": "2020-07-09T12:25:11.836787Z"
    }
   },
   "outputs": [
    {
     "name": "stdout",
     "output_type": "stream",
     "text": [
      "C1\n",
      "banner_pos\n",
      "site_id\n",
      "site_domain\n",
      "site_category\n",
      "app_id\n",
      "app_domain\n",
      "app_category\n",
      "device_id\n",
      "device_ip\n",
      "device_model\n",
      "device_type\n",
      "device_conn_type\n",
      "C14\n",
      "C15\n",
      "C16\n",
      "C17\n",
      "C18\n",
      "C19\n",
      "C20\n",
      "C21\n"
     ]
    },
    {
     "data": {
      "text/html": [
       "<div>\n",
       "<style scoped>\n",
       "    .dataframe tbody tr th:only-of-type {\n",
       "        vertical-align: middle;\n",
       "    }\n",
       "\n",
       "    .dataframe tbody tr th {\n",
       "        vertical-align: top;\n",
       "    }\n",
       "\n",
       "    .dataframe thead th {\n",
       "        text-align: right;\n",
       "    }\n",
       "</style>\n",
       "<table border=\"1\" class=\"dataframe\">\n",
       "  <thead>\n",
       "    <tr style=\"text-align: right;\">\n",
       "      <th></th>\n",
       "      <th>id</th>\n",
       "      <th>click</th>\n",
       "      <th>hour</th>\n",
       "      <th>C1</th>\n",
       "      <th>banner_pos</th>\n",
       "      <th>site_id</th>\n",
       "      <th>site_domain</th>\n",
       "      <th>site_category</th>\n",
       "      <th>app_id</th>\n",
       "      <th>app_domain</th>\n",
       "      <th>app_category</th>\n",
       "      <th>device_id</th>\n",
       "      <th>device_ip</th>\n",
       "      <th>device_model</th>\n",
       "      <th>device_type</th>\n",
       "      <th>device_conn_type</th>\n",
       "      <th>C14</th>\n",
       "      <th>C15</th>\n",
       "      <th>C16</th>\n",
       "      <th>C17</th>\n",
       "      <th>C18</th>\n",
       "      <th>C19</th>\n",
       "      <th>C20</th>\n",
       "      <th>C21</th>\n",
       "      <th>C1_count</th>\n",
       "      <th>banner_pos_count</th>\n",
       "      <th>site_id_count</th>\n",
       "      <th>site_domain_count</th>\n",
       "      <th>site_category_count</th>\n",
       "      <th>app_id_count</th>\n",
       "      <th>app_domain_count</th>\n",
       "      <th>app_category_count</th>\n",
       "      <th>device_id_count</th>\n",
       "      <th>device_ip_count</th>\n",
       "      <th>device_model_count</th>\n",
       "      <th>device_type_count</th>\n",
       "      <th>device_conn_type_count</th>\n",
       "      <th>C14_count</th>\n",
       "      <th>C15_count</th>\n",
       "      <th>C16_count</th>\n",
       "      <th>C17_count</th>\n",
       "      <th>C18_count</th>\n",
       "      <th>C19_count</th>\n",
       "      <th>C20_count</th>\n",
       "      <th>C21_count</th>\n",
       "    </tr>\n",
       "  </thead>\n",
       "  <tbody>\n",
       "    <tr>\n",
       "      <th>0</th>\n",
       "      <td>5.300437e+18</td>\n",
       "      <td>0.0</td>\n",
       "      <td>14102106</td>\n",
       "      <td>1005</td>\n",
       "      <td>0</td>\n",
       "      <td>9a28a858</td>\n",
       "      <td>64778742</td>\n",
       "      <td>f028772b</td>\n",
       "      <td>ecad2386</td>\n",
       "      <td>7801e8d9</td>\n",
       "      <td>07d7df22</td>\n",
       "      <td>a99f214a</td>\n",
       "      <td>88298bfa</td>\n",
       "      <td>c144e605</td>\n",
       "      <td>1</td>\n",
       "      <td>0</td>\n",
       "      <td>21690</td>\n",
       "      <td>300</td>\n",
       "      <td>250</td>\n",
       "      <td>2496</td>\n",
       "      <td>3</td>\n",
       "      <td>167</td>\n",
       "      <td>-1</td>\n",
       "      <td>23</td>\n",
       "      <td>0.937113</td>\n",
       "      <td>0.777905</td>\n",
       "      <td>0.000165</td>\n",
       "      <td>0.000276</td>\n",
       "      <td>0.380543</td>\n",
       "      <td>0.637979</td>\n",
       "      <td>0.664464</td>\n",
       "      <td>0.644226</td>\n",
       "      <td>0.854757</td>\n",
       "      <td>1.260405e-05</td>\n",
       "      <td>0.004679</td>\n",
       "      <td>0.942361</td>\n",
       "      <td>0.85293</td>\n",
       "      <td>0.000009</td>\n",
       "      <td>0.059579</td>\n",
       "      <td>0.047651</td>\n",
       "      <td>0.000489</td>\n",
       "      <td>0.291173</td>\n",
       "      <td>0.059593</td>\n",
       "      <td>0.472219</td>\n",
       "      <td>0.223415</td>\n",
       "    </tr>\n",
       "    <tr>\n",
       "      <th>1</th>\n",
       "      <td>1.075158e+18</td>\n",
       "      <td>0.0</td>\n",
       "      <td>14102205</td>\n",
       "      <td>1005</td>\n",
       "      <td>1</td>\n",
       "      <td>16c73019</td>\n",
       "      <td>8025317b</td>\n",
       "      <td>28905ebd</td>\n",
       "      <td>ecad2386</td>\n",
       "      <td>7801e8d9</td>\n",
       "      <td>07d7df22</td>\n",
       "      <td>a99f214a</td>\n",
       "      <td>188a2192</td>\n",
       "      <td>fdd86e39</td>\n",
       "      <td>1</td>\n",
       "      <td>0</td>\n",
       "      <td>20153</td>\n",
       "      <td>320</td>\n",
       "      <td>50</td>\n",
       "      <td>2307</td>\n",
       "      <td>3</td>\n",
       "      <td>163</td>\n",
       "      <td>100020</td>\n",
       "      <td>61</td>\n",
       "      <td>0.937113</td>\n",
       "      <td>0.219838</td>\n",
       "      <td>0.002292</td>\n",
       "      <td>0.002292</td>\n",
       "      <td>0.128623</td>\n",
       "      <td>0.637979</td>\n",
       "      <td>0.664464</td>\n",
       "      <td>0.644226</td>\n",
       "      <td>0.854757</td>\n",
       "      <td>6.722158e-07</td>\n",
       "      <td>0.000171</td>\n",
       "      <td>0.942361</td>\n",
       "      <td>0.85293</td>\n",
       "      <td>0.001674</td>\n",
       "      <td>0.931311</td>\n",
       "      <td>0.940433</td>\n",
       "      <td>0.002322</td>\n",
       "      <td>0.291173</td>\n",
       "      <td>0.015808</td>\n",
       "      <td>0.002461</td>\n",
       "      <td>0.046261</td>\n",
       "    </tr>\n",
       "    <tr>\n",
       "      <th>2</th>\n",
       "      <td>5.651358e+18</td>\n",
       "      <td>0.0</td>\n",
       "      <td>14102200</td>\n",
       "      <td>1005</td>\n",
       "      <td>0</td>\n",
       "      <td>1fbe01fe</td>\n",
       "      <td>f3845767</td>\n",
       "      <td>28905ebd</td>\n",
       "      <td>ecad2386</td>\n",
       "      <td>7801e8d9</td>\n",
       "      <td>07d7df22</td>\n",
       "      <td>a99f214a</td>\n",
       "      <td>4886724a</td>\n",
       "      <td>49ea3580</td>\n",
       "      <td>1</td>\n",
       "      <td>0</td>\n",
       "      <td>15701</td>\n",
       "      <td>320</td>\n",
       "      <td>50</td>\n",
       "      <td>1722</td>\n",
       "      <td>0</td>\n",
       "      <td>35</td>\n",
       "      <td>-1</td>\n",
       "      <td>79</td>\n",
       "      <td>0.937113</td>\n",
       "      <td>0.777905</td>\n",
       "      <td>0.112489</td>\n",
       "      <td>0.249126</td>\n",
       "      <td>0.128623</td>\n",
       "      <td>0.637979</td>\n",
       "      <td>0.664464</td>\n",
       "      <td>0.644226</td>\n",
       "      <td>0.854757</td>\n",
       "      <td>1.680540e-07</td>\n",
       "      <td>0.001392</td>\n",
       "      <td>0.942361</td>\n",
       "      <td>0.85293</td>\n",
       "      <td>0.005012</td>\n",
       "      <td>0.931311</td>\n",
       "      <td>0.940433</td>\n",
       "      <td>0.043680</td>\n",
       "      <td>0.450075</td>\n",
       "      <td>0.324288</td>\n",
       "      <td>0.472219</td>\n",
       "      <td>0.072608</td>\n",
       "    </tr>\n",
       "    <tr>\n",
       "      <th>3</th>\n",
       "      <td>1.610407e+19</td>\n",
       "      <td>0.0</td>\n",
       "      <td>14102109</td>\n",
       "      <td>1005</td>\n",
       "      <td>0</td>\n",
       "      <td>85f751fd</td>\n",
       "      <td>c4e18dd6</td>\n",
       "      <td>50e219e0</td>\n",
       "      <td>e2fcccd2</td>\n",
       "      <td>5c5a694b</td>\n",
       "      <td>0f2161f8</td>\n",
       "      <td>a99f214a</td>\n",
       "      <td>88f2e808</td>\n",
       "      <td>84ebbcd4</td>\n",
       "      <td>1</td>\n",
       "      <td>0</td>\n",
       "      <td>4687</td>\n",
       "      <td>320</td>\n",
       "      <td>50</td>\n",
       "      <td>423</td>\n",
       "      <td>2</td>\n",
       "      <td>39</td>\n",
       "      <td>100148</td>\n",
       "      <td>32</td>\n",
       "      <td>0.937113</td>\n",
       "      <td>0.777905</td>\n",
       "      <td>0.362021</td>\n",
       "      <td>0.372231</td>\n",
       "      <td>0.398630</td>\n",
       "      <td>0.032783</td>\n",
       "      <td>0.032801</td>\n",
       "      <td>0.195590</td>\n",
       "      <td>0.854757</td>\n",
       "      <td>1.680540e-07</td>\n",
       "      <td>0.009319</td>\n",
       "      <td>0.942361</td>\n",
       "      <td>0.85293</td>\n",
       "      <td>0.011513</td>\n",
       "      <td>0.931311</td>\n",
       "      <td>0.940433</td>\n",
       "      <td>0.011513</td>\n",
       "      <td>0.209682</td>\n",
       "      <td>0.202957</td>\n",
       "      <td>0.065224</td>\n",
       "      <td>0.035556</td>\n",
       "    </tr>\n",
       "    <tr>\n",
       "      <th>4</th>\n",
       "      <td>8.107568e+18</td>\n",
       "      <td>0.0</td>\n",
       "      <td>14102108</td>\n",
       "      <td>1005</td>\n",
       "      <td>0</td>\n",
       "      <td>1fbe01fe</td>\n",
       "      <td>f3845767</td>\n",
       "      <td>28905ebd</td>\n",
       "      <td>ecad2386</td>\n",
       "      <td>7801e8d9</td>\n",
       "      <td>07d7df22</td>\n",
       "      <td>a99f214a</td>\n",
       "      <td>dcda1213</td>\n",
       "      <td>779d90c2</td>\n",
       "      <td>1</td>\n",
       "      <td>0</td>\n",
       "      <td>15702</td>\n",
       "      <td>320</td>\n",
       "      <td>50</td>\n",
       "      <td>1722</td>\n",
       "      <td>0</td>\n",
       "      <td>35</td>\n",
       "      <td>-1</td>\n",
       "      <td>79</td>\n",
       "      <td>0.937113</td>\n",
       "      <td>0.777905</td>\n",
       "      <td>0.112489</td>\n",
       "      <td>0.249126</td>\n",
       "      <td>0.128623</td>\n",
       "      <td>0.637979</td>\n",
       "      <td>0.664464</td>\n",
       "      <td>0.644226</td>\n",
       "      <td>0.854757</td>\n",
       "      <td>3.361079e-07</td>\n",
       "      <td>0.009310</td>\n",
       "      <td>0.942361</td>\n",
       "      <td>0.85293</td>\n",
       "      <td>0.004559</td>\n",
       "      <td>0.931311</td>\n",
       "      <td>0.940433</td>\n",
       "      <td>0.043680</td>\n",
       "      <td>0.450075</td>\n",
       "      <td>0.324288</td>\n",
       "      <td>0.472219</td>\n",
       "      <td>0.072608</td>\n",
       "    </tr>\n",
       "  </tbody>\n",
       "</table>\n",
       "</div>"
      ],
      "text/plain": [
       "             id  click      hour    C1  banner_pos   site_id site_domain  \\\n",
       "0  5.300437e+18    0.0  14102106  1005           0  9a28a858    64778742   \n",
       "1  1.075158e+18    0.0  14102205  1005           1  16c73019    8025317b   \n",
       "2  5.651358e+18    0.0  14102200  1005           0  1fbe01fe    f3845767   \n",
       "3  1.610407e+19    0.0  14102109  1005           0  85f751fd    c4e18dd6   \n",
       "4  8.107568e+18    0.0  14102108  1005           0  1fbe01fe    f3845767   \n",
       "\n",
       "  site_category    app_id app_domain app_category device_id device_ip  \\\n",
       "0      f028772b  ecad2386   7801e8d9     07d7df22  a99f214a  88298bfa   \n",
       "1      28905ebd  ecad2386   7801e8d9     07d7df22  a99f214a  188a2192   \n",
       "2      28905ebd  ecad2386   7801e8d9     07d7df22  a99f214a  4886724a   \n",
       "3      50e219e0  e2fcccd2   5c5a694b     0f2161f8  a99f214a  88f2e808   \n",
       "4      28905ebd  ecad2386   7801e8d9     07d7df22  a99f214a  dcda1213   \n",
       "\n",
       "  device_model  device_type  device_conn_type    C14  C15  C16   C17  C18  \\\n",
       "0     c144e605            1                 0  21690  300  250  2496    3   \n",
       "1     fdd86e39            1                 0  20153  320   50  2307    3   \n",
       "2     49ea3580            1                 0  15701  320   50  1722    0   \n",
       "3     84ebbcd4            1                 0   4687  320   50   423    2   \n",
       "4     779d90c2            1                 0  15702  320   50  1722    0   \n",
       "\n",
       "   C19     C20  C21  C1_count  banner_pos_count  site_id_count  \\\n",
       "0  167      -1   23  0.937113          0.777905       0.000165   \n",
       "1  163  100020   61  0.937113          0.219838       0.002292   \n",
       "2   35      -1   79  0.937113          0.777905       0.112489   \n",
       "3   39  100148   32  0.937113          0.777905       0.362021   \n",
       "4   35      -1   79  0.937113          0.777905       0.112489   \n",
       "\n",
       "   site_domain_count  site_category_count  app_id_count  app_domain_count  \\\n",
       "0           0.000276             0.380543      0.637979          0.664464   \n",
       "1           0.002292             0.128623      0.637979          0.664464   \n",
       "2           0.249126             0.128623      0.637979          0.664464   \n",
       "3           0.372231             0.398630      0.032783          0.032801   \n",
       "4           0.249126             0.128623      0.637979          0.664464   \n",
       "\n",
       "   app_category_count  device_id_count  device_ip_count  device_model_count  \\\n",
       "0            0.644226         0.854757     1.260405e-05            0.004679   \n",
       "1            0.644226         0.854757     6.722158e-07            0.000171   \n",
       "2            0.644226         0.854757     1.680540e-07            0.001392   \n",
       "3            0.195590         0.854757     1.680540e-07            0.009319   \n",
       "4            0.644226         0.854757     3.361079e-07            0.009310   \n",
       "\n",
       "   device_type_count  device_conn_type_count  C14_count  C15_count  C16_count  \\\n",
       "0           0.942361                 0.85293   0.000009   0.059579   0.047651   \n",
       "1           0.942361                 0.85293   0.001674   0.931311   0.940433   \n",
       "2           0.942361                 0.85293   0.005012   0.931311   0.940433   \n",
       "3           0.942361                 0.85293   0.011513   0.931311   0.940433   \n",
       "4           0.942361                 0.85293   0.004559   0.931311   0.940433   \n",
       "\n",
       "   C17_count  C18_count  C19_count  C20_count  C21_count  \n",
       "0   0.000489   0.291173   0.059593   0.472219   0.223415  \n",
       "1   0.002322   0.291173   0.015808   0.002461   0.046261  \n",
       "2   0.043680   0.450075   0.324288   0.472219   0.072608  \n",
       "3   0.011513   0.209682   0.202957   0.065224   0.035556  \n",
       "4   0.043680   0.450075   0.324288   0.472219   0.072608  "
      ]
     },
     "execution_count": 20,
     "metadata": {},
     "output_type": "execute_result"
    }
   ],
   "source": [
    "count_encode(data, cols=cate_cols)\n",
    "data.head()"
   ]
  },
  {
   "cell_type": "code",
   "execution_count": 21,
   "metadata": {
    "ExecuteTime": {
     "end_time": "2020-07-09T12:25:35.222140Z",
     "start_time": "2020-07-09T12:25:35.217483Z"
    }
   },
   "outputs": [
    {
     "data": {
      "text/plain": [
       "4577459    14103123\n",
       "4577460    14103123\n",
       "4577461    14103123\n",
       "4577462    14103123\n",
       "4577463    14103123\n",
       "Name: hour, dtype: int32"
      ]
     },
     "execution_count": 21,
     "metadata": {},
     "output_type": "execute_result"
    }
   ],
   "source": [
    "data['hour'].tail()"
   ]
  },
  {
   "cell_type": "code",
   "execution_count": 22,
   "metadata": {
    "ExecuteTime": {
     "end_time": "2020-07-09T12:25:40.597167Z",
     "start_time": "2020-07-09T12:25:35.223137Z"
    }
   },
   "outputs": [],
   "source": [
    "data['day'] = data['hour'].apply(lambda x: str(x)[4:6]).astype(int)\n",
    "\n",
    "train_data = data.loc[data['click'].notnull()]\n",
    "test_data = data.loc[data['click'].isnull()]"
   ]
  },
  {
   "cell_type": "markdown",
   "metadata": {},
   "source": [
    "### 线下验证"
   ]
  },
  {
   "cell_type": "code",
   "execution_count": 23,
   "metadata": {
    "ExecuteTime": {
     "end_time": "2020-07-09T12:25:41.347448Z",
     "start_time": "2020-07-09T12:25:40.598163Z"
    }
   },
   "outputs": [],
   "source": [
    "# 最后两天作为验证集\n",
    "train_data_train = train_data.loc[train_data.day <= 28,:]\n",
    "train_data_val = train_data.loc[train_data.day > 28 ,:]\n",
    "\n",
    "train_cols = [x for x in train_data_train.columns if x not in ['id', 'click'] and train_data_train[x].dtypes != 'O']\n",
    "\n",
    "y = 'click'\n",
    "\n",
    "lgb_train = lgb.Dataset(train_data_train[train_cols].values, train_data_train[y]) \n",
    "lgb_eval= lgb.Dataset(train_data_val[train_cols].values, train_data_val[y], reference=lgb_train)"
   ]
  },
  {
   "cell_type": "code",
   "execution_count": 24,
   "metadata": {
    "ExecuteTime": {
     "end_time": "2020-07-09T12:26:28.364289Z",
     "start_time": "2020-07-09T12:25:41.348419Z"
    }
   },
   "outputs": [
    {
     "name": "stdout",
     "output_type": "stream",
     "text": [
      "Start training...\n",
      "Training until validation scores don't improve for 50 rounds\n",
      "[10]\ttraining's binary_logloss: 0.639642\tvalid_1's binary_logloss: 0.645972\n",
      "[20]\ttraining's binary_logloss: 0.61643\tvalid_1's binary_logloss: 0.625761\n",
      "[30]\ttraining's binary_logloss: 0.604864\tvalid_1's binary_logloss: 0.61573\n",
      "[40]\ttraining's binary_logloss: 0.598514\tvalid_1's binary_logloss: 0.610844\n",
      "[50]\ttraining's binary_logloss: 0.594295\tvalid_1's binary_logloss: 0.607529\n",
      "[60]\ttraining's binary_logloss: 0.591545\tvalid_1's binary_logloss: 0.60595\n",
      "[70]\ttraining's binary_logloss: 0.589447\tvalid_1's binary_logloss: 0.605026\n",
      "[80]\ttraining's binary_logloss: 0.587541\tvalid_1's binary_logloss: 0.604243\n",
      "[90]\ttraining's binary_logloss: 0.585833\tvalid_1's binary_logloss: 0.603281\n",
      "[100]\ttraining's binary_logloss: 0.584462\tvalid_1's binary_logloss: 0.602658\n",
      "[110]\ttraining's binary_logloss: 0.583081\tvalid_1's binary_logloss: 0.602137\n",
      "[120]\ttraining's binary_logloss: 0.582013\tvalid_1's binary_logloss: 0.601912\n",
      "[130]\ttraining's binary_logloss: 0.58096\tvalid_1's binary_logloss: 0.601615\n",
      "[140]\ttraining's binary_logloss: 0.579892\tvalid_1's binary_logloss: 0.601037\n",
      "[150]\ttraining's binary_logloss: 0.578974\tvalid_1's binary_logloss: 0.600728\n",
      "[160]\ttraining's binary_logloss: 0.578203\tvalid_1's binary_logloss: 0.600771\n",
      "[170]\ttraining's binary_logloss: 0.57724\tvalid_1's binary_logloss: 0.60048\n",
      "[180]\ttraining's binary_logloss: 0.576491\tvalid_1's binary_logloss: 0.600521\n",
      "[190]\ttraining's binary_logloss: 0.575667\tvalid_1's binary_logloss: 0.600299\n",
      "[200]\ttraining's binary_logloss: 0.574874\tvalid_1's binary_logloss: 0.600327\n",
      "[210]\ttraining's binary_logloss: 0.574088\tvalid_1's binary_logloss: 0.60043\n",
      "[220]\ttraining's binary_logloss: 0.5734\tvalid_1's binary_logloss: 0.600816\n",
      "[230]\ttraining's binary_logloss: 0.572788\tvalid_1's binary_logloss: 0.601039\n",
      "[240]\ttraining's binary_logloss: 0.572004\tvalid_1's binary_logloss: 0.600953\n",
      "Early stopping, best iteration is:\n",
      "[197]\ttraining's binary_logloss: 0.575074\tvalid_1's binary_logloss: 0.600028\n"
     ]
    }
   ],
   "source": [
    "params = {\n",
    "    'task': 'train',\n",
    "    'boosting_type': 'gbdt',\n",
    "    'objective': 'binary',\n",
    "    'metric': {'binary_logloss'},\n",
    "    'num_leaves': 255,\n",
    "    'learning_rate': 0.05,\n",
    "    'feature_fraction': 0.95,\n",
    "    'bagging_fraction': 0.85,\n",
    "    'bagging_freq': 5, \n",
    "    'min_data_in_leaf':15,\n",
    "    'verbose': 0 \n",
    "}\n",
    "\n",
    "print('Start training...')\n",
    "\n",
    "# train\n",
    "\n",
    "gbm_val = lgb.train(params,\n",
    "                      lgb_train,\n",
    "                      num_boost_round=2000,\n",
    "                      valid_sets=[lgb_train, lgb_eval],\n",
    "                      early_stopping_rounds=50,\n",
    "                      verbose_eval=10) "
   ]
  },
  {
   "cell_type": "code",
   "execution_count": 25,
   "metadata": {
    "ExecuteTime": {
     "end_time": "2020-07-09T12:27:20.259187Z",
     "start_time": "2020-07-09T12:26:28.367281Z"
    }
   },
   "outputs": [
    {
     "name": "stdout",
     "output_type": "stream",
     "text": [
      "Start training...\n"
     ]
    }
   ],
   "source": [
    "lgb_train = lgb.Dataset(train_data[train_cols].values, train_data[y])   \n",
    "\n",
    "print('Start training...')\n",
    "\n",
    "# train\n",
    "\n",
    "gbm_1  = lgb.train(params,\n",
    "                   lgb_train,\n",
    "                   num_boost_round=gbm_val.best_iteration + 20) "
   ]
  },
  {
   "cell_type": "code",
   "execution_count": 27,
   "metadata": {
    "ExecuteTime": {
     "end_time": "2020-07-09T12:29:03.323537Z",
     "start_time": "2020-07-09T12:28:18.794073Z"
    }
   },
   "outputs": [],
   "source": [
    "submit_sample = pd.read_csv('../input/sampleSubmission.csv')\n",
    "submit_sample['click'] = gbm_1.predict(test_data[train_cols])\n",
    "submit_sample[['id', 'click']].to_csv('../sub/baseline1.csv',index = None)"
   ]
  },
  {
   "cell_type": "markdown",
   "metadata": {},
   "source": [
    "### 对类别特征做LabelEncoder"
   ]
  },
  {
   "cell_type": "code",
   "execution_count": null,
   "metadata": {},
   "outputs": [],
   "source": [
    "def label_encode(df, cols, verbose=True):\n",
    "    for col in cols:\n",
    "        df[col], _ = df[col].factorize(sort=True)\n",
    "        if df[col].max() > 32000:\n",
    "            df[col] = df[col].astype('int32')\n",
    "        else:\n",
    "            df[col] = df[col].astype('int16')\n",
    "        if verbose:\n",
    "            print(col)"
   ]
  },
  {
   "cell_type": "code",
   "execution_count": null,
   "metadata": {},
   "outputs": [],
   "source": [
    "cols = [x for x in data.columns if x not in ['id', 'click'] and data[x].dtypes == 'O']\n",
    "\n",
    "label_encode(data, cols=cols)"
   ]
  },
  {
   "cell_type": "code",
   "execution_count": null,
   "metadata": {},
   "outputs": [],
   "source": []
  }
 ],
 "metadata": {
  "kernelspec": {
   "display_name": "Python 3",
   "language": "python",
   "name": "python3"
  },
  "language_info": {
   "codemirror_mode": {
    "name": "ipython",
    "version": 3
   },
   "file_extension": ".py",
   "mimetype": "text/x-python",
   "name": "python",
   "nbconvert_exporter": "python",
   "pygments_lexer": "ipython3",
   "version": "3.7.3"
  },
  "toc": {
   "base_numbering": 1,
   "nav_menu": {},
   "number_sections": true,
   "sideBar": true,
   "skip_h1_title": false,
   "title_cell": "Table of Contents",
   "title_sidebar": "Contents",
   "toc_cell": false,
   "toc_position": {},
   "toc_section_display": true,
   "toc_window_display": false
  },
  "varInspector": {
   "cols": {
    "lenName": 16,
    "lenType": 16,
    "lenVar": 40
   },
   "kernels_config": {
    "python": {
     "delete_cmd_postfix": "",
     "delete_cmd_prefix": "del ",
     "library": "var_list.py",
     "varRefreshCmd": "print(var_dic_list())"
    },
    "r": {
     "delete_cmd_postfix": ") ",
     "delete_cmd_prefix": "rm(",
     "library": "var_list.r",
     "varRefreshCmd": "cat(var_dic_list()) "
    }
   },
   "types_to_exclude": [
    "module",
    "function",
    "builtin_function_or_method",
    "instance",
    "_Feature"
   ],
   "window_display": false
  }
 },
 "nbformat": 4,
 "nbformat_minor": 4
}
