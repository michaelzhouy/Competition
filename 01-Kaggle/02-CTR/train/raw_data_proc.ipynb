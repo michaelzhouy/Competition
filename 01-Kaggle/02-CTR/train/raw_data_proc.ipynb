{
 "cells": [
  {
   "cell_type": "code",
   "execution_count": 1,
   "metadata": {
    "ExecuteTime": {
     "end_time": "2020-07-09T11:56:13.794554Z",
     "start_time": "2020-07-09T11:56:13.218053Z"
    }
   },
   "outputs": [],
   "source": [
    "import numpy as np\n",
    "import pandas as pd\n",
    "import gc\n",
    "pd.set_option('max_columns', None)\n",
    "pd.set_option('max_rows', None)"
   ]
  },
  {
   "cell_type": "code",
   "execution_count": 2,
   "metadata": {
    "ExecuteTime": {
     "end_time": "2020-07-09T11:56:13.819490Z",
     "start_time": "2020-07-09T11:56:13.796550Z"
    }
   },
   "outputs": [],
   "source": [
    "def reduce_mem_usage(df):\n",
    "    \"\"\"\n",
    "    iterate through all the columns of a dataframe and modify the data type to reduce memory usage.\n",
    "    @param df:\n",
    "    @return:\n",
    "    \"\"\"\n",
    "    start_mem = df.memory_usage().sum()\n",
    "    print('Memory usage of dataframe is {:.2f} MB'.format(start_mem))\n",
    "\n",
    "    for col in df.columns:\n",
    "        col_type = df[col].dtype\n",
    "\n",
    "        if col_type != object:\n",
    "            c_min = df[col].min()\n",
    "            c_max = df[col].max()\n",
    "            if str(col_type)[:3] == 'int':\n",
    "                if c_min > np.iinfo(np.int8).min and c_max < np.iinfo(np.int8).max:\n",
    "                    df[col] = df[col].astype(np.int8)\n",
    "                elif c_min > np.iinfo(np.int16).min and c_max < np.iinfo(np.int16).max:\n",
    "                    df[col] = df[col].astype(np.int16)\n",
    "                elif c_min > np.iinfo(np.int32).min and c_max < np.iinfo(np.int32).max:\n",
    "                    df[col] = df[col].astype(np.int32)\n",
    "                elif c_min > np.iinfo(np.int64).min and c_max < np.iinfo(np.int64).max:\n",
    "                    df[col] = df[col].astype(np.int64)\n",
    "            else:\n",
    "                if c_min > np.finfo(np.float16).min and c_max < np.finfo(np.float16).max:\n",
    "                    df[col] = df[col].astype(np.float16)\n",
    "                elif c_min > np.finfo(np.float32).min and c_max < np.finfo(np.float32).max:\n",
    "                    df[col] = df[col].astype(np.float32)\n",
    "                else:\n",
    "                    df[col] = df[col].astype(np.float64)\n",
    "        else:\n",
    "            df[col] = df[col].astype('category')\n",
    "            df[col] = df[col].astype('str')\n",
    "\n",
    "    end_mem = df.memory_usage().sum()\n",
    "    print('Memory usage after optimization is: {:.2f} MB'.format(end_mem))\n",
    "    print('Decreased by {:.1f}%'.format(100 * (start_mem - end_mem) / start_mem))\n",
    "    return df"
   ]
  },
  {
   "cell_type": "code",
   "execution_count": 3,
   "metadata": {
    "ExecuteTime": {
     "end_time": "2020-07-09T11:56:13.826469Z",
     "start_time": "2020-07-09T11:56:13.821482Z"
    }
   },
   "outputs": [],
   "source": [
    "# test = reduce_mem_usage(pd.read_csv('../input/test.csv'))\n",
    "# test.head()"
   ]
  },
  {
   "cell_type": "code",
   "execution_count": 4,
   "metadata": {
    "ExecuteTime": {
     "end_time": "2020-07-09T11:56:13.832451Z",
     "start_time": "2020-07-09T11:56:13.827464Z"
    }
   },
   "outputs": [],
   "source": [
    "# test.to_hdf('../input/test.h5', 'df')"
   ]
  },
  {
   "cell_type": "code",
   "execution_count": 5,
   "metadata": {
    "ExecuteTime": {
     "end_time": "2020-07-09T12:01:35.738714Z",
     "start_time": "2020-07-09T11:56:13.834448Z"
    }
   },
   "outputs": [
    {
     "name": "stdout",
     "output_type": "stream",
     "text": [
      "Memory usage of dataframe is 960000128.00 MB\n",
      "Memory usage after optimization is: 515000128.00 MB\n",
      "Decreased by 46.4%\n",
      "chunk.shape:  (5000000, 24)\n",
      "chunk_1.shape:  (869006, 24)\n",
      "chunk_0.shape:  (4130994, 24)\n",
      "Sampled: \n",
      "chunk_1.shape:  (86900, 24)\n",
      "chunk_0.shape:  (86900, 24)\n",
      "Memory usage of dataframe is 960000132.00 MB\n",
      "Memory usage after optimization is: 515000132.00 MB\n",
      "Decreased by 46.4%\n",
      "chunk.shape:  (5000000, 24)\n",
      "chunk_1.shape:  (792351, 24)\n",
      "chunk_0.shape:  (4207649, 24)\n",
      "Sampled: \n",
      "chunk_1.shape:  (79235, 24)\n",
      "chunk_0.shape:  (79235, 24)\n",
      "Memory usage of dataframe is 960000132.00 MB\n",
      "Memory usage after optimization is: 515000132.00 MB\n",
      "Decreased by 46.4%\n",
      "chunk.shape:  (5000000, 24)\n",
      "chunk_1.shape:  (899082, 24)\n",
      "chunk_0.shape:  (4100918, 24)\n",
      "Sampled: \n",
      "chunk_1.shape:  (89908, 24)\n",
      "chunk_0.shape:  (89908, 24)\n",
      "Memory usage of dataframe is 960000132.00 MB\n",
      "Memory usage after optimization is: 515000132.00 MB\n",
      "Decreased by 46.4%\n",
      "chunk.shape:  (5000000, 24)\n",
      "chunk_1.shape:  (892575, 24)\n",
      "chunk_0.shape:  (4107425, 24)\n",
      "Sampled: \n",
      "chunk_1.shape:  (89257, 24)\n",
      "chunk_0.shape:  (89257, 24)\n",
      "Memory usage of dataframe is 960000132.00 MB\n",
      "Memory usage after optimization is: 515000132.00 MB\n",
      "Decreased by 46.4%\n",
      "chunk.shape:  (5000000, 24)\n",
      "chunk_1.shape:  (918412, 24)\n",
      "chunk_0.shape:  (4081588, 24)\n",
      "Sampled: \n",
      "chunk_1.shape:  (91841, 24)\n",
      "chunk_0.shape:  (91841, 24)\n",
      "Memory usage of dataframe is 960000132.00 MB\n",
      "Memory usage after optimization is: 515000132.00 MB\n",
      "Decreased by 46.4%\n",
      "chunk.shape:  (5000000, 24)\n",
      "chunk_1.shape:  (820936, 24)\n",
      "chunk_0.shape:  (4179064, 24)\n",
      "Sampled: \n",
      "chunk_1.shape:  (82093, 24)\n",
      "chunk_0.shape:  (82093, 24)\n",
      "Memory usage of dataframe is 960000132.00 MB\n",
      "Memory usage after optimization is: 515000132.00 MB\n",
      "Decreased by 46.4%\n",
      "chunk.shape:  (5000000, 24)\n",
      "chunk_1.shape:  (763737, 24)\n",
      "chunk_0.shape:  (4236263, 24)\n",
      "Sampled: \n",
      "chunk_1.shape:  (76373, 24)\n",
      "chunk_0.shape:  (76373, 24)\n",
      "Memory usage of dataframe is 960000132.00 MB\n",
      "Memory usage after optimization is: 515000132.00 MB\n",
      "Decreased by 46.4%\n",
      "chunk.shape:  (5000000, 24)\n",
      "chunk_1.shape:  (831604, 24)\n",
      "chunk_0.shape:  (4168396, 24)\n",
      "Sampled: \n",
      "chunk_1.shape:  (83160, 24)\n",
      "chunk_0.shape:  (83160, 24)\n",
      "Memory usage of dataframe is 82361796.00 MB\n",
      "Memory usage after optimization is: 44183733.00 MB\n",
      "Decreased by 46.4%\n",
      "chunk.shape:  (428967, 24)\n",
      "chunk_1.shape:  (77363, 24)\n",
      "chunk_0.shape:  (351604, 24)\n",
      "Sampled: \n",
      "chunk_1.shape:  (7736, 24)\n",
      "chunk_0.shape:  (7736, 24)\n"
     ]
    }
   ],
   "source": [
    "reader = pd.read_csv('../input/train.csv', chunksize=5000000)\n",
    "for i, chunk in enumerate(reader):\n",
    "    chunk = reduce_mem_usage(chunk)\n",
    "    gc.collect()\n",
    "    print('chunk.shape: ', chunk.shape)\n",
    "    chunk_1 = chunk[chunk['click'] == 1]\n",
    "    print('chunk_1.shape: ', chunk_1.shape)\n",
    "    chunk_0 = chunk[chunk['click'] == 0]\n",
    "    print('chunk_0.shape: ', chunk_0.shape)\n",
    "    del chunk\n",
    "    gc.collect()\n",
    "    chunk_1 = chunk_1.sample(int(0.1 * len(chunk_1)))\n",
    "    chunk_0 = chunk_0.sample(len(chunk_1))\n",
    "    print('Sampled: ')\n",
    "    print('chunk_1.shape: ', chunk_1.shape)\n",
    "    print('chunk_0.shape: ', chunk_0.shape)\n",
    "    train = pd.concat([chunk_0, chunk_1])\n",
    "    del chunk_0, chunk_1\n",
    "    gc.collect()\n",
    "    train.to_hdf('../input/train/train{}.h5'.format(i), 'df')\n",
    "    del train\n",
    "    gc.collect()"
   ]
  }
 ],
 "metadata": {
  "kernelspec": {
   "display_name": "Python 3",
   "language": "python",
   "name": "python3"
  },
  "language_info": {
   "codemirror_mode": {
    "name": "ipython",
    "version": 3
   },
   "file_extension": ".py",
   "mimetype": "text/x-python",
   "name": "python",
   "nbconvert_exporter": "python",
   "pygments_lexer": "ipython3",
   "version": "3.7.3"
  },
  "toc": {
   "base_numbering": 1,
   "nav_menu": {},
   "number_sections": true,
   "sideBar": true,
   "skip_h1_title": false,
   "title_cell": "Table of Contents",
   "title_sidebar": "Contents",
   "toc_cell": false,
   "toc_position": {},
   "toc_section_display": true,
   "toc_window_display": false
  },
  "varInspector": {
   "cols": {
    "lenName": 16,
    "lenType": 16,
    "lenVar": 40
   },
   "kernels_config": {
    "python": {
     "delete_cmd_postfix": "",
     "delete_cmd_prefix": "del ",
     "library": "var_list.py",
     "varRefreshCmd": "print(var_dic_list())"
    },
    "r": {
     "delete_cmd_postfix": ") ",
     "delete_cmd_prefix": "rm(",
     "library": "var_list.r",
     "varRefreshCmd": "cat(var_dic_list()) "
    }
   },
   "types_to_exclude": [
    "module",
    "function",
    "builtin_function_or_method",
    "instance",
    "_Feature"
   ],
   "window_display": false
  }
 },
 "nbformat": 4,
 "nbformat_minor": 2
}
