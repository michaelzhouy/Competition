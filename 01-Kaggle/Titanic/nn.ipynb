{
 "cells": [
  {
   "cell_type": "code",
   "execution_count": 1,
   "id": "0b643c12",
   "metadata": {
    "ExecuteTime": {
     "end_time": "2021-06-15T08:41:40.150287Z",
     "start_time": "2021-06-15T08:41:40.145658Z"
    }
   },
   "outputs": [],
   "source": [
    "import os\n",
    "import datetime\n",
    "\n",
    "def printbar():\n",
    "    nowtime = datetime.datetime.now().strftime('%Y-%m-%d %H:%mM:%S')\n",
    "    print('\\n' + '=====' * 8 + '%s' %nowtime)\n",
    "\n",
    "# os.environ('KMP_DUPLICATE_LIB_OK') = 'True'"
   ]
  },
  {
   "cell_type": "code",
   "execution_count": 2,
   "id": "a47a3224",
   "metadata": {
    "ExecuteTime": {
     "end_time": "2021-06-15T08:41:43.412961Z",
     "start_time": "2021-06-15T08:41:40.152984Z"
    }
   },
   "outputs": [],
   "source": [
    "import numpy as np\n",
    "import pandas as pd\n",
    "import matplotlib.pyplot as plt\n",
    "from sklearn.model_selection import train_test_split\n",
    "from sklearn.metrics import accuracy_score\n",
    "import torch\n",
    "from torch import nn\n",
    "from torch.utils.data import Dataset, DataLoader, TensorDataset\n",
    "from torchkeras import summary\n",
    "%matplotlib inline"
   ]
  },
  {
   "cell_type": "markdown",
   "id": "799f6fa5",
   "metadata": {},
   "source": [
    "## 准备数据"
   ]
  },
  {
   "cell_type": "code",
   "execution_count": 3,
   "id": "4b2b2c80",
   "metadata": {
    "ExecuteTime": {
     "end_time": "2021-06-15T08:41:43.444051Z",
     "start_time": "2021-06-15T08:41:43.415897Z"
    }
   },
   "outputs": [
    {
     "data": {
      "text/html": [
       "<div>\n",
       "<style scoped>\n",
       "    .dataframe tbody tr th:only-of-type {\n",
       "        vertical-align: middle;\n",
       "    }\n",
       "\n",
       "    .dataframe tbody tr th {\n",
       "        vertical-align: top;\n",
       "    }\n",
       "\n",
       "    .dataframe thead th {\n",
       "        text-align: right;\n",
       "    }\n",
       "</style>\n",
       "<table border=\"1\" class=\"dataframe\">\n",
       "  <thead>\n",
       "    <tr style=\"text-align: right;\">\n",
       "      <th></th>\n",
       "      <th>PassengerId</th>\n",
       "      <th>Survived</th>\n",
       "      <th>Pclass</th>\n",
       "      <th>Name</th>\n",
       "      <th>Sex</th>\n",
       "      <th>Age</th>\n",
       "      <th>SibSp</th>\n",
       "      <th>Parch</th>\n",
       "      <th>Ticket</th>\n",
       "      <th>Fare</th>\n",
       "      <th>Cabin</th>\n",
       "      <th>Embarked</th>\n",
       "    </tr>\n",
       "  </thead>\n",
       "  <tbody>\n",
       "    <tr>\n",
       "      <th>0</th>\n",
       "      <td>1</td>\n",
       "      <td>0</td>\n",
       "      <td>3</td>\n",
       "      <td>Braund, Mr. Owen Harris</td>\n",
       "      <td>male</td>\n",
       "      <td>22.0</td>\n",
       "      <td>1</td>\n",
       "      <td>0</td>\n",
       "      <td>A/5 21171</td>\n",
       "      <td>7.2500</td>\n",
       "      <td>NaN</td>\n",
       "      <td>S</td>\n",
       "    </tr>\n",
       "    <tr>\n",
       "      <th>1</th>\n",
       "      <td>2</td>\n",
       "      <td>1</td>\n",
       "      <td>1</td>\n",
       "      <td>Cumings, Mrs. John Bradley (Florence Briggs Th...</td>\n",
       "      <td>female</td>\n",
       "      <td>38.0</td>\n",
       "      <td>1</td>\n",
       "      <td>0</td>\n",
       "      <td>PC 17599</td>\n",
       "      <td>71.2833</td>\n",
       "      <td>C85</td>\n",
       "      <td>C</td>\n",
       "    </tr>\n",
       "    <tr>\n",
       "      <th>2</th>\n",
       "      <td>3</td>\n",
       "      <td>1</td>\n",
       "      <td>3</td>\n",
       "      <td>Heikkinen, Miss. Laina</td>\n",
       "      <td>female</td>\n",
       "      <td>26.0</td>\n",
       "      <td>0</td>\n",
       "      <td>0</td>\n",
       "      <td>STON/O2. 3101282</td>\n",
       "      <td>7.9250</td>\n",
       "      <td>NaN</td>\n",
       "      <td>S</td>\n",
       "    </tr>\n",
       "    <tr>\n",
       "      <th>3</th>\n",
       "      <td>4</td>\n",
       "      <td>1</td>\n",
       "      <td>1</td>\n",
       "      <td>Futrelle, Mrs. Jacques Heath (Lily May Peel)</td>\n",
       "      <td>female</td>\n",
       "      <td>35.0</td>\n",
       "      <td>1</td>\n",
       "      <td>0</td>\n",
       "      <td>113803</td>\n",
       "      <td>53.1000</td>\n",
       "      <td>C123</td>\n",
       "      <td>S</td>\n",
       "    </tr>\n",
       "    <tr>\n",
       "      <th>4</th>\n",
       "      <td>5</td>\n",
       "      <td>0</td>\n",
       "      <td>3</td>\n",
       "      <td>Allen, Mr. William Henry</td>\n",
       "      <td>male</td>\n",
       "      <td>35.0</td>\n",
       "      <td>0</td>\n",
       "      <td>0</td>\n",
       "      <td>373450</td>\n",
       "      <td>8.0500</td>\n",
       "      <td>NaN</td>\n",
       "      <td>S</td>\n",
       "    </tr>\n",
       "  </tbody>\n",
       "</table>\n",
       "</div>"
      ],
      "text/plain": [
       "   PassengerId  Survived  Pclass  \\\n",
       "0            1         0       3   \n",
       "1            2         1       1   \n",
       "2            3         1       3   \n",
       "3            4         1       1   \n",
       "4            5         0       3   \n",
       "\n",
       "                                                Name     Sex   Age  SibSp  \\\n",
       "0                            Braund, Mr. Owen Harris    male  22.0      1   \n",
       "1  Cumings, Mrs. John Bradley (Florence Briggs Th...  female  38.0      1   \n",
       "2                             Heikkinen, Miss. Laina  female  26.0      0   \n",
       "3       Futrelle, Mrs. Jacques Heath (Lily May Peel)  female  35.0      1   \n",
       "4                           Allen, Mr. William Henry    male  35.0      0   \n",
       "\n",
       "   Parch            Ticket     Fare Cabin Embarked  \n",
       "0      0         A/5 21171   7.2500   NaN        S  \n",
       "1      0          PC 17599  71.2833   C85        C  \n",
       "2      0  STON/O2. 3101282   7.9250   NaN        S  \n",
       "3      0            113803  53.1000  C123        S  \n",
       "4      0            373450   8.0500   NaN        S  "
      ]
     },
     "execution_count": 3,
     "metadata": {},
     "output_type": "execute_result"
    }
   ],
   "source": [
    "dftrain_raw = pd.read_csv('input/train.csv')\n",
    "dftest_raw = pd.read_csv('input/test.csv')\n",
    "dftrain_raw.head()"
   ]
  },
  {
   "cell_type": "markdown",
   "id": "43b436a8",
   "metadata": {},
   "source": [
    "- Survived: 0代表死亡, 1代表存活【y标签】\n",
    "- Pclass: 乘客所持票类，有三种值(1, 2, 3)【转换成onehot编码】\n",
    "- Name: 乘客姓名 【舍去】\n",
    "- Sex: 乘客性别 【转换成bool特征】\n",
    "- Age: 乘客年龄(有缺失)【数值特征, 添加\"年龄是否缺失\"作为辅助特征】\n",
    "- SibSp: 乘客兄弟姐妹/配偶的个数(整数值)【数值特征】\n",
    "- Parch: 乘客父母/孩子的个数(整数值)【数值特征】\n",
    "- Ticket: 票号(字符串)【舍去】\n",
    "- Fare: 乘客所持票的价格(浮点数, 0-500不等)【数值特征】\n",
    "- Cabin: 乘客所在船舱(有缺失) 【添加\"所在船舱是否缺失\"作为辅助特征】\n",
    "- Embarked: 乘客登船港口, S, C, Q(有缺失)【转换成onehot编码, 四维度 S, C, Q, nan"
   ]
  },
  {
   "cell_type": "markdown",
   "id": "9160fb6f",
   "metadata": {},
   "source": [
    "label分布情况"
   ]
  },
  {
   "cell_type": "code",
   "execution_count": 4,
   "id": "b24f8539",
   "metadata": {
    "ExecuteTime": {
     "end_time": "2021-06-15T08:41:43.616414Z",
     "start_time": "2021-06-15T08:41:43.446112Z"
    }
   },
   "outputs": [
    {
     "data": {
      "image/png": "[encoded data removed]",
      "text/plain": [
       "<Figure size 576x432 with 1 Axes>"
      ]
     },
     "metadata": {
      "needs_background": "light"
     },
     "output_type": "display_data"
    }
   ],
   "source": [
    "ax = dftrain_raw['Survived'].value_counts().plot(kind='bar', figsize=(8, 6), fontsize=15, rot=0)\n",
    "ax.set_ylabel('Counts', fontsize=15)\n",
    "ax.set_xlabel('Survived', fontsize=15)\n",
    "plt.show()"
   ]
  },
  {
   "cell_type": "markdown",
   "id": "041370cd",
   "metadata": {},
   "source": [
    "年龄分布情况"
   ]
  },
  {
   "cell_type": "code",
   "execution_count": 5,
   "id": "c43afe34",
   "metadata": {
    "ExecuteTime": {
     "end_time": "2021-06-15T08:41:43.805223Z",
     "start_time": "2021-06-15T08:41:43.618347Z"
    }
   },
   "outputs": [
    {
     "data": {
      "image/png": "[encoded data removed]",
      "text/plain": [
       "<Figure size 576x432 with 1 Axes>"
      ]
     },
     "metadata": {
      "needs_background": "light"
     },
     "output_type": "display_data"
    }
   ],
   "source": [
    "ax = dftrain_raw['Age'].plot(kind='hist', bins=20, color='purple', figsize=(8, 6), fontsize=15)\n",
    "ax.set_ylabel('Frequency', fontsize=15)\n",
    "ax.set_xlabel('Age', fontsize=15)\n",
    "plt.show()"
   ]
  },
  {
   "cell_type": "markdown",
   "id": "2a802ada",
   "metadata": {},
   "source": [
    "年龄与label的关系"
   ]
  },
  {
   "cell_type": "code",
   "execution_count": 6,
   "id": "5b86cb07",
   "metadata": {
    "ExecuteTime": {
     "end_time": "2021-06-15T08:41:44.008520Z",
     "start_time": "2021-06-15T08:41:43.808521Z"
    }
   },
   "outputs": [
    {
     "data": {
      "image/png": "[encoded data removed]",
      "text/plain": [
       "<Figure size 576x432 with 1 Axes>"
      ]
     },
     "metadata": {
      "needs_background": "light"
     },
     "output_type": "display_data"
    }
   ],
   "source": [
    "ax = dftrain_raw.query('Survived == 0')['Age'].plot(\n",
    "    kind='density',\n",
    "    figsize=(8, 6),\n",
    "    fontsize=15\n",
    ")\n",
    "dftrain_raw.query('Survived == 1')['Age'].plot(\n",
    "    kind='density',\n",
    "    figsize=(8, 6),\n",
    "    fontsize=15\n",
    ")\n",
    "ax.legend(['Survived==0', 'Survived==1'], fontsize=12)\n",
    "ax.set_ylabel('Density', fontsize = 15)\n",
    "ax.set_xlabel('Age', fontsize = 15)\n",
    "plt.show()"
   ]
  },
  {
   "cell_type": "code",
   "execution_count": 7,
   "id": "0653cdb7",
   "metadata": {
    "ExecuteTime": {
     "end_time": "2021-06-15T08:41:44.035605Z",
     "start_time": "2021-06-15T08:41:44.012690Z"
    }
   },
   "outputs": [
    {
     "name": "stdout",
     "output_type": "stream",
     "text": [
      "x_train.shape = (712, 15)\n",
      "x_valid.shape = (179, 15)\n",
      "x_test.shape  = (418, 15)\n",
      "y_train.shape = (712, 1)\n",
      "y_valid.shape = (179, 1)\n"
     ]
    }
   ],
   "source": [
    "def preprocessing(dfdata):\n",
    "\n",
    "    dfresult= pd.DataFrame()\n",
    "\n",
    "    # Pclass\n",
    "    dfPclass = pd.get_dummies(dfdata['Pclass'])\n",
    "    dfPclass.columns = ['Pclass_' + str(x) for x in dfPclass.columns ]\n",
    "    dfresult = pd.concat([dfresult, dfPclass], axis=1)\n",
    "\n",
    "    # Sex\n",
    "    dfSex = pd.get_dummies(dfdata['Sex'])\n",
    "    dfresult = pd.concat([dfresult, dfSex], axis=1)\n",
    "\n",
    "    # Age\n",
    "    dfresult['Age'] = dfdata['Age'].fillna(0)\n",
    "    dfresult['Age_null'] = pd.isna(dfdata['Age']).astype('int32')\n",
    "\n",
    "    # SibSp, Parch, Fare\n",
    "    dfresult['SibSp'] = dfdata['SibSp']\n",
    "    dfresult['Parch'] = dfdata['Parch']\n",
    "    dfresult['Fare'] = dfdata['Fare']\n",
    "\n",
    "    # Carbin\n",
    "    dfresult['Cabin_null'] =  pd.isna(dfdata['Cabin']).astype('int32')\n",
    "\n",
    "    # Embarked\n",
    "    dfEmbarked = pd.get_dummies(dfdata['Embarked'], dummy_na=True)\n",
    "    dfEmbarked.columns = ['Embarked_' + str(x) for x in dfEmbarked.columns]\n",
    "    dfresult = pd.concat([dfresult, dfEmbarked], axis=1)\n",
    "\n",
    "    return dfresult\n",
    "\n",
    "\n",
    "x_train = preprocessing(dftrain_raw).values\n",
    "y_train = dftrain_raw[['Survived']].values\n",
    "\n",
    "x_train, x_valid, y_train, y_valid = train_test_split(x_train, y_train, test_size=0.2, shuffle=True)\n",
    "\n",
    "x_test = preprocessing(dftest_raw).values\n",
    "# y_test = dftest_raw[['Survived']].values\n",
    "\n",
    "print(\"x_train.shape =\", x_train.shape)\n",
    "print(\"x_valid.shape =\", x_valid.shape)\n",
    "print(\"x_test.shape  =\", x_test.shape)\n",
    "\n",
    "print(\"y_train.shape =\", y_train.shape)\n",
    "print(\"y_valid.shape =\", y_valid.shape)"
   ]
  },
  {
   "cell_type": "code",
   "execution_count": 8,
   "id": "f943f0fb",
   "metadata": {
    "ExecuteTime": {
     "end_time": "2021-06-15T08:41:44.084189Z",
     "start_time": "2021-06-15T08:41:44.037977Z"
    }
   },
   "outputs": [
    {
     "name": "stdout",
     "output_type": "stream",
     "text": [
      "tensor([[ 0.0000,  1.0000,  0.0000,  0.0000,  1.0000, 33.0000,  0.0000,  0.0000,\n",
      "          0.0000, 12.2750,  1.0000,  0.0000,  0.0000,  1.0000,  0.0000],\n",
      "        [ 1.0000,  0.0000,  0.0000,  1.0000,  0.0000, 22.0000,  0.0000,  0.0000,\n",
      "          2.0000, 49.5000,  0.0000,  1.0000,  0.0000,  0.0000,  0.0000],\n",
      "        [ 0.0000,  0.0000,  1.0000,  0.0000,  1.0000, 21.0000,  0.0000,  0.0000,\n",
      "          0.0000,  8.4333,  1.0000,  0.0000,  0.0000,  1.0000,  0.0000],\n",
      "        [ 0.0000,  0.0000,  1.0000,  1.0000,  0.0000, 28.0000,  0.0000,  1.0000,\n",
      "          1.0000, 14.4000,  1.0000,  0.0000,  0.0000,  1.0000,  0.0000],\n",
      "        [ 0.0000,  1.0000,  0.0000,  0.0000,  1.0000, 29.0000,  0.0000,  1.0000,\n",
      "          0.0000, 27.7208,  1.0000,  1.0000,  0.0000,  0.0000,  0.0000],\n",
      "        [ 0.0000,  1.0000,  0.0000,  0.0000,  1.0000, 25.0000,  0.0000,  1.0000,\n",
      "          2.0000, 41.5792,  1.0000,  1.0000,  0.0000,  0.0000,  0.0000],\n",
      "        [ 1.0000,  0.0000,  0.0000,  0.0000,  1.0000, 51.0000,  0.0000,  0.0000,\n",
      "          0.0000, 26.5500,  0.0000,  0.0000,  0.0000,  1.0000,  0.0000],\n",
      "        [ 0.0000,  0.0000,  1.0000,  0.0000,  1.0000,  0.0000,  1.0000,  0.0000,\n",
      "          0.0000,  8.0500,  1.0000,  0.0000,  0.0000,  1.0000,  0.0000]]) tensor([[0.],\n",
      "        [1.],\n",
      "        [0.],\n",
      "        [0.],\n",
      "        [0.],\n",
      "        [0.],\n",
      "        [1.],\n",
      "        [0.]])\n"
     ]
    }
   ],
   "source": [
    "dl_train = DataLoader(TensorDataset(torch.tensor(x_train).float(), torch.tensor(y_train).float()),\n",
    "                      shuffle=True, batch_size=8)\n",
    "dl_valid = DataLoader(TensorDataset(torch.tensor(x_valid).float(), torch.tensor(y_valid).float()),\n",
    "                      shuffle=False, batch_size=8)\n",
    "\n",
    "for features, labels in dl_train:\n",
    "    print(features, labels)\n",
    "    break"
   ]
  },
  {
   "cell_type": "markdown",
   "id": "022bf41b",
   "metadata": {},
   "source": [
    "## 定义网络"
   ]
  },
  {
   "cell_type": "code",
   "execution_count": 9,
   "id": "6bfb0bcd",
   "metadata": {
    "ExecuteTime": {
     "end_time": "2021-06-15T08:41:44.093355Z",
     "start_time": "2021-06-15T08:41:44.086550Z"
    }
   },
   "outputs": [
    {
     "name": "stdout",
     "output_type": "stream",
     "text": [
      "Sequential(\n",
      "  (linear1): Linear(in_features=15, out_features=20, bias=True)\n",
      "  (relu1): ReLU()\n",
      "  (linear2): Linear(in_features=20, out_features=15, bias=True)\n",
      "  (relu2): ReLU()\n",
      "  (linear3): Linear(in_features=15, out_features=1, bias=True)\n",
      "  (sigmoid): Sigmoid()\n",
      ")\n"
     ]
    }
   ],
   "source": [
    "def create_net():\n",
    "    net = nn.Sequential()\n",
    "    net.add_module('linear1', nn.Linear(15, 20))\n",
    "    net.add_module('relu1', nn.ReLU())\n",
    "    net.add_module('linear2', nn.Linear(20, 15))\n",
    "    net.add_module('relu2', nn.ReLU())\n",
    "    net.add_module('linear3', nn.Linear(15, 1))\n",
    "    net.add_module('sigmoid', nn.Sigmoid())\n",
    "    return net\n",
    "\n",
    "net = create_net()\n",
    "print(net)"
   ]
  },
  {
   "cell_type": "code",
   "execution_count": 10,
   "id": "6ec269ce",
   "metadata": {
    "ExecuteTime": {
     "end_time": "2021-06-15T08:41:44.105986Z",
     "start_time": "2021-06-15T08:41:44.095855Z"
    }
   },
   "outputs": [
    {
     "name": "stdout",
     "output_type": "stream",
     "text": [
      "----------------------------------------------------------------\n",
      "        Layer (type)               Output Shape         Param #\n",
      "================================================================\n",
      "            Linear-1                   [-1, 20]             320\n",
      "              ReLU-2                   [-1, 20]               0\n",
      "            Linear-3                   [-1, 15]             315\n",
      "              ReLU-4                   [-1, 15]               0\n",
      "            Linear-5                    [-1, 1]              16\n",
      "           Sigmoid-6                    [-1, 1]               0\n",
      "================================================================\n",
      "Total params: 651\n",
      "Trainable params: 651\n",
      "Non-trainable params: 0\n",
      "----------------------------------------------------------------\n",
      "Input size (MB): 0.000057\n",
      "Forward/backward pass size (MB): 0.000549\n",
      "Params size (MB): 0.002483\n",
      "Estimated Total Size (MB): 0.003090\n",
      "----------------------------------------------------------------\n"
     ]
    }
   ],
   "source": [
    "summary(net, input_shape=(15,))"
   ]
  },
  {
   "cell_type": "markdown",
   "id": "1437a835",
   "metadata": {},
   "source": [
    "## 训练模型"
   ]
  },
  {
   "cell_type": "code",
   "execution_count": 11,
   "id": "a5b8b77c",
   "metadata": {
    "ExecuteTime": {
     "end_time": "2021-06-15T08:41:44.111698Z",
     "start_time": "2021-06-15T08:41:44.108483Z"
    }
   },
   "outputs": [],
   "source": [
    "loss_func = nn.BCELoss()\n",
    "optimizer = torch.optim.Adam(params=net.parameters(), lr=0.01)\n",
    "metric_func = lambda y_pred, y_true: accuracy_score(y_true.data.numpy(), y_pred.data.numpy() > 0.5)\n",
    "metric_name = 'accuracy'"
   ]
  },
  {
   "cell_type": "code",
   "execution_count": 12,
   "id": "fccfa9e0",
   "metadata": {
    "ExecuteTime": {
     "end_time": "2021-06-15T08:41:45.523456Z",
     "start_time": "2021-06-15T08:41:44.113171Z"
    },
    "scrolled": false
   },
   "outputs": [
    {
     "name": "stdout",
     "output_type": "stream",
     "text": [
      "Start Training...\n",
      "================================================================================2021-06-15 16:41:44\n",
      "[step = 30] loss: 0.627, accuracy: 0.688\n",
      "[step = 60] loss: 0.609, accuracy: 0.696\n",
      "\n",
      "EPOCH = 1, loss = 0.607,accuracy  = 0.688, val_loss = 0.574, val_accuracy = 0.726\n",
      "\n",
      "================================================================================2021-06-15 16:41:44\n",
      "[step = 30] loss: 0.570, accuracy: 0.713\n",
      "[step = 60] loss: 0.561, accuracy: 0.729\n",
      "\n",
      "EPOCH = 2, loss = 0.547,accuracy  = 0.742, val_loss = 0.514, val_accuracy = 0.790\n",
      "\n",
      "================================================================================2021-06-15 16:41:44\n",
      "[step = 30] loss: 0.501, accuracy: 0.762\n",
      "[step = 60] loss: 0.503, accuracy: 0.752\n",
      "\n",
      "EPOCH = 3, loss = 0.515,accuracy  = 0.756, val_loss = 0.507, val_accuracy = 0.768\n",
      "\n",
      "================================================================================2021-06-15 16:41:44\n",
      "[step = 30] loss: 0.452, accuracy: 0.804\n",
      "[step = 60] loss: 0.509, accuracy: 0.775\n",
      "\n",
      "EPOCH = 4, loss = 0.512,accuracy  = 0.784, val_loss = 0.483, val_accuracy = 0.768\n",
      "\n",
      "================================================================================2021-06-15 16:41:44\n",
      "[step = 30] loss: 0.453, accuracy: 0.800\n",
      "[step = 60] loss: 0.464, accuracy: 0.794\n",
      "\n",
      "EPOCH = 5, loss = 0.511,accuracy  = 0.781, val_loss = 0.503, val_accuracy = 0.748\n",
      "\n",
      "================================================================================2021-06-15 16:41:44\n",
      "[step = 30] loss: 0.488, accuracy: 0.804\n",
      "[step = 60] loss: 0.495, accuracy: 0.787\n",
      "\n",
      "EPOCH = 6, loss = 0.494,accuracy  = 0.778, val_loss = 0.463, val_accuracy = 0.806\n",
      "\n",
      "================================================================================2021-06-15 16:41:44\n",
      "[step = 30] loss: 0.478, accuracy: 0.800\n",
      "[step = 60] loss: 0.471, accuracy: 0.785\n",
      "\n",
      "EPOCH = 7, loss = 0.466,accuracy  = 0.792, val_loss = 0.548, val_accuracy = 0.757\n",
      "\n",
      "================================================================================2021-06-15 16:41:45\n",
      "[step = 30] loss: 0.529, accuracy: 0.750\n",
      "[step = 60] loss: 0.499, accuracy: 0.769\n",
      "\n",
      "EPOCH = 8, loss = 0.488,accuracy  = 0.771, val_loss = 0.460, val_accuracy = 0.795\n",
      "\n",
      "================================================================================2021-06-15 16:41:45\n",
      "[step = 30] loss: 0.448, accuracy: 0.792\n",
      "[step = 60] loss: 0.428, accuracy: 0.794\n",
      "\n",
      "EPOCH = 9, loss = 0.444,accuracy  = 0.792, val_loss = 0.461, val_accuracy = 0.764\n",
      "\n",
      "================================================================================2021-06-15 16:41:45\n",
      "[step = 30] loss: 0.421, accuracy: 0.787\n",
      "[step = 60] loss: 0.440, accuracy: 0.787\n",
      "\n",
      "EPOCH = 10, loss = 0.448,accuracy  = 0.794, val_loss = 0.513, val_accuracy = 0.770\n",
      "\n",
      "================================================================================2021-06-15 16:41:45\n",
      "Finished Training...\n"
     ]
    }
   ],
   "source": [
    "epochs = 10\n",
    "log_step_freq = 30\n",
    "\n",
    "dfhistory = pd.DataFrame(columns=[\"epoch\",\"loss\", metric_name, \"val_loss\", \"val_\" + metric_name]) \n",
    "print(\"Start Training...\")\n",
    "nowtime = datetime.datetime.now().strftime('%Y-%m-%d %H:%M:%S')\n",
    "print(\"==========\" * 8 + \"%s\"%nowtime)\n",
    "\n",
    "for epoch in range(1, epochs + 1):  \n",
    "\n",
    "    # 1，训练循环-------------------------------------------------\n",
    "    net.train()\n",
    "    loss_sum = 0.0\n",
    "    metric_sum = 0.0\n",
    "    step = 1\n",
    "\n",
    "    for step, (features,labels) in enumerate(dl_train, 1): # 从1开始\n",
    "\n",
    "        # 梯度清零\n",
    "        optimizer.zero_grad()\n",
    "\n",
    "        # 正向传播求损失\n",
    "        predictions = net(features)\n",
    "        loss = loss_func(predictions,labels)\n",
    "        metric = metric_func(predictions,labels)\n",
    "\n",
    "        # 反向传播求梯度\n",
    "        loss.backward()\n",
    "        optimizer.step()\n",
    "\n",
    "        # 打印batch级别日志\n",
    "        loss_sum += loss.item()\n",
    "        metric_sum += metric.item()\n",
    "        if step % log_step_freq == 0:\n",
    "            print((\"[step = %d] loss: %.3f, \" + metric_name + \": %.3f\") %\n",
    "                  (step, loss_sum / step, metric_sum / step))\n",
    "\n",
    "    # 2，验证循环-------------------------------------------------\n",
    "    net.eval()\n",
    "    val_loss_sum = 0.0\n",
    "    val_metric_sum = 0.0\n",
    "    val_step = 1\n",
    "\n",
    "    for val_step, (features,labels) in enumerate(dl_valid, 1):\n",
    "\n",
    "        predictions = net(features)\n",
    "        val_loss = loss_func(predictions, labels)\n",
    "        val_metric = metric_func(predictions, labels)\n",
    "\n",
    "        val_loss_sum += val_loss.item()\n",
    "        val_metric_sum += val_metric.item()\n",
    "\n",
    "    # 3，记录日志-------------------------------------------------\n",
    "    info = (epoch, loss_sum / step, metric_sum / step, \n",
    "            val_loss_sum / val_step, val_metric_sum / val_step)\n",
    "    dfhistory.loc[epoch - 1] = info\n",
    "\n",
    "    # 打印epoch级别日志\n",
    "    print((\"\\nEPOCH = %d, loss = %.3f,\" + metric_name + \\\n",
    "          \"  = %.3f, val_loss = %.3f, \" + \"val_\" + metric_name + \" = %.3f\") \n",
    "          %info)\n",
    "    nowtime = datetime.datetime.now().strftime('%Y-%m-%d %H:%M:%S')\n",
    "    print(\"\\n\"+\"==========\" * 8 + \"%s\" %nowtime)\n",
    "\n",
    "print('Finished Training...')"
   ]
  },
  {
   "cell_type": "markdown",
   "id": "c5d31cbd",
   "metadata": {},
   "source": [
    "## 评估模型"
   ]
  },
  {
   "cell_type": "code",
   "execution_count": 13,
   "id": "2c1cadfa",
   "metadata": {
    "ExecuteTime": {
     "end_time": "2021-06-15T08:41:45.537566Z",
     "start_time": "2021-06-15T08:41:45.526041Z"
    }
   },
   "outputs": [
    {
     "data": {
      "text/html": [
       "<div>\n",
       "<style scoped>\n",
       "    .dataframe tbody tr th:only-of-type {\n",
       "        vertical-align: middle;\n",
       "    }\n",
       "\n",
       "    .dataframe tbody tr th {\n",
       "        vertical-align: top;\n",
       "    }\n",
       "\n",
       "    .dataframe thead th {\n",
       "        text-align: right;\n",
       "    }\n",
       "</style>\n",
       "<table border=\"1\" class=\"dataframe\">\n",
       "  <thead>\n",
       "    <tr style=\"text-align: right;\">\n",
       "      <th></th>\n",
       "      <th>epoch</th>\n",
       "      <th>loss</th>\n",
       "      <th>accuracy</th>\n",
       "      <th>val_loss</th>\n",
       "      <th>val_accuracy</th>\n",
       "    </tr>\n",
       "  </thead>\n",
       "  <tbody>\n",
       "    <tr>\n",
       "      <th>0</th>\n",
       "      <td>1.0</td>\n",
       "      <td>0.607475</td>\n",
       "      <td>0.688202</td>\n",
       "      <td>0.573617</td>\n",
       "      <td>0.726449</td>\n",
       "    </tr>\n",
       "    <tr>\n",
       "      <th>1</th>\n",
       "      <td>2.0</td>\n",
       "      <td>0.547142</td>\n",
       "      <td>0.741573</td>\n",
       "      <td>0.514120</td>\n",
       "      <td>0.789855</td>\n",
       "    </tr>\n",
       "    <tr>\n",
       "      <th>2</th>\n",
       "      <td>3.0</td>\n",
       "      <td>0.515287</td>\n",
       "      <td>0.755618</td>\n",
       "      <td>0.507087</td>\n",
       "      <td>0.768116</td>\n",
       "    </tr>\n",
       "    <tr>\n",
       "      <th>3</th>\n",
       "      <td>4.0</td>\n",
       "      <td>0.511565</td>\n",
       "      <td>0.783708</td>\n",
       "      <td>0.482652</td>\n",
       "      <td>0.768116</td>\n",
       "    </tr>\n",
       "    <tr>\n",
       "      <th>4</th>\n",
       "      <td>5.0</td>\n",
       "      <td>0.511027</td>\n",
       "      <td>0.780899</td>\n",
       "      <td>0.502524</td>\n",
       "      <td>0.748188</td>\n",
       "    </tr>\n",
       "    <tr>\n",
       "      <th>5</th>\n",
       "      <td>6.0</td>\n",
       "      <td>0.493943</td>\n",
       "      <td>0.778090</td>\n",
       "      <td>0.463347</td>\n",
       "      <td>0.806159</td>\n",
       "    </tr>\n",
       "    <tr>\n",
       "      <th>6</th>\n",
       "      <td>7.0</td>\n",
       "      <td>0.465890</td>\n",
       "      <td>0.792135</td>\n",
       "      <td>0.548041</td>\n",
       "      <td>0.757246</td>\n",
       "    </tr>\n",
       "    <tr>\n",
       "      <th>7</th>\n",
       "      <td>8.0</td>\n",
       "      <td>0.488108</td>\n",
       "      <td>0.771067</td>\n",
       "      <td>0.459616</td>\n",
       "      <td>0.795290</td>\n",
       "    </tr>\n",
       "    <tr>\n",
       "      <th>8</th>\n",
       "      <td>9.0</td>\n",
       "      <td>0.444447</td>\n",
       "      <td>0.792135</td>\n",
       "      <td>0.461451</td>\n",
       "      <td>0.764493</td>\n",
       "    </tr>\n",
       "    <tr>\n",
       "      <th>9</th>\n",
       "      <td>10.0</td>\n",
       "      <td>0.447632</td>\n",
       "      <td>0.793539</td>\n",
       "      <td>0.512723</td>\n",
       "      <td>0.769928</td>\n",
       "    </tr>\n",
       "  </tbody>\n",
       "</table>\n",
       "</div>"
      ],
      "text/plain": [
       "   epoch      loss  accuracy  val_loss  val_accuracy\n",
       "0    1.0  0.607475  0.688202  0.573617      0.726449\n",
       "1    2.0  0.547142  0.741573  0.514120      0.789855\n",
       "2    3.0  0.515287  0.755618  0.507087      0.768116\n",
       "3    4.0  0.511565  0.783708  0.482652      0.768116\n",
       "4    5.0  0.511027  0.780899  0.502524      0.748188\n",
       "5    6.0  0.493943  0.778090  0.463347      0.806159\n",
       "6    7.0  0.465890  0.792135  0.548041      0.757246\n",
       "7    8.0  0.488108  0.771067  0.459616      0.795290\n",
       "8    9.0  0.444447  0.792135  0.461451      0.764493\n",
       "9   10.0  0.447632  0.793539  0.512723      0.769928"
      ]
     },
     "execution_count": 13,
     "metadata": {},
     "output_type": "execute_result"
    }
   ],
   "source": [
    "dfhistory"
   ]
  },
  {
   "cell_type": "code",
   "execution_count": 14,
   "id": "870a8cd1",
   "metadata": {
    "ExecuteTime": {
     "end_time": "2021-06-15T08:41:45.543106Z",
     "start_time": "2021-06-15T08:41:45.538891Z"
    }
   },
   "outputs": [],
   "source": [
    "def plot_metric(dfhistory, metric):\n",
    "    train_metrics = dfhistory[metric]\n",
    "    val_metrics = dfhistory['val_' + metric]\n",
    "    epochs = range(1, len(train_metrics) + 1)\n",
    "    plt.plot(epochs, train_metrics, 'bo--')\n",
    "    plt.plot(epochs, val_metrics, 'ro-')\n",
    "    plt.title('Training and validation '+ metric)\n",
    "    plt.xlabel(\"Epochs\")\n",
    "    plt.ylabel(metric)\n",
    "    plt.legend([\"train_\" + metric, 'val_' + metric])\n",
    "    plt.show()"
   ]
  },
  {
   "cell_type": "code",
   "execution_count": 15,
   "id": "2669a0b9",
   "metadata": {
    "ExecuteTime": {
     "end_time": "2021-06-15T08:41:45.728080Z",
     "start_time": "2021-06-15T08:41:45.545604Z"
    }
   },
   "outputs": [
    {
     "data": {
      "image/png": "[encoded data removed]",
      "text/plain": [
       "<Figure size 432x288 with 1 Axes>"
      ]
     },
     "metadata": {
      "needs_background": "light"
     },
     "output_type": "display_data"
    }
   ],
   "source": [
    "plot_metric(dfhistory, 'loss')"
   ]
  },
  {
   "cell_type": "code",
   "execution_count": 16,
   "id": "6d113359",
   "metadata": {
    "ExecuteTime": {
     "end_time": "2021-06-15T08:41:45.899501Z",
     "start_time": "2021-06-15T08:41:45.730254Z"
    }
   },
   "outputs": [
    {
     "data": {
      "image/png": "[encoded data removed]",
      "text/plain": [
       "<Figure size 432x288 with 1 Axes>"
      ]
     },
     "metadata": {
      "needs_background": "light"
     },
     "output_type": "display_data"
    }
   ],
   "source": [
    "plot_metric(dfhistory, 'accuracy')"
   ]
  },
  {
   "cell_type": "markdown",
   "id": "08634194",
   "metadata": {},
   "source": [
    "## 使用模型"
   ]
  },
  {
   "cell_type": "code",
   "execution_count": 17,
   "id": "a5720f39",
   "metadata": {
    "ExecuteTime": {
     "end_time": "2021-06-15T08:41:45.906983Z",
     "start_time": "2021-06-15T08:41:45.901145Z"
    }
   },
   "outputs": [
    {
     "data": {
      "text/plain": [
       "tensor([[0.1601],\n",
       "        [0.4424],\n",
       "        [0.1392],\n",
       "        [0.2063],\n",
       "        [0.7126],\n",
       "        [0.2863],\n",
       "        [0.8085],\n",
       "        [0.3779],\n",
       "        [0.9006],\n",
       "        [0.2844]])"
      ]
     },
     "execution_count": 17,
     "metadata": {},
     "output_type": "execute_result"
    }
   ],
   "source": [
    "# 预测概率\n",
    "y_pred_probs = net(torch.tensor(x_test[0: 10]).float()).data\n",
    "y_pred_probs"
   ]
  },
  {
   "cell_type": "code",
   "execution_count": 18,
   "id": "480d2014",
   "metadata": {
    "ExecuteTime": {
     "end_time": "2021-06-15T08:41:45.916298Z",
     "start_time": "2021-06-15T08:41:45.909162Z"
    }
   },
   "outputs": [
    {
     "data": {
      "text/plain": [
       "tensor([[0.],\n",
       "        [0.],\n",
       "        [0.],\n",
       "        [0.],\n",
       "        [1.],\n",
       "        [0.],\n",
       "        [1.],\n",
       "        [0.],\n",
       "        [1.],\n",
       "        [0.]])"
      ]
     },
     "execution_count": 18,
     "metadata": {},
     "output_type": "execute_result"
    }
   ],
   "source": [
    "# 预测类别\n",
    "y_pred = torch.where(y_pred_probs > 0.5, torch.ones_like(y_pred_probs), torch.zeros_like(y_pred_probs))\n",
    "y_pred"
   ]
  },
  {
   "cell_type": "code",
   "execution_count": 19,
   "id": "ccffd45e",
   "metadata": {
    "ExecuteTime": {
     "end_time": "2021-06-15T08:41:45.925985Z",
     "start_time": "2021-06-15T08:41:45.920582Z"
    }
   },
   "outputs": [
    {
     "data": {
      "text/plain": [
       "tensor([[0],\n",
       "        [0],\n",
       "        [0],\n",
       "        [0],\n",
       "        [1],\n",
       "        [0],\n",
       "        [1],\n",
       "        [0],\n",
       "        [1],\n",
       "        [0]])"
      ]
     },
     "execution_count": 19,
     "metadata": {},
     "output_type": "execute_result"
    }
   ],
   "source": [
    "y_pred = torch.where(y_pred_probs > 0.5, 1, 0)\n",
    "y_pred"
   ]
  },
  {
   "cell_type": "markdown",
   "id": "0989a111",
   "metadata": {},
   "source": [
    "## 保存模型"
   ]
  },
  {
   "cell_type": "markdown",
   "id": "2461fede",
   "metadata": {},
   "source": [
    "### 保存模型参数"
   ]
  },
  {
   "cell_type": "code",
   "execution_count": 20,
   "id": "6fe60913",
   "metadata": {
    "ExecuteTime": {
     "end_time": "2021-06-15T08:41:45.931830Z",
     "start_time": "2021-06-15T08:41:45.928860Z"
    }
   },
   "outputs": [
    {
     "name": "stdout",
     "output_type": "stream",
     "text": [
      "odict_keys(['linear1.weight', 'linear1.bias', 'linear2.weight', 'linear2.bias', 'linear3.weight', 'linear3.bias'])\n"
     ]
    }
   ],
   "source": [
    "print(net.state_dict().keys())"
   ]
  },
  {
   "cell_type": "code",
   "execution_count": 21,
   "id": "b7cc1a8b",
   "metadata": {
    "ExecuteTime": {
     "end_time": "2021-06-15T08:41:45.943809Z",
     "start_time": "2021-06-15T08:41:45.933591Z"
    }
   },
   "outputs": [
    {
     "data": {
      "text/plain": [
       "tensor([[0.1601],\n",
       "        [0.4424],\n",
       "        [0.1392],\n",
       "        [0.2063],\n",
       "        [0.7126],\n",
       "        [0.2863],\n",
       "        [0.8085],\n",
       "        [0.3779],\n",
       "        [0.9006],\n",
       "        [0.2844]])"
      ]
     },
     "execution_count": 21,
     "metadata": {},
     "output_type": "execute_result"
    }
   ],
   "source": [
    "# 保存模型参数\n",
    "\n",
    "torch.save(net.state_dict(), \"model/net_parameter.pkl\")\n",
    "\n",
    "net_clone = create_net()\n",
    "net_clone.load_state_dict(torch.load(\"model/net_parameter.pkl\"))\n",
    "\n",
    "net_clone(torch.tensor(x_test[0: 10]).float()).detach()"
   ]
  },
  {
   "cell_type": "markdown",
   "id": "d9876f35",
   "metadata": {},
   "source": [
    "### 保存完整模型(不推荐)"
   ]
  },
  {
   "cell_type": "code",
   "execution_count": 22,
   "id": "6b92f281",
   "metadata": {
    "ExecuteTime": {
     "end_time": "2021-06-15T08:41:45.955294Z",
     "start_time": "2021-06-15T08:41:45.946304Z"
    }
   },
   "outputs": [
    {
     "data": {
      "text/plain": [
       "tensor([[0.1601],\n",
       "        [0.4424],\n",
       "        [0.1392],\n",
       "        [0.2063],\n",
       "        [0.7126],\n",
       "        [0.2863],\n",
       "        [0.8085],\n",
       "        [0.3779],\n",
       "        [0.9006],\n",
       "        [0.2844]])"
      ]
     },
     "execution_count": 22,
     "metadata": {},
     "output_type": "execute_result"
    }
   ],
   "source": [
    "torch.save(net, 'model/net_model.pkl')\n",
    "net_loaded = torch.load('model/net_model.pkl')\n",
    "net_loaded(torch.tensor(x_test[0: 10]).float()).detach()"
   ]
  }
 ],
 "metadata": {
  "kernelspec": {
   "display_name": "Python 3",
   "language": "python",
   "name": "python3"
  },
  "language_info": {
   "codemirror_mode": {
    "name": "ipython",
    "version": 3
   },
   "file_extension": ".py",
   "mimetype": "text/x-python",
   "name": "python",
   "nbconvert_exporter": "python",
   "pygments_lexer": "ipython3",
   "version": "3.8.8"
  },
  "toc": {
   "base_numbering": 1,
   "nav_menu": {},
   "number_sections": true,
   "sideBar": true,
   "skip_h1_title": false,
   "title_cell": "Table of Contents",
   "title_sidebar": "Contents",
   "toc_cell": false,
   "toc_position": {},
   "toc_section_display": true,
   "toc_window_display": true
  }
 },
 "nbformat": 4,
 "nbformat_minor": 5
}
