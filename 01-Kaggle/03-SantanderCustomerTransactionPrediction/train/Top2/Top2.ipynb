{
 "cells": [
  {
   "cell_type": "code",
   "execution_count": 1,
   "metadata": {
    "ExecuteTime": {
     "end_time": "2020-11-09T12:44:20.349713Z",
     "start_time": "2020-11-09T12:44:18.455814Z"
    }
   },
   "outputs": [],
   "source": [
    "import numpy as np\n",
    "import pandas as pd\n",
    "import gc, os\n",
    "\n",
    "import lightgbm as lgb\n",
    "from sklearn.metrics import roc_auc_score\n",
    "from sklearn.model_selection import StratifiedKFold\n",
    "from sklearn.preprocessing import StandardScaler\n",
    "\n",
    "from multiprocessing import cpu_count\n",
    "from tqdm import tqdm"
   ]
  },
  {
   "cell_type": "code",
   "execution_count": null,
   "metadata": {},
   "outputs": [],
   "source": [
    "te_ = pd.read_csv('../../input/test.csv.zip').drop(['ID_code'], axis=1).values"
   ]
  },
  {
   "cell_type": "code",
   "execution_count": null,
   "metadata": {},
   "outputs": [],
   "source": [
    "unique_samples = []\n",
    "unique_count = np.zeros_like(te_)\n",
    "for feature in tqdm(range(te_.shape[1])):\n",
    "    _, index_, count_ = np.unique(te_[:, feature], return_counts=True, return_index=True)\n",
    "    unique_count[index_[count_ == 1], feature] += 1"
   ]
  },
  {
   "cell_type": "code",
   "execution_count": null,
   "metadata": {},
   "outputs": [],
   "source": [
    "# Samples which have unique values are real the others are fake\n",
    "real_samples_indexes = np.argwhere(np.sum(unique_count, axis=1) > 0)[:, 0]\n",
    "synthetic_samples_indexes = np.argwhere(np.sum(unique_count, axis=1) == 0)[:, 0]"
   ]
  },
  {
   "cell_type": "code",
   "execution_count": null,
   "metadata": {},
   "outputs": [],
   "source": [
    "params = {\n",
    "    'bagging_freq': 5,\n",
    "    'bagging_fraction': 1.0,\n",
    "    'boost_from_average':'false',\n",
    "    'boost': 'gbdt',\n",
    "    'feature_fraction': 1.0,\n",
    "    'learning_rate': 0.005,\n",
    "    'max_depth': -1,\n",
    "    'metric':'binary_logloss',\n",
    "    'min_data_in_leaf': 30,\n",
    "    'min_sum_hessian_in_leaf': 10.0,\n",
    "    'num_leaves': 64,\n",
    "    'num_threads': cpu_count(),\n",
    "    'tree_learner': 'serial',\n",
    "    'objective': 'binary',\n",
    "    'verbosity': -1\n",
    "}"
   ]
  },
  {
   "cell_type": "code",
   "execution_count": null,
   "metadata": {},
   "outputs": [],
   "source": [
    "NFOLD = 10\n",
    "NROUND = 1600\n",
    "SEED = np.random.randint(99999)\n",
    "np.random.seed(SEED)"
   ]
  },
  {
   "cell_type": "code",
   "execution_count": null,
   "metadata": {},
   "outputs": [],
   "source": [
    "SUBMIT_FILE_PATH = f'../output/2nd-place-solution.csv.gz'"
   ]
  },
  {
   "cell_type": "code",
   "execution_count": null,
   "metadata": {},
   "outputs": [],
   "source": [
    "drop_vars = [7,\n",
    "            10,\n",
    "            17,\n",
    "            27,\n",
    "            29,\n",
    "            30,\n",
    "            38,\n",
    "            41,\n",
    "            46,\n",
    "            96,\n",
    "            100,\n",
    "            103,\n",
    "            126,\n",
    "            158,\n",
    "            185]\n",
    "\n",
    "var_len = 200 - len(drop_vars)"
   ]
  },
  {
   "cell_type": "code",
   "execution_count": null,
   "metadata": {},
   "outputs": [],
   "source": [
    "train = pd.read_csv(\"../input/train.csv.zip\")\n",
    "test  = pd.read_csv(\"../input/test.csv.zip\").drop(synthetic_samples_indexes)"
   ]
  },
  {
   "cell_type": "code",
   "execution_count": null,
   "metadata": {},
   "outputs": [],
   "source": [
    "X_train = train.iloc[:, 2:].values\n",
    "y_train = train.target.values"
   ]
  },
  {
   "cell_type": "code",
   "execution_count": null,
   "metadata": {},
   "outputs": [],
   "source": [
    "X_test = test.iloc[:, 1:].values"
   ]
  },
  {
   "cell_type": "code",
   "execution_count": null,
   "metadata": {},
   "outputs": [],
   "source": [
    "X = np.concatenate([X_train, X_test], axis=0)\n",
    "del X_train, X_test; gc.collect()"
   ]
  },
  {
   "cell_type": "code",
   "execution_count": null,
   "metadata": {},
   "outputs": [],
   "source": [
    "reverse_list = [0, 1, 2, 3, 4, 5, 6, 7, 8, 11, 15, 16, 18, 19, 22, 24, 25, 26,\n",
    "                27, 29, 32, 35, 37, 40, 41, 47, 48, 49, 51, 52, 53, 55, 60, 61,\n",
    "                62, 65, 66, 67, 69, 70, 71, 74, 78, 79, 82, 84, 89, 90, 91, 94,\n",
    "                95, 96, 97, 99, 103, 105, 106, 110, 111, 112, 118, 119, 125, 128,\n",
    "                130, 133, 134, 135, 137, 138, 140, 144, 145, 147, 151, 155, 157,\n",
    "                159, 161, 162, 163, 164, 167, 168, 170, 171, 173, 175, 176, 179,\n",
    "                180, 181, 184, 185, 187, 189, 190, 191, 195, 196, 199,\n",
    "                \n",
    "                ]"
   ]
  },
  {
   "cell_type": "code",
   "execution_count": null,
   "metadata": {},
   "outputs": [],
   "source": [
    "for j in reverse_list:\n",
    "    X[:, j] *= -1"
   ]
  },
  {
   "cell_type": "code",
   "execution_count": null,
   "metadata": {},
   "outputs": [],
   "source": [
    "# drop\n",
    "X = np.delete(X, drop_vars, 1)"
   ]
  },
  {
   "cell_type": "code",
   "execution_count": null,
   "metadata": {},
   "outputs": [],
   "source": [
    "# scaling\n",
    "scaler = StandardScaler()\n",
    "X = scaler.fit_transform(X)"
   ]
  },
  {
   "cell_type": "code",
   "execution_count": null,
   "metadata": {},
   "outputs": [],
   "source": [
    "# count encoding\n",
    "X_cnt = np.zeros((len(X), var_len * 4))"
   ]
  },
  {
   "cell_type": "code",
   "execution_count": null,
   "metadata": {},
   "outputs": [],
   "source": [
    "for j in tqdm(range(var_len)):\n",
    "    for i in range(1, 4):\n",
    "        x = np.round(X[:, j], i+1)\n",
    "        dic = pd.value_counts(x).to_dict()\n",
    "        X_cnt[:, i+j*4] = pd.Series(x).map(dic)\n",
    "    x = X[:, j]\n",
    "    dic = pd.value_counts(x).to_dict()\n",
    "    X_cnt[:, j*4] = pd.Series(x).map(dic)"
   ]
  },
  {
   "cell_type": "code",
   "execution_count": null,
   "metadata": {},
   "outputs": [],
   "source": [
    "# raw + count feature\n",
    "X_raw = X.copy() # rename for readable\n",
    "del X; gc.collect()"
   ]
  },
  {
   "cell_type": "code",
   "execution_count": null,
   "metadata": {},
   "outputs": [],
   "source": [
    "X = np.zeros((len(X_raw), var_len * 5))\n",
    "for j in tqdm(range(var_len)):\n",
    "    X[:, 5*j+1:5*j+5] = X_cnt[:, 4*j:4*j+4]\n",
    "    X[:, 5*j] = X_raw[:, j]"
   ]
  },
  {
   "cell_type": "code",
   "execution_count": null,
   "metadata": {},
   "outputs": [],
   "source": [
    "# treat each var as same\n",
    "X_train_concat = np.concatenate([\n",
    "    np.concatenate([\n",
    "        X[:200000, 5*cnum:5*cnum+5], \n",
    "        np.ones((len(y_train), 1)).astype(\"int\")*cnum\n",
    "    ], axis=1) for cnum in range(var_len)], axis=0)\n",
    "y_train_concat = np.concatenate([y_train for cnum in range(var_len)], axis=0)"
   ]
  },
  {
   "cell_type": "code",
   "execution_count": null,
   "metadata": {},
   "outputs": [],
   "source": [
    "train_group = np.arange(len(X_train_concat))%200000\n",
    "\n",
    "id_y = pd.DataFrame(zip(train_group, y_train_concat), \n",
    "                    columns=['id', 'y'])\n",
    "\n",
    "id_y_uq = id_y.drop_duplicates('id').reset_index(drop=True)"
   ]
  },
  {
   "cell_type": "code",
   "execution_count": null,
   "metadata": {},
   "outputs": [],
   "source": [
    "def stratified(nfold=5):\n",
    "    \n",
    "    id_y_uq0 = id_y_uq[id_y_uq.y==0].sample(frac=1)\n",
    "    id_y_uq1 = id_y_uq[id_y_uq.y==1].sample(frac=1)\n",
    "    \n",
    "    id_y_uq0['g'] = [i%nfold for i in range(len(id_y_uq0))]\n",
    "    id_y_uq1['g'] = [i%nfold for i in range(len(id_y_uq1))]\n",
    "    id_y_uq_ = pd.concat([id_y_uq0, id_y_uq1])\n",
    "    \n",
    "    id_y_ = pd.merge(id_y[['id']], id_y_uq_, how='left', on='id')\n",
    "    \n",
    "    train_idx_list = []\n",
    "    valid_idx_list = []\n",
    "    for i in range(nfold):\n",
    "        train_idx = id_y_[id_y_.g!=i].index\n",
    "        train_idx_list.append(train_idx)\n",
    "        valid_idx = id_y_[id_y_.g==i].index\n",
    "        valid_idx_list.append(valid_idx)\n",
    "    \n",
    "    return train_idx_list, valid_idx_list\n",
    "\n",
    "train_idx_list, valid_idx_list = stratified(NFOLD)\n",
    "\n",
    "\n",
    "# =============================================================================\n",
    "# train\n",
    "# =============================================================================\n",
    "\n",
    "models = []\n",
    "oof = np.zeros(len(id_y))\n",
    "p_test_all = np.zeros((100000, var_len, NFOLD))\n",
    "id_y['var'] = np.concatenate([np.ones(200000)*i for i in range(var_len)])\n",
    "\n",
    "for i in range(NFOLD):\n",
    "    \n",
    "    print(f'building {i}...')\n",
    "    \n",
    "    train_idx = train_idx_list[i]\n",
    "    valid_idx = valid_idx_list[i]\n",
    "    \n",
    "    # train\n",
    "    X_train_cv = X_train_concat[train_idx]\n",
    "    y_train_cv = y_train_concat[train_idx]\n",
    "    \n",
    "    # valid\n",
    "    X_valid = X_train_concat[valid_idx]\n",
    "    \n",
    "    # test\n",
    "    X_test = np.concatenate([\n",
    "        np.concatenate([\n",
    "            X[200000:, 5*cnum:5*cnum+5], \n",
    "            np.ones((100000, 1)).astype(\"int\")*cnum\n",
    "        ], axis=1) for cnum in range(var_len)], axis=0\n",
    "    )\n",
    "    \n",
    "    dtrain = lgb.Dataset(\n",
    "        X_train_cv, y_train_cv, \n",
    "        feature_name=['value', 'count_org', 'count_2', 'count_3', 'count_4', 'varnum'], \n",
    "        categorical_feature=['varnum'], free_raw_data=False\n",
    "    )\n",
    "    model = lgb.train(params, train_set=dtrain, num_boost_round=NROUND, verbose_eval=100)\n",
    "    l = valid_idx.shape[0]\n",
    "    \n",
    "    p_valid = model.predict(X_valid)\n",
    "    p_test  = model.predict(X_test)\n",
    "    for j in range(var_len):\n",
    "        oof[valid_idx] = p_valid\n",
    "        p_test_all[:, j, i] = p_test[j*100000:(j+1)*100000]\n",
    "    \n",
    "    models.append(model)"
   ]
  },
  {
   "cell_type": "code",
   "execution_count": null,
   "metadata": {},
   "outputs": [],
   "source": [
    "id_y['pred'] = oof\n",
    "oof = pd.pivot_table(id_y, index='id', columns='var', values='pred').values\n",
    "\n",
    "p_test_mean = p_test_all.mean(axis=2)\n",
    "\n",
    "p_test_odds = np.ones(100000) * 1 / 9\n",
    "for j in range(var_len):\n",
    "    if roc_auc_score(y_train, oof[:, j]) >= 0.500:\n",
    "        p_test_odds *= (9 * p_test_mean[:, j] / (1 - p_test_mean[:, j]))\n",
    "\n",
    "p_test_odds = p_test_odds / (1 + p_test_odds)\n",
    "\n",
    "sub1 = pd.read_csv(\"../input/sample_submission.csv.zip\")\n",
    "sub2 = pd.DataFrame({\"ID_code\":test.ID_code.values , \"target\":p_test_odds})\n",
    "sub = pd.merge(sub1[[\"ID_code\"]], sub2, how=\"left\").fillna(0)\n",
    "\n",
    "\n",
    "# save\n",
    "sub.to_csv(SUBMIT_FILE_PATH, index=False, compression='gzip')\n"
   ]
  }
 ],
 "metadata": {
  "kernelspec": {
   "display_name": "Python 3",
   "language": "python",
   "name": "python3"
  },
  "language_info": {
   "codemirror_mode": {
    "name": "ipython",
    "version": 3
   },
   "file_extension": ".py",
   "mimetype": "text/x-python",
   "name": "python",
   "nbconvert_exporter": "python",
   "pygments_lexer": "ipython3",
   "version": "3.7.3"
  },
  "toc": {
   "base_numbering": 1,
   "nav_menu": {},
   "number_sections": true,
   "sideBar": true,
   "skip_h1_title": false,
   "title_cell": "Table of Contents",
   "title_sidebar": "Contents",
   "toc_cell": false,
   "toc_position": {},
   "toc_section_display": true,
   "toc_window_display": false
  }
 },
 "nbformat": 4,
 "nbformat_minor": 4
}
