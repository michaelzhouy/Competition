{
 "cells": [
  {
   "cell_type": "markdown",
   "metadata": {},
   "source": [
    "## 工具包和数据导入"
   ]
  },
  {
   "cell_type": "markdown",
   "metadata": {},
   "source": [
    "### 工具包导入"
   ]
  },
  {
   "cell_type": "code",
   "execution_count": 1,
   "metadata": {
    "ExecuteTime": {
     "end_time": "2020-06-11T07:50:59.879529Z",
     "start_time": "2020-06-11T07:50:58.796743Z"
    }
   },
   "outputs": [],
   "source": [
    "import numpy as np\n",
    "import pandas as pd\n",
    "import matplotlib.pyplot as plt\n",
    "import seaborn as sns\n",
    "from sklearn.model_selection import train_test_split\n",
    "from sklearn.metrics import accuracy_score, roc_auc_score\n",
    "from sklearn.preprocessing import LabelEncoder\n",
    "import lightgbm as lgb\n",
    "import time\n",
    "import gc\n",
    "import warnings\n",
    "\n",
    "%matplotlib inline\n",
    "warnings.filterwarnings('ignore')\n",
    "pd.set_option('max_columns', None)\n",
    "pd.set_option('max_rows', None)"
   ]
  },
  {
   "cell_type": "markdown",
   "metadata": {},
   "source": [
    "### 数据导入"
   ]
  },
  {
   "cell_type": "code",
   "execution_count": 2,
   "metadata": {
    "ExecuteTime": {
     "end_time": "2020-06-11T07:51:00.440564Z",
     "start_time": "2020-06-11T07:50:59.881109Z"
    }
   },
   "outputs": [
    {
     "data": {
      "text/html": [
       "<div>\n",
       "<style scoped>\n",
       "    .dataframe tbody tr th:only-of-type {\n",
       "        vertical-align: middle;\n",
       "    }\n",
       "\n",
       "    .dataframe tbody tr th {\n",
       "        vertical-align: top;\n",
       "    }\n",
       "\n",
       "    .dataframe thead th {\n",
       "        text-align: right;\n",
       "    }\n",
       "</style>\n",
       "<table border=\"1\" class=\"dataframe\">\n",
       "  <thead>\n",
       "    <tr style=\"text-align: right;\">\n",
       "      <th></th>\n",
       "      <th>android_id</th>\n",
       "      <th>apptype</th>\n",
       "      <th>carrier</th>\n",
       "      <th>dev_height</th>\n",
       "      <th>dev_ppi</th>\n",
       "      <th>dev_width</th>\n",
       "      <th>label</th>\n",
       "      <th>lan</th>\n",
       "      <th>media_id</th>\n",
       "      <th>ntt</th>\n",
       "      <th>osv</th>\n",
       "      <th>package</th>\n",
       "      <th>sid</th>\n",
       "      <th>timestamp</th>\n",
       "      <th>version</th>\n",
       "      <th>fea_hash</th>\n",
       "      <th>location</th>\n",
       "      <th>fea1_hash</th>\n",
       "      <th>cus_type</th>\n",
       "    </tr>\n",
       "  </thead>\n",
       "  <tbody>\n",
       "    <tr>\n",
       "      <th>0</th>\n",
       "      <td>316361</td>\n",
       "      <td>1199</td>\n",
       "      <td>1.0</td>\n",
       "      <td>NaN</td>\n",
       "      <td>NaN</td>\n",
       "      <td>NaN</td>\n",
       "      <td>1</td>\n",
       "      <td>NaN</td>\n",
       "      <td>104</td>\n",
       "      <td>6.0</td>\n",
       "      <td>9.0</td>\n",
       "      <td>18</td>\n",
       "      <td>1438873</td>\n",
       "      <td>2019-06-07 15:32:01</td>\n",
       "      <td>8</td>\n",
       "      <td>2.135019e+09</td>\n",
       "      <td>0</td>\n",
       "      <td>2329670524</td>\n",
       "      <td>601</td>\n",
       "    </tr>\n",
       "    <tr>\n",
       "      <th>1</th>\n",
       "      <td>135939</td>\n",
       "      <td>893</td>\n",
       "      <td>NaN</td>\n",
       "      <td>NaN</td>\n",
       "      <td>NaN</td>\n",
       "      <td>NaN</td>\n",
       "      <td>1</td>\n",
       "      <td>NaN</td>\n",
       "      <td>19</td>\n",
       "      <td>6.0</td>\n",
       "      <td>8.0</td>\n",
       "      <td>0</td>\n",
       "      <td>1185582</td>\n",
       "      <td>2019-06-08 19:40:40</td>\n",
       "      <td>4</td>\n",
       "      <td>2.782306e+09</td>\n",
       "      <td>1</td>\n",
       "      <td>2864801071</td>\n",
       "      <td>1000</td>\n",
       "    </tr>\n",
       "    <tr>\n",
       "      <th>2</th>\n",
       "      <td>399254</td>\n",
       "      <td>821</td>\n",
       "      <td>NaN</td>\n",
       "      <td>760.0</td>\n",
       "      <td>NaN</td>\n",
       "      <td>360.0</td>\n",
       "      <td>1</td>\n",
       "      <td>NaN</td>\n",
       "      <td>559</td>\n",
       "      <td>NaN</td>\n",
       "      <td>8.0</td>\n",
       "      <td>0</td>\n",
       "      <td>1555716</td>\n",
       "      <td>2019-06-06 23:59:13</td>\n",
       "      <td>0</td>\n",
       "      <td>1.392806e+09</td>\n",
       "      <td>2</td>\n",
       "      <td>628911675</td>\n",
       "      <td>696</td>\n",
       "    </tr>\n",
       "    <tr>\n",
       "      <th>3</th>\n",
       "      <td>68983</td>\n",
       "      <td>1004</td>\n",
       "      <td>1.0</td>\n",
       "      <td>2214.0</td>\n",
       "      <td>NaN</td>\n",
       "      <td>1080.0</td>\n",
       "      <td>0</td>\n",
       "      <td>NaN</td>\n",
       "      <td>129</td>\n",
       "      <td>2.0</td>\n",
       "      <td>8.0</td>\n",
       "      <td>0</td>\n",
       "      <td>1093419</td>\n",
       "      <td>2019-06-09 09:00:12</td>\n",
       "      <td>0</td>\n",
       "      <td>3.562553e+09</td>\n",
       "      <td>3</td>\n",
       "      <td>1283809327</td>\n",
       "      <td>753</td>\n",
       "    </tr>\n",
       "    <tr>\n",
       "      <th>4</th>\n",
       "      <td>288999</td>\n",
       "      <td>1076</td>\n",
       "      <td>1.0</td>\n",
       "      <td>2280.0</td>\n",
       "      <td>NaN</td>\n",
       "      <td>1080.0</td>\n",
       "      <td>1</td>\n",
       "      <td>1.0</td>\n",
       "      <td>64</td>\n",
       "      <td>2.0</td>\n",
       "      <td>8.0</td>\n",
       "      <td>0</td>\n",
       "      <td>1400089</td>\n",
       "      <td>2019-06-07 08:28:13</td>\n",
       "      <td>5</td>\n",
       "      <td>2.364522e+09</td>\n",
       "      <td>4</td>\n",
       "      <td>1510695983</td>\n",
       "      <td>582</td>\n",
       "    </tr>\n",
       "  </tbody>\n",
       "</table>\n",
       "</div>"
      ],
      "text/plain": [
       "   android_id  apptype  carrier  dev_height  dev_ppi  dev_width  label  lan  \\\n",
       "0      316361     1199      1.0         NaN      NaN        NaN      1  NaN   \n",
       "1      135939      893      NaN         NaN      NaN        NaN      1  NaN   \n",
       "2      399254      821      NaN       760.0      NaN      360.0      1  NaN   \n",
       "3       68983     1004      1.0      2214.0      NaN     1080.0      0  NaN   \n",
       "4      288999     1076      1.0      2280.0      NaN     1080.0      1  1.0   \n",
       "\n",
       "   media_id  ntt  osv  package      sid            timestamp  version  \\\n",
       "0       104  6.0  9.0       18  1438873  2019-06-07 15:32:01        8   \n",
       "1        19  6.0  8.0        0  1185582  2019-06-08 19:40:40        4   \n",
       "2       559  NaN  8.0        0  1555716  2019-06-06 23:59:13        0   \n",
       "3       129  2.0  8.0        0  1093419  2019-06-09 09:00:12        0   \n",
       "4        64  2.0  8.0        0  1400089  2019-06-07 08:28:13        5   \n",
       "\n",
       "       fea_hash  location   fea1_hash  cus_type  \n",
       "0  2.135019e+09         0  2329670524       601  \n",
       "1  2.782306e+09         1  2864801071      1000  \n",
       "2  1.392806e+09         2   628911675       696  \n",
       "3  3.562553e+09         3  1283809327       753  \n",
       "4  2.364522e+09         4  1510695983       582  "
      ]
     },
     "execution_count": 2,
     "metadata": {},
     "output_type": "execute_result"
    }
   ],
   "source": [
    "train = pd.read_hdf('../input/train.h5')\n",
    "train.head()"
   ]
  },
  {
   "cell_type": "code",
   "execution_count": 3,
   "metadata": {
    "ExecuteTime": {
     "end_time": "2020-06-11T07:51:00.524182Z",
     "start_time": "2020-06-11T07:51:00.441535Z"
    }
   },
   "outputs": [
    {
     "data": {
      "text/html": [
       "<div>\n",
       "<style scoped>\n",
       "    .dataframe tbody tr th:only-of-type {\n",
       "        vertical-align: middle;\n",
       "    }\n",
       "\n",
       "    .dataframe tbody tr th {\n",
       "        vertical-align: top;\n",
       "    }\n",
       "\n",
       "    .dataframe thead th {\n",
       "        text-align: right;\n",
       "    }\n",
       "</style>\n",
       "<table border=\"1\" class=\"dataframe\">\n",
       "  <thead>\n",
       "    <tr style=\"text-align: right;\">\n",
       "      <th></th>\n",
       "      <th>android_id</th>\n",
       "      <th>apptype</th>\n",
       "      <th>carrier</th>\n",
       "      <th>dev_height</th>\n",
       "      <th>dev_ppi</th>\n",
       "      <th>dev_width</th>\n",
       "      <th>lan</th>\n",
       "      <th>media_id</th>\n",
       "      <th>ntt</th>\n",
       "      <th>osv</th>\n",
       "      <th>package</th>\n",
       "      <th>sid</th>\n",
       "      <th>timestamp</th>\n",
       "      <th>version</th>\n",
       "      <th>fea_hash</th>\n",
       "      <th>location</th>\n",
       "      <th>fea1_hash</th>\n",
       "      <th>cus_type</th>\n",
       "    </tr>\n",
       "  </thead>\n",
       "  <tbody>\n",
       "    <tr>\n",
       "      <th>0</th>\n",
       "      <td>317625</td>\n",
       "      <td>1181</td>\n",
       "      <td>1.0</td>\n",
       "      <td>2196.0</td>\n",
       "      <td>2.0</td>\n",
       "      <td>1080.0</td>\n",
       "      <td>1.0</td>\n",
       "      <td>639</td>\n",
       "      <td>2.0</td>\n",
       "      <td>8.0</td>\n",
       "      <td>188</td>\n",
       "      <td>1440682</td>\n",
       "      <td>2019-06-07 09:42:30</td>\n",
       "      <td>7</td>\n",
       "      <td>1.672224e+09</td>\n",
       "      <td>57</td>\n",
       "      <td>3872258917</td>\n",
       "      <td>658</td>\n",
       "    </tr>\n",
       "    <tr>\n",
       "      <th>1</th>\n",
       "      <td>435108</td>\n",
       "      <td>944</td>\n",
       "      <td>2.0</td>\n",
       "      <td>2280.0</td>\n",
       "      <td>3.0</td>\n",
       "      <td>1080.0</td>\n",
       "      <td>1.0</td>\n",
       "      <td>704</td>\n",
       "      <td>6.0</td>\n",
       "      <td>8.0</td>\n",
       "      <td>221</td>\n",
       "      <td>1606824</td>\n",
       "      <td>2019-06-05 20:53:56</td>\n",
       "      <td>3</td>\n",
       "      <td>3.767902e+09</td>\n",
       "      <td>23</td>\n",
       "      <td>129322164</td>\n",
       "      <td>943</td>\n",
       "    </tr>\n",
       "    <tr>\n",
       "      <th>2</th>\n",
       "      <td>0</td>\n",
       "      <td>1106</td>\n",
       "      <td>1.0</td>\n",
       "      <td>NaN</td>\n",
       "      <td>NaN</td>\n",
       "      <td>NaN</td>\n",
       "      <td>NaN</td>\n",
       "      <td>39</td>\n",
       "      <td>2.0</td>\n",
       "      <td>5.0</td>\n",
       "      <td>1562</td>\n",
       "      <td>1774642</td>\n",
       "      <td>2019-06-04 10:07:42</td>\n",
       "      <td>0</td>\n",
       "      <td>4.546387e+08</td>\n",
       "      <td>30</td>\n",
       "      <td>4226678391</td>\n",
       "      <td>411</td>\n",
       "    </tr>\n",
       "    <tr>\n",
       "      <th>3</th>\n",
       "      <td>451504</td>\n",
       "      <td>761</td>\n",
       "      <td>1.0</td>\n",
       "      <td>1344.0</td>\n",
       "      <td>NaN</td>\n",
       "      <td>720.0</td>\n",
       "      <td>NaN</td>\n",
       "      <td>54</td>\n",
       "      <td>2.0</td>\n",
       "      <td>7.0</td>\n",
       "      <td>9</td>\n",
       "      <td>1742535</td>\n",
       "      <td>2019-06-05 01:03:22</td>\n",
       "      <td>0</td>\n",
       "      <td>1.507623e+09</td>\n",
       "      <td>65</td>\n",
       "      <td>3355419572</td>\n",
       "      <td>848</td>\n",
       "    </tr>\n",
       "    <tr>\n",
       "      <th>4</th>\n",
       "      <td>0</td>\n",
       "      <td>1001</td>\n",
       "      <td>1.0</td>\n",
       "      <td>665.0</td>\n",
       "      <td>NaN</td>\n",
       "      <td>320.0</td>\n",
       "      <td>1.0</td>\n",
       "      <td>29</td>\n",
       "      <td>5.0</td>\n",
       "      <td>8.0</td>\n",
       "      <td>4</td>\n",
       "      <td>1689686</td>\n",
       "      <td>2019-06-05 08:15:54</td>\n",
       "      <td>0</td>\n",
       "      <td>4.116351e+09</td>\n",
       "      <td>148</td>\n",
       "      <td>2644467751</td>\n",
       "      <td>411</td>\n",
       "    </tr>\n",
       "  </tbody>\n",
       "</table>\n",
       "</div>"
      ],
      "text/plain": [
       "   android_id  apptype  carrier  dev_height  dev_ppi  dev_width  lan  \\\n",
       "0      317625     1181      1.0      2196.0      2.0     1080.0  1.0   \n",
       "1      435108      944      2.0      2280.0      3.0     1080.0  1.0   \n",
       "2           0     1106      1.0         NaN      NaN        NaN  NaN   \n",
       "3      451504      761      1.0      1344.0      NaN      720.0  NaN   \n",
       "4           0     1001      1.0       665.0      NaN      320.0  1.0   \n",
       "\n",
       "   media_id  ntt  osv  package      sid            timestamp  version  \\\n",
       "0       639  2.0  8.0      188  1440682  2019-06-07 09:42:30        7   \n",
       "1       704  6.0  8.0      221  1606824  2019-06-05 20:53:56        3   \n",
       "2        39  2.0  5.0     1562  1774642  2019-06-04 10:07:42        0   \n",
       "3        54  2.0  7.0        9  1742535  2019-06-05 01:03:22        0   \n",
       "4        29  5.0  8.0        4  1689686  2019-06-05 08:15:54        0   \n",
       "\n",
       "       fea_hash  location   fea1_hash  cus_type  \n",
       "0  1.672224e+09        57  3872258917       658  \n",
       "1  3.767902e+09        23   129322164       943  \n",
       "2  4.546387e+08        30  4226678391       411  \n",
       "3  1.507623e+09        65  3355419572       848  \n",
       "4  4.116351e+09       148  2644467751       411  "
      ]
     },
     "execution_count": 3,
     "metadata": {},
     "output_type": "execute_result"
    }
   ],
   "source": [
    "test1 = pd.read_hdf('../input/test1.h5')\n",
    "test1.head()"
   ]
  },
  {
   "cell_type": "markdown",
   "metadata": {},
   "source": [
    "## EDA"
   ]
  },
  {
   "cell_type": "markdown",
   "metadata": {},
   "source": [
    "### 全局探索\n",
    "\n",
    "\n",
    "字段 | 类型 | 说明 | 处理方式\n",
    "---|---|--- | ---\n",
    "sid | string | 样本id | 不处理\n",
    "package | string | 媒体信息，包名 | 1950个取值，暂不处理（不好处理）\n",
    "version | string | 媒体信息，app版本 | 13个取值，提取到版本号\n",
    "android_id | string | 媒体信息，对外广告位ID | 362258个取值，均值编码\n",
    "media_id | string | 媒体信息，对外媒体ID，284个取值 | 284个取值，均值编码\n",
    "apptype | int | 媒体信息，app所属分类 | 89个取值，均值编码\n",
    "timestamp | bigint | 请求到达服务时间，单位ms | 时间点\n",
    "location | int | 用户地理位置编码（精确到城市） | 332个取值，均值编码\n",
    "fea_hash | int | 用户特征编码 | 402980个取值，不处理\n",
    "fea1_hash | int | 用户特征编码 | 4959个取值，不处理\n",
    "cus_type | int | 用户特征编码 | 58个取值，不处理\n",
    "ntt | int | 网络类型 0-未知, 1-有线网, 2-WIFI, 3-蜂窝网络未知, 4-2G, 5-3G, 6–4G | 独热编码\n",
    "carrier | string | 设备使用的运营商 0-未知, 46000-移动, 46001-联通, 46003-电信 | 独热编码\n",
    "os | string | 操作系统，默认为android | 取值全为安卓，删除特征\n",
    "osv | string | 操作系统版本 | 提取到版本号，11个取值\n",
    "lan | string | 设备采用的语言，默认为中文 | 10个取值，独热编码\n",
    "dev_height | int | 设备高 | 不处理\n",
    "dev_width | int | 设备宽 | 不处理\n",
    "dev_ppi | int | 屏幕分辨率 | 不处理"
   ]
  },
  {
   "cell_type": "markdown",
   "metadata": {},
   "source": [
    "#### train数据集探索"
   ]
  },
  {
   "cell_type": "markdown",
   "metadata": {},
   "source": [
    "1. train数据集由50000行19列组成"
   ]
  },
  {
   "cell_type": "code",
   "execution_count": 4,
   "metadata": {
    "ExecuteTime": {
     "end_time": "2020-06-11T07:51:00.531124Z",
     "start_time": "2020-06-11T07:51:00.525140Z"
    }
   },
   "outputs": [
    {
     "data": {
      "text/plain": [
       "(500000, 19)"
      ]
     },
     "execution_count": 4,
     "metadata": {},
     "output_type": "execute_result"
    }
   ],
   "source": [
    "train.shape"
   ]
  },
  {
   "cell_type": "markdown",
   "metadata": {
    "ExecuteTime": {
     "end_time": "2020-06-06T11:17:12.270015Z",
     "start_time": "2020-06-06T11:17:12.257008Z"
    }
   },
   "source": [
    "2. 所有的sid都不相同"
   ]
  },
  {
   "cell_type": "code",
   "execution_count": 5,
   "metadata": {
    "ExecuteTime": {
     "end_time": "2020-06-11T07:51:00.574041Z",
     "start_time": "2020-06-11T07:51:00.532121Z"
    }
   },
   "outputs": [
    {
     "data": {
      "text/plain": [
       "500000"
      ]
     },
     "execution_count": 5,
     "metadata": {},
     "output_type": "execute_result"
    }
   ],
   "source": [
    "train['sid'].nunique()"
   ]
  },
  {
   "cell_type": "markdown",
   "metadata": {
    "ExecuteTime": {
     "end_time": "2020-06-06T11:17:12.274002Z",
     "start_time": "2020-06-06T11:17:09.762Z"
    }
   },
   "source": [
    "3. 样本经过采样处理"
   ]
  },
  {
   "cell_type": "code",
   "execution_count": 6,
   "metadata": {
    "ExecuteTime": {
     "end_time": "2020-06-11T07:51:00.581029Z",
     "start_time": "2020-06-11T07:51:00.576008Z"
    }
   },
   "outputs": [
    {
     "data": {
      "text/plain": [
       "0.48448"
      ]
     },
     "execution_count": 6,
     "metadata": {},
     "output_type": "execute_result"
    }
   ],
   "source": [
    "train['label'].mean()"
   ]
  },
  {
   "cell_type": "code",
   "execution_count": 7,
   "metadata": {
    "ExecuteTime": {
     "end_time": "2020-06-11T07:51:00.604965Z",
     "start_time": "2020-06-11T07:51:00.581988Z"
    }
   },
   "outputs": [
    {
     "data": {
      "text/plain": [
       "label\n",
       "0    257760\n",
       "1    242240\n",
       "Name: label, dtype: int64"
      ]
     },
     "execution_count": 7,
     "metadata": {},
     "output_type": "execute_result"
    }
   ],
   "source": [
    "train.groupby('label')['label'].count()"
   ]
  },
  {
   "cell_type": "markdown",
   "metadata": {},
   "source": [
    "4. train数据集有x个数值型，x个object类型"
   ]
  },
  {
   "cell_type": "code",
   "execution_count": 8,
   "metadata": {
    "ExecuteTime": {
     "end_time": "2020-06-11T07:51:00.666761Z",
     "start_time": "2020-06-11T07:51:00.606935Z"
    }
   },
   "outputs": [
    {
     "name": "stdout",
     "output_type": "stream",
     "text": [
      "<class 'pandas.core.frame.DataFrame'>\n",
      "Int64Index: 500000 entries, 0 to 499999\n",
      "Data columns (total 19 columns):\n",
      " #   Column      Non-Null Count   Dtype  \n",
      "---  ------      --------------   -----  \n",
      " 0   android_id  500000 non-null  int32  \n",
      " 1   apptype     500000 non-null  int16  \n",
      " 2   carrier     435093 non-null  float64\n",
      " 3   dev_height  392986 non-null  float16\n",
      " 4   dev_ppi     116709 non-null  float16\n",
      " 5   dev_width   392989 non-null  float16\n",
      " 6   label       500000 non-null  int8   \n",
      " 7   lan         316720 non-null  float64\n",
      " 8   media_id    500000 non-null  int16  \n",
      " 9   ntt         479383 non-null  float16\n",
      " 10  osv         493439 non-null  float64\n",
      " 11  package     500000 non-null  int16  \n",
      " 12  sid         500000 non-null  int32  \n",
      " 13  timestamp   500000 non-null  object \n",
      " 14  version     500000 non-null  int64  \n",
      " 15  fea_hash    499910 non-null  float64\n",
      " 16  location    500000 non-null  int16  \n",
      " 17  fea1_hash   500000 non-null  int64  \n",
      " 18  cus_type    500000 non-null  int16  \n",
      "dtypes: float16(4), float64(4), int16(5), int32(2), int64(2), int8(1), object(1)\n",
      "memory usage: 43.4+ MB\n"
     ]
    }
   ],
   "source": [
    "train.info()"
   ]
  },
  {
   "cell_type": "markdown",
   "metadata": {},
   "source": [
    "5. 特征类型\n",
    "\n",
    "(1) ID特征（1个）：sid\n",
    "\n",
    "(2) 类别特征（12个）：label, android_id, apptype, carrier, lan, media_id, ntt, osv, version, location, cus_type, package\n",
    "\n",
    "(3) 数值特征（5个）：dev_height, dev_ppi, dev_width, fea_hash, fea1_hash, \n",
    "\n",
    "(4) 时间特征（1个）：timestamp"
   ]
  },
  {
   "cell_type": "code",
   "execution_count": 9,
   "metadata": {
    "ExecuteTime": {
     "end_time": "2020-06-11T07:51:02.785232Z",
     "start_time": "2020-06-11T07:51:00.668757Z"
    }
   },
   "outputs": [
    {
     "data": {
      "text/plain": [
       "android_id    362258\n",
       "apptype           89\n",
       "carrier            3\n",
       "dev_height       746\n",
       "dev_ppi           91\n",
       "dev_width        324\n",
       "label              2\n",
       "lan               10\n",
       "media_id         284\n",
       "ntt                7\n",
       "osv               11\n",
       "package         1950\n",
       "sid           500000\n",
       "timestamp       4615\n",
       "version           13\n",
       "fea_hash      402890\n",
       "location         332\n",
       "fea1_hash       4959\n",
       "cus_type          58\n",
       "dtype: int64"
      ]
     },
     "execution_count": 9,
     "metadata": {},
     "output_type": "execute_result"
    }
   ],
   "source": [
    "train.nunique()"
   ]
  },
  {
   "cell_type": "markdown",
   "metadata": {},
   "source": [
    "**结论**\n",
    "1. train数据集由50000行19列组成\n",
    "\n",
    "2. train中所有的id是不一样的\n",
    "\n",
    "3. label经过采样，所以点击率是平衡的（无需进行特殊的处理）\n",
    "\n",
    "4. 训练集和测试集中的id存在4个id是有交互的\n",
    "\n",
    "5. 特征类型\n",
    "\n",
    "(1) ID特征（1个）：sid\n",
    "\n",
    "(2) 类别特征（12个）：label, android_id, apptype, carrier, lan, media_id, ntt, osv, version, location, cus_type, package\n",
    "\n",
    "(3) 数值特征（5个）：dev_height, dev_ppi, dev_width, fea_hash, fea1_hash, \n",
    "\n",
    "(4) 时间特征（1个）：timestamp"
   ]
  },
  {
   "cell_type": "markdown",
   "metadata": {
    "ExecuteTime": {
     "start_time": "2020-06-07T02:43:41.150Z"
    }
   },
   "source": [
    "#### 测试集探索"
   ]
  },
  {
   "cell_type": "markdown",
   "metadata": {},
   "source": [
    "1. 测试集中有18个特征，少了label特征"
   ]
  },
  {
   "cell_type": "code",
   "execution_count": 10,
   "metadata": {
    "ExecuteTime": {
     "end_time": "2020-06-11T07:51:03.305080Z",
     "start_time": "2020-06-11T07:51:02.786203Z"
    }
   },
   "outputs": [
    {
     "data": {
      "text/plain": [
       "android_id    110483\n",
       "apptype           78\n",
       "carrier            3\n",
       "dev_height       560\n",
       "dev_ppi           57\n",
       "dev_width        221\n",
       "lan                7\n",
       "media_id         248\n",
       "ntt                6\n",
       "osv                9\n",
       "package         1293\n",
       "sid           150000\n",
       "timestamp       4615\n",
       "version           13\n",
       "fea_hash      135061\n",
       "location         332\n",
       "fea1_hash       2159\n",
       "cus_type          58\n",
       "dtype: int64"
      ]
     },
     "execution_count": 10,
     "metadata": {},
     "output_type": "execute_result"
    }
   ],
   "source": [
    "test1.nunique()"
   ]
  },
  {
   "cell_type": "markdown",
   "metadata": {},
   "source": [
    "2. 测试集中的类别特征有很多在训练集中可能没有出现过，那么这些类别特征在预测时将会较难预测,所以我们得重点观察此类数据.\n",
    "\n",
    "    - 我们发现例如media_id，package特征中,都出现了很多测试集中出现但是在训练集中并未出现的特征.所以后续处理的时候可以考虑特殊的编码。"
   ]
  },
  {
   "cell_type": "code",
   "execution_count": 11,
   "metadata": {
    "ExecuteTime": {
     "end_time": "2020-06-11T07:51:03.522019Z",
     "start_time": "2020-06-11T07:51:03.306037Z"
    }
   },
   "outputs": [
    {
     "name": "stdout",
     "output_type": "stream",
     "text": [
      "There are about 11 categorical features.\n",
      "android_id 105700\n",
      "apptype 0\n",
      "carrier 1\n",
      "lan 1\n",
      "media_id 8\n",
      "ntt 1\n",
      "osv 1\n",
      "version 0\n",
      "location 0\n",
      "cus_type 0\n",
      "package 152\n"
     ]
    }
   ],
   "source": [
    "cate_cols = ['android_id', 'apptype', 'carrier', 'lan', 'media_id', 'ntt', 'osv',\n",
    "             'version', 'location', 'cus_type', 'package']\n",
    "\n",
    "print('There are about {} categorical features.'.format(len(cate_cols)))\n",
    "\n",
    "for col in cate_cols:\n",
    "    print(col, len(set(test1[col].unique()) - set(train[col].unique())))"
   ]
  },
  {
   "cell_type": "code",
   "execution_count": 12,
   "metadata": {
    "ExecuteTime": {
     "end_time": "2020-06-11T07:51:03.531993Z",
     "start_time": "2020-06-11T07:51:03.523017Z"
    }
   },
   "outputs": [
    {
     "data": {
      "text/plain": [
       "array([ 1.,  2., nan,  3.])"
      ]
     },
     "execution_count": 12,
     "metadata": {},
     "output_type": "execute_result"
    }
   ],
   "source": [
    "test1['carrier'].unique()"
   ]
  },
  {
   "cell_type": "code",
   "execution_count": 13,
   "metadata": {
    "ExecuteTime": {
     "end_time": "2020-06-11T07:51:03.543961Z",
     "start_time": "2020-06-11T07:51:03.533988Z"
    }
   },
   "outputs": [
    {
     "data": {
      "text/plain": [
       "array([ 1., nan,  2.,  3.])"
      ]
     },
     "execution_count": 13,
     "metadata": {},
     "output_type": "execute_result"
    }
   ],
   "source": [
    "train['carrier'].unique()"
   ]
  },
  {
   "cell_type": "markdown",
   "metadata": {},
   "source": [
    "3. android_id有很多交互"
   ]
  },
  {
   "cell_type": "code",
   "execution_count": 14,
   "metadata": {
    "ExecuteTime": {
     "end_time": "2020-06-11T07:51:03.712511Z",
     "start_time": "2020-06-11T07:51:03.545958Z"
    }
   },
   "outputs": [
    {
     "data": {
      "text/plain": [
       "357475"
      ]
     },
     "execution_count": 14,
     "metadata": {},
     "output_type": "execute_result"
    }
   ],
   "source": [
    "len(set(train['android_id']) - set(test1['android_id']))"
   ]
  },
  {
   "cell_type": "markdown",
   "metadata": {},
   "source": [
    "4. 时间特征"
   ]
  },
  {
   "cell_type": "code",
   "execution_count": 15,
   "metadata": {
    "ExecuteTime": {
     "end_time": "2020-06-11T07:51:04.366624Z",
     "start_time": "2020-06-11T07:51:03.713507Z"
    }
   },
   "outputs": [
    {
     "data": {
      "text/plain": [
       "444074    2019-06-10 00:00:14\n",
       "272932    2019-06-10 00:00:14\n",
       "182118    2019-06-10 00:00:14\n",
       "39805     2019-06-10 00:00:14\n",
       "26651     2019-06-10 00:00:14\n",
       "Name: timestamp, dtype: object"
      ]
     },
     "execution_count": 15,
     "metadata": {},
     "output_type": "execute_result"
    }
   ],
   "source": [
    "train['timestamp'].sort_values(ascending=True)[-5:]"
   ]
  },
  {
   "cell_type": "code",
   "execution_count": 16,
   "metadata": {
    "ExecuteTime": {
     "end_time": "2020-06-11T07:51:04.485408Z",
     "start_time": "2020-06-11T07:51:04.367587Z"
    }
   },
   "outputs": [
    {
     "data": {
      "text/plain": [
       "array(['2019-06-07', '2019-06-08', '2019-06-06', '2019-06-09',\n",
       "       '2019-06-03', '2019-06-04', '2019-06-05', '2019-06-10'],\n",
       "      dtype=object)"
      ]
     },
     "execution_count": 16,
     "metadata": {},
     "output_type": "execute_result"
    }
   ],
   "source": [
    "train['date'] = train['timestamp'].apply(lambda x: x[:10])\n",
    "train['date'].unique()"
   ]
  },
  {
   "cell_type": "code",
   "execution_count": 17,
   "metadata": {
    "ExecuteTime": {
     "end_time": "2020-06-11T07:51:04.526310Z",
     "start_time": "2020-06-11T07:51:04.486380Z"
    }
   },
   "outputs": [
    {
     "data": {
      "text/plain": [
       "array(['2019-06-07', '2019-06-05', '2019-06-04', '2019-06-08',\n",
       "       '2019-06-06', '2019-06-03', '2019-06-09', '2019-06-10'],\n",
       "      dtype=object)"
      ]
     },
     "execution_count": 17,
     "metadata": {},
     "output_type": "execute_result"
    }
   ],
   "source": [
    "test1['date'] = test1['timestamp'].apply(lambda x: x[:10])\n",
    "test1['date'].unique()"
   ]
  },
  {
   "cell_type": "code",
   "execution_count": 18,
   "metadata": {
    "ExecuteTime": {
     "end_time": "2020-06-11T07:51:04.678905Z",
     "start_time": "2020-06-11T07:51:04.527273Z"
    }
   },
   "outputs": [
    {
     "data": {
      "text/plain": [
       "145991    2019-06-03 00:00:48\n",
       "7518      2019-06-03 00:00:48\n",
       "38849     2019-06-03 00:00:48\n",
       "136392    2019-06-03 00:00:48\n",
       "103170    2019-06-03 00:00:48\n",
       "Name: timestamp, dtype: object"
      ]
     },
     "execution_count": 18,
     "metadata": {},
     "output_type": "execute_result"
    }
   ],
   "source": [
    "test1['timestamp'].sort_values(ascending=True)[:5]"
   ]
  },
  {
   "cell_type": "markdown",
   "metadata": {},
   "source": [
    "**结论**\n",
    "1. 测试集有18个特征\n",
    "2. 测试集中的类别特征有很多在训练集中没有出现过\n",
    "3. 训练集和测试集中的android_id有很多交互"
   ]
  },
  {
   "cell_type": "code",
   "execution_count": 19,
   "metadata": {
    "ExecuteTime": {
     "end_time": "2020-06-11T07:51:05.194723Z",
     "start_time": "2020-06-11T07:51:04.679863Z"
    }
   },
   "outputs": [
    {
     "name": "stdout",
     "output_type": "stream",
     "text": [
      "android_id\n",
      "apptype\n",
      "carrier\n",
      "lan\n",
      "media_id\n",
      "ntt\n",
      "osv\n",
      "version\n",
      "location\n",
      "cus_type\n",
      "package\n"
     ]
    },
    {
     "data": {
      "text/html": [
       "<div>\n",
       "<style scoped>\n",
       "    .dataframe tbody tr th:only-of-type {\n",
       "        vertical-align: middle;\n",
       "    }\n",
       "\n",
       "    .dataframe tbody tr th {\n",
       "        vertical-align: top;\n",
       "    }\n",
       "\n",
       "    .dataframe thead th {\n",
       "        text-align: right;\n",
       "    }\n",
       "</style>\n",
       "<table border=\"1\" class=\"dataframe\">\n",
       "  <thead>\n",
       "    <tr style=\"text-align: right;\">\n",
       "      <th></th>\n",
       "      <th>android_id</th>\n",
       "      <th>apptype</th>\n",
       "      <th>carrier</th>\n",
       "      <th>dev_height</th>\n",
       "      <th>dev_ppi</th>\n",
       "      <th>dev_width</th>\n",
       "      <th>label</th>\n",
       "      <th>lan</th>\n",
       "      <th>media_id</th>\n",
       "      <th>ntt</th>\n",
       "      <th>osv</th>\n",
       "      <th>package</th>\n",
       "      <th>sid</th>\n",
       "      <th>timestamp</th>\n",
       "      <th>version</th>\n",
       "      <th>fea_hash</th>\n",
       "      <th>location</th>\n",
       "      <th>fea1_hash</th>\n",
       "      <th>cus_type</th>\n",
       "      <th>date</th>\n",
       "      <th>android_id_cnt_code</th>\n",
       "      <th>apptype_cnt_code</th>\n",
       "      <th>carrier_cnt_code</th>\n",
       "      <th>lan_cnt_code</th>\n",
       "      <th>media_id_cnt_code</th>\n",
       "      <th>ntt_cnt_code</th>\n",
       "      <th>osv_cnt_code</th>\n",
       "      <th>version_cnt_code</th>\n",
       "      <th>location_cnt_code</th>\n",
       "      <th>cus_type_cnt_code</th>\n",
       "      <th>package_cnt_code</th>\n",
       "    </tr>\n",
       "  </thead>\n",
       "  <tbody>\n",
       "    <tr>\n",
       "      <th>0</th>\n",
       "      <td>316361</td>\n",
       "      <td>1199</td>\n",
       "      <td>1.0</td>\n",
       "      <td>NaN</td>\n",
       "      <td>NaN</td>\n",
       "      <td>NaN</td>\n",
       "      <td>1.0</td>\n",
       "      <td>NaN</td>\n",
       "      <td>104</td>\n",
       "      <td>6.0</td>\n",
       "      <td>9.0</td>\n",
       "      <td>18</td>\n",
       "      <td>1438873</td>\n",
       "      <td>2019-06-07 15:32:01</td>\n",
       "      <td>8</td>\n",
       "      <td>2.135019e+09</td>\n",
       "      <td>0</td>\n",
       "      <td>2329670524</td>\n",
       "      <td>601</td>\n",
       "      <td>2019-06-07</td>\n",
       "      <td>1</td>\n",
       "      <td>30101</td>\n",
       "      <td>467100.0</td>\n",
       "      <td>NaN</td>\n",
       "      <td>28952</td>\n",
       "      <td>151423.0</td>\n",
       "      <td>136210.0</td>\n",
       "      <td>49758</td>\n",
       "      <td>15158</td>\n",
       "      <td>8358</td>\n",
       "      <td>29017</td>\n",
       "    </tr>\n",
       "    <tr>\n",
       "      <th>1</th>\n",
       "      <td>135939</td>\n",
       "      <td>893</td>\n",
       "      <td>NaN</td>\n",
       "      <td>NaN</td>\n",
       "      <td>NaN</td>\n",
       "      <td>NaN</td>\n",
       "      <td>1.0</td>\n",
       "      <td>NaN</td>\n",
       "      <td>19</td>\n",
       "      <td>6.0</td>\n",
       "      <td>8.0</td>\n",
       "      <td>0</td>\n",
       "      <td>1185582</td>\n",
       "      <td>2019-06-08 19:40:40</td>\n",
       "      <td>4</td>\n",
       "      <td>2.782306e+09</td>\n",
       "      <td>1</td>\n",
       "      <td>2864801071</td>\n",
       "      <td>1000</td>\n",
       "      <td>2019-06-08</td>\n",
       "      <td>1</td>\n",
       "      <td>35336</td>\n",
       "      <td>NaN</td>\n",
       "      <td>NaN</td>\n",
       "      <td>11405</td>\n",
       "      <td>151423.0</td>\n",
       "      <td>258952.0</td>\n",
       "      <td>31535</td>\n",
       "      <td>7138</td>\n",
       "      <td>8374</td>\n",
       "      <td>171090</td>\n",
       "    </tr>\n",
       "    <tr>\n",
       "      <th>2</th>\n",
       "      <td>399254</td>\n",
       "      <td>821</td>\n",
       "      <td>NaN</td>\n",
       "      <td>760.0</td>\n",
       "      <td>NaN</td>\n",
       "      <td>360.0</td>\n",
       "      <td>1.0</td>\n",
       "      <td>NaN</td>\n",
       "      <td>559</td>\n",
       "      <td>NaN</td>\n",
       "      <td>8.0</td>\n",
       "      <td>0</td>\n",
       "      <td>1555716</td>\n",
       "      <td>2019-06-06 23:59:13</td>\n",
       "      <td>0</td>\n",
       "      <td>1.392806e+09</td>\n",
       "      <td>2</td>\n",
       "      <td>628911675</td>\n",
       "      <td>696</td>\n",
       "      <td>2019-06-06</td>\n",
       "      <td>1</td>\n",
       "      <td>1976</td>\n",
       "      <td>NaN</td>\n",
       "      <td>NaN</td>\n",
       "      <td>369</td>\n",
       "      <td>NaN</td>\n",
       "      <td>258952.0</td>\n",
       "      <td>380269</td>\n",
       "      <td>1990</td>\n",
       "      <td>8381</td>\n",
       "      <td>171090</td>\n",
       "    </tr>\n",
       "    <tr>\n",
       "      <th>3</th>\n",
       "      <td>68983</td>\n",
       "      <td>1004</td>\n",
       "      <td>1.0</td>\n",
       "      <td>2214.0</td>\n",
       "      <td>NaN</td>\n",
       "      <td>1080.0</td>\n",
       "      <td>0.0</td>\n",
       "      <td>NaN</td>\n",
       "      <td>129</td>\n",
       "      <td>2.0</td>\n",
       "      <td>8.0</td>\n",
       "      <td>0</td>\n",
       "      <td>1093419</td>\n",
       "      <td>2019-06-09 09:00:12</td>\n",
       "      <td>0</td>\n",
       "      <td>3.562553e+09</td>\n",
       "      <td>3</td>\n",
       "      <td>1283809327</td>\n",
       "      <td>753</td>\n",
       "      <td>2019-06-09</td>\n",
       "      <td>1</td>\n",
       "      <td>21698</td>\n",
       "      <td>467100.0</td>\n",
       "      <td>NaN</td>\n",
       "      <td>2737</td>\n",
       "      <td>414135.0</td>\n",
       "      <td>258952.0</td>\n",
       "      <td>380269</td>\n",
       "      <td>1959</td>\n",
       "      <td>8364</td>\n",
       "      <td>171090</td>\n",
       "    </tr>\n",
       "    <tr>\n",
       "      <th>4</th>\n",
       "      <td>288999</td>\n",
       "      <td>1076</td>\n",
       "      <td>1.0</td>\n",
       "      <td>2280.0</td>\n",
       "      <td>NaN</td>\n",
       "      <td>1080.0</td>\n",
       "      <td>1.0</td>\n",
       "      <td>1.0</td>\n",
       "      <td>64</td>\n",
       "      <td>2.0</td>\n",
       "      <td>8.0</td>\n",
       "      <td>0</td>\n",
       "      <td>1400089</td>\n",
       "      <td>2019-06-07 08:28:13</td>\n",
       "      <td>5</td>\n",
       "      <td>2.364522e+09</td>\n",
       "      <td>4</td>\n",
       "      <td>1510695983</td>\n",
       "      <td>582</td>\n",
       "      <td>2019-06-07</td>\n",
       "      <td>1</td>\n",
       "      <td>52146</td>\n",
       "      <td>467100.0</td>\n",
       "      <td>410820.0</td>\n",
       "      <td>52135</td>\n",
       "      <td>414135.0</td>\n",
       "      <td>258952.0</td>\n",
       "      <td>73461</td>\n",
       "      <td>7268</td>\n",
       "      <td>8421</td>\n",
       "      <td>171090</td>\n",
       "    </tr>\n",
       "  </tbody>\n",
       "</table>\n",
       "</div>"
      ],
      "text/plain": [
       "   android_id  apptype  carrier  dev_height  dev_ppi  dev_width  label  lan  \\\n",
       "0      316361     1199      1.0         NaN      NaN        NaN    1.0  NaN   \n",
       "1      135939      893      NaN         NaN      NaN        NaN    1.0  NaN   \n",
       "2      399254      821      NaN       760.0      NaN      360.0    1.0  NaN   \n",
       "3       68983     1004      1.0      2214.0      NaN     1080.0    0.0  NaN   \n",
       "4      288999     1076      1.0      2280.0      NaN     1080.0    1.0  1.0   \n",
       "\n",
       "   media_id  ntt  osv  package      sid            timestamp  version  \\\n",
       "0       104  6.0  9.0       18  1438873  2019-06-07 15:32:01        8   \n",
       "1        19  6.0  8.0        0  1185582  2019-06-08 19:40:40        4   \n",
       "2       559  NaN  8.0        0  1555716  2019-06-06 23:59:13        0   \n",
       "3       129  2.0  8.0        0  1093419  2019-06-09 09:00:12        0   \n",
       "4        64  2.0  8.0        0  1400089  2019-06-07 08:28:13        5   \n",
       "\n",
       "       fea_hash  location   fea1_hash  cus_type        date  \\\n",
       "0  2.135019e+09         0  2329670524       601  2019-06-07   \n",
       "1  2.782306e+09         1  2864801071      1000  2019-06-08   \n",
       "2  1.392806e+09         2   628911675       696  2019-06-06   \n",
       "3  3.562553e+09         3  1283809327       753  2019-06-09   \n",
       "4  2.364522e+09         4  1510695983       582  2019-06-07   \n",
       "\n",
       "   android_id_cnt_code  apptype_cnt_code  carrier_cnt_code  lan_cnt_code  \\\n",
       "0                    1             30101          467100.0           NaN   \n",
       "1                    1             35336               NaN           NaN   \n",
       "2                    1              1976               NaN           NaN   \n",
       "3                    1             21698          467100.0           NaN   \n",
       "4                    1             52146          467100.0      410820.0   \n",
       "\n",
       "   media_id_cnt_code  ntt_cnt_code  osv_cnt_code  version_cnt_code  \\\n",
       "0              28952      151423.0      136210.0             49758   \n",
       "1              11405      151423.0      258952.0             31535   \n",
       "2                369           NaN      258952.0            380269   \n",
       "3               2737      414135.0      258952.0            380269   \n",
       "4              52135      414135.0      258952.0             73461   \n",
       "\n",
       "   location_cnt_code  cus_type_cnt_code  package_cnt_code  \n",
       "0              15158               8358             29017  \n",
       "1               7138               8374            171090  \n",
       "2               1990               8381            171090  \n",
       "3               1959               8364            171090  \n",
       "4               7268               8421            171090  "
      ]
     },
     "execution_count": 19,
     "metadata": {},
     "output_type": "execute_result"
    }
   ],
   "source": [
    "data = pd.concat([train, test1])\n",
    "\n",
    "# count编码\n",
    "for col in cate_cols: \n",
    "    print(col)\n",
    "    data[col + '_cnt_code'] = data[col].map(data[col].value_counts()) \n",
    "\n",
    "data.head()"
   ]
  },
  {
   "cell_type": "code",
   "execution_count": 20,
   "metadata": {
    "ExecuteTime": {
     "end_time": "2020-06-11T07:51:05.199669Z",
     "start_time": "2020-06-11T07:51:05.195680Z"
    }
   },
   "outputs": [
    {
     "name": "stdout",
     "output_type": "stream",
     "text": [
      "android_id_cnt_code\n",
      "apptype_cnt_code\n",
      "carrier_cnt_code\n",
      "lan_cnt_code\n",
      "media_id_cnt_code\n",
      "ntt_cnt_code\n",
      "osv_cnt_code\n",
      "version_cnt_code\n",
      "location_cnt_code\n",
      "cus_type_cnt_code\n",
      "package_cnt_code\n"
     ]
    }
   ],
   "source": [
    "for col in cate_cols: \n",
    "    print(col + '_cnt_code') "
   ]
  },
  {
   "cell_type": "code",
   "execution_count": 21,
   "metadata": {
    "ExecuteTime": {
     "end_time": "2020-06-11T07:51:05.207649Z",
     "start_time": "2020-06-11T07:51:05.200666Z"
    }
   },
   "outputs": [
    {
     "data": {
      "text/plain": [
       "149995    2019-06-08 09:22:26\n",
       "149996    2019-06-07 07:16:08\n",
       "149997    2019-06-09 08:49:17\n",
       "149998    2019-06-05 06:37:36\n",
       "149999    2019-06-08 07:22:17\n",
       "Name: timestamp, dtype: object"
      ]
     },
     "execution_count": 21,
     "metadata": {},
     "output_type": "execute_result"
    }
   ],
   "source": [
    "data['timestamp'].tail()"
   ]
  },
  {
   "cell_type": "code",
   "execution_count": 22,
   "metadata": {
    "ExecuteTime": {
     "end_time": "2020-06-11T07:51:05.375200Z",
     "start_time": "2020-06-11T07:51:05.209643Z"
    }
   },
   "outputs": [
    {
     "data": {
      "text/plain": [
       "array(['2019-06-07', '2019-06-08', '2019-06-06', '2019-06-09',\n",
       "       '2019-06-03', '2019-06-04', '2019-06-05', '2019-06-10'],\n",
       "      dtype=object)"
      ]
     },
     "execution_count": 22,
     "metadata": {},
     "output_type": "execute_result"
    }
   ],
   "source": [
    "data['date'] = data['timestamp'].apply(lambda x: x[:10])\n",
    "data['date'].unique()"
   ]
  },
  {
   "cell_type": "code",
   "execution_count": 23,
   "metadata": {
    "ExecuteTime": {
     "end_time": "2020-06-11T07:51:06.690811Z",
     "start_time": "2020-06-11T07:51:05.379188Z"
    }
   },
   "outputs": [],
   "source": [
    "data['day'] = data['timestamp'].astype('datetime64').dt.day\n",
    "data['hour'] = data['timestamp'].astype('datetime64').dt.hour\n",
    "data['dayofweek'] = data['timestamp'].astype('datetime64').dt.dayofweek"
   ]
  },
  {
   "cell_type": "code",
   "execution_count": 24,
   "metadata": {
    "ExecuteTime": {
     "end_time": "2020-06-11T07:51:06.807586Z",
     "start_time": "2020-06-11T07:51:06.692738Z"
    }
   },
   "outputs": [
    {
     "name": "stdout",
     "output_type": "stream",
     "text": [
      "date\n"
     ]
    }
   ],
   "source": [
    "lbl = LabelEncoder()\n",
    "\n",
    "for col in data.columns:\n",
    "    if col not in ['sid', 'timestamp'] and data[col].dtypes == 'O':\n",
    "        print(col)\n",
    "        data[col + '_labelencode'] = lbl.fit_transform(data[col].values)"
   ]
  },
  {
   "cell_type": "code",
   "execution_count": 25,
   "metadata": {
    "ExecuteTime": {
     "end_time": "2020-06-11T07:51:07.089366Z",
     "start_time": "2020-06-11T07:51:06.808549Z"
    }
   },
   "outputs": [
    {
     "name": "stdout",
     "output_type": "stream",
     "text": [
      "<class 'pandas.core.frame.DataFrame'>\n",
      "Int64Index: 650000 entries, 0 to 149999\n",
      "Data columns (total 35 columns):\n",
      " #   Column               Non-Null Count   Dtype  \n",
      "---  ------               --------------   -----  \n",
      " 0   android_id           650000 non-null  int32  \n",
      " 1   apptype              650000 non-null  int16  \n",
      " 2   carrier              565574 non-null  float64\n",
      " 3   dev_height           510787 non-null  float16\n",
      " 4   dev_ppi              151376 non-null  float16\n",
      " 5   dev_width            510790 non-null  float16\n",
      " 6   label                500000 non-null  float64\n",
      " 7   lan                  411171 non-null  float64\n",
      " 8   media_id             650000 non-null  int16  \n",
      " 9   ntt                  623201 non-null  float16\n",
      " 10  osv                  641446 non-null  float64\n",
      " 11  package              650000 non-null  int16  \n",
      " 12  sid                  650000 non-null  int32  \n",
      " 13  timestamp            650000 non-null  object \n",
      " 14  version              650000 non-null  int64  \n",
      " 15  fea_hash             649887 non-null  float64\n",
      " 16  location             650000 non-null  int16  \n",
      " 17  fea1_hash            650000 non-null  int64  \n",
      " 18  cus_type             650000 non-null  int16  \n",
      " 19  date                 650000 non-null  object \n",
      " 20  android_id_cnt_code  650000 non-null  int64  \n",
      " 21  apptype_cnt_code     650000 non-null  int64  \n",
      " 22  carrier_cnt_code     565574 non-null  float64\n",
      " 23  lan_cnt_code         411171 non-null  float64\n",
      " 24  media_id_cnt_code    650000 non-null  int64  \n",
      " 25  ntt_cnt_code         623201 non-null  float64\n",
      " 26  osv_cnt_code         641446 non-null  float64\n",
      " 27  version_cnt_code     650000 non-null  int64  \n",
      " 28  location_cnt_code    650000 non-null  int64  \n",
      " 29  cus_type_cnt_code    650000 non-null  int64  \n",
      " 30  package_cnt_code     650000 non-null  int64  \n",
      " 31  day                  650000 non-null  int64  \n",
      " 32  hour                 650000 non-null  int64  \n",
      " 33  dayofweek            650000 non-null  int64  \n",
      " 34  date_labelencode     650000 non-null  int32  \n",
      "dtypes: float16(4), float64(9), int16(5), int32(3), int64(12), object(2)\n",
      "memory usage: 137.6+ MB\n"
     ]
    }
   ],
   "source": [
    "data.info()"
   ]
  },
  {
   "cell_type": "code",
   "execution_count": 26,
   "metadata": {
    "ExecuteTime": {
     "end_time": "2020-06-11T07:51:07.184998Z",
     "start_time": "2020-06-11T07:51:07.090326Z"
    }
   },
   "outputs": [],
   "source": [
    "train_data = data.iloc[:train.shape[0], :]\n",
    "test1_data = data.iloc[train.shape[0]:, :]\n",
    "\n",
    "train_data_y = train_data['label']\n",
    "train_data_X = train_data.drop('label', axis=1)\n",
    "\n",
    "test1_data_y = test1_data['label']\n",
    "test1_data_X = test1_data.drop('label', axis=1)"
   ]
  },
  {
   "cell_type": "code",
   "execution_count": 27,
   "metadata": {
    "ExecuteTime": {
     "end_time": "2020-06-11T07:51:07.447874Z",
     "start_time": "2020-06-11T07:51:07.185876Z"
    }
   },
   "outputs": [],
   "source": [
    "train_data_X_train, train_data_X_val, train_data_y_train, train_data_y_val = train_test_split(train_data_X, train_data_y, random_state=2020)"
   ]
  },
  {
   "cell_type": "code",
   "execution_count": 28,
   "metadata": {
    "ExecuteTime": {
     "end_time": "2020-06-11T07:51:07.453860Z",
     "start_time": "2020-06-11T07:51:07.448872Z"
    }
   },
   "outputs": [],
   "source": [
    "train_cols = [i for i in train_data_X_train.columns if i not in ['sid'] and train_data_X_train[i].dtypes != 'O']"
   ]
  },
  {
   "cell_type": "code",
   "execution_count": 29,
   "metadata": {
    "ExecuteTime": {
     "end_time": "2020-06-11T07:51:07.518987Z",
     "start_time": "2020-06-11T07:51:07.454856Z"
    }
   },
   "outputs": [],
   "source": [
    "lgb_train = lgb.Dataset(train_data_X_train[train_cols], train_data_y_train)\n",
    "lgb_eval = lgb.Dataset(train_data_X_val[train_cols], train_data_y_val, reference=lgb_train)"
   ]
  },
  {
   "cell_type": "code",
   "execution_count": 30,
   "metadata": {
    "ExecuteTime": {
     "end_time": "2020-06-11T07:51:54.547653Z",
     "start_time": "2020-06-11T07:51:07.520534Z"
    }
   },
   "outputs": [
    {
     "name": "stdout",
     "output_type": "stream",
     "text": [
      "Start training...\n",
      "Training until validation scores don't improve for 50 rounds\n",
      "[10]\ttraining's binary_logloss: 0.515817\tvalid_1's binary_logloss: 0.516324\n",
      "[20]\ttraining's binary_logloss: 0.433963\tvalid_1's binary_logloss: 0.434739\n",
      "[30]\ttraining's binary_logloss: 0.39068\tvalid_1's binary_logloss: 0.391651\n",
      "[40]\ttraining's binary_logloss: 0.365963\tvalid_1's binary_logloss: 0.367194\n",
      "[50]\ttraining's binary_logloss: 0.351127\tvalid_1's binary_logloss: 0.352583\n",
      "[60]\ttraining's binary_logloss: 0.341306\tvalid_1's binary_logloss: 0.342993\n",
      "[70]\ttraining's binary_logloss: 0.334844\tvalid_1's binary_logloss: 0.336686\n",
      "[80]\ttraining's binary_logloss: 0.328617\tvalid_1's binary_logloss: 0.330512\n",
      "[90]\ttraining's binary_logloss: 0.324115\tvalid_1's binary_logloss: 0.326186\n",
      "[100]\ttraining's binary_logloss: 0.320958\tvalid_1's binary_logloss: 0.32317\n",
      "[110]\ttraining's binary_logloss: 0.318299\tvalid_1's binary_logloss: 0.320616\n",
      "[120]\ttraining's binary_logloss: 0.316039\tvalid_1's binary_logloss: 0.318399\n",
      "[130]\ttraining's binary_logloss: 0.314209\tvalid_1's binary_logloss: 0.316711\n",
      "[140]\ttraining's binary_logloss: 0.312686\tvalid_1's binary_logloss: 0.31538\n",
      "[150]\ttraining's binary_logloss: 0.311328\tvalid_1's binary_logloss: 0.314133\n",
      "[160]\ttraining's binary_logloss: 0.310114\tvalid_1's binary_logloss: 0.313033\n",
      "[170]\ttraining's binary_logloss: 0.309151\tvalid_1's binary_logloss: 0.312207\n",
      "[180]\ttraining's binary_logloss: 0.308022\tvalid_1's binary_logloss: 0.311246\n",
      "[190]\ttraining's binary_logloss: 0.30729\tvalid_1's binary_logloss: 0.310702\n",
      "[200]\ttraining's binary_logloss: 0.306294\tvalid_1's binary_logloss: 0.309885\n",
      "[210]\ttraining's binary_logloss: 0.30559\tvalid_1's binary_logloss: 0.309391\n",
      "[220]\ttraining's binary_logloss: 0.304832\tvalid_1's binary_logloss: 0.308815\n",
      "[230]\ttraining's binary_logloss: 0.304118\tvalid_1's binary_logloss: 0.308281\n",
      "[240]\ttraining's binary_logloss: 0.303349\tvalid_1's binary_logloss: 0.307617\n",
      "[250]\ttraining's binary_logloss: 0.302929\tvalid_1's binary_logloss: 0.307453\n",
      "[260]\ttraining's binary_logloss: 0.302389\tvalid_1's binary_logloss: 0.30717\n",
      "[270]\ttraining's binary_logloss: 0.301881\tvalid_1's binary_logloss: 0.306844\n",
      "[280]\ttraining's binary_logloss: 0.301456\tvalid_1's binary_logloss: 0.30662\n",
      "[290]\ttraining's binary_logloss: 0.300783\tvalid_1's binary_logloss: 0.306126\n",
      "[300]\ttraining's binary_logloss: 0.300211\tvalid_1's binary_logloss: 0.305733\n",
      "[310]\ttraining's binary_logloss: 0.299584\tvalid_1's binary_logloss: 0.305293\n",
      "[320]\ttraining's binary_logloss: 0.299109\tvalid_1's binary_logloss: 0.304978\n",
      "[330]\ttraining's binary_logloss: 0.298646\tvalid_1's binary_logloss: 0.304731\n",
      "[340]\ttraining's binary_logloss: 0.298161\tvalid_1's binary_logloss: 0.304449\n",
      "[350]\ttraining's binary_logloss: 0.297846\tvalid_1's binary_logloss: 0.304358\n",
      "[360]\ttraining's binary_logloss: 0.29735\tvalid_1's binary_logloss: 0.304074\n",
      "[370]\ttraining's binary_logloss: 0.297058\tvalid_1's binary_logloss: 0.303988\n",
      "[380]\ttraining's binary_logloss: 0.296691\tvalid_1's binary_logloss: 0.303812\n",
      "[390]\ttraining's binary_logloss: 0.296336\tvalid_1's binary_logloss: 0.303718\n",
      "[400]\ttraining's binary_logloss: 0.295832\tvalid_1's binary_logloss: 0.303411\n",
      "[410]\ttraining's binary_logloss: 0.295438\tvalid_1's binary_logloss: 0.303217\n",
      "[420]\ttraining's binary_logloss: 0.295059\tvalid_1's binary_logloss: 0.303004\n",
      "[430]\ttraining's binary_logloss: 0.294783\tvalid_1's binary_logloss: 0.30293\n",
      "[440]\ttraining's binary_logloss: 0.294329\tvalid_1's binary_logloss: 0.30268\n",
      "[450]\ttraining's binary_logloss: 0.294021\tvalid_1's binary_logloss: 0.302624\n",
      "[460]\ttraining's binary_logloss: 0.29371\tvalid_1's binary_logloss: 0.302566\n",
      "[470]\ttraining's binary_logloss: 0.293288\tvalid_1's binary_logloss: 0.302413\n",
      "[480]\ttraining's binary_logloss: 0.292926\tvalid_1's binary_logloss: 0.302267\n",
      "[490]\ttraining's binary_logloss: 0.292581\tvalid_1's binary_logloss: 0.30216\n",
      "[500]\ttraining's binary_logloss: 0.292281\tvalid_1's binary_logloss: 0.302099\n",
      "[510]\ttraining's binary_logloss: 0.29192\tvalid_1's binary_logloss: 0.301905\n",
      "[520]\ttraining's binary_logloss: 0.291594\tvalid_1's binary_logloss: 0.301802\n",
      "[530]\ttraining's binary_logloss: 0.29124\tvalid_1's binary_logloss: 0.301667\n",
      "[540]\ttraining's binary_logloss: 0.290847\tvalid_1's binary_logloss: 0.301462\n",
      "[550]\ttraining's binary_logloss: 0.290603\tvalid_1's binary_logloss: 0.301389\n",
      "[560]\ttraining's binary_logloss: 0.290394\tvalid_1's binary_logloss: 0.301349\n",
      "[570]\ttraining's binary_logloss: 0.289874\tvalid_1's binary_logloss: 0.301042\n",
      "[580]\ttraining's binary_logloss: 0.289618\tvalid_1's binary_logloss: 0.301007\n",
      "[590]\ttraining's binary_logloss: 0.289396\tvalid_1's binary_logloss: 0.300993\n",
      "[600]\ttraining's binary_logloss: 0.289079\tvalid_1's binary_logloss: 0.300943\n",
      "[610]\ttraining's binary_logloss: 0.28878\tvalid_1's binary_logloss: 0.300827\n",
      "[620]\ttraining's binary_logloss: 0.288496\tvalid_1's binary_logloss: 0.300758\n",
      "[630]\ttraining's binary_logloss: 0.288249\tvalid_1's binary_logloss: 0.300723\n",
      "[640]\ttraining's binary_logloss: 0.287976\tvalid_1's binary_logloss: 0.300686\n",
      "[650]\ttraining's binary_logloss: 0.287679\tvalid_1's binary_logloss: 0.300615\n",
      "[660]\ttraining's binary_logloss: 0.287285\tvalid_1's binary_logloss: 0.300485\n",
      "[670]\ttraining's binary_logloss: 0.286993\tvalid_1's binary_logloss: 0.300418\n",
      "[680]\ttraining's binary_logloss: 0.286709\tvalid_1's binary_logloss: 0.300347\n",
      "[690]\ttraining's binary_logloss: 0.286432\tvalid_1's binary_logloss: 0.300277\n",
      "[700]\ttraining's binary_logloss: 0.286135\tvalid_1's binary_logloss: 0.30023\n",
      "[710]\ttraining's binary_logloss: 0.285815\tvalid_1's binary_logloss: 0.300098\n",
      "[720]\ttraining's binary_logloss: 0.285552\tvalid_1's binary_logloss: 0.300044\n",
      "[730]\ttraining's binary_logloss: 0.285322\tvalid_1's binary_logloss: 0.30006\n",
      "[740]\ttraining's binary_logloss: 0.284962\tvalid_1's binary_logloss: 0.299906\n",
      "[750]\ttraining's binary_logloss: 0.284704\tvalid_1's binary_logloss: 0.299822\n",
      "[760]\ttraining's binary_logloss: 0.284428\tvalid_1's binary_logloss: 0.29979\n",
      "[770]\ttraining's binary_logloss: 0.284117\tvalid_1's binary_logloss: 0.299724\n",
      "[780]\ttraining's binary_logloss: 0.283845\tvalid_1's binary_logloss: 0.299723\n",
      "[790]\ttraining's binary_logloss: 0.283584\tvalid_1's binary_logloss: 0.299653\n",
      "[800]\ttraining's binary_logloss: 0.283329\tvalid_1's binary_logloss: 0.299628\n",
      "[810]\ttraining's binary_logloss: 0.283084\tvalid_1's binary_logloss: 0.299597\n",
      "[820]\ttraining's binary_logloss: 0.282823\tvalid_1's binary_logloss: 0.299521\n",
      "[830]\ttraining's binary_logloss: 0.282546\tvalid_1's binary_logloss: 0.299464\n",
      "[840]\ttraining's binary_logloss: 0.282284\tvalid_1's binary_logloss: 0.29943\n",
      "[850]\ttraining's binary_logloss: 0.282022\tvalid_1's binary_logloss: 0.299392\n",
      "[860]\ttraining's binary_logloss: 0.281785\tvalid_1's binary_logloss: 0.299364\n",
      "[870]\ttraining's binary_logloss: 0.281407\tvalid_1's binary_logloss: 0.299177\n",
      "[880]\ttraining's binary_logloss: 0.281126\tvalid_1's binary_logloss: 0.299125\n",
      "[890]\ttraining's binary_logloss: 0.280877\tvalid_1's binary_logloss: 0.299108\n",
      "[900]\ttraining's binary_logloss: 0.280618\tvalid_1's binary_logloss: 0.299084\n",
      "[910]\ttraining's binary_logloss: 0.280325\tvalid_1's binary_logloss: 0.298993\n",
      "[920]\ttraining's binary_logloss: 0.280092\tvalid_1's binary_logloss: 0.298953\n",
      "[930]\ttraining's binary_logloss: 0.279852\tvalid_1's binary_logloss: 0.298953\n",
      "[940]\ttraining's binary_logloss: 0.27958\tvalid_1's binary_logloss: 0.298903\n",
      "[950]\ttraining's binary_logloss: 0.279367\tvalid_1's binary_logloss: 0.298885\n",
      "[960]\ttraining's binary_logloss: 0.279098\tvalid_1's binary_logloss: 0.298853\n",
      "[970]\ttraining's binary_logloss: 0.278874\tvalid_1's binary_logloss: 0.298817\n",
      "[980]\ttraining's binary_logloss: 0.278603\tvalid_1's binary_logloss: 0.298795\n",
      "[990]\ttraining's binary_logloss: 0.278374\tvalid_1's binary_logloss: 0.298763\n",
      "[1000]\ttraining's binary_logloss: 0.278039\tvalid_1's binary_logloss: 0.298608\n",
      "[1010]\ttraining's binary_logloss: 0.277788\tvalid_1's binary_logloss: 0.298618\n",
      "[1020]\ttraining's binary_logloss: 0.277532\tvalid_1's binary_logloss: 0.298597\n",
      "[1030]\ttraining's binary_logloss: 0.277274\tvalid_1's binary_logloss: 0.298534\n",
      "[1040]\ttraining's binary_logloss: 0.276961\tvalid_1's binary_logloss: 0.298429\n",
      "[1050]\ttraining's binary_logloss: 0.276736\tvalid_1's binary_logloss: 0.298413\n",
      "[1060]\ttraining's binary_logloss: 0.276503\tvalid_1's binary_logloss: 0.298369\n"
     ]
    },
    {
     "name": "stdout",
     "output_type": "stream",
     "text": [
      "[1070]\ttraining's binary_logloss: 0.276311\tvalid_1's binary_logloss: 0.298376\n",
      "[1080]\ttraining's binary_logloss: 0.276135\tvalid_1's binary_logloss: 0.298375\n",
      "[1090]\ttraining's binary_logloss: 0.275906\tvalid_1's binary_logloss: 0.298366\n",
      "[1100]\ttraining's binary_logloss: 0.275705\tvalid_1's binary_logloss: 0.298349\n",
      "[1110]\ttraining's binary_logloss: 0.27546\tvalid_1's binary_logloss: 0.29828\n",
      "[1120]\ttraining's binary_logloss: 0.275212\tvalid_1's binary_logloss: 0.298237\n",
      "[1130]\ttraining's binary_logloss: 0.274933\tvalid_1's binary_logloss: 0.298195\n",
      "[1140]\ttraining's binary_logloss: 0.274702\tvalid_1's binary_logloss: 0.29817\n",
      "[1150]\ttraining's binary_logloss: 0.274437\tvalid_1's binary_logloss: 0.298143\n",
      "[1160]\ttraining's binary_logloss: 0.274183\tvalid_1's binary_logloss: 0.298065\n",
      "[1170]\ttraining's binary_logloss: 0.273993\tvalid_1's binary_logloss: 0.29807\n",
      "[1180]\ttraining's binary_logloss: 0.273771\tvalid_1's binary_logloss: 0.298066\n",
      "[1190]\ttraining's binary_logloss: 0.273535\tvalid_1's binary_logloss: 0.298044\n",
      "[1200]\ttraining's binary_logloss: 0.27334\tvalid_1's binary_logloss: 0.298044\n",
      "[1210]\ttraining's binary_logloss: 0.273118\tvalid_1's binary_logloss: 0.298039\n",
      "[1220]\ttraining's binary_logloss: 0.272889\tvalid_1's binary_logloss: 0.298036\n",
      "[1230]\ttraining's binary_logloss: 0.272667\tvalid_1's binary_logloss: 0.298004\n",
      "[1240]\ttraining's binary_logloss: 0.272398\tvalid_1's binary_logloss: 0.297921\n",
      "[1250]\ttraining's binary_logloss: 0.272174\tvalid_1's binary_logloss: 0.297914\n",
      "[1260]\ttraining's binary_logloss: 0.271929\tvalid_1's binary_logloss: 0.297916\n",
      "[1270]\ttraining's binary_logloss: 0.271707\tvalid_1's binary_logloss: 0.297868\n",
      "[1280]\ttraining's binary_logloss: 0.271541\tvalid_1's binary_logloss: 0.297876\n",
      "[1290]\ttraining's binary_logloss: 0.271328\tvalid_1's binary_logloss: 0.297873\n",
      "[1300]\ttraining's binary_logloss: 0.271117\tvalid_1's binary_logloss: 0.297835\n",
      "[1310]\ttraining's binary_logloss: 0.270891\tvalid_1's binary_logloss: 0.297848\n",
      "[1320]\ttraining's binary_logloss: 0.270694\tvalid_1's binary_logloss: 0.297853\n",
      "[1330]\ttraining's binary_logloss: 0.27052\tvalid_1's binary_logloss: 0.297833\n",
      "[1340]\ttraining's binary_logloss: 0.270347\tvalid_1's binary_logloss: 0.297833\n",
      "[1350]\ttraining's binary_logloss: 0.270138\tvalid_1's binary_logloss: 0.297829\n",
      "[1360]\ttraining's binary_logloss: 0.269955\tvalid_1's binary_logloss: 0.297824\n",
      "[1370]\ttraining's binary_logloss: 0.269712\tvalid_1's binary_logloss: 0.297755\n",
      "[1380]\ttraining's binary_logloss: 0.269539\tvalid_1's binary_logloss: 0.297746\n",
      "[1390]\ttraining's binary_logloss: 0.269299\tvalid_1's binary_logloss: 0.297748\n",
      "[1400]\ttraining's binary_logloss: 0.269079\tvalid_1's binary_logloss: 0.297717\n",
      "[1410]\ttraining's binary_logloss: 0.268883\tvalid_1's binary_logloss: 0.297698\n",
      "[1420]\ttraining's binary_logloss: 0.268733\tvalid_1's binary_logloss: 0.297715\n",
      "[1430]\ttraining's binary_logloss: 0.268501\tvalid_1's binary_logloss: 0.297688\n",
      "[1440]\ttraining's binary_logloss: 0.268311\tvalid_1's binary_logloss: 0.297688\n",
      "[1450]\ttraining's binary_logloss: 0.268105\tvalid_1's binary_logloss: 0.297701\n",
      "[1460]\ttraining's binary_logloss: 0.267885\tvalid_1's binary_logloss: 0.297698\n",
      "[1470]\ttraining's binary_logloss: 0.267676\tvalid_1's binary_logloss: 0.297694\n",
      "[1480]\ttraining's binary_logloss: 0.267452\tvalid_1's binary_logloss: 0.297672\n",
      "[1490]\ttraining's binary_logloss: 0.267206\tvalid_1's binary_logloss: 0.297604\n",
      "[1500]\ttraining's binary_logloss: 0.267021\tvalid_1's binary_logloss: 0.29761\n",
      "[1510]\ttraining's binary_logloss: 0.266802\tvalid_1's binary_logloss: 0.297595\n",
      "[1520]\ttraining's binary_logloss: 0.266577\tvalid_1's binary_logloss: 0.297562\n",
      "[1530]\ttraining's binary_logloss: 0.266373\tvalid_1's binary_logloss: 0.297565\n",
      "[1540]\ttraining's binary_logloss: 0.266141\tvalid_1's binary_logloss: 0.297524\n",
      "[1550]\ttraining's binary_logloss: 0.265923\tvalid_1's binary_logloss: 0.297478\n",
      "[1560]\ttraining's binary_logloss: 0.265723\tvalid_1's binary_logloss: 0.297487\n",
      "[1570]\ttraining's binary_logloss: 0.265522\tvalid_1's binary_logloss: 0.297485\n",
      "[1580]\ttraining's binary_logloss: 0.265321\tvalid_1's binary_logloss: 0.297481\n",
      "[1590]\ttraining's binary_logloss: 0.265127\tvalid_1's binary_logloss: 0.297497\n",
      "Early stopping, best iteration is:\n",
      "[1549]\ttraining's binary_logloss: 0.265944\tvalid_1's binary_logloss: 0.297473\n"
     ]
    }
   ],
   "source": [
    "params = {'task': 'train',\n",
    "          'boosting_type': 'gbdt',\n",
    "          'objective': 'binary',\n",
    "          'metric': {'binary_logloss'},\n",
    "          'num_leaves': 31,\n",
    "          'learning_rate': 0.05,\n",
    "          'feature_fraction': 0.95,\n",
    "          'bagging_fraction': 0.85,\n",
    "          'bagging_freq': 5, \n",
    "          'min_data_in_leaf':15}\n",
    "\n",
    "print('Start training...')\n",
    "\n",
    "gbm_val_1 = lgb.train(params,\n",
    "                      lgb_train,\n",
    "                      num_boost_round=2000,\n",
    "                      valid_sets=[lgb_train, lgb_eval],\n",
    "                      early_stopping_rounds=50,\n",
    "                      verbose_eval=10)"
   ]
  },
  {
   "cell_type": "code",
   "execution_count": 31,
   "metadata": {
    "ExecuteTime": {
     "end_time": "2020-06-11T07:51:57.749153Z",
     "start_time": "2020-06-11T07:51:54.550646Z"
    }
   },
   "outputs": [
    {
     "name": "stdout",
     "output_type": "stream",
     "text": [
      "acc:  0.8867\n",
      "auc:  0.9419829054555622\n"
     ]
    }
   ],
   "source": [
    "train_data_X_val['prob'] = gbm_val_1.predict(train_data_X_val[train_cols])\n",
    "train_data_X_val['pred'] = np.where(train_data_X_val['prob'] > 0.5, 1, 0)\n",
    "\n",
    "acc = np.round(accuracy_score(train_data_y_val, train_data_X_val['pred']), 4)\n",
    "auc = roc_auc_score(train_data_y_val, train_data_X_val['prob'])\n",
    "\n",
    "print('acc: ', acc)\n",
    "print('auc: ', auc)"
   ]
  },
  {
   "cell_type": "code",
   "execution_count": 32,
   "metadata": {
    "ExecuteTime": {
     "end_time": "2020-06-11T07:52:41.281080Z",
     "start_time": "2020-06-11T07:51:57.751149Z"
    }
   },
   "outputs": [
    {
     "name": "stdout",
     "output_type": "stream",
     "text": [
      "Start training...\n",
      "Done\n"
     ]
    }
   ],
   "source": [
    "lgb_train = lgb.Dataset(train_data_X[train_cols], train_data_y)   \n",
    "\n",
    "print('Start training...')\n",
    "\n",
    "gbm_1  = lgb.train(params,\n",
    "                   lgb_train,\n",
    "                   num_boost_round=gbm_val_1.best_iteration + 20,\n",
    "                   verbose_eval=10)\n",
    "print('Done')"
   ]
  },
  {
   "cell_type": "code",
   "execution_count": 33,
   "metadata": {
    "ExecuteTime": {
     "end_time": "2020-06-11T07:52:45.275486Z",
     "start_time": "2020-06-11T07:52:41.284074Z"
    }
   },
   "outputs": [],
   "source": [
    "test1['label'] = np.where(gbm_1.predict(test1_data_X[train_cols]) > 0.5, 1, 0)\n",
    "\n",
    "test1[['sid', 'label']].to_csv('../sub/sub_{}_{}.csv'.format(time.strftime('%Y%m%d'), acc), index=False)"
   ]
  },
  {
   "cell_type": "code",
   "execution_count": null,
   "metadata": {},
   "outputs": [],
   "source": []
  }
 ],
 "metadata": {
  "kernelspec": {
   "display_name": "Python 3",
   "language": "python",
   "name": "python3"
  },
  "language_info": {
   "codemirror_mode": {
    "name": "ipython",
    "version": 3
   },
   "file_extension": ".py",
   "mimetype": "text/x-python",
   "name": "python",
   "nbconvert_exporter": "python",
   "pygments_lexer": "ipython3",
   "version": "3.7.3"
  },
  "toc": {
   "base_numbering": 1,
   "nav_menu": {},
   "number_sections": true,
   "sideBar": true,
   "skip_h1_title": false,
   "title_cell": "Table of Contents",
   "title_sidebar": "Contents",
   "toc_cell": false,
   "toc_position": {},
   "toc_section_display": true,
   "toc_window_display": false
  },
  "varInspector": {
   "cols": {
    "lenName": 16,
    "lenType": 16,
    "lenVar": 40
   },
   "kernels_config": {
    "python": {
     "delete_cmd_postfix": "",
     "delete_cmd_prefix": "del ",
     "library": "var_list.py",
     "varRefreshCmd": "print(var_dic_list())"
    },
    "r": {
     "delete_cmd_postfix": ") ",
     "delete_cmd_prefix": "rm(",
     "library": "var_list.r",
     "varRefreshCmd": "cat(var_dic_list()) "
    }
   },
   "types_to_exclude": [
    "module",
    "function",
    "builtin_function_or_method",
    "instance",
    "_Feature"
   ],
   "window_display": false
  }
 },
 "nbformat": 4,
 "nbformat_minor": 4
}
