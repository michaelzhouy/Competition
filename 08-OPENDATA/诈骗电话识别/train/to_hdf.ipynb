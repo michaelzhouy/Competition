{
 "cells": [
  {
   "cell_type": "code",
   "execution_count": 1,
   "metadata": {
    "ExecuteTime": {
     "end_time": "2020-06-08T15:08:04.633898Z",
     "start_time": "2020-06-08T15:08:03.648601Z"
    }
   },
   "outputs": [],
   "source": [
    "import numpy as np\n",
    "import pandas as pd"
   ]
  },
  {
   "cell_type": "code",
   "execution_count": 2,
   "metadata": {
    "ExecuteTime": {
     "end_time": "2020-06-08T15:08:04.656845Z",
     "start_time": "2020-06-08T15:08:04.636858Z"
    }
   },
   "outputs": [],
   "source": [
    "# 节省内存读文件\n",
    "def reduce_mem_usage(df):\n",
    "    \"\"\"\n",
    "    iterate through all the columns of a dataframe and modify the data type to reduce memory usage.\n",
    "    @param df:\n",
    "    @return:\n",
    "    \"\"\"\n",
    "    start_mem = df.memory_usage().sum()\n",
    "    print('Memory usage of dataframe is {:.2f} MB'.format(start_mem))\n",
    "\n",
    "    for col in df.columns:\n",
    "        col_type = df[col].dtype\n",
    "\n",
    "        if col_type != object:\n",
    "            c_min = df[col].min()\n",
    "            c_max = df[col].max()\n",
    "            if str(col_type)[:3] == 'int':\n",
    "                if c_min > np.iinfo(np.int8).min and c_max < np.iinfo(np.int8).max:\n",
    "                    df[col] = df[col].astype(np.int8)\n",
    "                elif c_min > np.iinfo(np.int16).min and c_max < np.iinfo(np.int16).max:\n",
    "                    df[col] = df[col].astype(np.int16)\n",
    "                elif c_min > np.iinfo(np.int32).min and c_max < np.iinfo(np.int32).max:\n",
    "                    df[col] = df[col].astype(np.int32)\n",
    "                elif c_min > np.iinfo(np.int64).min and c_max < np.iinfo(np.int64).max:\n",
    "                    df[col] = df[col].astype(np.int64)\n",
    "            else:\n",
    "                if c_min > np.finfo(np.float16).min and c_max < np.finfo(np.float16).max:\n",
    "                    df[col] = df[col].astype(np.float16)\n",
    "                elif c_min > np.finfo(np.float32).min and c_max < np.finfo(np.float32).max:\n",
    "                    df[col] = df[col].astype(np.float32)\n",
    "                else:\n",
    "                    df[col] = df[col].astype(np.float64)\n",
    "        else:\n",
    "            df[col] = df[col].astype('str')\n",
    "\n",
    "    end_mem = df.memory_usage().sum()\n",
    "    print('Memory usage after optimization is: {:.2f} MB'.format(end_mem))\n",
    "    print('Decreased by {:.1f}%'.format(100 * (start_mem - end_mem) / start_mem))\n",
    "    return df"
   ]
  },
  {
   "cell_type": "markdown",
   "metadata": {},
   "source": [
    "### 用户表"
   ]
  },
  {
   "cell_type": "code",
   "execution_count": 3,
   "metadata": {
    "ExecuteTime": {
     "end_time": "2020-06-08T15:08:04.779244Z",
     "start_time": "2020-06-08T15:08:04.662844Z"
    }
   },
   "outputs": [
    {
     "name": "stdout",
     "output_type": "stream",
     "text": [
      "Memory usage of dataframe is 635104.00 MB\n",
      "Memory usage after optimization is: 256532.00 MB\n",
      "Decreased by 59.6%\n",
      "Memory usage of dataframe is 81880.00 MB\n",
      "Memory usage after optimization is: 55295.00 MB\n",
      "Decreased by 32.5%\n"
     ]
    }
   ],
   "source": [
    "train_user = reduce_mem_usage(pd.read_csv('../input/train/train_user.csv'))\n",
    "test_user = reduce_mem_usage(pd.read_csv('../input/test/test_user.csv'))"
   ]
  },
  {
   "cell_type": "code",
   "execution_count": 4,
   "metadata": {
    "ExecuteTime": {
     "end_time": "2020-06-08T15:08:05.251035Z",
     "start_time": "2020-06-08T15:08:04.782245Z"
    }
   },
   "outputs": [
    {
     "data": {
      "text/plain": [
       "<matplotlib.axes._subplots.AxesSubplot at 0x217cfb98c88>"
      ]
     },
     "execution_count": 4,
     "metadata": {},
     "output_type": "execute_result"
    }
   ],
   "source": [
    "train_user.label.value_counts().plot.pie()"
   ]
  },
  {
   "cell_type": "code",
   "execution_count": 5,
   "metadata": {
    "ExecuteTime": {
     "end_time": "2020-06-08T15:08:05.264026Z",
     "start_time": "2020-06-08T15:08:05.253032Z"
    }
   },
   "outputs": [
    {
     "data": {
      "text/plain": [
       "0.321323288568621"
      ]
     },
     "execution_count": 5,
     "metadata": {},
     "output_type": "execute_result"
    }
   ],
   "source": [
    "train_user['label'].mean()"
   ]
  },
  {
   "cell_type": "code",
   "execution_count": 6,
   "metadata": {
    "ExecuteTime": {
     "end_time": "2020-06-08T15:08:05.283015Z",
     "start_time": "2020-06-08T15:08:05.273024Z"
    }
   },
   "outputs": [
    {
     "data": {
      "text/plain": [
       "((6106, 13), (2045, 5))"
      ]
     },
     "execution_count": 6,
     "metadata": {},
     "output_type": "execute_result"
    }
   ],
   "source": [
    "train_user.shape, test_user.shape"
   ]
  },
  {
   "cell_type": "code",
   "execution_count": 7,
   "metadata": {
    "ExecuteTime": {
     "end_time": "2020-06-08T15:08:05.306002Z",
     "start_time": "2020-06-08T15:08:05.291012Z"
    }
   },
   "outputs": [],
   "source": [
    "# 训练集只取最后一个月的数据\n",
    "train_user['arpu_202004'] = train_user['arpu_202003']\n",
    "\n",
    "train_user.drop(['arpu_201908', 'arpu_201909', 'arpu_201910', 'arpu_201911',\n",
    "                 'arpu_201912', 'arpu_202001', 'arpu_202002', 'arpu_202003'],\n",
    "                axis=1,\n",
    "                inplace=True)"
   ]
  },
  {
   "cell_type": "code",
   "execution_count": 8,
   "metadata": {
    "ExecuteTime": {
     "end_time": "2020-06-08T15:08:05.321993Z",
     "start_time": "2020-06-08T15:08:05.311997Z"
    }
   },
   "outputs": [
    {
     "data": {
      "text/plain": [
       "((6106, 6), (2045, 5))"
      ]
     },
     "execution_count": 8,
     "metadata": {},
     "output_type": "execute_result"
    }
   ],
   "source": [
    "train_user.shape, test_user.shape"
   ]
  },
  {
   "cell_type": "code",
   "execution_count": 9,
   "metadata": {
    "ExecuteTime": {
     "end_time": "2020-06-08T15:08:05.359970Z",
     "start_time": "2020-06-08T15:08:05.325992Z"
    }
   },
   "outputs": [
    {
     "data": {
      "text/plain": [
       "phone_no_m     6106\n",
       "arpu_202004    2200\n",
       "county_name     182\n",
       "city_name        23\n",
       "idcard_cnt       11\n",
       "label             2\n",
       "dtype: int64"
      ]
     },
     "execution_count": 9,
     "metadata": {},
     "output_type": "execute_result"
    }
   ],
   "source": [
    "train_user.nunique().sort_values(ascending=False)"
   ]
  },
  {
   "cell_type": "code",
   "execution_count": 10,
   "metadata": {
    "ExecuteTime": {
     "end_time": "2020-06-08T15:08:06.050320Z",
     "start_time": "2020-06-08T15:08:05.362970Z"
    }
   },
   "outputs": [],
   "source": [
    "train_user.to_hdf('../input/train_user.h5', 'df')\n",
    "test_user.to_hdf('../input/test_user.h5', 'df')"
   ]
  },
  {
   "cell_type": "markdown",
   "metadata": {},
   "source": [
    "### 通话表"
   ]
  },
  {
   "cell_type": "code",
   "execution_count": 11,
   "metadata": {
    "ExecuteTime": {
     "end_time": "2020-06-08T15:08:38.907770Z",
     "start_time": "2020-06-08T15:08:06.052309Z"
    }
   },
   "outputs": [
    {
     "name": "stderr",
     "output_type": "stream",
     "text": [
      "C:\\Users\\z\\Anaconda3\\lib\\site-packages\\IPython\\core\\interactiveshell.py:3057: DtypeWarning: Columns (5,6) have mixed types. Specify dtype option on import or set low_memory=False.\n",
      "  interactivity=interactivity, compiler=compiler, result=result)\n"
     ]
    },
    {
     "name": "stdout",
     "output_type": "stream",
     "text": [
      "Memory usage of dataframe is 320987600.00 MB\n",
      "Memory usage after optimization is: 255787010.00 MB\n",
      "Decreased by 20.3%\n",
      "Memory usage of dataframe is 17697488.00 MB\n",
      "Memory usage after optimization is: 14102702.00 MB\n",
      "Decreased by 20.3%\n"
     ]
    }
   ],
   "source": [
    "train_voc = reduce_mem_usage(pd.read_csv('../input/train/train_voc.csv'))\n",
    "test_voc = reduce_mem_usage(pd.read_csv('../input/test/test_voc.csv'))"
   ]
  },
  {
   "cell_type": "code",
   "execution_count": 12,
   "metadata": {
    "ExecuteTime": {
     "end_time": "2020-06-08T15:08:39.613000Z",
     "start_time": "2020-06-08T15:08:38.913767Z"
    }
   },
   "outputs": [],
   "source": [
    "# 只取最后一个月的数据\n",
    "train_voc = train_voc[train_voc['start_datetime'] >= '2020-03-01 00:00:00']"
   ]
  },
  {
   "cell_type": "code",
   "execution_count": 13,
   "metadata": {
    "ExecuteTime": {
     "end_time": "2020-06-08T15:08:39.623994Z",
     "start_time": "2020-06-08T15:08:39.614999Z"
    }
   },
   "outputs": [
    {
     "data": {
      "text/plain": [
       "((709144, 8), (276522, 8))"
      ]
     },
     "execution_count": 13,
     "metadata": {},
     "output_type": "execute_result"
    }
   ],
   "source": [
    "train_voc.shape, test_voc.shape"
   ]
  },
  {
   "cell_type": "code",
   "execution_count": 14,
   "metadata": {
    "ExecuteTime": {
     "end_time": "2020-06-08T15:08:41.065937Z",
     "start_time": "2020-06-08T15:08:39.626993Z"
    }
   },
   "outputs": [
    {
     "data": {
      "text/plain": [
       "start_datetime    561615\n",
       "opposite_no_m     281103\n",
       "imei_m              6025\n",
       "phone_no_m          4823\n",
       "call_dur            2653\n",
       "county_name          193\n",
       "city_name             22\n",
       "calltype_id            3\n",
       "dtype: int64"
      ]
     },
     "execution_count": 14,
     "metadata": {},
     "output_type": "execute_result"
    }
   ],
   "source": [
    "train_voc.nunique().sort_values(ascending=False)"
   ]
  },
  {
   "cell_type": "code",
   "execution_count": 15,
   "metadata": {
    "ExecuteTime": {
     "end_time": "2020-06-08T15:08:43.146278Z",
     "start_time": "2020-06-08T15:08:41.068934Z"
    }
   },
   "outputs": [],
   "source": [
    "train_voc.to_hdf('../input/train_voc.h5', 'df')\n",
    "test_voc.to_hdf('../input/test_voc.h5', 'df')"
   ]
  },
  {
   "cell_type": "markdown",
   "metadata": {},
   "source": [
    "### 短信表"
   ]
  },
  {
   "cell_type": "code",
   "execution_count": 16,
   "metadata": {
    "ExecuteTime": {
     "end_time": "2020-06-08T15:09:05.744077Z",
     "start_time": "2020-06-08T15:08:43.151278Z"
    }
   },
   "outputs": [
    {
     "name": "stdout",
     "output_type": "stream",
     "text": [
      "Memory usage of dataframe is 219152368.00 MB\n",
      "Memory usage after optimization is: 171212805.00 MB\n",
      "Decreased by 21.9%\n",
      "Memory usage of dataframe is 13084880.00 MB\n",
      "Memory usage after optimization is: 10222580.00 MB\n",
      "Decreased by 21.9%\n"
     ]
    }
   ],
   "source": [
    "train_sms = reduce_mem_usage(pd.read_csv('../input/train/train_sms.csv'))\n",
    "test_sms = reduce_mem_usage(pd.read_csv('../input/test/test_sms.csv'))"
   ]
  },
  {
   "cell_type": "code",
   "execution_count": 17,
   "metadata": {
    "ExecuteTime": {
     "end_time": "2020-06-08T15:09:06.511638Z",
     "start_time": "2020-06-08T15:09:05.746076Z"
    }
   },
   "outputs": [],
   "source": [
    "train_sms = train_sms[train_sms['request_datetime'] >= '2020-03-01 00:00:00']"
   ]
  },
  {
   "cell_type": "code",
   "execution_count": 18,
   "metadata": {
    "ExecuteTime": {
     "end_time": "2020-06-08T15:09:06.521635Z",
     "start_time": "2020-06-08T15:09:06.513638Z"
    }
   },
   "outputs": [
    {
     "data": {
      "text/plain": [
       "((910606, 4), (408900, 4))"
      ]
     },
     "execution_count": 18,
     "metadata": {},
     "output_type": "execute_result"
    }
   ],
   "source": [
    "train_sms.shape, test_sms.shape"
   ]
  },
  {
   "cell_type": "code",
   "execution_count": 19,
   "metadata": {
    "ExecuteTime": {
     "end_time": "2020-06-08T15:09:07.545090Z",
     "start_time": "2020-06-08T15:09:06.524633Z"
    }
   },
   "outputs": [
    {
     "data": {
      "text/plain": [
       "request_datetime    496383\n",
       "opposite_no_m       104792\n",
       "phone_no_m            4867\n",
       "calltype_id              2\n",
       "dtype: int64"
      ]
     },
     "execution_count": 19,
     "metadata": {},
     "output_type": "execute_result"
    }
   ],
   "source": [
    "train_sms.nunique().sort_values(ascending=False)"
   ]
  },
  {
   "cell_type": "code",
   "execution_count": 20,
   "metadata": {
    "ExecuteTime": {
     "end_time": "2020-06-08T15:09:08.005872Z",
     "start_time": "2020-06-08T15:09:07.547089Z"
    }
   },
   "outputs": [
    {
     "data": {
      "text/plain": [
       "request_datetime    262492\n",
       "opposite_no_m        96779\n",
       "phone_no_m            2008\n",
       "calltype_id              2\n",
       "dtype: int64"
      ]
     },
     "execution_count": 20,
     "metadata": {},
     "output_type": "execute_result"
    }
   ],
   "source": [
    "test_sms.nunique().sort_values(ascending=False)"
   ]
  },
  {
   "cell_type": "code",
   "execution_count": 21,
   "metadata": {
    "ExecuteTime": {
     "end_time": "2020-06-08T15:09:09.421568Z",
     "start_time": "2020-06-08T15:09:08.008871Z"
    }
   },
   "outputs": [],
   "source": [
    "train_sms.to_hdf('../input/train_sms.h5', 'df')\n",
    "test_sms.to_hdf('../input/test_sms.h5', 'df')"
   ]
  },
  {
   "cell_type": "markdown",
   "metadata": {},
   "source": [
    "### 应用表"
   ]
  },
  {
   "cell_type": "code",
   "execution_count": 22,
   "metadata": {
    "ExecuteTime": {
     "end_time": "2020-06-08T15:09:15.576394Z",
     "start_time": "2020-06-08T15:09:09.430561Z"
    }
   },
   "outputs": [
    {
     "name": "stdout",
     "output_type": "stream",
     "text": [
      "Memory usage of dataframe is 105075344.00 MB\n",
      "Memory usage after optimization is: 91940936.00 MB\n",
      "Decreased by 12.5%\n",
      "Memory usage of dataframe is 4142576.00 MB\n",
      "Memory usage after optimization is: 3365858.00 MB\n",
      "Decreased by 18.7%\n"
     ]
    }
   ],
   "source": [
    "train_app = reduce_mem_usage(pd.read_csv('../input/train/train_app.csv'))\n",
    "test_app = reduce_mem_usage(pd.read_csv('../input/test/test_app.csv'))"
   ]
  },
  {
   "cell_type": "code",
   "execution_count": 23,
   "metadata": {
    "ExecuteTime": {
     "end_time": "2020-06-08T15:09:15.917849Z",
     "start_time": "2020-06-08T15:09:15.581374Z"
    }
   },
   "outputs": [],
   "source": [
    "train_app = train_app[train_app['month_id'] == '2020-03']"
   ]
  },
  {
   "cell_type": "code",
   "execution_count": 24,
   "metadata": {
    "ExecuteTime": {
     "end_time": "2020-06-08T15:09:15.927827Z",
     "start_time": "2020-06-08T15:09:15.919830Z"
    }
   },
   "outputs": [
    {
     "data": {
      "text/plain": [
       "((382647, 4), (129453, 4))"
      ]
     },
     "execution_count": 24,
     "metadata": {},
     "output_type": "execute_result"
    }
   ],
   "source": [
    "train_app.shape, test_app.shape"
   ]
  },
  {
   "cell_type": "code",
   "execution_count": 25,
   "metadata": {
    "ExecuteTime": {
     "end_time": "2020-06-08T15:32:10.132065Z",
     "start_time": "2020-06-08T15:09:15.930826Z"
    }
   },
   "outputs": [
    {
     "data": {
      "text/plain": [
       "flow          281286\n",
       "phone_no_m      4006\n",
       "busi_name       3255\n",
       "month_id           1\n",
       "dtype: int64"
      ]
     },
     "execution_count": 25,
     "metadata": {},
     "output_type": "execute_result"
    }
   ],
   "source": [
    "train_app.nunique().sort_values(ascending=False)"
   ]
  },
  {
   "cell_type": "code",
   "execution_count": 26,
   "metadata": {
    "ExecuteTime": {
     "end_time": "2020-06-08T15:32:30.172435Z",
     "start_time": "2020-06-08T15:32:10.150054Z"
    }
   },
   "outputs": [
    {
     "data": {
      "text/plain": [
       "flow          21057\n",
       "busi_name      2465\n",
       "phone_no_m     2045\n",
       "month_id          2\n",
       "dtype: int64"
      ]
     },
     "execution_count": 26,
     "metadata": {},
     "output_type": "execute_result"
    }
   ],
   "source": [
    "test_app.nunique().sort_values(ascending=False)"
   ]
  },
  {
   "cell_type": "code",
   "execution_count": 27,
   "metadata": {
    "ExecuteTime": {
     "end_time": "2020-06-08T15:32:30.574940Z",
     "start_time": "2020-06-08T15:32:30.175434Z"
    }
   },
   "outputs": [],
   "source": [
    "train_app.to_hdf('../input/train_app.h5', 'df')\n",
    "test_app.to_hdf('../input/test_app.h5', 'df')"
   ]
  }
 ],
 "metadata": {
  "kernelspec": {
   "display_name": "Python 3",
   "language": "python",
   "name": "python3"
  },
  "language_info": {
   "codemirror_mode": {
    "name": "ipython",
    "version": 3
   },
   "file_extension": ".py",
   "mimetype": "text/x-python",
   "name": "python",
   "nbconvert_exporter": "python",
   "pygments_lexer": "ipython3",
   "version": "3.7.3"
  },
  "toc": {
   "base_numbering": 1,
   "nav_menu": {},
   "number_sections": true,
   "sideBar": true,
   "skip_h1_title": false,
   "title_cell": "Table of Contents",
   "title_sidebar": "Contents",
   "toc_cell": false,
   "toc_position": {},
   "toc_section_display": true,
   "toc_window_display": false
  },
  "varInspector": {
   "cols": {
    "lenName": 16,
    "lenType": 16,
    "lenVar": 40
   },
   "kernels_config": {
    "python": {
     "delete_cmd_postfix": "",
     "delete_cmd_prefix": "del ",
     "library": "var_list.py",
     "varRefreshCmd": "print(var_dic_list())"
    },
    "r": {
     "delete_cmd_postfix": ") ",
     "delete_cmd_prefix": "rm(",
     "library": "var_list.r",
     "varRefreshCmd": "cat(var_dic_list()) "
    }
   },
   "types_to_exclude": [
    "module",
    "function",
    "builtin_function_or_method",
    "instance",
    "_Feature"
   ],
   "window_display": false
  }
 },
 "nbformat": 4,
 "nbformat_minor": 4
}
