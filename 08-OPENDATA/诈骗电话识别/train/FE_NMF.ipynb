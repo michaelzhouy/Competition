{
 "cells": [
  {
   "cell_type": "code",
   "execution_count": 1,
   "metadata": {
    "ExecuteTime": {
     "end_time": "2020-06-22T14:43:28.557921Z",
     "start_time": "2020-06-22T14:43:24.747726Z"
    }
   },
   "outputs": [
    {
     "name": "stderr",
     "output_type": "stream",
     "text": [
      "C:\\Users\\z\\Anaconda3\\lib\\site-packages\\statsmodels\\tools\\_testing.py:19: FutureWarning: pandas.util.testing is deprecated. Use the functions in the public API at pandas.testing instead.\n",
      "  import pandas.util.testing as tm\n"
     ]
    }
   ],
   "source": [
    "import time\n",
    "import numpy as np\n",
    "import pandas as pd\n",
    "import matplotlib.pyplot as plt\n",
    "import seaborn as sns\n",
    "import lightgbm as lgb\n",
    "import gc\n",
    "import warnings\n",
    "from tqdm import tqdm\n",
    "from sklearn.metrics import f1_score, roc_auc_score\n",
    "from sklearn.model_selection import train_test_split\n",
    "from sklearn.model_selection import StratifiedKFold, KFold\n",
    "from itertools import product\n",
    "from mlxtend.feature_selection import SequentialFeatureSelector\n",
    "from sklearn.preprocessing import LabelEncoder\n",
    "from scipy import stats\n",
    "from feature_selector import FeatureSelector\n",
    "from sklearn.decomposition import NMF\n",
    "\n",
    "warnings.filterwarnings('ignore')\n",
    "\n",
    "pd.set_option('display.unicode.ambiguous_as_wide', True)\n",
    "pd.set_option('display.unicode.east_asian_width', True)\n",
    "pd.set_option('display.max_columns', None)\n",
    "pd.set_option('display.max_rows', None)\n",
    "pd.set_option(\"display.max_colwidth\", 100)\n",
    "pd.set_option('display.width', 1000)"
   ]
  },
  {
   "cell_type": "code",
   "execution_count": 2,
   "metadata": {
    "ExecuteTime": {
     "end_time": "2020-06-22T14:43:28.577776Z",
     "start_time": "2020-06-22T14:43:28.557921Z"
    }
   },
   "outputs": [],
   "source": [
    "# 节省内存读文件\n",
    "def reduce_mem_usage(df):\n",
    "    \"\"\"\n",
    "    iterate through all the columns of a dataframe and modify the data type to reduce memory usage.\n",
    "    @param df:\n",
    "    @return:\n",
    "    \"\"\"\n",
    "    start_mem = df.memory_usage().sum()\n",
    "    print('Memory usage of dataframe is {:.2f} MB'.format(start_mem))\n",
    "\n",
    "    for col in df.columns:\n",
    "        col_type = df[col].dtype\n",
    "\n",
    "        if col_type != object:\n",
    "            c_min = df[col].min()\n",
    "            c_max = df[col].max()\n",
    "            if str(col_type)[:3] == 'int':\n",
    "                if c_min > np.iinfo(np.int8).min and c_max < np.iinfo(np.int8).max:\n",
    "                    df[col] = df[col].astype(np.int8)\n",
    "                elif c_min > np.iinfo(np.int16).min and c_max < np.iinfo(np.int16).max:\n",
    "                    df[col] = df[col].astype(np.int16)\n",
    "                elif c_min > np.iinfo(np.int32).min and c_max < np.iinfo(np.int32).max:\n",
    "                    df[col] = df[col].astype(np.int32)\n",
    "                elif c_min > np.iinfo(np.int64).min and c_max < np.iinfo(np.int64).max:\n",
    "                    df[col] = df[col].astype(np.int64)\n",
    "            else:\n",
    "                if c_min > np.finfo(np.float16).min and c_max < np.finfo(np.float16).max:\n",
    "                    df[col] = df[col].astype(np.float16)\n",
    "                elif c_min > np.finfo(np.float32).min and c_max < np.finfo(np.float32).max:\n",
    "                    df[col] = df[col].astype(np.float32)\n",
    "                else:\n",
    "                    df[col] = df[col].astype(np.float64)\n",
    "        else:\n",
    "            df[col] = df[col].astype('str')\n",
    "\n",
    "    end_mem = df.memory_usage().sum()\n",
    "    print('Memory usage after optimization is: {:.2f} MB'.format(end_mem))\n",
    "    print('Decreased by {:.1f}%'.format(100 * (start_mem - end_mem) / start_mem))\n",
    "    return df"
   ]
  },
  {
   "cell_type": "code",
   "execution_count": 3,
   "metadata": {
    "ExecuteTime": {
     "end_time": "2020-06-22T14:43:28.625746Z",
     "start_time": "2020-06-22T14:43:28.581770Z"
    }
   },
   "outputs": [],
   "source": [
    "class MeanEncoder:\n",
    "    def __init__(self, categorical_features, n_splits=10, target_type='classification', prior_weight_func=None):\n",
    "        \"\"\"\n",
    "        :param categorical_features: list of str, the name of the categorical columns to encode\n",
    " \n",
    "        :param n_splits: the number of splits used in mean encoding\n",
    " \n",
    "        :param target_type: str, 'regression' or 'classification'\n",
    " \n",
    "        :param prior_weight_func:\n",
    "        a function that takes in the number of observations, and outputs prior weight\n",
    "        when a dict is passed, the default exponential decay function will be used:\n",
    "        k: the number of observations needed for the posterior to be weighted equally as the prior\n",
    "        f: larger f --> smaller slope\n",
    "        \"\"\"\n",
    " \n",
    "        self.categorical_features = categorical_features\n",
    "        self.n_splits = n_splits\n",
    "        self.learned_stats = {}\n",
    " \n",
    "        if target_type == 'classification':\n",
    "            self.target_type = target_type\n",
    "            self.target_values = []\n",
    "        else:\n",
    "            self.target_type = 'regression'\n",
    "            self.target_values = None\n",
    " \n",
    "        if isinstance(prior_weight_func, dict):\n",
    "            self.prior_weight_func = eval('lambda x: 1 / (1 + np.exp((x - k) / f))', dict(prior_weight_func, np=np))\n",
    "        elif callable(prior_weight_func):\n",
    "            self.prior_weight_func = prior_weight_func\n",
    "        else:\n",
    "            self.prior_weight_func = lambda x: 1 / (1 + np.exp((x - 2) / 1))\n",
    " \n",
    "    @staticmethod\n",
    "    def mean_encode_subroutine(X_train, y_train, X_test, variable, target, prior_weight_func):\n",
    "        X_train = X_train[[variable]].copy()\n",
    "        X_test = X_test[[variable]].copy()\n",
    " \n",
    "        if target is not None:\n",
    "            nf_name = '{}_pred_{}'.format(variable, target)\n",
    "            X_train['pred_temp'] = (y_train == target).astype(int)  # classification\n",
    "        else:\n",
    "            nf_name = '{}_pred'.format(variable)\n",
    "            X_train['pred_temp'] = y_train  # regression\n",
    "        prior = X_train['pred_temp'].mean()\n",
    " \n",
    "        col_avg_y = X_train.groupby(by=variable, axis=0)['pred_temp'].agg(['mean', 'size'])\n",
    "        col_avg_y['size'] = prior_weight_func(col_avg_y['size'])\n",
    "        col_avg_y[nf_name] = col_avg_y['size'] * prior + (1 - col_avg_y['size']) * col_avg_y['mean']\n",
    "        col_avg_y.drop(['size', 'mean'], axis=1, inplace=True)\n",
    " \n",
    "        nf_train = X_train.join(col_avg_y, on=variable)[nf_name].values\n",
    "        nf_test = X_test.join(col_avg_y, on=variable).fillna(prior, inplace=False)[nf_name].values\n",
    " \n",
    "        return nf_train, nf_test, prior, col_avg_y\n",
    " \n",
    "    def fit_transform(self, X, y):\n",
    "        \"\"\"\n",
    "        :param X: pandas DataFrame, n_samples * n_features\n",
    "        :param y: pandas Series or numpy array, n_samples\n",
    "        :return X_new: the transformed pandas DataFrame containing mean-encoded categorical features\n",
    "        \"\"\"\n",
    "        X_new = X.copy()\n",
    "        if self.target_type == 'classification':\n",
    "            skf = StratifiedKFold(self.n_splits)\n",
    "        else:\n",
    "            skf = KFold(self.n_splits)\n",
    " \n",
    "        if self.target_type == 'classification':\n",
    "            self.target_values = sorted(set(y))\n",
    "            self.learned_stats = {'{}_pred_{}'.format(variable, target): [] for variable, target in\n",
    "                                  product(self.categorical_features, self.target_values)}\n",
    "            for variable, target in product(self.categorical_features, self.target_values):\n",
    "                nf_name = '{}_pred_{}'.format(variable, target)\n",
    "                X_new.loc[:, nf_name] = np.nan\n",
    "                for large_ind, small_ind in skf.split(X, y):\n",
    "                    nf_large, nf_small, prior, col_avg_y = MeanEncoder.mean_encode_subroutine(\n",
    "                        X_new.iloc[large_ind], y.iloc[large_ind], X_new.iloc[small_ind], variable, target, self.prior_weight_func)\n",
    "                    X_new.iloc[small_ind, -1] = nf_small\n",
    "                    self.learned_stats[nf_name].append((prior, col_avg_y))\n",
    "        else:\n",
    "            self.learned_stats = {'{}_pred'.format(variable): [] for variable in self.categorical_features}\n",
    "            for variable in self.categorical_features:\n",
    "                nf_name = '{}_pred'.format(variable)\n",
    "                X_new.loc[:, nf_name] = np.nan\n",
    "                for large_ind, small_ind in skf.split(X, y):\n",
    "                    nf_large, nf_small, prior, col_avg_y = MeanEncoder.mean_encode_subroutine(\n",
    "                        X_new.iloc[large_ind], y.iloc[large_ind], X_new.iloc[small_ind], variable, None, self.prior_weight_func)\n",
    "                    X_new.iloc[small_ind, -1] = nf_small\n",
    "                    self.learned_stats[nf_name].append((prior, col_avg_y))\n",
    "        return X_new\n",
    " \n",
    "    def transform(self, X):\n",
    "        \"\"\"\n",
    "        :param X: pandas DataFrame, n_samples * n_features\n",
    "        :return X_new: the transformed pandas DataFrame containing mean-encoded categorical features\n",
    "        \"\"\"\n",
    "        X_new = X.copy()\n",
    " \n",
    "        if self.target_type == 'classification':\n",
    "            for variable, target in product(self.categorical_features, self.target_values):\n",
    "                nf_name = '{}_pred_{}'.format(variable, target)\n",
    "                X_new[nf_name] = 0\n",
    "                for prior, col_avg_y in self.learned_stats[nf_name]:\n",
    "                    X_new[nf_name] += X_new[[variable]].join(col_avg_y, on=variable).fillna(prior, inplace=False)[\n",
    "                        nf_name]\n",
    "                X_new[nf_name] /= self.n_splits\n",
    "        else:\n",
    "            for variable in self.categorical_features:\n",
    "                nf_name = '{}_pred'.format(variable)\n",
    "                X_new[nf_name] = 0\n",
    "                for prior, col_avg_y in self.learned_stats[nf_name]:\n",
    "                    X_new[nf_name] += X_new[[variable]].join(col_avg_y, on=variable).fillna(prior, inplace=False)[\n",
    "                        nf_name]\n",
    "                X_new[nf_name] /= self.n_splits\n",
    " \n",
    "        return X_new"
   ]
  },
  {
   "cell_type": "code",
   "execution_count": 4,
   "metadata": {
    "ExecuteTime": {
     "end_time": "2020-06-22T14:43:28.653732Z",
     "start_time": "2020-06-22T14:43:28.630743Z"
    }
   },
   "outputs": [],
   "source": [
    "def count_encode(df, cols):\n",
    "    for col in tqdm(cols):\n",
    "        print(col)\n",
    "        vc = df[col].value_counts(dropna=True, normalize=True)\n",
    "        df[col + '_count'] = df[col].map(vc).astype('float32')\n",
    "    return df\n",
    "        \n",
    "        \n",
    "def label_encode(df, cols):\n",
    "    le = LabelEncoder()\n",
    "    for col in tqdm(cols):\n",
    "        df[col] = df[col].fillna('NA')\n",
    "        df[col] = le.fit_transform(df[col].astype(str))\n",
    "    return df\n",
    "\n",
    "\n",
    "def cross_cat_num(df, cat_col, num_col):\n",
    "    for f1 in tqdm(cat_col):\n",
    "        g = df.groupby(f1, as_index=False)\n",
    "        for f2 in tqdm(num_col):\n",
    "            df_new = g[f2].agg({\n",
    "                '{}_{}_max'.format(f1, f2): 'max',\n",
    "                '{}_{}_min'.format(f1, f2): 'min',\n",
    "                '{}_{}_median'.format(f1, f2): 'median',\n",
    "                '{}_{}_mean'.format(f1, f2): 'mean',\n",
    "                '{}_{}_skew'.format(f1, f2): 'skew',\n",
    "                '{}_{}_nunique'.format(f1, f2): 'nunique'\n",
    "            })\n",
    "            df = df.merge(df_new, on=f1, how='left')\n",
    "            del df_new\n",
    "            gc.collect()\n",
    "    return df"
   ]
  },
  {
   "cell_type": "markdown",
   "metadata": {},
   "source": [
    "## user表"
   ]
  },
  {
   "cell_type": "code",
   "execution_count": 5,
   "metadata": {
    "ExecuteTime": {
     "end_time": "2020-06-22T14:43:28.916581Z",
     "start_time": "2020-06-22T14:43:28.664725Z"
    }
   },
   "outputs": [],
   "source": [
    "train_user = pd.read_hdf('../input/train_user.h5')\n",
    "test_user = pd.read_hdf('../input/test_user.h5')"
   ]
  },
  {
   "cell_type": "code",
   "execution_count": 6,
   "metadata": {
    "ExecuteTime": {
     "end_time": "2020-06-22T14:43:28.953561Z",
     "start_time": "2020-06-22T14:43:28.922578Z"
    }
   },
   "outputs": [],
   "source": [
    "# 将city_name和county_name拼接起来\n",
    "train_user['city_name_county_name'] = train_user['city_name'].astype(str) + '_' + train_user['county_name'].astype(str)\n",
    "test_user['city_name_county_name'] = test_user['city_name'].astype(str) + '_' + test_user['county_name'].astype(str)"
   ]
  },
  {
   "cell_type": "code",
   "execution_count": 7,
   "metadata": {
    "ExecuteTime": {
     "end_time": "2020-06-22T14:43:28.970548Z",
     "start_time": "2020-06-22T14:43:28.962553Z"
    }
   },
   "outputs": [],
   "source": [
    "cat_feat = ['city_name', 'county_name', 'city_name_county_name']\n",
    "num_feat = ['idcard_cnt', 'arpu_202004', 'idcard_cnt*arpu_202004', 'arpu_202004/idcard_cnt']"
   ]
  },
  {
   "cell_type": "code",
   "execution_count": 8,
   "metadata": {
    "ExecuteTime": {
     "end_time": "2020-06-22T14:43:28.984540Z",
     "start_time": "2020-06-22T14:43:28.978559Z"
    }
   },
   "outputs": [],
   "source": [
    "y = train_user['label']"
   ]
  },
  {
   "cell_type": "code",
   "execution_count": 9,
   "metadata": {
    "ExecuteTime": {
     "end_time": "2020-06-22T14:43:29.502244Z",
     "start_time": "2020-06-22T14:43:28.988541Z"
    }
   },
   "outputs": [],
   "source": [
    "ME = MeanEncoder(categorical_features=cat_feat,\n",
    "                 n_splits=3,\n",
    "                 target_type='classification',\n",
    "                 prior_weight_func=None)\n",
    "X_data = ME.fit_transform(train_user.drop('label', axis=1), y)\n",
    "X_test = ME.transform(test_user)"
   ]
  },
  {
   "cell_type": "code",
   "execution_count": 10,
   "metadata": {
    "ExecuteTime": {
     "end_time": "2020-06-22T14:43:29.575202Z",
     "start_time": "2020-06-22T14:43:29.504243Z"
    }
   },
   "outputs": [
    {
     "data": {
      "text/plain": [
       "((6106, 13), (2045, 12))"
      ]
     },
     "execution_count": 10,
     "metadata": {},
     "output_type": "execute_result"
    }
   ],
   "source": [
    "train_user = X_data.copy()\n",
    "train_user['label'] = y\n",
    "test_user = X_test.copy()\n",
    "\n",
    "del X_data, X_test\n",
    "gc.collect()\n",
    "\n",
    "train_user.shape, test_user.shape"
   ]
  },
  {
   "cell_type": "code",
   "execution_count": 11,
   "metadata": {
    "ExecuteTime": {
     "end_time": "2020-06-22T14:43:29.652158Z",
     "start_time": "2020-06-22T14:43:29.578201Z"
    }
   },
   "outputs": [
    {
     "data": {
      "text/plain": [
       "20"
      ]
     },
     "execution_count": 11,
     "metadata": {},
     "output_type": "execute_result"
    }
   ],
   "source": [
    "df_user = pd.concat([train_user, test_user])\n",
    "\n",
    "del train_user, test_user\n",
    "gc.collect()"
   ]
  },
  {
   "cell_type": "code",
   "execution_count": 12,
   "metadata": {
    "ExecuteTime": {
     "end_time": "2020-06-22T14:43:29.683139Z",
     "start_time": "2020-06-22T14:43:29.655157Z"
    }
   },
   "outputs": [],
   "source": [
    "# 电话的数量*月消费额\n",
    "df_user['idcard_cnt*arpu_202004'] = df_user['idcard_cnt'] * df_user['arpu_202004']\n",
    "\n",
    "# 月消费额/电话的数量\n",
    "df_user['arpu_202004/idcard_cnt'] = df_user['arpu_202004'] / (df_user['idcard_cnt'] + 0.0001)"
   ]
  },
  {
   "cell_type": "code",
   "execution_count": 13,
   "metadata": {
    "ExecuteTime": {
     "end_time": "2020-06-22T14:43:31.159295Z",
     "start_time": "2020-06-22T14:43:29.685139Z"
    }
   },
   "outputs": [
    {
     "name": "stderr",
     "output_type": "stream",
     "text": [
      "  0%|                                                                                            | 0/3 [00:00<?, ?it/s]\n",
      "  0%|                                                                                            | 0/4 [00:00<?, ?it/s]\n",
      " 50%|██████████████████████████████████████████                                          | 2/4 [00:00<00:00, 11.12it/s]\n",
      " 33%|████████████████████████████                                                        | 1/3 [00:00<00:00,  2.78it/s]\n",
      "  0%|                                                                                            | 0/4 [00:00<?, ?it/s]\n",
      " 25%|█████████████████████                                                               | 1/4 [00:00<00:00,  7.76it/s]\n",
      " 50%|██████████████████████████████████████████                                          | 2/4 [00:00<00:00,  7.49it/s]\n",
      " 75%|███████████████████████████████████████████████████████████████                     | 3/4 [00:00<00:00,  7.57it/s]\n",
      " 67%|████████████████████████████████████████████████████████                            | 2/3 [00:00<00:00,  2.43it/s]\n",
      "  0%|                                                                                            | 0/4 [00:00<?, ?it/s]\n",
      " 25%|█████████████████████                                                               | 1/4 [00:00<00:00,  6.54it/s]\n",
      " 50%|██████████████████████████████████████████                                          | 2/4 [00:00<00:00,  6.83it/s]\n",
      " 75%|███████████████████████████████████████████████████████████████                     | 3/4 [00:00<00:00,  7.15it/s]\n",
      "100%|████████████████████████████████████████████████████████████████████████████████████| 3/3 [00:01<00:00,  2.18it/s]\n"
     ]
    }
   ],
   "source": [
    "df_user = cross_cat_num(df_user, cat_feat, num_feat)"
   ]
  },
  {
   "cell_type": "code",
   "execution_count": 14,
   "metadata": {
    "ExecuteTime": {
     "end_time": "2020-06-22T14:43:31.206268Z",
     "start_time": "2020-06-22T14:43:31.162294Z"
    }
   },
   "outputs": [
    {
     "name": "stderr",
     "output_type": "stream",
     "text": [
      "\r",
      "  0%|                                                                                            | 0/4 [00:00<?, ?it/s]"
     ]
    },
    {
     "name": "stdout",
     "output_type": "stream",
     "text": [
      "city_name\n",
      "county_name\n",
      "city_name_county_name\n",
      "idcard_cnt\n"
     ]
    },
    {
     "name": "stderr",
     "output_type": "stream",
     "text": [
      "100%|███████████████████████████████████████████████████████████████████████████████████| 4/4 [00:00<00:00, 117.72it/s]\n"
     ]
    }
   ],
   "source": [
    "df_user = count_encode(df_user, cat_feat + ['idcard_cnt'])"
   ]
  },
  {
   "cell_type": "code",
   "execution_count": 15,
   "metadata": {
    "ExecuteTime": {
     "end_time": "2020-06-22T14:43:31.244248Z",
     "start_time": "2020-06-22T14:43:31.208268Z"
    }
   },
   "outputs": [
    {
     "name": "stderr",
     "output_type": "stream",
     "text": [
      "100%|███████████████████████████████████████████████████████████████████████████████████| 3/3 [00:00<00:00, 120.06it/s]\n"
     ]
    }
   ],
   "source": [
    "df_user = label_encode(df_user, cat_feat)"
   ]
  },
  {
   "cell_type": "code",
   "execution_count": 16,
   "metadata": {
    "ExecuteTime": {
     "end_time": "2020-06-22T14:43:31.376170Z",
     "start_time": "2020-06-22T14:43:31.247246Z"
    }
   },
   "outputs": [
    {
     "data": {
      "text/plain": [
       "77"
      ]
     },
     "execution_count": 16,
     "metadata": {},
     "output_type": "execute_result"
    }
   ],
   "source": [
    "df_user.to_hdf('../input/user_features.h5', 'df', index=False)\n",
    "\n",
    "del df_user\n",
    "gc.collect()"
   ]
  },
  {
   "cell_type": "markdown",
   "metadata": {},
   "source": [
    "## voc表"
   ]
  },
  {
   "cell_type": "code",
   "execution_count": 17,
   "metadata": {
    "ExecuteTime": {
     "end_time": "2020-06-22T14:43:33.794153Z",
     "start_time": "2020-06-22T14:43:31.378170Z"
    }
   },
   "outputs": [],
   "source": [
    "train_voc = pd.read_hdf('../input/train_voc.h5')\n",
    "test_voc = pd.read_hdf('../input/test_voc.h5')"
   ]
  },
  {
   "cell_type": "code",
   "execution_count": 18,
   "metadata": {
    "ExecuteTime": {
     "end_time": "2020-06-22T14:43:34.183934Z",
     "start_time": "2020-06-22T14:43:33.796152Z"
    }
   },
   "outputs": [
    {
     "data": {
      "text/plain": [
       "128"
      ]
     },
     "execution_count": 18,
     "metadata": {},
     "output_type": "execute_result"
    }
   ],
   "source": [
    "df_voc = pd.concat([train_voc, test_voc])\n",
    "\n",
    "del train_voc, test_voc\n",
    "gc.collect()"
   ]
  },
  {
   "cell_type": "code",
   "execution_count": 19,
   "metadata": {
    "ExecuteTime": {
     "end_time": "2020-06-22T14:43:34.506746Z",
     "start_time": "2020-06-22T14:43:34.185931Z"
    }
   },
   "outputs": [],
   "source": [
    "df_voc['city_name_county_name'] = df_voc['city_name'] + '_' + df_voc['county_name']"
   ]
  },
  {
   "cell_type": "code",
   "execution_count": 20,
   "metadata": {
    "ExecuteTime": {
     "end_time": "2020-06-22T14:43:37.087434Z",
     "start_time": "2020-06-22T14:43:34.508746Z"
    }
   },
   "outputs": [],
   "source": [
    "df_voc['voc_day'] = df_voc['start_datetime'].astype('datetime64').dt.day\n",
    "df_voc['voc_hour'] = df_voc['start_datetime'].astype('datetime64').dt.hour\n",
    "df_voc['voc_dayofweek'] = df_voc['start_datetime'].astype('datetime64').dt.dayofweek"
   ]
  },
  {
   "cell_type": "code",
   "execution_count": 21,
   "metadata": {
    "ExecuteTime": {
     "end_time": "2020-06-22T14:43:37.890790Z",
     "start_time": "2020-06-22T14:43:37.089434Z"
    }
   },
   "outputs": [],
   "source": [
    "phone_no_m = df_voc[['phone_no_m']].copy()\n",
    "phone_no_m = phone_no_m.drop_duplicates(subset=['phone_no_m'], keep='last')"
   ]
  },
  {
   "cell_type": "code",
   "execution_count": 22,
   "metadata": {
    "ExecuteTime": {
     "end_time": "2020-06-22T14:43:39.268568Z",
     "start_time": "2020-06-22T14:43:37.896770Z"
    }
   },
   "outputs": [
    {
     "data": {
      "text/plain": [
       "20"
      ]
     },
     "execution_count": 22,
     "metadata": {},
     "output_type": "execute_result"
    }
   ],
   "source": [
    "# 通话次数，通话人数\n",
    "tmp = df_voc.groupby('phone_no_m')['opposite_no_m'].agg(opposite_cnt='count', opposite_nunique='nunique')\n",
    "phone_no_m = phone_no_m.merge(tmp, how='left', on='phone_no_m')\n",
    "\n",
    "# 人均通话次数\n",
    "phone_no_m['voc_cnt_per_capita'] = phone_no_m['opposite_cnt'] / (phone_no_m['opposite_nunique'] + 0.0001)\n",
    "\n",
    "del tmp\n",
    "gc.collect()"
   ]
  },
  {
   "cell_type": "code",
   "execution_count": 23,
   "metadata": {
    "ExecuteTime": {
     "end_time": "2020-06-22T14:43:43.156253Z",
     "start_time": "2020-06-22T14:43:39.273553Z"
    }
   },
   "outputs": [
    {
     "data": {
      "text/plain": [
       "0"
      ]
     },
     "execution_count": 23,
     "metadata": {},
     "output_type": "execute_result"
    }
   ],
   "source": [
    "\"\"\"\n",
    "主叫通话\n",
    "\"\"\"\n",
    "\n",
    "df_calltype_id_1 = df_voc.loc[df_voc['calltype_id'] == 1, :].copy()\n",
    "\n",
    "# 主叫通话次数，主叫通话使用的手机个数\n",
    "tmp = df_calltype_id_1.groupby('phone_no_m')['imei_m'].agg(voc_calltype_id_1_cnt='count', imeis_1='nunique')\n",
    "phone_no_m = phone_no_m.merge(tmp, on='phone_no_m', how='left')\n",
    "del tmp\n",
    "gc.collect()\n",
    "\n",
    "# 主叫通话时长\n",
    "tmp = df_calltype_id_1.groupby('phone_no_m')['call_dur'].agg(voc_calltype_id_1_call_dur_sum='sum')\n",
    "phone_no_m = phone_no_m.merge(tmp, on='phone_no_m', how='left')\n",
    "del tmp\n",
    "gc.collect()\n",
    "\n",
    "# 主叫通话时长小于10s的次数\n",
    "# tmp1 = df_calltype_id_1[df_calltype_id_1['call_dur'] < 10]\n",
    "# tmp2 = tmp1.groupby('phone_no_m')['call_dur'].agg(voc_calltype_id_1_10s_cnt='count')\n",
    "# phone_no_m = phone_no_m.merge(tmp2, on='phone_no_m', how='left')\n",
    "# del tmp1, tmp2\n",
    "# gc.collect()\n",
    "\n",
    "# 主叫通话时长小于30s的次数\n",
    "tmp1 = df_calltype_id_1[df_calltype_id_1['call_dur'] < 30]\n",
    "tmp2 = tmp1.groupby('phone_no_m')['call_dur'].agg(voc_calltype_id_1_30s_cnt='count')\n",
    "phone_no_m = phone_no_m.merge(tmp2, on='phone_no_m', how='left')\n",
    "del tmp1, tmp2\n",
    "gc.collect()\n",
    "\n",
    "# 主叫通话时长小于60s的次数\n",
    "tmp1 = df_calltype_id_1[df_calltype_id_1['call_dur'] < 60]\n",
    "tmp2 = tmp1.groupby('phone_no_m')['call_dur'].agg(voc_calltype_id_1_60s_cnt='count')\n",
    "phone_no_m = phone_no_m.merge(tmp2, on='phone_no_m', how='left')\n",
    "del tmp1, tmp2\n",
    "gc.collect()\n",
    "\n",
    "# 主叫通话时长大于300s（5分钟）的次数\n",
    "tmp1 = df_calltype_id_1[df_calltype_id_1['call_dur'] > 300]\n",
    "tmp2 = tmp1.groupby('phone_no_m')['call_dur'].agg(voc_calltype_id_1_300s_cnt='count')\n",
    "phone_no_m = phone_no_m.merge(tmp2, on='phone_no_m', how='left')\n",
    "del tmp1, tmp2\n",
    "gc.collect()\n",
    "\n",
    "# # 主叫通话时长小于10s的次数的占比\n",
    "# phone_no_m['voc_calltype_id_1_10s_rate'] = phone_no_m['voc_calltype_id_1_10s_cnt'] / phone_no_m['voc_calltype_id_1_cnt']\n",
    "\n",
    "# 主叫通话时长小于30s的次数的占比\n",
    "phone_no_m['voc_calltype_id_1_30s_rate'] = phone_no_m['voc_calltype_id_1_30s_cnt'] / phone_no_m['voc_calltype_id_1_cnt']\n",
    "\n",
    "# 主叫通话时长小于60s的次数的占比\n",
    "phone_no_m['voc_calltype_id_1_60s_rate'] = phone_no_m['voc_calltype_id_1_60s_cnt'] / phone_no_m['voc_calltype_id_1_cnt']\n",
    "\n",
    "# 主叫通话时长大于300s（5分钟）的次数的占比\n",
    "phone_no_m['voc_calltype_id_1_300s_rate'] = phone_no_m['voc_calltype_id_1_300s_cnt'] / phone_no_m['voc_calltype_id_1_cnt']\n",
    "\n",
    "\n",
    "# 主叫通话次数的占比\n",
    "phone_no_m[\"call_type_id_1_rate\"] = phone_no_m['voc_calltype_id_1_cnt'] / phone_no_m['opposite_cnt']\n",
    "\n",
    "# 主叫通话时所在地市变动的个数\n",
    "tmp = df_calltype_id_1.groupby('phone_no_m')['city_name'].agg(city_name_nunique='nunique')\n",
    "phone_no_m = phone_no_m.merge(tmp, on='phone_no_m', how='left')\n",
    "del tmp\n",
    "gc.collect()\n",
    "\n",
    "# 主叫通话时所在区县变动的个数\n",
    "tmp = df_calltype_id_1.groupby(\"phone_no_m\")['county_name'].agg(county_name_nunique='nunique')\n",
    "phone_no_m = phone_no_m.merge(tmp, on=\"phone_no_m\", how=\"left\")\n",
    "del tmp\n",
    "gc.collect()\n",
    "\n",
    "# 主叫通话时所在地市_区县变动的个数\n",
    "tmp = df_calltype_id_1.groupby(\"phone_no_m\")['city_name_county_name'].agg(city_name_county_name_nunique='nunique')\n",
    "phone_no_m = phone_no_m.merge(tmp, on=\"phone_no_m\", how=\"left\")\n",
    "del tmp\n",
    "gc.collect()\n",
    "\n",
    "# 线上效果变差，不用\n",
    "# # 主叫通话每天的通话次数\n",
    "# calltype_id_1_voc_day_cnt_res = df_calltype_id_1.groupby(['phone_no_m', 'voc_day'])['phone_no_m'].count().unstack()\n",
    "# for i in df_calltype_id_1['voc_day'].unique():\n",
    "#     phone_no_m['calltype_id_1_voc_day{}_count'.format(i)] = phone_no_m['phone_no_m'].map(calltype_id_1_voc_day_cnt_res[i])\n",
    "\n",
    "# del calltype_id_1_voc_day_cnt_res\n",
    "# gc.collect()"
   ]
  },
  {
   "cell_type": "code",
   "execution_count": 25,
   "metadata": {
    "ExecuteTime": {
     "end_time": "2020-06-22T14:43:46.357226Z",
     "start_time": "2020-06-22T14:43:46.350232Z"
    }
   },
   "outputs": [
    {
     "data": {
      "text/plain": [
       "'\\n被叫通话\\n'"
      ]
     },
     "execution_count": 25,
     "metadata": {},
     "output_type": "execute_result"
    }
   ],
   "source": [
    "\"\"\"\n",
    "被叫通话\n",
    "\"\"\"\n",
    "\n",
    "df_calltype_id_2 = df_voc.loc[df_voc['calltype_id'] == 2, :].copy()\n",
    "\n",
    "# 被叫通话的次数\n",
    "tmp = df_calltype_id_2.groupby('phone_no_m')['imei_m'].agg(voc_calltype_id_2_cnt='count')\n",
    "phone_no_m = phone_no_m.merge(tmp, on='phone_no_m', how='left')\n",
    "\n",
    "# 被叫通话次数的占比\n",
    "phone_no_m[\"call_type_id_2_rate\"] = phone_no_m['voc_calltype_id_2_cnt'] / phone_no_m['opposite_cnt']\n",
    "\n",
    "del tmp, df_calltype_id_2\n",
    "gc.collect()\n",
    "\n",
    "线上变差，删除\n",
    "# 主叫次数/被叫次数\n",
    "phone_no_m['voc_calltype_1/2'] = phone_no_m['voc_calltype_id_1_cnt'] / (phone_no_m['voc_calltype_id_2_cnt'] + 0.0001)"
   ]
  },
  {
   "cell_type": "code",
   "execution_count": 26,
   "metadata": {
    "ExecuteTime": {
     "end_time": "2020-06-22T14:43:46.447174Z",
     "start_time": "2020-06-22T14:43:46.360225Z"
    }
   },
   "outputs": [
    {
     "data": {
      "text/plain": [
       "0"
      ]
     },
     "execution_count": 26,
     "metadata": {},
     "output_type": "execute_result"
    }
   ],
   "source": [
    "\"\"\"\n",
    "呼叫转移\n",
    "\"\"\"\n",
    "\n",
    "df_calltype_id_3 = df_voc.loc[df_voc['calltype_id'] == 3, :].copy()\n",
    "\n",
    "# 呼叫转移的次数\n",
    "tmp = df_calltype_id_3.groupby('phone_no_m')['imei_m'].agg(voc_calltype_id_3_cnt='count')\n",
    "phone_no_m = phone_no_m.merge(tmp, on='phone_no_m', how='left')\n",
    "\n",
    "# 呼叫转移次数的占比\n",
    "phone_no_m[\"call_type_id_3_rate\"] = phone_no_m['voc_calltype_id_3_cnt'] / phone_no_m['opposite_cnt']\n",
    "\n",
    "del tmp, df_calltype_id_3\n",
    "gc.collect()\n",
    "\n",
    "# 线上变差，删除\n",
    "# # 主叫次数/呼叫转移次数\n",
    "# phone_no_m['voc_calltype_1/3'] = phone_no_m['voc_calltype_id_1_cnt'] / (phone_no_m['voc_calltype_id_3_cnt'] + 0.0001)"
   ]
  },
  {
   "cell_type": "code",
   "execution_count": 27,
   "metadata": {
    "ExecuteTime": {
     "end_time": "2020-06-22T14:43:49.048779Z",
     "start_time": "2020-06-22T14:43:46.449174Z"
    }
   },
   "outputs": [
    {
     "data": {
      "text/plain": [
       "0"
      ]
     },
     "execution_count": 27,
     "metadata": {},
     "output_type": "execute_result"
    }
   ],
   "source": [
    "\"\"\"\n",
    "与对端通话统计\n",
    "\"\"\"\n",
    "\n",
    "# 与对端通话次数，与对端通话时长\n",
    "tmp = df_voc.groupby(['phone_no_m', 'opposite_no_m'])['call_dur'].agg(call_count='count',\n",
    "                                                                      call_sum='sum')\n",
    "\n",
    "# 与对端通话次数的统计量\n",
    "phone2opposite = tmp.groupby('phone_no_m')['call_count'].agg(phone2opposite_cnt_mean='mean',\n",
    "                                                             phone2opposite_cnt_median='median',\n",
    "                                                             phone2opposite_cnt_min='min',\n",
    "                                                             phone2opposite_cnt_max='max',\n",
    "                                                             phone2opposite_cnt_std='std')\n",
    "phone_no_m = phone_no_m.merge(phone2opposite, on='phone_no_m', how='left')\n",
    "del phone2opposite\n",
    "gc.collect()\n",
    "\n",
    "\n",
    "# 与对端总通话时长的统计量\n",
    "phone2opposite = tmp.groupby('phone_no_m')['call_sum'].agg(phone2opposite_call_dur_mean='mean',\n",
    "                                                           phone2opposite_call_dur_median='median',\n",
    "                                                           phone2opposite_call_dur_min='min',\n",
    "                                                           phone2opposite_call_dur_max='max',\n",
    "                                                           phone2opposite_call_dur_std='std')\n",
    "phone_no_m = phone_no_m.merge(phone2opposite, on='phone_no_m', how='left')\n",
    "del phone2opposite, tmp\n",
    "gc.collect()"
   ]
  },
  {
   "cell_type": "code",
   "execution_count": 28,
   "metadata": {
    "ExecuteTime": {
     "end_time": "2020-06-22T14:43:49.691410Z",
     "start_time": "2020-06-22T14:43:49.050777Z"
    }
   },
   "outputs": [
    {
     "data": {
      "text/plain": [
       "0"
      ]
     },
     "execution_count": 28,
     "metadata": {},
     "output_type": "execute_result"
    }
   ],
   "source": [
    "\"\"\"\n",
    "通话时长的统计\n",
    "\"\"\"\n",
    "\n",
    "# 通话时长的统计量\n",
    "tmp = df_voc.groupby('phone_no_m')['call_dur'].agg(call_dur_mean='mean',\n",
    "                                                   call_dur_median='median',\n",
    "                                                   call_dur_max='max',\n",
    "                                                   call_dur_min='min',\n",
    "                                                   call_dur_std='std',\n",
    "                                                   call_dur_sum='sum')\n",
    "phone_no_m = phone_no_m.merge(tmp, on='phone_no_m', how='left')\n",
    "del tmp\n",
    "gc.collect()"
   ]
  },
  {
   "cell_type": "code",
   "execution_count": 29,
   "metadata": {
    "ExecuteTime": {
     "end_time": "2020-06-22T14:43:52.461098Z",
     "start_time": "2020-06-22T14:43:49.693410Z"
    }
   },
   "outputs": [
    {
     "data": {
      "text/plain": [
       "0"
      ]
     },
     "execution_count": 29,
     "metadata": {},
     "output_type": "execute_result"
    }
   ],
   "source": [
    "\"\"\"\n",
    "收费号码位置变动\n",
    "\"\"\"\n",
    "\n",
    "# 收费号码所在地市的个数\n",
    "tmp = df_voc.groupby('phone_no_m')['city_name'].agg(city_name_nunique='nunique')\n",
    "phone_no_m = phone_no_m.merge(tmp, on='phone_no_m', how='left')\n",
    "\n",
    "# 收费号码所在区县的个数\n",
    "tmp = df_voc.groupby('phone_no_m')['county_name'].agg(county_name_nunique='nunique')\n",
    "phone_no_m = phone_no_m.merge(tmp, on=\"phone_no_m\", how='left')\n",
    "\n",
    "# 收费号码所在地市_区县的个数\n",
    "tmp = df_voc.groupby('phone_no_m')['city_name_county_name'].agg(city_name_county_name_nunique='nunique')\n",
    "phone_no_m = phone_no_m.merge(tmp, on=\"phone_no_m\", how='left')\n",
    "\n",
    "# 收费号码通话类型的个数\n",
    "tmp = df_voc.groupby('phone_no_m')['calltype_id'].agg(calltype_id_unique='nunique')\n",
    "phone_no_m = phone_no_m.merge(tmp, on='phone_no_m', how='left')\n",
    "\n",
    "del tmp\n",
    "gc.collect()"
   ]
  },
  {
   "cell_type": "code",
   "execution_count": 30,
   "metadata": {
    "ExecuteTime": {
     "end_time": "2020-06-22T14:44:00.781143Z",
     "start_time": "2020-06-22T14:43:52.464098Z"
    }
   },
   "outputs": [
    {
     "data": {
      "text/plain": [
       "0"
      ]
     },
     "execution_count": 30,
     "metadata": {},
     "output_type": "execute_result"
    }
   ],
   "source": [
    "\"\"\"\n",
    "通话时间点的偏好\n",
    "\"\"\"\n",
    "\n",
    "# hour通话次数最高\n",
    "tmp = df_voc.groupby('phone_no_m')['voc_hour'].agg(voc_hour_mode=lambda x: stats.mode(x)[0][0],        # 频次最高的元素\n",
    "                                                   voc_hour_mode_count=lambda x: stats.mode(x)[1][0],  # 频次最高的元素的频次\n",
    "                                                   voc_hour_nunique='nunique')\n",
    "phone_no_m = phone_no_m.merge(tmp, on='phone_no_m', how='left')\n",
    "\n",
    "# day通话次数最高\n",
    "tmp = df_voc.groupby('phone_no_m')['voc_day'].agg(voc_day_mode=lambda x: stats.mode(x)[0][0],          # 频次最高的元素\n",
    "                                                  voc_day_mode_count=lambda x: stats.mode(x)[1][0],    # 频次最高的元素的频次\n",
    "                                                  voc_day_nunique='nunique')                           # 一个月有多少天打了电话\n",
    "phone_no_m = phone_no_m.merge(tmp, on='phone_no_m', how='left')\n",
    "\n",
    "del tmp\n",
    "gc.collect()\n",
    "\n",
    "\n",
    "# dayofweek通话次数最高\n",
    "tmp = df_voc.groupby('phone_no_m')['voc_dayofweek'].agg(voc_dayofweek_mode=lambda x: stats.mode(x)[0][0],          # 频次最高的元素\n",
    "                                                        voc_dayofweek_mode_count=lambda x: stats.mode(x)[1][0],    # 频次最高的元素的频次\n",
    "                                                        voc_dayofweek_nunique='nunique')                           \n",
    "phone_no_m = phone_no_m.merge(tmp, on='phone_no_m', how='left')\n",
    "\n",
    "del tmp\n",
    "gc.collect()"
   ]
  },
  {
   "cell_type": "code",
   "execution_count": 31,
   "metadata": {
    "ExecuteTime": {
     "end_time": "2020-06-22T14:44:01.381799Z",
     "start_time": "2020-06-22T14:44:00.784143Z"
    }
   },
   "outputs": [
    {
     "data": {
      "text/plain": [
       "20"
      ]
     },
     "execution_count": 31,
     "metadata": {},
     "output_type": "execute_result"
    }
   ],
   "source": [
    "# 每天通话次数的均值、标准差\n",
    "tmp1 = df_voc.groupby(['phone_no_m', 'voc_day'])['phone_no_m'].agg(voc_day_cnt='count')\n",
    "tmp2 = tmp1.groupby('phone_no_m')['voc_day_cnt'].agg(voc_day_cnt_mean='mean',\n",
    "                                                     voc_day_cnt_std='std')\n",
    "phone_no_m = phone_no_m.merge(tmp2, on='phone_no_m', how='left')\n",
    "\n",
    "del tmp1, tmp2\n",
    "gc.collect()"
   ]
  },
  {
   "cell_type": "code",
   "execution_count": 32,
   "metadata": {
    "ExecuteTime": {
     "end_time": "2020-06-22T14:44:08.595492Z",
     "start_time": "2020-06-22T14:44:01.384798Z"
    }
   },
   "outputs": [],
   "source": [
    "# 每天的通话次数\n",
    "voc_day_cnt_res = df_voc.groupby(['phone_no_m', 'voc_day'])['phone_no_m'].count().unstack()\n",
    "for i in df_voc['voc_day'].unique():\n",
    "    phone_no_m['voc_day{}_count'.format(i)] = phone_no_m['phone_no_m'].map(voc_day_cnt_res[i])\n",
    "\n",
    "    \n",
    "# 每天的通话人数\n",
    "voc_day_nunique_res = df_voc.groupby(['phone_no_m', 'voc_day'])['opposite_no_m'].nunique().unstack()\n",
    "for i in df_voc['voc_day'].unique():\n",
    "    phone_no_m['voc_day{}_nunique'.format(i)] = phone_no_m['phone_no_m'].map(voc_day_nunique_res[i])\n",
    "\n",
    "    \n",
    "# 每天的通话时长\n",
    "voc_day_call_dur_res = df_voc.groupby(['phone_no_m', 'voc_day'])['call_dur'].sum().unstack()\n",
    "for i in df_voc['voc_day'].unique():\n",
    "    phone_no_m['voc_day{}_call_dur_sum'.format(i)] = phone_no_m['phone_no_m'].map(voc_day_call_dur_res[i])\n",
    "\n",
    "\n",
    "\n",
    "# 每小时的通话次数\n",
    "voc_hour_cnt_res = df_voc.groupby(['phone_no_m', 'voc_hour'])['phone_no_m'].count().unstack()\n",
    "for i in df_voc['voc_hour'].unique():\n",
    "    phone_no_m['voc_hour{}_count'.format(i)] = phone_no_m['phone_no_m'].map(voc_hour_cnt_res[i])\n",
    "    \n",
    "# 每小时的通话人数\n",
    "voc_hour_nunique_res = df_voc.groupby(['phone_no_m', 'voc_hour'])['opposite_no_m'].nunique().unstack()\n",
    "for i in df_voc['voc_hour'].unique():\n",
    "    phone_no_m['voc_hour{}_nunique'.format(i)] = phone_no_m['phone_no_m'].map(voc_hour_nunique_res[i])\n",
    "    \n",
    "\n",
    "# 每小时的通话时长\n",
    "voc_hour_call_dur_res = df_voc.groupby(['phone_no_m', 'voc_hour'])['call_dur'].sum().unstack()\n",
    "for i in df_voc['voc_hour'].unique():\n",
    "    phone_no_m['voc_hour{}_call_dur_sum'.format(i)] = phone_no_m['phone_no_m'].map(voc_hour_call_dur_res[i])\n",
    "\n",
    "    \n",
    "\n",
    "# 每周几的通话次数\n",
    "voc_dayofweek_cnt_res = df_voc.groupby(['phone_no_m', 'voc_dayofweek'])['phone_no_m'].count().unstack()\n",
    "for i in df_voc['voc_dayofweek'].unique():\n",
    "    phone_no_m['voc_dayofweek{}_count'.format(i)] = phone_no_m['phone_no_m'].map(voc_dayofweek_cnt_res[i])\n",
    "    \n",
    "# 每周几的通话人数\n",
    "voc_dayoffweek_nunique_res = df_voc.groupby(['phone_no_m', 'voc_dayofweek'])['opposite_no_m'].nunique().unstack()\n",
    "for i in df_voc['voc_dayofweek'].unique():\n",
    "    phone_no_m['voc_dayofweek{}_nunique'.format(i)] = phone_no_m['phone_no_m'].map(voc_dayoffweek_nunique_res[i])\n",
    "    \n",
    "\n",
    "# 每周几的通话时长\n",
    "voc_dayofweek_call_dur_res = df_voc.groupby(['phone_no_m', 'voc_dayofweek'])['call_dur'].sum().unstack()\n",
    "for i in df_voc['voc_dayofweek'].unique():\n",
    "    phone_no_m['voc_dayofweek{}_call_dur_sum'.format(i)] = phone_no_m['phone_no_m'].map(voc_dayofweek_call_dur_res[i])"
   ]
  },
  {
   "cell_type": "code",
   "execution_count": 33,
   "metadata": {
    "ExecuteTime": {
     "end_time": "2020-06-22T14:44:08.754386Z",
     "start_time": "2020-06-22T14:44:08.598475Z"
    }
   },
   "outputs": [
    {
     "data": {
      "text/plain": [
       "75"
      ]
     },
     "execution_count": 33,
     "metadata": {},
     "output_type": "execute_result"
    }
   ],
   "source": [
    "phone_no_m.to_hdf('../input/voc_features.h5', 'df', index=False)\n",
    "del phone_no_m\n",
    "gc.collect()"
   ]
  },
  {
   "cell_type": "markdown",
   "metadata": {},
   "source": [
    "### 被叫通话"
   ]
  },
  {
   "cell_type": "code",
   "execution_count": 1,
   "metadata": {
    "ExecuteTime": {
     "end_time": "2020-06-23T01:02:45.094635Z",
     "start_time": "2020-06-23T01:02:45.051144Z"
    }
   },
   "outputs": [
    {
     "ename": "NameError",
     "evalue": "name 'df_user' is not defined",
     "output_type": "error",
     "traceback": [
      "\u001b[1;31m---------------------------------------------------------------------------\u001b[0m",
      "\u001b[1;31mNameError\u001b[0m                                 Traceback (most recent call last)",
      "\u001b[1;32m<ipython-input-1-f840faab0a7e>\u001b[0m in \u001b[0;36m<module>\u001b[1;34m\u001b[0m\n\u001b[1;32m----> 1\u001b[1;33m \u001b[0mopposite_no_m\u001b[0m \u001b[1;33m=\u001b[0m \u001b[0mdf_user\u001b[0m\u001b[1;33m[\u001b[0m\u001b[1;33m[\u001b[0m\u001b[1;34m'opposite_no_m'\u001b[0m\u001b[1;33m]\u001b[0m\u001b[1;33m]\u001b[0m\u001b[1;33m.\u001b[0m\u001b[0mcopy\u001b[0m\u001b[1;33m(\u001b[0m\u001b[1;33m)\u001b[0m\u001b[1;33m\u001b[0m\u001b[1;33m\u001b[0m\u001b[0m\n\u001b[0m\u001b[0;32m      2\u001b[0m \u001b[0mopposite_no_m\u001b[0m \u001b[1;33m=\u001b[0m \u001b[0mopposite_no_m\u001b[0m\u001b[1;33m.\u001b[0m\u001b[0mdrop_duplicates\u001b[0m\u001b[1;33m(\u001b[0m\u001b[0msubset\u001b[0m\u001b[1;33m=\u001b[0m\u001b[1;33m[\u001b[0m\u001b[1;34m'opposite_no_m'\u001b[0m\u001b[1;33m]\u001b[0m\u001b[1;33m,\u001b[0m \u001b[0mkeep\u001b[0m\u001b[1;33m=\u001b[0m\u001b[1;34m'last'\u001b[0m\u001b[1;33m)\u001b[0m\u001b[1;33m\u001b[0m\u001b[1;33m\u001b[0m\u001b[0m\n",
      "\u001b[1;31mNameError\u001b[0m: name 'df_user' is not defined"
     ]
    }
   ],
   "source": [
    "opposite_no_m = df_voc[['opposite_no_m']].copy()\n",
    "opposite_no_m = opposite_no_m.drop_duplicates(subset=['opposite_no_m'], keep='last')"
   ]
  },
  {
   "cell_type": "code",
   "execution_count": null,
   "metadata": {},
   "outputs": [],
   "source": [
    "\"\"\"\n",
    "被叫通话\n",
    "\"\"\"\n",
    "\n",
    "df_calltype_id_2 = df_voc.loc[df_voc['calltype_id'] == 2, :].copy()\n",
    "\n",
    "# 被叫通话次数，被叫通话使用的手机个数\n",
    "tmp = df_calltype_id_2.groupby('opposite_no_m')['imei_m'].agg(voc_calltype_id_2_cnt='count',\n",
    "                                                              imeis_2='nunique')\n",
    "phone_no_m = phone_no_m.merge(tmp, left_on='phone_no_m', right_on='opposite_no_m', how='left')\n",
    "del tmp\n",
    "gc.collect()\n",
    "\n",
    "# 被叫通话时长\n",
    "tmp = df_calltype_id_2.groupby('opposite_no_m')['call_dur'].agg(voc_calltype_id_2_call_dur_sum='sum')\n",
    "phone_no_m = phone_no_m.merge(tmp, left_on='phone_no_m', right_on='opposite_no_m', how='left')\n",
    "del tmp\n",
    "gc.collect()\n",
    "\n",
    "# 被叫通话时长小于10s的次数\n",
    "# tmp1 = df_calltype_id_1[df_calltype_id_1['call_dur'] < 10]\n",
    "# tmp2 = tmp1.groupby('phone_no_m')['call_dur'].agg(voc_calltype_id_1_10s_cnt='count')\n",
    "# phone_no_m = phone_no_m.merge(tmp2, on='phone_no_m', how='left')\n",
    "# del tmp1, tmp2\n",
    "# gc.collect()\n",
    "\n",
    "# 被叫通话时长小于30s的次数\n",
    "tmp1 = df_calltype_id_2[df_calltype_id_2['call_dur'] < 30]\n",
    "tmp2 = tmp1.groupby('opposite_no_m')['call_dur'].agg(voc_calltype_id_2_30s_cnt='count')\n",
    "phone_no_m = phone_no_m.merge(tmp2, left_on='phone_no_m', right_on='opposite_no_m', how='left')\n",
    "del tmp1, tmp2\n",
    "gc.collect()\n",
    "\n",
    "# 被叫通话时长小于60s的次数\n",
    "tmp1 = df_calltype_id_2[df_calltype_id_2['call_dur'] < 60]\n",
    "tmp2 = tmp1.groupby('opposite_no_m')['call_dur'].agg(voc_calltype_id_2_60s_cnt='count')\n",
    "phone_no_m = phone_no_m.merge(tmp2, left_on='phone_no_m', right_on='opposite_no_m', how='left')\n",
    "del tmp1, tmp2\n",
    "gc.collect()\n",
    "\n",
    "# 被叫通话时长大于300s（5分钟）的次数\n",
    "tmp1 = df_calltype_id_2[df_calltype_id_2['call_dur'] > 300]\n",
    "tmp2 = tmp1.groupby('opposite_no_m')['call_dur'].agg(voc_calltype_id_2_300s_cnt='count')\n",
    "phone_no_m = phone_no_m.merge(tmp2, left_on='phone_no_m', right_on='opposite_no_m', how='left')\n",
    "del tmp1, tmp2\n",
    "gc.collect()\n",
    "\n",
    "# # 被叫通话时长小于10s的次数的占比\n",
    "# phone_no_m['voc_calltype_id_1_10s_rate'] = phone_no_m['voc_calltype_id_1_10s_cnt'] / phone_no_m['voc_calltype_id_1_cnt']\n",
    "\n",
    "# 被叫通话时长小于30s的次数的占比\n",
    "phone_no_m['voc_calltype_id_2_30s_rate'] = phone_no_m['voc_calltype_id_2_30s_cnt'] / phone_no_m['voc_calltype_id_2_cnt']\n",
    "\n",
    "# 被叫通话时长小于60s的次数的占比\n",
    "phone_no_m['voc_calltype_id_2_60s_rate'] = phone_no_m['voc_calltype_id_2_60s_cnt'] / phone_no_m['voc_calltype_id_2_cnt']\n",
    "\n",
    "# 被叫通话时长大于300s（5分钟）的次数的占比\n",
    "phone_no_m['voc_calltype_id_2_300s_rate'] = phone_no_m['voc_calltype_id_2_300s_cnt'] / phone_no_m['voc_calltype_id_2_cnt']\n",
    "\n",
    "\n",
    "# 被叫通话次数的占比\n",
    "phone_no_m[\"call_type_id_2_rate\"] = phone_no_m['voc_calltype_id_2_cnt'] / phone_no_m['opposite_cnt']\n",
    "\n",
    "# # 被叫通话时所在地市变动的个数\n",
    "# tmp = df_calltype_id_2.groupby('opposite_no_m')['city_name'].agg(city_name_nunique='nunique')\n",
    "# phone_no_m = phone_no_m.merge(tmp, left_on='phone_no_m', right_on='opposite_no_m', how='left')\n",
    "# del tmp\n",
    "# gc.collect()\n",
    "\n",
    "# # 被叫通话时所在区县变动的个数\n",
    "# tmp = df_calltype_id_2.groupby('opposite_no_m')['county_name'].agg(county_name_nunique='nunique')\n",
    "# phone_no_m = phone_no_m.merge(tmp, left_on='phone_no_m', right_on='opposite_no_m', how='left')\n",
    "# del tmp\n",
    "# gc.collect()\n",
    "\n",
    "# # 被叫通话时所在地市_区县变动的个数\n",
    "# tmp = df_calltype_id_2.groupby('opposite_no_m')['city_name_county_name'].agg(city_name_county_name_nunique='nunique')\n",
    "# phone_no_m = phone_no_m.merge(tmp, left_on='phone_no_m', right_on='opposite_no_m', how='left')\n",
    "# del tmp\n",
    "# gc.collect()\n",
    "\n",
    "# 线上效果变差，不用\n",
    "# # 被叫通话每天的通话次数\n",
    "# calltype_id_1_voc_day_cnt_res = df_calltype_id_1.groupby(['phone_no_m', 'voc_day'])['phone_no_m'].count().unstack()\n",
    "# for i in df_calltype_id_1['voc_day'].unique():\n",
    "#     phone_no_m['calltype_id_1_voc_day{}_count'.format(i)] = phone_no_m['phone_no_m'].map(calltype_id_1_voc_day_cnt_res[i])\n",
    "\n",
    "# del calltype_id_1_voc_day_cnt_res\n",
    "# gc.collect()"
   ]
  },
  {
   "cell_type": "code",
   "execution_count": null,
   "metadata": {},
   "outputs": [],
   "source": []
  },
  {
   "cell_type": "code",
   "execution_count": null,
   "metadata": {},
   "outputs": [],
   "source": []
  },
  {
   "cell_type": "code",
   "execution_count": null,
   "metadata": {},
   "outputs": [],
   "source": []
  },
  {
   "cell_type": "markdown",
   "metadata": {},
   "source": [
    "## sms表"
   ]
  },
  {
   "cell_type": "code",
   "execution_count": 34,
   "metadata": {
    "ExecuteTime": {
     "end_time": "2020-06-22T14:44:10.860552Z",
     "start_time": "2020-06-22T14:44:08.756384Z"
    }
   },
   "outputs": [],
   "source": [
    "train_sms = pd.read_hdf('../input/train_sms.h5')\n",
    "test_sms = pd.read_hdf('../input/test_sms.h5')"
   ]
  },
  {
   "cell_type": "code",
   "execution_count": 35,
   "metadata": {
    "ExecuteTime": {
     "end_time": "2020-06-22T14:44:11.329286Z",
     "start_time": "2020-06-22T14:44:10.863552Z"
    }
   },
   "outputs": [
    {
     "data": {
      "text/plain": [
       "106"
      ]
     },
     "execution_count": 35,
     "metadata": {},
     "output_type": "execute_result"
    }
   ],
   "source": [
    "df_sms = pd.concat([train_sms, test_sms])\n",
    "\n",
    "del train_sms, test_sms\n",
    "gc.collect()"
   ]
  },
  {
   "cell_type": "code",
   "execution_count": 36,
   "metadata": {
    "ExecuteTime": {
     "end_time": "2020-06-22T14:44:16.736839Z",
     "start_time": "2020-06-22T14:44:11.333282Z"
    }
   },
   "outputs": [],
   "source": [
    "df_sms['sms_day'] = df_sms['request_datetime'].astype('datetime64').dt.day\n",
    "df_sms['sms_hour'] = df_sms['request_datetime'].astype('datetime64').dt.hour\n",
    "df_sms['sms_dayofweek'] = df_sms['request_datetime'].astype('datetime64').dt.dayofweek"
   ]
  },
  {
   "cell_type": "code",
   "execution_count": 37,
   "metadata": {
    "ExecuteTime": {
     "end_time": "2020-06-22T14:44:17.626645Z",
     "start_time": "2020-06-22T14:44:16.736839Z"
    }
   },
   "outputs": [],
   "source": [
    "phone_no_m = df_sms[[\"phone_no_m\"]].copy()\n",
    "phone_no_m = phone_no_m.drop_duplicates(subset=['phone_no_m'], keep='last')"
   ]
  },
  {
   "cell_type": "code",
   "execution_count": 38,
   "metadata": {
    "ExecuteTime": {
     "end_time": "2020-06-22T14:44:19.355200Z",
     "start_time": "2020-06-22T14:44:17.626645Z"
    }
   },
   "outputs": [
    {
     "data": {
      "text/plain": [
       "0"
      ]
     },
     "execution_count": 38,
     "metadata": {},
     "output_type": "execute_result"
    }
   ],
   "source": [
    "# 短信次数，短信人数\n",
    "tmp = df_sms.groupby('phone_no_m')['opposite_no_m'].agg(sms_cnt='count', sms_nunique='nunique')\n",
    "\n",
    "# 人均短信次数\n",
    "tmp['sms_cnt_per_capita'] = tmp['sms_cnt'] / (tmp['sms_nunique'] + 0.0001)\n",
    "phone_no_m = phone_no_m.merge(tmp, on='phone_no_m', how='left')\n",
    "\n",
    "del tmp\n",
    "gc.collect()"
   ]
  },
  {
   "cell_type": "code",
   "execution_count": 39,
   "metadata": {
    "ExecuteTime": {
     "end_time": "2020-06-22T14:44:20.519136Z",
     "start_time": "2020-06-22T14:44:19.359199Z"
    }
   },
   "outputs": [
    {
     "data": {
      "text/plain": [
       "0"
      ]
     },
     "execution_count": 39,
     "metadata": {},
     "output_type": "execute_result"
    }
   ],
   "source": [
    "\"\"\"\n",
    "短信上行，短信下行\n",
    "\"\"\"\n",
    "\n",
    "# 短信上行\n",
    "df_sms_calltype1 = df_sms[df_sms['calltype_id'] == 1].copy()\n",
    "tmp = df_sms_calltype1.groupby('phone_no_m')['calltype_id'].agg(sms_calltype1_cnt=\"count\")\n",
    "phone_no_m = phone_no_m.merge(tmp, on='phone_no_m', how='left')\n",
    "\n",
    "# 短信上行比例\n",
    "phone_no_m['sms_calltype1_rate'] = phone_no_m['sms_calltype1_cnt'] / phone_no_m['sms_cnt']\n",
    "\n",
    "del tmp, df_sms_calltype1\n",
    "\n",
    "# 短信下行\n",
    "df_sms_calltype2 = df_sms[df_sms['calltype_id'] == 2].copy()\n",
    "tmp = df_sms_calltype2.groupby('opposite_no_m')['calltype_id'].agg(sms_calltype2_cnt=\"count\")\n",
    "phone_no_m = phone_no_m.merge(tmp, left_on='phone_no_m', right_on='opposite_no_m', how='left')\n",
    "\n",
    "# 短信下行比例\n",
    "phone_no_m['sms_calltype2_rate'] = phone_no_m['sms_calltype2_cnt'] / phone_no_m['sms_cnt']\n",
    "\n",
    "# 短信上行/短信下行\n",
    "phone_no_m['type1_rate/type2_rate'] = phone_no_m['sms_calltype1_cnt'] / (phone_no_m['sms_calltype2_cnt'] + 0.00001)\n",
    "\n",
    "# 删除，效果变差\n",
    "# # 短信下行/短信上行\n",
    "# phone_no_m['type2_rate/type1_rate'] = phone_no_m['sms_calltype2_cnt'] / (phone_no_m['sms_calltype1_cnt'] + 0.00001)\n",
    "\n",
    "del tmp, df_sms_calltype2\n",
    "gc.collect()"
   ]
  },
  {
   "cell_type": "code",
   "execution_count": 40,
   "metadata": {
    "ExecuteTime": {
     "end_time": "2020-06-22T14:44:28.927406Z",
     "start_time": "2020-06-22T14:44:20.522017Z"
    }
   },
   "outputs": [
    {
     "data": {
      "text/plain": [
       "0"
      ]
     },
     "execution_count": 40,
     "metadata": {},
     "output_type": "execute_result"
    }
   ],
   "source": [
    "\"\"\"\n",
    "短信时间点的偏好\n",
    "\"\"\"\n",
    "\n",
    "tmp = df_sms.groupby('phone_no_m')['sms_hour'].agg(sms_hour_mode=lambda x: stats.mode(x)[0][0],        # 频次最高的元素\n",
    "                                                   sms_hour_mode_count=lambda x: stats.mode(x)[1][0],  # 频次最高的元素的频次\n",
    "                                                   sms_hour_nunique='nunique')                          # 一个月有多少个小时发了短信\n",
    "phone_no_m = phone_no_m.merge(tmp, on='phone_no_m', how='left')\n",
    "\n",
    "del tmp\n",
    "gc.collect()\n",
    "\n",
    "tmp = df_sms.groupby('phone_no_m')['sms_day'].agg(sms_day_mode=lambda x: stats.mode(x)[0][0],          # 频次最高的元素\n",
    "                                                  sms_day_mode_count=lambda x: stats.mode(x)[1][0],    # 频次最高的元素的频次\n",
    "                                                  sms_day_nunique='nunique')                            # 一个月有多少天发了短信\n",
    "phone_no_m = phone_no_m.merge(tmp, on='phone_no_m', how='left')\n",
    "\n",
    "del tmp\n",
    "gc.collect()\n",
    "\n",
    "\n",
    "tmp = df_sms.groupby('phone_no_m')['sms_dayofweek'].agg(sms_dayofweek_mode=lambda x: stats.mode(x)[0][0],          # 频次最高的元素\n",
    "                                                        sms_dayofweek_mode_count=lambda x: stats.mode(x)[1][0],    # 频次最高的元素的频次\n",
    "                                                        sms_dayofweek_nunique='nunique')                            # 一个月有多少天发了短信\n",
    "phone_no_m = phone_no_m.merge(tmp, on='phone_no_m', how='left')\n",
    "\n",
    "del tmp\n",
    "gc.collect()"
   ]
  },
  {
   "cell_type": "code",
   "execution_count": 41,
   "metadata": {
    "ExecuteTime": {
     "end_time": "2020-06-22T14:44:31.071330Z",
     "start_time": "2020-06-22T14:44:28.930405Z"
    }
   },
   "outputs": [],
   "source": [
    "# 每天的短信次数\n",
    "sms_day_res = df_sms.groupby(['phone_no_m', 'sms_day'])['phone_no_m'].count().unstack()\n",
    "for i in df_sms['sms_day'].unique():\n",
    "    phone_no_m['sms_day{}_count'.format(i)] = phone_no_m['phone_no_m'].map(sms_day_res[i])\n",
    "\n",
    "\n",
    "# 每小时的短信次数\n",
    "sms_hour_res = df_sms.groupby(['phone_no_m', 'sms_hour'])['phone_no_m'].count().unstack()\n",
    "for i in df_sms['sms_hour'].unique():\n",
    "    phone_no_m['sms_hour{}_count'.format(i)] = phone_no_m['phone_no_m'].map(sms_hour_res[i])\n",
    "    \n",
    "    \n",
    "# 每周几的短信次数\n",
    "sms_dayofweek_res = df_sms.groupby(['phone_no_m', 'sms_dayofweek'])['phone_no_m'].count().unstack()\n",
    "for i in df_sms['sms_dayofweek'].unique():\n",
    "    phone_no_m['sms_weekofday{}_count'.format(i)] = phone_no_m['phone_no_m'].map(sms_dayofweek_res[i])"
   ]
  },
  {
   "cell_type": "code",
   "execution_count": 42,
   "metadata": {
    "ExecuteTime": {
     "end_time": "2020-06-22T14:44:31.196259Z",
     "start_time": "2020-06-22T14:44:31.073328Z"
    }
   },
   "outputs": [
    {
     "data": {
      "text/plain": [
       "64"
      ]
     },
     "execution_count": 42,
     "metadata": {},
     "output_type": "execute_result"
    }
   ],
   "source": [
    "phone_no_m.to_hdf('../input/sms_features.h5', 'df', index=False)\n",
    "\n",
    "del phone_no_m\n",
    "gc.collect()"
   ]
  },
  {
   "cell_type": "markdown",
   "metadata": {},
   "source": [
    "## app表"
   ]
  },
  {
   "cell_type": "code",
   "execution_count": 43,
   "metadata": {
    "ExecuteTime": {
     "end_time": "2020-06-22T14:44:31.552186Z",
     "start_time": "2020-06-22T14:44:31.198257Z"
    }
   },
   "outputs": [],
   "source": [
    "train_app = pd.read_hdf('../input/train_app.h5')\n",
    "test_app = pd.read_hdf('../input/test_app.h5')"
   ]
  },
  {
   "cell_type": "code",
   "execution_count": 44,
   "metadata": {
    "ExecuteTime": {
     "end_time": "2020-06-22T14:44:31.672103Z",
     "start_time": "2020-06-22T14:44:31.554169Z"
    }
   },
   "outputs": [
    {
     "data": {
      "text/plain": [
       "106"
      ]
     },
     "execution_count": 44,
     "metadata": {},
     "output_type": "execute_result"
    }
   ],
   "source": [
    "df_app = pd.concat([train_app, test_app])\n",
    "\n",
    "del train_app, test_app\n",
    "gc.collect()"
   ]
  },
  {
   "cell_type": "code",
   "execution_count": 45,
   "metadata": {
    "ExecuteTime": {
     "end_time": "2020-06-22T14:44:31.903966Z",
     "start_time": "2020-06-22T14:44:31.675097Z"
    }
   },
   "outputs": [],
   "source": [
    "phone_no_m = df_app[['phone_no_m']].copy()\n",
    "phone_no_m = phone_no_m.drop_duplicates(subset=['phone_no_m'], keep='last')"
   ]
  },
  {
   "cell_type": "code",
   "execution_count": 46,
   "metadata": {
    "ExecuteTime": {
     "end_time": "2020-06-22T14:44:32.228781Z",
     "start_time": "2020-06-22T14:44:31.905966Z"
    }
   },
   "outputs": [
    {
     "data": {
      "text/plain": [
       "40"
      ]
     },
     "execution_count": 46,
     "metadata": {},
     "output_type": "execute_result"
    }
   ],
   "source": [
    "# APP数\n",
    "tmp = df_app.groupby('phone_no_m')['busi_name'].agg(busi_cnt='count')\n",
    "phone_no_m = phone_no_m.merge(tmp, on='phone_no_m', how='left')\n",
    "del tmp\n",
    "gc.collect()"
   ]
  },
  {
   "cell_type": "code",
   "execution_count": 47,
   "metadata": {
    "ExecuteTime": {
     "end_time": "2020-06-22T14:44:33.982181Z",
     "start_time": "2020-06-22T14:44:32.230778Z"
    }
   },
   "outputs": [
    {
     "data": {
      "text/plain": [
       "20"
      ]
     },
     "execution_count": 47,
     "metadata": {},
     "output_type": "execute_result"
    }
   ],
   "source": [
    "\"\"\"\n",
    "流量统计\n",
    "\"\"\"\n",
    "tmp = df_app.groupby(\"phone_no_m\")[\"flow\"].agg(flow_mean='mean',\n",
    "                                               flow_median='median',\n",
    "                                               flow_min='min',\n",
    "                                               flow_max='max',\n",
    "                                               flow_std='std',\n",
    "                                               flow_sum='sum',\n",
    "                                               flow_skew='skew')\n",
    "phone_no_m = phone_no_m.merge(tmp, on='phone_no_m', how='left')\n",
    "\n",
    "del tmp\n",
    "gc.collect()"
   ]
  },
  {
   "cell_type": "code",
   "execution_count": 48,
   "metadata": {
    "ExecuteTime": {
     "end_time": "2020-06-22T14:44:34.092118Z",
     "start_time": "2020-06-22T14:44:33.985179Z"
    }
   },
   "outputs": [
    {
     "data": {
      "text/plain": [
       "75"
      ]
     },
     "execution_count": 48,
     "metadata": {},
     "output_type": "execute_result"
    }
   ],
   "source": [
    "phone_no_m.to_hdf('../input/app_features.h5', 'df', index=False)\n",
    "\n",
    "del phone_no_m\n",
    "gc.collect()"
   ]
  },
  {
   "cell_type": "markdown",
   "metadata": {},
   "source": [
    "## 读取数据，建模"
   ]
  },
  {
   "cell_type": "code",
   "execution_count": 49,
   "metadata": {
    "ExecuteTime": {
     "end_time": "2020-06-22T14:44:35.834010Z",
     "start_time": "2020-06-22T14:44:34.096116Z"
    }
   },
   "outputs": [
    {
     "name": "stdout",
     "output_type": "stream",
     "text": [
      "Memory usage of dataframe is 4042896.00 MB\n",
      "Memory usage after optimization is: 1858428.00 MB\n",
      "Decreased by 54.0%\n",
      "Memory usage of dataframe is 13331632.00 MB\n",
      "Memory usage after optimization is: 3441516.00 MB\n",
      "Decreased by 74.2%\n",
      "Memory usage of dataframe is 4455000.00 MB\n",
      "Memory usage after optimization is: 1292500.00 MB\n",
      "Decreased by 71.0%\n"
     ]
    }
   ],
   "source": [
    "df_user = reduce_mem_usage(pd.read_hdf('../input/user_features.h5'))\n",
    "df_voc = reduce_mem_usage(pd.read_hdf('../input/voc_features.h5'))\n",
    "df_sms = reduce_mem_usage(pd.read_hdf('../input/sms_features.h5'))\n",
    "# df_app = reduce_mem_usage(pd.read_hdf('../input/app_features.h5'))"
   ]
  },
  {
   "cell_type": "code",
   "execution_count": 50,
   "metadata": {
    "ExecuteTime": {
     "end_time": "2020-06-22T14:44:35.843006Z",
     "start_time": "2020-06-22T14:44:35.836008Z"
    }
   },
   "outputs": [
    {
     "data": {
      "text/plain": [
       "((8151, 91), (6788, 246), (6875, 80))"
      ]
     },
     "execution_count": 50,
     "metadata": {},
     "output_type": "execute_result"
    }
   ],
   "source": [
    "df_user.shape, df_voc.shape, df_sms.shape #, df_app.shape"
   ]
  },
  {
   "cell_type": "code",
   "execution_count": 51,
   "metadata": {
    "ExecuteTime": {
     "end_time": "2020-06-22T14:44:36.151827Z",
     "start_time": "2020-06-22T14:44:35.846004Z"
    }
   },
   "outputs": [
    {
     "data": {
      "text/plain": [
       "0"
      ]
     },
     "execution_count": 51,
     "metadata": {},
     "output_type": "execute_result"
    }
   ],
   "source": [
    "df = df_user.merge(df_voc, on='phone_no_m', how='left')\n",
    "df = df.merge(df_sms, on='phone_no_m', how='left')\n",
    "# df = df.merge(df_app, on='phone_no_m', how='left')\n",
    "\n",
    "del df_user, df_voc, df_sms#, df_app\n",
    "gc.collect()"
   ]
  },
  {
   "cell_type": "code",
   "execution_count": 52,
   "metadata": {
    "ExecuteTime": {
     "end_time": "2020-06-22T14:44:36.161822Z",
     "start_time": "2020-06-22T14:44:36.154826Z"
    }
   },
   "outputs": [
    {
     "data": {
      "text/plain": [
       "(8151, 415)"
      ]
     },
     "execution_count": 52,
     "metadata": {},
     "output_type": "execute_result"
    }
   ],
   "source": [
    "df.shape"
   ]
  },
  {
   "cell_type": "code",
   "execution_count": 53,
   "metadata": {
    "ExecuteTime": {
     "end_time": "2020-06-22T14:44:36.216790Z",
     "start_time": "2020-06-22T14:44:36.164821Z"
    }
   },
   "outputs": [
    {
     "name": "stdout",
     "output_type": "stream",
     "text": [
      "<class 'pandas.core.frame.DataFrame'>\n",
      "Int64Index: 8151 entries, 0 to 8150\n",
      "Columns: 415 entries, phone_no_m to sms_weekofday5_count\n",
      "dtypes: float16(342), float32(10), float64(39), int16(11), int8(12), object(1)\n",
      "memory usage: 8.4+ MB\n"
     ]
    }
   ],
   "source": [
    "df.info()"
   ]
  },
  {
   "cell_type": "code",
   "execution_count": 54,
   "metadata": {
    "ExecuteTime": {
     "end_time": "2020-06-22T14:44:36.284754Z",
     "start_time": "2020-06-22T14:44:36.218788Z"
    }
   },
   "outputs": [
    {
     "data": {
      "text/plain": [
       "phone_no_m                                                 0\n",
       "city_name_idcard_cnt*arpu_202004_nunique                   0\n",
       "city_name_arpu_202004/idcard_cnt_max                       0\n",
       "city_name_arpu_202004/idcard_cnt_min                       0\n",
       "city_name_arpu_202004/idcard_cnt_median                    0\n",
       "city_name_arpu_202004/idcard_cnt_mean                      0\n",
       "city_name_arpu_202004/idcard_cnt_skew                      0\n",
       "city_name_arpu_202004/idcard_cnt_nunique                   0\n",
       "county_name_idcard_cnt_max                                 0\n",
       "county_name_idcard_cnt_min                                 0\n",
       "county_name_idcard_cnt_median                              0\n",
       "county_name_idcard_cnt_mean                                0\n",
       "county_name_idcard_cnt_nunique                             0\n",
       "city_name_idcard_cnt*arpu_202004_mean                      0\n",
       "county_name_arpu_202004_nunique                            0\n",
       "county_name_arpu_202004/idcard_cnt_nunique                 0\n",
       "city_name_county_name_idcard_cnt_max                       0\n",
       "city_name_county_name_idcard_cnt_min                       0\n",
       "city_name_county_name_idcard_cnt_median                    0\n",
       "city_name_county_name_idcard_cnt_mean                      0\n",
       "city_name_county_name_idcard_cnt_nunique                   0\n",
       "city_name_county_name_idcard_cnt*arpu_202004_nunique       0\n",
       "city_name_county_name_arpu_202004/idcard_cnt_nunique       0\n",
       "city_name_count                                            0\n",
       "county_name_count                                          0\n",
       "city_name_county_name_count                                0\n",
       "idcard_cnt_count                                           0\n",
       "county_name_idcard_cnt*arpu_202004_nunique                 0\n",
       "city_name_idcard_cnt*arpu_202004_median                    0\n",
       "city_name_county_name_arpu_202004_nunique                  0\n",
       "city_name_idcard_cnt*arpu_202004_max                       0\n",
       "city_name                                                  0\n",
       "city_name_idcard_cnt*arpu_202004_min                       0\n",
       "idcard_cnt                                                 0\n",
       "city_name_county_name                                      0\n",
       "city_name_pred_0                                           0\n",
       "city_name_pred_1                                           0\n",
       "county_name_pred_0                                         0\n",
       "county_name_pred_1                                         0\n",
       "city_name_county_name_pred_0                               0\n",
       "city_name_county_name_pred_1                               0\n",
       "city_name_idcard_cnt_max                                   0\n",
       "county_name                                                0\n",
       "city_name_idcard_cnt_median                                0\n",
       "city_name_idcard_cnt_skew                                  0\n",
       "city_name_idcard_cnt_nunique                               0\n",
       "city_name_arpu_202004_max                                  0\n",
       "city_name_arpu_202004_mean                                 0\n",
       "city_name_idcard_cnt_min                                   0\n",
       "city_name_arpu_202004_nunique                              0\n",
       "city_name_idcard_cnt_mean                                  0\n",
       "city_name_arpu_202004_median                               0\n",
       "city_name_arpu_202004_min                                  0\n",
       "city_name_county_name_arpu_202004/idcard_cnt_max           3\n",
       "city_name_county_name_arpu_202004_min                      3\n",
       "city_name_county_name_arpu_202004_median                   3\n",
       "city_name_county_name_arpu_202004_mean                     3\n",
       "city_name_county_name_idcard_cnt*arpu_202004_mean          3\n",
       "city_name_county_name_idcard_cnt*arpu_202004_median        3\n",
       "city_name_county_name_arpu_202004_max                      3\n",
       "city_name_county_name_arpu_202004/idcard_cnt_min           3\n",
       "county_name_arpu_202004/idcard_cnt_median                  3\n",
       "county_name_arpu_202004/idcard_cnt_mean                    3\n",
       "city_name_county_name_idcard_cnt*arpu_202004_max           3\n",
       "county_name_arpu_202004/idcard_cnt_min                     3\n",
       "county_name_arpu_202004/idcard_cnt_max                     3\n",
       "city_name_county_name_arpu_202004/idcard_cnt_mean          3\n",
       "county_name_idcard_cnt*arpu_202004_mean                    3\n",
       "county_name_idcard_cnt*arpu_202004_median                  3\n",
       "county_name_idcard_cnt*arpu_202004_min                     3\n",
       "county_name_idcard_cnt*arpu_202004_max                     3\n",
       "county_name_arpu_202004_mean                               3\n",
       "county_name_arpu_202004_median                             3\n",
       "county_name_arpu_202004_min                                3\n",
       "county_name_arpu_202004_max                                3\n",
       "city_name_county_name_arpu_202004/idcard_cnt_median        3\n",
       "city_name_county_name_idcard_cnt*arpu_202004_min           3\n",
       "county_name_idcard_cnt_skew                               33\n",
       "city_name_county_name_idcard_cnt_skew                     33\n",
       "county_name_arpu_202004/idcard_cnt_skew                   37\n",
       "city_name_county_name_arpu_202004/idcard_cnt_skew         37\n",
       "arpu_202004/idcard_cnt                                   913\n",
       "idcard_cnt*arpu_202004                                   913\n",
       "arpu_202004                                              913\n",
       "sms_dayofweek_nunique                                   1276\n",
       "sms_dayofweek_mode                                      1276\n",
       "sms_day_nunique                                         1276\n",
       "sms_day_mode_count                                      1276\n",
       "sms_day_mode                                            1276\n",
       "sms_hour_nunique                                        1276\n",
       "sms_dayofweek_mode_count                                1276\n",
       "sms_hour_mode                                           1276\n",
       "sms_cnt_per_capita                                      1276\n",
       "sms_nunique                                             1276\n",
       "sms_cnt                                                 1276\n",
       "sms_hour_mode_count                                     1276\n",
       "phone2opposite_call_dur_max                             1363\n",
       "phone2opposite_call_dur_mean                            1363\n",
       "phone2opposite_call_dur_median                          1363\n",
       "phone2opposite_call_dur_min                             1363\n",
       "phone2opposite_cnt_max                                  1363\n",
       "voc_day_mode_count                                      1363\n",
       "call_dur_max                                            1363\n",
       "call_dur_median                                         1363\n",
       "voc_hour_nunique                                        1363\n",
       "phone2opposite_cnt_min                                  1363\n",
       "voc_day_nunique                                         1363\n",
       "voc_dayofweek_mode                                      1363\n",
       "voc_hour_mode_count                                     1363\n",
       "voc_hour_mode                                           1363\n",
       "call_dur_mean                                           1363\n",
       "calltype_id_unique                                      1363\n",
       "county_name_nunique_y                                   1363\n",
       "city_name_nunique_y                                     1363\n",
       "voc_dayofweek_mode_count                                1363\n",
       "call_dur_sum                                            1363\n",
       "call_dur_min                                            1363\n",
       "voc_day_mode                                            1363\n",
       "city_name_county_name_nunique_y                         1363\n",
       "phone2opposite_cnt_median                               1363\n",
       "voc_day_cnt_mean                                        1363\n",
       "voc_dayofweek_nunique                                   1363\n",
       "opposite_cnt                                            1363\n",
       "opposite_nunique                                        1363\n",
       "voc_cnt_per_capita                                      1363\n",
       "phone2opposite_cnt_mean                                 1363\n",
       "call_dur_std                                            1543\n",
       "voc_calltype_id_1_call_dur_sum                          1597\n",
       "voc_calltype_id_1_cnt                                   1597\n",
       "imeis_1                                                 1597\n",
       "call_type_id_1_rate                                     1597\n",
       "city_name_nunique_x                                     1597\n",
       "county_name_nunique_x                                   1597\n",
       "city_name_county_name_nunique_x                         1597\n",
       "phone2opposite_cnt_std                                  1651\n",
       "phone2opposite_call_dur_std                             1651\n",
       "sms_weekofday1_count                                    1671\n",
       "sms_weekofday0_count                                    1710\n",
       "voc_day_cnt_std                                         1718\n",
       "sms_weekofday3_count                                    1752\n",
       "sms_weekofday2_count                                    1773\n",
       "voc_calltype_id_1_60s_rate                              1780\n",
       "voc_calltype_id_1_60s_cnt                               1780\n",
       "sms_hour11_count                                        1808\n",
       "sms_weekofday4_count                                    1821\n",
       "sms_hour10_count                                        1864\n",
       "sms_weekofday6_count                                    1873\n",
       "voc_calltype_id_1_30s_cnt                               1940\n",
       "voc_calltype_id_1_30s_rate                              1940\n",
       "sms_weekofday5_count                                    1984\n",
       "sms_hour15_count                                        1988\n",
       "sms_hour14_count                                        1992\n",
       "label                                                   2045\n",
       "sms_hour12_count                                        2053\n",
       "sms_hour13_count                                        2073\n",
       "sms_hour16_count                                        2124\n",
       "sms_hour9_count                                         2195\n",
       "sms_hour17_count                                        2202\n",
       "voc_dayofweek1_call_dur_sum                             2363\n",
       "voc_dayofweek1_count                                    2363\n",
       "voc_dayofweek1_nunique                                  2363\n",
       "voc_dayofweek0_count                                    2410\n",
       "voc_dayofweek0_call_dur_sum                             2410\n",
       "voc_dayofweek0_nunique                                  2410\n",
       "voc_dayofweek2_count                                    2455\n",
       "voc_dayofweek2_call_dur_sum                             2455\n",
       "voc_dayofweek2_nunique                                  2455\n",
       "voc_dayofweek3_nunique                                  2472\n",
       "voc_dayofweek3_call_dur_sum                             2472\n",
       "voc_dayofweek3_count                                    2472\n",
       "sms_hour18_count                                        2493\n",
       "voc_dayofweek6_nunique                                  2495\n",
       "voc_dayofweek6_count                                    2495\n",
       "voc_dayofweek6_call_dur_sum                             2495\n",
       "voc_dayofweek4_call_dur_sum                             2499\n",
       "voc_dayofweek4_count                                    2499\n",
       "voc_dayofweek4_nunique                                  2499\n",
       "voc_hour11_count                                        2606\n",
       "voc_hour11_call_dur_sum                                 2606\n",
       "voc_hour11_nunique                                      2606\n",
       "voc_hour10_count                                        2638\n",
       "voc_hour10_call_dur_sum                                 2638\n",
       "voc_hour10_nunique                                      2638\n",
       "voc_dayofweek5_count                                    2688\n",
       "voc_dayofweek5_call_dur_sum                             2688\n",
       "voc_dayofweek5_nunique                                  2688\n",
       "sms_day15_count                                         2713\n",
       "sms_day17_count                                         2727\n",
       "sms_day10_count                                         2738\n",
       "sms_day3_count                                          2747\n",
       "voc_hour12_nunique                                      2749\n",
       "voc_hour12_count                                        2749\n",
       "voc_hour12_call_dur_sum                                 2749\n",
       "sms_day24_count                                         2776\n",
       "voc_hour17_count                                        2812\n",
       "voc_hour17_call_dur_sum                                 2812\n",
       "voc_hour17_nunique                                      2812\n",
       "sms_day9_count                                          2818\n",
       "voc_hour14_count                                        2828\n",
       "voc_hour14_call_dur_sum                                 2828\n",
       "voc_hour14_nunique                                      2828\n",
       "sms_day13_count                                         2843\n",
       "voc_hour13_nunique                                      2855\n",
       "voc_hour13_count                                        2855\n",
       "voc_hour13_call_dur_sum                                 2855\n",
       "sms_hour19_count                                        2861\n",
       "voc_hour15_call_dur_sum                                 2864\n",
       "voc_hour15_count                                        2864\n",
       "voc_hour15_nunique                                      2864\n",
       "voc_hour16_nunique                                      2880\n",
       "voc_hour16_call_dur_sum                                 2880\n",
       "voc_hour16_count                                        2880\n",
       "sms_day26_count                                         2902\n",
       "voc_hour18_nunique                                      2916\n",
       "voc_hour18_count                                        2916\n",
       "voc_hour18_call_dur_sum                                 2916\n",
       "voc_hour9_call_dur_sum                                  2932\n",
       "voc_hour9_count                                         2932\n",
       "voc_hour9_nunique                                       2932\n",
       "sms_day12_count                                         2947\n",
       "sms_day30_count                                         3022\n",
       "sms_day19_count                                         3066\n",
       "sms_day16_count                                         3093\n",
       "sms_hour20_count                                        3098\n",
       "sms_day1_count                                          3109\n",
       "sms_day27_count                                         3118\n",
       "sms_day28_count                                         3130\n",
       "voc_hour19_nunique                                      3165\n",
       "voc_hour19_count                                        3165\n",
       "voc_hour19_call_dur_sum                                 3165\n",
       "sms_day6_count                                          3219\n",
       "sms_day25_count                                         3278\n",
       "sms_day20_count                                         3283\n",
       "sms_day5_count                                          3298\n",
       "sms_day18_count                                         3299\n",
       "sms_day2_count                                          3321\n",
       "sms_day14_count                                         3325\n",
       "sms_day11_count                                         3328\n",
       "sms_hour8_count                                         3346\n",
       "sms_day7_count                                          3482\n",
       "voc_hour20_nunique                                      3495\n",
       "voc_hour20_call_dur_sum                                 3495\n",
       "voc_hour20_count                                        3495\n",
       "sms_day8_count                                          3523\n",
       "sms_day4_count                                          3579\n",
       "sms_hour21_count                                        3588\n",
       "voc_hour8_nunique                                       3670\n",
       "voc_hour8_call_dur_sum                                  3670\n",
       "voc_hour8_count                                         3670\n",
       "sms_day23_count                                         3680\n",
       "sms_day21_count                                         3708\n",
       "voc_day20_count                                         4045\n",
       "voc_day20_call_dur_sum                                  4045\n",
       "voc_day20_nunique                                       4045\n",
       "voc_calltype_id_1_300s_rate                             4066\n",
       "voc_calltype_id_1_300s_cnt                              4066\n",
       "sms_day22_count                                         4097\n",
       "voc_day19_count                                         4128\n",
       "voc_day19_nunique                                       4128\n",
       "voc_day19_call_dur_sum                                  4128\n",
       "voc_day17_nunique                                       4135\n",
       "voc_day17_call_dur_sum                                  4135\n",
       "voc_day17_count                                         4135\n",
       "voc_day18_call_dur_sum                                  4136\n",
       "voc_day18_nunique                                       4136\n",
       "voc_day18_count                                         4136\n",
       "voc_day24_count                                         4139\n",
       "voc_day24_nunique                                       4139\n",
       "voc_day24_call_dur_sum                                  4139\n",
       "voc_day13_nunique                                       4168\n",
       "voc_day13_count                                         4168\n",
       "voc_day13_call_dur_sum                                  4168\n",
       "voc_day23_nunique                                       4173\n",
       "voc_day23_call_dur_sum                                  4173\n",
       "voc_day23_count                                         4173\n",
       "voc_day25_nunique                                       4195\n",
       "voc_day25_count                                         4195\n",
       "voc_day25_call_dur_sum                                  4195\n",
       "voc_day11_count                                         4196\n",
       "voc_day11_call_dur_sum                                  4196\n",
       "voc_day11_nunique                                       4196\n",
       "voc_day16_count                                         4202\n",
       "voc_day16_call_dur_sum                                  4202\n",
       "voc_day16_nunique                                       4202\n",
       "voc_day9_nunique                                        4205\n",
       "voc_day9_call_dur_sum                                   4205\n",
       "voc_day9_count                                          4205\n",
       "voc_day26_call_dur_sum                                  4207\n",
       "voc_day26_nunique                                       4207\n",
       "voc_day26_count                                         4207\n",
       "voc_day27_nunique                                       4223\n",
       "voc_day30_nunique                                       4223\n",
       "voc_day30_call_dur_sum                                  4223\n",
       "voc_day27_call_dur_sum                                  4223\n",
       "voc_day27_count                                         4223\n",
       "voc_day30_count                                         4223\n",
       "voc_day10_call_dur_sum                                  4237\n",
       "voc_day10_nunique                                       4237\n",
       "voc_day10_count                                         4237\n",
       "voc_day14_count                                         4245\n",
       "voc_day14_nunique                                       4245\n",
       "voc_day14_call_dur_sum                                  4245\n",
       "voc_day22_count                                         4253\n",
       "voc_day22_nunique                                       4253\n",
       "voc_day22_call_dur_sum                                  4253\n",
       "voc_day21_call_dur_sum                                  4261\n",
       "voc_day21_count                                         4261\n",
       "voc_day21_nunique                                       4261\n",
       "voc_day12_call_dur_sum                                  4262\n",
       "voc_day12_nunique                                       4262\n",
       "voc_day12_count                                         4262\n",
       "voc_day6_count                                          4270\n",
       "voc_day6_call_dur_sum                                   4270\n",
       "voc_day6_nunique                                        4270\n",
       "voc_day7_call_dur_sum                                   4272\n",
       "sms_day29_count                                         4272\n",
       "voc_day7_count                                          4272\n",
       "voc_day7_nunique                                        4272\n",
       "voc_day4_count                                          4286\n",
       "voc_day4_nunique                                        4286\n",
       "voc_day4_call_dur_sum                                   4286\n",
       "voc_hour21_nunique                                      4287\n",
       "voc_hour21_call_dur_sum                                 4287\n",
       "voc_hour21_count                                        4287\n",
       "voc_day3_call_dur_sum                                   4303\n",
       "voc_day3_count                                          4303\n",
       "voc_day3_nunique                                        4303\n",
       "voc_day28_call_dur_sum                                  4308\n",
       "voc_day28_nunique                                       4308\n",
       "voc_day28_count                                         4308\n",
       "voc_day15_call_dur_sum                                  4313\n",
       "voc_day15_nunique                                       4313\n",
       "voc_day15_count                                         4313\n",
       "voc_day29_nunique                                       4318\n",
       "voc_day29_call_dur_sum                                  4318\n",
       "voc_day29_count                                         4318\n",
       "voc_day5_count                                          4331\n",
       "voc_day5_call_dur_sum                                   4331\n",
       "voc_day5_nunique                                        4331\n",
       "voc_day8_call_dur_sum                                   4341\n",
       "voc_day8_count                                          4341\n",
       "voc_day8_nunique                                        4341\n",
       "sms_day31_count                                         4342\n",
       "voc_day1_call_dur_sum                                   4344\n",
       "voc_day1_count                                          4344\n",
       "voc_day1_nunique                                        4344\n",
       "voc_day2_count                                          4384\n",
       "voc_day2_nunique                                        4384\n",
       "voc_day2_call_dur_sum                                   4384\n",
       "sms_hour22_count                                        4736\n",
       "sms_calltype1_rate                                      4839\n",
       "sms_calltype1_cnt                                       4839\n",
       "voc_hour7_call_dur_sum                                  4981\n",
       "voc_hour7_count                                         4981\n",
       "voc_hour7_nunique                                       4981\n",
       "voc_day31_count                                         5261\n",
       "voc_day31_nunique                                       5261\n",
       "voc_day31_call_dur_sum                                  5261\n",
       "sms_hour7_count                                         5404\n",
       "voc_hour22_count                                        5575\n",
       "voc_hour22_nunique                                      5575\n",
       "voc_hour22_call_dur_sum                                 5575\n",
       "sms_hour23_count                                        6262\n",
       "voc_hour6_count                                         6728\n",
       "voc_hour6_nunique                                       6728\n",
       "voc_hour6_call_dur_sum                                  6728\n",
       "voc_hour23_nunique                                      6731\n",
       "voc_hour23_count                                        6731\n",
       "voc_hour23_call_dur_sum                                 6731\n",
       "sms_hour0_count                                         6765\n",
       "sms_hour6_count                                         7112\n",
       "sms_hour1_count                                         7243\n",
       "voc_hour0_count                                         7323\n",
       "voc_hour0_nunique                                       7323\n",
       "voc_hour0_call_dur_sum                                  7323\n",
       "city_name_county_name_arpu_202004_skew                  7396\n",
       "county_name_arpu_202004_skew                            7396\n",
       "sms_hour2_count                                         7428\n",
       "sms_hour5_count                                         7575\n",
       "sms_hour3_count                                         7598\n",
       "voc_hour1_call_dur_sum                                  7629\n",
       "voc_hour1_count                                         7629\n",
       "voc_hour1_nunique                                       7629\n",
       "voc_hour5_call_dur_sum                                  7658\n",
       "voc_hour5_nunique                                       7658\n",
       "voc_hour5_count                                         7658\n",
       "sms_hour4_count                                         7683\n",
       "voc_hour2_call_dur_sum                                  7800\n",
       "voc_hour2_nunique                                       7800\n",
       "voc_hour2_count                                         7800\n",
       "voc_hour4_call_dur_sum                                  7871\n",
       "voc_hour4_nunique                                       7871\n",
       "voc_hour4_count                                         7871\n",
       "voc_hour3_nunique                                       7873\n",
       "voc_hour3_call_dur_sum                                  7873\n",
       "voc_hour3_count                                         7873\n",
       "voc_calltype_id_3_cnt                                   8004\n",
       "call_type_id_3_rate                                     8004\n",
       "county_name_idcard_cnt*arpu_202004_skew                 8091\n",
       "city_name_county_name_idcard_cnt*arpu_202004_skew       8091\n",
       "imeis_2                                                 8119\n",
       "voc_calltype_id_2_call_dur_sum                          8119\n",
       "voc_calltype_id_2_cnt                                   8119\n",
       "call_type_id_2_rate                                     8119\n",
       "voc_calltype_id_2_60s_cnt                               8124\n",
       "voc_calltype_id_2_60s_rate                              8124\n",
       "voc_calltype_id_2_30s_cnt                               8130\n",
       "voc_calltype_id_2_30s_rate                              8130\n",
       "voc_calltype_id_2_300s_cnt                              8149\n",
       "voc_calltype_id_2_300s_rate                             8149\n",
       "type1_rate/type2_rate                                   8151\n",
       "sms_calltype2_cnt                                       8151\n",
       "city_name_idcard_cnt*arpu_202004_skew                   8151\n",
       "city_name_arpu_202004_skew                              8151\n",
       "sms_calltype2_rate                                      8151\n",
       "dtype: int64"
      ]
     },
     "execution_count": 54,
     "metadata": {},
     "output_type": "execute_result"
    }
   ],
   "source": [
    "df.isnull().sum().sort_values()"
   ]
  },
  {
   "cell_type": "code",
   "execution_count": 55,
   "metadata": {
    "ExecuteTime": {
     "end_time": "2020-06-22T14:44:36.319731Z",
     "start_time": "2020-06-22T14:44:36.289755Z"
    }
   },
   "outputs": [],
   "source": [
    "df = df.fillna(df.mode().iloc[0,:])\n",
    "# df.fillna(999999, inplace=True)"
   ]
  },
  {
   "cell_type": "code",
   "execution_count": 57,
   "metadata": {
    "ExecuteTime": {
     "end_time": "2020-06-22T14:46:28.799449Z",
     "start_time": "2020-06-22T14:46:28.738491Z"
    }
   },
   "outputs": [
    {
     "data": {
      "text/plain": [
       "phone_no_m                                              0\n",
       "voc_hour17_nunique                                      0\n",
       "voc_hour16_nunique                                      0\n",
       "voc_hour8_nunique                                       0\n",
       "voc_hour22_nunique                                      0\n",
       "voc_hour13_nunique                                      0\n",
       "voc_hour10_nunique                                      0\n",
       "voc_hour20_nunique                                      0\n",
       "voc_hour6_nunique                                       0\n",
       "voc_hour14_nunique                                      0\n",
       "voc_hour12_nunique                                      0\n",
       "voc_hour7_nunique                                       0\n",
       "voc_hour9_nunique                                       0\n",
       "voc_hour15_nunique                                      0\n",
       "voc_hour11_nunique                                      0\n",
       "voc_hour18_nunique                                      0\n",
       "voc_hour21_nunique                                      0\n",
       "voc_hour4_count                                         0\n",
       "voc_hour2_count                                         0\n",
       "voc_hour3_count                                         0\n",
       "voc_hour0_count                                         0\n",
       "voc_hour23_count                                        0\n",
       "voc_hour1_count                                         0\n",
       "voc_hour19_nunique                                      0\n",
       "voc_hour5_count                                         0\n",
       "voc_hour5_nunique                                       0\n",
       "voc_hour23_nunique                                      0\n",
       "voc_hour5_call_dur_sum                                  0\n",
       "voc_hour7_call_dur_sum                                  0\n",
       "voc_hour17_call_dur_sum                                 0\n",
       "voc_hour16_call_dur_sum                                 0\n",
       "voc_hour8_call_dur_sum                                  0\n",
       "voc_hour22_call_dur_sum                                 0\n",
       "voc_hour13_call_dur_sum                                 0\n",
       "voc_hour10_call_dur_sum                                 0\n",
       "voc_hour20_call_dur_sum                                 0\n",
       "voc_hour6_call_dur_sum                                  0\n",
       "voc_hour1_nunique                                       0\n",
       "voc_hour14_call_dur_sum                                 0\n",
       "voc_hour9_call_dur_sum                                  0\n",
       "voc_hour19_call_dur_sum                                 0\n",
       "voc_hour15_call_dur_sum                                 0\n",
       "voc_hour11_call_dur_sum                                 0\n",
       "voc_hour18_call_dur_sum                                 0\n",
       "voc_hour21_call_dur_sum                                 0\n",
       "voc_hour4_nunique                                       0\n",
       "voc_hour2_nunique                                       0\n",
       "voc_hour3_nunique                                       0\n",
       "voc_hour0_nunique                                       0\n",
       "voc_hour12_call_dur_sum                                 0\n",
       "voc_hour1_call_dur_sum                                  0\n",
       "voc_hour7_count                                         0\n",
       "voc_hour16_count                                        0\n",
       "voc_day7_call_dur_sum                                   0\n",
       "voc_day17_call_dur_sum                                  0\n",
       "voc_day29_call_dur_sum                                  0\n",
       "voc_day21_call_dur_sum                                  0\n",
       "voc_day19_call_dur_sum                                  0\n",
       "voc_day16_call_dur_sum                                  0\n",
       "voc_day20_call_dur_sum                                  0\n",
       "voc_day30_call_dur_sum                                  0\n",
       "voc_day28_call_dur_sum                                  0\n",
       "voc_day13_call_dur_sum                                  0\n",
       "voc_day14_call_dur_sum                                  0\n",
       "voc_day27_call_dur_sum                                  0\n",
       "voc_day10_call_dur_sum                                  0\n",
       "voc_day6_call_dur_sum                                   0\n",
       "voc_day9_call_dur_sum                                   0\n",
       "voc_day3_call_dur_sum                                   0\n",
       "voc_day1_call_dur_sum                                   0\n",
       "voc_day23_call_dur_sum                                  0\n",
       "voc_day22_call_dur_sum                                  0\n",
       "voc_day11_nunique                                       0\n",
       "voc_day25_nunique                                       0\n",
       "voc_day24_nunique                                       0\n",
       "voc_day26_call_dur_sum                                  0\n",
       "voc_hour17_count                                        0\n",
       "voc_day15_call_dur_sum                                  0\n",
       "voc_day2_call_dur_sum                                   0\n",
       "voc_hour8_count                                         0\n",
       "voc_hour22_count                                        0\n",
       "voc_hour13_count                                        0\n",
       "voc_hour10_count                                        0\n",
       "voc_hour20_count                                        0\n",
       "voc_hour6_count                                         0\n",
       "voc_hour14_count                                        0\n",
       "voc_hour12_count                                        0\n",
       "voc_hour9_count                                         0\n",
       "voc_hour19_count                                        0\n",
       "voc_day5_call_dur_sum                                   0\n",
       "voc_hour15_count                                        0\n",
       "voc_hour18_count                                        0\n",
       "voc_hour21_count                                        0\n",
       "voc_day11_call_dur_sum                                  0\n",
       "voc_day25_call_dur_sum                                  0\n",
       "voc_day24_call_dur_sum                                  0\n",
       "voc_day4_call_dur_sum                                   0\n",
       "voc_day31_call_dur_sum                                  0\n",
       "voc_day18_call_dur_sum                                  0\n",
       "voc_day8_call_dur_sum                                   0\n",
       "voc_day12_call_dur_sum                                  0\n",
       "voc_hour11_count                                        0\n",
       "voc_day4_nunique                                        0\n",
       "voc_hour23_call_dur_sum                                 0\n",
       "voc_hour3_call_dur_sum                                  0\n",
       "sms_hour16_count                                        0\n",
       "sms_hour14_count                                        0\n",
       "sms_hour10_count                                        0\n",
       "sms_day31_count                                         0\n",
       "sms_day30_count                                         0\n",
       "sms_day29_count                                         0\n",
       "sms_day28_count                                         0\n",
       "sms_day27_count                                         0\n",
       "sms_day26_count                                         0\n",
       "sms_day25_count                                         0\n",
       "sms_hour18_count                                        0\n",
       "sms_day24_count                                         0\n",
       "sms_day22_count                                         0\n",
       "sms_day21_count                                         0\n",
       "sms_day20_count                                         0\n",
       "sms_day19_count                                         0\n",
       "sms_day18_count                                         0\n",
       "sms_day17_count                                         0\n",
       "sms_day16_count                                         0\n",
       "sms_day15_count                                         0\n",
       "sms_day14_count                                         0\n",
       "sms_day13_count                                         0\n",
       "sms_day23_count                                         0\n",
       "sms_day12_count                                         0\n",
       "sms_hour13_count                                        0\n",
       "sms_hour11_count                                        0\n",
       "sms_weekofday3_count                                    0\n",
       "sms_weekofday2_count                                    0\n",
       "sms_weekofday1_count                                    0\n",
       "sms_weekofday0_count                                    0\n",
       "sms_weekofday6_count                                    0\n",
       "sms_hour1_count                                         0\n",
       "sms_hour4_count                                         0\n",
       "sms_hour5_count                                         0\n",
       "sms_hour6_count                                         0\n",
       "sms_hour23_count                                        0\n",
       "sms_hour17_count                                        0\n",
       "sms_hour19_count                                        0\n",
       "sms_hour7_count                                         0\n",
       "sms_hour3_count                                         0\n",
       "sms_hour12_count                                        0\n",
       "sms_hour2_count                                         0\n",
       "sms_hour15_count                                        0\n",
       "sms_hour21_count                                        0\n",
       "sms_hour8_count                                         0\n",
       "sms_hour20_count                                        0\n",
       "sms_hour0_count                                         0\n",
       "sms_hour9_count                                         0\n",
       "sms_hour22_count                                        0\n",
       "voc_hour0_call_dur_sum                                  0\n",
       "sms_day11_count                                         0\n",
       "sms_day9_count                                          0\n",
       "voc_dayofweek5_call_dur_sum                             0\n",
       "voc_dayofweek3_call_dur_sum                             0\n",
       "voc_dayofweek4_call_dur_sum                             0\n",
       "voc_dayofweek1_call_dur_sum                             0\n",
       "voc_dayofweek0_call_dur_sum                             0\n",
       "voc_dayofweek6_call_dur_sum                             0\n",
       "voc_dayofweek2_nunique                                  0\n",
       "voc_dayofweek5_nunique                                  0\n",
       "voc_dayofweek3_nunique                                  0\n",
       "voc_dayofweek4_nunique                                  0\n",
       "voc_dayofweek2_call_dur_sum                             0\n",
       "voc_dayofweek1_nunique                                  0\n",
       "voc_dayofweek6_nunique                                  0\n",
       "voc_dayofweek2_count                                    0\n",
       "voc_dayofweek5_count                                    0\n",
       "voc_dayofweek3_count                                    0\n",
       "voc_dayofweek4_count                                    0\n",
       "voc_dayofweek1_count                                    0\n",
       "voc_dayofweek0_count                                    0\n",
       "voc_dayofweek6_count                                    0\n",
       "voc_hour4_call_dur_sum                                  0\n",
       "voc_hour2_call_dur_sum                                  0\n",
       "voc_dayofweek0_nunique                                  0\n",
       "sms_day10_count                                         0\n",
       "sms_cnt                                                 0\n",
       "sms_cnt_per_capita                                      0\n",
       "sms_day8_count                                          0\n",
       "sms_day7_count                                          0\n",
       "sms_day6_count                                          0\n",
       "sms_day5_count                                          0\n",
       "sms_day4_count                                          0\n",
       "sms_day3_count                                          0\n",
       "sms_day2_count                                          0\n",
       "sms_day1_count                                          0\n",
       "sms_dayofweek_nunique                                   0\n",
       "sms_dayofweek_mode_count                                0\n",
       "sms_nunique                                             0\n",
       "sms_dayofweek_mode                                      0\n",
       "sms_day_mode_count                                      0\n",
       "sms_day_mode                                            0\n",
       "sms_hour_nunique                                        0\n",
       "sms_hour_mode_count                                     0\n",
       "sms_hour_mode                                           0\n",
       "type1_rate/type2_rate                                   0\n",
       "sms_calltype2_rate                                      0\n",
       "sms_calltype2_cnt                                       0\n",
       "sms_calltype1_rate                                      0\n",
       "sms_calltype1_cnt                                       0\n",
       "sms_day_nunique                                         0\n",
       "sms_weekofday4_count                                    0\n",
       "voc_day31_nunique                                       0\n",
       "voc_day8_nunique                                        0\n",
       "city_name_county_name_arpu_202004_nunique               0\n",
       "city_name_county_name_arpu_202004_skew                  0\n",
       "city_name_county_name_arpu_202004_mean                  0\n",
       "city_name_county_name_arpu_202004_median                0\n",
       "city_name_county_name_arpu_202004_min                   0\n",
       "city_name_county_name_arpu_202004_max                   0\n",
       "city_name_county_name_idcard_cnt_nunique                0\n",
       "city_name_county_name_idcard_cnt_skew                   0\n",
       "city_name_county_name_idcard_cnt_mean                   0\n",
       "city_name_county_name_idcard_cnt_median                 0\n",
       "city_name_county_name_idcard_cnt*arpu_202004_max        0\n",
       "city_name_county_name_idcard_cnt_min                    0\n",
       "county_name_arpu_202004/idcard_cnt_nunique              0\n",
       "county_name_arpu_202004/idcard_cnt_skew                 0\n",
       "county_name_arpu_202004/idcard_cnt_mean                 0\n",
       "county_name_arpu_202004/idcard_cnt_median               0\n",
       "county_name_arpu_202004/idcard_cnt_min                  0\n",
       "county_name_arpu_202004/idcard_cnt_max                  0\n",
       "county_name_idcard_cnt*arpu_202004_nunique              0\n",
       "county_name_idcard_cnt*arpu_202004_skew                 0\n",
       "county_name_idcard_cnt*arpu_202004_mean                 0\n",
       "county_name_idcard_cnt*arpu_202004_median               0\n",
       "city_name_county_name_idcard_cnt_max                    0\n",
       "county_name_idcard_cnt*arpu_202004_min                  0\n",
       "city_name_county_name_idcard_cnt*arpu_202004_min        0\n",
       "city_name_county_name_idcard_cnt*arpu_202004_mean       0\n",
       "voc_calltype_id_1_30s_rate                              0\n",
       "voc_calltype_id_1_300s_cnt                              0\n",
       "voc_calltype_id_1_60s_cnt                               0\n",
       "voc_calltype_id_1_30s_cnt                               0\n",
       "voc_calltype_id_1_call_dur_sum                          0\n",
       "imeis_1                                                 0\n",
       "voc_calltype_id_1_cnt                                   0\n",
       "voc_cnt_per_capita                                      0\n",
       "opposite_nunique                                        0\n",
       "opposite_cnt                                            0\n",
       "city_name_county_name_idcard_cnt*arpu_202004_median     0\n",
       "idcard_cnt_count                                        0\n",
       "county_name_count                                       0\n",
       "city_name_count                                         0\n",
       "city_name_county_name_arpu_202004/idcard_cnt_nunique    0\n",
       "city_name_county_name_arpu_202004/idcard_cnt_skew       0\n",
       "city_name_county_name_arpu_202004/idcard_cnt_mean       0\n",
       "city_name_county_name_arpu_202004/idcard_cnt_median     0\n",
       "city_name_county_name_arpu_202004/idcard_cnt_min        0\n",
       "city_name_county_name_arpu_202004/idcard_cnt_max        0\n",
       "city_name_county_name_idcard_cnt*arpu_202004_nunique    0\n",
       "city_name_county_name_idcard_cnt*arpu_202004_skew       0\n",
       "city_name_county_name_count                             0\n",
       "voc_calltype_id_1_60s_rate                              0\n",
       "county_name_idcard_cnt*arpu_202004_max                  0\n",
       "county_name_arpu_202004_skew                            0\n",
       "city_name_arpu_202004_min                               0\n",
       "city_name_arpu_202004_max                               0\n",
       "city_name_idcard_cnt_nunique                            0\n",
       "city_name_idcard_cnt_skew                               0\n",
       "city_name_idcard_cnt_mean                               0\n",
       "city_name_idcard_cnt_median                             0\n",
       "city_name_idcard_cnt_min                                0\n",
       "city_name_idcard_cnt_max                                0\n",
       "arpu_202004/idcard_cnt                                  0\n",
       "idcard_cnt*arpu_202004                                  0\n",
       "city_name_arpu_202004_median                            0\n",
       "label                                                   0\n",
       "city_name_county_name_pred_0                            0\n",
       "county_name_pred_1                                      0\n",
       "county_name_pred_0                                      0\n",
       "city_name_pred_1                                        0\n",
       "city_name_pred_0                                        0\n",
       "city_name_county_name                                   0\n",
       "arpu_202004                                             0\n",
       "idcard_cnt                                              0\n",
       "county_name                                             0\n",
       "city_name                                               0\n",
       "city_name_county_name_pred_1                            0\n",
       "county_name_arpu_202004_nunique                         0\n",
       "city_name_arpu_202004_mean                              0\n",
       "city_name_arpu_202004_nunique                           0\n",
       "county_name_arpu_202004_mean                            0\n",
       "county_name_arpu_202004_median                          0\n",
       "county_name_arpu_202004_min                             0\n",
       "county_name_arpu_202004_max                             0\n",
       "county_name_idcard_cnt_nunique                          0\n",
       "county_name_idcard_cnt_skew                             0\n",
       "county_name_idcard_cnt_mean                             0\n",
       "county_name_idcard_cnt_median                           0\n",
       "county_name_idcard_cnt_min                              0\n",
       "county_name_idcard_cnt_max                              0\n",
       "city_name_arpu_202004_skew                              0\n",
       "city_name_arpu_202004/idcard_cnt_nunique                0\n",
       "city_name_arpu_202004/idcard_cnt_mean                   0\n",
       "city_name_arpu_202004/idcard_cnt_median                 0\n",
       "city_name_arpu_202004/idcard_cnt_min                    0\n",
       "city_name_arpu_202004/idcard_cnt_max                    0\n",
       "city_name_idcard_cnt*arpu_202004_nunique                0\n",
       "city_name_idcard_cnt*arpu_202004_skew                   0\n",
       "city_name_idcard_cnt*arpu_202004_mean                   0\n",
       "city_name_idcard_cnt*arpu_202004_median                 0\n",
       "city_name_idcard_cnt*arpu_202004_min                    0\n",
       "city_name_idcard_cnt*arpu_202004_max                    0\n",
       "city_name_arpu_202004/idcard_cnt_skew                   0\n",
       "voc_day18_nunique                                       0\n",
       "voc_calltype_id_1_300s_rate                             0\n",
       "city_name_nunique_x                                     0\n",
       "voc_day24_count                                         0\n",
       "voc_day4_count                                          0\n",
       "voc_day31_count                                         0\n",
       "voc_day18_count                                         0\n",
       "voc_day8_count                                          0\n",
       "voc_day12_count                                         0\n",
       "voc_day2_count                                          0\n",
       "voc_day5_count                                          0\n",
       "voc_day15_count                                         0\n",
       "voc_day14_count                                         0\n",
       "voc_day25_count                                         0\n",
       "voc_day7_count                                          0\n",
       "voc_day29_count                                         0\n",
       "voc_day21_count                                         0\n",
       "voc_day19_count                                         0\n",
       "voc_day16_count                                         0\n",
       "voc_day20_count                                         0\n",
       "voc_day30_count                                         0\n",
       "voc_day28_count                                         0\n",
       "voc_day13_count                                         0\n",
       "voc_day27_count                                         0\n",
       "voc_day26_count                                         0\n",
       "voc_day17_count                                         0\n",
       "voc_day10_count                                         0\n",
       "voc_day11_count                                         0\n",
       "voc_day23_nunique                                       0\n",
       "voc_day12_nunique                                       0\n",
       "voc_day2_nunique                                        0\n",
       "voc_day5_nunique                                        0\n",
       "voc_day15_nunique                                       0\n",
       "voc_day14_nunique                                       0\n",
       "voc_day7_nunique                                        0\n",
       "voc_day17_nunique                                       0\n",
       "voc_day29_nunique                                       0\n",
       "voc_day21_nunique                                       0\n",
       "voc_day19_nunique                                       0\n",
       "voc_day22_nunique                                       0\n",
       "voc_day16_nunique                                       0\n",
       "voc_day30_nunique                                       0\n",
       "voc_day28_nunique                                       0\n",
       "voc_day13_nunique                                       0\n",
       "voc_day27_nunique                                       0\n",
       "voc_day26_nunique                                       0\n",
       "voc_day10_nunique                                       0\n",
       "voc_day6_nunique                                        0\n",
       "voc_day9_nunique                                        0\n",
       "voc_day3_nunique                                        0\n",
       "voc_day1_nunique                                        0\n",
       "voc_day20_nunique                                       0\n",
       "call_type_id_1_rate                                     0\n",
       "voc_day6_count                                          0\n",
       "voc_day3_count                                          0\n",
       "phone2opposite_call_dur_min                             0\n",
       "phone2opposite_call_dur_median                          0\n",
       "phone2opposite_call_dur_mean                            0\n",
       "phone2opposite_cnt_std                                  0\n",
       "phone2opposite_cnt_max                                  0\n",
       "phone2opposite_cnt_min                                  0\n",
       "phone2opposite_cnt_median                               0\n",
       "phone2opposite_cnt_mean                                 0\n",
       "call_type_id_3_rate                                     0\n",
       "voc_calltype_id_3_cnt                                   0\n",
       "phone2opposite_call_dur_max                             0\n",
       "call_type_id_2_rate                                     0\n",
       "voc_calltype_id_2_60s_rate                              0\n",
       "voc_calltype_id_2_30s_rate                              0\n",
       "voc_calltype_id_2_300s_cnt                              0\n",
       "voc_calltype_id_2_60s_cnt                               0\n",
       "voc_calltype_id_2_30s_cnt                               0\n",
       "voc_calltype_id_2_call_dur_sum                          0\n",
       "imeis_2                                                 0\n",
       "voc_calltype_id_2_cnt                                   0\n",
       "city_name_county_name_nunique_x                         0\n",
       "county_name_nunique_x                                   0\n",
       "voc_calltype_id_2_300s_rate                             0\n",
       "voc_day9_count                                          0\n",
       "phone2opposite_call_dur_std                             0\n",
       "call_dur_median                                         0\n",
       "voc_day1_count                                          0\n",
       "voc_day23_count                                         0\n",
       "voc_day22_count                                         0\n",
       "voc_day_cnt_std                                         0\n",
       "voc_day_cnt_mean                                        0\n",
       "voc_dayofweek_nunique                                   0\n",
       "voc_dayofweek_mode_count                                0\n",
       "voc_dayofweek_mode                                      0\n",
       "voc_day_nunique                                         0\n",
       "voc_day_mode_count                                      0\n",
       "call_dur_mean                                           0\n",
       "voc_day_mode                                            0\n",
       "voc_hour_mode_count                                     0\n",
       "voc_hour_mode                                           0\n",
       "calltype_id_unique                                      0\n",
       "city_name_county_name_nunique_y                         0\n",
       "county_name_nunique_y                                   0\n",
       "city_name_nunique_y                                     0\n",
       "call_dur_sum                                            0\n",
       "call_dur_std                                            0\n",
       "call_dur_min                                            0\n",
       "call_dur_max                                            0\n",
       "voc_hour_nunique                                        0\n",
       "sms_weekofday5_count                                    0\n",
       "dtype: int64"
      ]
     },
     "execution_count": 57,
     "metadata": {},
     "output_type": "execute_result"
    }
   ],
   "source": [
    "df.isnull().sum().sort_values()"
   ]
  },
  {
   "cell_type": "code",
   "execution_count": 56,
   "metadata": {
    "ExecuteTime": {
     "end_time": "2020-06-22T14:44:36.554597Z",
     "start_time": "2020-06-22T14:44:36.322730Z"
    }
   },
   "outputs": [
    {
     "ename": "ValueError",
     "evalue": "Input contains NaN, infinity or a value too large for dtype('float64').",
     "output_type": "error",
     "traceback": [
      "\u001b[1;31m---------------------------------------------------------------------------\u001b[0m",
      "\u001b[1;31mValueError\u001b[0m                                Traceback (most recent call last)",
      "\u001b[1;32m<ipython-input-56-5c4deeafec17>\u001b[0m in \u001b[0;36m<module>\u001b[1;34m\u001b[0m\n\u001b[0;32m      3\u001b[0m           random_state=2020)\n\u001b[0;32m      4\u001b[0m \u001b[1;33m\u001b[0m\u001b[0m\n\u001b[1;32m----> 5\u001b[1;33m \u001b[0mdf_nmf\u001b[0m \u001b[1;33m=\u001b[0m \u001b[0mnmf\u001b[0m\u001b[1;33m.\u001b[0m\u001b[0mfit_transform\u001b[0m\u001b[1;33m(\u001b[0m\u001b[0mdf\u001b[0m\u001b[1;33m.\u001b[0m\u001b[0mdrop\u001b[0m\u001b[1;33m(\u001b[0m\u001b[1;33m[\u001b[0m\u001b[1;34m'phone_no_m'\u001b[0m\u001b[1;33m,\u001b[0m \u001b[1;34m'label'\u001b[0m\u001b[1;33m]\u001b[0m\u001b[1;33m,\u001b[0m \u001b[0maxis\u001b[0m\u001b[1;33m=\u001b[0m\u001b[1;36m1\u001b[0m\u001b[1;33m)\u001b[0m\u001b[1;33m)\u001b[0m\u001b[1;33m\u001b[0m\u001b[1;33m\u001b[0m\u001b[0m\n\u001b[0m\u001b[0;32m      6\u001b[0m \u001b[0mdf_nmf\u001b[0m\u001b[1;33m[\u001b[0m\u001b[1;34m'label'\u001b[0m\u001b[1;33m]\u001b[0m \u001b[1;33m=\u001b[0m \u001b[0mdf\u001b[0m\u001b[1;33m[\u001b[0m\u001b[1;34m'label'\u001b[0m\u001b[1;33m]\u001b[0m\u001b[1;33m\u001b[0m\u001b[1;33m\u001b[0m\u001b[0m\n",
      "\u001b[1;32m~\\Anaconda3\\lib\\site-packages\\sklearn\\decomposition\\nmf.py\u001b[0m in \u001b[0;36mfit_transform\u001b[1;34m(self, X, y, W, H)\u001b[0m\n\u001b[0;32m   1262\u001b[0m             \u001b[0mTransformed\u001b[0m \u001b[0mdata\u001b[0m\u001b[1;33m.\u001b[0m\u001b[1;33m\u001b[0m\u001b[1;33m\u001b[0m\u001b[0m\n\u001b[0;32m   1263\u001b[0m         \"\"\"\n\u001b[1;32m-> 1264\u001b[1;33m         \u001b[0mX\u001b[0m \u001b[1;33m=\u001b[0m \u001b[0mcheck_array\u001b[0m\u001b[1;33m(\u001b[0m\u001b[0mX\u001b[0m\u001b[1;33m,\u001b[0m \u001b[0maccept_sparse\u001b[0m\u001b[1;33m=\u001b[0m\u001b[1;33m(\u001b[0m\u001b[1;34m'csr'\u001b[0m\u001b[1;33m,\u001b[0m \u001b[1;34m'csc'\u001b[0m\u001b[1;33m)\u001b[0m\u001b[1;33m,\u001b[0m \u001b[0mdtype\u001b[0m\u001b[1;33m=\u001b[0m\u001b[0mfloat\u001b[0m\u001b[1;33m)\u001b[0m\u001b[1;33m\u001b[0m\u001b[1;33m\u001b[0m\u001b[0m\n\u001b[0m\u001b[0;32m   1265\u001b[0m \u001b[1;33m\u001b[0m\u001b[0m\n\u001b[0;32m   1266\u001b[0m         W, H, n_iter_ = non_negative_factorization(\n",
      "\u001b[1;32m~\\Anaconda3\\lib\\site-packages\\sklearn\\utils\\validation.py\u001b[0m in \u001b[0;36mcheck_array\u001b[1;34m(array, accept_sparse, accept_large_sparse, dtype, order, copy, force_all_finite, ensure_2d, allow_nd, ensure_min_samples, ensure_min_features, warn_on_dtype, estimator)\u001b[0m\n\u001b[0;32m    540\u001b[0m         \u001b[1;32mif\u001b[0m \u001b[0mforce_all_finite\u001b[0m\u001b[1;33m:\u001b[0m\u001b[1;33m\u001b[0m\u001b[1;33m\u001b[0m\u001b[0m\n\u001b[0;32m    541\u001b[0m             _assert_all_finite(array,\n\u001b[1;32m--> 542\u001b[1;33m                                allow_nan=force_all_finite == 'allow-nan')\n\u001b[0m\u001b[0;32m    543\u001b[0m \u001b[1;33m\u001b[0m\u001b[0m\n\u001b[0;32m    544\u001b[0m     \u001b[1;32mif\u001b[0m \u001b[0mensure_min_samples\u001b[0m \u001b[1;33m>\u001b[0m \u001b[1;36m0\u001b[0m\u001b[1;33m:\u001b[0m\u001b[1;33m\u001b[0m\u001b[1;33m\u001b[0m\u001b[0m\n",
      "\u001b[1;32m~\\Anaconda3\\lib\\site-packages\\sklearn\\utils\\validation.py\u001b[0m in \u001b[0;36m_assert_all_finite\u001b[1;34m(X, allow_nan)\u001b[0m\n\u001b[0;32m     54\u001b[0m                 not allow_nan and not np.isfinite(X).all()):\n\u001b[0;32m     55\u001b[0m             \u001b[0mtype_err\u001b[0m \u001b[1;33m=\u001b[0m \u001b[1;34m'infinity'\u001b[0m \u001b[1;32mif\u001b[0m \u001b[0mallow_nan\u001b[0m \u001b[1;32melse\u001b[0m \u001b[1;34m'NaN, infinity'\u001b[0m\u001b[1;33m\u001b[0m\u001b[1;33m\u001b[0m\u001b[0m\n\u001b[1;32m---> 56\u001b[1;33m             \u001b[1;32mraise\u001b[0m \u001b[0mValueError\u001b[0m\u001b[1;33m(\u001b[0m\u001b[0mmsg_err\u001b[0m\u001b[1;33m.\u001b[0m\u001b[0mformat\u001b[0m\u001b[1;33m(\u001b[0m\u001b[0mtype_err\u001b[0m\u001b[1;33m,\u001b[0m \u001b[0mX\u001b[0m\u001b[1;33m.\u001b[0m\u001b[0mdtype\u001b[0m\u001b[1;33m)\u001b[0m\u001b[1;33m)\u001b[0m\u001b[1;33m\u001b[0m\u001b[1;33m\u001b[0m\u001b[0m\n\u001b[0m\u001b[0;32m     57\u001b[0m     \u001b[1;31m# for object dtype data, we only check for NaNs (GH-13254)\u001b[0m\u001b[1;33m\u001b[0m\u001b[1;33m\u001b[0m\u001b[1;33m\u001b[0m\u001b[0m\n\u001b[0;32m     58\u001b[0m     \u001b[1;32melif\u001b[0m \u001b[0mX\u001b[0m\u001b[1;33m.\u001b[0m\u001b[0mdtype\u001b[0m \u001b[1;33m==\u001b[0m \u001b[0mnp\u001b[0m\u001b[1;33m.\u001b[0m\u001b[0mdtype\u001b[0m\u001b[1;33m(\u001b[0m\u001b[1;34m'object'\u001b[0m\u001b[1;33m)\u001b[0m \u001b[1;32mand\u001b[0m \u001b[1;32mnot\u001b[0m \u001b[0mallow_nan\u001b[0m\u001b[1;33m:\u001b[0m\u001b[1;33m\u001b[0m\u001b[1;33m\u001b[0m\u001b[0m\n",
      "\u001b[1;31mValueError\u001b[0m: Input contains NaN, infinity or a value too large for dtype('float64')."
     ]
    }
   ],
   "source": [
    "nmf = NMF(n_components=300,\n",
    "          init='random',\n",
    "          random_state=2020)\n",
    "\n",
    "df_nmf = nmf.fit_transform(df.drop(['phone_no_m', 'label'], axis=1))\n",
    "df_nmf['label'] = df['label']"
   ]
  },
  {
   "cell_type": "code",
   "execution_count": null,
   "metadata": {
    "ExecuteTime": {
     "end_time": "2020-06-22T14:44:36.583581Z",
     "start_time": "2020-06-22T14:43:25.581Z"
    }
   },
   "outputs": [],
   "source": [
    "# astype('category')会掉分，不做此处理\n",
    "# for i in tqdm(cat_feat):\n",
    "#     print(i)\n",
    "#     df[i] = df[i].astype('category')"
   ]
  },
  {
   "cell_type": "code",
   "execution_count": null,
   "metadata": {
    "ExecuteTime": {
     "end_time": "2020-06-22T14:44:36.585580Z",
     "start_time": "2020-06-22T14:43:25.587Z"
    }
   },
   "outputs": [],
   "source": [
    "df_nmf = df_nmf.replace(999999, np.nan)"
   ]
  },
  {
   "cell_type": "code",
   "execution_count": null,
   "metadata": {
    "ExecuteTime": {
     "end_time": "2020-06-22T14:44:36.587581Z",
     "start_time": "2020-06-22T14:43:25.593Z"
    }
   },
   "outputs": [],
   "source": [
    "df_train = df_nmf[df_nmf.label.notna()]\n",
    "df_test = df_nmf[df_nmf.label.isna()]\n",
    "\n",
    "df_train.shape, df_test.shape"
   ]
  },
  {
   "cell_type": "code",
   "execution_count": null,
   "metadata": {
    "ExecuteTime": {
     "end_time": "2020-06-22T14:44:36.589577Z",
     "start_time": "2020-06-22T14:43:25.598Z"
    }
   },
   "outputs": [],
   "source": [
    "fs = FeatureSelector(data=df_train.drop(['phone_no_m', 'label'], axis=1), labels=df_train['label'])\n",
    "\n",
    "fs.identify_all(selection_params={'missing_threshold': 0.98,\n",
    "                                  'correlation_threshold': 0.98, \n",
    "                                  'task': 'classification',\n",
    "                                  'eval_metric': 'auc', \n",
    "                                  'cumulative_importance': 0.99})"
   ]
  },
  {
   "cell_type": "code",
   "execution_count": null,
   "metadata": {
    "ExecuteTime": {
     "end_time": "2020-06-22T14:44:36.591575Z",
     "start_time": "2020-06-22T14:43:25.602Z"
    }
   },
   "outputs": [],
   "source": [
    "train_removed_all_once = fs.remove(methods='all')\n",
    "# train_removed_all_once"
   ]
  },
  {
   "cell_type": "code",
   "execution_count": null,
   "metadata": {
    "ExecuteTime": {
     "end_time": "2020-06-22T14:44:36.593575Z",
     "start_time": "2020-06-22T14:43:25.607Z"
    }
   },
   "outputs": [],
   "source": [
    "use_cols = train_removed_all_once.columns.to_list()\n",
    "\n",
    "del train_removed_all_once\n",
    "gc.collect()"
   ]
  },
  {
   "cell_type": "code",
   "execution_count": null,
   "metadata": {
    "ExecuteTime": {
     "end_time": "2020-06-22T14:44:36.597572Z",
     "start_time": "2020-06-22T14:43:25.613Z"
    }
   },
   "outputs": [],
   "source": [
    "X_train, X_valid, y_train, y_valid = train_test_split(df_train[use_cols], df_train['label'],\n",
    "                                                      test_size=0.2,\n",
    "                                                      random_state=2020)"
   ]
  },
  {
   "cell_type": "code",
   "execution_count": null,
   "metadata": {
    "ExecuteTime": {
     "end_time": "2020-06-22T14:44:36.599571Z",
     "start_time": "2020-06-22T14:43:25.618Z"
    }
   },
   "outputs": [],
   "source": [
    "train_cols = [i for i in X_train.columns if i not in ['phone_no_m', 'label']]"
   ]
  },
  {
   "cell_type": "code",
   "execution_count": null,
   "metadata": {
    "ExecuteTime": {
     "end_time": "2020-06-22T14:44:36.601569Z",
     "start_time": "2020-06-22T14:43:25.625Z"
    }
   },
   "outputs": [],
   "source": [
    "params = {'objective': 'binary',\n",
    "          'boosting': 'gbdt',\n",
    "          'metric': 'auc',\n",
    "          'learning_rate': 0.1,\n",
    "          'num_leaves': 31,\n",
    "          'lambda_l1': 0.1,\n",
    "          'lambda_l2': 0,\n",
    "          'min_data_in_leaf': 20,\n",
    "          'is_unbalance': True,\n",
    "          'max_depth': -1,\n",
    "          'seed': 2020}"
   ]
  },
  {
   "cell_type": "code",
   "execution_count": null,
   "metadata": {
    "ExecuteTime": {
     "end_time": "2020-06-22T14:44:36.603569Z",
     "start_time": "2020-06-22T14:43:25.630Z"
    }
   },
   "outputs": [],
   "source": [
    "useful_cols = []\n",
    "useless_cols = []\n",
    "\n",
    "for i in train_cols:\n",
    "    print(i)\n",
    "    \n",
    "    lgb_train = lgb.Dataset(X_train[[i]].values, y_train) \n",
    "    lgb_valid= lgb.Dataset(X_valid[[i]].values, y_valid, reference=lgb_train)\n",
    "    lgb_test = lgb.train(params,\n",
    "                         lgb_train,\n",
    "                         num_boost_round=1000,\n",
    "                         valid_sets=[lgb_valid, lgb_train],\n",
    "                         early_stopping_rounds=50,\n",
    "                         verbose_eval=20)\n",
    "    \n",
    "    print('*' * 5)\n",
    "    print(lgb_test.best_score['valid_0']['auc'])\n",
    "    if lgb_test.best_score['valid_0']['auc'] > 0.52:\n",
    "        useful_cols.append(i)\n",
    "    else:\n",
    "        useless_cols.append(i)\n",
    "    print('*' * 20)\n",
    "    print('\\n')"
   ]
  },
  {
   "cell_type": "code",
   "execution_count": null,
   "metadata": {
    "ExecuteTime": {
     "end_time": "2020-06-22T14:44:36.606566Z",
     "start_time": "2020-06-22T14:43:25.637Z"
    }
   },
   "outputs": [],
   "source": [
    "print(useless_cols)"
   ]
  },
  {
   "cell_type": "code",
   "execution_count": null,
   "metadata": {
    "ExecuteTime": {
     "end_time": "2020-06-22T14:44:36.608566Z",
     "start_time": "2020-06-22T14:43:25.648Z"
    }
   },
   "outputs": [],
   "source": [
    "lgb_train = lgb.Dataset(X_train[useful_cols].values, y_train) \n",
    "\n",
    "lgb_valid= lgb.Dataset(X_valid[useful_cols].values, y_valid, reference=lgb_train)  \n",
    "\n",
    "print('Start training...')\n",
    "\n",
    "lgb_val_0 = lgb.train(params,\n",
    "                      lgb_train,\n",
    "                      num_boost_round=10000,\n",
    "                      valid_sets=[lgb_valid, lgb_train],\n",
    "                      early_stopping_rounds=100,\n",
    "                      verbose_eval=10)\n",
    "\n",
    "print('Done!')"
   ]
  },
  {
   "cell_type": "code",
   "execution_count": null,
   "metadata": {
    "ExecuteTime": {
     "end_time": "2020-06-22T14:44:36.612564Z",
     "start_time": "2020-06-22T14:43:25.655Z"
    }
   },
   "outputs": [],
   "source": [
    "# 验证集结果\n",
    "X_valid['prob'] = lgb_val_0.predict(X_valid[useful_cols])\n",
    "X_valid['pred'] = np.where(X_valid['prob'] > 0.4735, 1, 0)\n",
    "\n",
    "f1_04735 = np.round(f1_score(y_valid, X_valid['pred']), 4)\n",
    "auc_04735 = roc_auc_score(y_valid, X_valid['prob'])\n",
    "\n",
    "print('f1_04735: ', f1_04735)\n",
    "print('auc_04735: ', auc_04735)"
   ]
  },
  {
   "cell_type": "code",
   "execution_count": null,
   "metadata": {
    "ExecuteTime": {
     "end_time": "2020-06-22T14:44:36.614563Z",
     "start_time": "2020-06-22T14:43:25.671Z"
    }
   },
   "outputs": [],
   "source": [
    "lgb_train_all = lgb.Dataset(df_train[useful_cols].values, df_train['label'])   \n",
    "\n",
    "print('Start training...')\n",
    "\n",
    "lgb_model = lgb.train(params,\n",
    "                      lgb_train_all,\n",
    "                      num_boost_round=lgb_val_0.best_iteration + 20)\n",
    "\n",
    "print('Done!')"
   ]
  },
  {
   "cell_type": "code",
   "execution_count": null,
   "metadata": {
    "ExecuteTime": {
     "end_time": "2020-06-22T14:44:36.615561Z",
     "start_time": "2020-06-22T14:43:25.677Z"
    }
   },
   "outputs": [],
   "source": [
    "df_test['label'] = np.where(lgb_model.predict(df_test[useful_cols]) > 0.4735, 1, 0)\n",
    "df_test[['phone_no_m', 'label']].to_csv('../sub/sub_{}_{}.csv'.format(time.strftime('%Y%m%d'), f1_04735), index=False)"
   ]
  }
 ],
 "metadata": {
  "kernelspec": {
   "display_name": "Python 3",
   "language": "python",
   "name": "python3"
  },
  "language_info": {
   "codemirror_mode": {
    "name": "ipython",
    "version": 3
   },
   "file_extension": ".py",
   "mimetype": "text/x-python",
   "name": "python",
   "nbconvert_exporter": "python",
   "pygments_lexer": "ipython3",
   "version": "3.7.3"
  },
  "toc": {
   "base_numbering": 1,
   "nav_menu": {},
   "number_sections": true,
   "sideBar": true,
   "skip_h1_title": false,
   "title_cell": "Table of Contents",
   "title_sidebar": "Contents",
   "toc_cell": false,
   "toc_position": {},
   "toc_section_display": true,
   "toc_window_display": false
  },
  "varInspector": {
   "cols": {
    "lenName": 16,
    "lenType": 16,
    "lenVar": 40
   },
   "kernels_config": {
    "python": {
     "delete_cmd_postfix": "",
     "delete_cmd_prefix": "del ",
     "library": "var_list.py",
     "varRefreshCmd": "print(var_dic_list())"
    },
    "r": {
     "delete_cmd_postfix": ") ",
     "delete_cmd_prefix": "rm(",
     "library": "var_list.r",
     "varRefreshCmd": "cat(var_dic_list()) "
    }
   },
   "types_to_exclude": [
    "module",
    "function",
    "builtin_function_or_method",
    "instance",
    "_Feature"
   ],
   "window_display": false
  }
 },
 "nbformat": 4,
 "nbformat_minor": 2
}
