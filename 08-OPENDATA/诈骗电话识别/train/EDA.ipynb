{
 "cells": [
  {
   "cell_type": "code",
   "execution_count": 1,
   "metadata": {
    "ExecuteTime": {
     "end_time": "2020-06-23T10:02:23.261801Z",
     "start_time": "2020-06-23T10:02:22.257410Z"
    }
   },
   "outputs": [],
   "source": [
    "import numpy as np\n",
    "import pandas as pd\n",
    "import matplotlib.pyplot as plt\n",
    "import seaborn as sns\n",
    "import gc"
   ]
  },
  {
   "cell_type": "code",
   "execution_count": 2,
   "metadata": {
    "ExecuteTime": {
     "end_time": "2020-06-23T10:02:23.276760Z",
     "start_time": "2020-06-23T10:02:23.263803Z"
    }
   },
   "outputs": [],
   "source": [
    "# 节省内存读文件\n",
    "def reduce_mem_usage(df):\n",
    "    \"\"\"\n",
    "    iterate through all the columns of a dataframe and modify the data type to reduce memory usage.\n",
    "    @param df:\n",
    "    @return:\n",
    "    \"\"\"\n",
    "    start_mem = df.memory_usage().sum()\n",
    "    print('Memory usage of dataframe is {:.2f} MB'.format(start_mem))\n",
    "\n",
    "    for col in df.columns:\n",
    "        col_type = df[col].dtype\n",
    "\n",
    "        if col_type != object:\n",
    "            c_min = df[col].min()\n",
    "            c_max = df[col].max()\n",
    "            if str(col_type)[:3] == 'int':\n",
    "                if c_min > np.iinfo(np.int8).min and c_max < np.iinfo(np.int8).max:\n",
    "                    df[col] = df[col].astype(np.int8)\n",
    "                elif c_min > np.iinfo(np.int16).min and c_max < np.iinfo(np.int16).max:\n",
    "                    df[col] = df[col].astype(np.int16)\n",
    "                elif c_min > np.iinfo(np.int32).min and c_max < np.iinfo(np.int32).max:\n",
    "                    df[col] = df[col].astype(np.int32)\n",
    "                elif c_min > np.iinfo(np.int64).min and c_max < np.iinfo(np.int64).max:\n",
    "                    df[col] = df[col].astype(np.int64)\n",
    "            else:\n",
    "                if c_min > np.finfo(np.float16).min and c_max < np.finfo(np.float16).max:\n",
    "                    df[col] = df[col].astype(np.float16)\n",
    "                elif c_min > np.finfo(np.float32).min and c_max < np.finfo(np.float32).max:\n",
    "                    df[col] = df[col].astype(np.float32)\n",
    "                else:\n",
    "                    df[col] = df[col].astype(np.float64)\n",
    "        else:\n",
    "            df[col] = df[col].astype('str')\n",
    "\n",
    "    end_mem = df.memory_usage().sum()\n",
    "    print('Memory usage after optimization is: {:.2f} MB'.format(end_mem))\n",
    "    print('Decreased by {:.1f}%'.format(100 * (start_mem - end_mem) / start_mem))\n",
    "    return df"
   ]
  },
  {
   "cell_type": "code",
   "execution_count": 3,
   "metadata": {
    "ExecuteTime": {
     "end_time": "2020-06-23T10:02:23.700881Z",
     "start_time": "2020-06-23T10:02:23.277759Z"
    }
   },
   "outputs": [
    {
     "data": {
      "text/plain": [
       "66"
      ]
     },
     "execution_count": 3,
     "metadata": {},
     "output_type": "execute_result"
    }
   ],
   "source": [
    "train_user = pd.read_hdf('../input/train_user.h5')\n",
    "test_user = pd.read_hdf('../input/test_user.h5')\n",
    "\n",
    "df_user = pd.concat([train_user, test_user])\n",
    "\n",
    "del train_user, test_user\n",
    "gc.collect()"
   ]
  },
  {
   "cell_type": "code",
   "execution_count": 4,
   "metadata": {
    "ExecuteTime": {
     "end_time": "2020-06-23T10:02:25.190367Z",
     "start_time": "2020-06-23T10:02:23.701843Z"
    }
   },
   "outputs": [
    {
     "data": {
      "text/plain": [
       "44"
      ]
     },
     "execution_count": 4,
     "metadata": {},
     "output_type": "execute_result"
    }
   ],
   "source": [
    "train_voc = pd.read_hdf('../input/train_voc.h5')\n",
    "test_voc = pd.read_hdf('../input/test_voc.h5')\n",
    "\n",
    "df_voc = pd.concat([train_voc, test_voc])\n",
    "\n",
    "del train_voc, test_voc\n",
    "gc.collect()"
   ]
  },
  {
   "cell_type": "code",
   "execution_count": 5,
   "metadata": {
    "ExecuteTime": {
     "end_time": "2020-06-23T10:02:26.248431Z",
     "start_time": "2020-06-23T10:02:25.191365Z"
    }
   },
   "outputs": [
    {
     "data": {
      "text/plain": [
       "86"
      ]
     },
     "execution_count": 5,
     "metadata": {},
     "output_type": "execute_result"
    }
   ],
   "source": [
    "train_sms = pd.read_hdf('../input/train_sms.h5')\n",
    "test_sms = pd.read_hdf('../input/test_sms.h5')\n",
    "\n",
    "df_sms = pd.concat([train_sms, test_sms])\n",
    "\n",
    "del train_sms, test_sms\n",
    "gc.collect()"
   ]
  },
  {
   "cell_type": "code",
   "execution_count": 6,
   "metadata": {
    "ExecuteTime": {
     "end_time": "2020-06-23T10:02:26.254415Z",
     "start_time": "2020-06-23T10:02:26.249427Z"
    }
   },
   "outputs": [],
   "source": [
    "user_phone_no_m = df_user[['phone_no_m']].copy()"
   ]
  },
  {
   "cell_type": "code",
   "execution_count": 7,
   "metadata": {
    "ExecuteTime": {
     "end_time": "2020-06-23T10:02:26.261399Z",
     "start_time": "2020-06-23T10:02:26.257408Z"
    }
   },
   "outputs": [
    {
     "data": {
      "text/plain": [
       "Index(['phone_no_m', 'opposite_no_m', 'calltype_id', 'start_datetime',\n",
       "       'call_dur', 'city_name', 'county_name', 'imei_m'],\n",
       "      dtype='object')"
      ]
     },
     "execution_count": 7,
     "metadata": {},
     "output_type": "execute_result"
    }
   ],
   "source": [
    "df_voc.columns"
   ]
  },
  {
   "cell_type": "code",
   "execution_count": 8,
   "metadata": {
    "ExecuteTime": {
     "end_time": "2020-06-23T10:02:27.418546Z",
     "start_time": "2020-06-23T10:02:26.263392Z"
    }
   },
   "outputs": [
    {
     "data": {
      "text/plain": [
       "Index(['phone_no_m', 'opposite_no_m', 'calltype_id', 'start_datetime',\n",
       "       'call_dur', 'city_name', 'county_name', 'imei_m'],\n",
       "      dtype='object')"
      ]
     },
     "execution_count": 8,
     "metadata": {},
     "output_type": "execute_result"
    }
   ],
   "source": [
    "phone_no_m = user_phone_no_m.merge(df_voc, on='phone_no_m', how='left')\n",
    "phone_no_m = phone_no_m[phone_no_m['start_datetime'].notnull()]\n",
    "phone_no_m.columns"
   ]
  },
  {
   "cell_type": "code",
   "execution_count": 9,
   "metadata": {
    "ExecuteTime": {
     "end_time": "2020-06-23T10:02:41.388183Z",
     "start_time": "2020-06-23T10:02:41.382198Z"
    }
   },
   "outputs": [
    {
     "data": {
      "text/plain": [
       "(985666, 8)"
      ]
     },
     "execution_count": 9,
     "metadata": {},
     "output_type": "execute_result"
    }
   ],
   "source": [
    "phone_no_m.shape"
   ]
  },
  {
   "cell_type": "code",
   "execution_count": 10,
   "metadata": {
    "ExecuteTime": {
     "end_time": "2020-06-23T10:04:19.367933Z",
     "start_time": "2020-06-23T10:04:19.126580Z"
    }
   },
   "outputs": [
    {
     "data": {
      "text/plain": [
       "Index(['phone_no_m_x', 'phone_no_m_y', 'opposite_no_m', 'calltype_id',\n",
       "       'start_datetime', 'call_dur', 'city_name', 'county_name', 'imei_m'],\n",
       "      dtype='object')"
      ]
     },
     "execution_count": 10,
     "metadata": {},
     "output_type": "execute_result"
    }
   ],
   "source": [
    "opposite_no_m = user_phone_no_m.merge(df_voc, left_on='phone_no_m', right_on='opposite_no_m', how='left')\n",
    "opposite_no_m = opposite_no_m[opposite_no_m['start_datetime'].notnull()]\n",
    "opposite_no_m.columns"
   ]
  },
  {
   "cell_type": "code",
   "execution_count": 11,
   "metadata": {
    "ExecuteTime": {
     "end_time": "2020-06-23T10:04:27.419351Z",
     "start_time": "2020-06-23T10:04:27.412410Z"
    }
   },
   "outputs": [
    {
     "data": {
      "text/plain": [
       "(289, 9)"
      ]
     },
     "execution_count": 11,
     "metadata": {},
     "output_type": "execute_result"
    }
   ],
   "source": [
    "opposite_no_m.shape"
   ]
  },
  {
   "cell_type": "code",
   "execution_count": 12,
   "metadata": {
    "ExecuteTime": {
     "end_time": "2020-06-23T10:06:53.218066Z",
     "start_time": "2020-06-23T10:06:53.026607Z"
    }
   },
   "outputs": [
    {
     "data": {
      "text/plain": [
       "(985955, 8)"
      ]
     },
     "execution_count": 12,
     "metadata": {},
     "output_type": "execute_result"
    }
   ],
   "source": [
    "opposite_no_m.drop('phone_no_m_y', axis=1, inplace=True)\n",
    "opposite_no_m.rename(columns={'phone_no_m_x': 'opposite_no_m', 'opposite_no_m': 'phone_no_m'}, inplace=True)\n",
    "\n",
    "df_voc = pd.concat([phone_no_m, opposite_no_m])\n",
    "df_voc.shape"
   ]
  }
 ],
 "metadata": {
  "kernelspec": {
   "display_name": "Python 3",
   "language": "python",
   "name": "python3"
  },
  "language_info": {
   "codemirror_mode": {
    "name": "ipython",
    "version": 3
   },
   "file_extension": ".py",
   "mimetype": "text/x-python",
   "name": "python",
   "nbconvert_exporter": "python",
   "pygments_lexer": "ipython3",
   "version": "3.7.3"
  },
  "toc": {
   "base_numbering": 1,
   "nav_menu": {},
   "number_sections": true,
   "sideBar": true,
   "skip_h1_title": false,
   "title_cell": "Table of Contents",
   "title_sidebar": "Contents",
   "toc_cell": false,
   "toc_position": {},
   "toc_section_display": true,
   "toc_window_display": false
  },
  "varInspector": {
   "cols": {
    "lenName": 16,
    "lenType": 16,
    "lenVar": 40
   },
   "kernels_config": {
    "python": {
     "delete_cmd_postfix": "",
     "delete_cmd_prefix": "del ",
     "library": "var_list.py",
     "varRefreshCmd": "print(var_dic_list())"
    },
    "r": {
     "delete_cmd_postfix": ") ",
     "delete_cmd_prefix": "rm(",
     "library": "var_list.r",
     "varRefreshCmd": "cat(var_dic_list()) "
    }
   },
   "types_to_exclude": [
    "module",
    "function",
    "builtin_function_or_method",
    "instance",
    "_Feature"
   ],
   "window_display": false
  }
 },
 "nbformat": 4,
 "nbformat_minor": 4
}
