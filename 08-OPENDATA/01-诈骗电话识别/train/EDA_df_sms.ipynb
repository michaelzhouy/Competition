{
 "cells": [
  {
   "cell_type": "code",
   "execution_count": 1,
   "metadata": {
    "ExecuteTime": {
     "end_time": "2020-06-17T09:20:10.668934Z",
     "start_time": "2020-06-17T09:20:09.602170Z"
    }
   },
   "outputs": [],
   "source": [
    "import time\n",
    "import numpy as np\n",
    "import pandas as pd\n",
    "import matplotlib.pyplot as plt\n",
    "import seaborn as sns\n",
    "import lightgbm as lgb\n",
    "from scipy import stats\n",
    "import gc\n",
    "import warnings\n",
    "from tqdm import tqdm\n",
    "from sklearn.metrics import f1_score, roc_auc_score\n",
    "from sklearn.model_selection import train_test_split\n",
    "from sklearn.model_selection import StratifiedKFold, KFold\n",
    "from itertools import product\n",
    "from mlxtend.feature_selection import SequentialFeatureSelector\n",
    "\n",
    "warnings.filterwarnings('ignore')\n",
    "\n",
    "pd.set_option('display.unicode.ambiguous_as_wide', True)\n",
    "pd.set_option('display.unicode.east_asian_width', True)\n",
    "pd.set_option('display.max_columns', None)\n",
    "pd.set_option('display.max_rows', None)\n",
    "pd.set_option(\"display.max_colwidth\", 100)\n",
    "pd.set_option('display.width', 1000)"
   ]
  },
  {
   "cell_type": "code",
   "execution_count": 2,
   "metadata": {
    "ExecuteTime": {
     "end_time": "2020-06-17T09:20:10.683886Z",
     "start_time": "2020-06-17T09:20:10.669889Z"
    }
   },
   "outputs": [],
   "source": [
    "# 节省内存读文件\n",
    "def reduce_mem_usage(df):\n",
    "    \"\"\"\n",
    "    iterate through all the columns of a dataframe and modify the data type to reduce memory usage.\n",
    "    @param df:\n",
    "    @return:\n",
    "    \"\"\"\n",
    "    start_mem = df.memory_usage().sum()\n",
    "    print('Memory usage of dataframe is {:.2f} MB'.format(start_mem))\n",
    "\n",
    "    for col in df.columns:\n",
    "        col_type = df[col].dtype\n",
    "\n",
    "        if col_type != object:\n",
    "            c_min = df[col].min()\n",
    "            c_max = df[col].max()\n",
    "            if str(col_type)[:3] == 'int':\n",
    "                if c_min > np.iinfo(np.int8).min and c_max < np.iinfo(np.int8).max:\n",
    "                    df[col] = df[col].astype(np.int8)\n",
    "                elif c_min > np.iinfo(np.int16).min and c_max < np.iinfo(np.int16).max:\n",
    "                    df[col] = df[col].astype(np.int16)\n",
    "                elif c_min > np.iinfo(np.int32).min and c_max < np.iinfo(np.int32).max:\n",
    "                    df[col] = df[col].astype(np.int32)\n",
    "                elif c_min > np.iinfo(np.int64).min and c_max < np.iinfo(np.int64).max:\n",
    "                    df[col] = df[col].astype(np.int64)\n",
    "            else:\n",
    "                if c_min > np.finfo(np.float16).min and c_max < np.finfo(np.float16).max:\n",
    "                    df[col] = df[col].astype(np.float16)\n",
    "                elif c_min > np.finfo(np.float32).min and c_max < np.finfo(np.float32).max:\n",
    "                    df[col] = df[col].astype(np.float32)\n",
    "                else:\n",
    "                    df[col] = df[col].astype(np.float64)\n",
    "        else:\n",
    "            df[col] = df[col].astype('str')\n",
    "\n",
    "    end_mem = df.memory_usage().sum()\n",
    "    print('Memory usage after optimization is: {:.2f} MB'.format(end_mem))\n",
    "    print('Decreased by {:.1f}%'.format(100 * (start_mem - end_mem) / start_mem))\n",
    "    return df"
   ]
  },
  {
   "cell_type": "code",
   "execution_count": 3,
   "metadata": {
    "ExecuteTime": {
     "end_time": "2020-06-17T09:20:26.447425Z",
     "start_time": "2020-06-17T09:20:10.684854Z"
    }
   },
   "outputs": [
    {
     "name": "stdout",
     "output_type": "stream",
     "text": [
      "Memory usage of dataframe is 97824.00 MB\n",
      "Memory usage after optimization is: 55082.00 MB\n",
      "Decreased by 43.7%\n",
      "Memory usage of dataframe is 16488.00 MB\n",
      "Memory usage after optimization is: 16488.00 MB\n",
      "Decreased by 0.0%\n",
      "Memory usage of dataframe is 219152416.00 MB\n",
      "Memory usage after optimization is: 171212853.00 MB\n",
      "Decreased by 21.9%\n",
      "Memory usage of dataframe is 13084928.00 MB\n",
      "Memory usage after optimization is: 10222628.00 MB\n",
      "Decreased by 21.9%\n"
     ]
    }
   ],
   "source": [
    "train_user = reduce_mem_usage(pd.read_csv('../input/train/train_user.csv', usecols=['phone_no_m', 'label']))\n",
    "test_user = reduce_mem_usage(pd.read_csv('../input/test/test_user.csv', usecols=['phone_no_m']))\n",
    "\n",
    "train_sms = reduce_mem_usage(pd.read_csv('../input/train/train_sms.csv'))\n",
    "test_sms = reduce_mem_usage(pd.read_csv('../input/test/test_sms.csv'))"
   ]
  },
  {
   "cell_type": "code",
   "execution_count": 4,
   "metadata": {
    "ExecuteTime": {
     "end_time": "2020-06-17T09:20:26.484325Z",
     "start_time": "2020-06-17T09:20:26.448463Z"
    }
   },
   "outputs": [
    {
     "data": {
      "text/plain": [
       "20"
      ]
     },
     "execution_count": 4,
     "metadata": {},
     "output_type": "execute_result"
    }
   ],
   "source": [
    "df_user = pd.concat([train_user, test_user])\n",
    "\n",
    "del train_user, test_user\n",
    "gc.collect()"
   ]
  },
  {
   "cell_type": "code",
   "execution_count": 5,
   "metadata": {
    "ExecuteTime": {
     "end_time": "2020-06-17T09:20:26.978344Z",
     "start_time": "2020-06-17T09:20:26.485929Z"
    }
   },
   "outputs": [],
   "source": [
    "# 只取最后一个月的数据\n",
    "train_sms = train_sms[train_sms['request_datetime'] >= '2020-03-01 00:00:00']"
   ]
  },
  {
   "cell_type": "code",
   "execution_count": 6,
   "metadata": {
    "ExecuteTime": {
     "end_time": "2020-06-17T09:20:26.984329Z",
     "start_time": "2020-06-17T09:20:26.979341Z"
    }
   },
   "outputs": [
    {
     "data": {
      "text/plain": [
       "Index(['phone_no_m', 'opposite_no_m', 'calltype_id', 'request_datetime'], dtype='object')"
      ]
     },
     "execution_count": 6,
     "metadata": {},
     "output_type": "execute_result"
    }
   ],
   "source": [
    "train_sms.columns"
   ]
  },
  {
   "cell_type": "code",
   "execution_count": 7,
   "metadata": {
    "ExecuteTime": {
     "end_time": "2020-06-17T09:20:27.127003Z",
     "start_time": "2020-06-17T09:20:26.986324Z"
    }
   },
   "outputs": [
    {
     "data": {
      "text/plain": [
       "60"
      ]
     },
     "execution_count": 7,
     "metadata": {},
     "output_type": "execute_result"
    }
   ],
   "source": [
    "df_sms = pd.concat([train_sms, test_sms])\n",
    "\n",
    "del train_sms, test_sms\n",
    "gc.collect()"
   ]
  },
  {
   "cell_type": "code",
   "execution_count": 8,
   "metadata": {
    "ExecuteTime": {
     "end_time": "2020-06-17T09:20:30.398613Z",
     "start_time": "2020-06-17T09:20:27.127945Z"
    }
   },
   "outputs": [],
   "source": [
    "df_sms['sms_day'] = df_sms['request_datetime'].astype('datetime64').dt.day\n",
    "df_sms['sms_hour'] = df_sms['request_datetime'].astype('datetime64').dt.hour\n",
    "df_sms['sms_dayofweek'] = df_sms['request_datetime'].astype('datetime64').dt.dayofweek"
   ]
  },
  {
   "cell_type": "code",
   "execution_count": 9,
   "metadata": {
    "ExecuteTime": {
     "end_time": "2020-06-17T09:20:30.875868Z",
     "start_time": "2020-06-17T09:20:30.399615Z"
    }
   },
   "outputs": [],
   "source": [
    "phone_no_m = df_sms[[\"phone_no_m\"]].copy()\n",
    "phone_no_m = phone_no_m.drop_duplicates(subset=['phone_no_m'], keep='last')"
   ]
  },
  {
   "cell_type": "code",
   "execution_count": 10,
   "metadata": {
    "ExecuteTime": {
     "end_time": "2020-06-17T09:20:31.988912Z",
     "start_time": "2020-06-17T09:20:30.877540Z"
    }
   },
   "outputs": [
    {
     "data": {
      "text/plain": [
       "0"
      ]
     },
     "execution_count": 10,
     "metadata": {},
     "output_type": "execute_result"
    }
   ],
   "source": [
    "# 短信次数，短信人数\n",
    "tmp = df_sms.groupby('phone_no_m')['opposite_no_m'].agg(sms_cnt='count', sms_nunique='nunique')\n",
    "\n",
    "# 对端平均收到短信次数\n",
    "tmp['sms_avg'] = tmp['sms_cnt'] / tmp['sms_nunique']\n",
    "phone_no_m = phone_no_m.merge(tmp, on='phone_no_m', how='left')\n",
    "\n",
    "del tmp\n",
    "gc.collect()"
   ]
  },
  {
   "cell_type": "code",
   "execution_count": 11,
   "metadata": {
    "ExecuteTime": {
     "end_time": "2020-06-17T09:20:32.581348Z",
     "start_time": "2020-06-17T09:20:31.989870Z"
    }
   },
   "outputs": [
    {
     "data": {
      "text/plain": [
       "0"
      ]
     },
     "execution_count": 11,
     "metadata": {},
     "output_type": "execute_result"
    }
   ],
   "source": [
    "\"\"\"\n",
    "短信上行，短信下行\n",
    "\"\"\"\n",
    "\n",
    "# 短信上行\n",
    "df_sms_calltype1 = df_sms[df_sms['calltype_id'] == 1].copy()\n",
    "tmp = df_sms_calltype1.groupby('phone_no_m')['calltype_id'].agg(sms_calltype1_cnt=\"count\")\n",
    "phone_no_m = phone_no_m.merge(tmp, on='phone_no_m', how='left')\n",
    "\n",
    "# 短信上行比例\n",
    "phone_no_m['sms_calltype1_rate'] = phone_no_m['sms_calltype1_cnt'] / phone_no_m['sms_cnt']\n",
    "\n",
    "del tmp, df_sms_calltype1\n",
    "\n",
    "# 短信下行\n",
    "df_sms_calltype2 = df_sms[df_sms['calltype_id'] == 2].copy()\n",
    "tmp = df_sms_calltype2.groupby('phone_no_m')['calltype_id'].agg(sms_calltype2_cnt=\"count\")\n",
    "phone_no_m = phone_no_m.merge(tmp, on='phone_no_m', how='left')\n",
    "\n",
    "# 短信上行/短信下行\n",
    "phone_no_m['type1_rate/type2_rate'] = phone_no_m['sms_calltype1_cnt'] / (phone_no_m['sms_calltype2_cnt'] + 0.00001)\n",
    "\n",
    "# 删除，效果变差\n",
    "# # 短信下行/短信上行\n",
    "# phone_no_m['type2_rate/type1_rate'] = phone_no_m['sms_calltype2_cnt'] / (phone_no_m['sms_calltype1_cnt'] + 0.00001)\n",
    "\n",
    "del tmp, df_sms_calltype2\n",
    "gc.collect()"
   ]
  },
  {
   "cell_type": "code",
   "execution_count": 12,
   "metadata": {
    "ExecuteTime": {
     "end_time": "2020-06-17T09:20:36.846712Z",
     "start_time": "2020-06-17T09:20:32.582303Z"
    }
   },
   "outputs": [
    {
     "data": {
      "text/plain": [
       "0"
      ]
     },
     "execution_count": 12,
     "metadata": {},
     "output_type": "execute_result"
    }
   ],
   "source": [
    "\"\"\"\n",
    "短信时间点的偏好\n",
    "\"\"\"\n",
    "\n",
    "tmp = df_sms.groupby('phone_no_m')['sms_hour'].agg(sms_hour_mode=lambda x: stats.mode(x)[0][0],        # 频次最高的元素\n",
    "                                                   sms_hour_mode_count=lambda x: stats.mode(x)[1][0],  # 频次最高的元素的频次\n",
    "                                                   sms_hour_nunique='nunique')\n",
    "phone_no_m = phone_no_m.merge(tmp, on='phone_no_m', how='left')\n",
    "\n",
    "del tmp\n",
    "\n",
    "tmp = df_sms.groupby('phone_no_m')['sms_day'].agg(sms_day_mode=lambda x: stats.mode(x)[0][0],\n",
    "                                                  sms_day_mode_count=lambda x: stats.mode(x)[1][0],\n",
    "                                                  sms_day_nunique='nunique')\n",
    "phone_no_m = phone_no_m.merge(tmp, on='phone_no_m', how='left')\n",
    "\n",
    "del tmp\n",
    "gc.collect()"
   ]
  },
  {
   "cell_type": "code",
   "execution_count": 13,
   "metadata": {
    "ExecuteTime": {
     "end_time": "2020-06-17T09:20:36.852697Z",
     "start_time": "2020-06-17T09:20:36.847710Z"
    }
   },
   "outputs": [
    {
     "data": {
      "text/plain": [
       "Index(['phone_no_m', 'sms_cnt', 'sms_nunique', 'sms_avg', 'sms_calltype1_cnt', 'sms_calltype1_rate', 'sms_calltype2_cnt', 'type1_rate/type2_rate', 'sms_hour_mode', 'sms_hour_mode_count', 'sms_hour_nunique', 'sms_day_mode', 'sms_day_mode_count', 'sms_day_nunique'], dtype='object')"
      ]
     },
     "execution_count": 13,
     "metadata": {},
     "output_type": "execute_result"
    }
   ],
   "source": [
    "phone_no_m.columns"
   ]
  },
  {
   "cell_type": "code",
   "execution_count": 14,
   "metadata": {
    "ExecuteTime": {
     "end_time": "2020-06-17T09:20:36.975444Z",
     "start_time": "2020-06-17T09:20:36.853702Z"
    }
   },
   "outputs": [
    {
     "data": {
      "text/plain": [
       "40"
      ]
     },
     "execution_count": 14,
     "metadata": {},
     "output_type": "execute_result"
    }
   ],
   "source": [
    "df_sms = df_user.merge(phone_no_m, how='left', on='phone_no_m')\n",
    "\n",
    "del df_user, phone_no_m\n",
    "gc.collect()"
   ]
  },
  {
   "cell_type": "code",
   "execution_count": 15,
   "metadata": {
    "ExecuteTime": {
     "end_time": "2020-06-17T09:20:36.985368Z",
     "start_time": "2020-06-17T09:20:36.976392Z"
    }
   },
   "outputs": [
    {
     "data": {
      "text/plain": [
       "((6106, 15), (2045, 15))"
      ]
     },
     "execution_count": 15,
     "metadata": {},
     "output_type": "execute_result"
    }
   ],
   "source": [
    "df_sms_train = df_sms[df_sms.label.notna()]\n",
    "df_sms_test = df_sms[df_sms.label.isna()]\n",
    "\n",
    "df_sms_train.shape, df_sms_test.shape"
   ]
  },
  {
   "cell_type": "code",
   "execution_count": 16,
   "metadata": {
    "ExecuteTime": {
     "end_time": "2020-06-17T09:20:36.994347Z",
     "start_time": "2020-06-17T09:20:36.986364Z"
    }
   },
   "outputs": [],
   "source": [
    "X_train, X_valid, y_train, y_valid = train_test_split(df_sms_train.drop('label', axis=1), df_sms_train['label'],\n",
    "                                                      test_size=0.2,\n",
    "                                                      random_state=2020)"
   ]
  },
  {
   "cell_type": "code",
   "execution_count": 17,
   "metadata": {
    "ExecuteTime": {
     "end_time": "2020-06-17T09:20:37.000364Z",
     "start_time": "2020-06-17T09:20:36.996341Z"
    }
   },
   "outputs": [],
   "source": [
    "train_cols = [i for i in X_train if i not in ['phone_no_m', 'label']]"
   ]
  },
  {
   "cell_type": "code",
   "execution_count": 18,
   "metadata": {
    "ExecuteTime": {
     "end_time": "2020-06-17T09:20:37.006311Z",
     "start_time": "2020-06-17T09:20:37.001324Z"
    }
   },
   "outputs": [],
   "source": [
    "params = {'objective': 'binary',\n",
    "          'boosting': 'gbdt',\n",
    "          'metric': 'auc',\n",
    "          'learning_rate': 0.1,\n",
    "          'num_leaves': 31,\n",
    "          'lambda_l1': 0,\n",
    "          'lambda_l2': 1,\n",
    "          'min_data_in_leaf': 20,\n",
    "          'is_unbalance': True,\n",
    "          'max_depth': -1,\n",
    "          'seed': 2020}"
   ]
  },
  {
   "cell_type": "code",
   "execution_count": 19,
   "metadata": {
    "ExecuteTime": {
     "end_time": "2020-06-17T09:20:38.114348Z",
     "start_time": "2020-06-17T09:20:37.007308Z"
    }
   },
   "outputs": [
    {
     "name": "stdout",
     "output_type": "stream",
     "text": [
      "sms_cnt\n",
      "Training until validation scores don't improve for 50 rounds\n",
      "[20]\ttraining's auc: 0.864712\tvalid_0's auc: 0.808768\n",
      "[40]\ttraining's auc: 0.869101\tvalid_0's auc: 0.80392\n",
      "Early stopping, best iteration is:\n",
      "[1]\ttraining's auc: 0.854611\tvalid_0's auc: 0.81233\n",
      "*****\n",
      "0.8123296025254699\n",
      "********************\n",
      "\n",
      "\n",
      "sms_nunique\n",
      "Training until validation scores don't improve for 50 rounds\n",
      "[20]\ttraining's auc: 0.851239\tvalid_0's auc: 0.811787\n",
      "[40]\ttraining's auc: 0.853713\tvalid_0's auc: 0.806982\n",
      "Early stopping, best iteration is:\n",
      "[2]\ttraining's auc: 0.846908\tvalid_0's auc: 0.815001\n",
      "*****\n",
      "0.8150006576744631\n",
      "********************\n",
      "\n",
      "\n",
      "sms_avg\n",
      "Training until validation scores don't improve for 50 rounds\n",
      "[20]\ttraining's auc: 0.868621\tvalid_0's auc: 0.809397\n",
      "[40]\ttraining's auc: 0.872506\tvalid_0's auc: 0.809999\n",
      "[60]\ttraining's auc: 0.875699\tvalid_0's auc: 0.808645\n",
      "Early stopping, best iteration is:\n",
      "[22]\ttraining's auc: 0.869392\tvalid_0's auc: 0.810546\n",
      "*****\n",
      "0.8105464079016598\n",
      "********************\n",
      "\n",
      "\n",
      "sms_calltype1_cnt\n",
      "Training until validation scores don't improve for 50 rounds\n",
      "[20]\ttraining's auc: 0.598617\tvalid_0's auc: 0.58987\n",
      "[40]\ttraining's auc: 0.599253\tvalid_0's auc: 0.59014\n",
      "[60]\ttraining's auc: 0.599527\tvalid_0's auc: 0.589829\n",
      "[80]\ttraining's auc: 0.600165\tvalid_0's auc: 0.587039\n",
      "Early stopping, best iteration is:\n",
      "[44]\ttraining's auc: 0.599302\tvalid_0's auc: 0.590205\n",
      "*****\n",
      "0.5902045367580236\n",
      "********************\n",
      "\n",
      "\n",
      "sms_calltype1_rate\n",
      "Training until validation scores don't improve for 50 rounds\n",
      "[20]\ttraining's auc: 0.628963\tvalid_0's auc: 0.589104\n",
      "[40]\ttraining's auc: 0.633036\tvalid_0's auc: 0.586082\n",
      "Early stopping, best iteration is:\n",
      "[2]\ttraining's auc: 0.620893\tvalid_0's auc: 0.595648\n",
      "*****\n",
      "0.5956482876548524\n",
      "********************\n",
      "\n",
      "\n",
      "sms_calltype2_cnt\n",
      "Training until validation scores don't improve for 50 rounds\n",
      "[20]\ttraining's auc: 0.861635\tvalid_0's auc: 0.827517\n",
      "[40]\ttraining's auc: 0.865662\tvalid_0's auc: 0.825479\n",
      "Early stopping, best iteration is:\n",
      "[2]\ttraining's auc: 0.851933\tvalid_0's auc: 0.833541\n",
      "*****\n",
      "0.8335410986750849\n",
      "********************\n",
      "\n",
      "\n",
      "type1_rate/type2_rate\n",
      "Training until validation scores don't improve for 50 rounds\n",
      "[20]\ttraining's auc: 0.627916\tvalid_0's auc: 0.589362\n",
      "[40]\ttraining's auc: 0.633826\tvalid_0's auc: 0.588412\n",
      "[60]\ttraining's auc: 0.635966\tvalid_0's auc: 0.588397\n",
      "Early stopping, best iteration is:\n",
      "[12]\ttraining's auc: 0.625556\tvalid_0's auc: 0.594808\n",
      "*****\n",
      "0.594808257999713\n",
      "********************\n",
      "\n",
      "\n",
      "sms_hour_mode\n",
      "Training until validation scores don't improve for 50 rounds\n",
      "[20]\ttraining's auc: 0.827836\tvalid_0's auc: 0.806245\n",
      "[40]\ttraining's auc: 0.827931\tvalid_0's auc: 0.806192\n",
      "[60]\ttraining's auc: 0.828151\tvalid_0's auc: 0.806599\n",
      "[80]\ttraining's auc: 0.828202\tvalid_0's auc: 0.806348\n",
      "[100]\ttraining's auc: 0.828303\tvalid_0's auc: 0.806437\n",
      "Early stopping, best iteration is:\n",
      "[51]\ttraining's auc: 0.828151\tvalid_0's auc: 0.806599\n",
      "*****\n",
      "0.80659886640838\n",
      "********************\n",
      "\n",
      "\n",
      "sms_hour_mode_count\n",
      "Training until validation scores don't improve for 50 rounds\n",
      "[20]\ttraining's auc: 0.850385\tvalid_0's auc: 0.806675\n",
      "[40]\ttraining's auc: 0.852371\tvalid_0's auc: 0.806127\n",
      "Early stopping, best iteration is:\n",
      "[4]\ttraining's auc: 0.847173\tvalid_0's auc: 0.808032\n",
      "*****\n",
      "0.8080322977949969\n",
      "********************\n",
      "\n",
      "\n",
      "sms_hour_nunique\n",
      "Training until validation scores don't improve for 50 rounds\n",
      "[20]\ttraining's auc: 0.880531\tvalid_0's auc: 0.858084\n",
      "[40]\ttraining's auc: 0.880537\tvalid_0's auc: 0.85821\n",
      "Early stopping, best iteration is:\n",
      "[2]\ttraining's auc: 0.880001\tvalid_0's auc: 0.86012\n",
      "*****\n",
      "0.8601201152723968\n",
      "********************\n",
      "\n",
      "\n",
      "sms_day_mode\n",
      "Training until validation scores don't improve for 50 rounds\n",
      "[20]\ttraining's auc: 0.829989\tvalid_0's auc: 0.824709\n",
      "[40]\ttraining's auc: 0.829989\tvalid_0's auc: 0.824718\n",
      "Early stopping, best iteration is:\n",
      "[4]\ttraining's auc: 0.829921\tvalid_0's auc: 0.825402\n",
      "*****\n",
      "0.8254023771942411\n",
      "********************\n",
      "\n",
      "\n",
      "sms_day_mode_count\n",
      "Training until validation scores don't improve for 50 rounds\n",
      "[20]\ttraining's auc: 0.879684\tvalid_0's auc: 0.857113\n",
      "[40]\ttraining's auc: 0.880123\tvalid_0's auc: 0.857872\n",
      "[60]\ttraining's auc: 0.880488\tvalid_0's auc: 0.856625\n",
      "Early stopping, best iteration is:\n",
      "[23]\ttraining's auc: 0.879739\tvalid_0's auc: 0.858261\n",
      "*****\n",
      "0.8582606901994547\n",
      "********************\n",
      "\n",
      "\n",
      "sms_day_nunique\n",
      "Training until validation scores don't improve for 50 rounds\n",
      "[20]\ttraining's auc: 0.90171\tvalid_0's auc: 0.86851\n",
      "[40]\ttraining's auc: 0.901742\tvalid_0's auc: 0.867248\n",
      "Early stopping, best iteration is:\n",
      "[5]\ttraining's auc: 0.901456\tvalid_0's auc: 0.8687\n",
      "*****\n",
      "0.8686997775864543\n",
      "********************\n",
      "\n",
      "\n"
     ]
    }
   ],
   "source": [
    "useful_cols = []\n",
    "useless_cols = []\n",
    "\n",
    "for i in train_cols:\n",
    "    print(i)\n",
    "    lgb_train = lgb.Dataset(X_train[[i]].values, y_train) \n",
    "    lgb_eval= lgb.Dataset(X_valid[[i]].values, y_valid, reference=lgb_train)\n",
    "    lgb_test = lgb.train(params,\n",
    "                         lgb_train,\n",
    "                         num_boost_round=1000,\n",
    "                         valid_sets=[lgb_eval, lgb_train],\n",
    "                         early_stopping_rounds=50,\n",
    "                         verbose_eval=20)\n",
    "    \n",
    "    print('*' * 5)\n",
    "    print(lgb_test.best_score['valid_0']['auc'])\n",
    "    if lgb_test.best_score['valid_0']['auc'] > 0.50:\n",
    "        useful_cols.append(i)\n",
    "    else:\n",
    "        useless_cols.append(i)\n",
    "    print('*' * 20)\n",
    "    print('\\n')"
   ]
  },
  {
   "cell_type": "code",
   "execution_count": 20,
   "metadata": {
    "ExecuteTime": {
     "end_time": "2020-06-17T09:20:38.120332Z",
     "start_time": "2020-06-17T09:20:38.116343Z"
    }
   },
   "outputs": [
    {
     "name": "stdout",
     "output_type": "stream",
     "text": [
      "['sms_cnt', 'sms_nunique', 'sms_avg', 'sms_calltype1_cnt', 'sms_calltype1_rate', 'sms_calltype2_cnt', 'type1_rate/type2_rate', 'sms_hour_mode', 'sms_hour_mode_count', 'sms_hour_nunique', 'sms_day_mode', 'sms_day_mode_count', 'sms_day_nunique']\n",
      "13\n"
     ]
    }
   ],
   "source": [
    "print(useful_cols)\n",
    "print(len(useful_cols))"
   ]
  },
  {
   "cell_type": "code",
   "execution_count": 21,
   "metadata": {
    "ExecuteTime": {
     "end_time": "2020-06-17T09:20:38.136308Z",
     "start_time": "2020-06-17T09:20:38.122327Z"
    }
   },
   "outputs": [
    {
     "name": "stdout",
     "output_type": "stream",
     "text": [
      "[]\n",
      "0\n"
     ]
    }
   ],
   "source": [
    "print(useless_cols)\n",
    "print(len(useless_cols))"
   ]
  },
  {
   "cell_type": "code",
   "execution_count": 22,
   "metadata": {
    "ExecuteTime": {
     "end_time": "2020-06-17T09:20:38.437502Z",
     "start_time": "2020-06-17T09:20:38.142291Z"
    }
   },
   "outputs": [
    {
     "name": "stdout",
     "output_type": "stream",
     "text": [
      "Start training...\n",
      "Training until validation scores don't improve for 100 rounds\n",
      "[10]\ttraining's auc: 0.957449\tvalid_0's auc: 0.909208\n",
      "[20]\ttraining's auc: 0.965684\tvalid_0's auc: 0.908881\n",
      "[30]\ttraining's auc: 0.973426\tvalid_0's auc: 0.907595\n",
      "[40]\ttraining's auc: 0.97813\tvalid_0's auc: 0.907803\n",
      "[50]\ttraining's auc: 0.981671\tvalid_0's auc: 0.906407\n",
      "[60]\ttraining's auc: 0.984219\tvalid_0's auc: 0.905882\n",
      "[70]\ttraining's auc: 0.985923\tvalid_0's auc: 0.904749\n",
      "[80]\ttraining's auc: 0.987153\tvalid_0's auc: 0.903195\n",
      "[90]\ttraining's auc: 0.987905\tvalid_0's auc: 0.903485\n",
      "[100]\ttraining's auc: 0.988709\tvalid_0's auc: 0.902298\n",
      "[110]\ttraining's auc: 0.989256\tvalid_0's auc: 0.902719\n",
      "Early stopping, best iteration is:\n",
      "[13]\ttraining's auc: 0.960342\tvalid_0's auc: 0.911685\n"
     ]
    }
   ],
   "source": [
    "lgb_train = lgb.Dataset(X_train[useful_cols].values, y_train) \n",
    "\n",
    "lgb_eval= lgb.Dataset(X_valid[useful_cols].values, y_valid, reference=lgb_train)  \n",
    "\n",
    "print('Start training...')\n",
    "\n",
    "lgb_valid = lgb.train(params,\n",
    "                      lgb_train,\n",
    "                      num_boost_round=10000,\n",
    "                      valid_sets=[lgb_eval, lgb_train],\n",
    "                      early_stopping_rounds=100,\n",
    "                      verbose_eval=10)"
   ]
  },
  {
   "cell_type": "code",
   "execution_count": 23,
   "metadata": {
    "ExecuteTime": {
     "end_time": "2020-06-17T09:20:38.463432Z",
     "start_time": "2020-06-17T09:20:38.441492Z"
    }
   },
   "outputs": [
    {
     "name": "stdout",
     "output_type": "stream",
     "text": [
      "f1_05:  0.821\n",
      "auc_05:  0.9116847826086957\n"
     ]
    }
   ],
   "source": [
    "# 验证集结果\n",
    "X_valid['prob'] = lgb_valid.predict(X_valid[useful_cols])\n",
    "X_valid['pred'] = np.where(X_valid['prob'] > 0.5, 1, 0)\n",
    "\n",
    "f1_05 = np.round(f1_score(y_valid, X_valid['pred']), 4)\n",
    "auc_05 = roc_auc_score(y_valid, X_valid['prob'])\n",
    "\n",
    "print('f1_05: ', f1_05)\n",
    "print('auc_05: ', auc_05)"
   ]
  },
  {
   "cell_type": "code",
   "execution_count": 24,
   "metadata": {
    "ExecuteTime": {
     "end_time": "2020-06-17T09:20:38.557182Z",
     "start_time": "2020-06-17T09:20:38.465428Z"
    }
   },
   "outputs": [
    {
     "name": "stdout",
     "output_type": "stream",
     "text": [
      "Start training...\n"
     ]
    }
   ],
   "source": [
    "lgb_train_all = lgb.Dataset(df_sms_train[useful_cols].values, df_sms_train['label'])   \n",
    "\n",
    "print('Start training...')\n",
    "\n",
    "lgb_train = lgb.train(params,\n",
    "                      lgb_train_all,\n",
    "                      num_boost_round=lgb_valid.best_iteration + 20,\n",
    "                      verbose_eval=10)"
   ]
  },
  {
   "cell_type": "code",
   "execution_count": 25,
   "metadata": {
    "ExecuteTime": {
     "end_time": "2020-06-17T09:20:38.597075Z",
     "start_time": "2020-06-17T09:20:38.559177Z"
    }
   },
   "outputs": [],
   "source": [
    "df_sms_test['label'] = np.where(lgb_train.predict(df_sms_test[useful_cols]) > 0.5, 1, 0)\n",
    "df_sms_test[['phone_no_m', 'label']].to_csv('../sub/sub_{}_{}.csv'.format(time.strftime('%Y%m%d'), f1_05), index=False)"
   ]
  }
 ],
 "metadata": {
  "kernelspec": {
   "display_name": "Python 3",
   "language": "python",
   "name": "python3"
  },
  "language_info": {
   "codemirror_mode": {
    "name": "ipython",
    "version": 3
   },
   "file_extension": ".py",
   "mimetype": "text/x-python",
   "name": "python",
   "nbconvert_exporter": "python",
   "pygments_lexer": "ipython3",
   "version": "3.7.3"
  },
  "toc": {
   "base_numbering": 1,
   "nav_menu": {},
   "number_sections": true,
   "sideBar": true,
   "skip_h1_title": false,
   "title_cell": "Table of Contents",
   "title_sidebar": "Contents",
   "toc_cell": false,
   "toc_position": {},
   "toc_section_display": true,
   "toc_window_display": false
  },
  "varInspector": {
   "cols": {
    "lenName": 16,
    "lenType": 16,
    "lenVar": 40
   },
   "kernels_config": {
    "python": {
     "delete_cmd_postfix": "",
     "delete_cmd_prefix": "del ",
     "library": "var_list.py",
     "varRefreshCmd": "print(var_dic_list())"
    },
    "r": {
     "delete_cmd_postfix": ") ",
     "delete_cmd_prefix": "rm(",
     "library": "var_list.r",
     "varRefreshCmd": "cat(var_dic_list()) "
    }
   },
   "types_to_exclude": [
    "module",
    "function",
    "builtin_function_or_method",
    "instance",
    "_Feature"
   ],
   "window_display": false
  }
 },
 "nbformat": 4,
 "nbformat_minor": 4
}
