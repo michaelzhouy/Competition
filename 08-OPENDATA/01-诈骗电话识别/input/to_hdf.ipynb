{
 "cells": [
  {
   "cell_type": "code",
   "execution_count": 1,
   "metadata": {
    "ExecuteTime": {
     "end_time": "2020-11-13T11:28:32.117612Z",
     "start_time": "2020-11-13T11:28:31.766193Z"
    }
   },
   "outputs": [],
   "source": [
    "import numpy as np\n",
    "import pandas as pd"
   ]
  },
  {
   "cell_type": "code",
   "execution_count": 2,
   "metadata": {
    "ExecuteTime": {
     "end_time": "2020-11-13T11:28:32.130535Z",
     "start_time": "2020-11-13T11:28:32.118541Z"
    }
   },
   "outputs": [],
   "source": [
    "# 节省内存读文件\n",
    "def reduce_mem_usage(df):\n",
    "    \"\"\"\n",
    "    iterate through all the columns of a dataframe and modify the data type to reduce memory usage.\n",
    "    @param df:\n",
    "    @return:\n",
    "    \"\"\"\n",
    "    start_mem = df.memory_usage().sum()\n",
    "    print('Memory usage of dataframe is {:.2f} MB'.format(start_mem))\n",
    "\n",
    "    for col in df.columns:\n",
    "        col_type = df[col].dtype\n",
    "\n",
    "        if col_type != object:\n",
    "            c_min = df[col].min()\n",
    "            c_max = df[col].max()\n",
    "            if str(col_type)[:3] == 'int':\n",
    "                if c_min > np.iinfo(np.int8).min and c_max < np.iinfo(np.int8).max:\n",
    "                    df[col] = df[col].astype(np.int8)\n",
    "                elif c_min > np.iinfo(np.int16).min and c_max < np.iinfo(np.int16).max:\n",
    "                    df[col] = df[col].astype(np.int16)\n",
    "                elif c_min > np.iinfo(np.int32).min and c_max < np.iinfo(np.int32).max:\n",
    "                    df[col] = df[col].astype(np.int32)\n",
    "                elif c_min > np.iinfo(np.int64).min and c_max < np.iinfo(np.int64).max:\n",
    "                    df[col] = df[col].astype(np.int64)\n",
    "            else:\n",
    "                if c_min > np.finfo(np.float16).min and c_max < np.finfo(np.float16).max:\n",
    "                    df[col] = df[col].astype(np.float16)\n",
    "                elif c_min > np.finfo(np.float32).min and c_max < np.finfo(np.float32).max:\n",
    "                    df[col] = df[col].astype(np.float32)\n",
    "                else:\n",
    "                    df[col] = df[col].astype(np.float64)\n",
    "        else:\n",
    "            df[col] = df[col].astype('str')\n",
    "\n",
    "    end_mem = df.memory_usage().sum()\n",
    "    print('Memory usage after optimization is: {:.2f} MB'.format(end_mem))\n",
    "    print('Decreased by {:.1f}%'.format(100 * (start_mem - end_mem) / start_mem))\n",
    "    return df"
   ]
  },
  {
   "cell_type": "markdown",
   "metadata": {},
   "source": [
    "## user表"
   ]
  },
  {
   "cell_type": "code",
   "execution_count": 3,
   "metadata": {
    "ExecuteTime": {
     "end_time": "2020-11-13T11:28:32.185992Z",
     "start_time": "2020-11-13T11:28:32.131507Z"
    }
   },
   "outputs": [
    {
     "name": "stdout",
     "output_type": "stream",
     "text": [
      "Memory usage of dataframe is 635152.00 MB\n",
      "Memory usage after optimization is: 256580.00 MB\n",
      "Decreased by 59.6%\n",
      "Memory usage of dataframe is 58128.00 MB\n",
      "Memory usage after optimization is: 47978.00 MB\n",
      "Decreased by 17.5%\n"
     ]
    }
   ],
   "source": [
    "train_user = reduce_mem_usage(pd.read_csv('./train/train_user.csv'))\n",
    "test_user = reduce_mem_usage(pd.read_csv('./test2/test_user.csv'))"
   ]
  },
  {
   "cell_type": "code",
   "execution_count": 4,
   "metadata": {
    "ExecuteTime": {
     "end_time": "2020-11-13T11:28:32.599168Z",
     "start_time": "2020-11-13T11:28:32.186992Z"
    }
   },
   "outputs": [],
   "source": [
    "train_user.to_hdf('./train/train_user.h5', 'df')\n",
    "test_user.to_hdf('./test2/test_user.h5', 'df')"
   ]
  },
  {
   "cell_type": "markdown",
   "metadata": {},
   "source": [
    "## voc表"
   ]
  },
  {
   "cell_type": "code",
   "execution_count": 5,
   "metadata": {
    "ExecuteTime": {
     "end_time": "2020-11-13T11:28:52.758576Z",
     "start_time": "2020-11-13T11:28:32.600141Z"
    }
   },
   "outputs": [
    {
     "name": "stderr",
     "output_type": "stream",
     "text": [
      "C:\\Users\\z\\Anaconda3\\lib\\site-packages\\IPython\\core\\interactiveshell.py:3063: DtypeWarning: Columns (5,6) have mixed types.Specify dtype option on import or set low_memory=False.\n",
      "  interactivity=interactivity, compiler=compiler, result=result)\n"
     ]
    },
    {
     "name": "stdout",
     "output_type": "stream",
     "text": [
      "Memory usage of dataframe is 320987648.00 MB\n",
      "Memory usage after optimization is: 255787058.00 MB\n",
      "Decreased by 20.3%\n",
      "Memory usage of dataframe is 9477696.00 MB\n",
      "Memory usage after optimization is: 7552565.00 MB\n",
      "Decreased by 20.3%\n"
     ]
    }
   ],
   "source": [
    "train_voc = reduce_mem_usage(pd.read_csv('./train/train_voc.csv'))\n",
    "test_voc = reduce_mem_usage(pd.read_csv('./test2/test_voc.csv'))"
   ]
  },
  {
   "cell_type": "code",
   "execution_count": 6,
   "metadata": {
    "ExecuteTime": {
     "end_time": "2020-11-13T11:28:58.243557Z",
     "start_time": "2020-11-13T11:28:52.759573Z"
    }
   },
   "outputs": [],
   "source": [
    "train_voc.to_hdf('./train/train_voc.h5', 'df')\n",
    "test_voc.to_hdf('./test2/test_voc.h5', 'df')"
   ]
  },
  {
   "cell_type": "markdown",
   "metadata": {},
   "source": [
    "## sms表"
   ]
  },
  {
   "cell_type": "code",
   "execution_count": 7,
   "metadata": {
    "ExecuteTime": {
     "end_time": "2020-11-13T11:29:13.979821Z",
     "start_time": "2020-11-13T11:28:58.245358Z"
    }
   },
   "outputs": [
    {
     "name": "stdout",
     "output_type": "stream",
     "text": [
      "Memory usage of dataframe is 219152416.00 MB\n",
      "Memory usage after optimization is: 171212853.00 MB\n",
      "Decreased by 21.9%\n",
      "Memory usage of dataframe is 4308128.00 MB\n",
      "Memory usage after optimization is: 3365753.00 MB\n",
      "Decreased by 21.9%\n"
     ]
    }
   ],
   "source": [
    "train_sms = reduce_mem_usage(pd.read_csv('./train/train_sms.csv'))\n",
    "test_sms = reduce_mem_usage(pd.read_csv('./test2/test_sms.csv'))"
   ]
  },
  {
   "cell_type": "code",
   "execution_count": 8,
   "metadata": {
    "ExecuteTime": {
     "end_time": "2020-11-13T11:29:18.539660Z",
     "start_time": "2020-11-13T11:29:13.980828Z"
    }
   },
   "outputs": [],
   "source": [
    "train_sms.to_hdf('./train/train_sms.h5', 'df')\n",
    "test_sms.to_hdf('./test2/test_sms.h5', 'df')"
   ]
  },
  {
   "cell_type": "markdown",
   "metadata": {},
   "source": [
    "## app表"
   ]
  },
  {
   "cell_type": "code",
   "execution_count": 9,
   "metadata": {
    "ExecuteTime": {
     "end_time": "2020-11-13T11:29:23.215771Z",
     "start_time": "2020-11-13T11:29:18.540658Z"
    }
   },
   "outputs": [
    {
     "name": "stdout",
     "output_type": "stream",
     "text": [
      "Memory usage of dataframe is 105075392.00 MB\n",
      "Memory usage after optimization is: 91940984.00 MB\n",
      "Decreased by 12.5%\n",
      "Memory usage of dataframe is 3183008.00 MB\n",
      "Memory usage after optimization is: 2387288.00 MB\n",
      "Decreased by 25.0%\n"
     ]
    }
   ],
   "source": [
    "train_app = reduce_mem_usage(pd.read_csv('./train/train_app.csv'))\n",
    "test_app = reduce_mem_usage(pd.read_csv('./test2/test_app.csv'))"
   ]
  },
  {
   "cell_type": "code",
   "execution_count": 10,
   "metadata": {
    "ExecuteTime": {
     "end_time": "2020-11-13T11:29:24.071913Z",
     "start_time": "2020-11-13T11:29:23.216768Z"
    }
   },
   "outputs": [],
   "source": [
    "train_app.to_hdf('./train/train_app.h5', 'df')\n",
    "test_app.to_hdf('./test2/test_app.h5', 'df')"
   ]
  }
 ],
 "metadata": {
  "kernelspec": {
   "display_name": "Python 3",
   "language": "python",
   "name": "python3"
  },
  "language_info": {
   "codemirror_mode": {
    "name": "ipython",
    "version": 3
   },
   "file_extension": ".py",
   "mimetype": "text/x-python",
   "name": "python",
   "nbconvert_exporter": "python",
   "pygments_lexer": "ipython3",
   "version": "3.7.3"
  },
  "toc": {
   "base_numbering": 1,
   "nav_menu": {},
   "number_sections": true,
   "sideBar": true,
   "skip_h1_title": false,
   "title_cell": "Table of Contents",
   "title_sidebar": "Contents",
   "toc_cell": false,
   "toc_position": {},
   "toc_section_display": true,
   "toc_window_display": false
  }
 },
 "nbformat": 4,
 "nbformat_minor": 4
}
