{
 "cells": [
  {
   "cell_type": "markdown",
   "metadata": {},
   "source": [
    "https://mp.weixin.qq.com/s/0qOGevwTltu2SJ-QanW0VA\n",
    "\n",
    "https://mp.weixin.qq.com/s/kDC5VKm0j2VufIo-aOlfrg"
   ]
  },
  {
   "cell_type": "markdown",
   "metadata": {},
   "source": [
    "# 工具包导入&数据读取\n",
    "## 工具包导入"
   ]
  },
  {
   "cell_type": "code",
   "execution_count": 1,
   "metadata": {
    "ExecuteTime": {
     "end_time": "2020-07-04T10:22:17.874758Z",
     "start_time": "2020-07-04T10:22:15.335689Z"
    }
   },
   "outputs": [],
   "source": [
    "import numpy as np\n",
    "import pandas as pd\n",
    "import os\n",
    "from datetime import date \n",
    "from sklearn.metrics import f1_score\n",
    "from tqdm import tqdm_notebook\n",
    "from sklearn.preprocessing import StandardScaler\n",
    "from sklearn.svm import NuSVR, SVR\n",
    "from sklearn.metrics import mean_absolute_error\n",
    "\n",
    "import lightgbm as lgb\n",
    "import xgboost as xgb\n",
    "import time\n",
    "import datetime\n",
    "from catboost import CatBoostRegressor\n",
    "from sklearn.preprocessing import LabelEncoder\n",
    "from sklearn.model_selection import StratifiedKFold, KFold, RepeatedKFold\n",
    "from sklearn.metrics import mean_absolute_error\n",
    "from sklearn.linear_model import LinearRegression\n",
    "import gc\n",
    "\n",
    "from scipy.signal import hilbert\n",
    "from scipy.signal import hann\n",
    "from scipy.signal import convolve\n",
    "from scipy import stats\n",
    "from sklearn.kernel_ridge import KernelRidge\n",
    "\n",
    "from dateutil.parser import parse\n",
    "\n",
    "import seaborn as sns\n",
    "import matplotlib.pyplot as plt\n",
    "%matplotlib inline\n",
    "\n",
    "import warnings\n",
    "warnings.filterwarnings(\"ignore\")\n",
    "\n",
    "from tqdm import tqdm\n",
    "from itertools import combinations, product\n",
    "\n",
    "import ast\n",
    "\n",
    "from datetime import timedelta \n",
    "from time import time"
   ]
  },
  {
   "cell_type": "markdown",
   "metadata": {},
   "source": [
    "## 数据读取"
   ]
  },
  {
   "cell_type": "code",
   "execution_count": 2,
   "metadata": {
    "ExecuteTime": {
     "end_time": "2020-07-04T10:22:19.270783Z",
     "start_time": "2020-07-04T10:22:17.875756Z"
    }
   },
   "outputs": [],
   "source": [
    "path = '../input/'\n",
    "\n",
    "air_visit_data      =  pd.read_csv(path + 'air_visit_data.csv') \n",
    "\n",
    "hpg_store_info      =  pd.read_csv(path + 'hpg_store_info.csv')\n",
    "air_store_info      =  pd.read_csv(path + 'air_store_info.csv')\n",
    "\n",
    "hpg_reserve         =  pd.read_csv(path + 'hpg_reserve.csv')\n",
    "air_reserve         =  pd.read_csv(path + 'air_reserve.csv') \n",
    "\n",
    "date_info           =  pd.read_csv(path + 'date_info.csv')  \n",
    "\n",
    "store_id_relation   =  pd.read_csv(path + 'store_id_relation.csv')     \n",
    "\n",
    "sample_submission   =  pd.read_csv(path + 'sample_submission.csv')"
   ]
  },
  {
   "cell_type": "markdown",
   "metadata": {},
   "source": [
    "**air_visit_data.csv**\n",
    "\n",
    "This file contains historical visit data for the air restaurants.\n",
    "\n",
    "- air_store_id\n",
    "- visit_date - the date\n",
    "- visitors - the number of visitors to the restaurant on the date"
   ]
  },
  {
   "cell_type": "code",
   "execution_count": 3,
   "metadata": {
    "ExecuteTime": {
     "end_time": "2020-07-04T10:22:19.285539Z",
     "start_time": "2020-07-04T10:22:19.270783Z"
    }
   },
   "outputs": [
    {
     "data": {
      "text/html": [
       "<div>\n",
       "<style scoped>\n",
       "    .dataframe tbody tr th:only-of-type {\n",
       "        vertical-align: middle;\n",
       "    }\n",
       "\n",
       "    .dataframe tbody tr th {\n",
       "        vertical-align: top;\n",
       "    }\n",
       "\n",
       "    .dataframe thead th {\n",
       "        text-align: right;\n",
       "    }\n",
       "</style>\n",
       "<table border=\"1\" class=\"dataframe\">\n",
       "  <thead>\n",
       "    <tr style=\"text-align: right;\">\n",
       "      <th></th>\n",
       "      <th>air_store_id</th>\n",
       "      <th>visit_date</th>\n",
       "      <th>visitors</th>\n",
       "    </tr>\n",
       "  </thead>\n",
       "  <tbody>\n",
       "    <tr>\n",
       "      <th>0</th>\n",
       "      <td>air_ba937bf13d40fb24</td>\n",
       "      <td>2016-01-13</td>\n",
       "      <td>25</td>\n",
       "    </tr>\n",
       "    <tr>\n",
       "      <th>1</th>\n",
       "      <td>air_ba937bf13d40fb24</td>\n",
       "      <td>2016-01-14</td>\n",
       "      <td>32</td>\n",
       "    </tr>\n",
       "    <tr>\n",
       "      <th>2</th>\n",
       "      <td>air_ba937bf13d40fb24</td>\n",
       "      <td>2016-01-15</td>\n",
       "      <td>29</td>\n",
       "    </tr>\n",
       "    <tr>\n",
       "      <th>3</th>\n",
       "      <td>air_ba937bf13d40fb24</td>\n",
       "      <td>2016-01-16</td>\n",
       "      <td>22</td>\n",
       "    </tr>\n",
       "    <tr>\n",
       "      <th>4</th>\n",
       "      <td>air_ba937bf13d40fb24</td>\n",
       "      <td>2016-01-18</td>\n",
       "      <td>6</td>\n",
       "    </tr>\n",
       "  </tbody>\n",
       "</table>\n",
       "</div>"
      ],
      "text/plain": [
       "           air_store_id  visit_date  visitors\n",
       "0  air_ba937bf13d40fb24  2016-01-13        25\n",
       "1  air_ba937bf13d40fb24  2016-01-14        32\n",
       "2  air_ba937bf13d40fb24  2016-01-15        29\n",
       "3  air_ba937bf13d40fb24  2016-01-16        22\n",
       "4  air_ba937bf13d40fb24  2016-01-18         6"
      ]
     },
     "execution_count": 3,
     "metadata": {},
     "output_type": "execute_result"
    }
   ],
   "source": [
    "air_visit_data.head()"
   ]
  },
  {
   "cell_type": "markdown",
   "metadata": {},
   "source": [
    "**hpg_store_info.csv**\n",
    "\n",
    "This file contains information about select hpg restaurants. Column names and contents are self-explanatory.\n",
    "\n",
    "- hpg_store_id\n",
    "- hpg_genre_name\n",
    "- hpg_area_name\n",
    "- latitude\n",
    "- longitude\n",
    "\n",
    "Note: latitude and longitude are the latitude and longitude of the area to which the store belongs"
   ]
  },
  {
   "cell_type": "code",
   "execution_count": 4,
   "metadata": {
    "ExecuteTime": {
     "end_time": "2020-07-04T10:22:19.310242Z",
     "start_time": "2020-07-04T10:22:19.286494Z"
    }
   },
   "outputs": [
    {
     "data": {
      "text/html": [
       "<div>\n",
       "<style scoped>\n",
       "    .dataframe tbody tr th:only-of-type {\n",
       "        vertical-align: middle;\n",
       "    }\n",
       "\n",
       "    .dataframe tbody tr th {\n",
       "        vertical-align: top;\n",
       "    }\n",
       "\n",
       "    .dataframe thead th {\n",
       "        text-align: right;\n",
       "    }\n",
       "</style>\n",
       "<table border=\"1\" class=\"dataframe\">\n",
       "  <thead>\n",
       "    <tr style=\"text-align: right;\">\n",
       "      <th></th>\n",
       "      <th>hpg_store_id</th>\n",
       "      <th>hpg_genre_name</th>\n",
       "      <th>hpg_area_name</th>\n",
       "      <th>latitude</th>\n",
       "      <th>longitude</th>\n",
       "    </tr>\n",
       "  </thead>\n",
       "  <tbody>\n",
       "    <tr>\n",
       "      <th>0</th>\n",
       "      <td>hpg_6622b62385aec8bf</td>\n",
       "      <td>Japanese style</td>\n",
       "      <td>Tōkyō-to Setagaya-ku Taishidō</td>\n",
       "      <td>35.643675</td>\n",
       "      <td>139.668221</td>\n",
       "    </tr>\n",
       "    <tr>\n",
       "      <th>1</th>\n",
       "      <td>hpg_e9e068dd49c5fa00</td>\n",
       "      <td>Japanese style</td>\n",
       "      <td>Tōkyō-to Setagaya-ku Taishidō</td>\n",
       "      <td>35.643675</td>\n",
       "      <td>139.668221</td>\n",
       "    </tr>\n",
       "    <tr>\n",
       "      <th>2</th>\n",
       "      <td>hpg_2976f7acb4b3a3bc</td>\n",
       "      <td>Japanese style</td>\n",
       "      <td>Tōkyō-to Setagaya-ku Taishidō</td>\n",
       "      <td>35.643675</td>\n",
       "      <td>139.668221</td>\n",
       "    </tr>\n",
       "    <tr>\n",
       "      <th>3</th>\n",
       "      <td>hpg_e51a522e098f024c</td>\n",
       "      <td>Japanese style</td>\n",
       "      <td>Tōkyō-to Setagaya-ku Taishidō</td>\n",
       "      <td>35.643675</td>\n",
       "      <td>139.668221</td>\n",
       "    </tr>\n",
       "    <tr>\n",
       "      <th>4</th>\n",
       "      <td>hpg_e3d0e1519894f275</td>\n",
       "      <td>Japanese style</td>\n",
       "      <td>Tōkyō-to Setagaya-ku Taishidō</td>\n",
       "      <td>35.643675</td>\n",
       "      <td>139.668221</td>\n",
       "    </tr>\n",
       "  </tbody>\n",
       "</table>\n",
       "</div>"
      ],
      "text/plain": [
       "           hpg_store_id  hpg_genre_name                  hpg_area_name  \\\n",
       "0  hpg_6622b62385aec8bf  Japanese style  Tōkyō-to Setagaya-ku Taishidō   \n",
       "1  hpg_e9e068dd49c5fa00  Japanese style  Tōkyō-to Setagaya-ku Taishidō   \n",
       "2  hpg_2976f7acb4b3a3bc  Japanese style  Tōkyō-to Setagaya-ku Taishidō   \n",
       "3  hpg_e51a522e098f024c  Japanese style  Tōkyō-to Setagaya-ku Taishidō   \n",
       "4  hpg_e3d0e1519894f275  Japanese style  Tōkyō-to Setagaya-ku Taishidō   \n",
       "\n",
       "    latitude   longitude  \n",
       "0  35.643675  139.668221  \n",
       "1  35.643675  139.668221  \n",
       "2  35.643675  139.668221  \n",
       "3  35.643675  139.668221  \n",
       "4  35.643675  139.668221  "
      ]
     },
     "execution_count": 4,
     "metadata": {},
     "output_type": "execute_result"
    }
   ],
   "source": [
    "hpg_store_info.head()"
   ]
  },
  {
   "cell_type": "markdown",
   "metadata": {},
   "source": [
    "**air_store_info.csv**\n",
    "\n",
    "This file contains information about select air restaurants. Column names and contents are self-explanatory.\n",
    "\n",
    "- air_store_id\n",
    "- air_genre_name\n",
    "- air_area_name\n",
    "- latitude\n",
    "- longitude\n",
    "\n",
    "Note: latitude and longitude are the latitude and longitude of the area to which the store belongs"
   ]
  },
  {
   "cell_type": "code",
   "execution_count": 5,
   "metadata": {
    "ExecuteTime": {
     "end_time": "2020-07-04T10:22:19.320248Z",
     "start_time": "2020-07-04T10:22:19.311279Z"
    }
   },
   "outputs": [
    {
     "data": {
      "text/html": [
       "<div>\n",
       "<style scoped>\n",
       "    .dataframe tbody tr th:only-of-type {\n",
       "        vertical-align: middle;\n",
       "    }\n",
       "\n",
       "    .dataframe tbody tr th {\n",
       "        vertical-align: top;\n",
       "    }\n",
       "\n",
       "    .dataframe thead th {\n",
       "        text-align: right;\n",
       "    }\n",
       "</style>\n",
       "<table border=\"1\" class=\"dataframe\">\n",
       "  <thead>\n",
       "    <tr style=\"text-align: right;\">\n",
       "      <th></th>\n",
       "      <th>air_store_id</th>\n",
       "      <th>air_genre_name</th>\n",
       "      <th>air_area_name</th>\n",
       "      <th>latitude</th>\n",
       "      <th>longitude</th>\n",
       "    </tr>\n",
       "  </thead>\n",
       "  <tbody>\n",
       "    <tr>\n",
       "      <th>0</th>\n",
       "      <td>air_0f0cdeee6c9bf3d7</td>\n",
       "      <td>Italian/French</td>\n",
       "      <td>Hyōgo-ken Kōbe-shi Kumoidōri</td>\n",
       "      <td>34.695124</td>\n",
       "      <td>135.197852</td>\n",
       "    </tr>\n",
       "    <tr>\n",
       "      <th>1</th>\n",
       "      <td>air_7cc17a324ae5c7dc</td>\n",
       "      <td>Italian/French</td>\n",
       "      <td>Hyōgo-ken Kōbe-shi Kumoidōri</td>\n",
       "      <td>34.695124</td>\n",
       "      <td>135.197852</td>\n",
       "    </tr>\n",
       "    <tr>\n",
       "      <th>2</th>\n",
       "      <td>air_fee8dcf4d619598e</td>\n",
       "      <td>Italian/French</td>\n",
       "      <td>Hyōgo-ken Kōbe-shi Kumoidōri</td>\n",
       "      <td>34.695124</td>\n",
       "      <td>135.197852</td>\n",
       "    </tr>\n",
       "    <tr>\n",
       "      <th>3</th>\n",
       "      <td>air_a17f0778617c76e2</td>\n",
       "      <td>Italian/French</td>\n",
       "      <td>Hyōgo-ken Kōbe-shi Kumoidōri</td>\n",
       "      <td>34.695124</td>\n",
       "      <td>135.197852</td>\n",
       "    </tr>\n",
       "    <tr>\n",
       "      <th>4</th>\n",
       "      <td>air_83db5aff8f50478e</td>\n",
       "      <td>Italian/French</td>\n",
       "      <td>Tōkyō-to Minato-ku Shibakōen</td>\n",
       "      <td>35.658068</td>\n",
       "      <td>139.751599</td>\n",
       "    </tr>\n",
       "  </tbody>\n",
       "</table>\n",
       "</div>"
      ],
      "text/plain": [
       "           air_store_id  air_genre_name                 air_area_name  \\\n",
       "0  air_0f0cdeee6c9bf3d7  Italian/French  Hyōgo-ken Kōbe-shi Kumoidōri   \n",
       "1  air_7cc17a324ae5c7dc  Italian/French  Hyōgo-ken Kōbe-shi Kumoidōri   \n",
       "2  air_fee8dcf4d619598e  Italian/French  Hyōgo-ken Kōbe-shi Kumoidōri   \n",
       "3  air_a17f0778617c76e2  Italian/French  Hyōgo-ken Kōbe-shi Kumoidōri   \n",
       "4  air_83db5aff8f50478e  Italian/French  Tōkyō-to Minato-ku Shibakōen   \n",
       "\n",
       "    latitude   longitude  \n",
       "0  34.695124  135.197852  \n",
       "1  34.695124  135.197852  \n",
       "2  34.695124  135.197852  \n",
       "3  34.695124  135.197852  \n",
       "4  35.658068  139.751599  "
      ]
     },
     "execution_count": 5,
     "metadata": {},
     "output_type": "execute_result"
    }
   ],
   "source": [
    "air_store_info.head()"
   ]
  },
  {
   "cell_type": "markdown",
   "metadata": {},
   "source": [
    "**hpg_reserve.csv**\n",
    "\n",
    "This file contains reservations made in the hpg system.\n",
    "\n",
    "- hpg_store_id - the restaurant's id in the hpg system\n",
    "- visit_datetime - the time of the reservation\n",
    "- reserve_datetime - the time the reservation was made\n",
    "- reserve_visitors - the number of visitors for that reservation"
   ]
  },
  {
   "cell_type": "code",
   "execution_count": 6,
   "metadata": {
    "ExecuteTime": {
     "end_time": "2020-07-04T10:22:19.329217Z",
     "start_time": "2020-07-04T10:22:19.322212Z"
    }
   },
   "outputs": [
    {
     "data": {
      "text/html": [
       "<div>\n",
       "<style scoped>\n",
       "    .dataframe tbody tr th:only-of-type {\n",
       "        vertical-align: middle;\n",
       "    }\n",
       "\n",
       "    .dataframe tbody tr th {\n",
       "        vertical-align: top;\n",
       "    }\n",
       "\n",
       "    .dataframe thead th {\n",
       "        text-align: right;\n",
       "    }\n",
       "</style>\n",
       "<table border=\"1\" class=\"dataframe\">\n",
       "  <thead>\n",
       "    <tr style=\"text-align: right;\">\n",
       "      <th></th>\n",
       "      <th>hpg_store_id</th>\n",
       "      <th>visit_datetime</th>\n",
       "      <th>reserve_datetime</th>\n",
       "      <th>reserve_visitors</th>\n",
       "    </tr>\n",
       "  </thead>\n",
       "  <tbody>\n",
       "    <tr>\n",
       "      <th>0</th>\n",
       "      <td>hpg_c63f6f42e088e50f</td>\n",
       "      <td>2016-01-01 11:00:00</td>\n",
       "      <td>2016-01-01 09:00:00</td>\n",
       "      <td>1</td>\n",
       "    </tr>\n",
       "    <tr>\n",
       "      <th>1</th>\n",
       "      <td>hpg_dac72789163a3f47</td>\n",
       "      <td>2016-01-01 13:00:00</td>\n",
       "      <td>2016-01-01 06:00:00</td>\n",
       "      <td>3</td>\n",
       "    </tr>\n",
       "    <tr>\n",
       "      <th>2</th>\n",
       "      <td>hpg_c8e24dcf51ca1eb5</td>\n",
       "      <td>2016-01-01 16:00:00</td>\n",
       "      <td>2016-01-01 14:00:00</td>\n",
       "      <td>2</td>\n",
       "    </tr>\n",
       "    <tr>\n",
       "      <th>3</th>\n",
       "      <td>hpg_24bb207e5fd49d4a</td>\n",
       "      <td>2016-01-01 17:00:00</td>\n",
       "      <td>2016-01-01 11:00:00</td>\n",
       "      <td>5</td>\n",
       "    </tr>\n",
       "    <tr>\n",
       "      <th>4</th>\n",
       "      <td>hpg_25291c542ebb3bc2</td>\n",
       "      <td>2016-01-01 17:00:00</td>\n",
       "      <td>2016-01-01 03:00:00</td>\n",
       "      <td>13</td>\n",
       "    </tr>\n",
       "  </tbody>\n",
       "</table>\n",
       "</div>"
      ],
      "text/plain": [
       "           hpg_store_id       visit_datetime     reserve_datetime  \\\n",
       "0  hpg_c63f6f42e088e50f  2016-01-01 11:00:00  2016-01-01 09:00:00   \n",
       "1  hpg_dac72789163a3f47  2016-01-01 13:00:00  2016-01-01 06:00:00   \n",
       "2  hpg_c8e24dcf51ca1eb5  2016-01-01 16:00:00  2016-01-01 14:00:00   \n",
       "3  hpg_24bb207e5fd49d4a  2016-01-01 17:00:00  2016-01-01 11:00:00   \n",
       "4  hpg_25291c542ebb3bc2  2016-01-01 17:00:00  2016-01-01 03:00:00   \n",
       "\n",
       "   reserve_visitors  \n",
       "0                 1  \n",
       "1                 3  \n",
       "2                 2  \n",
       "3                 5  \n",
       "4                13  "
      ]
     },
     "execution_count": 6,
     "metadata": {},
     "output_type": "execute_result"
    }
   ],
   "source": [
    "hpg_reserve.head()"
   ]
  },
  {
   "cell_type": "markdown",
   "metadata": {},
   "source": [
    "**air_reserve.csv**\n",
    "\n",
    "This file contains reservations made in the air system. Note that the reserve_datetime indicates the time when the reservation was created, whereas the visit_datetime is the time in the future where the visit will occur.\n",
    "\n",
    "- air_store_id - the restaurant's id in the air system\n",
    "- visit_datetime - the time of the reservation\n",
    "- reserve_datetime - the time the reservation was made\n",
    "- reserve_visitors - the number of visitors for that reservation"
   ]
  },
  {
   "cell_type": "code",
   "execution_count": 7,
   "metadata": {
    "ExecuteTime": {
     "end_time": "2020-07-04T10:22:19.340190Z",
     "start_time": "2020-07-04T10:22:19.331186Z"
    }
   },
   "outputs": [
    {
     "data": {
      "text/html": [
       "<div>\n",
       "<style scoped>\n",
       "    .dataframe tbody tr th:only-of-type {\n",
       "        vertical-align: middle;\n",
       "    }\n",
       "\n",
       "    .dataframe tbody tr th {\n",
       "        vertical-align: top;\n",
       "    }\n",
       "\n",
       "    .dataframe thead th {\n",
       "        text-align: right;\n",
       "    }\n",
       "</style>\n",
       "<table border=\"1\" class=\"dataframe\">\n",
       "  <thead>\n",
       "    <tr style=\"text-align: right;\">\n",
       "      <th></th>\n",
       "      <th>air_store_id</th>\n",
       "      <th>visit_datetime</th>\n",
       "      <th>reserve_datetime</th>\n",
       "      <th>reserve_visitors</th>\n",
       "    </tr>\n",
       "  </thead>\n",
       "  <tbody>\n",
       "    <tr>\n",
       "      <th>0</th>\n",
       "      <td>air_877f79706adbfb06</td>\n",
       "      <td>2016-01-01 19:00:00</td>\n",
       "      <td>2016-01-01 16:00:00</td>\n",
       "      <td>1</td>\n",
       "    </tr>\n",
       "    <tr>\n",
       "      <th>1</th>\n",
       "      <td>air_db4b38ebe7a7ceff</td>\n",
       "      <td>2016-01-01 19:00:00</td>\n",
       "      <td>2016-01-01 19:00:00</td>\n",
       "      <td>3</td>\n",
       "    </tr>\n",
       "    <tr>\n",
       "      <th>2</th>\n",
       "      <td>air_db4b38ebe7a7ceff</td>\n",
       "      <td>2016-01-01 19:00:00</td>\n",
       "      <td>2016-01-01 19:00:00</td>\n",
       "      <td>6</td>\n",
       "    </tr>\n",
       "    <tr>\n",
       "      <th>3</th>\n",
       "      <td>air_877f79706adbfb06</td>\n",
       "      <td>2016-01-01 20:00:00</td>\n",
       "      <td>2016-01-01 16:00:00</td>\n",
       "      <td>2</td>\n",
       "    </tr>\n",
       "    <tr>\n",
       "      <th>4</th>\n",
       "      <td>air_db80363d35f10926</td>\n",
       "      <td>2016-01-01 20:00:00</td>\n",
       "      <td>2016-01-01 01:00:00</td>\n",
       "      <td>5</td>\n",
       "    </tr>\n",
       "  </tbody>\n",
       "</table>\n",
       "</div>"
      ],
      "text/plain": [
       "           air_store_id       visit_datetime     reserve_datetime  \\\n",
       "0  air_877f79706adbfb06  2016-01-01 19:00:00  2016-01-01 16:00:00   \n",
       "1  air_db4b38ebe7a7ceff  2016-01-01 19:00:00  2016-01-01 19:00:00   \n",
       "2  air_db4b38ebe7a7ceff  2016-01-01 19:00:00  2016-01-01 19:00:00   \n",
       "3  air_877f79706adbfb06  2016-01-01 20:00:00  2016-01-01 16:00:00   \n",
       "4  air_db80363d35f10926  2016-01-01 20:00:00  2016-01-01 01:00:00   \n",
       "\n",
       "   reserve_visitors  \n",
       "0                 1  \n",
       "1                 3  \n",
       "2                 6  \n",
       "3                 2  \n",
       "4                 5  "
      ]
     },
     "execution_count": 7,
     "metadata": {},
     "output_type": "execute_result"
    }
   ],
   "source": [
    "air_reserve.head()"
   ]
  },
  {
   "cell_type": "code",
   "execution_count": 8,
   "metadata": {
    "ExecuteTime": {
     "end_time": "2020-07-04T10:22:19.359687Z",
     "start_time": "2020-07-04T10:22:19.341160Z"
    }
   },
   "outputs": [
    {
     "data": {
      "text/html": [
       "<div>\n",
       "<style scoped>\n",
       "    .dataframe tbody tr th:only-of-type {\n",
       "        vertical-align: middle;\n",
       "    }\n",
       "\n",
       "    .dataframe tbody tr th {\n",
       "        vertical-align: top;\n",
       "    }\n",
       "\n",
       "    .dataframe thead th {\n",
       "        text-align: right;\n",
       "    }\n",
       "</style>\n",
       "<table border=\"1\" class=\"dataframe\">\n",
       "  <thead>\n",
       "    <tr style=\"text-align: right;\">\n",
       "      <th></th>\n",
       "      <th>calendar_date</th>\n",
       "      <th>day_of_week</th>\n",
       "      <th>holiday_flg</th>\n",
       "    </tr>\n",
       "  </thead>\n",
       "  <tbody>\n",
       "    <tr>\n",
       "      <th>0</th>\n",
       "      <td>2016-01-01</td>\n",
       "      <td>Friday</td>\n",
       "      <td>1</td>\n",
       "    </tr>\n",
       "    <tr>\n",
       "      <th>1</th>\n",
       "      <td>2016-01-02</td>\n",
       "      <td>Saturday</td>\n",
       "      <td>1</td>\n",
       "    </tr>\n",
       "    <tr>\n",
       "      <th>2</th>\n",
       "      <td>2016-01-03</td>\n",
       "      <td>Sunday</td>\n",
       "      <td>1</td>\n",
       "    </tr>\n",
       "    <tr>\n",
       "      <th>3</th>\n",
       "      <td>2016-01-04</td>\n",
       "      <td>Monday</td>\n",
       "      <td>0</td>\n",
       "    </tr>\n",
       "    <tr>\n",
       "      <th>4</th>\n",
       "      <td>2016-01-05</td>\n",
       "      <td>Tuesday</td>\n",
       "      <td>0</td>\n",
       "    </tr>\n",
       "  </tbody>\n",
       "</table>\n",
       "</div>"
      ],
      "text/plain": [
       "  calendar_date day_of_week  holiday_flg\n",
       "0    2016-01-01      Friday            1\n",
       "1    2016-01-02    Saturday            1\n",
       "2    2016-01-03      Sunday            1\n",
       "3    2016-01-04      Monday            0\n",
       "4    2016-01-05     Tuesday            0"
      ]
     },
     "execution_count": 8,
     "metadata": {},
     "output_type": "execute_result"
    }
   ],
   "source": [
    "date_info.head()"
   ]
  },
  {
   "cell_type": "markdown",
   "metadata": {},
   "source": [
    "**store_id_relation.csv**\n",
    "\n",
    "This file allows you to join select restaurants that have both the air and hpg system.\n",
    "\n",
    "- hpg_store_id\n",
    "- air_store_id"
   ]
  },
  {
   "cell_type": "code",
   "execution_count": 9,
   "metadata": {
    "ExecuteTime": {
     "end_time": "2020-07-04T10:22:19.370701Z",
     "start_time": "2020-07-04T10:22:19.361686Z"
    }
   },
   "outputs": [
    {
     "data": {
      "text/html": [
       "<div>\n",
       "<style scoped>\n",
       "    .dataframe tbody tr th:only-of-type {\n",
       "        vertical-align: middle;\n",
       "    }\n",
       "\n",
       "    .dataframe tbody tr th {\n",
       "        vertical-align: top;\n",
       "    }\n",
       "\n",
       "    .dataframe thead th {\n",
       "        text-align: right;\n",
       "    }\n",
       "</style>\n",
       "<table border=\"1\" class=\"dataframe\">\n",
       "  <thead>\n",
       "    <tr style=\"text-align: right;\">\n",
       "      <th></th>\n",
       "      <th>air_store_id</th>\n",
       "      <th>hpg_store_id</th>\n",
       "    </tr>\n",
       "  </thead>\n",
       "  <tbody>\n",
       "    <tr>\n",
       "      <th>0</th>\n",
       "      <td>air_63b13c56b7201bd9</td>\n",
       "      <td>hpg_4bc649e72e2a239a</td>\n",
       "    </tr>\n",
       "    <tr>\n",
       "      <th>1</th>\n",
       "      <td>air_a24bf50c3e90d583</td>\n",
       "      <td>hpg_c34b496d0305a809</td>\n",
       "    </tr>\n",
       "    <tr>\n",
       "      <th>2</th>\n",
       "      <td>air_c7f78b4f3cba33ff</td>\n",
       "      <td>hpg_cd8ae0d9bbd58ff9</td>\n",
       "    </tr>\n",
       "    <tr>\n",
       "      <th>3</th>\n",
       "      <td>air_947eb2cae4f3e8f2</td>\n",
       "      <td>hpg_de24ea49dc25d6b8</td>\n",
       "    </tr>\n",
       "    <tr>\n",
       "      <th>4</th>\n",
       "      <td>air_965b2e0cf4119003</td>\n",
       "      <td>hpg_653238a84804d8e7</td>\n",
       "    </tr>\n",
       "  </tbody>\n",
       "</table>\n",
       "</div>"
      ],
      "text/plain": [
       "           air_store_id          hpg_store_id\n",
       "0  air_63b13c56b7201bd9  hpg_4bc649e72e2a239a\n",
       "1  air_a24bf50c3e90d583  hpg_c34b496d0305a809\n",
       "2  air_c7f78b4f3cba33ff  hpg_cd8ae0d9bbd58ff9\n",
       "3  air_947eb2cae4f3e8f2  hpg_de24ea49dc25d6b8\n",
       "4  air_965b2e0cf4119003  hpg_653238a84804d8e7"
      ]
     },
     "execution_count": 9,
     "metadata": {},
     "output_type": "execute_result"
    }
   ],
   "source": [
    "store_id_relation.head()"
   ]
  },
  {
   "cell_type": "markdown",
   "metadata": {},
   "source": [
    "**sample_submission.csv**\n",
    "\n",
    "This file shows a submission in the correct format, including the days for which you must forecast.\n",
    "\n",
    "- id - the id is formed by concatenating the air_store_id and visit_date with an underscore\n",
    "- visitors - the number of visitors forecasted for the store and date combination"
   ]
  },
  {
   "cell_type": "code",
   "execution_count": 10,
   "metadata": {
    "ExecuteTime": {
     "end_time": "2020-07-04T10:22:19.380667Z",
     "start_time": "2020-07-04T10:22:19.371697Z"
    }
   },
   "outputs": [
    {
     "data": {
      "text/html": [
       "<div>\n",
       "<style scoped>\n",
       "    .dataframe tbody tr th:only-of-type {\n",
       "        vertical-align: middle;\n",
       "    }\n",
       "\n",
       "    .dataframe tbody tr th {\n",
       "        vertical-align: top;\n",
       "    }\n",
       "\n",
       "    .dataframe thead th {\n",
       "        text-align: right;\n",
       "    }\n",
       "</style>\n",
       "<table border=\"1\" class=\"dataframe\">\n",
       "  <thead>\n",
       "    <tr style=\"text-align: right;\">\n",
       "      <th></th>\n",
       "      <th>id</th>\n",
       "      <th>visitors</th>\n",
       "    </tr>\n",
       "  </thead>\n",
       "  <tbody>\n",
       "    <tr>\n",
       "      <th>0</th>\n",
       "      <td>air_00a91d42b08b08d9_2017-04-23</td>\n",
       "      <td>0</td>\n",
       "    </tr>\n",
       "    <tr>\n",
       "      <th>1</th>\n",
       "      <td>air_00a91d42b08b08d9_2017-04-24</td>\n",
       "      <td>0</td>\n",
       "    </tr>\n",
       "    <tr>\n",
       "      <th>2</th>\n",
       "      <td>air_00a91d42b08b08d9_2017-04-25</td>\n",
       "      <td>0</td>\n",
       "    </tr>\n",
       "    <tr>\n",
       "      <th>3</th>\n",
       "      <td>air_00a91d42b08b08d9_2017-04-26</td>\n",
       "      <td>0</td>\n",
       "    </tr>\n",
       "    <tr>\n",
       "      <th>4</th>\n",
       "      <td>air_00a91d42b08b08d9_2017-04-27</td>\n",
       "      <td>0</td>\n",
       "    </tr>\n",
       "  </tbody>\n",
       "</table>\n",
       "</div>"
      ],
      "text/plain": [
       "                                id  visitors\n",
       "0  air_00a91d42b08b08d9_2017-04-23         0\n",
       "1  air_00a91d42b08b08d9_2017-04-24         0\n",
       "2  air_00a91d42b08b08d9_2017-04-25         0\n",
       "3  air_00a91d42b08b08d9_2017-04-26         0\n",
       "4  air_00a91d42b08b08d9_2017-04-27         0"
      ]
     },
     "execution_count": 10,
     "metadata": {},
     "output_type": "execute_result"
    }
   ],
   "source": [
    "sample_submission.head()"
   ]
  },
  {
   "cell_type": "markdown",
   "metadata": {},
   "source": [
    "## 数据合并"
   ]
  },
  {
   "cell_type": "code",
   "execution_count": 11,
   "metadata": {
    "ExecuteTime": {
     "end_time": "2020-07-04T10:22:19.429703Z",
     "start_time": "2020-07-04T10:22:19.381629Z"
    }
   },
   "outputs": [
    {
     "data": {
      "text/plain": [
       "60"
      ]
     },
     "execution_count": 11,
     "metadata": {},
     "output_type": "execute_result"
    }
   ],
   "source": [
    "sample_submission['air_store_id'] = sample_submission['id'].apply(lambda x: x[:-11]).values\n",
    "sample_submission['visit_date'] = sample_submission['id'].apply(lambda x: x[-10:]).values\n",
    "\n",
    "del sample_submission['id']\n",
    "gc.collect()"
   ]
  },
  {
   "cell_type": "code",
   "execution_count": 12,
   "metadata": {
    "ExecuteTime": {
     "end_time": "2020-07-04T10:22:19.608051Z",
     "start_time": "2020-07-04T10:22:19.430662Z"
    }
   },
   "outputs": [
    {
     "data": {
      "text/plain": [
       "0"
      ]
     },
     "execution_count": 12,
     "metadata": {},
     "output_type": "execute_result"
    }
   ],
   "source": [
    "df_meta = pd.concat([air_visit_data, sample_submission],\n",
    "                    axis=0,\n",
    "                    ignore_index=True)\n",
    "\n",
    "# 合并date_info\n",
    "df_meta = df_meta.merge(date_info,\n",
    "                        left_on=['visit_date'],\n",
    "                        right_on=['calendar_date'],\n",
    "                        how='left')\n",
    "# 合并air_store_info\n",
    "df_meta = df_meta.merge(air_store_info,\n",
    "                        on=['air_store_id'],\n",
    "                        how='left')\n",
    "\n",
    "del df_meta['calendar_date'], df_meta['day_of_week']\n",
    "gc.collect()"
   ]
  },
  {
   "cell_type": "code",
   "execution_count": 13,
   "metadata": {
    "ExecuteTime": {
     "end_time": "2020-07-04T10:22:19.946448Z",
     "start_time": "2020-07-04T10:22:19.609010Z"
    }
   },
   "outputs": [],
   "source": [
    "df_meta['visit_date'] = pd.to_datetime(df_meta['visit_date'])\n",
    "df_meta['weekday'] = df_meta['visit_date'].dt.weekday\n",
    "df_meta['air_store_id_weekday'] = df_meta['air_store_id'].astype(str) + '_' + df_meta['weekday'].astype(str)"
   ]
  },
  {
   "cell_type": "code",
   "execution_count": 14,
   "metadata": {
    "ExecuteTime": {
     "end_time": "2020-07-04T10:22:20.734400Z",
     "start_time": "2020-07-04T10:22:19.948454Z"
    }
   },
   "outputs": [
    {
     "data": {
      "text/html": [
       "<div>\n",
       "<style scoped>\n",
       "    .dataframe tbody tr th:only-of-type {\n",
       "        vertical-align: middle;\n",
       "    }\n",
       "\n",
       "    .dataframe tbody tr th {\n",
       "        vertical-align: top;\n",
       "    }\n",
       "\n",
       "    .dataframe thead th {\n",
       "        text-align: right;\n",
       "    }\n",
       "</style>\n",
       "<table border=\"1\" class=\"dataframe\">\n",
       "  <thead>\n",
       "    <tr style=\"text-align: right;\">\n",
       "      <th></th>\n",
       "      <th>air_store_id</th>\n",
       "      <th>visit_date</th>\n",
       "      <th>visitors</th>\n",
       "      <th>holiday_flg</th>\n",
       "      <th>air_genre_name</th>\n",
       "      <th>air_area_name</th>\n",
       "      <th>latitude</th>\n",
       "      <th>longitude</th>\n",
       "      <th>weekday</th>\n",
       "      <th>air_store_id_weekday</th>\n",
       "      <th>air_store_id_holiday</th>\n",
       "      <th>air_store_id_weekday_holiday</th>\n",
       "      <th>air_genre_name_weekday</th>\n",
       "      <th>air_genre_name_weekday_holiday</th>\n",
       "    </tr>\n",
       "  </thead>\n",
       "  <tbody>\n",
       "    <tr>\n",
       "      <th>0</th>\n",
       "      <td>air_ba937bf13d40fb24</td>\n",
       "      <td>2016-01-13</td>\n",
       "      <td>3.258097</td>\n",
       "      <td>0</td>\n",
       "      <td>Dining bar</td>\n",
       "      <td>Tōkyō-to Minato-ku Shibakōen</td>\n",
       "      <td>35.658068</td>\n",
       "      <td>139.751599</td>\n",
       "      <td>2</td>\n",
       "      <td>air_ba937bf13d40fb24_2</td>\n",
       "      <td>air_ba937bf13d40fb24_0</td>\n",
       "      <td>air_ba937bf13d40fb24_0_2</td>\n",
       "      <td>Tōkyō-to Minato-ku Shibakōen2</td>\n",
       "      <td>Tōkyō-to Minato-ku Shibakōen20</td>\n",
       "    </tr>\n",
       "    <tr>\n",
       "      <th>1</th>\n",
       "      <td>air_ba937bf13d40fb24</td>\n",
       "      <td>2016-01-14</td>\n",
       "      <td>3.496508</td>\n",
       "      <td>0</td>\n",
       "      <td>Dining bar</td>\n",
       "      <td>Tōkyō-to Minato-ku Shibakōen</td>\n",
       "      <td>35.658068</td>\n",
       "      <td>139.751599</td>\n",
       "      <td>3</td>\n",
       "      <td>air_ba937bf13d40fb24_3</td>\n",
       "      <td>air_ba937bf13d40fb24_0</td>\n",
       "      <td>air_ba937bf13d40fb24_0_3</td>\n",
       "      <td>Tōkyō-to Minato-ku Shibakōen3</td>\n",
       "      <td>Tōkyō-to Minato-ku Shibakōen30</td>\n",
       "    </tr>\n",
       "    <tr>\n",
       "      <th>2</th>\n",
       "      <td>air_ba937bf13d40fb24</td>\n",
       "      <td>2016-01-15</td>\n",
       "      <td>3.401197</td>\n",
       "      <td>0</td>\n",
       "      <td>Dining bar</td>\n",
       "      <td>Tōkyō-to Minato-ku Shibakōen</td>\n",
       "      <td>35.658068</td>\n",
       "      <td>139.751599</td>\n",
       "      <td>4</td>\n",
       "      <td>air_ba937bf13d40fb24_4</td>\n",
       "      <td>air_ba937bf13d40fb24_0</td>\n",
       "      <td>air_ba937bf13d40fb24_0_4</td>\n",
       "      <td>Tōkyō-to Minato-ku Shibakōen4</td>\n",
       "      <td>Tōkyō-to Minato-ku Shibakōen40</td>\n",
       "    </tr>\n",
       "    <tr>\n",
       "      <th>3</th>\n",
       "      <td>air_ba937bf13d40fb24</td>\n",
       "      <td>2016-01-16</td>\n",
       "      <td>3.135494</td>\n",
       "      <td>0</td>\n",
       "      <td>Dining bar</td>\n",
       "      <td>Tōkyō-to Minato-ku Shibakōen</td>\n",
       "      <td>35.658068</td>\n",
       "      <td>139.751599</td>\n",
       "      <td>5</td>\n",
       "      <td>air_ba937bf13d40fb24_5</td>\n",
       "      <td>air_ba937bf13d40fb24_0</td>\n",
       "      <td>air_ba937bf13d40fb24_0_5</td>\n",
       "      <td>Tōkyō-to Minato-ku Shibakōen5</td>\n",
       "      <td>Tōkyō-to Minato-ku Shibakōen50</td>\n",
       "    </tr>\n",
       "    <tr>\n",
       "      <th>4</th>\n",
       "      <td>air_ba937bf13d40fb24</td>\n",
       "      <td>2016-01-18</td>\n",
       "      <td>1.945910</td>\n",
       "      <td>0</td>\n",
       "      <td>Dining bar</td>\n",
       "      <td>Tōkyō-to Minato-ku Shibakōen</td>\n",
       "      <td>35.658068</td>\n",
       "      <td>139.751599</td>\n",
       "      <td>0</td>\n",
       "      <td>air_ba937bf13d40fb24_0</td>\n",
       "      <td>air_ba937bf13d40fb24_0</td>\n",
       "      <td>air_ba937bf13d40fb24_0_0</td>\n",
       "      <td>Tōkyō-to Minato-ku Shibakōen0</td>\n",
       "      <td>Tōkyō-to Minato-ku Shibakōen00</td>\n",
       "    </tr>\n",
       "  </tbody>\n",
       "</table>\n",
       "</div>"
      ],
      "text/plain": [
       "           air_store_id visit_date  visitors  holiday_flg air_genre_name  \\\n",
       "0  air_ba937bf13d40fb24 2016-01-13  3.258097            0     Dining bar   \n",
       "1  air_ba937bf13d40fb24 2016-01-14  3.496508            0     Dining bar   \n",
       "2  air_ba937bf13d40fb24 2016-01-15  3.401197            0     Dining bar   \n",
       "3  air_ba937bf13d40fb24 2016-01-16  3.135494            0     Dining bar   \n",
       "4  air_ba937bf13d40fb24 2016-01-18  1.945910            0     Dining bar   \n",
       "\n",
       "                  air_area_name   latitude   longitude  weekday  \\\n",
       "0  Tōkyō-to Minato-ku Shibakōen  35.658068  139.751599        2   \n",
       "1  Tōkyō-to Minato-ku Shibakōen  35.658068  139.751599        3   \n",
       "2  Tōkyō-to Minato-ku Shibakōen  35.658068  139.751599        4   \n",
       "3  Tōkyō-to Minato-ku Shibakōen  35.658068  139.751599        5   \n",
       "4  Tōkyō-to Minato-ku Shibakōen  35.658068  139.751599        0   \n",
       "\n",
       "     air_store_id_weekday    air_store_id_holiday  \\\n",
       "0  air_ba937bf13d40fb24_2  air_ba937bf13d40fb24_0   \n",
       "1  air_ba937bf13d40fb24_3  air_ba937bf13d40fb24_0   \n",
       "2  air_ba937bf13d40fb24_4  air_ba937bf13d40fb24_0   \n",
       "3  air_ba937bf13d40fb24_5  air_ba937bf13d40fb24_0   \n",
       "4  air_ba937bf13d40fb24_0  air_ba937bf13d40fb24_0   \n",
       "\n",
       "  air_store_id_weekday_holiday         air_genre_name_weekday  \\\n",
       "0     air_ba937bf13d40fb24_0_2  Tōkyō-to Minato-ku Shibakōen2   \n",
       "1     air_ba937bf13d40fb24_0_3  Tōkyō-to Minato-ku Shibakōen3   \n",
       "2     air_ba937bf13d40fb24_0_4  Tōkyō-to Minato-ku Shibakōen4   \n",
       "3     air_ba937bf13d40fb24_0_5  Tōkyō-to Minato-ku Shibakōen5   \n",
       "4     air_ba937bf13d40fb24_0_0  Tōkyō-to Minato-ku Shibakōen0   \n",
       "\n",
       "   air_genre_name_weekday_holiday  \n",
       "0  Tōkyō-to Minato-ku Shibakōen20  \n",
       "1  Tōkyō-to Minato-ku Shibakōen30  \n",
       "2  Tōkyō-to Minato-ku Shibakōen40  \n",
       "3  Tōkyō-to Minato-ku Shibakōen50  \n",
       "4  Tōkyō-to Minato-ku Shibakōen00  "
      ]
     },
     "execution_count": 14,
     "metadata": {},
     "output_type": "execute_result"
    }
   ],
   "source": [
    "df_meta['air_store_id_holiday'] = df_meta['air_store_id'].astype(str) + '_' + df_meta['holiday_flg'].astype(str)\n",
    "df_meta['air_store_id_weekday_holiday'] = df_meta['air_store_id_holiday'].astype(str) + '_' + df_meta['weekday'].astype(str)\n",
    "\n",
    "df_meta['air_genre_name_weekday'] = df_meta['air_area_name'].astype(str) + df_meta['weekday'].astype(str)\n",
    "df_meta['air_genre_name_weekday_holiday'] = df_meta['air_genre_name_weekday'].astype(str) + df_meta['holiday_flg'].astype(str)\n",
    "df_meta['visitors'] = df_meta['visitors'].apply(np.log1p).values\n",
    "\n",
    "df_meta.head()"
   ]
  },
  {
   "cell_type": "code",
   "execution_count": 15,
   "metadata": {
    "ExecuteTime": {
     "end_time": "2020-07-04T10:22:21.785627Z",
     "start_time": "2020-07-04T10:22:20.735397Z"
    }
   },
   "outputs": [],
   "source": [
    "air_reserve['visit_date'] = air_reserve['visit_datetime'].apply(lambda x: x.split(' ')[0]).values\n",
    "air_reserve['air_store_id_visit_date'] = air_reserve['air_store_id'] + '_' + air_reserve['visit_datetime'].astype(str)\n",
    "\n",
    "air_reserve['visit_datetime'] = pd.to_datetime(air_reserve['visit_datetime'])\n",
    "air_reserve['reserve_datetime'] = pd.to_datetime(air_reserve['reserve_datetime'])\n",
    "\n",
    "hpg_reserve['visit_date'] = hpg_reserve['visit_datetime'].apply(lambda x: x.split(' ')[0]).values\n",
    "\n",
    "hpg_to_air_storeid = store_id_relation.set_index('hpg_store_id')\n",
    "hpg_reserve['air_store_id'] = hpg_reserve['hpg_store_id'].map(hpg_to_air_storeid['air_store_id']).values\n",
    "hpg_air_reserve = hpg_reserve.loc[hpg_reserve.air_store_id.notnull()]\n",
    "\n",
    "hpg_air_reserve['air_store_id_visit_date'] = hpg_air_reserve['air_store_id'] + '_' + hpg_air_reserve['visit_date'].astype(str)\n",
    "hpg_air_reserve['visit_datetime'] = pd.to_datetime(hpg_air_reserve['visit_datetime'])\n",
    "hpg_air_reserve['reserve_datetime'] = pd.to_datetime(hpg_air_reserve['reserve_datetime'])"
   ]
  },
  {
   "cell_type": "markdown",
   "metadata": {},
   "source": [
    "# 特征工程\n",
    "## 一阶特征\n",
    "### store_id的特征"
   ]
  },
  {
   "cell_type": "markdown",
   "metadata": {},
   "source": [
    "1. store_id的基础信息，包括类型，地址，经纬度\n",
    "2. store_id的开业天数，开业到现在的时间，最后一天有顾客到现在的时间"
   ]
  },
  {
   "cell_type": "code",
   "execution_count": 16,
   "metadata": {
    "ExecuteTime": {
     "end_time": "2020-07-04T10:22:21.820936Z",
     "start_time": "2020-07-04T10:22:21.785627Z"
    }
   },
   "outputs": [],
   "source": [
    "def get_storeid_fea(df_visit_data, df_store_info, df_store_id_relation):\n",
    "    df_storeid = df_store_info.copy()\n",
    "    \n",
    "    df_storeid['air_genre_name'] = LabelEncoder().fit_transform(df_storeid['air_genre_name'].values)\n",
    "    df_storeid['air_area_name'] = LabelEncoder().fit_transform(df_storeid['air_area_name'].values)\n",
    "    \n",
    "    first_day_dict = df_visit_data.groupby(['air_store_id'])['visit_date'].min().to_dict()\n",
    "    last_day_dict = df_visit_data.groupby(['air_store_id'])['visit_date'].max().to_dict()\n",
    "    run_days_dict = df_visit_data.groupby(['air_store_id'])['visit_date'].nunique().to_dict()\n",
    "    \n",
    "    df_storeid['first_day_to_now'] = df_storeid['air_store_id'].map(first_day_dict).values\n",
    "    df_storeid['first_day_to_now'] = df_storeid['first_day_to_now'].apply(lambda x: (parse('2017-04-22') - parse(x)).days)\n",
    "    \n",
    "    df_storeid['last_day_to_now'] = df_storeid['air_store_id'].map(last_day_dict).values\n",
    "    df_storeid['last_day_to_now'] = df_storeid['last_day_to_now'].apply(lambda x: (parse('2017-04-22') - parse(x)).days)\n",
    "    \n",
    "    df_storeid['run_days'] = df_storeid['air_store_id'].map(run_days_dict).values\n",
    "    df_storeid['two_systems'] = df_storeid['air_store_id'].isin(df_store_id_relation['air_store_id']).values\n",
    "    df_storeid['two_systems'] = df_storeid['two_systems'].astype(int)\n",
    "    \n",
    "    return df_storeid"
   ]
  },
  {
   "cell_type": "code",
   "execution_count": 17,
   "metadata": {
    "ExecuteTime": {
     "end_time": "2020-07-04T10:22:22.268931Z",
     "start_time": "2020-07-04T10:22:21.820936Z"
    }
   },
   "outputs": [],
   "source": [
    "df_storeid = get_storeid_fea(air_visit_data, air_store_info, store_id_relation)"
   ]
  },
  {
   "cell_type": "markdown",
   "metadata": {},
   "source": [
    "### date的特征\n",
    "1. 星期几\n",
    "2. 是否节假日\n",
    "3. 距离月末，月初的时间\n",
    "4. 距离最近的节假日的时间"
   ]
  },
  {
   "cell_type": "code",
   "execution_count": 18,
   "metadata": {
    "ExecuteTime": {
     "end_time": "2020-07-04T10:22:22.278551Z",
     "start_time": "2020-07-04T10:22:22.271568Z"
    }
   },
   "outputs": [],
   "source": [
    "def get_last_next_holiday(dates, holiday_flags):\n",
    "    last_holiday = []\n",
    "    next_holiday = []\n",
    "    len_ = len(dates)\n",
    "    for i, (d, f) in enumerate(zip(dates, holiday_flags)):\n",
    "        if i == 0:\n",
    "            last_holiday.append(dates[i])\n",
    "        else:\n",
    "            # last holiday\n",
    "            last_flag = 0\n",
    "            for j in range(i - 1, 0, -1):\n",
    "                if holiday_flags[j] == 1:\n",
    "                    last_holiday.append(dates[j])\n",
    "                    last_flag = 1\n",
    "                    break\n",
    "            if last_flag == 0:\n",
    "                last_holiday.append(dates[0])\n",
    "                \n",
    "        # next holiday\n",
    "        next_flag = 0\n",
    "        for j in range(i + 1, len_):\n",
    "            if holiday_flags[j] == 1:\n",
    "                next_holiday.append(dates[j])\n",
    "                next_flag = 1\n",
    "                break\n",
    "        if next_flag == 0:\n",
    "            next_holiday.append(dates[-1])\n",
    "    return last_holiday, next_holiday"
   ]
  },
  {
   "cell_type": "code",
   "execution_count": 19,
   "metadata": {
    "ExecuteTime": {
     "end_time": "2020-07-04T10:22:22.285574Z",
     "start_time": "2020-07-04T10:22:22.280544Z"
    }
   },
   "outputs": [],
   "source": [
    "def get_days_to_month_end(x):\n",
    "    month = int(x.split('-')[1])\n",
    "    day = int(x.split('-')[2])\n",
    "    if month in [1, 3, 5, 7, 8, 10, 12]:\n",
    "        return 31 - day\n",
    "    elif month in [2]:\n",
    "        return 28 - day\n",
    "    else:\n",
    "        return 30 - day"
   ]
  },
  {
   "cell_type": "code",
   "execution_count": 20,
   "metadata": {
    "ExecuteTime": {
     "end_time": "2020-07-04T10:22:22.298766Z",
     "start_time": "2020-07-04T10:22:22.286527Z"
    }
   },
   "outputs": [],
   "source": [
    "def get_time_fea(df_date_info):\n",
    "    df_date = df_date_info.copy()\n",
    "    df_date['day_to_month_end'] = df_date['calendar_date'].apply(lambda x: get_days_to_month_end(x)).values\n",
    "    df_date['day_to_month_start'] = df_date['calendar_date'].apply(lambda x: int(x.split('-')[0])).values\n",
    "    \n",
    "    df_date['day_of_week'] = df_date['calendar_date'].apply(lambda x: parse(x).weekday()).values\n",
    "    df_date['is_weekend'] = df_date['day_of_week'].apply(lambda x: x > 4).values\n",
    "    \n",
    "    last_holiday, next_holiday = get_last_next_holiday(df_date['calendar_date'].values, df_date['holiday_flg'].values)\n",
    "    df_date['last_holiday'] = last_holiday\n",
    "    df_date['next_holiday'] = next_holiday\n",
    "\n",
    "    df_date['day_to_last_holiday'] = (df_date['calendar_date'].apply(lambda x: parse(x))\n",
    "                                      - df_date['last_holiday'].apply(lambda x: parse(x)))\n",
    "    df_date['day_to_last_holiday'] = df_date['day_to_last_holiday'].apply(lambda x: x.days).values\n",
    "    \n",
    "    df_date['day_to_next_holiday'] = (df_date['next_holiday'].apply(lambda x: parse(x))\n",
    "                                      - df_date['calendar_date'].apply(lambda x: parse(x)))\n",
    "    df_date['day_to_next_holiday'] = df_date['day_to_next_holiday'].apply(lambda x: x.days).values\n",
    "    \n",
    "    df_date.rename(columns={'calendar_date': 'visit_date'}, inplace=True)\n",
    "    \n",
    "    df_date['visit_date'] = pd.to_datetime(df_date['visit_date'])\n",
    "    for i in [3, 2, 1, -1]:\n",
    "        date_info_temp = df_date.copy()\n",
    "        date_info_temp['visit_date'] = date_info_temp['visit_date'].apply(lambda x: x + timedelta(i))\n",
    "        date_info_temp.rename(columns={'holiday_flg': 'ahead_holiday_{}'.format(i)},\n",
    "                              inplace=True)\n",
    "        \n",
    "        df_date = df_date.merge(date_info_temp[['visit_date', 'ahead_holiday_{}'.format(i)]],\n",
    "                                on=['visit_date'],\n",
    "                                how='left')\n",
    "    del df_date['last_holiday'], df_date['next_holiday']\n",
    "    gc.collect()\n",
    "    return df_date"
   ]
  },
  {
   "cell_type": "code",
   "execution_count": 21,
   "metadata": {
    "ExecuteTime": {
     "end_time": "2020-07-04T10:22:22.478788Z",
     "start_time": "2020-07-04T10:22:22.299724Z"
    }
   },
   "outputs": [],
   "source": [
    "df_date = get_time_fea(date_info)"
   ]
  },
  {
   "cell_type": "markdown",
   "metadata": {},
   "source": [
    "## 二阶特征：store_id & day"
   ]
  },
  {
   "cell_type": "markdown",
   "metadata": {},
   "source": [
    "因为day这个东西只有一个,而且未来和之前的是不一致的,那么做特征的时候就需要找day相关的属性,同样的store_id的属性也可以构建特征"
   ]
  },
  {
   "cell_type": "markdown",
   "metadata": {},
   "source": [
    "### store_id+day(related特征/holiday/weekday)"
   ]
  },
  {
   "cell_type": "code",
   "execution_count": 22,
   "metadata": {
    "ExecuteTime": {
     "end_time": "2020-07-04T10:22:22.486751Z",
     "start_time": "2020-07-04T10:22:22.479719Z"
    }
   },
   "outputs": [],
   "source": [
    "def get_st_date(en_date, days):\n",
    "    # st_date <= date < end_date\n",
    "    st_date = en_date - timedelta(days)\n",
    "    return st_date\n",
    "\n",
    "def get_label_st_date(st_date, days):\n",
    "    # st_date <= date < end_date\n",
    "    end_date = st_date + timedelta(days)\n",
    "    return st_date, end_date\n",
    "\n",
    "def get_df_label(df, date, days=39, is_te=False):\n",
    "    st_date, en_date = get_label_st_date(date, days)\n",
    "    print('label date, ', st_date, en_date)\n",
    "    ind1 = df['visit_date'] < en_date\n",
    "    ind2 = df['visit_date'] >= st_date\n",
    "    if is_te:\n",
    "        return df.loc[(ind2), ['air_store_id', 'visit_date', 'air_store_id_holiday',\n",
    "                               'air_genre_name', 'air_genre_name_weekday', 'air_genre_name_weekday_holiday']].copy()\n",
    "    return df.loc[(ind1 & ind2), ['air_store_id', 'visit_date', 'air_store_id_holiday',\n",
    "                                  'air_genre_name', 'air_genre_name_weekday', 'air_genre_name_weekday_holiday', 'visitors']].copy()"
   ]
  },
  {
   "cell_type": "markdown",
   "metadata": {},
   "source": [
    "### 特征工程1：visitors相关特征\n",
    "#### air_store_id+visitors特征（recent days）"
   ]
  },
  {
   "cell_type": "markdown",
   "metadata": {},
   "source": [
    "最近$N(N=14,28,56,1000)$天air_store_id的统计特征"
   ]
  },
  {
   "cell_type": "code",
   "execution_count": 23,
   "metadata": {
    "ExecuteTime": {
     "end_time": "2020-07-04T10:22:22.496740Z",
     "start_time": "2020-07-04T10:22:22.487698Z"
    }
   },
   "outputs": [],
   "source": [
    "def get_store_id_visitors_sts_features(df, en_date, key = 'air_store_id', date_col = 'visit_date',  days_list = [1000, 56, 28, 14,]):\n",
    "    t0 = time()\n",
    "    df_features       = pd.DataFrame()\n",
    "    df_features[key]  = df[key].unique()\n",
    "\n",
    "    df_tmp            = df.copy()\n",
    "    #######################  Recent days sts features #######################\n",
    "    for days in days_list:\n",
    "        st_date           = get_st_date(en_date, days) \n",
    "        df_tmp            = df_tmp.loc[((df[date_col] >= st_date) &  (df[date_col] < en_date))].copy() \n",
    "        df_features_tmp   = df_tmp.groupby([key], as_index=False)['visitors'].agg({\n",
    "            '{}_visitors_min_{}'.format(key,days): 'min',\n",
    "            '{}_visitors_mean_{}'.format(key,days): 'mean',\n",
    "            '{}_visitors_sum_{}'.format(key,days): 'sum',\n",
    "            '{}_visitors_median_{}'.format(key,days): 'median',\n",
    "            '{}_visitors_max_{}'.format(key,days): 'max',\n",
    "            '{}_visitors_count_{}'.format(key,days): 'count',\n",
    "            '{}_visitors_std_{}'.format(key,days): 'std',\n",
    "            '{}_visitors_quantile_{}'.format(key,days): 'quantile',\n",
    "            '{}_visitors_skew_{}'.format(key,days): 'skew'\n",
    "        }) \n",
    "        df_features  = df_features.merge(df_features_tmp, on =key, how = 'left')\n",
    "    print('For store id sts features, we spend {} seconds.'.format(time() - t0)) \n",
    "\n",
    "    return df_features"
   ]
  },
  {
   "cell_type": "markdown",
   "metadata": {},
   "source": [
    "#### air_store_id + visitors diff特征(recent days)\n",
    "最近N(N=28,56,1000)天的趋势统计特征"
   ]
  },
  {
   "cell_type": "code",
   "execution_count": 24,
   "metadata": {
    "ExecuteTime": {
     "end_time": "2020-07-04T10:22:22.509864Z",
     "start_time": "2020-07-04T10:22:22.497670Z"
    }
   },
   "outputs": [],
   "source": [
    "def get_store_id_visitors_diff_sts_features(df, en_date, key='air_store_id', date_col='visit_date',\n",
    "                                            days_list=[1000, 56, 28]):\n",
    "    t0 = time()\n",
    "    df_features = pd.DataFrame()\n",
    "    df_features[key] = df[key].unique()\n",
    "    for days in days_list:\n",
    "        df_tmp = df.copy()\n",
    "        st_date = get_st_date(en_date, days)\n",
    "        df_tmp = df_tmp.loc[((df[date_col] >= st_date) & (df[date_col] < en_date))].copy()\n",
    "        \n",
    "        df_old_tmp = df_tmp.copy()\n",
    "        df_old_tmp[date_col] = df_tmp[date_col].apply(lambda x: x + timedelta(1)).values  # 前一天\n",
    "        df_old_tmp.rename(columns={'visitors': 'visitors_yesterday'},\n",
    "                          inplace=True)\n",
    "        df_tmp = df_tmp.merge(df_old_tmp[[key, date_col, 'visitors_yesterday']],\n",
    "                              on=[key, date_col],\n",
    "                              how='left')\n",
    "        df_tmp['visitors_diff']  =df_tmp['visitors'].values - df_tmp['visitors_yesterday'].values\n",
    "        \n",
    "        df_tmp = df_tmp.loc[df_tmp['visitors_diff'].notnull()]\n",
    "        \n",
    "        df_features_tmp = df_tmp.groupby([key], as_index=False)['visitors_diff'].agg({\n",
    "            '{}_visitors_diff_min_{}'.format(key, days): 'min',\n",
    "            '{}_visitors_diff_mean_{}'.format(key, days): 'mean',\n",
    "            '{}_visitors_diff_median_{}'.format(key, days): 'median',\n",
    "            '{}_visitors_diff_sum_{}'.format(key, days): 'sum',\n",
    "            '{}_visitors_diff_max_{}'.format(key, days): 'max',\n",
    "            '{}_visitors_diff_count_{}'.format(key, days): 'count',\n",
    "            '{}_visitors_diff_std_{}'.format(key, days): 'std',\n",
    "            '{}_visitors_diff_quantile_{}'.format(key, days): 'quantile',\n",
    "            '{}_visitors_diff_skew_{}'.format(key, days): 'skew',\n",
    "        })\n",
    "        \n",
    "        df_tmp['visitors_diff_abs'] = df_tmp['visitors_diff'].map(abs).values\n",
    "        df_features_tmp2 = df_tmp.groupby([key], as_index=False)['visitors_diff_abs'].agg({'{}_visitors_diff_abs_mean_{}'.format(key, days): 'mean'})\n",
    "        \n",
    "        df_features = df_features.merge(df_features_tmp, on=key, how='left')\n",
    "        df_features = df_features.merge(df_features_tmp2, on=key, how='left')\n",
    "    print('For store id diff sts features, we spend {} seconds.'.format(time() - t0))\n",
    "    \n",
    "    return df_features"
   ]
  },
  {
   "cell_type": "markdown",
   "metadata": {},
   "source": [
    "#### air_store_id + weekday + visitors特征(周期特征)\n",
    "过去每段时间的工作日的的统计特征"
   ]
  },
  {
   "cell_type": "code",
   "execution_count": 25,
   "metadata": {
    "ExecuteTime": {
     "end_time": "2020-07-04T10:22:22.521979Z",
     "start_time": "2020-07-04T10:22:22.510863Z"
    }
   },
   "outputs": [],
   "source": [
    "def get_weekday_visitors_sts_features(df, key, end_date,\n",
    "                                      date_col='visit_date', val_name='visitor'):\n",
    "    df_features = pd.DataFrame()\n",
    "    df_features[key] = df[key].unique()\n",
    "    \n",
    "    ind1 = df[date_col] < end_date\n",
    "    for i in [4, 8, 12, 100]:\n",
    "        t_st_date = end_date - timedelta(7 * i)\n",
    "        ind2 = df[date_col] >= t_st_date\n",
    "        df_grp = df.loc[(ind1 & ind2)].groupby(key)\n",
    "        dic_mean = df_grp[val_name].mean().to_dict()\n",
    "        dic_std = df_grp[val_name].std().to_dict()\n",
    "        dic_max = df_grp[val_name].max().to_dict()\n",
    "        dic_min = df_grp[val_name].min().to_dict()\n",
    "        dic_count = df_grp[val_name].count().to_dict()\n",
    "        dic_sum = df_grp[val_name].sum().to_dict()\n",
    "        dic_quantile = df_grp[val_name].quantile().to_dict()\n",
    "        \n",
    "        df_features['{}_weekdays_mean_{}_{}'.format(key, i + 1, val_name)] = df_features[key].map(dic_mean).values\n",
    "        df_features['{}_weekdays_std_{}_{}'.format(key, i + 1, val_name)] = df_features[key].map(dic_std).values\n",
    "        df_features['{}_weekdays_max_{}_{}'.format(key, i + 1, val_name)] = df_features[key].map(dic_max).values\n",
    "        df_features['{}_weekdays_min_{}_{}'.format(key, i + 1, val_name)] = df_features[key].map(dic_min).values\n",
    "        df_features['{}_weekdays_count_{}_{}'.format(key, i + 1, val_name)] = df_features[key].map(dic_count).values\n",
    "        df_features['{}_weekdays_sum_{}_{}'.format(key, i + 1, val_name)] = df_features[key].map(dic_sum).values\n",
    "        df_features['{}_weekdays_quantile_{}_{}'.format(key, i + 1, val_name)] = df_features[key].map(dic_quantile).values\n",
    "        df_features['{}_weekdays_gap_{}_{}'.format(key, i + 1, val_name)] = (df_features['{}_weekdays_max_{}_{}'.format(key, i + 1, val_name)] -\n",
    "                                                                             df_features['{}_weekdays_min_{}_{}'.format(key, i + 1, val_name)])\n",
    "        \n",
    "        return df_features"
   ]
  },
  {
   "cell_type": "markdown",
   "metadata": {},
   "source": [
    "#### air_store_id + weekday + visitors diff特征(周期特征)\n",
    "过去每段时间的工作日的差值统计特征"
   ]
  },
  {
   "cell_type": "code",
   "execution_count": 26,
   "metadata": {
    "ExecuteTime": {
     "end_time": "2020-07-04T10:22:22.538021Z",
     "start_time": "2020-07-04T10:22:22.522976Z"
    }
   },
   "outputs": [],
   "source": [
    "\n",
    "def get_weekday_visitors_diff_sts_features(df, key, end_date, date_col='visit_date', val_name='visitors'): \n",
    "    df_features = pd.DataFrame() \n",
    "    df_features[key] = df[key].unique()\n",
    "\n",
    "    ind1 = df[date_col] < end_date  \n",
    "    # 最近每周的情况\n",
    "    for i in [4, 8, 12, 100]:\n",
    "        t_st_date = end_date - timedelta(7 * i) \n",
    "        ind2 = df[date_col] >= t_st_date \n",
    "\n",
    "        df_tmp = df.loc[ind1 & ind2].copy() \n",
    "\n",
    "        df_old_tmp = df_tmp.copy()\n",
    "        df_old_tmp[date_col] = df_tmp[date_col].apply(lambda x: x + timedelta(7)).values\n",
    "        df_old_tmp.rename(columns={'visitors':'visitors_lastweek'},\n",
    "                          inplace=True)\n",
    "        df_tmp = df_tmp.merge(df_old_tmp[[key, date_col, 'visitors_lastweek']],\n",
    "                              on=[key, date_col],\n",
    "                              how='left')\n",
    "        df_tmp['visitors_diff'] = df_tmp['visitors'].values - df_tmp['visitors_lastweek'].values\n",
    "        df_tmp = df_tmp.loc[df_tmp['visitors_diff'].notnull()]\n",
    "\n",
    "        df_tmp['visitors_diff_abs'] = df_tmp['visitors_diff'].map(abs).values\n",
    "\n",
    "        df_grp              = df_tmp.groupby(key) \n",
    "        dic_mean            = df_grp['visitors_diff'].mean().to_dict()\n",
    "        dic_std             = df_grp['visitors_diff'].std().to_dict()\n",
    "        dic_max             = df_grp['visitors_diff'].max().to_dict()\n",
    "        dic_min             = df_grp['visitors_diff'].min().to_dict()\n",
    "        dic_count           = df_grp['visitors_diff'].count().to_dict()\n",
    "        dic_sum             = df_grp['visitors_diff'].sum().to_dict()   \n",
    "        dic_quantile        = df_grp['visitors_diff'].quantile().to_dict()   \n",
    "        dic_abs_mean        = df_grp['visitors_diff_abs'].mean().to_dict()   \n",
    "        \n",
    "        df_features['{}_weekday_quantile_{}_{}'.format(key, i+1, 'visitorsdiff')]  = df_features[key].map(dic_quantile).values \n",
    "        df_features['{}_weekday_mean_{}_{}'.format(key, i+1, 'visitorsdiff')]      = df_features[key].map(dic_mean).values \n",
    "        df_features['{}_weekday_std_{}_{}'.format(key, i+1, 'visitorsdiff')]       = df_features[key].map(dic_std).values \n",
    "        df_features['{}_weekday_max_{}_{}'.format(key, i+1, 'visitorsdiff')]       = df_features[key].map(dic_max).values \n",
    "        df_features['{}_weekday_min_{}_{}'.format(key, i+1, 'visitorsdiff')]       = df_features[key].map(dic_min).values \n",
    "        df_features['{}_weekday_count_{}_{}'.format(key, i+1, 'visitorsdiff')]     = df_features[key].map(dic_count).values \n",
    "        df_features['{}_weekday_sum_{}_{}'.format(key, i+1, 'visitorsdiff')]       = df_features[key].map(dic_sum).values  \n",
    "        df_features['{}_weekday_absmean_{}_{}'.format(key, i+1, 'visitorsdiff')]   = df_features[key].map(dic_abs_mean).values  \n",
    "\n",
    "    return df_features"
   ]
  },
  {
   "cell_type": "markdown",
   "metadata": {},
   "source": [
    "#### air_store_id + visitors exp特征(周期特征)\n",
    "加权指数衰减统计特征\n",
    "\n",
    "权重可以表示为店铺的运营的时间信息，所以记录一次即可"
   ]
  },
  {
   "cell_type": "code",
   "execution_count": 27,
   "metadata": {
    "ExecuteTime": {
     "end_time": "2020-07-04T10:22:22.549032Z",
     "start_time": "2020-07-04T10:22:22.539016Z"
    }
   },
   "outputs": [],
   "source": [
    "def get_store_id_visitors_exp_features(df, en_date, key='air_store_id', date_col='visit_date',  days_list = [1000]): #, 56, 28, 14,\n",
    "    t0 = time()\n",
    "    df_features       = pd.DataFrame()\n",
    "    df_features[key]  = df[key].unique()\n",
    "\n",
    "    df_tmp            = df.copy()\n",
    "    for weight in [0.9, 0.95, 0.975, 0.985]:\n",
    "\n",
    "        for days in days_list:\n",
    "            st_date            = get_st_date(en_date, days) \n",
    "            df_tmp             = df_tmp.loc[((df[date_col] >= st_date) &  (df[date_col] < en_date))].copy()\n",
    "\n",
    "            df_tmp['day_lags']        = df_tmp['visit_date'].apply(lambda x: (en_date - (x)).days)\n",
    "            df_tmp['weight']          = df_tmp['day_lags'].apply(lambda x: weight ** x)\n",
    "            df_tmp['visitors_weight'] = df_tmp['visitors'] * df_tmp['weight']\n",
    "\n",
    "\n",
    "            result1 = df_tmp.groupby([key], as_index=False)['visitors_weight'].agg({\n",
    "                '{}_exp_mean{}_w_{}'.format(key,days, weight): 'sum'\n",
    "            })\n",
    "            result2 = df_tmp.groupby([key], as_index=False)['weight'].agg({\n",
    "                '{}_exp_weight_sum{}_w_{}'.format(key,days, weight): 'sum'\n",
    "            })\n",
    "\n",
    "            result = result1.merge(result2, on=key, how='left')\n",
    "            result['{}_exp_mean2{}_w_{}'.format(key, days, weight)] = result['{}_exp_mean{}_w_{}'.format(key, days, weight)] / result['{}_exp_weight_sum{}_w_{}'.format(key, days, weight)]\n",
    "\n",
    "            if weight == 0.9:\n",
    "                df_features  = df_features.merge(result[['{}_exp_mean2{}_w_{}'.format(key, days, weight),'{}_exp_weight_sum{}_w_{}'.format(key, days, weight),key]], on =key, how = 'left')\n",
    "            else:\n",
    "                df_features  = df_features.merge(result[['{}_exp_mean2{}_w_{}'.format(key, days, weight),key]], on =key, how = 'left')\n",
    "    print('For store id exp features, we spend {} seconds.'.format(time() - t0)) \n",
    "\n",
    "    return df_features"
   ]
  },
  {
   "cell_type": "markdown",
   "metadata": {},
   "source": [
    "#### air_store_id + weekday + visitors exp特征(7)(周期特征)\n",
    "加权指数衰减(按周进行衰减)统计特征\n",
    "\n",
    "权重可以表示为店铺的运营的时间信息(周)，所以记录一次即可"
   ]
  },
  {
   "cell_type": "code",
   "execution_count": 28,
   "metadata": {
    "ExecuteTime": {
     "end_time": "2020-07-04T10:22:22.560086Z",
     "start_time": "2020-07-04T10:22:22.549988Z"
    }
   },
   "outputs": [],
   "source": [
    "def get_weekday_visitors_exp_sts_features(df, en_date, key, date_col = 'visit_date',  days_list = [1000]): #, 56, 28, 14,\n",
    "    t0 = time()\n",
    "    df_features       = pd.DataFrame()\n",
    "    df_features[key]  = df[key].unique()\n",
    "    \n",
    "    df_tmp            = df.copy()\n",
    "    for weight in [0.95, 0.975, 0.985]:\n",
    "    \n",
    "        for days in days_list:\n",
    "            st_date            = get_st_date(en_date, days) \n",
    "            df_tmp             = df_tmp.loc[((df[date_col] >= st_date) &  (df[date_col] < en_date))].copy()\n",
    "\n",
    "            df_tmp['day_lags']        = df_tmp['visit_date'].apply(lambda x: (en_date - (x)).days // 7)\n",
    "            df_tmp['weight']          = df_tmp['day_lags'].apply(lambda x: weight**x)\n",
    "            df_tmp['visitors_weight'] = df_tmp['visitors'] * df_tmp['weight']\n",
    "\n",
    "\n",
    "            result1 = df_tmp.groupby([key], as_index=False)['visitors_weight'].agg({'{}_exp_mean{}_{}'.format(key,days,weight): 'sum'})\n",
    "            result2 = df_tmp.groupby([key], as_index=False)['weight'].agg({'{}_exp_weight_sum{}_{}'.format(key,days,weight): 'sum'})\n",
    "\n",
    "            result = result1.merge(result2, on=key, how='left')\n",
    "            result['{}_exp_mean2{}_{}'.format(key,days,weight)] = result['{}_exp_mean{}_{}'.format(key,days,weight)]/result['{}_exp_weight_sum{}_{}'.format(key,days,weight)]\n",
    "            \n",
    "            df_features  = df_features.merge(result, on =key, how = 'left')\n",
    "    print('For store id exp features, we spend {} seconds.'.format(time() - t0)) \n",
    "    \n",
    "    return df_features"
   ]
  },
  {
   "cell_type": "markdown",
   "metadata": {},
   "source": [
    "#### air_store_id + holiday +visitors特征\n",
    "过去每个节假日的的统计特征"
   ]
  },
  {
   "cell_type": "code",
   "execution_count": 29,
   "metadata": {
    "ExecuteTime": {
     "end_time": "2020-07-04T10:22:22.572202Z",
     "start_time": "2020-07-04T10:22:22.561044Z"
    }
   },
   "outputs": [],
   "source": [
    "def get_holiday_visitors_sts_features(df, key, end_date, date_col = 'visit_date',val_name = 'visitors'): \n",
    "    df_features      = pd.DataFrame() \n",
    "    df_features[key] = df[key].unique() \n",
    "    ind1    = df[date_col] < end_date  \n",
    "    for i in [4,8,12,100]: \n",
    "        t_st_date           = end_date  - timedelta(7 * i) \n",
    "        ind2                = df[date_col]  >= t_st_date \n",
    "        df_grp              = df.loc[(ind1 & ind2)].groupby(key) \n",
    "        dic_mean            = df_grp[val_name].mean().to_dict()\n",
    "        dic_std             = df_grp[val_name].std().to_dict()\n",
    "        dic_max             = df_grp[val_name].max().to_dict()\n",
    "        dic_min             = df_grp[val_name].min().to_dict()\n",
    "        dic_count           = df_grp[val_name].count().to_dict()\n",
    "        dic_sum             = df_grp[val_name].sum().to_dict()   \n",
    "        df_features['{}_holiday_mean_{}_{}'.format(key, i+1, val_name)]  = df_features[key].map(dic_mean).values \n",
    "        df_features['{}_holiday_std_{}_{}'.format(key, i+1, val_name)]   = df_features[key].map(dic_std).values \n",
    "        df_features['{}_holiday_max_{}_{}'.format(key, i+1, val_name)]   = df_features[key].map(dic_max).values \n",
    "        df_features['{}_holiday_min_{}_{}'.format(key, i+1, val_name)]   = df_features[key].map(dic_min).values \n",
    "        df_features['{}_holiday_count_{}_{}'.format(key, i+1, val_name)] = df_features[key].map(dic_count).values \n",
    "        df_features['{}_holiday_sum_{}_{}'.format(key, i+1, val_name)]   = df_features[key].map(dic_sum).values  \n",
    "    return df_features"
   ]
  },
  {
   "cell_type": "markdown",
   "metadata": {},
   "source": [
    "#### air_store_id + weekday + holiday +visitors特征\n",
    "过去每个节假日与工作日的交叉统计特征"
   ]
  },
  {
   "cell_type": "code",
   "execution_count": 30,
   "metadata": {
    "ExecuteTime": {
     "end_time": "2020-07-04T10:22:22.583136Z",
     "start_time": "2020-07-04T10:22:22.573163Z"
    }
   },
   "outputs": [],
   "source": [
    "def get_weekday_holiday_visitors_sts_features(df, key, end_date, date_col = 'visit_date',val_name = 'visitors'): \n",
    "    df_features      = pd.DataFrame() \n",
    "    df_features[key] = df[key].unique() \n",
    "    ind1    = df[date_col] < end_date  \n",
    "    for i in [4,8,12,100]: \n",
    "        t_st_date           = end_date  - timedelta(7 * i) \n",
    "        ind2                = df[date_col]  >= t_st_date \n",
    "        df_grp              = df.loc[(ind1 & ind2)].groupby(key) \n",
    "        dic_mean            = df_grp[val_name].mean().to_dict()\n",
    "        dic_std             = df_grp[val_name].std().to_dict()\n",
    "        dic_max             = df_grp[val_name].max().to_dict()\n",
    "        dic_min             = df_grp[val_name].min().to_dict()\n",
    "        dic_quantile        = df_grp[val_name].quantile().to_dict()\n",
    "#         dic_count           = df_grp[val_name].count().to_dict()\n",
    "        dic_sum             = df_grp[val_name].sum().to_dict()   \n",
    "        df_features['{}_weekday_holiday_mean_{}_{}'.format(key, i+1, val_name)]       = df_features[key].map(dic_mean).values \n",
    "        df_features['{}_weekday_holiday_std_{}_{}'.format(key, i+1, val_name)]        = df_features[key].map(dic_std).values \n",
    "        df_features['{}_weekday_holiday_max_{}_{}'.format(key, i+1, val_name)]        = df_features[key].map(dic_max).values \n",
    "        df_features['{}_weekday_holiday_min_{}_{}'.format(key, i+1, val_name)]        = df_features[key].map(dic_min).values \n",
    "#         df_features['{}_weekday_holiday_count_{}_{}'.format(key, i+1, val_name)]    = df_features[key].map(dic_count).values \n",
    "        df_features['{}_weekday_holiday_sum_{}_{}'.format(key, i+1, val_name)]        = df_features[key].map(dic_sum).values  \n",
    "        df_features['{}_weekday_holiday_quantile_{}_{}'.format(key, i+1, val_name)]   = df_features[key].map(dic_quantile).values  \n",
    "    return df_features"
   ]
  },
  {
   "cell_type": "markdown",
   "metadata": {},
   "source": [
    "#### air_store_id + timediff\n",
    "过去每个商店关于时间的差值统计特征"
   ]
  },
  {
   "cell_type": "code",
   "execution_count": 31,
   "metadata": {
    "ExecuteTime": {
     "end_time": "2020-07-04T10:22:22.593110Z",
     "start_time": "2020-07-04T10:22:22.584134Z"
    }
   },
   "outputs": [],
   "source": [
    "\n",
    "def get_store_id_time_diff_sts_features(df, en_date, key = 'air_store_id', date_col = 'visit_date',  days_list = [1000, 56, 28]): #, 14,\n",
    "      \n",
    "    t0 = time()\n",
    "    df_features       = pd.DataFrame()\n",
    "    df_features[key]  = df[key].unique()\n",
    "    df = df.sort_values([key, date_col])\n",
    "    for days in days_list:\n",
    "        \n",
    "        df_tmp                = df.copy() \n",
    "        st_date               = get_st_date(en_date, days) \n",
    "        df_tmp                = df_tmp.loc[((df[date_col] >= st_date) &  (df[date_col] < en_date))].copy()\n",
    "        df_tmp                = df_tmp.sort_values([key, date_col])\n",
    "        df_tmp['time_diff']            = df_tmp.groupby(key)[date_col].diff().values\n",
    "        df_tmp['time_diff']            = df_tmp['time_diff'].apply(lambda x: x.days) \n",
    "         \n",
    "        df_tmp                 = df_tmp.loc[df_tmp['time_diff'].isnull() == False] \n",
    "        df_features_tmp   = df_tmp.groupby([key], as_index=False)['time_diff'].agg({\n",
    "            '{}_time_diff_min{}'.format(key,days): 'min',\n",
    "            '{}_time_diff_mean{}'.format(key,days): 'mean',\n",
    "            '{}_time_diff_median{}'.format(key,days): 'median',\n",
    "            '{}_time_diff_max{}'.format(key,days): 'max',\n",
    "            '{}_time_diff_std{}'.format(key,days): 'std',\n",
    "            '{}_time_diff_quantile{}'.format(key,days): 'quantile',\n",
    "            '{}_time_diff_skew{}'.format(key,days): 'skew'\n",
    "        }) \n",
    "        df_features  = df_features.merge(df_features_tmp, on =key, how = 'left')\n",
    "    print('For store id diff sts features, we spend {} seconds.'.format(time() - t0)) \n",
    "    \n",
    "    return df_features"
   ]
  },
  {
   "cell_type": "markdown",
   "metadata": {},
   "source": [
    "### 特征工程2（reserve相关特征）\n",
    "####  air_store_id + visit_date + timediff & reserve_visitors特征\n",
    "每天的预定的统计信息,包括预定人数以及时间差的统计信息"
   ]
  },
  {
   "cell_type": "code",
   "execution_count": 32,
   "metadata": {
    "ExecuteTime": {
     "end_time": "2020-07-04T10:22:22.611062Z",
     "start_time": "2020-07-04T10:22:22.594107Z"
    }
   },
   "outputs": [],
   "source": [
    "\n",
    "def get_store_date_reserve_features(df_air_reserves, df_hpg_reserves, en_date, days, key = 'air_store_id_visit_date'):\n",
    "    \n",
    "    t0 = time()\n",
    "    st_date,en_date = get_label_st_date(en_date, days) \n",
    "    \n",
    "    df_air_reserve  = df_air_reserves.loc[((df_air_reserves['visit_datetime']   < en_date) &\\\n",
    "                                           (df_air_reserves['visit_datetime']   >= st_date) &\\\n",
    "                                           (df_air_reserves['reserve_datetime'] < st_date))].copy()\n",
    "    \n",
    "    df_hpg_reserve  = df_hpg_reserves.loc[((df_hpg_reserves['visit_datetime']   < en_date) &\\\n",
    "                                           (df_hpg_reserves['visit_datetime']   >= st_date) &\\\n",
    "                                           (df_hpg_reserves['reserve_datetime'] < st_date))].copy()\n",
    "    \n",
    "    df_features       = pd.DataFrame()\n",
    "    df_features[key]  = df_air_reserve[key].unique()  \n",
    "    \n",
    "    try:  \n",
    "        df_air_reserve['time_diff']   = df_air_reserve['visit_datetime'] - df_air_reserve['reserve_datetime']\n",
    "        df_air_reserve['time_diff']   = df_air_reserve['time_diff'].apply(lambda x: x.days).values\n",
    "        df_air_timediff_fea = df_air_reserve.groupby(key, as_index = False)['time_diff'].agg({\n",
    "                                           'store_air_timediff_mean': 'mean',\n",
    "                                           'store_air_timediff_median': 'median',\n",
    "                                           'store_air_timediff_max': 'max',\n",
    "                                           'store_air_timediff_std': 'std'}) \n",
    "\n",
    "        df_air_reserve_fea = df_air_reserve.groupby(['air_store_id','visit_date'])['reserve_visitors'].agg({\n",
    "                                           'store_air_reserve_visitors_sum': 'sum',\n",
    "                                           'store_air_reserve_visitors_mean': 'mean',\n",
    "    #                                        'store_air_reserve_visitors_std': 'std',\n",
    "                                           'store_air_reserve_visitors_max': 'max',\n",
    "                                           'store_air_reserve_visitors_count': 'count',}) \n",
    "\n",
    "        df_air_reserve_fea          = df_air_reserve_fea.unstack().fillna(0).stack().reset_index()    \n",
    "        df_air_reserve_fea[key]     = df_air_reserve_fea['air_store_id'].astype(str) + '_' + df_air_reserve_fea['visit_date'].astype(str)\n",
    "        del df_air_reserve_fea['air_store_id']\n",
    "        del df_air_reserve_fea['visit_date']\n",
    "        df_features  = df_features.merge(df_air_timediff_fea, on =key, how = 'left')\n",
    "        df_features  = df_features.merge(df_air_reserve_fea,  on =key, how = 'left')\n",
    "\n",
    "    except:\n",
    "        pass\n",
    "    \n",
    "    try:\n",
    "        df_hpg_reserve['time_diff']   = df_hpg_reserve['visit_datetime'] - df_hpg_reserve['reserve_datetime']\n",
    "        df_hpg_reserve['time_diff']   = df_hpg_reserve['time_diff'].apply(lambda x: x.days).values\n",
    "        \n",
    "        df_hpg_timediff_fea = df_hpg_reserve.groupby(key, as_index = False)['time_diff'].agg({\n",
    "                                           'store_hpg_timediff_mean': 'mean',\n",
    "                                           'store_hpg_timediff_median': 'median',\n",
    "                                           'store_hpg_timediff_max': 'max',\n",
    "                                           'store_hpg_timediff_std': 'std',}) \n",
    "\n",
    "        df_hpg_reserve_fea = df_hpg_reserve.groupby(['air_store_id','visit_date'])['reserve_visitors'].agg({\n",
    "                                           'store_hpg_reserve_visitors_sum': 'sum',\n",
    "                                           'store_hpg_reserve_visitors_mean': 'mean',\n",
    "    #                                        'store_hpg_reserve_visitors_std': 'std',\n",
    "                                           'store_hpg_reserve_visitors_max': 'max',\n",
    "                                           'store_hpg_reserve_visitors_count': 'count',}) \n",
    "\n",
    "        df_hpg_reserve_fea = df_hpg_reserve_fea.unstack().fillna(0).stack().reset_index()    \n",
    "        df_hpg_reserve_fea[key]     = df_hpg_reserve_fea['air_store_id'].astype(str) + '_' + df_hpg_reserve_fea['visit_date'].astype(str)\n",
    "        del df_hpg_reserve_fea['air_store_id']\n",
    "        del df_hpg_reserve_fea['visit_date']\n",
    "        df_features  = df_features.merge(df_hpg_timediff_fea, on =key, how = 'left')\n",
    "        df_features  = df_features.merge(df_hpg_reserve_fea,  on =key, how = 'left')\n",
    "        \n",
    "    except:\n",
    "        pass\n",
    "    \n",
    "    print('For store id reserve visitors features, we spend {} seconds.'.format(time() - t0)) \n",
    "    \n",
    "    return df_features"
   ]
  },
  {
   "cell_type": "markdown",
   "metadata": {},
   "source": [
    "#### air_store_id + timediff & reserve_visitors特征\n",
    "整体的预定统计信息,包括预定人数以及时间差的统计信息"
   ]
  },
  {
   "cell_type": "code",
   "execution_count": 33,
   "metadata": {
    "ExecuteTime": {
     "end_time": "2020-07-04T10:22:22.626022Z",
     "start_time": "2020-07-04T10:22:22.612059Z"
    }
   },
   "outputs": [],
   "source": [
    "\n",
    "def get_store_reserve_features(df_air_reserves, df_hpg_reserves, en_date, days, key = 'air_store_id'):\n",
    "     \n",
    "    t0 = time()\n",
    "    \n",
    "    st_date,en_date = get_label_st_date(en_date, days) \n",
    "   \n",
    "    df_air_reserve  = df_air_reserves.loc[((df_air_reserves['visit_datetime']   < en_date)  &\\\n",
    "                                           (df_air_reserves['visit_datetime']   >= st_date) &\\\n",
    "                                           (df_air_reserves['reserve_datetime'] < st_date))].copy()\n",
    "    df_hpg_reserve  = df_hpg_reserves.loc[((df_hpg_reserves['visit_datetime']   < en_date)  &\\\n",
    "                                           (df_hpg_reserves['visit_datetime']   >= st_date) &\\\n",
    "                                           (df_hpg_reserves['reserve_datetime'] < st_date))].copy()\n",
    "    \n",
    "    \n",
    "    df_features       = pd.DataFrame()\n",
    "    df_features[key]  = df_air_reserve[key].unique()\n",
    "    \n",
    "    df_air_reserve['time_diff']   = df_air_reserve['visit_datetime'] - df_air_reserve['reserve_datetime']\n",
    "    df_air_reserve['time_diff']   = df_air_reserve['time_diff'].apply(lambda x: x.days)\n",
    "    \n",
    "    df_hpg_reserve['time_diff']   = df_hpg_reserve['visit_datetime'] - df_hpg_reserve['reserve_datetime']\n",
    "    df_hpg_reserve['time_diff']   = df_hpg_reserve['time_diff'].apply(lambda x: x.days)\n",
    "    \n",
    "    try:\n",
    "        df_air_timediff_fea = df_air_reserve.groupby(key, as_index = False)['time_diff'].agg({\n",
    "                                           'store2_air_timediff_mean': 'mean',\n",
    "                                           'store2_air_timediff_median': 'median',\n",
    "                                           'store2_air_timediff_max': 'max',\n",
    "                                           'store2_air_timediff_count': 'count',\n",
    "                                           'store2_air_timediff_std': 'std',}) \n",
    "\n",
    "        df_air_reserve_fea = df_air_reserve.groupby(key, as_index = False)['reserve_visitors'].agg({\n",
    "                                           'store2_air_reserve_visitors_sum': 'sum',\n",
    "                                           'store2_air_reserve_visitors_median': 'median',\n",
    "                                           'store2_air_reserve_visitors_mean': 'mean',\n",
    "                                           'store2_air_reserve_visitors_max': 'max',\n",
    "                                           'store2_air_reserve_visitors_count': 'count',\n",
    "                                           'store2_air_reserve_visitors_std': 'std',}) \n",
    "        df_features  = df_features.merge(df_air_timediff_fea, on =key, how = 'left')\n",
    "        df_features  = df_features.merge(df_air_reserve_fea,  on =key, how = 'left')\n",
    "        \n",
    "    except:\n",
    "        pass\n",
    "    try:\n",
    "        df_hpg_timediff_fea = df_hpg_reserve.groupby(key, as_index = False)['time_diff'].agg({\n",
    "                                           'store2_hpg_timediff_mean': 'mean',\n",
    "                                           'store2_hpg_timediff_median': 'median',\n",
    "                                           'store2_hpg_timediff_max': 'max',\n",
    "                                           'store2_hpg_timediff_count': 'count',\n",
    "                                           'store2_hpg_timediff_skew': 'skew',\n",
    "                                           'store2_hpg_timediff_std': 'std',}) \n",
    "\n",
    "        df_hpg_reserve_fea = df_hpg_reserve.groupby(key, as_index = False)['reserve_visitors'].agg({\n",
    "                                           'store2_hpg_reserve_visitors_sum': 'sum',\n",
    "                                           'store2_hpg_reserve_visitors_mean': 'mean',\n",
    "                                           'store2_hpg_reserve_visitors_median': 'median',\n",
    "                                           'store2_hpg_reserve_visitors_max': 'max',\n",
    "                                           'store2_hpg_reserve_visitors_count': 'count',\n",
    "                                           'store2_hpg_reserve_visitors_std': 'std',}) \n",
    "    \n",
    "        df_features  = df_features.merge(df_hpg_timediff_fea, on =key, how = 'left')\n",
    "        df_features  = df_features.merge(df_hpg_reserve_fea,  on =key, how = 'left')\n",
    "    except:\n",
    "        pass\n",
    "    \n",
    "    print('For store id reserve visitors features, we spend {} seconds.'.format(time() - t0)) \n",
    "    \n",
    "    return df_features"
   ]
  },
  {
   "cell_type": "markdown",
   "metadata": {},
   "source": [
    "#### visit_date + timediff & reserve_visitors特征\n",
    "每个时间段的统计信息,包括预定人数以及时间差的统计信息"
   ]
  },
  {
   "cell_type": "code",
   "execution_count": 34,
   "metadata": {
    "ExecuteTime": {
     "end_time": "2020-07-04T10:22:22.638988Z",
     "start_time": "2020-07-04T10:22:22.627019Z"
    }
   },
   "outputs": [],
   "source": [
    "def get_date_reserve_features(df_air_reserves, df_hpg_reserves, en_date, days, key = 'visit_date'):\n",
    "     \n",
    "    t0 = time()\n",
    "    st_date,en_date = get_label_st_date(en_date, days) \n",
    "\n",
    "    df_air_reserve  = df_air_reserves.loc[((df_air_reserves['visit_datetime'] < en_date)  &\\\n",
    "                                           (df_air_reserves['visit_datetime'] >= st_date) &\\\n",
    "                                           (df_air_reserves['reserve_datetime'] < st_date))].copy()\n",
    "    \n",
    "    df_hpg_reserve  = df_hpg_reserves.loc[((df_hpg_reserves['visit_datetime'] < en_date)  &\\\n",
    "                                           (df_hpg_reserves['visit_datetime'] >= st_date) &\\\n",
    "                                           (df_hpg_reserves['reserve_datetime'] < st_date))].copy()\n",
    "    \n",
    "    \n",
    "    df_features       = pd.DataFrame()\n",
    "    df_features[key]  = df_air_reserve[key].unique()\n",
    "    \n",
    "    df_air_reserve['time_diff']   = df_air_reserve['visit_datetime'] - df_air_reserve['reserve_datetime']\n",
    "    df_air_reserve['time_diff']   = df_air_reserve['time_diff'].apply(lambda x: x.days)\n",
    "    \n",
    "    df_hpg_reserve['time_diff']   = df_hpg_reserve['visit_datetime'] - df_hpg_reserve['reserve_datetime']\n",
    "    df_hpg_reserve['time_diff']   = df_hpg_reserve['time_diff'].apply(lambda x: x.days)\n",
    "    try:\n",
    "        df_air_timediff_fea = df_air_reserve.groupby(key, as_index = False)['time_diff'].agg({\n",
    "                                           'date_air_timediff_mean': 'mean',\n",
    "                                           'date_air_timediff_median': 'median',\n",
    "                                           'date_air_timediff_max': 'max',\n",
    "                                           'date_air_timediff_count': 'count',\n",
    "                                           'date_air_timediff_std': 'std',}) \n",
    "\n",
    "        df_air_reserve_fea = df_air_reserve.groupby(key, as_index = False)['reserve_visitors'].agg({\n",
    "                                           'date_air_reserve_visitors_sum': 'sum',\n",
    "                                           'date_air_reserve_visitors_median': 'median',\n",
    "                                           'date_air_reserve_visitors_max': 'max',\n",
    "                                           'date_air_reserve_visitors_count': 'count',\n",
    "                                           'date_air_reserve_visitors_std': 'std',}) \n",
    "        df_features  = df_features.merge(df_air_timediff_fea, on =key, how = 'left')\n",
    "        df_features  = df_features.merge(df_air_reserve_fea,  on =key, how = 'left')\n",
    "        \n",
    "    except:\n",
    "        pass\n",
    "    try:\n",
    "        df_hpg_timediff_fea = df_hpg_reserve.groupby(key, as_index = False)['time_diff'].agg({\n",
    "                                           'date_hpg_timediff_mean': 'mean',\n",
    "                                           'date_hpg_timediff_max': 'max',}) \n",
    "\n",
    "        df_hpg_reserve_fea = df_hpg_reserve.groupby(key, as_index = False)['reserve_visitors'].agg({\n",
    "                                           'date_hpg_reserve_visitors_sum': 'sum',\n",
    "                                           'date_hpg_reserve_visitors_median': 'median',\n",
    "                                           'date_hpg_reserve_visitors_max': 'max',\n",
    "                                           'date_hpg_reserve_visitors_count': 'count',}) \n",
    "    \n",
    "        df_features  = df_features.merge(df_hpg_timediff_fea, on =key, how = 'left')\n",
    "        df_features  = df_features.merge(df_hpg_reserve_fea,  on =key, how = 'left')\n",
    "    except:\n",
    "        pass\n",
    "    \n",
    "    print('For store id reserve visitors features, we spend {} seconds.'.format(time() - t0)) \n",
    "    \n",
    "    return df_features"
   ]
  },
  {
   "cell_type": "markdown",
   "metadata": {},
   "source": [
    "### 特征工程3：基于其他属性的特征,例如air_genre_name\n",
    "#### air_genre_name + visitors特征\n",
    "最近N(N=14,28,56,1000)天air_genre_name的统计特征"
   ]
  },
  {
   "cell_type": "code",
   "execution_count": 35,
   "metadata": {
    "ExecuteTime": {
     "end_time": "2020-07-04T10:22:22.649230Z",
     "start_time": "2020-07-04T10:22:22.639985Z"
    }
   },
   "outputs": [],
   "source": [
    "def get_genre_visitors_features(df, en_date, key = 'air_genre_name', date_col = 'visit_date',  days_list = [1000, 56, 28]): #, 14,\n",
    "    t0 = time()\n",
    "    df_features       = pd.DataFrame()\n",
    "    df_features[key]  = df[key].unique()\n",
    "    \n",
    "    df_tmp            = df.copy()\n",
    "    for days in days_list:\n",
    "        st_date           = get_st_date(en_date, days) \n",
    "        df_tmp            = df_tmp.loc[((df[date_col] >= st_date) &  (df[date_col] < en_date))].copy()\n",
    "        df_features_tmp   = df_tmp.groupby([key], as_index=False)['visitors'].agg({\n",
    "            '{}_visitors_min{}'.format(key,days): 'min',\n",
    "            '{}_visitors_mean{}'.format(key,days): 'mean',\n",
    "            '{}_visitors_median{}'.format(key,days): 'median',\n",
    "            '{}_visitors_max{}'.format(key,days): 'max',\n",
    "            '{}_visitors_sum{}'.format(key,days): 'sum',\n",
    "            '{}_visitors_std{}'.format(key,days): 'std',\n",
    "            '{}_visitors_quantile{}'.format(key,days): 'quantile',\n",
    "            '{}_visitors_skew{}'.format(key,days): 'skew'\n",
    "        }) \n",
    "        df_features  = df_features.merge(df_features_tmp, on =key, how = 'left')\n",
    "    print('For area sts features, we spend {} seconds.'.format(time() - t0)) \n",
    "    \n",
    "    return df_features"
   ]
  },
  {
   "cell_type": "markdown",
   "metadata": {},
   "source": [
    "#### air_genre_name + weekday + visitors特征\n",
    "过去每段时间的工作日的统计特征天air_genre_name对应的统计特征"
   ]
  },
  {
   "cell_type": "code",
   "execution_count": 36,
   "metadata": {
    "ExecuteTime": {
     "end_time": "2020-07-04T10:22:22.661306Z",
     "start_time": "2020-07-04T10:22:22.650228Z"
    }
   },
   "outputs": [],
   "source": [
    "def get_genre_weekday_visitors_sts_features(df, end_date, key = 'air_genre_name_weekday', date_col = 'visit_date',val_name = 'visitors'): \n",
    "    df_features      = pd.DataFrame() \n",
    "    df_features[key] = df[key].unique()\n",
    "    t0 = time()\n",
    "    ind1    = df[date_col] < end_date  \n",
    "    for i in [4,8,12,100]:  #2,6\n",
    "        t_st_date           = end_date  - timedelta(7 * i) \n",
    "        ind2                = df[date_col]  >= t_st_date \n",
    "        df_grp              = df.loc[(ind1 & ind2)].groupby(key) \n",
    "        dic_mean            = df_grp[val_name].mean().to_dict()\n",
    "        dic_std             = df_grp[val_name].std().to_dict()\n",
    "        dic_max             = df_grp[val_name].max().to_dict()\n",
    "        dic_min             = df_grp[val_name].min().to_dict()\n",
    "        dic_count           = df_grp[val_name].count().to_dict()\n",
    "        dic_sum             = df_grp[val_name].sum().to_dict()   \n",
    "        dic_quantile        = df_grp[val_name].quantile().to_dict()   \n",
    "        \n",
    "        df_features['{}_mean_{}_{}'.format(key, i+1, val_name)]  = df_features[key].map(dic_mean).values \n",
    "        df_features['{}_quantile_{}_{}'.format(key, i+1, val_name)]  = df_features[key].map(dic_quantile).values \n",
    "        df_features['{}_std_{}_{}'.format(key, i+1, val_name)]   = df_features[key].map(dic_std).values \n",
    "        df_features['{}_max_{}_{}'.format(key, i+1, val_name)]   = df_features[key].map(dic_max).values \n",
    "        df_features['{}_min_{}_{}'.format(key, i+1, val_name)]   = df_features[key].map(dic_min).values \n",
    "        df_features['{}_gap_{}_{}'.format(key, i+1, val_name)]   = df_features['{}_max_{}_{}'.format(key, i+1, val_name)] - df_features['{}_min_{}_{}'.format(key, i+1, val_name)]\n",
    "        df_features['{}_count_{}_{}'.format(key, i+1, val_name)] = df_features[key].map(dic_count).values \n",
    "        df_features['{}_sum_{}_{}'.format(key, i+1, val_name)]   = df_features[key].map(dic_sum).values  \n",
    "    print('For area name sts features, we spend {} seconds.'.format(time() - t0)) \n",
    "    return df_features"
   ]
  },
  {
   "cell_type": "markdown",
   "metadata": {},
   "source": [
    "#### air_area_name + weekday + holiday + visitors特征\n",
    "最近N(N=14,28,56,1000)天air_area_name+weekday以及holiday的统计特征"
   ]
  },
  {
   "cell_type": "code",
   "execution_count": 37,
   "metadata": {
    "ExecuteTime": {
     "end_time": "2020-07-04T10:22:22.673273Z",
     "start_time": "2020-07-04T10:22:22.662303Z"
    }
   },
   "outputs": [],
   "source": [
    "def get_genre_weekday_holiday_visitors_sts_features(df, end_date, key = 'air_genre_name_weekday_holiday', date_col = 'visit_date',val_name = 'visitors'): \n",
    "    df_features      = pd.DataFrame() \n",
    "    df_features[key] = df[key].unique()\n",
    "    t0 = time()\n",
    "    ind1    = df[date_col] < end_date  \n",
    "    for i in [4,8,12,100]:  #2,6\n",
    "        t_st_date           = end_date  - timedelta(7 * i) \n",
    "        ind2                = df[date_col]  >= t_st_date \n",
    "        df_grp              = df.loc[(ind1 & ind2)].groupby(key) \n",
    "        dic_mean            = df_grp[val_name].mean().to_dict()\n",
    "        dic_std             = df_grp[val_name].std().to_dict()\n",
    "        dic_max             = df_grp[val_name].max().to_dict()\n",
    "        dic_min             = df_grp[val_name].min().to_dict()\n",
    "        dic_count           = df_grp[val_name].count().to_dict()\n",
    "        dic_sum             = df_grp[val_name].sum().to_dict()   \n",
    "        dic_quantile        = df_grp[val_name].quantile().to_dict()   \n",
    "        \n",
    "        \n",
    "        df_features['{}_mean_{}_{}'.format(key, i+1, val_name)]  = df_features[key].map(dic_mean).values \n",
    "        df_features['{}_quantile_{}_{}'.format(key, i+1, val_name)]  = df_features[key].map(dic_quantile).values \n",
    "        df_features['{}_std_{}_{}'.format(key, i+1, val_name)]   = df_features[key].map(dic_std).values \n",
    "        df_features['{}_max_{}_{}'.format(key, i+1, val_name)]   = df_features[key].map(dic_max).values \n",
    "        df_features['{}_min_{}_{}'.format(key, i+1, val_name)]   = df_features[key].map(dic_min).values \n",
    "        df_features['{}_gap_{}_{}'.format(key, i+1, val_name)]   = df_features['{}_max_{}_{}'.format(key, i+1, val_name)] - df_features['{}_min_{}_{}'.format(key, i+1, val_name)]\n",
    "        df_features['{}_count_{}_{}'.format(key, i+1, val_name)] = df_features[key].map(dic_count).values \n",
    "        df_features['{}_sum_{}_{}'.format(key, i+1, val_name)]   = df_features[key].map(dic_sum).values  \n",
    "    print('For area name sts features, we spend {} seconds.'.format(time() - t0)) \n",
    "    return df_features"
   ]
  },
  {
   "cell_type": "markdown",
   "metadata": {},
   "source": [
    "## 提取特征"
   ]
  },
  {
   "cell_type": "code",
   "execution_count": 38,
   "metadata": {
    "ExecuteTime": {
     "end_time": "2020-07-04T10:22:22.692412Z",
     "start_time": "2020-07-04T10:22:22.674270Z"
    }
   },
   "outputs": [],
   "source": [
    "def get_features(df_visitors, air_reserve, hpg_air_reserve, label_st_date, days =39, is_te = False):\n",
    "     \n",
    "    df_label = get_df_label(df_visitors, label_st_date, days, is_te, ) \n",
    "    df_label['visit_date']                         = pd.to_datetime(df_label['visit_date'])\n",
    "    df_label['weekday']                            = df_label['visit_date'].dt.weekday  \n",
    "    df_label['air_store_id_weekday']               = df_label['air_store_id'].astype(str) + '_' + df_label['weekday'].astype(str) \n",
    "    df_label['air_store_id_weekday_holiday']       = df_label['air_store_id_holiday'] + '_' + df_label['weekday'].astype(str) \n",
    "    \n",
    "    df_label['air_store_id_visit_date']  = df_label['air_store_id']  + '_' + df_label['visit_date'].astype(str)\n",
    "    ####################\n",
    "    df_genre_visitors_fea             = get_genre_visitors_features(df=df_visitors, key='air_genre_name', en_date = label_st_date, date_col = 'visit_date')\n",
    "    df_genre_dow_visitors_fea         = get_genre_weekday_visitors_sts_features(df=df_visitors, key='air_genre_name_weekday', end_date = label_st_date, date_col = 'visit_date',val_name = 'visitors')\n",
    "    df_genre_dow_holiday_visitors_fea = get_genre_weekday_holiday_visitors_sts_features(df=df_visitors, key='air_genre_name_weekday_holiday', end_date = label_st_date, date_col = 'visit_date',val_name = 'visitors')\n",
    "     #################### \n",
    "    df_air_hpg_features  = get_store_date_reserve_features(df_air_reserves = air_reserve,df_hpg_reserves = hpg_air_reserve, en_date=label_st_date, days=days,) \n",
    "    df_air_hpg_features2 = get_store_reserve_features(df_air_reserves = air_reserve,df_hpg_reserves = hpg_air_reserve, en_date=label_st_date, days=days,) \n",
    "    df_air_hpg_features3 = get_date_reserve_features(df_air_reserves = air_reserve,df_hpg_reserves = hpg_air_reserve, en_date=label_st_date, days=days,) \n",
    "    \n",
    "    df_storeid_visitors_fea           = get_store_id_visitors_sts_features(df=df_visitors,key='air_store_id', en_date=label_st_date)\n",
    "    \n",
    "    df_storeid_timediff_fea           = get_store_id_time_diff_sts_features(df=df_visitors, key='air_store_id',en_date=label_st_date)\n",
    "     \n",
    "    df_storeid_visitorsdiff_fea       = get_store_id_visitors_diff_sts_features(df=df_visitors, key='air_store_id', en_date=label_st_date)\n",
    "    df_storeid_visitorsexp_fea        = get_store_id_visitors_exp_features(df=df_visitors, key='air_store_id', en_date=label_st_date)\n",
    "    \n",
    "    df_storeid_dow_visitors_fea       = get_weekday_visitors_sts_features(df=df_visitors,      key='air_store_id_weekday', end_date = label_st_date, date_col = 'visit_date',val_name = 'visitors')\n",
    "    df_storeid_dow_visitorsdiff_fea   = get_weekday_visitors_diff_sts_features(df=df_visitors, key='air_store_id_weekday', end_date = label_st_date, date_col = 'visit_date',val_name = 'visitors')\n",
    "    df_storeid_dow_visitorsexp_fea    = get_weekday_visitors_exp_sts_features(df=df_visitors,  key='air_store_id_weekday', en_date = label_st_date, date_col = 'visit_date')\n",
    "     \n",
    "    df_storeid_holiday_visitors_fea   = get_holiday_visitors_sts_features(df=df_visitors, key='air_store_id_holiday', end_date = label_st_date, date_col = 'visit_date',val_name = 'visitors')\n",
    "    df_storeid_dow_holiday_visitorsdiff_fea   = get_weekday_holiday_visitors_sts_features(df=df_visitors, key='air_store_id_weekday_holiday', end_date = label_st_date, date_col = 'visit_date',val_name = 'visitors')\n",
    "     \n",
    "    df_features             = df_label.merge(df_storeid_visitors_fea,            on =['air_store_id'], how='left')\n",
    "    df_features             = df_features.merge(df_storeid_timediff_fea,         on =['air_store_id'], how='left')   \n",
    "    df_features             = df_features.merge(df_storeid_visitorsdiff_fea,     on =['air_store_id'], how='left')  \n",
    "    df_features             = df_features.merge(df_storeid_visitorsexp_fea,      on =['air_store_id'], how='left')  \n",
    "    \n",
    "    df_features             = df_features.merge(df_storeid_dow_visitors_fea,     on =['air_store_id_weekday'], how='left')  \n",
    "    df_features             = df_features.merge(df_storeid_dow_visitorsdiff_fea, on =['air_store_id_weekday'], how='left')  \n",
    "    df_features             = df_features.merge(df_storeid_dow_visitorsexp_fea,  on =['air_store_id_weekday'], how='left')   \n",
    "     \n",
    "    \n",
    "    df_features             = df_features.merge(df_air_hpg_features,  on =['air_store_id_visit_date'], how='left')\n",
    "    df_features             = df_features.merge(df_air_hpg_features2, on =['air_store_id'], how='left') \n",
    "    df_features['visit_date']          = df_features['visit_date'].astype(str)\n",
    "    df_air_hpg_features3['visit_date'] = df_air_hpg_features3['visit_date'].astype(str)  \n",
    "    df_features             = df_features.merge(df_air_hpg_features3, on =['visit_date'], how='left') \n",
    "    \n",
    "    df_features             = df_features.merge(df_storeid_holiday_visitors_fea, on =['air_store_id_holiday'], how='left')  \n",
    "    df_features             = df_features.merge(df_storeid_dow_holiday_visitorsdiff_fea, on =['air_store_id_weekday_holiday'], how='left')  \n",
    "    \n",
    "    df_features             = df_features.merge(df_genre_visitors_fea, on =['air_genre_name'], how='left')   \n",
    "    df_features             = df_features.merge(df_genre_dow_visitors_fea, on =['air_genre_name_weekday'], how='left')  \n",
    "    df_features             = df_features.merge(df_genre_dow_holiday_visitors_fea, on =['air_genre_name_weekday_holiday'], how='left')\n",
    "    \n",
    "    del df_features['air_genre_name'] \n",
    "    return df_features"
   ]
  },
  {
   "cell_type": "markdown",
   "metadata": {},
   "source": [
    "## 模型验证\n",
    "### 模型验证的框架"
   ]
  },
  {
   "cell_type": "code",
   "execution_count": 39,
   "metadata": {
    "ExecuteTime": {
     "end_time": "2020-07-04T10:22:22.704622Z",
     "start_time": "2020-07-04T10:22:22.693651Z"
    }
   },
   "outputs": [],
   "source": [
    "def lgb_model_test_weight_timebased(df_tr, df_val, features, ws = [1.01], test_df = None): \n",
    "    params = {'num_leaves': 256,\n",
    "          'min_child_samples': 79,\n",
    "          'objective': 'rmse',\n",
    "          'max_depth': 13,\n",
    "          'learning_rate': 0.03,\n",
    "          \"boosting_type\": \"gbdt\",\n",
    "          \"subsample_freq\": 3,\n",
    "          \"subsample\": 0.9,\n",
    "          \"bagging_seed\": 11,\n",
    "          \"metric\": 'rmse',\n",
    "          \"verbosity\": -1,\n",
    "          'reg_alpha': 0.3,\n",
    "          'reg_lambda': 0.3,\n",
    "          'colsample_bytree': 0.9, \n",
    "         } \n",
    "\n",
    "    MAX_ROUNDS = 700\n",
    "    val_pred = []\n",
    "    test_pred = []\n",
    "    cate_vars = []\n",
    "    feature_importance = None\n",
    "    models = []  \n",
    "     \n",
    "    train_df,train_label = df_tr[features].copy() ,df_tr['visitors'].values\n",
    "    val_df,val_label     = df_val[features].copy(),df_val['visitors'].values\n",
    "    \n",
    "    for i,w in enumerate(ws):\n",
    "    \n",
    "        train_weight = []\n",
    "        tmp = df_tr['day_to_now'].values\n",
    "        for d in tmp:\n",
    "            if d > 365:\n",
    "                train_weight.append(1) \n",
    "            else:\n",
    "                train_weight.append(w ** ((365 - d) // (60) )) \n",
    "        \n",
    "        dtrain = lgb.Dataset(train_df, label = train_label, weight=train_weight)\n",
    "        dval   = lgb.Dataset(val_df,   label = val_label, reference=dtrain)  \n",
    "        \n",
    "        bst = lgb.train(params, dtrain, num_boost_round=MAX_ROUNDS,valid_sets=[dtrain,dval],  early_stopping_rounds=1500, verbose_eval=100)\n",
    "        models.append(bst)\n",
    "        f_importance = pd.DataFrame()\n",
    "        f_importance['fea'] = features\n",
    "        f_importance['imp'] = bst.feature_importance(\"gain\") \n",
    "        f_importance['fold'] = i\n",
    "        if feature_importance is None:\n",
    "            feature_importance = f_importance\n",
    "        else:\n",
    "            feature_importance = pd.concat([feature_importance, f_importance],axis=0,ignore_index=True)\n",
    "  \n",
    "        if test_df is not None:\n",
    "            test_pred.append(bst.predict(\n",
    "                test_df[features], num_iteration=bst.best_iteration or MAX_ROUNDS))\n",
    "    if test_df is None:\n",
    "        return models, feature_importance\n",
    "    else:\n",
    "        return models, feature_importance, test_pred"
   ]
  },
  {
   "cell_type": "markdown",
   "metadata": {},
   "source": [
    "### 模型验证\n",
    "#### 加入store date相关的reserve特征"
   ]
  },
  {
   "cell_type": "code",
   "execution_count": 40,
   "metadata": {
    "ExecuteTime": {
     "end_time": "2020-07-04T10:44:29.692000Z",
     "start_time": "2020-07-04T10:22:22.705620Z"
    }
   },
   "outputs": [
    {
     "name": "stderr",
     "output_type": "stream",
     "text": [
      "\r",
      "  0%|                                                                                           | 0/58 [00:00<?, ?it/s]"
     ]
    },
    {
     "name": "stdout",
     "output_type": "stream",
     "text": [
      "label date,  2017-03-12 00:00:00 2017-04-20 00:00:00\n",
      "For area sts features, we spend 0.2582740783691406 seconds.\n",
      "For area name sts features, we spend 0.18857264518737793 seconds.\n",
      "For area name sts features, we spend 0.20708370208740234 seconds.\n",
      "For store id reserve visitors features, we spend 0.05999159812927246 seconds.\n",
      "For store id reserve visitors features, we spend 0.0624852180480957 seconds.\n",
      "For store id reserve visitors features, we spend 0.04686403274536133 seconds.\n",
      "For store id sts features, we spend 0.7725632190704346 seconds.\n",
      "For store id diff sts features, we spend 3.5957977771759033 seconds.\n",
      "For store id diff sts features, we spend 3.166171073913574 seconds.\n",
      "For store id exp features, we spend 15.011636018753052 seconds.\n",
      "For store id exp features, we spend 11.119691371917725 seconds.\n"
     ]
    },
    {
     "name": "stderr",
     "output_type": "stream",
     "text": [
      "\r",
      "  2%|█▍                                                                                 | 1/58 [00:39<37:33, 39.54s/it]"
     ]
    },
    {
     "name": "stdout",
     "output_type": "stream",
     "text": [
      "label date,  2017-03-05 00:00:00 2017-04-13 00:00:00\n",
      "For area sts features, we spend 0.23116660118103027 seconds.\n",
      "For area name sts features, we spend 0.18745684623718262 seconds.\n",
      "For area name sts features, we spend 0.20712637901306152 seconds.\n",
      "For store id reserve visitors features, we spend 0.031203508377075195 seconds.\n",
      "For store id reserve visitors features, we spend 0.07810664176940918 seconds.\n",
      "For store id reserve visitors features, we spend 0.04686450958251953 seconds.\n",
      "For store id sts features, we spend 0.755969762802124 seconds.\n",
      "For store id diff sts features, we spend 3.4703452587127686 seconds.\n",
      "For store id diff sts features, we spend 2.9556987285614014 seconds.\n",
      "For store id exp features, we spend 14.575124263763428 seconds.\n",
      "For store id exp features, we spend 10.97783637046814 seconds.\n"
     ]
    },
    {
     "name": "stderr",
     "output_type": "stream",
     "text": [
      "\r",
      "  3%|██▊                                                                                | 2/58 [01:18<36:39, 39.27s/it]"
     ]
    },
    {
     "name": "stdout",
     "output_type": "stream",
     "text": [
      "label date,  2017-02-26 00:00:00 2017-04-06 00:00:00\n",
      "For area sts features, we spend 0.23119020462036133 seconds.\n",
      "For area name sts features, we spend 0.19373703002929688 seconds.\n",
      "For area name sts features, we spend 0.19785308837890625 seconds.\n",
      "For store id reserve visitors features, we spend 0.04535341262817383 seconds.\n",
      "For store id reserve visitors features, we spend 0.05101799964904785 seconds.\n",
      "For store id reserve visitors features, we spend 0.04686427116394043 seconds.\n",
      "For store id sts features, we spend 0.7433905601501465 seconds.\n",
      "For store id diff sts features, we spend 3.3935506343841553 seconds.\n",
      "For store id diff sts features, we spend 2.868849992752075 seconds.\n",
      "For store id exp features, we spend 13.929666519165039 seconds.\n",
      "For store id exp features, we spend 10.335808753967285 seconds.\n"
     ]
    },
    {
     "name": "stderr",
     "output_type": "stream",
     "text": [
      "\r",
      "  5%|████▎                                                                              | 3/58 [01:55<35:26, 38.66s/it]"
     ]
    },
    {
     "name": "stdout",
     "output_type": "stream",
     "text": [
      "label date,  2017-02-19 00:00:00 2017-03-30 00:00:00\n",
      "For area sts features, we spend 0.23220252990722656 seconds.\n",
      "For area name sts features, we spend 0.18746113777160645 seconds.\n",
      "For area name sts features, we spend 0.19054341316223145 seconds.\n",
      "For store id reserve visitors features, we spend 0.041097164154052734 seconds.\n",
      "For store id reserve visitors features, we spend 0.0664973258972168 seconds.\n",
      "For store id reserve visitors features, we spend 0.04691672325134277 seconds.\n",
      "For store id sts features, we spend 0.7293984889984131 seconds.\n",
      "For store id diff sts features, we spend 3.305556535720825 seconds.\n",
      "For store id diff sts features, we spend 2.8442249298095703 seconds.\n",
      "For store id exp features, we spend 13.24025011062622 seconds.\n",
      "For store id exp features, we spend 10.275675535202026 seconds.\n"
     ]
    },
    {
     "name": "stderr",
     "output_type": "stream",
     "text": [
      "\r",
      "  7%|█████▋                                                                             | 4/58 [02:31<34:10, 37.98s/it]"
     ]
    },
    {
     "name": "stdout",
     "output_type": "stream",
     "text": [
      "label date,  2017-02-12 00:00:00 2017-03-23 00:00:00\n",
      "For area sts features, we spend 0.2236788272857666 seconds.\n",
      "For area name sts features, we spend 0.17183351516723633 seconds.\n",
      "For area name sts features, we spend 0.20708179473876953 seconds.\n",
      "For store id reserve visitors features, we spend 0.03123784065246582 seconds.\n",
      "For store id reserve visitors features, we spend 0.0624845027923584 seconds.\n",
      "For store id reserve visitors features, we spend 0.04686117172241211 seconds.\n",
      "For store id sts features, we spend 0.7484927177429199 seconds.\n",
      "For store id diff sts features, we spend 3.2429440021514893 seconds.\n",
      "For store id diff sts features, we spend 2.799285650253296 seconds.\n",
      "For store id exp features, we spend 13.021771430969238 seconds.\n",
      "For store id exp features, we spend 10.77621054649353 seconds.\n"
     ]
    },
    {
     "name": "stderr",
     "output_type": "stream",
     "text": [
      "\r",
      "  9%|███████▏                                                                           | 5/58 [03:08<33:13, 37.62s/it]"
     ]
    },
    {
     "name": "stdout",
     "output_type": "stream",
     "text": [
      "label date,  2017-02-05 00:00:00 2017-03-16 00:00:00\n",
      "For area sts features, we spend 0.23466897010803223 seconds.\n",
      "For area name sts features, we spend 0.1874556541442871 seconds.\n",
      "For area name sts features, we spend 0.18918490409851074 seconds.\n",
      "For store id reserve visitors features, we spend 0.031241178512573242 seconds.\n",
      "For store id reserve visitors features, we spend 0.07810783386230469 seconds.\n",
      "For store id reserve visitors features, we spend 0.031244516372680664 seconds.\n",
      "For store id sts features, we spend 0.7520308494567871 seconds.\n",
      "For store id diff sts features, we spend 3.220893621444702 seconds.\n",
      "For store id diff sts features, we spend 2.7289373874664307 seconds.\n",
      "For store id exp features, we spend 12.712761163711548 seconds.\n",
      "For store id exp features, we spend 9.612687826156616 seconds.\n"
     ]
    },
    {
     "name": "stderr",
     "output_type": "stream",
     "text": [
      "\r",
      " 10%|████████▌                                                                          | 6/58 [03:43<32:00, 36.93s/it]"
     ]
    },
    {
     "name": "stdout",
     "output_type": "stream",
     "text": [
      "label date,  2017-01-29 00:00:00 2017-03-09 00:00:00\n",
      "For area sts features, we spend 0.21207094192504883 seconds.\n",
      "For area name sts features, we spend 0.19223356246948242 seconds.\n",
      "For area name sts features, we spend 0.18355751037597656 seconds.\n",
      "For store id reserve visitors features, we spend 0.03548383712768555 seconds.\n",
      "For store id reserve visitors features, we spend 0.05998706817626953 seconds.\n",
      "For store id reserve visitors features, we spend 0.04686403274536133 seconds.\n",
      "For store id sts features, we spend 0.7322008609771729 seconds.\n",
      "For store id diff sts features, we spend 3.2463109493255615 seconds.\n",
      "For store id diff sts features, we spend 2.719106435775757 seconds.\n",
      "For store id exp features, we spend 12.483995199203491 seconds.\n",
      "For store id exp features, we spend 9.28506064414978 seconds.\n"
     ]
    },
    {
     "name": "stderr",
     "output_type": "stream",
     "text": [
      "\r",
      " 12%|██████████                                                                         | 7/58 [04:18<30:50, 36.29s/it]"
     ]
    },
    {
     "name": "stdout",
     "output_type": "stream",
     "text": [
      "label date,  2017-01-22 00:00:00 2017-03-02 00:00:00\n",
      "For area sts features, we spend 0.20604205131530762 seconds.\n",
      "For area name sts features, we spend 0.17183470726013184 seconds.\n",
      "For area name sts features, we spend 0.19083595275878906 seconds.\n",
      "For store id reserve visitors features, we spend 0.031238079071044922 seconds.\n",
      "For store id reserve visitors features, we spend 0.07810616493225098 seconds.\n",
      "For store id reserve visitors features, we spend 0.04686474800109863 seconds.\n",
      "For store id sts features, we spend 0.720550537109375 seconds.\n",
      "For store id diff sts features, we spend 3.336191177368164 seconds.\n",
      "For store id diff sts features, we spend 2.752758026123047 seconds.\n",
      "For store id exp features, we spend 12.272967338562012 seconds.\n",
      "For store id exp features, we spend 9.362209796905518 seconds.\n"
     ]
    },
    {
     "name": "stderr",
     "output_type": "stream",
     "text": [
      "\r",
      " 14%|███████████▍                                                                       | 8/58 [04:53<29:52, 35.85s/it]"
     ]
    },
    {
     "name": "stdout",
     "output_type": "stream",
     "text": [
      "label date,  2017-01-15 00:00:00 2017-02-23 00:00:00\n",
      "For area sts features, we spend 0.2299201488494873 seconds.\n",
      "For area name sts features, we spend 0.17181968688964844 seconds.\n",
      "For area name sts features, we spend 0.17590713500976562 seconds.\n",
      "For store id reserve visitors features, we spend 0.031235456466674805 seconds.\n",
      "For store id reserve visitors features, we spend 0.06250190734863281 seconds.\n",
      "For store id reserve visitors features, we spend 0.04686260223388672 seconds.\n",
      "For store id sts features, we spend 0.7281167507171631 seconds.\n",
      "For store id diff sts features, we spend 3.0453805923461914 seconds.\n",
      "For store id diff sts features, we spend 2.5820746421813965 seconds.\n",
      "For store id exp features, we spend 11.821175336837769 seconds.\n",
      "For store id exp features, we spend 8.881762266159058 seconds.\n"
     ]
    },
    {
     "name": "stderr",
     "output_type": "stream",
     "text": [
      "\r",
      " 16%|████████████▉                                                                      | 9/58 [05:27<28:44, 35.19s/it]"
     ]
    },
    {
     "name": "stdout",
     "output_type": "stream",
     "text": [
      "label date,  2017-01-08 00:00:00 2017-02-16 00:00:00\n",
      "For area sts features, we spend 0.2351970672607422 seconds.\n",
      "For area name sts features, we spend 0.17183351516723633 seconds.\n",
      "For area name sts features, we spend 0.18924212455749512 seconds.\n",
      "For store id reserve visitors features, we spend 0.031258344650268555 seconds.\n",
      "For store id reserve visitors features, we spend 0.0781106948852539 seconds.\n",
      "For store id reserve visitors features, we spend 0.046860456466674805 seconds.\n",
      "For store id sts features, we spend 0.708881139755249 seconds.\n",
      "For store id diff sts features, we spend 3.0063393115997314 seconds.\n",
      "For store id diff sts features, we spend 2.5246176719665527 seconds.\n",
      "For store id exp features, we spend 11.588710308074951 seconds.\n",
      "For store id exp features, we spend 8.66887879371643 seconds.\n"
     ]
    },
    {
     "name": "stderr",
     "output_type": "stream",
     "text": [
      "\r",
      " 17%|██████████████▏                                                                   | 10/58 [06:00<27:39, 34.57s/it]"
     ]
    },
    {
     "name": "stdout",
     "output_type": "stream",
     "text": [
      "label date,  2017-01-01 00:00:00 2017-02-09 00:00:00\n",
      "For area sts features, we spend 0.20916390419006348 seconds.\n",
      "For area name sts features, we spend 0.17183494567871094 seconds.\n",
      "For area name sts features, we spend 0.175856351852417 seconds.\n",
      "For store id reserve visitors features, we spend 0.03123021125793457 seconds.\n",
      "For store id reserve visitors features, we spend 0.05517911911010742 seconds.\n",
      "For store id reserve visitors features, we spend 0.0468597412109375 seconds.\n",
      "For store id sts features, we spend 0.7190403938293457 seconds.\n",
      "For store id diff sts features, we spend 3.0170488357543945 seconds.\n",
      "For store id diff sts features, we spend 2.5540311336517334 seconds.\n",
      "For store id exp features, we spend 11.207530498504639 seconds.\n",
      "For store id exp features, we spend 8.440579414367676 seconds.\n"
     ]
    },
    {
     "name": "stderr",
     "output_type": "stream",
     "text": [
      "\r",
      " 19%|███████████████▌                                                                  | 11/58 [06:32<26:36, 33.97s/it]"
     ]
    },
    {
     "name": "stdout",
     "output_type": "stream",
     "text": [
      "label date,  2016-12-25 00:00:00 2017-02-02 00:00:00\n",
      "For area sts features, we spend 0.2111349105834961 seconds.\n",
      "For area name sts features, we spend 0.17183637619018555 seconds.\n",
      "For area name sts features, we spend 0.1736612319946289 seconds.\n",
      "For store id reserve visitors features, we spend 0.04686141014099121 seconds.\n",
      "For store id reserve visitors features, we spend 0.0781087875366211 seconds.\n",
      "For store id reserve visitors features, we spend 0.04686403274536133 seconds.\n",
      "For store id sts features, we spend 0.7242269515991211 seconds.\n",
      "For store id diff sts features, we spend 2.9665896892547607 seconds.\n",
      "For store id diff sts features, we spend 2.562152624130249 seconds.\n",
      "For store id exp features, we spend 10.83781099319458 seconds.\n",
      "For store id exp features, we spend 8.263262033462524 seconds.\n"
     ]
    },
    {
     "name": "stderr",
     "output_type": "stream",
     "text": [
      "\r",
      " 21%|████████████████▉                                                                 | 12/58 [07:04<25:35, 33.39s/it]"
     ]
    },
    {
     "name": "stdout",
     "output_type": "stream",
     "text": [
      "label date,  2016-12-18 00:00:00 2017-01-26 00:00:00\n",
      "For area sts features, we spend 0.19866538047790527 seconds.\n",
      "For area name sts features, we spend 0.15621280670166016 seconds.\n",
      "For area name sts features, we spend 0.17587828636169434 seconds.\n",
      "For store id reserve visitors features, we spend 0.06248354911804199 seconds.\n",
      "For store id reserve visitors features, we spend 0.09372663497924805 seconds.\n",
      "For store id reserve visitors features, we spend 0.06716609001159668 seconds.\n",
      "For store id sts features, we spend 0.9566011428833008 seconds.\n",
      "For store id diff sts features, we spend 3.3138723373413086 seconds.\n",
      "For store id diff sts features, we spend 2.482438087463379 seconds.\n",
      "For store id exp features, we spend 10.637432098388672 seconds.\n",
      "For store id exp features, we spend 7.956685781478882 seconds.\n"
     ]
    },
    {
     "name": "stderr",
     "output_type": "stream",
     "text": [
      "\r",
      " 22%|██████████████████▍                                                               | 13/58 [07:37<24:55, 33.23s/it]"
     ]
    },
    {
     "name": "stdout",
     "output_type": "stream",
     "text": [
      "label date,  2016-12-11 00:00:00 2017-01-19 00:00:00\n",
      "For area sts features, we spend 0.23728084564208984 seconds.\n",
      "For area name sts features, we spend 0.1885545253753662 seconds.\n",
      "For area name sts features, we spend 0.17592287063598633 seconds.\n",
      "For store id reserve visitors features, we spend 0.05832695960998535 seconds.\n",
      "For store id reserve visitors features, we spend 0.10938215255737305 seconds.\n",
      "For store id reserve visitors features, we spend 0.07810544967651367 seconds.\n",
      "For store id sts features, we spend 0.7513473033905029 seconds.\n",
      "For store id diff sts features, we spend 3.253293991088867 seconds.\n",
      "For store id diff sts features, we spend 2.5178816318511963 seconds.\n",
      "For store id exp features, we spend 10.540727376937866 seconds.\n",
      "For store id exp features, we spend 8.246434211730957 seconds.\n"
     ]
    },
    {
     "name": "stderr",
     "output_type": "stream",
     "text": [
      "\r",
      " 24%|███████████████████▊                                                              | 14/58 [08:10<24:13, 33.04s/it]"
     ]
    },
    {
     "name": "stdout",
     "output_type": "stream",
     "text": [
      "label date,  2016-12-04 00:00:00 2017-01-12 00:00:00\n",
      "For area sts features, we spend 0.20528149604797363 seconds.\n",
      "For area name sts features, we spend 0.20078182220458984 seconds.\n",
      "For area name sts features, we spend 0.15626287460327148 seconds.\n",
      "For store id reserve visitors features, we spend 0.04300284385681152 seconds.\n",
      "For store id reserve visitors features, we spend 0.09545111656188965 seconds.\n",
      "For store id reserve visitors features, we spend 0.06248593330383301 seconds.\n",
      "For store id sts features, we spend 0.7039752006530762 seconds.\n",
      "For store id diff sts features, we spend 2.8661932945251465 seconds.\n",
      "For store id diff sts features, we spend 2.3654654026031494 seconds.\n",
      "For store id exp features, we spend 10.173551321029663 seconds.\n",
      "For store id exp features, we spend 7.517951011657715 seconds.\n"
     ]
    },
    {
     "name": "stderr",
     "output_type": "stream",
     "text": [
      "\r",
      " 26%|█████████████████████▏                                                            | 15/58 [08:40<23:09, 32.31s/it]"
     ]
    },
    {
     "name": "stdout",
     "output_type": "stream",
     "text": [
      "label date,  2016-11-27 00:00:00 2017-01-05 00:00:00\n",
      "For area sts features, we spend 0.18697381019592285 seconds.\n",
      "For area name sts features, we spend 0.15621542930603027 seconds.\n",
      "For area name sts features, we spend 0.1603076457977295 seconds.\n",
      "For store id reserve visitors features, we spend 0.031235694885253906 seconds.\n",
      "For store id reserve visitors features, we spend 0.07810425758361816 seconds.\n",
      "For store id reserve visitors features, we spend 0.0624847412109375 seconds.\n",
      "For store id sts features, we spend 0.6905455589294434 seconds.\n",
      "For store id diff sts features, we spend 2.8270256519317627 seconds.\n",
      "For store id diff sts features, we spend 2.3392317295074463 seconds.\n",
      "For store id exp features, we spend 9.761409282684326 seconds.\n",
      "For store id exp features, we spend 7.637017011642456 seconds.\n"
     ]
    },
    {
     "name": "stderr",
     "output_type": "stream",
     "text": [
      "\r",
      " 28%|██████████████████████▌                                                           | 16/58 [09:11<22:13, 31.74s/it]"
     ]
    },
    {
     "name": "stdout",
     "output_type": "stream",
     "text": [
      "label date,  2016-11-20 00:00:00 2016-12-29 00:00:00\n",
      "For area sts features, we spend 0.216048002243042 seconds.\n",
      "For area name sts features, we spend 0.18856525421142578 seconds.\n",
      "For area name sts features, we spend 0.17944574356079102 seconds.\n",
      "For store id reserve visitors features, we spend 0.04414081573486328 seconds.\n",
      "For store id reserve visitors features, we spend 0.08095169067382812 seconds.\n",
      "For store id reserve visitors features, we spend 0.042505741119384766 seconds.\n",
      "For store id sts features, we spend 0.8133823871612549 seconds.\n",
      "For store id diff sts features, we spend 3.0528652667999268 seconds.\n",
      "For store id diff sts features, we spend 2.6414666175842285 seconds.\n",
      "For store id exp features, we spend 10.347639083862305 seconds.\n",
      "For store id exp features, we spend 7.12154221534729 seconds.\n"
     ]
    },
    {
     "name": "stderr",
     "output_type": "stream",
     "text": [
      "\r",
      " 29%|████████████████████████                                                          | 17/58 [09:42<21:36, 31.62s/it]"
     ]
    },
    {
     "name": "stdout",
     "output_type": "stream",
     "text": [
      "label date,  2016-11-13 00:00:00 2016-12-22 00:00:00\n",
      "For area sts features, we spend 0.18932056427001953 seconds.\n",
      "For area name sts features, we spend 0.15619540214538574 seconds.\n",
      "For area name sts features, we spend 0.16021323204040527 seconds.\n",
      "For store id reserve visitors features, we spend 0.031226634979248047 seconds.\n",
      "For store id reserve visitors features, we spend 0.07810330390930176 seconds.\n",
      "For store id reserve visitors features, we spend 0.046866655349731445 seconds.\n",
      "For store id sts features, we spend 0.6931679248809814 seconds.\n",
      "For store id diff sts features, we spend 2.7649147510528564 seconds.\n",
      "For store id diff sts features, we spend 2.2626755237579346 seconds.\n",
      "For store id exp features, we spend 9.080404043197632 seconds.\n",
      "For store id exp features, we spend 6.806935548782349 seconds.\n"
     ]
    },
    {
     "name": "stderr",
     "output_type": "stream",
     "text": [
      "\r",
      " 31%|█████████████████████████▍                                                        | 18/58 [10:11<20:31, 30.80s/it]"
     ]
    },
    {
     "name": "stdout",
     "output_type": "stream",
     "text": [
      "label date,  2016-11-06 00:00:00 2016-12-15 00:00:00\n",
      "For area sts features, we spend 0.19140315055847168 seconds.\n",
      "For area name sts features, we spend 0.15621614456176758 seconds.\n",
      "For area name sts features, we spend 0.18167328834533691 seconds.\n",
      "For store id reserve visitors features, we spend 0.031236648559570312 seconds.\n",
      "For store id reserve visitors features, we spend 0.06248664855957031 seconds.\n",
      "For store id reserve visitors features, we spend 0.04686164855957031 seconds.\n",
      "For store id sts features, we spend 0.6953401565551758 seconds.\n",
      "For store id diff sts features, we spend 2.666844129562378 seconds.\n",
      "For store id diff sts features, we spend 2.201104164123535 seconds.\n",
      "For store id exp features, we spend 8.781889200210571 seconds.\n",
      "For store id exp features, we spend 6.59485650062561 seconds.\n"
     ]
    },
    {
     "name": "stderr",
     "output_type": "stream",
     "text": [
      "\r",
      " 33%|██████████████████████████▊                                                       | 19/58 [10:39<19:32, 30.06s/it]"
     ]
    },
    {
     "name": "stdout",
     "output_type": "stream",
     "text": [
      "label date,  2016-10-30 00:00:00 2016-12-08 00:00:00\n",
      "For area sts features, we spend 0.18404531478881836 seconds.\n",
      "For area name sts features, we spend 0.1484546661376953 seconds.\n",
      "For area name sts features, we spend 0.15926432609558105 seconds.\n",
      "For store id reserve visitors features, we spend 0.031236648559570312 seconds.\n",
      "For store id reserve visitors features, we spend 0.04686427116394043 seconds.\n",
      "For store id reserve visitors features, we spend 0.04686474800109863 seconds.\n",
      "For store id sts features, we spend 0.6891295909881592 seconds.\n",
      "For store id diff sts features, we spend 2.634277105331421 seconds.\n",
      "For store id diff sts features, we spend 2.175335168838501 seconds.\n",
      "For store id exp features, we spend 8.616106986999512 seconds.\n",
      "For store id exp features, we spend 6.588150501251221 seconds.\n"
     ]
    },
    {
     "name": "stderr",
     "output_type": "stream",
     "text": [
      "\r",
      " 34%|████████████████████████████▎                                                     | 20/58 [11:08<18:40, 29.48s/it]"
     ]
    },
    {
     "name": "stdout",
     "output_type": "stream",
     "text": [
      "label date,  2016-10-23 00:00:00 2016-12-01 00:00:00\n",
      "For area sts features, we spend 0.1840813159942627 seconds.\n",
      "For area name sts features, we spend 0.14059019088745117 seconds.\n",
      "For area name sts features, we spend 0.14903998374938965 seconds.\n",
      "For store id reserve visitors features, we spend 0.031238317489624023 seconds.\n",
      "For store id reserve visitors features, we spend 0.046866416931152344 seconds.\n",
      "For store id reserve visitors features, we spend 0.0468592643737793 seconds.\n",
      "For store id sts features, we spend 0.6771237850189209 seconds.\n",
      "For store id diff sts features, we spend 2.627765417098999 seconds.\n",
      "For store id diff sts features, we spend 2.0870091915130615 seconds.\n",
      "For store id exp features, we spend 8.089628219604492 seconds.\n",
      "For store id exp features, we spend 6.173551797866821 seconds.\n"
     ]
    },
    {
     "name": "stderr",
     "output_type": "stream",
     "text": [
      "\r",
      " 36%|█████████████████████████████▋                                                    | 21/58 [11:35<17:44, 28.78s/it]"
     ]
    },
    {
     "name": "stdout",
     "output_type": "stream",
     "text": [
      "label date,  2016-10-16 00:00:00 2016-11-24 00:00:00\n",
      "For area sts features, we spend 0.17975950241088867 seconds.\n",
      "For area name sts features, we spend 0.15744566917419434 seconds.\n",
      "For area name sts features, we spend 0.1435086727142334 seconds.\n",
      "For store id reserve visitors features, we spend 0.0156404972076416 seconds.\n",
      "For store id reserve visitors features, we spend 0.04686236381530762 seconds.\n",
      "For store id reserve visitors features, we spend 0.031241893768310547 seconds.\n",
      "For store id sts features, we spend 0.6892502307891846 seconds.\n",
      "For store id diff sts features, we spend 2.5201027393341064 seconds.\n",
      "For store id diff sts features, we spend 2.0580523014068604 seconds.\n",
      "For store id exp features, we spend 7.951249837875366 seconds.\n",
      "For store id exp features, we spend 5.89841890335083 seconds.\n"
     ]
    },
    {
     "name": "stderr",
     "output_type": "stream",
     "text": [
      "\r",
      " 38%|███████████████████████████████                                                   | 22/58 [12:01<16:52, 28.13s/it]"
     ]
    },
    {
     "name": "stdout",
     "output_type": "stream",
     "text": [
      "label date,  2016-10-09 00:00:00 2016-11-17 00:00:00\n",
      "For area sts features, we spend 0.1635119915008545 seconds.\n",
      "For area name sts features, we spend 0.1405940055847168 seconds.\n",
      "For area name sts features, we spend 0.1670076847076416 seconds.\n",
      "For store id reserve visitors features, we spend 0.015615463256835938 seconds.\n",
      "For store id reserve visitors features, we spend 0.04686307907104492 seconds.\n",
      "For store id reserve visitors features, we spend 0.031243324279785156 seconds.\n",
      "For store id sts features, we spend 0.6804029941558838 seconds.\n",
      "For store id diff sts features, we spend 2.465721607208252 seconds.\n",
      "For store id diff sts features, we spend 2.040457248687744 seconds.\n",
      "For store id exp features, we spend 7.474729061126709 seconds.\n",
      "For store id exp features, we spend 5.712477684020996 seconds.\n"
     ]
    },
    {
     "name": "stderr",
     "output_type": "stream",
     "text": [
      "\r",
      " 40%|████████████████████████████████▌                                                 | 23/58 [12:27<16:01, 27.47s/it]"
     ]
    },
    {
     "name": "stdout",
     "output_type": "stream",
     "text": [
      "label date,  2016-10-02 00:00:00 2016-11-10 00:00:00\n",
      "For area sts features, we spend 0.1840834617614746 seconds.\n",
      "For area name sts features, we spend 0.12497234344482422 seconds.\n",
      "For area name sts features, we spend 0.14842820167541504 seconds.\n",
      "For store id reserve visitors features, we spend 0.01561737060546875 seconds.\n",
      "For store id reserve visitors features, we spend 0.03124523162841797 seconds.\n",
      "For store id reserve visitors features, we spend 0.031238079071044922 seconds.\n",
      "For store id sts features, we spend 0.6835343837738037 seconds.\n",
      "For store id diff sts features, we spend 2.416933298110962 seconds.\n",
      "For store id diff sts features, we spend 1.9863395690917969 seconds.\n",
      "For store id exp features, we spend 7.183441638946533 seconds.\n",
      "For store id exp features, we spend 5.398612976074219 seconds.\n"
     ]
    },
    {
     "name": "stderr",
     "output_type": "stream",
     "text": [
      "\r",
      " 41%|█████████████████████████████████▉                                                | 24/58 [12:53<15:11, 26.82s/it]"
     ]
    },
    {
     "name": "stdout",
     "output_type": "stream",
     "text": [
      "label date,  2016-09-25 00:00:00 2016-11-03 00:00:00\n",
      "For area sts features, we spend 0.16060566902160645 seconds.\n",
      "For area name sts features, we spend 0.12499690055847168 seconds.\n",
      "For area name sts features, we spend 0.14889073371887207 seconds.\n",
      "For store id reserve visitors features, we spend 0.015621423721313477 seconds.\n",
      "For store id reserve visitors features, we spend 0.046862125396728516 seconds.\n",
      "For store id reserve visitors features, we spend 0.031244277954101562 seconds.\n",
      "For store id sts features, we spend 0.6604077816009521 seconds.\n",
      "For store id diff sts features, we spend 2.393847942352295 seconds.\n",
      "For store id diff sts features, we spend 1.9215734004974365 seconds.\n",
      "For store id exp features, we spend 6.849251985549927 seconds.\n",
      "For store id exp features, we spend 5.182796239852905 seconds.\n"
     ]
    },
    {
     "name": "stderr",
     "output_type": "stream",
     "text": [
      "\r",
      " 43%|███████████████████████████████████▎                                              | 25/58 [13:17<14:24, 26.18s/it]"
     ]
    },
    {
     "name": "stdout",
     "output_type": "stream",
     "text": [
      "label date,  2016-09-18 00:00:00 2016-10-27 00:00:00\n",
      "For area sts features, we spend 0.15446019172668457 seconds.\n",
      "For area name sts features, we spend 0.1249704360961914 seconds.\n",
      "For area name sts features, we spend 0.1485302448272705 seconds.\n",
      "For store id reserve visitors features, we spend 0.015572309494018555 seconds.\n",
      "For store id reserve visitors features, we spend 0.03129386901855469 seconds.\n",
      "For store id reserve visitors features, we spend 0.015618562698364258 seconds.\n",
      "For store id sts features, we spend 0.68166184425354 seconds.\n",
      "For store id diff sts features, we spend 2.3442351818084717 seconds.\n",
      "For store id diff sts features, we spend 1.910536289215088 seconds.\n",
      "For store id exp features, we spend 6.903615474700928 seconds.\n",
      "For store id exp features, we spend 4.939593315124512 seconds.\n"
     ]
    },
    {
     "name": "stderr",
     "output_type": "stream",
     "text": [
      "\r",
      " 45%|████████████████████████████████████▊                                             | 26/58 [13:42<13:42, 25.70s/it]"
     ]
    },
    {
     "name": "stdout",
     "output_type": "stream",
     "text": [
      "label date,  2016-09-11 00:00:00 2016-10-20 00:00:00\n",
      "For area sts features, we spend 0.16022706031799316 seconds.\n",
      "For area name sts features, we spend 0.12497115135192871 seconds.\n",
      "For area name sts features, we spend 0.14968085289001465 seconds.\n",
      "For store id reserve visitors features, we spend 0.015616178512573242 seconds.\n",
      "For store id reserve visitors features, we spend 0.04686331748962402 seconds.\n",
      "For store id reserve visitors features, we spend 0.0156252384185791 seconds.\n",
      "For store id sts features, we spend 0.6817007064819336 seconds.\n",
      "For store id diff sts features, we spend 2.293424367904663 seconds.\n",
      "For store id diff sts features, we spend 1.8460566997528076 seconds.\n",
      "For store id exp features, we spend 6.259849786758423 seconds.\n",
      "For store id exp features, we spend 4.683260917663574 seconds.\n"
     ]
    },
    {
     "name": "stderr",
     "output_type": "stream",
     "text": [
      "\r",
      " 47%|██████████████████████████████████████▏                                           | 27/58 [14:05<12:57, 25.07s/it]"
     ]
    },
    {
     "name": "stdout",
     "output_type": "stream",
     "text": [
      "label date,  2016-09-04 00:00:00 2016-10-13 00:00:00\n",
      "For area sts features, we spend 0.15812921524047852 seconds.\n",
      "For area name sts features, we spend 0.1249704360961914 seconds.\n",
      "For area name sts features, we spend 0.14831066131591797 seconds.\n",
      "For store id reserve visitors features, we spend 0.015618085861206055 seconds.\n",
      "For store id reserve visitors features, we spend 0.046864986419677734 seconds.\n",
      "For store id reserve visitors features, we spend 0.015621662139892578 seconds.\n",
      "For store id sts features, we spend 0.6636674404144287 seconds.\n",
      "For store id diff sts features, we spend 2.2479677200317383 seconds.\n",
      "For store id diff sts features, we spend 1.8101396560668945 seconds.\n",
      "For store id exp features, we spend 5.976172924041748 seconds.\n",
      "For store id exp features, we spend 4.94703221321106 seconds.\n"
     ]
    },
    {
     "name": "stderr",
     "output_type": "stream",
     "text": [
      "\r",
      " 48%|███████████████████████████████████████▌                                          | 28/58 [14:29<12:21, 24.72s/it]"
     ]
    },
    {
     "name": "stdout",
     "output_type": "stream",
     "text": [
      "label date,  2016-08-28 00:00:00 2016-10-06 00:00:00\n",
      "For area sts features, we spend 0.15107202529907227 seconds.\n",
      "For area name sts features, we spend 0.12497258186340332 seconds.\n",
      "For area name sts features, we spend 0.12500405311584473 seconds.\n",
      "For store id reserve visitors features, we spend 0.01562047004699707 seconds.\n",
      "For store id reserve visitors features, we spend 0.03124070167541504 seconds.\n",
      "For store id reserve visitors features, we spend 0.03239917755126953 seconds.\n",
      "For store id sts features, we spend 0.682833194732666 seconds.\n",
      "For store id diff sts features, we spend 2.2259609699249268 seconds.\n",
      "For store id diff sts features, we spend 1.7439634799957275 seconds.\n",
      "For store id exp features, we spend 5.669862508773804 seconds.\n",
      "For store id exp features, we spend 4.267612457275391 seconds.\n"
     ]
    },
    {
     "name": "stderr",
     "output_type": "stream",
     "text": [
      "\r",
      " 50%|█████████████████████████████████████████                                         | 29/58 [14:52<11:37, 24.06s/it]"
     ]
    },
    {
     "name": "stdout",
     "output_type": "stream",
     "text": [
      "label date,  2016-08-21 00:00:00 2016-09-29 00:00:00\n",
      "For area sts features, we spend 0.15425896644592285 seconds.\n",
      "For area name sts features, we spend 0.12497329711914062 seconds.\n",
      "For area name sts features, we spend 0.13086700439453125 seconds.\n",
      "For store id reserve visitors features, we spend 0.015628337860107422 seconds.\n",
      "For store id reserve visitors features, we spend 0.04687023162841797 seconds.\n",
      "For store id reserve visitors features, we spend 0.03124380111694336 seconds.\n",
      "For store id sts features, we spend 0.6682929992675781 seconds.\n",
      "For store id diff sts features, we spend 2.3403077125549316 seconds.\n",
      "For store id diff sts features, we spend 1.8418259620666504 seconds.\n",
      "For store id exp features, we spend 5.841403484344482 seconds.\n",
      "For store id exp features, we spend 4.5882368087768555 seconds.\n"
     ]
    },
    {
     "name": "stderr",
     "output_type": "stream",
     "text": [
      "\r",
      " 52%|██████████████████████████████████████████▍                                       | 30/58 [15:16<11:11, 23.99s/it]"
     ]
    },
    {
     "name": "stdout",
     "output_type": "stream",
     "text": [
      "label date,  2016-08-14 00:00:00 2016-09-22 00:00:00\n",
      "For area sts features, we spend 0.14662766456604004 seconds.\n",
      "For area name sts features, we spend 0.12497091293334961 seconds.\n",
      "For area name sts features, we spend 0.13071990013122559 seconds.\n",
      "For store id reserve visitors features, we spend 0.015620231628417969 seconds.\n",
      "For store id reserve visitors features, we spend 0.03124403953552246 seconds.\n",
      "For store id reserve visitors features, we spend 0.015626192092895508 seconds.\n",
      "For store id sts features, we spend 0.6683940887451172 seconds.\n",
      "For store id diff sts features, we spend 2.1007847785949707 seconds.\n",
      "For store id diff sts features, we spend 1.6568496227264404 seconds.\n",
      "For store id exp features, we spend 5.03739857673645 seconds.\n",
      "For store id exp features, we spend 3.8296403884887695 seconds.\n"
     ]
    },
    {
     "name": "stderr",
     "output_type": "stream",
     "text": [
      "\r",
      " 53%|███████████████████████████████████████████▊                                      | 31/58 [15:37<10:25, 23.18s/it]"
     ]
    },
    {
     "name": "stdout",
     "output_type": "stream",
     "text": [
      "label date,  2016-08-07 00:00:00 2016-09-15 00:00:00\n",
      "For area sts features, we spend 0.1331005096435547 seconds.\n",
      "For area name sts features, we spend 0.10936212539672852 seconds.\n",
      "For area name sts features, we spend 0.12811636924743652 seconds.\n",
      "For store id reserve visitors features, we spend 0.015671730041503906 seconds.\n",
      "For store id reserve visitors features, we spend 0.04686260223388672 seconds.\n",
      "For store id reserve visitors features, we spend 0.01562356948852539 seconds.\n",
      "For store id sts features, we spend 0.6488869190216064 seconds.\n",
      "For store id diff sts features, we spend 2.045132637023926 seconds.\n",
      "For store id diff sts features, we spend 1.5915184020996094 seconds.\n",
      "For store id exp features, we spend 4.797818899154663 seconds.\n",
      "For store id exp features, we spend 3.599997043609619 seconds.\n"
     ]
    },
    {
     "name": "stderr",
     "output_type": "stream",
     "text": [
      "\r",
      " 55%|█████████████████████████████████████████████▏                                    | 32/58 [15:58<09:42, 22.41s/it]"
     ]
    },
    {
     "name": "stdout",
     "output_type": "stream",
     "text": [
      "label date,  2016-07-31 00:00:00 2016-09-08 00:00:00\n",
      "For area sts features, we spend 0.13626694679260254 seconds.\n",
      "For area name sts features, we spend 0.14058947563171387 seconds.\n",
      "For area name sts features, we spend 0.12916231155395508 seconds.\n",
      "For store id reserve visitors features, we spend 0.015657901763916016 seconds.\n",
      "For store id reserve visitors features, we spend 0.031239748001098633 seconds.\n",
      "For store id reserve visitors features, we spend 0.015622138977050781 seconds.\n",
      "For store id sts features, we spend 0.6439816951751709 seconds.\n",
      "For store id diff sts features, we spend 1.941887617111206 seconds.\n",
      "For store id diff sts features, we spend 1.528898000717163 seconds.\n",
      "For store id exp features, we spend 4.421159029006958 seconds.\n",
      "For store id exp features, we spend 3.5417428016662598 seconds.\n"
     ]
    },
    {
     "name": "stderr",
     "output_type": "stream",
     "text": [
      "\r",
      " 57%|██████████████████████████████████████████████▋                                   | 33/58 [16:18<09:02, 21.71s/it]"
     ]
    },
    {
     "name": "stdout",
     "output_type": "stream",
     "text": [
      "label date,  2016-07-24 00:00:00 2016-09-01 00:00:00\n",
      "For area sts features, we spend 0.12247180938720703 seconds.\n",
      "For area name sts features, we spend 0.10934782028198242 seconds.\n",
      "For area name sts features, we spend 0.12474441528320312 seconds.\n",
      "For store id reserve visitors features, we spend 0.003117084503173828 seconds.\n",
      "For store id reserve visitors features, we spend 0.04689788818359375 seconds.\n",
      "For store id reserve visitors features, we spend 0.03124547004699707 seconds.\n",
      "For store id sts features, we spend 0.6516969203948975 seconds.\n",
      "For store id diff sts features, we spend 1.8851268291473389 seconds.\n",
      "For store id diff sts features, we spend 1.431326150894165 seconds.\n",
      "For store id exp features, we spend 4.26657247543335 seconds.\n",
      "For store id exp features, we spend 3.2188198566436768 seconds.\n"
     ]
    },
    {
     "name": "stderr",
     "output_type": "stream",
     "text": [
      "\r",
      " 59%|████████████████████████████████████████████████                                  | 34/58 [16:37<08:24, 21.01s/it]"
     ]
    },
    {
     "name": "stdout",
     "output_type": "stream",
     "text": [
      "label date,  2016-07-17 00:00:00 2016-08-25 00:00:00\n",
      "For area sts features, we spend 0.13451218605041504 seconds.\n",
      "For area name sts features, we spend 0.09372830390930176 seconds.\n",
      "For area name sts features, we spend 0.12076067924499512 seconds.\n",
      "For store id reserve visitors features, we spend 0.007122516632080078 seconds.\n",
      "For store id reserve visitors features, we spend 0.05499744415283203 seconds.\n",
      "For store id reserve visitors features, we spend 0.031236886978149414 seconds.\n",
      "For store id sts features, we spend 0.6237037181854248 seconds.\n",
      "For store id diff sts features, we spend 1.8179004192352295 seconds.\n",
      "For store id diff sts features, we spend 1.344576120376587 seconds.\n",
      "For store id exp features, we spend 3.9754714965820312 seconds.\n",
      "For store id exp features, we spend 2.889962911605835 seconds.\n"
     ]
    },
    {
     "name": "stderr",
     "output_type": "stream",
     "text": [
      "\r",
      " 60%|█████████████████████████████████████████████████▍                                | 35/58 [16:56<07:46, 20.27s/it]"
     ]
    },
    {
     "name": "stdout",
     "output_type": "stream",
     "text": [
      "label date,  2016-07-10 00:00:00 2016-08-18 00:00:00\n",
      "For area sts features, we spend 0.139387845993042 seconds.\n",
      "For area name sts features, we spend 0.09372806549072266 seconds.\n",
      "For area name sts features, we spend 0.10820841789245605 seconds.\n",
      "For store id reserve visitors features, we spend 0.01982712745666504 seconds.\n",
      "For store id reserve visitors features, we spend 0.04681754112243652 seconds.\n",
      "For store id reserve visitors features, we spend 0.031243324279785156 seconds.\n",
      "For store id sts features, we spend 0.6289465427398682 seconds.\n",
      "For store id diff sts features, we spend 1.6804311275482178 seconds.\n",
      "For store id diff sts features, we spend 1.2634210586547852 seconds.\n",
      "For store id exp features, we spend 3.5601871013641357 seconds.\n",
      "For store id exp features, we spend 2.684648275375366 seconds.\n"
     ]
    },
    {
     "name": "stderr",
     "output_type": "stream",
     "text": [
      "\r",
      " 62%|██████████████████████████████████████████████████▉                               | 36/58 [17:13<07:08, 19.49s/it]"
     ]
    },
    {
     "name": "stdout",
     "output_type": "stream",
     "text": [
      "label date,  2016-07-03 00:00:00 2016-08-11 00:00:00\n",
      "For area sts features, we spend 0.11117219924926758 seconds.\n",
      "For area name sts features, we spend 0.07810306549072266 seconds.\n",
      "For area name sts features, we spend 0.09523391723632812 seconds.\n",
      "For store id reserve visitors features, we spend 0.020884037017822266 seconds.\n",
      "For store id reserve visitors features, we spend 0.044696807861328125 seconds.\n",
      "For store id reserve visitors features, we spend 0.015624046325683594 seconds.\n",
      "For store id sts features, we spend 0.611520528793335 seconds.\n",
      "For store id diff sts features, we spend 1.5566701889038086 seconds.\n",
      "For store id diff sts features, we spend 1.1105475425720215 seconds.\n",
      "For store id exp features, we spend 3.194423198699951 seconds.\n",
      "For store id exp features, we spend 2.438084602355957 seconds.\n"
     ]
    },
    {
     "name": "stderr",
     "output_type": "stream",
     "text": [
      "\r",
      " 64%|████████████████████████████████████████████████████▎                             | 37/58 [17:30<06:31, 18.62s/it]"
     ]
    },
    {
     "name": "stdout",
     "output_type": "stream",
     "text": [
      "label date,  2016-06-26 00:00:00 2016-08-04 00:00:00\n",
      "For area sts features, we spend 0.1182246208190918 seconds.\n",
      "For area name sts features, we spend 0.07814264297485352 seconds.\n",
      "For area name sts features, we spend 0.09457111358642578 seconds.\n",
      "For store id reserve visitors features, we spend 0.021857023239135742 seconds.\n",
      "For store id reserve visitors features, we spend 0.04469108581542969 seconds.\n",
      "For store id reserve visitors features, we spend 0.031244277954101562 seconds.\n",
      "For store id sts features, we spend 0.31264638900756836 seconds.\n",
      "For store id diff sts features, we spend 1.1271255016326904 seconds.\n",
      "For store id diff sts features, we spend 0.8741116523742676 seconds.\n",
      "For store id exp features, we spend 2.9939064979553223 seconds.\n",
      "For store id exp features, we spend 2.2963509559631348 seconds.\n"
     ]
    },
    {
     "name": "stderr",
     "output_type": "stream",
     "text": [
      "\r",
      " 66%|█████████████████████████████████████████████████████▋                            | 38/58 [17:45<05:52, 17.63s/it]"
     ]
    },
    {
     "name": "stdout",
     "output_type": "stream",
     "text": [
      "label date,  2016-06-19 00:00:00 2016-07-28 00:00:00\n",
      "For area sts features, we spend 0.11644506454467773 seconds.\n",
      "For area name sts features, we spend 0.09373116493225098 seconds.\n",
      "For area name sts features, we spend 0.09437322616577148 seconds.\n",
      "For store id reserve visitors features, we spend 0.029829978942871094 seconds.\n",
      "For store id reserve visitors features, we spend 0.036720991134643555 seconds.\n",
      "For store id reserve visitors features, we spend 0.03124403953552246 seconds.\n",
      "For store id sts features, we spend 0.32901501655578613 seconds.\n",
      "For store id diff sts features, we spend 1.1193251609802246 seconds.\n",
      "For store id diff sts features, we spend 0.8914346694946289 seconds.\n",
      "For store id exp features, we spend 2.8517203330993652 seconds.\n",
      "For store id exp features, we spend 2.2182302474975586 seconds.\n"
     ]
    },
    {
     "name": "stderr",
     "output_type": "stream",
     "text": [
      "\r",
      " 67%|███████████████████████████████████████████████████████▏                          | 39/58 [18:00<05:20, 16.88s/it]"
     ]
    },
    {
     "name": "stdout",
     "output_type": "stream",
     "text": [
      "label date,  2016-06-12 00:00:00 2016-07-21 00:00:00\n",
      "For area sts features, we spend 0.10137486457824707 seconds.\n",
      "For area name sts features, we spend 0.08018183708190918 seconds.\n",
      "For area name sts features, we spend 0.09527444839477539 seconds.\n",
      "For store id reserve visitors features, we spend 0.016868114471435547 seconds.\n",
      "For store id reserve visitors features, we spend 0.03400540351867676 seconds.\n",
      "For store id reserve visitors features, we spend 0.0312809944152832 seconds.\n",
      "For store id sts features, we spend 0.32581186294555664 seconds.\n",
      "For store id diff sts features, we spend 1.0888323783874512 seconds.\n",
      "For store id diff sts features, we spend 0.8431777954101562 seconds.\n",
      "For store id exp features, we spend 2.7809362411499023 seconds.\n",
      "For store id exp features, we spend 2.0932416915893555 seconds.\n"
     ]
    },
    {
     "name": "stderr",
     "output_type": "stream",
     "text": [
      "\r",
      " 69%|████████████████████████████████████████████████████████▌                         | 40/58 [18:15<04:52, 16.28s/it]"
     ]
    },
    {
     "name": "stdout",
     "output_type": "stream",
     "text": [
      "label date,  2016-06-05 00:00:00 2016-07-14 00:00:00\n",
      "For area sts features, we spend 0.11563897132873535 seconds.\n",
      "For area name sts features, we spend 0.07816052436828613 seconds.\n",
      "For area name sts features, we spend 0.09197497367858887 seconds.\n",
      "For store id reserve visitors features, we spend 0.028693437576293945 seconds.\n",
      "For store id reserve visitors features, we spend 0.05222725868225098 seconds.\n",
      "For store id reserve visitors features, we spend 0.02985548973083496 seconds.\n",
      "For store id sts features, we spend 0.40828633308410645 seconds.\n",
      "For store id diff sts features, we spend 1.5063211917877197 seconds.\n",
      "For store id diff sts features, we spend 1.0343122482299805 seconds.\n",
      "For store id exp features, we spend 2.690570116043091 seconds.\n",
      "For store id exp features, we spend 1.9995312690734863 seconds.\n"
     ]
    },
    {
     "name": "stderr",
     "output_type": "stream",
     "text": [
      "\r",
      " 71%|█████████████████████████████████████████████████████████▉                        | 41/58 [18:31<04:32, 16.04s/it]"
     ]
    },
    {
     "name": "stdout",
     "output_type": "stream",
     "text": [
      "label date,  2016-05-29 00:00:00 2016-07-07 00:00:00\n",
      "For area sts features, we spend 0.11283206939697266 seconds.\n",
      "For area name sts features, we spend 0.0736091136932373 seconds.\n",
      "For area name sts features, we spend 0.09376764297485352 seconds.\n",
      "For store id reserve visitors features, we spend 0.025149106979370117 seconds.\n",
      "For store id reserve visitors features, we spend 0.046819210052490234 seconds.\n",
      "For store id reserve visitors features, we spend 0.020689010620117188 seconds.\n",
      "For store id sts features, we spend 0.30959343910217285 seconds.\n",
      "For store id diff sts features, we spend 1.0684804916381836 seconds.\n",
      "For store id diff sts features, we spend 0.8057265281677246 seconds.\n",
      "For store id exp features, we spend 2.5423007011413574 seconds.\n",
      "For store id exp features, we spend 2.040113687515259 seconds.\n"
     ]
    },
    {
     "name": "stderr",
     "output_type": "stream",
     "text": [
      "\r",
      " 72%|███████████████████████████████████████████████████████████▍                      | 42/58 [18:45<04:09, 15.57s/it]"
     ]
    },
    {
     "name": "stdout",
     "output_type": "stream",
     "text": [
      "label date,  2016-05-22 00:00:00 2016-06-30 00:00:00\n",
      "For area sts features, we spend 0.11520838737487793 seconds.\n",
      "For area name sts features, we spend 0.0726175308227539 seconds.\n",
      "For area name sts features, we spend 0.0884556770324707 seconds.\n",
      "For store id reserve visitors features, we spend 0.03281974792480469 seconds.\n",
      "For store id reserve visitors features, we spend 0.049279212951660156 seconds.\n",
      "For store id reserve visitors features, we spend 0.03124523162841797 seconds.\n",
      "For store id sts features, we spend 0.3278169631958008 seconds.\n",
      "For store id diff sts features, we spend 1.0559461116790771 seconds.\n",
      "For store id diff sts features, we spend 0.7832789421081543 seconds.\n",
      "For store id exp features, we spend 2.445584297180176 seconds.\n",
      "For store id exp features, we spend 1.852510929107666 seconds.\n"
     ]
    },
    {
     "name": "stderr",
     "output_type": "stream",
     "text": [
      "\r",
      " 74%|████████████████████████████████████████████████████████████▊                     | 43/58 [18:59<03:47, 15.14s/it]"
     ]
    },
    {
     "name": "stdout",
     "output_type": "stream",
     "text": [
      "label date,  2016-05-15 00:00:00 2016-06-23 00:00:00\n",
      "For area sts features, we spend 0.11692261695861816 seconds.\n",
      "For area name sts features, we spend 0.07989168167114258 seconds.\n",
      "For area name sts features, we spend 0.08749747276306152 seconds.\n",
      "For store id reserve visitors features, we spend 0.031278371810913086 seconds.\n",
      "For store id reserve visitors features, we spend 0.04875802993774414 seconds.\n",
      "For store id reserve visitors features, we spend 0.017750024795532227 seconds.\n",
      "For store id sts features, we spend 0.32393980026245117 seconds.\n",
      "For store id diff sts features, we spend 1.0197601318359375 seconds.\n",
      "For store id diff sts features, we spend 0.7769849300384521 seconds.\n",
      "For store id exp features, we spend 2.326106309890747 seconds.\n",
      "For store id exp features, we spend 1.7195074558258057 seconds.\n"
     ]
    },
    {
     "name": "stderr",
     "output_type": "stream",
     "text": [
      "\r",
      " 76%|██████████████████████████████████████████████████████████████▏                   | 44/58 [19:13<03:27, 14.82s/it]"
     ]
    },
    {
     "name": "stdout",
     "output_type": "stream",
     "text": [
      "label date,  2016-05-08 00:00:00 2016-06-16 00:00:00\n",
      "For area sts features, we spend 0.1286306381225586 seconds.\n",
      "For area name sts features, we spend 0.07909440994262695 seconds.\n",
      "For area name sts features, we spend 0.08983659744262695 seconds.\n",
      "For store id reserve visitors features, we spend 0.0191650390625 seconds.\n",
      "For store id reserve visitors features, we spend 0.054968833923339844 seconds.\n",
      "For store id reserve visitors features, we spend 0.03596186637878418 seconds.\n",
      "For store id sts features, we spend 0.3319249153137207 seconds.\n",
      "For store id diff sts features, we spend 1.088568925857544 seconds.\n",
      "For store id diff sts features, we spend 0.8092710971832275 seconds.\n",
      "For store id exp features, we spend 2.2652342319488525 seconds.\n",
      "For store id exp features, we spend 1.6483550071716309 seconds.\n"
     ]
    },
    {
     "name": "stderr",
     "output_type": "stream",
     "text": [
      "\r",
      " 78%|███████████████████████████████████████████████████████████████▌                  | 45/58 [19:27<03:09, 14.57s/it]"
     ]
    },
    {
     "name": "stdout",
     "output_type": "stream",
     "text": [
      "label date,  2016-05-01 00:00:00 2016-06-09 00:00:00\n",
      "For area sts features, we spend 0.11582565307617188 seconds.\n",
      "For area name sts features, we spend 0.08215665817260742 seconds.\n",
      "For area name sts features, we spend 0.1184539794921875 seconds.\n",
      "For store id reserve visitors features, we spend 0.031241416931152344 seconds.\n",
      "For store id reserve visitors features, we spend 0.0486295223236084 seconds.\n",
      "For store id reserve visitors features, we spend 0.03124380111694336 seconds.\n",
      "For store id sts features, we spend 0.310107946395874 seconds.\n",
      "For store id diff sts features, we spend 0.978142261505127 seconds.\n",
      "For store id diff sts features, we spend 0.7527298927307129 seconds.\n",
      "For store id exp features, we spend 2.3455264568328857 seconds.\n",
      "For store id exp features, we spend 1.5464928150177002 seconds.\n"
     ]
    },
    {
     "name": "stderr",
     "output_type": "stream",
     "text": [
      "\r",
      " 79%|█████████████████████████████████████████████████████████████████                 | 46/58 [19:41<02:52, 14.34s/it]"
     ]
    },
    {
     "name": "stdout",
     "output_type": "stream",
     "text": [
      "label date,  2016-04-24 00:00:00 2016-06-02 00:00:00\n",
      "For area sts features, we spend 0.09577298164367676 seconds.\n",
      "For area name sts features, we spend 0.08357882499694824 seconds.\n",
      "For area name sts features, we spend 0.0781102180480957 seconds.\n",
      "For store id reserve visitors features, we spend 0.01686549186706543 seconds.\n",
      "For store id reserve visitors features, we spend 0.06600165367126465 seconds.\n",
      "For store id reserve visitors features, we spend 0.0328679084777832 seconds.\n",
      "For store id sts features, we spend 0.316162109375 seconds.\n",
      "For store id diff sts features, we spend 1.0376462936401367 seconds.\n",
      "For store id diff sts features, we spend 0.7382380962371826 seconds.\n",
      "For store id exp features, we spend 1.9447269439697266 seconds.\n",
      "For store id exp features, we spend 1.4695677757263184 seconds.\n"
     ]
    },
    {
     "name": "stderr",
     "output_type": "stream",
     "text": [
      "\r",
      " 81%|██████████████████████████████████████████████████████████████████▍               | 47/58 [19:54<02:34, 14.04s/it]"
     ]
    },
    {
     "name": "stdout",
     "output_type": "stream",
     "text": [
      "label date,  2016-04-17 00:00:00 2016-05-26 00:00:00\n",
      "For area sts features, we spend 0.10462450981140137 seconds.\n",
      "For area name sts features, we spend 0.08212685585021973 seconds.\n",
      "For area name sts features, we spend 0.08548760414123535 seconds.\n",
      "For store id reserve visitors features, we spend 0.021886587142944336 seconds.\n",
      "For store id reserve visitors features, we spend 0.0446932315826416 seconds.\n",
      "For store id reserve visitors features, we spend 0.031244516372680664 seconds.\n",
      "For store id sts features, we spend 0.2960681915283203 seconds.\n",
      "For store id diff sts features, we spend 0.9944002628326416 seconds.\n",
      "For store id diff sts features, we spend 0.7173962593078613 seconds.\n",
      "For store id exp features, we spend 1.8181145191192627 seconds.\n",
      "For store id exp features, we spend 1.3984816074371338 seconds.\n"
     ]
    },
    {
     "name": "stderr",
     "output_type": "stream",
     "text": [
      "\r",
      " 83%|███████████████████████████████████████████████████████████████████▊              | 48/58 [20:08<02:17, 13.75s/it]"
     ]
    },
    {
     "name": "stdout",
     "output_type": "stream",
     "text": [
      "label date,  2016-04-10 00:00:00 2016-05-19 00:00:00\n",
      "For area sts features, we spend 0.10937976837158203 seconds.\n",
      "For area name sts features, we spend 0.07985711097717285 seconds.\n",
      "For area name sts features, we spend 0.07810759544372559 seconds.\n",
      "For store id reserve visitors features, we spend 0.024272918701171875 seconds.\n",
      "For store id reserve visitors features, we spend 0.04863691329956055 seconds.\n",
      "For store id reserve visitors features, we spend 0.03124260902404785 seconds.\n",
      "For store id sts features, we spend 0.3103666305541992 seconds.\n",
      "For store id diff sts features, we spend 0.9464254379272461 seconds.\n",
      "For store id diff sts features, we spend 0.7458860874176025 seconds.\n",
      "For store id exp features, we spend 1.699549674987793 seconds.\n",
      "For store id exp features, we spend 1.3254172801971436 seconds.\n"
     ]
    },
    {
     "name": "stderr",
     "output_type": "stream",
     "text": [
      "\r",
      " 84%|█████████████████████████████████████████████████████████████████████▎            | 49/58 [20:20<02:01, 13.49s/it]"
     ]
    },
    {
     "name": "stdout",
     "output_type": "stream",
     "text": [
      "label date,  2016-04-03 00:00:00 2016-05-12 00:00:00\n",
      "For area sts features, we spend 0.09376072883605957 seconds.\n",
      "For area name sts features, we spend 0.06765413284301758 seconds.\n",
      "For area name sts features, we spend 0.07810688018798828 seconds.\n",
      "For store id reserve visitors features, we spend 0.015620231628417969 seconds.\n",
      "For store id reserve visitors features, we spend 0.046868085861206055 seconds.\n",
      "For store id reserve visitors features, we spend 0.03947257995605469 seconds.\n",
      "For store id sts features, we spend 0.29108190536499023 seconds.\n",
      "For store id diff sts features, we spend 0.9305751323699951 seconds.\n",
      "For store id diff sts features, we spend 0.7058391571044922 seconds.\n",
      "For store id exp features, we spend 1.5914063453674316 seconds.\n",
      "For store id exp features, we spend 1.3770453929901123 seconds.\n"
     ]
    },
    {
     "name": "stderr",
     "output_type": "stream",
     "text": [
      "\r",
      " 86%|██████████████████████████████████████████████████████████████████████▋           | 50/58 [20:33<01:46, 13.32s/it]"
     ]
    },
    {
     "name": "stdout",
     "output_type": "stream",
     "text": [
      "label date,  2016-03-27 00:00:00 2016-05-05 00:00:00\n",
      "For area sts features, we spend 0.09372925758361816 seconds.\n",
      "For area name sts features, we spend 0.0673680305480957 seconds.\n",
      "For area name sts features, we spend 0.07810139656066895 seconds.\n",
      "For store id reserve visitors features, we spend 0.015626907348632812 seconds.\n",
      "For store id reserve visitors features, we spend 0.046869754791259766 seconds.\n",
      "For store id reserve visitors features, we spend 0.04487323760986328 seconds.\n",
      "For store id sts features, we spend 0.3094320297241211 seconds.\n",
      "For store id diff sts features, we spend 0.9086506366729736 seconds.\n",
      "For store id diff sts features, we spend 0.6706175804138184 seconds.\n",
      "For store id exp features, we spend 1.486269235610962 seconds.\n",
      "For store id exp features, we spend 1.124723196029663 seconds.\n"
     ]
    },
    {
     "name": "stderr",
     "output_type": "stream",
     "text": [
      "\r",
      " 88%|████████████████████████████████████████████████████████████████████████          | 51/58 [20:46<01:31, 13.05s/it]"
     ]
    },
    {
     "name": "stdout",
     "output_type": "stream",
     "text": [
      "label date,  2016-03-20 00:00:00 2016-04-28 00:00:00\n",
      "For area sts features, we spend 0.09373164176940918 seconds.\n",
      "For area name sts features, we spend 0.06650614738464355 seconds.\n",
      "For area name sts features, we spend 0.07810640335083008 seconds.\n",
      "For store id reserve visitors features, we spend 0.01561880111694336 seconds.\n",
      "For store id reserve visitors features, we spend 0.046860694885253906 seconds.\n",
      "For store id reserve visitors features, we spend 0.04686689376831055 seconds.\n",
      "For store id sts features, we spend 0.29738855361938477 seconds.\n",
      "For store id diff sts features, we spend 0.8806548118591309 seconds.\n",
      "For store id diff sts features, we spend 0.6758592128753662 seconds.\n",
      "For store id exp features, we spend 1.3298919200897217 seconds.\n",
      "For store id exp features, we spend 1.0560617446899414 seconds.\n"
     ]
    },
    {
     "name": "stderr",
     "output_type": "stream",
     "text": [
      "\r",
      " 90%|█████████████████████████████████████████████████████████████████████████▌        | 52/58 [20:58<01:16, 12.78s/it]"
     ]
    },
    {
     "name": "stdout",
     "output_type": "stream",
     "text": [
      "label date,  2016-03-13 00:00:00 2016-04-21 00:00:00\n",
      "For area sts features, we spend 0.09963226318359375 seconds.\n",
      "For area name sts features, we spend 0.06647825241088867 seconds.\n",
      "For area name sts features, we spend 0.06248927116394043 seconds.\n",
      "For store id reserve visitors features, we spend 0.03123927116394043 seconds.\n",
      "For store id reserve visitors features, we spend 0.06055092811584473 seconds.\n",
      "For store id reserve visitors features, we spend 0.02782726287841797 seconds.\n",
      "For store id sts features, we spend 0.2962837219238281 seconds.\n",
      "For store id diff sts features, we spend 0.8915328979492188 seconds.\n",
      "For store id diff sts features, we spend 0.6428737640380859 seconds.\n",
      "For store id exp features, we spend 1.2411606311798096 seconds.\n",
      "For store id exp features, we spend 0.9528992176055908 seconds.\n"
     ]
    },
    {
     "name": "stderr",
     "output_type": "stream",
     "text": [
      "\r",
      " 91%|██████████████████████████████████████████████████████████████████████████▉       | 53/58 [21:10<01:02, 12.57s/it]"
     ]
    },
    {
     "name": "stdout",
     "output_type": "stream",
     "text": [
      "label date,  2016-03-06 00:00:00 2016-04-14 00:00:00\n",
      "For area sts features, we spend 0.11047577857971191 seconds.\n",
      "For area name sts features, we spend 0.08209347724914551 seconds.\n",
      "For area name sts features, we spend 0.07809829711914062 seconds.\n",
      "For store id reserve visitors features, we spend 0.024724483489990234 seconds.\n",
      "For store id reserve visitors features, we spend 0.06043195724487305 seconds.\n",
      "For store id reserve visitors features, we spend 0.03738999366760254 seconds.\n",
      "For store id sts features, we spend 0.30763769149780273 seconds.\n",
      "For store id diff sts features, we spend 0.8557989597320557 seconds.\n",
      "For store id diff sts features, we spend 0.6322321891784668 seconds.\n",
      "For store id exp features, we spend 1.1491940021514893 seconds.\n",
      "For store id exp features, we spend 0.8511538505554199 seconds.\n"
     ]
    },
    {
     "name": "stderr",
     "output_type": "stream",
     "text": [
      "\r",
      " 93%|████████████████████████████████████████████████████████████████████████████▎     | 54/58 [21:22<00:49, 12.38s/it]"
     ]
    },
    {
     "name": "stdout",
     "output_type": "stream",
     "text": [
      "label date,  2016-02-28 00:00:00 2016-04-07 00:00:00\n",
      "For area sts features, we spend 0.09378194808959961 seconds.\n",
      "For area name sts features, we spend 0.0820927619934082 seconds.\n",
      "For area name sts features, we spend 0.09372782707214355 seconds.\n",
      "For store id reserve visitors features, we spend 0.01675248146057129 seconds.\n",
      "For store id reserve visitors features, we spend 0.04690122604370117 seconds.\n",
      "For store id reserve visitors features, we spend 0.04507040977478027 seconds.\n",
      "For store id sts features, we spend 0.30992674827575684 seconds.\n",
      "For store id diff sts features, we spend 0.8495750427246094 seconds.\n",
      "For store id diff sts features, we spend 0.6165320873260498 seconds.\n",
      "For store id exp features, we spend 1.014629602432251 seconds.\n",
      "For store id exp features, we spend 0.7810807228088379 seconds.\n"
     ]
    },
    {
     "name": "stderr",
     "output_type": "stream",
     "text": [
      "\r",
      " 95%|█████████████████████████████████████████████████████████████████████████████▊    | 55/58 [21:33<00:36, 12.13s/it]"
     ]
    },
    {
     "name": "stdout",
     "output_type": "stream",
     "text": [
      "label date,  2016-02-21 00:00:00 2016-03-31 00:00:00\n",
      "For area sts features, we spend 0.09372925758361816 seconds.\n",
      "For area name sts features, we spend 0.07995247840881348 seconds.\n",
      "For area name sts features, we spend 0.0781412124633789 seconds.\n",
      "For store id reserve visitors features, we spend 0.015624523162841797 seconds.\n",
      "For store id reserve visitors features, we spend 0.04685783386230469 seconds.\n",
      "For store id reserve visitors features, we spend 0.04686284065246582 seconds.\n",
      "For store id sts features, we spend 0.279951810836792 seconds.\n",
      "For store id diff sts features, we spend 0.8252954483032227 seconds.\n",
      "For store id diff sts features, we spend 0.5551953315734863 seconds.\n",
      "For store id exp features, we spend 0.8930096626281738 seconds.\n",
      "For store id exp features, we spend 0.7029588222503662 seconds.\n"
     ]
    },
    {
     "name": "stderr",
     "output_type": "stream",
     "text": [
      "\r",
      " 97%|███████████████████████████████████████████████████████████████████████████████▏  | 56/58 [21:45<00:23, 11.88s/it]"
     ]
    },
    {
     "name": "stdout",
     "output_type": "stream",
     "text": [
      "label date,  2016-02-14 00:00:00 2016-03-24 00:00:00\n",
      "For area sts features, we spend 0.0937795639038086 seconds.\n",
      "For area name sts features, we spend 0.06852245330810547 seconds.\n",
      "For area name sts features, we spend 0.0781090259552002 seconds.\n",
      "For store id reserve visitors features, we spend 0.03124403953552246 seconds.\n",
      "For store id reserve visitors features, we spend 0.04686379432678223 seconds.\n",
      "For store id reserve visitors features, we spend 0.045754194259643555 seconds.\n",
      "For store id sts features, we spend 0.30702877044677734 seconds.\n",
      "For store id diff sts features, we spend 0.7828679084777832 seconds.\n",
      "For store id diff sts features, we spend 0.556257963180542 seconds.\n",
      "For store id exp features, we spend 0.7769701480865479 seconds.\n",
      "For store id exp features, we spend 0.596156120300293 seconds.\n"
     ]
    },
    {
     "name": "stderr",
     "output_type": "stream",
     "text": [
      "\r",
      " 98%|████████████████████████████████████████████████████████████████████████████████▌ | 57/58 [21:56<00:11, 11.62s/it]"
     ]
    },
    {
     "name": "stdout",
     "output_type": "stream",
     "text": [
      "label date,  2016-02-07 00:00:00 2016-03-17 00:00:00\n",
      "For area sts features, we spend 0.1019134521484375 seconds.\n",
      "For area name sts features, we spend 0.06643033027648926 seconds.\n",
      "For area name sts features, we spend 0.06248879432678223 seconds.\n",
      "For store id reserve visitors features, we spend 0.015618562698364258 seconds.\n",
      "For store id reserve visitors features, we spend 0.05732917785644531 seconds.\n",
      "For store id reserve visitors features, we spend 0.03129267692565918 seconds.\n",
      "For store id sts features, we spend 0.2808547019958496 seconds.\n",
      "For store id diff sts features, we spend 0.7581684589385986 seconds.\n",
      "For store id diff sts features, we spend 0.4990048408508301 seconds.\n",
      "For store id exp features, we spend 0.6330695152282715 seconds.\n",
      "For store id exp features, we spend 0.4998807907104492 seconds.\n"
     ]
    },
    {
     "name": "stderr",
     "output_type": "stream",
     "text": [
      "100%|██████████████████████████████████████████████████████████████████████████████████| 58/58 [22:06<00:00, 22.88s/it]\n"
     ]
    }
   ],
   "source": [
    "df_tr_feas = pd.DataFrame()\n",
    "tr_fea_list = []\n",
    "for i in tqdm(range(58)): \n",
    "    try:\n",
    "        tr_label_date      = parse('2017-04-23') - timedelta(7*6 + 7 *i)   #*2\n",
    "        tr_fea_date        = parse('2017-04-23') - timedelta(7*6 + 7 *i+1) #**2\n",
    "\n",
    "        df_tr_tmp          = get_features(df_meta, air_reserve, hpg_air_reserve, label_st_date= tr_label_date)    \n",
    "        df_tr_feas         = pd.concat([df_tr_feas, df_tr_tmp], axis=0,ignore_index=True) \n",
    "        tr_fea_list.append(df_tr_tmp)\n",
    "    except:\n",
    "        print('Problems happen at step {}'.format(i))"
   ]
  },
  {
   "cell_type": "code",
   "execution_count": 41,
   "metadata": {
    "ExecuteTime": {
     "end_time": "2020-07-04T10:51:25.501487Z",
     "start_time": "2020-07-04T10:44:29.693995Z"
    }
   },
   "outputs": [
    {
     "name": "stderr",
     "output_type": "stream",
     "text": [
      "\r",
      "  0%|                                                                                            | 0/5 [00:00<?, ?it/s]"
     ]
    },
    {
     "name": "stdout",
     "output_type": "stream",
     "text": [
      "label date,  2017-03-19 00:00:00 2017-04-23 00:00:00\n",
      "For area sts features, we spend 0.2704482078552246 seconds.\n",
      "For area name sts features, we spend 0.2019062042236328 seconds.\n",
      "For area name sts features, we spend 0.2005155086517334 seconds.\n",
      "For store id reserve visitors features, we spend 0.04879570007324219 seconds.\n",
      "For store id reserve visitors features, we spend 0.07570147514343262 seconds.\n",
      "For store id reserve visitors features, we spend 0.04691457748413086 seconds.\n",
      "For store id sts features, we spend 0.806058406829834 seconds.\n",
      "For store id diff sts features, we spend 3.5772383213043213 seconds.\n",
      "For store id diff sts features, we spend 3.1211531162261963 seconds.\n",
      "For store id exp features, we spend 15.909650802612305 seconds.\n",
      "For store id exp features, we spend 11.456366300582886 seconds.\n"
     ]
    },
    {
     "name": "stderr",
     "output_type": "stream",
     "text": [
      "\r",
      " 20%|████████████████▊                                                                   | 1/5 [00:47<03:09, 47.46s/it]"
     ]
    },
    {
     "name": "stdout",
     "output_type": "stream",
     "text": [
      "label date,  2017-03-26 00:00:00 2017-04-23 00:00:00\n",
      "For area sts features, we spend 0.26299452781677246 seconds.\n",
      "For area name sts features, we spend 0.20943880081176758 seconds.\n",
      "For area name sts features, we spend 0.20312929153442383 seconds.\n",
      "For store id reserve visitors features, we spend 0.03107738494873047 seconds.\n",
      "For store id reserve visitors features, we spend 0.08053970336914062 seconds.\n",
      "For store id reserve visitors features, we spend 0.03795886039733887 seconds.\n",
      "For store id sts features, we spend 0.8227550983428955 seconds.\n",
      "For store id diff sts features, we spend 3.6212034225463867 seconds.\n",
      "For store id diff sts features, we spend 3.183274030685425 seconds.\n",
      "For store id exp features, we spend 15.855966567993164 seconds.\n",
      "For store id exp features, we spend 11.755632877349854 seconds.\n"
     ]
    },
    {
     "name": "stderr",
     "output_type": "stream",
     "text": [
      "\r",
      " 40%|█████████████████████████████████▌                                                  | 2/5 [01:36<02:23, 47.86s/it]"
     ]
    },
    {
     "name": "stdout",
     "output_type": "stream",
     "text": [
      "label date,  2017-04-02 00:00:00 2017-04-23 00:00:00\n",
      "For area sts features, we spend 0.26422739028930664 seconds.\n",
      "For area name sts features, we spend 0.2483663558959961 seconds.\n",
      "For area name sts features, we spend 0.20089435577392578 seconds.\n",
      "For store id reserve visitors features, we spend 0.0374150276184082 seconds.\n",
      "For store id reserve visitors features, we spend 0.04468107223510742 seconds.\n",
      "For store id reserve visitors features, we spend 0.04863405227661133 seconds.\n",
      "For store id sts features, we spend 0.7855625152587891 seconds.\n",
      "For store id diff sts features, we spend 3.662400722503662 seconds.\n",
      "For store id diff sts features, we spend 3.1337649822235107 seconds.\n",
      "For store id exp features, we spend 15.462404251098633 seconds.\n",
      "For store id exp features, we spend 11.796700239181519 seconds.\n"
     ]
    },
    {
     "name": "stderr",
     "output_type": "stream",
     "text": [
      "\r",
      " 60%|██████████████████████████████████████████████████▍                                 | 3/5 [02:24<01:35, 47.86s/it]"
     ]
    },
    {
     "name": "stdout",
     "output_type": "stream",
     "text": [
      "label date,  2017-04-09 00:00:00 2017-04-23 00:00:00\n",
      "For area sts features, we spend 0.250293493270874 seconds.\n",
      "For area name sts features, we spend 0.21652770042419434 seconds.\n",
      "For area name sts features, we spend 0.19644546508789062 seconds.\n",
      "For store id reserve visitors features, we spend 0.03139781951904297 seconds.\n",
      "For store id reserve visitors features, we spend 0.05126547813415527 seconds.\n",
      "For store id reserve visitors features, we spend 0.04993009567260742 seconds.\n",
      "For store id sts features, we spend 0.8082563877105713 seconds.\n",
      "For store id diff sts features, we spend 3.7815072536468506 seconds.\n",
      "For store id diff sts features, we spend 3.3986780643463135 seconds.\n",
      "For store id exp features, we spend 17.75857710838318 seconds.\n",
      "For store id exp features, we spend 11.657052755355835 seconds.\n"
     ]
    },
    {
     "name": "stderr",
     "output_type": "stream",
     "text": [
      "\r",
      " 80%|███████████████████████████████████████████████████████████████████▏                | 4/5 [03:14<00:48, 48.49s/it]"
     ]
    },
    {
     "name": "stdout",
     "output_type": "stream",
     "text": [
      "label date,  2017-04-16 00:00:00 2017-04-23 00:00:00\n",
      "For area sts features, we spend 0.2659950256347656 seconds.\n",
      "For area name sts features, we spend 0.2005763053894043 seconds.\n",
      "For area name sts features, we spend 0.19921517372131348 seconds.\n",
      "For store id reserve visitors features, we spend 0.01915574073791504 seconds.\n",
      "For store id reserve visitors features, we spend 0.06703877449035645 seconds.\n",
      "For store id reserve visitors features, we spend 0.03073287010192871 seconds.\n",
      "For store id sts features, we spend 0.7759652137756348 seconds.\n",
      "For store id diff sts features, we spend 3.6956541538238525 seconds.\n",
      "For store id diff sts features, we spend 3.2234559059143066 seconds.\n",
      "For store id exp features, we spend 16.100953102111816 seconds.\n",
      "For store id exp features, we spend 12.656418323516846 seconds.\n"
     ]
    },
    {
     "name": "stderr",
     "output_type": "stream",
     "text": [
      "100%|████████████████████████████████████████████████████████████████████████████████████| 5/5 [04:03<00:00, 48.61s/it]\n"
     ]
    },
    {
     "name": "stdout",
     "output_type": "stream",
     "text": [
      "label date,  2017-03-12 00:00:00 2017-04-20 00:00:00\n",
      "For area sts features, we spend 0.23734641075134277 seconds.\n",
      "For area name sts features, we spend 0.17183685302734375 seconds.\n",
      "For area name sts features, we spend 0.19160175323486328 seconds.\n",
      "For store id reserve visitors features, we spend 0.031238317489624023 seconds.\n",
      "For store id reserve visitors features, we spend 0.07810688018798828 seconds.\n",
      "For store id reserve visitors features, we spend 0.04686284065246582 seconds.\n",
      "For store id sts features, we spend 0.7461638450622559 seconds.\n",
      "For store id diff sts features, we spend 3.4486265182495117 seconds.\n",
      "For store id diff sts features, we spend 2.9556946754455566 seconds.\n",
      "For store id exp features, we spend 14.268590927124023 seconds.\n",
      "For store id exp features, we spend 10.729905366897583 seconds.\n",
      "label date,  2017-04-23 00:00:00 2017-06-01 00:00:00\n",
      "For area sts features, we spend 0.2588961124420166 seconds.\n",
      "For area name sts features, we spend 0.2261040210723877 seconds.\n",
      "For area name sts features, we spend 0.19861245155334473 seconds.\n",
      "For store id reserve visitors features, we spend 0.0283811092376709 seconds.\n",
      "For store id reserve visitors features, we spend 0.06646990776062012 seconds.\n",
      "For store id reserve visitors features, we spend 0.04691362380981445 seconds.\n",
      "For store id sts features, we spend 0.7780890464782715 seconds.\n",
      "For store id diff sts features, we spend 3.791642427444458 seconds.\n",
      "For store id diff sts features, we spend 3.2470555305480957 seconds.\n",
      "For store id exp features, we spend 16.260308027267456 seconds.\n",
      "For store id exp features, we spend 13.786133766174316 seconds.\n"
     ]
    }
   ],
   "source": [
    "for i in tqdm(range(1,6)): \n",
    "    tr_label_date      = parse('2017-04-23') - timedelta(7*6 - 7 *i) \n",
    "    df_tr_tmp          = get_features(df_meta, air_reserve, hpg_air_reserve,days=42 - 7*i, label_st_date= tr_label_date)    \n",
    "    df_tr_feas         = pd.concat([df_tr_feas, df_tr_tmp], axis=0,ignore_index=True) \n",
    "    tr_fea_list.append(df_tr_tmp)\n",
    "\n",
    "val_label_date    = parse('2017-04-23')  - timedelta(7*6) \n",
    "te_fea_date       = parse('2017-04-23')\n",
    " \n",
    "df_val = get_features(df_meta,air_reserve, hpg_air_reserve, label_st_date= val_label_date)    \n",
    "df_te  = get_features(df_meta,air_reserve, hpg_air_reserve, label_st_date= te_fea_date, is_te=True)      \n",
    "\n",
    "## df_date['visit_date'] = pd.to_datetime(df_date['visit_date'])\n",
    "df_date['visit_date'] = df_date['visit_date'].astype(str)\n",
    "df_tr                 = df_tr_feas.merge(df_date, on = ['visit_date'], how = 'left')\n",
    "df_tr                 = df_tr.merge(df_storeid,   on = ['air_store_id'], how = 'left')  \n",
    "df_tr['visit_date']   = pd.to_datetime(df_tr['visit_date'])\n",
    "df_tr['day_to_now']   = df_tr['visit_date'].apply(lambda x : (parse('2017-04-22') - (x)).days) \n",
    " \n",
    "df_val = df_val.merge(df_date,       on = ['visit_date'], how = 'left')\n",
    "df_val = df_val.merge(df_storeid,    on = ['air_store_id'], how = 'left')  \n",
    " \n",
    "df_te  = df_te.merge(df_date,       on = ['visit_date'], how = 'left') \n",
    "df_te  = df_te.merge(df_storeid,    on = ['air_store_id'], how = 'left')"
   ]
  },
  {
   "cell_type": "code",
   "execution_count": 42,
   "metadata": {
    "ExecuteTime": {
     "end_time": "2020-07-04T10:51:25.752950Z",
     "start_time": "2020-07-04T10:51:25.512842Z"
    }
   },
   "outputs": [],
   "source": [
    "other_cols   = [col for col in df_tr_feas.columns if df_tr_feas[col].dtypes!='object' and col not in ['air_store_id','visit_date','air_store_id_weekday','air_store_id_holiday','air_store_id_weekday_holiday','visitors','weekday',\\\n",
    "                                                                'air_store_id_visit_date','air_area_name','air_area_name_weekday']]\n",
    "date_cols    = [col for col in df_date.columns if col not in ['visit_date']]\n",
    "storeid_cols = [col for col in df_storeid.columns if col not in ['air_store_id']]\n",
    "\n",
    "le = LabelEncoder()\n",
    "le.fit(list(set(df_tr['air_store_id'].values)) + list(set(df_val['air_store_id'].values)) + list(set(df_te['air_store_id'].values)))   \n",
    "\n",
    "df_tr['air_store_id_lb']  = le.transform(df_tr['air_store_id'].values)\n",
    "df_val['air_store_id_lb'] = le.transform(df_val['air_store_id'].values)\n",
    "df_te['air_store_id_lb']  = le.transform(df_te['air_store_id'].values)"
   ]
  },
  {
   "cell_type": "code",
   "execution_count": 43,
   "metadata": {
    "ExecuteTime": {
     "end_time": "2020-07-04T11:07:11.007123Z",
     "start_time": "2020-07-04T10:51:25.753910Z"
    }
   },
   "outputs": [
    {
     "name": "stdout",
     "output_type": "stream",
     "text": [
      "Training until validation scores don't improve for 1500 rounds\n",
      "[100]\ttraining's rmse: 0.512099\tvalid_1's rmse: 0.499047\n",
      "[200]\ttraining's rmse: 0.490999\tvalid_1's rmse: 0.480723\n",
      "[300]\ttraining's rmse: 0.477733\tvalid_1's rmse: 0.467757\n",
      "[400]\ttraining's rmse: 0.467846\tvalid_1's rmse: 0.457847\n",
      "[500]\ttraining's rmse: 0.459713\tvalid_1's rmse: 0.449177\n",
      "[600]\ttraining's rmse: 0.452696\tvalid_1's rmse: 0.441954\n",
      "[700]\ttraining's rmse: 0.446322\tvalid_1's rmse: 0.435499\n",
      "Did not meet early stopping. Best iteration is:\n",
      "[700]\ttraining's rmse: 0.446322\tvalid_1's rmse: 0.435499\n"
     ]
    }
   ],
   "source": [
    "label_col    = 'visitors' \n",
    "feature_cols = date_cols + storeid_cols + other_cols + ['air_store_id_lb']  \n",
    "feature_cols = [col for col in feature_cols if col not in ['day_to_last_holiday','day_to_next_holiday']]\n",
    "\n",
    "models1, feature_importance1,test_pred1 = lgb_model_test_weight_timebased(df_tr = df_tr, df_val = df_val,features =feature_cols , ws = [1.0], test_df=df_te)\n",
    "\n",
    "submit = df_te[['air_store_id','visit_date']].copy()\n",
    "submit['id'] = submit['air_store_id'] + '_' + submit['visit_date'].astype(str) \n",
    "submit['visitors'] =  np.expm1(test_pred1[0])\n",
    "submit['visitors'] = submit['visitors'] #.astype(int)\n",
    "submit.loc[submit['visitors'] == 0, 'visitors'] = 1\n",
    "submit[['id','visitors']].to_csv('../sub/sub.csv',index = None)"
   ]
  }
 ],
 "metadata": {
  "kernelspec": {
   "display_name": "Python 3",
   "language": "python",
   "name": "python3"
  },
  "language_info": {
   "codemirror_mode": {
    "name": "ipython",
    "version": 3
   },
   "file_extension": ".py",
   "mimetype": "text/x-python",
   "name": "python",
   "nbconvert_exporter": "python",
   "pygments_lexer": "ipython3",
   "version": "3.7.3"
  },
  "toc": {
   "base_numbering": 1,
   "nav_menu": {},
   "number_sections": true,
   "sideBar": true,
   "skip_h1_title": false,
   "title_cell": "Table of Contents",
   "title_sidebar": "Contents",
   "toc_cell": false,
   "toc_position": {},
   "toc_section_display": true,
   "toc_window_display": false
  },
  "varInspector": {
   "cols": {
    "lenName": 16,
    "lenType": 16,
    "lenVar": 40
   },
   "kernels_config": {
    "python": {
     "delete_cmd_postfix": "",
     "delete_cmd_prefix": "del ",
     "library": "var_list.py",
     "varRefreshCmd": "print(var_dic_list())"
    },
    "r": {
     "delete_cmd_postfix": ") ",
     "delete_cmd_prefix": "rm(",
     "library": "var_list.r",
     "varRefreshCmd": "cat(var_dic_list()) "
    }
   },
   "types_to_exclude": [
    "module",
    "function",
    "builtin_function_or_method",
    "instance",
    "_Feature"
   ],
   "window_display": false
  }
 },
 "nbformat": 4,
 "nbformat_minor": 4
}
