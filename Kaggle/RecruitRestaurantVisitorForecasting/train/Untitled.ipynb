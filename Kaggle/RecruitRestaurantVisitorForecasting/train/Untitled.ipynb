{
 "cells": [
  {
   "cell_type": "markdown",
   "metadata": {},
   "source": [
    "https://mp.weixin.qq.com/s/0qOGevwTltu2SJ-QanW0VA\n",
    "\n",
    "https://mp.weixin.qq.com/s/kDC5VKm0j2VufIo-aOlfrg"
   ]
  },
  {
   "cell_type": "markdown",
   "metadata": {},
   "source": [
    "# 工具包导入&数据读取\n",
    "## 工具包导入"
   ]
  },
  {
   "cell_type": "code",
   "execution_count": 1,
   "metadata": {
    "ExecuteTime": {
     "end_time": "2020-07-04T04:35:09.532435Z",
     "start_time": "2020-07-04T04:35:05.863588Z"
    }
   },
   "outputs": [
    {
     "name": "stderr",
     "output_type": "stream",
     "text": [
      "C:\\Users\\z\\Anaconda3\\lib\\site-packages\\statsmodels\\tools\\_testing.py:19: FutureWarning: pandas.util.testing is deprecated. Use the functions in the public API at pandas.testing instead.\n",
      "  import pandas.util.testing as tm\n"
     ]
    }
   ],
   "source": [
    "import numpy as np\n",
    "import pandas as pd\n",
    "import os\n",
    "from datetime import date \n",
    "from sklearn.metrics import f1_score\n",
    "from tqdm import tqdm_notebook\n",
    "from sklearn.preprocessing import StandardScaler\n",
    "from sklearn.svm import NuSVR, SVR\n",
    "from sklearn.metrics import mean_absolute_error\n",
    "\n",
    "import lightgbm as lgb\n",
    "import xgboost as xgb\n",
    "import time\n",
    "import datetime\n",
    "from catboost import CatBoostRegressor\n",
    "from sklearn.preprocessing import LabelEncoder\n",
    "from sklearn.model_selection import StratifiedKFold, KFold, RepeatedKFold\n",
    "from sklearn.metrics import mean_absolute_error\n",
    "from sklearn.linear_model import LinearRegression\n",
    "import gc\n",
    "\n",
    "from scipy.signal import hilbert\n",
    "from scipy.signal import hann\n",
    "from scipy.signal import convolve\n",
    "from scipy import stats\n",
    "from sklearn.kernel_ridge import KernelRidge\n",
    "\n",
    "from dateutil.parser import parse\n",
    "\n",
    "import seaborn as sns\n",
    "import matplotlib.pyplot as plt\n",
    "%matplotlib inline\n",
    "\n",
    "import warnings\n",
    "warnings.filterwarnings(\"ignore\")\n",
    "\n",
    "from tqdm import tqdm\n",
    "from itertools import combinations, product\n",
    "\n",
    "import ast\n",
    "\n",
    "from datetime import timedelta \n",
    "from time import time"
   ]
  },
  {
   "cell_type": "markdown",
   "metadata": {},
   "source": [
    "## 数据读取"
   ]
  },
  {
   "cell_type": "code",
   "execution_count": 2,
   "metadata": {
    "ExecuteTime": {
     "end_time": "2020-07-04T04:35:12.186944Z",
     "start_time": "2020-07-04T04:35:09.536433Z"
    }
   },
   "outputs": [],
   "source": [
    "path = '../input/'\n",
    "\n",
    "air_visit_data      =  pd.read_csv(path + 'air_visit_data.csv') \n",
    "\n",
    "hpg_store_info      =  pd.read_csv(path + 'hpg_store_info.csv')\n",
    "air_store_info      =  pd.read_csv(path + 'air_store_info.csv')\n",
    "\n",
    "hpg_reserve         =  pd.read_csv(path + 'hpg_reserve.csv')\n",
    "air_reserve         =  pd.read_csv(path + 'air_reserve.csv') \n",
    "\n",
    "date_info           =  pd.read_csv(path + 'date_info.csv')  \n",
    "\n",
    "store_id_relation   =  pd.read_csv(path + 'store_id_relation.csv')     \n",
    "\n",
    "sample_submission   =  pd.read_csv(path + 'sample_submission.csv')"
   ]
  },
  {
   "cell_type": "markdown",
   "metadata": {},
   "source": [
    "**air_visit_data.csv**\n",
    "\n",
    "This file contains historical visit data for the air restaurants.\n",
    "\n",
    "- air_store_id\n",
    "- visit_date - the date\n",
    "- visitors - the number of visitors to the restaurant on the date"
   ]
  },
  {
   "cell_type": "code",
   "execution_count": 3,
   "metadata": {
    "ExecuteTime": {
     "end_time": "2020-07-04T04:35:12.205920Z",
     "start_time": "2020-07-04T04:35:12.189928Z"
    }
   },
   "outputs": [
    {
     "data": {
      "text/html": [
       "<div>\n",
       "<style scoped>\n",
       "    .dataframe tbody tr th:only-of-type {\n",
       "        vertical-align: middle;\n",
       "    }\n",
       "\n",
       "    .dataframe tbody tr th {\n",
       "        vertical-align: top;\n",
       "    }\n",
       "\n",
       "    .dataframe thead th {\n",
       "        text-align: right;\n",
       "    }\n",
       "</style>\n",
       "<table border=\"1\" class=\"dataframe\">\n",
       "  <thead>\n",
       "    <tr style=\"text-align: right;\">\n",
       "      <th></th>\n",
       "      <th>air_store_id</th>\n",
       "      <th>visit_date</th>\n",
       "      <th>visitors</th>\n",
       "    </tr>\n",
       "  </thead>\n",
       "  <tbody>\n",
       "    <tr>\n",
       "      <th>0</th>\n",
       "      <td>air_ba937bf13d40fb24</td>\n",
       "      <td>2016-01-13</td>\n",
       "      <td>25</td>\n",
       "    </tr>\n",
       "    <tr>\n",
       "      <th>1</th>\n",
       "      <td>air_ba937bf13d40fb24</td>\n",
       "      <td>2016-01-14</td>\n",
       "      <td>32</td>\n",
       "    </tr>\n",
       "    <tr>\n",
       "      <th>2</th>\n",
       "      <td>air_ba937bf13d40fb24</td>\n",
       "      <td>2016-01-15</td>\n",
       "      <td>29</td>\n",
       "    </tr>\n",
       "    <tr>\n",
       "      <th>3</th>\n",
       "      <td>air_ba937bf13d40fb24</td>\n",
       "      <td>2016-01-16</td>\n",
       "      <td>22</td>\n",
       "    </tr>\n",
       "    <tr>\n",
       "      <th>4</th>\n",
       "      <td>air_ba937bf13d40fb24</td>\n",
       "      <td>2016-01-18</td>\n",
       "      <td>6</td>\n",
       "    </tr>\n",
       "  </tbody>\n",
       "</table>\n",
       "</div>"
      ],
      "text/plain": [
       "           air_store_id  visit_date  visitors\n",
       "0  air_ba937bf13d40fb24  2016-01-13        25\n",
       "1  air_ba937bf13d40fb24  2016-01-14        32\n",
       "2  air_ba937bf13d40fb24  2016-01-15        29\n",
       "3  air_ba937bf13d40fb24  2016-01-16        22\n",
       "4  air_ba937bf13d40fb24  2016-01-18         6"
      ]
     },
     "execution_count": 3,
     "metadata": {},
     "output_type": "execute_result"
    }
   ],
   "source": [
    "air_visit_data.head()"
   ]
  },
  {
   "cell_type": "markdown",
   "metadata": {},
   "source": [
    "**hpg_store_info.csv**\n",
    "\n",
    "This file contains information about select hpg restaurants. Column names and contents are self-explanatory.\n",
    "\n",
    "- hpg_store_id\n",
    "- hpg_genre_name\n",
    "- hpg_area_name\n",
    "- latitude\n",
    "- longitude\n",
    "\n",
    "Note: latitude and longitude are the latitude and longitude of the area to which the store belongs"
   ]
  },
  {
   "cell_type": "code",
   "execution_count": 4,
   "metadata": {
    "ExecuteTime": {
     "end_time": "2020-07-04T04:35:12.224908Z",
     "start_time": "2020-07-04T04:35:12.208916Z"
    }
   },
   "outputs": [
    {
     "data": {
      "text/html": [
       "<div>\n",
       "<style scoped>\n",
       "    .dataframe tbody tr th:only-of-type {\n",
       "        vertical-align: middle;\n",
       "    }\n",
       "\n",
       "    .dataframe tbody tr th {\n",
       "        vertical-align: top;\n",
       "    }\n",
       "\n",
       "    .dataframe thead th {\n",
       "        text-align: right;\n",
       "    }\n",
       "</style>\n",
       "<table border=\"1\" class=\"dataframe\">\n",
       "  <thead>\n",
       "    <tr style=\"text-align: right;\">\n",
       "      <th></th>\n",
       "      <th>hpg_store_id</th>\n",
       "      <th>hpg_genre_name</th>\n",
       "      <th>hpg_area_name</th>\n",
       "      <th>latitude</th>\n",
       "      <th>longitude</th>\n",
       "    </tr>\n",
       "  </thead>\n",
       "  <tbody>\n",
       "    <tr>\n",
       "      <th>0</th>\n",
       "      <td>hpg_6622b62385aec8bf</td>\n",
       "      <td>Japanese style</td>\n",
       "      <td>Tōkyō-to Setagaya-ku Taishidō</td>\n",
       "      <td>35.643675</td>\n",
       "      <td>139.668221</td>\n",
       "    </tr>\n",
       "    <tr>\n",
       "      <th>1</th>\n",
       "      <td>hpg_e9e068dd49c5fa00</td>\n",
       "      <td>Japanese style</td>\n",
       "      <td>Tōkyō-to Setagaya-ku Taishidō</td>\n",
       "      <td>35.643675</td>\n",
       "      <td>139.668221</td>\n",
       "    </tr>\n",
       "    <tr>\n",
       "      <th>2</th>\n",
       "      <td>hpg_2976f7acb4b3a3bc</td>\n",
       "      <td>Japanese style</td>\n",
       "      <td>Tōkyō-to Setagaya-ku Taishidō</td>\n",
       "      <td>35.643675</td>\n",
       "      <td>139.668221</td>\n",
       "    </tr>\n",
       "    <tr>\n",
       "      <th>3</th>\n",
       "      <td>hpg_e51a522e098f024c</td>\n",
       "      <td>Japanese style</td>\n",
       "      <td>Tōkyō-to Setagaya-ku Taishidō</td>\n",
       "      <td>35.643675</td>\n",
       "      <td>139.668221</td>\n",
       "    </tr>\n",
       "    <tr>\n",
       "      <th>4</th>\n",
       "      <td>hpg_e3d0e1519894f275</td>\n",
       "      <td>Japanese style</td>\n",
       "      <td>Tōkyō-to Setagaya-ku Taishidō</td>\n",
       "      <td>35.643675</td>\n",
       "      <td>139.668221</td>\n",
       "    </tr>\n",
       "  </tbody>\n",
       "</table>\n",
       "</div>"
      ],
      "text/plain": [
       "           hpg_store_id  hpg_genre_name                  hpg_area_name  \\\n",
       "0  hpg_6622b62385aec8bf  Japanese style  Tōkyō-to Setagaya-ku Taishidō   \n",
       "1  hpg_e9e068dd49c5fa00  Japanese style  Tōkyō-to Setagaya-ku Taishidō   \n",
       "2  hpg_2976f7acb4b3a3bc  Japanese style  Tōkyō-to Setagaya-ku Taishidō   \n",
       "3  hpg_e51a522e098f024c  Japanese style  Tōkyō-to Setagaya-ku Taishidō   \n",
       "4  hpg_e3d0e1519894f275  Japanese style  Tōkyō-to Setagaya-ku Taishidō   \n",
       "\n",
       "    latitude   longitude  \n",
       "0  35.643675  139.668221  \n",
       "1  35.643675  139.668221  \n",
       "2  35.643675  139.668221  \n",
       "3  35.643675  139.668221  \n",
       "4  35.643675  139.668221  "
      ]
     },
     "execution_count": 4,
     "metadata": {},
     "output_type": "execute_result"
    }
   ],
   "source": [
    "hpg_store_info.head()"
   ]
  },
  {
   "cell_type": "markdown",
   "metadata": {},
   "source": [
    "**air_store_info.csv**\n",
    "\n",
    "This file contains information about select air restaurants. Column names and contents are self-explanatory.\n",
    "\n",
    "- air_store_id\n",
    "- air_genre_name\n",
    "- air_area_name\n",
    "- latitude\n",
    "- longitude\n",
    "\n",
    "Note: latitude and longitude are the latitude and longitude of the area to which the store belongs"
   ]
  },
  {
   "cell_type": "code",
   "execution_count": 5,
   "metadata": {
    "ExecuteTime": {
     "end_time": "2020-07-04T04:35:12.246410Z",
     "start_time": "2020-07-04T04:35:12.228905Z"
    }
   },
   "outputs": [
    {
     "data": {
      "text/html": [
       "<div>\n",
       "<style scoped>\n",
       "    .dataframe tbody tr th:only-of-type {\n",
       "        vertical-align: middle;\n",
       "    }\n",
       "\n",
       "    .dataframe tbody tr th {\n",
       "        vertical-align: top;\n",
       "    }\n",
       "\n",
       "    .dataframe thead th {\n",
       "        text-align: right;\n",
       "    }\n",
       "</style>\n",
       "<table border=\"1\" class=\"dataframe\">\n",
       "  <thead>\n",
       "    <tr style=\"text-align: right;\">\n",
       "      <th></th>\n",
       "      <th>air_store_id</th>\n",
       "      <th>air_genre_name</th>\n",
       "      <th>air_area_name</th>\n",
       "      <th>latitude</th>\n",
       "      <th>longitude</th>\n",
       "    </tr>\n",
       "  </thead>\n",
       "  <tbody>\n",
       "    <tr>\n",
       "      <th>0</th>\n",
       "      <td>air_0f0cdeee6c9bf3d7</td>\n",
       "      <td>Italian/French</td>\n",
       "      <td>Hyōgo-ken Kōbe-shi Kumoidōri</td>\n",
       "      <td>34.695124</td>\n",
       "      <td>135.197852</td>\n",
       "    </tr>\n",
       "    <tr>\n",
       "      <th>1</th>\n",
       "      <td>air_7cc17a324ae5c7dc</td>\n",
       "      <td>Italian/French</td>\n",
       "      <td>Hyōgo-ken Kōbe-shi Kumoidōri</td>\n",
       "      <td>34.695124</td>\n",
       "      <td>135.197852</td>\n",
       "    </tr>\n",
       "    <tr>\n",
       "      <th>2</th>\n",
       "      <td>air_fee8dcf4d619598e</td>\n",
       "      <td>Italian/French</td>\n",
       "      <td>Hyōgo-ken Kōbe-shi Kumoidōri</td>\n",
       "      <td>34.695124</td>\n",
       "      <td>135.197852</td>\n",
       "    </tr>\n",
       "    <tr>\n",
       "      <th>3</th>\n",
       "      <td>air_a17f0778617c76e2</td>\n",
       "      <td>Italian/French</td>\n",
       "      <td>Hyōgo-ken Kōbe-shi Kumoidōri</td>\n",
       "      <td>34.695124</td>\n",
       "      <td>135.197852</td>\n",
       "    </tr>\n",
       "    <tr>\n",
       "      <th>4</th>\n",
       "      <td>air_83db5aff8f50478e</td>\n",
       "      <td>Italian/French</td>\n",
       "      <td>Tōkyō-to Minato-ku Shibakōen</td>\n",
       "      <td>35.658068</td>\n",
       "      <td>139.751599</td>\n",
       "    </tr>\n",
       "  </tbody>\n",
       "</table>\n",
       "</div>"
      ],
      "text/plain": [
       "           air_store_id  air_genre_name                 air_area_name  \\\n",
       "0  air_0f0cdeee6c9bf3d7  Italian/French  Hyōgo-ken Kōbe-shi Kumoidōri   \n",
       "1  air_7cc17a324ae5c7dc  Italian/French  Hyōgo-ken Kōbe-shi Kumoidōri   \n",
       "2  air_fee8dcf4d619598e  Italian/French  Hyōgo-ken Kōbe-shi Kumoidōri   \n",
       "3  air_a17f0778617c76e2  Italian/French  Hyōgo-ken Kōbe-shi Kumoidōri   \n",
       "4  air_83db5aff8f50478e  Italian/French  Tōkyō-to Minato-ku Shibakōen   \n",
       "\n",
       "    latitude   longitude  \n",
       "0  34.695124  135.197852  \n",
       "1  34.695124  135.197852  \n",
       "2  34.695124  135.197852  \n",
       "3  34.695124  135.197852  \n",
       "4  35.658068  139.751599  "
      ]
     },
     "execution_count": 5,
     "metadata": {},
     "output_type": "execute_result"
    }
   ],
   "source": [
    "air_store_info.head()"
   ]
  },
  {
   "cell_type": "markdown",
   "metadata": {},
   "source": [
    "**hpg_reserve.csv**\n",
    "\n",
    "This file contains reservations made in the hpg system.\n",
    "\n",
    "- hpg_store_id - the restaurant's id in the hpg system\n",
    "- visit_datetime - the time of the reservation\n",
    "- reserve_datetime - the time the reservation was made\n",
    "- reserve_visitors - the number of visitors for that reservation"
   ]
  },
  {
   "cell_type": "code",
   "execution_count": 6,
   "metadata": {
    "ExecuteTime": {
     "end_time": "2020-07-04T04:35:12.262402Z",
     "start_time": "2020-07-04T04:35:12.249413Z"
    }
   },
   "outputs": [
    {
     "data": {
      "text/html": [
       "<div>\n",
       "<style scoped>\n",
       "    .dataframe tbody tr th:only-of-type {\n",
       "        vertical-align: middle;\n",
       "    }\n",
       "\n",
       "    .dataframe tbody tr th {\n",
       "        vertical-align: top;\n",
       "    }\n",
       "\n",
       "    .dataframe thead th {\n",
       "        text-align: right;\n",
       "    }\n",
       "</style>\n",
       "<table border=\"1\" class=\"dataframe\">\n",
       "  <thead>\n",
       "    <tr style=\"text-align: right;\">\n",
       "      <th></th>\n",
       "      <th>hpg_store_id</th>\n",
       "      <th>visit_datetime</th>\n",
       "      <th>reserve_datetime</th>\n",
       "      <th>reserve_visitors</th>\n",
       "    </tr>\n",
       "  </thead>\n",
       "  <tbody>\n",
       "    <tr>\n",
       "      <th>0</th>\n",
       "      <td>hpg_c63f6f42e088e50f</td>\n",
       "      <td>2016-01-01 11:00:00</td>\n",
       "      <td>2016-01-01 09:00:00</td>\n",
       "      <td>1</td>\n",
       "    </tr>\n",
       "    <tr>\n",
       "      <th>1</th>\n",
       "      <td>hpg_dac72789163a3f47</td>\n",
       "      <td>2016-01-01 13:00:00</td>\n",
       "      <td>2016-01-01 06:00:00</td>\n",
       "      <td>3</td>\n",
       "    </tr>\n",
       "    <tr>\n",
       "      <th>2</th>\n",
       "      <td>hpg_c8e24dcf51ca1eb5</td>\n",
       "      <td>2016-01-01 16:00:00</td>\n",
       "      <td>2016-01-01 14:00:00</td>\n",
       "      <td>2</td>\n",
       "    </tr>\n",
       "    <tr>\n",
       "      <th>3</th>\n",
       "      <td>hpg_24bb207e5fd49d4a</td>\n",
       "      <td>2016-01-01 17:00:00</td>\n",
       "      <td>2016-01-01 11:00:00</td>\n",
       "      <td>5</td>\n",
       "    </tr>\n",
       "    <tr>\n",
       "      <th>4</th>\n",
       "      <td>hpg_25291c542ebb3bc2</td>\n",
       "      <td>2016-01-01 17:00:00</td>\n",
       "      <td>2016-01-01 03:00:00</td>\n",
       "      <td>13</td>\n",
       "    </tr>\n",
       "  </tbody>\n",
       "</table>\n",
       "</div>"
      ],
      "text/plain": [
       "           hpg_store_id       visit_datetime     reserve_datetime  \\\n",
       "0  hpg_c63f6f42e088e50f  2016-01-01 11:00:00  2016-01-01 09:00:00   \n",
       "1  hpg_dac72789163a3f47  2016-01-01 13:00:00  2016-01-01 06:00:00   \n",
       "2  hpg_c8e24dcf51ca1eb5  2016-01-01 16:00:00  2016-01-01 14:00:00   \n",
       "3  hpg_24bb207e5fd49d4a  2016-01-01 17:00:00  2016-01-01 11:00:00   \n",
       "4  hpg_25291c542ebb3bc2  2016-01-01 17:00:00  2016-01-01 03:00:00   \n",
       "\n",
       "   reserve_visitors  \n",
       "0                 1  \n",
       "1                 3  \n",
       "2                 2  \n",
       "3                 5  \n",
       "4                13  "
      ]
     },
     "execution_count": 6,
     "metadata": {},
     "output_type": "execute_result"
    }
   ],
   "source": [
    "hpg_reserve.head()"
   ]
  },
  {
   "cell_type": "markdown",
   "metadata": {},
   "source": [
    "**air_reserve.csv**\n",
    "\n",
    "This file contains reservations made in the air system. Note that the reserve_datetime indicates the time when the reservation was created, whereas the visit_datetime is the time in the future where the visit will occur.\n",
    "\n",
    "- air_store_id - the restaurant's id in the air system\n",
    "- visit_datetime - the time of the reservation\n",
    "- reserve_datetime - the time the reservation was made\n",
    "- reserve_visitors - the number of visitors for that reservation"
   ]
  },
  {
   "cell_type": "code",
   "execution_count": 7,
   "metadata": {
    "ExecuteTime": {
     "end_time": "2020-07-04T04:35:12.277391Z",
     "start_time": "2020-07-04T04:35:12.265400Z"
    }
   },
   "outputs": [
    {
     "data": {
      "text/html": [
       "<div>\n",
       "<style scoped>\n",
       "    .dataframe tbody tr th:only-of-type {\n",
       "        vertical-align: middle;\n",
       "    }\n",
       "\n",
       "    .dataframe tbody tr th {\n",
       "        vertical-align: top;\n",
       "    }\n",
       "\n",
       "    .dataframe thead th {\n",
       "        text-align: right;\n",
       "    }\n",
       "</style>\n",
       "<table border=\"1\" class=\"dataframe\">\n",
       "  <thead>\n",
       "    <tr style=\"text-align: right;\">\n",
       "      <th></th>\n",
       "      <th>air_store_id</th>\n",
       "      <th>visit_datetime</th>\n",
       "      <th>reserve_datetime</th>\n",
       "      <th>reserve_visitors</th>\n",
       "    </tr>\n",
       "  </thead>\n",
       "  <tbody>\n",
       "    <tr>\n",
       "      <th>0</th>\n",
       "      <td>air_877f79706adbfb06</td>\n",
       "      <td>2016-01-01 19:00:00</td>\n",
       "      <td>2016-01-01 16:00:00</td>\n",
       "      <td>1</td>\n",
       "    </tr>\n",
       "    <tr>\n",
       "      <th>1</th>\n",
       "      <td>air_db4b38ebe7a7ceff</td>\n",
       "      <td>2016-01-01 19:00:00</td>\n",
       "      <td>2016-01-01 19:00:00</td>\n",
       "      <td>3</td>\n",
       "    </tr>\n",
       "    <tr>\n",
       "      <th>2</th>\n",
       "      <td>air_db4b38ebe7a7ceff</td>\n",
       "      <td>2016-01-01 19:00:00</td>\n",
       "      <td>2016-01-01 19:00:00</td>\n",
       "      <td>6</td>\n",
       "    </tr>\n",
       "    <tr>\n",
       "      <th>3</th>\n",
       "      <td>air_877f79706adbfb06</td>\n",
       "      <td>2016-01-01 20:00:00</td>\n",
       "      <td>2016-01-01 16:00:00</td>\n",
       "      <td>2</td>\n",
       "    </tr>\n",
       "    <tr>\n",
       "      <th>4</th>\n",
       "      <td>air_db80363d35f10926</td>\n",
       "      <td>2016-01-01 20:00:00</td>\n",
       "      <td>2016-01-01 01:00:00</td>\n",
       "      <td>5</td>\n",
       "    </tr>\n",
       "  </tbody>\n",
       "</table>\n",
       "</div>"
      ],
      "text/plain": [
       "           air_store_id       visit_datetime     reserve_datetime  \\\n",
       "0  air_877f79706adbfb06  2016-01-01 19:00:00  2016-01-01 16:00:00   \n",
       "1  air_db4b38ebe7a7ceff  2016-01-01 19:00:00  2016-01-01 19:00:00   \n",
       "2  air_db4b38ebe7a7ceff  2016-01-01 19:00:00  2016-01-01 19:00:00   \n",
       "3  air_877f79706adbfb06  2016-01-01 20:00:00  2016-01-01 16:00:00   \n",
       "4  air_db80363d35f10926  2016-01-01 20:00:00  2016-01-01 01:00:00   \n",
       "\n",
       "   reserve_visitors  \n",
       "0                 1  \n",
       "1                 3  \n",
       "2                 6  \n",
       "3                 2  \n",
       "4                 5  "
      ]
     },
     "execution_count": 7,
     "metadata": {},
     "output_type": "execute_result"
    }
   ],
   "source": [
    "air_reserve.head()"
   ]
  },
  {
   "cell_type": "code",
   "execution_count": 8,
   "metadata": {
    "ExecuteTime": {
     "end_time": "2020-07-04T04:35:12.296380Z",
     "start_time": "2020-07-04T04:35:12.283388Z"
    }
   },
   "outputs": [
    {
     "data": {
      "text/html": [
       "<div>\n",
       "<style scoped>\n",
       "    .dataframe tbody tr th:only-of-type {\n",
       "        vertical-align: middle;\n",
       "    }\n",
       "\n",
       "    .dataframe tbody tr th {\n",
       "        vertical-align: top;\n",
       "    }\n",
       "\n",
       "    .dataframe thead th {\n",
       "        text-align: right;\n",
       "    }\n",
       "</style>\n",
       "<table border=\"1\" class=\"dataframe\">\n",
       "  <thead>\n",
       "    <tr style=\"text-align: right;\">\n",
       "      <th></th>\n",
       "      <th>calendar_date</th>\n",
       "      <th>day_of_week</th>\n",
       "      <th>holiday_flg</th>\n",
       "    </tr>\n",
       "  </thead>\n",
       "  <tbody>\n",
       "    <tr>\n",
       "      <th>0</th>\n",
       "      <td>2016-01-01</td>\n",
       "      <td>Friday</td>\n",
       "      <td>1</td>\n",
       "    </tr>\n",
       "    <tr>\n",
       "      <th>1</th>\n",
       "      <td>2016-01-02</td>\n",
       "      <td>Saturday</td>\n",
       "      <td>1</td>\n",
       "    </tr>\n",
       "    <tr>\n",
       "      <th>2</th>\n",
       "      <td>2016-01-03</td>\n",
       "      <td>Sunday</td>\n",
       "      <td>1</td>\n",
       "    </tr>\n",
       "    <tr>\n",
       "      <th>3</th>\n",
       "      <td>2016-01-04</td>\n",
       "      <td>Monday</td>\n",
       "      <td>0</td>\n",
       "    </tr>\n",
       "    <tr>\n",
       "      <th>4</th>\n",
       "      <td>2016-01-05</td>\n",
       "      <td>Tuesday</td>\n",
       "      <td>0</td>\n",
       "    </tr>\n",
       "  </tbody>\n",
       "</table>\n",
       "</div>"
      ],
      "text/plain": [
       "  calendar_date day_of_week  holiday_flg\n",
       "0    2016-01-01      Friday            1\n",
       "1    2016-01-02    Saturday            1\n",
       "2    2016-01-03      Sunday            1\n",
       "3    2016-01-04      Monday            0\n",
       "4    2016-01-05     Tuesday            0"
      ]
     },
     "execution_count": 8,
     "metadata": {},
     "output_type": "execute_result"
    }
   ],
   "source": [
    "date_info.head()"
   ]
  },
  {
   "cell_type": "markdown",
   "metadata": {},
   "source": [
    "**store_id_relation.csv**\n",
    "\n",
    "This file allows you to join select restaurants that have both the air and hpg system.\n",
    "\n",
    "- hpg_store_id\n",
    "- air_store_id"
   ]
  },
  {
   "cell_type": "code",
   "execution_count": 9,
   "metadata": {
    "ExecuteTime": {
     "end_time": "2020-07-04T04:35:12.310372Z",
     "start_time": "2020-07-04T04:35:12.299379Z"
    }
   },
   "outputs": [
    {
     "data": {
      "text/html": [
       "<div>\n",
       "<style scoped>\n",
       "    .dataframe tbody tr th:only-of-type {\n",
       "        vertical-align: middle;\n",
       "    }\n",
       "\n",
       "    .dataframe tbody tr th {\n",
       "        vertical-align: top;\n",
       "    }\n",
       "\n",
       "    .dataframe thead th {\n",
       "        text-align: right;\n",
       "    }\n",
       "</style>\n",
       "<table border=\"1\" class=\"dataframe\">\n",
       "  <thead>\n",
       "    <tr style=\"text-align: right;\">\n",
       "      <th></th>\n",
       "      <th>air_store_id</th>\n",
       "      <th>hpg_store_id</th>\n",
       "    </tr>\n",
       "  </thead>\n",
       "  <tbody>\n",
       "    <tr>\n",
       "      <th>0</th>\n",
       "      <td>air_63b13c56b7201bd9</td>\n",
       "      <td>hpg_4bc649e72e2a239a</td>\n",
       "    </tr>\n",
       "    <tr>\n",
       "      <th>1</th>\n",
       "      <td>air_a24bf50c3e90d583</td>\n",
       "      <td>hpg_c34b496d0305a809</td>\n",
       "    </tr>\n",
       "    <tr>\n",
       "      <th>2</th>\n",
       "      <td>air_c7f78b4f3cba33ff</td>\n",
       "      <td>hpg_cd8ae0d9bbd58ff9</td>\n",
       "    </tr>\n",
       "    <tr>\n",
       "      <th>3</th>\n",
       "      <td>air_947eb2cae4f3e8f2</td>\n",
       "      <td>hpg_de24ea49dc25d6b8</td>\n",
       "    </tr>\n",
       "    <tr>\n",
       "      <th>4</th>\n",
       "      <td>air_965b2e0cf4119003</td>\n",
       "      <td>hpg_653238a84804d8e7</td>\n",
       "    </tr>\n",
       "  </tbody>\n",
       "</table>\n",
       "</div>"
      ],
      "text/plain": [
       "           air_store_id          hpg_store_id\n",
       "0  air_63b13c56b7201bd9  hpg_4bc649e72e2a239a\n",
       "1  air_a24bf50c3e90d583  hpg_c34b496d0305a809\n",
       "2  air_c7f78b4f3cba33ff  hpg_cd8ae0d9bbd58ff9\n",
       "3  air_947eb2cae4f3e8f2  hpg_de24ea49dc25d6b8\n",
       "4  air_965b2e0cf4119003  hpg_653238a84804d8e7"
      ]
     },
     "execution_count": 9,
     "metadata": {},
     "output_type": "execute_result"
    }
   ],
   "source": [
    "store_id_relation.head()"
   ]
  },
  {
   "cell_type": "markdown",
   "metadata": {},
   "source": [
    "**sample_submission.csv**\n",
    "\n",
    "This file shows a submission in the correct format, including the days for which you must forecast.\n",
    "\n",
    "- id - the id is formed by concatenating the air_store_id and visit_date with an underscore\n",
    "- visitors - the number of visitors forecasted for the store and date combination"
   ]
  },
  {
   "cell_type": "code",
   "execution_count": 10,
   "metadata": {
    "ExecuteTime": {
     "end_time": "2020-07-04T04:35:12.326363Z",
     "start_time": "2020-07-04T04:35:12.314371Z"
    }
   },
   "outputs": [
    {
     "data": {
      "text/html": [
       "<div>\n",
       "<style scoped>\n",
       "    .dataframe tbody tr th:only-of-type {\n",
       "        vertical-align: middle;\n",
       "    }\n",
       "\n",
       "    .dataframe tbody tr th {\n",
       "        vertical-align: top;\n",
       "    }\n",
       "\n",
       "    .dataframe thead th {\n",
       "        text-align: right;\n",
       "    }\n",
       "</style>\n",
       "<table border=\"1\" class=\"dataframe\">\n",
       "  <thead>\n",
       "    <tr style=\"text-align: right;\">\n",
       "      <th></th>\n",
       "      <th>id</th>\n",
       "      <th>visitors</th>\n",
       "    </tr>\n",
       "  </thead>\n",
       "  <tbody>\n",
       "    <tr>\n",
       "      <th>0</th>\n",
       "      <td>air_00a91d42b08b08d9_2017-04-23</td>\n",
       "      <td>0</td>\n",
       "    </tr>\n",
       "    <tr>\n",
       "      <th>1</th>\n",
       "      <td>air_00a91d42b08b08d9_2017-04-24</td>\n",
       "      <td>0</td>\n",
       "    </tr>\n",
       "    <tr>\n",
       "      <th>2</th>\n",
       "      <td>air_00a91d42b08b08d9_2017-04-25</td>\n",
       "      <td>0</td>\n",
       "    </tr>\n",
       "    <tr>\n",
       "      <th>3</th>\n",
       "      <td>air_00a91d42b08b08d9_2017-04-26</td>\n",
       "      <td>0</td>\n",
       "    </tr>\n",
       "    <tr>\n",
       "      <th>4</th>\n",
       "      <td>air_00a91d42b08b08d9_2017-04-27</td>\n",
       "      <td>0</td>\n",
       "    </tr>\n",
       "  </tbody>\n",
       "</table>\n",
       "</div>"
      ],
      "text/plain": [
       "                                id  visitors\n",
       "0  air_00a91d42b08b08d9_2017-04-23         0\n",
       "1  air_00a91d42b08b08d9_2017-04-24         0\n",
       "2  air_00a91d42b08b08d9_2017-04-25         0\n",
       "3  air_00a91d42b08b08d9_2017-04-26         0\n",
       "4  air_00a91d42b08b08d9_2017-04-27         0"
      ]
     },
     "execution_count": 10,
     "metadata": {},
     "output_type": "execute_result"
    }
   ],
   "source": [
    "sample_submission.head()"
   ]
  },
  {
   "cell_type": "markdown",
   "metadata": {},
   "source": [
    "## 数据合并"
   ]
  },
  {
   "cell_type": "code",
   "execution_count": 11,
   "metadata": {
    "ExecuteTime": {
     "end_time": "2020-07-04T04:35:12.457289Z",
     "start_time": "2020-07-04T04:35:12.329362Z"
    }
   },
   "outputs": [
    {
     "data": {
      "text/plain": [
       "71"
      ]
     },
     "execution_count": 11,
     "metadata": {},
     "output_type": "execute_result"
    }
   ],
   "source": [
    "sample_submission['air_store_id'] = sample_submission['id'].apply(lambda x: x[:-11]).values\n",
    "sample_submission['visit_date'] = sample_submission['id'].apply(lambda x: x[-10:]).values\n",
    "\n",
    "del sample_submission['id']\n",
    "gc.collect()"
   ]
  },
  {
   "cell_type": "code",
   "execution_count": 12,
   "metadata": {
    "ExecuteTime": {
     "end_time": "2020-07-04T04:35:12.766113Z",
     "start_time": "2020-07-04T04:35:12.459287Z"
    }
   },
   "outputs": [
    {
     "data": {
      "text/plain": [
       "0"
      ]
     },
     "execution_count": 12,
     "metadata": {},
     "output_type": "execute_result"
    }
   ],
   "source": [
    "df_meta = pd.concat([air_visit_data, sample_submission],\n",
    "                    axis=0,\n",
    "                    ignore_index=True)\n",
    "\n",
    "# 合并date_info\n",
    "df_meta = df_meta.merge(date_info,\n",
    "                        left_on=['visit_date'],\n",
    "                        right_on=['calendar_date'],\n",
    "                        how='left')\n",
    "# 合并air_store_info\n",
    "df_meta = df_meta.merge(air_store_info,\n",
    "                        on=['air_store_id'],\n",
    "                        how='left')\n",
    "\n",
    "del df_meta['calendar_date'], df_meta['day_of_week']\n",
    "gc.collect()"
   ]
  },
  {
   "cell_type": "code",
   "execution_count": 13,
   "metadata": {
    "ExecuteTime": {
     "end_time": "2020-07-04T04:35:13.396407Z",
     "start_time": "2020-07-04T04:35:12.769112Z"
    }
   },
   "outputs": [],
   "source": [
    "df_meta['visit_date'] = pd.to_datetime(df_meta['visit_date'])\n",
    "df_meta['weekday'] = df_meta['visit_date'].dt.weekday\n",
    "df_meta['air_store_id_weekday'] = df_meta['air_store_id'].astype(str) + '_' + df_meta['weekday'].astype(str)"
   ]
  },
  {
   "cell_type": "code",
   "execution_count": 14,
   "metadata": {
    "ExecuteTime": {
     "end_time": "2020-07-04T04:35:14.686704Z",
     "start_time": "2020-07-04T04:35:13.398407Z"
    }
   },
   "outputs": [
    {
     "data": {
      "text/html": [
       "<div>\n",
       "<style scoped>\n",
       "    .dataframe tbody tr th:only-of-type {\n",
       "        vertical-align: middle;\n",
       "    }\n",
       "\n",
       "    .dataframe tbody tr th {\n",
       "        vertical-align: top;\n",
       "    }\n",
       "\n",
       "    .dataframe thead th {\n",
       "        text-align: right;\n",
       "    }\n",
       "</style>\n",
       "<table border=\"1\" class=\"dataframe\">\n",
       "  <thead>\n",
       "    <tr style=\"text-align: right;\">\n",
       "      <th></th>\n",
       "      <th>air_store_id</th>\n",
       "      <th>visit_date</th>\n",
       "      <th>visitors</th>\n",
       "      <th>holiday_flg</th>\n",
       "      <th>air_genre_name</th>\n",
       "      <th>air_area_name</th>\n",
       "      <th>latitude</th>\n",
       "      <th>longitude</th>\n",
       "      <th>weekday</th>\n",
       "      <th>air_store_id_weekday</th>\n",
       "      <th>air_store_id_holiday</th>\n",
       "      <th>air_store_id_weekday_holiday</th>\n",
       "      <th>air_genre_name_weekday</th>\n",
       "      <th>air_genre_name_weekday_holiday</th>\n",
       "    </tr>\n",
       "  </thead>\n",
       "  <tbody>\n",
       "    <tr>\n",
       "      <th>0</th>\n",
       "      <td>air_ba937bf13d40fb24</td>\n",
       "      <td>2016-01-13</td>\n",
       "      <td>3.258097</td>\n",
       "      <td>0</td>\n",
       "      <td>Dining bar</td>\n",
       "      <td>Tōkyō-to Minato-ku Shibakōen</td>\n",
       "      <td>35.658068</td>\n",
       "      <td>139.751599</td>\n",
       "      <td>2</td>\n",
       "      <td>air_ba937bf13d40fb24_2</td>\n",
       "      <td>air_ba937bf13d40fb24_0</td>\n",
       "      <td>air_ba937bf13d40fb24_0_2</td>\n",
       "      <td>Tōkyō-to Minato-ku Shibakōen2</td>\n",
       "      <td>Tōkyō-to Minato-ku Shibakōen20</td>\n",
       "    </tr>\n",
       "    <tr>\n",
       "      <th>1</th>\n",
       "      <td>air_ba937bf13d40fb24</td>\n",
       "      <td>2016-01-14</td>\n",
       "      <td>3.496508</td>\n",
       "      <td>0</td>\n",
       "      <td>Dining bar</td>\n",
       "      <td>Tōkyō-to Minato-ku Shibakōen</td>\n",
       "      <td>35.658068</td>\n",
       "      <td>139.751599</td>\n",
       "      <td>3</td>\n",
       "      <td>air_ba937bf13d40fb24_3</td>\n",
       "      <td>air_ba937bf13d40fb24_0</td>\n",
       "      <td>air_ba937bf13d40fb24_0_3</td>\n",
       "      <td>Tōkyō-to Minato-ku Shibakōen3</td>\n",
       "      <td>Tōkyō-to Minato-ku Shibakōen30</td>\n",
       "    </tr>\n",
       "    <tr>\n",
       "      <th>2</th>\n",
       "      <td>air_ba937bf13d40fb24</td>\n",
       "      <td>2016-01-15</td>\n",
       "      <td>3.401197</td>\n",
       "      <td>0</td>\n",
       "      <td>Dining bar</td>\n",
       "      <td>Tōkyō-to Minato-ku Shibakōen</td>\n",
       "      <td>35.658068</td>\n",
       "      <td>139.751599</td>\n",
       "      <td>4</td>\n",
       "      <td>air_ba937bf13d40fb24_4</td>\n",
       "      <td>air_ba937bf13d40fb24_0</td>\n",
       "      <td>air_ba937bf13d40fb24_0_4</td>\n",
       "      <td>Tōkyō-to Minato-ku Shibakōen4</td>\n",
       "      <td>Tōkyō-to Minato-ku Shibakōen40</td>\n",
       "    </tr>\n",
       "    <tr>\n",
       "      <th>3</th>\n",
       "      <td>air_ba937bf13d40fb24</td>\n",
       "      <td>2016-01-16</td>\n",
       "      <td>3.135494</td>\n",
       "      <td>0</td>\n",
       "      <td>Dining bar</td>\n",
       "      <td>Tōkyō-to Minato-ku Shibakōen</td>\n",
       "      <td>35.658068</td>\n",
       "      <td>139.751599</td>\n",
       "      <td>5</td>\n",
       "      <td>air_ba937bf13d40fb24_5</td>\n",
       "      <td>air_ba937bf13d40fb24_0</td>\n",
       "      <td>air_ba937bf13d40fb24_0_5</td>\n",
       "      <td>Tōkyō-to Minato-ku Shibakōen5</td>\n",
       "      <td>Tōkyō-to Minato-ku Shibakōen50</td>\n",
       "    </tr>\n",
       "    <tr>\n",
       "      <th>4</th>\n",
       "      <td>air_ba937bf13d40fb24</td>\n",
       "      <td>2016-01-18</td>\n",
       "      <td>1.945910</td>\n",
       "      <td>0</td>\n",
       "      <td>Dining bar</td>\n",
       "      <td>Tōkyō-to Minato-ku Shibakōen</td>\n",
       "      <td>35.658068</td>\n",
       "      <td>139.751599</td>\n",
       "      <td>0</td>\n",
       "      <td>air_ba937bf13d40fb24_0</td>\n",
       "      <td>air_ba937bf13d40fb24_0</td>\n",
       "      <td>air_ba937bf13d40fb24_0_0</td>\n",
       "      <td>Tōkyō-to Minato-ku Shibakōen0</td>\n",
       "      <td>Tōkyō-to Minato-ku Shibakōen00</td>\n",
       "    </tr>\n",
       "  </tbody>\n",
       "</table>\n",
       "</div>"
      ],
      "text/plain": [
       "           air_store_id visit_date  visitors  holiday_flg air_genre_name  \\\n",
       "0  air_ba937bf13d40fb24 2016-01-13  3.258097            0     Dining bar   \n",
       "1  air_ba937bf13d40fb24 2016-01-14  3.496508            0     Dining bar   \n",
       "2  air_ba937bf13d40fb24 2016-01-15  3.401197            0     Dining bar   \n",
       "3  air_ba937bf13d40fb24 2016-01-16  3.135494            0     Dining bar   \n",
       "4  air_ba937bf13d40fb24 2016-01-18  1.945910            0     Dining bar   \n",
       "\n",
       "                  air_area_name   latitude   longitude  weekday  \\\n",
       "0  Tōkyō-to Minato-ku Shibakōen  35.658068  139.751599        2   \n",
       "1  Tōkyō-to Minato-ku Shibakōen  35.658068  139.751599        3   \n",
       "2  Tōkyō-to Minato-ku Shibakōen  35.658068  139.751599        4   \n",
       "3  Tōkyō-to Minato-ku Shibakōen  35.658068  139.751599        5   \n",
       "4  Tōkyō-to Minato-ku Shibakōen  35.658068  139.751599        0   \n",
       "\n",
       "     air_store_id_weekday    air_store_id_holiday  \\\n",
       "0  air_ba937bf13d40fb24_2  air_ba937bf13d40fb24_0   \n",
       "1  air_ba937bf13d40fb24_3  air_ba937bf13d40fb24_0   \n",
       "2  air_ba937bf13d40fb24_4  air_ba937bf13d40fb24_0   \n",
       "3  air_ba937bf13d40fb24_5  air_ba937bf13d40fb24_0   \n",
       "4  air_ba937bf13d40fb24_0  air_ba937bf13d40fb24_0   \n",
       "\n",
       "  air_store_id_weekday_holiday         air_genre_name_weekday  \\\n",
       "0     air_ba937bf13d40fb24_0_2  Tōkyō-to Minato-ku Shibakōen2   \n",
       "1     air_ba937bf13d40fb24_0_3  Tōkyō-to Minato-ku Shibakōen3   \n",
       "2     air_ba937bf13d40fb24_0_4  Tōkyō-to Minato-ku Shibakōen4   \n",
       "3     air_ba937bf13d40fb24_0_5  Tōkyō-to Minato-ku Shibakōen5   \n",
       "4     air_ba937bf13d40fb24_0_0  Tōkyō-to Minato-ku Shibakōen0   \n",
       "\n",
       "   air_genre_name_weekday_holiday  \n",
       "0  Tōkyō-to Minato-ku Shibakōen20  \n",
       "1  Tōkyō-to Minato-ku Shibakōen30  \n",
       "2  Tōkyō-to Minato-ku Shibakōen40  \n",
       "3  Tōkyō-to Minato-ku Shibakōen50  \n",
       "4  Tōkyō-to Minato-ku Shibakōen00  "
      ]
     },
     "execution_count": 14,
     "metadata": {},
     "output_type": "execute_result"
    }
   ],
   "source": [
    "df_meta['air_store_id_holiday'] = df_meta['air_store_id'].astype(str) + '_' + df_meta['holiday_flg'].astype(str)\n",
    "df_meta['air_store_id_weekday_holiday'] = df_meta['air_store_id_holiday'].astype(str) + '_' + df_meta['weekday'].astype(str)\n",
    "\n",
    "df_meta['air_genre_name_weekday'] = df_meta['air_area_name'].astype(str) + df_meta['weekday'].astype(str)\n",
    "df_meta['air_genre_name_weekday_holiday'] = df_meta['air_genre_name_weekday'].astype(str) + df_meta['holiday_flg'].astype(str)\n",
    "df_meta['visitors'] = df_meta['visitors'].apply(np.log1p).values\n",
    "\n",
    "df_meta.head()"
   ]
  },
  {
   "cell_type": "code",
   "execution_count": 15,
   "metadata": {
    "ExecuteTime": {
     "end_time": "2020-07-04T04:35:16.450663Z",
     "start_time": "2020-07-04T04:35:14.689686Z"
    }
   },
   "outputs": [],
   "source": [
    "air_reserve['visit_date'] = air_reserve['visit_datetime'].apply(lambda x: x.split(' ')[0]).values\n",
    "air_reserve['air_store_id_visit_date'] = air_reserve['air_store_id'] + '_' + air_reserve['visit_datetime'].astype(str)\n",
    "\n",
    "air_reserve['visit_datetime'] = pd.to_datetime(air_reserve['visit_datetime'])\n",
    "air_reserve['reserve_datetime'] = pd.to_datetime(air_reserve['reserve_datetime'])\n",
    "\n",
    "hpg_reserve['visit_date'] = hpg_reserve['visit_datetime'].apply(lambda x: x.split(' ')[0]).values\n",
    "\n",
    "hpg_to_air_storeid = store_id_relation.set_index('hpg_store_id')\n",
    "hpg_reserve['air_store_id'] = hpg_reserve['hpg_store_id'].map(hpg_to_air_storeid['air_store_id']).values\n",
    "hpg_air_reserve = hpg_reserve.loc[hpg_reserve.air_store_id.notnull()]\n",
    "\n",
    "hpg_air_reserve['air_store_id_visit_date'] = hpg_air_reserve['air_store_id'] + '_' + hpg_air_reserve['visit_date'].astype(str)\n",
    "hpg_air_reserve['visit_datetime'] = pd.to_datetime(hpg_air_reserve['visit_datetime'])\n",
    "hpg_air_reserve['reserve_datetime'] = pd.to_datetime(hpg_air_reserve['reserve_datetime'])"
   ]
  },
  {
   "cell_type": "markdown",
   "metadata": {},
   "source": [
    "# 特征工程\n",
    "## 一阶特征\n",
    "### store_id的特征"
   ]
  },
  {
   "cell_type": "markdown",
   "metadata": {},
   "source": [
    "1. store_id的基础信息，包括类型，地址，经纬度\n",
    "2. store_id的开业天数，开业到现在的时间，最后一天有顾客到现在的时间"
   ]
  },
  {
   "cell_type": "code",
   "execution_count": 16,
   "metadata": {
    "ExecuteTime": {
     "end_time": "2020-07-04T04:35:16.467640Z",
     "start_time": "2020-07-04T04:35:16.452649Z"
    }
   },
   "outputs": [],
   "source": [
    "def get_storeid_fea(df_visit_data, df_store_info, df_store_id_relation):\n",
    "    df_storeid = df_store_info.copy()\n",
    "    \n",
    "    df_storeid['air_genre_name'] = LabelEncoder().fit_transform(df_storeid['air_genre_name'].values)\n",
    "    df_storeid['air_area_name'] = LabelEncoder().fit_transform(df_storeid['air_area_name'].values)\n",
    "    \n",
    "    first_day_dict = df_visit_data.groupby(['air_store_id'])['visit_date'].min().to_dict()\n",
    "    last_day_dict = df_visit_data.groupby(['air_store_id'])['visit_date'].max().to_dict()\n",
    "    run_days_dict = df_visit_data.groupby(['air_store_id'])['visit_date'].nunique().to_dict()\n",
    "    \n",
    "    df_storeid['first_day_to_now'] = df_storeid['air_store_id'].map(first_day_dict).values\n",
    "    df_storeid['first_day_to_now'] = df_storeid['first_day_to_now'].apply(lambda x: (parse('2017-04-22') - parse(x)).days)\n",
    "    \n",
    "    df_storeid['last_day_to_now'] = df_storeid['air_store_id'].map(last_day_dict).values\n",
    "    df_storeid['last_day_to_now'] = df_storeid['last_day_to_now'].apply(lambda x: (parse('2017-04-22') - parse(x)).days)\n",
    "    \n",
    "    df_storeid['run_days'] = df_storeid['air_store_id'].map(run_days_dict).values\n",
    "    df_storeid['two_systems'] = df_storeid['air_store_id'].isin(df_store_id_relation['air_store_id']).values\n",
    "    df_storeid['two_systems'] = df_storeid['two_systems'].astype(int)\n",
    "    \n",
    "    return df_storeid"
   ]
  },
  {
   "cell_type": "code",
   "execution_count": 17,
   "metadata": {
    "ExecuteTime": {
     "end_time": "2020-07-04T04:35:17.151258Z",
     "start_time": "2020-07-04T04:35:16.471635Z"
    }
   },
   "outputs": [],
   "source": [
    "df_storeid = get_storeid_fea(air_visit_data, air_store_info, store_id_relation)"
   ]
  },
  {
   "cell_type": "markdown",
   "metadata": {},
   "source": [
    "### date的特征\n",
    "1. 星期几\n",
    "2. 是否节假日\n",
    "3. 距离月末，月初的时间\n",
    "4. 距离最近的节假日的时间"
   ]
  },
  {
   "cell_type": "code",
   "execution_count": 18,
   "metadata": {
    "ExecuteTime": {
     "end_time": "2020-07-04T04:35:17.166250Z",
     "start_time": "2020-07-04T04:35:17.153257Z"
    }
   },
   "outputs": [],
   "source": [
    "def get_last_next_holiday(dates, holiday_flags):\n",
    "    last_holiday = []\n",
    "    next_holiday = []\n",
    "    len_ = len(dates)\n",
    "    for i, (d, f) in enumerate(zip(dates, holiday_flags)):\n",
    "        if i == 0:\n",
    "            last_holiday.append(dates[i])\n",
    "        else:\n",
    "            # last holiday\n",
    "            last_flag = 0\n",
    "            for j in range(i - 1, 0, -1):\n",
    "                if holiday_flags[j] == 1:\n",
    "                    last_holiday.append(dates[j])\n",
    "                    last_flag = 1\n",
    "                    break\n",
    "            if last_flag == 0:\n",
    "                last_holiday.append(dates[0])\n",
    "                \n",
    "        # next holiday\n",
    "        next_flag = 0\n",
    "        for j in range(i + 1, len_):\n",
    "            if holiday_flags[j] == 1:\n",
    "                next_holiday.append(dates[j])\n",
    "                next_flag = 1\n",
    "                break\n",
    "        if next_flag == 0:\n",
    "            next_holiday.append(dates[-1])\n",
    "    return last_holiday, next_holiday"
   ]
  },
  {
   "cell_type": "code",
   "execution_count": 19,
   "metadata": {
    "ExecuteTime": {
     "end_time": "2020-07-04T04:35:17.176243Z",
     "start_time": "2020-07-04T04:35:17.169248Z"
    }
   },
   "outputs": [],
   "source": [
    "def get_days_to_month_end(x):\n",
    "    month = int(x.split('-')[1])\n",
    "    day = int(x.split('-')[2])\n",
    "    if month in [1, 3, 5, 7, 8, 10, 12]:\n",
    "        return 31 - day\n",
    "    elif month in [2]:\n",
    "        return 28 - day\n",
    "    else:\n",
    "        return 30 - day"
   ]
  },
  {
   "cell_type": "code",
   "execution_count": 20,
   "metadata": {
    "ExecuteTime": {
     "end_time": "2020-07-04T04:35:17.198231Z",
     "start_time": "2020-07-04T04:35:17.179243Z"
    }
   },
   "outputs": [],
   "source": [
    "def get_time_fea(df_date_info):\n",
    "    df_date = df_date_info.copy()\n",
    "    df_date['day_to_month_end'] = df_date['calendar_date'].apply(lambda x: get_days_to_month_end(x)).values\n",
    "    df_date['day_to_month_start'] = df_date['calendar_date'].apply(lambda x: int(x.split('-')[0])).values\n",
    "    \n",
    "    df_date['day_of_week'] = df_date['calendar_date'].apply(lambda x: parse(x).weekday()).values\n",
    "    df_date['is_weekend'] = df_date['day_of_week'].apply(lambda x: x > 4).values\n",
    "    \n",
    "    last_holiday, next_holiday = get_last_next_holiday(df_date['calendar_date'].values, df_date['holiday_flg'].values)\n",
    "    df_date['last_holiday'] = last_holiday\n",
    "    df_date['next_holiday'] = next_holiday\n",
    "\n",
    "    df_date['day_to_last_holiday'] = (df_date['calendar_date'].apply(lambda x: parse(x))\n",
    "                                      - df_date['last_holiday'].apply(lambda x: parse(x)))\n",
    "    df_date['day_to_last_holiday'] = df_date['day_to_last_holiday'].apply(lambda x: x.days).values\n",
    "    \n",
    "    df_date['day_to_next_holiday'] = (df_date['next_holiday'].apply(lambda x: parse(x))\n",
    "                                      - df_date['calendar_date'].apply(lambda x: parse(x)))\n",
    "    df_date['day_to_next_holiday'] = df_date['day_to_next_holiday'].apply(lambda x: x.days).values\n",
    "    \n",
    "    df_date.rename(columns={'calendar_date': 'visit_date'}, inplace=True)\n",
    "    \n",
    "    df_date['visit_date'] = pd.to_datetime(df_date['visit_date'])\n",
    "    for i in [3, 2, 1, -1]:\n",
    "        date_info_temp = df_date.copy()\n",
    "        date_info_temp['visit_date'] = date_info_temp['visit_date'].apply(lambda x: x + timedelta(i))\n",
    "        date_info_temp.rename(columns={'holiday_flg': 'ahead_holiday_{}'.format(i)},\n",
    "                              inplace=True)\n",
    "        \n",
    "        df_date = df_date.merge(date_info_temp[['visit_date', 'ahead_holiday_{}'.format(i)]],\n",
    "                                on=['visit_date'],\n",
    "                                how='left')\n",
    "    del df_date['last_holiday'], df_date['next_holiday']\n",
    "    gc.collect()\n",
    "    return df_date"
   ]
  },
  {
   "cell_type": "code",
   "execution_count": 21,
   "metadata": {
    "ExecuteTime": {
     "end_time": "2020-07-04T04:35:17.535040Z",
     "start_time": "2020-07-04T04:35:17.201230Z"
    }
   },
   "outputs": [],
   "source": [
    "df_date = get_time_fea(date_info)"
   ]
  },
  {
   "cell_type": "markdown",
   "metadata": {},
   "source": [
    "## 二阶特征：store_id & day"
   ]
  },
  {
   "cell_type": "markdown",
   "metadata": {},
   "source": [
    "因为day这个东西只有一个,而且未来和之前的是不一致的,那么做特征的时候就需要找day相关的属性,同样的store_id的属性也可以构建特征"
   ]
  },
  {
   "cell_type": "markdown",
   "metadata": {},
   "source": [
    "### store_id+day(related特征/holiday/weekday)"
   ]
  },
  {
   "cell_type": "code",
   "execution_count": 22,
   "metadata": {
    "ExecuteTime": {
     "end_time": "2020-07-04T04:35:17.546034Z",
     "start_time": "2020-07-04T04:35:17.538037Z"
    }
   },
   "outputs": [],
   "source": [
    "def get_st_date(en_date, days):\n",
    "    # st_date <= date < end_date\n",
    "    st_date = en_date - timedelta(days)\n",
    "    return st_date\n",
    "\n",
    "def get_label_st_date(st_date, days):\n",
    "    # st_date <= date < end_date\n",
    "    end_date = st_date + timedelta(days)\n",
    "    return st_date, end_date\n",
    "\n",
    "def get_df_label(df, date, days=39, is_te=False):\n",
    "    st_date, en_date = get_label_st_date(date, days)\n",
    "    print('label date, ', st_date, en_date)\n",
    "    ind1 = df['visit_date'] < en_date\n",
    "    ind2 = df['visit_date'] >= st_date\n",
    "    if is_te:\n",
    "        return df.loc[(ind2), ['air_store_id', 'visit_date', 'air_store_id_holiday',\n",
    "                               'air_genre_name', 'air_genre_name_weekday', 'air_genre_name_weekday_holiday']].copy()\n",
    "    return df.loc[(ind1 & ind2), ['air_store_id', 'visit_date', 'air_store_id_holiday',\n",
    "                                  'air_genre_name', 'air_genre_name_weekday', 'air_genre_name_weekday_holiday', 'visitors']].copy()"
   ]
  },
  {
   "cell_type": "markdown",
   "metadata": {},
   "source": [
    "### 特征工程1：visitors相关特征\n",
    "#### air_store_id+visitors特征（recent days）"
   ]
  },
  {
   "cell_type": "markdown",
   "metadata": {},
   "source": [
    "最近$N(N=14,28,56,1000)$天air_store_id的统计特征"
   ]
  },
  {
   "cell_type": "code",
   "execution_count": 23,
   "metadata": {
    "ExecuteTime": {
     "end_time": "2020-07-04T04:35:17.566022Z",
     "start_time": "2020-07-04T04:35:17.554028Z"
    }
   },
   "outputs": [],
   "source": [
    "def get_store_id_visitors_sts_features(df, en_date, key = 'air_store_id', date_col = 'visit_date',  days_list = [1000, 56, 28, 14,]):\n",
    "    t0 = time()\n",
    "    df_features       = pd.DataFrame()\n",
    "    df_features[key]  = df[key].unique()\n",
    "\n",
    "    df_tmp            = df.copy()\n",
    "    #######################  Recent days sts features #######################\n",
    "    for days in days_list:\n",
    "        st_date           = get_st_date(en_date, days) \n",
    "        df_tmp            = df_tmp.loc[((df[date_col] >= st_date) &  (df[date_col] < en_date))].copy() \n",
    "        df_features_tmp   = df_tmp.groupby([key], as_index=False)['visitors'].agg({\n",
    "            '{}_visitors_min_{}'.format(key,days): 'min',\n",
    "            '{}_visitors_mean_{}'.format(key,days): 'mean',\n",
    "            '{}_visitors_sum_{}'.format(key,days): 'sum',\n",
    "            '{}_visitors_median_{}'.format(key,days): 'median',\n",
    "            '{}_visitors_max_{}'.format(key,days): 'max',\n",
    "            '{}_visitors_count_{}'.format(key,days): 'count',\n",
    "            '{}_visitors_std_{}'.format(key,days): 'std',\n",
    "            '{}_visitors_quantile_{}'.format(key,days): 'quantile',\n",
    "            '{}_visitors_skew_{}'.format(key,days): 'skew'\n",
    "        }) \n",
    "        df_features  = df_features.merge(df_features_tmp, on =key, how = 'left')\n",
    "    print('For store id sts features, we spend {} seconds.'.format(time() - t0)) \n",
    "\n",
    "    return df_features"
   ]
  },
  {
   "cell_type": "markdown",
   "metadata": {},
   "source": [
    "#### air_store_id + visitors diff特征(recent days)\n",
    "最近N(N=28,56,1000)天的趋势统计特征"
   ]
  },
  {
   "cell_type": "code",
   "execution_count": 24,
   "metadata": {
    "ExecuteTime": {
     "end_time": "2020-07-04T04:35:17.593006Z",
     "start_time": "2020-07-04T04:35:17.571020Z"
    }
   },
   "outputs": [],
   "source": [
    "def get_store_id_visitors_diff_sts_features(df, en_date, key='air_store_id', date_col='visit_date',\n",
    "                                            days_list=[1000, 56, 28]):\n",
    "    t0 = time()\n",
    "    df_features = pd.DataFrame()\n",
    "    df_features[key] = df[key].unique()\n",
    "    for days in days_list:\n",
    "        df_tmp = df.copy()\n",
    "        st_date = get_st_date(en_date, days)\n",
    "        df_tmp = df_tmp.loc[((df[date_col] >= st_date) & (df[date_col] < en_date))].copy()\n",
    "        \n",
    "        df_old_tmp = df_tmp.copy()\n",
    "        df_old_tmp[date_col] = df_tmp[date_col].apply(lambda x: x + timedelta(1)).values  # 前一天\n",
    "        df_old_tmp.rename(columns={'visitors': 'visitors_yesterday'},\n",
    "                          inplace=True)\n",
    "        df_tmp = df_tmp.merge(df_old_tmp[[key, date_col, 'visitors_yesterday']],\n",
    "                              on=[key, date_col],\n",
    "                              how='left')\n",
    "        df_tmp['visitors_diff']  =df_tmp['visitors'].values - df_tmp['visitors_yesterday'].values\n",
    "        \n",
    "        df_tmp = df_tmp.loc[df_tmp['visitors_diff'].notnull()]\n",
    "        \n",
    "        df_features_tmp = df_tmp.groupby([key], as_index=False)['visitors_diff'].agg({\n",
    "            '{}_visitors_diff_min_{}'.format(key, days): 'min',\n",
    "            '{}_visitors_diff_mean_{}'.format(key, days): 'mean',\n",
    "            '{}_visitors_diff_median_{}'.format(key, days): 'median',\n",
    "            '{}_visitors_diff_sum_{}'.format(key, days): 'sum',\n",
    "            '{}_visitors_diff_max_{}'.format(key, days): 'max',\n",
    "            '{}_visitors_diff_count_{}'.format(key, days): 'count',\n",
    "            '{}_visitors_diff_std_{}'.format(key, days): 'std',\n",
    "            '{}_visitors_diff_quantile_{}'.format(key, days): 'quantile',\n",
    "            '{}_visitors_diff_skew_{}'.format(key, days): 'skew',\n",
    "        })\n",
    "        \n",
    "        df_tmp['visitors_diff_abs'] = df_tmp['visitors_diff'].map(abs).values\n",
    "        df_features_tmp2 = df_tmp.groupby([key], as_index=False)['visitors_diff_abs'].agg({'{}_visitors_diff_abs_mean_{}'.format(key, days): 'mean'})\n",
    "        \n",
    "        df_features = df_features.merge(df_features_tmp, on=key, how='left')\n",
    "        df_features = df_features.merge(df_features_tmp2, on=key, how='left')\n",
    "    print('For store id diff sts features, we spend {} seconds.'.format(time() - t0))\n",
    "    \n",
    "    return df_features"
   ]
  },
  {
   "cell_type": "markdown",
   "metadata": {},
   "source": [
    "#### air_store_id + weekday + visitors特征(周期特征)\n",
    "过去每段时间的工作日的的统计特征"
   ]
  },
  {
   "cell_type": "code",
   "execution_count": 25,
   "metadata": {
    "ExecuteTime": {
     "end_time": "2020-07-04T04:35:17.612995Z",
     "start_time": "2020-07-04T04:35:17.597004Z"
    }
   },
   "outputs": [],
   "source": [
    "def get_weekday_visitors_sts_features(df, key, end_date,\n",
    "                                      date_col='visit_date', val_name='visitor'):\n",
    "    df_features = pd.DataFrame()\n",
    "    df_features[key] = df[key].unique()\n",
    "    \n",
    "    ind1 = df[date_col] < end_date\n",
    "    for i in [4, 8, 12, 100]:\n",
    "        t_st_date = end_date - timedelta(7 * i)\n",
    "        ind2 = df[date_col] >= t_st_date\n",
    "        df_grp = df.loc[(ind1 & ind2)].groupby(key)\n",
    "        dic_mean = df_grp[val_name].mean().to_dict()\n",
    "        dic_std = df_grp[val_name].std().to_dict()\n",
    "        dic_max = df_grp[val_name].max().to_dict()\n",
    "        dic_min = df_grp[val_name].min().to_dict()\n",
    "        dic_count = df_grp[val_name].count().to_dict()\n",
    "        dic_sum = df_grp[val_name].sum().to_dict()\n",
    "        dic_quantile = df_grp[val_name].quantile().to_dict()\n",
    "        \n",
    "        df_features['{}_weekdays_mean_{}_{}'.format(key, i + 1, val_name)] = df_features[key].map(dic_mean).values\n",
    "        df_features['{}_weekdays_std_{}_{}'.format(key, i + 1, val_name)] = df_features[key].map(dic_std).values\n",
    "        df_features['{}_weekdays_max_{}_{}'.format(key, i + 1, val_name)] = df_features[key].map(dic_max).values\n",
    "        df_features['{}_weekdays_min_{}_{}'.format(key, i + 1, val_name)] = df_features[key].map(dic_min).values\n",
    "        df_features['{}_weekdays_count_{}_{}'.format(key, i + 1, val_name)] = df_features[key].map(dic_count).values\n",
    "        df_features['{}_weekdays_sum_{}_{}'.format(key, i + 1, val_name)] = df_features[key].map(dic_sum).values\n",
    "        df_features['{}_weekdays_quantile_{}_{}'.format(key, i + 1, val_name)] = df_features[key].map(dic_quantile).values\n",
    "        df_features['{}_weekdays_gap_{}_{}'.format(key, i + 1, val_name)] = (df_features['{}_weekdays_max_{}_{}'.format(key, i + 1, val_name)] -\n",
    "                                                                             df_features['{}_weekdays_min_{}_{}'.format(key, i + 1, val_name)])\n",
    "        \n",
    "        return df_features"
   ]
  },
  {
   "cell_type": "markdown",
   "metadata": {},
   "source": [
    "#### air_store_id + weekday + visitors diff特征(周期特征)\n",
    "过去每段时间的工作日的差值统计特征"
   ]
  },
  {
   "cell_type": "code",
   "execution_count": 26,
   "metadata": {
    "ExecuteTime": {
     "end_time": "2020-07-04T04:35:17.643977Z",
     "start_time": "2020-07-04T04:35:17.615993Z"
    }
   },
   "outputs": [],
   "source": [
    "\n",
    "def get_weekday_visitors_diff_sts_features(df, key, end_date, date_col='visit_date', val_name='visitors'): \n",
    "    df_features = pd.DataFrame() \n",
    "    df_features[key] = df[key].unique()\n",
    "\n",
    "    ind1 = df[date_col] < end_date  \n",
    "    # 最近每周的情况\n",
    "    for i in [4, 8, 12, 100]:\n",
    "        t_st_date = end_date - timedelta(7 * i) \n",
    "        ind2 = df[date_col] >= t_st_date \n",
    "\n",
    "        df_tmp = df.loc[ind1 & ind2].copy() \n",
    "\n",
    "        df_old_tmp = df_tmp.copy()\n",
    "        df_old_tmp[date_col] = df_tmp[date_col].apply(lambda x: x + timedelta(7)).values\n",
    "        df_old_tmp.rename(columns={'visitors':'visitors_lastweek'},\n",
    "                          inplace=True)\n",
    "        df_tmp = df_tmp.merge(df_old_tmp[[key, date_col, 'visitors_lastweek']],\n",
    "                              on=[key, date_col],\n",
    "                              how='left')\n",
    "        df_tmp['visitors_diff'] = df_tmp['visitors'].values - df_tmp['visitors_lastweek'].values\n",
    "        df_tmp = df_tmp.loc[df_tmp['visitors_diff'].notnull()]\n",
    "\n",
    "        df_tmp['visitors_diff_abs'] = df_tmp['visitors_diff'].map(abs).values\n",
    "\n",
    "        df_grp              = df_tmp.groupby(key) \n",
    "        dic_mean            = df_grp['visitors_diff'].mean().to_dict()\n",
    "        dic_std             = df_grp['visitors_diff'].std().to_dict()\n",
    "        dic_max             = df_grp['visitors_diff'].max().to_dict()\n",
    "        dic_min             = df_grp['visitors_diff'].min().to_dict()\n",
    "        dic_count           = df_grp['visitors_diff'].count().to_dict()\n",
    "        dic_sum             = df_grp['visitors_diff'].sum().to_dict()   \n",
    "        dic_quantile        = df_grp['visitors_diff'].quantile().to_dict()   \n",
    "        dic_abs_mean        = df_grp['visitors_diff_abs'].mean().to_dict()   \n",
    "        \n",
    "        df_features['{}_weekday_quantile_{}_{}'.format(key, i+1, 'visitorsdiff')]  = df_features[key].map(dic_quantile).values \n",
    "        df_features['{}_weekday_mean_{}_{}'.format(key, i+1, 'visitorsdiff')]      = df_features[key].map(dic_mean).values \n",
    "        df_features['{}_weekday_std_{}_{}'.format(key, i+1, 'visitorsdiff')]       = df_features[key].map(dic_std).values \n",
    "        df_features['{}_weekday_max_{}_{}'.format(key, i+1, 'visitorsdiff')]       = df_features[key].map(dic_max).values \n",
    "        df_features['{}_weekday_min_{}_{}'.format(key, i+1, 'visitorsdiff')]       = df_features[key].map(dic_min).values \n",
    "        df_features['{}_weekday_count_{}_{}'.format(key, i+1, 'visitorsdiff')]     = df_features[key].map(dic_count).values \n",
    "        df_features['{}_weekday_sum_{}_{}'.format(key, i+1, 'visitorsdiff')]       = df_features[key].map(dic_sum).values  \n",
    "        df_features['{}_weekday_absmean_{}_{}'.format(key, i+1, 'visitorsdiff')]   = df_features[key].map(dic_abs_mean).values  \n",
    "\n",
    "    return df_features"
   ]
  },
  {
   "cell_type": "markdown",
   "metadata": {},
   "source": [
    "#### air_store_id + visitors exp特征(周期特征)\n",
    "加权指数衰减统计特征\n",
    "\n",
    "权重可以表示为店铺的运营的时间信息，所以记录一次即可"
   ]
  },
  {
   "cell_type": "code",
   "execution_count": 27,
   "metadata": {
    "ExecuteTime": {
     "end_time": "2020-07-04T04:35:17.664966Z",
     "start_time": "2020-07-04T04:35:17.647976Z"
    }
   },
   "outputs": [],
   "source": [
    "def get_store_id_visitors_exp_features(df, en_date, key='air_store_id', date_col='visit_date',  days_list = [1000]): #, 56, 28, 14,\n",
    "    t0 = time()\n",
    "    df_features       = pd.DataFrame()\n",
    "    df_features[key]  = df[key].unique()\n",
    "\n",
    "    df_tmp            = df.copy()\n",
    "    for weight in [0.9, 0.95, 0.975, 0.985]:\n",
    "\n",
    "        for days in days_list:\n",
    "            st_date            = get_st_date(en_date, days) \n",
    "            df_tmp             = df_tmp.loc[((df[date_col] >= st_date) &  (df[date_col] < en_date))].copy()\n",
    "\n",
    "            df_tmp['day_lags']        = df_tmp['visit_date'].apply(lambda x: (en_date - (x)).days)\n",
    "            df_tmp['weight']          = df_tmp['day_lags'].apply(lambda x: weight ** x)\n",
    "            df_tmp['visitors_weight'] = df_tmp['visitors'] * df_tmp['weight']\n",
    "\n",
    "\n",
    "            result1 = df_tmp.groupby([key], as_index=False)['visitors_weight'].agg({\n",
    "                '{}_exp_mean{}_w_{}'.format(key,days, weight): 'sum'\n",
    "            })\n",
    "            result2 = df_tmp.groupby([key], as_index=False)['weight'].agg({\n",
    "                '{}_exp_weight_sum{}_w_{}'.format(key,days, weight): 'sum'\n",
    "            })\n",
    "\n",
    "            result = result1.merge(result2, on=key, how='left')\n",
    "            result['{}_exp_mean2{}_w_{}'.format(key, days, weight)] = result['{}_exp_mean{}_w_{}'.format(key, days, weight)] / result['{}_exp_weight_sum{}_w_{}'.format(key, days, weight)]\n",
    "\n",
    "            if weight == 0.9:\n",
    "                df_features  = df_features.merge(result[['{}_exp_mean2{}_w_{}'.format(key, days, weight),'{}_exp_weight_sum{}_w_{}'.format(key, days, weight),key]], on =key, how = 'left')\n",
    "            else:\n",
    "                df_features  = df_features.merge(result[['{}_exp_mean2{}_w_{}'.format(key, days, weight),key]], on =key, how = 'left')\n",
    "    print('For store id exp features, we spend {} seconds.'.format(time() - t0)) \n",
    "\n",
    "    return df_features"
   ]
  },
  {
   "cell_type": "markdown",
   "metadata": {},
   "source": [
    "#### air_store_id + weekday + visitors exp特征(7)(周期特征)\n",
    "加权指数衰减(按周进行衰减)统计特征\n",
    "\n",
    "权重可以表示为店铺的运营的时间信息(周)，所以记录一次即可"
   ]
  },
  {
   "cell_type": "code",
   "execution_count": 28,
   "metadata": {
    "ExecuteTime": {
     "end_time": "2020-07-04T04:35:17.685953Z",
     "start_time": "2020-07-04T04:35:17.667964Z"
    }
   },
   "outputs": [],
   "source": [
    "def get_weekday_visitors_exp_sts_features(df, en_date, key, date_col = 'visit_date',  days_list = [1000]): #, 56, 28, 14,\n",
    "    t0 = time()\n",
    "    df_features       = pd.DataFrame()\n",
    "    df_features[key]  = df[key].unique()\n",
    "    \n",
    "    df_tmp            = df.copy()\n",
    "    for weight in [0.95, 0.975, 0.985]:\n",
    "    \n",
    "        for days in days_list:\n",
    "            st_date            = get_st_date(en_date, days) \n",
    "            df_tmp             = df_tmp.loc[((df[date_col] >= st_date) &  (df[date_col] < en_date))].copy()\n",
    "\n",
    "            df_tmp['day_lags']        = df_tmp['visit_date'].apply(lambda x: (en_date - (x)).days // 7)\n",
    "            df_tmp['weight']          = df_tmp['day_lags'].apply(lambda x: weight**x)\n",
    "            df_tmp['visitors_weight'] = df_tmp['visitors'] * df_tmp['weight']\n",
    "\n",
    "\n",
    "            result1 = df_tmp.groupby([key], as_index=False)['visitors_weight'].agg({'{}_exp_mean{}_{}'.format(key,days,weight): 'sum'})\n",
    "            result2 = df_tmp.groupby([key], as_index=False)['weight'].agg({'{}_exp_weight_sum{}_{}'.format(key,days,weight): 'sum'})\n",
    "\n",
    "            result = result1.merge(result2, on=key, how='left')\n",
    "            result['{}_exp_mean2{}_{}'.format(key,days,weight)] = result['{}_exp_mean{}_{}'.format(key,days,weight)]/result['{}_exp_weight_sum{}_{}'.format(key,days,weight)]\n",
    "            \n",
    "            df_features  = df_features.merge(result, on =key, how = 'left')\n",
    "    print('For store id exp features, we spend {} seconds.'.format(time() - t0)) \n",
    "    \n",
    "    return df_features"
   ]
  },
  {
   "cell_type": "markdown",
   "metadata": {},
   "source": [
    "#### air_store_id + holiday +visitors特征\n",
    "过去每个节假日的的统计特征"
   ]
  },
  {
   "cell_type": "code",
   "execution_count": 29,
   "metadata": {
    "ExecuteTime": {
     "end_time": "2020-07-04T04:35:17.708940Z",
     "start_time": "2020-07-04T04:35:17.689951Z"
    }
   },
   "outputs": [],
   "source": [
    "def get_holiday_visitors_sts_features(df, key, end_date, date_col = 'visit_date',val_name = 'visitors'): \n",
    "    df_features      = pd.DataFrame() \n",
    "    df_features[key] = df[key].unique() \n",
    "    ind1    = df[date_col] < end_date  \n",
    "    for i in [4,8,12,100]: \n",
    "        t_st_date           = end_date  - timedelta(7 * i) \n",
    "        ind2                = df[date_col]  >= t_st_date \n",
    "        df_grp              = df.loc[(ind1 & ind2)].groupby(key) \n",
    "        dic_mean            = df_grp[val_name].mean().to_dict()\n",
    "        dic_std             = df_grp[val_name].std().to_dict()\n",
    "        dic_max             = df_grp[val_name].max().to_dict()\n",
    "        dic_min             = df_grp[val_name].min().to_dict()\n",
    "        dic_count           = df_grp[val_name].count().to_dict()\n",
    "        dic_sum             = df_grp[val_name].sum().to_dict()   \n",
    "        df_features['{}_holiday_mean_{}_{}'.format(key, i+1, val_name)]  = df_features[key].map(dic_mean).values \n",
    "        df_features['{}_holiday_std_{}_{}'.format(key, i+1, val_name)]   = df_features[key].map(dic_std).values \n",
    "        df_features['{}_holiday_max_{}_{}'.format(key, i+1, val_name)]   = df_features[key].map(dic_max).values \n",
    "        df_features['{}_holiday_min_{}_{}'.format(key, i+1, val_name)]   = df_features[key].map(dic_min).values \n",
    "        df_features['{}_holiday_count_{}_{}'.format(key, i+1, val_name)] = df_features[key].map(dic_count).values \n",
    "        df_features['{}_holiday_sum_{}_{}'.format(key, i+1, val_name)]   = df_features[key].map(dic_sum).values  \n",
    "    return df_features"
   ]
  },
  {
   "cell_type": "markdown",
   "metadata": {},
   "source": [
    "#### air_store_id + weekday + holiday +visitors特征\n",
    "过去每个节假日与工作日的交叉统计特征"
   ]
  },
  {
   "cell_type": "code",
   "execution_count": 30,
   "metadata": {
    "ExecuteTime": {
     "end_time": "2020-07-04T04:35:17.730930Z",
     "start_time": "2020-07-04T04:35:17.713937Z"
    }
   },
   "outputs": [],
   "source": [
    "def get_weekday_holiday_visitors_sts_features(df, key, end_date, date_col = 'visit_date',val_name = 'visitors'): \n",
    "    df_features      = pd.DataFrame() \n",
    "    df_features[key] = df[key].unique() \n",
    "    ind1    = df[date_col] < end_date  \n",
    "    for i in [4,8,12,100]: \n",
    "        t_st_date           = end_date  - timedelta(7 * i) \n",
    "        ind2                = df[date_col]  >= t_st_date \n",
    "        df_grp              = df.loc[(ind1 & ind2)].groupby(key) \n",
    "        dic_mean            = df_grp[val_name].mean().to_dict()\n",
    "        dic_std             = df_grp[val_name].std().to_dict()\n",
    "        dic_max             = df_grp[val_name].max().to_dict()\n",
    "        dic_min             = df_grp[val_name].min().to_dict()\n",
    "        dic_quantile        = df_grp[val_name].quantile().to_dict()\n",
    "#         dic_count           = df_grp[val_name].count().to_dict()\n",
    "        dic_sum             = df_grp[val_name].sum().to_dict()   \n",
    "        df_features['{}_weekday_holiday_mean_{}_{}'.format(key, i+1, val_name)]       = df_features[key].map(dic_mean).values \n",
    "        df_features['{}_weekday_holiday_std_{}_{}'.format(key, i+1, val_name)]        = df_features[key].map(dic_std).values \n",
    "        df_features['{}_weekday_holiday_max_{}_{}'.format(key, i+1, val_name)]        = df_features[key].map(dic_max).values \n",
    "        df_features['{}_weekday_holiday_min_{}_{}'.format(key, i+1, val_name)]        = df_features[key].map(dic_min).values \n",
    "#         df_features['{}_weekday_holiday_count_{}_{}'.format(key, i+1, val_name)]    = df_features[key].map(dic_count).values \n",
    "        df_features['{}_weekday_holiday_sum_{}_{}'.format(key, i+1, val_name)]        = df_features[key].map(dic_sum).values  \n",
    "        df_features['{}_weekday_holiday_quantile_{}_{}'.format(key, i+1, val_name)]   = df_features[key].map(dic_quantile).values  \n",
    "    return df_features"
   ]
  },
  {
   "cell_type": "markdown",
   "metadata": {},
   "source": [
    "#### air_store_id + timediff\n",
    "过去每个商店关于时间的差值统计特征"
   ]
  },
  {
   "cell_type": "code",
   "execution_count": 31,
   "metadata": {
    "ExecuteTime": {
     "end_time": "2020-07-04T04:35:17.751916Z",
     "start_time": "2020-07-04T04:35:17.734927Z"
    }
   },
   "outputs": [],
   "source": [
    "\n",
    "def get_store_id_time_diff_sts_features(df, en_date, key = 'air_store_id', date_col = 'visit_date',  days_list = [1000, 56, 28]): #, 14,\n",
    "      \n",
    "    t0 = time()\n",
    "    df_features       = pd.DataFrame()\n",
    "    df_features[key]  = df[key].unique()\n",
    "    df = df.sort_values([key, date_col])\n",
    "    for days in days_list:\n",
    "        \n",
    "        df_tmp                = df.copy() \n",
    "        st_date               = get_st_date(en_date, days) \n",
    "        df_tmp                = df_tmp.loc[((df[date_col] >= st_date) &  (df[date_col] < en_date))].copy()\n",
    "        df_tmp                = df_tmp.sort_values([key, date_col])\n",
    "        df_tmp['time_diff']            = df_tmp.groupby(key)[date_col].diff().values\n",
    "        df_tmp['time_diff']            = df_tmp['time_diff'].apply(lambda x: x.days) \n",
    "         \n",
    "        df_tmp                 = df_tmp.loc[df_tmp['time_diff'].isnull() == False] \n",
    "        df_features_tmp   = df_tmp.groupby([key], as_index=False)['time_diff'].agg({\n",
    "            '{}_time_diff_min{}'.format(key,days): 'min',\n",
    "            '{}_time_diff_mean{}'.format(key,days): 'mean',\n",
    "            '{}_time_diff_median{}'.format(key,days): 'median',\n",
    "            '{}_time_diff_max{}'.format(key,days): 'max',\n",
    "            '{}_time_diff_std{}'.format(key,days): 'std',\n",
    "            '{}_time_diff_quantile{}'.format(key,days): 'quantile',\n",
    "            '{}_time_diff_skew{}'.format(key,days): 'skew'\n",
    "        }) \n",
    "        df_features  = df_features.merge(df_features_tmp, on =key, how = 'left')\n",
    "    print('For store id diff sts features, we spend {} seconds.'.format(time() - t0)) \n",
    "    \n",
    "    return df_features"
   ]
  },
  {
   "cell_type": "markdown",
   "metadata": {},
   "source": [
    "### 特征工程2（reserve相关特征）\n",
    "####  air_store_id + visit_date + timediff & reserve_visitors特征\n",
    "每天的预定的统计信息,包括预定人数以及时间差的统计信息"
   ]
  },
  {
   "cell_type": "code",
   "execution_count": 32,
   "metadata": {
    "ExecuteTime": {
     "end_time": "2020-07-04T04:35:17.776901Z",
     "start_time": "2020-07-04T04:35:17.755912Z"
    }
   },
   "outputs": [],
   "source": [
    "\n",
    "def get_store_date_reserve_features(df_air_reserves, df_hpg_reserves, en_date, days, key = 'air_store_id_visit_date'):\n",
    "    \n",
    "    t0 = time()\n",
    "    st_date,en_date = get_label_st_date(en_date, days) \n",
    "    \n",
    "    df_air_reserve  = df_air_reserves.loc[((df_air_reserves['visit_datetime']   < en_date) &\\\n",
    "                                           (df_air_reserves['visit_datetime']   >= st_date) &\\\n",
    "                                           (df_air_reserves['reserve_datetime'] < st_date))].copy()\n",
    "    \n",
    "    df_hpg_reserve  = df_hpg_reserves.loc[((df_hpg_reserves['visit_datetime']   < en_date) &\\\n",
    "                                           (df_hpg_reserves['visit_datetime']   >= st_date) &\\\n",
    "                                           (df_hpg_reserves['reserve_datetime'] < st_date))].copy()\n",
    "    \n",
    "    df_features       = pd.DataFrame()\n",
    "    df_features[key]  = df_air_reserve[key].unique()  \n",
    "    \n",
    "    try:  \n",
    "        df_air_reserve['time_diff']   = df_air_reserve['visit_datetime'] - df_air_reserve['reserve_datetime']\n",
    "        df_air_reserve['time_diff']   = df_air_reserve['time_diff'].apply(lambda x: x.days).values\n",
    "        df_air_timediff_fea = df_air_reserve.groupby(key, as_index = False)['time_diff'].agg({\n",
    "                                           'store_air_timediff_mean': 'mean',\n",
    "                                           'store_air_timediff_median': 'median',\n",
    "                                           'store_air_timediff_max': 'max',\n",
    "                                           'store_air_timediff_std': 'std'}) \n",
    "\n",
    "        df_air_reserve_fea = df_air_reserve.groupby(['air_store_id','visit_date'])['reserve_visitors'].agg({\n",
    "                                           'store_air_reserve_visitors_sum': 'sum',\n",
    "                                           'store_air_reserve_visitors_mean': 'mean',\n",
    "    #                                        'store_air_reserve_visitors_std': 'std',\n",
    "                                           'store_air_reserve_visitors_max': 'max',\n",
    "                                           'store_air_reserve_visitors_count': 'count',}) \n",
    "\n",
    "        df_air_reserve_fea          = df_air_reserve_fea.unstack().fillna(0).stack().reset_index()    \n",
    "        df_air_reserve_fea[key]     = df_air_reserve_fea['air_store_id'].astype(str) + '_' + df_air_reserve_fea['visit_date'].astype(str)\n",
    "        del df_air_reserve_fea['air_store_id']\n",
    "        del df_air_reserve_fea['visit_date']\n",
    "        df_features  = df_features.merge(df_air_timediff_fea, on =key, how = 'left')\n",
    "        df_features  = df_features.merge(df_air_reserve_fea,  on =key, how = 'left')\n",
    "\n",
    "    except:\n",
    "        pass\n",
    "    \n",
    "    try:\n",
    "        df_hpg_reserve['time_diff']   = df_hpg_reserve['visit_datetime'] - df_hpg_reserve['reserve_datetime']\n",
    "        df_hpg_reserve['time_diff']   = df_hpg_reserve['time_diff'].apply(lambda x: x.days).values\n",
    "        \n",
    "        df_hpg_timediff_fea = df_hpg_reserve.groupby(key, as_index = False)['time_diff'].agg({\n",
    "                                           'store_hpg_timediff_mean': 'mean',\n",
    "                                           'store_hpg_timediff_median': 'median',\n",
    "                                           'store_hpg_timediff_max': 'max',\n",
    "                                           'store_hpg_timediff_std': 'std',}) \n",
    "\n",
    "        df_hpg_reserve_fea = df_hpg_reserve.groupby(['air_store_id','visit_date'])['reserve_visitors'].agg({\n",
    "                                           'store_hpg_reserve_visitors_sum': 'sum',\n",
    "                                           'store_hpg_reserve_visitors_mean': 'mean',\n",
    "    #                                        'store_hpg_reserve_visitors_std': 'std',\n",
    "                                           'store_hpg_reserve_visitors_max': 'max',\n",
    "                                           'store_hpg_reserve_visitors_count': 'count',}) \n",
    "\n",
    "        df_hpg_reserve_fea = df_hpg_reserve_fea.unstack().fillna(0).stack().reset_index()    \n",
    "        df_hpg_reserve_fea[key]     = df_hpg_reserve_fea['air_store_id'].astype(str) + '_' + df_hpg_reserve_fea['visit_date'].astype(str)\n",
    "        del df_hpg_reserve_fea['air_store_id']\n",
    "        del df_hpg_reserve_fea['visit_date']\n",
    "        df_features  = df_features.merge(df_hpg_timediff_fea, on =key, how = 'left')\n",
    "        df_features  = df_features.merge(df_hpg_reserve_fea,  on =key, how = 'left')\n",
    "        \n",
    "    except:\n",
    "        pass\n",
    "    \n",
    "    print('For store id reserve visitors features, we spend {} seconds.'.format(time() - t0)) \n",
    "    \n",
    "    return df_features"
   ]
  },
  {
   "cell_type": "markdown",
   "metadata": {},
   "source": [
    "#### air_store_id + timediff & reserve_visitors特征\n",
    "整体的预定统计信息,包括预定人数以及时间差的统计信息"
   ]
  },
  {
   "cell_type": "code",
   "execution_count": 33,
   "metadata": {
    "ExecuteTime": {
     "end_time": "2020-07-04T04:35:17.798889Z",
     "start_time": "2020-07-04T04:35:17.780901Z"
    }
   },
   "outputs": [],
   "source": [
    "\n",
    "def get_store_reserve_features(df_air_reserves, df_hpg_reserves, en_date, days, key = 'air_store_id'):\n",
    "     \n",
    "    t0 = time()\n",
    "    \n",
    "    st_date,en_date = get_label_st_date(en_date, days) \n",
    "   \n",
    "    df_air_reserve  = df_air_reserves.loc[((df_air_reserves['visit_datetime']   < en_date)  &\\\n",
    "                                           (df_air_reserves['visit_datetime']   >= st_date) &\\\n",
    "                                           (df_air_reserves['reserve_datetime'] < st_date))].copy()\n",
    "    df_hpg_reserve  = df_hpg_reserves.loc[((df_hpg_reserves['visit_datetime']   < en_date)  &\\\n",
    "                                           (df_hpg_reserves['visit_datetime']   >= st_date) &\\\n",
    "                                           (df_hpg_reserves['reserve_datetime'] < st_date))].copy()\n",
    "    \n",
    "    \n",
    "    df_features       = pd.DataFrame()\n",
    "    df_features[key]  = df_air_reserve[key].unique()\n",
    "    \n",
    "    df_air_reserve['time_diff']   = df_air_reserve['visit_datetime'] - df_air_reserve['reserve_datetime']\n",
    "    df_air_reserve['time_diff']   = df_air_reserve['time_diff'].apply(lambda x: x.days)\n",
    "    \n",
    "    df_hpg_reserve['time_diff']   = df_hpg_reserve['visit_datetime'] - df_hpg_reserve['reserve_datetime']\n",
    "    df_hpg_reserve['time_diff']   = df_hpg_reserve['time_diff'].apply(lambda x: x.days)\n",
    "    \n",
    "    try:\n",
    "        df_air_timediff_fea = df_air_reserve.groupby(key, as_index = False)['time_diff'].agg({\n",
    "                                           'store2_air_timediff_mean': 'mean',\n",
    "                                           'store2_air_timediff_median': 'median',\n",
    "                                           'store2_air_timediff_max': 'max',\n",
    "                                           'store2_air_timediff_count': 'count',\n",
    "                                           'store2_air_timediff_std': 'std',}) \n",
    "\n",
    "        df_air_reserve_fea = df_air_reserve.groupby(key, as_index = False)['reserve_visitors'].agg({\n",
    "                                           'store2_air_reserve_visitors_sum': 'sum',\n",
    "                                           'store2_air_reserve_visitors_median': 'median',\n",
    "                                           'store2_air_reserve_visitors_mean': 'mean',\n",
    "                                           'store2_air_reserve_visitors_max': 'max',\n",
    "                                           'store2_air_reserve_visitors_count': 'count',\n",
    "                                           'store2_air_reserve_visitors_std': 'std',}) \n",
    "        df_features  = df_features.merge(df_air_timediff_fea, on =key, how = 'left')\n",
    "        df_features  = df_features.merge(df_air_reserve_fea,  on =key, how = 'left')\n",
    "        \n",
    "    except:\n",
    "        pass\n",
    "    try:\n",
    "        df_hpg_timediff_fea = df_hpg_reserve.groupby(key, as_index = False)['time_diff'].agg({\n",
    "                                           'store2_hpg_timediff_mean': 'mean',\n",
    "                                           'store2_hpg_timediff_median': 'median',\n",
    "                                           'store2_hpg_timediff_max': 'max',\n",
    "                                           'store2_hpg_timediff_count': 'count',\n",
    "                                           'store2_hpg_timediff_skew': 'skew',\n",
    "                                           'store2_hpg_timediff_std': 'std',}) \n",
    "\n",
    "        df_hpg_reserve_fea = df_hpg_reserve.groupby(key, as_index = False)['reserve_visitors'].agg({\n",
    "                                           'store2_hpg_reserve_visitors_sum': 'sum',\n",
    "                                           'store2_hpg_reserve_visitors_mean': 'mean',\n",
    "                                           'store2_hpg_reserve_visitors_median': 'median',\n",
    "                                           'store2_hpg_reserve_visitors_max': 'max',\n",
    "                                           'store2_hpg_reserve_visitors_count': 'count',\n",
    "                                           'store2_hpg_reserve_visitors_std': 'std',}) \n",
    "    \n",
    "        df_features  = df_features.merge(df_hpg_timediff_fea, on =key, how = 'left')\n",
    "        df_features  = df_features.merge(df_hpg_reserve_fea,  on =key, how = 'left')\n",
    "    except:\n",
    "        pass\n",
    "    \n",
    "    print('For store id reserve visitors features, we spend {} seconds.'.format(time() - t0)) \n",
    "    \n",
    "    return df_features"
   ]
  },
  {
   "cell_type": "markdown",
   "metadata": {},
   "source": [
    "#### visit_date + timediff & reserve_visitors特征\n",
    "每个时间段的统计信息,包括预定人数以及时间差的统计信息"
   ]
  },
  {
   "cell_type": "code",
   "execution_count": 34,
   "metadata": {
    "ExecuteTime": {
     "end_time": "2020-07-04T04:35:17.821875Z",
     "start_time": "2020-07-04T04:35:17.801887Z"
    }
   },
   "outputs": [],
   "source": [
    "def get_date_reserve_features(df_air_reserves, df_hpg_reserves, en_date, days, key = 'visit_date'):\n",
    "     \n",
    "    t0 = time()\n",
    "    st_date,en_date = get_label_st_date(en_date, days) \n",
    "\n",
    "    df_air_reserve  = df_air_reserves.loc[((df_air_reserves['visit_datetime'] < en_date)  &\\\n",
    "                                           (df_air_reserves['visit_datetime'] >= st_date) &\\\n",
    "                                           (df_air_reserves['reserve_datetime'] < st_date))].copy()\n",
    "    \n",
    "    df_hpg_reserve  = df_hpg_reserves.loc[((df_hpg_reserves['visit_datetime'] < en_date)  &\\\n",
    "                                           (df_hpg_reserves['visit_datetime'] >= st_date) &\\\n",
    "                                           (df_hpg_reserves['reserve_datetime'] < st_date))].copy()\n",
    "    \n",
    "    \n",
    "    df_features       = pd.DataFrame()\n",
    "    df_features[key]  = df_air_reserve[key].unique()\n",
    "    \n",
    "    df_air_reserve['time_diff']   = df_air_reserve['visit_datetime'] - df_air_reserve['reserve_datetime']\n",
    "    df_air_reserve['time_diff']   = df_air_reserve['time_diff'].apply(lambda x: x.days)\n",
    "    \n",
    "    df_hpg_reserve['time_diff']   = df_hpg_reserve['visit_datetime'] - df_hpg_reserve['reserve_datetime']\n",
    "    df_hpg_reserve['time_diff']   = df_hpg_reserve['time_diff'].apply(lambda x: x.days)\n",
    "    try:\n",
    "        df_air_timediff_fea = df_air_reserve.groupby(key, as_index = False)['time_diff'].agg({\n",
    "                                           'date_air_timediff_mean': 'mean',\n",
    "                                           'date_air_timediff_median': 'median',\n",
    "                                           'date_air_timediff_max': 'max',\n",
    "                                           'date_air_timediff_count': 'count',\n",
    "                                           'date_air_timediff_std': 'std',}) \n",
    "\n",
    "        df_air_reserve_fea = df_air_reserve.groupby(key, as_index = False)['reserve_visitors'].agg({\n",
    "                                           'date_air_reserve_visitors_sum': 'sum',\n",
    "                                           'date_air_reserve_visitors_median': 'median',\n",
    "                                           'date_air_reserve_visitors_max': 'max',\n",
    "                                           'date_air_reserve_visitors_count': 'count',\n",
    "                                           'date_air_reserve_visitors_std': 'std',}) \n",
    "        df_features  = df_features.merge(df_air_timediff_fea, on =key, how = 'left')\n",
    "        df_features  = df_features.merge(df_air_reserve_fea,  on =key, how = 'left')\n",
    "        \n",
    "    except:\n",
    "        pass\n",
    "    try:\n",
    "        df_hpg_timediff_fea = df_hpg_reserve.groupby(key, as_index = False)['time_diff'].agg({\n",
    "                                           'date_hpg_timediff_mean': 'mean',\n",
    "                                           'date_hpg_timediff_max': 'max',}) \n",
    "\n",
    "        df_hpg_reserve_fea = df_hpg_reserve.groupby(key, as_index = False)['reserve_visitors'].agg({\n",
    "                                           'date_hpg_reserve_visitors_sum': 'sum',\n",
    "                                           'date_hpg_reserve_visitors_median': 'median',\n",
    "                                           'date_hpg_reserve_visitors_max': 'max',\n",
    "                                           'date_hpg_reserve_visitors_count': 'count',}) \n",
    "    \n",
    "        df_features  = df_features.merge(df_hpg_timediff_fea, on =key, how = 'left')\n",
    "        df_features  = df_features.merge(df_hpg_reserve_fea,  on =key, how = 'left')\n",
    "    except:\n",
    "        pass\n",
    "    \n",
    "    print('For store id reserve visitors features, we spend {} seconds.'.format(time() - t0)) \n",
    "    \n",
    "    return df_features"
   ]
  },
  {
   "cell_type": "markdown",
   "metadata": {},
   "source": [
    "### 特征工程3：基于其他属性的特征,例如air_genre_name\n",
    "#### air_genre_name + visitors特征\n",
    "最近N(N=14,28,56,1000)天air_genre_name的统计特征"
   ]
  },
  {
   "cell_type": "code",
   "execution_count": 35,
   "metadata": {
    "ExecuteTime": {
     "end_time": "2020-07-04T04:35:17.836868Z",
     "start_time": "2020-07-04T04:35:17.825873Z"
    }
   },
   "outputs": [],
   "source": [
    "def get_genre_visitors_features(df, en_date, key = 'air_genre_name', date_col = 'visit_date',  days_list = [1000, 56, 28]): #, 14,\n",
    "    t0 = time()\n",
    "    df_features       = pd.DataFrame()\n",
    "    df_features[key]  = df[key].unique()\n",
    "    \n",
    "    df_tmp            = df.copy()\n",
    "    for days in days_list:\n",
    "        st_date           = get_st_date(en_date, days) \n",
    "        df_tmp            = df_tmp.loc[((df[date_col] >= st_date) &  (df[date_col] < en_date))].copy()\n",
    "        df_features_tmp   = df_tmp.groupby([key], as_index=False)['visitors'].agg({\n",
    "            '{}_visitors_min{}'.format(key,days): 'min',\n",
    "            '{}_visitors_mean{}'.format(key,days): 'mean',\n",
    "            '{}_visitors_median{}'.format(key,days): 'median',\n",
    "            '{}_visitors_max{}'.format(key,days): 'max',\n",
    "            '{}_visitors_sum{}'.format(key,days): 'sum',\n",
    "            '{}_visitors_std{}'.format(key,days): 'std',\n",
    "            '{}_visitors_quantile{}'.format(key,days): 'quantile',\n",
    "            '{}_visitors_skew{}'.format(key,days): 'skew'\n",
    "        }) \n",
    "        df_features  = df_features.merge(df_features_tmp, on =key, how = 'left')\n",
    "    print('For area sts features, we spend {} seconds.'.format(time() - t0)) \n",
    "    \n",
    "    return df_features"
   ]
  },
  {
   "cell_type": "markdown",
   "metadata": {},
   "source": [
    "#### air_genre_name + weekday + visitors特征\n",
    "过去每段时间的工作日的统计特征天air_genre_name对应的统计特征"
   ]
  },
  {
   "cell_type": "code",
   "execution_count": 36,
   "metadata": {
    "ExecuteTime": {
     "end_time": "2020-07-04T04:35:17.858855Z",
     "start_time": "2020-07-04T04:35:17.840865Z"
    }
   },
   "outputs": [],
   "source": [
    "def get_genre_weekday_visitors_sts_features(df, end_date, key = 'air_genre_name_weekday', date_col = 'visit_date',val_name = 'visitors'): \n",
    "    df_features      = pd.DataFrame() \n",
    "    df_features[key] = df[key].unique()\n",
    "    t0 = time()\n",
    "    ind1    = df[date_col] < end_date  \n",
    "    for i in [4,8,12,100]:  #2,6\n",
    "        t_st_date           = end_date  - timedelta(7 * i) \n",
    "        ind2                = df[date_col]  >= t_st_date \n",
    "        df_grp              = df.loc[(ind1 & ind2)].groupby(key) \n",
    "        dic_mean            = df_grp[val_name].mean().to_dict()\n",
    "        dic_std             = df_grp[val_name].std().to_dict()\n",
    "        dic_max             = df_grp[val_name].max().to_dict()\n",
    "        dic_min             = df_grp[val_name].min().to_dict()\n",
    "        dic_count           = df_grp[val_name].count().to_dict()\n",
    "        dic_sum             = df_grp[val_name].sum().to_dict()   \n",
    "        dic_quantile        = df_grp[val_name].quantile().to_dict()   \n",
    "        \n",
    "        df_features['{}_mean_{}_{}'.format(key, i+1, val_name)]  = df_features[key].map(dic_mean).values \n",
    "        df_features['{}_quantile_{}_{}'.format(key, i+1, val_name)]  = df_features[key].map(dic_quantile).values \n",
    "        df_features['{}_std_{}_{}'.format(key, i+1, val_name)]   = df_features[key].map(dic_std).values \n",
    "        df_features['{}_max_{}_{}'.format(key, i+1, val_name)]   = df_features[key].map(dic_max).values \n",
    "        df_features['{}_min_{}_{}'.format(key, i+1, val_name)]   = df_features[key].map(dic_min).values \n",
    "        df_features['{}_gap_{}_{}'.format(key, i+1, val_name)]   = df_features['{}_max_{}_{}'.format(key, i+1, val_name)] - df_features['{}_min_{}_{}'.format(key, i+1, val_name)]\n",
    "        df_features['{}_count_{}_{}'.format(key, i+1, val_name)] = df_features[key].map(dic_count).values \n",
    "        df_features['{}_sum_{}_{}'.format(key, i+1, val_name)]   = df_features[key].map(dic_sum).values  \n",
    "    print('For area name sts features, we spend {} seconds.'.format(time() - t0)) \n",
    "    return df_features"
   ]
  },
  {
   "cell_type": "markdown",
   "metadata": {},
   "source": [
    "#### air_area_name + weekday + holiday + visitors特征\n",
    "最近N(N=14,28,56,1000)天air_area_name+weekday以及holiday的统计特征"
   ]
  },
  {
   "cell_type": "code",
   "execution_count": 37,
   "metadata": {
    "ExecuteTime": {
     "end_time": "2020-07-04T04:35:17.885840Z",
     "start_time": "2020-07-04T04:35:17.861853Z"
    }
   },
   "outputs": [],
   "source": [
    "def get_genre_weekday_holiday_visitors_sts_features(df, end_date, key = 'air_genre_name_weekday_holiday', date_col = 'visit_date',val_name = 'visitors'): \n",
    "    df_features      = pd.DataFrame() \n",
    "    df_features[key] = df[key].unique()\n",
    "    t0 = time()\n",
    "    ind1    = df[date_col] < end_date  \n",
    "    for i in [4,8,12,100]:  #2,6\n",
    "        t_st_date           = end_date  - timedelta(7 * i) \n",
    "        ind2                = df[date_col]  >= t_st_date \n",
    "        df_grp              = df.loc[(ind1 & ind2)].groupby(key) \n",
    "        dic_mean            = df_grp[val_name].mean().to_dict()\n",
    "        dic_std             = df_grp[val_name].std().to_dict()\n",
    "        dic_max             = df_grp[val_name].max().to_dict()\n",
    "        dic_min             = df_grp[val_name].min().to_dict()\n",
    "        dic_count           = df_grp[val_name].count().to_dict()\n",
    "        dic_sum             = df_grp[val_name].sum().to_dict()   \n",
    "        dic_quantile        = df_grp[val_name].quantile().to_dict()   \n",
    "        \n",
    "        \n",
    "        df_features['{}_mean_{}_{}'.format(key, i+1, val_name)]  = df_features[key].map(dic_mean).values \n",
    "        df_features['{}_quantile_{}_{}'.format(key, i+1, val_name)]  = df_features[key].map(dic_quantile).values \n",
    "        df_features['{}_std_{}_{}'.format(key, i+1, val_name)]   = df_features[key].map(dic_std).values \n",
    "        df_features['{}_max_{}_{}'.format(key, i+1, val_name)]   = df_features[key].map(dic_max).values \n",
    "        df_features['{}_min_{}_{}'.format(key, i+1, val_name)]   = df_features[key].map(dic_min).values \n",
    "        df_features['{}_gap_{}_{}'.format(key, i+1, val_name)]   = df_features['{}_max_{}_{}'.format(key, i+1, val_name)] - df_features['{}_min_{}_{}'.format(key, i+1, val_name)]\n",
    "        df_features['{}_count_{}_{}'.format(key, i+1, val_name)] = df_features[key].map(dic_count).values \n",
    "        df_features['{}_sum_{}_{}'.format(key, i+1, val_name)]   = df_features[key].map(dic_sum).values  \n",
    "    print('For area name sts features, we spend {} seconds.'.format(time() - t0)) \n",
    "    return df_features"
   ]
  },
  {
   "cell_type": "markdown",
   "metadata": {},
   "source": [
    "## 提取特征"
   ]
  },
  {
   "cell_type": "code",
   "execution_count": 38,
   "metadata": {
    "ExecuteTime": {
     "end_time": "2020-07-04T04:35:17.922819Z",
     "start_time": "2020-07-04T04:35:17.889837Z"
    }
   },
   "outputs": [],
   "source": [
    "def get_features(df_visitors, air_reserve, hpg_air_reserve, label_st_date, days =39, is_te = False):\n",
    "     \n",
    "    df_label = get_df_label(df_visitors, label_st_date, days, is_te, ) \n",
    "    df_label['visit_date']                         = pd.to_datetime(df_label['visit_date'])\n",
    "    df_label['weekday']                            = df_label['visit_date'].dt.weekday  \n",
    "    df_label['air_store_id_weekday']               = df_label['air_store_id'].astype(str) + '_' + df_label['weekday'].astype(str) \n",
    "    df_label['air_store_id_weekday_holiday']       = df_label['air_store_id_holiday'] + '_' + df_label['weekday'].astype(str) \n",
    "    \n",
    "    df_label['air_store_id_visit_date']  = df_label['air_store_id']  + '_' + df_label['visit_date'].astype(str)\n",
    "    ####################\n",
    "    df_genre_visitors_fea             = get_genre_visitors_features(df=df_visitors, key='air_genre_name', en_date = label_st_date, date_col = 'visit_date')\n",
    "    df_genre_dow_visitors_fea         = get_genre_weekday_visitors_sts_features(df=df_visitors, key='air_genre_name_weekday', end_date = label_st_date, date_col = 'visit_date',val_name = 'visitors')\n",
    "    df_genre_dow_holiday_visitors_fea = get_genre_weekday_holiday_visitors_sts_features(df=df_visitors, key='air_genre_name_weekday_holiday', end_date = label_st_date, date_col = 'visit_date',val_name = 'visitors')\n",
    "     #################### \n",
    "    df_air_hpg_features  = get_store_date_reserve_features(df_air_reserves = air_reserve,df_hpg_reserves = hpg_air_reserve, en_date=label_st_date, days=days,) \n",
    "    df_air_hpg_features2 = get_store_reserve_features(df_air_reserves = air_reserve,df_hpg_reserves = hpg_air_reserve, en_date=label_st_date, days=days,) \n",
    "    df_air_hpg_features3 = get_date_reserve_features(df_air_reserves = air_reserve,df_hpg_reserves = hpg_air_reserve, en_date=label_st_date, days=days,) \n",
    "    \n",
    "    df_storeid_visitors_fea           = get_store_id_visitors_sts_features(df=df_visitors,key='air_store_id', en_date=label_st_date)\n",
    "    \n",
    "    df_storeid_timediff_fea           = get_store_id_time_diff_sts_features(df=df_visitors, key='air_store_id',en_date=label_st_date)\n",
    "     \n",
    "    df_storeid_visitorsdiff_fea       = get_store_id_visitors_diff_sts_features(df=df_visitors, key='air_store_id', en_date=label_st_date)\n",
    "    df_storeid_visitorsexp_fea        = get_store_id_visitors_exp_features(df=df_visitors, key='air_store_id', en_date=label_st_date)\n",
    "    \n",
    "    df_storeid_dow_visitors_fea       = get_weekday_visitors_sts_features(df=df_visitors,      key='air_store_id_weekday', end_date = label_st_date, date_col = 'visit_date',val_name = 'visitors')\n",
    "    df_storeid_dow_visitorsdiff_fea   = get_weekday_visitors_diff_sts_features(df=df_visitors, key='air_store_id_weekday', end_date = label_st_date, date_col = 'visit_date',val_name = 'visitors')\n",
    "    df_storeid_dow_visitorsexp_fea    = get_weekday_visitors_exp_sts_features(df=df_visitors,  key='air_store_id_weekday', en_date = label_st_date, date_col = 'visit_date')\n",
    "     \n",
    "    df_storeid_holiday_visitors_fea   = get_holiday_visitors_sts_features(df=df_visitors, key='air_store_id_holiday', end_date = label_st_date, date_col = 'visit_date',val_name = 'visitors')\n",
    "    df_storeid_dow_holiday_visitorsdiff_fea   = get_weekday_holiday_visitors_sts_features(df=df_visitors, key='air_store_id_weekday_holiday', end_date = label_st_date, date_col = 'visit_date',val_name = 'visitors')\n",
    "     \n",
    "    df_features             = df_label.merge(df_storeid_visitors_fea,            on =['air_store_id'], how='left')\n",
    "    df_features             = df_features.merge(df_storeid_timediff_fea,         on =['air_store_id'], how='left')   \n",
    "    df_features             = df_features.merge(df_storeid_visitorsdiff_fea,     on =['air_store_id'], how='left')  \n",
    "    df_features             = df_features.merge(df_storeid_visitorsexp_fea,      on =['air_store_id'], how='left')  \n",
    "    \n",
    "    df_features             = df_features.merge(df_storeid_dow_visitors_fea,     on =['air_store_id_weekday'], how='left')  \n",
    "    df_features             = df_features.merge(df_storeid_dow_visitorsdiff_fea, on =['air_store_id_weekday'], how='left')  \n",
    "    df_features             = df_features.merge(df_storeid_dow_visitorsexp_fea,  on =['air_store_id_weekday'], how='left')   \n",
    "     \n",
    "    \n",
    "    df_features             = df_features.merge(df_air_hpg_features,  on =['air_store_id_visit_date'], how='left')\n",
    "    df_features             = df_features.merge(df_air_hpg_features2, on =['air_store_id'], how='left') \n",
    "    df_features['visit_date']          = df_features['visit_date'].astype(str)\n",
    "    df_air_hpg_features3['visit_date'] = df_air_hpg_features3['visit_date'].astype(str)  \n",
    "    df_features             = df_features.merge(df_air_hpg_features3, on =['visit_date'], how='left') \n",
    "    \n",
    "    df_features             = df_features.merge(df_storeid_holiday_visitors_fea, on =['air_store_id_holiday'], how='left')  \n",
    "    df_features             = df_features.merge(df_storeid_dow_holiday_visitorsdiff_fea, on =['air_store_id_weekday_holiday'], how='left')  \n",
    "    \n",
    "    df_features             = df_features.merge(df_genre_visitors_fea, on =['air_genre_name'], how='left')   \n",
    "    df_features             = df_features.merge(df_genre_dow_visitors_fea, on =['air_genre_name_weekday'], how='left')  \n",
    "    df_features             = df_features.merge(df_genre_dow_holiday_visitors_fea, on =['air_genre_name_weekday_holiday'], how='left')\n",
    "    \n",
    "    del df_features['air_genre_name'] \n",
    "    return df_features"
   ]
  },
  {
   "cell_type": "markdown",
   "metadata": {},
   "source": [
    "## 模型验证\n",
    "### 模型验证的框架"
   ]
  },
  {
   "cell_type": "code",
   "execution_count": 39,
   "metadata": {
    "ExecuteTime": {
     "end_time": "2020-07-04T04:35:17.945805Z",
     "start_time": "2020-07-04T04:35:17.926816Z"
    }
   },
   "outputs": [],
   "source": [
    "def lgb_model_test_weight_timebased(df_tr, df_val, features, ws = [1.01], test_df = None): \n",
    "    params = {'num_leaves': 256,\n",
    "          'min_child_samples': 79,\n",
    "          'objective': 'rmse',\n",
    "          'max_depth': 13,\n",
    "          'learning_rate': 0.03,\n",
    "          \"boosting_type\": \"gbdt\",\n",
    "          \"subsample_freq\": 3,\n",
    "          \"subsample\": 0.9,\n",
    "          \"bagging_seed\": 11,\n",
    "          \"metric\": 'rmse',\n",
    "          \"verbosity\": -1,\n",
    "          'reg_alpha': 0.3,\n",
    "          'reg_lambda': 0.3,\n",
    "          'colsample_bytree': 0.9, \n",
    "         } \n",
    "\n",
    "    MAX_ROUNDS = 700\n",
    "    val_pred = []\n",
    "    test_pred = []\n",
    "    cate_vars = []\n",
    "    feature_importance = None\n",
    "    models = []  \n",
    "     \n",
    "    train_df,train_label = df_tr[features].copy() ,df_tr['visitors'].values\n",
    "    val_df,val_label     = df_val[features].copy(),df_val['visitors'].values\n",
    "    \n",
    "    for i,w in enumerate(ws):\n",
    "    \n",
    "        train_weight = []\n",
    "        tmp = df_tr['day_to_now'].values\n",
    "        for d in tmp:\n",
    "            if d > 365:\n",
    "                train_weight.append(1) \n",
    "            else:\n",
    "                train_weight.append(w ** ((365 - d) // (60) )) \n",
    "        \n",
    "        dtrain = lgb.Dataset(train_df, label = train_label, weight=train_weight)\n",
    "        dval   = lgb.Dataset(val_df,   label = val_label, reference=dtrain)  \n",
    "        \n",
    "        bst = lgb.train(params, dtrain, num_boost_round=MAX_ROUNDS,valid_sets=[dtrain,dval],  early_stopping_rounds=1500, verbose_eval=100)\n",
    "        models.append(bst)\n",
    "        f_importance = pd.DataFrame()\n",
    "        f_importance['fea'] = features\n",
    "        f_importance['imp'] = bst.feature_importance(\"gain\") \n",
    "        f_importance['fold'] = i\n",
    "        if feature_importance is None:\n",
    "            feature_importance = f_importance\n",
    "        else:\n",
    "            feature_importance = pd.concat([feature_importance, f_importance],axis=0,ignore_index=True)\n",
    "  \n",
    "        if test_df is not None:\n",
    "            test_pred.append(bst.predict(\n",
    "                test_df[features], num_iteration=bst.best_iteration or MAX_ROUNDS))\n",
    "    if test_df is None:\n",
    "        return models, feature_importance\n",
    "    else:\n",
    "        return models, feature_importance, test_pred"
   ]
  },
  {
   "cell_type": "markdown",
   "metadata": {},
   "source": [
    "### 模型验证\n",
    "#### 加入store date相关的reserve特征"
   ]
  },
  {
   "cell_type": "code",
   "execution_count": 40,
   "metadata": {
    "ExecuteTime": {
     "end_time": "2020-07-04T05:23:29.411905Z",
     "start_time": "2020-07-04T04:35:17.949803Z"
    }
   },
   "outputs": [
    {
     "name": "stderr",
     "output_type": "stream",
     "text": [
      "\r",
      "  0%|                                                                                           | 0/58 [00:00<?, ?it/s]"
     ]
    },
    {
     "name": "stdout",
     "output_type": "stream",
     "text": [
      "label date,  2017-03-12 00:00:00 2017-04-20 00:00:00\n",
      "For area sts features, we spend 0.45830440521240234 seconds.\n",
      "For area name sts features, we spend 0.3078174591064453 seconds.\n",
      "For area name sts features, we spend 0.33934497833251953 seconds.\n",
      "For store id reserve visitors features, we spend 0.10793948173522949 seconds.\n",
      "For store id reserve visitors features, we spend 0.12692737579345703 seconds.\n",
      "For store id reserve visitors features, we spend 0.09894275665283203 seconds.\n",
      "For store id sts features, we spend 1.2223398685455322 seconds.\n",
      "For store id diff sts features, we spend 4.941485404968262 seconds.\n",
      "For store id diff sts features, we spend 4.697052001953125 seconds.\n",
      "For store id exp features, we spend 19.592077016830444 seconds.\n",
      "For store id exp features, we spend 14.976062536239624 seconds.\n"
     ]
    },
    {
     "name": "stderr",
     "output_type": "stream",
     "text": [
      "\r",
      "  2%|█▍                                                                                 | 1/58 [00:55<52:23, 55.14s/it]"
     ]
    },
    {
     "name": "stdout",
     "output_type": "stream",
     "text": [
      "label date,  2017-03-05 00:00:00 2017-04-13 00:00:00\n",
      "For area sts features, we spend 0.43878817558288574 seconds.\n",
      "For area name sts features, we spend 0.32648444175720215 seconds.\n",
      "For area name sts features, we spend 0.32526493072509766 seconds.\n",
      "For store id reserve visitors features, we spend 0.07095599174499512 seconds.\n",
      "For store id reserve visitors features, we spend 0.13692092895507812 seconds.\n",
      "For store id reserve visitors features, we spend 0.09594392776489258 seconds.\n",
      "For store id sts features, we spend 1.1981391906738281 seconds.\n",
      "For store id diff sts features, we spend 4.838732719421387 seconds.\n",
      "For store id diff sts features, we spend 4.58340048789978 seconds.\n",
      "For store id exp features, we spend 19.140151262283325 seconds.\n",
      "For store id exp features, we spend 16.697954893112183 seconds.\n"
     ]
    },
    {
     "name": "stderr",
     "output_type": "stream",
     "text": [
      "\r",
      "  3%|██▊                                                                                | 2/58 [01:51<51:54, 55.62s/it]"
     ]
    },
    {
     "name": "stdout",
     "output_type": "stream",
     "text": [
      "label date,  2017-02-26 00:00:00 2017-04-06 00:00:00\n",
      "For area sts features, we spend 0.41678738594055176 seconds.\n",
      "For area name sts features, we spend 0.37078857421875 seconds.\n",
      "For area name sts features, we spend 0.5286998748779297 seconds.\n",
      "For store id reserve visitors features, we spend 0.07495641708374023 seconds.\n",
      "For store id reserve visitors features, we spend 0.11593198776245117 seconds.\n",
      "For store id reserve visitors features, we spend 0.10293960571289062 seconds.\n",
      "For store id sts features, we spend 1.8817381858825684 seconds.\n",
      "For store id diff sts features, we spend 5.303879499435425 seconds.\n",
      "For store id diff sts features, we spend 4.5170862674713135 seconds.\n",
      "For store id exp features, we spend 18.884081602096558 seconds.\n",
      "For store id exp features, we spend 14.210934162139893 seconds.\n"
     ]
    },
    {
     "name": "stderr",
     "output_type": "stream",
     "text": [
      "\r",
      "  5%|████▎                                                                              | 3/58 [02:47<50:51, 55.48s/it]"
     ]
    },
    {
     "name": "stdout",
     "output_type": "stream",
     "text": [
      "label date,  2017-02-19 00:00:00 2017-03-30 00:00:00\n",
      "For area sts features, we spend 0.39976978302001953 seconds.\n",
      "For area name sts features, we spend 0.31447911262512207 seconds.\n",
      "For area name sts features, we spend 0.3268146514892578 seconds.\n",
      "For store id reserve visitors features, we spend 0.07395815849304199 seconds.\n",
      "For store id reserve visitors features, we spend 0.11593246459960938 seconds.\n",
      "For store id reserve visitors features, we spend 0.09794306755065918 seconds.\n",
      "For store id sts features, we spend 1.2013800144195557 seconds.\n",
      "For store id diff sts features, we spend 4.738042593002319 seconds.\n",
      "For store id diff sts features, we spend 4.4564478397369385 seconds.\n",
      "For store id exp features, we spend 18.403292655944824 seconds.\n",
      "For store id exp features, we spend 13.96571135520935 seconds.\n"
     ]
    },
    {
     "name": "stderr",
     "output_type": "stream",
     "text": [
      "\r",
      "  7%|█████▋                                                                             | 4/58 [03:39<49:10, 54.64s/it]"
     ]
    },
    {
     "name": "stdout",
     "output_type": "stream",
     "text": [
      "label date,  2017-02-12 00:00:00 2017-03-23 00:00:00\n",
      "For area sts features, we spend 0.39633846282958984 seconds.\n",
      "For area name sts features, we spend 0.3011045455932617 seconds.\n",
      "For area name sts features, we spend 0.32286715507507324 seconds.\n",
      "For store id reserve visitors features, we spend 0.0690765380859375 seconds.\n",
      "For store id reserve visitors features, we spend 0.12610316276550293 seconds.\n",
      "For store id reserve visitors features, we spend 0.10694122314453125 seconds.\n",
      "For store id sts features, we spend 1.184948205947876 seconds.\n",
      "For store id diff sts features, we spend 4.701805353164673 seconds.\n",
      "For store id diff sts features, we spend 4.371984243392944 seconds.\n",
      "For store id exp features, we spend 19.52185368537903 seconds.\n",
      "For store id exp features, we spend 18.013333797454834 seconds.\n"
     ]
    },
    {
     "name": "stderr",
     "output_type": "stream",
     "text": [
      "\r",
      "  9%|███████▏                                                                           | 5/58 [04:40<49:55, 56.51s/it]"
     ]
    },
    {
     "name": "stdout",
     "output_type": "stream",
     "text": [
      "label date,  2017-02-05 00:00:00 2017-03-16 00:00:00\n",
      "For area sts features, we spend 0.3931436538696289 seconds.\n",
      "For area name sts features, we spend 0.2984910011291504 seconds.\n",
      "For area name sts features, we spend 0.3357508182525635 seconds.\n",
      "For store id reserve visitors features, we spend 0.0799558162689209 seconds.\n",
      "For store id reserve visitors features, we spend 0.1159515380859375 seconds.\n",
      "For store id reserve visitors features, we spend 0.10493946075439453 seconds.\n",
      "For store id sts features, we spend 1.187941551208496 seconds.\n",
      "For store id diff sts features, we spend 4.624982595443726 seconds.\n",
      "For store id diff sts features, we spend 4.320093631744385 seconds.\n",
      "For store id exp features, we spend 17.717137575149536 seconds.\n",
      "For store id exp features, we spend 13.39488959312439 seconds.\n"
     ]
    },
    {
     "name": "stderr",
     "output_type": "stream",
     "text": [
      "\r",
      " 10%|████████▌                                                                          | 6/58 [05:32<47:51, 55.22s/it]"
     ]
    },
    {
     "name": "stdout",
     "output_type": "stream",
     "text": [
      "label date,  2017-01-29 00:00:00 2017-03-09 00:00:00\n",
      "For area sts features, we spend 0.38864588737487793 seconds.\n",
      "For area name sts features, we spend 0.31044507026672363 seconds.\n",
      "For area name sts features, we spend 0.3158564567565918 seconds.\n",
      "For store id reserve visitors features, we spend 0.0799558162689209 seconds.\n",
      "For store id reserve visitors features, we spend 0.11592912673950195 seconds.\n",
      "For store id reserve visitors features, we spend 0.10193943977355957 seconds.\n",
      "For store id sts features, we spend 1.1979095935821533 seconds.\n",
      "For store id diff sts features, we spend 4.558646202087402 seconds.\n",
      "For store id diff sts features, we spend 4.240115404129028 seconds.\n",
      "For store id exp features, we spend 17.14671492576599 seconds.\n",
      "For store id exp features, we spend 13.315534114837646 seconds.\n"
     ]
    },
    {
     "name": "stderr",
     "output_type": "stream",
     "text": [
      "\r",
      " 12%|██████████                                                                         | 7/58 [06:23<45:53, 54.00s/it]"
     ]
    },
    {
     "name": "stdout",
     "output_type": "stream",
     "text": [
      "label date,  2017-01-22 00:00:00 2017-03-02 00:00:00\n",
      "For area sts features, we spend 0.38976430892944336 seconds.\n",
      "For area name sts features, we spend 0.3058638572692871 seconds.\n",
      "For area name sts features, we spend 0.3078474998474121 seconds.\n",
      "For store id reserve visitors features, we spend 0.08895158767700195 seconds.\n",
      "For store id reserve visitors features, we spend 0.13392305374145508 seconds.\n",
      "For store id reserve visitors features, we spend 0.09294867515563965 seconds.\n",
      "For store id sts features, we spend 1.1410117149353027 seconds.\n",
      "For store id diff sts features, we spend 4.517049074172974 seconds.\n",
      "For store id diff sts features, we spend 4.197367429733276 seconds.\n",
      "For store id exp features, we spend 16.874499797821045 seconds.\n",
      "For store id exp features, we spend 13.621036767959595 seconds.\n"
     ]
    },
    {
     "name": "stderr",
     "output_type": "stream",
     "text": [
      "\r",
      " 14%|███████████▍                                                                       | 8/58 [07:17<44:54, 53.89s/it]"
     ]
    },
    {
     "name": "stdout",
     "output_type": "stream",
     "text": [
      "label date,  2017-01-15 00:00:00 2017-02-23 00:00:00\n",
      "For area sts features, we spend 0.43746519088745117 seconds.\n",
      "For area name sts features, we spend 0.45775747299194336 seconds.\n",
      "For area name sts features, we spend 0.48772716522216797 seconds.\n",
      "For store id reserve visitors features, we spend 0.13592171669006348 seconds.\n",
      "For store id reserve visitors features, we spend 0.17989826202392578 seconds.\n",
      "For store id reserve visitors features, we spend 0.12392711639404297 seconds.\n",
      "For store id sts features, we spend 1.3051505088806152 seconds.\n",
      "For store id diff sts features, we spend 4.572392463684082 seconds.\n",
      "For store id diff sts features, we spend 4.171051025390625 seconds.\n",
      "For store id exp features, we spend 16.162157773971558 seconds.\n",
      "For store id exp features, we spend 12.105889081954956 seconds.\n"
     ]
    },
    {
     "name": "stderr",
     "output_type": "stream",
     "text": [
      "\r",
      " 16%|████████████▉                                                                      | 9/58 [08:07<43:08, 52.83s/it]"
     ]
    },
    {
     "name": "stdout",
     "output_type": "stream",
     "text": [
      "label date,  2017-01-08 00:00:00 2017-02-16 00:00:00\n",
      "For area sts features, we spend 0.43064403533935547 seconds.\n",
      "For area name sts features, we spend 0.27384185791015625 seconds.\n",
      "For area name sts features, we spend 0.4167640209197998 seconds.\n",
      "For store id reserve visitors features, we spend 0.0738978385925293 seconds.\n",
      "For store id reserve visitors features, we spend 0.12111186981201172 seconds.\n",
      "For store id reserve visitors features, we spend 0.0817251205444336 seconds.\n",
      "For store id sts features, we spend 1.1283743381500244 seconds.\n",
      "For store id diff sts features, we spend 4.267116069793701 seconds.\n",
      "For store id diff sts features, we spend 4.0178749561309814 seconds.\n",
      "For store id exp features, we spend 15.594288110733032 seconds.\n",
      "For store id exp features, we spend 11.812729835510254 seconds.\n"
     ]
    },
    {
     "name": "stderr",
     "output_type": "stream",
     "text": [
      "\r",
      " 17%|██████████████▏                                                                   | 10/58 [08:56<41:11, 51.49s/it]"
     ]
    },
    {
     "name": "stdout",
     "output_type": "stream",
     "text": [
      "label date,  2017-01-01 00:00:00 2017-02-09 00:00:00\n",
      "For area sts features, we spend 0.3868889808654785 seconds.\n",
      "For area name sts features, we spend 0.2798423767089844 seconds.\n",
      "For area name sts features, we spend 0.2981264591217041 seconds.\n",
      "For store id reserve visitors features, we spend 0.06795978546142578 seconds.\n",
      "For store id reserve visitors features, we spend 0.09996294975280762 seconds.\n",
      "For store id reserve visitors features, we spend 0.08059310913085938 seconds.\n",
      "For store id sts features, we spend 1.1472506523132324 seconds.\n",
      "For store id diff sts features, we spend 4.303716659545898 seconds.\n",
      "For store id diff sts features, we spend 4.577471494674683 seconds.\n",
      "For store id exp features, we spend 19.070139408111572 seconds.\n",
      "For store id exp features, we spend 11.63982605934143 seconds.\n"
     ]
    },
    {
     "name": "stderr",
     "output_type": "stream",
     "text": [
      "\r",
      " 19%|███████████████▌                                                                  | 11/58 [09:50<40:55, 52.24s/it]"
     ]
    },
    {
     "name": "stdout",
     "output_type": "stream",
     "text": [
      "label date,  2016-12-25 00:00:00 2017-02-02 00:00:00\n",
      "For area sts features, we spend 0.4754173755645752 seconds.\n",
      "For area name sts features, we spend 0.27984094619750977 seconds.\n",
      "For area name sts features, we spend 0.2978394031524658 seconds.\n",
      "For store id reserve visitors features, we spend 0.10468268394470215 seconds.\n",
      "For store id reserve visitors features, we spend 0.13292431831359863 seconds.\n",
      "For store id reserve visitors features, we spend 0.0979616641998291 seconds.\n",
      "For store id sts features, we spend 1.1363458633422852 seconds.\n",
      "For store id diff sts features, we spend 4.4498960971832275 seconds.\n",
      "For store id diff sts features, we spend 3.98937726020813 seconds.\n",
      "For store id exp features, we spend 15.409799337387085 seconds.\n",
      "For store id exp features, we spend 11.445655107498169 seconds.\n"
     ]
    },
    {
     "name": "stderr",
     "output_type": "stream",
     "text": [
      "\r",
      " 21%|████████████████▉                                                                 | 12/58 [10:41<39:48, 51.93s/it]"
     ]
    },
    {
     "name": "stdout",
     "output_type": "stream",
     "text": [
      "label date,  2016-12-18 00:00:00 2017-01-26 00:00:00\n",
      "For area sts features, we spend 0.657156229019165 seconds.\n",
      "For area name sts features, we spend 0.3508718013763428 seconds.\n",
      "For area name sts features, we spend 0.36666345596313477 seconds.\n",
      "For store id reserve visitors features, we spend 0.11470246315002441 seconds.\n",
      "For store id reserve visitors features, we spend 0.15546703338623047 seconds.\n",
      "For store id reserve visitors features, we spend 0.4079713821411133 seconds.\n",
      "For store id sts features, we spend 1.2718300819396973 seconds.\n",
      "For store id diff sts features, we spend 4.594663381576538 seconds.\n",
      "For store id diff sts features, we spend 3.9418866634368896 seconds.\n",
      "For store id exp features, we spend 14.695621728897095 seconds.\n",
      "For store id exp features, we spend 11.070923089981079 seconds.\n"
     ]
    },
    {
     "name": "stderr",
     "output_type": "stream",
     "text": [
      "\r",
      " 22%|██████████████████▍                                                               | 13/58 [11:32<38:48, 51.75s/it]"
     ]
    },
    {
     "name": "stdout",
     "output_type": "stream",
     "text": [
      "label date,  2016-12-11 00:00:00 2017-01-19 00:00:00\n",
      "For area sts features, we spend 0.4523172378540039 seconds.\n",
      "For area name sts features, we spend 0.2608683109283447 seconds.\n",
      "For area name sts features, we spend 0.26683568954467773 seconds.\n",
      "For store id reserve visitors features, we spend 0.11488032341003418 seconds.\n",
      "For store id reserve visitors features, we spend 0.13493990898132324 seconds.\n",
      "For store id reserve visitors features, we spend 0.10693836212158203 seconds.\n",
      "For store id sts features, we spend 1.0833826065063477 seconds.\n",
      "For store id diff sts features, we spend 4.383698225021362 seconds.\n",
      "For store id diff sts features, we spend 3.7468206882476807 seconds.\n",
      "For store id exp features, we spend 14.502543449401855 seconds.\n",
      "For store id exp features, we spend 10.565978765487671 seconds.\n"
     ]
    },
    {
     "name": "stderr",
     "output_type": "stream",
     "text": [
      "\r",
      " 24%|███████████████████▊                                                              | 14/58 [12:21<37:12, 50.73s/it]"
     ]
    },
    {
     "name": "stdout",
     "output_type": "stream",
     "text": [
      "label date,  2016-12-04 00:00:00 2017-01-12 00:00:00\n",
      "For area sts features, we spend 0.47208118438720703 seconds.\n",
      "For area name sts features, we spend 0.26486992835998535 seconds.\n",
      "For area name sts features, we spend 0.2888364791870117 seconds.\n",
      "For store id reserve visitors features, we spend 0.10299921035766602 seconds.\n",
      "For store id reserve visitors features, we spend 0.12892603874206543 seconds.\n",
      "For store id reserve visitors features, we spend 0.08894824981689453 seconds.\n",
      "For store id sts features, we spend 1.1056444644927979 seconds.\n",
      "For store id diff sts features, we spend 4.293704509735107 seconds.\n",
      "For store id diff sts features, we spend 3.6760246753692627 seconds.\n",
      "For store id exp features, we spend 13.501342058181763 seconds.\n",
      "For store id exp features, we spend 10.230167388916016 seconds.\n"
     ]
    },
    {
     "name": "stderr",
     "output_type": "stream",
     "text": [
      "\r",
      " 26%|█████████████████████▏                                                            | 15/58 [13:10<35:59, 50.21s/it]"
     ]
    },
    {
     "name": "stdout",
     "output_type": "stream",
     "text": [
      "label date,  2016-11-27 00:00:00 2017-01-05 00:00:00\n",
      "For area sts features, we spend 0.5368409156799316 seconds.\n",
      "For area name sts features, we spend 0.2855842113494873 seconds.\n",
      "For area name sts features, we spend 0.3148312568664551 seconds.\n",
      "For store id reserve visitors features, we spend 0.11104059219360352 seconds.\n",
      "For store id reserve visitors features, we spend 0.12937116622924805 seconds.\n",
      "For store id reserve visitors features, we spend 0.08896684646606445 seconds.\n",
      "For store id sts features, we spend 1.1583888530731201 seconds.\n",
      "For store id diff sts features, we spend 4.715105056762695 seconds.\n",
      "For store id diff sts features, we spend 3.613931179046631 seconds.\n",
      "For store id exp features, we spend 13.361976146697998 seconds.\n",
      "For store id exp features, we spend 9.948528528213501 seconds.\n"
     ]
    },
    {
     "name": "stderr",
     "output_type": "stream",
     "text": [
      "\r",
      " 28%|██████████████████████▌                                                           | 16/58 [14:00<35:12, 50.30s/it]"
     ]
    },
    {
     "name": "stdout",
     "output_type": "stream",
     "text": [
      "label date,  2016-11-20 00:00:00 2016-12-29 00:00:00\n",
      "For area sts features, we spend 0.5141358375549316 seconds.\n",
      "For area name sts features, we spend 0.3026444911956787 seconds.\n",
      "For area name sts features, we spend 0.32291269302368164 seconds.\n",
      "For store id reserve visitors features, we spend 0.1119232177734375 seconds.\n",
      "For store id reserve visitors features, we spend 0.12992453575134277 seconds.\n",
      "For store id reserve visitors features, we spend 0.09394598007202148 seconds.\n",
      "For store id sts features, we spend 1.0900404453277588 seconds.\n",
      "For store id diff sts features, we spend 4.634809732437134 seconds.\n",
      "For store id diff sts features, we spend 3.5149924755096436 seconds.\n",
      "For store id exp features, we spend 12.632445573806763 seconds.\n",
      "For store id exp features, we spend 9.529587268829346 seconds.\n"
     ]
    },
    {
     "name": "stderr",
     "output_type": "stream",
     "text": [
      "\r",
      " 29%|████████████████████████                                                          | 17/58 [14:47<33:39, 49.25s/it]"
     ]
    },
    {
     "name": "stdout",
     "output_type": "stream",
     "text": [
      "label date,  2016-11-13 00:00:00 2016-12-22 00:00:00\n",
      "For area sts features, we spend 0.44331979751586914 seconds.\n",
      "For area name sts features, we spend 0.2595980167388916 seconds.\n",
      "For area name sts features, we spend 0.2657196521759033 seconds.\n",
      "For store id reserve visitors features, we spend 0.08336043357849121 seconds.\n",
      "For store id reserve visitors features, we spend 0.11739420890808105 seconds.\n",
      "For store id reserve visitors features, we spend 0.09294652938842773 seconds.\n",
      "For store id sts features, we spend 1.4598956108093262 seconds.\n",
      "For store id diff sts features, we spend 4.539350748062134 seconds.\n",
      "For store id diff sts features, we spend 3.4718568325042725 seconds.\n",
      "For store id exp features, we spend 12.606860160827637 seconds.\n",
      "For store id exp features, we spend 9.328930377960205 seconds.\n"
     ]
    },
    {
     "name": "stderr",
     "output_type": "stream",
     "text": [
      "\r",
      " 31%|█████████████████████████▍                                                        | 18/58 [15:36<32:45, 49.14s/it]"
     ]
    },
    {
     "name": "stdout",
     "output_type": "stream",
     "text": [
      "label date,  2016-11-06 00:00:00 2016-12-15 00:00:00\n",
      "For area sts features, we spend 0.901282787322998 seconds.\n",
      "For area name sts features, we spend 0.2890899181365967 seconds.\n",
      "For area name sts features, we spend 0.30982279777526855 seconds.\n",
      "For store id reserve visitors features, we spend 0.10483717918395996 seconds.\n",
      "For store id reserve visitors features, we spend 0.12992501258850098 seconds.\n",
      "For store id reserve visitors features, we spend 0.09494423866271973 seconds.\n",
      "For store id sts features, we spend 1.3334484100341797 seconds.\n",
      "For store id diff sts features, we spend 4.360688924789429 seconds.\n",
      "For store id diff sts features, we spend 3.4199585914611816 seconds.\n",
      "For store id exp features, we spend 11.779293060302734 seconds.\n",
      "For store id exp features, we spend 8.970906496047974 seconds.\n"
     ]
    },
    {
     "name": "stderr",
     "output_type": "stream",
     "text": [
      "\r",
      " 33%|██████████████████████████▊                                                       | 19/58 [16:25<31:54, 49.10s/it]"
     ]
    },
    {
     "name": "stdout",
     "output_type": "stream",
     "text": [
      "label date,  2016-10-30 00:00:00 2016-12-08 00:00:00\n",
      "For area sts features, we spend 0.8197243213653564 seconds.\n",
      "For area name sts features, we spend 0.25785303115844727 seconds.\n",
      "For area name sts features, we spend 0.2508578300476074 seconds.\n",
      "For store id reserve visitors features, we spend 0.0699763298034668 seconds.\n",
      "For store id reserve visitors features, we spend 0.09394550323486328 seconds.\n",
      "For store id reserve visitors features, we spend 0.08294987678527832 seconds.\n",
      "For store id sts features, we spend 1.065065622329712 seconds.\n",
      "For store id diff sts features, we spend 4.43091893196106 seconds.\n",
      "For store id diff sts features, we spend 3.3713579177856445 seconds.\n",
      "For store id exp features, we spend 11.521084308624268 seconds.\n",
      "For store id exp features, we spend 8.628083229064941 seconds.\n"
     ]
    },
    {
     "name": "stderr",
     "output_type": "stream",
     "text": [
      "\r",
      " 34%|████████████████████████████▎                                                     | 20/58 [17:15<31:15, 49.37s/it]"
     ]
    },
    {
     "name": "stdout",
     "output_type": "stream",
     "text": [
      "label date,  2016-10-23 00:00:00 2016-12-01 00:00:00\n",
      "For area sts features, we spend 0.8096275329589844 seconds.\n",
      "For area name sts features, we spend 0.2569715976715088 seconds.\n",
      "For area name sts features, we spend 0.26892757415771484 seconds.\n",
      "For store id reserve visitors features, we spend 0.09494376182556152 seconds.\n",
      "For store id reserve visitors features, we spend 0.12496733665466309 seconds.\n",
      "For store id reserve visitors features, we spend 0.07995462417602539 seconds.\n",
      "For store id sts features, we spend 1.4268875122070312 seconds.\n",
      "For store id diff sts features, we spend 4.028566598892212 seconds.\n",
      "For store id diff sts features, we spend 3.2842721939086914 seconds.\n",
      "For store id exp features, we spend 11.472471475601196 seconds.\n",
      "For store id exp features, we spend 8.397231340408325 seconds.\n"
     ]
    },
    {
     "name": "stderr",
     "output_type": "stream",
     "text": [
      "\r",
      " 36%|█████████████████████████████▋                                                    | 21/58 [18:09<31:16, 50.72s/it]"
     ]
    },
    {
     "name": "stdout",
     "output_type": "stream",
     "text": [
      "label date,  2016-10-16 00:00:00 2016-11-24 00:00:00\n",
      "For area sts features, we spend 0.8389580249786377 seconds.\n",
      "For area name sts features, we spend 0.26056861877441406 seconds.\n",
      "For area name sts features, we spend 0.2550022602081299 seconds.\n",
      "For store id reserve visitors features, we spend 0.0695335865020752 seconds.\n",
      "For store id reserve visitors features, we spend 0.09294533729553223 seconds.\n",
      "For store id reserve visitors features, we spend 0.06400251388549805 seconds.\n",
      "For store id sts features, we spend 1.3686702251434326 seconds.\n",
      "For store id diff sts features, we spend 4.073462963104248 seconds.\n",
      "For store id diff sts features, we spend 3.1722092628479004 seconds.\n",
      "For store id exp features, we spend 10.630196332931519 seconds.\n",
      "For store id exp features, we spend 7.96945858001709 seconds.\n"
     ]
    },
    {
     "name": "stderr",
     "output_type": "stream",
     "text": [
      "\r",
      " 38%|███████████████████████████████                                                   | 22/58 [19:02<30:53, 51.50s/it]"
     ]
    },
    {
     "name": "stdout",
     "output_type": "stream",
     "text": [
      "label date,  2016-10-09 00:00:00 2016-11-17 00:00:00\n",
      "For area sts features, we spend 1.130540370941162 seconds.\n",
      "For area name sts features, we spend 0.2494957447052002 seconds.\n",
      "For area name sts features, we spend 0.2738814353942871 seconds.\n",
      "For store id reserve visitors features, we spend 0.06790781021118164 seconds.\n",
      "For store id reserve visitors features, we spend 0.09563469886779785 seconds.\n",
      "For store id reserve visitors features, we spend 0.07395482063293457 seconds.\n",
      "For store id sts features, we spend 1.1602301597595215 seconds.\n",
      "For store id diff sts features, we spend 3.9973652362823486 seconds.\n",
      "For store id diff sts features, we spend 3.343219041824341 seconds.\n",
      "For store id exp features, we spend 10.23216700553894 seconds.\n",
      "For store id exp features, we spend 8.000457763671875 seconds.\n"
     ]
    },
    {
     "name": "stderr",
     "output_type": "stream",
     "text": [
      "\r",
      " 40%|████████████████████████████████▌                                                 | 23/58 [19:58<30:53, 52.96s/it]"
     ]
    },
    {
     "name": "stdout",
     "output_type": "stream",
     "text": [
      "label date,  2016-10-02 00:00:00 2016-11-10 00:00:00\n",
      "For area sts features, we spend 0.8428544998168945 seconds.\n",
      "For area name sts features, we spend 0.2672455310821533 seconds.\n",
      "For area name sts features, we spend 0.2661747932434082 seconds.\n",
      "For store id reserve visitors features, we spend 0.05277872085571289 seconds.\n",
      "For store id reserve visitors features, we spend 0.07895612716674805 seconds.\n",
      "For store id reserve visitors features, we spend 0.05296969413757324 seconds.\n",
      "For store id sts features, we spend 1.2629590034484863 seconds.\n",
      "For store id diff sts features, we spend 4.070752859115601 seconds.\n",
      "For store id diff sts features, we spend 3.075862169265747 seconds.\n",
      "For store id exp features, we spend 9.60731816291809 seconds.\n",
      "For store id exp features, we spend 7.512736558914185 seconds.\n"
     ]
    },
    {
     "name": "stderr",
     "output_type": "stream",
     "text": [
      "\r",
      " 41%|█████████████████████████████████▉                                                | 24/58 [20:56<30:50, 54.41s/it]"
     ]
    },
    {
     "name": "stdout",
     "output_type": "stream",
     "text": [
      "label date,  2016-09-25 00:00:00 2016-11-03 00:00:00\n",
      "For area sts features, we spend 0.8528730869293213 seconds.\n",
      "For area name sts features, we spend 0.26085948944091797 seconds.\n",
      "For area name sts features, we spend 0.26317930221557617 seconds.\n",
      "For store id reserve visitors features, we spend 0.05249333381652832 seconds.\n",
      "For store id reserve visitors features, we spend 0.08112955093383789 seconds.\n",
      "For store id reserve visitors features, we spend 0.054967641830444336 seconds.\n",
      "For store id sts features, we spend 1.2884511947631836 seconds.\n",
      "For store id diff sts features, we spend 3.9945924282073975 seconds.\n",
      "For store id diff sts features, we spend 3.045206069946289 seconds.\n",
      "For store id exp features, we spend 9.45651912689209 seconds.\n",
      "For store id exp features, we spend 6.991012096405029 seconds.\n"
     ]
    },
    {
     "name": "stderr",
     "output_type": "stream",
     "text": [
      "\r",
      " 43%|███████████████████████████████████▎                                              | 25/58 [21:54<30:31, 55.50s/it]"
     ]
    },
    {
     "name": "stdout",
     "output_type": "stream",
     "text": [
      "label date,  2016-09-18 00:00:00 2016-10-27 00:00:00\n",
      "For area sts features, we spend 0.8622736930847168 seconds.\n",
      "For area name sts features, we spend 0.2609548568725586 seconds.\n",
      "For area name sts features, we spend 0.27584385871887207 seconds.\n",
      "For store id reserve visitors features, we spend 0.07065248489379883 seconds.\n",
      "For store id reserve visitors features, we spend 0.06596207618713379 seconds.\n",
      "For store id reserve visitors features, we spend 0.03299689292907715 seconds.\n",
      "For store id sts features, we spend 1.2636959552764893 seconds.\n",
      "For store id diff sts features, we spend 4.4741456508636475 seconds.\n",
      "For store id diff sts features, we spend 2.964456558227539 seconds.\n",
      "For store id exp features, we spend 8.842525005340576 seconds.\n",
      "For store id exp features, we spend 6.819113254547119 seconds.\n"
     ]
    },
    {
     "name": "stderr",
     "output_type": "stream",
     "text": [
      "\r",
      " 45%|████████████████████████████████████▊                                             | 26/58 [22:51<29:43, 55.74s/it]"
     ]
    },
    {
     "name": "stdout",
     "output_type": "stream",
     "text": [
      "label date,  2016-09-11 00:00:00 2016-10-20 00:00:00\n",
      "For area sts features, we spend 0.8831593990325928 seconds.\n",
      "For area name sts features, we spend 0.2383275032043457 seconds.\n",
      "For area name sts features, we spend 0.2611236572265625 seconds.\n",
      "For store id reserve visitors features, we spend 0.04986858367919922 seconds.\n",
      "For store id reserve visitors features, we spend 0.07300710678100586 seconds.\n",
      "For store id reserve visitors features, we spend 0.05096912384033203 seconds.\n",
      "For store id sts features, we spend 1.252270221710205 seconds.\n",
      "For store id diff sts features, we spend 4.516613960266113 seconds.\n",
      "For store id diff sts features, we spend 2.84421443939209 seconds.\n",
      "For store id exp features, we spend 8.677123546600342 seconds.\n",
      "For store id exp features, we spend 6.519302845001221 seconds.\n"
     ]
    },
    {
     "name": "stderr",
     "output_type": "stream",
     "text": [
      "\r",
      " 47%|██████████████████████████████████████▏                                           | 27/58 [23:56<30:15, 58.58s/it]"
     ]
    },
    {
     "name": "stdout",
     "output_type": "stream",
     "text": [
      "label date,  2016-09-04 00:00:00 2016-10-13 00:00:00\n",
      "For area sts features, we spend 0.8117785453796387 seconds.\n",
      "For area name sts features, we spend 0.2404615879058838 seconds.\n",
      "For area name sts features, we spend 0.2608518600463867 seconds.\n",
      "For store id reserve visitors features, we spend 0.05598711967468262 seconds.\n",
      "For store id reserve visitors features, we spend 0.07897162437438965 seconds.\n",
      "For store id reserve visitors features, we spend 0.06496238708496094 seconds.\n",
      "For store id sts features, we spend 1.200314998626709 seconds.\n",
      "For store id diff sts features, we spend 4.1156275272369385 seconds.\n",
      "For store id diff sts features, we spend 2.797717332839966 seconds.\n",
      "For store id exp features, we spend 8.102496147155762 seconds.\n",
      "For store id exp features, we spend 6.186495304107666 seconds.\n"
     ]
    },
    {
     "name": "stderr",
     "output_type": "stream",
     "text": [
      "\r",
      " 48%|███████████████████████████████████████▌                                          | 28/58 [25:03<30:32, 61.09s/it]"
     ]
    },
    {
     "name": "stdout",
     "output_type": "stream",
     "text": [
      "label date,  2016-08-28 00:00:00 2016-10-06 00:00:00\n",
      "For area sts features, we spend 0.7785849571228027 seconds.\n",
      "For area name sts features, we spend 0.23786377906799316 seconds.\n",
      "For area name sts features, we spend 0.2528836727142334 seconds.\n",
      "For store id reserve visitors features, we spend 0.04870438575744629 seconds.\n",
      "For store id reserve visitors features, we spend 0.08495068550109863 seconds.\n",
      "For store id reserve visitors features, we spend 0.057967424392700195 seconds.\n",
      "For store id sts features, we spend 1.1602489948272705 seconds.\n",
      "For store id diff sts features, we spend 4.179776668548584 seconds.\n",
      "For store id diff sts features, we spend 2.9012062549591064 seconds.\n",
      "For store id exp features, we spend 7.897494077682495 seconds.\n",
      "For store id exp features, we spend 6.0385565757751465 seconds.\n"
     ]
    },
    {
     "name": "stderr",
     "output_type": "stream",
     "text": [
      "\r",
      " 50%|█████████████████████████████████████████                                         | 29/58 [26:11<30:32, 63.20s/it]"
     ]
    },
    {
     "name": "stdout",
     "output_type": "stream",
     "text": [
      "label date,  2016-08-21 00:00:00 2016-09-29 00:00:00\n",
      "For area sts features, we spend 0.8415381908416748 seconds.\n",
      "For area name sts features, we spend 0.4677703380584717 seconds.\n",
      "For area name sts features, we spend 0.24327778816223145 seconds.\n",
      "For store id reserve visitors features, we spend 0.05580306053161621 seconds.\n",
      "For store id reserve visitors features, we spend 0.08295440673828125 seconds.\n",
      "For store id reserve visitors features, we spend 0.056967735290527344 seconds.\n",
      "For store id sts features, we spend 1.2862262725830078 seconds.\n",
      "For store id diff sts features, we spend 3.945363998413086 seconds.\n",
      "For store id diff sts features, we spend 2.669187068939209 seconds.\n",
      "For store id exp features, we spend 7.291851758956909 seconds.\n",
      "For store id exp features, we spend 5.547838926315308 seconds.\n"
     ]
    },
    {
     "name": "stderr",
     "output_type": "stream",
     "text": [
      "\r",
      " 52%|██████████████████████████████████████████▍                                       | 30/58 [27:21<30:30, 65.38s/it]"
     ]
    },
    {
     "name": "stdout",
     "output_type": "stream",
     "text": [
      "label date,  2016-08-14 00:00:00 2016-09-22 00:00:00\n",
      "For area sts features, we spend 1.1381523609161377 seconds.\n",
      "For area name sts features, we spend 0.21709799766540527 seconds.\n",
      "For area name sts features, we spend 0.22795343399047852 seconds.\n",
      "For store id reserve visitors features, we spend 0.05856823921203613 seconds.\n",
      "For store id reserve visitors features, we spend 0.08295249938964844 seconds.\n",
      "For store id reserve visitors features, we spend 0.0679621696472168 seconds.\n",
      "For store id sts features, we spend 1.2341458797454834 seconds.\n",
      "For store id diff sts features, we spend 4.410493850708008 seconds.\n",
      "For store id diff sts features, we spend 2.733304977416992 seconds.\n",
      "For store id exp features, we spend 6.848927974700928 seconds.\n",
      "For store id exp features, we spend 5.220012426376343 seconds.\n"
     ]
    },
    {
     "name": "stderr",
     "output_type": "stream",
     "text": [
      "\r",
      " 53%|███████████████████████████████████████████▊                                      | 31/58 [28:35<30:29, 67.75s/it]"
     ]
    },
    {
     "name": "stdout",
     "output_type": "stream",
     "text": [
      "label date,  2016-08-07 00:00:00 2016-09-15 00:00:00\n",
      "For area sts features, we spend 1.2481021881103516 seconds.\n",
      "For area name sts features, we spend 0.32181525230407715 seconds.\n",
      "For area name sts features, we spend 0.28383684158325195 seconds.\n",
      "For store id reserve visitors features, we spend 0.05999565124511719 seconds.\n",
      "For store id reserve visitors features, we spend 0.08594799041748047 seconds.\n",
      "For store id reserve visitors features, we spend 0.05497002601623535 seconds.\n",
      "For store id sts features, we spend 1.1883213520050049 seconds.\n",
      "For store id diff sts features, we spend 3.779144287109375 seconds.\n",
      "For store id diff sts features, we spend 2.4848568439483643 seconds.\n",
      "For store id exp features, we spend 6.755882740020752 seconds.\n",
      "For store id exp features, we spend 4.916199684143066 seconds.\n"
     ]
    },
    {
     "name": "stderr",
     "output_type": "stream",
     "text": [
      "\r",
      " 55%|█████████████████████████████████████████████▏                                    | 32/58 [29:53<30:44, 70.94s/it]"
     ]
    },
    {
     "name": "stdout",
     "output_type": "stream",
     "text": [
      "label date,  2016-07-31 00:00:00 2016-09-08 00:00:00\n",
      "For area sts features, we spend 1.2553484439849854 seconds.\n",
      "For area name sts features, we spend 0.22391605377197266 seconds.\n",
      "For area name sts features, we spend 0.22203373908996582 seconds.\n",
      "For store id reserve visitors features, we spend 0.046216726303100586 seconds.\n",
      "For store id reserve visitors features, we spend 0.06104707717895508 seconds.\n",
      "For store id reserve visitors features, we spend 0.0319819450378418 seconds.\n",
      "For store id sts features, we spend 1.1245596408843994 seconds.\n",
      "For store id diff sts features, we spend 4.563216209411621 seconds.\n",
      "For store id diff sts features, we spend 2.425722122192383 seconds.\n",
      "For store id exp features, we spend 6.153305768966675 seconds.\n",
      "For store id exp features, we spend 4.569465160369873 seconds.\n"
     ]
    },
    {
     "name": "stderr",
     "output_type": "stream",
     "text": [
      "\r",
      " 57%|██████████████████████████████████████████████▋                                   | 33/58 [31:08<30:05, 72.22s/it]"
     ]
    },
    {
     "name": "stdout",
     "output_type": "stream",
     "text": [
      "label date,  2016-07-24 00:00:00 2016-09-01 00:00:00\n",
      "For area sts features, we spend 0.8438451290130615 seconds.\n",
      "For area name sts features, we spend 0.2079756259918213 seconds.\n",
      "For area name sts features, we spend 0.19592928886413574 seconds.\n",
      "For store id reserve visitors features, we spend 0.10877084732055664 seconds.\n",
      "For store id reserve visitors features, we spend 0.09696269035339355 seconds.\n",
      "For store id reserve visitors features, we spend 0.05996513366699219 seconds.\n",
      "For store id sts features, we spend 1.125208854675293 seconds.\n",
      "For store id diff sts features, we spend 4.52417516708374 seconds.\n",
      "For store id diff sts features, we spend 2.334282636642456 seconds.\n",
      "For store id exp features, we spend 5.734867811203003 seconds.\n",
      "For store id exp features, we spend 4.470452070236206 seconds.\n"
     ]
    },
    {
     "name": "stderr",
     "output_type": "stream",
     "text": [
      "\r",
      " 59%|████████████████████████████████████████████████                                  | 34/58 [32:25<29:27, 73.64s/it]"
     ]
    },
    {
     "name": "stdout",
     "output_type": "stream",
     "text": [
      "label date,  2016-07-17 00:00:00 2016-08-25 00:00:00\n",
      "For area sts features, we spend 0.7850654125213623 seconds.\n",
      "For area name sts features, we spend 0.17945218086242676 seconds.\n",
      "For area name sts features, we spend 0.1976180076599121 seconds.\n",
      "For store id reserve visitors features, we spend 0.07095932960510254 seconds.\n",
      "For store id reserve visitors features, we spend 0.09270691871643066 seconds.\n",
      "For store id reserve visitors features, we spend 0.054970502853393555 seconds.\n",
      "For store id sts features, we spend 1.172713279724121 seconds.\n",
      "For store id diff sts features, we spend 3.646031618118286 seconds.\n",
      "For store id diff sts features, we spend 2.1398651599884033 seconds.\n",
      "For store id exp features, we spend 5.208312034606934 seconds.\n",
      "For store id exp features, we spend 4.002719879150391 seconds.\n"
     ]
    },
    {
     "name": "stderr",
     "output_type": "stream",
     "text": [
      "\r",
      " 60%|█████████████████████████████████████████████████▍                                | 35/58 [33:45<28:58, 75.61s/it]"
     ]
    },
    {
     "name": "stdout",
     "output_type": "stream",
     "text": [
      "label date,  2016-07-10 00:00:00 2016-08-18 00:00:00\n",
      "For area sts features, we spend 0.9764401912689209 seconds.\n",
      "For area name sts features, we spend 0.22687101364135742 seconds.\n",
      "For area name sts features, we spend 0.5334155559539795 seconds.\n",
      "For store id reserve visitors features, we spend 0.15541934967041016 seconds.\n",
      "For store id reserve visitors features, we spend 0.08595132827758789 seconds.\n",
      "For store id reserve visitors features, we spend 0.06096315383911133 seconds.\n",
      "For store id sts features, we spend 1.1534545421600342 seconds.\n",
      "For store id diff sts features, we spend 3.5888140201568604 seconds.\n",
      "For store id diff sts features, we spend 1.9360361099243164 seconds.\n",
      "For store id exp features, we spend 4.776289701461792 seconds.\n",
      "For store id exp features, we spend 3.631929874420166 seconds.\n"
     ]
    },
    {
     "name": "stderr",
     "output_type": "stream",
     "text": [
      "\r",
      " 62%|██████████████████████████████████████████████████▉                               | 36/58 [35:06<28:19, 77.23s/it]"
     ]
    },
    {
     "name": "stdout",
     "output_type": "stream",
     "text": [
      "label date,  2016-07-03 00:00:00 2016-08-11 00:00:00\n",
      "For area sts features, we spend 0.9624896049499512 seconds.\n",
      "For area name sts features, we spend 0.22087430953979492 seconds.\n",
      "For area name sts features, we spend 0.1653003692626953 seconds.\n",
      "For store id reserve visitors features, we spend 0.0669863224029541 seconds.\n",
      "For store id reserve visitors features, we spend 0.09142899513244629 seconds.\n",
      "For store id reserve visitors features, we spend 0.06396627426147461 seconds.\n",
      "For store id sts features, we spend 1.0725865364074707 seconds.\n",
      "For store id diff sts features, we spend 4.0423455238342285 seconds.\n",
      "For store id diff sts features, we spend 2.092280864715576 seconds.\n",
      "For store id exp features, we spend 4.65538763999939 seconds.\n",
      "For store id exp features, we spend 3.3291051387786865 seconds.\n"
     ]
    },
    {
     "name": "stderr",
     "output_type": "stream",
     "text": [
      "\r",
      " 64%|████████████████████████████████████████████████████▎                             | 37/58 [36:29<27:36, 78.90s/it]"
     ]
    },
    {
     "name": "stdout",
     "output_type": "stream",
     "text": [
      "label date,  2016-06-26 00:00:00 2016-08-04 00:00:00\n",
      "For area sts features, we spend 0.8311331272125244 seconds.\n",
      "For area name sts features, we spend 0.16421818733215332 seconds.\n",
      "For area name sts features, we spend 0.16589856147766113 seconds.\n",
      "For store id reserve visitors features, we spend 0.06477880477905273 seconds.\n",
      "For store id reserve visitors features, we spend 0.0848231315612793 seconds.\n",
      "For store id reserve visitors features, we spend 0.05596756935119629 seconds.\n",
      "For store id sts features, we spend 0.6134042739868164 seconds.\n",
      "For store id diff sts features, we spend 3.1150214672088623 seconds.\n",
      "For store id diff sts features, we spend 1.6580467224121094 seconds.\n",
      "For store id exp features, we spend 4.675597906112671 seconds.\n",
      "For store id exp features, we spend 3.168213129043579 seconds.\n"
     ]
    },
    {
     "name": "stderr",
     "output_type": "stream",
     "text": [
      "\r",
      " 66%|█████████████████████████████████████████████████████▋                            | 38/58 [38:00<27:27, 82.36s/it]"
     ]
    },
    {
     "name": "stdout",
     "output_type": "stream",
     "text": [
      "label date,  2016-06-19 00:00:00 2016-07-28 00:00:00\n",
      "For area sts features, we spend 1.698643445968628 seconds.\n",
      "For area name sts features, we spend 0.14628863334655762 seconds.\n",
      "For area name sts features, we spend 0.1602797508239746 seconds.\n",
      "For store id reserve visitors features, we spend 0.4376053810119629 seconds.\n",
      "For store id reserve visitors features, we spend 0.1251215934753418 seconds.\n",
      "For store id reserve visitors features, we spend 0.06096386909484863 seconds.\n",
      "For store id sts features, we spend 0.566974401473999 seconds.\n",
      "For store id diff sts features, we spend 3.055371046066284 seconds.\n",
      "For store id diff sts features, we spend 1.8517355918884277 seconds.\n",
      "For store id exp features, we spend 4.075079441070557 seconds.\n",
      "For store id exp features, we spend 3.041264772415161 seconds.\n",
      "Problems happen at step 38\n"
     ]
    },
    {
     "name": "stderr",
     "output_type": "stream",
     "text": [
      "\r",
      " 67%|███████████████████████████████████████████████████████▏                          | 39/58 [39:10<24:55, 78.73s/it]"
     ]
    },
    {
     "name": "stdout",
     "output_type": "stream",
     "text": [
      "label date,  2016-06-12 00:00:00 2016-07-21 00:00:00\n",
      "For area sts features, we spend 0.7195332050323486 seconds.\n",
      "For area name sts features, we spend 0.14800667762756348 seconds.\n",
      "For area name sts features, we spend 0.15278935432434082 seconds.\n",
      "For store id reserve visitors features, we spend 0.06096458435058594 seconds.\n",
      "For store id reserve visitors features, we spend 0.09270977973937988 seconds.\n",
      "For store id reserve visitors features, we spend 0.06596207618713379 seconds.\n",
      "For store id sts features, we spend 0.5639569759368896 seconds.\n",
      "For store id diff sts features, we spend 2.4827396869659424 seconds.\n",
      "For store id diff sts features, we spend 1.4291822910308838 seconds.\n",
      "For store id exp features, we spend 3.9307706356048584 seconds.\n",
      "For store id exp features, we spend 2.8673481941223145 seconds.\n",
      "Problems happen at step 39\n"
     ]
    },
    {
     "name": "stderr",
     "output_type": "stream",
     "text": [
      "\r",
      " 69%|████████████████████████████████████████████████████████▌                         | 40/58 [39:42<19:26, 64.81s/it]"
     ]
    },
    {
     "name": "stdout",
     "output_type": "stream",
     "text": [
      "label date,  2016-06-05 00:00:00 2016-07-14 00:00:00\n",
      "For area sts features, we spend 0.754863977432251 seconds.\n",
      "For area name sts features, we spend 0.1412343978881836 seconds.\n",
      "For area name sts features, we spend 0.1479334831237793 seconds.\n",
      "For store id reserve visitors features, we spend 0.05814552307128906 seconds.\n",
      "For store id reserve visitors features, we spend 0.09494543075561523 seconds.\n",
      "For store id reserve visitors features, we spend 0.059966325759887695 seconds.\n",
      "For store id sts features, we spend 0.5805914402008057 seconds.\n",
      "For store id diff sts features, we spend 2.6430864334106445 seconds.\n",
      "For store id diff sts features, we spend 1.3196978569030762 seconds.\n",
      "For store id exp features, we spend 3.9041800498962402 seconds.\n",
      "For store id exp features, we spend 2.7934088706970215 seconds.\n",
      "Problems happen at step 40\n"
     ]
    },
    {
     "name": "stderr",
     "output_type": "stream",
     "text": [
      "\r",
      " 71%|█████████████████████████████████████████████████████████▉                        | 41/58 [40:14<15:34, 54.95s/it]"
     ]
    },
    {
     "name": "stdout",
     "output_type": "stream",
     "text": [
      "label date,  2016-05-29 00:00:00 2016-07-07 00:00:00\n",
      "For area sts features, we spend 0.7774708271026611 seconds.\n",
      "For area name sts features, we spend 0.14539456367492676 seconds.\n",
      "For area name sts features, we spend 0.15435361862182617 seconds.\n",
      "For store id reserve visitors features, we spend 0.061012983322143555 seconds.\n",
      "For store id reserve visitors features, we spend 0.08892250061035156 seconds.\n",
      "For store id reserve visitors features, we spend 0.07295775413513184 seconds.\n",
      "For store id sts features, we spend 0.6251165866851807 seconds.\n",
      "For store id diff sts features, we spend 2.5857529640197754 seconds.\n",
      "For store id diff sts features, we spend 1.3526599407196045 seconds.\n",
      "For store id exp features, we spend 3.524064540863037 seconds.\n",
      "For store id exp features, we spend 2.6844687461853027 seconds.\n",
      "Problems happen at step 41\n"
     ]
    },
    {
     "name": "stderr",
     "output_type": "stream",
     "text": [
      "\r",
      " 72%|███████████████████████████████████████████████████████████▍                      | 42/58 [40:47<12:51, 48.20s/it]"
     ]
    },
    {
     "name": "stdout",
     "output_type": "stream",
     "text": [
      "label date,  2016-05-22 00:00:00 2016-06-30 00:00:00\n",
      "For area sts features, we spend 0.8519322872161865 seconds.\n",
      "For area name sts features, we spend 0.1537165641784668 seconds.\n",
      "For area name sts features, we spend 0.16189193725585938 seconds.\n",
      "For store id reserve visitors features, we spend 0.06396079063415527 seconds.\n",
      "For store id reserve visitors features, we spend 0.09194612503051758 seconds.\n",
      "For store id reserve visitors features, we spend 0.0639650821685791 seconds.\n",
      "For store id sts features, we spend 0.5945346355438232 seconds.\n",
      "For store id diff sts features, we spend 2.5523037910461426 seconds.\n",
      "For store id diff sts features, we spend 1.308833122253418 seconds.\n",
      "For store id exp features, we spend 3.351374864578247 seconds.\n",
      "For store id exp features, we spend 2.607516288757324 seconds.\n",
      "Problems happen at step 42\n"
     ]
    },
    {
     "name": "stderr",
     "output_type": "stream",
     "text": [
      "\r",
      " 74%|████████████████████████████████████████████████████████████▊                     | 43/58 [41:18<10:45, 43.06s/it]"
     ]
    },
    {
     "name": "stdout",
     "output_type": "stream",
     "text": [
      "label date,  2016-05-15 00:00:00 2016-06-23 00:00:00\n",
      "For area sts features, we spend 0.7993888854980469 seconds.\n",
      "For area name sts features, we spend 0.13851690292358398 seconds.\n",
      "For area name sts features, we spend 0.1567826271057129 seconds.\n",
      "For store id reserve visitors features, we spend 0.07698655128479004 seconds.\n",
      "For store id reserve visitors features, we spend 0.09947943687438965 seconds.\n",
      "For store id reserve visitors features, we spend 0.07295799255371094 seconds.\n",
      "For store id sts features, we spend 0.577364444732666 seconds.\n",
      "For store id diff sts features, we spend 2.497300863265991 seconds.\n",
      "For store id diff sts features, we spend 1.37839937210083 seconds.\n",
      "For store id exp features, we spend 3.191840171813965 seconds.\n",
      "For store id exp features, we spend 2.564556360244751 seconds.\n",
      "Problems happen at step 43\n"
     ]
    },
    {
     "name": "stderr",
     "output_type": "stream",
     "text": [
      "\r",
      " 76%|██████████████████████████████████████████████████████████████▏                   | 44/58 [41:47<09:07, 39.07s/it]"
     ]
    },
    {
     "name": "stdout",
     "output_type": "stream",
     "text": [
      "label date,  2016-05-08 00:00:00 2016-06-16 00:00:00\n",
      "For area sts features, we spend 0.8345005512237549 seconds.\n",
      "For area name sts features, we spend 0.13619136810302734 seconds.\n",
      "For area name sts features, we spend 0.15191221237182617 seconds.\n",
      "For store id reserve visitors features, we spend 0.0729062557220459 seconds.\n",
      "For store id reserve visitors features, we spend 0.12292933464050293 seconds.\n",
      "For store id reserve visitors features, we spend 0.08195137977600098 seconds.\n",
      "For store id sts features, we spend 0.6137938499450684 seconds.\n",
      "For store id diff sts features, we spend 2.5861382484436035 seconds.\n",
      "For store id diff sts features, we spend 1.382204532623291 seconds.\n",
      "For store id exp features, we spend 3.070455312728882 seconds.\n",
      "For store id exp features, we spend 2.3106837272644043 seconds.\n",
      "Problems happen at step 44\n"
     ]
    },
    {
     "name": "stderr",
     "output_type": "stream",
     "text": [
      "\r",
      " 78%|███████████████████████████████████████████████████████████████▌                  | 45/58 [42:16<07:48, 36.00s/it]"
     ]
    },
    {
     "name": "stdout",
     "output_type": "stream",
     "text": [
      "label date,  2016-05-01 00:00:00 2016-06-09 00:00:00\n",
      "For area sts features, we spend 0.7299697399139404 seconds.\n",
      "For area name sts features, we spend 0.13207101821899414 seconds.\n",
      "For area name sts features, we spend 0.1483447551727295 seconds.\n",
      "For store id reserve visitors features, we spend 0.08394885063171387 seconds.\n",
      "For store id reserve visitors features, we spend 0.10293889045715332 seconds.\n",
      "For store id reserve visitors features, we spend 0.07295584678649902 seconds.\n",
      "For store id sts features, we spend 0.5826666355133057 seconds.\n",
      "For store id diff sts features, we spend 2.4606192111968994 seconds.\n",
      "For store id diff sts features, we spend 1.257505178451538 seconds.\n",
      "For store id exp features, we spend 2.9021358489990234 seconds.\n",
      "For store id exp features, we spend 2.16776704788208 seconds.\n",
      "Problems happen at step 45\n"
     ]
    },
    {
     "name": "stderr",
     "output_type": "stream",
     "text": [
      "\r",
      " 79%|█████████████████████████████████████████████████████████████████                 | 46/58 [42:46<06:48, 34.04s/it]"
     ]
    },
    {
     "name": "stdout",
     "output_type": "stream",
     "text": [
      "label date,  2016-04-24 00:00:00 2016-06-02 00:00:00\n",
      "For area sts features, we spend 0.8217737674713135 seconds.\n",
      "For area name sts features, we spend 0.14978241920471191 seconds.\n",
      "For area name sts features, we spend 0.1479172706604004 seconds.\n",
      "For store id reserve visitors features, we spend 0.08373641967773438 seconds.\n",
      "For store id reserve visitors features, we spend 0.10895705223083496 seconds.\n",
      "For store id reserve visitors features, we spend 0.08395218849182129 seconds.\n",
      "For store id sts features, we spend 0.5865070819854736 seconds.\n",
      "For store id diff sts features, we spend 2.659726858139038 seconds.\n",
      "For store id diff sts features, we spend 1.2680017948150635 seconds.\n",
      "For store id exp features, we spend 2.84158992767334 seconds.\n",
      "For store id exp features, we spend 2.0628416538238525 seconds.\n",
      "Problems happen at step 46\n"
     ]
    },
    {
     "name": "stderr",
     "output_type": "stream",
     "text": [
      "\r",
      " 81%|██████████████████████████████████████████████████████████████████▍               | 47/58 [43:15<05:57, 32.46s/it]"
     ]
    },
    {
     "name": "stdout",
     "output_type": "stream",
     "text": [
      "label date,  2016-04-17 00:00:00 2016-05-26 00:00:00\n",
      "For area sts features, we spend 0.768671989440918 seconds.\n",
      "For area name sts features, we spend 0.12692856788635254 seconds.\n",
      "For area name sts features, we spend 0.14798378944396973 seconds.\n",
      "For store id reserve visitors features, we spend 0.08445596694946289 seconds.\n",
      "For store id reserve visitors features, we spend 0.10693717002868652 seconds.\n",
      "For store id reserve visitors features, we spend 0.06596183776855469 seconds.\n",
      "For store id sts features, we spend 0.5356941223144531 seconds.\n",
      "For store id diff sts features, we spend 2.5362067222595215 seconds.\n",
      "For store id diff sts features, we spend 1.3143706321716309 seconds.\n",
      "For store id exp features, we spend 2.5702931880950928 seconds.\n",
      "For store id exp features, we spend 1.932901382446289 seconds.\n",
      "Problems happen at step 47\n"
     ]
    },
    {
     "name": "stderr",
     "output_type": "stream",
     "text": [
      "\r",
      " 83%|███████████████████████████████████████████████████████████████████▊              | 48/58 [43:44<05:15, 31.53s/it]"
     ]
    },
    {
     "name": "stdout",
     "output_type": "stream",
     "text": [
      "label date,  2016-04-10 00:00:00 2016-05-19 00:00:00\n",
      "For area sts features, we spend 0.9233663082122803 seconds.\n",
      "For area name sts features, we spend 0.12784767150878906 seconds.\n",
      "For area name sts features, we spend 0.15098118782043457 seconds.\n",
      "For store id reserve visitors features, we spend 0.0969388484954834 seconds.\n",
      "For store id reserve visitors features, we spend 0.09701085090637207 seconds.\n",
      "For store id reserve visitors features, we spend 0.0799565315246582 seconds.\n",
      "For store id sts features, we spend 0.5581083297729492 seconds.\n",
      "For store id diff sts features, we spend 2.4934895038604736 seconds.\n",
      "For store id diff sts features, we spend 1.2154791355133057 seconds.\n",
      "For store id exp features, we spend 2.432758092880249 seconds.\n",
      "For store id exp features, we spend 1.8069698810577393 seconds.\n",
      "Problems happen at step 48\n"
     ]
    },
    {
     "name": "stderr",
     "output_type": "stream",
     "text": [
      "\r",
      " 84%|█████████████████████████████████████████████████████████████████████▎            | 49/58 [44:11<04:33, 30.35s/it]"
     ]
    },
    {
     "name": "stdout",
     "output_type": "stream",
     "text": [
      "label date,  2016-04-03 00:00:00 2016-05-12 00:00:00\n",
      "For area sts features, we spend 0.7934844493865967 seconds.\n",
      "For area name sts features, we spend 0.1338634490966797 seconds.\n",
      "For area name sts features, we spend 0.15633225440979004 seconds.\n",
      "For store id reserve visitors features, we spend 0.08423447608947754 seconds.\n",
      "For store id reserve visitors features, we spend 0.09954643249511719 seconds.\n",
      "For store id reserve visitors features, we spend 0.07495808601379395 seconds.\n",
      "For store id sts features, we spend 0.5456879138946533 seconds.\n",
      "For store id diff sts features, we spend 2.895232677459717 seconds.\n",
      "For store id diff sts features, we spend 1.144453763961792 seconds.\n",
      "For store id exp features, we spend 2.2263214588165283 seconds.\n",
      "For store id exp features, we spend 1.7180204391479492 seconds.\n",
      "Problems happen at step 49\n"
     ]
    },
    {
     "name": "stderr",
     "output_type": "stream",
     "text": [
      "\r",
      " 86%|██████████████████████████████████████████████████████████████████████▋           | 50/58 [44:38<03:54, 29.32s/it]"
     ]
    },
    {
     "name": "stdout",
     "output_type": "stream",
     "text": [
      "label date,  2016-03-27 00:00:00 2016-05-05 00:00:00\n",
      "For area sts features, we spend 1.1327354907989502 seconds.\n",
      "For area name sts features, we spend 0.12235713005065918 seconds.\n",
      "For area name sts features, we spend 0.13342809677124023 seconds.\n",
      "For store id reserve visitors features, we spend 0.07769441604614258 seconds.\n",
      "For store id reserve visitors features, we spend 0.0879666805267334 seconds.\n",
      "For store id reserve visitors features, we spend 0.07795381546020508 seconds.\n",
      "For store id sts features, we spend 0.5852773189544678 seconds.\n",
      "For store id diff sts features, we spend 2.438798427581787 seconds.\n",
      "For store id diff sts features, we spend 1.1182255744934082 seconds.\n",
      "For store id exp features, we spend 2.081892728805542 seconds.\n",
      "For store id exp features, we spend 1.5840961933135986 seconds.\n",
      "Problems happen at step 50\n"
     ]
    },
    {
     "name": "stderr",
     "output_type": "stream",
     "text": [
      "\r",
      " 88%|████████████████████████████████████████████████████████████████████████          | 51/58 [45:06<03:20, 28.66s/it]"
     ]
    },
    {
     "name": "stdout",
     "output_type": "stream",
     "text": [
      "label date,  2016-03-20 00:00:00 2016-04-28 00:00:00\n",
      "For area sts features, we spend 0.8894641399383545 seconds.\n",
      "For area name sts features, we spend 0.13005399703979492 seconds.\n",
      "For area name sts features, we spend 0.12856101989746094 seconds.\n",
      "For store id reserve visitors features, we spend 0.0917062759399414 seconds.\n",
      "For store id reserve visitors features, we spend 0.10200285911560059 seconds.\n",
      "For store id reserve visitors features, we spend 0.06496429443359375 seconds.\n",
      "For store id sts features, we spend 0.5539486408233643 seconds.\n",
      "For store id diff sts features, we spend 2.5925705432891846 seconds.\n",
      "For store id diff sts features, we spend 1.097618579864502 seconds.\n",
      "For store id exp features, we spend 1.8440723419189453 seconds.\n",
      "For store id exp features, we spend 1.4762418270111084 seconds.\n",
      "Problems happen at step 51\n"
     ]
    },
    {
     "name": "stderr",
     "output_type": "stream",
     "text": [
      "\r",
      " 90%|█████████████████████████████████████████████████████████████████████████▌        | 52/58 [45:33<02:49, 28.29s/it]"
     ]
    },
    {
     "name": "stdout",
     "output_type": "stream",
     "text": [
      "label date,  2016-03-13 00:00:00 2016-04-21 00:00:00\n",
      "For area sts features, we spend 0.8609182834625244 seconds.\n",
      "For area name sts features, we spend 0.12096095085144043 seconds.\n",
      "For area name sts features, we spend 0.4088633060455322 seconds.\n",
      "For store id reserve visitors features, we spend 0.08700728416442871 seconds.\n",
      "For store id reserve visitors features, we spend 0.11459922790527344 seconds.\n",
      "For store id reserve visitors features, we spend 0.07595586776733398 seconds.\n",
      "For store id sts features, we spend 0.6176474094390869 seconds.\n",
      "For store id diff sts features, we spend 1.3499977588653564 seconds.\n",
      "For store id diff sts features, we spend 2.185852289199829 seconds.\n",
      "For store id exp features, we spend 1.7279093265533447 seconds.\n",
      "For store id exp features, we spend 1.3083178997039795 seconds.\n",
      "Problems happen at step 52\n"
     ]
    },
    {
     "name": "stderr",
     "output_type": "stream",
     "text": [
      "\r",
      " 91%|██████████████████████████████████████████████████████████████████████████▉       | 53/58 [45:59<02:18, 27.63s/it]"
     ]
    },
    {
     "name": "stdout",
     "output_type": "stream",
     "text": [
      "label date,  2016-03-06 00:00:00 2016-04-14 00:00:00\n",
      "For area sts features, we spend 0.8245885372161865 seconds.\n",
      "For area name sts features, we spend 0.12292981147766113 seconds.\n",
      "For area name sts features, we spend 0.1288900375366211 seconds.\n",
      "For store id reserve visitors features, we spend 0.08392691612243652 seconds.\n",
      "For store id reserve visitors features, we spend 0.09679460525512695 seconds.\n",
      "For store id reserve visitors features, we spend 0.0719606876373291 seconds.\n",
      "For store id sts features, we spend 0.5696711540222168 seconds.\n",
      "For store id diff sts features, we spend 2.3598978519439697 seconds.\n",
      "For store id diff sts features, we spend 0.9842336177825928 seconds.\n",
      "For store id exp features, we spend 1.578296184539795 seconds.\n",
      "For store id exp features, we spend 1.197317361831665 seconds.\n",
      "Problems happen at step 53\n"
     ]
    },
    {
     "name": "stderr",
     "output_type": "stream",
     "text": [
      "\r",
      " 93%|████████████████████████████████████████████████████████████████████████████▎     | 54/58 [46:24<01:47, 26.95s/it]"
     ]
    },
    {
     "name": "stdout",
     "output_type": "stream",
     "text": [
      "label date,  2016-02-28 00:00:00 2016-04-07 00:00:00\n",
      "For area sts features, we spend 0.7437913417816162 seconds.\n",
      "For area name sts features, we spend 0.12093114852905273 seconds.\n",
      "For area name sts features, we spend 0.1367335319519043 seconds.\n",
      "For store id reserve visitors features, we spend 0.07839107513427734 seconds.\n",
      "For store id reserve visitors features, we spend 0.10917448997497559 seconds.\n",
      "For store id reserve visitors features, we spend 0.07295727729797363 seconds.\n",
      "For store id sts features, we spend 0.52748703956604 seconds.\n",
      "For store id diff sts features, we spend 2.4534354209899902 seconds.\n",
      "For store id diff sts features, we spend 0.9674572944641113 seconds.\n",
      "For store id exp features, we spend 1.4231865406036377 seconds.\n",
      "For store id exp features, we spend 1.0763978958129883 seconds.\n",
      "Problems happen at step 54\n"
     ]
    },
    {
     "name": "stderr",
     "output_type": "stream",
     "text": [
      "\r",
      " 95%|█████████████████████████████████████████████████████████████████████████████▊    | 55/58 [46:51<01:20, 26.93s/it]"
     ]
    },
    {
     "name": "stdout",
     "output_type": "stream",
     "text": [
      "label date,  2016-02-21 00:00:00 2016-03-31 00:00:00\n",
      "For area sts features, we spend 0.9623160362243652 seconds.\n",
      "For area name sts features, we spend 0.10788106918334961 seconds.\n",
      "For area name sts features, we spend 0.1245412826538086 seconds.\n",
      "For store id reserve visitors features, we spend 0.2572944164276123 seconds.\n",
      "For store id reserve visitors features, we spend 0.22749543190002441 seconds.\n",
      "For store id reserve visitors features, we spend 0.07495689392089844 seconds.\n",
      "For store id sts features, we spend 0.6414573192596436 seconds.\n",
      "For store id diff sts features, we spend 2.2686338424682617 seconds.\n",
      "For store id diff sts features, we spend 0.9331932067871094 seconds.\n",
      "For store id exp features, we spend 1.2888798713684082 seconds.\n",
      "For store id exp features, we spend 0.9594535827636719 seconds.\n",
      "Problems happen at step 55\n"
     ]
    },
    {
     "name": "stderr",
     "output_type": "stream",
     "text": [
      "\r",
      " 97%|███████████████████████████████████████████████████████████████████████████████▏  | 56/58 [47:18<00:53, 26.90s/it]"
     ]
    },
    {
     "name": "stdout",
     "output_type": "stream",
     "text": [
      "label date,  2016-02-14 00:00:00 2016-03-24 00:00:00\n",
      "For area sts features, we spend 0.7388038635253906 seconds.\n",
      "For area name sts features, we spend 0.11072754859924316 seconds.\n",
      "For area name sts features, we spend 0.12533998489379883 seconds.\n",
      "For store id reserve visitors features, we spend 0.07861948013305664 seconds.\n",
      "For store id reserve visitors features, we spend 0.09094619750976562 seconds.\n",
      "For store id reserve visitors features, we spend 0.07695603370666504 seconds.\n",
      "For store id sts features, we spend 0.5210082530975342 seconds.\n",
      "For store id diff sts features, we spend 2.302558183670044 seconds.\n",
      "For store id diff sts features, we spend 0.9867541790008545 seconds.\n",
      "For store id exp features, we spend 1.2049915790557861 seconds.\n",
      "For store id exp features, we spend 0.9588336944580078 seconds.\n",
      "Problems happen at step 56\n"
     ]
    },
    {
     "name": "stderr",
     "output_type": "stream",
     "text": [
      "\r",
      " 98%|████████████████████████████████████████████████████████████████████████████████▌ | 57/58 [47:45<00:27, 27.03s/it]"
     ]
    },
    {
     "name": "stdout",
     "output_type": "stream",
     "text": [
      "label date,  2016-02-07 00:00:00 2016-03-17 00:00:00\n",
      "For area sts features, we spend 0.8336055278778076 seconds.\n",
      "For area name sts features, we spend 0.10576820373535156 seconds.\n",
      "For area name sts features, we spend 0.12136244773864746 seconds.\n",
      "For store id reserve visitors features, we spend 0.08586430549621582 seconds.\n",
      "For store id reserve visitors features, we spend 0.1022481918334961 seconds.\n",
      "For store id reserve visitors features, we spend 0.07195878028869629 seconds.\n",
      "For store id sts features, we spend 0.5147755146026611 seconds.\n",
      "For store id diff sts features, we spend 2.4572176933288574 seconds.\n",
      "For store id diff sts features, we spend 0.8424544334411621 seconds.\n",
      "For store id exp features, we spend 0.9409263134002686 seconds.\n",
      "For store id exp features, we spend 0.7805345058441162 seconds.\n",
      "Problems happen at step 57\n"
     ]
    },
    {
     "name": "stderr",
     "output_type": "stream",
     "text": [
      "100%|██████████████████████████████████████████████████████████████████████████████████| 58/58 [48:11<00:00, 26.55s/it]\n"
     ]
    }
   ],
   "source": [
    "df_tr_feas = pd.DataFrame()\n",
    "tr_fea_list = []\n",
    "for i in tqdm(range(58)): \n",
    "    try:\n",
    "        tr_label_date      = parse('2017-04-23') - timedelta(7*6 + 7 *i)   #*2\n",
    "        tr_fea_date        = parse('2017-04-23') - timedelta(7*6 + 7 *i+1) #**2\n",
    "\n",
    "        df_tr_tmp          = get_features(df_meta, air_reserve, hpg_air_reserve, label_st_date= tr_label_date)    \n",
    "        df_tr_feas         = pd.concat([df_tr_feas, df_tr_tmp], axis=0,ignore_index=True) \n",
    "        tr_fea_list.append(df_tr_tmp)\n",
    "    except:\n",
    "        print('Problems happen at step {}'.format(i))"
   ]
  },
  {
   "cell_type": "code",
   "execution_count": 41,
   "metadata": {
    "ExecuteTime": {
     "end_time": "2020-07-04T05:26:04.719271Z",
     "start_time": "2020-07-04T05:23:29.449416Z"
    }
   },
   "outputs": [
    {
     "name": "stderr",
     "output_type": "stream",
     "text": [
      "\r",
      "  0%|                                                                                            | 0/5 [00:00<?, ?it/s]"
     ]
    },
    {
     "name": "stdout",
     "output_type": "stream",
     "text": [
      "label date,  2017-03-19 00:00:00 2017-04-23 00:00:00\n",
      "For area sts features, we spend 1.1150398254394531 seconds.\n",
      "For area name sts features, we spend 0.3407096862792969 seconds.\n",
      "For area name sts features, we spend 0.37978363037109375 seconds.\n",
      "For store id reserve visitors features, we spend 0.12849688529968262 seconds.\n",
      "For store id reserve visitors features, we spend 0.14391589164733887 seconds.\n",
      "For store id reserve visitors features, we spend 0.10593843460083008 seconds.\n",
      "For store id sts features, we spend 1.2594692707061768 seconds.\n",
      "For store id diff sts features, we spend 5.842523097991943 seconds.\n",
      "For store id diff sts features, we spend 4.721257209777832 seconds.\n",
      "For store id exp features, we spend 19.870302438735962 seconds.\n",
      "For store id exp features, we spend 14.844557523727417 seconds.\n"
     ]
    },
    {
     "name": "stderr",
     "output_type": "stream",
     "text": [
      "\r",
      " 20%|████████████████▊                                                                   | 1/5 [01:21<05:26, 81.58s/it]"
     ]
    },
    {
     "name": "stdout",
     "output_type": "stream",
     "text": [
      "label date,  2017-03-26 00:00:00 2017-04-23 00:00:00\n",
      "For area sts features, we spend 1.1952226161956787 seconds.\n",
      "For area name sts features, we spend 0.3664429187774658 seconds.\n",
      "For area name sts features, we spend 0.3821589946746826 seconds.\n",
      "For store id reserve visitors features, we spend 1.2497003078460693 seconds.\n",
      "For store id reserve visitors features, we spend 0.1558082103729248 seconds.\n",
      "For store id reserve visitors features, we spend 0.09294652938842773 seconds.\n",
      "For store id sts features, we spend 1.2193329334259033 seconds.\n",
      "For store id diff sts features, we spend 4.98978066444397 seconds.\n",
      "For store id diff sts features, we spend 4.751636981964111 seconds.\n",
      "For store id exp features, we spend 20.072587251663208 seconds.\n",
      "For store id exp features, we spend 15.093410015106201 seconds.\n"
     ]
    },
    {
     "ename": "MemoryError",
     "evalue": "Unable to allocate 2.45 GiB for an array with shape (317, 1036743) and data type float64",
     "output_type": "error",
     "traceback": [
      "\u001b[1;31m---------------------------------------------------------------------------\u001b[0m",
      "\u001b[1;31mMemoryError\u001b[0m                               Traceback (most recent call last)",
      "\u001b[1;32m<ipython-input-41-163023858530>\u001b[0m in \u001b[0;36m<module>\u001b[1;34m\u001b[0m\n\u001b[0;32m      2\u001b[0m     \u001b[0mtr_label_date\u001b[0m      \u001b[1;33m=\u001b[0m \u001b[0mparse\u001b[0m\u001b[1;33m(\u001b[0m\u001b[1;34m'2017-04-23'\u001b[0m\u001b[1;33m)\u001b[0m \u001b[1;33m-\u001b[0m \u001b[0mtimedelta\u001b[0m\u001b[1;33m(\u001b[0m\u001b[1;36m7\u001b[0m\u001b[1;33m*\u001b[0m\u001b[1;36m6\u001b[0m \u001b[1;33m-\u001b[0m \u001b[1;36m7\u001b[0m \u001b[1;33m*\u001b[0m\u001b[0mi\u001b[0m\u001b[1;33m)\u001b[0m\u001b[1;33m\u001b[0m\u001b[1;33m\u001b[0m\u001b[0m\n\u001b[0;32m      3\u001b[0m     \u001b[0mdf_tr_tmp\u001b[0m          \u001b[1;33m=\u001b[0m \u001b[0mget_features\u001b[0m\u001b[1;33m(\u001b[0m\u001b[0mdf_meta\u001b[0m\u001b[1;33m,\u001b[0m \u001b[0mair_reserve\u001b[0m\u001b[1;33m,\u001b[0m \u001b[0mhpg_air_reserve\u001b[0m\u001b[1;33m,\u001b[0m\u001b[0mdays\u001b[0m\u001b[1;33m=\u001b[0m\u001b[1;36m42\u001b[0m \u001b[1;33m-\u001b[0m \u001b[1;36m7\u001b[0m\u001b[1;33m*\u001b[0m\u001b[0mi\u001b[0m\u001b[1;33m,\u001b[0m \u001b[0mlabel_st_date\u001b[0m\u001b[1;33m=\u001b[0m \u001b[0mtr_label_date\u001b[0m\u001b[1;33m)\u001b[0m\u001b[1;33m\u001b[0m\u001b[1;33m\u001b[0m\u001b[0m\n\u001b[1;32m----> 4\u001b[1;33m     \u001b[0mdf_tr_feas\u001b[0m         \u001b[1;33m=\u001b[0m \u001b[0mpd\u001b[0m\u001b[1;33m.\u001b[0m\u001b[0mconcat\u001b[0m\u001b[1;33m(\u001b[0m\u001b[1;33m[\u001b[0m\u001b[0mdf_tr_feas\u001b[0m\u001b[1;33m,\u001b[0m \u001b[0mdf_tr_tmp\u001b[0m\u001b[1;33m]\u001b[0m\u001b[1;33m,\u001b[0m \u001b[0maxis\u001b[0m\u001b[1;33m=\u001b[0m\u001b[1;36m0\u001b[0m\u001b[1;33m,\u001b[0m\u001b[0mignore_index\u001b[0m\u001b[1;33m=\u001b[0m\u001b[1;32mTrue\u001b[0m\u001b[1;33m)\u001b[0m\u001b[1;33m\u001b[0m\u001b[1;33m\u001b[0m\u001b[0m\n\u001b[0m\u001b[0;32m      5\u001b[0m     \u001b[0mtr_fea_list\u001b[0m\u001b[1;33m.\u001b[0m\u001b[0mappend\u001b[0m\u001b[1;33m(\u001b[0m\u001b[0mdf_tr_tmp\u001b[0m\u001b[1;33m)\u001b[0m\u001b[1;33m\u001b[0m\u001b[1;33m\u001b[0m\u001b[0m\n\u001b[0;32m      6\u001b[0m \u001b[1;33m\u001b[0m\u001b[0m\n",
      "\u001b[1;32m~\\Anaconda3\\lib\\site-packages\\pandas\\core\\reshape\\concat.py\u001b[0m in \u001b[0;36mconcat\u001b[1;34m(objs, axis, join, ignore_index, keys, levels, names, verify_integrity, sort, copy)\u001b[0m\n\u001b[0;32m    279\u001b[0m         \u001b[0mverify_integrity\u001b[0m\u001b[1;33m=\u001b[0m\u001b[0mverify_integrity\u001b[0m\u001b[1;33m,\u001b[0m\u001b[1;33m\u001b[0m\u001b[1;33m\u001b[0m\u001b[0m\n\u001b[0;32m    280\u001b[0m         \u001b[0mcopy\u001b[0m\u001b[1;33m=\u001b[0m\u001b[0mcopy\u001b[0m\u001b[1;33m,\u001b[0m\u001b[1;33m\u001b[0m\u001b[1;33m\u001b[0m\u001b[0m\n\u001b[1;32m--> 281\u001b[1;33m         \u001b[0msort\u001b[0m\u001b[1;33m=\u001b[0m\u001b[0msort\u001b[0m\u001b[1;33m,\u001b[0m\u001b[1;33m\u001b[0m\u001b[1;33m\u001b[0m\u001b[0m\n\u001b[0m\u001b[0;32m    282\u001b[0m     )\n\u001b[0;32m    283\u001b[0m \u001b[1;33m\u001b[0m\u001b[0m\n",
      "\u001b[1;32m~\\Anaconda3\\lib\\site-packages\\pandas\\core\\reshape\\concat.py\u001b[0m in \u001b[0;36m__init__\u001b[1;34m(self, objs, axis, join, keys, levels, names, ignore_index, verify_integrity, copy, sort)\u001b[0m\n\u001b[0;32m    358\u001b[0m \u001b[1;33m\u001b[0m\u001b[0m\n\u001b[0;32m    359\u001b[0m             \u001b[1;31m# consolidate\u001b[0m\u001b[1;33m\u001b[0m\u001b[1;33m\u001b[0m\u001b[1;33m\u001b[0m\u001b[0m\n\u001b[1;32m--> 360\u001b[1;33m             \u001b[0mobj\u001b[0m\u001b[1;33m.\u001b[0m\u001b[0m_consolidate\u001b[0m\u001b[1;33m(\u001b[0m\u001b[0minplace\u001b[0m\u001b[1;33m=\u001b[0m\u001b[1;32mTrue\u001b[0m\u001b[1;33m)\u001b[0m\u001b[1;33m\u001b[0m\u001b[1;33m\u001b[0m\u001b[0m\n\u001b[0m\u001b[0;32m    361\u001b[0m             \u001b[0mndims\u001b[0m\u001b[1;33m.\u001b[0m\u001b[0madd\u001b[0m\u001b[1;33m(\u001b[0m\u001b[0mobj\u001b[0m\u001b[1;33m.\u001b[0m\u001b[0mndim\u001b[0m\u001b[1;33m)\u001b[0m\u001b[1;33m\u001b[0m\u001b[1;33m\u001b[0m\u001b[0m\n\u001b[0;32m    362\u001b[0m \u001b[1;33m\u001b[0m\u001b[0m\n",
      "\u001b[1;32m~\\Anaconda3\\lib\\site-packages\\pandas\\core\\generic.py\u001b[0m in \u001b[0;36m_consolidate\u001b[1;34m(self, inplace)\u001b[0m\n\u001b[0;32m   5363\u001b[0m         \u001b[0minplace\u001b[0m \u001b[1;33m=\u001b[0m \u001b[0mvalidate_bool_kwarg\u001b[0m\u001b[1;33m(\u001b[0m\u001b[0minplace\u001b[0m\u001b[1;33m,\u001b[0m \u001b[1;34m\"inplace\"\u001b[0m\u001b[1;33m)\u001b[0m\u001b[1;33m\u001b[0m\u001b[1;33m\u001b[0m\u001b[0m\n\u001b[0;32m   5364\u001b[0m         \u001b[1;32mif\u001b[0m \u001b[0minplace\u001b[0m\u001b[1;33m:\u001b[0m\u001b[1;33m\u001b[0m\u001b[1;33m\u001b[0m\u001b[0m\n\u001b[1;32m-> 5365\u001b[1;33m             \u001b[0mself\u001b[0m\u001b[1;33m.\u001b[0m\u001b[0m_consolidate_inplace\u001b[0m\u001b[1;33m(\u001b[0m\u001b[1;33m)\u001b[0m\u001b[1;33m\u001b[0m\u001b[1;33m\u001b[0m\u001b[0m\n\u001b[0m\u001b[0;32m   5366\u001b[0m         \u001b[1;32melse\u001b[0m\u001b[1;33m:\u001b[0m\u001b[1;33m\u001b[0m\u001b[1;33m\u001b[0m\u001b[0m\n\u001b[0;32m   5367\u001b[0m             \u001b[0mf\u001b[0m \u001b[1;33m=\u001b[0m \u001b[1;32mlambda\u001b[0m\u001b[1;33m:\u001b[0m \u001b[0mself\u001b[0m\u001b[1;33m.\u001b[0m\u001b[0m_data\u001b[0m\u001b[1;33m.\u001b[0m\u001b[0mconsolidate\u001b[0m\u001b[1;33m(\u001b[0m\u001b[1;33m)\u001b[0m\u001b[1;33m\u001b[0m\u001b[1;33m\u001b[0m\u001b[0m\n",
      "\u001b[1;32m~\\Anaconda3\\lib\\site-packages\\pandas\\core\\generic.py\u001b[0m in \u001b[0;36m_consolidate_inplace\u001b[1;34m(self)\u001b[0m\n\u001b[0;32m   5345\u001b[0m             \u001b[0mself\u001b[0m\u001b[1;33m.\u001b[0m\u001b[0m_data\u001b[0m \u001b[1;33m=\u001b[0m \u001b[0mself\u001b[0m\u001b[1;33m.\u001b[0m\u001b[0m_data\u001b[0m\u001b[1;33m.\u001b[0m\u001b[0mconsolidate\u001b[0m\u001b[1;33m(\u001b[0m\u001b[1;33m)\u001b[0m\u001b[1;33m\u001b[0m\u001b[1;33m\u001b[0m\u001b[0m\n\u001b[0;32m   5346\u001b[0m \u001b[1;33m\u001b[0m\u001b[0m\n\u001b[1;32m-> 5347\u001b[1;33m         \u001b[0mself\u001b[0m\u001b[1;33m.\u001b[0m\u001b[0m_protect_consolidate\u001b[0m\u001b[1;33m(\u001b[0m\u001b[0mf\u001b[0m\u001b[1;33m)\u001b[0m\u001b[1;33m\u001b[0m\u001b[1;33m\u001b[0m\u001b[0m\n\u001b[0m\u001b[0;32m   5348\u001b[0m \u001b[1;33m\u001b[0m\u001b[0m\n\u001b[0;32m   5349\u001b[0m     \u001b[1;32mdef\u001b[0m \u001b[0m_consolidate\u001b[0m\u001b[1;33m(\u001b[0m\u001b[0mself\u001b[0m\u001b[1;33m,\u001b[0m \u001b[0minplace\u001b[0m\u001b[1;33m:\u001b[0m \u001b[0mbool_t\u001b[0m \u001b[1;33m=\u001b[0m \u001b[1;32mFalse\u001b[0m\u001b[1;33m)\u001b[0m\u001b[1;33m:\u001b[0m\u001b[1;33m\u001b[0m\u001b[1;33m\u001b[0m\u001b[0m\n",
      "\u001b[1;32m~\\Anaconda3\\lib\\site-packages\\pandas\\core\\generic.py\u001b[0m in \u001b[0;36m_protect_consolidate\u001b[1;34m(self, f)\u001b[0m\n\u001b[0;32m   5334\u001b[0m         \"\"\"\n\u001b[0;32m   5335\u001b[0m         \u001b[0mblocks_before\u001b[0m \u001b[1;33m=\u001b[0m \u001b[0mlen\u001b[0m\u001b[1;33m(\u001b[0m\u001b[0mself\u001b[0m\u001b[1;33m.\u001b[0m\u001b[0m_data\u001b[0m\u001b[1;33m.\u001b[0m\u001b[0mblocks\u001b[0m\u001b[1;33m)\u001b[0m\u001b[1;33m\u001b[0m\u001b[1;33m\u001b[0m\u001b[0m\n\u001b[1;32m-> 5336\u001b[1;33m         \u001b[0mresult\u001b[0m \u001b[1;33m=\u001b[0m \u001b[0mf\u001b[0m\u001b[1;33m(\u001b[0m\u001b[1;33m)\u001b[0m\u001b[1;33m\u001b[0m\u001b[1;33m\u001b[0m\u001b[0m\n\u001b[0m\u001b[0;32m   5337\u001b[0m         \u001b[1;32mif\u001b[0m \u001b[0mlen\u001b[0m\u001b[1;33m(\u001b[0m\u001b[0mself\u001b[0m\u001b[1;33m.\u001b[0m\u001b[0m_data\u001b[0m\u001b[1;33m.\u001b[0m\u001b[0mblocks\u001b[0m\u001b[1;33m)\u001b[0m \u001b[1;33m!=\u001b[0m \u001b[0mblocks_before\u001b[0m\u001b[1;33m:\u001b[0m\u001b[1;33m\u001b[0m\u001b[1;33m\u001b[0m\u001b[0m\n\u001b[0;32m   5338\u001b[0m             \u001b[0mself\u001b[0m\u001b[1;33m.\u001b[0m\u001b[0m_clear_item_cache\u001b[0m\u001b[1;33m(\u001b[0m\u001b[1;33m)\u001b[0m\u001b[1;33m\u001b[0m\u001b[1;33m\u001b[0m\u001b[0m\n",
      "\u001b[1;32m~\\Anaconda3\\lib\\site-packages\\pandas\\core\\generic.py\u001b[0m in \u001b[0;36mf\u001b[1;34m()\u001b[0m\n\u001b[0;32m   5343\u001b[0m \u001b[1;33m\u001b[0m\u001b[0m\n\u001b[0;32m   5344\u001b[0m         \u001b[1;32mdef\u001b[0m \u001b[0mf\u001b[0m\u001b[1;33m(\u001b[0m\u001b[1;33m)\u001b[0m\u001b[1;33m:\u001b[0m\u001b[1;33m\u001b[0m\u001b[1;33m\u001b[0m\u001b[0m\n\u001b[1;32m-> 5345\u001b[1;33m             \u001b[0mself\u001b[0m\u001b[1;33m.\u001b[0m\u001b[0m_data\u001b[0m \u001b[1;33m=\u001b[0m \u001b[0mself\u001b[0m\u001b[1;33m.\u001b[0m\u001b[0m_data\u001b[0m\u001b[1;33m.\u001b[0m\u001b[0mconsolidate\u001b[0m\u001b[1;33m(\u001b[0m\u001b[1;33m)\u001b[0m\u001b[1;33m\u001b[0m\u001b[1;33m\u001b[0m\u001b[0m\n\u001b[0m\u001b[0;32m   5346\u001b[0m \u001b[1;33m\u001b[0m\u001b[0m\n\u001b[0;32m   5347\u001b[0m         \u001b[0mself\u001b[0m\u001b[1;33m.\u001b[0m\u001b[0m_protect_consolidate\u001b[0m\u001b[1;33m(\u001b[0m\u001b[0mf\u001b[0m\u001b[1;33m)\u001b[0m\u001b[1;33m\u001b[0m\u001b[1;33m\u001b[0m\u001b[0m\n",
      "\u001b[1;32m~\\Anaconda3\\lib\\site-packages\\pandas\\core\\internals\\managers.py\u001b[0m in \u001b[0;36mconsolidate\u001b[1;34m(self)\u001b[0m\n\u001b[0;32m    938\u001b[0m         \u001b[0mbm\u001b[0m \u001b[1;33m=\u001b[0m \u001b[0mtype\u001b[0m\u001b[1;33m(\u001b[0m\u001b[0mself\u001b[0m\u001b[1;33m)\u001b[0m\u001b[1;33m(\u001b[0m\u001b[0mself\u001b[0m\u001b[1;33m.\u001b[0m\u001b[0mblocks\u001b[0m\u001b[1;33m,\u001b[0m \u001b[0mself\u001b[0m\u001b[1;33m.\u001b[0m\u001b[0maxes\u001b[0m\u001b[1;33m)\u001b[0m\u001b[1;33m\u001b[0m\u001b[1;33m\u001b[0m\u001b[0m\n\u001b[0;32m    939\u001b[0m         \u001b[0mbm\u001b[0m\u001b[1;33m.\u001b[0m\u001b[0m_is_consolidated\u001b[0m \u001b[1;33m=\u001b[0m \u001b[1;32mFalse\u001b[0m\u001b[1;33m\u001b[0m\u001b[1;33m\u001b[0m\u001b[0m\n\u001b[1;32m--> 940\u001b[1;33m         \u001b[0mbm\u001b[0m\u001b[1;33m.\u001b[0m\u001b[0m_consolidate_inplace\u001b[0m\u001b[1;33m(\u001b[0m\u001b[1;33m)\u001b[0m\u001b[1;33m\u001b[0m\u001b[1;33m\u001b[0m\u001b[0m\n\u001b[0m\u001b[0;32m    941\u001b[0m         \u001b[1;32mreturn\u001b[0m \u001b[0mbm\u001b[0m\u001b[1;33m\u001b[0m\u001b[1;33m\u001b[0m\u001b[0m\n\u001b[0;32m    942\u001b[0m \u001b[1;33m\u001b[0m\u001b[0m\n",
      "\u001b[1;32m~\\Anaconda3\\lib\\site-packages\\pandas\\core\\internals\\managers.py\u001b[0m in \u001b[0;36m_consolidate_inplace\u001b[1;34m(self)\u001b[0m\n\u001b[0;32m    943\u001b[0m     \u001b[1;32mdef\u001b[0m \u001b[0m_consolidate_inplace\u001b[0m\u001b[1;33m(\u001b[0m\u001b[0mself\u001b[0m\u001b[1;33m)\u001b[0m\u001b[1;33m:\u001b[0m\u001b[1;33m\u001b[0m\u001b[1;33m\u001b[0m\u001b[0m\n\u001b[0;32m    944\u001b[0m         \u001b[1;32mif\u001b[0m \u001b[1;32mnot\u001b[0m \u001b[0mself\u001b[0m\u001b[1;33m.\u001b[0m\u001b[0mis_consolidated\u001b[0m\u001b[1;33m(\u001b[0m\u001b[1;33m)\u001b[0m\u001b[1;33m:\u001b[0m\u001b[1;33m\u001b[0m\u001b[1;33m\u001b[0m\u001b[0m\n\u001b[1;32m--> 945\u001b[1;33m             \u001b[0mself\u001b[0m\u001b[1;33m.\u001b[0m\u001b[0mblocks\u001b[0m \u001b[1;33m=\u001b[0m \u001b[0mtuple\u001b[0m\u001b[1;33m(\u001b[0m\u001b[0m_consolidate\u001b[0m\u001b[1;33m(\u001b[0m\u001b[0mself\u001b[0m\u001b[1;33m.\u001b[0m\u001b[0mblocks\u001b[0m\u001b[1;33m)\u001b[0m\u001b[1;33m)\u001b[0m\u001b[1;33m\u001b[0m\u001b[1;33m\u001b[0m\u001b[0m\n\u001b[0m\u001b[0;32m    946\u001b[0m             \u001b[0mself\u001b[0m\u001b[1;33m.\u001b[0m\u001b[0m_is_consolidated\u001b[0m \u001b[1;33m=\u001b[0m \u001b[1;32mTrue\u001b[0m\u001b[1;33m\u001b[0m\u001b[1;33m\u001b[0m\u001b[0m\n\u001b[0;32m    947\u001b[0m             \u001b[0mself\u001b[0m\u001b[1;33m.\u001b[0m\u001b[0m_known_consolidated\u001b[0m \u001b[1;33m=\u001b[0m \u001b[1;32mTrue\u001b[0m\u001b[1;33m\u001b[0m\u001b[1;33m\u001b[0m\u001b[0m\n",
      "\u001b[1;32m~\\Anaconda3\\lib\\site-packages\\pandas\\core\\internals\\managers.py\u001b[0m in \u001b[0;36m_consolidate\u001b[1;34m(blocks)\u001b[0m\n\u001b[0;32m   1885\u001b[0m     \u001b[1;32mfor\u001b[0m \u001b[1;33m(\u001b[0m\u001b[0m_can_consolidate\u001b[0m\u001b[1;33m,\u001b[0m \u001b[0mdtype\u001b[0m\u001b[1;33m)\u001b[0m\u001b[1;33m,\u001b[0m \u001b[0mgroup_blocks\u001b[0m \u001b[1;32min\u001b[0m \u001b[0mgrouper\u001b[0m\u001b[1;33m:\u001b[0m\u001b[1;33m\u001b[0m\u001b[1;33m\u001b[0m\u001b[0m\n\u001b[0;32m   1886\u001b[0m         merged_blocks = _merge_blocks(\n\u001b[1;32m-> 1887\u001b[1;33m             \u001b[0mlist\u001b[0m\u001b[1;33m(\u001b[0m\u001b[0mgroup_blocks\u001b[0m\u001b[1;33m)\u001b[0m\u001b[1;33m,\u001b[0m \u001b[0mdtype\u001b[0m\u001b[1;33m=\u001b[0m\u001b[0mdtype\u001b[0m\u001b[1;33m,\u001b[0m \u001b[0m_can_consolidate\u001b[0m\u001b[1;33m=\u001b[0m\u001b[0m_can_consolidate\u001b[0m\u001b[1;33m\u001b[0m\u001b[1;33m\u001b[0m\u001b[0m\n\u001b[0m\u001b[0;32m   1888\u001b[0m         )\n\u001b[0;32m   1889\u001b[0m         \u001b[0mnew_blocks\u001b[0m \u001b[1;33m=\u001b[0m \u001b[0m_extend_blocks\u001b[0m\u001b[1;33m(\u001b[0m\u001b[0mmerged_blocks\u001b[0m\u001b[1;33m,\u001b[0m \u001b[0mnew_blocks\u001b[0m\u001b[1;33m)\u001b[0m\u001b[1;33m\u001b[0m\u001b[1;33m\u001b[0m\u001b[0m\n",
      "\u001b[1;32m~\\Anaconda3\\lib\\site-packages\\pandas\\core\\internals\\blocks.py\u001b[0m in \u001b[0;36m_merge_blocks\u001b[1;34m(blocks, dtype, _can_consolidate)\u001b[0m\n\u001b[0;32m   3106\u001b[0m \u001b[1;33m\u001b[0m\u001b[0m\n\u001b[0;32m   3107\u001b[0m         \u001b[0margsort\u001b[0m \u001b[1;33m=\u001b[0m \u001b[0mnp\u001b[0m\u001b[1;33m.\u001b[0m\u001b[0margsort\u001b[0m\u001b[1;33m(\u001b[0m\u001b[0mnew_mgr_locs\u001b[0m\u001b[1;33m)\u001b[0m\u001b[1;33m\u001b[0m\u001b[1;33m\u001b[0m\u001b[0m\n\u001b[1;32m-> 3108\u001b[1;33m         \u001b[0mnew_values\u001b[0m \u001b[1;33m=\u001b[0m \u001b[0mnew_values\u001b[0m\u001b[1;33m[\u001b[0m\u001b[0margsort\u001b[0m\u001b[1;33m]\u001b[0m\u001b[1;33m\u001b[0m\u001b[1;33m\u001b[0m\u001b[0m\n\u001b[0m\u001b[0;32m   3109\u001b[0m         \u001b[0mnew_mgr_locs\u001b[0m \u001b[1;33m=\u001b[0m \u001b[0mnew_mgr_locs\u001b[0m\u001b[1;33m[\u001b[0m\u001b[0margsort\u001b[0m\u001b[1;33m]\u001b[0m\u001b[1;33m\u001b[0m\u001b[1;33m\u001b[0m\u001b[0m\n\u001b[0;32m   3110\u001b[0m \u001b[1;33m\u001b[0m\u001b[0m\n",
      "\u001b[1;31mMemoryError\u001b[0m: Unable to allocate 2.45 GiB for an array with shape (317, 1036743) and data type float64"
     ]
    }
   ],
   "source": [
    "for i in tqdm(range(1,6)): \n",
    "    tr_label_date      = parse('2017-04-23') - timedelta(7*6 - 7 *i) \n",
    "    df_tr_tmp          = get_features(df_meta, air_reserve, hpg_air_reserve,days=42 - 7*i, label_st_date= tr_label_date)    \n",
    "    df_tr_feas         = pd.concat([df_tr_feas, df_tr_tmp], axis=0,ignore_index=True) \n",
    "    tr_fea_list.append(df_tr_tmp)\n",
    "\n",
    "val_label_date    = parse('2017-04-23')  - timedelta(7*6) \n",
    "te_fea_date       = parse('2017-04-23')\n",
    " \n",
    "df_val = get_features(df_meta,air_reserve, hpg_air_reserve, label_st_date= val_label_date)    \n",
    "df_te  = get_features(df_meta,air_reserve, hpg_air_reserve, label_st_date= te_fea_date, is_te=True)      \n",
    "\n",
    "## df_date['visit_date'] = pd.to_datetime(df_date['visit_date'])\n",
    "df_date['visit_date'] = df_date['visit_date'].astype(str)\n",
    "df_tr                 = df_tr_feas.merge(df_date, on = ['visit_date'], how = 'left')\n",
    "df_tr                 = df_tr.merge(df_storeid,   on = ['air_store_id'], how = 'left')  \n",
    "df_tr['visit_date']   = pd.to_datetime(df_tr['visit_date'])\n",
    "df_tr['day_to_now']   = df_tr['visit_date'].apply(lambda x : (parse('2017-04-22') - (x)).days) \n",
    " \n",
    "df_val = df_val.merge(df_date,       on = ['visit_date'], how = 'left')\n",
    "df_val = df_val.merge(df_storeid,    on = ['air_store_id'], how = 'left')  \n",
    " \n",
    "df_te  = df_te.merge(df_date,       on = ['visit_date'], how = 'left') \n",
    "df_te  = df_te.merge(df_storeid,    on = ['air_store_id'], how = 'left')"
   ]
  },
  {
   "cell_type": "code",
   "execution_count": null,
   "metadata": {
    "ExecuteTime": {
     "end_time": "2020-07-04T05:26:04.813606Z",
     "start_time": "2020-07-04T04:35:10.756Z"
    }
   },
   "outputs": [],
   "source": [
    "other_cols   = [col for col in df_tr_feas.columns if df_tr_feas[col].dtypes!='object' and col not in ['air_store_id','visit_date','air_store_id_weekday','air_store_id_holiday','air_store_id_weekday_holiday','visitors','weekday',\\\n",
    "                                                                'air_store_id_visit_date','air_area_name','air_area_name_weekday']]\n",
    "date_cols    = [col for col in df_date.columns if col not in ['visit_date']]\n",
    "storeid_cols = [col for col in df_storeid.columns if col not in ['air_store_id']]\n",
    "\n",
    "le = LabelEncoder()\n",
    "le.fit(list(set(df_tr['air_store_id'].values)) + list(set(df_val['air_store_id'].values)) + list(set(df_te['air_store_id'].values)))   \n",
    "\n",
    "df_tr['air_store_id_lb']  = le.transform(df_tr['air_store_id'].values)\n",
    "df_val['air_store_id_lb'] = le.transform(df_val['air_store_id'].values)\n",
    "df_te['air_store_id_lb']  = le.transform(df_te['air_store_id'].values)"
   ]
  },
  {
   "cell_type": "code",
   "execution_count": null,
   "metadata": {
    "ExecuteTime": {
     "end_time": "2020-07-04T05:26:04.815606Z",
     "start_time": "2020-07-04T04:35:10.763Z"
    }
   },
   "outputs": [],
   "source": [
    "label_col    = 'visitors' \n",
    "feature_cols = date_cols + storeid_cols + other_cols + ['air_store_id_lb']  \n",
    "feature_cols = [col for col in feature_cols if col not in ['day_to_last_holiday','day_to_next_holiday']]\n",
    "\n",
    "models1, feature_importance1,test_pred1 = lgb_model_test_weight_timebased(df_tr = df_tr, df_val = df_val,features =feature_cols , ws = [1.0], test_df=df_te)\n",
    "\n",
    "submit = df_te[ ['air_store_id','visit_date']].copy()\n",
    "submit['id'] = submit['air_store_id'] + '_' + submit['visit_date'].astype(str) \n",
    "submit['visitors'] =  np.expm1(test_pred1[0])\n",
    "submit['visitors'] = submit['visitors'] #.astype(int)\n",
    "submit.loc[submit['visitors'] == 0, 'visitors'] = 1\n",
    "submit[['id','visitors']].to_csv('../sub/sub.csv',index = None)"
   ]
  }
 ],
 "metadata": {
  "kernelspec": {
   "display_name": "Python 3",
   "language": "python",
   "name": "python3"
  },
  "language_info": {
   "codemirror_mode": {
    "name": "ipython",
    "version": 3
   },
   "file_extension": ".py",
   "mimetype": "text/x-python",
   "name": "python",
   "nbconvert_exporter": "python",
   "pygments_lexer": "ipython3",
   "version": "3.7.3"
  },
  "toc": {
   "base_numbering": 1,
   "nav_menu": {},
   "number_sections": true,
   "sideBar": true,
   "skip_h1_title": false,
   "title_cell": "Table of Contents",
   "title_sidebar": "Contents",
   "toc_cell": false,
   "toc_position": {},
   "toc_section_display": true,
   "toc_window_display": false
  },
  "varInspector": {
   "cols": {
    "lenName": 16,
    "lenType": 16,
    "lenVar": 40
   },
   "kernels_config": {
    "python": {
     "delete_cmd_postfix": "",
     "delete_cmd_prefix": "del ",
     "library": "var_list.py",
     "varRefreshCmd": "print(var_dic_list())"
    },
    "r": {
     "delete_cmd_postfix": ") ",
     "delete_cmd_prefix": "rm(",
     "library": "var_list.r",
     "varRefreshCmd": "cat(var_dic_list()) "
    }
   },
   "types_to_exclude": [
    "module",
    "function",
    "builtin_function_or_method",
    "instance",
    "_Feature"
   ],
   "window_display": false
  }
 },
 "nbformat": 4,
 "nbformat_minor": 4
}
