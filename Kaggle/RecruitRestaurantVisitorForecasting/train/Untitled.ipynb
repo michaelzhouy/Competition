{
 "cells": [
  {
   "cell_type": "markdown",
   "metadata": {},
   "source": [
    "https://mp.weixin.qq.com/s/0qOGevwTltu2SJ-QanW0VA\n",
    "\n",
    "https://mp.weixin.qq.com/s/kDC5VKm0j2VufIo-aOlfrg"
   ]
  },
  {
   "cell_type": "markdown",
   "metadata": {},
   "source": [
    "# 工具包导入&数据读取\n",
    "## 工具包导入"
   ]
  },
  {
   "cell_type": "code",
   "execution_count": 16,
   "metadata": {
    "ExecuteTime": {
     "end_time": "2020-07-03T07:14:13.693501Z",
     "start_time": "2020-07-03T07:14:13.682567Z"
    }
   },
   "outputs": [],
   "source": [
    "import numpy as np\n",
    "import pandas as pd\n",
    "import os\n",
    "from datetime import date \n",
    "from sklearn.metrics import f1_score\n",
    "from tqdm import tqdm_notebook\n",
    "from sklearn.preprocessing import StandardScaler\n",
    "from sklearn.svm import NuSVR, SVR\n",
    "from sklearn.metrics import mean_absolute_error\n",
    "\n",
    "import lightgbm as lgb\n",
    "import xgboost as xgb\n",
    "import time\n",
    "import datetime\n",
    "from catboost import CatBoostRegressor\n",
    "from sklearn.preprocessing import LabelEncoder\n",
    "from sklearn.model_selection import StratifiedKFold, KFold, RepeatedKFold\n",
    "from sklearn.metrics import mean_absolute_error\n",
    "from sklearn.linear_model import LinearRegression\n",
    "import gc\n",
    "\n",
    "from scipy.signal import hilbert\n",
    "from scipy.signal import hann\n",
    "from scipy.signal import convolve\n",
    "from scipy import stats\n",
    "from sklearn.kernel_ridge import KernelRidge\n",
    "\n",
    "from dateutil.parser import parse\n",
    "\n",
    "import seaborn as sns\n",
    "import matplotlib.pyplot as plt\n",
    "%matplotlib inline\n",
    "\n",
    "import warnings\n",
    "warnings.filterwarnings(\"ignore\")\n",
    "\n",
    "from tqdm import tqdm\n",
    "\n",
    "from itertools import product\n",
    "import ast\n",
    "\n",
    "from datetime import timedelta \n",
    "from time import time"
   ]
  },
  {
   "cell_type": "markdown",
   "metadata": {},
   "source": [
    "## 数据读取"
   ]
  },
  {
   "cell_type": "code",
   "execution_count": 2,
   "metadata": {
    "ExecuteTime": {
     "end_time": "2020-07-03T06:34:20.547604Z",
     "start_time": "2020-07-03T06:34:19.181236Z"
    }
   },
   "outputs": [],
   "source": [
    "path = '../input/'\n",
    "\n",
    "air_visit_data      =  pd.read_csv(path + 'air_visit_data.csv') \n",
    "\n",
    "hpg_store_info      =  pd.read_csv(path + 'hpg_store_info.csv')\n",
    "air_store_info      =  pd.read_csv(path + 'air_store_info.csv')\n",
    "\n",
    "hpg_reserve         =  pd.read_csv(path + 'hpg_reserve.csv')\n",
    "air_reserve         =  pd.read_csv(path + 'air_reserve.csv') \n",
    "\n",
    "date_info           =  pd.read_csv(path + 'date_info.csv')  \n",
    "\n",
    "store_id_relation   =  pd.read_csv(path + 'store_id_relation.csv')     \n",
    "\n",
    "sample_submission   =  pd.read_csv(path + 'sample_submission.csv')"
   ]
  },
  {
   "cell_type": "markdown",
   "metadata": {},
   "source": [
    "**air_visit_data.csv**\n",
    "\n",
    "This file contains historical visit data for the air restaurants.\n",
    "\n",
    "- air_store_id\n",
    "- visit_date - the date\n",
    "- visitors - the number of visitors to the restaurant on the date"
   ]
  },
  {
   "cell_type": "code",
   "execution_count": 3,
   "metadata": {
    "ExecuteTime": {
     "end_time": "2020-07-03T06:34:20.563653Z",
     "start_time": "2020-07-03T06:34:20.547604Z"
    }
   },
   "outputs": [
    {
     "data": {
      "text/html": [
       "<div>\n",
       "<style scoped>\n",
       "    .dataframe tbody tr th:only-of-type {\n",
       "        vertical-align: middle;\n",
       "    }\n",
       "\n",
       "    .dataframe tbody tr th {\n",
       "        vertical-align: top;\n",
       "    }\n",
       "\n",
       "    .dataframe thead th {\n",
       "        text-align: right;\n",
       "    }\n",
       "</style>\n",
       "<table border=\"1\" class=\"dataframe\">\n",
       "  <thead>\n",
       "    <tr style=\"text-align: right;\">\n",
       "      <th></th>\n",
       "      <th>air_store_id</th>\n",
       "      <th>visit_date</th>\n",
       "      <th>visitors</th>\n",
       "    </tr>\n",
       "  </thead>\n",
       "  <tbody>\n",
       "    <tr>\n",
       "      <th>0</th>\n",
       "      <td>air_ba937bf13d40fb24</td>\n",
       "      <td>2016-01-13</td>\n",
       "      <td>25</td>\n",
       "    </tr>\n",
       "    <tr>\n",
       "      <th>1</th>\n",
       "      <td>air_ba937bf13d40fb24</td>\n",
       "      <td>2016-01-14</td>\n",
       "      <td>32</td>\n",
       "    </tr>\n",
       "    <tr>\n",
       "      <th>2</th>\n",
       "      <td>air_ba937bf13d40fb24</td>\n",
       "      <td>2016-01-15</td>\n",
       "      <td>29</td>\n",
       "    </tr>\n",
       "    <tr>\n",
       "      <th>3</th>\n",
       "      <td>air_ba937bf13d40fb24</td>\n",
       "      <td>2016-01-16</td>\n",
       "      <td>22</td>\n",
       "    </tr>\n",
       "    <tr>\n",
       "      <th>4</th>\n",
       "      <td>air_ba937bf13d40fb24</td>\n",
       "      <td>2016-01-18</td>\n",
       "      <td>6</td>\n",
       "    </tr>\n",
       "  </tbody>\n",
       "</table>\n",
       "</div>"
      ],
      "text/plain": [
       "           air_store_id  visit_date  visitors\n",
       "0  air_ba937bf13d40fb24  2016-01-13        25\n",
       "1  air_ba937bf13d40fb24  2016-01-14        32\n",
       "2  air_ba937bf13d40fb24  2016-01-15        29\n",
       "3  air_ba937bf13d40fb24  2016-01-16        22\n",
       "4  air_ba937bf13d40fb24  2016-01-18         6"
      ]
     },
     "execution_count": 3,
     "metadata": {},
     "output_type": "execute_result"
    }
   ],
   "source": [
    "air_visit_data.head()"
   ]
  },
  {
   "cell_type": "markdown",
   "metadata": {},
   "source": [
    "**hpg_store_info.csv**\n",
    "\n",
    "This file contains information about select hpg restaurants. Column names and contents are self-explanatory.\n",
    "\n",
    "- hpg_store_id\n",
    "- hpg_genre_name\n",
    "- hpg_area_name\n",
    "- latitude\n",
    "- longitude\n",
    "\n",
    "Note: latitude and longitude are the latitude and longitude of the area to which the store belongs"
   ]
  },
  {
   "cell_type": "code",
   "execution_count": 4,
   "metadata": {
    "ExecuteTime": {
     "end_time": "2020-07-03T06:34:20.573691Z",
     "start_time": "2020-07-03T06:34:20.564650Z"
    }
   },
   "outputs": [
    {
     "data": {
      "text/html": [
       "<div>\n",
       "<style scoped>\n",
       "    .dataframe tbody tr th:only-of-type {\n",
       "        vertical-align: middle;\n",
       "    }\n",
       "\n",
       "    .dataframe tbody tr th {\n",
       "        vertical-align: top;\n",
       "    }\n",
       "\n",
       "    .dataframe thead th {\n",
       "        text-align: right;\n",
       "    }\n",
       "</style>\n",
       "<table border=\"1\" class=\"dataframe\">\n",
       "  <thead>\n",
       "    <tr style=\"text-align: right;\">\n",
       "      <th></th>\n",
       "      <th>hpg_store_id</th>\n",
       "      <th>hpg_genre_name</th>\n",
       "      <th>hpg_area_name</th>\n",
       "      <th>latitude</th>\n",
       "      <th>longitude</th>\n",
       "    </tr>\n",
       "  </thead>\n",
       "  <tbody>\n",
       "    <tr>\n",
       "      <th>0</th>\n",
       "      <td>hpg_6622b62385aec8bf</td>\n",
       "      <td>Japanese style</td>\n",
       "      <td>Tōkyō-to Setagaya-ku Taishidō</td>\n",
       "      <td>35.643675</td>\n",
       "      <td>139.668221</td>\n",
       "    </tr>\n",
       "    <tr>\n",
       "      <th>1</th>\n",
       "      <td>hpg_e9e068dd49c5fa00</td>\n",
       "      <td>Japanese style</td>\n",
       "      <td>Tōkyō-to Setagaya-ku Taishidō</td>\n",
       "      <td>35.643675</td>\n",
       "      <td>139.668221</td>\n",
       "    </tr>\n",
       "    <tr>\n",
       "      <th>2</th>\n",
       "      <td>hpg_2976f7acb4b3a3bc</td>\n",
       "      <td>Japanese style</td>\n",
       "      <td>Tōkyō-to Setagaya-ku Taishidō</td>\n",
       "      <td>35.643675</td>\n",
       "      <td>139.668221</td>\n",
       "    </tr>\n",
       "    <tr>\n",
       "      <th>3</th>\n",
       "      <td>hpg_e51a522e098f024c</td>\n",
       "      <td>Japanese style</td>\n",
       "      <td>Tōkyō-to Setagaya-ku Taishidō</td>\n",
       "      <td>35.643675</td>\n",
       "      <td>139.668221</td>\n",
       "    </tr>\n",
       "    <tr>\n",
       "      <th>4</th>\n",
       "      <td>hpg_e3d0e1519894f275</td>\n",
       "      <td>Japanese style</td>\n",
       "      <td>Tōkyō-to Setagaya-ku Taishidō</td>\n",
       "      <td>35.643675</td>\n",
       "      <td>139.668221</td>\n",
       "    </tr>\n",
       "  </tbody>\n",
       "</table>\n",
       "</div>"
      ],
      "text/plain": [
       "           hpg_store_id  hpg_genre_name                  hpg_area_name  \\\n",
       "0  hpg_6622b62385aec8bf  Japanese style  Tōkyō-to Setagaya-ku Taishidō   \n",
       "1  hpg_e9e068dd49c5fa00  Japanese style  Tōkyō-to Setagaya-ku Taishidō   \n",
       "2  hpg_2976f7acb4b3a3bc  Japanese style  Tōkyō-to Setagaya-ku Taishidō   \n",
       "3  hpg_e51a522e098f024c  Japanese style  Tōkyō-to Setagaya-ku Taishidō   \n",
       "4  hpg_e3d0e1519894f275  Japanese style  Tōkyō-to Setagaya-ku Taishidō   \n",
       "\n",
       "    latitude   longitude  \n",
       "0  35.643675  139.668221  \n",
       "1  35.643675  139.668221  \n",
       "2  35.643675  139.668221  \n",
       "3  35.643675  139.668221  \n",
       "4  35.643675  139.668221  "
      ]
     },
     "execution_count": 4,
     "metadata": {},
     "output_type": "execute_result"
    }
   ],
   "source": [
    "hpg_store_info.head()"
   ]
  },
  {
   "cell_type": "markdown",
   "metadata": {},
   "source": [
    "**air_store_info.csv**\n",
    "\n",
    "This file contains information about select air restaurants. Column names and contents are self-explanatory.\n",
    "\n",
    "- air_store_id\n",
    "- air_genre_name\n",
    "- air_area_name\n",
    "- latitude\n",
    "- longitude\n",
    "\n",
    "Note: latitude and longitude are the latitude and longitude of the area to which the store belongs"
   ]
  },
  {
   "cell_type": "code",
   "execution_count": 5,
   "metadata": {
    "ExecuteTime": {
     "end_time": "2020-07-03T06:34:20.584634Z",
     "start_time": "2020-07-03T06:34:20.574666Z"
    }
   },
   "outputs": [
    {
     "data": {
      "text/html": [
       "<div>\n",
       "<style scoped>\n",
       "    .dataframe tbody tr th:only-of-type {\n",
       "        vertical-align: middle;\n",
       "    }\n",
       "\n",
       "    .dataframe tbody tr th {\n",
       "        vertical-align: top;\n",
       "    }\n",
       "\n",
       "    .dataframe thead th {\n",
       "        text-align: right;\n",
       "    }\n",
       "</style>\n",
       "<table border=\"1\" class=\"dataframe\">\n",
       "  <thead>\n",
       "    <tr style=\"text-align: right;\">\n",
       "      <th></th>\n",
       "      <th>air_store_id</th>\n",
       "      <th>air_genre_name</th>\n",
       "      <th>air_area_name</th>\n",
       "      <th>latitude</th>\n",
       "      <th>longitude</th>\n",
       "    </tr>\n",
       "  </thead>\n",
       "  <tbody>\n",
       "    <tr>\n",
       "      <th>0</th>\n",
       "      <td>air_0f0cdeee6c9bf3d7</td>\n",
       "      <td>Italian/French</td>\n",
       "      <td>Hyōgo-ken Kōbe-shi Kumoidōri</td>\n",
       "      <td>34.695124</td>\n",
       "      <td>135.197852</td>\n",
       "    </tr>\n",
       "    <tr>\n",
       "      <th>1</th>\n",
       "      <td>air_7cc17a324ae5c7dc</td>\n",
       "      <td>Italian/French</td>\n",
       "      <td>Hyōgo-ken Kōbe-shi Kumoidōri</td>\n",
       "      <td>34.695124</td>\n",
       "      <td>135.197852</td>\n",
       "    </tr>\n",
       "    <tr>\n",
       "      <th>2</th>\n",
       "      <td>air_fee8dcf4d619598e</td>\n",
       "      <td>Italian/French</td>\n",
       "      <td>Hyōgo-ken Kōbe-shi Kumoidōri</td>\n",
       "      <td>34.695124</td>\n",
       "      <td>135.197852</td>\n",
       "    </tr>\n",
       "    <tr>\n",
       "      <th>3</th>\n",
       "      <td>air_a17f0778617c76e2</td>\n",
       "      <td>Italian/French</td>\n",
       "      <td>Hyōgo-ken Kōbe-shi Kumoidōri</td>\n",
       "      <td>34.695124</td>\n",
       "      <td>135.197852</td>\n",
       "    </tr>\n",
       "    <tr>\n",
       "      <th>4</th>\n",
       "      <td>air_83db5aff8f50478e</td>\n",
       "      <td>Italian/French</td>\n",
       "      <td>Tōkyō-to Minato-ku Shibakōen</td>\n",
       "      <td>35.658068</td>\n",
       "      <td>139.751599</td>\n",
       "    </tr>\n",
       "  </tbody>\n",
       "</table>\n",
       "</div>"
      ],
      "text/plain": [
       "           air_store_id  air_genre_name                 air_area_name  \\\n",
       "0  air_0f0cdeee6c9bf3d7  Italian/French  Hyōgo-ken Kōbe-shi Kumoidōri   \n",
       "1  air_7cc17a324ae5c7dc  Italian/French  Hyōgo-ken Kōbe-shi Kumoidōri   \n",
       "2  air_fee8dcf4d619598e  Italian/French  Hyōgo-ken Kōbe-shi Kumoidōri   \n",
       "3  air_a17f0778617c76e2  Italian/French  Hyōgo-ken Kōbe-shi Kumoidōri   \n",
       "4  air_83db5aff8f50478e  Italian/French  Tōkyō-to Minato-ku Shibakōen   \n",
       "\n",
       "    latitude   longitude  \n",
       "0  34.695124  135.197852  \n",
       "1  34.695124  135.197852  \n",
       "2  34.695124  135.197852  \n",
       "3  34.695124  135.197852  \n",
       "4  35.658068  139.751599  "
      ]
     },
     "execution_count": 5,
     "metadata": {},
     "output_type": "execute_result"
    }
   ],
   "source": [
    "air_store_info.head()"
   ]
  },
  {
   "cell_type": "markdown",
   "metadata": {},
   "source": [
    "**hpg_reserve.csv**\n",
    "\n",
    "This file contains reservations made in the hpg system.\n",
    "\n",
    "- hpg_store_id - the restaurant's id in the hpg system\n",
    "- visit_datetime - the time of the reservation\n",
    "- reserve_datetime - the time the reservation was made\n",
    "- reserve_visitors - the number of visitors for that reservation"
   ]
  },
  {
   "cell_type": "code",
   "execution_count": 6,
   "metadata": {
    "ExecuteTime": {
     "end_time": "2020-07-03T06:34:20.596564Z",
     "start_time": "2020-07-03T06:34:20.585595Z"
    }
   },
   "outputs": [
    {
     "data": {
      "text/html": [
       "<div>\n",
       "<style scoped>\n",
       "    .dataframe tbody tr th:only-of-type {\n",
       "        vertical-align: middle;\n",
       "    }\n",
       "\n",
       "    .dataframe tbody tr th {\n",
       "        vertical-align: top;\n",
       "    }\n",
       "\n",
       "    .dataframe thead th {\n",
       "        text-align: right;\n",
       "    }\n",
       "</style>\n",
       "<table border=\"1\" class=\"dataframe\">\n",
       "  <thead>\n",
       "    <tr style=\"text-align: right;\">\n",
       "      <th></th>\n",
       "      <th>hpg_store_id</th>\n",
       "      <th>visit_datetime</th>\n",
       "      <th>reserve_datetime</th>\n",
       "      <th>reserve_visitors</th>\n",
       "    </tr>\n",
       "  </thead>\n",
       "  <tbody>\n",
       "    <tr>\n",
       "      <th>0</th>\n",
       "      <td>hpg_c63f6f42e088e50f</td>\n",
       "      <td>2016-01-01 11:00:00</td>\n",
       "      <td>2016-01-01 09:00:00</td>\n",
       "      <td>1</td>\n",
       "    </tr>\n",
       "    <tr>\n",
       "      <th>1</th>\n",
       "      <td>hpg_dac72789163a3f47</td>\n",
       "      <td>2016-01-01 13:00:00</td>\n",
       "      <td>2016-01-01 06:00:00</td>\n",
       "      <td>3</td>\n",
       "    </tr>\n",
       "    <tr>\n",
       "      <th>2</th>\n",
       "      <td>hpg_c8e24dcf51ca1eb5</td>\n",
       "      <td>2016-01-01 16:00:00</td>\n",
       "      <td>2016-01-01 14:00:00</td>\n",
       "      <td>2</td>\n",
       "    </tr>\n",
       "    <tr>\n",
       "      <th>3</th>\n",
       "      <td>hpg_24bb207e5fd49d4a</td>\n",
       "      <td>2016-01-01 17:00:00</td>\n",
       "      <td>2016-01-01 11:00:00</td>\n",
       "      <td>5</td>\n",
       "    </tr>\n",
       "    <tr>\n",
       "      <th>4</th>\n",
       "      <td>hpg_25291c542ebb3bc2</td>\n",
       "      <td>2016-01-01 17:00:00</td>\n",
       "      <td>2016-01-01 03:00:00</td>\n",
       "      <td>13</td>\n",
       "    </tr>\n",
       "  </tbody>\n",
       "</table>\n",
       "</div>"
      ],
      "text/plain": [
       "           hpg_store_id       visit_datetime     reserve_datetime  \\\n",
       "0  hpg_c63f6f42e088e50f  2016-01-01 11:00:00  2016-01-01 09:00:00   \n",
       "1  hpg_dac72789163a3f47  2016-01-01 13:00:00  2016-01-01 06:00:00   \n",
       "2  hpg_c8e24dcf51ca1eb5  2016-01-01 16:00:00  2016-01-01 14:00:00   \n",
       "3  hpg_24bb207e5fd49d4a  2016-01-01 17:00:00  2016-01-01 11:00:00   \n",
       "4  hpg_25291c542ebb3bc2  2016-01-01 17:00:00  2016-01-01 03:00:00   \n",
       "\n",
       "   reserve_visitors  \n",
       "0                 1  \n",
       "1                 3  \n",
       "2                 2  \n",
       "3                 5  \n",
       "4                13  "
      ]
     },
     "execution_count": 6,
     "metadata": {},
     "output_type": "execute_result"
    }
   ],
   "source": [
    "hpg_reserve.head()"
   ]
  },
  {
   "cell_type": "markdown",
   "metadata": {},
   "source": [
    "**air_reserve.csv**\n",
    "\n",
    "This file contains reservations made in the air system. Note that the reserve_datetime indicates the time when the reservation was created, whereas the visit_datetime is the time in the future where the visit will occur.\n",
    "\n",
    "- air_store_id - the restaurant's id in the air system\n",
    "- visit_datetime - the time of the reservation\n",
    "- reserve_datetime - the time the reservation was made\n",
    "- reserve_visitors - the number of visitors for that reservation"
   ]
  },
  {
   "cell_type": "code",
   "execution_count": 7,
   "metadata": {
    "ExecuteTime": {
     "end_time": "2020-07-03T06:34:20.605571Z",
     "start_time": "2020-07-03T06:34:20.597564Z"
    }
   },
   "outputs": [
    {
     "data": {
      "text/html": [
       "<div>\n",
       "<style scoped>\n",
       "    .dataframe tbody tr th:only-of-type {\n",
       "        vertical-align: middle;\n",
       "    }\n",
       "\n",
       "    .dataframe tbody tr th {\n",
       "        vertical-align: top;\n",
       "    }\n",
       "\n",
       "    .dataframe thead th {\n",
       "        text-align: right;\n",
       "    }\n",
       "</style>\n",
       "<table border=\"1\" class=\"dataframe\">\n",
       "  <thead>\n",
       "    <tr style=\"text-align: right;\">\n",
       "      <th></th>\n",
       "      <th>air_store_id</th>\n",
       "      <th>visit_datetime</th>\n",
       "      <th>reserve_datetime</th>\n",
       "      <th>reserve_visitors</th>\n",
       "    </tr>\n",
       "  </thead>\n",
       "  <tbody>\n",
       "    <tr>\n",
       "      <th>0</th>\n",
       "      <td>air_877f79706adbfb06</td>\n",
       "      <td>2016-01-01 19:00:00</td>\n",
       "      <td>2016-01-01 16:00:00</td>\n",
       "      <td>1</td>\n",
       "    </tr>\n",
       "    <tr>\n",
       "      <th>1</th>\n",
       "      <td>air_db4b38ebe7a7ceff</td>\n",
       "      <td>2016-01-01 19:00:00</td>\n",
       "      <td>2016-01-01 19:00:00</td>\n",
       "      <td>3</td>\n",
       "    </tr>\n",
       "    <tr>\n",
       "      <th>2</th>\n",
       "      <td>air_db4b38ebe7a7ceff</td>\n",
       "      <td>2016-01-01 19:00:00</td>\n",
       "      <td>2016-01-01 19:00:00</td>\n",
       "      <td>6</td>\n",
       "    </tr>\n",
       "    <tr>\n",
       "      <th>3</th>\n",
       "      <td>air_877f79706adbfb06</td>\n",
       "      <td>2016-01-01 20:00:00</td>\n",
       "      <td>2016-01-01 16:00:00</td>\n",
       "      <td>2</td>\n",
       "    </tr>\n",
       "    <tr>\n",
       "      <th>4</th>\n",
       "      <td>air_db80363d35f10926</td>\n",
       "      <td>2016-01-01 20:00:00</td>\n",
       "      <td>2016-01-01 01:00:00</td>\n",
       "      <td>5</td>\n",
       "    </tr>\n",
       "  </tbody>\n",
       "</table>\n",
       "</div>"
      ],
      "text/plain": [
       "           air_store_id       visit_datetime     reserve_datetime  \\\n",
       "0  air_877f79706adbfb06  2016-01-01 19:00:00  2016-01-01 16:00:00   \n",
       "1  air_db4b38ebe7a7ceff  2016-01-01 19:00:00  2016-01-01 19:00:00   \n",
       "2  air_db4b38ebe7a7ceff  2016-01-01 19:00:00  2016-01-01 19:00:00   \n",
       "3  air_877f79706adbfb06  2016-01-01 20:00:00  2016-01-01 16:00:00   \n",
       "4  air_db80363d35f10926  2016-01-01 20:00:00  2016-01-01 01:00:00   \n",
       "\n",
       "   reserve_visitors  \n",
       "0                 1  \n",
       "1                 3  \n",
       "2                 6  \n",
       "3                 2  \n",
       "4                 5  "
      ]
     },
     "execution_count": 7,
     "metadata": {},
     "output_type": "execute_result"
    }
   ],
   "source": [
    "air_reserve.head()"
   ]
  },
  {
   "cell_type": "code",
   "execution_count": 8,
   "metadata": {
    "ExecuteTime": {
     "end_time": "2020-07-03T06:34:20.616512Z",
     "start_time": "2020-07-03T06:34:20.608533Z"
    }
   },
   "outputs": [
    {
     "data": {
      "text/html": [
       "<div>\n",
       "<style scoped>\n",
       "    .dataframe tbody tr th:only-of-type {\n",
       "        vertical-align: middle;\n",
       "    }\n",
       "\n",
       "    .dataframe tbody tr th {\n",
       "        vertical-align: top;\n",
       "    }\n",
       "\n",
       "    .dataframe thead th {\n",
       "        text-align: right;\n",
       "    }\n",
       "</style>\n",
       "<table border=\"1\" class=\"dataframe\">\n",
       "  <thead>\n",
       "    <tr style=\"text-align: right;\">\n",
       "      <th></th>\n",
       "      <th>calendar_date</th>\n",
       "      <th>day_of_week</th>\n",
       "      <th>holiday_flg</th>\n",
       "    </tr>\n",
       "  </thead>\n",
       "  <tbody>\n",
       "    <tr>\n",
       "      <th>0</th>\n",
       "      <td>2016-01-01</td>\n",
       "      <td>Friday</td>\n",
       "      <td>1</td>\n",
       "    </tr>\n",
       "    <tr>\n",
       "      <th>1</th>\n",
       "      <td>2016-01-02</td>\n",
       "      <td>Saturday</td>\n",
       "      <td>1</td>\n",
       "    </tr>\n",
       "    <tr>\n",
       "      <th>2</th>\n",
       "      <td>2016-01-03</td>\n",
       "      <td>Sunday</td>\n",
       "      <td>1</td>\n",
       "    </tr>\n",
       "    <tr>\n",
       "      <th>3</th>\n",
       "      <td>2016-01-04</td>\n",
       "      <td>Monday</td>\n",
       "      <td>0</td>\n",
       "    </tr>\n",
       "    <tr>\n",
       "      <th>4</th>\n",
       "      <td>2016-01-05</td>\n",
       "      <td>Tuesday</td>\n",
       "      <td>0</td>\n",
       "    </tr>\n",
       "  </tbody>\n",
       "</table>\n",
       "</div>"
      ],
      "text/plain": [
       "  calendar_date day_of_week  holiday_flg\n",
       "0    2016-01-01      Friday            1\n",
       "1    2016-01-02    Saturday            1\n",
       "2    2016-01-03      Sunday            1\n",
       "3    2016-01-04      Monday            0\n",
       "4    2016-01-05     Tuesday            0"
      ]
     },
     "execution_count": 8,
     "metadata": {},
     "output_type": "execute_result"
    }
   ],
   "source": [
    "date_info.head()"
   ]
  },
  {
   "cell_type": "markdown",
   "metadata": {},
   "source": [
    "**store_id_relation.csv**\n",
    "\n",
    "This file allows you to join select restaurants that have both the air and hpg system.\n",
    "\n",
    "- hpg_store_id\n",
    "- air_store_id"
   ]
  },
  {
   "cell_type": "code",
   "execution_count": 9,
   "metadata": {
    "ExecuteTime": {
     "end_time": "2020-07-03T06:34:20.625524Z",
     "start_time": "2020-07-03T06:34:20.617509Z"
    }
   },
   "outputs": [
    {
     "data": {
      "text/html": [
       "<div>\n",
       "<style scoped>\n",
       "    .dataframe tbody tr th:only-of-type {\n",
       "        vertical-align: middle;\n",
       "    }\n",
       "\n",
       "    .dataframe tbody tr th {\n",
       "        vertical-align: top;\n",
       "    }\n",
       "\n",
       "    .dataframe thead th {\n",
       "        text-align: right;\n",
       "    }\n",
       "</style>\n",
       "<table border=\"1\" class=\"dataframe\">\n",
       "  <thead>\n",
       "    <tr style=\"text-align: right;\">\n",
       "      <th></th>\n",
       "      <th>air_store_id</th>\n",
       "      <th>hpg_store_id</th>\n",
       "    </tr>\n",
       "  </thead>\n",
       "  <tbody>\n",
       "    <tr>\n",
       "      <th>0</th>\n",
       "      <td>air_63b13c56b7201bd9</td>\n",
       "      <td>hpg_4bc649e72e2a239a</td>\n",
       "    </tr>\n",
       "    <tr>\n",
       "      <th>1</th>\n",
       "      <td>air_a24bf50c3e90d583</td>\n",
       "      <td>hpg_c34b496d0305a809</td>\n",
       "    </tr>\n",
       "    <tr>\n",
       "      <th>2</th>\n",
       "      <td>air_c7f78b4f3cba33ff</td>\n",
       "      <td>hpg_cd8ae0d9bbd58ff9</td>\n",
       "    </tr>\n",
       "    <tr>\n",
       "      <th>3</th>\n",
       "      <td>air_947eb2cae4f3e8f2</td>\n",
       "      <td>hpg_de24ea49dc25d6b8</td>\n",
       "    </tr>\n",
       "    <tr>\n",
       "      <th>4</th>\n",
       "      <td>air_965b2e0cf4119003</td>\n",
       "      <td>hpg_653238a84804d8e7</td>\n",
       "    </tr>\n",
       "  </tbody>\n",
       "</table>\n",
       "</div>"
      ],
      "text/plain": [
       "           air_store_id          hpg_store_id\n",
       "0  air_63b13c56b7201bd9  hpg_4bc649e72e2a239a\n",
       "1  air_a24bf50c3e90d583  hpg_c34b496d0305a809\n",
       "2  air_c7f78b4f3cba33ff  hpg_cd8ae0d9bbd58ff9\n",
       "3  air_947eb2cae4f3e8f2  hpg_de24ea49dc25d6b8\n",
       "4  air_965b2e0cf4119003  hpg_653238a84804d8e7"
      ]
     },
     "execution_count": 9,
     "metadata": {},
     "output_type": "execute_result"
    }
   ],
   "source": [
    "store_id_relation.head()"
   ]
  },
  {
   "cell_type": "markdown",
   "metadata": {},
   "source": [
    "**sample_submission.csv**\n",
    "\n",
    "This file shows a submission in the correct format, including the days for which you must forecast.\n",
    "\n",
    "- id - the id is formed by concatenating the air_store_id and visit_date with an underscore\n",
    "- visitors - the number of visitors forecasted for the store and date combination"
   ]
  },
  {
   "cell_type": "code",
   "execution_count": 10,
   "metadata": {
    "ExecuteTime": {
     "end_time": "2020-07-03T06:34:20.635461Z",
     "start_time": "2020-07-03T06:34:20.626485Z"
    }
   },
   "outputs": [
    {
     "data": {
      "text/html": [
       "<div>\n",
       "<style scoped>\n",
       "    .dataframe tbody tr th:only-of-type {\n",
       "        vertical-align: middle;\n",
       "    }\n",
       "\n",
       "    .dataframe tbody tr th {\n",
       "        vertical-align: top;\n",
       "    }\n",
       "\n",
       "    .dataframe thead th {\n",
       "        text-align: right;\n",
       "    }\n",
       "</style>\n",
       "<table border=\"1\" class=\"dataframe\">\n",
       "  <thead>\n",
       "    <tr style=\"text-align: right;\">\n",
       "      <th></th>\n",
       "      <th>id</th>\n",
       "      <th>visitors</th>\n",
       "    </tr>\n",
       "  </thead>\n",
       "  <tbody>\n",
       "    <tr>\n",
       "      <th>0</th>\n",
       "      <td>air_00a91d42b08b08d9_2017-04-23</td>\n",
       "      <td>0</td>\n",
       "    </tr>\n",
       "    <tr>\n",
       "      <th>1</th>\n",
       "      <td>air_00a91d42b08b08d9_2017-04-24</td>\n",
       "      <td>0</td>\n",
       "    </tr>\n",
       "    <tr>\n",
       "      <th>2</th>\n",
       "      <td>air_00a91d42b08b08d9_2017-04-25</td>\n",
       "      <td>0</td>\n",
       "    </tr>\n",
       "    <tr>\n",
       "      <th>3</th>\n",
       "      <td>air_00a91d42b08b08d9_2017-04-26</td>\n",
       "      <td>0</td>\n",
       "    </tr>\n",
       "    <tr>\n",
       "      <th>4</th>\n",
       "      <td>air_00a91d42b08b08d9_2017-04-27</td>\n",
       "      <td>0</td>\n",
       "    </tr>\n",
       "  </tbody>\n",
       "</table>\n",
       "</div>"
      ],
      "text/plain": [
       "                                id  visitors\n",
       "0  air_00a91d42b08b08d9_2017-04-23         0\n",
       "1  air_00a91d42b08b08d9_2017-04-24         0\n",
       "2  air_00a91d42b08b08d9_2017-04-25         0\n",
       "3  air_00a91d42b08b08d9_2017-04-26         0\n",
       "4  air_00a91d42b08b08d9_2017-04-27         0"
      ]
     },
     "execution_count": 10,
     "metadata": {},
     "output_type": "execute_result"
    }
   ],
   "source": [
    "sample_submission.head()"
   ]
  },
  {
   "cell_type": "markdown",
   "metadata": {},
   "source": [
    "## 数据合并"
   ]
  },
  {
   "cell_type": "code",
   "execution_count": 11,
   "metadata": {
    "ExecuteTime": {
     "end_time": "2020-07-03T06:34:20.686364Z",
     "start_time": "2020-07-03T06:34:20.636458Z"
    }
   },
   "outputs": [
    {
     "data": {
      "text/plain": [
       "60"
      ]
     },
     "execution_count": 11,
     "metadata": {},
     "output_type": "execute_result"
    }
   ],
   "source": [
    "sample_submission['air_store_id'] = sample_submission['id'].apply(lambda x: x[:-11]).values\n",
    "sample_submission['visit_date'] = sample_submission['id'].apply(lambda x: x[-10:]).values\n",
    "\n",
    "del sample_submission['id']\n",
    "gc.collect()"
   ]
  },
  {
   "cell_type": "code",
   "execution_count": 12,
   "metadata": {
    "ExecuteTime": {
     "end_time": "2020-07-03T06:38:29.302232Z",
     "start_time": "2020-07-03T06:38:29.154106Z"
    }
   },
   "outputs": [],
   "source": [
    "df_meta = pd.concat([air_visit_data, sample_submission],\n",
    "                    axis=0,\n",
    "                    ignore_index=True)\n",
    "\n",
    "# 合并date_info\n",
    "df_meta = df_meta.merge(date_info,\n",
    "                        left_on=['visit_date'],\n",
    "                        right_on=['calendar_date'],\n",
    "                        how='left')\n",
    "# 合并air_store_info\n",
    "df_meta = df_meta.merge(air_store_info,\n",
    "                        on=['air_store_id'],\n",
    "                        how='left')\n",
    "\n",
    "del df_meta['calendar_date'], df_meta['day_of_week']\n",
    "gc.collect()"
   ]
  },
  {
   "cell_type": "code",
   "execution_count": 13,
   "metadata": {
    "ExecuteTime": {
     "end_time": "2020-07-03T06:48:47.427505Z",
     "start_time": "2020-07-03T06:48:47.074376Z"
    }
   },
   "outputs": [],
   "source": [
    "df_meta['visit_date'] = pd.to_datetime(df_meta['visit_date'])\n",
    "df_meta['weekday'] = df_meta['visit_date'].dt.weekday\n",
    "df_meta['air_store_id_weekday'] = df_meta['air_store_id'].astype(str) + '_' + df_meta['weekday'].astype(str)"
   ]
  },
  {
   "cell_type": "code",
   "execution_count": 14,
   "metadata": {
    "ExecuteTime": {
     "end_time": "2020-07-03T06:54:52.575013Z",
     "start_time": "2020-07-03T06:54:51.795695Z"
    }
   },
   "outputs": [
    {
     "data": {
      "text/html": [
       "<div>\n",
       "<style scoped>\n",
       "    .dataframe tbody tr th:only-of-type {\n",
       "        vertical-align: middle;\n",
       "    }\n",
       "\n",
       "    .dataframe tbody tr th {\n",
       "        vertical-align: top;\n",
       "    }\n",
       "\n",
       "    .dataframe thead th {\n",
       "        text-align: right;\n",
       "    }\n",
       "</style>\n",
       "<table border=\"1\" class=\"dataframe\">\n",
       "  <thead>\n",
       "    <tr style=\"text-align: right;\">\n",
       "      <th></th>\n",
       "      <th>air_store_id</th>\n",
       "      <th>visit_date</th>\n",
       "      <th>visitors</th>\n",
       "      <th>holiday_flg</th>\n",
       "      <th>air_genre_name</th>\n",
       "      <th>air_area_name</th>\n",
       "      <th>latitude</th>\n",
       "      <th>longitude</th>\n",
       "      <th>weekday</th>\n",
       "      <th>air_store_id_weekday</th>\n",
       "      <th>air_store_id_holiday</th>\n",
       "      <th>air_store_id_weekday_holiday</th>\n",
       "      <th>air_genre_name_weekday</th>\n",
       "      <th>air_genre_name_weekday_holiday</th>\n",
       "    </tr>\n",
       "  </thead>\n",
       "  <tbody>\n",
       "    <tr>\n",
       "      <th>0</th>\n",
       "      <td>air_ba937bf13d40fb24</td>\n",
       "      <td>2016-01-13</td>\n",
       "      <td>3.258097</td>\n",
       "      <td>0</td>\n",
       "      <td>Dining bar</td>\n",
       "      <td>Tōkyō-to Minato-ku Shibakōen</td>\n",
       "      <td>35.658068</td>\n",
       "      <td>139.751599</td>\n",
       "      <td>2</td>\n",
       "      <td>air_ba937bf13d40fb24_2</td>\n",
       "      <td>air_ba937bf13d40fb24_0</td>\n",
       "      <td>air_ba937bf13d40fb24_0_2</td>\n",
       "      <td>Tōkyō-to Minato-ku Shibakōen2</td>\n",
       "      <td>Tōkyō-to Minato-ku Shibakōen20</td>\n",
       "    </tr>\n",
       "    <tr>\n",
       "      <th>1</th>\n",
       "      <td>air_ba937bf13d40fb24</td>\n",
       "      <td>2016-01-14</td>\n",
       "      <td>3.496508</td>\n",
       "      <td>0</td>\n",
       "      <td>Dining bar</td>\n",
       "      <td>Tōkyō-to Minato-ku Shibakōen</td>\n",
       "      <td>35.658068</td>\n",
       "      <td>139.751599</td>\n",
       "      <td>3</td>\n",
       "      <td>air_ba937bf13d40fb24_3</td>\n",
       "      <td>air_ba937bf13d40fb24_0</td>\n",
       "      <td>air_ba937bf13d40fb24_0_3</td>\n",
       "      <td>Tōkyō-to Minato-ku Shibakōen3</td>\n",
       "      <td>Tōkyō-to Minato-ku Shibakōen30</td>\n",
       "    </tr>\n",
       "    <tr>\n",
       "      <th>2</th>\n",
       "      <td>air_ba937bf13d40fb24</td>\n",
       "      <td>2016-01-15</td>\n",
       "      <td>3.401197</td>\n",
       "      <td>0</td>\n",
       "      <td>Dining bar</td>\n",
       "      <td>Tōkyō-to Minato-ku Shibakōen</td>\n",
       "      <td>35.658068</td>\n",
       "      <td>139.751599</td>\n",
       "      <td>4</td>\n",
       "      <td>air_ba937bf13d40fb24_4</td>\n",
       "      <td>air_ba937bf13d40fb24_0</td>\n",
       "      <td>air_ba937bf13d40fb24_0_4</td>\n",
       "      <td>Tōkyō-to Minato-ku Shibakōen4</td>\n",
       "      <td>Tōkyō-to Minato-ku Shibakōen40</td>\n",
       "    </tr>\n",
       "    <tr>\n",
       "      <th>3</th>\n",
       "      <td>air_ba937bf13d40fb24</td>\n",
       "      <td>2016-01-16</td>\n",
       "      <td>3.135494</td>\n",
       "      <td>0</td>\n",
       "      <td>Dining bar</td>\n",
       "      <td>Tōkyō-to Minato-ku Shibakōen</td>\n",
       "      <td>35.658068</td>\n",
       "      <td>139.751599</td>\n",
       "      <td>5</td>\n",
       "      <td>air_ba937bf13d40fb24_5</td>\n",
       "      <td>air_ba937bf13d40fb24_0</td>\n",
       "      <td>air_ba937bf13d40fb24_0_5</td>\n",
       "      <td>Tōkyō-to Minato-ku Shibakōen5</td>\n",
       "      <td>Tōkyō-to Minato-ku Shibakōen50</td>\n",
       "    </tr>\n",
       "    <tr>\n",
       "      <th>4</th>\n",
       "      <td>air_ba937bf13d40fb24</td>\n",
       "      <td>2016-01-18</td>\n",
       "      <td>1.945910</td>\n",
       "      <td>0</td>\n",
       "      <td>Dining bar</td>\n",
       "      <td>Tōkyō-to Minato-ku Shibakōen</td>\n",
       "      <td>35.658068</td>\n",
       "      <td>139.751599</td>\n",
       "      <td>0</td>\n",
       "      <td>air_ba937bf13d40fb24_0</td>\n",
       "      <td>air_ba937bf13d40fb24_0</td>\n",
       "      <td>air_ba937bf13d40fb24_0_0</td>\n",
       "      <td>Tōkyō-to Minato-ku Shibakōen0</td>\n",
       "      <td>Tōkyō-to Minato-ku Shibakōen00</td>\n",
       "    </tr>\n",
       "  </tbody>\n",
       "</table>\n",
       "</div>"
      ],
      "text/plain": [
       "           air_store_id visit_date  visitors  holiday_flg air_genre_name  \\\n",
       "0  air_ba937bf13d40fb24 2016-01-13  3.258097            0     Dining bar   \n",
       "1  air_ba937bf13d40fb24 2016-01-14  3.496508            0     Dining bar   \n",
       "2  air_ba937bf13d40fb24 2016-01-15  3.401197            0     Dining bar   \n",
       "3  air_ba937bf13d40fb24 2016-01-16  3.135494            0     Dining bar   \n",
       "4  air_ba937bf13d40fb24 2016-01-18  1.945910            0     Dining bar   \n",
       "\n",
       "                  air_area_name   latitude   longitude  weekday  \\\n",
       "0  Tōkyō-to Minato-ku Shibakōen  35.658068  139.751599        2   \n",
       "1  Tōkyō-to Minato-ku Shibakōen  35.658068  139.751599        3   \n",
       "2  Tōkyō-to Minato-ku Shibakōen  35.658068  139.751599        4   \n",
       "3  Tōkyō-to Minato-ku Shibakōen  35.658068  139.751599        5   \n",
       "4  Tōkyō-to Minato-ku Shibakōen  35.658068  139.751599        0   \n",
       "\n",
       "     air_store_id_weekday    air_store_id_holiday  \\\n",
       "0  air_ba937bf13d40fb24_2  air_ba937bf13d40fb24_0   \n",
       "1  air_ba937bf13d40fb24_3  air_ba937bf13d40fb24_0   \n",
       "2  air_ba937bf13d40fb24_4  air_ba937bf13d40fb24_0   \n",
       "3  air_ba937bf13d40fb24_5  air_ba937bf13d40fb24_0   \n",
       "4  air_ba937bf13d40fb24_0  air_ba937bf13d40fb24_0   \n",
       "\n",
       "  air_store_id_weekday_holiday         air_genre_name_weekday  \\\n",
       "0     air_ba937bf13d40fb24_0_2  Tōkyō-to Minato-ku Shibakōen2   \n",
       "1     air_ba937bf13d40fb24_0_3  Tōkyō-to Minato-ku Shibakōen3   \n",
       "2     air_ba937bf13d40fb24_0_4  Tōkyō-to Minato-ku Shibakōen4   \n",
       "3     air_ba937bf13d40fb24_0_5  Tōkyō-to Minato-ku Shibakōen5   \n",
       "4     air_ba937bf13d40fb24_0_0  Tōkyō-to Minato-ku Shibakōen0   \n",
       "\n",
       "   air_genre_name_weekday_holiday  \n",
       "0  Tōkyō-to Minato-ku Shibakōen20  \n",
       "1  Tōkyō-to Minato-ku Shibakōen30  \n",
       "2  Tōkyō-to Minato-ku Shibakōen40  \n",
       "3  Tōkyō-to Minato-ku Shibakōen50  \n",
       "4  Tōkyō-to Minato-ku Shibakōen00  "
      ]
     },
     "execution_count": 14,
     "metadata": {},
     "output_type": "execute_result"
    }
   ],
   "source": [
    "df_meta['air_store_id_holiday'] = df_meta['air_store_id'].astype(str) + '_' + df_meta['holiday_flg'].astype(str)\n",
    "df_meta['air_store_id_weekday_holiday'] = df_meta['air_store_id_holiday'].astype(str) + '_' + df_meta['weekday'].astype(str)\n",
    "\n",
    "df_meta['air_genre_name_weekday'] = df_meta['air_area_name'].astype(str) + df_meta['weekday'].astype(str)\n",
    "df_meta['air_genre_name_weekday_holiday'] = df_meta['air_genre_name_weekday'].astype(str) + df_meta['holiday_flg'].astype(str)\n",
    "df_meta['visitors'] = df_meta['visitors'].apply(np.log1p).values\n",
    "\n",
    "df_meta.head()"
   ]
  },
  {
   "cell_type": "code",
   "execution_count": 15,
   "metadata": {
    "ExecuteTime": {
     "end_time": "2020-07-03T07:10:35.077016Z",
     "start_time": "2020-07-03T07:10:34.023277Z"
    }
   },
   "outputs": [],
   "source": [
    "air_reserve['visit_date'] = air_reserve['visit_datetime'].apply(lambda x: x.split(' ')[0]).values\n",
    "air_reserve['air_store_id_visit_date'] = air_reserve['air_store_id'] + '_' + air_reserve['visit_datetime'].astype(str)\n",
    "\n",
    "air_reserve['visit_datetime'] = pd.to_datetime(air_reserve['visit_datetime'])\n",
    "air_reserve['reserve_datetime'] = pd.to_datetime(air_reserve['reserve_datetime'])\n",
    "\n",
    "hpg_reserve['visit_date'] = hpg_reserve['visit_datetime'].apply(lambda x: x.split(' ')[0]).values\n",
    "\n",
    "hpg_to_air_storeid = store_id_relation.set_index('hpg_store_id')\n",
    "hpg_reserve['air_store_id'] = hpg_reserve['hpg_store_id'].map(hpg_to_air_storeid['air_store_id']).values\n",
    "hpg_air_reserve = hpg_reserve.loc[hpg_reserve.air_store_id.notnull()]\n",
    "\n",
    "hpg_air_reserve['air_store_id_visit_date'] = hpg_air_reserve['air_store_id'] + '_' + hpg_air_reserve['visit_date'].astype(str)\n",
    "hpg_air_reserve['visit_datetime'] = pd.to_datetime(hpg_air_reserve['visit_datetime'])\n",
    "hpg_air_reserve['reserve_datetime'] = pd.to_datetime(hpg_air_reserve['reserve_datetime'])"
   ]
  },
  {
   "cell_type": "markdown",
   "metadata": {},
   "source": [
    "# 特征工程\n",
    "## 一阶特征\n",
    "### store_id的特征"
   ]
  },
  {
   "cell_type": "markdown",
   "metadata": {},
   "source": [
    "1. store_id的基础信息，包括类型，地址，经纬度\n",
    "2. store_id的开业天数，开业到现在的时间，最后一天有顾客到现在的时间"
   ]
  },
  {
   "cell_type": "code",
   "execution_count": 17,
   "metadata": {
    "ExecuteTime": {
     "end_time": "2020-07-03T08:16:39.967484Z",
     "start_time": "2020-07-03T08:16:39.959476Z"
    }
   },
   "outputs": [],
   "source": [
    "def get_storeid_fea(df_visit_data, df_store_info, df_store_id_relation):\n",
    "    df_storeid = df_store_info.copy()\n",
    "    \n",
    "    df_storeid['air_genre_name'] = LabelEncoder().fit_transform(df_storeid['air_genre_name'].values)\n",
    "    df_storeid['air_area_name'] = LabelEncoder().fit_transform(df_storeid['air_area_name'].values)\n",
    "    \n",
    "    first_day_dict = df_visit_data.groupby(['air_store_id'])['visit_date'].min().to_dict()\n",
    "    last_day_dict = df_visit_data.groupby(['air_store_id'])['visit_date'].max().to_dict()\n",
    "    run_days_dict = df_visit_data.groupby(['air_store_id'])['visit_date'].nunique().to_dict()\n",
    "    \n",
    "    df_storeid['first_day_to_now'] = df_storeid['air_store_id'].map(first_day_dict).values\n",
    "    df_storeid['first_day_to_now'] = df_storeid['first_day_to_now'].apply(lambda x: (parse('2017-04-22') - parse(x)).days)\n",
    "    \n",
    "    df_storeid['last_day_to_now'] = df_storeid['air_store_id'].map(last_day_dict).values\n",
    "    df_storeid['last_day_to_now'] = df_storeid['last_day_to_now'].apply(lambda x: (parse('2017-04-22') - parse(x)).days)\n",
    "    \n",
    "    df_storeid['run_days'] = df_storeid['air_store_id'].map(run_days_dict).values\n",
    "    df_storeid['two_systems'] = df_storeid['air_store_id'].isin(df_store_id_relation['air_store_id']).values\n",
    "    df_storeid['two_systems'] = df_storeid['two_systems'].astype(int)\n",
    "    \n",
    "    return df_storeid"
   ]
  },
  {
   "cell_type": "code",
   "execution_count": 19,
   "metadata": {
    "ExecuteTime": {
     "end_time": "2020-07-03T08:17:26.817330Z",
     "start_time": "2020-07-03T08:17:26.404669Z"
    }
   },
   "outputs": [],
   "source": [
    "df_storeid = get_storeid_fea(air_visit_data, air_store_info, store_id_relation)"
   ]
  },
  {
   "cell_type": "markdown",
   "metadata": {},
   "source": [
    "### date的特征\n",
    "1. 星期几\n",
    "2. 是否节假日\n",
    "3. 距离月末，月初的时间\n",
    "4. 距离最近的节假日的时间"
   ]
  },
  {
   "cell_type": "code",
   "execution_count": 20,
   "metadata": {
    "ExecuteTime": {
     "end_time": "2020-07-03T08:29:13.231866Z",
     "start_time": "2020-07-03T08:29:13.221939Z"
    }
   },
   "outputs": [],
   "source": [
    "def get_last_next_holiday(dates, holiday_flags):\n",
    "    last_holiday = []\n",
    "    next_holiday = []\n",
    "    len_ = len(dates)\n",
    "    for i, (d, f) in enumerate(zip(dates, holiday_flags)):\n",
    "        if i == 0:\n",
    "            last_holiday.append(dates[i])\n",
    "        else:\n",
    "            # last holiday\n",
    "            last_flag = 0\n",
    "            for j in range(i - 1, 0, -1):\n",
    "                if holiday_flags[j] == 1:\n",
    "                    last_holiday.append(dates[j])\n",
    "                    last_flag = 1\n",
    "                    break\n",
    "            if last_flag == 0:\n",
    "                last_holiday.append(dates[0])\n",
    "                \n",
    "        # next holiday\n",
    "        next_flag = 0\n",
    "        for j in range(i + 1, len_):\n",
    "            if holiday_flags[j] == 1:\n",
    "                next_holiday.append(dates[j])\n",
    "                next_flag = 1\n",
    "                break\n",
    "        if next_flag == 0:\n",
    "            next_holiday.append(dates[-1])\n",
    "    return last_holiday, next_holiday"
   ]
  },
  {
   "cell_type": "code",
   "execution_count": 21,
   "metadata": {
    "ExecuteTime": {
     "end_time": "2020-07-03T08:31:37.506581Z",
     "start_time": "2020-07-03T08:31:37.502622Z"
    }
   },
   "outputs": [],
   "source": [
    "def get_days_to_month_end(x):\n",
    "    month = int(x.split('-')[1])\n",
    "    day = int(x.split('-')[2])\n",
    "    if month in [1, 3, 5, 7, 8, 10, 12]:\n",
    "        return 31 - day\n",
    "    elif month in [2]:\n",
    "        return 28 - day\n",
    "    else:\n",
    "        return 30 - day"
   ]
  },
  {
   "cell_type": "code",
   "execution_count": 22,
   "metadata": {
    "ExecuteTime": {
     "end_time": "2020-07-03T08:55:29.933880Z",
     "start_time": "2020-07-03T08:55:29.922884Z"
    }
   },
   "outputs": [],
   "source": [
    "def get_time_fea(df_date_info):\n",
    "    df_date = df_date_info.copy()\n",
    "    df_date['day_to_month_end'] = df_date['calendar_date'].apply(lambda x: get_days_to_month_end(x)).values\n",
    "    df_date['day_to_month_start'] = df_date['calendar_date'].apply(lambda x: int(x.split('-')[0])).values\n",
    "    \n",
    "    df_date['day_of_week'] = df_date['calendar_date'].apply(lambda x: parse(x).weekday()).values\n",
    "    df_date['is_weekend'] = df_date['day_of_week'].apply(lambda x: x > 4).values\n",
    "    \n",
    "    last_holiday, next_holiday = get_last_next_holiday(df_date['calendar_date'].values, df_date['holiday_flg'].values)\n",
    "    df_date['last_holiday'] = last_holiday\n",
    "    df_date['next_holiday'] = next_holiday\n",
    "\n",
    "    df_date['day_to_last_holiday'] = (df_date['calendar_date'].apply(lambda x: parse(x))\n",
    "                                      - df_date['last_holiday'].apply(lambda x: parse(x)))\n",
    "    df_date['day_to_last_holiday'] = df_date['day_to_last_holiday'].apply(lambda x: x.days).values\n",
    "    \n",
    "    df_date['day_to_next_holiday'] = (df_date['next_holiday'].apply(lambda x: parse(x))\n",
    "                                      - df_date['calendar_date'].apply(lambda x: parse(x)))\n",
    "    df_date['day_to_next_holiday'] = df_date['day_to_next_holiday'].apply(lambda x: x.days).values\n",
    "    \n",
    "    df_date.rename(columns={'calendar_date': 'visit_date'}, inplace=True)\n",
    "    \n",
    "    df_date['visit_date'] = pd.to_datetime(df_date['visit_date'])\n",
    "    for i in [3, 2, 1, -1]:\n",
    "        date_info_temp = df_date.copy()\n",
    "        date_info_temp['visit_date'] = date_info_temp['visit_date'].apply(lambda x: x + timedelta(i))\n",
    "        date_info_temp.rename(columns={'holiday_flg': 'ahead_holiday_{}'.format(i)},\n",
    "                              inplace=True)\n",
    "        \n",
    "        df_date = df_date.merge(date_info_temp[['visit_date', 'ahead_holiday_{}'.format(i)]],\n",
    "                                on=['visit_date'],\n",
    "                                how='left')\n",
    "    del df_date['last_holiday'], df_date['next_holiday']\n",
    "    gc.collect()\n",
    "    return df_date"
   ]
  },
  {
   "cell_type": "code",
   "execution_count": 23,
   "metadata": {
    "ExecuteTime": {
     "end_time": "2020-07-03T08:55:45.539908Z",
     "start_time": "2020-07-03T08:55:44.736172Z"
    }
   },
   "outputs": [],
   "source": [
    "df_date = get_time_fea(date_info)"
   ]
  },
  {
   "cell_type": "markdown",
   "metadata": {},
   "source": [
    "## 二阶特征：store_id & day"
   ]
  },
  {
   "cell_type": "markdown",
   "metadata": {},
   "source": [
    "因为day这个东西只有一个,而且未来和之前的是不一致的,那么做特征的时候就需要找day相关的属性,同样的store_id的属性也可以构建特征"
   ]
  },
  {
   "cell_type": "markdown",
   "metadata": {},
   "source": [
    "### store_id+day(related特征/holiday/weekday)"
   ]
  },
  {
   "cell_type": "code",
   "execution_count": 24,
   "metadata": {
    "ExecuteTime": {
     "end_time": "2020-07-03T09:08:47.932928Z",
     "start_time": "2020-07-03T09:08:47.925971Z"
    }
   },
   "outputs": [],
   "source": [
    "def get_st_date(en_date, days):\n",
    "    # st_date <= date < end_date\n",
    "    st_date = en_date - timedelta(days)\n",
    "    return st_date\n",
    "\n",
    "def get_label_st_date(st_date, days):\n",
    "    # st_date <= date < end_date\n",
    "    end_date = st_date + timedelta(days)\n",
    "    return st_date, end_date\n",
    "\n",
    "def get_df_label(df, date, days=39, is_te=False):\n",
    "    st_date, en_date = get_label_st_date(date, days)\n",
    "    print('label date, ', st_date, en_date)\n",
    "    ind1 = df['visit_date'] < en_date\n",
    "    ind2 = df['visit_date'] >= st_date\n",
    "    if is_te:\n",
    "        return df.loc[(ind2), ['air_store_id', 'visit_date', 'air_store_id_holiday',\n",
    "                               'air_genre_name', 'air_genre_name_weekday', 'air_genre_name_weekday_holiday']].copy()\n",
    "    return df.loc[(ind1 & ind2), ['air_store_id', 'visit_date', 'air_store_id_holiday',\n",
    "                                  'air_genre_name', 'air_genre_name_weekday', 'air_genre_name_weekday_holiday', 'visitors']].copy()"
   ]
  },
  {
   "cell_type": "markdown",
   "metadata": {},
   "source": [
    "### 特征工程1：visitors相关特征\n",
    "#### air_store_id+visitors特征（recent days）"
   ]
  },
  {
   "cell_type": "markdown",
   "metadata": {},
   "source": [
    "最近$N(N=14,28,56,1000)$天air_store_id的统计特征"
   ]
  },
  {
   "cell_type": "code",
   "execution_count": 35,
   "metadata": {
    "ExecuteTime": {
     "end_time": "2020-07-03T09:50:08.068126Z",
     "start_time": "2020-07-03T09:50:08.061159Z"
    }
   },
   "outputs": [],
   "source": [
    "def get_store_id_visitors_sts_features(df, en_date, key='air_store_id', date_col='visit_date',\n",
    "                                       days_list=[1000, 56, 28, 14]):\n",
    "    t0 = time()\n",
    "    df_features = pd.DataFrame()\n",
    "    df_features[key] = df_features[key].unique()\n",
    "    \n",
    "    df_tmp = df.copy()\n",
    "    for days in days_list:\n",
    "        st_date = get_st_date(en_date, days)\n",
    "        df_tmp = df_tmp.loc[((df[date_col] >= st_date) & (df[date_col] < en_date))].copy()\n",
    "        df_features_tmp = df_tmp.groupby([key], as_index=False)['visitors'].agg({'{}_visitors_min_{}'.format(keys, days): 'min'\n",
    "                                                                                 '{}_visitors_mean_{}'.format(key, days): 'mean',\n",
    "                                                                                 '{}_visitors_sum_{}'.format(key, days): 'sum',\n",
    "                                                                                 '{}_visitors_median_{}'.format(key, days): 'median',\n",
    "                                                                                 '{}_visitors_max_{}'.format(key, days): 'max',\n",
    "                                                                                 '{}_visitors_count_{}'.format(key, days): 'count',\n",
    "                                                                                 '{}_visitors_std_{}'.format(key, days): 'std',\n",
    "                                                                                 '{}_visitors_quantile_{}'.format(key, days): 'quantile',\n",
    "                                                                                 '{}_visitors_skew_{}'.format(key, days): 'skew'})\n",
    "        df_features = df_features.merge(df_features_tmp,\n",
    "                                        on=key,\n",
    "                                        how='left')\n",
    "        del df_features_tmp\n",
    "        gc.collect()\n",
    "    print('For store id sts features, we spend {} seconds.'.format(time() - t0))\n",
    "    return df_features"
   ]
  },
  {
   "cell_type": "code",
   "execution_count": null,
   "metadata": {},
   "outputs": [],
   "source": []
  }
 ],
 "metadata": {
  "kernelspec": {
   "display_name": "Python 3",
   "language": "python",
   "name": "python3"
  },
  "language_info": {
   "codemirror_mode": {
    "name": "ipython",
    "version": 3
   },
   "file_extension": ".py",
   "mimetype": "text/x-python",
   "name": "python",
   "nbconvert_exporter": "python",
   "pygments_lexer": "ipython3",
   "version": "3.7.3"
  },
  "toc": {
   "base_numbering": 1,
   "nav_menu": {},
   "number_sections": true,
   "sideBar": true,
   "skip_h1_title": false,
   "title_cell": "Table of Contents",
   "title_sidebar": "Contents",
   "toc_cell": false,
   "toc_position": {},
   "toc_section_display": true,
   "toc_window_display": false
  },
  "varInspector": {
   "cols": {
    "lenName": 16,
    "lenType": 16,
    "lenVar": 40
   },
   "kernels_config": {
    "python": {
     "delete_cmd_postfix": "",
     "delete_cmd_prefix": "del ",
     "library": "var_list.py",
     "varRefreshCmd": "print(var_dic_list())"
    },
    "r": {
     "delete_cmd_postfix": ") ",
     "delete_cmd_prefix": "rm(",
     "library": "var_list.r",
     "varRefreshCmd": "cat(var_dic_list()) "
    }
   },
   "types_to_exclude": [
    "module",
    "function",
    "builtin_function_or_method",
    "instance",
    "_Feature"
   ],
   "window_display": false
  }
 },
 "nbformat": 4,
 "nbformat_minor": 4
}
