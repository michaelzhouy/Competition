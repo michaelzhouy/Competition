{
 "cells": [
  {
   "cell_type": "markdown",
   "metadata": {},
   "source": [
    "https://www.kaggle.com/raviprakash438/wrapper-method-feature-selection"
   ]
  },
  {
   "cell_type": "code",
   "execution_count": 1,
   "metadata": {
    "ExecuteTime": {
     "end_time": "2020-04-29T12:54:51.058320Z",
     "start_time": "2020-04-29T12:54:50.150939Z"
    }
   },
   "outputs": [],
   "source": [
    "import numpy as np\n",
    "import pandas as pd\n",
    "from sklearn.model_selection import train_test_split\n",
    "import warnings\n",
    "warnings.filterwarnings('ignore')\n",
    "\n",
    "from mlxtend.feature_selection import SequentialFeatureSelector as sfs\n",
    "from mlxtend.feature_selection import ExhaustiveFeatureSelector as efs\n",
    "from sklearn.ensemble import RandomForestRegressor"
   ]
  },
  {
   "cell_type": "code",
   "execution_count": 2,
   "metadata": {
    "ExecuteTime": {
     "end_time": "2020-04-29T12:54:51.102687Z",
     "start_time": "2020-04-29T12:54:51.059294Z"
    }
   },
   "outputs": [
    {
     "data": {
      "text/plain": [
       "(1460, 81)"
      ]
     },
     "execution_count": 2,
     "metadata": {},
     "output_type": "execute_result"
    }
   ],
   "source": [
    "df = pd.read_csv('input/train.csv')\n",
    "df.shape"
   ]
  },
  {
   "cell_type": "code",
   "execution_count": 3,
   "metadata": {
    "ExecuteTime": {
     "end_time": "2020-04-29T12:54:51.131610Z",
     "start_time": "2020-04-29T12:54:51.103684Z"
    }
   },
   "outputs": [
    {
     "name": "stdout",
     "output_type": "stream",
     "text": [
      "<class 'pandas.core.frame.DataFrame'>\n",
      "RangeIndex: 1460 entries, 0 to 1459\n",
      "Data columns (total 81 columns):\n",
      " #   Column         Non-Null Count  Dtype  \n",
      "---  ------         --------------  -----  \n",
      " 0   Id             1460 non-null   int64  \n",
      " 1   MSSubClass     1460 non-null   int64  \n",
      " 2   MSZoning       1460 non-null   object \n",
      " 3   LotFrontage    1201 non-null   float64\n",
      " 4   LotArea        1460 non-null   int64  \n",
      " 5   Street         1460 non-null   object \n",
      " 6   Alley          91 non-null     object \n",
      " 7   LotShape       1460 non-null   object \n",
      " 8   LandContour    1460 non-null   object \n",
      " 9   Utilities      1460 non-null   object \n",
      " 10  LotConfig      1460 non-null   object \n",
      " 11  LandSlope      1460 non-null   object \n",
      " 12  Neighborhood   1460 non-null   object \n",
      " 13  Condition1     1460 non-null   object \n",
      " 14  Condition2     1460 non-null   object \n",
      " 15  BldgType       1460 non-null   object \n",
      " 16  HouseStyle     1460 non-null   object \n",
      " 17  OverallQual    1460 non-null   int64  \n",
      " 18  OverallCond    1460 non-null   int64  \n",
      " 19  YearBuilt      1460 non-null   int64  \n",
      " 20  YearRemodAdd   1460 non-null   int64  \n",
      " 21  RoofStyle      1460 non-null   object \n",
      " 22  RoofMatl       1460 non-null   object \n",
      " 23  Exterior1st    1460 non-null   object \n",
      " 24  Exterior2nd    1460 non-null   object \n",
      " 25  MasVnrType     1452 non-null   object \n",
      " 26  MasVnrArea     1452 non-null   float64\n",
      " 27  ExterQual      1460 non-null   object \n",
      " 28  ExterCond      1460 non-null   object \n",
      " 29  Foundation     1460 non-null   object \n",
      " 30  BsmtQual       1423 non-null   object \n",
      " 31  BsmtCond       1423 non-null   object \n",
      " 32  BsmtExposure   1422 non-null   object \n",
      " 33  BsmtFinType1   1423 non-null   object \n",
      " 34  BsmtFinSF1     1460 non-null   int64  \n",
      " 35  BsmtFinType2   1422 non-null   object \n",
      " 36  BsmtFinSF2     1460 non-null   int64  \n",
      " 37  BsmtUnfSF      1460 non-null   int64  \n",
      " 38  TotalBsmtSF    1460 non-null   int64  \n",
      " 39  Heating        1460 non-null   object \n",
      " 40  HeatingQC      1460 non-null   object \n",
      " 41  CentralAir     1460 non-null   object \n",
      " 42  Electrical     1459 non-null   object \n",
      " 43  1stFlrSF       1460 non-null   int64  \n",
      " 44  2ndFlrSF       1460 non-null   int64  \n",
      " 45  LowQualFinSF   1460 non-null   int64  \n",
      " 46  GrLivArea      1460 non-null   int64  \n",
      " 47  BsmtFullBath   1460 non-null   int64  \n",
      " 48  BsmtHalfBath   1460 non-null   int64  \n",
      " 49  FullBath       1460 non-null   int64  \n",
      " 50  HalfBath       1460 non-null   int64  \n",
      " 51  BedroomAbvGr   1460 non-null   int64  \n",
      " 52  KitchenAbvGr   1460 non-null   int64  \n",
      " 53  KitchenQual    1460 non-null   object \n",
      " 54  TotRmsAbvGrd   1460 non-null   int64  \n",
      " 55  Functional     1460 non-null   object \n",
      " 56  Fireplaces     1460 non-null   int64  \n",
      " 57  FireplaceQu    770 non-null    object \n",
      " 58  GarageType     1379 non-null   object \n",
      " 59  GarageYrBlt    1379 non-null   float64\n",
      " 60  GarageFinish   1379 non-null   object \n",
      " 61  GarageCars     1460 non-null   int64  \n",
      " 62  GarageArea     1460 non-null   int64  \n",
      " 63  GarageQual     1379 non-null   object \n",
      " 64  GarageCond     1379 non-null   object \n",
      " 65  PavedDrive     1460 non-null   object \n",
      " 66  WoodDeckSF     1460 non-null   int64  \n",
      " 67  OpenPorchSF    1460 non-null   int64  \n",
      " 68  EnclosedPorch  1460 non-null   int64  \n",
      " 69  3SsnPorch      1460 non-null   int64  \n",
      " 70  ScreenPorch    1460 non-null   int64  \n",
      " 71  PoolArea       1460 non-null   int64  \n",
      " 72  PoolQC         7 non-null      object \n",
      " 73  Fence          281 non-null    object \n",
      " 74  MiscFeature    54 non-null     object \n",
      " 75  MiscVal        1460 non-null   int64  \n",
      " 76  MoSold         1460 non-null   int64  \n",
      " 77  YrSold         1460 non-null   int64  \n",
      " 78  SaleType       1460 non-null   object \n",
      " 79  SaleCondition  1460 non-null   object \n",
      " 80  SalePrice      1460 non-null   int64  \n",
      "dtypes: float64(3), int64(35), object(43)\n",
      "memory usage: 924.0+ KB\n"
     ]
    }
   ],
   "source": [
    "df.info()"
   ]
  },
  {
   "cell_type": "code",
   "execution_count": 4,
   "metadata": {
    "ExecuteTime": {
     "end_time": "2020-04-29T12:54:51.142581Z",
     "start_time": "2020-04-29T12:54:51.132607Z"
    }
   },
   "outputs": [
    {
     "data": {
      "text/plain": [
       "(1460, 38)"
      ]
     },
     "execution_count": 4,
     "metadata": {},
     "output_type": "execute_result"
    }
   ],
   "source": [
    "colType = ['int64', 'float64']\n",
    "numCols = list(df.select_dtypes(include=colType).columns)\n",
    "\n",
    "data = df[numCols]\n",
    "data.shape"
   ]
  },
  {
   "cell_type": "code",
   "execution_count": 5,
   "metadata": {
    "ExecuteTime": {
     "end_time": "2020-04-29T12:54:51.154555Z",
     "start_time": "2020-04-29T12:54:51.144577Z"
    }
   },
   "outputs": [
    {
     "data": {
      "text/plain": [
       "((1168, 37), (292, 37))"
      ]
     },
     "execution_count": 5,
     "metadata": {},
     "output_type": "execute_result"
    }
   ],
   "source": [
    "X_train, X_test, y_train, y_test = train_test_split(data.drop('SalePrice', axis=1), data['SalePrice'],\n",
    "                                                    test_size=0.2, random_state=2020)\n",
    "\n",
    "X_train.shape, X_test.shape"
   ]
  },
  {
   "cell_type": "code",
   "execution_count": 6,
   "metadata": {
    "ExecuteTime": {
     "end_time": "2020-04-29T12:54:51.172502Z",
     "start_time": "2020-04-29T12:54:51.155545Z"
    }
   },
   "outputs": [
    {
     "name": "stdout",
     "output_type": "stream",
     "text": [
      "Correlated columns:  {'TotRmsAbvGrd', 'GarageArea', '1stFlrSF', 'GarageYrBlt'}\n"
     ]
    }
   ],
   "source": [
    "def correlation(dataset, threshold):\n",
    "    col_corr = set()\n",
    "    corr_matrix = dataset.corr()\n",
    "    for i in range(len(corr_matrix.columns)):\n",
    "        for j in range(i):\n",
    "            if abs(corr_matrix.iloc[i, j]) > threshold:\n",
    "                colName = corr_matrix.columns[i]\n",
    "                col_corr.add(colName)\n",
    "    return col_corr\n",
    "\n",
    "col = correlation(X_train, 0.8)\n",
    "print('Correlated columns: ', col)"
   ]
  },
  {
   "cell_type": "code",
   "execution_count": 7,
   "metadata": {
    "ExecuteTime": {
     "end_time": "2020-04-29T12:54:51.180479Z",
     "start_time": "2020-04-29T12:54:51.173499Z"
    }
   },
   "outputs": [
    {
     "data": {
      "text/plain": [
       "((1168, 33), (292, 33))"
      ]
     },
     "execution_count": 7,
     "metadata": {},
     "output_type": "execute_result"
    }
   ],
   "source": [
    "X_train.drop(columns=col, axis=1, inplace=True)\n",
    "X_test.drop(columns=col, axis=1, inplace=True)\n",
    "\n",
    "X_train.shape, X_test.shape"
   ]
  },
  {
   "cell_type": "code",
   "execution_count": 8,
   "metadata": {
    "ExecuteTime": {
     "end_time": "2020-04-29T12:55:35.863298Z",
     "start_time": "2020-04-29T12:55:35.858325Z"
    }
   },
   "outputs": [],
   "source": [
    "X_train.fillna(0, inplace=True)"
   ]
  },
  {
   "cell_type": "code",
   "execution_count": 9,
   "metadata": {
    "ExecuteTime": {
     "end_time": "2020-04-29T12:55:52.945631Z",
     "start_time": "2020-04-29T12:55:52.939620Z"
    }
   },
   "outputs": [
    {
     "data": {
      "text/plain": [
       "0"
      ]
     },
     "execution_count": 9,
     "metadata": {},
     "output_type": "execute_result"
    }
   ],
   "source": [
    "X_train.isnull().sum().max()"
   ]
  },
  {
   "cell_type": "markdown",
   "metadata": {},
   "source": [
    "## Forward feature selection"
   ]
  },
  {
   "cell_type": "code",
   "execution_count": 10,
   "metadata": {
    "ExecuteTime": {
     "end_time": "2020-04-29T12:59:13.463959Z",
     "start_time": "2020-04-29T12:57:38.629634Z"
    }
   },
   "outputs": [
    {
     "name": "stderr",
     "output_type": "stream",
     "text": [
      "[Parallel(n_jobs=-1)]: Using backend LokyBackend with 8 concurrent workers.\n",
      "[Parallel(n_jobs=-1)]: Done   2 tasks      | elapsed:    2.4s\n",
      "[Parallel(n_jobs=-1)]: Done   9 tasks      | elapsed:    3.5s\n",
      "[Parallel(n_jobs=-1)]: Done  16 tasks      | elapsed:    4.3s\n",
      "[Parallel(n_jobs=-1)]: Done  22 out of  33 | elapsed:    4.8s remaining:    2.4s\n",
      "[Parallel(n_jobs=-1)]: Done  26 out of  33 | elapsed:    5.6s remaining:    1.4s\n",
      "[Parallel(n_jobs=-1)]: Done  30 out of  33 | elapsed:    5.7s remaining:    0.5s\n",
      "[Parallel(n_jobs=-1)]: Done  33 out of  33 | elapsed:    6.1s finished\n",
      "\n",
      "[2020-04-29 20:57:44] Features: 1/10 -- score: 0.64120180718231[Parallel(n_jobs=-1)]: Using backend LokyBackend with 8 concurrent workers.\n",
      "[Parallel(n_jobs=-1)]: Done   2 tasks      | elapsed:    0.9s\n",
      "[Parallel(n_jobs=-1)]: Done   9 tasks      | elapsed:    2.0s\n",
      "[Parallel(n_jobs=-1)]: Done  16 tasks      | elapsed:    2.9s\n",
      "[Parallel(n_jobs=-1)]: Done  21 out of  32 | elapsed:    3.4s remaining:    1.7s\n",
      "[Parallel(n_jobs=-1)]: Done  25 out of  32 | elapsed:    4.2s remaining:    1.1s\n",
      "[Parallel(n_jobs=-1)]: Done  29 out of  32 | elapsed:    4.3s remaining:    0.4s\n",
      "[Parallel(n_jobs=-1)]: Done  32 out of  32 | elapsed:    4.7s finished\n",
      "\n",
      "[2020-04-29 20:57:49] Features: 2/10 -- score: 0.6879188635851754[Parallel(n_jobs=-1)]: Using backend LokyBackend with 8 concurrent workers.\n",
      "[Parallel(n_jobs=-1)]: Done   2 tasks      | elapsed:    1.3s\n",
      "[Parallel(n_jobs=-1)]: Done   9 tasks      | elapsed:    3.0s\n",
      "[Parallel(n_jobs=-1)]: Done  16 tasks      | elapsed:    4.6s\n",
      "[Parallel(n_jobs=-1)]: Done  20 out of  31 | elapsed:    5.6s remaining:    3.0s\n",
      "[Parallel(n_jobs=-1)]: Done  24 out of  31 | elapsed:    6.5s remaining:    1.8s\n",
      "[Parallel(n_jobs=-1)]: Done  28 out of  31 | elapsed:    6.9s remaining:    0.7s\n",
      "[Parallel(n_jobs=-1)]: Done  31 out of  31 | elapsed:    7.4s finished\n",
      "\n",
      "[2020-04-29 20:57:57] Features: 3/10 -- score: 0.730422897611968[Parallel(n_jobs=-1)]: Using backend LokyBackend with 8 concurrent workers.\n",
      "[Parallel(n_jobs=-1)]: Done   2 tasks      | elapsed:    1.7s\n",
      "[Parallel(n_jobs=-1)]: Done   9 tasks      | elapsed:    3.6s\n",
      "[Parallel(n_jobs=-1)]: Done  19 out of  30 | elapsed:    6.0s remaining:    3.4s\n",
      "[Parallel(n_jobs=-1)]: Done  23 out of  30 | elapsed:    7.0s remaining:    2.1s\n",
      "[Parallel(n_jobs=-1)]: Done  27 out of  30 | elapsed:    7.5s remaining:    0.7s\n",
      "[Parallel(n_jobs=-1)]: Done  30 out of  30 | elapsed:    8.0s finished\n",
      "\n",
      "[2020-04-29 20:58:05] Features: 4/10 -- score: 0.7463143677908152[Parallel(n_jobs=-1)]: Using backend LokyBackend with 8 concurrent workers.\n",
      "[Parallel(n_jobs=-1)]: Done   2 tasks      | elapsed:    1.9s\n",
      "[Parallel(n_jobs=-1)]: Done   9 tasks      | elapsed:    3.8s\n",
      "[Parallel(n_jobs=-1)]: Done  17 out of  29 | elapsed:    5.8s remaining:    4.1s\n",
      "[Parallel(n_jobs=-1)]: Done  20 out of  29 | elapsed:    6.5s remaining:    2.9s\n",
      "[Parallel(n_jobs=-1)]: Done  23 out of  29 | elapsed:    7.1s remaining:    1.8s\n",
      "[Parallel(n_jobs=-1)]: Done  26 out of  29 | elapsed:    7.8s remaining:    0.8s\n",
      "[Parallel(n_jobs=-1)]: Done  29 out of  29 | elapsed:    8.3s remaining:    0.0s\n",
      "[Parallel(n_jobs=-1)]: Done  29 out of  29 | elapsed:    8.3s finished\n",
      "\n",
      "[2020-04-29 20:58:13] Features: 5/10 -- score: 0.7597444196376056[Parallel(n_jobs=-1)]: Using backend LokyBackend with 8 concurrent workers.\n",
      "[Parallel(n_jobs=-1)]: Done   2 tasks      | elapsed:    2.6s\n",
      "[Parallel(n_jobs=-1)]: Done   9 tasks      | elapsed:    5.4s\n",
      "[Parallel(n_jobs=-1)]: Done  16 out of  28 | elapsed:    6.2s remaining:    4.7s\n",
      "[Parallel(n_jobs=-1)]: Done  19 out of  28 | elapsed:    8.5s remaining:    4.0s\n",
      "[Parallel(n_jobs=-1)]: Done  22 out of  28 | elapsed:    8.8s remaining:    2.3s\n",
      "[Parallel(n_jobs=-1)]: Done  25 out of  28 | elapsed:   10.1s remaining:    1.1s\n",
      "[Parallel(n_jobs=-1)]: Done  28 out of  28 | elapsed:   10.4s remaining:    0.0s\n",
      "[Parallel(n_jobs=-1)]: Done  28 out of  28 | elapsed:   10.4s finished\n",
      "\n",
      "[2020-04-29 20:58:24] Features: 6/10 -- score: 0.7927427659738354[Parallel(n_jobs=-1)]: Using backend LokyBackend with 8 concurrent workers.\n",
      "[Parallel(n_jobs=-1)]: Done   2 tasks      | elapsed:    3.1s\n",
      "[Parallel(n_jobs=-1)]: Done   9 tasks      | elapsed:    6.1s\n",
      "[Parallel(n_jobs=-1)]: Done  15 out of  27 | elapsed:    6.8s remaining:    5.4s\n",
      "[Parallel(n_jobs=-1)]: Done  18 out of  27 | elapsed:    9.3s remaining:    4.6s\n",
      "[Parallel(n_jobs=-1)]: Done  21 out of  27 | elapsed:    9.7s remaining:    2.7s\n",
      "[Parallel(n_jobs=-1)]: Done  24 out of  27 | elapsed:    9.9s remaining:    1.1s\n",
      "[Parallel(n_jobs=-1)]: Done  27 out of  27 | elapsed:   11.4s remaining:    0.0s\n",
      "[Parallel(n_jobs=-1)]: Done  27 out of  27 | elapsed:   11.4s finished\n",
      "\n",
      "[2020-04-29 20:58:35] Features: 7/10 -- score: 0.8134294858241823[Parallel(n_jobs=-1)]: Using backend LokyBackend with 8 concurrent workers.\n",
      "[Parallel(n_jobs=-1)]: Done   2 tasks      | elapsed:    3.2s\n",
      "[Parallel(n_jobs=-1)]: Done   9 tasks      | elapsed:    6.5s\n",
      "[Parallel(n_jobs=-1)]: Done  14 out of  26 | elapsed:    7.1s remaining:    6.0s\n",
      "[Parallel(n_jobs=-1)]: Done  17 out of  26 | elapsed:    9.9s remaining:    5.2s\n",
      "[Parallel(n_jobs=-1)]: Done  20 out of  26 | elapsed:   10.3s remaining:    3.0s\n",
      "[Parallel(n_jobs=-1)]: Done  23 out of  26 | elapsed:   10.4s remaining:    1.3s\n",
      "[Parallel(n_jobs=-1)]: Done  26 out of  26 | elapsed:   11.9s remaining:    0.0s\n",
      "[Parallel(n_jobs=-1)]: Done  26 out of  26 | elapsed:   11.9s finished\n",
      "\n",
      "[2020-04-29 20:58:47] Features: 8/10 -- score: 0.8222156218468258[Parallel(n_jobs=-1)]: Using backend LokyBackend with 8 concurrent workers.\n",
      "[Parallel(n_jobs=-1)]: Done   2 tasks      | elapsed:    3.6s\n",
      "[Parallel(n_jobs=-1)]: Done   9 tasks      | elapsed:    7.2s\n",
      "[Parallel(n_jobs=-1)]: Done  13 out of  25 | elapsed:    7.7s remaining:    7.1s\n",
      "[Parallel(n_jobs=-1)]: Done  16 out of  25 | elapsed:    7.9s remaining:    4.4s\n",
      "[Parallel(n_jobs=-1)]: Done  19 out of  25 | elapsed:   11.1s remaining:    3.4s\n",
      "[Parallel(n_jobs=-1)]: Done  22 out of  25 | elapsed:   11.4s remaining:    1.5s\n",
      "[Parallel(n_jobs=-1)]: Done  25 out of  25 | elapsed:   12.9s remaining:    0.0s\n",
      "[Parallel(n_jobs=-1)]: Done  25 out of  25 | elapsed:   12.9s finished\n",
      "\n",
      "[2020-04-29 20:59:00] Features: 9/10 -- score: 0.8306130499937125[Parallel(n_jobs=-1)]: Using backend LokyBackend with 8 concurrent workers.\n",
      "[Parallel(n_jobs=-1)]: Done   2 tasks      | elapsed:    4.1s\n",
      "[Parallel(n_jobs=-1)]: Done   9 tasks      | elapsed:    7.9s\n",
      "[Parallel(n_jobs=-1)]: Done  12 out of  24 | elapsed:    8.1s remaining:    8.1s\n",
      "[Parallel(n_jobs=-1)]: Done  15 out of  24 | elapsed:    8.5s remaining:    5.1s\n",
      "[Parallel(n_jobs=-1)]: Done  18 out of  24 | elapsed:   12.1s remaining:    4.0s\n",
      "[Parallel(n_jobs=-1)]: Done  21 out of  24 | elapsed:   12.4s remaining:    1.7s\n",
      "[Parallel(n_jobs=-1)]: Done  24 out of  24 | elapsed:   12.8s remaining:    0.0s\n",
      "[Parallel(n_jobs=-1)]: Done  24 out of  24 | elapsed:   12.8s finished\n",
      "\n",
      "[2020-04-29 20:59:13] Features: 10/10 -- score: 0.8344808383650237"
     ]
    },
    {
     "data": {
      "text/plain": [
       "SequentialFeatureSelector(clone_estimator=True, cv=5,\n",
       "                          estimator=RandomForestRegressor(bootstrap=True,\n",
       "                                                          ccp_alpha=0.0,\n",
       "                                                          criterion='mse',\n",
       "                                                          max_depth=None,\n",
       "                                                          max_features='auto',\n",
       "                                                          max_leaf_nodes=None,\n",
       "                                                          max_samples=None,\n",
       "                                                          min_impurity_decrease=0.0,\n",
       "                                                          min_impurity_split=None,\n",
       "                                                          min_samples_leaf=1,\n",
       "                                                          min_samples_split=2,\n",
       "                                                          min_weight_fraction_leaf=0.0,\n",
       "                                                          n_estimators=100,\n",
       "                                                          n_jobs=None,\n",
       "                                                          oob_score=False,\n",
       "                                                          random_state=None,\n",
       "                                                          verbose=0,\n",
       "                                                          warm_start=False),\n",
       "                          fixed_features=None, floating=False, forward=True,\n",
       "                          k_features=10, n_jobs=-1, pre_dispatch='2*n_jobs',\n",
       "                          scoring='r2', verbose=10)"
      ]
     },
     "execution_count": 10,
     "metadata": {},
     "output_type": "execute_result"
    }
   ],
   "source": [
    "model = sfs(RandomForestRegressor(),\n",
    "            k_features=210,\n",
    "            forward=True,\n",
    "            verbose=2,\n",
    "            cv=5,\n",
    "            n_jobs=-1,\n",
    "            scoring='r2')\n",
    "model.fit(X_train, y_train)"
   ]
  },
  {
   "cell_type": "code",
   "execution_count": 11,
   "metadata": {
    "ExecuteTime": {
     "end_time": "2020-04-29T12:59:28.197856Z",
     "start_time": "2020-04-29T12:59:28.192786Z"
    }
   },
   "outputs": [
    {
     "data": {
      "text/plain": [
       "(2, 4, 7, 11, 12, 13, 15, 16, 20, 23)"
      ]
     },
     "execution_count": 11,
     "metadata": {},
     "output_type": "execute_result"
    }
   ],
   "source": [
    "model.k_feature_idx_"
   ]
  },
  {
   "cell_type": "code",
   "execution_count": 12,
   "metadata": {
    "ExecuteTime": {
     "end_time": "2020-04-29T12:59:30.347738Z",
     "start_time": "2020-04-29T12:59:30.342789Z"
    }
   },
   "outputs": [
    {
     "data": {
      "text/plain": [
       "('LotFrontage',\n",
       " 'OverallQual',\n",
       " 'YearRemodAdd',\n",
       " 'BsmtUnfSF',\n",
       " 'TotalBsmtSF',\n",
       " '2ndFlrSF',\n",
       " 'GrLivArea',\n",
       " 'BsmtFullBath',\n",
       " 'BedroomAbvGr',\n",
       " 'GarageCars')"
      ]
     },
     "execution_count": 12,
     "metadata": {},
     "output_type": "execute_result"
    }
   ],
   "source": [
    "model.k_feature_names_"
   ]
  },
  {
   "cell_type": "markdown",
   "metadata": {},
   "source": [
    "## Backward Feature Selection"
   ]
  },
  {
   "cell_type": "code",
   "execution_count": 13,
   "metadata": {
    "ExecuteTime": {
     "end_time": "2020-04-29T13:06:28.336431Z",
     "start_time": "2020-04-29T12:59:41.856343Z"
    }
   },
   "outputs": [
    {
     "name": "stderr",
     "output_type": "stream",
     "text": [
      "[Parallel(n_jobs=-1)]: Using backend LokyBackend with 8 concurrent workers.\n",
      "[Parallel(n_jobs=-1)]: Done  33 out of  33 | elapsed:   31.6s finished\n",
      "\n",
      "[2020-04-29 21:00:16] Features: 32/10 -- score: 0.8414230280759964[Parallel(n_jobs=-1)]: Using backend LokyBackend with 8 concurrent workers.\n",
      "[Parallel(n_jobs=-1)]: Done  32 out of  32 | elapsed:   30.8s finished\n",
      "\n",
      "[2020-04-29 21:00:47] Features: 31/10 -- score: 0.8430996754848181[Parallel(n_jobs=-1)]: Using backend LokyBackend with 8 concurrent workers.\n",
      "[Parallel(n_jobs=-1)]: Done  31 out of  31 | elapsed:   29.5s finished\n",
      "\n",
      "[2020-04-29 21:01:17] Features: 30/10 -- score: 0.8448351341604479[Parallel(n_jobs=-1)]: Using backend LokyBackend with 8 concurrent workers.\n",
      "[Parallel(n_jobs=-1)]: Done  30 out of  30 | elapsed:   28.0s finished\n",
      "\n",
      "[2020-04-29 21:01:45] Features: 29/10 -- score: 0.8438761007388507[Parallel(n_jobs=-1)]: Using backend LokyBackend with 8 concurrent workers.\n",
      "[Parallel(n_jobs=-1)]: Done  29 out of  29 | elapsed:   26.5s remaining:    0.0s\n",
      "[Parallel(n_jobs=-1)]: Done  29 out of  29 | elapsed:   26.5s finished\n",
      "\n",
      "[2020-04-29 21:02:11] Features: 28/10 -- score: 0.8452535454894845[Parallel(n_jobs=-1)]: Using backend LokyBackend with 8 concurrent workers.\n",
      "[Parallel(n_jobs=-1)]: Done  28 out of  28 | elapsed:   23.9s remaining:    0.0s\n",
      "[Parallel(n_jobs=-1)]: Done  28 out of  28 | elapsed:   23.9s finished\n",
      "\n",
      "[2020-04-29 21:02:35] Features: 27/10 -- score: 0.8481155807580792[Parallel(n_jobs=-1)]: Using backend LokyBackend with 8 concurrent workers.\n",
      "[Parallel(n_jobs=-1)]: Done  27 out of  27 | elapsed:   22.6s finished\n",
      "\n",
      "[2020-04-29 21:02:58] Features: 26/10 -- score: 0.8440729980902788[Parallel(n_jobs=-1)]: Using backend LokyBackend with 8 concurrent workers.\n",
      "[Parallel(n_jobs=-1)]: Done  26 out of  26 | elapsed:   20.8s finished\n",
      "\n",
      "[2020-04-29 21:03:19] Features: 25/10 -- score: 0.8479988633550342[Parallel(n_jobs=-1)]: Using backend LokyBackend with 8 concurrent workers.\n",
      "[Parallel(n_jobs=-1)]: Done  23 out of  25 | elapsed:   17.9s remaining:    1.5s\n",
      "[Parallel(n_jobs=-1)]: Done  25 out of  25 | elapsed:   20.2s finished\n",
      "\n",
      "[2020-04-29 21:03:39] Features: 24/10 -- score: 0.8444349640193913[Parallel(n_jobs=-1)]: Using backend LokyBackend with 8 concurrent workers.\n",
      "[Parallel(n_jobs=-1)]: Done  22 out of  24 | elapsed:   17.4s remaining:    1.5s\n",
      "[Parallel(n_jobs=-1)]: Done  24 out of  24 | elapsed:   17.6s finished\n",
      "\n",
      "[2020-04-29 21:03:57] Features: 23/10 -- score: 0.8441440524743197[Parallel(n_jobs=-1)]: Using backend LokyBackend with 8 concurrent workers.\n",
      "[Parallel(n_jobs=-1)]: Done  20 out of  23 | elapsed:   16.8s remaining:    2.4s\n",
      "[Parallel(n_jobs=-1)]: Done  23 out of  23 | elapsed:   17.0s finished\n",
      "\n",
      "[2020-04-29 21:04:14] Features: 22/10 -- score: 0.8465191573308838[Parallel(n_jobs=-1)]: Using backend LokyBackend with 8 concurrent workers.\n",
      "[Parallel(n_jobs=-1)]: Done  19 out of  22 | elapsed:   15.9s remaining:    2.4s\n",
      "[Parallel(n_jobs=-1)]: Done  22 out of  22 | elapsed:   16.1s finished\n",
      "\n",
      "[2020-04-29 21:04:30] Features: 21/10 -- score: 0.846776871091788[Parallel(n_jobs=-1)]: Using backend LokyBackend with 8 concurrent workers.\n",
      "[Parallel(n_jobs=-1)]: Done  17 out of  21 | elapsed:   14.6s remaining:    3.4s\n",
      "[Parallel(n_jobs=-1)]: Done  21 out of  21 | elapsed:   15.3s finished\n",
      "\n",
      "[2020-04-29 21:04:46] Features: 20/10 -- score: 0.8446497890870411[Parallel(n_jobs=-1)]: Using backend LokyBackend with 8 concurrent workers.\n",
      "[Parallel(n_jobs=-1)]: Done  16 out of  20 | elapsed:   11.1s remaining:    2.7s\n",
      "[Parallel(n_jobs=-1)]: Done  20 out of  20 | elapsed:   14.4s finished\n",
      "\n",
      "[2020-04-29 21:05:00] Features: 19/10 -- score: 0.8470831756830881[Parallel(n_jobs=-1)]: Using backend LokyBackend with 8 concurrent workers.\n",
      "[Parallel(n_jobs=-1)]: Done  14 out of  19 | elapsed:   10.8s remaining:    3.8s\n",
      "[Parallel(n_jobs=-1)]: Done  19 out of  19 | elapsed:   13.7s finished\n",
      "\n",
      "[2020-04-29 21:05:14] Features: 18/10 -- score: 0.8469702158753869[Parallel(n_jobs=-1)]: Using backend LokyBackend with 8 concurrent workers.\n",
      "[Parallel(n_jobs=-1)]: Done  13 out of  18 | elapsed:   10.4s remaining:    3.9s\n",
      "[Parallel(n_jobs=-1)]: Done  18 out of  18 | elapsed:   12.9s finished\n",
      "\n",
      "[2020-04-29 21:05:27] Features: 17/10 -- score: 0.8440794400879925[Parallel(n_jobs=-1)]: Using backend LokyBackend with 8 concurrent workers.\n",
      "[Parallel(n_jobs=-1)]: Done  11 out of  17 | elapsed:   10.2s remaining:    5.5s\n",
      "[Parallel(n_jobs=-1)]: Done  17 out of  17 | elapsed:   12.4s finished\n",
      "\n",
      "[2020-04-29 21:05:40] Features: 16/10 -- score: 0.8450399226887247[Parallel(n_jobs=-1)]: Using backend LokyBackend with 8 concurrent workers.\n",
      "[Parallel(n_jobs=-1)]: Done  10 out of  16 | elapsed:    9.5s remaining:    5.7s\n",
      "[Parallel(n_jobs=-1)]: Done  16 out of  16 | elapsed:    9.7s finished\n",
      "\n",
      "[2020-04-29 21:05:49] Features: 15/10 -- score: 0.846387624209707[Parallel(n_jobs=-1)]: Using backend LokyBackend with 8 concurrent workers.\n",
      "[Parallel(n_jobs=-1)]: Done   8 out of  15 | elapsed:    4.9s remaining:    4.3s\n",
      "[Parallel(n_jobs=-1)]: Done  15 out of  15 | elapsed:    9.1s finished\n",
      "\n",
      "[2020-04-29 21:05:59] Features: 14/10 -- score: 0.8455016378975332[Parallel(n_jobs=-1)]: Using backend LokyBackend with 8 concurrent workers.\n",
      "[Parallel(n_jobs=-1)]: Done   7 out of  14 | elapsed:    4.8s remaining:    4.8s\n",
      "[Parallel(n_jobs=-1)]: Done  14 out of  14 | elapsed:    8.8s finished\n",
      "\n",
      "[2020-04-29 21:06:07] Features: 13/10 -- score: 0.8473732398375828[Parallel(n_jobs=-1)]: Using backend LokyBackend with 8 concurrent workers.\n",
      "[Parallel(n_jobs=-1)]: Done   5 out of  13 | elapsed:    4.3s remaining:    7.0s\n",
      "[Parallel(n_jobs=-1)]: Done  13 out of  13 | elapsed:    7.5s finished\n",
      "\n",
      "[2020-04-29 21:06:15] Features: 12/10 -- score: 0.8432210738636261[Parallel(n_jobs=-1)]: Using backend LokyBackend with 8 concurrent workers.\n",
      "[Parallel(n_jobs=-1)]: Done   4 out of  12 | elapsed:    4.0s remaining:    8.1s\n",
      "[Parallel(n_jobs=-1)]: Done  12 out of  12 | elapsed:    6.5s finished\n",
      "\n",
      "[2020-04-29 21:06:22] Features: 11/10 -- score: 0.8445832806450181[Parallel(n_jobs=-1)]: Using backend LokyBackend with 8 concurrent workers.\n",
      "[Parallel(n_jobs=-1)]: Done   2 out of  11 | elapsed:    3.7s remaining:   17.1s\n",
      "[Parallel(n_jobs=-1)]: Done   8 out of  11 | elapsed:    4.0s remaining:    1.4s\n",
      "[Parallel(n_jobs=-1)]: Done  11 out of  11 | elapsed:    6.1s finished\n",
      "\n",
      "[2020-04-29 21:06:28] Features: 10/10 -- score: 0.8428372756410436"
     ]
    },
    {
     "data": {
      "text/plain": [
       "SequentialFeatureSelector(clone_estimator=True, cv=5,\n",
       "                          estimator=RandomForestRegressor(bootstrap=True,\n",
       "                                                          ccp_alpha=0.0,\n",
       "                                                          criterion='mse',\n",
       "                                                          max_depth=None,\n",
       "                                                          max_features='auto',\n",
       "                                                          max_leaf_nodes=None,\n",
       "                                                          max_samples=None,\n",
       "                                                          min_impurity_decrease=0.0,\n",
       "                                                          min_impurity_split=None,\n",
       "                                                          min_samples_leaf=1,\n",
       "                                                          min_samples_split=2,\n",
       "                                                          min_weight_fraction_leaf=0.0,\n",
       "                                                          n_estimators=100,\n",
       "                                                          n_jobs=None,\n",
       "                                                          oob_score=False,\n",
       "                                                          random_state=None,\n",
       "                                                          verbose=0,\n",
       "                                                          warm_start=False),\n",
       "                          fixed_features=None, floating=False, forward=False,\n",
       "                          k_features=10, n_jobs=-1, pre_dispatch='2*n_jobs',\n",
       "                          scoring='r2', verbose=2)"
      ]
     },
     "execution_count": 13,
     "metadata": {},
     "output_type": "execute_result"
    }
   ],
   "source": [
    "backwardModel=sfs(RandomForestRegressor(),\n",
    "                  k_features=10,\n",
    "                  forward=False,\n",
    "                  verbose=2,\n",
    "                  cv=5,\n",
    "                  n_jobs=-1,\n",
    "                  scoring='r2')\n",
    "backwardModel.fit(X_train, y_train)"
   ]
  },
  {
   "cell_type": "code",
   "execution_count": null,
   "metadata": {},
   "outputs": [],
   "source": [
    "backwardModel.k_feature_idx_"
   ]
  },
  {
   "cell_type": "code",
   "execution_count": null,
   "metadata": {},
   "outputs": [],
   "source": [
    "X_train.columns[list(backwardModel.k_feature_idx_)]"
   ]
  },
  {
   "cell_type": "markdown",
   "metadata": {},
   "source": [
    "## Exhaustive Feature Selection"
   ]
  },
  {
   "cell_type": "code",
   "execution_count": null,
   "metadata": {},
   "outputs": [],
   "source": [
    "emodel=efs(RandomForestRegressor(),min_features=1,max_features=5,scoring='r2',n_jobs=-1)\n",
    "\n",
    "miniData=X_train[X_train.columns[list(backwardModel.k_feature_idx_)]]\n",
    "\n",
    "emodel.fit(np.array(miniData),y_train)"
   ]
  },
  {
   "cell_type": "code",
   "execution_count": null,
   "metadata": {},
   "outputs": [],
   "source": [
    "emodel.best_idx_"
   ]
  },
  {
   "cell_type": "code",
   "execution_count": null,
   "metadata": {},
   "outputs": [],
   "source": [
    "miniData.columns[list(emodel.best_idx_)]"
   ]
  }
 ],
 "metadata": {
  "kernelspec": {
   "display_name": "Python 3",
   "language": "python",
   "name": "python3"
  },
  "language_info": {
   "codemirror_mode": {
    "name": "ipython",
    "version": 3
   },
   "file_extension": ".py",
   "mimetype": "text/x-python",
   "name": "python",
   "nbconvert_exporter": "python",
   "pygments_lexer": "ipython3",
   "version": "3.7.3"
  },
  "toc": {
   "base_numbering": 1,
   "nav_menu": {},
   "number_sections": true,
   "sideBar": true,
   "skip_h1_title": false,
   "title_cell": "Table of Contents",
   "title_sidebar": "Contents",
   "toc_cell": false,
   "toc_position": {},
   "toc_section_display": true,
   "toc_window_display": false
  },
  "varInspector": {
   "cols": {
    "lenName": 16,
    "lenType": 16,
    "lenVar": 40
   },
   "kernels_config": {
    "python": {
     "delete_cmd_postfix": "",
     "delete_cmd_prefix": "del ",
     "library": "var_list.py",
     "varRefreshCmd": "print(var_dic_list())"
    },
    "r": {
     "delete_cmd_postfix": ") ",
     "delete_cmd_prefix": "rm(",
     "library": "var_list.r",
     "varRefreshCmd": "cat(var_dic_list()) "
    }
   },
   "types_to_exclude": [
    "module",
    "function",
    "builtin_function_or_method",
    "instance",
    "_Feature"
   ],
   "window_display": false
  }
 },
 "nbformat": 4,
 "nbformat_minor": 4
}
