{
 "cells": [
  {
   "cell_type": "code",
   "execution_count": 1,
   "metadata": {
    "ExecuteTime": {
     "end_time": "2020-09-13T04:02:25.607790Z",
     "start_time": "2020-09-13T04:02:24.448234Z"
    }
   },
   "outputs": [],
   "source": [
    "import numpy as np\n",
    "import pandas as pd\n",
    "import matplotlib.pyplot as plt\n",
    "import seaborn as sns\n",
    "from scipy import stats\n",
    "import warnings\n",
    "warnings.filterwarnings('ignore')\n",
    "\n",
    "from sklearn.linear_model import LinearRegression\n",
    "from sklearn.linear_model import SGDRegressor\n",
    "from sklearn.neighbors import KNeighborsRegressor\n",
    "from sklearn.tree import DecisionTreeRegressor\n",
    "from sklearn.ensemble import RandomForestRegressor\n",
    "from sklearn.svm import SVR\n",
    "import lightgbm as lgb\n",
    "from sklearn.preprocessing import MinMaxScaler\n",
    "from sklearn.preprocessing import PolynomialFeatures\n",
    "from sklearn.model_selection import train_test_split\n",
    "from sklearn.metrics import mean_squared_error\n",
    "from sklearn.model_selection import KFold\n",
    "from sklearn.model_selection import ShuffleSplit\n",
    "from sklearn.model_selection import LeaveOneOut\n",
    "from sklearn.model_selection import LeavePOut\n",
    "from sklearn.model_selection import GridSearchCV\n",
    "from sklearn.model_selection import RandomizedSearchCV\n",
    "from sklearn.model_selection import learning_curve, validation_curve\n",
    "from sklearn.decomposition import PCA"
   ]
  },
  {
   "cell_type": "code",
   "execution_count": 2,
   "metadata": {
    "ExecuteTime": {
     "end_time": "2020-09-13T04:02:25.643079Z",
     "start_time": "2020-09-13T04:02:25.607790Z"
    }
   },
   "outputs": [],
   "source": [
    "train_data = pd.read_csv('../input/zhengqi_train.txt', sep='\\t', encoding='utf-8')\n",
    "test_data = pd.read_csv('../input/zhengqi_test.txt', sep='\\t', encoding='utf-8')"
   ]
  },
  {
   "cell_type": "markdown",
   "metadata": {},
   "source": [
    "# 模型过拟合与欠拟合"
   ]
  },
  {
   "cell_type": "code",
   "execution_count": 3,
   "metadata": {
    "ExecuteTime": {
     "end_time": "2020-09-13T04:02:25.659067Z",
     "start_time": "2020-09-13T04:02:25.644051Z"
    }
   },
   "outputs": [],
   "source": [
    "features_columns = [col for col in train_data.columns if col not in ['target']]\n",
    "min_max_scaler = MinMaxScaler()\n",
    "min_max_scaler.fit(train_data[features_columns])\n",
    "\n",
    "train_data_scaler = min_max_scaler.transform(train_data[features_columns])\n",
    "test_data_scaler = min_max_scaler.transform(test_data[features_columns])\n",
    "\n",
    "train_data_scaler = pd.DataFrame(train_data_scaler)\n",
    "train_data_scaler.columns = features_columns\n",
    "train_data_scaler['target'] = train_data['target']\n",
    "\n",
    "test_data_scaler = pd.DataFrame(test_data_scaler)\n",
    "test_data_scaler.columns = features_columns"
   ]
  },
  {
   "cell_type": "code",
   "execution_count": 4,
   "metadata": {
    "ExecuteTime": {
     "end_time": "2020-09-13T04:02:25.687934Z",
     "start_time": "2020-09-13T04:02:25.660011Z"
    }
   },
   "outputs": [],
   "source": [
    "pca = PCA(n_components=16)\n",
    "new_train_pca_16 = pca.fit_transform(train_data_scaler.iloc[:, 0:-1])\n",
    "new_test_pca_16 = pca.transform(test_data_scaler)\n",
    "\n",
    "new_train_pca_16 = pd.DataFrame(new_train_pca_16)\n",
    "new_test_pca_16 = pd.DataFrame(new_test_pca_16)\n",
    "new_train_pca_16['target'] = train_data_scaler['target']"
   ]
  },
  {
   "cell_type": "code",
   "execution_count": 5,
   "metadata": {
    "ExecuteTime": {
     "end_time": "2020-09-13T04:02:25.699902Z",
     "start_time": "2020-09-13T04:02:25.688930Z"
    }
   },
   "outputs": [],
   "source": [
    "new_train_pca_16 = new_train_pca_16.fillna(0)\n",
    "train = new_train_pca_16[new_test_pca_16.columns]\n",
    "target = new_train_pca_16['target']\n",
    "\n",
    "train_data, test_data, train_target, test_target = train_test_split(train, target, test_size=0.2, random_state=0)"
   ]
  },
  {
   "cell_type": "markdown",
   "metadata": {},
   "source": [
    "## 欠拟合"
   ]
  },
  {
   "cell_type": "code",
   "execution_count": 6,
   "metadata": {
    "ExecuteTime": {
     "end_time": "2020-09-13T04:02:25.723838Z",
     "start_time": "2020-09-13T04:02:25.701897Z"
    }
   },
   "outputs": [
    {
     "name": "stdout",
     "output_type": "stream",
     "text": [
      "SGDRegresion train MSE:  0.15154387600636182\n",
      "SGDRegresion test MSE:   0.1561265905589228\n"
     ]
    }
   ],
   "source": [
    "clf = SGDRegressor(max_iter=500, tol=1e-2)\n",
    "clf.fit(train_data, train_target)\n",
    "score_train = mean_squared_error(train_target, clf.predict(train_data))\n",
    "score_test = mean_squared_error(test_target, clf.predict(test_data))\n",
    "\n",
    "print('SGDRegresion train MSE: ', score_train)\n",
    "print('SGDRegresion test MSE:  ', score_test)"
   ]
  },
  {
   "cell_type": "markdown",
   "metadata": {},
   "source": [
    "## 过拟合"
   ]
  },
  {
   "cell_type": "code",
   "execution_count": 7,
   "metadata": {
    "ExecuteTime": {
     "end_time": "2020-09-13T04:02:27.928319Z",
     "start_time": "2020-09-13T04:02:25.726831Z"
    }
   },
   "outputs": [
    {
     "name": "stdout",
     "output_type": "stream",
     "text": [
      "SGDRegresion train MSE:  0.13232984463943012\n",
      "SGDRegresion test MSE:   0.14470236138763864\n"
     ]
    }
   ],
   "source": [
    "poly = PolynomialFeatures(5)\n",
    "train_data_poly = poly.fit_transform(train_data)\n",
    "test_data_poly = poly.transform(test_data)\n",
    "\n",
    "clf = SGDRegressor(max_iter=1000, tol=1e-3)\n",
    "clf.fit(train_data_poly, train_target)\n",
    "score_train = mean_squared_error(train_target, clf.predict(train_data_poly))\n",
    "score_test = mean_squared_error(test_target, clf.predict(test_data_poly))\n",
    "\n",
    "print('SGDRegresion train MSE: ', score_train)\n",
    "print('SGDRegresion test MSE:  ', score_test)"
   ]
  },
  {
   "cell_type": "markdown",
   "metadata": {},
   "source": [
    "## 正常拟合"
   ]
  },
  {
   "cell_type": "code",
   "execution_count": 8,
   "metadata": {
    "ExecuteTime": {
     "end_time": "2020-09-13T04:02:28.134766Z",
     "start_time": "2020-09-13T04:02:27.930313Z"
    }
   },
   "outputs": [
    {
     "name": "stdout",
     "output_type": "stream",
     "text": [
      "SGDRegresion train MSE:  0.13403470232340356\n",
      "SGDRegresion test MSE:   0.1421326713954065\n"
     ]
    }
   ],
   "source": [
    "poly = PolynomialFeatures(3)\n",
    "train_data_poly = poly.fit_transform(train_data)\n",
    "test_data_poly = poly.transform(test_data)\n",
    "\n",
    "clf = SGDRegressor(max_iter=1000, tol=1e-3)\n",
    "clf.fit(train_data_poly, train_target)\n",
    "score_train = mean_squared_error(train_target, clf.predict(train_data_poly))\n",
    "score_test = mean_squared_error(test_target, clf.predict(test_data_poly))\n",
    "\n",
    "print('SGDRegresion train MSE: ', score_train)\n",
    "print('SGDRegresion test MSE:  ', score_test)"
   ]
  },
  {
   "cell_type": "markdown",
   "metadata": {},
   "source": [
    "# 模型正则化"
   ]
  },
  {
   "cell_type": "markdown",
   "metadata": {},
   "source": [
    "## L2范数正则化"
   ]
  },
  {
   "cell_type": "code",
   "execution_count": 9,
   "metadata": {
    "ExecuteTime": {
     "end_time": "2020-09-13T04:02:28.290368Z",
     "start_time": "2020-09-13T04:02:28.136762Z"
    }
   },
   "outputs": [
    {
     "name": "stdout",
     "output_type": "stream",
     "text": [
      "SGDRegresion train MSE:  0.13387548720940132\n",
      "SGDRegresion test MSE:   0.14222979558536455\n"
     ]
    }
   ],
   "source": [
    "poly = PolynomialFeatures(3)\n",
    "train_data_poly = poly.fit_transform(train_data)\n",
    "test_data_poly = poly.transform(test_data)\n",
    "clf = SGDRegressor(max_iter=1000, tol=1e-3, penalty='L2', alpha=0.0001)\n",
    "clf.fit(train_data_poly, train_target)\n",
    "score_train = mean_squared_error(train_target, clf.predict(train_data_poly))\n",
    "score_test = mean_squared_error(test_target, clf.predict(test_data_poly))\n",
    "\n",
    "print('SGDRegresion train MSE: ', score_train)\n",
    "print('SGDRegresion test MSE:  ', score_test)"
   ]
  },
  {
   "cell_type": "markdown",
   "metadata": {},
   "source": [
    "## L1范数正则化"
   ]
  },
  {
   "cell_type": "code",
   "execution_count": 10,
   "metadata": {
    "ExecuteTime": {
     "end_time": "2020-09-13T04:02:28.612520Z",
     "start_time": "2020-09-13T04:02:28.291365Z"
    }
   },
   "outputs": [
    {
     "name": "stdout",
     "output_type": "stream",
     "text": [
      "SGDRegresion train MSE:  0.1343939060176878\n",
      "SGDRegresion test MSE:   0.1427143331205221\n"
     ]
    }
   ],
   "source": [
    "poly = PolynomialFeatures(3)\n",
    "train_data_poly = poly.fit_transform(train_data)\n",
    "test_data_poly = poly.transform(test_data)\n",
    "clf = SGDRegressor(max_iter=1000, tol=1e-3, penalty='L1', alpha=0.00001)\n",
    "clf.fit(train_data_poly, train_target)\n",
    "score_train = mean_squared_error(train_target, clf.predict(train_data_poly))\n",
    "score_test = mean_squared_error(test_target, clf.predict(test_data_poly))\n",
    "\n",
    "print('SGDRegresion train MSE: ', score_train)\n",
    "print('SGDRegresion test MSE:  ', score_test)"
   ]
  },
  {
   "cell_type": "markdown",
   "metadata": {},
   "source": [
    "## ElasticNet联合L1和L2范数加权正则化"
   ]
  },
  {
   "cell_type": "code",
   "execution_count": 11,
   "metadata": {
    "ExecuteTime": {
     "end_time": "2020-09-13T04:02:28.936770Z",
     "start_time": "2020-09-13T04:02:28.613518Z"
    }
   },
   "outputs": [
    {
     "name": "stdout",
     "output_type": "stream",
     "text": [
      "SGDRegresion train MSE:  0.1342366457696468\n",
      "SGDRegresion test MSE:   0.14259665923690806\n"
     ]
    }
   ],
   "source": [
    "poly = PolynomialFeatures(3)\n",
    "train_data_poly = poly.fit_transform(train_data)\n",
    "test_data_poly = poly.transform(test_data)\n",
    "clf = SGDRegressor(max_iter=1000, tol=1e-3, penalty='elasticnet', l1_ratio=0.9, alpha=0.00001)\n",
    "clf.fit(train_data_poly, train_target)\n",
    "score_train = mean_squared_error(train_target, clf.predict(train_data_poly))\n",
    "score_test = mean_squared_error(test_target, clf.predict(test_data_poly))\n",
    "\n",
    "print('SGDRegresion train MSE: ', score_train)\n",
    "print('SGDRegresion test MSE:  ', score_test)"
   ]
  },
  {
   "cell_type": "markdown",
   "metadata": {},
   "source": [
    "# 模型交叉验证"
   ]
  },
  {
   "cell_type": "markdown",
   "metadata": {},
   "source": [
    "## 简单交叉验证"
   ]
  },
  {
   "cell_type": "code",
   "execution_count": 12,
   "metadata": {
    "ExecuteTime": {
     "end_time": "2020-09-13T04:02:28.961725Z",
     "start_time": "2020-09-13T04:02:28.937767Z"
    }
   },
   "outputs": [
    {
     "name": "stdout",
     "output_type": "stream",
     "text": [
      "SGDRegresion train MSE:  0.14152056907690852\n",
      "SGDRegresion test MSE:   0.14702477180431253\n"
     ]
    }
   ],
   "source": [
    "train_data, test_data, train_target, test_target = train_test_split(train, target, test_size=0.2, random_state=0)\n",
    "\n",
    "clf = SGDRegressor(max_iter=1000, tol=1e-3)\n",
    "clf.fit(train_data, train_target)\n",
    "score_train = mean_squared_error(train_target, clf.predict(train_data))\n",
    "score_test = mean_squared_error(test_target, clf.predict(test_data))\n",
    "\n",
    "print('SGDRegresion train MSE: ', score_train)\n",
    "print('SGDRegresion test MSE:  ', score_test)"
   ]
  },
  {
   "cell_type": "markdown",
   "metadata": {},
   "source": [
    "## K折交叉验证 KFold"
   ]
  },
  {
   "cell_type": "code",
   "execution_count": 13,
   "metadata": {
    "ExecuteTime": {
     "end_time": "2020-09-13T04:02:29.009596Z",
     "start_time": "2020-09-13T04:02:28.963720Z"
    }
   },
   "outputs": [
    {
     "name": "stdout",
     "output_type": "stream",
     "text": [
      "0  折 SGDRegresion train MSE:  0.15000517276846342\n",
      "0  折 SGDRegresion test MSE:   0.1056105492507973\n",
      "1  折 SGDRegresion train MSE:  0.1335470095636986\n",
      "1  折 SGDRegresion test MSE:   0.18222183097765565\n",
      "2  折 SGDRegresion train MSE:  0.1471355400300835\n",
      "2  折 SGDRegresion test MSE:   0.13334036459938758\n",
      "3  折 SGDRegresion train MSE:  0.14140035043512503\n",
      "3  折 SGDRegresion test MSE:   0.16377815310526728\n",
      "4  折 SGDRegresion train MSE:  0.13873208371401843\n",
      "4  折 SGDRegresion test MSE:   0.1657121669336226\n"
     ]
    }
   ],
   "source": [
    "kf = KFold(n_splits=5)\n",
    "for k, (train_index, test_index) in enumerate(kf.split(train)):\n",
    "    train_data, test_data = train.values[train_index], train.values[test_index]\n",
    "    train_target, test_target = target.values[train_index], target.values[test_index]\n",
    "    clf = SGDRegressor(max_iter=1000, tol=1e-3)\n",
    "    clf.fit(train_data, train_target)\n",
    "    score_train = mean_squared_error(train_target, clf.predict(train_data))\n",
    "    score_test = mean_squared_error(test_target, clf.predict(test_data))\n",
    "\n",
    "    print(k, ' 折', 'SGDRegresion train MSE: ', score_train)\n",
    "    print(k, ' 折', 'SGDRegresion test MSE:  ', score_test)"
   ]
  },
  {
   "cell_type": "markdown",
   "metadata": {},
   "source": [
    "## 留一法交叉验证 LeaveOneOut"
   ]
  },
  {
   "cell_type": "code",
   "execution_count": 14,
   "metadata": {
    "ExecuteTime": {
     "end_time": "2020-09-13T04:02:29.082402Z",
     "start_time": "2020-09-13T04:02:29.011591Z"
    }
   },
   "outputs": [
    {
     "name": "stdout",
     "output_type": "stream",
     "text": [
      "0  折 SGDRegresion train MSE:  0.14145164974005736\n",
      "0  折 SGDRegresion test MSE:   0.011491821056850147\n",
      "1  折 SGDRegresion train MSE:  0.14156788788574828\n",
      "1  折 SGDRegresion test MSE:   0.12599620878129256\n",
      "2  折 SGDRegresion train MSE:  0.14174097015683113\n",
      "2  折 SGDRegresion test MSE:   0.04237270398559636\n",
      "3  折 SGDRegresion train MSE:  0.1415007659867209\n",
      "3  折 SGDRegresion test MSE:   0.003638304946260904\n",
      "4  折 SGDRegresion train MSE:  0.1410033055369563\n",
      "4  折 SGDRegresion test MSE:   0.010476346832283332\n",
      "5  折 SGDRegresion train MSE:  0.14158469183011962\n",
      "5  折 SGDRegresion test MSE:   0.13784634365473986\n",
      "6  折 SGDRegresion train MSE:  0.14156460534476248\n",
      "6  折 SGDRegresion test MSE:   0.024323905307004307\n",
      "7  折 SGDRegresion train MSE:  0.141634142232386\n",
      "7  折 SGDRegresion test MSE:   0.0005141588917711953\n",
      "8  折 SGDRegresion train MSE:  0.1415678899014246\n",
      "8  折 SGDRegresion test MSE:   0.08955025551051773\n",
      "9  折 SGDRegresion train MSE:  0.14159018595069045\n",
      "9  折 SGDRegresion test MSE:   0.050381108040999247\n"
     ]
    }
   ],
   "source": [
    "loo = LeaveOneOut()\n",
    "\n",
    "for k, (train_index, test_index) in enumerate(loo.split(train)):\n",
    "    train_data, test_data = train.values[train_index], train.values[test_index]\n",
    "    train_target, test_target = target.values[train_index], target.values[test_index]\n",
    "    clf = SGDRegressor(max_iter=1000, tol=1e-3)\n",
    "    clf.fit(train_data, train_target)\n",
    "    score_train = mean_squared_error(train_target, clf.predict(train_data))\n",
    "    score_test = mean_squared_error(test_target, clf.predict(test_data))\n",
    "\n",
    "    print(k, ' 折', 'SGDRegresion train MSE: ', score_train)\n",
    "    print(k, ' 折', 'SGDRegresion test MSE:  ', score_test)\n",
    "    if k >= 9:\n",
    "        break"
   ]
  },
  {
   "cell_type": "markdown",
   "metadata": {},
   "source": [
    "## 留P法交叉验证"
   ]
  },
  {
   "cell_type": "code",
   "execution_count": 15,
   "metadata": {
    "ExecuteTime": {
     "end_time": "2020-09-13T04:02:29.161191Z",
     "start_time": "2020-09-13T04:02:29.083399Z"
    }
   },
   "outputs": [
    {
     "name": "stdout",
     "output_type": "stream",
     "text": [
      "0  10个 SGDRegresion train MSE:  0.14129648169729742\n",
      "0  10个 SGDRegresion test MSE:   0.04864701431404865\n",
      "1  10个 SGDRegresion train MSE:  0.14200234308889043\n",
      "1  10个 SGDRegresion test MSE:   0.04501420833502557\n",
      "2  10个 SGDRegresion train MSE:  0.14199388311982655\n",
      "2  10个 SGDRegresion test MSE:   0.04723564696417463\n",
      "3  10个 SGDRegresion train MSE:  0.14194353367222431\n",
      "3  10个 SGDRegresion test MSE:   0.05447202820892858\n",
      "4  10个 SGDRegresion train MSE:  0.14182868706693333\n",
      "4  10个 SGDRegresion test MSE:   0.06916153712527914\n",
      "5  10个 SGDRegresion train MSE:  0.14197228113154764\n",
      "5  10个 SGDRegresion test MSE:   0.04510425356706419\n",
      "6  10个 SGDRegresion train MSE:  0.14125485098338358\n",
      "6  10个 SGDRegresion test MSE:   0.04816125723008913\n",
      "7  10个 SGDRegresion train MSE:  0.14186615937209565\n",
      "7  10个 SGDRegresion test MSE:   0.052975980460754225\n",
      "8  10个 SGDRegresion train MSE:  0.14193958908631044\n",
      "8  10个 SGDRegresion test MSE:   0.0468476035244132\n",
      "9  10个 SGDRegresion train MSE:  0.14204451185426142\n",
      "9  10个 SGDRegresion test MSE:   0.04591042604486523\n"
     ]
    }
   ],
   "source": [
    "lpo = LeavePOut(p=10)\n",
    "\n",
    "for k, (train_index, test_index) in enumerate(lpo.split(train)):\n",
    "    train_data, test_data = train.values[train_index], train.values[test_index]\n",
    "    train_target, test_target = target.values[train_index], target.values[test_index]\n",
    "    clf = SGDRegressor(max_iter=1000, tol=1e-3)\n",
    "    clf.fit(train_data, train_target)\n",
    "    score_train = mean_squared_error(train_target, clf.predict(train_data))\n",
    "    score_test = mean_squared_error(test_target, clf.predict(test_data))\n",
    "\n",
    "    print(k, ' 10个', 'SGDRegresion train MSE: ', score_train)\n",
    "    print(k, ' 10个', 'SGDRegresion test MSE:  ', score_test)\n",
    "    if k >= 9:\n",
    "        break"
   ]
  },
  {
   "cell_type": "markdown",
   "metadata": {},
   "source": [
    "# 模型超参空间及调参"
   ]
  },
  {
   "cell_type": "markdown",
   "metadata": {},
   "source": [
    "## 穷举网格搜索"
   ]
  },
  {
   "cell_type": "code",
   "execution_count": 16,
   "metadata": {
    "ExecuteTime": {
     "end_time": "2020-09-13T04:02:47.959079Z",
     "start_time": "2020-09-13T04:02:29.163186Z"
    }
   },
   "outputs": [
    {
     "name": "stdout",
     "output_type": "stream",
     "text": [
      "RandomForestRegressor GridSearchCV test MSE:  0.25527365152910464\n"
     ]
    },
    {
     "data": {
      "text/plain": [
       "['mean_fit_time',\n",
       " 'mean_score_time',\n",
       " 'mean_test_score',\n",
       " 'param_max_depth',\n",
       " 'param_n_estimators',\n",
       " 'params',\n",
       " 'rank_test_score',\n",
       " 'split0_test_score',\n",
       " 'split1_test_score',\n",
       " 'split2_test_score',\n",
       " 'split3_test_score',\n",
       " 'split4_test_score',\n",
       " 'std_fit_time',\n",
       " 'std_score_time',\n",
       " 'std_test_score']"
      ]
     },
     "execution_count": 16,
     "metadata": {},
     "output_type": "execute_result"
    }
   ],
   "source": [
    "train_data, test_data, train_target, test_target = train_test_split(train, target, test_size=0.2, random_state=0)\n",
    "\n",
    "randomForestRegressor = RandomForestRegressor()\n",
    "parameters = {'n_estimators': [50, 100, 200], 'max_depth': [1, 2, 3]}\n",
    "\n",
    "clf = GridSearchCV(randomForestRegressor, parameters, cv=5)\n",
    "clf.fit(train_data, train_target)\n",
    "score_test = mean_squared_error(test_target, clf.predict(test_data))\n",
    "print('RandomForestRegressor GridSearchCV test MSE: ', score_test)\n",
    "sorted(clf.cv_results_.keys())"
   ]
  },
  {
   "cell_type": "markdown",
   "metadata": {},
   "source": [
    "## 随机参数优化"
   ]
  },
  {
   "cell_type": "code",
   "execution_count": 17,
   "metadata": {
    "ExecuteTime": {
     "end_time": "2020-09-13T04:03:23.474476Z",
     "start_time": "2020-09-13T04:02:47.960077Z"
    }
   },
   "outputs": [
    {
     "name": "stdout",
     "output_type": "stream",
     "text": [
      "RandomForestRegressor GridSearchCV test MSE:  0.19592615575875494\n"
     ]
    },
    {
     "data": {
      "text/plain": [
       "['mean_fit_time',\n",
       " 'mean_score_time',\n",
       " 'mean_test_score',\n",
       " 'param_max_depth',\n",
       " 'param_n_estimators',\n",
       " 'params',\n",
       " 'rank_test_score',\n",
       " 'split0_test_score',\n",
       " 'split1_test_score',\n",
       " 'split2_test_score',\n",
       " 'split3_test_score',\n",
       " 'split4_test_score',\n",
       " 'std_fit_time',\n",
       " 'std_score_time',\n",
       " 'std_test_score']"
      ]
     },
     "execution_count": 17,
     "metadata": {},
     "output_type": "execute_result"
    }
   ],
   "source": [
    "train_data, test_data, train_target, test_target = train_test_split(train, target, test_size=0.2, random_state=0)\n",
    "\n",
    "randomForestRegressor = RandomForestRegressor()\n",
    "parameters = {'n_estimators': [50, 100, 200, 300], 'max_depth': [1, 2, 3, 4, 5]}\n",
    "\n",
    "clf = RandomizedSearchCV(randomForestRegressor, parameters, cv=5)\n",
    "clf.fit(train_data, train_target)\n",
    "score_test = mean_squared_error(test_target, clf.predict(test_data))\n",
    "print('RandomForestRegressor GridSearchCV test MSE: ', score_test)\n",
    "sorted(clf.cv_results_.keys())"
   ]
  },
  {
   "cell_type": "markdown",
   "metadata": {},
   "source": [
    "## LGB调参"
   ]
  },
  {
   "cell_type": "code",
   "execution_count": 18,
   "metadata": {
    "ExecuteTime": {
     "end_time": "2020-09-13T04:03:26.022025Z",
     "start_time": "2020-09-13T04:03:23.475512Z"
    }
   },
   "outputs": [
    {
     "name": "stdout",
     "output_type": "stream",
     "text": [
      "Best parameters:  {'learning_rate': 0.1, 'n_estimators': 40}\n",
      "LGBMRegressor GridSearchCV test MSE:  0.15143248564085332\n"
     ]
    }
   ],
   "source": [
    "clf = lgb.LGBMRegressor(num_leaves=31)\n",
    "\n",
    "parameters = {'learning_rate': [0.01, 0.1, 1], 'n_estimators': [20, 40]}\n",
    "clf = GridSearchCV(clf, parameters, cv=5)\n",
    "clf.fit(train_data, train_target)\n",
    "\n",
    "print('Best parameters: ', clf.best_params_)\n",
    "score_test = mean_squared_error(test_target, clf.predict(test_data))\n",
    "print('LGBMRegressor GridSearchCV test MSE: ', score_test)"
   ]
  },
  {
   "cell_type": "markdown",
   "metadata": {},
   "source": [
    "## LGB线下验证"
   ]
  },
  {
   "cell_type": "code",
   "execution_count": 19,
   "metadata": {
    "ExecuteTime": {
     "end_time": "2020-09-13T04:04:30.759117Z",
     "start_time": "2020-09-13T04:03:26.025014Z"
    }
   },
   "outputs": [
    {
     "name": "stdout",
     "output_type": "stream",
     "text": [
      "Training until validation scores don't improve for 300 rounds\n",
      "[300]\tTrain's l2: 0.0629311\tTest's l2: 0.125237\n",
      "[600]\tTrain's l2: 0.0303868\tTest's l2: 0.112781\n",
      "[900]\tTrain's l2: 0.0176066\tTest's l2: 0.109759\n",
      "[1200]\tTrain's l2: 0.0110348\tTest's l2: 0.108169\n",
      "[1500]\tTrain's l2: 0.00706786\tTest's l2: 0.107126\n",
      "[1800]\tTrain's l2: 0.0046641\tTest's l2: 0.10643\n",
      "[2100]\tTrain's l2: 0.00314878\tTest's l2: 0.106064\n",
      "[2400]\tTrain's l2: 0.00213319\tTest's l2: 0.105696\n",
      "[2700]\tTrain's l2: 0.0014622\tTest's l2: 0.105423\n",
      "[3000]\tTrain's l2: 0.00102244\tTest's l2: 0.105254\n",
      "[3300]\tTrain's l2: 0.000708255\tTest's l2: 0.105162\n",
      "[3600]\tTrain's l2: 0.000491013\tTest's l2: 0.105039\n",
      "[3900]\tTrain's l2: 0.000346455\tTest's l2: 0.105009\n",
      "[4200]\tTrain's l2: 0.000242701\tTest's l2: 0.104999\n",
      "[4500]\tTrain's l2: 0.000172218\tTest's l2: 0.104959\n",
      "[4800]\tTrain's l2: 0.000121093\tTest's l2: 0.104918\n",
      "Did not meet early stopping. Best iteration is:\n",
      "[5000]\tTrain's l2: 9.62172e-05\tTest's l2: 0.104888\n",
      "第1折 训练和预测 训练MSE 预测MSE\n",
      "--------\n",
      " 训练MSE\n",
      " 9.621717747369529e-05 \n",
      "--------\n",
      "--------\n",
      " 训练MSE\n",
      " 0.10488839949311501 \n",
      "--------\n",
      "Training until validation scores don't improve for 300 rounds\n",
      "[300]\tTrain's l2: 0.0591252\tTest's l2: 0.147273\n",
      "[600]\tTrain's l2: 0.0283011\tTest's l2: 0.138002\n",
      "[900]\tTrain's l2: 0.0165388\tTest's l2: 0.134784\n",
      "[1200]\tTrain's l2: 0.0104587\tTest's l2: 0.133869\n",
      "[1500]\tTrain's l2: 0.0067149\tTest's l2: 0.132755\n",
      "[1800]\tTrain's l2: 0.00441917\tTest's l2: 0.13267\n",
      "[2100]\tTrain's l2: 0.00295079\tTest's l2: 0.132257\n",
      "[2400]\tTrain's l2: 0.00201191\tTest's l2: 0.132008\n",
      "[2700]\tTrain's l2: 0.00137972\tTest's l2: 0.131654\n",
      "[3000]\tTrain's l2: 0.000943638\tTest's l2: 0.131231\n",
      "[3300]\tTrain's l2: 0.000654942\tTest's l2: 0.131134\n",
      "[3600]\tTrain's l2: 0.000458301\tTest's l2: 0.131024\n",
      "[3900]\tTrain's l2: 0.00032208\tTest's l2: 0.130979\n",
      "[4200]\tTrain's l2: 0.000223868\tTest's l2: 0.130894\n",
      "[4500]\tTrain's l2: 0.000155546\tTest's l2: 0.130852\n",
      "[4800]\tTrain's l2: 0.000111332\tTest's l2: 0.130794\n",
      "Did not meet early stopping. Best iteration is:\n",
      "[5000]\tTrain's l2: 8.81815e-05\tTest's l2: 0.130749\n",
      "第2折 训练和预测 训练MSE 预测MSE\n",
      "--------\n",
      " 训练MSE\n",
      " 8.818150681393949e-05 \n",
      "--------\n",
      "--------\n",
      " 训练MSE\n",
      " 0.13074913191736526 \n",
      "--------\n",
      "Training until validation scores don't improve for 300 rounds\n",
      "[300]\tTrain's l2: 0.0636853\tTest's l2: 0.11448\n",
      "[600]\tTrain's l2: 0.0306455\tTest's l2: 0.103408\n",
      "[900]\tTrain's l2: 0.0179671\tTest's l2: 0.101309\n",
      "[1200]\tTrain's l2: 0.0113815\tTest's l2: 0.100476\n",
      "[1500]\tTrain's l2: 0.00739585\tTest's l2: 0.10072\n",
      "Early stopping, best iteration is:\n",
      "[1325]\tTrain's l2: 0.00951938\tTest's l2: 0.100343\n",
      "第3折 训练和预测 训练MSE 预测MSE\n",
      "--------\n",
      " 训练MSE\n",
      " 0.009519380404280292 \n",
      "--------\n",
      "--------\n",
      " 训练MSE\n",
      " 0.10034349508599454 \n",
      "--------\n",
      "Training until validation scores don't improve for 300 rounds\n",
      "[300]\tTrain's l2: 0.0639781\tTest's l2: 0.122908\n",
      "[600]\tTrain's l2: 0.0311593\tTest's l2: 0.111212\n",
      "[900]\tTrain's l2: 0.0183338\tTest's l2: 0.108237\n",
      "[1200]\tTrain's l2: 0.0113964\tTest's l2: 0.107125\n",
      "[1500]\tTrain's l2: 0.00737022\tTest's l2: 0.106967\n",
      "[1800]\tTrain's l2: 0.00488392\tTest's l2: 0.106383\n",
      "[2100]\tTrain's l2: 0.00332892\tTest's l2: 0.106216\n",
      "[2400]\tTrain's l2: 0.002306\tTest's l2: 0.106237\n",
      "Early stopping, best iteration is:\n",
      "[2253]\tTrain's l2: 0.00275115\tTest's l2: 0.106166\n",
      "第4折 训练和预测 训练MSE 预测MSE\n",
      "--------\n",
      " 训练MSE\n",
      " 0.002751151421296277 \n",
      "--------\n",
      "--------\n",
      " 训练MSE\n",
      " 0.10616581751151447 \n",
      "--------\n",
      "Training until validation scores don't improve for 300 rounds\n",
      "[300]\tTrain's l2: 0.0625492\tTest's l2: 0.114111\n",
      "[600]\tTrain's l2: 0.0301713\tTest's l2: 0.101926\n",
      "[900]\tTrain's l2: 0.0176946\tTest's l2: 0.100402\n",
      "[1200]\tTrain's l2: 0.0110126\tTest's l2: 0.0995783\n",
      "[1500]\tTrain's l2: 0.00712999\tTest's l2: 0.0992797\n",
      "[1800]\tTrain's l2: 0.00470891\tTest's l2: 0.0988752\n",
      "[2100]\tTrain's l2: 0.00316553\tTest's l2: 0.098659\n",
      "[2400]\tTrain's l2: 0.00215489\tTest's l2: 0.0984392\n",
      "[2700]\tTrain's l2: 0.00147516\tTest's l2: 0.0982472\n",
      "[3000]\tTrain's l2: 0.00102411\tTest's l2: 0.0982614\n",
      "[3300]\tTrain's l2: 0.000714953\tTest's l2: 0.0981318\n",
      "[3600]\tTrain's l2: 0.00049395\tTest's l2: 0.0981095\n",
      "[3900]\tTrain's l2: 0.000343908\tTest's l2: 0.0980809\n",
      "[4200]\tTrain's l2: 0.000244478\tTest's l2: 0.0980652\n",
      "Early stopping, best iteration is:\n",
      "[4091]\tTrain's l2: 0.000277163\tTest's l2: 0.0980573\n",
      "第5折 训练和预测 训练MSE 预测MSE\n",
      "--------\n",
      " 训练MSE\n",
      " 0.0002771633815785429 \n",
      "--------\n",
      "--------\n",
      " 训练MSE\n",
      " 0.09805728722003326 \n",
      "--------\n",
      "--------\n",
      " 训练MSE\n",
      " [9.621717747369529e-05, 8.818150681393949e-05, 0.009519380404280292, 0.002751151421296277, 0.0002771633815785429] \n",
      " 0.002546418778288549 \n",
      "--------\n",
      "--------\n",
      " 训练MSE\n",
      " [0.10488839949311501, 0.13074913191736526, 0.10034349508599454, 0.10616581751151447, 0.09805728722003326] \n",
      " 0.10804082624560452 \n",
      "--------\n"
     ]
    }
   ],
   "source": [
    "train_data2 = pd.read_csv('../input/zhengqi_train.txt', sep='\\t', encoding='utf-8')\n",
    "test_data2 = pd.read_csv('../input/zhengqi_test.txt', sep='\\t', encoding='utf-8')\n",
    "\n",
    "train_data2_f = train_data2[test_data2.columns].values\n",
    "train_data2_target = train_data2['target'].values\n",
    "\n",
    "Folds = 5\n",
    "kf = KFold(n_splits=5, shuffle=True, random_state=2019)\n",
    "MSE_dict = {'train_mse': [], 'test_mse': []}\n",
    "\n",
    "for i, (train_index, test_index) in enumerate(kf.split(train_data2_f)):\n",
    "    lgb_reg = lgb.LGBMRegressor(learning_rate=0.01,\n",
    "                                max_depth=-1,\n",
    "                                n_estimators=5000,\n",
    "                                boosting_type='gbdt',\n",
    "                                random_state=2019,\n",
    "                                objective='regression')\n",
    "    X_train_KFold, X_test_KFold = train_data2_f[train_index], train_data2_f[test_index]\n",
    "    y_train_KFold, y_test_KFold = train_data2_target[train_index], train_data2_target[test_index]\n",
    "    \n",
    "    lgb_reg.fit(X=X_train_KFold, y=y_train_KFold,\n",
    "                eval_set=[(X_train_KFold, y_train_KFold), (X_test_KFold, y_test_KFold)],\n",
    "                eval_names=['Train', 'Test'],\n",
    "                early_stopping_rounds=300,\n",
    "                eval_metric='mse',\n",
    "                verbose=300)\n",
    "    \n",
    "    y_train_KFold_predict = lgb_reg.predict(X_train_KFold, num_iteration=lgb_reg.best_iteration_)\n",
    "    y_test_KFold_predict = lgb_reg.predict(X_test_KFold, num_iteration=lgb_reg.best_iteration_)\n",
    "    \n",
    "    print('第{}折 训练和预测 训练MSE 预测MSE'.format(i + 1))\n",
    "    train_mse = mean_squared_error(y_train_KFold_predict, y_train_KFold)\n",
    "    print('--------\\n', '训练MSE\\n', train_mse, '\\n--------')\n",
    "    test_mse = mean_squared_error(y_test_KFold_predict, y_test_KFold)\n",
    "    print('--------\\n', '训练MSE\\n', test_mse, '\\n--------')\n",
    "    \n",
    "    MSE_dict['train_mse'].append(train_mse)\n",
    "    MSE_dict['test_mse'].append(test_mse)\n",
    "\n",
    "print('--------\\n', '训练MSE\\n', MSE_dict['train_mse'], '\\n', np.mean(MSE_dict['train_mse']), '\\n--------')\n",
    "print('--------\\n', '训练MSE\\n', MSE_dict['test_mse'], '\\n', np.mean(MSE_dict['test_mse']), '\\n--------')"
   ]
  },
  {
   "cell_type": "markdown",
   "metadata": {},
   "source": [
    "# 学习曲线和验证曲线"
   ]
  },
  {
   "cell_type": "markdown",
   "metadata": {},
   "source": [
    "## 学习曲线"
   ]
  }
 ],
 "metadata": {
  "kernelspec": {
   "display_name": "Python 3",
   "language": "python",
   "name": "python3"
  },
  "language_info": {
   "codemirror_mode": {
    "name": "ipython",
    "version": 3
   },
   "file_extension": ".py",
   "mimetype": "text/x-python",
   "name": "python",
   "nbconvert_exporter": "python",
   "pygments_lexer": "ipython3",
   "version": "3.7.3"
  },
  "toc": {
   "base_numbering": 1,
   "nav_menu": {},
   "number_sections": true,
   "sideBar": true,
   "skip_h1_title": false,
   "title_cell": "Table of Contents",
   "title_sidebar": "Contents",
   "toc_cell": false,
   "toc_position": {},
   "toc_section_display": true,
   "toc_window_display": false
  },
  "varInspector": {
   "cols": {
    "lenName": 16,
    "lenType": 16,
    "lenVar": 40
   },
   "kernels_config": {
    "python": {
     "delete_cmd_postfix": "",
     "delete_cmd_prefix": "del ",
     "library": "var_list.py",
     "varRefreshCmd": "print(var_dic_list())"
    },
    "r": {
     "delete_cmd_postfix": ") ",
     "delete_cmd_prefix": "rm(",
     "library": "var_list.r",
     "varRefreshCmd": "cat(var_dic_list()) "
    }
   },
   "types_to_exclude": [
    "module",
    "function",
    "builtin_function_or_method",
    "instance",
    "_Feature"
   ],
   "window_display": false
  }
 },
 "nbformat": 4,
 "nbformat_minor": 4
}
