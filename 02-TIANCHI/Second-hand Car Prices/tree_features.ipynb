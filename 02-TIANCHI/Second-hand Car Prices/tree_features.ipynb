{
 "cells": [
  {
   "cell_type": "markdown",
   "metadata": {},
   "source": [
    "https://github.com/wujiekd/Predicting-used-car-prices/blob/master/feature/generation.py"
   ]
  },
  {
   "cell_type": "code",
   "execution_count": 1,
   "metadata": {
    "ExecuteTime": {
     "end_time": "2020-04-27T01:12:08.133714Z",
     "start_time": "2020-04-27T01:12:06.839779Z"
    }
   },
   "outputs": [],
   "source": [
    "import numpy as np\n",
    "import pandas as pd\n",
    "from datetime import datetime\n",
    "import warnings\n",
    "from sklearn.preprocessing import LabelEncoder, MinMaxScaler\n",
    "import gc\n",
    "\n",
    "warnings.filterwarnings('ignore')\n",
    "pd.set_option('max_columns', None)\n",
    "pd.set_option('max_rows', None)"
   ]
  },
  {
   "cell_type": "code",
   "execution_count": 2,
   "metadata": {
    "ExecuteTime": {
     "end_time": "2020-04-27T01:12:08.937142Z",
     "start_time": "2020-04-27T01:12:08.133714Z"
    }
   },
   "outputs": [
    {
     "name": "stdout",
     "output_type": "stream",
     "text": [
      "Train_data.shape:  (150000, 31)\n",
      "Test_data.shape:  (50000, 30)\n"
     ]
    }
   ],
   "source": [
    "Train_data = pd.read_csv('input/used_car_train_20200313.csv', sep=' ')\n",
    "Test_data = pd.read_csv('input/used_car_testB_20200421.csv', sep=' ')\n",
    "\n",
    "print('Train_data.shape: ', Train_data.shape)\n",
    "print('Test_data.shape: ', Test_data.shape)"
   ]
  },
  {
   "cell_type": "code",
   "execution_count": 3,
   "metadata": {
    "ExecuteTime": {
     "end_time": "2020-04-27T01:12:08.953100Z",
     "start_time": "2020-04-27T01:12:08.938141Z"
    }
   },
   "outputs": [],
   "source": [
    "Train_data['price'] = np.log1p(Train_data['price'])"
   ]
  },
  {
   "cell_type": "code",
   "execution_count": 4,
   "metadata": {
    "ExecuteTime": {
     "end_time": "2020-04-27T01:12:09.031889Z",
     "start_time": "2020-04-27T01:12:08.954098Z"
    }
   },
   "outputs": [],
   "source": [
    "df = pd.concat([Train_data, Test_data], ignore_index=True)"
   ]
  },
  {
   "cell_type": "markdown",
   "metadata": {},
   "source": [
    "## 数据处理"
   ]
  },
  {
   "cell_type": "code",
   "execution_count": 5,
   "metadata": {
    "ExecuteTime": {
     "end_time": "2020-04-27T01:12:09.145736Z",
     "start_time": "2020-04-27T01:12:09.032887Z"
    }
   },
   "outputs": [
    {
     "data": {
      "text/plain": [
       "20"
      ]
     },
     "execution_count": 5,
     "metadata": {},
     "output_type": "execute_result"
    }
   ],
   "source": [
    "df['name_count'] = df.groupby('name')['SaleID'].transform('count')\n",
    "del df['name']\n",
    "\n",
    "gc.collect()"
   ]
  },
  {
   "cell_type": "code",
   "execution_count": 6,
   "metadata": {
    "ExecuteTime": {
     "end_time": "2020-04-27T01:12:09.232895Z",
     "start_time": "2020-04-27T01:12:09.146733Z"
    }
   },
   "outputs": [
    {
     "data": {
      "text/plain": [
       "20"
      ]
     },
     "execution_count": 6,
     "metadata": {},
     "output_type": "execute_result"
    }
   ],
   "source": [
    "df.drop(df[df['seller'] == 1].index, inplace=True)\n",
    "\n",
    "del df['offerType'], df['seller']\n",
    "\n",
    "gc.collect()"
   ]
  },
  {
   "cell_type": "code",
   "execution_count": 7,
   "metadata": {
    "ExecuteTime": {
     "end_time": "2020-04-27T01:12:09.265806Z",
     "start_time": "2020-04-27T01:12:09.234851Z"
    }
   },
   "outputs": [],
   "source": [
    "df['fuelType'] = df['fuelType'].fillna(df['fuelType'].mode()[0])\n",
    "df['gearbox'] = df['gearbox'].fillna(df['gearbox'].mode()[0])\n",
    "df['bodyType'] = df['bodyType'].fillna(df['bodyType'].mode()[0])\n",
    "df['model'] = df['model'].fillna(df['model'].mode()[0])"
   ]
  },
  {
   "cell_type": "code",
   "execution_count": 8,
   "metadata": {
    "ExecuteTime": {
     "end_time": "2020-04-27T01:12:10.999781Z",
     "start_time": "2020-04-27T01:12:09.267762Z"
    }
   },
   "outputs": [],
   "source": [
    "# df['power'] = df['power'].map(lambda x: 600 if x > 600 else x)\n",
    "df['power'] = df['power'][df['power'] >  600] = 600\n",
    "\n",
    "df['notRepairedDamage'] = df['notRepairedDamage'].astype(str).apply(lambda x: x if x != '-' else np.nan).astype('float32')"
   ]
  },
  {
   "cell_type": "markdown",
   "metadata": {},
   "source": [
    "### 时间、地区\n",
    "#### 时间"
   ]
  },
  {
   "cell_type": "code",
   "execution_count": 9,
   "metadata": {
    "ExecuteTime": {
     "end_time": "2020-04-27T01:12:11.006726Z",
     "start_time": "2020-04-27T01:12:10.999781Z"
    }
   },
   "outputs": [],
   "source": [
    "def date_process(x):\n",
    "    year = int(str(x)[:4])\n",
    "    month = int(str(x)[4:6])\n",
    "    day = int(str(x)[6:8])\n",
    "    \n",
    "    if month < 1:\n",
    "        month = 1\n",
    "    date = datetime(year, month, day)\n",
    "    return date"
   ]
  },
  {
   "cell_type": "code",
   "execution_count": 10,
   "metadata": {
    "ExecuteTime": {
     "end_time": "2020-04-27T01:12:11.662973Z",
     "start_time": "2020-04-27T01:12:11.008262Z"
    }
   },
   "outputs": [],
   "source": [
    "df['regDate'] = df['regDate'].apply(date_process)\n",
    "df['creatDate'] = df['creatDate'].apply(date_process)"
   ]
  },
  {
   "cell_type": "code",
   "execution_count": 11,
   "metadata": {
    "ExecuteTime": {
     "end_time": "2020-04-27T01:12:11.768204Z",
     "start_time": "2020-04-27T01:12:11.662973Z"
    }
   },
   "outputs": [],
   "source": [
    "df['regDate_year'] = df['regDate'].dt.year\n",
    "df['regDate_month'] = df['regDate'].dt.month\n",
    "df['regDate_day'] = df['regDate'].dt.day\n",
    "\n",
    "df['creatDate_year'] = df['creatDate'].dt.year\n",
    "df['creatDate_month'] = df['creatDate'].dt.month\n",
    "df['creatDate_day'] = df['creatDate'].dt.day"
   ]
  },
  {
   "cell_type": "code",
   "execution_count": 12,
   "metadata": {
    "ExecuteTime": {
     "end_time": "2020-04-27T01:12:11.821481Z",
     "start_time": "2020-04-27T01:12:11.769843Z"
    }
   },
   "outputs": [],
   "source": [
    "df['car_age_day'] = (df['creatDate'] - df['regDate']).dt.days\n",
    "df['car_age_year'] = round(df['car_age_day'] / 365, 1)"
   ]
  },
  {
   "cell_type": "markdown",
   "metadata": {},
   "source": [
    "#### 地区"
   ]
  },
  {
   "cell_type": "code",
   "execution_count": 13,
   "metadata": {
    "ExecuteTime": {
     "end_time": "2020-04-27T01:12:11.965445Z",
     "start_time": "2020-04-27T01:12:11.822482Z"
    }
   },
   "outputs": [],
   "source": [
    "df['regionCode_count'] = df.groupby(['regionCode'])['SaleID'].transform('count')\n",
    "df['city'] = df['regionCode'].apply(lambda x: str(x)[:2])"
   ]
  },
  {
   "cell_type": "markdown",
   "metadata": {},
   "source": [
    "### 类别特征"
   ]
  },
  {
   "cell_type": "code",
   "execution_count": 14,
   "metadata": {
    "ExecuteTime": {
     "end_time": "2020-04-27T01:12:12.089093Z",
     "start_time": "2020-04-27T01:12:11.966383Z"
    }
   },
   "outputs": [],
   "source": [
    "bin = [i * 10 for i in range(31)]\n",
    "df['power_bin'] = pd.cut(df['power'], bin, labels=False)\n",
    "tong = df[['power_bin', 'power']].head()\n",
    "\n",
    "bin = [i * 10 for i in range(24)]\n",
    "df['model_bin'] = pd.cut(df['model'], bin, labels=False)\n",
    "tong = df[['model_bin', 'model']].head()"
   ]
  },
  {
   "cell_type": "code",
   "execution_count": 15,
   "metadata": {
    "ExecuteTime": {
     "end_time": "2020-04-27T01:12:25.186391Z",
     "start_time": "2020-04-27T01:12:12.090054Z"
    }
   },
   "outputs": [],
   "source": [
    "Train_gb = Train_data.groupby(\"regionCode\")\n",
    "all_info = {}\n",
    "for kind, kind_data in Train_gb:\n",
    "    info = {}\n",
    "    kind_data = kind_data[kind_data['price'] > 0]\n",
    "    info['regionCode_amount'] = len(kind_data)\n",
    "    info['regionCode_price_max'] = kind_data.price.max()\n",
    "    info['regionCode_price_median'] = kind_data.price.median()\n",
    "    info['regionCode_price_min'] = kind_data.price.min()\n",
    "    info['regionCode_price_sum'] = kind_data.price.sum()\n",
    "    info['regionCode_price_std'] = kind_data.price.std()\n",
    "    info['regionCode_price_mean'] = kind_data.price.mean()\n",
    "    info['regionCode_price_skew'] = kind_data.price.skew()\n",
    "    info['regionCode_price_kurt'] = kind_data.price.kurt()\n",
    "    info['regionCode_mad'] = kind_data.price.mad()\n",
    "\n",
    "    all_info[kind] = info\n",
    "brand_fe = pd.DataFrame(all_info).T.reset_index().rename(columns={\"index\": \"regionCode\"})\n",
    "df = df.merge(brand_fe, how='left', on='regionCode')"
   ]
  },
  {
   "cell_type": "code",
   "execution_count": 16,
   "metadata": {
    "ExecuteTime": {
     "end_time": "2020-04-27T01:12:25.438633Z",
     "start_time": "2020-04-27T01:12:25.186391Z"
    }
   },
   "outputs": [],
   "source": [
    "Train_gb = Train_data.groupby(\"brand\")\n",
    "all_info = {}\n",
    "for kind, kind_data in Train_gb:\n",
    "    info = {}\n",
    "    kind_data = kind_data[kind_data['price'] > 0]\n",
    "    info['brand_amount'] = len(kind_data)\n",
    "    info['brand_price_max'] = kind_data.price.max()\n",
    "    info['brand_price_median'] = kind_data.price.median()\n",
    "    info['brand_price_min'] = kind_data.price.min()\n",
    "    info['brand_price_sum'] = kind_data.price.sum()\n",
    "    info['brand_price_std'] = kind_data.price.std()\n",
    "    info['brand_price_mean'] = kind_data.price.mean()\n",
    "    info['brand_price_skew'] = kind_data.price.skew()\n",
    "    info['brand_price_kurt'] = kind_data.price.kurt()\n",
    "    info['brand_price_mad'] = kind_data.price.mad()\n",
    "    \n",
    "    all_info[kind] = info\n",
    "brand_fe = pd.DataFrame(all_info).T.reset_index().rename(columns={\"index\": \"brand\"})\n",
    "df = df.merge(brand_fe, how='left', on='brand')"
   ]
  },
  {
   "cell_type": "code",
   "execution_count": 17,
   "metadata": {
    "ExecuteTime": {
     "end_time": "2020-04-27T01:12:26.055592Z",
     "start_time": "2020-04-27T01:12:25.439630Z"
    }
   },
   "outputs": [],
   "source": [
    "Train_gb = Train_data.groupby(\"model\")\n",
    "all_info = {}\n",
    "for kind, kind_data in Train_gb:\n",
    "    info = {}\n",
    "    kind_data = kind_data[kind_data['price'] > 0]\n",
    "    info['model_amount'] = len(kind_data)\n",
    "    info['model_price_max'] = kind_data.price.max()\n",
    "    info['model_price_median'] = kind_data.price.median()\n",
    "    info['model_price_min'] = kind_data.price.min()\n",
    "    info['model_price_sum'] = kind_data.price.sum()\n",
    "    info['model_price_std'] = kind_data.price.std()\n",
    "    info['model_price_mean'] = kind_data.price.mean()\n",
    "    info['model_price_skew'] = kind_data.price.skew()\n",
    "    info['model_price_kurt'] = kind_data.price.kurt()\n",
    "    info['model_price_mad'] = kind_data.price.mad()\n",
    "    all_info[kind] = info\n",
    "brand_fe = pd.DataFrame(all_info).T.reset_index().rename(columns={\"index\": \"model\"})\n",
    "df = df.merge(brand_fe, how='left', on='model')"
   ]
  },
  {
   "cell_type": "code",
   "execution_count": 18,
   "metadata": {
    "ExecuteTime": {
     "end_time": "2020-04-27T01:12:26.282975Z",
     "start_time": "2020-04-27T01:12:26.055592Z"
    }
   },
   "outputs": [],
   "source": [
    "Train_gb = Train_data.groupby(\"kilometer\")\n",
    "all_info = {}\n",
    "for kind, kind_data in Train_gb:\n",
    "    info = {}\n",
    "    kind_data = kind_data[kind_data['price'] > 0]\n",
    "    info['kilometer_amount'] = len(kind_data)\n",
    "    info['kilometer_price_max'] = kind_data.price.max()\n",
    "    info['kilometer_price_median'] = kind_data.price.median()\n",
    "    info['kilometer_price_min'] = kind_data.price.min()\n",
    "    info['kilometer_price_sum'] = kind_data.price.sum()\n",
    "    info['kilometer_price_std'] = kind_data.price.std()\n",
    "    info['kilometer_price_mean'] = kind_data.price.mean()\n",
    "    info['kilometer_price_skew'] = kind_data.price.skew()\n",
    "    info['kilometer_price_kurt'] = kind_data.price.kurt()\n",
    "    info['kilometer_price_mad'] = kind_data.price.mad()\n",
    "\n",
    "    all_info[kind] = info\n",
    "brand_fe = pd.DataFrame(all_info).T.reset_index().rename(columns={\"index\": \"kilometer\"})\n",
    "df = df.merge(brand_fe, how='left', on='kilometer')"
   ]
  },
  {
   "cell_type": "code",
   "execution_count": 19,
   "metadata": {
    "ExecuteTime": {
     "end_time": "2020-04-27T01:12:26.517348Z",
     "start_time": "2020-04-27T01:12:26.283972Z"
    }
   },
   "outputs": [],
   "source": [
    "Train_gb = Train_data.groupby(\"bodyType\")\n",
    "all_info = {}\n",
    "for kind, kind_data in Train_gb:\n",
    "    info = {}\n",
    "    kind_data = kind_data[kind_data['price'] > 0]\n",
    "    info['bodyType_amount'] = len(kind_data)\n",
    "    info['bodyType_price_max'] = kind_data.price.max()\n",
    "    info['bodyType_price_median'] = kind_data.price.median()\n",
    "    info['bodyType_price_min'] = kind_data.price.min()\n",
    "    info['bodyType_price_sum'] = kind_data.price.sum()\n",
    "    info['bodyType_price_std'] = kind_data.price.std()\n",
    "    info['bodyType_price_mean'] = kind_data.price.mean()\n",
    "    info['bodyType_price_skew'] = kind_data.price.skew()\n",
    "    info['bodyType_price_kurt'] = kind_data.price.kurt()\n",
    "    info['bodyType_price_mad'] = kind_data.price.mad()\n",
    "\n",
    "    all_info[kind] = info\n",
    "brand_fe = pd.DataFrame(all_info).T.reset_index().rename(columns={\"index\": \"bodyType\"})\n",
    "df = df.merge(brand_fe, how='left', on='bodyType')"
   ]
  },
  {
   "cell_type": "code",
   "execution_count": 20,
   "metadata": {
    "ExecuteTime": {
     "end_time": "2020-04-27T01:12:26.755711Z",
     "start_time": "2020-04-27T01:12:26.518346Z"
    }
   },
   "outputs": [],
   "source": [
    "Train_gb = Train_data.groupby(\"fuelType\")\n",
    "all_info = {}\n",
    "for kind, kind_data in Train_gb:\n",
    "    info = {}\n",
    "    kind_data = kind_data[kind_data['price'] > 0]\n",
    "    info['fuelType_amount'] = len(kind_data)\n",
    "    info['fuelType_price_max'] = kind_data.price.max()\n",
    "    info['fuelType_price_median'] = kind_data.price.median()\n",
    "    info['fuelType_price_min'] = kind_data.price.min()\n",
    "    info['fuelType_price_sum'] = kind_data.price.sum()\n",
    "    info['fuelType_price_std'] = kind_data.price.std()\n",
    "    info['fuelType_price_mean'] = kind_data.price.mean()\n",
    "    info['fuelType_price_skew'] = kind_data.price.skew()\n",
    "    info['fuelType_price_kurt'] = kind_data.price.kurt()\n",
    "    info['fuelType_price_mad'] = kind_data.price.mad()\n",
    "\n",
    "    all_info[kind] = info\n",
    "brand_fe = pd.DataFrame(all_info).T.reset_index().rename(columns={\"index\": \"fuelType\"})\n",
    "df = df.merge(brand_fe, how='left', on='fuelType')"
   ]
  },
  {
   "cell_type": "code",
   "execution_count": 21,
   "metadata": {
    "ExecuteTime": {
     "end_time": "2020-04-27T01:12:37.612279Z",
     "start_time": "2020-04-27T01:12:26.756708Z"
    }
   },
   "outputs": [],
   "source": [
    "# 测试分类特征与price时，发现有点效果，立马对model进行处理\n",
    "kk = \"regionCode\"\n",
    "Train_gb = df.groupby(kk)\n",
    "all_info = {}\n",
    "for kind, kind_data in Train_gb:\n",
    "    info = {}\n",
    "    kind_data = kind_data[kind_data['car_age_day'] > 0]\n",
    "    info[kk+'_days_max'] = kind_data.car_age_day.max()\n",
    "    info[kk+'_days_min'] = kind_data.car_age_day.min()\n",
    "    info[kk+'_days_std'] = kind_data.car_age_day.std()\n",
    "    info[kk+'_days_mean'] = kind_data.car_age_day.mean()\n",
    "    info[kk+'_days_median'] = kind_data.car_age_day.median()\n",
    "    info[kk+'_days_sum'] = kind_data.car_age_day.sum()\n",
    "    all_info[kind] = info\n",
    "brand_fe = pd.DataFrame(all_info).T.reset_index().rename(columns={\"index\": kk})\n",
    "df = df.merge(brand_fe, how='left', on=kk)"
   ]
  },
  {
   "cell_type": "code",
   "execution_count": 22,
   "metadata": {
    "ExecuteTime": {
     "end_time": "2020-04-27T01:12:47.644597Z",
     "start_time": "2020-04-27T01:12:37.612279Z"
    }
   },
   "outputs": [],
   "source": [
    "Train_gb = df.groupby(kk)\n",
    "all_info = {}\n",
    "for kind, kind_data in Train_gb:\n",
    "    info = {}\n",
    "    kind_data = kind_data[kind_data['power'] > 0]\n",
    "    info[kk+'_power_max'] = kind_data.power.max()\n",
    "    info[kk+'_power_min'] = kind_data.power.min()\n",
    "    info[kk+'_power_std'] = kind_data.power.std()\n",
    "    info[kk+'_power_mean'] = kind_data.power.mean()\n",
    "    info[kk+'_power_median'] = kind_data.power.median()\n",
    "    info[kk+'_power_sum'] = kind_data.power.sum()\n",
    "    all_info[kind] = info\n",
    "brand_fe = pd.DataFrame(all_info).T.reset_index().rename(columns={\"index\": kk})\n",
    "df = df.merge(brand_fe, how='left', on=kk)"
   ]
  },
  {
   "cell_type": "markdown",
   "metadata": {},
   "source": [
    "### 连续值特征"
   ]
  },
  {
   "cell_type": "code",
   "execution_count": 23,
   "metadata": {
    "ExecuteTime": {
     "end_time": "2020-04-27T01:12:57.914685Z",
     "start_time": "2020-04-27T01:12:47.644597Z"
    }
   },
   "outputs": [],
   "source": [
    "dd = 'v_3'\n",
    "Train_gb = df.groupby(kk)\n",
    "all_info = {}\n",
    "for kind, kind_data in Train_gb:\n",
    "    info = {}\n",
    "    kind_data = kind_data[kind_data[dd] > -10000000]\n",
    "    info[kk+'_'+dd+'_max'] = kind_data.v_3.max()\n",
    "    info[kk+'_'+dd+'_min'] = kind_data.v_3.min()\n",
    "    info[kk+'_'+dd+'_std'] = kind_data.v_3.std()\n",
    "    info[kk+'_'+dd+'_mean'] = kind_data.v_3.mean()\n",
    "    info[kk+'_'+dd+'_median'] = kind_data.v_3.median()\n",
    "    info[kk+'_'+dd+'_sum'] = kind_data.v_3.sum()\n",
    "    all_info[kind] = info\n",
    "brand_fe = pd.DataFrame(all_info).T.reset_index().rename(columns={\"index\": kk})\n",
    "df = df.merge(brand_fe, how='left', on=kk)"
   ]
  },
  {
   "cell_type": "code",
   "execution_count": 24,
   "metadata": {
    "ExecuteTime": {
     "end_time": "2020-04-27T01:13:08.220781Z",
     "start_time": "2020-04-27T01:12:57.914685Z"
    }
   },
   "outputs": [],
   "source": [
    "dd = 'v_0'\n",
    "Train_gb = df.groupby(kk)\n",
    "all_info = {}\n",
    "for kind, kind_data in Train_gb:\n",
    "    info = {}\n",
    "    kind_data = kind_data[kind_data[dd]> -10000000]\n",
    "    info[kk+'_'+dd+'_max'] = kind_data.v_0.max()\n",
    "    info[kk+'_'+dd+'_min'] = kind_data.v_0.min()\n",
    "    info[kk+'_'+dd+'_std'] = kind_data.v_0.std()\n",
    "    info[kk+'_'+dd+'_mean'] = kind_data.v_0.mean()\n",
    "    info[kk+'_'+dd+'_median'] = kind_data.v_0.median()\n",
    "    info[kk+'_'+dd+'_sum'] = kind_data.v_0.sum()\n",
    "    all_info[kind] = info\n",
    "    all_info[kind] = info\n",
    "brand_fe = pd.DataFrame(all_info).T.reset_index().rename(columns={\"index\": kk})\n",
    "df = df.merge(brand_fe, how='left', on=kk)"
   ]
  },
  {
   "cell_type": "markdown",
   "metadata": {},
   "source": [
    "### 交互特征"
   ]
  },
  {
   "cell_type": "code",
   "execution_count": 25,
   "metadata": {
    "ExecuteTime": {
     "end_time": "2020-04-27T01:13:09.475044Z",
     "start_time": "2020-04-27T01:13:08.220781Z"
    }
   },
   "outputs": [],
   "source": [
    "# v系列特征相加\n",
    "for i in range(15):\n",
    "    for j in range(15):\n",
    "        df['new' + str(i) + '*' + str(j)] = df['v_' + str(i)] * df['v_' + str(j)]"
   ]
  },
  {
   "cell_type": "code",
   "execution_count": 26,
   "metadata": {
    "ExecuteTime": {
     "end_time": "2020-04-27T01:13:11.290279Z",
     "start_time": "2020-04-27T01:13:09.476041Z"
    }
   },
   "outputs": [],
   "source": [
    "# v系列特征相加\n",
    "for i in range(15):\n",
    "    for j in range(15):\n",
    "        df['new' + str(i) + '+' + str(j)] = df['v_' + str(i)] + df['v_' + str(j)]"
   ]
  },
  {
   "cell_type": "code",
   "execution_count": 27,
   "metadata": {
    "ExecuteTime": {
     "end_time": "2020-04-27T01:13:11.329847Z",
     "start_time": "2020-04-27T01:13:11.290279Z"
    }
   },
   "outputs": [],
   "source": [
    "# v系列与power相乘\n",
    "for i in range(15):\n",
    "    df['new' + str(i) + '*power'] = df['v_' + str(i)] * df['power']"
   ]
  },
  {
   "cell_type": "code",
   "execution_count": 28,
   "metadata": {
    "ExecuteTime": {
     "end_time": "2020-04-27T01:13:12.258959Z",
     "start_time": "2020-04-27T01:13:11.330846Z"
    }
   },
   "outputs": [],
   "source": [
    "# v系列与car_age_day相乘\n",
    "for i in range(15):\n",
    "    df['new' + str(i) + '*day'] = df['v_' + str(i)] * df['car_age_day']"
   ]
  },
  {
   "cell_type": "code",
   "execution_count": 29,
   "metadata": {
    "ExecuteTime": {
     "end_time": "2020-04-27T01:13:12.299047Z",
     "start_time": "2020-04-27T01:13:12.258959Z"
    }
   },
   "outputs": [],
   "source": [
    "# v系列与car_age_year相乘\n",
    "for i in range(15):\n",
    "    df['new' + str(i) + '*year'] = df['v_' + str(i)] * df['car_age_year']"
   ]
  },
  {
   "cell_type": "code",
   "execution_count": 30,
   "metadata": {
    "ExecuteTime": {
     "end_time": "2020-04-27T01:13:15.010386Z",
     "start_time": "2020-04-27T01:13:12.300045Z"
    }
   },
   "outputs": [],
   "source": [
    "# # v系列特征相减\n",
    "for i in range(15):\n",
    "    for j in range(15):\n",
    "        df['new' + str(i) + '-' + str(j)]=df['v_' + str(i)] - df['v_' + str(j)]"
   ]
  },
  {
   "cell_type": "markdown",
   "metadata": {},
   "source": [
    "## 特征筛选"
   ]
  },
  {
   "cell_type": "code",
   "execution_count": 31,
   "metadata": {
    "ExecuteTime": {
     "end_time": "2020-04-27T01:13:16.986137Z",
     "start_time": "2020-04-27T01:13:15.010386Z"
    }
   },
   "outputs": [],
   "source": [
    "numerical_cols = df.select_dtypes(exclude='object').columns"
   ]
  },
  {
   "cell_type": "code",
   "execution_count": 32,
   "metadata": {
    "ExecuteTime": {
     "end_time": "2020-04-27T01:13:16.993809Z",
     "start_time": "2020-04-27T01:13:16.986137Z"
    }
   },
   "outputs": [],
   "source": [
    "list_tree = [ 'model_power_sum','price','SaleID',\n",
    " 'model_power_std', 'model_power_median', 'model_power_max',\n",
    " 'brand_price_max', 'brand_price_median',\n",
    " 'brand_price_sum', 'brand_price_std',\n",
    " 'model_days_sum',\n",
    " 'model_days_std', 'model_days_median', 'model_days_max', 'model_bin', 'model_amount',\n",
    " 'model_price_max', 'model_price_median',\n",
    " 'model_price_min', 'model_price_sum', 'model_price_std',\n",
    " 'model_price_mean', 'bodyType', 'model', 'brand', 'fuelType', 'gearbox', 'power', 'kilometer',\n",
    " 'notRepairedDamage', 'v_0', 'v_1', 'v_2', 'v_3', 'v_4', 'v_5', 'v_6', 'v_7', 'v_8', 'v_9', 'v_10',\n",
    " 'v_11', 'v_12', 'v_13', 'v_14', 'name_count', 'regDate_year', 'car_age_day', 'car_age_year',\n",
    " 'power_bin','fuelType', 'gearbox', 'kilometer', 'notRepairedDamage', 'v_0', 'v_3', 'v_6', 'v_10', 'name_count', 'car_age_day', 'new3*3', 'new12*14', 'new2*14','new14*14']"
   ]
  },
  {
   "cell_type": "code",
   "execution_count": 33,
   "metadata": {
    "ExecuteTime": {
     "end_time": "2020-04-27T01:13:17.010692Z",
     "start_time": "2020-04-27T01:13:16.995285Z"
    }
   },
   "outputs": [],
   "source": [
    "for i in range(15):\n",
    "    for j in range(15):\n",
    "        list_tree.append('new' + str(i) + '+' + str(j))\n",
    "    \n",
    "\n",
    "feature_cols = [col for col in numerical_cols if col in list_tree]"
   ]
  },
  {
   "cell_type": "code",
   "execution_count": 34,
   "metadata": {
    "ExecuteTime": {
     "end_time": "2020-04-27T01:13:17.021663Z",
     "start_time": "2020-04-27T01:13:17.011689Z"
    }
   },
   "outputs": [],
   "source": [
    "feature_cols = [col for col in feature_cols if col not in ['new14+6', 'new13+6', 'new0+12', 'new9+11', 'v_3',\n",
    "                                                           'new11+10', 'new10+14', 'new12+4', 'new3+4', 'new11+11',\n",
    "                                                           'new13+3', 'new8+1', 'new1+7', 'new11+14', 'new8+13',\n",
    "                                                           'v_8', 'v_0', 'new3+5', 'new2+9', 'new9+2', 'new0+11',\n",
    "                                                           'new13+7', 'new8+11', 'new5+12', 'new10+10', 'new13+8',\n",
    "                                                           'new11+13', 'new7+9', 'v_1', 'new7+4', 'new13+4', 'v_7',\n",
    "                                                           'new5+6', 'new7+3', 'new9+10', 'new11+12', 'new0+5',\n",
    "                                                           'new4+13', 'new8+0', 'new0+7', 'new12+8', 'new10+8',\n",
    "                                                           'new13+14', 'new5+7', 'new2+7', 'v_4', 'v_10', 'new4+8',\n",
    "                                                           'new8+14', 'new5+9', 'new9+13', 'new2+12', 'new5+8', 'new3+12',\n",
    "                                                           'new0+10', 'new9+0', 'new1+11', 'new8+4', 'new11+8', 'new1+1',\n",
    "                                                           'new10+5', 'new8+2', 'new6+1', 'new2+1', 'new1+12', 'new2+5',\n",
    "                                                           'new0+14', 'new4+7', 'new14+9', 'new0+2', 'new4+1', 'new7+11',\n",
    "                                                           'new13+10', 'new6+3', 'new1+10', 'v_9', 'new3+6', 'new12+1', 'new9+3',\n",
    "                                                           'new4+5', 'new12+9', 'new3+8', 'new0+8', 'new1+8', 'new1+6', 'new10+9',\n",
    "                                                           'new5+4', 'new13+1', 'new3+7', 'new6+4', 'new6+7', 'new13+0', 'new1+14',\n",
    "                                                           'new3+11', 'new6+8', 'new0+9', 'new2+14', 'new6+2', 'new12+12', 'new7+12',\n",
    "                                                           'new12+6', 'new12+14', 'new4+10', 'new2+4', 'new6+0', 'new3+9', 'new2+8',\n",
    "                                                           'new6+11', 'new3+10', 'new7+0', 'v_11', 'new1+3', 'new8+3', 'new12+13',\n",
    "                                                           'new1+9', 'new10+13', 'new5+10', 'new2+2', 'new6+9', 'new7+10', 'new0+0',\n",
    "                                                           'new11+7', 'new2+13', 'new11+1', 'new5+11', 'new4+6', 'new12+2',\n",
    "                                                           'new4+4', 'new6+14', 'new0+1', 'new4+14', 'v_5', 'new4+11', 'v_6',\n",
    "                                                           'new0+4', 'new1+5', 'new3+14', 'new2+10', 'new9+4', 'new2+6', 'new14+14',\n",
    "                                                           'new11+6', 'new9+1', 'new3+13', 'new13+13', 'new10+6', 'new2+3', 'new2+11',\n",
    "                                                           'new1+4', 'v_2', 'new5+13', 'new4+2', 'new0+6', 'new7+13', 'new8+9',\n",
    "                                                           'new9+12', 'new0+13', 'new10+12', 'new5+14', 'new6+10', 'new10+7', 'v_13',\n",
    "                                                           'new5+2', 'new6+13', 'new9+14', 'new13+9', 'new14+7', 'new8+12', 'new3+3',\n",
    "                                                           'new6+12', 'v_12', 'new14+4', 'new11+9', 'new12+7', 'new4+9', 'new4+12',\n",
    "                                                           'new1+13', 'new0+3', 'new8+10', 'new13+11', 'new7+8', 'new7+14', 'v_14',\n",
    "                                                           'new10+11', 'new14+8', 'new1+2']]"
   ]
  },
  {
   "cell_type": "code",
   "execution_count": 35,
   "metadata": {
    "ExecuteTime": {
     "end_time": "2020-04-27T01:13:17.198192Z",
     "start_time": "2020-04-27T01:13:17.022660Z"
    }
   },
   "outputs": [],
   "source": [
    "df = df[feature_cols]"
   ]
  },
  {
   "cell_type": "code",
   "execution_count": 36,
   "metadata": {
    "ExecuteTime": {
     "end_time": "2020-04-27T01:13:17.206169Z",
     "start_time": "2020-04-27T01:13:17.199189Z"
    }
   },
   "outputs": [
    {
     "name": "stdout",
     "output_type": "stream",
     "text": [
      "(199999, 85)\n"
     ]
    }
   ],
   "source": [
    "tree_data = df\n",
    "print(tree_data.shape)"
   ]
  },
  {
   "cell_type": "code",
   "execution_count": 37,
   "metadata": {
    "ExecuteTime": {
     "end_time": "2020-04-27T01:13:17.211156Z",
     "start_time": "2020-04-27T01:13:17.207166Z"
    }
   },
   "outputs": [],
   "source": [
    "train_num = df.shape[0] - 50000"
   ]
  },
  {
   "cell_type": "code",
   "execution_count": 38,
   "metadata": {
    "ExecuteTime": {
     "end_time": "2020-04-27T01:13:18.015068Z",
     "start_time": "2020-04-27T01:13:17.213152Z"
    }
   },
   "outputs": [],
   "source": [
    "tree_data[0: train_num].to_hdf('output/train_tree.h5', 'df')\n",
    "tree_data[train_num: df.shape[0]].to_hdf('output/test_tree.h5', 'df')"
   ]
  },
  {
   "cell_type": "code",
   "execution_count": null,
   "metadata": {},
   "outputs": [],
   "source": []
  }
 ],
 "metadata": {
  "kernelspec": {
   "display_name": "Python 3",
   "language": "python",
   "name": "python3"
  },
  "language_info": {
   "codemirror_mode": {
    "name": "ipython",
    "version": 3
   },
   "file_extension": ".py",
   "mimetype": "text/x-python",
   "name": "python",
   "nbconvert_exporter": "python",
   "pygments_lexer": "ipython3",
   "version": "3.7.3"
  },
  "toc": {
   "base_numbering": 1,
   "nav_menu": {},
   "number_sections": true,
   "sideBar": true,
   "skip_h1_title": false,
   "title_cell": "Table of Contents",
   "title_sidebar": "Contents",
   "toc_cell": false,
   "toc_position": {},
   "toc_section_display": true,
   "toc_window_display": false
  },
  "varInspector": {
   "cols": {
    "lenName": 16,
    "lenType": 16,
    "lenVar": 40
   },
   "kernels_config": {
    "python": {
     "delete_cmd_postfix": "",
     "delete_cmd_prefix": "del ",
     "library": "var_list.py",
     "varRefreshCmd": "print(var_dic_list())"
    },
    "r": {
     "delete_cmd_postfix": ") ",
     "delete_cmd_prefix": "rm(",
     "library": "var_list.r",
     "varRefreshCmd": "cat(var_dic_list()) "
    }
   },
   "types_to_exclude": [
    "module",
    "function",
    "builtin_function_or_method",
    "instance",
    "_Feature"
   ],
   "window_display": false
  }
 },
 "nbformat": 4,
 "nbformat_minor": 2
}
