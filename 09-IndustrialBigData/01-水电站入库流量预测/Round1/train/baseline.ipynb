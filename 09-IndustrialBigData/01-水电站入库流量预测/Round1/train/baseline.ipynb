{
 "cells": [
  {
   "cell_type": "code",
   "execution_count": 1,
   "metadata": {
    "ExecuteTime": {
     "end_time": "2020-09-28T12:42:04.218285Z",
     "start_time": "2020-09-28T12:42:03.414667Z"
    }
   },
   "outputs": [],
   "source": [
    "import numpy as np\n",
    "import pandas as pd\n",
    "import lightgbm as lgb\n",
    "import warnings\n",
    "warnings.filterwarnings('ignore')"
   ]
  },
  {
   "cell_type": "code",
   "execution_count": 2,
   "metadata": {
    "ExecuteTime": {
     "end_time": "2020-09-28T12:42:04.224768Z",
     "start_time": "2020-09-28T12:42:04.219251Z"
    }
   },
   "outputs": [],
   "source": [
    "def NSE(y_pred, y_true):\n",
    "    y_mean = np.mean(y_true)\n",
    "    a = np.sum(np.square(y_true[:16] - y_pred[:16]))\n",
    "    b = np.sum(np.square(y_true[:16] - y_mean))\n",
    "    c = np.sum(np.square(y_true[16:] - y_pred[16:]))\n",
    "    d = np.sum(np.square(y_true[16:] - y_mean))\n",
    "    return 100 * (1 - 0.65 * a / b - 0.35 * c / d)"
   ]
  },
  {
   "cell_type": "code",
   "execution_count": 3,
   "metadata": {
    "ExecuteTime": {
     "end_time": "2020-09-28T12:42:04.245653Z",
     "start_time": "2020-09-28T12:42:04.226704Z"
    }
   },
   "outputs": [],
   "source": [
    "train_test1 = pd.read_csv('../input/train_test1.csv')\n",
    "train_test2 = pd.read_csv('../input/train_test2.csv')\n",
    "train_test3 = pd.read_csv('../input/train_test3.csv')"
   ]
  },
  {
   "cell_type": "code",
   "execution_count": 4,
   "metadata": {
    "ExecuteTime": {
     "end_time": "2020-09-28T12:42:04.259616Z",
     "start_time": "2020-09-28T12:42:04.246650Z"
    }
   },
   "outputs": [
    {
     "data": {
      "text/html": [
       "<div>\n",
       "<style scoped>\n",
       "    .dataframe tbody tr th:only-of-type {\n",
       "        vertical-align: middle;\n",
       "    }\n",
       "\n",
       "    .dataframe tbody tr th {\n",
       "        vertical-align: top;\n",
       "    }\n",
       "\n",
       "    .dataframe thead th {\n",
       "        text-align: right;\n",
       "    }\n",
       "</style>\n",
       "<table border=\"1\" class=\"dataframe\">\n",
       "  <thead>\n",
       "    <tr style=\"text-align: right;\">\n",
       "      <th></th>\n",
       "      <th>TimeStample</th>\n",
       "      <th>Qi</th>\n",
       "    </tr>\n",
       "  </thead>\n",
       "  <tbody>\n",
       "    <tr>\n",
       "      <th>0</th>\n",
       "      <td>2018-01-01 02:00:00</td>\n",
       "      <td>0.020184</td>\n",
       "    </tr>\n",
       "    <tr>\n",
       "      <th>1</th>\n",
       "      <td>2018-01-01 05:00:00</td>\n",
       "      <td>0.025757</td>\n",
       "    </tr>\n",
       "    <tr>\n",
       "      <th>2</th>\n",
       "      <td>2018-01-01 08:00:00</td>\n",
       "      <td>0.022995</td>\n",
       "    </tr>\n",
       "    <tr>\n",
       "      <th>3</th>\n",
       "      <td>2018-01-01 11:00:00</td>\n",
       "      <td>0.015113</td>\n",
       "    </tr>\n",
       "    <tr>\n",
       "      <th>4</th>\n",
       "      <td>2018-01-01 14:00:00</td>\n",
       "      <td>0.017975</td>\n",
       "    </tr>\n",
       "  </tbody>\n",
       "</table>\n",
       "</div>"
      ],
      "text/plain": [
       "           TimeStample        Qi\n",
       "0  2018-01-01 02:00:00  0.020184\n",
       "1  2018-01-01 05:00:00  0.025757\n",
       "2  2018-01-01 08:00:00  0.022995\n",
       "3  2018-01-01 11:00:00  0.015113\n",
       "4  2018-01-01 14:00:00  0.017975"
      ]
     },
     "execution_count": 4,
     "metadata": {},
     "output_type": "execute_result"
    }
   ],
   "source": [
    "train_test1.head()"
   ]
  },
  {
   "cell_type": "code",
   "execution_count": 5,
   "metadata": {
    "ExecuteTime": {
     "end_time": "2020-09-28T12:42:04.269632Z",
     "start_time": "2020-09-28T12:42:04.261610Z"
    }
   },
   "outputs": [
    {
     "name": "stdout",
     "output_type": "stream",
     "text": [
      "<class 'pandas.core.frame.DataFrame'>\n",
      "RangeIndex: 304 entries, 0 to 303\n",
      "Data columns (total 2 columns):\n",
      " #   Column       Non-Null Count  Dtype  \n",
      "---  ------       --------------  -----  \n",
      " 0   TimeStample  304 non-null    object \n",
      " 1   Qi           248 non-null    float64\n",
      "dtypes: float64(1), object(1)\n",
      "memory usage: 4.9+ KB\n"
     ]
    }
   ],
   "source": [
    "train_test1.info()"
   ]
  },
  {
   "cell_type": "code",
   "execution_count": 6,
   "metadata": {
    "ExecuteTime": {
     "end_time": "2020-09-28T12:42:04.295520Z",
     "start_time": "2020-09-28T12:42:04.288539Z"
    }
   },
   "outputs": [],
   "source": [
    "data = [train_test1, train_test2, train_test3]\n",
    "for i in data:\n",
    "    i.sort_values(by='TimeStample', inplace=True)"
   ]
  },
  {
   "cell_type": "code",
   "execution_count": 7,
   "metadata": {
    "ExecuteTime": {
     "end_time": "2020-09-28T12:42:04.315466Z",
     "start_time": "2020-09-28T12:42:04.298511Z"
    }
   },
   "outputs": [
    {
     "data": {
      "text/html": [
       "<div>\n",
       "<style scoped>\n",
       "    .dataframe tbody tr th:only-of-type {\n",
       "        vertical-align: middle;\n",
       "    }\n",
       "\n",
       "    .dataframe tbody tr th {\n",
       "        vertical-align: top;\n",
       "    }\n",
       "\n",
       "    .dataframe thead th {\n",
       "        text-align: right;\n",
       "    }\n",
       "</style>\n",
       "<table border=\"1\" class=\"dataframe\">\n",
       "  <thead>\n",
       "    <tr style=\"text-align: right;\">\n",
       "      <th></th>\n",
       "      <th>TimeStample</th>\n",
       "      <th>Qi</th>\n",
       "    </tr>\n",
       "  </thead>\n",
       "  <tbody>\n",
       "    <tr>\n",
       "      <th>0</th>\n",
       "      <td>2018-01-01 02:00:00</td>\n",
       "      <td>0.020184</td>\n",
       "    </tr>\n",
       "    <tr>\n",
       "      <th>1</th>\n",
       "      <td>2018-01-01 05:00:00</td>\n",
       "      <td>0.025757</td>\n",
       "    </tr>\n",
       "    <tr>\n",
       "      <th>2</th>\n",
       "      <td>2018-01-01 08:00:00</td>\n",
       "      <td>0.022995</td>\n",
       "    </tr>\n",
       "    <tr>\n",
       "      <th>3</th>\n",
       "      <td>2018-01-01 11:00:00</td>\n",
       "      <td>0.015113</td>\n",
       "    </tr>\n",
       "    <tr>\n",
       "      <th>4</th>\n",
       "      <td>2018-01-01 14:00:00</td>\n",
       "      <td>0.017975</td>\n",
       "    </tr>\n",
       "    <tr>\n",
       "      <th>5</th>\n",
       "      <td>2018-01-01 17:00:00</td>\n",
       "      <td>0.024803</td>\n",
       "    </tr>\n",
       "    <tr>\n",
       "      <th>6</th>\n",
       "      <td>2018-01-01 20:00:00</td>\n",
       "      <td>0.046794</td>\n",
       "    </tr>\n",
       "    <tr>\n",
       "      <th>7</th>\n",
       "      <td>2018-01-01 23:00:00</td>\n",
       "      <td>0.046292</td>\n",
       "    </tr>\n",
       "    <tr>\n",
       "      <th>8</th>\n",
       "      <td>2018-01-02 02:00:00</td>\n",
       "      <td>0.020184</td>\n",
       "    </tr>\n",
       "    <tr>\n",
       "      <th>9</th>\n",
       "      <td>2018-01-02 05:00:00</td>\n",
       "      <td>0.020184</td>\n",
       "    </tr>\n",
       "    <tr>\n",
       "      <th>294</th>\n",
       "      <td>2018-02-06 20:00:00</td>\n",
       "      <td>NaN</td>\n",
       "    </tr>\n",
       "    <tr>\n",
       "      <th>295</th>\n",
       "      <td>2018-02-06 23:00:00</td>\n",
       "      <td>NaN</td>\n",
       "    </tr>\n",
       "    <tr>\n",
       "      <th>296</th>\n",
       "      <td>2018-02-07 02:00:00</td>\n",
       "      <td>NaN</td>\n",
       "    </tr>\n",
       "    <tr>\n",
       "      <th>297</th>\n",
       "      <td>2018-02-07 05:00:00</td>\n",
       "      <td>NaN</td>\n",
       "    </tr>\n",
       "    <tr>\n",
       "      <th>298</th>\n",
       "      <td>2018-02-07 08:00:00</td>\n",
       "      <td>NaN</td>\n",
       "    </tr>\n",
       "    <tr>\n",
       "      <th>299</th>\n",
       "      <td>2018-02-07 11:00:00</td>\n",
       "      <td>NaN</td>\n",
       "    </tr>\n",
       "    <tr>\n",
       "      <th>300</th>\n",
       "      <td>2018-02-07 14:00:00</td>\n",
       "      <td>NaN</td>\n",
       "    </tr>\n",
       "    <tr>\n",
       "      <th>301</th>\n",
       "      <td>2018-02-07 17:00:00</td>\n",
       "      <td>NaN</td>\n",
       "    </tr>\n",
       "    <tr>\n",
       "      <th>302</th>\n",
       "      <td>2018-02-07 20:00:00</td>\n",
       "      <td>NaN</td>\n",
       "    </tr>\n",
       "    <tr>\n",
       "      <th>303</th>\n",
       "      <td>2018-02-07 23:00:00</td>\n",
       "      <td>NaN</td>\n",
       "    </tr>\n",
       "  </tbody>\n",
       "</table>\n",
       "</div>"
      ],
      "text/plain": [
       "             TimeStample        Qi\n",
       "0    2018-01-01 02:00:00  0.020184\n",
       "1    2018-01-01 05:00:00  0.025757\n",
       "2    2018-01-01 08:00:00  0.022995\n",
       "3    2018-01-01 11:00:00  0.015113\n",
       "4    2018-01-01 14:00:00  0.017975\n",
       "5    2018-01-01 17:00:00  0.024803\n",
       "6    2018-01-01 20:00:00  0.046794\n",
       "7    2018-01-01 23:00:00  0.046292\n",
       "8    2018-01-02 02:00:00  0.020184\n",
       "9    2018-01-02 05:00:00  0.020184\n",
       "294  2018-02-06 20:00:00       NaN\n",
       "295  2018-02-06 23:00:00       NaN\n",
       "296  2018-02-07 02:00:00       NaN\n",
       "297  2018-02-07 05:00:00       NaN\n",
       "298  2018-02-07 08:00:00       NaN\n",
       "299  2018-02-07 11:00:00       NaN\n",
       "300  2018-02-07 14:00:00       NaN\n",
       "301  2018-02-07 17:00:00       NaN\n",
       "302  2018-02-07 20:00:00       NaN\n",
       "303  2018-02-07 23:00:00       NaN"
      ]
     },
     "execution_count": 7,
     "metadata": {},
     "output_type": "execute_result"
    }
   ],
   "source": [
    "train_test1.head(10).append(train_test1.tail(10))"
   ]
  },
  {
   "cell_type": "code",
   "execution_count": 8,
   "metadata": {
    "ExecuteTime": {
     "end_time": "2020-09-28T12:42:04.325445Z",
     "start_time": "2020-09-28T12:42:04.317461Z"
    }
   },
   "outputs": [],
   "source": [
    "stat_feat = []"
   ]
  },
  {
   "cell_type": "code",
   "execution_count": 9,
   "metadata": {
    "ExecuteTime": {
     "end_time": "2020-09-28T12:42:04.390266Z",
     "start_time": "2020-09-28T12:42:04.327434Z"
    }
   },
   "outputs": [],
   "source": [
    "for i in data:\n",
    "    # 5天\n",
    "    for j in range(1, 28):\n",
    "        i['Qi_shift{}'.format(j)] = i['Qi'].shift(j)\n",
    "        if j <= 16:\n",
    "            stat_feat.append('Qi_shift{}'.format(j))"
   ]
  },
  {
   "cell_type": "code",
   "execution_count": 10,
   "metadata": {
    "ExecuteTime": {
     "end_time": "2020-09-28T12:42:04.406223Z",
     "start_time": "2020-09-28T12:42:04.391263Z"
    }
   },
   "outputs": [
    {
     "data": {
      "text/html": [
       "<div>\n",
       "<style scoped>\n",
       "    .dataframe tbody tr th:only-of-type {\n",
       "        vertical-align: middle;\n",
       "    }\n",
       "\n",
       "    .dataframe tbody tr th {\n",
       "        vertical-align: top;\n",
       "    }\n",
       "\n",
       "    .dataframe thead th {\n",
       "        text-align: right;\n",
       "    }\n",
       "</style>\n",
       "<table border=\"1\" class=\"dataframe\">\n",
       "  <thead>\n",
       "    <tr style=\"text-align: right;\">\n",
       "      <th></th>\n",
       "      <th>Qi_shift1</th>\n",
       "      <th>Qi_shift2</th>\n",
       "      <th>Qi_shift3</th>\n",
       "      <th>Qi_shift4</th>\n",
       "    </tr>\n",
       "  </thead>\n",
       "  <tbody>\n",
       "    <tr>\n",
       "      <th>0</th>\n",
       "      <td>NaN</td>\n",
       "      <td>NaN</td>\n",
       "      <td>NaN</td>\n",
       "      <td>NaN</td>\n",
       "    </tr>\n",
       "    <tr>\n",
       "      <th>1</th>\n",
       "      <td>0.020184</td>\n",
       "      <td>NaN</td>\n",
       "      <td>NaN</td>\n",
       "      <td>NaN</td>\n",
       "    </tr>\n",
       "    <tr>\n",
       "      <th>2</th>\n",
       "      <td>0.025757</td>\n",
       "      <td>0.020184</td>\n",
       "      <td>NaN</td>\n",
       "      <td>NaN</td>\n",
       "    </tr>\n",
       "    <tr>\n",
       "      <th>3</th>\n",
       "      <td>0.022995</td>\n",
       "      <td>0.025757</td>\n",
       "      <td>0.020184</td>\n",
       "      <td>NaN</td>\n",
       "    </tr>\n",
       "    <tr>\n",
       "      <th>4</th>\n",
       "      <td>0.015113</td>\n",
       "      <td>0.022995</td>\n",
       "      <td>0.025757</td>\n",
       "      <td>0.020184</td>\n",
       "    </tr>\n",
       "  </tbody>\n",
       "</table>\n",
       "</div>"
      ],
      "text/plain": [
       "   Qi_shift1  Qi_shift2  Qi_shift3  Qi_shift4\n",
       "0        NaN        NaN        NaN        NaN\n",
       "1   0.020184        NaN        NaN        NaN\n",
       "2   0.025757   0.020184        NaN        NaN\n",
       "3   0.022995   0.025757   0.020184        NaN\n",
       "4   0.015113   0.022995   0.025757   0.020184"
      ]
     },
     "execution_count": 10,
     "metadata": {},
     "output_type": "execute_result"
    }
   ],
   "source": [
    "train_test1.loc[:, 'Qi_shift1': 'Qi_shift4'].head()"
   ]
  },
  {
   "cell_type": "code",
   "execution_count": 11,
   "metadata": {
    "ExecuteTime": {
     "end_time": "2020-09-28T12:42:04.568788Z",
     "start_time": "2020-09-28T12:42:04.408220Z"
    }
   },
   "outputs": [],
   "source": [
    "for i in data:\n",
    "    # 9小时\n",
    "    i['1_3_sum'] = i.loc[:, 'Qi_shift1': 'Qi_shift3'].sum(1)\n",
    "    i['1_3_mea'] = i.loc[:, 'Qi_shift1': 'Qi_shift3'].mean(1)\n",
    "    i['1_3_max'] = i.loc[:, 'Qi_shift1': 'Qi_shift3'].max(1)\n",
    "    i['1_3_min'] = i.loc[:, 'Qi_shift1': 'Qi_shift3'].min(1)\n",
    "    # 12小时\n",
    "    i['1_4_sum'] = i.loc[:, 'Qi_shift1': 'Qi_shift4'].sum(1)\n",
    "    i['1_4_mea'] = i.loc[:, 'Qi_shift1': 'Qi_shift4'].mean(1)\n",
    "    i['1_4_max'] = i.loc[:, 'Qi_shift1': 'Qi_shift4'].max(1)\n",
    "    i['1_4_min'] = i.loc[:, 'Qi_shift1': 'Qi_shift4'].min(1)\n",
    "    # 24个小时\n",
    "    i['1_8_sum'] = i.loc[:, 'Qi_shift1': 'Qi_shift8'].sum(1)\n",
    "    i['1_8_mea'] = i.loc[:, 'Qi_shift1': 'Qi_shift8'].mean(1)\n",
    "    i['1_8_max'] = i.loc[:, 'Qi_shift1': 'Qi_shift8'].max(1)\n",
    "    i['1_8_min'] = i.loc[:, 'Qi_shift1': 'Qi_shift8'].min(1)\n",
    "    # 36个小时\n",
    "    i['1_12_sum'] = i.loc[:, 'Qi_shift1': 'Qi_shift12'].sum(1)\n",
    "    i['1_12_mea'] = i.loc[:, 'Qi_shift1': 'Qi_shift12'].mean(1)\n",
    "    i['1_12_max'] = i.loc[:, 'Qi_shift1': 'Qi_shift12'].max(1)\n",
    "    i['1_12_min'] = i.loc[:, 'Qi_shift1': 'Qi_shift12'].min(1)\n",
    "    # 48个小时\n",
    "    i['1_16_sum'] = i.loc[:, 'Qi_shift1': 'Qi_shift16'].sum(1)\n",
    "    i['1_16_mea'] = i.loc[:, 'Qi_shift1': 'Qi_shift16'].mean(1)\n",
    "    i['1_16_max'] = i.loc[:, 'Qi_shift1': 'Qi_shift16'].max(1)\n",
    "    i['1_16_min'] = i.loc[:, 'Qi_shift1': 'Qi_shift16'].min(1)\n",
    "    \n",
    "    Qi_stat_feat = ['1_3_sum', '1_3_mea', '1_3_max', '1_3_min',\n",
    "                    '1_4_sum', '1_4_mea', '1_4_max', '1_4_min',\n",
    "                    '1_8_sum', '1_8_mea', '1_8_max', '1_8_min',\n",
    "                    '1_12_sum', '1_12_mea', '1_12_max', '1_12_min',\n",
    "                    '1_16_sum', '1_16_mea', '1_16_max', '1_16_min',]\n",
    "    stat_feat += Qi_stat_feat\n",
    "    \n",
    "    \n",
    "    # 趋势 diff\n",
    "    i['1_2_diff'] = i['Qi_shift1'] - i['Qi_shift2']\n",
    "    i['1_3_diff'] = i['Qi_shift1'] - i['Qi_shift3']\n",
    "    i['1_4_diff'] = i['Qi_shift1'] - i['Qi_shift4']\n",
    "    i['1_8_diff'] = i['Qi_shift1'] - i['Qi_shift8']\n",
    "    i['1_16_diff'] = i['Qi_shift1'] - i['Qi_shift16']\n",
    "    \n",
    "    i['2_3_diff'] = i['Qi_shift2'] - i['Qi_shift3']\n",
    "    i['2_4_diff'] = i['Qi_shift2'] - i['Qi_shift4']\n",
    "    i['2_5_diff'] = i['Qi_shift2'] - i['Qi_shift5']\n",
    "    i['2_9_diff'] = i['Qi_shift2'] - i['Qi_shift9']\n",
    "    i['2_17_diff'] = i['Qi_shift2'] - i['Qi_shift17']\n",
    "    \n",
    "    i['3_4_diff'] = i['Qi_shift3'] - i['Qi_shift4']\n",
    "    i['3_5_diff'] = i['Qi_shift3'] - i['Qi_shift5']\n",
    "    i['3_6_diff'] = i['Qi_shift3'] - i['Qi_shift6']\n",
    "    i['3_10_diff'] = i['Qi_shift3'] - i['Qi_shift10']\n",
    "    i['3_18_diff'] = i['Qi_shift3'] - i['Qi_shift18']\n",
    "    \n",
    "    trend_stat_feat = ['1_2_diff', '1_3_diff', '1_4_diff', '1_8_diff', '1_16_diff',\n",
    "                       '2_3_diff', '2_4_diff', '2_5_diff', '2_9_diff', '2_17_diff',\n",
    "                       '3_4_diff', '3_5_diff', '3_6_diff', '3_10_diff', '3_18_diff']\n",
    "    stat_feat += trend_stat_feat\n",
    "    \n",
    "    \n",
    "    # 环比\n",
    "    i['1_2_chain_rate'] = i['Qi_shift1'] / i['Qi_shift2']\n",
    "    i['2_3_chain_rate'] = i['Qi_shift2'] / i['Qi_shift3']\n",
    "    i['3_4_chain_rate'] = i['Qi_shift3'] / i['Qi_shift4']\n",
    "    i['4_5_chain_rate'] = i['Qi_shift4'] / i['Qi_shift5']\n",
    "    i['5_6_chain_rate'] = i['Qi_shift5'] / i['Qi_shift6']\n",
    "    chain_rate_stat_feat = ['1_2_chain_rate', '2_3_chain_rate', '3_4_chain_rate', '4_5_chain_rate', '5_6_chain_rate']\n",
    "    stat_feat += chain_rate_stat_feat\n",
    "    \n",
    "    # 环比比\n",
    "    i['1_2_chain_rate_2_3_chain_rate'] = i['1_2_chain_rate'] / i['2_3_chain_rate']\n",
    "    i['2_3_chain_rate_3_4_chain_rate'] = i['2_3_chain_rate'] / i['3_4_chain_rate']\n",
    "    i['3_4_chain_rate_4_5_chain_rate'] = i['3_4_chain_rate'] / i['4_5_chain_rate']\n",
    "    i['4_5_chain_rate_5_6_chain_rate'] = i['4_5_chain_rate'] / i['5_6_chain_rate']\n",
    "    chain_rate_rate_stat_feat = ['1_2_chain_rate_2_3_chain_rate', '2_3_chain_rate_3_4_chain_rate',\n",
    "                                 '3_4_chain_rate_4_5_chain_rate', '4_5_chain_rate_5_6_chain_rate']\n",
    "    stat_feat += chain_rate_rate_stat_feat\n",
    "    \n",
    "    # 同比\n",
    "    i['1_3_yoy'] = (i['Qi_shift1'] - i['Qi_shift3']) / i['Qi_shift3']\n",
    "    i['1_4_yoy'] = (i['Qi_shift1'] - i['Qi_shift4']) / i['Qi_shift4']\n",
    "    i['1_5_yoy'] = (i['Qi_shift1'] - i['Qi_shift5']) / i['Qi_shift5']\n",
    "    i['1_8_yoy'] = (i['Qi_shift1'] - i['Qi_shift8']) / i['Qi_shift8']\n",
    "    i['1_16_yoy'] = (i['Qi_shift1'] - i['Qi_shift16']) / i['Qi_shift16']\n",
    "    i['1_24_yoy'] = (i['Qi_shift1'] - i['Qi_shift24']) / i['Qi_shift24']\n",
    "    \n",
    "    i['2_4_yoy'] = (i['Qi_shift2'] - i['Qi_shift4']) / i['Qi_shift4']\n",
    "    i['2_5_yoy'] = (i['Qi_shift2'] - i['Qi_shift5']) / i['Qi_shift5']\n",
    "    i['2_6_yoy'] = (i['Qi_shift2'] - i['Qi_shift6']) / i['Qi_shift6']\n",
    "    i['2_9_yoy'] = (i['Qi_shift2'] - i['Qi_shift9']) / i['Qi_shift9']\n",
    "    i['2_17_yoy'] = (i['Qi_shift2'] - i['Qi_shift17']) / i['Qi_shift17']\n",
    "    i['2_25_yoy'] = (i['Qi_shift2'] - i['Qi_shift25']) / i['Qi_shift25']\n",
    "    yoy_stat_feat = ['1_3_yoy', '1_4_yoy', '1_5_yoy', '1_8_yoy', '1_16_yoy', '1_24_yoy',\n",
    "                     '2_4_yoy', '2_5_yoy', '2_6_yoy', '2_9_yoy', '2_17_yoy', '2_25_yoy']\n",
    "    stat_feat += yoy_stat_feat"
   ]
  },
  {
   "cell_type": "code",
   "execution_count": 12,
   "metadata": {
    "ExecuteTime": {
     "end_time": "2020-09-28T12:42:04.593419Z",
     "start_time": "2020-09-28T12:42:04.569402Z"
    }
   },
   "outputs": [],
   "source": [
    "train1 = train_test1.loc[train_test1['Qi'].notnull(), :]\n",
    "test1 = train_test1.loc[train_test1['Qi'].isnull(), :]\n",
    "# sub1 = test1[['TimeStamp']]\n",
    "\n",
    "train2 = train_test2.loc[train_test2['Qi'].notnull(), :]\n",
    "test2 = train_test2.loc[train_test2['Qi'].isnull(), :]\n",
    "# sub2 = test2[['TimeStamp']]\n",
    "\n",
    "train3 = train_test3.loc[train_test3['Qi'].notnull(), :]\n",
    "test3 = train_test3.loc[train_test3['Qi'].isnull(), :]\n",
    "# sub3 = test3[['TimeStamp']]\n",
    "\n",
    "\n",
    "X_train1 = train1[stat_feat]\n",
    "y_train1 = train1['Qi']\n",
    "X_test1 = test1[stat_feat]\n",
    "\n",
    "X_train2 = train2[stat_feat]\n",
    "y_train2 = train2['Qi']\n",
    "X_test2 = test2[stat_feat]\n",
    "\n",
    "X_train3 = train3[stat_feat]\n",
    "y_train3 = train3['Qi']\n",
    "X_test3 = test3[stat_feat]\n",
    "\n",
    "lgb_train1 = lgb.Dataset(X_train1, y_train1)\n",
    "lgb_train2 = lgb.Dataset(X_train2, y_train2)\n",
    "lgb_train3 = lgb.Dataset(X_train3, y_train3)"
   ]
  },
  {
   "cell_type": "code",
   "execution_count": 13,
   "metadata": {
    "ExecuteTime": {
     "end_time": "2020-09-28T12:42:05.813472Z",
     "start_time": "2020-09-28T12:42:04.594337Z"
    }
   },
   "outputs": [],
   "source": [
    "params = {'boosting_type': 'gbdt',\n",
    "          'objective': 'regression',\n",
    "          'metric': 'mae',\n",
    "          'learning_rate': 0.05,\n",
    "          'seed': 2020}\n",
    "\n",
    "params = {\n",
    "    'boosting_type': 'gbdt',\n",
    "    'objective': 'regression',\n",
    "    'num_leaves': 2 ** 5 - 1,\n",
    "    'reg_alpha': 0.25,\n",
    "    'reg_lambda': 0.25,\n",
    "    'metric': 'mse',\n",
    "    'n_estimators': 300,\n",
    "    'learning_rate': 0.05,\n",
    "    'min_child_samples': 5,\n",
    "    'colsample_bytree': 0.7,\n",
    "    'random_state': 2020\n",
    "}\n",
    "\n",
    "model1 = lgb.train(params, lgb_train1)\n",
    "model2 = lgb.train(params, lgb_train2)\n",
    "model3 = lgb.train(params, lgb_train3)"
   ]
  },
  {
   "cell_type": "code",
   "execution_count": 14,
   "metadata": {
    "ExecuteTime": {
     "end_time": "2020-09-28T12:42:05.858432Z",
     "start_time": "2020-09-28T12:42:05.815467Z"
    }
   },
   "outputs": [],
   "source": [
    "y_train1_pred = model1.predict(X_train1)\n",
    "y_test1_pred = model1.predict(X_test1)\n",
    "\n",
    "y_train2_pred = model2.predict(X_train2)\n",
    "y_test2_pred = model2.predict(X_test2)\n",
    "\n",
    "y_train3_pred = model3.predict(X_train3)\n",
    "y_test3_pred = model3.predict(X_test3)"
   ]
  },
  {
   "cell_type": "code",
   "execution_count": 15,
   "metadata": {
    "ExecuteTime": {
     "end_time": "2020-09-28T12:42:05.872418Z",
     "start_time": "2020-09-28T12:42:05.860426Z"
    }
   },
   "outputs": [
    {
     "name": "stdout",
     "output_type": "stream",
     "text": [
      "train 1:  83.08241479427335\n",
      "train 2:  98.53387541812596\n",
      "train 3:  98.48943757567062\n"
     ]
    }
   ],
   "source": [
    "print('train 1: ', NSE(y_train1, y_train1_pred))\n",
    "print('train 2: ', NSE(y_train2, y_train2_pred))\n",
    "print('train 3: ', NSE(y_train3, y_train3_pred))"
   ]
  },
  {
   "cell_type": "code",
   "execution_count": 16,
   "metadata": {
    "ExecuteTime": {
     "end_time": "2020-09-28T12:42:05.925463Z",
     "start_time": "2020-09-28T12:42:05.874413Z"
    }
   },
   "outputs": [],
   "source": [
    "cols = ['Prediction{}'.format(i) for i in range(1, 57)]\n",
    "\n",
    "sub1 = pd.DataFrame(y_test1_pred).T\n",
    "sub1.columns = cols\n",
    "sub1['SeqNum'] = 1\n",
    "sub1 = sub1[['SeqNum'] + cols]\n",
    "\n",
    "sub2 = pd.DataFrame(y_test2_pred).T\n",
    "sub2.columns = cols\n",
    "sub2['SeqNum'] = 2\n",
    "sub2 = sub1[['SeqNum'] + cols]\n",
    "\n",
    "sub3 = pd.DataFrame(y_test3_pred).T\n",
    "sub3.columns = cols\n",
    "sub3['SeqNum'] = 3\n",
    "sub3 = sub1[['SeqNum'] + cols]\n",
    "\n",
    "sub = pd.concat([sub1, sub2, sub3])\n",
    "sub.to_csv('../sub/sub.csv', index=False)"
   ]
  }
 ],
 "metadata": {
  "kernelspec": {
   "display_name": "Python 3",
   "language": "python",
   "name": "python3"
  },
  "language_info": {
   "codemirror_mode": {
    "name": "ipython",
    "version": 3
   },
   "file_extension": ".py",
   "mimetype": "text/x-python",
   "name": "python",
   "nbconvert_exporter": "python",
   "pygments_lexer": "ipython3",
   "version": "3.7.3"
  },
  "toc": {
   "base_numbering": 1,
   "nav_menu": {},
   "number_sections": true,
   "sideBar": true,
   "skip_h1_title": false,
   "title_cell": "Table of Contents",
   "title_sidebar": "Contents",
   "toc_cell": false,
   "toc_position": {},
   "toc_section_display": true,
   "toc_window_display": false
  }
 },
 "nbformat": 4,
 "nbformat_minor": 4
}
