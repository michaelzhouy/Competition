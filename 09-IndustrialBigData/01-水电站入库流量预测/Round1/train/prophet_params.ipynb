{
 "cells": [
  {
   "cell_type": "code",
   "execution_count": 1,
   "metadata": {
    "ExecuteTime": {
     "end_time": "2020-10-03T04:13:30.250099Z",
     "start_time": "2020-10-03T04:13:26.875566Z"
    }
   },
   "outputs": [],
   "source": [
    "import numpy as np\n",
    "import pandas as pd\n",
    "from fbprophet import Prophet\n",
    "from fbprophet.plot import add_changepoints_to_plot\n",
    "import warnings\n",
    "warnings.filterwarnings('ignore')"
   ]
  },
  {
   "cell_type": "code",
   "execution_count": 2,
   "metadata": {
    "ExecuteTime": {
     "end_time": "2020-10-03T04:13:30.265393Z",
     "start_time": "2020-10-03T04:13:30.250099Z"
    }
   },
   "outputs": [],
   "source": [
    "def NSE(y_pred, y_true):\n",
    "    y_mean = np.mean(y_true)\n",
    "    a = np.sum(np.square(y_true[:16] - y_pred[:16]))\n",
    "    b = np.sum(np.square(y_true[:16] - y_mean))\n",
    "    c = np.sum(np.square(y_true[16:] - y_pred[16:]))\n",
    "    d = np.sum(np.square(y_true[16:] - y_mean))\n",
    "    return 100 * (1 - 0.65 * a / b - 0.35 * c / d)"
   ]
  },
  {
   "cell_type": "markdown",
   "metadata": {},
   "source": [
    "# 2017"
   ]
  },
  {
   "cell_type": "code",
   "execution_count": 3,
   "metadata": {
    "ExecuteTime": {
     "end_time": "2020-10-03T04:13:30.982480Z",
     "start_time": "2020-10-03T04:13:30.267480Z"
    }
   },
   "outputs": [
    {
     "name": "stdout",
     "output_type": "stream",
     "text": [
      "(56, 2) (56, 2) (56, 2)\n"
     ]
    }
   ],
   "source": [
    "water = pd.read_excel('../input/入库流量数据.xlsx')\n",
    "water.head()\n",
    "\n",
    "y_test1 = water.loc[(water['TimeStample'] >= '2017-02-01 02:00:00') & (water['TimeStample'] <= '2017-02-07 23:00:00')]\n",
    "y_test2 = water.loc[(water['TimeStample'] >= '2017-08-01 02:00:00') & (water['TimeStample'] <= '2017-08-07 23:00:00')]\n",
    "y_test3 = water.loc[(water['TimeStample'] >= '2017-11-01 02:00:00') & (water['TimeStample'] <= '2017-11-07 23:00:00')]\n",
    "print(y_test1.shape, y_test2.shape, y_test3.shape)\n",
    "\n",
    "y_test1 = y_test1['Qi'].values\n",
    "y_test2 = y_test2['Qi'].values\n",
    "y_test3 = y_test3['Qi'].values"
   ]
  },
  {
   "cell_type": "code",
   "execution_count": 4,
   "metadata": {
    "ExecuteTime": {
     "end_time": "2020-10-03T04:13:31.037450Z",
     "start_time": "2020-10-03T04:13:30.985478Z"
    }
   },
   "outputs": [],
   "source": [
    "train_test1 = pd.read_csv('../input/train_test1_2017.csv')\n",
    "train_test2 = pd.read_csv('../input/train_test2_2017.csv')\n",
    "train_test3 = pd.read_csv('../input/train_test3_2017.csv')"
   ]
  },
  {
   "cell_type": "code",
   "execution_count": 5,
   "metadata": {
    "ExecuteTime": {
     "end_time": "2020-10-03T04:13:31.050441Z",
     "start_time": "2020-10-03T04:13:31.039447Z"
    }
   },
   "outputs": [],
   "source": [
    "train1 = train_test1.loc[train_test1['Qi'].notnull(), :]\n",
    "# test1 = train_test1.loc[train_test1['Qi'].isnull(), :]\n",
    "y_train1 = train1['Qi'].values\n",
    "\n",
    "train2 = train_test2.loc[train_test2['Qi'].notnull(), :]\n",
    "# test2 = train_test2.loc[train_test2['Qi'].isnull(), :]\n",
    "y_train2 = train2['Qi'].values\n",
    "\n",
    "train3 = train_test3.loc[train_test3['Qi'].notnull(), :]\n",
    "# test3 = train_test3.loc[train_test3['Qi'].isnull(), :]\n",
    "y_train3 = train3['Qi'].values"
   ]
  },
  {
   "cell_type": "code",
   "execution_count": 6,
   "metadata": {
    "ExecuteTime": {
     "end_time": "2020-10-03T04:13:31.082669Z",
     "start_time": "2020-10-03T04:13:31.054438Z"
    }
   },
   "outputs": [],
   "source": [
    "data = [train1, train2, train3]\n",
    "for i in data:\n",
    "    i.sort_values(by='TimeStample', inplace=True)\n",
    "    i['ds'] = pd.to_datetime(i['TimeStample'])\n",
    "    i.rename(columns={'Qi': 'y'}, inplace=True)\n",
    "    i.drop(['TimeStample'], axis=1, inplace=True)"
   ]
  },
  {
   "cell_type": "code",
   "execution_count": null,
   "metadata": {
    "ExecuteTime": {
     "start_time": "2020-10-03T04:13:26.932Z"
    }
   },
   "outputs": [],
   "source": [
    "m1 = Prophet(changepoint_prior_scale=0.5,\n",
    "             daily_seasonality=True,\n",
    "             yearly_seasonality=False,\n",
    "             weekly_seasonality=False)\n",
    "m1.add_seasonality(name='day', period=1, fourier_order=1)\n",
    "m1.fit(train1)\n",
    "\n",
    "m2 = Prophet(changepoint_prior_scale=0.5,\n",
    "             daily_seasonality=True,\n",
    "             yearly_seasonality=False,\n",
    "             weekly_seasonality=False)\n",
    "m2.add_seasonality(name='day', period=1, fourier_order=1)\n",
    "m2.fit(train2)\n",
    "\n",
    "m3 = Prophet(changepoint_prior_scale=0.5,\n",
    "             daily_seasonality=True,\n",
    "             yearly_seasonality=False,\n",
    "             weekly_seasonality=False)\n",
    "m3.add_seasonality(name='day', period=1, fourier_order=1)\n",
    "m3.fit(train3)\n",
    "\n",
    "\n",
    "future1 = m1.make_future_dataframe(periods=56, freq='3H')\n",
    "future2 = m2.make_future_dataframe(periods=56, freq='3H')\n",
    "future3 = m3.make_future_dataframe(periods=56, freq='3H')"
   ]
  },
  {
   "cell_type": "code",
   "execution_count": null,
   "metadata": {
    "ExecuteTime": {
     "start_time": "2020-10-03T04:13:26.936Z"
    }
   },
   "outputs": [],
   "source": [
    "pred1 = m1.predict(future1)\n",
    "fig = m1.plot(pred1)\n",
    "a = add_changepoints_to_plot(fig.gca(), m1, pred1)"
   ]
  },
  {
   "cell_type": "code",
   "execution_count": null,
   "metadata": {
    "ExecuteTime": {
     "start_time": "2020-10-03T04:13:26.939Z"
    }
   },
   "outputs": [],
   "source": [
    "fig = m1.plot_components(pred1)"
   ]
  },
  {
   "cell_type": "code",
   "execution_count": null,
   "metadata": {
    "ExecuteTime": {
     "start_time": "2020-10-03T04:13:26.943Z"
    }
   },
   "outputs": [],
   "source": [
    "pred2 = m2.predict(future2)\n",
    "fig = m2.plot(pred2)\n",
    "a = add_changepoints_to_plot(fig.gca(), m2, pred2)"
   ]
  },
  {
   "cell_type": "code",
   "execution_count": null,
   "metadata": {
    "ExecuteTime": {
     "start_time": "2020-10-03T04:13:26.946Z"
    },
    "scrolled": false
   },
   "outputs": [],
   "source": [
    "pred3 = m3.predict(future3)\n",
    "fig = m3.plot(pred3)\n",
    "a = add_changepoints_to_plot(fig.gca(), m3, pred3)"
   ]
  },
  {
   "cell_type": "code",
   "execution_count": null,
   "metadata": {
    "ExecuteTime": {
     "start_time": "2020-10-03T04:13:26.949Z"
    }
   },
   "outputs": [],
   "source": [
    "train_pred1 = pred1.iloc[:-56, :]['yhat'].values\n",
    "train_pred2 = pred2.iloc[:-56, :]['yhat'].values\n",
    "train_pred3 = pred3.iloc[:-56, :]['yhat'].values\n",
    "\n",
    "test_pred1 = pred1.iloc[-56:, :]['yhat'].values\n",
    "test_pred2 = pred2.iloc[-56:, :]['yhat'].values\n",
    "test_pred3 = pred3.iloc[-56:, :]['yhat'].values\n",
    "\n",
    "print('Train: ')\n",
    "print(NSE(y_train1, train_pred1), NSE(y_train2, train_pred2), NSE(y_train3, train_pred3))\n",
    "print('Test: ')\n",
    "print(NSE(y_test1, test_pred1), NSE(y_test2, test_pred2), NSE(y_test3, test_pred3))"
   ]
  },
  {
   "cell_type": "markdown",
   "metadata": {},
   "source": [
    "# 2018"
   ]
  },
  {
   "cell_type": "code",
   "execution_count": null,
   "metadata": {
    "ExecuteTime": {
     "start_time": "2020-10-03T04:13:26.971Z"
    }
   },
   "outputs": [],
   "source": [
    "train_test1 = pd.read_csv('../input/train_test1.csv')\n",
    "train_test2 = pd.read_csv('../input/train_test2.csv')\n",
    "train_test3 = pd.read_csv('../input/train_test3.csv')"
   ]
  },
  {
   "cell_type": "code",
   "execution_count": null,
   "metadata": {
    "ExecuteTime": {
     "start_time": "2020-10-03T04:13:26.973Z"
    }
   },
   "outputs": [],
   "source": [
    "train1 = train_test1.loc[train_test1['Qi'].notnull(), :]\n",
    "# test1 = train_test1.loc[train_test1['Qi'].isnull(), :]\n",
    "y_train1 = train1['Qi'].values\n",
    "\n",
    "train2 = train_test2.loc[train_test2['Qi'].notnull(), :]\n",
    "# test2 = train_test2.loc[train_test2['Qi'].isnull(), :]\n",
    "y_train2 = train2['Qi'].values\n",
    "\n",
    "train3 = train_test3.loc[train_test3['Qi'].notnull(), :]\n",
    "# test3 = train_test3.loc[train_test3['Qi'].isnull(), :]\n",
    "y_train3 = train3['Qi'].values"
   ]
  },
  {
   "cell_type": "code",
   "execution_count": null,
   "metadata": {
    "ExecuteTime": {
     "start_time": "2020-10-03T04:13:26.975Z"
    }
   },
   "outputs": [],
   "source": [
    "data = [train1, train2, train3]\n",
    "for i in data:\n",
    "    i.sort_values(by='TimeStample', inplace=True)\n",
    "    i['ds'] = pd.to_datetime(i['TimeStample'])\n",
    "    i.rename(columns={'Qi': 'y'}, inplace=True)\n",
    "    i.drop(['TimeStample'], axis=1, inplace=True)"
   ]
  },
  {
   "cell_type": "code",
   "execution_count": null,
   "metadata": {
    "ExecuteTime": {
     "start_time": "2020-10-03T04:13:26.978Z"
    }
   },
   "outputs": [],
   "source": [
    "# m1 = Prophet(changepoint_prior_scale=0.5,\n",
    "#              daily_seasonality=True,\n",
    "#              yearly_seasonality=False,\n",
    "#              weekly_seasonality=False)\n",
    "# m1.add_seasonality(name='day', period=1, fourier_order=1)\n",
    "# m1.fit(train1)\n",
    "\n",
    "m1 = Prophet()\n",
    "m1.fit(train1)\n",
    "\n",
    "m2 = Prophet(changepoint_prior_scale=0.5,\n",
    "             daily_seasonality=True,\n",
    "             yearly_seasonality=False,\n",
    "             weekly_seasonality=False)\n",
    "m2.add_seasonality(name='day', period=1, fourier_order=1)\n",
    "m2.fit(train2)\n",
    "\n",
    "m3 = Prophet(changepoint_prior_scale=0.5,\n",
    "             daily_seasonality=True,\n",
    "             yearly_seasonality=False,\n",
    "             weekly_seasonality=False)\n",
    "m3.add_seasonality(name='day', period=1, fourier_order=1)\n",
    "m3.fit(train3)\n",
    "\n",
    "\n",
    "future1 = m1.make_future_dataframe(periods=56, freq='3H')\n",
    "future2 = m2.make_future_dataframe(periods=56, freq='3H')\n",
    "future3 = m3.make_future_dataframe(periods=56, freq='3H')\n",
    "\n",
    "# print(future1.head().append(future1.tail()))\n",
    "# print(future2.head().append(future2.tail()))\n",
    "# print(future3.head().append(future3.tail()))"
   ]
  },
  {
   "cell_type": "code",
   "execution_count": null,
   "metadata": {
    "ExecuteTime": {
     "start_time": "2020-10-03T04:13:26.981Z"
    }
   },
   "outputs": [],
   "source": [
    "pred1 = m1.predict(future1)\n",
    "m1.plot(pred1);"
   ]
  },
  {
   "cell_type": "code",
   "execution_count": null,
   "metadata": {
    "ExecuteTime": {
     "start_time": "2020-10-03T04:13:26.984Z"
    }
   },
   "outputs": [],
   "source": [
    "m1.plot_components(pred1);"
   ]
  },
  {
   "cell_type": "code",
   "execution_count": null,
   "metadata": {
    "ExecuteTime": {
     "start_time": "2020-10-03T04:13:26.987Z"
    }
   },
   "outputs": [],
   "source": [
    "pred2 = m2.predict(future2)\n",
    "m2.plot(pred2);"
   ]
  },
  {
   "cell_type": "code",
   "execution_count": null,
   "metadata": {
    "ExecuteTime": {
     "start_time": "2020-10-03T04:13:26.989Z"
    }
   },
   "outputs": [],
   "source": [
    "m2.plot_components(pred2);"
   ]
  },
  {
   "cell_type": "code",
   "execution_count": null,
   "metadata": {
    "ExecuteTime": {
     "start_time": "2020-10-03T04:13:26.993Z"
    }
   },
   "outputs": [],
   "source": [
    "pred3 = m3.predict(future3)\n",
    "m3.plot(pred3);"
   ]
  },
  {
   "cell_type": "code",
   "execution_count": null,
   "metadata": {
    "ExecuteTime": {
     "start_time": "2020-10-03T04:13:26.997Z"
    }
   },
   "outputs": [],
   "source": [
    "m3.plot_components(pred3);"
   ]
  },
  {
   "cell_type": "code",
   "execution_count": null,
   "metadata": {
    "ExecuteTime": {
     "start_time": "2020-10-03T04:13:26.999Z"
    }
   },
   "outputs": [],
   "source": [
    "train_pred1 = pred1.iloc[:-56, :]['yhat'].values\n",
    "train_pred2 = pred2.iloc[:-56, :]['yhat'].values\n",
    "train_pred3 = pred3.iloc[:-56, :]['yhat'].values\n",
    "\n",
    "test_pred1 = pred1.iloc[-56:, :]['yhat'].values\n",
    "test_pred2 = pred2.iloc[-56:, :]['yhat'].values\n",
    "test_pred3 = pred3.iloc[-56:, :]['yhat'].values\n",
    "\n",
    "NSE(y_train1, train_pred1), NSE(y_train2, train_pred2), NSE(y_train3, train_pred3)"
   ]
  },
  {
   "cell_type": "code",
   "execution_count": null,
   "metadata": {
    "ExecuteTime": {
     "start_time": "2020-10-03T04:13:27.002Z"
    }
   },
   "outputs": [],
   "source": [
    "cols = ['Prediction{}'.format(i) for i in range(1, 57)]\n",
    "\n",
    "sub1 = pd.DataFrame(test_pred1).T\n",
    "sub1.columns = cols\n",
    "sub1['SeqNum'] = 1\n",
    "sub1 = sub1[['SeqNum'] + cols]\n",
    "\n",
    "sub2 = pd.DataFrame(test_pred2).T\n",
    "sub2.columns = cols\n",
    "sub2['SeqNum'] = 2\n",
    "sub2 = sub1[['SeqNum'] + cols]\n",
    "\n",
    "sub3 = pd.DataFrame(test_pred3).T\n",
    "sub3.columns = cols\n",
    "sub3['SeqNum'] = 3\n",
    "sub3 = sub1[['SeqNum'] + cols]\n",
    "\n",
    "sub = pd.concat([sub1, sub2, sub3])\n",
    "sub.to_csv('../sub/sub_prophet.csv', index=False)"
   ]
  }
 ],
 "metadata": {
  "kernelspec": {
   "display_name": "Python 3",
   "language": "python",
   "name": "python3"
  },
  "language_info": {
   "codemirror_mode": {
    "name": "ipython",
    "version": 3
   },
   "file_extension": ".py",
   "mimetype": "text/x-python",
   "name": "python",
   "nbconvert_exporter": "python",
   "pygments_lexer": "ipython3",
   "version": "3.7.3"
  },
  "toc": {
   "base_numbering": 1,
   "nav_menu": {},
   "number_sections": true,
   "sideBar": true,
   "skip_h1_title": false,
   "title_cell": "Table of Contents",
   "title_sidebar": "Contents",
   "toc_cell": false,
   "toc_position": {},
   "toc_section_display": true,
   "toc_window_display": false
  }
 },
 "nbformat": 4,
 "nbformat_minor": 4
}
