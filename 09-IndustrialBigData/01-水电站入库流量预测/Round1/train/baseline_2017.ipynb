{
 "cells": [
  {
   "cell_type": "code",
   "execution_count": 1,
   "metadata": {
    "ExecuteTime": {
     "end_time": "2020-09-28T15:16:31.449757Z",
     "start_time": "2020-09-28T15:16:29.108146Z"
    }
   },
   "outputs": [],
   "source": [
    "import numpy as np\n",
    "import pandas as pd\n",
    "import lightgbm as lgb\n",
    "import warnings\n",
    "warnings.filterwarnings('ignore')"
   ]
  },
  {
   "cell_type": "code",
   "execution_count": 2,
   "metadata": {
    "ExecuteTime": {
     "end_time": "2020-09-28T15:16:31.462706Z",
     "start_time": "2020-09-28T15:16:31.452711Z"
    }
   },
   "outputs": [],
   "source": [
    "def NSE(y_pred, y_true):\n",
    "    y_mean = np.mean(y_true)\n",
    "    a = np.sum(np.square(y_true[:16] - y_pred[:16]))\n",
    "    b = np.sum(np.square(y_true[:16] - y_mean))\n",
    "    c = np.sum(np.square(y_true[16:] - y_pred[16:]))\n",
    "    d = np.sum(np.square(y_true[16:] - y_mean))\n",
    "    return 100 * (1 - 0.65 * a / b - 0.35 * c / d)"
   ]
  },
  {
   "cell_type": "code",
   "execution_count": 3,
   "metadata": {
    "ExecuteTime": {
     "end_time": "2020-09-28T15:16:32.142315Z",
     "start_time": "2020-09-28T15:16:31.467704Z"
    }
   },
   "outputs": [
    {
     "name": "stdout",
     "output_type": "stream",
     "text": [
      "(56, 2) (56, 2) (56, 2)\n"
     ]
    }
   ],
   "source": [
    "water = pd.read_excel('../input/入库流量数据.xlsx')\n",
    "\n",
    "y_test1 = water.loc[(water['TimeStample'] >= '2017-02-01 02:00:00') & (water['TimeStample'] <= '2017-02-07 23:00:00')]\n",
    "y_test2 = water.loc[(water['TimeStample'] >= '2017-08-01 02:00:00') & (water['TimeStample'] <= '2017-08-07 23:00:00')]\n",
    "y_test3 = water.loc[(water['TimeStample'] >= '2017-11-01 02:00:00') & (water['TimeStample'] <= '2017-11-07 23:00:00')]\n",
    "print(y_test1.shape, y_test2.shape, y_test3.shape)\n",
    "\n",
    "y_test1 = y_test1['Qi'].values\n",
    "y_test2 = y_test2['Qi'].values\n",
    "y_test3 = y_test3['Qi'].values"
   ]
  },
  {
   "cell_type": "code",
   "execution_count": 4,
   "metadata": {
    "ExecuteTime": {
     "end_time": "2020-09-28T15:16:32.162322Z",
     "start_time": "2020-09-28T15:16:32.145317Z"
    }
   },
   "outputs": [],
   "source": [
    "train_test1 = pd.read_csv('../input/train_test1_2017.csv')\n",
    "train_test2 = pd.read_csv('../input/train_test2_2017.csv')\n",
    "train_test3 = pd.read_csv('../input/train_test3_2017.csv')"
   ]
  },
  {
   "cell_type": "code",
   "execution_count": 5,
   "metadata": {
    "ExecuteTime": {
     "end_time": "2020-09-28T15:16:32.191290Z",
     "start_time": "2020-09-28T15:16:32.165302Z"
    }
   },
   "outputs": [
    {
     "data": {
      "text/html": [
       "<div>\n",
       "<style scoped>\n",
       "    .dataframe tbody tr th:only-of-type {\n",
       "        vertical-align: middle;\n",
       "    }\n",
       "\n",
       "    .dataframe tbody tr th {\n",
       "        vertical-align: top;\n",
       "    }\n",
       "\n",
       "    .dataframe thead th {\n",
       "        text-align: right;\n",
       "    }\n",
       "</style>\n",
       "<table border=\"1\" class=\"dataframe\">\n",
       "  <thead>\n",
       "    <tr style=\"text-align: right;\">\n",
       "      <th></th>\n",
       "      <th>TimeStample</th>\n",
       "      <th>Qi</th>\n",
       "    </tr>\n",
       "  </thead>\n",
       "  <tbody>\n",
       "    <tr>\n",
       "      <th>0</th>\n",
       "      <td>2017-01-01 02:00:00</td>\n",
       "      <td>0.083045</td>\n",
       "    </tr>\n",
       "    <tr>\n",
       "      <th>1</th>\n",
       "      <td>2017-01-01 05:00:00</td>\n",
       "      <td>0.087865</td>\n",
       "    </tr>\n",
       "    <tr>\n",
       "      <th>2</th>\n",
       "      <td>2017-01-01 08:00:00</td>\n",
       "      <td>0.074158</td>\n",
       "    </tr>\n",
       "    <tr>\n",
       "      <th>3</th>\n",
       "      <td>2017-01-01 11:00:00</td>\n",
       "      <td>0.062911</td>\n",
       "    </tr>\n",
       "    <tr>\n",
       "      <th>4</th>\n",
       "      <td>2017-01-01 14:00:00</td>\n",
       "      <td>0.040116</td>\n",
       "    </tr>\n",
       "  </tbody>\n",
       "</table>\n",
       "</div>"
      ],
      "text/plain": [
       "           TimeStample        Qi\n",
       "0  2017-01-01 02:00:00  0.083045\n",
       "1  2017-01-01 05:00:00  0.087865\n",
       "2  2017-01-01 08:00:00  0.074158\n",
       "3  2017-01-01 11:00:00  0.062911\n",
       "4  2017-01-01 14:00:00  0.040116"
      ]
     },
     "execution_count": 5,
     "metadata": {},
     "output_type": "execute_result"
    }
   ],
   "source": [
    "train_test1.head()"
   ]
  },
  {
   "cell_type": "code",
   "execution_count": 6,
   "metadata": {
    "ExecuteTime": {
     "end_time": "2020-09-28T15:16:32.218271Z",
     "start_time": "2020-09-28T15:16:32.196285Z"
    }
   },
   "outputs": [
    {
     "name": "stdout",
     "output_type": "stream",
     "text": [
      "<class 'pandas.core.frame.DataFrame'>\n",
      "RangeIndex: 304 entries, 0 to 303\n",
      "Data columns (total 2 columns):\n",
      " #   Column       Non-Null Count  Dtype  \n",
      "---  ------       --------------  -----  \n",
      " 0   TimeStample  304 non-null    object \n",
      " 1   Qi           248 non-null    float64\n",
      "dtypes: float64(1), object(1)\n",
      "memory usage: 4.9+ KB\n"
     ]
    }
   ],
   "source": [
    "train_test1.info()"
   ]
  },
  {
   "cell_type": "code",
   "execution_count": 7,
   "metadata": {
    "ExecuteTime": {
     "end_time": "2020-09-28T15:16:32.234262Z",
     "start_time": "2020-09-28T15:16:32.224269Z"
    }
   },
   "outputs": [],
   "source": [
    "data = [train_test1, train_test2, train_test3]\n",
    "for i in data:\n",
    "    i.sort_values(by='TimeStample', inplace=True)"
   ]
  },
  {
   "cell_type": "code",
   "execution_count": 8,
   "metadata": {
    "ExecuteTime": {
     "end_time": "2020-09-28T15:16:32.251252Z",
     "start_time": "2020-09-28T15:16:32.239260Z"
    }
   },
   "outputs": [],
   "source": [
    "stat_feat = []"
   ]
  },
  {
   "cell_type": "code",
   "execution_count": 9,
   "metadata": {
    "ExecuteTime": {
     "end_time": "2020-09-28T15:16:32.362190Z",
     "start_time": "2020-09-28T15:16:32.255251Z"
    }
   },
   "outputs": [],
   "source": [
    "for i in data:\n",
    "    # 5天\n",
    "    for j in range(1, 28):\n",
    "        i['Qi_shift{}'.format(j)] = i['Qi'].shift(j)\n",
    "        if j <= 16:\n",
    "            stat_feat.append('Qi_shift{}'.format(j))"
   ]
  },
  {
   "cell_type": "code",
   "execution_count": 10,
   "metadata": {
    "ExecuteTime": {
     "end_time": "2020-09-28T15:16:32.386176Z",
     "start_time": "2020-09-28T15:16:32.364188Z"
    }
   },
   "outputs": [
    {
     "data": {
      "text/html": [
       "<div>\n",
       "<style scoped>\n",
       "    .dataframe tbody tr th:only-of-type {\n",
       "        vertical-align: middle;\n",
       "    }\n",
       "\n",
       "    .dataframe tbody tr th {\n",
       "        vertical-align: top;\n",
       "    }\n",
       "\n",
       "    .dataframe thead th {\n",
       "        text-align: right;\n",
       "    }\n",
       "</style>\n",
       "<table border=\"1\" class=\"dataframe\">\n",
       "  <thead>\n",
       "    <tr style=\"text-align: right;\">\n",
       "      <th></th>\n",
       "      <th>Qi_shift1</th>\n",
       "      <th>Qi_shift2</th>\n",
       "      <th>Qi_shift3</th>\n",
       "      <th>Qi_shift4</th>\n",
       "    </tr>\n",
       "  </thead>\n",
       "  <tbody>\n",
       "    <tr>\n",
       "      <th>0</th>\n",
       "      <td>NaN</td>\n",
       "      <td>NaN</td>\n",
       "      <td>NaN</td>\n",
       "      <td>NaN</td>\n",
       "    </tr>\n",
       "    <tr>\n",
       "      <th>1</th>\n",
       "      <td>0.083045</td>\n",
       "      <td>NaN</td>\n",
       "      <td>NaN</td>\n",
       "      <td>NaN</td>\n",
       "    </tr>\n",
       "    <tr>\n",
       "      <th>2</th>\n",
       "      <td>0.087865</td>\n",
       "      <td>0.083045</td>\n",
       "      <td>NaN</td>\n",
       "      <td>NaN</td>\n",
       "    </tr>\n",
       "    <tr>\n",
       "      <th>3</th>\n",
       "      <td>0.074158</td>\n",
       "      <td>0.087865</td>\n",
       "      <td>0.083045</td>\n",
       "      <td>NaN</td>\n",
       "    </tr>\n",
       "    <tr>\n",
       "      <th>4</th>\n",
       "      <td>0.062911</td>\n",
       "      <td>0.074158</td>\n",
       "      <td>0.087865</td>\n",
       "      <td>0.083045</td>\n",
       "    </tr>\n",
       "  </tbody>\n",
       "</table>\n",
       "</div>"
      ],
      "text/plain": [
       "   Qi_shift1  Qi_shift2  Qi_shift3  Qi_shift4\n",
       "0        NaN        NaN        NaN        NaN\n",
       "1   0.083045        NaN        NaN        NaN\n",
       "2   0.087865   0.083045        NaN        NaN\n",
       "3   0.074158   0.087865   0.083045        NaN\n",
       "4   0.062911   0.074158   0.087865   0.083045"
      ]
     },
     "execution_count": 10,
     "metadata": {},
     "output_type": "execute_result"
    }
   ],
   "source": [
    "train_test1.loc[:, 'Qi_shift1': 'Qi_shift4'].head()"
   ]
  },
  {
   "cell_type": "code",
   "execution_count": 11,
   "metadata": {
    "ExecuteTime": {
     "end_time": "2020-09-28T15:16:32.641029Z",
     "start_time": "2020-09-28T15:16:32.390175Z"
    }
   },
   "outputs": [],
   "source": [
    "for i in data:\n",
    "    # 9小时\n",
    "    i['1_3_sum'] = i.loc[:, 'Qi_shift1': 'Qi_shift3'].sum(1)\n",
    "    i['1_3_mea'] = i.loc[:, 'Qi_shift1': 'Qi_shift3'].mean(1)\n",
    "    i['1_3_max'] = i.loc[:, 'Qi_shift1': 'Qi_shift3'].max(1)\n",
    "    i['1_3_min'] = i.loc[:, 'Qi_shift1': 'Qi_shift3'].min(1)\n",
    "    # 12小时\n",
    "    i['1_4_sum'] = i.loc[:, 'Qi_shift1': 'Qi_shift4'].sum(1)\n",
    "    i['1_4_mea'] = i.loc[:, 'Qi_shift1': 'Qi_shift4'].mean(1)\n",
    "    i['1_4_max'] = i.loc[:, 'Qi_shift1': 'Qi_shift4'].max(1)\n",
    "    i['1_4_min'] = i.loc[:, 'Qi_shift1': 'Qi_shift4'].min(1)\n",
    "    # 24个小时\n",
    "    i['1_8_sum'] = i.loc[:, 'Qi_shift1': 'Qi_shift8'].sum(1)\n",
    "    i['1_8_mea'] = i.loc[:, 'Qi_shift1': 'Qi_shift8'].mean(1)\n",
    "    i['1_8_max'] = i.loc[:, 'Qi_shift1': 'Qi_shift8'].max(1)\n",
    "    i['1_8_min'] = i.loc[:, 'Qi_shift1': 'Qi_shift8'].min(1)\n",
    "    # 36个小时\n",
    "    i['1_12_sum'] = i.loc[:, 'Qi_shift1': 'Qi_shift12'].sum(1)\n",
    "    i['1_12_mea'] = i.loc[:, 'Qi_shift1': 'Qi_shift12'].mean(1)\n",
    "    i['1_12_max'] = i.loc[:, 'Qi_shift1': 'Qi_shift12'].max(1)\n",
    "    i['1_12_min'] = i.loc[:, 'Qi_shift1': 'Qi_shift12'].min(1)\n",
    "    # 48个小时\n",
    "    i['1_16_sum'] = i.loc[:, 'Qi_shift1': 'Qi_shift16'].sum(1)\n",
    "    i['1_16_mea'] = i.loc[:, 'Qi_shift1': 'Qi_shift16'].mean(1)\n",
    "    i['1_16_max'] = i.loc[:, 'Qi_shift1': 'Qi_shift16'].max(1)\n",
    "    i['1_16_min'] = i.loc[:, 'Qi_shift1': 'Qi_shift16'].min(1)\n",
    "    \n",
    "    Qi_stat_feat = ['1_3_sum', '1_3_mea', '1_3_max', '1_3_min',\n",
    "                    '1_4_sum', '1_4_mea', '1_4_max', '1_4_min',\n",
    "                    '1_8_sum', '1_8_mea', '1_8_max', '1_8_min',\n",
    "                    '1_12_sum', '1_12_mea', '1_12_max', '1_12_min',\n",
    "                    '1_16_sum', '1_16_mea', '1_16_max', '1_16_min',]\n",
    "    stat_feat += Qi_stat_feat\n",
    "    \n",
    "    \n",
    "    # 趋势 diff\n",
    "    i['1_2_diff'] = i['Qi_shift1'] - i['Qi_shift2']\n",
    "    i['1_3_diff'] = i['Qi_shift1'] - i['Qi_shift3']\n",
    "    i['1_4_diff'] = i['Qi_shift1'] - i['Qi_shift4']\n",
    "    i['1_8_diff'] = i['Qi_shift1'] - i['Qi_shift8']\n",
    "    i['1_16_diff'] = i['Qi_shift1'] - i['Qi_shift16']\n",
    "    \n",
    "    i['2_3_diff'] = i['Qi_shift2'] - i['Qi_shift3']\n",
    "    i['2_4_diff'] = i['Qi_shift2'] - i['Qi_shift4']\n",
    "    i['2_5_diff'] = i['Qi_shift2'] - i['Qi_shift5']\n",
    "    i['2_9_diff'] = i['Qi_shift2'] - i['Qi_shift9']\n",
    "    i['2_17_diff'] = i['Qi_shift2'] - i['Qi_shift17']\n",
    "    \n",
    "    i['3_4_diff'] = i['Qi_shift3'] - i['Qi_shift4']\n",
    "    i['3_5_diff'] = i['Qi_shift3'] - i['Qi_shift5']\n",
    "    i['3_6_diff'] = i['Qi_shift3'] - i['Qi_shift6']\n",
    "    i['3_10_diff'] = i['Qi_shift3'] - i['Qi_shift10']\n",
    "    i['3_18_diff'] = i['Qi_shift3'] - i['Qi_shift18']\n",
    "    \n",
    "    trend_stat_feat = ['1_2_diff', '1_3_diff', '1_4_diff', '1_8_diff', '1_16_diff',\n",
    "                       '2_3_diff', '2_4_diff', '2_5_diff', '2_9_diff', '2_17_diff',\n",
    "                       '3_4_diff', '3_5_diff', '3_6_diff', '3_10_diff', '3_18_diff']\n",
    "    stat_feat += trend_stat_feat\n",
    "    \n",
    "    \n",
    "    # 环比\n",
    "    i['1_2_chain_rate'] = i['Qi_shift1'] / i['Qi_shift2']\n",
    "    i['2_3_chain_rate'] = i['Qi_shift2'] / i['Qi_shift3']\n",
    "    i['3_4_chain_rate'] = i['Qi_shift3'] / i['Qi_shift4']\n",
    "    i['4_5_chain_rate'] = i['Qi_shift4'] / i['Qi_shift5']\n",
    "    i['5_6_chain_rate'] = i['Qi_shift5'] / i['Qi_shift6']\n",
    "    chain_rate_stat_feat = ['1_2_chain_rate', '2_3_chain_rate', '3_4_chain_rate', '4_5_chain_rate', '5_6_chain_rate']\n",
    "    stat_feat += chain_rate_stat_feat\n",
    "    \n",
    "    # 环比比\n",
    "    i['1_2_chain_rate_2_3_chain_rate'] = i['1_2_chain_rate'] / i['2_3_chain_rate']\n",
    "    i['2_3_chain_rate_3_4_chain_rate'] = i['2_3_chain_rate'] / i['3_4_chain_rate']\n",
    "    i['3_4_chain_rate_4_5_chain_rate'] = i['3_4_chain_rate'] / i['4_5_chain_rate']\n",
    "    i['4_5_chain_rate_5_6_chain_rate'] = i['4_5_chain_rate'] / i['5_6_chain_rate']\n",
    "    chain_rate_rate_stat_feat = ['1_2_chain_rate_2_3_chain_rate', '2_3_chain_rate_3_4_chain_rate',\n",
    "                                 '3_4_chain_rate_4_5_chain_rate', '4_5_chain_rate_5_6_chain_rate']\n",
    "    stat_feat += chain_rate_rate_stat_feat\n",
    "    \n",
    "    # 同比\n",
    "    i['1_3_yoy'] = (i['Qi_shift1'] - i['Qi_shift3']) / i['Qi_shift3']\n",
    "    i['1_4_yoy'] = (i['Qi_shift1'] - i['Qi_shift4']) / i['Qi_shift4']\n",
    "    i['1_5_yoy'] = (i['Qi_shift1'] - i['Qi_shift5']) / i['Qi_shift5']\n",
    "    i['1_8_yoy'] = (i['Qi_shift1'] - i['Qi_shift8']) / i['Qi_shift8']\n",
    "    i['1_16_yoy'] = (i['Qi_shift1'] - i['Qi_shift16']) / i['Qi_shift16']\n",
    "    i['1_24_yoy'] = (i['Qi_shift1'] - i['Qi_shift24']) / i['Qi_shift24']\n",
    "    \n",
    "    i['2_4_yoy'] = (i['Qi_shift2'] - i['Qi_shift4']) / i['Qi_shift4']\n",
    "    i['2_5_yoy'] = (i['Qi_shift2'] - i['Qi_shift5']) / i['Qi_shift5']\n",
    "    i['2_6_yoy'] = (i['Qi_shift2'] - i['Qi_shift6']) / i['Qi_shift6']\n",
    "    i['2_9_yoy'] = (i['Qi_shift2'] - i['Qi_shift9']) / i['Qi_shift9']\n",
    "    i['2_17_yoy'] = (i['Qi_shift2'] - i['Qi_shift17']) / i['Qi_shift17']\n",
    "    i['2_25_yoy'] = (i['Qi_shift2'] - i['Qi_shift25']) / i['Qi_shift25']\n",
    "    yoy_stat_feat = ['1_3_yoy', '1_4_yoy', '1_5_yoy', '1_8_yoy', '1_16_yoy', '1_24_yoy',\n",
    "                     '2_4_yoy', '2_5_yoy', '2_6_yoy', '2_9_yoy', '2_17_yoy', '2_25_yoy']\n",
    "    stat_feat += yoy_stat_feat"
   ]
  },
  {
   "cell_type": "code",
   "execution_count": 12,
   "metadata": {
    "ExecuteTime": {
     "end_time": "2020-09-28T15:16:32.700010Z",
     "start_time": "2020-09-28T15:16:32.643027Z"
    }
   },
   "outputs": [],
   "source": [
    "train1 = train_test1.loc[train_test1['Qi'].notnull(), :]\n",
    "test1 = train_test1.loc[train_test1['Qi'].isnull(), :]\n",
    "\n",
    "train2 = train_test2.loc[train_test2['Qi'].notnull(), :]\n",
    "test2 = train_test2.loc[train_test2['Qi'].isnull(), :]\n",
    "\n",
    "train3 = train_test3.loc[train_test3['Qi'].notnull(), :]\n",
    "test3 = train_test3.loc[train_test3['Qi'].isnull(), :]\n",
    "\n",
    "train1_tr = train1.loc[train1['TimeStample'] <= '2017-01-24 23:00:00', :]\n",
    "train1_va = train1.loc[train1['TimeStample'] >= '2017-01-25 02:00:00', :]\n",
    "\n",
    "train2_tr = train2.loc[train2['TimeStample'] <= '2017-07-24 23:00:00', :]\n",
    "train2_va = train2.loc[train2['TimeStample'] >= '2017-07-25 02:00:00', :]\n",
    "\n",
    "train3_tr = train3.loc[train3['TimeStample'] <= '2017-10-24 23:00:00', :]\n",
    "train3_va = train3.loc[train3['TimeStample'] >= '2017-10-25 02:00:00', :]\n",
    "\n",
    "\n",
    "X_train1 = train1_tr[stat_feat]\n",
    "X_valid1 = train1_va[stat_feat]\n",
    "y_train1 = train1_tr['Qi']\n",
    "y_valid1 = train1_va['Qi']\n",
    "X_test1 = test1[stat_feat]\n",
    "\n",
    "X_train2 = train2_tr[stat_feat]\n",
    "X_valid2 = train2_va[stat_feat]\n",
    "y_train2 = train2_tr['Qi']\n",
    "y_valid2 = train2_va['Qi']\n",
    "X_test2 = test2[stat_feat]\n",
    "\n",
    "X_train3 = train3_tr[stat_feat]\n",
    "X_valid3 = train3_va[stat_feat]\n",
    "y_train3 = train3_tr['Qi']\n",
    "y_valid3 = train3_va['Qi']\n",
    "X_test3 = test3[stat_feat]\n",
    "\n",
    "lgb_train1 = lgb.Dataset(X_train1, y_train1)\n",
    "lgb_valid1 = lgb.Dataset(X_valid1, y_valid1)\n",
    "lgb_train2 = lgb.Dataset(X_train2, y_train2)\n",
    "lgb_valid2 = lgb.Dataset(X_valid2, y_valid2)\n",
    "lgb_train3 = lgb.Dataset(X_train3, y_train3)\n",
    "lgb_valid3 = lgb.Dataset(X_valid3, y_valid3)"
   ]
  },
  {
   "cell_type": "code",
   "execution_count": 13,
   "metadata": {
    "ExecuteTime": {
     "end_time": "2020-09-28T15:16:32.711989Z",
     "start_time": "2020-09-28T15:16:32.701994Z"
    }
   },
   "outputs": [],
   "source": [
    "# 自定义评估函数\n",
    "def self_metric(preds, train_data):\n",
    "    labels = train_data.get_label()\n",
    "    y_mean = np.mean(labels)\n",
    "    a = np.sum(np.square(labels[:16] - preds[:16]))\n",
    "    b = np.sum(np.square(labels[:16] - y_mean))\n",
    "    c = np.sum(np.square(labels[16:] - preds[16:]))\n",
    "    d = np.sum(np.square(labels[16:] - y_mean))\n",
    "    nse = 100* (1 - 0.65 * a / b - 0.35 * c / d)\n",
    "\n",
    "    return 'self_metric', nse, True"
   ]
  },
  {
   "cell_type": "code",
   "execution_count": 14,
   "metadata": {
    "ExecuteTime": {
     "end_time": "2020-09-28T15:16:34.427003Z",
     "start_time": "2020-09-28T15:16:32.714987Z"
    }
   },
   "outputs": [
    {
     "name": "stdout",
     "output_type": "stream",
     "text": [
      "Training until validation scores don't improve for 100 rounds\n",
      "[10]\ttraining's l2: 0.00089651\ttraining's self_metric: 22.106\tvalid_0's l2: 0.00104038\tvalid_0's self_metric: 2.13307\n",
      "[20]\ttraining's l2: 0.000696535\ttraining's self_metric: 36.5737\tvalid_0's l2: 0.0010184\tvalid_0's self_metric: -8.10758\n",
      "[30]\ttraining's l2: 0.000558085\ttraining's self_metric: 48.3343\tvalid_0's l2: 0.0010091\tvalid_0's self_metric: -16.6458\n",
      "[40]\ttraining's l2: 0.000466171\ttraining's self_metric: 56.1819\tvalid_0's l2: 0.000987406\tvalid_0's self_metric: -21.9315\n",
      "[50]\ttraining's l2: 0.000406172\ttraining's self_metric: 61.6024\tvalid_0's l2: 0.000985811\tvalid_0's self_metric: -31.6497\n",
      "[60]\ttraining's l2: 0.000369013\ttraining's self_metric: 65.147\tvalid_0's l2: 0.000984159\tvalid_0's self_metric: -38.8975\n",
      "[70]\ttraining's l2: 0.000342309\ttraining's self_metric: 67.779\tvalid_0's l2: 0.000981431\tvalid_0's self_metric: -40.8786\n",
      "[80]\ttraining's l2: 0.000325291\ttraining's self_metric: 69.5405\tvalid_0's l2: 0.000981317\tvalid_0's self_metric: -42.616\n",
      "[90]\ttraining's l2: 0.000324641\ttraining's self_metric: 69.5957\tvalid_0's l2: 0.000981728\tvalid_0's self_metric: -42.7024\n",
      "[100]\ttraining's l2: 0.000324641\ttraining's self_metric: 69.5957\tvalid_0's l2: 0.000981728\tvalid_0's self_metric: -42.7024\n",
      "Early stopping, best iteration is:\n",
      "[5]\ttraining's l2: 0.00104388\ttraining's self_metric: 12.8064\tvalid_0's l2: 0.00105776\tvalid_0's self_metric: 8.26447\n",
      "Training until validation scores don't improve for 100 rounds\n",
      "[10]\ttraining's l2: 0.0141841\ttraining's self_metric: 52.1063\tvalid_0's l2: 0.0239381\tvalid_0's self_metric: -1755.48\n",
      "[20]\ttraining's l2: 0.0078977\ttraining's self_metric: 74.3724\tvalid_0's l2: 0.0177833\tvalid_0's self_metric: -1194.84\n",
      "[30]\ttraining's l2: 0.00482227\ttraining's self_metric: 84.8201\tvalid_0's l2: 0.0132611\tvalid_0's self_metric: -840.773\n",
      "[40]\ttraining's l2: 0.00322267\ttraining's self_metric: 90.0783\tvalid_0's l2: 0.0108786\tvalid_0's self_metric: -664.975\n",
      "[50]\ttraining's l2: 0.00234049\ttraining's self_metric: 92.8924\tvalid_0's l2: 0.00955414\tvalid_0's self_metric: -569.286\n",
      "[60]\ttraining's l2: 0.00183592\ttraining's self_metric: 94.4493\tvalid_0's l2: 0.00905838\tvalid_0's self_metric: -525.6\n",
      "[70]\ttraining's l2: 0.00147496\ttraining's self_metric: 95.543\tvalid_0's l2: 0.00850548\tvalid_0's self_metric: -484.692\n",
      "[80]\ttraining's l2: 0.00123682\ttraining's self_metric: 96.244\tvalid_0's l2: 0.00833857\tvalid_0's self_metric: -467.142\n",
      "[90]\ttraining's l2: 0.00104786\ttraining's self_metric: 96.7844\tvalid_0's l2: 0.00834462\tvalid_0's self_metric: -462.874\n",
      "[100]\ttraining's l2: 0.000911363\ttraining's self_metric: 97.1795\tvalid_0's l2: 0.00812875\tvalid_0's self_metric: -449.017\n",
      "[110]\ttraining's l2: 0.000810392\ttraining's self_metric: 97.4669\tvalid_0's l2: 0.00817248\tvalid_0's self_metric: -453.424\n",
      "[120]\ttraining's l2: 0.000732329\ttraining's self_metric: 97.6958\tvalid_0's l2: 0.00816354\tvalid_0's self_metric: -451.111\n",
      "[130]\ttraining's l2: 0.000672\ttraining's self_metric: 97.8669\tvalid_0's l2: 0.0081725\tvalid_0's self_metric: -452.067\n",
      "[140]\ttraining's l2: 0.000617304\ttraining's self_metric: 98.0224\tvalid_0's l2: 0.00817176\tvalid_0's self_metric: -453.83\n",
      "[150]\ttraining's l2: 0.00057618\ttraining's self_metric: 98.1429\tvalid_0's l2: 0.00831814\tvalid_0's self_metric: -464.934\n",
      "[160]\ttraining's l2: 0.000540045\ttraining's self_metric: 98.2478\tvalid_0's l2: 0.00836039\tvalid_0's self_metric: -467.312\n",
      "[170]\ttraining's l2: 0.000515433\ttraining's self_metric: 98.3196\tvalid_0's l2: 0.00837128\tvalid_0's self_metric: -469.148\n",
      "[180]\ttraining's l2: 0.000514213\ttraining's self_metric: 98.3231\tvalid_0's l2: 0.00837338\tvalid_0's self_metric: -469.247\n",
      "[190]\ttraining's l2: 0.000514213\ttraining's self_metric: 98.3231\tvalid_0's l2: 0.00837338\tvalid_0's self_metric: -469.247\n",
      "Early stopping, best iteration is:\n",
      "[99]\ttraining's l2: 0.000922283\ttraining's self_metric: 97.149\tvalid_0's l2: 0.00810171\tvalid_0's self_metric: -447.457\n",
      "Training until validation scores don't improve for 100 rounds\n",
      "[10]\ttraining's l2: 0.00516186\ttraining's self_metric: 45.837\tvalid_0's l2: 0.0606723\tvalid_0's self_metric: -650.979\n",
      "[20]\ttraining's l2: 0.00342249\ttraining's self_metric: 67.4552\tvalid_0's l2: 0.0586301\tvalid_0's self_metric: -623.012\n",
      "[30]\ttraining's l2: 0.00235251\ttraining's self_metric: 79.382\tvalid_0's l2: 0.0575234\tvalid_0's self_metric: -607.495\n",
      "[40]\ttraining's l2: 0.00173445\ttraining's self_metric: 85.6315\tvalid_0's l2: 0.0558362\tvalid_0's self_metric: -587.741\n",
      "[50]\ttraining's l2: 0.00131957\ttraining's self_metric: 89.3138\tvalid_0's l2: 0.0546333\tvalid_0's self_metric: -573.289\n",
      "[60]\ttraining's l2: 0.00105213\ttraining's self_metric: 91.5216\tvalid_0's l2: 0.0541481\tvalid_0's self_metric: -567.097\n",
      "[70]\ttraining's l2: 0.00088785\ttraining's self_metric: 93.0189\tvalid_0's l2: 0.0537981\tvalid_0's self_metric: -562.289\n",
      "[80]\ttraining's l2: 0.000772969\ttraining's self_metric: 94.0689\tvalid_0's l2: 0.053775\tvalid_0's self_metric: -561.861\n",
      "[90]\ttraining's l2: 0.000691613\ttraining's self_metric: 94.7407\tvalid_0's l2: 0.053433\tvalid_0's self_metric: -557.844\n",
      "[100]\ttraining's l2: 0.000620208\ttraining's self_metric: 95.2851\tvalid_0's l2: 0.0533163\tvalid_0's self_metric: -556.421\n",
      "[110]\ttraining's l2: 0.000555938\ttraining's self_metric: 95.706\tvalid_0's l2: 0.0533164\tvalid_0's self_metric: -556.587\n",
      "[120]\ttraining's l2: 0.000507024\ttraining's self_metric: 95.9855\tvalid_0's l2: 0.0533288\tvalid_0's self_metric: -556.633\n",
      "[130]\ttraining's l2: 0.000470246\ttraining's self_metric: 96.2366\tvalid_0's l2: 0.0533321\tvalid_0's self_metric: -556.559\n",
      "[140]\ttraining's l2: 0.000448646\ttraining's self_metric: 96.4634\tvalid_0's l2: 0.0532494\tvalid_0's self_metric: -555.294\n",
      "[150]\ttraining's l2: 0.000448431\ttraining's self_metric: 96.4661\tvalid_0's l2: 0.05325\tvalid_0's self_metric: -555.301\n",
      "[160]\ttraining's l2: 0.000448431\ttraining's self_metric: 96.4661\tvalid_0's l2: 0.05325\tvalid_0's self_metric: -555.301\n",
      "[170]\ttraining's l2: 0.000448431\ttraining's self_metric: 96.4661\tvalid_0's l2: 0.05325\tvalid_0's self_metric: -555.301\n",
      "[180]\ttraining's l2: 0.000448431\ttraining's self_metric: 96.4661\tvalid_0's l2: 0.05325\tvalid_0's self_metric: -555.301\n",
      "[190]\ttraining's l2: 0.000448431\ttraining's self_metric: 96.4661\tvalid_0's l2: 0.05325\tvalid_0's self_metric: -555.301\n",
      "[200]\ttraining's l2: 0.000448431\ttraining's self_metric: 96.4661\tvalid_0's l2: 0.05325\tvalid_0's self_metric: -555.301\n",
      "[210]\ttraining's l2: 0.000448431\ttraining's self_metric: 96.4661\tvalid_0's l2: 0.05325\tvalid_0's self_metric: -555.301\n",
      "[220]\ttraining's l2: 0.000448431\ttraining's self_metric: 96.4661\tvalid_0's l2: 0.05325\tvalid_0's self_metric: -555.301\n",
      "[230]\ttraining's l2: 0.000448431\ttraining's self_metric: 96.4661\tvalid_0's l2: 0.05325\tvalid_0's self_metric: -555.301\n",
      "Early stopping, best iteration is:\n",
      "[139]\ttraining's l2: 0.000450363\ttraining's self_metric: 96.456\tvalid_0's l2: 0.0532472\tvalid_0's self_metric: -555.27\n"
     ]
    }
   ],
   "source": [
    "params = {\n",
    "    'boosting_type': 'gbdt',\n",
    "    'objective': 'regression',\n",
    "    'num_leaves': 2 ** 5 - 1,\n",
    "    'reg_alpha': 0.25,\n",
    "    'reg_lambda': 0.25,\n",
    "    'metric': 'mse',\n",
    "    'n_estimators': 1000,\n",
    "    'learning_rate': 0.05,\n",
    "    'min_child_samples': 5,\n",
    "    'colsample_bytree': 0.7,\n",
    "    'random_state': 2019\n",
    "}\n",
    "\n",
    "model1 = lgb.train(params, lgb_train1, valid_sets=[lgb_valid1, lgb_train1], early_stopping_rounds=100, verbose_eval=10, feval=self_metric)\n",
    "model2 = lgb.train(params, lgb_train2, valid_sets=[lgb_valid2, lgb_train2], early_stopping_rounds=100, verbose_eval=10, feval=self_metric)\n",
    "model3 = lgb.train(params, lgb_train3, valid_sets=[lgb_valid3, lgb_train3], early_stopping_rounds=100, verbose_eval=10, feval=self_metric)"
   ]
  },
  {
   "cell_type": "code",
   "execution_count": 15,
   "metadata": {
    "ExecuteTime": {
     "end_time": "2020-09-28T15:16:34.495967Z",
     "start_time": "2020-09-28T15:16:34.432003Z"
    }
   },
   "outputs": [],
   "source": [
    "y_train1_pred = model1.predict(X_train1)\n",
    "y_test1_pred = model1.predict(X_test1)\n",
    "\n",
    "y_train2_pred = model2.predict(X_train2)\n",
    "y_test2_pred = model2.predict(X_test2)\n",
    "\n",
    "y_train3_pred = model3.predict(X_train3)\n",
    "y_test3_pred = model3.predict(X_test3)"
   ]
  },
  {
   "cell_type": "code",
   "execution_count": 16,
   "metadata": {
    "ExecuteTime": {
     "end_time": "2020-09-28T15:16:34.530947Z",
     "start_time": "2020-09-28T15:16:34.501962Z"
    }
   },
   "outputs": [
    {
     "name": "stdout",
     "output_type": "stream",
     "text": [
      "train 1:  -13281.63116737416\n",
      "train 2:  96.45287149240563\n",
      "train 3:  95.63418128292545\n"
     ]
    }
   ],
   "source": [
    "print('train 1: ', NSE(y_train1, y_train1_pred))\n",
    "print('train 2: ', NSE(y_train2, y_train2_pred))\n",
    "print('train 3: ', NSE(y_train3, y_train3_pred))"
   ]
  },
  {
   "cell_type": "code",
   "execution_count": 17,
   "metadata": {
    "ExecuteTime": {
     "end_time": "2020-09-28T15:16:34.549936Z",
     "start_time": "2020-09-28T15:16:34.535940Z"
    }
   },
   "outputs": [
    {
     "name": "stdout",
     "output_type": "stream",
     "text": [
      "test 1:  -177066.33487137058\n",
      "test 2:  -1439.662341835335\n",
      "test 3:  -25420.619905367905\n"
     ]
    }
   ],
   "source": [
    "print('test 1: ', NSE(y_test1, y_test1_pred))\n",
    "print('test 2: ', NSE(y_test2, y_test2_pred))\n",
    "print('test 3: ', NSE(y_test3, y_test3_pred))"
   ]
  },
  {
   "cell_type": "code",
   "execution_count": 18,
   "metadata": {
    "ExecuteTime": {
     "end_time": "2020-09-28T15:16:34.595905Z",
     "start_time": "2020-09-28T15:16:34.553938Z"
    }
   },
   "outputs": [],
   "source": [
    "cols = ['Prediction{}'.format(i) for i in range(1, 57)]\n",
    "\n",
    "sub1 = pd.DataFrame(y_test1_pred).T\n",
    "sub1.columns = cols\n",
    "sub1['SeqNum'] = 1\n",
    "sub1 = sub1[['SeqNum'] + cols]\n",
    "\n",
    "sub2 = pd.DataFrame(y_test2_pred).T\n",
    "sub2.columns = cols\n",
    "sub2['SeqNum'] = 2\n",
    "sub2 = sub1[['SeqNum'] + cols]\n",
    "\n",
    "sub3 = pd.DataFrame(y_test3_pred).T\n",
    "sub3.columns = cols\n",
    "sub3['SeqNum'] = 3\n",
    "sub3 = sub1[['SeqNum'] + cols]\n",
    "\n",
    "sub = pd.concat([sub1, sub2, sub3])\n",
    "sub.to_csv('../sub/sub.csv', index=False)"
   ]
  }
 ],
 "metadata": {
  "kernelspec": {
   "display_name": "Python 3",
   "language": "python",
   "name": "python3"
  },
  "language_info": {
   "codemirror_mode": {
    "name": "ipython",
    "version": 3
   },
   "file_extension": ".py",
   "mimetype": "text/x-python",
   "name": "python",
   "nbconvert_exporter": "python",
   "pygments_lexer": "ipython3",
   "version": "3.7.3"
  },
  "toc": {
   "base_numbering": 1,
   "nav_menu": {},
   "number_sections": true,
   "sideBar": true,
   "skip_h1_title": false,
   "title_cell": "Table of Contents",
   "title_sidebar": "Contents",
   "toc_cell": false,
   "toc_position": {},
   "toc_section_display": true,
   "toc_window_display": false
  }
 },
 "nbformat": 4,
 "nbformat_minor": 4
}
