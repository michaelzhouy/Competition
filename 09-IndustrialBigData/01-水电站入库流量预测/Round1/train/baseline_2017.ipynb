{
 "cells": [
  {
   "cell_type": "code",
   "execution_count": 1,
   "metadata": {
    "ExecuteTime": {
     "end_time": "2020-09-28T14:53:49.012627Z",
     "start_time": "2020-09-28T14:53:46.929571Z"
    }
   },
   "outputs": [],
   "source": [
    "import numpy as np\n",
    "import pandas as pd\n",
    "import lightgbm as lgb\n",
    "import warnings\n",
    "warnings.filterwarnings('ignore')"
   ]
  },
  {
   "cell_type": "code",
   "execution_count": 2,
   "metadata": {
    "ExecuteTime": {
     "end_time": "2020-09-28T14:53:49.024415Z",
     "start_time": "2020-09-28T14:53:49.015424Z"
    }
   },
   "outputs": [],
   "source": [
    "def NSE(y_pred, y_true):\n",
    "    y_mean = np.mean(y_true)\n",
    "    a = np.sum(np.square(y_true[:16] - y_pred[:16]))\n",
    "    b = np.sum(np.square(y_true[:16] - y_mean))\n",
    "    c = np.sum(np.square(y_true[16:] - y_pred[16:]))\n",
    "    d = np.sum(np.square(y_true[16:] - y_mean))\n",
    "    return 100 * (1 - 0.65 * a / b - 0.35 * c / d)"
   ]
  },
  {
   "cell_type": "code",
   "execution_count": 3,
   "metadata": {
    "ExecuteTime": {
     "end_time": "2020-09-28T14:53:49.790974Z",
     "start_time": "2020-09-28T14:53:49.030412Z"
    }
   },
   "outputs": [
    {
     "name": "stdout",
     "output_type": "stream",
     "text": [
      "(56, 2) (56, 2) (56, 2)\n"
     ]
    }
   ],
   "source": [
    "water = pd.read_excel('../input/入库流量数据.xlsx')\n",
    "\n",
    "y_test1 = water.loc[(water['TimeStample'] >= '2017-02-01 02:00:00') & (water['TimeStample'] <= '2017-02-07 23:00:00')]\n",
    "y_test2 = water.loc[(water['TimeStample'] >= '2017-08-01 02:00:00') & (water['TimeStample'] <= '2017-08-07 23:00:00')]\n",
    "y_test3 = water.loc[(water['TimeStample'] >= '2017-11-01 02:00:00') & (water['TimeStample'] <= '2017-11-07 23:00:00')]\n",
    "print(y_test1.shape, y_test2.shape, y_test3.shape)\n",
    "\n",
    "y_test1 = y_test1['Qi'].values\n",
    "y_test2 = y_test2['Qi'].values\n",
    "y_test3 = y_test3['Qi'].values"
   ]
  },
  {
   "cell_type": "code",
   "execution_count": 4,
   "metadata": {
    "ExecuteTime": {
     "end_time": "2020-09-28T14:53:49.819955Z",
     "start_time": "2020-09-28T14:53:49.795972Z"
    }
   },
   "outputs": [],
   "source": [
    "train_test1 = pd.read_csv('../input/train_test1_2017.csv')\n",
    "train_test2 = pd.read_csv('../input/train_test2_2017.csv')\n",
    "train_test3 = pd.read_csv('../input/train_test3_2017.csv')"
   ]
  },
  {
   "cell_type": "code",
   "execution_count": 5,
   "metadata": {
    "ExecuteTime": {
     "end_time": "2020-09-28T14:53:49.855938Z",
     "start_time": "2020-09-28T14:53:49.821956Z"
    }
   },
   "outputs": [
    {
     "data": {
      "text/html": [
       "<div>\n",
       "<style scoped>\n",
       "    .dataframe tbody tr th:only-of-type {\n",
       "        vertical-align: middle;\n",
       "    }\n",
       "\n",
       "    .dataframe tbody tr th {\n",
       "        vertical-align: top;\n",
       "    }\n",
       "\n",
       "    .dataframe thead th {\n",
       "        text-align: right;\n",
       "    }\n",
       "</style>\n",
       "<table border=\"1\" class=\"dataframe\">\n",
       "  <thead>\n",
       "    <tr style=\"text-align: right;\">\n",
       "      <th></th>\n",
       "      <th>TimeStample</th>\n",
       "      <th>Qi</th>\n",
       "    </tr>\n",
       "  </thead>\n",
       "  <tbody>\n",
       "    <tr>\n",
       "      <th>0</th>\n",
       "      <td>2017-01-01 02:00:00</td>\n",
       "      <td>0.083045</td>\n",
       "    </tr>\n",
       "    <tr>\n",
       "      <th>1</th>\n",
       "      <td>2017-01-01 05:00:00</td>\n",
       "      <td>0.087865</td>\n",
       "    </tr>\n",
       "    <tr>\n",
       "      <th>2</th>\n",
       "      <td>2017-01-01 08:00:00</td>\n",
       "      <td>0.074158</td>\n",
       "    </tr>\n",
       "    <tr>\n",
       "      <th>3</th>\n",
       "      <td>2017-01-01 11:00:00</td>\n",
       "      <td>0.062911</td>\n",
       "    </tr>\n",
       "    <tr>\n",
       "      <th>4</th>\n",
       "      <td>2017-01-01 14:00:00</td>\n",
       "      <td>0.040116</td>\n",
       "    </tr>\n",
       "  </tbody>\n",
       "</table>\n",
       "</div>"
      ],
      "text/plain": [
       "           TimeStample        Qi\n",
       "0  2017-01-01 02:00:00  0.083045\n",
       "1  2017-01-01 05:00:00  0.087865\n",
       "2  2017-01-01 08:00:00  0.074158\n",
       "3  2017-01-01 11:00:00  0.062911\n",
       "4  2017-01-01 14:00:00  0.040116"
      ]
     },
     "execution_count": 5,
     "metadata": {},
     "output_type": "execute_result"
    }
   ],
   "source": [
    "train_test1.head()"
   ]
  },
  {
   "cell_type": "code",
   "execution_count": 6,
   "metadata": {
    "ExecuteTime": {
     "end_time": "2020-09-28T14:53:49.884920Z",
     "start_time": "2020-09-28T14:53:49.858935Z"
    }
   },
   "outputs": [
    {
     "name": "stdout",
     "output_type": "stream",
     "text": [
      "<class 'pandas.core.frame.DataFrame'>\n",
      "RangeIndex: 304 entries, 0 to 303\n",
      "Data columns (total 2 columns):\n",
      " #   Column       Non-Null Count  Dtype  \n",
      "---  ------       --------------  -----  \n",
      " 0   TimeStample  304 non-null    object \n",
      " 1   Qi           248 non-null    float64\n",
      "dtypes: float64(1), object(1)\n",
      "memory usage: 4.9+ KB\n"
     ]
    }
   ],
   "source": [
    "train_test1.info()"
   ]
  },
  {
   "cell_type": "code",
   "execution_count": 7,
   "metadata": {
    "ExecuteTime": {
     "end_time": "2020-09-28T14:53:49.901910Z",
     "start_time": "2020-09-28T14:53:49.887918Z"
    }
   },
   "outputs": [],
   "source": [
    "data = [train_test1, train_test2, train_test3]\n",
    "for i in data:\n",
    "    i.sort_values(by='TimeStample', inplace=True)"
   ]
  },
  {
   "cell_type": "code",
   "execution_count": 8,
   "metadata": {
    "ExecuteTime": {
     "end_time": "2020-09-28T14:53:49.921903Z",
     "start_time": "2020-09-28T14:53:49.907908Z"
    }
   },
   "outputs": [],
   "source": [
    "stat_feat = []"
   ]
  },
  {
   "cell_type": "code",
   "execution_count": 9,
   "metadata": {
    "ExecuteTime": {
     "end_time": "2020-09-28T14:53:50.080808Z",
     "start_time": "2020-09-28T14:53:49.930896Z"
    }
   },
   "outputs": [],
   "source": [
    "for i in data:\n",
    "    # 5天\n",
    "    for j in range(1, 28):\n",
    "        i['Qi_shift{}'.format(j)] = i['Qi'].shift(j)\n",
    "        if j <= 16:\n",
    "            stat_feat.append('Qi_shift{}'.format(j))"
   ]
  },
  {
   "cell_type": "code",
   "execution_count": 10,
   "metadata": {
    "ExecuteTime": {
     "end_time": "2020-09-28T14:53:50.109792Z",
     "start_time": "2020-09-28T14:53:50.083807Z"
    }
   },
   "outputs": [
    {
     "data": {
      "text/html": [
       "<div>\n",
       "<style scoped>\n",
       "    .dataframe tbody tr th:only-of-type {\n",
       "        vertical-align: middle;\n",
       "    }\n",
       "\n",
       "    .dataframe tbody tr th {\n",
       "        vertical-align: top;\n",
       "    }\n",
       "\n",
       "    .dataframe thead th {\n",
       "        text-align: right;\n",
       "    }\n",
       "</style>\n",
       "<table border=\"1\" class=\"dataframe\">\n",
       "  <thead>\n",
       "    <tr style=\"text-align: right;\">\n",
       "      <th></th>\n",
       "      <th>Qi_shift1</th>\n",
       "      <th>Qi_shift2</th>\n",
       "      <th>Qi_shift3</th>\n",
       "      <th>Qi_shift4</th>\n",
       "    </tr>\n",
       "  </thead>\n",
       "  <tbody>\n",
       "    <tr>\n",
       "      <th>0</th>\n",
       "      <td>NaN</td>\n",
       "      <td>NaN</td>\n",
       "      <td>NaN</td>\n",
       "      <td>NaN</td>\n",
       "    </tr>\n",
       "    <tr>\n",
       "      <th>1</th>\n",
       "      <td>0.083045</td>\n",
       "      <td>NaN</td>\n",
       "      <td>NaN</td>\n",
       "      <td>NaN</td>\n",
       "    </tr>\n",
       "    <tr>\n",
       "      <th>2</th>\n",
       "      <td>0.087865</td>\n",
       "      <td>0.083045</td>\n",
       "      <td>NaN</td>\n",
       "      <td>NaN</td>\n",
       "    </tr>\n",
       "    <tr>\n",
       "      <th>3</th>\n",
       "      <td>0.074158</td>\n",
       "      <td>0.087865</td>\n",
       "      <td>0.083045</td>\n",
       "      <td>NaN</td>\n",
       "    </tr>\n",
       "    <tr>\n",
       "      <th>4</th>\n",
       "      <td>0.062911</td>\n",
       "      <td>0.074158</td>\n",
       "      <td>0.087865</td>\n",
       "      <td>0.083045</td>\n",
       "    </tr>\n",
       "  </tbody>\n",
       "</table>\n",
       "</div>"
      ],
      "text/plain": [
       "   Qi_shift1  Qi_shift2  Qi_shift3  Qi_shift4\n",
       "0        NaN        NaN        NaN        NaN\n",
       "1   0.083045        NaN        NaN        NaN\n",
       "2   0.087865   0.083045        NaN        NaN\n",
       "3   0.074158   0.087865   0.083045        NaN\n",
       "4   0.062911   0.074158   0.087865   0.083045"
      ]
     },
     "execution_count": 10,
     "metadata": {},
     "output_type": "execute_result"
    }
   ],
   "source": [
    "train_test1.loc[:, 'Qi_shift1': 'Qi_shift4'].head()"
   ]
  },
  {
   "cell_type": "code",
   "execution_count": 11,
   "metadata": {
    "ExecuteTime": {
     "end_time": "2020-09-28T14:53:50.474626Z",
     "start_time": "2020-09-28T14:53:50.114790Z"
    }
   },
   "outputs": [],
   "source": [
    "for i in data:\n",
    "    # 9小时\n",
    "    i['1_3_sum'] = i.loc[:, 'Qi_shift1': 'Qi_shift3'].sum(1)\n",
    "    i['1_3_mea'] = i.loc[:, 'Qi_shift1': 'Qi_shift3'].mean(1)\n",
    "    i['1_3_max'] = i.loc[:, 'Qi_shift1': 'Qi_shift3'].max(1)\n",
    "    i['1_3_min'] = i.loc[:, 'Qi_shift1': 'Qi_shift3'].min(1)\n",
    "    # 12小时\n",
    "    i['1_4_sum'] = i.loc[:, 'Qi_shift1': 'Qi_shift4'].sum(1)\n",
    "    i['1_4_mea'] = i.loc[:, 'Qi_shift1': 'Qi_shift4'].mean(1)\n",
    "    i['1_4_max'] = i.loc[:, 'Qi_shift1': 'Qi_shift4'].max(1)\n",
    "    i['1_4_min'] = i.loc[:, 'Qi_shift1': 'Qi_shift4'].min(1)\n",
    "    # 24个小时\n",
    "    i['1_8_sum'] = i.loc[:, 'Qi_shift1': 'Qi_shift8'].sum(1)\n",
    "    i['1_8_mea'] = i.loc[:, 'Qi_shift1': 'Qi_shift8'].mean(1)\n",
    "    i['1_8_max'] = i.loc[:, 'Qi_shift1': 'Qi_shift8'].max(1)\n",
    "    i['1_8_min'] = i.loc[:, 'Qi_shift1': 'Qi_shift8'].min(1)\n",
    "    # 36个小时\n",
    "    i['1_12_sum'] = i.loc[:, 'Qi_shift1': 'Qi_shift12'].sum(1)\n",
    "    i['1_12_mea'] = i.loc[:, 'Qi_shift1': 'Qi_shift12'].mean(1)\n",
    "    i['1_12_max'] = i.loc[:, 'Qi_shift1': 'Qi_shift12'].max(1)\n",
    "    i['1_12_min'] = i.loc[:, 'Qi_shift1': 'Qi_shift12'].min(1)\n",
    "    # 48个小时\n",
    "    i['1_16_sum'] = i.loc[:, 'Qi_shift1': 'Qi_shift16'].sum(1)\n",
    "    i['1_16_mea'] = i.loc[:, 'Qi_shift1': 'Qi_shift16'].mean(1)\n",
    "    i['1_16_max'] = i.loc[:, 'Qi_shift1': 'Qi_shift16'].max(1)\n",
    "    i['1_16_min'] = i.loc[:, 'Qi_shift1': 'Qi_shift16'].min(1)\n",
    "    \n",
    "    Qi_stat_feat = ['1_3_sum', '1_3_mea', '1_3_max', '1_3_min',\n",
    "                    '1_4_sum', '1_4_mea', '1_4_max', '1_4_min',\n",
    "                    '1_8_sum', '1_8_mea', '1_8_max', '1_8_min',\n",
    "                    '1_12_sum', '1_12_mea', '1_12_max', '1_12_min',\n",
    "                    '1_16_sum', '1_16_mea', '1_16_max', '1_16_min',]\n",
    "    stat_feat += Qi_stat_feat\n",
    "    \n",
    "    \n",
    "    # 趋势 diff\n",
    "    i['1_2_diff'] = i['Qi_shift1'] - i['Qi_shift2']\n",
    "    i['1_3_diff'] = i['Qi_shift1'] - i['Qi_shift3']\n",
    "    i['1_4_diff'] = i['Qi_shift1'] - i['Qi_shift4']\n",
    "    i['1_8_diff'] = i['Qi_shift1'] - i['Qi_shift8']\n",
    "    i['1_16_diff'] = i['Qi_shift1'] - i['Qi_shift16']\n",
    "    \n",
    "    i['2_3_diff'] = i['Qi_shift2'] - i['Qi_shift3']\n",
    "    i['2_4_diff'] = i['Qi_shift2'] - i['Qi_shift4']\n",
    "    i['2_5_diff'] = i['Qi_shift2'] - i['Qi_shift5']\n",
    "    i['2_9_diff'] = i['Qi_shift2'] - i['Qi_shift9']\n",
    "    i['2_17_diff'] = i['Qi_shift2'] - i['Qi_shift17']\n",
    "    \n",
    "    i['3_4_diff'] = i['Qi_shift3'] - i['Qi_shift4']\n",
    "    i['3_5_diff'] = i['Qi_shift3'] - i['Qi_shift5']\n",
    "    i['3_6_diff'] = i['Qi_shift3'] - i['Qi_shift6']\n",
    "    i['3_10_diff'] = i['Qi_shift3'] - i['Qi_shift10']\n",
    "    i['3_18_diff'] = i['Qi_shift3'] - i['Qi_shift18']\n",
    "    \n",
    "    trend_stat_feat = ['1_2_diff', '1_3_diff', '1_4_diff', '1_8_diff', '1_16_diff',\n",
    "                       '2_3_diff', '2_4_diff', '2_5_diff', '2_9_diff', '2_17_diff',\n",
    "                       '3_4_diff', '3_5_diff', '3_6_diff', '3_10_diff', '3_18_diff']\n",
    "    stat_feat += trend_stat_feat\n",
    "    \n",
    "    \n",
    "    # 环比\n",
    "    i['1_2_chain_rate'] = i['Qi_shift1'] / i['Qi_shift2']\n",
    "    i['2_3_chain_rate'] = i['Qi_shift2'] / i['Qi_shift3']\n",
    "    i['3_4_chain_rate'] = i['Qi_shift3'] / i['Qi_shift4']\n",
    "    i['4_5_chain_rate'] = i['Qi_shift4'] / i['Qi_shift5']\n",
    "    i['5_6_chain_rate'] = i['Qi_shift5'] / i['Qi_shift6']\n",
    "    chain_rate_stat_feat = ['1_2_chain_rate', '2_3_chain_rate', '3_4_chain_rate', '4_5_chain_rate', '5_6_chain_rate']\n",
    "    stat_feat += chain_rate_stat_feat\n",
    "    \n",
    "    # 环比比\n",
    "    i['1_2_chain_rate_2_3_chain_rate'] = i['1_2_chain_rate'] / i['2_3_chain_rate']\n",
    "    i['2_3_chain_rate_3_4_chain_rate'] = i['2_3_chain_rate'] / i['3_4_chain_rate']\n",
    "    i['3_4_chain_rate_4_5_chain_rate'] = i['3_4_chain_rate'] / i['4_5_chain_rate']\n",
    "    i['4_5_chain_rate_5_6_chain_rate'] = i['4_5_chain_rate'] / i['5_6_chain_rate']\n",
    "    chain_rate_rate_stat_feat = ['1_2_chain_rate_2_3_chain_rate', '2_3_chain_rate_3_4_chain_rate',\n",
    "                                 '3_4_chain_rate_4_5_chain_rate', '4_5_chain_rate_5_6_chain_rate']\n",
    "    stat_feat += chain_rate_rate_stat_feat\n",
    "    \n",
    "    # 同比\n",
    "    i['1_3_yoy'] = (i['Qi_shift1'] - i['Qi_shift3']) / i['Qi_shift3']\n",
    "    i['1_4_yoy'] = (i['Qi_shift1'] - i['Qi_shift4']) / i['Qi_shift4']\n",
    "    i['1_5_yoy'] = (i['Qi_shift1'] - i['Qi_shift5']) / i['Qi_shift5']\n",
    "    i['1_8_yoy'] = (i['Qi_shift1'] - i['Qi_shift8']) / i['Qi_shift8']\n",
    "    i['1_16_yoy'] = (i['Qi_shift1'] - i['Qi_shift16']) / i['Qi_shift16']\n",
    "    i['1_24_yoy'] = (i['Qi_shift1'] - i['Qi_shift24']) / i['Qi_shift24']\n",
    "    \n",
    "    i['2_4_yoy'] = (i['Qi_shift2'] - i['Qi_shift4']) / i['Qi_shift4']\n",
    "    i['2_5_yoy'] = (i['Qi_shift2'] - i['Qi_shift5']) / i['Qi_shift5']\n",
    "    i['2_6_yoy'] = (i['Qi_shift2'] - i['Qi_shift6']) / i['Qi_shift6']\n",
    "    i['2_9_yoy'] = (i['Qi_shift2'] - i['Qi_shift9']) / i['Qi_shift9']\n",
    "    i['2_17_yoy'] = (i['Qi_shift2'] - i['Qi_shift17']) / i['Qi_shift17']\n",
    "    i['2_25_yoy'] = (i['Qi_shift2'] - i['Qi_shift25']) / i['Qi_shift25']\n",
    "    yoy_stat_feat = ['1_3_yoy', '1_4_yoy', '1_5_yoy', '1_8_yoy', '1_16_yoy', '1_24_yoy',\n",
    "                     '2_4_yoy', '2_5_yoy', '2_6_yoy', '2_9_yoy', '2_17_yoy', '2_25_yoy']\n",
    "    stat_feat += yoy_stat_feat"
   ]
  },
  {
   "cell_type": "code",
   "execution_count": 12,
   "metadata": {
    "ExecuteTime": {
     "end_time": "2020-09-28T14:53:50.521570Z",
     "start_time": "2020-09-28T14:53:50.476597Z"
    }
   },
   "outputs": [],
   "source": [
    "train1 = train_test1.loc[train_test1['Qi'].notnull(), :]\n",
    "test1 = train_test1.loc[train_test1['Qi'].isnull(), :]\n",
    "# sub1 = test1[['TimeStamp']]\n",
    "\n",
    "train2 = train_test2.loc[train_test2['Qi'].notnull(), :]\n",
    "test2 = train_test2.loc[train_test2['Qi'].isnull(), :]\n",
    "# sub2 = test2[['TimeStamp']]\n",
    "\n",
    "train3 = train_test3.loc[train_test3['Qi'].notnull(), :]\n",
    "test3 = train_test3.loc[train_test3['Qi'].isnull(), :]\n",
    "# sub3 = test3[['TimeStamp']]\n",
    "\n",
    "\n",
    "X_train1 = train1[stat_feat]\n",
    "y_train1 = train1['Qi']\n",
    "X_test1 = test1[stat_feat]\n",
    "\n",
    "X_train2 = train2[stat_feat]\n",
    "y_train2 = train2['Qi']\n",
    "X_test2 = test2[stat_feat]\n",
    "\n",
    "X_train3 = train3[stat_feat]\n",
    "y_train3 = train3['Qi']\n",
    "X_test3 = test3[stat_feat]\n",
    "\n",
    "lgb_train1 = lgb.Dataset(X_train1, y_train1)\n",
    "lgb_train2 = lgb.Dataset(X_train2, y_train2)\n",
    "lgb_train3 = lgb.Dataset(X_train3, y_train3)"
   ]
  },
  {
   "cell_type": "code",
   "execution_count": 13,
   "metadata": {
    "ExecuteTime": {
     "end_time": "2020-09-28T14:53:53.142218Z",
     "start_time": "2020-09-28T14:53:50.523554Z"
    }
   },
   "outputs": [],
   "source": [
    "params = {'boosting_type': 'gbdt',\n",
    "          'objective': 'regression',\n",
    "          'metric': 'mae',\n",
    "          'learning_rate': 0.05,\n",
    "          'seed': 2020}\n",
    "\n",
    "params = {\n",
    "    'boosting_type': 'gbdt',\n",
    "    'objective': 'regression',\n",
    "    'num_leaves': 2 ** 5 - 1,\n",
    "    'reg_alpha': 0.25,\n",
    "    'reg_lambda': 0.25,\n",
    "    'metric': 'mse',\n",
    "    'n_estimators': 300,\n",
    "    'learning_rate': 0.05,\n",
    "    'min_child_samples': 5,\n",
    "    'colsample_bytree': 0.7,\n",
    "    'random_state': 2020\n",
    "}\n",
    "\n",
    "model1 = lgb.train(params, lgb_train1)\n",
    "model2 = lgb.train(params, lgb_train2)\n",
    "model3 = lgb.train(params, lgb_train3)"
   ]
  },
  {
   "cell_type": "code",
   "execution_count": 14,
   "metadata": {
    "ExecuteTime": {
     "end_time": "2020-09-28T14:53:53.205184Z",
     "start_time": "2020-09-28T14:53:53.145216Z"
    }
   },
   "outputs": [],
   "source": [
    "y_train1_pred = model1.predict(X_train1)\n",
    "y_test1_pred = model1.predict(X_test1)\n",
    "\n",
    "y_train2_pred = model2.predict(X_train2)\n",
    "y_test2_pred = model2.predict(X_test2)\n",
    "\n",
    "y_train3_pred = model3.predict(X_train3)\n",
    "y_test3_pred = model3.predict(X_test3)"
   ]
  },
  {
   "cell_type": "code",
   "execution_count": 15,
   "metadata": {
    "ExecuteTime": {
     "end_time": "2020-09-28T14:53:53.226171Z",
     "start_time": "2020-09-28T14:53:53.208181Z"
    }
   },
   "outputs": [
    {
     "name": "stdout",
     "output_type": "stream",
     "text": [
      "train 1:  15.884665457435847\n",
      "train 2:  98.53221855865976\n",
      "train 3:  98.39642080191159\n"
     ]
    }
   ],
   "source": [
    "print('train 1: ', NSE(y_train1, y_train1_pred))\n",
    "print('train 2: ', NSE(y_train2, y_train2_pred))\n",
    "print('train 3: ', NSE(y_train3, y_train3_pred))"
   ]
  },
  {
   "cell_type": "code",
   "execution_count": 16,
   "metadata": {
    "ExecuteTime": {
     "end_time": "2020-09-28T14:53:53.255155Z",
     "start_time": "2020-09-28T14:53:53.233168Z"
    }
   },
   "outputs": [
    {
     "name": "stdout",
     "output_type": "stream",
     "text": [
      "test 1:  -13755731.53937047\n",
      "test 2:  -1028.9309751097496\n",
      "test 3:  -2323.5534003156745\n"
     ]
    }
   ],
   "source": [
    "print('test 1: ', NSE(y_test1, y_test1_pred))\n",
    "print('test 2: ', NSE(y_test2, y_test2_pred))\n",
    "print('test 3: ', NSE(y_test3, y_test3_pred))"
   ]
  },
  {
   "cell_type": "code",
   "execution_count": 17,
   "metadata": {
    "ExecuteTime": {
     "end_time": "2020-09-28T14:53:53.306125Z",
     "start_time": "2020-09-28T14:53:53.260152Z"
    }
   },
   "outputs": [],
   "source": [
    "cols = ['Prediction{}'.format(i) for i in range(1, 57)]\n",
    "\n",
    "sub1 = pd.DataFrame(y_test1_pred).T\n",
    "sub1.columns = cols\n",
    "sub1['SeqNum'] = 1\n",
    "sub1 = sub1[['SeqNum'] + cols]\n",
    "\n",
    "sub2 = pd.DataFrame(y_test2_pred).T\n",
    "sub2.columns = cols\n",
    "sub2['SeqNum'] = 2\n",
    "sub2 = sub1[['SeqNum'] + cols]\n",
    "\n",
    "sub3 = pd.DataFrame(y_test3_pred).T\n",
    "sub3.columns = cols\n",
    "sub3['SeqNum'] = 3\n",
    "sub3 = sub1[['SeqNum'] + cols]\n",
    "\n",
    "sub = pd.concat([sub1, sub2, sub3])\n",
    "sub.to_csv('../sub/sub.csv', index=False)"
   ]
  }
 ],
 "metadata": {
  "kernelspec": {
   "display_name": "Python 3",
   "language": "python",
   "name": "python3"
  },
  "language_info": {
   "codemirror_mode": {
    "name": "ipython",
    "version": 3
   },
   "file_extension": ".py",
   "mimetype": "text/x-python",
   "name": "python",
   "nbconvert_exporter": "python",
   "pygments_lexer": "ipython3",
   "version": "3.7.3"
  },
  "toc": {
   "base_numbering": 1,
   "nav_menu": {},
   "number_sections": true,
   "sideBar": true,
   "skip_h1_title": false,
   "title_cell": "Table of Contents",
   "title_sidebar": "Contents",
   "toc_cell": false,
   "toc_position": {},
   "toc_section_display": true,
   "toc_window_display": false
  }
 },
 "nbformat": 4,
 "nbformat_minor": 4
}
