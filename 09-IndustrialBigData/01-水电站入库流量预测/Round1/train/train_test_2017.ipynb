{
 "cells": [
  {
   "cell_type": "code",
   "execution_count": 1,
   "metadata": {
    "ExecuteTime": {
     "end_time": "2020-09-29T07:26:53.591828Z",
     "start_time": "2020-09-29T07:26:52.758881Z"
    }
   },
   "outputs": [],
   "source": [
    "import numpy as np\n",
    "import pandas as pd\n",
    "import lightgbm as lgb\n",
    "import warnings\n",
    "warnings.filterwarnings('ignore')"
   ]
  },
  {
   "cell_type": "code",
   "execution_count": 2,
   "metadata": {
    "ExecuteTime": {
     "end_time": "2020-09-29T07:26:54.086501Z",
     "start_time": "2020-09-29T07:26:53.593780Z"
    }
   },
   "outputs": [
    {
     "data": {
      "text/html": [
       "<div>\n",
       "<style scoped>\n",
       "    .dataframe tbody tr th:only-of-type {\n",
       "        vertical-align: middle;\n",
       "    }\n",
       "\n",
       "    .dataframe tbody tr th {\n",
       "        vertical-align: top;\n",
       "    }\n",
       "\n",
       "    .dataframe thead th {\n",
       "        text-align: right;\n",
       "    }\n",
       "</style>\n",
       "<table border=\"1\" class=\"dataframe\">\n",
       "  <thead>\n",
       "    <tr style=\"text-align: right;\">\n",
       "      <th></th>\n",
       "      <th>TimeStample</th>\n",
       "      <th>Qi</th>\n",
       "    </tr>\n",
       "  </thead>\n",
       "  <tbody>\n",
       "    <tr>\n",
       "      <th>0</th>\n",
       "      <td>2013-01-01 02:00:00</td>\n",
       "      <td>0.018201</td>\n",
       "    </tr>\n",
       "    <tr>\n",
       "      <th>1</th>\n",
       "      <td>2013-01-01 05:00:00</td>\n",
       "      <td>0.018196</td>\n",
       "    </tr>\n",
       "    <tr>\n",
       "      <th>2</th>\n",
       "      <td>2013-01-01 08:00:00</td>\n",
       "      <td>0.030095</td>\n",
       "    </tr>\n",
       "    <tr>\n",
       "      <th>3</th>\n",
       "      <td>2013-01-01 11:00:00</td>\n",
       "      <td>0.123196</td>\n",
       "    </tr>\n",
       "    <tr>\n",
       "      <th>4</th>\n",
       "      <td>2013-01-01 14:00:00</td>\n",
       "      <td>0.133178</td>\n",
       "    </tr>\n",
       "  </tbody>\n",
       "</table>\n",
       "</div>"
      ],
      "text/plain": [
       "          TimeStample        Qi\n",
       "0 2013-01-01 02:00:00  0.018201\n",
       "1 2013-01-01 05:00:00  0.018196\n",
       "2 2013-01-01 08:00:00  0.030095\n",
       "3 2013-01-01 11:00:00  0.123196\n",
       "4 2013-01-01 14:00:00  0.133178"
      ]
     },
     "execution_count": 2,
     "metadata": {},
     "output_type": "execute_result"
    }
   ],
   "source": [
    "water = pd.read_excel('../input/入库流量数据.xlsx')\n",
    "water.head()"
   ]
  },
  {
   "cell_type": "code",
   "execution_count": 3,
   "metadata": {
    "ExecuteTime": {
     "end_time": "2020-09-29T07:26:54.097472Z",
     "start_time": "2020-09-29T07:26:54.088496Z"
    }
   },
   "outputs": [
    {
     "name": "stdout",
     "output_type": "stream",
     "text": [
      "<class 'pandas.core.frame.DataFrame'>\n",
      "RangeIndex: 15019 entries, 0 to 15018\n",
      "Data columns (total 2 columns):\n",
      " #   Column       Non-Null Count  Dtype         \n",
      "---  ------       --------------  -----         \n",
      " 0   TimeStample  15019 non-null  datetime64[ns]\n",
      " 1   Qi           15019 non-null  float64       \n",
      "dtypes: datetime64[ns](1), float64(1)\n",
      "memory usage: 234.8 KB\n"
     ]
    }
   ],
   "source": [
    "water.info()"
   ]
  },
  {
   "cell_type": "code",
   "execution_count": 4,
   "metadata": {
    "ExecuteTime": {
     "end_time": "2020-09-29T07:26:54.112431Z",
     "start_time": "2020-09-29T07:26:54.099467Z"
    }
   },
   "outputs": [
    {
     "name": "stdout",
     "output_type": "stream",
     "text": [
      "(248, 2) (248, 2) (248, 2)\n",
      "(56, 1) (56, 1) (56, 1)\n"
     ]
    }
   ],
   "source": [
    "train1 = water.loc[(water['TimeStample'] >= '2017-01-01 02:00:00') & (water['TimeStample'] < '2017-02-01 00:00:00')]\n",
    "train2 = water.loc[(water['TimeStample'] >= '2017-07-01 02:00:00') & (water['TimeStample'] < '2017-08-01 00:00:00')]\n",
    "train3 = water.loc[(water['TimeStample'] >= '2017-10-01 02:00:00') & (water['TimeStample'] < '2017-11-01 00:00:00')]\n",
    "print(train1.shape, train2.shape, train3.shape)\n",
    "\n",
    "\n",
    "test1 = pd.DataFrame({'TimeStample': pd.date_range(start='2018-02-01 02:00:00', periods=56, freq='3h')})\n",
    "test2 = pd.DataFrame({'TimeStample': pd.date_range(start='2018-08-01 02:00:00', periods=56, freq='3h')})\n",
    "test3 = pd.DataFrame({'TimeStample': pd.date_range(start='2018-11-01 02:00:00', periods=56, freq='3h')})\n",
    "print(test1.shape, test2.shape, test3.shape)"
   ]
  },
  {
   "cell_type": "code",
   "execution_count": 5,
   "metadata": {
    "ExecuteTime": {
     "end_time": "2020-09-29T07:26:54.121407Z",
     "start_time": "2020-09-29T07:26:54.114427Z"
    }
   },
   "outputs": [],
   "source": [
    "# y_train1 = water.loc[(water['TimeStample'] >= '2017-02-01 02:00:00') & (water['TimeStample'] <= '2017-02-07 23:00:00')]\n",
    "# y_train2 = water.loc[(water['TimeStample'] >= '2017-08-01 02:00:00') & (water['TimeStample'] <= '2017-08-07 23:00:00')]\n",
    "# y_train3 = water.loc[(water['TimeStample'] >= '2017-11-01 02:00:00') & (water['TimeStample'] <= '2017-11-07 23:00:00')]\n",
    "# print(y_train1.shape, y_train2.shape, y_train3.shape)\n",
    "\n",
    "# y_train1 = y_train1['Qi'].values\n",
    "# y_train2 = y_train2['Qi'].values\n",
    "# y_train3 = y_train3['Qi'].values"
   ]
  },
  {
   "cell_type": "code",
   "execution_count": 6,
   "metadata": {
    "ExecuteTime": {
     "end_time": "2020-09-29T07:26:54.138362Z",
     "start_time": "2020-09-29T07:26:54.122410Z"
    }
   },
   "outputs": [
    {
     "data": {
      "text/plain": [
       "(304, 2)"
      ]
     },
     "execution_count": 6,
     "metadata": {},
     "output_type": "execute_result"
    }
   ],
   "source": [
    "train_test1 = pd.concat([train1, test1], ignore_index=True, axis=0)\n",
    "train_test2 = pd.concat([train2, test2], ignore_index=True, axis=0)\n",
    "train_test3 = pd.concat([train3, test3], ignore_index=True, axis=0)\n",
    "train_test1.shape"
   ]
  },
  {
   "cell_type": "code",
   "execution_count": 7,
   "metadata": {
    "ExecuteTime": {
     "end_time": "2020-09-29T07:26:54.161300Z",
     "start_time": "2020-09-29T07:26:54.140357Z"
    }
   },
   "outputs": [],
   "source": [
    "train_test1.to_csv('../input/train_test1_2017.csv', index=False)\n",
    "train_test2.to_csv('../input/train_test2_2017.csv', index=False)\n",
    "train_test3.to_csv('../input/train_test3_2017.csv', index=False)"
   ]
  }
 ],
 "metadata": {
  "kernelspec": {
   "display_name": "Python 3",
   "language": "python",
   "name": "python3"
  },
  "language_info": {
   "codemirror_mode": {
    "name": "ipython",
    "version": 3
   },
   "file_extension": ".py",
   "mimetype": "text/x-python",
   "name": "python",
   "nbconvert_exporter": "python",
   "pygments_lexer": "ipython3",
   "version": "3.7.3"
  },
  "toc": {
   "base_numbering": 1,
   "nav_menu": {},
   "number_sections": true,
   "sideBar": true,
   "skip_h1_title": false,
   "title_cell": "Table of Contents",
   "title_sidebar": "Contents",
   "toc_cell": false,
   "toc_position": {},
   "toc_section_display": true,
   "toc_window_display": false
  }
 },
 "nbformat": 4,
 "nbformat_minor": 4
}
