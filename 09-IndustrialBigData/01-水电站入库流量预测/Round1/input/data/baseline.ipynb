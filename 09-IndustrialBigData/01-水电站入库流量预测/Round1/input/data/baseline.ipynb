{
 "cells": [
  {
   "cell_type": "code",
   "execution_count": 1,
   "metadata": {
    "ExecuteTime": {
     "end_time": "2020-09-07T05:32:32.490327Z",
     "start_time": "2020-09-07T05:32:31.692939Z"
    }
   },
   "outputs": [],
   "source": [
    "import numpy as np\n",
    "import pandas as pd\n",
    "import lightgbm as lgb\n",
    "import warnings\n",
    "warnings.filterwarnings('ignore')"
   ]
  },
  {
   "cell_type": "code",
   "execution_count": 2,
   "metadata": {
    "ExecuteTime": {
     "end_time": "2020-09-07T05:32:32.497236Z",
     "start_time": "2020-09-07T05:32:32.492249Z"
    }
   },
   "outputs": [],
   "source": [
    "def NSE(y_pred, y_true):\n",
    "    y_mean = np.mean(y_true)\n",
    "    a = np.sum(np.square(y_true[:16] - y_pred[:16]))\n",
    "    b = np.sum(np.square(y_true[:16] - y_mean))\n",
    "    c = np.sum(np.square(y_true[16:] - y_pred[16:]))\n",
    "    d = np.sum(np.square(y_true[16:] - y_mean))\n",
    "    return 100 * (1 - 0.65 * a / b - 0.35 * c / d)"
   ]
  },
  {
   "cell_type": "code",
   "execution_count": 3,
   "metadata": {
    "ExecuteTime": {
     "end_time": "2020-09-07T05:32:47.078519Z",
     "start_time": "2020-09-07T05:32:32.498779Z"
    }
   },
   "outputs": [
    {
     "name": "stdout",
     "output_type": "stream",
     "text": [
      "<class 'pandas.core.frame.DataFrame'>\n",
      "RangeIndex: 46056 entries, 0 to 46055\n",
      "Data columns (total 40 columns):\n",
      " #   Column       Non-Null Count  Dtype         \n",
      "---  ------       --------------  -----         \n",
      " 0   TimeStample  46056 non-null  datetime64[ns]\n",
      " 1   R1           46056 non-null  float64       \n",
      " 2   R2           46056 non-null  float64       \n",
      " 3   R3           46056 non-null  float64       \n",
      " 4   R4           46056 non-null  float64       \n",
      " 5   R5           46056 non-null  float64       \n",
      " 6   R6           46056 non-null  float64       \n",
      " 7   R7           46056 non-null  float64       \n",
      " 8   R8           46056 non-null  float64       \n",
      " 9   R9           46056 non-null  float64       \n",
      " 10  R10          46056 non-null  float64       \n",
      " 11  R11          46056 non-null  float64       \n",
      " 12  R12          46056 non-null  float64       \n",
      " 13  R13          46056 non-null  float64       \n",
      " 14  R14          46056 non-null  float64       \n",
      " 15  R15          46056 non-null  float64       \n",
      " 16  R16          46056 non-null  float64       \n",
      " 17  R17          46056 non-null  float64       \n",
      " 18  R18          46056 non-null  float64       \n",
      " 19  R19          46056 non-null  float64       \n",
      " 20  R20          46056 non-null  float64       \n",
      " 21  R21          46056 non-null  float64       \n",
      " 22  R22          46056 non-null  float64       \n",
      " 23  R23          46056 non-null  float64       \n",
      " 24  R24          46056 non-null  float64       \n",
      " 25  R25          46056 non-null  float64       \n",
      " 26  R26          46056 non-null  float64       \n",
      " 27  R27          46056 non-null  float64       \n",
      " 28  R28          46056 non-null  float64       \n",
      " 29  R29          46056 non-null  float64       \n",
      " 30  R30          46056 non-null  float64       \n",
      " 31  R31          46056 non-null  float64       \n",
      " 32  R32          46056 non-null  float64       \n",
      " 33  R33          46056 non-null  float64       \n",
      " 34  R34          46056 non-null  float64       \n",
      " 35  R35          46056 non-null  float64       \n",
      " 36  R36          46056 non-null  float64       \n",
      " 37  R37          46056 non-null  float64       \n",
      " 38  R38          46056 non-null  float64       \n",
      " 39  R39          46056 non-null  float64       \n",
      "dtypes: datetime64[ns](1), float64(39)\n",
      "memory usage: 14.1 MB\n"
     ]
    }
   ],
   "source": [
    "station_rain = pd.read_excel('../遥测站降雨数据.xlsx')\n",
    "station_rain.info()"
   ]
  },
  {
   "cell_type": "code",
   "execution_count": 4,
   "metadata": {
    "ExecuteTime": {
     "end_time": "2020-09-07T05:32:47.223688Z",
     "start_time": "2020-09-07T05:32:47.079516Z"
    }
   },
   "outputs": [
    {
     "data": {
      "text/html": [
       "<div>\n",
       "<style scoped>\n",
       "    .dataframe tbody tr th:only-of-type {\n",
       "        vertical-align: middle;\n",
       "    }\n",
       "\n",
       "    .dataframe tbody tr th {\n",
       "        vertical-align: top;\n",
       "    }\n",
       "\n",
       "    .dataframe thead th {\n",
       "        text-align: right;\n",
       "    }\n",
       "</style>\n",
       "<table border=\"1\" class=\"dataframe\">\n",
       "  <thead>\n",
       "    <tr style=\"text-align: right;\">\n",
       "      <th></th>\n",
       "      <th>D1</th>\n",
       "      <th>D2</th>\n",
       "      <th>D3</th>\n",
       "      <th>D4</th>\n",
       "      <th>D5</th>\n",
       "      <th>dt</th>\n",
       "    </tr>\n",
       "  </thead>\n",
       "  <tbody>\n",
       "    <tr>\n",
       "      <th>0</th>\n",
       "      <td>0.0625</td>\n",
       "      <td>0.018182</td>\n",
       "      <td>0.014286</td>\n",
       "      <td>0.10</td>\n",
       "      <td>0.1</td>\n",
       "      <td>2013-03-11</td>\n",
       "    </tr>\n",
       "    <tr>\n",
       "      <th>1</th>\n",
       "      <td>0.1250</td>\n",
       "      <td>0.000000</td>\n",
       "      <td>0.014286</td>\n",
       "      <td>0.20</td>\n",
       "      <td>0.1</td>\n",
       "      <td>2013-03-12</td>\n",
       "    </tr>\n",
       "    <tr>\n",
       "      <th>2</th>\n",
       "      <td>0.0250</td>\n",
       "      <td>0.090909</td>\n",
       "      <td>0.142857</td>\n",
       "      <td>0.10</td>\n",
       "      <td>0.0</td>\n",
       "      <td>2013-03-13</td>\n",
       "    </tr>\n",
       "    <tr>\n",
       "      <th>3</th>\n",
       "      <td>0.0375</td>\n",
       "      <td>0.181818</td>\n",
       "      <td>0.071429</td>\n",
       "      <td>0.00</td>\n",
       "      <td>0.1</td>\n",
       "      <td>2013-03-14</td>\n",
       "    </tr>\n",
       "    <tr>\n",
       "      <th>4</th>\n",
       "      <td>0.1000</td>\n",
       "      <td>0.036364</td>\n",
       "      <td>0.000000</td>\n",
       "      <td>0.16</td>\n",
       "      <td>0.1</td>\n",
       "      <td>2013-03-15</td>\n",
       "    </tr>\n",
       "  </tbody>\n",
       "</table>\n",
       "</div>"
      ],
      "text/plain": [
       "       D1        D2        D3    D4   D5          dt\n",
       "0  0.0625  0.018182  0.014286  0.10  0.1  2013-03-11\n",
       "1  0.1250  0.000000  0.014286  0.20  0.1  2013-03-12\n",
       "2  0.0250  0.090909  0.142857  0.10  0.0  2013-03-13\n",
       "3  0.0375  0.181818  0.071429  0.00  0.1  2013-03-14\n",
       "4  0.1000  0.036364  0.000000  0.16  0.1  2013-03-15"
      ]
     },
     "execution_count": 4,
     "metadata": {},
     "output_type": "execute_result"
    }
   ],
   "source": [
    "rain = pd.read_excel('../降雨预报数据.xlsx')\n",
    "rain['dt'] = rain['TimeStample'].dt.strftime('%Y-%m-%d')\n",
    "rain.drop('TimeStample', axis=1, inplace=True)\n",
    "rain.head()"
   ]
  },
  {
   "cell_type": "code",
   "execution_count": 5,
   "metadata": {
    "ExecuteTime": {
     "end_time": "2020-09-07T05:32:47.231653Z",
     "start_time": "2020-09-07T05:32:47.224681Z"
    }
   },
   "outputs": [
    {
     "name": "stdout",
     "output_type": "stream",
     "text": [
      "<class 'pandas.core.frame.DataFrame'>\n",
      "RangeIndex: 1836 entries, 0 to 1835\n",
      "Data columns (total 6 columns):\n",
      " #   Column  Non-Null Count  Dtype  \n",
      "---  ------  --------------  -----  \n",
      " 0   D1      1836 non-null   float64\n",
      " 1   D2      1836 non-null   float64\n",
      " 2   D3      1836 non-null   float64\n",
      " 3   D4      1836 non-null   float64\n",
      " 4   D5      1836 non-null   float64\n",
      " 5   dt      1836 non-null   object \n",
      "dtypes: float64(5), object(1)\n",
      "memory usage: 86.2+ KB\n"
     ]
    }
   ],
   "source": [
    "rain.info()"
   ]
  },
  {
   "cell_type": "code",
   "execution_count": 6,
   "metadata": {
    "ExecuteTime": {
     "end_time": "2020-09-07T05:32:47.374284Z",
     "start_time": "2020-09-07T05:32:47.233623Z"
    }
   },
   "outputs": [
    {
     "data": {
      "text/html": [
       "<div>\n",
       "<style scoped>\n",
       "    .dataframe tbody tr th:only-of-type {\n",
       "        vertical-align: middle;\n",
       "    }\n",
       "\n",
       "    .dataframe tbody tr th {\n",
       "        vertical-align: top;\n",
       "    }\n",
       "\n",
       "    .dataframe thead th {\n",
       "        text-align: right;\n",
       "    }\n",
       "</style>\n",
       "<table border=\"1\" class=\"dataframe\">\n",
       "  <thead>\n",
       "    <tr style=\"text-align: right;\">\n",
       "      <th></th>\n",
       "      <th>dt</th>\n",
       "      <th>T</th>\n",
       "      <th>w</th>\n",
       "      <th>wd</th>\n",
       "    </tr>\n",
       "  </thead>\n",
       "  <tbody>\n",
       "    <tr>\n",
       "      <th>0</th>\n",
       "      <td>2013-01-01</td>\n",
       "      <td>0.168571</td>\n",
       "      <td>0.173913</td>\n",
       "      <td>999012</td>\n",
       "    </tr>\n",
       "    <tr>\n",
       "      <th>1</th>\n",
       "      <td>2013-01-02</td>\n",
       "      <td>0.157143</td>\n",
       "      <td>0.478261</td>\n",
       "      <td>999004</td>\n",
       "    </tr>\n",
       "    <tr>\n",
       "      <th>2</th>\n",
       "      <td>2013-01-03</td>\n",
       "      <td>0.128571</td>\n",
       "      <td>0.717391</td>\n",
       "      <td>999004</td>\n",
       "    </tr>\n",
       "    <tr>\n",
       "      <th>3</th>\n",
       "      <td>2013-01-04</td>\n",
       "      <td>0.037143</td>\n",
       "      <td>0.304348</td>\n",
       "      <td>999003</td>\n",
       "    </tr>\n",
       "    <tr>\n",
       "      <th>4</th>\n",
       "      <td>2013-01-05</td>\n",
       "      <td>0.071429</td>\n",
       "      <td>0.239130</td>\n",
       "      <td>999003</td>\n",
       "    </tr>\n",
       "  </tbody>\n",
       "</table>\n",
       "</div>"
      ],
      "text/plain": [
       "           dt         T         w      wd\n",
       "0  2013-01-01  0.168571  0.173913  999012\n",
       "1  2013-01-02  0.157143  0.478261  999004\n",
       "2  2013-01-03  0.128571  0.717391  999004\n",
       "3  2013-01-04  0.037143  0.304348  999003\n",
       "4  2013-01-05  0.071429  0.239130  999003"
      ]
     },
     "execution_count": 6,
     "metadata": {},
     "output_type": "execute_result"
    }
   ],
   "source": [
    "environment = pd.read_excel('../环境表.xlsx')\n",
    "environment.rename(columns={'TimeStample': 'dt'}, inplace=True)\n",
    "environment.head()"
   ]
  },
  {
   "cell_type": "code",
   "execution_count": 7,
   "metadata": {
    "ExecuteTime": {
     "end_time": "2020-09-07T05:32:47.383222Z",
     "start_time": "2020-09-07T05:32:47.376241Z"
    }
   },
   "outputs": [
    {
     "name": "stdout",
     "output_type": "stream",
     "text": [
      "<class 'pandas.core.frame.DataFrame'>\n",
      "RangeIndex: 1919 entries, 0 to 1918\n",
      "Data columns (total 4 columns):\n",
      " #   Column  Non-Null Count  Dtype  \n",
      "---  ------  --------------  -----  \n",
      " 0   dt      1919 non-null   object \n",
      " 1   T       1914 non-null   float64\n",
      " 2   w       1914 non-null   float64\n",
      " 3   wd      1919 non-null   int64  \n",
      "dtypes: float64(2), int64(1), object(1)\n",
      "memory usage: 60.1+ KB\n"
     ]
    }
   ],
   "source": [
    "environment.info()"
   ]
  },
  {
   "cell_type": "code",
   "execution_count": 8,
   "metadata": {
    "ExecuteTime": {
     "end_time": "2020-09-07T05:32:47.960677Z",
     "start_time": "2020-09-07T05:32:47.385217Z"
    }
   },
   "outputs": [
    {
     "data": {
      "text/html": [
       "<div>\n",
       "<style scoped>\n",
       "    .dataframe tbody tr th:only-of-type {\n",
       "        vertical-align: middle;\n",
       "    }\n",
       "\n",
       "    .dataframe tbody tr th {\n",
       "        vertical-align: top;\n",
       "    }\n",
       "\n",
       "    .dataframe thead th {\n",
       "        text-align: right;\n",
       "    }\n",
       "</style>\n",
       "<table border=\"1\" class=\"dataframe\">\n",
       "  <thead>\n",
       "    <tr style=\"text-align: right;\">\n",
       "      <th></th>\n",
       "      <th>TimeStample</th>\n",
       "      <th>Qi</th>\n",
       "      <th>dt</th>\n",
       "    </tr>\n",
       "  </thead>\n",
       "  <tbody>\n",
       "    <tr>\n",
       "      <th>0</th>\n",
       "      <td>2013-01-01 02:00:00</td>\n",
       "      <td>0.018201</td>\n",
       "      <td>2013-01-01</td>\n",
       "    </tr>\n",
       "    <tr>\n",
       "      <th>1</th>\n",
       "      <td>2013-01-01 05:00:00</td>\n",
       "      <td>0.018196</td>\n",
       "      <td>2013-01-01</td>\n",
       "    </tr>\n",
       "    <tr>\n",
       "      <th>2</th>\n",
       "      <td>2013-01-01 08:00:00</td>\n",
       "      <td>0.030095</td>\n",
       "      <td>2013-01-01</td>\n",
       "    </tr>\n",
       "    <tr>\n",
       "      <th>3</th>\n",
       "      <td>2013-01-01 11:00:00</td>\n",
       "      <td>0.123196</td>\n",
       "      <td>2013-01-01</td>\n",
       "    </tr>\n",
       "    <tr>\n",
       "      <th>4</th>\n",
       "      <td>2013-01-01 14:00:00</td>\n",
       "      <td>0.133178</td>\n",
       "      <td>2013-01-01</td>\n",
       "    </tr>\n",
       "  </tbody>\n",
       "</table>\n",
       "</div>"
      ],
      "text/plain": [
       "          TimeStample        Qi          dt\n",
       "0 2013-01-01 02:00:00  0.018201  2013-01-01\n",
       "1 2013-01-01 05:00:00  0.018196  2013-01-01\n",
       "2 2013-01-01 08:00:00  0.030095  2013-01-01\n",
       "3 2013-01-01 11:00:00  0.123196  2013-01-01\n",
       "4 2013-01-01 14:00:00  0.133178  2013-01-01"
      ]
     },
     "execution_count": 8,
     "metadata": {},
     "output_type": "execute_result"
    }
   ],
   "source": [
    "water = pd.read_excel('../入库流量数据.xlsx')\n",
    "water['dt'] = water['TimeStample'].dt.strftime('%Y-%m-%d')\n",
    "water.head()"
   ]
  },
  {
   "cell_type": "code",
   "execution_count": 9,
   "metadata": {
    "ExecuteTime": {
     "end_time": "2020-09-07T05:32:47.969163Z",
     "start_time": "2020-09-07T05:32:47.961675Z"
    }
   },
   "outputs": [
    {
     "name": "stdout",
     "output_type": "stream",
     "text": [
      "<class 'pandas.core.frame.DataFrame'>\n",
      "RangeIndex: 15019 entries, 0 to 15018\n",
      "Data columns (total 3 columns):\n",
      " #   Column       Non-Null Count  Dtype         \n",
      "---  ------       --------------  -----         \n",
      " 0   TimeStample  15019 non-null  datetime64[ns]\n",
      " 1   Qi           15019 non-null  float64       \n",
      " 2   dt           15019 non-null  object        \n",
      "dtypes: datetime64[ns](1), float64(1), object(1)\n",
      "memory usage: 352.1+ KB\n"
     ]
    }
   ],
   "source": [
    "water.info()"
   ]
  },
  {
   "cell_type": "code",
   "execution_count": 10,
   "metadata": {
    "ExecuteTime": {
     "end_time": "2020-09-07T05:32:47.992607Z",
     "start_time": "2020-09-07T05:32:47.970710Z"
    }
   },
   "outputs": [
    {
     "name": "stdout",
     "output_type": "stream",
     "text": [
      "(248, 3) (248, 3) (248, 3)\n",
      "(56, 3) (56, 3) (56, 3)\n"
     ]
    }
   ],
   "source": [
    "train1 = water.loc[(water['TimeStample'] >= '2017-01-01 02:00:00') & (water['TimeStample'] < '2017-02-01 00:00:00')]\n",
    "train2 = water.loc[(water['TimeStample'] >= '2017-07-01 02:00:00') & (water['TimeStample'] < '2017-08-01 00:00:00')]\n",
    "train3 = water.loc[(water['TimeStample'] >= '2017-10-01 02:00:00') & (water['TimeStample'] < '2017-11-01 00:00:00')]\n",
    "print(train1.shape, train2.shape, train3.shape)\n",
    "\n",
    "\n",
    "test1 = water.loc[(water['TimeStample'] >= '2017-02-01 02:00:00') & (water['TimeStample'] <= '2017-02-07 23:00:00')]\n",
    "test2 = water.loc[(water['TimeStample'] >= '2017-08-01 02:00:00') & (water['TimeStample'] <= '2017-08-07 23:00:00')]\n",
    "test3 = water.loc[(water['TimeStample'] >= '2017-11-01 02:00:00') & (water['TimeStample'] <= '2017-11-07 23:00:00')]\n",
    "print(test1.shape, test2.shape, test3.shape)"
   ]
  },
  {
   "cell_type": "code",
   "execution_count": 11,
   "metadata": {
    "ExecuteTime": {
     "end_time": "2020-09-07T05:32:48.000607Z",
     "start_time": "2020-09-07T05:32:47.993605Z"
    }
   },
   "outputs": [
    {
     "data": {
      "text/plain": [
       "(912, 3)"
      ]
     },
     "execution_count": 11,
     "metadata": {},
     "output_type": "execute_result"
    }
   ],
   "source": [
    "df_list = [train1, train2, train3, test1, test2, test3]\n",
    "data = pd.concat(df_list)\n",
    "data.shape"
   ]
  },
  {
   "cell_type": "code",
   "execution_count": 12,
   "metadata": {
    "ExecuteTime": {
     "end_time": "2020-09-07T05:32:48.055478Z",
     "start_time": "2020-09-07T05:32:48.001584Z"
    }
   },
   "outputs": [
    {
     "data": {
      "text/html": [
       "<div>\n",
       "<style scoped>\n",
       "    .dataframe tbody tr th:only-of-type {\n",
       "        vertical-align: middle;\n",
       "    }\n",
       "\n",
       "    .dataframe tbody tr th {\n",
       "        vertical-align: top;\n",
       "    }\n",
       "\n",
       "    .dataframe thead th {\n",
       "        text-align: right;\n",
       "    }\n",
       "</style>\n",
       "<table border=\"1\" class=\"dataframe\">\n",
       "  <thead>\n",
       "    <tr style=\"text-align: right;\">\n",
       "      <th></th>\n",
       "      <th>TimeStample</th>\n",
       "      <th>Qi</th>\n",
       "      <th>dt</th>\n",
       "      <th>D1</th>\n",
       "      <th>D2</th>\n",
       "      <th>D3</th>\n",
       "      <th>D4</th>\n",
       "      <th>D5</th>\n",
       "      <th>T</th>\n",
       "      <th>w</th>\n",
       "      <th>...</th>\n",
       "      <th>R30</th>\n",
       "      <th>R31</th>\n",
       "      <th>R32</th>\n",
       "      <th>R33</th>\n",
       "      <th>R34</th>\n",
       "      <th>R35</th>\n",
       "      <th>R36</th>\n",
       "      <th>R37</th>\n",
       "      <th>R38</th>\n",
       "      <th>R39</th>\n",
       "    </tr>\n",
       "  </thead>\n",
       "  <tbody>\n",
       "    <tr>\n",
       "      <th>0</th>\n",
       "      <td>2017-01-01 02:00:00</td>\n",
       "      <td>0.083045</td>\n",
       "      <td>2017-01-01</td>\n",
       "      <td>0.025</td>\n",
       "      <td>0.036364</td>\n",
       "      <td>0.114286</td>\n",
       "      <td>0.24</td>\n",
       "      <td>0.24</td>\n",
       "      <td>0.342857</td>\n",
       "      <td>0.123913</td>\n",
       "      <td>...</td>\n",
       "      <td>0.0</td>\n",
       "      <td>0.0</td>\n",
       "      <td>0.0</td>\n",
       "      <td>0.0</td>\n",
       "      <td>0.0</td>\n",
       "      <td>0.0</td>\n",
       "      <td>0.0</td>\n",
       "      <td>0.0</td>\n",
       "      <td>0.0</td>\n",
       "      <td>0.0</td>\n",
       "    </tr>\n",
       "    <tr>\n",
       "      <th>1</th>\n",
       "      <td>2017-01-01 05:00:00</td>\n",
       "      <td>0.087865</td>\n",
       "      <td>2017-01-01</td>\n",
       "      <td>0.025</td>\n",
       "      <td>0.036364</td>\n",
       "      <td>0.114286</td>\n",
       "      <td>0.24</td>\n",
       "      <td>0.24</td>\n",
       "      <td>0.342857</td>\n",
       "      <td>0.123913</td>\n",
       "      <td>...</td>\n",
       "      <td>0.0</td>\n",
       "      <td>0.0</td>\n",
       "      <td>0.0</td>\n",
       "      <td>0.0</td>\n",
       "      <td>0.0</td>\n",
       "      <td>0.0</td>\n",
       "      <td>0.0</td>\n",
       "      <td>0.0</td>\n",
       "      <td>0.0</td>\n",
       "      <td>0.0</td>\n",
       "    </tr>\n",
       "    <tr>\n",
       "      <th>2</th>\n",
       "      <td>2017-01-01 08:00:00</td>\n",
       "      <td>0.074158</td>\n",
       "      <td>2017-01-01</td>\n",
       "      <td>0.025</td>\n",
       "      <td>0.036364</td>\n",
       "      <td>0.114286</td>\n",
       "      <td>0.24</td>\n",
       "      <td>0.24</td>\n",
       "      <td>0.342857</td>\n",
       "      <td>0.123913</td>\n",
       "      <td>...</td>\n",
       "      <td>0.0</td>\n",
       "      <td>0.0</td>\n",
       "      <td>0.0</td>\n",
       "      <td>0.0</td>\n",
       "      <td>0.0</td>\n",
       "      <td>0.0</td>\n",
       "      <td>0.0</td>\n",
       "      <td>0.0</td>\n",
       "      <td>0.0</td>\n",
       "      <td>0.0</td>\n",
       "    </tr>\n",
       "    <tr>\n",
       "      <th>3</th>\n",
       "      <td>2017-01-01 11:00:00</td>\n",
       "      <td>0.062911</td>\n",
       "      <td>2017-01-01</td>\n",
       "      <td>0.025</td>\n",
       "      <td>0.036364</td>\n",
       "      <td>0.114286</td>\n",
       "      <td>0.24</td>\n",
       "      <td>0.24</td>\n",
       "      <td>0.342857</td>\n",
       "      <td>0.123913</td>\n",
       "      <td>...</td>\n",
       "      <td>0.0</td>\n",
       "      <td>0.0</td>\n",
       "      <td>0.0</td>\n",
       "      <td>0.0</td>\n",
       "      <td>0.0</td>\n",
       "      <td>0.0</td>\n",
       "      <td>0.0</td>\n",
       "      <td>0.0</td>\n",
       "      <td>0.0</td>\n",
       "      <td>0.0</td>\n",
       "    </tr>\n",
       "    <tr>\n",
       "      <th>4</th>\n",
       "      <td>2017-01-01 14:00:00</td>\n",
       "      <td>0.040116</td>\n",
       "      <td>2017-01-01</td>\n",
       "      <td>0.025</td>\n",
       "      <td>0.036364</td>\n",
       "      <td>0.114286</td>\n",
       "      <td>0.24</td>\n",
       "      <td>0.24</td>\n",
       "      <td>0.342857</td>\n",
       "      <td>0.123913</td>\n",
       "      <td>...</td>\n",
       "      <td>0.0</td>\n",
       "      <td>0.0</td>\n",
       "      <td>0.0</td>\n",
       "      <td>0.0</td>\n",
       "      <td>0.0</td>\n",
       "      <td>0.0</td>\n",
       "      <td>0.0</td>\n",
       "      <td>0.0</td>\n",
       "      <td>0.0</td>\n",
       "      <td>0.0</td>\n",
       "    </tr>\n",
       "  </tbody>\n",
       "</table>\n",
       "<p>5 rows × 50 columns</p>\n",
       "</div>"
      ],
      "text/plain": [
       "          TimeStample        Qi          dt     D1        D2        D3    D4  \\\n",
       "0 2017-01-01 02:00:00  0.083045  2017-01-01  0.025  0.036364  0.114286  0.24   \n",
       "1 2017-01-01 05:00:00  0.087865  2017-01-01  0.025  0.036364  0.114286  0.24   \n",
       "2 2017-01-01 08:00:00  0.074158  2017-01-01  0.025  0.036364  0.114286  0.24   \n",
       "3 2017-01-01 11:00:00  0.062911  2017-01-01  0.025  0.036364  0.114286  0.24   \n",
       "4 2017-01-01 14:00:00  0.040116  2017-01-01  0.025  0.036364  0.114286  0.24   \n",
       "\n",
       "     D5         T         w  ...  R30  R31  R32  R33  R34  R35  R36  R37  R38  \\\n",
       "0  0.24  0.342857  0.123913  ...  0.0  0.0  0.0  0.0  0.0  0.0  0.0  0.0  0.0   \n",
       "1  0.24  0.342857  0.123913  ...  0.0  0.0  0.0  0.0  0.0  0.0  0.0  0.0  0.0   \n",
       "2  0.24  0.342857  0.123913  ...  0.0  0.0  0.0  0.0  0.0  0.0  0.0  0.0  0.0   \n",
       "3  0.24  0.342857  0.123913  ...  0.0  0.0  0.0  0.0  0.0  0.0  0.0  0.0  0.0   \n",
       "4  0.24  0.342857  0.123913  ...  0.0  0.0  0.0  0.0  0.0  0.0  0.0  0.0  0.0   \n",
       "\n",
       "   R39  \n",
       "0  0.0  \n",
       "1  0.0  \n",
       "2  0.0  \n",
       "3  0.0  \n",
       "4  0.0  \n",
       "\n",
       "[5 rows x 50 columns]"
      ]
     },
     "execution_count": 12,
     "metadata": {},
     "output_type": "execute_result"
    }
   ],
   "source": [
    "data = data.merge(rain, how='left', on='dt')\n",
    "data = data.merge(environment, how='left', on='dt')\n",
    "data = data.merge(station_rain, how='left', on='TimeStample')\n",
    "data.head()"
   ]
  },
  {
   "cell_type": "code",
   "execution_count": 13,
   "metadata": {
    "ExecuteTime": {
     "end_time": "2020-09-07T05:32:48.068445Z",
     "start_time": "2020-09-07T05:32:48.056439Z"
    }
   },
   "outputs": [
    {
     "name": "stdout",
     "output_type": "stream",
     "text": [
      "(248, 50) (248, 50) (248, 50)\n",
      "(56, 50) (56, 50) (56, 50)\n"
     ]
    }
   ],
   "source": [
    "train1 = data.loc[(data['TimeStample'] >= '2017-01-01 02:00:00') & (data['TimeStample'] < '2017-02-01 00:00:00')]\n",
    "train2 = data.loc[(data['TimeStample'] >= '2017-07-01 02:00:00') & (data['TimeStample'] < '2017-08-01 00:00:00')]\n",
    "train3 = data.loc[(data['TimeStample'] >= '2017-10-01 02:00:00') & (data['TimeStample'] < '2017-11-01 00:00:00')]\n",
    "print(train1.shape, train2.shape, train3.shape)\n",
    "\n",
    "\n",
    "test1 = data.loc[(data['TimeStample'] >= '2017-02-01 02:00:00') & (data['TimeStample'] <= '2017-02-07 23:00:00')]\n",
    "test2 = data.loc[(data['TimeStample'] >= '2017-08-01 02:00:00') & (data['TimeStample'] <= '2017-08-07 23:00:00')]\n",
    "test3 = data.loc[(data['TimeStample'] >= '2017-11-01 02:00:00') & (data['TimeStample'] <= '2017-11-07 23:00:00')]\n",
    "print(test1.shape, test2.shape, test3.shape)"
   ]
  },
  {
   "cell_type": "code",
   "execution_count": 14,
   "metadata": {
    "ExecuteTime": {
     "end_time": "2020-09-07T05:32:48.082408Z",
     "start_time": "2020-09-07T05:32:48.070400Z"
    }
   },
   "outputs": [],
   "source": [
    "train_y1 = train1['Qi']\n",
    "train1.drop(['TimeStample', 'dt', 'Qi'], axis=1, inplace=True)\n",
    "train_x1 = train1\n",
    "\n",
    "train_y2 = train2['Qi']\n",
    "train2.drop(['TimeStample', 'dt', 'Qi'], axis=1, inplace=True)\n",
    "train_x2 = train2\n",
    "\n",
    "train_y3 = train3['Qi']\n",
    "train3.drop(['TimeStample', 'dt', 'Qi'], axis=1, inplace=True)\n",
    "train_x3 = train3\n",
    "\n",
    "test_y1 = test1['Qi']\n",
    "test1.drop(['TimeStample', 'dt', 'Qi'], axis=1, inplace=True)\n",
    "test_x1 = test1\n",
    "\n",
    "test_y2 = test2['Qi']\n",
    "test2.drop(['TimeStample', 'dt', 'Qi'], axis=1, inplace=True)\n",
    "test_x2 = test2\n",
    "\n",
    "test_y3 = test3['Qi']\n",
    "test3.drop(['TimeStample', 'dt', 'Qi'], axis=1, inplace=True)\n",
    "test_x3 = test3"
   ]
  },
  {
   "cell_type": "code",
   "execution_count": 15,
   "metadata": {
    "ExecuteTime": {
     "end_time": "2020-09-07T05:32:48.089351Z",
     "start_time": "2020-09-07T05:32:48.083402Z"
    }
   },
   "outputs": [],
   "source": [
    "lgb_train1 = lgb.Dataset(train_x1, label=train_y1)\n",
    "lgb_test1 = lgb.Dataset(test_x1, label=test_y1, reference=lgb_train1)\n",
    "\n",
    "lgb_train2 = lgb.Dataset(train_x2, label=train_y2)\n",
    "lgb_test2 = lgb.Dataset(test_x2, label=test_y2, reference=lgb_train2)\n",
    "\n",
    "lgb_train3 = lgb.Dataset(train_x3, label=train_y3)\n",
    "lgb_test3 = lgb.Dataset(test_x3, label=test_y3, reference=lgb_train3)"
   ]
  },
  {
   "cell_type": "code",
   "execution_count": 16,
   "metadata": {
    "ExecuteTime": {
     "end_time": "2020-09-07T05:32:48.095334Z",
     "start_time": "2020-09-07T05:32:48.090347Z"
    }
   },
   "outputs": [],
   "source": [
    "# regression\n",
    "params = {'boosting_type': 'gbdt',\n",
    "          'objective': 'regression',\n",
    "          'metric': None,\n",
    "          'learning_rate': 0.05,\n",
    "          'seed': 2020,\n",
    "          'first_metric_only': True}"
   ]
  },
  {
   "cell_type": "code",
   "execution_count": 17,
   "metadata": {
    "ExecuteTime": {
     "end_time": "2020-09-07T05:32:48.103327Z",
     "start_time": "2020-09-07T05:32:48.096330Z"
    }
   },
   "outputs": [],
   "source": [
    "# 自定义评估函数\n",
    "def self_metric(preds, train_data):\n",
    "    labels = train_data.get_label()\n",
    "    y_mean = np.mean(labels)\n",
    "    a = np.sum(np.square(labels[:16] - preds[:16]))\n",
    "    b = np.sum(np.square(labels[:16] - y_mean))\n",
    "    c = np.sum(np.square(labels[16:] - preds[16:]))\n",
    "    d = np.sum(np.square(labels[16:] - y_mean))\n",
    "    nse = 100* (1 - 0.65 * a / b - 0.35 * c / d)\n",
    "\n",
    "    return 'self_metric', nse, True"
   ]
  },
  {
   "cell_type": "code",
   "execution_count": 18,
   "metadata": {
    "ExecuteTime": {
     "end_time": "2020-09-07T05:32:48.344667Z",
     "start_time": "2020-09-07T05:32:48.104310Z"
    }
   },
   "outputs": [
    {
     "name": "stdout",
     "output_type": "stream",
     "text": [
      "Training until validation scores don't improve for 200 rounds\n",
      "[50]\ttraining's l2: 0.0010402\ttraining's self_metric: 11.6925\tvalid_0's l2: 0.00148599\tvalid_0's self_metric: -13.113\n",
      "[100]\ttraining's l2: 0.0010275\ttraining's self_metric: 12.4957\tvalid_0's l2: 0.00149079\tvalid_0's self_metric: -13.5384\n",
      "[150]\ttraining's l2: 0.00102584\ttraining's self_metric: 12.6019\tvalid_0's l2: 0.00149649\tvalid_0's self_metric: -13.9529\n",
      "[200]\ttraining's l2: 0.00102552\ttraining's self_metric: 12.6163\tvalid_0's l2: 0.00149706\tvalid_0's self_metric: -13.999\n",
      "[250]\ttraining's l2: 0.00102543\ttraining's self_metric: 12.6201\tvalid_0's l2: 0.00149803\tvalid_0's self_metric: -14.0715\n",
      "Early stopping, best iteration is:\n",
      "[67]\ttraining's l2: 0.00103256\ttraining's self_metric: 12.1561\tvalid_0's l2: 0.00148321\tvalid_0's self_metric: -12.9704\n",
      "Evaluated only: l2\n"
     ]
    },
    {
     "data": {
      "text/plain": [
       "-12.970397897605391"
      ]
     },
     "execution_count": 18,
     "metadata": {},
     "output_type": "execute_result"
    }
   ],
   "source": [
    "lgb_model1 = lgb.train(params,\n",
    "                       lgb_train1,\n",
    "                       valid_sets=[lgb_test1, lgb_train1],\n",
    "                       num_boost_round=1000,\n",
    "                       early_stopping_rounds=200,\n",
    "                       verbose_eval=50,\n",
    "                       feval=self_metric)\n",
    "\n",
    "pred1 = lgb_model1.predict(test_x1)\n",
    "\n",
    "nse1 = NSE(pred1, test_y1)\n",
    "nse1"
   ]
  },
  {
   "cell_type": "code",
   "execution_count": 19,
   "metadata": {
    "ExecuteTime": {
     "end_time": "2020-09-07T05:32:48.543152Z",
     "start_time": "2020-09-07T05:32:48.346661Z"
    }
   },
   "outputs": [
    {
     "name": "stdout",
     "output_type": "stream",
     "text": [
      "Training until validation scores don't improve for 200 rounds\n",
      "[50]\ttraining's l2: 0.0104859\ttraining's self_metric: 69.9829\tvalid_0's l2: 0.014017\tvalid_0's self_metric: -722.448\n",
      "[100]\ttraining's l2: 0.00868914\ttraining's self_metric: 77.5304\tvalid_0's l2: 0.0151432\tvalid_0's self_metric: -783.858\n",
      "[150]\ttraining's l2: 0.0079168\ttraining's self_metric: 80.6511\tvalid_0's l2: 0.0149376\tvalid_0's self_metric: -785.491\n",
      "[200]\ttraining's l2: 0.00738055\ttraining's self_metric: 82.5766\tvalid_0's l2: 0.014382\tvalid_0's self_metric: -773.428\n",
      "Early stopping, best iteration is:\n",
      "[18]\ttraining's l2: 0.015525\ttraining's self_metric: 49.1743\tvalid_0's l2: 0.0127749\tvalid_0's self_metric: -852.421\n",
      "Evaluated only: l2\n"
     ]
    },
    {
     "data": {
      "text/plain": [
       "-852.4210662516131"
      ]
     },
     "execution_count": 19,
     "metadata": {},
     "output_type": "execute_result"
    }
   ],
   "source": [
    "lgb_model2 = lgb.train(params,\n",
    "                       lgb_train2,\n",
    "                       valid_sets=[lgb_test2, lgb_train2],\n",
    "                       num_boost_round=1000,\n",
    "                       early_stopping_rounds=200,\n",
    "                       verbose_eval=50,\n",
    "                       feval=self_metric)\n",
    "\n",
    "pred2 = lgb_model2.predict(test_x2)\n",
    "\n",
    "nse2 = NSE(pred2, test_y2)\n",
    "nse2"
   ]
  },
  {
   "cell_type": "code",
   "execution_count": 20,
   "metadata": {
    "ExecuteTime": {
     "end_time": "2020-09-07T05:32:48.979005Z",
     "start_time": "2020-09-07T05:32:48.545147Z"
    },
    "scrolled": true
   },
   "outputs": [
    {
     "name": "stdout",
     "output_type": "stream",
     "text": [
      "Training until validation scores don't improve for 200 rounds\n",
      "[50]\ttraining's l2: 0.00550017\ttraining's self_metric: 87.525\tvalid_0's l2: 0.0120427\tvalid_0's self_metric: -9519.14\n",
      "[100]\ttraining's l2: 0.00465307\ttraining's self_metric: 89.2428\tvalid_0's l2: 0.00740787\tvalid_0's self_metric: -6431.96\n",
      "[150]\ttraining's l2: 0.00423097\ttraining's self_metric: 90.0783\tvalid_0's l2: 0.00712693\tvalid_0's self_metric: -6315.57\n",
      "[200]\ttraining's l2: 0.00397619\ttraining's self_metric: 90.5895\tvalid_0's l2: 0.00681963\tvalid_0's self_metric: -6240.12\n",
      "[250]\ttraining's l2: 0.00380478\ttraining's self_metric: 91.0539\tvalid_0's l2: 0.0065177\tvalid_0's self_metric: -6065.27\n",
      "[300]\ttraining's l2: 0.00366681\ttraining's self_metric: 91.4292\tvalid_0's l2: 0.00645735\tvalid_0's self_metric: -5937.39\n",
      "[350]\ttraining's l2: 0.00356409\ttraining's self_metric: 91.7455\tvalid_0's l2: 0.00694006\tvalid_0's self_metric: -6346.01\n",
      "[400]\ttraining's l2: 0.00347665\ttraining's self_metric: 91.9196\tvalid_0's l2: 0.00721676\tvalid_0's self_metric: -6587.61\n",
      "[450]\ttraining's l2: 0.00339537\ttraining's self_metric: 92.1595\tvalid_0's l2: 0.00724877\tvalid_0's self_metric: -6615.83\n",
      "Early stopping, best iteration is:\n",
      "[286]\ttraining's l2: 0.00370083\ttraining's self_metric: 91.3139\tvalid_0's l2: 0.00642769\tvalid_0's self_metric: -5911.61\n",
      "Evaluated only: l2\n"
     ]
    },
    {
     "data": {
      "text/plain": [
       "-5911.613453313634"
      ]
     },
     "execution_count": 20,
     "metadata": {},
     "output_type": "execute_result"
    }
   ],
   "source": [
    "lgb_model3 = lgb.train(params,\n",
    "                       lgb_train3,\n",
    "                       valid_sets=[lgb_test3, lgb_train3],\n",
    "                       num_boost_round=1000,\n",
    "                       early_stopping_rounds=200,\n",
    "                       verbose_eval=50,\n",
    "                       feval=self_metric)\n",
    "\n",
    "pred3 = lgb_model3.predict(test_x3)\n",
    "\n",
    "nse3 = NSE(pred3, test_y3)\n",
    "nse3"
   ]
  },
  {
   "cell_type": "code",
   "execution_count": 21,
   "metadata": {
    "ExecuteTime": {
     "end_time": "2020-09-07T05:32:49.001945Z",
     "start_time": "2020-09-07T05:32:48.980002Z"
    }
   },
   "outputs": [
    {
     "name": "stdout",
     "output_type": "stream",
     "text": [
      "(248, 3) (248, 3) (248, 3)\n",
      "(56, 1) (56, 1) (56, 1)\n"
     ]
    }
   ],
   "source": [
    "train1 = water.loc[(water['TimeStample'] >= '2018-01-01 02:00:00') & (water['TimeStample'] < '2018-02-01 00:00:00')]\n",
    "train2 = water.loc[(water['TimeStample'] >= '2018-07-01 02:00:00') & (water['TimeStample'] < '2018-08-01 00:00:00')]\n",
    "train3 = water.loc[(water['TimeStample'] >= '2018-10-01 02:00:00') & (water['TimeStample'] < '2018-11-01 00:00:00')]\n",
    "print(train1.shape, train2.shape, train3.shape)\n",
    "\n",
    "\n",
    "test1 = pd.DataFrame({'TimeStample': pd.date_range(start='2018-02-01 02:00:00', periods=56, freq='3h')})\n",
    "test2 = pd.DataFrame({'TimeStample': pd.date_range(start='2018-08-01 02:00:00', periods=56, freq='3h')})\n",
    "test3 = pd.DataFrame({'TimeStample': pd.date_range(start='2018-11-01 02:00:00', periods=56, freq='3h')})\n",
    "print(test1.shape, test2.shape, test3.shape)"
   ]
  },
  {
   "cell_type": "code",
   "execution_count": 22,
   "metadata": {
    "ExecuteTime": {
     "end_time": "2020-09-07T05:32:49.019896Z",
     "start_time": "2020-09-07T05:32:49.007927Z"
    }
   },
   "outputs": [
    {
     "data": {
      "text/plain": [
       "(912, 3)"
      ]
     },
     "execution_count": 22,
     "metadata": {},
     "output_type": "execute_result"
    }
   ],
   "source": [
    "df_list = [train1, train2, train3, test1, test2, test3]\n",
    "data = pd.concat(df_list)\n",
    "data.shape"
   ]
  },
  {
   "cell_type": "code",
   "execution_count": 23,
   "metadata": {
    "ExecuteTime": {
     "end_time": "2020-09-07T05:32:49.095692Z",
     "start_time": "2020-09-07T05:32:49.024882Z"
    }
   },
   "outputs": [
    {
     "data": {
      "text/html": [
       "<div>\n",
       "<style scoped>\n",
       "    .dataframe tbody tr th:only-of-type {\n",
       "        vertical-align: middle;\n",
       "    }\n",
       "\n",
       "    .dataframe tbody tr th {\n",
       "        vertical-align: top;\n",
       "    }\n",
       "\n",
       "    .dataframe thead th {\n",
       "        text-align: right;\n",
       "    }\n",
       "</style>\n",
       "<table border=\"1\" class=\"dataframe\">\n",
       "  <thead>\n",
       "    <tr style=\"text-align: right;\">\n",
       "      <th></th>\n",
       "      <th>TimeStample</th>\n",
       "      <th>Qi</th>\n",
       "      <th>dt</th>\n",
       "      <th>D1</th>\n",
       "      <th>D2</th>\n",
       "      <th>D3</th>\n",
       "      <th>D4</th>\n",
       "      <th>D5</th>\n",
       "      <th>T</th>\n",
       "      <th>w</th>\n",
       "      <th>...</th>\n",
       "      <th>R30</th>\n",
       "      <th>R31</th>\n",
       "      <th>R32</th>\n",
       "      <th>R33</th>\n",
       "      <th>R34</th>\n",
       "      <th>R35</th>\n",
       "      <th>R36</th>\n",
       "      <th>R37</th>\n",
       "      <th>R38</th>\n",
       "      <th>R39</th>\n",
       "    </tr>\n",
       "  </thead>\n",
       "  <tbody>\n",
       "    <tr>\n",
       "      <th>0</th>\n",
       "      <td>2018-01-01 02:00:00</td>\n",
       "      <td>0.020184</td>\n",
       "      <td>2018-01-01</td>\n",
       "      <td>0.0625</td>\n",
       "      <td>0.272727</td>\n",
       "      <td>0.214286</td>\n",
       "      <td>0.1</td>\n",
       "      <td>0.1</td>\n",
       "      <td>0.308571</td>\n",
       "      <td>0.065217</td>\n",
       "      <td>...</td>\n",
       "      <td>0.0</td>\n",
       "      <td>0.0</td>\n",
       "      <td>0.0</td>\n",
       "      <td>0.0</td>\n",
       "      <td>0.0</td>\n",
       "      <td>0.0</td>\n",
       "      <td>0.0</td>\n",
       "      <td>0.0</td>\n",
       "      <td>0.0</td>\n",
       "      <td>0.0</td>\n",
       "    </tr>\n",
       "    <tr>\n",
       "      <th>1</th>\n",
       "      <td>2018-01-01 05:00:00</td>\n",
       "      <td>0.025757</td>\n",
       "      <td>2018-01-01</td>\n",
       "      <td>0.0625</td>\n",
       "      <td>0.272727</td>\n",
       "      <td>0.214286</td>\n",
       "      <td>0.1</td>\n",
       "      <td>0.1</td>\n",
       "      <td>0.308571</td>\n",
       "      <td>0.065217</td>\n",
       "      <td>...</td>\n",
       "      <td>0.0</td>\n",
       "      <td>0.0</td>\n",
       "      <td>0.0</td>\n",
       "      <td>0.0</td>\n",
       "      <td>0.0</td>\n",
       "      <td>0.0</td>\n",
       "      <td>0.0</td>\n",
       "      <td>0.0</td>\n",
       "      <td>0.0</td>\n",
       "      <td>0.0</td>\n",
       "    </tr>\n",
       "    <tr>\n",
       "      <th>2</th>\n",
       "      <td>2018-01-01 08:00:00</td>\n",
       "      <td>0.022995</td>\n",
       "      <td>2018-01-01</td>\n",
       "      <td>0.0625</td>\n",
       "      <td>0.272727</td>\n",
       "      <td>0.214286</td>\n",
       "      <td>0.1</td>\n",
       "      <td>0.1</td>\n",
       "      <td>0.308571</td>\n",
       "      <td>0.065217</td>\n",
       "      <td>...</td>\n",
       "      <td>0.0</td>\n",
       "      <td>0.0</td>\n",
       "      <td>0.0</td>\n",
       "      <td>0.0</td>\n",
       "      <td>0.0</td>\n",
       "      <td>0.0</td>\n",
       "      <td>0.0</td>\n",
       "      <td>0.0</td>\n",
       "      <td>0.0</td>\n",
       "      <td>0.0</td>\n",
       "    </tr>\n",
       "    <tr>\n",
       "      <th>3</th>\n",
       "      <td>2018-01-01 11:00:00</td>\n",
       "      <td>0.015113</td>\n",
       "      <td>2018-01-01</td>\n",
       "      <td>0.0625</td>\n",
       "      <td>0.272727</td>\n",
       "      <td>0.214286</td>\n",
       "      <td>0.1</td>\n",
       "      <td>0.1</td>\n",
       "      <td>0.308571</td>\n",
       "      <td>0.065217</td>\n",
       "      <td>...</td>\n",
       "      <td>0.0</td>\n",
       "      <td>0.0</td>\n",
       "      <td>0.0</td>\n",
       "      <td>0.0</td>\n",
       "      <td>0.0</td>\n",
       "      <td>0.0</td>\n",
       "      <td>0.0</td>\n",
       "      <td>0.0</td>\n",
       "      <td>0.0</td>\n",
       "      <td>0.0</td>\n",
       "    </tr>\n",
       "    <tr>\n",
       "      <th>4</th>\n",
       "      <td>2018-01-01 14:00:00</td>\n",
       "      <td>0.017975</td>\n",
       "      <td>2018-01-01</td>\n",
       "      <td>0.0625</td>\n",
       "      <td>0.272727</td>\n",
       "      <td>0.214286</td>\n",
       "      <td>0.1</td>\n",
       "      <td>0.1</td>\n",
       "      <td>0.308571</td>\n",
       "      <td>0.065217</td>\n",
       "      <td>...</td>\n",
       "      <td>0.0</td>\n",
       "      <td>0.0</td>\n",
       "      <td>0.0</td>\n",
       "      <td>0.0</td>\n",
       "      <td>0.0</td>\n",
       "      <td>0.0</td>\n",
       "      <td>0.0</td>\n",
       "      <td>0.0</td>\n",
       "      <td>0.0</td>\n",
       "      <td>0.0</td>\n",
       "    </tr>\n",
       "  </tbody>\n",
       "</table>\n",
       "<p>5 rows × 50 columns</p>\n",
       "</div>"
      ],
      "text/plain": [
       "          TimeStample        Qi          dt      D1        D2        D3   D4  \\\n",
       "0 2018-01-01 02:00:00  0.020184  2018-01-01  0.0625  0.272727  0.214286  0.1   \n",
       "1 2018-01-01 05:00:00  0.025757  2018-01-01  0.0625  0.272727  0.214286  0.1   \n",
       "2 2018-01-01 08:00:00  0.022995  2018-01-01  0.0625  0.272727  0.214286  0.1   \n",
       "3 2018-01-01 11:00:00  0.015113  2018-01-01  0.0625  0.272727  0.214286  0.1   \n",
       "4 2018-01-01 14:00:00  0.017975  2018-01-01  0.0625  0.272727  0.214286  0.1   \n",
       "\n",
       "    D5         T         w  ...  R30  R31  R32  R33  R34  R35  R36  R37  R38  \\\n",
       "0  0.1  0.308571  0.065217  ...  0.0  0.0  0.0  0.0  0.0  0.0  0.0  0.0  0.0   \n",
       "1  0.1  0.308571  0.065217  ...  0.0  0.0  0.0  0.0  0.0  0.0  0.0  0.0  0.0   \n",
       "2  0.1  0.308571  0.065217  ...  0.0  0.0  0.0  0.0  0.0  0.0  0.0  0.0  0.0   \n",
       "3  0.1  0.308571  0.065217  ...  0.0  0.0  0.0  0.0  0.0  0.0  0.0  0.0  0.0   \n",
       "4  0.1  0.308571  0.065217  ...  0.0  0.0  0.0  0.0  0.0  0.0  0.0  0.0  0.0   \n",
       "\n",
       "   R39  \n",
       "0  0.0  \n",
       "1  0.0  \n",
       "2  0.0  \n",
       "3  0.0  \n",
       "4  0.0  \n",
       "\n",
       "[5 rows x 50 columns]"
      ]
     },
     "execution_count": 23,
     "metadata": {},
     "output_type": "execute_result"
    }
   ],
   "source": [
    "data = data.merge(rain, how='left', on='dt')\n",
    "data = data.merge(environment, how='left', on='dt')\n",
    "data = data.merge(station_rain, how='left', on='TimeStample')\n",
    "data.head()"
   ]
  },
  {
   "cell_type": "code",
   "execution_count": 24,
   "metadata": {
    "ExecuteTime": {
     "end_time": "2020-09-07T05:32:49.110652Z",
     "start_time": "2020-09-07T05:32:49.096690Z"
    }
   },
   "outputs": [
    {
     "name": "stdout",
     "output_type": "stream",
     "text": [
      "(248, 50) (248, 50) (248, 50)\n",
      "(56, 50) (56, 50) (56, 50)\n"
     ]
    }
   ],
   "source": [
    "train1 = data.loc[(data['TimeStample'] >= '2018-01-01 02:00:00') & (data['TimeStample'] < '2018-02-01 00:00:00')]\n",
    "train2 = data.loc[(data['TimeStample'] >= '2018-07-01 02:00:00') & (data['TimeStample'] < '2018-08-01 00:00:00')]\n",
    "train3 = data.loc[(data['TimeStample'] >= '2018-10-01 02:00:00') & (data['TimeStample'] < '2018-11-01 00:00:00')]\n",
    "print(train1.shape, train2.shape, train3.shape)\n",
    "\n",
    "test1 = data.loc[(data['TimeStample'] >= '2018-02-01 02:00:00') & (data['TimeStample'] <= '2018-02-07 23:00:00')]\n",
    "test2 = data.loc[(data['TimeStample'] >= '2018-08-01 02:00:00') & (data['TimeStample'] <= '2018-08-07 23:00:00')]\n",
    "test3 = data.loc[(data['TimeStample'] >= '2018-11-01 02:00:00') & (data['TimeStample'] <= '2018-11-07 23:00:00')]\n",
    "print(test1.shape, test2.shape, test3.shape)"
   ]
  },
  {
   "cell_type": "code",
   "execution_count": 25,
   "metadata": {
    "ExecuteTime": {
     "end_time": "2020-09-07T05:32:49.123618Z",
     "start_time": "2020-09-07T05:32:49.111649Z"
    }
   },
   "outputs": [],
   "source": [
    "train_y1 = train1['Qi']\n",
    "train1.drop(['TimeStample', 'dt', 'Qi'], axis=1, inplace=True)\n",
    "train_x1 = train1\n",
    "\n",
    "train_y2 = train2['Qi']\n",
    "train2.drop(['TimeStample', 'dt', 'Qi'], axis=1, inplace=True)\n",
    "train_x2 = train2\n",
    "\n",
    "train_y3 = train3['Qi']\n",
    "train3.drop(['TimeStample', 'dt', 'Qi'], axis=1, inplace=True)\n",
    "train_x3 = train3\n",
    "\n",
    "# test_y1 = test1['Qi']\n",
    "sub1 = test1[['TimeStample']]\n",
    "test1.drop(['TimeStample', 'dt', 'Qi'], axis=1, inplace=True)\n",
    "test_x1 = test1\n",
    "\n",
    "# test_y2 = test2['Qi']\n",
    "sub2 = test2[['TimeStample']]\n",
    "test2.drop(['TimeStample', 'dt', 'Qi'], axis=1, inplace=True)\n",
    "test_x2 = test2\n",
    "\n",
    "# test_y3 = test3['Qi']\n",
    "sub3 = test3[['TimeStample']]\n",
    "test3.drop(['TimeStample', 'dt', 'Qi'], axis=1, inplace=True)\n",
    "test_x3 = test3"
   ]
  },
  {
   "cell_type": "code",
   "execution_count": 26,
   "metadata": {
    "ExecuteTime": {
     "end_time": "2020-09-07T05:32:49.130599Z",
     "start_time": "2020-09-07T05:32:49.125613Z"
    }
   },
   "outputs": [],
   "source": [
    "lgb_train1 = lgb.Dataset(train_x1, label=train_y1)\n",
    "# lgb_test1 = lgb.Dataset(test_x1, label=test_y1, reference=lgb_train1)\n",
    "\n",
    "lgb_train2 = lgb.Dataset(train_x2, label=train_y2)\n",
    "# lgb_test2 = lgb.Dataset(test_x2, label=test_y2, reference=lgb_train2)\n",
    "\n",
    "lgb_train3 = lgb.Dataset(train_x3, label=train_y3)\n",
    "# lgb_test3 = lgb.Dataset(test_x3, label=test_y3, reference=lgb_train1)"
   ]
  },
  {
   "cell_type": "code",
   "execution_count": 27,
   "metadata": {
    "ExecuteTime": {
     "end_time": "2020-09-07T05:32:49.182460Z",
     "start_time": "2020-09-07T05:32:49.132594Z"
    }
   },
   "outputs": [],
   "source": [
    "lgb_model1 = lgb.train(params,\n",
    "                       lgb_train1,\n",
    "#                        valid_sets=[lgb_test1, lgb_train1],\n",
    "                       num_boost_round=lgb_model1.best_iteration,\n",
    "                       verbose_eval=10)\n",
    "\n",
    "pred1 = lgb_model1.predict(test_x1)\n",
    "sub1 = pd.DataFrame(pred1).T\n",
    "sub1.columns = ['Prediction{}'.format(i) for i in range(1, 57)]\n",
    "sub1['SeqNum'] = 1\n",
    "l = ['SeqNum'] + ['Prediction{}'.format(i) for i in range(1, 57)]\n",
    "sub1 = sub1[l]"
   ]
  },
  {
   "cell_type": "code",
   "execution_count": 28,
   "metadata": {
    "ExecuteTime": {
     "end_time": "2020-09-07T05:32:49.213378Z",
     "start_time": "2020-09-07T05:32:49.184457Z"
    }
   },
   "outputs": [],
   "source": [
    "lgb_model2 = lgb.train(params,\n",
    "                       lgb_train2,\n",
    "#                        valid_sets=[lgb_test1, lgb_train1],\n",
    "                       num_boost_round=lgb_model2.best_iteration,\n",
    "                       verbose_eval=10)\n",
    "\n",
    "pred2 = lgb_model2.predict(test_x2)\n",
    "sub2 = pd.DataFrame(pred2).T\n",
    "sub2.columns = ['Prediction{}'.format(i) for i in range(1, 57)]\n",
    "sub2['SeqNum'] = 2\n",
    "l = ['SeqNum'] + ['Prediction{}'.format(i) for i in range(1, 57)]\n",
    "sub2 = sub2[l]"
   ]
  },
  {
   "cell_type": "code",
   "execution_count": 29,
   "metadata": {
    "ExecuteTime": {
     "end_time": "2020-09-07T05:32:49.352007Z",
     "start_time": "2020-09-07T05:32:49.215373Z"
    }
   },
   "outputs": [],
   "source": [
    "lgb_model3 = lgb.train(params,\n",
    "                       lgb_train3,\n",
    "#                        valid_sets=[lgb_test3, lgb_train3],\n",
    "                       num_boost_round=lgb_model3.best_iteration,\n",
    "                       verbose_eval=10)\n",
    "\n",
    "pred3 = lgb_model1.predict(test_x3)\n",
    "sub3 = pd.DataFrame(pred3).T\n",
    "sub3.columns = ['Prediction{}'.format(i) for i in range(1, 57)]\n",
    "sub3['SeqNum'] = 3\n",
    "l = ['SeqNum'] + ['Prediction{}'.format(i) for i in range(1, 57)]\n",
    "sub3 = sub3[l]"
   ]
  },
  {
   "cell_type": "code",
   "execution_count": 30,
   "metadata": {
    "ExecuteTime": {
     "end_time": "2020-09-07T05:32:49.387912Z",
     "start_time": "2020-09-07T05:32:49.353005Z"
    }
   },
   "outputs": [
    {
     "data": {
      "text/html": [
       "<div>\n",
       "<style scoped>\n",
       "    .dataframe tbody tr th:only-of-type {\n",
       "        vertical-align: middle;\n",
       "    }\n",
       "\n",
       "    .dataframe tbody tr th {\n",
       "        vertical-align: top;\n",
       "    }\n",
       "\n",
       "    .dataframe thead th {\n",
       "        text-align: right;\n",
       "    }\n",
       "</style>\n",
       "<table border=\"1\" class=\"dataframe\">\n",
       "  <thead>\n",
       "    <tr style=\"text-align: right;\">\n",
       "      <th></th>\n",
       "      <th>SeqNum</th>\n",
       "      <th>Prediction1</th>\n",
       "      <th>Prediction2</th>\n",
       "      <th>Prediction3</th>\n",
       "      <th>Prediction4</th>\n",
       "      <th>Prediction5</th>\n",
       "      <th>Prediction6</th>\n",
       "      <th>Prediction7</th>\n",
       "      <th>Prediction8</th>\n",
       "      <th>Prediction9</th>\n",
       "      <th>...</th>\n",
       "      <th>Prediction47</th>\n",
       "      <th>Prediction48</th>\n",
       "      <th>Prediction49</th>\n",
       "      <th>Prediction50</th>\n",
       "      <th>Prediction51</th>\n",
       "      <th>Prediction52</th>\n",
       "      <th>Prediction53</th>\n",
       "      <th>Prediction54</th>\n",
       "      <th>Prediction55</th>\n",
       "      <th>Prediction56</th>\n",
       "    </tr>\n",
       "  </thead>\n",
       "  <tbody>\n",
       "    <tr>\n",
       "      <th>0</th>\n",
       "      <td>1</td>\n",
       "      <td>0.105201</td>\n",
       "      <td>0.105201</td>\n",
       "      <td>0.105201</td>\n",
       "      <td>0.105201</td>\n",
       "      <td>0.105201</td>\n",
       "      <td>0.105201</td>\n",
       "      <td>0.105201</td>\n",
       "      <td>0.105201</td>\n",
       "      <td>0.105201</td>\n",
       "      <td>...</td>\n",
       "      <td>0.105201</td>\n",
       "      <td>0.105201</td>\n",
       "      <td>0.105201</td>\n",
       "      <td>0.105201</td>\n",
       "      <td>0.105201</td>\n",
       "      <td>0.105201</td>\n",
       "      <td>0.105201</td>\n",
       "      <td>0.105201</td>\n",
       "      <td>0.105201</td>\n",
       "      <td>0.105201</td>\n",
       "    </tr>\n",
       "    <tr>\n",
       "      <th>0</th>\n",
       "      <td>2</td>\n",
       "      <td>0.421017</td>\n",
       "      <td>0.421017</td>\n",
       "      <td>0.421017</td>\n",
       "      <td>0.421017</td>\n",
       "      <td>0.421017</td>\n",
       "      <td>0.421017</td>\n",
       "      <td>0.421017</td>\n",
       "      <td>0.421017</td>\n",
       "      <td>0.421017</td>\n",
       "      <td>...</td>\n",
       "      <td>0.421017</td>\n",
       "      <td>0.421017</td>\n",
       "      <td>0.421017</td>\n",
       "      <td>0.421017</td>\n",
       "      <td>0.421017</td>\n",
       "      <td>0.421017</td>\n",
       "      <td>0.421017</td>\n",
       "      <td>0.421017</td>\n",
       "      <td>0.421017</td>\n",
       "      <td>0.421017</td>\n",
       "    </tr>\n",
       "    <tr>\n",
       "      <th>0</th>\n",
       "      <td>3</td>\n",
       "      <td>0.105201</td>\n",
       "      <td>0.105201</td>\n",
       "      <td>0.105201</td>\n",
       "      <td>0.105201</td>\n",
       "      <td>0.105201</td>\n",
       "      <td>0.105201</td>\n",
       "      <td>0.105201</td>\n",
       "      <td>0.105201</td>\n",
       "      <td>0.105201</td>\n",
       "      <td>...</td>\n",
       "      <td>0.105201</td>\n",
       "      <td>0.105201</td>\n",
       "      <td>0.105201</td>\n",
       "      <td>0.105201</td>\n",
       "      <td>0.105201</td>\n",
       "      <td>0.105201</td>\n",
       "      <td>0.105201</td>\n",
       "      <td>0.105201</td>\n",
       "      <td>0.105201</td>\n",
       "      <td>0.105201</td>\n",
       "    </tr>\n",
       "  </tbody>\n",
       "</table>\n",
       "<p>3 rows × 57 columns</p>\n",
       "</div>"
      ],
      "text/plain": [
       "   SeqNum  Prediction1  Prediction2  Prediction3  Prediction4  Prediction5  \\\n",
       "0       1     0.105201     0.105201     0.105201     0.105201     0.105201   \n",
       "0       2     0.421017     0.421017     0.421017     0.421017     0.421017   \n",
       "0       3     0.105201     0.105201     0.105201     0.105201     0.105201   \n",
       "\n",
       "   Prediction6  Prediction7  Prediction8  Prediction9  ...  Prediction47  \\\n",
       "0     0.105201     0.105201     0.105201     0.105201  ...      0.105201   \n",
       "0     0.421017     0.421017     0.421017     0.421017  ...      0.421017   \n",
       "0     0.105201     0.105201     0.105201     0.105201  ...      0.105201   \n",
       "\n",
       "   Prediction48  Prediction49  Prediction50  Prediction51  Prediction52  \\\n",
       "0      0.105201      0.105201      0.105201      0.105201      0.105201   \n",
       "0      0.421017      0.421017      0.421017      0.421017      0.421017   \n",
       "0      0.105201      0.105201      0.105201      0.105201      0.105201   \n",
       "\n",
       "   Prediction53  Prediction54  Prediction55  Prediction56  \n",
       "0      0.105201      0.105201      0.105201      0.105201  \n",
       "0      0.421017      0.421017      0.421017      0.421017  \n",
       "0      0.105201      0.105201      0.105201      0.105201  \n",
       "\n",
       "[3 rows x 57 columns]"
      ]
     },
     "execution_count": 30,
     "metadata": {},
     "output_type": "execute_result"
    }
   ],
   "source": [
    "sub = pd.concat([sub1, sub2, sub3])\n",
    "sub"
   ]
  },
  {
   "cell_type": "code",
   "execution_count": 31,
   "metadata": {
    "ExecuteTime": {
     "end_time": "2020-09-07T05:32:49.397884Z",
     "start_time": "2020-09-07T05:32:49.389906Z"
    }
   },
   "outputs": [],
   "source": [
    "sub.to_csv('sub.csv', index=False)"
   ]
  }
 ],
 "metadata": {
  "kernelspec": {
   "display_name": "Python 3",
   "language": "python",
   "name": "python3"
  },
  "language_info": {
   "codemirror_mode": {
    "name": "ipython",
    "version": 3
   },
   "file_extension": ".py",
   "mimetype": "text/x-python",
   "name": "python",
   "nbconvert_exporter": "python",
   "pygments_lexer": "ipython3",
   "version": "3.7.3"
  },
  "toc": {
   "base_numbering": 1,
   "nav_menu": {},
   "number_sections": true,
   "sideBar": true,
   "skip_h1_title": false,
   "title_cell": "Table of Contents",
   "title_sidebar": "Contents",
   "toc_cell": false,
   "toc_position": {},
   "toc_section_display": true,
   "toc_window_display": false
  },
  "varInspector": {
   "cols": {
    "lenName": 16,
    "lenType": 16,
    "lenVar": 40
   },
   "kernels_config": {
    "python": {
     "delete_cmd_postfix": "",
     "delete_cmd_prefix": "del ",
     "library": "var_list.py",
     "varRefreshCmd": "print(var_dic_list())"
    },
    "r": {
     "delete_cmd_postfix": ") ",
     "delete_cmd_prefix": "rm(",
     "library": "var_list.r",
     "varRefreshCmd": "cat(var_dic_list()) "
    }
   },
   "types_to_exclude": [
    "module",
    "function",
    "builtin_function_or_method",
    "instance",
    "_Feature"
   ],
   "window_display": false
  }
 },
 "nbformat": 4,
 "nbformat_minor": 2
}
