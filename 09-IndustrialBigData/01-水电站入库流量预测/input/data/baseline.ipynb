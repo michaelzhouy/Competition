{
 "cells": [
  {
   "cell_type": "code",
   "execution_count": 1,
   "metadata": {
    "ExecuteTime": {
     "end_time": "2020-09-06T14:26:45.661425Z",
     "start_time": "2020-09-06T14:26:43.123457Z"
    }
   },
   "outputs": [],
   "source": [
    "import numpy as np\n",
    "import pandas as pd\n",
    "import lightgbm as lgb\n",
    "import warnings\n",
    "warnings.filterwarnings('ignore')"
   ]
  },
  {
   "cell_type": "code",
   "execution_count": 2,
   "metadata": {
    "ExecuteTime": {
     "end_time": "2020-09-06T14:27:10.307859Z",
     "start_time": "2020-09-06T14:26:45.664370Z"
    }
   },
   "outputs": [
    {
     "name": "stdout",
     "output_type": "stream",
     "text": [
      "<class 'pandas.core.frame.DataFrame'>\n",
      "RangeIndex: 46056 entries, 0 to 46055\n",
      "Data columns (total 40 columns):\n",
      " #   Column       Non-Null Count  Dtype         \n",
      "---  ------       --------------  -----         \n",
      " 0   TimeStample  46056 non-null  datetime64[ns]\n",
      " 1   R1           46056 non-null  float64       \n",
      " 2   R2           46056 non-null  float64       \n",
      " 3   R3           46056 non-null  float64       \n",
      " 4   R4           46056 non-null  float64       \n",
      " 5   R5           46056 non-null  float64       \n",
      " 6   R6           46056 non-null  float64       \n",
      " 7   R7           46056 non-null  float64       \n",
      " 8   R8           46056 non-null  float64       \n",
      " 9   R9           46056 non-null  float64       \n",
      " 10  R10          46056 non-null  float64       \n",
      " 11  R11          46056 non-null  float64       \n",
      " 12  R12          46056 non-null  float64       \n",
      " 13  R13          46056 non-null  float64       \n",
      " 14  R14          46056 non-null  float64       \n",
      " 15  R15          46056 non-null  float64       \n",
      " 16  R16          46056 non-null  float64       \n",
      " 17  R17          46056 non-null  float64       \n",
      " 18  R18          46056 non-null  float64       \n",
      " 19  R19          46056 non-null  float64       \n",
      " 20  R20          46056 non-null  float64       \n",
      " 21  R21          46056 non-null  float64       \n",
      " 22  R22          46056 non-null  float64       \n",
      " 23  R23          46056 non-null  float64       \n",
      " 24  R24          46056 non-null  float64       \n",
      " 25  R25          46056 non-null  float64       \n",
      " 26  R26          46056 non-null  float64       \n",
      " 27  R27          46056 non-null  float64       \n",
      " 28  R28          46056 non-null  float64       \n",
      " 29  R29          46056 non-null  float64       \n",
      " 30  R30          46056 non-null  float64       \n",
      " 31  R31          46056 non-null  float64       \n",
      " 32  R32          46056 non-null  float64       \n",
      " 33  R33          46056 non-null  float64       \n",
      " 34  R34          46056 non-null  float64       \n",
      " 35  R35          46056 non-null  float64       \n",
      " 36  R36          46056 non-null  float64       \n",
      " 37  R37          46056 non-null  float64       \n",
      " 38  R38          46056 non-null  float64       \n",
      " 39  R39          46056 non-null  float64       \n",
      "dtypes: datetime64[ns](1), float64(39)\n",
      "memory usage: 14.1 MB\n"
     ]
    }
   ],
   "source": [
    "station_rain = pd.read_excel('../遥测站降雨数据.xlsx')\n",
    "station_rain.info()"
   ]
  },
  {
   "cell_type": "code",
   "execution_count": 3,
   "metadata": {
    "ExecuteTime": {
     "end_time": "2020-09-06T14:27:10.587936Z",
     "start_time": "2020-09-06T14:27:10.311842Z"
    }
   },
   "outputs": [
    {
     "data": {
      "text/html": [
       "<div>\n",
       "<style scoped>\n",
       "    .dataframe tbody tr th:only-of-type {\n",
       "        vertical-align: middle;\n",
       "    }\n",
       "\n",
       "    .dataframe tbody tr th {\n",
       "        vertical-align: top;\n",
       "    }\n",
       "\n",
       "    .dataframe thead th {\n",
       "        text-align: right;\n",
       "    }\n",
       "</style>\n",
       "<table border=\"1\" class=\"dataframe\">\n",
       "  <thead>\n",
       "    <tr style=\"text-align: right;\">\n",
       "      <th></th>\n",
       "      <th>D1</th>\n",
       "      <th>D2</th>\n",
       "      <th>D3</th>\n",
       "      <th>D4</th>\n",
       "      <th>D5</th>\n",
       "      <th>dt</th>\n",
       "    </tr>\n",
       "  </thead>\n",
       "  <tbody>\n",
       "    <tr>\n",
       "      <th>0</th>\n",
       "      <td>0.0625</td>\n",
       "      <td>0.018182</td>\n",
       "      <td>0.014286</td>\n",
       "      <td>0.10</td>\n",
       "      <td>0.1</td>\n",
       "      <td>2013-03-11</td>\n",
       "    </tr>\n",
       "    <tr>\n",
       "      <th>1</th>\n",
       "      <td>0.1250</td>\n",
       "      <td>0.000000</td>\n",
       "      <td>0.014286</td>\n",
       "      <td>0.20</td>\n",
       "      <td>0.1</td>\n",
       "      <td>2013-03-12</td>\n",
       "    </tr>\n",
       "    <tr>\n",
       "      <th>2</th>\n",
       "      <td>0.0250</td>\n",
       "      <td>0.090909</td>\n",
       "      <td>0.142857</td>\n",
       "      <td>0.10</td>\n",
       "      <td>0.0</td>\n",
       "      <td>2013-03-13</td>\n",
       "    </tr>\n",
       "    <tr>\n",
       "      <th>3</th>\n",
       "      <td>0.0375</td>\n",
       "      <td>0.181818</td>\n",
       "      <td>0.071429</td>\n",
       "      <td>0.00</td>\n",
       "      <td>0.1</td>\n",
       "      <td>2013-03-14</td>\n",
       "    </tr>\n",
       "    <tr>\n",
       "      <th>4</th>\n",
       "      <td>0.1000</td>\n",
       "      <td>0.036364</td>\n",
       "      <td>0.000000</td>\n",
       "      <td>0.16</td>\n",
       "      <td>0.1</td>\n",
       "      <td>2013-03-15</td>\n",
       "    </tr>\n",
       "  </tbody>\n",
       "</table>\n",
       "</div>"
      ],
      "text/plain": [
       "       D1        D2        D3    D4   D5          dt\n",
       "0  0.0625  0.018182  0.014286  0.10  0.1  2013-03-11\n",
       "1  0.1250  0.000000  0.014286  0.20  0.1  2013-03-12\n",
       "2  0.0250  0.090909  0.142857  0.10  0.0  2013-03-13\n",
       "3  0.0375  0.181818  0.071429  0.00  0.1  2013-03-14\n",
       "4  0.1000  0.036364  0.000000  0.16  0.1  2013-03-15"
      ]
     },
     "execution_count": 3,
     "metadata": {},
     "output_type": "execute_result"
    }
   ],
   "source": [
    "rain = pd.read_excel('../降雨预报数据.xlsx')\n",
    "rain['dt'] = rain['TimeStample'].dt.strftime('%Y-%m-%d')\n",
    "rain.drop('TimeStample', axis=1, inplace=True)\n",
    "rain.head()"
   ]
  },
  {
   "cell_type": "code",
   "execution_count": 4,
   "metadata": {
    "ExecuteTime": {
     "end_time": "2020-09-06T14:27:10.608928Z",
     "start_time": "2020-09-06T14:27:10.592934Z"
    }
   },
   "outputs": [
    {
     "name": "stdout",
     "output_type": "stream",
     "text": [
      "<class 'pandas.core.frame.DataFrame'>\n",
      "RangeIndex: 1836 entries, 0 to 1835\n",
      "Data columns (total 6 columns):\n",
      " #   Column  Non-Null Count  Dtype  \n",
      "---  ------  --------------  -----  \n",
      " 0   D1      1836 non-null   float64\n",
      " 1   D2      1836 non-null   float64\n",
      " 2   D3      1836 non-null   float64\n",
      " 3   D4      1836 non-null   float64\n",
      " 4   D5      1836 non-null   float64\n",
      " 5   dt      1836 non-null   object \n",
      "dtypes: float64(5), object(1)\n",
      "memory usage: 86.2+ KB\n"
     ]
    }
   ],
   "source": [
    "rain.info()"
   ]
  },
  {
   "cell_type": "code",
   "execution_count": 5,
   "metadata": {
    "ExecuteTime": {
     "end_time": "2020-09-06T14:27:10.979832Z",
     "start_time": "2020-09-06T14:27:10.611923Z"
    }
   },
   "outputs": [
    {
     "data": {
      "text/html": [
       "<div>\n",
       "<style scoped>\n",
       "    .dataframe tbody tr th:only-of-type {\n",
       "        vertical-align: middle;\n",
       "    }\n",
       "\n",
       "    .dataframe tbody tr th {\n",
       "        vertical-align: top;\n",
       "    }\n",
       "\n",
       "    .dataframe thead th {\n",
       "        text-align: right;\n",
       "    }\n",
       "</style>\n",
       "<table border=\"1\" class=\"dataframe\">\n",
       "  <thead>\n",
       "    <tr style=\"text-align: right;\">\n",
       "      <th></th>\n",
       "      <th>dt</th>\n",
       "      <th>T</th>\n",
       "      <th>w</th>\n",
       "      <th>wd</th>\n",
       "    </tr>\n",
       "  </thead>\n",
       "  <tbody>\n",
       "    <tr>\n",
       "      <th>0</th>\n",
       "      <td>2013-01-01</td>\n",
       "      <td>0.168571</td>\n",
       "      <td>0.173913</td>\n",
       "      <td>999012</td>\n",
       "    </tr>\n",
       "    <tr>\n",
       "      <th>1</th>\n",
       "      <td>2013-01-02</td>\n",
       "      <td>0.157143</td>\n",
       "      <td>0.478261</td>\n",
       "      <td>999004</td>\n",
       "    </tr>\n",
       "    <tr>\n",
       "      <th>2</th>\n",
       "      <td>2013-01-03</td>\n",
       "      <td>0.128571</td>\n",
       "      <td>0.717391</td>\n",
       "      <td>999004</td>\n",
       "    </tr>\n",
       "    <tr>\n",
       "      <th>3</th>\n",
       "      <td>2013-01-04</td>\n",
       "      <td>0.037143</td>\n",
       "      <td>0.304348</td>\n",
       "      <td>999003</td>\n",
       "    </tr>\n",
       "    <tr>\n",
       "      <th>4</th>\n",
       "      <td>2013-01-05</td>\n",
       "      <td>0.071429</td>\n",
       "      <td>0.239130</td>\n",
       "      <td>999003</td>\n",
       "    </tr>\n",
       "  </tbody>\n",
       "</table>\n",
       "</div>"
      ],
      "text/plain": [
       "           dt         T         w      wd\n",
       "0  2013-01-01  0.168571  0.173913  999012\n",
       "1  2013-01-02  0.157143  0.478261  999004\n",
       "2  2013-01-03  0.128571  0.717391  999004\n",
       "3  2013-01-04  0.037143  0.304348  999003\n",
       "4  2013-01-05  0.071429  0.239130  999003"
      ]
     },
     "execution_count": 5,
     "metadata": {},
     "output_type": "execute_result"
    }
   ],
   "source": [
    "environment = pd.read_excel('../环境表.xlsx')\n",
    "environment.rename(columns={'TimeStample': 'dt'}, inplace=True)\n",
    "environment.head()"
   ]
  },
  {
   "cell_type": "code",
   "execution_count": 6,
   "metadata": {
    "ExecuteTime": {
     "end_time": "2020-09-06T14:27:10.997822Z",
     "start_time": "2020-09-06T14:27:10.983830Z"
    }
   },
   "outputs": [
    {
     "name": "stdout",
     "output_type": "stream",
     "text": [
      "<class 'pandas.core.frame.DataFrame'>\n",
      "RangeIndex: 1919 entries, 0 to 1918\n",
      "Data columns (total 4 columns):\n",
      " #   Column  Non-Null Count  Dtype  \n",
      "---  ------  --------------  -----  \n",
      " 0   dt      1919 non-null   object \n",
      " 1   T       1914 non-null   float64\n",
      " 2   w       1914 non-null   float64\n",
      " 3   wd      1919 non-null   int64  \n",
      "dtypes: float64(2), int64(1), object(1)\n",
      "memory usage: 60.1+ KB\n"
     ]
    }
   ],
   "source": [
    "environment.info()"
   ]
  },
  {
   "cell_type": "code",
   "execution_count": 7,
   "metadata": {
    "ExecuteTime": {
     "end_time": "2020-09-06T14:27:12.045004Z",
     "start_time": "2020-09-06T14:27:11.001821Z"
    }
   },
   "outputs": [
    {
     "data": {
      "text/html": [
       "<div>\n",
       "<style scoped>\n",
       "    .dataframe tbody tr th:only-of-type {\n",
       "        vertical-align: middle;\n",
       "    }\n",
       "\n",
       "    .dataframe tbody tr th {\n",
       "        vertical-align: top;\n",
       "    }\n",
       "\n",
       "    .dataframe thead th {\n",
       "        text-align: right;\n",
       "    }\n",
       "</style>\n",
       "<table border=\"1\" class=\"dataframe\">\n",
       "  <thead>\n",
       "    <tr style=\"text-align: right;\">\n",
       "      <th></th>\n",
       "      <th>TimeStample</th>\n",
       "      <th>Qi</th>\n",
       "      <th>dt</th>\n",
       "    </tr>\n",
       "  </thead>\n",
       "  <tbody>\n",
       "    <tr>\n",
       "      <th>0</th>\n",
       "      <td>2013-01-01 02:00:00</td>\n",
       "      <td>0.018201</td>\n",
       "      <td>2013-01-01</td>\n",
       "    </tr>\n",
       "    <tr>\n",
       "      <th>1</th>\n",
       "      <td>2013-01-01 05:00:00</td>\n",
       "      <td>0.018196</td>\n",
       "      <td>2013-01-01</td>\n",
       "    </tr>\n",
       "    <tr>\n",
       "      <th>2</th>\n",
       "      <td>2013-01-01 08:00:00</td>\n",
       "      <td>0.030095</td>\n",
       "      <td>2013-01-01</td>\n",
       "    </tr>\n",
       "    <tr>\n",
       "      <th>3</th>\n",
       "      <td>2013-01-01 11:00:00</td>\n",
       "      <td>0.123196</td>\n",
       "      <td>2013-01-01</td>\n",
       "    </tr>\n",
       "    <tr>\n",
       "      <th>4</th>\n",
       "      <td>2013-01-01 14:00:00</td>\n",
       "      <td>0.133178</td>\n",
       "      <td>2013-01-01</td>\n",
       "    </tr>\n",
       "  </tbody>\n",
       "</table>\n",
       "</div>"
      ],
      "text/plain": [
       "          TimeStample        Qi          dt\n",
       "0 2013-01-01 02:00:00  0.018201  2013-01-01\n",
       "1 2013-01-01 05:00:00  0.018196  2013-01-01\n",
       "2 2013-01-01 08:00:00  0.030095  2013-01-01\n",
       "3 2013-01-01 11:00:00  0.123196  2013-01-01\n",
       "4 2013-01-01 14:00:00  0.133178  2013-01-01"
      ]
     },
     "execution_count": 7,
     "metadata": {},
     "output_type": "execute_result"
    }
   ],
   "source": [
    "water = pd.read_excel('../入库流量数据.xlsx')\n",
    "water['dt'] = water['TimeStample'].dt.strftime('%Y-%m-%d')\n",
    "water.head()"
   ]
  },
  {
   "cell_type": "code",
   "execution_count": 8,
   "metadata": {
    "ExecuteTime": {
     "end_time": "2020-09-06T14:27:12.063972Z",
     "start_time": "2020-09-06T14:27:12.049982Z"
    }
   },
   "outputs": [
    {
     "name": "stdout",
     "output_type": "stream",
     "text": [
      "<class 'pandas.core.frame.DataFrame'>\n",
      "RangeIndex: 15019 entries, 0 to 15018\n",
      "Data columns (total 3 columns):\n",
      " #   Column       Non-Null Count  Dtype         \n",
      "---  ------       --------------  -----         \n",
      " 0   TimeStample  15019 non-null  datetime64[ns]\n",
      " 1   Qi           15019 non-null  float64       \n",
      " 2   dt           15019 non-null  object        \n",
      "dtypes: datetime64[ns](1), float64(1), object(1)\n",
      "memory usage: 352.1+ KB\n"
     ]
    }
   ],
   "source": [
    "water.info()"
   ]
  },
  {
   "cell_type": "code",
   "execution_count": 9,
   "metadata": {
    "ExecuteTime": {
     "end_time": "2020-09-06T14:27:12.096958Z",
     "start_time": "2020-09-06T14:27:12.068970Z"
    }
   },
   "outputs": [
    {
     "name": "stdout",
     "output_type": "stream",
     "text": [
      "(248, 3) (248, 3) (248, 3)\n",
      "(56, 3) (56, 3) (56, 3)\n"
     ]
    }
   ],
   "source": [
    "train1 = water.loc[(water['TimeStample'] >= '2017-01-01 02:00:00') & (water['TimeStample'] < '2017-02-01 00:00:00')]\n",
    "train2 = water.loc[(water['TimeStample'] >= '2017-07-01 02:00:00') & (water['TimeStample'] < '2017-08-01 00:00:00')]\n",
    "train3 = water.loc[(water['TimeStample'] >= '2017-10-01 02:00:00') & (water['TimeStample'] < '2017-11-01 00:00:00')]\n",
    "print(train1.shape, train2.shape, train3.shape)\n",
    "\n",
    "\n",
    "test1 = water.loc[(water['TimeStample'] >= '2017-02-01 02:00:00') & (water['TimeStample'] <= '2017-02-07 23:00:00')]\n",
    "test2 = water.loc[(water['TimeStample'] >= '2017-08-01 02:00:00') & (water['TimeStample'] <= '2017-08-07 23:00:00')]\n",
    "test3 = water.loc[(water['TimeStample'] >= '2017-11-01 02:00:00') & (water['TimeStample'] <= '2017-11-07 23:00:00')]\n",
    "print(test1.shape, test2.shape, test3.shape)"
   ]
  },
  {
   "cell_type": "code",
   "execution_count": 10,
   "metadata": {
    "ExecuteTime": {
     "end_time": "2020-09-06T14:27:12.112945Z",
     "start_time": "2020-09-06T14:27:12.100952Z"
    }
   },
   "outputs": [
    {
     "data": {
      "text/plain": [
       "(912, 3)"
      ]
     },
     "execution_count": 10,
     "metadata": {},
     "output_type": "execute_result"
    }
   ],
   "source": [
    "df_list = [train1, train2, train3, test1, test2, test3]\n",
    "data = pd.concat(df_list)\n",
    "data.shape"
   ]
  },
  {
   "cell_type": "code",
   "execution_count": 11,
   "metadata": {
    "ExecuteTime": {
     "end_time": "2020-09-06T14:27:12.119942Z",
     "start_time": "2020-09-06T14:27:12.116943Z"
    }
   },
   "outputs": [],
   "source": [
    "# train1 = df.loc[(df['TimeStample'] >= '2018-01-01 02:00:00') & (df['TimeStample'] < '2018-02-01 00:00:00')]\n",
    "# train2 = df.loc[(df['TimeStample'] >= '2018-07-01 02:00:00') & (df['TimeStample'] < '2018-08-01 00:00:00')]\n",
    "# train3 = df.loc[(df['TimeStample'] >= '2018-10-01 02:00:00') & (df['TimeStample'] < '2018-11-01 00:00:00')]\n",
    "# train1.shape, train2.shape, train3.shape\n",
    "\n",
    "\n",
    "# test1 = df.loc[(df['TimeStample'] >= '2018-02-01 02:00:00') & (df['TimeStample'] <= '2018-02-07 23:00:00')]\n",
    "# test2 = df.loc[(df['TimeStample'] >= '2018-08-01 02:00:00') & (df['TimeStample'] <= '2018-08-07 23:00:00')]\n",
    "# test3 = df.loc[(df['TimeStample'] >= '2018-11-01 02:00:00') & (df['TimeStample'] <= '2018-11-07 23:00:00')]\n",
    "# test1.shape, test2.shape, test3.shape"
   ]
  },
  {
   "cell_type": "code",
   "execution_count": 12,
   "metadata": {
    "ExecuteTime": {
     "end_time": "2020-09-06T14:27:12.221883Z",
     "start_time": "2020-09-06T14:27:12.122939Z"
    }
   },
   "outputs": [
    {
     "data": {
      "text/html": [
       "<div>\n",
       "<style scoped>\n",
       "    .dataframe tbody tr th:only-of-type {\n",
       "        vertical-align: middle;\n",
       "    }\n",
       "\n",
       "    .dataframe tbody tr th {\n",
       "        vertical-align: top;\n",
       "    }\n",
       "\n",
       "    .dataframe thead th {\n",
       "        text-align: right;\n",
       "    }\n",
       "</style>\n",
       "<table border=\"1\" class=\"dataframe\">\n",
       "  <thead>\n",
       "    <tr style=\"text-align: right;\">\n",
       "      <th></th>\n",
       "      <th>TimeStample</th>\n",
       "      <th>Qi</th>\n",
       "      <th>dt</th>\n",
       "      <th>D1</th>\n",
       "      <th>D2</th>\n",
       "      <th>D3</th>\n",
       "      <th>D4</th>\n",
       "      <th>D5</th>\n",
       "      <th>T</th>\n",
       "      <th>w</th>\n",
       "      <th>...</th>\n",
       "      <th>R30</th>\n",
       "      <th>R31</th>\n",
       "      <th>R32</th>\n",
       "      <th>R33</th>\n",
       "      <th>R34</th>\n",
       "      <th>R35</th>\n",
       "      <th>R36</th>\n",
       "      <th>R37</th>\n",
       "      <th>R38</th>\n",
       "      <th>R39</th>\n",
       "    </tr>\n",
       "  </thead>\n",
       "  <tbody>\n",
       "    <tr>\n",
       "      <th>0</th>\n",
       "      <td>2017-01-01 02:00:00</td>\n",
       "      <td>0.083045</td>\n",
       "      <td>2017-01-01</td>\n",
       "      <td>0.025</td>\n",
       "      <td>0.036364</td>\n",
       "      <td>0.114286</td>\n",
       "      <td>0.24</td>\n",
       "      <td>0.24</td>\n",
       "      <td>0.342857</td>\n",
       "      <td>0.123913</td>\n",
       "      <td>...</td>\n",
       "      <td>0.0</td>\n",
       "      <td>0.0</td>\n",
       "      <td>0.0</td>\n",
       "      <td>0.0</td>\n",
       "      <td>0.0</td>\n",
       "      <td>0.0</td>\n",
       "      <td>0.0</td>\n",
       "      <td>0.0</td>\n",
       "      <td>0.0</td>\n",
       "      <td>0.0</td>\n",
       "    </tr>\n",
       "    <tr>\n",
       "      <th>1</th>\n",
       "      <td>2017-01-01 05:00:00</td>\n",
       "      <td>0.087865</td>\n",
       "      <td>2017-01-01</td>\n",
       "      <td>0.025</td>\n",
       "      <td>0.036364</td>\n",
       "      <td>0.114286</td>\n",
       "      <td>0.24</td>\n",
       "      <td>0.24</td>\n",
       "      <td>0.342857</td>\n",
       "      <td>0.123913</td>\n",
       "      <td>...</td>\n",
       "      <td>0.0</td>\n",
       "      <td>0.0</td>\n",
       "      <td>0.0</td>\n",
       "      <td>0.0</td>\n",
       "      <td>0.0</td>\n",
       "      <td>0.0</td>\n",
       "      <td>0.0</td>\n",
       "      <td>0.0</td>\n",
       "      <td>0.0</td>\n",
       "      <td>0.0</td>\n",
       "    </tr>\n",
       "    <tr>\n",
       "      <th>2</th>\n",
       "      <td>2017-01-01 08:00:00</td>\n",
       "      <td>0.074158</td>\n",
       "      <td>2017-01-01</td>\n",
       "      <td>0.025</td>\n",
       "      <td>0.036364</td>\n",
       "      <td>0.114286</td>\n",
       "      <td>0.24</td>\n",
       "      <td>0.24</td>\n",
       "      <td>0.342857</td>\n",
       "      <td>0.123913</td>\n",
       "      <td>...</td>\n",
       "      <td>0.0</td>\n",
       "      <td>0.0</td>\n",
       "      <td>0.0</td>\n",
       "      <td>0.0</td>\n",
       "      <td>0.0</td>\n",
       "      <td>0.0</td>\n",
       "      <td>0.0</td>\n",
       "      <td>0.0</td>\n",
       "      <td>0.0</td>\n",
       "      <td>0.0</td>\n",
       "    </tr>\n",
       "    <tr>\n",
       "      <th>3</th>\n",
       "      <td>2017-01-01 11:00:00</td>\n",
       "      <td>0.062911</td>\n",
       "      <td>2017-01-01</td>\n",
       "      <td>0.025</td>\n",
       "      <td>0.036364</td>\n",
       "      <td>0.114286</td>\n",
       "      <td>0.24</td>\n",
       "      <td>0.24</td>\n",
       "      <td>0.342857</td>\n",
       "      <td>0.123913</td>\n",
       "      <td>...</td>\n",
       "      <td>0.0</td>\n",
       "      <td>0.0</td>\n",
       "      <td>0.0</td>\n",
       "      <td>0.0</td>\n",
       "      <td>0.0</td>\n",
       "      <td>0.0</td>\n",
       "      <td>0.0</td>\n",
       "      <td>0.0</td>\n",
       "      <td>0.0</td>\n",
       "      <td>0.0</td>\n",
       "    </tr>\n",
       "    <tr>\n",
       "      <th>4</th>\n",
       "      <td>2017-01-01 14:00:00</td>\n",
       "      <td>0.040116</td>\n",
       "      <td>2017-01-01</td>\n",
       "      <td>0.025</td>\n",
       "      <td>0.036364</td>\n",
       "      <td>0.114286</td>\n",
       "      <td>0.24</td>\n",
       "      <td>0.24</td>\n",
       "      <td>0.342857</td>\n",
       "      <td>0.123913</td>\n",
       "      <td>...</td>\n",
       "      <td>0.0</td>\n",
       "      <td>0.0</td>\n",
       "      <td>0.0</td>\n",
       "      <td>0.0</td>\n",
       "      <td>0.0</td>\n",
       "      <td>0.0</td>\n",
       "      <td>0.0</td>\n",
       "      <td>0.0</td>\n",
       "      <td>0.0</td>\n",
       "      <td>0.0</td>\n",
       "    </tr>\n",
       "  </tbody>\n",
       "</table>\n",
       "<p>5 rows × 50 columns</p>\n",
       "</div>"
      ],
      "text/plain": [
       "          TimeStample        Qi          dt     D1        D2        D3    D4  \\\n",
       "0 2017-01-01 02:00:00  0.083045  2017-01-01  0.025  0.036364  0.114286  0.24   \n",
       "1 2017-01-01 05:00:00  0.087865  2017-01-01  0.025  0.036364  0.114286  0.24   \n",
       "2 2017-01-01 08:00:00  0.074158  2017-01-01  0.025  0.036364  0.114286  0.24   \n",
       "3 2017-01-01 11:00:00  0.062911  2017-01-01  0.025  0.036364  0.114286  0.24   \n",
       "4 2017-01-01 14:00:00  0.040116  2017-01-01  0.025  0.036364  0.114286  0.24   \n",
       "\n",
       "     D5         T         w  ...  R30  R31  R32  R33  R34  R35  R36  R37  R38  \\\n",
       "0  0.24  0.342857  0.123913  ...  0.0  0.0  0.0  0.0  0.0  0.0  0.0  0.0  0.0   \n",
       "1  0.24  0.342857  0.123913  ...  0.0  0.0  0.0  0.0  0.0  0.0  0.0  0.0  0.0   \n",
       "2  0.24  0.342857  0.123913  ...  0.0  0.0  0.0  0.0  0.0  0.0  0.0  0.0  0.0   \n",
       "3  0.24  0.342857  0.123913  ...  0.0  0.0  0.0  0.0  0.0  0.0  0.0  0.0  0.0   \n",
       "4  0.24  0.342857  0.123913  ...  0.0  0.0  0.0  0.0  0.0  0.0  0.0  0.0  0.0   \n",
       "\n",
       "   R39  \n",
       "0  0.0  \n",
       "1  0.0  \n",
       "2  0.0  \n",
       "3  0.0  \n",
       "4  0.0  \n",
       "\n",
       "[5 rows x 50 columns]"
      ]
     },
     "execution_count": 12,
     "metadata": {},
     "output_type": "execute_result"
    }
   ],
   "source": [
    "data = data.merge(rain, how='left', on='dt')\n",
    "data = data.merge(environment, how='left', on='dt')\n",
    "data = data.merge(station_rain, how='left', on='TimeStample')\n",
    "data.head()"
   ]
  },
  {
   "cell_type": "code",
   "execution_count": 13,
   "metadata": {
    "ExecuteTime": {
     "end_time": "2020-09-06T14:27:12.261859Z",
     "start_time": "2020-09-06T14:27:12.229880Z"
    }
   },
   "outputs": [
    {
     "name": "stdout",
     "output_type": "stream",
     "text": [
      "(248, 50) (248, 50) (248, 50)\n",
      "(56, 50) (56, 50) (56, 50)\n"
     ]
    }
   ],
   "source": [
    "train1 = data.loc[(data['TimeStample'] >= '2017-01-01 02:00:00') & (data['TimeStample'] < '2017-02-01 00:00:00')]\n",
    "train2 = data.loc[(data['TimeStample'] >= '2017-07-01 02:00:00') & (data['TimeStample'] < '2017-08-01 00:00:00')]\n",
    "train3 = data.loc[(data['TimeStample'] >= '2017-10-01 02:00:00') & (data['TimeStample'] < '2017-11-01 00:00:00')]\n",
    "print(train1.shape, train2.shape, train3.shape)\n",
    "\n",
    "\n",
    "test1 = data.loc[(data['TimeStample'] >= '2017-02-01 02:00:00') & (data['TimeStample'] <= '2017-02-07 23:00:00')]\n",
    "test2 = data.loc[(data['TimeStample'] >= '2017-08-01 02:00:00') & (data['TimeStample'] <= '2017-08-07 23:00:00')]\n",
    "test3 = data.loc[(data['TimeStample'] >= '2017-11-01 02:00:00') & (data['TimeStample'] <= '2017-11-07 23:00:00')]\n",
    "print(test1.shape, test2.shape, test3.shape)"
   ]
  },
  {
   "cell_type": "code",
   "execution_count": 14,
   "metadata": {
    "ExecuteTime": {
     "end_time": "2020-09-06T14:27:12.282849Z",
     "start_time": "2020-09-06T14:27:12.264858Z"
    }
   },
   "outputs": [],
   "source": [
    "train_y1 = train1['Qi']\n",
    "train1.drop(['TimeStample', 'dt', 'Qi'], axis=1, inplace=True)\n",
    "train_x1 = train1\n",
    "\n",
    "train_y2 = train2['Qi']\n",
    "train2.drop(['TimeStample', 'dt', 'Qi'], axis=1, inplace=True)\n",
    "train_x2 = train2\n",
    "\n",
    "train_y3 = train3['Qi']\n",
    "train3.drop(['TimeStample', 'dt', 'Qi'], axis=1, inplace=True)\n",
    "train_x3 = train3\n",
    "\n",
    "test_y1 = test1['Qi']\n",
    "test1.drop(['TimeStample', 'dt', 'Qi'], axis=1, inplace=True)\n",
    "test_x1 = test1\n",
    "\n",
    "test_y2 = test2['Qi']\n",
    "test2.drop(['TimeStample', 'dt', 'Qi'], axis=1, inplace=True)\n",
    "test_x2 = test2\n",
    "\n",
    "test_y3 = test3['Qi']\n",
    "test3.drop(['TimeStample', 'dt', 'Qi'], axis=1, inplace=True)\n",
    "test_x3 = test3"
   ]
  },
  {
   "cell_type": "code",
   "execution_count": 15,
   "metadata": {
    "ExecuteTime": {
     "end_time": "2020-09-06T14:27:12.296842Z",
     "start_time": "2020-09-06T14:27:12.286846Z"
    }
   },
   "outputs": [],
   "source": [
    "lgb_train1 = lgb.Dataset(train_x1, label=train_y1)\n",
    "lgb_test1 = lgb.Dataset(test_x1, label=test_y1, reference=lgb_train1)\n",
    "\n",
    "lgb_train2 = lgb.Dataset(train_x2, label=train_y2)\n",
    "lgb_test2 = lgb.Dataset(test_x2, label=test_y2, reference=lgb_train2)\n",
    "\n",
    "lgb_train3 = lgb.Dataset(train_x3, label=train_y3)\n",
    "lgb_test3 = lgb.Dataset(test_x3, label=test_y3, reference=lgb_train1)"
   ]
  },
  {
   "cell_type": "code",
   "execution_count": 16,
   "metadata": {
    "ExecuteTime": {
     "end_time": "2020-09-06T14:27:12.308834Z",
     "start_time": "2020-09-06T14:27:12.300838Z"
    }
   },
   "outputs": [],
   "source": [
    "# regression\n",
    "params = {'boosting_type': 'gbdt',\n",
    "          'objective': 'regression',\n",
    "          'metric': 'mae',\n",
    "          'learning_rate': 0.05}"
   ]
  },
  {
   "cell_type": "code",
   "execution_count": 17,
   "metadata": {
    "ExecuteTime": {
     "end_time": "2020-09-06T14:27:12.525708Z",
     "start_time": "2020-09-06T14:27:12.312834Z"
    }
   },
   "outputs": [
    {
     "name": "stdout",
     "output_type": "stream",
     "text": [
      "Training until validation scores don't improve for 200 rounds\n",
      "[10]\ttraining's l1: 0.0263967\tvalid_0's l1: 0.0352662\n",
      "[20]\ttraining's l1: 0.0258617\tvalid_0's l1: 0.0349808\n",
      "[30]\ttraining's l1: 0.0255003\tvalid_0's l1: 0.0345366\n",
      "[40]\ttraining's l1: 0.0252925\tvalid_0's l1: 0.0344783\n",
      "[50]\ttraining's l1: 0.0251229\tvalid_0's l1: 0.0344158\n",
      "[60]\ttraining's l1: 0.0250247\tvalid_0's l1: 0.0344374\n",
      "[70]\ttraining's l1: 0.0249597\tvalid_0's l1: 0.0343972\n",
      "[80]\ttraining's l1: 0.0249167\tvalid_0's l1: 0.0344002\n",
      "[90]\ttraining's l1: 0.024883\tvalid_0's l1: 0.0344191\n",
      "[100]\ttraining's l1: 0.0248586\tvalid_0's l1: 0.0344538\n",
      "[110]\ttraining's l1: 0.0248468\tvalid_0's l1: 0.0344649\n",
      "[120]\ttraining's l1: 0.0248419\tvalid_0's l1: 0.03449\n",
      "[130]\ttraining's l1: 0.0248355\tvalid_0's l1: 0.0345165\n",
      "[140]\ttraining's l1: 0.0248313\tvalid_0's l1: 0.0345221\n",
      "[150]\ttraining's l1: 0.0248278\tvalid_0's l1: 0.0345196\n",
      "[160]\ttraining's l1: 0.0248236\tvalid_0's l1: 0.0345282\n",
      "[170]\ttraining's l1: 0.0248213\tvalid_0's l1: 0.034519\n",
      "[180]\ttraining's l1: 0.0248178\tvalid_0's l1: 0.0345097\n",
      "[190]\ttraining's l1: 0.0248155\tvalid_0's l1: 0.0345118\n",
      "[200]\ttraining's l1: 0.0248135\tvalid_0's l1: 0.0345093\n",
      "[210]\ttraining's l1: 0.0248113\tvalid_0's l1: 0.0345109\n",
      "[220]\ttraining's l1: 0.0248102\tvalid_0's l1: 0.0345052\n",
      "[230]\ttraining's l1: 0.0248086\tvalid_0's l1: 0.0345051\n",
      "[240]\ttraining's l1: 0.0248076\tvalid_0's l1: 0.0345082\n",
      "[250]\ttraining's l1: 0.0248063\tvalid_0's l1: 0.0345152\n",
      "Early stopping, best iteration is:\n",
      "[54]\ttraining's l1: 0.0250852\tvalid_0's l1: 0.034375\n"
     ]
    }
   ],
   "source": [
    "lgb_model1 = lgb.train(params,\n",
    "                       lgb_train1,\n",
    "                       valid_sets=[lgb_test1, lgb_train1],\n",
    "                       num_boost_round=1000,\n",
    "                       early_stopping_rounds=200,\n",
    "                       verbose_eval=10)"
   ]
  },
  {
   "cell_type": "code",
   "execution_count": 18,
   "metadata": {
    "ExecuteTime": {
     "end_time": "2020-09-06T14:27:12.737585Z",
     "start_time": "2020-09-06T14:27:12.528706Z"
    }
   },
   "outputs": [
    {
     "name": "stdout",
     "output_type": "stream",
     "text": [
      "Training until validation scores don't improve for 200 rounds\n",
      "[10]\ttraining's l1: 0.102614\tvalid_0's l1: 0.112615\n",
      "[20]\ttraining's l1: 0.0892049\tvalid_0's l1: 0.103721\n",
      "[30]\ttraining's l1: 0.0810191\tvalid_0's l1: 0.100914\n",
      "[40]\ttraining's l1: 0.0761696\tvalid_0's l1: 0.099476\n",
      "[50]\ttraining's l1: 0.0730821\tvalid_0's l1: 0.0975911\n",
      "[60]\ttraining's l1: 0.0711617\tvalid_0's l1: 0.0996174\n",
      "[70]\ttraining's l1: 0.0696579\tvalid_0's l1: 0.10195\n",
      "[80]\ttraining's l1: 0.0686154\tvalid_0's l1: 0.101774\n",
      "[90]\ttraining's l1: 0.0674399\tvalid_0's l1: 0.10069\n",
      "[100]\ttraining's l1: 0.0664245\tvalid_0's l1: 0.100629\n",
      "[110]\ttraining's l1: 0.0655692\tvalid_0's l1: 0.100652\n",
      "[120]\ttraining's l1: 0.0648445\tvalid_0's l1: 0.100055\n",
      "[130]\ttraining's l1: 0.0642333\tvalid_0's l1: 0.100125\n",
      "[140]\ttraining's l1: 0.0637409\tvalid_0's l1: 0.0998254\n",
      "[150]\ttraining's l1: 0.0631031\tvalid_0's l1: 0.100699\n",
      "[160]\ttraining's l1: 0.0624369\tvalid_0's l1: 0.100747\n",
      "[170]\ttraining's l1: 0.0618462\tvalid_0's l1: 0.100825\n",
      "[180]\ttraining's l1: 0.0614256\tvalid_0's l1: 0.100788\n",
      "[190]\ttraining's l1: 0.0611424\tvalid_0's l1: 0.100184\n",
      "[200]\ttraining's l1: 0.060882\tvalid_0's l1: 0.100152\n",
      "[210]\ttraining's l1: 0.0606595\tvalid_0's l1: 0.0999173\n",
      "[220]\ttraining's l1: 0.0604834\tvalid_0's l1: 0.100083\n",
      "[230]\ttraining's l1: 0.0604053\tvalid_0's l1: 0.0995931\n",
      "[240]\ttraining's l1: 0.0603965\tvalid_0's l1: 0.0996608\n",
      "Early stopping, best iteration is:\n",
      "[46]\ttraining's l1: 0.0741168\tvalid_0's l1: 0.097124\n"
     ]
    }
   ],
   "source": [
    "lgb_model2 = lgb.train(params,\n",
    "                       lgb_train2,\n",
    "                       valid_sets=[lgb_test2, lgb_train2],\n",
    "                       num_boost_round=1000,\n",
    "                       early_stopping_rounds=200,\n",
    "                       verbose_eval=10)"
   ]
  },
  {
   "cell_type": "code",
   "execution_count": 19,
   "metadata": {
    "ExecuteTime": {
     "end_time": "2020-09-06T14:27:13.145351Z",
     "start_time": "2020-09-06T14:27:12.740584Z"
    },
    "scrolled": true
   },
   "outputs": [
    {
     "name": "stdout",
     "output_type": "stream",
     "text": [
      "Training until validation scores don't improve for 200 rounds\n",
      "[10]\ttraining's l1: 0.0791693\tvalid_0's l1: 0.207431\n",
      "[20]\ttraining's l1: 0.0642511\tvalid_0's l1: 0.160702\n",
      "[30]\ttraining's l1: 0.0574338\tvalid_0's l1: 0.132723\n",
      "[40]\ttraining's l1: 0.0540993\tvalid_0's l1: 0.118753\n",
      "[50]\ttraining's l1: 0.0520311\tvalid_0's l1: 0.108821\n",
      "[60]\ttraining's l1: 0.0501259\tvalid_0's l1: 0.102212\n",
      "[70]\ttraining's l1: 0.0493899\tvalid_0's l1: 0.0956335\n",
      "[80]\ttraining's l1: 0.0486963\tvalid_0's l1: 0.0909112\n",
      "[90]\ttraining's l1: 0.0481685\tvalid_0's l1: 0.0869541\n",
      "[100]\ttraining's l1: 0.0476372\tvalid_0's l1: 0.0834952\n",
      "[110]\ttraining's l1: 0.047361\tvalid_0's l1: 0.082489\n",
      "[120]\ttraining's l1: 0.0469642\tvalid_0's l1: 0.0818064\n",
      "[130]\ttraining's l1: 0.0466401\tvalid_0's l1: 0.082168\n",
      "[140]\ttraining's l1: 0.0464256\tvalid_0's l1: 0.0809156\n",
      "[150]\ttraining's l1: 0.0459885\tvalid_0's l1: 0.080837\n",
      "[160]\ttraining's l1: 0.0457882\tvalid_0's l1: 0.0804571\n",
      "[170]\ttraining's l1: 0.0455958\tvalid_0's l1: 0.0801862\n",
      "[180]\ttraining's l1: 0.0453731\tvalid_0's l1: 0.0792884\n",
      "[190]\ttraining's l1: 0.0452034\tvalid_0's l1: 0.0788804\n",
      "[200]\ttraining's l1: 0.0450239\tvalid_0's l1: 0.0786569\n",
      "[210]\ttraining's l1: 0.0448774\tvalid_0's l1: 0.0779299\n",
      "[220]\ttraining's l1: 0.0447197\tvalid_0's l1: 0.078151\n",
      "[230]\ttraining's l1: 0.044638\tvalid_0's l1: 0.0779074\n",
      "[240]\ttraining's l1: 0.0444643\tvalid_0's l1: 0.0772611\n",
      "[250]\ttraining's l1: 0.0443874\tvalid_0's l1: 0.0768613\n",
      "[260]\ttraining's l1: 0.0442176\tvalid_0's l1: 0.076799\n",
      "[270]\ttraining's l1: 0.0441245\tvalid_0's l1: 0.0773081\n",
      "[280]\ttraining's l1: 0.044\tvalid_0's l1: 0.0768688\n",
      "[290]\ttraining's l1: 0.0439255\tvalid_0's l1: 0.0767559\n",
      "[300]\ttraining's l1: 0.043832\tvalid_0's l1: 0.0766913\n",
      "[310]\ttraining's l1: 0.0436653\tvalid_0's l1: 0.0779528\n",
      "[320]\ttraining's l1: 0.0435374\tvalid_0's l1: 0.078586\n",
      "[330]\ttraining's l1: 0.043426\tvalid_0's l1: 0.0790856\n",
      "[340]\ttraining's l1: 0.0433329\tvalid_0's l1: 0.079448\n",
      "[350]\ttraining's l1: 0.0432023\tvalid_0's l1: 0.0797411\n",
      "[360]\ttraining's l1: 0.043111\tvalid_0's l1: 0.080143\n",
      "[370]\ttraining's l1: 0.0430057\tvalid_0's l1: 0.0807151\n",
      "[380]\ttraining's l1: 0.0429157\tvalid_0's l1: 0.0809533\n",
      "[390]\ttraining's l1: 0.0428289\tvalid_0's l1: 0.0811124\n",
      "[400]\ttraining's l1: 0.0427484\tvalid_0's l1: 0.0814011\n",
      "[410]\ttraining's l1: 0.0426621\tvalid_0's l1: 0.0813245\n",
      "[420]\ttraining's l1: 0.0425866\tvalid_0's l1: 0.0813386\n",
      "[430]\ttraining's l1: 0.0424942\tvalid_0's l1: 0.0816197\n",
      "[440]\ttraining's l1: 0.0424229\tvalid_0's l1: 0.0816962\n",
      "[450]\ttraining's l1: 0.0423492\tvalid_0's l1: 0.0818111\n",
      "[460]\ttraining's l1: 0.042261\tvalid_0's l1: 0.0818561\n",
      "[470]\ttraining's l1: 0.0421967\tvalid_0's l1: 0.0816433\n",
      "[480]\ttraining's l1: 0.0420831\tvalid_0's l1: 0.0818769\n",
      "Early stopping, best iteration is:\n",
      "[286]\ttraining's l1: 0.0439539\tvalid_0's l1: 0.0764237\n"
     ]
    }
   ],
   "source": [
    "lgb_model3 = lgb.train(params,\n",
    "                       lgb_train3,\n",
    "                       valid_sets=[lgb_test3, lgb_train3],\n",
    "                       num_boost_round=1000,\n",
    "                       early_stopping_rounds=200,\n",
    "                       verbose_eval=10)"
   ]
  },
  {
   "cell_type": "code",
   "execution_count": 20,
   "metadata": {
    "ExecuteTime": {
     "end_time": "2020-09-06T14:27:13.175333Z",
     "start_time": "2020-09-06T14:27:13.148349Z"
    }
   },
   "outputs": [
    {
     "name": "stdout",
     "output_type": "stream",
     "text": [
      "(248, 3) (248, 3) (248, 3)\n",
      "(56, 1) (56, 1) (56, 1)\n"
     ]
    }
   ],
   "source": [
    "train1 = water.loc[(water['TimeStample'] >= '2018-01-01 02:00:00') & (water['TimeStample'] < '2018-02-01 00:00:00')]\n",
    "train2 = water.loc[(water['TimeStample'] >= '2018-07-01 02:00:00') & (water['TimeStample'] < '2018-08-01 00:00:00')]\n",
    "train3 = water.loc[(water['TimeStample'] >= '2018-10-01 02:00:00') & (water['TimeStample'] < '2018-11-01 00:00:00')]\n",
    "print(train1.shape, train2.shape, train3.shape)\n",
    "\n",
    "\n",
    "test1 = pd.DataFrame({'TimeStample': pd.date_range(start='2018-02-01 02:00:00', periods=56, freq='3h')})\n",
    "test2 = pd.DataFrame({'TimeStample': pd.date_range(start='2018-08-01 02:00:00', periods=56, freq='3h')})\n",
    "test3 = pd.DataFrame({'TimeStample': pd.date_range(start='2018-11-01 02:00:00', periods=56, freq='3h')})\n",
    "print(test1.shape, test2.shape, test3.shape)"
   ]
  },
  {
   "cell_type": "code",
   "execution_count": 21,
   "metadata": {
    "ExecuteTime": {
     "end_time": "2020-09-06T14:27:13.198320Z",
     "start_time": "2020-09-06T14:27:13.179332Z"
    }
   },
   "outputs": [
    {
     "data": {
      "text/plain": [
       "(912, 3)"
      ]
     },
     "execution_count": 21,
     "metadata": {},
     "output_type": "execute_result"
    }
   ],
   "source": [
    "df_list = [train1, train2, train3, test1, test2, test3]\n",
    "data = pd.concat(df_list)\n",
    "data.shape"
   ]
  },
  {
   "cell_type": "code",
   "execution_count": 22,
   "metadata": {
    "ExecuteTime": {
     "end_time": "2020-09-06T14:27:13.311679Z",
     "start_time": "2020-09-06T14:27:13.202319Z"
    }
   },
   "outputs": [
    {
     "data": {
      "text/html": [
       "<div>\n",
       "<style scoped>\n",
       "    .dataframe tbody tr th:only-of-type {\n",
       "        vertical-align: middle;\n",
       "    }\n",
       "\n",
       "    .dataframe tbody tr th {\n",
       "        vertical-align: top;\n",
       "    }\n",
       "\n",
       "    .dataframe thead th {\n",
       "        text-align: right;\n",
       "    }\n",
       "</style>\n",
       "<table border=\"1\" class=\"dataframe\">\n",
       "  <thead>\n",
       "    <tr style=\"text-align: right;\">\n",
       "      <th></th>\n",
       "      <th>TimeStample</th>\n",
       "      <th>Qi</th>\n",
       "      <th>dt</th>\n",
       "      <th>D1</th>\n",
       "      <th>D2</th>\n",
       "      <th>D3</th>\n",
       "      <th>D4</th>\n",
       "      <th>D5</th>\n",
       "      <th>T</th>\n",
       "      <th>w</th>\n",
       "      <th>...</th>\n",
       "      <th>R30</th>\n",
       "      <th>R31</th>\n",
       "      <th>R32</th>\n",
       "      <th>R33</th>\n",
       "      <th>R34</th>\n",
       "      <th>R35</th>\n",
       "      <th>R36</th>\n",
       "      <th>R37</th>\n",
       "      <th>R38</th>\n",
       "      <th>R39</th>\n",
       "    </tr>\n",
       "  </thead>\n",
       "  <tbody>\n",
       "    <tr>\n",
       "      <th>0</th>\n",
       "      <td>2018-01-01 02:00:00</td>\n",
       "      <td>0.020184</td>\n",
       "      <td>2018-01-01</td>\n",
       "      <td>0.0625</td>\n",
       "      <td>0.272727</td>\n",
       "      <td>0.214286</td>\n",
       "      <td>0.1</td>\n",
       "      <td>0.1</td>\n",
       "      <td>0.308571</td>\n",
       "      <td>0.065217</td>\n",
       "      <td>...</td>\n",
       "      <td>0.0</td>\n",
       "      <td>0.0</td>\n",
       "      <td>0.0</td>\n",
       "      <td>0.0</td>\n",
       "      <td>0.0</td>\n",
       "      <td>0.0</td>\n",
       "      <td>0.0</td>\n",
       "      <td>0.0</td>\n",
       "      <td>0.0</td>\n",
       "      <td>0.0</td>\n",
       "    </tr>\n",
       "    <tr>\n",
       "      <th>1</th>\n",
       "      <td>2018-01-01 05:00:00</td>\n",
       "      <td>0.025757</td>\n",
       "      <td>2018-01-01</td>\n",
       "      <td>0.0625</td>\n",
       "      <td>0.272727</td>\n",
       "      <td>0.214286</td>\n",
       "      <td>0.1</td>\n",
       "      <td>0.1</td>\n",
       "      <td>0.308571</td>\n",
       "      <td>0.065217</td>\n",
       "      <td>...</td>\n",
       "      <td>0.0</td>\n",
       "      <td>0.0</td>\n",
       "      <td>0.0</td>\n",
       "      <td>0.0</td>\n",
       "      <td>0.0</td>\n",
       "      <td>0.0</td>\n",
       "      <td>0.0</td>\n",
       "      <td>0.0</td>\n",
       "      <td>0.0</td>\n",
       "      <td>0.0</td>\n",
       "    </tr>\n",
       "    <tr>\n",
       "      <th>2</th>\n",
       "      <td>2018-01-01 08:00:00</td>\n",
       "      <td>0.022995</td>\n",
       "      <td>2018-01-01</td>\n",
       "      <td>0.0625</td>\n",
       "      <td>0.272727</td>\n",
       "      <td>0.214286</td>\n",
       "      <td>0.1</td>\n",
       "      <td>0.1</td>\n",
       "      <td>0.308571</td>\n",
       "      <td>0.065217</td>\n",
       "      <td>...</td>\n",
       "      <td>0.0</td>\n",
       "      <td>0.0</td>\n",
       "      <td>0.0</td>\n",
       "      <td>0.0</td>\n",
       "      <td>0.0</td>\n",
       "      <td>0.0</td>\n",
       "      <td>0.0</td>\n",
       "      <td>0.0</td>\n",
       "      <td>0.0</td>\n",
       "      <td>0.0</td>\n",
       "    </tr>\n",
       "    <tr>\n",
       "      <th>3</th>\n",
       "      <td>2018-01-01 11:00:00</td>\n",
       "      <td>0.015113</td>\n",
       "      <td>2018-01-01</td>\n",
       "      <td>0.0625</td>\n",
       "      <td>0.272727</td>\n",
       "      <td>0.214286</td>\n",
       "      <td>0.1</td>\n",
       "      <td>0.1</td>\n",
       "      <td>0.308571</td>\n",
       "      <td>0.065217</td>\n",
       "      <td>...</td>\n",
       "      <td>0.0</td>\n",
       "      <td>0.0</td>\n",
       "      <td>0.0</td>\n",
       "      <td>0.0</td>\n",
       "      <td>0.0</td>\n",
       "      <td>0.0</td>\n",
       "      <td>0.0</td>\n",
       "      <td>0.0</td>\n",
       "      <td>0.0</td>\n",
       "      <td>0.0</td>\n",
       "    </tr>\n",
       "    <tr>\n",
       "      <th>4</th>\n",
       "      <td>2018-01-01 14:00:00</td>\n",
       "      <td>0.017975</td>\n",
       "      <td>2018-01-01</td>\n",
       "      <td>0.0625</td>\n",
       "      <td>0.272727</td>\n",
       "      <td>0.214286</td>\n",
       "      <td>0.1</td>\n",
       "      <td>0.1</td>\n",
       "      <td>0.308571</td>\n",
       "      <td>0.065217</td>\n",
       "      <td>...</td>\n",
       "      <td>0.0</td>\n",
       "      <td>0.0</td>\n",
       "      <td>0.0</td>\n",
       "      <td>0.0</td>\n",
       "      <td>0.0</td>\n",
       "      <td>0.0</td>\n",
       "      <td>0.0</td>\n",
       "      <td>0.0</td>\n",
       "      <td>0.0</td>\n",
       "      <td>0.0</td>\n",
       "    </tr>\n",
       "  </tbody>\n",
       "</table>\n",
       "<p>5 rows × 50 columns</p>\n",
       "</div>"
      ],
      "text/plain": [
       "          TimeStample        Qi          dt      D1        D2        D3   D4  \\\n",
       "0 2018-01-01 02:00:00  0.020184  2018-01-01  0.0625  0.272727  0.214286  0.1   \n",
       "1 2018-01-01 05:00:00  0.025757  2018-01-01  0.0625  0.272727  0.214286  0.1   \n",
       "2 2018-01-01 08:00:00  0.022995  2018-01-01  0.0625  0.272727  0.214286  0.1   \n",
       "3 2018-01-01 11:00:00  0.015113  2018-01-01  0.0625  0.272727  0.214286  0.1   \n",
       "4 2018-01-01 14:00:00  0.017975  2018-01-01  0.0625  0.272727  0.214286  0.1   \n",
       "\n",
       "    D5         T         w  ...  R30  R31  R32  R33  R34  R35  R36  R37  R38  \\\n",
       "0  0.1  0.308571  0.065217  ...  0.0  0.0  0.0  0.0  0.0  0.0  0.0  0.0  0.0   \n",
       "1  0.1  0.308571  0.065217  ...  0.0  0.0  0.0  0.0  0.0  0.0  0.0  0.0  0.0   \n",
       "2  0.1  0.308571  0.065217  ...  0.0  0.0  0.0  0.0  0.0  0.0  0.0  0.0  0.0   \n",
       "3  0.1  0.308571  0.065217  ...  0.0  0.0  0.0  0.0  0.0  0.0  0.0  0.0  0.0   \n",
       "4  0.1  0.308571  0.065217  ...  0.0  0.0  0.0  0.0  0.0  0.0  0.0  0.0  0.0   \n",
       "\n",
       "   R39  \n",
       "0  0.0  \n",
       "1  0.0  \n",
       "2  0.0  \n",
       "3  0.0  \n",
       "4  0.0  \n",
       "\n",
       "[5 rows x 50 columns]"
      ]
     },
     "execution_count": 22,
     "metadata": {},
     "output_type": "execute_result"
    }
   ],
   "source": [
    "data = data.merge(rain, how='left', on='dt')\n",
    "data = data.merge(environment, how='left', on='dt')\n",
    "data = data.merge(station_rain, how='left', on='TimeStample')\n",
    "data.head()"
   ]
  },
  {
   "cell_type": "code",
   "execution_count": 23,
   "metadata": {
    "ExecuteTime": {
     "end_time": "2020-09-06T14:27:13.342661Z",
     "start_time": "2020-09-06T14:27:13.318676Z"
    }
   },
   "outputs": [
    {
     "name": "stdout",
     "output_type": "stream",
     "text": [
      "(248, 50) (248, 50) (248, 50)\n",
      "(56, 50) (56, 50) (56, 50)\n"
     ]
    }
   ],
   "source": [
    "train1 = data.loc[(data['TimeStample'] >= '2018-01-01 02:00:00') & (data['TimeStample'] < '2018-02-01 00:00:00')]\n",
    "train2 = data.loc[(data['TimeStample'] >= '2018-07-01 02:00:00') & (data['TimeStample'] < '2018-08-01 00:00:00')]\n",
    "train3 = data.loc[(data['TimeStample'] >= '2018-10-01 02:00:00') & (data['TimeStample'] < '2018-11-01 00:00:00')]\n",
    "print(train1.shape, train2.shape, train3.shape)\n",
    "\n",
    "test1 = data.loc[(data['TimeStample'] >= '2018-02-01 02:00:00') & (data['TimeStample'] <= '2018-02-07 23:00:00')]\n",
    "test2 = data.loc[(data['TimeStample'] >= '2018-08-01 02:00:00') & (data['TimeStample'] <= '2018-08-07 23:00:00')]\n",
    "test3 = data.loc[(data['TimeStample'] >= '2018-11-01 02:00:00') & (data['TimeStample'] <= '2018-11-07 23:00:00')]\n",
    "print(test1.shape, test2.shape, test3.shape)"
   ]
  },
  {
   "cell_type": "code",
   "execution_count": 24,
   "metadata": {
    "ExecuteTime": {
     "end_time": "2020-09-06T14:27:13.375643Z",
     "start_time": "2020-09-06T14:27:13.347659Z"
    }
   },
   "outputs": [],
   "source": [
    "train_y1 = train1['Qi']\n",
    "train1.drop(['TimeStample', 'dt', 'Qi'], axis=1, inplace=True)\n",
    "train_x1 = train1\n",
    "\n",
    "train_y2 = train2['Qi']\n",
    "train2.drop(['TimeStample', 'dt', 'Qi'], axis=1, inplace=True)\n",
    "train_x2 = train2\n",
    "\n",
    "train_y3 = train3['Qi']\n",
    "train3.drop(['TimeStample', 'dt', 'Qi'], axis=1, inplace=True)\n",
    "train_x3 = train3\n",
    "\n",
    "# test_y1 = test1['Qi']\n",
    "sub1 = test1[['TimeStample']]\n",
    "test1.drop(['TimeStample', 'dt', 'Qi'], axis=1, inplace=True)\n",
    "test_x1 = test1\n",
    "\n",
    "# test_y2 = test2['Qi']\n",
    "sub2 = test2[['TimeStample']]\n",
    "test2.drop(['TimeStample', 'dt', 'Qi'], axis=1, inplace=True)\n",
    "test_x2 = test2\n",
    "\n",
    "# test_y3 = test3['Qi']\n",
    "sub3 = test3[['TimeStample']]\n",
    "test3.drop(['TimeStample', 'dt', 'Qi'], axis=1, inplace=True)\n",
    "test_x3 = test3"
   ]
  },
  {
   "cell_type": "code",
   "execution_count": 25,
   "metadata": {
    "ExecuteTime": {
     "end_time": "2020-09-06T14:27:13.397630Z",
     "start_time": "2020-09-06T14:27:13.381646Z"
    }
   },
   "outputs": [],
   "source": [
    "lgb_train1 = lgb.Dataset(train_x1, label=train_y1)\n",
    "# lgb_test1 = lgb.Dataset(test_x1, label=test_y1, reference=lgb_train1)\n",
    "\n",
    "lgb_train2 = lgb.Dataset(train_x2, label=train_y2)\n",
    "# lgb_test2 = lgb.Dataset(test_x2, label=test_y2, reference=lgb_train2)\n",
    "\n",
    "lgb_train3 = lgb.Dataset(train_x3, label=train_y3)\n",
    "# lgb_test3 = lgb.Dataset(test_x3, label=test_y3, reference=lgb_train1)"
   ]
  },
  {
   "cell_type": "code",
   "execution_count": 28,
   "metadata": {
    "ExecuteTime": {
     "end_time": "2020-09-06T14:29:15.509202Z",
     "start_time": "2020-09-06T14:29:15.444243Z"
    }
   },
   "outputs": [],
   "source": [
    "lgb_model1 = lgb.train(params,\n",
    "                       lgb_train1,\n",
    "#                        valid_sets=[lgb_test1, lgb_train1],\n",
    "                       num_boost_round=lgb_model1.best_iteration,\n",
    "                       verbose_eval=10)\n",
    "\n",
    "pred1 = lgb_model1.predict(test_x1)\n",
    "sub1 = pd.DataFrame(pred1).T\n",
    "sub1.columns = ['Prediction{}'.format(i) for i in range(1, 57)]\n",
    "sub1['SeqNum'] = 1\n",
    "l = ['SeqNum'] + ['Prediction{}'.format(i) for i in range(1, 57)]\n",
    "sub1 = sub1[l]"
   ]
  },
  {
   "cell_type": "code",
   "execution_count": 29,
   "metadata": {
    "ExecuteTime": {
     "end_time": "2020-09-06T14:29:15.608146Z",
     "start_time": "2020-09-06T14:29:15.512201Z"
    }
   },
   "outputs": [],
   "source": [
    "lgb_model2 = lgb.train(params,\n",
    "                       lgb_train2,\n",
    "#                        valid_sets=[lgb_test1, lgb_train1],\n",
    "                       num_boost_round=lgb_model2.best_iteration,\n",
    "                       verbose_eval=10)\n",
    "\n",
    "pred2 = lgb_model2.predict(test_x2)\n",
    "sub2 = pd.DataFrame(pred2).T\n",
    "sub2.columns = ['Prediction{}'.format(i) for i in range(1, 57)]\n",
    "sub2['SeqNum'] = 2\n",
    "l = ['SeqNum'] + ['Prediction{}'.format(i) for i in range(1, 57)]\n",
    "sub2 = sub2[l]"
   ]
  },
  {
   "cell_type": "code",
   "execution_count": 30,
   "metadata": {
    "ExecuteTime": {
     "end_time": "2020-09-06T14:29:15.930959Z",
     "start_time": "2020-09-06T14:29:15.612143Z"
    }
   },
   "outputs": [],
   "source": [
    "lgb_model3 = lgb.train(params,\n",
    "                       lgb_train3,\n",
    "#                        valid_sets=[lgb_test3, lgb_train3],\n",
    "                       num_boost_round=lgb_model3.best_iteration,\n",
    "                       verbose_eval=10)\n",
    "\n",
    "pred3 = lgb_model1.predict(test_x3)\n",
    "sub3 = pd.DataFrame(pred3).T\n",
    "sub3.columns = ['Prediction{}'.format(i) for i in range(1, 57)]\n",
    "sub3['SeqNum'] = 3\n",
    "l = ['SeqNum'] + ['Prediction{}'.format(i) for i in range(1, 57)]\n",
    "sub3 = sub3[l]"
   ]
  },
  {
   "cell_type": "code",
   "execution_count": 31,
   "metadata": {
    "ExecuteTime": {
     "end_time": "2020-09-06T14:29:15.989927Z",
     "start_time": "2020-09-06T14:29:15.933958Z"
    }
   },
   "outputs": [
    {
     "data": {
      "text/html": [
       "<div>\n",
       "<style scoped>\n",
       "    .dataframe tbody tr th:only-of-type {\n",
       "        vertical-align: middle;\n",
       "    }\n",
       "\n",
       "    .dataframe tbody tr th {\n",
       "        vertical-align: top;\n",
       "    }\n",
       "\n",
       "    .dataframe thead th {\n",
       "        text-align: right;\n",
       "    }\n",
       "</style>\n",
       "<table border=\"1\" class=\"dataframe\">\n",
       "  <thead>\n",
       "    <tr style=\"text-align: right;\">\n",
       "      <th></th>\n",
       "      <th>SeqNum</th>\n",
       "      <th>Prediction1</th>\n",
       "      <th>Prediction2</th>\n",
       "      <th>Prediction3</th>\n",
       "      <th>Prediction4</th>\n",
       "      <th>Prediction5</th>\n",
       "      <th>Prediction6</th>\n",
       "      <th>Prediction7</th>\n",
       "      <th>Prediction8</th>\n",
       "      <th>Prediction9</th>\n",
       "      <th>...</th>\n",
       "      <th>Prediction47</th>\n",
       "      <th>Prediction48</th>\n",
       "      <th>Prediction49</th>\n",
       "      <th>Prediction50</th>\n",
       "      <th>Prediction51</th>\n",
       "      <th>Prediction52</th>\n",
       "      <th>Prediction53</th>\n",
       "      <th>Prediction54</th>\n",
       "      <th>Prediction55</th>\n",
       "      <th>Prediction56</th>\n",
       "    </tr>\n",
       "  </thead>\n",
       "  <tbody>\n",
       "    <tr>\n",
       "      <th>0</th>\n",
       "      <td>1</td>\n",
       "      <td>0.102199</td>\n",
       "      <td>0.102199</td>\n",
       "      <td>0.102199</td>\n",
       "      <td>0.102199</td>\n",
       "      <td>0.102199</td>\n",
       "      <td>0.102199</td>\n",
       "      <td>0.102199</td>\n",
       "      <td>0.102199</td>\n",
       "      <td>0.102199</td>\n",
       "      <td>...</td>\n",
       "      <td>0.102199</td>\n",
       "      <td>0.102199</td>\n",
       "      <td>0.102199</td>\n",
       "      <td>0.102199</td>\n",
       "      <td>0.102199</td>\n",
       "      <td>0.102199</td>\n",
       "      <td>0.102199</td>\n",
       "      <td>0.102199</td>\n",
       "      <td>0.102199</td>\n",
       "      <td>0.102199</td>\n",
       "    </tr>\n",
       "    <tr>\n",
       "      <th>0</th>\n",
       "      <td>2</td>\n",
       "      <td>0.476657</td>\n",
       "      <td>0.476657</td>\n",
       "      <td>0.476657</td>\n",
       "      <td>0.476657</td>\n",
       "      <td>0.476657</td>\n",
       "      <td>0.476657</td>\n",
       "      <td>0.476657</td>\n",
       "      <td>0.476657</td>\n",
       "      <td>0.476657</td>\n",
       "      <td>...</td>\n",
       "      <td>0.476657</td>\n",
       "      <td>0.476657</td>\n",
       "      <td>0.476657</td>\n",
       "      <td>0.476657</td>\n",
       "      <td>0.476657</td>\n",
       "      <td>0.476657</td>\n",
       "      <td>0.476657</td>\n",
       "      <td>0.476657</td>\n",
       "      <td>0.476657</td>\n",
       "      <td>0.476657</td>\n",
       "    </tr>\n",
       "    <tr>\n",
       "      <th>0</th>\n",
       "      <td>3</td>\n",
       "      <td>0.102199</td>\n",
       "      <td>0.102199</td>\n",
       "      <td>0.102199</td>\n",
       "      <td>0.102199</td>\n",
       "      <td>0.102199</td>\n",
       "      <td>0.102199</td>\n",
       "      <td>0.102199</td>\n",
       "      <td>0.102199</td>\n",
       "      <td>0.102199</td>\n",
       "      <td>...</td>\n",
       "      <td>0.102199</td>\n",
       "      <td>0.102199</td>\n",
       "      <td>0.102199</td>\n",
       "      <td>0.102199</td>\n",
       "      <td>0.102199</td>\n",
       "      <td>0.102199</td>\n",
       "      <td>0.102199</td>\n",
       "      <td>0.102199</td>\n",
       "      <td>0.102199</td>\n",
       "      <td>0.102199</td>\n",
       "    </tr>\n",
       "  </tbody>\n",
       "</table>\n",
       "<p>3 rows × 57 columns</p>\n",
       "</div>"
      ],
      "text/plain": [
       "   SeqNum  Prediction1  Prediction2  Prediction3  Prediction4  Prediction5  \\\n",
       "0       1     0.102199     0.102199     0.102199     0.102199     0.102199   \n",
       "0       2     0.476657     0.476657     0.476657     0.476657     0.476657   \n",
       "0       3     0.102199     0.102199     0.102199     0.102199     0.102199   \n",
       "\n",
       "   Prediction6  Prediction7  Prediction8  Prediction9  ...  Prediction47  \\\n",
       "0     0.102199     0.102199     0.102199     0.102199  ...      0.102199   \n",
       "0     0.476657     0.476657     0.476657     0.476657  ...      0.476657   \n",
       "0     0.102199     0.102199     0.102199     0.102199  ...      0.102199   \n",
       "\n",
       "   Prediction48  Prediction49  Prediction50  Prediction51  Prediction52  \\\n",
       "0      0.102199      0.102199      0.102199      0.102199      0.102199   \n",
       "0      0.476657      0.476657      0.476657      0.476657      0.476657   \n",
       "0      0.102199      0.102199      0.102199      0.102199      0.102199   \n",
       "\n",
       "   Prediction53  Prediction54  Prediction55  Prediction56  \n",
       "0      0.102199      0.102199      0.102199      0.102199  \n",
       "0      0.476657      0.476657      0.476657      0.476657  \n",
       "0      0.102199      0.102199      0.102199      0.102199  \n",
       "\n",
       "[3 rows x 57 columns]"
      ]
     },
     "execution_count": 31,
     "metadata": {},
     "output_type": "execute_result"
    }
   ],
   "source": [
    "sub = pd.concat([sub1, sub2, sub3])\n",
    "sub"
   ]
  },
  {
   "cell_type": "code",
   "execution_count": 32,
   "metadata": {
    "ExecuteTime": {
     "end_time": "2020-09-06T14:29:16.010916Z",
     "start_time": "2020-09-06T14:29:15.992925Z"
    }
   },
   "outputs": [],
   "source": [
    "sub.to_csv('sub.csv', index=False)"
   ]
  }
 ],
 "metadata": {
  "kernelspec": {
   "display_name": "Python 3",
   "language": "python",
   "name": "python3"
  },
  "language_info": {
   "codemirror_mode": {
    "name": "ipython",
    "version": 3
   },
   "file_extension": ".py",
   "mimetype": "text/x-python",
   "name": "python",
   "nbconvert_exporter": "python",
   "pygments_lexer": "ipython3",
   "version": "3.7.3"
  },
  "toc": {
   "base_numbering": 1,
   "nav_menu": {},
   "number_sections": true,
   "sideBar": true,
   "skip_h1_title": false,
   "title_cell": "Table of Contents",
   "title_sidebar": "Contents",
   "toc_cell": false,
   "toc_position": {},
   "toc_section_display": true,
   "toc_window_display": false
  },
  "varInspector": {
   "cols": {
    "lenName": 16,
    "lenType": 16,
    "lenVar": 40
   },
   "kernels_config": {
    "python": {
     "delete_cmd_postfix": "",
     "delete_cmd_prefix": "del ",
     "library": "var_list.py",
     "varRefreshCmd": "print(var_dic_list())"
    },
    "r": {
     "delete_cmd_postfix": ") ",
     "delete_cmd_prefix": "rm(",
     "library": "var_list.r",
     "varRefreshCmd": "cat(var_dic_list()) "
    }
   },
   "types_to_exclude": [
    "module",
    "function",
    "builtin_function_or_method",
    "instance",
    "_Feature"
   ],
   "window_display": false
  }
 },
 "nbformat": 4,
 "nbformat_minor": 2
}
