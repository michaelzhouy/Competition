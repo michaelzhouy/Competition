{
 "cells": [
  {
   "cell_type": "code",
   "execution_count": 1,
   "metadata": {
    "ExecuteTime": {
     "end_time": "2020-06-03T13:50:16.961172Z",
     "start_time": "2020-06-03T13:50:14.176187Z"
    }
   },
   "outputs": [],
   "source": [
    "import numpy as np\n",
    "import pandas as pd\n",
    "import matplotlib.pyplot as plt\n",
    "import seaborn as sns"
   ]
  },
  {
   "cell_type": "code",
   "execution_count": 2,
   "metadata": {
    "ExecuteTime": {
     "end_time": "2020-06-03T13:50:18.620374Z",
     "start_time": "2020-06-03T13:50:16.961172Z"
    }
   },
   "outputs": [
    {
     "data": {
      "text/html": [
       "<div>\n",
       "<style scoped>\n",
       "    .dataframe tbody tr th:only-of-type {\n",
       "        vertical-align: middle;\n",
       "    }\n",
       "\n",
       "    .dataframe tbody tr th {\n",
       "        vertical-align: top;\n",
       "    }\n",
       "\n",
       "    .dataframe thead th {\n",
       "        text-align: right;\n",
       "    }\n",
       "</style>\n",
       "<table border=\"1\" class=\"dataframe\">\n",
       "  <thead>\n",
       "    <tr style=\"text-align: right;\">\n",
       "      <th></th>\n",
       "      <th>android_id</th>\n",
       "      <th>apptype</th>\n",
       "      <th>carrier</th>\n",
       "      <th>dev_height</th>\n",
       "      <th>dev_ppi</th>\n",
       "      <th>dev_width</th>\n",
       "      <th>label</th>\n",
       "      <th>lan</th>\n",
       "      <th>media_id</th>\n",
       "      <th>ntt</th>\n",
       "      <th>osv</th>\n",
       "      <th>package</th>\n",
       "      <th>sid</th>\n",
       "      <th>timestamp</th>\n",
       "      <th>version</th>\n",
       "      <th>fea_hash</th>\n",
       "      <th>location</th>\n",
       "      <th>fea1_hash</th>\n",
       "      <th>cus_type</th>\n",
       "    </tr>\n",
       "  </thead>\n",
       "  <tbody>\n",
       "    <tr>\n",
       "      <th>0</th>\n",
       "      <td>316361</td>\n",
       "      <td>1199</td>\n",
       "      <td>1.0</td>\n",
       "      <td>NaN</td>\n",
       "      <td>NaN</td>\n",
       "      <td>NaN</td>\n",
       "      <td>1</td>\n",
       "      <td>NaN</td>\n",
       "      <td>104</td>\n",
       "      <td>6.0</td>\n",
       "      <td>9.0</td>\n",
       "      <td>18</td>\n",
       "      <td>1438873</td>\n",
       "      <td>2019-06-07 15:32:01</td>\n",
       "      <td>8</td>\n",
       "      <td>2135019403</td>\n",
       "      <td>0</td>\n",
       "      <td>2329670524</td>\n",
       "      <td>601</td>\n",
       "    </tr>\n",
       "    <tr>\n",
       "      <th>1</th>\n",
       "      <td>135939</td>\n",
       "      <td>893</td>\n",
       "      <td>NaN</td>\n",
       "      <td>NaN</td>\n",
       "      <td>NaN</td>\n",
       "      <td>NaN</td>\n",
       "      <td>1</td>\n",
       "      <td>NaN</td>\n",
       "      <td>19</td>\n",
       "      <td>6.0</td>\n",
       "      <td>8.0</td>\n",
       "      <td>0</td>\n",
       "      <td>1185582</td>\n",
       "      <td>2019-06-08 19:40:40</td>\n",
       "      <td>4</td>\n",
       "      <td>2782306428</td>\n",
       "      <td>1</td>\n",
       "      <td>2864801071</td>\n",
       "      <td>1000</td>\n",
       "    </tr>\n",
       "    <tr>\n",
       "      <th>2</th>\n",
       "      <td>399254</td>\n",
       "      <td>821</td>\n",
       "      <td>NaN</td>\n",
       "      <td>760.0</td>\n",
       "      <td>NaN</td>\n",
       "      <td>360.0</td>\n",
       "      <td>1</td>\n",
       "      <td>NaN</td>\n",
       "      <td>559</td>\n",
       "      <td>NaN</td>\n",
       "      <td>8.0</td>\n",
       "      <td>0</td>\n",
       "      <td>1555716</td>\n",
       "      <td>2019-06-06 23:59:13</td>\n",
       "      <td>0</td>\n",
       "      <td>1392806005</td>\n",
       "      <td>2</td>\n",
       "      <td>628911675</td>\n",
       "      <td>696</td>\n",
       "    </tr>\n",
       "    <tr>\n",
       "      <th>3</th>\n",
       "      <td>68983</td>\n",
       "      <td>1004</td>\n",
       "      <td>1.0</td>\n",
       "      <td>2214.0</td>\n",
       "      <td>NaN</td>\n",
       "      <td>1080.0</td>\n",
       "      <td>0</td>\n",
       "      <td>NaN</td>\n",
       "      <td>129</td>\n",
       "      <td>2.0</td>\n",
       "      <td>8.0</td>\n",
       "      <td>0</td>\n",
       "      <td>1093419</td>\n",
       "      <td>2019-06-09 09:00:12</td>\n",
       "      <td>0</td>\n",
       "      <td>3562553457</td>\n",
       "      <td>3</td>\n",
       "      <td>1283809327</td>\n",
       "      <td>753</td>\n",
       "    </tr>\n",
       "    <tr>\n",
       "      <th>4</th>\n",
       "      <td>288999</td>\n",
       "      <td>1076</td>\n",
       "      <td>1.0</td>\n",
       "      <td>2280.0</td>\n",
       "      <td>NaN</td>\n",
       "      <td>1080.0</td>\n",
       "      <td>1</td>\n",
       "      <td>1.0</td>\n",
       "      <td>64</td>\n",
       "      <td>2.0</td>\n",
       "      <td>8.0</td>\n",
       "      <td>0</td>\n",
       "      <td>1400089</td>\n",
       "      <td>2019-06-07 08:28:13</td>\n",
       "      <td>5</td>\n",
       "      <td>2364522023</td>\n",
       "      <td>4</td>\n",
       "      <td>1510695983</td>\n",
       "      <td>582</td>\n",
       "    </tr>\n",
       "  </tbody>\n",
       "</table>\n",
       "</div>"
      ],
      "text/plain": [
       "  android_id  apptype  carrier  dev_height  dev_ppi  dev_width  label  lan  \\\n",
       "0     316361     1199      1.0         NaN      NaN        NaN      1  NaN   \n",
       "1     135939      893      NaN         NaN      NaN        NaN      1  NaN   \n",
       "2     399254      821      NaN       760.0      NaN      360.0      1  NaN   \n",
       "3      68983     1004      1.0      2214.0      NaN     1080.0      0  NaN   \n",
       "4     288999     1076      1.0      2280.0      NaN     1080.0      1  1.0   \n",
       "\n",
       "  media_id  ntt  osv package      sid            timestamp  version  \\\n",
       "0      104  6.0  9.0      18  1438873  2019-06-07 15:32:01        8   \n",
       "1       19  6.0  8.0       0  1185582  2019-06-08 19:40:40        4   \n",
       "2      559  NaN  8.0       0  1555716  2019-06-06 23:59:13        0   \n",
       "3      129  2.0  8.0       0  1093419  2019-06-09 09:00:12        0   \n",
       "4       64  2.0  8.0       0  1400089  2019-06-07 08:28:13        5   \n",
       "\n",
       "     fea_hash  location   fea1_hash  cus_type  \n",
       "0  2135019403         0  2329670524       601  \n",
       "1  2782306428         1  2864801071      1000  \n",
       "2  1392806005         2   628911675       696  \n",
       "3  3562553457         3  1283809327       753  \n",
       "4  2364522023         4  1510695983       582  "
      ]
     },
     "execution_count": 2,
     "metadata": {},
     "output_type": "execute_result"
    }
   ],
   "source": [
    "train = pd.read_hdf('../input/train.h5')\n",
    "train.head()"
   ]
  },
  {
   "cell_type": "code",
   "execution_count": 3,
   "metadata": {
    "ExecuteTime": {
     "end_time": "2020-06-03T13:50:18.941857Z",
     "start_time": "2020-06-03T13:50:18.623372Z"
    }
   },
   "outputs": [
    {
     "data": {
      "text/html": [
       "<div>\n",
       "<style scoped>\n",
       "    .dataframe tbody tr th:only-of-type {\n",
       "        vertical-align: middle;\n",
       "    }\n",
       "\n",
       "    .dataframe tbody tr th {\n",
       "        vertical-align: top;\n",
       "    }\n",
       "\n",
       "    .dataframe thead th {\n",
       "        text-align: right;\n",
       "    }\n",
       "</style>\n",
       "<table border=\"1\" class=\"dataframe\">\n",
       "  <thead>\n",
       "    <tr style=\"text-align: right;\">\n",
       "      <th></th>\n",
       "      <th>android_id</th>\n",
       "      <th>apptype</th>\n",
       "      <th>carrier</th>\n",
       "      <th>dev_height</th>\n",
       "      <th>dev_ppi</th>\n",
       "      <th>dev_width</th>\n",
       "      <th>lan</th>\n",
       "      <th>media_id</th>\n",
       "      <th>ntt</th>\n",
       "      <th>osv</th>\n",
       "      <th>package</th>\n",
       "      <th>sid</th>\n",
       "      <th>timestamp</th>\n",
       "      <th>version</th>\n",
       "      <th>fea_hash</th>\n",
       "      <th>location</th>\n",
       "      <th>fea1_hash</th>\n",
       "      <th>cus_type</th>\n",
       "    </tr>\n",
       "  </thead>\n",
       "  <tbody>\n",
       "    <tr>\n",
       "      <th>0</th>\n",
       "      <td>317625</td>\n",
       "      <td>1181</td>\n",
       "      <td>1.0</td>\n",
       "      <td>2196.0</td>\n",
       "      <td>2.0</td>\n",
       "      <td>1080.0</td>\n",
       "      <td>1.0</td>\n",
       "      <td>639</td>\n",
       "      <td>2.0</td>\n",
       "      <td>8.0</td>\n",
       "      <td>188</td>\n",
       "      <td>1440682</td>\n",
       "      <td>2019-06-07 09:42:30</td>\n",
       "      <td>7</td>\n",
       "      <td>1672223856</td>\n",
       "      <td>57</td>\n",
       "      <td>3872258917</td>\n",
       "      <td>658</td>\n",
       "    </tr>\n",
       "    <tr>\n",
       "      <th>1</th>\n",
       "      <td>435108</td>\n",
       "      <td>944</td>\n",
       "      <td>3.0</td>\n",
       "      <td>2280.0</td>\n",
       "      <td>3.0</td>\n",
       "      <td>1080.0</td>\n",
       "      <td>1.0</td>\n",
       "      <td>704</td>\n",
       "      <td>6.0</td>\n",
       "      <td>8.0</td>\n",
       "      <td>221</td>\n",
       "      <td>1606824</td>\n",
       "      <td>2019-06-05 20:53:56</td>\n",
       "      <td>3</td>\n",
       "      <td>3767901757</td>\n",
       "      <td>23</td>\n",
       "      <td>129322164</td>\n",
       "      <td>943</td>\n",
       "    </tr>\n",
       "    <tr>\n",
       "      <th>2</th>\n",
       "      <td>0</td>\n",
       "      <td>1106</td>\n",
       "      <td>1.0</td>\n",
       "      <td>NaN</td>\n",
       "      <td>NaN</td>\n",
       "      <td>NaN</td>\n",
       "      <td>NaN</td>\n",
       "      <td>39</td>\n",
       "      <td>2.0</td>\n",
       "      <td>5.0</td>\n",
       "      <td>1562</td>\n",
       "      <td>1774642</td>\n",
       "      <td>2019-06-04 10:07:42</td>\n",
       "      <td>0</td>\n",
       "      <td>454638703</td>\n",
       "      <td>30</td>\n",
       "      <td>4226678391</td>\n",
       "      <td>411</td>\n",
       "    </tr>\n",
       "    <tr>\n",
       "      <th>3</th>\n",
       "      <td>451504</td>\n",
       "      <td>761</td>\n",
       "      <td>1.0</td>\n",
       "      <td>1344.0</td>\n",
       "      <td>NaN</td>\n",
       "      <td>720.0</td>\n",
       "      <td>NaN</td>\n",
       "      <td>54</td>\n",
       "      <td>2.0</td>\n",
       "      <td>7.0</td>\n",
       "      <td>9</td>\n",
       "      <td>1742535</td>\n",
       "      <td>2019-06-05 01:03:22</td>\n",
       "      <td>0</td>\n",
       "      <td>1507622951</td>\n",
       "      <td>65</td>\n",
       "      <td>3355419572</td>\n",
       "      <td>848</td>\n",
       "    </tr>\n",
       "    <tr>\n",
       "      <th>4</th>\n",
       "      <td>0</td>\n",
       "      <td>1001</td>\n",
       "      <td>1.0</td>\n",
       "      <td>665.0</td>\n",
       "      <td>NaN</td>\n",
       "      <td>320.0</td>\n",
       "      <td>1.0</td>\n",
       "      <td>29</td>\n",
       "      <td>5.0</td>\n",
       "      <td>8.0</td>\n",
       "      <td>4</td>\n",
       "      <td>1689686</td>\n",
       "      <td>2019-06-05 08:15:54</td>\n",
       "      <td>0</td>\n",
       "      <td>4116351093</td>\n",
       "      <td>148</td>\n",
       "      <td>2644467751</td>\n",
       "      <td>411</td>\n",
       "    </tr>\n",
       "  </tbody>\n",
       "</table>\n",
       "</div>"
      ],
      "text/plain": [
       "  android_id  apptype  carrier  dev_height  dev_ppi  dev_width  lan media_id  \\\n",
       "0     317625     1181      1.0      2196.0      2.0     1080.0  1.0      639   \n",
       "1     435108      944      3.0      2280.0      3.0     1080.0  1.0      704   \n",
       "2          0     1106      1.0         NaN      NaN        NaN  NaN       39   \n",
       "3     451504      761      1.0      1344.0      NaN      720.0  NaN       54   \n",
       "4          0     1001      1.0       665.0      NaN      320.0  1.0       29   \n",
       "\n",
       "   ntt  osv package      sid            timestamp  version    fea_hash  \\\n",
       "0  2.0  8.0     188  1440682  2019-06-07 09:42:30        7  1672223856   \n",
       "1  6.0  8.0     221  1606824  2019-06-05 20:53:56        3  3767901757   \n",
       "2  2.0  5.0    1562  1774642  2019-06-04 10:07:42        0   454638703   \n",
       "3  2.0  7.0       9  1742535  2019-06-05 01:03:22        0  1507622951   \n",
       "4  5.0  8.0       4  1689686  2019-06-05 08:15:54        0  4116351093   \n",
       "\n",
       "   location   fea1_hash  cus_type  \n",
       "0        57  3872258917       658  \n",
       "1        23   129322164       943  \n",
       "2        30  4226678391       411  \n",
       "3        65  3355419572       848  \n",
       "4       148  2644467751       411  "
      ]
     },
     "execution_count": 3,
     "metadata": {},
     "output_type": "execute_result"
    }
   ],
   "source": [
    "test1 = pd.read_hdf('../input/test1.h5')\n",
    "test1.head()"
   ]
  },
  {
   "cell_type": "code",
   "execution_count": 4,
   "metadata": {
    "ExecuteTime": {
     "end_time": "2020-06-03T13:50:19.284609Z",
     "start_time": "2020-06-03T13:50:18.943858Z"
    }
   },
   "outputs": [
    {
     "name": "stdout",
     "output_type": "stream",
     "text": [
      "<class 'pandas.core.frame.DataFrame'>\n",
      "Int64Index: 500000 entries, 0 to 499999\n",
      "Data columns (total 19 columns):\n",
      "android_id    500000 non-null object\n",
      "apptype       500000 non-null int16\n",
      "carrier       435093 non-null float64\n",
      "dev_height    392986 non-null float16\n",
      "dev_ppi       116709 non-null float16\n",
      "dev_width     392989 non-null float16\n",
      "label         500000 non-null int8\n",
      "lan           316720 non-null float64\n",
      "media_id      500000 non-null object\n",
      "ntt           479383 non-null float16\n",
      "osv           493439 non-null float64\n",
      "package       500000 non-null object\n",
      "sid           500000 non-null object\n",
      "timestamp     500000 non-null object\n",
      "version       500000 non-null int64\n",
      "fea_hash      500000 non-null object\n",
      "location      500000 non-null int16\n",
      "fea1_hash     500000 non-null int64\n",
      "cus_type      500000 non-null int16\n",
      "dtypes: float16(4), float64(3), int16(3), int64(2), int8(1), object(6)\n",
      "memory usage: 52.9+ MB\n"
     ]
    }
   ],
   "source": [
    "train.info()"
   ]
  },
  {
   "cell_type": "code",
   "execution_count": 5,
   "metadata": {
    "ExecuteTime": {
     "end_time": "2020-06-03T13:50:19.387549Z",
     "start_time": "2020-06-03T13:50:19.287606Z"
    }
   },
   "outputs": [
    {
     "name": "stdout",
     "output_type": "stream",
     "text": [
      "<class 'pandas.core.frame.DataFrame'>\n",
      "Int64Index: 150000 entries, 0 to 149999\n",
      "Data columns (total 18 columns):\n",
      "android_id    150000 non-null object\n",
      "apptype       150000 non-null int16\n",
      "carrier       130481 non-null float64\n",
      "dev_height    117801 non-null float16\n",
      "dev_ppi       34667 non-null float16\n",
      "dev_width     117801 non-null float16\n",
      "lan           94451 non-null float64\n",
      "media_id      150000 non-null object\n",
      "ntt           143818 non-null float16\n",
      "osv           148007 non-null float64\n",
      "package       150000 non-null object\n",
      "sid           150000 non-null object\n",
      "timestamp     150000 non-null object\n",
      "version       150000 non-null int64\n",
      "fea_hash      150000 non-null object\n",
      "location      150000 non-null int16\n",
      "fea1_hash     150000 non-null int64\n",
      "cus_type      150000 non-null int16\n",
      "dtypes: float16(4), float64(3), int16(3), int64(2), object(6)\n",
      "memory usage: 15.7+ MB\n"
     ]
    }
   ],
   "source": [
    "test1.info()"
   ]
  },
  {
   "cell_type": "code",
   "execution_count": 6,
   "metadata": {
    "ExecuteTime": {
     "end_time": "2020-06-03T13:50:20.147887Z",
     "start_time": "2020-06-03T13:50:19.390547Z"
    }
   },
   "outputs": [
    {
     "data": {
      "text/html": [
       "<div>\n",
       "<style scoped>\n",
       "    .dataframe tbody tr th:only-of-type {\n",
       "        vertical-align: middle;\n",
       "    }\n",
       "\n",
       "    .dataframe tbody tr th {\n",
       "        vertical-align: top;\n",
       "    }\n",
       "\n",
       "    .dataframe thead th {\n",
       "        text-align: right;\n",
       "    }\n",
       "</style>\n",
       "<table border=\"1\" class=\"dataframe\">\n",
       "  <thead>\n",
       "    <tr style=\"text-align: right;\">\n",
       "      <th></th>\n",
       "      <th>count</th>\n",
       "      <th>mean</th>\n",
       "      <th>std</th>\n",
       "      <th>min</th>\n",
       "      <th>25%</th>\n",
       "      <th>50%</th>\n",
       "      <th>75%</th>\n",
       "      <th>max</th>\n",
       "    </tr>\n",
       "  </thead>\n",
       "  <tbody>\n",
       "    <tr>\n",
       "      <th>apptype</th>\n",
       "      <td>500000.0</td>\n",
       "      <td>9.866401e+02</td>\n",
       "      <td>1.289563e+02</td>\n",
       "      <td>95.0</td>\n",
       "      <td>9.170000e+02</td>\n",
       "      <td>1.001000e+03</td>\n",
       "      <td>1.076000e+03</td>\n",
       "      <td>1.241000e+03</td>\n",
       "    </tr>\n",
       "    <tr>\n",
       "      <th>carrier</th>\n",
       "      <td>435093.0</td>\n",
       "      <td>1.248172e+00</td>\n",
       "      <td>5.788177e-01</td>\n",
       "      <td>1.0</td>\n",
       "      <td>1.000000e+00</td>\n",
       "      <td>1.000000e+00</td>\n",
       "      <td>1.000000e+00</td>\n",
       "      <td>3.000000e+00</td>\n",
       "    </tr>\n",
       "    <tr>\n",
       "      <th>dev_height</th>\n",
       "      <td>392986.0</td>\n",
       "      <td>NaN</td>\n",
       "      <td>NaN</td>\n",
       "      <td>7.0</td>\n",
       "      <td>9.600000e+02</td>\n",
       "      <td>1.920000e+03</td>\n",
       "      <td>2.160000e+03</td>\n",
       "      <td>9.024000e+03</td>\n",
       "    </tr>\n",
       "    <tr>\n",
       "      <th>dev_ppi</th>\n",
       "      <td>116709.0</td>\n",
       "      <td>NaN</td>\n",
       "      <td>NaN</td>\n",
       "      <td>1.0</td>\n",
       "      <td>3.000000e+00</td>\n",
       "      <td>4.800000e+02</td>\n",
       "      <td>4.800000e+02</td>\n",
       "      <td>7.200000e+02</td>\n",
       "    </tr>\n",
       "    <tr>\n",
       "      <th>dev_width</th>\n",
       "      <td>392989.0</td>\n",
       "      <td>NaN</td>\n",
       "      <td>NaN</td>\n",
       "      <td>200.0</td>\n",
       "      <td>7.200000e+02</td>\n",
       "      <td>1.080000e+03</td>\n",
       "      <td>1.080000e+03</td>\n",
       "      <td>8.832000e+03</td>\n",
       "    </tr>\n",
       "    <tr>\n",
       "      <th>label</th>\n",
       "      <td>500000.0</td>\n",
       "      <td>4.844800e-01</td>\n",
       "      <td>4.997596e-01</td>\n",
       "      <td>0.0</td>\n",
       "      <td>0.000000e+00</td>\n",
       "      <td>0.000000e+00</td>\n",
       "      <td>1.000000e+00</td>\n",
       "      <td>1.000000e+00</td>\n",
       "    </tr>\n",
       "    <tr>\n",
       "      <th>lan</th>\n",
       "      <td>316720.0</td>\n",
       "      <td>1.002103e+00</td>\n",
       "      <td>1.021771e-01</td>\n",
       "      <td>1.0</td>\n",
       "      <td>1.000000e+00</td>\n",
       "      <td>1.000000e+00</td>\n",
       "      <td>1.000000e+00</td>\n",
       "      <td>1.000000e+01</td>\n",
       "    </tr>\n",
       "    <tr>\n",
       "      <th>ntt</th>\n",
       "      <td>479383.0</td>\n",
       "      <td>NaN</td>\n",
       "      <td>0.000000e+00</td>\n",
       "      <td>1.0</td>\n",
       "      <td>2.000000e+00</td>\n",
       "      <td>2.000000e+00</td>\n",
       "      <td>5.000000e+00</td>\n",
       "      <td>7.000000e+00</td>\n",
       "    </tr>\n",
       "    <tr>\n",
       "      <th>osv</th>\n",
       "      <td>493439.0</td>\n",
       "      <td>7.386627e+00</td>\n",
       "      <td>1.435964e+00</td>\n",
       "      <td>1.0</td>\n",
       "      <td>6.000000e+00</td>\n",
       "      <td>8.000000e+00</td>\n",
       "      <td>8.000000e+00</td>\n",
       "      <td>1.100000e+01</td>\n",
       "    </tr>\n",
       "    <tr>\n",
       "      <th>version</th>\n",
       "      <td>500000.0</td>\n",
       "      <td>2.228790e+00</td>\n",
       "      <td>3.046110e+00</td>\n",
       "      <td>0.0</td>\n",
       "      <td>0.000000e+00</td>\n",
       "      <td>0.000000e+00</td>\n",
       "      <td>5.000000e+00</td>\n",
       "      <td>1.500000e+01</td>\n",
       "    </tr>\n",
       "    <tr>\n",
       "      <th>location</th>\n",
       "      <td>500000.0</td>\n",
       "      <td>9.604050e+01</td>\n",
       "      <td>8.565274e+01</td>\n",
       "      <td>-1.0</td>\n",
       "      <td>2.300000e+01</td>\n",
       "      <td>6.400000e+01</td>\n",
       "      <td>1.540000e+02</td>\n",
       "      <td>3.300000e+02</td>\n",
       "    </tr>\n",
       "    <tr>\n",
       "      <th>fea1_hash</th>\n",
       "      <td>500000.0</td>\n",
       "      <td>2.300866e+09</td>\n",
       "      <td>1.236593e+09</td>\n",
       "      <td>12400.0</td>\n",
       "      <td>1.376752e+09</td>\n",
       "      <td>2.490131e+09</td>\n",
       "      <td>3.062465e+09</td>\n",
       "      <td>4.291920e+09</td>\n",
       "    </tr>\n",
       "    <tr>\n",
       "      <th>cus_type</th>\n",
       "      <td>500000.0</td>\n",
       "      <td>7.308247e+02</td>\n",
       "      <td>3.319469e+02</td>\n",
       "      <td>297.0</td>\n",
       "      <td>4.110000e+02</td>\n",
       "      <td>6.580000e+02</td>\n",
       "      <td>1.019000e+03</td>\n",
       "      <td>1.380000e+03</td>\n",
       "    </tr>\n",
       "  </tbody>\n",
       "</table>\n",
       "</div>"
      ],
      "text/plain": [
       "               count          mean           std      min           25%  \\\n",
       "apptype     500000.0  9.866401e+02  1.289563e+02     95.0  9.170000e+02   \n",
       "carrier     435093.0  1.248172e+00  5.788177e-01      1.0  1.000000e+00   \n",
       "dev_height  392986.0           NaN           NaN      7.0  9.600000e+02   \n",
       "dev_ppi     116709.0           NaN           NaN      1.0  3.000000e+00   \n",
       "dev_width   392989.0           NaN           NaN    200.0  7.200000e+02   \n",
       "label       500000.0  4.844800e-01  4.997596e-01      0.0  0.000000e+00   \n",
       "lan         316720.0  1.002103e+00  1.021771e-01      1.0  1.000000e+00   \n",
       "ntt         479383.0           NaN  0.000000e+00      1.0  2.000000e+00   \n",
       "osv         493439.0  7.386627e+00  1.435964e+00      1.0  6.000000e+00   \n",
       "version     500000.0  2.228790e+00  3.046110e+00      0.0  0.000000e+00   \n",
       "location    500000.0  9.604050e+01  8.565274e+01     -1.0  2.300000e+01   \n",
       "fea1_hash   500000.0  2.300866e+09  1.236593e+09  12400.0  1.376752e+09   \n",
       "cus_type    500000.0  7.308247e+02  3.319469e+02    297.0  4.110000e+02   \n",
       "\n",
       "                     50%           75%           max  \n",
       "apptype     1.001000e+03  1.076000e+03  1.241000e+03  \n",
       "carrier     1.000000e+00  1.000000e+00  3.000000e+00  \n",
       "dev_height  1.920000e+03  2.160000e+03  9.024000e+03  \n",
       "dev_ppi     4.800000e+02  4.800000e+02  7.200000e+02  \n",
       "dev_width   1.080000e+03  1.080000e+03  8.832000e+03  \n",
       "label       0.000000e+00  1.000000e+00  1.000000e+00  \n",
       "lan         1.000000e+00  1.000000e+00  1.000000e+01  \n",
       "ntt         2.000000e+00  5.000000e+00  7.000000e+00  \n",
       "osv         8.000000e+00  8.000000e+00  1.100000e+01  \n",
       "version     0.000000e+00  5.000000e+00  1.500000e+01  \n",
       "location    6.400000e+01  1.540000e+02  3.300000e+02  \n",
       "fea1_hash   2.490131e+09  3.062465e+09  4.291920e+09  \n",
       "cus_type    6.580000e+02  1.019000e+03  1.380000e+03  "
      ]
     },
     "execution_count": 6,
     "metadata": {},
     "output_type": "execute_result"
    }
   ],
   "source": [
    "train.describe().T"
   ]
  },
  {
   "cell_type": "code",
   "execution_count": 7,
   "metadata": {
    "ExecuteTime": {
     "end_time": "2020-06-03T13:50:20.396745Z",
     "start_time": "2020-06-03T13:50:20.152883Z"
    }
   },
   "outputs": [
    {
     "data": {
      "text/html": [
       "<div>\n",
       "<style scoped>\n",
       "    .dataframe tbody tr th:only-of-type {\n",
       "        vertical-align: middle;\n",
       "    }\n",
       "\n",
       "    .dataframe tbody tr th {\n",
       "        vertical-align: top;\n",
       "    }\n",
       "\n",
       "    .dataframe thead th {\n",
       "        text-align: right;\n",
       "    }\n",
       "</style>\n",
       "<table border=\"1\" class=\"dataframe\">\n",
       "  <thead>\n",
       "    <tr style=\"text-align: right;\">\n",
       "      <th></th>\n",
       "      <th>count</th>\n",
       "      <th>mean</th>\n",
       "      <th>std</th>\n",
       "      <th>min</th>\n",
       "      <th>25%</th>\n",
       "      <th>50%</th>\n",
       "      <th>75%</th>\n",
       "      <th>max</th>\n",
       "    </tr>\n",
       "  </thead>\n",
       "  <tbody>\n",
       "    <tr>\n",
       "      <th>apptype</th>\n",
       "      <td>150000.0</td>\n",
       "      <td>9.859133e+02</td>\n",
       "      <td>1.291269e+02</td>\n",
       "      <td>95.0</td>\n",
       "      <td>9.170000e+02</td>\n",
       "      <td>1.001000e+03</td>\n",
       "      <td>1.076000e+03</td>\n",
       "      <td>1.241000e+03</td>\n",
       "    </tr>\n",
       "    <tr>\n",
       "      <th>carrier</th>\n",
       "      <td>130481.0</td>\n",
       "      <td>1.249055e+00</td>\n",
       "      <td>5.794975e-01</td>\n",
       "      <td>1.0</td>\n",
       "      <td>1.000000e+00</td>\n",
       "      <td>1.000000e+00</td>\n",
       "      <td>1.000000e+00</td>\n",
       "      <td>3.000000e+00</td>\n",
       "    </tr>\n",
       "    <tr>\n",
       "      <th>dev_height</th>\n",
       "      <td>117801.0</td>\n",
       "      <td>NaN</td>\n",
       "      <td>NaN</td>\n",
       "      <td>1.0</td>\n",
       "      <td>9.600000e+02</td>\n",
       "      <td>1.920000e+03</td>\n",
       "      <td>2.160000e+03</td>\n",
       "      <td>8.512000e+03</td>\n",
       "    </tr>\n",
       "    <tr>\n",
       "      <th>dev_ppi</th>\n",
       "      <td>34667.0</td>\n",
       "      <td>inf</td>\n",
       "      <td>inf</td>\n",
       "      <td>1.0</td>\n",
       "      <td>3.000000e+00</td>\n",
       "      <td>4.800000e+02</td>\n",
       "      <td>4.800000e+02</td>\n",
       "      <td>6.400000e+02</td>\n",
       "    </tr>\n",
       "    <tr>\n",
       "      <th>dev_width</th>\n",
       "      <td>117801.0</td>\n",
       "      <td>NaN</td>\n",
       "      <td>NaN</td>\n",
       "      <td>50.0</td>\n",
       "      <td>7.200000e+02</td>\n",
       "      <td>1.080000e+03</td>\n",
       "      <td>1.080000e+03</td>\n",
       "      <td>9.024000e+03</td>\n",
       "    </tr>\n",
       "    <tr>\n",
       "      <th>lan</th>\n",
       "      <td>94451.0</td>\n",
       "      <td>1.002488e+00</td>\n",
       "      <td>1.149684e-01</td>\n",
       "      <td>1.0</td>\n",
       "      <td>1.000000e+00</td>\n",
       "      <td>1.000000e+00</td>\n",
       "      <td>1.000000e+00</td>\n",
       "      <td>1.000000e+01</td>\n",
       "    </tr>\n",
       "    <tr>\n",
       "      <th>ntt</th>\n",
       "      <td>143818.0</td>\n",
       "      <td>NaN</td>\n",
       "      <td>0.000000e+00</td>\n",
       "      <td>2.0</td>\n",
       "      <td>2.000000e+00</td>\n",
       "      <td>2.000000e+00</td>\n",
       "      <td>5.000000e+00</td>\n",
       "      <td>7.000000e+00</td>\n",
       "    </tr>\n",
       "    <tr>\n",
       "      <th>osv</th>\n",
       "      <td>148007.0</td>\n",
       "      <td>7.385583e+00</td>\n",
       "      <td>1.437236e+00</td>\n",
       "      <td>2.0</td>\n",
       "      <td>6.000000e+00</td>\n",
       "      <td>8.000000e+00</td>\n",
       "      <td>8.000000e+00</td>\n",
       "      <td>1.100000e+01</td>\n",
       "    </tr>\n",
       "    <tr>\n",
       "      <th>version</th>\n",
       "      <td>150000.0</td>\n",
       "      <td>2.215973e+00</td>\n",
       "      <td>3.047393e+00</td>\n",
       "      <td>0.0</td>\n",
       "      <td>0.000000e+00</td>\n",
       "      <td>0.000000e+00</td>\n",
       "      <td>5.000000e+00</td>\n",
       "      <td>1.500000e+01</td>\n",
       "    </tr>\n",
       "    <tr>\n",
       "      <th>location</th>\n",
       "      <td>150000.0</td>\n",
       "      <td>9.612893e+01</td>\n",
       "      <td>8.554042e+01</td>\n",
       "      <td>-1.0</td>\n",
       "      <td>2.300000e+01</td>\n",
       "      <td>6.400000e+01</td>\n",
       "      <td>1.550000e+02</td>\n",
       "      <td>3.300000e+02</td>\n",
       "    </tr>\n",
       "    <tr>\n",
       "      <th>fea1_hash</th>\n",
       "      <td>150000.0</td>\n",
       "      <td>2.302999e+09</td>\n",
       "      <td>1.238306e+09</td>\n",
       "      <td>1630762.0</td>\n",
       "      <td>1.376752e+09</td>\n",
       "      <td>2.490131e+09</td>\n",
       "      <td>3.095200e+09</td>\n",
       "      <td>4.291346e+09</td>\n",
       "    </tr>\n",
       "    <tr>\n",
       "      <th>cus_type</th>\n",
       "      <td>150000.0</td>\n",
       "      <td>7.291384e+02</td>\n",
       "      <td>3.313932e+02</td>\n",
       "      <td>297.0</td>\n",
       "      <td>4.110000e+02</td>\n",
       "      <td>6.580000e+02</td>\n",
       "      <td>1.019000e+03</td>\n",
       "      <td>1.380000e+03</td>\n",
       "    </tr>\n",
       "  </tbody>\n",
       "</table>\n",
       "</div>"
      ],
      "text/plain": [
       "               count          mean           std        min           25%  \\\n",
       "apptype     150000.0  9.859133e+02  1.291269e+02       95.0  9.170000e+02   \n",
       "carrier     130481.0  1.249055e+00  5.794975e-01        1.0  1.000000e+00   \n",
       "dev_height  117801.0           NaN           NaN        1.0  9.600000e+02   \n",
       "dev_ppi      34667.0           inf           inf        1.0  3.000000e+00   \n",
       "dev_width   117801.0           NaN           NaN       50.0  7.200000e+02   \n",
       "lan          94451.0  1.002488e+00  1.149684e-01        1.0  1.000000e+00   \n",
       "ntt         143818.0           NaN  0.000000e+00        2.0  2.000000e+00   \n",
       "osv         148007.0  7.385583e+00  1.437236e+00        2.0  6.000000e+00   \n",
       "version     150000.0  2.215973e+00  3.047393e+00        0.0  0.000000e+00   \n",
       "location    150000.0  9.612893e+01  8.554042e+01       -1.0  2.300000e+01   \n",
       "fea1_hash   150000.0  2.302999e+09  1.238306e+09  1630762.0  1.376752e+09   \n",
       "cus_type    150000.0  7.291384e+02  3.313932e+02      297.0  4.110000e+02   \n",
       "\n",
       "                     50%           75%           max  \n",
       "apptype     1.001000e+03  1.076000e+03  1.241000e+03  \n",
       "carrier     1.000000e+00  1.000000e+00  3.000000e+00  \n",
       "dev_height  1.920000e+03  2.160000e+03  8.512000e+03  \n",
       "dev_ppi     4.800000e+02  4.800000e+02  6.400000e+02  \n",
       "dev_width   1.080000e+03  1.080000e+03  9.024000e+03  \n",
       "lan         1.000000e+00  1.000000e+00  1.000000e+01  \n",
       "ntt         2.000000e+00  5.000000e+00  7.000000e+00  \n",
       "osv         8.000000e+00  8.000000e+00  1.100000e+01  \n",
       "version     0.000000e+00  5.000000e+00  1.500000e+01  \n",
       "location    6.400000e+01  1.550000e+02  3.300000e+02  \n",
       "fea1_hash   2.490131e+09  3.095200e+09  4.291346e+09  \n",
       "cus_type    6.580000e+02  1.019000e+03  1.380000e+03  "
      ]
     },
     "execution_count": 7,
     "metadata": {},
     "output_type": "execute_result"
    }
   ],
   "source": [
    "test1.describe().T"
   ]
  },
  {
   "cell_type": "code",
   "execution_count": 8,
   "metadata": {
    "ExecuteTime": {
     "end_time": "2020-06-03T13:50:20.414732Z",
     "start_time": "2020-06-03T13:50:20.400741Z"
    }
   },
   "outputs": [
    {
     "data": {
      "text/plain": [
       "array([  2.,   3.,  nan, 480., 420., 320., 326., 440., 240., 640., 540.,\n",
       "       200., 160., 408., 560., 400., 270., 220., 210., 213., 272.,   1.,\n",
       "       432., 250.,   4., 360., 230., 299., 120., 277., 490., 356., 265.,\n",
       "       128., 393., 140., 380., 374., 500., 236., 273., 460., 292., 402.,\n",
       "       300., 115., 293., 260., 280., 423., 347., 425.,  20., 322., 288.,\n",
       "       409., 113., 369.])"
      ]
     },
     "execution_count": 8,
     "metadata": {},
     "output_type": "execute_result"
    }
   ],
   "source": [
    "test1['dev_ppi'].unique()"
   ]
  },
  {
   "cell_type": "markdown",
   "metadata": {},
   "source": [
    "## 单个特征列nunique分布\n",
    "\n",
    "1. ID变量\n",
    "\n",
    "id_feat = ['sid', 'android_id', 'media_id']\n",
    "\n",
    "2. 类别变量\n",
    "\n",
    "categorical_feat = ['carrier', 'apptype', 'lan', 'ntt', 'osv', 'package', 'version', 'location', 'cus_type']\n",
    "\n",
    "3. 数值变量\n",
    "\n",
    "numeric_feat = ['dev_height', 'dev_width', 'dev_ppi', 'fea_hash', 'fea1_hash']\n",
    "\n",
    "4. 时间变量\n",
    "\n",
    "time_feat = ['timestamp']"
   ]
  },
  {
   "cell_type": "markdown",
   "metadata": {},
   "source": [
    "哑变量：\n",
    "\n",
    "categorical_feat = ['carrier', 'apptype', 'lan', 'ntt', 'osv', 'version', 'cus_type']"
   ]
  },
  {
   "cell_type": "code",
   "execution_count": 9,
   "metadata": {
    "ExecuteTime": {
     "end_time": "2020-06-03T13:50:22.212759Z",
     "start_time": "2020-06-03T13:50:20.416732Z"
    }
   },
   "outputs": [
    {
     "data": {
      "text/plain": [
       "label              2\n",
       "carrier            3\n",
       "ntt                7\n",
       "lan               10\n",
       "osv               11\n",
       "version           13\n",
       "cus_type          58\n",
       "apptype           89\n",
       "dev_ppi           91\n",
       "media_id         284\n",
       "dev_width        324\n",
       "location         332\n",
       "dev_height       746\n",
       "package         1950\n",
       "timestamp       4615\n",
       "fea1_hash       4959\n",
       "android_id    362258\n",
       "fea_hash      402980\n",
       "sid           500000\n",
       "dtype: int64"
      ]
     },
     "execution_count": 9,
     "metadata": {},
     "output_type": "execute_result"
    }
   ],
   "source": [
    "train.nunique().sort_values()"
   ]
  },
  {
   "cell_type": "code",
   "execution_count": 10,
   "metadata": {
    "ExecuteTime": {
     "end_time": "2020-06-03T13:50:22.748454Z",
     "start_time": "2020-06-03T13:50:22.215760Z"
    }
   },
   "outputs": [
    {
     "data": {
      "text/plain": [
       "carrier            3\n",
       "ntt                6\n",
       "lan                7\n",
       "osv                9\n",
       "version           13\n",
       "dev_ppi           57\n",
       "cus_type          58\n",
       "apptype           78\n",
       "dev_width        221\n",
       "media_id         248\n",
       "location         332\n",
       "dev_height       560\n",
       "package         1293\n",
       "fea1_hash       2159\n",
       "timestamp       4615\n",
       "android_id    110483\n",
       "fea_hash      135084\n",
       "sid           150000\n",
       "dtype: int64"
      ]
     },
     "execution_count": 10,
     "metadata": {},
     "output_type": "execute_result"
    }
   ],
   "source": [
    "test1.nunique().sort_values()"
   ]
  },
  {
   "cell_type": "markdown",
   "metadata": {},
   "source": [
    "### 设备使用的运营商 0-未知, 46000-移动, 46001-联通, 46003-电信"
   ]
  },
  {
   "cell_type": "code",
   "execution_count": 11,
   "metadata": {
    "ExecuteTime": {
     "end_time": "2020-06-03T13:50:33.706969Z",
     "start_time": "2020-06-03T13:50:22.758450Z"
    }
   },
   "outputs": [
    {
     "data": {
      "text/plain": [
       "<matplotlib.axes._subplots.AxesSubplot at 0x2334841e780>"
      ]
     },
     "execution_count": 11,
     "metadata": {},
     "output_type": "execute_result"
    },
    {
     "data": {
      "image/png": "[encoded data removed]",
      "text/plain": [
       "<Figure size 432x288 with 1 Axes>"
      ]
     },
     "metadata": {
      "needs_background": "light"
     },
     "output_type": "display_data"
    }
   ],
   "source": [
    "sns.barplot(x='carrier', y='label',\n",
    "            data=train)"
   ]
  },
  {
   "cell_type": "markdown",
   "metadata": {},
   "source": [
    "### 媒体信息，app所属分类"
   ]
  },
  {
   "cell_type": "code",
   "execution_count": 12,
   "metadata": {
    "ExecuteTime": {
     "end_time": "2020-06-03T13:50:45.226017Z",
     "start_time": "2020-06-03T13:50:33.708967Z"
    },
    "scrolled": true
   },
   "outputs": [
    {
     "data": {
      "text/plain": [
       "<matplotlib.axes._subplots.AxesSubplot at 0x23348130be0>"
      ]
     },
     "execution_count": 12,
     "metadata": {},
     "output_type": "execute_result"
    },
    {
     "data": {
      "image/png": "[encoded data removed]",
      "text/plain": [
       "<Figure size 432x288 with 1 Axes>"
      ]
     },
     "metadata": {
      "needs_background": "light"
     },
     "output_type": "display_data"
    }
   ],
   "source": [
    "sns.barplot(x='apptype', y='label',\n",
    "            data=train)"
   ]
  },
  {
   "cell_type": "markdown",
   "metadata": {},
   "source": [
    "### 设备采用的语言，默认为中文"
   ]
  },
  {
   "cell_type": "code",
   "execution_count": 13,
   "metadata": {
    "ExecuteTime": {
     "end_time": "2020-06-03T13:50:54.326516Z",
     "start_time": "2020-06-03T13:50:45.228015Z"
    }
   },
   "outputs": [
    {
     "data": {
      "text/plain": [
       "<matplotlib.axes._subplots.AxesSubplot at 0x23346618cc0>"
      ]
     },
     "execution_count": 13,
     "metadata": {},
     "output_type": "execute_result"
    },
    {
     "data": {
      "image/png": "[encoded data removed]",
      "text/plain": [
       "<Figure size 432x288 with 1 Axes>"
      ]
     },
     "metadata": {
      "needs_background": "light"
     },
     "output_type": "display_data"
    }
   ],
   "source": [
    "sns.barplot(x='lan', y='label',\n",
    "            data=train)"
   ]
  },
  {
   "cell_type": "markdown",
   "metadata": {},
   "source": [
    "### 网络类型 0-未知, 1-有线网, 2-WIFI, 3-蜂窝网络未知, 4-2G, 5-3G, 6–4G"
   ]
  },
  {
   "cell_type": "code",
   "execution_count": 14,
   "metadata": {
    "ExecuteTime": {
     "end_time": "2020-06-03T13:51:06.782849Z",
     "start_time": "2020-06-03T13:50:54.328517Z"
    }
   },
   "outputs": [
    {
     "data": {
      "text/plain": [
       "<matplotlib.axes._subplots.AxesSubplot at 0x2334670cc18>"
      ]
     },
     "execution_count": 14,
     "metadata": {},
     "output_type": "execute_result"
    },
    {
     "data": {
      "image/png": "[encoded data removed]",
      "text/plain": [
       "<Figure size 432x288 with 1 Axes>"
      ]
     },
     "metadata": {
      "needs_background": "light"
     },
     "output_type": "display_data"
    }
   ],
   "source": [
    "sns.barplot(x='ntt', y='label',\n",
    "            data=train)"
   ]
  },
  {
   "cell_type": "markdown",
   "metadata": {},
   "source": [
    "### 操作系统版本"
   ]
  },
  {
   "cell_type": "code",
   "execution_count": 15,
   "metadata": {
    "ExecuteTime": {
     "end_time": "2020-06-03T13:51:14.628672Z",
     "start_time": "2020-06-03T13:51:06.785847Z"
    }
   },
   "outputs": [
    {
     "data": {
      "text/plain": [
       "<matplotlib.axes._subplots.AxesSubplot at 0x2334678bf28>"
      ]
     },
     "execution_count": 15,
     "metadata": {},
     "output_type": "execute_result"
    },
    {
     "data": {
      "image/png": "[encoded data removed]",
      "text/plain": [
       "<Figure size 432x288 with 1 Axes>"
      ]
     },
     "metadata": {
      "needs_background": "light"
     },
     "output_type": "display_data"
    }
   ],
   "source": [
    "sns.barplot(x='osv', y='label',\n",
    "            data=train)"
   ]
  },
  {
   "cell_type": "markdown",
   "metadata": {},
   "source": [
    "### 媒体信息，包名（已加密）"
   ]
  },
  {
   "cell_type": "code",
   "execution_count": 16,
   "metadata": {
    "ExecuteTime": {
     "end_time": "2020-06-03T13:51:14.635667Z",
     "start_time": "2020-06-03T13:51:14.631671Z"
    }
   },
   "outputs": [],
   "source": [
    "# sns.barplot(x='package', y='label',\n",
    "#             data=train)"
   ]
  },
  {
   "cell_type": "markdown",
   "metadata": {},
   "source": [
    "### 媒体信息，app版本"
   ]
  },
  {
   "cell_type": "code",
   "execution_count": 17,
   "metadata": {
    "ExecuteTime": {
     "end_time": "2020-06-03T13:51:26.703506Z",
     "start_time": "2020-06-03T13:51:14.638666Z"
    }
   },
   "outputs": [
    {
     "data": {
      "text/plain": [
       "<matplotlib.axes._subplots.AxesSubplot at 0x2334681e828>"
      ]
     },
     "execution_count": 17,
     "metadata": {},
     "output_type": "execute_result"
    },
    {
     "data": {
      "image/png": "[encoded data removed]",
      "text/plain": [
       "<Figure size 432x288 with 1 Axes>"
      ]
     },
     "metadata": {
      "needs_background": "light"
     },
     "output_type": "display_data"
    }
   ],
   "source": [
    "sns.barplot(x='version', y='label',\n",
    "            data=train)"
   ]
  },
  {
   "cell_type": "markdown",
   "metadata": {},
   "source": [
    "### 用户特征编码（具体物理含义略去）"
   ]
  },
  {
   "cell_type": "code",
   "execution_count": 18,
   "metadata": {
    "ExecuteTime": {
     "end_time": "2020-06-03T13:51:26.710500Z",
     "start_time": "2020-06-03T13:51:26.705504Z"
    }
   },
   "outputs": [],
   "source": [
    "# sns.barplot(x='fea_hash', y='label',\n",
    "#             data=train)"
   ]
  },
  {
   "cell_type": "markdown",
   "metadata": {},
   "source": [
    "### 用户特征编码（具体物理含义略去）"
   ]
  },
  {
   "cell_type": "code",
   "execution_count": 19,
   "metadata": {
    "ExecuteTime": {
     "end_time": "2020-06-03T13:51:26.722493Z",
     "start_time": "2020-06-03T13:51:26.713499Z"
    }
   },
   "outputs": [],
   "source": [
    "# sns.barplot(x='fea1_hash', y='label',\n",
    "#             data=train)"
   ]
  },
  {
   "cell_type": "markdown",
   "metadata": {},
   "source": [
    "### 用户地理位置编码（精确到城市）"
   ]
  },
  {
   "cell_type": "code",
   "execution_count": 20,
   "metadata": {
    "ExecuteTime": {
     "end_time": "2020-06-03T13:51:26.730489Z",
     "start_time": "2020-06-03T13:51:26.726491Z"
    }
   },
   "outputs": [],
   "source": [
    "# sns.barplot(x='location', y='label',\n",
    "#             data=train)"
   ]
  },
  {
   "cell_type": "markdown",
   "metadata": {},
   "source": [
    "### 用户特征编码（具体物理含义略去）"
   ]
  },
  {
   "cell_type": "code",
   "execution_count": 21,
   "metadata": {
    "ExecuteTime": {
     "end_time": "2020-06-03T13:51:39.812297Z",
     "start_time": "2020-06-03T13:51:26.735486Z"
    }
   },
   "outputs": [
    {
     "data": {
      "text/plain": [
       "<matplotlib.axes._subplots.AxesSubplot at 0x23343642208>"
      ]
     },
     "execution_count": 21,
     "metadata": {},
     "output_type": "execute_result"
    },
    {
     "data": {
      "image/png": "[encoded data removed]",
      "text/plain": [
       "<Figure size 432x288 with 1 Axes>"
      ]
     },
     "metadata": {
      "needs_background": "light"
     },
     "output_type": "display_data"
    }
   ],
   "source": [
    "sns.barplot(x='cus_type', y='label',\n",
    "            data=train)"
   ]
  }
 ],
 "metadata": {
  "kernelspec": {
   "display_name": "Python 3",
   "language": "python",
   "name": "python3"
  },
  "language_info": {
   "codemirror_mode": {
    "name": "ipython",
    "version": 3
   },
   "file_extension": ".py",
   "mimetype": "text/x-python",
   "name": "python",
   "nbconvert_exporter": "python",
   "pygments_lexer": "ipython3",
   "version": "3.7.3"
  },
  "toc": {
   "base_numbering": 1,
   "nav_menu": {},
   "number_sections": true,
   "sideBar": true,
   "skip_h1_title": false,
   "title_cell": "Table of Contents",
   "title_sidebar": "Contents",
   "toc_cell": false,
   "toc_position": {},
   "toc_section_display": true,
   "toc_window_display": false
  },
  "varInspector": {
   "cols": {
    "lenName": 16,
    "lenType": 16,
    "lenVar": 40
   },
   "kernels_config": {
    "python": {
     "delete_cmd_postfix": "",
     "delete_cmd_prefix": "del ",
     "library": "var_list.py",
     "varRefreshCmd": "print(var_dic_list())"
    },
    "r": {
     "delete_cmd_postfix": ") ",
     "delete_cmd_prefix": "rm(",
     "library": "var_list.r",
     "varRefreshCmd": "cat(var_dic_list()) "
    }
   },
   "types_to_exclude": [
    "module",
    "function",
    "builtin_function_or_method",
    "instance",
    "_Feature"
   ],
   "window_display": false
  }
 },
 "nbformat": 4,
 "nbformat_minor": 4
}
